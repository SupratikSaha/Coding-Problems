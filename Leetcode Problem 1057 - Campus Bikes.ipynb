{
 "cells": [
  {
   "cell_type": "markdown",
   "metadata": {},
   "source": [
    "Problem Statement.\n",
    "\n",
    "On a campus represented as a 2D grid, there are N workers and M bikes, with N <= M. Each worker and bike is a 2D coordinate on this grid.\n",
    "\n",
    "Our goal is to assign a bike to each worker. Among the available bikes and workers, we choose the (worker, bike) pair with the shortest Manhattan distance between each other, and assign the bike to that worker. (If there are multiple (worker, bike) pairs with the same shortest Manhattan distance, we choose the pair with the smallest worker index; if there are multiple ways to do that, we choose the pair with the smallest bike index). We repeat this process until there are no available workers.\n",
    "\n",
    "The Manhattan distance between two points p1 and p2 is Manhattan(p1, p2) = |p1.x - p2.x| + |p1.y - p2.y|.\n",
    "\n",
    "Return a vector ans of length N, where ans[i] is the index (0-indexed) of the bike that the i-th worker is assigned to.\n",
    "\n",
    " \n",
    "\n",
    "Example 1:\n",
    "\n",
    "Input: workers = [[0,0],[2,1]], bikes = [[1,2],[3,3]]\n",
    "Output: [1,0]\n",
    "Explanation: \n",
    "Worker 1 grabs Bike 0 as they are closest (without ties), and Worker 0 is assigned Bike 1. So the output is [1, 0].\n",
    "\n",
    "Example 2:\n",
    "\n",
    "Input: workers = [[0,0],[1,1],[2,0]], bikes = [[1,0],[2,2],[2,1]]\n",
    "Output: [0,2,1]\n",
    "Explanation: \n",
    "Worker 0 grabs Bike 0 at first. Worker 1 and Worker 2 share the same distance to Bike 2, thus Worker 1 is assigned to Bike 2, and Worker 2 will take Bike 1. So the output is [0,2,1].\n",
    "\n",
    " \n",
    "\n",
    "Note:\n",
    "\n",
    "    0 <= workers[i][j], bikes[i][j] < 1000\n",
    "    All worker and bike locations are distinct.\n",
    "    1 <= workers.length <= bikes.length <= 1000"
   ]
  },
  {
   "cell_type": "markdown",
   "metadata": {},
   "source": [
    "# Sort - O(M * N * Log MN) runtime, O(M * N) space"
   ]
  },
  {
   "cell_type": "code",
   "execution_count": 1,
   "metadata": {},
   "outputs": [],
   "source": [
    "from typing import List\n",
    "from collections import deque\n",
    "\n",
    "class Solution:\n",
    "    def assignBikes(self, workers: List[List[int]], bikes: List[List[int]]) -> List[int]:\n",
    "        n = len(workers)\n",
    "        matches = []\n",
    "        \n",
    "        for i, worker in enumerate(workers):\n",
    "            for j, bike in enumerate(bikes):\n",
    "                dist = abs(worker[0] - bike[0]) + abs(worker[1] - bike[1])\n",
    "                matches.append((dist, i, j))\n",
    "                \n",
    "        \n",
    "        matches = deque(sorted(matches))\n",
    "        result = [None] * n\n",
    "        bookedBikes = set()\n",
    "        count = 0\n",
    "\n",
    "        while count < n and matches:\n",
    "            dist, i, j = matches.popleft()\n",
    "            if result[i] is None and j not in bookedBikes:\n",
    "                result[i] = j\n",
    "                bookedBikes.add(j)\n",
    "                count += 1\n",
    "                \n",
    "        return result"
   ]
  },
  {
   "cell_type": "markdown",
   "metadata": {},
   "source": [
    "# Sort and heap - O(M * (N + Log M)) runtime, O(M * N) space"
   ]
  },
  {
   "cell_type": "code",
   "execution_count": 3,
   "metadata": {},
   "outputs": [],
   "source": [
    "from typing import List\n",
    "from heapq import heapify, heappush, heappop\n",
    "\n",
    "class Solution:\n",
    "    def assignBikes(self, workers: List[List[int]], bikes: List[List[int]]) -> List[int]:\n",
    "        w_b_distance = []\n",
    "\n",
    "        for i, (wx,wy) in enumerate(workers):\n",
    "            w_distance = []\n",
    "            for j, (bx, by) in enumerate(bikes):\n",
    "                distance = abs(wx-bx) + abs(wy-by)\n",
    "                w_distance.append((distance,  i, j)) \n",
    "            w_distance.sort(reverse=True)\n",
    "            w_b_distance.append(w_distance) \n",
    "            \n",
    "        result = [None] * len(workers) \n",
    "        closest_bike_each_worker = [w_b_distance[i].pop() for i in range(len(workers))]\n",
    "        used_bikes = set() \n",
    "        heapify(closest_bike_each_worker) \n",
    "        \n",
    "        while len(used_bikes) < len(workers):\n",
    "            d, w, b = heappop(closest_bike_each_worker)\n",
    "                                    \n",
    "            if b not in used_bikes:\n",
    "                result[w] = b\n",
    "                used_bikes.add(b)\n",
    "            else:\n",
    "                heappush(closest_bike_each_worker, w_b_distance[w].pop())                           \n",
    "        return result"
   ]
  },
  {
   "cell_type": "code",
   "execution_count": 4,
   "metadata": {},
   "outputs": [
    {
     "data": {
      "text/plain": [
       "[1, 0]"
      ]
     },
     "execution_count": 4,
     "metadata": {},
     "output_type": "execute_result"
    }
   ],
   "source": [
    "instance = Solution()\n",
    "instance.assignBikes( [[0,0],[2,1]], [[1,2],[3,3]])"
   ]
  }
 ],
 "metadata": {
  "kernelspec": {
   "display_name": "Python 3",
   "language": "python",
   "name": "python3"
  },
  "language_info": {
   "codemirror_mode": {
    "name": "ipython",
    "version": 3
   },
   "file_extension": ".py",
   "mimetype": "text/x-python",
   "name": "python",
   "nbconvert_exporter": "python",
   "pygments_lexer": "ipython3",
   "version": "3.7.3"
  }
 },
 "nbformat": 4,
 "nbformat_minor": 2
}
