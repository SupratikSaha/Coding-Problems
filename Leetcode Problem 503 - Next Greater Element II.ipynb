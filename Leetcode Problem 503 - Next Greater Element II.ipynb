{
 "cells": [
  {
   "cell_type": "markdown",
   "metadata": {},
   "source": [
    "    Problem Statement.\n",
    "\n",
    "    Given a circular array (the next element of the last element is the first element of the array), print the Next Greater Number for every element. The Next Greater Number of a number x is the first greater number to its traversing-order next in the array, which means you could search circularly to find its next greater number. If it doesn't exist, output -1 for this number.\n",
    "\n",
    "    Example 1:\n",
    "\n",
    "    Input: [1,2,1]\n",
    "    Output: [2,-1,2]\n",
    "    Explanation: The first 1's next greater number is 2; \n",
    "    The number 2 can't find next greater number; \n",
    "    The second 1's next greater number needs to search circularly, which is also 2.\n",
    "\n",
    "    Note: The length of given array won't exceed 10000. "
   ]
  },
  {
   "cell_type": "markdown",
   "metadata": {},
   "source": [
    "# Stack - O(N) runtime, O(1) space"
   ]
  },
  {
   "cell_type": "code",
   "execution_count": 1,
   "metadata": {},
   "outputs": [],
   "source": [
    "from typing import List\n",
    "\n",
    "class Solution:\n",
    "    def nextGreaterElements(self, nums: List[int]) -> List[int]:\n",
    "        n = len(nums)\n",
    "        res = [-1] * n\n",
    "        stack = []\n",
    "        \n",
    "        for i in range(2*n - 1, -1, -1):\n",
    "            while stack and nums[stack[-1]] <= nums[i % n]:\n",
    "                stack.pop()\n",
    "                \n",
    "            res[i % n] = nums[stack[-1]] if stack else -1\n",
    "            \n",
    "            stack.append(i % n)\n",
    "            \n",
    "        return res"
   ]
  },
  {
   "cell_type": "code",
   "execution_count": 2,
   "metadata": {},
   "outputs": [
    {
     "data": {
      "text/plain": [
       "[7, -1, 5, 7, 4]"
      ]
     },
     "execution_count": 2,
     "metadata": {},
     "output_type": "execute_result"
    }
   ],
   "source": [
    "instance = Solution()\n",
    "instance.nextGreaterElements([4,7,2,5,3])"
   ]
  }
 ],
 "metadata": {
  "kernelspec": {
   "display_name": "Python 3",
   "language": "python",
   "name": "python3"
  },
  "language_info": {
   "codemirror_mode": {
    "name": "ipython",
    "version": 3
   },
   "file_extension": ".py",
   "mimetype": "text/x-python",
   "name": "python",
   "nbconvert_exporter": "python",
   "pygments_lexer": "ipython3",
   "version": "3.7.3"
  }
 },
 "nbformat": 4,
 "nbformat_minor": 2
}
