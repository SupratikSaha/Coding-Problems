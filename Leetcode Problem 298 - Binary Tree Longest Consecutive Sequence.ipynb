{
 "cells": [
  {
   "cell_type": "markdown",
   "metadata": {},
   "source": [
    "Problem Statement.\n",
    "\n",
    "Given the root of a binary tree, return the length of the longest consecutive sequence path.\n",
    "\n",
    "The path refers to any sequence of nodes from some starting node to any node in the tree along the parent-child connections. The longest consecutive path needs to be from parent to child (cannot be the reverse).\n",
    "\n",
    " \n",
    "\n",
    "Example 1:\n",
    "\n",
    "Input: root = [1,null,3,2,4,null,null,null,5]\n",
    "Output: 3\n",
    "Explanation: Longest consecutive sequence path is 3-4-5, so return 3.\n",
    "\n",
    "Example 2:\n",
    "\n",
    "Input: root = [2,null,3,2,null,1]\n",
    "Output: 2\n",
    "Explanation: Longest consecutive sequence path is 2-3, not 3-2-1, so return 2.\n",
    "\n",
    " \n",
    "\n",
    "Constraints:\n",
    "\n",
    "    The number of nodes in the tree is in the range [1, 3 * 104].\n",
    "    -3 * 104 <= Node.val <= 3 * 104"
   ]
  },
  {
   "cell_type": "markdown",
   "metadata": {},
   "source": [
    "# DFS - O(N) runtime, O(N) space"
   ]
  },
  {
   "cell_type": "code",
   "execution_count": 1,
   "metadata": {},
   "outputs": [],
   "source": [
    "# Definition for a binary tree node.\n",
    "# class TreeNode:\n",
    "#     def __init__(self, val=0, left=None, right=None):\n",
    "#         self.val = val\n",
    "#         self.left = left\n",
    "#         self.right = right\n",
    "        \n",
    "class Solution:\n",
    "    def longestConsecutive(self, root: TreeNode) -> int:\n",
    "        \n",
    "        def getLongestConsecutive(root: TreeNode, currLength: int) -> int:\n",
    "            nonlocal longestConsecutive\n",
    "            if not root: return\n",
    "            \n",
    "            longestConsecutive = max(longestConsecutive, currLength)\n",
    "            \n",
    "            if root.left: \n",
    "                if root.left.val == root.val + 1:\n",
    "                    getLongestConsecutive(root.left, currLength + 1)\n",
    "                else:\n",
    "                    getLongestConsecutive(root.left, 1)\n",
    "                    \n",
    "            if root.right: \n",
    "                if root.right.val == root.val + 1:\n",
    "                    getLongestConsecutive(root.right, currLength + 1)\n",
    "                else:\n",
    "                    getLongestConsecutive(root.right, 1)\n",
    "            \n",
    "        \n",
    "        longestConsecutive = 0\n",
    "        getLongestConsecutive(root, 1)\n",
    "        return longestConsecutive"
   ]
  },
  {
   "cell_type": "markdown",
   "metadata": {},
   "source": [
    "# More elegant DFS - O(N) runtime, O(N) space"
   ]
  },
  {
   "cell_type": "code",
   "execution_count": 2,
   "metadata": {},
   "outputs": [],
   "source": [
    "# Definition for a binary tree node.\n",
    "# class TreeNode:\n",
    "#     def __init__(self, val=0, left=None, right=None):\n",
    "#         self.val = val\n",
    "#         self.left = left\n",
    "#         self.right = right\n",
    "class Solution:\n",
    "    def longestConsecutive(self, root: TreeNode) -> int:\n",
    "        \n",
    "        def getLongestConsecutive(node: TreeNode, parent: TreeNode, length: int) -> int:\n",
    "            if not node: return length\n",
    "            \n",
    "            length = length + 1 if parent and node.val == parent.val + 1 else 1\n",
    "            \n",
    "            return max(length, getLongestConsecutive(node.left, node, length), \n",
    "                       getLongestConsecutive(node.right, node, length))\n",
    "        \n",
    "        return getLongestConsecutive(root, None, 0)"
   ]
  }
 ],
 "metadata": {
  "kernelspec": {
   "display_name": "Python 3",
   "language": "python",
   "name": "python3"
  },
  "language_info": {
   "codemirror_mode": {
    "name": "ipython",
    "version": 3
   },
   "file_extension": ".py",
   "mimetype": "text/x-python",
   "name": "python",
   "nbconvert_exporter": "python",
   "pygments_lexer": "ipython3",
   "version": "3.7.3"
  }
 },
 "nbformat": 4,
 "nbformat_minor": 2
}
