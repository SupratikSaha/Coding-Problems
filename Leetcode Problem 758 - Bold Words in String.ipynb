{
 "cells": [
  {
   "cell_type": "markdown",
   "metadata": {},
   "source": [
    "Problem Statement.\n",
    "\n",
    "Given a set of keywords words and a string S, make all appearances of all keywords in S bold. Any letters between <b> and </b> tags become bold.\n",
    "\n",
    "The returned string should use the least number of tags possible, and of course the tags should form a valid combination.\n",
    "\n",
    "For example, given that words = [\"ab\", \"bc\"] and S = \"aabcd\", we should return \"a<b>abc</b>d\". Note that returning \"a<b>a<b>b</b>c</b>d\" would use more tags, so it is incorrect.\n",
    "\n",
    "Constraints:\n",
    "\n",
    "    words has length in range [0, 50].\n",
    "    words[i] has length in range [1, 10].\n",
    "    S has length in range [0, 500].\n",
    "    All characters in words[i] and S are lowercase letters."
   ]
  },
  {
   "cell_type": "markdown",
   "metadata": {},
   "source": [
    "# Sliding Window - O(S ^ 2 * W) runtime, O(S + W) space"
   ]
  },
  {
   "cell_type": "code",
   "execution_count": 1,
   "metadata": {},
   "outputs": [],
   "source": [
    "from typing import List\n",
    "from collections import defaultdict\n",
    "\n",
    "class Solution:\n",
    "    def boldWords(self, words: List[str], S: str) -> str:\n",
    "        charDict = defaultdict(set)\n",
    "        \n",
    "        for word in words:\n",
    "            charDict[word[0]].add((word, len(word)))\n",
    "            \n",
    "        resultList = []\n",
    "        currStart, currEnd = None, -1\n",
    "        \n",
    "        for i, char in enumerate(S):\n",
    "            if char in charDict:\n",
    "                for word, l in charDict[char]:\n",
    "                    if S[i:i+l] == word:\n",
    "                        if currStart is None: currStart = i\n",
    "                        currEnd = max(currEnd, i+l-1)\n",
    "            if i > currEnd:\n",
    "                if currStart is not None:\n",
    "                    resultList.append(\"<b>\" + S[currStart: currEnd+1] + \"</b>\")\n",
    "                resultList.append(char)\n",
    "                currStart = None\n",
    "                currEnd = i\n",
    "                \n",
    "        if currStart is not None:\n",
    "            resultList.append(\"<b>\" + S[currStart: currEnd+1] + \"</b>\")\n",
    "            \n",
    "        return ''.join(resultList)"
   ]
  },
  {
   "cell_type": "code",
   "execution_count": 2,
   "metadata": {},
   "outputs": [
    {
     "data": {
      "text/plain": [
       "'a<b>abc</b>d'"
      ]
     },
     "execution_count": 2,
     "metadata": {},
     "output_type": "execute_result"
    }
   ],
   "source": [
    "instance = Solution()\n",
    "instance.boldWords( [\"ab\", \"bc\"], \"aabcd\")"
   ]
  }
 ],
 "metadata": {
  "kernelspec": {
   "display_name": "Python 3",
   "language": "python",
   "name": "python3"
  },
  "language_info": {
   "codemirror_mode": {
    "name": "ipython",
    "version": 3
   },
   "file_extension": ".py",
   "mimetype": "text/x-python",
   "name": "python",
   "nbconvert_exporter": "python",
   "pygments_lexer": "ipython3",
   "version": "3.7.3"
  }
 },
 "nbformat": 4,
 "nbformat_minor": 2
}
