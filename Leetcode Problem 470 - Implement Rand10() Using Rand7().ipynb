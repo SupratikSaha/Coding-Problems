{
 "cells": [
  {
   "cell_type": "markdown",
   "metadata": {},
   "source": [
    "Problem Statement.\n",
    "\n",
    "Given the API rand7() that generates a uniform random integer in the range [1, 7], write a function rand10() that generates a uniform random integer in the range [1, 10]. You can only call the API rand7(), and you shouldn't call any other API. Please do not use a language's built-in random API.\n",
    "\n",
    "Each test case will have one internal argument n, the number of times that your implemented function rand10() will be called while testing. Note that this is not an argument passed to rand10().\n",
    "\n",
    "Follow up:\n",
    "\n",
    "    What is the expected value for the number of calls to rand7() function?\n",
    "    Could you minimize the number of calls to rand7()?\n",
    "\n",
    " \n",
    "\n",
    "Example 1:\n",
    "\n",
    "Input: n = 1\n",
    "Output: [2]\n",
    "\n",
    "Example 2:\n",
    "\n",
    "Input: n = 2\n",
    "Output: [2,8]\n",
    "\n",
    "Example 3:\n",
    "\n",
    "Input: n = 3\n",
    "Output: [3,8,10]\n",
    "\n",
    " \n",
    "\n",
    "Constraints:\n",
    "\n",
    "    1 <= n <= 10^5"
   ]
  },
  {
   "cell_type": "markdown",
   "metadata": {},
   "source": [
    "# Rejection Sampling - O(1) average, O(inf) worst case runtime, O(1) space"
   ]
  },
  {
   "cell_type": "code",
   "execution_count": null,
   "metadata": {},
   "outputs": [],
   "source": [
    "# The rand7() API is already defined for you.\n",
    "# def rand7():\n",
    "# @return a random integer in the range 1 to 7\n",
    "\n",
    "class Solution:\n",
    "    def rand10(self):\n",
    "        \"\"\"\n",
    "        :rtype: int\n",
    "        \"\"\"\n",
    "        idx = 41\n",
    "        while idx > 40:\n",
    "            row = rand7()\n",
    "            col = rand7()\n",
    "            idx = col + (row - 1) * 7\n",
    "\n",
    "        return 1 + (idx - 1) % 10"
   ]
  },
  {
   "cell_type": "markdown",
   "metadata": {},
   "source": [
    "The expected value for the number of calls to rand7() can be computed as follows:\n",
    "\n",
    "    = 2 * 40/49    +    4 * 9/49 * 40/49   +       6 * 9/49 ^ 2 * 40/49     +   .......\n",
    "    = Summation of k= 1 to inf : 2 * k * ( (9/49) ^ (k-1) ) * (40/49)\n",
    "    = 2 * 1 / (1 - 9/49)^2 * 40/49\n",
    "    = 2.45"
   ]
  }
 ],
 "metadata": {
  "kernelspec": {
   "display_name": "Python 3",
   "language": "python",
   "name": "python3"
  },
  "language_info": {
   "codemirror_mode": {
    "name": "ipython",
    "version": 3
   },
   "file_extension": ".py",
   "mimetype": "text/x-python",
   "name": "python",
   "nbconvert_exporter": "python",
   "pygments_lexer": "ipython3",
   "version": "3.7.3"
  }
 },
 "nbformat": 4,
 "nbformat_minor": 2
}
