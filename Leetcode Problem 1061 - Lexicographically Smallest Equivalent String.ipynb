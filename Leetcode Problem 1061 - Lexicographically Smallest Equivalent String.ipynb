{
 "cells": [
  {
   "cell_type": "markdown",
   "metadata": {},
   "source": [
    "Problem Statement.\n",
    "\n",
    "Given strings s1 and s2 of the same length, we say s1[i] and s2[i] are equivalent characters. For example, if s1 = \"abc\" and s2 = \"cde\", then we have 'a' == 'c', 'b' == 'd', 'c' == 'e'.\n",
    "\n",
    "Equivalent characters follow the usual rules of any equivalence relation:\n",
    "\n",
    "    Reflexivity: 'a' == 'a'\n",
    "    Symmetry: 'a' == 'b' implies 'b' == 'a'\n",
    "    Transitivity: 'a' == 'b' and 'b' == 'c' implies 'a' == 'c'\n",
    "\n",
    "For example, given the equivalency information from s1 and s2 above and baseStr = \"eed\", \"acd\" and \"aab\" are equivalent strings of baseStr, and \"aab\" is the lexicographically smallest equivalent string of baseStr.\n",
    "\n",
    "Return the lexicographically smallest equivalent string of baseStr by using the equivalency information from s1 and s2.\n",
    "\n",
    " \n",
    "\n",
    "Example 1:\n",
    "\n",
    "Input: s1 = \"parker\", s2 = \"morris\", baseStr = \"parser\"\n",
    "Output: \"makkek\"\n",
    "Explanation: Based on the equivalency information in s1 and s2, we can group their characters as [m,p], [a,o], [k,r,s], [e,i]. The characters in each group are equivalent and sorted in lexicographical order. So the answer is \"makkek\".\n",
    "\n",
    "Example 2:\n",
    "\n",
    "Input: s1 = \"hello\", s2 = \"world\", baseStr = \"hold\"\n",
    "Output: \"hdld\"\n",
    "Explanation:  Based on the equivalency information in s1 and s2, we can group their characters as [h,w], [d,e,o], [l,r]. So only the second letter 'o' in baseStr is changed to 'd', the answer is \"hdld\".\n",
    "\n",
    "Example 3:\n",
    "\n",
    "Input: s1 = \"leetcode\", s2 = \"programs\", baseStr = \"sourcecode\"\n",
    "Output: \"aauaaaaada\"\n",
    "Explanation:  We group the equivalent characters in s1 and s2 as [a,o,e,r,s,c], [l,p], [g,t] and [d,m], thus all letters in baseStr except 'u' and 'd' are transformed to 'a', the answer is \"aauaaaaada\".\n",
    "\n",
    " \n",
    "\n",
    "Note:\n",
    "\n",
    "    Strings s1, s2, and baseStr consist of only lowercase English letters from 'a' - 'z'.\n",
    "    The lengths of string s1, s2, and baseStr are between 1 and 1000.\n",
    "    Strings s1 and s2 are of the same length."
   ]
  },
  {
   "cell_type": "markdown",
   "metadata": {},
   "source": [
    "# DFS - O(S + B) runtime, O(1) space"
   ]
  },
  {
   "cell_type": "code",
   "execution_count": 1,
   "metadata": {},
   "outputs": [],
   "source": [
    "from collections import deque, defaultdict\n",
    "\n",
    "class Solution:\n",
    "    def smallestEquivalentString(self, s1: str, s2: str, baseStr: str) -> str:\n",
    "        if len(s1) == 0 or len(s2) == 0 or len(baseStr)== 0:\n",
    "            return baseStr\n",
    "        graph = defaultdict(set)\n",
    "        \n",
    "        for c1, c2 in zip(s1, s2):\n",
    "            graph[c1].add(c2)\n",
    "            graph[c2].add(c1)\n",
    "            \n",
    "        visited = set()\n",
    "        mapDict = {}\n",
    "        \n",
    "        for c in graph:\n",
    "            if c in visited: continue\n",
    "            queue = deque([c])\n",
    "            minChar = c\n",
    "            newSet = {c}\n",
    "            while queue:\n",
    "                char = queue.popleft()\n",
    "                for nextChar in graph[char]:\n",
    "                    if nextChar not in newSet:\n",
    "                        minChar = min(minChar, nextChar)\n",
    "                        queue.append(nextChar)\n",
    "                        newSet.add(nextChar)\n",
    "                        \n",
    "            visited = visited.union(newSet)\n",
    "            for char in newSet: mapDict[char] = minChar\n",
    "                \n",
    "        result = []\n",
    "        for c in baseStr: result.append(mapDict.get(c, c))\n",
    "        \n",
    "        return ''.join(result)"
   ]
  },
  {
   "cell_type": "code",
   "execution_count": 2,
   "metadata": {},
   "outputs": [
    {
     "data": {
      "text/plain": [
       "'aauaaaaada'"
      ]
     },
     "execution_count": 2,
     "metadata": {},
     "output_type": "execute_result"
    }
   ],
   "source": [
    "instance = Solution()\n",
    "instance.smallestEquivalentString(\"leetcode\", \"programs\", \"sourcecode\")"
   ]
  }
 ],
 "metadata": {
  "kernelspec": {
   "display_name": "Python 3",
   "language": "python",
   "name": "python3"
  },
  "language_info": {
   "codemirror_mode": {
    "name": "ipython",
    "version": 3
   },
   "file_extension": ".py",
   "mimetype": "text/x-python",
   "name": "python",
   "nbconvert_exporter": "python",
   "pygments_lexer": "ipython3",
   "version": "3.7.3"
  }
 },
 "nbformat": 4,
 "nbformat_minor": 2
}
