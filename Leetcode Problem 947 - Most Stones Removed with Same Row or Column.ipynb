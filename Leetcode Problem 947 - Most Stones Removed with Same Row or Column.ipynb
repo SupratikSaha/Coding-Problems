{
 "cells": [
  {
   "cell_type": "markdown",
   "metadata": {},
   "source": [
    "On a 2D plane, we place stones at some integer coordinate points.  Each coordinate point may have at most one stone.\n",
    "\n",
    "Now, a move consists of removing a stone that shares a column or row with another stone on the grid.\n",
    "\n",
    "What is the largest possible number of moves we can make?\n",
    "\n",
    " \n",
    "\n",
    "Example 1:\n",
    "\n",
    "Input: stones = [[0,0],[0,1],[1,0],[1,2],[2,1],[2,2]]\n",
    "Output: 5\n",
    "\n",
    "Example 2:\n",
    "\n",
    "Input: stones = [[0,0],[0,2],[1,1],[2,0],[2,2]]\n",
    "Output: 3\n",
    "\n",
    "Example 3:\n",
    "\n",
    "Input: stones = [[0,0]]\n",
    "Output: 0\n",
    "\n",
    " \n",
    "\n",
    "Note:\n",
    "\n",
    "    1 <= stones.length <= 1000\n",
    "    0 <= stones[i][j] < 10000"
   ]
  },
  {
   "cell_type": "markdown",
   "metadata": {},
   "source": [
    "# DFS - O(n ^ 2) runtime, O(n ^ 2) space"
   ]
  },
  {
   "cell_type": "code",
   "execution_count": 1,
   "metadata": {},
   "outputs": [],
   "source": [
    "from typing import List\n",
    "from collections import defaultdict\n",
    "\n",
    "class Solution(object):\n",
    "    def removeStones(self, stones):\n",
    "        \"\"\"\n",
    "        :type stones: List[List[int]]\n",
    "        :rtype: int\n",
    "        \"\"\"\n",
    "        graph = defaultdict(list)\n",
    "        for i, x in enumerate(stones):\n",
    "            for j in range(i):\n",
    "                y = stones[j]\n",
    "                if x[0]==y[0] or x[1]==y[1]:\n",
    "                    graph[i].append(j)\n",
    "                    graph[j].append(i)\n",
    "\n",
    "        N = len(stones)\n",
    "        ans = 0\n",
    "\n",
    "        seen = [False] * N\n",
    "        for i in range(N):\n",
    "            if not seen[i]:\n",
    "                stack = [i]\n",
    "                seen[i] = True\n",
    "                while stack:\n",
    "                    ans += 1\n",
    "                    node = stack.pop()\n",
    "                    for nei in graph[node]:\n",
    "                        if not seen[nei]:\n",
    "                            stack.append(nei)\n",
    "                            seen[nei] = True\n",
    "                ans -= 1\n",
    "        return ans"
   ]
  },
  {
   "cell_type": "markdown",
   "metadata": {},
   "source": [
    "# Unuion Find - O(n * log n) runtime, O(n) space"
   ]
  },
  {
   "cell_type": "code",
   "execution_count": 13,
   "metadata": {},
   "outputs": [],
   "source": [
    "from typing import List\n",
    "\n",
    "class DSU:\n",
    "    def __init__(self, N):\n",
    "        self.p = list(range(N))\n",
    "\n",
    "    def find(self, x):\n",
    "        if self.p[x] != x:\n",
    "            self.p[x] = self.find(self.p[x])\n",
    "        return self.p[x]\n",
    "\n",
    "    def union(self, x, y):\n",
    "        xr = self.find(x)\n",
    "        yr = self.find(y)\n",
    "        self.p[xr] = yr\n",
    "        \n",
    "class Solution(object):\n",
    "    def removeStones(self, stones):\n",
    "        \"\"\"\n",
    "        :type stones: List[List[int]]\n",
    "        :rtype: int\n",
    "        \"\"\"\n",
    "        N = len(stones)\n",
    "        dsu = DSU(20000)\n",
    "        for x, y in stones:\n",
    "            dsu.union(x, y + 10000)\n",
    "        return N - len({dsu.find(x) for x, y in stones})"
   ]
  },
  {
   "cell_type": "code",
   "execution_count": 14,
   "metadata": {},
   "outputs": [
    {
     "data": {
      "text/plain": [
       "5"
      ]
     },
     "execution_count": 14,
     "metadata": {},
     "output_type": "execute_result"
    }
   ],
   "source": [
    "instance = Solution()\n",
    "instance.removeStones([[0,0],[0,1],[1,0],[1,2],[2,1],[2,2]])"
   ]
  }
 ],
 "metadata": {
  "kernelspec": {
   "display_name": "Python 3",
   "language": "python",
   "name": "python3"
  },
  "language_info": {
   "codemirror_mode": {
    "name": "ipython",
    "version": 3
   },
   "file_extension": ".py",
   "mimetype": "text/x-python",
   "name": "python",
   "nbconvert_exporter": "python",
   "pygments_lexer": "ipython3",
   "version": "3.7.3"
  }
 },
 "nbformat": 4,
 "nbformat_minor": 2
}
