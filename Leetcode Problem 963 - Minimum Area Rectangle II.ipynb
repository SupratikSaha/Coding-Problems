{
 "cells": [
  {
   "cell_type": "markdown",
   "metadata": {},
   "source": [
    "    Problem Statement.\n",
    "\n",
    "    Given a set of points in the xy-plane, determine the minimum area of any rectangle formed from these points, with sides not necessarily parallel to the x and y axes.\n",
    "\n",
    "    If there isn't any rectangle, return 0.\n",
    "\n",
    "\n",
    "\n",
    "    Example 1:\n",
    "\n",
    "    Input: [[1,2],[2,1],[1,0],[0,1]]\n",
    "    Output: 2.00000\n",
    "    Explanation: The minimum area rectangle occurs at [1,2],[2,1],[1,0],[0,1], with an area of 2.\n",
    "\n",
    "    Example 2:\n",
    "\n",
    "    Input: [[0,1],[2,1],[1,1],[1,0],[2,0]]\n",
    "    Output: 1.00000\n",
    "    Explanation: The minimum area rectangle occurs at [1,0],[1,1],[2,1],[2,0], with an area of 1.\n",
    "\n",
    "    Example 3:\n",
    "\n",
    "    Input: [[0,3],[1,2],[3,1],[1,3],[2,1]]\n",
    "    Output: 0\n",
    "    Explanation: There is no possible rectangle to form from these points.\n",
    "\n",
    "    Example 4:\n",
    "\n",
    "    Input: [[3,1],[1,1],[0,1],[2,1],[3,3],[3,2],[0,2],[2,3]]\n",
    "    Output: 2.00000\n",
    "    Explanation: The minimum area rectangle occurs at [2,1],[2,3],[3,3],[3,1], with an area of 2.\n",
    "\n",
    "\n",
    "\n",
    "    Note:\n",
    "\n",
    "        1 <= points.length <= 50\n",
    "        0 <= points[i][0] <= 40000\n",
    "        0 <= points[i][1] <= 40000\n",
    "        All points are distinct.\n",
    "        Answers within 10^-5 of the actual value will be accepted as correct."
   ]
  },
  {
   "cell_type": "markdown",
   "metadata": {},
   "source": [
    "# Iterate Triangles - O(N ^ 3) runtime, O(N) space"
   ]
  },
  {
   "cell_type": "code",
   "execution_count": 1,
   "metadata": {},
   "outputs": [],
   "source": [
    "from typing import List\n",
    "from itertools import permutations\n",
    "\n",
    "class Solution:\n",
    "    def minAreaFreeRect(self, points: List[List[int]]) -> float:\n",
    "        mn, st, n = float('inf'), {(x, y) for x, y in points}, len(points) \n",
    "        for i in range(n):\n",
    "            x1, y1 = points[i]\n",
    "            for j in range(i + 1, n):\n",
    "                x2, y2 = points[j]\n",
    "                for k in range(j + 1, n):\n",
    "                    x3, y3 = points[k]\n",
    "                    # Dot product zero means perpendicular and 4th point in set\n",
    "                    if not (x3 - x1) * (x2 - x1) + (y3 - y1) * (y2 - y1) and (x3 + (x2 - x1), y3 + (y2 - y1)) in st:\n",
    "                        mn = min(mn, ((x2 - x1) ** 2 + (y2 - y1) ** 2) ** 0.5 * ((x3 - x1) ** 2 + (y3 - y1) ** 2) ** 0.5)\n",
    "        return mn if mn < float(\"inf\") else 0"
   ]
  },
  {
   "cell_type": "markdown",
   "metadata": {},
   "source": [
    "# Iterate Centers with Complex Numbers - O(N ^ 2 * logN) runtime, O(N) space"
   ]
  },
  {
   "cell_type": "code",
   "execution_count": 2,
   "metadata": {},
   "outputs": [],
   "source": [
    "from typing import List\n",
    "from collections import defaultdict\n",
    "from itertools import combinations\n",
    "\n",
    "class Solution:\n",
    "    def minAreaFreeRect(self, points: List[List[int]]) -> float:\n",
    "        points = [complex(*z) for z in points]\n",
    "        seen = defaultdict(list)\n",
    "        for P, Q in combinations(points, 2):\n",
    "            center = (P + Q) / 2\n",
    "            radius = abs(center - P)\n",
    "            seen[center, radius].append(P)\n",
    "\n",
    "        ans = float(\"inf\")\n",
    "        for (center, radius), candidates in seen.items():\n",
    "            for P, Q in combinations(candidates, 2):\n",
    "                ans = min(ans, abs(P - Q) * abs(P - (2*center - Q)))\n",
    "\n",
    "        return ans if ans < float(\"inf\") else 0"
   ]
  },
  {
   "cell_type": "markdown",
   "metadata": {},
   "source": [
    "# Iterate Centers with HashTable - O(N ^ 2) runtime, O(N ^ 2) space"
   ]
  },
  {
   "cell_type": "code",
   "execution_count": 3,
   "metadata": {},
   "outputs": [],
   "source": [
    "from typing import List\n",
    "from math import sqrt\n",
    "\n",
    "class Solution:\n",
    "    def minAreaFreeRect(self, points: List[List[int]]) -> float:\n",
    "        ans = float('inf')\n",
    "        seen = {}\n",
    "        for i, (x0, y0) in enumerate(points):\n",
    "            for x1, y1 in points[i+1:]:\n",
    "                cx = (x0 + x1)/2\n",
    "                cy = (y0 + y1)/2\n",
    "                d2 = (x0 - x1)**2 + (y0 - y1)**2\n",
    "                for xx, yy in seen.get((cx, cy, d2), []): \n",
    "                    area = sqrt(((x0-xx)**2 + (y0-yy)**2) * ((x1-xx)**2 + (y1-yy)**2))\n",
    "                    ans = min(ans, area)\n",
    "                seen.setdefault((cx, cy, d2), []).append((x0, y0))\n",
    "        return ans if ans < float('inf') else 0"
   ]
  },
  {
   "cell_type": "code",
   "execution_count": 4,
   "metadata": {},
   "outputs": [
    {
     "data": {
      "text/plain": [
       "2.0"
      ]
     },
     "execution_count": 4,
     "metadata": {},
     "output_type": "execute_result"
    }
   ],
   "source": [
    "instance = Solution()\n",
    "instance.minAreaFreeRect([[3,1],[1,1],[0,1],[2,1],[3,3],[3,2],[0,2],[2,3]])"
   ]
  }
 ],
 "metadata": {
  "kernelspec": {
   "display_name": "Python 3",
   "language": "python",
   "name": "python3"
  },
  "language_info": {
   "codemirror_mode": {
    "name": "ipython",
    "version": 3
   },
   "file_extension": ".py",
   "mimetype": "text/x-python",
   "name": "python",
   "nbconvert_exporter": "python",
   "pygments_lexer": "ipython3",
   "version": "3.7.3"
  }
 },
 "nbformat": 4,
 "nbformat_minor": 2
}
