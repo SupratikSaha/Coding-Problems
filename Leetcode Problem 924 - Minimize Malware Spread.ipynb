{
 "cells": [
  {
   "cell_type": "markdown",
   "metadata": {},
   "source": [
    "Problem Statement.\n",
    "\n",
    "You are given a network of n nodes represented as an n x n adjacency matrix graph, where the ith node is directly connected to the jth node if graph[i][j] == 1.\n",
    "\n",
    "Some nodes initial are initially infected by malware. Whenever two nodes are directly connected, and at least one of those two nodes is infected by malware, both nodes will be infected by malware. This spread of malware will continue until no more nodes can be infected in this manner.\n",
    "\n",
    "Suppose M(initial) is the final number of nodes infected with malware in the entire network after the spread of malware stops. We will remove exactly one node from initial.\n",
    "\n",
    "Return the node that, if removed, would minimize M(initial). If multiple nodes could be removed to minimize M(initial), return such a node with the smallest index.\n",
    "\n",
    "Note that if a node was removed from the initial list of infected nodes, it might still be infected later due to the malware spread.\n",
    "\n",
    " \n",
    "\n",
    "Example 1:\n",
    "\n",
    "Input: graph = [[1,1,0],[1,1,0],[0,0,1]], initial = [0,1]\n",
    "Output: 0\n",
    "\n",
    "Example 2:\n",
    "\n",
    "Input: graph = [[1,0,0],[0,1,0],[0,0,1]], initial = [0,2]\n",
    "Output: 0\n",
    "\n",
    "Example 3:\n",
    "\n",
    "Input: graph = [[1,1,1],[1,1,1],[1,1,1]], initial = [1,2]\n",
    "Output: 1\n",
    "\n",
    " \n",
    "\n",
    "Constraints:\n",
    "\n",
    "    n == graph.length\n",
    "    n == graph[i].length\n",
    "    2 <= n <= 300\n",
    "    graph[i][j] is 0 or 1.\n",
    "    graph[i][j] == graph[j][i]\n",
    "    graph[i][i] == 1\n",
    "    1 <= initial.length <= n\n",
    "    0 <= initial[i] <= n - 1\n",
    "    All the integers in initial are unique."
   ]
  },
  {
   "cell_type": "markdown",
   "metadata": {},
   "source": [
    "# DFS - O(N ^ 2) runtime, O(N) space"
   ]
  },
  {
   "cell_type": "code",
   "execution_count": 1,
   "metadata": {},
   "outputs": [],
   "source": [
    "from typing import List\n",
    "\n",
    "class Solution:\n",
    "    def minMalwareSpread(self, graph: List[List[int]], initial: List[int]) -> int:\n",
    "        \n",
    "        def dfs(i):\n",
    "            nodes.add(i)\n",
    "            for j in range(len(graph[i])):\n",
    "                if graph[i][j] and j not in nodes:\n",
    "                    dfs(j)\n",
    "                    \n",
    "        rank, initial = {}, set(initial)\n",
    "        maxRank = -1\n",
    "        \n",
    "        for node in initial:\n",
    "            nodes = set()\n",
    "            dfs(node)\n",
    "            if nodes & initial == {node}:\n",
    "                l = len(nodes)\n",
    "                rank[l] = min(rank.get(l, float('inf')), node)\n",
    "                maxRank = max(maxRank, l)\n",
    "                \n",
    "        return rank[maxRank] if maxRank > -1 else min(initial)"
   ]
  },
  {
   "cell_type": "code",
   "execution_count": 3,
   "metadata": {},
   "outputs": [
    {
     "data": {
      "text/plain": [
       "1"
      ]
     },
     "execution_count": 3,
     "metadata": {},
     "output_type": "execute_result"
    }
   ],
   "source": [
    "instance = Solution()\n",
    "instance.minMalwareSpread([[1,1,1],[1,1,1],[1,1,1]], initial = [1,2])"
   ]
  }
 ],
 "metadata": {
  "kernelspec": {
   "display_name": "Python 3",
   "language": "python",
   "name": "python3"
  },
  "language_info": {
   "codemirror_mode": {
    "name": "ipython",
    "version": 3
   },
   "file_extension": ".py",
   "mimetype": "text/x-python",
   "name": "python",
   "nbconvert_exporter": "python",
   "pygments_lexer": "ipython3",
   "version": "3.7.3"
  }
 },
 "nbformat": 4,
 "nbformat_minor": 2
}
