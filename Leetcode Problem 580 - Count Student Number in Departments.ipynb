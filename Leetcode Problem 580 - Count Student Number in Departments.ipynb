{
 "cells": [
  {
   "cell_type": "markdown",
   "metadata": {},
   "source": [
    "    Problem Statement.\n",
    "\n",
    "    Table: Student\n",
    "\n",
    "    +--------------+---------+\n",
    "    | Column Name  | Type    |\n",
    "    +--------------+---------+\n",
    "    | student_id   | int     |\n",
    "    | student_name | varchar |\n",
    "    | gender       | varchar |\n",
    "    | dept_id      | int     |\n",
    "    +--------------+---------+\n",
    "    student_id is the primary key column for this table.\n",
    "    dept_id is a foreign key to dept_id in the Department tables.\n",
    "    Each row of this table indicates the name of a student, their gender, and the id of their department.\n",
    "\n",
    "\n",
    "\n",
    "    Table: Department\n",
    "\n",
    "    +-------------+---------+\n",
    "    | Column Name | Type    |\n",
    "    +-------------+---------+\n",
    "    | dept_id     | int     |\n",
    "    | dept_name   | varchar |\n",
    "    +-------------+---------+\n",
    "    dept_id is the primary key column for this table.\n",
    "    Each row of this table contains the id and the name of a department.\n",
    "\n",
    "\n",
    "\n",
    "    Write an SQL query to report the respective department name and number of students majoring in each department for all departments in the Department table (even ones with no current students).\n",
    "\n",
    "    Return the result table ordered by student_number in descending order. In case of a tie, order them by dept_name alphabetically.\n",
    "\n",
    "    The query result format is in the following example.\n",
    "\n",
    "\n",
    "\n",
    "    Example 1:\n",
    "\n",
    "    Input: \n",
    "    Student table:\n",
    "    +------------+--------------+--------+---------+\n",
    "    | student_id | student_name | gender | dept_id |\n",
    "    +------------+--------------+--------+---------+\n",
    "    | 1          | Jack         | M      | 1       |\n",
    "    | 2          | Jane         | F      | 1       |\n",
    "    | 3          | Mark         | M      | 2       |\n",
    "    +------------+--------------+--------+---------+\n",
    "    Department table:\n",
    "    +---------+-------------+\n",
    "    | dept_id | dept_name   |\n",
    "    +---------+-------------+\n",
    "    | 1       | Engineering |\n",
    "    | 2       | Science     |\n",
    "    | 3       | Law         |\n",
    "    +---------+-------------+\n",
    "    Output: \n",
    "    +-------------+----------------+\n",
    "    | dept_name   | student_number |\n",
    "    +-------------+----------------+\n",
    "    | Engineering | 2              |\n",
    "    | Science     | 1              |\n",
    "    | Law         | 0              |\n",
    "    +-------------+----------------+"
   ]
  },
  {
   "cell_type": "markdown",
   "metadata": {},
   "source": [
    "# Right Join"
   ]
  },
  {
   "cell_type": "code",
   "execution_count": null,
   "metadata": {},
   "outputs": [],
   "source": [
    "select dept_name, count(student_id) as student_number \n",
    "from Student s\n",
    "right join Department d on s.dept_id = d.dept_id\n",
    "group by dept_name\n",
    "order by student_number desc, dept_name"
   ]
  }
 ],
 "metadata": {
  "kernelspec": {
   "display_name": "Python 3",
   "language": "python",
   "name": "python3"
  },
  "language_info": {
   "codemirror_mode": {
    "name": "ipython",
    "version": 3
   },
   "file_extension": ".py",
   "mimetype": "text/x-python",
   "name": "python",
   "nbconvert_exporter": "python",
   "pygments_lexer": "ipython3",
   "version": "3.7.3"
  }
 },
 "nbformat": 4,
 "nbformat_minor": 2
}
