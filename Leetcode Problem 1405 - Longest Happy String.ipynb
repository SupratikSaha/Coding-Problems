{
 "cells": [
  {
   "cell_type": "markdown",
   "metadata": {},
   "source": [
    "Problem Statement.\n",
    "\n",
    "A string is called happy if it does not have any of the strings 'aaa', 'bbb' or 'ccc' as a substring.\n",
    "\n",
    "Given three integers a, b and c, return any string s, which satisfies following conditions:\n",
    "\n",
    "    s is happy and longest possible.\n",
    "    s contains at most a occurrences of the letter 'a', at most b occurrences of the letter 'b' and at most c occurrences of the letter 'c'.\n",
    "    s will only contain 'a', 'b' and 'c' letters.\n",
    "\n",
    "If there is no such string s return the empty string \"\".\n",
    "\n",
    " \n",
    "\n",
    "Example 1:\n",
    "\n",
    "Input: a = 1, b = 1, c = 7\n",
    "Output: \"ccaccbcc\"\n",
    "Explanation: \"ccbccacc\" would also be a correct answer.\n",
    "\n",
    "Example 2:\n",
    "\n",
    "Input: a = 2, b = 2, c = 1\n",
    "Output: \"aabbc\"\n",
    "\n",
    "Example 3:\n",
    "\n",
    "Input: a = 7, b = 1, c = 0\n",
    "Output: \"aabaa\"\n",
    "Explanation: It's the only correct answer in this case.\n",
    "\n",
    " \n",
    "\n",
    "Constraints:\n",
    "\n",
    "    0 <= a, b, c <= 100\n",
    "    a + b + c > 0"
   ]
  },
  {
   "cell_type": "markdown",
   "metadata": {},
   "source": [
    "# Heap - O((a+b+c) * log(3)) runtime, O(a+b+c) space"
   ]
  },
  {
   "cell_type": "code",
   "execution_count": 1,
   "metadata": {},
   "outputs": [],
   "source": [
    "from heapq import heapify, heappush, heappop\n",
    "\n",
    "class Solution:\n",
    "    def longestDiverseString(self, a: int, b: int, c: int) -> str:\n",
    "        if a == 0 and b == 0 and c == 0: return ''\n",
    "    \n",
    "        res = ''\n",
    "        heap = [(-a, 'a'), (-b, 'b'), (-c, 'c')]\n",
    "        heapify(heap)\n",
    "\n",
    "        prev_val = 0\n",
    "        prev_char = ''\n",
    "\n",
    "        while heap:\n",
    "            v, char = heappop(heap)\n",
    "\n",
    "            if prev_val < 0:\n",
    "                heappush(heap, (prev_val, prev_char))\n",
    "\n",
    "            if abs(v) >= 2 and abs(v) > abs(prev_val):\n",
    "                res += char*2\n",
    "                v += 2\n",
    "            elif abs(v) >= 1:\n",
    "                res += char\n",
    "                v +=1\n",
    "            elif abs(v) == 0:\n",
    "                break\n",
    "\n",
    "            prev_val = v\n",
    "            prev_char = char\n",
    "\n",
    "        return res"
   ]
  },
  {
   "cell_type": "markdown",
   "metadata": {},
   "source": [
    "# Hash Table - O(a+b+c) runtime, O(a+b+c) space"
   ]
  },
  {
   "cell_type": "code",
   "execution_count": 2,
   "metadata": {},
   "outputs": [],
   "source": [
    "class Solution:\n",
    "    def longestDiverseString(self, a: int, b: int, c: int) -> str:\n",
    "        charDict = {'a': a, 'b': b, 'c': c}\n",
    "        res = []\n",
    "        prevVal = 0\n",
    "        prevChar = None\n",
    "        \n",
    "        while True:\n",
    "            maxChar = max(charDict, key=charDict.get)\n",
    "            if maxChar == prevChar:\n",
    "                val = charDict[prevChar]\n",
    "                charDict.pop(prevChar)\n",
    "                maxChar = max(charDict, key=charDict.get)\n",
    "                if val: charDict[prevChar] = val\n",
    "                    \n",
    "            reps = charDict[maxChar]\n",
    "            if reps >= 2 and reps > prevVal:\n",
    "                res.append(maxChar * 2)\n",
    "                charDict[maxChar] -= 2\n",
    "            elif reps >= 1:\n",
    "                res.append(maxChar)\n",
    "                charDict[maxChar] -= 1\n",
    "            elif reps == 0: \n",
    "                break\n",
    "                \n",
    "            prevChar = maxChar\n",
    "            prevVal = charDict[maxChar]\n",
    "            \n",
    "        return ''.join(res)"
   ]
  },
  {
   "cell_type": "code",
   "execution_count": 3,
   "metadata": {},
   "outputs": [
    {
     "data": {
      "text/plain": [
       "'ccaccbcc'"
      ]
     },
     "execution_count": 3,
     "metadata": {},
     "output_type": "execute_result"
    }
   ],
   "source": [
    "instance = Solution()\n",
    "instance.longestDiverseString(a = 1, b = 1, c = 7)"
   ]
  }
 ],
 "metadata": {
  "kernelspec": {
   "display_name": "Python 3",
   "language": "python",
   "name": "python3"
  },
  "language_info": {
   "codemirror_mode": {
    "name": "ipython",
    "version": 3
   },
   "file_extension": ".py",
   "mimetype": "text/x-python",
   "name": "python",
   "nbconvert_exporter": "python",
   "pygments_lexer": "ipython3",
   "version": "3.7.3"
  }
 },
 "nbformat": 4,
 "nbformat_minor": 2
}
