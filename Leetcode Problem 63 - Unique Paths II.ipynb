{
 "cells": [
  {
   "cell_type": "markdown",
   "metadata": {},
   "source": [
    "# Using Bottom Up Dynamic Programming - O(mn) run time, O(mn) space"
   ]
  },
  {
   "cell_type": "code",
   "execution_count": 2,
   "metadata": {},
   "outputs": [],
   "source": [
    "class Solution:\n",
    "    def uniquePathsWithObstacles(self, obstacleGrid: List[List[int]]) -> int:\n",
    "        m = len(obstacleGrid)\n",
    "        if m == 0:\n",
    "            return 0\n",
    "        n = len(obstacleGrid[0])\n",
    "\n",
    "        mem = [[0 for x in range(n + 1)] for y in range(m + 1)] \n",
    "        mem[m - 1][n] = 1\n",
    "        \n",
    "        for r in range(m - 1, -1, -1):\n",
    "            for c in range(n - 1, -1, -1):\n",
    "                mem[r][c] = 0 if obstacleGrid[r][c] == 1 else mem[r + 1][c] + mem[r][c + 1]\n",
    "        \n",
    "        return mem[0][0]"
   ]
  },
  {
   "cell_type": "code",
   "execution_count": 3,
   "metadata": {},
   "outputs": [
    {
     "data": {
      "text/plain": [
       "2"
      ]
     },
     "execution_count": 3,
     "metadata": {},
     "output_type": "execute_result"
    }
   ],
   "source": [
    "Instance = Solution()\n",
    "Instance.uniquePathsWithObstacles([[0,0,0],[0,1,0],[0,0,0]])"
   ]
  }
 ],
 "metadata": {
  "kernelspec": {
   "display_name": "Python 3",
   "language": "python",
   "name": "python3"
  },
  "language_info": {
   "codemirror_mode": {
    "name": "ipython",
    "version": 3
   },
   "file_extension": ".py",
   "mimetype": "text/x-python",
   "name": "python",
   "nbconvert_exporter": "python",
   "pygments_lexer": "ipython3",
   "version": "3.7.3"
  }
 },
 "nbformat": 4,
 "nbformat_minor": 2
}
