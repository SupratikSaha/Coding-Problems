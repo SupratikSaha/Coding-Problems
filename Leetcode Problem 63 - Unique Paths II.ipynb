{
 "cells": [
  {
   "cell_type": "markdown",
   "metadata": {},
   "source": [
    "    Problem Statement\n",
    "\n",
    "    A robot is located at the top-left corner of a m x n grid (marked 'Start' in the diagram below).\n",
    "\n",
    "    The robot can only move either down or right at any point in time. The robot is trying to reach the bottom-right corner of the grid (marked 'Finish' in the diagram below).\n",
    "\n",
    "    Now consider if some obstacles are added to the grids. How many unique paths would there be?\n",
    "\n",
    "    An obstacle and space is marked as 1 and 0 respectively in the grid.\n",
    "\n",
    "\n",
    "\n",
    "    Example 1:\n",
    "\n",
    "    Input: obstacleGrid = [[0,0,0],[0,1,0],[0,0,0]]\n",
    "    Output: 2\n",
    "    Explanation: There is one obstacle in the middle of the 3x3 grid above.\n",
    "    There are two ways to reach the bottom-right corner:\n",
    "    1. Right -> Right -> Down -> Down\n",
    "    2. Down -> Down -> Right -> Right\n",
    "\n",
    "    Example 2:\n",
    "\n",
    "    Input: obstacleGrid = [[0,1],[0,0]]\n",
    "    Output: 1\n",
    "\n",
    "\n",
    "\n",
    "    Constraints:\n",
    "\n",
    "        m == obstacleGrid.length\n",
    "        n == obstacleGrid[i].length\n",
    "        1 <= m, n <= 100\n",
    "        obstacleGrid[i][j] is 0 or 1"
   ]
  },
  {
   "cell_type": "markdown",
   "metadata": {},
   "source": [
    "# Top Down Dynamic Programming - O(mn) run time, O(mn) space"
   ]
  },
  {
   "cell_type": "code",
   "execution_count": 1,
   "metadata": {},
   "outputs": [],
   "source": [
    "from typing import List\n",
    "\n",
    "class Solution:\n",
    "    def uniquePathsWithObstacles(self, obstacleGrid: List[List[int]]) -> int:\n",
    "        m, n = len(obstacleGrid), len(obstacleGrid[0])\n",
    "        dp = [[0 for _ in range(n)] for _ in range(m)]\n",
    "        \n",
    "        i  = 0\n",
    "        while i < m and obstacleGrid[i][0] == 0:\n",
    "            dp[i][0] = 1\n",
    "            i += 1\n",
    "\n",
    "        j  = 0\n",
    "        while j < n and obstacleGrid[0][j] == 0:\n",
    "            dp[0][j] = 1\n",
    "            j += 1\n",
    "\n",
    "        for i in range(1, m):\n",
    "            for j in range(1, n):\n",
    "                if obstacleGrid[i][j] == 0: \n",
    "                    dp[i][j] = dp[i - 1][j] + dp[i][j - 1]\n",
    "\n",
    "        return dp[m - 1][n - 1]"
   ]
  },
  {
   "cell_type": "markdown",
   "metadata": {},
   "source": [
    "# Bottom Up Dynamic Programming - O(mn) run time, O(mn) space"
   ]
  },
  {
   "cell_type": "code",
   "execution_count": 3,
   "metadata": {},
   "outputs": [],
   "source": [
    "from typing import List\n",
    "\n",
    "class Solution:\n",
    "    def uniquePathsWithObstacles(self, obstacleGrid: List[List[int]]) -> int:\n",
    "        m, n = len(obstacleGrid), len(obstacleGrid[0])\n",
    "\n",
    "        mem = [[0 for x in range(n + 1)] for y in range(m + 1)] \n",
    "        mem[m - 1][n] = 1\n",
    "        \n",
    "        for r in reversed(range(m)):\n",
    "            for c in reversed(range(n)):\n",
    "                mem[r][c] = 0 if obstacleGrid[r][c] == 1 else mem[r + 1][c] + mem[r][c + 1]\n",
    "        \n",
    "        return mem[0][0]"
   ]
  },
  {
   "cell_type": "code",
   "execution_count": 4,
   "metadata": {},
   "outputs": [
    {
     "data": {
      "text/plain": [
       "2"
      ]
     },
     "execution_count": 4,
     "metadata": {},
     "output_type": "execute_result"
    }
   ],
   "source": [
    "Instance = Solution()\n",
    "Instance.uniquePathsWithObstacles([[0,0,0],[0,1,0],[0,0,0]])"
   ]
  }
 ],
 "metadata": {
  "kernelspec": {
   "display_name": "Python 3",
   "language": "python",
   "name": "python3"
  },
  "language_info": {
   "codemirror_mode": {
    "name": "ipython",
    "version": 3
   },
   "file_extension": ".py",
   "mimetype": "text/x-python",
   "name": "python",
   "nbconvert_exporter": "python",
   "pygments_lexer": "ipython3",
   "version": "3.7.3"
  }
 },
 "nbformat": 4,
 "nbformat_minor": 2
}
