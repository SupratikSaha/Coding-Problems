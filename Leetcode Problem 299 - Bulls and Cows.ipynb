{
 "cells": [
  {
   "cell_type": "markdown",
   "metadata": {},
   "source": [
    "Problem Statement. <br/>\n",
    "\n",
    "You are playing the Bulls and Cows game with your friend. <br/>\n",
    "You write down a secret number and ask your friend to guess what the number is. When your friend makes a guess, you provide a hint with the following info: <br/>\n",
    "    The number of \"bulls\", which are digits in the guess that are in the correct position.\n",
    "    The number of \"cows\", which are digits in the guess that are in your secret number but are located in the wrong position. Specifically, the non-bull digits in the guess that could be rearranged such that they become bulls.\n",
    "\n",
    "Given the secret number secret and your friend's guess guess, return the hint for your friend's guess. <br/>\n",
    "The hint should be formatted as \"xAyB\", where x is the number of bulls and y is the number of cows. Note that both secret and guess may contain duplicate digits. <br/>\n",
    "\n",
    "Example 1: <br/>\n",
    "Input: secret = \"1807\", guess = \"7810\" <br/>\n",
    "Output: \"1A3B\" <br/>\n",
    "Explanation: Bulls are connected with a '|' and cows are underlined: <br/>\n",
    "\"1807\" <br/>\n",
    "  | <br/>\n",
    "\"7810\" <br/>\n",
    "\n",
    "Example 2: <br/>\n",
    "Input: secret = \"1123\", guess = \"0111\" <br/>\n",
    "Output: \"1A1B\" <br/>\n",
    "Explanation: Bulls are connected with a '|' and cows are underlined: <br/>\n",
    "\"1123\"        \"1123\" <br/>\n",
    "  |      or     | <br/>\n",
    "\"0111\"        \"0111\" <br/>\n",
    "Note that only one of the two unmatched 1s is counted as a cow since the non-bull digits can only be rearranged to allow one 1 to be a bull. <br/>\n",
    "\n",
    "Example 3: <br/>\n",
    "Input: secret = \"1\", guess = \"0\" <br/>\n",
    "Output: \"0A0B\" <br/>\n",
    "\n",
    "Example 4: <br/>\n",
    "Input: secret = \"1\", guess = \"1\" <br/>\n",
    "Output: \"1A0B\""
   ]
  },
  {
   "cell_type": "markdown",
   "metadata": {},
   "source": [
    " # HashMap: Two Passes - O(N) runtime, O(N) space"
   ]
  },
  {
   "cell_type": "code",
   "execution_count": 1,
   "metadata": {},
   "outputs": [],
   "source": [
    "from collections import Counter\n",
    "\n",
    "class Solution:\n",
    "    def getHint(self, secret: str, guess: str) -> str:\n",
    "        h = Counter(secret)\n",
    "            \n",
    "        bulls = cows = 0\n",
    "        for idx, ch in enumerate(guess):\n",
    "            if ch in h:\n",
    "                # corresponding characters match\n",
    "                if ch == secret[idx]:\n",
    "                    # update the bulls\n",
    "                    bulls += 1\n",
    "                    # update the cows \n",
    "                    # if all ch characters from secret \n",
    "                    # were used up\n",
    "                    cows -= int(h[ch] <= 0)\n",
    "                # corresponding characters don't match\n",
    "                else:\n",
    "                    # update the cows\n",
    "                    cows += int(h[ch] > 0)\n",
    "                # ch character was used\n",
    "                h[ch] -= 1\n",
    "                \n",
    "        return \"{}A{}B\".format(bulls, cows)"
   ]
  },
  {
   "cell_type": "markdown",
   "metadata": {},
   "source": [
    "# One Pass - O(N) runtime, O(1) space"
   ]
  },
  {
   "cell_type": "code",
   "execution_count": 2,
   "metadata": {},
   "outputs": [],
   "source": [
    "from collections import defaultdict\n",
    "\n",
    "class Solution:\n",
    "    def getHint(self, secret: str, guess: str) -> str:\n",
    "        h = defaultdict(int)\n",
    "        bulls = cows = 0\n",
    "\n",
    "        for idx, s in enumerate(secret):\n",
    "            g = guess[idx]\n",
    "            if s == g: \n",
    "                bulls += 1\n",
    "            else:\n",
    "                cows += int(h[s] < 0) + int(h[g] > 0)\n",
    "                h[s] += 1\n",
    "                h[g] -= 1\n",
    "                \n",
    "        return \"{}A{}B\".format(bulls, cows)"
   ]
  },
  {
   "cell_type": "code",
   "execution_count": 3,
   "metadata": {},
   "outputs": [
    {
     "data": {
      "text/plain": [
       "'1A1B'"
      ]
     },
     "execution_count": 3,
     "metadata": {},
     "output_type": "execute_result"
    }
   ],
   "source": [
    "instance = Solution()\n",
    "instance.getHint(\"1123\", \"0111\")"
   ]
  }
 ],
 "metadata": {
  "kernelspec": {
   "display_name": "Python 3",
   "language": "python",
   "name": "python3"
  },
  "language_info": {
   "codemirror_mode": {
    "name": "ipython",
    "version": 3
   },
   "file_extension": ".py",
   "mimetype": "text/x-python",
   "name": "python",
   "nbconvert_exporter": "python",
   "pygments_lexer": "ipython3",
   "version": "3.7.3"
  }
 },
 "nbformat": 4,
 "nbformat_minor": 2
}
