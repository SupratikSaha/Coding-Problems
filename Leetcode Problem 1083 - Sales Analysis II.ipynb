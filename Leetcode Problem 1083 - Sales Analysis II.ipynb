{
 "cells": [
  {
   "cell_type": "markdown",
   "metadata": {},
   "source": [
    "    Problem Statement.\n",
    "\n",
    "    Table: Product\n",
    "\n",
    "    +--------------+---------+\n",
    "    | Column Name  | Type    |\n",
    "    +--------------+---------+\n",
    "    | product_id   | int     |\n",
    "    | product_name | varchar |\n",
    "    | unit_price   | int     |\n",
    "    +--------------+---------+\n",
    "    product_id is the primary key of this table.\n",
    "\n",
    "    Table: Sales\n",
    "\n",
    "    +-------------+---------+\n",
    "    | Column Name | Type    |\n",
    "    +-------------+---------+\n",
    "    | seller_id   | int     |\n",
    "    | product_id  | int     |\n",
    "    | buyer_id    | int     |\n",
    "    | sale_date   | date    |\n",
    "    | quantity    | int     |\n",
    "    | price       | int     |\n",
    "    +------ ------+---------+\n",
    "    This table has no primary key, it can have repeated rows.\n",
    "    product_id is a foreign key to Product table.\n",
    "\n",
    "\n",
    "\n",
    "    Write an SQL query that reports the buyers who have bought S8 but not iPhone. Note that S8 and iPhone are products present in the Product table.\n",
    "\n",
    "    The query result format is in the following example:\n",
    "\n",
    "    Product table:\n",
    "    +------------+--------------+------------+\n",
    "    | product_id | product_name | unit_price |\n",
    "    +------------+--------------+------------+\n",
    "    | 1          | S8           | 1000       |\n",
    "    | 2          | G4           | 800        |\n",
    "    | 3          | iPhone       | 1400       |\n",
    "    +------------+--------------+------------+\n",
    "\n",
    "    Sales table:\n",
    "    +-----------+------------+----------+------------+----------+-------+\n",
    "    | seller_id | product_id | buyer_id | sale_date  | quantity | price |\n",
    "    +-----------+------------+----------+------------+----------+-------+\n",
    "    | 1         | 1          | 1        | 2019-01-21 | 2        | 2000  |\n",
    "    | 1         | 2          | 2        | 2019-02-17 | 1        | 800   |\n",
    "    | 2         | 1          | 3        | 2019-06-02 | 1        | 800   |\n",
    "    | 3         | 3          | 3        | 2019-05-13 | 2        | 2800  |\n",
    "    +-----------+------------+----------+------------+----------+-------+\n",
    "\n",
    "    Result table:\n",
    "    +-------------+\n",
    "    | buyer_id    |\n",
    "    +-------------+\n",
    "    | 1           |\n",
    "    +-------------+\n",
    "    The buyer with id 1 bought an S8 but didn't buy an iPhone. The buyer with id 3 bought both.\n",
    "\n"
   ]
  },
  {
   "cell_type": "markdown",
   "metadata": {},
   "source": [
    "# Not In Operator"
   ]
  },
  {
   "cell_type": "code",
   "execution_count": null,
   "metadata": {},
   "outputs": [],
   "source": [
    "SELECT distinct buyer_id FROM Sales JOIN Product USING(product_id) WHERE product_name = 'S8'\n",
    "AND buyer_id NOT IN\n",
    "(SELECT distinct buyer_id FROM Sales JOIN Product USING(product_id) WHERE product_name = 'iPhone')"
   ]
  },
  {
   "cell_type": "markdown",
   "metadata": {},
   "source": [
    "# Having with Case Statement"
   ]
  },
  {
   "cell_type": "code",
   "execution_count": null,
   "metadata": {},
   "outputs": [],
   "source": [
    "SELECT s.buyer_id\n",
    "FROM Sales AS s INNER JOIN Product AS p\n",
    "ON s.product_id = p.product_id\n",
    "GROUP BY s.buyer_id\n",
    "HAVING SUM(CASE WHEN p.product_name = 'S8' THEN 1 ELSE 0 END) > 0\n",
    "AND SUM(CASE WHEN p.product_name = 'iPhone' THEN 1 ELSE 0 END) = 0"
   ]
  },
  {
   "cell_type": "markdown",
   "metadata": {},
   "source": [
    "# Having without Case"
   ]
  },
  {
   "cell_type": "code",
   "execution_count": null,
   "metadata": {},
   "outputs": [],
   "source": [
    "SELECT b.buyer_id\n",
    "FROM Product AS a\n",
    "JOIN Sales AS b\n",
    "ON a.product_id = b.product_id \n",
    "GROUP BY b.buyer_id \n",
    "HAVING SUM(a.product_name = 'S8') > 0 and SUM(a.product_name = 'iPhone') = 0"
   ]
  }
 ],
 "metadata": {
  "kernelspec": {
   "display_name": "Python 3",
   "language": "python",
   "name": "python3"
  },
  "language_info": {
   "codemirror_mode": {
    "name": "ipython",
    "version": 3
   },
   "file_extension": ".py",
   "mimetype": "text/x-python",
   "name": "python",
   "nbconvert_exporter": "python",
   "pygments_lexer": "ipython3",
   "version": "3.7.3"
  }
 },
 "nbformat": 4,
 "nbformat_minor": 2
}
