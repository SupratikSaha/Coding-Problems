{
 "cells": [
  {
   "cell_type": "markdown",
   "metadata": {},
   "source": [
    "Problem Statement. <br/>\n",
    "\n",
    "On an alphabet board, we start at position (0, 0), corresponding to character board[0][0]. <br/>\n",
    "Here, board = [\"abcde\", \"fghij\", \"klmno\", \"pqrst\", \"uvwxy\", \"z\"], as shown in the diagram below. <br/>\n",
    "\n",
    "We may make the following moves: <br/>\n",
    "    'U' moves our position up one row, if the position exists on the board;\n",
    "    'D' moves our position down one row, if the position exists on the board;\n",
    "    'L' moves our position left one column, if the position exists on the board;\n",
    "    'R' moves our position right one column, if the position exists on the board;\n",
    "    '!' adds the character board[r][c] at our current position (r, c) to the answer.\n",
    "\n",
    "(Here, the only positions that exist on the board are positions with letters on them.) <br/>\n",
    "Return a sequence of moves that makes our answer equal to target in the minimum number of moves. <br/> \n",
    "You may return any path that does so. <br/>\n",
    "\n",
    "Example 1: <br/>\n",
    "Input: target = \"leet\" <br/>\n",
    "Output: \"DDR!UURRR!!DDD!\" <br/>\n",
    "\n",
    "Example 2: <br/>\n",
    "Input: target = \"code\" <br/>\n",
    "Output: \"RR!DDRR!UUL!R!\""
   ]
  },
  {
   "cell_type": "markdown",
   "metadata": {},
   "source": [
    "# Linear Traversal and List - O(N) runtime, O(N) space"
   ]
  },
  {
   "cell_type": "code",
   "execution_count": 1,
   "metadata": {},
   "outputs": [],
   "source": [
    "class Solution:\n",
    "    def alphabetBoardPath(self, target: str) -> str:\n",
    "            \n",
    "        s_x, s_y = 0, 0\n",
    "        res = []\n",
    "        for char in target:\n",
    "            offset = ord(char) - ord('a')\n",
    "            d_x, d_y = offset // 5, offset % 5\n",
    "            \n",
    "            if d_x < s_x:\n",
    "                res += ['U'] * (s_x - d_x)\n",
    "            if d_y < s_y:\n",
    "                res += ['L'] * (s_y - d_y)\n",
    "            if d_y > s_y:\n",
    "                res += ['R'] * (d_y - s_y)\n",
    "            if d_x > s_x:\n",
    "                res += ['D'] * (d_x - s_x)\n",
    "                \n",
    "            res += ['!']\n",
    "            s_x, s_y = d_x, d_y\n",
    "            \n",
    "        return ''.join(res)"
   ]
  },
  {
   "cell_type": "code",
   "execution_count": 2,
   "metadata": {},
   "outputs": [
    {
     "data": {
      "text/plain": [
       "'RR!RRDD!UUL!R!'"
      ]
     },
     "execution_count": 2,
     "metadata": {},
     "output_type": "execute_result"
    }
   ],
   "source": [
    "instance = Solution()\n",
    "instance.alphabetBoardPath(\"code\")"
   ]
  }
 ],
 "metadata": {
  "kernelspec": {
   "display_name": "Python 3",
   "language": "python",
   "name": "python3"
  },
  "language_info": {
   "codemirror_mode": {
    "name": "ipython",
    "version": 3
   },
   "file_extension": ".py",
   "mimetype": "text/x-python",
   "name": "python",
   "nbconvert_exporter": "python",
   "pygments_lexer": "ipython3",
   "version": "3.7.3"
  }
 },
 "nbformat": 4,
 "nbformat_minor": 2
}
