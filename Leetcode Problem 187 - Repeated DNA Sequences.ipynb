{
 "cells": [
  {
   "cell_type": "markdown",
   "metadata": {},
   "source": [
    "Problem Statement.\n",
    "\n",
    "The DNA sequence is composed of a series of nucleotides abbreviated as 'A', 'C', 'G', and 'T'.\n",
    "\n",
    "    For example, \"ACGAATTCCG\" is a DNA sequence.\n",
    "\n",
    "When studying DNA, it is useful to identify repeated sequences within the DNA.\n",
    "\n",
    "Given a string s that represents a DNA sequence, return all the 10-letter-long sequences (substrings) that occur more than once in a DNA molecule. You may return the answer in any order.\n",
    "\n",
    " \n",
    "\n",
    "Example 1:\n",
    "\n",
    "Input: s = \"AAAAACCCCCAAAAACCCCCCAAAAAGGGTTT\"\n",
    "Output: [\"AAAAACCCCC\",\"CCCCCAAAAA\"]\n",
    "\n",
    "Example 2:\n",
    "\n",
    "Input: s = \"AAAAAAAAAAAAA\"\n",
    "Output: [\"AAAAAAAAAA\"]\n",
    "\n",
    " \n",
    "\n",
    "Constraints:\n",
    "\n",
    "    1 <= s.length <= 105\n",
    "    s[i] is either 'A', 'C', 'G', or 'T'."
   ]
  },
  {
   "cell_type": "markdown",
   "metadata": {},
   "source": [
    "# Bitmask - O((N - L) * L) runtime, O((N - L) * L) space"
   ]
  },
  {
   "cell_type": "code",
   "execution_count": 3,
   "metadata": {},
   "outputs": [],
   "source": [
    "from typing import List\n",
    "\n",
    "class Solution:\n",
    "    def findRepeatedDnaSequences(self, s: str) -> List[str]:\n",
    "        L, n = 10, len(s)\n",
    "        if n <= L: return []\n",
    "        \n",
    "        a = 4\n",
    "        aL = pow(a, L) \n",
    "        \n",
    "        to_int = {'A': 0, 'C': 1, 'G': 2, 'T': 3}\n",
    "        nums = [to_int.get(s[i]) for i in range(n)]\n",
    "        \n",
    "        bitmask = 0\n",
    "        for i in range(L):\n",
    "            bitmask <<= 2\n",
    "            bitmask |= nums[i]\n",
    "            \n",
    "        seen, output = {bitmask}, set()\n",
    "        for start in range(1, n - L + 1):\n",
    "            bitmask <<= 2\n",
    "            bitmask |= nums[start + L - 1]\n",
    "            \n",
    "            bitmask &= ~(3 << 2 * L)\n",
    "\n",
    "            if bitmask in seen: \n",
    "                output.add(s[start:start + L])\n",
    "            seen.add(bitmask)\n",
    "                \n",
    "        return list(output)"
   ]
  },
  {
   "cell_type": "markdown",
   "metadata": {},
   "source": [
    "# Rabin-Karp - Rolling Hash - O((N - L) * L) runtime, O((N - L) * L) space"
   ]
  },
  {
   "cell_type": "code",
   "execution_count": 1,
   "metadata": {},
   "outputs": [],
   "source": [
    "from typing import List\n",
    "\n",
    "class Solution:\n",
    "    def findRepeatedDnaSequences(self, s: str) -> List[str]:\n",
    "        L, n = 10, len(s)\n",
    "        if n <= L: return []\n",
    "        \n",
    "        a = 4\n",
    "        aL = pow(a, L) \n",
    "        \n",
    "        to_int = {'A': 0, 'C': 1, 'G': 2, 'T': 3}\n",
    "        nums = [to_int.get(s[i]) for i in range(n)]\n",
    "        \n",
    "        h = 0\n",
    "        for i in range(L):\n",
    "            h = h * a + nums[i]\n",
    "            \n",
    "        seen, output = {h}, set()\n",
    "        for start in range(1, n - L + 1):\n",
    "            h = h * a - nums[start - 1] * aL + nums[start + L - 1]\n",
    "\n",
    "            if h in seen: \n",
    "                output.add(s[start:start + L])\n",
    "            seen.add(h)\n",
    "                \n",
    "        return list(output)"
   ]
  },
  {
   "cell_type": "code",
   "execution_count": 4,
   "metadata": {},
   "outputs": [
    {
     "data": {
      "text/plain": [
       "['AAAAACCCCC', 'CCCCCAAAAA']"
      ]
     },
     "execution_count": 4,
     "metadata": {},
     "output_type": "execute_result"
    }
   ],
   "source": [
    "instance = Solution()\n",
    "instance.findRepeatedDnaSequences(\"AAAAACCCCCAAAAACCCCCCAAAAAGGGTTT\")"
   ]
  }
 ],
 "metadata": {
  "kernelspec": {
   "display_name": "Python 3",
   "language": "python",
   "name": "python3"
  },
  "language_info": {
   "codemirror_mode": {
    "name": "ipython",
    "version": 3
   },
   "file_extension": ".py",
   "mimetype": "text/x-python",
   "name": "python",
   "nbconvert_exporter": "python",
   "pygments_lexer": "ipython3",
   "version": "3.7.3"
  }
 },
 "nbformat": 4,
 "nbformat_minor": 2
}
