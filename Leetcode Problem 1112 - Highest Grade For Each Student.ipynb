{
 "cells": [
  {
   "cell_type": "markdown",
   "metadata": {},
   "source": [
    "    Problem Statement.\n",
    "\n",
    "    Table: Enrollments\n",
    "\n",
    "    +---------------+---------+\n",
    "    | Column Name   | Type    |\n",
    "    +---------------+---------+\n",
    "    | student_id    | int     |\n",
    "    | course_id     | int     |\n",
    "    | grade         | int     |\n",
    "    +---------------+---------+\n",
    "    (student_id, course_id) is the primary key of this table.\n",
    "\n",
    "\n",
    "\n",
    "    Write a SQL query to find the highest grade with its corresponding course for each student. In case of a tie, you should find the course with the smallest course_id.\n",
    "\n",
    "    Return the result table ordered by student_id in ascending order.\n",
    "\n",
    "    The query result format is in the following example.\n",
    "\n",
    "\n",
    "\n",
    "    Example 1:\n",
    "\n",
    "    Input: \n",
    "    Enrollments table:\n",
    "    +------------+-------------------+\n",
    "    | student_id | course_id | grade |\n",
    "    +------------+-----------+-------+\n",
    "    | 2          | 2         | 95    |\n",
    "    | 2          | 3         | 95    |\n",
    "    | 1          | 1         | 90    |\n",
    "    | 1          | 2         | 99    |\n",
    "    | 3          | 1         | 80    |\n",
    "    | 3          | 2         | 75    |\n",
    "    | 3          | 3         | 82    |\n",
    "    +------------+-----------+-------+\n",
    "    Output: \n",
    "    +------------+-------------------+\n",
    "    | student_id | course_id | grade |\n",
    "    +------------+-----------+-------+\n",
    "    | 1          | 2         | 99    |\n",
    "    | 2          | 2         | 95    |\n",
    "    | 3          | 3         | 82    |\n",
    "    +------------+-----------+-------+"
   ]
  },
  {
   "cell_type": "markdown",
   "metadata": {},
   "source": [
    "# Rank"
   ]
  },
  {
   "cell_type": "code",
   "execution_count": null,
   "metadata": {},
   "outputs": [],
   "source": [
    "SELECT student_id, course_id, grade\n",
    "FROM\n",
    "(SELECT *, rank() over (partition by student_id order by grade desc, course_id) as r\n",
    "FROM Enrollments) tab\n",
    "where r = 1\n",
    "order by student_id"
   ]
  }
 ],
 "metadata": {
  "kernelspec": {
   "display_name": "Python 3",
   "language": "python",
   "name": "python3"
  },
  "language_info": {
   "codemirror_mode": {
    "name": "ipython",
    "version": 3
   },
   "file_extension": ".py",
   "mimetype": "text/x-python",
   "name": "python",
   "nbconvert_exporter": "python",
   "pygments_lexer": "ipython3",
   "version": "3.7.3"
  }
 },
 "nbformat": 4,
 "nbformat_minor": 2
}
