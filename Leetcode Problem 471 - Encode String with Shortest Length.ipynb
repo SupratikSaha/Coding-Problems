{
 "cells": [
  {
   "cell_type": "markdown",
   "metadata": {},
   "source": [
    "Problem Statement. <br/>\n",
    "\n",
    "Given a non-empty string, encode the string such that its encoded length is the shortest. <br/>\n",
    "The encoding rule is: k[encoded_string], where the encoded_string inside the square brackets is being repeated exactly k times. <br/>\n",
    "\n",
    "Note: <br/>\n",
    "\n",
    "    k will be a positive integer.\n",
    "    If an encoding process does not make the string shorter, then do not encode it. If there are several solutions, return any of them.\n",
    "\n",
    "Example 1: <br/>\n",
    "Input: s = \"aaa\" <br/>\n",
    "Output: \"aaa\" <br/>\n",
    "Explanation: There is no way to encode it such that it is shorter than the input string, so we do not encode it. <br/>\n",
    "\n",
    "Example 2: <br/>\n",
    "Input: s = \"aaaaa\" <br/>\n",
    "Output: \"5[a]\" <br/>\n",
    "Explanation: \"5[a]\" is shorter than \"aaaaa\" by 1 character. <br/>\n",
    "\n",
    "Example 3: <br/>\n",
    "Input: s = \"aaaaaaaaaa\" <br/>\n",
    "Output: \"10[a]\" <br/>\n",
    "Explanation: \"a9[a]\" or \"9[a]a\" are also valid solutions, both of them have the same length = 5, which is the same as \"10[a]\". <br/>\n",
    "\n",
    "Example 4:\n",
    "Input: s = \"aabcaabcd\" <br/>\n",
    "Output: \"2[aabc]d\" <br/>\n",
    "Explanation: \"aabc\" occurs twice, so one answer can be \"2[aabc]d\". <br/>\n",
    "\n",
    "Example 5: <br/>\n",
    "Input: s = \"abbbabbbcabbbabbbc\" <br/>\n",
    "Output: \"2[2[abbb]c]\" <br/>\n",
    "Explanation: \"abbbabbbc\" occurs twice, but \"abbbabbbc\" can also be encoded to \"2[abbb]c\", so one answer can be \"2[2[abbb]c]\"."
   ]
  },
  {
   "cell_type": "markdown",
   "metadata": {},
   "source": [
    "# DFS with memoization - O(N ^ 3) runtime, O(N ^ 2) space"
   ]
  },
  {
   "cell_type": "code",
   "execution_count": 2,
   "metadata": {},
   "outputs": [],
   "source": [
    "class Solution:\n",
    "    def encode(self, s: str) -> str:\n",
    "        return self.encodeRecursive(s)\n",
    "        \n",
    "    def encodeRecursive(self, s, memo={}) -> str:\n",
    "        if s not in memo:\n",
    "            n = len(s)\n",
    "            i = (s + s).find(s, 1)\n",
    "            one = '%d[%s]' % (n // i, self.encodeRecursive(s[:i])) if i < n else s\n",
    "            multi = [self.encodeRecursive(s[:j]) + self.encodeRecursive(s[j:]) for j in range(1, n)]\n",
    "            memo[s] = min([s, one] + multi, key=len)\n",
    "            \n",
    "        return memo[s] "
   ]
  },
  {
   "cell_type": "code",
   "execution_count": 3,
   "metadata": {},
   "outputs": [
    {
     "data": {
      "text/plain": [
       "'2[2[abbb]c]'"
      ]
     },
     "execution_count": 3,
     "metadata": {},
     "output_type": "execute_result"
    }
   ],
   "source": [
    "instance = Solution()\n",
    "instance .encode(\"abbbabbbcabbbabbbc\")"
   ]
  }
 ],
 "metadata": {
  "kernelspec": {
   "display_name": "Python 3",
   "language": "python",
   "name": "python3"
  },
  "language_info": {
   "codemirror_mode": {
    "name": "ipython",
    "version": 3
   },
   "file_extension": ".py",
   "mimetype": "text/x-python",
   "name": "python",
   "nbconvert_exporter": "python",
   "pygments_lexer": "ipython3",
   "version": "3.7.3"
  }
 },
 "nbformat": 4,
 "nbformat_minor": 2
}
