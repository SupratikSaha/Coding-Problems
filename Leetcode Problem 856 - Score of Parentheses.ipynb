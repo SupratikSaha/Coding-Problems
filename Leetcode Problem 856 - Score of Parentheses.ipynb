{
 "cells": [
  {
   "cell_type": "markdown",
   "metadata": {},
   "source": [
    "Problem Statement.\n",
    "\n",
    "Given a balanced parentheses string s, return the score of the string.\n",
    "\n",
    "The score of a balanced parentheses string is based on the following rule:\n",
    "\n",
    "    \"()\" has score 1.\n",
    "    AB has score A + B, where A and B are balanced parentheses strings.\n",
    "    (A) has score 2 * A, where A is a balanced parentheses string.\n",
    "\n",
    " \n",
    "\n",
    "Example 1:\n",
    "\n",
    "Input: s = \"()\"\n",
    "Output: 1\n",
    "\n",
    "Example 2:\n",
    "\n",
    "Input: s = \"(())\"\n",
    "Output: 2\n",
    "\n",
    "Example 3:\n",
    "\n",
    "Input: s = \"()()\"\n",
    "Output: 2\n",
    "\n",
    " \n",
    "\n",
    "Constraints:\n",
    "\n",
    "    2 <= s.length <= 50\n",
    "    s consists of only '(' and ')'.\n",
    "    s is a balanced parentheses string."
   ]
  },
  {
   "cell_type": "markdown",
   "metadata": {},
   "source": [
    "# Linear - O(N) runtime, O(1) space"
   ]
  },
  {
   "cell_type": "code",
   "execution_count": 1,
   "metadata": {},
   "outputs": [],
   "source": [
    "class Solution:\n",
    "    def scoreOfParentheses(self, s: str) -> int:\n",
    "        ans = bal = 0\n",
    "        \n",
    "        for i, x in enumerate(s):\n",
    "            if x == '(':\n",
    "                bal += 1\n",
    "            else:\n",
    "                bal -= 1\n",
    "                if s[i-1] == '(':\n",
    "                    ans += 1 << bal\n",
    "                    \n",
    "        return ans"
   ]
  },
  {
   "cell_type": "code",
   "execution_count": 3,
   "metadata": {},
   "outputs": [
    {
     "data": {
      "text/plain": [
       "2"
      ]
     },
     "execution_count": 3,
     "metadata": {},
     "output_type": "execute_result"
    }
   ],
   "source": [
    "instance = Solution()\n",
    "instance.scoreOfParentheses(\"(())\")"
   ]
  }
 ],
 "metadata": {
  "kernelspec": {
   "display_name": "Python 3",
   "language": "python",
   "name": "python3"
  },
  "language_info": {
   "codemirror_mode": {
    "name": "ipython",
    "version": 3
   },
   "file_extension": ".py",
   "mimetype": "text/x-python",
   "name": "python",
   "nbconvert_exporter": "python",
   "pygments_lexer": "ipython3",
   "version": "3.7.3"
  }
 },
 "nbformat": 4,
 "nbformat_minor": 2
}
