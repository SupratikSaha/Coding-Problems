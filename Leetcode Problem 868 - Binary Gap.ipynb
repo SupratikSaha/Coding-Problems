{
 "cells": [
  {
   "cell_type": "markdown",
   "metadata": {},
   "source": [
    "Problem Statement.\n",
    "\n",
    "Given a positive integer n, find and return the longest distance between any two adjacent 1's in the binary representation of n. If there are no two adjacent 1's, return 0.\n",
    "\n",
    "Two 1's are adjacent if there are only 0's separating them (possibly no 0's). The distance between two 1's is the absolute difference between their bit positions. For example, the two 1's in \"1001\" have a distance of 3.\n",
    "\n",
    " \n",
    "\n",
    "Example 1:\n",
    "\n",
    "Input: n = 22\n",
    "Output: 2\n",
    "Explanation: 22 in binary is \"10110\".\n",
    "The first adjacent pair of 1's is \"10110\" with a distance of 2.\n",
    "The second adjacent pair of 1's is \"10110\" with a distance of 1.\n",
    "The answer is the largest of these two distances, which is 2.\n",
    "Note that \"10110\" is not a valid pair since there is a 1 separating the two 1's underlined.\n",
    "\n",
    "Example 2:\n",
    "\n",
    "Input: n = 8\n",
    "Output: 0\n",
    "Explanation: 8 in binary is \"1000\".\n",
    "There are not any adjacent pairs of 1's in the binary representation of 8, so we return 0.\n",
    "\n",
    "Example 3:\n",
    "\n",
    "Input: n = 5\n",
    "Output: 2\n",
    "Explanation: 5 in binary is \"101\".\n",
    "\n",
    " \n",
    "\n",
    "Constraints:\n",
    "\n",
    "    1 <= n <= 10^9"
   ]
  },
  {
   "cell_type": "markdown",
   "metadata": {},
   "source": [
    "# Exponents - O(Log N) runtime, O(1) space"
   ]
  },
  {
   "cell_type": "code",
   "execution_count": 2,
   "metadata": {},
   "outputs": [],
   "source": [
    "class Solution:\n",
    "    def binaryGap(self, n: int) -> int:\n",
    "        prev, maxGap = None, 0\n",
    "        \n",
    "        for i in reversed(range(32)):\n",
    "            exp = 1 << i\n",
    "            if n >= exp:\n",
    "                n -= exp\n",
    "                if prev: \n",
    "                    maxGap = max(maxGap, prev - i)\n",
    "                prev = i\n",
    "                if not n: break\n",
    "                \n",
    "        return maxGap"
   ]
  },
  {
   "cell_type": "markdown",
   "metadata": {},
   "source": [
    "# Simpler Exponents - O(Log N) runtime, O(1) space"
   ]
  },
  {
   "cell_type": "code",
   "execution_count": 6,
   "metadata": {},
   "outputs": [],
   "source": [
    "class Solution:\n",
    "    def binaryGap(self, n: int) -> int:\n",
    "        prev, maxGap = None, 0\n",
    "        \n",
    "        for i in range(32):\n",
    "            if (n >> i) & 1:\n",
    "                if prev is not None: \n",
    "                    maxGap = max(maxGap, i - prev)\n",
    "                prev = i\n",
    "                if not n: break\n",
    "                \n",
    "        return maxGap"
   ]
  },
  {
   "cell_type": "code",
   "execution_count": 7,
   "metadata": {},
   "outputs": [
    {
     "data": {
      "text/plain": [
       "2"
      ]
     },
     "execution_count": 7,
     "metadata": {},
     "output_type": "execute_result"
    }
   ],
   "source": [
    "instance = Solution()\n",
    "instance.binaryGap(22)"
   ]
  }
 ],
 "metadata": {
  "kernelspec": {
   "display_name": "Python 3",
   "language": "python",
   "name": "python3"
  },
  "language_info": {
   "codemirror_mode": {
    "name": "ipython",
    "version": 3
   },
   "file_extension": ".py",
   "mimetype": "text/x-python",
   "name": "python",
   "nbconvert_exporter": "python",
   "pygments_lexer": "ipython3",
   "version": "3.7.3"
  }
 },
 "nbformat": 4,
 "nbformat_minor": 2
}
