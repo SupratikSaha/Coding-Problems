{
 "cells": [
  {
   "cell_type": "markdown",
   "metadata": {},
   "source": [
    "Problem Statement.\n",
    "\n",
    "Given three integers, k, digit1, and digit2, you want to find the smallest integer that is:\n",
    "\n",
    "    Larger than k,\n",
    "    A multiple of k, and\n",
    "    Comprised of only the digits digit1 and/or digit2.\n",
    "\n",
    "Return the smallest such integer. If no such integer exists or the integer exceeds the limit of a signed 32-bit integer (231 - 1), return -1.\n",
    "\n",
    " \n",
    "\n",
    "Example 1:\n",
    "\n",
    "Input: k = 2, digit1 = 0, digit2 = 2\n",
    "Output: 20\n",
    "Explanation:\n",
    "20 is the first integer larger than 2, a multiple of 2, and comprised of only the digits 0 and/or 2.\n",
    "\n",
    "Example 2:\n",
    "\n",
    "Input: k = 3, digit1 = 4, digit2 = 2\n",
    "Output: 24\n",
    "Explanation:\n",
    "24 is the first integer larger than 3, a multiple of 3, and comprised of only the digits 4 and/or 2.\n",
    "\n",
    "Example 3:\n",
    "\n",
    "Input: k = 2, digit1 = 0, digit2 = 0\n",
    "Output: -1\n",
    "Explanation:\n",
    "No integer meets the requirements so return -1.\n",
    "\n",
    " \n",
    "\n",
    "Constraints:\n",
    "\n",
    "    1 <= k <= 1000\n",
    "    0 <= digit1 <= 9\n",
    "    0 <= digit2 <= 9"
   ]
  },
  {
   "cell_type": "markdown",
   "metadata": {},
   "source": [
    "# BFS - O(2 ** 10) runtime, O(2 ** 10) space"
   ]
  },
  {
   "cell_type": "code",
   "execution_count": 3,
   "metadata": {},
   "outputs": [],
   "source": [
    "from collections import deque\n",
    "\n",
    "class Solution:\n",
    "    def findInteger(self, k: int, digit1: int, digit2: int) -> int:\n",
    "        mi = min(digit1, digit2)\n",
    "        ma = max(digit1, digit2)\n",
    "        queue = deque([mi, ma]) if mi != ma else deque([mi])\n",
    "        limit = 2**31 - 1\n",
    "        \n",
    "        while queue:\n",
    "            cur = queue.popleft()\n",
    "            if cur == 0 or cur > limit: continue\n",
    "            \n",
    "            if cur > k and cur % k == 0: return cur\n",
    "            \n",
    "            queue.append(cur*10 + mi)\n",
    "            if mi != ma: queue.append(cur*10 + ma)\n",
    "                \n",
    "        return -1"
   ]
  },
  {
   "cell_type": "code",
   "execution_count": 4,
   "metadata": {},
   "outputs": [
    {
     "data": {
      "text/plain": [
       "111"
      ]
     },
     "execution_count": 4,
     "metadata": {},
     "output_type": "execute_result"
    }
   ],
   "source": [
    "instance = Solution()\n",
    "instance.findInteger(3, 1, 4)"
   ]
  }
 ],
 "metadata": {
  "kernelspec": {
   "display_name": "Python 3",
   "language": "python",
   "name": "python3"
  },
  "language_info": {
   "codemirror_mode": {
    "name": "ipython",
    "version": 3
   },
   "file_extension": ".py",
   "mimetype": "text/x-python",
   "name": "python",
   "nbconvert_exporter": "python",
   "pygments_lexer": "ipython3",
   "version": "3.7.3"
  }
 },
 "nbformat": 4,
 "nbformat_minor": 2
}
