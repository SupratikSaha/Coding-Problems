{
 "cells": [
  {
   "cell_type": "markdown",
   "metadata": {},
   "source": [
    "Problem Statement.\n",
    "\n",
    "Given an array of positive integers arr (not necessarily distinct), return the lexicographically largest permutation that is smaller than arr, that can be made with exactly one swap (A swap exchanges the positions of two numbers arr[i] and arr[j]). If it cannot be done, then return the same array.\n",
    "\n",
    " \n",
    "\n",
    "Example 1:\n",
    "\n",
    "Input: arr = [3,2,1]\n",
    "Output: [3,1,2]\n",
    "Explanation: Swapping 2 and 1.\n",
    "\n",
    "Example 2:\n",
    "\n",
    "Input: arr = [1,1,5]\n",
    "Output: [1,1,5]\n",
    "Explanation: This is already the smallest permutation.\n",
    "\n",
    "Example 3:\n",
    "\n",
    "Input: arr = [1,9,4,6,7]\n",
    "Output: [1,7,4,6,9]\n",
    "Explanation: Swapping 9 and 7.\n",
    "\n",
    " \n",
    "\n",
    "Constraints:\n",
    "\n",
    "    1 <= arr.length <= 10^4\n",
    "    1 <= arr[i] <= 10^4"
   ]
  },
  {
   "cell_type": "markdown",
   "metadata": {},
   "source": [
    "# Linear - O(N) runtime, O(1) space"
   ]
  },
  {
   "cell_type": "code",
   "execution_count": 1,
   "metadata": {},
   "outputs": [],
   "source": [
    "from typing import List\n",
    "\n",
    "class Solution:\n",
    "    def prevPermOpt1(self, arr: List[int]) -> List[int]:\n",
    "        n = len(arr)\n",
    "        j = n - 1\n",
    "\n",
    "        while j > 0 and arr[j-1] <= arr[j]:\n",
    "            j -= 1\n",
    "\n",
    "        if j == 0: return arr\n",
    "\n",
    "        i, k = j - 1, n - 1\n",
    "        while k > i and (arr[i] <= arr[k] or arr[k-1] == arr[k]):\n",
    "            k -= 1\n",
    "            \n",
    "        arr[i], arr[k] = arr[k], arr[i]            \n",
    "\n",
    "        return arr"
   ]
  },
  {
   "cell_type": "code",
   "execution_count": 2,
   "metadata": {},
   "outputs": [
    {
     "data": {
      "text/plain": [
       "[1, 7, 4, 6, 9]"
      ]
     },
     "execution_count": 2,
     "metadata": {},
     "output_type": "execute_result"
    }
   ],
   "source": [
    "instance = Solution()\n",
    "instance.prevPermOpt1([1,9,4,6,7])"
   ]
  }
 ],
 "metadata": {
  "kernelspec": {
   "display_name": "Python 3",
   "language": "python",
   "name": "python3"
  },
  "language_info": {
   "codemirror_mode": {
    "name": "ipython",
    "version": 3
   },
   "file_extension": ".py",
   "mimetype": "text/x-python",
   "name": "python",
   "nbconvert_exporter": "python",
   "pygments_lexer": "ipython3",
   "version": "3.7.3"
  }
 },
 "nbformat": 4,
 "nbformat_minor": 2
}
