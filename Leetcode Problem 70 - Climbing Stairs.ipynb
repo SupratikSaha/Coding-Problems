{
 "cells": [
  {
   "cell_type": "markdown",
   "metadata": {},
   "source": [
    "# Using Top Down Dynamic Programming - O(n) run time, O(n) space"
   ]
  },
  {
   "cell_type": "code",
   "execution_count": 2,
   "metadata": {},
   "outputs": [],
   "source": [
    "from typing import List\n",
    "\n",
    "class Solution:\n",
    "    def climbStairs(self, n: int) -> int:\n",
    "        dp = [-1] * (n + 1)\n",
    "        \n",
    "        return self.climbStairsRecursive(dp, n)\n",
    "    \n",
    "    def climbStairsRecursive(self, dp: List[int], n: int) -> int:\n",
    "        if n == 0:\n",
    "            return 1\n",
    "        \n",
    "        if n < 0:\n",
    "            return 0\n",
    "        \n",
    "        if dp[n] == -1:\n",
    "            oneStep = self.climbStairsRecursive(dp, n - 1)\n",
    "            twoStep = self.climbStairsRecursive(dp, n - 2) if n >= 2 else 0\n",
    "            dp[n] = oneStep + twoStep\n",
    "        \n",
    "        return dp[n]"
   ]
  },
  {
   "cell_type": "markdown",
   "metadata": {},
   "source": [
    "# Using Bottom Up Dynamic Programming - O(n) run time, O(1) space"
   ]
  },
  {
   "cell_type": "code",
   "execution_count": 3,
   "metadata": {},
   "outputs": [],
   "source": [
    "class Solution:\n",
    "    def climbStairs(self, n: int) -> int:\n",
    "        if n <= 0:\n",
    "            return 0\n",
    "        elif n <= 2:\n",
    "            return n\n",
    "        \n",
    "        dp = [0] * (n + 1)\n",
    "\n",
    "        dp[0], dp[1], dp[2] = 0, 1, 2\n",
    "        \n",
    "        for i in range(3, (n + 1)):\n",
    "            dp[i] = dp[i - 1] + dp[i - 2]\n",
    "        \n",
    "        return dp[n]"
   ]
  },
  {
   "cell_type": "markdown",
   "metadata": {},
   "source": [
    "# Using Space Optimized Bottom Up Dynamic Programming - O(n) run time, O(1) space"
   ]
  },
  {
   "cell_type": "code",
   "execution_count": 6,
   "metadata": {},
   "outputs": [],
   "source": [
    "class Solution:\n",
    "    def climbStairs(self, n: int) -> int:\n",
    "        if n <= 0:\n",
    "            return 0\n",
    "        \n",
    "        i, j = 1, 1    \n",
    "        for _ in range(2, (n + 1)):\n",
    "            i, j = j, i + j\n",
    "        \n",
    "        return j"
   ]
  },
  {
   "cell_type": "code",
   "execution_count": 7,
   "metadata": {},
   "outputs": [
    {
     "data": {
      "text/plain": [
       "89"
      ]
     },
     "execution_count": 7,
     "metadata": {},
     "output_type": "execute_result"
    }
   ],
   "source": [
    "Instance = Solution()\n",
    "Instance.climbStairs(10)"
   ]
  }
 ],
 "metadata": {
  "kernelspec": {
   "display_name": "Python 3",
   "language": "python",
   "name": "python3"
  },
  "language_info": {
   "codemirror_mode": {
    "name": "ipython",
    "version": 3
   },
   "file_extension": ".py",
   "mimetype": "text/x-python",
   "name": "python",
   "nbconvert_exporter": "python",
   "pygments_lexer": "ipython3",
   "version": "3.7.3"
  }
 },
 "nbformat": 4,
 "nbformat_minor": 2
}
