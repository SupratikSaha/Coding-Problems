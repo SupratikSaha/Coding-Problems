{
 "cells": [
  {
   "cell_type": "markdown",
   "metadata": {},
   "source": [
    "Problem Statement. <br/>\n",
    "\n",
    "A peak element is an element that is strictly greater than its neighbors. <br/>\n",
    "Given an integer array nums, find a peak element, and return its index. If the array contains multiple peaks, return the index to any of the peaks. <br/>\n",
    "You may imagine that nums[-1] = nums[n] = -∞. <br/>\n",
    "\n",
    "Example 1: <br/>\n",
    "Input: nums = [1,2,3,1] <br/>\n",
    "Output: 2 <br/>\n",
    "Explanation: 3 is a peak element and your function should return the index number 2. <br/>\n",
    "\n",
    "Example 2: <br/>\n",
    "Input: nums = [1,2,1,3,5,6,4] <br/>\n",
    "Output: 5 <br/>\n",
    "Explanation: Your function can return either index number 1 where the peak element is 2, or index number 5 where the peak element is 6."
   ]
  },
  {
   "cell_type": "markdown",
   "metadata": {},
   "source": [
    "# Array Traversal - O(N) runtime, O(1) space"
   ]
  },
  {
   "cell_type": "code",
   "execution_count": 1,
   "metadata": {},
   "outputs": [],
   "source": [
    "from typing import List\n",
    "\n",
    "class Solution:\n",
    "    def findPeakElement(self, nums: List[int]) -> int:\n",
    "        n = len(nums)\n",
    "        \n",
    "        for i in range(n - 1):\n",
    "            if nums[i] > nums[i + 1]:\n",
    "                return i\n",
    "            \n",
    "        return n - 1 "
   ]
  },
  {
   "cell_type": "markdown",
   "metadata": {},
   "source": [
    "# Modified Binary Search - O(log N) runtime, O(1) space"
   ]
  },
  {
   "cell_type": "code",
   "execution_count": 2,
   "metadata": {},
   "outputs": [],
   "source": [
    "from typing import List\n",
    "\n",
    "class Solution:\n",
    "    def findPeakElement(self, nums: List[int]) -> int:\n",
    "        n = len(nums)\n",
    "        \n",
    "        boundLeft, boundRight = 0, n - 1\n",
    "        \n",
    "        while boundLeft <= boundRight:\n",
    "            mid = boundLeft + (boundRight - boundLeft) // 2\n",
    "            \n",
    "            left = nums[mid - 1] if mid > 0 else float('-inf')\n",
    "            right = nums[mid + 1] if mid < n - 1 else float('-inf')\n",
    "            val = nums[mid]\n",
    "            \n",
    "            if val > left and val > right:\n",
    "                return mid\n",
    "            elif val < left:\n",
    "                boundRight = mid - 1\n",
    "            else:\n",
    "                boundLeft = mid + 1\n",
    "                \n",
    "        return -1"
   ]
  },
  {
   "cell_type": "code",
   "execution_count": 3,
   "metadata": {},
   "outputs": [
    {
     "data": {
      "text/plain": [
       "5"
      ]
     },
     "execution_count": 3,
     "metadata": {},
     "output_type": "execute_result"
    }
   ],
   "source": [
    "instance = Solution()\n",
    "instance.findPeakElement([1,2,1,3,5,6,4])"
   ]
  }
 ],
 "metadata": {
  "kernelspec": {
   "display_name": "Python 3",
   "language": "python",
   "name": "python3"
  },
  "language_info": {
   "codemirror_mode": {
    "name": "ipython",
    "version": 3
   },
   "file_extension": ".py",
   "mimetype": "text/x-python",
   "name": "python",
   "nbconvert_exporter": "python",
   "pygments_lexer": "ipython3",
   "version": "3.7.3"
  }
 },
 "nbformat": 4,
 "nbformat_minor": 2
}
