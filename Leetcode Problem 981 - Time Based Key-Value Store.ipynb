{
 "cells": [
  {
   "cell_type": "markdown",
   "metadata": {},
   "source": [
    "Problem Statement.\n",
    "\n",
    "Create a timebased key-value store class TimeMap, that supports two operations.\n",
    "\n",
    "1. set(string key, string value, int timestamp)\n",
    "\n",
    "    Stores the key and value, along with the given timestamp.\n",
    "\n",
    "2. get(string key, int timestamp)\n",
    "\n",
    "    Returns a value such that set(key, value, timestamp_prev) was called previously, with timestamp_prev <= timestamp.\n",
    "    If there are multiple such values, it returns the one with the largest timestamp_prev.\n",
    "    If there are no values, it returns the empty string (\"\").\n",
    "\n",
    " \n",
    "\n",
    "Example 1:\n",
    "\n",
    "Input: inputs = [\"TimeMap\",\"set\",\"get\",\"get\",\"set\",\"get\",\"get\"], inputs = [[],[\"foo\",\"bar\",1],[\"foo\",1],[\"foo\",3],[\"foo\",\"bar2\",4],[\"foo\",4],[\"foo\",5]]\n",
    "Output: [null,null,\"bar\",\"bar\",null,\"bar2\",\"bar2\"]\n",
    "Explanation:   \n",
    "TimeMap kv;   \n",
    "kv.set(\"foo\", \"bar\", 1); // store the key \"foo\" and value \"bar\" along with timestamp = 1   \n",
    "kv.get(\"foo\", 1);  // output \"bar\"   \n",
    "kv.get(\"foo\", 3); // output \"bar\" since there is no value corresponding to foo at timestamp 3 and timestamp 2, then the only value is at timestamp 1 ie \"bar\"   \n",
    "kv.set(\"foo\", \"bar2\", 4);   \n",
    "kv.get(\"foo\", 4); // output \"bar2\"   \n",
    "kv.get(\"foo\", 5); //output \"bar2\"   \n",
    "\n",
    "Example 2:\n",
    "\n",
    "Input: inputs = [\"TimeMap\",\"set\",\"set\",\"get\",\"get\",\"get\",\"get\",\"get\"], inputs = [[],[\"love\",\"high\",10],[\"love\",\"low\",20],[\"love\",5],[\"love\",10],[\"love\",15],[\"love\",20],[\"love\",25]]\n",
    "Output: [null,null,null,\"\",\"high\",\"high\",\"low\",\"low\"]\n",
    "\n",
    " \n",
    "\n",
    "Note:\n",
    "\n",
    "    All key/value strings are lowercase.\n",
    "    All key/value strings have length in the range [1, 100]\n",
    "    The timestamps for all TimeMap.set operations are strictly increasing.\n",
    "    1 <= timestamp <= 10^7\n",
    "    TimeMap.set and TimeMap.get functions will be called a total of 120000 times (combined) per test case."
   ]
  },
  {
   "cell_type": "markdown",
   "metadata": {},
   "source": [
    "# Binary Search and HashTable - O(Log M) runtime, O(N) space, where M is the highest number of values for a key and N is the total values"
   ]
  },
  {
   "cell_type": "code",
   "execution_count": 2,
   "metadata": {},
   "outputs": [],
   "source": [
    "from collections import defaultdict\n",
    "\n",
    "class TimeMap:\n",
    "\n",
    "    def __init__(self):\n",
    "        \"\"\"\n",
    "        Initialize your data structure here.\n",
    "        \"\"\"\n",
    "        self.keyDict = defaultdict(list)\n",
    "\n",
    "    def set(self, key: str, value: str, timestamp: int) -> None:\n",
    "        self.keyDict[key].append((timestamp, value))\n",
    "\n",
    "    def get(self, key: str, timestamp: int) -> str:\n",
    "        if key not in self.keyDict: return \"\"\n",
    "        \n",
    "        valueList = self.keyDict[key]\n",
    "        \n",
    "        if timestamp < valueList[0][0]: return \"\"\n",
    "        if timestamp >= valueList[-1][0]: return valueList[-1][1]\n",
    "        \n",
    "        result = valueList[0][1]\n",
    "        low, high = 0, len(valueList)-1\n",
    "        while low < high:\n",
    "            mid = low + (high - low) // 2\n",
    "            if timestamp == valueList[mid][0]:\n",
    "                return valueList[mid][1]\n",
    "            if timestamp > valueList[mid][0]:\n",
    "                result = valueList[mid][1]\n",
    "                low = mid + 1\n",
    "            elif timestamp < valueList[mid][0]:\n",
    "                high = mid - 1\n",
    "                \n",
    "        return result"
   ]
  },
  {
   "cell_type": "code",
   "execution_count": 4,
   "metadata": {},
   "outputs": [
    {
     "name": "stdout",
     "output_type": "stream",
     "text": [
      "\n",
      "high\n",
      "low\n",
      "high\n",
      "low\n"
     ]
    }
   ],
   "source": [
    "instance = TimeMap()\n",
    "instance.set(\"love\",\"high\",10)\n",
    "instance.set(\"love\",\"low\",20)\n",
    "print(instance.get(\"love\",5))\n",
    "print(instance.get(\"love\",10))\n",
    "print(instance.get(\"love\",25))\n",
    "print(instance.get(\"love\",15))\n",
    "print(instance.get(\"love\",20))"
   ]
  }
 ],
 "metadata": {
  "kernelspec": {
   "display_name": "Python 3",
   "language": "python",
   "name": "python3"
  },
  "language_info": {
   "codemirror_mode": {
    "name": "ipython",
    "version": 3
   },
   "file_extension": ".py",
   "mimetype": "text/x-python",
   "name": "python",
   "nbconvert_exporter": "python",
   "pygments_lexer": "ipython3",
   "version": "3.7.3"
  }
 },
 "nbformat": 4,
 "nbformat_minor": 2
}
