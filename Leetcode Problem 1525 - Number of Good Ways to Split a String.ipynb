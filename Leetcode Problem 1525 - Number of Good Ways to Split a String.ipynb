{
 "cells": [
  {
   "cell_type": "markdown",
   "metadata": {},
   "source": [
    "Problem Statement.\n",
    "\n",
    "You are given a string s, a split is called good if you can split s into 2 non-empty strings p and q where its concatenation is equal to s and the number of distinct letters in p and q are the same.\n",
    "\n",
    "Return the number of good splits you can make in s.\n",
    "\n",
    " \n",
    "\n",
    "Example 1:\n",
    "\n",
    "Input: s = \"aacaba\"\n",
    "Output: 2\n",
    "Explanation: There are 5 ways to split \"aacaba\" and 2 of them are good. \n",
    "(\"a\", \"acaba\") Left string and right string contains 1 and 3 different letters respectively.\n",
    "(\"aa\", \"caba\") Left string and right string contains 1 and 3 different letters respectively.\n",
    "(\"aac\", \"aba\") Left string and right string contains 2 and 2 different letters respectively (good split).\n",
    "(\"aaca\", \"ba\") Left string and right string contains 2 and 2 different letters respectively (good split).\n",
    "(\"aacab\", \"a\") Left string and right string contains 3 and 1 different letters respectively.\n",
    "\n",
    "Example 2:\n",
    "\n",
    "Input: s = \"abcd\"\n",
    "Output: 1\n",
    "Explanation: Split the string as follows (\"ab\", \"cd\").\n",
    "\n",
    "Example 3:\n",
    "\n",
    "Input: s = \"aaaaa\"\n",
    "Output: 4\n",
    "Explanation: All possible splits are good.\n",
    "\n",
    "Example 4:\n",
    "\n",
    "Input: s = \"acbadbaada\"\n",
    "Output: 2\n",
    "\n",
    " \n",
    "\n",
    "Constraints:\n",
    "\n",
    "    s contains only lowercase English letters.\n",
    "    1 <= s.length <= 10^5"
   ]
  },
  {
   "cell_type": "markdown",
   "metadata": {},
   "source": [
    "# 2 HashTables, 2 Pass - O(N) runtime, O(N) space"
   ]
  },
  {
   "cell_type": "code",
   "execution_count": 1,
   "metadata": {},
   "outputs": [],
   "source": [
    "from collections import Counter, defaultdict\n",
    "\n",
    "class Solution:\n",
    "    def numSplits(self, s: str) -> int:\n",
    "        q_counter = Counter(s)\n",
    "        p_counter = defaultdict(int)\n",
    "        result = 0\n",
    "        \n",
    "        for c in s:\n",
    "            q_counter[c] -= 1\n",
    "            if q_counter[c] == 0: q_counter.pop(c)\n",
    "            p_counter[c] += 1\n",
    "            \n",
    "            if len(p_counter.keys()) == len(q_counter.keys()): result += 1\n",
    "                \n",
    "        return result"
   ]
  },
  {
   "cell_type": "markdown",
   "metadata": {},
   "source": [
    "# Prefix and Suffix arrays and 2 sets, 2 pass - O(N) runtime, O(N) space"
   ]
  },
  {
   "cell_type": "code",
   "execution_count": 3,
   "metadata": {},
   "outputs": [],
   "source": [
    "class Solution:\n",
    "    def numSplits(self, s: str) -> int:\n",
    "        # Create two arrays where prefix[i] and suffix[i] denote the number of unique characters encountered up to\n",
    "        # index i inclusievely and the number of unique characters encountered from i to the end of s inclusively.\n",
    "        prefix, suffix = [0] * len(s), [0] * len(s)\n",
    "    \n",
    "        # Create two sets to keep track of which characters have been seen so far \n",
    "        seen1, seen2 = set(), set()\n",
    "\n",
    "        # Iterate over indices of s\n",
    "        for i in range(len(s)):\n",
    "            # Add character at i to seen1 \n",
    "            seen1.add(s[i]); \n",
    "            # Add character at len(s) - i - 1 to seen2 using inverse indexing         \n",
    "            seen2.add(s[~i])\n",
    "            # Store number of unique characters seen from start to i\n",
    "            prefix[i] = len(seen1)\n",
    "            # Store number of unique characters seen from end to end - i\n",
    "            suffix[~i] = len(seen2)\n",
    "\n",
    "        # Iterate over adjacent values of prefix and suffix arrays which represent the number of unique characters on either side of the split.\n",
    "        # E.g. (prefix[0], suffix[1]), (prefix[1], suffix[2]), ..., (prefix[n-1], suffix[n])\n",
    "        # And count the number of times pre_count and suf_count match\n",
    "        return sum(1 if pre_count == suf_count else 0 for pre_count, suf_count in zip(prefix, suffix[1:]))"
   ]
  },
  {
   "cell_type": "code",
   "execution_count": 4,
   "metadata": {},
   "outputs": [
    {
     "data": {
      "text/plain": [
       "2"
      ]
     },
     "execution_count": 4,
     "metadata": {},
     "output_type": "execute_result"
    }
   ],
   "source": [
    "instance = Solution()\n",
    "instance.numSplits(\"aacaba\")"
   ]
  }
 ],
 "metadata": {
  "kernelspec": {
   "display_name": "Python 3",
   "language": "python",
   "name": "python3"
  },
  "language_info": {
   "codemirror_mode": {
    "name": "ipython",
    "version": 3
   },
   "file_extension": ".py",
   "mimetype": "text/x-python",
   "name": "python",
   "nbconvert_exporter": "python",
   "pygments_lexer": "ipython3",
   "version": "3.7.3"
  }
 },
 "nbformat": 4,
 "nbformat_minor": 2
}
