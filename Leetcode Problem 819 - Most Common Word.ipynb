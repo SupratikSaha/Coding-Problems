{
 "cells": [
  {
   "cell_type": "markdown",
   "metadata": {},
   "source": [
    "Problem Statement. <br/>\n",
    "\n",
    "Given a paragraph and a list of banned words, return the most frequent word that is not in the list of banned words.  It is guaranteed there is at least one word that isn't banned, and that the answer is unique. <br/>\n",
    "Words in the list of banned words are given in lowercase, and free of punctuation.  Words in the paragraph are not case sensitive.  The answer is in lowercase. <br/>\n",
    "\n",
    "Example: <br/>\n",
    "Input: <br/>\n",
    "paragraph = \"Bob hit a ball, the hit BALL flew far after it was hit.\" <br/>\n",
    "banned = [\"hit\"] <br/>\n",
    "Output: \"ball\" <br/>\n",
    "Explanation: <br/>\n",
    "\"hit\" occurs 3 times, but it is a banned word. <br/>\n",
    "\"ball\" occurs twice (and no other word does), so it is the most frequent non-banned word in the paragraph. <br/> \n",
    "Note that words in the paragraph are not case sensitive, <br/>\n",
    "that punctuation is ignored (even if adjacent to words, such as \"ball,\"), <br/> \n",
    "and that \"hit\" isn't the answer even though it occurs more because it is banned. <br/>\n",
    "\n",
    "Note: <br/>\n",
    "    1 <= paragraph.length <= 1000. <br/>\n",
    "    0 <= banned.length <= 100. <br/>\n",
    "    1 <= banned[i].length <= 10. <br/>\n",
    "    The answer is unique, and written in lowercase (even if its occurrences in paragraph may have uppercase symbols, and even if it is a proper noun.) <br/>\n",
    "    paragraph only consists of letters, spaces, or the punctuation symbols !?',;. <br/>\n",
    "    There are no hyphens or hyphenated words. <br/>\n",
    "    Words only consist of letters, never apostrophes or other punctuation symbols."
   ]
  },
  {
   "cell_type": "markdown",
   "metadata": {},
   "source": [
    "# Two Pass Solution - O(M * N) runtime, O(N) space, where N is the number of characters in the input string and M is the number of characters in the banned list"
   ]
  },
  {
   "cell_type": "code",
   "execution_count": 3,
   "metadata": {},
   "outputs": [],
   "source": [
    "import re\n",
    "from typing import List\n",
    "from collections import defaultdict\n",
    "\n",
    "class Solution:\n",
    "    def mostCommonWord(self, paragraph: str, banned: List[str]) -> str:\n",
    "        wordDict = defaultdict(int)\n",
    "        paragraph = re.split(r'[;,!?\\'.\\s]\\s*', paragraph)\n",
    "        \n",
    "        for word in paragraph:\n",
    "            word = word.lower()\n",
    "            if word not in banned: wordDict[word] += 1\n",
    "                \n",
    "        return max(wordDict.items(), key=lambda x: x[1])[0]"
   ]
  },
  {
   "cell_type": "markdown",
   "metadata": {},
   "source": [
    "# One Pass Solution - O(M + N) runtime, O(M + N) space, where N is the number of characters in the input string and M is the number of characters in the banned list"
   ]
  },
  {
   "cell_type": "code",
   "execution_count": 5,
   "metadata": {},
   "outputs": [],
   "source": [
    "from typing import List\n",
    "from collections import defaultdict\n",
    "\n",
    "class Solution:\n",
    "    def mostCommonWord(self, paragraph: str, banned: List[str]) -> str:\n",
    "        banned_words = set(banned)\n",
    "        ans = \"\"\n",
    "        max_count = 0\n",
    "        word_count = defaultdict(int)\n",
    "        word_buffer = []\n",
    "\n",
    "        for p, char in enumerate(paragraph):\n",
    "            #1). consume the characters in a word\n",
    "            if char.isalnum():\n",
    "                word_buffer.append(char.lower())\n",
    "                if p != len(paragraph)-1:\n",
    "                    continue\n",
    "\n",
    "            #2). at the end of one word or at the end of paragraph\n",
    "            if len(word_buffer) > 0:\n",
    "                word = \"\".join(word_buffer)\n",
    "                if word not in banned_words:\n",
    "                    word_count[word] +=1\n",
    "                    if word_count[word] > max_count:\n",
    "                        max_count = word_count[word]\n",
    "                        ans = word\n",
    "                # reset the buffer for the next word\n",
    "                word_buffer = []\n",
    "                \n",
    "        return ans"
   ]
  },
  {
   "cell_type": "code",
   "execution_count": 6,
   "metadata": {},
   "outputs": [
    {
     "data": {
      "text/plain": [
       "'ball'"
      ]
     },
     "execution_count": 6,
     "metadata": {},
     "output_type": "execute_result"
    }
   ],
   "source": [
    "instance = Solution()\n",
    "instance.mostCommonWord(\"Bob hit a ball, the hit BALL flew far after it was hit.\", [\"hit\"])"
   ]
  }
 ],
 "metadata": {
  "kernelspec": {
   "display_name": "Python 3",
   "language": "python",
   "name": "python3"
  },
  "language_info": {
   "codemirror_mode": {
    "name": "ipython",
    "version": 3
   },
   "file_extension": ".py",
   "mimetype": "text/x-python",
   "name": "python",
   "nbconvert_exporter": "python",
   "pygments_lexer": "ipython3",
   "version": "3.7.3"
  }
 },
 "nbformat": 4,
 "nbformat_minor": 2
}
