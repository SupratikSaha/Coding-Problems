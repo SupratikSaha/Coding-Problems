{
 "cells": [
  {
   "cell_type": "markdown",
   "metadata": {},
   "source": [
    "Problem Statement.\n",
    "\n",
    "Given a text string and words (a list of strings), return all index pairs [i, j] so that the substring text[i]...text[j] is in the list of words.\n",
    "\n",
    " \n",
    "\n",
    "Example 1:\n",
    "\n",
    "Input: text = \"thestoryofleetcodeandme\", words = [\"story\",\"fleet\",\"leetcode\"]\n",
    "Output: [[3,7],[9,13],[10,17]]\n",
    "\n",
    "Example 2:\n",
    "\n",
    "Input: text = \"ababa\", words = [\"aba\",\"ab\"]\n",
    "Output: [[0,1],[0,2],[2,3],[2,4]]\n",
    "Explanation: \n",
    "Notice that matches can overlap, see \"aba\" is found in [0,2] and [2,4].\n",
    "\n",
    " \n",
    "\n",
    "Note:\n",
    "\n",
    "    All strings contains only lowercase English letters.\n",
    "    It's guaranteed that all strings in words are different.\n",
    "    1 <= text.length <= 100\n",
    "    1 <= words.length <= 20\n",
    "    1 <= words[i].length <= 50\n",
    "    Return the pairs [i,j] in sorted order (i.e. sort them by their first coordinate in case of ties sort them by their second coordinate)."
   ]
  },
  {
   "cell_type": "markdown",
   "metadata": {},
   "source": [
    "# Two Loops - O(N ^ 3 + W) runtime, O(W + N^2) space"
   ]
  },
  {
   "cell_type": "code",
   "execution_count": 1,
   "metadata": {},
   "outputs": [],
   "source": [
    "from typing import List\n",
    "\n",
    "class Solution:\n",
    "    def indexPairs(self, text: str, words: List[str]) -> List[List[int]]:\n",
    "        words = set(words)\n",
    "        startChar = {word[0] for word in words}\n",
    "        maxlen = max([len(word) for word in words])\n",
    "        n = len(text)\n",
    "        result = []\n",
    "        \n",
    "        for i in range(n):\n",
    "            if text[i] not in startChar: continue\n",
    "            for j in range(i+1, n+1):\n",
    "                if j - i > maxlen: break\n",
    "                if text[i:j] in words:\n",
    "                    result.append([i, j-1])\n",
    "                    \n",
    "        return result"
   ]
  },
  {
   "cell_type": "markdown",
   "metadata": {},
   "source": [
    "# Different way - Two Loops - O(W * N ^ 2) runtime, O(N^2) space"
   ]
  },
  {
   "cell_type": "code",
   "execution_count": 2,
   "metadata": {},
   "outputs": [],
   "source": [
    "from typing import List\n",
    "\n",
    "class Solution:\n",
    "    def indexPairs(self, text: str, words: List[str]) -> List[List[int]]:\n",
    "        res = []\n",
    "        for word in words:\n",
    "            n = len(word)\n",
    "            for i in range(0,(len(text)-n+1)):\n",
    "                if text[i] == word[0] and text[i:i+n] == word:\n",
    "                    res.append([i,i+n-1])\n",
    "        \n",
    "        res.sort()\n",
    "        return res"
   ]
  },
  {
   "cell_type": "markdown",
   "metadata": {},
   "source": [
    "# Using Find - Two Loops - O(W * N ^ 2) runtime, O(N^2) space"
   ]
  },
  {
   "cell_type": "code",
   "execution_count": 3,
   "metadata": {},
   "outputs": [],
   "source": [
    "from typing import List\n",
    "\n",
    "class Solution:\n",
    "    def indexPairs(self, text: str, words: List[str]) -> List[List[int]]:\n",
    "        ans = []\n",
    "        for word in words: \n",
    "            k = -1\n",
    "            while True: \n",
    "                k = text.find(word, k+1)\n",
    "                if k == -1: break \n",
    "                ans.append([k, k+len(word)-1])\n",
    "        return sorted(ans)"
   ]
  },
  {
   "cell_type": "markdown",
   "metadata": {},
   "source": [
    "# Trie - O(W*L + N ^ 2) runtime, O(W*L) space, where L is the length of the longest word"
   ]
  },
  {
   "cell_type": "code",
   "execution_count": 4,
   "metadata": {},
   "outputs": [],
   "source": [
    "class TrieNode(object):\n",
    "    \n",
    "    def __init__(self):\n",
    "        self.children={}\n",
    "        self.isWordEnd=False\n",
    "    \n",
    "    \n",
    "class Trie(object):\n",
    "    \n",
    "    def __init__(self):\n",
    "        self.root=TrieNode()\n",
    "        \n",
    "        \n",
    "    def insert(self,word):\n",
    "        currNode=self.root\n",
    "        for char in word:\n",
    "            if char not in currNode.children:\n",
    "                currNode.children[char]=TrieNode()\n",
    "            currNode=currNode.children[char]\n",
    "        \n",
    "        currNode.isWordEnd=True\n",
    "        \n",
    "        \n",
    "    def search(self,text):\n",
    "        currNode=self.root\n",
    "        res=[]                          ## create res to store the end index\n",
    "        for i,char in enumerate(text):\n",
    "            if char not in currNode.children:\n",
    "                return res            ## if not in the tree, return []\n",
    "            currNode=currNode.children[char]\n",
    "            if currNode.isWordEnd:\n",
    "                res.append(i)       ## once the loop is over, store the end index\n",
    "            \n",
    "        return res\n",
    "    \n",
    "        \n",
    "\n",
    "class Solution(object):\n",
    "    def indexPairs(self, text, words):\n",
    "        \"\"\"\n",
    "        :type text: str\n",
    "        :type words: List[str]\n",
    "        :rtype: List[List[int]]\n",
    "        \"\"\"\n",
    "        new_trie=Trie()\n",
    "        n=len(text)\n",
    "        res=[]\n",
    "        for word in words:\n",
    "            new_trie.insert(word)\n",
    "        for i in range(n):\n",
    "            for index in new_trie.search(text[i:]):    ## Run a sliding window to scan the text from ith index towards its end. \n",
    "                res.append([i, index+i])\n",
    "                \n",
    "        return res"
   ]
  },
  {
   "cell_type": "code",
   "execution_count": 5,
   "metadata": {},
   "outputs": [
    {
     "data": {
      "text/plain": [
       "[[3, 7], [9, 13], [10, 17]]"
      ]
     },
     "execution_count": 5,
     "metadata": {},
     "output_type": "execute_result"
    }
   ],
   "source": [
    "instance = Solution()\n",
    "instance.indexPairs(\"thestoryofleetcodeandme\", [\"story\",\"fleet\",\"leetcode\"])"
   ]
  }
 ],
 "metadata": {
  "kernelspec": {
   "display_name": "Python 3",
   "language": "python",
   "name": "python3"
  },
  "language_info": {
   "codemirror_mode": {
    "name": "ipython",
    "version": 3
   },
   "file_extension": ".py",
   "mimetype": "text/x-python",
   "name": "python",
   "nbconvert_exporter": "python",
   "pygments_lexer": "ipython3",
   "version": "3.7.3"
  }
 },
 "nbformat": 4,
 "nbformat_minor": 2
}
