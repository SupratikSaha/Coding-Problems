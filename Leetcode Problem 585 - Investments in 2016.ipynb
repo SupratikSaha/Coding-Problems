{
 "cells": [
  {
   "cell_type": "markdown",
   "metadata": {},
   "source": [
    "Problem Statement.\n",
    "\n",
    "Table: Insurance\n",
    "\n",
    "+-------------+-------+\n",
    "| Column Name | Type  |\n",
    "+-------------+-------+\n",
    "| pid         | int   |\n",
    "| tiv_2015    | float |\n",
    "| tiv_2016    | float |\n",
    "| lat         | float |\n",
    "| lon         | float |\n",
    "+-------------+-------+\n",
    "pid is the primary key column for this table.\n",
    "Each row of this table contains information about one policy where:\n",
    "pid is the policyholder's policy ID.\n",
    "tiv_2015 is the total investment value in 2015 and tiv_2016 is the total investment value in 2016.\n",
    "lat is the latitude of the policy holder's city.\n",
    "lon is the longitude of the policy holder's city.\n",
    "\n",
    " \n",
    "\n",
    "Write an SQL query to report the sum of all total investment values in 2016 tiv_2016, for all policyholders who:\n",
    "\n",
    "    have the same tiv_2015 value as one or more other policyholders, and\n",
    "    are not located in the same city like any other policyholder (i.e., the (lat, lon) attribute pairs must be unique).\n",
    "\n",
    "Round tiv_2016 to two decimal places.\n",
    "\n",
    "The query result format is in the following example.\n",
    "\n",
    " \n",
    "\n",
    "Example 1:\n",
    "\n",
    "Input: \n",
    "Insurance table:\n",
    "+-----+----------+----------+-----+-----+\n",
    "| pid | tiv_2015 | tiv_2016 | lat | lon |\n",
    "+-----+----------+----------+-----+-----+\n",
    "| 1   | 10       | 5        | 10  | 10  |\n",
    "| 2   | 20       | 20       | 20  | 20  |\n",
    "| 3   | 10       | 30       | 20  | 20  |\n",
    "| 4   | 10       | 40       | 40  | 40  |\n",
    "+-----+----------+----------+-----+-----+\n",
    "Output: \n",
    "+----------+\n",
    "| tiv_2016 |\n",
    "+----------+\n",
    "| 45.00    |\n",
    "+----------+\n",
    "Explanation: \n",
    "The first record in the table, like the last record, meets both of the two criteria.\n",
    "The tiv_2015 value 10 is the same as the third and fourth records, and its location is unique.\n",
    "\n",
    "The second record does not meet any of the two criteria. Its tiv_2015 is not like any other policyholders and its location is the same as the third record, which makes the third record fail, too.\n",
    "So, the result is the sum of tiv_2016 of the first and last record, which is 45."
   ]
  },
  {
   "cell_type": "markdown",
   "metadata": {},
   "source": [
    "# With"
   ]
  },
  {
   "cell_type": "code",
   "execution_count": null,
   "metadata": {},
   "outputs": [],
   "source": [
    "with unique_city as\n",
    "(\n",
    "select lat, lon\n",
    "    from Insurance\n",
    "    group by lat, lon\n",
    "    having count(*) = 1\n",
    "),\n",
    "\n",
    "same_investment as\n",
    "(\n",
    "select tiv_2015\n",
    "    from Insurance\n",
    "    group by tiv_2015\n",
    "    having count(*) > 1\n",
    ")\n",
    "\n",
    "select round(sum(tiv_2016), 2) as tiv_2016\n",
    "    from Insurance i\n",
    "    join same_investment s on i.tiv_2015 = s.tiv_2015\n",
    "    join unique_city u on i.lat = u.lat and i.lon = u.lon"
   ]
  },
  {
   "cell_type": "markdown",
   "metadata": {},
   "source": [
    "# Exists"
   ]
  },
  {
   "cell_type": "code",
   "execution_count": null,
   "metadata": {},
   "outputs": [],
   "source": [
    "SELECT ROUND(SUM(TIV_2016),2) AS TIV_2016 FROM Insurance a\n",
    "WHERE EXISTS (SELECT * FROM Insurance WHERE PID <> a.PID AND TIV_2015 = a.TIV_2015)\n",
    "AND NOT EXISTS (SELECT * FROM Insurance WHERE PID <> a.PID AND (LAT,LON) = (a.LAT,a.LON));"
   ]
  },
  {
   "cell_type": "markdown",
   "metadata": {},
   "source": [
    "# Window Function"
   ]
  },
  {
   "cell_type": "code",
   "execution_count": null,
   "metadata": {},
   "outputs": [],
   "source": [
    "SELECT ROUND(SUM(TIV_2016), 2) AS TIV_2016\n",
    "FROM\n",
    "(SELECT *,\n",
    "COUNT(*) OVER(PARTITION BY TIV_2015) AS CNT1,\n",
    "COUNT(*) OVER(PARTITION BY LAT, LON) AS CNT2\n",
    "FROM INSURANCE\n",
    ") AS TBL\n",
    "WHERE CNT1 >=2 AND CNT2 = 1"
   ]
  }
 ],
 "metadata": {
  "kernelspec": {
   "display_name": "Python 3",
   "language": "python",
   "name": "python3"
  },
  "language_info": {
   "codemirror_mode": {
    "name": "ipython",
    "version": 3
   },
   "file_extension": ".py",
   "mimetype": "text/x-python",
   "name": "python",
   "nbconvert_exporter": "python",
   "pygments_lexer": "ipython3",
   "version": "3.7.3"
  }
 },
 "nbformat": 4,
 "nbformat_minor": 2
}
