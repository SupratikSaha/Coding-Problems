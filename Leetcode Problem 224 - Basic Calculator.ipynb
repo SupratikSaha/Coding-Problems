{
 "cells": [
  {
   "cell_type": "markdown",
   "metadata": {},
   "source": [
    "Problem Statement. <br/>\n",
    "\n",
    "Given a string s representing an expression, implement a basic calculator to evaluate it. <br/>\n",
    "\n",
    "Example 1: <br/>\n",
    "Input: s = \"1 + 1\" <br/>\n",
    "Output: 2 <br/>\n",
    "\n",
    "Example 2: <br/>\n",
    "Input: s = \" 2-1 + 2 \" <br/>\n",
    "Output: 3 <br/>\n",
    "\n",
    "Example 3: <br/>\n",
    "Input: s = \"(1+(4+5+2)-3)+(6+8)\" <br/>\n",
    "Output: 23 <br/>\n",
    "\n",
    "Constraints: <br/>\n",
    "    1 <= s.length <= 3 * 105 <br/>\n",
    "    s consists of digits, '+', '-', '(', ')', and ' '. <br/>\n",
    "    s represents a valid expression."
   ]
  },
  {
   "cell_type": "markdown",
   "metadata": {},
   "source": [
    "# Recursion - O(N) runtime, O(N) space"
   ]
  },
  {
   "cell_type": "code",
   "execution_count": 1,
   "metadata": {},
   "outputs": [],
   "source": [
    "from typing import Tuple\n",
    "\n",
    "class Solution:\n",
    "    def calculate(self, s: str) -> int:\n",
    "        res, _ = self.calculateRecursive(s, 0, len(s))\n",
    "        return res\n",
    "      \n",
    "    def calculateRecursive(self, s: str, i: int, n: int) -> Tuple[int, int]:\n",
    "        res = 0\n",
    "\n",
    "        while i < n:\n",
    "            currOp = '+'\n",
    "            while i < n and not s[i].isdigit():\n",
    "                if s[i] == '-': currOp = '-'\n",
    "                elif s[i] == '(':\n",
    "                    bracketRes, i = self.calculateRecursive(s, i+1, n)\n",
    "                    res = res + bracketRes if currOp == '+' else res - bracketRes\n",
    "                    currOp = '+'\n",
    "                elif s[i] == ')':\n",
    "                    return res, i\n",
    "                i += 1\n",
    "            \n",
    "            num = 0\n",
    "            while i < n and s[i].isdigit():\n",
    "                num = num * 10 + int(s[i])\n",
    "                i += 1\n",
    "                \n",
    "            if num > 0:\n",
    "                res = res + num if currOp == '+' else res - num\n",
    "                   \n",
    "        return res, i"
   ]
  },
  {
   "cell_type": "markdown",
   "metadata": {},
   "source": [
    "# Using Stack - O(N) runtime, O(N) Space"
   ]
  },
  {
   "cell_type": "code",
   "execution_count": 3,
   "metadata": {},
   "outputs": [],
   "source": [
    "class Solution:\n",
    "    def calculate(self, s: str) -> int:\n",
    "\n",
    "        res, num, sign, stack = 0, 0, 1, [1]\n",
    "        for i in s+\"+\":\n",
    "            if i.isdigit():\n",
    "                num = 10*num + int(i)\n",
    "            elif i in \"+-\":\n",
    "                res += num * sign * stack[-1]\n",
    "                sign = 1 if i==\"+\" else -1\n",
    "                num = 0\n",
    "            elif i == \"(\":\n",
    "                stack.append(sign * stack[-1])\n",
    "                sign = 1\n",
    "            elif i == \")\":\n",
    "                res += num * sign * stack[-1]\n",
    "                num = 0\n",
    "                stack.pop()\n",
    "        return res"
   ]
  },
  {
   "cell_type": "code",
   "execution_count": 4,
   "metadata": {},
   "outputs": [
    {
     "data": {
      "text/plain": [
       "-12"
      ]
     },
     "execution_count": 4,
     "metadata": {},
     "output_type": "execute_result"
    }
   ],
   "source": [
    "instance = Solution()\n",
    "instance.calculate(\"- (3 + (4 + 5))\")"
   ]
  }
 ],
 "metadata": {
  "kernelspec": {
   "display_name": "Python 3",
   "language": "python",
   "name": "python3"
  },
  "language_info": {
   "codemirror_mode": {
    "name": "ipython",
    "version": 3
   },
   "file_extension": ".py",
   "mimetype": "text/x-python",
   "name": "python",
   "nbconvert_exporter": "python",
   "pygments_lexer": "ipython3",
   "version": "3.7.3"
  }
 },
 "nbformat": 4,
 "nbformat_minor": 2
}
