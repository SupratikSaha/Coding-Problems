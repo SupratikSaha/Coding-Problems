{
 "cells": [
  {
   "cell_type": "markdown",
   "metadata": {},
   "source": [
    "Problem Statement.\n",
    "\n",
    "Given an array of integers arr of even length n and an integer k.\n",
    "\n",
    "We want to divide the array into exactly n / 2 pairs such that the sum of each pair is divisible by k.\n",
    "\n",
    "Return true If you can find a way to do that or false otherwise.\n",
    "\n",
    " \n",
    "\n",
    "Example 1:\n",
    "\n",
    "Input: arr = [1,2,3,4,5,10,6,7,8,9], k = 5\n",
    "Output: true\n",
    "Explanation: Pairs are (1,9),(2,8),(3,7),(4,6) and (5,10).\n",
    "\n",
    "Example 2:\n",
    "\n",
    "Input: arr = [1,2,3,4,5,6], k = 7\n",
    "Output: true\n",
    "Explanation: Pairs are (1,6),(2,5) and(3,4).\n",
    "\n",
    "Example 3:\n",
    "\n",
    "Input: arr = [1,2,3,4,5,6], k = 10\n",
    "Output: false\n",
    "Explanation: You can try all possible pairs to see that there is no way to divide arr into 3 pairs each with sum divisible by 10.\n",
    "\n",
    " \n",
    "\n",
    "Constraints:\n",
    "\n",
    "    arr.length == n\n",
    "    1 <= n <= 10^5\n",
    "    n is even.\n",
    "    -10^9 <= arr[i] <= 10^9\n",
    "    1 <= k <= 10^5"
   ]
  },
  {
   "cell_type": "markdown",
   "metadata": {},
   "source": [
    "# HashMap - O(N + K) runtime, O(K) space"
   ]
  },
  {
   "cell_type": "code",
   "execution_count": 6,
   "metadata": {},
   "outputs": [],
   "source": [
    "from typing import List\n",
    "\n",
    "class Solution:\n",
    "    def canArrange(self, arr: List[int], k: int) -> bool:\n",
    "        count = [0] * k\n",
    "        for num in arr:\n",
    "            count[num % k] += 1\n",
    "            \n",
    "        if count[0] % 2 != 0: return False\n",
    "        \n",
    "        i, j = 1, k-1\n",
    "        while i < j :\n",
    "            if count[i] != count[j]: return False\n",
    "            i += 1\n",
    "            j -= 1\n",
    "            \n",
    "        if i == j and count[i] % 2 != 0: return False\n",
    "\n",
    "        return True"
   ]
  },
  {
   "cell_type": "code",
   "execution_count": 7,
   "metadata": {},
   "outputs": [
    {
     "data": {
      "text/plain": [
       "False"
      ]
     },
     "execution_count": 7,
     "metadata": {},
     "output_type": "execute_result"
    }
   ],
   "source": [
    "instance = Solution()\n",
    "instance.canArrange([1,2,3,4,5,6], 10)"
   ]
  }
 ],
 "metadata": {
  "kernelspec": {
   "display_name": "Python 3",
   "language": "python",
   "name": "python3"
  },
  "language_info": {
   "codemirror_mode": {
    "name": "ipython",
    "version": 3
   },
   "file_extension": ".py",
   "mimetype": "text/x-python",
   "name": "python",
   "nbconvert_exporter": "python",
   "pygments_lexer": "ipython3",
   "version": "3.7.3"
  }
 },
 "nbformat": 4,
 "nbformat_minor": 2
}
