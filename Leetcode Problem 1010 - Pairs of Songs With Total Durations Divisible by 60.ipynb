{
 "cells": [
  {
   "cell_type": "markdown",
   "metadata": {},
   "source": [
    "    Problem Statement. \n",
    "\n",
    "    You are given a list of songs where the ith song has a duration of time[i] seconds.\n",
    "\n",
    "    Return the number of pairs of songs for which their total duration in seconds is divisible by 60. Formally, we want the number of indices i, j such that i < j with (time[i] + time[j]) % 60 == 0.\n",
    "\n",
    "\n",
    "\n",
    "    Example 1:\n",
    "\n",
    "    Input: time = [30,20,150,100,40]\n",
    "    Output: 3\n",
    "    Explanation: Three pairs have a total duration divisible by 60:\n",
    "    (time[0] = 30, time[2] = 150): total duration 180\n",
    "    (time[1] = 20, time[3] = 100): total duration 120\n",
    "    (time[1] = 20, time[4] = 40): total duration 60\n",
    "\n",
    "    Example 2:\n",
    "\n",
    "    Input: time = [60,60,60]\n",
    "    Output: 3\n",
    "    Explanation: All three pairs have a total duration of 120, which is divisible by 60.\n",
    "\n",
    "\n",
    "\n",
    "    Constraints:\n",
    "\n",
    "        1 <= time.length <= 6 * 104\n",
    "        1 <= time[i] <= 500"
   ]
  },
  {
   "cell_type": "markdown",
   "metadata": {},
   "source": [
    "# Hash Map - O(N) runtime, O(N) space"
   ]
  },
  {
   "cell_type": "code",
   "execution_count": 1,
   "metadata": {},
   "outputs": [],
   "source": [
    "from typing import List\n",
    "from collections import defaultdict\n",
    "from math import factorial\n",
    "\n",
    "class Solution:\n",
    "    def numPairsDivisibleBy60(self, time: List[int]) -> int:\n",
    "        \n",
    "        moduloDict = defaultdict(int)\n",
    "        for i, song in enumerate(time):\n",
    "            moduloDict[song % 60] += 1\n",
    "        \n",
    "        res = 0\n",
    "        for i in range(1, 30):\n",
    "            if i in moduloDict and (60 - i) in moduloDict:\n",
    "                res += moduloDict[i] * moduloDict[60 - i]\n",
    "                \n",
    "        for i in (0, 30):\n",
    "            if i in moduloDict and moduloDict[i] > 1:\n",
    "                res += factorial(moduloDict[i]) // (2 * factorial(moduloDict[i] - 2) )\n",
    "                                                   \n",
    "        return res"
   ]
  },
  {
   "cell_type": "markdown",
   "metadata": {},
   "source": [
    "# Simpler Hash Map Solution - O(N) runtime, O(N) spacem"
   ]
  },
  {
   "cell_type": "code",
   "execution_count": 2,
   "metadata": {},
   "outputs": [],
   "source": [
    "from typing import List\n",
    "from collections import defaultdict\n",
    "\n",
    "class Solution:\n",
    "    def numPairsDivisibleBy60(self, time: List[int]) -> int:\n",
    "        \n",
    "        remainders = collections.defaultdict(int)\n",
    "        ret = 0\n",
    "        for t in time:\n",
    "            rem = t % 60\n",
    "            if rem == 0: # check if a%60==0 && b%60==0\n",
    "                ret += remainders[0]\n",
    "            else: # check if a%60+b%60==60\n",
    "                ret += remainders[60-rem]\n",
    "            remainders[rem] += 1 # remember to update the remainders\n",
    "            \n",
    "        return ret"
   ]
  },
  {
   "cell_type": "code",
   "execution_count": 3,
   "metadata": {},
   "outputs": [
    {
     "data": {
      "text/plain": [
       "3"
      ]
     },
     "execution_count": 3,
     "metadata": {},
     "output_type": "execute_result"
    }
   ],
   "source": [
    "instance = Solution()\n",
    "instance.numPairsDivisibleBy60([30,20,150,100,40])"
   ]
  }
 ],
 "metadata": {
  "kernelspec": {
   "display_name": "Python 3",
   "language": "python",
   "name": "python3"
  },
  "language_info": {
   "codemirror_mode": {
    "name": "ipython",
    "version": 3
   },
   "file_extension": ".py",
   "mimetype": "text/x-python",
   "name": "python",
   "nbconvert_exporter": "python",
   "pygments_lexer": "ipython3",
   "version": "3.7.3"
  }
 },
 "nbformat": 4,
 "nbformat_minor": 2
}
