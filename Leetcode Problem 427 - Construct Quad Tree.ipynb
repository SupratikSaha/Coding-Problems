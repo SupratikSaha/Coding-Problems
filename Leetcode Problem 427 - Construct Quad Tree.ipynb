{
 "cells": [
  {
   "cell_type": "markdown",
   "metadata": {},
   "source": [
    "Problem Statement.\n",
    "\n",
    "Given a n * n matrix grid of 0's and 1's only. We want to represent the grid with a Quad-Tree.\n",
    "\n",
    "Return the root of the Quad-Tree representing the grid.\n",
    "\n",
    "Notice that you can assign the value of a node to True or False when isLeaf is False, and both are accepted in the answer.\n",
    "\n",
    "A Quad-Tree is a tree data structure in which each internal node has exactly four children. Besides, each node has two attributes:\n",
    "\n",
    "    val: True if the node represents a grid of 1's or False if the node represents a grid of 0's. \n",
    "    isLeaf: True if the node is leaf node on the tree or False if the node has the four children.\n",
    "\n",
    "class Node {\n",
    "    public boolean val;\n",
    "    public boolean isLeaf;\n",
    "    public Node topLeft;\n",
    "    public Node topRight;\n",
    "    public Node bottomLeft;\n",
    "    public Node bottomRight;\n",
    "}\n",
    "\n",
    "We can construct a Quad-Tree from a two-dimensional area using the following steps:\n",
    "\n",
    "    If the current grid has the same value (i.e all 1's or all 0's) set isLeaf True and set val to the value of the grid and set the four children to Null and stop.\n",
    "    If the current grid has different values, set isLeaf to False and set val to any value and divide the current grid into four sub-grids as shown in the photo.\n",
    "    Recurse for each of the children with the proper sub-grid.\n",
    "\n",
    "If you want to know more about the Quad-Tree, you can refer to the wiki.\n",
    "\n",
    "Quad-Tree format:\n",
    "\n",
    "The output represents the serialized format of a Quad-Tree using level order traversal, where null signifies a path terminator where no node exists below.\n",
    "\n",
    "It is very similar to the serialization of the binary tree. The only difference is that the node is represented as a list [isLeaf, val].\n",
    "\n",
    "If the value of isLeaf or val is True we represent it as 1 in the list [isLeaf, val] and if the value of isLeaf or val is False we represent it as 0.\n",
    "\n",
    " \n",
    "\n",
    "Example 1:\n",
    "\n",
    "Input: grid = [[0,1],[1,0]]\n",
    "Output: [[0,1],[1,0],[1,1],[1,1],[1,0]]\n",
    "Explanation: The explanation of this example is shown below:\n",
    "Notice that 0 represnts False and 1 represents True in the photo representing the Quad-Tree.\n",
    "\n",
    "Example 2:\n",
    "\n",
    "Input: grid = [[1,1,1,1,0,0,0,0],[1,1,1,1,0,0,0,0],[1,1,1,1,1,1,1,1],[1,1,1,1,1,1,1,1],[1,1,1,1,0,0,0,0],[1,1,1,1,0,0,0,0],[1,1,1,1,0,0,0,0],[1,1,1,1,0,0,0,0]]\n",
    "Output: [[0,1],[1,1],[0,1],[1,1],[1,0],null,null,null,null,[1,0],[1,0],[1,1],[1,1]]\n",
    "Explanation: All values in the grid are not the same. We divide the grid into four sub-grids.\n",
    "The topLeft, bottomLeft and bottomRight each has the same value.\n",
    "The topRight have different values so we divide it into 4 sub-grids where each has the same value.\n",
    "Explanation is shown in the photo below:\n",
    "\n",
    "Example 3:\n",
    "\n",
    "Input: grid = [[1,1],[1,1]]\n",
    "Output: [[1,1]]\n",
    "\n",
    "Example 4:\n",
    "\n",
    "Input: grid = [[0]]\n",
    "Output: [[1,0]]\n",
    "\n",
    "Example 5:\n",
    "\n",
    "Input: grid = [[1,1,0,0],[1,1,0,0],[0,0,1,1],[0,0,1,1]]\n",
    "Output: [[0,1],[1,1],[1,0],[1,0],[1,1]]\n",
    "\n",
    " \n",
    "\n",
    "Constraints:\n",
    "\n",
    "    n == grid.length == grid[i].length\n",
    "    n == 2^x where 0 <= x <= 6"
   ]
  },
  {
   "cell_type": "markdown",
   "metadata": {},
   "source": [
    "# DFS - O (N ^ 2) runtime, O(Log N) space"
   ]
  },
  {
   "cell_type": "code",
   "execution_count": 1,
   "metadata": {},
   "outputs": [],
   "source": [
    "from typing import List\n",
    "\n",
    "# Definition for a QuadTree node.\n",
    "# class Node:\n",
    "#     def __init__(self, val, isLeaf, topLeft, topRight, bottomLeft, bottomRight):\n",
    "#         self.val = val\n",
    "#         self.isLeaf = isLeaf\n",
    "#         self.topLeft = topLeft\n",
    "#         self.topRight = topRight\n",
    "#         self.bottomLeft = bottomLeft\n",
    "#         self.bottomRight = bottomRight\n",
    "\n",
    "class Solution:\n",
    "    def construct(self, grid: List[List[int]]) -> 'Node':\n",
    "        n = len(grid)\n",
    "        \n",
    "        def is_leaf(l, r, t, b) -> bool:\n",
    "            val, rowLen = grid[t][l], r - l\n",
    "            \n",
    "            for row in range(t, b):\n",
    "                if sum(grid[row][l:r]) != rowLen * val: return (0, val)\n",
    "                \n",
    "            return (1, val)\n",
    "        \n",
    "        \n",
    "        def construct_tree(l, r, t, b):\n",
    "            isLeafNode, val = is_leaf(l, r, t, b)\n",
    "            if isLeafNode: return Node(val, 1, None, None, None, None)\n",
    "            \n",
    "            mid_row, mid_col = l + (r - l) // 2, t + (b - t) // 2\n",
    "            topLeft = construct_tree(l, mid_row, t, mid_col)\n",
    "            topRight = construct_tree(mid_row, r, t, mid_col)\n",
    "            bottomLeft = construct_tree(l, mid_row, mid_col, b)\n",
    "            bottomRight = construct_tree(mid_row, r, mid_col, b)\n",
    "            \n",
    "            return Node(val, 0, topLeft, topRight, bottomLeft, bottomRight)\n",
    "        \n",
    "        return construct_tree(0, n, 0, n)"
   ]
  },
  {
   "cell_type": "code",
   "execution_count": 2,
   "metadata": {},
   "outputs": [
    {
     "data": {
      "text/plain": [
       "<__main__.Node at 0x218e24efc50>"
      ]
     },
     "execution_count": 2,
     "metadata": {},
     "output_type": "execute_result"
    }
   ],
   "source": [
    "instance = Solution()\n",
    "instance.construct([[1,1,0,0],[1,1,0,0],[0,0,1,1],[0,0,1,1]])"
   ]
  }
 ],
 "metadata": {
  "kernelspec": {
   "display_name": "Python 3",
   "language": "python",
   "name": "python3"
  },
  "language_info": {
   "codemirror_mode": {
    "name": "ipython",
    "version": 3
   },
   "file_extension": ".py",
   "mimetype": "text/x-python",
   "name": "python",
   "nbconvert_exporter": "python",
   "pygments_lexer": "ipython3",
   "version": "3.7.3"
  }
 },
 "nbformat": 4,
 "nbformat_minor": 2
}
