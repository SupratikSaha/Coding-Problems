{
 "cells": [
  {
   "cell_type": "markdown",
   "metadata": {},
   "source": [
    "Problem Statement.\n",
    "\n",
    "Given four integers sx, sy, tx, and ty, return true if it is possible to convert the point (sx, sy) to the point (tx, ty) through some operations, or false otherwise.\n",
    "\n",
    "The allowed operation on some point (x, y) is to convert it to either (x, x + y) or (x + y, y).\n",
    "\n",
    " \n",
    "\n",
    "Example 1:\n",
    "\n",
    "Input: sx = 1, sy = 1, tx = 3, ty = 5\n",
    "Output: true\n",
    "Explanation:\n",
    "One series of moves that transforms the starting point to the target is:\n",
    "(1, 1) -> (1, 2)\n",
    "(1, 2) -> (3, 2)\n",
    "(3, 2) -> (3, 5)\n",
    "\n",
    "Example 2:\n",
    "\n",
    "Input: sx = 1, sy = 1, tx = 2, ty = 2\n",
    "Output: false\n",
    "\n",
    "Example 3:\n",
    "\n",
    "Input: sx = 1, sy = 1, tx = 1, ty = 1\n",
    "Output: true\n",
    "\n",
    "Constraints:\n",
    "\n",
    "    1 <= sx, sy, tx, ty <= 10^9"
   ]
  },
  {
   "cell_type": "markdown",
   "metadata": {},
   "source": [
    "# Work Backwards using Modulo - O(log(max(tx,ty))) runtime, O(1) space"
   ]
  },
  {
   "cell_type": "code",
   "execution_count": 1,
   "metadata": {},
   "outputs": [],
   "source": [
    "class Solution:\n",
    "    def reachingPoints(self, sx: int, sy: int, tx: int, ty: int) -> bool:\n",
    "        while tx >= sx and ty >= sy:\n",
    "            if tx == ty: \n",
    "                break\n",
    "            elif tx > ty:\n",
    "                if ty > sy: \n",
    "                    tx %= ty\n",
    "                else: \n",
    "                    return (tx - sx) % ty == 0\n",
    "            else:\n",
    "                if tx > sx: \n",
    "                    ty %= tx\n",
    "                else: \n",
    "                    return (ty - sy) % tx == 0\n",
    "                \n",
    "        return tx == sx and ty == sy"
   ]
  },
  {
   "cell_type": "code",
   "execution_count": 3,
   "metadata": {},
   "outputs": [
    {
     "data": {
      "text/plain": [
       "True"
      ]
     },
     "execution_count": 3,
     "metadata": {},
     "output_type": "execute_result"
    }
   ],
   "source": [
    "instance = Solution()\n",
    "instance.reachingPoints(1, 1, 3, 5)"
   ]
  }
 ],
 "metadata": {
  "kernelspec": {
   "display_name": "Python 3",
   "language": "python",
   "name": "python3"
  },
  "language_info": {
   "codemirror_mode": {
    "name": "ipython",
    "version": 3
   },
   "file_extension": ".py",
   "mimetype": "text/x-python",
   "name": "python",
   "nbconvert_exporter": "python",
   "pygments_lexer": "ipython3",
   "version": "3.7.3"
  }
 },
 "nbformat": 4,
 "nbformat_minor": 2
}
