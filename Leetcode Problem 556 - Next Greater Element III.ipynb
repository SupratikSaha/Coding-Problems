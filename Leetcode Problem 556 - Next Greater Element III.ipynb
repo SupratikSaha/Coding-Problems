{
 "cells": [
  {
   "cell_type": "markdown",
   "metadata": {},
   "source": [
    "Problem Statement.\n",
    "\n",
    "Given a positive integer n, find the smallest integer which has exactly the same digits existing in the integer n and is greater in value than n. If no such positive integer exists, return -1.\n",
    "\n",
    "Note that the returned integer should fit in 32-bit integer, if there is a valid answer but it does not fit in 32-bit integer, return -1.\n",
    "\n",
    " \n",
    "\n",
    "Example 1:\n",
    "\n",
    "Input: n = 12\n",
    "Output: 21\n",
    "\n",
    "Example 2:\n",
    "\n",
    "Input: n = 21\n",
    "Output: -1\n",
    "\n",
    " \n",
    "\n",
    "Constraints:\n",
    "\n",
    "    1 <= n <= 2**31 - 1"
   ]
  },
  {
   "cell_type": "markdown",
   "metadata": {},
   "source": [
    "# Linear Solution - O(N) runtime, O(N) space"
   ]
  },
  {
   "cell_type": "code",
   "execution_count": 1,
   "metadata": {},
   "outputs": [],
   "source": [
    "class Solution:\n",
    "    def nextGreaterElement(self, n: int) -> int:\n",
    "        s = list(str(n))\n",
    "        \n",
    "        def swap(i, j):\n",
    "            while i < j:\n",
    "                s[i], s[j] = s[j], s[i]\n",
    "                i += 1\n",
    "                j -= 1\n",
    "            \n",
    "        l = len(s)\n",
    "        j = l - 1\n",
    "        while j > 0:\n",
    "            if int(s[j-1]) < int(s[j]): break\n",
    "            j -= 1\n",
    "            \n",
    "        if j == 0: return -1\n",
    "        \n",
    "        i, k = j-1, l-1\n",
    "        while k > j:\n",
    "            if int(s[k]) > int(s[i]): break\n",
    "            k -= 1\n",
    "                \n",
    "        s[i], s[k] = s[k], s[i]\n",
    "        swap(j, l-1)\n",
    "        \n",
    "        res = int(''.join(s))\n",
    "        return res if res <= 2**31 - 1 else -1"
   ]
  },
  {
   "cell_type": "code",
   "execution_count": 2,
   "metadata": {},
   "outputs": [
    {
     "data": {
      "text/plain": [
       "214748384"
      ]
     },
     "execution_count": 2,
     "metadata": {},
     "output_type": "execute_result"
    }
   ],
   "source": [
    "instance = Solution()\n",
    "instance.nextGreaterElement(214748348)"
   ]
  }
 ],
 "metadata": {
  "kernelspec": {
   "display_name": "Python 3",
   "language": "python",
   "name": "python3"
  },
  "language_info": {
   "codemirror_mode": {
    "name": "ipython",
    "version": 3
   },
   "file_extension": ".py",
   "mimetype": "text/x-python",
   "name": "python",
   "nbconvert_exporter": "python",
   "pygments_lexer": "ipython3",
   "version": "3.7.3"
  }
 },
 "nbformat": 4,
 "nbformat_minor": 2
}
