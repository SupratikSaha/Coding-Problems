{
 "cells": [
  {
   "cell_type": "markdown",
   "metadata": {},
   "source": [
    "Problem Statement.\n",
    "\n",
    "Consider a matrix M with dimensions width * height, such that every cell has value 0 or 1, and any square sub-matrix of M of size sideLength * sideLength has at most maxOnes ones.\n",
    "\n",
    "Return the maximum possible number of ones that the matrix M can have.\n",
    "\n",
    " \n",
    "\n",
    "Example 1:\n",
    "\n",
    "Input: width = 3, height = 3, sideLength = 2, maxOnes = 1\n",
    "Output: 4\n",
    "Explanation:\n",
    "In a 3*3 matrix, no 2*2 sub-matrix can have more than 1 one.\n",
    "The best solution that has 4 ones is:\n",
    "[1,0,1]\n",
    "[0,0,0]\n",
    "[1,0,1]\n",
    "\n",
    "Example 2:\n",
    "\n",
    "Input: width = 3, height = 3, sideLength = 2, maxOnes = 2\n",
    "Output: 6\n",
    "Explanation:\n",
    "[1,0,1]\n",
    "[1,0,1]\n",
    "[1,0,1]\n",
    "\n",
    " \n",
    "\n",
    "Constraints:\n",
    "\n",
    "    1 <= width, height <= 100\n",
    "    1 <= sideLength <= width, height\n",
    "    0 <= maxOnes <= sideLength * sideLength"
   ]
  },
  {
   "cell_type": "markdown",
   "metadata": {},
   "source": [
    "# Two Loops and Sort - O(N ^ 2) runtime, O(N ^ 2) space"
   ]
  },
  {
   "cell_type": "code",
   "execution_count": 1,
   "metadata": {},
   "outputs": [],
   "source": [
    "class Solution:\n",
    "    def maximumNumberOfOnes(self, width: int, height: int, sideLength: int, maxOnes: int) -> int:\n",
    "        res = []\n",
    "        for i in range(sideLength):\n",
    "            for j in range(sideLength):\n",
    "                res += [((width - i - 1) // sideLength + 1) * ((height - j - 1) // sideLength + 1)]\n",
    "        res = sorted(res,reverse = True)\n",
    "        return sum(res[:maxOnes])"
   ]
  },
  {
   "cell_type": "markdown",
   "metadata": {},
   "source": [
    "# Warpping - O(1) runtime, O(1) space"
   ]
  },
  {
   "cell_type": "code",
   "execution_count": 4,
   "metadata": {},
   "outputs": [],
   "source": [
    "class Solution:\n",
    "    def maximumNumberOfOnes(self, width: int, height: int, sideLength: int, maxOnes: int) -> int:\n",
    "        total = 0\n",
    "        m, x = divmod(width, sideLength)\n",
    "        n, y = divmod(height, sideLength)\n",
    "\n",
    "        total += maxOnes * m * n\n",
    "        right = 0\n",
    "        bottom = 0\n",
    "        if m > n:\n",
    "            bottom = min(maxOnes, y*sideLength)\n",
    "            right = maxOnes - bottom + min(maxOnes, x*y)\n",
    "            right = min(right, x * sideLength)\n",
    "        else:\n",
    "            right = min(maxOnes, x*sideLength)\n",
    "            bottom = maxOnes - right + min(maxOnes, x*y)\n",
    "            bottom = min(bottom, y * sideLength)\n",
    "\n",
    "        total += bottom * m + right * n\n",
    "        total += min(maxOnes, x * y)\n",
    "        return total"
   ]
  },
  {
   "cell_type": "code",
   "execution_count": 5,
   "metadata": {},
   "outputs": [
    {
     "data": {
      "text/plain": [
       "6"
      ]
     },
     "execution_count": 5,
     "metadata": {},
     "output_type": "execute_result"
    }
   ],
   "source": [
    "instance = Solution()\n",
    "instance.maximumNumberOfOnes(3,3,2,2)"
   ]
  }
 ],
 "metadata": {
  "kernelspec": {
   "display_name": "Python 3",
   "language": "python",
   "name": "python3"
  },
  "language_info": {
   "codemirror_mode": {
    "name": "ipython",
    "version": 3
   },
   "file_extension": ".py",
   "mimetype": "text/x-python",
   "name": "python",
   "nbconvert_exporter": "python",
   "pygments_lexer": "ipython3",
   "version": "3.7.3"
  }
 },
 "nbformat": 4,
 "nbformat_minor": 2
}
