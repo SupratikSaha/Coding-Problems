{
 "cells": [
  {
   "cell_type": "markdown",
   "metadata": {},
   "source": [
    "    Probem Statement.\n",
    "\n",
    "    Given a string s and an array of integers cost where cost[i] is the cost of deleting the ith character in s.\n",
    "\n",
    "    Return the minimum cost of deletions such that there are no two identical letters next to each other.\n",
    "\n",
    "    Notice that you will delete the chosen characters at the same time, in other words, after deleting a character, the costs of deleting other characters will not change.\n",
    "\n",
    "\n",
    "\n",
    "    Example 1:\n",
    "\n",
    "    Input: s = \"abaac\", cost = [1,2,3,4,5]\n",
    "    Output: 3\n",
    "    Explanation: Delete the letter \"a\" with cost 3 to get \"abac\" (String without two identical letters next to each other).\n",
    "\n",
    "    Example 2:\n",
    "\n",
    "    Input: s = \"abc\", cost = [1,2,3]\n",
    "    Output: 0\n",
    "    Explanation: You don't need to delete any character because there are no identical letters next to each other.\n",
    "\n",
    "    Example 3:\n",
    "\n",
    "    Input: s = \"aabaa\", cost = [1,2,3,4,1]\n",
    "    Output: 2\n",
    "    Explanation: Delete the first and the last character, getting the string (\"aba\").\n",
    "\n",
    "\n",
    "\n",
    "    Constraints:\n",
    "\n",
    "        s.length == cost.length\n",
    "        1 <= s.length, cost.length <= 10^5\n",
    "        1 <= cost[i] <= 10^4\n",
    "        s contains only lowercase English letters."
   ]
  },
  {
   "cell_type": "markdown",
   "metadata": {},
   "source": [
    "# Linear Traversal - O(N) runtime, O(1) space"
   ]
  },
  {
   "cell_type": "code",
   "execution_count": 1,
   "metadata": {},
   "outputs": [],
   "source": [
    "from typing import List\n",
    "\n",
    "class Solution:\n",
    "    def minCost(self, s: str, cost: List[int]) -> int:\n",
    "        n = len(s)\n",
    "        i, res = 0, 0\n",
    "        while i < n:\n",
    "            char = s[i]\n",
    "            totalCost, maxCost = 0, float('-inf')\n",
    "            while i < n and s[i] == char:\n",
    "                maxCost = max(maxCost, cost[i])\n",
    "                totalCost += cost[i]\n",
    "                i += 1\n",
    "            res += totalCost - maxCost\n",
    "            \n",
    "        return res"
   ]
  },
  {
   "cell_type": "markdown",
   "metadata": {},
   "source": [
    "# Simpler Linear Traversal - O(N) runtime, O(1) space"
   ]
  },
  {
   "cell_type": "code",
   "execution_count": 3,
   "metadata": {},
   "outputs": [],
   "source": [
    "from typing import List\n",
    "\n",
    "class Solution:\n",
    "    def minCost(self, s: str, cost: List[int]) -> int:\n",
    "        res = max_cost = 0\n",
    "        for i in range(len(s)):\n",
    "            if i > 0 and s[i] != s[i - 1]:\n",
    "                max_cost = 0\n",
    "            res += min(max_cost, cost[i])\n",
    "            max_cost = max(max_cost, cost[i])\n",
    "        return res"
   ]
  },
  {
   "cell_type": "code",
   "execution_count": 4,
   "metadata": {},
   "outputs": [
    {
     "data": {
      "text/plain": [
       "23"
      ]
     },
     "execution_count": 4,
     "metadata": {},
     "output_type": "execute_result"
    }
   ],
   "source": [
    "instance = Solution()\n",
    "instance.minCost(\"bbbaaa\", [4,9,3,8,8,9])"
   ]
  }
 ],
 "metadata": {
  "kernelspec": {
   "display_name": "Python 3",
   "language": "python",
   "name": "python3"
  },
  "language_info": {
   "codemirror_mode": {
    "name": "ipython",
    "version": 3
   },
   "file_extension": ".py",
   "mimetype": "text/x-python",
   "name": "python",
   "nbconvert_exporter": "python",
   "pygments_lexer": "ipython3",
   "version": "3.7.3"
  }
 },
 "nbformat": 4,
 "nbformat_minor": 2
}
