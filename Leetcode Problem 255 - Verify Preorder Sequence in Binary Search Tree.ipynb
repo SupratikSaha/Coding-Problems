{
 "cells": [
  {
   "cell_type": "markdown",
   "metadata": {},
   "source": [
    "Problem Statement.\n",
    "\n",
    "Given an array of unique integers preorder, return true if it is the correct preorder traversal sequence of a binary search tree.\n",
    "\n",
    " \n",
    "\n",
    "Example 1:\n",
    "\n",
    "Input: preorder = [5,2,1,3,6]\n",
    "Output: true\n",
    "\n",
    "Example 2:\n",
    "\n",
    "Input: preorder = [5,2,6,1,3]\n",
    "Output: false\n",
    "\n",
    " \n",
    "\n",
    "Constraints:\n",
    "\n",
    "    1 <= preorder.length <= 104\n",
    "    1 <= preorder[i] <= 104\n",
    "    All the elements of preorder are unique.\n",
    "\n",
    " \n",
    "\n",
    "Follow up: Could you do it using only constant space complexity?"
   ]
  },
  {
   "cell_type": "markdown",
   "metadata": {},
   "source": [
    "# Using stack - O(N) runtime, O(N) space"
   ]
  },
  {
   "cell_type": "code",
   "execution_count": 3,
   "metadata": {},
   "outputs": [],
   "source": [
    "from typing import List\n",
    "\n",
    "class Solution:\n",
    "    def verifyPreorder(self, preorder: List[int]) -> bool:\n",
    "        low, stack = float('-inf'), [float('inf')]\n",
    "        \n",
    "        for v in preorder:\n",
    "            if v <= low or v == stack[-1]: return False\n",
    "            while v > stack[-1]:\n",
    "                low = stack.pop()\n",
    "            stack.append(v)\n",
    "            \n",
    "        return True"
   ]
  },
  {
   "cell_type": "markdown",
   "metadata": {},
   "source": [
    "# Without extra space - O(N) runtime, O(1) space"
   ]
  },
  {
   "cell_type": "code",
   "execution_count": 5,
   "metadata": {},
   "outputs": [],
   "source": [
    "from typing import List\n",
    "\n",
    "class Solution:\n",
    "    def verifyPreorder(self, preorder: List[int]) -> bool:\n",
    "        if not preorder:\n",
    "            return True\n",
    "        maxx = preorder[0]\n",
    "        limit = -float('inf')\n",
    "        \n",
    "        for i in range(1, len(preorder)):\n",
    "            if preorder[i] < limit:\n",
    "                return False\n",
    "            if preorder[i] > preorder[i-1]:\n",
    "                if preorder[i] > maxx:\n",
    "                    limit = maxx\n",
    "                    maxx = preorder[i]\n",
    "                else:\n",
    "                    j = i - 1\n",
    "                    while preorder[j]<preorder[i]:\n",
    "                        j -= 1\n",
    "                    limit = preorder[j+1]\n",
    "        \n",
    "        return True"
   ]
  },
  {
   "cell_type": "code",
   "execution_count": 6,
   "metadata": {},
   "outputs": [
    {
     "data": {
      "text/plain": [
       "True"
      ]
     },
     "execution_count": 6,
     "metadata": {},
     "output_type": "execute_result"
    }
   ],
   "source": [
    "instance = Solution()\n",
    "instance.verifyPreorder([5,2,1,3,6])"
   ]
  }
 ],
 "metadata": {
  "kernelspec": {
   "display_name": "Python 3",
   "language": "python",
   "name": "python3"
  },
  "language_info": {
   "codemirror_mode": {
    "name": "ipython",
    "version": 3
   },
   "file_extension": ".py",
   "mimetype": "text/x-python",
   "name": "python",
   "nbconvert_exporter": "python",
   "pygments_lexer": "ipython3",
   "version": "3.7.3"
  }
 },
 "nbformat": 4,
 "nbformat_minor": 2
}
