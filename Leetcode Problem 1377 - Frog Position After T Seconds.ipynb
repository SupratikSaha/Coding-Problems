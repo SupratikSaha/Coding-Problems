{
 "cells": [
  {
   "cell_type": "markdown",
   "metadata": {},
   "source": [
    "Problem Statement.\n",
    "\n",
    "Given an undirected tree consisting of n vertices numbered from 1 to n. A frog starts jumping from vertex 1. In one second, the frog jumps from its current vertex to another unvisited vertex if they are directly connected. The frog can not jump back to a visited vertex. In case the frog can jump to several vertices, it jumps randomly to one of them with the same probability. Otherwise, when the frog can not jump to any unvisited vertex, it jumps forever on the same vertex.\n",
    "\n",
    "The edges of the undirected tree are given in the array edges, where edges[i] = [ai, bi] means that exists an edge connecting the vertices ai and bi.\n",
    "\n",
    "Return the probability that after t seconds the frog is on the vertex target.\n",
    "\n",
    " \n",
    "\n",
    "Example 1:\n",
    "\n",
    "Input: n = 7, edges = [[1,2],[1,3],[1,7],[2,4],[2,6],[3,5]], t = 2, target = 4\n",
    "Output: 0.16666666666666666 \n",
    "Explanation: The figure above shows the given graph. The frog starts at vertex 1, jumping with 1/3 probability to the vertex 2 after second 1 and then jumping with 1/2 probability to vertex 4 after second 2. Thus the probability for the frog is on the vertex 4 after 2 seconds is 1/3 * 1/2 = 1/6 = 0.16666666666666666. \n",
    "\n",
    "Example 2:\n",
    "\n",
    "Input: n = 7, edges = [[1,2],[1,3],[1,7],[2,4],[2,6],[3,5]], t = 1, target = 7\n",
    "Output: 0.3333333333333333\n",
    "Explanation: The figure above shows the given graph. The frog starts at vertex 1, jumping with 1/3 = 0.3333333333333333 probability to the vertex 7 after second 1. \n",
    "\n",
    "Example 3:\n",
    "\n",
    "Input: n = 7, edges = [[1,2],[1,3],[1,7],[2,4],[2,6],[3,5]], t = 20, target = 6\n",
    "Output: 0.16666666666666666\n",
    "\n",
    " \n",
    "\n",
    "Constraints:\n",
    "\n",
    "    1 <= n <= 100\n",
    "    edges.length == n - 1\n",
    "    edges[i].length == 2\n",
    "    1 <= ai, bi <= n\n",
    "    1 <= t <= 50\n",
    "    1 <= target <= n\n",
    "    Answers within 10-5 of the actual value will be accepted as correct."
   ]
  },
  {
   "cell_type": "markdown",
   "metadata": {},
   "source": [
    "# DFS - O(N) runtime, O(N) space"
   ]
  },
  {
   "cell_type": "code",
   "execution_count": 3,
   "metadata": {},
   "outputs": [],
   "source": [
    "from typing import List\n",
    "\n",
    "class Solution:\n",
    "    def frogPosition(self, n: int, edges: List[List[int]], t: int, target: int) -> float:\n",
    "        if n == 1: return 1.0\n",
    "        G = [[] for i in range(n + 1)]\n",
    "        for i, j in edges:\n",
    "            G[i].append(j)\n",
    "            G[j].append(i)\n",
    "        seen = [0] * (n + 1)\n",
    "\n",
    "        def dfs(i, t):\n",
    "            if i != 1 and len(G[i]) == 1 or t == 0:\n",
    "                return i == target\n",
    "            seen[i] = 1\n",
    "            res = sum(dfs(j, t - 1) for j in G[i] if not seen[j])\n",
    "            return res * 1.0 / (len(G[i]) - (i != 1))\n",
    "        return dfs(1, t)"
   ]
  },
  {
   "cell_type": "markdown",
   "metadata": {},
   "source": [
    "# Faster BFS - O(N) runtime, O(N) space"
   ]
  },
  {
   "cell_type": "code",
   "execution_count": 1,
   "metadata": {},
   "outputs": [],
   "source": [
    "from typing import List\n",
    "from collections import defaultdict, deque\n",
    "\n",
    "class Solution:\n",
    "    def frogPosition(self, n: int, edges: List[List[int]], t: int, target: int) -> float:\n",
    "        if n == 1: return 1.0\n",
    "        tree = defaultdict(set)\n",
    "        \n",
    "        for a, b in edges:\n",
    "            tree[a].add(b)\n",
    "            tree[b].add(a)\n",
    "            \n",
    "        queue = deque([[1, 1, 0]])\n",
    "        visited = {1}\n",
    "        \n",
    "        while queue:\n",
    "            node, prob, time = queue.popleft()\n",
    "            currQueue = tree[node] - visited\n",
    "            if node == target: \n",
    "                if (not currQueue and time <= t) or (currQueue and time == t):\n",
    "                    return prob\n",
    "                else: return 0\n",
    "            \n",
    "            if currQueue:\n",
    "                next_node_prob = prob * 1/(len(currQueue))\n",
    "                for next_node in currQueue:\n",
    "                    visited.add(next_node)\n",
    "                    queue.append([next_node, next_node_prob, time+1])"
   ]
  },
  {
   "cell_type": "code",
   "execution_count": 4,
   "metadata": {},
   "outputs": [
    {
     "data": {
      "text/plain": [
       "0.16666666666666666"
      ]
     },
     "execution_count": 4,
     "metadata": {},
     "output_type": "execute_result"
    }
   ],
   "source": [
    "instance = Solution()\n",
    "instance.frogPosition(7, [[1,2],[1,3],[1,7],[2,4],[2,6],[3,5]], 20, 6)"
   ]
  }
 ],
 "metadata": {
  "kernelspec": {
   "display_name": "Python 3",
   "language": "python",
   "name": "python3"
  },
  "language_info": {
   "codemirror_mode": {
    "name": "ipython",
    "version": 3
   },
   "file_extension": ".py",
   "mimetype": "text/x-python",
   "name": "python",
   "nbconvert_exporter": "python",
   "pygments_lexer": "ipython3",
   "version": "3.7.3"
  }
 },
 "nbformat": 4,
 "nbformat_minor": 2
}
