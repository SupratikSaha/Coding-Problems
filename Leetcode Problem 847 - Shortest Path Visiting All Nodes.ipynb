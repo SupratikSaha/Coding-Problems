{
 "cells": [
  {
   "cell_type": "markdown",
   "metadata": {},
   "source": [
    "Problem Statement.\n",
    "\n",
    "You have an undirected, connected graph of n nodes labeled from 0 to n - 1. You are given an array graph where graph[i] is a list of all the nodes connected with node i by an edge.\n",
    "\n",
    "Return the length of the shortest path that visits every node. You may start and stop at any node, you may revisit nodes multiple times, and you may reuse edges.\n",
    "\n",
    " \n",
    "\n",
    "Example 1:\n",
    "\n",
    "Input: graph = [[1,2,3],[0],[0],[0]]\n",
    "Output: 4\n",
    "Explanation: One possible path is [1,0,2,0,3]\n",
    "\n",
    "Example 2:\n",
    "\n",
    "Input: graph = [[1],[0,2,4],[1,3,4],[2],[1,2]]\n",
    "Output: 4\n",
    "Explanation: One possible path is [0,1,4,2,3]\n",
    "\n",
    " \n",
    "\n",
    "Constraints:\n",
    "\n",
    "    n == graph.length\n",
    "    1 <= n <= 12\n",
    "    0 <= graph[i].length < n\n",
    "    graph[i] does not contain i.\n",
    "    If graph[a] contains b, then graph[b] contains a.\n",
    "    The input graph is always connected."
   ]
  },
  {
   "cell_type": "markdown",
   "metadata": {},
   "source": [
    "# Time Limit Exceeded - BFS - O(N* (2 ^ N)) runtime, O(N* (2 ^ N)) space"
   ]
  },
  {
   "cell_type": "code",
   "execution_count": 1,
   "metadata": {},
   "outputs": [],
   "source": [
    "from typing import List\n",
    "from collections import deque\n",
    "\n",
    "class Solution:\n",
    "    def shortestPathLength(self, graph: List[List[int]]) -> int:\n",
    "        if not graph or not graph[0]: return 0\n",
    "        n = len(graph)\n",
    "        queue = deque()\n",
    "        for i in range(n):\n",
    "            queue.append((i, 0, {i}))\n",
    "            \n",
    "        while queue:\n",
    "            prev, length, nodeSet = queue.popleft()\n",
    "            \n",
    "            for nextNode in graph[prev]:\n",
    "                if nextNode not in nodeSet and len(nodeSet) + 1 == n: return length+1\n",
    "                queue.append((nextNode, length+1, nodeSet.union({nextNode})))"
   ]
  },
  {
   "cell_type": "markdown",
   "metadata": {},
   "source": [
    "# Deque with memo - O(N* (2 ^ N)) runtime, O(N* (2 ^ N)) space"
   ]
  },
  {
   "cell_type": "code",
   "execution_count": 3,
   "metadata": {},
   "outputs": [],
   "source": [
    "from typing import List\n",
    "from collections import deque\n",
    "\n",
    "class Solution:\n",
    "    def shortestPathLength(self, graph: List[List[int]]) -> int:\n",
    "        memo, final = set(), (1 << len(graph)) - 1\n",
    "        q = deque([(i, 0, 1 << i) for i in range(len(graph))])\n",
    "        \n",
    "        while q:\n",
    "            node, steps, state = q.popleft()\n",
    "            if state == final: return steps\n",
    "            for v in graph[node]:\n",
    "                if (state | 1 << v, v) not in memo:\n",
    "                    q.append((v, steps + 1, state | 1 << v))\n",
    "                    memo.add((state | 1 << v, v))"
   ]
  },
  {
   "cell_type": "markdown",
   "metadata": {},
   "source": [
    "# Fastest - BFS with Memo - O(N* (2 ^ N)) runtime, O(N* (2 ^ N)) space"
   ]
  },
  {
   "cell_type": "code",
   "execution_count": 5,
   "metadata": {},
   "outputs": [],
   "source": [
    "from typing import List\n",
    "\n",
    "class Solution:\n",
    "    def shortestPathLength(self, graph: List[List[int]]) -> int:\n",
    "        memo, final, steps = set(), (1 << len(graph)) - 1, 0\n",
    "        q = [(i, 1 << i) for i in range(len(graph))]\n",
    "        \n",
    "        while True:\n",
    "            new = []\n",
    "            for node, state in q:\n",
    "                if state == final: return steps\n",
    "                for v in graph[node]:\n",
    "                    if (state | 1 << v, v) not in memo:\n",
    "                        new.append((v, state | 1 << v))\n",
    "                        memo.add((state | 1 << v, v))\n",
    "            q = new\n",
    "            steps += 1"
   ]
  },
  {
   "cell_type": "code",
   "execution_count": 6,
   "metadata": {},
   "outputs": [
    {
     "data": {
      "text/plain": [
       "4"
      ]
     },
     "execution_count": 6,
     "metadata": {},
     "output_type": "execute_result"
    }
   ],
   "source": [
    "instance = Solution()\n",
    "instance.shortestPathLength([[1],[0,2,4],[1,3,4],[2],[1,2]])"
   ]
  }
 ],
 "metadata": {
  "kernelspec": {
   "display_name": "Python 3",
   "language": "python",
   "name": "python3"
  },
  "language_info": {
   "codemirror_mode": {
    "name": "ipython",
    "version": 3
   },
   "file_extension": ".py",
   "mimetype": "text/x-python",
   "name": "python",
   "nbconvert_exporter": "python",
   "pygments_lexer": "ipython3",
   "version": "3.7.3"
  }
 },
 "nbformat": 4,
 "nbformat_minor": 2
}
