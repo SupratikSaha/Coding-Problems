{
 "cells": [
  {
   "cell_type": "markdown",
   "metadata": {},
   "source": [
    "Problem Statement.\n",
    "\n",
    "We are given n different types of stickers. Each sticker has a lowercase English word on it.\n",
    "\n",
    "You would like to spell out the given string target by cutting individual letters from your collection of stickers and rearranging them. You can use each sticker more than once if you want, and you have infinite quantities of each sticker.\n",
    "\n",
    "Return the minimum number of stickers that you need to spell out target. If the task is impossible, return -1.\n",
    "\n",
    "Note: In all test cases, all words were chosen randomly from the 1000 most common US English words, and target was chosen as a concatenation of two random words.\n",
    "\n",
    " \n",
    "\n",
    "Example 1:\n",
    "\n",
    "Input: stickers = [\"with\",\"example\",\"science\"], target = \"thehat\"\n",
    "Output: 3\n",
    "Explanation:\n",
    "We can use 2 \"with\" stickers, and 1 \"example\" sticker.\n",
    "After cutting and rearrange the letters of those stickers, we can form the target \"thehat\".\n",
    "Also, this is the minimum number of stickers necessary to form the target string.\n",
    "\n",
    "Example 2:\n",
    "\n",
    "Input: stickers = [\"notice\",\"possible\"], target = \"basicbasic\"\n",
    "Output: -1\n",
    "Explanation:\n",
    "We cannot form the target \"basicbasic\" from cutting letters from the given stickers.\n",
    "\n",
    " \n",
    "\n",
    "Constraints:\n",
    "\n",
    "    n == stickers.length\n",
    "    1 <= n <= 50\n",
    "    1 <= stickers[i].length <= 10\n",
    "    1 <= target <= 15\n",
    "    stickers[i] and target consist of lowercase English letters."
   ]
  },
  {
   "cell_type": "markdown",
   "metadata": {},
   "source": [
    "# Top Down DP with memo - O(S * T ^ 2) runtime, O(S + T) space"
   ]
  },
  {
   "cell_type": "code",
   "execution_count": 2,
   "metadata": {},
   "outputs": [],
   "source": [
    "from typing import List\n",
    "from collections import Counter\n",
    "\n",
    "class Solution:\n",
    "    def minStickers(self, stickers: List[str], target: str) -> int:\n",
    "        stickers =[Counter(s) for s in stickers if set(s) & set(target)]\n",
    "        memo = {}\n",
    "        \n",
    "        def dfs(target):\n",
    "            if not target: return 0\n",
    "            if target in memo: return memo[target]\n",
    "            \n",
    "            cnt, res = Counter(target), float('inf')\n",
    "            \n",
    "            for c in stickers:\n",
    "                if c[target[0]] == 0: continue \n",
    "                nxt = dfs(''.join([s * t for (s, t) in (cnt - c).items()]))\n",
    "                if nxt != -1: res = min(res, 1 + nxt)\n",
    "                    \n",
    "            memo[target] = -1 if res == float('inf') else res\n",
    "            \n",
    "            return memo[target]\n",
    "        \n",
    "        return dfs(target)"
   ]
  },
  {
   "cell_type": "code",
   "execution_count": 4,
   "metadata": {},
   "outputs": [
    {
     "data": {
      "text/plain": [
       "3"
      ]
     },
     "execution_count": 4,
     "metadata": {},
     "output_type": "execute_result"
    }
   ],
   "source": [
    "instance = Solution()\n",
    "instance.minStickers([\"with\",\"example\",\"science\"], \"thehat\")"
   ]
  }
 ],
 "metadata": {
  "kernelspec": {
   "display_name": "Python 3",
   "language": "python",
   "name": "python3"
  },
  "language_info": {
   "codemirror_mode": {
    "name": "ipython",
    "version": 3
   },
   "file_extension": ".py",
   "mimetype": "text/x-python",
   "name": "python",
   "nbconvert_exporter": "python",
   "pygments_lexer": "ipython3",
   "version": "3.7.3"
  }
 },
 "nbformat": 4,
 "nbformat_minor": 2
}
