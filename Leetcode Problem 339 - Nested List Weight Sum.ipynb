{
 "cells": [
  {
   "cell_type": "markdown",
   "metadata": {},
   "source": [
    "    Problem Statement.\n",
    "\n",
    "    You are given a nested list of integers nestedList. Each element is either an integer or a list whose elements may also be integers or other lists.\n",
    "\n",
    "    The depth of an integer is the number of lists that it is inside of. For example, the nested list [1,[2,2],[[3],2],1] has each integer's value set to its depth.\n",
    "\n",
    "    Return the sum of each integer in nestedList multiplied by its depth.\n",
    "\n",
    "\n",
    "\n",
    "    Example 1:\n",
    "\n",
    "    Input: nestedList = [[1,1],2,[1,1]]\n",
    "    Output: 10\n",
    "    Explanation: Four 1's at depth 2, one 2 at depth 1. 1*2 + 1*2 + 2*1 + 1*2 + 1*2 = 10.\n",
    "\n",
    "    Example 2:\n",
    "\n",
    "    Input: nestedList = [1,[4,[6]]]\n",
    "    Output: 27\n",
    "    Explanation: One 1 at depth 1, one 4 at depth 2, and one 6 at depth 3. 1*1 + 4*2 + 6*3 = 27.\n",
    "\n",
    "    Example 3:\n",
    "\n",
    "    Input: nestedList = [0]\n",
    "    Output: 0\n",
    "\n",
    "\n",
    "\n",
    "    Constraints:\n",
    "\n",
    "        1 <= nestedList.length <= 50\n",
    "        The values of the integers in the nested list is in the range [-100, 100].\n",
    "        The maximum depth of any integer is less than or equal to 50."
   ]
  },
  {
   "cell_type": "code",
   "execution_count": 3,
   "metadata": {},
   "outputs": [],
   "source": [
    "# \"\"\"\n",
    "# This is the interface that allows for creating nested lists.\n",
    "# You should not implement it, or speculate about its implementation\n",
    "# \"\"\"\n",
    "# class NestedInteger:\n",
    "#     def __init__(self, value=None):\n",
    "#        \"\"\"\n",
    "#        If value is not specified, initializes an empty list.\n",
    "#        Otherwise initializes a single integer equal to value.\n",
    "#        \"\"\"\n",
    "\n",
    "#     def isInteger(self):\n",
    "#        \"\"\"\n",
    "#        @return True if this NestedInteger holds a single integer, rather than a nested list.\n",
    "#        :rtype bool\n",
    "#        \"\"\"\n",
    "\n",
    "#     def add(self, elem):\n",
    "#        \"\"\"\n",
    "#        Set this NestedInteger to hold a nested list and adds a nested integer elem to it.\n",
    "#        :rtype void\n",
    "#        \"\"\"\n",
    "\n",
    "#     def setInteger(self, value):\n",
    "#        \"\"\"\n",
    "#        Set this NestedInteger to hold a single integer equal to value.\n",
    "#        :rtype void\n",
    "#        \"\"\"\n",
    "\n",
    "#     def getInteger(self):\n",
    "#        \"\"\"\n",
    "#        @return the single integer that this NestedInteger holds, if it holds a single integer\n",
    "#        Return None if this NestedInteger holds a nested list\n",
    "#        :rtype int\n",
    "#        \"\"\"\n",
    "\n",
    "#     def getList(self):\n",
    "#        \"\"\"\n",
    "#        @return the nested list that this NestedInteger holds, if it holds a nested list\n",
    "#        Return None if this NestedInteger holds a single integer\n",
    "#        :rtype List[NestedInteger]\n",
    "#        \"\"\""
   ]
  },
  {
   "cell_type": "markdown",
   "metadata": {},
   "source": [
    "# BFS - O(N) runtime, O(N) space, where N is the sum of n*d n being the number of elements in each nested list and d is teh depth of each list"
   ]
  },
  {
   "cell_type": "code",
   "execution_count": 5,
   "metadata": {},
   "outputs": [],
   "source": [
    "class Solution:\n",
    "    def depthSum(self, nestedList: List[NestedInteger]) -> int:      \n",
    "        queue = deque(nestedList)\n",
    "\n",
    "        depth = 1\n",
    "        total = 0\n",
    "\n",
    "        while len(queue) > 0:\n",
    "            for i in range(len(queue)):\n",
    "                nested = queue.popleft()\n",
    "                if nested.isInteger():\n",
    "                    total += nested.getInteger() * depth\n",
    "                else:\n",
    "                    queue.extend(nested.getList())\n",
    "            depth += 1\n",
    "\n",
    "        return total"
   ]
  },
  {
   "cell_type": "markdown",
   "metadata": {},
   "source": [
    "# DFS - O(N) runtime, O(N) space, where N is the sum of n*d n being the number of elements in each nested list and d is teh depth of each list"
   ]
  },
  {
   "cell_type": "code",
   "execution_count": 4,
   "metadata": {},
   "outputs": [],
   "source": [
    "from typing import List\n",
    "\n",
    "class Solution:\n",
    "    def depthSum(self, nestedList: List[NestedInteger]) -> int:      \n",
    "        return self.depthSumRecursive(nestedList, 1)\n",
    "    \n",
    "    def depthSumRecursive(self, nestedList: List[NestedInteger], depth: int) -> int:\n",
    "        res = 0\n",
    "        for elem in nestedList:\n",
    "            if elem.isInteger(): \n",
    "                res += depth * elem.getInteger()\n",
    "            else:\n",
    "                res += self.depthSumRecursive(elem.getList(), depth + 1)\n",
    "            \n",
    "        return res"
   ]
  }
 ],
 "metadata": {
  "kernelspec": {
   "display_name": "Python 3",
   "language": "python",
   "name": "python3"
  },
  "language_info": {
   "codemirror_mode": {
    "name": "ipython",
    "version": 3
   },
   "file_extension": ".py",
   "mimetype": "text/x-python",
   "name": "python",
   "nbconvert_exporter": "python",
   "pygments_lexer": "ipython3",
   "version": "3.7.3"
  }
 },
 "nbformat": 4,
 "nbformat_minor": 2
}
