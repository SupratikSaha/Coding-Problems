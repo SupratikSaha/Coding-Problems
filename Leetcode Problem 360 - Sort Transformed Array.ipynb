{
 "cells": [
  {
   "cell_type": "markdown",
   "metadata": {},
   "source": [
    "Problem Statement.\n",
    "\n",
    "Given a sorted integer array nums and three integers a, b and c, apply a quadratic function of the form f(x) = ax2 + bx + c to each element nums[i] in the array, and return the array in a sorted order.\n",
    "\n",
    " \n",
    "\n",
    "Example 1:\n",
    "\n",
    "Input: nums = [-4,-2,2,4], a = 1, b = 3, c = 5\n",
    "Output: [3,9,15,33]\n",
    "\n",
    "Example 2:\n",
    "\n",
    "Input: nums = [-4,-2,2,4], a = -1, b = 3, c = 5\n",
    "Output: [-23,-5,1,7]\n",
    "\n",
    " \n",
    "\n",
    "Constraints:\n",
    "\n",
    "    1 <= nums.length <= 200\n",
    "    -100 <= nums[i], a, b, c <= 100\n",
    "    nums is sorted in ascending order.\n",
    "\n",
    " \n",
    "\n",
    "Follow up: Could you solve it in O(n) time?"
   ]
  },
  {
   "cell_type": "markdown",
   "metadata": {},
   "source": [
    "# Brute Force - Sort - O(N * Log N) runtime, O(N) space"
   ]
  },
  {
   "cell_type": "code",
   "execution_count": 1,
   "metadata": {},
   "outputs": [],
   "source": [
    "from typing import List\n",
    "\n",
    "class Solution:\n",
    "    def sortTransformedArray(self, nums: List[int], a: int, b: int, c: int) -> List[int]:\n",
    "        result = []\n",
    "        \n",
    "        for num in nums:\n",
    "            result.append(a * num * num + b * num + c)\n",
    "            \n",
    "        return sorted(result)"
   ]
  },
  {
   "cell_type": "markdown",
   "metadata": {},
   "source": [
    "# Using Derivative Logic - O(N) runtime, O(N) space"
   ]
  },
  {
   "cell_type": "code",
   "execution_count": 7,
   "metadata": {},
   "outputs": [],
   "source": [
    "from typing import List\n",
    "\n",
    "class Solution:\n",
    "    def sortTransformedArray(self, nums: List[int], a: int, b: int, c: int) -> List[int]:\n",
    "        #length of the nums list\n",
    "        n = len(nums)\n",
    "        \n",
    "        #Note that y = ax^2 + bx + c is an equation of a parabola.\n",
    "        #so the optima(maxima/minima) of that parabola is found by dy/dx = y' = 2ax+b = 0\n",
    "        #which is x = -b/2a\n",
    "        #So based on value of and sign of optima point x = -b/2a, left side may be monotonously decreasing \n",
    "        #and right side may be be monotonously increasing (if a positive)\n",
    "        #Or vice versa (if a negative)\n",
    "        #Now another speacial case would be if a == 0, then function y would\n",
    "        #be either monotonously increasing (if b positive) or monotonously\n",
    "        #decreasing (if b negative).\n",
    "        \n",
    "        #Let's take care of a = 0 first\n",
    "        if(a==0):\n",
    "            nums = [a*x**2+b*x+c for x in nums]\n",
    "            if(b>=0):\n",
    "                return nums\n",
    "            else:\n",
    "                return nums[::-1]\n",
    "        \n",
    "        #now let's check on the case when a > 0 or a < 0\n",
    "        #At first get the two pointers for our approach\n",
    "        i_list = [ind for ind,num in enumerate(nums) if num < (-b/(2*a))] #get the x indices of the nums that generates y poinis which are left of the optima\n",
    "        #print(i_list)\n",
    "        i = i_list[-1] + 1 if i_list else 0\n",
    "        j = i -1\n",
    "        \n",
    "        nums = [a*x**2+b*x+c for x in nums] #transformed numbers, if a > o, decreasing upto minima, then increasing\n",
    "        if a < 0: #else if a < o, increasing upto minima, then decreasing\n",
    "            nums = nums[:j+1][::-1] + nums[j+1:][::-1] #So making it as decreasing, then increasing\n",
    "        #print(nums)\n",
    "        \n",
    "        #So now, note that the squared list is piece-wise sorted (at first decreasing then increasing)\n",
    "        #We could also use two seperate list to save those numbers as\n",
    "        #decresing and increasing list, then merge them\n",
    "        #however we don't need as we have set our nums at a perfect way\n",
    "        \n",
    "        #So starting two pointers at opposite direction\n",
    "        out_list = [] #for storing the output sorted list\n",
    "        while j >= 0 and i< n:\n",
    "            if(nums[i] < nums[j]):\n",
    "                out_list.append(nums[i])\n",
    "                i += 1\n",
    "            else:\n",
    "                out_list.append(nums[j])\n",
    "                j -= 1\n",
    "        #Now taking care of the reminders of the list pointing by i and j right now\n",
    "        if(i<n):\n",
    "            out_list.extend(nums[i:])\n",
    "        if(j>=0):\n",
    "             out_list.extend(nums[j::-1])\n",
    "        return out_list"
   ]
  },
  {
   "cell_type": "markdown",
   "metadata": {},
   "source": [
    "# Optimized - O(N) runtime, O(N) space"
   ]
  },
  {
   "cell_type": "code",
   "execution_count": 3,
   "metadata": {},
   "outputs": [],
   "source": [
    "from typing import List\n",
    "\n",
    "class Solution:\n",
    "    def sortTransformedArray(self, nums: List[int], a: int, b: int, c: int) -> List[int]:\n",
    "        nums = [x*x*a + x*b + c for x in nums]\n",
    "        ret = [0] * len(nums)\n",
    "        p1, p2 = 0, len(nums) - 1\n",
    "        i, d = (p1, 1) if a < 0 else (p2, -1)\n",
    "        while p1 <= p2:\n",
    "            if nums[p1] * -d > nums[p2] * -d:\n",
    "                ret[i] = nums[p1]\n",
    "                p1 += 1\n",
    "            else:\n",
    "                ret[i] = nums[p2]\n",
    "                p2 -=1\n",
    "            i += d\n",
    "        return ret"
   ]
  },
  {
   "cell_type": "code",
   "execution_count": 8,
   "metadata": {},
   "outputs": [
    {
     "data": {
      "text/plain": [
       "[3, 9, 15, 33]"
      ]
     },
     "execution_count": 8,
     "metadata": {},
     "output_type": "execute_result"
    }
   ],
   "source": [
    "instance = Solution()\n",
    "instance.sortTransformedArray([-4,-2,2,4], 1, 3, 5)"
   ]
  }
 ],
 "metadata": {
  "kernelspec": {
   "display_name": "Python 3",
   "language": "python",
   "name": "python3"
  },
  "language_info": {
   "codemirror_mode": {
    "name": "ipython",
    "version": 3
   },
   "file_extension": ".py",
   "mimetype": "text/x-python",
   "name": "python",
   "nbconvert_exporter": "python",
   "pygments_lexer": "ipython3",
   "version": "3.7.3"
  }
 },
 "nbformat": 4,
 "nbformat_minor": 2
}
