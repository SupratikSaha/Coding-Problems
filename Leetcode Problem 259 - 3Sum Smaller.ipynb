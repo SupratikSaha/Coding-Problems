{
 "cells": [
  {
   "cell_type": "code",
   "execution_count": 1,
   "metadata": {},
   "outputs": [],
   "source": [
    "# A Simple Python 3 program to count triplets with sum smaller \n",
    "# than a given value \n",
    "def countTriplets(arr, n, sum): \n",
    "  \n",
    "    # Initialize result \n",
    "    ans = 0\n",
    "  \n",
    "    # Fix the first element as A[i] \n",
    "    for i in range( 0 ,n-2): \n",
    "      \n",
    "        # Fix the second element as A[j] \n",
    "        for j in range( i+1 ,n-1): \n",
    "      \n",
    "            # Now look for the third number \n",
    "            for k in range( j+1, n): \n",
    "                if (arr[i] + arr[j] + arr[k] < sum): \n",
    "                    ans+=1\n",
    "      \n",
    "    return ans "
   ]
  },
  {
   "cell_type": "code",
   "execution_count": 3,
   "metadata": {},
   "outputs": [
    {
     "data": {
      "text/plain": [
       "4"
      ]
     },
     "execution_count": 3,
     "metadata": {},
     "output_type": "execute_result"
    }
   ],
   "source": [
    "countTriplets([2,4,5,7],4,20)"
   ]
  }
 ],
 "metadata": {
  "kernelspec": {
   "display_name": "Python 3",
   "language": "python",
   "name": "python3"
  },
  "language_info": {
   "codemirror_mode": {
    "name": "ipython",
    "version": 3
   },
   "file_extension": ".py",
   "mimetype": "text/x-python",
   "name": "python",
   "nbconvert_exporter": "python",
   "pygments_lexer": "ipython3",
   "version": "3.7.3"
  }
 },
 "nbformat": 4,
 "nbformat_minor": 2
}
