{
 "cells": [
  {
   "cell_type": "markdown",
   "metadata": {},
   "source": [
    "# Brute Force - O(n^3) run time, O(1) space"
   ]
  },
  {
   "cell_type": "code",
   "execution_count": 1,
   "metadata": {},
   "outputs": [],
   "source": [
    "# A Simple Python 3 program to count triplets with sum smaller \n",
    "# than a given value \n",
    "class Solution:\n",
    "    def threeSumSmaller(self, nums: List[int], target: int) -> int:\n",
    "        # Initialize result \n",
    "        ans = 0\n",
    "        n = len(nums)\n",
    "  \n",
    "        # Fix the first element as A[i] \n",
    "        for i in range( 0 ,n-2): \n",
    "      \n",
    "            # Fix the second element as A[j] \n",
    "            for j in range( i+1 ,n-1): \n",
    "      \n",
    "                # Now look for the third number \n",
    "                for k in range( j+1, n): \n",
    "                    if (nums[i] + nums[j] + nums[k] < target): \n",
    "                        ans+=1\n",
    "      \n",
    "        return ans "
   ]
  },
  {
   "cell_type": "markdown",
   "metadata": {},
   "source": [
    "# Two Pointers - O(n^2) run time, O(1) space"
   ]
  },
  {
   "cell_type": "code",
   "execution_count": null,
   "metadata": {},
   "outputs": [],
   "source": [
    "class Solution:\n",
    "    def threeSumSmaller(self, nums: List[int], target: int) -> int:\n",
    "        # Initialize result \n",
    "        ans = 0\n",
    "        n = len(nums)\n",
    "        nums.sort()\n",
    "  \n",
    "        # Fix the first element as A[i] \n",
    "        for i in range( 0 ,n-2): \n",
    "            ans += self.twoSumSmaller(nums, i + 1, target - nums[i])\n",
    "        \n",
    "        return ans\n",
    "    \n",
    "    def twoSumSmaller(self, nums: List[int], startIndex: int, target: int) -> int:\n",
    "        ans = 0\n",
    "        left = startIndex\n",
    "        right = len(nums) - 1\n",
    "      \n",
    "        while left < right:\n",
    "            if nums[left] + nums[right] < target:\n",
    "                ans += right - left\n",
    "                left += 1\n",
    "            else:\n",
    "                right -= 1\n",
    "      \n",
    "        return ans "
   ]
  },
  {
   "cell_type": "code",
   "execution_count": 3,
   "metadata": {},
   "outputs": [
    {
     "data": {
      "text/plain": [
       "4"
      ]
     },
     "execution_count": 3,
     "metadata": {},
     "output_type": "execute_result"
    }
   ],
   "source": [
    "countTriplets([2,4,5,7],4,20)"
   ]
  }
 ],
 "metadata": {
  "kernelspec": {
   "display_name": "Python 3",
   "language": "python",
   "name": "python3"
  },
  "language_info": {
   "codemirror_mode": {
    "name": "ipython",
    "version": 3
   },
   "file_extension": ".py",
   "mimetype": "text/x-python",
   "name": "python",
   "nbconvert_exporter": "python",
   "pygments_lexer": "ipython3",
   "version": "3.7.3"
  }
 },
 "nbformat": 4,
 "nbformat_minor": 2
}
