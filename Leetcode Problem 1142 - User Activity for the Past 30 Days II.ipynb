{
 "cells": [
  {
   "cell_type": "markdown",
   "metadata": {},
   "source": [
    "    Problem Statement.\n",
    "\n",
    "    Table: Activity\n",
    "\n",
    "    +---------------+---------+\n",
    "    | Column Name   | Type    |\n",
    "    +---------------+---------+\n",
    "    | user_id       | int     |\n",
    "    | session_id    | int     |\n",
    "    | activity_date | date    |\n",
    "    | activity_type | enum    |\n",
    "    +---------------+---------+\n",
    "    There is no primary key for this table, it may have duplicate rows.\n",
    "    The activity_type column is an ENUM of type ('open_session', 'end_session', 'scroll_down', 'send_message').\n",
    "    The table shows the user activities for a social media website.\n",
    "    Note that each session belongs to exactly one user.\n",
    "\n",
    "\n",
    "\n",
    "    Write an SQL query to find the average number of sessions per user for a period of 30 days ending 2019-07-27 inclusively, rounded to 2 decimal places. The sessions we want to count for a user are those with at least one activity in that time period.\n",
    "\n",
    "    The query result format is in the following example:\n",
    "\n",
    "    Activity table:\n",
    "    +---------+------------+---------------+---------------+\n",
    "    | user_id | session_id | activity_date | activity_type |\n",
    "    +---------+------------+---------------+---------------+\n",
    "    | 1       | 1          | 2019-07-20    | open_session  |\n",
    "    | 1       | 1          | 2019-07-20    | scroll_down   |\n",
    "    | 1       | 1          | 2019-07-20    | end_session   |\n",
    "    | 2       | 4          | 2019-07-20    | open_session  |\n",
    "    | 2       | 4          | 2019-07-21    | send_message  |\n",
    "    | 2       | 4          | 2019-07-21    | end_session   |\n",
    "    | 3       | 2          | 2019-07-21    | open_session  |\n",
    "    | 3       | 2          | 2019-07-21    | send_message  |\n",
    "    | 3       | 2          | 2019-07-21    | end_session   |\n",
    "    | 3       | 5          | 2019-07-21    | open_session  |\n",
    "    | 3       | 5          | 2019-07-21    | scroll_down   |\n",
    "    | 3       | 5          | 2019-07-21    | end_session   |\n",
    "    | 4       | 3          | 2019-06-25    | open_session  |\n",
    "    | 4       | 3          | 2019-06-25    | end_session   |\n",
    "    +---------+------------+---------------+---------------+\n",
    "\n",
    "    Result table:\n",
    "    +---------------------------+ \n",
    "    | average_sessions_per_user |\n",
    "    +---------------------------+ \n",
    "    | 1.33                      |\n",
    "    +---------------------------+ \n",
    "    User 1 and 2 each had 1 session in the past 30 days while user 3 had 2 sessions so the average is (1 + 1 + 2) / 3 = 1.33."
   ]
  },
  {
   "cell_type": "markdown",
   "metadata": {},
   "source": [
    "# Count"
   ]
  },
  {
   "cell_type": "code",
   "execution_count": null,
   "metadata": {},
   "outputs": [],
   "source": [
    "select coalesce(round(count(distinct session_id) / count(distinct user_id), 2), 0.00) as average_sessions_per_user \n",
    "from Activity\n",
    "where activity_date >= '2019-06-28' and activity_date <= '2019-07-27'"
   ]
  },
  {
   "cell_type": "markdown",
   "metadata": {},
   "source": [
    "# Date Subtraction"
   ]
  },
  {
   "cell_type": "code",
   "execution_count": null,
   "metadata": {},
   "outputs": [],
   "source": [
    "select coalesce(round(count(distinct session_id) / count(distinct user_id), 2), 0.00) as average_sessions_per_user \n",
    "from Activity\n",
    "where activity_date between date_sub('2019-07-27',interval 29 day) and '2019-07-27'"
   ]
  }
 ],
 "metadata": {
  "kernelspec": {
   "display_name": "Python 3",
   "language": "python",
   "name": "python3"
  },
  "language_info": {
   "codemirror_mode": {
    "name": "ipython",
    "version": 3
   },
   "file_extension": ".py",
   "mimetype": "text/x-python",
   "name": "python",
   "nbconvert_exporter": "python",
   "pygments_lexer": "ipython3",
   "version": "3.7.3"
  }
 },
 "nbformat": 4,
 "nbformat_minor": 2
}
