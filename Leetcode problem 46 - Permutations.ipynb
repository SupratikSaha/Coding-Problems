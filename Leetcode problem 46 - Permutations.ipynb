{
 "cells": [
  {
   "cell_type": "code",
   "execution_count": 55,
   "metadata": {},
   "outputs": [],
   "source": [
    "class Solution:\n",
    "    def permute(self, nums):\n",
    "        \n",
    "        if not nums: return []\n",
    "        if len(nums) == 1: return [nums]\n",
    "    \n",
    "        res = []\n",
    "        for i in range(len(nums)):\n",
    "            nums[0], nums[i] = nums[i], nums[0]\n",
    "        \n",
    "            for j in self.permute(nums[1:]):\n",
    "                res.append([nums[0]] + j)\n",
    "                print(i,nums,[nums[0]],j,[nums[0]] + j)\n",
    "            \n",
    "            nums[0], nums[i] = nums[i], nums[0]\n",
    "            print('res',res)\n",
    "        return res"
   ]
  },
  {
   "cell_type": "code",
   "execution_count": 56,
   "metadata": {},
   "outputs": [
    {
     "name": "stdout",
     "output_type": "stream",
     "text": [
      "0 [2, 3] [2] [3] [2, 3]\n",
      "res [[2, 3]]\n",
      "1 [3, 2] [3] [2] [3, 2]\n",
      "res [[2, 3], [3, 2]]\n",
      "0 [1, 2, 3] [1] [2, 3] [1, 2, 3]\n",
      "0 [1, 2, 3] [1] [3, 2] [1, 3, 2]\n",
      "res [[1, 2, 3], [1, 3, 2]]\n",
      "0 [1, 3] [1] [3] [1, 3]\n",
      "res [[1, 3]]\n",
      "1 [3, 1] [3] [1] [3, 1]\n",
      "res [[1, 3], [3, 1]]\n",
      "1 [2, 1, 3] [2] [1, 3] [2, 1, 3]\n",
      "1 [2, 1, 3] [2] [3, 1] [2, 3, 1]\n",
      "res [[1, 2, 3], [1, 3, 2], [2, 1, 3], [2, 3, 1]]\n",
      "0 [2, 1] [2] [1] [2, 1]\n",
      "res [[2, 1]]\n",
      "1 [1, 2] [1] [2] [1, 2]\n",
      "res [[2, 1], [1, 2]]\n",
      "2 [3, 2, 1] [3] [2, 1] [3, 2, 1]\n",
      "2 [3, 2, 1] [3] [1, 2] [3, 1, 2]\n",
      "res [[1, 2, 3], [1, 3, 2], [2, 1, 3], [2, 3, 1], [3, 2, 1], [3, 1, 2]]\n"
     ]
    },
    {
     "data": {
      "text/plain": [
       "[[1, 2, 3], [1, 3, 2], [2, 1, 3], [2, 3, 1], [3, 2, 1], [3, 1, 2]]"
      ]
     },
     "execution_count": 56,
     "metadata": {},
     "output_type": "execute_result"
    }
   ],
   "source": [
    "Instance = Solution()\n",
    "Instance.permute([1,2,3])"
   ]
  },
  {
   "cell_type": "code",
   "execution_count": 44,
   "metadata": {},
   "outputs": [
    {
     "ename": "TypeError",
     "evalue": "can only concatenate list (not \"int\") to list",
     "output_type": "error",
     "traceback": [
      "\u001b[1;31m---------------------------------------------------------------------------\u001b[0m",
      "\u001b[1;31mTypeError\u001b[0m                                 Traceback (most recent call last)",
      "\u001b[1;32m<ipython-input-44-40d7fb3750a9>\u001b[0m in \u001b[0;36m<module>\u001b[1;34m\u001b[0m\n\u001b[1;32m----> 1\u001b[1;33m \u001b[1;33m[\u001b[0m\u001b[1;36m1\u001b[0m\u001b[1;33m]\u001b[0m\u001b[1;33m+\u001b[0m\u001b[1;36m2\u001b[0m\u001b[1;33m\u001b[0m\u001b[1;33m\u001b[0m\u001b[0m\n\u001b[0m",
      "\u001b[1;31mTypeError\u001b[0m: can only concatenate list (not \"int\") to list"
     ]
    }
   ],
   "source": [
    "[1]+2"
   ]
  }
 ],
 "metadata": {
  "kernelspec": {
   "display_name": "Python 3",
   "language": "python",
   "name": "python3"
  },
  "language_info": {
   "codemirror_mode": {
    "name": "ipython",
    "version": 3
   },
   "file_extension": ".py",
   "mimetype": "text/x-python",
   "name": "python",
   "nbconvert_exporter": "python",
   "pygments_lexer": "ipython3",
   "version": "3.7.3"
  }
 },
 "nbformat": 4,
 "nbformat_minor": 2
}
