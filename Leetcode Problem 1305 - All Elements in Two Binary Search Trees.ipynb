{
 "cells": [
  {
   "cell_type": "markdown",
   "metadata": {},
   "source": [
    "Problem Statement.\n",
    "\n",
    "Given two binary search trees root1 and root2, return a list containing all the integers from both trees sorted in ascending order.\n",
    "\n",
    " \n",
    "\n",
    "Example 1:\n",
    "\n",
    "Input: root1 = [2,1,4], root2 = [1,0,3]\n",
    "Output: [0,1,1,2,3,4]\n",
    "\n",
    "Example 2:\n",
    "\n",
    "Input: root1 = [1,null,8], root2 = [8,1]\n",
    "Output: [1,1,8,8]\n",
    "\n",
    " \n",
    "\n",
    "Constraints:\n",
    "\n",
    "    The number of nodes in each tree is in the range [0, 5000].\n",
    "    -10^5 <= Node.val <= 10^5"
   ]
  },
  {
   "cell_type": "markdown",
   "metadata": {},
   "source": [
    "# InOrder Traversal - O(M + N) runtime, O(M + N) space"
   ]
  },
  {
   "cell_type": "code",
   "execution_count": 2,
   "metadata": {},
   "outputs": [],
   "source": [
    "from typing import List\n",
    "\n",
    "# Definition for a binary tree node.\n",
    "# class TreeNode:\n",
    "#     def __init__(self, val=0, left=None, right=None):\n",
    "#         self.val = val\n",
    "#         self.left = left\n",
    "#         self.right = right\n",
    "\n",
    "class Solution:\n",
    "    def getAllElements(self, root1: TreeNode, root2: TreeNode) -> List[int]:\n",
    "        tree1, stack = deque(), []\n",
    "        while root1 or stack:\n",
    "            while root1:\n",
    "                stack.append(root1)\n",
    "                root1 = root1.left\n",
    "                \n",
    "            root1 = stack.pop()\n",
    "            tree1.append(root1.val)\n",
    "            root1 = root1.right\n",
    "            \n",
    "        tree2, stack = deque(), []\n",
    "        while root2 or stack:\n",
    "            while root2:\n",
    "                stack.append(root2)\n",
    "                root2 = root2.left\n",
    "                \n",
    "            root2 = stack.pop()\n",
    "            tree2.append(root2.val)\n",
    "            root2 = root2.right\n",
    "            \n",
    "        res = []\n",
    "        while tree1 and tree2:\n",
    "            if tree1[0] <= tree2[0]:\n",
    "                res.append(tree1.popleft())\n",
    "            else:\n",
    "                res.append(tree2.popleft())\n",
    "\n",
    "        if tree1: return res + list(tree1)\n",
    "        if tree2: return res + list(tree2)"
   ]
  },
  {
   "cell_type": "markdown",
   "metadata": {},
   "source": [
    "# Faster One Pass InOrder Traversal - O(M + N) runtime, O(M + N) space"
   ]
  },
  {
   "cell_type": "code",
   "execution_count": 3,
   "metadata": {},
   "outputs": [],
   "source": [
    "from typing import List\n",
    "\n",
    "# Definition for a binary tree node.\n",
    "# class TreeNode:\n",
    "#     def __init__(self, val=0, left=None, right=None):\n",
    "#         self.val = val\n",
    "#         self.left = left\n",
    "#         self.right = right\n",
    "class Solution:\n",
    "    def getAllElements(self, root1: TreeNode, root2: TreeNode) -> List[int]:\n",
    "        stack1, stack2, output = [], [], []\n",
    "        \n",
    "        while root1 or root2 or stack1 or stack2:\n",
    "            while root1:\n",
    "                stack1.append(root1)\n",
    "                root1 = root1.left\n",
    "            while root2:\n",
    "                stack2.append(root2)\n",
    "                root2 = root2.left\n",
    "\n",
    "            if not stack2 or stack1 and stack1[-1].val <= stack2[-1].val:\n",
    "                root1 = stack1.pop()\n",
    "                output.append(root1.val)\n",
    "                root1 = root1.right\n",
    "            else:\n",
    "                root2 = stack2.pop()\n",
    "                output.append(root2.val)   \n",
    "                root2 = root2.right\n",
    "\n",
    "        return output"
   ]
  }
 ],
 "metadata": {
  "kernelspec": {
   "display_name": "Python 3",
   "language": "python",
   "name": "python3"
  },
  "language_info": {
   "codemirror_mode": {
    "name": "ipython",
    "version": 3
   },
   "file_extension": ".py",
   "mimetype": "text/x-python",
   "name": "python",
   "nbconvert_exporter": "python",
   "pygments_lexer": "ipython3",
   "version": "3.7.3"
  }
 },
 "nbformat": 4,
 "nbformat_minor": 2
}
