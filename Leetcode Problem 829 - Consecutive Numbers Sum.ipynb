{
 "cells": [
  {
   "cell_type": "markdown",
   "metadata": {},
   "source": [
    "Problem Statement.\n",
    "\n",
    "Given a positive integer N, how many ways can we write it as a sum of consecutive positive integers?\n",
    "\n",
    "Example 1:\n",
    "\n",
    "Input: 5\n",
    "Output: 2\n",
    "Explanation: 5 = 5 = 2 + 3\n",
    "\n",
    "Example 2:\n",
    "\n",
    "Input: 9\n",
    "Output: 3\n",
    "Explanation: 9 = 9 = 4 + 5 = 2 + 3 + 4\n",
    "\n",
    "Example 3:\n",
    "\n",
    "Input: 15\n",
    "Output: 4\n",
    "Explanation: 15 = 15 = 8 + 7 = 4 + 5 + 6 = 1 + 2 + 3 + 4 + 5\n",
    "\n",
    "Note: 1 <= N <= 10 ^ 9."
   ]
  },
  {
   "cell_type": "markdown",
   "metadata": {},
   "source": [
    "# Sum of First k Natural Numbers - O(N ^ 0.5) runtime, O(1) space"
   ]
  },
  {
   "cell_type": "code",
   "execution_count": 3,
   "metadata": {},
   "outputs": [],
   "source": [
    "# N = (x + 1) + ... + (x + k)\n",
    "# N = x k + k(k + 1)/2\n",
    "from math import ceil\n",
    "\n",
    "class Solution:\n",
    "    def consecutiveNumbersSum(self, N: int) -> int:\n",
    "        count = 0\n",
    "        # x > 0 --> N/k - (k + 1)/2 > 0\n",
    "        upper_limit = ceil((2 * N + 0.25)**0.5 - 0.5) + 1\n",
    "        for k in range(1, upper_limit):\n",
    "            # x should be integer\n",
    "            if (N - k * (k + 1) // 2) % k == 0:\n",
    "                count += 1\n",
    "        return count"
   ]
  },
  {
   "cell_type": "markdown",
   "metadata": {},
   "source": [
    "# Optimized - Decrease NNN Gradually - O(N ^ 0.5) runtime, O(1) space"
   ]
  },
  {
   "cell_type": "code",
   "execution_count": 5,
   "metadata": {},
   "outputs": [],
   "source": [
    "from math import ceil\n",
    "\n",
    "class Solution:\n",
    "    def consecutiveNumbersSum(self, N: int) -> int:\n",
    "        count = 0\n",
    "        upper_limit = ceil((2 * N + 0.25)**0.5 - 0.5) + 1\n",
    "        for k in range(1, upper_limit):\n",
    "            N -= k\n",
    "            if N % k == 0:\n",
    "                count += 1\n",
    "        return count"
   ]
  },
  {
   "cell_type": "code",
   "execution_count": 6,
   "metadata": {},
   "outputs": [
    {
     "data": {
      "text/plain": [
       "4"
      ]
     },
     "execution_count": 6,
     "metadata": {},
     "output_type": "execute_result"
    }
   ],
   "source": [
    "instance = Solution()\n",
    "instance.consecutiveNumbersSum(15)"
   ]
  }
 ],
 "metadata": {
  "kernelspec": {
   "display_name": "Python 3",
   "language": "python",
   "name": "python3"
  },
  "language_info": {
   "codemirror_mode": {
    "name": "ipython",
    "version": 3
   },
   "file_extension": ".py",
   "mimetype": "text/x-python",
   "name": "python",
   "nbconvert_exporter": "python",
   "pygments_lexer": "ipython3",
   "version": "3.7.3"
  }
 },
 "nbformat": 4,
 "nbformat_minor": 2
}
