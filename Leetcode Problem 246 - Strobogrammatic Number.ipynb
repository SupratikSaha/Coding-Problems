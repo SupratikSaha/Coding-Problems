{
 "cells": [
  {
   "cell_type": "markdown",
   "metadata": {},
   "source": [
    "Problem Statement.\n",
    "\n",
    "Given a string num which represents an integer, return true if num is a strobogrammatic number.\n",
    "\n",
    "A strobogrammatic number is a number that looks the same when rotated 180 degrees (looked at upside down).\n",
    "\n",
    " \n",
    "\n",
    "Example 1:\n",
    "\n",
    "Input: num = \"69\"\n",
    "Output: true\n",
    "\n",
    "Example 2:\n",
    "\n",
    "Input: num = \"88\"\n",
    "Output: true\n",
    "\n",
    "Example 3:\n",
    "\n",
    "Input: num = \"962\"\n",
    "Output: false\n",
    "\n",
    "Example 4:\n",
    "\n",
    "Input: num = \"1\"\n",
    "Output: true\n",
    "\n",
    " \n",
    "\n",
    "Constraints:\n",
    "\n",
    "    1 <= num.length <= 50\n",
    "    num consists of only digits.\n",
    "    num does not contain any leading zeros except for zero itself."
   ]
  },
  {
   "cell_type": "markdown",
   "metadata": {},
   "source": [
    "# Two Pointers - O(N) runtime, O(1) space"
   ]
  },
  {
   "cell_type": "code",
   "execution_count": 1,
   "metadata": {},
   "outputs": [],
   "source": [
    "class Solution:\n",
    "    def isStrobogrammatic(self, num: str) -> bool:\n",
    "        stroboDict = { \"8\": \"8\", \"1\": \"1\", \"0\": \"0\", \"6\": \"9\", \"9\": \"6\"}\n",
    "        \n",
    "        left, right = 0, len(num) - 1\n",
    "        while left <= right:\n",
    "            if num[left] not in stroboDict or stroboDict[num[left]] != num[right]:\n",
    "                return False\n",
    "            \n",
    "            left += 1\n",
    "            right -= 1\n",
    "            \n",
    "        return True"
   ]
  },
  {
   "cell_type": "code",
   "execution_count": 2,
   "metadata": {},
   "outputs": [
    {
     "data": {
      "text/plain": [
       "True"
      ]
     },
     "execution_count": 2,
     "metadata": {},
     "output_type": "execute_result"
    }
   ],
   "source": [
    "instance = Solution()\n",
    "instance.isStrobogrammatic(\"69\")"
   ]
  }
 ],
 "metadata": {
  "kernelspec": {
   "display_name": "Python 3",
   "language": "python",
   "name": "python3"
  },
  "language_info": {
   "codemirror_mode": {
    "name": "ipython",
    "version": 3
   },
   "file_extension": ".py",
   "mimetype": "text/x-python",
   "name": "python",
   "nbconvert_exporter": "python",
   "pygments_lexer": "ipython3",
   "version": "3.7.3"
  }
 },
 "nbformat": 4,
 "nbformat_minor": 2
}
