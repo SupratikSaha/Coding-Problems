{
 "cells": [
  {
   "cell_type": "markdown",
   "metadata": {},
   "source": [
    "Problem Statement.\n",
    "\n",
    "Given an input string s, reverse the order of the words.\n",
    "\n",
    "A word is defined as a sequence of non-space characters. The words in s will be separated by at least one space.\n",
    "\n",
    "Return a string of the words in reverse order concatenated by a single space.\n",
    "\n",
    "Note that s may contain leading or trailing spaces or multiple spaces between two words. The returned string should only have a single space separating the words. Do not include any extra spaces.\n",
    "\n",
    " \n",
    "\n",
    "Example 1:\n",
    "\n",
    "Input: s = \"the sky is blue\"\n",
    "Output: \"blue is sky the\"\n",
    "\n",
    "Example 2:\n",
    "\n",
    "Input: s = \"  hello world  \"\n",
    "Output: \"world hello\"\n",
    "Explanation: Your reversed string should not contain leading or trailing spaces.\n",
    "\n",
    "Example 3:\n",
    "\n",
    "Input: s = \"a good   example\"\n",
    "Output: \"example good a\"\n",
    "Explanation: You need to reduce multiple spaces between two words to a single space in the reversed string.\n",
    "\n",
    "Example 4:\n",
    "\n",
    "Input: s = \"  Bob    Loves  Alice   \"\n",
    "Output: \"Alice Loves Bob\"\n",
    "\n",
    "Example 5:\n",
    "\n",
    "Input: s = \"Alice does not even like bob\"\n",
    "Output: \"bob like even not does Alice\"\n",
    "\n",
    " \n",
    "\n",
    "Constraints:\n",
    "\n",
    "    1 <= s.length <= 104\n",
    "    s contains English letters (upper-case and lower-case), digits, and spaces ' '.\n",
    "    There is at least one word in s.\n",
    "\n",
    " \n",
    "\n",
    "Follow-up: If the string data type is mutable in your language, can you solve it in-place with O(1) extra space?"
   ]
  },
  {
   "cell_type": "markdown",
   "metadata": {},
   "source": [
    "# Using python functions strip(), split() and [::-1] - O(n) runtime O(1) space"
   ]
  },
  {
   "cell_type": "code",
   "execution_count": 1,
   "metadata": {},
   "outputs": [],
   "source": [
    "class Solution:\n",
    "    def reverseWords(self, s: str) -> str:\n",
    "        return ' '.join(s.strip().split()[::-1])"
   ]
  },
  {
   "cell_type": "markdown",
   "metadata": {},
   "source": [
    "# Without using python functions strip(), split() and [::-1] - O(n) runtime O(n) space"
   ]
  },
  {
   "cell_type": "code",
   "execution_count": 2,
   "metadata": {},
   "outputs": [],
   "source": [
    "class Solution:\n",
    "    def reverseWords(self, s: str) -> str:\n",
    "        length = len(s)\n",
    "        result = ''\n",
    "        for ctr in range(length - 1, -1, -1):\n",
    "            if s[ctr] == ' ':\n",
    "                length = ctr\n",
    "            elif ctr == 0 or s[ctr - 1] == ' ':\n",
    "                if len(result) != 0:\n",
    "                    result += ' '\n",
    "                result = result + s[ctr : length]\n",
    "        return result"
   ]
  },
  {
   "cell_type": "markdown",
   "metadata": {},
   "source": [
    "# Deque - O(n) runtime, O(n) space"
   ]
  },
  {
   "cell_type": "code",
   "execution_count": 3,
   "metadata": {},
   "outputs": [],
   "source": [
    "from collections import deque\n",
    "\n",
    "class Solution:\n",
    "    def reverseWords(self, s: str) -> str:\n",
    "        left, right = 0, len(s) - 1\n",
    "        # remove leading spaces\n",
    "        while left <= right and s[left] == ' ':\n",
    "            left += 1\n",
    "        \n",
    "        # remove trailing spaces\n",
    "        while left <= right and s[right] == ' ':\n",
    "            right -= 1\n",
    "            \n",
    "        d, word = deque(), []\n",
    "        # push word by word in front of deque\n",
    "        while left <= right:\n",
    "            if s[left] == ' ' and word:\n",
    "                d.appendleft(''.join(word))\n",
    "                word = []\n",
    "            elif s[left] != ' ':\n",
    "                word.append(s[left])\n",
    "            left += 1\n",
    "        d.appendleft(''.join(word))\n",
    "        \n",
    "        return ' '.join(d)"
   ]
  },
  {
   "cell_type": "code",
   "execution_count": 4,
   "metadata": {},
   "outputs": [
    {
     "data": {
      "text/plain": [
       "'example 11 good a!'"
      ]
     },
     "execution_count": 4,
     "metadata": {},
     "output_type": "execute_result"
    }
   ],
   "source": [
    "Instance = Solution()\n",
    "Instance.reverseWords(' a! good 11   example ')"
   ]
  }
 ],
 "metadata": {
  "kernelspec": {
   "display_name": "Python 3",
   "language": "python",
   "name": "python3"
  },
  "language_info": {
   "codemirror_mode": {
    "name": "ipython",
    "version": 3
   },
   "file_extension": ".py",
   "mimetype": "text/x-python",
   "name": "python",
   "nbconvert_exporter": "python",
   "pygments_lexer": "ipython3",
   "version": "3.7.3"
  }
 },
 "nbformat": 4,
 "nbformat_minor": 2
}
