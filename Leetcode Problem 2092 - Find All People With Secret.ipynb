{
 "cells": [
  {
   "cell_type": "markdown",
   "metadata": {},
   "source": [
    "Problem Statement.\n",
    "\n",
    "You are given an integer n indicating there are n people numbered from 0 to n - 1. You are also given a 0-indexed 2D integer array meetings where meetings[i] = [xi, yi, timei] indicates that person xi and person yi have a meeting at timei. A person may attend multiple meetings at the same time. Finally, you are given an integer firstPerson.\n",
    "\n",
    "Person 0 has a secret and initially shares the secret with a person firstPerson at time 0. This secret is then shared every time a meeting takes place with a person that has the secret. More formally, for every meeting, if a person xi has the secret at timei, then they will share the secret with person yi, and vice versa.\n",
    "\n",
    "The secrets are shared instantaneously. That is, a person may receive the secret and share it with people in other meetings within the same time frame.\n",
    "\n",
    "Return a list of all the people that have the secret after all the meetings have taken place. You may return the answer in any order.\n",
    "\n",
    " \n",
    "\n",
    "Example 1:\n",
    "\n",
    "Input: n = 6, meetings = [[1,2,5],[2,3,8],[1,5,10]], firstPerson = 1\n",
    "Output: [0,1,2,3,5]\n",
    "Explanation:\n",
    "At time 0, person 0 shares the secret with person 1.\n",
    "At time 5, person 1 shares the secret with person 2.\n",
    "At time 8, person 2 shares the secret with person 3.\n",
    "At time 10, person 1 shares the secret with person 5.​​​​\n",
    "Thus, people 0, 1, 2, 3, and 5 know the secret after all the meetings.\n",
    "\n",
    "Example 2:\n",
    "\n",
    "Input: n = 4, meetings = [[3,1,3],[1,2,2],[0,3,3]], firstPerson = 3\n",
    "Output: [0,1,3]\n",
    "Explanation:\n",
    "At time 0, person 0 shares the secret with person 3.\n",
    "At time 2, neither person 1 nor person 2 know the secret.\n",
    "At time 3, person 3 shares the secret with person 0 and person 1.\n",
    "Thus, people 0, 1, and 3 know the secret after all the meetings.\n",
    "\n",
    "Example 3:\n",
    "\n",
    "Input: n = 5, meetings = [[3,4,2],[1,2,1],[2,3,1]], firstPerson = 1\n",
    "Output: [0,1,2,3,4]\n",
    "Explanation:\n",
    "At time 0, person 0 shares the secret with person 1.\n",
    "At time 1, person 1 shares the secret with person 2, and person 2 shares the secret with person 3.\n",
    "Note that person 2 can share the secret at the same time as receiving it.\n",
    "At time 2, person 3 shares the secret with person 4.\n",
    "Thus, people 0, 1, 2, 3, and 4 know the secret after all the meetings.\n",
    "\n",
    " \n",
    "\n",
    "Constraints:\n",
    "\n",
    "    2 <= n <= 10^5\n",
    "    1 <= meetings.length <= 10^5\n",
    "    meetings[i].length == 3\n",
    "    0 <= xi, yi <= n - 1\n",
    "    xi != yi\n",
    "    1 <= timei <= 10^5\n",
    "    1 <= firstPerson <= n - 1"
   ]
  },
  {
   "cell_type": "markdown",
   "metadata": {},
   "source": [
    "# BFS by Group and Sort - O(M Log M) runtime, O(M + N) space, where M is the number of meetings"
   ]
  },
  {
   "cell_type": "code",
   "execution_count": 1,
   "metadata": {},
   "outputs": [],
   "source": [
    "from typing import List\n",
    "from itertools import groupby\n",
    "from collections import defaultdict, deque\n",
    "\n",
    "class Solution:\n",
    "    def findAllPeople(self, n: int, meetings: List[List[int]], firstPerson: int) -> List[int]:\n",
    "        can = {0, firstPerson}\n",
    "        for _, grp in groupby(sorted(meetings, key=lambda x: x[2]), key=lambda x: x[2]): \n",
    "            queue = set()\n",
    "            graph = defaultdict(list)\n",
    "            for x, y, _ in grp: \n",
    "                graph[x].append(y)\n",
    "                graph[y].append(x)\n",
    "                if x in can: queue.add(x)\n",
    "                if y in can: queue.add(y)\n",
    "                    \n",
    "            queue = deque(queue)\n",
    "            while queue: \n",
    "                x = queue.popleft()\n",
    "                for y in graph[x]: \n",
    "                    if y not in can: \n",
    "                        can.add(y)\n",
    "                        queue.append(y)\n",
    "        return can"
   ]
  },
  {
   "cell_type": "code",
   "execution_count": 2,
   "metadata": {},
   "outputs": [
    {
     "data": {
      "text/plain": [
       "{0, 1, 2, 3, 4}"
      ]
     },
     "execution_count": 2,
     "metadata": {},
     "output_type": "execute_result"
    }
   ],
   "source": [
    "instance = Solution()\n",
    "instance.findAllPeople(5, [[3,4,2],[1,2,1],[2,3,1]], 1)"
   ]
  }
 ],
 "metadata": {
  "kernelspec": {
   "display_name": "Python 3",
   "language": "python",
   "name": "python3"
  },
  "language_info": {
   "codemirror_mode": {
    "name": "ipython",
    "version": 3
   },
   "file_extension": ".py",
   "mimetype": "text/x-python",
   "name": "python",
   "nbconvert_exporter": "python",
   "pygments_lexer": "ipython3",
   "version": "3.7.3"
  }
 },
 "nbformat": 4,
 "nbformat_minor": 2
}
