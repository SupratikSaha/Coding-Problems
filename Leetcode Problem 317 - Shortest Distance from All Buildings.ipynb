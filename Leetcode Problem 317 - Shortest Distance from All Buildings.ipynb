{
 "cells": [
  {
   "cell_type": "markdown",
   "metadata": {},
   "source": [
    "Problem Statement.\n",
    "\n",
    "You are given an m x n grid grid of values 0, 1, or 2, where:\n",
    "\n",
    "    each 0 marks an empty land that you can pass by freely,\n",
    "    each 1 marks a building that you cannot pass through, and\n",
    "    each 2 marks an obstacle that you cannot pass through.\n",
    "\n",
    "You want to build a house on an empty land that reaches all buildings in the shortest total travel distance. You can only move up, down, left, and right.\n",
    "\n",
    "Return the shortest travel distance for such a house. If it is not possible to build such a house according to the above rules, return -1.\n",
    "\n",
    "The total travel distance is the sum of the distances between the houses of the friends and the meeting point.\n",
    "\n",
    "The distance is calculated using Manhattan Distance, where distance(p1, p2) = |p2.x - p1.x| + |p2.y - p1.y|.\n",
    "\n",
    " \n",
    "\n",
    "Example 1:\n",
    "\n",
    "Input: grid = [[1,0,2,0,1],[0,0,0,0,0],[0,0,1,0,0]]\n",
    "Output: 7\n",
    "Explanation: Given three buildings at (0,0), (0,4), (2,2), and an obstacle at (0,2).\n",
    "The point (1,2) is an ideal empty land to build a house, as the total travel distance of 3+3+1=7 is minimal.\n",
    "So return 7.\n",
    "\n",
    "Example 2:\n",
    "\n",
    "Input: grid = [[1,0]]\n",
    "Output: 1\n",
    "\n",
    "Example 3:\n",
    "\n",
    "Input: grid = [[1]]\n",
    "Output: -1\n",
    "\n",
    " \n",
    "\n",
    "Constraints:\n",
    "\n",
    "    m == grid.length\n",
    "    n == grid[i].length\n",
    "    1 <= m, n <= 100\n",
    "    grid[i][j] is either 0, 1, or 2.\n",
    "    There will be at least one building in the grid."
   ]
  },
  {
   "cell_type": "markdown",
   "metadata": {},
   "source": [
    "# BFS - O(N ^ 2) runtime, O(N ^ 2) space, where N is the number of cells"
   ]
  },
  {
   "cell_type": "code",
   "execution_count": 1,
   "metadata": {},
   "outputs": [],
   "source": [
    "from typing import List\n",
    "from collections import deque\n",
    "\n",
    "class Solution:\n",
    "    def shortestDistance(self, grid: List[List[int]]) -> int:\n",
    "        m, n = len(grid), len(grid[0])\n",
    "        \n",
    "        def bfs(r: int, c: int) -> int:\n",
    "            visited = set()\n",
    "            distance, count = 0, 0\n",
    "            \n",
    "            queue = deque([(r, c, 0)])\n",
    "            visited.add((r,c))\n",
    "            \n",
    "            while queue:\n",
    "                r, c, d = queue.popleft()\n",
    "                \n",
    "                for r1, c1 in [[r+1, c], [r-1, c], [r, c+1], [r, c-1]]:\n",
    "                    if 0<= r1 < m and 0<= c1 < n and (r1, c1) not in visited:\n",
    "                        visited.add((r1, c1))\n",
    "                        if grid[r1][c1] == 0: queue.append((r1, c1, d+1))\n",
    "                        if grid[r1][c1] == 1: \n",
    "                            distance += d+1\n",
    "                            count += 1\n",
    "                                     \n",
    "            return distance if count == countBuildings else float('inf')\n",
    "        \n",
    "        countBuildings = 0\n",
    "        for i in range(m):\n",
    "            for j in range(n):\n",
    "                if grid[i][j] == 1: countBuildings += 1\n",
    "            \n",
    "        shortestDistance = float('inf')\n",
    "        for i in range(m):\n",
    "            for j in range(n):\n",
    "                if grid[i][j] == 0:\n",
    "                    shortestDistance = min(shortestDistance, bfs(i, j))\n",
    "                    \n",
    "        return -1 if shortestDistance == float('inf') else shortestDistance"
   ]
  },
  {
   "cell_type": "markdown",
   "metadata": {},
   "source": [
    "# Faster BFS - O(N ^ 2) runtime, O(N ^ 2) space, where N is the number of cells"
   ]
  },
  {
   "cell_type": "code",
   "execution_count": 3,
   "metadata": {},
   "outputs": [],
   "source": [
    "from typing import List\n",
    "from collections import deque\n",
    "\n",
    "class Solution:\n",
    "    def shortestDistance(self, grid: List[List[int]]) -> int:\n",
    "        m, n = len(grid), len(grid[0])\n",
    "        memo = [[(0, 0)] * n for _ in range(m)]\n",
    "        shortestDistance = float('inf')\n",
    "        \n",
    "        def bfs(r: int, c: int) -> int:\n",
    "            nonlocal shortestDistance\n",
    "            visited = set()\n",
    "            queue = deque([(r, c, 0)])\n",
    "            \n",
    "            while queue:\n",
    "                r, c, d = queue.popleft()\n",
    "                \n",
    "                for r1, c1 in [[r+1, c], [r-1, c], [r, c+1], [r, c-1]]:\n",
    "                    if 0<= r1 < m and 0<= c1 < n and grid[r1][c1] == 0 and (r1, c1) not in visited:\n",
    "                        visited.add((r1, c1))\n",
    "                        queue.append((r1, c1, d+1))\n",
    "                        memo[r1][c1] = (memo[r1][c1][0] + d+1, memo[r1][c1][1] + 1)\n",
    "                        if memo[r1][c1][1] == countBuildings: \n",
    "                            shortestDistance = min(shortestDistance, memo[r1][c1][0])\n",
    "        \n",
    "        countBuildings = 0\n",
    "        for i in range(m):\n",
    "            for j in range(n):\n",
    "                if grid[i][j] == 1: countBuildings += 1\n",
    "            \n",
    "        for i in range(m):\n",
    "            for j in range(n):\n",
    "                if grid[i][j] == 1: bfs(i, j)\n",
    "                    \n",
    "        return -1 if shortestDistance == float('inf') else shortestDistance"
   ]
  },
  {
   "cell_type": "code",
   "execution_count": 4,
   "metadata": {},
   "outputs": [
    {
     "data": {
      "text/plain": [
       "7"
      ]
     },
     "execution_count": 4,
     "metadata": {},
     "output_type": "execute_result"
    }
   ],
   "source": [
    "instance = Solution()\n",
    "instance.shortestDistance([[1,0,2,0,1],[0,0,0,0,0],[0,0,1,0,0]])"
   ]
  }
 ],
 "metadata": {
  "kernelspec": {
   "display_name": "Python 3",
   "language": "python",
   "name": "python3"
  },
  "language_info": {
   "codemirror_mode": {
    "name": "ipython",
    "version": 3
   },
   "file_extension": ".py",
   "mimetype": "text/x-python",
   "name": "python",
   "nbconvert_exporter": "python",
   "pygments_lexer": "ipython3",
   "version": "3.7.3"
  }
 },
 "nbformat": 4,
 "nbformat_minor": 2
}
