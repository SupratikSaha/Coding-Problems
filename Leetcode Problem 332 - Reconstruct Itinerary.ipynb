{
 "cells": [
  {
   "cell_type": "markdown",
   "metadata": {},
   "source": [
    "Problem Statement.\n",
    "\n",
    "You are given a list of airline tickets where tickets[i] = [fromi, toi] represent the departure and the arrival airports of one flight. Reconstruct the itinerary in order and return it.\n",
    "\n",
    "All of the tickets belong to a man who departs from \"JFK\", thus, the itinerary must begin with \"JFK\". If there are multiple valid itineraries, you should return the itinerary that has the smallest lexical order when read as a single string.\n",
    "\n",
    "    For example, the itinerary [\"JFK\", \"LGA\"] has a smaller lexical order than [\"JFK\", \"LGB\"].\n",
    "\n",
    "You may assume all tickets form at least one valid itinerary. You must use all the tickets once and only once.\n",
    "\n",
    " \n",
    "\n",
    "Example 1:\n",
    "\n",
    "Input: tickets = [[\"MUC\",\"LHR\"],[\"JFK\",\"MUC\"],[\"SFO\",\"SJC\"],[\"LHR\",\"SFO\"]]\n",
    "Output: [\"JFK\",\"MUC\",\"LHR\",\"SFO\",\"SJC\"]\n",
    "\n",
    "Example 2:\n",
    "\n",
    "Input: tickets = [[\"JFK\",\"SFO\"],[\"JFK\",\"ATL\"],[\"SFO\",\"ATL\"],[\"ATL\",\"JFK\"],[\"ATL\",\"SFO\"]]\n",
    "Output: [\"JFK\",\"ATL\",\"JFK\",\"SFO\",\"ATL\",\"SFO\"]\n",
    "Explanation: Another possible reconstruction is [\"JFK\",\"SFO\",\"ATL\",\"JFK\",\"ATL\",\"SFO\"] but it is larger in lexical order.\n",
    "\n",
    " \n",
    "\n",
    "Constraints:\n",
    "\n",
    "    1 <= tickets.length <= 300\n",
    "    tickets[i].length == 2\n",
    "    fromi.length == 3\n",
    "    toi.length == 3\n",
    "    fromi and toi consist of uppercase English letters.\n",
    "    fromi != toi"
   ]
  },
  {
   "cell_type": "markdown",
   "metadata": {},
   "source": [
    "# Backtracking + Heap -  O(E^d) where E is the number of total flights and d is the maximum number of flights from an airport."
   ]
  },
  {
   "cell_type": "code",
   "execution_count": 1,
   "metadata": {},
   "outputs": [],
   "source": [
    "from typing import List\n",
    "from collections import defaultdict\n",
    "\n",
    "class Solution:\n",
    "    def findItinerary(self, tickets: List[List[str]]) -> List[str]:\n",
    "        graph = defaultdict(list)\n",
    "        itinLength = len(tickets)\n",
    "        for source, dest in tickets:\n",
    "            graph[source].append(dest)\n",
    "            \n",
    "        result = []\n",
    "        \n",
    "        def getItinerary(g, currList, currLen, visited):\n",
    "            if currLen == itinLength:\n",
    "                heappush(result, currList)\n",
    "                \n",
    "            source = currList[-1]\n",
    "            if not g[source]: return\n",
    "            \n",
    "            for idx, dest in enumerate(g[source]):\n",
    "                if (source, dest, idx) not in visited:\n",
    "                    getItinerary(graph, currList + [dest], currLen + 1, visited.union({(source, dest, idx)}))\n",
    "                   \n",
    "        \n",
    "        getItinerary(graph, ['JFK'], 0, set())\n",
    "        \n",
    "        return heappop(result)"
   ]
  },
  {
   "cell_type": "markdown",
   "metadata": {},
   "source": [
    "# Backtracking + Sort -  O(E^d) where E is the number of total flights and d is the maximum number of flights from an airport."
   ]
  },
  {
   "cell_type": "code",
   "execution_count": 2,
   "metadata": {},
   "outputs": [],
   "source": [
    "from typing import List\n",
    "from collections import defaultdict\n",
    "\n",
    "class Solution:\n",
    "    def findItinerary(self, tickets: List[List[str]]) -> List[str]:\n",
    "        self.flightMap = defaultdict(list)\n",
    "\n",
    "        for origin, dest in tickets:\n",
    "            self.flightMap[origin].append(dest)\n",
    "\n",
    "        self.visitBitmap = {}\n",
    "\n",
    "        # sort the itinerary based on the lexical order\n",
    "        for origin, itinerary in self.flightMap.items():\n",
    "        # Note that we could have multiple identical flights, i.e. same origin and destination.\n",
    "            itinerary.sort()\n",
    "            self.visitBitmap[origin] = [False]*len(itinerary)\n",
    "\n",
    "        self.flights = len(tickets)\n",
    "        self.result = []\n",
    "        route = ['JFK']\n",
    "        self.backtracking('JFK', route)\n",
    "\n",
    "        return self.result\n",
    "\n",
    "\n",
    "    def backtracking(self, origin, route):\n",
    "        if len(route) == self.flights + 1:\n",
    "            self.result = route\n",
    "            return True\n",
    "\n",
    "        for i, nextDest in enumerate(self.flightMap[origin]):\n",
    "            if not self.visitBitmap[origin][i]:\n",
    "                # mark the visit before the next recursion\n",
    "                self.visitBitmap[origin][i] = True\n",
    "                ret = self.backtracking(nextDest, route + [nextDest])\n",
    "                self.visitBitmap[origin][i] = False\n",
    "                if ret:\n",
    "                    return True\n",
    "\n",
    "        return False"
   ]
  },
  {
   "cell_type": "markdown",
   "metadata": {},
   "source": [
    "# Postorder DFS - O(E log E/V) runtime, O(V + E) where E is the number of edges (flights) in the input."
   ]
  },
  {
   "cell_type": "code",
   "execution_count": 3,
   "metadata": {},
   "outputs": [],
   "source": [
    "from typing import List\n",
    "from collections import defaultdict\n",
    "\n",
    "class Solution:\n",
    "    def findItinerary(self, tickets: List[List[str]]) -> List[str]:\n",
    "        self.flightMap = defaultdict(list)\n",
    "\n",
    "        for origin, dest in tickets:\n",
    "            self.flightMap[origin].append(dest)\n",
    "\n",
    "        # sort the itinerary based on the lexical order\n",
    "        for origin, itinerary in self.flightMap.items():\n",
    "        # Note that we could have multiple identical flights, i.e. same origin and destination.\n",
    "            itinerary.sort(reverse=True)\n",
    "\n",
    "        self.result = []\n",
    "        self.DFS('JFK')\n",
    "\n",
    "        # reconstruct the route backwards\n",
    "        return self.result[::-1]\n",
    "\n",
    "    def DFS(self, origin):\n",
    "        destList = self.flightMap[origin]\n",
    "        while destList:\n",
    "            #while we visit the edge, we trim it off from graph.\n",
    "            nextDest = destList.pop()\n",
    "            self.DFS(nextDest)\n",
    "        self.result.append(origin)"
   ]
  },
  {
   "cell_type": "markdown",
   "metadata": {},
   "source": [
    "# Simpler Postorder DFS - O(E log E) runtime, O(V + E) where E is the number of edges (flights) in the input."
   ]
  },
  {
   "cell_type": "code",
   "execution_count": 4,
   "metadata": {},
   "outputs": [],
   "source": [
    "from typing import List\n",
    "from collections import defaultdict\n",
    "\n",
    "class Solution:\n",
    "    def findItinerary(self, tickets: List[List[str]]) -> List[str]:\n",
    "        ticketsDict = defaultdict(list)\n",
    "        \n",
    "        for s, d in tickets:\n",
    "            ticketsDict[s].append(d)\n",
    "            \n",
    "        for s in ticketsDict:\n",
    "            ticketsDict[s] = sorted(ticketsDict[s], reverse=True)\n",
    "            \n",
    "        def dfs(s):\n",
    "            while ticketsDict[s]:\n",
    "                d = ticketsDict[s].pop()\n",
    "                dfs(d)\n",
    "            result.append(s)\n",
    "            \n",
    "        result = []\n",
    "        dfs('JFK')\n",
    "        \n",
    "        return result[::-1]"
   ]
  },
  {
   "cell_type": "code",
   "execution_count": 5,
   "metadata": {},
   "outputs": [
    {
     "data": {
      "text/plain": [
       "['JFK', 'MUC', 'LHR', 'SFO', 'SJC']"
      ]
     },
     "execution_count": 5,
     "metadata": {},
     "output_type": "execute_result"
    }
   ],
   "source": [
    "instance = Solution()\n",
    "instance.findItinerary([[\"MUC\",\"LHR\"],[\"JFK\",\"MUC\"],[\"SFO\",\"SJC\"],[\"LHR\",\"SFO\"]])"
   ]
  }
 ],
 "metadata": {
  "kernelspec": {
   "display_name": "Python 3",
   "language": "python",
   "name": "python3"
  },
  "language_info": {
   "codemirror_mode": {
    "name": "ipython",
    "version": 3
   },
   "file_extension": ".py",
   "mimetype": "text/x-python",
   "name": "python",
   "nbconvert_exporter": "python",
   "pygments_lexer": "ipython3",
   "version": "3.7.3"
  }
 },
 "nbformat": 4,
 "nbformat_minor": 2
}
