{
 "cells": [
  {
   "cell_type": "markdown",
   "metadata": {},
   "source": [
    "Problem Statement. <br/>\n",
    "\n",
    "Given an input string (s) and a pattern (p), implement wildcard pattern matching with support for '?' and '*' where: <br/>\n",
    "\n",
    "    '?' Matches any single character. <br/>\n",
    "    '*' Matches any sequence of characters (including the empty sequence). <br/>\n",
    "\n",
    "The matching should cover the entire input string (not partial). <br/>\n",
    "\n",
    "Example 1: <br/>\n",
    "Input: s = \"aa\", p = \"a\" <br/>\n",
    "Output: false <br/>\n",
    "Explanation: \"a\" does not match the entire string \"aa\". <br/>\n",
    "\n",
    "Example 2: <br/>\n",
    "Input: s = \"aa\", p = \"*\" <br/>\n",
    "Output: true <br/>\n",
    "Explanation: '*' matches any sequence. <br/>\n",
    "\n",
    "Example 3: <br/>\n",
    "Input: s = \"cb\", p = \"?a\" <br/>\n",
    "Output: false <br/>\n",
    "Explanation: '?' matches 'c', but the second letter is 'a', which does not match 'b'. <br/>\n",
    "\n",
    "Example 4: <br/>\n",
    "Input: s = \"adceb\", p = \"*a*b\" <br/>\n",
    "Output: true <br/>\n",
    "Explanation: The first '*' matches the empty sequence, while the second '*' matches the substring \"dce\". <br/>\n",
    "\n",
    "Example 5: <br/>\n",
    "Input: s = \"acdcb\", p = \"a*c?b\" <br/>\n",
    "Output: false <br/>\n",
    "\n",
    "Constraints: <br/>\n",
    "\n",
    "    0 <= s.length, p.length <= 2000 <br/>\n",
    "    s contains only lowercase English letters. <br/>\n",
    "    p contains only lowercase English letters, '?' or '*'."
   ]
  },
  {
   "cell_type": "markdown",
   "metadata": {},
   "source": [
    "# Top Down DP Time Limit Exceded - O(2 ^ min⁡(S, P/2)) runtime, O(2 ^ min⁡(S, P/2)) space"
   ]
  },
  {
   "cell_type": "code",
   "execution_count": 1,
   "metadata": {},
   "outputs": [],
   "source": [
    "class Solution:\n",
    "    def isMatch(self, s: str, p: str) -> bool:\n",
    "        p = self.remove_duplicate_stars(p)\n",
    "        return self.helper(s, p)\n",
    "\n",
    "    def remove_duplicate_stars(self, p: str) -> str:\n",
    "        if p == '':\n",
    "            return p\n",
    "        p1 = [p[0],]\n",
    "        for x in p[1:]:\n",
    "            if p1[-1] != '*' or p1[-1] == '*' and x != '*':\n",
    "                p1.append(x)\n",
    "        return ''.join(p1) \n",
    "        \n",
    "    def helper(self, s: str, p: str) -> bool:\n",
    "\n",
    "        if p == s or p == '*':\n",
    "            return True\n",
    "        elif p == '' or s == '':\n",
    "            return False\n",
    "        elif p[0] == s[0] or p[0] == '?':\n",
    "            return self.helper(s[1:], p[1:])\n",
    "        elif p[0] == '*':\n",
    "            return self.helper(s, p[1:]) or self.helper(s[1:], p)\n",
    "\n",
    "        return False"
   ]
  },
  {
   "cell_type": "markdown",
   "metadata": {},
   "source": [
    "# Top Down DP with memoization -  O(2 ^ min⁡(S, P/2) ) runtime, O(2 ^ min⁡(S, P/2) ) space"
   ]
  },
  {
   "cell_type": "code",
   "execution_count": 4,
   "metadata": {},
   "outputs": [],
   "source": [
    "class Solution:\n",
    "    def isMatch(self, s: str, p: str) -> bool:\n",
    "        p = self.remove_duplicate_stars(p)\n",
    "        # memoization hashmap to be used during the recursion\n",
    "        return self.helper(s, 0, p, 0, {})\n",
    "\n",
    "    def remove_duplicate_stars(self, p: str) -> str:\n",
    "        if p == '':\n",
    "            return p\n",
    "        p1 = [p[0],]\n",
    "        for x in p[1:]:\n",
    "            if p1[-1] != '*' or p1[-1] == '*' and x != '*':\n",
    "                p1.append(x)\n",
    "        return ''.join(p1) \n",
    "        \n",
    "    def helper(self, s, s_pos, p, p_pos, dp):\n",
    "\n",
    "        key = (s_pos, p_pos)\n",
    "        if key not in dp:\n",
    "\n",
    "            if p_pos == len(p):\n",
    "                dp[key] = (s_pos == len(s))\n",
    "\n",
    "            elif s_pos == len(s):\n",
    "                dp[key] = p[p_pos] == \"*\" and self.helper(s, s_pos, p, p_pos + 1, dp)\n",
    "\n",
    "            elif p[p_pos] == \"?\" or p[p_pos] == s[s_pos]:\n",
    "                dp[key] = self.helper(s, s_pos + 1, p, p_pos + 1, dp)\n",
    "\n",
    "            elif p[p_pos] == \"*\":\n",
    "                dp[key] = self.helper(s, s_pos, p, p_pos + 1, dp) or self.helper(s, s_pos + 1, p, p_pos, dp)\n",
    "\n",
    "            else:\n",
    "                dp[key] = False\n",
    "\n",
    "        return dp[key]"
   ]
  },
  {
   "cell_type": "markdown",
   "metadata": {},
   "source": [
    "# Bottom Up DP with memoization - O(S * P) runtime, O(S * P) space"
   ]
  },
  {
   "cell_type": "code",
   "execution_count": 6,
   "metadata": {},
   "outputs": [],
   "source": [
    "class Solution:\n",
    "    def isMatch(self, s: str, p: str) -> bool:\n",
    "        s = '_' + s\n",
    "        p = '_' + p\n",
    "        m, n = len(s), len(p)\n",
    "\n",
    "        dp = [[0 for _ in range(n + 1)] for _ in range(m + 1)]\n",
    "        dp[0][0] = 1\n",
    "        \n",
    "        for i in range(1, m+1):\n",
    "            for j in range(1, n+1):\n",
    "                if s[i-1] == p[j-1] or p[j-1] == '?':\n",
    "                    dp[i][j] = dp[i-1][j-1]\n",
    "\n",
    "                elif p[j-1] == '*':\n",
    "                    dp[i][j] = dp[i-1][j] or dp[i][j-1]\n",
    "\n",
    "        return dp[-1][-1]"
   ]
  },
  {
   "cell_type": "markdown",
   "metadata": {},
   "source": [
    "# Backtracking - O(min(S, P)) runtime, O(1) space"
   ]
  },
  {
   "cell_type": "code",
   "execution_count": 8,
   "metadata": {},
   "outputs": [],
   "source": [
    "class Solution:\n",
    "    def isMatch(self, s: str, p: str) -> bool:\n",
    "        s_len, p_len = len(s), len(p)\n",
    "        s_idx = p_idx = 0\n",
    "        star_idx = s_tmp_idx = -1\n",
    " \n",
    "        while s_idx < s_len:\n",
    "            # If the pattern cahracter = string character\n",
    "            # or pattern character = '?'\n",
    "            if p_idx < p_len and p[p_idx] in ['?', s[s_idx]]:\n",
    "                s_idx += 1\n",
    "                p_idx += 1\n",
    "            # If pattern character = '*'\n",
    "            elif p_idx < p_len and p[p_idx] == '*':\n",
    "                # Check the situation\n",
    "                # when '*' matches no characters\n",
    "                star_idx = p_idx\n",
    "                s_tmp_idx = s_idx\n",
    "                p_idx += 1\n",
    "            # If pattern character != string character\n",
    "            # or pattern is used up\n",
    "            # and there was no '*' character in pattern \n",
    "            elif star_idx == -1:\n",
    "                return False\n",
    "            # If pattern character != string character\n",
    "            # or pattern is used up\n",
    "            # and there was '*' character in pattern before\n",
    "            else:\n",
    "                # Backtrack: check the situation\n",
    "                # when '*' matches one more character\n",
    "                p_idx = star_idx + 1\n",
    "                s_tmp_idx += 1\n",
    "                s_idx = s_tmp_idx\n",
    "        \n",
    "        # The remaining characters in the pattern should all be '*' characters\n",
    "        return all(x == '*' for x in p[p_idx:])"
   ]
  },
  {
   "cell_type": "code",
   "execution_count": 9,
   "metadata": {},
   "outputs": [
    {
     "data": {
      "text/plain": [
       "True"
      ]
     },
     "execution_count": 9,
     "metadata": {},
     "output_type": "execute_result"
    }
   ],
   "source": [
    "instance = Solution()\n",
    "instance.isMatch(\"acdcb\", \"a*cb\")"
   ]
  }
 ],
 "metadata": {
  "kernelspec": {
   "display_name": "Python 3",
   "language": "python",
   "name": "python3"
  },
  "language_info": {
   "codemirror_mode": {
    "name": "ipython",
    "version": 3
   },
   "file_extension": ".py",
   "mimetype": "text/x-python",
   "name": "python",
   "nbconvert_exporter": "python",
   "pygments_lexer": "ipython3",
   "version": "3.7.3"
  }
 },
 "nbformat": 4,
 "nbformat_minor": 2
}
