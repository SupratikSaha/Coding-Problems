{
 "cells": [
  {
   "cell_type": "markdown",
   "metadata": {},
   "source": [
    "Problem Statement. <br/>\n",
    "\n",
    "To some string S, we will perform some replacement operations that replace groups of letters with new ones (not necessarily the same size). <br/>\n",
    "Each replacement operation has 3 parameters: a starting index i, a source word x and a target word y.  The rule is that if x starts at position i in the original string S, then we will replace that occurrence of x with y.  If not, we do nothing. <br/>\n",
    "For example, if we have S = \"abcd\" and we have some replacement operation i = 2, x = \"cd\", y = \"ffff\", then because \"cd\" starts at position 2 in the original string S, we will replace it with \"ffff\". <br/>\n",
    "Using another example on S = \"abcd\", if we have both the replacement operation i = 0, x = \"ab\", y = \"eee\", as well as another replacement operation i = 2, x = \"ec\", y = \"ffff\", this second operation does nothing because in the original string S[2] = 'c', which doesn't match x[0] = 'e'. <br/>\n",
    "All these operations occur simultaneously.  It's guaranteed that there won't be any overlap in replacement: for example, S = \"abc\", indexes = [0, 1], sources = [\"ab\",\"bc\"] is not a valid test case. <br/>\n",
    "\n",
    "Example 1: <br/>\n",
    "Input: S = \"abcd\", indexes = [0, 2], sources = [\"a\", \"cd\"], targets = [\"eee\", \"ffff\"] <br/>\n",
    "Output: \"eeebffff\" <br/>\n",
    "Explanation: <br/>\n",
    "\"a\" starts at index 0 in S, so it's replaced by \"eee\". <br/>\n",
    "\"cd\" starts at index 2 in S, so it's replaced by \"ffff\". <br/>\n",
    "\n",
    "Example 2: <br/>\n",
    "Input: S = \"abcd\", indexes = [0, 2], sources = [\"ab\",\"ec\"], targets = [\"eee\",\"ffff\"] <br/>\n",
    "Output: \"eeecd\" <br/>\n",
    "Explanation: <br/>\n",
    "\"ab\" starts at index 0 in S, so it's replaced by \"eee\". <br/>\n",
    "\"ec\" doesn't starts at index 2 in the original S, so we do nothing."
   ]
  },
  {
   "cell_type": "markdown",
   "metadata": {},
   "source": [
    "# Minheap - Two Pass - O(N log N) runtime, O(N) space"
   ]
  },
  {
   "cell_type": "code",
   "execution_count": 1,
   "metadata": {},
   "outputs": [],
   "source": [
    "from typing import List\n",
    "from heapq import heappush, heappop\n",
    "\n",
    "class Solution:\n",
    "    def findReplaceString(self, S: str, indexes: List[int], sources: List[str], targets: List[str]) -> str:\n",
    "        minheap = []\n",
    "        for i, index in enumerate(indexes):\n",
    "            l = len(sources[i])\n",
    "            if S[index: index+l] == sources[i]:\n",
    "                heappush(minheap, (index, i, l))\n",
    "        \n",
    "        shift = 0\n",
    "        while minheap:\n",
    "            index, i, l = heappop(minheap)\n",
    "            S = S[:index + shift] + targets[i] + S[index + shift + l:]\n",
    "            shift += len(targets[i]) - l\n",
    "            \n",
    "        return S"
   ]
  },
  {
   "cell_type": "markdown",
   "metadata": {},
   "source": [
    "# Reverse with List - O(NQ)runtime, O(N) space where N is the length of S, and we have Q replacement operations."
   ]
  },
  {
   "cell_type": "code",
   "execution_count": 2,
   "metadata": {},
   "outputs": [],
   "source": [
    "from typing import List\n",
    "\n",
    "class Solution:\n",
    "    def findReplaceString(self, S: str, indexes: List[int], sources: List[str], targets: List[str]) -> str:\n",
    "        S = list(S)\n",
    "        for i, x, y in sorted(zip(indexes, sources, targets), reverse = True):\n",
    "            if all(i+k < len(S) and S[i+k] == x[k] for k in range(len(x))):\n",
    "                S[i:i+len(x)] = list(y)\n",
    "\n",
    "        return \"\".join(S)"
   ]
  },
  {
   "cell_type": "markdown",
   "metadata": {},
   "source": [
    "# Reverse with String slicing - O(NQ)runtime, O(N) space where N is the length of S, and we have Q replacement operations."
   ]
  },
  {
   "cell_type": "code",
   "execution_count": 3,
   "metadata": {},
   "outputs": [],
   "source": [
    "from typing import List\n",
    "\n",
    "class Solution:\n",
    "    def findReplaceString(self, S: str, indexes: List[int], sources: List[str], targets: List[str]) -> str:\n",
    "        for i, s, t in sorted(zip(indexes, sources, targets), reverse=True):\n",
    "            S = S[:i] + t + S[i + len(s):] if S[i:i + len(s)] == s else S\n",
    "        return S"
   ]
  },
  {
   "cell_type": "markdown",
   "metadata": {},
   "source": [
    "# List - O(NQ)runtime, O(N) space where N is the length of S, and we have Q replacement operations."
   ]
  },
  {
   "cell_type": "code",
   "execution_count": 4,
   "metadata": {},
   "outputs": [],
   "source": [
    "from typing import List\n",
    "\n",
    "class Solution:\n",
    "    def findReplaceString(self, S: str, indexes: List[int], sources: List[str], targets: List[str]) -> str:\n",
    "        modified = list(S)\n",
    "        for index, source, target in zip(indexes, sources, targets):\n",
    "            if not S[index:].startswith(source):\n",
    "                continue\n",
    "            else:\n",
    "                modified[index] = target\n",
    "                for i in range(index+1, len(source) + index):\n",
    "                    modified[i] = \"\"\n",
    "\n",
    "        return \"\".join(modified)"
   ]
  },
  {
   "cell_type": "markdown",
   "metadata": {},
   "source": [
    "# Linear - O(N) runtime, O(N) space"
   ]
  },
  {
   "cell_type": "code",
   "execution_count": 6,
   "metadata": {},
   "outputs": [],
   "source": [
    "from typing import List\n",
    "\n",
    "class Solution:\n",
    "    def findReplaceString(self, S: str, indexes: List[int], sources: List[str], targets: List[str]) -> str:\n",
    "        lookup = {i: (src, tgt) for i, src, tgt in zip(indexes, sources, targets)}\n",
    "        i, result = 0, \"\"\n",
    "        while i < len(S):\n",
    "            if i in lookup and S[i:].startswith(lookup[i][0]):\n",
    "                result += lookup[i][1]\n",
    "                i += len(lookup[i][0])\n",
    "            else:\n",
    "                result += S[i]\n",
    "                i += 1\n",
    "        return result"
   ]
  },
  {
   "cell_type": "code",
   "execution_count": 7,
   "metadata": {},
   "outputs": [
    {
     "data": {
      "text/plain": [
       "'eeecd'"
      ]
     },
     "execution_count": 7,
     "metadata": {},
     "output_type": "execute_result"
    }
   ],
   "source": [
    "instance = Solution()\n",
    "instance.findReplaceString(S = \"abcd\", indexes = [0, 2], sources = [\"ab\",\"ec\"], targets = [\"eee\",\"ffff\"] )"
   ]
  }
 ],
 "metadata": {
  "kernelspec": {
   "display_name": "Python 3",
   "language": "python",
   "name": "python3"
  },
  "language_info": {
   "codemirror_mode": {
    "name": "ipython",
    "version": 3
   },
   "file_extension": ".py",
   "mimetype": "text/x-python",
   "name": "python",
   "nbconvert_exporter": "python",
   "pygments_lexer": "ipython3",
   "version": "3.7.3"
  }
 },
 "nbformat": 4,
 "nbformat_minor": 2
}
