{
 "cells": [
  {
   "cell_type": "markdown",
   "metadata": {},
   "source": [
    "Problem Statement. <br/>\n",
    "\n",
    "Sometimes people repeat letters to represent extra feeling, such as \"hello\" -> \"heeellooo\", \"hi\" -> \"hiiii\".  In these strings like \"heeellooo\", we have groups of adjacent letters that are all the same:  \"h\", \"eee\", \"ll\", \"ooo\". <br/>\n",
    "For some given string S, a query word is stretchy if it can be made to be equal to S by any number of applications of the following extension operation: choose a group consisting of characters c, and add some number of characters c to the group so that the size of the group is 3 or more. <br/>\n",
    "For example, starting with \"hello\", we could do an extension on the group \"o\" to get \"hellooo\", but we cannot get \"helloo\" since the group \"oo\" has size less than 3.  Also, we could do another extension like \"ll\" -> \"lllll\" to get \"helllllooo\".  If S = \"helllllooo\", then the query word \"hello\" would be stretchy because of these two extension operations: query = \"hello\" -> \"hellooo\" -> \"helllllooo\" = S. <br/>\n",
    "\n",
    "Given a list of query words, return the number of words that are stretchy. <br/> \n",
    "\n",
    "Example: <br/>\n",
    "Input:  <br/>\n",
    "S = \"heeellooo\" <br/>\n",
    "words = [\"hello\", \"hi\", \"helo\"] <br/>\n",
    "Output: 1 <br/>\n",
    "Explanation:  <br/>\n",
    "We can extend \"e\" and \"o\" in the word \"hello\" to get \"heeellooo\". <br/>\n",
    "We can't extend \"helo\" to get \"heeellooo\" because the group \"ll\" is not size 3 or more."
   ]
  },
  {
   "cell_type": "markdown",
   "metadata": {},
   "source": [
    "# String Traversal - O(N * max(n, s)) runtime, O(1) space, where N is the number of words, n is the length of the longest word and s is the length of string S"
   ]
  },
  {
   "cell_type": "code",
   "execution_count": 1,
   "metadata": {},
   "outputs": [],
   "source": [
    "from typing import List\n",
    "\n",
    "class Solution:\n",
    "    def expressiveWords(self, S: str, words: List[str]) -> int:\n",
    "        s = len(S)\n",
    "        if s == 0 or len(words) == 0:\n",
    "            return 0\n",
    "        \n",
    "        result = 0\n",
    "        for word in words:\n",
    "            n = len(word)\n",
    "            if n == 0:\n",
    "                continue\n",
    "            \n",
    "            canBeStretchy = False\n",
    "            i, j = 0, 0\n",
    "            while i < n and j < s:\n",
    "                if word[i] != S[j]:\n",
    "                    break\n",
    "                currLen, currChar = 0, word[i]\n",
    "                while i < n and word[i] == currChar:\n",
    "                    i += 1\n",
    "                    currLen += 1\n",
    "                    \n",
    "                currSLen, currSChar = 0, S[j]\n",
    "                while j < s and S[j] == currChar:\n",
    "                    j += 1\n",
    "                    currSLen += 1\n",
    "                    \n",
    "                if currLen > currSLen or (currSLen < 3 and currLen < currSLen):\n",
    "                    canBeStretchy = False\n",
    "                    break\n",
    "                if currSLen >= 3 and currLen < currSLen:\n",
    "                    canBeStretchy = True\n",
    "                    \n",
    "            if i == n and j == s and canBeStretchy:\n",
    "                result += 1\n",
    "                \n",
    "        return result"
   ]
  },
  {
   "cell_type": "markdown",
   "metadata": {},
   "source": [
    "# Cleaner String Traversal - O(N * max(w)) runtime, O(w) space, where N is the number of words, w is the length of the longest word or string S S"
   ]
  },
  {
   "cell_type": "code",
   "execution_count": 2,
   "metadata": {},
   "outputs": [],
   "source": [
    "from typing import List\n",
    "from itertools import groupby\n",
    "\n",
    "class Solution:\n",
    "    def expressiveWords(self, S: str, words: List[str]) -> int:\n",
    "\n",
    "        if len(S) == 0 or len(words) == 0:\n",
    "            return 0\n",
    "        \n",
    "        def RLE(S):\n",
    "            return zip(*[(k, len(list(grp)))\n",
    "                         for k, grp in groupby(S)])\n",
    "\n",
    "        R, count = RLE(S)\n",
    "        ans = 0\n",
    "        for word in words:\n",
    "            R2, count2 = RLE(word)\n",
    "            if R2 != R: continue\n",
    "            ans += all(c1 >= max(c2, 3) or c1 == c2\n",
    "                       for c1, c2 in zip(count, count2))\n",
    "\n",
    "        return ans"
   ]
  },
  {
   "cell_type": "code",
   "execution_count": 3,
   "metadata": {},
   "outputs": [],
   "source": [
    "instance = Solution()\n",
    "instance.expressiveWords( \"heeellooo\", [\"hello\", \"hi\", \"helo\"])"
   ]
  }
 ],
 "metadata": {
  "kernelspec": {
   "display_name": "Python 3",
   "language": "python",
   "name": "python3"
  },
  "language_info": {
   "codemirror_mode": {
    "name": "ipython",
    "version": 3
   },
   "file_extension": ".py",
   "mimetype": "text/x-python",
   "name": "python",
   "nbconvert_exporter": "python",
   "pygments_lexer": "ipython3",
   "version": "3.7.3"
  }
 },
 "nbformat": 4,
 "nbformat_minor": 2
}
