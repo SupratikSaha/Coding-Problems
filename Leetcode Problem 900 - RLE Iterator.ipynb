{
 "cells": [
  {
   "cell_type": "markdown",
   "metadata": {},
   "source": [
    "    Problem Statement\n",
    "\n",
    "    Write an iterator that iterates through a run-length encoded sequence.\n",
    "\n",
    "    The iterator is initialized by RLEIterator(int[] A), where A is a run-length encoding of some sequence.  More specifically, for all even i, A[i] tells us the number of times that the non-negative integer value A[i+1] is repeated in the sequence.\n",
    "\n",
    "    The iterator supports one function: next(int n), which exhausts the next n elements (n >= 1) and returns the last element exhausted in this way.  If there is no element left to exhaust, next returns -1 instead.\n",
    "\n",
    "    For example, we start with A = [3,8,0,9,2,5], which is a run-length encoding of the sequence [8,8,8,5,5].  This is because the sequence can be read as \"three eights, zero nines, two fives\".\n",
    "\n",
    "\n",
    "    Example 1:\n",
    "\n",
    "    Input: [\"RLEIterator\",\"next\",\"next\",\"next\",\"next\"], [[[3,8,0,9,2,5]],[2],[1],[1],[2]]\n",
    "    Output: [null,8,8,5,-1]\n",
    "    Explanation: \n",
    "    RLEIterator is initialized with RLEIterator([3,8,0,9,2,5]).\n",
    "    This maps to the sequence [8,8,8,5,5].\n",
    "    RLEIterator.next is then called 4 times:\n",
    "\n",
    "    .next(2) exhausts 2 terms of the sequence, returning 8.  The remaining sequence is now [8, 5, 5].\n",
    "\n",
    "    .next(1) exhausts 1 term of the sequence, returning 8.  The remaining sequence is now [5, 5].\n",
    "\n",
    "    .next(1) exhausts 1 term of the sequence, returning 5.  The remaining sequence is now [5].\n",
    "\n",
    "    .next(2) exhausts 2 terms, returning -1.  This is because the first term exhausted was 5,\n",
    "    but the second term did not exist.  Since the last term exhausted does not exist, we return -1.\n",
    "\n",
    "    Note:\n",
    "\n",
    "        0 <= A.length <= 1000\n",
    "        A.length is an even integer.\n",
    "        0 <= A[i] <= 10^9\n",
    "        There are at most 1000 calls to RLEIterator.next(int n) per test case.\n",
    "        Each call to RLEIterator.next(int n) will have 1 <= n <= 10^9."
   ]
  },
  {
   "cell_type": "markdown",
   "metadata": {},
   "source": [
    "# Brute Force - Time Limit Exceeded - O(A) init, O(N) next runtime, O(A) space"
   ]
  },
  {
   "cell_type": "code",
   "execution_count": 3,
   "metadata": {},
   "outputs": [],
   "source": [
    "from typing import List\n",
    "from collections import deque\n",
    "\n",
    "class RLEIterator:\n",
    "\n",
    "    def __init__(self, A: List[int]):\n",
    "        self.array = deque()\n",
    "        for i in range(0, len(A), 2):\n",
    "            self.array += [A[i+1]] * A[i]\n",
    "        \n",
    "\n",
    "    def next(self, n: int) -> int:\n",
    "        for i in range(n):\n",
    "            if self.array:\n",
    "                res = self.array.popleft()\n",
    "            else:\n",
    "                res = -1\n",
    "                break\n",
    "                \n",
    "        return res"
   ]
  },
  {
   "cell_type": "markdown",
   "metadata": {},
   "source": [
    "# Simpler next operation - Time Limit Exceeded - O(A) init, O(1) next runtime, O(A) space"
   ]
  },
  {
   "cell_type": "code",
   "execution_count": 9,
   "metadata": {},
   "outputs": [],
   "source": [
    "from typing import List\n",
    "\n",
    "class RLEIterator:\n",
    "\n",
    "    def __init__(self, A: List[int]):\n",
    "        self.array = []\n",
    "        for i in range(0, len(A), 2):\n",
    "            self.array += [A[i+1]] * A[i]\n",
    "            \n",
    "        self.len = len(self.array)\n",
    "        self.ptr = 0\n",
    "        \n",
    "\n",
    "    def next(self, n: int) -> int:\n",
    "        \n",
    "        if n > self.len - self.ptr: \n",
    "            self.ptr = self.len\n",
    "            return -1\n",
    "        \n",
    "        self.ptr += n\n",
    "        return self.array[self.ptr-1]"
   ]
  },
  {
   "cell_type": "markdown",
   "metadata": {},
   "source": [
    "# Store Exhausted Position and Quantity - O(1) init, O(N) next"
   ]
  },
  {
   "cell_type": "code",
   "execution_count": 11,
   "metadata": {},
   "outputs": [],
   "source": [
    "class RLEIterator:\n",
    "\n",
    "    def __init__(self, A: List[int]):\n",
    "        self.A = A\n",
    "        self.i = 0\n",
    "        self.q = 0\n",
    "\n",
    "    def next(self, n: int) -> int:\n",
    "        while self.i < len(self.A):\n",
    "            if self.q + n > self.A[self.i]:\n",
    "                n -= self.A[self.i] - self.q\n",
    "                self.q = 0\n",
    "                self.i += 2\n",
    "            else:\n",
    "                self.q += n\n",
    "                return self.A[self.i+1]\n",
    "        return -1"
   ]
  },
  {
   "cell_type": "code",
   "execution_count": 12,
   "metadata": {},
   "outputs": [
    {
     "name": "stdout",
     "output_type": "stream",
     "text": [
      "8\n",
      "8\n",
      "5\n",
      "-1\n"
     ]
    }
   ],
   "source": [
    "obj = RLEIterator([3,8,0,9,2,5])\n",
    "print(obj.next(2))\n",
    "print(obj.next(1))\n",
    "print(obj.next(1))\n",
    "print(obj.next(2))"
   ]
  }
 ],
 "metadata": {
  "kernelspec": {
   "display_name": "Python 3",
   "language": "python",
   "name": "python3"
  },
  "language_info": {
   "codemirror_mode": {
    "name": "ipython",
    "version": 3
   },
   "file_extension": ".py",
   "mimetype": "text/x-python",
   "name": "python",
   "nbconvert_exporter": "python",
   "pygments_lexer": "ipython3",
   "version": "3.7.3"
  }
 },
 "nbformat": 4,
 "nbformat_minor": 2
}
