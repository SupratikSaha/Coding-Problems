{
 "cells": [
  {
   "cell_type": "markdown",
   "metadata": {},
   "source": [
    "Problem Statement. <br/>\n",
    "\n",
    "Given a non-negative integer x, compute and return the square root of x. <br/>\n",
    "\n",
    "Since the return type is an integer, the decimal digits are truncated, and only the integer part of the result is returned. <br/>\n",
    "\n",
    "Example 1: <br/>\n",
    "Input: x = 4 <br/>\n",
    "Output: 2 <br/>\n",
    "\n",
    "Example 2: <br/>\n",
    "Input: x = 8 <br/>\n",
    "Output: 2 <br/>\n",
    "Explanation: The square root of 8 is 2.82842..., and since the decimal part is truncated, 2 is returned."
   ]
  },
  {
   "cell_type": "markdown",
   "metadata": {},
   "source": [
    "# Brute Force - O(N) runtime, O(1) space"
   ]
  },
  {
   "cell_type": "code",
   "execution_count": 1,
   "metadata": {},
   "outputs": [],
   "source": [
    "class Solution:\n",
    "    def mySqrt(self, x: int) -> int:\n",
    "        if x in (0, 1):\n",
    "            return x\n",
    "        for val in range(x + 1):\n",
    "            val_squared = val * val\n",
    "            if val_squared == x:\n",
    "                return val\n",
    "            elif val_squared > x:\n",
    "                return val - 1"
   ]
  },
  {
   "cell_type": "markdown",
   "metadata": {},
   "source": [
    "# Recursion + Bit Shifts - O(log N) runtime, O(log N) space"
   ]
  },
  {
   "cell_type": "code",
   "execution_count": 2,
   "metadata": {},
   "outputs": [],
   "source": [
    "class Solution:\n",
    "    def mySqrt(self, x: int) -> int:\n",
    "        if x < 2:\n",
    "            return x\n",
    "        \n",
    "        left = self.mySqrt(x >> 2) << 1\n",
    "        right = left + 1\n",
    "        return left if right * right > x else right"
   ]
  },
  {
   "cell_type": "markdown",
   "metadata": {},
   "source": [
    "# Binary Search - O(log N) runtime, O(1) space"
   ]
  },
  {
   "cell_type": "code",
   "execution_count": 3,
   "metadata": {},
   "outputs": [],
   "source": [
    "class Solution:\n",
    "    def mySqrt(self, x: int) -> int:\n",
    "        if x < 2:\n",
    "            return x\n",
    "        \n",
    "        left, right = 2, x // 2\n",
    "        \n",
    "        while left <= right:\n",
    "            pivot = left + (right - left) // 2\n",
    "            num = pivot * pivot\n",
    "            if num > x:\n",
    "                right = pivot -1\n",
    "            elif num < x:\n",
    "                left = pivot + 1\n",
    "            else:\n",
    "                return pivot\n",
    "            \n",
    "        return right\n",
    "        "
   ]
  },
  {
   "cell_type": "markdown",
   "metadata": {},
   "source": [
    "# Exponent and Log - O(1) runtime, O(1) space"
   ]
  },
  {
   "cell_type": "code",
   "execution_count": 4,
   "metadata": {},
   "outputs": [],
   "source": [
    "from math import e, log\n",
    "\n",
    "class Solution:\n",
    "    def mySqrt(self, x: int) -> int:\n",
    "        if x < 2:\n",
    "            return x\n",
    "        \n",
    "        left = int(e**(0.5 * log(x)))\n",
    "        right = left + 1\n",
    "        return left if right * right > x else right"
   ]
  },
  {
   "cell_type": "markdown",
   "metadata": {},
   "source": [
    "# Newton's Method - O(log N) runtime, O(1) space"
   ]
  },
  {
   "cell_type": "code",
   "execution_count": 5,
   "metadata": {},
   "outputs": [],
   "source": [
    "class Solution:\n",
    "    def mySqrt(self, x: int) -> int:\n",
    "        if x < 2:\n",
    "            return x\n",
    "        \n",
    "        x0 = x\n",
    "        x1 = (x0 + x / x0) / 2\n",
    "        while abs(x0 - x1) >= 1:\n",
    "            x0 = x1\n",
    "            x1 = (x0 + x / x0) / 2        \n",
    "            \n",
    "        return int(x1)"
   ]
  },
  {
   "cell_type": "code",
   "execution_count": 6,
   "metadata": {},
   "outputs": [
    {
     "data": {
      "text/plain": [
       "10"
      ]
     },
     "execution_count": 6,
     "metadata": {},
     "output_type": "execute_result"
    }
   ],
   "source": [
    "instance = Solution()\n",
    "instance.mySqrt(100)"
   ]
  }
 ],
 "metadata": {
  "kernelspec": {
   "display_name": "Python 3",
   "language": "python",
   "name": "python3"
  },
  "language_info": {
   "codemirror_mode": {
    "name": "ipython",
    "version": 3
   },
   "file_extension": ".py",
   "mimetype": "text/x-python",
   "name": "python",
   "nbconvert_exporter": "python",
   "pygments_lexer": "ipython3",
   "version": "3.7.3"
  }
 },
 "nbformat": 4,
 "nbformat_minor": 2
}
