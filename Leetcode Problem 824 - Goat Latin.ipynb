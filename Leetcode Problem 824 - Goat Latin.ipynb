{
 "cells": [
  {
   "cell_type": "markdown",
   "metadata": {},
   "source": [
    "Problem Statement.\n",
    "\n",
    "You are given a string sentence that consist of words separated by spaces. Each word consists of lowercase and uppercase letters only.\n",
    "\n",
    "We would like to convert the sentence to \"Goat Latin\" (a made-up language similar to Pig Latin.) The rules of Goat Latin are as follows:\n",
    "\n",
    "    If a word begins with a vowel ('a', 'e', 'i', 'o', or 'u'), append \"ma\" to the end of the word.\n",
    "        For example, the word \"apple\" becomes \"applema\".\n",
    "    If a word begins with a consonant (i.e., not a vowel), remove the first letter and append it to the end, then add \"ma\".\n",
    "        For example, the word \"goat\" becomes \"oatgma\".\n",
    "    Add one letter 'a' to the end of each word per its word index in the sentence, starting with 1.\n",
    "        For example, the first word gets \"a\" added to the end, the second word gets \"aa\" added to the end, and so on.\n",
    "\n",
    "Return the final sentence representing the conversion from sentence to Goat Latin.\n",
    "\n",
    " \n",
    "\n",
    "Example 1:\n",
    "\n",
    "Input: sentence = \"I speak Goat Latin\"\n",
    "Output: \"Imaa peaksmaaa oatGmaaaa atinLmaaaaa\"\n",
    "\n",
    "Example 2:\n",
    "\n",
    "Input: sentence = \"The quick brown fox jumped over the lazy dog\"\n",
    "Output: \"heTmaa uickqmaaa rownbmaaaa oxfmaaaaa umpedjmaaaaaa overmaaaaaaa hetmaaaaaaaa azylmaaaaaaaaa ogdmaaaaaaaaaa\"\n",
    "\n",
    " \n",
    "\n",
    "Constraints:\n",
    "\n",
    "    1 <= sentence.length <= 150\n",
    "    sentence consists of English letters and spaces.\n",
    "    sentence has no leading or trailing spaces.\n",
    "    All the words in sentence are separated by a single space."
   ]
  },
  {
   "cell_type": "markdown",
   "metadata": {},
   "source": [
    "# List - O(N) runtime, O(N) space"
   ]
  },
  {
   "cell_type": "code",
   "execution_count": 1,
   "metadata": {},
   "outputs": [],
   "source": [
    "class Solution:\n",
    "    def toGoatLatin(self, sentence: str) -> str:\n",
    "        res = sentence.split()\n",
    "        vowels = set('aeiouAEIOU')\n",
    "        \n",
    "        for i, string in enumerate(res):\n",
    "            if string[0] not in vowels:\n",
    "                string = string[1:] + string[0]\n",
    "            string += 'ma' + 'a' * (i+1)\n",
    "            res[i] = string\n",
    "            \n",
    "        return ' '.join(res)"
   ]
  },
  {
   "cell_type": "code",
   "execution_count": 2,
   "metadata": {},
   "outputs": [
    {
     "data": {
      "text/plain": [
       "'Imaa peaksmaaa oatGmaaaa atinLmaaaaa'"
      ]
     },
     "execution_count": 2,
     "metadata": {},
     "output_type": "execute_result"
    }
   ],
   "source": [
    "instance = Solution()\n",
    "instance.toGoatLatin(\"I speak Goat Latin\")"
   ]
  }
 ],
 "metadata": {
  "kernelspec": {
   "display_name": "Python 3",
   "language": "python",
   "name": "python3"
  },
  "language_info": {
   "codemirror_mode": {
    "name": "ipython",
    "version": 3
   },
   "file_extension": ".py",
   "mimetype": "text/x-python",
   "name": "python",
   "nbconvert_exporter": "python",
   "pygments_lexer": "ipython3",
   "version": "3.7.3"
  }
 },
 "nbformat": 4,
 "nbformat_minor": 2
}
