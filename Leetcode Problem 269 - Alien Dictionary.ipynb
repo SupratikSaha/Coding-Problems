{
 "cells": [
  {
   "cell_type": "markdown",
   "metadata": {},
   "source": [
    "Problem Statement. <br/>\n",
    "\n",
    "There is a new alien language that uses the English alphabet. However, the order among letters are unknown to you. <br/>\n",
    "You are given a list of strings words from the dictionary, where words are sorted lexicographically by the rules of this new language. <br/>\n",
    "Derive the order of letters in this language, and return it. If the given input is invalid, return \"\". If there are multiple valid solutions, return any of them. <br/>\n",
    "\n",
    "Example 1 <br/>\n",
    "Input: words = [\"wrt\",\"wrf\",\"er\",\"ett\",\"rftt\"] <br/>\n",
    "Output: \"wertf\" <br/>\n",
    "\n",
    "Example 2: <br/>\n",
    "Input: words = [\"z\",\"x\"] <br/>\n",
    "Output: \"zx\" <br/>\n",
    "\n",
    "Example 3: <br/>\n",
    "Input: words = [\"z\",\"x\",\"z\"] <br/>\n",
    "Output: \"\" <br/>\n",
    "Explanation: The order is invalid, so return \"\"."
   ]
  },
  {
   "cell_type": "markdown",
   "metadata": {},
   "source": [
    "# BFS - O(V + N) runtime, O(V + N) space - where 'V' is the number of unique characters and 'N' is the number of words"
   ]
  },
  {
   "cell_type": "code",
   "execution_count": 2,
   "metadata": {},
   "outputs": [],
   "source": [
    "from collections import deque\n",
    "from typing import List\n",
    "\n",
    "class Solution:\n",
    "    def alienOrder(self, words: List[str]) -> str:\n",
    "        if not words or len(words) == 0:\n",
    "            return \"\"\n",
    "        \n",
    "        graph = {}\n",
    "        inDegree = {}\n",
    "        \n",
    "        for word in words:\n",
    "            for char in word:\n",
    "                graph[char] = []\n",
    "                inDegree[char] = 0\n",
    "                \n",
    "        for i in range(len(words) - 1):\n",
    "            w1 = words[i]\n",
    "            w2 = words[i + 1]\n",
    "            for j in range(0, min(len(w1), len(w2))):\n",
    "                c1, c2 = w1[j], w2[j]\n",
    "                if c1 != c2:\n",
    "                    graph[c1].append(c2)\n",
    "                    inDegree[c2] += 1\n",
    "                    break\n",
    "                if j == len(w2) - 1 and j < len(w1) - 1:\n",
    "                    return \"\"\n",
    "                \n",
    "        sources = deque()\n",
    "        for char in inDegree:\n",
    "            if inDegree[char] == 0:\n",
    "                sources.append(char)\n",
    "                \n",
    "        result = []\n",
    "        while sources:\n",
    "            parent = sources.popleft()\n",
    "            result.append(parent)\n",
    "            for child in graph[parent]:\n",
    "                inDegree[child] -= 1\n",
    "                if inDegree[child] == 0:\n",
    "                    sources.append(child) \n",
    "                    \n",
    "        return ''.join(result) if len(result) == len(graph) else \"\""
   ]
  },
  {
   "cell_type": "code",
   "execution_count": 3,
   "metadata": {},
   "outputs": [
    {
     "data": {
      "text/plain": [
       "'wertf'"
      ]
     },
     "execution_count": 3,
     "metadata": {},
     "output_type": "execute_result"
    }
   ],
   "source": [
    "instance = Solution()\n",
    "instance.alienOrder([\"wrt\",\"wrf\",\"er\",\"ett\",\"rftt\"])"
   ]
  }
 ],
 "metadata": {
  "kernelspec": {
   "display_name": "Python 3",
   "language": "python",
   "name": "python3"
  },
  "language_info": {
   "codemirror_mode": {
    "name": "ipython",
    "version": 3
   },
   "file_extension": ".py",
   "mimetype": "text/x-python",
   "name": "python",
   "nbconvert_exporter": "python",
   "pygments_lexer": "ipython3",
   "version": "3.7.3"
  }
 },
 "nbformat": 4,
 "nbformat_minor": 2
}
