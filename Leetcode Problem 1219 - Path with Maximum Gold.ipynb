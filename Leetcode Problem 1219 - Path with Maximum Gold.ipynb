{
 "cells": [
  {
   "cell_type": "markdown",
   "metadata": {},
   "source": [
    "    Problem Statement\n",
    "\n",
    "    In a gold mine grid of size m * n, each cell in this mine has an integer representing the amount of gold in that cell, 0 if it is empty.\n",
    "\n",
    "    Return the maximum amount of gold you can collect under the conditions:\n",
    "\n",
    "        Every time you are located in a cell you will collect all the gold in that cell.\n",
    "        From your position you can walk one step to the left, right, up or down.\n",
    "        You can't visit the same cell more than once.\n",
    "        Never visit a cell with 0 gold.\n",
    "        You can start and stop collecting gold from any position in the grid that has some gold.\n",
    "\n",
    "\n",
    "\n",
    "    Example 1:\n",
    "\n",
    "    Input: grid = [[0,6,0],[5,8,7],[0,9,0]]\n",
    "    Output: 24\n",
    "    Explanation:\n",
    "    [[0,6,0],\n",
    "     [5,8,7],\n",
    "     [0,9,0]]\n",
    "    Path to get the maximum gold, 9 -> 8 -> 7.\n",
    "\n",
    "    Example 2:\n",
    "\n",
    "    Input: grid = [[1,0,7],[2,0,6],[3,4,5],[0,3,0],[9,0,20]]\n",
    "    Output: 28\n",
    "    Explanation:\n",
    "    [[1,0,7],\n",
    "     [2,0,6],\n",
    "     [3,4,5],\n",
    "     [0,3,0],\n",
    "     [9,0,20]]\n",
    "    Path to get the maximum gold, 1 -> 2 -> 3 -> 4 -> 5 -> 6 -> 7.\n",
    "\n",
    "\n",
    "\n",
    "    Constraints:\n",
    "\n",
    "        1 <= grid.length, grid[i].length <= 15\n",
    "        0 <= grid[i][j] <= 100\n",
    "        There are at most 25 cells containing gold."
   ]
  },
  {
   "cell_type": "markdown",
   "metadata": {},
   "source": [
    "# DFS with Backtracking - O(4 * 3 ^ K) runtime, O(4 * 3 ^ K) space, where K is the number of cells with gold"
   ]
  },
  {
   "cell_type": "code",
   "execution_count": 1,
   "metadata": {},
   "outputs": [],
   "source": [
    "from typing import List\n",
    "\n",
    "class Solution:\n",
    "    def getMaximumGold(self, grid: List[List[int]]) -> int:\n",
    "        m, n = len(grid), len(grid[0])\n",
    "        res = 0\n",
    "        \n",
    "        for i in range(m):\n",
    "            for j in range(n):\n",
    "                if grid[i][j] > 0:\n",
    "                    currGold = self.getMaxGoldRecursive(grid, i, j)\n",
    "                    res = max(res, currGold)\n",
    "                    \n",
    "        return res\n",
    "    \n",
    "    def getMaxGoldRecursive(self, grid: List[List[int]], i: int, j: int) -> int:\n",
    "        currVal = grid[i][j]\n",
    "        grid[i][j] = -1\n",
    "        maxVal = 0\n",
    "        for r, c in [[i+1, j], [i-1, j], [i, j+1], [i, j-1]]:\n",
    "            if r >= 0 and r < len(grid) and c >= 0 and c < len(grid[0]) and grid[r][c] > 0:\n",
    "                gold = self.getMaxGoldRecursive(grid, r, c)\n",
    "                maxVal = max(maxVal, gold)\n",
    "                \n",
    "        grid[i][j] = currVal\n",
    "        return currVal + maxVal"
   ]
  },
  {
   "cell_type": "markdown",
   "metadata": {},
   "source": [
    "# Simpler DFS with Backtracking - O(4 * 3 ^ K) runtime, O(4 * 3 ^ K) space, where K is the number of cells with gold"
   ]
  },
  {
   "cell_type": "code",
   "execution_count": 4,
   "metadata": {},
   "outputs": [],
   "source": [
    "from typing import List\n",
    "\n",
    "class Solution:\n",
    "    def getMaximumGold(self, grid: List[List[int]]) -> int:\n",
    "        def findMaxGold(r: int, c: int) -> int:\n",
    "            if r < 0 or r == m or c < 0 or c == n or grid[r][c] == 0: return 0\n",
    "            origin = grid[r][c]\n",
    "            grid[r][c] = 0  # mark as visited\n",
    "            maxGold = 0\n",
    "            for nr, nc in ((r, c + 1), (r, c - 1), (r + 1, c), (r - 1, c)):\n",
    "                maxGold = max(findMaxGold(nr, nc), maxGold)\n",
    "            grid[r][c] = origin  # backtrack\n",
    "            return maxGold + origin\n",
    "\n",
    "        m, n = len(grid), len(grid[0])\n",
    "        return max(findMaxGold(r, c) for c in range(n) for r in range(m))"
   ]
  },
  {
   "cell_type": "code",
   "execution_count": 5,
   "metadata": {},
   "outputs": [
    {
     "data": {
      "text/plain": [
       "28"
      ]
     },
     "execution_count": 5,
     "metadata": {},
     "output_type": "execute_result"
    }
   ],
   "source": [
    "instance = Solution()\n",
    "instance.getMaximumGold([[1,0,7],[2,0,6],[3,4,5],[0,3,0],[9,0,20]])"
   ]
  }
 ],
 "metadata": {
  "kernelspec": {
   "display_name": "Python 3",
   "language": "python",
   "name": "python3"
  },
  "language_info": {
   "codemirror_mode": {
    "name": "ipython",
    "version": 3
   },
   "file_extension": ".py",
   "mimetype": "text/x-python",
   "name": "python",
   "nbconvert_exporter": "python",
   "pygments_lexer": "ipython3",
   "version": "3.7.3"
  }
 },
 "nbformat": 4,
 "nbformat_minor": 2
}
