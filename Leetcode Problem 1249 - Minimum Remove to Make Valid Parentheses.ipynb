{
 "cells": [
  {
   "cell_type": "markdown",
   "metadata": {},
   "source": [
    "    Problem Statement.\n",
    "\n",
    "    Given a string s of '(' , ')' and lowercase English characters. \n",
    "\n",
    "    Your task is to remove the minimum number of parentheses ( '(' or ')', in any positions ) so that the resulting parentheses string is valid and return any valid string.\n",
    "\n",
    "    Formally, a parentheses string is valid if and only if:\n",
    "\n",
    "        It is the empty string, contains only lowercase characters, or\n",
    "        It can be written as AB (A concatenated with B), where A and B are valid strings, or\n",
    "        It can be written as (A), where A is a valid string.\n",
    "\n",
    "\n",
    "\n",
    "    Example 1:\n",
    "\n",
    "    Input: s = \"lee(t(c)o)de)\"\n",
    "    Output: \"lee(t(c)o)de\"\n",
    "    Explanation: \"lee(t(co)de)\" , \"lee(t(c)ode)\" would also be accepted.\n",
    "\n",
    "    Example 2:\n",
    "\n",
    "    Input: s = \"a)b(c)d\"\n",
    "    Output: \"ab(c)d\"\n",
    "\n",
    "    Example 3:\n",
    "\n",
    "    Input: s = \"))((\"\n",
    "    Output: \"\"\n",
    "    Explanation: An empty string is also valid.\n",
    "\n",
    "    Example 4:\n",
    "\n",
    "    Input: s = \"(a(b(c)d)\"\n",
    "    Output: \"a(b(c)d)\"\n",
    "\n",
    "\n",
    "\n",
    "    Constraints:\n",
    "\n",
    "        1 <= s.length <= 10^5\n",
    "        s[i] is one of  '(' , ')' and lowercase English letters"
   ]
  },
  {
   "cell_type": "markdown",
   "metadata": {},
   "source": [
    "# Two Pass - One Pass - O(N) runtime, O(N) space"
   ]
  },
  {
   "cell_type": "code",
   "execution_count": 1,
   "metadata": {},
   "outputs": [],
   "source": [
    "class Solution:\n",
    "    def minRemoveToMakeValid(self, s: str) -> str:\n",
    "        countLeft = 0\n",
    "        leftStack = []\n",
    "        popSet = set()\n",
    "        res = []\n",
    "        \n",
    "        for i, char in enumerate(s):\n",
    "            if char == ')':\n",
    "                if countLeft == 0: \n",
    "                    popSet.add(i)\n",
    "                    continue\n",
    "                countLeft -= 1\n",
    "                leftStack.pop()\n",
    "                \n",
    "            elif char == '(':\n",
    "                countLeft += 1\n",
    "                leftStack.append(i)      \n",
    "        \n",
    "        while countLeft > 0:\n",
    "            popSet.add(leftStack.pop())\n",
    "            countLeft -= 1\n",
    "        \n",
    "        for i, char in enumerate(s):\n",
    "            if i in popSet: continue\n",
    "            res.append(char)\n",
    "            \n",
    "        return ''.join(res)"
   ]
  },
  {
   "cell_type": "markdown",
   "metadata": {},
   "source": [
    "# One Pass - O(N) runtime, O(N) space"
   ]
  },
  {
   "cell_type": "code",
   "execution_count": 2,
   "metadata": {},
   "outputs": [],
   "source": [
    "class Solution:\n",
    "    def minRemoveToMakeValid(self, s: str) -> str:\n",
    "        countLeft = 0\n",
    "        leftStack = []\n",
    "        res = []\n",
    "        \n",
    "        for i, char in enumerate(s):\n",
    "            if char == ')':\n",
    "                if countLeft == 0:\n",
    "                    res.append('')\n",
    "                    continue\n",
    "                countLeft -= 1\n",
    "                leftStack.pop()\n",
    "                \n",
    "            elif char == '(':\n",
    "                countLeft += 1\n",
    "                leftStack.append(i) \n",
    "                \n",
    "            res.append(char)\n",
    "        \n",
    "        while countLeft > 0:\n",
    "            res[leftStack.pop()] = ''\n",
    "            countLeft -= 1\n",
    "            \n",
    "        return ''.join(res)"
   ]
  },
  {
   "cell_type": "markdown",
   "metadata": {},
   "source": [
    "# Simpler One Pass - O(N) runtime, O(N) space"
   ]
  },
  {
   "cell_type": "code",
   "execution_count": 3,
   "metadata": {},
   "outputs": [],
   "source": [
    "class Solution:\n",
    "    def minRemoveToMakeValid(self, s: str) -> str:\n",
    "        s = list(s)\n",
    "        stack = []\n",
    "        for i, char in enumerate(s):\n",
    "            if char == '(':\n",
    "                stack.append(i)\n",
    "            elif char == ')':\n",
    "                if stack:\n",
    "                    stack.pop()\n",
    "                else:\n",
    "                    s[i] = ''\n",
    "        while stack:\n",
    "            s[stack.pop()] = ''\n",
    "        return ''.join(s)"
   ]
  },
  {
   "cell_type": "code",
   "execution_count": 4,
   "metadata": {},
   "outputs": [
    {
     "data": {
      "text/plain": [
       "'a(b(c)d)'"
      ]
     },
     "execution_count": 4,
     "metadata": {},
     "output_type": "execute_result"
    }
   ],
   "source": [
    "instance = Solution()\n",
    "instance.minRemoveToMakeValid(\"(a(b(c)d)\")"
   ]
  }
 ],
 "metadata": {
  "kernelspec": {
   "display_name": "Python 3",
   "language": "python",
   "name": "python3"
  },
  "language_info": {
   "codemirror_mode": {
    "name": "ipython",
    "version": 3
   },
   "file_extension": ".py",
   "mimetype": "text/x-python",
   "name": "python",
   "nbconvert_exporter": "python",
   "pygments_lexer": "ipython3",
   "version": "3.7.3"
  }
 },
 "nbformat": 4,
 "nbformat_minor": 2
}
