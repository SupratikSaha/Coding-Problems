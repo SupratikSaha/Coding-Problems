{
 "cells": [
  {
   "cell_type": "markdown",
   "metadata": {},
   "source": [
    "# UnionFind data structure - O(mn) run time, O(mn) space"
   ]
  },
  {
   "cell_type": "markdown",
   "metadata": {},
   "source": [
    "# Depth First Search - O(mn) run time, O(mn) space"
   ]
  },
  {
   "cell_type": "code",
   "execution_count": 1,
   "metadata": {},
   "outputs": [],
   "source": [
    "from typing import List\n",
    "\n",
    "class Solution:\n",
    "    def numIslands(self, grid: List[List[str]]) -> int:\n",
    "        if grid == None:\n",
    "            return 0\n",
    "        elif len(grid) == 0:\n",
    "            return 0\n",
    "        \n",
    "        numRows = len(grid)\n",
    "        numColumns = len(grid[0])\n",
    "        numIslands = 0\n",
    "        \n",
    "        for r in range(numRows):\n",
    "            for c in range(numColumns):\n",
    "                if grid[r][c] == '1':\n",
    "                    numIslands += 1\n",
    "                    self.dfs(grid, r, c)\n",
    "        \n",
    "        return numIslands\n",
    "    \n",
    "    def dfs(self, grid: List[List[str]], r: int, c: int) :\n",
    "        numRows = len(grid)\n",
    "        numColumns = len(grid[0])\n",
    "        \n",
    "        if r < 0 or c < 0 or r >= numRows or c >= numColumns or grid[r][c] == '0':\n",
    "            return grid\n",
    "        \n",
    "        grid[r][c] = '0'\n",
    "        self.dfs(grid, r - 1, c)\n",
    "        self.dfs(grid, r + 1, c)\n",
    "        self.dfs(grid, r, c - 1)\n",
    "        self.dfs(grid, r, c + 1)\n",
    "        \n",
    "        return "
   ]
  },
  {
   "cell_type": "markdown",
   "metadata": {},
   "source": [
    "# Breadth First Search - O(mn) run time, O(mn) space"
   ]
  },
  {
   "cell_type": "code",
   "execution_count": 2,
   "metadata": {},
   "outputs": [],
   "source": [
    "from typing import List\n",
    "\n",
    "class Solution:\n",
    "    def numIslands(self, grid: List[List[str]]) -> int:\n",
    "        m , n = len(grid), len(grid[0])\n",
    "        numIslands = 0\n",
    "        visited = set()\n",
    "        \n",
    "        def markAllIslandCells(x, y):\n",
    "            queue = deque([(x,y)])\n",
    "            while queue:\n",
    "                r, c = queue.popleft()\n",
    "                \n",
    "                for r_d, c_d in [[r+1, c], [r-1, c], [r, c+1], [r,c-1]]:\n",
    "                    if 0 <= r_d < m and 0 <= c_d < n and grid[r_d][c_d] == '1' and (r_d, c_d) not in visited:\n",
    "                        queue.append((r_d, c_d))\n",
    "                        visited.add((r_d, c_d))\n",
    "        \n",
    "        for i in range(m):\n",
    "            for j in range(n):\n",
    "                if grid[i][j] == '1' and (i, j) not in visited:\n",
    "                    numIslands += 1\n",
    "                    visited.add((i, j))\n",
    "                    markAllIslandCells(i, j)\n",
    "                    \n",
    "        return numIslands"
   ]
  },
  {
   "cell_type": "markdown",
   "metadata": {},
   "source": [
    "# Depth First Search - O(mn) run time, O(min(m, n)) space"
   ]
  },
  {
   "cell_type": "code",
   "execution_count": 3,
   "metadata": {},
   "outputs": [],
   "source": [
    "from typing import List\n",
    "\n",
    "class Solution:\n",
    "    def numIslands(self, grid: List[List[str]]) -> int:\n",
    "        count = 0\n",
    "        for i in range(len(grid)):\n",
    "            for j in range(len(grid[0])):\n",
    "                if grid[i][j] == '1':\n",
    "                    self.dfs(grid, i, j)\n",
    "                    count += 1\n",
    "        return count\n",
    "\n",
    "    def dfs(self, grid, i, j):\n",
    "        if i<0 or j<0 or i>=len(grid) or j>=len(grid[0]) or grid[i][j] != '1':\n",
    "            return\n",
    "        grid[i][j] = '#'\n",
    "        self.dfs(grid, i+1, j)\n",
    "        self.dfs(grid, i-1, j)\n",
    "        self.dfs(grid, i, j+1)\n",
    "        self.dfs(grid, i, j-1)"
   ]
  },
  {
   "cell_type": "code",
   "execution_count": 4,
   "metadata": {},
   "outputs": [
    {
     "data": {
      "text/plain": [
       "1"
      ]
     },
     "execution_count": 4,
     "metadata": {},
     "output_type": "execute_result"
    }
   ],
   "source": [
    "instance = Solution()\n",
    "instance.numIslands([[\"1\",\"1\",\"1\",\"1\",\"0\"],[\"1\",\"1\",\"0\",\"1\",\"0\"],[\"1\",\"1\",\"0\",\"0\",\"0\"],[\"0\",\"0\",\"0\",\"0\",\"0\"]])"
   ]
  }
 ],
 "metadata": {
  "kernelspec": {
   "display_name": "Python 3",
   "language": "python",
   "name": "python3"
  },
  "language_info": {
   "codemirror_mode": {
    "name": "ipython",
    "version": 3
   },
   "file_extension": ".py",
   "mimetype": "text/x-python",
   "name": "python",
   "nbconvert_exporter": "python",
   "pygments_lexer": "ipython3",
   "version": "3.7.3"
  }
 },
 "nbformat": 4,
 "nbformat_minor": 2
}
