{
 "cells": [
  {
   "cell_type": "markdown",
   "metadata": {},
   "source": [
    "# UnionFind data structure - O(mn) run time, O(mn) space"
   ]
  },
  {
   "cell_type": "markdown",
   "metadata": {},
   "source": [
    "# Depth First Search - O(mn) run time, O(mn) space"
   ]
  },
  {
   "cell_type": "code",
   "execution_count": 1,
   "metadata": {},
   "outputs": [],
   "source": [
    "from typing import List\n",
    "\n",
    "class Solution:\n",
    "    def numIslands(self, grid: List[List[str]]) -> int:\n",
    "        if grid == None:\n",
    "            return 0\n",
    "        elif len(grid) == 0:\n",
    "            return 0\n",
    "        \n",
    "        numRows = len(grid)\n",
    "        numColumns = len(grid[0])\n",
    "        numIslands = 0\n",
    "        \n",
    "        for r in range(numRows):\n",
    "            for c in range(numColumns):\n",
    "                if grid[r][c] == '1':\n",
    "                    numIslands += 1\n",
    "                    self.dfs(grid, r, c)\n",
    "        \n",
    "        return numIslands\n",
    "    \n",
    "    def dfs(self, grid: List[List[str]], r: int, c: int) :\n",
    "        numRows = len(grid)\n",
    "        numColumns = len(grid[0])\n",
    "        \n",
    "        if r < 0 or c < 0 or r >= numRows or c >= numColumns or grid[r][c] == '0':\n",
    "            return grid\n",
    "        \n",
    "        grid[r][c] = '0'\n",
    "        self.dfs(grid, r - 1, c)\n",
    "        self.dfs(grid, r + 1, c)\n",
    "        self.dfs(grid, r, c - 1)\n",
    "        self.dfs(grid, r, c + 1)\n",
    "        \n",
    "        return "
   ]
  },
  {
   "cell_type": "markdown",
   "metadata": {},
   "source": [
    "# Breadth First Search - O(mn) run time, O(mn) space"
   ]
  },
  {
   "cell_type": "code",
   "execution_count": 2,
   "metadata": {},
   "outputs": [],
   "source": [
    "from typing import List\n",
    "\n",
    "class Solution:\n",
    "    def numIslands(self, grid: List[List[str]]) -> int:\n",
    "        if grid == None:\n",
    "            return 0\n",
    "        elif len(grid) == 0:\n",
    "            return 0\n",
    "        \n",
    "        numRows = len(grid)\n",
    "        numColumns = len(grid[0])\n",
    "        numIslands = 0\n",
    "        \n",
    "        for r in range(numRows):\n",
    "            for c in range(numColumns):\n",
    "                if grid[r][c] == '1':\n",
    "                    numIslands += 1\n",
    "                    \n",
    "                    grid[r][c] = '0'\n",
    "                    neighbors = []\n",
    "                    neighbors.append((r, c))\n",
    "                    \n",
    "                    while len(neighbors) != 0:\n",
    "                        row, col = neighbors.pop(0)\n",
    "                        \n",
    "                        if row - 1 >= 0 and grid[row - 1][col] == '1':\n",
    "                            neighbors.append(((row - 1), col))\n",
    "                            grid[row - 1][col] = '0'\n",
    "                            \n",
    "                        if row + 1 < numRows and grid[row + 1][col] == '1':\n",
    "                            neighbors.append(((row + 1), col))\n",
    "                            grid[row + 1][col] = '0'\n",
    "                            \n",
    "                        if col - 1 >= 0 and grid[row][col - 1] == '1':\n",
    "                            neighbors.append((row, (col - 1)))\n",
    "                            grid[row][col - 1] = '0'\n",
    "                            \n",
    "                        if col + 1 < numColumns and grid[row][col + 1] == '1':\n",
    "                            neighbors.append((row, (col + 1)))\n",
    "                            grid[row][col + 1] = '0'\n",
    "                                             \n",
    "        return numIslands"
   ]
  },
  {
   "cell_type": "markdown",
   "metadata": {},
   "source": [
    "# Breadth First Search - O(mn) run time, O(min(m, n)) space"
   ]
  },
  {
   "cell_type": "code",
   "execution_count": 3,
   "metadata": {},
   "outputs": [],
   "source": [
    "from typing import List\n",
    "\n",
    "class Solution:\n",
    "    def numIslands(self, grid: List[List[str]]) -> int:\n",
    "        if grid == None:\n",
    "            return 0\n",
    "        elif len(grid) == 0:\n",
    "            return 0\n",
    "        \n",
    "        numRows = len(grid)\n",
    "        numColumns = len(grid[0])\n",
    "        numIslands = 0\n",
    "        \n",
    "        for r in range(numRows):\n",
    "            for c in range(numColumns):\n",
    "                if grid[r][c] == '1':\n",
    "                    numIslands += 1\n",
    "                    \n",
    "                    grid[r][c] = '0'\n",
    "                    neighbors = []\n",
    "                    neighbors.append(r * numColumns + c)\n",
    "                    \n",
    "                    while len(neighbors) != 0:\n",
    "                        curr = neighbors.pop(0)\n",
    "                        row = curr // numColumns\n",
    "                        col = curr % numColumns\n",
    "                        \n",
    "                        if row - 1 >= 0 and grid[row - 1][col] == '1':\n",
    "                            neighbors.append((row - 1) * numColumns + col)\n",
    "                            grid[row - 1][col] = '0'\n",
    "                            \n",
    "                        if row + 1 < numRows and grid[row + 1][col] == '1':\n",
    "                            neighbors.append((row + 1) * numColumns + col)\n",
    "                            grid[row + 1][col] = '0'\n",
    "                            \n",
    "                        if col - 1 >= 0 and grid[row][col - 1] == '1':\n",
    "                            neighbors.append(row * numColumns + (col - 1))\n",
    "                            grid[row][col - 1] = '0'\n",
    "                            \n",
    "                        if col + 1 < numColumns and grid[row][col + 1] == '1':\n",
    "                            neighbors.append(row * numColumns + (col + 1))\n",
    "                            grid[row][col + 1] = '0'\n",
    "                                             \n",
    "        return numIslands"
   ]
  },
  {
   "cell_type": "code",
   "execution_count": 4,
   "metadata": {},
   "outputs": [
    {
     "data": {
      "text/plain": [
       "1"
      ]
     },
     "execution_count": 4,
     "metadata": {},
     "output_type": "execute_result"
    }
   ],
   "source": [
    "instance = Solution()\n",
    "instance.numIslands([[\"1\",\"1\",\"1\",\"1\",\"0\"],[\"1\",\"1\",\"0\",\"1\",\"0\"],[\"1\",\"1\",\"0\",\"0\",\"0\"],[\"0\",\"0\",\"0\",\"0\",\"0\"]])"
   ]
  }
 ],
 "metadata": {
  "kernelspec": {
   "display_name": "Python 3",
   "language": "python",
   "name": "python3"
  },
  "language_info": {
   "codemirror_mode": {
    "name": "ipython",
    "version": 3
   },
   "file_extension": ".py",
   "mimetype": "text/x-python",
   "name": "python",
   "nbconvert_exporter": "python",
   "pygments_lexer": "ipython3",
   "version": "3.7.3"
  }
 },
 "nbformat": 4,
 "nbformat_minor": 2
}
