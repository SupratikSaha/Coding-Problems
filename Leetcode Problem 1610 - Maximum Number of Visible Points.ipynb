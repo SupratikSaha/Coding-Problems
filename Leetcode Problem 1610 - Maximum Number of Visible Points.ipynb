{
 "cells": [
  {
   "cell_type": "markdown",
   "metadata": {},
   "source": [
    "    Problem Statement\n",
    "\n",
    "    You are given an array points, an integer angle, and your location, where location = [posx, posy] and points[i] = [xi, yi] both denote integral coordinates on the X-Y plane.\n",
    "\n",
    "    Initially, you are facing directly east from your position. You cannot move from your position, but you can rotate. In other words, posx and posy cannot be changed. Your field of view in degrees is represented by angle, determining how wide you can see from any given view direction. Let d be the amount in degrees that you rotate counterclockwise. Then, your field of view is the inclusive range of angles [d - angle/2, d + angle/2].\n",
    "\n",
    "    Your browser does not support the video tag or this video format.\n",
    "\n",
    "    You can see some set of points if, for each point, the angle formed by the point, your position, and the immediate east direction from your position is in your field of view.\n",
    "\n",
    "    There can be multiple points at one coordinate. There may be points at your location, and you can always see these points regardless of your rotation. Points do not obstruct your vision to other points.\n",
    "\n",
    "    Return the maximum number of points you can see.\n",
    "\n",
    "\n",
    "\n",
    "    Example 1:\n",
    "\n",
    "    Input: points = [[2,1],[2,2],[3,3]], angle = 90, location = [1,1]\n",
    "    Output: 3\n",
    "    Explanation: The shaded region represents your field of view. All points can be made visible in your field of view, including [3,3] even though [2,2] is in front and in the same line of sight.\n",
    "\n",
    "    Example 2:\n",
    "\n",
    "    Input: points = [[2,1],[2,2],[3,4],[1,1]], angle = 90, location = [1,1]\n",
    "    Output: 4\n",
    "    Explanation: All points can be made visible in your field of view, including the one at your location.\n",
    "\n",
    "    Example 3:\n",
    "\n",
    "    Input: points = [[1,0],[2,1]], angle = 13, location = [1,1]\n",
    "    Output: 1\n",
    "    Explanation: You can only see one of the two points, as shown above.\n",
    "\n",
    "\n",
    "\n",
    "    Constraints:\n",
    "\n",
    "        1 <= points.length <= 105\n",
    "        points[i].length == 2\n",
    "        location.length == 2\n",
    "        0 <= angle < 360\n",
    "        0 <= posx, posy, xi, yi <= 100"
   ]
  },
  {
   "cell_type": "markdown",
   "metadata": {},
   "source": [
    "# Radians and Sliding Window - O(N log N) runtime, O(N) space"
   ]
  },
  {
   "cell_type": "code",
   "execution_count": 6,
   "metadata": {},
   "outputs": [],
   "source": [
    "from typing import List\n",
    "import math\n",
    "\n",
    "class Solution:\n",
    "    def visiblePoints(self, points: List[List[int]], angle: int, location: List[int]) -> int:\n",
    "        arr, extra = [], 0\n",
    "        xx, yy = location\n",
    "        \n",
    "        for x, y in points:\n",
    "            if x == xx and y == yy:\n",
    "                extra += 1\n",
    "                continue\n",
    "            arr.append(math.atan2(y - yy, x - xx))\n",
    "        \n",
    "        arr.sort()\n",
    "        arr = arr + [x + 2.0 * math.pi for x in arr]\n",
    "        angle = math.pi * angle / 180\n",
    "        \n",
    "        l = ans = 0\n",
    "        for r in range(len(arr)):\n",
    "            while arr[r] - arr[l] > angle:\n",
    "                l += 1\n",
    "            ans = max(ans, r - l + 1)\n",
    "            \n",
    "        return ans + extra"
   ]
  },
  {
   "cell_type": "code",
   "execution_count": 7,
   "metadata": {},
   "outputs": [
    {
     "data": {
      "text/plain": [
       "4"
      ]
     },
     "execution_count": 7,
     "metadata": {},
     "output_type": "execute_result"
    }
   ],
   "source": [
    "instance = Solution()\n",
    "instance.visiblePoints([[2,1],[2,2],[3,4],[1,1]], 90, [1,1])"
   ]
  }
 ],
 "metadata": {
  "kernelspec": {
   "display_name": "Python 3",
   "language": "python",
   "name": "python3"
  },
  "language_info": {
   "codemirror_mode": {
    "name": "ipython",
    "version": 3
   },
   "file_extension": ".py",
   "mimetype": "text/x-python",
   "name": "python",
   "nbconvert_exporter": "python",
   "pygments_lexer": "ipython3",
   "version": "3.7.3"
  }
 },
 "nbformat": 4,
 "nbformat_minor": 2
}
