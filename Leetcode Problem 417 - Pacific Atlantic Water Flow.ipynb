{
 "cells": [
  {
   "cell_type": "markdown",
   "metadata": {},
   "source": [
    "Problem Statement. <br/>\n",
    "\n",
    "Given an m x n matrix of non-negative integers representing the height of each unit cell in a continent, the \"Pacific ocean\" touches the left and top edges of the matrix and the \"Atlantic ocean\" touches the right and bottom edges. <br/>\n",
    "\n",
    "Water can only flow in four directions (up, down, left, or right) from a cell to another one with height equal or lower. <br/>\n",
    "\n",
    "Find the list of grid coordinates where water can flow to both the Pacific and Atlantic ocean. <br/>\n",
    "\n",
    "Note: <br/>\n",
    "\n",
    "    The order of returned grid coordinates does not matter. <br/>\n",
    "    Both m and n are less than 150. <br/>\n",
    "\n",
    " \n",
    "\n",
    "Example: <br/>\n",
    "\n",
    "Given the following 5x5 matrix: <br/>\n",
    "\n",
    "  Pacific ~   ~   ~   ~   ~  <br/>\n",
    "       ~  1   2   2   3  (5) * <br/>\n",
    "       ~  3   2   3  (4) (4) * <br/>\n",
    "       ~  2   4  (5)  3   1  * <br/>\n",
    "       ~ (6) (7)  1   4   5  * <br/>\n",
    "       ~ (5)  1   1   2   4  * <br/>\n",
    "          *   *   *   *   * Atlantic <br/>\n",
    "\n",
    "Return: <br/>\n",
    "\n",
    "[[0, 4], [1, 3], [1, 4], [2, 2], [3, 0], [3, 1], [4, 0]] (positions with parentheses in above matrix)."
   ]
  },
  {
   "cell_type": "markdown",
   "metadata": {},
   "source": [
    "# BFS - O(M * N) runtime, O(M * N) space, where M and N are the number of rows and columns of the input matrix"
   ]
  },
  {
   "cell_type": "code",
   "execution_count": 1,
   "metadata": {},
   "outputs": [],
   "source": [
    "from typing import List, Set, Tuple\n",
    "from collections import deque\n",
    "\n",
    "class Solution:\n",
    "    def pacificAtlantic(self, matrix: List[List[int]]) -> List[List[int]]:\n",
    "                \n",
    "        if not matrix:\n",
    "            return matrix\n",
    "        \n",
    "        m, n = len(matrix), len(matrix[0])\n",
    "        \n",
    "        queue_p = [(0, i) for i in range(n)] + [(i, 0) for i in range(1, m)]\n",
    "        queue_a = [(m-1, i) for i in range(n)] + [(i, n-1) for i in range(m-1)]\n",
    "\n",
    "        sp = self.helper(queue_p, matrix, m, n)\n",
    "        sa = self.helper(queue_a, matrix, m, n)\n",
    "        \n",
    "        res = sp & sa \n",
    "        res = [list(item) for item in res]\n",
    "        \n",
    "        return res\n",
    "    \n",
    "    def helper(self, queue: List[Tuple[int, int]], matrix: List[List[int]], m: int, n: int) -> Set[Tuple[int, int]]: \n",
    "            queue = deque(queue)\n",
    "            seen = set(queue)\n",
    "            while queue: \n",
    "                r, c = queue.popleft()\n",
    "                for dr, dc in [(0, 1), (1, 0), (0, -1), (-1, 0)]: \n",
    "                    nr, nc = r + dr, c + dc\n",
    "                    if 0<=nr<m and 0<=nc<n and ((nr, nc) not in seen) and (matrix[nr][nc] >= matrix[r][c]): \n",
    "                        queue.append((nr, nc))\n",
    "                        seen.add((nr, nc))\n",
    "            return seen"
   ]
  },
  {
   "cell_type": "code",
   "execution_count": 2,
   "metadata": {},
   "outputs": [
    {
     "data": {
      "text/plain": [
       "[[1, 3], [3, 0], [3, 1], [1, 4], [0, 4], [2, 2], [4, 0]]"
      ]
     },
     "execution_count": 2,
     "metadata": {},
     "output_type": "execute_result"
    }
   ],
   "source": [
    "instance = Solution()\n",
    "instance.pacificAtlantic([[1,2,2,3,5],[3,2,3,4,4],[2,4,5,3,1],[6,7,1,4,5],[5,1,1,2,4]])"
   ]
  }
 ],
 "metadata": {
  "kernelspec": {
   "display_name": "Python 3",
   "language": "python",
   "name": "python3"
  },
  "language_info": {
   "codemirror_mode": {
    "name": "ipython",
    "version": 3
   },
   "file_extension": ".py",
   "mimetype": "text/x-python",
   "name": "python",
   "nbconvert_exporter": "python",
   "pygments_lexer": "ipython3",
   "version": "3.7.3"
  }
 },
 "nbformat": 4,
 "nbformat_minor": 2
}
