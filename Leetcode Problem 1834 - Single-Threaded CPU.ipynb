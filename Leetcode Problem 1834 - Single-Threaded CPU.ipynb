{
 "cells": [
  {
   "cell_type": "markdown",
   "metadata": {},
   "source": [
    "Problem Statement.\n",
    "\n",
    "You are given n​​​​​​ tasks labeled from 0 to n - 1 represented by a 2D integer array tasks, where tasks[i] = [enqueueTimei, processingTimei] means that the i​​​​​​th​​​​ task will be available to process at enqueueTimei and will take processingTimei to finish processing.\n",
    "\n",
    "You have a single-threaded CPU that can process at most one task at a time and will act in the following way:\n",
    "\n",
    "    If the CPU is idle and there are no available tasks to process, the CPU remains idle.\n",
    "    If the CPU is idle and there are available tasks, the CPU will choose the one with the shortest processing time. If multiple tasks have the same shortest processing time, it will choose the task with the smallest index.\n",
    "    Once a task is started, the CPU will process the entire task without stopping.\n",
    "    The CPU can finish a task then start a new one instantly.\n",
    "\n",
    "Return the order in which the CPU will process the tasks.\n",
    "\n",
    " \n",
    "\n",
    "Example 1:\n",
    "\n",
    "Input: tasks = [[1,2],[2,4],[3,2],[4,1]]\n",
    "Output: [0,2,3,1]\n",
    "Explanation: The events go as follows: \n",
    "- At time = 1, task 0 is available to process. Available tasks = {0}.\n",
    "- Also at time = 1, the idle CPU starts processing task 0. Available tasks = {}.\n",
    "- At time = 2, task 1 is available to process. Available tasks = {1}.\n",
    "- At time = 3, task 2 is available to process. Available tasks = {1, 2}.\n",
    "- Also at time = 3, the CPU finishes task 0 and starts processing task 2 as it is the shortest. Available tasks = {1}.\n",
    "- At time = 4, task 3 is available to process. Available tasks = {1, 3}.\n",
    "- At time = 5, the CPU finishes task 2 and starts processing task 3 as it is the shortest. Available tasks = {1}.\n",
    "- At time = 6, the CPU finishes task 3 and starts processing task 1. Available tasks = {}.\n",
    "- At time = 10, the CPU finishes task 1 and becomes idle.\n",
    "\n",
    "Example 2:\n",
    "\n",
    "Input: tasks = [[7,10],[7,12],[7,5],[7,4],[7,2]]\n",
    "Output: [4,3,2,0,1]\n",
    "Explanation: The events go as follows:\n",
    "- At time = 7, all the tasks become available. Available tasks = {0,1,2,3,4}.\n",
    "- Also at time = 7, the idle CPU starts processing task 4. Available tasks = {0,1,2,3}.\n",
    "- At time = 9, the CPU finishes task 4 and starts processing task 3. Available tasks = {0,1,2}.\n",
    "- At time = 13, the CPU finishes task 3 and starts processing task 2. Available tasks = {0,1}.\n",
    "- At time = 18, the CPU finishes task 2 and starts processing task 0. Available tasks = {1}.\n",
    "- At time = 28, the CPU finishes task 0 and starts processing task 1. Available tasks = {}.\n",
    "- At time = 40, the CPU finishes task 1 and becomes idle.\n",
    "\n",
    " \n",
    "\n",
    "Constraints:\n",
    "\n",
    "    tasks.length == n\n",
    "    1 <= n <= 10^5\n",
    "    1 <= enqueueTimei, processingTimei <= 10^9"
   ]
  },
  {
   "cell_type": "markdown",
   "metadata": {},
   "source": [
    "# Sort and Heap - O(N Log N) runtime, O(N) space"
   ]
  },
  {
   "cell_type": "code",
   "execution_count": 3,
   "metadata": {},
   "outputs": [],
   "source": [
    "from typing import List\n",
    "from heapq import heappush, heappop\n",
    "\n",
    "class Solution:\n",
    "    def getOrder(self, tasks: List[List[int]]) -> List[int]:\n",
    "        tasks = [x + [i] for i, x in enumerate(tasks)]\n",
    "        tasks.sort(key=lambda x: x[0])\n",
    "\n",
    "        processHeap = []\n",
    "        processOrder = []\n",
    "        currTime = tasks[0][0]\n",
    "        i, n = 0, len(tasks)\n",
    "        \n",
    "        while i < n:\n",
    "            task = tasks[i]\n",
    "            while processHeap and currTime < task[0]:\n",
    "                poppedtask = heappop(processHeap)\n",
    "                processOrder.append(poppedtask[1])\n",
    "                currTime = max(currTime + poppedtask[0], poppedtask[0] + poppedtask[2])\n",
    "                \n",
    "            while i < n-1 and tasks[i+1][0] == tasks[i][0]:\n",
    "                heappush(processHeap, (task[1], task[2], task[0]))\n",
    "                i += 1\n",
    "                task = tasks[i]\n",
    "                \n",
    "            heappush(processHeap, (task[1], task[2], task[0]))\n",
    "            i+= 1\n",
    "        \n",
    "        while processHeap: \n",
    "            processOrder.append(heappop(processHeap)[1])\n",
    "            \n",
    "        return processOrder"
   ]
  },
  {
   "cell_type": "markdown",
   "metadata": {},
   "source": [
    "# Simpler Sort and Heap - O(N Log N) runtime, O(N) space"
   ]
  },
  {
   "cell_type": "code",
   "execution_count": 5,
   "metadata": {},
   "outputs": [],
   "source": [
    "from typing import List\n",
    "from heapq import heappush, heappop\n",
    "\n",
    "class Solution:\n",
    "    def getOrder(self, tasks: List[List[int]]) -> List[int]:\n",
    "        res = []\n",
    "        tasks = sorted([(t[0], t[1], i) for i, t in enumerate(tasks)])\n",
    "        i = 0\n",
    "        h = []\n",
    "        time = tasks[0][0]\n",
    "        while len(res) < len(tasks):\n",
    "            while (i < len(tasks)) and (tasks[i][0] <= time):\n",
    "                heappush(h, (tasks[i][1], tasks[i][2])) # (processing_time, original_index)\n",
    "                i += 1\n",
    "            if h:\n",
    "                t_diff, original_index = heappop(h)\n",
    "                time += t_diff\n",
    "                res.append(original_index)\n",
    "            elif i < len(tasks):\n",
    "                time = tasks[i][0]\n",
    "        return res"
   ]
  },
  {
   "cell_type": "code",
   "execution_count": 6,
   "metadata": {},
   "outputs": [
    {
     "data": {
      "text/plain": [
       "[0, 2, 3, 1]"
      ]
     },
     "execution_count": 6,
     "metadata": {},
     "output_type": "execute_result"
    }
   ],
   "source": [
    "instance = Solution()\n",
    "instance.getOrder([[1,2],[2,4],[3,2],[4,1]])"
   ]
  }
 ],
 "metadata": {
  "kernelspec": {
   "display_name": "Python 3",
   "language": "python",
   "name": "python3"
  },
  "language_info": {
   "codemirror_mode": {
    "name": "ipython",
    "version": 3
   },
   "file_extension": ".py",
   "mimetype": "text/x-python",
   "name": "python",
   "nbconvert_exporter": "python",
   "pygments_lexer": "ipython3",
   "version": "3.7.3"
  }
 },
 "nbformat": 4,
 "nbformat_minor": 2
}
