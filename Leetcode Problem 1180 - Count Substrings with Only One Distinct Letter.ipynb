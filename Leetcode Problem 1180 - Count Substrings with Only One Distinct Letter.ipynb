{
 "cells": [
  {
   "cell_type": "markdown",
   "metadata": {},
   "source": [
    "Problem Statement.\n",
    "\n",
    "Given a string S, return the number of substrings that have only one distinct letter.\n",
    "\n",
    " \n",
    "\n",
    "Example 1:\n",
    "\n",
    "Input: S = \"aaaba\"\n",
    "Output: 8\n",
    "Explanation: The substrings with one distinct letter are \"aaa\", \"aa\", \"a\", \"b\".\n",
    "\"aaa\" occurs 1 time.\n",
    "\"aa\" occurs 2 times.\n",
    "\"a\" occurs 4 times.\n",
    "\"b\" occurs 1 time.\n",
    "So the answer is 1 + 2 + 4 + 1 = 8.\n",
    "\n",
    "Example 2:\n",
    "\n",
    "Input: S = \"aaaaaaaaaa\"\n",
    "Output: 55\n",
    "\n",
    " \n",
    "\n",
    "Constraints:\n",
    "\n",
    "    1 <= S.length <= 1000\n",
    "    S[i] consists of only lowercase English letters."
   ]
  },
  {
   "cell_type": "markdown",
   "metadata": {},
   "source": [
    "# String Traversal - O(N) runtime, O(1) space"
   ]
  },
  {
   "cell_type": "code",
   "execution_count": 1,
   "metadata": {},
   "outputs": [],
   "source": [
    "class Solution:\n",
    "    def countLetters(self, S: str) -> int:\n",
    "        currChar, currLen = None, 0\n",
    "        result = 0\n",
    "        \n",
    "        for char in S:\n",
    "            if char != currChar:\n",
    "                result += currLen * (currLen + 1) // 2\n",
    "                currLen = 1\n",
    "                currChar = char\n",
    "            else:\n",
    "                currLen += 1\n",
    "                \n",
    "        result += currLen * (currLen + 1) // 2\n",
    "                \n",
    "        return result"
   ]
  },
  {
   "cell_type": "markdown",
   "metadata": {},
   "source": [
    "# Two Pointers - O(N) runtime, O(1) space"
   ]
  },
  {
   "cell_type": "code",
   "execution_count": 3,
   "metadata": {},
   "outputs": [],
   "source": [
    "class Solution:\n",
    "    def countLetters(self, S: str) -> int:\n",
    "        total = left = 0\n",
    "        n = len(S)\n",
    "\n",
    "        for right in range(n + 1):\n",
    "            if right == n or S[left] != S[right]:\n",
    "                len_substring = right - left\n",
    "                total += (1 + len_substring) * len_substring // 2\n",
    "                left = right\n",
    "        return total"
   ]
  },
  {
   "cell_type": "markdown",
   "metadata": {},
   "source": [
    "# Bottom Up DP - O(N) runtime, O(1) space"
   ]
  },
  {
   "cell_type": "code",
   "execution_count": 5,
   "metadata": {},
   "outputs": [],
   "source": [
    "class Solution:\n",
    "    def countLetters(self, S: str) -> int:\n",
    "        total = 1\n",
    "        count = 1\n",
    "        for i in range(1, len(S)):\n",
    "            if S[i] == S[i-1]:\n",
    "                count += 1\n",
    "            else:\n",
    "                count = 1\n",
    "            total += count\n",
    "        return total"
   ]
  },
  {
   "cell_type": "code",
   "execution_count": 6,
   "metadata": {},
   "outputs": [
    {
     "data": {
      "text/plain": [
       "8"
      ]
     },
     "execution_count": 6,
     "metadata": {},
     "output_type": "execute_result"
    }
   ],
   "source": [
    "instance = Solution()\n",
    "instance.countLetters(\"aaaba\")"
   ]
  }
 ],
 "metadata": {
  "kernelspec": {
   "display_name": "Python 3",
   "language": "python",
   "name": "python3"
  },
  "language_info": {
   "codemirror_mode": {
    "name": "ipython",
    "version": 3
   },
   "file_extension": ".py",
   "mimetype": "text/x-python",
   "name": "python",
   "nbconvert_exporter": "python",
   "pygments_lexer": "ipython3",
   "version": "3.7.3"
  }
 },
 "nbformat": 4,
 "nbformat_minor": 2
}
