{
 "cells": [
  {
   "cell_type": "markdown",
   "metadata": {},
   "source": [
    "Problem Statement.\n",
    "\n",
    "Given a list paths of directory info, including the directory path, and all the files with contents in this directory, return all the duplicate files in the file system in terms of their paths. You may return the answer in any order.\n",
    "\n",
    "A group of duplicate files consists of at least two files that have the same content.\n",
    "\n",
    "A single directory info string in the input list has the following format:\n",
    "\n",
    "    \"root/d1/d2/.../dm f1.txt(f1_content) f2.txt(f2_content) ... fn.txt(fn_content)\"\n",
    "\n",
    "It means there are n files (f1.txt, f2.txt ... fn.txt) with content (f1_content, f2_content ... fn_content) respectively in the directory \"root/d1/d2/.../dm\". Note that n >= 1 and m >= 0. If m = 0, it means the directory is just the root directory.\n",
    "\n",
    "The output is a list of groups of duplicate file paths. For each group, it contains all the file paths of the files that have the same content. A file path is a string that has the following format:\n",
    "\n",
    "    \"directory_path/file_name.txt\"\n",
    "\n",
    " \n",
    "\n",
    "Example 1:\n",
    "\n",
    "Input: paths = [\"root/a 1.txt(abcd) 2.txt(efgh)\",\"root/c 3.txt(abcd)\",\"root/c/d 4.txt(efgh)\",\"root 4.txt(efgh)\"]\n",
    "Output: [[\"root/a/2.txt\",\"root/c/d/4.txt\",\"root/4.txt\"],[\"root/a/1.txt\",\"root/c/3.txt\"]]\n",
    "\n",
    "Example 2:\n",
    "\n",
    "Input: paths = [\"root/a 1.txt(abcd) 2.txt(efgh)\",\"root/c 3.txt(abcd)\",\"root/c/d 4.txt(efgh)\"]\n",
    "Output: [[\"root/a/2.txt\",\"root/c/d/4.txt\"],[\"root/a/1.txt\",\"root/c/3.txt\"]]\n",
    "\n",
    " \n",
    "\n",
    "Constraints:\n",
    "\n",
    "    1 <= paths.length <= 2 * 104\n",
    "    1 <= paths[i].length <= 3000\n",
    "    1 <= sum(paths[i].length) <= 5 * 105\n",
    "    paths[i] consist of English letters, digits, '/', '.', '(', ')', and ' '.\n",
    "    You may assume no files or directories share the same name in the same directory.\n",
    "    You may assume each given directory info represents a unique directory. A single blank space separates the directory path and file info.\n",
    "\n",
    " \n",
    "\n",
    "Follow up:\n",
    "\n",
    "    Imagine you are given a real file system, how will you search files? DFS or BFS?\n",
    "    If the file content is very large (GB level), how will you modify your solution?\n",
    "    If you can only read the file by 1kb each time, how will you modify your solution?\n",
    "    What is the time complexity of your modified solution? \n",
    "    What is the most time-consuming part and memory-consuming part of it? How to optimize?\n",
    "    How to make sure the duplicated files you find are not false positive?"
   ]
  },
  {
   "cell_type": "markdown",
   "metadata": {},
   "source": [
    "# Hash table - O(P * N * L) runtime, O(P * N * L) space, where P is the number of Paths, N is the number of files i each path and L is the length of each file"
   ]
  },
  {
   "cell_type": "code",
   "execution_count": 1,
   "metadata": {},
   "outputs": [],
   "source": [
    "from typing import List\n",
    "from collections import defaultdict\n",
    "\n",
    "class Solution:\n",
    "    def findDuplicate(self, paths: List[str]) -> List[List[str]]:\n",
    "        fileDict = defaultdict(list)\n",
    "        \n",
    "        for path in paths:\n",
    "            pathList = path.split()\n",
    "            dirName = pathList[0]\n",
    "            for i in range(1, len(pathList)):\n",
    "                contentIndex = pathList[i].index('(')\n",
    "                fileDict[pathList[i][contentIndex:-1]].append(dirName + '/' + pathList[i][:contentIndex])\n",
    "                \n",
    "        return [v for v in fileDict.values() if len(v) > 1]"
   ]
  },
  {
   "cell_type": "markdown",
   "metadata": {},
   "source": [
    "# Simpler Hash table - O(P * N * L) runtime, O(P * N * L) space, where P is the number of Paths, N is the number of files i each path and L is the length of each file"
   ]
  },
  {
   "cell_type": "code",
   "execution_count": 2,
   "metadata": {},
   "outputs": [],
   "source": [
    "from typing import List\n",
    "from collections import defaultdict\n",
    "\n",
    "class Solution:\n",
    "    def findDuplicate(self, paths: List[str]) -> List[List[str]]:\n",
    "        fileDict = defaultdict(list)\n",
    "        \n",
    "        for path in paths:\n",
    "            pathList = path.split()\n",
    "            dirName = pathList[0]\n",
    "            for i in range(1, len(pathList)):\n",
    "                contents = pathList[i].split('(')\n",
    "                fileDict[contents[1][:-1]].append(dirName + '/' + contents[0])\n",
    "                \n",
    "        return [v for v in fileDict.values() if len(v) > 1]"
   ]
  },
  {
   "cell_type": "code",
   "execution_count": 3,
   "metadata": {},
   "outputs": [
    {
     "data": {
      "text/plain": [
       "[['root/a/1.txt', 'root/c/3.txt'], ['root/a/2.txt', 'root/c/d/4.txt']]"
      ]
     },
     "execution_count": 3,
     "metadata": {},
     "output_type": "execute_result"
    }
   ],
   "source": [
    "instance = Solution()\n",
    "instance.findDuplicate([\"root/a 1.txt(abcd) 2.txt(efgh)\",\"root/c 3.txt(abcd)\",\"root/c/d 4.txt(efgh)\"])"
   ]
  }
 ],
 "metadata": {
  "kernelspec": {
   "display_name": "Python 3",
   "language": "python",
   "name": "python3"
  },
  "language_info": {
   "codemirror_mode": {
    "name": "ipython",
    "version": 3
   },
   "file_extension": ".py",
   "mimetype": "text/x-python",
   "name": "python",
   "nbconvert_exporter": "python",
   "pygments_lexer": "ipython3",
   "version": "3.7.3"
  }
 },
 "nbformat": 4,
 "nbformat_minor": 2
}
