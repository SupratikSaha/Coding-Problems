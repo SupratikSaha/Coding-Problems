{
 "cells": [
  {
   "cell_type": "markdown",
   "metadata": {},
   "source": [
    "Problem Statement.\n",
    "\n",
    "Given two sparse matrices mat1 of size m x k and mat2 of size k x n, return the result of mat1 x mat2. You may assume that multiplication is always possible.\n",
    "\n",
    " \n",
    "\n",
    "Example 1:\n",
    "\n",
    "Input: mat1 = [[1,0,0],[-1,0,3]], mat2 = [[7,0,0],[0,0,0],[0,0,1]]\n",
    "Output: [[7,0,0],[-7,0,3]]\n",
    "\n",
    "Example 2:\n",
    "\n",
    "Input: mat1 = [[0]], mat2 = [[0]]\n",
    "Output: [[0]]\n",
    "\n",
    " \n",
    "\n",
    "Constraints:\n",
    "\n",
    "    m == mat1.length\n",
    "    k == mat1[i].length == mat2.length\n",
    "    n == mat2[i].length\n",
    "    1 <= m, n, k <= 100\n",
    "    -100 <= mat1[i][j], mat2[i][j] <= 100"
   ]
  },
  {
   "cell_type": "markdown",
   "metadata": {},
   "source": [
    "# Brute Force - O(M * N * K) runtime, O(M * N) space"
   ]
  },
  {
   "cell_type": "code",
   "execution_count": 1,
   "metadata": {},
   "outputs": [],
   "source": [
    "from typing import List\n",
    "\n",
    "class Solution:\n",
    "    def multiply(self, mat1: List[List[int]], mat2: List[List[int]]) -> List[List[int]]:\n",
    "        m, n = len(mat1), len(mat2[0])\n",
    "        result = [[0] * n for _ in range(m)]\n",
    "        \n",
    "        for i in range(m):\n",
    "            for j in range(n):\n",
    "                for k in range(len(mat2)):\n",
    "                    result[i][j] += mat1[i][k] * mat2[k][j]\n",
    "                        \n",
    "        return result"
   ]
  },
  {
   "cell_type": "markdown",
   "metadata": {},
   "source": [
    "# Optimized Brute Force - O(M * N * K) runtime, O(M * N) space"
   ]
  },
  {
   "cell_type": "code",
   "execution_count": 2,
   "metadata": {},
   "outputs": [],
   "source": [
    "from typing import List\n",
    "\n",
    "class Solution:\n",
    "    def multiply(self, mat1: List[List[int]], mat2: List[List[int]]) -> List[List[int]]:\n",
    "        m, n, o = len(mat1), len(mat2[0]), len(mat2)\n",
    "        result = [[0] * n for _ in range(m)]\n",
    "        \n",
    "        for i in range(m):\n",
    "            for k in range(o):\n",
    "                if mat1[i][k]:\n",
    "                    for j in range(n):\n",
    "                        result[i][j] += mat1[i][k] * mat2[k][j]\n",
    "                        \n",
    "        return result"
   ]
  },
  {
   "cell_type": "markdown",
   "metadata": {},
   "source": [
    "# Create Sparce Matrices - O(M * K + K * N + L1 * L2) runtime, O(M * K + K * N + M * N) space, where L1 and L2 are non zero elements in mat1 and mat2"
   ]
  },
  {
   "cell_type": "code",
   "execution_count": 3,
   "metadata": {},
   "outputs": [],
   "source": [
    "from typing import List\n",
    "\n",
    "class Solution:\n",
    "    def multiply(self, mat1: List[List[int]], mat2: List[List[int]]) -> List[List[int]]:\n",
    "        def sparselistcreate(mat):\n",
    "            row = len(mat) \n",
    "            col = len(mat[0])\n",
    "            sparselst = []\n",
    "            for r in range(row):\n",
    "                for c in range(col):\n",
    "                    if mat[r][c] != 0:\n",
    "                        sparselst.append((r,c))\n",
    "            return sparselst\n",
    "        \n",
    "        sparseA = sparselistcreate(mat1)\n",
    "        sparseB = sparselistcreate(mat2)\n",
    "        \n",
    "        rowa = len(mat1)\n",
    "        colb = len(mat2[0])\n",
    "        \n",
    "        opmat = [[0 for c in range(colb)] for r in range(rowa)]\n",
    "        \n",
    "        for ra,ca in sparseA:\n",
    "            for rb,cb in sparseB:\n",
    "                if ca == rb:\n",
    "                    opmat[ra][cb] += mat1[ra][ca] * mat2[rb][cb]\n",
    "        return opmat"
   ]
  },
  {
   "cell_type": "code",
   "execution_count": 4,
   "metadata": {},
   "outputs": [
    {
     "data": {
      "text/plain": [
       "[[7, 0, 0], [-7, 0, 3]]"
      ]
     },
     "execution_count": 4,
     "metadata": {},
     "output_type": "execute_result"
    }
   ],
   "source": [
    "instance = Solution()\n",
    "instance.multiply([[1,0,0],[-1,0,3]], [[7,0,0],[0,0,0],[0,0,1]])"
   ]
  }
 ],
 "metadata": {
  "kernelspec": {
   "display_name": "Python 3",
   "language": "python",
   "name": "python3"
  },
  "language_info": {
   "codemirror_mode": {
    "name": "ipython",
    "version": 3
   },
   "file_extension": ".py",
   "mimetype": "text/x-python",
   "name": "python",
   "nbconvert_exporter": "python",
   "pygments_lexer": "ipython3",
   "version": "3.7.3"
  }
 },
 "nbformat": 4,
 "nbformat_minor": 2
}
