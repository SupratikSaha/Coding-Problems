{
 "cells": [
  {
   "cell_type": "markdown",
   "metadata": {},
   "source": [
    "Problem Statement. <br/>\n",
    "\n",
    "Given the root of a binary tree, return the inorder traversal of its nodes' values. <br/>\n",
    "\n",
    "Example 1: <br/>\n",
    "Input: root = [1,null,2,3] <br/>\n",
    "Output: [1,3,2] <br/>\n",
    "\n",
    "Example 2: <br/>\n",
    "Input: root = [] <br/>\n",
    "Output: [] <br/>\n",
    "\n",
    "Example 3: <br/>\n",
    "Input: root = [1] <br/>\n",
    "Output: [1] <br/>\n",
    "\n",
    "Example 4: <br/>\n",
    "Input: root = [1,2] <br/>\n",
    "Output: [2,1] <br/>\n",
    "\n",
    "Example 5: <br/>\n",
    "Input: root = [1,null,2] <br/>\n",
    "Output: [1,2] <br/>\n",
    "\n",
    "Constraints: <br/>\n",
    "\n",
    "    The number of nodes in the tree is in the range [0, 100]. <br/>\n",
    "    -100 <= Node.val <= 100 <br/>\n",
    "\n",
    "Follow up: <br/>\n",
    "Recursive solution is trivial, could you do it iteratively?"
   ]
  },
  {
   "cell_type": "markdown",
   "metadata": {},
   "source": [
    "# Recursive - O(N) runtime, O(N) space "
   ]
  },
  {
   "cell_type": "code",
   "execution_count": 2,
   "metadata": {},
   "outputs": [],
   "source": [
    "from typing import List\n",
    "\n",
    "# Definition for a binary tree node.\n",
    "# class TreeNode:\n",
    "#     def __init__(self, val=0, left=None, right=None):\n",
    "#         self.val = val\n",
    "#         self.left = left\n",
    "#         self.right = right\n",
    "        \n",
    "class Solution:\n",
    "    def inorderTraversal(self, root: TreeNode) -> List[int]:\n",
    "        if not root:\n",
    "            return None\n",
    "        \n",
    "        self.result = []\n",
    "        self.inorderTraversalRecursive(root)\n",
    "        \n",
    "        return self.result\n",
    "    \n",
    "    def inorderTraversalRecursive(self, root: TreeNode) -> None:\n",
    "        \n",
    "        if not root:\n",
    "            return\n",
    "        \n",
    "        self.inorderTraversalRecursive(root.left)\n",
    "        self.result.append(root.val)\n",
    "        self.inorderTraversalRecursive(root.right)"
   ]
  },
  {
   "cell_type": "markdown",
   "metadata": {},
   "source": [
    "# Iterative - O(N) runtime, O(N) space"
   ]
  },
  {
   "cell_type": "code",
   "execution_count": 4,
   "metadata": {},
   "outputs": [],
   "source": [
    "from typing import List\n",
    "\n",
    "# Definition for a binary tree node.\n",
    "# class TreeNode:\n",
    "#     def __init__(self, val=0, left=None, right=None):\n",
    "#         self.val = val\n",
    "#         self.left = left\n",
    "#         self.right = right\n",
    "\n",
    "class Solution:\n",
    "    def inorderTraversal(self, root: TreeNode) -> List[int]:\n",
    "        if not root:\n",
    "            return None\n",
    "        \n",
    "        result, stack = [], []\n",
    "        curr = root\n",
    "        while curr or stack:\n",
    "            while curr:\n",
    "                stack.append(curr)\n",
    "                curr = curr.left\n",
    "                \n",
    "            curr = stack.pop()\n",
    "            result.append(curr.val)\n",
    "            curr = curr.right\n",
    "            \n",
    "        return result"
   ]
  },
  {
   "cell_type": "markdown",
   "metadata": {},
   "source": [
    "# Morris Traversal - O(N) runtime, O(N) space"
   ]
  },
  {
   "cell_type": "code",
   "execution_count": 5,
   "metadata": {},
   "outputs": [],
   "source": [
    "from typing import List\n",
    "\n",
    "# Definition for a binary tree node.\n",
    "# class TreeNode:\n",
    "#     def __init__(self, val=0, left=None, right=None):\n",
    "#         self.val = val\n",
    "#         self.left = left\n",
    "#         self.right = right\n",
    "        \n",
    "class Solution:\n",
    "    def inorderTraversal(self, root: TreeNode) -> List[int]:\n",
    "        if not root:\n",
    "            return None\n",
    "        \n",
    "        result = []\n",
    "        curr = root\n",
    "        while curr:\n",
    "            if not curr.left:\n",
    "                result.append(curr.val)\n",
    "                curr = curr.right\n",
    "            else:    \n",
    "                pre = curr.left\n",
    "                while pre.right:\n",
    "                    pre = pre.right\n",
    "                    \n",
    "                pre.right = curr\n",
    "                \n",
    "                curr.left, curr = None, curr.left\n",
    "            \n",
    "        return result"
   ]
  }
 ],
 "metadata": {
  "kernelspec": {
   "display_name": "Python 3",
   "language": "python",
   "name": "python3"
  },
  "language_info": {
   "codemirror_mode": {
    "name": "ipython",
    "version": 3
   },
   "file_extension": ".py",
   "mimetype": "text/x-python",
   "name": "python",
   "nbconvert_exporter": "python",
   "pygments_lexer": "ipython3",
   "version": "3.7.3"
  }
 },
 "nbformat": 4,
 "nbformat_minor": 2
}
