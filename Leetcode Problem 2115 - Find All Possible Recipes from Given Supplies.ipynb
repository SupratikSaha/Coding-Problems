{
 "cells": [
  {
   "cell_type": "markdown",
   "metadata": {},
   "source": [
    "Problem Statement.\n",
    "\n",
    "You have information about n different recipes. You are given a string array recipes and a 2D string array ingredients. The ith recipe has the name recipes[i], and you can create it if you have all the needed ingredients from ingredients[i]. Ingredients to a recipe may need to be created from other recipes, i.e., ingredients[i] may contain a string that is in recipes.\n",
    "\n",
    "You are also given a string array supplies containing all the ingredients that you initially have, and you have an infinite supply of all of them.\n",
    "\n",
    "Return a list of all the recipes that you can create. You may return the answer in any order.\n",
    "\n",
    "Note that two recipes may contain each other in their ingredients.\n",
    "\n",
    " \n",
    "\n",
    "Example 1:\n",
    "\n",
    "Input: recipes = [\"bread\"], ingredients = [[\"yeast\",\"flour\"]], supplies = [\"yeast\",\"flour\",\"corn\"]\n",
    "Output: [\"bread\"]\n",
    "Explanation:\n",
    "We can create \"bread\" since we have the ingredients \"yeast\" and \"flour\".\n",
    "\n",
    "Example 2:\n",
    "\n",
    "Input: recipes = [\"bread\",\"sandwich\"], ingredients = [[\"yeast\",\"flour\"],[\"bread\",\"meat\"]], supplies = [\"yeast\",\"flour\",\"meat\"]\n",
    "Output: [\"bread\",\"sandwich\"]\n",
    "Explanation:\n",
    "We can create \"bread\" since we have the ingredients \"yeast\" and \"flour\".\n",
    "We can create \"sandwich\" since we have the ingredient \"meat\" and can create the ingredient \"bread\".\n",
    "\n",
    "Example 3:\n",
    "\n",
    "Input: recipes = [\"bread\",\"sandwich\",\"burger\"], ingredients = [[\"yeast\",\"flour\"],[\"bread\",\"meat\"],[\"sandwich\",\"meat\",\"bread\"]], supplies = [\"yeast\",\"flour\",\"meat\"]\n",
    "Output: [\"bread\",\"sandwich\",\"burger\"]\n",
    "Explanation:\n",
    "We can create \"bread\" since we have the ingredients \"yeast\" and \"flour\".\n",
    "We can create \"sandwich\" since we have the ingredient \"meat\" and can create the ingredient \"bread\".\n",
    "We can create \"burger\" since we have the ingredient \"meat\" and can create the ingredients \"bread\" and \"sandwich\".\n",
    "\n",
    " \n",
    "\n",
    "Constraints:\n",
    "\n",
    "    n == recipes.length == ingredients.length\n",
    "    1 <= n <= 100\n",
    "    1 <= ingredients[i].length, supplies.length <= 100\n",
    "    1 <= recipes[i].length, ingredients[i][j].length, supplies[k].length <= 10\n",
    "    recipes[i], ingredients[i][j], and supplies[k] consist only of lowercase English letters.\n",
    "    All the values of recipes and supplies combined are unique.\n",
    "    Each ingredients[i] does not contain any duplicate values."
   ]
  },
  {
   "cell_type": "markdown",
   "metadata": {},
   "source": [
    "# DFS - O(R * I + S) runtime, O(R * I + S) space"
   ]
  },
  {
   "cell_type": "code",
   "execution_count": 2,
   "metadata": {},
   "outputs": [],
   "source": [
    "from typing import List\n",
    "from collections import defaultdict\n",
    "\n",
    "class Solution:\n",
    "    def findAllRecipes(self, recipes: List[str], ingredients: List[List[str]], supplies: List[str]) -> List[str]:\n",
    "        graph = defaultdict(list)\n",
    "        indegree = {}\n",
    "        \n",
    "        for r, s in zip(recipes, ingredients):\n",
    "            for i in s:\n",
    "                graph[i].append(r)\n",
    "            indegree[r] = len(s)\n",
    "                \n",
    "        res = []\n",
    "        for ing in supplies:\n",
    "            for nei in graph[ing]:\n",
    "                indegree[nei] -= 1\n",
    "                \n",
    "                if indegree[nei] == 0:\n",
    "                    supplies.append(nei)\n",
    "                    res.append(nei)\n",
    "                    \n",
    "        return res"
   ]
  },
  {
   "cell_type": "code",
   "execution_count": 3,
   "metadata": {},
   "outputs": [
    {
     "data": {
      "text/plain": [
       "['bread', 'sandwich', 'burger']"
      ]
     },
     "execution_count": 3,
     "metadata": {},
     "output_type": "execute_result"
    }
   ],
   "source": [
    "instance = Solution()\n",
    "instance.findAllRecipes([\"bread\",\"sandwich\",\"burger\"], [[\"yeast\",\"flour\"],[\"bread\",\"meat\"],[\"sandwich\",\"meat\",\"bread\"]], [\"yeast\",\"flour\",\"meat\"])"
   ]
  }
 ],
 "metadata": {
  "kernelspec": {
   "display_name": "Python 3",
   "language": "python",
   "name": "python3"
  },
  "language_info": {
   "codemirror_mode": {
    "name": "ipython",
    "version": 3
   },
   "file_extension": ".py",
   "mimetype": "text/x-python",
   "name": "python",
   "nbconvert_exporter": "python",
   "pygments_lexer": "ipython3",
   "version": "3.7.3"
  }
 },
 "nbformat": 4,
 "nbformat_minor": 2
}
