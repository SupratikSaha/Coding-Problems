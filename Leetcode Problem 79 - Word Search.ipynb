{
 "cells": [
  {
   "cell_type": "markdown",
   "metadata": {},
   "source": [
    "Given a 2D board and a word, find if the word exists in the grid.\n",
    "\n",
    "The word can be constructed from letters of sequentially adjacent cell, where \"adjacent\" cells are those horizontally or vertically neighboring. The same letter cell may not be used more than once.\n",
    "\n",
    "Example:\n",
    "\n",
    "board = <br/>\n",
    "[ <br/>\n",
    "  ['A','B','C','E'], <br/>\n",
    "  ['S','F','C','S'], <br/>\n",
    "  ['A','D','E','E'] <br/>\n",
    "] <br/>\n",
    "\n",
    "Given word = \"ABCCED\", return true.\n",
    "Given word = \"SEE\", return true.\n",
    "Given word = \"ABCB\", return false.\n",
    "\n",
    " \n",
    "\n",
    "Constraints:\n",
    "\n",
    "    board and word consists only of lowercase and uppercase English letters.\n",
    "    1 <= board.length <= 200\n",
    "    1 <= board[i].length <= 200\n",
    "    1 <= word.length <= 10^3"
   ]
  },
  {
   "cell_type": "markdown",
   "metadata": {},
   "source": [
    "# Backtracking - O(n * 4^min(L, n)) runtime, O(L) space where L is the length of the word to be matched and is the number of cells"
   ]
  },
  {
   "cell_type": "code",
   "execution_count": 3,
   "metadata": {},
   "outputs": [],
   "source": [
    "from typing import List\n",
    "\n",
    "class Solution:\n",
    "    def exist(self, board: List[List[str]], word: str) -> bool:\n",
    "        \n",
    "        self.ROWS = len(board)\n",
    "        self.COLS = len(board[0])\n",
    "        self.board = board\n",
    "\n",
    "        for row in range(self.ROWS):\n",
    "            for col in range(self.COLS):\n",
    "                if self.backtrack(row, col, word):\n",
    "                    return True\n",
    "\n",
    "        # no match found after all exploration\n",
    "        return False\n",
    "\n",
    "\n",
    "    def backtrack(self, row, col, suffix):\n",
    "        \"\"\"\n",
    "            backtracking with side-effect,\n",
    "               the matched letter in the board would be marked with \"#\".\n",
    "        \"\"\"\n",
    "        # bottom case: we find match for each letter in the word\n",
    "        if len(suffix) == 0:\n",
    "            return True\n",
    "\n",
    "        # Check the current status, before jumping into backtracking\n",
    "        if row < 0 or row == self.ROWS or col < 0 or col == self.COLS \\\n",
    "                or self.board[row][col] != suffix[0]:\n",
    "            return False\n",
    "\n",
    "        # mark the choice before exploring further.\n",
    "        self.board[row][col] = '#'\n",
    "        # explore the 4 neighbor directions\n",
    "        for rowOffset, colOffset in [(0, 1), (-1, 0), (0, -1), (1, 0)]:\n",
    "            # sudden-death return, no cleanup.\n",
    "            if self.backtrack(row + rowOffset, col + colOffset, suffix[1:]):\n",
    "                return True\n",
    "\n",
    "        # revert the marking\n",
    "        self.board[row][col] = suffix[0]\n",
    "\n",
    "        # Tried all directions, and did not find any match\n",
    "        return False"
   ]
  },
  {
   "cell_type": "markdown",
   "metadata": {},
   "source": [
    "# Trie and Backtracking - O(n * 4^min(L, n)) runtime, O(L) space where L is the length of the word to be matched and is the number of cells"
   ]
  },
  {
   "cell_type": "code",
   "execution_count": 5,
   "metadata": {},
   "outputs": [],
   "source": [
    "from typing import List\n",
    "\n",
    "class Solution:\n",
    "    def exist(self, board: List[List[str]], word: str) -> bool:\n",
    "        if not board:\n",
    "            return False\n",
    "        self.px = [-1, 1, 0, 0]\n",
    "        self.py = [0, 0, -1, 1]\n",
    "        self.res = set()\n",
    "\n",
    "        root = dict()\n",
    "        node = root\n",
    "        for c in word:\n",
    "            node = node.setdefault(c, {})\n",
    "        node['#'] = '#'\n",
    "\n",
    "        self.rows = len(board)\n",
    "        self.columns = len(board[0])\n",
    "        for row in range(self.rows):\n",
    "            for column in range(self.columns):\n",
    "                if board[row][column] in root:\n",
    "                    self.__dfs(row, column, board, root, '')\n",
    "        return len(self.res) > 0\n",
    "\n",
    "    def __dfs(self, row, column, board, cur_dict, prefix):\n",
    "        if self.res:\n",
    "            return\n",
    "        prefix += board[row][column]\n",
    "        cur_dict = cur_dict[board[row][column]]\n",
    "\n",
    "        if '#' in cur_dict:\n",
    "            self.res.add(prefix)\n",
    "            return\n",
    "\n",
    "        tmp, board[row][column] = board[row][column], '$'\n",
    "        for ix, iy in zip(self.px, self.py):\n",
    "            x = row + ix\n",
    "            y = column + iy\n",
    "            if 0 <= x < self.rows and 0 <= y < self.columns \\\n",
    "                    and board[x][y] != '$' and board[x][y] in cur_dict:\n",
    "                self.__dfs(x, y, board, cur_dict, prefix)\n",
    "        board[row][column] = tmp"
   ]
  },
  {
   "cell_type": "code",
   "execution_count": 6,
   "metadata": {},
   "outputs": [
    {
     "data": {
      "text/plain": [
       "True"
      ]
     },
     "execution_count": 6,
     "metadata": {},
     "output_type": "execute_result"
    }
   ],
   "source": [
    "instance = Solution()\n",
    "instance.exist([[\"A\",\"B\",\"C\",\"E\"],[\"S\",\"F\",\"E\",\"S\"],[\"A\",\"D\",\"E\",\"E\"]], \"ABCESEEEFS\")"
   ]
  }
 ],
 "metadata": {
  "kernelspec": {
   "display_name": "Python 3",
   "language": "python",
   "name": "python3"
  },
  "language_info": {
   "codemirror_mode": {
    "name": "ipython",
    "version": 3
   },
   "file_extension": ".py",
   "mimetype": "text/x-python",
   "name": "python",
   "nbconvert_exporter": "python",
   "pygments_lexer": "ipython3",
   "version": "3.7.3"
  }
 },
 "nbformat": 4,
 "nbformat_minor": 2
}
