{
 "cells": [
  {
   "cell_type": "markdown",
   "metadata": {},
   "source": [
    "Problem Statement.\n",
    "\n",
    "You have n processes forming a rooted tree structure. You are given two integer arrays pid and ppid, where pid[i] is the ID of the ith process and ppid[i] is the ID of the ith process's parent process.\n",
    "\n",
    "Each process has only one parent process but may have multiple children processes. Only one process has ppid[i] = 0, which means this process has no parent process (the root of the tree).\n",
    "\n",
    "When a process is killed, all of its children processes will also be killed.\n",
    "\n",
    "Given an integer kill representing the ID of a process you want to kill, return a list of the IDs of the processes that will be killed. You may return the answer in any order.\n",
    "\n",
    " \n",
    "\n",
    "Example 1:\n",
    "\n",
    "Input: pid = [1,3,10,5], ppid = [3,0,5,3], kill = 5\n",
    "Output: [5,10]\n",
    "Explanation: The processes colored in red are the processes that should be killed.\n",
    "\n",
    "Example 2:\n",
    "\n",
    "Input: pid = [1], ppid = [0], kill = 1\n",
    "Output: [1]\n",
    "\n",
    " \n",
    "\n",
    "Constraints:\n",
    "\n",
    "    n == pid.length\n",
    "    n == ppid.length\n",
    "    1 <= n <= 5 * 104\n",
    "    1 <= pid[i] <= 5 * 104\n",
    "    0 <= ppid[i] <= 5 * 104\n",
    "    Only one process has no parent.\n",
    "    All the values of pid are unique.\n",
    "    kill is guaranteed to be in pid."
   ]
  },
  {
   "cell_type": "markdown",
   "metadata": {},
   "source": [
    "# Hash Table BFS - O(N) runtime, O(N) space"
   ]
  },
  {
   "cell_type": "code",
   "execution_count": 1,
   "metadata": {},
   "outputs": [],
   "source": [
    "from typing import List\n",
    "from collections import deque, defaultdict\n",
    "\n",
    "class Solution:\n",
    "    def killProcess(self, pid: List[int], ppid: List[int], kill: int) -> List[int]:\n",
    "        childDict = defaultdict(list)\n",
    "        for parent, child in zip(ppid, pid):\n",
    "            childDict[parent].append(child)\n",
    "            \n",
    "        killed = []\n",
    "        queue = deque([kill])\n",
    "        while queue:\n",
    "            proc = queue.popleft()\n",
    "            killed.append(proc)\n",
    "            for child in childDict[proc]:\n",
    "                queue.append(child)\n",
    "                \n",
    "        return killed"
   ]
  },
  {
   "cell_type": "markdown",
   "metadata": {},
   "source": [
    "# Hash Table DFS - O(N) runtime, O(N) space"
   ]
  },
  {
   "cell_type": "code",
   "execution_count": 2,
   "metadata": {},
   "outputs": [],
   "source": [
    "from typing import List\n",
    "from collections import defaultdict\n",
    "\n",
    "class Solution:\n",
    "    def killProcess(self, pid: List[int], ppid: List[int], kill: int) -> List[int]:\n",
    "        self.process = defaultdict(list)\n",
    "        self.ans = []\n",
    "        for idx, parent in enumerate(ppid):\n",
    "            self.process[parent].append(pid[idx])\n",
    "            \n",
    "        self.kill(kill)\n",
    "        \n",
    "        return self.ans\n",
    "    \n",
    "    def kill(self, node: int):\n",
    "        self.ans.append(node)\n",
    "        for child in self.process[node]:\n",
    "            self.kill(child)"
   ]
  },
  {
   "cell_type": "code",
   "execution_count": 3,
   "metadata": {},
   "outputs": [
    {
     "data": {
      "text/plain": [
       "[5, 10]"
      ]
     },
     "execution_count": 3,
     "metadata": {},
     "output_type": "execute_result"
    }
   ],
   "source": [
    "instance = Solution()\n",
    "instance.killProcess([1,3,10,5], [3,0,5,3], 5)"
   ]
  }
 ],
 "metadata": {
  "kernelspec": {
   "display_name": "Python 3",
   "language": "python",
   "name": "python3"
  },
  "language_info": {
   "codemirror_mode": {
    "name": "ipython",
    "version": 3
   },
   "file_extension": ".py",
   "mimetype": "text/x-python",
   "name": "python",
   "nbconvert_exporter": "python",
   "pygments_lexer": "ipython3",
   "version": "3.7.3"
  }
 },
 "nbformat": 4,
 "nbformat_minor": 2
}
