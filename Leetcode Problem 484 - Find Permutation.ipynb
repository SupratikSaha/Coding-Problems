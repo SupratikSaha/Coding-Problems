{
 "cells": [
  {
   "cell_type": "markdown",
   "metadata": {},
   "source": [
    "Problem Statement.\n",
    "\n",
    "A permutation perm of n integers of all the integers in the range [1, n] can be represented as a string s of length n - 1 where:\n",
    "\n",
    "    s[i] == 'I' if perm[i] < perm[i + 1], and\n",
    "    s[i] == 'D' if perm[i] > perm[i + 1].\n",
    "\n",
    "Given a string s, reconstruct the lexicographically smallest permutation perm and return it.\n",
    "\n",
    " \n",
    "\n",
    "Example 1:\n",
    "\n",
    "Input: s = \"I\"\n",
    "Output: [1,2]\n",
    "Explanation: [1,2] is the only legal permutation that can represented by s, where the number 1 and 2 construct an increasing relationship.\n",
    "\n",
    "Example 2:\n",
    "\n",
    "Input: s = \"DI\"\n",
    "Output: [2,1,3]\n",
    "Explanation: Both [2,1,3] and [3,1,2] can be represented as \"DI\", but since we want to find the smallest lexicographical permutation, you should return [2,1,3]\n",
    "\n",
    " \n",
    "\n",
    "Constraints:\n",
    "\n",
    "    1 <= s.length <= 105\n",
    "    s[i] is either 'I' or 'D'."
   ]
  },
  {
   "cell_type": "markdown",
   "metadata": {},
   "source": [
    "# String Traversal - O(N) runtime, O(N) space"
   ]
  },
  {
   "cell_type": "code",
   "execution_count": 1,
   "metadata": {},
   "outputs": [],
   "source": [
    "from typing import List\n",
    "\n",
    "class Solution:\n",
    "    def findPermutation(self, s: str) -> List[int]:\n",
    "        countD, num = 0, 1\n",
    "        result = []\n",
    "        \n",
    "        def accountForD():\n",
    "            nonlocal num, countD, result\n",
    "            num += countD\n",
    "            temp = num\n",
    "            while countD:\n",
    "                result.append(temp)\n",
    "                temp -= 1\n",
    "                countD -= 1\n",
    "            result.append(temp)\n",
    "        \n",
    "        for char in s:\n",
    "            if char == 'D': countD += 1\n",
    "            else:\n",
    "                if not countD: result.append(num)\n",
    "                else: accountForD()\n",
    "                num += 1\n",
    "            \n",
    "        if countD: accountForD()\n",
    "        else: result.append(num)\n",
    "                \n",
    "        return result"
   ]
  },
  {
   "cell_type": "markdown",
   "metadata": {},
   "source": [
    "# Teo Pointers - O(N) runtime, O(N) space"
   ]
  },
  {
   "cell_type": "code",
   "execution_count": 3,
   "metadata": {},
   "outputs": [],
   "source": [
    "from typing import List\n",
    "\n",
    "class Solution:\n",
    "        \n",
    "    def findPermutation(self, s: str) -> List[int]:\n",
    "        if not s:\n",
    "            return [1]\n",
    "        \n",
    "        nums = list(range(1, len(s) + 2))\n",
    "        lo, hi = 0, 0\n",
    "        N = len(s)\n",
    "        while hi < N:\n",
    "            while hi < N and s[hi] == 'D':\n",
    "                hi += 1\n",
    "            if lo < hi: self.reverse(nums, lo, hi)\n",
    "            hi += 1\n",
    "            lo = hi\n",
    "        \n",
    "        return nums\n",
    "    \n",
    "    def reverse(self, arr, l, r):\n",
    "        if l >= r: return\n",
    "        while l < r:\n",
    "            arr[l], arr[r] = arr[r], arr[l]\n",
    "            l += 1\n",
    "            r -= 1"
   ]
  },
  {
   "cell_type": "code",
   "execution_count": 4,
   "metadata": {},
   "outputs": [
    {
     "data": {
      "text/plain": [
       "[3, 2, 1, 4, 6, 5, 8, 7, 9]"
      ]
     },
     "execution_count": 4,
     "metadata": {},
     "output_type": "execute_result"
    }
   ],
   "source": [
    "instance = Solution()\n",
    "instance.findPermutation(\"DDIIDIDI\")"
   ]
  }
 ],
 "metadata": {
  "kernelspec": {
   "display_name": "Python 3",
   "language": "python",
   "name": "python3"
  },
  "language_info": {
   "codemirror_mode": {
    "name": "ipython",
    "version": 3
   },
   "file_extension": ".py",
   "mimetype": "text/x-python",
   "name": "python",
   "nbconvert_exporter": "python",
   "pygments_lexer": "ipython3",
   "version": "3.7.3"
  }
 },
 "nbformat": 4,
 "nbformat_minor": 2
}
