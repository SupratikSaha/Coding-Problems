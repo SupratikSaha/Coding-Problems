{
 "cells": [
  {
   "cell_type": "markdown",
   "metadata": {},
   "source": [
    "Problem Statement.\n",
    "\n",
    "A peak element in a 2D grid is an element that is strictly greater than all of its adjacent neighbors to the left, right, top, and bottom.\n",
    "\n",
    "Given a 0-indexed m x n matrix mat where no two adjacent cells are equal, find any peak element mat[i][j] and return the length 2 array [i,j].\n",
    "\n",
    "You may assume that the entire matrix is surrounded by an outer perimeter with the value -1 in each cell.\n",
    "\n",
    "You must write an algorithm that runs in O(m log(n)) or O(n log(m)) time.\n",
    "\n",
    " \n",
    "\n",
    "Example 1:\n",
    "\n",
    "Input: mat = [[1,4],[3,2]]\n",
    "Output: [0,1]\n",
    "Explanation: Both 3 and 4 are peak elements so [1,0] and [0,1] are both acceptable answers.\n",
    "\n",
    "Example 2:\n",
    "\n",
    "Input: mat = [[10,20,15],[21,30,14],[7,16,32]]\n",
    "Output: [1,1]\n",
    "Explanation: Both 30 and 32 are peak elements so [1,1] and [2,2] are both acceptable answers.\n",
    "\n",
    " \n",
    "\n",
    "Constraints:\n",
    "\n",
    "    m == mat.length\n",
    "    n == mat[i].length\n",
    "    1 <= m, n <= 500\n",
    "    1 <= mat[i][j] <= 10^5\n",
    "    No two adjacent cells are equal."
   ]
  },
  {
   "cell_type": "markdown",
   "metadata": {},
   "source": [
    "# Binary Search - O(M * Log N) runtime, O(1) space"
   ]
  },
  {
   "cell_type": "code",
   "execution_count": 1,
   "metadata": {},
   "outputs": [],
   "source": [
    "from typing import List\n",
    "\n",
    "class Solution:\n",
    "    def findPeakGrid(self, mat: List[List[int]]) -> List[int]:\n",
    "        m, n = len(mat), len(mat[0])\n",
    "        \n",
    "        def binarySearch(row):\n",
    "            l, r = 0, n-1\n",
    "            \n",
    "            while l <= r:\n",
    "                mid = l + (r-l) // 2\n",
    "                left = -1 if mid == 0 else mat[row][mid-1]\n",
    "                right = -1 if mid == n-1 else mat[row][mid+1]\n",
    "                top = -1 if row == 0 else mat[row-1][mid]\n",
    "                bottom = -1 if row == m-1 else mat[row+1][mid]\n",
    "                \n",
    "                if left < mat[row][mid] > right and top < mat[row][mid] > bottom: \n",
    "                    return mid\n",
    "                if left >= right: r = mid - 1\n",
    "                else: l = mid + 1\n",
    "                    \n",
    "            return None\n",
    "        \n",
    "        for row in range(m):\n",
    "            col = binarySearch(row)\n",
    "            if col is not None: return [row, col]"
   ]
  },
  {
   "cell_type": "code",
   "execution_count": 2,
   "metadata": {},
   "outputs": [
    {
     "data": {
      "text/plain": [
       "[1, 1]"
      ]
     },
     "execution_count": 2,
     "metadata": {},
     "output_type": "execute_result"
    }
   ],
   "source": [
    "instance = Solution()\n",
    "instance.findPeakGrid([[10,20,15],[21,30,14],[7,16,32]])"
   ]
  }
 ],
 "metadata": {
  "kernelspec": {
   "display_name": "Python 3",
   "language": "python",
   "name": "python3"
  },
  "language_info": {
   "codemirror_mode": {
    "name": "ipython",
    "version": 3
   },
   "file_extension": ".py",
   "mimetype": "text/x-python",
   "name": "python",
   "nbconvert_exporter": "python",
   "pygments_lexer": "ipython3",
   "version": "3.7.3"
  }
 },
 "nbformat": 4,
 "nbformat_minor": 2
}
