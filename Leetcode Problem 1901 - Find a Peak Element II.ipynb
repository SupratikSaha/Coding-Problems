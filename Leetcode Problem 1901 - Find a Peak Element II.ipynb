{
 "cells": [
  {
   "cell_type": "markdown",
   "metadata": {},
   "source": [
    "Problem Statement.\n",
    "\n",
    "A peak element in a 2D grid is an element that is strictly greater than all of its adjacent neighbors to the left, right, top, and bottom.\n",
    "\n",
    "Given a 0-indexed m x n matrix mat where no two adjacent cells are equal, find any peak element mat[i][j] and return the length 2 array [i,j].\n",
    "\n",
    "You may assume that the entire matrix is surrounded by an outer perimeter with the value -1 in each cell.\n",
    "\n",
    "You must write an algorithm that runs in O(m log(n)) or O(n log(m)) time.\n",
    "\n",
    " \n",
    "\n",
    "Example 1:\n",
    "\n",
    "Input: mat = [[1,4],[3,2]]\n",
    "Output: [0,1]\n",
    "Explanation: Both 3 and 4 are peak elements so [1,0] and [0,1] are both acceptable answers.\n",
    "\n",
    "Example 2:\n",
    "\n",
    "Input: mat = [[10,20,15],[21,30,14],[7,16,32]]\n",
    "Output: [1,1]\n",
    "Explanation: Both 30 and 32 are peak elements so [1,1] and [2,2] are both acceptable answers.\n",
    "\n",
    " \n",
    "\n",
    "Constraints:\n",
    "\n",
    "    m == mat.length\n",
    "    n == mat[i].length\n",
    "    1 <= m, n <= 500\n",
    "    1 <= mat[i][j] <= 10^5\n",
    "    No two adjacent cells are equal."
   ]
  },
  {
   "cell_type": "markdown",
   "metadata": {},
   "source": [
    "# Binary Search - O(M * Log N) runtime, O(1) space"
   ]
  },
  {
   "cell_type": "code",
   "execution_count": 1,
   "metadata": {},
   "outputs": [],
   "source": [
    "from typing import List\n",
    "\n",
    "class Solution:\n",
    "    def findPeakGrid(self, mat: List[List[int]]) -> List[int]:\n",
    "        top, bottom = 0, len(mat) - 1\n",
    "\n",
    "        while bottom > top:\n",
    "            mid = (top + bottom) // 2\n",
    "            if max(mat[mid]) > max(mat[mid+1]):\n",
    "                bottom = mid\n",
    "            else:\n",
    "                top = mid+1\n",
    "                \n",
    "        return [bottom, mat[bottom].index(max(mat[bottom]))]"
   ]
  },
  {
   "cell_type": "code",
   "execution_count": 2,
   "metadata": {},
   "outputs": [
    {
     "data": {
      "text/plain": [
       "[2, 2]"
      ]
     },
     "execution_count": 2,
     "metadata": {},
     "output_type": "execute_result"
    }
   ],
   "source": [
    "instance = Solution()\n",
    "instance.findPeakGrid([[10,20,15],[21,30,14],[7,16,32]])"
   ]
  }
 ],
 "metadata": {
  "kernelspec": {
   "display_name": "Python 3",
   "language": "python",
   "name": "python3"
  },
  "language_info": {
   "codemirror_mode": {
    "name": "ipython",
    "version": 3
   },
   "file_extension": ".py",
   "mimetype": "text/x-python",
   "name": "python",
   "nbconvert_exporter": "python",
   "pygments_lexer": "ipython3",
   "version": "3.7.3"
  }
 },
 "nbformat": 4,
 "nbformat_minor": 2
}
