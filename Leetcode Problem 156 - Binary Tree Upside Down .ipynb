{
 "cells": [
  {
   "cell_type": "markdown",
   "metadata": {},
   "source": [
    "# Top Down Approach - O(log n) runtime, O(log n) stack space "
   ]
  },
  {
   "cell_type": "code",
   "execution_count": null,
   "metadata": {},
   "outputs": [],
   "source": [
    "# Definition for a binary tree node.\n",
    "# class TreeNode:\n",
    "#     def __init__(self, x):\n",
    "#         self.val = x\n",
    "#         self.left = None\n",
    "#         self.right = None\n",
    "\n",
    "class Solution:\n",
    "    def UpsideDownBinaryTree(self, root: ListNode) -> TreeNode:\n",
    "        p = root\n",
    "        parent  = None\n",
    "        parentRight = None\n",
    "        \n",
    "        while(p != None):\n",
    "            left = p.left\n",
    "            p.left = parentRight\n",
    "            parentRight = p.right\n",
    "            p.right = parent\n",
    "            parent = p\n",
    "            p = left\n",
    "        \n",
    "        return parent"
   ]
  },
  {
   "cell_type": "markdown",
   "metadata": {},
   "source": [
    "# Bottom Up Approach - O(log n) runtime, O(log n) stack space"
   ]
  },
  {
   "cell_type": "code",
   "execution_count": null,
   "metadata": {},
   "outputs": [],
   "source": [
    "# Definition for a binary tree node.\n",
    "# class TreeNode:\n",
    "#     def __init__(self, x):\n",
    "#         self.val = x\n",
    "#         self.left = None\n",
    "#         self.right = None\n",
    "\n",
    "class Solution:\n",
    "    def UpsideDownBinaryTree(self, root: ListNode) -> TreeNode:\n",
    "        return self.dfsBottomUp(root, None)\n",
    "    \n",
    "    def dfsBottomUp(self, p: ListNode, parent: ListNode) -> TreeNode:\n",
    "        if p == None:\n",
    "            return parent\n",
    "        root = self.dfsBottomUp(p.left, p)\n",
    "        p.left = parent if parent == None else parent.right\n",
    "        p.right = parent\n",
    "        \n",
    "        return root"
   ]
  }
 ],
 "metadata": {
  "kernelspec": {
   "display_name": "Python 3",
   "language": "python",
   "name": "python3"
  },
  "language_info": {
   "codemirror_mode": {
    "name": "ipython",
    "version": 3
   },
   "file_extension": ".py",
   "mimetype": "text/x-python",
   "name": "python",
   "nbconvert_exporter": "python",
   "pygments_lexer": "ipython3",
   "version": "3.7.3"
  }
 },
 "nbformat": 4,
 "nbformat_minor": 2
}
