{
 "cells": [
  {
   "cell_type": "markdown",
   "metadata": {},
   "source": [
    "Problem Statement.\n",
    "\n",
    "A string can be abbreviated by replacing any number of non-adjacent substrings with their lengths. For example, a string such as \"substitution\" could be abbreviated as (but not limited to):\n",
    "\n",
    "    \"s10n\" (\"s ubstitutio n\")\n",
    "    \"sub4u4\" (\"sub stit u tion\")\n",
    "    \"12\" (\"substitution\")\n",
    "    \"su3i1u2on\" (\"su bst i t u ti on\")\n",
    "    \"substitution\" (no substrings replaced)\n",
    "\n",
    "Note that \"s55n\" (\"s ubsti tutio n\") is not a valid abbreviation of \"substitution\" because the replaced substrings are adjacent.\n",
    "\n",
    "Given a string s and an abbreviation abbr, return whether the string matches with the given abbreviation.\n",
    "\n",
    " \n",
    "\n",
    "Example 1:\n",
    "\n",
    "Input: word = \"internationalization\", abbr = \"i12iz4n\"\n",
    "Output: true\n",
    "\n",
    "Example 2:\n",
    "\n",
    "Input: word = \"apple\", abbr = \"a2e\"\n",
    "Output: false\n",
    "\n",
    " \n",
    "\n",
    "Constraints:\n",
    "\n",
    "    1 <= word.length, abbr.length <= 20\n",
    "    word consists of only lowercase English letters.\n",
    "    abbr consists of lowercase English letters and digits."
   ]
  },
  {
   "cell_type": "markdown",
   "metadata": {},
   "source": [
    "# String Traversal - O(M + N) runtime, O(1) space"
   ]
  },
  {
   "cell_type": "code",
   "execution_count": 2,
   "metadata": {},
   "outputs": [],
   "source": [
    "class Solution:\n",
    "    def validWordAbbreviation(self, word: str, abbr: str) -> bool:\n",
    "        m, n = len(word), len(abbr)\n",
    "        i, j = 0, 0\n",
    "        while i < m and j < n:\n",
    "            if abbr[j].isalpha():\n",
    "                if word[i] != abbr[j]: return False\n",
    "                i += 1\n",
    "                j += 1\n",
    "            else:\n",
    "                if abbr[j] == '0': return False\n",
    "                count = 0\n",
    "                while j < n and abbr[j].isdigit():\n",
    "                    count = count*10 + int(abbr[j])\n",
    "                    j += 1\n",
    "                    \n",
    "                i += count\n",
    "                expectLetterAbbr = True\n",
    "                \n",
    "        return i == m and j == n"
   ]
  },
  {
   "cell_type": "code",
   "execution_count": 3,
   "metadata": {},
   "outputs": [
    {
     "data": {
      "text/plain": [
       "True"
      ]
     },
     "execution_count": 3,
     "metadata": {},
     "output_type": "execute_result"
    }
   ],
   "source": [
    "instance = Solution()\n",
    "instance.validWordAbbreviation(\"internationalization\", \"i12iz4n\")"
   ]
  }
 ],
 "metadata": {
  "kernelspec": {
   "display_name": "Python 3",
   "language": "python",
   "name": "python3"
  },
  "language_info": {
   "codemirror_mode": {
    "name": "ipython",
    "version": 3
   },
   "file_extension": ".py",
   "mimetype": "text/x-python",
   "name": "python",
   "nbconvert_exporter": "python",
   "pygments_lexer": "ipython3",
   "version": "3.7.3"
  }
 },
 "nbformat": 4,
 "nbformat_minor": 2
}
