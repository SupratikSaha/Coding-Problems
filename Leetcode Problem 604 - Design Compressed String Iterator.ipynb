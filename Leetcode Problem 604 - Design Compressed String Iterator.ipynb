{
 "cells": [
  {
   "cell_type": "markdown",
   "metadata": {},
   "source": [
    "Problem Statement.\n",
    "\n",
    "Design and implement a data structure for a compressed string iterator. The given compressed string will be in the form of each letter followed by a positive integer representing the number of this letter existing in the original uncompressed string.\n",
    "\n",
    "Implement the StringIterator class:\n",
    "\n",
    "    next() Returns the next character if the original string still has uncompressed characters, otherwise returns a white space.\n",
    "    hasNext() Returns true if there is any letter needs to be uncompressed in the original string, otherwise returns false.\n",
    "\n",
    " \n",
    "\n",
    "Example 1:\n",
    "\n",
    "Input\n",
    "[\"StringIterator\", \"next\", \"next\", \"next\", \"next\", \"next\", \"next\", \"hasNext\", \"next\", \"hasNext\"]\n",
    "[[\"L1e2t1C1o1d1e1\"], [], [], [], [], [], [], [], [], []]\n",
    "Output\n",
    "[null, \"L\", \"e\", \"e\", \"t\", \"C\", \"o\", true, \"d\", true]\n",
    "\n",
    "Explanation\n",
    "StringIterator stringIterator = new StringIterator(\"L1e2t1C1o1d1e1\");\n",
    "stringIterator.next(); // return \"L\"\n",
    "stringIterator.next(); // return \"e\"\n",
    "stringIterator.next(); // return \"e\"\n",
    "stringIterator.next(); // return \"t\"\n",
    "stringIterator.next(); // return \"C\"\n",
    "stringIterator.next(); // return \"o\"\n",
    "stringIterator.hasNext(); // return True\n",
    "stringIterator.next(); // return \"d\"\n",
    "stringIterator.hasNext(); // return True\n",
    "\n",
    " \n",
    "\n",
    "Constraints:\n",
    "\n",
    "    1 <= compressedString.length <= 1000\n",
    "    compressedString consists of lower-case an upper-case English letters and digits.\n",
    "    The number of a single character repetitions in compressedString is in the range [1, 10^9]\n",
    "    At most 100 calls will be made to next and hasNext."
   ]
  },
  {
   "cell_type": "markdown",
   "metadata": {},
   "source": [
    "# Index and iterate - O(1) amortized next and O(1) amortized hasNext runtime, O(N) space"
   ]
  },
  {
   "cell_type": "code",
   "execution_count": 2,
   "metadata": {},
   "outputs": [],
   "source": [
    "class StringIterator:\n",
    "\n",
    "    def __init__(self, compressedString: str):\n",
    "        self.compressedString = compressedString\n",
    "        self.n = len(compressedString)\n",
    "        self.idx = 0\n",
    "        self.currChar, self.currFreq = None, None\n",
    "        \n",
    "    def getChar(self):\n",
    "        self.currChar = self.compressedString[self.idx]\n",
    "        self.idx += 1\n",
    "        num = 0\n",
    "        \n",
    "        while self.idx < self.n and self.compressedString[self.idx].isdigit():\n",
    "            num = num*10 + int(self.compressedString[self.idx])\n",
    "            self.idx += 1\n",
    "            \n",
    "        self.currFreq = num\n",
    "\n",
    "    def next(self) -> str:\n",
    "        if not self.hasNext(): return ' '\n",
    "        \n",
    "        if not self.currFreq:\n",
    "            self.getChar()\n",
    "            \n",
    "        self.currFreq -= 1\n",
    "        \n",
    "        return self.currChar\n",
    "        \n",
    "    def hasNext(self) -> bool:\n",
    "        if not self.currFreq and self.idx == self.n: \n",
    "            return False\n",
    "\n",
    "        return True"
   ]
  }
 ],
 "metadata": {
  "kernelspec": {
   "display_name": "Python 3",
   "language": "python",
   "name": "python3"
  },
  "language_info": {
   "codemirror_mode": {
    "name": "ipython",
    "version": 3
   },
   "file_extension": ".py",
   "mimetype": "text/x-python",
   "name": "python",
   "nbconvert_exporter": "python",
   "pygments_lexer": "ipython3",
   "version": "3.7.3"
  }
 },
 "nbformat": 4,
 "nbformat_minor": 2
}
