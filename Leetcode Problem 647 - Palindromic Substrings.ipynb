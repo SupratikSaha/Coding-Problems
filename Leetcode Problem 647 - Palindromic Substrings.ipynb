{
 "cells": [
  {
   "cell_type": "markdown",
   "metadata": {},
   "source": [
    "Given a string, your tak is to count how many palindromic substrings in this string.\n",
    "\n",
    "The substrings with different start indexes or end indexes are counted as different substrings even they consist of same characters.\n",
    "\n",
    "Example 1:\n",
    "\n",
    "Input: \"abc\"\n",
    "Output: 3\n",
    "Explanation: Three palindromic strings: \"a\", \"b\", \"c\".\n",
    "\n",
    " \n",
    "\n",
    "Example 2:\n",
    "\n",
    "Input: \"aaa\"\n",
    "Output: 6\n",
    "Explanation: Six palindromic strings: \"a\", \"a\", \"a\", \"aa\", \"aa\", \"aaa\".\n",
    "\n",
    " \n",
    "\n",
    "Note:\n",
    "\n",
    "    The input string length won't exceed 1000."
   ]
  },
  {
   "cell_type": "markdown",
   "metadata": {},
   "source": [
    "# Brute Force - Exceeded time limit - O(n^3) runtime, O(1) space"
   ]
  },
  {
   "cell_type": "code",
   "execution_count": 1,
   "metadata": {},
   "outputs": [],
   "source": [
    "class Solution:\n",
    "    def countSubstrings(self, s: str) -> int:\n",
    "        count = 0\n",
    "        if s == '' or not s:\n",
    "            return count\n",
    "        \n",
    "        length = len(s)\n",
    "        \n",
    "        for i in range(length):\n",
    "            for j in range(i, length):\n",
    "                curr_str = s[i:j + 1]\n",
    "                if self.checkPalindrome(curr_str):\n",
    "                    count += 1\n",
    "                    \n",
    "        return count\n",
    "        \n",
    "    def checkPalindrome(self, t: str) -> bool:\n",
    "        left = 0\n",
    "        right = len(t) - 1\n",
    "        \n",
    "        if t == '' or not t:\n",
    "            return False\n",
    "        \n",
    "        while left < right:\n",
    "            if t[left] != t[right]:\n",
    "                return False\n",
    "            left += 1\n",
    "            right -= 1\n",
    "        \n",
    "        return True"
   ]
  },
  {
   "cell_type": "markdown",
   "metadata": {},
   "source": [
    "# Expand around center - O(n ^ 2) runtime, O(1) space"
   ]
  },
  {
   "cell_type": "code",
   "execution_count": 3,
   "metadata": {},
   "outputs": [],
   "source": [
    "class Solution:\n",
    "    def countSubstrings(self, s: str) -> int:\n",
    "        n = len(s)\n",
    "        ans = 0\n",
    "        for center in range(2*n - 1):\n",
    "            left = center // 2\n",
    "            right = left + center % 2\n",
    "            while left >= 0 and right < n and s[left] == s[right]:\n",
    "                ans += 1\n",
    "                left -= 1\n",
    "                right += 1\n",
    "        return ans"
   ]
  },
  {
   "cell_type": "markdown",
   "metadata": {},
   "source": [
    "# Manacher's Algorithm - O(n) runtime, O(n) space"
   ]
  },
  {
   "cell_type": "code",
   "execution_count": 5,
   "metadata": {},
   "outputs": [],
   "source": [
    "class Solution:\n",
    "    def countSubstrings(self, s: str) -> int:\n",
    "        def manachers(s):\n",
    "            a = '@#' + '#'.join(s) + '#$'\n",
    "            z = [0] * len(a)\n",
    "            center = right = 0\n",
    "            for i in range(1, len(a) - 1):\n",
    "                if i < right:\n",
    "                    z[i] = min(right - i, z[2 * center - i])\n",
    "                while a[i + z[i] + 1] == a[i - z[i] - 1]:\n",
    "                    z[i] += 1\n",
    "                if i + z[i] > right:\n",
    "                    center, right = i, i + z[i]\n",
    "            return z\n",
    "\n",
    "        return sum((v+1)//2 for v in manachers(s))"
   ]
  },
  {
   "cell_type": "code",
   "execution_count": 6,
   "metadata": {},
   "outputs": [
    {
     "data": {
      "text/plain": [
       "5"
      ]
     },
     "execution_count": 6,
     "metadata": {},
     "output_type": "execute_result"
    }
   ],
   "source": [
    "instance = Solution()\n",
    "instance.countSubstrings(\"aabc\")"
   ]
  }
 ],
 "metadata": {
  "kernelspec": {
   "display_name": "Python 3",
   "language": "python",
   "name": "python3"
  },
  "language_info": {
   "codemirror_mode": {
    "name": "ipython",
    "version": 3
   },
   "file_extension": ".py",
   "mimetype": "text/x-python",
   "name": "python",
   "nbconvert_exporter": "python",
   "pygments_lexer": "ipython3",
   "version": "3.7.3"
  }
 },
 "nbformat": 4,
 "nbformat_minor": 2
}
