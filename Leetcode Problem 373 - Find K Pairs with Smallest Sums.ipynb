{
 "cells": [
  {
   "cell_type": "markdown",
   "metadata": {},
   "source": [
    "Problem Statement.\n",
    "\n",
    "You are given two integer arrays nums1 and nums2 sorted in ascending order and an integer k.\n",
    "\n",
    "Define a pair (u, v) which consists of one element from the first array and one element from the second array.\n",
    "\n",
    "Return the k pairs (u1, v1), (u2, v2), ..., (uk, vk) with the smallest sums.\n",
    "\n",
    " \n",
    "\n",
    "Example 1:\n",
    "\n",
    "Input: nums1 = [1,7,11], nums2 = [2,4,6], k = 3\n",
    "Output: [[1,2],[1,4],[1,6]]\n",
    "Explanation: The first 3 pairs are returned from the sequence: [1,2],[1,4],[1,6],[7,2],[7,4],[11,2],[7,6],[11,4],[11,6]\n",
    "\n",
    "Example 2:\n",
    "\n",
    "Input: nums1 = [1,1,2], nums2 = [1,2,3], k = 2\n",
    "Output: [[1,1],[1,1]]\n",
    "Explanation: The first 2 pairs are returned from the sequence: [1,1],[1,1],[1,2],[2,1],[1,2],[2,2],[1,3],[1,3],[2,3]\n",
    "\n",
    "Example 3:\n",
    "\n",
    "Input: nums1 = [1,2], nums2 = [3], k = 3\n",
    "Output: [[1,3],[2,3]]\n",
    "Explanation: All possible pairs are returned from the sequence: [1,3],[2,3]\n",
    "\n",
    " \n",
    "\n",
    "Constraints:\n",
    "\n",
    "    1 <= nums1.length, nums2.length <= 10^4\n",
    "    -10^9 <= nums1[i], nums2[i] <= 10^9\n",
    "    nums1 and nums2 both are sorted in ascending order.\n",
    "    1 <= k <= 1000"
   ]
  },
  {
   "cell_type": "markdown",
   "metadata": {},
   "source": [
    "# Heap - (M + N)Log(M + N) runtime, O(M + N) space"
   ]
  },
  {
   "cell_type": "code",
   "execution_count": 2,
   "metadata": {},
   "outputs": [],
   "source": [
    "from typing import List\n",
    "import heapq\n",
    "\n",
    "class Solution:\n",
    "    def kSmallestPairs(self, nums1: List[int], nums2: List[int], k: int) -> List[List[int]]:\n",
    "        ret = []\n",
    "        n1, n2 = len(nums1), len(nums2)\n",
    "        if n1 * n2 > 0:\n",
    "            queue = [(nums1[0] + nums2[0], (0, 0))]\n",
    "            visited = {(0, 0)}\n",
    "            while len(ret) < k and queue:\n",
    "                _, (i, j) = heapq.heappop(queue)\n",
    "                ret.append([nums1[i], nums2[j]])\n",
    "                if j + 1 < n2 and (i, j + 1) not in visited:\n",
    "                        heapq.heappush(queue, (nums1[i] + nums2[j + 1], (i, j + 1)))\n",
    "                        visited.add((i, j + 1))\n",
    "                if i + 1 < n1 and (i + 1, j) not in visited:\n",
    "                        heapq.heappush(queue, (nums1[i + 1] + nums2[j], (i + 1, j)))\n",
    "                        visited.add((i + 1, j))\n",
    "        return ret"
   ]
  },
  {
   "cell_type": "code",
   "execution_count": 3,
   "metadata": {},
   "outputs": [
    {
     "data": {
      "text/plain": [
       "[[1, 2], [1, 4], [1, 6]]"
      ]
     },
     "execution_count": 3,
     "metadata": {},
     "output_type": "execute_result"
    }
   ],
   "source": [
    "instance = Solution()\n",
    "instance.kSmallestPairs([1,7,11], [2,4,6], 3)"
   ]
  }
 ],
 "metadata": {
  "kernelspec": {
   "display_name": "Python 3",
   "language": "python",
   "name": "python3"
  },
  "language_info": {
   "codemirror_mode": {
    "name": "ipython",
    "version": 3
   },
   "file_extension": ".py",
   "mimetype": "text/x-python",
   "name": "python",
   "nbconvert_exporter": "python",
   "pygments_lexer": "ipython3",
   "version": "3.7.3"
  }
 },
 "nbformat": 4,
 "nbformat_minor": 2
}
