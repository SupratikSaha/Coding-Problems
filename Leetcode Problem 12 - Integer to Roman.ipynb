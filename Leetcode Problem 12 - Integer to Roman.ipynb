{
 "cells": [
  {
   "cell_type": "markdown",
   "metadata": {},
   "source": [
    "# Using python dictionary - O(1) run time, O(1) space"
   ]
  },
  {
   "cell_type": "code",
   "execution_count": 1,
   "metadata": {},
   "outputs": [],
   "source": [
    "class Solution:\n",
    "    def intToRoman(self, num: int) -> str:\n",
    "        \n",
    "        romandict = {'M':1000,\n",
    "                     'CM':900,\n",
    "                     'D':500,\n",
    "                     'CD':400,\n",
    "                     'C':100,\n",
    "                     'XC':90,\n",
    "                     'L':50,\n",
    "                     'XL':40,\n",
    "                     'X':10,\n",
    "                     'IX':9,\n",
    "                     'V':5,\n",
    "                     'IV':4,\n",
    "                     'I':1\n",
    "                    }\n",
    "        \n",
    "        romanstring = \"\"\n",
    "        \n",
    "        for key, value in romandict.items():               \n",
    "            romanstring += key * int(num / value)\n",
    "            num %= value\n",
    "\n",
    "        return romanstring "
   ]
  },
  {
   "cell_type": "code",
   "execution_count": 2,
   "metadata": {},
   "outputs": [
    {
     "data": {
      "text/plain": [
       "'MMMCMXCIX'"
      ]
     },
     "execution_count": 2,
     "metadata": {},
     "output_type": "execute_result"
    }
   ],
   "source": [
    "Instance = Solution()\n",
    "Instance.intToRoman(3999)"
   ]
  }
 ],
 "metadata": {
  "kernelspec": {
   "display_name": "Python 3",
   "language": "python",
   "name": "python3"
  },
  "language_info": {
   "codemirror_mode": {
    "name": "ipython",
    "version": 3
   },
   "file_extension": ".py",
   "mimetype": "text/x-python",
   "name": "python",
   "nbconvert_exporter": "python",
   "pygments_lexer": "ipython3",
   "version": "3.7.3"
  }
 },
 "nbformat": 4,
 "nbformat_minor": 2
}
