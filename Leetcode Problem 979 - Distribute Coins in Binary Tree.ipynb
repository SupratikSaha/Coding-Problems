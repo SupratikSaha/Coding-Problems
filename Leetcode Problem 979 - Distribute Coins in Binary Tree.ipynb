{
 "cells": [
  {
   "cell_type": "markdown",
   "metadata": {},
   "source": [
    "Problem Statement.\n",
    "\n",
    "You are given the root of a binary tree with n nodes where each node in the tree has node.val coins. There are n coins in total throughout the whole tree.\n",
    "\n",
    "In one move, we may choose two adjacent nodes and move one coin from one node to another. A move may be from parent to child, or from child to parent.\n",
    "\n",
    "Return the minimum number of moves required to make every node have exactly one coin.\n",
    "\n",
    " \n",
    "\n",
    "Example 1:\n",
    "\n",
    "Input: root = [3,0,0]\n",
    "Output: 2\n",
    "Explanation: From the root of the tree, we move one coin to its left child, and one coin to its right child.\n",
    "\n",
    "Example 2:\n",
    "\n",
    "Input: root = [0,3,0]\n",
    "Output: 3\n",
    "Explanation: From the left child of the root, we move two coins to the root [taking two moves]. Then, we move one coin from the root of the tree to the right child.\n",
    "\n",
    "Example 3:\n",
    "\n",
    "Input: root = [1,0,2]\n",
    "Output: 2\n",
    "\n",
    "Example 4:\n",
    "\n",
    "Input: root = [1,0,0,null,3]\n",
    "Output: 4\n",
    "\n",
    " \n",
    "\n",
    "Constraints:\n",
    "\n",
    "    The number of nodes in the tree is n.\n",
    "    1 <= n <= 100\n",
    "    0 <= Node.val <= n\n",
    "    The sum of all Node.val is n."
   ]
  },
  {
   "cell_type": "markdown",
   "metadata": {},
   "source": [
    "# DFS - O(N) runtime, O(N) space"
   ]
  },
  {
   "cell_type": "code",
   "execution_count": 1,
   "metadata": {},
   "outputs": [],
   "source": [
    "from typing import Optional \n",
    "# Definition for a binary tree node.\n",
    "# class TreeNode:\n",
    "#     def __init__(self, val=0, left=None, right=None):\n",
    "#         self.val = val\n",
    "#         self.left = left\n",
    "#         self.right = right\n",
    "        \n",
    "class Solution:\n",
    "    def distributeCoins(self, root: Optional[TreeNode]) -> int:\n",
    "        self.ans = 0\n",
    "\n",
    "        def dfs(node):\n",
    "            if not node: return 0\n",
    "            L, R = dfs(node.left), dfs(node.right)\n",
    "            self.ans += abs(L) + abs(R)\n",
    "            return node.val + L + R - 1\n",
    "\n",
    "        dfs(root)\n",
    "        return self.ans"
   ]
  }
 ],
 "metadata": {
  "kernelspec": {
   "display_name": "Python 3",
   "language": "python",
   "name": "python3"
  },
  "language_info": {
   "codemirror_mode": {
    "name": "ipython",
    "version": 3
   },
   "file_extension": ".py",
   "mimetype": "text/x-python",
   "name": "python",
   "nbconvert_exporter": "python",
   "pygments_lexer": "ipython3",
   "version": "3.7.3"
  }
 },
 "nbformat": 4,
 "nbformat_minor": 2
}
