{
 "cells": [
  {
   "cell_type": "markdown",
   "metadata": {},
   "source": [
    "Problem Statement.\n",
    "\n",
    "    Table: Department\n",
    "\n",
    "    +---------------+---------+\n",
    "    | Column Name   | Type    |\n",
    "    +---------------+---------+\n",
    "    | id            | int     |\n",
    "    | revenue       | int     |\n",
    "    | month         | varchar |\n",
    "    +---------------+---------+\n",
    "    (id, month) is the primary key of this table.\n",
    "    The table has information about the revenue of each department per month.\n",
    "    The month has values in [\"Jan\",\"Feb\",\"Mar\",\"Apr\",\"May\",\"Jun\",\"Jul\",\"Aug\",\"Sep\",\"Oct\",\"Nov\",\"Dec\"].\n",
    "\n",
    "\n",
    "\n",
    "    Write an SQL query to reformat the table such that there is a department id column and a revenue column for each month.\n",
    "\n",
    "    The query result format is in the following example:\n",
    "\n",
    "    Department table:\n",
    "    +------+---------+-------+\n",
    "    | id   | revenue | month |\n",
    "    +------+---------+-------+\n",
    "    | 1    | 8000    | Jan   |\n",
    "    | 2    | 9000    | Jan   |\n",
    "    | 3    | 10000   | Feb   |\n",
    "    | 1    | 7000    | Feb   |\n",
    "    | 1    | 6000    | Mar   |\n",
    "    +------+---------+-------+\n",
    "\n",
    "    Result table:\n",
    "    +------+-------------+-------------+-------------+-----+-------------+\n",
    "    | id   | Jan_Revenue | Feb_Revenue | Mar_Revenue | ... | Dec_Revenue |\n",
    "    +------+-------------+-------------+-------------+-----+-------------+\n",
    "    | 1    | 8000        | 7000        | 6000        | ... | null        |\n",
    "    | 2    | 9000        | null        | null        | ... | null        |\n",
    "    | 3    | null        | 10000       | null        | ... | null        |\n",
    "    +------+-------------+-------------+-------------+-----+-------------+\n",
    "\n",
    "    Note that the result table has 13 columns (1 for the department id + 12 for the months)."
   ]
  },
  {
   "cell_type": "markdown",
   "metadata": {},
   "source": [
    "# Sum function"
   ]
  },
  {
   "cell_type": "code",
   "execution_count": null,
   "metadata": {},
   "outputs": [],
   "source": [
    "select id,\n",
    "    sum(case when month = 'jan' then revenue else null end) as Jan_Revenue,\n",
    "    sum(case when month = 'feb' then revenue else null end) as Feb_Revenue,\n",
    "    sum(case when month = 'mar' then revenue else null end) as Mar_Revenue,\n",
    "    sum(case when month = 'apr' then revenue else null end) as Apr_Revenue,\n",
    "    sum(case when month = 'may' then revenue else null end) as May_Revenue,\n",
    "    sum(case when month = 'jun' then revenue else null end) as Jun_Revenue,\n",
    "    sum(case when month = 'jul' then revenue else null end) as Jul_Revenue,\n",
    "    sum(case when month = 'aug' then revenue else null end) as Aug_Revenue,\n",
    "    sum(case when month = 'sep' then revenue else null end) as Sep_Revenue,\n",
    "    sum(case when month = 'oct' then revenue else null end) as Oct_Revenue,\n",
    "    sum(case when month = 'nov' then revenue else null end) as Nov_Revenue,\n",
    "    sum(case when month = 'dec' then revenue else null end) as Dec_Revenue\n",
    "from department\n",
    "group by id"
   ]
  }
 ],
 "metadata": {
  "kernelspec": {
   "display_name": "Python 3",
   "language": "python",
   "name": "python3"
  },
  "language_info": {
   "codemirror_mode": {
    "name": "ipython",
    "version": 3
   },
   "file_extension": ".py",
   "mimetype": "text/x-python",
   "name": "python",
   "nbconvert_exporter": "python",
   "pygments_lexer": "ipython3",
   "version": "3.7.3"
  }
 },
 "nbformat": 4,
 "nbformat_minor": 2
}
