{
 "cells": [
  {
   "cell_type": "markdown",
   "metadata": {},
   "source": [
    "Problem Statement.\n",
    "\n",
    "Given an array of strings wordsDict and two strings that already exist in the array word1 and word2, return the shortest distance between these two words in the list.\n",
    "\n",
    "Note that word1 and word2 may be the same. It is guaranteed that they represent two individual words in the list.\n",
    "\n",
    " \n",
    "\n",
    "Example 1:\n",
    "\n",
    "Input: wordsDict = [\"practice\", \"makes\", \"perfect\", \"coding\", \"makes\"], word1 = \"makes\", word2 = \"coding\"\n",
    "Output: 1\n",
    "\n",
    "Example 2:\n",
    "\n",
    "Input: wordsDict = [\"practice\", \"makes\", \"perfect\", \"coding\", \"makes\"], word1 = \"makes\", word2 = \"makes\"\n",
    "Output: 3\n",
    "\n",
    " \n",
    "\n",
    "Constraints:\n",
    "\n",
    "    1 <= wordsDict.length <= 3 * 104\n",
    "    1 <= wordsDict[i].length <= 10\n",
    "    wordsDict[i] consists of lowercase English letters.\n",
    "    word1 and word2 are in wordsDict."
   ]
  },
  {
   "cell_type": "markdown",
   "metadata": {},
   "source": [
    "# Two Pointers - O(N) runtime, O(1) space"
   ]
  },
  {
   "cell_type": "code",
   "execution_count": 1,
   "metadata": {},
   "outputs": [],
   "source": [
    "from typing import List\n",
    "\n",
    "class Solution:\n",
    "    def shortestWordDistance(self, wordsDict: List[str], word1: str, word2: str) -> int:\n",
    "        index1, index2 = None, None\n",
    "        minDistance = float('inf')\n",
    "        if word1 != word2:\n",
    "            for i, word in enumerate(wordsDict):\n",
    "                if word == word1:\n",
    "                    index1 = i\n",
    "                    if index2 is not None:\n",
    "                        minDistance = min(minDistance, abs(index2 - index1))\n",
    "                elif word == word2:\n",
    "                    index2 = i\n",
    "                    if index1 is not None:\n",
    "                        minDistance = min(minDistance, abs(index2 - index1))\n",
    "        else:\n",
    "            for i, word in enumerate(wordsDict):\n",
    "                if word == word1:\n",
    "                    index1 = i\n",
    "                    if index2 is not None:\n",
    "                        minDistance = min(minDistance, abs(index2 - index1))\n",
    "                    index2 = index1\n",
    "                    \n",
    "        return minDistance"
   ]
  },
  {
   "cell_type": "markdown",
   "metadata": {},
   "source": [
    "# More Elegant Two Pointers - O(N) runtime, O(1) space"
   ]
  },
  {
   "cell_type": "code",
   "execution_count": 2,
   "metadata": {},
   "outputs": [],
   "source": [
    "from typing import List\n",
    "\n",
    "class Solution:\n",
    "    def shortestWordDistance(self, wordsDict: List[str], word1: str, word2: str) -> int:\n",
    "        ans = i1 = i2 = float('inf')\n",
    "        for i, word in enumerate(wordsDict): \n",
    "            if word == word1: i1 = i2 if word1 == word2 else i\n",
    "            if word == word2: i2 = i \n",
    "            ans = min(ans, abs(i1 - i2))\n",
    "        return ans "
   ]
  },
  {
   "cell_type": "code",
   "execution_count": 3,
   "metadata": {},
   "outputs": [
    {
     "data": {
      "text/plain": [
       "1"
      ]
     },
     "execution_count": 3,
     "metadata": {},
     "output_type": "execute_result"
    }
   ],
   "source": [
    "instance = Solution()\n",
    "instance.shortestWordDistance( [\"practice\", \"makes\", \"perfect\", \"coding\", \"makes\"], \"makes\", \"coding\")"
   ]
  }
 ],
 "metadata": {
  "kernelspec": {
   "display_name": "Python 3",
   "language": "python",
   "name": "python3"
  },
  "language_info": {
   "codemirror_mode": {
    "name": "ipython",
    "version": 3
   },
   "file_extension": ".py",
   "mimetype": "text/x-python",
   "name": "python",
   "nbconvert_exporter": "python",
   "pygments_lexer": "ipython3",
   "version": "3.7.3"
  }
 },
 "nbformat": 4,
 "nbformat_minor": 2
}
