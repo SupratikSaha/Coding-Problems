{
 "cells": [
  {
   "cell_type": "markdown",
   "metadata": {},
   "source": [
    "Problem Statement.\n",
    "\n",
    "A split of an integer array is good if:\n",
    "\n",
    "    The array is split into three non-empty contiguous subarrays - named left, mid, right respectively from left to right.\n",
    "    The sum of the elements in left is less than or equal to the sum of the elements in mid, and the sum of the elements in mid is less than or equal to the sum of the elements in right.\n",
    "\n",
    "Given nums, an array of non-negative integers, return the number of good ways to split nums. As the number may be too large, return it modulo 109 + 7.\n",
    "\n",
    " \n",
    "\n",
    "Example 1:\n",
    "\n",
    "Input: nums = [1,1,1]\n",
    "Output: 1\n",
    "Explanation: The only good way to split nums is [1] [1] [1].\n",
    "\n",
    "Example 2:\n",
    "\n",
    "Input: nums = [1,2,2,2,5,0]\n",
    "Output: 3\n",
    "Explanation: There are three good ways of splitting nums:\n",
    "[1] [2] [2,2,5,0]\n",
    "[1] [2,2] [2,5,0]\n",
    "[1,2] [2,2] [5,0]\n",
    "\n",
    "Example 3:\n",
    "\n",
    "Input: nums = [3,2,1]\n",
    "Output: 0\n",
    "Explanation: There is no good way to split nums.\n",
    "\n",
    " \n",
    "\n",
    "Constraints:\n",
    "\n",
    "    3 <= nums.length <= 10^5\n",
    "    0 <= nums[i] <= 10^4"
   ]
  },
  {
   "cell_type": "markdown",
   "metadata": {},
   "source": [
    "# Linear Search - O(N) runtime, O(1) space"
   ]
  },
  {
   "cell_type": "code",
   "execution_count": 5,
   "metadata": {},
   "outputs": [],
   "source": [
    "from typing import List\n",
    "from itertools import accumulate\n",
    "\n",
    "class Solution:\n",
    "    def waysToSplit(self, nums: List[int]) -> int:\n",
    "        n, res, j, k = len(nums), 0, 0, 0\n",
    "        nums = list(accumulate(nums))\n",
    "        \n",
    "        for i in range(n - 2):\n",
    "            while j <= i or (j < n - 1 and nums[j] < nums[i] * 2):\n",
    "                j += 1\n",
    "                \n",
    "            while k < j or (k < n - 1 and nums[k] - nums[i] <= nums[-1] - nums[k]):\n",
    "                k += 1\n",
    "                \n",
    "            res += k - j\n",
    "            \n",
    "        return res % 1000000007"
   ]
  },
  {
   "cell_type": "code",
   "execution_count": 6,
   "metadata": {},
   "outputs": [
    {
     "data": {
      "text/plain": [
       "3"
      ]
     },
     "execution_count": 6,
     "metadata": {},
     "output_type": "execute_result"
    }
   ],
   "source": [
    "instance = Solution()\n",
    "instance.waysToSplit([1,2,2,2,5,0])"
   ]
  }
 ],
 "metadata": {
  "kernelspec": {
   "display_name": "Python 3",
   "language": "python",
   "name": "python3"
  },
  "language_info": {
   "codemirror_mode": {
    "name": "ipython",
    "version": 3
   },
   "file_extension": ".py",
   "mimetype": "text/x-python",
   "name": "python",
   "nbconvert_exporter": "python",
   "pygments_lexer": "ipython3",
   "version": "3.7.3"
  }
 },
 "nbformat": 4,
 "nbformat_minor": 2
}
