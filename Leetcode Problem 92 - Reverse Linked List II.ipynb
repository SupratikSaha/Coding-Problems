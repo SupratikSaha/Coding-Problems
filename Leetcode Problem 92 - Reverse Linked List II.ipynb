{
 "cells": [
  {
   "cell_type": "markdown",
   "metadata": {},
   "source": [
    "Problem Statement.\n",
    "\n",
    "Given the head of a singly linked list and two integers left and right where left <= right, reverse the nodes of the list from position left to position right, and return the reversed list.\n",
    "\n",
    " \n",
    "\n",
    "Example 1:\n",
    "\n",
    "Input: head = [1,2,3,4,5], left = 2, right = 4\n",
    "Output: [1,4,3,2,5]\n",
    "\n",
    "Example 2:\n",
    "\n",
    "Input: head = [5], left = 1, right = 1\n",
    "Output: [5]\n",
    "\n",
    " \n",
    "\n",
    "Constraints:\n",
    "\n",
    "    The number of nodes in the list is n.\n",
    "    1 <= n <= 500\n",
    "    -500 <= Node.val <= 500\n",
    "    1 <= left <= right <= n\n",
    "\n",
    " \n",
    "Follow up: Could you do it in one pass?"
   ]
  },
  {
   "cell_type": "markdown",
   "metadata": {},
   "source": [
    "# One pass - O(N) runtime, O(1) space"
   ]
  },
  {
   "cell_type": "code",
   "execution_count": 1,
   "metadata": {},
   "outputs": [],
   "source": [
    "# Definition for singly-linked list.\n",
    "# class ListNode:\n",
    "#     def __init__(self, val=0, next=None):\n",
    "#         self.val = val\n",
    "#         self.next = next\n",
    "\n",
    "class Solution:\n",
    "    def reverseBetween(self, head: ListNode, left: int, right: int) -> ListNode:\n",
    "        curr, prev, pos = head, None, 1\n",
    "        \n",
    "        while pos != left:\n",
    "            prev = curr\n",
    "            curr = curr.next\n",
    "            pos += 1\n",
    "            \n",
    "        beforeLeft = prev\n",
    "        leftNode = curr\n",
    "        \n",
    "        while pos <= right:\n",
    "            nextNode = curr.next\n",
    "            curr.next = prev\n",
    "            prev = curr\n",
    "            curr = nextNode\n",
    "            pos += 1\n",
    "            \n",
    "        if beforeLeft: beforeLeft.next = prev\n",
    "        leftNode.next = curr\n",
    "        \n",
    "        return head if left > 1 else prev"
   ]
  }
 ],
 "metadata": {
  "kernelspec": {
   "display_name": "Python 3",
   "language": "python",
   "name": "python3"
  },
  "language_info": {
   "codemirror_mode": {
    "name": "ipython",
    "version": 3
   },
   "file_extension": ".py",
   "mimetype": "text/x-python",
   "name": "python",
   "nbconvert_exporter": "python",
   "pygments_lexer": "ipython3",
   "version": "3.7.3"
  }
 },
 "nbformat": 4,
 "nbformat_minor": 2
}
