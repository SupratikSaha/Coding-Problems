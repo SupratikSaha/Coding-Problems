{
 "cells": [
  {
   "cell_type": "markdown",
   "metadata": {},
   "source": [
    "Problem Statement.\n",
    "\n",
    "Given an integer array nums of size n, return the minimum number of moves required to make all array elements equal.\n",
    "\n",
    "In one move, you can increment or decrement an element of the array by 1.\n",
    "\n",
    "Test cases are designed so that the answer will fit in a 32-bit integer.\n",
    "\n",
    " \n",
    "\n",
    "Example 1:\n",
    "\n",
    "Input: nums = [1,2,3]\n",
    "Output: 2\n",
    "Explanation:\n",
    "Only two moves are needed (remember each move increments or decrements one element):\n",
    "[1,2,3]  =>  [2,2,3]  =>  [2,2,2]\n",
    "\n",
    "Example 2:\n",
    "\n",
    "Input: nums = [1,10,2,9]\n",
    "Output: 16\n",
    "\n",
    " \n",
    "\n",
    "Constraints:\n",
    "\n",
    "    n == nums.length\n",
    "    1 <= nums.length <= 10^5\n",
    "    -10^9 <= nums[i] <= 10^9"
   ]
  },
  {
   "cell_type": "markdown",
   "metadata": {},
   "source": [
    "# Sorting - O(N * Log N) runtime, O(N) space"
   ]
  },
  {
   "cell_type": "code",
   "execution_count": 1,
   "metadata": {},
   "outputs": [],
   "source": [
    "from typing import List\n",
    "\n",
    "class Solution:\n",
    "    def minMoves2(self, nums: List[int]) -> int:\n",
    "        n = len(nums)\n",
    "        if n == 1: return 0\n",
    "        \n",
    "        nums.sort()\n",
    "        median = nums[n//2]\n",
    "        \n",
    "        return sum([abs(median-x) for x in nums])"
   ]
  },
  {
   "cell_type": "markdown",
   "metadata": {},
   "source": [
    "# Quickselct - O(N) average, O(N ^ 2) worst runtime, O(Log N) average, O(N) worst space"
   ]
  },
  {
   "cell_type": "code",
   "execution_count": 2,
   "metadata": {},
   "outputs": [],
   "source": [
    "from typing import List\n",
    "from random import randint\n",
    "\n",
    "class Solution:\n",
    "    def minMoves2(self, nums: List[int]) -> int:\n",
    "        n = len(nums)\n",
    "        if n == 1: return 0\n",
    "        \n",
    "        def partition(l, r):\n",
    "            oi = l\n",
    "            \n",
    "            for i in range(l+1, r+1):\n",
    "                if nums[i] <= nums[l]:\n",
    "                    oi += 1\n",
    "                    nums[oi], nums[i] = nums[i], nums[oi]\n",
    "                    \n",
    "            nums[l], nums[oi] = nums[oi], nums[l]\n",
    "            return oi\n",
    "        \n",
    "        def sort(l, r):\n",
    "            if l >= r: return\n",
    "            \n",
    "            pivot = randint(l, r)\n",
    "            nums[pivot], nums[l] = nums[l], nums[pivot]\n",
    "            pos = partition(l, r)\n",
    "            if pos == midIndex: return\n",
    "            if pos < midIndex: sort(pos + 1, r)\n",
    "            else: sort(l, pos - 1)\n",
    "        \n",
    "        midIndex = n//2\n",
    "        sort(0, n-1)\n",
    "        median = nums[midIndex]\n",
    "        \n",
    "        return sum([abs(median-x) for x in nums])"
   ]
  },
  {
   "cell_type": "code",
   "execution_count": 3,
   "metadata": {},
   "outputs": [
    {
     "data": {
      "text/plain": [
       "16"
      ]
     },
     "execution_count": 3,
     "metadata": {},
     "output_type": "execute_result"
    }
   ],
   "source": [
    "instance = Solution()\n",
    "instance.minMoves2([1,10,2,9])"
   ]
  }
 ],
 "metadata": {
  "kernelspec": {
   "display_name": "Python 3",
   "language": "python",
   "name": "python3"
  },
  "language_info": {
   "codemirror_mode": {
    "name": "ipython",
    "version": 3
   },
   "file_extension": ".py",
   "mimetype": "text/x-python",
   "name": "python",
   "nbconvert_exporter": "python",
   "pygments_lexer": "ipython3",
   "version": "3.7.3"
  }
 },
 "nbformat": 4,
 "nbformat_minor": 2
}
