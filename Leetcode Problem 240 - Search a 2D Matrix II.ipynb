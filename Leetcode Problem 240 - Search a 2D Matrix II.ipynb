{
 "cells": [
  {
   "cell_type": "markdown",
   "metadata": {},
   "source": [
    "Problem Statement. <br/>\n",
    "\n",
    "Write an efficient algorithm that searches for a target value in an m x n integer matrix. The matrix has the following properties: <br/>\n",
    "\n",
    "    Integers in each row are sorted in ascending from left to right.\n",
    "    Integers in each column are sorted in ascending from top to bottom.\n",
    "\n",
    "Example 1: <br/>\n",
    "Input: matrix = [[1,4,7,11,15],[2,5,8,12,19],[3,6,9,16,22],[10,13,14,17,24],[18,21,23,26,30]], target = 5 <br/>\n",
    "Output: true <br/>\n",
    "\n",
    "Example 2: <br/>\n",
    "Input: matrix = [[1,4,7,11,15],[2,5,8,12,19],[3,6,9,16,22],[10,13,14,17,24],[18,21,23,26,30]], target = 20 <br/>\n",
    "Output: false"
   ]
  },
  {
   "cell_type": "markdown",
   "metadata": {},
   "source": [
    "# Binary Search - O(N logN) runtime, O(1) space where N is max(num_rows, num_cols)"
   ]
  },
  {
   "cell_type": "code",
   "execution_count": 3,
   "metadata": {},
   "outputs": [],
   "source": [
    "from typing import List\n",
    "\n",
    "class Solution:\n",
    "    def searchMatrix(self, matrix: List[List[int]], target: int) -> bool:\n",
    "        if not matrix or not target:\n",
    "            return False\n",
    "        \n",
    "        m = len(matrix)\n",
    "        n = len(matrix[0])\n",
    "        if target < matrix[0][0] or target > matrix[m - 1][n - 1]:\n",
    "            return False\n",
    "        \n",
    "        def binary_search(constant: int, end: int, isAlongRow: bool) -> bool:\n",
    "            start = constant\n",
    "            while start <= end:\n",
    "                mid = start + (end - start) // 2\n",
    "                midVal = matrix[constant][mid] if isAlongRow else matrix[mid][constant]\n",
    "                if target == midVal:\n",
    "                    return True\n",
    "                elif target < midVal:\n",
    "                    end = mid - 1\n",
    "                else:\n",
    "                    start = mid + 1\n",
    "            return False\n",
    "        \n",
    "        for i in range(min(m, n)):\n",
    "            \n",
    "            if target >= matrix[i][i] and target <= matrix[i][n - 1]:\n",
    "                if (i == n - 1 and target == matrix[i][i]) or binary_search(i, n - 1, True):\n",
    "                    return True\n",
    "            \n",
    "            if target >= matrix[i][i] and target <= matrix[m - 1][i]:\n",
    "                if (i == m - 1 and target == matrix[i][i]) or binary_search(i, m - 1, False):\n",
    "                    return True\n",
    "            \n",
    "        return False"
   ]
  },
  {
   "cell_type": "markdown",
   "metadata": {},
   "source": [
    "# Reduce Search Space - O(M + N) runtime, O(1) space, where M and N are number of rows and columns respectively"
   ]
  },
  {
   "cell_type": "code",
   "execution_count": 5,
   "metadata": {},
   "outputs": [],
   "source": [
    "from typing import List\n",
    "\n",
    "class Solution:\n",
    "    def searchMatrix(self, matrix: List[List[int]], target: int) -> bool:\n",
    "        # an empty matrix obviously does not contain `target` (make this check\n",
    "        # because we want to cache `width` for efficiency's sake)\n",
    "        if len(matrix) == 0 or len(matrix[0]) == 0:\n",
    "            return False\n",
    "\n",
    "        # cache these, as they won't change.\n",
    "        height = len(matrix)\n",
    "        width = len(matrix[0])\n",
    "\n",
    "        # start our \"pointer\" in the bottom-left\n",
    "        row = height - 1\n",
    "        col = 0\n",
    "\n",
    "        while col < width and row >= 0:\n",
    "            if matrix[row][col] > target:\n",
    "                row -= 1\n",
    "            elif matrix[row][col] < target:\n",
    "                col += 1\n",
    "            else: # found it\n",
    "                return True\n",
    "        \n",
    "        return False"
   ]
  },
  {
   "cell_type": "code",
   "execution_count": 6,
   "metadata": {},
   "outputs": [
    {
     "data": {
      "text/plain": [
       "True"
      ]
     },
     "execution_count": 6,
     "metadata": {},
     "output_type": "execute_result"
    }
   ],
   "source": [
    "instance = Solution()\n",
    "instance.searchMatrix([[1,4,7,11,15],[2,5,8,12,19],[3,6,9,16,22],[10,13,14,17,24],[18,21,23,26,30]], 5)"
   ]
  }
 ],
 "metadata": {
  "kernelspec": {
   "display_name": "Python 3",
   "language": "python",
   "name": "python3"
  },
  "language_info": {
   "codemirror_mode": {
    "name": "ipython",
    "version": 3
   },
   "file_extension": ".py",
   "mimetype": "text/x-python",
   "name": "python",
   "nbconvert_exporter": "python",
   "pygments_lexer": "ipython3",
   "version": "3.7.3"
  }
 },
 "nbformat": 4,
 "nbformat_minor": 2
}
