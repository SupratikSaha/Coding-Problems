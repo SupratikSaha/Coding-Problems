{
 "cells": [
  {
   "cell_type": "markdown",
   "metadata": {},
   "source": [
    "    Problem Statement.\n",
    "\n",
    "    Table: Points\n",
    "\n",
    "    +---------------+---------+\n",
    "    | Column Name   | Type    |\n",
    "    +---------------+---------+\n",
    "    | id            | int     |\n",
    "    | x_value       | int     |\n",
    "    | y_value       | int     |\n",
    "    +---------------+---------+\n",
    "    id is the primary key for this table.\n",
    "    Each point is represented as a 2D coordinate (x_value, y_value).\n",
    "\n",
    "\n",
    "\n",
    "    Write an SQL query to report all possible axis-aligned rectangles with a non-zero area that can be formed by any two points from the Points table.\n",
    "\n",
    "    Each row in the result should contain three columns (p1, p2, area) where:\n",
    "\n",
    "        p1 and p2 are the id's of the two points that determine the opposite corners of a rectangle.\n",
    "        area is the area of the rectangle and must be non-zero.\n",
    "\n",
    "    Return the result table ordered by area in descending order. If there is a tie, order them by p1 in ascending order. If there is still a tie, order them by p2 in ascending order.\n",
    "\n",
    "    The query result format is in the following table.\n",
    "\n",
    "\n",
    "\n",
    "    Example 1:\n",
    "\n",
    "    Input: \n",
    "    Points table:\n",
    "    +----------+-------------+-------------+\n",
    "    | id       | x_value     | y_value     |\n",
    "    +----------+-------------+-------------+\n",
    "    | 1        | 2           | 7           |\n",
    "    | 2        | 4           | 8           |\n",
    "    | 3        | 2           | 10          |\n",
    "    +----------+-------------+-------------+\n",
    "    Output: \n",
    "    +----------+-------------+-------------+\n",
    "    | p1       | p2          | area        |\n",
    "    +----------+-------------+-------------+\n",
    "    | 2        | 3           | 4           |\n",
    "    | 1        | 2           | 2           |\n",
    "    +----------+-------------+-------------+\n",
    "    Explanation: \n",
    "    The rectangle formed by p1 = 2 and p2 = 3 has an area equal to |4-2| * |8-10| = 4.\n",
    "    The rectangle formed by p1 = 1 and p2 = 2 has an area equal to |2-4| * |7-8| = 2.\n",
    "    Note that the rectangle formed by p1 = 1 and p2 = 3 is invalid because the area is 0."
   ]
  },
  {
   "cell_type": "markdown",
   "metadata": {},
   "source": [
    "# Join"
   ]
  },
  {
   "cell_type": "code",
   "execution_count": null,
   "metadata": {},
   "outputs": [],
   "source": [
    "select p1.id as P1, p2.id as P2, \n",
    "abs(p1.x_value - p2.x_value) * abs(p1.y_value - p2.y_value) as AREA\n",
    "from Points p1 join Points p2\n",
    "where p1.id < p2.id and p1.x_value != p2.x_value and p1.y_value != p2.y_value\n",
    "order by AREA desc, P1, P2"
   ]
  }
 ],
 "metadata": {
  "kernelspec": {
   "display_name": "Python 3",
   "language": "python",
   "name": "python3"
  },
  "language_info": {
   "codemirror_mode": {
    "name": "ipython",
    "version": 3
   },
   "file_extension": ".py",
   "mimetype": "text/x-python",
   "name": "python",
   "nbconvert_exporter": "python",
   "pygments_lexer": "ipython3",
   "version": "3.7.3"
  }
 },
 "nbformat": 4,
 "nbformat_minor": 2
}
