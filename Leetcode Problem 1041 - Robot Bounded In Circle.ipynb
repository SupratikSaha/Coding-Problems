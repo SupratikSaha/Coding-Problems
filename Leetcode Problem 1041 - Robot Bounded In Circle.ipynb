{
 "cells": [
  {
   "cell_type": "markdown",
   "metadata": {},
   "source": [
    "    Problem Statement.\n",
    "\n",
    "    On an infinite plane, a robot initially stands at (0, 0) and faces north. The robot can receive one of three instructions:\n",
    "\n",
    "        \"G\": go straight 1 unit;\n",
    "        \"L\": turn 90 degrees to the left;\n",
    "        \"R\": turn 90 degrees to the right.\n",
    "\n",
    "    The robot performs the instructions given in order, and repeats them forever.\n",
    "\n",
    "    Return true if and only if there exists a circle in the plane such that the robot never leaves the circle.\n",
    "\n",
    "\n",
    "\n",
    "    Example 1:\n",
    "\n",
    "    Input: instructions = \"GGLLGG\"\n",
    "    Output: true\n",
    "    Explanation: The robot moves from (0,0) to (0,2), turns 180 degrees, and then returns to (0,0).\n",
    "    When repeating these instructions, the robot remains in the circle of radius 2 centered at the origin.\n",
    "\n",
    "    Example 2:\n",
    "\n",
    "    Input: instructions = \"GG\"\n",
    "    Output: false\n",
    "    Explanation: The robot moves north indefinitely.\n",
    "\n",
    "    Example 3:\n",
    "\n",
    "    Input: instructions = \"GL\"\n",
    "    Output: true\n",
    "    Explanation: The robot moves from (0, 0) -> (0, 1) -> (-1, 1) -> (-1, 0) -> (0, 0) -> ...\n",
    "\n",
    "\n",
    "\n",
    "    Constraints:\n",
    "\n",
    "        1 <= instructions.length <= 100\n",
    "        instructions[i] is 'G', 'L' or, 'R'."
   ]
  },
  {
   "cell_type": "markdown",
   "metadata": {},
   "source": [
    "# One Pass - O(N) runtime, O(1) space"
   ]
  },
  {
   "cell_type": "code",
   "execution_count": 1,
   "metadata": {},
   "outputs": [],
   "source": [
    "class Solution:\n",
    "    def isRobotBounded(self, instructions: str) -> bool:\n",
    "        # north = 0, east = 1, south = 2, west = 3\n",
    "        directions = {0: [1, 0], 1: [0, -1], 2: [-1, 0], 3: [0, 1]}\n",
    "        # Initial position is in the center\n",
    "        x = y = 0\n",
    "        # facing north\n",
    "        idx = 0\n",
    "        \n",
    "        for i in instructions:\n",
    "            if i == \"L\":\n",
    "                idx = (idx + 1) % 4\n",
    "            elif i == \"R\":\n",
    "                idx = (idx + 3) % 4\n",
    "            else:\n",
    "                x += directions[idx][0]\n",
    "                y += directions[idx][1]\n",
    "        \n",
    "        # after one cycle:\n",
    "        # robot returns into initial position\n",
    "        # or robot doesn't face north\n",
    "        return (x == 0 and y == 0) or idx != 0"
   ]
  },
  {
   "cell_type": "code",
   "execution_count": 2,
   "metadata": {},
   "outputs": [
    {
     "data": {
      "text/plain": [
       "True"
      ]
     },
     "execution_count": 2,
     "metadata": {},
     "output_type": "execute_result"
    }
   ],
   "source": [
    "instance = Solution()\n",
    "instance.isRobotBounded(\"GGLLGG\")"
   ]
  }
 ],
 "metadata": {
  "kernelspec": {
   "display_name": "Python 3",
   "language": "python",
   "name": "python3"
  },
  "language_info": {
   "codemirror_mode": {
    "name": "ipython",
    "version": 3
   },
   "file_extension": ".py",
   "mimetype": "text/x-python",
   "name": "python",
   "nbconvert_exporter": "python",
   "pygments_lexer": "ipython3",
   "version": "3.7.3"
  }
 },
 "nbformat": 4,
 "nbformat_minor": 2
}
