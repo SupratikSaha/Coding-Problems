{
 "cells": [
  {
   "cell_type": "markdown",
   "metadata": {},
   "source": [
    "Problem Statement.\n",
    "\n",
    "You are given an integer array arr of length n that represents a permutation of the integers in the range [0, n - 1].\n",
    "\n",
    "We split arr into some number of chunks (i.e., partitions), and individually sort each chunk. After concatenating them, the result should equal the sorted array.\n",
    "\n",
    "Return the largest number of chunks we can make to sort the array.\n",
    "\n",
    " \n",
    "\n",
    "Example 1:\n",
    "\n",
    "Input: arr = [4,3,2,1,0]\n",
    "Output: 1\n",
    "Explanation:\n",
    "Splitting into two or more chunks will not return the required result.\n",
    "For example, splitting into [4, 3], [2, 1, 0] will result in [3, 4, 0, 1, 2], which isn't sorted.\n",
    "\n",
    "Example 2:\n",
    "\n",
    "Input: arr = [1,0,2,3,4]\n",
    "Output: 4\n",
    "Explanation:\n",
    "We can split into two chunks, such as [1, 0], [2, 3, 4].\n",
    "However, splitting into [1, 0], [2], [3], [4] is the highest number of chunks possible.\n",
    "\n",
    " \n",
    "\n",
    "Constraints:\n",
    "\n",
    "    n == arr.length\n",
    "    1 <= n <= 10\n",
    "    0 <= arr[i] < n\n",
    "    All the elements of arr are unique."
   ]
  },
  {
   "cell_type": "markdown",
   "metadata": {},
   "source": [
    "# Hash Sets - O(N) runtime, O(N) space"
   ]
  },
  {
   "cell_type": "code",
   "execution_count": 1,
   "metadata": {},
   "outputs": [],
   "source": [
    "from typing import List\n",
    "\n",
    "class Solution:\n",
    "    def maxChunksToSorted(self, arr: List[int]) -> int:\n",
    "        missing = set()\n",
    "        curChunk = set()\n",
    "        chunks = 0\n",
    "        \n",
    "        for i, num in enumerate(arr):\n",
    "            curChunk.add(num)\n",
    "            if num in missing: missing.remove(num)\n",
    "            if i != num and i not in curChunk: missing.add(i)\n",
    "                \n",
    "            if not missing:\n",
    "                chunks += 1\n",
    "                curChunk = set()\n",
    "                \n",
    "        return chunks"
   ]
  },
  {
   "cell_type": "markdown",
   "metadata": {},
   "source": [
    "# Max Check - O(N) runtime, O(1) space"
   ]
  },
  {
   "cell_type": "code",
   "execution_count": 3,
   "metadata": {},
   "outputs": [],
   "source": [
    "from typing import List\n",
    "\n",
    "class Solution:\n",
    "    def maxChunksToSorted(self, arr: List[int]) -> int:\n",
    "        curMax, res = -1, 0\n",
    "        \n",
    "        for i, v in enumerate(arr):\n",
    "            curMax = max(curMax, v)\n",
    "            res += curMax == i\n",
    "            \n",
    "        return res"
   ]
  },
  {
   "cell_type": "code",
   "execution_count": 4,
   "metadata": {},
   "outputs": [
    {
     "data": {
      "text/plain": [
       "4"
      ]
     },
     "execution_count": 4,
     "metadata": {},
     "output_type": "execute_result"
    }
   ],
   "source": [
    "instance = Solution()\n",
    "instance.maxChunksToSorted([1,0,2,3,4])"
   ]
  }
 ],
 "metadata": {
  "kernelspec": {
   "display_name": "Python 3",
   "language": "python",
   "name": "python3"
  },
  "language_info": {
   "codemirror_mode": {
    "name": "ipython",
    "version": 3
   },
   "file_extension": ".py",
   "mimetype": "text/x-python",
   "name": "python",
   "nbconvert_exporter": "python",
   "pygments_lexer": "ipython3",
   "version": "3.7.3"
  }
 },
 "nbformat": 4,
 "nbformat_minor": 2
}
