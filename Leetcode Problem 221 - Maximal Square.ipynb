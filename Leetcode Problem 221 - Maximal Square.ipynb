{
 "cells": [
  {
   "cell_type": "markdown",
   "metadata": {},
   "source": [
    "Problem Statement. <br/>\n",
    "\n",
    "Given an m x n binary matrix filled with 0's and 1's, find the largest square containing only 1's and return its area. <br/>\n",
    "\n",
    "Example 1: <br/>\n",
    "Input: matrix = [[\"1\",\"0\",\"1\",\"0\",\"0\"],[\"1\",\"0\",\"1\",\"1\",\"1\"],[\"1\",\"1\",\"1\",\"1\",\"1\"],[\"1\",\"0\",\"0\",\"1\",\"0\"]] <br/>\n",
    "Output: 4 <br/>\n",
    "\n",
    "Example 2: <br/>\n",
    "Input: matrix = [[\"0\",\"1\"],[\"1\",\"0\"]] <br/>\n",
    "Output: 1 <br/>\n",
    "\n",
    "Example 3: <br/>\n",
    "Input: matrix = [[\"0\"]] <br/>\n",
    "Output: 0"
   ]
  },
  {
   "cell_type": "markdown",
   "metadata": {},
   "source": [
    "# Bottom Up DP - O(M * N) runtime, O(M * N) space"
   ]
  },
  {
   "cell_type": "code",
   "execution_count": 1,
   "metadata": {},
   "outputs": [],
   "source": [
    "from typing import List\n",
    "\n",
    "class Solution:\n",
    "    def maximalSquare(self, matrix: List[List[str]]) -> int:\n",
    "        m, n = len(matrix), len(matrix[0])\n",
    "        dp = [[0 for _ in range(n)] for _ in range(m)]\n",
    "        maxSize = 0\n",
    " \n",
    "        for i in range(m):\n",
    "            for j in range(n):\n",
    "                if matrix[i][j] == '1':\n",
    "                    dp[i][j] = min(dp[i - 1][j], dp[i][j - 1], dp[i - 1][j - 1]) + 1\n",
    "                    \n",
    "                maxSize = max(maxSize, dp[i][j])\n",
    "                \n",
    "        return maxSize * maxSize"
   ]
  },
  {
   "cell_type": "markdown",
   "metadata": {},
   "source": [
    "# More Space Optimized Bottom Up DP - O(M * N) runtime, O(N) space"
   ]
  },
  {
   "cell_type": "code",
   "execution_count": 2,
   "metadata": {},
   "outputs": [],
   "source": [
    "from typing import List\n",
    "\n",
    "class Solution:\n",
    "    def maximalSquare(self, matrix: List[List[str]]) -> int:\n",
    "        m, n = len(matrix), len(matrix[0])\n",
    "        dp = [0] * (n+1)\n",
    "        maxSquareSides, prev = 0, 0\n",
    "\n",
    "        for i in range(1, m+1):\n",
    "                for j in range(1, n+1):\n",
    "                    temp = dp[j]\n",
    "                    if matrix[i-1][j-1] == '1':\n",
    "                            dp[j] = min(dp[j-1], prev, dp[j]) + 1\n",
    "                            maxSquareSides = max(maxSquareSides, dp[j])\n",
    "                    else:\n",
    "                            dp[j] = 0\n",
    "                    \n",
    "                    prev = temp\n",
    "            \n",
    "        return maxSquareSides ** 2"
   ]
  },
  {
   "cell_type": "markdown",
   "metadata": {},
   "source": [
    "# Less Space Optimized but easier Bottom Up DP - O(M * N) runtime, O(N) space"
   ]
  },
  {
   "cell_type": "code",
   "execution_count": 3,
   "metadata": {},
   "outputs": [],
   "source": [
    "from typing import List\n",
    "\n",
    "class Solution:\n",
    "    def maximalSquare(self, matrix: List[List[str]]) -> int:\n",
    "        m, n = len(matrix), len(matrix[0])\n",
    "        dp = [0] * n\n",
    "        maxSquareSides = 0\n",
    "\n",
    "        for i in range(m):\n",
    "            dp_new = [0] * n\n",
    "            for j in range(n):\n",
    "                if matrix[i][j] == '1': \n",
    "                    dp_new[j] = min(dp_new[j-1], dp[j], dp[j-1]) + 1\n",
    "                    maxSquareSides = max(maxSquareSides, dp_new[j])\n",
    "                    \n",
    "            dp = dp_new\n",
    "            \n",
    "        return maxSquareSides ** 2"
   ]
  },
  {
   "cell_type": "code",
   "execution_count": 4,
   "metadata": {},
   "outputs": [
    {
     "data": {
      "text/plain": [
       "4"
      ]
     },
     "execution_count": 4,
     "metadata": {},
     "output_type": "execute_result"
    }
   ],
   "source": [
    "instance = Solution()\n",
    "instance.maximalSquare([[\"1\",\"0\",\"1\",\"0\",\"0\"],[\"1\",\"0\",\"1\",\"1\",\"1\"],[\"1\",\"1\",\"1\",\"1\",\"1\"],[\"1\",\"0\",\"0\",\"1\",\"0\"]])"
   ]
  }
 ],
 "metadata": {
  "kernelspec": {
   "display_name": "Python 3",
   "language": "python",
   "name": "python3"
  },
  "language_info": {
   "codemirror_mode": {
    "name": "ipython",
    "version": 3
   },
   "file_extension": ".py",
   "mimetype": "text/x-python",
   "name": "python",
   "nbconvert_exporter": "python",
   "pygments_lexer": "ipython3",
   "version": "3.7.3"
  }
 },
 "nbformat": 4,
 "nbformat_minor": 2
}
