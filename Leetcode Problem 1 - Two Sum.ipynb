{
 "cells": [
  {
   "cell_type": "markdown",
   "metadata": {},
   "source": [
    "# Using List Comprehension (Not satisfying index1< index2 condition)"
   ]
  },
  {
   "cell_type": "code",
   "execution_count": 25,
   "metadata": {},
   "outputs": [],
   "source": [
    "class Solution:\n",
    "    def twoSum(self, nums, target):\n",
    "        if type(nums) != list or type(target) != int:\n",
    "            return \"Bad Input\"\n",
    "        other_nums = [target - a for a in nums]\n",
    "        \n",
    "        print(set(other_nums), set(nums))\n",
    "        \n",
    "        result = list(set(nums) & set(other_nums))\n",
    "        \n",
    "        print(result)\n",
    "        \n",
    "        if len(result)==3:\n",
    "            result.remove(target/2)\n",
    "\n",
    "            \n",
    "        if len(result) ==0:\n",
    "            return []\n",
    "        elif len(result) ==1:\n",
    "            return [i for i, x in enumerate(nums) if x == result[0] ]\n",
    "        elif len(result) > 2:\n",
    "            return \"Too Many Matches\"\n",
    "        else:\n",
    "            return [nums.index(result[0]), nums.index(result[1])]"
   ]
  },
  {
   "cell_type": "markdown",
   "metadata": {},
   "source": [
    "# Using Brute Force: O(n2) runtime, O(1) space"
   ]
  },
  {
   "cell_type": "code",
   "execution_count": 29,
   "metadata": {},
   "outputs": [],
   "source": [
    "class Solution:\n",
    "    def twoSum(self, nums, target):\n",
    "        length = len(nums)\n",
    "        \n",
    "        for ctr1 in range(length):\n",
    "            for ctr2 in range(ctr1+1,length):\n",
    "                if nums[ctr1] + nums[ctr2] == target:\n",
    "                    return [ctr1,ctr2]\n",
    "                \n",
    "        return []"
   ]
  },
  {
   "cell_type": "markdown",
   "metadata": {},
   "source": [
    "# Using Python Dictionary: O(n) runtime, O(n) space"
   ]
  },
  {
   "cell_type": "code",
   "execution_count": 10,
   "metadata": {},
   "outputs": [],
   "source": [
    "class Solution:\n",
    "    def twoSum(self, nums, target):\n",
    "        dict_nums = {}\n",
    "        length = len(nums)\n",
    "        \n",
    "        for ctr in range(length):\n",
    "            find_complement = target - nums[ctr]\n",
    "            if find_complement in dict_nums.keys():\n",
    "                return [dict_nums[find_complement],ctr]\n",
    "            dict_nums[nums[ctr]] = ctr\n",
    "        return []"
   ]
  },
  {
   "cell_type": "code",
   "execution_count": 33,
   "metadata": {},
   "outputs": [
    {
     "data": {
      "text/plain": [
       "[2, 3]"
      ]
     },
     "execution_count": 33,
     "metadata": {},
     "output_type": "execute_result"
    }
   ],
   "source": [
    "Instance = Solution()\n",
    "Instance.twoSum([-1,2,3,3,10,0],6)"
   ]
  }
 ],
 "metadata": {
  "kernelspec": {
   "display_name": "Python 3",
   "language": "python",
   "name": "python3"
  },
  "language_info": {
   "codemirror_mode": {
    "name": "ipython",
    "version": 3
   },
   "file_extension": ".py",
   "mimetype": "text/x-python",
   "name": "python",
   "nbconvert_exporter": "python",
   "pygments_lexer": "ipython3",
   "version": "3.7.3"
  }
 },
 "nbformat": 4,
 "nbformat_minor": 2
}
