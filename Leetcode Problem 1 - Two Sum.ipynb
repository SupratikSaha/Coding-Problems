{
 "cells": [
  {
   "cell_type": "markdown",
   "metadata": {},
   "source": [
    "    Problem Statement\n",
    "\n",
    "    Given an array of integers nums and an integer target, return indices of the two numbers such that they add up to target.\n",
    "\n",
    "    You may assume that each input would have exactly one solution, and you may not use the same element twice.\n",
    "\n",
    "    You can return the answer in any order.\n",
    "\n",
    "\n",
    "\n",
    "    Example 1:\n",
    "\n",
    "    Input: nums = [2,7,11,15], target = 9\n",
    "    Output: [0,1]\n",
    "    Output: Because nums[0] + nums[1] == 9, we return [0, 1].\n",
    "\n",
    "    Example 2:\n",
    "\n",
    "    Input: nums = [3,2,4], target = 6\n",
    "    Output: [1,2]\n",
    "\n",
    "    Example 3:\n",
    "\n",
    "    Input: nums = [3,3], target = 6\n",
    "    Output: [0,1]\n",
    "\n",
    "\n",
    "\n",
    "    Constraints:\n",
    "\n",
    "        2 <= nums.length <= 103\n",
    "        -109 <= nums[i] <= 109\n",
    "        -109 <= target <= 109\n",
    "        Only one valid answer exists."
   ]
  },
  {
   "cell_type": "markdown",
   "metadata": {},
   "source": [
    "# Using List Comprehension (Not satisfying index1< index2 condition)"
   ]
  },
  {
   "cell_type": "code",
   "execution_count": 25,
   "metadata": {},
   "outputs": [],
   "source": [
    "class Solution:\n",
    "    def twoSum(self, nums, target):\n",
    "        if type(nums) != list or type(target) != int:\n",
    "            return \"Bad Input\"\n",
    "        other_nums = [target - a for a in nums]\n",
    "        \n",
    "        print(set(other_nums), set(nums))\n",
    "        \n",
    "        result = list(set(nums) & set(other_nums))\n",
    "        \n",
    "        print(result)\n",
    "        \n",
    "        if len(result)==3:\n",
    "            result.remove(target/2)\n",
    "\n",
    "            \n",
    "        if len(result) ==0:\n",
    "            return []\n",
    "        elif len(result) ==1:\n",
    "            return [i for i, x in enumerate(nums) if x == result[0] ]\n",
    "        elif len(result) > 2:\n",
    "            return \"Too Many Matches\"\n",
    "        else:\n",
    "            return [nums.index(result[0]), nums.index(result[1])]"
   ]
  },
  {
   "cell_type": "markdown",
   "metadata": {},
   "source": [
    "# Using Brute Force: O(n2) runtime, O(1) space"
   ]
  },
  {
   "cell_type": "code",
   "execution_count": 29,
   "metadata": {},
   "outputs": [],
   "source": [
    "class Solution:\n",
    "    def twoSum(self, nums, target):\n",
    "        length = len(nums)\n",
    "        \n",
    "        for ctr1 in range(length):\n",
    "            for ctr2 in range(ctr1+1,length):\n",
    "                if nums[ctr1] + nums[ctr2] == target:\n",
    "                    return [ctr1,ctr2]\n",
    "                \n",
    "        return []"
   ]
  },
  {
   "cell_type": "markdown",
   "metadata": {},
   "source": [
    "# Using Python Dictionary: O(n) runtime, O(n) space"
   ]
  },
  {
   "cell_type": "code",
   "execution_count": 10,
   "metadata": {},
   "outputs": [],
   "source": [
    "class Solution:\n",
    "    def twoSum(self, nums, target):\n",
    "        def twoSum(self, nums: List[int], target: int) -> List[int]:\n",
    "        integer_map = {}\n",
    "        for i, num in enumerate(nums):\n",
    "            if num in integer_map:\n",
    "                return [integer_map[num], i]\n",
    "            \n",
    "            integer_map[target - num] = i\n",
    "                \n",
    "        return []"
   ]
  },
  {
   "cell_type": "code",
   "execution_count": 33,
   "metadata": {},
   "outputs": [
    {
     "data": {
      "text/plain": [
       "[2, 3]"
      ]
     },
     "execution_count": 33,
     "metadata": {},
     "output_type": "execute_result"
    }
   ],
   "source": [
    "Instance = Solution()\n",
    "Instance.twoSum([-1,2,3,3,10,0],6)"
   ]
  }
 ],
 "metadata": {
  "kernelspec": {
   "display_name": "Python 3",
   "language": "python",
   "name": "python3"
  },
  "language_info": {
   "codemirror_mode": {
    "name": "ipython",
    "version": 3
   },
   "file_extension": ".py",
   "mimetype": "text/x-python",
   "name": "python",
   "nbconvert_exporter": "python",
   "pygments_lexer": "ipython3",
   "version": "3.7.3"
  }
 },
 "nbformat": 4,
 "nbformat_minor": 2
}
