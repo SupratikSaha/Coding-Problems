{
 "cells": [
  {
   "cell_type": "code",
   "execution_count": 69,
   "metadata": {},
   "outputs": [],
   "source": [
    "class Solution:\n",
    "    def twoSum(self, nums, target):\n",
    "        if type(nums) != list or type(target) != int:\n",
    "            return \"Bad Input\"\n",
    "        other_nums = [target - a for a in nums]\n",
    "        \n",
    "        result = list(set(nums) & set(other_nums))\n",
    "        \n",
    "        if len(result)==3:\n",
    "            result.remove(target/2)\n",
    "\n",
    "            \n",
    "        if len(result) ==0:\n",
    "            return \"No Matches\"\n",
    "        elif len(result) ==1:\n",
    "            return [i for i, x in enumerate(nums) if x == result[0] ]\n",
    "        elif len(result) > 2:\n",
    "            return \"Too Many Matches\"\n",
    "        else:\n",
    "            return [nums.index(result[0]), nums.index(result[1])]"
   ]
  },
  {
   "cell_type": "code",
   "execution_count": 70,
   "metadata": {},
   "outputs": [
    {
     "data": {
      "text/plain": [
       "[0, 1]"
      ]
     },
     "execution_count": 70,
     "metadata": {},
     "output_type": "execute_result"
    }
   ],
   "source": [
    "Instance = Solution()\n",
    "Instance.twoSum([3,3],6)"
   ]
  },
  {
   "cell_type": "code",
   "execution_count": null,
   "metadata": {},
   "outputs": [],
   "source": []
  }
 ],
 "metadata": {
  "kernelspec": {
   "display_name": "Python 3",
   "language": "python",
   "name": "python3"
  },
  "language_info": {
   "codemirror_mode": {
    "name": "ipython",
    "version": 3
   },
   "file_extension": ".py",
   "mimetype": "text/x-python",
   "name": "python",
   "nbconvert_exporter": "python",
   "pygments_lexer": "ipython3",
   "version": "3.7.3"
  }
 },
 "nbformat": 4,
 "nbformat_minor": 2
}
