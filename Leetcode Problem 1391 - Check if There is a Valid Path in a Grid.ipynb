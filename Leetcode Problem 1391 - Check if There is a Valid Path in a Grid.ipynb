{
 "cells": [
  {
   "cell_type": "markdown",
   "metadata": {},
   "source": [
    "Problem Statement.\n",
    "\n",
    "Given a m x n grid. Each cell of the grid represents a street. The street of grid[i][j] can be:\n",
    "\n",
    "    1 which means a street connecting the left cell and the right cell.\n",
    "    2 which means a street connecting the upper cell and the lower cell.\n",
    "    3 which means a street connecting the left cell and the lower cell.\n",
    "    4 which means a street connecting the right cell and the lower cell.\n",
    "    5 which means a street connecting the left cell and the upper cell.\n",
    "    6 which means a street connecting the right cell and the upper cell.\n",
    "\n",
    "You will initially start at the street of the upper-left cell (0,0). A valid path in the grid is a path which starts from the upper left cell (0,0) and ends at the bottom-right cell (m - 1, n - 1). The path should only follow the streets.\n",
    "\n",
    "Notice that you are not allowed to change any street.\n",
    "\n",
    "Return true if there is a valid path in the grid or false otherwise.\n",
    "\n",
    " \n",
    "\n",
    "Example 1:\n",
    "\n",
    "Input: grid = [[2,4,3],[6,5,2]]\n",
    "Output: true\n",
    "Explanation: As shown you can start at cell (0, 0) and visit all the cells of the grid to reach (m - 1, n - 1).\n",
    "\n",
    "Example 2:\n",
    "\n",
    "Input: grid = [[1,2,1],[1,2,1]]\n",
    "Output: false\n",
    "Explanation: As shown you the street at cell (0, 0) is not connected with any street of any other cell and you will get stuck at cell (0, 0)\n",
    "\n",
    "Example 3:\n",
    "\n",
    "Input: grid = [[1,1,2]]\n",
    "Output: false\n",
    "Explanation: You will get stuck at cell (0, 1) and you cannot reach cell (0, 2).\n",
    "\n",
    "Example 4:\n",
    "\n",
    "Input: grid = [[1,1,1,1,1,1,3]]\n",
    "Output: true\n",
    "\n",
    "Example 5:\n",
    "\n",
    "Input: grid = [[2],[2],[2],[2],[2],[2],[6]]\n",
    "Output: true\n",
    "\n",
    "\n",
    "Constraints:\n",
    "\n",
    "    m == grid.length\n",
    "    n == grid[i].length\n",
    "    1 <= m, n <= 300\n",
    "    1 <= grid[i][j] <= 6"
   ]
  },
  {
   "cell_type": "markdown",
   "metadata": {},
   "source": [
    "# DFS - O(M * N) runtime, O(M * N) space"
   ]
  },
  {
   "cell_type": "code",
   "execution_count": 2,
   "metadata": {},
   "outputs": [],
   "source": [
    "from typing import List\n",
    "\n",
    "class Solution:\n",
    "    def hasValidPath(self, grid: List[List[int]]) -> bool:\n",
    "        if not grid: return True\n",
    "        directions = {1: [(0,-1),(0,1)],\n",
    "                      2: [(-1,0),(1,0)],\n",
    "                      3: [(0,-1),(1,0)],\n",
    "                      4: [(0,1),(1,0)],\n",
    "                      5: [(0,-1),(-1,0)],\n",
    "                      6: [(0,1),(-1,0)]}\n",
    "        \n",
    "        visited = set()\n",
    "        goal = (len(grid)-1, len(grid[0]) - 1)\n",
    "        \n",
    "        def dfs(i, j):\n",
    "            visited.add((i,j))\n",
    "            if (i,j) == goal: return True\n",
    "            \n",
    "            for d in directions[grid[i][j]]:\n",
    "                ni, nj = i+d[0], j+d[1]\n",
    "                if 0 <= ni < len(grid) and 0 <= nj < len(grid[0]) \\\n",
    "                 and (ni, nj) not in visited and (-d[0], -d[1]) in directions[grid[ni][nj]]:\n",
    "                    if dfs(ni, nj): return True\n",
    "                    \n",
    "            return False\n",
    "        \n",
    "        return dfs(0,0)"
   ]
  },
  {
   "cell_type": "code",
   "execution_count": 4,
   "metadata": {},
   "outputs": [
    {
     "data": {
      "text/plain": [
       "True"
      ]
     },
     "execution_count": 4,
     "metadata": {},
     "output_type": "execute_result"
    }
   ],
   "source": [
    "instance = Solution()\n",
    "instance.hasValidPath([[2,4,3],[6,5,2]])"
   ]
  }
 ],
 "metadata": {
  "kernelspec": {
   "display_name": "Python 3",
   "language": "python",
   "name": "python3"
  },
  "language_info": {
   "codemirror_mode": {
    "name": "ipython",
    "version": 3
   },
   "file_extension": ".py",
   "mimetype": "text/x-python",
   "name": "python",
   "nbconvert_exporter": "python",
   "pygments_lexer": "ipython3",
   "version": "3.7.3"
  }
 },
 "nbformat": 4,
 "nbformat_minor": 2
}
