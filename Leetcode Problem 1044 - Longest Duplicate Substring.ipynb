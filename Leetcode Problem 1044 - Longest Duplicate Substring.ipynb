{
 "cells": [
  {
   "cell_type": "markdown",
   "metadata": {},
   "source": [
    "Problem Statement.\n",
    "\n",
    "Given a string s, consider all duplicated substrings: (contiguous) substrings of s that occur 2 or more times. The occurrences may overlap.\n",
    "\n",
    "Return any duplicated substring that has the longest possible length. If s does not have a duplicated substring, the answer is \"\".\n",
    "\n",
    " \n",
    "\n",
    "Example 1:\n",
    "\n",
    "Input: s = \"banana\"\n",
    "Output: \"ana\"\n",
    "\n",
    "Example 2:\n",
    "\n",
    "Input: s = \"abcd\"\n",
    "Output: \"\"\n",
    "\n",
    " \n",
    "\n",
    "Constraints:\n",
    "\n",
    "    2 <= s.length <= 3 * 104\n",
    "    s consists of lowercase English letters."
   ]
  },
  {
   "cell_type": "markdown",
   "metadata": {},
   "source": [
    "# Binary Search + Hashset of Hashes - O(N ^ 2 * Log N) runtime, O(N) space"
   ]
  },
  {
   "cell_type": "code",
   "execution_count": 1,
   "metadata": {},
   "outputs": [],
   "source": [
    "class Solution:\n",
    "    def search(self, L: int, n: int, S: str) -> str:\n",
    "        \"\"\"\n",
    "        Search a substring of given length\n",
    "        that occurs at least 2 times.\n",
    "        @return start position if the substring exits and -1 otherwise.\n",
    "        \"\"\"\n",
    "        seen = set()\n",
    "        for start in range(0, n - L + 1):\n",
    "            tmp = S[start:start + L]\n",
    "            h = hash(tmp)\n",
    "            if h in seen:\n",
    "                return tmp\n",
    "            seen.add(h)\n",
    "        return None\n",
    "        \n",
    "    def longestDupSubstring(self, S: str) -> str:\n",
    "        n = len(S)\n",
    "        maxStr = \"\"\n",
    "        # binary search, L = repeating string length\n",
    "        left, right = 1, n\n",
    "        while left <= right:\n",
    "            L = left + (right - left) // 2\n",
    "            substr = self.search(L, n, S)\n",
    "            if substr is not None:\n",
    "                if len(substr) > len(maxStr): maxStr = substr\n",
    "                left = L + 1\n",
    "            else:\n",
    "                right = L - 1\n",
    "               \n",
    "        return maxStr"
   ]
  },
  {
   "cell_type": "markdown",
   "metadata": {},
   "source": [
    "# Binary Search + Rabin-Karp - O(N * Log N) runtime, O(N) space"
   ]
  },
  {
   "cell_type": "code",
   "execution_count": 5,
   "metadata": {},
   "outputs": [],
   "source": [
    "from typing import List\n",
    "\n",
    "class Solution:\n",
    "    def search(self, L: int, a: int, modulus: int, n: int, nums: List[int]) -> str:\n",
    "        \"\"\"\n",
    "        Rabin-Karp with polynomial rolling hash.\n",
    "        Search a substring of given length\n",
    "        that occurs at least 2 times.\n",
    "        @return start position if the substring exits and -1 otherwise.\n",
    "        \"\"\"\n",
    "        # compute the hash of string S[:L]\n",
    "        h = 0\n",
    "        for i in range(L):\n",
    "            h = (h * a + nums[i]) % modulus\n",
    "              \n",
    "        # already seen hashes of strings of length L\n",
    "        seen = {h} \n",
    "        # const value to be used often : a**L % modulus\n",
    "        aL = pow(a, L, modulus) \n",
    "        for start in range(1, n - L + 1):\n",
    "            # compute rolling hash in O(1) time\n",
    "            h = (h * a - nums[start - 1] * aL + nums[start + L - 1]) % modulus\n",
    "            if h in seen:\n",
    "                return start\n",
    "            seen.add(h)\n",
    "        return -1\n",
    "        \n",
    "    def longestDupSubstring(self, S: str) -> str:\n",
    "        n = len(S)\n",
    "        # convert string to array of integers\n",
    "        # to implement constant time slice\n",
    "        nums = [ord(S[i]) - ord('a') for i in range(n)]\n",
    "        # base value for the rolling hash function\n",
    "        a = 26\n",
    "        # modulus value for the rolling hash function to avoid overflow\n",
    "        modulus = 2**64\n",
    "        \n",
    "        # binary search, L = repeating string length\n",
    "        left, right = 1, n\n",
    "        while left <= right:\n",
    "            L = left + (right - left) // 2\n",
    "            if self.search(L, a, modulus, n, nums) != -1:\n",
    "                left = L + 1\n",
    "            else:\n",
    "                right = L - 1\n",
    "               \n",
    "        start = self.search(left - 1, a, modulus, n, nums)\n",
    "        return S[start: start + left - 1]"
   ]
  },
  {
   "cell_type": "code",
   "execution_count": 6,
   "metadata": {},
   "outputs": [
    {
     "data": {
      "text/plain": [
       "'aab'"
      ]
     },
     "execution_count": 6,
     "metadata": {},
     "output_type": "execute_result"
    }
   ],
   "source": [
    "instance = Solution()\n",
    "instance.longestDupSubstring(\"aabcaabdaab\")"
   ]
  }
 ],
 "metadata": {
  "kernelspec": {
   "display_name": "Python 3",
   "language": "python",
   "name": "python3"
  },
  "language_info": {
   "codemirror_mode": {
    "name": "ipython",
    "version": 3
   },
   "file_extension": ".py",
   "mimetype": "text/x-python",
   "name": "python",
   "nbconvert_exporter": "python",
   "pygments_lexer": "ipython3",
   "version": "3.7.3"
  }
 },
 "nbformat": 4,
 "nbformat_minor": 2
}
