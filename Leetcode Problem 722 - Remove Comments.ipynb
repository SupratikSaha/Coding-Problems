{
 "cells": [
  {
   "cell_type": "markdown",
   "metadata": {},
   "source": [
    "    Problem Statements.\n",
    "\n",
    "    Given a C++ program, remove comments from it. The program source is an array where source[i] is the i-th line of the source code. This represents the result of splitting the original source code string by the newline character \\n.\n",
    "\n",
    "    In C++, there are two types of comments, line comments, and block comments.\n",
    "\n",
    "    The string // denotes a line comment, which represents that it and rest of the characters to the right of it in the same line should be ignored.\n",
    "\n",
    "    The string /* denotes a block comment, which represents that all characters until the next (non-overlapping) occurrence of */ should be ignored. (Here, occurrences happen in reading order: line by line from left to right.) To be clear, the string /*/ does not yet end the block comment, as the ending would be overlapping the beginning.\n",
    "\n",
    "    The first effective comment takes precedence over others: if the string // occurs in a block comment, it is ignored. Similarly, if the string /* occurs in a line or block comment, it is also ignored.\n",
    "\n",
    "    If a certain line of code is empty after removing comments, you must not output that line: each string in the answer list will be non-empty.\n",
    "\n",
    "    There will be no control characters, single quote, or double quote characters. For example, source = \"string s = \"/* Not a comment. */\";\" will not be a test case. (Also, nothing else such as defines or macros will interfere with the comments.)\n",
    "\n",
    "    It is guaranteed that every open block comment will eventually be closed, so /* outside of a line or block comment always starts a new comment.\n",
    "\n",
    "    Finally, implicit newline characters can be deleted by block comments. Please see the examples below for details.\n",
    "\n",
    "    After removing the comments from the source code, return the source code in the same format.\n",
    "\n",
    "    Example 1:\n",
    "\n",
    "    Input: \n",
    "    source = [\"/*Test program */\", \"int main()\", \"{ \", \"  // variable declaration \", \"int a, b, c;\", \"/* This is a test\", \"   multiline  \", \"   comment for \", \"   testing */\", \"a = b + c;\", \"}\"]\n",
    "\n",
    "    The line by line code is visualized as below:\n",
    "    /*Test program */\n",
    "    int main()\n",
    "    { \n",
    "      // variable declaration \n",
    "    int a, b, c;\n",
    "    /* This is a test\n",
    "       multiline  \n",
    "       comment for \n",
    "       testing */\n",
    "    a = b + c;\n",
    "    }\n",
    "\n",
    "    Output: [\"int main()\",\"{ \",\"  \",\"int a, b, c;\",\"a = b + c;\",\"}\"]\n",
    "\n",
    "    The line by line code is visualized as below:\n",
    "    int main()\n",
    "    { \n",
    "\n",
    "    int a, b, c;\n",
    "    a = b + c;\n",
    "    }\n",
    "\n",
    "    Explanation: \n",
    "    The string /* denotes a block comment, including line 1 and lines 6-9. The string // denotes line 4 as comments.\n",
    "\n",
    "    Example 2:\n",
    "\n",
    "    Input: \n",
    "    source = [\"a/*comment\", \"line\", \"more_comment*/b\"]\n",
    "    Output: [\"ab\"]\n",
    "    Explanation: The original source string is \"a/*comment\\nline\\nmore_comment*/b\", where we have bolded the newline characters.  After deletion, the implicit newline characters are deleted, leaving the string \"ab\", which when delimited by newline characters becomes [\"ab\"].\n",
    "\n",
    "    Note:\n",
    "    The length of source is in the range [1, 100].\n",
    "    The length of source[i] is in the range [0, 80].\n",
    "    Every open block comment is eventually closed.\n",
    "    There are no single-quote, double-quote, or control characters in the source code."
   ]
  },
  {
   "cell_type": "markdown",
   "metadata": {},
   "source": [
    "# String Traversal - O(C) runtime, O(C) space, where C is the total number of characters in the input"
   ]
  },
  {
   "cell_type": "code",
   "execution_count": 1,
   "metadata": {},
   "outputs": [],
   "source": [
    "from typing import List\n",
    "\n",
    "class Solution:\n",
    "    def removeComments(self, source: List[str]) -> List[str]:\n",
    "        res = []\n",
    "        inBlockComment = False\n",
    "        verifiedLine = []\n",
    "        for line in source:\n",
    "            i = 0\n",
    "            while i < len(line):\n",
    "                char = line[i]\n",
    "                if not inBlockComment and line[i:i+2] == '//':\n",
    "                    break\n",
    "                    \n",
    "                elif not inBlockComment and line[i:i+2] == '/*':\n",
    "                    inBlockComment = True\n",
    "                    i += 1\n",
    "\n",
    "                elif inBlockComment and line[i:i+2] == '*/':\n",
    "                    inBlockComment = False\n",
    "                    i += 1\n",
    "                \n",
    "                elif not inBlockComment: \n",
    "                    verifiedLine.append(char)\n",
    "                    \n",
    "                i += 1\n",
    "                \n",
    "            if verifiedLine and not inBlockComment:\n",
    "                res.append(''.join(verifiedLine))\n",
    "                verifiedLine = []\n",
    "            \n",
    "        return res"
   ]
  },
  {
   "cell_type": "code",
   "execution_count": 2,
   "metadata": {},
   "outputs": [
    {
     "data": {
      "text/plain": [
       "['int main()', '{ ', '  ', 'int a, b, c;', 'a = b + c;', '}']"
      ]
     },
     "execution_count": 2,
     "metadata": {},
     "output_type": "execute_result"
    }
   ],
   "source": [
    "instance = Solution()\n",
    "instance.removeComments([\"/*Test program */\", \"int main()\", \"{ \", \"  // variable declaration \", \"int a, b, c;\", \"/* This is a test\", \"   multiline  \", \"   comment for \", \"   testing */\", \"a = b + c;\", \"}\"])"
   ]
  }
 ],
 "metadata": {
  "kernelspec": {
   "display_name": "Python 3",
   "language": "python",
   "name": "python3"
  },
  "language_info": {
   "codemirror_mode": {
    "name": "ipython",
    "version": 3
   },
   "file_extension": ".py",
   "mimetype": "text/x-python",
   "name": "python",
   "nbconvert_exporter": "python",
   "pygments_lexer": "ipython3",
   "version": "3.7.3"
  }
 },
 "nbformat": 4,
 "nbformat_minor": 2
}
