{
 "cells": [
  {
   "cell_type": "markdown",
   "metadata": {},
   "source": [
    "Problem Statement.\n",
    "\n",
    "There is an 8 x 8 chessboard containing n pieces (rooks, queens, or bishops). You are given a string array pieces of length n, where pieces[i] describes the type (rook, queen, or bishop) of the ith piece. In addition, you are given a 2D integer array positions also of length n, where positions[i] = [ri, ci] indicates that the ith piece is currently at the 1-based coordinate (ri, ci) on the chessboard.\n",
    "\n",
    "When making a move for a piece, you choose a destination square that the piece will travel toward and stop on.\n",
    "\n",
    "    A rook can only travel horizontally or vertically from (r, c) to the direction of (r+1, c), (r-1, c), (r, c+1), or (r, c-1).\n",
    "    A queen can only travel horizontally, vertically, or diagonally from (r, c) to the direction of (r+1, c), (r-1, c), (r, c+1), (r, c-1), (r+1, c+1), (r+1, c-1), (r-1, c+1), (r-1, c-1).\n",
    "    A bishop can only travel diagonally from (r, c) to the direction of (r+1, c+1), (r+1, c-1), (r-1, c+1), (r-1, c-1).\n",
    "\n",
    "You must make a move for every piece on the board simultaneously. A move combination consists of all the moves performed on all the given pieces. Every second, each piece will instantaneously travel one square towards their destination if they are not already at it. All pieces start traveling at the 0th second. A move combination is invalid if, at a given time, two or more pieces occupy the same square.\n",
    "\n",
    "Return the number of valid move combinations​​​​​.\n",
    "\n",
    "Notes:\n",
    "\n",
    "    No two pieces will start in the same square.\n",
    "    You may choose the square a piece is already on as its destination.\n",
    "    If two pieces are directly adjacent to each other, it is valid for them to move past each other and swap positions in one second.\n",
    "\n",
    " \n",
    "\n",
    "Example 1:\n",
    "\n",
    "Input: pieces = [\"rook\"], positions = [[1,1]]\n",
    "Output: 15\n",
    "Explanation: The image above shows the possible squares the piece can move to.\n",
    "\n",
    "Example 2:\n",
    "\n",
    "Input: pieces = [\"queen\"], positions = [[1,1]]\n",
    "Output: 22\n",
    "Explanation: The image above shows the possible squares the piece can move to.\n",
    "\n",
    "Example 3:\n",
    "\n",
    "Input: pieces = [\"bishop\"], positions = [[4,3]]\n",
    "Output: 12\n",
    "Explanation: The image above shows the possible squares the piece can move to.\n",
    "\n",
    " \n",
    "\n",
    "Constraints:\n",
    "\n",
    "    n == pieces.length\n",
    "    n == positions.length\n",
    "    1 <= n <= 4\n",
    "    pieces only contains the strings \"rook\", \"queen\", and \"bishop\".\n",
    "    There will be at most one queen on the chessboard.\n",
    "    1 <= xi, yi <= 8\n",
    "    Each positions[i] is distinct."
   ]
  },
  {
   "cell_type": "markdown",
   "metadata": {},
   "source": [
    "# Brute Force and Caching - O(29 ^ 4) runtime O(29 ^ 4) space"
   ]
  },
  {
   "cell_type": "code",
   "execution_count": 3,
   "metadata": {},
   "outputs": [],
   "source": [
    "from typing import List\n",
    "from functools import lru_cache\n",
    "\n",
    "class Solution:\n",
    "    def countCombinations(self, pieces: List[str], positions: List[List[int]]) -> int:\n",
    "        moves = { \"rook\" : [ (1,0),(-1,0),(0,-1),(0,1) ],\n",
    "                  \"bishop\" : [ (1,1),(-1,-1),(1,-1),(-1,1) ],\n",
    "                  \"queen\" : [ (1,0),(-1,0),(0,-1),(0,1),(1,1),(-1,-1),(1,-1),(-1,1) ] }\n",
    "\n",
    "        # bq -> blocked cells where we can't be. ( i, j, time ) as we care about time too\n",
    "        # nbq -> same as above but it includes the current move\n",
    "        # nxbq -> nbd and it adds the time until the end, as we will stay in this cell and wont let others pieces in\n",
    "        \n",
    "        @lru_cache(maxsize=None)\n",
    "        def search( p, bq ) -> int:\n",
    "            if p == len( pieces ):\n",
    "                return 1\n",
    "            \n",
    "            res, t = 0, 0\n",
    "            for m in moves[ pieces[p] ]:\n",
    "                i, j = positions[p]\n",
    "                # only start from initial position the first time.\n",
    "                if t == 1:\n",
    "                    i, j = i + m[0], j + m[1]\n",
    "                nbq = bq\n",
    "                    \n",
    "                while i > 0 and i < 9 and j > 0 and j < 9:\n",
    "                    if ( i, j, t ) in nbq:\n",
    "                        break\n",
    "                    nbq = nbq + (( i, j, t ),)\n",
    "                    nxbq = nbq\n",
    "\n",
    "                    # Figure out if we can stay in this cell until the end of the game\n",
    "                    stay = True\n",
    "                    for nt in range( t+1, 8 ):\n",
    "                        if ( i, j, nt ) in bq:\n",
    "                            stay = False\n",
    "                            break\n",
    "                        nxbq = nxbq + (( i, j, nt ),)\n",
    "\n",
    "                    if stay:\n",
    "                        res += search( p+1, nxbq )\n",
    "                    i, j, t = i + m[0], j + m[1], t + 1\n",
    "                \n",
    "                i, j = positions[p]\n",
    "                if ( i, j, 0 ) not in bq:\n",
    "                    bq += (( i, j, 0 ),)\n",
    "                t = 1\n",
    "                    \n",
    "            return res\n",
    "        \n",
    "        return search( 0, () )"
   ]
  },
  {
   "cell_type": "code",
   "execution_count": 4,
   "metadata": {},
   "outputs": [
    {
     "data": {
      "text/plain": [
       "15"
      ]
     },
     "execution_count": 4,
     "metadata": {},
     "output_type": "execute_result"
    }
   ],
   "source": [
    "instance = Solution()\n",
    "instance.countCombinations( [\"rook\"],[[1, 1]])"
   ]
  }
 ],
 "metadata": {
  "kernelspec": {
   "display_name": "Python 3",
   "language": "python",
   "name": "python3"
  },
  "language_info": {
   "codemirror_mode": {
    "name": "ipython",
    "version": 3
   },
   "file_extension": ".py",
   "mimetype": "text/x-python",
   "name": "python",
   "nbconvert_exporter": "python",
   "pygments_lexer": "ipython3",
   "version": "3.7.3"
  }
 },
 "nbformat": 4,
 "nbformat_minor": 2
}
