{
 "cells": [
  {
   "cell_type": "markdown",
   "metadata": {},
   "source": [
    "Problem Statement. <br/>\n",
    "\n",
    "Given an integer array nums, design an algorithm to randomly shuffle the array. <br/>\n",
    "Implement the Solution class: <br/>\n",
    "    Solution(int[] nums) Initializes the object with the integer array nums.\n",
    "    int[] reset() Resets the array to its original configuration and returns it.\n",
    "    int[] shuffle() Returns a random shuffling of the array.\n",
    "\n",
    "Example 1: <br/>\n",
    "Input: <br/>\n",
    "[\"Solution\", \"shuffle\", \"reset\", \"shuffle\"] <br/>\n",
    "[[[1, 2, 3]], [], [], []] <br/>\n",
    "Output: <br/>\n",
    "[null, [3, 1, 2], [1, 2, 3], [1, 3, 2]] <br/>\n",
    "\n",
    "Explanation <br/>\n",
    "Solution solution = new Solution([1, 2, 3]); <br/>\n",
    "solution.shuffle();    // Shuffle the array [1,2,3] and return its result. Any permutation of [1,2,3] must be equally likely to be returned. Example: return [3, 1, 2] <br/>\n",
    "solution.reset();      // Resets the array back to its original configuration [1,2,3]. Return [1, 2, 3] <br/>\n",
    "solution.shuffle();    // Returns the random shuffling of array [1,2,3]. Example: return [1, 3, 2]"
   ]
  },
  {
   "cell_type": "markdown",
   "metadata": {},
   "source": [
    "# Set and randomize - O(N) runtime, O(N) space"
   ]
  },
  {
   "cell_type": "code",
   "execution_count": null,
   "metadata": {},
   "outputs": [],
   "source": [
    "class Solution:\n",
    "\n",
    "    def __init__(self, nums: List[int]):\n",
    "        self.nums = nums\n",
    "        self.n = len(nums)\n",
    "        \n",
    "\n",
    "    def reset(self) -> List[int]:\n",
    "        \"\"\"\n",
    "        Resets the array to its original configuration and return it.\n",
    "        \"\"\"\n",
    "        return self.nums\n",
    "        \n",
    "\n",
    "    def shuffle(self) -> List[int]:\n",
    "        \"\"\"\n",
    "        Returns a random shuffling of the array.\n",
    "        \"\"\"\n",
    "        result = []\n",
    "        index_set = set()\n",
    "        while len(index_set) < self.n:\n",
    "            index = random.randint(0, self.n - 1)\n",
    "            if index not in index_set:\n",
    "                result.append(self.nums[index])\n",
    "                index_set.add(index)\n",
    "        return result"
   ]
  },
  {
   "cell_type": "markdown",
   "metadata": {},
   "source": [
    "# Pop Array Element - O(N ^ 2) runtime, O(N) space"
   ]
  },
  {
   "cell_type": "code",
   "execution_count": null,
   "metadata": {},
   "outputs": [],
   "source": [
    "class Solution:\n",
    "    def __init__(self, nums):\n",
    "        self.array = nums\n",
    "        self.original = list(nums)\n",
    "\n",
    "    def reset(self):\n",
    "        self.array = list(self.original)\n",
    "        return self.array\n",
    "\n",
    "    def shuffle(self):\n",
    "        aux = list(self.array)\n",
    "\n",
    "        for idx in range(len(self.array)):\n",
    "            remove_idx = random.randrange(len(aux))\n",
    "            self.array[idx] = aux.pop(remove_idx)\n",
    "\n",
    "        return self.array"
   ]
  },
  {
   "cell_type": "markdown",
   "metadata": {},
   "source": [
    "# Randomly Swap Elements - O(N) runtime, O(N) space"
   ]
  },
  {
   "cell_type": "code",
   "execution_count": null,
   "metadata": {},
   "outputs": [],
   "source": [
    "class Solution:\n",
    "    def __init__(self, nums):\n",
    "        self.array = nums\n",
    "        self.original = list(nums)\n",
    "\n",
    "    def reset(self):\n",
    "        self.array = list(self.original)\n",
    "        return self.array\n",
    "\n",
    "    def shuffle(self):\n",
    "        for i in range(len(self.array)):\n",
    "            swap_idx = random.randrange(i, len(self.array))\n",
    "            self.array[i], self.array[swap_idx] = self.array[swap_idx], self.array[i]\n",
    "        return self.array"
   ]
  }
 ],
 "metadata": {
  "kernelspec": {
   "display_name": "Python 3",
   "language": "python",
   "name": "python3"
  },
  "language_info": {
   "codemirror_mode": {
    "name": "ipython",
    "version": 3
   },
   "file_extension": ".py",
   "mimetype": "text/x-python",
   "name": "python",
   "nbconvert_exporter": "python",
   "pygments_lexer": "ipython3",
   "version": "3.7.3"
  }
 },
 "nbformat": 4,
 "nbformat_minor": 2
}
