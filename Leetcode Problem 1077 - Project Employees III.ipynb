{
 "cells": [
  {
   "cell_type": "markdown",
   "metadata": {},
   "source": [
    "    Problem Statement.\n",
    "\n",
    "    Table: Project\n",
    "\n",
    "    +-------------+---------+\n",
    "    | Column Name | Type    |\n",
    "    +-------------+---------+\n",
    "    | project_id  | int     |\n",
    "    | employee_id | int     |\n",
    "    +-------------+---------+\n",
    "    (project_id, employee_id) is the primary key of this table.\n",
    "    employee_id is a foreign key to Employee table.\n",
    "    Each row of this table indicates that the employee with employee_id is working on the project with project_id.\n",
    "\n",
    "\n",
    "\n",
    "    Table: Employee\n",
    "\n",
    "    +------------------+---------+\n",
    "    | Column Name      | Type    |\n",
    "    +------------------+---------+\n",
    "    | employee_id      | int     |\n",
    "    | name             | varchar |\n",
    "    | experience_years | int     |\n",
    "    +------------------+---------+\n",
    "    employee_id is the primary key of this table.\n",
    "    Each row of this table contains information about one employee.\n",
    "\n",
    "\n",
    "\n",
    "    Write an SQL query that reports the most experienced employees in each project. In case of a tie, report all employees with the maximum number of experience years.\n",
    "\n",
    "    Return the result table in any order.\n",
    "\n",
    "    The query result format is in the following example.\n",
    "\n",
    "\n",
    "\n",
    "    Example 1:\n",
    "\n",
    "    Input: \n",
    "    Project table:\n",
    "    +-------------+-------------+\n",
    "    | project_id  | employee_id |\n",
    "    +-------------+-------------+\n",
    "    | 1           | 1           |\n",
    "    | 1           | 2           |\n",
    "    | 1           | 3           |\n",
    "    | 2           | 1           |\n",
    "    | 2           | 4           |\n",
    "    +-------------+-------------+\n",
    "    Employee table:\n",
    "    +-------------+--------+------------------+\n",
    "    | employee_id | name   | experience_years |\n",
    "    +-------------+--------+------------------+\n",
    "    | 1           | Khaled | 3                |\n",
    "    | 2           | Ali    | 2                |\n",
    "    | 3           | John   | 3                |\n",
    "    | 4           | Doe    | 2                |\n",
    "    +-------------+--------+------------------+\n",
    "    Output: \n",
    "    +-------------+---------------+\n",
    "    | project_id  | employee_id   |\n",
    "    +-------------+---------------+\n",
    "    | 1           | 1             |\n",
    "    | 1           | 3             |\n",
    "    | 2           | 1             |\n",
    "    +-------------+---------------+\n",
    "    Explanation: Both employees with id 1 and 3 have the most experience among the employees of the first project. For the second project, the employee with id 1 has the most experience."
   ]
  },
  {
   "cell_type": "markdown",
   "metadata": {},
   "source": [
    "# With"
   ]
  },
  {
   "cell_type": "code",
   "execution_count": null,
   "metadata": {},
   "outputs": [],
   "source": [
    "with ranked_employees as\n",
    "(select project_id, p.employee_id,\n",
    "rank() over (partition by project_id order by experience_years desc) as experience_rank\n",
    "from Project p join Employee e on p.employee_id = e.employee_id)\n",
    "\n",
    "select project_id, employee_id\n",
    "from ranked_employees\n",
    "where experience_rank = 1"
   ]
  },
  {
   "cell_type": "markdown",
   "metadata": {},
   "source": [
    "# In"
   ]
  },
  {
   "cell_type": "code",
   "execution_count": null,
   "metadata": {},
   "outputs": [],
   "source": [
    "SELECT p.project_id, e.employee_id\n",
    "from project as p \n",
    "join employee as e on e.employee_id = p.employee_id\n",
    "where (p.project_id, e.experience_years) in\n",
    "(SELECT p.project_id, max(e.experience_years)\n",
    "from project as p\n",
    "join employee as e on e.employee_id = p.employee_id\n",
    "group by project_id)"
   ]
  }
 ],
 "metadata": {
  "kernelspec": {
   "display_name": "Python 3",
   "language": "python",
   "name": "python3"
  },
  "language_info": {
   "codemirror_mode": {
    "name": "ipython",
    "version": 3
   },
   "file_extension": ".py",
   "mimetype": "text/x-python",
   "name": "python",
   "nbconvert_exporter": "python",
   "pygments_lexer": "ipython3",
   "version": "3.7.3"
  }
 },
 "nbformat": 4,
 "nbformat_minor": 2
}
