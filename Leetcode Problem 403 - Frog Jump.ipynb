{
 "cells": [
  {
   "cell_type": "markdown",
   "metadata": {},
   "source": [
    "Problem Statement.\n",
    "\n",
    "A frog is crossing a river. The river is divided into some number of units, and at each unit, there may or may not exist a stone. The frog can jump on a stone, but it must not jump into the water.\n",
    "\n",
    "Given a list of stones' positions (in units) in sorted ascending order, determine if the frog can cross the river by landing on the last stone. Initially, the frog is on the first stone and assumes the first jump must be 1 unit.\n",
    "\n",
    "If the frog's last jump was k units, its next jump must be either k - 1, k, or k + 1 units. The frog can only jump in the forward direction.\n",
    "\n",
    " \n",
    "\n",
    "Example 1:\n",
    "\n",
    "Input: stones = [0,1,3,5,6,8,12,17]\n",
    "Output: true\n",
    "Explanation: The frog can jump to the last stone by jumping 1 unit to the 2nd stone, then 2 units to the 3rd stone, then 2 units to the 4th stone, then 3 units to the 6th stone, 4 units to the 7th stone, and 5 units to the 8th stone.\n",
    "\n",
    "Example 2:\n",
    "\n",
    "Input: stones = [0,1,2,3,4,8,9,11]\n",
    "Output: false\n",
    "Explanation: There is no way to jump to the last stone as the gap between the 5th and 6th stone is too large.\n",
    "\n",
    " \n",
    "\n",
    "Constraints:\n",
    "\n",
    "    2 <= stones.length <= 2000\n",
    "    0 <= stones[i] <= 2^31 - 1\n",
    "    stones[0] == 0\n",
    "    stones is sorted in a strictly increasing order."
   ]
  },
  {
   "cell_type": "markdown",
   "metadata": {},
   "source": [
    "# Top Down DP with memo - O(M ^ 2) runtime, O(M ^ 2) space, where M is the largest value in the list"
   ]
  },
  {
   "cell_type": "code",
   "execution_count": 1,
   "metadata": {},
   "outputs": [],
   "source": [
    "from typing import List\n",
    "from functools import lru_cache\n",
    "\n",
    "class Solution:\n",
    "    def canCross(self, stones: List[int]) -> bool:\n",
    "        target = stones[-1]\n",
    "        stones = set(stones)\n",
    "        \n",
    "        @lru_cache(maxsize=None)\n",
    "        def dfs(pos, lastJump):\n",
    "            if pos not in stones: return False\n",
    "            if pos == target: return True\n",
    "            \n",
    "            result = dfs(pos + lastJump - 1, lastJump - 1) if lastJump - 1 >= 1 else False\n",
    "            result |= dfs(pos + lastJump, lastJump) if lastJump >= 1 else False\n",
    "            result |=  dfs(pos + lastJump + 1, lastJump + 1)\n",
    "           \n",
    "            return result\n",
    "            \n",
    "        return dfs(0, 0)"
   ]
  },
  {
   "cell_type": "markdown",
   "metadata": {},
   "source": [
    "# Bottom Up DP - O(N * M) runtime, O(N * M) space, where M is the largest value in the list"
   ]
  },
  {
   "cell_type": "code",
   "execution_count": 4,
   "metadata": {},
   "outputs": [],
   "source": [
    "from typing import List\n",
    "\n",
    "class Solution:\n",
    "    def canCross(self, stones: List[int]) -> bool:\n",
    "        if stones[1] != 1: return False\n",
    "        \n",
    "        d = {x: set() for x in stones}\n",
    "        d[1].add(1)\n",
    "        \n",
    "        for x in stones[:-1]:\n",
    "            for j in d[x]:\n",
    "                for k in range(j-1, j+2):\n",
    "                    if k > 0 and x+k in d:\n",
    "                        d[x+k].add(k)\n",
    "                        \n",
    "        return bool(d[stones[-1]])"
   ]
  },
  {
   "cell_type": "code",
   "execution_count": 5,
   "metadata": {},
   "outputs": [
    {
     "data": {
      "text/plain": [
       "False"
      ]
     },
     "execution_count": 5,
     "metadata": {},
     "output_type": "execute_result"
    }
   ],
   "source": [
    "instance = Solution()\n",
    "instance.canCross([0,1,2,3,4,8,9,11])"
   ]
  }
 ],
 "metadata": {
  "kernelspec": {
   "display_name": "Python 3",
   "language": "python",
   "name": "python3"
  },
  "language_info": {
   "codemirror_mode": {
    "name": "ipython",
    "version": 3
   },
   "file_extension": ".py",
   "mimetype": "text/x-python",
   "name": "python",
   "nbconvert_exporter": "python",
   "pygments_lexer": "ipython3",
   "version": "3.7.3"
  }
 },
 "nbformat": 4,
 "nbformat_minor": 2
}
