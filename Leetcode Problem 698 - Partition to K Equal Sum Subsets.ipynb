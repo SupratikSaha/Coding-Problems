{
 "cells": [
  {
   "cell_type": "markdown",
   "metadata": {},
   "source": [
    "Problem Statement.\n",
    "\n",
    "Given an integer array nums and an integer k, return true if it is possible to divide this array into k non-empty subsets whose sums are all equal.\n",
    "\n",
    " \n",
    "\n",
    "Example 1:\n",
    "\n",
    "Input: nums = [4,3,2,3,5,2,1], k = 4\n",
    "Output: true\n",
    "Explanation: It's possible to divide it into 4 subsets (5), (1, 4), (2,3), (2,3) with equal sums.\n",
    "\n",
    "Example 2:\n",
    "\n",
    "Input: nums = [1,2,3,4], k = 3\n",
    "Output: false\n",
    "\n",
    " \n",
    "\n",
    "Constraints:\n",
    "\n",
    "    1 <= k <= nums.length <= 16\n",
    "    1 <= nums[i] <= 104\n",
    "    The frequency of each element is in the range [1, 4]."
   ]
  },
  {
   "cell_type": "markdown",
   "metadata": {},
   "source": [
    "# Backtracking - Time Limit Exceeded - O(N ^ K) runtime, O(N + K) space"
   ]
  },
  {
   "cell_type": "code",
   "execution_count": 1,
   "metadata": {},
   "outputs": [],
   "source": [
    "from typing import List\n",
    "\n",
    "class Solution:\n",
    "    def canPartitionKSubsets(self, nums: List[int], k: int) -> bool:\n",
    "        total, n = sum(nums), len(nums)\n",
    "        if total % k != 0: return False\n",
    "        partSum = total // k\n",
    "        \n",
    "        def checkPartition(partitionList, index, completeSubsets):\n",
    "            if index == n:\n",
    "                if completeSubsets == k: return True\n",
    "                return False\n",
    "            \n",
    "            returnVal = False\n",
    "            for i, prevPartitionSum in enumerate(partitionList):\n",
    "                currPartitonSum = prevPartitionSum + nums[index]\n",
    "                if currPartitonSum == partSum: \n",
    "                    partitionList[i] = currPartitonSum\n",
    "                    returnVal |= checkPartition(partitionList, index+1, completeSubsets+1)\n",
    "                    partitionList[i] = prevPartitionSum\n",
    "                elif currPartitonSum < partSum: \n",
    "                    partitionList[i] = currPartitonSum\n",
    "                    returnVal |= checkPartition(partitionList, index+1, completeSubsets)\n",
    "                    partitionList[i] = prevPartitionSum\n",
    "                \n",
    "                if returnVal: return True\n",
    "                    \n",
    "            return returnVal\n",
    "        \n",
    "        return checkPartition([0 for _ in range(k)], 0, 0)"
   ]
  },
  {
   "cell_type": "markdown",
   "metadata": {},
   "source": [
    "# Optimized Backtracking with Sort- O(N ^ K) runtime, O(N + K) space"
   ]
  },
  {
   "cell_type": "code",
   "execution_count": 3,
   "metadata": {},
   "outputs": [],
   "source": [
    "from typing import List\n",
    "\n",
    "class Solution:\n",
    "    def canPartitionKSubsets(self, A: List[int], k: int) -> bool:\n",
    "        if len(A) < k: return False\n",
    "        \n",
    "        ASum = sum(A)\n",
    "        if ASum % k != 0: return False\n",
    "        \n",
    "        A.sort(reverse=True)\n",
    "        \n",
    "        target = [ASum // k] * k\n",
    "\n",
    "        def dfs(pos):\n",
    "            if pos == len(A): return True\n",
    "            for i in range(k):\n",
    "                if target[i] >= A[pos]:\n",
    "                    target[i] -= A[pos]\n",
    "                    if dfs(pos + 1):\n",
    "                        return True\n",
    "                    target[i] += A[pos]\n",
    "            return False\n",
    "        \n",
    "        return dfs(0)"
   ]
  },
  {
   "cell_type": "code",
   "execution_count": 4,
   "metadata": {},
   "outputs": [
    {
     "data": {
      "text/plain": [
       "True"
      ]
     },
     "execution_count": 4,
     "metadata": {},
     "output_type": "execute_result"
    }
   ],
   "source": [
    "instance = Solution()\n",
    "instance.canPartitionKSubsets([4,3,2,3,5,2,1], 4)"
   ]
  }
 ],
 "metadata": {
  "kernelspec": {
   "display_name": "Python 3",
   "language": "python",
   "name": "python3"
  },
  "language_info": {
   "codemirror_mode": {
    "name": "ipython",
    "version": 3
   },
   "file_extension": ".py",
   "mimetype": "text/x-python",
   "name": "python",
   "nbconvert_exporter": "python",
   "pygments_lexer": "ipython3",
   "version": "3.7.3"
  }
 },
 "nbformat": 4,
 "nbformat_minor": 2
}
