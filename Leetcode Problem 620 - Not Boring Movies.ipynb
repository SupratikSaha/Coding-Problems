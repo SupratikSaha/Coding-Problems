{
 "cells": [
  {
   "cell_type": "markdown",
   "metadata": {},
   "source": [
    "    Problem Statement.\n",
    "\n",
    "    Table: Cinema\n",
    "\n",
    "    +----------------+----------+\n",
    "    | Column Name    | Type     |\n",
    "    +----------------+----------+\n",
    "    | id             | int      |\n",
    "    | movie          | varchar  |\n",
    "    | description    | varchar  |\n",
    "    | rating         | float    |\n",
    "    +----------------+----------+\n",
    "    id is the primary key for this table.\n",
    "    Each row contains information about the name of a movie, its genre, and its rating.\n",
    "    rating is a 2 decimal places float in the range [0, 10]\n",
    "\n",
    "\n",
    "\n",
    "    Write an SQL query to report the movies with an odd-numbered ID and a description that is not \"boring\".\n",
    "\n",
    "    Return the result table in descending order by rating.\n",
    "\n",
    "    The query result format is in the following example:\n",
    "\n",
    "\n",
    "\n",
    "    Cinema table:\n",
    "    +----+------------+-------------+--------+\n",
    "    | id | movie      | description | rating |\n",
    "    +----+------------+-------------+--------+\n",
    "    | 1  | War        | great 3D    | 8.9    |\n",
    "    | 2  | Science    | fiction     | 8.5    |\n",
    "    | 3  | irish      | boring      | 6.2    |\n",
    "    | 4  | Ice song   | Fantacy     | 8.6    |\n",
    "    | 5  | House card | Interesting | 9.1    |\n",
    "    +----+------------+-------------+--------+\n",
    "\n",
    "    Result table:\n",
    "    +----+------------+-------------+--------+\n",
    "    | id | movie      | description | rating |\n",
    "    +----+------------+-------------+--------+\n",
    "    | 5  | House card | Interesting | 9.1    |\n",
    "    | 1  | War        | great 3D    | 8.9    |\n",
    "    +----+------------+-------------+--------+\n",
    "\n",
    "    We have three movies with odd-numbered ID: 1, 3, and 5. The movie with ID = 3 is boring so we don't include it in the answer."
   ]
  },
  {
   "cell_type": "markdown",
   "metadata": {},
   "source": [
    "# Order By"
   ]
  },
  {
   "cell_type": "code",
   "execution_count": null,
   "metadata": {},
   "outputs": [],
   "source": [
    "select * from Cinema\n",
    "where id % 2 = 1 and description != 'boring'\n",
    "order by rating desc"
   ]
  }
 ],
 "metadata": {
  "kernelspec": {
   "display_name": "Python 3",
   "language": "python",
   "name": "python3"
  },
  "language_info": {
   "codemirror_mode": {
    "name": "ipython",
    "version": 3
   },
   "file_extension": ".py",
   "mimetype": "text/x-python",
   "name": "python",
   "nbconvert_exporter": "python",
   "pygments_lexer": "ipython3",
   "version": "3.7.3"
  }
 },
 "nbformat": 4,
 "nbformat_minor": 2
}
