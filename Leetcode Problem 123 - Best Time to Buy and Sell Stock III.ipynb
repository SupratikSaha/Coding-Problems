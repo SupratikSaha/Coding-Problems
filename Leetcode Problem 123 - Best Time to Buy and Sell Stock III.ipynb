{
 "cells": [
  {
   "cell_type": "markdown",
   "metadata": {},
   "source": [
    "Problem Statement.\n",
    "\n",
    "You are given an array prices where prices[i] is the price of a given stock on the ith day.\n",
    "\n",
    "Find the maximum profit you can achieve. You may complete at most two transactions.\n",
    "\n",
    "Note: You may not engage in multiple transactions simultaneously (i.e., you must sell the stock before you buy again).\n",
    "\n",
    " \n",
    "\n",
    "Example 1:\n",
    "\n",
    "Input: prices = [3,3,5,0,0,3,1,4]\n",
    "Output: 6\n",
    "Explanation: Buy on day 4 (price = 0) and sell on day 6 (price = 3), profit = 3-0 = 3.\n",
    "Then buy on day 7 (price = 1) and sell on day 8 (price = 4), profit = 4-1 = 3.\n",
    "\n",
    "Example 2:\n",
    "\n",
    "Input: prices = [1,2,3,4,5]\n",
    "Output: 4\n",
    "Explanation: Buy on day 1 (price = 1) and sell on day 5 (price = 5), profit = 5-1 = 4.\n",
    "Note that you cannot buy on day 1, buy on day 2 and sell them later, as you are engaging multiple transactions at the same time. You must sell before buying again.\n",
    "\n",
    "Example 3:\n",
    "\n",
    "Input: prices = [7,6,4,3,1]\n",
    "Output: 0\n",
    "Explanation: In this case, no transaction is done, i.e. max profit = 0.\n",
    "\n",
    "Example 4:\n",
    "\n",
    "Input: prices = [1]\n",
    "Output: 0\n",
    "\n",
    " \n",
    "\n",
    "Constraints:\n",
    "\n",
    "    1 <= prices.length <= 10^5\n",
    "    0 <= prices[i] <= 10^5"
   ]
  },
  {
   "cell_type": "markdown",
   "metadata": {},
   "source": [
    "# Time Limit Exceeded - Bottom Up DP"
   ]
  },
  {
   "cell_type": "code",
   "execution_count": 1,
   "metadata": {},
   "outputs": [],
   "source": [
    "from typing import List\n",
    "\n",
    "class Solution:\n",
    "    def maxProfit(self, prices: List[int]) -> int:\n",
    "        n = len(prices)\n",
    "        \n",
    "        def getMaxprofit(prevIndex, currIndex, stocksBought, currProfit):\n",
    "            \n",
    "            if currIndex == n: return currProfit\n",
    "            \n",
    "            sell, buy, skip = 0, 0, 0\n",
    "            if prevIndex is not None and prices[currIndex] > prices[prevIndex]:\n",
    "                \n",
    "                profit = prices[currIndex] - prices[prevIndex]\n",
    "                if stocksBought < 2: sell = getMaxprofit(None, currIndex+1, 1, profit)\n",
    "                elif stocksBought == 2: sell = currProfit + profit\n",
    "            elif prevIndex is None:\n",
    "                buy = getMaxprofit(currIndex, currIndex+1, stocksBought + 1, currProfit)\n",
    "            \n",
    "            skip = getMaxprofit(prevIndex, currIndex+1, stocksBought, currProfit)\n",
    "\n",
    "            return max(buy, sell, skip)\n",
    "            \n",
    "        return getMaxprofit(None, 0, 0, 0)"
   ]
  },
  {
   "cell_type": "markdown",
   "metadata": {},
   "source": [
    "# One Pass Solution - O(N) runtime, O(1) space"
   ]
  },
  {
   "cell_type": "code",
   "execution_count": 3,
   "metadata": {},
   "outputs": [],
   "source": [
    "from typing import List\n",
    "\n",
    "class Solution:\n",
    "    def maxProfit(self, prices: List[int]) -> int:\n",
    "        t1_cost, t2_cost = float('inf'), float('inf')\n",
    "        t1_profit, t2_profit = 0, 0\n",
    "\n",
    "        for price in prices:\n",
    "            # the maximum profit if only one transaction is allowed\n",
    "            t1_cost = min(t1_cost, price)\n",
    "            t1_profit = max(t1_profit, price - t1_cost)\n",
    "            # reinvest the gained profit in the second transaction\n",
    "            t2_cost = min(t2_cost, price - t1_profit)\n",
    "            t2_profit = max(t2_profit, price - t2_cost)\n",
    "\n",
    "        return t2_profit"
   ]
  },
  {
   "cell_type": "code",
   "execution_count": 4,
   "metadata": {},
   "outputs": [
    {
     "data": {
      "text/plain": [
       "6"
      ]
     },
     "execution_count": 4,
     "metadata": {},
     "output_type": "execute_result"
    }
   ],
   "source": [
    "instance = Solution()\n",
    "instance.maxProfit([3,3,5,0,0,3,1,4])"
   ]
  }
 ],
 "metadata": {
  "kernelspec": {
   "display_name": "Python 3",
   "language": "python",
   "name": "python3"
  },
  "language_info": {
   "codemirror_mode": {
    "name": "ipython",
    "version": 3
   },
   "file_extension": ".py",
   "mimetype": "text/x-python",
   "name": "python",
   "nbconvert_exporter": "python",
   "pygments_lexer": "ipython3",
   "version": "3.7.3"
  }
 },
 "nbformat": 4,
 "nbformat_minor": 2
}
