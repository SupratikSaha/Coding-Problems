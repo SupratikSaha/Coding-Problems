{
 "cells": [
  {
   "cell_type": "markdown",
   "metadata": {},
   "source": [
    "Problem Statement.\n",
    "\n",
    "You are given a positive integer p. Consider an array nums (1-indexed) that consists of the integers in the inclusive range [1, 2p - 1] in their binary representations. You are allowed to do the following operation any number of times:\n",
    "\n",
    "    Choose two elements x and y from nums.\n",
    "    Choose a bit in x and swap it with its corresponding bit in y. Corresponding bit refers to the bit that is in the same position in the other integer.\n",
    "\n",
    "For example, if x = 1101 and y = 0011, after swapping the 2nd bit from the right, we have x = 1111 and y = 0001.\n",
    "\n",
    "Find the minimum non-zero product of nums after performing the above operation any number of times. Return this product modulo 109 + 7.\n",
    "\n",
    "Note: The answer should be the minimum product before the modulo operation is done.\n",
    "\n",
    " \n",
    "\n",
    "Example 1:\n",
    "\n",
    "Input: p = 1\n",
    "Output: 1\n",
    "Explanation: nums = [1].\n",
    "There is only one element, so the product equals that element.\n",
    "\n",
    "Example 2:\n",
    "\n",
    "Input: p = 2\n",
    "Output: 6\n",
    "Explanation: nums = [01, 10, 11].\n",
    "Any swap would either make the product 0 or stay the same.\n",
    "Thus, the array product of 1 * 2 * 3 = 6 is already minimized.\n",
    "\n",
    "Example 3:\n",
    "\n",
    "Input: p = 3\n",
    "Output: 1512\n",
    "Explanation: nums = [001, 010, 011, 100, 101, 110, 111]\n",
    "- In the first operation we can swap the leftmost bit of the second and fifth elements.\n",
    "    - The resulting array is [001, 110, 011, 100, 001, 110, 111].\n",
    "- In the second operation we can swap the middle bit of the third and fourth elements.\n",
    "    - The resulting array is [001, 110, 001, 110, 001, 110, 111].\n",
    "The array product is 1 * 6 * 1 * 6 * 1 * 6 * 7 = 1512, which is the minimum possible product.\n",
    "\n",
    " \n",
    "\n",
    "Constraints:\n",
    "\n",
    "    1 <= p <= 60"
   ]
  },
  {
   "cell_type": "markdown",
   "metadata": {},
   "source": [
    "# Math - O(P) runtime, O(1) space"
   ]
  },
  {
   "cell_type": "code",
   "execution_count": 1,
   "metadata": {},
   "outputs": [],
   "source": [
    "class Solution:\n",
    "    def minNonZeroProduct(self, p: int) -> int:\n",
    "        return (pow(2**p -2, (2**p-2)//2, 10**9 + 7) * (2**p - 1)) % (10**9 + 7)"
   ]
  },
  {
   "cell_type": "code",
   "execution_count": 3,
   "metadata": {},
   "outputs": [
    {
     "data": {
      "text/plain": [
       "1512"
      ]
     },
     "execution_count": 3,
     "metadata": {},
     "output_type": "execute_result"
    }
   ],
   "source": [
    "instance = Solution()\n",
    "instance.minNonZeroProduct(3)"
   ]
  }
 ],
 "metadata": {
  "kernelspec": {
   "display_name": "Python 3",
   "language": "python",
   "name": "python3"
  },
  "language_info": {
   "codemirror_mode": {
    "name": "ipython",
    "version": 3
   },
   "file_extension": ".py",
   "mimetype": "text/x-python",
   "name": "python",
   "nbconvert_exporter": "python",
   "pygments_lexer": "ipython3",
   "version": "3.7.3"
  }
 },
 "nbformat": 4,
 "nbformat_minor": 2
}
