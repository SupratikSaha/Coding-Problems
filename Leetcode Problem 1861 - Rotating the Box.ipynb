{
 "cells": [
  {
   "cell_type": "markdown",
   "metadata": {},
   "source": [
    "Problem Statement.\n",
    "\n",
    "You are given an m x n matrix of characters box representing a side-view of a box. Each cell of the box is one of the following:\n",
    "\n",
    "    A stone '#'\n",
    "    A stationary obstacle '*'\n",
    "    Empty '.'\n",
    "\n",
    "The box is rotated 90 degrees clockwise, causing some of the stones to fall due to gravity. Each stone falls down until it lands on an obstacle, another stone, or the bottom of the box. Gravity does not affect the obstacles' positions, and the inertia from the box's rotation does not affect the stones' horizontal positions.\n",
    "\n",
    "It is guaranteed that each stone in box rests on an obstacle, another stone, or the bottom of the box.\n",
    "\n",
    "Return an n x m matrix representing the box after the rotation described above.\n",
    "\n",
    " \n",
    "\n",
    "Example 1:\n",
    "\n",
    "Input: box = [[\"#\",\".\",\"#\"]]\n",
    "Output: [[\".\"],\n",
    "         [\"#\"],\n",
    "         [\"#\"]]\n",
    "\n",
    "Example 2:\n",
    "\n",
    "Input: box = [[\"#\",\".\",\"*\",\".\"],\n",
    "              [\"#\",\"#\",\"*\",\".\"]]\n",
    "Output: [[\"#\",\".\"],\n",
    "         [\"#\",\"#\"],\n",
    "         [\"*\",\"*\"],\n",
    "         [\".\",\".\"]]\n",
    "\n",
    "Example 3:\n",
    "\n",
    "Input: box = [[\"#\",\"#\",\"*\",\".\",\"*\",\".\"],\n",
    "              [\"#\",\"#\",\"#\",\"*\",\".\",\".\"],\n",
    "              [\"#\",\"#\",\"#\",\".\",\"#\",\".\"]]\n",
    "Output: [[\".\",\"#\",\"#\"],\n",
    "         [\".\",\"#\",\"#\"],\n",
    "         [\"#\",\"#\",\"*\"],\n",
    "         [\"#\",\"*\",\".\"],\n",
    "         [\"#\",\".\",\"*\"],\n",
    "         [\"#\",\".\",\".\"]]\n",
    "\n",
    " \n",
    "\n",
    "Constraints:\n",
    "\n",
    "    m == box.length\n",
    "    n == box[i].length\n",
    "    1 <= m, n <= 500\n",
    "    box[i][j] is either '#', '*', or '.'."
   ]
  },
  {
   "cell_type": "markdown",
   "metadata": {},
   "source": [
    "# Extra Space - O(M * N) runtime, O(M * N) space"
   ]
  },
  {
   "cell_type": "code",
   "execution_count": 1,
   "metadata": {},
   "outputs": [],
   "source": [
    "from typing import List\n",
    "\n",
    "class Solution:\n",
    "    def rotateTheBox(self, box: List[List[str]]) -> List[List[str]]:\n",
    "        m, n = len(box), len(box[0])\n",
    "        \n",
    "        res = [['.'] * m for _ in range(n)]\n",
    "                \n",
    "        for j in range(m):\n",
    "            bottom = n-1\n",
    "            for i in reversed(range(n)):\n",
    "                if box[m-j-1][i] == '*': \n",
    "                    res[i][j] = '*'\n",
    "                    bottom = i-1\n",
    "                elif box[m-j-1][i] == '#':\n",
    "                    if i != bottom: res[bottom][j] = '#'\n",
    "                    else: res[i][j] = '#'\n",
    "                    bottom = bottom-1\n",
    "        return res"
   ]
  },
  {
   "cell_type": "markdown",
   "metadata": {},
   "source": [
    "# No Extra Space - O(M * N) runtime, O(1) space"
   ]
  },
  {
   "cell_type": "code",
   "execution_count": 2,
   "metadata": {},
   "outputs": [],
   "source": [
    "from typing import List\n",
    "\n",
    "class Solution:\n",
    "    def rotateTheBox(self, box: List[List[str]]) -> List[List[str]]:\n",
    "        n = len(box[0])\n",
    "        for row in box:\n",
    "            move_position = n - 1         # initialize with the last position in row\n",
    "            for j in reversed(range(n)):  # iterate from the end of the row\n",
    "                if row[j] == \"*\":         # we cannot move stones behind obstacles,\n",
    "                    move_position = j - 1 # update move position to first before obst\n",
    "                elif row[j] == \"#\":       # if stone, move it to the \"move_position\"\n",
    "                    row[move_position], row[j] = row[j], row[move_position]\n",
    "                    move_position -= 1\n",
    "        print(box)\n",
    "\n",
    "        return [list(t) for t in zip(*box[::-1])]     # rotate array"
   ]
  },
  {
   "cell_type": "code",
   "execution_count": 3,
   "metadata": {},
   "outputs": [
    {
     "name": "stdout",
     "output_type": "stream",
     "text": [
      "[['#', '#', '*', '.', '', '.'], ['#', '#', '#', '*', '.', '.'], ['.', '.', '#', '#', '#', '#']]\n"
     ]
    },
    {
     "data": {
      "text/plain": [
       "[['.', '#', '#'],\n",
       " ['.', '#', '#'],\n",
       " ['#', '#', '*'],\n",
       " ['#', '*', '.'],\n",
       " ['#', '.', ''],\n",
       " ['#', '.', '.']]"
      ]
     },
     "execution_count": 3,
     "metadata": {},
     "output_type": "execute_result"
    }
   ],
   "source": [
    "instance = Solution()\n",
    "instance.rotateTheBox([[\"#\",\"#\",\"*\",\".\",\"\",\".\"], [\"#\",\"#\",\"#\",\"*\",\".\",\".\"], [\"#\",\"#\",\"#\",\".\",\"#\",\".\"]])"
   ]
  }
 ],
 "metadata": {
  "kernelspec": {
   "display_name": "Python 3",
   "language": "python",
   "name": "python3"
  },
  "language_info": {
   "codemirror_mode": {
    "name": "ipython",
    "version": 3
   },
   "file_extension": ".py",
   "mimetype": "text/x-python",
   "name": "python",
   "nbconvert_exporter": "python",
   "pygments_lexer": "ipython3",
   "version": "3.7.3"
  }
 },
 "nbformat": 4,
 "nbformat_minor": 2
}
