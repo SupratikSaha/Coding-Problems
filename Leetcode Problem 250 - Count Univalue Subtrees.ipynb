{
 "cells": [
  {
   "cell_type": "markdown",
   "metadata": {},
   "source": [
    "Problem Statement.\n",
    "\n",
    "Given the root of a binary tree, return the number of uni-value subtrees.\n",
    "\n",
    "A uni-value subtree means all nodes of the subtree have the same value.\n",
    "\n",
    " \n",
    "\n",
    "Example 1:\n",
    "\n",
    "Input: root = [5,1,5,5,5,null,5]\n",
    "Output: 4\n",
    "\n",
    "Example 2:\n",
    "\n",
    "Input: root = []\n",
    "Output: 0\n",
    "\n",
    "Example 3:\n",
    "\n",
    "Input: root = [5,5,5,5,5,null,5]\n",
    "Output: 6\n",
    "\n",
    " \n",
    "\n",
    "Constraints:\n",
    "\n",
    "    The numbrt of the node in the tree will be in the range [0, 1000].\n",
    "    -1000 <= Node.val <= 1000"
   ]
  },
  {
   "cell_type": "markdown",
   "metadata": {},
   "source": [
    "# DFS - O(N) runtime, O(N) space"
   ]
  },
  {
   "cell_type": "code",
   "execution_count": 1,
   "metadata": {},
   "outputs": [],
   "source": [
    "# Definition for a binary tree node.\n",
    "class TreeNode:\n",
    "    def __init__(self, val=0, left=None, right=None):\n",
    "        self.val = val\n",
    "        self.left = left\n",
    "        self.right = right\n",
    "        \n",
    "class Solution:\n",
    "    def countUnivalSubtrees(self, root: TreeNode) -> int:\n",
    "        \n",
    "        def getCountUnivalSubtrees(root):\n",
    "            if not root:\n",
    "                return (True, None, 0)\n",
    "            \n",
    "            is_univalue_left, left_val, count_left = getCountUnivalSubtrees(root.left)\n",
    "            is_univalue_right, right_val, count_right = getCountUnivalSubtrees(root.right)\n",
    "            \n",
    "            if is_univalue_left and is_univalue_right and  (not left_val or root.val == left_val) and (not right_val or root.val == right_val):\n",
    "                return (True, root.val, 1 + count_left + count_right)\n",
    "            else:\n",
    "                return (False, None, count_left + count_right)\n",
    "            \n",
    "    \n",
    "        _, _, count = getCountUnivalSubtrees(root)\n",
    "        return count"
   ]
  },
  {
   "cell_type": "markdown",
   "metadata": {},
   "source": [
    "# More Elegant DFS - O(N) runtime, O(N) space"
   ]
  },
  {
   "cell_type": "code",
   "execution_count": 2,
   "metadata": {},
   "outputs": [],
   "source": [
    "# Definition for a binary tree node.\n",
    "# class TreeNode:\n",
    "#     def __init__(self, val=0, left=None, right=None):\n",
    "#         self.val = val\n",
    "#         self.left = left\n",
    "#         self.right = right\n",
    "        \n",
    "class Solution:\n",
    "    def countUnivalSubtrees(self, root: TreeNode) -> int:\n",
    "        \n",
    "        def is_valid_part(node, val):\n",
    "            nonlocal count\n",
    "\n",
    "            # considered a valid subtree\n",
    "            if not node: return True\n",
    "\n",
    "            # check if node.left and node.right are univalue subtrees of value node.val\n",
    "            if not all([is_valid_part(node.left, node.val),\n",
    "                        is_valid_part(node.right, node.val)]):\n",
    "                return False\n",
    "\n",
    "            # if it passed the last step then this a valid subtree - increment\n",
    "            count += 1\n",
    "\n",
    "            # at this point we know that this node is a univalue subtree of value node.val\n",
    "            # pass a boolean indicating if this is a valid subtree for the parent node\n",
    "            return node.val == val\n",
    "    \n",
    "        count = 0\n",
    "        is_valid_part(root, float('inf'))\n",
    "        return count"
   ]
  }
 ],
 "metadata": {
  "kernelspec": {
   "display_name": "Python 3",
   "language": "python",
   "name": "python3"
  },
  "language_info": {
   "codemirror_mode": {
    "name": "ipython",
    "version": 3
   },
   "file_extension": ".py",
   "mimetype": "text/x-python",
   "name": "python",
   "nbconvert_exporter": "python",
   "pygments_lexer": "ipython3",
   "version": "3.7.3"
  }
 },
 "nbformat": 4,
 "nbformat_minor": 2
}
