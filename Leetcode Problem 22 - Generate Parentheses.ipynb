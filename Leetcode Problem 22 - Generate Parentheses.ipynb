{
 "cells": [
  {
   "cell_type": "markdown",
   "metadata": {},
   "source": [
    " Given n pairs of parentheses, write a function to generate all combinations of well-formed parentheses.\n",
    "\n",
    "For example, given n = 3, a solution set is:\n",
    "\n",
    "[\n",
    "  \"((()))\",\n",
    "  \"(()())\",\n",
    "  \"(())()\",\n",
    "  \"()(())\",\n",
    "  \"()()()\"\n",
    "]\n"
   ]
  },
  {
   "cell_type": "markdown",
   "metadata": {},
   "source": [
    "# Brute Force - O(n * 2^(2 * n) ) runtime, O(n * 2^(2 * n) ) space"
   ]
  },
  {
   "cell_type": "code",
   "execution_count": 1,
   "metadata": {},
   "outputs": [],
   "source": [
    "from typing import List\n",
    "\n",
    "class Solution:\n",
    "    def generateParenthesis(self, n: int) -> List[str]:\n",
    "        result = []\n",
    "        num_left = 0\n",
    "        num_right = 0\n",
    "        string = ''\n",
    "        self.genParenthesis(n, num_left, num_right, result, string)\n",
    "        return result\n",
    "        \n",
    "    def genParenthesis(self, n: int, num_left: int, num_right: int, result:List[str], \n",
    "                            string: str) -> None:\n",
    "        if num_left > n or num_right > n or num_right > num_left:\n",
    "            return\n",
    "        if num_left == num_right == n:\n",
    "            result.append(string)\n",
    "            return\n",
    "        \n",
    "        self.genParenthesis(n, num_left + 1, num_right, result, string + '(')\n",
    "        self.genParenthesis(n, num_left, num_right + 1, result, string + ')')"
   ]
  },
  {
   "cell_type": "markdown",
   "metadata": {},
   "source": [
    "# Back Tracking - O(4^n / n^0.5) runtime, O(4^n / n^0.5) space"
   ]
  },
  {
   "cell_type": "code",
   "execution_count": 2,
   "metadata": {},
   "outputs": [],
   "source": [
    "from typing import List\n",
    "\n",
    "class Solution:\n",
    "    def generateParenthesis(self, n: int) -> List[str]:\n",
    "        result = []\n",
    "        num_left = 0\n",
    "        num_right = 0\n",
    "        string = ''\n",
    "        self.genParenthesis(n, num_left, num_right, result, string)\n",
    "        return result\n",
    "        \n",
    "    def genParenthesis(self, n: int, num_left: int, num_right: int, result:List[str], \n",
    "                            string: str) -> None:\n",
    "        \n",
    "        if num_left == num_right == n:\n",
    "            result.append(string)\n",
    "            return\n",
    "        \n",
    "        if num_left < n:\n",
    "            self.genParenthesis(n, num_left + 1, num_right, result, string + '(')\n",
    "        if num_right < n and num_right < num_left:\n",
    "            self.genParenthesis(n, num_left, num_right + 1, result, string + ')')"
   ]
  },
  {
   "cell_type": "markdown",
   "metadata": {},
   "source": [
    "# Simpler Bottom Up DP - O(4^n / n^0.5) runtime, O(4^n / n^0.5) space"
   ]
  },
  {
   "cell_type": "code",
   "execution_count": 3,
   "metadata": {},
   "outputs": [],
   "source": [
    "from typing import List\n",
    "\n",
    "class Solution:\n",
    "    def generateParenthesis(self, n: int) -> List[str]:\n",
    "\n",
    "        def getParenComb(l, r, currList):\n",
    "            if l == r == n: result.append(''.join(currList))\n",
    "            \n",
    "            if l < n: getParenComb(l+1, r, currList+['('])\n",
    "            if r < l: getParenComb(l, r+1, currList+[')'])\n",
    "                \n",
    "        result = []\n",
    "        getParenComb(0, 0, [])\n",
    "        return result"
   ]
  },
  {
   "cell_type": "markdown",
   "metadata": {},
   "source": [
    "# Simpler Top Down DP - O(4^n / n^0.5) runtime, O(4^n / n^0.5) space"
   ]
  },
  {
   "cell_type": "code",
   "execution_count": 4,
   "metadata": {},
   "outputs": [],
   "source": [
    "from typing import List\n",
    "\n",
    "class Solution:\n",
    "    def generateParenthesis(self, n: int) -> List[str]:\n",
    "\n",
    "        if n == 0: return ['']\n",
    "        ans = []\n",
    "        for c in range(n):\n",
    "            for left in self.generateParenthesis(c):\n",
    "                for right in self.generateParenthesis(n-1-c):\n",
    "                    ans.append('({}){}'.format(left, right))\n",
    "        return ans"
   ]
  },
  {
   "cell_type": "code",
   "execution_count": 5,
   "metadata": {},
   "outputs": [
    {
     "data": {
      "text/plain": [
       "['()()()', '()(())', '(())()', '(()())', '((()))']"
      ]
     },
     "execution_count": 5,
     "metadata": {},
     "output_type": "execute_result"
    }
   ],
   "source": [
    "instance = Solution()\n",
    "instance.generateParenthesis(3)"
   ]
  }
 ],
 "metadata": {
  "kernelspec": {
   "display_name": "Python 3",
   "language": "python",
   "name": "python3"
  },
  "language_info": {
   "codemirror_mode": {
    "name": "ipython",
    "version": 3
   },
   "file_extension": ".py",
   "mimetype": "text/x-python",
   "name": "python",
   "nbconvert_exporter": "python",
   "pygments_lexer": "ipython3",
   "version": "3.7.3"
  }
 },
 "nbformat": 4,
 "nbformat_minor": 2
}
