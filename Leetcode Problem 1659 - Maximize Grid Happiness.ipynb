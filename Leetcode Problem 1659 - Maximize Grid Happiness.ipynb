{
 "cells": [
  {
   "cell_type": "markdown",
   "metadata": {},
   "source": [
    "Problem Statement.\n",
    "\n",
    "You are given four integers, m, n, introvertsCount, and extrovertsCount. You have an m x n grid, and there are two types of people: introverts and extroverts. There are introvertsCount introverts and extrovertsCount extroverts.\n",
    "\n",
    "You should decide how many people you want to live in the grid and assign each of them one grid cell. Note that you do not have to have all the people living in the grid.\n",
    "\n",
    "The happiness of each person is calculated as follows:\n",
    "\n",
    "    Introverts start with 120 happiness and lose 30 happiness for each neighbor (introvert or extrovert).\n",
    "    Extroverts start with 40 happiness and gain 20 happiness for each neighbor (introvert or extrovert).\n",
    "\n",
    "Neighbors live in the directly adjacent cells north, east, south, and west of a person's cell.\n",
    "\n",
    "The grid happiness is the sum of each person's happiness. Return the maximum possible grid happiness.\n",
    "\n",
    " \n",
    "\n",
    "Example 1:\n",
    "\n",
    "Input: m = 2, n = 3, introvertsCount = 1, extrovertsCount = 2\n",
    "Output: 240\n",
    "Explanation: Assume the grid is 1-indexed with coordinates (row, column).\n",
    "We can put the introvert in cell (1,1) and put the extroverts in cells (1,3) and (2,3).\n",
    "- Introvert at (1,1) happiness: 120 (starting happiness) - (0 * 30) (0 neighbors) = 120\n",
    "- Extrovert at (1,3) happiness: 40 (starting happiness) + (1 * 20) (1 neighbor) = 60\n",
    "- Extrovert at (2,3) happiness: 40 (starting happiness) + (1 * 20) (1 neighbor) = 60\n",
    "The grid happiness is 120 + 60 + 60 = 240.\n",
    "The above figure shows the grid in this example with each person's happiness. The introvert stays in the light green cell while the extroverts live on the light purple cells.\n",
    "\n",
    "Example 2:\n",
    "\n",
    "Input: m = 3, n = 1, introvertsCount = 2, extrovertsCount = 1\n",
    "Output: 260\n",
    "Explanation: Place the two introverts in (1,1) and (3,1) and the extrovert at (2,1).\n",
    "- Introvert at (1,1) happiness: 120 (starting happiness) - (1 * 30) (1 neighbor) = 90\n",
    "- Extrovert at (2,1) happiness: 40 (starting happiness) + (2 * 20) (2 neighbors) = 80\n",
    "- Introvert at (3,1) happiness: 120 (starting happiness) - (1 * 30) (1 neighbor) = 90\n",
    "The grid happiness is 90 + 80 + 90 = 260.\n",
    "\n",
    "Example 3:\n",
    "\n",
    "Input: m = 2, n = 2, introvertsCount = 4, extrovertsCount = 0\n",
    "Output: 240\n",
    "\n",
    " \n",
    "\n",
    "Constraints:\n",
    "\n",
    "    1 <= m, n <= 5\n",
    "    0 <= introvertsCount, extrovertsCount <= min(m * n, 6)"
   ]
  },
  {
   "cell_type": "markdown",
   "metadata": {},
   "source": [
    "# DP - O(M * N * I * E * 3 ^ N) runtime, O(M * N * I * E * 3 ^ N) space "
   ]
  },
  {
   "cell_type": "code",
   "execution_count": 2,
   "metadata": {},
   "outputs": [],
   "source": [
    "from functools import lru_cache\n",
    "\n",
    "class Solution:\n",
    "    def getMaxGridHappiness(self, m: int, n: int, introvertsCount: int, extrovertsCount: int) -> int:\n",
    "        relation = [[0,0,0],[0,-60,-10],[0,-10,40]]\n",
    "        \n",
    "        @lru_cache(None)\n",
    "        def dp(idx, row, cntI, cntE):\n",
    "            if idx == -1: return 0\n",
    "            \n",
    "            c = idx % n\n",
    "            ret = dp(idx-1, (0,) + row[:-1], cntI, cntE)\n",
    "            \n",
    "            if cntI:\n",
    "                score = 120 + relation[1][row[-1]] + (c < n-1) * relation[1][row[0]]\n",
    "                ret = max(ret, score + dp(idx-1, (1,) + row[:-1], cntI-1, cntE))\n",
    "            if cntE:\n",
    "                score = 40 + relation[2][row[-1]] + (c < n-1) * relation[2][row[0]]\n",
    "                ret = max(ret, score + dp(idx-1, (2,) + row[:-1], cntI, cntE-1))\n",
    "                \n",
    "            return ret\n",
    "\n",
    "        if m < n: m, n = n, m\n",
    "        return dp(m*n-1, tuple([0] * n), introvertsCount, extrovertsCount)"
   ]
  },
  {
   "cell_type": "code",
   "execution_count": 3,
   "metadata": {},
   "outputs": [
    {
     "data": {
      "text/plain": [
       "260"
      ]
     },
     "execution_count": 3,
     "metadata": {},
     "output_type": "execute_result"
    }
   ],
   "source": [
    "instance = Solution()\n",
    "instance.getMaxGridHappiness(3, 1, 2, 1)"
   ]
  }
 ],
 "metadata": {
  "kernelspec": {
   "display_name": "Python 3",
   "language": "python",
   "name": "python3"
  },
  "language_info": {
   "codemirror_mode": {
    "name": "ipython",
    "version": 3
   },
   "file_extension": ".py",
   "mimetype": "text/x-python",
   "name": "python",
   "nbconvert_exporter": "python",
   "pygments_lexer": "ipython3",
   "version": "3.7.3"
  }
 },
 "nbformat": 4,
 "nbformat_minor": 2
}
