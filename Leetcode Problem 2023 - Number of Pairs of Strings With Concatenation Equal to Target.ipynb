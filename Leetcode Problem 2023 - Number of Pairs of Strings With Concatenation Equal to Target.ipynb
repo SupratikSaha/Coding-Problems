{
 "cells": [
  {
   "cell_type": "markdown",
   "metadata": {},
   "source": [
    "Problem Statement.\n",
    "\n",
    "Given an array of digit strings nums and a digit string target, return the number of pairs of indices (i, j) (where i != j) such that the concatenation of nums[i] + nums[j] equals target.\n",
    "\n",
    " \n",
    "\n",
    "Example 1:\n",
    "\n",
    "Input: nums = [\"777\",\"7\",\"77\",\"77\"], target = \"7777\"\n",
    "Output: 4\n",
    "Explanation: Valid pairs are:\n",
    "- (0, 1): \"777\" + \"7\"\n",
    "- (1, 0): \"7\" + \"777\"\n",
    "- (2, 3): \"77\" + \"77\"\n",
    "- (3, 2): \"77\" + \"77\"\n",
    "\n",
    "Example 2:\n",
    "\n",
    "Input: nums = [\"123\",\"4\",\"12\",\"34\"], target = \"1234\"\n",
    "Output: 2\n",
    "Explanation: Valid pairs are:\n",
    "- (0, 1): \"123\" + \"4\"\n",
    "- (2, 3): \"12\" + \"34\"\n",
    "\n",
    "Example 3:\n",
    "\n",
    "Input: nums = [\"1\",\"1\",\"1\"], target = \"11\"\n",
    "Output: 6\n",
    "Explanation: Valid pairs are:\n",
    "- (0, 1): \"1\" + \"1\"\n",
    "- (1, 0): \"1\" + \"1\"\n",
    "- (0, 2): \"1\" + \"1\"\n",
    "- (2, 0): \"1\" + \"1\"\n",
    "- (1, 2): \"1\" + \"1\"\n",
    "- (2, 1): \"1\" + \"1\"\n",
    "\n",
    " \n",
    "\n",
    "Constraints:\n",
    "\n",
    "    2 <= nums.length <= 100\n",
    "    1 <= nums[i].length <= 100\n",
    "    2 <= target.length <= 100\n",
    "    nums[i] and target consist of digits.\n",
    "    nums[i] and target do not have leading zeros."
   ]
  },
  {
   "cell_type": "markdown",
   "metadata": {},
   "source": [
    "# HashMap -  O(N * T) runtime, O(N) space where N is the count of numbers and T is the length of the target"
   ]
  },
  {
   "cell_type": "code",
   "execution_count": 1,
   "metadata": {},
   "outputs": [],
   "source": [
    "from typing import List\n",
    "from collections import Counter\n",
    "\n",
    "class Solution:\n",
    "    def numOfPairs(self, nums: List[str], target: str) -> int:\n",
    "        numDict = Counter(nums)\n",
    "        ans = 0 \n",
    "        \n",
    "        for k, v in numDict.items(): \n",
    "            if target.startswith(k): \n",
    "                suffix = target[len(k):]\n",
    "                ans += v * numDict[suffix]\n",
    "                \n",
    "                if k == suffix: ans -= numDict[suffix]\n",
    "                    \n",
    "        return ans"
   ]
  },
  {
   "cell_type": "code",
   "execution_count": 2,
   "metadata": {},
   "outputs": [
    {
     "data": {
      "text/plain": [
       "2"
      ]
     },
     "execution_count": 2,
     "metadata": {},
     "output_type": "execute_result"
    }
   ],
   "source": [
    "instance = Solution()\n",
    "instance.numOfPairs([\"123\",\"4\",\"12\",\"34\"], \"1234\")"
   ]
  }
 ],
 "metadata": {
  "kernelspec": {
   "display_name": "Python 3",
   "language": "python",
   "name": "python3"
  },
  "language_info": {
   "codemirror_mode": {
    "name": "ipython",
    "version": 3
   },
   "file_extension": ".py",
   "mimetype": "text/x-python",
   "name": "python",
   "nbconvert_exporter": "python",
   "pygments_lexer": "ipython3",
   "version": "3.7.3"
  }
 },
 "nbformat": 4,
 "nbformat_minor": 2
}
