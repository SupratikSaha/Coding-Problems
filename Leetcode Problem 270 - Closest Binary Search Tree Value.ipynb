{
 "cells": [
  {
   "cell_type": "markdown",
   "metadata": {},
   "source": [
    "    Problem Statement.\n",
    "\n",
    "    Given a non-empty binary search tree and a target value, find the value in the BST that is closest to the target.\n",
    "\n",
    "    Note:\n",
    "\n",
    "        Given target value is a floating point.\n",
    "        You are guaranteed to have only one unique value in the BST that is closest to the target.\n",
    "\n",
    "    Example:\n",
    "\n",
    "    Input: root = [4,2,5,1,3], target = 3.714286\n",
    "\n",
    "        4\n",
    "       / \\\n",
    "      2   5\n",
    "     / \\\n",
    "    1   3\n",
    "\n",
    "    Output: 4"
   ]
  },
  {
   "cell_type": "markdown",
   "metadata": {},
   "source": [
    "# BFS - O(N) runtime, O(N) space"
   ]
  },
  {
   "cell_type": "code",
   "execution_count": null,
   "metadata": {},
   "outputs": [],
   "source": [
    "# Definition for a binary tree node.\n",
    "# class TreeNode:\n",
    "#     def __init__(self, val=0, left=None, right=None):\n",
    "#         self.val = val\n",
    "#         self.left = left\n",
    "#         self.right = right\n",
    "class Solution:\n",
    "    def closestValue(self, root: TreeNode, target: float) -> int:\n",
    "        if not root: return None\n",
    "        \n",
    "        result = root.val\n",
    "        diff = abs(root.val - target)\n",
    "        \n",
    "        queue = deque([root])\n",
    "        while queue:\n",
    "            node = queue.popleft()\n",
    "            for child in [node.left, node.right]:\n",
    "                if child:\n",
    "                    currDiff = abs(child.val - target)\n",
    "                    if currDiff < diff:\n",
    "                        result = child.val\n",
    "                        diff = currDiff\n",
    "                    queue.append(child)\n",
    "                    \n",
    "        return result"
   ]
  },
  {
   "cell_type": "markdown",
   "metadata": {},
   "source": [
    "# Iterative Inorder, O(k) average, O(h + k) worst runtime, O(h) space where h is the height of the tree and k is the index of the closest element"
   ]
  },
  {
   "cell_type": "code",
   "execution_count": 1,
   "metadata": {},
   "outputs": [],
   "source": [
    "# Definition for a binary tree node.\n",
    "# class TreeNode:\n",
    "#     def __init__(self, val=0, left=None, right=None):\n",
    "#         self.val = val\n",
    "#         self.left = left\n",
    "#         self.right = right\n",
    "class Solution:\n",
    "    def closestValue(self, root: TreeNode, target: float) -> int:\n",
    "        stack, pred = [], float('-inf')\n",
    "        \n",
    "        while stack or root:\n",
    "            while root:\n",
    "                stack.append(root)\n",
    "                root = root.left\n",
    "            root = stack.pop()\n",
    "            \n",
    "            if pred <= target and target < root.val:\n",
    "                return min(pred, root.val, key = lambda x: abs(target - x))\n",
    "                \n",
    "            pred = root.val\n",
    "            root = root.right\n",
    "\n",
    "        return pred"
   ]
  },
  {
   "cell_type": "markdown",
   "metadata": {},
   "source": [
    "# Binary Search, O(h) runtime, O(1) space where h is the height of the tree`"
   ]
  },
  {
   "cell_type": "code",
   "execution_count": 2,
   "metadata": {},
   "outputs": [],
   "source": [
    "# Definition for a binary tree node.\n",
    "# class TreeNode:\n",
    "#     def __init__(self, val=0, left=None, right=None):\n",
    "#         self.val = val\n",
    "#         self.left = left\n",
    "#         self.right = right\n",
    "class Solution:\n",
    "    def closestValue(self, root: TreeNode, target: float) -> int:\n",
    "        closest = root.val\n",
    "        while root:\n",
    "            closest = min(root.val, closest, key = lambda x: abs(target - x))\n",
    "            root = root.left if target < root.val else root.right\n",
    "        return closest"
   ]
  }
 ],
 "metadata": {
  "kernelspec": {
   "display_name": "Python 3",
   "language": "python",
   "name": "python3"
  },
  "language_info": {
   "codemirror_mode": {
    "name": "ipython",
    "version": 3
   },
   "file_extension": ".py",
   "mimetype": "text/x-python",
   "name": "python",
   "nbconvert_exporter": "python",
   "pygments_lexer": "ipython3",
   "version": "3.7.3"
  }
 },
 "nbformat": 4,
 "nbformat_minor": 2
}
