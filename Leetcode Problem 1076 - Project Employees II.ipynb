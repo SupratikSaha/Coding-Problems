{
 "cells": [
  {
   "cell_type": "markdown",
   "metadata": {},
   "source": [
    "    Problem Statement.\n",
    "\n",
    "    Table: Project\n",
    "\n",
    "    +-------------+---------+\n",
    "    | Column Name | Type    |\n",
    "    +-------------+---------+\n",
    "    | project_id  | int     |\n",
    "    | employee_id | int     |\n",
    "    +-------------+---------+\n",
    "    (project_id, employee_id) is the primary key of this table.\n",
    "    employee_id is a foreign key to Employee table.\n",
    "    Each row of this table indicates that the employee with employee_id is working on the project with project_id.\n",
    "\n",
    "\n",
    "\n",
    "    Table: Employee\n",
    "\n",
    "    +------------------+---------+\n",
    "    | Column Name      | Type    |\n",
    "    +------------------+---------+\n",
    "    | employee_id      | int     |\n",
    "    | name             | varchar |\n",
    "    | experience_years | int     |\n",
    "    +------------------+---------+\n",
    "    employee_id is the primary key of this table.\n",
    "    Each row of this table contains information about one employee.\n",
    "\n",
    "\n",
    "\n",
    "    Write an SQL query that reports all the projects that have the most employees.\n",
    "\n",
    "    Return the result table in any order.\n",
    "\n",
    "    The query result format is in the following example.\n",
    "\n",
    "\n",
    "\n",
    "    Example 1:\n",
    "\n",
    "    Input: \n",
    "    Project table:\n",
    "    +-------------+-------------+\n",
    "    | project_id  | employee_id |\n",
    "    +-------------+-------------+\n",
    "    | 1           | 1           |\n",
    "    | 1           | 2           |\n",
    "    | 1           | 3           |\n",
    "    | 2           | 1           |\n",
    "    | 2           | 4           |\n",
    "    +-------------+-------------+\n",
    "    Employee table:\n",
    "    +-------------+--------+------------------+\n",
    "    | employee_id | name   | experience_years |\n",
    "    +-------------+--------+------------------+\n",
    "    | 1           | Khaled | 3                |\n",
    "    | 2           | Ali    | 2                |\n",
    "    | 3           | John   | 1                |\n",
    "    | 4           | Doe    | 2                |\n",
    "    +-------------+--------+------------------+\n",
    "    Output: \n",
    "    +-------------+\n",
    "    | project_id  |\n",
    "    +-------------+\n",
    "    | 1           |\n",
    "    +-------------+\n",
    "    Explanation: The first project has 3 employees while the second one has 2."
   ]
  },
  {
   "cell_type": "markdown",
   "metadata": {},
   "source": [
    "# With"
   ]
  },
  {
   "cell_type": "code",
   "execution_count": null,
   "metadata": {},
   "outputs": [],
   "source": [
    "with employee_count as\n",
    "(select project_id,\n",
    "count(*) num_employees\n",
    "from Project\n",
    "group by 1),\n",
    "\n",
    "employee_count_rank as\n",
    "(select project_id, \n",
    "rank() over (order by num_employees desc) as num_employee_rank\n",
    "from employee_count)\n",
    "\n",
    "select project_id from employee_count_rank\n",
    "where num_employee_rank = 1"
   ]
  },
  {
   "cell_type": "markdown",
   "metadata": {},
   "source": [
    "# Having"
   ]
  },
  {
   "cell_type": "code",
   "execution_count": null,
   "metadata": {},
   "outputs": [],
   "source": [
    "SELECT project_id\n",
    "FROM project\n",
    "GROUP BY project_id\n",
    "HAVING COUNT(employee_id) =\n",
    "(\n",
    "    SELECT count(employee_id)\n",
    "    FROM project\n",
    "    GROUP BY project_id\n",
    "    ORDER BY count(employee_id) desc\n",
    "    LIMIT 1\n",
    ")"
   ]
  },
  {
   "cell_type": "markdown",
   "metadata": {},
   "source": [
    "# Rank"
   ]
  },
  {
   "cell_type": "code",
   "execution_count": null,
   "metadata": {},
   "outputs": [],
   "source": [
    "WITH CTE AS (\n",
    "SELECT project_id, RANK() OVER(ORDER BY COUNT(employee_id) DESC) as ranking\n",
    "FROM Project\n",
    "GROUP BY project_id\n",
    "    )\n",
    "    \n",
    "SELECT project_id\n",
    "FROM CTE\n",
    "WHERE ranking = 1"
   ]
  }
 ],
 "metadata": {
  "kernelspec": {
   "display_name": "Python 3",
   "language": "python",
   "name": "python3"
  },
  "language_info": {
   "codemirror_mode": {
    "name": "ipython",
    "version": 3
   },
   "file_extension": ".py",
   "mimetype": "text/x-python",
   "name": "python",
   "nbconvert_exporter": "python",
   "pygments_lexer": "ipython3",
   "version": "3.7.3"
  }
 },
 "nbformat": 4,
 "nbformat_minor": 2
}
