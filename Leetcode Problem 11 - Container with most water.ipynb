{
 "cells": [
  {
   "cell_type": "markdown",
   "metadata": {},
   "source": [
    "# Two Pointers - O(N) runtime, O(1) space"
   ]
  },
  {
   "cell_type": "code",
   "execution_count": 16,
   "metadata": {},
   "outputs": [],
   "source": [
    "class Solution:\n",
    "    def maxArea(self, height) -> int:\n",
    "        \n",
    "        \n",
    "        length = len(height)\n",
    "        maxarea = 0\n",
    "        \n",
    "        start = 0\n",
    "        end = length-1\n",
    "        \n",
    "        while(start<end):\n",
    "            if height[start] < height[end]:\n",
    "                length = height[start]\n",
    "                breadth = end - start\n",
    "                start += 1\n",
    "            else:\n",
    "                length = height[end]\n",
    "                breadth = end - start\n",
    "                end -= 1\n",
    "            area = length * breadth\n",
    "            if area > maxarea:\n",
    "                maxarea = area\n",
    "         \n",
    "        \n",
    "        return maxarea"
   ]
  },
  {
   "cell_type": "code",
   "execution_count": 17,
   "metadata": {},
   "outputs": [
    {
     "data": {
      "text/plain": [
       "12"
      ]
     },
     "execution_count": 17,
     "metadata": {},
     "output_type": "execute_result"
    }
   ],
   "source": [
    "Instance = Solution()\n",
    "Instance.maxArea([2,9,5,6,3])"
   ]
  }
 ],
 "metadata": {
  "kernelspec": {
   "display_name": "Python 3",
   "language": "python",
   "name": "python3"
  },
  "language_info": {
   "codemirror_mode": {
    "name": "ipython",
    "version": 3
   },
   "file_extension": ".py",
   "mimetype": "text/x-python",
   "name": "python",
   "nbconvert_exporter": "python",
   "pygments_lexer": "ipython3",
   "version": "3.7.3"
  }
 },
 "nbformat": 4,
 "nbformat_minor": 2
}
