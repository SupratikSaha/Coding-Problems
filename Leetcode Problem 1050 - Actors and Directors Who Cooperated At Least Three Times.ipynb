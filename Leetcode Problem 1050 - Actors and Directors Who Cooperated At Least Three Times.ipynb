{
 "cells": [
  {
   "cell_type": "markdown",
   "metadata": {},
   "source": [
    "    Problem Statement.\n",
    "\n",
    "    Table: ActorDirector\n",
    "\n",
    "    +-------------+---------+\n",
    "    | Column Name | Type    |\n",
    "    +-------------+---------+\n",
    "    | actor_id    | int     |\n",
    "    | director_id | int     |\n",
    "    | timestamp   | int     |\n",
    "    +-------------+---------+\n",
    "    timestamp is the primary key column for this table.\n",
    "\n",
    "\n",
    "\n",
    "    Write a SQL query for a report that provides the pairs (actor_id, director_id) where the actor has cooperated with the director at least three times.\n",
    "\n",
    "    Return the result table in any order.\n",
    "\n",
    "    The query result format is in the following example.\n",
    "\n",
    "\n",
    "\n",
    "    Example 1:\n",
    "\n",
    "    Input: \n",
    "    ActorDirector table:\n",
    "    +-------------+-------------+-------------+\n",
    "    | actor_id    | director_id | timestamp   |\n",
    "    +-------------+-------------+-------------+\n",
    "    | 1           | 1           | 0           |\n",
    "    | 1           | 1           | 1           |\n",
    "    | 1           | 1           | 2           |\n",
    "    | 1           | 2           | 3           |\n",
    "    | 1           | 2           | 4           |\n",
    "    | 2           | 1           | 5           |\n",
    "    | 2           | 1           | 6           |\n",
    "    +-------------+-------------+-------------+\n",
    "    Output: \n",
    "    +-------------+-------------+\n",
    "    | actor_id    | director_id |\n",
    "    +-------------+-------------+\n",
    "    | 1           | 1           |\n",
    "    +-------------+-------------+\n",
    "    Explanation: The only pair is (1, 1) where they cooperated exactly 3 times.\n"
   ]
  },
  {
   "cell_type": "markdown",
   "metadata": {},
   "source": [
    "# Having"
   ]
  },
  {
   "cell_type": "code",
   "execution_count": null,
   "metadata": {},
   "outputs": [],
   "source": [
    "select actor_id, director_id\n",
    "from ActorDirector\n",
    "group by 1, 2\n",
    "having count(*) >= 3"
   ]
  }
 ],
 "metadata": {
  "kernelspec": {
   "display_name": "Python 3",
   "language": "python",
   "name": "python3"
  },
  "language_info": {
   "codemirror_mode": {
    "name": "ipython",
    "version": 3
   },
   "file_extension": ".py",
   "mimetype": "text/x-python",
   "name": "python",
   "nbconvert_exporter": "python",
   "pygments_lexer": "ipython3",
   "version": "3.7.3"
  }
 },
 "nbformat": 4,
 "nbformat_minor": 2
}
