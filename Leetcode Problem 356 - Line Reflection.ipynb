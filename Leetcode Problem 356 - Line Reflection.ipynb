{
 "cells": [
  {
   "cell_type": "markdown",
   "metadata": {},
   "source": [
    "Problem Statement.\n",
    "\n",
    "Given n points on a 2D plane, find if there is such a line parallel to y-axis that reflect the given points symmetrically, in other words, answer whether or not if there exists a line that after reflecting all points over the given line the set of the original points is the same that the reflected ones.\n",
    "\n",
    "Note that there can be repeated points.\n",
    "\n",
    "Follow up:\n",
    "Could you do better than O(n^2)\n",
    "\n",
    "Example 1:\n",
    "\n",
    "Input: points = [[1,1],[-1,1]]\n",
    "Output: true\n",
    "Explanation: We can choose the line x = 0.\n",
    "\n",
    "Example 2:\n",
    "\n",
    "Input: points = [[1,1],[-1,-1]]\n",
    "Output: false\n",
    "Explanation: We can't choose a line.\n",
    "\n",
    " \n",
    "\n",
    "Constraints:\n",
    "\n",
    "    n == points.length\n",
    "    1 <= n <= 10^4\n",
    "    -10^8 <= points[i][j] <= 10^8\n"
   ]
  },
  {
   "cell_type": "markdown",
   "metadata": {},
   "source": [
    "# Mid point - O(N) runtime, O(N) space"
   ]
  },
  {
   "cell_type": "code",
   "execution_count": 1,
   "metadata": {},
   "outputs": [],
   "source": [
    "from typing import List\n",
    "\n",
    "class Solution:\n",
    "    def isReflected(self, points: List[List[int]]) -> bool:\n",
    "        if not points: return True\n",
    "        \n",
    "        min_X=min([i[0] for i in points])\n",
    "        max_X=max([i[0] for i in points])\n",
    "        center2x = max_X + min_X\n",
    "        \n",
    "        pointSet = set(map(tuple, points))\n",
    "        \n",
    "        for x,y in pointSet:\n",
    "            if not (center2x-x, y) in pointSet:\n",
    "                return False\n",
    "            \n",
    "        return True"
   ]
  },
  {
   "cell_type": "code",
   "execution_count": 2,
   "metadata": {},
   "outputs": [
    {
     "data": {
      "text/plain": [
       "True"
      ]
     },
     "execution_count": 2,
     "metadata": {},
     "output_type": "execute_result"
    }
   ],
   "source": [
    "instance = Solution()\n",
    "instance.isReflected([[1,1],[-1,1]])"
   ]
  }
 ],
 "metadata": {
  "kernelspec": {
   "display_name": "Python 3",
   "language": "python",
   "name": "python3"
  },
  "language_info": {
   "codemirror_mode": {
    "name": "ipython",
    "version": 3
   },
   "file_extension": ".py",
   "mimetype": "text/x-python",
   "name": "python",
   "nbconvert_exporter": "python",
   "pygments_lexer": "ipython3",
   "version": "3.7.3"
  }
 },
 "nbformat": 4,
 "nbformat_minor": 2
}
