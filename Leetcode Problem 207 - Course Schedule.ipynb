{
 "cells": [
  {
   "cell_type": "markdown",
   "metadata": {},
   "source": [
    "Problem Statement. <br/>\n",
    "\n",
    "There are a total of numCourses courses you have to take, labeled from 0 to numCourses-1. <br/>\n",
    "Some courses may have prerequisites, for example to take course 0 you have to first take course 1, which is expressed as a pair: [0,1] <br/>\n",
    "Given the total number of courses and a list of prerequisite pairs, is it possible for you to finish all courses? <br/>\n",
    "\n",
    " \n",
    "\n",
    "Example 1: <br/>\n",
    "Input: numCourses = 2, prerequisites = [[1,0]] <br/>\n",
    "Output: true <br/>\n",
    "Explanation: There are a total of 2 courses to take. To take course 1 you should have finished course 0. So it is possible. <br/>\n",
    "\n",
    "Example 2: <br/>\n",
    "Input: numCourses = 2, prerequisites = [[1,0],[0,1]] <br/>\n",
    "Output: false <br/>\n",
    "Explanation: There are a total of 2 courses to take. To take course 1 you should have finished course 0, and to take course 0 you should also have finished course 1. So it is impossible. <br/>\n"
   ]
  },
  {
   "cell_type": "markdown",
   "metadata": {},
   "source": [
    "# Breadth First Search - O(V + E) runtime, O(V + E) space where V and E are the number of vertices and edges"
   ]
  },
  {
   "cell_type": "code",
   "execution_count": 2,
   "metadata": {},
   "outputs": [],
   "source": [
    "from typing import List\n",
    "from collections import deque\n",
    "\n",
    "class Solution:\n",
    "    def canFinish(self, numCourses: int, prerequisites: List[List[int]]) -> bool:\n",
    "        sortedOrder = []\n",
    "\n",
    "        if numCourses <= 0:\n",
    "            return False\n",
    "\n",
    "        inDegree = {i: 0 for i in range(numCourses)}\n",
    "        graph = {i: [] for i in range(numCourses)}\n",
    "\n",
    "        for edge in prerequisites:\n",
    "            posteriorTask, priorTask = edge[0], edge[1]\n",
    "            graph[priorTask].append(posteriorTask)\n",
    "            inDegree[posteriorTask] += 1\n",
    "\n",
    "        sources = deque()\n",
    "        for key in inDegree:\n",
    "            if inDegree[key] == 0:\n",
    "                sources.append(key)\n",
    "\n",
    "        while sources:\n",
    "            source = sources.popleft()\n",
    "            sortedOrder.append(source)\n",
    "            for child in graph[source]:\n",
    "                inDegree[child] -= 1\n",
    "                if inDegree[child] == 0:\n",
    "                    sources.append(child)\n",
    "\n",
    "        return len(sortedOrder) == numCourses"
   ]
  },
  {
   "cell_type": "code",
   "execution_count": 3,
   "metadata": {},
   "outputs": [
    {
     "data": {
      "text/plain": [
       "True"
      ]
     },
     "execution_count": 3,
     "metadata": {},
     "output_type": "execute_result"
    }
   ],
   "source": [
    "instance = Solution()\n",
    "instance.canFinish(6, [[2, 5], [0, 5], [0, 4], [1, 4], [3, 2], [1, 3]])"
   ]
  }
 ],
 "metadata": {
  "kernelspec": {
   "display_name": "Python 3",
   "language": "python",
   "name": "python3"
  },
  "language_info": {
   "codemirror_mode": {
    "name": "ipython",
    "version": 3
   },
   "file_extension": ".py",
   "mimetype": "text/x-python",
   "name": "python",
   "nbconvert_exporter": "python",
   "pygments_lexer": "ipython3",
   "version": "3.7.3"
  }
 },
 "nbformat": 4,
 "nbformat_minor": 2
}
