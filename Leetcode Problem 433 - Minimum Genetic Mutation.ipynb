{
 "cells": [
  {
   "cell_type": "markdown",
   "metadata": {},
   "source": [
    "Problem Statement.\n",
    "\n",
    "A gene string can be represented by an 8-character long string, with choices from 'A', 'C', 'G', and 'T'.\n",
    "\n",
    "Suppose we need to investigate a mutation from a gene string start to a gene string end where one mutation is defined as one single character changed in the gene string.\n",
    "\n",
    "    For example, \"AACCGGTT\" --> \"AACCGGTA\" is one mutation.\n",
    "\n",
    "There is also a gene bank bank that records all the valid gene mutations. A gene must be in bank to make it a valid gene string.\n",
    "\n",
    "Given the two gene strings start and end and the gene bank bank, return the minimum number of mutations needed to mutate from start to end. If there is no such a mutation, return -1.\n",
    "\n",
    "Note that the starting point is assumed to be valid, so it might not be included in the bank.\n",
    "\n",
    " \n",
    "\n",
    "Example 1:\n",
    "\n",
    "Input: start = \"AACCGGTT\", end = \"AACCGGTA\", bank = [\"AACCGGTA\"]\n",
    "Output: 1\n",
    "\n",
    "Example 2:\n",
    "\n",
    "Input: start = \"AACCGGTT\", end = \"AAACGGTA\", bank = [\"AACCGGTA\",\"AACCGCTA\",\"AAACGGTA\"]\n",
    "Output: 2\n",
    "\n",
    "Example 3:\n",
    "\n",
    "Input: start = \"AAAAACCC\", end = \"AACCCCCC\", bank = [\"AAAACCCC\",\"AAACCCCC\",\"AACCCCCC\"]\n",
    "Output: 3\n",
    "\n",
    " \n",
    "\n",
    "Constraints:\n",
    "\n",
    "    start.length == 8\n",
    "    end.length == 8\n",
    "    0 <= bank.length <= 10\n",
    "    bank[i].length == 8\n",
    "    start, end, and bank[i] consist of only the characters ['A', 'C', 'G', 'T']."
   ]
  },
  {
   "cell_type": "markdown",
   "metadata": {},
   "source": [
    "# Top Down DP with backtracking - O(4 ^ 8) runtime, O(4 ^ 8) space"
   ]
  },
  {
   "cell_type": "code",
   "execution_count": 1,
   "metadata": {},
   "outputs": [],
   "source": [
    "from typing import List\n",
    "from functools import lru_cache\n",
    "\n",
    "class Solution:\n",
    "    def minMutation(self, start: str, end: str, bank: List[str]) -> int:\n",
    "        bank = set(bank)\n",
    "        if end not in bank: return -1\n",
    "        \n",
    "        @lru_cache(maxsize=None)\n",
    "        def dfs(gene):\n",
    "            if gene == end: return 0\n",
    "            \n",
    "            curRes = float('inf')\n",
    "            for i in range(8):\n",
    "                for c in 'ACGT':\n",
    "                    newGene = gene[:i] + c + gene[i+1:]\n",
    "                    if newGene in bank and newGene not in curSet:\n",
    "                        curSet.add(newGene)\n",
    "                        curRes = min(curRes, 1 + dfs(newGene))\n",
    "                        curSet.remove(newGene)\n",
    "            \n",
    "            return curRes\n",
    "        \n",
    "        curSet = {start}\n",
    "        res = dfs(start)\n",
    "        return res if res != float('inf') else -1"
   ]
  },
  {
   "cell_type": "markdown",
   "metadata": {},
   "source": [
    "# BFS - O(4 ^ 8) runtime, O(4 ^ 8) space"
   ]
  },
  {
   "cell_type": "code",
   "execution_count": 4,
   "metadata": {},
   "outputs": [],
   "source": [
    "from typing import List\n",
    "from collections import deque\n",
    "\n",
    "class Solution:\n",
    "    def minMutation(self, start: str, end: str, bank: List[str]) -> int:\n",
    "        queue = deque([(start,0)])\n",
    "        bankSet = set(bank)\n",
    "        \n",
    "        while queue:\n",
    "            curr, step = queue.popleft()\n",
    "            if curr == end: return step\n",
    "            \n",
    "            for i in range(len(curr)):\n",
    "                for c in \"AGCT\":\n",
    "                    mutation = curr[:i] + c + curr[i+1:]\n",
    "                    if mutation in bankSet:\n",
    "                        bankSet.remove(mutation)\n",
    "                        queue.append((mutation,step+1))\n",
    "                        \n",
    "        return -1"
   ]
  },
  {
   "cell_type": "code",
   "execution_count": 5,
   "metadata": {},
   "outputs": [
    {
     "data": {
      "text/plain": [
       "3"
      ]
     },
     "execution_count": 5,
     "metadata": {},
     "output_type": "execute_result"
    }
   ],
   "source": [
    "instance = Solution()\n",
    "instance.minMutation( \"AAAAACCC\", \"AACCCCCC\", [\"AAAACCCC\",\"AAACCCCC\",\"AACCCCCC\"])"
   ]
  }
 ],
 "metadata": {
  "kernelspec": {
   "display_name": "Python 3",
   "language": "python",
   "name": "python3"
  },
  "language_info": {
   "codemirror_mode": {
    "name": "ipython",
    "version": 3
   },
   "file_extension": ".py",
   "mimetype": "text/x-python",
   "name": "python",
   "nbconvert_exporter": "python",
   "pygments_lexer": "ipython3",
   "version": "3.7.3"
  }
 },
 "nbformat": 4,
 "nbformat_minor": 2
}
