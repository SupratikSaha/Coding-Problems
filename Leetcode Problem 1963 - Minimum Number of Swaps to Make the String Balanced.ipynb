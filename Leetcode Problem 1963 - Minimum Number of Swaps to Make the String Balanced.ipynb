{
 "cells": [
  {
   "cell_type": "markdown",
   "metadata": {},
   "source": [
    "Problem Statement.\n",
    "\n",
    "You are given a 0-indexed string s of even length n. The string consists of exactly n / 2 opening brackets '[' and n / 2 closing brackets ']'.\n",
    "\n",
    "A string is called balanced if and only if:\n",
    "\n",
    "    It is the empty string, or\n",
    "    It can be written as AB, where both A and B are balanced strings, or\n",
    "    It can be written as [C], where C is a balanced string.\n",
    "\n",
    "You may swap the brackets at any two indices any number of times.\n",
    "\n",
    "Return the minimum number of swaps to make s balanced.\n",
    "\n",
    " \n",
    "\n",
    "Example 1:\n",
    "\n",
    "Input: s = \"][][\"\n",
    "Output: 1\n",
    "Explanation: You can make the string balanced by swapping index 0 with index 3.\n",
    "The resulting string is \"[[]]\".\n",
    "\n",
    "Example 2:\n",
    "\n",
    "Input: s = \"]]][[[\"\n",
    "Output: 2\n",
    "Explanation: You can do the following to make the string balanced:\n",
    "- Swap index 0 with index 4. s = \"[]][][\".\n",
    "- Swap index 1 with index 5. s = \"[[][]]\".\n",
    "The resulting string is \"[[][]]\".\n",
    "\n",
    "Example 3:\n",
    "\n",
    "Input: s = \"[]\"\n",
    "Output: 0\n",
    "Explanation: The string is already balanced.\n",
    "\n",
    " \n",
    "\n",
    "Constraints:\n",
    "\n",
    "    n == s.length\n",
    "    2 <= n <= 106\n",
    "    n is even.\n",
    "    s[i] is either '[' or ']'.\n",
    "    The number of opening brackets '[' equals n / 2, and the number of closing brackets ']' equals n / 2."
   ]
  },
  {
   "cell_type": "markdown",
   "metadata": {},
   "source": [
    "# Linear - O(N) runtime O(1) space"
   ]
  },
  {
   "cell_type": "code",
   "execution_count": 1,
   "metadata": {},
   "outputs": [],
   "source": [
    "class Solution:\n",
    "    def minSwaps(self, s: str) -> int:\n",
    "        leftbackets = 0\n",
    "        \n",
    "        for c in s:\n",
    "            if c == '[':\n",
    "                leftbackets += 1\n",
    "            elif c == ']' and leftbackets:\n",
    "                leftbackets -= 1\n",
    "                \n",
    "        return (leftbackets + 1) // 2"
   ]
  },
  {
   "cell_type": "code",
   "execution_count": 2,
   "metadata": {},
   "outputs": [
    {
     "data": {
      "text/plain": [
       "2"
      ]
     },
     "execution_count": 2,
     "metadata": {},
     "output_type": "execute_result"
    }
   ],
   "source": [
    "instance = Solution()\n",
    "instance.minSwaps(\"]]][[[\")"
   ]
  }
 ],
 "metadata": {
  "kernelspec": {
   "display_name": "Python 3",
   "language": "python",
   "name": "python3"
  },
  "language_info": {
   "codemirror_mode": {
    "name": "ipython",
    "version": 3
   },
   "file_extension": ".py",
   "mimetype": "text/x-python",
   "name": "python",
   "nbconvert_exporter": "python",
   "pygments_lexer": "ipython3",
   "version": "3.7.3"
  }
 },
 "nbformat": 4,
 "nbformat_minor": 2
}
