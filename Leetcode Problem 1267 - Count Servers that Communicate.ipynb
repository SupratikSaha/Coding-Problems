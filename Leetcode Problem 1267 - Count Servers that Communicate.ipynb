{
 "cells": [
  {
   "cell_type": "markdown",
   "metadata": {},
   "source": [
    "Problem Statement.\n",
    "\n",
    "You are given a map of a server center, represented as a m * n integer matrix grid, where 1 means that on that cell there is a server and 0 means that it is no server. Two servers are said to communicate if they are on the same row or on the same column.\n",
    "\n",
    "Return the number of servers that communicate with any other server.\n",
    "\n",
    " \n",
    "\n",
    "Example 1:\n",
    "\n",
    "Input: grid = [[1,0],[0,1]]\n",
    "Output: 0\n",
    "Explanation: No servers can communicate with others.\n",
    "\n",
    "Example 2:\n",
    "\n",
    "Input: grid = [[1,0],[1,1]]\n",
    "Output: 3\n",
    "Explanation: All three servers can communicate with at least one other server.\n",
    "\n",
    "Example 3:\n",
    "\n",
    "Input: grid = [[1,1,0,0],[0,0,1,0],[0,0,1,0],[0,0,0,1]]\n",
    "Output: 4\n",
    "Explanation: The two servers in the first row can communicate with each other. The two servers in the third column can communicate with each other. The server at right bottom corner can't communicate with any other server.\n",
    "\n",
    " \n",
    "\n",
    "Constraints:\n",
    "\n",
    "    m == grid.length\n",
    "    n == grid[i].length\n",
    "    1 <= m <= 250\n",
    "    1 <= n <= 250\n",
    "    grid[i][j] == 0 or 1"
   ]
  },
  {
   "cell_type": "markdown",
   "metadata": {},
   "source": [
    "# Hash Set and List - O(M * N) runtime, O(N) space"
   ]
  },
  {
   "cell_type": "code",
   "execution_count": 2,
   "metadata": {},
   "outputs": [],
   "source": [
    "from typing import List\n",
    "\n",
    "class Solution:\n",
    "    def countServers(self, grid: List[List[int]]) -> int:\n",
    "        m, n = len(grid), len(grid[0])\n",
    "        \n",
    "        cols = [0] * n\n",
    "        checkCols = set()\n",
    "        count = 0\n",
    "        \n",
    "        for r in range(m):\n",
    "            found = 0\n",
    "            rowCount = 0\n",
    "            currColSet = set()\n",
    "            \n",
    "            for c in range(n):\n",
    "                rowCount += grid[r][c]\n",
    "                if grid[r][c] and cols[c] > 0: found = 1\n",
    "                if grid[r][c] and not found: currColSet.add(c)\n",
    "                cols[c] += grid[r][c]\n",
    "                \n",
    "            count += rowCount if rowCount > 1 else found\n",
    "            if rowCount == 1: checkCols |= currColSet\n",
    "\n",
    "        return count + sum([1 if cols[c] > 1 and c in checkCols else 0 for c in range(n)])"
   ]
  },
  {
   "cell_type": "markdown",
   "metadata": {},
   "source": [
    "# Simpler List - O(M * N) runtime, O(M + N) space"
   ]
  },
  {
   "cell_type": "code",
   "execution_count": 4,
   "metadata": {},
   "outputs": [],
   "source": [
    "from typing import List\n",
    "\n",
    "class Solution:\n",
    "    def countServers(self, grid: List[List[int]]) -> int:\n",
    "        m, n = len(grid), len(grid[0])\n",
    "        X, Y = list(map(sum, grid)), list(map(sum, zip(*grid)))\n",
    "        return sum(X[i] + Y[j] > 2 for i in range(m) for j in range(n) if grid[i][j])"
   ]
  },
  {
   "cell_type": "code",
   "execution_count": 5,
   "metadata": {},
   "outputs": [
    {
     "data": {
      "text/plain": [
       "4"
      ]
     },
     "execution_count": 5,
     "metadata": {},
     "output_type": "execute_result"
    }
   ],
   "source": [
    "instance = Solution()\n",
    "instance.countServers([[1,1,0,0],[0,0,1,0],[0,0,1,0],[0,0,0,1]])"
   ]
  }
 ],
 "metadata": {
  "kernelspec": {
   "display_name": "Python 3",
   "language": "python",
   "name": "python3"
  },
  "language_info": {
   "codemirror_mode": {
    "name": "ipython",
    "version": 3
   },
   "file_extension": ".py",
   "mimetype": "text/x-python",
   "name": "python",
   "nbconvert_exporter": "python",
   "pygments_lexer": "ipython3",
   "version": "3.7.3"
  }
 },
 "nbformat": 4,
 "nbformat_minor": 2
}
