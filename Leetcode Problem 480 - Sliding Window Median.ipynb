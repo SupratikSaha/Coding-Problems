{
 "cells": [
  {
   "cell_type": "markdown",
   "metadata": {},
   "source": [
    "Problem Statement.\n",
    "\n",
    "The median is the middle value in an ordered integer list. If the size of the list is even, there is no middle value. So the median is the mean of the two middle values.\n",
    "\n",
    "    For examples, if arr = [2,3,4], the median is 3.\n",
    "    For examples, if arr = [1,2,3,4], the median is (2 + 3) / 2 = 2.5.\n",
    "\n",
    "You are given an integer array nums and an integer k. There is a sliding window of size k which is moving from the very left of the array to the very right. You can only see the k numbers in the window. Each time the sliding window moves right by one position.\n",
    "\n",
    "Return the median array for each window in the original array. Answers within 10-5 of the actual value will be accepted.\n",
    "\n",
    " \n",
    "\n",
    "Example 1:\n",
    "\n",
    "Input: nums = [1,3,-1,-3,5,3,6,7], k = 3\n",
    "Output: [1.00000,-1.00000,-1.00000,3.00000,5.00000,6.00000]\n",
    "Explanation: \n",
    "Window position                Median\n",
    "---------------                -----\n",
    "[1  3  -1] -3  5  3  6  7        1\n",
    " 1 [3  -1  -3] 5  3  6  7       -1\n",
    " 1  3 [-1  -3  5] 3  6  7       -1\n",
    " 1  3  -1 [-3  5  3] 6  7        3\n",
    " 1  3  -1  -3 [5  3  6] 7        5\n",
    " 1  3  -1  -3  5 [3  6  7]       6\n",
    "\n",
    "Example 2:\n",
    "\n",
    "Input: nums = [1,2,3,4,2,3,1,4,2], k = 3\n",
    "Output: [2.00000,3.00000,3.00000,3.00000,2.00000,3.00000,2.00000]\n",
    "\n",
    " \n",
    "\n",
    "Constraints:\n",
    "\n",
    "    1 <= k <= nums.length <= 105\n",
    "    -231 <= nums[i] <= 231 - 1"
   ]
  },
  {
   "cell_type": "markdown",
   "metadata": {},
   "source": [
    "# Sorting - O(N * K * Log K) runtime, O(K) space"
   ]
  },
  {
   "cell_type": "code",
   "execution_count": 1,
   "metadata": {},
   "outputs": [],
   "source": [
    "from typing import List\n",
    "from bisect import insort\n",
    "\n",
    "class Solution:\n",
    "    def medianSlidingWindow(self, nums: List[int], k: int) -> List[float]:\n",
    "        n = len(nums)\n",
    "        window = sorted(nums[:k])\n",
    "        res = []\n",
    "        isOdd = k % 2\n",
    "        mid = k // 2\n",
    "    \n",
    "        for i in range(n-k):\n",
    "            if isOdd: res.append(window[mid])\n",
    "            else: res.append((window[mid-1] + window[mid]) / 2)\n",
    "            window.remove(nums[i])  \n",
    "            insort(window, nums[k+i])\n",
    "        \n",
    "        if isOdd: res.append(window[mid])\n",
    "        else: res.append((window[mid-1] + window[mid]) / 2)\n",
    "            \n",
    "        return res"
   ]
  },
  {
   "cell_type": "markdown",
   "metadata": {},
   "source": [
    "# Two heaps , Lazy removal - O(N * Log K) runtime, O(N) space"
   ]
  },
  {
   "cell_type": "code",
   "execution_count": 7,
   "metadata": {},
   "outputs": [],
   "source": [
    "from typing import List\n",
    "from collections import defaultdict\n",
    "from heapq import heappush, heappop, heappushpop\n",
    "\n",
    "class Solution:\n",
    "    def medianSlidingWindow(self, nums: List[int], k: int) -> List[float]:\n",
    "        if not nums or not k: return []\n",
    "        \n",
    "        lo = [] # max heap\n",
    "        hi = [] # min heap\n",
    "        \n",
    "        for i in range(k):\n",
    "            if len(lo) == len(hi):\n",
    "                heapq.heappush(hi, -heapq.heappushpop(lo, -nums[i]))\n",
    "            else:\n",
    "                heapq.heappush(lo, -heapq.heappushpop(hi, nums[i]))\n",
    "                \n",
    "        ans = [float(hi[0])] if k & 1 else [(hi[0] - lo[0]) / 2.0]\n",
    "        to_remove = defaultdict(int)\n",
    "        \n",
    "        for i in range(k, len(nums)): # right bound of window\n",
    "            heapq.heappush(lo, -heapq.heappushpop(hi, nums[i])) # always push to lo\n",
    "            out_num = nums[i-k]\n",
    "            \n",
    "            if out_num > -lo[0]:\n",
    "                heapq.heappush(hi, -heapq.heappop(lo))\n",
    "                \n",
    "            to_remove[out_num] += 1\n",
    "            while lo and to_remove[-lo[0]]:\n",
    "                to_remove[-lo[0]] -= 1\n",
    "                heapq.heappop(lo)\n",
    "                \n",
    "            while to_remove[hi[0]]:\n",
    "                to_remove[hi[0]] -= 1\n",
    "                heapq.heappop(hi)\n",
    "                \n",
    "            if k % 2:\n",
    "                ans.append(float(hi[0]))\n",
    "            else:\n",
    "                ans.append((hi[0] - lo[0]) / 2.0)\n",
    "                \n",
    "        return ans"
   ]
  },
  {
   "cell_type": "code",
   "execution_count": 8,
   "metadata": {},
   "outputs": [
    {
     "data": {
      "text/plain": [
       "[2.0, 3.0, 3.0, 3.0, 2.0, 3.0, 2.0]"
      ]
     },
     "execution_count": 8,
     "metadata": {},
     "output_type": "execute_result"
    }
   ],
   "source": [
    "instance = Solution()\n",
    "instance.medianSlidingWindow([1,2,3,4,2,3,1,4,2], 3)"
   ]
  }
 ],
 "metadata": {
  "kernelspec": {
   "display_name": "Python 3",
   "language": "python",
   "name": "python3"
  },
  "language_info": {
   "codemirror_mode": {
    "name": "ipython",
    "version": 3
   },
   "file_extension": ".py",
   "mimetype": "text/x-python",
   "name": "python",
   "nbconvert_exporter": "python",
   "pygments_lexer": "ipython3",
   "version": "3.7.3"
  }
 },
 "nbformat": 4,
 "nbformat_minor": 2
}
