{
 "cells": [
  {
   "cell_type": "markdown",
   "metadata": {},
   "source": [
    "    Problem Statement.\n",
    "\n",
    "    A string s is called good if there are no two different characters in s that have the same frequency.\n",
    "\n",
    "    Given a string s, return the minimum number of characters you need to delete to make s good.\n",
    "\n",
    "    The frequency of a character in a string is the number of times it appears in the string. For example, in the string \"aab\", the frequency of 'a' is 2, while the frequency of 'b' is 1.\n",
    "\n",
    "\n",
    "\n",
    "    Example 1:\n",
    "\n",
    "    Input: s = \"aab\"\n",
    "    Output: 0\n",
    "    Explanation: s is already good.\n",
    "\n",
    "    Example 2:\n",
    "\n",
    "    Input: s = \"aaabbbcc\"\n",
    "    Output: 2\n",
    "    Explanation: You can delete two 'b's resulting in the good string \"aaabcc\".\n",
    "    Another way it to delete one 'b' and one 'c' resulting in the good string \"aaabbc\".\n",
    "\n",
    "    Example 3:\n",
    "\n",
    "    Input: s = \"ceabaacb\"\n",
    "    Output: 2\n",
    "    Explanation: You can delete both 'c's resulting in the good string \"eabaab\".\n",
    "    Note that we only care about characters that are still in the string at the end (i.e. frequency of 0 is ignored).\n",
    "\n",
    "\n",
    "\n",
    "    Constraints:\n",
    "\n",
    "        1 <= s.length <= 105\n",
    "        s contains only lowercase English letters."
   ]
  },
  {
   "cell_type": "markdown",
   "metadata": {},
   "source": [
    "# Hashtable and Set - O(N) runtime, O(N) space"
   ]
  },
  {
   "cell_type": "code",
   "execution_count": 3,
   "metadata": {},
   "outputs": [],
   "source": [
    "from collections import Counter\n",
    "\n",
    "class Solution:\n",
    "    def minDeletions(self, s: str) -> int:\n",
    "        charCount = Counter(s)\n",
    "        countSet = set()\n",
    "        res = 0\n",
    "        \n",
    "        for char, count in charCount.items():\n",
    "            while count in countSet:\n",
    "                res += 1\n",
    "                count -= 1\n",
    "            \n",
    "            if count > 0: countSet.add(count)\n",
    "                \n",
    "        return res"
   ]
  },
  {
   "cell_type": "code",
   "execution_count": 4,
   "metadata": {},
   "outputs": [
    {
     "data": {
      "text/plain": [
       "2"
      ]
     },
     "execution_count": 4,
     "metadata": {},
     "output_type": "execute_result"
    }
   ],
   "source": [
    "instance = Solution()\n",
    "instance.minDeletions(\"ceabaacb\")"
   ]
  }
 ],
 "metadata": {
  "kernelspec": {
   "display_name": "Python 3",
   "language": "python",
   "name": "python3"
  },
  "language_info": {
   "codemirror_mode": {
    "name": "ipython",
    "version": 3
   },
   "file_extension": ".py",
   "mimetype": "text/x-python",
   "name": "python",
   "nbconvert_exporter": "python",
   "pygments_lexer": "ipython3",
   "version": "3.7.3"
  }
 },
 "nbformat": 4,
 "nbformat_minor": 2
}
