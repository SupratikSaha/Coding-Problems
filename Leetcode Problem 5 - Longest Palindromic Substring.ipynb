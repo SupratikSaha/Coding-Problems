{
 "cells": [
  {
   "cell_type": "markdown",
   "metadata": {},
   "source": [
    "# Brute Force - Pick all possible start and end points and check if string is palindrome - O(n^3) runtime, O(1) space"
   ]
  },
  {
   "cell_type": "code",
   "execution_count": 3,
   "metadata": {},
   "outputs": [],
   "source": [
    "class Solution:\n",
    "    def longestPalindrome(self, s: str) -> str:\n",
    "        length = len(s)\n",
    "        start =  end = maxLen = 0\n",
    "        \n",
    "        for ctr1 in range(length):\n",
    "            for ctr2 in range(ctr1 + 1, length):\n",
    "                if s[ctr1:ctr2] == s[ctr1:ctr2][::-1] and ctr2 - ctr1 > maxLen:\n",
    "                    maxLen = ctr2 - ctr1\n",
    "                    start = ctr1\n",
    "                    end = ctr2\n",
    "        \n",
    "        return s[start: end]"
   ]
  },
  {
   "cell_type": "markdown",
   "metadata": {},
   "source": [
    "# Dynamic Programming - O(n^2) runtime, O(n) space"
   ]
  },
  {
   "cell_type": "code",
   "execution_count": 28,
   "metadata": {},
   "outputs": [],
   "source": [
    "class Solution:\n",
    "    def longestPalindrome(self, s: str) -> str:\n",
    "\n",
    "        if s == '':\n",
    "            return ''\n",
    "        result = ''\n",
    "        length = len(s)\n",
    "        max_length = 0\n",
    "        \n",
    "        for idx, char in enumerate(s):\n",
    "            \n",
    "            if idx == 0:\n",
    "                result = char\n",
    "                max_length = 1\n",
    "            \n",
    "            begin, end = idx-1, idx+1\n",
    "            while begin >= 0 and end < length and s[begin] == s[end]:\n",
    "\n",
    "                if end - begin + 1 > max_length:\n",
    "                    result = s[begin:end+1]\n",
    "                    max_length = end - begin + 1\n",
    "                begin -= 1\n",
    "                end +=1\n",
    "\n",
    "            begin, end = idx, idx+1\n",
    "            while begin >= 0 and end < length and s[begin]==s[end]:\n",
    "                \n",
    "                if end - begin + 1 > max_length:\n",
    "                    result = s[begin:end+1]\n",
    "                    max_length = end - begin + 1\n",
    "                begin -= 1\n",
    "                end +=1\n",
    "\n",
    "        return result"
   ]
  },
  {
   "cell_type": "markdown",
   "metadata": {},
   "source": [
    "# Dynamic Programming - Improve Space Compexity - O(n^2) runtime, O(1) space"
   ]
  },
  {
   "cell_type": "code",
   "execution_count": 12,
   "metadata": {},
   "outputs": [],
   "source": [
    "class Solution:\n",
    "    \n",
    "    def getPalindromeLength(self, s, left, right):\n",
    "        while left >= 0 and right < len(s) and s[left] == s[right]:\n",
    "            left -= 1\n",
    "            right += 1\n",
    "        return right - left - 1 \n",
    "    \n",
    "    def longestPalindrome(self, s: str) -> str:\n",
    "        start = end = 0\n",
    "        \n",
    "        for ctr in range(len(s)):\n",
    "            len1 = self.getPalindromeLength(s, ctr, ctr)\n",
    "            len2 = self.getPalindromeLength(s, ctr, ctr + 1)\n",
    "            length = max(len1, len2)\n",
    "            \n",
    "            if length > end - start:\n",
    "                start = ctr - (length - 1) // 2\n",
    "                end = ctr + length // 2\n",
    "                \n",
    "        return s[start:end + 1]         "
   ]
  },
  {
   "cell_type": "code",
   "execution_count": 13,
   "metadata": {},
   "outputs": [
    {
     "data": {
      "text/plain": [
       "'cddc'"
      ]
     },
     "execution_count": 13,
     "metadata": {},
     "output_type": "execute_result"
    }
   ],
   "source": [
    "Instance = Solution()\n",
    "Instance.longestPalindrome('abcddcd')"
   ]
  }
 ],
 "metadata": {
  "kernelspec": {
   "display_name": "Python 3",
   "language": "python",
   "name": "python3"
  },
  "language_info": {
   "codemirror_mode": {
    "name": "ipython",
    "version": 3
   },
   "file_extension": ".py",
   "mimetype": "text/x-python",
   "name": "python",
   "nbconvert_exporter": "python",
   "pygments_lexer": "ipython3",
   "version": "3.7.3"
  }
 },
 "nbformat": 4,
 "nbformat_minor": 2
}
