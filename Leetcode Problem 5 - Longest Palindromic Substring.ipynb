{
 "cells": [
  {
   "cell_type": "markdown",
   "metadata": {},
   "source": [
    "# Brute Force - Pick all possible start and end points and check if string is palindrome - O(n^3) runtime, O(1) space"
   ]
  },
  {
   "cell_type": "code",
   "execution_count": 3,
   "metadata": {},
   "outputs": [],
   "source": [
    "class Solution:\n",
    "    def longestPalindrome(self, s: str) -> str:\n",
    "        length = len(s)\n",
    "        start =  end = maxLen = 0\n",
    "        \n",
    "        for ctr1 in range(length):\n",
    "            for ctr2 in range(ctr1 + 1, length):\n",
    "                if s[ctr1:ctr2] == s[ctr1:ctr2][::-1] and ctr2 - ctr1 > maxLen:\n",
    "                    maxLen = ctr2 - ctr1\n",
    "                    start = ctr1\n",
    "                    end = ctr2\n",
    "        \n",
    "        return s[start: end]"
   ]
  },
  {
   "cell_type": "markdown",
   "metadata": {},
   "source": [
    "# Dynamic Programming - O(n^2) runtime, O(n) space"
   ]
  },
  {
   "cell_type": "code",
   "execution_count": 1,
   "metadata": {},
   "outputs": [],
   "source": [
    "class Solution:\n",
    "    def longestPalindrome(self, st: str) -> str:\n",
    "        n = len(st)\n",
    "        # dp[i][j] will be 'true' if the string from index 'i' to index 'j' is a palindrome\n",
    "        dp = [[False for _ in range(n)] for _ in range(n)]\n",
    "\n",
    "        # every string with one character is a palindrome\n",
    "        for i in range(n):\n",
    "            dp[i][i] = True\n",
    "\n",
    "        maxLength, startIndex, endIndex = 1, 0, 0\n",
    "        for startIndex in range(n - 1, -1, -1):\n",
    "            for endIndex in range(startIndex + 1, n):\n",
    "                if st[startIndex] == st[endIndex]:\n",
    "                    # if it's a two character string or if the remaining string is a palindrome too\n",
    "                    if endIndex - startIndex == 1 or dp[startIndex + 1][endIndex - 1]:\n",
    "                        dp[startIndex][endIndex] = True\n",
    "                        if maxLength > \n",
    "                        maxLength = max(maxLength, endIndex - startIndex + 1)\n",
    "\n",
    "        return maxLength"
   ]
  },
  {
   "cell_type": "markdown",
   "metadata": {},
   "source": [
    "# Dynamic Programming - Improve Space Compexity - O(n^2) runtime, O(1) space"
   ]
  },
  {
   "cell_type": "code",
   "execution_count": 12,
   "metadata": {},
   "outputs": [],
   "source": [
    "class Solution:\n",
    "    \n",
    "    def getPalindromeLength(self, s, left, right):\n",
    "        while left >= 0 and right < len(s) and s[left] == s[right]:\n",
    "            left -= 1\n",
    "            right += 1\n",
    "        return right - left - 1 \n",
    "    \n",
    "    def longestPalindrome(self, s: str) -> str:\n",
    "        start = end = 0\n",
    "        \n",
    "        for ctr in range(len(s)):\n",
    "            len1 = self.getPalindromeLength(s, ctr, ctr)\n",
    "            len2 = self.getPalindromeLength(s, ctr, ctr + 1)\n",
    "            length = max(len1, len2)\n",
    "            \n",
    "            if length > end - start + 1:\n",
    "                start = ctr - (length - 1) // 2\n",
    "                end = ctr + length // 2\n",
    "                \n",
    "        return s[start:end + 1]         "
   ]
  },
  {
   "cell_type": "code",
   "execution_count": 2,
   "metadata": {},
   "outputs": [
    {
     "data": {
      "text/plain": [
       "4"
      ]
     },
     "execution_count": 2,
     "metadata": {},
     "output_type": "execute_result"
    }
   ],
   "source": [
    "Instance = Solution()\n",
    "Instance.longestPalindrome('abcddcd')"
   ]
  }
 ],
 "metadata": {
  "kernelspec": {
   "display_name": "Python 3",
   "language": "python",
   "name": "python3"
  },
  "language_info": {
   "codemirror_mode": {
    "name": "ipython",
    "version": 3
   },
   "file_extension": ".py",
   "mimetype": "text/x-python",
   "name": "python",
   "nbconvert_exporter": "python",
   "pygments_lexer": "ipython3",
   "version": "3.7.3"
  }
 },
 "nbformat": 4,
 "nbformat_minor": 2
}
