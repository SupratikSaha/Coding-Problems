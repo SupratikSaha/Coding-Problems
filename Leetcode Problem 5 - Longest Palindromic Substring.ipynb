{
 "cells": [
  {
   "cell_type": "code",
   "execution_count": 1,
   "metadata": {},
   "outputs": [],
   "source": [
    "class Solution:\n",
    "    def longestPalindrome(self, s: str) -> str:\n",
    "\n",
    "        if s == '':\n",
    "            return ''\n",
    "        result = ''\n",
    "        length = len(s)\n",
    "        max_length = 0\n",
    "        \n",
    "        for idx, char in enumerate(s):\n",
    "            \n",
    "            if idx == 0:\n",
    "                result = char\n",
    "                max_length = 1\n",
    "            \n",
    "            begin, end = idx-1, idx+1\n",
    "            while begin >= 0 and end < length and s[begin] == s[end]:\n",
    "\n",
    "                if end - begin + 1 > max_length:\n",
    "                    result = s[begin:end+1]\n",
    "                    max_length = end - begin + 1\n",
    "                begin -= 1\n",
    "                end +=1\n",
    "\n",
    "            begin, end = idx, idx+1\n",
    "            while begin >= 0 and end < length and s[begin]==s[end]:\n",
    "                \n",
    "                if end - begin + 1 > max_length:\n",
    "                    result = s[begin:end+1]\n",
    "                    max_length = end - begin + 1\n",
    "                begin -= 1\n",
    "                end +=1\n",
    "\n",
    "        return result"
   ]
  },
  {
   "cell_type": "code",
   "execution_count": 3,
   "metadata": {},
   "outputs": [
    {
     "data": {
      "text/plain": [
       "'cddc'"
      ]
     },
     "execution_count": 3,
     "metadata": {},
     "output_type": "execute_result"
    }
   ],
   "source": [
    "Instance = Solution()\n",
    "Instance.longestPalindrome('abcddcd')"
   ]
  }
 ],
 "metadata": {
  "kernelspec": {
   "display_name": "Python 3",
   "language": "python",
   "name": "python3"
  },
  "language_info": {
   "codemirror_mode": {
    "name": "ipython",
    "version": 3
   },
   "file_extension": ".py",
   "mimetype": "text/x-python",
   "name": "python",
   "nbconvert_exporter": "python",
   "pygments_lexer": "ipython3",
   "version": "3.7.3"
  }
 },
 "nbformat": 4,
 "nbformat_minor": 2
}
