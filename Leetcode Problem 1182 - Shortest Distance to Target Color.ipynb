{
 "cells": [
  {
   "cell_type": "markdown",
   "metadata": {},
   "source": [
    "Problem Statement.\n",
    "\n",
    "You are given an array colors, in which there are three colors: 1, 2 and 3.\n",
    "\n",
    "You are also given some queries. Each query consists of two integers i and c, return the shortest distance between the given index i and the target color c. If there is no solution return -1.\n",
    "\n",
    " \n",
    "\n",
    "Example 1:\n",
    "\n",
    "Input: colors = [1,1,2,1,3,2,2,3,3], queries = [[1,3],[2,2],[6,1]]\n",
    "Output: [3,0,3]\n",
    "Explanation: \n",
    "The nearest 3 from index 1 is at index 4 (3 steps away).\n",
    "The nearest 2 from index 2 is at index 2 itself (0 steps away).\n",
    "The nearest 1 from index 6 is at index 3 (3 steps away).\n",
    "\n",
    "Example 2:\n",
    "\n",
    "Input: colors = [1,2], queries = [[0,3]]\n",
    "Output: [-1]\n",
    "Explanation: There is no 3 in the array.\n",
    "\n",
    " \n",
    "\n",
    "Constraints:\n",
    "\n",
    "    1 <= colors.length <= 5*10^4\n",
    "    1 <= colors[i] <= 3\n",
    "    1 <= queries.length <= 5*10^4\n",
    "    queries[i].length == 2\n",
    "    0 <= queries[i][0] < colors.length\n",
    "    1 <= queries[i][1] <= 3"
   ]
  },
  {
   "cell_type": "markdown",
   "metadata": {},
   "source": [
    "# HasTables and Binary Search - O(N + Q * Log N) runtime, O(N) space"
   ]
  },
  {
   "cell_type": "code",
   "execution_count": 1,
   "metadata": {},
   "outputs": [],
   "source": [
    "from typing import List\n",
    "from collections import defaultdict\n",
    "from bisect import bisect\n",
    "\n",
    "class Solution:\n",
    "    def shortestDistanceColor(self, colors: List[int], queries: List[List[int]]) -> List[int]:\n",
    "        colorsDict = defaultdict(list)\n",
    "        for i, c in enumerate(colors):\n",
    "            colorsDict[c].append(i)\n",
    "        \n",
    "        l = {}\n",
    "        for c in range(1, 4):\n",
    "            l[c] = len(colorsDict[c])\n",
    "            \n",
    "        result = []\n",
    "        for i, c in queries:\n",
    "            if not colorsDict[c]:\n",
    "                result.append(-1)\n",
    "            else:\n",
    "                minDistance = float('inf')\n",
    "                pos = bisect(colorsDict[c], i)\n",
    "                if 0<= pos < l[c]: \n",
    "                    if colorsDict[c][pos] == i: \n",
    "                        result.append(0)\n",
    "                        continue\n",
    "                    minDistance = min(minDistance, abs(colorsDict[c][pos] - i))\n",
    "                if pos - 1 >= 0:\n",
    "                    minDistance = min(minDistance, abs(colorsDict[c][pos-1] - i))\n",
    "                if pos + 1 < l[c]:\n",
    "                    minDistance = min(minDistance, abs(colorsDict[c][pos+1] - i))\n",
    "                    \n",
    "                result.append(minDistance)\n",
    "                \n",
    "        return result"
   ]
  },
  {
   "cell_type": "markdown",
   "metadata": {},
   "source": [
    "# Simpler HasTables and Binary Search - O(N + Q * Log N) runtime, O(N) space"
   ]
  },
  {
   "cell_type": "code",
   "execution_count": 2,
   "metadata": {},
   "outputs": [],
   "source": [
    "from typing import List\n",
    "from collections import defaultdict\n",
    "from bisect import bisect\n",
    "\n",
    "class Solution:\n",
    "    def shortestDistanceColor(self, colors: List[int], queries: List[List[int]]) -> List[int]:\n",
    "        colorsDict = defaultdict(list)\n",
    "        for i, c in enumerate(colors):\n",
    "            colorsDict[c].append(i)\n",
    "        \n",
    "        l = {}\n",
    "        for c in range(1, 4):\n",
    "            l[c] = len(colorsDict[c])\n",
    "            \n",
    "        result = []\n",
    "        for i, c in queries:\n",
    "            if not colorsDict[c]:\n",
    "                result.append(-1)\n",
    "            else:\n",
    "                pos = bisect(colorsDict[c], i)\n",
    "                left_nearest = abs(colorsDict[c][max(pos - 1, 0)] - i)\n",
    "                right_nearest = abs(colorsDict[c][min(pos, l[c] - 1)] - i)\n",
    "                result.append(min(left_nearest, right_nearest))\n",
    "                \n",
    "        return result"
   ]
  },
  {
   "cell_type": "code",
   "execution_count": 3,
   "metadata": {},
   "outputs": [
    {
     "data": {
      "text/plain": [
       "[3, 0, 3]"
      ]
     },
     "execution_count": 3,
     "metadata": {},
     "output_type": "execute_result"
    }
   ],
   "source": [
    "instance = Solution()\n",
    "instance.shortestDistanceColor([1,1,2,1,3,2,2,3,3], [[1,3],[2,2],[6,1]])"
   ]
  }
 ],
 "metadata": {
  "kernelspec": {
   "display_name": "Python 3",
   "language": "python",
   "name": "python3"
  },
  "language_info": {
   "codemirror_mode": {
    "name": "ipython",
    "version": 3
   },
   "file_extension": ".py",
   "mimetype": "text/x-python",
   "name": "python",
   "nbconvert_exporter": "python",
   "pygments_lexer": "ipython3",
   "version": "3.7.3"
  }
 },
 "nbformat": 4,
 "nbformat_minor": 2
}
