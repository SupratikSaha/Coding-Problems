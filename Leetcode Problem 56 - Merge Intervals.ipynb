{
 "cells": [
  {
   "cell_type": "markdown",
   "metadata": {},
   "source": [
    "Given a collection of intervals, merge all overlapping intervals.\n",
    "\n",
    "Example 1:\n",
    "\n",
    "Input: [[1,3],[2,6],[8,10],[15,18]]\n",
    "Output: [[1,6],[8,10],[15,18]]\n",
    "Explanation: Since intervals [1,3] and [2,6] overlaps, merge them into [1,6].\n",
    "\n",
    "Example 2:\n",
    "\n",
    "Input: [[1,4],[4,5]]\n",
    "Output: [[1,5]]\n",
    "Explanation: Intervals [1,4] and [4,5] are considered overlapping."
   ]
  },
  {
   "cell_type": "markdown",
   "metadata": {},
   "source": [
    "# Connected Components - O(n ^ 2), O(n ^ 2) space"
   ]
  },
  {
   "cell_type": "code",
   "execution_count": 1,
   "metadata": {},
   "outputs": [],
   "source": [
    "from collections import defaultdict\n",
    "from typing import List\n",
    "\n",
    "class Solution:\n",
    "    def overlap(self, a, b):\n",
    "        return a[0] <= b[1] and b[0] <= a[1]\n",
    "\n",
    "    # generate graph where there is an undirected edge between intervals u\n",
    "    # and v iff u and v overlap.\n",
    "    def build_graph(self, intervals):\n",
    "        graph = defaultdict(list)\n",
    "\n",
    "        for i, interval_i in enumerate(intervals):\n",
    "            for j in range(i+1, len(intervals)):\n",
    "                if self.overlap(interval_i, intervals[j]):\n",
    "                    graph[tuple(interval_i)].append(intervals[j])\n",
    "                    graph[tuple(intervals[j])].append(interval_i)\n",
    "\n",
    "        return graph\n",
    "\n",
    "    # merges all of the nodes in this connected component into one interval.\n",
    "    def merge_nodes(self, nodes):\n",
    "        min_start = min(node[0] for node in nodes)\n",
    "        max_end = max(node[1] for node in nodes)\n",
    "        return [min_start, max_end]\n",
    "\n",
    "    # gets the connected components of the interval overlap graph.\n",
    "    def get_components(self, graph, intervals):\n",
    "        visited = set()\n",
    "        comp_number = 0\n",
    "        nodes_in_comp = defaultdict(list)\n",
    "\n",
    "        def mark_component_dfs(start):\n",
    "            stack = [start]\n",
    "            while stack:\n",
    "                node = tuple(stack.pop())\n",
    "                if node not in visited:\n",
    "                    visited.add(node)\n",
    "                    nodes_in_comp[comp_number].append(node)\n",
    "                    stack.extend(graph[node])\n",
    "\n",
    "        # mark all nodes in the same connected component with the same integer.\n",
    "        for interval in intervals:\n",
    "            if tuple(interval) not in visited:\n",
    "                mark_component_dfs(interval)\n",
    "                comp_number += 1\n",
    "\n",
    "        return nodes_in_comp, comp_number\n",
    "\n",
    "    \n",
    "    def merge(self, intervals: List[List[int]]) -> List[List[int]]:\n",
    "        graph = self.build_graph(intervals)\n",
    "        nodes_in_comp, number_of_comps = self.get_components(graph, intervals)\n",
    "\n",
    "        # all intervals in each connected component must be merged.\n",
    "        return [self.merge_nodes(nodes_in_comp[comp]) for comp in range(number_of_comps)]\n"
   ]
  },
  {
   "cell_type": "markdown",
   "metadata": {},
   "source": [
    "# Sorted Intervals - O(n * log n), O(n) space"
   ]
  },
  {
   "cell_type": "code",
   "execution_count": 2,
   "metadata": {},
   "outputs": [],
   "source": [
    "from typing import List\n",
    "from operator import itemgetter\n",
    "\n",
    "class Solution:\n",
    "    def merge(self, intervals: List[List[int]]) -> List[List[int]]:\n",
    "        length = len(intervals)\n",
    "        if length <= 1:\n",
    "            return intervals\n",
    "        \n",
    "        intervals = sorted(intervals, key=itemgetter(0))\n",
    "        \n",
    "        merged = []\n",
    "        curr = intervals[0]\n",
    "        \n",
    "        for i in range(1, length):\n",
    "            if intervals[i][0] <= curr[1]:\n",
    "                curr[1] = max(curr[1], intervals[i][1])\n",
    "            else:\n",
    "                merged.append(curr)\n",
    "                curr = intervals[i]\n",
    "\n",
    "        merged.append(curr)\n",
    "\n",
    "        return merged"
   ]
  },
  {
   "cell_type": "code",
   "execution_count": 3,
   "metadata": {},
   "outputs": [
    {
     "data": {
      "text/plain": [
       "[[1, 6], [8, 10], [15, 18]]"
      ]
     },
     "execution_count": 3,
     "metadata": {},
     "output_type": "execute_result"
    }
   ],
   "source": [
    "instance = Solution()\n",
    "instance.merge([[1,3],[2,6],[8,10],[15,18]])"
   ]
  }
 ],
 "metadata": {
  "kernelspec": {
   "display_name": "Python 3",
   "language": "python",
   "name": "python3"
  },
  "language_info": {
   "codemirror_mode": {
    "name": "ipython",
    "version": 3
   },
   "file_extension": ".py",
   "mimetype": "text/x-python",
   "name": "python",
   "nbconvert_exporter": "python",
   "pygments_lexer": "ipython3",
   "version": "3.7.3"
  }
 },
 "nbformat": 4,
 "nbformat_minor": 2
}
