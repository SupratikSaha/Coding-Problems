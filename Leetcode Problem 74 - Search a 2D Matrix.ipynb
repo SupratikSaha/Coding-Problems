{
 "cells": [
  {
   "cell_type": "markdown",
   "metadata": {},
   "source": [
    "Problem Statement.\n",
    "\n",
    "Write an efficient algorithm that searches for a value in an m x n matrix. This matrix has the following properties:\n",
    "\n",
    "Integers in each row are sorted from left to right.\n",
    "The first integer of each row is greater than the last integer of the previous row.\n",
    "\n",
    "Example 1:\n",
    "\n",
    "Input: matrix = [[1,3,5,7],[10,11,16,20],[23,30,34,60]], target = 3\n",
    "Output: true\n",
    "\n",
    "Example 2:\n",
    "\n",
    "Input: matrix = [[1,3,5,7],[10,11,16,20],[23,30,34,60]], target = 13\n",
    "Output: false\n",
    "\n",
    " \n",
    "\n",
    "Constraints:\n",
    "\n",
    "    m == matrix.length\n",
    "    n == matrix[i].length\n",
    "    1 <= m, n <= 100\n",
    "    -10^4 <= matrix[i][j], target <= 10^4"
   ]
  },
  {
   "cell_type": "markdown",
   "metadata": {},
   "source": [
    "# Binary Search - O(Log M * Log N) runtime, O(1) space"
   ]
  },
  {
   "cell_type": "code",
   "execution_count": 2,
   "metadata": {},
   "outputs": [],
   "source": [
    "from typing import List\n",
    "\n",
    "class Solution:\n",
    "    def searchMatrix(self, matrix: List[List[int]], target: int) -> bool:\n",
    "        m, n = len(matrix), len(matrix[0])\n",
    "        row = None\n",
    "        \n",
    "        left, right = 0, m-1\n",
    "        while left <= right:\n",
    "            mid = left  + (right-left)\n",
    "            if matrix[mid][0] <= target <= matrix[mid][n-1]:\n",
    "                row = mid\n",
    "                break\n",
    "            elif target < matrix[mid][0]: right = mid - 1\n",
    "            elif target > matrix[mid][n-1]: left = mid + 1\n",
    "                \n",
    "        if row is None: return False\n",
    "        \n",
    "        left, right = 0, n-1\n",
    "        while left <= right:\n",
    "            mid = left  + (right-left)\n",
    "            if matrix[row][mid] == target: return True\n",
    "            elif target < matrix[row][mid]: right = mid - 1\n",
    "            elif target > matrix[row][mid]: left = mid + 1\n",
    "                \n",
    "        return False"
   ]
  },
  {
   "cell_type": "markdown",
   "metadata": {},
   "source": [
    "# Faster Binary Search - O(Log (MN)) runtime, O(1) space"
   ]
  },
  {
   "cell_type": "code",
   "execution_count": 5,
   "metadata": {},
   "outputs": [],
   "source": [
    "from typing import List\n",
    "\n",
    "class Solution:\n",
    "    def searchMatrix(self, matrix: List[List[int]], target: int) -> bool:\n",
    "        m, n = len(matrix), len(matrix[0])\n",
    "        row = None\n",
    "        \n",
    "        left, right = 0, m * n - 1\n",
    "        while left <= right:\n",
    "            mid = left  + (right-left)\n",
    "            pivot_elem = matrix[mid // n][mid % n]\n",
    "            if target == pivot_elem: return True\n",
    "            elif target < pivot_elem: right = mid - 1\n",
    "            elif target > pivot_elem: left = mid + 1\n",
    "                \n",
    "        return False"
   ]
  },
  {
   "cell_type": "code",
   "execution_count": 6,
   "metadata": {},
   "outputs": [
    {
     "data": {
      "text/plain": [
       "False"
      ]
     },
     "execution_count": 6,
     "metadata": {},
     "output_type": "execute_result"
    }
   ],
   "source": [
    "instance = Solution()\n",
    "instance.searchMatrix([[1,3,5,7],[10,11,16,20],[23,30,34,60]], 13)"
   ]
  }
 ],
 "metadata": {
  "kernelspec": {
   "display_name": "Python 3",
   "language": "python",
   "name": "python3"
  },
  "language_info": {
   "codemirror_mode": {
    "name": "ipython",
    "version": 3
   },
   "file_extension": ".py",
   "mimetype": "text/x-python",
   "name": "python",
   "nbconvert_exporter": "python",
   "pygments_lexer": "ipython3",
   "version": "3.7.3"
  }
 },
 "nbformat": 4,
 "nbformat_minor": 2
}
