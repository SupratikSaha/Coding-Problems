{
 "cells": [
  {
   "cell_type": "markdown",
   "metadata": {},
   "source": [
    "# Use three pointers and a sliding window- O(n) runtime and O(1) space"
   ]
  },
  {
   "cell_type": "code",
   "execution_count": 10,
   "metadata": {},
   "outputs": [],
   "source": [
    "class Solution:\n",
    "    def lengthOfLongestSubstringTwoDistinct(self, s: str) -> int:\n",
    "        i , j, maxLen = 0, -1, 0\n",
    "        \n",
    "        for k in range(1, len(s)):\n",
    "            if s[k] == s[k - 1]:\n",
    "                continue\n",
    "            if j >= 0 and s[j] != s[k]:\n",
    "                maxLen = max(k - i, maxLen)\n",
    "                i = j + 1\n",
    "            j = k - 1\n",
    "            \n",
    "        maxLen = max(len(s) - i, maxLen)\n",
    "        return maxLen"
   ]
  },
  {
   "cell_type": "code",
   "execution_count": 12,
   "metadata": {},
   "outputs": [
    {
     "data": {
      "text/plain": [
       "5"
      ]
     },
     "execution_count": 12,
     "metadata": {},
     "output_type": "execute_result"
    }
   ],
   "source": [
    "Instance = Solution()\n",
    "Instance.lengthOfLongestSubstringTwoDistinct('abaac')"
   ]
  },
  {
   "cell_type": "markdown",
   "metadata": {},
   "source": [
    "# Use a dictionary (max size 256 for number of ASCII characters) if we want at most K Distinct characters instead of 2 - O(n^2) runtime, O(1) space"
   ]
  },
  {
   "cell_type": "code",
   "execution_count": 40,
   "metadata": {},
   "outputs": [],
   "source": [
    "class Solution:\n",
    "    def lengthOfLongestSubstringKDistinct(self, s: str, maxDistinct: int) -> int:\n",
    "        dictDistinct = {}\n",
    "        i = numDistinct = maxLen = 0\n",
    "        \n",
    "        for j in range(len(s)):\n",
    "\n",
    "            if s[j] not in dictDistinct or dictDistinct[s[j]] == 0:\n",
    "                numDistinct += 1\n",
    "            dictDistinct[s[j]] = 1 if s[j] not in dictDistinct else dictDistinct[s[j]] + 1\n",
    "            while numDistinct > maxDistinct:\n",
    "                dictDistinct[s[i]] -= 1\n",
    "                if dictDistinct[s[i]] == 0:\n",
    "                    numDistinct -= 1\n",
    "                i += 1\n",
    "            maxLen = max(j - i + 1, maxLen)\n",
    "            \n",
    "        return maxLen"
   ]
  },
  {
   "cell_type": "code",
   "execution_count": 41,
   "metadata": {},
   "outputs": [
    {
     "data": {
      "text/plain": [
       "6"
      ]
     },
     "execution_count": 41,
     "metadata": {},
     "output_type": "execute_result"
    }
   ],
   "source": [
    "Instance = Solution()\n",
    "Instance.lengthOfLongestSubstringKDistinct('abaaccca',2)"
   ]
  }
 ],
 "metadata": {
  "kernelspec": {
   "display_name": "Python 3",
   "language": "python",
   "name": "python3"
  },
  "language_info": {
   "codemirror_mode": {
    "name": "ipython",
    "version": 3
   },
   "file_extension": ".py",
   "mimetype": "text/x-python",
   "name": "python",
   "nbconvert_exporter": "python",
   "pygments_lexer": "ipython3",
   "version": "3.7.3"
  }
 },
 "nbformat": 4,
 "nbformat_minor": 2
}
