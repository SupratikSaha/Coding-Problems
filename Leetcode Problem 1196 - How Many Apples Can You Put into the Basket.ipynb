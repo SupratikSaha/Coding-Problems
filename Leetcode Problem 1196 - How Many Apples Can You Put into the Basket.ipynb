{
 "cells": [
  {
   "cell_type": "markdown",
   "metadata": {},
   "source": [
    "Problem Statement.\n",
    "\n",
    "You have some apples, where arr[i] is the weight of the i-th apple.  You also have a basket that can carry up to 5000 units of weight.\n",
    "\n",
    "Return the maximum number of apples you can put in the basket.\n",
    "\n",
    " \n",
    "\n",
    "Example 1:\n",
    "\n",
    "Input: arr = [100,200,150,1000]\n",
    "Output: 4\n",
    "Explanation: All 4 apples can be carried by the basket since their sum of weights is 1450.\n",
    "\n",
    "Example 2:\n",
    "\n",
    "Input: arr = [900,950,800,1000,700,800]\n",
    "Output: 5\n",
    "Explanation: The sum of weights of the 6 apples exceeds 5000 so we choose any 5 of them.\n",
    "\n",
    " \n",
    "\n",
    "Constraints:\n",
    "\n",
    "    1 <= arr.length <= 10^3\n",
    "    1 <= arr[i] <= 10^3"
   ]
  },
  {
   "cell_type": "markdown",
   "metadata": {},
   "source": [
    "# Heap - O(N Log N) runtime, O(N) space"
   ]
  },
  {
   "cell_type": "code",
   "execution_count": 3,
   "metadata": {},
   "outputs": [],
   "source": [
    "from typing import List\n",
    "from heapq import heappush\n",
    "\n",
    "class Solution:\n",
    "    def maxNumberOfApples(self, arr: List[int]) -> int:\n",
    "        maxheap = []\n",
    "        sumWeights = 0\n",
    "        count = 0\n",
    "        \n",
    "        for w in arr:\n",
    "            if w < 5000:\n",
    "                if sumWeights + w > 5000 and w < -maxheap[0]:\n",
    "                    sumWeights = sumWeights + heappop(maxheap) + w\n",
    "                    heappush(maxheap, -w)\n",
    "                elif sumWeights + w <= 5000:\n",
    "                    sumWeights += w\n",
    "                    heappush(maxheap, -w)\n",
    "                    count += 1\n",
    "        \n",
    "        return count"
   ]
  },
  {
   "cell_type": "markdown",
   "metadata": {},
   "source": [
    "# Bucket Sort - O(N+W), O(W) space where N is the length of arr and W is the largest element in arr"
   ]
  },
  {
   "cell_type": "code",
   "execution_count": 5,
   "metadata": {},
   "outputs": [],
   "source": [
    "from typing import List\n",
    "\n",
    "class Solution:\n",
    "    def maxNumberOfApples(self, arr: List[int]) -> int:\n",
    "        # initialize the bucket to store all elements\n",
    "        size = max(arr) + 1\n",
    "        bucket = [0] * size\n",
    "        for weight in arr:\n",
    "            bucket[weight] += 1\n",
    "\n",
    "        apples = units = 0\n",
    "        for i in range(size):\n",
    "            # if we have apples of i units of weight\n",
    "            if bucket[i] != 0:\n",
    "                # we need to make sure that:\n",
    "                # 1. we do not take more apples than those provided\n",
    "                # 2. we do not exceed 5000 units of weight\n",
    "                take = min(bucket[i], (5000 - units) // i)\n",
    "                if take == 0:\n",
    "                    break\n",
    "\n",
    "                apples += take\n",
    "                units += take * i\n",
    "        return apples"
   ]
  },
  {
   "cell_type": "code",
   "execution_count": 6,
   "metadata": {},
   "outputs": [
    {
     "data": {
      "text/plain": [
       "4"
      ]
     },
     "execution_count": 6,
     "metadata": {},
     "output_type": "execute_result"
    }
   ],
   "source": [
    "instance = Solution()\n",
    "instance.maxNumberOfApples([100,200,150,1000])"
   ]
  }
 ],
 "metadata": {
  "kernelspec": {
   "display_name": "Python 3",
   "language": "python",
   "name": "python3"
  },
  "language_info": {
   "codemirror_mode": {
    "name": "ipython",
    "version": 3
   },
   "file_extension": ".py",
   "mimetype": "text/x-python",
   "name": "python",
   "nbconvert_exporter": "python",
   "pygments_lexer": "ipython3",
   "version": "3.7.3"
  }
 },
 "nbformat": 4,
 "nbformat_minor": 2
}
