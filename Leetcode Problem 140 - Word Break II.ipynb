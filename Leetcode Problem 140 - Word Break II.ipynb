{
 "cells": [
  {
   "cell_type": "markdown",
   "metadata": {},
   "source": [
    "Problem Statement: <br/>\n",
    "    \n",
    "Given a non-empty string s and a dictionary wordDict containing a list of non-empty words, add spaces in s to construct a sentence where each word is a valid dictionary word. Return all such possible sentences. <br/>\n",
    "\n",
    "Note: <br/>\n",
    "    The same word in the dictionary may be reused multiple times in the segmentation. <br/>\n",
    "    You may assume the dictionary does not contain duplicate words. <br/>\n",
    "\n",
    "Example 1: <br/>\n",
    "Input: <br/>\n",
    "s = \"catsanddog\" <br/>\n",
    "wordDict = [\"cat\", \"cats\", \"and\", \"sand\", \"dog\"] <br/>\n",
    "Output: <br/>\n",
    "[ <br/>\n",
    "  \"cats and dog\", <br/>\n",
    "  \"cat sand dog\" <br/>\n",
    "] <br/>\n",
    "\n",
    "Example 2: <br/>\n",
    "Input: <br/>\n",
    "s = \"pineapplepenapple\" <br/>\n",
    "wordDict = [\"apple\", \"pen\", \"applepen\", \"pine\", \"pineapple\"] <br/>\n",
    "Output: <br/>\n",
    "[ <br/>\n",
    "  \"pine apple pen apple\", <br/>\n",
    "  \"pineapple pen apple\", <br/>\n",
    "  \"pine applepen apple\" <br/>\n",
    "] <br/>\n",
    "Explanation: Note that you are allowed to reuse a dictionary word. <br/>\n",
    "\n",
    "Example 3: <br/>\n",
    "Input: <br/>\n",
    "s = \"catsandog\" <br/>\n",
    "wordDict = [\"cats\", \"dog\", \"sand\", \"and\", \"cat\"] <br/>\n",
    "Output: []"
   ]
  },
  {
   "cell_type": "markdown",
   "metadata": {},
   "source": [
    "# Top Down Recursion - O(2 ^ N) runtime, O(N) space"
   ]
  },
  {
   "cell_type": "code",
   "execution_count": 1,
   "metadata": {},
   "outputs": [],
   "source": [
    "from typing import List\n",
    "\n",
    "class Solution:\n",
    "    def wordBreak(self, s: str, wordDict: List[str]) -> List[str]:\n",
    "        wordSet = set(wordDict)\n",
    "        n = len(s)\n",
    "        result = []\n",
    "        self.wordBreakRecursive(s, wordSet, 0, 0, [], result)\n",
    "        return result\n",
    "    \n",
    "    def wordBreakRecursive(self, s, wordSet, i, j, currList, result):\n",
    "        if j == len(s):\n",
    "            if i == j: \n",
    "                result.append(' '.join(currList))\n",
    "                return True\n",
    "            return False\n",
    "\n",
    "        self.wordBreakRecursive(s, wordSet, i, j+1, currList, result)\n",
    "        \n",
    "        new = False\n",
    "        curr = s[i:j+1]\n",
    "        if curr in wordSet:\n",
    "            currList.append(curr)\n",
    "            self.wordBreakRecursive(s, wordSet, j+1, j+1, currList, result)\n",
    "            currList.pop()"
   ]
  },
  {
   "cell_type": "markdown",
   "metadata": {},
   "source": [
    "# Top Down DP - O(N ^ 2 + 2 ^ N + W) runtime, O(2 ^ N * N )  space"
   ]
  },
  {
   "cell_type": "code",
   "execution_count": 2,
   "metadata": {},
   "outputs": [],
   "source": [
    "from typing import List\n",
    "\n",
    "class Solution:\n",
    "    def wordBreak(self, s: str, wordDict: List[str]) -> List[str]:\n",
    "        if set(Counter(s).keys()) > set(Counter(\"\".join(wordDict)).keys()):\n",
    "            return []\n",
    "        \n",
    "        self.results = []\n",
    "        self.wordBreakRecursive(s, wordDict, 0, 0, [])\n",
    "        \n",
    "        return self.results\n",
    "        \n",
    "    def wordBreakRecursive(self, s: str, wordDict: List[str], startIndex: int, currIndex: int, result: List[int]):\n",
    "        n = len(s)\n",
    "        if startIndex == n and currIndex == n:\n",
    "            i = 0\n",
    "            words = []\n",
    "            for j in result:\n",
    "                words.append(s[i: j + 1])\n",
    "                i = j + 1\n",
    "            self.results.append(' '.join(words))\n",
    "            return\n",
    "        \n",
    "        elif currIndex == n:\n",
    "            return\n",
    "\n",
    "        if s[startIndex: currIndex + 1] in wordDict:\n",
    "            new_result = result.copy()\n",
    "            new_result.append(currIndex)\n",
    "            self.wordBreakRecursive(s, wordDict, currIndex + 1, currIndex + 1, new_result)\n",
    "        self.wordBreakRecursive(s, wordDict, startIndex, currIndex + 1, result)"
   ]
  },
  {
   "cell_type": "markdown",
   "metadata": {},
   "source": [
    "# Top Down DP with memoization - O(N ^ 2 + 2 ^ N + W) runtime, O(2 ^ N * N + W) space, where N is the length of the string and W is the number of words in the dictionary"
   ]
  },
  {
   "cell_type": "code",
   "execution_count": null,
   "metadata": {},
   "outputs": [],
   "source": [
    "from typing import List\n",
    "\n",
    "class Solution:\n",
    "    def wordBreak(self, s: str, wordDict: List[str]) -> List[str]:\n",
    "        wordSet = set(wordDict)\n",
    "        # table to map a string to its corresponding words break\n",
    "        # {string: [['word1', 'word2'...], ['word3', 'word4', ...]]}\n",
    "        memo = defaultdict(list)\n",
    "\n",
    "        #@lru_cache(maxsize=None)    # alternative memoization solution\n",
    "        def _wordBreak_topdown(s):\n",
    "            \"\"\" return list of word lists \"\"\"\n",
    "            if not s:\n",
    "                return [[]]  # list of empty list\n",
    "\n",
    "            if s in memo:\n",
    "                # returned the cached solution directly.\n",
    "                return memo[s]\n",
    "\n",
    "            for endIndex in range(1, len(s)+1):\n",
    "                word = s[:endIndex]\n",
    "                if word in wordSet:\n",
    "                    # move forwards to break the postfix into words\n",
    "                    for subsentence in _wordBreak_topdown(s[endIndex:]):\n",
    "                        memo[s].append([word] + subsentence)\n",
    "            return memo[s]\n",
    "\n",
    "        # break the input string into lists of words list\n",
    "        _wordBreak_topdown(s)\n",
    "\n",
    "        # chain up the lists of words into sentences.\n",
    "        return [\" \".join(words) for words in memo[s]]"
   ]
  },
  {
   "cell_type": "markdown",
   "metadata": {},
   "source": [
    "# Bottom Up DP - O(N ^ 2 + 2 ^ N + W) runtime, O(2 ^ N * N + N ^ 2 + W) space, where N is the length of the string and W is the number of words in the dictionary"
   ]
  },
  {
   "cell_type": "code",
   "execution_count": 6,
   "metadata": {},
   "outputs": [],
   "source": [
    "from typing import List\n",
    "from collections import Counter\n",
    "\n",
    "class Solution:\n",
    "    def wordBreak(self, s: str, wordDict: List[str]) -> List[str]:\n",
    "        # quick check on the characters,\n",
    "        #   otherwise it would exceed the time limit for certain test cases.\n",
    "        if set(Counter(s).keys()) > set(Counter(\"\".join(wordDict)).keys()):\n",
    "            return []\n",
    "\n",
    "        wordSet = set(wordDict)\n",
    "\n",
    "        dp = [[]] * (len(s)+1)\n",
    "        dp[0] = [[0]]\n",
    "\n",
    "        for endIndex in range(1, len(s)+1):\n",
    "            stops = []\n",
    "            for startIndex in range(0, endIndex):\n",
    "                word = s[startIndex:endIndex]\n",
    "                if word in wordSet:\n",
    "                    stops.append([startIndex, endIndex])\n",
    "            dp[endIndex] = stops\n",
    "        \n",
    "        ret = []\n",
    "        def wordDFS(sentence, dp_index):\n",
    "            if dp_index == 0:\n",
    "                ret.append(\" \".join(sentence))\n",
    "                return\n",
    "\n",
    "            for start, end in dp[dp_index]:\n",
    "                word = s[start:end]\n",
    "                wordDFS([word] + sentence, start)\n",
    "\n",
    "        wordDFS([], len(s))\n",
    "\n",
    "        return ret"
   ]
  },
  {
   "cell_type": "code",
   "execution_count": 7,
   "metadata": {},
   "outputs": [
    {
     "data": {
      "text/plain": [
       "['pine applepen apple', 'pineapple pen apple', 'pine apple pen apple']"
      ]
     },
     "execution_count": 7,
     "metadata": {},
     "output_type": "execute_result"
    }
   ],
   "source": [
    "instance = Solution()\n",
    "instance.wordBreak(\"pineapplepenapple\", [\"apple\", \"pen\", \"applepen\", \"pine\", \"pineapple\"])"
   ]
  }
 ],
 "metadata": {
  "kernelspec": {
   "display_name": "Python 3",
   "language": "python",
   "name": "python3"
  },
  "language_info": {
   "codemirror_mode": {
    "name": "ipython",
    "version": 3
   },
   "file_extension": ".py",
   "mimetype": "text/x-python",
   "name": "python",
   "nbconvert_exporter": "python",
   "pygments_lexer": "ipython3",
   "version": "3.7.3"
  }
 },
 "nbformat": 4,
 "nbformat_minor": 2
}
