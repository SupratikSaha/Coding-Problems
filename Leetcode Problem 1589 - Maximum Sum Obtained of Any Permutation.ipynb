{
 "cells": [
  {
   "cell_type": "markdown",
   "metadata": {},
   "source": [
    "Problem Statement.\n",
    "\n",
    "We have an array of integers, nums, and an array of requests where requests[i] = [starti, endi]. The ith request asks for the sum of nums[starti] + nums[starti + 1] + ... + nums[endi - 1] + nums[endi]. Both starti and endi are 0-indexed.\n",
    "\n",
    "Return the maximum total sum of all requests among all permutations of nums.\n",
    "\n",
    "Since the answer may be too large, return it modulo 109 + 7.\n",
    "\n",
    " \n",
    "\n",
    "Example 1:\n",
    "\n",
    "Input: nums = [1,2,3,4,5], requests = [[1,3],[0,1]]\n",
    "Output: 19\n",
    "Explanation: One permutation of nums is [2,1,3,4,5] with the following result: \n",
    "requests[0] -> nums[1] + nums[2] + nums[3] = 1 + 3 + 4 = 8\n",
    "requests[1] -> nums[0] + nums[1] = 2 + 1 = 3\n",
    "Total sum: 8 + 3 = 11.\n",
    "A permutation with a higher total sum is [3,5,4,2,1] with the following result:\n",
    "requests[0] -> nums[1] + nums[2] + nums[3] = 5 + 4 + 2 = 11\n",
    "requests[1] -> nums[0] + nums[1] = 3 + 5  = 8\n",
    "Total sum: 11 + 8 = 19, which is the best that you can do.\n",
    "\n",
    "Example 2:\n",
    "\n",
    "Input: nums = [1,2,3,4,5,6], requests = [[0,1]]\n",
    "Output: 11\n",
    "Explanation: A permutation with the max total sum is [6,5,4,3,2,1] with request sums [11].\n",
    "\n",
    "Example 3:\n",
    "\n",
    "Input: nums = [1,2,3,4,5,10], requests = [[0,2],[1,3],[1,1]]\n",
    "Output: 47\n",
    "Explanation: A permutation with the max total sum is [4,10,5,3,2,1] with request sums [19,18,10].\n",
    "\n",
    " \n",
    "\n",
    "Constraints:\n",
    "\n",
    "    n == nums.length\n",
    "    1 <= n <= 10^5\n",
    "    0 <= nums[i] <= 10^5\n",
    "    1 <= requests.length <= 10^5\n",
    "    requests[i].length == 2\n",
    "    0 <= starti <= endi < n"
   ]
  },
  {
   "cell_type": "markdown",
   "metadata": {},
   "source": [
    "# Count and Sort - O(N * Log N) runtime, O(N) space"
   ]
  },
  {
   "cell_type": "code",
   "execution_count": 1,
   "metadata": {},
   "outputs": [],
   "source": [
    "from typing import List\n",
    "\n",
    "class Solution:\n",
    "    def maxSumRangeQuery(self, nums: List[int], requests: List[List[int]]) -> int:\n",
    "        n = len(nums)\n",
    "        count = [0] * (n + 1)\n",
    "        \n",
    "        for s, e in requests:\n",
    "            count[s] += 1\n",
    "            count[e + 1] -= 1\n",
    "            \n",
    "        for i in range(1, n):\n",
    "            count[i] += count[i - 1]\n",
    "        \n",
    "        res = 0\n",
    "        for num, freq in zip(sorted(nums, reverse=True), sorted(count, reverse=True)):\n",
    "            res += num * freq\n",
    "            \n",
    "        return res % (10**9 + 7)"
   ]
  },
  {
   "cell_type": "code",
   "execution_count": 2,
   "metadata": {},
   "outputs": [
    {
     "data": {
      "text/plain": [
       "19"
      ]
     },
     "execution_count": 2,
     "metadata": {},
     "output_type": "execute_result"
    }
   ],
   "source": [
    "instance = Solution()\n",
    "instance.maxSumRangeQuery( [1,2,3,4,5], [[1,3],[0,1]])"
   ]
  }
 ],
 "metadata": {
  "kernelspec": {
   "display_name": "Python 3",
   "language": "python",
   "name": "python3"
  },
  "language_info": {
   "codemirror_mode": {
    "name": "ipython",
    "version": 3
   },
   "file_extension": ".py",
   "mimetype": "text/x-python",
   "name": "python",
   "nbconvert_exporter": "python",
   "pygments_lexer": "ipython3",
   "version": "3.7.3"
  }
 },
 "nbformat": 4,
 "nbformat_minor": 2
}
