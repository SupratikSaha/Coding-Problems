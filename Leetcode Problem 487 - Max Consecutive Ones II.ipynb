{
 "cells": [
  {
   "cell_type": "markdown",
   "metadata": {},
   "source": [
    "Problem Statement.\n",
    "\n",
    "Given a binary array nums, return the maximum number of consecutive 1's in the array if you can flip at most one 0.\n",
    "\n",
    " \n",
    "\n",
    "Example 1:\n",
    "\n",
    "Input: nums = [1,0,1,1,0]\n",
    "Output: 4\n",
    "Explanation: Flip the first zero will get the maximum number of consecutive 1s. After flipping, the maximum number of consecutive 1s is 4.\n",
    "\n",
    "Example 2:\n",
    "\n",
    "Input: nums = [1,0,1,1,0,1]\n",
    "Output: 4\n",
    "\n",
    " \n",
    "\n",
    "Constraints:\n",
    "\n",
    "    1 <= nums.length <= 105\n",
    "    nums[i] is either 0 or 1.\n",
    "\n",
    " \n",
    "\n",
    "Follow up: What if the input numbers come in one by one as an infinite stream? In other words, you can't store all numbers coming from the stream as it's too large to hold in memory. Could you solve it efficiently?"
   ]
  },
  {
   "cell_type": "markdown",
   "metadata": {},
   "source": [
    "# Sliding Window - O(N) runtime, O(1) space"
   ]
  },
  {
   "cell_type": "code",
   "execution_count": 3,
   "metadata": {},
   "outputs": [],
   "source": [
    "from typing import List\n",
    "\n",
    "class Solution:\n",
    "    def findMaxConsecutiveOnes(self, nums: List[int]) -> int:\n",
    "        longest_sequence = 0\n",
    "        left, right = 0, 0\n",
    "        num_zeroes = 0\n",
    "\n",
    "        while right < len(nums):   # while our window is in bounds\n",
    "            if nums[right] == 0:    # add the right most element into our window\n",
    "                num_zeroes += 1\n",
    "\n",
    "            while num_zeroes == 2:   # if our window is invalid, contract our window\n",
    "                if nums[left] == 0:    \n",
    "                    num_zeroes -= 1\n",
    "                left += 1\n",
    "\n",
    "            longest_sequence = max(longest_sequence, right - left + 1)   # update our longest sequence answer\n",
    "            right += 1   # expand our window\n",
    "\n",
    "        return longest_sequence"
   ]
  },
  {
   "cell_type": "markdown",
   "metadata": {},
   "source": [
    "# DP - O(N) runtime, O(1) space"
   ]
  },
  {
   "cell_type": "code",
   "execution_count": 1,
   "metadata": {},
   "outputs": [],
   "source": [
    "from typing import List\n",
    "\n",
    "class Solution:\n",
    "    def findMaxConsecutiveOnes(self, nums: List[int]) -> int:\n",
    "        currWithZero, currWithoutZero, maxVal = 0, 0, 0\n",
    "\n",
    "        for num in nums:\n",
    "            if num == 1:\n",
    "                currWithZero += 1\n",
    "                currWithoutZero += 1\n",
    "            else:\n",
    "                currWithZero = currWithoutZero + 1\n",
    "                currWithoutZero = 0\n",
    "            maxVal = max(maxVal, currWithZero, currWithoutZero)\n",
    "\n",
    "        return maxVal"
   ]
  },
  {
   "cell_type": "code",
   "execution_count": 4,
   "metadata": {},
   "outputs": [
    {
     "data": {
      "text/plain": [
       "4"
      ]
     },
     "execution_count": 4,
     "metadata": {},
     "output_type": "execute_result"
    }
   ],
   "source": [
    "instance = Solution()\n",
    "instance.findMaxConsecutiveOnes([1,0,1,1,0,1])"
   ]
  }
 ],
 "metadata": {
  "kernelspec": {
   "display_name": "Python 3",
   "language": "python",
   "name": "python3"
  },
  "language_info": {
   "codemirror_mode": {
    "name": "ipython",
    "version": 3
   },
   "file_extension": ".py",
   "mimetype": "text/x-python",
   "name": "python",
   "nbconvert_exporter": "python",
   "pygments_lexer": "ipython3",
   "version": "3.7.3"
  }
 },
 "nbformat": 4,
 "nbformat_minor": 2
}
