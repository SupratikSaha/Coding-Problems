{
 "cells": [
  {
   "cell_type": "markdown",
   "metadata": {},
   "source": [
    "Problem Statement.\n",
    "\n",
    "Given the availability time slots arrays slots1 and slots2 of two people and a meeting duration duration, return the earliest time slot that works for both of them and is of duration duration.\n",
    "\n",
    "If there is no common time slot that satisfies the requirements, return an empty array.\n",
    "\n",
    "The format of a time slot is an array of two elements [start, end] representing an inclusive time range from start to end.\n",
    "\n",
    "It is guaranteed that no two availability slots of the same person intersect with each other. That is, for any two time slots [start1, end1] and [start2, end2] of the same person, either start1 > end2 or start2 > end1.\n",
    "\n",
    " \n",
    "\n",
    "Example 1:\n",
    "\n",
    "Input: slots1 = [[10,50],[60,120],[140,210]], slots2 = [[0,15],[60,70]], duration = 8\n",
    "Output: [60,68]\n",
    "\n",
    "Example 2:\n",
    "\n",
    "Input: slots1 = [[10,50],[60,120],[140,210]], slots2 = [[0,15],[60,70]], duration = 12\n",
    "Output: []\n",
    "\n",
    " \n",
    "\n",
    "Constraints:\n",
    "\n",
    "    1 <= slots1.length, slots2.length <= 1^04\n",
    "    slots1[i].length, slots2[i].length == 2\n",
    "    slots1[i][0] < slots1[i][1]\n",
    "    slots2[i][0] < slots2[i][1]\n",
    "    0 <= slots1[i][j], slots2[i][j] <= 10^9\n",
    "    1 <= duration <= 10^6"
   ]
  },
  {
   "cell_type": "markdown",
   "metadata": {},
   "source": [
    "# Sorting - O(M * LogM + N * LogN) runtime, O(M + N) space"
   ]
  },
  {
   "cell_type": "code",
   "execution_count": 7,
   "metadata": {},
   "outputs": [],
   "source": [
    "from typing import List\n",
    "\n",
    "class Solution:\n",
    "    def minAvailableDuration(self, slots1: List[List[int]], slots2: List[List[int]], duration: int) -> List[int]:\n",
    "        \n",
    "        slots1.sort()\n",
    "        slots2.sort()\n",
    "        \n",
    "        i, j = 0, 0\n",
    "        \n",
    "        while i < len(slots1) and j < len(slots2):\n",
    "            commonLeft = max(slots1[i][0], slots2[j][0])\n",
    "            commonRight = min(slots1[i][1], slots2[j][1])\n",
    "            if commonRight - commonLeft >= duration:\n",
    "                return [commonLeft, commonLeft + duration]\n",
    "            if slots1[i][1] <= slots2[j][1]: i += 1\n",
    "            else: j += 1\n",
    "                \n",
    "        return []"
   ]
  },
  {
   "cell_type": "markdown",
   "metadata": {},
   "source": [
    "# Heap - O((M + N) * Log(M + N)) runtime, O(M + N) space"
   ]
  },
  {
   "cell_type": "code",
   "execution_count": 3,
   "metadata": {},
   "outputs": [],
   "source": [
    "from typing import List\n",
    "from heapq import heapify, heappop\n",
    "\n",
    "class Solution:\n",
    "    def minAvailableDuration(self, slots1: List[List[int]], slots2: List[List[int]], duration: int) -> List[int]:\n",
    "        \n",
    "        timeslots = list(filter(lambda x: x[1] - x[0] >= duration, slots1 + slots2))\n",
    "        heapify(timeslots)\n",
    "\n",
    "        while len(timeslots) > 1:\n",
    "            start1, end1 = heapq.heappop(timeslots)\n",
    "            start2, end2 = timeslots[0]\n",
    "            if end1 >= start2 + duration:\n",
    "                return [start2, start2 + duration]\n",
    "        return []"
   ]
  },
  {
   "cell_type": "code",
   "execution_count": 8,
   "metadata": {},
   "outputs": [
    {
     "data": {
      "text/plain": [
       "[60, 68]"
      ]
     },
     "execution_count": 8,
     "metadata": {},
     "output_type": "execute_result"
    }
   ],
   "source": [
    "instance = Solution()\n",
    "instance.minAvailableDuration( [[10,50],[60,120],[140,210]], [[0,15],[60,70]], 8)"
   ]
  }
 ],
 "metadata": {
  "kernelspec": {
   "display_name": "Python 3",
   "language": "python",
   "name": "python3"
  },
  "language_info": {
   "codemirror_mode": {
    "name": "ipython",
    "version": 3
   },
   "file_extension": ".py",
   "mimetype": "text/x-python",
   "name": "python",
   "nbconvert_exporter": "python",
   "pygments_lexer": "ipython3",
   "version": "3.7.3"
  }
 },
 "nbformat": 4,
 "nbformat_minor": 2
}
