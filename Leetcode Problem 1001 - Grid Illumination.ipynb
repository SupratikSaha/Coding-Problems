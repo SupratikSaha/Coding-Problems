{
 "cells": [
  {
   "cell_type": "markdown",
   "metadata": {},
   "source": [
    "Problem Statement.\n",
    "\n",
    "There is a 2D grid of size n x n where each cell of this grid has a lamp that is initially turned off.\n",
    "\n",
    "You are given a 2D array of lamp positions lamps, where lamps[i] = [rowi, coli] indicates that the lamp at grid[rowi][coli] is turned on. Even if the same lamp is listed more than once, it is turned on.\n",
    "\n",
    "When a lamp is turned on, it illuminates its cell and all other cells in the same row, column, or diagonal.\n",
    "\n",
    "You are also given another 2D array queries, where queries[j] = [rowj, colj]. For the jth query, determine whether grid[rowj][colj] is illuminated or not. After answering the jth query, turn off the lamp at grid[rowj][colj] and its 8 adjacent lamps if they exist. A lamp is adjacent if its cell shares either a side or corner with grid[rowj][colj].\n",
    "\n",
    "Return an array of integers ans, where ans[j] should be 1 if the cell in the jth query was illuminated, or 0 if the lamp was not.\n",
    "\n",
    " \n",
    "\n",
    "Example 1:\n",
    "\n",
    "Input: n = 5, lamps = [[0,0],[4,4]], queries = [[1,1],[1,0]]\n",
    "Output: [1,0]\n",
    "Explanation: We have the initial grid with all lamps turned off. In the above picture we see the grid after turning on the lamp at grid[0][0] then turning on the lamp at grid[4][4].\n",
    "The 0th query asks if the lamp at grid[1][1] is illuminated or not (the blue square). It is illuminated, so set ans[0] = 1. Then, we turn off all lamps in the red square.\n",
    "\n",
    "The 1st query asks if the lamp at grid[1][0] is illuminated or not (the blue square). It is not illuminated, so set ans[1] = 0. Then, we turn off all lamps in the red rectangle.\n",
    "\n",
    "Example 2:\n",
    "\n",
    "Input: n = 5, lamps = [[0,0],[4,4]], queries = [[1,1],[1,1]]\n",
    "Output: [1,1]\n",
    "\n",
    "Example 3:\n",
    "\n",
    "Input: n = 5, lamps = [[0,0],[0,4]], queries = [[0,4],[0,1],[1,4]]\n",
    "Output: [1,1,0]\n",
    "\n",
    " \n",
    "\n",
    "Constraints:\n",
    "\n",
    "    1 <= n <= 109\n",
    "    0 <= lamps.length <= 20000\n",
    "    0 <= queries.length <= 20000\n",
    "    lamps[i].length == 2\n",
    "    0 <= rowi, coli < n\n",
    "    queries[j].length == 2\n",
    "    0 <= rowj, colj < n"
   ]
  },
  {
   "cell_type": "markdown",
   "metadata": {},
   "source": [
    "# Hash Map - O(L + Q) runtime, O(N) space"
   ]
  },
  {
   "cell_type": "code",
   "execution_count": 1,
   "metadata": {},
   "outputs": [],
   "source": [
    "from typing import List\n",
    "from collections import defaultdict\n",
    "\n",
    "class Solution:\n",
    "    def gridIllumination(self, n: int, lamps: List[List[int]], queries: List[List[int]]) -> List[int]:\n",
    "        col = defaultdict(int)\n",
    "        row = defaultdict(int)\n",
    "        diag1 = defaultdict(int)\n",
    "        diag2 = defaultdict(int)\n",
    "        lamps = set((i, j) for i, j in lamps)\n",
    "        \n",
    "        for i, j in lamps:\n",
    "            col[j] += 1\n",
    "            row[i] += 1\n",
    "            diag1[i-j] += 1\n",
    "            diag2[i+j] += 1\n",
    "            \n",
    "        res = []\n",
    "        for i, j in queries:\n",
    "            res.append(int(row[i] > 0 or col[j] > 0 or diag1[i-j] > 0 or diag2[i+j] > 0))\n",
    "            for di in [-1, 0, 1]:\n",
    "                for dj in [-1, 0, 1]:\n",
    "                    ni, nj = i+di, j+dj\n",
    "                    if ni < 0 or ni >= n or nj < 0 or nj >= n: continue\n",
    "                    if (ni, nj) in lamps:\n",
    "                        row[ni] -= 1\n",
    "                        col[nj] -= 1\n",
    "                        diag1[ni-nj] -= 1\n",
    "                        diag2[ni+nj] -= 1\n",
    "                        lamps -= {(ni, nj)}\n",
    "        \n",
    "        return res"
   ]
  },
  {
   "cell_type": "code",
   "execution_count": 2,
   "metadata": {},
   "outputs": [
    {
     "data": {
      "text/plain": [
       "[1, 1, 0]"
      ]
     },
     "execution_count": 2,
     "metadata": {},
     "output_type": "execute_result"
    }
   ],
   "source": [
    "instance = Solution()\n",
    "instance.gridIllumination(5, [[0,0],[0,4]], [[0,4],[0,1],[1,4]])"
   ]
  }
 ],
 "metadata": {
  "kernelspec": {
   "display_name": "Python 3",
   "language": "python",
   "name": "python3"
  },
  "language_info": {
   "codemirror_mode": {
    "name": "ipython",
    "version": 3
   },
   "file_extension": ".py",
   "mimetype": "text/x-python",
   "name": "python",
   "nbconvert_exporter": "python",
   "pygments_lexer": "ipython3",
   "version": "3.7.3"
  }
 },
 "nbformat": 4,
 "nbformat_minor": 2
}
