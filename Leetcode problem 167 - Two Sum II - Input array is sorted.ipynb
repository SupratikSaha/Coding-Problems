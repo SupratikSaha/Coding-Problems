{
 "cells": [
  {
   "cell_type": "markdown",
   "metadata": {},
   "source": [
    "# Using Binary Search : O(n log n) runtime, O(1) space"
   ]
  },
  {
   "cell_type": "code",
   "execution_count": 13,
   "metadata": {},
   "outputs": [],
   "source": [
    "class Solution:\n",
    "    \n",
    "    def bin_search(self, numbers, key, start):\n",
    "        \n",
    "        begin, end = start, len(numbers) - 1\n",
    "        \n",
    "        while(begin<end):\n",
    "            mid = int( (begin + end) / 2)\n",
    "            if key < numbers[mid]:\n",
    "                end = mid\n",
    "            elif key > numbers[mid]:\n",
    "                begin = mid + 1\n",
    "            else:\n",
    "                return mid\n",
    "        return -1\n",
    "    \n",
    "    def twoSum(self, numbers, target: int):\n",
    "        \n",
    "        length = len(numbers)\n",
    "        \n",
    "        for ctr in range(length):\n",
    "            complement_num_index = self.bin_search(numbers, target - numbers[ctr], ctr+1)\n",
    "            if complement_num_index != -1:\n",
    "                return [ctr+1, complement_num_index+1]\n",
    "        return []"
   ]
  },
  {
   "cell_type": "markdown",
   "metadata": {},
   "source": [
    "# Using two list pointers: O(n) runtime, O(1) space"
   ]
  },
  {
   "cell_type": "code",
   "execution_count": 2,
   "metadata": {},
   "outputs": [],
   "source": [
    "class Solution:\n",
    "    def twoSum(self, numbers, target: int):\n",
    "        \n",
    "        small_index, large_index = 0, len(numbers) - 1\n",
    "        \n",
    "        while(small_index < large_index):\n",
    "            sum_nums = numbers[small_index] + numbers[large_index]\n",
    "            \n",
    "            if sum_nums < target:\n",
    "                small_index += 1\n",
    "            elif sum_nums > target:\n",
    "                large_index -= 1\n",
    "            else:\n",
    "                return [small_index + 1, large_index + 1]"
   ]
  },
  {
   "cell_type": "code",
   "execution_count": 19,
   "metadata": {},
   "outputs": [
    {
     "data": {
      "text/plain": [
       "[1, 6]"
      ]
     },
     "execution_count": 19,
     "metadata": {},
     "output_type": "execute_result"
    }
   ],
   "source": [
    "Instance = Solution()\n",
    "Instance.twoSum([2,3,8,9,11,14,15],16)"
   ]
  }
 ],
 "metadata": {
  "kernelspec": {
   "display_name": "Python 3",
   "language": "python",
   "name": "python3"
  },
  "language_info": {
   "codemirror_mode": {
    "name": "ipython",
    "version": 3
   },
   "file_extension": ".py",
   "mimetype": "text/x-python",
   "name": "python",
   "nbconvert_exporter": "python",
   "pygments_lexer": "ipython3",
   "version": "3.7.3"
  }
 },
 "nbformat": 4,
 "nbformat_minor": 2
}
