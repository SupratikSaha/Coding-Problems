{
 "cells": [
  {
   "cell_type": "markdown",
   "metadata": {},
   "source": [
    "Problem Statement.\n",
    "\n",
    "SQL Schema\n",
    "\n",
    "    Table: Products\n",
    "\n",
    "    +-------------+---------+\n",
    "    | Column Name | Type    |\n",
    "    +-------------+---------+\n",
    "    | product_id  | int     |\n",
    "    | low_fats    | enum    |\n",
    "    | recyclable  | enum    |\n",
    "    +-------------+---------+\n",
    "    product_id is the primary key for this table.\n",
    "    low_fats is an ENUM of type ('Y', 'N') where 'Y' means this product is low fat and 'N' means it is not.\n",
    "    recyclable is an ENUM of types ('Y', 'N') where 'Y' means this product is recyclable and 'N' means it is not.\n",
    "\n",
    "\n",
    "\n",
    "    Write an SQL query to find the ids of products that are both low fat and recyclable.\n",
    "\n",
    "    Return the result table in any order.\n",
    "\n",
    "    The query result format is in the following example:\n",
    "\n",
    "\n",
    "\n",
    "    Products table:\n",
    "    +-------------+----------+------------+\n",
    "    | product_id  | low_fats | recyclable |\n",
    "    +-------------+----------+------------+\n",
    "    | 0           | Y        | N          |\n",
    "    | 1           | Y        | Y          |\n",
    "    | 2           | N        | Y          |\n",
    "    | 3           | Y        | Y          |\n",
    "    | 4           | N        | N          |\n",
    "    +-------------+----------+------------+\n",
    "    Result table:\n",
    "    +-------------+\n",
    "    | product_id  |\n",
    "    +-------------+\n",
    "    | 1           |\n",
    "    | 3           |\n",
    "    +-------------+\n",
    "    Only products 1 and 3 are both low fat and recyclable.\n"
   ]
  },
  {
   "cell_type": "code",
   "execution_count": null,
   "metadata": {},
   "outputs": [],
   "source": [
    "select product_id \n",
    "from Products\n",
    "where low_fats = 'Y' and recyclable = 'Y'"
   ]
  }
 ],
 "metadata": {
  "kernelspec": {
   "display_name": "Python 3",
   "language": "python",
   "name": "python3"
  },
  "language_info": {
   "codemirror_mode": {
    "name": "ipython",
    "version": 3
   },
   "file_extension": ".py",
   "mimetype": "text/x-python",
   "name": "python",
   "nbconvert_exporter": "python",
   "pygments_lexer": "ipython3",
   "version": "3.7.3"
  }
 },
 "nbformat": 4,
 "nbformat_minor": 2
}
