{
 "cells": [
  {
   "cell_type": "markdown",
   "metadata": {},
   "source": [
    "    Problem Statement.\n",
    "\n",
    "    Table: DailySales\n",
    "\n",
    "    +-------------+---------+\n",
    "    | Column Name | Type    |\n",
    "    +-------------+---------+\n",
    "    | date_id     | date    |\n",
    "    | make_name   | varchar |\n",
    "    | lead_id     | int     |\n",
    "    | partner_id  | int     |\n",
    "    +-------------+---------+\n",
    "    This table does not have a primary key.\n",
    "    This table contains the date and the name of the product sold and the IDs of the lead and partner it was sold to.\n",
    "    The name consists of only lowercase English letters.\n",
    "\n",
    "\n",
    "\n",
    "    Write an SQL query that will, for each date_id and make_name, return the number of distinct lead_id's and distinct partner_id's.\n",
    "\n",
    "    Return the result table in any order.\n",
    "\n",
    "    The query result format is in the following example.\n",
    "\n",
    "\n",
    "\n",
    "    Example 1:\n",
    "\n",
    "    Input: \n",
    "    DailySales table:\n",
    "    +-----------+-----------+---------+------------+\n",
    "    | date_id   | make_name | lead_id | partner_id |\n",
    "    +-----------+-----------+---------+------------+\n",
    "    | 2020-12-8 | toyota    | 0       | 1          |\n",
    "    | 2020-12-8 | toyota    | 1       | 0          |\n",
    "    | 2020-12-8 | toyota    | 1       | 2          |\n",
    "    | 2020-12-7 | toyota    | 0       | 2          |\n",
    "    | 2020-12-7 | toyota    | 0       | 1          |\n",
    "    | 2020-12-8 | honda     | 1       | 2          |\n",
    "    | 2020-12-8 | honda     | 2       | 1          |\n",
    "    | 2020-12-7 | honda     | 0       | 1          |\n",
    "    | 2020-12-7 | honda     | 1       | 2          |\n",
    "    | 2020-12-7 | honda     | 2       | 1          |\n",
    "    +-----------+-----------+---------+------------+\n",
    "    Output: \n",
    "    +-----------+-----------+--------------+-----------------+\n",
    "    | date_id   | make_name | unique_leads | unique_partners |\n",
    "    +-----------+-----------+--------------+-----------------+\n",
    "    | 2020-12-8 | toyota    | 2            | 3               |\n",
    "    | 2020-12-7 | toyota    | 1            | 2               |\n",
    "    | 2020-12-8 | honda     | 2            | 2               |\n",
    "    | 2020-12-7 | honda     | 3            | 2               |\n",
    "    +-----------+-----------+--------------+-----------------+\n",
    "    Explanation: \n",
    "    For 2020-12-8, toyota gets leads = [0, 1] and partners = [0, 1, 2] while honda gets leads = [1, 2] and partners = [1, 2].\n",
    "    For 2020-12-7, toyota gets leads = [0] and partners = [1, 2] while honda gets leads = [0, 1, 2] and partners = [1, 2]."
   ]
  },
  {
   "cell_type": "markdown",
   "metadata": {},
   "source": [
    "# Count"
   ]
  },
  {
   "cell_type": "code",
   "execution_count": null,
   "metadata": {},
   "outputs": [],
   "source": [
    "select date_id, make_name, count(distinct lead_id) as unique_leads,\n",
    "       count(distinct partner_id) as unique_partners\n",
    "from DailySales\n",
    "group by 1, 2"
   ]
  }
 ],
 "metadata": {
  "kernelspec": {
   "display_name": "Python 3",
   "language": "python",
   "name": "python3"
  },
  "language_info": {
   "codemirror_mode": {
    "name": "ipython",
    "version": 3
   },
   "file_extension": ".py",
   "mimetype": "text/x-python",
   "name": "python",
   "nbconvert_exporter": "python",
   "pygments_lexer": "ipython3",
   "version": "3.7.3"
  }
 },
 "nbformat": 4,
 "nbformat_minor": 2
}
