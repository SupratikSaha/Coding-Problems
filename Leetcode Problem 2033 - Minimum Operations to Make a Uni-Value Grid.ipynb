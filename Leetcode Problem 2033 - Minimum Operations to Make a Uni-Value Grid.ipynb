{
 "cells": [
  {
   "cell_type": "markdown",
   "metadata": {},
   "source": [
    "Problem Statement.\n",
    "\n",
    "You are given a 2D integer grid of size m x n and an integer x. In one operation, you can add x to or subtract x from any element in the grid.\n",
    "\n",
    "A uni-value grid is a grid where all the elements of it are equal.\n",
    "\n",
    "Return the minimum number of operations to make the grid uni-value. If it is not possible, return -1.\n",
    "\n",
    "\n",
    "Example 1:\n",
    "\n",
    "Input: grid = [[2,4],[6,8]], x = 2\n",
    "Output: 4\n",
    "Explanation: We can make every element equal to 4 by doing the following: \n",
    "- Add x to 2 once.\n",
    "- Subtract x from 6 once.\n",
    "- Subtract x from 8 twice.\n",
    "A total of 4 operations were used.\n",
    "\n",
    "Example 2:\n",
    "\n",
    "Input: grid = [[1,5],[2,3]], x = 1\n",
    "Output: 5\n",
    "Explanation: We can make every element equal to 3.\n",
    "\n",
    "Example 3:\n",
    "\n",
    "Input: grid = [[1,2],[3,4]], x = 2\n",
    "Output: -1\n",
    "Explanation: It is impossible to make every element equal.\n",
    "\n",
    "Constraints:\n",
    "\n",
    "    m == grid.length\n",
    "    n == grid[i].length\n",
    "    1 <= m, n <= 10^5\n",
    "    1 <= m * n <= 10^5\n",
    "    1 <= x, grid[i][j] <= 10^4"
   ]
  },
  {
   "cell_type": "markdown",
   "metadata": {},
   "source": [
    "# Sort - O(Log M *N) runtime, O(M * N) space"
   ]
  },
  {
   "cell_type": "code",
   "execution_count": 1,
   "metadata": {},
   "outputs": [],
   "source": [
    "from typing import List\n",
    "\n",
    "class Solution:\n",
    "    def minOperations(self, grid: List[List[int]], x: int) -> int:\n",
    "        m, n = len(grid), len(grid[0])\n",
    "        vals = sorted([grid[r][c] for r in range(m) for c in range(n)])\n",
    "        \n",
    "        pos1, pos2 = m*n//2 -1, m*n//2\n",
    "        val1, val2 = vals[pos1], vals[pos2]\n",
    "        \n",
    "        res1 = res2 = 0\n",
    "        valid1 = valid2 = True\n",
    "        for v in vals:\n",
    "            quot1, rem1 = divmod(abs(val1-v), x)\n",
    "            quot2, rem2 = divmod(abs(val2-v), x)\n",
    "            if rem1 != 0: valid1 = False\n",
    "            if rem2 != 0: valid2 = False\n",
    "            if not valid1 and not valid2: return -1\n",
    "            res1 += quot1\n",
    "            res2 += quot2\n",
    "            \n",
    "            \n",
    "        return min(res1, res2)"
   ]
  },
  {
   "cell_type": "markdown",
   "metadata": {},
   "source": [
    "# Simpler Sort - O(Log M *N) runtime, O(M * N) space"
   ]
  },
  {
   "cell_type": "code",
   "execution_count": 3,
   "metadata": {},
   "outputs": [],
   "source": [
    "from typing import List\n",
    "\n",
    "class Solution:\n",
    "    def minOperations(self, grid: List[List[int]], x: int) -> int:\n",
    "        vals = [x for row in grid for x in row]\n",
    "        if len(set(val%x for val in vals)) > 1: return -1 # impossible\n",
    "        median = sorted(vals)[len(vals)//2] # O(N) possible via \"quick select\"\n",
    "        return sum(abs(val - median)//x for val in vals)"
   ]
  },
  {
   "cell_type": "markdown",
   "metadata": {},
   "source": [
    "# Simplest Sort - O(Log M *N) runtime, O(M * N) space"
   ]
  },
  {
   "cell_type": "code",
   "execution_count": 5,
   "metadata": {},
   "outputs": [],
   "source": [
    "from typing import List\n",
    "\n",
    "class Solution:\n",
    "    def minOperations(self, grid: List[List[int]], x: int) -> int:\n",
    "        vals = sorted([x for row in grid for x in row])\n",
    "        median = vals[len(vals)//2] # O(N) possible via \"quick select\"\n",
    "        res = 0\n",
    "        for v in vals:\n",
    "            quot, rem = divmod(abs(median-v), x)\n",
    "            if rem != 0: return -1\n",
    "            res += quot\n",
    "\n",
    "        return res"
   ]
  },
  {
   "cell_type": "code",
   "execution_count": 6,
   "metadata": {},
   "outputs": [
    {
     "data": {
      "text/plain": [
       "5"
      ]
     },
     "execution_count": 6,
     "metadata": {},
     "output_type": "execute_result"
    }
   ],
   "source": [
    "instance = Solution()\n",
    "instance.minOperations([[1,5],[2,3]], 1)"
   ]
  }
 ],
 "metadata": {
  "kernelspec": {
   "display_name": "Python 3",
   "language": "python",
   "name": "python3"
  },
  "language_info": {
   "codemirror_mode": {
    "name": "ipython",
    "version": 3
   },
   "file_extension": ".py",
   "mimetype": "text/x-python",
   "name": "python",
   "nbconvert_exporter": "python",
   "pygments_lexer": "ipython3",
   "version": "3.7.3"
  }
 },
 "nbformat": 4,
 "nbformat_minor": 2
}
