{
 "cells": [
  {
   "cell_type": "markdown",
   "metadata": {},
   "source": [
    "Problem Statement.\n",
    "\n",
    "You are given all the nodes of an N-ary tree as an array of Node objects, where each node has a unique value.\n",
    "\n",
    "Return the root of the N-ary tree.\n",
    "\n",
    "Custom testing:\n",
    "\n",
    "An N-ary tree can be serialized as represented in its level order traversal where each group of children is separated by the null value (see examples).\n",
    "\n",
    "For example, the above tree is serialized as [1,null,2,3,4,5,null,null,6,7,null,8,null,9,10,null,null,11,null,12,null,13,null,null,14].\n",
    "\n",
    "The testing will be done in the following way:\n",
    "\n",
    "    The input data should be provided as a serialization of the tree.\n",
    "    The driver code will construct the tree from the serialized input data and put each Node object into an array in an arbitrary order.\n",
    "    The driver code will pass the array to findRoot, and your function should find and return the root Node object in the array.\n",
    "    The driver code will take the returned Node object and serialize it. If the serialized value and the input data are the same, the test passes.\n",
    "\n",
    " \n",
    "\n",
    "Example 1:\n",
    "\n",
    "Input: tree = [1,null,3,2,4,null,5,6]\n",
    "Output: [1,null,3,2,4,null,5,6]\n",
    "Explanation: The tree from the input data is shown above.\n",
    "The driver code creates the tree and gives findRoot the Node objects in an arbitrary order.\n",
    "For example, the passed array could be [Node(5),Node(4),Node(3),Node(6),Node(2),Node(1)] or [Node(2),Node(6),Node(1),Node(3),Node(5),Node(4)].\n",
    "The findRoot function should return the root Node(1), and the driver code will serialize it and compare with the input data.\n",
    "The input data and serialized Node(1) are the same, so the test passes.\n",
    "\n",
    "Example 2:\n",
    "\n",
    "Input: tree = [1,null,2,3,4,5,null,null,6,7,null,8,null,9,10,null,null,11,null,12,null,13,null,null,14]\n",
    "Output: [1,null,2,3,4,5,null,null,6,7,null,8,null,9,10,null,null,11,null,12,null,13,null,null,14]\n",
    "\n",
    " \n",
    "\n",
    "Constraints:\n",
    "\n",
    "    The total number of nodes is between [1, 5 * 104].\n",
    "    Each node has a unique value.\n",
    "\n",
    " \n",
    "\n",
    "Follow up:\n",
    "\n",
    "    Could you solve this problem in constant space complexity with a linear time algorithm?"
   ]
  },
  {
   "cell_type": "markdown",
   "metadata": {},
   "source": [
    "# Hash Set - O(N) runtime, O(N) space"
   ]
  },
  {
   "cell_type": "code",
   "execution_count": 2,
   "metadata": {},
   "outputs": [],
   "source": [
    "from typing import List\n",
    "\n",
    "\"\"\"\n",
    "# Definition for a Node.\n",
    "class Node:\n",
    "    def __init__(self, val=None, children=None):\n",
    "        self.val = val\n",
    "        self.children = children if children is not None else []\n",
    "\"\"\"\n",
    "\n",
    "class Solution:\n",
    "    def findRoot(self, tree: List['Node']) -> 'Node':\n",
    "        treeSet = set(tree)\n",
    "        \n",
    "        for node in tree:\n",
    "            for child in node.children:\n",
    "                treeSet.remove(child)\n",
    "                    \n",
    "        return list(treeSet)[0]"
   ]
  },
  {
   "cell_type": "markdown",
   "metadata": {},
   "source": [
    "# Using Sum - O(N) runtime, O(1) space"
   ]
  },
  {
   "cell_type": "code",
   "execution_count": 3,
   "metadata": {},
   "outputs": [],
   "source": [
    "from typing import List\n",
    "\n",
    "\"\"\"\"\n",
    "# Definition for a Node.\n",
    "class Node:\n",
    "    def __init__(self, val=None, children=None):\n",
    "        self.val = val\n",
    "        self.children = children if children is not None else []\n",
    "\"\"\"\n",
    "\n",
    "class Solution:\n",
    "    def findRoot(self, tree: List['Node']) -> 'Node':\n",
    "        value_sum = 0\n",
    "\n",
    "        for node in tree:\n",
    "            # the value is added as a parent node\n",
    "            value_sum += node.val\n",
    "            for child in node.children:\n",
    "                # the value is deducted as a child node.\n",
    "                value_sum -= child.val\n",
    "\n",
    "        # the value of the root node is `value_sum`\n",
    "        for node in tree:\n",
    "            if node.val == value_sum:\n",
    "                return node"
   ]
  }
 ],
 "metadata": {
  "kernelspec": {
   "display_name": "Python 3",
   "language": "python",
   "name": "python3"
  },
  "language_info": {
   "codemirror_mode": {
    "name": "ipython",
    "version": 3
   },
   "file_extension": ".py",
   "mimetype": "text/x-python",
   "name": "python",
   "nbconvert_exporter": "python",
   "pygments_lexer": "ipython3",
   "version": "3.7.3"
  }
 },
 "nbformat": 4,
 "nbformat_minor": 2
}
