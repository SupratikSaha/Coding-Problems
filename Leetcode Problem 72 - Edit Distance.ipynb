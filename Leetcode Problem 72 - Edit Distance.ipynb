{
 "cells": [
  {
   "cell_type": "markdown",
   "metadata": {},
   "source": [
    "Problem Statement.\n",
    "\n",
    "Given two strings word1 and word2, return the minimum number of operations required to convert word1 to word2.\n",
    "\n",
    "You have the following three operations permitted on a word:\n",
    "\n",
    "    Insert a character\n",
    "    Delete a character\n",
    "    Replace a character\n",
    "\n",
    " \n",
    "\n",
    "Example 1:\n",
    "\n",
    "Input: word1 = \"horse\", word2 = \"ros\"\n",
    "Output: 3\n",
    "Explanation: \n",
    "horse -> rorse (replace 'h' with 'r')\n",
    "rorse -> rose (remove 'r')\n",
    "rose -> ros (remove 'e')\n",
    "\n",
    "Example 2:\n",
    "\n",
    "Input: word1 = \"intention\", word2 = \"execution\"\n",
    "Output: 5\n",
    "Explanation: \n",
    "intention -> inention (remove 't')\n",
    "inention -> enention (replace 'i' with 'e')\n",
    "enention -> exention (replace 'n' with 'x')\n",
    "exention -> exection (replace 'n' with 'c')\n",
    "exection -> execution (insert 'u')\n",
    "\n",
    " \n",
    "\n",
    "Constraints:\n",
    "\n",
    "    0 <= word1.length, word2.length <= 500\n",
    "    word1 and word2 consist of lowercase English letters."
   ]
  },
  {
   "cell_type": "markdown",
   "metadata": {},
   "source": [
    "# Top Down DP - O(M * N) runtime, O(M * N) space"
   ]
  },
  {
   "cell_type": "code",
   "execution_count": 1,
   "metadata": {},
   "outputs": [],
   "source": [
    "from functools import lru_cache\n",
    "\n",
    "class Solution:\n",
    "    def minDistance(self, word1: str, word2: str) -> int:\n",
    "        n1, n2 = len(word1), len(word2)\n",
    "        \n",
    "        @lru_cache(maxsize=None)\n",
    "        def getMinDistance(index1, index2):\n",
    "            if index1 == n1 and index2 == n2: return 0\n",
    "            \n",
    "            if index1 < n1 and index2 < n2 and word1[index1] == word2[index2]:\n",
    "                return getMinDistance(index1+1, index2+1)\n",
    "            \n",
    "            replace, add, delete = float('inf'), float('inf'), float('inf')\n",
    "            if index1 < n1 and index2 < n2:\n",
    "                replace = 1 + getMinDistance(index1+1, index2+1)\n",
    "            if index2 < n2:\n",
    "                add = 1 + getMinDistance(index1, index2+1)\n",
    "            if index1 < n1:\n",
    "                delete = 1 + getMinDistance(index1+1, index2)\n",
    "               \n",
    "            return min(replace, add, delete)\n",
    "\n",
    "        return getMinDistance(0, 0)"
   ]
  },
  {
   "cell_type": "markdown",
   "metadata": {},
   "source": [
    "# Bottom Up DP - O(M * N) runtime, O(M * N) space"
   ]
  },
  {
   "cell_type": "code",
   "execution_count": 3,
   "metadata": {},
   "outputs": [],
   "source": [
    "class Solution:\n",
    "    def minDistance(self, word1: str, word2: str) -> int:\n",
    "        n1, n2 = len(word1), len(word2)\n",
    "        if n1 * n2 == 0: return n1 + n2\n",
    "        dp = [[0] * (n2+1) for _ in range(n1+1)]\n",
    "        \n",
    "        for c in range(n2+1): dp[0][c] = c\n",
    "        for r in range(n1+1): dp[r][0] = r\n",
    "            \n",
    "        for r in range(1, n1+1):\n",
    "            for c in range(1, n2+1):\n",
    "                if word1[r-1] == word2[c-1]:\n",
    "                    dp[r][c] = dp[r-1][c-1]\n",
    "                else:\n",
    "                    dp[r][c] = 1 + min(dp[r-1][c-1], dp[r][c-1], dp[r-1][c])\n",
    "                    \n",
    "        return dp[n1][n2]"
   ]
  },
  {
   "cell_type": "code",
   "execution_count": 4,
   "metadata": {},
   "outputs": [
    {
     "data": {
      "text/plain": [
       "3"
      ]
     },
     "execution_count": 4,
     "metadata": {},
     "output_type": "execute_result"
    }
   ],
   "source": [
    "instance = Solution()\n",
    "instance.minDistance(\"horse\", \"ros\")"
   ]
  }
 ],
 "metadata": {
  "kernelspec": {
   "display_name": "Python 3",
   "language": "python",
   "name": "python3"
  },
  "language_info": {
   "codemirror_mode": {
    "name": "ipython",
    "version": 3
   },
   "file_extension": ".py",
   "mimetype": "text/x-python",
   "name": "python",
   "nbconvert_exporter": "python",
   "pygments_lexer": "ipython3",
   "version": "3.7.3"
  }
 },
 "nbformat": 4,
 "nbformat_minor": 2
}
