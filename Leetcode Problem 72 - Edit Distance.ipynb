{
 "cells": [
  {
   "cell_type": "markdown",
   "metadata": {},
   "source": [
    "Problem Statement.\n",
    "\n",
    "Given two strings word1 and word2, return the minimum number of operations required to convert word1 to word2.\n",
    "\n",
    "You have the following three operations permitted on a word:\n",
    "\n",
    "    Insert a character\n",
    "    Delete a character\n",
    "    Replace a character\n",
    "\n",
    " \n",
    "\n",
    "Example 1:\n",
    "\n",
    "Input: word1 = \"horse\", word2 = \"ros\"\n",
    "Output: 3\n",
    "Explanation: \n",
    "horse -> rorse (replace 'h' with 'r')\n",
    "rorse -> rose (remove 'r')\n",
    "rose -> ros (remove 'e')\n",
    "\n",
    "Example 2:\n",
    "\n",
    "Input: word1 = \"intention\", word2 = \"execution\"\n",
    "Output: 5\n",
    "Explanation: \n",
    "intention -> inention (remove 't')\n",
    "inention -> enention (replace 'i' with 'e')\n",
    "enention -> exention (replace 'n' with 'x')\n",
    "exention -> exection (replace 'n' with 'c')\n",
    "exection -> execution (insert 'u')\n",
    "\n",
    " \n",
    "\n",
    "Constraints:\n",
    "\n",
    "    0 <= word1.length, word2.length <= 500\n",
    "    word1 and word2 consist of lowercase English letters."
   ]
  },
  {
   "cell_type": "markdown",
   "metadata": {},
   "source": [
    "# Bottom Up DP - O(M * N) runtime, O(M * N) space"
   ]
  },
  {
   "cell_type": "code",
   "execution_count": 1,
   "metadata": {},
   "outputs": [],
   "source": [
    "class Solution:\n",
    "    def minDistance(self, word1: str, word2: str) -> int:\n",
    "        n = len(word1)\n",
    "        m = len(word2)\n",
    "        \n",
    "        # if one of the strings is empty\n",
    "        if n * m == 0:\n",
    "            return n + m\n",
    "        \n",
    "        # array to store the convertion history\n",
    "        d = [ [0] * (m + 1) for _ in range(n + 1)]\n",
    "        \n",
    "        # init boundaries\n",
    "        for i in range(n + 1):\n",
    "            d[i][0] = i\n",
    "        for j in range(m + 1):\n",
    "            d[0][j] = j\n",
    "        \n",
    "        # DP compute \n",
    "        for i in range(1, n + 1):\n",
    "            for j in range(1, m + 1):\n",
    "                left = d[i - 1][j] + 1\n",
    "                down = d[i][j - 1] + 1\n",
    "                left_down = d[i - 1][j - 1] \n",
    "                if word1[i - 1] != word2[j - 1]:\n",
    "                    left_down += 1\n",
    "                d[i][j] = min(left, down, left_down)\n",
    "        \n",
    "        return d[n][m]"
   ]
  },
  {
   "cell_type": "code",
   "execution_count": 2,
   "metadata": {},
   "outputs": [
    {
     "data": {
      "text/plain": [
       "3"
      ]
     },
     "execution_count": 2,
     "metadata": {},
     "output_type": "execute_result"
    }
   ],
   "source": [
    "instance = Solution()\n",
    "instance.minDistance(\"horse\", \"ros\")"
   ]
  }
 ],
 "metadata": {
  "kernelspec": {
   "display_name": "Python 3",
   "language": "python",
   "name": "python3"
  },
  "language_info": {
   "codemirror_mode": {
    "name": "ipython",
    "version": 3
   },
   "file_extension": ".py",
   "mimetype": "text/x-python",
   "name": "python",
   "nbconvert_exporter": "python",
   "pygments_lexer": "ipython3",
   "version": "3.7.3"
  }
 },
 "nbformat": 4,
 "nbformat_minor": 2
}
