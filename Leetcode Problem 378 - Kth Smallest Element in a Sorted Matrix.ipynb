{
 "cells": [
  {
   "cell_type": "markdown",
   "metadata": {},
   "source": [
    "Problem Statement. <br/>\n",
    "Given a n x n matrix where each of the rows and columns are sorted in ascending order, find the kth smallest element in the matrix. <br/>\n",
    "Note that it is the kth smallest element in the sorted order, not the kth distinct element. <br/>\n",
    "\n",
    "Example: <br/>\n",
    "matrix = [ <br/>\n",
    "   [ 1,  5,  9], <br/>\n",
    "   [10, 11, 13], <br/>\n",
    "   [12, 13, 15] <br/>\n",
    "], <br/>\n",
    "k = 8, <br/>\n",
    "\n",
    "return 13."
   ]
  },
  {
   "cell_type": "markdown",
   "metadata": {},
   "source": [
    "# Minheap - O((N + K) *log N) runtime, O(N) space"
   ]
  },
  {
   "cell_type": "code",
   "execution_count": 3,
   "metadata": {},
   "outputs": [],
   "source": [
    "from typing import List\n",
    "from heapq import heappush, heappop\n",
    "\n",
    "class Solution:\n",
    "    def kthSmallest(self, matrix: List[List[int]], k: int) -> int:\n",
    "        \n",
    "        n = len(matrix)\n",
    "        \n",
    "        minheap = []\n",
    "        \n",
    "        for i in range(min(n, k)):\n",
    "            heappush(minheap, (matrix[i][0], i, 0))\n",
    "            \n",
    "        for i in range(1, k):\n",
    "            _, r, c = heappop(minheap)\n",
    "            if c < n - 1:\n",
    "                heappush(minheap, (matrix[r][c + 1], r, c + 1))\n",
    "            \n",
    "        return minheap[0][0]"
   ]
  },
  {
   "cell_type": "markdown",
   "metadata": {},
   "source": [
    "# Binary Search - O(N * log(Max−Min)) runtime, O(1) space, where Max and Min are the maximum and minimum numbers in the matrix"
   ]
  },
  {
   "cell_type": "code",
   "execution_count": 7,
   "metadata": {},
   "outputs": [],
   "source": [
    "from typing import List, Tuple\n",
    "\n",
    "class Solution:\n",
    "    def kthSmallest(self, matrix: List[List[int]], k: int) -> int:\n",
    "        \n",
    "        n = len(matrix)\n",
    "        start, end = matrix[0][0], matrix[n - 1][n - 1]\n",
    "        \n",
    "        def countLessEqual(mid: int) -> Tuple[int, int, int]:\n",
    "            count, n = 0, len(matrix)\n",
    "            smaller, larger = matrix[0][0], matrix[n - 1][n - 1]\n",
    "            row, col = n - 1, 0\n",
    "\n",
    "            while row >= 0 and col < n:\n",
    "                if matrix[row][col] > mid:\n",
    "                    # As matrix[row][col] is bigger than the mid, let's keep track of the\n",
    "                    # smallest number greater than the mid\n",
    "                    larger = min(larger, matrix[row][col])\n",
    "                    row -= 1\n",
    "                else:\n",
    "                    # As matrix[row][col] is less than or equal to the mid, let's keep track of \n",
    "                    # the biggest number less than or equal to the mid\n",
    "                    smaller = max(smaller, matrix[row][col])\n",
    "                    count += row + 1\n",
    "                    col += 1\n",
    "\n",
    "            return count, smaller, larger\n",
    "        \n",
    "        while start < end:\n",
    "            mid = start + (end - start) / 2\n",
    "            count, smaller, larger = countLessEqual(mid)\n",
    "\n",
    "            if count == k:\n",
    "                return smaller\n",
    "            if count < k:\n",
    "                start = larger  # search higher\n",
    "            else:\n",
    "                end = smaller  # search lower\n",
    "\n",
    "        return start"
   ]
  },
  {
   "cell_type": "code",
   "execution_count": 8,
   "metadata": {},
   "outputs": [
    {
     "data": {
      "text/plain": [
       "5"
      ]
     },
     "execution_count": 8,
     "metadata": {},
     "output_type": "execute_result"
    }
   ],
   "source": [
    "instance = Solution()\n",
    "instance.kthSmallest([[1,3,5],[6,7,12],[11,14,14]], 3)"
   ]
  }
 ],
 "metadata": {
  "kernelspec": {
   "display_name": "Python 3",
   "language": "python",
   "name": "python3"
  },
  "language_info": {
   "codemirror_mode": {
    "name": "ipython",
    "version": 3
   },
   "file_extension": ".py",
   "mimetype": "text/x-python",
   "name": "python",
   "nbconvert_exporter": "python",
   "pygments_lexer": "ipython3",
   "version": "3.7.3"
  }
 },
 "nbformat": 4,
 "nbformat_minor": 2
}
