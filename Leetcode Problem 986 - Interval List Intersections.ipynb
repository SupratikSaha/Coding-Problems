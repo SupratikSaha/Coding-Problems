{
 "cells": [
  {
   "cell_type": "markdown",
   "metadata": {},
   "source": [
    "    Problem Statement.\n",
    "\n",
    "    You are given two lists of closed intervals, firstList and secondList, where firstList[i] = [starti, endi] and secondList[j] = [startj, endj]. Each list of intervals is pairwise disjoint and in sorted order.\n",
    "\n",
    "    Return the intersection of these two interval lists.\n",
    "\n",
    "    A closed interval [a, b] (with a < b) denotes the set of real numbers x with a <= x <= b.\n",
    "\n",
    "    The intersection of two closed intervals is a set of real numbers that are either empty or represented as a closed interval. For example, the intersection of [1, 3] and [2, 4] is [2, 3].\n",
    "\n",
    "\n",
    "\n",
    "    Example 1:\n",
    "\n",
    "    Input: firstList = [[0,2],[5,10],[13,23],[24,25]], secondList = [[1,5],[8,12],[15,24],[25,26]]\n",
    "    Output: [[1,2],[5,5],[8,10],[15,23],[24,24],[25,25]]\n",
    "\n",
    "    Example 2:\n",
    "\n",
    "    Input: firstList = [[1,3],[5,9]], secondList = []\n",
    "    Output: []\n",
    "\n",
    "    Example 3:\n",
    "\n",
    "    Input: firstList = [], secondList = [[4,8],[10,12]]\n",
    "    Output: []\n",
    "\n",
    "    Example 4:\n",
    "\n",
    "    Input: firstList = [[1,7]], secondList = [[3,10]]\n",
    "    Output: [[3,7]]\n",
    "\n",
    "\n",
    "\n",
    "    Constraints:\n",
    "\n",
    "        0 <= firstList.length, secondList.length <= 1000\n",
    "        firstList.length + secondList.length >= 1\n",
    "        0 <= starti < endi <= 109\n",
    "        endi < starti+1\n",
    "        0 <= startj < endj <= 109\n",
    "        endj < startj+1"
   ]
  },
  {
   "cell_type": "markdown",
   "metadata": {},
   "source": [
    "# Two Pointers - O(min(M, N)) runtime, O(M + N) space, where M and N are the lengths of firstList and secondList respectively"
   ]
  },
  {
   "cell_type": "code",
   "execution_count": 1,
   "metadata": {},
   "outputs": [],
   "source": [
    "from typing import List\n",
    "\n",
    "class Solution:\n",
    "    def intervalIntersection(self, firstList: List[List[int]], secondList: List[List[int]]) -> List[List[int]]:\n",
    "        \n",
    "        if not firstList or not secondList:\n",
    "            return []\n",
    "        \n",
    "        i, j = 0, 0\n",
    "        res = []\n",
    "        \n",
    "        while i < len(firstList) and j < len(secondList):\n",
    "            if not (secondList[j][0] > firstList[i][1] or firstList[i][0] > secondList[j][1]):\n",
    "                res.append([max(firstList[i][0], secondList[j][0]), min(firstList[i][1], secondList[j][1])])\n",
    "             \n",
    "            if firstList[i][1] == secondList[j][1]:\n",
    "                i += 1\n",
    "                j += 1\n",
    "            elif firstList[i][1] < secondList[j][1]:\n",
    "                i += 1\n",
    "            elif secondList[j][1] < firstList[i][1]:\n",
    "                j += 1    \n",
    "             \n",
    "        return res"
   ]
  },
  {
   "cell_type": "markdown",
   "metadata": {},
   "source": [
    "# Simpler Solution - O(min(M, N)) runtime, O(M + N) space, where M and N are the lengths of firstList and secondList respectively"
   ]
  },
  {
   "cell_type": "code",
   "execution_count": 2,
   "metadata": {},
   "outputs": [],
   "source": [
    "from typing import List\n",
    "\n",
    "class Solution:\n",
    "    def intervalIntersection(self, firstList: List[List[int]], secondList: List[List[int]]) -> List[List[int]]:\n",
    "        \n",
    "        ans = []\n",
    "        i = j = 0\n",
    "\n",
    "        while i < len(firstList) and j < len(secondList):\n",
    "            # Let's check if A[i] intersects B[j].\n",
    "            # lo - the startpoint of the intersection\n",
    "            # hi - the endpoint of the intersection\n",
    "            lo = max(firstList[i][0], secondList[j][0])\n",
    "            hi = min(firstList[i][1], secondList[j][1])\n",
    "            if lo <= hi:\n",
    "                ans.append([lo, hi])\n",
    "\n",
    "            # Remove the interval with the smallest endpoint\n",
    "            if firstList[i][1] < secondList[j][1]:\n",
    "                i += 1\n",
    "            else:\n",
    "                j += 1\n",
    "\n",
    "        return ans"
   ]
  },
  {
   "cell_type": "code",
   "execution_count": 5,
   "metadata": {},
   "outputs": [
    {
     "data": {
      "text/plain": [
       "[[1, 2], [5, 5], [8, 10], [15, 23], [24, 24], [25, 25]]"
      ]
     },
     "execution_count": 5,
     "metadata": {},
     "output_type": "execute_result"
    }
   ],
   "source": [
    "instance = Solution()\n",
    "instance.intervalIntersection([[0,2],[5,10],[13,23],[24,25]], [[1,5],[8,12],[15,24],[25,26]])"
   ]
  }
 ],
 "metadata": {
  "kernelspec": {
   "display_name": "Python 3",
   "language": "python",
   "name": "python3"
  },
  "language_info": {
   "codemirror_mode": {
    "name": "ipython",
    "version": 3
   },
   "file_extension": ".py",
   "mimetype": "text/x-python",
   "name": "python",
   "nbconvert_exporter": "python",
   "pygments_lexer": "ipython3",
   "version": "3.7.3"
  }
 },
 "nbformat": 4,
 "nbformat_minor": 2
}
