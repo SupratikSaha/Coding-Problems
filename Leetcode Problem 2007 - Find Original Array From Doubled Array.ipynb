{
 "cells": [
  {
   "cell_type": "markdown",
   "metadata": {},
   "source": [
    "Problem Statement.\n",
    "\n",
    "An integer array original is transformed into a doubled array changed by appending twice the value of every element in original, and then randomly shuffling the resulting array.\n",
    "\n",
    "Given an array changed, return original if changed is a doubled array. If changed is not a doubled array, return an empty array. The elements in original may be returned in any order.\n",
    "\n",
    " \n",
    "\n",
    "Example 1:\n",
    "\n",
    "Input: changed = [1,3,4,2,6,8]\n",
    "Output: [1,3,4]\n",
    "Explanation: One possible original array could be [1,3,4]:\n",
    "- Twice the value of 1 is 1 * 2 = 2.\n",
    "- Twice the value of 3 is 3 * 2 = 6.\n",
    "- Twice the value of 4 is 4 * 2 = 8.\n",
    "Other original arrays could be [4,3,1] or [3,1,4].\n",
    "\n",
    "Example 2:\n",
    "\n",
    "Input: changed = [6,3,0,1]\n",
    "Output: []\n",
    "Explanation: changed is not a doubled array.\n",
    "\n",
    "Example 3:\n",
    "\n",
    "Input: changed = [1]\n",
    "Output: []\n",
    "Explanation: changed is not a doubled array.\n",
    "\n",
    " \n",
    "\n",
    "Constraints:\n",
    "\n",
    "    1 <= changed.length <= 10^5\n",
    "    0 <= changed[i] <= 10^5"
   ]
  },
  {
   "cell_type": "markdown",
   "metadata": {},
   "source": [
    "# Sort and Hash Table - O(N * Log N) runtime, O(N) space"
   ]
  },
  {
   "cell_type": "code",
   "execution_count": 1,
   "metadata": {},
   "outputs": [],
   "source": [
    "from typing import List\n",
    "from collections import Counter\n",
    "\n",
    "class Solution:\n",
    "    def findOriginalArray(self, changed: List[int]) -> List[int]:\n",
    "        n = len(changed)\n",
    "        if n % 2: return []\n",
    "        \n",
    "        changed.sort()\n",
    "        changedDict = Counter(changed)\n",
    "        res = []\n",
    "        \n",
    "        for num in changed:\n",
    "            double = 2 * num\n",
    "            if (num == 0 and changedDict[num] >= 2) or (num > 0 and changedDict[num] and changedDict[double]):\n",
    "                res.append(num)\n",
    "                changedDict[num] -= 1\n",
    "                changedDict[double] -= 1\n",
    "                \n",
    "        return res if len(res) == len(changed) / 2 else []"
   ]
  },
  {
   "cell_type": "markdown",
   "metadata": {},
   "source": [
    "# Optimized Sort and Hash Table - O(N + K * Log K) runtime, O(K) space where K is the number of unique integers in the array"
   ]
  },
  {
   "cell_type": "code",
   "execution_count": 2,
   "metadata": {},
   "outputs": [],
   "source": [
    "from typing import List\n",
    "from collections import Counter\n",
    "\n",
    "class Solution:\n",
    "    def findOriginalArray(self, changed: List[int]) -> List[int]:\n",
    "        n = len(changed)\n",
    "        if n % 2: return []\n",
    "            \n",
    "        c = Counter(changed)\n",
    "        \n",
    "        if c[0] % 2: return []\n",
    "        \n",
    "        for x in sorted(c):\n",
    "            double = 2 * x\n",
    "            if c[x] > c[double]:\n",
    "                return []\n",
    "            \n",
    "            c[double] -= c[x] if x else c[x] // 2\n",
    "            \n",
    "        return list(c.elements())"
   ]
  },
  {
   "cell_type": "code",
   "execution_count": 3,
   "metadata": {},
   "outputs": [
    {
     "data": {
      "text/plain": [
       "[1, 3, 4]"
      ]
     },
     "execution_count": 3,
     "metadata": {},
     "output_type": "execute_result"
    }
   ],
   "source": [
    "instance = Solution()\n",
    "instance.findOriginalArray([1,3,4,2,6,8])"
   ]
  }
 ],
 "metadata": {
  "kernelspec": {
   "display_name": "Python 3",
   "language": "python",
   "name": "python3"
  },
  "language_info": {
   "codemirror_mode": {
    "name": "ipython",
    "version": 3
   },
   "file_extension": ".py",
   "mimetype": "text/x-python",
   "name": "python",
   "nbconvert_exporter": "python",
   "pygments_lexer": "ipython3",
   "version": "3.7.3"
  }
 },
 "nbformat": 4,
 "nbformat_minor": 2
}
