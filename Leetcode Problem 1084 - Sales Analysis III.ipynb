{
 "cells": [
  {
   "cell_type": "markdown",
   "metadata": {},
   "source": [
    "    Problem Statement.\n",
    "\n",
    "    Table: Product\n",
    "\n",
    "    +--------------+---------+\n",
    "    | Column Name  | Type    |\n",
    "    +--------------+---------+\n",
    "    | product_id   | int     |\n",
    "    | product_name | varchar |\n",
    "    | unit_price   | int     |\n",
    "    +--------------+---------+\n",
    "    product_id is the primary key of this table.\n",
    "    Each row of this table indicates the name and the price of each product.\n",
    "\n",
    "    Table: Sales\n",
    "\n",
    "    +-------------+---------+\n",
    "    | Column Name | Type    |\n",
    "    +-------------+---------+\n",
    "    | seller_id   | int     |\n",
    "    | product_id  | int     |\n",
    "    | buyer_id    | int     |\n",
    "    | sale_date   | date    |\n",
    "    | quantity    | int     |\n",
    "    | price       | int     |\n",
    "    +-------------+---------+\n",
    "    This table has no primary key, it can have repeated rows.\n",
    "    product_id is a foreign key to the Product table.\n",
    "    Each row of this table contains some information about one sale.\n",
    "\n",
    "\n",
    "\n",
    "    Write an SQL query that reports the products that were only sold in the spring of 2019. That is, between 2019-01-01 and 2019-03-31 inclusive.\n",
    "\n",
    "    Return the result table in any order.\n",
    "\n",
    "    The query result format is in the following example.\n",
    "\n",
    "\n",
    "\n",
    "    Example 1:\n",
    "\n",
    "    Input: \n",
    "    Product table:\n",
    "    +------------+--------------+------------+\n",
    "    | product_id | product_name | unit_price |\n",
    "    +------------+--------------+------------+\n",
    "    | 1          | S8           | 1000       |\n",
    "    | 2          | G4           | 800        |\n",
    "    | 3          | iPhone       | 1400       |\n",
    "    +------------+--------------+------------+\n",
    "    Sales table:\n",
    "    +-----------+------------+----------+------------+----------+-------+\n",
    "    | seller_id | product_id | buyer_id | sale_date  | quantity | price |\n",
    "    +-----------+------------+----------+------------+----------+-------+\n",
    "    | 1         | 1          | 1        | 2019-01-21 | 2        | 2000  |\n",
    "    | 1         | 2          | 2        | 2019-02-17 | 1        | 800   |\n",
    "    | 2         | 2          | 3        | 2019-06-02 | 1        | 800   |\n",
    "    | 3         | 3          | 4        | 2019-05-13 | 2        | 2800  |\n",
    "    +-----------+------------+----------+------------+----------+-------+\n",
    "    Output: \n",
    "    +-------------+--------------+\n",
    "    | product_id  | product_name |\n",
    "    +-------------+--------------+\n",
    "    | 1           | S8           |\n",
    "    +-------------+--------------+\n",
    "    Explanation: \n",
    "    The product with id 1 was only sold in the spring of 2019.\n",
    "    The product with id 2 was sold in the spring of 2019 but was also sold after the spring of 2019.\n",
    "    The product with id 3 was sold after spring 2019.\n",
    "    We return only product 1 as it is the product that was only sold in the spring of 2019."
   ]
  },
  {
   "cell_type": "markdown",
   "metadata": {},
   "source": [
    "# Not In"
   ]
  },
  {
   "cell_type": "code",
   "execution_count": null,
   "metadata": {},
   "outputs": [],
   "source": [
    "select distinct s.product_id, p.product_name\n",
    "from Sales s join Product p on s.product_id = p.product_id\n",
    "where s.sale_date between '2019-01-01' and '2019-03-31'\n",
    "and s.product_id not in\n",
    "(select distinct product_id from Sales\n",
    " where sale_date < '2019-01-01' or sale_date > '2019-03-31')"
   ]
  },
  {
   "cell_type": "markdown",
   "metadata": {},
   "source": [
    "# Group By"
   ]
  },
  {
   "cell_type": "code",
   "execution_count": null,
   "metadata": {},
   "outputs": [],
   "source": [
    "select s.product_id, p.product_name\n",
    "from sales s, product p\n",
    "where s.product_id = p.product_id\n",
    "group by s.product_id, p.product_name\n",
    "having min(s.sale_date) >= '2019-01-01' and max(s.sale_date) <= '2019-03-31'"
   ]
  }
 ],
 "metadata": {
  "kernelspec": {
   "display_name": "Python 3",
   "language": "python",
   "name": "python3"
  },
  "language_info": {
   "codemirror_mode": {
    "name": "ipython",
    "version": 3
   },
   "file_extension": ".py",
   "mimetype": "text/x-python",
   "name": "python",
   "nbconvert_exporter": "python",
   "pygments_lexer": "ipython3",
   "version": "3.7.3"
  }
 },
 "nbformat": 4,
 "nbformat_minor": 2
}
