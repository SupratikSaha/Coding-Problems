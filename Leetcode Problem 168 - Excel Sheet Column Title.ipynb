{
 "cells": [
  {
   "cell_type": "markdown",
   "metadata": {},
   "source": [
    "Problem Statement.\n",
    "\n",
    "Given an integer columnNumber, return its corresponding column title as it appears in an Excel sheet.\n",
    "\n",
    "For example:\n",
    "\n",
    "A -> 1\n",
    "B -> 2\n",
    "C -> 3\n",
    "...\n",
    "Z -> 26\n",
    "AA -> 27\n",
    "AB -> 28 \n",
    "...\n",
    "\n",
    " \n",
    "\n",
    "Example 1:\n",
    "\n",
    "Input: columnNumber = 1\n",
    "Output: \"A\"\n",
    "\n",
    "Example 2:\n",
    "\n",
    "Input: columnNumber = 28\n",
    "Output: \"AB\"\n",
    "\n",
    "Example 3:\n",
    "\n",
    "Input: columnNumber = 701\n",
    "Output: \"ZY\"\n",
    "\n",
    "Example 4:\n",
    "\n",
    "Input: columnNumber = 2147483647\n",
    "Output: \"FXSHRXW\"\n",
    "\n",
    " \n",
    "\n",
    "Constraints:\n",
    "\n",
    "    1 <= columnNumber <= 2^31 - 1"
   ]
  },
  {
   "cell_type": "markdown",
   "metadata": {},
   "source": [
    "# Div Mod - O(Log N) runtime, O(1) space"
   ]
  },
  {
   "cell_type": "code",
   "execution_count": 3,
   "metadata": {},
   "outputs": [],
   "source": [
    "from collections import deque\n",
    "\n",
    "class Solution:\n",
    "    def convertToTitle(self, columnNumber: int) -> str:\n",
    "        result = deque()\n",
    "        \n",
    "        while columnNumber:\n",
    "            columnNumber, char = divmod(columnNumber, 26)\n",
    "            columnNumber = columnNumber - 1 if char == 0 else columnNumber\n",
    "            char = 25 if char == 0 else char - 1\n",
    "            char = chr(char + ord('A'))\n",
    "            result.appendleft(char)\n",
    "            \n",
    "        return ''.join(result)"
   ]
  },
  {
   "cell_type": "markdown",
   "metadata": {},
   "source": [
    "# Better Div Mod - O(Log N) runtime, O(1) space"
   ]
  },
  {
   "cell_type": "code",
   "execution_count": 5,
   "metadata": {},
   "outputs": [],
   "source": [
    "from collections import deque\n",
    "\n",
    "class Solution:\n",
    "    def convertToTitle(self, columnNumber: int) -> str:\n",
    "        result = deque()\n",
    "        capitals = [chr(x) for x in range(ord('A'), ord('Z')+1)]\n",
    "        \n",
    "        while columnNumber:\n",
    "            columnNumber, char = divmod(columnNumber-1, 26)\n",
    "            result.appendleft(capitals[char])\n",
    "            \n",
    "        return ''.join(result)"
   ]
  },
  {
   "cell_type": "code",
   "execution_count": 6,
   "metadata": {},
   "outputs": [
    {
     "data": {
      "text/plain": [
       "'ZY'"
      ]
     },
     "execution_count": 6,
     "metadata": {},
     "output_type": "execute_result"
    }
   ],
   "source": [
    "instance = Solution()\n",
    "instance.convertToTitle(701)"
   ]
  }
 ],
 "metadata": {
  "kernelspec": {
   "display_name": "Python 3",
   "language": "python",
   "name": "python3"
  },
  "language_info": {
   "codemirror_mode": {
    "name": "ipython",
    "version": 3
   },
   "file_extension": ".py",
   "mimetype": "text/x-python",
   "name": "python",
   "nbconvert_exporter": "python",
   "pygments_lexer": "ipython3",
   "version": "3.7.3"
  }
 },
 "nbformat": 4,
 "nbformat_minor": 2
}
