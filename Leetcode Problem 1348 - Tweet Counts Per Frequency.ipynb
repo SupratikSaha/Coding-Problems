{
 "cells": [
  {
   "cell_type": "markdown",
   "metadata": {},
   "source": [
    "Problem Statement.\n",
    "\n",
    "A social media company is trying to monitor activity on their site by analyzing the number of tweets that occur in select periods of time. These periods can be partitioned into smaller time chunks based on a certain frequency (every minute, hour, or day).\n",
    "\n",
    "For example, the period [10, 10000] (in seconds) would be partitioned into the following time chunks with these frequencies:\n",
    "\n",
    "    Every minute (60-second chunks): [10,69], [70,129], [130,189], ..., [9970,10000]\n",
    "    Every hour (3600-second chunks): [10,3609], [3610,7209], [7210,10000]\n",
    "    Every day (86400-second chunks): [10,10000]\n",
    "\n",
    "Notice that the last chunk may be shorter than the specified frequency's chunk size and will always end with the end time of the period (10000 in the above example).\n",
    "\n",
    "Design and implement an API to help the company with their analysis.\n",
    "\n",
    "Implement the TweetCounts class:\n",
    "\n",
    "    TweetCounts() Initializes the TweetCounts object.\n",
    "    void recordTweet(String tweetName, int time) Stores the tweetName at the recorded time (in seconds).\n",
    "    List<Integer> getTweetCountsPerFrequency(String freq, String tweetName, int startTime, int endTime) Returns a list of integers representing the number of tweets with tweetName in each time chunk for the given period of time [startTime, endTime] (in seconds) and frequency freq.\n",
    "        freq is one of \"minute\", \"hour\", or \"day\" representing a frequency of every minute, hour, or day respectively.\n",
    "\n",
    " \n",
    "\n",
    "Example:\n",
    "\n",
    "Input\n",
    "[\"TweetCounts\",\"recordTweet\",\"recordTweet\",\"recordTweet\",\"getTweetCountsPerFrequency\",\"getTweetCountsPerFrequency\",\"recordTweet\",\"getTweetCountsPerFrequency\"]\n",
    "[[],[\"tweet3\",0],[\"tweet3\",60],[\"tweet3\",10],[\"minute\",\"tweet3\",0,59],[\"minute\",\"tweet3\",0,60],[\"tweet3\",120],[\"hour\",\"tweet3\",0,210]]\n",
    "\n",
    "Output\n",
    "[null,null,null,null,[2],[2,1],null,[4]]\n",
    "\n",
    "Explanation\n",
    "TweetCounts tweetCounts = new TweetCounts();\n",
    "tweetCounts.recordTweet(\"tweet3\", 0);                              // New tweet \"tweet3\" at time 0\n",
    "tweetCounts.recordTweet(\"tweet3\", 60);                             // New tweet \"tweet3\" at time 60\n",
    "tweetCounts.recordTweet(\"tweet3\", 10);                             // New tweet \"tweet3\" at time 10\n",
    "tweetCounts.getTweetCountsPerFrequency(\"minute\", \"tweet3\", 0, 59); // return [2]; chunk [0,59] had 2 tweets\n",
    "tweetCounts.getTweetCountsPerFrequency(\"minute\", \"tweet3\", 0, 60); // return [2,1]; chunk [0,59] had 2 tweets, chunk [60,60] had 1 tweet\n",
    "tweetCounts.recordTweet(\"tweet3\", 120);                            // New tweet \"tweet3\" at time 120\n",
    "tweetCounts.getTweetCountsPerFrequency(\"hour\", \"tweet3\", 0, 210);  // return [4]; chunk [0,210] had 4 tweets\n",
    "\n",
    " \n",
    "\n",
    "Constraints:\n",
    "\n",
    "    0 <= time, startTime, endTime <= 10^9\n",
    "    0 <= endTime - startTime <= 10^4\n",
    "    There will be at most 10^4 calls in total to recordTweet and getTweetCountsPerFrequency."
   ]
  },
  {
   "cell_type": "markdown",
   "metadata": {},
   "source": [
    "# Binary Search - O(N) recordTweet, O(F * Log N) getTweetCountsPerFrequency runtime, O(N*T) space, \n",
    "# where N is the number of tweets for a particular tweetName, F is the number of intervals within start and end times and T is the number of different tweeNames"
   ]
  },
  {
   "cell_type": "code",
   "execution_count": 1,
   "metadata": {},
   "outputs": [],
   "source": [
    "from typing import List\n",
    "from collections import defaultdict\n",
    "from bisect import insort, bisect_left\n",
    "\n",
    "class TweetCounts:\n",
    "\n",
    "    def __init__(self):\n",
    "        self.tweetTimeDict = defaultdict(list)\n",
    "        self.freqIncrements = {\"minute\": 60, \"hour\": 3600, \"day\": 86400}\n",
    "\n",
    "    def recordTweet(self, tweetName: str, time: int) -> None:\n",
    "        insort(self.tweetTimeDict[tweetName], time)\n",
    "\n",
    "    def getTweetCountsPerFrequency(self, freq: str, tweetName: str, startTime: int, endTime: int) -> List[int]:\n",
    "        \n",
    "        result = []\n",
    "        leftTime = startTime\n",
    "        \n",
    "        while leftTime <= endTime:\n",
    "            rightTime = min(leftTime + self.freqIncrements[freq], endTime+1)\n",
    "            leftIndex = bisect_left(self.tweetTimeDict[tweetName], leftTime)\n",
    "            rightIndex = bisect_left(self.tweetTimeDict[tweetName], rightTime)\n",
    "            result.append(rightIndex-leftIndex)\n",
    "            leftTime += self.freqIncrements[freq]\n",
    "            \n",
    "        return result"
   ]
  }
 ],
 "metadata": {
  "kernelspec": {
   "display_name": "Python 3",
   "language": "python",
   "name": "python3"
  },
  "language_info": {
   "codemirror_mode": {
    "name": "ipython",
    "version": 3
   },
   "file_extension": ".py",
   "mimetype": "text/x-python",
   "name": "python",
   "nbconvert_exporter": "python",
   "pygments_lexer": "ipython3",
   "version": "3.7.3"
  }
 },
 "nbformat": 4,
 "nbformat_minor": 2
}
