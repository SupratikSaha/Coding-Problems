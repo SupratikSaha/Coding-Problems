{
 "cells": [
  {
   "cell_type": "markdown",
   "metadata": {},
   "source": [
    "    Problem Statement.\n",
    "\n",
    "    There are 8 prison cells in a row, and each cell is either occupied or vacant.\n",
    "\n",
    "    Each day, whether the cell is occupied or vacant changes according to the following rules:\n",
    "\n",
    "        If a cell has two adjacent neighbors that are both occupied or both vacant, then the cell becomes occupied.\n",
    "        Otherwise, it becomes vacant.\n",
    "\n",
    "    (Note that because the prison is a row, the first and the last cells in the row can't have two adjacent neighbors.)\n",
    "\n",
    "    We describe the current state of the prison in the following way: cells[i] == 1 if the i-th cell is occupied, else cells[i] == 0.\n",
    "\n",
    "    Given the initial state of the prison, return the state of the prison after N days (and N such changes described above.)\n",
    "\n",
    "\n",
    "\n",
    "    Example 1:\n",
    "\n",
    "    Input: cells = [0,1,0,1,1,0,0,1], N = 7\n",
    "    Output: [0,0,1,1,0,0,0,0]\n",
    "    Explanation: \n",
    "    The following table summarizes the state of the prison on each day:\n",
    "    Day 0: [0, 1, 0, 1, 1, 0, 0, 1]\n",
    "    Day 1: [0, 1, 1, 0, 0, 0, 0, 0]\n",
    "    Day 2: [0, 0, 0, 0, 1, 1, 1, 0]\n",
    "    Day 3: [0, 1, 1, 0, 0, 1, 0, 0]\n",
    "    Day 4: [0, 0, 0, 0, 0, 1, 0, 0]\n",
    "    Day 5: [0, 1, 1, 1, 0, 1, 0, 0]\n",
    "    Day 6: [0, 0, 1, 0, 1, 1, 0, 0]\n",
    "    Day 7: [0, 0, 1, 1, 0, 0, 0, 0]\n",
    "\n",
    "    Example 2:\n",
    "\n",
    "    Input: cells = [1,0,0,1,0,0,1,0], N = 1000000000\n",
    "    Output: [0,0,1,1,1,1,1,0]\n",
    "\n",
    "\n",
    "\n",
    "    Note:\n",
    "\n",
    "        cells.length == 8\n",
    "        cells[i] is in {0, 1}\n",
    "        1 <= N <= 10^9"
   ]
  },
  {
   "cell_type": "markdown",
   "metadata": {},
   "source": [
    "# Time Limit Exceeded - Brute Force - O(K * N) runtime, O(K) space, where K is the number of cells and N is the number of runs"
   ]
  },
  {
   "cell_type": "code",
   "execution_count": 1,
   "metadata": {},
   "outputs": [],
   "source": [
    "from typing import List\n",
    "\n",
    "class Solution:\n",
    "    def prisonAfterNDays(self, cells: List[int], N: int) -> List[int]:\n",
    "        \n",
    "        cellCopy = cells.copy()\n",
    "        cells[0], cells[-1] = 0, 0\n",
    "        for i in range(N):\n",
    "            for j in range(1, 7):\n",
    "                if cellCopy[j-1] == cellCopy[j+1]: cells[j] = 1\n",
    "                else: cells[j] = 0\n",
    "            cellCopy = cells.copy()\n",
    "\n",
    "        return cells"
   ]
  },
  {
   "cell_type": "markdown",
   "metadata": {},
   "source": [
    "# Greedy - O(K * min(N, 2 ^ K)) runtime, O(K) space, where K is the number of cells and N is the number of runs"
   ]
  },
  {
   "cell_type": "code",
   "execution_count": 2,
   "metadata": {},
   "outputs": [],
   "source": [
    "from typing import List\n",
    "\n",
    "class Solution:\n",
    "    def prisonAfterNDays(self, cells: List[int], N: int) -> List[int]:\n",
    "        \n",
    "        K = len(cells)\n",
    "        for i in range(N):\n",
    "            cells = self.nextDay(cells)\n",
    "\n",
    "            if i == 0: initState = cells.copy()\n",
    "            elif cells == initState: break\n",
    "        \n",
    "        count = (N - 1) % (i) if i < N - 1 else 0\n",
    "        \n",
    "        for j in range(count):\n",
    "            cells = self.nextDay(cells)\n",
    "            \n",
    "        return cells\n",
    "            \n",
    "    def nextDay(self, cells: List[int]) -> List[int]:\n",
    "        ret = [0]      # head\n",
    "        for i in range(1, len(cells)-1):\n",
    "            ret.append(int(cells[i-1] == cells[i+1]))\n",
    "        ret.append(0)  # tail\n",
    "        return ret"
   ]
  },
  {
   "cell_type": "markdown",
   "metadata": {},
   "source": [
    "# Greedy cleaner code - O(K * min(N, 2 ^ K)) runtime, O(K * 2 ^ K) space, where K is the number of cells and N is the number of runs"
   ]
  },
  {
   "cell_type": "code",
   "execution_count": 3,
   "metadata": {},
   "outputs": [],
   "source": [
    "from typing import List\n",
    "\n",
    "class Solution:\n",
    "    def prisonAfterNDays(self, cells: List[int], N: int) -> List[int]:\n",
    "        \n",
    "        seen = dict()\n",
    "        is_fast_forwarded = False\n",
    "\n",
    "        while N > 0:\n",
    "            # we only need to run the fast-forward once at most\n",
    "            if not is_fast_forwarded:\n",
    "                state_key = tuple(cells)\n",
    "                if state_key in seen:\n",
    "                    # the length of the cycle is seen[state_key] - N \n",
    "                    N %= seen[state_key] - N\n",
    "                    is_fast_forwarded = True\n",
    "                else:\n",
    "                    seen[state_key] = N\n",
    "\n",
    "            # check if there is still some steps remained,\n",
    "            # with or without the fast-forwarding.\n",
    "            if N > 0:\n",
    "                N -= 1\n",
    "                next_day_cells = self.nextDay(cells)\n",
    "                cells = next_day_cells\n",
    "\n",
    "        return cells\n",
    "\n",
    "\n",
    "    def nextDay(self, cells: List[int]):\n",
    "        ret = [0]      # head\n",
    "        for i in range(1, len(cells)-1):\n",
    "            ret.append(int(cells[i-1] == cells[i+1]))\n",
    "        ret.append(0)  # tail\n",
    "        return ret"
   ]
  },
  {
   "cell_type": "markdown",
   "metadata": {},
   "source": [
    "# Simulation with Bitmap - O(min(N, 2 ^ K)) runtime, O(2 ^ K) space, where K is the number of cells and N is the number of runs"
   ]
  },
  {
   "cell_type": "code",
   "execution_count": 4,
   "metadata": {},
   "outputs": [],
   "source": [
    "from typing import List\n",
    "\n",
    "class Solution:\n",
    "    def prisonAfterNDays(self, cells: List[int], N: int) -> List[int]:\n",
    "        \n",
    "        seen = dict()\n",
    "        is_fast_forwarded = False\n",
    "\n",
    "        # step 1). convert the cells to bitmap\n",
    "        state_bitmap = 0x0\n",
    "        for cell in cells:\n",
    "            state_bitmap <<= 1\n",
    "            state_bitmap = (state_bitmap | cell)\n",
    "\n",
    "        # step 2). run the simulation with hashmap\n",
    "        while N > 0:\n",
    "            if not is_fast_forwarded:\n",
    "                if state_bitmap in seen:\n",
    "                    # the length of the cycle is seen[state_key] - N \n",
    "                    N %= seen[state_bitmap] - N\n",
    "                    is_fast_forwarded = True\n",
    "                else:\n",
    "                    seen[state_bitmap] = N\n",
    "            # if there is still some steps remained,\n",
    "            #   with or without the fast-forwarding.\n",
    "            if N > 0:\n",
    "                N -= 1\n",
    "                state_bitmap = self.nextDay(state_bitmap)\n",
    "\n",
    "        # step 3). convert the bitmap back to the state cells\n",
    "        ret = []\n",
    "        for i in range(len(cells)):\n",
    "            ret.append(state_bitmap & 0x1)\n",
    "            state_bitmap = state_bitmap >> 1\n",
    "\n",
    "        return list(reversed(ret))\n",
    "\n",
    "\n",
    "    def nextDay(self, state_bitmap: int):\n",
    "        state_bitmap = ~ (state_bitmap << 1) ^ (state_bitmap >> 1)\n",
    "        state_bitmap = state_bitmap & 0x7e  # set head and tail to zero\n",
    "        return state_bitmap"
   ]
  },
  {
   "cell_type": "code",
   "execution_count": 5,
   "metadata": {},
   "outputs": [
    {
     "data": {
      "text/plain": [
       "[0, 0, 1, 1, 0, 0, 0, 0]"
      ]
     },
     "execution_count": 5,
     "metadata": {},
     "output_type": "execute_result"
    }
   ],
   "source": [
    "instance = Solution()\n",
    "instance.prisonAfterNDays([0,1,0,1,1,0,0,1], 7)"
   ]
  }
 ],
 "metadata": {
  "kernelspec": {
   "display_name": "Python 3",
   "language": "python",
   "name": "python3"
  },
  "language_info": {
   "codemirror_mode": {
    "name": "ipython",
    "version": 3
   },
   "file_extension": ".py",
   "mimetype": "text/x-python",
   "name": "python",
   "nbconvert_exporter": "python",
   "pygments_lexer": "ipython3",
   "version": "3.7.3"
  }
 },
 "nbformat": 4,
 "nbformat_minor": 2
}
