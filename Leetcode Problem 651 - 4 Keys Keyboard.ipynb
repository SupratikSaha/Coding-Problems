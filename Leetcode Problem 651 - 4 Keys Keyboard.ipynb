{
 "cells": [
  {
   "cell_type": "markdown",
   "metadata": {},
   "source": [
    "Problem Statement.\n",
    "\n",
    "Imagine you have a special keyboard with the following keys:\n",
    "\n",
    "Key 1: (A): Print one 'A' on screen.\n",
    "\n",
    "Key 2: (Ctrl-A): Select the whole screen.\n",
    "\n",
    "Key 3: (Ctrl-C): Copy selection to buffer.\n",
    "\n",
    "Key 4: (Ctrl-V): Print buffer on screen appending it after what has already been printed.\n",
    "\n",
    "Now, you can only press the keyboard for N times (with the above four keys), find out the maximum numbers of 'A' you can print on screen.\n",
    "\n",
    "Example 1:\n",
    "\n",
    "Input: N = 3\n",
    "Output: 3\n",
    "Explanation: \n",
    "We can at most get 3 A's on screen by pressing following key sequence:\n",
    "A, A, A\n",
    "\n",
    "Example 2:\n",
    "\n",
    "Input: N = 7\n",
    "Output: 9\n",
    "Explanation: \n",
    "We can at most get 9 A's on screen by pressing following key sequence:\n",
    "A, A, A, Ctrl A, Ctrl C, Ctrl V, Ctrl V\n",
    "\n",
    "Note:\n",
    "\n",
    "    1 <= N <= 50\n",
    "    Answers will be in the range of 32-bit signed integer"
   ]
  },
  {
   "cell_type": "markdown",
   "metadata": {},
   "source": [
    "# Bottom Up DP - O(N ^ 2) runtime, O(N) space"
   ]
  },
  {
   "cell_type": "code",
   "execution_count": 1,
   "metadata": {},
   "outputs": [],
   "source": [
    "class Solution:\n",
    "    def maxA(self, N: int) -> int:\n",
    "        dp = [0] * (N + 1)\n",
    "        p = 0\n",
    "        for p in range(N + 1):\n",
    "            dp[p] = p # Prints A all the time \n",
    "            for q in range(p-2):\n",
    "                dp[p] = max(dp[p], dp[q] * (p-q-1)) # Ends up with Ctrl+A, Ctrl+C, (Ctrl+V) * (p-q-2)\n",
    "         \n",
    "        return dp[N]"
   ]
  },
  {
   "cell_type": "code",
   "execution_count": 2,
   "metadata": {},
   "outputs": [
    {
     "data": {
      "text/plain": [
       "16"
      ]
     },
     "execution_count": 2,
     "metadata": {},
     "output_type": "execute_result"
    }
   ],
   "source": [
    "instance = Solution()\n",
    "instance.maxA(9)"
   ]
  }
 ],
 "metadata": {
  "kernelspec": {
   "display_name": "Python 3",
   "language": "python",
   "name": "python3"
  },
  "language_info": {
   "codemirror_mode": {
    "name": "ipython",
    "version": 3
   },
   "file_extension": ".py",
   "mimetype": "text/x-python",
   "name": "python",
   "nbconvert_exporter": "python",
   "pygments_lexer": "ipython3",
   "version": "3.7.3"
  }
 },
 "nbformat": 4,
 "nbformat_minor": 2
}
