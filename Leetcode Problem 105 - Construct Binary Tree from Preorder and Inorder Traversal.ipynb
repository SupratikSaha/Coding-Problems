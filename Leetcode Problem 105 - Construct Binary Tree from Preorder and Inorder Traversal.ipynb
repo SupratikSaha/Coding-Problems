{
 "cells": [
  {
   "cell_type": "markdown",
   "metadata": {},
   "source": [
    "Problem Statement. <br/>\n",
    "Given preorder and inorder traversal of a tree, construct the binary tree. <br/>\n",
    "\n",
    "Note: <br/>\n",
    "You may assume that duplicates do not exist in the tree. <br/>\n",
    "\n",
    "For example, given <br/>\n",
    "\n",
    "preorder = [3,9,20,15,7] <br/>\n",
    "inorder = [9,3,15,20,7] <br/>\n",
    "\n",
    "Return the following binary tree: <br/>\n",
    "\n",
    "   3 <br/>\n",
    "   / \\ <br/>\n",
    "9  20 <br/>\n",
    "&nbsp;&nbsp;&nbsp;/  \\ <br/>\n",
    "&nbsp;&nbsp;15   7 <br/>"
   ]
  },
  {
   "cell_type": "markdown",
   "metadata": {},
   "source": [
    "# DFS - O(N) runtime, O(N) space"
   ]
  },
  {
   "cell_type": "code",
   "execution_count": 2,
   "metadata": {},
   "outputs": [],
   "source": [
    "from typing import List\n",
    "# Definition for a binary tree node.\n",
    "# class TreeNode:\n",
    "#     def __init__(self, val=0, left=None, right=None):\n",
    "#         self.val = val\n",
    "#         self.left = left\n",
    "#         self.right = right\n",
    "\n",
    "class Solution:\n",
    "    def buildTree(self, preorder: List[int], inorder: List[int]) -> TreeNode:\n",
    "        def helper(in_left:int = 0, in_right:int = len(inorder)) -> TreeNode:\n",
    "            nonlocal pre_idx\n",
    "            # if there is no elements to construct subtrees\n",
    "            if in_left == in_right:\n",
    "                return None\n",
    "            \n",
    "            # pick up pre_idx element as a root\n",
    "            root_val = preorder[pre_idx]\n",
    "            root = TreeNode(root_val)\n",
    "\n",
    "            # root splits inorder list\n",
    "            # into left and right subtrees\n",
    "            index = idx_map[root_val]\n",
    "\n",
    "            # recursion \n",
    "            pre_idx += 1\n",
    "            # build left subtree\n",
    "            root.left = helper(in_left, index)\n",
    "            # build right subtree\n",
    "            root.right = helper(index + 1, in_right)\n",
    "            return root\n",
    "        \n",
    "        # start from first preorder element\n",
    "        pre_idx = 0\n",
    "        # build a hashmap value -> its index\n",
    "        idx_map = {val:idx for idx, val in enumerate(inorder)} \n",
    "        \n",
    "        return helper()"
   ]
  }
 ],
 "metadata": {
  "kernelspec": {
   "display_name": "Python 3",
   "language": "python",
   "name": "python3"
  },
  "language_info": {
   "codemirror_mode": {
    "name": "ipython",
    "version": 3
   },
   "file_extension": ".py",
   "mimetype": "text/x-python",
   "name": "python",
   "nbconvert_exporter": "python",
   "pygments_lexer": "ipython3",
   "version": "3.7.3"
  }
 },
 "nbformat": 4,
 "nbformat_minor": 2
}
