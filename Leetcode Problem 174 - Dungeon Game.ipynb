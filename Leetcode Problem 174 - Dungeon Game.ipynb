{
 "cells": [
  {
   "cell_type": "markdown",
   "metadata": {},
   "source": [
    "Problem Statement.\n",
    "\n",
    "The demons had captured the princess and imprisoned her in the bottom-right corner of a dungeon. The dungeon consists of m x n rooms laid out in a 2D grid. Our valiant knight was initially positioned in the top-left room and must fight his way through dungeon to rescue the princess.\n",
    "\n",
    "The knight has an initial health point represented by a positive integer. If at any point his health point drops to 0 or below, he dies immediately.\n",
    "\n",
    "Some of the rooms are guarded by demons (represented by negative integers), so the knight loses health upon entering these rooms; other rooms are either empty (represented as 0) or contain magic orbs that increase the knight's health (represented by positive integers).\n",
    "\n",
    "To reach the princess as quickly as possible, the knight decides to move only rightward or downward in each step.\n",
    "\n",
    "Return the knight's minimum initial health so that he can rescue the princess.\n",
    "\n",
    "Note that any room can contain threats or power-ups, even the first room the knight enters and the bottom-right room where the princess is imprisoned.\n",
    "\n",
    " \n",
    "\n",
    "Example 1:\n",
    "\n",
    "Input: dungeon = [[-2,-3,3],[-5,-10,1],[10,30,-5]]\n",
    "Output: 7\n",
    "Explanation: The initial health of the knight must be at least 7 if he follows the optimal path: RIGHT-> RIGHT -> DOWN -> DOWN.\n",
    "\n",
    "Example 2:\n",
    "\n",
    "Input: dungeon = [[0]]\n",
    "Output: 1\n",
    "\n",
    " \n",
    "\n",
    "Constraints:\n",
    "\n",
    "    m == dungeon.length\n",
    "    n == dungeon[i].length\n",
    "    1 <= m, n <= 200\n",
    "    -1000 <= dungeon[i][j] <= 1000"
   ]
  },
  {
   "cell_type": "markdown",
   "metadata": {},
   "source": [
    "# Circular Queue - O(M * N) runtime, O(N) space"
   ]
  },
  {
   "cell_type": "code",
   "execution_count": 1,
   "metadata": {},
   "outputs": [],
   "source": [
    "from typing import List\n",
    "\n",
    "class MyCircularQueue:\n",
    "    def __init__(self, capacity):\n",
    "        \"\"\"\n",
    "        Set the size of the queue to be k.\n",
    "        \"\"\"\n",
    "        self.queue = [0]*capacity\n",
    "        self.tailIndex = 0\n",
    "        self.capacity = capacity\n",
    "\n",
    "    def enQueue(self, value):\n",
    "        \"\"\"\n",
    "        Insert an element into the circular queue.\n",
    "        \"\"\"\n",
    "        self.queue[self.tailIndex] = value\n",
    "        self.tailIndex = (self.tailIndex + 1) % self.capacity\n",
    "\n",
    "    def get(self, index):\n",
    "        return self.queue[index % self.capacity]\n",
    "\n",
    "class Solution:\n",
    "    def calculateMinimumHP(self, dungeon: List[List[int]]) -> int:\n",
    "        rows, cols = len(dungeon), len(dungeon[0])\n",
    "        # Use a circular queue to keep a sliding window of DP values\n",
    "        dp = MyCircularQueue(cols)\n",
    "\n",
    "        def get_min_health(currCell, nextRow, nextCol):\n",
    "            if nextRow < 0 or nextCol < 0:\n",
    "                return float('inf')\n",
    "            index = cols * nextRow + nextCol\n",
    "            nextCell = dp.get(index)\n",
    "            # hero needs at least 1 point to survive\n",
    "            return max(1, nextCell - currCell)\n",
    "\n",
    "        for row in range(rows):\n",
    "            for col in range(cols):\n",
    "                # iterate the grid in the reversed order\n",
    "                currCell = dungeon[rows-row-1][cols-col-1]\n",
    "\n",
    "                right_health = get_min_health(currCell, row, col-1)\n",
    "                down_health = get_min_health(currCell, row-1, col)\n",
    "                next_health = min(right_health, down_health)\n",
    "\n",
    "                if next_health != float('inf'):\n",
    "                    min_health = next_health\n",
    "                else:\n",
    "                    min_health = 1 if currCell >= 0 else (1 - currCell)\n",
    "\n",
    "                dp.enQueue(min_health)\n",
    "        # return the last element in the queue\n",
    "        return dp.get(cols-1)"
   ]
  },
  {
   "cell_type": "markdown",
   "metadata": {},
   "source": [
    "# DP - O(M * N) runtime, O(M * N) runtime"
   ]
  },
  {
   "cell_type": "code",
   "execution_count": 3,
   "metadata": {},
   "outputs": [],
   "source": [
    "class Solution:\n",
    "    def calculateMinimumHP(self, dungeon: List[List[int]]) -> int:\n",
    "        m, n = len(dungeon), len(dungeon[0])\n",
    "        dp = [[float(\"inf\")]*(n+1) for _ in range(m+1)]\n",
    "        dp[m-1][n], dp[m][n-1] = 1, 1\n",
    "            \n",
    "        for i in reversed(range(m)):\n",
    "            for j in reversed(range(n)):\n",
    "                dp[i][j] = max(min(dp[i+1][j],dp[i][j+1])-dungeon[i][j],1)\n",
    "        \n",
    "        return dp[0][0]"
   ]
  },
  {
   "cell_type": "code",
   "execution_count": 4,
   "metadata": {},
   "outputs": [
    {
     "data": {
      "text/plain": [
       "7"
      ]
     },
     "execution_count": 4,
     "metadata": {},
     "output_type": "execute_result"
    }
   ],
   "source": [
    "instance = Solution()\n",
    "instance.calculateMinimumHP([[-2,-3,3],[-5,-10,1],[10,30,-5]])"
   ]
  }
 ],
 "metadata": {
  "kernelspec": {
   "display_name": "Python 3",
   "language": "python",
   "name": "python3"
  },
  "language_info": {
   "codemirror_mode": {
    "name": "ipython",
    "version": 3
   },
   "file_extension": ".py",
   "mimetype": "text/x-python",
   "name": "python",
   "nbconvert_exporter": "python",
   "pygments_lexer": "ipython3",
   "version": "3.7.3"
  }
 },
 "nbformat": 4,
 "nbformat_minor": 2
}
