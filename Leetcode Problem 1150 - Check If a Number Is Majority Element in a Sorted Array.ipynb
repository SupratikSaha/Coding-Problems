{
 "cells": [
  {
   "cell_type": "markdown",
   "metadata": {},
   "source": [
    "Problem Statement.\n",
    "\n",
    "Given an array nums sorted in non-decreasing order, and a number target, return True if and only if target is a majority element.\n",
    "\n",
    "A majority element is an element that appears more than N/2 times in an array of length N.\n",
    "\n",
    " \n",
    "\n",
    "Example 1:\n",
    "\n",
    "Input: nums = [2,4,5,5,5,5,5,6,6], target = 5\n",
    "Output: true\n",
    "Explanation: \n",
    "The value 5 appears 5 times and the length of the array is 9.\n",
    "Thus, 5 is a majority element because 5 > 9/2 is true.\n",
    "\n",
    "Example 2:\n",
    "\n",
    "Input: nums = [10,100,101,101], target = 101\n",
    "Output: false\n",
    "Explanation: \n",
    "The value 101 appears 2 times and the length of the array is 4.\n",
    "Thus, 101 is not a majority element because 2 > 4/2 is false.\n",
    "\n",
    " \n",
    "\n",
    "Constraints:\n",
    "\n",
    "    1 <= nums.length <= 1000\n",
    "    1 <= nums[i] <= 10^9\n",
    "    1 <= target <= 10^9"
   ]
  },
  {
   "cell_type": "markdown",
   "metadata": {},
   "source": [
    "# HashTable - O(N) runtime, O(N) space"
   ]
  },
  {
   "cell_type": "code",
   "execution_count": 1,
   "metadata": {},
   "outputs": [],
   "source": [
    "from typing import List\n",
    "from collections import Counter\n",
    "\n",
    "class Solution:\n",
    "    def isMajorityElement(self, nums: List[int], target: int) -> bool:\n",
    "        return True if Counter(nums)[target] > len(nums) / 2 else False"
   ]
  },
  {
   "cell_type": "markdown",
   "metadata": {},
   "source": [
    "# Binary Search - O(Log N) runtime, O(1) space"
   ]
  },
  {
   "cell_type": "code",
   "execution_count": 2,
   "metadata": {},
   "outputs": [],
   "source": [
    "from typing import List\n",
    "\n",
    "class Solution:\n",
    "    def isMajorityElement(self, nums: List[int], target: int) -> bool:\n",
    "        n = len(nums)\n",
    "        \n",
    "        def search(left, pos, isLeft):\n",
    "            right = n-1\n",
    "            while left <= right:\n",
    "                mid = left + (right - left) // 2\n",
    "                if nums[mid] == target:\n",
    "                    if isLeft: \n",
    "                        right = mid - 1\n",
    "                        pos = min(pos, mid)\n",
    "                    else: \n",
    "                        left = mid + 1\n",
    "                        pos = max(pos, mid)\n",
    "                    continue\n",
    "                    \n",
    "                if nums[mid] >= target:\n",
    "                    right = mid - 1\n",
    "                else:\n",
    "                    left = mid + 1\n",
    "                    \n",
    "            return pos\n",
    "                    \n",
    "        leftPos = search(0, n, True)      \n",
    "        if leftPos >= n // 2 + 1: return False\n",
    "        \n",
    "        rightPos = search(leftPos, leftPos, False)\n",
    "        if rightPos - leftPos + 1 < n // 2 + 1: return False\n",
    "        \n",
    "        return True"
   ]
  },
  {
   "cell_type": "code",
   "execution_count": 3,
   "metadata": {},
   "outputs": [
    {
     "data": {
      "text/plain": [
       "True"
      ]
     },
     "execution_count": 3,
     "metadata": {},
     "output_type": "execute_result"
    }
   ],
   "source": [
    "instance = Solution()\n",
    "instance.isMajorityElement([2,4,5,5,5,5,5,6,6], 5)"
   ]
  }
 ],
 "metadata": {
  "kernelspec": {
   "display_name": "Python 3",
   "language": "python",
   "name": "python3"
  },
  "language_info": {
   "codemirror_mode": {
    "name": "ipython",
    "version": 3
   },
   "file_extension": ".py",
   "mimetype": "text/x-python",
   "name": "python",
   "nbconvert_exporter": "python",
   "pygments_lexer": "ipython3",
   "version": "3.7.3"
  }
 },
 "nbformat": 4,
 "nbformat_minor": 2
}
