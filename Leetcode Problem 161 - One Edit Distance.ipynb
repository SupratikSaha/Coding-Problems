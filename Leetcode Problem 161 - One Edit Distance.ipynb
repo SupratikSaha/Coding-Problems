{
 "cells": [
  {
   "cell_type": "markdown",
   "metadata": {},
   "source": [
    "Problem Statement.\n",
    "\n",
    "Given two strings s and t, return true if they are both one edit distance apart, otherwise return false.\n",
    "\n",
    "A string s is said to be one distance apart from a string t if you can:\n",
    "\n",
    "    Insert exactly one character into s to get t.\n",
    "    Delete exactly one character from s to get t.\n",
    "    Replace exactly one character of s with a different character to get t.\n",
    "\n",
    " \n",
    "\n",
    "Example 1:\n",
    "\n",
    "Input: s = \"ab\", t = \"acb\"\n",
    "Output: true\n",
    "Explanation: We can insert 'c' into s to get t.\n",
    "\n",
    "Example 2:\n",
    "\n",
    "Input: s = \"\", t = \"\"\n",
    "Output: false\n",
    "Explanation: We cannot get t from s by only one step.\n",
    "\n",
    "Example 3:\n",
    "\n",
    "Input: s = \"a\", t = \"\"\n",
    "Output: true\n",
    "\n",
    "Example 4:\n",
    "\n",
    "Input: s = \"\", t = \"A\"\n",
    "Output: true\n",
    "\n",
    " \n",
    "\n",
    "Constraints:\n",
    "\n",
    "    0 <= s.length <= 10^4\n",
    "    0 <= t.length <= 10^4\n",
    "    s and t consist of lower-case letters, upper-case letters and/or digits."
   ]
  },
  {
   "cell_type": "markdown",
   "metadata": {},
   "source": [
    "# Simple One-Pass : O(n) run time, O(1) space"
   ]
  },
  {
   "cell_type": "code",
   "execution_count": 1,
   "metadata": {},
   "outputs": [],
   "source": [
    "class Solution:\n",
    "    def isOneEditDistance(self, s: str, t: str) -> bool:\n",
    "        m, n = len(s), len(t)\n",
    "        \n",
    "        if m > n:\n",
    "            return self.isOneEditDistance(t, s)\n",
    "        \n",
    "        if n - m > 1:\n",
    "            return False\n",
    "        ctr, shift = 0, n - m\n",
    "        \n",
    "        while ctr < m and s[ctr] == t[ctr]:\n",
    "            ctr += 1\n",
    "            \n",
    "        if ctr == m:\n",
    "            return shift > 0\n",
    "        \n",
    "        if shift == 0:\n",
    "            ctr += 1\n",
    "            \n",
    "        while ctr < m and s[ctr] == t[ctr + shift]:\n",
    "            ctr += 1\n",
    "        \n",
    "        return ctr == m"
   ]
  },
  {
   "cell_type": "markdown",
   "metadata": {},
   "source": [
    "# Simpler One Pass - O(N) runtime, O(1) space"
   ]
  },
  {
   "cell_type": "code",
   "execution_count": 2,
   "metadata": {},
   "outputs": [],
   "source": [
    "class Solution:\n",
    "    def isOneEditDistance(self, s: str, t: str) -> bool:\n",
    "        ns, nt = len(s), len(t)\n",
    "\n",
    "        if ns > nt:\n",
    "            return self.isOneEditDistance(t, s)\n",
    "\n",
    "        if nt - ns > 1:\n",
    "            return False\n",
    "\n",
    "        for i in range(ns):\n",
    "            if s[i] != t[i]:\n",
    "                if ns == nt:\n",
    "                    return s[i + 1:] == t[i + 1:]\n",
    "                else:\n",
    "                    return s[i:] == t[i + 1:]\n",
    "\n",
    "        return ns + 1 == nt"
   ]
  },
  {
   "cell_type": "code",
   "execution_count": 3,
   "metadata": {},
   "outputs": [
    {
     "data": {
      "text/plain": [
       "True"
      ]
     },
     "execution_count": 3,
     "metadata": {},
     "output_type": "execute_result"
    }
   ],
   "source": [
    "Instance = Solution()\n",
    "Instance.isOneEditDistance('ab','cb')"
   ]
  }
 ],
 "metadata": {
  "kernelspec": {
   "display_name": "Python 3",
   "language": "python",
   "name": "python3"
  },
  "language_info": {
   "codemirror_mode": {
    "name": "ipython",
    "version": 3
   },
   "file_extension": ".py",
   "mimetype": "text/x-python",
   "name": "python",
   "nbconvert_exporter": "python",
   "pygments_lexer": "ipython3",
   "version": "3.7.3"
  }
 },
 "nbformat": 4,
 "nbformat_minor": 2
}
