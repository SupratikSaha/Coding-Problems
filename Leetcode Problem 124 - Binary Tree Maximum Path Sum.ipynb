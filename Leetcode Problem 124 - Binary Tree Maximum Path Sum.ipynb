{
 "cells": [
  {
   "cell_type": "markdown",
   "metadata": {},
   "source": [
    "# Bottom Up recrsion - O(n) run time, O(log n) stack space"
   ]
  },
  {
   "cell_type": "code",
   "execution_count": null,
   "metadata": {},
   "outputs": [],
   "source": [
    "# Definition for a binary tree node.\n",
    "# class TreeNode:\n",
    "#     def __init__(self, x):\n",
    "#         self.val = x\n",
    "#         self.left = None\n",
    "#         self.right = None\n",
    "\n",
    "class Solution:\n",
    "    maxsum = -2**31\n",
    "    \n",
    "    def maxPathSum(self, root: TreeNode) -> int:\n",
    "        Solution.maxsum = -2**31\n",
    "        self.findMax(root)\n",
    "        return Solution.maxsum\n",
    "    \n",
    "    def findMax(self, p: TreeNode) -> int:\n",
    "        if p == None:\n",
    "            return 0\n",
    "        left = self.findMax(p.left)\n",
    "        right = self.findMax(p.right)\n",
    "        \n",
    "        Solution.maxsum = max(p.val + left + right, Solution.maxsum)\n",
    "        \n",
    "        ret = p.val + max(left, right)\n",
    "        \n",
    "        return ret if ret > 0 else 0"
   ]
  }
 ],
 "metadata": {
  "kernelspec": {
   "display_name": "Python 3",
   "language": "python",
   "name": "python3"
  },
  "language_info": {
   "codemirror_mode": {
    "name": "ipython",
    "version": 3
   },
   "file_extension": ".py",
   "mimetype": "text/x-python",
   "name": "python",
   "nbconvert_exporter": "python",
   "pygments_lexer": "ipython3",
   "version": "3.7.3"
  }
 },
 "nbformat": 4,
 "nbformat_minor": 2
}
