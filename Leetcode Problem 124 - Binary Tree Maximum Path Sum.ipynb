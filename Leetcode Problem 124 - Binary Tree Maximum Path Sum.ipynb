{
 "cells": [
  {
   "cell_type": "markdown",
   "metadata": {},
   "source": [
    "Problem Statement. <br/>\n",
    "\n",
    "Given a non-empty binary tree, find the maximum path sum. <br/>\n",
    "For this problem, a path is defined as any node sequence from some starting node to any node in the tree along the parent-child connections. The path must contain at least one node and does not need to go through the root. <br/>\n",
    "\n",
    "Example 1: <br/>\n",
    "Input: root = [1,2,3] <br/>\n",
    "Output: 6 <br/>\n",
    "\n",
    "Example 2: <br/>\n",
    "Input: root = [-10,9,20,null,null,15,7] <br/>\n",
    "Output: 42"
   ]
  },
  {
   "cell_type": "markdown",
   "metadata": {},
   "source": [
    "# Bottom Up recrsion - O(n) run time, O(log n) stack space"
   ]
  },
  {
   "cell_type": "code",
   "execution_count": 1,
   "metadata": {},
   "outputs": [],
   "source": [
    "# Definition for a binary tree node.\n",
    "# class TreeNode:\n",
    "#     def __init__(self, val=0, left=None, right=None):\n",
    "#         self.val = val\n",
    "#         self.left = left\n",
    "#         self.right = right\n",
    "\n",
    "class Solution:\n",
    "    def maxPathSum(self, root: TreeNode) -> int:\n",
    "        self.globalMaximumSum = -math.inf\n",
    "        self.find_maximum_path_sum_recursive(root)\n",
    "        return self.globalMaximumSum\n",
    "\n",
    "    def find_maximum_path_sum_recursive(self, currentNode: TreeNode) -> int:\n",
    "        if currentNode is None:\n",
    "            return 0\n",
    "\n",
    "        maxPathSumFromLeft = self.find_maximum_path_sum_recursive(currentNode.left)\n",
    "        maxPathSumFromRight = self.find_maximum_path_sum_recursive(currentNode.right)\n",
    "\n",
    "        # ignore paths with negative sums, since we need to find the maximum sum we should\n",
    "        # ignore any path which has an overall negative sum.\n",
    "        maxPathSumFromLeft = max(maxPathSumFromLeft, 0)\n",
    "        maxPathSumFromRight = max(maxPathSumFromRight, 0)\n",
    "\n",
    "        # maximum path sum at the current node will be equal to the sum from the left subtree +\n",
    "        # the sum from right subtree + val of current node\n",
    "        localMaximumSum = maxPathSumFromLeft + maxPathSumFromRight + currentNode.val\n",
    "\n",
    "        # update the global maximum sum\n",
    "        self.globalMaximumSum = max(self.globalMaximumSum, localMaximumSum)\n",
    "\n",
    "        # maximum sum of any path from the current node will be equal to the maximum of\n",
    "        # the sums from left or right subtrees plus the value of the current node\n",
    "        return max(maxPathSumFromLeft, maxPathSumFromRight) + currentNode.val"
   ]
  },
  {
   "cell_type": "markdown",
   "metadata": {},
   "source": [
    "# Bottom Up recrsion - O(n) run time, O(log n) stack space"
   ]
  },
  {
   "cell_type": "code",
   "execution_count": 2,
   "metadata": {},
   "outputs": [],
   "source": [
    "# Definition for a binary tree node.\n",
    "# class TreeNode:\n",
    "#     def __init__(self, x):\n",
    "#         self.val = x\n",
    "#         self.left = None\n",
    "#         self.right = None\n",
    "\n",
    "class Solution: \n",
    "    def maxPathSum(self, root: TreeNode) -> int:\n",
    "        self.maxsum = -2**31\n",
    "        self.findMax(root)\n",
    "        return self.maxsum\n",
    "    \n",
    "    def findMax(self, p: TreeNode) -> int:\n",
    "        if p == None:\n",
    "            return 0\n",
    "        left = self.findMax(p.left)\n",
    "        right = self.findMax(p.right)\n",
    "        \n",
    "        self.maxsum = max(p.val + left + right, self.maxsum)\n",
    "        \n",
    "        ret = p.val + max(left, right)\n",
    "        \n",
    "        return ret if ret > 0 else 0"
   ]
  }
 ],
 "metadata": {
  "kernelspec": {
   "display_name": "Python 3",
   "language": "python",
   "name": "python3"
  },
  "language_info": {
   "codemirror_mode": {
    "name": "ipython",
    "version": 3
   },
   "file_extension": ".py",
   "mimetype": "text/x-python",
   "name": "python",
   "nbconvert_exporter": "python",
   "pygments_lexer": "ipython3",
   "version": "3.7.3"
  }
 },
 "nbformat": 4,
 "nbformat_minor": 2
}
