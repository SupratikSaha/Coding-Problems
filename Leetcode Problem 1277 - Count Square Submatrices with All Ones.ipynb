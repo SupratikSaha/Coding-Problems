{
 "cells": [
  {
   "cell_type": "markdown",
   "metadata": {},
   "source": [
    "Problem Statement. <br/>\n",
    "\n",
    "Given a m * n matrix of ones and zeros, return how many square submatrices have all ones. <br/>\n",
    "\n",
    "Example 1: <br/>\n",
    "Input: matrix = <br/>\n",
    "[ <br/>\n",
    "  [0,1,1,1], <br/>\n",
    "  [1,1,1,1], <br/>\n",
    "  [0,1,1,1] <br/>\n",
    "] <br/>\n",
    "Output: 15 <br/>\n",
    "Explanation:  <br/>\n",
    "There are 10 squares of side 1. <br/>\n",
    "There are 4 squares of side 2. <br/>\n",
    "There is  1 square of side 3. <br/>\n",
    "Total number of squares = 10 + 4 + 1 = 15. <br/>\n",
    "\n",
    "Example 2: <br/>\n",
    "Input: matrix =  <br/>\n",
    "[ <br/>\n",
    "  [1,0,1], <br/>\n",
    "  [1,1,0], <br/>\n",
    "  [1,1,0] <br/>\n",
    "]\n",
    "Output: 7 <br/>\n",
    "Explanation:  <br/>\n",
    "There are 6 squares of side 1.   <br/>\n",
    "There is 1 square of side 2.  <br/>\n",
    "Total number of squares = 6 + 1 = 7."
   ]
  },
  {
   "cell_type": "markdown",
   "metadata": {},
   "source": [
    "# Recursion - O((M * N) *  max(M, N) ^ max(M, N)) runtime, O(1) space"
   ]
  },
  {
   "cell_type": "code",
   "execution_count": 1,
   "metadata": {},
   "outputs": [],
   "source": [
    "from typing import List\n",
    "\n",
    "class Solution:\n",
    "    def countSquares(self, matrix: List[List[int]]) -> int:\n",
    "        m, n = len(matrix), len(matrix[0])\n",
    "        \n",
    "        def getAllSquares(i: int, j: int, size: int) -> int:\n",
    "            if i + size -1 >= m or j + size - 1 >= n: return 0\n",
    "            \n",
    "            r1 = i + size - 1\n",
    "            for c1 in range(j, j + size):\n",
    "                if matrix[r1][c1] == 0: return 0\n",
    "            \n",
    "            c1 = j + size - 1\n",
    "            for r1 in range(i, i + size - 1):\n",
    "                if matrix[r1][c1] == 0: return 0\n",
    "                    \n",
    "            return 1 + getAllSquares(r, c, size + 1)\n",
    "            \n",
    "            \n",
    "        res = 0\n",
    "        for r in range(m):\n",
    "            for c in range(n):\n",
    "                if matrix[r][c] == 1:\n",
    "                    res += 1 + getAllSquares(r, c, 2)\n",
    "        \n",
    "        return res"
   ]
  },
  {
   "cell_type": "markdown",
   "metadata": {},
   "source": [
    "# DP - O(M * N) runtime, O(1) space"
   ]
  },
  {
   "cell_type": "code",
   "execution_count": 2,
   "metadata": {},
   "outputs": [],
   "source": [
    "from typing import List\n",
    "\n",
    "class Solution:\n",
    "    def countSquares(self, matrix: List[List[int]]) -> int:\n",
    "        for i in range(1, len(matrix)):\n",
    "            for j in range(1, len(matrix[0])):\n",
    "                matrix[i][j] *= min(matrix[i - 1][j], matrix[i][j - 1], matrix[i - 1][j - 1]) + 1\n",
    "        return sum(map(sum, matrix))"
   ]
  },
  {
   "cell_type": "markdown",
   "metadata": {},
   "source": [
    "# DP without chaging input - O(M * N) runtime, O(N) space"
   ]
  },
  {
   "cell_type": "code",
   "execution_count": 3,
   "metadata": {},
   "outputs": [],
   "source": [
    "from typing import List\n",
    "\n",
    "class Solution:\n",
    "    def countSquares(self, matrix: List[List[int]]) -> int:\n",
    "        m, n = len(matrix), len(matrix[0])\n",
    "        dp = [0] * n\n",
    "        countSquares = 0\n",
    "        \n",
    "        for i in range(m):\n",
    "            dp_new = [0] * n\n",
    "            for j in range(n):\n",
    "                if matrix[i][j]:\n",
    "                    dp_new[j] = min(dp[j], dp_new[j-1], dp[j-1]) + 1\n",
    "                    countSquares += dp_new[j]\n",
    "                   \n",
    "            dp = dp_new\n",
    "\n",
    "        return countSquares"
   ]
  },
  {
   "cell_type": "markdown",
   "metadata": {},
   "source": [
    "# Faster DP - O(M * N) runtime, O(1) space"
   ]
  },
  {
   "cell_type": "code",
   "execution_count": 1,
   "metadata": {},
   "outputs": [],
   "source": [
    "from typing import List\n",
    "\n",
    "class Solution:\n",
    "    def countSquares(self, matrix: List[List[int]]) -> int:\n",
    "        countSquares= 0\n",
    "        for i in range(len(matrix)):\n",
    "            for j in range(len(matrix[0])):\n",
    "                if i > 0 and j > 0 and matrix[i][j]:\n",
    "                    matrix[i][j] += min(matrix[i-1][j], matrix[i][j-1], matrix[i-1][j-1])\n",
    "                countSquares += matrix[i][j]\n",
    "        \n",
    "        return countSquares"
   ]
  },
  {
   "cell_type": "code",
   "execution_count": 2,
   "metadata": {},
   "outputs": [
    {
     "data": {
      "text/plain": [
       "15"
      ]
     },
     "execution_count": 2,
     "metadata": {},
     "output_type": "execute_result"
    }
   ],
   "source": [
    "instance = Solution()\n",
    "instance.countSquares([[0,1,1,1],[1,1,1,1],[0,1,1,1]])"
   ]
  }
 ],
 "metadata": {
  "kernelspec": {
   "display_name": "Python 3",
   "language": "python",
   "name": "python3"
  },
  "language_info": {
   "codemirror_mode": {
    "name": "ipython",
    "version": 3
   },
   "file_extension": ".py",
   "mimetype": "text/x-python",
   "name": "python",
   "nbconvert_exporter": "python",
   "pygments_lexer": "ipython3",
   "version": "3.7.3"
  }
 },
 "nbformat": 4,
 "nbformat_minor": 2
}
