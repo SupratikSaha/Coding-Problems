{
 "cells": [
  {
   "cell_type": "markdown",
   "metadata": {},
   "source": [
    "Given a string containing just the characters '(' and ')', find the length of the longest valid (well-formed) parentheses substring.\n",
    "\n",
    "Example 1:\n",
    "\n",
    "Input: \"(()\"\n",
    "Output: 2\n",
    "Explanation: The longest valid parentheses substring is \"()\"\n",
    "\n",
    "Example 2:\n",
    "\n",
    "Input: \")()())\"\n",
    "Output: 4\n",
    "Explanation: The longest valid parentheses substring is \"()()\""
   ]
  },
  {
   "cell_type": "markdown",
   "metadata": {},
   "source": [
    "# Brute Force: O(n ^ 3) runtime, O(n) space"
   ]
  },
  {
   "cell_type": "code",
   "execution_count": 1,
   "metadata": {},
   "outputs": [],
   "source": [
    "class Solution:\n",
    "    def isValid(self, s: str) -> int:\n",
    "        stack = []\n",
    "        \n",
    "        for i, char in enumerate(s):\n",
    "            if char == '(':\n",
    "                stack.append(char)\n",
    "            elif len(stack) != 0:\n",
    "                stack.pop()\n",
    "            else:\n",
    "                return False\n",
    "            \n",
    "        return len(stack) == 0\n",
    "    \n",
    "    def longestValidParentheses(self, s: str) -> int:\n",
    "        length = len(s)\n",
    "        maxlen = 0\n",
    "        \n",
    "        for i in range(length):\n",
    "            for j in range(i + 2, length + 1, 2):\n",
    "                if self.isValid(s[i:j]):\n",
    "                    maxlen = max(maxlen, j - i)\n",
    "                \n",
    "        return maxlen"
   ]
  },
  {
   "cell_type": "markdown",
   "metadata": {},
   "source": [
    "# Stack - O(n) runtime, O(n) space"
   ]
  },
  {
   "cell_type": "code",
   "execution_count": 3,
   "metadata": {},
   "outputs": [],
   "source": [
    "class Solution:\n",
    "    def longestValidParentheses(self, s: str) -> int:\n",
    "        length = len(s)\n",
    "        maxlen = 0\n",
    "        stack = [-1]\n",
    "        \n",
    "        for i, char in enumerate(s):\n",
    "            if char == '(':\n",
    "                stack.append(i)\n",
    "            else:\n",
    "                stack.pop()\n",
    "                if len(stack) == 0:\n",
    "                    stack.append(i)\n",
    "                else:\n",
    "                    maxlen = max(maxlen, i - stack[-1])\n",
    "                \n",
    "        return maxlen"
   ]
  },
  {
   "cell_type": "markdown",
   "metadata": {},
   "source": [
    "# Dynamic Programming - O(n) runtime, O(n) space"
   ]
  },
  {
   "cell_type": "code",
   "execution_count": 7,
   "metadata": {},
   "outputs": [],
   "source": [
    "class Solution:\n",
    "    def longestValidParentheses(self, s: str) -> int:\n",
    "        length = len(s)\n",
    "        \n",
    "        dp = [0] * length\n",
    "        max_length = 0\n",
    "        \n",
    "        for i in range(1, length):\n",
    "            if s[i] == ')':\n",
    "                if s[i - 1] == '(':\n",
    "                    dp[i] = dp[i -  2] + 2 if i >= 2 else 2\n",
    "                elif i - dp[i - 1] > 0 and s[ i - dp[i - 1] - 1] == '(': \n",
    "                    dp[i] = dp[i - 1] + dp[i - dp[i - 1] - 2] + 2 if (i - dp[i - 1]) >=2 else dp[i - 1] + 2\n",
    "                \n",
    "                max_length = max(max_length, dp[i])\n",
    "                \n",
    "        return max_length"
   ]
  },
  {
   "cell_type": "markdown",
   "metadata": {},
   "source": [
    "# No extra space, only for loop - O(n) runtime, O(1) space"
   ]
  },
  {
   "cell_type": "code",
   "execution_count": 5,
   "metadata": {},
   "outputs": [],
   "source": [
    "class Solution:\n",
    "    def longestValidParentheses(self, s: str) -> int:\n",
    "        length = len(s)\n",
    "        maxlen = 0\n",
    "        left = right = 0\n",
    "        \n",
    "        for i, char in enumerate(s):\n",
    "            if char == '(':\n",
    "                left += 1\n",
    "            else:\n",
    "                right += 1\n",
    "            if left == right:\n",
    "                maxlen = max(maxlen, right * 2)\n",
    "            elif right > left:\n",
    "                left = right = 0\n",
    "                \n",
    "        left = right = 0\n",
    "        s = s[::-1]\n",
    "        \n",
    "        for i, char in enumerate(s):\n",
    "            if char == '(':\n",
    "                left += 1\n",
    "            else:\n",
    "                right += 1\n",
    "            if left == right:\n",
    "                maxlen = max(maxlen, left * 2)\n",
    "            elif left > right:\n",
    "                left = right = 0\n",
    "                \n",
    "        return maxlen"
   ]
  },
  {
   "cell_type": "code",
   "execution_count": 8,
   "metadata": {},
   "outputs": [
    {
     "data": {
      "text/plain": [
       "4"
      ]
     },
     "execution_count": 8,
     "metadata": {},
     "output_type": "execute_result"
    }
   ],
   "source": [
    "instance = Solution()\n",
    "instance.longestValidParentheses(\"())()()((()()\")\n",
    "#Expected break : [2,err,4,err,err,4] => [2,4,4] => 4"
   ]
  }
 ],
 "metadata": {
  "kernelspec": {
   "display_name": "Python 3",
   "language": "python",
   "name": "python3"
  },
  "language_info": {
   "codemirror_mode": {
    "name": "ipython",
    "version": 3
   },
   "file_extension": ".py",
   "mimetype": "text/x-python",
   "name": "python",
   "nbconvert_exporter": "python",
   "pygments_lexer": "ipython3",
   "version": "3.7.3"
  }
 },
 "nbformat": 4,
 "nbformat_minor": 2
}
