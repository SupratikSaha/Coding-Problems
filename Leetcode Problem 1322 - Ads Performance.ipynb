{
 "cells": [
  {
   "cell_type": "markdown",
   "metadata": {},
   "source": [
    "Problem Statement.\n",
    "\n",
    "    Table: Ads\n",
    "\n",
    "    +---------------+---------+\n",
    "    | Column Name   | Type    |\n",
    "    +---------------+---------+\n",
    "    | ad_id         | int     |\n",
    "    | user_id       | int     |\n",
    "    | action        | enum    |\n",
    "    +---------------+---------+\n",
    "    (ad_id, user_id) is the primary key for this table.\n",
    "    Each row of this table contains the ID of an Ad, the ID of a user and the action taken by this user regarding this Ad.\n",
    "    The action column is an ENUM type of ('Clicked', 'Viewed', 'Ignored').\n",
    "\n",
    "\n",
    "\n",
    "    A company is running Ads and wants to calculate the performance of each Ad.\n",
    "\n",
    "    Performance of the Ad is measured using Click-Through Rate (CTR) where:\n",
    "\n",
    "    Write an SQL query to find the ctr of each Ad.\n",
    "\n",
    "    Round ctr to 2 decimal points. Order the result table by ctr in descending order and by ad_id in ascending order in case of a tie.\n",
    "\n",
    "    The query result format is in the following example:\n",
    "\n",
    "    Ads table:\n",
    "    +-------+---------+---------+\n",
    "    | ad_id | user_id | action  |\n",
    "    +-------+---------+---------+\n",
    "    | 1     | 1       | Clicked |\n",
    "    | 2     | 2       | Clicked |\n",
    "    | 3     | 3       | Viewed  |\n",
    "    | 5     | 5       | Ignored |\n",
    "    | 1     | 7       | Ignored |\n",
    "    | 2     | 7       | Viewed  |\n",
    "    | 3     | 5       | Clicked |\n",
    "    | 1     | 4       | Viewed  |\n",
    "    | 2     | 11      | Viewed  |\n",
    "    | 1     | 2       | Clicked |\n",
    "    +-------+---------+---------+\n",
    "    Result table:\n",
    "    +-------+-------+\n",
    "    | ad_id | ctr   |\n",
    "    +-------+-------+\n",
    "    | 1     | 66.67 |\n",
    "    | 3     | 50.00 |\n",
    "    | 2     | 33.33 |\n",
    "    | 5     | 0.00  |\n",
    "    +-------+-------+\n",
    "    for ad_id = 1, ctr = (2/(2+1)) * 100 = 66.67\n",
    "    for ad_id = 2, ctr = (1/(1+2)) * 100 = 33.33\n",
    "    for ad_id = 3, ctr = (1/(1+1)) * 100 = 50.00\n",
    "    for ad_id = 5, ctr = 0.00, Note that ad_id = 5 has no clicks or views.\n",
    "    Note that we don't care about Ignored Ads.\n",
    "    Result table is ordered by the ctr. in case of a tie we order them by ad_id"
   ]
  },
  {
   "cell_type": "markdown",
   "metadata": {},
   "source": [
    "# Sub Query"
   ]
  },
  {
   "cell_type": "code",
   "execution_count": null,
   "metadata": {},
   "outputs": [],
   "source": [
    "select ad_id, \n",
    "case when clicked + viewed = 0 then 0\n",
    "     else round(clicked / (clicked + viewed) * 100, 2)\n",
    "end as ctr\n",
    "from\n",
    "(select ad_id, \n",
    "sum(case when action='Viewed' then 1 else 0 end) as viewed,\n",
    "sum(case when action='Clicked' then 1 else 0 end) as clicked\n",
    "from ads\n",
    "group by 1) a\n",
    "order by 2 desc, 1"
   ]
  },
  {
   "cell_type": "markdown",
   "metadata": {},
   "source": [
    "# Average"
   ]
  },
  {
   "cell_type": "code",
   "execution_count": null,
   "metadata": {},
   "outputs": [],
   "source": [
    "SELECT ad_id, IFNULL(ROUND(AVG(CASE WHEN action = 'Clicked' THEN 1\n",
    "                         WHEN action = 'Viewed' THEN 0\n",
    "                         ELSE NULL END)*100,2),0) AS ctr\n",
    "FROM Ads\n",
    "GROUP BY ad_id\n",
    "ORDER BY ctr DESC, ad_id"
   ]
  }
 ],
 "metadata": {
  "kernelspec": {
   "display_name": "Python 3",
   "language": "python",
   "name": "python3"
  },
  "language_info": {
   "codemirror_mode": {
    "name": "ipython",
    "version": 3
   },
   "file_extension": ".py",
   "mimetype": "text/x-python",
   "name": "python",
   "nbconvert_exporter": "python",
   "pygments_lexer": "ipython3",
   "version": "3.7.3"
  }
 },
 "nbformat": 4,
 "nbformat_minor": 2
}
