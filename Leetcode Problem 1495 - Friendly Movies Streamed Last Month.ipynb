{
 "cells": [
  {
   "cell_type": "markdown",
   "metadata": {},
   "source": [
    "    Problem Statement.\n",
    "\n",
    "    Table: TVProgram\n",
    "\n",
    "    +---------------+---------+\n",
    "    | Column Name   | Type    |\n",
    "    +---------------+---------+\n",
    "    | program_date  | date    |\n",
    "    | content_id    | int     |\n",
    "    | channel       | varchar |\n",
    "    +---------------+---------+\n",
    "    (program_date, content_id) is the primary key for this table.\n",
    "    This table contains information of the programs on the TV.\n",
    "    content_id is the id of the program in some channel on the TV.\n",
    "\n",
    "\n",
    "\n",
    "    Table: Content\n",
    "\n",
    "    +------------------+---------+\n",
    "    | Column Name      | Type    |\n",
    "    +------------------+---------+\n",
    "    | content_id       | varchar |\n",
    "    | title            | varchar |\n",
    "    | Kids_content     | enum    |\n",
    "    | content_type     | varchar |\n",
    "    +------------------+---------+\n",
    "    content_id is the primary key for this table.\n",
    "    Kids_content is an enum that takes one of the values ('Y', 'N') where: \n",
    "    'Y' means is content for kids otherwise 'N' is not content for kids.\n",
    "    content_type is the category of the content as movies, series, etc.\n",
    "\n",
    "\n",
    "\n",
    "    Write an SQL query to report the distinct titles of the kid-friendly movies streamed in June 2020.\n",
    "\n",
    "    Return the result table in any order.\n",
    "\n",
    "    The query result format is in the following example.\n",
    "\n",
    "\n",
    "\n",
    "    Example 1:\n",
    "\n",
    "    Input: \n",
    "    TVProgram table:\n",
    "    +--------------------+--------------+-------------+\n",
    "    | program_date       | content_id   | channel     |\n",
    "    +--------------------+--------------+-------------+\n",
    "    | 2020-06-10 08:00   | 1            | LC-Channel  |\n",
    "    | 2020-05-11 12:00   | 2            | LC-Channel  |\n",
    "    | 2020-05-12 12:00   | 3            | LC-Channel  |\n",
    "    | 2020-05-13 14:00   | 4            | Disney Ch   |\n",
    "    | 2020-06-18 14:00   | 4            | Disney Ch   |\n",
    "    | 2020-07-15 16:00   | 5            | Disney Ch   |\n",
    "    +--------------------+--------------+-------------+\n",
    "    Content table:\n",
    "    +------------+----------------+---------------+---------------+\n",
    "    | content_id | title          | Kids_content  | content_type  |\n",
    "    +------------+----------------+---------------+---------------+\n",
    "    | 1          | Leetcode Movie | N             | Movies        |\n",
    "    | 2          | Alg. for Kids  | Y             | Series        |\n",
    "    | 3          | Database Sols  | N             | Series        |\n",
    "    | 4          | Aladdin        | Y             | Movies        |\n",
    "    | 5          | Cinderella     | Y             | Movies        |\n",
    "    +------------+----------------+---------------+---------------+\n",
    "    Output: \n",
    "    +--------------+\n",
    "    | title        |\n",
    "    +--------------+\n",
    "    | Aladdin      |\n",
    "    +--------------+\n",
    "    Explanation: \n",
    "    \"Leetcode Movie\" is not a content for kids.\n",
    "    \"Alg. for Kids\" is not a movie.\n",
    "    \"Database Sols\" is not a movie\n",
    "    \"Alladin\" is a movie, content for kids and was streamed in June 2020.\n",
    "    \"Cinderella\" was not streamed in June 2020."
   ]
  },
  {
   "cell_type": "markdown",
   "metadata": {},
   "source": [
    "# Join"
   ]
  },
  {
   "cell_type": "code",
   "execution_count": null,
   "metadata": {},
   "outputs": [],
   "source": [
    "select distinct title\n",
    "from Content c\n",
    "join TVProgram t on c.content_id = t.content_id\n",
    "where c.Kids_content = 'Y' and c.content_type = 'Movies' and t.program_date between '2020-06-01' and '2020-06-30'"
   ]
  }
 ],
 "metadata": {
  "kernelspec": {
   "display_name": "Python 3",
   "language": "python",
   "name": "python3"
  },
  "language_info": {
   "codemirror_mode": {
    "name": "ipython",
    "version": 3
   },
   "file_extension": ".py",
   "mimetype": "text/x-python",
   "name": "python",
   "nbconvert_exporter": "python",
   "pygments_lexer": "ipython3",
   "version": "3.7.3"
  }
 },
 "nbformat": 4,
 "nbformat_minor": 2
}
