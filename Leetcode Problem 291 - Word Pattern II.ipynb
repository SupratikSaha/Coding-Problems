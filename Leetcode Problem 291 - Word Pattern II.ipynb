{
 "cells": [
  {
   "cell_type": "markdown",
   "metadata": {},
   "source": [
    "Problem Statement.\n",
    "\n",
    "Given a pattern and a string s, return true if s matches the pattern.\n",
    "\n",
    "A string s matches a pattern if there is some bijective mapping of single characters to strings such that if each character in pattern is replaced by the string it maps to, then the resulting string is s. A bijective mapping means that no two characters map to the same string, and no character maps to two different strings.\n",
    "\n",
    " \n",
    "\n",
    "Example 1:\n",
    "\n",
    "Input: pattern = \"abab\", s = \"redblueredblue\"\n",
    "Output: true\n",
    "Explanation: One possible mapping is as follows:\n",
    "'a' -> \"red\"\n",
    "'b' -> \"blue\"\n",
    "\n",
    "Example 2:\n",
    "\n",
    "Input: pattern = \"aaaa\", s = \"asdasdasdasd\"\n",
    "Output: true\n",
    "Explanation: One possible mapping is as follows:\n",
    "'a' -> \"asd\"\n",
    "\n",
    "Example 3:\n",
    "\n",
    "Input: pattern = \"abab\", s = \"asdasdasdasd\"\n",
    "Output: true\n",
    "Explanation: One possible mapping is as follows:\n",
    "'a' -> \"a\"\n",
    "'b' -> \"sdasd\"\n",
    "Note that 'a' and 'b' cannot both map to \"asd\" since the mapping is a bijection.\n",
    "\n",
    "Example 4:\n",
    "\n",
    "Input: pattern = \"aabb\", s = \"xyzabcxzyabc\"\n",
    "Output: false\n",
    "\n",
    " \n",
    "\n",
    "Constraints:\n",
    "\n",
    "    1 <= pattern.length, s.length <= 20\n",
    "    pattern and s consist of only lower-case English letters."
   ]
  },
  {
   "cell_type": "markdown",
   "metadata": {},
   "source": [
    "# Backtracking - O(N ^ M) runtime, O(M + N) space where M is pattern length and N is string length"
   ]
  },
  {
   "cell_type": "code",
   "execution_count": 1,
   "metadata": {},
   "outputs": [],
   "source": [
    "class Solution:\n",
    "    def wordPatternMatch(self, pattern: str, s: str) -> bool:\n",
    "        m1, m2 = {}, {}\n",
    "        size_p, size_s = len(pattern), len(s)\n",
    "        \n",
    "        def backtrack(i, j):\n",
    "            nonlocal m1,m2\n",
    "            if i == size_p: return j == size_s\n",
    "            if j == size_s: return False\n",
    "            \n",
    "            if pattern[i] in m1:\n",
    "                sub = m1[pattern[i]]\n",
    "                if s[j:j+len(sub)] == sub:\n",
    "                    return backtrack(i+1,j+len(sub))\n",
    "                else:\n",
    "                    return False\n",
    "            else:\n",
    "                ret = False\n",
    "                for x in range(j+1, size_s+1):\n",
    "                    if s[j:x] in m2:\n",
    "                        continue\n",
    "                    sub = s[j:x]\n",
    "                    m1[pattern[i]] = sub\n",
    "                    m2[sub] = pattern[i]\n",
    "                    ret = ret or backtrack(i+1, x)\n",
    "                    del m1[pattern[i]]\n",
    "                    del m2[sub]\n",
    "                return ret\n",
    "            \n",
    "        return backtrack(0, 0)"
   ]
  },
  {
   "cell_type": "code",
   "execution_count": 2,
   "metadata": {},
   "outputs": [
    {
     "data": {
      "text/plain": [
       "True"
      ]
     },
     "execution_count": 2,
     "metadata": {},
     "output_type": "execute_result"
    }
   ],
   "source": [
    "instance = Solution()\n",
    "instance.wordPatternMatch(\"abab\", \"redblueredblue\")"
   ]
  }
 ],
 "metadata": {
  "kernelspec": {
   "display_name": "Python 3",
   "language": "python",
   "name": "python3"
  },
  "language_info": {
   "codemirror_mode": {
    "name": "ipython",
    "version": 3
   },
   "file_extension": ".py",
   "mimetype": "text/x-python",
   "name": "python",
   "nbconvert_exporter": "python",
   "pygments_lexer": "ipython3",
   "version": "3.7.3"
  }
 },
 "nbformat": 4,
 "nbformat_minor": 2
}
