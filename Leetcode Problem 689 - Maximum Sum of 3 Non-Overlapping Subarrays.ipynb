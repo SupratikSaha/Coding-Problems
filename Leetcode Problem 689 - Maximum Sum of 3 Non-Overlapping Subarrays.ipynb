{
 "cells": [
  {
   "cell_type": "markdown",
   "metadata": {},
   "source": [
    "Problem Statement.\n",
    "\n",
    "Given an integer array nums and an integer k, find three non-overlapping subarrays of length k with maximum sum and return them.\n",
    "\n",
    "Return the result as a list of indices representing the starting position of each interval (0-indexed). If there are multiple answers, return the lexicographically smallest one.\n",
    "\n",
    " \n",
    "\n",
    "Example 1:\n",
    "\n",
    "Input: nums = [1,2,1,2,6,7,5,1], k = 2\n",
    "Output: [0,3,5]\n",
    "Explanation: Subarrays [1, 2], [2, 6], [7, 5] correspond to the starting indices [0, 3, 5].\n",
    "We could have also taken [2, 1], but an answer of [1, 3, 5] would be lexicographically larger.\n",
    "\n",
    "Example 2:\n",
    "\n",
    "Input: nums = [1,2,1,2,1,2,1,2,1], k = 2\n",
    "Output: [0,2,4]\n",
    "\n",
    " \n",
    "\n",
    "Constraints:\n",
    "\n",
    "    1 <= nums.length <= 2 * 104\n",
    "    1 <= nums[i] < 216\n",
    "    1 <= k <= floor(nums.length / 3)"
   ]
  },
  {
   "cell_type": "markdown",
   "metadata": {},
   "source": [
    "# Sum List - O(N) runtime, O(N) space"
   ]
  },
  {
   "cell_type": "code",
   "execution_count": 1,
   "metadata": {},
   "outputs": [],
   "source": [
    "from typing import List\n",
    "\n",
    "class Solution:\n",
    "    def maxSumOfThreeSubarrays(self, nums: List[int], k: int) -> List[int]:\n",
    "        sumList = []\n",
    "        left = curSum = 0\n",
    "        \n",
    "        for i, num in enumerate(nums):\n",
    "            curSum += num\n",
    "            if i >= k:\n",
    "                curSum -= nums[left]\n",
    "                left += 1\n",
    "            if i >= k-1: sumList.append(curSum)\n",
    "                \n",
    "        n = len(sumList)\n",
    "                \n",
    "        left = [0] * n\n",
    "        best = 0\n",
    "        for i in range(n):\n",
    "            if sumList[i] > sumList[best]:\n",
    "                best = i\n",
    "            left[i] = best\n",
    "\n",
    "        right = [0] * n\n",
    "        best = n - 1\n",
    "        for i in range(n - 1, -1, -1):\n",
    "            if sumList[i] >= sumList[best]:\n",
    "                best = i\n",
    "            right[i] = best\n",
    "\n",
    "        ans = None\n",
    "        for j in range(k, n - k):\n",
    "            i, l = left[j - k], right[j + k]\n",
    "            if ans is None or (sumList[i] + sumList[j] + sumList[l] > sumList[ans[0]] + sumList[ans[1]] + sumList[ans[2]]):\n",
    "                ans = [i, j, l]\n",
    "        return ans"
   ]
  },
  {
   "cell_type": "code",
   "execution_count": 2,
   "metadata": {},
   "outputs": [
    {
     "data": {
      "text/plain": [
       "[0, 3, 5]"
      ]
     },
     "execution_count": 2,
     "metadata": {},
     "output_type": "execute_result"
    }
   ],
   "source": [
    "instance = Solution()\n",
    "instance.maxSumOfThreeSubarrays([1,2,1,2,6,7,5,1], 2)"
   ]
  }
 ],
 "metadata": {
  "kernelspec": {
   "display_name": "Python 3",
   "language": "python",
   "name": "python3"
  },
  "language_info": {
   "codemirror_mode": {
    "name": "ipython",
    "version": 3
   },
   "file_extension": ".py",
   "mimetype": "text/x-python",
   "name": "python",
   "nbconvert_exporter": "python",
   "pygments_lexer": "ipython3",
   "version": "3.7.3"
  }
 },
 "nbformat": 4,
 "nbformat_minor": 2
}
