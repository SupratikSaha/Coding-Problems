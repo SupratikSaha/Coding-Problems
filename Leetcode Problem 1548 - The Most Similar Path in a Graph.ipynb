{
 "cells": [
  {
   "cell_type": "markdown",
   "metadata": {},
   "source": [
    "Problem Statement. <br/>\n",
    "\n",
    "We have n cities and m bi-directional roads where roads[i] = [ai, bi] connects city ai with city bi. Each city has a name consisting of exactly 3 upper-case English letters given in the string array names. Starting at any city x, you can reach any city y where y != x (i.e. the cities and the roads are forming an undirected connected graph). <br/>\n",
    "You will be given a string array targetPath. You should find a path in the graph of the same length and with the minimum edit distance to targetPath. <br/>\n",
    "You need to return the order of the nodes in the path with the minimum edit distance, The path should be of the same length of targetPath and should be valid (i.e. there should be a direct road between ans[i] and ans[i + 1]). If there are multiple answers return any one of them. <br/>\n",
    "The edit distance is defined as follows: <br/>\n",
    "\n",
    "Follow-up: If each node can be visited only once in the path, What should you change in your solution? <br/>\n",
    "\n",
    "Example 1: <br/>\n",
    "Input: n = 5, roads = [[0,2],[0,3],[1,2],[1,3],[1,4],[2,4]], names = [\"ATL\",\"PEK\",\"LAX\",\"DXB\",\"HND\"], targetPath = [\"ATL\",\"DXB\",\"HND\",\"LAX\"] <br/>\n",
    "Output: [0,2,4,2] <br/>\n",
    "Explanation: [0,2,4,2], [0,3,0,2] and [0,3,1,2] are accepted answers. <br/>\n",
    "[0,2,4,2] is equivalent to [\"ATL\",\"LAX\",\"HND\",\"LAX\"] which has edit distance = 1 with targetPath. <br/>\n",
    "[0,3,0,2] is equivalent to [\"ATL\",\"DXB\",\"ATL\",\"LAX\"] which has edit distance = 1 with targetPath. <br/>\n",
    "[0,3,1,2] is equivalent to [\"ATL\",\"DXB\",\"PEK\",\"LAX\"] which has edit distance = 1 with targetPath.\n",
    "\n",
    "Example 2: <br/>\n",
    "Input: n = 4, roads = [[1,0],[2,0],[3,0],[2,1],[3,1],[3,2]], names = [\"ATL\",\"PEK\",\"LAX\",\"DXB\"], targetPath = [\"ABC\",\"DEF\",\"GHI\",\"JKL\",\"MNO\",\"PQR\",\"STU\",\"VWX\"] <br/>\n",
    "Output: [0,1,0,1,0,1,0,1] <br/>\n",
    "Explanation: Any path in this graph has edit distance = 8 with targetPath. <br/>\n",
    "\n",
    "Example 3: <br/>\n",
    "Input: n = 6, roads = [[0,1],[1,2],[2,3],[3,4],[4,5]], names = [\"ATL\",\"PEK\",\"LAX\",\"ATL\",\"DXB\",\"HND\"], targetPath = [\"ATL\",\"DXB\",\"HND\",\"DXB\",\"ATL\",\"LAX\",\"PEK\"] <br/>\n",
    "Output: [3,4,5,4,3,2,1] <br/>\n",
    "Explanation: [3,4,5,4,3,2,1] is the only path with edit distance = 0 with targetPath. <br/>\n",
    "It's equivalent to [\"ATL\",\"DXB\",\"HND\",\"DXB\",\"ATL\",\"LAX\",\"PEK\"]"
   ]
  },
  {
   "cell_type": "markdown",
   "metadata": {},
   "source": [
    "# Top Down DP - O(n ^ 2 * targetPath_length) runtime, O(N * targetPath_length) space"
   ]
  },
  {
   "cell_type": "code",
   "execution_count": 1,
   "metadata": {},
   "outputs": [],
   "source": [
    "from typing import List\n",
    "from collections import defaultdict\n",
    "\n",
    "class Solution:\n",
    "    def mostSimilar(self, n: int, roads: List[List[int]], names: List[str], targetPath: List[str]) -> List[int]:\n",
    "        # Build the adjacency graph\n",
    "        adj = defaultdict(set)\n",
    "        for e in roads:\n",
    "            adj[e[0]].add(e[1])\n",
    "            adj[e[1]].add(e[0])\n",
    "            \n",
    "        # G is the graph built from the adjacency information from roads.\n",
    "        # Let's define f(i, u) to return the tuple (edit_distance, best_subpath) where `best_subpath` is some path in\n",
    "        # G such that when compared with targetPath[i..len(targetPath)-1], it differs minimally with\n",
    "        # by `edit_distance` nodes. `u` is the i-1 th node we just chose immediately before `best_subpath`.\n",
    "        # f(i, u) = f(i + 1, v) + (1 if names[v] != targetPath[i] else 0)\n",
    "        memo = {}\n",
    "        def f(i, u):\n",
    "            if i == len(targetPath):\n",
    "                return 0, []\n",
    "            \n",
    "            if (i, u) in memo:\n",
    "                return memo[(i, u)]\n",
    "            \n",
    "            min_cost = float('inf')\n",
    "            best_path = []\n",
    "            # If `u` is the node we've just chosen for the best path, we then simply need to tac on\n",
    "            # the best subpath starting from some neighbor of `u`. Since we don't know which one\n",
    "            # of the neighbors of `u` yields the minimum difference, we'll try all of its neighbors!\n",
    "            # And of course if `u` is None, it means we've not chosen a previous node. So this means\n",
    "            # `v` is going to be the first node in the best path, we'll have to start with every node in \n",
    "            # the graph and see who leads to the best overall path.\n",
    "            neighbors = adj[u] if u != None else range(n)\n",
    "            for v in neighbors:\n",
    "                cost, sub_path = f(i + 1, v)             \n",
    "                if names[v] != targetPath[i]:\n",
    "                    cost += 1\n",
    "                if cost < min_cost:\n",
    "                    min_cost = cost\n",
    "                    best_path = [v] + sub_path\n",
    "            \n",
    "            memo[(i, u)] = (min_cost, best_path)\n",
    "            return memo[(i, u)]\n",
    "        \n",
    "        cost, path = f(0, None)\n",
    "        return path"
   ]
  },
  {
   "cell_type": "markdown",
   "metadata": {},
   "source": [
    "# Bottom Up DP - O(n ^ 2 * targetPath_length) runtime, O(N * targetPath_length) space"
   ]
  },
  {
   "cell_type": "code",
   "execution_count": 3,
   "metadata": {},
   "outputs": [],
   "source": [
    "from typing import List\n",
    "from collections import defaultdict, deque\n",
    "\n",
    "class Solution:\n",
    "    def mostSimilar(self, n: int, roads: List[List[int]], names: List[str], targetPath: List[str]) -> List[int]:\n",
    "        # For the dp-approach, it's the same idea as the recursive top-down approach but bottoms-up. (So the\n",
    "        # recurrence is f(i) = f(i-1) instead of f(i) = f(i+1). And we want f(len(targetPath)-1) as the answer,\n",
    "        # not f(0) as the answer)\n",
    "        #\n",
    "        # Define f[i][u] to be the edit distance of the best path in G with i+1 nodes, where u is the i-th node\n",
    "        # in the best path found in G.\n",
    "        # f[i][u] = f[i-1][v] + (1 if names[u] != targetPath[i] else 0)\n",
    "        \n",
    "        adj = defaultdict(set)\n",
    "        for e in roads:\n",
    "            adj[e[0]].add(e[1])\n",
    "            adj[e[1]].add(e[0])\n",
    "            \n",
    "        f = [None] * len(targetPath)\n",
    "        f[0] = [None] * n\n",
    "        for v in range(n):\n",
    "            f[0][v] = (1, v) if names[v] != targetPath[0] else (0, v)\n",
    "            \n",
    "        for i in range(1, len(targetPath)):\n",
    "            f[i] = [None] * n\n",
    "            for v in range(n):\n",
    "                f[i][v] = (float('inf'), '')\n",
    "                # u is the prev hop in the best path to v\n",
    "                for u in adj[v]:\n",
    "                    cost = f[i-1][u][0] + (1 if names[v] != targetPath[i] else 0)\n",
    "                    if cost < f[i][v][0]:\n",
    "                        f[i][v] = (cost, u)\n",
    "        \n",
    "        min_cost = float('inf')\n",
    "        best_hop = None\n",
    "        for u in range(0, len(f[-1])):\n",
    "            if f[-1][u][0] < min_cost:\n",
    "                min_cost = f[-1][u][0]\n",
    "                best_hop = u\n",
    "                \n",
    "        best_path = deque([best_hop])\n",
    "        for i in range(len(targetPath) - 1, 0, -1):\n",
    "            prev_hop = f[i][best_hop][1]\n",
    "            best_path.appendleft(prev_hop)\n",
    "            best_hop = prev_hop\n",
    "        return best_path"
   ]
  },
  {
   "cell_type": "code",
   "execution_count": 4,
   "metadata": {},
   "outputs": [
    {
     "data": {
      "text/plain": [
       "deque([0, 3, 0, 2])"
      ]
     },
     "execution_count": 4,
     "metadata": {},
     "output_type": "execute_result"
    }
   ],
   "source": [
    "instance = Solution()\n",
    "instance.mostSimilar(5, [[0,2],[0,3],[1,2],[1,3],[1,4],[2,4]], [\"ATL\",\"PEK\",\"LAX\",\"DXB\",\"HND\"], [\"ATL\",\"DXB\",\"HND\",\"LAX\"])"
   ]
  }
 ],
 "metadata": {
  "kernelspec": {
   "display_name": "Python 3",
   "language": "python",
   "name": "python3"
  },
  "language_info": {
   "codemirror_mode": {
    "name": "ipython",
    "version": 3
   },
   "file_extension": ".py",
   "mimetype": "text/x-python",
   "name": "python",
   "nbconvert_exporter": "python",
   "pygments_lexer": "ipython3",
   "version": "3.7.3"
  }
 },
 "nbformat": 4,
 "nbformat_minor": 2
}
