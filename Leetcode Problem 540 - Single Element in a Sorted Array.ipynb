{
 "cells": [
  {
   "cell_type": "markdown",
   "metadata": {},
   "source": [
    "Problem Statement.\n",
    "\n",
    "You are given a sorted array consisting of only integers where every element appears exactly twice, except for one element which appears exactly once.\n",
    "\n",
    "Return the single element that appears only once.\n",
    "\n",
    "Your solution must run in O(log n) time and O(1) space.\n",
    "\n",
    " \n",
    "\n",
    "Example 1:\n",
    "\n",
    "Input: nums = [1,1,2,3,3,4,4,8,8]\n",
    "Output: 2\n",
    "\n",
    "Example 2:\n",
    "\n",
    "Input: nums = [3,3,7,7,10,11,11]\n",
    "Output: 10\n",
    "\n",
    " \n",
    "\n",
    "Constraints:\n",
    "\n",
    "    1 <= nums.length <= 10^5\n",
    "    0 <= nums[i] <= 10^5"
   ]
  },
  {
   "cell_type": "markdown",
   "metadata": {},
   "source": [
    "# Binary Search - O(Log N) runtime , O(1) space"
   ]
  },
  {
   "cell_type": "code",
   "execution_count": 1,
   "metadata": {},
   "outputs": [],
   "source": [
    "from typing import List\n",
    "\n",
    "class Solution:\n",
    "    def singleNonDuplicate(self, nums: List[int]) -> int:\n",
    "        n = len(nums)   \n",
    "        \n",
    "        l, r = 0, n-1\n",
    "        while l <= r:\n",
    "            if l == r: return nums[l]\n",
    "            mid = l + (r - l) // 2\n",
    "            \n",
    "            if mid > 0 and nums[mid-1] == nums[mid]:\n",
    "                if mid % 2 == 0:\n",
    "                    r = mid - 2\n",
    "                else:\n",
    "                    l = mid + 1\n",
    "            elif mid < n-1 and nums[mid+1] == nums[mid]:\n",
    "                if mid % 2 == 0:\n",
    "                    l = mid + 2\n",
    "                else:\n",
    "                    r = mid - 1\n",
    "            else:\n",
    "                return nums[mid]"
   ]
  },
  {
   "cell_type": "markdown",
   "metadata": {},
   "source": [
    "# Simpler Binary Search - O(Log N) runtime , O(1) space"
   ]
  },
  {
   "cell_type": "code",
   "execution_count": 3,
   "metadata": {},
   "outputs": [],
   "source": [
    "class Solution:\n",
    "    def singleNonDuplicate(self, nums: List[int]) -> int:\n",
    "        n = len(nums)   \n",
    "        \n",
    "        lo, hi = 0, n-1\n",
    "        while lo < hi:\n",
    "            mid = lo + (hi - lo) // 2\n",
    "            \n",
    "            if mid % 2 == 1:\n",
    "                mid -= 1\n",
    "                \n",
    "            if nums[mid] == nums[mid + 1]:\n",
    "                lo = mid + 2\n",
    "            else:\n",
    "                hi = mid\n",
    "                \n",
    "        return nums[lo]"
   ]
  },
  {
   "cell_type": "code",
   "execution_count": 4,
   "metadata": {},
   "outputs": [
    {
     "data": {
      "text/plain": [
       "2"
      ]
     },
     "execution_count": 4,
     "metadata": {},
     "output_type": "execute_result"
    }
   ],
   "source": [
    "instance = Solution()\n",
    "instance.singleNonDuplicate([1,1,2,3,3,4,4,8,8])"
   ]
  }
 ],
 "metadata": {
  "kernelspec": {
   "display_name": "Python 3",
   "language": "python",
   "name": "python3"
  },
  "language_info": {
   "codemirror_mode": {
    "name": "ipython",
    "version": 3
   },
   "file_extension": ".py",
   "mimetype": "text/x-python",
   "name": "python",
   "nbconvert_exporter": "python",
   "pygments_lexer": "ipython3",
   "version": "3.7.3"
  }
 },
 "nbformat": 4,
 "nbformat_minor": 2
}
