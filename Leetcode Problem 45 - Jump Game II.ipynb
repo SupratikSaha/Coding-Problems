{
 "cells": [
  {
   "cell_type": "code",
   "execution_count": 4,
   "metadata": {},
   "outputs": [],
   "source": [
    "class Solution:\n",
    "    def jump(self, nums) -> int:\n",
    "        n = len(nums)\n",
    "        min_jumps = {0:0} \n",
    "        start_index = 0\n",
    "        for i in range(1,n):\n",
    "            while start_index + nums[start_index] < i:\n",
    "                start_index += 1\n",
    "            min_jumps[i] = min_jumps[start_index] + 1\n",
    "        return min_jumps[n-1]     "
   ]
  },
  {
   "cell_type": "code",
   "execution_count": 5,
   "metadata": {},
   "outputs": [
    {
     "data": {
      "text/plain": [
       "2"
      ]
     },
     "execution_count": 5,
     "metadata": {},
     "output_type": "execute_result"
    }
   ],
   "source": [
    "Instance = Solution()\n",
    "Instance.jump([2,3,1,1,4])"
   ]
  }
 ],
 "metadata": {
  "kernelspec": {
   "display_name": "Python 3",
   "language": "python",
   "name": "python3"
  },
  "language_info": {
   "codemirror_mode": {
    "name": "ipython",
    "version": 3
   },
   "file_extension": ".py",
   "mimetype": "text/x-python",
   "name": "python",
   "nbconvert_exporter": "python",
   "pygments_lexer": "ipython3",
   "version": "3.7.3"
  }
 },
 "nbformat": 4,
 "nbformat_minor": 2
}
