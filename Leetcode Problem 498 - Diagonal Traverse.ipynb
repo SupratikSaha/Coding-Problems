{
 "cells": [
  {
   "cell_type": "markdown",
   "metadata": {},
   "source": [
    "Problem Statement.\n",
    "\n",
    "Given an m x n matrix mat, return an array of all the elements of the array in a diagonal order.\n",
    "\n",
    " \n",
    "\n",
    "Example 1:\n",
    "\n",
    "Input: mat = [[1,2,3],[4,5,6],[7,8,9]]\n",
    "Output: [1,2,4,7,5,3,6,8,9]\n",
    "\n",
    "Example 2:\n",
    "\n",
    "Input: mat = [[1,2],[3,4]]\n",
    "Output: [1,2,3,4]\n",
    "\n",
    " \n",
    "\n",
    "Constraints:\n",
    "\n",
    "    m == mat.length\n",
    "    n == mat[i].length\n",
    "    1 <= m, n <= 104\n",
    "    1 <= m * n <= 104\n",
    "    -10^5 <= mat[i][j] <= 10^5"
   ]
  },
  {
   "cell_type": "markdown",
   "metadata": {},
   "source": [
    "# Two Loops - O(M * N) runtime, O(M * N) space"
   ]
  },
  {
   "cell_type": "code",
   "execution_count": 1,
   "metadata": {},
   "outputs": [],
   "source": [
    "from typing import List\n",
    "\n",
    "class Solution:\n",
    "    def findDiagonalOrder(self, mat: List[List[int]]) -> List[int]:\n",
    "        m, n = len(mat), len(mat[0])\n",
    "        res = []\n",
    "        \n",
    "        for s in range(m+n-1):\n",
    "            \n",
    "            rDiff = 1 if s % 2 else -1\n",
    "            cDiff = -1 if s % 2 else 1\n",
    "            \n",
    "            r = max(0, s-n+1) if s % 2 else min(s, m-1)\n",
    "            c = min(s, n-1) if s % 2 else max(0, s-m+1)\n",
    "            \n",
    "            while 0 <= r < m and 0 <= c < n:\n",
    "                res.append(mat[r][c])\n",
    "                r += rDiff\n",
    "                c += cDiff\n",
    "                    \n",
    "        return res"
   ]
  },
  {
   "cell_type": "markdown",
   "metadata": {},
   "source": [
    "# Simpler Logic - One Loop - O(M * N) runtime, O(M * N) space"
   ]
  },
  {
   "cell_type": "code",
   "execution_count": 5,
   "metadata": {},
   "outputs": [],
   "source": [
    "from typing import List\n",
    "\n",
    "class Solution:\n",
    "    def findDiagonalOrder(self, mat: List[List[int]]) -> List[int]:\n",
    "        m, n=len(mat),len(mat[0])\n",
    "        \n",
    "        r, c = 0, 0\n",
    "        res = []\n",
    "        for i in range(m*n):\n",
    "            res.append(mat[r][c])\n",
    "            if (r+c)%2==0:\n",
    "                #going up\n",
    "                if c==n-1:\n",
    "                    r+=1\n",
    "                elif r==0:\n",
    "                    c+=1\n",
    "                else:\n",
    "                    r-=1\n",
    "                    c+=1\n",
    "            else:\n",
    "                #going down\n",
    "                if r==m-1:\n",
    "                    c+=1\n",
    "                \n",
    "                elif c==0:\n",
    "                    r+=1    \n",
    "                else:\n",
    "                    r+=1\n",
    "                    c-=1\n",
    "        return res  "
   ]
  },
  {
   "cell_type": "code",
   "execution_count": 6,
   "metadata": {},
   "outputs": [
    {
     "data": {
      "text/plain": [
       "[1, 2, 4, 7, 5, 3, 6, 8, 9]"
      ]
     },
     "execution_count": 6,
     "metadata": {},
     "output_type": "execute_result"
    }
   ],
   "source": [
    "instance = Solution()\n",
    "instance.findDiagonalOrder([[1,2,3],[4,5,6],[7,8,9]])"
   ]
  }
 ],
 "metadata": {
  "kernelspec": {
   "display_name": "Python 3",
   "language": "python",
   "name": "python3"
  },
  "language_info": {
   "codemirror_mode": {
    "name": "ipython",
    "version": 3
   },
   "file_extension": ".py",
   "mimetype": "text/x-python",
   "name": "python",
   "nbconvert_exporter": "python",
   "pygments_lexer": "ipython3",
   "version": "3.7.3"
  }
 },
 "nbformat": 4,
 "nbformat_minor": 2
}
