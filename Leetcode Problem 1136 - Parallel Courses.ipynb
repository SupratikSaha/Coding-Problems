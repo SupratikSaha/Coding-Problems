{
 "cells": [
  {
   "cell_type": "markdown",
   "metadata": {},
   "source": [
    "Problem Statement.\n",
    "\n",
    "You are given an integer n which indicates that we have n courses, labeled from 1 to n. You are also given an array relations where relations[i] = [a, b], representing a prerequisite relationship between course a and course b: course a has to be studied before course b.\n",
    "\n",
    "In one semester, you can study any number of courses as long as you have studied all the prerequisites for the course you are studying.\n",
    "\n",
    "Return the minimum number of semesters needed to study all courses. If there is no way to study all the courses, return -1.\n",
    "\n",
    " \n",
    "\n",
    "Example 1:\n",
    "\n",
    "Input: n = 3, relations = [[1,3],[2,3]]\n",
    "Output: 2\n",
    "Explanation: In the first semester, courses 1 and 2 are studied. In the second semester, course 3 is studied.\n",
    "\n",
    "Example 2:\n",
    "\n",
    "Input: n = 3, relations = [[1,2],[2,3],[3,1]]\n",
    "Output: -1\n",
    "Explanation: No course can be studied because they depend on each other.\n",
    "\n",
    " \n",
    "\n",
    "Constraints:\n",
    "\n",
    "    1 <= n <= 5000\n",
    "    1 <= relations.length <= 5000\n",
    "    1 <= a, b <= n\n",
    "    a != b\n",
    "    All the pairs [a, b] are unique."
   ]
  },
  {
   "cell_type": "markdown",
   "metadata": {},
   "source": [
    "# Topological Traversal - BFS - O(V + E) runtime, (V + E) space"
   ]
  },
  {
   "cell_type": "code",
   "execution_count": 1,
   "metadata": {},
   "outputs": [],
   "source": [
    "from typing import List\n",
    "from collections import deque, defaultdict\n",
    "\n",
    "class Solution:\n",
    "    def minimumSemesters(self, n: int, relations: List[List[int]]) -> int:\n",
    "        graph = defaultdict(list)\n",
    "        indegree = {i: 0 for i in range(1, n+1)}\n",
    "        \n",
    "        for par, child in relations:\n",
    "            graph[par].append(child)\n",
    "            indegree[child] += 1\n",
    "            \n",
    "        queue = deque()\n",
    "        for i in range(1, n+1):\n",
    "            if indegree[i] == 0: \n",
    "                queue.append(i)\n",
    "    \n",
    "        courses = len(queue)\n",
    "        numSemesters = 0\n",
    "        \n",
    "        while queue:\n",
    "            queueLen = len(queue)\n",
    "            numSemesters += 1\n",
    "            for _ in range(queueLen):\n",
    "                parent = queue.popleft()\n",
    "                for child in graph[parent]:\n",
    "                    indegree[child] -= 1\n",
    "                    if indegree[child] == 0:\n",
    "                        queue.append(child)\n",
    "                        courses += 1\n",
    "                        \n",
    "        return numSemesters if courses == n else -1"
   ]
  },
  {
   "cell_type": "code",
   "execution_count": 2,
   "metadata": {},
   "outputs": [
    {
     "data": {
      "text/plain": [
       "2"
      ]
     },
     "execution_count": 2,
     "metadata": {},
     "output_type": "execute_result"
    }
   ],
   "source": [
    "instance = Solution()\n",
    "instance.minimumSemesters(3, [[1,3],[2,3]])"
   ]
  }
 ],
 "metadata": {
  "kernelspec": {
   "display_name": "Python 3",
   "language": "python",
   "name": "python3"
  },
  "language_info": {
   "codemirror_mode": {
    "name": "ipython",
    "version": 3
   },
   "file_extension": ".py",
   "mimetype": "text/x-python",
   "name": "python",
   "nbconvert_exporter": "python",
   "pygments_lexer": "ipython3",
   "version": "3.7.3"
  }
 },
 "nbformat": 4,
 "nbformat_minor": 2
}
