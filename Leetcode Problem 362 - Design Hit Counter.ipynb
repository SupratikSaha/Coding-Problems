{
 "cells": [
  {
   "cell_type": "markdown",
   "metadata": {},
   "source": [
    "    Problem Statement.\n",
    "\n",
    "    Design a hit counter which counts the number of hits received in the past 5 minutes.\n",
    "\n",
    "    Each function accepts a timestamp parameter (in seconds granularity) and you may assume that calls are being made to the system in chronological order (ie, the timestamp is monotonically increasing). You may assume that the earliest timestamp starts at 1.\n",
    "\n",
    "    It is possible that several hits arrive roughly at the same time.\n",
    "\n",
    "    Example:\n",
    "\n",
    "    HitCounter counter = new HitCounter();\n",
    "\n",
    "    // hit at timestamp 1.\n",
    "    counter.hit(1);\n",
    "\n",
    "    // hit at timestamp 2.\n",
    "    counter.hit(2);\n",
    "\n",
    "    // hit at timestamp 3.\n",
    "    counter.hit(3);\n",
    "\n",
    "    // get hits at timestamp 4, should return 3.\n",
    "    counter.getHits(4);\n",
    "\n",
    "    // hit at timestamp 300.\n",
    "    counter.hit(300);\n",
    "\n",
    "    // get hits at timestamp 300, should return 4.\n",
    "    counter.getHits(300);\n",
    "\n",
    "    // get hits at timestamp 301, should return 3.\n",
    "    counter.getHits(301); \n",
    "\n",
    "    Follow up:\n",
    "    What if the number of hits per second could be very large? Does your design scale?"
   ]
  },
  {
   "cell_type": "markdown",
   "metadata": {},
   "source": [
    "# Queue and Hash Table - O(1) and O(N) runtime for hit and getHits respectively, O(N) space"
   ]
  },
  {
   "cell_type": "code",
   "execution_count": 3,
   "metadata": {},
   "outputs": [],
   "source": [
    "from collections import defaultdict, deque\n",
    "\n",
    "class HitCounter:\n",
    "\n",
    "    def __init__(self):\n",
    "        \"\"\"\n",
    "        Initialize your data structure here.\n",
    "        \"\"\"\n",
    "        self.queue = deque()\n",
    "        self.dict = defaultdict(int)\n",
    "        self.count = 0\n",
    "        \n",
    "    def deleteOldHits(self, timestamp: int) -> None:\n",
    "        while self.queue and self.queue[0] <= timestamp - 300:\n",
    "            time = self.queue.popleft()\n",
    "            self.dict[time] -= 1\n",
    "            self.count -= 1\n",
    "        \n",
    "\n",
    "    def hit(self, timestamp: int) -> None:\n",
    "        \"\"\"\n",
    "        Record a hit.\n",
    "        @param timestamp - The current timestamp (in seconds granularity).\n",
    "        \"\"\" \n",
    "        self.queue.append(timestamp)\n",
    "        self.dict[timestamp] += 1\n",
    "        self.count += 1\n",
    "        \n",
    "\n",
    "    def getHits(self, timestamp: int) -> int:\n",
    "        \"\"\"\n",
    "        Return the number of hits in the past 5 minutes.\n",
    "        @param timestamp - The current timestamp (in seconds granularity).\n",
    "        \"\"\"\n",
    "        self.deleteOldHits(timestamp)\n",
    "        \n",
    "        return self.count"
   ]
  },
  {
   "cell_type": "markdown",
   "metadata": {},
   "source": [
    "# Pair value in Queue - O(1) and O(N) runtime for hit and getHits respectively, O(N) space"
   ]
  },
  {
   "cell_type": "code",
   "execution_count": 5,
   "metadata": {},
   "outputs": [],
   "source": [
    "from collections import deque\n",
    "\n",
    "class HitCounter:\n",
    "\n",
    "    def __init__(self):\n",
    "        \"\"\"\n",
    "        Initialize your data structure here.\n",
    "        \"\"\"\n",
    "        self.queue = deque()\n",
    "        self.count = 0\n",
    "        \n",
    "    def deleteOldHits(self, timestamp: int) -> None:\n",
    "        while self.queue and self.queue[0][0] <= timestamp - 300:\n",
    "            time, total = self.queue.popleft()\n",
    "            self.count -= total\n",
    "        \n",
    "\n",
    "    def hit(self, timestamp: int) -> None:\n",
    "        \"\"\"\n",
    "        Record a hit.\n",
    "        @param timestamp - The current timestamp (in seconds granularity).\n",
    "        \"\"\"   \n",
    "        if not self.queue or self.queue[-1][0] != timestamp:\n",
    "            self.queue.append([timestamp, 1])\n",
    "        else:\n",
    "             self.queue[-1][1] += 1Good point, we would have \n",
    "        \n",
    "        self.count += 1\n",
    "\n",
    "    def getHits(self, timestamp: int) -> int:\n",
    "        \"\"\"\n",
    "        Return the number of hits in the past 5 minutes.\n",
    "        @param timestamp - The current timestamp (in seconds granularity).\n",
    "        \"\"\"\n",
    "        self.deleteOldHits(timestamp)\n",
    "        \n",
    "        return self.count"
   ]
  },
  {
   "cell_type": "code",
   "execution_count": 6,
   "metadata": {},
   "outputs": [
    {
     "name": "stdout",
     "output_type": "stream",
     "text": [
      "3\n",
      "3\n"
     ]
    }
   ],
   "source": [
    "# Your HitCounter object will be instantiated and called as such:\n",
    "obj = HitCounter()\n",
    "obj.hit(1)\n",
    "obj.hit(2)\n",
    "obj.hit(3)\n",
    "print(obj.getHits(4))\n",
    "obj.hit(300)\n",
    "print(obj.getHits(301))"
   ]
  }
 ],
 "metadata": {
  "kernelspec": {
   "display_name": "Python 3",
   "language": "python",
   "name": "python3"
  },
  "language_info": {
   "codemirror_mode": {
    "name": "ipython",
    "version": 3
   },
   "file_extension": ".py",
   "mimetype": "text/x-python",
   "name": "python",
   "nbconvert_exporter": "python",
   "pygments_lexer": "ipython3",
   "version": "3.7.3"
  }
 },
 "nbformat": 4,
 "nbformat_minor": 2
}
