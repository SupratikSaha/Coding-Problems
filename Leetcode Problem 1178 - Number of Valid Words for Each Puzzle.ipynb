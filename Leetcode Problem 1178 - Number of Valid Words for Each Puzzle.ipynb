{
 "cells": [
  {
   "cell_type": "markdown",
   "metadata": {},
   "source": [
    "Problem Statement.\n",
    "\n",
    "With respect to a given puzzle string, a word is valid if both the following conditions are satisfied:\n",
    "\n",
    "    word contains the first letter of puzzle.\n",
    "    For each letter in word, that letter is in puzzle.\n",
    "        For example, if the puzzle is \"abcdefg\", then valid words are \"faced\", \"cabbage\", and \"baggage\", while\n",
    "        invalid words are \"beefed\" (does not include 'a') and \"based\" (includes 's' which is not in the puzzle).\n",
    "\n",
    "Return an array answer, where answer[i] is the number of words in the given word list words that is valid with respect to the puzzle puzzles[i].\n",
    "\n",
    " \n",
    "\n",
    "Example 1:\n",
    "\n",
    "Input: words = [\"aaaa\",\"asas\",\"able\",\"ability\",\"actt\",\"actor\",\"access\"], puzzles = [\"aboveyz\",\"abrodyz\",\"abslute\",\"absoryz\",\"actresz\",\"gaswxyz\"]\n",
    "Output: [1,1,3,2,4,0]\n",
    "Explanation: \n",
    "1 valid word for \"aboveyz\" : \"aaaa\" \n",
    "1 valid word for \"abrodyz\" : \"aaaa\"\n",
    "3 valid words for \"abslute\" : \"aaaa\", \"asas\", \"able\"\n",
    "2 valid words for \"absoryz\" : \"aaaa\", \"asas\"\n",
    "4 valid words for \"actresz\" : \"aaaa\", \"asas\", \"actt\", \"access\"\n",
    "There are no valid words for \"gaswxyz\" cause none of the words in the list contains letter 'g'.\n",
    "\n",
    "Example 2:\n",
    "\n",
    "Input: words = [\"apple\",\"pleas\",\"please\"], puzzles = [\"aelwxyz\",\"aelpxyz\",\"aelpsxy\",\"saelpxy\",\"xaelpsy\"]\n",
    "Output: [0,1,3,2,0]\n",
    "\n",
    " \n",
    "\n",
    "Constraints:\n",
    "\n",
    "    1 <= words.length <= 105\n",
    "    4 <= words[i].length <= 50\n",
    "    1 <= puzzles.length <= 104\n",
    "    puzzles[i].length == 7\n",
    "    words[i] and puzzles[i] consist of lowercase English letters.\n",
    "    Each puzzles[i] does not contain repeated characters."
   ]
  },
  {
   "cell_type": "markdown",
   "metadata": {},
   "source": [
    "# Combinations - O(W) runtime, O(W) space"
   ]
  },
  {
   "cell_type": "code",
   "execution_count": 2,
   "metadata": {},
   "outputs": [],
   "source": [
    "from typing import List\n",
    "from collections import Counter\n",
    "from itertools import combinations\n",
    "\n",
    "class Solution:\n",
    "    def findNumOfValidWords(self, words: List[str], puzzles: List[str]) -> List[int]:\n",
    "        count = Counter(frozenset(w) for w in words)\n",
    "        res = []\n",
    "        for p in puzzles:\n",
    "            cur = 0\n",
    "            for k in range(7):\n",
    "                for c in combinations(p[1:], k):\n",
    "                    cur += count[frozenset(tuple(p[0]) + c)]\n",
    "            res.append(cur)\n",
    "        return res"
   ]
  },
  {
   "cell_type": "markdown",
   "metadata": {},
   "source": [
    "# BFS - O(2 ^ 6 * P) = O(64 * P) runtime, O(1) space"
   ]
  },
  {
   "cell_type": "code",
   "execution_count": 4,
   "metadata": {},
   "outputs": [],
   "source": [
    "from typing import List\n",
    "from collections import Counter\n",
    "\n",
    "class Solution:\n",
    "    def findNumOfValidWords(self, words: List[str], puzzles: List[str]) -> List[int]:\n",
    "        count = Counter(frozenset(w) for w in words)\n",
    "        res = []\n",
    "        for p in puzzles:\n",
    "            subs = [p[0]]\n",
    "            for c in p[1:]:\n",
    "                subs += [s + c for s in subs]\n",
    "            res.append(sum(count[frozenset(s)] for s in subs))\n",
    "        return res"
   ]
  },
  {
   "cell_type": "code",
   "execution_count": 5,
   "metadata": {},
   "outputs": [
    {
     "data": {
      "text/plain": [
       "[0, 1, 3, 2, 0]"
      ]
     },
     "execution_count": 5,
     "metadata": {},
     "output_type": "execute_result"
    }
   ],
   "source": [
    "instance = Solution()\n",
    "instance.findNumOfValidWords([\"apple\",\"pleas\",\"please\"], [\"aelwxyz\",\"aelpxyz\",\"aelpsxy\",\"saelpxy\",\"xaelpsy\"])"
   ]
  }
 ],
 "metadata": {
  "kernelspec": {
   "display_name": "Python 3",
   "language": "python",
   "name": "python3"
  },
  "language_info": {
   "codemirror_mode": {
    "name": "ipython",
    "version": 3
   },
   "file_extension": ".py",
   "mimetype": "text/x-python",
   "name": "python",
   "nbconvert_exporter": "python",
   "pygments_lexer": "ipython3",
   "version": "3.7.3"
  }
 },
 "nbformat": 4,
 "nbformat_minor": 2
}
