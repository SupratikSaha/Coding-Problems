{
 "cells": [
  {
   "cell_type": "markdown",
   "metadata": {},
   "source": [
    "Problem Statement. <br/>\n",
    "\n",
    "A Range Module is a module that tracks ranges of numbers. Your task is to design and implement the following interfaces in an efficient manner. <br/>\n",
    "addRange(int left, int right) Adds the half-open interval [left, right), tracking every real number in that interval. Adding an interval that partially overlaps with currently tracked numbers should add any numbers in the interval [left, right) that are not already tracked. <br/>\n",
    "queryRange(int left, int right) Returns true if and only if every real number in the interval [left, right) is currently being tracked. <br/>\n",
    "removeRange(int left, int right) Stops tracking every real number currently being tracked in the interval [left, right). <br/>\n",
    "\n",
    "Example 1: <br/>\n",
    "addRange(10, 20): null <br/>\n",
    "removeRange(14, 16): null <br/>\n",
    "queryRange(10, 14): true (Every number in [10, 14) is being tracked) <br/>\n",
    "queryRange(13, 15): false (Numbers like 14, 14.03, 14.17 in [13, 15) are not being tracked) <br/>\n",
    "queryRange(16, 17): true (The number 16 in [16, 17) is still being tracked, despite the remove operation) <br/>\n",
    "\n",
    "Note: <br/>\n",
    "A half open interval [left, right) denotes all real numbers left <= x < right. <br/> <br/>\n",
    "0 < left < right < 10^9 in all calls to addRange, queryRange, removeRange. <br/>\n",
    "The total number of calls to addRange in a single test case is at most 1000. <br/>\n",
    "The total number of calls to queryRange in a single test case is at most 5000. <br/>\n",
    "The total number of calls to removeRange in a single test case is at most 1000."
   ]
  },
  {
   "cell_type": "markdown",
   "metadata": {},
   "source": [
    "# Linear Search- addRange, queryRange, removeRange - O(N ^ 2), O(N), O(N ^ 2) runtime, O(N) space"
   ]
  },
  {
   "cell_type": "code",
   "execution_count": 1,
   "metadata": {},
   "outputs": [],
   "source": [
    "class RangeModule:\n",
    "\n",
    "    def __init__(self):\n",
    "        self.ranges = []\n",
    "        \n",
    "    def addRange(self, left: int, right: int) -> None:\n",
    "        if not self.ranges:\n",
    "            self.ranges.append([left, right])\n",
    "            return\n",
    "            \n",
    "        for i, curr in enumerate(self.ranges):\n",
    "            if right <= curr[0]:\n",
    "                self.ranges.insert(i, [left, right])\n",
    "                break\n",
    "            if (left >= curr[0] and left <= curr[1]) or (right > curr[0] and right <= curr[1]) or (left<= curr[0] and right >= curr[1]):\n",
    "                curr[0] = min(curr[0], left)\n",
    "                curr[1] = max(curr[1], right)\n",
    "                break\n",
    "        \n",
    "        n = len(self.ranges)\n",
    "        if i == n - 1 and self.ranges[i][1] < right:\n",
    "            self.ranges.append([left, right])\n",
    "            return\n",
    "        \n",
    "        prev = self.ranges[i]\n",
    "        markedForDeletion = []\n",
    "        for j in range(i+1, n):\n",
    "            curr = self.ranges[j]\n",
    "            if curr[0] > prev[1]:\n",
    "                prev = curr\n",
    "                continue\n",
    "            else:\n",
    "                prev[0] = min(prev[0], curr[0])\n",
    "                prev[1] = max(prev[1], curr[1])\n",
    "                markedForDeletion.append(curr)\n",
    "                \n",
    "        for curr in markedForDeletion:\n",
    "            self.ranges.remove(curr)\n",
    "                \n",
    "    def queryRange(self, left: int, right: int) -> bool:\n",
    "        for i, curr in enumerate(self.ranges):\n",
    "            if right <= curr[0]:\n",
    "                return False\n",
    "            if left >= curr[0] and right <= curr[1]:\n",
    "                return True\n",
    "            \n",
    "        return False\n",
    "\n",
    "    def removeRange(self, left: int, right: int) -> None:\n",
    "        if not self.ranges:\n",
    "            return\n",
    "        \n",
    "        markedForDeletion = []\n",
    "        for i, curr in enumerate(self.ranges):\n",
    "            if left <= curr[0] and right >= curr[1]:\n",
    "                markedForDeletion.append(curr)\n",
    "                continue\n",
    "            if left >= curr[0] and right <= curr[1]:\n",
    "                if right < curr[1]:\n",
    "                    self.ranges.insert(i+1, [right, curr[1]])\n",
    "                if curr[0] == left:\n",
    "                    markedForDeletion.append(curr)\n",
    "                else:\n",
    "                    curr[1] = left\n",
    "                break\n",
    "            if left >= curr[0] and left < curr[1]:\n",
    "                curr[1] = left\n",
    "            if right > curr[0] and right <= curr[1]:\n",
    "                curr[0] = right\n",
    "            if right <= curr[0]:\n",
    "                break\n",
    "                \n",
    "        for curr in markedForDeletion:\n",
    "            self.ranges.remove(curr)"
   ]
  },
  {
   "cell_type": "markdown",
   "metadata": {},
   "source": [
    "# Binary Search - addRange, queryRange, removeRange - O(N), O(log N), O(N) runtime, O(N) space"
   ]
  },
  {
   "cell_type": "code",
   "execution_count": 2,
   "metadata": {},
   "outputs": [],
   "source": [
    "from typing import Tuple\n",
    "import bisect\n",
    "\n",
    "class RangeModule:\n",
    "\n",
    "    def __init__(self):\n",
    "        self.track = []\n",
    "        \n",
    "    def addRange(self, left: int, right: int) -> None:\n",
    "        start = bisect.bisect_left(self.track, left)\n",
    "        end = bisect.bisect_right(self.track, right)\n",
    "        \n",
    "        subtrack = []\n",
    "        if start % 2 == 0:\n",
    "            subtrack.append(left)\n",
    "        if end % 2 == 0:\n",
    "            subtrack.append(right)\n",
    "\n",
    "        self.track[start:end] = subtrack\n",
    "                \n",
    "    def queryRange(self, left: int, right: int) -> bool:\n",
    "        start = bisect.bisect_right(self.track, left)\n",
    "        end = bisect.bisect_left(self.track, right)\n",
    "\n",
    "        return start == end and start % 2 == 1\n",
    "\n",
    "    def removeRange(self, left: int, right: int) -> None:\n",
    "        start = bisect.bisect_left(self.track, left)\n",
    "        end = bisect.bisect_right(self.track, right)\n",
    "        \n",
    "        subtrack = []\n",
    "        if start % 2 == 1:\n",
    "            subtrack.append(left)\n",
    "        if end % 2 == 1:\n",
    "            subtrack.append(right)\n",
    "\n",
    "        self.track[start:end] = subtrack"
   ]
  },
  {
   "cell_type": "code",
   "execution_count": 3,
   "metadata": {},
   "outputs": [
    {
     "name": "stdout",
     "output_type": "stream",
     "text": [
      "True\n",
      "False\n",
      "True\n"
     ]
    }
   ],
   "source": [
    "instance = RangeModule()\n",
    "instance.addRange(10, 20)\n",
    "instance.removeRange(14, 16)\n",
    "print(instance.queryRange(10, 14))\n",
    "print(instance.queryRange(13, 15))\n",
    "print(instance.queryRange(16, 17))"
   ]
  }
 ],
 "metadata": {
  "kernelspec": {
   "display_name": "Python 3",
   "language": "python",
   "name": "python3"
  },
  "language_info": {
   "codemirror_mode": {
    "name": "ipython",
    "version": 3
   },
   "file_extension": ".py",
   "mimetype": "text/x-python",
   "name": "python",
   "nbconvert_exporter": "python",
   "pygments_lexer": "ipython3",
   "version": "3.7.3"
  }
 },
 "nbformat": 4,
 "nbformat_minor": 2
}
