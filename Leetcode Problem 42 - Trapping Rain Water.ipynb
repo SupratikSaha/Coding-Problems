{
 "cells": [
  {
   "cell_type": "code",
   "execution_count": 1,
   "metadata": {},
   "outputs": [],
   "source": [
    "class Solution:\n",
    "    def trap(self, height ) -> int:   \n",
    "        \n",
    "        if height == []:\n",
    "            return 0\n",
    "            \n",
    "        water = 0\n",
    "        size = len(height)\n",
    "        left_max = [None] * size\n",
    "        right_max = [None] * size\n",
    "    \n",
    "        left_max[0] = height[0]      \n",
    "        i = 1\n",
    "        \n",
    "        while i < size:\n",
    "            left_max[i] = max(height[i], left_max[i - 1])\n",
    "            i +=1\n",
    "            \n",
    "        right_max[size - 1] = height[size - 1];\n",
    "        i = size - 2\n",
    "        \n",
    "        while i >= 0:\n",
    "            right_max[i] = max(height[i], right_max[i + 1])\n",
    "            i -=1\n",
    "          \n",
    "        i = 1\n",
    "        while i < size - 1:\n",
    "            water += min(left_max[i], right_max[i]) - height[i]    \n",
    "            i +=1\n",
    "        \n",
    "        return water"
   ]
  },
  {
   "cell_type": "code",
   "execution_count": 2,
   "metadata": {},
   "outputs": [
    {
     "data": {
      "text/plain": [
       "6"
      ]
     },
     "execution_count": 2,
     "metadata": {},
     "output_type": "execute_result"
    }
   ],
   "source": [
    "instance = Solution()\n",
    "instance.trap([0,1,0,2,1,0,1,3,2,1,2,1])"
   ]
  }
 ],
 "metadata": {
  "kernelspec": {
   "display_name": "Python 3",
   "language": "python",
   "name": "python3"
  },
  "language_info": {
   "codemirror_mode": {
    "name": "ipython",
    "version": 3
   },
   "file_extension": ".py",
   "mimetype": "text/x-python",
   "name": "python",
   "nbconvert_exporter": "python",
   "pygments_lexer": "ipython3",
   "version": "3.7.3"
  }
 },
 "nbformat": 4,
 "nbformat_minor": 2
}
