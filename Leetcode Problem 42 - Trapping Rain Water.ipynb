{
 "cells": [
  {
   "cell_type": "markdown",
   "metadata": {},
   "source": [
    "Problem Statement.\n",
    "\n",
    "Given n non-negative integers representing an elevation map where the width of each bar is 1, compute how much water it can trap after raining.\n",
    "\n",
    " \n",
    "\n",
    "Example 1:\n",
    "\n",
    "Input: height = [0,1,0,2,1,0,1,3,2,1,2,1]\n",
    "Output: 6\n",
    "Explanation: The above elevation map (black section) is represented by array [0,1,0,2,1,0,1,3,2,1,2,1]. In this case, 6 units of rain water (blue section) are being trapped.\n",
    "\n",
    "Example 2:\n",
    "\n",
    "Input: height = [4,2,0,3,2,5]\n",
    "Output: 9\n",
    "\n",
    " \n",
    "\n",
    "Constraints:\n",
    "\n",
    "    n == height.length\n",
    "    0 <= n <= 3 * 104\n",
    "    0 <= height[i] <= 105"
   ]
  },
  {
   "cell_type": "markdown",
   "metadata": {},
   "source": [
    "# Array - 3 passes - O(N) runtime, O(N) space"
   ]
  },
  {
   "cell_type": "code",
   "execution_count": 1,
   "metadata": {},
   "outputs": [],
   "source": [
    "class Solution:\n",
    "    def trap(self, height ) -> int:   \n",
    "        \n",
    "        if height == []:\n",
    "            return 0\n",
    "            \n",
    "        water = 0\n",
    "        size = len(height)\n",
    "        left_max = [None] * size\n",
    "        right_max = [None] * size\n",
    "    \n",
    "        left_max[0] = height[0]      \n",
    "        i = 1\n",
    "        \n",
    "        while i < size:\n",
    "            left_max[i] = max(height[i], left_max[i - 1])\n",
    "            i +=1\n",
    "            \n",
    "        right_max[size - 1] = height[size - 1];\n",
    "        i = size - 2\n",
    "        \n",
    "        while i >= 0:\n",
    "            right_max[i] = max(height[i], right_max[i + 1])\n",
    "            i -=1\n",
    "          \n",
    "        i = 1\n",
    "        while i < size - 1:\n",
    "            water += min(left_max[i], right_max[i]) - height[i]    \n",
    "            i +=1\n",
    "        \n",
    "        return water"
   ]
  },
  {
   "cell_type": "markdown",
   "metadata": {},
   "source": [
    "# Two Pointers - One Pass - O(N) runtime, O(N) space"
   ]
  },
  {
   "cell_type": "code",
   "execution_count": 2,
   "metadata": {},
   "outputs": [],
   "source": [
    "from typing import List\n",
    "\n",
    "class Solution:\n",
    "    def trap(self, height: List[int]) -> int:\n",
    "        maxL = maxR = 0\n",
    "        left, right = 0, len(height) - 1\n",
    "        water = 0\n",
    "        \n",
    "        while left < right:\n",
    "            if height[left] > height[right]:\n",
    "                if height[right] > maxR:\n",
    "                    maxR = height[right]\n",
    "                else:\n",
    "                    water += maxR - height[right]\n",
    "                right -= 1\n",
    "            else:\n",
    "                if height[left] > maxL:\n",
    "                    maxL = height[left]\n",
    "                else:\n",
    "                    water += maxL - height[left]\n",
    "                left += 1\n",
    "        \n",
    "        return water"
   ]
  },
  {
   "cell_type": "markdown",
   "metadata": {},
   "source": [
    "# Stack - One Pass - O(N) runtime, O(N) space"
   ]
  },
  {
   "cell_type": "code",
   "execution_count": 3,
   "metadata": {},
   "outputs": [],
   "source": [
    "from typing import List\n",
    "\n",
    "class Solution:\n",
    "    def trap(self, height: List[int]) -> int:\n",
    "        monotonicLeftWall = [(-1, 0)]  # dummy item assuming an initial left wall with height 0 (idx, height)\n",
    "        water = 0\n",
    "        for rightIdx, rightH in enumerate(height):\n",
    "            while len(monotonicLeftWall) != 1:           # break when the monotonic stack has only the dummy element left, or\n",
    "                if monotonicLeftWall[-1][1] > rightH:    # all tailing elements <= rightH have been popped out\n",
    "                    break\n",
    "                _, bottomH = monotonicLeftWall.pop()\n",
    "                waterH = min(monotonicLeftWall[-1][1], rightH) - bottomH\n",
    "                if waterH > 0:\n",
    "                    waterW = rightIdx - monotonicLeftWall[-1][0] - 1\n",
    "                    water += waterH * waterW\n",
    "            monotonicLeftWall.append((rightIdx, rightH))\n",
    "        return water"
   ]
  },
  {
   "cell_type": "code",
   "execution_count": 4,
   "metadata": {},
   "outputs": [
    {
     "data": {
      "text/plain": [
       "6"
      ]
     },
     "execution_count": 4,
     "metadata": {},
     "output_type": "execute_result"
    }
   ],
   "source": [
    "instance = Solution()\n",
    "instance.trap([0,1,0,2,1,0,1,3,2,1,2,1])"
   ]
  }
 ],
 "metadata": {
  "kernelspec": {
   "display_name": "Python 3",
   "language": "python",
   "name": "python3"
  },
  "language_info": {
   "codemirror_mode": {
    "name": "ipython",
    "version": 3
   },
   "file_extension": ".py",
   "mimetype": "text/x-python",
   "name": "python",
   "nbconvert_exporter": "python",
   "pygments_lexer": "ipython3",
   "version": "3.7.3"
  }
 },
 "nbformat": 4,
 "nbformat_minor": 2
}
