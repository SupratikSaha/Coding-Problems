{
 "cells": [
  {
   "cell_type": "markdown",
   "metadata": {},
   "source": [
    "Problem Statement.\n",
    "\n",
    "An integer x is a good if after rotating each digit individually by 180 degrees, we get a valid number that is different from x. Each digit must be rotated - we cannot choose to leave it alone.\n",
    "\n",
    "A number is valid if each digit remains a digit after rotation. For example:\n",
    "\n",
    "    0, 1, and 8 rotate to themselves,\n",
    "    2 and 5 rotate to each other (in this case they are rotated in a different direction, in other words, 2 or 5 gets mirrored),\n",
    "    6 and 9 rotate to each other, and\n",
    "    the rest of the numbers do not rotate to any other number and become invalid.\n",
    "\n",
    "Given an integer n, return the number of good integers in the range [1, n].\n",
    "\n",
    " \n",
    "\n",
    "Example 1:\n",
    "\n",
    "Input: n = 10\n",
    "Output: 4\n",
    "Explanation: There are four good numbers in the range [1, 10] : 2, 5, 6, 9.\n",
    "Note that 1 and 10 are not good numbers, since they remain unchanged after rotating.\n",
    "\n",
    "Example 2:\n",
    "\n",
    "Input: n = 1\n",
    "Output: 0\n",
    "\n",
    "Example 3:\n",
    "\n",
    "Input: n = 2\n",
    "Output: 1\n",
    "\n",
    " \n",
    "\n",
    "Constraints:\n",
    "\n",
    "    1 <= n <= 10^4"
   ]
  },
  {
   "cell_type": "markdown",
   "metadata": {},
   "source": [
    "# HashMap - N * Log(N) runtime, O(Log N) space"
   ]
  },
  {
   "cell_type": "code",
   "execution_count": 1,
   "metadata": {},
   "outputs": [],
   "source": [
    "class Solution:\n",
    "    def rotatedDigits(self, n: int) -> int:\n",
    "        rotateDict = {\"0\": \"0\",\"1\": \"1\",\"2\": \"5\",\"5\": \"2\",\"6\": \"9\",\"8\": \"8\",\"9\": \"6\"}\n",
    "        \n",
    "        def isValid(num):\n",
    "            numList = list(str(num))\n",
    "            length = len(numList)\n",
    "            res = [\"\"] * length\n",
    "            \n",
    "            for i in range(length):\n",
    "                if numList[i] not in rotateDict: return False\n",
    "                res[i] = rotateDict[numList[i]]\n",
    "\n",
    "            return int(\"\".join(res)) != num\n",
    "    \n",
    "        return sum(1 for num in range(1, n+1) if isValid(num))"
   ]
  },
  {
   "cell_type": "markdown",
   "metadata": {},
   "source": [
    "# Simpler HashSet - N * Log(N) runtime, O(1) space"
   ]
  },
  {
   "cell_type": "code",
   "execution_count": 3,
   "metadata": {},
   "outputs": [],
   "source": [
    "class Solution:\n",
    "    def rotatedDigits(self, n: int) -> int:\n",
    "        s1 = {0, 1, 8}\n",
    "        s2 = {0, 1, 8, 2, 5, 6, 9}\n",
    "        \n",
    "        def isGood(x):\n",
    "            s = {int(i) for i in str(x)}\n",
    "            return s.issubset(s2) and not s.issubset(s1)\n",
    "        \n",
    "        return sum(isGood(i) for i in range(1, n + 1))"
   ]
  },
  {
   "cell_type": "markdown",
   "metadata": {},
   "source": [
    "# Faster but very difficult - O(Log N) runtime, O(1) space"
   ]
  },
  {
   "cell_type": "code",
   "execution_count": 5,
   "metadata": {},
   "outputs": [],
   "source": [
    "class Solution:\n",
    "    def rotatedDigits(self, n: int) -> int:\n",
    "        s1 = {0, 1, 8}\n",
    "        s2 = {0, 1, 8, 2, 5, 6, 9}\n",
    "        s = set()\n",
    "        res = 0\n",
    "        numList = list(map(int, str(n)))\n",
    "        length = len(numList)\n",
    "        \n",
    "        for i, v in enumerate(numList):\n",
    "            \n",
    "            for j in range(v):\n",
    "                if s.issubset(s2) and j in s2:\n",
    "                    res += 7**(length - i - 1)\n",
    "                if s.issubset(s1) and j in s1:\n",
    "                    res -= 3**(length - i - 1)\n",
    "                    \n",
    "            if v not in s2: return res        \n",
    "            s.add(v)\n",
    "            \n",
    "        return res + (s.issubset(s2) and not s.issubset(s1))"
   ]
  },
  {
   "cell_type": "code",
   "execution_count": 6,
   "metadata": {},
   "outputs": [
    {
     "data": {
      "text/plain": [
       "4"
      ]
     },
     "execution_count": 6,
     "metadata": {},
     "output_type": "execute_result"
    }
   ],
   "source": [
    "instance = Solution()\n",
    "instance.rotatedDigits(10)"
   ]
  }
 ],
 "metadata": {
  "kernelspec": {
   "display_name": "Python 3",
   "language": "python",
   "name": "python3"
  },
  "language_info": {
   "codemirror_mode": {
    "name": "ipython",
    "version": 3
   },
   "file_extension": ".py",
   "mimetype": "text/x-python",
   "name": "python",
   "nbconvert_exporter": "python",
   "pygments_lexer": "ipython3",
   "version": "3.7.3"
  }
 },
 "nbformat": 4,
 "nbformat_minor": 2
}
