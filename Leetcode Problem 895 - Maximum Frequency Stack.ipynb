{
 "cells": [
  {
   "cell_type": "markdown",
   "metadata": {},
   "source": [
    "Problem Statement.\n",
    "\n",
    "Design a stack-like data structure to push elements to the stack and pop the most frequent element from the stack.\n",
    "\n",
    "Implement the FreqStack class:\n",
    "\n",
    "    FreqStack() constructs an empty frequency stack.\n",
    "    void push(int val) pushes an integer val onto the top of the stack.\n",
    "    int pop() removes and returns the most frequent element in the stack.\n",
    "        If there is a tie for the most frequent element, the element closest to the stack's top is removed and returned.\n",
    "\n",
    " \n",
    "\n",
    "Example 1:\n",
    "\n",
    "Input\n",
    "[\"FreqStack\", \"push\", \"push\", \"push\", \"push\", \"push\", \"push\", \"pop\", \"pop\", \"pop\", \"pop\"]\n",
    "[[], [5], [7], [5], [7], [4], [5], [], [], [], []]\n",
    "Output\n",
    "[null, null, null, null, null, null, null, 5, 7, 5, 4]\n",
    "\n",
    "Explanation\n",
    "FreqStack freqStack = new FreqStack();\n",
    "freqStack.push(5); // The stack is [5]\n",
    "freqStack.push(7); // The stack is [5,7]\n",
    "freqStack.push(5); // The stack is [5,7,5]\n",
    "freqStack.push(7); // The stack is [5,7,5,7]\n",
    "freqStack.push(4); // The stack is [5,7,5,7,4]\n",
    "freqStack.push(5); // The stack is [5,7,5,7,4,5]\n",
    "freqStack.pop();   // return 5, as 5 is the most frequent. The stack becomes [5,7,5,7,4].\n",
    "freqStack.pop();   // return 7, as 5 and 7 is the most frequent, but 7 is closest to the top. The stack becomes [5,7,5,4].\n",
    "freqStack.pop();   // return 5, as 5 is the most frequent. The stack becomes [5,7,4].\n",
    "freqStack.pop();   // return 4, as 4, 5 and 7 is the most frequent, but 4 is closest to the top. The stack becomes [5,7].\n",
    "\n",
    " \n",
    "\n",
    "Constraints:\n",
    "\n",
    "    0 <= val <= 10^9\n",
    "    At most 2 * 10^4 calls will be made to push and pop.\n",
    "    It is guaranteed that there will be at least one element in the stack before calling pop."
   ]
  },
  {
   "cell_type": "markdown",
   "metadata": {},
   "source": [
    "# HashMaps - O(1) runtime, O(N) space"
   ]
  },
  {
   "cell_type": "code",
   "execution_count": 1,
   "metadata": {},
   "outputs": [],
   "source": [
    "from collections import defaultdict\n",
    "\n",
    "class FreqStack:\n",
    "    def __init__(self):\n",
    "        self.freq = defaultdict(int)\n",
    "        self.group = defaultdict(list)\n",
    "        self.maxfreq = 0  \n",
    "\n",
    "    def push(self, val: int) -> None:\n",
    "        self.freq[val] += 1\n",
    "        f = self.freq[val]\n",
    "        if f > self.maxfreq: self.maxfreq = f\n",
    "        self.group[f].append(val)\n",
    "            \n",
    "    def pop(self) -> int:\n",
    "        val = self.group[self.maxfreq].pop()\n",
    "        self.freq[val] -= 1\n",
    "        if not self.group[self.maxfreq]: self.maxfreq -= 1\n",
    "\n",
    "        return val"
   ]
  }
 ],
 "metadata": {
  "kernelspec": {
   "display_name": "Python 3",
   "language": "python",
   "name": "python3"
  },
  "language_info": {
   "codemirror_mode": {
    "name": "ipython",
    "version": 3
   },
   "file_extension": ".py",
   "mimetype": "text/x-python",
   "name": "python",
   "nbconvert_exporter": "python",
   "pygments_lexer": "ipython3",
   "version": "3.7.3"
  }
 },
 "nbformat": 4,
 "nbformat_minor": 2
}
