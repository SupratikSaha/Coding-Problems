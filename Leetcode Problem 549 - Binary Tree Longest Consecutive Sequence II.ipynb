{
 "cells": [
  {
   "cell_type": "markdown",
   "metadata": {},
   "source": [
    "Problem Statement.\n",
    "\n",
    "Given the root of a binary tree, return the length of the longest consecutive path in the tree.\n",
    "\n",
    "This path can be either increasing or decreasing.\n",
    "\n",
    "    For example, [1,2,3,4] and [4,3,2,1] are both considered valid, but the path [1,2,4,3] is not valid.\n",
    "\n",
    "On the other hand, the path can be in the child-Parent-child order, where not necessarily be parent-child order.\n",
    "\n",
    " \n",
    "\n",
    "Example 1:\n",
    "\n",
    "Input: root = [1,2,3]\n",
    "Output: 2\n",
    "Explanation: The longest consecutive path is [1, 2] or [2, 1].\n",
    "\n",
    "Example 2:\n",
    "\n",
    "Input: root = [2,1,3]\n",
    "Output: 3\n",
    "Explanation: The longest consecutive path is [1, 2, 3] or [3, 2, 1].\n",
    "\n",
    " \n",
    "\n",
    "Constraints:\n",
    "\n",
    "    The number of nodes in the tree is in the range [1, 3 * 104].\n",
    "    -3 * 104 <= Node.val <= 3 * 104"
   ]
  },
  {
   "cell_type": "markdown",
   "metadata": {},
   "source": [
    "# DFS - O(N) runtime, O(N) space"
   ]
  },
  {
   "cell_type": "code",
   "execution_count": 2,
   "metadata": {},
   "outputs": [],
   "source": [
    "from typing import Tuple\n",
    "\n",
    "class TreeNode:\n",
    "    def __init__(self, val=0, left=None, right=None):\n",
    "        self.val = val\n",
    "        self.left = left\n",
    "        self.right = right\n",
    "\n",
    "class Solution:\n",
    "    def longestConsecutive(self, root: TreeNode) -> int:\n",
    "        self.maxLength = 0\n",
    "        self.longestConsecutiveRecursive(root)\n",
    "        return self.maxLength\n",
    "    \n",
    "    def longestConsecutiveRecursive(self, root: TreeNode) -> Tuple[int, int]:\n",
    "        if not root:\n",
    "            return 0, 0\n",
    "        \n",
    "        inr, dcr = 1, 1\n",
    "        if root.left:\n",
    "            l = self.longestConsecutiveRecursive(root.left)\n",
    "            if root.val == root.left.val + 1:\n",
    "                dcr = l[1] + 1\n",
    "            elif root.val == root.left.val - 1:\n",
    "                inr = l[0] + 1\n",
    "                \n",
    "        if root.right:\n",
    "            r = self.longestConsecutiveRecursive(root.right)\n",
    "            if root.val == root.right.val + 1:\n",
    "                dcr = max(dcr, r[1] + 1)\n",
    "            elif root.val == root.right.val - 1:\n",
    "                inr = max(inr, r[0] + 1)\n",
    "                \n",
    "        self.maxLength = max(self.maxLength, dcr + inr - 1)\n",
    "        return inr, dcr"
   ]
  }
 ],
 "metadata": {
  "kernelspec": {
   "display_name": "Python 3",
   "language": "python",
   "name": "python3"
  },
  "language_info": {
   "codemirror_mode": {
    "name": "ipython",
    "version": 3
   },
   "file_extension": ".py",
   "mimetype": "text/x-python",
   "name": "python",
   "nbconvert_exporter": "python",
   "pygments_lexer": "ipython3",
   "version": "3.7.3"
  }
 },
 "nbformat": 4,
 "nbformat_minor": 2
}
