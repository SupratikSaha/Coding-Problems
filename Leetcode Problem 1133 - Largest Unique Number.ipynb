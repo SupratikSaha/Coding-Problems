{
 "cells": [
  {
   "cell_type": "markdown",
   "metadata": {},
   "source": [
    "Problem Statement.\n",
    "\n",
    "Given an array of integers A, return the largest integer that only occurs once.\n",
    "\n",
    "If no integer occurs once, return -1.\n",
    "\n",
    " \n",
    "\n",
    "Example 1:\n",
    "\n",
    "Input: [5,7,3,9,4,9,8,3,1]\n",
    "Output: 8\n",
    "Explanation: \n",
    "The maximum integer in the array is 9 but it is repeated. The number 8 occurs only once, so it's the answer.\n",
    "\n",
    "Example 2:\n",
    "\n",
    "Input: [9,9,8,8]\n",
    "Output: -1\n",
    "Explanation: \n",
    "There is no number that occurs only once.\n",
    "\n",
    " \n",
    "\n",
    "Note:\n",
    "\n",
    "    1 <= A.length <= 2000\n",
    "    0 <= A[i] <= 1000"
   ]
  },
  {
   "cell_type": "markdown",
   "metadata": {},
   "source": [
    "# Two HashSets - O(N) runtime, O(N) space"
   ]
  },
  {
   "cell_type": "code",
   "execution_count": 1,
   "metadata": {},
   "outputs": [],
   "source": [
    "from typing import List\n",
    "\n",
    "class Solution:\n",
    "    def largestUniqueNumber(self, A: List[int]) -> int:\n",
    "        uniqueNumSet = set()\n",
    "        nonUniqueNumSet= set()\n",
    "        \n",
    "        for num in A:\n",
    "            if num in nonUniqueNumSet: continue\n",
    "            elif num in uniqueNumSet:\n",
    "                uniqueNumSet.remove(num)\n",
    "                nonUniqueNumSet.add(num)\n",
    "            else:\n",
    "                uniqueNumSet.add(num)\n",
    "                \n",
    "        return max(uniqueNumSet) if uniqueNumSet else -1"
   ]
  },
  {
   "cell_type": "markdown",
   "metadata": {},
   "source": [
    "# HashTable - O(N) runtime, O(N) space"
   ]
  },
  {
   "cell_type": "code",
   "execution_count": 5,
   "metadata": {},
   "outputs": [],
   "source": [
    "from typing import List\n",
    "from collections import Counter\n",
    "\n",
    "class Solution:\n",
    "    def largestUniqueNumber(self, A: List[int]) -> int:\n",
    "        counter = Counter(A)\n",
    "        maxVal = -1\n",
    "        \n",
    "        for k, v in counter.items():\n",
    "            if v == 1 and k > maxVal:\n",
    "                maxVal = k\n",
    "                \n",
    "        return maxVal"
   ]
  },
  {
   "cell_type": "code",
   "execution_count": 6,
   "metadata": {},
   "outputs": [
    {
     "data": {
      "text/plain": [
       "8"
      ]
     },
     "execution_count": 6,
     "metadata": {},
     "output_type": "execute_result"
    }
   ],
   "source": [
    "instance = Solution()\n",
    "instance.largestUniqueNumber([5,7,3,9,4,9,8,3,1] )"
   ]
  }
 ],
 "metadata": {
  "kernelspec": {
   "display_name": "Python 3",
   "language": "python",
   "name": "python3"
  },
  "language_info": {
   "codemirror_mode": {
    "name": "ipython",
    "version": 3
   },
   "file_extension": ".py",
   "mimetype": "text/x-python",
   "name": "python",
   "nbconvert_exporter": "python",
   "pygments_lexer": "ipython3",
   "version": "3.7.3"
  }
 },
 "nbformat": 4,
 "nbformat_minor": 2
}
