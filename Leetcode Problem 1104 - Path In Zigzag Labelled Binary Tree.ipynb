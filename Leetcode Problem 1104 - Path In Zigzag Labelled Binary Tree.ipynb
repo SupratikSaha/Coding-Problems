{
 "cells": [
  {
   "cell_type": "markdown",
   "metadata": {},
   "source": [
    "Problem Statement.\n",
    "\n",
    "In an infinite binary tree where every node has two children, the nodes are labelled in row order.\n",
    "\n",
    "In the odd numbered rows (ie., the first, third, fifth,...), the labelling is left to right, while in the even numbered rows (second, fourth, sixth,...), the labelling is right to left.\n",
    "\n",
    "Given the label of a node in this tree, return the labels in the path from the root of the tree to the node with that label.\n",
    "\n",
    " \n",
    "\n",
    "Example 1:\n",
    "\n",
    "Input: label = 14\n",
    "Output: [1,3,4,14]\n",
    "\n",
    "Example 2:\n",
    "\n",
    "Input: label = 26\n",
    "Output: [1,2,6,10,26]\n",
    "\n",
    " \n",
    "\n",
    "Constraints:\n",
    "\n",
    "    1 <= label <= 10^6"
   ]
  },
  {
   "cell_type": "markdown",
   "metadata": {},
   "source": [
    "# Logartithmic Approach - O(Log N) runtime, O(Log N) space"
   ]
  },
  {
   "cell_type": "code",
   "execution_count": 5,
   "metadata": {},
   "outputs": [],
   "source": [
    "from typing import List\n",
    "from collections import deque\n",
    "\n",
    "class Solution:\n",
    "    def pathInZigZagTree(self, label: int) -> List[int]:\n",
    "        nodeCount = level = 1\n",
    "\n",
    "        while label >= nodeCount * 2:\n",
    "            nodeCount *= 2\n",
    "            level += 1\n",
    "\n",
    "        res = deque()\n",
    "        while label:\n",
    "            res.appendleft(label)\n",
    "            maxLevel = 2 ** level - 1\n",
    "            minLevel = 2 ** (level-1)\n",
    "\n",
    "            label = (maxLevel + minLevel - label) // 2\n",
    "            level -= 1\n",
    "\n",
    "        return list(res)"
   ]
  },
  {
   "cell_type": "code",
   "execution_count": 6,
   "metadata": {},
   "outputs": [
    {
     "data": {
      "text/plain": [
       "[1, 2, 6, 10, 26]"
      ]
     },
     "execution_count": 6,
     "metadata": {},
     "output_type": "execute_result"
    }
   ],
   "source": [
    "instance = Solution()\n",
    "instance.pathInZigZagTree(26)"
   ]
  }
 ],
 "metadata": {
  "kernelspec": {
   "display_name": "Python 3",
   "language": "python",
   "name": "python3"
  },
  "language_info": {
   "codemirror_mode": {
    "name": "ipython",
    "version": 3
   },
   "file_extension": ".py",
   "mimetype": "text/x-python",
   "name": "python",
   "nbconvert_exporter": "python",
   "pygments_lexer": "ipython3",
   "version": "3.7.3"
  }
 },
 "nbformat": 4,
 "nbformat_minor": 2
}
