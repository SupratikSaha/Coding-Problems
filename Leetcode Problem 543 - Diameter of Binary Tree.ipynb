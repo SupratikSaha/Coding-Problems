{
 "cells": [
  {
   "cell_type": "markdown",
   "metadata": {},
   "source": [
    " Given a binary tree, you need to compute the length of the diameter of the tree. The diameter of a binary tree is the length of the longest path between any two nodes in a tree. This path may or may not pass through the root.\n",
    "\n",
    "Example:\n",
    "Given a binary tree\n",
    "\n",
    "          1 \n",
    "         / \\\n",
    "        2   3 \n",
    "       / \\     \n",
    "      4   5     \n",
    "\n",
    "Return 3, which is the length of the path [4,2,1,3] or [5,2,1,3].\n",
    "\n",
    "Note: The length of path between two nodes is represented by the number of edges between them. "
   ]
  },
  {
   "cell_type": "markdown",
   "metadata": {},
   "source": [
    "# Depth-First Search - O(n) runtime, O(n) space"
   ]
  },
  {
   "cell_type": "code",
   "execution_count": null,
   "metadata": {},
   "outputs": [],
   "source": [
    "# Definition for a binary tree node.\n",
    "class TreeNode:\n",
    "    def __init__(self, val=0, left=None, right=None):\n",
    "        self.val = val\n",
    "        self.left = left\n",
    "        self.right = right\n",
    "        \n",
    "class Solution:\n",
    "    \n",
    "    def __init__(self):\n",
    "        self.diameter = 1\n",
    "        \n",
    "    def diameterOfBinaryTree(self, root: TreeNode) -> int:\n",
    "        \n",
    "        self.depth(root)\n",
    "        return self.diameter - 1\n",
    "    \n",
    "    def depth(self, root: TreeNode) -> int:\n",
    "        \n",
    "        if not root:\n",
    "            return 0\n",
    "        \n",
    "        left = self.depth(root.left)\n",
    "        right = self.depth(root.right)\n",
    "        \n",
    "        self.diameter = max(self.diameter, left + right + 1)\n",
    "        \n",
    "        \n",
    "        return 1 + max(left, right)"
   ]
  }
 ],
 "metadata": {
  "kernelspec": {
   "display_name": "Python 3",
   "language": "python",
   "name": "python3"
  },
  "language_info": {
   "codemirror_mode": {
    "name": "ipython",
    "version": 3
   },
   "file_extension": ".py",
   "mimetype": "text/x-python",
   "name": "python",
   "nbconvert_exporter": "python",
   "pygments_lexer": "ipython3",
   "version": "3.7.3"
  }
 },
 "nbformat": 4,
 "nbformat_minor": 2
}
