{
 "cells": [
  {
   "cell_type": "markdown",
   "metadata": {},
   "source": [
    "Problem Statement.\n",
    "\n",
    "Suppose you have n integers labeled 1 through n. A permutation of those n integers perm (1-indexed) is considered a beautiful arrangement if for every i (1 <= i <= n), either of the following is true:\n",
    "\n",
    "    perm[i] is divisible by i.\n",
    "    i is divisible by perm[i].\n",
    "\n",
    "Given an integer n, return the number of the beautiful arrangements that you can construct.\n",
    "\n",
    " \n",
    "\n",
    "Example 1:\n",
    "\n",
    "Input: n = 2\n",
    "Output: 2\n",
    "Explanation: \n",
    "The first beautiful arrangement is [1,2]:\n",
    "    - perm[1] = 1 is divisible by i = 1\n",
    "    - perm[2] = 2 is divisible by i = 2\n",
    "The second beautiful arrangement is [2,1]:\n",
    "    - perm[1] = 2 is divisible by i = 1\n",
    "    - i = 2 is divisible by perm[2] = 1\n",
    "\n",
    "Example 2:\n",
    "\n",
    "Input: n = 1\n",
    "Output: 1\n",
    "\n",
    " \n",
    "\n",
    "Constraints:\n",
    "\n",
    "    1 <= n <= 15"
   ]
  },
  {
   "cell_type": "markdown",
   "metadata": {},
   "source": [
    "# Top Down DP - O(2 ^ N) runtime, O(2 ^ N) space"
   ]
  },
  {
   "cell_type": "code",
   "execution_count": 2,
   "metadata": {},
   "outputs": [],
   "source": [
    "class Solution:\n",
    "    def countArrangement(self, n: int) -> int:\n",
    "        def count(i, X, memo = {}):\n",
    "            if i == 1: return 1\n",
    "            \n",
    "            if X not in memo:\n",
    "                memo[X] = sum(count(i - 1, X - {x})\n",
    "                              for x in X\n",
    "                              if x % i == 0 or i % x == 0)\n",
    "            return memo[X]\n",
    "        \n",
    "        return count(n, frozenset(range(1, n + 1)))"
   ]
  },
  {
   "cell_type": "markdown",
   "metadata": {},
   "source": [
    "# Bitmask - O(N ^ 3) runtime, O(N ^ 2) space"
   ]
  },
  {
   "cell_type": "code",
   "execution_count": 4,
   "metadata": {},
   "outputs": [],
   "source": [
    "from functools import lru_cache\n",
    "\n",
    "class Solution:\n",
    "    def countArrangement(self, n: int) -> int:\n",
    "        @lru_cache(None)\n",
    "        def dfs(bm, pl):\n",
    "            if pl == 0: return 1\n",
    "                \n",
    "            S = 0\n",
    "            for i in range(n):\n",
    "                if not bm&1<<i and ((i+1)%pl == 0 or pl%(i+1) == 0):\n",
    "                    S += dfs(bm^1<<i, pl - 1)\n",
    "            return S\n",
    "                \n",
    "        return dfs(0, n)"
   ]
  },
  {
   "cell_type": "code",
   "execution_count": 5,
   "metadata": {},
   "outputs": [
    {
     "data": {
      "text/plain": [
       "10"
      ]
     },
     "execution_count": 5,
     "metadata": {},
     "output_type": "execute_result"
    }
   ],
   "source": [
    "instance = Solution()\n",
    "instance.countArrangement(5)"
   ]
  }
 ],
 "metadata": {
  "kernelspec": {
   "display_name": "Python 3",
   "language": "python",
   "name": "python3"
  },
  "language_info": {
   "codemirror_mode": {
    "name": "ipython",
    "version": 3
   },
   "file_extension": ".py",
   "mimetype": "text/x-python",
   "name": "python",
   "nbconvert_exporter": "python",
   "pygments_lexer": "ipython3",
   "version": "3.7.3"
  }
 },
 "nbformat": 4,
 "nbformat_minor": 2
}
