{
 "cells": [
  {
   "cell_type": "markdown",
   "metadata": {},
   "source": [
    "Problem Statement.\n",
    "\n",
    "You are given an m x n binary matrix grid, where 0 represents a sea cell and 1 represents a land cell.\n",
    "\n",
    "A move consists of walking from one land cell to another adjacent (4-directionally) land cell or walking off the boundary of the grid.\n",
    "\n",
    "Return the number of land cells in grid for which we cannot walk off the boundary of the grid in any number of moves.\n",
    "\n",
    " \n",
    "\n",
    "Example 1:\n",
    "\n",
    "Input: grid = [[0,0,0,0],[1,0,1,0],[0,1,1,0],[0,0,0,0]]\n",
    "Output: 3\n",
    "Explanation: There are three 1s that are enclosed by 0s, and one 1 that is not enclosed because its on the boundary.\n",
    "\n",
    "Example 2:\n",
    "\n",
    "Input: grid = [[0,1,1,0],[0,0,1,0],[0,0,1,0],[0,0,0,0]]\n",
    "Output: 0\n",
    "Explanation: All 1s are either on the boundary or can reach the boundary.\n",
    "\n",
    " \n",
    "\n",
    "Constraints:\n",
    "\n",
    "    m == grid.length\n",
    "    n == grid[i].length\n",
    "    1 <= m, n <= 500\n",
    "    grid[i][j] is either 0 or 1."
   ]
  },
  {
   "cell_type": "markdown",
   "metadata": {},
   "source": [
    "# DFS - O(M * N) runtime, O(1) space"
   ]
  },
  {
   "cell_type": "code",
   "execution_count": 8,
   "metadata": {},
   "outputs": [],
   "source": [
    "from typing import List\n",
    "\n",
    "class Solution:\n",
    "    def numEnclaves(self, grid: List[List[int]]) -> int:\n",
    "        m, n = len(grid), len(grid[0])\n",
    "        \n",
    "        def dfs(i, j):\n",
    "            grid[i][j] = 0\n",
    "            for x, y in [(i - 1, j), (i + 1, j), (i, j - 1), (i, j + 1)]:\n",
    "                if 0 <= x < m and 0 <= y < n and grid[x][y]:\n",
    "                    dfs(x, y)\n",
    "\n",
    "        for i in range(m):\n",
    "            for j in range(n):\n",
    "                if grid[i][j] and (i in [0, m - 1] or j in [0, n - 1]):\n",
    "                    dfs(i, j)\n",
    "                    \n",
    "        return sum(sum(row) for row in grid)"
   ]
  },
  {
   "cell_type": "markdown",
   "metadata": {},
   "source": [
    "# BFS - O(M * N) runtime, O(1) space"
   ]
  },
  {
   "cell_type": "code",
   "execution_count": 6,
   "metadata": {},
   "outputs": [],
   "source": [
    "from typing import List\n",
    "from collections import deque\n",
    "\n",
    "class Solution:\n",
    "    def numEnclaves(self, grid: List[List[int]]) -> int:\n",
    "        m, n = len(grid), len(grid[0])\n",
    "        \n",
    "        def bfs(a, b):\n",
    "            queue = deque([(a, b)])\n",
    "            \n",
    "            while queue:\n",
    "                r, c = queue.popleft()\n",
    "                \n",
    "                for r1, c1 in [(r, c+1), (r, c-1), (r+1, c), (r-1, c)]:\n",
    "                    if 0 <= r1 < m and 0 <= c1 < n and grid[r1][c1] == 1:\n",
    "                        grid[r1][c1] = 0\n",
    "                        queue.append((r1, c1))\n",
    "\n",
    "        for i in range(m):\n",
    "            for j in range(n):\n",
    "                if grid[i][j] and (i in [0, m-1] or j in [0, n-1]):\n",
    "                    grid[i][j] = 0\n",
    "                    bfs(i, j)\n",
    "                    \n",
    "        return sum([sum(row) for row in grid])"
   ]
  },
  {
   "cell_type": "code",
   "execution_count": 9,
   "metadata": {},
   "outputs": [
    {
     "data": {
      "text/plain": [
       "3"
      ]
     },
     "execution_count": 9,
     "metadata": {},
     "output_type": "execute_result"
    }
   ],
   "source": [
    "instance = Solution()\n",
    "instance.numEnclaves([[0,0,0,0],[1,0,1,0],[0,1,1,0],[0,0,0,0]])"
   ]
  }
 ],
 "metadata": {
  "kernelspec": {
   "display_name": "Python 3",
   "language": "python",
   "name": "python3"
  },
  "language_info": {
   "codemirror_mode": {
    "name": "ipython",
    "version": 3
   },
   "file_extension": ".py",
   "mimetype": "text/x-python",
   "name": "python",
   "nbconvert_exporter": "python",
   "pygments_lexer": "ipython3",
   "version": "3.7.3"
  }
 },
 "nbformat": 4,
 "nbformat_minor": 2
}
