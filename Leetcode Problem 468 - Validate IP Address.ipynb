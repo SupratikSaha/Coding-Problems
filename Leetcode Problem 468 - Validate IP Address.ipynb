{
 "cells": [
  {
   "cell_type": "markdown",
   "metadata": {},
   "source": [
    "Problem Statement.\n",
    "\n",
    "Given a string IP, return \"IPv4\" if IP is a valid IPv4 address, \"IPv6\" if IP is a valid IPv6 address or \"Neither\" if IP is not a correct IP of any type.\n",
    "\n",
    "A valid IPv4 address is an IP in the form \"x1.x2.x3.x4\" where 0 <= xi <= 255 and xi cannot contain leading zeros. For example, \"192.168.1.1\" and \"192.168.1.0\" are valid IPv4 addresses but \"192.168.01.1\", while \"192.168.1.00\" and \"192.168@1.1\" are invalid IPv4 addresses.\n",
    "\n",
    "A valid IPv6 address is an IP in the form \"x1:x2:x3:x4:x5:x6:x7:x8\" where:\n",
    "\n",
    "    1 <= xi.length <= 4\n",
    "    xi is a hexadecimal string which may contain digits, lower-case English letter ('a' to 'f') and upper-case English letters ('A' to 'F').\n",
    "    Leading zeros are allowed in xi.\n",
    "\n",
    "For example, \"2001:0db8:85a3:0000:0000:8a2e:0370:7334\" and \"2001:db8:85a3:0:0:8A2E:0370:7334\" are valid IPv6 addresses, while \"2001:0db8:85a3::8A2E:037j:7334\" and \"02001:0db8:85a3:0000:0000:8a2e:0370:7334\" are invalid IPv6 addresses.\n",
    "\n",
    " \n",
    "\n",
    "Example 1:\n",
    "\n",
    "Input: IP = \"172.16.254.1\"\n",
    "Output: \"IPv4\"\n",
    "Explanation: This is a valid IPv4 address, return \"IPv4\".\n",
    "\n",
    "Example 2:\n",
    "\n",
    "Input: IP = \"2001:0db8:85a3:0:0:8A2E:0370:7334\"\n",
    "Output: \"IPv6\"\n",
    "Explanation: This is a valid IPv6 address, return \"IPv6\".\n",
    "\n",
    "Example 3:\n",
    "\n",
    "Input: IP = \"256.256.256.256\"\n",
    "Output: \"Neither\"\n",
    "Explanation: This is neither a IPv4 address nor a IPv6 address.\n",
    "\n",
    "Example 4:\n",
    "\n",
    "Input: IP = \"2001:0db8:85a3:0:0:8A2E:0370:7334:\"\n",
    "Output: \"Neither\"\n",
    "\n",
    "Example 5:\n",
    "\n",
    "Input: IP = \"1e1.4.5.6\"\n",
    "Output: \"Neither\"\n",
    "\n",
    " \n",
    "\n",
    "Constraints:\n",
    "\n",
    "    IP consists only of English letters, digits and the characters '.' and ':'."
   ]
  },
  {
   "cell_type": "markdown",
   "metadata": {},
   "source": [
    "# Using character string - O(N) runtime, O(1) space"
   ]
  },
  {
   "cell_type": "code",
   "execution_count": 1,
   "metadata": {},
   "outputs": [],
   "source": [
    "class Solution:\n",
    "    def validIPAddress(self, IP: str) -> str:\n",
    "        IPList = IP.split('.')\n",
    "        if len(IPList) == 4:\n",
    "            for ip in IPList:\n",
    "                if len(ip) > 4 or len(ip) == 0: return 'Neither'\n",
    "                for c in ip:\n",
    "                    if c not in '0123456789': return 'Neither'\n",
    "                if int(ip) > 255 or int(ip) < 0 or (ip[0] == '0' and len(ip) > 1):\n",
    "                    return 'Neither'\n",
    "            return 'IPv4'\n",
    "        \n",
    "        IPList = IP.split(':')\n",
    "        if len(IPList) == 8:\n",
    "            for ip in IPList:\n",
    "                if len(ip) > 4 or len(ip) == 0: return 'Neither'\n",
    "                for c in ip:\n",
    "                    if c not in '0123456789ABCDEFabcdef': return 'Neither'\n",
    "            return 'IPv6'\n",
    "\n",
    "        return 'Neither'"
   ]
  },
  {
   "cell_type": "markdown",
   "metadata": {},
   "source": [
    "# Simpler Using character string - O(N) runtime, O(1) space"
   ]
  },
  {
   "cell_type": "code",
   "execution_count": 2,
   "metadata": {},
   "outputs": [],
   "source": [
    "class Solution:\n",
    "    def validIPAddress(self, IP: str) -> str:\n",
    "        IPList = IP.split('.')\n",
    "        if len(IPList) == 4:\n",
    "            for ip in IPList:\n",
    "                if len(ip) > 4 or len(ip) == 0: return 'Neither'\n",
    "                if not ip.isdigit() or int(ip) > 255 or (ip[0] == '0' and len(ip) > 1):\n",
    "                    return 'Neither'\n",
    "            return 'IPv4'\n",
    "        \n",
    "        IPList = IP.split(':')\n",
    "        if len(IPList) == 8:\n",
    "            for ip in IPList:\n",
    "                if len(ip) > 4 or len(ip) == 0: return 'Neither'\n",
    "                for c in ip:\n",
    "                    if c not in '0123456789ABCDEFabcdef': return 'Neither'\n",
    "            return 'IPv6'\n",
    "\n",
    "        return 'Neither'"
   ]
  },
  {
   "cell_type": "code",
   "execution_count": 3,
   "metadata": {},
   "outputs": [
    {
     "data": {
      "text/plain": [
       "'IPv4'"
      ]
     },
     "execution_count": 3,
     "metadata": {},
     "output_type": "execute_result"
    }
   ],
   "source": [
    "instance = Solution()\n",
    "instance.validIPAddress(\"172.16.254.1\")"
   ]
  }
 ],
 "metadata": {
  "kernelspec": {
   "display_name": "Python 3",
   "language": "python",
   "name": "python3"
  },
  "language_info": {
   "codemirror_mode": {
    "name": "ipython",
    "version": 3
   },
   "file_extension": ".py",
   "mimetype": "text/x-python",
   "name": "python",
   "nbconvert_exporter": "python",
   "pygments_lexer": "ipython3",
   "version": "3.7.3"
  }
 },
 "nbformat": 4,
 "nbformat_minor": 2
}
