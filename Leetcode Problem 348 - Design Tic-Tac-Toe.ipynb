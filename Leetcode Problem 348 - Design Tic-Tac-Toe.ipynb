{
 "cells": [
  {
   "cell_type": "markdown",
   "metadata": {},
   "source": [
    "Problem Statement. <br/>\n",
    "\n",
    "Assume the following rules are for the tic-tac-toe game on an n x n board between two players: <br/>\n",
    "    A move is guaranteed to be valid and is placed on an empty block.\n",
    "    Once a winning condition is reached, no more moves are allowed.\n",
    "    A player who succeeds in placing n of their marks in a horizontal, vertical, or diagonal row wins the game.\n",
    "\n",
    "Implement the TicTacToe class: <br/>\n",
    "    TicTacToe(int n) Initializes the object the size of the board n.\n",
    "    int move(int row, int col, int player) Indicates that player with id player plays at the cell (row, col) of the board. The move is guaranteed to be a valid move.\n",
    "\n",
    "Example 1: <br/>\n",
    "Input: <br/>\n",
    "[\"TicTacToe\", \"move\", \"move\", \"move\", \"move\", \"move\", \"move\", \"move\"] <br/>\n",
    "[[3], [0, 0, 1], [0, 2, 2], [2, 2, 1], [1, 1, 2], [2, 0, 1], [1, 0, 2], [2, 1, 1]] <br/>\n",
    "Output: <br/>\n",
    "[null, 0, 0, 0, 0, 0, 0, 1] <br/>\n",
    "\n",
    "Explanation: <br/>\n",
    "TicTacToe ticTacToe = new TicTacToe(3); <br/>\n",
    "Assume that player 1 is \"X\" and player 2 is \"O\" in the board. <br/>\n",
    "ticTacToe.move(0, 0, 1); // return 0 (no one wins) <br/>\n",
    "|X| | | <br/>\n",
    "| | | |    // Player 1 makes a move at (0, 0). <br/>\n",
    "| | | | <br/>\n",
    "\n",
    "ticTacToe.move(0, 2, 2); // return 0 (no one wins) <br/>\n",
    "|X| |O| <br/>\n",
    "| | | |    // Player 2 makes a move at (0, 2). <br/>\n",
    "| | | | <br/>\n",
    "\n",
    "ticTacToe.move(2, 2, 1); // return 0 (no one wins) <br/>\n",
    "|X| |O| <br/>\n",
    "| | | |    // Player 1 makes a move at (2, 2). <br/>\n",
    "| | |X| <br/>\n",
    "\n",
    "ticTacToe.move(1, 1, 2); // return 0 (no one wins) <br/>\n",
    "|X| |O| <br/>\n",
    "| |O| |    // Player 2 makes a move at (1, 1). <br/>\n",
    "| | |X| <br/>\n",
    "\n",
    "ticTacToe.move(2, 0, 1); // return 0 (no one wins) <br/>\n",
    "|X| |O| <br/>\n",
    "| |O| |    // Player 1 makes a move at (2, 0). <br/>\n",
    "|X| |X| <br/>\n",
    "\n",
    "ticTacToe.move(1, 0, 2); // return 0 (no one wins) <br/>\n",
    "|X| |O| <br/>\n",
    "|O|O| |    // Player 2 makes a move at (1, 0). <br/>\n",
    "|X| |X| <br/>\n",
    "\n",
    "ticTacToe.move(2, 1, 1); // return 1 (player 1 wins) <br/>\n",
    "|X| |O| <br/>\n",
    "|O|O| |    // Player 1 makes a move at (2, 1). <br/>\n",
    "|X|X|X|"
   ]
  },
  {
   "cell_type": "markdown",
   "metadata": {},
   "source": [
    "# Save both sums - O(1) runtime, O(N) space"
   ]
  },
  {
   "cell_type": "code",
   "execution_count": 1,
   "metadata": {},
   "outputs": [],
   "source": [
    "class TicTacToe:\n",
    "\n",
    "    def __init__(self, n: int):\n",
    "        \"\"\"\n",
    "        Initialize your data structure here.\n",
    "        \"\"\"\n",
    "        self.n = n\n",
    "        self.rows = [[0, 0] for _ in range(n)]\n",
    "        self.cols = [[0, 0] for _ in range(n)]\n",
    "        self.diags = [[0,0] for _ in range(2)]\n",
    "        \n",
    "\n",
    "    def move(self, row: int, col: int, player: int) -> int:\n",
    "        \"\"\"\n",
    "        Player {player} makes a move at ({row}, {col}).\n",
    "        @param row The row of the board.\n",
    "        @param col The column of the board.\n",
    "        @param player The player, can be either 1 or 2.\n",
    "        @return The current winning condition, can be either:\n",
    "                0: No one wins.\n",
    "                1: Player 1 wins.\n",
    "                2: Player 2 wins.\n",
    "        \"\"\"\n",
    "        self.rows[row][player - 1] += 1\n",
    "        if self.rows[row][player - 1] == self.n:\n",
    "            return player\n",
    "        \n",
    "        self.cols[col][player - 1] += 1\n",
    "        if self.cols[col][player - 1] == self.n:\n",
    "            return player\n",
    "        \n",
    "        if row == col:\n",
    "            self.diags[0][player - 1] += 1\n",
    "            if self.diags[0][player - 1] == self.n:\n",
    "                return player\n",
    "        if row+col == self.n - 1:\n",
    "            self.diags[1][player - 1] += 1\n",
    "            if self.diags[1][player - 1] == self.n:\n",
    "                return player\n",
    "        \n",
    "        return 0"
   ]
  },
  {
   "cell_type": "markdown",
   "metadata": {},
   "source": [
    "# Save One Sum - O(1) runtime, O(N) space"
   ]
  },
  {
   "cell_type": "code",
   "execution_count": 2,
   "metadata": {},
   "outputs": [],
   "source": [
    "class TicTacToe:\n",
    "\n",
    "    def __init__(self, n: int):\n",
    "        \"\"\"\n",
    "        Initialize your data structure here.\n",
    "        \"\"\"\n",
    "        self.row, self.col, self.diag, self.anti_diag, self.n = [0] * n, [0] * n, 0, 0, n\n",
    "        \n",
    "    def move(self, row: int, col: int, player: int) -> int:\n",
    "        \"\"\"\n",
    "        Player {player} makes a move at ({row}, {col}).\n",
    "        @param row The row of the board.\n",
    "        @param col The column of the board.\n",
    "        @param player The player, can be either 1 or 2.\n",
    "        @return The current winning condition, can be either:\n",
    "                0: No one wins.\n",
    "                1: Player 1 wins.\n",
    "                2: Player 2 wins.\n",
    "        \"\"\"\n",
    "        offset = player * 2 - 3\n",
    "        self.row[row] += offset\n",
    "        self.col[col] += offset\n",
    "        if row == col:\n",
    "            self.diag += offset\n",
    "        if row + col == self.n - 1:\n",
    "            self.anti_diag += offset\n",
    "        if self.n in [self.row[row], self.col[col], self.diag, self.anti_diag]:\n",
    "            return 2\n",
    "        if -self.n in [self.row[row], self.col[col], self.diag, self.anti_diag]:\n",
    "            return 1\n",
    "        return 0"
   ]
  },
  {
   "cell_type": "code",
   "execution_count": 3,
   "metadata": {},
   "outputs": [
    {
     "name": "stdout",
     "output_type": "stream",
     "text": [
      "0\n",
      "0\n",
      "2\n"
     ]
    }
   ],
   "source": [
    "obj = TicTacToe(2)\n",
    "print(obj.move(0,1,2))\n",
    "print(obj.move(1,0,1))\n",
    "print(obj.move(1,1,2))"
   ]
  }
 ],
 "metadata": {
  "kernelspec": {
   "display_name": "Python 3",
   "language": "python",
   "name": "python3"
  },
  "language_info": {
   "codemirror_mode": {
    "name": "ipython",
    "version": 3
   },
   "file_extension": ".py",
   "mimetype": "text/x-python",
   "name": "python",
   "nbconvert_exporter": "python",
   "pygments_lexer": "ipython3",
   "version": "3.7.3"
  }
 },
 "nbformat": 4,
 "nbformat_minor": 2
}
