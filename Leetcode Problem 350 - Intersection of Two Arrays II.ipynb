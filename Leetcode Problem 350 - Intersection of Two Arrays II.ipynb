{
 "cells": [
  {
   "cell_type": "markdown",
   "metadata": {},
   "source": [
    "Problem Statement. <br/>\n",
    "\n",
    "Given two arrays, write a function to compute their intersection. <br/>\n",
    "\n",
    "Example 1: <br/>\n",
    "Input: nums1 = [1,2,2,1], nums2 = [2,2] <br/>\n",
    "Output: [2,2] <br/>\n",
    "\n",
    "Example 2: <br/>\n",
    "Input: nums1 = [4,9,5], nums2 = [9,4,9,8,4] <br/>\n",
    "Output: [4,9]"
   ]
  },
  {
   "cell_type": "markdown",
   "metadata": {},
   "source": [
    "# Hash Map - O(M + N) runtime, O(min(M, N)) space, where M and N are the number of elements in num1 and num2 "
   ]
  },
  {
   "cell_type": "code",
   "execution_count": 5,
   "metadata": {},
   "outputs": [],
   "source": [
    "from typing import List\n",
    "from collections import Counter\n",
    "\n",
    "class Solution:\n",
    "    def intersect(self, nums1: List[int], nums2: List[int]) -> List[int]:\n",
    "        if len(nums1) > len(nums2):\n",
    "            self.intersect(nums2, nums1)\n",
    "            \n",
    "        counts = Counter(nums1)\n",
    "        result = []\n",
    "        \n",
    "        for num in nums2:\n",
    "            if counts.get(num):\n",
    "                result.append(num)\n",
    "                counts[num] -= 1\n",
    "        return result"
   ]
  },
  {
   "cell_type": "code",
   "execution_count": 6,
   "metadata": {},
   "outputs": [
    {
     "data": {
      "text/plain": [
       "[2, 2]"
      ]
     },
     "execution_count": 6,
     "metadata": {},
     "output_type": "execute_result"
    }
   ],
   "source": [
    "instance = Solution()\n",
    "instance.intersect([1,2,2,1], [2,2])"
   ]
  }
 ],
 "metadata": {
  "kernelspec": {
   "display_name": "Python 3",
   "language": "python",
   "name": "python3"
  },
  "language_info": {
   "codemirror_mode": {
    "name": "ipython",
    "version": 3
   },
   "file_extension": ".py",
   "mimetype": "text/x-python",
   "name": "python",
   "nbconvert_exporter": "python",
   "pygments_lexer": "ipython3",
   "version": "3.7.3"
  }
 },
 "nbformat": 4,
 "nbformat_minor": 2
}
