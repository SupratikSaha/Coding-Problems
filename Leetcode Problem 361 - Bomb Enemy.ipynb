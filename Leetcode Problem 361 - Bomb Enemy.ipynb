{
 "cells": [
  {
   "cell_type": "markdown",
   "metadata": {},
   "source": [
    "Problem Statement.\n",
    "\n",
    "Given an m x n matrix grid where each cell is either a wall 'W', an enemy 'E' or empty '0', return the maximum enemies you can kill using one bomb. You can only place the bomb in an empty cell.\n",
    "\n",
    "The bomb kills all the enemies in the same row and column from the planted point until it hits the wall since it is too strong to be destroyed.\n",
    "\n",
    " \n",
    "\n",
    "Example 1:\n",
    "\n",
    "Input: grid = [[\"0\",\"E\",\"0\",\"0\"],[\"E\",\"0\",\"W\",\"E\"],[\"0\",\"E\",\"0\",\"0\"]]\n",
    "Output: 3\n",
    "\n",
    "Example 2:\n",
    "\n",
    "Input: grid = [[\"W\",\"W\",\"W\"],[\"0\",\"0\",\"0\"],[\"E\",\"E\",\"E\"]]\n",
    "Output: 1\n",
    "\n",
    " \n",
    "\n",
    "Constraints:\n",
    "\n",
    "    m == grid.length\n",
    "    n == grid[i].length\n",
    "    1 <= m, n <= 500\n",
    "    grid[i][j] is either 'W', 'E', or '0'."
   ]
  },
  {
   "cell_type": "markdown",
   "metadata": {},
   "source": [
    "# Brute Force - O(M * N * (M + N)) runtime, O(1) space"
   ]
  },
  {
   "cell_type": "code",
   "execution_count": 1,
   "metadata": {},
   "outputs": [],
   "source": [
    "from typing import List\n",
    "\n",
    "class Solution:\n",
    "    def maxKilledEnemies(self, grid: List[List[str]]) -> int:\n",
    "        maxkills = 0\n",
    "        m, n = len(grid), len(grid[0])\n",
    "        \n",
    "        for i in range(m):\n",
    "            for j in range(n):\n",
    "                kills = 0\n",
    "                if grid[i][j] != '0': continue\n",
    "                \n",
    "                c = i\n",
    "                while c >= 0 and grid[c][j] != 'W':\n",
    "                    kills += grid[c][j] == 'E'\n",
    "                    c -= 1\n",
    "                    \n",
    "                c = i\n",
    "                while c < m and grid[c][j] != 'W':\n",
    "                    kills += grid[c][j] == 'E'\n",
    "                    c += 1\n",
    "                    \n",
    "                c = j\n",
    "                while c >= 0 and grid[i][c] != 'W':\n",
    "                    kills += grid[i][c] == 'E'\n",
    "                    c -= 1\n",
    "                    \n",
    "                c = j\n",
    "                while c < n and grid[i][c] != 'W':\n",
    "                    kills += grid[i][c] == 'E'\n",
    "                    c += 1\n",
    "                    \n",
    "                maxkills = max(maxkills, kills)\n",
    "            \n",
    "        return maxkills"
   ]
  },
  {
   "cell_type": "markdown",
   "metadata": {},
   "source": [
    "# More Elegant Brute Force - O(M * N * (M + N)) runtime, O(1) space"
   ]
  },
  {
   "cell_type": "code",
   "execution_count": 3,
   "metadata": {},
   "outputs": [],
   "source": [
    "from typing import List\n",
    "\n",
    "class Solution:\n",
    "    def maxKilledEnemies(self, grid: List[List[str]]) -> int:\n",
    "        rows, cols = len(grid), len(grid[0])\n",
    "\n",
    "        def killEnemies(row, col):\n",
    "            enemy_count = 0\n",
    "            row_ranges = [range(row - 1, -1, -1), range(row + 1, rows, 1)]\n",
    "            for row_range in row_ranges:\n",
    "                for r in row_range:\n",
    "                    if grid[r][col] == 'W':\n",
    "                        break\n",
    "                    elif grid[r][col] == 'E':\n",
    "                        enemy_count += 1\n",
    "\n",
    "            col_ranges = [range(col - 1, -1, -1), range(col + 1, cols, 1)]\n",
    "            for col_range in col_ranges:\n",
    "                for c in col_range:\n",
    "                    if grid[row][c] == 'W':\n",
    "                        break\n",
    "                    elif grid[row][c] == 'E':\n",
    "                        enemy_count += 1\n",
    "\n",
    "            return enemy_count\n",
    "\n",
    "        max_count = 0\n",
    "        for row in range(0, rows):\n",
    "            for col in range(0, cols):\n",
    "                if grid[row][col] == '0':\n",
    "                    max_count = max(max_count, killEnemies(row, col))\n",
    "\n",
    "        return max_count"
   ]
  },
  {
   "cell_type": "markdown",
   "metadata": {},
   "source": [
    "# DP - O(M * N) runtime, O(N) space"
   ]
  },
  {
   "cell_type": "code",
   "execution_count": 5,
   "metadata": {},
   "outputs": [],
   "source": [
    "from typing import List\n",
    "\n",
    "class Solution:\n",
    "    def maxKilledEnemies(self, grid: List[List[str]]) -> int:\n",
    "        rows, cols = len(grid), len(grid[0])\n",
    "\n",
    "        max_count = 0\n",
    "        row_hits = 0\n",
    "        col_hits = [0] * cols\n",
    "\n",
    "        for row in range(0, rows):\n",
    "            for col in range(0, cols):\n",
    "                # reset the hits on the row, if necessary.\n",
    "                if col == 0 or grid[row][col - 1] == 'W':\n",
    "                    row_hits = 0\n",
    "                    for k in range(col, cols):\n",
    "                        if grid[row][k] == 'W':\n",
    "                            # stop the scan when we hit the wall.\n",
    "                            break\n",
    "                        elif grid[row][k] == 'E':\n",
    "                            row_hits += 1\n",
    "\n",
    "                # reset the hits on the col, if necessary.\n",
    "                if row == 0 or grid[row - 1][col] == 'W':\n",
    "                    col_hits[col] = 0\n",
    "                    for k in range(row, rows):\n",
    "                        if grid[k][col] == 'W':\n",
    "                            break\n",
    "                        elif grid[k][col] == 'E':\n",
    "                            col_hits[col] += 1\n",
    "\n",
    "                # count the hits for each empty cell.\n",
    "                if grid[row][col] == '0':\n",
    "                    total_hits = row_hits + col_hits[col]\n",
    "                    max_count = max(max_count, total_hits)\n",
    "\n",
    "        return max_count"
   ]
  },
  {
   "cell_type": "code",
   "execution_count": 6,
   "metadata": {},
   "outputs": [
    {
     "data": {
      "text/plain": [
       "3"
      ]
     },
     "execution_count": 6,
     "metadata": {},
     "output_type": "execute_result"
    }
   ],
   "source": [
    "instance = Solution()\n",
    "instance.maxKilledEnemies([[\"0\",\"E\",\"0\",\"0\"],[\"E\",\"0\",\"W\",\"E\"],[\"0\",\"E\",\"0\",\"0\"]])"
   ]
  }
 ],
 "metadata": {
  "kernelspec": {
   "display_name": "Python 3",
   "language": "python",
   "name": "python3"
  },
  "language_info": {
   "codemirror_mode": {
    "name": "ipython",
    "version": 3
   },
   "file_extension": ".py",
   "mimetype": "text/x-python",
   "name": "python",
   "nbconvert_exporter": "python",
   "pygments_lexer": "ipython3",
   "version": "3.7.3"
  }
 },
 "nbformat": 4,
 "nbformat_minor": 2
}
