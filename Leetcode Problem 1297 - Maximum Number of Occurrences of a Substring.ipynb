{
 "cells": [
  {
   "cell_type": "markdown",
   "metadata": {},
   "source": [
    "Problem Statement.\n",
    "\n",
    "Given a string s, return the maximum number of ocurrences of any substring under the following rules:\n",
    "\n",
    "    The number of unique characters in the substring must be less than or equal to maxLetters.\n",
    "    The substring size must be between minSize and maxSize inclusive.\n",
    "\n",
    " \n",
    "\n",
    "Example 1:\n",
    "\n",
    "Input: s = \"aababcaab\", maxLetters = 2, minSize = 3, maxSize = 4\n",
    "Output: 2\n",
    "Explanation: Substring \"aab\" has 2 ocurrences in the original string.\n",
    "It satisfies the conditions, 2 unique letters and size 3 (between minSize and maxSize).\n",
    "\n",
    "Example 2:\n",
    "\n",
    "Input: s = \"aaaa\", maxLetters = 1, minSize = 3, maxSize = 3\n",
    "Output: 2\n",
    "Explanation: Substring \"aaa\" occur 2 times in the string. It can overlap.\n",
    "\n",
    "Example 3:\n",
    "\n",
    "Input: s = \"aabcabcab\", maxLetters = 2, minSize = 2, maxSize = 3\n",
    "Output: 3\n",
    "\n",
    "Example 4:\n",
    "\n",
    "Input: s = \"abcde\", maxLetters = 2, minSize = 3, maxSize = 3\n",
    "Output: 0\n",
    "\n",
    " \n",
    "\n",
    "Constraints:\n",
    "\n",
    "    1 <= s.length <= 10^5\n",
    "    1 <= maxLetters <= 26\n",
    "    1 <= minSize <= maxSize <= min(26, s.length)\n",
    "    s only contains lowercase English letters."
   ]
  },
  {
   "cell_type": "markdown",
   "metadata": {},
   "source": [
    "# Hash Table - O(N * Size * (Size + Maxletters)) runtime, O(N*Size) space"
   ]
  },
  {
   "cell_type": "code",
   "execution_count": 1,
   "metadata": {},
   "outputs": [],
   "source": [
    "from collections import defaultdict\n",
    "\n",
    "class Solution:\n",
    "    def maxFreq(self, s: str, maxLetters: int, minSize: int, maxSize: int) -> int:\n",
    "        res, n = 0, len(s)\n",
    "        substrSet = defaultdict(int)\n",
    "\n",
    "        left = 0\n",
    "        charDict = defaultdict(int)\n",
    "        for right, char in enumerate(s):\n",
    "            charDict[char]= right\n",
    "            if len(charDict) > maxLetters:\n",
    "                minChar = min(charDict, key=charDict.get)\n",
    "                left = charDict.pop(minChar) + 1\n",
    "\n",
    "            if right - left + 1 > minSize: \n",
    "                if charDict[s[left]] == left: charDict.pop(s[left])\n",
    "                left += 1\n",
    "\n",
    "            if right - left + 1 == minSize:\n",
    "                subStr = s[left:right+1]\n",
    "                substrSet[subStr] += 1\n",
    "                              \n",
    "        return max(substrSet.values()) if substrSet else 0"
   ]
  },
  {
   "cell_type": "markdown",
   "metadata": {},
   "source": [
    "# Simpler Hash Table - O(N * minSize) runtime, O(N * minSize) space"
   ]
  },
  {
   "cell_type": "code",
   "execution_count": 5,
   "metadata": {},
   "outputs": [],
   "source": [
    "from collections import Counter\n",
    "\n",
    "class Solution:\n",
    "    def maxFreq(self, s: str, maxLetters: int, minSize: int, maxSize: int) -> int:\n",
    "        count = Counter(s[i:i + minSize] for i in range(len(s) - minSize + 1))\n",
    "        return max([count[w] for w in count if len(set(w)) <= maxLetters] + [0])"
   ]
  },
  {
   "cell_type": "code",
   "execution_count": 6,
   "metadata": {},
   "outputs": [
    {
     "data": {
      "text/plain": [
       "2"
      ]
     },
     "execution_count": 6,
     "metadata": {},
     "output_type": "execute_result"
    }
   ],
   "source": [
    "instance = Solution()\n",
    "instance.maxFreq(\"aababcaab\", 2, 3, 4)"
   ]
  }
 ],
 "metadata": {
  "kernelspec": {
   "display_name": "Python 3",
   "language": "python",
   "name": "python3"
  },
  "language_info": {
   "codemirror_mode": {
    "name": "ipython",
    "version": 3
   },
   "file_extension": ".py",
   "mimetype": "text/x-python",
   "name": "python",
   "nbconvert_exporter": "python",
   "pygments_lexer": "ipython3",
   "version": "3.7.3"
  }
 },
 "nbformat": 4,
 "nbformat_minor": 2
}
