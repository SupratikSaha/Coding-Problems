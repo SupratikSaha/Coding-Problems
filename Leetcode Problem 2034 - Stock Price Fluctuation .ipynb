{
 "cells": [
  {
   "cell_type": "markdown",
   "metadata": {},
   "source": [
    "Problem Statement.\n",
    "\n",
    "You are given a stream of records about a particular stock. Each record contains a timestamp and the corresponding price of the stock at that timestamp.\n",
    "\n",
    "Unfortunately due to the volatile nature of the stock market, the records do not come in order. Even worse, some records may be incorrect. Another record with the same timestamp may appear later in the stream correcting the price of the previous wrong record.\n",
    "\n",
    "Design an algorithm that:\n",
    "\n",
    "    Updates the price of the stock at a particular timestamp, correcting the price from any previous records at the timestamp.\n",
    "    Finds the latest price of the stock based on the current records. The latest price is the price at the latest timestamp recorded.\n",
    "    Finds the maximum price the stock has been based on the current records.\n",
    "    Finds the minimum price the stock has been based on the current records.\n",
    "\n",
    "Implement the StockPrice class:\n",
    "\n",
    "    StockPrice() Initializes the object with no price records.\n",
    "    void update(int timestamp, int price) Updates the price of the stock at the given timestamp.\n",
    "    int current() Returns the latest price of the stock.\n",
    "    int maximum() Returns the maximum price of the stock.\n",
    "    int minimum() Returns the minimum price of the stock.\n",
    "\n",
    " \n",
    "\n",
    "Example 1:\n",
    "\n",
    "Input\n",
    "[\"StockPrice\", \"update\", \"update\", \"current\", \"maximum\", \"update\", \"maximum\", \"update\", \"minimum\"]\n",
    "[[], [1, 10], [2, 5], [], [], [1, 3], [], [4, 2], []]\n",
    "Output\n",
    "[null, null, null, 5, 10, null, 5, null, 2]\n",
    "\n",
    "Explanation\n",
    "StockPrice stockPrice = new StockPrice();\n",
    "stockPrice.update(1, 10); // Timestamps are [1] with corresponding prices [10].\n",
    "stockPrice.update(2, 5);  // Timestamps are [1,2] with corresponding prices [10,5].\n",
    "stockPrice.current();     // return 5, the latest timestamp is 2 with the price being 5.\n",
    "stockPrice.maximum();     // return 10, the maximum price is 10 at timestamp 1.\n",
    "stockPrice.update(1, 3);  // The previous timestamp 1 had the wrong price, so it is updated to 3.\n",
    "                          // Timestamps are [1,2] with corresponding prices [3,5].\n",
    "stockPrice.maximum();     // return 5, the maximum price is 5 after the correction.\n",
    "stockPrice.update(4, 2);  // Timestamps are [1,2,4] with corresponding prices [3,5,2].\n",
    "stockPrice.minimum();     // return 2, the minimum price is 2 at timestamp 4.\n",
    "\n",
    " \n",
    "\n",
    "Constraints:\n",
    "\n",
    "    1 <= timestamp, price <= 109\n",
    "    At most 105 calls will be made in total to update, current, maximum, and minimum.\n",
    "    current, maximum, and minimum will be called only after update has been called at least once."
   ]
  },
  {
   "cell_type": "markdown",
   "metadata": {},
   "source": [
    "# Heap and Hahmaps - O(LOg N) update, O(1) current, maximum and minimum runtime, O(N) space"
   ]
  },
  {
   "cell_type": "code",
   "execution_count": 4,
   "metadata": {},
   "outputs": [],
   "source": [
    "from collections import defaultdict\n",
    "\n",
    "class StockPrice:\n",
    "\n",
    "    def __init__(self):\n",
    "        self.tsDict = defaultdict(int)\n",
    "        self.latestTs = 0\n",
    "        self.maxheap = []\n",
    "        self.minheap = []\n",
    "        \n",
    "    def update(self, timestamp: int, price: int) -> None:\n",
    "        self.tsDict[timestamp] = price\n",
    "        self.latestTs = max(self.latestTs, timestamp)\n",
    "        heappush(self.maxheap, (-price, timestamp))\n",
    "        heappush(self.minheap, (price, timestamp))\n",
    "\n",
    "    def current(self) -> int:\n",
    "        return self.tsDict[self.latestTs]\n",
    "\n",
    "    def maximum(self) -> int:\n",
    "        while self.maxheap and self.tsDict[self.maxheap[0][1]]  != -self.maxheap[0][0]:\n",
    "            heappop(self.maxheap)\n",
    "        return -self.maxheap[0][0]\n",
    "\n",
    "    def minimum(self) -> int:\n",
    "        while self.minheap and self.tsDict[self.minheap[0][1]]  != self.minheap[0][0]:\n",
    "            heappop(self.minheap)\n",
    "        return self.minheap[0][0]"
   ]
  }
 ],
 "metadata": {
  "kernelspec": {
   "display_name": "Python 3",
   "language": "python",
   "name": "python3"
  },
  "language_info": {
   "codemirror_mode": {
    "name": "ipython",
    "version": 3
   },
   "file_extension": ".py",
   "mimetype": "text/x-python",
   "name": "python",
   "nbconvert_exporter": "python",
   "pygments_lexer": "ipython3",
   "version": "3.7.3"
  }
 },
 "nbformat": 4,
 "nbformat_minor": 2
}
