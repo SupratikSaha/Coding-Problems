{
 "cells": [
  {
   "cell_type": "markdown",
   "metadata": {},
   "source": [
    "There is a box protected by a password. The password is a sequence of n digits where each digit can be one of the first k digits 0, 1, ..., k-1.\n",
    "\n",
    "While entering a password, the last n digits entered will automatically be matched against the correct password.\n",
    "\n",
    "For example, assuming the correct password is \"345\", if you type \"012345\", the box will open because the correct password matches the suffix of the entered password.\n",
    "\n",
    "Return any password of minimum length that is guaranteed to open the box at some point of entering it.\n",
    "\n",
    " \n",
    "\n",
    "Example 1:\n",
    "\n",
    "Input: n = 1, k = 2\n",
    "Output: \"01\"\n",
    "Note: \"10\" will be accepted too.\n",
    "\n",
    "Example 2:\n",
    "\n",
    "Input: n = 2, k = 2\n",
    "Output: \"00110\"\n",
    "Note: \"01100\", \"10011\", \"11001\" will be accepted too.\n",
    "\n",
    " \n",
    "\n",
    "Note:\n",
    "\n",
    "    n will be in the range [1, 4].\n",
    "    k will be in the range [1, 10].\n",
    "    k^n will be at most 4096."
   ]
  },
  {
   "cell_type": "markdown",
   "metadata": {},
   "source": [
    "# Hierholzer's Algorithm (Modified DFS) - O(n ∗ k^n) runtime, O(n ∗ k^n) space"
   ]
  },
  {
   "cell_type": "code",
   "execution_count": 6,
   "metadata": {},
   "outputs": [],
   "source": [
    "class Solution(object):\n",
    "    def crackSafe(self, n, k):\n",
    "        \"\"\"\n",
    "        :type n: int\n",
    "        :type k: int\n",
    "        :rtype: str\n",
    "        \"\"\"\n",
    "        \n",
    "        seen = set()\n",
    "        ans = []\n",
    "        def dfs(node):\n",
    "            for x in map(str, range(k)):\n",
    "                nei = node + x\n",
    "                if nei not in seen:\n",
    "                    seen.add(nei)\n",
    "                    dfs(nei[1:])\n",
    "                    ans.append(x)\n",
    "\n",
    "        dfs(\"0\" * (n-1))\n",
    "        return \"\".join(ans) + \"0\" * (n-1)"
   ]
  },
  {
   "cell_type": "markdown",
   "metadata": {},
   "source": [
    "# Inverse Burrows-Wheeler Transform - O(k^n) runtime, O(k^n) space"
   ]
  },
  {
   "cell_type": "code",
   "execution_count": 12,
   "metadata": {},
   "outputs": [],
   "source": [
    "class Solution(object):\n",
    "    def crackSafe(self, n, k):\n",
    "        \"\"\"\n",
    "        :type n: int\n",
    "        :type k: int\n",
    "        :rtype: str\n",
    "        \"\"\"\n",
    "        \n",
    "        M = k**(n-1)\n",
    "        P = [q*k+i for i in range(k) for q in range(M)]\n",
    "        print(M, P)\n",
    "        ans = []\n",
    "\n",
    "        for i in range(k**n):\n",
    "            j = i\n",
    "            while P[j] >= 0:\n",
    "                ans.append(str(int(j / M)))\n",
    "                P[j], j = -1, P[j]\n",
    "\n",
    "        return \"\".join(ans) + \"0\" * (n-1)#"
   ]
  },
  {
   "cell_type": "code",
   "execution_count": 13,
   "metadata": {},
   "outputs": [
    {
     "name": "stdout",
     "output_type": "stream",
     "text": [
      "2 [0, 2, 1, 3]\n"
     ]
    },
    {
     "data": {
      "text/plain": [
       "'00110'"
      ]
     },
     "execution_count": 13,
     "metadata": {},
     "output_type": "execute_result"
    }
   ],
   "source": [
    "instance = Solution()\n",
    "instance.crackSafe(2, 2)"
   ]
  }
 ],
 "metadata": {
  "kernelspec": {
   "display_name": "Python 3",
   "language": "python",
   "name": "python3"
  },
  "language_info": {
   "codemirror_mode": {
    "name": "ipython",
    "version": 3
   },
   "file_extension": ".py",
   "mimetype": "text/x-python",
   "name": "python",
   "nbconvert_exporter": "python",
   "pygments_lexer": "ipython3",
   "version": "3.7.3"
  }
 },
 "nbformat": 4,
 "nbformat_minor": 2
}
