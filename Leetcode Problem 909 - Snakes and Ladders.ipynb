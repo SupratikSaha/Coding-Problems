{
 "cells": [
  {
   "cell_type": "markdown",
   "metadata": {},
   "source": [
    "    Problem Statement.\n",
    "\n",
    "    On an N x N board, the numbers from 1 to N*N are written boustrophedonically starting from the bottom left of the board, and alternating direction each row.  For example, for a 6 x 6 board, the numbers are written as follows:\n",
    "\n",
    "\n",
    "    You start on square 1 of the board (which is always in the last row and first column).  Each move, starting from square x, consists of the following:\n",
    "\n",
    "        You choose a destination square S with number x+1, x+2, x+3, x+4, x+5, or x+6, provided this number is <= N*N.\n",
    "            (This choice simulates the result of a standard 6-sided die roll: ie., there are always at most 6 destinations, regardless of the size of the board.)\n",
    "        If S has a snake or ladder, you move to the destination of that snake or ladder.  Otherwise, you move to S.\n",
    "\n",
    "    A board square on row r and column c has a \"snake or ladder\" if board[r][c] != -1.  The destination of that snake or ladder is board[r][c].\n",
    "\n",
    "    Note that you only take a snake or ladder at most once per move: if the destination to a snake or ladder is the start of another snake or ladder, you do not continue moving.  (For example, if the board is `[[4,-1],[-1,3]]`, and on the first move your destination square is `2`, then you finish your first move at `3`, because you do not continue moving to `4`.)\n",
    "\n",
    "    Return the least number of moves required to reach square N*N.  If it is not possible, return -1.\n",
    "\n",
    "    Example 1:\n",
    "\n",
    "    Input: [\n",
    "    [-1,-1,-1,-1,-1,-1],\n",
    "    [-1,-1,-1,-1,-1,-1],\n",
    "    [-1,-1,-1,-1,-1,-1],\n",
    "    [-1,35,-1,-1,13,-1],\n",
    "    [-1,-1,-1,-1,-1,-1],\n",
    "    [-1,15,-1,-1,-1,-1]]\n",
    "    Output: 4\n",
    "    Explanation: \n",
    "    At the beginning, you start at square 1 [at row 5, column 0].\n",
    "    You decide to move to square 2, and must take the ladder to square 15.\n",
    "    You then decide to move to square 17 (row 3, column 5), and must take the snake to square 13.\n",
    "    You then decide to move to square 14, and must take the ladder to square 35.\n",
    "    You then decide to move to square 36, ending the game.\n",
    "    It can be shown that you need at least 4 moves to reach the N*N-th square, so the answer is 4.\n",
    "\n",
    "    Note:\n",
    "\n",
    "        2 <= board.length = board[0].length <= 20\n",
    "        board[i][j] is between 1 and N*N or is equal to -1.\n",
    "        The board square with number 1 has no snake or ladder.\n",
    "        The board square with number N*N has no snake or ladder."
   ]
  },
  {
   "cell_type": "markdown",
   "metadata": {},
   "source": [
    "# BFS - O(C) runtime, O(C) space, where C is the lnumber of cells in the square board, C = N * N"
   ]
  },
  {
   "cell_type": "code",
   "execution_count": 3,
   "metadata": {},
   "outputs": [],
   "source": [
    "from typing import List\n",
    "from collections import deque\n",
    "\n",
    "class Solution:\n",
    "    def snakesAndLadders(self, board: List[List[int]]) -> int:\n",
    "        N = len(board)\n",
    "\n",
    "        def get(s):\n",
    "            # Given a square num s, return board coordinates (r, c)\n",
    "            quot, rem = divmod(s-1, N)\n",
    "            row = N - 1 - quot\n",
    "            col = rem if row%2 != N%2 else N - 1 - rem\n",
    "            return row, col\n",
    "\n",
    "        dist = {1: 0}\n",
    "        queue = deque([1])\n",
    "        while queue:\n",
    "            s = queue.popleft()\n",
    "            if s == N*N: return dist[s]\n",
    "            for s2 in range(s+1, min(s+6, N*N) + 1):\n",
    "                r, c = get(s2)\n",
    "                if board[r][c] != -1:\n",
    "                    s2 = board[r][c]\n",
    "                if s2 not in dist:\n",
    "                    dist[s2] = dist[s] + 1\n",
    "                    queue.append(s2)\n",
    "        return -1"
   ]
  },
  {
   "cell_type": "code",
   "execution_count": 4,
   "metadata": {},
   "outputs": [
    {
     "data": {
      "text/plain": [
       "4"
      ]
     },
     "execution_count": 4,
     "metadata": {},
     "output_type": "execute_result"
    }
   ],
   "source": [
    "instance = Solution()\n",
    "instance.snakesAndLadders([[-1,-1,-1,-1,-1,-1],[-1,-1,-1,-1,-1,-1],[-1,-1,-1,-1,-1,-1],[-1,35,-1,-1,13,-1],[-1,-1,-1,-1,-1,-1],[-1,15,-1,-1,-1,-1]])"
   ]
  }
 ],
 "metadata": {
  "kernelspec": {
   "display_name": "Python 3",
   "language": "python",
   "name": "python3"
  },
  "language_info": {
   "codemirror_mode": {
    "name": "ipython",
    "version": 3
   },
   "file_extension": ".py",
   "mimetype": "text/x-python",
   "name": "python",
   "nbconvert_exporter": "python",
   "pygments_lexer": "ipython3",
   "version": "3.7.3"
  }
 },
 "nbformat": 4,
 "nbformat_minor": 2
}
