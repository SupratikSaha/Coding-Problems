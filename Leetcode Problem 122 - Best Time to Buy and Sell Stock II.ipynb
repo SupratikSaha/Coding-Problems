{
 "cells": [
  {
   "cell_type": "markdown",
   "metadata": {},
   "source": [
    "Problem Statement. <br/>\n",
    "\n",
    "Say you have an array prices for which the ith element is the price of a given stock on day i. <br/>\n",
    "Design an algorithm to find the maximum profit. You may complete as many transactions as you like (i.e., buy one and sell one share of the stock multiple times). <br/>\n",
    "\n",
    "Note: You may not engage in multiple transactions at the same time (i.e., you must sell the stock before you buy again). <br/>\n",
    "\n",
    "Example 1: <br/>\n",
    "Input: [7,1,5,3,6,4] <br/>\n",
    "Output: 7 <br/>\n",
    "Explanation: Buy on day 2 (price = 1) and sell on day 3 (price = 5), profit = 5-1 = 4. <br/>\n",
    "             Then buy on day 4 (price = 3) and sell on day 5 (price = 6), profit = 6-3 = 3. <br/>\n",
    "\n",
    "Example 2: <br/>\n",
    "Input: [1,2,3,4,5] <br/>\n",
    "Output: 4 <br/>\n",
    "Explanation: Buy on day 1 (price = 1) and sell on day 5 (price = 5), profit = 5-1 = 4. <br/>\n",
    "             Note that you cannot buy on day 1, buy on day 2 and sell them later, as you are <br/>\n",
    "             engaging multiple transactions at the same time. You must sell before buying again. <br/>\n",
    "\n",
    "Example 3: <br/>\n",
    "Input: [7,6,4,3,1] <br/>\n",
    "Output: 0 <br/>\n",
    "Explanation: In this case, no transaction is done, i.e. max profit = 0."
   ]
  },
  {
   "cell_type": "markdown",
   "metadata": {},
   "source": [
    "# Two Pointers - O(N) runtime, O(1) space"
   ]
  },
  {
   "cell_type": "code",
   "execution_count": 2,
   "metadata": {},
   "outputs": [],
   "source": [
    "from typing import List\n",
    "\n",
    "class Solution:\n",
    "    def maxProfit(self, prices: List[int]) -> int:\n",
    "        n = len(prices)\n",
    "        buy,maxProfit = 0, 0\n",
    "        i = 1\n",
    "        while i < n:\n",
    "            while i < n and prices[i] >= prices[i - 1]:\n",
    "                i += 1\n",
    "            if prices[buy] < prices[i - 1]:\n",
    "                maxProfit += prices[i - 1] - prices[buy]  \n",
    "  \n",
    "                \n",
    "            buy = i\n",
    "            i += 1\n",
    "            \n",
    "        return maxProfit"
   ]
  },
  {
   "cell_type": "code",
   "execution_count": 3,
   "metadata": {},
   "outputs": [
    {
     "data": {
      "text/plain": [
       "7"
      ]
     },
     "execution_count": 3,
     "metadata": {},
     "output_type": "execute_result"
    }
   ],
   "source": [
    "instance = Solution()\n",
    "instance.maxProfit([7,1,5,3,6,4] )"
   ]
  }
 ],
 "metadata": {
  "kernelspec": {
   "display_name": "Python 3",
   "language": "python",
   "name": "python3"
  },
  "language_info": {
   "codemirror_mode": {
    "name": "ipython",
    "version": 3
   },
   "file_extension": ".py",
   "mimetype": "text/x-python",
   "name": "python",
   "nbconvert_exporter": "python",
   "pygments_lexer": "ipython3",
   "version": "3.7.3"
  }
 },
 "nbformat": 4,
 "nbformat_minor": 2
}
