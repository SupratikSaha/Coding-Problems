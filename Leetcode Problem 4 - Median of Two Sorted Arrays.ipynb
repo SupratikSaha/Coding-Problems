{
 "cells": [
  {
   "cell_type": "markdown",
   "metadata": {},
   "source": [
    "Problem Statement.\n",
    "\n",
    "Given two sorted arrays nums1 and nums2 of size m and n respectively, return the median of the two sorted arrays.\n",
    "\n",
    "The overall run time complexity should be O(log (m+n)).\n",
    "\n",
    " \n",
    "\n",
    "Example 1:\n",
    "\n",
    "Input: nums1 = [1,3], nums2 = [2]\n",
    "Output: 2.00000\n",
    "Explanation: merged array = [1,2,3] and median is 2.\n",
    "\n",
    "Example 2:\n",
    "\n",
    "Input: nums1 = [1,2], nums2 = [3,4]\n",
    "Output: 2.50000\n",
    "Explanation: merged array = [1,2,3,4] and median is (2 + 3) / 2 = 2.5.\n",
    "\n",
    "Example 3:\n",
    "\n",
    "Input: nums1 = [0,0], nums2 = [0,0]\n",
    "Output: 0.00000\n",
    "\n",
    "Example 4:\n",
    "\n",
    "Input: nums1 = [], nums2 = [1]\n",
    "Output: 1.00000\n",
    "\n",
    "Example 5:\n",
    "\n",
    "Input: nums1 = [2], nums2 = []\n",
    "Output: 2.00000\n",
    "\n",
    " \n",
    "\n",
    "Constraints:\n",
    "\n",
    "    nums1.length == m\n",
    "    nums2.length == n\n",
    "    0 <= m <= 1000\n",
    "    0 <= n <= 1000\n",
    "    1 <= m + n <= 2000\n",
    "    -10^6 <= nums1[i], nums2[i] <= 10^6"
   ]
  },
  {
   "cell_type": "markdown",
   "metadata": {},
   "source": [
    "# Two Pointers - O(M + N) runtime, O(1) space"
   ]
  },
  {
   "cell_type": "code",
   "execution_count": 1,
   "metadata": {},
   "outputs": [],
   "source": [
    "from typing import List\n",
    "from math import ceil\n",
    "\n",
    "class Solution:\n",
    "    def findMedianSortedArrays(self, nums1: List[int], nums2: List[int]) -> float:\n",
    "        m, n = len(nums1), len(nums2)\n",
    "        isEven = (m + n) % 2 == 0\n",
    "        mid = ceil((m+n) / 2)\n",
    "        curr, i , j, median = 0, 0, 0, 0\n",
    "        \n",
    "        while curr <= mid:\n",
    "            n1 = nums1[i] if i < m else float('inf')\n",
    "            n2 = nums2[j] if j < n else float('inf')\n",
    "            \n",
    "            if n1 <= n2: i += 1\n",
    "            else: j += 1\n",
    "             \n",
    "            curr += 1\n",
    "            if curr == mid: median = min(n1, n2)\n",
    "            if isEven and curr == mid+1: median = (median + min(n1, n2)) / 2\n",
    "                \n",
    "        return median"
   ]
  },
  {
   "cell_type": "markdown",
   "metadata": {},
   "source": [
    "# LeetCode : Problem 4. Median of Two Sorted Arrays"
   ]
  },
  {
   "cell_type": "code",
   "execution_count": 2,
   "metadata": {},
   "outputs": [],
   "source": [
    "from typing import List\n",
    "\n",
    "class Solution:\n",
    "    def findMedianSortedArrays(self, nums1: List[int], nums2: List[int]) -> float:\n",
    "        m, n = len(nums1), len(nums2)\n",
    "        if m > n: return self.findMedianSortedArrays(nums2,  nums1)\n",
    "        \n",
    "        mid = (m + n + 1) // 2\n",
    "        start, end = 0, m\n",
    "        is_odd = ((m + n) % 2) == 1\n",
    "        \n",
    "        while start <= end:\n",
    "            a_part = (start + end) // 2\n",
    "            b_part = mid - a_part\n",
    "            \n",
    "            aleftmax = float(\"-inf\") if a_part == 0 else nums1[a_part - 1]\n",
    "            arightmin = float(\"inf\") if a_part == m else nums1[a_part]\n",
    "            bleftmax = float(\"-inf\") if b_part == 0 else nums2[b_part - 1]\n",
    "            brightmin = float(\"inf\") if b_part == n else nums2[b_part]\n",
    "            \n",
    "            if aleftmax <= brightmin and bleftmax <= arightmin:\n",
    "                if is_odd:\n",
    "                    return max(aleftmax, bleftmax)\n",
    "                else:\n",
    "                    return (max(aleftmax, bleftmax) + min(arightmin, brightmin))/ 2\n",
    "            elif aleftmax > brightmin:\n",
    "                end = a_part - 1\n",
    "            elif bleftmax > arightmin:\n",
    "                start = a_part + 1"
   ]
  },
  {
   "cell_type": "code",
   "execution_count": 3,
   "metadata": {},
   "outputs": [
    {
     "data": {
      "text/plain": [
       "-1"
      ]
     },
     "execution_count": 3,
     "metadata": {},
     "output_type": "execute_result"
    }
   ],
   "source": [
    "instnce = Solution()\n",
    "instnce.findMedianSortedArrays([3],[-2,-1])"
   ]
  },
  {
   "cell_type": "code",
   "execution_count": 4,
   "metadata": {},
   "outputs": [
    {
     "data": {
      "text/plain": [
       "1.5"
      ]
     },
     "execution_count": 4,
     "metadata": {},
     "output_type": "execute_result"
    }
   ],
   "source": [
    "instnce.findMedianSortedArrays([-7,10],[-2,5])"
   ]
  }
 ],
 "metadata": {
  "kernelspec": {
   "display_name": "Python 3",
   "language": "python",
   "name": "python3"
  },
  "language_info": {
   "codemirror_mode": {
    "name": "ipython",
    "version": 3
   },
   "file_extension": ".py",
   "mimetype": "text/x-python",
   "name": "python",
   "nbconvert_exporter": "python",
   "pygments_lexer": "ipython3",
   "version": "3.7.3"
  }
 },
 "nbformat": 4,
 "nbformat_minor": 2
}
