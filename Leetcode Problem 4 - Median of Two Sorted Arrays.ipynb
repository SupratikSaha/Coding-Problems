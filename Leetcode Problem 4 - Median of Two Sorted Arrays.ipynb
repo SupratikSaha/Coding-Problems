{
 "cells": [
  {
   "cell_type": "markdown",
   "metadata": {},
   "source": [
    "# LeetCode : Problem 4. Median of Two Sorted Arrays"
   ]
  },
  {
   "cell_type": "code",
   "execution_count": 1,
   "metadata": {},
   "outputs": [],
   "source": [
    "class Solution:\n",
    "    def findMedianSortedArrays(self, nums1 , nums2 ) -> float:\n",
    "        joined_list = nums1 + nums2\n",
    "        list_length = len(joined_list)\n",
    "        \n",
    "        sorted_list = []\n",
    "        itr=0\n",
    "        \n",
    "        while itr < list_length:\n",
    "            min_val = min(joined_list)\n",
    "            sorted_list.append(min_val) \n",
    "            joined_list.remove(min_val)\n",
    "            \n",
    "            itr+=1\n",
    "        \n",
    "        if list_length%2 == 0:\n",
    "            index2 = int(list_length/2)\n",
    "            index1 = index2 - 1\n",
    "            median = (sorted_list[index1] + sorted_list[index2])/2\n",
    "        else:\n",
    "            index = int(list_length/2)\n",
    "            median = sorted_list[index]\n",
    "        return median"
   ]
  },
  {
   "cell_type": "code",
   "execution_count": 2,
   "metadata": {},
   "outputs": [
    {
     "data": {
      "text/plain": [
       "-1"
      ]
     },
     "execution_count": 2,
     "metadata": {},
     "output_type": "execute_result"
    }
   ],
   "source": [
    "instnce = Solution()\n",
    "instnce.findMedianSortedArrays([3],[-2,-1]) "
   ]
  },
  {
   "cell_type": "code",
   "execution_count": 3,
   "metadata": {},
   "outputs": [
    {
     "data": {
      "text/plain": [
       "1.5"
      ]
     },
     "execution_count": 3,
     "metadata": {},
     "output_type": "execute_result"
    }
   ],
   "source": [
    "instnce.findMedianSortedArrays([-7,10],[-2,5]) "
   ]
  }
 ],
 "metadata": {
  "kernelspec": {
   "display_name": "Python 3",
   "language": "python",
   "name": "python3"
  },
  "language_info": {
   "codemirror_mode": {
    "name": "ipython",
    "version": 3
   },
   "file_extension": ".py",
   "mimetype": "text/x-python",
   "name": "python",
   "nbconvert_exporter": "python",
   "pygments_lexer": "ipython3",
   "version": "3.7.3"
  }
 },
 "nbformat": 4,
 "nbformat_minor": 2
}
