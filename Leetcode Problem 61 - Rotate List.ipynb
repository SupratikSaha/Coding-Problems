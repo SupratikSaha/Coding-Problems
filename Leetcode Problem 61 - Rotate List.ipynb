{
 "cells": [
  {
   "cell_type": "markdown",
   "metadata": {},
   "source": [
    "Problem Statement.\n",
    "\n",
    "Given the head of a linked list, rotate the list to the right by k places.\n",
    "\n",
    " \n",
    "\n",
    "Example 1:\n",
    "\n",
    "Input: head = [1,2,3,4,5], k = 2\n",
    "Output: [4,5,1,2,3]\n",
    "\n",
    "Example 2:\n",
    "\n",
    "Input: head = [0,1,2], k = 4\n",
    "Output: [2,0,1]\n",
    "\n",
    " \n",
    "\n",
    "Constraints:\n",
    "\n",
    "    The number of nodes in the list is in the range [0, 500].\n",
    "    -100 <= Node.val <= 100\n",
    "    0 <= k <= 2 * 10^9"
   ]
  },
  {
   "cell_type": "markdown",
   "metadata": {},
   "source": [
    "# Two pass - O(N) runtime, O(1) space"
   ]
  },
  {
   "cell_type": "code",
   "execution_count": 1,
   "metadata": {},
   "outputs": [],
   "source": [
    "# Definition for singly-linked list.\n",
    "# class ListNode:\n",
    "#     def __init__(self, val=0, next=None):\n",
    "#         self.val = val\n",
    "#         self.next = next\n",
    "        \n",
    "class Solution:\n",
    "    def rotateRight(self, head: ListNode, k: int) -> ListNode:\n",
    "        if not head or not head.next or k==0: return head\n",
    "        n = 0\n",
    "        \n",
    "        curr = head\n",
    "        while curr.next:\n",
    "            n += 1\n",
    "            curr = curr.next\n",
    "        \n",
    "        pos = k % n\n",
    "        if pos == 0: return head\n",
    "        curr.next = head\n",
    "        pos = n - pos\n",
    "        \n",
    "        prev, curr = None, head\n",
    "        for i in range(pos):\n",
    "            prev, curr = curr, curr.next\n",
    "            \n",
    "        prev.next = None\n",
    "        \n",
    "        return curr"
   ]
  }
 ],
 "metadata": {
  "kernelspec": {
   "display_name": "Python 3",
   "language": "python",
   "name": "python3"
  },
  "language_info": {
   "codemirror_mode": {
    "name": "ipython",
    "version": 3
   },
   "file_extension": ".py",
   "mimetype": "text/x-python",
   "name": "python",
   "nbconvert_exporter": "python",
   "pygments_lexer": "ipython3",
   "version": "3.7.3"
  }
 },
 "nbformat": 4,
 "nbformat_minor": 2
}
