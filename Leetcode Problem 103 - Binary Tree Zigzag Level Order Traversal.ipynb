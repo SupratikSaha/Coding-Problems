{
 "cells": [
  {
   "cell_type": "markdown",
   "metadata": {},
   "source": [
    "Problem Statement. <br/>\n",
    "\n",
    "Given a binary tree, return the zigzag level order traversal of its nodes' values. (ie, from left to right, then right to left for the next level and alternate between). <br/>\n",
    "\n",
    "For example: <br/>\n",
    "Given binary tree [3,9,20,null,null,15,7], <br/>\n",
    "return its zigzag level order traversal as: <br/>\n",
    "[[3], [20, 9], [15, 7]]"
   ]
  },
  {
   "cell_type": "markdown",
   "metadata": {},
   "source": [
    "# BFS - O(N) runtime, O(N) space"
   ]
  },
  {
   "cell_type": "code",
   "execution_count": 1,
   "metadata": {},
   "outputs": [],
   "source": [
    "from typing import List\n",
    "\n",
    "# Definition for a binary tree node.\n",
    "# class TreeNode:\n",
    "#     def __init__(self, val=0, left=None, right=None):\n",
    "#         self.val = val\n",
    "#         self.left = left\n",
    "#         self.right = right\n",
    "        \n",
    "class Solution:\n",
    "    def zigzagLevelOrder(self, root: TreeNode) -> List[List[int]]:\n",
    "        if not root:\n",
    "            return []\n",
    "        \n",
    "        queue = deque()\n",
    "        queue.append(root)\n",
    "        resList = []\n",
    "        isOrderLeft = True\n",
    "        \n",
    "        while queue:\n",
    "            currList = deque()\n",
    "            len_queue = len(queue)\n",
    "            \n",
    "            for _ in range(len_queue):\n",
    "                currNode = queue.popleft()\n",
    "                \n",
    "                if isOrderLeft:\n",
    "                    currList.append(currNode.val)\n",
    "                else:\n",
    "                    currList.appendleft(currNode.val)\n",
    "\n",
    "                if currNode.left:\n",
    "                    queue.append(currNode.left)\n",
    "                if currNode.right:\n",
    "                    queue.append(currNode.right)\n",
    "                    \n",
    "            resList.append(currList)\n",
    "            \n",
    "            isOrderLeft = not isOrderLeft\n",
    "            \n",
    "        return resList"
   ]
  },
  {
   "cell_type": "markdown",
   "metadata": {},
   "source": [
    "# DFS - O(N) runtime, O(N) space"
   ]
  },
  {
   "cell_type": "code",
   "execution_count": 2,
   "metadata": {},
   "outputs": [],
   "source": [
    "from typing import List\n",
    "\n",
    "# Definition for a binary tree node.\n",
    "# class TreeNode:\n",
    "#     def __init__(self, val=0, left=None, right=None):\n",
    "#         self.val = val\n",
    "#         self.left = left\n",
    "#         self.right = right\n",
    "        \n",
    "class Solution:\n",
    "    def zigzagLevelOrder(self, root: TreeNode) -> List[List[int]]:\n",
    "        if root is None:\n",
    "            return []\n",
    "\n",
    "        results = []\n",
    "        def dfs(node, level):\n",
    "            if level >= len(results):\n",
    "                results.append(deque([node.val]))\n",
    "            else:\n",
    "                if level % 2 == 0:\n",
    "                    results[level].append(node.val)\n",
    "                else:\n",
    "                    results[level].appendleft(node.val)\n",
    "\n",
    "            for next_node in [node.left, node.right]:\n",
    "                if next_node is not None:\n",
    "                    dfs(next_node, level+1)\n",
    "\n",
    "        # normal level order traversal with DFS\n",
    "        dfs(root, 0)\n",
    "\n",
    "        return results"
   ]
  }
 ],
 "metadata": {
  "kernelspec": {
   "display_name": "Python 3",
   "language": "python",
   "name": "python3"
  },
  "language_info": {
   "codemirror_mode": {
    "name": "ipython",
    "version": 3
   },
   "file_extension": ".py",
   "mimetype": "text/x-python",
   "name": "python",
   "nbconvert_exporter": "python",
   "pygments_lexer": "ipython3",
   "version": "3.7.3"
  }
 },
 "nbformat": 4,
 "nbformat_minor": 2
}
