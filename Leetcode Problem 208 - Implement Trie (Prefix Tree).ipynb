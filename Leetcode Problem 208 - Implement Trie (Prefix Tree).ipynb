{
 "cells": [
  {
   "cell_type": "markdown",
   "metadata": {},
   "source": [
    "Problem Statement. <br/>\n",
    "\n",
    "Implement a trie with insert, search, and startsWith methods. <br/>\n",
    "\n",
    "Example: <br/>\n",
    "Trie trie = new Trie(); <br/>\n",
    "\n",
    "trie.insert(\"apple\"); <br/>\n",
    "trie.search(\"apple\");   // returns true <br/>\n",
    "trie.search(\"app\");     // returns false <br/>\n",
    "trie.startsWith(\"app\"); // returns true <br/>\n",
    "trie.insert(\"app\");    <br/>\n",
    "trie.search(\"app\");     // returns true <br/>"
   ]
  },
  {
   "cell_type": "markdown",
   "metadata": {},
   "source": [
    "# LinkedList - Insert, Search, StartsWith - O(N) runtime, O(1) space"
   ]
  },
  {
   "cell_type": "code",
   "execution_count": 1,
   "metadata": {},
   "outputs": [],
   "source": [
    "class TrieNode:\n",
    "    def __init__(self):\n",
    "        self.nextList = dict()\n",
    "        self.isEndNode = False\n",
    "\n",
    "class Trie:\n",
    "\n",
    "    def __init__(self):\n",
    "        \"\"\"\n",
    "        Initialize your data structure here.\n",
    "        \"\"\"\n",
    "        self.root = TrieNode()\n",
    "        \n",
    "\n",
    "    def insert(self, word: str) -> None:\n",
    "        \"\"\"\n",
    "        Inserts a word into the trie.\n",
    "        \"\"\"\n",
    "        \n",
    "        # word = word.lower()\n",
    "        head = self.root\n",
    "        for i, char in enumerate(word):\n",
    "            index = ord(char) - ord('a')\n",
    "            if index not in head.nextList:\n",
    "                head.nextList[index] = TrieNode()\n",
    "            head = head.nextList[index]\n",
    "        \n",
    "        head.isEndNode = True\n",
    "        \n",
    "\n",
    "    def search(self, word: str) -> bool:\n",
    "        \"\"\"\n",
    "        Returns if the word is in the trie.\n",
    "        \"\"\"\n",
    "        \n",
    "        # word = word.lower()\n",
    "        head = self.root\n",
    "        for i, char in enumerate(word):\n",
    "            index = ord(char) - ord('a')\n",
    "            if index not in head.nextList:\n",
    "                return False\n",
    "            head = head.nextList[index]\n",
    "        \n",
    "        return head.isEndNode\n",
    "        \n",
    "\n",
    "    def startsWith(self, prefix: str) -> bool:\n",
    "        \"\"\"\n",
    "        Returns if there is any word in the trie that starts with the given prefix.\n",
    "        \"\"\"\n",
    "        \n",
    "        # prefix = prefix.lower()\n",
    "        head = self.root\n",
    "        for i, char in enumerate(prefix):\n",
    "            index = ord(char) - ord('a')\n",
    "            if index not in head.nextList:\n",
    "                return False\n",
    "            head = head.nextList[index]\n",
    "        \n",
    "        return True"
   ]
  },
  {
   "cell_type": "code",
   "execution_count": 2,
   "metadata": {},
   "outputs": [],
   "source": [
    "obj = Trie()\n",
    "obj.insert('apple')\n",
    "param_2 = obj.search('app')\n",
    "param_3 = obj.startsWith('app')"
   ]
  }
 ],
 "metadata": {
  "kernelspec": {
   "display_name": "Python 3",
   "language": "python",
   "name": "python3"
  },
  "language_info": {
   "codemirror_mode": {
    "name": "ipython",
    "version": 3
   },
   "file_extension": ".py",
   "mimetype": "text/x-python",
   "name": "python",
   "nbconvert_exporter": "python",
   "pygments_lexer": "ipython3",
   "version": "3.7.3"
  }
 },
 "nbformat": 4,
 "nbformat_minor": 2
}
