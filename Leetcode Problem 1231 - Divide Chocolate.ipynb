{
 "cells": [
  {
   "cell_type": "markdown",
   "metadata": {},
   "source": [
    "Problem Statement.\n",
    "\n",
    "You have one chocolate bar that consists of some chunks. Each chunk has its own sweetness given by the array sweetness.\n",
    "\n",
    "You want to share the chocolate with your k friends so you start cutting the chocolate bar into k + 1 pieces using k cuts, each piece consists of some consecutive chunks.\n",
    "\n",
    "Being generous, you will eat the piece with the minimum total sweetness and give the other pieces to your friends.\n",
    "\n",
    "Find the maximum total sweetness of the piece you can get by cutting the chocolate bar optimally.\n",
    "\n",
    " \n",
    "\n",
    "Example 1:\n",
    "\n",
    "Input: sweetness = [1,2,3,4,5,6,7,8,9], k = 5\n",
    "Output: 6\n",
    "Explanation: You can divide the chocolate to [1,2,3], [4,5], [6], [7], [8], [9]\n",
    "\n",
    "Example 2:\n",
    "\n",
    "Input: sweetness = [5,6,7,8,9,1,2,3,4], k = 8\n",
    "Output: 1\n",
    "Explanation: There is only one way to cut the bar into 9 pieces.\n",
    "\n",
    "Example 3:\n",
    "\n",
    "Input: sweetness = [1,2,2,1,2,2,1,2,2], k = 2\n",
    "Output: 5\n",
    "Explanation: You can divide the chocolate to [1,2,2], [1,2,2], [1,2,2]\n",
    "\n",
    " \n",
    "\n",
    "Constraints:\n",
    "\n",
    "    0 <= k < sweetness.length <= 10^4\n",
    "    1 <= sweetness[i] <= 10^5"
   ]
  },
  {
   "cell_type": "markdown",
   "metadata": {},
   "source": [
    "# Binary Search - O(Log N) runtime, O(1) space, where N is sum(sweetness) // (k+1)"
   ]
  },
  {
   "cell_type": "code",
   "execution_count": 1,
   "metadata": {},
   "outputs": [],
   "source": [
    "from typing import List\n",
    "\n",
    "class Solution:\n",
    "    def maximizeSweetness(self, sweetness: List[int], k: int) -> int:\n",
    "        left, right = 1, sum(sweetness) // (k + 1)\n",
    "        while left < right:\n",
    "            mid = (left + right + 1) // 2\n",
    "            cur = cuts = 0\n",
    "            for sweetVal in sweetness:\n",
    "                cur += sweetVal\n",
    "                if cur >= mid:\n",
    "                    cuts += 1\n",
    "                    cur = 0\n",
    "            if cuts > k:\n",
    "                left = mid\n",
    "            else:\n",
    "                right = mid - 1\n",
    "        return right"
   ]
  },
  {
   "cell_type": "code",
   "execution_count": 2,
   "metadata": {},
   "outputs": [
    {
     "data": {
      "text/plain": [
       "5"
      ]
     },
     "execution_count": 2,
     "metadata": {},
     "output_type": "execute_result"
    }
   ],
   "source": [
    "instance = Solution()\n",
    "instance.maximizeSweetness([1,2,2,1,2,2,1,2,2], 2)"
   ]
  }
 ],
 "metadata": {
  "kernelspec": {
   "display_name": "Python 3",
   "language": "python",
   "name": "python3"
  },
  "language_info": {
   "codemirror_mode": {
    "name": "ipython",
    "version": 3
   },
   "file_extension": ".py",
   "mimetype": "text/x-python",
   "name": "python",
   "nbconvert_exporter": "python",
   "pygments_lexer": "ipython3",
   "version": "3.7.3"
  }
 },
 "nbformat": 4,
 "nbformat_minor": 2
}
