{
 "cells": [
  {
   "cell_type": "markdown",
   "metadata": {},
   "source": [
    "Problem Statement.\n",
    "\n",
    "Given a string expression representing arbitrarily nested ternary expressions, evaluate the expression, and return the result of it.\n",
    "\n",
    "You can always assume that the given expression is valid and only contains digits, '?', ':', 'T', and 'F' where 'T' is true and 'F' is false. All the numbers in the expression are one-digit numbers (i.e., in the range [0, 9]).\n",
    "\n",
    "The conditional expressions group right-to-left (as usual in most languages), and the result of the expression will always evaluate to either a digit, 'T' or 'F'.\n",
    "\n",
    " \n",
    "\n",
    "Example 1:\n",
    "\n",
    "Input: expression = \"T?2:3\"\n",
    "Output: \"2\"\n",
    "Explanation: If true, then result is 2; otherwise result is 3.\n",
    "\n",
    "Example 2:\n",
    "\n",
    "Input: expression = \"F?1:T?4:5\"\n",
    "Output: \"4\"\n",
    "Explanation: The conditional expressions group right-to-left. Using parenthesis, it is read/evaluated as:\n",
    "\"(F ? 1 : (T ? 4 : 5))\" --> \"(F ? 1 : 4)\" --> \"4\"\n",
    "or \"(F ? 1 : (T ? 4 : 5))\" --> \"(T ? 4 : 5)\" --> \"4\"\n",
    "\n",
    "Example 3:\n",
    "\n",
    "Input: expression = \"T?T?F:5:3\"\n",
    "Output: \"F\"\n",
    "Explanation: The conditional expressions group right-to-left. Using parenthesis, it is read/evaluated as:\n",
    "\"(T ? (T ? F : 5) : 3)\" --> \"(T ? F : 3)\" --> \"F\"\n",
    "\"(T ? (T ? F : 5) : 3)\" --> \"(T ? F : 5)\" --> \"F\"\n",
    "\n",
    " \n",
    "\n",
    "Constraints:\n",
    "\n",
    "    5 <= expression.length <= 104\n",
    "    expression consists of digits, 'T', 'F', '?', and ':'.\n",
    "    It is guaranteed that expression is a valid ternary expression and that each number is a one-digit number."
   ]
  },
  {
   "cell_type": "markdown",
   "metadata": {},
   "source": [
    "# Divide and Conquer - O(N*D) runtime, O(D) space"
   ]
  },
  {
   "cell_type": "code",
   "execution_count": 1,
   "metadata": {},
   "outputs": [],
   "source": [
    "class Solution:\n",
    "    def parseTernary(self, expression: str) -> str:\n",
    "        \n",
    "        def helper(left, right):\n",
    "            # base case\n",
    "            if left == right:\n",
    "                return expression[left:right+1]\n",
    "            \n",
    "            index = left + 2\n",
    "            count = 0\n",
    "            # finding the partition\n",
    "            while index < right + 1:\n",
    "                if expression[index] == '?':\n",
    "                    count += 1\n",
    "                elif expression[index] == ':':\n",
    "                    count -= 1\n",
    "                if count == -1:\n",
    "                    break\n",
    "                index += 1\n",
    "                \n",
    "            # determine where is the answer coming from \n",
    "            if expression[left] == 'T':\n",
    "                return helper(left + 2, index-1)\n",
    "            else:\n",
    "                return helper(index+1, right)\n",
    "            \n",
    "        return helper(0, len(expression)-1)"
   ]
  },
  {
   "cell_type": "markdown",
   "metadata": {},
   "source": [
    "# Stack - O(N) runtime O(N) space"
   ]
  },
  {
   "cell_type": "code",
   "execution_count": 2,
   "metadata": {},
   "outputs": [],
   "source": [
    "class Solution:\n",
    "    def parseTernary(self, expression: str) -> str:\n",
    "        i = len(expression) - 1\n",
    "        stack = []\n",
    "        \n",
    "        while i >= 0:\n",
    "            if expression[i].isdigit() or expression[i] in ['T', 'F']:\n",
    "                stack.append(expression[i])\n",
    "            elif expression[i] == '?':\n",
    "                i -= 1\n",
    "                temp = stack.pop()\n",
    "                if expression[i] == 'T':\n",
    "                    stack.pop()\n",
    "                    stack.append(temp)\n",
    "                    \n",
    "            i -= 1\n",
    "            \n",
    "        return stack[0]"
   ]
  },
  {
   "cell_type": "markdown",
   "metadata": {},
   "source": [
    "# Without using Stack - O(N) runtime O(1) space"
   ]
  },
  {
   "cell_type": "code",
   "execution_count": 3,
   "metadata": {},
   "outputs": [],
   "source": [
    "class Solution:\n",
    "    def parseTernary(self, expression: str) -> str:\n",
    "        truelist = ['T','1','2','3','4','5','6','7','8','9']\n",
    "        i = qcount = 0\n",
    "        current = False\n",
    "        \n",
    "        while i < len(expression):\n",
    "            if i+1 < len(expression) and expression[i+1] == '?' and qcount == 0:\n",
    "                current = True if expression[i] in truelist else False\n",
    "            elif expression[i] == '?':\n",
    "                if not current:\n",
    "                    qcount += 1\n",
    "            elif expression[i] == ':':\n",
    "                if qcount != 0:\n",
    "                    qcount -= 1\n",
    "            else:\n",
    "                if qcount == 0:\n",
    "                    return expression[i]\n",
    "            i+=1"
   ]
  },
  {
   "cell_type": "code",
   "execution_count": 4,
   "metadata": {},
   "outputs": [
    {
     "data": {
      "text/plain": [
       "'F'"
      ]
     },
     "execution_count": 4,
     "metadata": {},
     "output_type": "execute_result"
    }
   ],
   "source": [
    "instance = Solution()\n",
    "instance.parseTernary(\"T?T?F:5:3\")"
   ]
  }
 ],
 "metadata": {
  "kernelspec": {
   "display_name": "Python 3",
   "language": "python",
   "name": "python3"
  },
  "language_info": {
   "codemirror_mode": {
    "name": "ipython",
    "version": 3
   },
   "file_extension": ".py",
   "mimetype": "text/x-python",
   "name": "python",
   "nbconvert_exporter": "python",
   "pygments_lexer": "ipython3",
   "version": "3.7.3"
  }
 },
 "nbformat": 4,
 "nbformat_minor": 2
}
