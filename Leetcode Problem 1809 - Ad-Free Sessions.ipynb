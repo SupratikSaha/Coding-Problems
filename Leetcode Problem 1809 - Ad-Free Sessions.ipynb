{
 "cells": [
  {
   "cell_type": "markdown",
   "metadata": {},
   "source": [
    "    Problem Statement.\n",
    "\n",
    "    Table: Playback\n",
    "\n",
    "    +-------------+------+\n",
    "    | Column Name | Type |\n",
    "    +-------------+------+\n",
    "    | session_id  | int  |\n",
    "    | customer_id | int  |\n",
    "    | start_time  | int  |\n",
    "    | end_time    | int  |\n",
    "    +-------------+------+\n",
    "    session_id is the primary key for this table.\n",
    "    customer_id is the ID of the customer watching this session.\n",
    "    The session runs during the inclusive interval between start_time and end_time.\n",
    "    It is guaranteed that start_time <= end_time and that two sessions for the same customer do not intersect.\n",
    "\n",
    "\n",
    "\n",
    "    Table: Ads\n",
    "\n",
    "    +-------------+------+\n",
    "    | Column Name | Type |\n",
    "    +-------------+------+\n",
    "    | ad_id       | int  |\n",
    "    | customer_id | int  |\n",
    "    | timestamp   | int  |\n",
    "    +-------------+------+\n",
    "    ad_id is the primary key for this table.\n",
    "    customer_id is the ID of the customer viewing this ad.\n",
    "    timestamp is the moment of time at which the ad was shown.\n",
    "\n",
    "\n",
    "\n",
    "    Write an SQL query to report all the sessions that did not get shown any ads.\n",
    "\n",
    "    Return the result table in any order.\n",
    "\n",
    "    The query result format is in the following example.\n",
    "\n",
    "\n",
    "\n",
    "    Example 1:\n",
    "\n",
    "    Input: \n",
    "    Playback table:\n",
    "    +------------+-------------+------------+----------+\n",
    "    | session_id | customer_id | start_time | end_time |\n",
    "    +------------+-------------+------------+----------+\n",
    "    | 1          | 1           | 1          | 5        |\n",
    "    | 2          | 1           | 15         | 23       |\n",
    "    | 3          | 2           | 10         | 12       |\n",
    "    | 4          | 2           | 17         | 28       |\n",
    "    | 5          | 2           | 2          | 8        |\n",
    "    +------------+-------------+------------+----------+\n",
    "    Ads table:\n",
    "    +-------+-------------+-----------+\n",
    "    | ad_id | customer_id | timestamp |\n",
    "    +-------+-------------+-----------+\n",
    "    | 1     | 1           | 5         |\n",
    "    | 2     | 2           | 17        |\n",
    "    | 3     | 2           | 20        |\n",
    "    +-------+-------------+-----------+\n",
    "    Output: \n",
    "    +------------+\n",
    "    | session_id |\n",
    "    +------------+\n",
    "    | 2          |\n",
    "    | 3          |\n",
    "    | 5          |\n",
    "    +------------+\n",
    "    Explanation: \n",
    "    The ad with ID 1 was shown to user 1 at time 5 while they were in session 1.\n",
    "    The ad with ID 2 was shown to user 2 at time 17 while they were in session 4.\n",
    "    The ad with ID 3 was shown to user 2 at time 20 while they were in session 4.\n",
    "    We can see that sessions 1 and 4 had at least one ad. Sessions 2, 3, and 5 did not have any ads, so we return them."
   ]
  },
  {
   "cell_type": "markdown",
   "metadata": {},
   "source": [
    "# Left Join"
   ]
  },
  {
   "cell_type": "code",
   "execution_count": null,
   "metadata": {},
   "outputs": [],
   "source": [
    "select session_id\n",
    "from Playback p\n",
    "left join Ads a\n",
    "on p.customer_id = a.customer_id and  a.timestamp between p.start_time and p.end_time\n",
    "where ad_id is null"
   ]
  }
 ],
 "metadata": {
  "kernelspec": {
   "display_name": "Python 3",
   "language": "python",
   "name": "python3"
  },
  "language_info": {
   "codemirror_mode": {
    "name": "ipython",
    "version": 3
   },
   "file_extension": ".py",
   "mimetype": "text/x-python",
   "name": "python",
   "nbconvert_exporter": "python",
   "pygments_lexer": "ipython3",
   "version": "3.7.3"
  }
 },
 "nbformat": 4,
 "nbformat_minor": 2
}
