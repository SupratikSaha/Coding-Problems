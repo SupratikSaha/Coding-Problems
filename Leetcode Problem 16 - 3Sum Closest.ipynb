{
 "cells": [
  {
   "cell_type": "markdown",
   "metadata": {},
   "source": [
    "Problem Statement.\n",
    "\n",
    "Given an array nums of n integers and an integer target, find three integers in nums such that the sum is closest to target. Return the sum of the three integers. You may assume that each input would have exactly one solution.\n",
    "\n",
    "Example 1:\n",
    "\n",
    "Input: nums = [-1,2,1,-4], target = 1\n",
    "Output: 2\n",
    "Explanation: The sum that is closest to the target is 2. (-1 + 2 + 1 = 2).\n",
    "\n",
    "Constraints:\n",
    "\n",
    "    3 <= nums.length <= 10^3\n",
    "    -10^3 <= nums[i] <= 10^3\n",
    "    -10^4 <= target <= 10^4"
   ]
  },
  {
   "cell_type": "markdown",
   "metadata": {},
   "source": [
    "# Sort and Two Pointers - O(N ^ 2) runtime, O(N) space"
   ]
  },
  {
   "cell_type": "code",
   "execution_count": 1,
   "metadata": {},
   "outputs": [],
   "source": [
    "from typing import List\n",
    "\n",
    "class Solution:\n",
    "    def threeSumClosest(self, nums: List[int], target: int) -> int:\n",
    "        nums.sort()\n",
    "        n = len(nums)\n",
    "        closest = float('inf')\n",
    "        currSum = float('inf')\n",
    "        \n",
    "        for i in range(n-2):\n",
    "            firstNum = nums[i]\n",
    "            left, right = i+1, n-1\n",
    "            while left < right:\n",
    "                sumVal = firstNum + nums[left] + nums[right]\n",
    "                diff = abs(target - sumVal)\n",
    "                if diff < closest: \n",
    "                    closest = diff\n",
    "                    currSum = sumVal\n",
    "                if sumVal == target: return currSum\n",
    "                elif sumVal < target: left += 1\n",
    "                else: right -= 1\n",
    "                    \n",
    "        return currSum"
   ]
  },
  {
   "cell_type": "code",
   "execution_count": 3,
   "metadata": {},
   "outputs": [
    {
     "data": {
      "text/plain": [
       "2"
      ]
     },
     "execution_count": 3,
     "metadata": {},
     "output_type": "execute_result"
    }
   ],
   "source": [
    "instance = Solution()\n",
    "instance.threeSumClosest([-1,2,1,-4], 2)"
   ]
  }
 ],
 "metadata": {
  "kernelspec": {
   "display_name": "Python 3",
   "language": "python",
   "name": "python3"
  },
  "language_info": {
   "codemirror_mode": {
    "name": "ipython",
    "version": 3
   },
   "file_extension": ".py",
   "mimetype": "text/x-python",
   "name": "python",
   "nbconvert_exporter": "python",
   "pygments_lexer": "ipython3",
   "version": "3.7.3"
  }
 },
 "nbformat": 4,
 "nbformat_minor": 2
}
