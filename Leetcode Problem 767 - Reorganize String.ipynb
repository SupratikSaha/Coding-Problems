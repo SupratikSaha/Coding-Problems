{
 "cells": [
  {
   "cell_type": "markdown",
   "metadata": {},
   "source": [
    "Problem Statement. <br/>\n",
    "\n",
    "Given a string S, check if the letters can be rearranged so that two characters that are adjacent to each other are not the same. <br/>\n",
    "If possible, output any possible result.  If not possible, return the empty string. <br/>\n",
    "\n",
    "Example 1: <br/>\n",
    "Input: S = \"aab\" <br/>\n",
    "Output: \"aba\" <br/>\n",
    "\n",
    "Example 2: <br/>\n",
    "Input: S = \"aaab\" <br/>\n",
    "Output: \"\" <br/>\n",
    "\n",
    "Note: S will consist of lowercase letters and have length in range [1, 500]."
   ]
  },
  {
   "cell_type": "markdown",
   "metadata": {},
   "source": [
    "# Minheap - O(N * (C + log C)) runtime, O(N + C) space, where N is the length of S and C is the number of unique characters"
   ]
  },
  {
   "cell_type": "code",
   "execution_count": 1,
   "metadata": {},
   "outputs": [],
   "source": [
    "from collections import Counter, defaultdict\n",
    "from heapq import heappush, heappop\n",
    "\n",
    "class Solution:\n",
    "    def reorganizeString(self, S: str) -> str:\n",
    "        indexes = defaultdict(list)\n",
    "        \n",
    "        S = list(S)\n",
    "        counter = Counter(S)\n",
    "        \n",
    "        for i in range(len(S)):\n",
    "            heappush(indexes[S[i]], i)\n",
    "        \n",
    "        def rearrange(S, indexes, counter, i, replaceChar):\n",
    "            #print(i, S, replaceChar, indexes, chars)\n",
    "            if i != len(S) - 1 and replaceChar == S[i] and len(indexes) == 1:\n",
    "                return False\n",
    "            \n",
    "            index = heappop(indexes[replaceChar])\n",
    "            if not indexes[replaceChar]:\n",
    "                indexes.pop(replaceChar)\n",
    "            counter[replaceChar] -= 1\n",
    "            if replaceChar != S[i]:\n",
    "                heappop(indexes[S[i]])\n",
    "                heappush(indexes[S[i]], index)\n",
    "                S[i], S[index] = S[index], S[i]\n",
    "                #print(index)\n",
    "            \n",
    "            return True\n",
    "                \n",
    "        i = 0\n",
    "        while i < len(S):\n",
    "            replaceChar = max(counter.items(), key=lambda x: x[1])[0]\n",
    "            if not rearrange(S, indexes, counter, i, replaceChar):\n",
    "                break\n",
    "            i += 1\n",
    "            if i < len(S):\n",
    "                replaceChar = max(counter.items(), key=lambda x: x[1] and x[0] != replaceChar)[0]\n",
    "                if not rearrange(S, indexes, counter, i, replaceChar):\n",
    "                    break\n",
    "                i += 1\n",
    "                \n",
    "        return \"\".join(S) if i == len(S) else \"\" "
   ]
  },
  {
   "cell_type": "markdown",
   "metadata": {},
   "source": [
    "# List Slicing - O(C * (N + log C)) runtime, O(N) space, where N is the length of S and C is the number of unique characters"
   ]
  },
  {
   "cell_type": "code",
   "execution_count": 2,
   "metadata": {},
   "outputs": [],
   "source": [
    "class Solution:\n",
    "    def reorganizeString(self, S: str) -> str:\n",
    "        N = len(S)\n",
    "        count = Counter(S)\n",
    "        A = []\n",
    "        for c, x in sorted((count[x], x) for x in set(S)):\n",
    "            if c > (N+1)/2: return \"\"\n",
    "            A.extend(c * x)\n",
    "        ans = [None] * N\n",
    "        ans[::2], ans[1::2] = A[N//2:], A[:N//2]\n",
    "        return \"\".join(ans)"
   ]
  },
  {
   "cell_type": "markdown",
   "metadata": {},
   "source": [
    "# Maxheap - O(N log C) runtime, O(C) space, where N is the length of S and C is the number of unique characters"
   ]
  },
  {
   "cell_type": "code",
   "execution_count": 3,
   "metadata": {},
   "outputs": [],
   "source": [
    "from heapq import heapify, heappush, heappop\n",
    "\n",
    "class Solution:\n",
    "    def reorganizeString(self, S: str) -> str:\n",
    "        count = Counter(s)\n",
    "        pq = []\n",
    "        n = len(s)\n",
    "        for x in count:   \n",
    "            if count[x] > (n + 1) / 2: \n",
    "                return \"\"\n",
    "            pq.append((-count[x], x))\n",
    "            \n",
    "        heapify(pq)\n",
    "\n",
    "        ans = []\n",
    "        while len(pq) >= 2:\n",
    "            nct1, ch1 = heappop(pq)\n",
    "            nct2, ch2 = heappop(pq)\n",
    "            ans.extend([ch1, ch2])\n",
    "            if nct1 + 1: heappush(pq, (nct1 + 1, ch1))\n",
    "            if nct2 + 1: heappush(pq, (nct2 + 1, ch2))\n",
    "\n",
    "        return \"\".join(ans) + (pq[0][1] if pq else '')"
   ]
  },
  {
   "cell_type": "code",
   "execution_count": 4,
   "metadata": {},
   "outputs": [
    {
     "data": {
      "text/plain": [
       "'pepbpepgpqpspvpwpyp'"
      ]
     },
     "execution_count": 4,
     "metadata": {},
     "output_type": "execute_result"
    }
   ],
   "source": [
    "instance = Solution()\n",
    "instance.reorganizeString(\"eqpspvbpppwpgyppppe\")"
   ]
  }
 ],
 "metadata": {
  "kernelspec": {
   "display_name": "Python 3",
   "language": "python",
   "name": "python3"
  },
  "language_info": {
   "codemirror_mode": {
    "name": "ipython",
    "version": 3
   },
   "file_extension": ".py",
   "mimetype": "text/x-python",
   "name": "python",
   "nbconvert_exporter": "python",
   "pygments_lexer": "ipython3",
   "version": "3.7.3"
  }
 },
 "nbformat": 4,
 "nbformat_minor": 2
}
