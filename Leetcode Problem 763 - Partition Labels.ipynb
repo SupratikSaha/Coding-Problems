{
 "cells": [
  {
   "cell_type": "markdown",
   "metadata": {},
   "source": [
    "    Problem Statement.\n",
    "\n",
    "    A string S of lowercase English letters is given. We want to partition this string into as many parts as possible so that each letter appears in at most one part, and return a list of integers representing the size of these parts.\n",
    "\n",
    "\n",
    "\n",
    "    Example 1:\n",
    "\n",
    "    Input: S = \"ababcbacadefegdehijhklij\"\n",
    "    Output: [9,7,8]\n",
    "    Explanation:\n",
    "    The partition is \"ababcbaca\", \"defegde\", \"hijhklij\".\n",
    "    This is a partition so that each letter appears in at most one part.\n",
    "    A partition like \"ababcbacadefegde\", \"hijhklij\" is incorrect, because it splits S into less parts.\n",
    "\n",
    "\n",
    "\n",
    "    Note:\n",
    "\n",
    "        S will have length in range [1, 500].\n",
    "        S will consist of lowercase English letters ('a' to 'z') only."
   ]
  },
  {
   "cell_type": "markdown",
   "metadata": {},
   "source": [
    "# HashMap - O(N) runtime, O(N) space"
   ]
  },
  {
   "cell_type": "code",
   "execution_count": 3,
   "metadata": {},
   "outputs": [],
   "source": [
    "from typing import List\n",
    "from collections import defaultdict\n",
    "\n",
    "class Solution:\n",
    "    def partitionLabels(self, S: str) -> List[int]:\n",
    "        \n",
    "        charDict = defaultdict(list)\n",
    "        \n",
    "        for i, char in enumerate(S):\n",
    "            if not charDict[char]: charDict[char] = (i, i)\n",
    "            else:\n",
    "                start = charDict[char][0]\n",
    "                charDict[char] = (start, i)\n",
    "        \n",
    "        \n",
    "        intervalList = []\n",
    "        for interval in list(charDict.values()):\n",
    "            if not intervalList: \n",
    "                intervalList.append(interval)\n",
    "            elif intervalList[-1][0] < interval[0] < intervalList[-1][1] or intervalList[-1][0] < interval[1] < intervalList[-1][1] or interval[0] < intervalList[-1][0] < interval[1]:\n",
    "                currInterval = (min(interval[0], intervalList[-1][0]), max(interval[1], intervalList[-1][1]))\n",
    "                intervalList.pop()\n",
    "                if intervalList:\n",
    "                    while intervalList[-1][0] < currInterval[0] < intervalList[-1][1] or intervalList[-1][0] < currInterval[1] < intervalList[-1][1] or currInterval[0] < intervalList[-1][0] < currInterval[1]:\n",
    "                        currInterval = (min(currInterval[0], intervalList[-1][0]), max(currInterval[1], minheap[0][1]))\n",
    "                        intervalList.pop()\n",
    "\n",
    "                intervalList.append(currInterval)\n",
    "            else:\n",
    "                intervalList.append(interval)\n",
    "                \n",
    "        res = []        \n",
    "        for interval in intervalList:\n",
    "            res.append(interval[1] - interval[0] + 1)\n",
    "            \n",
    "        return res"
   ]
  },
  {
   "cell_type": "markdown",
   "metadata": {},
   "source": [
    "# Greedy - O(N) runtime, O(1) space"
   ]
  },
  {
   "cell_type": "code",
   "execution_count": 5,
   "metadata": {},
   "outputs": [],
   "source": [
    "from typing import List\n",
    "\n",
    "class Solution:\n",
    "    def partitionLabels(self, S: str) -> List[int]:\n",
    "        \n",
    "        last = {c: i for i, c in enumerate(S)}\n",
    "        j = anchor = 0\n",
    "        ans = []\n",
    "        for i, c in enumerate(S):\n",
    "            j = max(j, last[c])\n",
    "            if i == j:\n",
    "                ans.append(i - anchor + 1)\n",
    "                anchor = i + 1\n",
    "            \n",
    "        return ans"
   ]
  },
  {
   "cell_type": "code",
   "execution_count": 6,
   "metadata": {},
   "outputs": [
    {
     "data": {
      "text/plain": [
       "[9, 7, 8]"
      ]
     },
     "execution_count": 6,
     "metadata": {},
     "output_type": "execute_result"
    }
   ],
   "source": [
    "instance = Solution()\n",
    "instance.partitionLabels(\"ababcbacadefegdehijhklij\")"
   ]
  }
 ],
 "metadata": {
  "kernelspec": {
   "display_name": "Python 3",
   "language": "python",
   "name": "python3"
  },
  "language_info": {
   "codemirror_mode": {
    "name": "ipython",
    "version": 3
   },
   "file_extension": ".py",
   "mimetype": "text/x-python",
   "name": "python",
   "nbconvert_exporter": "python",
   "pygments_lexer": "ipython3",
   "version": "3.7.3"
  }
 },
 "nbformat": 4,
 "nbformat_minor": 2
}
