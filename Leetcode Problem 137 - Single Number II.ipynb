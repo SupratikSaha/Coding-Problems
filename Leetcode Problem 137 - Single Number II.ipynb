{
 "cells": [
  {
   "cell_type": "markdown",
   "metadata": {},
   "source": [
    "# Use an array to keep track of bits - O(n) run time, O(1) space"
   ]
  },
  {
   "cell_type": "code",
   "execution_count": 11,
   "metadata": {},
   "outputs": [],
   "source": [
    "class Solution:\n",
    "    def singleNumber(self, nums) -> int:\n",
    "        count = [0] * 32\n",
    "        res = 0\n",
    "        for i in range(32):\n",
    "            for j in range(len(nums)):\n",
    "                if (nums[j] >> i) & 1:\n",
    "                    count[i] += 1\n",
    "    \n",
    "            res |= (count[i]%3) << i\n",
    "    \n",
    "        return res"
   ]
  },
  {
   "cell_type": "markdown",
   "metadata": {},
   "source": [
    "# Using bit masks - O(n) run time, O(1) space"
   ]
  },
  {
   "cell_type": "code",
   "execution_count": 2,
   "metadata": {},
   "outputs": [],
   "source": [
    "class Solution:\n",
    "    def singleNumber(self, nums) -> int:\n",
    "        # bitmask\n",
    "        # ones as a bitmask to represent the ith bit had appeared once.\n",
    "        # twos as a bitmask to represent the ith bit had appeared twice.\n",
    "        # threes as a bitmask to represent the ith bit had appeared three times.\n",
    "        ones, twos, threes = 0, 0, 0\n",
    "        for num in nums:\n",
    "            twos |= ones & num\n",
    "            ones ^= num\n",
    "            threes = ones & twos\n",
    "            ones &= ~threes\n",
    "            twos &= ~threes\n",
    "        return ones"
   ]
  },
  {
   "cell_type": "code",
   "execution_count": 13,
   "metadata": {},
   "outputs": [
    {
     "data": {
      "text/plain": [
       "3"
      ]
     },
     "execution_count": 13,
     "metadata": {},
     "output_type": "execute_result"
    }
   ],
   "source": [
    "Instance = Solution()\n",
    "Instance.singleNumber([1,1,1,2,2,2,3])"
   ]
  }
 ],
 "metadata": {
  "kernelspec": {
   "display_name": "Python 3",
   "language": "python",
   "name": "python3"
  },
  "language_info": {
   "codemirror_mode": {
    "name": "ipython",
    "version": 3
   },
   "file_extension": ".py",
   "mimetype": "text/x-python",
   "name": "python",
   "nbconvert_exporter": "python",
   "pygments_lexer": "ipython3",
   "version": "3.7.3"
  }
 },
 "nbformat": 4,
 "nbformat_minor": 2
}
