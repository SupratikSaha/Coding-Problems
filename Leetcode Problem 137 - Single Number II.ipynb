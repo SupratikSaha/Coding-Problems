{
 "cells": [
  {
   "cell_type": "markdown",
   "metadata": {},
   "source": [
    "# Using bitwise opeartions - O(n) run time, O(1) space"
   ]
  },
  {
   "cell_type": "code",
   "execution_count": null,
   "metadata": {},
   "outputs": [],
   "source": [
    "class Solution:\n",
    "    def singleNumber(self, nums: List[int]) -> int:\n",
    "        # bitmask\n",
    "        # ones as a bitmask to represent the ith bit had appeared once.\n",
    "        # twos as a bitmask to represent the ith bit had appeared twice.\n",
    "        # threes as a bitmask to represent the ith bit had appeared three times.\n",
    "        ones, twos, threes = 0, 0, 0\n",
    "        for num in nums:\n",
    "            twos |= ones & num\n",
    "            ones ^= num\n",
    "            threes = ones & twos\n",
    "            ones &= ~threes\n",
    "            twos &= ~threes\n",
    "        return ones"
   ]
  }
 ],
 "metadata": {
  "kernelspec": {
   "display_name": "Python 3",
   "language": "python",
   "name": "python3"
  },
  "language_info": {
   "codemirror_mode": {
    "name": "ipython",
    "version": 3
   },
   "file_extension": ".py",
   "mimetype": "text/x-python",
   "name": "python",
   "nbconvert_exporter": "python",
   "pygments_lexer": "ipython3",
   "version": "3.7.3"
  }
 },
 "nbformat": 4,
 "nbformat_minor": 2
}
