{
 "cells": [
  {
   "cell_type": "markdown",
   "metadata": {},
   "source": [
    "Problem Statement.\n",
    "\n",
    "Design a phone directory that initially has maxNumbers empty slots that can store numbers. The directory should store numbers, check if a certain slot is empty or not, and empty a given slot.\n",
    "\n",
    "Implement the PhoneDirectory class:\n",
    "\n",
    "    PhoneDirectory(int maxNumbers) Initializes the phone directory with the number of available slots maxNumbers.\n",
    "    int get() Provides a number that is not assigned to anyone. Returns -1 if no number is available.\n",
    "    bool check(int number) Returns true if the slot number is available and false otherwise.\n",
    "    void release(int number) Recycles or releases the slot number.\n",
    "\n",
    " \n",
    "\n",
    "Example 1:\n",
    "\n",
    "Input\n",
    "[\"PhoneDirectory\", \"get\", \"get\", \"check\", \"get\", \"check\", \"release\", \"check\"]\n",
    "[[3], [], [], [2], [], [2], [2], [2]]\n",
    "Output\n",
    "[null, 0, 1, true, 2, false, null, true]\n",
    "\n",
    "Explanation\n",
    "PhoneDirectory phoneDirectory = new PhoneDirectory(3);\n",
    "phoneDirectory.get();      // It can return any available phone number. Here we assume it returns 0.\n",
    "phoneDirectory.get();      // Assume it returns 1.\n",
    "phoneDirectory.check(2);   // The number 2 is available, so return true.\n",
    "phoneDirectory.get();      // It returns 2, the only number that is left.\n",
    "phoneDirectory.check(2);   // The number 2 is no longer available, so return false.\n",
    "phoneDirectory.release(2); // Release number 2 back to the pool.\n",
    "phoneDirectory.check(2);   // Number 2 is available again, return true.\n",
    "\n",
    " \n",
    "\n",
    "Constraints:\n",
    "\n",
    "    1 <= maxNumbers <= 104\n",
    "    0 <= number < maxNumbers\n",
    "    At most 2 * 104 calls will be made to get, check, and release."
   ]
  },
  {
   "cell_type": "markdown",
   "metadata": {},
   "source": [
    "# Two Sets - O(1) runtime, O(N) space"
   ]
  },
  {
   "cell_type": "code",
   "execution_count": null,
   "metadata": {},
   "outputs": [],
   "source": [
    "class PhoneDirectory:\n",
    "\n",
    "    def __init__(self, maxNumbers: int):\n",
    "        self.available_set = set(range(maxNumbers))\n",
    "        self.in_use_set = set()\n",
    "\n",
    "    def get(self) -> int:\n",
    "        if not self.available_set: return -1\n",
    "        \n",
    "        num = self.available_set.pop()\n",
    "        self.in_use_set.add(num)\n",
    "        \n",
    "        return num\n",
    "\n",
    "    def check(self, number: int) -> bool:\n",
    "        return number in self.available_set\n",
    "\n",
    "    def release(self, number: int) -> None:\n",
    "        if number in self.in_use_set:\n",
    "            self.in_use_set.remove(number)\n",
    "            self.available_set.add(number)"
   ]
  },
  {
   "cell_type": "markdown",
   "metadata": {},
   "source": [
    "# One Set - O(1) runtime, O(N) space"
   ]
  },
  {
   "cell_type": "code",
   "execution_count": null,
   "metadata": {},
   "outputs": [],
   "source": [
    "class PhoneDirectory:\n",
    "\n",
    "    def __init__(self, maxNumbers: int):\n",
    "        self.available_set = set(range(maxNumbers))\n",
    "\n",
    "    def get(self) -> int:\n",
    "        if not self.available_set: return -1\n",
    "        return self.available_set.pop()\n",
    "\n",
    "    def check(self, number: int) -> bool:\n",
    "        return number in self.available_set\n",
    "\n",
    "    def release(self, number: int) -> None:\n",
    "        self.available_set.add(number)"
   ]
  }
 ],
 "metadata": {
  "kernelspec": {
   "display_name": "Python 3",
   "language": "python",
   "name": "python3"
  },
  "language_info": {
   "codemirror_mode": {
    "name": "ipython",
    "version": 3
   },
   "file_extension": ".py",
   "mimetype": "text/x-python",
   "name": "python",
   "nbconvert_exporter": "python",
   "pygments_lexer": "ipython3",
   "version": "3.7.3"
  }
 },
 "nbformat": 4,
 "nbformat_minor": 2
}
