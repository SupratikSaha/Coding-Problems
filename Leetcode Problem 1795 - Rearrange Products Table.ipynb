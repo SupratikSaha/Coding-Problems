{
 "cells": [
  {
   "cell_type": "markdown",
   "metadata": {},
   "source": [
    "    Problem Statement.\n",
    "\n",
    "    Table: Products\n",
    "\n",
    "    +-------------+---------+\n",
    "    | Column Name | Type    |\n",
    "    +-------------+---------+\n",
    "    | product_id  | int     |\n",
    "    | store1      | int     |\n",
    "    | store2      | int     |\n",
    "    | store3      | int     |\n",
    "    +-------------+---------+\n",
    "    product_id is the primary key for this table.\n",
    "    Each row in this table indicates the product's price in 3 different stores: store1, store2, and store3.\n",
    "    If the product is not available in a store, the price will be null in that store's column.\n",
    "\n",
    "\n",
    "\n",
    "    Write an SQL query to rearrange the Products table so that each row has (product_id, store, price). If a product is not available in a store, do not include a row with that product_id and store combination in the result table.\n",
    "\n",
    "    Return the result table in any order.\n",
    "\n",
    "    The query result format is in the following example.\n",
    "\n",
    "\n",
    "\n",
    "    Example 1:\n",
    "\n",
    "    Input: \n",
    "    Products table:\n",
    "    +------------+--------+--------+--------+\n",
    "    | product_id | store1 | store2 | store3 |\n",
    "    +------------+--------+--------+--------+\n",
    "    | 0          | 95     | 100    | 105    |\n",
    "    | 1          | 70     | null   | 80     |\n",
    "    +------------+--------+--------+--------+\n",
    "    Output: \n",
    "    +------------+--------+-------+\n",
    "    | product_id | store  | price |\n",
    "    +------------+--------+-------+\n",
    "    | 0          | store1 | 95    |\n",
    "    | 0          | store2 | 100   |\n",
    "    | 0          | store3 | 105   |\n",
    "    | 1          | store1 | 70    |\n",
    "    | 1          | store3 | 80    |\n",
    "    +------------+--------+-------+\n",
    "    Explanation: \n",
    "    Product 0 is available in all three stores with prices 95, 100, and 105 respectively.\n",
    "    Product 1 is available in store1 with price 70 and store3 with price 80. The product is not available in store2."
   ]
  },
  {
   "cell_type": "markdown",
   "metadata": {},
   "source": [
    "# Union"
   ]
  },
  {
   "cell_type": "code",
   "execution_count": null,
   "metadata": {},
   "outputs": [],
   "source": [
    "select product_id, 'store1' as store, store1 as price\n",
    "from Products\n",
    "where store1 is not null\n",
    "UNION\n",
    "select product_id, 'store2' as store, store2 as price\n",
    "from Products\n",
    "where store2 is not null\n",
    "UNION\n",
    "select product_id, 'store3' as store, store3 as price\n",
    "from Products\n",
    "where store3 is not null"
   ]
  }
 ],
 "metadata": {
  "kernelspec": {
   "display_name": "Python 3",
   "language": "python",
   "name": "python3"
  },
  "language_info": {
   "codemirror_mode": {
    "name": "ipython",
    "version": 3
   },
   "file_extension": ".py",
   "mimetype": "text/x-python",
   "name": "python",
   "nbconvert_exporter": "python",
   "pygments_lexer": "ipython3",
   "version": "3.7.3"
  }
 },
 "nbformat": 4,
 "nbformat_minor": 2
}
