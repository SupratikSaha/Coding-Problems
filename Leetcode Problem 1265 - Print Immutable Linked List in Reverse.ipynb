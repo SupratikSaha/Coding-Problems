{
 "cells": [
  {
   "cell_type": "markdown",
   "metadata": {},
   "source": [
    "Problem Statement.\n",
    "\n",
    "You are given an immutable linked list, print out all values of each node in reverse with the help of the following interface:\n",
    "\n",
    "    ImmutableListNode: An interface of immutable linked list, you are given the head of the list.\n",
    "\n",
    "You need to use the following functions to access the linked list (you can't access the ImmutableListNode directly):\n",
    "\n",
    "    ImmutableListNode.printValue(): Print value of the current node.\n",
    "    ImmutableListNode.getNext(): Return the next node.\n",
    "\n",
    "The input is only given to initialize the linked list internally. You must solve this problem without modifying the linked list. In other words, you must operate the linked list using only the mentioned APIs.\n",
    "\n",
    " \n",
    "\n",
    "Example 1:\n",
    "\n",
    "Input: head = [1,2,3,4]\n",
    "Output: [4,3,2,1]\n",
    "\n",
    "Example 2:\n",
    "\n",
    "Input: head = [0,-4,-1,3,-5]\n",
    "Output: [-5,3,-1,-4,0]\n",
    "\n",
    "Example 3:\n",
    "\n",
    "Input: head = [-2,0,6,4,4,-6]\n",
    "Output: [-6,4,4,6,0,-2]\n",
    "\n",
    " \n",
    "\n",
    "Constraints:\n",
    "\n",
    "    The length of the linked list is between [1, 1000].\n",
    "    The value of each node in the linked list is between [-1000, 1000].\n",
    "\n",
    " \n",
    "\n",
    "Follow up:\n",
    "\n",
    "Could you solve this problem in:\n",
    "\n",
    "    Constant space complexity?\n",
    "    Linear time complexity and less than linear space complexity?"
   ]
  },
  {
   "cell_type": "markdown",
   "metadata": {},
   "source": [
    "# Stack - O(N) runtime, O(N) space"
   ]
  },
  {
   "cell_type": "code",
   "execution_count": 1,
   "metadata": {},
   "outputs": [],
   "source": [
    "# \"\"\"\n",
    "# This is the ImmutableListNode's API interface.\n",
    "# You should not implement it, or speculate about its implementation.\n",
    "# \"\"\"\n",
    "# class ImmutableListNode:\n",
    "#     def printValue(self) -> None: # print the value of this node.\n",
    "#     def getNext(self) -> 'ImmutableListNode': # return the next node.\n",
    "\n",
    "class Solution:\n",
    "    def printLinkedListInReverse(self, head: 'ImmutableListNode') -> None:\n",
    "        stack = []\n",
    "        while head:\n",
    "            stack.append(head)\n",
    "            head = head.getNext()\n",
    "            \n",
    "        while stack:\n",
    "            node = stack.pop()\n",
    "            node.printValue()"
   ]
  },
  {
   "cell_type": "markdown",
   "metadata": {},
   "source": [
    "# Load a Magazine - O(N ^ 2) runtime, O(1) space"
   ]
  },
  {
   "cell_type": "code",
   "execution_count": 4,
   "metadata": {},
   "outputs": [],
   "source": [
    "# \"\"\"\n",
    "# This is the ImmutableListNode's API interface.\n",
    "# You should not implement it, or speculate about its implementation.\n",
    "# \"\"\"\n",
    "# class ImmutableListNode:\n",
    "#     def printValue(self) -> None: # print the value of this node.\n",
    "#     def getNext(self) -> 'ImmutableListNode': # return the next node.\n",
    "\n",
    "class Solution:\n",
    "    def printLinkedListInReverse(self, head: 'ImmutableListNode') -> None:\n",
    "        last_print=None\n",
    "        while last_print!=head:\n",
    "            # given a node `last_print` find its previous node\n",
    "            curr=head\n",
    "            while curr.getNext()!=last_print:\n",
    "                curr=curr.getNext()\n",
    "            \n",
    "            curr.printValue()\n",
    "            last_print=curr"
   ]
  },
  {
   "cell_type": "markdown",
   "metadata": {},
   "source": [
    "# Square Root decomposition - O(N) runtime, O(2 * N ^ 0.5) space"
   ]
  },
  {
   "cell_type": "code",
   "execution_count": 2,
   "metadata": {},
   "outputs": [],
   "source": [
    "# \"\"\"\n",
    "# This is the ImmutableListNode's API interface.\n",
    "# You should not implement it, or speculate about its implementation.\n",
    "# \"\"\"\n",
    "# class ImmutableListNode:\n",
    "#     def printValue(self) -> None: # print the value of this node.\n",
    "#     def getNext(self) -> 'ImmutableListNode': # return the next node.\n",
    "\n",
    "class Solution:\n",
    "    def printLinkedListInReverse(self, head: 'ImmutableListNode') -> None:\n",
    "        def getLinkedListSize(head):\n",
    "            size = 0\n",
    "            while head != None:\n",
    "                size += 1\n",
    "                head = head.getNext()\n",
    "            return size\n",
    "\n",
    "        LinkedListSize = getLinkedListSize(head)\n",
    "\n",
    "        block_size = math.ceil(math.sqrt(LinkedListSize))\n",
    "        blocks = []  # create a Stack\n",
    "        head_cpy = head\n",
    "        for cur in range(LinkedListSize):\n",
    "            if cur % block_size == 0:\n",
    "                blocks.append(head_cpy)\n",
    "            head_cpy = head_cpy.getNext()\n",
    "\n",
    "        while blocks:\n",
    "            self.printLinkedListInReverseDirect(blocks.pop(), block_size)\n",
    "            \n",
    "    def printLinkedListInReverseDirect(self, head, size):\n",
    "        if size and head:\n",
    "            self.printLinkedListInReverseDirect(head.getNext(), size - 1)\n",
    "            head.printValue()"
   ]
  },
  {
   "cell_type": "markdown",
   "metadata": {},
   "source": [
    "# Divide and Conquer - O(Log N) runtime, O(Log N) space"
   ]
  },
  {
   "cell_type": "code",
   "execution_count": 3,
   "metadata": {},
   "outputs": [],
   "source": [
    "# \"\"\"\n",
    "# This is the ImmutableListNode's API interface.\n",
    "# You should not implement it, or speculate about its implementation.\n",
    "# \"\"\"\n",
    "# class ImmutableListNode:\n",
    "#     def printValue(self) -> None: # print the value of this node.\n",
    "#     def getNext(self) -> 'ImmutableListNode': # return the next node.\n",
    "\n",
    "class Solution:\n",
    "    def printLinkedListInReverse(self, head: 'ImmutableListNode') -> None:\n",
    "        def getLinkedListSize(head):\n",
    "            size = 0\n",
    "            while head != None:\n",
    "                size += 1\n",
    "                head = head.getNext()\n",
    "            return size\n",
    "        \n",
    "        def helper(head, n):\n",
    "            if n > 1:\n",
    "                half = head\n",
    "                for _ in range(n // 2):\n",
    "                    half = half.getNext()\n",
    "                helper(half, n - n // 2)\n",
    "                helper(head, n // 2)\n",
    "            elif n != 0:\n",
    "                head.printValue()\n",
    "\n",
    "        size = getLinkedListSize(head)\n",
    "        helper(head, size)"
   ]
  }
 ],
 "metadata": {
  "kernelspec": {
   "display_name": "Python 3",
   "language": "python",
   "name": "python3"
  },
  "language_info": {
   "codemirror_mode": {
    "name": "ipython",
    "version": 3
   },
   "file_extension": ".py",
   "mimetype": "text/x-python",
   "name": "python",
   "nbconvert_exporter": "python",
   "pygments_lexer": "ipython3",
   "version": "3.7.3"
  }
 },
 "nbformat": 4,
 "nbformat_minor": 2
}
