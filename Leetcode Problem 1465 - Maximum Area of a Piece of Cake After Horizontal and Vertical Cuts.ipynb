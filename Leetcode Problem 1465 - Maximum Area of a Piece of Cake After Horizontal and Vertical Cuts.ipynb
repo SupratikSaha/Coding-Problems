{
 "cells": [
  {
   "cell_type": "markdown",
   "metadata": {},
   "source": [
    "    Problem Statement.\n",
    "\n",
    "    Given a rectangular cake with height h and width w, and two arrays of integers horizontalCuts and verticalCuts where horizontalCuts[i] is the distance from the top of the rectangular cake to the ith horizontal cut and similarly, verticalCuts[j] is the distance from the left of the rectangular cake to the jth vertical cut.\n",
    "\n",
    "    Return the maximum area of a piece of cake after you cut at each horizontal and vertical position provided in the arrays horizontalCuts and verticalCuts. Since the answer can be a huge number, return this modulo 10^9 + 7.\n",
    "\n",
    "\n",
    "\n",
    "    Example 1:\n",
    "\n",
    "    Input: h = 5, w = 4, horizontalCuts = [1,2,4], verticalCuts = [1,3]\n",
    "    Output: 4 \n",
    "    Explanation: The figure above represents the given rectangular cake. Red lines are the horizontal and vertical cuts. After you cut the cake, the green piece of cake has the maximum area.\n",
    "\n",
    "    Example 2:\n",
    "\n",
    "    Input: h = 5, w = 4, horizontalCuts = [3,1], verticalCuts = [1]\n",
    "    Output: 6\n",
    "    Explanation: The figure above represents the given rectangular cake. Red lines are the horizontal and vertical cuts. After you cut the cake, the green and yellow pieces of cake have the maximum area.\n",
    "\n",
    "    Example 3:\n",
    "\n",
    "    Input: h = 5, w = 4, horizontalCuts = [3], verticalCuts = [3]\n",
    "    Output: 9\n",
    "\n",
    "\n",
    "\n",
    "    Constraints:\n",
    "\n",
    "        2 <= h, w <= 10^9\n",
    "        1 <= horizontalCuts.length < min(h, 10^5)\n",
    "        1 <= verticalCuts.length < min(w, 10^5)\n",
    "        1 <= horizontalCuts[i] < h\n",
    "        1 <= verticalCuts[i] < w\n",
    "        It is guaranteed that all elements in horizontalCuts are distinct.\n",
    "        It is guaranteed that all elements in verticalCuts are distinct."
   ]
  },
  {
   "cell_type": "markdown",
   "metadata": {},
   "source": [
    "# Sort - O(H * logH + V * log V) runtime, O(H + V) space"
   ]
  },
  {
   "cell_type": "code",
   "execution_count": 1,
   "metadata": {},
   "outputs": [],
   "source": [
    "from typing import List\n",
    "\n",
    "class Solution:\n",
    "    def maxArea(self, h: int, w: int, horizontalCuts: List[int], verticalCuts: List[int]) -> int:\n",
    "        horizontalCuts.sort()\n",
    "        verticalCuts.sort()\n",
    "        \n",
    "        maxH = prevH = 0\n",
    "        for currH in horizontalCuts:\n",
    "            maxH = max(maxH, currH - prevH)\n",
    "            prevH = currH\n",
    "        maxH = max(maxH, h - currH)\n",
    "        \n",
    "        maxW = prevW = 0\n",
    "        for currW in verticalCuts:\n",
    "            maxW = max(maxW, currW - prevW)\n",
    "            prevW = currW\n",
    "        maxW = max(maxW, w - currW)\n",
    "        \n",
    "        return (maxH * maxW) % (10 ** 9 + 7)"
   ]
  },
  {
   "cell_type": "code",
   "execution_count": null,
   "metadata": {},
   "outputs": [],
   "source": []
  },
  {
   "cell_type": "code",
   "execution_count": 3,
   "metadata": {},
   "outputs": [],
   "source": [
    "from typing import List\n",
    "\n",
    "class Solution:\n",
    "    def maxArea(self, h: int, w: int, horizontalCuts: List[int], verticalCuts: List[int]) -> int:\n",
    "        \n",
    "        horizontalStrips = [0] + sorted(horizontalCuts) + [h]\n",
    "        verticalStrips = [0] + sorted(verticalCuts) + [w]\n",
    "        \n",
    "        maxStripWidth = max([horizontalStrips[i + 1] - horizontalStrips[i] for i in range(len(horizontalStrips) - 1)])\n",
    "        maxStripHeight = max([verticalStrips[i + 1] - verticalStrips[i] for i in range(len(verticalStrips) - 1)])\n",
    "        \n",
    "        return (maxStripWidth * maxStripHeight) % ((10 ** 9) + 7)"
   ]
  },
  {
   "cell_type": "code",
   "execution_count": 4,
   "metadata": {},
   "outputs": [
    {
     "data": {
      "text/plain": [
       "4"
      ]
     },
     "execution_count": 4,
     "metadata": {},
     "output_type": "execute_result"
    }
   ],
   "source": [
    "instance = Solution()\n",
    "instance.maxArea(5, 4, [1,2,4], [1,3])"
   ]
  }
 ],
 "metadata": {
  "kernelspec": {
   "display_name": "Python 3",
   "language": "python",
   "name": "python3"
  },
  "language_info": {
   "codemirror_mode": {
    "name": "ipython",
    "version": 3
   },
   "file_extension": ".py",
   "mimetype": "text/x-python",
   "name": "python",
   "nbconvert_exporter": "python",
   "pygments_lexer": "ipython3",
   "version": "3.7.3"
  }
 },
 "nbformat": 4,
 "nbformat_minor": 2
}
