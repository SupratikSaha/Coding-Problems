{
 "cells": [
  {
   "cell_type": "markdown",
   "metadata": {},
   "source": [
    "    Problem Statement.\n",
    "\n",
    "    Table: Activity\n",
    "\n",
    "    +--------------+---------+\n",
    "    | Column Name  | Type    |\n",
    "    +--------------+---------+\n",
    "    | player_id    | int     |\n",
    "    | device_id    | int     |\n",
    "    | event_date   | date    |\n",
    "    | games_played | int     |\n",
    "    +--------------+---------+\n",
    "    (player_id, event_date) is the primary key of this table.\n",
    "    This table shows the activity of players of some games.\n",
    "    Each row is a record of a player who logged in and played a number of games (possibly 0) before logging out on someday using some device.\n",
    "\n",
    "\n",
    "\n",
    "    The install date of a player is the first login day of that player.\n",
    "\n",
    "    We define day one retention of some date x to be the number of players whose install date is x and they logged back in on the day right after x, divided by the number of players whose install date is x, rounded to 2 decimal places.\n",
    "\n",
    "    Write an SQL query to report for each install date, the number of players that installed the game on that day, and the day one retention.\n",
    "\n",
    "    Return the result table in any order.\n",
    "\n",
    "    The query result format is in the following example.\n",
    "\n",
    "\n",
    "\n",
    "    Example 1:\n",
    "\n",
    "    Input: \n",
    "    Activity table:\n",
    "    +-----------+-----------+------------+--------------+\n",
    "    | player_id | device_id | event_date | games_played |\n",
    "    +-----------+-----------+------------+--------------+\n",
    "    | 1         | 2         | 2016-03-01 | 5            |\n",
    "    | 1         | 2         | 2016-03-02 | 6            |\n",
    "    | 2         | 3         | 2017-06-25 | 1            |\n",
    "    | 3         | 1         | 2016-03-01 | 0            |\n",
    "    | 3         | 4         | 2016-07-03 | 5            |\n",
    "    +-----------+-----------+------------+--------------+\n",
    "    Output: \n",
    "    +------------+----------+----------------+\n",
    "    | install_dt | installs | Day1_retention |\n",
    "    +------------+----------+----------------+\n",
    "    | 2016-03-01 | 2        | 0.50           |\n",
    "    | 2017-06-25 | 1        | 0.00           |\n",
    "    +------------+----------+----------------+\n",
    "    Explanation: \n",
    "    Player 1 and 3 installed the game on 2016-03-01 but only player 1 logged back in on 2016-03-02 so the day 1 retention of 2016-03-01 is 1 / 2 = 0.50\n",
    "    Player 2 installed the game on 2017-06-25 but didn't log back in on 2017-06-26 so the day 1 retention of 2017-06-25 is 0 / 1 = 0.00\n",
    "\n"
   ]
  },
  {
   "cell_type": "markdown",
   "metadata": {},
   "source": [
    "# With"
   ]
  },
  {
   "cell_type": "code",
   "execution_count": null,
   "metadata": {},
   "outputs": [],
   "source": [
    "with rank_days as\n",
    "(select player_id, event_date,\n",
    "rank() over (partition by player_id order by event_date) as day_rank\n",
    "from Activity),\n",
    "\n",
    "day_one as\n",
    "(select distinct player_id, event_date\n",
    "from rank_days\n",
    "where day_rank = 1),\n",
    "\n",
    "day_two as\n",
    "(select distinct d.player_id, d.event_date, a.event_date as next_date\n",
    "from day_one d left join Activity a\n",
    "on d.player_id = a.player_id and DATE_ADD(d.event_date, INTERVAL 1 DAY) = a.event_date),\n",
    "\n",
    "day_one_retention as\n",
    "(select event_date as install_dt, count(next_date) as day_one_retention_count\n",
    "from day_two\n",
    "group by 1),\n",
    "\n",
    "original_installs as\n",
    "(select event_date as install_dt, count(distinct player_id ) as installs from rank_days\n",
    "where day_rank = 1\n",
    "group by 1)\n",
    "\n",
    "select o.install_dt, o.installs, round(d.day_one_retention_count/o.installs, 2) as Day1_retention\n",
    "from original_installs o left join day_one_retention d\n",
    "on o.install_dt = d.install_dt\n",
    "order by 1"
   ]
  },
  {
   "cell_type": "markdown",
   "metadata": {},
   "source": [
    "# Simpler using Join"
   ]
  },
  {
   "cell_type": "code",
   "execution_count": null,
   "metadata": {},
   "outputs": [],
   "source": [
    "SELECT install_dt, COUNT(player_id) AS installs,\n",
    "ROUND(COUNT(next_day) / COUNT(player_id), 2) AS Day1_retention\n",
    "FROM (\n",
    "    SELECT a1.player_id, a1.install_dt, a2.event_date AS next_day\n",
    "    FROM\n",
    "    (\n",
    "        SELECT player_id, MIN(event_date) AS install_dt \n",
    "        FROM Activity\n",
    "        GROUP BY player_id\n",
    "    ) AS a1 \n",
    "    LEFT JOIN Activity AS a2\n",
    "    ON a1.player_id = a2.player_id\n",
    "    AND a2.event_date = a1.install_dt + 1\n",
    ") AS t\n",
    "GROUP BY install_dt"
   ]
  }
 ],
 "metadata": {
  "kernelspec": {
   "display_name": "Python 3",
   "language": "python",
   "name": "python3"
  },
  "language_info": {
   "codemirror_mode": {
    "name": "ipython",
    "version": 3
   },
   "file_extension": ".py",
   "mimetype": "text/x-python",
   "name": "python",
   "nbconvert_exporter": "python",
   "pygments_lexer": "ipython3",
   "version": "3.7.3"
  }
 },
 "nbformat": 4,
 "nbformat_minor": 2
}
