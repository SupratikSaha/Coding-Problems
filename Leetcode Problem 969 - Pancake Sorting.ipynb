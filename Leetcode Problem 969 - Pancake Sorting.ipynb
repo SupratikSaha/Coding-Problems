{
 "cells": [
  {
   "cell_type": "markdown",
   "metadata": {},
   "source": [
    "Problem Statement.\n",
    "\n",
    "Given an array of integers arr, sort the array by performing a series of pancake flips.\n",
    "\n",
    "In one pancake flip we do the following steps:\n",
    "\n",
    "    Choose an integer k where 1 <= k <= arr.length.\n",
    "    Reverse the sub-array arr[0...k-1] (0-indexed).\n",
    "\n",
    "For example, if arr = [3,2,1,4] and we performed a pancake flip choosing k = 3, we reverse the sub-array [3,2,1], so arr = [1,2,3,4] after the pancake flip at k = 3.\n",
    "\n",
    "Return an array of the k-values corresponding to a sequence of pancake flips that sort arr. Any valid answer that sorts the array within 10 * arr.length flips will be judged as correct.\n",
    "\n",
    " \n",
    "\n",
    "Example 1:\n",
    "\n",
    "Input: arr = [3,2,4,1]\n",
    "Output: [4,2,4,3]\n",
    "Explanation: \n",
    "We perform 4 pancake flips, with k values 4, 2, 4, and 3.\n",
    "Starting state: arr = [3, 2, 4, 1]\n",
    "After 1st flip (k = 4): arr = [1, 4, 2, 3]\n",
    "After 2nd flip (k = 2): arr = [4, 1, 2, 3]\n",
    "After 3rd flip (k = 4): arr = [3, 2, 1, 4]\n",
    "After 4th flip (k = 3): arr = [1, 2, 3, 4], which is sorted.\n",
    "\n",
    "Example 2:\n",
    "\n",
    "Input: arr = [1,2,3]\n",
    "Output: []\n",
    "Explanation: The input is already sorted, so there is no need to flip anything.\n",
    "Note that other answers, such as [3, 3], would also be accepted.\n",
    "\n",
    " \n",
    "\n",
    "Constraints:\n",
    "\n",
    "    1 <= arr.length <= 100\n",
    "    1 <= arr[i] <= arr.length\n",
    "    All integers in arr are unique (i.e. arr is a permutation of the integers from 1 to arr.length)."
   ]
  },
  {
   "cell_type": "markdown",
   "metadata": {},
   "source": [
    "# Special Solution when array values are between 1 and arr.length - O(N ^ 2) runtime, O(1) space"
   ]
  },
  {
   "cell_type": "code",
   "execution_count": 3,
   "metadata": {},
   "outputs": [],
   "source": [
    "from typing import List\n",
    "\n",
    "class Solution:\n",
    "    def pancakeSort(self, A: List[int]) -> List[int]:\n",
    "        def flip(sublist, k):\n",
    "            i = 0\n",
    "            while i < k / 2:\n",
    "                sublist[i], sublist[k-i-1] = sublist[k-i-1], sublist[i]\n",
    "                i += 1\n",
    "\n",
    "        ans = []\n",
    "        value_to_sort = len(A)\n",
    "        while value_to_sort > 0:\n",
    "            # locate the position for the value to sort in this round\n",
    "            index = A.index(value_to_sort)\n",
    "\n",
    "            # sink the value_to_sort to the bottom,\n",
    "            #   with at most two steps of pancake flipping.\n",
    "            if index != value_to_sort - 1:\n",
    "                # flip the value to the head if necessary\n",
    "                if index != 0:\n",
    "                    ans.append(index+1)\n",
    "                    flip(A, index+1)\n",
    "                # now that the value is at the head, flip it to the bottom\n",
    "                ans.append(value_to_sort)\n",
    "                flip(A, value_to_sort)\n",
    "\n",
    "            # move on to the next round\n",
    "            value_to_sort -= 1\n",
    "\n",
    "        return ans"
   ]
  },
  {
   "cell_type": "markdown",
   "metadata": {},
   "source": [
    "# Generic Solution - O(N * 2) runtime, O(1) space"
   ]
  },
  {
   "cell_type": "code",
   "execution_count": 6,
   "metadata": {},
   "outputs": [],
   "source": [
    "from typing import List\n",
    "\n",
    "class Solution:\n",
    "    def pancakeSort(self, arr: List[int]) -> List[int]:\n",
    "        n = len(arr)\n",
    "        result = []\n",
    "        for end in range(n-1, 0, -1):\n",
    "            maxPos = self.findMaxIndex(arr, end)\n",
    "            if maxPos < end:\n",
    "                if maxPos > 0:\n",
    "                    self.flip(arr, maxPos)\n",
    "                    result.append(maxPos+1)\n",
    "                self.flip(arr, end)\n",
    "                result.append(end+1)\n",
    "\n",
    "        return result\n",
    "\n",
    "    def findMaxIndex(self, arr, right):\n",
    "        maxPos = right\n",
    "        for j in reversed(range(right)):\n",
    "            if arr[j] > arr[maxPos]: maxPos = j\n",
    "\n",
    "        return maxPos\n",
    "\n",
    "    def flip(self, arr, right):\n",
    "        left = 0\n",
    "        while left < right:\n",
    "            arr[left], arr[right] = arr[right], arr[left]\n",
    "            left += 1\n",
    "            right -= 1"
   ]
  },
  {
   "cell_type": "code",
   "execution_count": 7,
   "metadata": {},
   "outputs": [
    {
     "data": {
      "text/plain": [
       "[3, 4, 2, 3, 2]"
      ]
     },
     "execution_count": 7,
     "metadata": {},
     "output_type": "execute_result"
    }
   ],
   "source": [
    "instance = Solution()\n",
    "instance.pancakeSort([3,2,4,1])"
   ]
  }
 ],
 "metadata": {
  "kernelspec": {
   "display_name": "Python 3",
   "language": "python",
   "name": "python3"
  },
  "language_info": {
   "codemirror_mode": {
    "name": "ipython",
    "version": 3
   },
   "file_extension": ".py",
   "mimetype": "text/x-python",
   "name": "python",
   "nbconvert_exporter": "python",
   "pygments_lexer": "ipython3",
   "version": "3.7.3"
  }
 },
 "nbformat": 4,
 "nbformat_minor": 2
}
