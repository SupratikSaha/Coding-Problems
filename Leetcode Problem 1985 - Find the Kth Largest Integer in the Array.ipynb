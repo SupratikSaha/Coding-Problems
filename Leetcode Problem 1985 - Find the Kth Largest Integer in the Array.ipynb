{
 "cells": [
  {
   "cell_type": "markdown",
   "metadata": {},
   "source": [
    "Problem Statement.\n",
    "\n",
    "You are given an array of strings nums and an integer k. Each string in nums represents an integer without leading zeros.\n",
    "\n",
    "Return the string that represents the kth largest integer in nums.\n",
    "\n",
    "Note: Duplicate numbers should be counted distinctly. For example, if nums is [\"1\",\"2\",\"2\"], \"2\" is the first largest integer, \"2\" is the second-largest integer, and \"1\" is the third-largest integer.\n",
    "\n",
    " \n",
    "\n",
    "Example 1:\n",
    "\n",
    "Input: nums = [\"3\",\"6\",\"7\",\"10\"], k = 4\n",
    "Output: \"3\"\n",
    "Explanation:\n",
    "The numbers in nums sorted in non-decreasing order are [\"3\",\"6\",\"7\",\"10\"].\n",
    "The 4th largest integer in nums is \"3\".\n",
    "\n",
    "Example 2:\n",
    "\n",
    "Input: nums = [\"2\",\"21\",\"12\",\"1\"], k = 3\n",
    "Output: \"2\"\n",
    "Explanation:\n",
    "The numbers in nums sorted in non-decreasing order are [\"1\",\"2\",\"12\",\"21\"].\n",
    "The 3rd largest integer in nums is \"2\".\n",
    "\n",
    "Example 3:\n",
    "\n",
    "Input: nums = [\"0\",\"0\"], k = 2\n",
    "Output: \"0\"\n",
    "Explanation:\n",
    "The numbers in nums sorted in non-decreasing order are [\"0\",\"0\"].\n",
    "The 2nd largest integer in nums is \"0\".\n",
    "\n",
    " \n",
    "\n",
    "Constraints:\n",
    "\n",
    "    1 <= k <= nums.length <= 104\n",
    "    1 <= nums[i].length <= 100\n",
    "    nums[i] consists of only digits.\n",
    "    nums[i] will not have any leading zeros."
   ]
  },
  {
   "cell_type": "markdown",
   "metadata": {},
   "source": [
    "# Minheap - O(N Log K) runtime, O(K) space"
   ]
  },
  {
   "cell_type": "code",
   "execution_count": 1,
   "metadata": {},
   "outputs": [],
   "source": [
    "from typing import List\n",
    "from heapq import heappush, heappop\n",
    "\n",
    "class Solution:\n",
    "    def kthLargestNumber(self, nums: List[str], k: int) -> str:\n",
    "        minheap = []\n",
    "        \n",
    "        for num in nums:\n",
    "            heappush(minheap, int(num))\n",
    "            if len(minheap) == k+1: heappop(minheap)\n",
    "            \n",
    "        return str(minheap[0])"
   ]
  },
  {
   "cell_type": "markdown",
   "metadata": {},
   "source": [
    "# Accounting for very large strings - Minheap - O(N Log K) runtime, O(K) space"
   ]
  },
  {
   "cell_type": "code",
   "execution_count": 3,
   "metadata": {},
   "outputs": [],
   "source": [
    "from typing import List\n",
    "from heapq import heappush, heappop\n",
    "\n",
    "class Comparator(str):\n",
    "    def __init__(self, x):\n",
    "        self.val = x\n",
    "        \n",
    "    def __lt__(self, other):\n",
    "        l1, l2 = len(self.val), len(other.val)\n",
    "        if l1 != l2: return l1 < l2\n",
    "        else: return self.val < other.val\n",
    "        \n",
    "class Solution:\n",
    "    def kthLargestNumber(self, nums: List[str], k: int) -> str:\n",
    "        minheap = []\n",
    "        \n",
    "        for num in nums:\n",
    "            heappush(minheap, Comparator(num))\n",
    "            if len(minheap) == k+1: heappop(minheap)\n",
    "            \n",
    "        return minheap[0].val"
   ]
  },
  {
   "cell_type": "code",
   "execution_count": 4,
   "metadata": {},
   "outputs": [
    {
     "data": {
      "text/plain": [
       "'2'"
      ]
     },
     "execution_count": 4,
     "metadata": {},
     "output_type": "execute_result"
    }
   ],
   "source": [
    "instance = Solution()\n",
    "instance.kthLargestNumber( [\"2\",\"21\",\"12\",\"1\"], 3)"
   ]
  }
 ],
 "metadata": {
  "kernelspec": {
   "display_name": "Python 3",
   "language": "python",
   "name": "python3"
  },
  "language_info": {
   "codemirror_mode": {
    "name": "ipython",
    "version": 3
   },
   "file_extension": ".py",
   "mimetype": "text/x-python",
   "name": "python",
   "nbconvert_exporter": "python",
   "pygments_lexer": "ipython3",
   "version": "3.7.3"
  }
 },
 "nbformat": 4,
 "nbformat_minor": 2
}
