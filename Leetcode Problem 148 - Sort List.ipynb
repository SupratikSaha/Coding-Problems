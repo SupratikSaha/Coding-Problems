{
 "cells": [
  {
   "cell_type": "markdown",
   "metadata": {},
   "source": [
    "Problem Statement. <br/>\n",
    "\n",
    "Given the head of a linked list, return the list after sorting it in ascending order. <br/>\n",
    "Follow up: Can you sort the linked list in O(n logn) time and O(1) memory (i.e. constant space)? <br/>\n",
    "\n",
    "Example 1: <br/>\n",
    "Input: head = [4,2,1,3] <br/>\n",
    "Output: [1,2,3,4] <br/>\n",
    "\n",
    "Example 2: <br/>\n",
    "Input: head = [-1,5,3,4,0] <br/>\n",
    "Output: [-1,0,3,4,5] <br/>\n",
    "\n",
    "Example 3: <br/>\n",
    "Input: head = [] <br/>\n",
    "Output: []"
   ]
  },
  {
   "cell_type": "markdown",
   "metadata": {},
   "source": [
    "# Bubble Sort - O(N ^ 2) runtime, O(1) space"
   ]
  },
  {
   "cell_type": "code",
   "execution_count": 1,
   "metadata": {},
   "outputs": [],
   "source": [
    "# class ListNode:\n",
    "#     def __init__(self, val=0, next=None):\n",
    "#         self.val = val\n",
    "#         self.next = next\n",
    "\n",
    "class Solution:\n",
    "    def sortList(self, head: ListNode) -> ListNode:\n",
    "        if not head:\n",
    "            return head\n",
    "        \n",
    "        n = 1\n",
    "        node = head\n",
    "        while node.next:\n",
    "            if node.val > node.next.val:\n",
    "                node.val, node.next.val = node.next.val, node.val\n",
    "            node = node.next\n",
    "            n += 1\n",
    "            \n",
    "        for i in range(n - 2, -1, -1):\n",
    "            node = head\n",
    "            for _ in range(i):\n",
    "                if node.val > node.next.val:\n",
    "                    node.val, node.next.val = node.next.val, node.val\n",
    "                node = node.next\n",
    "                \n",
    "                \n",
    "        return head"
   ]
  },
  {
   "cell_type": "markdown",
   "metadata": {},
   "source": [
    "# Merge Sort - O(N * Log N) runtime, O(1) space"
   ]
  },
  {
   "cell_type": "code",
   "execution_count": 2,
   "metadata": {},
   "outputs": [],
   "source": [
    "# Definition for singly-linked list.\n",
    "# class ListNode:\n",
    "#     def __init__(self, val=0, next=None):\n",
    "#         self.val = val\n",
    "#         self.next = next\n",
    "        \n",
    "class Solution:\n",
    "    def sortList(self, head: ListNode) -> ListNode:\n",
    "        if head is None or head.next is None:\n",
    "            return head\n",
    "    \n",
    "        mid = self.findMidElement(head)\n",
    "        left  = self.sortList(head)\n",
    "        right = self.sortList(mid)\n",
    "    \n",
    "        return self.merge(left, right)\n",
    "    \n",
    "    def findMidElement(self, head: ListNode) -> ListNode:\n",
    "        slow = fast = head\n",
    "        prev = None\n",
    "        while fast and fast.next:\n",
    "            prev, slow, fast = slow, slow.next, fast.next.next\n",
    "        if prev:\n",
    "            prev.next = None\n",
    "        return slow\n",
    "\n",
    "    def merge(self, left: ListNode, right: ListNode) -> ListNode:\n",
    "        dummy = head = ListNode()\n",
    "        while left and right:\n",
    "            if left.val > right.val:\n",
    "                dummy.next = right\n",
    "                right = right.next\n",
    "            else:\n",
    "                dummy.next = left\n",
    "                left = left.next\n",
    "            dummy = dummy.next\n",
    "            \n",
    "        if left:\n",
    "            dummy.next  = left\n",
    "        if right:\n",
    "            dummy.next = right\n",
    "\n",
    "        return head.next"
   ]
  }
 ],
 "metadata": {
  "kernelspec": {
   "display_name": "Python 3",
   "language": "python",
   "name": "python3"
  },
  "language_info": {
   "codemirror_mode": {
    "name": "ipython",
    "version": 3
   },
   "file_extension": ".py",
   "mimetype": "text/x-python",
   "name": "python",
   "nbconvert_exporter": "python",
   "pygments_lexer": "ipython3",
   "version": "3.7.3"
  }
 },
 "nbformat": 4,
 "nbformat_minor": 2
}
