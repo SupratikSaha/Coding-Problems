{
 "cells": [
  {
   "cell_type": "markdown",
   "metadata": {},
   "source": [
    "    Problem Statement.\n",
    "\n",
    "    Table: Product\n",
    "\n",
    "    +-------------+---------+\n",
    "    | Column Name | Type    |\n",
    "    +-------------+---------+\n",
    "    | product_id  | int     |\n",
    "    | name        | varchar |\n",
    "    +-------------+---------+\n",
    "    product_id is the primary key for this table.\n",
    "    This table contains the ID and the name of the product. The name consists of only lowercase English letters. No two products have the same name.\n",
    "\n",
    "\n",
    "\n",
    "    Table: Invoice\n",
    "\n",
    "    +-------------+------+\n",
    "    | Column Name | Type |\n",
    "    +-------------+------+\n",
    "    | invoice_id  | int  |\n",
    "    | product_id  | int  |\n",
    "    | rest        | int  |\n",
    "    | paid        | int  |\n",
    "    | canceled    | int  |\n",
    "    | refunded    | int  |\n",
    "    +-------------+------+\n",
    "    invoice_id is the primary key for this table and the id of this invoice.\n",
    "    product_id is the id of the product for this invoice.\n",
    "    rest is the amount left to pay for this invoice.\n",
    "    paid is the amount paid for this invoice.\n",
    "    canceled is the amount canceled for this invoice.\n",
    "    refunded is the amount refunded for this invoice.\n",
    "\n",
    "\n",
    "\n",
    "    Write an SQL query that will, for all products, return each product name with total amount due, paid, canceled, and refunded across all invoices.\n",
    "\n",
    "    Return the result table ordered by product_name.\n",
    "\n",
    "    The query result format is in the following example:\n",
    "\n",
    "\n",
    "\n",
    "    Product table:\n",
    "    +------------+-------+\n",
    "    | product_id | name  |\n",
    "    +------------+-------+\n",
    "    | 0          | ham   |\n",
    "    | 1          | bacon |\n",
    "    +------------+-------+\n",
    "    Invoice table:\n",
    "    +------------+------------+------+------+----------+----------+\n",
    "    | invoice_id | product_id | rest | paid | canceled | refunded |\n",
    "    +------------+------------+------+------+----------+----------+\n",
    "    | 23         | 0          | 2    | 0    | 5        | 0        |\n",
    "    | 12         | 0          | 0    | 4    | 0        | 3        |\n",
    "    | 1          | 1          | 1    | 1    | 0        | 1        |\n",
    "    | 2          | 1          | 1    | 0    | 1        | 1        |\n",
    "    | 3          | 1          | 0    | 1    | 1        | 1        |\n",
    "    | 4          | 1          | 1    | 1    | 1        | 0        |\n",
    "    +------------+------------+------+------+----------+----------+\n",
    "    Result table:\n",
    "    +-------+------+------+----------+----------+\n",
    "    | name  | rest | paid | canceled | refunded |\n",
    "    +-------+------+------+----------+----------+\n",
    "    | bacon | 3    | 3    | 3        | 3        |\n",
    "    | ham   | 2    | 4    | 5        | 3        |\n",
    "    +-------+------+------+----------+----------+\n",
    "    - The amount of money left to pay for bacon is 1 + 1 + 0 + 1 = 3\n",
    "    - The amount of money paid for bacon is 1 + 0 + 1 + 1 = 3\n",
    "    - The amount of money canceled for bacon is 0 + 1 + 1 + 1 = 3\n",
    "    - The amount of money refunded for bacon is 1 + 1 + 1 + 0 = 3\n",
    "    - The amount of money left to pay for ham is 2 + 0 = 2\n",
    "    - The amount of money paid for ham is 0 + 4 = 4\n",
    "    - The amount of money canceled for ham is 5 + 0 = 5\n",
    "    - The amount of money refunded for ham is 0 + 3 = 3"
   ]
  },
  {
   "cell_type": "markdown",
   "metadata": {},
   "source": [
    "# Coalesce"
   ]
  },
  {
   "cell_type": "code",
   "execution_count": null,
   "metadata": {},
   "outputs": [],
   "source": [
    "select name, coalesce(sum(rest), 0) as rest, coalesce(sum(paid), 0) as paid, coalesce(sum(canceled), 0) as canceled, coalesce(sum(refunded), 0) as refunded \n",
    "from Product p left join Invoice i on p.product_id = i.product_id\n",
    "group by 1\n",
    "order by 1"
   ]
  }
 ],
 "metadata": {
  "kernelspec": {
   "display_name": "Python 3",
   "language": "python",
   "name": "python3"
  },
  "language_info": {
   "codemirror_mode": {
    "name": "ipython",
    "version": 3
   },
   "file_extension": ".py",
   "mimetype": "text/x-python",
   "name": "python",
   "nbconvert_exporter": "python",
   "pygments_lexer": "ipython3",
   "version": "3.7.3"
  }
 },
 "nbformat": 4,
 "nbformat_minor": 2
}
