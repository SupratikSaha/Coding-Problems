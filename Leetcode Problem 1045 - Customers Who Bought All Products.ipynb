{
 "cells": [
  {
   "cell_type": "markdown",
   "metadata": {},
   "source": [
    "    Problem Statement.\n",
    "\n",
    "    Table: Customer\n",
    "\n",
    "    +-------------+---------+\n",
    "    | Column Name | Type    |\n",
    "    +-------------+---------+\n",
    "    | customer_id | int     |\n",
    "    | product_key | int     |\n",
    "    +-------------+---------+\n",
    "    There is no primary key for this table. It may contain duplicates.\n",
    "    product_key is a foreign key to Product table.\n",
    "\n",
    "\n",
    "\n",
    "    Table: Product\n",
    "\n",
    "    +-------------+---------+\n",
    "    | Column Name | Type    |\n",
    "    +-------------+---------+\n",
    "    | product_key | int     |\n",
    "    +-------------+---------+\n",
    "    product_key is the primary key column for this table.\n",
    "\n",
    "\n",
    "\n",
    "    Write an SQL query to report the customer ids from the Customer table that bought all the products in the Product table.\n",
    "\n",
    "    Return the result table in any order.\n",
    "\n",
    "    The query result format is in the following example.\n",
    "\n",
    "\n",
    "\n",
    "    Example 1:\n",
    "\n",
    "    Input: \n",
    "    Customer table:\n",
    "    +-------------+-------------+\n",
    "    | customer_id | product_key |\n",
    "    +-------------+-------------+\n",
    "    | 1           | 5           |\n",
    "    | 2           | 6           |\n",
    "    | 3           | 5           |\n",
    "    | 3           | 6           |\n",
    "    | 1           | 6           |\n",
    "    +-------------+-------------+\n",
    "    Product table:\n",
    "    +-------------+\n",
    "    | product_key |\n",
    "    +-------------+\n",
    "    | 5           |\n",
    "    | 6           |\n",
    "    +-------------+\n",
    "    Output: \n",
    "    +-------------+\n",
    "    | customer_id |\n",
    "    +-------------+\n",
    "    | 1           |\n",
    "    | 3           |\n",
    "    +-------------+\n",
    "    Explanation: \n",
    "    The customers who bought all the products (5 and 6) are customers with IDs 1 and 3.\n",
    "\n"
   ]
  },
  {
   "cell_type": "markdown",
   "metadata": {},
   "source": [
    "# Join"
   ]
  },
  {
   "cell_type": "code",
   "execution_count": null,
   "metadata": {},
   "outputs": [],
   "source": [
    "select customer_id from\n",
    "(select customer_id, count(distinct p.product_key) as product_count\n",
    "from Customer c left join Product p on c.product_key = p.product_key\n",
    "where p.product_key is not null\n",
    "group by 1) tab\n",
    "where product_count = (select count(*) from Product)"
   ]
  },
  {
   "cell_type": "markdown",
   "metadata": {},
   "source": [
    "# Having"
   ]
  },
  {
   "cell_type": "code",
   "execution_count": null,
   "metadata": {},
   "outputs": [],
   "source": [
    "select customer_id\n",
    "from Customer\n",
    "group by 1\n",
    "having count(distinct product_key) = (select count(*) from Product)"
   ]
  }
 ],
 "metadata": {
  "kernelspec": {
   "display_name": "Python 3",
   "language": "python",
   "name": "python3"
  },
  "language_info": {
   "codemirror_mode": {
    "name": "ipython",
    "version": 3
   },
   "file_extension": ".py",
   "mimetype": "text/x-python",
   "name": "python",
   "nbconvert_exporter": "python",
   "pygments_lexer": "ipython3",
   "version": "3.7.3"
  }
 },
 "nbformat": 4,
 "nbformat_minor": 2
}
