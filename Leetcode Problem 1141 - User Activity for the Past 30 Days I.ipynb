{
 "cells": [
  {
   "cell_type": "markdown",
   "metadata": {},
   "source": [
    "    Problem Statement.\n",
    "\n",
    "    Table: Activity\n",
    "\n",
    "    +---------------+---------+\n",
    "    | Column Name   | Type    |\n",
    "    +---------------+---------+\n",
    "    | user_id       | int     |\n",
    "    | session_id    | int     |\n",
    "    | activity_date | date    |\n",
    "    | activity_type | enum    |\n",
    "    +---------------+---------+\n",
    "    There is no primary key for this table, it may have duplicate rows.\n",
    "    The activity_type column is an ENUM of type ('open_session', 'end_session', 'scroll_down', 'send_message').\n",
    "    The table shows the user activities for a social media website. \n",
    "    Note that each session belongs to exactly one user.\n",
    "\n",
    "\n",
    "\n",
    "    Write an SQL query to find the daily active user count for a period of 30 days ending 2019-07-27 inclusively. A user was active on someday if they made at least one activity on that day.\n",
    "\n",
    "    Return the result table in any order.\n",
    "\n",
    "    The query result format is in the following example.\n",
    "\n",
    "\n",
    "\n",
    "    Example 1:\n",
    "\n",
    "    Input: \n",
    "    Activity table:\n",
    "    +---------+------------+---------------+---------------+\n",
    "    | user_id | session_id | activity_date | activity_type |\n",
    "    +---------+------------+---------------+---------------+\n",
    "    | 1       | 1          | 2019-07-20    | open_session  |\n",
    "    | 1       | 1          | 2019-07-20    | scroll_down   |\n",
    "    | 1       | 1          | 2019-07-20    | end_session   |\n",
    "    | 2       | 4          | 2019-07-20    | open_session  |\n",
    "    | 2       | 4          | 2019-07-21    | send_message  |\n",
    "    | 2       | 4          | 2019-07-21    | end_session   |\n",
    "    | 3       | 2          | 2019-07-21    | open_session  |\n",
    "    | 3       | 2          | 2019-07-21    | send_message  |\n",
    "    | 3       | 2          | 2019-07-21    | end_session   |\n",
    "    | 4       | 3          | 2019-06-25    | open_session  |\n",
    "    | 4       | 3          | 2019-06-25    | end_session   |\n",
    "    +---------+------------+---------------+---------------+\n",
    "    Output: \n",
    "    +------------+--------------+ \n",
    "    | day        | active_users |\n",
    "    +------------+--------------+ \n",
    "    | 2019-07-20 | 2            |\n",
    "    | 2019-07-21 | 2            |\n",
    "    +------------+--------------+ \n",
    "    Explanation: Note that we do not care about days with zero active users.\n",
    "\n"
   ]
  },
  {
   "cell_type": "markdown",
   "metadata": {},
   "source": [
    "# DATE_ADD"
   ]
  },
  {
   "cell_type": "code",
   "execution_count": null,
   "metadata": {},
   "outputs": [],
   "source": [
    "select activity_date as day, count(distinct user_id) as active_users\n",
    "from Activity\n",
    "where activity_date > DATE_ADD('2019-07-27', INTERVAL -30 DAY) and activity_date <= '2019-07-27'\n",
    "group by 1"
   ]
  },
  {
   "cell_type": "markdown",
   "metadata": {},
   "source": [
    "# Datediff"
   ]
  },
  {
   "cell_type": "code",
   "execution_count": null,
   "metadata": {},
   "outputs": [],
   "source": [
    "select activity_date as day, count(distinct user_id) as active_users\n",
    "from Activity\n",
    "where datediff('2019-07-27', activity_date) < 30\n",
    "group by 1"
   ]
  }
 ],
 "metadata": {
  "kernelspec": {
   "display_name": "Python 3",
   "language": "python",
   "name": "python3"
  },
  "language_info": {
   "codemirror_mode": {
    "name": "ipython",
    "version": 3
   },
   "file_extension": ".py",
   "mimetype": "text/x-python",
   "name": "python",
   "nbconvert_exporter": "python",
   "pygments_lexer": "ipython3",
   "version": "3.7.3"
  }
 },
 "nbformat": 4,
 "nbformat_minor": 2
}
