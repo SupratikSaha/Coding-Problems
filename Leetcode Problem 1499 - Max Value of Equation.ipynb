{
 "cells": [
  {
   "cell_type": "markdown",
   "metadata": {},
   "source": [
    "Problem Statement. <br/>\n",
    "\n",
    "Given an array points containing the coordinates of points on a 2D plane, sorted by the x-values, where points[i] = [xi, yi] such that xi < xj for all 1 <= i < j <= points.length. You are also given an integer k. <br/>\n",
    "Find the maximum value of the equation yi + yj + |xi - xj| where |xi - xj| <= k and 1 <= i < j <= points.length. It is guaranteed that there exists at least one pair of points that satisfy the constraint |xi - xj| <= k. <br/>\n",
    "\n",
    "Example 1: <br/>\n",
    "Input: points = [[1,3],[2,0],[5,10],[6,-10]], k = 1 <br/>\n",
    "Output: 4 <br/>\n",
    "Explanation: The first two points satisfy the condition |xi - xj| <= 1 and if we calculate the equation we get 3 + 0 + |1 - 2| = 4. Third and fourth points also satisfy the condition and give a value of 10 + -10 + |5 - 6| = 1. <br/>\n",
    "No other pairs satisfy the condition, so we return the max of 4 and 1. <br/>\n",
    "\n",
    "Example 2: <br/>\n",
    "Input: points = [[0,0],[3,0],[9,2]], k = 3 <br/>\n",
    "Output: 3 <br/>\n",
    "Explanation: Only the first two points have an absolute difference of 3 or less in the x-values, and give the value of 0 + 0 + |0 - 3| = 3."
   ]
  },
  {
   "cell_type": "markdown",
   "metadata": {},
   "source": [
    "# Sliding Window - O(N ^ 2) runtime, O(1) space"
   ]
  },
  {
   "cell_type": "code",
   "execution_count": 1,
   "metadata": {},
   "outputs": [],
   "source": [
    "from typing import List\n",
    "\n",
    "class Solution:\n",
    "    def findMaxValueOfEquation(self, points: List[List[int]], k: int) -> int:\n",
    "        left = 0\n",
    "        res = float('-inf')\n",
    "        \n",
    "        for right in range(1, len(points)):\n",
    "            while abs(points[right][0] - points[left][0]) > k:\n",
    "                left += 1\n",
    "             \n",
    "            for curr in range(left, right):\n",
    "                val = abs(points[right][0] - points[curr][0]) + points[curr][1] + points[right][1]\n",
    "                res = max(res, val)\n",
    "                    \n",
    "        return res"
   ]
  },
  {
   "cell_type": "markdown",
   "metadata": {},
   "source": [
    "    Because xi < xj,\n",
    "    yi + yj + |xi - xj| = (yi - xi) + (yj + xj)\n",
    "\n",
    "    So for each pair of (xj, yj),\n",
    "    we have xj + yj, and we only need to find out the maximum yi - xi.\n",
    "    To find out the maximum element in a sliding window,\n",
    "    we can use priority queue or stack."
   ]
  },
  {
   "cell_type": "markdown",
   "metadata": {},
   "source": [
    "# Max Heap - O(N * log N) runtime, O(N) space"
   ]
  },
  {
   "cell_type": "code",
   "execution_count": 2,
   "metadata": {},
   "outputs": [],
   "source": [
    "from typing import List\n",
    "from heapq import heappush, heappop\n",
    "\n",
    "class Solution:\n",
    "    def findMaxValueOfEquation(self, points: List[List[int]], k: int) -> int:\n",
    "        q = []\n",
    "        res = -float('inf')\n",
    "        for x, y in points:\n",
    "            while q and q[0][1] < x - k:\n",
    "                heappop(q)\n",
    "            if q: res = max(res, -q[0][0] + y + x)\n",
    "            heappush(q, (x - y, x))\n",
    "        return res"
   ]
  },
  {
   "cell_type": "markdown",
   "metadata": {},
   "source": [
    "# Deque - O(N) runtime, O(N) space"
   ]
  },
  {
   "cell_type": "code",
   "execution_count": 3,
   "metadata": {},
   "outputs": [],
   "source": [
    "from typing import List\n",
    "from collections import deque\n",
    "\n",
    "class Solution:\n",
    "    def findMaxValueOfEquation(self, points: List[List[int]], k: int) -> int:\n",
    "        q = deque()\n",
    "        res = -float('inf')\n",
    "        \n",
    "        for x, y in points:\n",
    "            while q and q[0][1] < x - k:\n",
    "                q.popleft()\n",
    "            if q: res = max(res, q[0][0] + y + x)\n",
    "            while q and q[-1][0] <= y - x:\n",
    "                q.pop()\n",
    "            q.append([y - x, x])\n",
    "        return res"
   ]
  },
  {
   "cell_type": "code",
   "execution_count": 4,
   "metadata": {},
   "outputs": [
    {
     "data": {
      "text/plain": [
       "4"
      ]
     },
     "execution_count": 4,
     "metadata": {},
     "output_type": "execute_result"
    }
   ],
   "source": [
    "instance = Solution()\n",
    "instance.findMaxValueOfEquation([[1,3],[2,0],[5,10],[6,-10]], 1)"
   ]
  }
 ],
 "metadata": {
  "kernelspec": {
   "display_name": "Python 3",
   "language": "python",
   "name": "python3"
  },
  "language_info": {
   "codemirror_mode": {
    "name": "ipython",
    "version": 3
   },
   "file_extension": ".py",
   "mimetype": "text/x-python",
   "name": "python",
   "nbconvert_exporter": "python",
   "pygments_lexer": "ipython3",
   "version": "3.7.3"
  }
 },
 "nbformat": 4,
 "nbformat_minor": 2
}
