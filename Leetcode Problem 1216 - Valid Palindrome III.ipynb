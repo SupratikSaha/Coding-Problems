{
 "cells": [
  {
   "cell_type": "markdown",
   "metadata": {},
   "source": [
    "Problem Statement.\n",
    "\n",
    "Given a string s and an integer k, return true if s is a k-palindrome.\n",
    "\n",
    "A string is k-palindrome if it can be transformed into a palindrome by removing at most k characters from it.\n",
    "\n",
    " \n",
    "\n",
    "Example 1:\n",
    "\n",
    "Input: s = \"abcdeca\", k = 2\n",
    "Output: true\n",
    "Explanation: Remove 'b' and 'e' characters.\n",
    "\n",
    "Example 2:\n",
    "\n",
    "Input: s = \"abbababa\", k = 1\n",
    "Output: true\n",
    "\n",
    " \n",
    "\n",
    "Constraints:\n",
    "\n",
    "    1 <= s.length <= 1000\n",
    "    s consists of only lowercase English letters.\n",
    "    1 <= k <= s.length"
   ]
  },
  {
   "cell_type": "markdown",
   "metadata": {},
   "source": [
    "# Top Down DP - O(N ^ 2) runtime, O(N ^ 2) space"
   ]
  },
  {
   "cell_type": "code",
   "execution_count": 1,
   "metadata": {},
   "outputs": [],
   "source": [
    "from functools import lru_cache\n",
    "\n",
    "class Solution:\n",
    "    def isValidPalindrome(self, s: str, k: int) -> bool:\n",
    "        \n",
    "        @lru_cache(maxsize=None)\n",
    "        def checkValidPalindrome(l, r):\n",
    "            while l < r and s[l] == s[r]:\n",
    "                l += 1\n",
    "                r -= 1\n",
    "            \n",
    "            if l < r and s[l] != s[r]:\n",
    "                return 1 + min(checkValidPalindrome(l+1, r), checkValidPalindrome(l, r-1))\n",
    "            \n",
    "            return 0\n",
    "        \n",
    "        return checkValidPalindrome(0, len(s)-1)<= k"
   ]
  },
  {
   "cell_type": "markdown",
   "metadata": {},
   "source": [
    "# Bottom Up DP - O(N ^ 2) runtime, O(N ^ 2) space"
   ]
  },
  {
   "cell_type": "code",
   "execution_count": 2,
   "metadata": {},
   "outputs": [],
   "source": [
    "class Solution:\n",
    "    def isValidPalindrome(self, s: str, k: int) -> bool:\n",
    "        n = len(s)\n",
    "        dp = [[0] * n for _ in range(n)]\n",
    "\n",
    "        for i in reversed(range(n-1)):\n",
    "            for j in range(i+1, n):\n",
    "                if s[i] == s[j]:\n",
    "                    dp[i][j] = dp[i+1][j-1]\n",
    "                else:\n",
    "                    dp[i][j] = 1 + min(dp[i+1][j], dp[i][j-1])\n",
    "\n",
    "        return dp[0][n-1] <= k"
   ]
  },
  {
   "cell_type": "markdown",
   "metadata": {},
   "source": [
    "# Space Optimized Bottom Up DP - O(N ^ 2) runtime, O(N) space"
   ]
  },
  {
   "cell_type": "code",
   "execution_count": 3,
   "metadata": {},
   "outputs": [],
   "source": [
    "class Solution:\n",
    "    def isValidPalindrome(self, s: str, k: int) -> bool:\n",
    "        n = len(s)\n",
    "        dp = [0] * n\n",
    "\n",
    "        for i in reversed(range(n-1)):\n",
    "            prev = 0\n",
    "            for j in range(i+1, n):\n",
    "                temp = dp[j]\n",
    "                if s[i] == s[j]:\n",
    "                    dp[j] = prev\n",
    "                else:\n",
    "                    dp[j] = 1 + min(dp[j], dp[j-1])\n",
    "\n",
    "                prev = temp\n",
    "\n",
    "        return dp[n-1] <= k"
   ]
  },
  {
   "cell_type": "code",
   "execution_count": 4,
   "metadata": {},
   "outputs": [
    {
     "data": {
      "text/plain": [
       "True"
      ]
     },
     "execution_count": 4,
     "metadata": {},
     "output_type": "execute_result"
    }
   ],
   "source": [
    "instance = Solution()\n",
    "instance.isValidPalindrome(\"abcdeca\", 2)"
   ]
  }
 ],
 "metadata": {
  "kernelspec": {
   "display_name": "Python 3",
   "language": "python",
   "name": "python3"
  },
  "language_info": {
   "codemirror_mode": {
    "name": "ipython",
    "version": 3
   },
   "file_extension": ".py",
   "mimetype": "text/x-python",
   "name": "python",
   "nbconvert_exporter": "python",
   "pygments_lexer": "ipython3",
   "version": "3.7.3"
  }
 },
 "nbformat": 4,
 "nbformat_minor": 2
}
