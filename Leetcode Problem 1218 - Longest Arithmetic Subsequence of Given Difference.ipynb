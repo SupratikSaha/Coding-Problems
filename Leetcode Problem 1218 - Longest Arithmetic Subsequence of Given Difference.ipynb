{
 "cells": [
  {
   "cell_type": "markdown",
   "metadata": {},
   "source": [
    "Problem Statement.\n",
    "\n",
    "Given an integer array arr and an integer difference, return the length of the longest subsequence in arr which is an arithmetic sequence such that the difference between adjacent elements in the subsequence equals difference.\n",
    "\n",
    "A subsequence is a sequence that can be derived from arr by deleting some or no elements without changing the order of the remaining elements.\n",
    "\n",
    "Example 1:\n",
    "\n",
    "Input: arr = [1,2,3,4], difference = 1\n",
    "Output: 4\n",
    "Explanation: The longest arithmetic subsequence is [1,2,3,4].\n",
    "\n",
    "Example 2:\n",
    "\n",
    "Input: arr = [1,3,5,7], difference = 1\n",
    "Output: 1\n",
    "Explanation: The longest arithmetic subsequence is any single element.\n",
    "\n",
    "Example 3:\n",
    "\n",
    "Input: arr = [1,5,7,8,5,3,4,2,1], difference = -2\n",
    "Output: 4\n",
    "Explanation: The longest arithmetic subsequence is [7,5,3,1].\n",
    "\n",
    "Constraints:\n",
    "\n",
    "    1 <= arr.length <= 105\n",
    "    -10^4 <= arr[i], difference <= 10^4"
   ]
  },
  {
   "cell_type": "markdown",
   "metadata": {},
   "source": [
    "# HashTable - O(N) runtime, O(N) space"
   ]
  },
  {
   "cell_type": "code",
   "execution_count": 1,
   "metadata": {},
   "outputs": [],
   "source": [
    "from typing import List\n",
    "\n",
    "class Solution:\n",
    "    def longestSubsequence(self, arr: List[int], difference: int) -> int:\n",
    "        res = {}\n",
    "        for num in arr:\n",
    "            res[num] = res[num - difference] + 1 if (num - difference) in res else 1\n",
    "        return max(res.values())"
   ]
  },
  {
   "cell_type": "code",
   "execution_count": 3,
   "metadata": {},
   "outputs": [
    {
     "data": {
      "text/plain": [
       "4"
      ]
     },
     "execution_count": 3,
     "metadata": {},
     "output_type": "execute_result"
    }
   ],
   "source": [
    "instance = Solution()\n",
    "instance.longestSubsequence([1,5,7,8,5,3,4,2,1], -2)"
   ]
  }
 ],
 "metadata": {
  "kernelspec": {
   "display_name": "Python 3",
   "language": "python",
   "name": "python3"
  },
  "language_info": {
   "codemirror_mode": {
    "name": "ipython",
    "version": 3
   },
   "file_extension": ".py",
   "mimetype": "text/x-python",
   "name": "python",
   "nbconvert_exporter": "python",
   "pygments_lexer": "ipython3",
   "version": "3.7.3"
  }
 },
 "nbformat": 4,
 "nbformat_minor": 2
}
