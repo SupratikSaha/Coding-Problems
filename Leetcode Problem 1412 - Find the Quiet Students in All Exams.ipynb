{
 "cells": [
  {
   "cell_type": "markdown",
   "metadata": {},
   "source": [
    "Problem Statement.\n",
    "\n",
    "    Table: Student\n",
    "\n",
    "    +---------------------+---------+\n",
    "    | Column Name         | Type    |\n",
    "    +---------------------+---------+\n",
    "    | student_id          | int     |\n",
    "    | student_name        | varchar |\n",
    "    +---------------------+---------+\n",
    "    student_id is the primary key for this table.\n",
    "    student_name is the name of the student.\n",
    "\n",
    "\n",
    "\n",
    "    Table: Exam\n",
    "\n",
    "    +---------------+---------+\n",
    "    | Column Name   | Type    |\n",
    "    +---------------+---------+\n",
    "    | exam_id       | int     |\n",
    "    | student_id    | int     |\n",
    "    | score         | int     |\n",
    "    +---------------+---------+\n",
    "    (exam_id, student_id) is the primary key for this table.\n",
    "    Student with student_id got score points in exam with id exam_id.\n",
    "\n",
    "\n",
    "\n",
    "    A \"quite\" student is the one who took at least one exam and didn't score neither the high score nor the low score.\n",
    "\n",
    "    Write an SQL query to report the students (student_id, student_name) being \"quiet\" in ALL exams.\n",
    "\n",
    "    Don't return the student who has never taken any exam. Return the result table ordered by student_id.\n",
    "\n",
    "    The query result format is in the following example.\n",
    "\n",
    "\n",
    "\n",
    "    Student table:\n",
    "    +-------------+---------------+\n",
    "    | student_id  | student_name  |\n",
    "    +-------------+---------------+\n",
    "    | 1           | Daniel        |\n",
    "    | 2           | Jade          |\n",
    "    | 3           | Stella        |\n",
    "    | 4           | Jonathan      |\n",
    "    | 5           | Will          |\n",
    "    +-------------+---------------+\n",
    "\n",
    "    Exam table:\n",
    "    +------------+--------------+-----------+\n",
    "    | exam_id    | student_id   | score     |\n",
    "    +------------+--------------+-----------+\n",
    "    | 10         |     1        |    70     |\n",
    "    | 10         |     2        |    80     |\n",
    "    | 10         |     3        |    90     |\n",
    "    | 20         |     1        |    80     |\n",
    "    | 30         |     1        |    70     |\n",
    "    | 30         |     3        |    80     |\n",
    "    | 30         |     4        |    90     |\n",
    "    | 40         |     1        |    60     |\n",
    "    | 40         |     2        |    70     |\n",
    "    | 40         |     4        |    80     |\n",
    "    +------------+--------------+-----------+\n",
    "\n",
    "    Result table:\n",
    "    +-------------+---------------+\n",
    "    | student_id  | student_name  |\n",
    "    +-------------+---------------+\n",
    "    | 2           | Jade          |\n",
    "    +-------------+---------------+\n",
    "\n",
    "    For exam 1: Student 1 and 3 hold the lowest and high score respectively.\n",
    "    For exam 2: Student 1 hold both highest and lowest score.\n",
    "    For exam 3 and 4: Studnet 1 and 4 hold the lowest and high score respectively.\n",
    "    Student 2 and 5 have never got the highest or lowest in any of the exam.\n",
    "    Since student 5 is not taking any exam, he is excluded from the result.\n",
    "    So, we only return the information of Student 2."
   ]
  },
  {
   "cell_type": "markdown",
   "metadata": {},
   "source": [
    "# Not in operator"
   ]
  },
  {
   "cell_type": "code",
   "execution_count": null,
   "metadata": {},
   "outputs": [],
   "source": [
    "select * from student\n",
    "where student_id in \n",
    "(select distinct student_id from exam\n",
    "  where student_id not in\n",
    " (select distinct student_id from Exam e\n",
    "  join\n",
    "  (select exam_id, max(score) as max_score, min(score) as min_score\n",
    "   from Exam\n",
    "   group by exam_id) max_min_scores\n",
    "   on e.exam_id = max_min_scores.exam_id and (e.score = max_min_scores.max_score \n",
    "   or e.score = max_min_scores.min_score) \n",
    "  ) \n",
    ")"
   ]
  },
  {
   "cell_type": "markdown",
   "metadata": {},
   "source": [
    "# Window Function"
   ]
  },
  {
   "cell_type": "code",
   "execution_count": null,
   "metadata": {},
   "outputs": [],
   "source": [
    "select distinct Exam.student_id, Student.student_name from Exam\n",
    "left join Student on Exam.student_id=Student.student_id\n",
    "\n",
    "where\n",
    "Exam.student_id not in (\n",
    "select distinct student_id from\n",
    "(select student_id, rank() over (partition by exam_id order by score asc) as rn_low from Exam ) as a where a.rn_low = 1\n",
    ")\n",
    "and\n",
    "Exam.student_id not in (\n",
    "select distinct student_id from\n",
    "(select student_id, rank() over (partition by exam_id order by score desc) as rn_low from Exam ) as a where a.rn_low = 1\n",
    ")\n",
    "order by Exam.student_id"
   ]
  }
 ],
 "metadata": {
  "kernelspec": {
   "display_name": "Python 3",
   "language": "python",
   "name": "python3"
  },
  "language_info": {
   "codemirror_mode": {
    "name": "ipython",
    "version": 3
   },
   "file_extension": ".py",
   "mimetype": "text/x-python",
   "name": "python",
   "nbconvert_exporter": "python",
   "pygments_lexer": "ipython3",
   "version": "3.7.3"
  }
 },
 "nbformat": 4,
 "nbformat_minor": 2
}
