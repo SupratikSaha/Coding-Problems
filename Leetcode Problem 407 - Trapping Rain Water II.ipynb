{
 "cells": [
  {
   "cell_type": "markdown",
   "metadata": {},
   "source": [
    "Problem Statement.\n",
    "\n",
    "Given an m x n integer matrix heightMap representing the height of each unit cell in a 2D elevation map, return the volume of water it can trap after raining.\n",
    "\n",
    " \n",
    "\n",
    "Example 1:\n",
    "\n",
    "Input: heightMap = [[1,4,3,1,3,2],[3,2,1,3,2,4],[2,3,3,2,3,1]]\n",
    "Output: 4\n",
    "Explanation: After the rain, water is trapped between the blocks.\n",
    "We have two small ponds 1 and 3 units trapped.\n",
    "The total volume of water trapped is 4.\n",
    "\n",
    "Example 2:\n",
    "\n",
    "Input: heightMap = [[3,3,3,3,3],[3,2,2,2,3],[3,2,1,2,3],[3,2,2,2,3],[3,3,3,3,3]]\n",
    "Output: 10\n",
    "\n",
    " \n",
    "\n",
    "Constraints:\n",
    "\n",
    "    m == heightMap.length\n",
    "    n == heightMap[i].length\n",
    "    1 <= m, n <= 200\n",
    "    0 <= heightMap[i][j] <= 2 * 10^4"
   ]
  },
  {
   "cell_type": "markdown",
   "metadata": {},
   "source": [
    "# BFS - O(M * N) runtime, O(M * N) space"
   ]
  },
  {
   "cell_type": "code",
   "execution_count": 4,
   "metadata": {},
   "outputs": [],
   "source": [
    "from typing import List\n",
    "from heapq import heappush, heappop\n",
    "\n",
    "class Solution:\n",
    "    def trapRainWater(self, heightMap: List[List[int]]) -> int:\n",
    "        m, n = len(heightMap), len(heightMap[0])\n",
    "        if m < 3 or n < 3: return 0\n",
    "\n",
    "        minheap = []\n",
    "        for i in range(m):\n",
    "            for j in range(n):\n",
    "                if i == 0 or i == m - 1 or j == 0 or j == n - 1:\n",
    "                    heappush(minheap, (heightMap[i][j], i, j))\n",
    "                    heightMap[i][j] = -1\n",
    "\n",
    "        level, res = 0, 0\n",
    "        while minheap:\n",
    "            height, x, y = heappop(minheap)\n",
    "            level = max(height, level)\n",
    "\n",
    "            for i, j in [(x - 1, y), (x + 1, y), (x, y - 1), (x, y + 1)]:\n",
    "                if 0 <= i < m and 0 <= j < n and heightMap[i][j] != -1:\n",
    "                    heappush(minheap, (heightMap[i][j], i, j))\n",
    "                    if heightMap[i][j] < level: res += level - heightMap[i][j]\n",
    "                    heightMap[i][j] = -1\n",
    "\n",
    "        return res"
   ]
  },
  {
   "cell_type": "code",
   "execution_count": 5,
   "metadata": {},
   "outputs": [
    {
     "data": {
      "text/plain": [
       "10"
      ]
     },
     "execution_count": 5,
     "metadata": {},
     "output_type": "execute_result"
    }
   ],
   "source": [
    "instance = Solution()\n",
    "instance.trapRainWater([[3,3,3,3,3],[3,2,2,2,3],[3,2,1,2,3],[3,2,2,2,3],[3,3,3,3,3]])"
   ]
  }
 ],
 "metadata": {
  "kernelspec": {
   "display_name": "Python 3",
   "language": "python",
   "name": "python3"
  },
  "language_info": {
   "codemirror_mode": {
    "name": "ipython",
    "version": 3
   },
   "file_extension": ".py",
   "mimetype": "text/x-python",
   "name": "python",
   "nbconvert_exporter": "python",
   "pygments_lexer": "ipython3",
   "version": "3.7.3"
  }
 },
 "nbformat": 4,
 "nbformat_minor": 2
}
