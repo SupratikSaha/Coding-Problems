{
 "cells": [
  {
   "cell_type": "markdown",
   "metadata": {},
   "source": [
    "Problem Statement.\n",
    "\n",
    "Run-length encoding is a string compression method that works by replacing consecutive identical characters (repeated 2 or more times) with the concatenation of the character and the number marking the count of the characters (length of the run). For example, to compress the string \"aabccc\" we replace \"aa\" by \"a2\" and replace \"ccc\" by \"c3\". Thus the compressed string becomes \"a2bc3\".\n",
    "\n",
    "Notice that in this problem, we are not adding '1' after single characters.\n",
    "\n",
    "Given a string s and an integer k. You need to delete at most k characters from s such that the run-length encoded version of s has minimum length.\n",
    "\n",
    "Find the minimum length of the run-length encoded version of s after deleting at most k characters.\n",
    "\n",
    " \n",
    "\n",
    "Example 1:\n",
    "\n",
    "Input: s = \"aaabcccd\", k = 2\n",
    "Output: 4\n",
    "Explanation: Compressing s without deleting anything will give us \"a3bc3d\" of length 6. Deleting any of the characters 'a' or 'c' would at most decrease the length of the compressed string to 5, for instance delete 2 'a' then we will have s = \"abcccd\" which compressed is abc3d. Therefore, the optimal way is to delete 'b' and 'd', then the compressed version of s will be \"a3c3\" of length 4.\n",
    "\n",
    "Example 2:\n",
    "\n",
    "Input: s = \"aabbaa\", k = 2\n",
    "Output: 2\n",
    "Explanation: If we delete both 'b' characters, the resulting compressed string would be \"a4\" of length 2.\n",
    "\n",
    "Example 3:\n",
    "\n",
    "Input: s = \"aaaaaaaaaaa\", k = 0\n",
    "Output: 3\n",
    "Explanation: Since k is zero, we cannot delete anything. The compressed string is \"a11\" of length 3.\n",
    "\n",
    " \n",
    "\n",
    "Constraints:\n",
    "\n",
    "    1 <= s.length <= 100\n",
    "    0 <= k <= s.length\n",
    "    s contains only lowercase English letters."
   ]
  },
  {
   "cell_type": "markdown",
   "metadata": {},
   "source": [
    "# Top Down DP - O(N ^ 2 * K) runtime, O(N ^ 2 * K) space"
   ]
  },
  {
   "cell_type": "code",
   "execution_count": 2,
   "metadata": {},
   "outputs": [],
   "source": [
    "from functools import lru_cache\n",
    "\n",
    "class Solution:\n",
    "    def getLengthOfOptimalCompression(self, s: str, k: int) -> int:\n",
    "        \n",
    "        @lru_cache(maxsize=None)\n",
    "        def counter(start, last, last_count, left): #count the cost of compressing from the start\n",
    "            if left < 0:\n",
    "                return float('inf') # this is impossible\n",
    "            if len(s) - start <= left:\n",
    "                return 0\n",
    "            if s[start] == last:\n",
    "                # we have a stretch of the last_count of the same chars, what is the cost of adding one more? \n",
    "                incr = 1 if last_count == 1 or last_count == 9 or last_count == 99 else 0\n",
    "                # no need to delete here, if we have a stretch of chars like 'aaaaa' - we delete it from the beginning in the else delete section\n",
    "                return incr + counter(start+1, last, last_count+1, left) # we keep this char for compression\n",
    "            else:\n",
    "                # keep this char for compression - it will increase the result length by 1 plus the cost of compressing the rest of the string \n",
    "                keep_counter = 1 + counter(start+1, s[start], 1, left)\n",
    "                # delete this char\n",
    "                del_counter =  counter(start + 1, last, last_count, left - 1)\n",
    "                return min(keep_counter, del_counter)\n",
    "            \n",
    "        return counter(0, \"\", 0, k)"
   ]
  },
  {
   "cell_type": "code",
   "execution_count": 3,
   "metadata": {},
   "outputs": [
    {
     "data": {
      "text/plain": [
       "2"
      ]
     },
     "execution_count": 3,
     "metadata": {},
     "output_type": "execute_result"
    }
   ],
   "source": [
    "instance = Solution()\n",
    "instance.getLengthOfOptimalCompression(\"aabbaa\", 2)"
   ]
  }
 ],
 "metadata": {
  "kernelspec": {
   "display_name": "Python 3",
   "language": "python",
   "name": "python3"
  },
  "language_info": {
   "codemirror_mode": {
    "name": "ipython",
    "version": 3
   },
   "file_extension": ".py",
   "mimetype": "text/x-python",
   "name": "python",
   "nbconvert_exporter": "python",
   "pygments_lexer": "ipython3",
   "version": "3.7.3"
  }
 },
 "nbformat": 4,
 "nbformat_minor": 2
}
