{
 "cells": [
  {
   "cell_type": "markdown",
   "metadata": {},
   "source": [
    "Problem Statement.\n",
    "\n",
    "Given an array of integers arr and an integer k. Find the least number of unique integers after removing exactly k elements.\n",
    "\n",
    " \n",
    "\n",
    "Example 1:\n",
    "\n",
    "Input: arr = [5,5,4], k = 1\n",
    "Output: 1\n",
    "Explanation: Remove the single 4, only 5 is left.\n",
    "\n",
    "Example 2:\n",
    "\n",
    "Input: arr = [4,3,1,1,3,3,2], k = 3\n",
    "Output: 2\n",
    "Explanation: Remove 4, 2 and either one of the two 1s or three 3s. 1 and 3 will be left.\n",
    "\n",
    " \n",
    "\n",
    "Constraints:\n",
    "\n",
    "    1 <= arr.length <= 10^5\n",
    "    1 <= arr[i] <= 10^9\n",
    "    0 <= k <= arr.length"
   ]
  },
  {
   "cell_type": "markdown",
   "metadata": {},
   "source": [
    "# HashTable and Minheap - O(N LogN) runtime, O(N) space"
   ]
  },
  {
   "cell_type": "code",
   "execution_count": 2,
   "metadata": {},
   "outputs": [],
   "source": [
    "from typing import List\n",
    "from collections import Counter\n",
    "from heapq import heappush, heappop\n",
    "\n",
    "class Solution:\n",
    "    def findLeastNumOfUniqueInts(self, arr: List[int], k: int) -> int:\n",
    "        countDict = Counter(arr)\n",
    "        if k == 0: return len(countDict)\n",
    "        minheap = []\n",
    "        \n",
    "        for num, count in countDict.items():\n",
    "            heappush(minheap, count)\n",
    "            \n",
    "        i = 0\n",
    "        while i < k and minheap:\n",
    "            count = heappop(minheap)\n",
    "            i += count\n",
    "            if i == k: return len(minheap)\n",
    "            if i > k: return len(minheap) + 1\n",
    "            \n",
    "        return 0"
   ]
  },
  {
   "cell_type": "markdown",
   "metadata": {},
   "source": [
    "# HashTable and Sort - O(N LogN) runtime, O(N) space"
   ]
  },
  {
   "cell_type": "code",
   "execution_count": 3,
   "metadata": {},
   "outputs": [],
   "source": [
    "from typing import List\n",
    "from collections import Counter\n",
    "\n",
    "class Solution:\n",
    "    def findLeastNumOfUniqueInts(self, arr: List[int], k: int) -> int:\n",
    "        countDict = Counter(arr)\n",
    "        if k == 0: return len(countDict)\n",
    "        \n",
    "        countList = sorted(list(countDict.values()))\n",
    "            \n",
    "        i, j, n = 0, 0, len(countList)\n",
    "        while i < k and j < n:\n",
    "            i += countList[j]\n",
    "            if i == k: return n - j - 1\n",
    "            if i > k: return n - j\n",
    "            j += 1\n",
    "            \n",
    "        return 0"
   ]
  },
  {
   "cell_type": "markdown",
   "metadata": {},
   "source": [
    "# Two HashTables - O(N) runtime, O(N) space"
   ]
  },
  {
   "cell_type": "code",
   "execution_count": 1,
   "metadata": {},
   "outputs": [],
   "source": [
    "from typing import List\n",
    "from collections import defaultdict\n",
    "\n",
    "class Solution:\n",
    "    def findLeastNumOfUniqueInts(self, arr: List[int], k: int) -> int:\n",
    "        if k == 0:\n",
    "            return len(set(arr))\n",
    "        if k == len(arr):\n",
    "            return 0\n",
    "    \n",
    "        counts = defaultdict(int)\n",
    "        freq = defaultdict(int)\n",
    "        \n",
    "        # Create (item: count_of_item) map\n",
    "        for item in arr:\n",
    "            counts[item] += 1\n",
    "            \n",
    "        # Create (count_of_item: frequency_we_see_this_count) map\n",
    "        for count in counts.values():\n",
    "            freq[count] += 1\n",
    "            \n",
    "        # This simulates removing items for given count_of_item\n",
    "        for possible_count in range(1, len(arr)+1):\n",
    "            if possible_count > k:\n",
    "                break\n",
    "            while freq[possible_count] and k >= possible_count:\n",
    "                k -= possible_count\n",
    "                freq[possible_count] -= 1\n",
    "        \n",
    "        # remaining frequency for all the counts is how many unique items are left\n",
    "        return sum(list(freq.values()))"
   ]
  },
  {
   "cell_type": "code",
   "execution_count": 2,
   "metadata": {},
   "outputs": [
    {
     "data": {
      "text/plain": [
       "2"
      ]
     },
     "execution_count": 2,
     "metadata": {},
     "output_type": "execute_result"
    }
   ],
   "source": [
    "instance = Solution()\n",
    "instance.findLeastNumOfUniqueInts([4,3,1,1,3,3,2], 3)"
   ]
  }
 ],
 "metadata": {
  "kernelspec": {
   "display_name": "Python 3",
   "language": "python",
   "name": "python3"
  },
  "language_info": {
   "codemirror_mode": {
    "name": "ipython",
    "version": 3
   },
   "file_extension": ".py",
   "mimetype": "text/x-python",
   "name": "python",
   "nbconvert_exporter": "python",
   "pygments_lexer": "ipython3",
   "version": "3.7.3"
  }
 },
 "nbformat": 4,
 "nbformat_minor": 2
}
