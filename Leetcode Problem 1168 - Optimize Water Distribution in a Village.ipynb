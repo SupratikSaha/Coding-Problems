{
 "cells": [
  {
   "cell_type": "markdown",
   "metadata": {},
   "source": [
    "Problem Statement.\n",
    "\n",
    "There are n houses in a village. We want to supply water for all the houses by building wells and laying pipes.\n",
    "\n",
    "For each house i, we can either build a well inside it directly with cost wells[i - 1] (note the -1 due to 0-indexing), or pipe in water from another well to it. The costs to lay pipes between houses are given by the array pipes, where each pipes[j] = [house1j, house2j, costj] represents the cost to connect house1j and house2j together using a pipe. Connections are bidirectional.\n",
    "\n",
    "Return the minimum total cost to supply water to all houses.\n",
    "\n",
    " \n",
    "\n",
    "Example 1:\n",
    "\n",
    "Input: n = 3, wells = [1,2,2], pipes = [[1,2,1],[2,3,1]]\n",
    "Output: 3\n",
    "Explanation: \n",
    "The image shows the costs of connecting houses using pipes.\n",
    "The best strategy is to build a well in the first house with cost 1 and connect the other houses to it with cost 2 so the total cost is 3.\n",
    "\n",
    " \n",
    "\n",
    "Constraints:\n",
    "\n",
    "    1 <= n <= 104\n",
    "    wells.length == n\n",
    "    0 <= wells[i] <= 105\n",
    "    1 <= pipes.length <= 104\n",
    "    pipes[j].length == 3\n",
    "    1 <= house1j, house2j <= n\n",
    "    0 <= costj <= 105\n",
    "    house1j != house2j"
   ]
  },
  {
   "cell_type": "markdown",
   "metadata": {},
   "source": [
    "# Heap - O((N + M) * LOg(N + M)) runtime, O(N + M) space"
   ]
  },
  {
   "cell_type": "code",
   "execution_count": 3,
   "metadata": {},
   "outputs": [],
   "source": [
    "from typing import List\n",
    "from collections import defaultdict\n",
    "from heapq import heapify, heappush, heappop\n",
    "\n",
    "class Solution:\n",
    "    def minCostToSupplyWater(self, n: int, wells: List[int], pipes: List[List[int]]) -> int:\n",
    "        # bidirectional graph represented in adjacency list\n",
    "        graph = defaultdict(list)\n",
    "\n",
    "        # add a virtual vertex indexed with 0.\n",
    "        #   then add an edge to each of the house weighted by the cost\n",
    "        for index, cost in enumerate(wells):\n",
    "            graph[0].append((cost, index + 1))\n",
    "\n",
    "        # add the bidirectional edges to the graph\n",
    "        for house_1, house_2, cost in pipes:\n",
    "            graph[house_1].append((cost, house_2))\n",
    "            graph[house_2].append((cost, house_1))\n",
    "\n",
    "        # A set to maintain all the vertex that has been added to\n",
    "        #   the final MST (Minimum Spanning Tree),\n",
    "        #   starting from the vertex 0.\n",
    "        mst_set = set([0])\n",
    "\n",
    "        # heap to maitain the order of edges to be visited,\n",
    "        #   starting from the edges originated from the vertex 0.\n",
    "        # Note: we can start arbitrarily from any node.\n",
    "        heapify(graph[0])\n",
    "        edges_heap = graph[0]\n",
    "\n",
    "        total_cost = 0\n",
    "        while len(mst_set) < n + 1:\n",
    "            cost, next_house = heappop(edges_heap)\n",
    "            if next_house not in mst_set:\n",
    "                # adding the new vertex into the set\n",
    "                mst_set.add(next_house)\n",
    "                total_cost += cost\n",
    "                # expanding the candidates of edge to choose from\n",
    "                #   in the next round\n",
    "                for new_cost, neighbor_house in graph[next_house]:\n",
    "                    if neighbor_house not in mst_set:\n",
    "                        heappush(edges_heap, (new_cost, neighbor_house))\n",
    "\n",
    "        return total_cost"
   ]
  },
  {
   "cell_type": "code",
   "execution_count": 4,
   "metadata": {},
   "outputs": [
    {
     "data": {
      "text/plain": [
       "3"
      ]
     },
     "execution_count": 4,
     "metadata": {},
     "output_type": "execute_result"
    }
   ],
   "source": [
    "instance = Solution()\n",
    "instance.minCostToSupplyWater(3, [1,2,2], [[1,2,1],[2,3,1]])"
   ]
  }
 ],
 "metadata": {
  "kernelspec": {
   "display_name": "Python 3",
   "language": "python",
   "name": "python3"
  },
  "language_info": {
   "codemirror_mode": {
    "name": "ipython",
    "version": 3
   },
   "file_extension": ".py",
   "mimetype": "text/x-python",
   "name": "python",
   "nbconvert_exporter": "python",
   "pygments_lexer": "ipython3",
   "version": "3.7.3"
  }
 },
 "nbformat": 4,
 "nbformat_minor": 2
}
