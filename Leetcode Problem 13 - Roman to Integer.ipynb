{
 "cells": [
  {
   "cell_type": "code",
   "execution_count": 18,
   "metadata": {},
   "outputs": [],
   "source": [
    "class Solution:\n",
    "    def romanToInt(self, s: str) -> int:\n",
    "        length = len(s)\n",
    "        ctr = 0\n",
    "        int_val = 0\n",
    "        \n",
    "        val_dict = {'I':1,'V':5,'X':10,'L':50,'C':100,'D':500,'M':1000}\n",
    "        \n",
    "        while ctr < length - 1:\n",
    "            if s[ctr] not in val_dict:\n",
    "                ctr += 1\n",
    "                continue\n",
    "            if val_dict[s[ctr]] < val_dict[s[ctr+1]] :\n",
    "                int_val -= val_dict[s[ctr]]\n",
    "            else:\n",
    "                int_val += val_dict[s[ctr]]\n",
    "            ctr += 1\n",
    "            \n",
    "        return int_val + val_dict[s[ctr]]          "
   ]
  },
  {
   "cell_type": "code",
   "execution_count": 20,
   "metadata": {},
   "outputs": [
    {
     "data": {
      "text/plain": [
       "1994"
      ]
     },
     "execution_count": 20,
     "metadata": {},
     "output_type": "execute_result"
    }
   ],
   "source": [
    "Instance = Solution()\n",
    "Instance.romanToInt('MCMXCIV')"
   ]
  }
 ],
 "metadata": {
  "kernelspec": {
   "display_name": "Python 3",
   "language": "python",
   "name": "python3"
  },
  "language_info": {
   "codemirror_mode": {
    "name": "ipython",
    "version": 3
   },
   "file_extension": ".py",
   "mimetype": "text/x-python",
   "name": "python",
   "nbconvert_exporter": "python",
   "pygments_lexer": "ipython3",
   "version": "3.7.3"
  }
 },
 "nbformat": 4,
 "nbformat_minor": 2
}
