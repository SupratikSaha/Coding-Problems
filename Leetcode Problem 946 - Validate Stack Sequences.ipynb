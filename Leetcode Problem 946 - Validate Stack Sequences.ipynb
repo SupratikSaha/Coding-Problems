{
 "cells": [
  {
   "cell_type": "markdown",
   "metadata": {},
   "source": [
    "Problem Statement. <br/>\n",
    "\n",
    "Given two sequences pushed and popped with distinct values, return true if and only if this could have been the result of a sequence of push and pop operations on an initially empty stack. <br/>\n",
    "\n",
    "Example 1: <br/>\n",
    "Input: pushed = [1,2,3,4,5], popped = [4,5,3,2,1] <br/>\n",
    "Output: true <br/>\n",
    "Explanation: We might do the following sequence: <br/>\n",
    "push(1), push(2), push(3), push(4), pop() -> 4, <br/>\n",
    "push(5), pop() -> 5, pop() -> 3, pop() -> 2, pop() -> 1 <br/>\n",
    "\n",
    "Example 2: <br/>\n",
    "Input: pushed = [1,2,3,4,5], popped = [4,3,5,1,2] <br/>\n",
    "Output: false <br/>\n",
    "Explanation: 1 cannot be popped before 2."
   ]
  },
  {
   "cell_type": "markdown",
   "metadata": {},
   "source": [
    "# Stack - O(N) runtime, O(N) space"
   ]
  },
  {
   "cell_type": "code",
   "execution_count": 1,
   "metadata": {},
   "outputs": [],
   "source": [
    "from typing import List\n",
    "\n",
    "class Solution:\n",
    "    def validateStackSequences(self, pushed: List[int], popped: List[int]) -> bool:\n",
    "        n = len(pushed)\n",
    "        if n == 0:\n",
    "            return True\n",
    "        \n",
    "        currStack = [pushed[0]]\n",
    "        i, j = 0, 0\n",
    "        while j < n:\n",
    "            if i < n - 1 and (not currStack or popped[j] != currStack[-1]):\n",
    "                i += 1\n",
    "                currStack.append(pushed[i])\n",
    "            elif popped[j] != currStack[-1] and i == n - 1: return False       \n",
    "            else:\n",
    "                currStack.pop()\n",
    "                j += 1\n",
    "                \n",
    "        return len(currStack) == 0 and j == n"
   ]
  },
  {
   "cell_type": "markdown",
   "metadata": {},
   "source": [
    "# Greedy - O(N) runtime, O(N) space"
   ]
  },
  {
   "cell_type": "code",
   "execution_count": 3,
   "metadata": {},
   "outputs": [],
   "source": [
    "from typing import List\n",
    "\n",
    "class Solution:\n",
    "    def validateStackSequences(self, pushed: List[int], popped: List[int]) -> bool:\n",
    "        j = 0\n",
    "        stack = []\n",
    "        for x in pushed:\n",
    "            stack.append(x)\n",
    "            while stack and j < len(popped) and stack[-1] == popped[j]:\n",
    "                stack.pop()\n",
    "                j += 1\n",
    "\n",
    "        return j == len(popped)"
   ]
  },
  {
   "cell_type": "code",
   "execution_count": 4,
   "metadata": {},
   "outputs": [
    {
     "data": {
      "text/plain": [
       "False"
      ]
     },
     "execution_count": 4,
     "metadata": {},
     "output_type": "execute_result"
    }
   ],
   "source": [
    "instance = Solution()\n",
    "instance.validateStackSequences([1,2,3,4,5], [4,3,5,1,2])"
   ]
  }
 ],
 "metadata": {
  "kernelspec": {
   "display_name": "Python 3",
   "language": "python",
   "name": "python3"
  },
  "language_info": {
   "codemirror_mode": {
    "name": "ipython",
    "version": 3
   },
   "file_extension": ".py",
   "mimetype": "text/x-python",
   "name": "python",
   "nbconvert_exporter": "python",
   "pygments_lexer": "ipython3",
   "version": "3.7.3"
  }
 },
 "nbformat": 4,
 "nbformat_minor": 2
}
