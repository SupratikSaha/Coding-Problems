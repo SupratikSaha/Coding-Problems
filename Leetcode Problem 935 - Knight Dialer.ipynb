{
 "cells": [
  {
   "cell_type": "markdown",
   "metadata": {},
   "source": [
    "Problem Statement.\n",
    "\n",
    "The chess knight has a unique movement, it may move two squares vertically and one square horizontally, or two squares horizontally and one square vertically (with both forming the shape of an L). The possible movements of chess knight are shown in this diagaram:\n",
    "\n",
    "A chess knight can move as indicated in the chess diagram below:\n",
    "\n",
    "We have a chess knight and a phone pad as shown below, the knight can only stand on a numeric cell (i.e. blue cell).\n",
    "\n",
    "Given an integer n, return how many distinct phone numbers of length n we can dial.\n",
    "\n",
    "You are allowed to place the knight on any numeric cell initially and then you should perform n - 1 jumps to dial a number of length n. All jumps should be valid knight jumps.\n",
    "\n",
    "As the answer may be very large, return the answer modulo 109 + 7.\n",
    "\n",
    " \n",
    "\n",
    "Example 1:\n",
    "\n",
    "Input: n = 1\n",
    "Output: 10\n",
    "Explanation: We need to dial a number of length 1, so placing the knight over any numeric cell of the 10 cells is sufficient.\n",
    "\n",
    "Example 2:\n",
    "\n",
    "Input: n = 2\n",
    "Output: 20\n",
    "Explanation: All the valid number we can dial are [04, 06, 16, 18, 27, 29, 34, 38, 40, 43, 49, 60, 61, 67, 72, 76, 81, 83, 92, 94]\n",
    "\n",
    "Example 3:\n",
    "\n",
    "Input: n = 3\n",
    "Output: 46\n",
    "\n",
    "Example 4:\n",
    "\n",
    "Input: n = 4\n",
    "Output: 104\n",
    "\n",
    "Example 5:\n",
    "\n",
    "Input: n = 3131\n",
    "Output: 136006598\n",
    "Explanation: Please take care of the mod.\n",
    "\n",
    " \n",
    "\n",
    "Constraints:\n",
    "\n",
    "    1 <= n <= 5000"
   ]
  },
  {
   "cell_type": "markdown",
   "metadata": {},
   "source": [
    "# Bottom Up DP - O(12 * 12 * N) runtime, O(12 * N) space"
   ]
  },
  {
   "cell_type": "code",
   "execution_count": 2,
   "metadata": {},
   "outputs": [],
   "source": [
    "from functools import lru_cache\n",
    "\n",
    "class Solution:\n",
    "    def knightDialer(self, n: int) -> int:\n",
    "        r, c = 4, 3\n",
    "        blocked = {(3,0),(3,2)}\n",
    "        \n",
    "        @lru_cache(maxsize=None)\n",
    "        def getMoves(x, y, moves):\n",
    "            if moves == 0: return 1\n",
    "            valid = 0\n",
    "            for x1, y1 in [(x-2, y-1), (x-1, y-2), (x+1, y-2), (x+2, y-1), \n",
    "                           (x-2, y+1), (x-1, y+2), (x+1, y+2), (x+2, y+1)]:\n",
    "                if 0<= x1 < r and 0 <= y1 < c and (x1, y1) not in blocked:\n",
    "                    valid +=  getMoves(x1, y1, moves-1)\n",
    "                \n",
    "            return valid % (10**9 + 7)\n",
    "        \n",
    "        count = 0\n",
    "        for i in range(r):\n",
    "            for j in range(c):\n",
    "                if (i, j) not in blocked:\n",
    "                    count += getMoves(i, j, n-1)\n",
    "                    \n",
    "        return count % (10**9 + 7)"
   ]
  },
  {
   "cell_type": "markdown",
   "metadata": {},
   "source": [
    "# Using possible moves from each digit - O(N) runtime, O(1) space"
   ]
  },
  {
   "cell_type": "code",
   "execution_count": 5,
   "metadata": {},
   "outputs": [],
   "source": [
    "class Solution:\n",
    "    def knightDialer(self, n: int) -> int:\n",
    "        x1 = x2 = x3 = x4 = x5 = x6 = x7 = x8 = x9 = x0 = 1\n",
    "        for i in range(n - 1):\n",
    "            x1, x2, x3, x4, x5, x6, x7, x8, x9, x0 = \\\n",
    "                x6 + x8, x7 + x9, x4 + x8, \\\n",
    "                x3 + x9 + x0, 0, x1 + x7 + x0, \\\n",
    "                x2 + x6, x1 + x3, x2 + x4, \\\n",
    "                x4 + x6\n",
    "        return (x1 + x2 + x3 + x4 + x5 + x6 + x7 + x8 + x9 + x0) % (10**9 + 7)"
   ]
  },
  {
   "cell_type": "code",
   "execution_count": 6,
   "metadata": {},
   "outputs": [
    {
     "data": {
      "text/plain": [
       "240"
      ]
     },
     "execution_count": 6,
     "metadata": {},
     "output_type": "execute_result"
    }
   ],
   "source": [
    "instance = Solution()\n",
    "instance.knightDialer(5)"
   ]
  }
 ],
 "metadata": {
  "kernelspec": {
   "display_name": "Python 3",
   "language": "python",
   "name": "python3"
  },
  "language_info": {
   "codemirror_mode": {
    "name": "ipython",
    "version": 3
   },
   "file_extension": ".py",
   "mimetype": "text/x-python",
   "name": "python",
   "nbconvert_exporter": "python",
   "pygments_lexer": "ipython3",
   "version": "3.7.3"
  }
 },
 "nbformat": 4,
 "nbformat_minor": 2
}
