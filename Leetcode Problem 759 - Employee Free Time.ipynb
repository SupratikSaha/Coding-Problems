{
 "cells": [
  {
   "cell_type": "markdown",
   "metadata": {},
   "source": [
    "Problem Statement.\n",
    "\n",
    "We are given a list schedule of employees, which represents the working time for each employee.\n",
    "\n",
    "Each employee has a list of non-overlapping Intervals, and these intervals are in sorted order.\n",
    "\n",
    "Return the list of finite intervals representing common, positive-length free time for all employees, also in sorted order.\n",
    "\n",
    "(Even though we are representing Intervals in the form [x, y], the objects inside are Intervals, not lists or arrays. For example, schedule[0][0].start = 1, schedule[0][0].end = 2, and schedule[0][0][0] is not defined).  Also, we wouldn't include intervals like [5, 5] in our answer, as they have zero length.\n",
    "\n",
    " \n",
    "\n",
    "Example 1:\n",
    "\n",
    "Input: schedule = [[[1,2],[5,6]],[[1,3]],[[4,10]]]\n",
    "Output: [[3,4]]\n",
    "Explanation: There are a total of three employees, and all common\n",
    "free time intervals would be [-inf, 1], [3, 4], [10, inf].\n",
    "We discard any intervals that contain inf as they aren't finite.\n",
    "\n",
    "Example 2:\n",
    "\n",
    "Input: schedule = [[[1,3],[6,7]],[[2,4]],[[2,5],[9,12]]]\n",
    "Output: [[5,6],[7,9]]\n",
    "\n",
    " \n",
    "\n",
    "Constraints:\n",
    "\n",
    "    1 <= schedule.length , schedule[i].length <= 50\n",
    "    0 <= schedule[i].start < schedule[i].end <= 10^8"
   ]
  },
  {
   "cell_type": "markdown",
   "metadata": {},
   "source": [
    "# Merge Intervals - O(N Log N) runtime, O(N) space where N is the number of all work intervals"
   ]
  },
  {
   "cell_type": "code",
   "execution_count": 1,
   "metadata": {},
   "outputs": [],
   "source": [
    "# Definition for an Interval.\n",
    "# class Interval:\n",
    "#     def __init__(self, start: int = None, end: int = None):\n",
    "#         self.start = start\n",
    "#         self.end = end\n",
    "\n",
    "class Solution:\n",
    "    def employeeFreeTime(self, schedule: '[[Interval]]') -> '[Interval]':\n",
    "        ints = sorted([i for s in schedule for i in s], key=lambda x: x.start)\n",
    "        res, pre = [], ints[0]\n",
    "        for i in ints[1:]:\n",
    "            if i.start <= pre.end and i.end > pre.end:\n",
    "                pre.end = i.end\n",
    "            elif i.start > pre.end:\n",
    "                res.append(Interval(pre.end, i.start))\n",
    "                pre = i\n",
    "        return res"
   ]
  }
 ],
 "metadata": {
  "kernelspec": {
   "display_name": "Python 3",
   "language": "python",
   "name": "python3"
  },
  "language_info": {
   "codemirror_mode": {
    "name": "ipython",
    "version": 3
   },
   "file_extension": ".py",
   "mimetype": "text/x-python",
   "name": "python",
   "nbconvert_exporter": "python",
   "pygments_lexer": "ipython3",
   "version": "3.7.3"
  }
 },
 "nbformat": 4,
 "nbformat_minor": 2
}
