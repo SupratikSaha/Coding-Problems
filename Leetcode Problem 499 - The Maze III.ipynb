{
 "cells": [
  {
   "cell_type": "markdown",
   "metadata": {},
   "source": [
    "Problem Statement.\n",
    "\n",
    "There is a ball in a maze with empty spaces (represented as 0) and walls (represented as 1). The ball can go through the empty spaces by rolling up, down, left or right, but it won't stop rolling until hitting a wall. When the ball stops, it could choose the next direction. There is also a hole in this maze. The ball will drop into the hole if it rolls onto the hole.\n",
    "\n",
    "Given the m x n maze, the ball's position ball and the hole's position hole, where ball = [ballrow, ballcol] and hole = [holerow, holecol], return a string instructions of all the instructions that the ball should follow to drop in the hole with the shortest distance possible. If there are multiple valid instructions, return the lexicographically minimum one. If the ball can't drop in the hole, return \"impossible\".\n",
    "\n",
    "If there is a way for the ball to drop in the hole, the answer instructions should contain the characters 'u' (i.e., up), 'd' (i.e., down), 'l' (i.e., left), and 'r' (i.e., right).\n",
    "\n",
    "The distance is the number of empty spaces traveled by the ball from the start position (excluded) to the destination (included).\n",
    "\n",
    "You may assume that the borders of the maze are all walls (see examples).\n",
    "\n",
    " \n",
    "\n",
    "Example 1:\n",
    "\n",
    "Input: maze = [[0,0,0,0,0],[1,1,0,0,1],[0,0,0,0,0],[0,1,0,0,1],[0,1,0,0,0]], ball = [4,3], hole = [0,1]\n",
    "Output: \"lul\"\n",
    "Explanation: There are two shortest ways for the ball to drop into the hole.\n",
    "The first way is left -> up -> left, represented by \"lul\".\n",
    "The second way is up -> left, represented by 'ul'.\n",
    "Both ways have shortest distance 6, but the first way is lexicographically smaller because 'l' < 'u'. So the output is \"lul\".\n",
    "\n",
    "Example 2:\n",
    "\n",
    "Input: maze = [[0,0,0,0,0],[1,1,0,0,1],[0,0,0,0,0],[0,1,0,0,1],[0,1,0,0,0]], ball = [4,3], hole = [3,0]\n",
    "Output: \"impossible\"\n",
    "Explanation: The ball cannot reach the hole.\n",
    "\n",
    "Example 3:\n",
    "\n",
    "Input: maze = [[0,0,0,0,0,0,0],[0,0,1,0,0,1,0],[0,0,0,0,1,0,0],[0,0,0,0,0,0,1]], ball = [0,4], hole = [3,5]\n",
    "Output: \"dldr\"\n",
    "\n",
    " \n",
    "\n",
    "Constraints:\n",
    "\n",
    "    m == maze.length\n",
    "    n == maze[i].length\n",
    "    1 <= m, n <= 100\n",
    "    maze[i][j] is 0 or 1.\n",
    "    ball.length == 2\n",
    "    hole.length == 2\n",
    "    0 <= ballrow, holerow <= m\n",
    "    0 <= ballcol, holecol <= n\n",
    "    Both the ball and the hole exist in an empty space, and they will not be in the same position initially.\n",
    "    The maze contains at least 2 empty spaces."
   ]
  },
  {
   "cell_type": "markdown",
   "metadata": {},
   "source": [
    "# BFS - Queue"
   ]
  },
  {
   "cell_type": "code",
   "execution_count": 2,
   "metadata": {},
   "outputs": [],
   "source": [
    "from typing import List\n",
    "from collections import deque\n",
    "\n",
    "class Solution:\n",
    "    def findShortestWay(self, maze: List[List[int]], ball: List[int], hole: List[int]) -> str:\n",
    "        m, n = len(maze), len(maze[0])\n",
    "        directions = {'d':[1, 0], 'l': [0, -1], 'r': [0, 1], 'u': [-1, 0]}\n",
    "        \n",
    "        queue = deque([(0, '', ball[0], ball[1])])\n",
    "        visited = {tuple(ball): (0, '')}\n",
    "        minDistance, minInstr = float('inf'), ''\n",
    "        \n",
    "        def check_smaller(d0, i0, d1, i1):\n",
    "            if d1 < d0:\n",
    "                return d1, i1\n",
    "            elif d0 < d1:\n",
    "                return d0, i0\n",
    "            elif d1 == d0:\n",
    "                lexicoSmaller = False\n",
    "                if not i0: lexicoSmaller = True\n",
    "                else:\n",
    "                    for idx in range(min(len(i1), len(i0))):\n",
    "                        if i1[idx] < i0[idx]:\n",
    "                            lexicoSmaller = True\n",
    "                            break\n",
    "                        elif i1[idx] > i0[idx]:\n",
    "                            break\n",
    "\n",
    "                if lexicoSmaller: return d1, i1\n",
    "                else: return d0, i0\n",
    "        \n",
    "        while queue:\n",
    "            distance, instr, r, c = queue.popleft()\n",
    "            \n",
    "            for d_name, dir in  directions.items():\n",
    "                r1, c1 = r + dir[0], c + dir[1]\n",
    "                curr_d = distance\n",
    "                while 0<= r1 < m and 0<= c1 < n and maze[r1][c1] == 0:\n",
    "                    curr_d += 1\n",
    "                    if [r1, c1] == hole:\n",
    "                        minDistance, minInstr = check_smaller(minDistance, minInstr, curr_d, instr+d_name)\n",
    "                                         \n",
    "                    r1, c1 = r1 + dir[0], c1 + dir[1]\n",
    "                    \n",
    "                new_r, new_c = r1 - dir[0], c1 - dir[1]\n",
    "                if (new_r, new_c) != (r,c) and ((new_r, new_c) not in visited or (curr_d, instr + d_name) == \\\n",
    "                      check_smaller(visited[(new_r, new_c)][0], visited[(new_r, new_c)][1], curr_d, instr+d_name)):\n",
    "                    visited[(new_r, new_c)] = (curr_d, instr + d_name)\n",
    "                    queue.append((curr_d, instr + d_name, new_r, new_c))\n",
    "            \n",
    "        return \"impossible\" if not minInstr else minInstr"
   ]
  },
  {
   "cell_type": "markdown",
   "metadata": {},
   "source": [
    "# Djikstra's using heap and BFS - O(M * N) runtime, O(M * N) space"
   ]
  },
  {
   "cell_type": "code",
   "execution_count": 4,
   "metadata": {},
   "outputs": [],
   "source": [
    "from typing import List\n",
    "from heapq import heappush, heappop\n",
    "\n",
    "class Solution:\n",
    "    def findShortestWay(self, maze: List[List[int]], ball: List[int], hole: List[int]) -> str:\n",
    "        m, n = len(maze), len(maze[0])\n",
    "        directions = [['d', 1, 0], ['l', 0, -1], ['r', 0, 1], ['u', -1, 0]]\n",
    "        \n",
    "        minheap = []\n",
    "        heappush(minheap, (0, ball[0], ball[1], ''))\n",
    "        visited = set()\n",
    "        \n",
    "        while minheap:\n",
    "            distance, r, c, instr = heappop(minheap)\n",
    "            if [r, c] == hole: return instr\n",
    "            if (r, c) not in visited:\n",
    "                visited.add((r, c))\n",
    "\n",
    "                for dir_name, dr, dc in directions:\n",
    "                    r1, c1 = r, c\n",
    "                    curr_d = distance\n",
    "\n",
    "                    while 0 <= r1+dr < m and 0 <= c1+dc < n and maze[r1+dr][c1+dc] == 0:\n",
    "                        r1, c1 = r1+dr, c1+dc\n",
    "                        curr_d += 1\n",
    "                        if [r1, c1] == hole:\n",
    "                            break\n",
    "\n",
    "                    if (r1, c1) not in visited:\n",
    "                        heappush(minheap, (curr_d, r1, c1, instr+dir_name))\n",
    "                    \n",
    "        return 'impossible'"
   ]
  },
  {
   "cell_type": "code",
   "execution_count": 5,
   "metadata": {},
   "outputs": [
    {
     "data": {
      "text/plain": [
       "'dldr'"
      ]
     },
     "execution_count": 5,
     "metadata": {},
     "output_type": "execute_result"
    }
   ],
   "source": [
    "instance = Solution()\n",
    "instance.findShortestWay([[0,0,0,0,0,0,0],[0,0,1,0,0,1,0],[0,0,0,0,1,0,0],[0,0,0,0,0,0,1]], [0,4], [3,5])"
   ]
  }
 ],
 "metadata": {
  "kernelspec": {
   "display_name": "Python 3",
   "language": "python",
   "name": "python3"
  },
  "language_info": {
   "codemirror_mode": {
    "name": "ipython",
    "version": 3
   },
   "file_extension": ".py",
   "mimetype": "text/x-python",
   "name": "python",
   "nbconvert_exporter": "python",
   "pygments_lexer": "ipython3",
   "version": "3.7.3"
  }
 },
 "nbformat": 4,
 "nbformat_minor": 2
}
