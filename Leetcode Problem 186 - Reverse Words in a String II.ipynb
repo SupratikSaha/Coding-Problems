{
 "cells": [
  {
   "cell_type": "markdown",
   "metadata": {},
   "source": [
    "# Using python functions strip(), split() and [::-1] - O(n) runtime O(1) space"
   ]
  },
  {
   "cell_type": "code",
   "execution_count": 1,
   "metadata": {},
   "outputs": [],
   "source": [
    "class Solution:\n",
    "    def reverseWords(self, s: str) -> str:\n",
    "        return ' '.join(s.split()[::-1])"
   ]
  },
  {
   "cell_type": "markdown",
   "metadata": {},
   "source": [
    "# Rotate the string for every word - O(n) runtime O(1) space"
   ]
  },
  {
   "cell_type": "code",
   "execution_count": 19,
   "metadata": {},
   "outputs": [],
   "source": [
    "class Solution:\n",
    "    def reverseWords(self, s: str) -> str:\n",
    "        start, ctr = 0, len(s) - 1\n",
    "        end = ctr + 1\n",
    "        \n",
    "        while start < ctr:\n",
    "            if s[ctr - 1] == ' ':\n",
    "                s = s[0:start] + s[ctr:end] + ' ' + s[start:ctr - 1]\n",
    "                start += end - ctr + 1\n",
    "                ctr = len(s)\n",
    "            ctr -= 1\n",
    "        return s"
   ]
  },
  {
   "cell_type": "markdown",
   "metadata": {},
   "source": [
    "# If a List is provided and not a string - O(n^2) run time, O(1) space"
   ]
  },
  {
   "cell_type": "code",
   "execution_count": 23,
   "metadata": {},
   "outputs": [
    {
     "data": {
      "text/plain": [
       "'example 11 good a!'"
      ]
     },
     "execution_count": 23,
     "metadata": {},
     "output_type": "execute_result"
    }
   ],
   "source": [
    "class Solution:\n",
    "    def reverseWords(self, s: List[str]) -> None:\n",
    "        \"\"\"\n",
    "        Do not return anything, modify s in-place instead.\n",
    "        \"\"\"\n",
    "        self.reverse(s, 0, len(s) - 1)\n",
    "    \n",
    "        beg = 0\n",
    "        for i in range(len(s)):\n",
    "            if s[i] == ' ':\n",
    "                self.reverse(s, beg, i-1)\n",
    "                beg = i + 1\n",
    "            elif i == len(s) -1:\n",
    "                self.reverse(s, beg, i)\n",
    "\n",
    "    def reverse(self, s, start, end):\n",
    "        while start < end:\n",
    "            s[start], s[end] = s[end], s[start]\n",
    "            start += 1\n",
    "            end -= 1"
   ]
  }
 ],
 "metadata": {
  "kernelspec": {
   "display_name": "Python 3",
   "language": "python",
   "name": "python3"
  },
  "language_info": {
   "codemirror_mode": {
    "name": "ipython",
    "version": 3
   },
   "file_extension": ".py",
   "mimetype": "text/x-python",
   "name": "python",
   "nbconvert_exporter": "python",
   "pygments_lexer": "ipython3",
   "version": "3.7.3"
  }
 },
 "nbformat": 4,
 "nbformat_minor": 2
}
