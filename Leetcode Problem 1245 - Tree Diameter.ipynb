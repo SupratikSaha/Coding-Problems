{
 "cells": [
  {
   "cell_type": "markdown",
   "metadata": {},
   "source": [
    "Problem Statement.\n",
    "\n",
    "Given an undirected tree, return its diameter: the number of edges in a longest path in that tree.\n",
    "\n",
    "The tree is given as an array of edges where edges[i] = [u, v] is a bidirectional edge between nodes u and v.  Each node has labels in the set {0, 1, ..., edges.length}.\n",
    "\n",
    " \n",
    "\n",
    "Example 1:\n",
    "\n",
    "Input: edges = [[0,1],[0,2]]\n",
    "Output: 2\n",
    "Explanation: \n",
    "A longest path of the tree is the path 1 - 0 - 2.\n",
    "\n",
    "Example 2:\n",
    "\n",
    "Input: edges = [[0,1],[1,2],[2,3],[1,4],[4,5]]\n",
    "Output: 4\n",
    "Explanation: \n",
    "A longest path of the tree is the path 3 - 2 - 1 - 4 - 5.\n",
    "\n",
    " \n",
    "\n",
    "Constraints:\n",
    "\n",
    "    0 <= edges.length < 10^4\n",
    "    edges[i][0] != edges[i][1]\n",
    "    0 <= edges[i][j] <= edges.length\n",
    "    The given edges form an undirected tree."
   ]
  },
  {
   "cell_type": "markdown",
   "metadata": {},
   "source": [
    "# Time Limit Exceeded - DFS - O(N ^ 2) runtime, O(N) space"
   ]
  },
  {
   "cell_type": "code",
   "execution_count": 5,
   "metadata": {},
   "outputs": [],
   "source": [
    "from typing import List\n",
    "from collections import defaultdict\n",
    "from heapq import heappush, heappop\n",
    "\n",
    "class Solution:\n",
    "    def treeDiameter(self, edges: List[List[int]]) -> int:\n",
    "        self.graph = defaultdict(list)\n",
    "        \n",
    "        for a, b in edges:\n",
    "            self.graph[a].append(b)\n",
    "            self.graph[b].append(a)\n",
    "            \n",
    "        maxPath = 0\n",
    "        \n",
    "        for source in self.graph:\n",
    "            minheap = []\n",
    "            for nextNode in self.graph[source]:\n",
    "                curVal = 1 + self.findPathLen(nextNode, {source, nextNode})\n",
    "                heappush(minheap, curVal)\n",
    "                if len(minheap) > 2: heappop(minheap)\n",
    "            maxPath = max(maxPath, sum(minheap))\n",
    "            \n",
    "        return maxPath\n",
    "    \n",
    "    def findPathLen(self, source, visited) -> int:\n",
    "        maxVal = 0\n",
    "        for nextNode in self.graph[source]:\n",
    "            if nextNode not in visited:\n",
    "                curVal = 1 + self.findPathLen(nextNode, visited.union({nextNode}))\n",
    "                maxVal = max(maxVal, curVal)\n",
    "      \n",
    "        return maxVal"
   ]
  },
  {
   "cell_type": "markdown",
   "metadata": {},
   "source": [
    "# DFS - O(N) runtime, O(N) space"
   ]
  },
  {
   "cell_type": "code",
   "execution_count": 13,
   "metadata": {},
   "outputs": [],
   "source": [
    "from typing import List\n",
    "from collections import defaultdict\n",
    "\n",
    "class Solution:\n",
    "    def treeDiameter(self, edges: List[List[int]]) -> int:\n",
    "        # build the adjacency list representation of the graph.\n",
    "        graph = defaultdict(set)\n",
    "        for u, v in edges:\n",
    "            graph[u].add(v)\n",
    "            graph[v].add(u)\n",
    "\n",
    "        diameter = 0\n",
    "\n",
    "        def dfs(curr, visited):\n",
    "            \"\"\"\n",
    "                return the max distance\n",
    "                  starting from the 'curr' node to its leaf nodes\n",
    "            \"\"\"\n",
    "            nonlocal diameter\n",
    "\n",
    "            # the top 2 distance starting from this node\n",
    "            top_1_distance, top_2_distance = 0, 0\n",
    "\n",
    "            distance = 0\n",
    "            visited.add(curr)\n",
    "\n",
    "            for neighbor in graph[curr]:\n",
    "                if neighbor not in visited:\n",
    "                    distance = 1 + dfs(neighbor, visited)\n",
    "\n",
    "                if distance > top_1_distance:\n",
    "                    top_1_distance, top_2_distance = distance, top_1_distance\n",
    "                elif distance > top_2_distance:\n",
    "                    top_2_distance = distance\n",
    "\n",
    "            # with the top 2 distance, we can update the current diameter\n",
    "            diameter = max(diameter, top_1_distance + top_2_distance)\n",
    "\n",
    "            return top_1_distance\n",
    "\n",
    "        visited = set()\n",
    "        dfs(0, visited)\n",
    "\n",
    "        return diameter"
   ]
  },
  {
   "cell_type": "markdown",
   "metadata": {},
   "source": [
    "# Farthest Distance BFS - O(N) runtime, O(N) space"
   ]
  },
  {
   "cell_type": "code",
   "execution_count": 9,
   "metadata": {},
   "outputs": [],
   "source": [
    "from typing import List\n",
    "from collections import deque, defaultdict\n",
    "\n",
    "class Solution:\n",
    "    def treeDiameter(self, edges: List[List[int]]) -> int:\n",
    "        # build the adjacency list representation of the graph\n",
    "        graph = defaultdict(set)\n",
    "        for u, v in edges:\n",
    "            graph[u].add(v)\n",
    "            graph[v].add(u)\n",
    "\n",
    "        def bfs(start):\n",
    "            \"\"\"\n",
    "             return the farthest node from the 'start' node\n",
    "               and the distance between them.\n",
    "            \"\"\"\n",
    "            \n",
    "            queue = deque([start])\n",
    "            visited = {start}\n",
    "            distance = -1\n",
    "            last_node = None\n",
    "            \n",
    "            while queue:\n",
    "                n = len(queue)\n",
    "                for _ in range(n):\n",
    "                    next_node = queue.popleft()\n",
    "                    for neighbor in graph[next_node]:\n",
    "                        if neighbor not in visited:\n",
    "                            visited.add(neighbor)\n",
    "                            queue.append(neighbor)\n",
    "                            last_node = neighbor\n",
    "                distance += 1\n",
    "\n",
    "            return last_node, distance\n",
    "\n",
    "        # 1). find one of the farthest nodes\n",
    "        farthest_node, distance_1 = bfs(0)\n",
    "        # 2). find the other farthest node\n",
    "        #  and the distance between two farthest nodes\n",
    "        another_farthest_node, distance_2 = bfs(farthest_node)\n",
    "\n",
    "        return distance_2"
   ]
  },
  {
   "cell_type": "markdown",
   "metadata": {},
   "source": [
    "# Centroid BFS - O(N) runtime, O(N) space"
   ]
  },
  {
   "cell_type": "code",
   "execution_count": 11,
   "metadata": {},
   "outputs": [],
   "source": [
    "from typing import List\n",
    "from collections import defaultdict\n",
    "\n",
    "class Solution:\n",
    "    def treeDiameter(self, edges: List[List[int]]) -> int:\n",
    "        # build the adjacency list representation of the graph.\n",
    "        graph = defaultdict(set)\n",
    "        for u, v in edges:\n",
    "            graph[u].add(v)\n",
    "            graph[v].add(u)\n",
    "\n",
    "        # find the outer most nodes, _i.e._ leaf nodes\n",
    "        leaves = []\n",
    "        for vertex, links in graph.items():\n",
    "            if len(links) == 1:\n",
    "                leaves.append(vertex)\n",
    "\n",
    "        # \"peel\" the graph layer by layer,\n",
    "        #   until we have the centroids left.\n",
    "        layers = 0\n",
    "        vertex_left = len(edges) + 1\n",
    "        while vertex_left > 2:\n",
    "            vertex_left -= len(leaves)\n",
    "            next_leaves = []\n",
    "            for leaf in leaves:\n",
    "                # the only neighbor left on the leaf node.\n",
    "                neighbor = graph[leaf].pop()\n",
    "                graph[neighbor].remove(leaf)\n",
    "                if len(graph[neighbor]) == 1:\n",
    "                    next_leaves.append(neighbor)\n",
    "            layers += 1\n",
    "            leaves = next_leaves\n",
    "\n",
    "        return layers * 2 + (0 if vertex_left == 1 else 1)"
   ]
  },
  {
   "cell_type": "code",
   "execution_count": 12,
   "metadata": {},
   "outputs": [
    {
     "data": {
      "text/plain": [
       "4"
      ]
     },
     "execution_count": 12,
     "metadata": {},
     "output_type": "execute_result"
    }
   ],
   "source": [
    "instance = Solution()\n",
    "instance.treeDiameter([[0,1],[1,2],[2,3],[1,4],[4,5]])"
   ]
  }
 ],
 "metadata": {
  "kernelspec": {
   "display_name": "Python 3",
   "language": "python",
   "name": "python3"
  },
  "language_info": {
   "codemirror_mode": {
    "name": "ipython",
    "version": 3
   },
   "file_extension": ".py",
   "mimetype": "text/x-python",
   "name": "python",
   "nbconvert_exporter": "python",
   "pygments_lexer": "ipython3",
   "version": "3.7.3"
  }
 },
 "nbformat": 4,
 "nbformat_minor": 2
}
