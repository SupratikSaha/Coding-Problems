{
 "cells": [
  {
   "cell_type": "markdown",
   "metadata": {},
   "source": [
    "Problem Statement.\n",
    "\n",
    "Serialization is converting a data structure or object into a sequence of bits so that it can be stored in a file or memory buffer, or transmitted across a network connection link to be reconstructed later in the same or another computer environment.\n",
    "\n",
    "Design an algorithm to serialize and deserialize a binary search tree. There is no restriction on how your serialization/deserialization algorithm should work. You need to ensure that a binary search tree can be serialized to a string, and this string can be deserialized to the original tree structure.\n",
    "\n",
    "The encoded string should be as compact as possible.\n",
    "\n",
    " \n",
    "\n",
    "Example 1:\n",
    "\n",
    "Input: root = [2,1,3]\n",
    "Output: [2,1,3]\n",
    "\n",
    "Example 2:\n",
    "\n",
    "Input: root = []\n",
    "Output: []\n",
    "\n",
    " \n",
    "\n",
    "Constraints:\n",
    "\n",
    "    The number of nodes in the tree is in the range [0, 104].\n",
    "    0 <= Node.val <= 104\n",
    "    The input tree is guaranteed to be a binary search tree."
   ]
  },
  {
   "cell_type": "markdown",
   "metadata": {},
   "source": [
    "# Convert int to 4-bytes string - O(N) runtime, O(N) space"
   ]
  },
  {
   "cell_type": "code",
   "execution_count": 2,
   "metadata": {},
   "outputs": [],
   "source": [
    "# Definition for a binary tree node.\n",
    "# class TreeNode:\n",
    "#     def __init__(self, x):\n",
    "#         self.val = x\n",
    "#         self.left = None\n",
    "#         self.right = None\n",
    "\n",
    "class Codec:\n",
    "    \n",
    "    def postorder(self, root):\n",
    "        return self.postorder(root.left) + self.postorder(root.right) + [root.val] if root else []\n",
    "        \n",
    "    def int_to_str(self, x):\n",
    "        \"\"\"\n",
    "        Encodes integer to bytes string\n",
    "        \"\"\"\n",
    "        bytes = [chr(x >> (i * 8) & 0xff) for i in range(4)]\n",
    "        bytes.reverse()\n",
    "        bytes_str = ''.join(bytes)\n",
    "        return bytes_str\n",
    "\n",
    "    def serialize(self, root: TreeNode) -> str:\n",
    "        \"\"\"Encodes a tree to a single string.\n",
    "        \"\"\"\n",
    "        lst = [self.int_to_str(x) for x in self.postorder(root)]\n",
    "        return ''.join(lst)\n",
    "    \n",
    "    def str_to_int(self, bytes_str):\n",
    "        \"\"\"\n",
    "        Decodes bytes string to integer.\n",
    "        \"\"\"\n",
    "        result = 0\n",
    "        for ch in bytes_str:\n",
    "            result = result * 256 + ord(ch)\n",
    "        return result\n",
    "    \n",
    "    def deserialize(self, data: str) -> TreeNode:\n",
    "        \"\"\"Decodes your encoded data to tree.\n",
    "        \"\"\"\n",
    "        def helper(lower = float('-inf'), upper = float('inf')):\n",
    "            if not data or data[-1] < lower or data[-1] > upper:\n",
    "                return None\n",
    "            \n",
    "            val = data.pop()\n",
    "            root = TreeNode(val)\n",
    "            root.right = helper(val, upper)\n",
    "            root.left = helper(lower, val)\n",
    "            return root\n",
    "        \n",
    "        n = len(data)\n",
    "        # split data string into chunks of 4 bytes\n",
    "        # and convert each chunk to int\n",
    "        data = [self.str_to_int(data[4 * i : 4 * i + 4]) for i in range(n // 4)]\n",
    "        return helper() "
   ]
  }
 ],
 "metadata": {
  "kernelspec": {
   "display_name": "Python 3",
   "language": "python",
   "name": "python3"
  },
  "language_info": {
   "codemirror_mode": {
    "name": "ipython",
    "version": 3
   },
   "file_extension": ".py",
   "mimetype": "text/x-python",
   "name": "python",
   "nbconvert_exporter": "python",
   "pygments_lexer": "ipython3",
   "version": "3.7.3"
  }
 },
 "nbformat": 4,
 "nbformat_minor": 2
}
