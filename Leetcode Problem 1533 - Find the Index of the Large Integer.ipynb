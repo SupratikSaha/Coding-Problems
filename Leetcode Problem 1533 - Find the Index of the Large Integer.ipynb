{
 "cells": [
  {
   "cell_type": "markdown",
   "metadata": {},
   "source": [
    "Problem Statement.\n",
    "\n",
    "We have an integer array arr, where all the integers in arr are equal except for one integer which is larger than the rest of the integers. You will not be given direct access to the array, instead, you will have an API ArrayReader which have the following functions:\n",
    "\n",
    "    int compareSub(int l, int r, int x, int y): where 0 <= l, r, x, y < ArrayReader.length(), l <= r and x <= y. The function compares the sum of sub-array arr[l..r] with the sum of the sub-array arr[x..y] and returns:\n",
    "        1 if arr[l]+arr[l+1]+...+arr[r] > arr[x]+arr[x+1]+...+arr[y].\n",
    "        0 if arr[l]+arr[l+1]+...+arr[r] == arr[x]+arr[x+1]+...+arr[y].\n",
    "        -1 if arr[l]+arr[l+1]+...+arr[r] < arr[x]+arr[x+1]+...+arr[y].\n",
    "    int length(): Returns the size of the array.\n",
    "\n",
    "You are allowed to call compareSub() 20 times at most. You can assume both functions work in O(1) time.\n",
    "\n",
    "Return the index of the array arr which has the largest integer.\n",
    "\n",
    "Follow-up:\n",
    "\n",
    "    What if there are two numbers in arr that are bigger than all other numbers?\n",
    "    What if there is one number that is bigger than other numbers and one number that is smaller than other numbers?\n",
    "\n",
    " \n",
    "\n",
    "Example 1:\n",
    "\n",
    "Input: arr = [7,7,7,7,10,7,7,7]\n",
    "Output: 4\n",
    "Explanation: The following calls to the API\n",
    "reader.compareSub(0, 0, 1, 1) // returns 0 this is a query comparing the sub-array (0, 0) with the sub array (1, 1), (i.e. compares arr[0] with arr[1]).\n",
    "Thus we know that arr[0] and arr[1] doesn't contain the largest element.\n",
    "reader.compareSub(2, 2, 3, 3) // returns 0, we can exclude arr[2] and arr[3].\n",
    "reader.compareSub(4, 4, 5, 5) // returns 1, thus for sure arr[4] is the largest element in the array.\n",
    "Notice that we made only 3 calls, so the answer is valid.\n",
    "\n",
    "Example 2:\n",
    "\n",
    "Input: nums = [6,6,12]\n",
    "Output: 2\n",
    "\n",
    " \n",
    "\n",
    "Constraints:\n",
    "\n",
    "    2 <= arr.length <= 5 * 10^5\n",
    "    1 <= arr[i] <= 100\n",
    "    All elements of arr are equal except for one element which is larger than all other elements."
   ]
  },
  {
   "cell_type": "markdown",
   "metadata": {},
   "source": [
    "# Binary Search - O(Log N) runtime, O(1) space"
   ]
  },
  {
   "cell_type": "code",
   "execution_count": 1,
   "metadata": {},
   "outputs": [],
   "source": [
    "# \"\"\"\n",
    "# This is ArrayReader's API interface.\n",
    "# You should not implement it, or speculate about its implementation\n",
    "# \"\"\"\n",
    "#class ArrayReader(object):\n",
    "#    # Compares the sum of arr[l..r] with the sum of arr[x..y]\n",
    "#    # return 1 if sum(arr[l..r]) > sum(arr[x..y])\n",
    "#    # return 0 if sum(arr[l..r]) == sum(arr[x..y])\n",
    "#    # return -1 if sum(arr[l..r]) < sum(arr[x..y])\n",
    "#    def compareSub(self, l: int, r: int, x: int, y: int) -> int:\n",
    "#\n",
    "#    # Returns the length of the array\n",
    "#    def length(self) -> int:\n",
    "#\n",
    "\n",
    "\n",
    "class Solution:\n",
    "    def getIndex(self, reader: 'ArrayReader') -> int:\n",
    "        left, right = 0, reader.length() - 1\n",
    "        \n",
    "        while left < right:\n",
    "            mid = left + (right - left) // 2\n",
    "            isEven = (right - left) % 2 == 1\n",
    "            if isEven:\n",
    "                val = reader.compareSub(left, mid, mid+1, right)\n",
    "            else:\n",
    "                val = reader.compareSub(left, mid, mid, right)\n",
    "            if val == 0:\n",
    "                return mid\n",
    "            if val == 1:\n",
    "                right = mid\n",
    "            elif val == -1:\n",
    "                left = mid + 1 if isEven else mid\n",
    "                \n",
    "        return left"
   ]
  }
 ],
 "metadata": {
  "kernelspec": {
   "display_name": "Python 3",
   "language": "python",
   "name": "python3"
  },
  "language_info": {
   "codemirror_mode": {
    "name": "ipython",
    "version": 3
   },
   "file_extension": ".py",
   "mimetype": "text/x-python",
   "name": "python",
   "nbconvert_exporter": "python",
   "pygments_lexer": "ipython3",
   "version": "3.7.3"
  }
 },
 "nbformat": 4,
 "nbformat_minor": 2
}
