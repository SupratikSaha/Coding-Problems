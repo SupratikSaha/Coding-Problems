{
 "cells": [
  {
   "cell_type": "markdown",
   "metadata": {},
   "source": [
    "Problem Statement.\n",
    "\n",
    "Implement next permutation, which rearranges numbers into the lexicographically next greater permutation of numbers.\n",
    "\n",
    "If such an arrangement is not possible, it must rearrange it as the lowest possible order (i.e., sorted in ascending order).\n",
    "\n",
    "The replacement must be in place and use only constant extra memory.\n",
    "\n",
    " \n",
    "\n",
    "Example 1:\n",
    "\n",
    "Input: nums = [1,2,3]\n",
    "Output: [1,3,2]\n",
    "\n",
    "Example 2:\n",
    "\n",
    "Input: nums = [3,2,1]\n",
    "Output: [1,2,3]\n",
    "\n",
    "Example 3:\n",
    "\n",
    "Input: nums = [1,1,5]\n",
    "Output: [1,5,1]\n",
    "\n",
    "Example 4:\n",
    "\n",
    "Input: nums = [1]\n",
    "Output: [1]\n",
    "\n",
    " \n",
    "\n",
    "Constraints:\n",
    "\n",
    "    1 <= nums.length <= 100\n",
    "    0 <= nums[i] <= 100"
   ]
  },
  {
   "cell_type": "markdown",
   "metadata": {},
   "source": [
    "# Sort - O(N * logN) runtime, O(N) space"
   ]
  },
  {
   "cell_type": "code",
   "execution_count": 1,
   "metadata": {},
   "outputs": [],
   "source": [
    "from typing import List\n",
    "\n",
    "class Solution:\n",
    "    def nextPermutation(self, nums: List[int]) -> None:\n",
    "        \"\"\"\n",
    "        Do not return anything, modify nums in-place instead.\n",
    "        \"\"\"\n",
    "        n = len(nums)\n",
    "        if n == 1: return nums\n",
    "        \n",
    "        maxVal = nums[n-1]\n",
    "        canExchange = False\n",
    "        for i in reversed(range(n-1)):\n",
    "            if maxVal > nums[i]:\n",
    "                canExchange = True\n",
    "                break\n",
    "            maxVal = nums[i]\n",
    "            \n",
    "        if not canExchange:\n",
    "            nums.sort()\n",
    "            return nums\n",
    "            \n",
    "        value, index = None, None\n",
    "        for j in range(i+1, n):\n",
    "            if nums[j] > nums[i]:\n",
    "                if not value or nums[j] < value:\n",
    "                    value, index = nums[j], j\n",
    "                    \n",
    "        nums[i], nums[index] = nums[index], nums[i]\n",
    "        nums[i+1:] = sorted(nums[i+1:])\n",
    "        \n",
    "        return nums"
   ]
  },
  {
   "cell_type": "markdown",
   "metadata": {},
   "source": [
    "# Linear Solution - O(N) runtime, O(1) space"
   ]
  },
  {
   "cell_type": "code",
   "execution_count": 6,
   "metadata": {},
   "outputs": [],
   "source": [
    "from typing import List\n",
    "\n",
    "class Solution:\n",
    "    def nextPermutation(self, nums: List[int]) -> None:\n",
    "        \"\"\"\n",
    "        Do not return anything, modify nums in-place instead.\n",
    "        \"\"\"\n",
    "        \n",
    "        def swap(l, r):\n",
    "            while l < r:\n",
    "                nums[l], nums[r] = nums[r], nums[l]\n",
    "                l +=1 ; r -= 1\n",
    "                \n",
    "        i = j = len(nums)-1\n",
    "        while i > 0 and nums[i-1] >= nums[i]:\n",
    "            i -= 1\n",
    "            \n",
    "        if i == 0:   # nums are in descending order\n",
    "            swap(i, j)\n",
    "            return nums\n",
    "        \n",
    "        k = i - 1    # find the last \"ascending\" position\n",
    "        while nums[j] <= nums[k]:\n",
    "            j -= 1\n",
    "    \n",
    "        nums[k], nums[j] = nums[j], nums[k]  \n",
    "        l, r = k+1, len(nums)-1  # reverse the second part\n",
    "        swap(l, r)\n",
    "        return nums"
   ]
  },
  {
   "cell_type": "code",
   "execution_count": 7,
   "metadata": {},
   "outputs": [
    {
     "data": {
      "text/plain": [
       "[1, 5, 1]"
      ]
     },
     "execution_count": 7,
     "metadata": {},
     "output_type": "execute_result"
    }
   ],
   "source": [
    "instance = Solution()\n",
    "instance.nextPermutation([1,1,5])"
   ]
  }
 ],
 "metadata": {
  "kernelspec": {
   "display_name": "Python 3",
   "language": "python",
   "name": "python3"
  },
  "language_info": {
   "codemirror_mode": {
    "name": "ipython",
    "version": 3
   },
   "file_extension": ".py",
   "mimetype": "text/x-python",
   "name": "python",
   "nbconvert_exporter": "python",
   "pygments_lexer": "ipython3",
   "version": "3.7.3"
  }
 },
 "nbformat": 4,
 "nbformat_minor": 2
}
