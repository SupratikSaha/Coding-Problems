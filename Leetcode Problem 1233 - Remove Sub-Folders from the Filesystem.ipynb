{
 "cells": [
  {
   "cell_type": "markdown",
   "metadata": {},
   "source": [
    "Problem Statement.\n",
    "\n",
    "Given a list of folders folder, return the folders after removing all sub-folders in those folders. You may return the answer in any order.\n",
    "\n",
    "If a folder[i] is located within another folder[j], it is called a sub-folder of it.\n",
    "\n",
    "The format of a path is one or more concatenated strings of the form: '/' followed by one or more lowercase English letters.\n",
    "\n",
    "For example, \"/leetcode\" and \"/leetcode/problems\" are valid paths while an empty string and \"/\" are not.\n",
    "\n",
    "\n",
    "Example 1:\n",
    "\n",
    "Input: folder = [\"/a\",\"/a/b\",\"/c/d\",\"/c/d/e\",\"/c/f\"]\n",
    "Output: [\"/a\",\"/c/d\",\"/c/f\"]\n",
    "Explanation: Folders \"/a/b\" is a subfolder of \"/a\" and \"/c/d/e\" is inside of folder \"/c/d\" in our filesystem.\n",
    "\n",
    "Example 2:\n",
    "\n",
    "Input: folder = [\"/a\",\"/a/b/c\",\"/a/b/d\"]\n",
    "Output: [\"/a\"]\n",
    "Explanation: Folders \"/a/b/c\" and \"/a/b/d\" will be removed because they are subfolders of \"/a\".\n",
    "\n",
    "Example 3:\n",
    "\n",
    "Input: folder = [\"/a/b/c\",\"/a/b/ca\",\"/a/b/d\"]\n",
    "Output: [\"/a/b/c\",\"/a/b/ca\",\"/a/b/d\"]\n",
    "\n",
    " \n",
    "\n",
    "Constraints:\n",
    "\n",
    "    1 <= folder.length <= 4 * 104\n",
    "    2 <= folder[i].length <= 100\n",
    "    folder[i] contains only lowercase letters and '/'.\n",
    "    folder[i] always starts with the character '/'.\n",
    "    Each folder name is unique."
   ]
  },
  {
   "cell_type": "markdown",
   "metadata": {},
   "source": [
    "# HashSet - O(N * L) runtime, O(N * L) space, where N is the number of folders and L is the longest length"
   ]
  },
  {
   "cell_type": "code",
   "execution_count": 1,
   "metadata": {},
   "outputs": [],
   "source": [
    "from typing import List\n",
    "\n",
    "class Solution:\n",
    "    def removeSubfolders(self, folder: List[str]) -> List[str]:\n",
    "        folder.sort()\n",
    "        folderSet = set()\n",
    "        res = []\n",
    "        \n",
    "        for f in folder:\n",
    "            fList = f.split(\"/\")[1:]\n",
    "            i, n = 0, len(fList)\n",
    "            curTuple = ()\n",
    "            toAdd = True\n",
    "            \n",
    "            for i in range(n):\n",
    "                curTuple += (fList[i], )\n",
    "                if curTuple in folderSet:\n",
    "                    toAdd = False\n",
    "                    break\n",
    "                \n",
    "            if toAdd: \n",
    "                folderSet.add(curTuple)\n",
    "                res.append(f)\n",
    "                \n",
    "        return res"
   ]
  },
  {
   "cell_type": "markdown",
   "metadata": {},
   "source": [
    "# Simpler Sort - O(N * L) runtime, O(N * L) space, where N is the number of folders and L is the longest length"
   ]
  },
  {
   "cell_type": "code",
   "execution_count": 3,
   "metadata": {},
   "outputs": [],
   "source": [
    "from typing import List\n",
    "\n",
    "class Solution:\n",
    "    def removeSubfolders(self, folder: List[str]) -> List[str]:\n",
    "        folder.sort()\n",
    "        ans = [folder[0]]\n",
    "        \n",
    "        for i in range(1, len(folder)):\n",
    "            if not folder[i].startswith(ans[-1] + \"/\"):\n",
    "                ans.append(folder[i])\n",
    "                \n",
    "        return ans"
   ]
  },
  {
   "cell_type": "code",
   "execution_count": 4,
   "metadata": {},
   "outputs": [
    {
     "data": {
      "text/plain": [
       "['/a/b/c', '/a/b/ca', '/a/b/d']"
      ]
     },
     "execution_count": 4,
     "metadata": {},
     "output_type": "execute_result"
    }
   ],
   "source": [
    "instance = Solution()\n",
    "instance.removeSubfolders([\"/a/b/c\",\"/a/b/ca\",\"/a/b/d\"])"
   ]
  }
 ],
 "metadata": {
  "kernelspec": {
   "display_name": "Python 3",
   "language": "python",
   "name": "python3"
  },
  "language_info": {
   "codemirror_mode": {
    "name": "ipython",
    "version": 3
   },
   "file_extension": ".py",
   "mimetype": "text/x-python",
   "name": "python",
   "nbconvert_exporter": "python",
   "pygments_lexer": "ipython3",
   "version": "3.7.3"
  }
 },
 "nbformat": 4,
 "nbformat_minor": 2
}
