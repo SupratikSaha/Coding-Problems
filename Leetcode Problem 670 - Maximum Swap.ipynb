{
 "cells": [
  {
   "cell_type": "markdown",
   "metadata": {},
   "source": [
    "Problem Statement.\n",
    "\n",
    "You are given an integer num. You can swap two digits at most once to get the maximum valued number.\n",
    "\n",
    "Return the maximum valued number you can get.\n",
    "\n",
    " \n",
    "\n",
    "Example 1:\n",
    "\n",
    "Input: num = 2736\n",
    "Output: 7236\n",
    "Explanation: Swap the number 2 and the number 7.\n",
    "\n",
    "Example 2:\n",
    "\n",
    "Input: num = 9973\n",
    "Output: 9973\n",
    "Explanation: No swap.\n",
    "\n",
    " \n",
    "\n",
    "Constraints:\n",
    "\n",
    "    0 <= num <= 10^8"
   ]
  },
  {
   "cell_type": "markdown",
   "metadata": {},
   "source": [
    "# Compare Strings - O(N Log N) runtime, O(N) space"
   ]
  },
  {
   "cell_type": "code",
   "execution_count": 1,
   "metadata": {},
   "outputs": [],
   "source": [
    "class Solution:\n",
    "    def maximumSwap(self, num: int) -> int:\n",
    "        strNumList = list(str(num))\n",
    "        sortedStringNumList = sorted(strNumList, reverse=True)\n",
    "        \n",
    "        for i in range(len(strNumList)):\n",
    "            if strNumList[i] != sortedStringNumList[i]:\n",
    "                currDigit = strNumList[i]\n",
    "                strNumList[i] = sortedStringNumList[i]\n",
    "                for j in reversed(range(i+1, len(strNumList))):\n",
    "                    if strNumList[j] == sortedStringNumList[i]: \n",
    "                        strNumList[j] = currDigit\n",
    "                        break\n",
    "                break\n",
    "                \n",
    "        return int(''.join(strNumList))"
   ]
  },
  {
   "cell_type": "markdown",
   "metadata": {},
   "source": [
    "# Map Function - O(N) runtime , O(N) space"
   ]
  },
  {
   "cell_type": "code",
   "execution_count": 2,
   "metadata": {},
   "outputs": [],
   "source": [
    "class Solution:\n",
    "    def maximumSwap(self, num):\n",
    "        A = list(map(int, str(num)))\n",
    "        last = {x: i for i, x in enumerate(A)}\n",
    "        for i, x in enumerate(A):\n",
    "            for d in range(9, x, -1):\n",
    "                if last.get(d, -1) > i: \n",
    "                    A[i], A[last[d]] = A[last[d]], A[i]\n",
    "                    return int(\"\".join(map(str, A)))\n",
    "        return num"
   ]
  },
  {
   "cell_type": "code",
   "execution_count": 3,
   "metadata": {},
   "outputs": [
    {
     "data": {
      "text/plain": [
       "9913"
      ]
     },
     "execution_count": 3,
     "metadata": {},
     "output_type": "execute_result"
    }
   ],
   "source": [
    "instance = Solution()\n",
    "instance.maximumSwap(1993)"
   ]
  }
 ],
 "metadata": {
  "kernelspec": {
   "display_name": "Python 3",
   "language": "python",
   "name": "python3"
  },
  "language_info": {
   "codemirror_mode": {
    "name": "ipython",
    "version": 3
   },
   "file_extension": ".py",
   "mimetype": "text/x-python",
   "name": "python",
   "nbconvert_exporter": "python",
   "pygments_lexer": "ipython3",
   "version": "3.7.3"
  }
 },
 "nbformat": 4,
 "nbformat_minor": 2
}
