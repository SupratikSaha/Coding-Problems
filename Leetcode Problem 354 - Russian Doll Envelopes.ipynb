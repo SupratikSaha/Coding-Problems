{
 "cells": [
  {
   "cell_type": "markdown",
   "metadata": {},
   "source": [
    "Problem Statement. <br/>\n",
    "\n",
    "You have a number of envelopes with widths and heights given as a pair of integers (w, h). One envelope can fit into another if and only if both the width and height of one envelope is greater than the width and height of the other envelope. <br/>\n",
    "What is the maximum number of envelopes can you Russian doll? (put one inside other) <br/>\n",
    "\n",
    "Note: Rotation is not allowed. <br/>\n",
    "\n",
    "Example: <br/>\n",
    "Input: [[5,4],[6,4],[6,7],[2,3]] <br/>\n",
    "Output: 3  <br/>\n",
    "Explanation: The maximum number of envelopes you can Russian doll is 3 ([2,3] => [5,4] => [6,7])."
   ]
  },
  {
   "cell_type": "markdown",
   "metadata": {},
   "source": [
    "# Bottom Up DP - O(N ^ 2) runtime, O(N ^ 2) space"
   ]
  },
  {
   "cell_type": "code",
   "execution_count": 1,
   "metadata": {},
   "outputs": [],
   "source": [
    "from typing import List\n",
    "\n",
    "class Solution:\n",
    "    def maxEnvelopes(self, envelopes: List[List[int]]) -> int:\n",
    "        if not envelopes or len(envelopes) == 0:\n",
    "            return 0\n",
    "        \n",
    "        envelopes = sorted(envelopes, key=lambda x:(x[0], x[1]))\n",
    "        \n",
    "        n = len(envelopes)\n",
    "        dp = [[1 for _ in range(n)] for _ in range(n)]\n",
    "        maxEnvelopes = 1\n",
    "        \n",
    "        for i in range(n):\n",
    "            for j in range(i, n):\n",
    "                dp[i][j] = dp[i-1][j]\n",
    "                \n",
    "                if envelopes[j][0] > envelopes[i][0] and envelopes[j][1] > envelopes[i][1]:\n",
    "                    dp[i][j] = max(1 + dp[i][i], dp[i][j])\n",
    "                    maxEnvelopes = max(maxEnvelopes, dp[i][j])\n",
    "\n",
    "        return maxEnvelopes"
   ]
  },
  {
   "cell_type": "markdown",
   "metadata": {},
   "source": [
    "# Space Optimized Bottom Up DP - O(N ^ 2) runtime, O(N) space"
   ]
  },
  {
   "cell_type": "code",
   "execution_count": 2,
   "metadata": {},
   "outputs": [],
   "source": [
    "from typing import List\n",
    "\n",
    "class Solution:\n",
    "    def maxEnvelopes(self, envelopes: List[List[int]]) -> int:\n",
    "        if not envelopes or len(envelopes) == 0:\n",
    "            return 0\n",
    "        \n",
    "        envelopes = sorted(envelopes, key=lambda x:(x[0], x[1]))\n",
    "        n = len(envelopes)\n",
    "        dp = [1 for _ in range(n)]\n",
    "        maxEnvelopes = 1\n",
    "        \n",
    "        for i in range(n):\n",
    "            for j in range(i+1, n):               \n",
    "                if envelopes[j][0] > envelopes[i][0] and envelopes[j][1] > envelopes[i][1]:\n",
    "                    dp[j] = max(1 + dp[i], dp[j])\n",
    "                    maxEnvelopes = max(maxEnvelopes, dp[j])\n",
    "                \n",
    "        return maxEnvelopes"
   ]
  },
  {
   "cell_type": "markdown",
   "metadata": {},
   "source": [
    "# Sort + Longest Increasing Subsequence - O(N log N) runtime, O(N) space"
   ]
  },
  {
   "cell_type": "code",
   "execution_count": 3,
   "metadata": {},
   "outputs": [],
   "source": [
    "from typing import List\n",
    "from bisect import bisect_left\n",
    "\n",
    "class Solution:\n",
    "    def maxEnvelopes(self, envelopes: List[List[int]]) -> int:\n",
    "        envelopes.sort(key=lambda x: (x[0], -x[1]))\n",
    "\n",
    "        def lis(nums):\n",
    "            dp = []\n",
    "            \n",
    "            for i in range(len(nums)):\n",
    "                idx = bisect_left(dp, nums[i])\n",
    "                \n",
    "                if idx == len(dp):\n",
    "                    dp.append(nums[i])\n",
    "                else:\n",
    "                    dp[idx] = nums[i]\n",
    "                    \n",
    "            return len(dp)\n",
    "        \n",
    "        # extract the second dimension and run the LIS\n",
    "        return lis([i[1] for i in envelopes])"
   ]
  },
  {
   "cell_type": "code",
   "execution_count": 4,
   "metadata": {},
   "outputs": [
    {
     "data": {
      "text/plain": [
       "3"
      ]
     },
     "execution_count": 4,
     "metadata": {},
     "output_type": "execute_result"
    }
   ],
   "source": [
    "instance = Solution()\n",
    "instance.maxEnvelopes([[5,4],[6,4],[6,7],[2,3]])"
   ]
  }
 ],
 "metadata": {
  "kernelspec": {
   "display_name": "Python 3",
   "language": "python",
   "name": "python3"
  },
  "language_info": {
   "codemirror_mode": {
    "name": "ipython",
    "version": 3
   },
   "file_extension": ".py",
   "mimetype": "text/x-python",
   "name": "python",
   "nbconvert_exporter": "python",
   "pygments_lexer": "ipython3",
   "version": "3.7.3"
  }
 },
 "nbformat": 4,
 "nbformat_minor": 2
}
