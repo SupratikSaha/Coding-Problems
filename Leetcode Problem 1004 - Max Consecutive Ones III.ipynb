{
 "cells": [
  {
   "cell_type": "markdown",
   "metadata": {},
   "source": [
    "    Problem Statement.\n",
    "\n",
    "    Given an array A of 0s and 1s, we may change up to K values from 0 to 1.\n",
    "\n",
    "    Return the length of the longest (contiguous) subarray that contains only 1s. \n",
    "\n",
    "\n",
    "\n",
    "    Example 1:\n",
    "\n",
    "    Input: A = [1,1,1,0,0,0,1,1,1,1,0], K = 2\n",
    "    Output: 6\n",
    "    Explanation: \n",
    "    [1,1,1,0,0,1,1,1,1,1,1]\n",
    "    Bolded numbers were flipped from 0 to 1.  The longest subarray is underlined.\n",
    "\n",
    "    Example 2:\n",
    "\n",
    "    Input: A = [0,0,1,1,0,0,1,1,1,0,1,1,0,0,0,1,1,1,1], K = 3\n",
    "    Output: 10\n",
    "    Explanation: \n",
    "    [0,0,1,1,1,1,1,1,1,1,1,1,0,0,0,1,1,1,1]\n",
    "    Bolded numbers were flipped from 0 to 1.  The longest subarray is underlined.\n",
    "\n",
    "\n",
    "\n",
    "    Note:\n",
    "\n",
    "        1 <= A.length <= 20000\n",
    "        0 <= K <= A.length\n",
    "        A[i] is 0 or 1"
   ]
  },
  {
   "cell_type": "markdown",
   "metadata": {},
   "source": [
    "# Sliding Window - O(N) runtime, O(1) space"
   ]
  },
  {
   "cell_type": "code",
   "execution_count": 1,
   "metadata": {},
   "outputs": [],
   "source": [
    "from typing import List\n",
    "\n",
    "class Solution:\n",
    "    def longestOnes(self, A: List[int], K: int) -> int:\n",
    "        left = 0\n",
    "        for right in range(len(A)):\n",
    "            # If we included a zero in the window we reduce the value of K.\n",
    "            # Since K is the maximum zeros allowed in a window.\n",
    "            K -= 1 - A[right]\n",
    "            # A negative K denotes we have consumed all allowed flips and window has\n",
    "            # more than allowed zeros, thus increment left pointer by 1 to keep the window size same.\n",
    "            if K < 0:\n",
    "                # If the left element to be thrown out is zero we increase K.\n",
    "                K += 1 - A[left]\n",
    "                left += 1\n",
    "        return right - left + 1"
   ]
  },
  {
   "cell_type": "code",
   "execution_count": 2,
   "metadata": {},
   "outputs": [
    {
     "data": {
      "text/plain": [
       "10"
      ]
     },
     "execution_count": 2,
     "metadata": {},
     "output_type": "execute_result"
    }
   ],
   "source": [
    "instance = Solution()\n",
    "instance.longestOnes([0,0,1,1,0,0,1,1,1,0,1,1,0,0,0,1,1,1,1], 3)"
   ]
  }
 ],
 "metadata": {
  "kernelspec": {
   "display_name": "Python 3",
   "language": "python",
   "name": "python3"
  },
  "language_info": {
   "codemirror_mode": {
    "name": "ipython",
    "version": 3
   },
   "file_extension": ".py",
   "mimetype": "text/x-python",
   "name": "python",
   "nbconvert_exporter": "python",
   "pygments_lexer": "ipython3",
   "version": "3.7.3"
  }
 },
 "nbformat": 4,
 "nbformat_minor": 2
}
