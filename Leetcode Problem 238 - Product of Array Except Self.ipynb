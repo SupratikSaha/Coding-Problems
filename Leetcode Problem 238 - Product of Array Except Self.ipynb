{
 "cells": [
  {
   "cell_type": "markdown",
   "metadata": {},
   "source": [
    "# Using two additional left and right arrays - O(n) run time, O(n) space"
   ]
  },
  {
   "cell_type": "code",
   "execution_count": null,
   "metadata": {},
   "outputs": [],
   "source": [
    "class Solution:\n",
    "    def productExceptSelf(self, nums: List[int]) -> List[int]:\n",
    "        length = len(nums)\n",
    "        \n",
    "        L, R,ans = [0]*length, [0]*length, [0]*length\n",
    "        \n",
    "        L[0] = 1\n",
    "        for i in range(1, length):\n",
    "            L[i] = nums[i -1] * L[i - 1]\n",
    "            \n",
    "        R[length - 1] = 1\n",
    "        for i in reversed(range(length - 1)):\n",
    "            R[i] = nums[i + 1] * R[i + 1]\n",
    "            \n",
    "        for i in range(length):\n",
    "            ans[i] = L[i] * R[i]\n",
    "        \n",
    "        return ans"
   ]
  },
  {
   "cell_type": "markdown",
   "metadata": {},
   "source": [
    "# Using constant space - O(n) run time, O(1) space"
   ]
  },
  {
   "cell_type": "code",
   "execution_count": null,
   "metadata": {},
   "outputs": [],
   "source": [
    "class Solution:\n",
    "    def productExceptSelf(self, nums: List[int]) -> List[int]:\n",
    "        length = len(nums)\n",
    "        \n",
    "        ans = [0]*length\n",
    "        \n",
    "        ans[0] = 1\n",
    "        for i in range(1, length):\n",
    "            ans[i] = nums[i -1] * ans[i - 1]\n",
    "        \n",
    "        R = 1\n",
    "        for i in reversed(range(length)):\n",
    "            ans[i] = ans[i] * R\n",
    "            R *= nums[i]\n",
    "        \n",
    "        return ans"
   ]
  }
 ],
 "metadata": {
  "kernelspec": {
   "display_name": "Python 3",
   "language": "python",
   "name": "python3"
  },
  "language_info": {
   "codemirror_mode": {
    "name": "ipython",
    "version": 3
   },
   "file_extension": ".py",
   "mimetype": "text/x-python",
   "name": "python",
   "nbconvert_exporter": "python",
   "pygments_lexer": "ipython3",
   "version": "3.7.3"
  }
 },
 "nbformat": 4,
 "nbformat_minor": 2
}
