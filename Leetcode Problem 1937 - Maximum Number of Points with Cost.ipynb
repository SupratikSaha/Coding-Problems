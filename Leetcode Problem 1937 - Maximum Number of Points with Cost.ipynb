{
 "cells": [
  {
   "cell_type": "markdown",
   "metadata": {},
   "source": [
    "Problem Statement.\n",
    "\n",
    "You are given an m x n integer matrix points (0-indexed). Starting with 0 points, you want to maximize the number of points you can get from the matrix.\n",
    "\n",
    "To gain points, you must pick one cell in each row. Picking the cell at coordinates (r, c) will add points[r][c] to your score.\n",
    "\n",
    "However, you will lose points if you pick a cell too far from the cell that you picked in the previous row. For every two adjacent rows r and r + 1 (where 0 <= r < m - 1), picking cells at coordinates (r, c1) and (r + 1, c2) will subtract abs(c1 - c2) from your score.\n",
    "\n",
    "Return the maximum number of points you can achieve.\n",
    "\n",
    "abs(x) is defined as:\n",
    "\n",
    "    x for x >= 0.\n",
    "    -x for x < 0.\n",
    "\n",
    " \n",
    "\n",
    "Example 1:\n",
    "\n",
    "Input: points = [[1,2,3],[1,5,1],[3,1,1]]\n",
    "Output: 9\n",
    "Explanation:\n",
    "The blue cells denote the optimal cells to pick, which have coordinates (0, 2), (1, 1), and (2, 0).\n",
    "You add 3 + 5 + 3 = 11 to your score.\n",
    "However, you must subtract abs(2 - 1) + abs(1 - 0) = 2 from your score.\n",
    "Your final score is 11 - 2 = 9.\n",
    "\n",
    "Example 2:\n",
    "\n",
    "Input: points = [[1,5],[2,3],[4,2]]\n",
    "Output: 11\n",
    "Explanation:\n",
    "The blue cells denote the optimal cells to pick, which have coordinates (0, 1), (1, 1), and (2, 0).\n",
    "You add 5 + 3 + 4 = 12 to your score.\n",
    "However, you must subtract abs(1 - 1) + abs(1 - 0) = 1 from your score.\n",
    "Your final score is 12 - 1 = 11.\n",
    "\n",
    " \n",
    "\n",
    "Constraints:\n",
    "\n",
    "    m == points.length\n",
    "    n == points[r].length\n",
    "    1 <= m, n <= 10^5\n",
    "    1 <= m * n <= 10^5\n",
    "    0 <= points[r][c] <= 10^5"
   ]
  },
  {
   "cell_type": "markdown",
   "metadata": {},
   "source": [
    "# Top Down DP - Time Limit Exceeded - O(M * N * S) runtime, O(M * N * S) space where S is the maxSum possible"
   ]
  },
  {
   "cell_type": "code",
   "execution_count": 2,
   "metadata": {},
   "outputs": [],
   "source": [
    "from typing import List\n",
    "from functools import lru_cache\n",
    "\n",
    "class Solution:\n",
    "    def maxPoints(self, points: List[List[int]]) -> int:\n",
    "        m, n = len(points), len(points[0])\n",
    "        \n",
    "        @lru_cache(maxsize=None)\n",
    "        def getMaxPoints(r, prevCol, sumVal):\n",
    "            nonlocal maxVal\n",
    "            if r == m:\n",
    "                maxVal = max(maxVal, sumVal)\n",
    "                return\n",
    "            \n",
    "            for c in range(n):\n",
    "                nextSum = sumVal + points[r][c]\n",
    "                nextSum -= abs(c - prevCol) if r > 0 else 0\n",
    "                getMaxPoints(r+1, c, nextSum)\n",
    "        \n",
    "        maxVal = 0\n",
    "        getMaxPoints(0, None, 0)\n",
    "        \n",
    "        return maxVal"
   ]
  },
  {
   "cell_type": "markdown",
   "metadata": {},
   "source": [
    "# Bottom Up DP - O(M * N) runtime, O(1) space"
   ]
  },
  {
   "cell_type": "code",
   "execution_count": 4,
   "metadata": {},
   "outputs": [],
   "source": [
    "from typing import List\n",
    "\n",
    "class Solution:\n",
    "    def maxPoints(self, points: List[List[int]]) -> int:\n",
    "        m, n = len(points), len(points[0])\n",
    "        \n",
    "        for i in range(m - 1):\n",
    "            \n",
    "            for j in range(n - 2, -1, -1):\n",
    "                points[i][j] = max(points[i][j], points[i][j + 1] - 1)\n",
    "                \n",
    "            for j in range(n):\n",
    "                points[i][j] = max(points[i][j], points[i][j - 1] - 1 if j else 0)\n",
    "                points[i + 1][j] += points[i][j]\n",
    "                \n",
    "        return max(points[-1])"
   ]
  },
  {
   "cell_type": "code",
   "execution_count": 5,
   "metadata": {},
   "outputs": [
    {
     "data": {
      "text/plain": [
       "9"
      ]
     },
     "execution_count": 5,
     "metadata": {},
     "output_type": "execute_result"
    }
   ],
   "source": [
    "instance = Solution()\n",
    "instance.maxPoints([[1,2,3],[1,5,1],[3,1,1]])"
   ]
  }
 ],
 "metadata": {
  "kernelspec": {
   "display_name": "Python 3",
   "language": "python",
   "name": "python3"
  },
  "language_info": {
   "codemirror_mode": {
    "name": "ipython",
    "version": 3
   },
   "file_extension": ".py",
   "mimetype": "text/x-python",
   "name": "python",
   "nbconvert_exporter": "python",
   "pygments_lexer": "ipython3",
   "version": "3.7.3"
  }
 },
 "nbformat": 4,
 "nbformat_minor": 2
}
