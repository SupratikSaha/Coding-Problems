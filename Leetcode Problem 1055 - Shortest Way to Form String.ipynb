{
 "cells": [
  {
   "cell_type": "markdown",
   "metadata": {},
   "source": [
    "Problem Statement.\n",
    "\n",
    "From any string, we can form a subsequence of that string by deleting some number of characters (possibly no deletions).\n",
    "\n",
    "Given two strings source and target, return the minimum number of subsequences of source such that their concatenation equals target. If the task is impossible, return -1.\n",
    "\n",
    " \n",
    "\n",
    "Example 1:\n",
    "\n",
    "Input: source = \"abc\", target = \"abcbc\"\n",
    "Output: 2\n",
    "Explanation: The target \"abcbc\" can be formed by \"abc\" and \"bc\", which are subsequences of source \"abc\".\n",
    "\n",
    "Example 2:\n",
    "\n",
    "Input: source = \"abc\", target = \"acdbc\"\n",
    "Output: -1\n",
    "Explanation: The target string cannot be constructed from the subsequences of source string due to the character \"d\" in target string.\n",
    "\n",
    "Example 3:\n",
    "\n",
    "Input: source = \"xyz\", target = \"xzyxz\"\n",
    "Output: 3\n",
    "Explanation: The target string can be constructed as follows \"xz\" + \"y\" + \"xz\".\n",
    "\n",
    " \n",
    "\n",
    "Constraints:\n",
    "\n",
    "    Both the source and target strings consist of only lowercase English letters from \"a\"-\"z\".\n",
    "    The lengths of source and target string are between 1 and 1000."
   ]
  },
  {
   "cell_type": "markdown",
   "metadata": {},
   "source": [
    "# HashTable - O(S * T) runtime, O(S) space"
   ]
  },
  {
   "cell_type": "code",
   "execution_count": 4,
   "metadata": {},
   "outputs": [],
   "source": [
    "from collections import defaultdict\n",
    "\n",
    "class Solution:\n",
    "    def shortestWay(self, source: str, target: str) -> int:\n",
    "        dic = defaultdict(list)\n",
    "        for i, ch in enumerate(source):\n",
    "            dic[ch].append(i)\n",
    "                \n",
    "        pos = -1\n",
    "        count = 1\n",
    "        for ch in target:\n",
    "            if ch not in dic:\n",
    "                return -1\n",
    "            \n",
    "            found = False\n",
    "            for i in dic[ch]:  \n",
    "                #an additional dictionary can be used to save position, if source is large\n",
    "                if i > pos:\n",
    "                    pos = i\n",
    "                    found = True\n",
    "                    break\n",
    "            if not found:\n",
    "                #restart\n",
    "                pos = dic[ch][0]\n",
    "                count += 1\n",
    "\n",
    "        return count"
   ]
  },
  {
   "cell_type": "code",
   "execution_count": 5,
   "metadata": {},
   "outputs": [
    {
     "data": {
      "text/plain": [
       "3"
      ]
     },
     "execution_count": 5,
     "metadata": {},
     "output_type": "execute_result"
    }
   ],
   "source": [
    "instance = Solution()\n",
    "instance.shortestWay(\"xyz\", \"xzyxz\")"
   ]
  }
 ],
 "metadata": {
  "kernelspec": {
   "display_name": "Python 3",
   "language": "python",
   "name": "python3"
  },
  "language_info": {
   "codemirror_mode": {
    "name": "ipython",
    "version": 3
   },
   "file_extension": ".py",
   "mimetype": "text/x-python",
   "name": "python",
   "nbconvert_exporter": "python",
   "pygments_lexer": "ipython3",
   "version": "3.7.3"
  }
 },
 "nbformat": 4,
 "nbformat_minor": 2
}
