{
 "cells": [
  {
   "cell_type": "markdown",
   "metadata": {},
   "source": [
    "Problem Statement.\n",
    "\n",
    "Given a m * n grid, where each cell is either 0 (empty) or 1 (obstacle). In one step, you can move up, down, left or right from and to an empty cell.\n",
    "\n",
    "Return the minimum number of steps to walk from the upper left corner (0, 0) to the lower right corner (m-1, n-1) given that you can eliminate at most k obstacles. If it is not possible to find such walk return -1.\n",
    "\n",
    " \n",
    "\n",
    "Example 1:\n",
    "\n",
    "Input: \n",
    "grid = \n",
    "[[0,0,0],\n",
    " [1,1,0],\n",
    " [0,0,0],\n",
    " [0,1,1],\n",
    " [0,0,0]], \n",
    "k = 1\n",
    "Output: 6\n",
    "Explanation: \n",
    "The shortest path without eliminating any obstacle is 10. \n",
    "The shortest path with one obstacle elimination at position (3,2) is 6. Such path is (0,0) -> (0,1) -> (0,2) -> (1,2) -> (2,2) -> (3,2) -> (4,2).\n",
    "\n",
    " \n",
    "\n",
    "Example 2:\n",
    "\n",
    "Input: \n",
    "grid = \n",
    "[[0,1,1],\n",
    " [1,1,1],\n",
    " [1,0,0]], \n",
    "k = 1\n",
    "Output: -1\n",
    "Explanation: \n",
    "We need to eliminate at least two obstacles to find such a walk.\n",
    "\n",
    " \n",
    "\n",
    "Constraints:\n",
    "\n",
    "    grid.length == m\n",
    "    grid[0].length == n\n",
    "    1 <= m, n <= 40\n",
    "    1 <= k <= m*n\n",
    "    grid[i][j] == 0 or 1\n",
    "    grid[0][0] == grid[m-1][n-1] == 0"
   ]
  },
  {
   "cell_type": "markdown",
   "metadata": {},
   "source": [
    "# BFS - O(M * N * K) runtime, O((M * N) ^ 2 * K) space"
   ]
  },
  {
   "cell_type": "code",
   "execution_count": 1,
   "metadata": {},
   "outputs": [],
   "source": [
    "from typing import List\n",
    "from collections import deque\n",
    "\n",
    "class Solution:\n",
    "    def shortestPath(self, grid: List[List[int]], k: int) -> int:\n",
    "        m, n = len(grid), len(grid[0])\n",
    "        queue = deque([((0, 0), 0, 0, {(0, 0)})])\n",
    "        \n",
    "        while queue:\n",
    "            cell, steps, obstacles, currSet = queue.popleft()\n",
    "            if cell == (m-1, n-1): return steps\n",
    "            r, c = cell\n",
    "            for r_d, c_d in  [[r+1, c], [r-1, c], [r, c+1], [r, c-1]]:\n",
    "                if 0 <= r_d < m and 0 <= c_d < n and (r_d, c_d) not in currSet:\n",
    "                    if grid[r_d][c_d] == 1 and obstacles < k:\n",
    "                        queue.append(((r_d, c_d), steps+1, obstacles+1, currSet.union({(r_d, c_d)})))\n",
    "                    elif grid[r_d][c_d] == 0:\n",
    "                        queue.append(((r_d, c_d), steps+1, obstacles, currSet.union({(r_d, c_d)})))\n",
    "                        \n",
    "        return -1"
   ]
  },
  {
   "cell_type": "markdown",
   "metadata": {},
   "source": [
    "# BFS with outside Set - O(M * N * K) runtime, O(M * N * K) space"
   ]
  },
  {
   "cell_type": "code",
   "execution_count": 3,
   "metadata": {},
   "outputs": [],
   "source": [
    "from typing import List\n",
    "from collections import deque\n",
    "\n",
    "class Solution:\n",
    "    def shortestPath(self, grid: List[List[int]], k: int) -> int:\n",
    "        if len(grid) == 1 and len(grid[0]) == 1:\n",
    "            return 0\n",
    "        \n",
    "        q = deque([(0, 0, 0, 0)])\n",
    "        m, n = len(grid), len(grid[0])\n",
    "        visited = set()\n",
    "         \n",
    "        while q:\n",
    "            x, y, obstacle, path = q.popleft()\n",
    "            for i, j in ((x+1, y), (x-1, y), (x, y+1), (x, y-1)):\n",
    "                if 0 <= i < m and 0 <= j < n:\n",
    "                    if grid[i][j] == 1 and obstacle < k and (i, j, obstacle + 1) not in visited:\n",
    "                        visited.add((i, j, obstacle + 1))\n",
    "                        q.append((i, j, obstacle + 1, path + 1))\n",
    "                    if grid[i][j] == 0 and (i, j, obstacle) not in visited:    \n",
    "                        if (i, j) == (m - 1, n - 1):\n",
    "                            return path + 1\n",
    "                        visited.add((i, j, obstacle))\n",
    "                        q.append((i, j, obstacle, path + 1))\n",
    "                        \n",
    "        return -1"
   ]
  },
  {
   "cell_type": "code",
   "execution_count": 4,
   "metadata": {},
   "outputs": [
    {
     "data": {
      "text/plain": [
       "6"
      ]
     },
     "execution_count": 4,
     "metadata": {},
     "output_type": "execute_result"
    }
   ],
   "source": [
    "instance = Solution()\n",
    "instance.shortestPath( [[0,0,0], [1,1,0], [0,0,0], [0,1,1], [0,0,0]], 1)"
   ]
  }
 ],
 "metadata": {
  "kernelspec": {
   "display_name": "Python 3",
   "language": "python",
   "name": "python3"
  },
  "language_info": {
   "codemirror_mode": {
    "name": "ipython",
    "version": 3
   },
   "file_extension": ".py",
   "mimetype": "text/x-python",
   "name": "python",
   "nbconvert_exporter": "python",
   "pygments_lexer": "ipython3",
   "version": "3.7.3"
  }
 },
 "nbformat": 4,
 "nbformat_minor": 2
}
