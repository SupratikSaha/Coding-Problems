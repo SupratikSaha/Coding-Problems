{
 "cells": [
  {
   "cell_type": "markdown",
   "metadata": {},
   "source": [
    "Problem Statement.\n",
    "\n",
    "You are given k identical eggs and you have access to a building with n floors labeled from 1 to n.\n",
    "\n",
    "You know that there exists a floor f where 0 <= f <= n such that any egg dropped at a floor higher than f will break, and any egg dropped at or below floor f will not break.\n",
    "\n",
    "Each move, you may take an unbroken egg and drop it from any floor x (where 1 <= x <= n). If the egg breaks, you can no longer use it. However, if the egg does not break, you may reuse it in future moves.\n",
    "\n",
    "Return the minimum number of moves that you need to determine with certainty what the value of f is.\n",
    "\n",
    " \n",
    "\n",
    "Example 1:\n",
    "\n",
    "Input: k = 1, n = 2\n",
    "Output: 2\n",
    "Explanation: \n",
    "Drop the egg from floor 1. If it breaks, we know that f = 0.\n",
    "Otherwise, drop the egg from floor 2. If it breaks, we know that f = 1.\n",
    "If it does not break, then we know f = 2.\n",
    "Hence, we need at minimum 2 moves to determine with certainty what the value of f is.\n",
    "\n",
    "Example 2:\n",
    "\n",
    "Input: k = 2, n = 6\n",
    "Output: 3\n",
    "\n",
    "Example 3:\n",
    "\n",
    "Input: k = 3, n = 14\n",
    "Output: 4\n",
    "\n",
    " \n",
    "\n",
    "Constraints:\n",
    "\n",
    "    1 <= k <= 100\n",
    "    1 <= n <= 10^4"
   ]
  },
  {
   "cell_type": "markdown",
   "metadata": {},
   "source": [
    "# Binary Search and Math - O(K * Log N) runtime, O(1) space"
   ]
  },
  {
   "cell_type": "code",
   "execution_count": 1,
   "metadata": {},
   "outputs": [],
   "source": [
    "class Solution:\n",
    "    def superEggDrop(self, k: int, n: int) -> int:\n",
    "        def count_floors(moves):\n",
    "            floors = 0\n",
    "            inc_floors = 1\n",
    "            \n",
    "            # In each loop calculate (moves C eggs)\n",
    "            for eggs in range(1, k+1):\n",
    "                inc_floors *= moves - eggs + 1\n",
    "                inc_floors //= eggs\n",
    "                floors += inc_floors\n",
    "                if floors >= n: break\n",
    "                    \n",
    "            return floors\n",
    "        \n",
    "        lo, hi = 1, n\n",
    "        res = n\n",
    "        while lo <= hi:\n",
    "            moves = (lo + hi) // 2\n",
    "            if count_floors(moves) < n:\n",
    "                lo = moves + 1\n",
    "            else:\n",
    "                res = moves\n",
    "                hi = moves - 1\n",
    "                \n",
    "        return res"
   ]
  },
  {
   "cell_type": "code",
   "execution_count": 2,
   "metadata": {},
   "outputs": [
    {
     "data": {
      "text/plain": [
       "4"
      ]
     },
     "execution_count": 2,
     "metadata": {},
     "output_type": "execute_result"
    }
   ],
   "source": [
    "instance = Solution()\n",
    "instance.superEggDrop(3, 14)"
   ]
  }
 ],
 "metadata": {
  "kernelspec": {
   "display_name": "Python 3",
   "language": "python",
   "name": "python3"
  },
  "language_info": {
   "codemirror_mode": {
    "name": "ipython",
    "version": 3
   },
   "file_extension": ".py",
   "mimetype": "text/x-python",
   "name": "python",
   "nbconvert_exporter": "python",
   "pygments_lexer": "ipython3",
   "version": "3.7.3"
  }
 },
 "nbformat": 4,
 "nbformat_minor": 2
}
