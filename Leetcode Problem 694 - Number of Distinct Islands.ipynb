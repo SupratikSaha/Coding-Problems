{
 "cells": [
  {
   "cell_type": "markdown",
   "metadata": {},
   "source": [
    "    Problem Statement.\n",
    "\n",
    "    Given a non-empty 2D array grid of 0's and 1's, an island is a group of 1's (representing land) connected 4-directionally (horizontal or vertical.) You may assume all four edges of the grid are surrounded by water.\n",
    "\n",
    "    Count the number of distinct islands. An island is considered to be the same as another if and only if one island can be translated (and not rotated or reflected) to equal the other.\n",
    "\n",
    "    Example 1:\n",
    "\n",
    "    11000\n",
    "    11000\n",
    "    00011\n",
    "    00011\n",
    "\n",
    "    Given the above grid map, return 1.\n",
    "\n",
    "    Example 2:\n",
    "\n",
    "    11011\n",
    "    10000\n",
    "    00001\n",
    "    11011\n",
    "\n",
    "    Given the above grid map, return 3.\n",
    "\n",
    "    Notice that:\n",
    "\n",
    "    11\n",
    "    1\n",
    "\n",
    "    and\n",
    "\n",
    "     1\n",
    "    11\n",
    "\n",
    "    are considered different island shapes, because we do not consider reflection / rotation.\n",
    "\n",
    "    Note: The length of each dimension in the given grid does not exceed 50."
   ]
  },
  {
   "cell_type": "markdown",
   "metadata": {},
   "source": [
    "# Hash By Path Signature - O(M * N) runtime, O(M * N) space"
   ]
  },
  {
   "cell_type": "code",
   "execution_count": 1,
   "metadata": {},
   "outputs": [],
   "source": [
    "from typing import List\n",
    "\n",
    "class Solution:\n",
    "    def numDistinctIslands(self, grid: List[List[int]]) -> int:\n",
    "        def dfs(row, col, direction):\n",
    "            if row < 0 or col < 0 or row >= len(grid) or col >= len(grid[0]):\n",
    "                return\n",
    "            if (row, col) in seen or not grid[row][col]:\n",
    "                return\n",
    "            seen.add((row, col))\n",
    "            path_signature.append(direction)\n",
    "            dfs(row + 1, col, \"D\")\n",
    "            dfs(row - 1, col, \"U\")\n",
    "            dfs(row, col + 1, \"R\")\n",
    "            dfs(row, col - 1, \"L\")\n",
    "            path_signature.append(\"0\")\n",
    "        \n",
    "        # Repeatedly start DFS's as long as there are islands remaining.\n",
    "        seen = set()\n",
    "        unique_islands = set()\n",
    "        for row in range(len(grid)):\n",
    "            for col in range(len(grid[0])):\n",
    "                path_signature = []\n",
    "                dfs(row, col, \"0\")\n",
    "                if path_signature:\n",
    "                    unique_islands.add(tuple(path_signature))\n",
    "        \n",
    "        return len(unique_islands)"
   ]
  },
  {
   "cell_type": "markdown",
   "metadata": {},
   "source": [
    "# Hash by local co-ordinates - O(M * N) runtime, O(M * N) space"
   ]
  },
  {
   "cell_type": "code",
   "execution_count": 2,
   "metadata": {},
   "outputs": [],
   "source": [
    "from typing import List\n",
    "\n",
    "class Solution:\n",
    "    def numDistinctIslands(self, grid: List[List[int]]) -> int:\n",
    "        if not grid: return 0\n",
    "        shapeSet = set()\n",
    "        visited = set()\n",
    "        m, n = len(grid), len(grid[0])\n",
    "        \n",
    "        def dfs(i, j):\n",
    "            currentIsland.add((i-originX, j-originY))\n",
    "            for x, y in [[i, j+1], [i, j-1], [i-1, j], [i+1, j]]:\n",
    "                if x>=0 and x<m and y>=0 and y<n and (x,y) not in visited and grid[x][y] == 1:\n",
    "                    visited.add((x,y))\n",
    "                    dfs(x, y)\n",
    "        \n",
    "        for i in range(m):\n",
    "            for j in range(n):\n",
    "                if (i, j) not in visited and grid[i][j] == 1:\n",
    "                    originX, originY = i, j\n",
    "                    currentIsland = set()\n",
    "                    visited.add((i,j))\n",
    "                    dfs(i, j)\n",
    "                    shapeSet.add(frozenset(currentIsland))\n",
    "        \n",
    "        return len(shapeSet)"
   ]
  },
  {
   "cell_type": "code",
   "execution_count": 3,
   "metadata": {},
   "outputs": [
    {
     "data": {
      "text/plain": [
       "1"
      ]
     },
     "execution_count": 3,
     "metadata": {},
     "output_type": "execute_result"
    }
   ],
   "source": [
    "instance = Solution()\n",
    "instance.numDistinctIslands([[1,1,0,0,0],[1,1,0,0,0],[0,0,0,1,1],[0,0,0,1,1]])"
   ]
  }
 ],
 "metadata": {
  "kernelspec": {
   "display_name": "Python 3",
   "language": "python",
   "name": "python3"
  },
  "language_info": {
   "codemirror_mode": {
    "name": "ipython",
    "version": 3
   },
   "file_extension": ".py",
   "mimetype": "text/x-python",
   "name": "python",
   "nbconvert_exporter": "python",
   "pygments_lexer": "ipython3",
   "version": "3.7.3"
  }
 },
 "nbformat": 4,
 "nbformat_minor": 2
}
