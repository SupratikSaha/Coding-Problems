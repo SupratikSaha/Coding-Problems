{
 "cells": [
  {
   "cell_type": "markdown",
   "metadata": {},
   "source": [
    "    Problem Statement.\n",
    "\n",
    "    Given an array of strings wordsDict and two different strings that already exist in the array word1 and word2, return the shortest distance between these two words in the list.\n",
    "\n",
    "\n",
    "\n",
    "    Example 1:\n",
    "\n",
    "    Input: wordsDict = [\"practice\", \"makes\", \"perfect\", \"coding\", \"makes\"], word1 = \"coding\", word2 = \"practice\"\n",
    "    Output: 3\n",
    "\n",
    "    Example 2:\n",
    "\n",
    "    Input: wordsDict = [\"practice\", \"makes\", \"perfect\", \"coding\", \"makes\"], word1 = \"makes\", word2 = \"coding\"\n",
    "    Output: 1\n",
    "\n",
    "\n",
    "\n",
    "    Constraints:\n",
    "\n",
    "        1 <= wordsDict.length <= 3 * 104\n",
    "        1 <= wordsDict[i].length <= 10\n",
    "        wordsDict[i] consists of lowercase English letters.\n",
    "        word1 and word2 are in wordsDict.\n",
    "        word1 != word2"
   ]
  },
  {
   "cell_type": "markdown",
   "metadata": {},
   "source": [
    "# Linear - O(N * M) runtime, O(1) space where N is the length of wordsDict and M is length of the larger of word1 and word2"
   ]
  },
  {
   "cell_type": "code",
   "execution_count": 1,
   "metadata": {},
   "outputs": [],
   "source": [
    "from typing import List\n",
    "\n",
    "class Solution:\n",
    "    def shortestDistance(self, wordsDict: List[str], word1: str, word2: str) -> int:\n",
    "        word1Index, word2Index = None, None\n",
    "        res = float('inf')\n",
    "        \n",
    "        for i, word in enumerate(wordsDict):\n",
    "            if word == word1:\n",
    "                word1Index = i\n",
    "                if word2Index is not None: res = min(res, abs(word1Index - word2Index))\n",
    "            if word == word2:\n",
    "                word2Index = i\n",
    "                if word1Index is not None: res = min(res, abs(word1Index - word2Index))\n",
    "                \n",
    "        return res"
   ]
  },
  {
   "cell_type": "markdown",
   "metadata": {},
   "source": [
    "# Faster Linear - O(N * M) runtime, O(1) space where N is the length of wordsDict and M is length of the larger of word1 and word2"
   ]
  },
  {
   "cell_type": "code",
   "execution_count": 2,
   "metadata": {},
   "outputs": [],
   "source": [
    "from typing import List\n",
    "\n",
    "class Solution:\n",
    "    def shortestDistance(self, wordsDict: List[str], word1: str, word2: str) -> int:\n",
    "        curr = len(wordsDict)\n",
    "        word1_idx, word2_idx = wordsDict.index(word1), wordsDict.index(word2)\n",
    "        for i, word in enumerate(wordsDict):\n",
    "            if word == word1:\n",
    "                word1_idx=i\n",
    "            if word == word2:\n",
    "                word2_idx=i\n",
    "            curr = min(abs(word2_idx-word1_idx), curr)\n",
    "        \n",
    "        return curr"
   ]
  },
  {
   "cell_type": "code",
   "execution_count": 3,
   "metadata": {},
   "outputs": [
    {
     "data": {
      "text/plain": [
       "1"
      ]
     },
     "execution_count": 3,
     "metadata": {},
     "output_type": "execute_result"
    }
   ],
   "source": [
    "instance = Solution()\n",
    "instance.shortestDistance([\"practice\", \"makes\", \"perfect\", \"coding\", \"makes\"], \"makes\", \"coding\")"
   ]
  }
 ],
 "metadata": {
  "kernelspec": {
   "display_name": "Python 3",
   "language": "python",
   "name": "python3"
  },
  "language_info": {
   "codemirror_mode": {
    "name": "ipython",
    "version": 3
   },
   "file_extension": ".py",
   "mimetype": "text/x-python",
   "name": "python",
   "nbconvert_exporter": "python",
   "pygments_lexer": "ipython3",
   "version": "3.7.3"
  }
 },
 "nbformat": 4,
 "nbformat_minor": 2
}
