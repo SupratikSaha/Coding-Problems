{
 "cells": [
  {
   "cell_type": "markdown",
   "metadata": {},
   "source": [
    "Problem Statement.\n",
    "\n",
    "You are given an array of integers nums (0-indexed) and an integer k.\n",
    "\n",
    "The score of a subarray (i, j) is defined as min(nums[i], nums[i+1], ..., nums[j]) * (j - i + 1). A good subarray is a subarray where i <= k <= j.\n",
    "\n",
    "Return the maximum possible score of a good subarray.\n",
    "\n",
    " \n",
    "\n",
    "Example 1:\n",
    "\n",
    "Input: nums = [1,4,3,7,4,5], k = 3\n",
    "Output: 15\n",
    "Explanation: The optimal subarray is (1, 5) with a score of min(4,3,7,4,5) * (5-1+1) = 3 * 5 = 15. \n",
    "\n",
    "Example 2:\n",
    "\n",
    "Input: nums = [5,5,4,5,4,1,1,1], k = 0\n",
    "Output: 20\n",
    "Explanation: The optimal subarray is (0, 4) with a score of min(5,5,4,5,4) * (4-0+1) = 4 * 5 = 20.\n",
    "\n",
    " \n",
    "\n",
    "Constraints:\n",
    "\n",
    "    1 <= nums.length <= 10^5\n",
    "    1 <= nums[i] <= 2 * 10^4\n",
    "    0 <= k < nums.length"
   ]
  },
  {
   "cell_type": "markdown",
   "metadata": {},
   "source": [
    "# Two Pointers - O(N) runtime, O(1) space"
   ]
  },
  {
   "cell_type": "code",
   "execution_count": 2,
   "metadata": {},
   "outputs": [],
   "source": [
    "from typing import List\n",
    "\n",
    "class Solution:\n",
    "    def maximumScore(self, nums: List[int], k: int) -> int:\n",
    "        res = mini = nums[k]\n",
    "        i, j, n = k, k, len(nums)\n",
    "        while i > 0 or j < n - 1:\n",
    "            if (nums[i - 1] if i else 0) < (nums[j + 1] if j < n - 1 else 0):\n",
    "                j += 1\n",
    "            else:\n",
    "                i -= 1\n",
    "            mini = min(mini, nums[i], nums[j])\n",
    "            res = max(res, mini * (j - i + 1))\n",
    "\n",
    "        return res"
   ]
  },
  {
   "cell_type": "code",
   "execution_count": 3,
   "metadata": {},
   "outputs": [
    {
     "data": {
      "text/plain": [
       "20"
      ]
     },
     "execution_count": 3,
     "metadata": {},
     "output_type": "execute_result"
    }
   ],
   "source": [
    "instance = Solution()\n",
    "instance.maximumScore([5,5,4,5,4,1,1,1], 0)"
   ]
  }
 ],
 "metadata": {
  "kernelspec": {
   "display_name": "Python 3",
   "language": "python",
   "name": "python3"
  },
  "language_info": {
   "codemirror_mode": {
    "name": "ipython",
    "version": 3
   },
   "file_extension": ".py",
   "mimetype": "text/x-python",
   "name": "python",
   "nbconvert_exporter": "python",
   "pygments_lexer": "ipython3",
   "version": "3.7.3"
  }
 },
 "nbformat": 4,
 "nbformat_minor": 2
}
