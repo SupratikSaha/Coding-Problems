{
 "cells": [
  {
   "cell_type": "markdown",
   "metadata": {},
   "source": [
    "Problem Statement.\n",
    "\n",
    "Your car starts at position 0 and speed +1 on an infinite number line. Your car can go into negative positions. Your car drives automatically according to a sequence of instructions 'A' (accelerate) and 'R' (reverse):\n",
    "\n",
    "    When you get an instruction 'A', your car does the following:\n",
    "        position += speed\n",
    "        speed *= 2\n",
    "    When you get an instruction 'R', your car does the following:\n",
    "        If your speed is positive then speed = -1\n",
    "        otherwise speed = 1\n",
    "    Your position stays the same.\n",
    "\n",
    "For example, after commands \"AAR\", your car goes to positions 0 --> 1 --> 3 --> 3, and your speed goes to 1 --> 2 --> 4 --> -1.\n",
    "\n",
    "Given a target position target, return the length of the shortest sequence of instructions to get there.\n",
    "\n",
    " \n",
    "\n",
    "Example 1:\n",
    "\n",
    "Input: target = 3\n",
    "Output: 2\n",
    "Explanation: \n",
    "The shortest instruction sequence is \"AA\".\n",
    "Your position goes from 0 --> 1 --> 3.\n",
    "\n",
    "Example 2:\n",
    "\n",
    "Input: target = 6\n",
    "Output: 5\n",
    "Explanation: \n",
    "The shortest instruction sequence is \"AAARA\".\n",
    "Your position goes from 0 --> 1 --> 3 --> 7 --> 7 --> 6.\n",
    "\n",
    " \n",
    "\n",
    "Constraints:\n",
    "\n",
    "    1 <= target <= 10^4"
   ]
  },
  {
   "cell_type": "markdown",
   "metadata": {},
   "source": [
    "# BFS -O(2 ^ N) runtime, O(2 ^ N) space"
   ]
  },
  {
   "cell_type": "code",
   "execution_count": 3,
   "metadata": {},
   "outputs": [],
   "source": [
    "from collections import deque\n",
    "\n",
    "class Solution:\n",
    "    def racecar(self, target: int) -> int:\n",
    "        q = deque([(0, 1)])\n",
    "        seen = {(0, 1)}\n",
    "        depth = 0\n",
    "        \n",
    "        while True:\n",
    "            k = len(q)\n",
    "            for _ in range(k):\n",
    "                pos, vel = q.popleft()\n",
    "                if pos == target: return depth\n",
    "                \n",
    "                cand = []\n",
    "                if abs(target - (pos + vel)) < target: cand.append((pos + vel, 2 * vel))\n",
    "                cand.append((pos, 1 if vel < 0 else -1))\n",
    "                                                         \n",
    "                for pos, vel in cand:\n",
    "                    if (pos, vel) not in seen:\n",
    "                        q.append((pos, vel))\n",
    "                        seen.add((pos, vel))\n",
    "\n",
    "            depth += 1\n",
    "            \n",
    "        return -1"
   ]
  },
  {
   "cell_type": "markdown",
   "metadata": {},
   "source": [
    "# DP - O(T * Log T) runtime, O(T) space"
   ]
  },
  {
   "cell_type": "code",
   "execution_count": 1,
   "metadata": {},
   "outputs": [],
   "source": [
    "from functools import lru_cache\n",
    "\n",
    "class Solution:\n",
    "    def racecar(self, target: int) -> int:\n",
    "        \n",
    "        @lru_cache(None)\n",
    "        def getRaceCar(t):\n",
    "            n = t.bit_length()\n",
    "            if 2**n - 1 == t: return n\n",
    "\n",
    "            res = getRaceCar(2**n - 1 - t) + n + 1\n",
    "            for m in range(n - 1):\n",
    "                res = min(res, getRaceCar(t - 2**(n - 1) + 2**m) + n + m + 1)\n",
    "            return res\n",
    "\n",
    "        return getRaceCar(target)"
   ]
  },
  {
   "cell_type": "markdown",
   "metadata": {},
   "source": [
    "# BFS - O(2 ^ N) runtime, O(2 ^ N) space"
   ]
  },
  {
   "cell_type": "code",
   "execution_count": 5,
   "metadata": {},
   "outputs": [],
   "source": [
    "from collections import deque\n",
    "\n",
    "class Solution:\n",
    "    def racecar(self, target: int) -> int:\n",
    "        queue = deque([(0, 0, 1)])\n",
    "        \n",
    "        while queue:\n",
    "            moves, pos, vel = queue.popleft()\n",
    "\n",
    "            if pos == target: return moves\n",
    "\n",
    "            if abs(target - (pos + vel)) < target: \n",
    "                queue.append((moves + 1, pos + vel, 2 * vel))\n",
    "            \n",
    "            #3. Only consider changing the direction of the car if one of the following conditions is true\n",
    "            #   i.  The car is driving away from the target.\n",
    "            #   ii. The car will pass the target in the next move.  \n",
    "            if (pos + vel > target and vel > 0) or (pos + vel < target and vel < 0):\n",
    "                queue.append((moves + 1, pos, -vel / abs(vel)))"
   ]
  },
  {
   "cell_type": "code",
   "execution_count": 6,
   "metadata": {},
   "outputs": [
    {
     "data": {
      "text/plain": [
       "5"
      ]
     },
     "execution_count": 6,
     "metadata": {},
     "output_type": "execute_result"
    }
   ],
   "source": [
    "instance = Solution()\n",
    "instance.racecar(6)"
   ]
  }
 ],
 "metadata": {
  "kernelspec": {
   "display_name": "Python 3",
   "language": "python",
   "name": "python3"
  },
  "language_info": {
   "codemirror_mode": {
    "name": "ipython",
    "version": 3
   },
   "file_extension": ".py",
   "mimetype": "text/x-python",
   "name": "python",
   "nbconvert_exporter": "python",
   "pygments_lexer": "ipython3",
   "version": "3.7.3"
  }
 },
 "nbformat": 4,
 "nbformat_minor": 2
}
