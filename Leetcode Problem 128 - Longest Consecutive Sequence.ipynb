{
 "cells": [
  {
   "cell_type": "markdown",
   "metadata": {},
   "source": [
    "Problem Statement. <br/>\n",
    "\n",
    "Given an unsorted array of integers nums, return the length of the longest consecutive elements sequence. <br/>\n",
    "\n",
    "Follow up: Could you implement the O(n) solution?  <br/>\n",
    "\n",
    "Example 1: <br/>\n",
    "Input: nums = [100,4,200,1,3,2] <br/>\n",
    "Output: 4 <br/>\n",
    "Explanation: The longest consecutive elements sequence is [1, 2, 3, 4]. Therefore its length is 4. <br/>\n",
    "\n",
    "Example 2: <br/>\n",
    "Input: nums = [0,3,7,2,5,8,4,6,0,1] <br/>\n",
    "Output: 9"
   ]
  },
  {
   "cell_type": "markdown",
   "metadata": {},
   "source": [
    "# Sorting - O(N Log N) runtime, O(N) space"
   ]
  },
  {
   "cell_type": "code",
   "execution_count": 1,
   "metadata": {},
   "outputs": [],
   "source": [
    "from typing import List\n",
    "\n",
    "class Solution:\n",
    "    def longestConsecutive(self, nums: List[int]) -> int:\n",
    "        n = len(nums)\n",
    "        if not nums or n == 0:\n",
    "            return 0\n",
    "        \n",
    "        nums = sorted(nums)\n",
    "        \n",
    "        maxLength, currLength = 0, 0\n",
    "        i = 0\n",
    "        while i < n:\n",
    "            j = i\n",
    "            \n",
    "            if i == 0:\n",
    "                maxLength = 1\n",
    "                currLength = 1\n",
    "                i += 1\n",
    "                continue\n",
    "                \n",
    "            while i < n and (nums[i] == nums[i - 1] or nums[i] == nums[i - 1] + 1):\n",
    "                if nums[i] == nums[i - 1] + 1:\n",
    "                    currLength += 1\n",
    "                i += 1\n",
    "                \n",
    "            maxLength = max(maxLength, currLength)\n",
    "            currLength = 1\n",
    "            if j == i:\n",
    "                i += 1\n",
    "            \n",
    "        return maxLength"
   ]
  },
  {
   "cell_type": "code",
   "execution_count": null,
   "metadata": {},
   "outputs": [],
   "source": [
    "# HashSet - o(N) "
   ]
  },
  {
   "cell_type": "code",
   "execution_count": 2,
   "metadata": {},
   "outputs": [],
   "source": [
    "class Solution:\n",
    "    def longestConsecutive(self, nums) -> int:\n",
    "        num_set = set(nums)\n",
    "        max_len = 0\n",
    "        \n",
    "        for num in num_set:\n",
    "            if num - 1 not in num_set:\n",
    "                offset = 1\n",
    "                while num + offset in num_set:\n",
    "                    offset += 1\n",
    "                max_len = max(max_len, offset)\n",
    "        \n",
    "        return max_len"
   ]
  },
  {
   "cell_type": "code",
   "execution_count": 2,
   "metadata": {},
   "outputs": [
    {
     "data": {
      "text/plain": [
       "4"
      ]
     },
     "execution_count": 2,
     "metadata": {},
     "output_type": "execute_result"
    }
   ],
   "source": [
    "Instance = Solution()\n",
    "Instance.longestConsecutive([100,4,200,1,3,2])"
   ]
  }
 ],
 "metadata": {
  "kernelspec": {
   "display_name": "Python 3",
   "language": "python",
   "name": "python3"
  },
  "language_info": {
   "codemirror_mode": {
    "name": "ipython",
    "version": 3
   },
   "file_extension": ".py",
   "mimetype": "text/x-python",
   "name": "python",
   "nbconvert_exporter": "python",
   "pygments_lexer": "ipython3",
   "version": "3.7.3"
  }
 },
 "nbformat": 4,
 "nbformat_minor": 2
}
