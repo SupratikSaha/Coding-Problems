{
 "cells": [
  {
   "cell_type": "markdown",
   "metadata": {},
   "source": [
    "Problem Statement.\n",
    "\n",
    "You are given an array of points in the X-Y plane points where points[i] = [xi, yi].\n",
    "\n",
    "Return the minimum area of a rectangle formed from these points, with sides parallel to the X and Y axes. If there is not any such rectangle, return 0.\n",
    "\n",
    " \n",
    "\n",
    "Example 1:\n",
    "\n",
    "Input: points = [[1,1],[1,3],[3,1],[3,3],[2,2]]\n",
    "Output: 4\n",
    "\n",
    "Example 2:\n",
    "\n",
    "Input: points = [[1,1],[1,3],[3,1],[3,3],[4,1],[4,3]]\n",
    "Output: 2\n",
    "\n",
    " \n",
    "\n",
    "Constraints:\n",
    "\n",
    "    1 <= points.length <= 500\n",
    "    points[i].length == 2\n",
    "    0 <= xi, yi <= 4 * 104\n",
    "    All the given points are unique."
   ]
  },
  {
   "cell_type": "markdown",
   "metadata": {},
   "source": [
    "# Check all points - Set - O(N ^ 2) runtime, O(N) space"
   ]
  },
  {
   "cell_type": "code",
   "execution_count": 1,
   "metadata": {},
   "outputs": [],
   "source": [
    "from typing import List\n",
    "\n",
    "class Solution:\n",
    "    def minAreaRect(self, points: List[List[int]]) -> int:\n",
    "        seen = set()\n",
    "        res = float('inf')\n",
    "        \n",
    "        for x1, y1 in points:\n",
    "            for x2, y2 in seen:\n",
    "                if (x1, y2) in seen and (x2, y1) in seen:\n",
    "                    area = abs(x1 - x2) * abs(y1 - y2)\n",
    "                    if area and area < res:\n",
    "                        res = area\n",
    "            seen.add((x1, y1))\n",
    "            \n",
    "        return res if res < float('inf') else 0"
   ]
  },
  {
   "cell_type": "markdown",
   "metadata": {},
   "source": [
    "# Faster - Hash Table - O(N ^ 2) runtime, O(N) space"
   ]
  },
  {
   "cell_type": "code",
   "execution_count": 3,
   "metadata": {},
   "outputs": [],
   "source": [
    "from typing import List\n",
    "from collections import defaultdict\n",
    "\n",
    "class Solution:\n",
    "    def minAreaRect(self, points: List[List[int]]) -> int:\n",
    "        n = len(points)\n",
    "        nx = len(set(x for x, y in points))\n",
    "        ny = len(set(y for x, y in points))\n",
    "        if nx == n or ny == n:\n",
    "            return 0\n",
    "\n",
    "        p = defaultdict(list)\n",
    "        if nx > ny:\n",
    "            for x, y in points:\n",
    "                p[x].append(y)\n",
    "        else:\n",
    "            for x, y in points:\n",
    "                p[y].append(x)\n",
    "\n",
    "        lastx = {}\n",
    "        res = float('inf')\n",
    "        for x in sorted(p):\n",
    "            p[x].sort()\n",
    "            for i in range(len(p[x])):\n",
    "                for j in range(i):\n",
    "                    y1, y2 = p[x][j], p[x][i]\n",
    "                    if (y1, y2) in lastx:\n",
    "                        res = min(res, (x - lastx[y1, y2]) * abs(y2 - y1))\n",
    "                    lastx[y1, y2] = x\n",
    "        return res if res < float('inf') else 0"
   ]
  },
  {
   "cell_type": "code",
   "execution_count": 4,
   "metadata": {},
   "outputs": [
    {
     "data": {
      "text/plain": [
       "2"
      ]
     },
     "execution_count": 4,
     "metadata": {},
     "output_type": "execute_result"
    }
   ],
   "source": [
    "instance = Solution()\n",
    "instance.minAreaRect( [[1,1],[1,3],[3,1],[3,3],[4,1],[4,3]])"
   ]
  }
 ],
 "metadata": {
  "kernelspec": {
   "display_name": "Python 3",
   "language": "python",
   "name": "python3"
  },
  "language_info": {
   "codemirror_mode": {
    "name": "ipython",
    "version": 3
   },
   "file_extension": ".py",
   "mimetype": "text/x-python",
   "name": "python",
   "nbconvert_exporter": "python",
   "pygments_lexer": "ipython3",
   "version": "3.7.3"
  }
 },
 "nbformat": 4,
 "nbformat_minor": 2
}
