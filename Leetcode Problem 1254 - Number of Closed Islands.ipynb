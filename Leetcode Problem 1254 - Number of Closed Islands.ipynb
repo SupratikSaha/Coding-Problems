{
 "cells": [
  {
   "cell_type": "markdown",
   "metadata": {},
   "source": [
    "Problem Statement. <br/>\n",
    "\n",
    "Given a 2D grid consists of 0s (land) and 1s (water).  An island is a maximal 4-directionally connected group of 0s and a closed island is an island totally (all left, top, right, bottom) surrounded by 1s. <br/>\n",
    "Return the number of closed islands. <br/>\n",
    "\n",
    "Example 1: <br/>\n",
    "Input: grid = [[1,1,1,1,1,1,1,0],[1,0,0,0,0,1,1,0],[1,0,1,0,1,1,1,0],[1,0,0,0,0,1,0,1],[1,1,1,1,1,1,1,0]] <br/>\n",
    "Output: 2 <br/>\n",
    "Explanation: <br/>\n",
    "Islands in gray are closed because they are completely surrounded by water (group of 1s). <br/>\n",
    "\n",
    "Example 2: <br/>\n",
    "Input: grid = [[0,0,1,0,0],[0,1,0,1,0],[0,1,1,1,0]] <br/>\n",
    "Output: 1 <br/>\n",
    "\n",
    "Example 3: <br/>\n",
    "Input: grid = [[1,1,1,1,1,1,1],[1,0,0,0,0,0,1],[1,0,1,1,1,0,1],[1,0,1,0,1,0,1],[1,0,1,1,1,0,1],[1,0,0,0,0,0,1],[1,1,1,1,1,1,1]] <br/>\n",
    "Output: 2"
   ]
  },
  {
   "cell_type": "markdown",
   "metadata": {},
   "source": [
    "# DFS - O(M*N) runtime, O(M * N) space"
   ]
  },
  {
   "cell_type": "code",
   "execution_count": 1,
   "metadata": {},
   "outputs": [],
   "source": [
    "from typing import List\n",
    "\n",
    "class Solution:\n",
    "    def closedIsland(self, grid: List[List[int]]) -> int:\n",
    "        m, n = len(grid), len(grid[0])\n",
    "        directions = [[0,1], [0,-1], [1,0], [-1,0]]\n",
    "        \n",
    "        def mark_cells(r: int, c: int) -> None:\n",
    "            grid[r][c] = -1\n",
    "            for i, j in directions:\n",
    "                x, y = r+i, c+j\n",
    "                if x >= 0  and x < m and y >= 0 and y < n and grid[x][y] == 0:\n",
    "                    mark_cells(x, y)\n",
    "        \n",
    "        # Get rid of boundary zeroes form first and last row\n",
    "        for r in [0, m-1]:\n",
    "            for c in range(0, n):\n",
    "                if grid[r][c] == 0:\n",
    "                    mark_cells(r, c)\n",
    "                    \n",
    "        # Get rid of boundary zeroes form first and last column        \n",
    "        for r in range(1, m-1):\n",
    "            for c in [0, n-1]:\n",
    "                if grid[r][c] == 0:\n",
    "                    mark_cells(r, c)\n",
    "        \n",
    "        # Count islands\n",
    "        num_islands = 0\n",
    "        for r in range(1, m-1):\n",
    "            for c in range(1, n-1):\n",
    "                if grid[r][c] == 0 and all(grid[r+i][c+j] in [0,1] for i, j in directions):\n",
    "                    num_islands += 1\n",
    "                    mark_cells(r, c)\n",
    "        \n",
    "                    \n",
    "        return num_islands              "
   ]
  },
  {
   "cell_type": "markdown",
   "metadata": {},
   "source": [
    "# Using boundary condition DFS - O(M * N) runtime, O(M * N) space"
   ]
  },
  {
   "cell_type": "code",
   "execution_count": 2,
   "metadata": {},
   "outputs": [],
   "source": [
    "from typing import List\n",
    "\n",
    "class Solution:\n",
    "    def closedIsland(self, grid: List[List[int]]) -> int:\n",
    "        m , n = len(grid), len(grid[0])\n",
    "        islands = 0\n",
    "        \n",
    "        boundaries = [(i, j) for i in range(0, m) for j in [0, n-1]] + [(i, j) for i in [0, m-1] for j in range(0, n)]\n",
    "\n",
    "        for i, j in boundaries:\n",
    "            if grid[i][j] == 0: self.dfs(grid, i, j)\n",
    "\n",
    "        for i in range(m):\n",
    "            for j in range(n):\n",
    "                if grid[i][j] == 0:\n",
    "                    islands += 1\n",
    "                    self.dfs(grid, i, j)\n",
    "        return islands\n",
    "    \n",
    "    def dfs(self, grid: List[List[int]], i: int, j: int) -> None:\n",
    "        m, n = len(grid), len(grid[0])\n",
    "        stack = [(i, j)]\n",
    "        while stack:\n",
    "            r, c = stack.pop()\n",
    "            grid[r][c] = 2\n",
    "            for r1, c1 in [(r, c+1), (r, c-1), (r+1, c), (r-1, c)]:\n",
    "                if 0<= r1 < m and 0 <= c1 < n and grid[r1][c1] == 0: stack.append((r1,c1))"
   ]
  },
  {
   "cell_type": "markdown",
   "metadata": {},
   "source": [
    "# Shorter DFS - O(M*N) runtime, O(M * N) space"
   ]
  },
  {
   "cell_type": "code",
   "execution_count": 3,
   "metadata": {},
   "outputs": [],
   "source": [
    "from typing import List\n",
    "\n",
    "class Solution:\n",
    "    def closedIsland(self, grid: List[List[int]]) -> int:\n",
    "        m, n = len(grid), len(grid[0])\n",
    "        res = 0\n",
    "        \n",
    "        def dfs(x, y):\n",
    "            if x in (0, m-1) or y in (0, n-1):\n",
    "                self.isIsland = False \n",
    "            for i, j in ((x+1, y), (x-1, y), (x, y+1), (x, y-1)):\n",
    "                if 0 <= i < m and 0 <= j < n and grid[i][j] == 0:\n",
    "                    grid[i][j] = -1 \n",
    "                    dfs(i, j)\n",
    "                    \n",
    "        for i in range(m):\n",
    "            for j in range(n):\n",
    "                if grid[i][j] == 0:\n",
    "                    self.isIsland = True\n",
    "                    dfs(i, j)\n",
    "                    res += self.isIsland\n",
    "                    \n",
    "        return res"
   ]
  },
  {
   "cell_type": "markdown",
   "metadata": {},
   "source": [
    "# BFS - O(M*N) runtime, O(M * N) space"
   ]
  },
  {
   "cell_type": "code",
   "execution_count": 4,
   "metadata": {},
   "outputs": [],
   "source": [
    "from typing import List\n",
    "\n",
    "def closedIsland(self, grid: List[List[int]]) -> int:\n",
    "        seen_land = set()\n",
    "        \n",
    "        def bfs(i: int, j: int) -> int:\n",
    "            seen_land.add((i, j))\n",
    "            q, ans = [(i, j)], 1\n",
    "            for i, j in q:\n",
    "                for r, c in (i + 1, j), (i - 1, j), (i, j + 1), (i, j - 1):     \n",
    "                    if r < 0 or r >= len(grid) or c < 0 or c >= len(grid[0]):\n",
    "                        ans = 0\n",
    "                    elif not grid[r][c] and (r, c) not in seen_land:\n",
    "                        seen_land.add((r, c))\n",
    "                        q.append((r, c))\n",
    "            return ans\n",
    "        \n",
    "        return sum(bfs(i, j) for i , row in enumerate(grid) for j, cell in enumerate(row) if not cell and (i, j) not in seen_land)"
   ]
  },
  {
   "cell_type": "markdown",
   "metadata": {},
   "source": [
    "# Union Find - O(M*N) runtime, O(M * N) space"
   ]
  },
  {
   "cell_type": "code",
   "execution_count": 5,
   "metadata": {},
   "outputs": [],
   "source": [
    "from typing import List\n",
    "\n",
    "def closedIsland(self, grid: List[List[int]]) -> int: \n",
    "        m, n = len(grid), len(grid[0])\n",
    "        id = list(range(m * n))\n",
    "        \n",
    "        def union(x: int, y: int) -> None:\n",
    "            \n",
    "            def find(x: int) -> int:\n",
    "                while x != id[x]:\n",
    "                    x = id[x]\n",
    "                return x    \n",
    "            \n",
    "            root_x, root_y = find(x), find(y)\n",
    "            if root_x != root_y:\n",
    "                if root_y // n in (0, m - 1) or root_y % n in (0, n - 1):\n",
    "                    id[root_x] = root_y\n",
    "                else:\n",
    "                    id[root_y] = root_x\n",
    "                    \n",
    "        for i in range(1, m - 1):\n",
    "            for j in range(1, n - 1):\n",
    "                 if not grid[i][j]:\n",
    "                    for r, c in (i, j + 1), (i + 1, j), (i, j - 1), (i - 1, j):\n",
    "                        if not grid[r][c]:\n",
    "                            union(i * n + j, r * n + c)\n",
    "        return sum(not grid[i][j] and id[i * n + j] == i * n + j for i in range(1, m - 1) for j in range(1, n - 1))"
   ]
  },
  {
   "cell_type": "code",
   "execution_count": 6,
   "metadata": {},
   "outputs": [
    {
     "data": {
      "text/plain": [
       "2"
      ]
     },
     "execution_count": 6,
     "metadata": {},
     "output_type": "execute_result"
    }
   ],
   "source": [
    "instance = Solution()\n",
    "instance.closedIsland([[1,1,1,1,1,1,1,0],[1,0,0,0,0,1,1,0],[1,0,1,0,1,1,1,0],[1,0,0,0,0,1,0,1],[1,1,1,1,1,1,1,0]])"
   ]
  }
 ],
 "metadata": {
  "kernelspec": {
   "display_name": "Python 3",
   "language": "python",
   "name": "python3"
  },
  "language_info": {
   "codemirror_mode": {
    "name": "ipython",
    "version": 3
   },
   "file_extension": ".py",
   "mimetype": "text/x-python",
   "name": "python",
   "nbconvert_exporter": "python",
   "pygments_lexer": "ipython3",
   "version": "3.7.3"
  }
 },
 "nbformat": 4,
 "nbformat_minor": 2
}
