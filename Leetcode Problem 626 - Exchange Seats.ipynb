{
 "cells": [
  {
   "cell_type": "markdown",
   "metadata": {},
   "source": [
    "Problem Statement.\n",
    "\n",
    "    Mary is a teacher in a middle school and she has a table seat storing students' names and their corresponding seat ids.\n",
    "\n",
    "    The column id is continuous increment.\n",
    "\n",
    "    Mary wants to change seats for the adjacent students.\n",
    "\n",
    "    Can you write a SQL query to output the result for Mary?\n",
    "\n",
    "\n",
    "\n",
    "    +---------+---------+\n",
    "    |    id   | student |\n",
    "    +---------+---------+\n",
    "    |    1    | Abbot   |\n",
    "    |    2    | Doris   |\n",
    "    |    3    | Emerson |\n",
    "    |    4    | Green   |\n",
    "    |    5    | Jeames  |\n",
    "    +---------+---------+\n",
    "\n",
    "    For the sample input, the output is:\n",
    "\n",
    "    +---------+---------+\n",
    "    |    id   | student |\n",
    "    +---------+---------+\n",
    "    |    1    | Doris   |\n",
    "    |    2    | Abbot   |\n",
    "    |    3    | Green   |\n",
    "    |    4    | Emerson |\n",
    "    |    5    | Jeames  |\n",
    "    +---------+---------+\n",
    "\n",
    "    Note:\n",
    "\n",
    "    If the number of students is odd, there is no need to change the last one's seat."
   ]
  },
  {
   "cell_type": "markdown",
   "metadata": {},
   "source": [
    "# Case statement with lag"
   ]
  },
  {
   "cell_type": "code",
   "execution_count": null,
   "metadata": {},
   "outputs": [],
   "source": [
    "select id,\n",
    "case when id % 2 = 0 then prev_student\n",
    "     when id % 2 = 1 and next_student is not null then next_student\n",
    "     when id % 2 = 1 and next_student is null then student\n",
    "end as student\n",
    "from\n",
    "(select id, student, lag(student) over(order by id) as prev_student, \n",
    " lead(student) over(order by id) as next_student\n",
    " from seat) s"
   ]
  },
  {
   "cell_type": "markdown",
   "metadata": {},
   "source": [
    "# Case statement with count"
   ]
  },
  {
   "cell_type": "code",
   "execution_count": null,
   "metadata": {},
   "outputs": [],
   "source": [
    "SELECT\n",
    "    (CASE\n",
    "        WHEN MOD(id, 2) != 0 AND counts != id THEN id + 1\n",
    "        WHEN MOD(id, 2) != 0 AND counts = id THEN id\n",
    "        ELSE id - 1\n",
    "    END) AS id,\n",
    "    student\n",
    "FROM\n",
    "    seat,\n",
    "    (SELECT\n",
    "        COUNT(*) AS counts\n",
    "    FROM\n",
    "        seat) AS seat_counts\n",
    "ORDER BY id ASC;"
   ]
  }
 ],
 "metadata": {
  "kernelspec": {
   "display_name": "Python 3",
   "language": "python",
   "name": "python3"
  },
  "language_info": {
   "codemirror_mode": {
    "name": "ipython",
    "version": 3
   },
   "file_extension": ".py",
   "mimetype": "text/x-python",
   "name": "python",
   "nbconvert_exporter": "python",
   "pygments_lexer": "ipython3",
   "version": "3.7.3"
  }
 },
 "nbformat": 4,
 "nbformat_minor": 2
}
