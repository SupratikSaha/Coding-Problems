{
 "cells": [
  {
   "cell_type": "markdown",
   "metadata": {},
   "source": [
    "Problem Statement.\n",
    "\n",
    "Suppose we have a file system that stores both files and directories. An example of one system is represented in the following picture:\n",
    "\n",
    "Here, we have dir as the only directory in the root. dir contains two subdirectories, subdir1 and subdir2. subdir1 contains a file file1.ext and subdirectory subsubdir1. subdir2 contains a subdirectory subsubdir2, which contains a file file2.ext.\n",
    "\n",
    "In text form, it looks like this (with ⟶ representing the tab character):\n",
    "\n",
    "dir\n",
    "⟶ subdir1\n",
    "⟶ ⟶ file1.ext\n",
    "⟶ ⟶ subsubdir1\n",
    "⟶ subdir2\n",
    "⟶ ⟶ subsubdir2\n",
    "⟶ ⟶ ⟶ file2.ext\n",
    "\n",
    "If we were to write this representation in code, it will look like this: \"dir\\n\\tsubdir1\\n\\t\\tfile1.ext\\n\\t\\tsubsubdir1\\n\\tsubdir2\\n\\t\\tsubsubdir2\\n\\t\\t\\tfile2.ext\". Note that the '\\n' and '\\t' are the new-line and tab characters.\n",
    "\n",
    "Every file and directory has a unique absolute path in the file system, which is the order of directories that must be opened to reach the file/directory itself, all concatenated by '/'s. Using the above example, the absolute path to file2.ext is \"dir/subdir2/subsubdir2/file2.ext\". Each directory name consists of letters, digits, and/or spaces. Each file name is of the form name.extension, where name and extension consist of letters, digits, and/or spaces.\n",
    "\n",
    "Given a string input representing the file system in the explained format, return the length of the longest absolute path to a file in the abstracted file system. If there is no file in the system, return 0.\n",
    "\n",
    " \n",
    "\n",
    "Example 1:\n",
    "\n",
    "Input: input = \"dir\\n\\tsubdir1\\n\\tsubdir2\\n\\t\\tfile.ext\"\n",
    "Output: 20\n",
    "Explanation: We have only one file, and the absolute path is \"dir/subdir2/file.ext\" of length 20.\n",
    "\n",
    "Example 2:\n",
    "\n",
    "Input: input = \"dir\\n\\tsubdir1\\n\\t\\tfile1.ext\\n\\t\\tsubsubdir1\\n\\tsubdir2\\n\\t\\tsubsubdir2\\n\\t\\t\\tfile2.ext\"\n",
    "Output: 32\n",
    "Explanation: We have two files:\n",
    "\"dir/subdir1/file1.ext\" of length 21\n",
    "\"dir/subdir2/subsubdir2/file2.ext\" of length 32.\n",
    "We return 32 since it is the longest absolute path to a file.\n",
    "\n",
    "Example 3:\n",
    "\n",
    "Input: input = \"a\"\n",
    "Output: 0\n",
    "Explanation: We do not have any files, just a single directory named \"a\".\n",
    "\n",
    "Example 4:\n",
    "\n",
    "Input: input = \"file1.txt\\nfile2.txt\\nlongfile.txt\"\n",
    "Output: 12\n",
    "Explanation: There are 3 files at the root directory.\n",
    "Since the absolute path for anything at the root directory is just the name itself, the answer is \"longfile.txt\" with length 12.\n",
    "\n",
    " \n",
    "\n",
    "Constraints:\n",
    "\n",
    "    1 <= input.length <= 104\n",
    "    input may contain lowercase or uppercase English letters, a new line character '\\n', a tab character '\\t', a dot '.', a space ' ', and digits."
   ]
  },
  {
   "cell_type": "markdown",
   "metadata": {},
   "source": [
    "# Stack - O(N) runtime, O(N) space"
   ]
  },
  {
   "cell_type": "code",
   "execution_count": 2,
   "metadata": {},
   "outputs": [],
   "source": [
    "class Solution:\n",
    "    def lengthLongestPath(self, input: str) -> int:\n",
    "        \n",
    "        input = input.split('\\n')\n",
    "        stack = []\n",
    "        maxLength, prevLevel = 0, 0\n",
    "\n",
    "        for item in input:\n",
    "            n, isFile = len(item), False\n",
    "            pos, currLevel, prevLength = 0, 0, 0\n",
    "\n",
    "            while n - pos >= 1 and item[pos] == \"\\t\":\n",
    "                pos += 1\n",
    "                currLevel += 1\n",
    "                \n",
    "            for j in range(pos, n):\n",
    "                if item[j] == '.': \n",
    "                    isFile = True\n",
    "                    break\n",
    "            \n",
    "            if currLevel <= prevLevel:\n",
    "                for _ in range(prevLevel - currLevel + 1):\n",
    "                    if stack: stack.pop()\n",
    "                    \n",
    "            if stack: prevLength = stack[-1]\n",
    "            stack.append(prevLength + n-pos+1)\n",
    "            \n",
    "            currLength = stack[-1] if stack else 0\n",
    "            if isFile: maxLength = max(maxLength, currLength)\n",
    "            prevLevel = currLevel\n",
    "            \n",
    "        return maxLength-1 if maxLength else maxLength"
   ]
  },
  {
   "cell_type": "markdown",
   "metadata": {},
   "source": [
    "# Dict - O(N) runtime, O(D) space, where D is maxDepth"
   ]
  },
  {
   "cell_type": "code",
   "execution_count": 4,
   "metadata": {},
   "outputs": [],
   "source": [
    "class Solution:\n",
    "    def lengthLongestPath(self, input: str) -> int:\n",
    "        maxlen = 0\n",
    "        pathlen = {0: 0}\n",
    "        for line in input.splitlines():\n",
    "            name = line.lstrip('\\t')\n",
    "            depth = len(line) - len(name)\n",
    "            if name.find('.') != -1:\n",
    "                maxlen = max(maxlen, pathlen[depth] + len(name))\n",
    "            else:\n",
    "                pathlen[depth + 1] = pathlen[depth] + len(name) + 1\n",
    "        return maxlen"
   ]
  },
  {
   "cell_type": "code",
   "execution_count": 5,
   "metadata": {},
   "outputs": [
    {
     "data": {
      "text/plain": [
       "32"
      ]
     },
     "execution_count": 5,
     "metadata": {},
     "output_type": "execute_result"
    }
   ],
   "source": [
    "instance = Solution()\n",
    "instance.lengthLongestPath(\"dir\\n\\tsubdir1\\n\\t\\tfile1.ext\\n\\t\\tsubsubdir1\\n\\tsubdir2\\n\\t\\tsubsubdir2\\n\\t\\t\\tfile2.ext\")"
   ]
  }
 ],
 "metadata": {
  "kernelspec": {
   "display_name": "Python 3",
   "language": "python",
   "name": "python3"
  },
  "language_info": {
   "codemirror_mode": {
    "name": "ipython",
    "version": 3
   },
   "file_extension": ".py",
   "mimetype": "text/x-python",
   "name": "python",
   "nbconvert_exporter": "python",
   "pygments_lexer": "ipython3",
   "version": "3.7.3"
  }
 },
 "nbformat": 4,
 "nbformat_minor": 2
}
