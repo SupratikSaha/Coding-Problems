{
 "cells": [
  {
   "cell_type": "markdown",
   "metadata": {},
   "source": [
    "Problem Statement.\n",
    "\n",
    "Given a number N, return true if and only if it is a confusing number, which satisfies the following condition:\n",
    "\n",
    "We can rotate digits by 180 degrees to form new digits. When 0, 1, 6, 8, 9 are rotated 180 degrees, they become 0, 1, 9, 8, 6 respectively. When 2, 3, 4, 5 and 7 are rotated 180 degrees, they become invalid. A confusing number is a number that when rotated 180 degrees becomes a different number with each digit valid.\n",
    "\n",
    " \n",
    "\n",
    "Example 1:\n",
    "\n",
    "Input: 6\n",
    "Output: true\n",
    "Explanation: \n",
    "We get 9 after rotating 6, 9 is a valid number and 9!=6.\n",
    "\n",
    "Example 2:\n",
    "\n",
    "Input: 89\n",
    "Output: true\n",
    "Explanation: \n",
    "We get 68 after rotating 89, 86 is a valid number and 86!=89.\n",
    "\n",
    "Example 3:\n",
    "\n",
    "Input: 11\n",
    "Output: false\n",
    "Explanation: \n",
    "We get 11 after rotating 11, 11 is a valid number but the value remains the same, thus 11 is not a confusing number.\n",
    "\n",
    "Example 4:\n",
    "\n",
    "Input: 25\n",
    "Output: false\n",
    "Explanation: \n",
    "We get an invalid number after rotating 25.\n",
    "\n",
    " \n",
    "\n",
    "Note:\n",
    "\n",
    "    0 <= N <= 10^9\n",
    "    After the rotation we can ignore leading zeros, for example if after rotation we have 0008 then this number is considered as just 8."
   ]
  },
  {
   "cell_type": "markdown",
   "metadata": {},
   "source": [
    "# Iterate throught digits - O(Log N) runtime, O(1) space"
   ]
  },
  {
   "cell_type": "code",
   "execution_count": 3,
   "metadata": {},
   "outputs": [],
   "source": [
    "class Solution:\n",
    "    def confusingNumber(self, N: int) -> bool:\n",
    "        newNum = 0\n",
    "        currNum = N\n",
    "        rotate = {0: 0, 1: 1, 6: 9, 8: 8, 9: 6}\n",
    "        \n",
    "        while currNum:\n",
    "            currNum, digit = divmod(currNum, 10)\n",
    "            if digit not in rotate: return False\n",
    "            newNum = newNum * 10 + rotate.get(digit, digit)\n",
    "            \n",
    "        return newNum != N"
   ]
  },
  {
   "cell_type": "code",
   "execution_count": 4,
   "metadata": {},
   "outputs": [
    {
     "data": {
      "text/plain": [
       "True"
      ]
     },
     "execution_count": 4,
     "metadata": {},
     "output_type": "execute_result"
    }
   ],
   "source": [
    "instance = Solution()\n",
    "instance.confusingNumber(68)"
   ]
  }
 ],
 "metadata": {
  "kernelspec": {
   "display_name": "Python 3",
   "language": "python",
   "name": "python3"
  },
  "language_info": {
   "codemirror_mode": {
    "name": "ipython",
    "version": 3
   },
   "file_extension": ".py",
   "mimetype": "text/x-python",
   "name": "python",
   "nbconvert_exporter": "python",
   "pygments_lexer": "ipython3",
   "version": "3.7.3"
  }
 },
 "nbformat": 4,
 "nbformat_minor": 2
}
