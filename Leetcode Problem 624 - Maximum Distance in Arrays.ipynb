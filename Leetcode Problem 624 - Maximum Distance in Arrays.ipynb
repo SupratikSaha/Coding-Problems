{
 "cells": [
  {
   "cell_type": "markdown",
   "metadata": {},
   "source": [
    "Problem Statement.\n",
    "\n",
    "You are given m arrays, where each array is sorted in ascending order.\n",
    "\n",
    "You can pick up two integers from two different arrays (each array picks one) and calculate the distance. We define the distance between two integers a and b to be their absolute difference |a - b|.\n",
    "\n",
    "Return the maximum distance.\n",
    "\n",
    " \n",
    "\n",
    "Example 1:\n",
    "\n",
    "Input: arrays = [[1,2,3],[4,5],[1,2,3]]\n",
    "Output: 4\n",
    "Explanation: One way to reach the maximum distance 4 is to pick 1 in the first or third array and pick 5 in the second array.\n",
    "\n",
    "Example 2:\n",
    "\n",
    "Input: arrays = [[1],[1]]\n",
    "Output: 0\n",
    "\n",
    "Example 3:\n",
    "\n",
    "Input: arrays = [[1],[2]]\n",
    "Output: 1\n",
    "\n",
    "Example 4:\n",
    "\n",
    "Input: arrays = [[1,4],[0,5]]\n",
    "Output: 4\n",
    "\n",
    " \n",
    "\n",
    "Constraints:\n",
    "\n",
    "    m == arrays.length\n",
    "    2 <= m <= 105\n",
    "    1 <= arrays[i].length <= 500\n",
    "    -104 <= arrays[i][j] <= 104\n",
    "    arrays[i] is sorted in ascending order.\n",
    "    There will be at most 105 integers in all the arrays."
   ]
  },
  {
   "cell_type": "markdown",
   "metadata": {},
   "source": [
    "# Sorting - O(N * Log N) runtime, O(N)space"
   ]
  },
  {
   "cell_type": "code",
   "execution_count": 1,
   "metadata": {},
   "outputs": [],
   "source": [
    "from typing import List\n",
    "\n",
    "class Solution:\n",
    "    def maxDistance(self, arrays: List[List[int]]) -> int:\n",
    "        maxDist, n = 0, len(arrays)\n",
    "        \n",
    "        arrays = sorted(arrays, key=lambda x: x[0])\n",
    "        \n",
    "        for i in range(1, n):\n",
    "            for a, b in [[0,-1], [-1, 0]]:\n",
    "                maxDist = max(maxDist, abs(arrays[0][a] - arrays[i][b]))\n",
    "                        \n",
    "        return maxDist"
   ]
  },
  {
   "cell_type": "markdown",
   "metadata": {},
   "source": [
    "# Max Heap - O(N) runtime, O(1) space"
   ]
  },
  {
   "cell_type": "code",
   "execution_count": 3,
   "metadata": {},
   "outputs": [],
   "source": [
    "from typing import List\n",
    "from heapq import heappush, heappop\n",
    "\n",
    "class Solution:\n",
    "    def maxDistance(self, arrays: List[List[int]]) -> int:\n",
    "        maxDist, n = 0, len(arrays)\n",
    "        maxheap = [(-arrays[0][0], 0)]\n",
    "        \n",
    "        for i in range(1, n):\n",
    "            heappush(maxheap, (-arrays[i][0], i))\n",
    "            heappop(maxheap)\n",
    "            \n",
    "        index = maxheap[0][1]\n",
    "        \n",
    "        for i in range(n):\n",
    "            if i == index: continue\n",
    "            for a, b in [[0,-1], [-1, 0]]:\n",
    "                maxDist = max(maxDist, abs(arrays[index][a] - arrays[i][b]))\n",
    "                        \n",
    "        return maxDist"
   ]
  },
  {
   "cell_type": "markdown",
   "metadata": {},
   "source": [
    "# Two Pass - O(N) runtime, O(1) space"
   ]
  },
  {
   "cell_type": "code",
   "execution_count": 5,
   "metadata": {},
   "outputs": [],
   "source": [
    "from typing import List\n",
    "\n",
    "class Solution:\n",
    "    def maxDistance(self, arrays: List[List[int]]) -> int:\n",
    "        maxDist, n = 0, len(arrays)\n",
    "        minStart, minIndex = float('inf'), -1\n",
    "        \n",
    "        for i in range(n):\n",
    "            if arrays[i][0] < minStart:\n",
    "                minStart = arrays[i][0]\n",
    "                minIndex = i\n",
    "        \n",
    "        for i in range(n):\n",
    "            if i == minIndex: continue\n",
    "            for a, b in [[0,-1], [-1, 0]]:\n",
    "                maxDist = max(maxDist, abs(arrays[minIndex][a] - arrays[i][b]))\n",
    "                        \n",
    "        return maxDist"
   ]
  },
  {
   "cell_type": "markdown",
   "metadata": {},
   "source": [
    "# Faster Two Pass without if - O(N) runtime, O(1) space"
   ]
  },
  {
   "cell_type": "code",
   "execution_count": 7,
   "metadata": {},
   "outputs": [],
   "source": [
    "from typing import List\n",
    "\n",
    "class Solution:\n",
    "    def maxDistance(self, arrays: List[List[int]]) -> int:\n",
    "        maxDist, n = 0, len(arrays)\n",
    "        minStart, minIndex = float('inf'), -1\n",
    "        \n",
    "        for i in range(n):\n",
    "            if arrays[i][0] < minStart:\n",
    "                minStart = arrays[i][0]\n",
    "                minIndex = i\n",
    "        \n",
    "        for i in range(minIndex):\n",
    "            for a, b in [[0,-1], [-1, 0]]:\n",
    "                maxDist = max(maxDist, abs(arrays[minIndex][a] - arrays[i][b]))\n",
    "                \n",
    "        for i in range(minIndex+1, n):\n",
    "            for a, b in [[0,-1], [-1, 0]]:\n",
    "                maxDist = max(maxDist, abs(arrays[minIndex][a] - arrays[i][b]))\n",
    "                        \n",
    "        return maxDist"
   ]
  },
  {
   "cell_type": "markdown",
   "metadata": {},
   "source": [
    "# One Pass - O(N) runtime, O(N) space"
   ]
  },
  {
   "cell_type": "code",
   "execution_count": 9,
   "metadata": {},
   "outputs": [],
   "source": [
    "from typing import List\n",
    "\n",
    "class Solution:\n",
    "    def maxDistance(self, arrays: List[List[int]]) -> int:\n",
    "        minVal, maxVal = arrays[0][0], arrays[0][-1]\n",
    "        res = 0\n",
    "        \n",
    "        for i in range(1, len(arrays)):\n",
    "            res = max(res, max(abs(arrays[i][-1] - minVal), abs(maxVal - arrays[i][0])))\n",
    "            minVal = min(minVal, arrays[i][0])\n",
    "            maxVal = max(maxVal, arrays[i][-1])\n",
    "            \n",
    "        return res"
   ]
  },
  {
   "cell_type": "code",
   "execution_count": 10,
   "metadata": {},
   "outputs": [
    {
     "data": {
      "text/plain": [
       "4"
      ]
     },
     "execution_count": 10,
     "metadata": {},
     "output_type": "execute_result"
    }
   ],
   "source": [
    "instance = Solution()\n",
    "instance.maxDistance([[1,2,3],[4,5],[1,2,3]])"
   ]
  }
 ],
 "metadata": {
  "kernelspec": {
   "display_name": "Python 3",
   "language": "python",
   "name": "python3"
  },
  "language_info": {
   "codemirror_mode": {
    "name": "ipython",
    "version": 3
   },
   "file_extension": ".py",
   "mimetype": "text/x-python",
   "name": "python",
   "nbconvert_exporter": "python",
   "pygments_lexer": "ipython3",
   "version": "3.7.3"
  }
 },
 "nbformat": 4,
 "nbformat_minor": 2
}
