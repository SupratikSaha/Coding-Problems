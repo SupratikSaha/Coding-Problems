{
 "cells": [
  {
   "cell_type": "markdown",
   "metadata": {},
   "source": [
    "Problem Statement.\n",
    "\n",
    "You are given an n x n integer matrix grid where each value grid[i][j] represents the elevation at that point (i, j).\n",
    "\n",
    "The rain starts to fall. At time t, the depth of the water everywhere is t. You can swim from a square to another 4-directionally adjacent square if and only if the elevation of both squares individually are at most t. You can swim infinite distances in zero time. Of course, you must stay within the boundaries of the grid during your swim.\n",
    "\n",
    "Return the least time until you can reach the bottom right square (n - 1, n - 1) if you start at the top left square (0, 0).\n",
    "\n",
    " \n",
    "\n",
    "Example 1:\n",
    "\n",
    "Input: grid = [[0,2],[1,3]]\n",
    "Output: 3\n",
    "Explanation:\n",
    "At time 0, you are in grid location (0, 0).\n",
    "You cannot go anywhere else because 4-directionally adjacent neighbors have a higher elevation than t = 0.\n",
    "You cannot reach point (1, 1) until time 3.\n",
    "When the depth of water is 3, we can swim anywhere inside the grid.\n",
    "\n",
    "Example 2:\n",
    "\n",
    "Input: grid = [[0,1,2,3,4],[24,23,22,21,5],[12,13,14,15,16],[11,17,18,19,20],[10,9,8,7,6]]\n",
    "Output: 16\n",
    "Explanation: The final route is shown.\n",
    "We need to wait until time 16 so that (0, 0) and (4, 4) are connected.\n",
    "\n",
    " \n",
    "\n",
    "Constraints:\n",
    "\n",
    "    n == grid.length\n",
    "    n == grid[i].length\n",
    "    1 <= n <= 50\n",
    "    0 <= grid[i][j] < n2\n",
    "    Each value grid[i][j] is unique."
   ]
  },
  {
   "cell_type": "markdown",
   "metadata": {},
   "source": [
    "# BFS - O(T * N) runtime, O(N) space, where T is time required and N is the number of cells"
   ]
  },
  {
   "cell_type": "code",
   "execution_count": 2,
   "metadata": {},
   "outputs": [],
   "source": [
    "from typing import List\n",
    "from collections import deque\n",
    "\n",
    "class Solution:\n",
    "    def swimInWater(self, grid: List[List[int]]) -> int:\n",
    "        n = len(grid)\n",
    "        t = max(grid[0][0], grid[n-1][n-1])\n",
    "        \n",
    "        def bfs():\n",
    "            queue = deque([(0, 0)])\n",
    "            visited = {(0, 0)}\n",
    "            \n",
    "            while queue:\n",
    "                r, c = queue.popleft()\n",
    "                if r == c == n-1: return True\n",
    "                \n",
    "                for r1, c1 in [(r-1, c), (r+1, c), (r, c-1), (r, c+1)]:\n",
    "                    if 0 <= r1 < n and 0 <= c1 < n and (r1, c1) not in visited and grid[r1][c1] <= t:\n",
    "                        queue.append((r1, c1))\n",
    "                        visited.add((r1, c1))\n",
    "                        \n",
    "            return False\n",
    "        \n",
    "        while True:\n",
    "            if bfs():\n",
    "                return t\n",
    "            t += 1"
   ]
  },
  {
   "cell_type": "markdown",
   "metadata": {},
   "source": [
    "# Heap - O(N^2 * Log N) runtime, O(N) space"
   ]
  },
  {
   "cell_type": "code",
   "execution_count": 7,
   "metadata": {},
   "outputs": [],
   "source": [
    "from typing import List\n",
    "from heapq import heappush, heappop\n",
    "\n",
    "class Solution:\n",
    "    def swimInWater(self, grid: List[List[int]]) -> int:\n",
    "        n = len(grid)\n",
    "        seen = {(0, 0)}\n",
    "        minheap = [(grid[0][0], 0, 0)]\n",
    "        ans = 0\n",
    "        \n",
    "        while minheap:\n",
    "            d, r, c = heappop(minheap)\n",
    "            ans = max(ans, d)\n",
    "            if r == c == n-1: return ans\n",
    "            \n",
    "            for r1, c1 in ((r-1, c), (r+1, c), (r, c-1), (r, c+1)):\n",
    "                if 0 <= r1 < n and 0 <= c1 < n and (r1, c1) not in seen:\n",
    "                    heappush(minheap, (grid[r1][c1], r1, c1))\n",
    "                    seen.add((r1, c1))\n",
    "        "
   ]
  },
  {
   "cell_type": "code",
   "execution_count": 8,
   "metadata": {},
   "outputs": [
    {
     "data": {
      "text/plain": [
       "16"
      ]
     },
     "execution_count": 8,
     "metadata": {},
     "output_type": "execute_result"
    }
   ],
   "source": [
    "instance = Solution()\n",
    "instance.swimInWater([[0,1,2,3,4],[24,23,22,21,5],[12,13,14,15,16],[11,17,18,19,20],[10,9,8,7,6]] )"
   ]
  }
 ],
 "metadata": {
  "kernelspec": {
   "display_name": "Python 3",
   "language": "python",
   "name": "python3"
  },
  "language_info": {
   "codemirror_mode": {
    "name": "ipython",
    "version": 3
   },
   "file_extension": ".py",
   "mimetype": "text/x-python",
   "name": "python",
   "nbconvert_exporter": "python",
   "pygments_lexer": "ipython3",
   "version": "3.7.3"
  }
 },
 "nbformat": 4,
 "nbformat_minor": 2
}
