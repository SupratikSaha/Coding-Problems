{
 "cells": [
  {
   "cell_type": "markdown",
   "metadata": {},
   "source": [
    "Problem Statement. <br/>\n",
    "\n",
    "A company has n employees with a unique ID for each employee from 0 to n - 1. The head of the company has is the one with headID. <br/>\n",
    "Each employee has one direct manager given in the manager array where manager[i] is the direct manager of the i-th employee, manager[headID] = -1. Also it's guaranteed that the subordination relationships have a tree structure. <br/>\n",
    "The head of the company wants to inform all the employees of the company of an urgent piece of news. He will inform his direct subordinates and they will inform their subordinates and so on until all employees know about the urgent news. <br/>\n",
    "The i-th employee needs informTime[i] minutes to inform all of his direct subordinates (i.e After informTime[i] minutes, all his direct subordinates can start spreading the news). <br/>\n",
    "Return the number of minutes needed to inform all the employees about the urgent news. <br/>\n",
    "\n",
    "Example 1: <br/>\n",
    "Input: n = 1, headID = 0, manager = [-1], informTime = [0] <br/>\n",
    "Output: 0 <br/>\n",
    "Explanation: The head of the company is the only employee in the company. <br/>\n",
    "\n",
    "Example 2: <br/>\n",
    "Input: n = 6, headID = 2, manager = [2,2,-1,2,2,2], informTime = [0,0,1,0,0,0] <br/>\n",
    "Output: 1 <br/>\n",
    "Explanation: The head of the company with id = 2 is the direct manager of all the employees in the company and needs 1 minute to inform them all. <br/>\n",
    "The tree structure of the employees in the company is shown. <br/>\n",
    "\n",
    "Example 3: <br/>\n",
    "Input: n = 7, headID = 6, manager = [1,2,3,4,5,6,-1], informTime = [0,6,5,4,3,2,1] <br/>\n",
    "Output: 21 <br/>\n",
    "Explanation: The head has id = 6. He will inform employee with id = 5 in 1 minute. <br/>\n",
    "The employee with id = 5 will inform the employee with id = 4 in 2 minutes. <br/>\n",
    "The employee with id = 4 will inform the employee with id = 3 in 3 minutes. <br/>\n",
    "The employee with id = 3 will inform the employee with id = 2 in 4 minutes. <br/>\n",
    "The employee with id = 2 will inform the employee with id = 1 in 5 minutes. <br/>\n",
    "The employee with id = 1 will inform the employee with id = 0 in 6 minutes. <br/>\n",
    "Needed time = 1 + 2 + 3 + 4 + 5 + 6 = 21. <br/>\n",
    "\n",
    "Example 4: <br/>\n",
    "Input: n = 15, headID = 0, manager = [-1,0,0,1,1,2,2,3,3,4,4,5,5,6,6], informTime = [1,1,1,1,1,1,1,0,0,0,0,0,0,0,0] <br/>\n",
    "Output: 3 <br/>\n",
    "Explanation: The first minute the head will inform employees 1 and 2. <br/>\n",
    "The second minute they will inform employees 3, 4, 5 and 6. <br/>\n",
    "The third minute they will inform the rest of employees. <br/>\n",
    "\n",
    "Example 5: <br/>\n",
    "Input: n = 4, headID = 2, manager = [3,3,-1,2], informTime = [0,0,162,914] <br/>\n",
    "Output: 1076"
   ]
  },
  {
   "cell_type": "markdown",
   "metadata": {},
   "source": [
    "# Djikstra's - O(N) runtime, O(N) space"
   ]
  },
  {
   "cell_type": "code",
   "execution_count": 1,
   "metadata": {},
   "outputs": [],
   "source": [
    "from typing import List\n",
    "from collections import defaultdict\n",
    "import heapq\n",
    "\n",
    "class Solution:\n",
    "    \n",
    "    def numOfMinutes(self, n: int, headID: int, manager: List[int], informTime: List[int]) -> int:\n",
    "        graph = defaultdict(list)\n",
    "        \n",
    "        for i, managerId in enumerate(manager):\n",
    "            graph[managerId].append((informTime[i], i))\n",
    "        \n",
    "        dist = {}\n",
    "        heap = [(informTime[headID], headID)] \n",
    "        \n",
    "        while heap:\n",
    "            time, u = heapq.heappop(heap)\n",
    "            if u in dist:\n",
    "                continue\n",
    "            dist[u] = time    \n",
    "            for w, v in graph[u]:\n",
    "                if v in dist:\n",
    "                    continue\n",
    "                heapq.heappush(heap, (time+w, v))    \n",
    "        return max(dist.values())"
   ]
  },
  {
   "cell_type": "markdown",
   "metadata": {},
   "source": [
    "# DFS - O(N) runtime, O(N) space"
   ]
  },
  {
   "cell_type": "code",
   "execution_count": 2,
   "metadata": {},
   "outputs": [],
   "source": [
    "from typing import List\n",
    "from collections import defaultdict\n",
    "\n",
    "class Solution:\n",
    "    \n",
    "    def numOfMinutes(self, n: int, headID: int, manager: List[int], informTime: List[int]) -> int:\n",
    "        subordinates = defaultdict(list)\n",
    "        self.res = 0\n",
    "        for i, v in enumerate(manager):\n",
    "            subordinates[v].append(i)\n",
    "        \n",
    "        def dfs(manager, time):\n",
    "            self.res = max(self.res, time)\n",
    "            for subordinate in subordinates[manager]:\n",
    "                dfs(subordinate, time + informTime[subordinate])\n",
    "        dfs(headID, informTime[headID])        \n",
    "        return self.res"
   ]
  },
  {
   "cell_type": "markdown",
   "metadata": {},
   "source": [
    "# BFS - O(N) runtime, O(N) space"
   ]
  },
  {
   "cell_type": "code",
   "execution_count": 3,
   "metadata": {},
   "outputs": [],
   "source": [
    "from typing import List\n",
    "from collections import deque, defaultdict\n",
    "\n",
    "class Solution:\n",
    "    \n",
    "    def numOfMinutes(self, n: int, headID: int, manager: List[int], informTime: List[int]) -> int:\n",
    "        subordinatesDict = defaultdict(list)\n",
    "        \n",
    "        for i in range(n):\n",
    "            subordinatesDict[manager[i]].append(i)\n",
    "            \n",
    "        queue = deque([(headID, informTime[headID])])\n",
    "        result = 0\n",
    "        \n",
    "        while queue:\n",
    "            e, currTime = queue.popleft()\n",
    "            result = max(result, currTime)\n",
    "            \n",
    "            for subordinate in subordinatesDict[e]:\n",
    "                queue.append((subordinate, currTime + informTime[subordinate]))\n",
    "                \n",
    "        return result"
   ]
  },
  {
   "cell_type": "code",
   "execution_count": 4,
   "metadata": {},
   "outputs": [
    {
     "data": {
      "text/plain": [
       "3"
      ]
     },
     "execution_count": 4,
     "metadata": {},
     "output_type": "execute_result"
    }
   ],
   "source": [
    "instance = Solution()\n",
    "instance.numOfMinutes(15, 0, [-1,0,0,1,1,2,2,3,3,4,4,5,5,6,6], [1,1,1,1,1,1,1,0,0,0,0,0,0,0,0])"
   ]
  }
 ],
 "metadata": {
  "kernelspec": {
   "display_name": "Python 3",
   "language": "python",
   "name": "python3"
  },
  "language_info": {
   "codemirror_mode": {
    "name": "ipython",
    "version": 3
   },
   "file_extension": ".py",
   "mimetype": "text/x-python",
   "name": "python",
   "nbconvert_exporter": "python",
   "pygments_lexer": "ipython3",
   "version": "3.7.3"
  }
 },
 "nbformat": 4,
 "nbformat_minor": 2
}
