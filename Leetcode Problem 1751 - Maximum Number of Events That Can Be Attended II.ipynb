{
 "cells": [
  {
   "cell_type": "markdown",
   "metadata": {},
   "source": [
    "Problem Statement.\n",
    "\n",
    "You are given an array of events where events[i] = [startDayi, endDayi, valuei]. The ith event starts at startDayi and ends at endDayi, and if you attend this event, you will receive a value of valuei. You are also given an integer k which represents the maximum number of events you can attend.\n",
    "\n",
    "You can only attend one event at a time. If you choose to attend an event, you must attend the entire event. Note that the end day is inclusive: that is, you cannot attend two events where one of them starts and the other ends on the same day.\n",
    "\n",
    "Return the maximum sum of values that you can receive by attending events.\n",
    "\n",
    " \n",
    "\n",
    "Example 1:\n",
    "\n",
    "Input: events = [[1,2,4],[3,4,3],[2,3,1]], k = 2\n",
    "Output: 7\n",
    "Explanation: Choose the green events, 0 and 1 (0-indexed) for a total value of 4 + 3 = 7.\n",
    "\n",
    "Example 2:\n",
    "\n",
    "Input: events = [[1,2,4],[3,4,3],[2,3,10]], k = 2\n",
    "Output: 10\n",
    "Explanation: Choose event 2 for a total value of 10.\n",
    "Notice that you cannot attend any other event as they overlap, and that you do not have to attend k events.\n",
    "\n",
    "Example 3:\n",
    "\n",
    "Input: events = [[1,1,1],[2,2,2],[3,3,3],[4,4,4]], k = 3\n",
    "Output: 9\n",
    "Explanation: Although the events do not overlap, you can only attend 3 events. Pick the highest valued three.\n",
    "\n",
    " \n",
    "\n",
    "Constraints:\n",
    "\n",
    "    1 <= k <= events.length\n",
    "    1 <= k * events.length <= 10^6\n",
    "    1 <= startDayi <= endDayi <= 10^9\n",
    "    1 <= valuei <= 10^6"
   ]
  },
  {
   "cell_type": "markdown",
   "metadata": {},
   "source": [
    "# Dynamic Programming - O(K * N * Log N) runtime, O(N) space"
   ]
  },
  {
   "cell_type": "code",
   "execution_count": 1,
   "metadata": {},
   "outputs": [],
   "source": [
    "from typing import List\n",
    "from bisect import bisect\n",
    "\n",
    "class Solution:\n",
    "    def maxValue(self, events: List[List[int]], k: int) -> int:\n",
    "        events.sort(key=lambda x: x[1])\n",
    "        dp, dp2 = [[0, 0]], [[0, 0]]\n",
    "        \n",
    "        for _ in range(k):\n",
    "            for s, e, v in events:\n",
    "                i = bisect(dp, [s]) - 1\n",
    "                if dp[i][1] + v > dp2[-1][1]:\n",
    "                    dp2.append([e, dp[i][1] + v])\n",
    "                    \n",
    "            dp, dp2 = dp2, [[0, 0]]\n",
    "            \n",
    "        return dp[-1][-1]"
   ]
  },
  {
   "cell_type": "code",
   "execution_count": 2,
   "metadata": {},
   "outputs": [
    {
     "data": {
      "text/plain": [
       "9"
      ]
     },
     "execution_count": 2,
     "metadata": {},
     "output_type": "execute_result"
    }
   ],
   "source": [
    "instance = Solution()\n",
    "instance.maxValue([[1,1,1],[2,2,2],[3,3,3],[4,4,4]], 3)"
   ]
  }
 ],
 "metadata": {
  "kernelspec": {
   "display_name": "Python 3",
   "language": "python",
   "name": "python3"
  },
  "language_info": {
   "codemirror_mode": {
    "name": "ipython",
    "version": 3
   },
   "file_extension": ".py",
   "mimetype": "text/x-python",
   "name": "python",
   "nbconvert_exporter": "python",
   "pygments_lexer": "ipython3",
   "version": "3.7.3"
  }
 },
 "nbformat": 4,
 "nbformat_minor": 2
}
