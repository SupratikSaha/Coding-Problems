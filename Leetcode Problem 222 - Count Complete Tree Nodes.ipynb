{
 "cells": [
  {
   "cell_type": "markdown",
   "metadata": {},
   "source": [
    "Given a complete binary tree, count the number of nodes.\n",
    "\n",
    "Note:\n",
    "\n",
    "Definition of a complete binary tree from Wikipedia:\n",
    "In a complete binary tree every level, except possibly the last, is completely filled, and all nodes in the last level are as far left as possible. It can have between 1 and 2h nodes inclusive at the last level h.\n",
    "\n",
    "Example:\n",
    "\n",
    "Input:<br> \n",
    "    1 <br>\n",
    "   / \\ <br>\n",
    "  2   3 <br>\n",
    " / \\  / <br>\n",
    "4  5 6 <br>\n",
    "\n",
    "Output: 6\n",
    "\n"
   ]
  },
  {
   "cell_type": "markdown",
   "metadata": {},
   "source": [
    "# BFS - O(n) runtime, O(log n) space"
   ]
  },
  {
   "cell_type": "code",
   "execution_count": 1,
   "metadata": {},
   "outputs": [],
   "source": [
    "# Definition for a binary tree node.\n",
    "class TreeNode:\n",
    "    def __init__(self, val=0, left=None, right=None):\n",
    "        self.val = val\n",
    "        self.left = left\n",
    "        self.right = right\n",
    "        \n",
    "class Solution:\n",
    "    def countNodes(self, root: TreeNode) -> int:\n",
    "        if not root:\n",
    "            return 0\n",
    "        queue = []\n",
    "        queue.append(root)\n",
    "        count = 0\n",
    "        \n",
    "        while queue and len(queue) > 0:\n",
    "            node = queue.pop(0)\n",
    "            if not node:\n",
    "                break\n",
    "            count += 1\n",
    "            if node.left:\n",
    "                queue.append(node.left)\n",
    "            if node.right:\n",
    "                queue.append(node.right)\n",
    "                \n",
    "        return count"
   ]
  },
  {
   "cell_type": "markdown",
   "metadata": {},
   "source": [
    "# DFS - O(n) runtime, O(log n) space"
   ]
  },
  {
   "cell_type": "code",
   "execution_count": 3,
   "metadata": {},
   "outputs": [],
   "source": [
    "class TreeNode:\n",
    "    def __init__(self, val=0, left=None, right=None):\n",
    "        self.val = val\n",
    "        self.left = left\n",
    "        self.right = right\n",
    "        \n",
    "class Solution:\n",
    "    def countNodes(self, root: TreeNode) -> int:\n",
    "        if not root:\n",
    "            return 0\n",
    "\n",
    "        count_left =  self.countNodes(root.left) if root.left else 0\n",
    "        count_right = self.countNodes(root.right) if root.right else 0\n",
    "        \n",
    "        return 1 + count_left + count_right"
   ]
  },
  {
   "cell_type": "markdown",
   "metadata": {},
   "source": [
    "# Binary Search - O(d ^ 2) runtime, O(1) space where d is depth of the tree"
   ]
  },
  {
   "cell_type": "code",
   "execution_count": null,
   "metadata": {},
   "outputs": [],
   "source": [
    "# Definition for a binary tree node.\n",
    "class TreeNode:\n",
    "    def __init__(self, val=0, left=None, right=None):\n",
    "        self.val = val\n",
    "        self.left = left\n",
    "        self.right = right\n",
    "class Solution:\n",
    "        \n",
    "    def countNodes(self, root: TreeNode) -> int:\n",
    "        # if the tree is empty\n",
    "        if not root:\n",
    "            return 0\n",
    "        \n",
    "        d = self.compute_depth(root)\n",
    "        # if the tree contains 1 node\n",
    "        if d == 0:\n",
    "            return 1\n",
    "        \n",
    "        # Last level nodes are enumerated from 0 to 2**d - 1 (left -> right).\n",
    "        # Perform binary search to check how many nodes exist.\n",
    "        left, right = 1, 2**d - 1\n",
    "        while left <= right:\n",
    "            pivot = left + (right - left) // 2\n",
    "            if self.exists(pivot, d, root):\n",
    "                left = pivot + 1\n",
    "            else:\n",
    "                right = pivot - 1\n",
    "        \n",
    "        # The tree contains 2**d - 1 nodes on the first (d - 1) levels\n",
    "        # and left nodes on the last level.\n",
    "        return (2**d - 1) + left\n",
    "            \n",
    "    def compute_depth(self, node: TreeNode) -> int:\n",
    "        \"\"\"\n",
    "        Return tree depth in O(d) time.\n",
    "        \"\"\"\n",
    "        d = 0\n",
    "        while node.left:\n",
    "            node = node.left\n",
    "            d += 1\n",
    "        return d\n",
    "\n",
    "    def exists(self, idx: int, d: int, node: TreeNode) -> bool:\n",
    "        \"\"\"\n",
    "        Last level nodes are enumerated from 0 to 2**d - 1 (left -> right).\n",
    "        Return True if last level node idx exists. \n",
    "        Binary search with O(d) complexity.\n",
    "        \"\"\"\n",
    "        left, right = 0, 2**d - 1\n",
    "        for _ in range(d):\n",
    "            pivot = left + (right - left) // 2\n",
    "            if idx <= pivot:\n",
    "                node = node.left\n",
    "                right = pivot\n",
    "            else:\n",
    "                node = node.right\n",
    "                left = pivot + 1\n",
    "        return node is not None"
   ]
  }
 ],
 "metadata": {
  "kernelspec": {
   "display_name": "Python 3",
   "language": "python",
   "name": "python3"
  },
  "language_info": {
   "codemirror_mode": {
    "name": "ipython",
    "version": 3
   },
   "file_extension": ".py",
   "mimetype": "text/x-python",
   "name": "python",
   "nbconvert_exporter": "python",
   "pygments_lexer": "ipython3",
   "version": "3.7.3"
  }
 },
 "nbformat": 4,
 "nbformat_minor": 2
}
