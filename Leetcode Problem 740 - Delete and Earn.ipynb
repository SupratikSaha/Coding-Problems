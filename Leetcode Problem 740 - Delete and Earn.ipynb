{
 "cells": [
  {
   "cell_type": "markdown",
   "metadata": {},
   "source": [
    "Problem Statement.\n",
    "\n",
    "You are given an integer array nums. You want to maximize the number of points you get by performing the following operation any number of times:\n",
    "\n",
    "    Pick any nums[i] and delete it to earn nums[i] points. Afterwards, you must delete every element equal to nums[i] - 1 and every element equal to nums[i] + 1.\n",
    "\n",
    "Return the maximum number of points you can earn by applying the above operation some number of times.\n",
    "\n",
    " \n",
    "\n",
    "Example 1:\n",
    "\n",
    "Input: nums = [3,4,2]\n",
    "Output: 6\n",
    "Explanation: You can perform the following operations:\n",
    "- Delete 4 to earn 4 points. Consequently, 3 is also deleted. nums = [2].\n",
    "- Delete 2 to earn 2 points. nums = [].\n",
    "You earn a total of 6 points.\n",
    "\n",
    "Example 2:\n",
    "\n",
    "Input: nums = [2,2,3,3,3,4]\n",
    "Output: 9\n",
    "Explanation: You can perform the following operations:\n",
    "- Delete a 3 to earn 3 points. All 2's and 4's are also deleted. nums = [3,3].\n",
    "- Delete a 3 again to earn 3 points. nums = [3].\n",
    "- Delete a 3 once more to earn 3 points. nums = [].\n",
    "You earn a total of 9 points.\n",
    "\n",
    " \n",
    "\n",
    "Constraints:\n",
    "\n",
    "    1 <= nums.length <= 2 * 10^4\n",
    "    1 <= nums[i] <= 10^4"
   ]
  },
  {
   "cell_type": "markdown",
   "metadata": {},
   "source": [
    "# Recursion - Time Limit Exceeded - O(N ^ N) runtime, O(N) space"
   ]
  },
  {
   "cell_type": "code",
   "execution_count": 1,
   "metadata": {},
   "outputs": [],
   "source": [
    "from typing import List\n",
    "from collections import Counter\n",
    "\n",
    "class Solution:\n",
    "    def deleteAndEarn(self, nums: List[int]) -> int:\n",
    "        numSet = set(nums)\n",
    "        usedSet = set()\n",
    "        countDict = Counter(nums)\n",
    "        \n",
    "        def deleteAndEarnRecursive():\n",
    "            maxVal = 0\n",
    "            for num in numSet:\n",
    "                if num not in usedSet and countDict[num] > 0:\n",
    "                    countDict[num] -= 1\n",
    "                    nextNum, prevNum = False, False\n",
    "                    if num+1 in numSet and num+1 not in usedSet:\n",
    "                        nextNum = True\n",
    "                        usedSet.add(num+1)\n",
    "                    if num-1 in numSet and num-1 not in usedSet:\n",
    "                        prevNum = True\n",
    "                        usedSet.add(num-1)\n",
    "                    val = num + deleteAndEarnRecursive()\n",
    "                    maxVal = max(maxVal, val)\n",
    "                    countDict[num] += 1\n",
    "                    if nextNum: usedSet.remove(num+1)\n",
    "                    if prevNum: usedSet.remove(num-1)\n",
    "            return maxVal\n",
    "        \n",
    "        return deleteAndEarnRecursive()"
   ]
  },
  {
   "cell_type": "markdown",
   "metadata": {},
   "source": [
    "# Sort and DP - O(N Log N) runtime, O(N) space"
   ]
  },
  {
   "cell_type": "code",
   "execution_count": 3,
   "metadata": {},
   "outputs": [],
   "source": [
    "from typing import List\n",
    "from collections import Counter\n",
    "\n",
    "class Solution:\n",
    "    def deleteAndEarn(self, nums: List[int]) -> int:\n",
    "        count = Counter(nums)\n",
    "        prev = None\n",
    "        avoid = using = 0\n",
    "        for k in sorted(count):\n",
    "            if k - 1 != prev:\n",
    "                avoid, using = max(avoid, using), k * count[k] + max(avoid, using)\n",
    "            else:\n",
    "                avoid, using = max(avoid, using), k * count[k] + avoid\n",
    "            prev = k\n",
    "        return max(avoid, using)"
   ]
  },
  {
   "cell_type": "code",
   "execution_count": 4,
   "metadata": {},
   "outputs": [
    {
     "data": {
      "text/plain": [
       "9"
      ]
     },
     "execution_count": 4,
     "metadata": {},
     "output_type": "execute_result"
    }
   ],
   "source": [
    "instance = Solution()\n",
    "instance.deleteAndEarn([2,2,3,3,3,4])"
   ]
  }
 ],
 "metadata": {
  "kernelspec": {
   "display_name": "Python 3",
   "language": "python",
   "name": "python3"
  },
  "language_info": {
   "codemirror_mode": {
    "name": "ipython",
    "version": 3
   },
   "file_extension": ".py",
   "mimetype": "text/x-python",
   "name": "python",
   "nbconvert_exporter": "python",
   "pygments_lexer": "ipython3",
   "version": "3.7.3"
  }
 },
 "nbformat": 4,
 "nbformat_minor": 2
}
