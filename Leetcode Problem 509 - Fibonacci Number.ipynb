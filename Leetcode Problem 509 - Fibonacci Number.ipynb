{
 "cells": [
  {
   "cell_type": "markdown",
   "metadata": {},
   "source": [
    "Problem Statement.\n",
    "\n",
    "The Fibonacci numbers, commonly denoted F(n) form a sequence, called the Fibonacci sequence, such that each number is the sum of the two preceding ones, starting from 0 and 1. That is,\n",
    "\n",
    "F(0) = 0, F(1) = 1\n",
    "F(n) = F(n - 1) + F(n - 2), for n > 1.\n",
    "\n",
    "Given n, calculate F(n).\n",
    "\n",
    " \n",
    "\n",
    "Example 1:\n",
    "\n",
    "Input: n = 2\n",
    "Output: 1\n",
    "Explanation: F(2) = F(1) + F(0) = 1 + 0 = 1.\n",
    "\n",
    "Example 2:\n",
    "\n",
    "Input: n = 3\n",
    "Output: 2\n",
    "Explanation: F(3) = F(2) + F(1) = 1 + 1 = 2.\n",
    "\n",
    "Example 3:\n",
    "\n",
    "Input: n = 4\n",
    "Output: 3\n",
    "Explanation: F(4) = F(3) + F(2) = 2 + 1 = 3.\n",
    "\n",
    " \n",
    "\n",
    "Constraints:\n",
    "\n",
    "    0 <= n <= 30"
   ]
  },
  {
   "cell_type": "markdown",
   "metadata": {},
   "source": [
    "# Linear Traversal - O(N) runtime, O(1) space"
   ]
  },
  {
   "cell_type": "code",
   "execution_count": 2,
   "metadata": {},
   "outputs": [],
   "source": [
    "class Solution:\n",
    "    def fib(self, n: int) -> int:\n",
    "        if n <= 1: return n\n",
    "        a, b = 0, 1\n",
    "        for _ in range(2, n+1):\n",
    "            a, b = b, a+b\n",
    "            \n",
    "        return b"
   ]
  },
  {
   "cell_type": "markdown",
   "metadata": {},
   "source": [
    "# Matrix Exponentiation - O(Log N) runtime, O(Log N) space"
   ]
  },
  {
   "cell_type": "code",
   "execution_count": 5,
   "metadata": {},
   "outputs": [],
   "source": [
    "from typing import List\n",
    "\n",
    "class Solution:\n",
    "    def fib(self, n: int) -> int:\n",
    "        if (n <= 1):\n",
    "            return n\n",
    "\n",
    "        A = [[1, 1], [1, 0]]\n",
    "        self.matrix_power(A, n - 1)\n",
    "\n",
    "        return A[0][0]\n",
    "\n",
    "    def matrix_power(self, A: List[List[int]], N: int):\n",
    "        if (N <= 1):\n",
    "            return A\n",
    "\n",
    "        self.matrix_power(A, N // 2)\n",
    "        self.multiply(A, A)\n",
    "        B = [[1, 1], [1, 0]]\n",
    "\n",
    "        if (N % 2 != 0):\n",
    "            self.multiply(A, B)\n",
    "\n",
    "    def multiply(self, A: List[List[int]], B: List[List[int]]) -> None:\n",
    "        x = A[0][0] * B[0][0] + A[0][1] * B[1][0]\n",
    "        y = A[0][0] * B[0][1] + A[0][1] * B[1][1]\n",
    "        z = A[1][0] * B[0][0] + A[1][1] * B[1][0]\n",
    "        w = A[1][0] * B[0][1] + A[1][1] * B[1][1]\n",
    "\n",
    "        A[0][0] = x\n",
    "        A[0][1] = y\n",
    "        A[1][0] = z\n",
    "        A[1][1] = w"
   ]
  },
  {
   "cell_type": "markdown",
   "metadata": {},
   "source": [
    "# Math - O(Log N) runtime, O(1) space"
   ]
  },
  {
   "cell_type": "code",
   "execution_count": 7,
   "metadata": {},
   "outputs": [],
   "source": [
    "class Solution:\n",
    "    def fib(self, n: int) -> int:\n",
    "        golden_ratio = (1 + (5 ** 0.5)) / 2\n",
    "        return int(round((golden_ratio ** n) / (5 ** 0.5)))"
   ]
  },
  {
   "cell_type": "code",
   "execution_count": 8,
   "metadata": {},
   "outputs": [
    {
     "data": {
      "text/plain": [
       "3"
      ]
     },
     "execution_count": 8,
     "metadata": {},
     "output_type": "execute_result"
    }
   ],
   "source": [
    "instance = Solution()\n",
    "instance.fib(4)"
   ]
  }
 ],
 "metadata": {
  "kernelspec": {
   "display_name": "Python 3",
   "language": "python",
   "name": "python3"
  },
  "language_info": {
   "codemirror_mode": {
    "name": "ipython",
    "version": 3
   },
   "file_extension": ".py",
   "mimetype": "text/x-python",
   "name": "python",
   "nbconvert_exporter": "python",
   "pygments_lexer": "ipython3",
   "version": "3.7.3"
  }
 },
 "nbformat": 4,
 "nbformat_minor": 2
}
