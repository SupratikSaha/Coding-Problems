{
 "cells": [
  {
   "cell_type": "markdown",
   "metadata": {},
   "source": [
    "Problem Statement.\n",
    "\n",
    "Given an integer n, find a sequence that satisfies all of the following:\n",
    "\n",
    "    The integer 1 occurs once in the sequence.\n",
    "    Each integer between 2 and n occurs twice in the sequence.\n",
    "    For every integer i between 2 and n, the distance between the two occurrences of i is exactly i.\n",
    "\n",
    "The distance between two numbers on the sequence, a[i] and a[j], is the absolute difference of their indices, |j - i|.\n",
    "\n",
    "Return the lexicographically largest sequence. It is guaranteed that under the given constraints, there is always a solution.\n",
    "\n",
    "A sequence a is lexicographically larger than a sequence b (of the same length) if in the first position where a and b differ, sequence a has a number greater than the corresponding number in b. For example, [0,1,9,0] is lexicographically larger than [0,1,5,6] because the first position they differ is at the third number, and 9 is greater than 5.\n",
    "\n",
    "\n",
    "Example 1:\n",
    "\n",
    "Input: n = 3\n",
    "Output: [3,1,2,3,2]\n",
    "Explanation: [2,3,2,1,3] is also a valid sequence, but [3,1,2,3,2] is the lexicographically largest valid sequence.\n",
    "\n",
    "Example 2:\n",
    "\n",
    "Input: n = 5\n",
    "Output: [5,3,1,4,3,5,2,4,2]\n",
    "\n",
    " \n",
    "Constraints: 1 <= n <= 20"
   ]
  },
  {
   "cell_type": "markdown",
   "metadata": {},
   "source": [
    "# DFS with Backtracking - O(2 ^ N) runtime, O(N) space"
   ]
  },
  {
   "cell_type": "code",
   "execution_count": 1,
   "metadata": {},
   "outputs": [],
   "source": [
    "from typing import List\n",
    "\n",
    "class Solution:\n",
    "    def constructDistancedSequence(self, n: int) -> List[int]:\n",
    "        m = 2*n-1\n",
    "        A, V = [0] * m, [False] * (n+1)\n",
    "        \n",
    "        def dfs(i):\n",
    "            if i == m: return all(A)\n",
    "            if A[i]: return dfs(i+1)\n",
    "            \n",
    "            for x in range(n, 0, -1):\n",
    "                j = i if x == 1 else i+x    # This is only to combine some lines of code.\n",
    "                if not V[x] and j < m and not A[j]:\n",
    "                    A[i], A[j], V[x] = x, x, True\n",
    "                    if dfs(i+1): return True\n",
    "                    A[i], A[j], V[x] = 0, 0, False\n",
    "            return False\n",
    "        \n",
    "        dfs(0)\n",
    "        return A"
   ]
  },
  {
   "cell_type": "code",
   "execution_count": 2,
   "metadata": {},
   "outputs": [
    {
     "data": {
      "text/plain": [
       "[5, 3, 1, 4, 3, 5, 2, 4, 2]"
      ]
     },
     "execution_count": 2,
     "metadata": {},
     "output_type": "execute_result"
    }
   ],
   "source": [
    "instance = Solution()\n",
    "instance.constructDistancedSequence(5)"
   ]
  }
 ],
 "metadata": {
  "kernelspec": {
   "display_name": "Python 3",
   "language": "python",
   "name": "python3"
  },
  "language_info": {
   "codemirror_mode": {
    "name": "ipython",
    "version": 3
   },
   "file_extension": ".py",
   "mimetype": "text/x-python",
   "name": "python",
   "nbconvert_exporter": "python",
   "pygments_lexer": "ipython3",
   "version": "3.7.3"
  }
 },
 "nbformat": 4,
 "nbformat_minor": 2
}
