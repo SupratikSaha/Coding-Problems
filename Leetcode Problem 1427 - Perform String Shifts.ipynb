{
 "cells": [
  {
   "cell_type": "markdown",
   "metadata": {},
   "source": [
    "Problem Statement.\n",
    "\n",
    "You are given a string s containing lowercase English letters, and a matrix shift, where shift[i] = [directioni, amounti]:\n",
    "\n",
    "    directioni can be 0 (for left shift) or 1 (for right shift).\n",
    "    amounti is the amount by which string s is to be shifted.\n",
    "    A left shift by 1 means remove the first character of s and append it to the end.\n",
    "    Similarly, a right shift by 1 means remove the last character of s and add it to the beginning.\n",
    "\n",
    "Return the final string after all operations.\n",
    "\n",
    " \n",
    "\n",
    "Example 1:\n",
    "\n",
    "Input: s = \"abc\", shift = [[0,1],[1,2]]\n",
    "Output: \"cab\"\n",
    "Explanation: \n",
    "[0,1] means shift to left by 1. \"abc\" -> \"bca\"\n",
    "[1,2] means shift to right by 2. \"bca\" -> \"cab\"\n",
    "\n",
    "Example 2:\n",
    "\n",
    "Input: s = \"abcdefg\", shift = [[1,1],[1,1],[0,2],[1,3]]\n",
    "Output: \"efgabcd\"\n",
    "Explanation:  \n",
    "[1,1] means shift to right by 1. \"abcdefg\" -> \"gabcdef\"\n",
    "[1,1] means shift to right by 1. \"gabcdef\" -> \"fgabcde\"\n",
    "[0,2] means shift to left by 2. \"fgabcde\" -> \"abcdefg\"\n",
    "[1,3] means shift to right by 3. \"abcdefg\" -> \"efgabcd\"\n",
    "\n",
    " \n",
    "\n",
    "Constraints:\n",
    "\n",
    "    1 <= s.length <= 100\n",
    "    s only contains lower case English letters.\n",
    "    1 <= shift.length <= 100\n",
    "    shift[i].length == 2\n",
    "    directioni is either 0 or 1.\n",
    "    0 <= amounti <= 100"
   ]
  },
  {
   "cell_type": "markdown",
   "metadata": {},
   "source": [
    "# List Traversal - O(S + N) runtime, O(N) space"
   ]
  },
  {
   "cell_type": "code",
   "execution_count": 1,
   "metadata": {},
   "outputs": [],
   "source": [
    "from typing import List\n",
    "\n",
    "class Solution:\n",
    "    def stringShift(self, s: str, shift: List[List[int]]) -> str:\n",
    "        n = len(s)\n",
    "        totalShiftVal = 0\n",
    "        for dir, shiftVal in shift:\n",
    "            if dir == 0: totalShiftVal -= shiftVal\n",
    "            else: totalShiftVal += shiftVal\n",
    "                \n",
    "        totalShiftVal %= n\n",
    "        if totalShiftVal < 0: s = s[abs(totalShiftVal):] + s[:abs(totalShiftVal)]\n",
    "        elif totalShiftVal > 0: s = s[-totalShiftVal:] + s[:n - totalShiftVal]\n",
    "            \n",
    "        return s"
   ]
  },
  {
   "cell_type": "markdown",
   "metadata": {},
   "source": [
    "# Optimized List Traversal - O(S + N) runtime, O(N) space"
   ]
  },
  {
   "cell_type": "code",
   "execution_count": 3,
   "metadata": {},
   "outputs": [],
   "source": [
    "from typing import List\n",
    "\n",
    "class Solution:\n",
    "    def stringShift(self, s: str, shift: List[List[int]]) -> str:\n",
    "        n = len(s)\n",
    "        leftShiftVal = 0\n",
    "        for dir, shiftVal in shift:\n",
    "            if dir == 0: leftShiftVal += shiftVal\n",
    "            else: leftShiftVal -= shiftVal\n",
    "                \n",
    "        leftShiftVal %= n\n",
    "        s = s[leftShiftVal:] + s[:leftShiftVal]\n",
    "            \n",
    "        return s"
   ]
  },
  {
   "cell_type": "code",
   "execution_count": 4,
   "metadata": {},
   "outputs": [
    {
     "data": {
      "text/plain": [
       "'efgabcd'"
      ]
     },
     "execution_count": 4,
     "metadata": {},
     "output_type": "execute_result"
    }
   ],
   "source": [
    "instance = Solution()\n",
    "instance.stringShift(\"abcdefg\", [[1,1],[1,1],[0,2],[1,3]])"
   ]
  }
 ],
 "metadata": {
  "kernelspec": {
   "display_name": "Python 3",
   "language": "python",
   "name": "python3"
  },
  "language_info": {
   "codemirror_mode": {
    "name": "ipython",
    "version": 3
   },
   "file_extension": ".py",
   "mimetype": "text/x-python",
   "name": "python",
   "nbconvert_exporter": "python",
   "pygments_lexer": "ipython3",
   "version": "3.7.3"
  }
 },
 "nbformat": 4,
 "nbformat_minor": 2
}
