{
 "cells": [
  {
   "cell_type": "markdown",
   "metadata": {},
   "source": [
    "Problem Statement.\n",
    "\n",
    "You want to schedule a list of jobs in d days. Jobs are dependent (i.e To work on the i-th job, you have to finish all the jobs j where 0 <= j < i).\n",
    "\n",
    "You have to finish at least one task every day. The difficulty of a job schedule is the sum of difficulties of each day of the d days. The difficulty of a day is the maximum difficulty of a job done in that day.\n",
    "\n",
    "Given an array of integers jobDifficulty and an integer d. The difficulty of the i-th job is jobDifficulty[i].\n",
    "\n",
    "Return the minimum difficulty of a job schedule. If you cannot find a schedule for the jobs return -1.\n",
    "\n",
    " \n",
    "\n",
    "Example 1:\n",
    "\n",
    "Input: jobDifficulty = [6,5,4,3,2,1], d = 2\n",
    "Output: 7\n",
    "Explanation: First day you can finish the first 5 jobs, total difficulty = 6.\n",
    "Second day you can finish the last job, total difficulty = 1.\n",
    "The difficulty of the schedule = 6 + 1 = 7 \n",
    "\n",
    "Example 2:\n",
    "\n",
    "Input: jobDifficulty = [9,9,9], d = 4\n",
    "Output: -1\n",
    "Explanation: If you finish a job per day you will still have a free day. you cannot find a schedule for the given jobs.\n",
    "\n",
    "Example 3:\n",
    "\n",
    "Input: jobDifficulty = [1,1,1], d = 3\n",
    "Output: 3\n",
    "Explanation: The schedule is one job per day. total difficulty will be 3.\n",
    "\n",
    "Example 4:\n",
    "\n",
    "Input: jobDifficulty = [7,1,7,1,7,1], d = 3\n",
    "Output: 15\n",
    "\n",
    "Example 5:\n",
    "\n",
    "Input: jobDifficulty = [11,111,22,222,33,333,44,444], d = 6\n",
    "Output: 843\n",
    "\n",
    " \n",
    "\n",
    "Constraints:\n",
    "\n",
    "    1 <= jobDifficulty.length <= 300\n",
    "    0 <= jobDifficulty[i] <= 1000\n",
    "    1 <= d <= 10"
   ]
  },
  {
   "cell_type": "markdown",
   "metadata": {},
   "source": [
    "# Top Down DP - O(N ^ 2 * D) runtime, O(N ^ 2 * D) space"
   ]
  },
  {
   "cell_type": "code",
   "execution_count": 2,
   "metadata": {},
   "outputs": [],
   "source": [
    "from typing import Dict, List, Tuple\n",
    "\n",
    "class Solution:\n",
    "    def minDifficulty(self, jobDifficulty: List[int], d: int) -> int:\n",
    "        if len(jobDifficulty) < d: return -1\n",
    "        dp = {}\n",
    "        return self.minDifficultyRecursive(dp, jobDifficulty, d, 0, 0)\n",
    "    \n",
    "    def minDifficultyRecursive(self, dp: Dict[Tuple, int], jobDifficulty: List[int], d: int, beginidx: int, endidx: int) -> int:\n",
    "        n = len(jobDifficulty)\n",
    "        if endidx == n: return max(jobDifficulty[beginidx: endidx])\n",
    "        \n",
    "        if dp.get((d, beginidx, endidx)) is None:\n",
    "        \n",
    "            sameDay = float('inf')\n",
    "            if endidx < n - d or (endidx == n - d  and d == 1):\n",
    "                sameDay = self.minDifficultyRecursive(dp, jobDifficulty, d, beginidx, endidx + 1)\n",
    "            switchDay = float('inf')\n",
    "            if d > 1:\n",
    "                switchDay = max(jobDifficulty[beginidx: endidx+1]) + self.minDifficultyRecursive(dp, jobDifficulty, d-1, endidx + 1, endidx + 1)\n",
    "        \n",
    "            dp[(d, beginidx, endidx)] = min(sameDay, switchDay)\n",
    "        \n",
    "        return dp[(d, beginidx, endidx)]"
   ]
  },
  {
   "cell_type": "markdown",
   "metadata": {},
   "source": [
    "# Bottom Up DP - Top Down DP - O(N ^ 2 * D) runtime, O(N * D) space"
   ]
  },
  {
   "cell_type": "code",
   "execution_count": 4,
   "metadata": {},
   "outputs": [],
   "source": [
    "from typing import List\n",
    "\n",
    "class Solution:\n",
    "    def minDifficulty(self, jobDifficulty: List[int], d: int) -> int:\n",
    "        n, inf = len(jobDifficulty), float('inf')\n",
    "        dp = [[inf] * n + [0] for i in range(d + 1)]\n",
    "        for d in range(1, d + 1):\n",
    "            for i in range(n - d + 1):\n",
    "                maxd = 0\n",
    "                for j in range(i, n - d + 1):\n",
    "                    maxd = max(maxd, jobDifficulty[j])\n",
    "                    dp[d][i] = min(dp[d][i], maxd + dp[d - 1][j + 1])\n",
    "        return dp[d][0] if dp[d][0] < inf else -1"
   ]
  },
  {
   "cell_type": "markdown",
   "metadata": {},
   "source": [
    "# Space Optimized Bottom Up DP - O(N ^ 2 * D) runtime, O(N) space"
   ]
  },
  {
   "cell_type": "code",
   "execution_count": null,
   "metadata": {},
   "outputs": [],
   "source": []
  },
  {
   "cell_type": "markdown",
   "metadata": {},
   "source": [
    "# Stack - O(N * D) runtime, O(N) space"
   ]
  },
  {
   "cell_type": "code",
   "execution_count": 6,
   "metadata": {},
   "outputs": [],
   "source": [
    "from typing import List\n",
    "\n",
    "class Solution:\n",
    "    def minDifficulty(self, jobDifficulty: List[int], d: int) -> int:\n",
    "        n = len(jobDifficulty)\n",
    "        if n < d: return -1\n",
    "        dp, dp2 = [float('inf')] * n, [0] * n\n",
    "        for d in range(d):\n",
    "            stack = []\n",
    "            for i in range(d, n):\n",
    "                dp2[i] = dp[i - 1] + jobDifficulty[i] if i else jobDifficulty[i]\n",
    "                while stack and jobDifficulty[stack[-1]] <= jobDifficulty[i]:\n",
    "                    j = stack.pop()\n",
    "                    dp2[i] = min(dp2[i], dp2[j] - jobDifficulty[j] + jobDifficulty[i])\n",
    "                if stack:\n",
    "                    dp2[i] = min(dp2[i], dp2[stack[-1]])\n",
    "                stack.append(i)\n",
    "            dp, dp2 = dp2, dp\n",
    "        return dp[-1]"
   ]
  },
  {
   "cell_type": "code",
   "execution_count": 7,
   "metadata": {},
   "outputs": [
    {
     "data": {
      "text/plain": [
       "843"
      ]
     },
     "execution_count": 7,
     "metadata": {},
     "output_type": "execute_result"
    }
   ],
   "source": [
    "instance = Solution()\n",
    "instance.minDifficulty( [11,111,22,222,33,333,44,444], 6)"
   ]
  }
 ],
 "metadata": {
  "kernelspec": {
   "display_name": "Python 3",
   "language": "python",
   "name": "python3"
  },
  "language_info": {
   "codemirror_mode": {
    "name": "ipython",
    "version": 3
   },
   "file_extension": ".py",
   "mimetype": "text/x-python",
   "name": "python",
   "nbconvert_exporter": "python",
   "pygments_lexer": "ipython3",
   "version": "3.7.3"
  }
 },
 "nbformat": 4,
 "nbformat_minor": 2
}
