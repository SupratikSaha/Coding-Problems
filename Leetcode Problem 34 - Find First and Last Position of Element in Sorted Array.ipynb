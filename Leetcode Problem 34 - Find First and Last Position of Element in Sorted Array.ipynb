{
 "cells": [
  {
   "cell_type": "code",
   "execution_count": 10,
   "metadata": {},
   "outputs": [],
   "source": [
    "class Solution:\n",
    "    def searchRange(self, nums, target):\n",
    "        if not isinstance(nums,(list)) or not isinstance(target, (int)):\n",
    "            return [-1,-1]\n",
    "        \n",
    "        length = len(nums)\n",
    "        start = -1\n",
    "        \n",
    "        if length == 0:\n",
    "            return [-1,-1]\n",
    "        \n",
    "        for ctr in range(0,length):\n",
    "            if(nums[ctr] == target):\n",
    "                end = ctr\n",
    "                \n",
    "                if start == -1:\n",
    "                    start = ctr\n",
    "        \n",
    "        if start == -1:\n",
    "            return [-1,-1]\n",
    "        else:\n",
    "            return [start,end]"
   ]
  },
  {
   "cell_type": "code",
   "execution_count": 14,
   "metadata": {},
   "outputs": [
    {
     "data": {
      "text/plain": [
       "[-1, -1]"
      ]
     },
     "execution_count": 14,
     "metadata": {},
     "output_type": "execute_result"
    }
   ],
   "source": [
    "Instance = Solution()\n",
    "Instance.searchRange([5,7,7,8,8,10],6)"
   ]
  }
 ],
 "metadata": {
  "kernelspec": {
   "display_name": "Python 3",
   "language": "python",
   "name": "python3"
  },
  "language_info": {
   "codemirror_mode": {
    "name": "ipython",
    "version": 3
   },
   "file_extension": ".py",
   "mimetype": "text/x-python",
   "name": "python",
   "nbconvert_exporter": "python",
   "pygments_lexer": "ipython3",
   "version": "3.7.3"
  }
 },
 "nbformat": 4,
 "nbformat_minor": 2
}
