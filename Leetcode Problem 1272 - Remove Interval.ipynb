{
 "cells": [
  {
   "cell_type": "markdown",
   "metadata": {},
   "source": [
    "Problem Statement.\n",
    "\n",
    "A set of real numbers can be represented as the union of several disjoint intervals, where each interval is in the form [a, b). A real number x is in the set if one of its intervals [a, b) contains x (i.e. a <= x < b).\n",
    "\n",
    "You are given a sorted list of disjoint intervals intervals representing a set of real numbers as described above, where intervals[i] = [ai, bi] represents the interval [ai, bi). You are also given another interval toBeRemoved.\n",
    "\n",
    "Return the set of real numbers with the interval toBeRemoved removed from intervals. In other words, return the set of real numbers such that every x in the set is in intervals but not in toBeRemoved. Your answer should be a sorted list of disjoint intervals as described above.\n",
    "\n",
    " \n",
    "\n",
    "Example 1:\n",
    "\n",
    "Input: intervals = [[0,2],[3,4],[5,7]], toBeRemoved = [1,6]\n",
    "Output: [[0,1],[6,7]]\n",
    "\n",
    "Example 2:\n",
    "\n",
    "Input: intervals = [[0,5]], toBeRemoved = [2,3]\n",
    "Output: [[0,2],[3,5]]\n",
    "\n",
    "Example 3:\n",
    "\n",
    "Input: intervals = [[-5,-4],[-3,-2],[1,2],[3,5],[8,9]], toBeRemoved = [-1,4]\n",
    "Output: [[-5,-4],[-3,-2],[4,5],[8,9]]\n",
    "\n",
    " \n",
    "\n",
    "Constraints:\n",
    "\n",
    "    1 <= intervals.length <= 10^4\n",
    "    -10^9 <= ai < bi <= 10^9"
   ]
  },
  {
   "cell_type": "markdown",
   "metadata": {},
   "source": [
    "# Linear Search - O(N) runtime, O(1) space"
   ]
  },
  {
   "cell_type": "code",
   "execution_count": null,
   "metadata": {},
   "outputs": [],
   "source": [
    "from typing import List\n",
    "\n",
    "class Solution:\n",
    "    def removeInterval(self, intervals: List[List[int]], toBeRemoved: List[int]) -> List[List[int]]:\n",
    "        remove_start, remove_end = toBeRemoved\n",
    "        output = []\n",
    "\n",
    "        for start, end in intervals:\n",
    "            # If there are no overlaps, add the interval to the list as is.\n",
    "            if start > remove_end or end < remove_start:\n",
    "                output.append([start, end])\n",
    "            else:\n",
    "                # Is there a left interval we need to keep?\n",
    "                if start < remove_start:\n",
    "                    output.append([start, remove_start])\n",
    "                # Is there a right interval we need to keep?\n",
    "                if end > remove_end:\n",
    "                    output.append([remove_end, end])\n",
    "\n",
    "        return output"
   ]
  },
  {
   "cell_type": "markdown",
   "metadata": {},
   "source": [
    "# Binary Search - O(N) runtime, O(1) space"
   ]
  },
  {
   "cell_type": "code",
   "execution_count": 1,
   "metadata": {},
   "outputs": [],
   "source": [
    "from typing import List\n",
    "\n",
    "class Solution:\n",
    "    def removeInterval(self, intervals: List[List[int]], toBeRemoved: List[int]) -> List[List[int]]:\n",
    "        n = len(intervals)\n",
    "        \n",
    "        def get_index(num):\n",
    "            left, right = 0, n - 1\n",
    "            pos = None\n",
    "            while left <= right:\n",
    "                mid = left + (right - left) // 2\n",
    "                if intervals[mid][0] <= num < intervals[mid][1]:\n",
    "                    return mid, True\n",
    "                if num < intervals[mid][0]:\n",
    "                    right = mid - 1\n",
    "                    pos = mid\n",
    "                else: \n",
    "                    left = mid + 1\n",
    "                    pos = mid + 1\n",
    "                    \n",
    "            return pos, False\n",
    "        \n",
    "        result = []\n",
    "        \n",
    "        leftIndex, inBetween = get_index(toBeRemoved[0])\n",
    "        result = list(intervals[0:leftIndex])\n",
    "        if toBeRemoved[0] > intervals[leftIndex][0]: \n",
    "            result.append([intervals[leftIndex][0], toBeRemoved[0]])\n",
    "        \n",
    "        rightIndex, inBetween = get_index(toBeRemoved[1])\n",
    "        if inBetween: \n",
    "            result.append([toBeRemoved[1], intervals[rightIndex][1]])\n",
    "            rightIndex += 1\n",
    "        if rightIndex < n:\n",
    "            result += list(intervals[rightIndex:])\n",
    "\n",
    "        return result"
   ]
  },
  {
   "cell_type": "code",
   "execution_count": 2,
   "metadata": {},
   "outputs": [
    {
     "data": {
      "text/plain": [
       "[[-5, -4], [-3, -2], [4, 5], [8, 9]]"
      ]
     },
     "execution_count": 2,
     "metadata": {},
     "output_type": "execute_result"
    }
   ],
   "source": [
    "instance = Solution()\n",
    "instance.removeInterval([[-5,-4],[-3,-2],[1,2],[3,5],[8,9]], [-1,4])"
   ]
  }
 ],
 "metadata": {
  "kernelspec": {
   "display_name": "Python 3",
   "language": "python",
   "name": "python3"
  },
  "language_info": {
   "codemirror_mode": {
    "name": "ipython",
    "version": 3
   },
   "file_extension": ".py",
   "mimetype": "text/x-python",
   "name": "python",
   "nbconvert_exporter": "python",
   "pygments_lexer": "ipython3",
   "version": "3.7.3"
  }
 },
 "nbformat": 4,
 "nbformat_minor": 2
}
