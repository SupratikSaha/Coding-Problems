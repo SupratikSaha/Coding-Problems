{
 "cells": [
  {
   "cell_type": "markdown",
   "metadata": {},
   "source": [
    "    Problem Statement.\n",
    "\n",
    "    Table: Employee\n",
    "\n",
    "    +---------------+---------+\n",
    "    | Column Name   |  Type   |\n",
    "    +---------------+---------+\n",
    "    | employee_id   | int     |\n",
    "    | department_id | int     |\n",
    "    | primary_flag  | varchar |\n",
    "    +---------------+---------+\n",
    "    (employee_id, department_id) is the primary key for this table.\n",
    "    employee_id is the id of the employee.\n",
    "    department_id is the id of the department to which the employee belongs.\n",
    "    primary_flag is an ENUM of type ('Y', 'N'). If the flag is 'Y', the department is the primary department for the employee. If the flag is 'N', the department is not the primary.\n",
    "\n",
    "\n",
    "\n",
    "    Employees can belong to multiple departments. When the employee joins other departments, they need to decide which department is their primary department. Note that when an employee belongs to only one department, their primary column is 'N'.\n",
    "\n",
    "    Write an SQL query to report all the employees with their primary department. For employees who belong to one department, report their only department.\n",
    "\n",
    "    Return the result table in any order.\n",
    "\n",
    "    The query result format is in the following example.\n",
    "\n",
    "\n",
    "\n",
    "    Employee table:\n",
    "    +-------------+---------------+--------------+\n",
    "    | employee_id | department_id | primary_flag |\n",
    "    +-------------+---------------+--------------+\n",
    "    | 1           | 1             | N            |\n",
    "    | 2           | 1             | Y            |\n",
    "    | 2           | 2             | N            |\n",
    "    | 3           | 3             | N            |\n",
    "    | 4           | 2             | N            |\n",
    "    | 4           | 3             | Y            |\n",
    "    | 4           | 4             | N            |\n",
    "    +-------------+---------------+--------------+\n",
    "\n",
    "    Result table:\n",
    "    +-------------+---------------+\n",
    "    | employee_id | department_id |\n",
    "    +-------------+---------------+\n",
    "    | 1           | 1             |\n",
    "    | 2           | 1             |\n",
    "    | 3           | 3             |\n",
    "    | 4           | 3             |\n",
    "    +-------------+---------------+\n",
    "    - The Primary department for employee 1 is 1.\n",
    "    - The Primary department for employee 2 is 1.\n",
    "    - The Primary department for employee 3 is 3.\n",
    "    - The Primary department for employee 4 is 3."
   ]
  },
  {
   "cell_type": "markdown",
   "metadata": {},
   "source": [
    "# Join"
   ]
  },
  {
   "cell_type": "code",
   "execution_count": null,
   "metadata": {},
   "outputs": [],
   "source": [
    "select employee_id, department_id\n",
    "from Employee a\n",
    "join (select employee_id, count(*) as countdepts\n",
    "from Employee\n",
    "group by 1) b using(employee_id)\n",
    "where primary_flag = 'Y' or countdepts = 1"
   ]
  }
 ],
 "metadata": {
  "kernelspec": {
   "display_name": "Python 3",
   "language": "python",
   "name": "python3"
  },
  "language_info": {
   "codemirror_mode": {
    "name": "ipython",
    "version": 3
   },
   "file_extension": ".py",
   "mimetype": "text/x-python",
   "name": "python",
   "nbconvert_exporter": "python",
   "pygments_lexer": "ipython3",
   "version": "3.7.3"
  }
 },
 "nbformat": 4,
 "nbformat_minor": 2
}
