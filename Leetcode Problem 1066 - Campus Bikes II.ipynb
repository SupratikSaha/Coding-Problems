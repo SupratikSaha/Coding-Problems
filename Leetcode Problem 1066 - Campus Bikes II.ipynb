{
 "cells": [
  {
   "cell_type": "markdown",
   "metadata": {},
   "source": [
    "Problem Statement.\n",
    "\n",
    "On a campus represented as a 2D grid, there are N workers and M bikes, with N <= M. Each worker and bike is a 2D coordinate on this grid.\n",
    "\n",
    "We assign one unique bike to each worker so that the sum of the Manhattan distances between each worker and their assigned bike is minimized.\n",
    "\n",
    "The Manhattan distance between two points p1 and p2 is Manhattan(p1, p2) = |p1.x - p2.x| + |p1.y - p2.y|.\n",
    "\n",
    "Return the minimum possible sum of Manhattan distances between each worker and their assigned bike.\n",
    "\n",
    " \n",
    "\n",
    "Example 1:\n",
    "\n",
    "Input: workers = [[0,0],[2,1]], bikes = [[1,2],[3,3]]\n",
    "Output: 6\n",
    "Explanation: \n",
    "We assign bike 0 to worker 0, bike 1 to worker 1. The Manhattan distance of both assignments is 3, so the output is 6.\n",
    "\n",
    "Example 2:\n",
    "\n",
    "Input: workers = [[0,0],[1,1],[2,0]], bikes = [[1,0],[2,2],[2,1]]\n",
    "Output: 4\n",
    "Explanation: \n",
    "We first assign bike 0 to worker 0, then assign bike 1 to worker 1 or worker 2, bike 2 to worker 2 or worker 1. Both assignments lead to sum of the Manhattan distances as 4.\n",
    "\n",
    "Example 3:\n",
    "\n",
    "Input: workers = [[0,0],[1,0],[2,0],[3,0],[4,0]], bikes = [[0,999],[1,999],[2,999],[3,999],[4,999]]\n",
    "Output: 4995\n",
    "\n",
    " \n",
    "\n",
    "Constraints:\n",
    "\n",
    "    N == workers.length\n",
    "    M == bikes.length\n",
    "    1 <= N <= M <= 10\n",
    "    workers[i].length == 2\n",
    "    bikes[i].length == 2\n",
    "    0 <= workers[i][0], workers[i][1], bikes[i][0], bikes[i][1] < 1000\n",
    "    All the workers and the bikes locations are unique."
   ]
  },
  {
   "cell_type": "markdown",
   "metadata": {},
   "source": [
    "# DFS with memoizatio - O(B Combination W) runtime, O(B Combination W) space"
   ]
  },
  {
   "cell_type": "code",
   "execution_count": 3,
   "metadata": {},
   "outputs": [],
   "source": [
    "from typing import List\n",
    "import heapq\n",
    "\n",
    "class Solution:\n",
    "    def assignBikes(self, workers: List[List[int]], bikes: List[List[int]]) -> List[int]:\n",
    "        dic = {}\n",
    "        \n",
    "        def helper(a,b):\n",
    "            return abs(a[0] - b[0]) + abs(a[1] - b[1])\n",
    "        \n",
    "        def dfs(p, arr):\n",
    "            if p == len(workers):\n",
    "                return 0\n",
    "            if (p, tuple(arr)) in dic:\n",
    "                return dic[(p, tuple(arr))]\n",
    "            temp = float('inf')\n",
    "            for i in range(len(arr)):\n",
    "                if arr[i] == 0:\n",
    "                    temp = min(temp,  helper(bikes[i], workers[p]) + dfs(p + 1, arr[:i] + [1] + arr[i + 1:]))\n",
    "            dic[(p, tuple(arr))] = temp\n",
    "            return temp\n",
    "        \n",
    "        ans = dfs(0, [0 for _ in range(len(bikes))])\n",
    "        return ans"
   ]
  },
  {
   "cell_type": "markdown",
   "metadata": {},
   "source": [
    "# Heap with Bitmask - O(B Combination W) runtime, O(B Combination W) space"
   ]
  },
  {
   "cell_type": "code",
   "execution_count": 5,
   "metadata": {},
   "outputs": [],
   "source": [
    "from typing import List\n",
    "import heapq\n",
    "\n",
    "class Solution:\n",
    "    def assignBikes(self, workers: List[List[int]], bikes: List[List[int]]) -> int:\n",
    "\n",
    "        def dis(i, j):\n",
    "            return abs(workers[i][0] - bikes[j][0]) + abs(workers[i][1] - bikes[j][1])\n",
    "        \n",
    "        h = [[0, 0, 0]]\n",
    "        seen = set()\n",
    "        \n",
    "        while True:\n",
    "            cost, i, taken = heapq.heappop(h)\n",
    "            if (i, taken) in seen: continue\n",
    "            seen.add((i, taken))\n",
    "            if i == len(workers):\n",
    "                return cost\n",
    "            for j in range(len(bikes)):\n",
    "                if taken & (1 << j) == 0:\n",
    "                    heapq.heappush(h, [cost + dis(i, j), i + 1, taken | (1 << j)])"
   ]
  },
  {
   "cell_type": "code",
   "execution_count": 6,
   "metadata": {},
   "outputs": [
    {
     "data": {
      "text/plain": [
       "4"
      ]
     },
     "execution_count": 6,
     "metadata": {},
     "output_type": "execute_result"
    }
   ],
   "source": [
    "instance = Solution()\n",
    "instance.assignBikes( [[0,0],[1,1],[2,0]], [[1,0],[2,2],[2,1]])"
   ]
  }
 ],
 "metadata": {
  "kernelspec": {
   "display_name": "Python 3",
   "language": "python",
   "name": "python3"
  },
  "language_info": {
   "codemirror_mode": {
    "name": "ipython",
    "version": 3
   },
   "file_extension": ".py",
   "mimetype": "text/x-python",
   "name": "python",
   "nbconvert_exporter": "python",
   "pygments_lexer": "ipython3",
   "version": "3.7.3"
  }
 },
 "nbformat": 4,
 "nbformat_minor": 2
}
