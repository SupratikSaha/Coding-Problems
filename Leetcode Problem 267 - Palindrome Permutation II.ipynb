{
 "cells": [
  {
   "cell_type": "markdown",
   "metadata": {},
   "source": [
    "Problem Statement.\n",
    "\n",
    "Given a string s, return all the palindromic permutations (without duplicates) of it.\n",
    "\n",
    "You may return the answer in any order. If s has no palindromic permutation, return an empty list.\n",
    "\n",
    " \n",
    "\n",
    "Example 1:\n",
    "\n",
    "Input: s = \"aabb\"\n",
    "Output: [\"abba\",\"baab\"]\n",
    "\n",
    "Example 2:\n",
    "\n",
    "Input: s = \"abc\"\n",
    "Output: []\n",
    "\n",
    " \n",
    "\n",
    "Constraints:\n",
    "\n",
    "    1 <= s.length <= 16\n",
    "    s consists of only lowercase English letters."
   ]
  },
  {
   "cell_type": "markdown",
   "metadata": {},
   "source": [
    "# Backtracking - O((n/2 + 1)!) runtime, O(n) space"
   ]
  },
  {
   "cell_type": "code",
   "execution_count": 1,
   "metadata": {},
   "outputs": [],
   "source": [
    "from typing import List\n",
    "from collections import Counter\n",
    "\n",
    "class Solution:\n",
    "    def generatePalindromes(self, s: str) -> List[str]:\n",
    "        freq = Counter(s)\n",
    "        \n",
    "        mid = None\n",
    "        numOdds = 0\n",
    "        for k, v in freq.items(): \n",
    "            if v&1:\n",
    "                numOdds += 1\n",
    "                if numOdds > 1: return []\n",
    "                mid = k\n",
    "                \n",
    "        def fn(x):\n",
    "            \"\"\"Populate ans via backtracking.\"\"\"\n",
    "            if len(x) == len(s): ans.append(x)\n",
    "            for k, v in freq.items(): \n",
    "                if v >= 2: \n",
    "                    freq[k] -= 2\n",
    "                    fn(k + x + k)\n",
    "                    freq[k] += 2\n",
    "        \n",
    "        ans = []\n",
    "        fn(mid if mid else \"\")\n",
    "            \n",
    "        return ans "
   ]
  },
  {
   "cell_type": "code",
   "execution_count": 2,
   "metadata": {},
   "outputs": [
    {
     "data": {
      "text/plain": [
       "['baab', 'abba']"
      ]
     },
     "execution_count": 2,
     "metadata": {},
     "output_type": "execute_result"
    }
   ],
   "source": [
    "instance = Solution()\n",
    "instance.generatePalindromes(\"aabb\")"
   ]
  }
 ],
 "metadata": {
  "kernelspec": {
   "display_name": "Python 3",
   "language": "python",
   "name": "python3"
  },
  "language_info": {
   "codemirror_mode": {
    "name": "ipython",
    "version": 3
   },
   "file_extension": ".py",
   "mimetype": "text/x-python",
   "name": "python",
   "nbconvert_exporter": "python",
   "pygments_lexer": "ipython3",
   "version": "3.7.3"
  }
 },
 "nbformat": 4,
 "nbformat_minor": 2
}
