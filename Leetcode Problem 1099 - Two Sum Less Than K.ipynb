{
 "cells": [
  {
   "cell_type": "markdown",
   "metadata": {},
   "source": [
    "Problem Statement.\n",
    "\n",
    "Given an array nums of integers and integer k, return the maximum sum such that there exists i < j with nums[i] + nums[j] = sum and sum < k. If no i, j exist satisfying this equation, return -1.\n",
    "\n",
    " \n",
    "\n",
    "Example 1:\n",
    "\n",
    "Input: nums = [34,23,1,24,75,33,54,8], k = 60\n",
    "Output: 58\n",
    "Explanation: We can use 34 and 24 to sum 58 which is less than 60.\n",
    "\n",
    "Example 2:\n",
    "\n",
    "Input: nums = [10,20,30], k = 15\n",
    "Output: -1\n",
    "Explanation: In this case it is not possible to get a pair sum less that 15.\n",
    "\n",
    " \n",
    "\n",
    "Constraints:\n",
    "\n",
    "    1 <= nums.length <= 100\n",
    "    1 <= nums[i] <= 1000\n",
    "    1 <= k <= 2000"
   ]
  },
  {
   "cell_type": "code",
   "execution_count": null,
   "metadata": {},
   "outputs": [],
   "source": []
  },
  {
   "cell_type": "code",
   "execution_count": 1,
   "metadata": {},
   "outputs": [],
   "source": [
    "from typing import List\n",
    "\n",
    "class Solution:\n",
    "    def twoSumLessThanK(self, nums: List[int], k: int) -> int:\n",
    "        answer = -1\n",
    "        count = [0] * 1001\n",
    "        for num in nums:\n",
    "            count[num] += 1\n",
    "        lo = 1\n",
    "        hi = 1000\n",
    "        while lo <= hi:\n",
    "            if lo + hi >= k or count[hi] == 0:\n",
    "                hi -= 1\n",
    "            else:\n",
    "                if count[lo] > (0 if lo < hi else 1):\n",
    "                    answer = max(answer, lo + hi)\n",
    "                lo += 1\n",
    "        return answer"
   ]
  },
  {
   "cell_type": "markdown",
   "metadata": {},
   "source": [
    "# Sort - O(N Log N) runtime, O(N) sort"
   ]
  },
  {
   "cell_type": "code",
   "execution_count": 2,
   "metadata": {},
   "outputs": [],
   "source": [
    "from typing import List\n",
    "\n",
    "class Solution:\n",
    "    def twoSumLessThanK(self, nums: List[int], k: int) -> int:\n",
    "        nums.sort()\n",
    "        i, j, maxSum = 0, len(nums) - 1, -1\n",
    "        while i < j:\n",
    "            sumVal = nums[i] + nums[j]\n",
    "            if sumVal == k - 1: return k-1\n",
    "            if sumVal < k: \n",
    "                maxSum = max(maxSum, sumVal)\n",
    "                i += 1\n",
    "            else:\n",
    "                j -= 1\n",
    "            \n",
    "        return maxSum"
   ]
  },
  {
   "cell_type": "markdown",
   "metadata": {},
   "source": [
    "# Sort with Binary Search - O(N Log N) runtime, O(N) sort"
   ]
  },
  {
   "cell_type": "code",
   "execution_count": 3,
   "metadata": {},
   "outputs": [],
   "source": [
    "from typing import List\n",
    "from bisect import bisect_left\n",
    "\n",
    "class Solution:\n",
    "    def twoSumLessThanK(self, nums: List[int], k: int) -> int:\n",
    "        answer = -1\n",
    "        nums.sort()\n",
    "        for i in range(len(nums)):\n",
    "            j = bisect_left(nums, k - nums[i], i + 1) - 1\n",
    "            if j > i:\n",
    "                answer = max(answer, nums[i] + nums[j])\n",
    "        return answer"
   ]
  },
  {
   "cell_type": "markdown",
   "metadata": {},
   "source": [
    "# Counting -  O(N + M) runtime, O(M) space, where M corresponds to the range of values in the input array, and N is the length of the array\n"
   ]
  },
  {
   "cell_type": "code",
   "execution_count": 4,
   "metadata": {},
   "outputs": [],
   "source": [
    "from typing import List\n",
    "\n",
    "class Solution:\n",
    "    def twoSumLessThanK(self, nums: List[int], k: int) -> int:\n",
    "        answer = -1\n",
    "        count = [0] * 1001\n",
    "        for num in nums:\n",
    "            count[num] += 1\n",
    "        lo = 1\n",
    "        hi = 1000\n",
    "        while lo <= hi:\n",
    "            if lo + hi >= k or count[hi] == 0:\n",
    "                hi -= 1\n",
    "            else:\n",
    "                if count[lo] > (0 if lo < hi else 1):\n",
    "                    answer = max(answer, lo + hi)\n",
    "                lo += 1\n",
    "        return answer"
   ]
  },
  {
   "cell_type": "code",
   "execution_count": 5,
   "metadata": {},
   "outputs": [
    {
     "data": {
      "text/plain": [
       "58"
      ]
     },
     "execution_count": 5,
     "metadata": {},
     "output_type": "execute_result"
    }
   ],
   "source": [
    "instance = Solution()\n",
    "instance.twoSumLessThanK([34,23,1,24,75,33,54,8], 60)"
   ]
  }
 ],
 "metadata": {
  "kernelspec": {
   "display_name": "Python 3",
   "language": "python",
   "name": "python3"
  },
  "language_info": {
   "codemirror_mode": {
    "name": "ipython",
    "version": 3
   },
   "file_extension": ".py",
   "mimetype": "text/x-python",
   "name": "python",
   "nbconvert_exporter": "python",
   "pygments_lexer": "ipython3",
   "version": "3.7.3"
  }
 },
 "nbformat": 4,
 "nbformat_minor": 2
}
