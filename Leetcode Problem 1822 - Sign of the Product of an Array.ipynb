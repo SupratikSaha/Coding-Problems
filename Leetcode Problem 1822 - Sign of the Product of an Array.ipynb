{
 "cells": [
  {
   "cell_type": "markdown",
   "metadata": {},
   "source": [
    "Problem Statement.\n",
    "\n",
    "There is a function signFunc(x) that returns:\n",
    "\n",
    "    1 if x is positive.\n",
    "    -1 if x is negative.\n",
    "    0 if x is equal to 0.\n",
    "\n",
    "You are given an integer array nums. Let product be the product of all values in the array nums.\n",
    "\n",
    "Return signFunc(product).\n",
    "\n",
    " \n",
    "\n",
    "Example 1:\n",
    "\n",
    "Input: nums = [-1,-2,-3,-4,3,2,1]\n",
    "Output: 1\n",
    "Explanation: The product of all values in the array is 144, and signFunc(144) = 1\n",
    "\n",
    "Example 2:\n",
    "\n",
    "Input: nums = [1,5,0,2,-3]\n",
    "Output: 0\n",
    "Explanation: The product of all values in the array is 0, and signFunc(0) = 0\n",
    "\n",
    "Example 3:\n",
    "\n",
    "Input: nums = [-1,1,-1,1,-1]\n",
    "Output: -1\n",
    "Explanation: The product of all values in the array is -1, and signFunc(-1) = -1\n",
    "\n",
    " \n",
    "\n",
    "Constraints:\n",
    "\n",
    "    1 <= nums.length <= 1000\n",
    "    -100 <= nums[i] <= 100"
   ]
  },
  {
   "cell_type": "markdown",
   "metadata": {},
   "source": [
    "# List Traversal - O(N) runtime, O(1) space"
   ]
  },
  {
   "cell_type": "code",
   "execution_count": 2,
   "metadata": {},
   "outputs": [],
   "source": [
    "from typing import List\n",
    "\n",
    "class Solution:\n",
    "    def arraySign(self, nums: List[int]) -> int:\n",
    "        result = 1\n",
    "        for num in nums:\n",
    "            if num == 0: return 0\n",
    "            if num < 0: result *= -1\n",
    "                \n",
    "        return result"
   ]
  },
  {
   "cell_type": "code",
   "execution_count": 3,
   "metadata": {},
   "outputs": [
    {
     "data": {
      "text/plain": [
       "1"
      ]
     },
     "execution_count": 3,
     "metadata": {},
     "output_type": "execute_result"
    }
   ],
   "source": [
    "instance = Solution()\n",
    "instance.arraySign([-1,-2,-3,-4,3,2,1])"
   ]
  }
 ],
 "metadata": {
  "kernelspec": {
   "display_name": "Python 3",
   "language": "python",
   "name": "python3"
  },
  "language_info": {
   "codemirror_mode": {
    "name": "ipython",
    "version": 3
   },
   "file_extension": ".py",
   "mimetype": "text/x-python",
   "name": "python",
   "nbconvert_exporter": "python",
   "pygments_lexer": "ipython3",
   "version": "3.7.3"
  }
 },
 "nbformat": 4,
 "nbformat_minor": 2
}
