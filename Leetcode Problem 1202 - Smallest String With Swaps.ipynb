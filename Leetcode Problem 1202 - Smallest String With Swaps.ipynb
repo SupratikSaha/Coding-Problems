{
 "cells": [
  {
   "cell_type": "markdown",
   "metadata": {},
   "source": [
    "Problem Statement.\n",
    "\n",
    "You are given a string s, and an array of pairs of indices in the string pairs where pairs[i] = [a, b] indicates 2 indices(0-indexed) of the string.\n",
    "\n",
    "You can swap the characters at any pair of indices in the given pairs any number of times.\n",
    "\n",
    "Return the lexicographically smallest string that s can be changed to after using the swaps.\n",
    "\n",
    " \n",
    "\n",
    "Example 1:\n",
    "\n",
    "Input: s = \"dcab\", pairs = [[0,3],[1,2]]\n",
    "Output: \"bacd\"\n",
    "Explaination: \n",
    "Swap s[0] and s[3], s = \"bcad\"\n",
    "Swap s[1] and s[2], s = \"bacd\"\n",
    "\n",
    "Example 2:\n",
    "\n",
    "Input: s = \"dcab\", pairs = [[0,3],[1,2],[0,2]]\n",
    "Output: \"abcd\"\n",
    "Explaination: \n",
    "Swap s[0] and s[3], s = \"bcad\"\n",
    "Swap s[0] and s[2], s = \"acbd\"\n",
    "Swap s[1] and s[2], s = \"abcd\"\n",
    "\n",
    "Example 3:\n",
    "\n",
    "Input: s = \"cba\", pairs = [[0,1],[1,2]]\n",
    "Output: \"abc\"\n",
    "Explaination: \n",
    "Swap s[0] and s[1], s = \"bca\"\n",
    "Swap s[1] and s[2], s = \"bac\"\n",
    "Swap s[0] and s[1], s = \"abc\"\n",
    "\n",
    " \n",
    "\n",
    "Constraints:\n",
    "\n",
    "    1 <= s.length <= 10^5\n",
    "    0 <= pairs.length <= 10^5\n",
    "    0 <= pairs[i][0], pairs[i][1] < s.length\n",
    "    s only contains lower case English letters."
   ]
  },
  {
   "cell_type": "markdown",
   "metadata": {},
   "source": [
    "# Union Find - O(V * Log V + E * invAckermann(V)) runtime, O(V) space"
   ]
  },
  {
   "cell_type": "code",
   "execution_count": 5,
   "metadata": {},
   "outputs": [],
   "source": [
    "from typing import List\n",
    "from collections import defaultdict\n",
    "\n",
    "class Solution:\n",
    "    def smallestStringWithSwaps(self, s: str, pairs: List[List[int]]) -> str:\n",
    "        n = len(s)\n",
    "        parents = list(range(n))\n",
    "        ranks = [0] * n\n",
    "        \n",
    "        def find(x):\n",
    "            if x != parents[x]: \n",
    "                parents[x] = find(parents[x])\n",
    "            return parents[x]\n",
    "            \n",
    "        def union(x, y):\n",
    "            if ranks[x] < ranks[y]:\n",
    "                parents[x] = y\n",
    "            else:\n",
    "                parents[y] = x\n",
    "                if ranks[x] == ranks[y]: ranks[x] += 1\n",
    "        \n",
    "        for x, y in pairs:\n",
    "            x, y = find(x), find(y)\n",
    "            union(x, y)\n",
    "            \n",
    "        childDict = defaultdict(list)\n",
    "        for i in range(n): \n",
    "            childDict[find(i)].append(s[i])\n",
    "            \n",
    "        for par in childDict: \n",
    "            childDict[par].sort(reverse=True)\n",
    "         \n",
    "        res = []\n",
    "        for i in range(n): \n",
    "            res.append(childDict[parents[i]].pop())\n",
    "            \n",
    "        return \"\".join(res)"
   ]
  },
  {
   "cell_type": "code",
   "execution_count": 6,
   "metadata": {},
   "outputs": [
    {
     "data": {
      "text/plain": [
       "'abcd'"
      ]
     },
     "execution_count": 6,
     "metadata": {},
     "output_type": "execute_result"
    }
   ],
   "source": [
    "instance = Solution()\n",
    "instance.smallestStringWithSwaps(\"dcab\", [[0,3],[1,2],[0,2]])"
   ]
  }
 ],
 "metadata": {
  "kernelspec": {
   "display_name": "Python 3",
   "language": "python",
   "name": "python3"
  },
  "language_info": {
   "codemirror_mode": {
    "name": "ipython",
    "version": 3
   },
   "file_extension": ".py",
   "mimetype": "text/x-python",
   "name": "python",
   "nbconvert_exporter": "python",
   "pygments_lexer": "ipython3",
   "version": "3.7.3"
  }
 },
 "nbformat": 4,
 "nbformat_minor": 2
}
