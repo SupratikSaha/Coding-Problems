{
 "cells": [
  {
   "cell_type": "markdown",
   "metadata": {},
   "source": [
    "Problem Statement.\n",
    "\n",
    "Given two numbers, hour and minutes. Return the smaller angle (in degrees) formed between the hour and the minute hand. \n",
    "\n",
    "Example 1:\n",
    "\n",
    "Input: hour = 12, minutes = 30\n",
    "Output: 165\n",
    "\n",
    "Example 2:\n",
    "\n",
    "Input: hour = 3, minutes = 30\n",
    "Output: 75\n",
    "\n",
    "Example 3:\n",
    "\n",
    "Input: hour = 3, minutes = 15\n",
    "Output: 7.5\n",
    "\n",
    "Example 4:\n",
    "\n",
    "Input: hour = 4, minutes = 50\n",
    "Output: 155\n",
    "\n",
    "Example 5:\n",
    "\n",
    "Input: hour = 12, minutes = 0\n",
    "Output: 0\n",
    "\n",
    " \n",
    "\n",
    "Constraints:\n",
    "\n",
    "    1 <= hour <= 12\n",
    "    0 <= minutes <= 59\n",
    "    Answers within 10^-5 of the actual value will be accepted as correct."
   ]
  },
  {
   "cell_type": "markdown",
   "metadata": {},
   "source": [
    "# Math - O(1) runtime, O(1) space"
   ]
  },
  {
   "cell_type": "code",
   "execution_count": 3,
   "metadata": {},
   "outputs": [],
   "source": [
    "class Solution:\n",
    "    def angleClock(self, hour: int, minutes: int) -> float:\n",
    "        hourAngle = (hour * 60 + minutes) / 2\n",
    "        minuteAngle = minutes * 6\n",
    "        diff = abs(minuteAngle - hourAngle)\n",
    "        \n",
    "        return min(diff, 360 - diff)"
   ]
  },
  {
   "cell_type": "code",
   "execution_count": 4,
   "metadata": {},
   "outputs": [
    {
     "data": {
      "text/plain": [
       "165.0"
      ]
     },
     "execution_count": 4,
     "metadata": {},
     "output_type": "execute_result"
    }
   ],
   "source": [
    "instance = Solution()\n",
    "instance.angleClock(12, 30)"
   ]
  }
 ],
 "metadata": {
  "kernelspec": {
   "display_name": "Python 3",
   "language": "python",
   "name": "python3"
  },
  "language_info": {
   "codemirror_mode": {
    "name": "ipython",
    "version": 3
   },
   "file_extension": ".py",
   "mimetype": "text/x-python",
   "name": "python",
   "nbconvert_exporter": "python",
   "pygments_lexer": "ipython3",
   "version": "3.7.3"
  }
 },
 "nbformat": 4,
 "nbformat_minor": 2
}
