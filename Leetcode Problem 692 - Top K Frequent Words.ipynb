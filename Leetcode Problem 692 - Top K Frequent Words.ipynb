{
 "cells": [
  {
   "cell_type": "markdown",
   "metadata": {},
   "source": [
    "Problem Statement. <br/>\n",
    "\n",
    "Given a non-empty list of words, return the k most frequent elements. <br/>\n",
    "Your answer should be sorted by frequency from highest to lowest. If two words have the same frequency, then the word with the lower alphabetical order comes first. <br/>\n",
    "\n",
    "Example 1: <br/>\n",
    "Input: [\"i\", \"love\", \"leetcode\", \"i\", \"love\", \"coding\"], k = 2 <br/>\n",
    "Output: [\"i\", \"love\"] <br/>\n",
    "Explanation: \"i\" and \"love\" are the two most frequent words. <br/>\n",
    "    Note that \"i\" comes before \"love\" due to a lower alphabetical order. <br/>\n",
    "\n",
    "Example 2: <br/>\n",
    "Input: [\"the\", \"day\", \"is\", \"sunny\", \"the\", \"the\", \"the\", \"sunny\", \"is\", \"is\"], k = 4 <br/>\n",
    "Output: [\"the\", \"is\", \"sunny\", \"day\"] <br/>\n",
    "Explanation: \"the\", \"is\", \"sunny\" and \"day\" are the four most frequent words, <br/>\n",
    "    with the number of occurrence being 4, 3, 2 and 1 respectively. <br/>\n",
    "\n",
    "Note: <br/>\n",
    "    You may assume k is always valid, 1 ≤ k ≤ number of unique elements. <br/>\n",
    "    Input words contain only lowercase letters. <br/>\n",
    "\n",
    "Follow up: <br/>\n",
    "    Try to solve it in O(n log k) time and O(n) extra space."
   ]
  },
  {
   "cell_type": "markdown",
   "metadata": {},
   "source": [
    "# Hash Map and Sort - O(N * logN) runtime, O(N) space"
   ]
  },
  {
   "cell_type": "code",
   "execution_count": 1,
   "metadata": {},
   "outputs": [],
   "source": [
    "from typing import List\n",
    "from collections import Counter\n",
    "\n",
    "class Solution:\n",
    "    def topKFrequent(self, words: List[str], k: int) -> List[str]:\n",
    "        \n",
    "        count = Counter(words)\n",
    "        \n",
    "        candidates = list(count.keys())\n",
    "        candidates.sort(key = lambda w: (-count[w], w))\n",
    "        \n",
    "        return candidates[:k]"
   ]
  },
  {
   "cell_type": "markdown",
   "metadata": {},
   "source": [
    "# Heap - O(N * logN) runtime, O(N) space"
   ]
  },
  {
   "cell_type": "code",
   "execution_count": 2,
   "metadata": {},
   "outputs": [],
   "source": [
    "from typing import List\n",
    "from collections import Counter\n",
    "from heapq import heapify, heappop\n",
    "\n",
    "class Solution:\n",
    "    def topKFrequent(self, words: List[str], k: int) -> List[str]:\n",
    "        count = Counter(words)\n",
    "        heap = [(-freq, word) for word, freq in count.items()]\n",
    "        heapify(heap)\n",
    "        \n",
    "        return [heappop(heap)[1] for _ in range(k)]"
   ]
  },
  {
   "cell_type": "markdown",
   "metadata": {},
   "source": [
    "# Heap - O(N * logK) runtime, O(N) space"
   ]
  },
  {
   "cell_type": "code",
   "execution_count": 3,
   "metadata": {},
   "outputs": [],
   "source": [
    "from typing import List\n",
    "from collections import Counter\n",
    "from heapq import heappush, heappop\n",
    "from functools import total_ordering\n",
    "\n",
    "@total_ordering\n",
    "class Element:\n",
    "    def __init__(self, count, word):\n",
    "        self.count = count\n",
    "        self.word = word\n",
    "        \n",
    "    def __lt__(self, other):\n",
    "        if self.count == other.count:\n",
    "            return self.word > other.word\n",
    "        return self.count < other.count\n",
    "    \n",
    "    def __eq__(self, other):\n",
    "        return self.count == other.count and self.word == other.word\n",
    "\n",
    "class Solution(object):\n",
    "    def topKFrequent(self, words: List[str], k: int) -> List[str]:\n",
    "        counts = Counter(words)   \n",
    "        \n",
    "        freqs = []\n",
    "        heapify(freqs)\n",
    "        for word, count in counts.items():\n",
    "            heappush(freqs, (Element(count, word), word))\n",
    "            if len(freqs) > k:\n",
    "                heappop(freqs)\n",
    "        \n",
    "        res = []\n",
    "        for _ in range(k):\n",
    "            res.append(heappop(freqs)[1])\n",
    "        return res[::-1]"
   ]
  },
  {
   "cell_type": "code",
   "execution_count": 4,
   "metadata": {},
   "outputs": [
    {
     "data": {
      "text/plain": [
       "['the', 'is', 'sunny', 'day']"
      ]
     },
     "execution_count": 4,
     "metadata": {},
     "output_type": "execute_result"
    }
   ],
   "source": [
    "instance = Solution()\n",
    "instance.topKFrequent([\"the\", \"day\", \"is\", \"sunny\", \"the\", \"the\", \"the\", \"sunny\", \"is\", \"is\"], 4)"
   ]
  }
 ],
 "metadata": {
  "kernelspec": {
   "display_name": "Python 3",
   "language": "python",
   "name": "python3"
  },
  "language_info": {
   "codemirror_mode": {
    "name": "ipython",
    "version": 3
   },
   "file_extension": ".py",
   "mimetype": "text/x-python",
   "name": "python",
   "nbconvert_exporter": "python",
   "pygments_lexer": "ipython3",
   "version": "3.7.3"
  }
 },
 "nbformat": 4,
 "nbformat_minor": 2
}
