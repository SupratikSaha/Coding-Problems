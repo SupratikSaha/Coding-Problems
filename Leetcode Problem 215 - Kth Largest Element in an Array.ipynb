{
 "cells": [
  {
   "cell_type": "markdown",
   "metadata": {},
   "source": [
    "Problem Statement. <br/>\n",
    "\n",
    "Find the kth largest element in an unsorted array. Note that it is the kth largest element in the sorted order, not the kth distinct element. <br/>\n",
    "\n",
    "Example 1: <br/>\n",
    "Input: [3,2,1,5,6,4] and k = 2 <br/>\n",
    "Output: 5 <br/>\n",
    "\n",
    "Example 2: <br/>\n",
    "Input: [3,2,3,1,2,4,5,5,6] and k = 4 <br/>\n",
    "Output: 4"
   ]
  },
  {
   "cell_type": "markdown",
   "metadata": {},
   "source": [
    "# Sorting - O(N * LogN) runtime, O(N) space"
   ]
  },
  {
   "cell_type": "code",
   "execution_count": 7,
   "metadata": {},
   "outputs": [],
   "source": [
    "from typing import List\n",
    "\n",
    "class Solution:\n",
    "    def findKthLargest(self, nums: List[int], k: int) -> int:\n",
    "        \n",
    "        nums.sort()\n",
    "        n = len(nums)\n",
    "        return nums[n - k]"
   ]
  },
  {
   "cell_type": "markdown",
   "metadata": {},
   "source": [
    "# Min Heap - O(N * LogK) runtime, O(K) space"
   ]
  },
  {
   "cell_type": "code",
   "execution_count": 1,
   "metadata": {},
   "outputs": [],
   "source": [
    "from typing import List\n",
    "from heapq import heappush, heappop\n",
    "\n",
    "class Solution:\n",
    "    def findKthLargest(self, nums: List[int], k: int) -> int:\n",
    "        minHeap = []\n",
    "        \n",
    "        for i in range(k):\n",
    "            heappush(minHeap, nums[i])\n",
    "        \n",
    "        for i in range(k, len(nums)):\n",
    "            if nums[i] > minHeap[0]:\n",
    "                heappop(minHeap)\n",
    "                heappush(minHeap, nums[i])\n",
    "                \n",
    "        return minHeap[0]"
   ]
  },
  {
   "cell_type": "markdown",
   "metadata": {},
   "source": [
    "# Quick Select - O(N) average case, O(N ^ 2) worst case runtime, O(1) space"
   ]
  },
  {
   "cell_type": "code",
   "execution_count": 5,
   "metadata": {},
   "outputs": [],
   "source": [
    "from typing import List\n",
    "import random\n",
    "\n",
    "class Solution:\n",
    "    def findKthLargest(self, nums: List[int], k: int) -> int:\n",
    "\n",
    "        def partition(left, right, pivot_index):\n",
    "            pivot = nums[pivot_index]\n",
    "            # 1. move pivot to end\n",
    "            nums[pivot_index], nums[right] = nums[right], nums[pivot_index]  \n",
    "            \n",
    "            # 2. move all smaller elements to the left\n",
    "            store_index = left\n",
    "            for i in range(left, right):\n",
    "                if nums[i] < pivot:\n",
    "                    nums[store_index], nums[i] = nums[i], nums[store_index]\n",
    "                    store_index += 1\n",
    "\n",
    "            # 3. move pivot to its final place\n",
    "            nums[right], nums[store_index] = nums[store_index], nums[right]  \n",
    "            \n",
    "            return store_index\n",
    "        \n",
    "        def select(left, right, k_smallest):\n",
    "            \"\"\"\n",
    "            Returns the k-th smallest element of list within left..right\n",
    "            \"\"\"\n",
    "            if left == right:       # If the list contains only one element,\n",
    "                return nums[left]   # return that element\n",
    "            \n",
    "            # select a random pivot_index between \n",
    "            pivot_index = random.randint(left, right)     \n",
    "                            \n",
    "            # find the pivot position in a sorted list   \n",
    "            pivot_index = partition(left, right, pivot_index)\n",
    "            \n",
    "            # the pivot is in its final sorted position\n",
    "            if k_smallest == pivot_index:\n",
    "                 return nums[k_smallest]\n",
    "            # go left\n",
    "            elif k_smallest < pivot_index:\n",
    "                return select(left, pivot_index - 1, k_smallest)\n",
    "            # go right\n",
    "            else:\n",
    "                return select(pivot_index + 1, right, k_smallest)\n",
    "\n",
    "        # kth largest is (n - k)th smallest \n",
    "        return select(0, len(nums) - 1, len(nums) - k)"
   ]
  },
  {
   "cell_type": "code",
   "execution_count": 8,
   "metadata": {},
   "outputs": [
    {
     "data": {
      "text/plain": [
       "4"
      ]
     },
     "execution_count": 8,
     "metadata": {},
     "output_type": "execute_result"
    }
   ],
   "source": [
    "instance = Solution()\n",
    "instance.findKthLargest([3,2,3,1,2,4,5,5,6], k = 4)"
   ]
  }
 ],
 "metadata": {
  "kernelspec": {
   "display_name": "Python 3",
   "language": "python",
   "name": "python3"
  },
  "language_info": {
   "codemirror_mode": {
    "name": "ipython",
    "version": 3
   },
   "file_extension": ".py",
   "mimetype": "text/x-python",
   "name": "python",
   "nbconvert_exporter": "python",
   "pygments_lexer": "ipython3",
   "version": "3.7.3"
  }
 },
 "nbformat": 4,
 "nbformat_minor": 2
}
