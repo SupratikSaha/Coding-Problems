{
 "cells": [
  {
   "cell_type": "markdown",
   "metadata": {},
   "source": [
    "Problem Statement.\n",
    "\n",
    "You are given two strings a and b that consist of lowercase letters. In one operation, you can change any character in a or b to any lowercase letter.\n",
    "\n",
    "Your goal is to satisfy one of the following three conditions:\n",
    "\n",
    "    Every letter in a is strictly less than every letter in b in the alphabet.\n",
    "    Every letter in b is strictly less than every letter in a in the alphabet.\n",
    "    Both a and b consist of only one distinct letter.\n",
    "\n",
    "Return the minimum number of operations needed to achieve your goal.\n",
    "\n",
    " \n",
    "\n",
    "Example 1:\n",
    "\n",
    "Input: a = \"aba\", b = \"caa\"\n",
    "Output: 2\n",
    "Explanation: Consider the best way to make each condition true:\n",
    "1) Change b to \"ccc\" in 2 operations, then every letter in a is less than every letter in b.\n",
    "2) Change a to \"bbb\" and b to \"aaa\" in 3 operations, then every letter in b is less than every letter in a.\n",
    "3) Change a to \"aaa\" and b to \"aaa\" in 2 operations, then a and b consist of one distinct letter.\n",
    "The best way was done in 2 operations (either condition 1 or condition 3).\n",
    "\n",
    "Example 2:\n",
    "\n",
    "Input: a = \"dabadd\", b = \"cda\"\n",
    "Output: 3\n",
    "Explanation: The best way is to make condition 1 true by changing b to \"eee\".\n",
    "\n",
    " \n",
    "\n",
    "Constraints:\n",
    "\n",
    "    1 <= a.length, b.length <= 10^5\n",
    "    a and b consist only of lowercase letters."
   ]
  },
  {
   "cell_type": "markdown",
   "metadata": {},
   "source": [
    "# HashMaps - O(M + N) runtime, O(26) space"
   ]
  },
  {
   "cell_type": "code",
   "execution_count": 1,
   "metadata": {},
   "outputs": [],
   "source": [
    "from collections import Counter\n",
    "from string import ascii_lowercase\n",
    "\n",
    "class Solution:\n",
    "    def minCharacters(self, a: str, b: str) -> int:\n",
    "        m, n = len(a), len(b)\n",
    "        counterA = Counter(a)\n",
    "        counterB = Counter(b)\n",
    "        \n",
    "        res = float('inf')\n",
    "        runA, runB = 0, 0\n",
    "        maxfreq = 0\n",
    "        \n",
    "        for c in ascii_lowercase:\n",
    "            maxfreq = max(maxfreq, counterA[c] + counterB[c])\n",
    "            if c > 'a':\n",
    "                res = min(res, m - runA + runB)\n",
    "                res = min(res, n - runB + runA)\n",
    "            runA += counterA[c]\n",
    "            runB += counterB[c]\n",
    "            \n",
    "        return min(res, m+n-maxfreq)"
   ]
  },
  {
   "cell_type": "code",
   "execution_count": 2,
   "metadata": {},
   "outputs": [
    {
     "data": {
      "text/plain": [
       "3"
      ]
     },
     "execution_count": 2,
     "metadata": {},
     "output_type": "execute_result"
    }
   ],
   "source": [
    "instance = Solution()\n",
    "instance.minCharacters(\"dabadd\", \"cda\")"
   ]
  }
 ],
 "metadata": {
  "kernelspec": {
   "display_name": "Python 3",
   "language": "python",
   "name": "python3"
  },
  "language_info": {
   "codemirror_mode": {
    "name": "ipython",
    "version": 3
   },
   "file_extension": ".py",
   "mimetype": "text/x-python",
   "name": "python",
   "nbconvert_exporter": "python",
   "pygments_lexer": "ipython3",
   "version": "3.7.3"
  }
 },
 "nbformat": 4,
 "nbformat_minor": 2
}
