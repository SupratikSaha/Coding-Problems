{
 "cells": [
  {
   "cell_type": "markdown",
   "metadata": {},
   "source": [
    "Problem Statement.\n",
    "\n",
    "You are playing a variation of the game Zuma.\n",
    "\n",
    "In this variation of Zuma, there is a single row of colored balls on a board, where each ball can be colored red 'R', yellow 'Y', blue 'B', green 'G', or white 'W'. You also have several colored balls in your hand.\n",
    "\n",
    "Your goal is to clear all of the balls from the board. On each turn:\n",
    "\n",
    "    Pick any ball from your hand and insert it in between two balls in the row or on either end of the row.\n",
    "    If there is a group of three or more consecutive balls of the same color, remove the group of balls from the board.\n",
    "        If this removal causes more groups of three or more of the same color to form, then continue removing each group until there are none left.\n",
    "    If there are no more balls on the board, then you win the game.\n",
    "    Repeat this process until you either win or do not have any more balls in your hand.\n",
    "\n",
    "Given a string board, representing the row of balls on the board, and a string hand, representing the balls in your hand, return the minimum number of balls you have to insert to clear all the balls from the board. If you cannot clear all the balls from the board using the balls in your hand, return -1.\n",
    "\n",
    " \n",
    "\n",
    "Example 1:\n",
    "\n",
    "Input: board = \"WRRBBW\", hand = \"RB\"\n",
    "Output: -1\n",
    "Explanation: It is impossible to clear all the balls. The best you can do is:\n",
    "- Insert 'R' so the board becomes WRRRBBW. WRRRBBW -> WBBW.\n",
    "- Insert 'B' so the board becomes WBBBW. WBBBW -> WW.\n",
    "There are still balls remaining on the board, and you are out of balls to insert.\n",
    "\n",
    "Example 2:\n",
    "\n",
    "Input: board = \"WWRRBBWW\", hand = \"WRBRW\"\n",
    "Output: 2\n",
    "Explanation: To make the board empty:\n",
    "- Insert 'R' so the board becomes WWRRRBBWW. WWRRRBBWW -> WWBBWW.\n",
    "- Insert 'B' so the board becomes WWBBBWW. WWBBBWW -> WWWW -> empty.\n",
    "2 balls from your hand were needed to clear the board.\n",
    "\n",
    "Example 3:\n",
    "\n",
    "Input: board = \"G\", hand = \"GGGGG\"\n",
    "Output: 2\n",
    "Explanation: To make the board empty:\n",
    "- Insert 'G' so the board becomes GG.\n",
    "- Insert 'G' so the board becomes GGG. GGG -> empty.\n",
    "2 balls from your hand were needed to clear the board.\n",
    "\n",
    " \n",
    "\n",
    "Constraints:\n",
    "\n",
    "    1 <= board.length <= 16\n",
    "    1 <= hand.length <= 5\n",
    "    board and hand consist of the characters 'R', 'Y', 'B', 'G', and 'W'.\n",
    "    The initial row of balls on the board will not have any groups of three or more consecutive balls of the same color."
   ]
  },
  {
   "cell_type": "markdown",
   "metadata": {},
   "source": [
    "# BFS"
   ]
  },
  {
   "cell_type": "code",
   "execution_count": 1,
   "metadata": {},
   "outputs": [],
   "source": [
    "from collections import deque\n",
    "\n",
    "class Solution:\n",
    "    def findMinStep(self, board: str, hand: str) -> int:\n",
    "        # start from i and remove continues ball\n",
    "        def remove_same(s, i):\n",
    "            if i < 0:\n",
    "                return s\n",
    "            \n",
    "            left = right = i\n",
    "            while left > 0 and s[left-1] == s[i]:\n",
    "                left -= 1\n",
    "            while right+1 < len(s) and s[right+1] == s[i]:\n",
    "                right += 1\n",
    "            \n",
    "            length = right - left + 1\n",
    "            if length >= 3:\n",
    "                new_s = s[:left] + s[right+1:]\n",
    "                return remove_same(new_s, left-1)\n",
    "            else:\n",
    "                return s\n",
    "\n",
    "\n",
    "\n",
    "        hand = \"\".join(sorted(hand))\n",
    "\n",
    "        # board, hand and step\n",
    "        q = deque([(board, hand, 0)])\n",
    "        visited = set((board, hand))\n",
    "\n",
    "        while q:\n",
    "            curr_board, curr_hand, step = q.popleft()\n",
    "            for i in range(len(curr_board)+1):\n",
    "                for j in range(len(curr_hand)):\n",
    "                    # skip the continue balls in hand\n",
    "                    if j > 0 and curr_hand[j] == curr_hand[j-1]:\n",
    "                        continue\n",
    "                    \n",
    "                    # only insert at the begin of continue balls in board\n",
    "                    if i > 0 and curr_board[i-1] == curr_hand[j]: # left side same color\n",
    "                        continue\n",
    "                    \n",
    "                    pick = False\n",
    "                    # 1. same color with right\n",
    "                    # 2. left and right are same but pick is different\n",
    "                    if i < len(curr_board) and curr_board[i] == curr_hand[j]:\n",
    "                        pick = True\n",
    "                    if 0<i<len(curr_board) and curr_board[i-1] == curr_board[i] and curr_board[i] != curr_hand[j]:\n",
    "                        pick = True\n",
    "                    \n",
    "                    if pick:\n",
    "                        new_board = remove_same(curr_board[:i] + curr_hand[j] + curr_board[i:], i)\n",
    "                        new_hand = curr_hand[:j] + curr_hand[j+1:]\n",
    "                        if not new_board:\n",
    "                            return step + 1\n",
    "                        if (new_board, new_hand) not in visited:\n",
    "                            q.append((new_board, new_hand, step+1))\n",
    "                            visited.add((new_board, new_hand))\n",
    "\n",
    "        return -1"
   ]
  },
  {
   "cell_type": "code",
   "execution_count": 2,
   "metadata": {},
   "outputs": [
    {
     "data": {
      "text/plain": [
       "2"
      ]
     },
     "execution_count": 2,
     "metadata": {},
     "output_type": "execute_result"
    }
   ],
   "source": [
    "instance = Solution()\n",
    "instance.findMinStep(\"WWRRBBWW\", \"WRBRW\" )"
   ]
  }
 ],
 "metadata": {
  "kernelspec": {
   "display_name": "Python 3",
   "language": "python",
   "name": "python3"
  },
  "language_info": {
   "codemirror_mode": {
    "name": "ipython",
    "version": 3
   },
   "file_extension": ".py",
   "mimetype": "text/x-python",
   "name": "python",
   "nbconvert_exporter": "python",
   "pygments_lexer": "ipython3",
   "version": "3.7.3"
  }
 },
 "nbformat": 4,
 "nbformat_minor": 2
}
