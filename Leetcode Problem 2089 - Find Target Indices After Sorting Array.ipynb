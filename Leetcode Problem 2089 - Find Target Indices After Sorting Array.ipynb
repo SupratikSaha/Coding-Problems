{
 "cells": [
  {
   "cell_type": "markdown",
   "metadata": {},
   "source": [
    "Problem Statement.\n",
    "\n",
    "You are given a 0-indexed integer array nums and a target element target.\n",
    "\n",
    "A target index is an index i such that nums[i] == target.\n",
    "\n",
    "Return a list of the target indices of nums after sorting nums in non-decreasing order. If there are no target indices, return an empty list. The returned list must be sorted in increasing order.\n",
    "\n",
    " \n",
    "\n",
    "Example 1:\n",
    "\n",
    "Input: nums = [1,2,5,2,3], target = 2\n",
    "Output: [1,2]\n",
    "Explanation: After sorting, nums is [1,2,2,3,5].\n",
    "The indices where nums[i] == 2 are 1 and 2.\n",
    "\n",
    "Example 2:\n",
    "\n",
    "Input: nums = [1,2,5,2,3], target = 3\n",
    "Output: [3]\n",
    "Explanation: After sorting, nums is [1,2,2,3,5].\n",
    "The index where nums[i] == 3 is 3.\n",
    "\n",
    "Example 3:\n",
    "\n",
    "Input: nums = [1,2,5,2,3], target = 5\n",
    "Output: [4]\n",
    "Explanation: After sorting, nums is [1,2,2,3,5].\n",
    "The index where nums[i] == 5 is 4.\n",
    "\n",
    " \n",
    "\n",
    "Constraints:\n",
    "\n",
    "    1 <= nums.length <= 100\n",
    "    1 <= nums[i], target <= 100"
   ]
  },
  {
   "cell_type": "markdown",
   "metadata": {},
   "source": [
    "# Linear - O(N) runtime, O(1) space"
   ]
  },
  {
   "cell_type": "code",
   "execution_count": 1,
   "metadata": {},
   "outputs": [],
   "source": [
    "from typing import List\n",
    "\n",
    "class Solution:\n",
    "    def targetIndices(self, nums: List[int], target: int) -> List[int]:\n",
    "        leftIndex = countTarget = 0\n",
    "        \n",
    "        for num in nums:\n",
    "            if num < target: leftIndex += 1 \n",
    "            if num == target: countTarget += 1 \n",
    "            \n",
    "        return list(range(leftIndex, leftIndex+countTarget))"
   ]
  },
  {
   "cell_type": "code",
   "execution_count": 2,
   "metadata": {},
   "outputs": [
    {
     "data": {
      "text/plain": [
       "[1, 2]"
      ]
     },
     "execution_count": 2,
     "metadata": {},
     "output_type": "execute_result"
    }
   ],
   "source": [
    "instance = Solution()\n",
    "instance.targetIndices([1,2,5,2,3], 2)"
   ]
  }
 ],
 "metadata": {
  "kernelspec": {
   "display_name": "Python 3",
   "language": "python",
   "name": "python3"
  },
  "language_info": {
   "codemirror_mode": {
    "name": "ipython",
    "version": 3
   },
   "file_extension": ".py",
   "mimetype": "text/x-python",
   "name": "python",
   "nbconvert_exporter": "python",
   "pygments_lexer": "ipython3",
   "version": "3.7.3"
  }
 },
 "nbformat": 4,
 "nbformat_minor": 2
}
