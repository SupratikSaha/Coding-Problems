{
 "cells": [
  {
   "cell_type": "markdown",
   "metadata": {},
   "source": [
    "    Problem Statement.\n",
    "\n",
    "    Given a string that contains only digits 0-9 and a target value, return all possibilities to add binary operators (not unary) +, -, or * between the digits so they evaluate to the target value.\n",
    "\n",
    "    Example 1:\n",
    "\n",
    "    Input: num = \"123\", target = 6\n",
    "    Output: [\"1+2+3\", \"1*2*3\"] \n",
    "\n",
    "    Example 2:\n",
    "\n",
    "    Input: num = \"232\", target = 8\n",
    "    Output: [\"2*3+2\", \"2+3*2\"]\n",
    "\n",
    "    Example 3:\n",
    "\n",
    "    Input: num = \"105\", target = 5\n",
    "    Output: [\"1*0+5\",\"10-5\"]\n",
    "\n",
    "    Example 4:\n",
    "\n",
    "    Input: num = \"00\", target = 0\n",
    "    Output: [\"0+0\", \"0-0\", \"0*0\"]\n",
    "\n",
    "    Example 5:\n",
    "\n",
    "    Input: num = \"3456237490\", target = 9191\n",
    "    Output: []\n",
    "\n",
    "\n",
    "\n",
    "    Constraints:\n",
    "\n",
    "        0 <= num.length <= 10\n",
    "        num only contain digits."
   ]
  },
  {
   "cell_type": "markdown",
   "metadata": {},
   "source": [
    "# Top Down DP - O(N * 4 ^ N) runtime, O(N) space"
   ]
  },
  {
   "cell_type": "code",
   "execution_count": 1,
   "metadata": {},
   "outputs": [],
   "source": [
    "from typing import List\n",
    "\n",
    "class Solution:\n",
    "    def addOperators(self, num: str, target: int) -> List[str]:\n",
    "        if not num: return []\n",
    "        \n",
    "        res = []\n",
    "        n = len(num)\n",
    "        target = target\n",
    "        \n",
    "        def addOperatorsRecursive(curr: List[str], index: int) -> None:\n",
    "            if index == n:\n",
    "                string = ''.join(curr)\n",
    "                if target == eval(string): \n",
    "                    res.append(string)          \n",
    "                return\n",
    "\n",
    "            if curr and curr[-1].isdigit():\n",
    "                addOperatorsRecursive(curr + ['+'], index)\n",
    "                addOperatorsRecursive(curr + ['-'], index)\n",
    "                addOperatorsRecursive(curr + ['*'], index)\n",
    "\n",
    "            if (len(curr) > 1 and curr[-1] == '0' and curr[-2] not in ['+', '-', '*']) or not curr or (curr and curr[-1] != '0'):\n",
    "                addOperatorsRecursive(curr + [num[index]], index+1)\n",
    "                \n",
    "        addOperatorsRecursive([], 0)\n",
    "        return res  "
   ]
  },
  {
   "cell_type": "markdown",
   "metadata": {},
   "source": [
    "# Backtracking - O(N * 4 ^ N) runtime, O(N) space"
   ]
  },
  {
   "cell_type": "code",
   "execution_count": 2,
   "metadata": {},
   "outputs": [],
   "source": [
    "from typing import List\n",
    "\n",
    "class Solution:\n",
    "    def addOperators(self, num: str, target: int) -> List[str]:\n",
    "        N = len(num)\n",
    "        answers = []\n",
    "        def recurse(index, prev_operand, current_operand, value, string):\n",
    "\n",
    "            # Done processing all the digits in num\n",
    "            if index == N:\n",
    "\n",
    "                # If the final value == target expected AND\n",
    "                # no operand is left unprocessed\n",
    "                if value == target and current_operand == 0:\n",
    "                    answers.append(\"\".join(string[1:]))\n",
    "                return\n",
    "\n",
    "            # Extending the current operand by one digit\n",
    "            current_operand = current_operand*10 + int(num[index])\n",
    "            str_op = str(current_operand)\n",
    "\n",
    "            # To avoid cases where we have 1 + 05 or 1 * 05 since 05 won't be a\n",
    "            # valid operand. Hence this check\n",
    "            if current_operand > 0:\n",
    "\n",
    "                # NO OP recursion\n",
    "                recurse(index + 1, prev_operand, current_operand, value, string)\n",
    "\n",
    "            # ADDITION\n",
    "            string.append('+'); string.append(str_op)\n",
    "            recurse(index + 1, current_operand, 0, value + current_operand, string)\n",
    "            string.pop();string.pop()\n",
    "\n",
    "            # Can subtract or multiply only if there are some previous operands\n",
    "            if string:\n",
    "\n",
    "                # SUBTRACTION\n",
    "                string.append('-'); string.append(str_op)\n",
    "                recurse(index + 1, -current_operand, 0, value - current_operand, string)\n",
    "                string.pop();string.pop()\n",
    "\n",
    "                # MULTIPLICATION\n",
    "                string.append('*'); string.append(str_op)\n",
    "                recurse(index + 1, current_operand * prev_operand, 0, value - prev_operand + (current_operand * prev_operand), string)\n",
    "                string.pop();string.pop()\n",
    "        recurse(0, 0, 0, 0, [])    \n",
    "        return answers"
   ]
  },
  {
   "cell_type": "markdown",
   "metadata": {},
   "source": [
    "# Easier Backtracking - O(N * 3 ^ N) runtime, O(N) space"
   ]
  },
  {
   "cell_type": "code",
   "execution_count": 3,
   "metadata": {},
   "outputs": [],
   "source": [
    "from typing import List\n",
    "\n",
    "class Solution:\n",
    "    def addOperators(self, num: str, target: int) -> List[str]:\n",
    "        def backtracking(idx=0, path='', value=0, prev=None):            \n",
    "            if idx == len(num) and value == target:\n",
    "                rtn.append(path)\n",
    "                return\n",
    "            \n",
    "            for i in range(idx+1, len(num) + 1):\n",
    "                tmp = int(num[idx: i])\n",
    "                if i == idx + 1 or (i > idx + 1 and num[idx] != '0'):\n",
    "                    if prev is None :\n",
    "                        backtracking(i, num[idx: i], tmp, tmp)\n",
    "                    else:\n",
    "                        backtracking(i, path+'+'+num[idx: i], value + tmp, tmp)\n",
    "                        backtracking(i, path+'-'+num[idx: i], value - tmp, -tmp)\n",
    "                        backtracking(i, path+'*'+num[idx: i], value - prev + prev*tmp, prev*tmp)\n",
    "        \n",
    "        rtn = []\n",
    "        backtracking()\n",
    "        \n",
    "        return rtn"
   ]
  },
  {
   "cell_type": "code",
   "execution_count": 4,
   "metadata": {},
   "outputs": [
    {
     "data": {
      "text/plain": [
       "['1+2+3', '1*2*3']"
      ]
     },
     "execution_count": 4,
     "metadata": {},
     "output_type": "execute_result"
    }
   ],
   "source": [
    "instance = Solution()\n",
    "instance.addOperators(\"123\", 6)"
   ]
  }
 ],
 "metadata": {
  "kernelspec": {
   "display_name": "Python 3",
   "language": "python",
   "name": "python3"
  },
  "language_info": {
   "codemirror_mode": {
    "name": "ipython",
    "version": 3
   },
   "file_extension": ".py",
   "mimetype": "text/x-python",
   "name": "python",
   "nbconvert_exporter": "python",
   "pygments_lexer": "ipython3",
   "version": "3.7.3"
  }
 },
 "nbformat": 4,
 "nbformat_minor": 2
}
