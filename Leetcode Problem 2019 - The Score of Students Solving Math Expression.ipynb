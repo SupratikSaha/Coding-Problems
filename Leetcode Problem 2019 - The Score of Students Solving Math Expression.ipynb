{
 "cells": [
  {
   "cell_type": "markdown",
   "metadata": {},
   "source": [
    "Problem Statement.\n",
    "\n",
    "You are given a string s that contains digits 0-9, addition symbols '+', and multiplication symbols '*' only, representing a valid math expression of single digit numbers (e.g., 3+5*2). This expression was given to n elementary school students. The students were instructed to get the answer of the expression by following this order of operations:\n",
    "\n",
    "    Compute multiplication, reading from left to right; Then,\n",
    "    Compute addition, reading from left to right.\n",
    "\n",
    "You are given an integer array answers of length n, which are the submitted answers of the students in no particular order. You are asked to grade the answers, by following these rules:\n",
    "\n",
    "    If an answer equals the correct answer of the expression, this student will be rewarded 5 points;\n",
    "    Otherwise, if the answer could be interpreted as if the student applied the operators in the wrong order but had correct arithmetic, this student will be rewarded 2 points;\n",
    "    Otherwise, this student will be rewarded 0 points.\n",
    "\n",
    "Return the sum of the points of the students.\n",
    "\n",
    " \n",
    "\n",
    "Example 1:\n",
    "\n",
    "Input: s = \"7+3*1*2\", answers = [20,13,42]\n",
    "Output: 7\n",
    "Explanation: As illustrated above, the correct answer of the expression is 13, therefore one student is rewarded 5 points: [20,13,42]\n",
    "A student might have applied the operators in this wrong order: ((7+3)*1)*2 = 20. Therefore one student is rewarded 2 points: [20,13,42]\n",
    "The points for the students are: [2,5,0]. The sum of the points is 2+5+0=7.\n",
    "\n",
    "Example 2:\n",
    "\n",
    "Input: s = \"3+5*2\", answers = [13,0,10,13,13,16,16]\n",
    "Output: 19\n",
    "Explanation: The correct answer of the expression is 13, therefore three students are rewarded 5 points each: [13,0,10,13,13,16,16]\n",
    "A student might have applied the operators in this wrong order: ((3+5)*2 = 16. Therefore two students are rewarded 2 points: [13,0,10,13,13,16,16]\n",
    "The points for the students are: [5,0,0,5,5,2,2]. The sum of the points is 5+0+0+5+5+2+2=19.\n",
    "\n",
    "Example 3:\n",
    "\n",
    "Input: s = \"6+0*1\", answers = [12,9,6,4,8,6]\n",
    "Output: 10\n",
    "Explanation: The correct answer of the expression is 6.\n",
    "If a student had incorrectly done (6+0)*1, the answer would also be 6.\n",
    "By the rules of grading, the students will still be rewarded 5 points (as they got the correct answer), not 2 points.\n",
    "The points for the students are: [0,0,5,0,0,5]. The sum of the points is 10.\n",
    "\n",
    " \n",
    "\n",
    "Constraints:\n",
    "\n",
    "    3 <= s.length <= 31\n",
    "    s represents a valid expression that contains only digits 0-9, '+', and '*' only.\n",
    "    All the integer operands in the expression are in the inclusive range [0, 9].\n",
    "    1 <= The count of all operators ('+' and '*') in the math expression <= 15\n",
    "    Test data are generated such that the correct answer of the expression is in the range of [0, 1000].\n",
    "    n == answers.length\n",
    "    1 <= n <= 104\n",
    "    0 <= answers[i] <= 1000"
   ]
  },
  {
   "cell_type": "markdown",
   "metadata": {},
   "source": [
    "# DP - O(K^3 * 1000^2) runtime, O(K^2 *1000) space, where K is the number of operators"
   ]
  },
  {
   "cell_type": "code",
   "execution_count": 3,
   "metadata": {},
   "outputs": [],
   "source": [
    "from typing import List\n",
    "from functools import lru_cache\n",
    "\n",
    "class Solution:\n",
    "    def scoreOfStudents(self, s: str, answers: List[int]) -> int:\n",
    "        \n",
    "        @lru_cache(maxsize=None)\n",
    "        def dp(i, j):\n",
    "            if i == j: return {int(s[i])}\n",
    "            \n",
    "            res = {}\n",
    "            \n",
    "            for m in range(i + 1, j, 2):\n",
    "                for a in dp(i, m - 1):\n",
    "                    for b in dp(m + 1, j):\n",
    "                        cur = a * b if s[m] == '*' else a + b\n",
    "                        if cur <= 1000:  # opt with 0 <= answers[i] <= 1000\n",
    "                            res[cur] = 2\n",
    "            return res\n",
    "\n",
    "        res = dp(0, len(s) - 1)\n",
    "        res[eval(s)] = 5\n",
    "        \n",
    "        return sum(res.get(a, 0) for a in answers)"
   ]
  },
  {
   "cell_type": "code",
   "execution_count": 5,
   "metadata": {},
   "outputs": [
    {
     "data": {
      "text/plain": [
       "19"
      ]
     },
     "execution_count": 5,
     "metadata": {},
     "output_type": "execute_result"
    }
   ],
   "source": [
    "instance = Solution()\n",
    "instance.scoreOfStudents(\"3+5*2\", [13,0,10,13,13,16,16])"
   ]
  }
 ],
 "metadata": {
  "kernelspec": {
   "display_name": "Python 3",
   "language": "python",
   "name": "python3"
  },
  "language_info": {
   "codemirror_mode": {
    "name": "ipython",
    "version": 3
   },
   "file_extension": ".py",
   "mimetype": "text/x-python",
   "name": "python",
   "nbconvert_exporter": "python",
   "pygments_lexer": "ipython3",
   "version": "3.7.3"
  }
 },
 "nbformat": 4,
 "nbformat_minor": 2
}
