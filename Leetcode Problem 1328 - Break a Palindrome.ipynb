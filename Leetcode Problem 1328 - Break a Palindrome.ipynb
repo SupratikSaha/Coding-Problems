{
 "cells": [
  {
   "cell_type": "markdown",
   "metadata": {},
   "source": [
    "Problem Statement.\n",
    "\n",
    "Given a palindromic string of lowercase English letters palindrome, replace exactly one character with any lowercase English letter so that the resulting string is not a palindrome and that it is the lexicographically smallest one possible.\n",
    "\n",
    "Return the resulting string. If there is no way to replace a character to make it not a palindrome, return an empty string.\n",
    "\n",
    "A string a is lexicographically smaller than a string b (of the same length) if in the first position where a and b differ, a has a character strictly smaller than the corresponding character in b. For example, \"abcc\" is lexicographically smaller than \"abcd\" because the first position they differ is at the fourth character, and 'c' is smaller than 'd'.\n",
    "\n",
    " \n",
    "\n",
    "Example 1:\n",
    "\n",
    "Input: palindrome = \"abccba\"\n",
    "Output: \"aaccba\"\n",
    "Explanation: There are many ways to make \"abccba\" not a palindrome, such as \"zbccba\", \"aaccba\", and \"abacba\".\n",
    "Of all the ways, \"aaccba\" is the lexicographically smallest.\n",
    "\n",
    "Example 2:\n",
    "\n",
    "Input: palindrome = \"a\"\n",
    "Output: \"\"\n",
    "Explanation: There is no way to replace a single character to make \"a\" not a palindrome, so return an empty string.\n",
    "\n",
    "Example 3:\n",
    "\n",
    "Input: palindrome = \"aa\"\n",
    "Output: \"ab\"\n",
    "\n",
    "Example 4:\n",
    "\n",
    "Input: palindrome = \"aba\"\n",
    "Output: \"abb\"\n",
    "\n",
    " \n",
    "\n",
    "Constraints:\n",
    "\n",
    "    1 <= palindrome.length <= 1000\n",
    "    palindrome consists of only lowercase English letters.m"
   ]
  },
  {
   "cell_type": "markdown",
   "metadata": {},
   "source": [
    "# Iterate - O(N ^ 2) runtime, O(N) space"
   ]
  },
  {
   "cell_type": "code",
   "execution_count": 1,
   "metadata": {},
   "outputs": [],
   "source": [
    "from typing import List\n",
    "\n",
    "class Solution:\n",
    "    def breakPalindrome(self, palindrome: str) -> str:\n",
    "        \n",
    "        p = list(palindrome)\n",
    "        found = False\n",
    "        begin = ord('a')\n",
    "        for i in range(len(p)):\n",
    "            if p[i] > 'a':\n",
    "                curr = p[i]\n",
    "                for j in range(ord(curr) - begin):\n",
    "                    p[i] = chr(j + begin)\n",
    "                    if not self.isPalindrome(p): \n",
    "                        found = True\n",
    "                        break\n",
    "                if found: break\n",
    "                p[i] = curr\n",
    "        \n",
    "        if not found: \n",
    "            end = ord('z')\n",
    "            for i in range(len(p)-1, -1, -1):\n",
    "                if p[i] < 'z':\n",
    "                    curr = p[i]\n",
    "                    for j in range(ord(curr) + 1, end + 1):\n",
    "                        p[i] = chr(j)\n",
    "                        if not self.isPalindrome(p): \n",
    "                            found = True\n",
    "                            break\n",
    "                    if found: break\n",
    "                    p[i] = curr\n",
    "                    \n",
    "        return ''.join(p) if found else ''\n",
    "                    \n",
    "        \n",
    "    def isPalindrome(self, string: List[str]) -> bool:\n",
    "        l, r = 0, len(string) - 1\n",
    "        \n",
    "        while l < r:\n",
    "            if string[l] != string[r]: return False\n",
    "            l += 1\n",
    "            r -= 1\n",
    "            \n",
    "        return True"
   ]
  },
  {
   "cell_type": "markdown",
   "metadata": {},
   "source": [
    "# Simpler Solution Greedy - O(N) runtime, O(N) space"
   ]
  },
  {
   "cell_type": "code",
   "execution_count": 4,
   "metadata": {},
   "outputs": [],
   "source": [
    "class Solution:\n",
    "    def breakPalindrome(self, palindrome: str) -> str:\n",
    "        \n",
    "        for i in range(len(palindrome) // 2):\n",
    "            if palindrome[i] != 'a':\n",
    "                return palindrome[:i] + 'a' + palindrome[i + 1:]\n",
    "        return palindrome[:-1] + 'b' if palindrome[:-1] else ''"
   ]
  },
  {
   "cell_type": "code",
   "execution_count": 5,
   "metadata": {},
   "outputs": [
    {
     "data": {
      "text/plain": [
       "'aaccba'"
      ]
     },
     "execution_count": 5,
     "metadata": {},
     "output_type": "execute_result"
    }
   ],
   "source": [
    "instance = Solution()\n",
    "instance.breakPalindrome(\"abccba\")"
   ]
  }
 ],
 "metadata": {
  "kernelspec": {
   "display_name": "Python 3",
   "language": "python",
   "name": "python3"
  },
  "language_info": {
   "codemirror_mode": {
    "name": "ipython",
    "version": 3
   },
   "file_extension": ".py",
   "mimetype": "text/x-python",
   "name": "python",
   "nbconvert_exporter": "python",
   "pygments_lexer": "ipython3",
   "version": "3.7.3"
  }
 },
 "nbformat": 4,
 "nbformat_minor": 2
}
