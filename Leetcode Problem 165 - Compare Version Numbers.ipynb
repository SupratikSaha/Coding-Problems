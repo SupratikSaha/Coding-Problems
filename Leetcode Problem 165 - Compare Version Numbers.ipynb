{
 "cells": [
  {
   "cell_type": "markdown",
   "metadata": {},
   "source": [
    "Problem Statement. <br/>\n",
    "\n",
    "Given two version numbers, version1 and version2, compare them. <br/>\n",
    "Version numbers consist of one or more revisions joined by a dot '.'. Each revision consists of digits and may contain leading zeros. Every revision contains at least one character. Revisions are 0-indexed from left to right, with the leftmost revision being revision 0, the next revision being revision 1, and so on. For example 2.5.33 and 0.1 are valid version numbers. <br/>\n",
    "To compare version numbers, compare their revisions in left-to-right order. Revisions are compared using their integer value ignoring any leading zeros. This means that revisions 1 and 001 are considered equal. If a version number does not specify a revision at an index, then treat the revision as 0. For example, version 1.0 is less than version 1.1 because their revision 0s are the same, but their revision 1s are 0 and 1 respectively, and 0 < 1. <br/>\n",
    "\n",
    "Return the following: <br/>\n",
    "    If version1 < version2, return -1.\n",
    "    If version1 > version2, return 1.\n",
    "    Otherwise, return 0.\n",
    "\n",
    "Example 1: <br/>\n",
    "Input: version1 = \"1.01\", version2 = \"1.001\" <br/>\n",
    "Output: 0 <br/>\n",
    "Explanation: Ignoring leading zeroes, both \"01\" and \"001\" represent the same integer \"1\". <br/>\n",
    "\n",
    "Example 2: <br/>\n",
    "Input: version1 = \"1.0\", version2 = \"1.0.0\" <br/>\n",
    "Output: 0 <br/>\n",
    "Explanation: version1 does not specify revision 2, which means it is treated as \"0\". <br/>\n",
    "\n",
    "Example 3: <br/>\n",
    "Input: version1 = \"0.1\", version2 = \"1.1\" <br/>\n",
    "Output: -1 <br/>\n",
    "Explanation: version1's revision 0 is \"0\", while version2's revision 0 is \"1\". 0 < 1, so version1 < version2. <br/>\n",
    "\n",
    "Example 4: <br/>\n",
    "Input: version1 = \"1.0.1\", version2 = \"1\" <br/>\n",
    "Output: 1 <br/>\n",
    "\n",
    "Example 5: <br/>\n",
    "Input: version1 = \"7.5.2.4\", version2 = \"7.5.3\" <br/>\n",
    "Output: -1"
   ]
  },
  {
   "cell_type": "markdown",
   "metadata": {},
   "source": [
    "# Split + Parse, Two Pass - O(M + N + max(M,N)) runtime, O(M + N) space, where M & N are the lengths of the two version strings"
   ]
  },
  {
   "cell_type": "code",
   "execution_count": 3,
   "metadata": {},
   "outputs": [],
   "source": [
    "class Solution:\n",
    "    def compareVersion(self, version1: str, version2: str) -> int:\n",
    "        nums1 = version1.split('.')\n",
    "        nums2 = version2.split('.')\n",
    "        n1, n2 = len(nums1), len(nums2)\n",
    "        \n",
    "        # compare versions\n",
    "        for i in range(max(n1, n2)):\n",
    "            i1 = int(nums1[i]) if i < n1 else 0\n",
    "            i2 = int(nums2[i]) if i < n2 else 0\n",
    "            if i1 != i2:\n",
    "                return 1 if i1 > i2 else -1\n",
    "        \n",
    "        # the versions are equal\n",
    "        return 0 "
   ]
  },
  {
   "cell_type": "markdown",
   "metadata": {},
   "source": [
    "# Two Pointers, One Pass - O(max(M,N)) runtime, O(max(M,N)) space, where M & N are the lengths of the two version strings"
   ]
  },
  {
   "cell_type": "code",
   "execution_count": null,
   "metadata": {},
   "outputs": [],
   "source": [
    "class Solution:\n",
    "    def compareVersion(self, version1: str, version2: str) -> int:\n",
    "        p1 = p2 = 0\n",
    "        n1, n2 = len(version1), len(version2)\n",
    "        \n",
    "        # compare versions\n",
    "        while p1 < n1 or p2 < n2:\n",
    "            i1, p1 = self.get_next_chunk(version1, n1, p1)\n",
    "            i2, p2 = self.get_next_chunk(version2, n2, p2)            \n",
    "            if i1 != i2:\n",
    "                return 1 if i1 > i2 else -1\n",
    "        \n",
    "        # the versions are equal\n",
    "        return 0\n",
    "    \n",
    "    def get_next_chunk(self, version: str, n: int, p: int) -> List[int]:\n",
    "        # if pointer is set to the end of string\n",
    "        # return 0\n",
    "        if p > n - 1:\n",
    "            return 0, p\n",
    "        \n",
    "        # find the end of chunk\n",
    "        p_end = p\n",
    "        while p_end < n and version[p_end] != '.':\n",
    "            p_end += 1\n",
    "        # retrieve the chunk\n",
    "        i = int(version[p:p_end]) if p_end != n - 1 else int(version[p:n])\n",
    "        # find the beginning of next chunk\n",
    "        p = p_end + 1\n",
    "        \n",
    "        return i, p"
   ]
  },
  {
   "cell_type": "code",
   "execution_count": 4,
   "metadata": {},
   "outputs": [
    {
     "data": {
      "text/plain": [
       "-1"
      ]
     },
     "execution_count": 4,
     "metadata": {},
     "output_type": "execute_result"
    }
   ],
   "source": [
    "instance = Solution()\n",
    "instance.compareVersion( \"7.5.2.4\", \"7.5.3\")"
   ]
  }
 ],
 "metadata": {
  "kernelspec": {
   "display_name": "Python 3",
   "language": "python",
   "name": "python3"
  },
  "language_info": {
   "codemirror_mode": {
    "name": "ipython",
    "version": 3
   },
   "file_extension": ".py",
   "mimetype": "text/x-python",
   "name": "python",
   "nbconvert_exporter": "python",
   "pygments_lexer": "ipython3",
   "version": "3.7.3"
  }
 },
 "nbformat": 4,
 "nbformat_minor": 2
}
