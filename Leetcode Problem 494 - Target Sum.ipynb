{
 "cells": [
  {
   "cell_type": "markdown",
   "metadata": {},
   "source": [
    "    Problem Statement.\n",
    "\n",
    "    You are given a list of non-negative integers, a1, a2, ..., an, and a target, S. Now you have 2 symbols + and -. For each integer, you should choose one from + and - as its new symbol.\n",
    "\n",
    "    Find out how many ways to assign symbols to make sum of integers equal to target S.\n",
    "\n",
    "    Example 1:\n",
    "\n",
    "    Input: nums is [1, 1, 1, 1, 1], S is 3. \n",
    "    Output: 5\n",
    "    Explanation: \n",
    "\n",
    "    -1+1+1+1+1 = 3\n",
    "    +1-1+1+1+1 = 3\n",
    "    +1+1-1+1+1 = 3\n",
    "    +1+1+1-1+1 = 3\n",
    "    +1+1+1+1-1 = 3\n",
    "\n",
    "    There are 5 ways to assign symbols to make the sum of nums be target 3.\n",
    "\n",
    "\n",
    "\n",
    "    Constraints:\n",
    "\n",
    "        The length of the given array is positive and will not exceed 20.\n",
    "        The sum of elements in the given array will not exceed 1000.\n",
    "        Your output answer is guaranteed to be fitted in a 32-bit integer."
   ]
  },
  {
   "cell_type": "markdown",
   "metadata": {},
   "source": [
    "# Top Down DP with memoization - O(N * S) runtime, O(N * S) space, where N is the array size and S is the maximum sum of array"
   ]
  },
  {
   "cell_type": "code",
   "execution_count": 1,
   "metadata": {},
   "outputs": [],
   "source": [
    "from typing import List\n",
    "\n",
    "class Solution:\n",
    "    def findTargetSumWays(self, nums: List[int], S: int) -> int:\n",
    "        self.dp = [[float('-inf')] * 2001 for _ in range(len(nums))]\n",
    "        return  self.findTargetSumWaysRecursive(nums, 0, S, 0)\n",
    "    \n",
    "    def findTargetSumWaysRecursive(self, nums: List[int], currsum: int, S: int, index: int) -> int:\n",
    "        if index == len(nums):\n",
    "            if currsum == S: return 1\n",
    "            else: return 0\n",
    "\n",
    "        if self.dp[index][currsum+1000] != float('-inf'): return self.dp[index][currsum+1000]\n",
    "        \n",
    "        positive = self.findTargetSumWaysRecursive(nums, currsum+nums[index], S, index+1)\n",
    "        negative = self.findTargetSumWaysRecursive(nums, currsum-nums[index], S, index+1)\n",
    "        \n",
    "        self.dp[index][currsum+1000] = positive + negative\n",
    "        return self.dp[index][currsum+1000]"
   ]
  },
  {
   "cell_type": "markdown",
   "metadata": {},
   "source": [
    "# Bottom Up DP - O(N * S) runtime, O(N * S) space, where N is the array size and S is the maximum sum of array"
   ]
  },
  {
   "cell_type": "code",
   "execution_count": 3,
   "metadata": {},
   "outputs": [],
   "source": [
    "from typing import List\n",
    "\n",
    "class Solution:\n",
    "    def findTargetSumWays(self, nums: List[int], S: int) -> int:\n",
    "        if S > 1000 or S < -1000: return 0\n",
    "        \n",
    "        n = len(nums)\n",
    "        dp = [[0] * 2001 for _ in range(n)]\n",
    "        \n",
    "        dp[0][nums[0] + 1000] = 1\n",
    "        dp[0][-nums[0] + 1000] += 1\n",
    "        \n",
    "        for i in range(1, n):\n",
    "            for j in range(-1000, 1001):\n",
    "                if dp[i-1][j+1000] > 0:\n",
    "                    dp[i][j+nums[i]+1000] += dp[i-1][j+1000]\n",
    "                    dp[i][j-nums[i]+1000] += dp[i-1][j+1000]\n",
    "                    \n",
    "        return  dp[n-1][S+1000]"
   ]
  },
  {
   "cell_type": "markdown",
   "metadata": {},
   "source": [
    "# Space Optimized Bottom Up DP - O(N * S) runtime, O(S) space, where N is the array size and S is the maximum sum of array"
   ]
  },
  {
   "cell_type": "code",
   "execution_count": 5,
   "metadata": {},
   "outputs": [],
   "source": [
    "from typing import List\n",
    "\n",
    "class Solution:\n",
    "    def findTargetSumWays(self, nums: List[int], S: int) -> int:\n",
    "        if S > 1000 or S < -1000: return 0\n",
    "        \n",
    "        n = len(nums)\n",
    "        dp = [0] * 2001\n",
    "        \n",
    "        dp[nums[0] + 1000] = 1\n",
    "        dp[-nums[0] + 1000] += 1\n",
    "        \n",
    "        for i in range(1, n):\n",
    "            nextList = [0] * 2001\n",
    "            for j in range(-1000, 1001):\n",
    "                if dp[j+1000] > 0:\n",
    "                    nextList[j+nums[i]+1000] += dp[j+1000]\n",
    "                    nextList[j-nums[i]+1000] += dp[j+1000]\n",
    "            dp = nextList\n",
    "                    \n",
    "        return  dp[S+1000]"
   ]
  },
  {
   "cell_type": "code",
   "execution_count": 6,
   "metadata": {},
   "outputs": [
    {
     "data": {
      "text/plain": [
       "5"
      ]
     },
     "execution_count": 6,
     "metadata": {},
     "output_type": "execute_result"
    }
   ],
   "source": [
    "instance = Solution()\n",
    "instance.findTargetSumWays([1, 1, 1, 1, 1], 3)"
   ]
  }
 ],
 "metadata": {
  "kernelspec": {
   "display_name": "Python 3",
   "language": "python",
   "name": "python3"
  },
  "language_info": {
   "codemirror_mode": {
    "name": "ipython",
    "version": 3
   },
   "file_extension": ".py",
   "mimetype": "text/x-python",
   "name": "python",
   "nbconvert_exporter": "python",
   "pygments_lexer": "ipython3",
   "version": "3.7.3"
  }
 },
 "nbformat": 4,
 "nbformat_minor": 2
}
