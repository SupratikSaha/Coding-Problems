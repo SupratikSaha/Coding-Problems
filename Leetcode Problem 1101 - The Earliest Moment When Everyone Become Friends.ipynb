{
 "cells": [
  {
   "cell_type": "markdown",
   "metadata": {},
   "source": [
    "Problem Statement.\n",
    "\n",
    "In a social group, there are n people, with unique integer ids from 0 to n-1.\n",
    "\n",
    "We have a list of logs, where each logs[i] = [timestamp, id_A, id_B] contains a non-negative integer timestamp, and the ids of two different people.\n",
    "\n",
    "Each log represents the time in which two different people became friends.  Friendship is symmetric: if A is friends with B, then B is friends with A.\n",
    "\n",
    "Let's say that person A is acquainted with person B if A is friends with B, or A is a friend of someone acquainted with B.\n",
    "\n",
    "Return the earliest time for which every person became acquainted with every other person. Return -1 if there is no such earliest time.\n",
    "\n",
    " \n",
    "\n",
    "Example 1:\n",
    "\n",
    "Input: logs = [[20190101,0,1],[20190104,3,4],[20190107,2,3],[20190211,1,5],[20190224,2,4],[20190301,0,3],[20190312,1,2],[20190322,4,5]], n = 6\n",
    "Output: 20190301\n",
    "Explanation: \n",
    "The first event occurs at timestamp = 20190101 and after 0 and 1 become friends we have the following friendship groups [0,1], [2], [3], [4], [5].\n",
    "The second event occurs at timestamp = 20190104 and after 3 and 4 become friends we have the following friendship groups [0,1], [2], [3,4], [5].\n",
    "The third event occurs at timestamp = 20190107 and after 2 and 3 become friends we have the following friendship groups [0,1], [2,3,4], [5].\n",
    "The fourth event occurs at timestamp = 20190211 and after 1 and 5 become friends we have the following friendship groups [0,1,5], [2,3,4].\n",
    "The fifth event occurs at timestamp = 20190224 and as 2 and 4 are already friend anything happens.\n",
    "The sixth event occurs at timestamp = 20190301 and after 0 and 3 become friends we have that all become friends.\n",
    "\n",
    " \n",
    "\n",
    "Note:\n",
    "\n",
    "    2 <= n <= 100\n",
    "    1 <= logs.length <= 104\n",
    "    0 <= logs[i][0] <= 109\n",
    "    0 <= logs[i][1], logs[i][2] <= n - 1\n",
    "    It's guaranteed that all timestamps in logs[i][0] are different.\n",
    "    logs are not necessarily ordered by some criteria.\n",
    "    logs[i][1] != logs[i][2]"
   ]
  },
  {
   "cell_type": "markdown",
   "metadata": {},
   "source": [
    "# Sort and Hash Set - O(N ^ 2) runtime, O(N) space"
   ]
  },
  {
   "cell_type": "code",
   "execution_count": 1,
   "metadata": {},
   "outputs": [],
   "source": [
    "from typing import List\n",
    "\n",
    "class Solution:\n",
    "    def earliestAcq(self, logs: List[List[int]], n: int) -> int:\n",
    "        logs.sort()\n",
    "        lisOfSets = []\n",
    "        \n",
    "        for ts, id1, id2 in logs:\n",
    "            firstSetIndex, secondSetIndex = None, None\n",
    "            for i, currSet in enumerate(lisOfSets):\n",
    "                if id1 in currSet or id2 in currSet:\n",
    "                    if firstSetIndex is None:\n",
    "                        lisOfSets[i] = currSet.union({id1, id2})\n",
    "                        firstSetIndex = i\n",
    "                        if len(lisOfSets[i]) == n: return ts\n",
    "                    else:\n",
    "                        lisOfSets[i] = currSet.union(lisOfSets[firstSetIndex])\n",
    "                        secondSetIndex = i\n",
    "                        if len(lisOfSets[i]) == n: return ts\n",
    "                        break   \n",
    "            if secondSetIndex is not None:\n",
    "                lisOfSets[firstSetIndex] = set()\n",
    "            elif firstSetIndex is None:\n",
    "                lisOfSets.append({id1, id2})\n",
    "                        \n",
    "        return -1"
   ]
  },
  {
   "cell_type": "markdown",
   "metadata": {},
   "source": [
    "# Sort and Union Find - O(N ^ 2) runtime, O(N) space"
   ]
  },
  {
   "cell_type": "code",
   "execution_count": 3,
   "metadata": {},
   "outputs": [],
   "source": [
    "from typing import List\n",
    "\n",
    "class Solution:\n",
    "    def earliestAcq(self, logs: List[List[int]], n: int) -> int:\n",
    "        uf = {x: x for x in range(n)}\n",
    "        self.groups = n\n",
    "\n",
    "        def merge(x, y):\n",
    "            x, y = find(x), find(y)\n",
    "            if x != y:\n",
    "                self.groups -= 1\n",
    "                uf[x] = y\n",
    "\n",
    "        def find(x):\n",
    "            if uf[x] != x:\n",
    "                uf[x] = find(uf[x])\n",
    "            return uf[x]\n",
    "\n",
    "        for t, x, y in sorted(logs):\n",
    "            merge(x, y)\n",
    "            if self.groups == 1:\n",
    "                return t\n",
    "        return -1"
   ]
  },
  {
   "cell_type": "code",
   "execution_count": 4,
   "metadata": {},
   "outputs": [
    {
     "data": {
      "text/plain": [
       "20190301"
      ]
     },
     "execution_count": 4,
     "metadata": {},
     "output_type": "execute_result"
    }
   ],
   "source": [
    "instance = Solution()\n",
    "instance.earliestAcq( [[20190101,0,1],[20190104,3,4],[20190107,2,3],[20190211,1,5],[20190224,2,4],\n",
    "                       [20190301,0,3],[20190312,1,2],[20190322,4,5]], 6)"
   ]
  }
 ],
 "metadata": {
  "kernelspec": {
   "display_name": "Python 3",
   "language": "python",
   "name": "python3"
  },
  "language_info": {
   "codemirror_mode": {
    "name": "ipython",
    "version": 3
   },
   "file_extension": ".py",
   "mimetype": "text/x-python",
   "name": "python",
   "nbconvert_exporter": "python",
   "pygments_lexer": "ipython3",
   "version": "3.7.3"
  }
 },
 "nbformat": 4,
 "nbformat_minor": 2
}
