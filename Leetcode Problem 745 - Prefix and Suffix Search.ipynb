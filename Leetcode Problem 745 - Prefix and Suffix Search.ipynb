{
 "cells": [
  {
   "cell_type": "markdown",
   "metadata": {},
   "source": [
    "Problem Statement.\n",
    "\n",
    "Design a special dictionary with some words that searchs the words in it by a prefix and a suffix.\n",
    "\n",
    "Implement the WordFilter class:\n",
    "\n",
    "    WordFilter(string[] words) Initializes the object with the words in the dictionary.\n",
    "    f(string prefix, string suffix) Returns the index of the word in the dictionary, which has the prefix prefix and the suffix suffix. If there is more than one valid index, return the largest of them. If there is no such word in the dictionary, return -1.\n",
    "\n",
    " \n",
    "\n",
    "Example 1:\n",
    "\n",
    "Input\n",
    "[\"WordFilter\", \"f\"]\n",
    "[[[\"apple\"]], [\"a\", \"e\"]]\n",
    "Output\n",
    "[null, 0]\n",
    "\n",
    "Explanation\n",
    "WordFilter wordFilter = new WordFilter([\"apple\"]);\n",
    "wordFilter.f(\"a\", \"e\"); // return 0, because the word at index 0 has prefix = \"a\" and suffix = 'e\".\n",
    "\n",
    " \n",
    "\n",
    "Constraints:\n",
    "\n",
    "    1 <= words.length <= 15000\n",
    "    1 <= words[i].length <= 10\n",
    "    1 <= prefix.length, suffix.length <= 10\n",
    "    words[i], prefix and suffix consist of lower-case English letters only.\n",
    "    At most 15000 calls will be made to the function f."
   ]
  },
  {
   "cell_type": "markdown",
   "metadata": {},
   "source": [
    "# Trie - O(W) init, O(26 ^ L) f runtime, O(26 ^ L) space, where W is the number of chars in the dictionary and L is the length of longest word"
   ]
  },
  {
   "cell_type": "code",
   "execution_count": 4,
   "metadata": {},
   "outputs": [],
   "source": [
    "from typing import List\n",
    "from collections import deque\n",
    "\n",
    "class WordFilter:\n",
    "\n",
    "    def __init__(self, words: List[str]):\n",
    "        self.trie = {}\n",
    "        \n",
    "        for i, word in enumerate(words):\n",
    "            cur = self.trie\n",
    "            for c in word:\n",
    "                if c not in cur: cur[c] = {}\n",
    "                cur = cur[c]\n",
    "            cur['$'] = i\n",
    "\n",
    "    def f(self, prefix: str, suffix: str) -> int:\n",
    "        cur = self.trie\n",
    "        \n",
    "        for c in prefix:\n",
    "            if c not in cur: return -1\n",
    "            cur = cur[c]\n",
    "            \n",
    "        queue = deque([(cur, prefix)])\n",
    "        res = -1\n",
    "        l = len(suffix)\n",
    "        \n",
    "        while queue:\n",
    "            cur, w = queue.popleft()\n",
    "            if '$' in cur and len(w) >= l and w[-l:] == suffix and res < cur['$']: \n",
    "                res = cur['$']\n",
    "            \n",
    "            for c in cur:\n",
    "                if c != '$': queue.append((cur[c], w+c))\n",
    "                    \n",
    "        return res"
   ]
  },
  {
   "cell_type": "markdown",
   "metadata": {},
   "source": [
    "# Trie of Suffix Wrapped Words - O(N * K ^ 2 + Q * K) runtime,  O(N * K ^ 2) space, where N is the number of words, K is the maximum length of a word, and Q is the number of queries."
   ]
  },
  {
   "cell_type": "code",
   "execution_count": 6,
   "metadata": {},
   "outputs": [],
   "source": [
    "from typing import List\n",
    "\n",
    "class WordFilter:\n",
    "\n",
    "    def __init__(self, words: List[str]):\n",
    "        self.trie = {}\n",
    "\n",
    "        for ctr, word in enumerate(words):\n",
    "            word += '#'\n",
    "            l = len(word)\n",
    "            \n",
    "            for i in range(l):\n",
    "                cur = self.trie\n",
    "                cur['$'] = i\n",
    "                \n",
    "                for j in range(i, 2 * l - 1):\n",
    "                    c = word[j % l]\n",
    "                    if c not in cur: cur[c] = {}\n",
    "                    cur = cur[c]\n",
    "                    cur['$'] = ctr\n",
    "\n",
    "    def f(self, prefix: str, suffix: str) -> int:\n",
    "        cur = self.trie\n",
    "        for letter in suffix + '#' + prefix:\n",
    "            if letter not in cur: return -1\n",
    "            cur = cur[letter]\n",
    "            \n",
    "        return cur['$']"
   ]
  },
  {
   "cell_type": "code",
   "execution_count": 7,
   "metadata": {},
   "outputs": [
    {
     "data": {
      "text/plain": [
       "0"
      ]
     },
     "execution_count": 7,
     "metadata": {},
     "output_type": "execute_result"
    }
   ],
   "source": [
    "instance = WordFilter([\"apple\"])\n",
    "instance.f('a', 'e')"
   ]
  }
 ],
 "metadata": {
  "kernelspec": {
   "display_name": "Python 3",
   "language": "python",
   "name": "python3"
  },
  "language_info": {
   "codemirror_mode": {
    "name": "ipython",
    "version": 3
   },
   "file_extension": ".py",
   "mimetype": "text/x-python",
   "name": "python",
   "nbconvert_exporter": "python",
   "pygments_lexer": "ipython3",
   "version": "3.7.3"
  }
 },
 "nbformat": 4,
 "nbformat_minor": 2
}
