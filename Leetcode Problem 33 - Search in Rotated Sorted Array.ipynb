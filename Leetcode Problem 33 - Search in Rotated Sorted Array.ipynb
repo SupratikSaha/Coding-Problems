{
 "cells": [
  {
   "cell_type": "markdown",
   "metadata": {},
   "source": [
    "# Binary Search and find rotation index : O(log n) run time, O(1) space"
   ]
  },
  {
   "cell_type": "code",
   "execution_count": null,
   "metadata": {},
   "outputs": [],
   "source": [
    "class Solution:\n",
    "    def search(self, nums: List[int], target: int) -> int:\n",
    "        \n",
    "        def find_rotate_index(left, right):\n",
    "            if nums[left] < nums[right]:\n",
    "                return 0\n",
    "            \n",
    "            while left <= right:\n",
    "                pivot = (left + right) // 2\n",
    "                \n",
    "                if nums[pivot] > nums[pivot + 1]:\n",
    "                    return pivot + 1\n",
    "                else:\n",
    "                    if nums[pivot] < nums[left]:\n",
    "                        right = pivot - 1\n",
    "                    else:\n",
    "                        left = pivot + 1\n",
    "                \n",
    "        def bin_search(left, right):\n",
    "            \"\"\"\n",
    "            Binary search\n",
    "            \"\"\"\n",
    "            while left <= right:\n",
    "                pivot = (left + right) // 2\n",
    "                if nums[pivot] == target:\n",
    "                    return pivot\n",
    "                else:\n",
    "                    if target < nums[pivot]:\n",
    "                        right = pivot - 1\n",
    "                    else:\n",
    "                        left = pivot + 1\n",
    "            return -1\n",
    "        \n",
    "        n = len(nums)\n",
    "        \n",
    "        if n == 0:\n",
    "            return -1\n",
    "        if n == 1:\n",
    "            return 0 if nums[0] == target else -1 \n",
    "        \n",
    "        rotate_index = find_rotate_index(0, n - 1)\n",
    "        \n",
    "        # if target is the smallest element\n",
    "        if nums[rotate_index] == target:\n",
    "            return rotate_index\n",
    "        # if array is not rotated, search in the entire array\n",
    "        if rotate_index == 0:\n",
    "            return bin_search(0, n - 1)\n",
    "        if target < nums[0]:\n",
    "            # search on the right side\n",
    "            return bin_search(rotate_index, n - 1)\n",
    "        # search on the left side\n",
    "        return bin_search(0, rotate_index)"
   ]
  },
  {
   "cell_type": "markdown",
   "metadata": {},
   "source": [
    "# One Pass - O(log n) run time, O(1) space"
   ]
  },
  {
   "cell_type": "code",
   "execution_count": null,
   "metadata": {},
   "outputs": [],
   "source": [
    "class Solution:\n",
    "    def search(self, nums: List[int], target: int) -> int:\n",
    "        length = len(nums)\n",
    "        \n",
    "        if length == 0:\n",
    "            return -1\n",
    "        \n",
    "        start, end = 0, length - 1\n",
    "        \n",
    "        while start <= end:\n",
    "            mid = start + (end - start) // 2\n",
    "            \n",
    "            if nums[mid] == target:\n",
    "                return mid\n",
    "            elif nums[start] <= nums[mid]:\n",
    "                if target >= nums[start] and target <= nums[mid]:\n",
    "                    end = mid - 1\n",
    "                else:\n",
    "                    start = mid + 1\n",
    "            else:\n",
    "                if target > nums[mid] and target <= nums[end]:\n",
    "                    start = mid + 1\n",
    "                else:\n",
    "                    end = mid - 1\n",
    "                    \n",
    "        return -1"
   ]
  }
 ],
 "metadata": {
  "kernelspec": {
   "display_name": "Python 3",
   "language": "python",
   "name": "python3"
  },
  "language_info": {
   "codemirror_mode": {
    "name": "ipython",
    "version": 3
   },
   "file_extension": ".py",
   "mimetype": "text/x-python",
   "name": "python",
   "nbconvert_exporter": "python",
   "pygments_lexer": "ipython3",
   "version": "3.7.3"
  }
 },
 "nbformat": 4,
 "nbformat_minor": 2
}
