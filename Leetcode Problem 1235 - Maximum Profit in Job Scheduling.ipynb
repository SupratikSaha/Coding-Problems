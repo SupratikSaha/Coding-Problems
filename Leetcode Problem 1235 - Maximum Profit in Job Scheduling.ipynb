{
 "cells": [
  {
   "cell_type": "markdown",
   "metadata": {},
   "source": [
    "Problem Statement.\n",
    "\n",
    "We have n jobs, where every job is scheduled to be done from startTime[i] to endTime[i], obtaining a profit of profit[i].\n",
    "\n",
    "You're given the startTime, endTime and profit arrays, return the maximum profit you can take such that there are no two jobs in the subset with overlapping time range.\n",
    "\n",
    "If you choose a job that ends at time X you will be able to start another job that starts at time X.\n",
    "\n",
    " \n",
    "\n",
    "Example 1:\n",
    "\n",
    "Input: startTime = [1,2,3,3], endTime = [3,4,5,6], profit = [50,10,40,70]\n",
    "Output: 120\n",
    "Explanation: The subset chosen is the first and fourth job. \n",
    "Time range [1-3]+[3-6] , we get profit of 120 = 50 + 70.\n",
    "\n",
    "Example 2:\n",
    "\n",
    "Input: startTime = [1,2,3,4,6], endTime = [3,5,10,6,9], profit = [20,20,100,70,60]\n",
    "Output: 150\n",
    "Explanation: The subset chosen is the first, fourth and fifth job. \n",
    "Profit obtained 150 = 20 + 70 + 60.\n",
    "\n",
    "Example 3:\n",
    "\n",
    "Input: startTime = [1,1,1], endTime = [2,3,4], profit = [5,6,4]\n",
    "Output: 6\n",
    "\n",
    " \n",
    "\n",
    "Constraints:\n",
    "\n",
    "    1 <= startTime.length == endTime.length == profit.length <= 5 * 10^4\n",
    "    1 <= startTime[i] < endTime[i] <= 10^9\n",
    "    1 <= profit[i] <= 10^4"
   ]
  },
  {
   "cell_type": "markdown",
   "metadata": {},
   "source": [
    "# Sort and DP - O(N * Log N) runtime, O(N) space"
   ]
  },
  {
   "cell_type": "code",
   "execution_count": 3,
   "metadata": {},
   "outputs": [],
   "source": [
    "from typing import List\n",
    "from bisect import bisect\n",
    "\n",
    "class Solution:\n",
    "    def jobScheduling(self, startTime: List[int], endTime: List[int], profit: List[int]) -> int:\n",
    "        jobs = sorted(zip(startTime, endTime, profit), key=lambda v: v[1])\n",
    "        dp = [[0, 0]]\n",
    "        for s, e, p in jobs:\n",
    "            i = bisect(dp, [s + 1]) - 1\n",
    "            if dp[i][1] + p > dp[-1][1]:\n",
    "                dp.append([e, dp[i][1] + p])\n",
    "        return dp[-1][1]"
   ]
  },
  {
   "cell_type": "markdown",
   "metadata": {},
   "source": [
    "# Another Sort and DP - O(N * Log N) runtime, O(N) space"
   ]
  },
  {
   "cell_type": "code",
   "execution_count": 6,
   "metadata": {},
   "outputs": [],
   "source": [
    "from typing import List\n",
    "from bisect import bisect_left\n",
    "\n",
    "class Solution:\n",
    "    def jobScheduling(self, startTime: List[int], endTime: List[int], profit: List[int]) -> int:\n",
    "        n = len(startTime)\n",
    "        start, end, profit = zip(*sorted(zip(startTime, endTime, profit)))\n",
    "        jump = {i: bisect_left(start, end[i]) for i in range(n)}\n",
    "\n",
    "        dp = [0 for _ in range(n+1)]\n",
    "        for i in reversed(range(n)):\n",
    "            dp[i] = max(dp[i+1], profit[i] + dp[jump[i]])\n",
    "\n",
    "        return dp[0]"
   ]
  },
  {
   "cell_type": "code",
   "execution_count": 7,
   "metadata": {},
   "outputs": [
    {
     "data": {
      "text/plain": [
       "150"
      ]
     },
     "execution_count": 7,
     "metadata": {},
     "output_type": "execute_result"
    }
   ],
   "source": [
    "instance = Solution()\n",
    "instance.jobScheduling([1,2,3,4,6], [3,5,10,6,9], [20,20,100,70,60])"
   ]
  }
 ],
 "metadata": {
  "kernelspec": {
   "display_name": "Python 3",
   "language": "python",
   "name": "python3"
  },
  "language_info": {
   "codemirror_mode": {
    "name": "ipython",
    "version": 3
   },
   "file_extension": ".py",
   "mimetype": "text/x-python",
   "name": "python",
   "nbconvert_exporter": "python",
   "pygments_lexer": "ipython3",
   "version": "3.7.3"
  }
 },
 "nbformat": 4,
 "nbformat_minor": 2
}
