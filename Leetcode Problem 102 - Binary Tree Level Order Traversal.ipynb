{
 "cells": [
  {
   "cell_type": "markdown",
   "metadata": {},
   "source": [
    "Given a binary tree, return the level order traversal of its nodes' values. (ie, from left to right, level by level).\n",
    "\n",
    "For example:\n",
    "Given binary tree [3,9,20,null,null,15,7],\n",
    "\n",
    "    3 <br/>\n",
    "   / \\ <br/>\n",
    "  9  20 <br/>\n",
    "    /  \\ <br/>\n",
    "   15   7 <br/>\n",
    "\n",
    "return its level order traversal as:\n",
    "\n",
    "[\n",
    "  [3],\n",
    "  [9,20],\n",
    "  [15,7]\n",
    "]"
   ]
  },
  {
   "cell_type": "markdown",
   "metadata": {},
   "source": [
    "# BFS - O(n) runtime, O(n) space"
   ]
  },
  {
   "cell_type": "code",
   "execution_count": 5,
   "metadata": {},
   "outputs": [],
   "source": [
    "from typing import List\n",
    "\n",
    "# Definition for a binary tree node.\n",
    "class TreeNode:\n",
    "    def __init__(self, val=0, left=None, right=None):\n",
    "        self.val = val\n",
    "        self.left = left\n",
    "        self.right = right\n",
    "        \n",
    "class Solution:\n",
    "    def levelOrder(self, root: TreeNode) -> List[List[int]]:\n",
    "        if root is None:\n",
    "            return []\n",
    "        \n",
    "        result = []\n",
    "        cache = [(0,root)]\n",
    "        \n",
    "        while cache:\n",
    "            level, curr = cache.pop(0)\n",
    "            \n",
    "            if level == len(result):\n",
    "                result.append([])\n",
    "\n",
    "            result[level].append(curr.val)\n",
    "            \n",
    "            if curr.left:\n",
    "                cache.append((level + 1, curr.left))\n",
    "            if curr.right:\n",
    "                cache.append((level + 1, curr.right))\n",
    "                \n",
    "        return result"
   ]
  },
  {
   "cell_type": "markdown",
   "metadata": {},
   "source": [
    "# DFS - O(n) runtime, O(n) space"
   ]
  },
  {
   "cell_type": "code",
   "execution_count": 6,
   "metadata": {},
   "outputs": [],
   "source": [
    "from typing import List\n",
    "\n",
    "# Definition for a binary tree node.\n",
    "class TreeNode:\n",
    "    def __init__(self, val=0, left=None, right=None):\n",
    "        self.val = val\n",
    "        self.left = left\n",
    "        self.right = right\n",
    "        \n",
    "class Solution:\n",
    "    def levelOrder(self, root: TreeNode) -> List[List[int]]:\n",
    "        if root is None:\n",
    "            return []\n",
    "        \n",
    "        result = []\n",
    "        result = self.do_levelOrder(root, 0, result)\n",
    "        \n",
    "        return result\n",
    "        \n",
    "    def do_levelOrder(self, root: TreeNode, level: int, result: List[List[int]]) -> List[List[int]]:\n",
    "        if root is None:\n",
    "            return result\n",
    "            \n",
    "        if level == len(result):\n",
    "            result.append([])\n",
    "\n",
    "        result[level].append(root.val)\n",
    "\n",
    "        result = self.do_levelOrder(root.left, level + 1, result)\n",
    "        result = self.do_levelOrder(root.right, level + 1, result)\n",
    "                \n",
    "        return result"
   ]
  },
  {
   "cell_type": "markdown",
   "metadata": {},
   "source": [
    "# BFS with two loops - O(n) runtime, O(n) space"
   ]
  },
  {
   "cell_type": "code",
   "execution_count": 7,
   "metadata": {},
   "outputs": [],
   "source": [
    "from typing import List\n",
    "\n",
    "# Definition for a binary tree node.\n",
    "# class TreeNode:\n",
    "#     def __init__(self, val=0, left=None, right=None):\n",
    "#         self.val = val\n",
    "#         self.left = left\n",
    "#         self.right = right\n",
    "class Solution:\n",
    "    def levelOrder(self, root: TreeNode) -> List[List[int]]:\n",
    "        levels = []\n",
    "        if not root:\n",
    "            return levels\n",
    "        \n",
    "        level = 0\n",
    "        queue = deque([root,])\n",
    "        while queue:\n",
    "            # start the current level\n",
    "            levels.append([])\n",
    "            # number of elements in the current level \n",
    "            level_length = len(queue)\n",
    "            \n",
    "            for i in range(level_length):\n",
    "                node = queue.popleft()\n",
    "                # fulfill the current level\n",
    "                levels[level].append(node.val)\n",
    "                \n",
    "                # add child nodes of the current level\n",
    "                # in the queue for the next level\n",
    "                if node.left:\n",
    "                    queue.append(node.left)\n",
    "                if node.right:\n",
    "                    queue.append(node.right)\n",
    "                    \n",
    "                    # go to next level\n",
    "            level += 1\n",
    "        \n",
    "        return levels"
   ]
  }
 ],
 "metadata": {
  "kernelspec": {
   "display_name": "Python 3",
   "language": "python",
   "name": "python3"
  },
  "language_info": {
   "codemirror_mode": {
    "name": "ipython",
    "version": 3
   },
   "file_extension": ".py",
   "mimetype": "text/x-python",
   "name": "python",
   "nbconvert_exporter": "python",
   "pygments_lexer": "ipython3",
   "version": "3.7.3"
  }
 },
 "nbformat": 4,
 "nbformat_minor": 2
}
