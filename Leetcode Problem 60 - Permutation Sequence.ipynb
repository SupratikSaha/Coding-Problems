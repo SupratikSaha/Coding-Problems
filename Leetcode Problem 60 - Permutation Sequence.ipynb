{
 "cells": [
  {
   "cell_type": "markdown",
   "metadata": {},
   "source": [
    "Problem Statement.\n",
    "\n",
    "The set [1, 2, 3, ..., n] contains a total of n! unique permutations.\n",
    "\n",
    "By listing and labeling all of the permutations in order, we get the following sequence for n = 3:\n",
    "\n",
    "    \"123\"\n",
    "    \"132\"\n",
    "    \"213\"\n",
    "    \"231\"\n",
    "    \"312\"\n",
    "    \"321\"\n",
    "\n",
    "Given n and k, return the kth permutation sequence.\n",
    "\n",
    " \n",
    "\n",
    "Example 1:\n",
    "\n",
    "Input: n = 3, k = 3\n",
    "Output: \"213\"\n",
    "\n",
    "Example 2:\n",
    "\n",
    "Input: n = 4, k = 9\n",
    "Output: \"2314\"\n",
    "\n",
    "Example 3:\n",
    "\n",
    "Input: n = 3, k = 1\n",
    "Output: \"123\"\n",
    "\n",
    " \n",
    "\n",
    "Constraints:\n",
    "\n",
    "    1 <= n <= 9\n",
    "    1 <= k <= n!"
   ]
  },
  {
   "cell_type": "markdown",
   "metadata": {},
   "source": [
    "# Factorial System - O(N ^ 2) runtime, O(N) space"
   ]
  },
  {
   "cell_type": "code",
   "execution_count": 1,
   "metadata": {},
   "outputs": [],
   "source": [
    "class Solution:\n",
    "    def getPermutation(self, n: int, k: int) -> str:\n",
    "        factorials, nums = [1], ['1']\n",
    "        for i in range(1, n):\n",
    "            # generate factorial system bases 0!, 1!, ..., (n - 1)!\n",
    "            factorials.append(factorials[i - 1] * i)\n",
    "            # generate nums 1, 2, ..., n\n",
    "            nums.append(str(i + 1))\n",
    "        \n",
    "        # fit k in the interval 0 ... (n! - 1)\n",
    "        k -= 1\n",
    "        \n",
    "        # compute factorial representation of k\n",
    "        output = []\n",
    "        for i in range(n - 1, -1, -1):\n",
    "            idx = k // factorials[i]\n",
    "            k -= idx * factorials[i]\n",
    "            \n",
    "            output.append(nums[idx])\n",
    "            nums.pop(idx)\n",
    "        \n",
    "        return ''.join(output)"
   ]
  },
  {
   "cell_type": "code",
   "execution_count": 2,
   "metadata": {},
   "outputs": [
    {
     "data": {
      "text/plain": [
       "'213'"
      ]
     },
     "execution_count": 2,
     "metadata": {},
     "output_type": "execute_result"
    }
   ],
   "source": [
    "instance = Solution()\n",
    "instance.getPermutation(3, 3)"
   ]
  }
 ],
 "metadata": {
  "kernelspec": {
   "display_name": "Python 3",
   "language": "python",
   "name": "python3"
  },
  "language_info": {
   "codemirror_mode": {
    "name": "ipython",
    "version": 3
   },
   "file_extension": ".py",
   "mimetype": "text/x-python",
   "name": "python",
   "nbconvert_exporter": "python",
   "pygments_lexer": "ipython3",
   "version": "3.7.3"
  }
 },
 "nbformat": 4,
 "nbformat_minor": 2
}
