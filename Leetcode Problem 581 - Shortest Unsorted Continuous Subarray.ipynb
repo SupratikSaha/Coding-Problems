{
 "cells": [
  {
   "cell_type": "markdown",
   "metadata": {},
   "source": [
    "    Problem Statement.\n",
    "\n",
    "    Given an integer array nums, you need to find one continuous subarray that if you only sort this subarray in ascending order, then the whole array will be sorted in ascending order.\n",
    "\n",
    "    Return the shortest such subarray and output its length.\n",
    "\n",
    "\n",
    "\n",
    "    Example 1:\n",
    "\n",
    "    Input: nums = [2,6,4,8,10,9,15]\n",
    "    Output: 5\n",
    "    Explanation: You need to sort [6, 4, 8, 10, 9] in ascending order to make the whole array sorted in ascending order.\n",
    "\n",
    "    Example 2:\n",
    "\n",
    "    Input: nums = [1,2,3,4]\n",
    "    Output: 0\n",
    "\n",
    "    Example 3:\n",
    "\n",
    "    Input: nums = [1]\n",
    "    Output: 0\n",
    "\n",
    "\n",
    "\n",
    "    Constraints:\n",
    "\n",
    "        1 <= nums.length <= 104\n",
    "        -105 <= nums[i] <= 105\n",
    "\n",
    "\n",
    "    Follow up: Can you solve it in O(n) time complexity?"
   ]
  },
  {
   "cell_type": "markdown",
   "metadata": {},
   "source": [
    "# Sorting - O(N logN) runtime, O(N) space"
   ]
  },
  {
   "cell_type": "code",
   "execution_count": 1,
   "metadata": {},
   "outputs": [],
   "source": [
    "from typing import List\n",
    "\n",
    "class Solution:\n",
    "    def findUnsortedSubarray(self, nums: List[int]) -> int:\n",
    "        sortedNums = sorted(nums)\n",
    "        start, end = 0, -1\n",
    "        for i in range(len(nums)):\n",
    "            if nums[i] != sortedNums[i]: \n",
    "                start = i\n",
    "                break\n",
    "                \n",
    "        for i in reversed(range(len(nums))):\n",
    "            if nums[i] != sortedNums[i]: \n",
    "                end = i\n",
    "                break\n",
    "                \n",
    "        return end - start + 1"
   ]
  },
  {
   "cell_type": "markdown",
   "metadata": {},
   "source": [
    "# Linear Traversal - O(N) runtime, O(1) space"
   ]
  },
  {
   "cell_type": "code",
   "execution_count": 3,
   "metadata": {},
   "outputs": [],
   "source": [
    "from typing import List\n",
    "\n",
    "class Solution:\n",
    "    def findUnsortedSubarray(self, nums: List[int]) -> int:\n",
    "        \n",
    "        n = len(nums)\n",
    "        \n",
    "        if n < 2: return 0\n",
    "        \n",
    "        l, r = 0, n - 1\n",
    "        \n",
    "        while l < n - 1 and nums[l] <= nums[l + 1]:\n",
    "            l += 1\n",
    "        \n",
    "        while r > 0 and nums[r] >= nums[r -1]:\n",
    "            r -= 1\n",
    "            \n",
    "        if l > r:\n",
    "            return 0\n",
    "        \n",
    "        def find_min_max(l, r):\n",
    "            l_min, l_max = float('inf'), float('-inf')\n",
    "            for i in range(l, r+1):\n",
    "                l_min = min(l_min, nums[i])\n",
    "                l_max = max(l_max, nums[i])\n",
    "                \n",
    "            return l_min, l_max\n",
    "            \n",
    "        tempMin, tempMax = find_min_max(l, min(r+1, n-1))\n",
    "        \n",
    "        while l > 0 and tempMin < nums[l-1]:\n",
    "            l -= 1\n",
    "        \n",
    "        while r < len(nums) - 1 and tempMax > nums[r+1]:\n",
    "            r += 1\n",
    "            \n",
    "        return r - l + 1"
   ]
  },
  {
   "cell_type": "code",
   "execution_count": 4,
   "metadata": {},
   "outputs": [
    {
     "data": {
      "text/plain": [
       "5"
      ]
     },
     "execution_count": 4,
     "metadata": {},
     "output_type": "execute_result"
    }
   ],
   "source": [
    "instance = Solution()\n",
    "instance.findUnsortedSubarray([2,6,4,8,10,9,15])"
   ]
  }
 ],
 "metadata": {
  "kernelspec": {
   "display_name": "Python 3",
   "language": "python",
   "name": "python3"
  },
  "language_info": {
   "codemirror_mode": {
    "name": "ipython",
    "version": 3
   },
   "file_extension": ".py",
   "mimetype": "text/x-python",
   "name": "python",
   "nbconvert_exporter": "python",
   "pygments_lexer": "ipython3",
   "version": "3.7.3"
  }
 },
 "nbformat": 4,
 "nbformat_minor": 2
}
