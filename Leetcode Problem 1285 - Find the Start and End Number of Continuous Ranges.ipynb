{
 "cells": [
  {
   "cell_type": "markdown",
   "metadata": {},
   "source": [
    "    Problem Statement.\n",
    "\n",
    "    Table: Logs\n",
    "\n",
    "    +---------------+---------+\n",
    "    | Column Name   | Type    |\n",
    "    +---------------+---------+\n",
    "    | log_id        | int     |\n",
    "    +---------------+---------+\n",
    "    log_id is the primary key for this table.\n",
    "    Each row of this table contains the ID in a log Table.\n",
    "\n",
    "\n",
    "\n",
    "    Write an SQL query to find the start and end number of continuous ranges in the table Logs.\n",
    "\n",
    "    Return the result table ordered by start_id.\n",
    "\n",
    "    The query result format is in the following example.\n",
    "\n",
    "\n",
    "\n",
    "    Example 1:\n",
    "\n",
    "    Input: \n",
    "    Logs table:\n",
    "    +------------+\n",
    "    | log_id     |\n",
    "    +------------+\n",
    "    | 1          |\n",
    "    | 2          |\n",
    "    | 3          |\n",
    "    | 7          |\n",
    "    | 8          |\n",
    "    | 10         |\n",
    "    +------------+\n",
    "    Output: \n",
    "    +------------+--------------+\n",
    "    | start_id   | end_id       |\n",
    "    +------------+--------------+\n",
    "    | 1          | 3            |\n",
    "    | 7          | 8            |\n",
    "    | 10         | 10           |\n",
    "    +------------+--------------+\n",
    "    Explanation: \n",
    "    The result table should contain all ranges in table Logs.\n",
    "    From 1 to 3 is contained in the table.\n",
    "    From 4 to 6 is missing in the table\n",
    "    From 7 to 8 is contained in the table.\n",
    "    Number 9 is missing from the table.\n",
    "    Number 10 is contained in the table."
   ]
  },
  {
   "cell_type": "markdown",
   "metadata": {},
   "source": [
    "# Window Function"
   ]
  },
  {
   "cell_type": "code",
   "execution_count": null,
   "metadata": {},
   "outputs": [],
   "source": [
    "SELECT min(log_id) as start_id, max(log_id) as end_id\n",
    "FROM\n",
    "(SELECT log_id, ROW_NUMBER() OVER(ORDER BY log_id) as num\n",
    "FROM Logs) a\n",
    "GROUP BY log_id - num"
   ]
  }
 ],
 "metadata": {
  "kernelspec": {
   "display_name": "Python 3",
   "language": "python",
   "name": "python3"
  },
  "language_info": {
   "codemirror_mode": {
    "name": "ipython",
    "version": 3
   },
   "file_extension": ".py",
   "mimetype": "text/x-python",
   "name": "python",
   "nbconvert_exporter": "python",
   "pygments_lexer": "ipython3",
   "version": "3.7.3"
  }
 },
 "nbformat": 4,
 "nbformat_minor": 2
}
