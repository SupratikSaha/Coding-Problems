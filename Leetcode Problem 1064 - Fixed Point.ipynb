{
 "cells": [
  {
   "cell_type": "markdown",
   "metadata": {},
   "source": [
    "Problem Statement.\n",
    "\n",
    "Given an array of distinct integers arr, where arr is sorted in ascending order, return the smallest index i that satisfies arr[i] == i. If there is no such index, return -1.\n",
    "\n",
    " \n",
    "\n",
    "Example 1:\n",
    "\n",
    "Input: arr = [-10,-5,0,3,7]\n",
    "Output: 3\n",
    "Explanation: For the given array, arr[0] = -10, arr[1] = -5, arr[2] = 0, arr[3] = 3, thus the output is 3.\n",
    "\n",
    "Example 2:\n",
    "\n",
    "Input: arr = [0,2,5,8,17]\n",
    "Output: 0\n",
    "Explanation: arr[0] = 0, thus the output is 0.\n",
    "\n",
    "Example 3:\n",
    "\n",
    "Input: arr = [-10,-5,3,4,7,9]\n",
    "Output: -1\n",
    "Explanation: There is no such i that arr[i] == i, thus the output is -1.\n",
    "\n",
    " \n",
    "\n",
    "Constraints:\n",
    "\n",
    "    1 <= arr.length < 104\n",
    "    -109 <= arr[i] <= 109\n",
    "\n",
    " \n",
    "Follow up: The O(n) solution is very straightforward. Can we do better?"
   ]
  },
  {
   "cell_type": "markdown",
   "metadata": {},
   "source": [
    "# Binary Search - O(Log N) runtime, O(1) space"
   ]
  },
  {
   "cell_type": "code",
   "execution_count": 1,
   "metadata": {},
   "outputs": [],
   "source": [
    "from typing import List\n",
    "\n",
    "class Solution:\n",
    "    def fixedPoint(self, arr: List[int]) -> int:\n",
    "        left, right = 0, len(arr)-1\n",
    "        smallestIndex = -1\n",
    "        \n",
    "        while left <= right:\n",
    "            mid = left + (right - left) // 2\n",
    "            if arr[mid] == mid: \n",
    "                smallestIndex = mid\n",
    "            if arr[mid] >= mid: \n",
    "                right = mid - 1\n",
    "            else:\n",
    "                left = mid + 1\n",
    "                \n",
    "        return smallestIndex"
   ]
  },
  {
   "cell_type": "code",
   "execution_count": 2,
   "metadata": {},
   "outputs": [
    {
     "data": {
      "text/plain": [
       "3"
      ]
     },
     "execution_count": 2,
     "metadata": {},
     "output_type": "execute_result"
    }
   ],
   "source": [
    "instance = Solution()\n",
    "instance.fixedPoint([-10,-5,0,3,7])"
   ]
  }
 ],
 "metadata": {
  "kernelspec": {
   "display_name": "Python 3",
   "language": "python",
   "name": "python3"
  },
  "language_info": {
   "codemirror_mode": {
    "name": "ipython",
    "version": 3
   },
   "file_extension": ".py",
   "mimetype": "text/x-python",
   "name": "python",
   "nbconvert_exporter": "python",
   "pygments_lexer": "ipython3",
   "version": "3.7.3"
  }
 },
 "nbformat": 4,
 "nbformat_minor": 2
}
