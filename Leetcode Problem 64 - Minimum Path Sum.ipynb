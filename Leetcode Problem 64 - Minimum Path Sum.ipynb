{
 "cells": [
  {
   "cell_type": "markdown",
   "metadata": {},
   "source": [
    "Given a m x n grid filled with non-negative numbers, find a path from top left to bottom right which minimizes the sum of all numbers along its path.\n",
    "\n",
    "Note: You can only move either down or right at any point in time."
   ]
  },
  {
   "cell_type": "markdown",
   "metadata": {},
   "source": [
    "# Approach 1: Brute Force - O(2 ^ (m + n)) runtime, O(m + n) space"
   ]
  },
  {
   "cell_type": "code",
   "execution_count": 19,
   "metadata": {},
   "outputs": [],
   "source": [
    "from typing import List\n",
    "import pprint\n",
    "\n",
    "class Solution:\n",
    "    def minPathSum(self, grid: List[List[int]]) -> int:\n",
    "        return self.calculate(grid, 0, 0)\n",
    "    \n",
    "    def calculate(self, grid: List[List[int]], i: int, j: int) -> int:\n",
    "        if i == len(grid) or  j == len(grid[0]):\n",
    "            return 2**32 - 1\n",
    "        elif i == len(grid) - 1 and  j == len(grid[0]) - 1:\n",
    "            return grid[i][j]\n",
    "        return grid[i][j] +  min(self.calculate(grid, i + 1, j), self.calculate(grid, i, j + 1) )   "
   ]
  },
  {
   "cell_type": "markdown",
   "metadata": {},
   "source": [
    "# Dynamic Programming 2D - O(m*n) runtime, O(m*n) space"
   ]
  },
  {
   "cell_type": "code",
   "execution_count": 10,
   "metadata": {},
   "outputs": [],
   "source": [
    "from typing import List\n",
    "import numpy as np\n",
    "import pprint\n",
    "\n",
    "class Solution:\n",
    "    def minPathSum(self, grid: List[List[int]]) -> int:\n",
    "        pp = pprint.PrettyPrinter(indent=2)\n",
    "        m = len(grid) - 1\n",
    "        n = len(grid[0]) - 1\n",
    "        dp = grid.copy()\n",
    "        for i in range(n - 1, -1, -1):\n",
    "            dp[m][i] += dp[m][i + 1]\n",
    "        for i in range(m - 1, -1, -1):\n",
    "            dp[i][n] += dp[i + 1][n]\n",
    "        for i in range(m - 1, -1, -1):\n",
    "            for j in range(n - 1, -1, -1):\n",
    "                dp[i][j] += min(dp[i + 1][j], dp[i][j + 1])\n",
    "        pp.pprint(dp)\n",
    "        return dp[0][0]"
   ]
  },
  {
   "cell_type": "markdown",
   "metadata": {},
   "source": [
    "# Dynamic Programming 1D - O(m*n) runtime, O(n) space"
   ]
  },
  {
   "cell_type": "code",
   "execution_count": 8,
   "metadata": {},
   "outputs": [],
   "source": [
    "from typing import List\n",
    "import pprint\n",
    "\n",
    "class Solution:\n",
    "    def minPathSum(self, grid: List[List[int]]) -> int:\n",
    "        pp = pprint.PrettyPrinter(indent=2)\n",
    "        m = len(grid) - 1\n",
    "        n = len(grid[0]) - 1\n",
    "        dp = np.zeros(n + 1)\n",
    "\n",
    "        for i in range(m - 1, -1, -1):\n",
    "            for j in range(n - 1, -1, -1):\n",
    "                if i == m and j != n:\n",
    "                    dp[j] = grid[i][j] +  dp[j + 1]\n",
    "                elif j == n and i != m:\n",
    "                    dp[j] = grid[i][j] +  dp[j]\n",
    "                elif i != m and j != n:\n",
    "                    dp[j] += grid[i][j] +  min(dp[j], dp[j + 1])\n",
    "                else:\n",
    "                   dp[j] = grid[i][j] \n",
    "        pp.pprint(dp)\n",
    "        return dp[0]"
   ]
  },
  {
   "cell_type": "markdown",
   "metadata": {},
   "source": [
    "# Dynamic Programming 2D without extra space - O(m*n) runtime, O(1) space"
   ]
  },
  {
   "cell_type": "code",
   "execution_count": 36,
   "metadata": {},
   "outputs": [],
   "source": [
    "import typing\n",
    "import pprint\n",
    "\n",
    "class Solution:\n",
    "    def minPathSum(self, grid: List[List[int]]) -> int:\n",
    "        pp = pprint.PrettyPrinter(indent=2)\n",
    "        m = len(grid) - 1\n",
    "        n = len(grid[0]) - 1\n",
    "        for i in range(n - 1, -1, -1):\n",
    "            grid[m][i] += grid[m][i + 1]\n",
    "        for i in range(m - 1, -1, -1):\n",
    "            grid[i][n] += grid[i + 1][n]\n",
    "        for i in range(m - 1, -1, -1):\n",
    "            for j in range(n - 1, -1, -1):\n",
    "                grid[i][j] += min(grid[i + 1][j], grid[i][j + 1])\n",
    "        pp.pprint(grid)\n",
    "        return grid[0][0]"
   ]
  },
  {
   "cell_type": "code",
   "execution_count": null,
   "metadata": {},
   "outputs": [],
   "source": [
    "[\n",
    "    [1,4,8,6,2,2,1,7],\n",
    "    [4,7,3,1,4,5,5,1],\n",
    "    [8,8,2,1,1,8,0,1],\n",
    "    [8,9,2,9,8,0,8,9],\n",
    "    [5,7,5,7,1,8,5,5],\n",
    "    [7,0,9,4,5,6,5,6],\n",
    "    [4,9,9,7,9,1,9,0]\n",
    "]"
   ]
  },
  {
   "cell_type": "code",
   "execution_count": 20,
   "metadata": {},
   "outputs": [
    {
     "data": {
      "text/plain": [
       "47"
      ]
     },
     "execution_count": 20,
     "metadata": {},
     "output_type": "execute_result"
    }
   ],
   "source": [
    "Instance = Solution()\n",
    "Instance.minPathSum([[1,4,8,6,2,2,1,7],[4,7,3,1,4,5,5,1],[8,8,2,1,1,8,0,1],[8,9,2,9,8,0,8,9],[5,7,5,7,1,8,5,5],[7,0,9,4,5,6,5,6],[4,9,9,7,9,1,9,0]])"
   ]
  }
 ],
 "metadata": {
  "kernelspec": {
   "display_name": "Python 3",
   "language": "python",
   "name": "python3"
  },
  "language_info": {
   "codemirror_mode": {
    "name": "ipython",
    "version": 3
   },
   "file_extension": ".py",
   "mimetype": "text/x-python",
   "name": "python",
   "nbconvert_exporter": "python",
   "pygments_lexer": "ipython3",
   "version": "3.7.3"
  }
 },
 "nbformat": 4,
 "nbformat_minor": 2
}
