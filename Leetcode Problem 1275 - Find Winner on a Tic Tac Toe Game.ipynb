{
 "cells": [
  {
   "cell_type": "markdown",
   "metadata": {},
   "source": [
    "Problem Statement.\n",
    "\n",
    "Tic-tac-toe is played by two players A and B on a 3 x 3 grid. The rules of Tic-Tac-Toe are:\n",
    "\n",
    "    Players take turns placing characters into empty squares ' '.\n",
    "    The first player A always places 'X' characters, while the second player B always places 'O' characters.\n",
    "    'X' and 'O' characters are always placed into empty squares, never on filled ones.\n",
    "    The game ends when there are three of the same (non-empty) character filling any row, column, or diagonal.\n",
    "    The game also ends if all squares are non-empty.\n",
    "    No more moves can be played if the game is over.\n",
    "\n",
    "Given a 2D integer array moves where moves[i] = [rowi, coli] indicates that the ith move will be played on grid[rowi][coli]. return the winner of the game if it exists (A or B). In case the game ends in a draw return \"Draw\". If there are still movements to play return \"Pending\".\n",
    "\n",
    "You can assume that moves is valid (i.e., it follows the rules of Tic-Tac-Toe), the grid is initially empty, and A will play first.\n",
    "\n",
    " \n",
    "\n",
    "Example 1:\n",
    "\n",
    "Input: moves = [[0,0],[2,0],[1,1],[2,1],[2,2]]\n",
    "Output: \"A\"\n",
    "Explanation: A wins, they always play first.\n",
    "\n",
    "Example 2:\n",
    "\n",
    "Input: moves = [[0,0],[1,1],[0,1],[0,2],[1,0],[2,0]]\n",
    "Output: \"B\"\n",
    "Explanation: B wins.\n",
    "\n",
    "Example 3:\n",
    "\n",
    "Input: moves = [[0,0],[1,1],[2,0],[1,0],[1,2],[2,1],[0,1],[0,2],[2,2]]\n",
    "Output: \"Draw\"\n",
    "Explanation: The game ends in a draw since there are no moves to make.\n",
    "\n",
    "Example 4:\n",
    "\n",
    "Input: moves = [[0,0],[1,1]]\n",
    "Output: \"Pending\"\n",
    "Explanation: The game has not finished yet.\n",
    "\n",
    " \n",
    "\n",
    "Constraints:\n",
    "\n",
    "    1 <= moves.length <= 9\n",
    "    moves[i].length == 2\n",
    "    0 <= rowi, coli <= 2\n",
    "    There are no repeated elements on moves.\n",
    "    moves follow the rules of tic tac toe."
   ]
  },
  {
   "cell_type": "markdown",
   "metadata": {},
   "source": [
    "# Sum - O(M) runtime, O(N) space, where M is the number of moves and N is the length of one side of the board"
   ]
  },
  {
   "cell_type": "code",
   "execution_count": 1,
   "metadata": {},
   "outputs": [],
   "source": [
    "from typing import List\n",
    "\n",
    "class Solution:\n",
    "    def tictactoe(self, moves: List[List[int]]) -> str:\n",
    "        rowSum = [0] * 3\n",
    "        colSum = [0] * 3\n",
    "        diagSum = antiDiagSum = 0\n",
    "        \n",
    "        for i, move in enumerate(moves):\n",
    "            r, c = move\n",
    "            points = 10 if i % 2 else 1\n",
    "            rowSum[r] += points\n",
    "            colSum[c] += points\n",
    "            if r == c: diagSum += points\n",
    "            if r + c == 2: antiDiagSum += points\n",
    "            \n",
    "        if rowSum[r] == 3 or colSum[c] == 3 or diagSum == 3 or antiDiagSum == 3:\n",
    "            return 'A'\n",
    "        elif rowSum[r] == 30 or colSum[c] == 30 or diagSum == 30 or antiDiagSum == 30:\n",
    "            return 'B'     \n",
    "                \n",
    "        return 'Draw' if i == 8 else 'Pending'"
   ]
  },
  {
   "cell_type": "markdown",
   "metadata": {},
   "source": [
    "# Faster Sum - O(M) runtime, O(N) space, where M is the number of moves and N is the length of one side of the board"
   ]
  },
  {
   "cell_type": "code",
   "execution_count": 3,
   "metadata": {},
   "outputs": [],
   "source": [
    "from typing import List\n",
    "\n",
    "class Solution:\n",
    "    def tictactoe(self, moves: List[List[int]]) -> str:\n",
    "        n = 3\n",
    "        rowSum = [0] * n\n",
    "        colSum = [0] * n\n",
    "        diagSum = antiDiagSum = 0\n",
    "        player = 1\n",
    "        \n",
    "        for r, c in moves:\n",
    "            rowSum[r] += player\n",
    "            colSum[c] += player\n",
    "            if r == c: diagSum += player\n",
    "            if r + c == n-1: antiDiagSum += player\n",
    "            \n",
    "            if any(abs(line) == n for line in (rowSum[r], colSum[c], diagSum, antiDiagSum)):\n",
    "                    return \"A\" if player == 1 else \"B\"\n",
    "                \n",
    "            player *= -1\n",
    "                \n",
    "        return 'Draw' if len(moves) == n * n else 'Pending'"
   ]
  },
  {
   "cell_type": "code",
   "execution_count": 4,
   "metadata": {},
   "outputs": [
    {
     "data": {
      "text/plain": [
       "'Draw'"
      ]
     },
     "execution_count": 4,
     "metadata": {},
     "output_type": "execute_result"
    }
   ],
   "source": [
    "instance = Solution()\n",
    "instance.tictactoe([[0,0],[1,1],[2,0],[1,0],[1,2],[2,1],[0,1],[0,2],[2,2]])"
   ]
  }
 ],
 "metadata": {
  "kernelspec": {
   "display_name": "Python 3",
   "language": "python",
   "name": "python3"
  },
  "language_info": {
   "codemirror_mode": {
    "name": "ipython",
    "version": 3
   },
   "file_extension": ".py",
   "mimetype": "text/x-python",
   "name": "python",
   "nbconvert_exporter": "python",
   "pygments_lexer": "ipython3",
   "version": "3.7.3"
  }
 },
 "nbformat": 4,
 "nbformat_minor": 2
}
