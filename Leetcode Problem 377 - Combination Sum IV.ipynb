{
 "cells": [
  {
   "cell_type": "markdown",
   "metadata": {},
   "source": [
    "Problem Statement <br/>\n",
    "\n",
    "Given an integer array with all positive numbers and no duplicates, find the number of possible combinations that add up to a positive integer target. <br/>\n",
    "\n",
    "Example:  <br/>\n",
    "\n",
    "nums = [1, 2, 3]  <br/>\n",
    "target = 4  <br/>\n",
    "\n",
    "The possible combination ways are:  <br/>\n",
    "(1, 1, 1, 1)  <br/>\n",
    "(1, 1, 2)  <br/>\n",
    "(1, 2, 1)  <br/>\n",
    "(1, 3)  <br/>\n",
    "(2, 1, 1)  <br/>\n",
    "(2, 2)  <br/>\n",
    "(3, 1)  <br/>\n",
    "\n",
    "Note that different sequences are counted as different combinations.  <br/>\n",
    "\n",
    "Therefore the output is 7."
   ]
  },
  {
   "cell_type": "markdown",
   "metadata": {},
   "source": [
    "# Bottom Up Dp - O(N ^ S) runtime, O(S) space, where N is the length of the input list and S is the target"
   ]
  },
  {
   "cell_type": "code",
   "execution_count": 2,
   "metadata": {},
   "outputs": [],
   "source": [
    "from typing import List\n",
    "\n",
    "class Solution:\n",
    "    def combinationSum4(self, nums: List[int], target: int) -> int:\n",
    "        dp = [0] * (target + 1)\n",
    "        dp[0] = 1\n",
    "\n",
    "        for s in range(1, target + 1):\n",
    "            for num in nums:\n",
    "                if s - num >= 0:\n",
    "                    dp[s] += dp[s - num]\n",
    "                    \n",
    "        return dp[target]"
   ]
  },
  {
   "cell_type": "code",
   "execution_count": 3,
   "metadata": {},
   "outputs": [
    {
     "data": {
      "text/plain": [
       "7"
      ]
     },
     "execution_count": 3,
     "metadata": {},
     "output_type": "execute_result"
    }
   ],
   "source": [
    "instance = Solution()\n",
    "instance.combinationSum4([1, 2, 3], 4)"
   ]
  }
 ],
 "metadata": {
  "kernelspec": {
   "display_name": "Python 3",
   "language": "python",
   "name": "python3"
  },
  "language_info": {
   "codemirror_mode": {
    "name": "ipython",
    "version": 3
   },
   "file_extension": ".py",
   "mimetype": "text/x-python",
   "name": "python",
   "nbconvert_exporter": "python",
   "pygments_lexer": "ipython3",
   "version": "3.7.3"
  }
 },
 "nbformat": 4,
 "nbformat_minor": 2
}
