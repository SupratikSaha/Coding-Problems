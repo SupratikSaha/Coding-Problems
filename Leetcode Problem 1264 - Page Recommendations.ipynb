{
 "cells": [
  {
   "cell_type": "markdown",
   "metadata": {},
   "source": [
    "    Problem Statement.\n",
    "\n",
    "    Table: Friendship\n",
    "\n",
    "    +---------------+---------+\n",
    "    | Column Name   | Type    |\n",
    "    +---------------+---------+\n",
    "    | user1_id      | int     |\n",
    "    | user2_id      | int     |\n",
    "    +---------------+---------+\n",
    "    (user1_id, user2_id) is the primary key for this table.\n",
    "    Each row of this table indicates that there is a friendship relation between user1_id and user2_id.\n",
    "\n",
    "\n",
    "\n",
    "    Table: Likes\n",
    "\n",
    "    +-------------+---------+\n",
    "    | Column Name | Type    |\n",
    "    +-------------+---------+\n",
    "    | user_id     | int     |\n",
    "    | page_id     | int     |\n",
    "    +-------------+---------+\n",
    "    (user_id, page_id) is the primary key for this table.\n",
    "    Each row of this table indicates that user_id likes page_id.\n",
    "\n",
    "\n",
    "\n",
    "    Write an SQL query to recommend pages to the user with user_id = 1 using the pages that your friends liked. It should not recommend pages you already liked.\n",
    "\n",
    "    Return result table in any order without duplicates.\n",
    "\n",
    "    The query result format is in the following example.\n",
    "\n",
    "\n",
    "\n",
    "    Example 1:\n",
    "\n",
    "    Input: \n",
    "    Friendship table:\n",
    "    +----------+----------+\n",
    "    | user1_id | user2_id |\n",
    "    +----------+----------+\n",
    "    | 1        | 2        |\n",
    "    | 1        | 3        |\n",
    "    | 1        | 4        |\n",
    "    | 2        | 3        |\n",
    "    | 2        | 4        |\n",
    "    | 2        | 5        |\n",
    "    | 6        | 1        |\n",
    "    +----------+----------+\n",
    "    Likes table:\n",
    "    +---------+---------+\n",
    "    | user_id | page_id |\n",
    "    +---------+---------+\n",
    "    | 1       | 88      |\n",
    "    | 2       | 23      |\n",
    "    | 3       | 24      |\n",
    "    | 4       | 56      |\n",
    "    | 5       | 11      |\n",
    "    | 6       | 33      |\n",
    "    | 2       | 77      |\n",
    "    | 3       | 77      |\n",
    "    | 6       | 88      |\n",
    "    +---------+---------+\n",
    "    Output: \n",
    "    +------------------+\n",
    "    | recommended_page |\n",
    "    +------------------+\n",
    "    | 23               |\n",
    "    | 24               |\n",
    "    | 56               |\n",
    "    | 33               |\n",
    "    | 77               |\n",
    "    +------------------+\n",
    "    Explanation: \n",
    "    User one is friend with users 2, 3, 4 and 6.\n",
    "    Suggested pages are 23 from user 2, 24 from user 3, 56 from user 3 and 33 from user 6.\n",
    "    Page 77 is suggested from both user 2 and user 3.\n",
    "    Page 88 is not suggested because user 1 already likes it."
   ]
  },
  {
   "cell_type": "markdown",
   "metadata": {},
   "source": [
    "# Case"
   ]
  },
  {
   "cell_type": "code",
   "execution_count": null,
   "metadata": {},
   "outputs": [],
   "source": [
    "SELECT DISTINCT page_id AS recommended_page FROM Likes\n",
    "WHERE user_id IN \n",
    "(SELECT CASE WHEN user1_id=1 THEN user2_id WHEN user2_id=1 THEN user1_id ELSE '' END\n",
    "FROM Friendship WHERE user1_id=1 or user2_id=1)\n",
    "AND page_id NOT IN \n",
    "(SELECT DISTINCT page_id FROM Likes WHERE user_id=1);"
   ]
  },
  {
   "cell_type": "markdown",
   "metadata": {},
   "source": [
    "# Union"
   ]
  },
  {
   "cell_type": "code",
   "execution_count": null,
   "metadata": {},
   "outputs": [],
   "source": [
    "select distinct page_id as recommended_page\n",
    "from Likes\n",
    "where user_id in  \n",
    "(select user2_id as friend_id from Friendship where user1_id = 1\n",
    " union\n",
    " select user1_id as friend from Friendship where user2_id = 1)\n",
    "and page_id not in\n",
    "(select page_id from Likes where user_id = 1)"
   ]
  }
 ],
 "metadata": {
  "kernelspec": {
   "display_name": "Python 3",
   "language": "python",
   "name": "python3"
  },
  "language_info": {
   "codemirror_mode": {
    "name": "ipython",
    "version": 3
   },
   "file_extension": ".py",
   "mimetype": "text/x-python",
   "name": "python",
   "nbconvert_exporter": "python",
   "pygments_lexer": "ipython3",
   "version": "3.7.3"
  }
 },
 "nbformat": 4,
 "nbformat_minor": 2
}
