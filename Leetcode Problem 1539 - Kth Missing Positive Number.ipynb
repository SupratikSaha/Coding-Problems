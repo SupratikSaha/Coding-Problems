{
 "cells": [
  {
   "cell_type": "markdown",
   "metadata": {},
   "source": [
    "    Problem Statement.\n",
    "\n",
    "    Given an array arr of positive integers sorted in a strictly increasing order, and an integer k.\n",
    "\n",
    "    Find the kth positive integer that is missing from this array.\n",
    "\n",
    "\n",
    "\n",
    "    Example 1:\n",
    "\n",
    "    Input: arr = [2,3,4,7,11], k = 5\n",
    "    Output: 9\n",
    "    Explanation: The missing positive integers are [1,5,6,8,9,10,12,13,...]. The 5th missing positive integer is 9.\n",
    "\n",
    "    Example 2:\n",
    "\n",
    "    Input: arr = [1,2,3,4], k = 2\n",
    "    Output: 6\n",
    "    Explanation: The missing positive integers are [5,6,7,...]. The 2nd missing positive integer is 6.\n",
    "\n",
    "\n",
    "\n",
    "    Constraints:\n",
    "\n",
    "        1 <= arr.length <= 1000\n",
    "        1 <= arr[i] <= 1000\n",
    "        1 <= k <= 1000\n",
    "        arr[i] < arr[j] for 1 <= i < j <= arr.length"
   ]
  },
  {
   "cell_type": "markdown",
   "metadata": {},
   "source": [
    "# LInear - O(N) runtime, O(1) space"
   ]
  },
  {
   "cell_type": "code",
   "execution_count": 1,
   "metadata": {},
   "outputs": [],
   "source": [
    "from typing import List\n",
    "\n",
    "class Solution:\n",
    "    def findKthPositive(self, arr: List[int], k: int) -> int:\n",
    "        if k < arr[0]: return k\n",
    "        \n",
    "        count, left = 0, 0\n",
    "        for num in arr:\n",
    "            gap = num - left - 1\n",
    "                \n",
    "            if gap > k - count: return left + k - count\n",
    "            count += gap\n",
    "            if count == k: return num - 1\n",
    "            \n",
    "            left = num\n",
    "            \n",
    "        return arr[-1] + k - count"
   ]
  },
  {
   "cell_type": "markdown",
   "metadata": {},
   "source": [
    "# Simpler Linear - O(N) runtime, O(1) space"
   ]
  },
  {
   "cell_type": "code",
   "execution_count": 3,
   "metadata": {},
   "outputs": [],
   "source": [
    "from typing import List\n",
    "\n",
    "class Solution:\n",
    "    def findKthPositive(self, arr: List[int], k: int) -> int:\n",
    "        # if the kth missing is less than arr[0]\n",
    "        if k <= arr[0] - 1:\n",
    "            return k\n",
    "        k -= arr[0] - 1\n",
    "\n",
    "        # search kth missing between the array numbers\n",
    "        for i in range(len(arr) - 1):\n",
    "            # missing between arr[i] and arr[i + 1]\n",
    "            curr_missing = arr[i + 1] - arr[i] - 1\n",
    "            # if the kth missing is between\n",
    "            # arr[i] and arr[i + 1] -> return it\n",
    "            if k <= curr_missing:\n",
    "                return arr[i] + k\n",
    "            # otherwise, proceed further\n",
    "            k -= curr_missing\n",
    "\n",
    "        # if the missing number if greater than arr[-1]\n",
    "        return arr[-1] + k"
   ]
  },
  {
   "cell_type": "markdown",
   "metadata": {},
   "source": [
    "# Binary Search - O(log N) runtime, O(1) space"
   ]
  },
  {
   "cell_type": "code",
   "execution_count": 5,
   "metadata": {},
   "outputs": [],
   "source": [
    "from typing import List\n",
    "\n",
    "class Solution:\n",
    "    def findKthPositive(self, arr: List[int], k: int) -> int:\n",
    "        left, right = 0, len(arr) - 1\n",
    "        while left <= right:\n",
    "            pivot = left + (right - left) // 2\n",
    "            # If number of positive integers\n",
    "            # which are missing before arr[pivot]\n",
    "            # is less than k -->\n",
    "            # continue to search on the right.\n",
    "            if arr[pivot] - pivot - 1 < k:\n",
    "                left = pivot + 1\n",
    "            # Otherwise, go left.\n",
    "            else:\n",
    "                right = pivot - 1\n",
    "\n",
    "        # At the end of the loop, left = right + 1,\n",
    "        # and the kth missing is in-between arr[right] and arr[left].\n",
    "        # The number of integers missing before arr[right] is\n",
    "        # arr[right] - right - 1 -->\n",
    "        # the number to return is\n",
    "        # arr[right] + k - (arr[right] - right - 1) = k + left\n",
    "        return left + k"
   ]
  },
  {
   "cell_type": "code",
   "execution_count": 6,
   "metadata": {},
   "outputs": [
    {
     "data": {
      "text/plain": [
       "6"
      ]
     },
     "execution_count": 6,
     "metadata": {},
     "output_type": "execute_result"
    }
   ],
   "source": [
    "instance = Solution()\n",
    "instance.findKthPositive([1,2,3,4], 2)"
   ]
  }
 ],
 "metadata": {
  "kernelspec": {
   "display_name": "Python 3",
   "language": "python",
   "name": "python3"
  },
  "language_info": {
   "codemirror_mode": {
    "name": "ipython",
    "version": 3
   },
   "file_extension": ".py",
   "mimetype": "text/x-python",
   "name": "python",
   "nbconvert_exporter": "python",
   "pygments_lexer": "ipython3",
   "version": "3.7.3"
  }
 },
 "nbformat": 4,
 "nbformat_minor": 2
}
