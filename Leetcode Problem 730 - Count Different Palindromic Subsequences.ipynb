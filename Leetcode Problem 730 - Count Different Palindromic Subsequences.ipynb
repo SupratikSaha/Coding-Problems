{
 "cells": [
  {
   "cell_type": "markdown",
   "metadata": {},
   "source": [
    "Problem Statement.\n",
    "\n",
    "Given a string s, return the number of different non-empty palindromic subsequences in s. Since the answer may be very large, return it modulo 109 + 7.\n",
    "\n",
    "A subsequence of a string is obtained by deleting zero or more characters from the string.\n",
    "\n",
    "A sequence is palindromic if it is equal to the sequence reversed.\n",
    "\n",
    "Two sequences a1, a2, ... and b1, b2, ... are different if there is some i for which ai != bi.\n",
    "\n",
    " \n",
    "\n",
    "Example 1:\n",
    "\n",
    "Input: s = \"bccb\"\n",
    "Output: 6\n",
    "Explanation: The 6 different non-empty palindromic subsequences are 'b', 'c', 'bb', 'cc', 'bcb', 'bccb'.\n",
    "Note that 'bcb' is counted only once, even though it occurs twice.\n",
    "\n",
    "Example 2:\n",
    "\n",
    "Input: s = \"abcdabcdabcdabcdabcdabcdabcdabcddcbadcbadcbadcbadcbadcbadcbadcba\"\n",
    "Output: 104860361\n",
    "Explanation: There are 3104860382 different non-empty palindromic subsequences, which is 104860361 modulo 109 + 7.\n",
    "\n",
    " \n",
    "\n",
    "Constraints:\n",
    "\n",
    "    1 <= s.length <= 1000\n",
    "    s[i] is either 'a', 'b', 'c', or 'd'."
   ]
  },
  {
   "cell_type": "markdown",
   "metadata": {},
   "source": [
    "# Brute Force - O(N ^ 2 * L) runtime, O(N ^ 2 * L) space"
   ]
  },
  {
   "cell_type": "code",
   "execution_count": 1,
   "metadata": {},
   "outputs": [],
   "source": [
    "class Solution:\n",
    "    def countPalindromicSubsequences(self, s: str) -> int:\n",
    "        \n",
    "        def isPalindrome(string):\n",
    "            left, right = 0, len(string) - 1\n",
    "            while left < right:\n",
    "                if string[left] != string[right]:\n",
    "                    return False\n",
    "                left += 1\n",
    "                right -= 1\n",
    "                \n",
    "            return True\n",
    "        \n",
    "        def dfs(string):\n",
    "            nonlocal count\n",
    "            if len(string) == 1: \n",
    "                count += 1\n",
    "                return\n",
    "            \n",
    "            for i in range(len(string)):\n",
    "                newStr = string[:i] + string[i+1:]\n",
    "                if newStr not in strSet:\n",
    "                    dfs(newStr)\n",
    "                    strSet.add(newStr)\n",
    "                \n",
    "            if isPalindrome(string): count += 1\n",
    "\n",
    "        \n",
    "        strSet = {s}\n",
    "        count = 0\n",
    "        dfs(s)\n",
    "        \n",
    "        return count"
   ]
  },
  {
   "cell_type": "markdown",
   "metadata": {},
   "source": [
    "# DFS with Memo - O(N) runtime, O(N ^ 2 * L) space"
   ]
  },
  {
   "cell_type": "code",
   "execution_count": 8,
   "metadata": {},
   "outputs": [],
   "source": [
    "from functools import lru_cache\n",
    "\n",
    "class Solution:\n",
    "    def countPalindromicSubsequences(self, s: str) -> int:\n",
    "        \n",
    "        @lru_cache(maxsize=None)\n",
    "        def dfs(b, e):\n",
    "            res = 0\n",
    "            for c in 'abcd':\n",
    "                if c in s[b:e]:\n",
    "                    i = s[b:e].index(c)\n",
    "                    j = s[b:e].rindex(c)\n",
    "                    res += dfs(b + i + 1, b + j) + 2 if i != j else 1\n",
    "            return res % (10**9 + 7)\n",
    "\n",
    "        return dfs(0, len(s))"
   ]
  },
  {
   "cell_type": "code",
   "execution_count": 9,
   "metadata": {},
   "outputs": [
    {
     "data": {
      "text/plain": [
       "6"
      ]
     },
     "execution_count": 9,
     "metadata": {},
     "output_type": "execute_result"
    }
   ],
   "source": [
    "instance = Solution()\n",
    "instance.countPalindromicSubsequences(\"bccb\")"
   ]
  }
 ],
 "metadata": {
  "kernelspec": {
   "display_name": "Python 3",
   "language": "python",
   "name": "python3"
  },
  "language_info": {
   "codemirror_mode": {
    "name": "ipython",
    "version": 3
   },
   "file_extension": ".py",
   "mimetype": "text/x-python",
   "name": "python",
   "nbconvert_exporter": "python",
   "pygments_lexer": "ipython3",
   "version": "3.7.3"
  }
 },
 "nbformat": 4,
 "nbformat_minor": 2
}
