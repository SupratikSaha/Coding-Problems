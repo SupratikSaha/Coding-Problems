{
 "cells": [
  {
   "cell_type": "markdown",
   "metadata": {},
   "source": [
    "Problem Statement.\n",
    "\n",
    "Given two lists Aand B, and B is an anagram of A. B is an anagram of A means B is made by randomizing the order of the elements in A.\n",
    "\n",
    "We want to find an index mapping P, from A to B. A mapping P[i] = j means the ith element in A appears in B at index j.\n",
    "\n",
    "These lists A and B may contain duplicates. If there are multiple answers, output any of them.\n",
    "\n",
    "For example, given\n",
    "\n",
    "A = [12, 28, 46, 32, 50]\n",
    "B = [50, 12, 32, 46, 28]\n",
    "\n",
    "We should return\n",
    "\n",
    "[1, 4, 3, 2, 0]\n",
    "\n",
    "as P[0] = 1 because the 0th element of A appears at B[1], and P[1] = 4 because the 1st element of A appears at B[4], and so on.\n",
    "\n",
    "Note:\n",
    "\n",
    "    A, B have equal lengths in range [1, 100].\n",
    "    A[i], B[i] are integers in range [0, 10^5]."
   ]
  },
  {
   "cell_type": "markdown",
   "metadata": {},
   "source": [
    "# Hash Table - O(N) runtime, O(N) space "
   ]
  },
  {
   "cell_type": "code",
   "execution_count": 3,
   "metadata": {},
   "outputs": [],
   "source": [
    "from typing import List\n",
    "\n",
    "class Solution:\n",
    "    def anagramMappings(self, A: List[int], B: List[int]) -> List[int]:\n",
    "        \n",
    "        B_dict = {val: idx for idx, val in enumerate(B)}\n",
    "        return [B_dict[num] for num in A]"
   ]
  },
  {
   "cell_type": "code",
   "execution_count": 4,
   "metadata": {},
   "outputs": [
    {
     "data": {
      "text/plain": [
       "[1, 4, 3, 2, 0]"
      ]
     },
     "execution_count": 4,
     "metadata": {},
     "output_type": "execute_result"
    }
   ],
   "source": [
    "instance = Solution()\n",
    "instance.anagramMappings([12, 28, 46, 32, 50],[50, 12, 32, 46, 28])"
   ]
  }
 ],
 "metadata": {
  "kernelspec": {
   "display_name": "Python 3",
   "language": "python",
   "name": "python3"
  },
  "language_info": {
   "codemirror_mode": {
    "name": "ipython",
    "version": 3
   },
   "file_extension": ".py",
   "mimetype": "text/x-python",
   "name": "python",
   "nbconvert_exporter": "python",
   "pygments_lexer": "ipython3",
   "version": "3.7.3"
  }
 },
 "nbformat": 4,
 "nbformat_minor": 2
}
