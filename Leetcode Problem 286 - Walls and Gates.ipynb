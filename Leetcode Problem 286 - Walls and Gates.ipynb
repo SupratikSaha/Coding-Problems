{
 "cells": [
  {
   "cell_type": "markdown",
   "metadata": {},
   "source": [
    "Problem Statement.\n",
    "\n",
    "You are given an m x n grid rooms initialized with these three possible values.\n",
    "\n",
    "    -1 A wall or an obstacle.\n",
    "    0 A gate.\n",
    "    INF Infinity means an empty room. We use the value 231 - 1 = 2147483647 to represent INF as you may assume that the distance to a gate is less than 2147483647.\n",
    "\n",
    "Fill each empty room with the distance to its nearest gate. If it is impossible to reach a gate, it should be filled with INF.\n",
    "\n",
    " \n",
    "\n",
    "Example 1:\n",
    "\n",
    "Input: rooms = [[2147483647,-1,0,2147483647],[2147483647,2147483647,2147483647,-1],[2147483647,-1,2147483647,-1],[0,-1,2147483647,2147483647]]\n",
    "Output: [[3,-1,0,1],[2,2,1,-1],[1,-1,2,-1],[0,-1,3,4]]\n",
    "\n",
    "Example 2:\n",
    "\n",
    "Input: rooms = [[-1]]\n",
    "Output: [[-1]]\n",
    "\n",
    "Example 3:\n",
    "\n",
    "Input: rooms = [[2147483647]]\n",
    "Output: [[2147483647]]\n",
    "\n",
    "Example 4:\n",
    "\n",
    "Input: rooms = [[0]]\n",
    "Output: [[0]]\n",
    "\n",
    " \n",
    "\n",
    "Constraints:\n",
    "\n",
    "    m == rooms.length\n",
    "    n == rooms[i].length\n",
    "    1 <= m, n <= 250\n",
    "    rooms[i][j] is -1, 0, or 231 - 1."
   ]
  },
  {
   "cell_type": "markdown",
   "metadata": {},
   "source": [
    "# Queue - O(M * N) runtime, O(M * N) space"
   ]
  },
  {
   "cell_type": "code",
   "execution_count": 4,
   "metadata": {},
   "outputs": [],
   "source": [
    "from typing import List\n",
    "from collections import deque\n",
    "\n",
    "class Solution:\n",
    "    def wallsAndGates(self, rooms: List[List[int]]) -> None:\n",
    "        \"\"\"\n",
    "        Do not return anything, modify rooms in-place instead.\n",
    "        \"\"\"\n",
    "        \n",
    "        m, n = len(rooms), len(rooms[0])\n",
    "        \n",
    "        queue = deque()\n",
    "        for i in range(m):\n",
    "            for j in range(n):\n",
    "                if rooms[i][j] == 0: queue.append([i, j])\n",
    "                    \n",
    "        while queue:\n",
    "            r, c = queue.popleft()\n",
    "            \n",
    "            for r1, c1 in [[r+1, c], [r-1, c], [r, c+1], [r, c-1]]:\n",
    "                if 0 <= r1 < m and 0<= c1 < n and rooms[r1][c1] == 2147483647:\n",
    "                    rooms[r1][c1] = rooms[r][c] + 1\n",
    "                    queue.append([r1, c1])\n",
    "                    \n",
    "        return rooms"
   ]
  },
  {
   "cell_type": "code",
   "execution_count": 5,
   "metadata": {},
   "outputs": [
    {
     "data": {
      "text/plain": [
       "[[3, -1, 0, 1], [2, 2, 1, -1], [1, -1, 2, -1], [0, -1, 3, 4]]"
      ]
     },
     "execution_count": 5,
     "metadata": {},
     "output_type": "execute_result"
    }
   ],
   "source": [
    "instance = Solution()\n",
    "instance.wallsAndGates([[2147483647,-1,0,2147483647],[2147483647,2147483647,2147483647,-1],[2147483647,-1,2147483647,-1],[0,-1,2147483647,2147483647]])"
   ]
  }
 ],
 "metadata": {
  "kernelspec": {
   "display_name": "Python 3",
   "language": "python",
   "name": "python3"
  },
  "language_info": {
   "codemirror_mode": {
    "name": "ipython",
    "version": 3
   },
   "file_extension": ".py",
   "mimetype": "text/x-python",
   "name": "python",
   "nbconvert_exporter": "python",
   "pygments_lexer": "ipython3",
   "version": "3.7.3"
  }
 },
 "nbformat": 4,
 "nbformat_minor": 2
}
