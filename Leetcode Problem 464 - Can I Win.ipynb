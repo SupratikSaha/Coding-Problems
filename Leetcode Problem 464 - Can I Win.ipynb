{
 "cells": [
  {
   "cell_type": "markdown",
   "metadata": {},
   "source": [
    "Problem Statement.\n",
    "\n",
    "In the \"100 game\" two players take turns adding, to a running total, any integer from 1 to 10. The player who first causes the running total to reach or exceed 100 wins.\n",
    "\n",
    "What if we change the game so that players cannot re-use integers?\n",
    "\n",
    "For example, two players might take turns drawing from a common pool of numbers from 1 to 15 without replacement until they reach a total >= 100.\n",
    "\n",
    "Given two integers maxChoosableInteger and desiredTotal, return true if the first player to move can force a win, otherwise, return false. Assume both players play optimally.\n",
    "\n",
    " \n",
    "\n",
    "Example 1:\n",
    "\n",
    "Input: maxChoosableInteger = 10, desiredTotal = 11\n",
    "Output: false\n",
    "Explanation:\n",
    "No matter which integer the first player choose, the first player will lose.\n",
    "The first player can choose an integer from 1 up to 10.\n",
    "If the first player choose 1, the second player can only choose integers from 2 up to 10.\n",
    "The second player will win by choosing 10 and get a total = 11, which is >= desiredTotal.\n",
    "Same with other integers chosen by the first player, the second player will always win.\n",
    "\n",
    "Example 2:\n",
    "\n",
    "Input: maxChoosableInteger = 10, desiredTotal = 0\n",
    "Output: true\n",
    "\n",
    "Example 3:\n",
    "\n",
    "Input: maxChoosableInteger = 10, desiredTotal = 1\n",
    "Output: true\n",
    "\n",
    "Constraints:\n",
    "\n",
    "    1 <= maxChoosableInteger <= 20\n",
    "    0 <= desiredTotal <= 300"
   ]
  },
  {
   "cell_type": "markdown",
   "metadata": {},
   "source": [
    "# Top Down DP - O(2^N * N^2) runtime, O(2 ^ N) space"
   ]
  },
  {
   "cell_type": "code",
   "execution_count": 3,
   "metadata": {},
   "outputs": [],
   "source": [
    "from functools import lru_cache\n",
    "\n",
    "class Solution:\n",
    "    def canIWin(self, maxChoosableInteger: int, desiredTotal: int) -> bool:\n",
    "\n",
    "        @lru_cache(maxsize=None)\n",
    "        def can_win(choices, remainder):\n",
    "            if choices[-1] >= remainder: return True\n",
    "\n",
    "            for index in range(len(choices)):\n",
    "                if not can_win(choices[:index] + choices[index + 1:], remainder - choices[index]): return True\n",
    "\n",
    "            return False\n",
    "\n",
    "        summed_choices =  maxChoosableInteger * (maxChoosableInteger + 1) / 2\n",
    "        if summed_choices < desiredTotal: return False\n",
    "        if summed_choices == desiredTotal: return maxChoosableInteger % 2\n",
    "\n",
    "        return can_win(tuple(range(1, maxChoosableInteger + 1)), desiredTotal)"
   ]
  },
  {
   "cell_type": "code",
   "execution_count": 4,
   "metadata": {},
   "outputs": [
    {
     "data": {
      "text/plain": [
       "False"
      ]
     },
     "execution_count": 4,
     "metadata": {},
     "output_type": "execute_result"
    }
   ],
   "source": [
    "instance = Solution()\n",
    "instance.canIWin(10, 11)"
   ]
  }
 ],
 "metadata": {
  "kernelspec": {
   "display_name": "Python 3",
   "language": "python",
   "name": "python3"
  },
  "language_info": {
   "codemirror_mode": {
    "name": "ipython",
    "version": 3
   },
   "file_extension": ".py",
   "mimetype": "text/x-python",
   "name": "python",
   "nbconvert_exporter": "python",
   "pygments_lexer": "ipython3",
   "version": "3.7.3"
  }
 },
 "nbformat": 4,
 "nbformat_minor": 2
}
