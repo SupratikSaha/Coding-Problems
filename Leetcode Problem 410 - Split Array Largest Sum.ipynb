{
 "cells": [
  {
   "cell_type": "markdown",
   "metadata": {},
   "source": [
    "Given an array which consists of non-negative integers and an integer m, you can split the array into m non-empty continuous subarrays. Write an algorithm to minimize the largest sum among these m subarrays.\n",
    "\n",
    "Note:\n",
    "If n is the length of array, assume the following constraints are satisfied:\n",
    "\n",
    "    1 ≤ n ≤ 1000\n",
    "    1 ≤ m ≤ min(50, n)\n",
    "\n",
    "Examples:\n",
    "\n",
    "Input:\n",
    "nums = [7,2,5,10,8]\n",
    "m = 2"
   ]
  },
  {
   "cell_type": "markdown",
   "metadata": {},
   "source": [
    "# Brute Force - O(n^m) runtime, O(n) space"
   ]
  },
  {
   "cell_type": "code",
   "execution_count": 5,
   "metadata": {},
   "outputs": [],
   "source": [
    "from typing import List\n",
    "\n",
    "class Solution(object):\n",
    "    def helper(self, nums, m):\n",
    "        if nums == []:\n",
    "            return 0\n",
    "        elif m == 1:\n",
    "            return sum(nums)\n",
    "        else:\n",
    "            min_result = float('inf')\n",
    "            for j in range(1,len(nums)+1):\n",
    "                left, right = sum(nums[:j]), self.helper(nums[j:], m-1)\n",
    "                min_result = min(min_result, max(left, right))\n",
    "            return min_result\n",
    "    \n",
    "    def splitArray(self, nums, m):\n",
    "        \"\"\"\n",
    "        :type nums: List[int]\n",
    "        :type m: int\n",
    "        :rtype: int\n",
    "        \"\"\"\n",
    "        return self.helper(nums, m)"
   ]
  },
  {
   "cell_type": "markdown",
   "metadata": {},
   "source": [
    "# DP Memoization - O(n^2 * m) runtime, O(n*m) space"
   ]
  },
  {
   "cell_type": "code",
   "execution_count": 6,
   "metadata": {},
   "outputs": [],
   "source": [
    "from typing import List\n",
    "from collections import defaultdict    \n",
    "\n",
    "class Solution(object):\n",
    "    def helper(self, i, nums, m, cache):\n",
    "        if i == len(nums):\n",
    "            return 0\n",
    "        elif m == 1:\n",
    "            return sum(nums[i:])\n",
    "        else:\n",
    "            if i in cache and m in cache[i]:\n",
    "                return cache[i][m]\n",
    "            cache[i][m] = float('inf')\n",
    "            for j in xrange(1,len(nums)+1):\n",
    "                left, right = sum(nums[i:i+j]), self.helper(i+j, nums, m-1, cache)\n",
    "                cache[i][m] = min(cache[i][m], max(left, right))\n",
    "                if left > right:\n",
    "                    break\n",
    "            return cache[i][m]\n",
    "    \n",
    "    def splitArray(self, nums, m):\n",
    "        \"\"\"\n",
    "        :type nums: List[int]\n",
    "        :type m: int\n",
    "        :rtype: int\n",
    "        \"\"\"\n",
    "        cache = defaultdict(dict)\n",
    "        return self.helper(0, nums, m, cache)"
   ]
  },
  {
   "cell_type": "markdown",
   "metadata": {},
   "source": [
    "# Binary Search - O( nlog(n) ) runtime, O(n) space"
   ]
  },
  {
   "cell_type": "markdown",
   "metadata": {},
   "source": [
    "Binary Search Based Solution\n",
    "\n",
    "    - Imagine we split an array into m different sub-arrays. There can be several ways to do this split. Let us assume we take one possible split.\n",
    "    - In this particular split, we take the sum of each subarray j and call it S(j) where j is from 1 to m. Then we figure out the sub-array which has the maximum sum from all of these m different sums and call it max_sum(array, m).\n",
    "    - What is the least possible value of max_sum(array, m)? Answer will be max(array) - this must be obvious. The max(array) value must be in one of the m sub-arrays. The least possible amongst all possible m different sub-arrays would be a sub-array with a single element as the max(array).\n",
    "    - What is the maximum possible value of max_sum(array, m)? Answer will be sum(array) - a subarray with all elements.\n",
    "    - So the range of max_sum(array, m) is max(array) to sum(array).\n",
    "    - We now have a search problem - we need to search within the range max(array) to sum(array) such that we find the minimum value in this range with which we can form at-most m sub-arrays such no sub-array has sum more than this value. To efficiently search a sorted range we use binary search.\n",
    "    - Imagine we pick a value mid and find that we could make more sub-arrays than m. This means we picked too small value (check the code to understand this). We should set low = mid + 1.\n",
    "    - Imagine we pick a value mid and find we could make less sub-arrays than m. Now we can easily split those sub-arrays to increase the count and still make sure that the maximum sum of those sub-arrays is less than mid (splitting will only decrease mid). In this case, we record a potential solution and make high = mid-1, hoping to get an even better solution later.\n",
    "    - Lets use an example: [7,2,5,10,8] and 2\n",
    "    max_sum([7,2,5,10,8], 2) will be in the range [10, 32] - i.e. any split of the array into 2 sub-array will have sum of the sub-array between [10, 32].\n",
    "    - Now we want to find the minimum value in this range with which we can form 2 sub-arrays. Lets do this linearly. Can we use 10? Using 10, we can form [7, 2]; [5]; [10]; [8] - 4 subarrays. We clearly need to increase the minimum value so that we can reduce from 4 subarrays.\n",
    "    - What if we used binary search and started with mid = (10+32)/2 = 21. This gives us [7,2,5]; [10,8] - This is valid solution. Can we do better? We record 21 and reduce our range to [10, 20].\n",
    "    - This gives us mid as 15. [7,2,5]; [10]; [8] - Invalid! we got more than 2 sub-arrays. We need to increase low to mid+1 and search in the range [16, 20].\n",
    "    - [16, 20] gives us 18. [7,2,5]; [10,8] - This is a valid solution. Can we do better than 18? Let us search in the range [16,17]\n",
    "    - [16,17] gives mid as 16. [7,2,5]; [10]; [8]. This is invalid and we need to increase range. New range is [17,17]. This again gives [7,2,5]; [10]; [8] and we get the new range as [18,17].\n",
    "    - [18,17] breaks the while loop! We have recorded 18 as the last answer and return it.\n"
   ]
  },
  {
   "cell_type": "code",
   "execution_count": 3,
   "metadata": {},
   "outputs": [],
   "source": [
    "from typing import List\n",
    "\n",
    "class Solution:\n",
    "    def splitArray(self, nums: List[int], m: int) -> int:\n",
    "        \"\"\"\n",
    "        :type nums: List[int]\n",
    "        :type m: int\n",
    "        :rtype: int\n",
    "        \"\"\"\n",
    "        low, high, ans = max(nums), sum(nums), -1\n",
    "        while low <= high:\n",
    "            mid = (low+high)//2\n",
    "            if self.is_valid(nums, m, mid): # can you make at-most m sub-arrays with maximum sum atmost mid \n",
    "                ans, high = mid, mid-1\n",
    "            else:\n",
    "                low = mid + 1\n",
    "        return ans\n",
    "    \n",
    "    def is_valid(self, nums: List[int], m: int, mid: int) -> bool:\n",
    "        # assume mid is < max(nums)\n",
    "        cuts, curr_sum  = 0, 0\n",
    "        for x in nums:\n",
    "            curr_sum += x\n",
    "            if curr_sum > mid:\n",
    "                cuts, curr_sum = cuts+1, x\n",
    "        subs = cuts + 1\n",
    "        return (subs <= m)\n",
    "        "
   ]
  },
  {
   "cell_type": "code",
   "execution_count": 4,
   "metadata": {},
   "outputs": [
    {
     "data": {
      "text/plain": [
       "18"
      ]
     },
     "execution_count": 4,
     "metadata": {},
     "output_type": "execute_result"
    }
   ],
   "source": [
    "instance = Solution()\n",
    "instance.splitArray([7,2,5,10,8], 2)"
   ]
  }
 ],
 "metadata": {
  "kernelspec": {
   "display_name": "Python 3",
   "language": "python",
   "name": "python3"
  },
  "language_info": {
   "codemirror_mode": {
    "name": "ipython",
    "version": 3
   },
   "file_extension": ".py",
   "mimetype": "text/x-python",
   "name": "python",
   "nbconvert_exporter": "python",
   "pygments_lexer": "ipython3",
   "version": "3.7.3"
  }
 },
 "nbformat": 4,
 "nbformat_minor": 2
}
