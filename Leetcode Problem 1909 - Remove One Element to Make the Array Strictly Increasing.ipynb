{
 "cells": [
  {
   "cell_type": "markdown",
   "metadata": {},
   "source": [
    "Problem Statement.\n",
    "\n",
    "Given a 0-indexed integer array nums, return true if it can be made strictly increasing after removing exactly one element, or false otherwise. If the array is already strictly increasing, return true.\n",
    "\n",
    "The array nums is strictly increasing if nums[i - 1] < nums[i] for each index (1 <= i < nums.length).\n",
    "\n",
    " \n",
    "\n",
    "Example 1:\n",
    "\n",
    "Input: nums = [1,2,10,5,7]\n",
    "Output: true\n",
    "Explanation: By removing 10 at index 2 from nums, it becomes [1,2,5,7].\n",
    "[1,2,5,7] is strictly increasing, so return true.\n",
    "\n",
    "Example 2:\n",
    "\n",
    "Input: nums = [2,3,1,2]\n",
    "Output: false\n",
    "Explanation:\n",
    "[3,1,2] is the result of removing the element at index 0.\n",
    "[2,1,2] is the result of removing the element at index 1.\n",
    "[2,3,2] is the result of removing the element at index 2.\n",
    "[2,3,1] is the result of removing the element at index 3.\n",
    "No resulting array is strictly increasing, so return false.\n",
    "\n",
    "Example 3:\n",
    "\n",
    "Input: nums = [1,1,1]\n",
    "Output: false\n",
    "Explanation: The result of removing any element is [1,1].\n",
    "[1,1] is not strictly increasing, so return false.\n",
    "\n",
    " \n",
    "\n",
    "Constraints:\n",
    "\n",
    "    2 <= nums.length <= 1000\n",
    "    1 <= nums[i] <= 1000"
   ]
  },
  {
   "cell_type": "markdown",
   "metadata": {},
   "source": [
    "# Linear Traversal - O(N) runtime, O(1) space"
   ]
  },
  {
   "cell_type": "code",
   "execution_count": 1,
   "metadata": {},
   "outputs": [],
   "source": [
    "from typing import List\n",
    "\n",
    "class Solution:\n",
    "    def canBeIncreasing(self, nums: List[int]) -> bool:\n",
    "        n = len(nums)\n",
    "        \n",
    "        def checkIncreasing(left, prev, canDelete):\n",
    "            for i in range(left, n):\n",
    "                if nums[i] <= prev:\n",
    "                    if not canDelete: \n",
    "                        return False\n",
    "                    else:\n",
    "                        deleteCurrent = checkIncreasing(i+1, prev, False)\n",
    "                        deletePrev = checkIncreasing(i, 0 if i < 2 else nums[i-2], False)\n",
    "                        return deleteCurrent or deletePrev\n",
    "                    \n",
    "                prev = nums[i]\n",
    "                \n",
    "            return True\n",
    "                    \n",
    "        return checkIncreasing(0, 0, True)"
   ]
  },
  {
   "cell_type": "code",
   "execution_count": 2,
   "metadata": {},
   "outputs": [
    {
     "data": {
      "text/plain": [
       "True"
      ]
     },
     "execution_count": 2,
     "metadata": {},
     "output_type": "execute_result"
    }
   ],
   "source": [
    "instance = Solution()\n",
    "instance.canBeIncreasing([1,2,10,5,7])"
   ]
  }
 ],
 "metadata": {
  "kernelspec": {
   "display_name": "Python 3",
   "language": "python",
   "name": "python3"
  },
  "language_info": {
   "codemirror_mode": {
    "name": "ipython",
    "version": 3
   },
   "file_extension": ".py",
   "mimetype": "text/x-python",
   "name": "python",
   "nbconvert_exporter": "python",
   "pygments_lexer": "ipython3",
   "version": "3.7.3"
  }
 },
 "nbformat": 4,
 "nbformat_minor": 2
}
