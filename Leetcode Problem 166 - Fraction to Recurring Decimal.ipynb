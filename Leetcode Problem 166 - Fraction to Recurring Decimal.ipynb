{
 "cells": [
  {
   "cell_type": "markdown",
   "metadata": {},
   "source": [
    "Problem Statement. <br/>\n",
    "\n",
    "Given two integers representing the numerator and denominator of a fraction, return the fraction in string format. <br/>\n",
    "If the fractional part is repeating, enclose the repeating part in parentheses. <br/>\n",
    "If multiple answers are possible, return any of them. <br/>\n",
    "It is guaranteed that the length of the answer string is less than 104 for all the given inputs. <br/>\n",
    "\n",
    "Example 1: <br/>\n",
    "Input: numerator = 1, denominator = 2 <br/>\n",
    "Output: \"0.5\" <br/>\n",
    "\n",
    "Example 2: <br/>\n",
    "Input: numerator = 2, denominator = 1 <br/>\n",
    "Output: \"2\" <br/>\n",
    "\n",
    "Example 3: <br/>\n",
    "Input: numerator = 2, denominator = 3 <br/>\n",
    "Output: \"0.(6)\" <br/>\n",
    "\n",
    "Example 4: <br/>\n",
    "Input: numerator = 4, denominator = 333 <br/>\n",
    "Output: \"0.(012)\" <br/>\n",
    "\n",
    "Example 5: <br/>\n",
    "Input: numerator = 1, denominator = 5 <br/>\n",
    "Output: \"0.2\""
   ]
  },
  {
   "cell_type": "markdown",
   "metadata": {},
   "source": [
    "# Long Division - O(N) runtime, O(N) space"
   ]
  },
  {
   "cell_type": "code",
   "execution_count": 1,
   "metadata": {},
   "outputs": [],
   "source": [
    "class Solution:\n",
    "    def fractionToDecimal(self, numerator: int, denominator: int) -> str:\n",
    "\n",
    "        n, remainder = divmod(abs(numerator), abs(denominator))\n",
    "        sign = '-' if numerator * denominator < 0 else ''\n",
    "        \n",
    "        if remainder == 0:\n",
    "            return sign + str(n)\n",
    "        \n",
    "        result = [sign + str(n), '.']\n",
    "        stack = []\n",
    "        while remainder not in stack:\n",
    "            stack.append(remainder)\n",
    "            n, remainder = divmod(remainder*10, abs(denominator))\n",
    "            result.append(str(n))\n",
    "            print(stack, remainder)\n",
    "\n",
    "        idx = stack.index(remainder)\n",
    "        result.insert(idx+2, '(')\n",
    "        result.append(')')\n",
    "        \n",
    "        return ''.join(result).replace('(0)', '')"
   ]
  },
  {
   "cell_type": "code",
   "execution_count": 2,
   "metadata": {},
   "outputs": [
    {
     "name": "stdout",
     "output_type": "stream",
     "text": [
      "[1] 10\n",
      "[1, 10] 100\n",
      "[1, 10, 100] 1\n"
     ]
    },
    {
     "data": {
      "text/plain": [
       "'0.(001)'"
      ]
     },
     "execution_count": 2,
     "metadata": {},
     "output_type": "execute_result"
    }
   ],
   "source": [
    "instance = Solution()\n",
    "instance.fractionToDecimal(1, 999)"
   ]
  }
 ],
 "metadata": {
  "kernelspec": {
   "display_name": "Python 3",
   "language": "python",
   "name": "python3"
  },
  "language_info": {
   "codemirror_mode": {
    "name": "ipython",
    "version": 3
   },
   "file_extension": ".py",
   "mimetype": "text/x-python",
   "name": "python",
   "nbconvert_exporter": "python",
   "pygments_lexer": "ipython3",
   "version": "3.7.3"
  }
 },
 "nbformat": 4,
 "nbformat_minor": 2
}
