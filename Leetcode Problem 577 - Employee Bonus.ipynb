{
 "cells": [
  {
   "cell_type": "markdown",
   "metadata": {},
   "source": [
    "    Problem Statement.\n",
    "\n",
    "    Table: Employee\n",
    "\n",
    "    +-------------+---------+\n",
    "    | Column Name | Type    |\n",
    "    +-------------+---------+\n",
    "    | empId       | int     |\n",
    "    | name        | varchar |\n",
    "    | supervisor  | int     |\n",
    "    | salary      | int     |\n",
    "    +-------------+---------+\n",
    "    empId is the primary key column for this table.\n",
    "    Each row of this table indicates the name and the ID of an employee in addition to their salary and the id of their manager.\n",
    "\n",
    "\n",
    "\n",
    "    Table: Bonus\n",
    "\n",
    "    +-------------+------+\n",
    "    | Column Name | Type |\n",
    "    +-------------+------+\n",
    "    | empId       | int  |\n",
    "    | bonus       | int  |\n",
    "    +-------------+------+\n",
    "    empId is the primary key column for this table.\n",
    "    empId is a foreign key to empId from the Employee table.\n",
    "    Each row of this table contains the id of an employee and their respective bonus.\n",
    "\n",
    "\n",
    "\n",
    "    Write an SQL query to report the name and bonus amount of each employee with a bonus less than 1000.\n",
    "\n",
    "    Return the result table in any order.\n",
    "\n",
    "    The query result format is in the following example.\n",
    "\n",
    "\n",
    "\n",
    "    Example 1:\n",
    "\n",
    "    Input: \n",
    "    Employee table:\n",
    "    +-------+--------+------------+--------+\n",
    "    | empId | name   | supervisor | salary |\n",
    "    +-------+--------+------------+--------+\n",
    "    | 3     | Brad   | null       | 4000   |\n",
    "    | 1     | John   | 3          | 1000   |\n",
    "    | 2     | Dan    | 3          | 2000   |\n",
    "    | 4     | Thomas | 3          | 4000   |\n",
    "    +-------+--------+------------+--------+\n",
    "    Bonus table:\n",
    "    +-------+-------+\n",
    "    | empId | bonus |\n",
    "    +-------+-------+\n",
    "    | 2     | 500   |\n",
    "    | 4     | 2000  |\n",
    "    +-------+-------+\n",
    "    Output: \n",
    "    +------+-------+\n",
    "    | name | bonus |\n",
    "    +------+-------+\n",
    "    | Brad | null  |\n",
    "    | John | null  |\n",
    "    | Dan  | 500   |\n",
    "    +------+-------+\n",
    "\n"
   ]
  },
  {
   "cell_type": "markdown",
   "metadata": {},
   "source": [
    "# Join"
   ]
  },
  {
   "cell_type": "code",
   "execution_count": null,
   "metadata": {},
   "outputs": [],
   "source": [
    "select e.name, b.bonus\n",
    "from Employee e\n",
    "left join Bonus b on b.empId = e.empId\n",
    "where b.bonus is null or b.bonus < 1000"
   ]
  },
  {
   "cell_type": "markdown",
   "metadata": {},
   "source": [
    "# Join and Coalesce"
   ]
  },
  {
   "cell_type": "code",
   "execution_count": null,
   "metadata": {},
   "outputs": [],
   "source": [
    "select e.name, b.bonus\n",
    "from Employee e\n",
    "left join Bonus b on b.empId = e.empId\n",
    "where coalesce(b.bonus, 0) < 1000"
   ]
  }
 ],
 "metadata": {
  "kernelspec": {
   "display_name": "Python 3",
   "language": "python",
   "name": "python3"
  },
  "language_info": {
   "codemirror_mode": {
    "name": "ipython",
    "version": 3
   },
   "file_extension": ".py",
   "mimetype": "text/x-python",
   "name": "python",
   "nbconvert_exporter": "python",
   "pygments_lexer": "ipython3",
   "version": "3.7.3"
  }
 },
 "nbformat": 4,
 "nbformat_minor": 2
}
