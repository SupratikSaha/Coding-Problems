{
 "cells": [
  {
   "cell_type": "markdown",
   "metadata": {},
   "source": [
    "Problem Statement.\n",
    "\n",
    "You are given a string s representing a list of words. Each letter in the word has one or more options.\n",
    "\n",
    "    If there is one option, the letter is represented as is.\n",
    "    If there is more than one option, then curly braces delimit the options. For example, \"{a,b,c}\" represents options [\"a\", \"b\", \"c\"].\n",
    "\n",
    "For example, if s = \"a{b,c}\", the first character is always 'a', but the second character can be 'b' or 'c'. The original list is [\"ab\", \"ac\"].\n",
    "\n",
    "Return all words that can be formed in this manner, sorted in lexicographical order.\n",
    "\n",
    " \n",
    "\n",
    "Example 1:\n",
    "\n",
    "Input: s = \"{a,b}c{d,e}f\"\n",
    "Output: [\"acdf\",\"acef\",\"bcdf\",\"bcef\"]\n",
    "\n",
    "Example 2:\n",
    "\n",
    "Input: s = \"abcd\"\n",
    "Output: [\"abcd\"]\n",
    "\n",
    " \n",
    "\n",
    "Constraints:\n",
    "\n",
    "    1 <= s.length <= 50\n",
    "    s consists of curly brackets '{}', commas ',', and lowercase English letters.\n",
    "    s is guaranteed to be a valid input.\n",
    "    There are no nested curly brackets.\n",
    "    All characters inside a pair of consecutive opening and ending curly brackets are different."
   ]
  },
  {
   "cell_type": "markdown",
   "metadata": {},
   "source": [
    "# Subsets - O(N ^ 2) runtime, O(N ^ 2) space"
   ]
  },
  {
   "cell_type": "code",
   "execution_count": 1,
   "metadata": {},
   "outputs": [],
   "source": [
    "from typing import List\n",
    "\n",
    "class Solution:\n",
    "    def expand(self, s: str) -> List[str]:\n",
    "        resultList = [[]]\n",
    "        i, n = 0, len(s)\n",
    "        \n",
    "        while i < n:\n",
    "            if s[i] == '{':\n",
    "                i += 1\n",
    "                newList = [] \n",
    "                while s[i] != '}':\n",
    "                    if s[i] != ',': \n",
    "                        for j in range(len(resultList)):\n",
    "                            newList.append(resultList[j] + [s[i]])\n",
    "                    i += 1\n",
    "                resultList = newList\n",
    "            else:\n",
    "                for j in range(len(resultList)):\n",
    "                    resultList[j].append(s[i])\n",
    "            i += 1\n",
    "            \n",
    "        resultList = [''.join(resultList[j]) for j in range(len(resultList))]\n",
    "        \n",
    "        return sorted(resultList)\n",
    "                        "
   ]
  },
  {
   "cell_type": "markdown",
   "metadata": {},
   "source": [
    "# Iterative DFS - O(N ^ 2) runtime, O(N ^ 2) space"
   ]
  },
  {
   "cell_type": "code",
   "execution_count": 6,
   "metadata": {},
   "outputs": [],
   "source": [
    "from typing import List\n",
    "\n",
    "class Solution:\n",
    "    def expand(self, s: str) -> List[str]:\n",
    "        items = self.helper(\"\", self.parse(s))\n",
    "        items.sort()\n",
    "        return items\n",
    "\n",
    "    def parse(self, s: str) -> List[List[str]]:\n",
    "        result = []\n",
    "        i = 0\n",
    "        while i < len(s):\n",
    "            if s[i] == \"{\":\n",
    "                end = s.index(\"}\", i+1)\n",
    "                result.append(s[i+1:end].split(\",\"))\n",
    "                i = end + 1\n",
    "            else:\n",
    "                result.append([s[i]])\n",
    "                i += 1\n",
    "        return result\n",
    "    \n",
    "    def helper(self, curr_word: str, letters: List[List[str]]) -> None:\n",
    "        result = []\n",
    "        \n",
    "        stack = [(\"\", 0)]\n",
    "        while stack:\n",
    "            curr_word, index = stack.pop()\n",
    "            if index == len(letters):\n",
    "                result.append(curr_word)\n",
    "            else:\n",
    "                for letter in letters[index]:\n",
    "                    stack.append((curr_word + letter, index + 1))\n",
    "        \n",
    "        return result"
   ]
  },
  {
   "cell_type": "code",
   "execution_count": 7,
   "metadata": {},
   "outputs": [
    {
     "data": {
      "text/plain": [
       "['acdf', 'acef', 'bcdf', 'bcef']"
      ]
     },
     "execution_count": 7,
     "metadata": {},
     "output_type": "execute_result"
    }
   ],
   "source": [
    "instance = Solution()\n",
    "instance.expand(\"{a,b}c{d,e}f\")"
   ]
  }
 ],
 "metadata": {
  "kernelspec": {
   "display_name": "Python 3",
   "language": "python",
   "name": "python3"
  },
  "language_info": {
   "codemirror_mode": {
    "name": "ipython",
    "version": 3
   },
   "file_extension": ".py",
   "mimetype": "text/x-python",
   "name": "python",
   "nbconvert_exporter": "python",
   "pygments_lexer": "ipython3",
   "version": "3.7.3"
  }
 },
 "nbformat": 4,
 "nbformat_minor": 2
}
