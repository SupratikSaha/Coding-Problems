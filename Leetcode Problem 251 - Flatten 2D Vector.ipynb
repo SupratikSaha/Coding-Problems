{
 "cells": [
  {
   "cell_type": "markdown",
   "metadata": {},
   "source": [
    "Problem Statement. <br/>\n",
    "\n",
    "Design and implement an iterator to flatten a 2d vector. It should support the following operations: next and hasNext. <br/>\n",
    "\n",
    "Example: <br/>\n",
    "Vector2D iterator = new Vector2D([[1,2],[3],[4]]); <br/>\n",
    "\n",
    "iterator.next(); // return 1 <br/>\n",
    "iterator.next(); // return 2 <br/>\n",
    "iterator.next(); // return 3 <br/>\n",
    "iterator.hasNext(); // return true <br/>\n",
    "iterator.hasNext(); // return true <br/>\n",
    "iterator.next(); // return 4 <br/>\n",
    "iterator.hasNext(); // return false <br/>\n",
    "\n",
    "Notes: <br/>\n",
    "    Please remember to RESET your class variables declared in Vector2D, as static/class variables are persisted across multiple test cases. Please see here for more details.\n",
    "    You may assume that next() call will always be valid, that is, there will be at least a next element in the 2d vector when next() is called."
   ]
  },
  {
   "cell_type": "markdown",
   "metadata": {},
   "source": [
    "# Iteration - O(N), O(1), O(1) runtime for constructor, next and hasNext respectively and O(N), O(1), O(1) space for constructor, next and hasnext"
   ]
  },
  {
   "cell_type": "code",
   "execution_count": 1,
   "metadata": {},
   "outputs": [],
   "source": [
    "from typing import List\n",
    "\n",
    "class Vector2D:\n",
    "\n",
    "    def __init__(self, v: List[List[int]]):\n",
    "        # We need to iterate over the 2D vector, getting all the integers\n",
    "        # out of it and putting them into the nums list.\n",
    "        #for (int[] innerVector : v) {\n",
    "        self.nums = []\n",
    "        for inner_list in v:\n",
    "            for num in inner_list:\n",
    "                self.nums.append(num)\n",
    "        # We'll keep position 1 behind the next number to return.\n",
    "        self.position = -1\n",
    "\n",
    "    def next(self) -> int:\n",
    "        # Move up to the current element and return it.\n",
    "        self.position += 1\n",
    "        print(self.nums[self.position])\n",
    "        return self.nums[self.position]\n",
    "        \n",
    "    def hasNext(self) -> bool:\n",
    "        # If the next position is a valid index of nums, return True.\n",
    "        print(self.position + 1 < len(self.nums))\n",
    "        return self.position + 1 < len(self.nums)"
   ]
  },
  {
   "cell_type": "markdown",
   "metadata": {},
   "source": [
    "# Iteration - O(N) runtime, O(1) space for bot next and hasNext "
   ]
  },
  {
   "cell_type": "code",
   "execution_count": 2,
   "metadata": {},
   "outputs": [],
   "source": [
    "from typing import List\n",
    "\n",
    "class Vector2D:\n",
    "\n",
    "    def __init__(self, v: List[List[int]]):\n",
    "        self.v = v\n",
    "        self.m = len(v) if v else 0\n",
    "        self.r, self.c = 0, 0\n",
    "        \n",
    "\n",
    "    def next(self) -> int:\n",
    "        while not self.v[self.r]:\n",
    "            self.r += 1\n",
    "        val = self.v[self.r][self.c]\n",
    "        if self.c == len(self.v[self.r]) - 1:\n",
    "            self.r += 1\n",
    "            self.c = 0\n",
    "        else:\n",
    "            self.c += 1\n",
    "            \n",
    "        print(val)\n",
    "        return val\n",
    "        \n",
    "\n",
    "    def hasNext(self) -> bool:\n",
    "        while self.r < self.m and not self.v[self.r]:\n",
    "            self.r += 1\n",
    "        if self.m in (0, self.r):\n",
    "            print(False)\n",
    "            return False\n",
    "        \n",
    "        print(True)\n",
    "        return True"
   ]
  },
  {
   "cell_type": "code",
   "execution_count": 3,
   "metadata": {},
   "outputs": [
    {
     "name": "stdout",
     "output_type": "stream",
     "text": [
      "1\n",
      "True\n"
     ]
    }
   ],
   "source": [
    "obj = Vector2D([[1,2],[3],[4]])\n",
    "param_1 = obj.next()\n",
    "param_2 = obj.hasNext()"
   ]
  }
 ],
 "metadata": {
  "kernelspec": {
   "display_name": "Python 3",
   "language": "python",
   "name": "python3"
  },
  "language_info": {
   "codemirror_mode": {
    "name": "ipython",
    "version": 3
   },
   "file_extension": ".py",
   "mimetype": "text/x-python",
   "name": "python",
   "nbconvert_exporter": "python",
   "pygments_lexer": "ipython3",
   "version": "3.7.3"
  }
 },
 "nbformat": 4,
 "nbformat_minor": 2
}
