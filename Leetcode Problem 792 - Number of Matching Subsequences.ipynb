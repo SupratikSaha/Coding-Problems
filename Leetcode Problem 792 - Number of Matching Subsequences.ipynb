{
 "cells": [
  {
   "cell_type": "markdown",
   "metadata": {},
   "source": [
    "Problem Statement. <br/>\n",
    "\n",
    "Given string S and a dictionary of words words, find the number of words[i] that is a subsequence of S. <br/>\n",
    "\n",
    "Example : <br/>\n",
    "Input:  <br/>\n",
    "S = \"abcde\" <br/>\n",
    "words = [\"a\", \"bb\", \"acd\", \"ace\"] <br/>\n",
    "Output: 3 <br/>\n",
    "Explanation: There are three words in words that are a subsequence of S: \"a\", \"acd\", \"ace\"."
   ]
  },
  {
   "cell_type": "markdown",
   "metadata": {},
   "source": [
    "# Hash Map - O(w * s) runtime, O(w) space where w is the number of words and s is the length of S"
   ]
  },
  {
   "cell_type": "code",
   "execution_count": 1,
   "metadata": {},
   "outputs": [],
   "source": [
    "from typing import List\n",
    "\n",
    "class Solution:\n",
    "    def numMatchingSubseq(self, S: str, words: List[str]) -> int:\n",
    "        wordDict = {}\n",
    "        countMatches = 0\n",
    "        for word in words:\n",
    "            if word not in wordDict:\n",
    "                if self.isSubsequence(word, S):\n",
    "                    wordDict[word] = True\n",
    "                    countMatches += 1\n",
    "                else:\n",
    "                    wordDict[word] = False\n",
    "            elif wordDict[word]:\n",
    "                countMatches += 1 \n",
    "                    \n",
    "        return countMatches\n",
    "                    \n",
    "    def isSubsequence(self, word: str, S: str) -> bool:\n",
    "        currPos = -1\n",
    "        w, s = len(word), len(S)\n",
    "\n",
    "        for i in range(w):\n",
    "            prevPos = currPos\n",
    "            for j in range(prevPos+1, s):\n",
    "                if word[i] == S[j]:\n",
    "                    currPos = j\n",
    "                    break\n",
    "            if prevPos == currPos or (i < w - 1 and j == s - 1):\n",
    "                return False\n",
    "            \n",
    "        return True"
   ]
  },
  {
   "cell_type": "markdown",
   "metadata": {},
   "source": [
    "# Bisect - O(s + W*log(s)) runtime, O(S + largest(word)) space, where w is the number of words, W is the sum of length of all words and s is the length of S"
   ]
  },
  {
   "cell_type": "code",
   "execution_count": 2,
   "metadata": {},
   "outputs": [],
   "source": [
    "from typing import List\n",
    "\n",
    "class Solution:\n",
    "    def numMatchingSubseq(self, S: str, words: List[str]) -> int:\n",
    "        def isMatch(word, w_i, d_i):\n",
    "            if w_i == len(word): return True\n",
    "            l = dict_idxs[word[w_i]]\n",
    "            if len(l) == 0 or d_i > l[-1]: return False\n",
    "            i = l[bisect_left(l, d_i)]\n",
    "            return isMatch(word, w_i + 1, i + 1)\n",
    "\n",
    "        dict_idxs = defaultdict(list)\n",
    "        for i in range(len(S)):\n",
    "            dict_idxs[S[i]].append(i)\n",
    "        return sum(isMatch(word, 0, 0) for word in words)"
   ]
  },
  {
   "cell_type": "markdown",
   "metadata": {},
   "source": [
    "# Next Letter Pointers Iteration - O(S + W) runtime, O(w) space, where w is the number of words, W is the sum of length of all words and s is the length of S"
   ]
  },
  {
   "cell_type": "code",
   "execution_count": 3,
   "metadata": {},
   "outputs": [],
   "source": [
    "from typing import List\n",
    "\n",
    "class Solution:\n",
    "    def numMatchingSubseq(self, S: str, words: List[str]) -> int:\n",
    "        ans = 0\n",
    "        heads = [[] for _ in range(26)]\n",
    "        for word in words:\n",
    "            it = iter(word)\n",
    "            heads[ord(next(it)) - ord('a')].append(it)\n",
    "\n",
    "        for letter in S:\n",
    "            letter_index = ord(letter) - ord('a')\n",
    "            old_bucket = heads[letter_index]\n",
    "            heads[letter_index] = []\n",
    "\n",
    "            while old_bucket:\n",
    "                it = old_bucket.pop()\n",
    "                nxt = next(it, None)\n",
    "                if nxt:\n",
    "                    heads[ord(nxt) - ord('a')].append(it)\n",
    "                else:\n",
    "                    ans += 1\n",
    "\n",
    "        return ans"
   ]
  },
  {
   "cell_type": "code",
   "execution_count": 4,
   "metadata": {},
   "outputs": [
    {
     "data": {
      "text/plain": [
       "3"
      ]
     },
     "execution_count": 4,
     "metadata": {},
     "output_type": "execute_result"
    }
   ],
   "source": [
    "instance = Solution()\n",
    "instance.numMatchingSubseq( \"abcde\", [\"a\", \"bb\", \"acd\", \"ace\"])"
   ]
  }
 ],
 "metadata": {
  "kernelspec": {
   "display_name": "Python 3",
   "language": "python",
   "name": "python3"
  },
  "language_info": {
   "codemirror_mode": {
    "name": "ipython",
    "version": 3
   },
   "file_extension": ".py",
   "mimetype": "text/x-python",
   "name": "python",
   "nbconvert_exporter": "python",
   "pygments_lexer": "ipython3",
   "version": "3.7.3"
  }
 },
 "nbformat": 4,
 "nbformat_minor": 2
}
