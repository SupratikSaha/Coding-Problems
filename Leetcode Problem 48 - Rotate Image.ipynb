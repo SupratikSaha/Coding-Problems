{
 "cells": [
  {
   "cell_type": "markdown",
   "metadata": {},
   "source": [
    "You are given an n x n 2D matrix representing an image.\n",
    "\n",
    "Rotate the image by 90 degrees (clockwise).\n",
    "\n",
    "Note:\n",
    "\n",
    "You have to rotate the image in-place, which means you have to modify the input 2D matrix directly. DO NOT allocate another 2D matrix and do the rotation.\n",
    "\n",
    "Example 1: <br/>\n",
    "\n",
    "Given input matrix = <br/>\n",
    "[ <br/>\n",
    "  [1,2,3],<br/>\n",
    "  [4,5,6],<br/>\n",
    "  [7,8,9]<br/>\n",
    "],<br/>\n",
    "\n",
    "rotate the input matrix in-place such that it becomes:<br/>\n",
    "[<br/>\n",
    "  [7,4,1],<br/>\n",
    "  [8,5,2],<br/>\n",
    "  [9,6,3]<br/>\n",
    "]<br/>\n",
    "\n",
    "Example 2:<br/>\n",
    "\n",
    "Given input matrix =<br/>\n",
    "[<br/>\n",
    "  [ 5, 1, 9,11],<br/>\n",
    "  [ 2, 4, 8,10],<br/>\n",
    "  [13, 3, 6, 7],<br/>\n",
    "  [15,14,12,16]<br/>\n",
    "], <br/>\n",
    "\n",
    "rotate the input matrix in-place such that it becomes:<br/>\n",
    "[<br/>\n",
    "  [15,13, 2, 5],<br/>\n",
    "  [14, 3, 4, 1],<br/>\n",
    "  [12, 6, 8, 9],<br/>\n",
    "  [16, 7,10,11]<br/>\n",
    "]<br/>"
   ]
  },
  {
   "cell_type": "markdown",
   "metadata": {},
   "source": [
    "# Transpose and reverse - O(n^2) runtime, O(1) space"
   ]
  },
  {
   "cell_type": "code",
   "execution_count": 3,
   "metadata": {},
   "outputs": [],
   "source": [
    "from typing import List\n",
    "\n",
    "class Solution:\n",
    "    def rotate(self, matrix: List[List[int]]) -> None:\n",
    "        \"\"\"\n",
    "        Do not return anything, modify matrix in-place instead.\n",
    "        \"\"\"\n",
    "        \n",
    "        n = len(matrix[0])        \n",
    "        # transpose matrix\n",
    "        for i in range(n):\n",
    "            for j in range(i, n):\n",
    "                matrix[j][i], matrix[i][j] = matrix[i][j], matrix[j][i] \n",
    "        \n",
    "        # reverse each row\n",
    "        for i in range(n):\n",
    "            matrix[i].reverse()"
   ]
  },
  {
   "cell_type": "markdown",
   "metadata": {},
   "source": [
    "# Rotate four rectangles - O(n^2) runtime, O(1) space"
   ]
  },
  {
   "cell_type": "code",
   "execution_count": 4,
   "metadata": {},
   "outputs": [],
   "source": [
    "from typing import List\n",
    "\n",
    "class Solution:\n",
    "    def rotate(self, matrix: List[List[int]]) -> None:\n",
    "        \"\"\"\n",
    "        Do not return anything, modify matrix in-place instead.\n",
    "        \"\"\"\n",
    "        \n",
    "        n = len(matrix[0])\n",
    "        for i in range(n // 2 + n % 2):\n",
    "            for j in range(n // 2):\n",
    "                tmp = [0] * 4\n",
    "                row, col = i, j\n",
    "                # store 4 elements in tmp\n",
    "                for k in range(4):\n",
    "                    tmp[k] = matrix[row][col]\n",
    "                    row, col = col, n - 1 - row\n",
    "                # rotate 4 elements   \n",
    "                for k in range(4):\n",
    "                    matrix[row][col] = tmp[(k - 1) % 4]\n",
    "                    row, col = col, n - 1 - row"
   ]
  },
  {
   "cell_type": "markdown",
   "metadata": {},
   "source": [
    "# Rotate 4 rectangles using no extra loops - O(n^2) runtime, O(1) space"
   ]
  },
  {
   "cell_type": "code",
   "execution_count": 5,
   "metadata": {},
   "outputs": [],
   "source": [
    "from typing import List\n",
    "\n",
    "class Solution:\n",
    "    def rotate(self, matrix: List[List[int]]) -> None:\n",
    "        \"\"\"\n",
    "        Do not return anything, modify matrix in-place instead.\n",
    "        \"\"\"\n",
    "        \n",
    "        n = len(matrix[0])\n",
    "        for i in range(n // 2 + n % 2):\n",
    "            for j in range(n // 2):\n",
    "                tmp = matrix[n - 1 - j][i]\n",
    "                matrix[n - 1 - j][i] = matrix[n - 1 - i][n - j - 1]\n",
    "                matrix[n - 1 - i][n - j - 1] = matrix[j][n - 1 -i]\n",
    "                matrix[j][n - 1 - i] = matrix[i][j]\n",
    "                matrix[i][j] = tmp"
   ]
  },
  {
   "cell_type": "code",
   "execution_count": 6,
   "metadata": {},
   "outputs": [],
   "source": [
    "instance = Solution()\n",
    "instance.rotate([[1,2,3],[4,5,6],[7,8,9]])"
   ]
  }
 ],
 "metadata": {
  "kernelspec": {
   "display_name": "Python 3",
   "language": "python",
   "name": "python3"
  },
  "language_info": {
   "codemirror_mode": {
    "name": "ipython",
    "version": 3
   },
   "file_extension": ".py",
   "mimetype": "text/x-python",
   "name": "python",
   "nbconvert_exporter": "python",
   "pygments_lexer": "ipython3",
   "version": "3.7.3"
  }
 },
 "nbformat": 4,
 "nbformat_minor": 2
}
