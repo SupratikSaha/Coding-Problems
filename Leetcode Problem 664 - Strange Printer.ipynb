{
 "cells": [
  {
   "cell_type": "markdown",
   "metadata": {},
   "source": [
    "Problem Statement.\n",
    "\n",
    "There is a strange printer with the following two special properties:\n",
    "\n",
    "    The printer can only print a sequence of the same character each time.\n",
    "    At each turn, the printer can print new characters starting from and ending at any place and will cover the original existing characters.\n",
    "\n",
    "Given a string s, return the minimum number of turns the printer needed to print it.\n",
    "\n",
    " \n",
    "\n",
    "Example 1:\n",
    "\n",
    "Input: s = \"aaabbb\"\n",
    "Output: 2\n",
    "Explanation: Print \"aaa\" first and then print \"bbb\".\n",
    "\n",
    "Example 2:\n",
    "\n",
    "Input: s = \"aba\"\n",
    "Output: 2\n",
    "Explanation: Print \"aaa\" first and then print \"b\" from the second place of the string, which will cover the existing character 'a'.\n",
    "\n",
    " \n",
    "\n",
    "Constraints:\n",
    "\n",
    "    1 <= s.length <= 100\n",
    "    s consists of lowercase English letters."
   ]
  },
  {
   "cell_type": "markdown",
   "metadata": {},
   "source": [
    "# DP - O(N ^ 3) runtime, O(N) space"
   ]
  },
  {
   "cell_type": "code",
   "execution_count": 3,
   "metadata": {},
   "outputs": [],
   "source": [
    "from functools import lru_cache\n",
    "from itertools import groupby\n",
    "\n",
    "class Solution:\n",
    "    def strangePrinter(self, s: str) -> int:       \n",
    "        s = ''.join(key for key, group in groupby(s))\n",
    "\n",
    "        @lru_cache(None)\n",
    "        def solve(s):\n",
    "            if not s: return 0\n",
    "            # cost to simply insert last character\n",
    "            cost = solve(s[0:-1]) + 1\n",
    "            # what if last character could be inserted for free just by reusing previous step that already prints it?\n",
    "            # . . . . . A . . . . A\n",
    "            # |---------| |-----| last character is free\n",
    "            char_to_insert = s[-1]\n",
    "            for i, c in enumerate(s[:-1]):\n",
    "                if c == char_to_insert:\n",
    "                    cost = min(cost, solve(s[0:i+1]) + solve(s[i+1:-1]))\n",
    "\n",
    "            return cost\n",
    "\n",
    "        return solve(s)"
   ]
  },
  {
   "cell_type": "markdown",
   "metadata": {},
   "source": [
    "# Simpler DP - O(N ^ 3) runtime, O(N) space"
   ]
  },
  {
   "cell_type": "code",
   "execution_count": 6,
   "metadata": {},
   "outputs": [],
   "source": [
    "from functools import lru_cache\n",
    "from itertools import groupby\n",
    "\n",
    "class Solution:\n",
    "    def strangePrinter(self, s: str) -> int:\n",
    "        s = [key for key, group in groupby(s)]\n",
    "        \n",
    "        @lru_cache(None)\n",
    "        def solve(l, r):\n",
    "            if l > r: return 0\n",
    "            \n",
    "            ans = solve(l+1, r) + 1\n",
    "            \n",
    "            for k in range(l+1, r+1):\n",
    "                if s[k] == s[l]:\n",
    "                    ans = min(ans, solve(l, k-1) + solve(k+1, r))\n",
    "\n",
    "            return ans\n",
    "\n",
    "        return solve(0, len(s) - 1)"
   ]
  },
  {
   "cell_type": "code",
   "execution_count": 7,
   "metadata": {},
   "outputs": [
    {
     "data": {
      "text/plain": [
       "2"
      ]
     },
     "execution_count": 7,
     "metadata": {},
     "output_type": "execute_result"
    }
   ],
   "source": [
    "instance = Solution()\n",
    "instance.strangePrinter(\"aaabbb\")"
   ]
  }
 ],
 "metadata": {
  "kernelspec": {
   "display_name": "Python 3",
   "language": "python",
   "name": "python3"
  },
  "language_info": {
   "codemirror_mode": {
    "name": "ipython",
    "version": 3
   },
   "file_extension": ".py",
   "mimetype": "text/x-python",
   "name": "python",
   "nbconvert_exporter": "python",
   "pygments_lexer": "ipython3",
   "version": "3.7.3"
  }
 },
 "nbformat": 4,
 "nbformat_minor": 2
}
