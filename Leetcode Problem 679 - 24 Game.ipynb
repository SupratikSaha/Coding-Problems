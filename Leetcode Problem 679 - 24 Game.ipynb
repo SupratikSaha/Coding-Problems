{
 "cells": [
  {
   "cell_type": "markdown",
   "metadata": {},
   "source": [
    "Problem Statement.\n",
    "\n",
    "You are given an integer array cards of length 4. You have four cards, each containing a number in the range [1, 9]. You should arrange the numbers on these cards in a mathematical expression using the operators ['+', '-', '*', '/'] and the parentheses '(' and ')' to get the value 24.\n",
    "\n",
    "You are restricted with the following rules:\n",
    "\n",
    "    The division operator '/' represents real division, not integer division.\n",
    "        For example, 4 / (1 - 2 / 3) = 4 / (1 / 3) = 12.\n",
    "    Every operation done is between two numbers. In particular, we cannot use '-' as a unary operator.\n",
    "        For example, if cards = [1, 1, 1, 1], the expression \"-1 - 1 - 1 - 1\" is not allowed.\n",
    "    You cannot concatenate numbers together\n",
    "        For example, if cards = [1, 2, 1, 2], the expression \"12 + 12\" is not valid.\n",
    "\n",
    "Return true if you can get such expression that evaluates to 24, and false otherwise.\n",
    "\n",
    " \n",
    "\n",
    "Example 1:\n",
    "\n",
    "Input: cards = [4,1,8,7]\n",
    "Output: true\n",
    "Explanation: (8-4) * (7-1) = 24\n",
    "\n",
    "Example 2:\n",
    "\n",
    "Input: cards = [1,2,1,2]\n",
    "Output: false\n",
    "\n",
    " \n",
    "\n",
    "Constraints:\n",
    "\n",
    "    cards.length == 4\n",
    "    1 <= cards[i] <= 9"
   ]
  },
  {
   "cell_type": "markdown",
   "metadata": {},
   "source": [
    "# DP - O(1) runtime, O(1) space"
   ]
  },
  {
   "cell_type": "code",
   "execution_count": 5,
   "metadata": {},
   "outputs": [],
   "source": [
    "from typing import List\n",
    "\n",
    "class Solution:\n",
    "    def judgePoint24(self, cards: List[int]) -> bool:\n",
    "        if len(cards) == 1:\n",
    "            return round(cards[0], 4) == 24\n",
    "        else:\n",
    "            for (i, m), (j, n) in combinations(enumerate(cards), 2):\n",
    "                    new_cards = [x for t, x in enumerate(cards) if i != t != j]\n",
    "                    inter = {m+n, abs(m-n), n*m}\n",
    "                    if n != 0: inter.add(m/n)\n",
    "                    if m != 0: inter.add(n/m)\n",
    "                    \n",
    "                    if any(self.judgePoint24(new_cards + [x]) for x in inter):\n",
    "                        return True\n",
    "            \n",
    "            return False"
   ]
  },
  {
   "cell_type": "code",
   "execution_count": 6,
   "metadata": {},
   "outputs": [
    {
     "data": {
      "text/plain": [
       "True"
      ]
     },
     "execution_count": 6,
     "metadata": {},
     "output_type": "execute_result"
    }
   ],
   "source": [
    "instance = Solution()\n",
    "instance.judgePoint24([4,1,8,7])"
   ]
  }
 ],
 "metadata": {
  "kernelspec": {
   "display_name": "Python 3",
   "language": "python",
   "name": "python3"
  },
  "language_info": {
   "codemirror_mode": {
    "name": "ipython",
    "version": 3
   },
   "file_extension": ".py",
   "mimetype": "text/x-python",
   "name": "python",
   "nbconvert_exporter": "python",
   "pygments_lexer": "ipython3",
   "version": "3.7.3"
  }
 },
 "nbformat": 4,
 "nbformat_minor": 2
}
