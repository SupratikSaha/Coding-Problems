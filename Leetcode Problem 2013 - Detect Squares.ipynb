{
 "cells": [
  {
   "cell_type": "markdown",
   "metadata": {},
   "source": [
    "Problem Statement.\n",
    "\n",
    "You are given a stream of points on the X-Y plane. Design an algorithm that:\n",
    "\n",
    "    Adds new points from the stream into a data structure. Duplicate points are allowed and should be treated as different points.\n",
    "    Given a query point, counts the number of ways to choose three points from the data structure such that the three points and the query point form an axis-aligned square with positive area.\n",
    "\n",
    "An axis-aligned square is a square whose edges are all the same length and are either parallel or perpendicular to the x-axis and y-axis.\n",
    "\n",
    "Implement the DetectSquares class:\n",
    "\n",
    "    DetectSquares() Initializes the object with an empty data structure.\n",
    "    void add(int[] point) Adds a new point point = [x, y] to the data structure.\n",
    "    int count(int[] point) Counts the number of ways to form axis-aligned squares with point point = [x, y] as described above.\n",
    "\n",
    " \n",
    "\n",
    "Example 1:\n",
    "\n",
    "Input\n",
    "[\"DetectSquares\", \"add\", \"add\", \"add\", \"count\", \"count\", \"add\", \"count\"]\n",
    "[[], [[3, 10]], [[11, 2]], [[3, 2]], [[11, 10]], [[14, 8]], [[11, 2]], [[11, 10]]]\n",
    "Output\n",
    "[null, null, null, null, 1, 0, null, 2]\n",
    "\n",
    "Explanation\n",
    "DetectSquares detectSquares = new DetectSquares();\n",
    "detectSquares.add([3, 10]);\n",
    "detectSquares.add([11, 2]);\n",
    "detectSquares.add([3, 2]);\n",
    "detectSquares.count([11, 10]); // return 1. You can choose:\n",
    "                               //   - The first, second, and third points\n",
    "detectSquares.count([14, 8]);  // return 0. The query point cannot form a square with any points in the data structure.\n",
    "detectSquares.add([11, 2]);    // Adding duplicate points is allowed.\n",
    "detectSquares.count([11, 10]); // return 2. You can choose:\n",
    "                               //   - The first, second, and third points\n",
    "                               //   - The first, third, and fourth points\n",
    "\n",
    " \n",
    "\n",
    "Constraints:\n",
    "\n",
    "    point.length == 2\n",
    "    0 <= x, y <= 1000\n",
    "    At most 3000 calls in total will be made to add and count."
   ]
  },
  {
   "cell_type": "markdown",
   "metadata": {},
   "source": [
    "# Two Hashmaps - O(1) add, O(X * Y) count, O(N) space"
   ]
  },
  {
   "cell_type": "code",
   "execution_count": 2,
   "metadata": {},
   "outputs": [],
   "source": [
    "from typing import List\n",
    "from collections import defaultdict\n",
    "\n",
    "class DetectSquares:\n",
    "\n",
    "    def __init__(self):\n",
    "        self.xDict = defaultdict(dict)\n",
    "        self.yDict = defaultdict(dict)\n",
    "\n",
    "    def add(self, point: List[int]) -> None:\n",
    "        x, y = point\n",
    "        if y in self.xDict[x]:\n",
    "            self.xDict[x][y] += 1\n",
    "        else:\n",
    "            self.xDict[x][y] = 1\n",
    "            \n",
    "        if x in self.yDict[y]:\n",
    "            self.yDict[y][x] += 1\n",
    "        else:\n",
    "            self.yDict[y][x] = 1\n",
    "        \n",
    "\n",
    "    def count(self, point: List[int]) -> int:\n",
    "        x1, y1 = point\n",
    "        count = 0\n",
    "        \n",
    "        for y2 in self.xDict[x1]:\n",
    "            if y2 != y1:\n",
    "                for x2 in self.yDict[y1]:\n",
    "                    if x2 != x1 and y2 in self.xDict[x2] and abs(x1-x2) == abs(y1-y2):\n",
    "                        count += self.xDict[x1][y2] *self.xDict[x2][y1] *self.xDict[x2][y2]\n",
    "        \n",
    "        return count"
   ]
  },
  {
   "cell_type": "markdown",
   "metadata": {},
   "source": [
    "# Simpler One Hashmap - O(1) add, O(N) count, O(N) space"
   ]
  },
  {
   "cell_type": "code",
   "execution_count": 3,
   "metadata": {},
   "outputs": [],
   "source": [
    "from typing import List\n",
    "from collections import defaultdict\n",
    "\n",
    "class DetectSquares:\n",
    "\n",
    "    def __init__(self):\n",
    "        self.points = defaultdict(int)\n",
    "        \n",
    "    def add(self, point: List[int]) -> None:\n",
    "        self.points[tuple(point)] += 1  # update freq count of this point\n",
    "\n",
    "    def count(self, point: List[int]) -> int:\n",
    "        x0, y0 = point \n",
    "        count = 0\n",
    "        \n",
    "        for x1, y1 in self.points:\n",
    "            if abs(x1-x0) == abs(y1-y0) and x0!=x1 and (x0,y1) in self.points and (x1,y0) in self.points:\n",
    "                count += self.points[(x1, y1)] * self.points[(x0, y1)] * self.points[(x1, y0)]\n",
    "                \n",
    "        return count"
   ]
  }
 ],
 "metadata": {
  "kernelspec": {
   "display_name": "Python 3",
   "language": "python",
   "name": "python3"
  },
  "language_info": {
   "codemirror_mode": {
    "name": "ipython",
    "version": 3
   },
   "file_extension": ".py",
   "mimetype": "text/x-python",
   "name": "python",
   "nbconvert_exporter": "python",
   "pygments_lexer": "ipython3",
   "version": "3.7.3"
  }
 },
 "nbformat": 4,
 "nbformat_minor": 2
}
