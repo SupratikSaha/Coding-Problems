{
 "cells": [
  {
   "cell_type": "markdown",
   "metadata": {},
   "source": [
    "Problem Statement.\n",
    "\n",
    "Given an integer array nums which is sorted in ascending order and all of its elements are unique and given also an integer k, return the kth missing number starting from the leftmost number of the array.\n",
    "\n",
    " \n",
    "\n",
    "Example 1:\n",
    "\n",
    "Input: nums = [4,7,9,10], k = 1\n",
    "Output: 5\n",
    "Explanation: The first missing number is 5.\n",
    "\n",
    "Example 2:\n",
    "\n",
    "Input: nums = [4,7,9,10], k = 3\n",
    "Output: 8\n",
    "Explanation: The missing numbers are [5,6,8,...], hence the third missing number is 8.\n",
    "\n",
    "Example 3:\n",
    "\n",
    "Input: nums = [1,2,4], k = 3\n",
    "Output: 6\n",
    "Explanation: The missing numbers are [3,5,6,7,...], hence the third missing number is 6.\n",
    "\n",
    " \n",
    "\n",
    "Constraints:\n",
    "\n",
    "    1 <= nums.length <= 5 * 104\n",
    "    1 <= nums[i] <= 107\n",
    "    nums is sorted in ascending order, and all the elements are unique.\n",
    "    1 <= k <= 108\n",
    "\n",
    " \n",
    "Follow up: Can you find a logarithmic time complexity (i.e., O(log(n))) solution?"
   ]
  },
  {
   "cell_type": "markdown",
   "metadata": {},
   "source": [
    "# Linear - O(N) runtime, O(1) space"
   ]
  },
  {
   "cell_type": "code",
   "execution_count": 2,
   "metadata": {},
   "outputs": [],
   "source": [
    "from typing import List\n",
    "\n",
    "class Solution:\n",
    "    def missingElement(self, nums: List[int], k: int) -> int:\n",
    "        start, i = nums[0], 1\n",
    "        \n",
    "        while i < len(nums):\n",
    "            num = nums[i]\n",
    "            diff = num-start-1\n",
    "            \n",
    "            if k == diff: return num-1\n",
    "            if k < diff: return start + k\n",
    "            \n",
    "            k -= diff\n",
    "            start = num\n",
    "            i += 1\n",
    "            \n",
    "        return start+k"
   ]
  },
  {
   "cell_type": "markdown",
   "metadata": {},
   "source": [
    "# Faster Linear - O(N) runtime, O(1) space"
   ]
  },
  {
   "cell_type": "code",
   "execution_count": 4,
   "metadata": {},
   "outputs": [],
   "source": [
    "from typing import List\n",
    "\n",
    "class Solution:\n",
    "    def missingElement(self, nums: List[int], k: int) -> int:\n",
    "        # Return how many numbers are missing until nums[idx]\n",
    "        missing = lambda idx: nums[idx] - nums[0] - idx\n",
    "                \n",
    "        n = len(nums)\n",
    "        # If kth missing number is larger than \n",
    "        # the last element of the array\n",
    "        if k > missing(n - 1):\n",
    "            return nums[-1] + k - missing(n - 1) \n",
    "\n",
    "        idx = 1\n",
    "        # find idx such that \n",
    "        # missing(idx - 1) < k <= missing(idx)\n",
    "        while missing(idx) < k:\n",
    "            idx += 1\n",
    "\n",
    "        # kth missing number is greater than nums[idx - 1]\n",
    "        # and less than nums[idx]\n",
    "        return nums[idx - 1] + k - missing(idx - 1)"
   ]
  },
  {
   "cell_type": "markdown",
   "metadata": {},
   "source": [
    "# Binary Search - O(Log N) runtime, O(1) space"
   ]
  },
  {
   "cell_type": "code",
   "execution_count": 6,
   "metadata": {},
   "outputs": [],
   "source": [
    "from typing import List\n",
    "\n",
    "class Solution:\n",
    "    def missingElement(self, nums: List[int], k: int) -> int:\n",
    "        # Return how many numbers are missing until nums[idx]\n",
    "        missing = lambda idx: nums[idx] - nums[0] - idx\n",
    "            \n",
    "        n = len(nums)\n",
    "        # If kth missing number is larger than \n",
    "        # the last element of the array\n",
    "        if k > missing(n - 1):\n",
    "            return nums[-1] + k - missing(n - 1) \n",
    "        \n",
    "        left, right = 0, n - 1\n",
    "        # find left = right index such that \n",
    "        # missing(left - 1) < k <= missing(left)\n",
    "        while left != right:\n",
    "            pivot = left + (right - left) // 2\n",
    "            \n",
    "            if missing(pivot) < k:\n",
    "                left = pivot + 1\n",
    "            else:\n",
    "                right = pivot \n",
    "        \n",
    "        # kth missing number is greater than nums[left - 1]\n",
    "        # and less than nums[left]\n",
    "        return nums[left - 1] + k - missing(left - 1)"
   ]
  },
  {
   "cell_type": "code",
   "execution_count": 7,
   "metadata": {},
   "outputs": [
    {
     "data": {
      "text/plain": [
       "15"
      ]
     },
     "execution_count": 7,
     "metadata": {},
     "output_type": "execute_result"
    }
   ],
   "source": [
    "instance = Solution()\n",
    "instance.missingElement([4,7,9,10], 8)"
   ]
  }
 ],
 "metadata": {
  "kernelspec": {
   "display_name": "Python 3",
   "language": "python",
   "name": "python3"
  },
  "language_info": {
   "codemirror_mode": {
    "name": "ipython",
    "version": 3
   },
   "file_extension": ".py",
   "mimetype": "text/x-python",
   "name": "python",
   "nbconvert_exporter": "python",
   "pygments_lexer": "ipython3",
   "version": "3.7.3"
  }
 },
 "nbformat": 4,
 "nbformat_minor": 2
}
