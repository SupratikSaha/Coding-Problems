{
 "cells": [
  {
   "cell_type": "markdown",
   "metadata": {},
   "source": [
    "# Dynamic programming - Top down - O(S*n) run time, where S is the amount, n is denomination count and O(S) space"
   ]
  },
  {
   "cell_type": "code",
   "execution_count": null,
   "metadata": {},
   "outputs": [],
   "source": [
    "class Solution(object):\n",
    "    def coinChange(self, coins: List[int], amount: int) -> int:\n",
    "        if amount < 1:\n",
    "            return 0\n",
    "        return self.coinChange_helper(coins, amount, [0] * amount)\n",
    "\n",
    "    def coinChange_helper(self, coins: List[int], amount: int, count: List[int]):\n",
    "        if amount < 0:\n",
    "            return -1\n",
    "        elif amount == 0:\n",
    "            return 0\n",
    "        elif count[amount - 1] != 0:\n",
    "            return count[amount - 1]\n",
    "        \n",
    "        min_count = 1000000000\n",
    "        \n",
    "        for coin in coins:\n",
    "            res = self.coinChange_helper(coins, amount - coin, count)\n",
    "            if res >= 0 and res < min_count:\n",
    "                min_count = 1 + res\n",
    "                \n",
    "        if min_count == 1000000000:\n",
    "            count[amount - 1] = -1\n",
    "        else:\n",
    "            count[amount - 1] = min_count\n",
    "            \n",
    "        return count[amount - 1]"
   ]
  },
  {
   "cell_type": "markdown",
   "metadata": {},
   "source": [
    "# Dynamic programming - Bottom up - O(S*n) run time, where S is the amount, n is denomination count and O(S) space"
   ]
  },
  {
   "cell_type": "code",
   "execution_count": null,
   "metadata": {},
   "outputs": [],
   "source": [
    "class Solution(object):\n",
    "    def coinChange(self, coins: List[int], amount: int) -> int:\n",
    "        if amount == 0:\n",
    "            return 0\n",
    "        if coins is None or len(coins) == 0:\n",
    "            return -1\n",
    "        coins.sort()\n",
    "        dp = [1000000000] * (amount + 1)\n",
    "        for i in range(1, amount + 1):\n",
    "            for coin in coins:\n",
    "                if i == coin:\n",
    "                    dp[i] = 1\n",
    "                    break\n",
    "                elif i > coin:\n",
    "                    dp[i] = min(dp[i], dp[i - coin] + 1)\n",
    "        if dp[amount] == 1000000000:\n",
    "            return -1\n",
    "        return dp[amount]"
   ]
  }
 ],
 "metadata": {
  "kernelspec": {
   "display_name": "Python 3",
   "language": "python",
   "name": "python3"
  },
  "language_info": {
   "codemirror_mode": {
    "name": "ipython",
    "version": 3
   },
   "file_extension": ".py",
   "mimetype": "text/x-python",
   "name": "python",
   "nbconvert_exporter": "python",
   "pygments_lexer": "ipython3",
   "version": "3.7.3"
  }
 },
 "nbformat": 4,
 "nbformat_minor": 2
}
