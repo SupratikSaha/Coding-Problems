{
 "cells": [
  {
   "cell_type": "markdown",
   "metadata": {},
   "source": [
    "# Dynamic programming - Top down - O(n * S) run time, O(n * S) space, where S is the amount, n is denomination count "
   ]
  },
  {
   "cell_type": "code",
   "execution_count": 1,
   "metadata": {},
   "outputs": [],
   "source": [
    "from typing import List\n",
    "\n",
    "class Solution:\n",
    "    def coinChange(self, coins: List[int], amount: int) -> int:\n",
    "        dp = [[float('inf') for _ in range(amount + 1)] for _ in range(len(coins))]\n",
    "            \n",
    "        return self.coinChangeRecursive(dp, coins, amount, 0)\n",
    "    \n",
    "    def coinChangeRecursive(self, dp: List, coins: List[int], amount: int, index: int) -> int:\n",
    "        if amount < 0 or index == len(coins):\n",
    "            return -1\n",
    "        \n",
    "        if amount == 0:\n",
    "            return 0\n",
    "        \n",
    "        if dp[index][amount] == float('inf'):\n",
    "            with_denomination =  self.coinChangeRecursive(dp, coins, amount - coins[index], index)\n",
    "            without_denomination =  self.coinChangeRecursive(dp, coins, amount, index + 1)\n",
    "\n",
    "            if with_denomination == -1 and without_denomination == -1:\n",
    "                dp[index][amount] = -1\n",
    "            elif with_denomination == -1:\n",
    "                dp[index][amount] = without_denomination\n",
    "            elif without_denomination == -1:\n",
    "                dp[index][amount] = 1 + with_denomination\n",
    "            else:\n",
    "                dp[index][amount] = min(1 + with_denomination, without_denomination)\n",
    "                \n",
    "        \n",
    "        return dp[index][amount]"
   ]
  },
  {
   "cell_type": "markdown",
   "metadata": {},
   "source": [
    "# Dynamic programming - Top down - O(S*n) run time, where S is the amount, n is denomination count and O(S) space"
   ]
  },
  {
   "cell_type": "code",
   "execution_count": 2,
   "metadata": {},
   "outputs": [],
   "source": [
    "from typing import List\n",
    "\n",
    "class Solution(object):\n",
    "    def coinChange(self, coins: List[int], amount: int) -> int:\n",
    "        if amount < 1:\n",
    "            return 0\n",
    "        return self.coinChange_helper(coins, amount, [0] * amount)\n",
    "\n",
    "    def coinChange_helper(self, coins: List[int], amount: int, count: List[int]):\n",
    "        if amount < 0:\n",
    "            return -1\n",
    "        elif amount == 0:\n",
    "            return 0\n",
    "        elif count[amount - 1] != 0:\n",
    "            return count[amount - 1]\n",
    "        \n",
    "        min_count = 1000000000\n",
    "        \n",
    "        for coin in coins:\n",
    "            res = self.coinChange_helper(coins, amount - coin, count)\n",
    "            if res >= 0 and res < min_count:\n",
    "                min_count = 1 + res\n",
    "                \n",
    "        if min_count == 1000000000:\n",
    "            count[amount - 1] = -1\n",
    "        else:\n",
    "            count[amount - 1] = min_count\n",
    "            \n",
    "        return count[amount - 1]"
   ]
  },
  {
   "cell_type": "markdown",
   "metadata": {},
   "source": [
    "# Dynamic programming - Bottom up - O(S*n) run time, where S is the amount, n is denomination count and O(S) space"
   ]
  },
  {
   "cell_type": "code",
   "execution_count": 3,
   "metadata": {},
   "outputs": [],
   "source": [
    "class Solution:\n",
    "    def coinChange(self, coins: List[int], amount: int) -> int:\n",
    "        \n",
    "        if amount <= 0:\n",
    "            return 0\n",
    "        \n",
    "        if coins is None or len(coins) == 0:\n",
    "            return -1\n",
    "        \n",
    "        dp = [float('inf') for _ in range(amount + 1)]\n",
    "        dp[0] = 0\n",
    "        \n",
    "        for c in coins:\n",
    "            for s in range(c, amount + 1):\n",
    "                dp[s] = min(dp[s], dp[s - c] + 1)\n",
    "        return dp[amount] if dp[amount] != float('inf') else -1 "
   ]
  },
  {
   "cell_type": "code",
   "execution_count": 4,
   "metadata": {},
   "outputs": [
    {
     "data": {
      "text/plain": [
       "3"
      ]
     },
     "execution_count": 4,
     "metadata": {},
     "output_type": "execute_result"
    }
   ],
   "source": [
    "instance = Solution()\n",
    "instance.coinChange([1,2,5], 11)"
   ]
  }
 ],
 "metadata": {
  "kernelspec": {
   "display_name": "Python 3",
   "language": "python",
   "name": "python3"
  },
  "language_info": {
   "codemirror_mode": {
    "name": "ipython",
    "version": 3
   },
   "file_extension": ".py",
   "mimetype": "text/x-python",
   "name": "python",
   "nbconvert_exporter": "python",
   "pygments_lexer": "ipython3",
   "version": "3.7.3"
  }
 },
 "nbformat": 4,
 "nbformat_minor": 2
}
