{
 "cells": [
  {
   "cell_type": "markdown",
   "metadata": {},
   "source": [
    "Problem Statement.\n",
    "\n",
    "We are playing the Guessing Game. The game will work as follows:\n",
    "\n",
    "    I pick a number between 1 and n.\n",
    "    You guess a number.\n",
    "    If you guess the right number, you win the game.\n",
    "    If you guess the wrong number, then I will tell you whether the number I picked is higher or lower, and you will continue guessing.\n",
    "    Every time you guess a wrong number x, you will pay x dollars. If you run out of money, you lose the game.\n",
    "\n",
    "Given a particular n, return the minimum amount of money you need to guarantee a win regardless of what number I pick.\n",
    "\n",
    " \n",
    "\n",
    "Example 1:\n",
    "\n",
    "Input: n = 10\n",
    "Output: 16\n",
    "Explanation: The winning strategy is as follows:\n",
    "- The range is [1,10]. Guess 7.\n",
    "    - If this is my number, your total is $0. Otherwise, you pay $7.\n",
    "    - If my number is higher, the range is [8,10]. Guess 9.\n",
    "        - If this is my number, your total is $7. Otherwise, you pay $9.\n",
    "        - If my number is higher, it must be 10. Guess 10. Your total is $7 + $9 = $16.\n",
    "        - If my number is lower, it must be 8. Guess 8. Your total is $7 + $9 = $16.\n",
    "    - If my number is lower, the range is [1,6]. Guess 3.\n",
    "        - If this is my number, your total is $7. Otherwise, you pay $3.\n",
    "        - If my number is higher, the range is [4,6]. Guess 5.\n",
    "            - If this is my number, your total is $7 + $3 = $10. Otherwise, you pay $5.\n",
    "            - If my number is higher, it must be 6. Guess 6. Your total is $7 + $3 + $5 = $15.\n",
    "            - If my number is lower, it must be 4. Guess 4. Your total is $7 + $3 + $5 = $15.\n",
    "        - If my number is lower, the range is [1,2]. Guess 1.\n",
    "            - If this is my number, your total is $7 + $3 = $10. Otherwise, you pay $1.\n",
    "            - If my number is higher, it must be 2. Guess 2. Your total is $7 + $3 + $1 = $11.\n",
    "The worst case in all these scenarios is that you pay $16. Hence, you only need $16 to guarantee a win.\n",
    "\n",
    "Example 2:\n",
    "\n",
    "Input: n = 1\n",
    "Output: 0\n",
    "Explanation: There is only one possible number, so you can guess 1 and not have to pay anything.\n",
    "\n",
    "Example 3:\n",
    "\n",
    "Input: n = 2\n",
    "Output: 1\n",
    "Explanation: There are two possible numbers, 1 and 2.\n",
    "- Guess 1.\n",
    "    - If this is my number, your total is $0. Otherwise, you pay $1.\n",
    "    - If my number is higher, it must be 2. Guess 2. Your total is $1.\n",
    "The worst case is that you pay $1.\n",
    "\n",
    " \n",
    "\n",
    "Constraints:\n",
    "\n",
    "    1 <= n <= 200"
   ]
  },
  {
   "cell_type": "markdown",
   "metadata": {},
   "source": [
    "# Top Down DP - O(N ^ 3) runtime, O(N ^ 2) space"
   ]
  },
  {
   "cell_type": "code",
   "execution_count": 1,
   "metadata": {},
   "outputs": [],
   "source": [
    "from functools import lru_cache\n",
    "\n",
    "class Solution:\n",
    "    def getMoneyAmount(self, n: int) -> int:\n",
    "        \n",
    "        @lru_cache(maxsize=None)\n",
    "        def getMinAmount(l, r):\n",
    "            if l >= r: return 0\n",
    "            \n",
    "            minAmount = float('inf')\n",
    "            for mid in range(l, r+1):\n",
    "                curAmount = mid + max(getMinAmount(l, mid-1), getMinAmount(mid+1, r))\n",
    "                minAmount = min(minAmount, curAmount)\n",
    "                \n",
    "            return minAmount\n",
    "        \n",
    "        return getMinAmount(1, n)"
   ]
  },
  {
   "cell_type": "markdown",
   "metadata": {},
   "source": [
    "# Bottom Up DP - O(N ^ 3) runtime, O(N ^ 2) space"
   ]
  },
  {
   "cell_type": "code",
   "execution_count": 3,
   "metadata": {},
   "outputs": [],
   "source": [
    "class Solution:\n",
    "    def getMoneyAmount(self, n: int) -> int:\n",
    "        \n",
    "        need = [[0] * (n+1) for _ in range(n+1)]\n",
    "        for lo in range(n, 0, -1):\n",
    "            for hi in range(lo+1, n+1):\n",
    "                need[lo][hi] = min(x + max(need[lo][x-1], need[x+1][hi])\n",
    "                                   for x in range(lo, hi))\n",
    "        return need[1][n]"
   ]
  },
  {
   "cell_type": "code",
   "execution_count": 4,
   "metadata": {},
   "outputs": [
    {
     "data": {
      "text/plain": [
       "172"
      ]
     },
     "execution_count": 4,
     "metadata": {},
     "output_type": "execute_result"
    }
   ],
   "source": [
    "instance = Solution()\n",
    "instance.getMoneyAmount(50)"
   ]
  }
 ],
 "metadata": {
  "kernelspec": {
   "display_name": "Python 3",
   "language": "python",
   "name": "python3"
  },
  "language_info": {
   "codemirror_mode": {
    "name": "ipython",
    "version": 3
   },
   "file_extension": ".py",
   "mimetype": "text/x-python",
   "name": "python",
   "nbconvert_exporter": "python",
   "pygments_lexer": "ipython3",
   "version": "3.7.3"
  }
 },
 "nbformat": 4,
 "nbformat_minor": 2
}
