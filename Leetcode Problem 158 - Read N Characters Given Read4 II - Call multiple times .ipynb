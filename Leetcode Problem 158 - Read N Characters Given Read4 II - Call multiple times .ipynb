{
 "cells": [
  {
   "cell_type": "markdown",
   "metadata": {},
   "source": [
    "# O(n) runtime, O(1) space"
   ]
  },
  {
   "cell_type": "code",
   "execution_count": null,
   "metadata": {},
   "outputs": [],
   "source": [
    "# The read4 API is already defined for you.\n",
    "# @param buf, a list of characters\n",
    "# @return an integer\n",
    "# def read4(buf):\n",
    "\n",
    "class Solution:\n",
    "    def __init__(self):\n",
    "        self.queue = []\n",
    "\n",
    "    def read(self, buf, n):\n",
    "        idx = 0\n",
    "        while True:\n",
    "            buf4 = [\"\"]*4\n",
    "            l = read4(buf4)\n",
    "            self.queue.extend(buf4)\n",
    "            curr = min(len(self.queue), n-idx)\n",
    "            for i in range(curr):\n",
    "                buf[idx] = self.queue.pop(0)\n",
    "                idx+=1\n",
    "            if curr == 0:\n",
    "                break \n",
    "        return idx"
   ]
  }
 ],
 "metadata": {
  "kernelspec": {
   "display_name": "Python 3",
   "language": "python",
   "name": "python3"
  },
  "language_info": {
   "codemirror_mode": {
    "name": "ipython",
    "version": 3
   },
   "file_extension": ".py",
   "mimetype": "text/x-python",
   "name": "python",
   "nbconvert_exporter": "python",
   "pygments_lexer": "ipython3",
   "version": "3.7.3"
  }
 },
 "nbformat": 4,
 "nbformat_minor": 2
}
