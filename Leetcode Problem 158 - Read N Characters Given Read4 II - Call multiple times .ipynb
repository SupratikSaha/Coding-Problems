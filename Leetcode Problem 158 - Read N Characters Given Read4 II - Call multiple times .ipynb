{
 "cells": [
  {
   "cell_type": "markdown",
   "metadata": {},
   "source": [
    "# O(n) runtime, O(1) space"
   ]
  },
  {
   "cell_type": "code",
   "execution_count": null,
   "metadata": {},
   "outputs": [],
   "source": [
    "# The read4 API is already defined for you.\n",
    "# @param buf, a list of characters\n",
    "# @return an integer\n",
    "# def read4(buf):\n",
    "\n",
    "class Solution(object):\n",
    "    def __init__(self):\n",
    "        self.buffer = [''] * 4\n",
    "        self.offset = 0\n",
    "        self.bufsize = 0\n",
    "    def read(self, buf, n):\n",
    "        \"\"\"\n",
    "        :type buf: Destination buffer (List[str])\n",
    "        :type n: Maximum number of characters to read (int)\n",
    "        :rtype: The number of characters read (int)\n",
    "        \"\"\"\n",
    "        pos, eof = 0, False\n",
    "        while not eof and pos < n:\n",
    "            sz = self.bufsize if self.bufsize > 0 else read4(self.buffer)\n",
    "            if self.bufsize == 0 and sz < 4:\n",
    "                eof = True\n",
    "            byteLen = min(n - pos, sz)\n",
    "            buf[pos: pos + byteLen] = buffer[self.offset:byteLen]\n",
    "            self.offset = (self.offset + byteLen) % 4\n",
    "            self.bufsize = sz - byteLen\n",
    "            pos += byteLen\n",
    "        return pos"
   ]
  }
 ],
 "metadata": {
  "kernelspec": {
   "display_name": "Python 3",
   "language": "python",
   "name": "python3"
  },
  "language_info": {
   "codemirror_mode": {
    "name": "ipython",
    "version": 3
   },
   "file_extension": ".py",
   "mimetype": "text/x-python",
   "name": "python",
   "nbconvert_exporter": "python",
   "pygments_lexer": "ipython3",
   "version": "3.7.3"
  }
 },
 "nbformat": 4,
 "nbformat_minor": 2
}
