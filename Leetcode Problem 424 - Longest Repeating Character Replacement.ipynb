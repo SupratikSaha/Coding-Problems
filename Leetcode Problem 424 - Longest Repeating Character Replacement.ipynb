{
 "cells": [
  {
   "cell_type": "markdown",
   "metadata": {},
   "source": [
    "Problem Statement. <br/>\n",
    "\n",
    "Given a string s that consists of only uppercase English letters, you can perform at most k operations on that string. <br/>\n",
    "In one operation, you can choose any character of the string and change it to any other uppercase English character. <br/>\n",
    "Find the length of the longest sub-string containing all repeating letters you can get after performing the above operations. <br/>\n",
    "\n",
    "Note: <br/>\n",
    "Both the string's length and k will not exceed 104. <br/>\n",
    "\n",
    "Example 1: <br/>\n",
    "Input:\n",
    "s = \"ABAB\", k = 2 <br/>\n",
    "Output: 4 <br/>\n",
    "Explanation: Replace the two 'A's with two 'B's or vice versa. <br/>\n",
    "\n",
    "Example 2: <br/>\n",
    "Input: <br/>\n",
    "s = \"AABABBA\", k = 1 <br/>\n",
    "Output: 4 <br/>\n",
    "Explanation: Replace the one 'A' in the middle with 'B' and form \"AABBBBA\". <br/>\n",
    "The substring \"BBBB\" has the longest repeating letters, which is 4."
   ]
  },
  {
   "cell_type": "markdown",
   "metadata": {},
   "source": [
    "# Sliding Window - O(N) runtime, O(1) space"
   ]
  },
  {
   "cell_type": "code",
   "execution_count": 1,
   "metadata": {},
   "outputs": [],
   "source": [
    "class Solution:\n",
    "    def characterReplacement(self, s: str, k: int) -> int:\n",
    "        n = len(s)\n",
    "        count = [0]*26\n",
    "        start = max_count = max_len = 0\n",
    "        \n",
    "        for end in range(n):\n",
    "            \n",
    "            currentCharIndex = ord(s[end]) - ord('A')\n",
    "            count[currentCharIndex] += 1\n",
    "            max_count = max(max_count, count[currentCharIndex])\n",
    "            \n",
    "            if (end - start + 1) - max_count > k:\n",
    "                startCharIndex = ord(s[start]) - ord('A')\n",
    "                count[startCharIndex] -= 1\n",
    "                start += 1\n",
    "                \n",
    "            max_len = max(max_len, end - start + 1)\n",
    "            \n",
    "        return max_len"
   ]
  },
  {
   "cell_type": "code",
   "execution_count": 2,
   "metadata": {},
   "outputs": [
    {
     "data": {
      "text/plain": [
       "4"
      ]
     },
     "execution_count": 2,
     "metadata": {},
     "output_type": "execute_result"
    }
   ],
   "source": [
    "instance = Solution()\n",
    "instance.characterReplacement( \"AABABBA\", 1)"
   ]
  }
 ],
 "metadata": {
  "kernelspec": {
   "display_name": "Python 3",
   "language": "python",
   "name": "python3"
  },
  "language_info": {
   "codemirror_mode": {
    "name": "ipython",
    "version": 3
   },
   "file_extension": ".py",
   "mimetype": "text/x-python",
   "name": "python",
   "nbconvert_exporter": "python",
   "pygments_lexer": "ipython3",
   "version": "3.7.3"
  }
 },
 "nbformat": 4,
 "nbformat_minor": 2
}
