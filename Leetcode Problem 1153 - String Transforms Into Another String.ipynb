{
 "cells": [
  {
   "cell_type": "markdown",
   "metadata": {},
   "source": [
    "Problem Statement. <br/>\n",
    "\n",
    "Given two strings str1 and str2 of the same length, determine whether you can transform str1 into str2 by doing zero or more conversions. <br/>\n",
    "In one conversion you can convert all occurrences of one character in str1 to any other lowercase English character. <br/>\n",
    "Return true if and only if you can transform str1 into str2. <br/>\n",
    "\n",
    "Example 1: <br/>\n",
    "Input: str1 = \"aabcc\", str2 = \"ccdee\" <br/>\n",
    "Output: true <br/>\n",
    "Explanation: Convert 'c' to 'e' then 'b' to 'd' then 'a' to 'c'. Note that the order of conversions matter. <br/>\n",
    "\n",
    "Example 2: <br/>\n",
    "Input: str1 = \"leetcode\", str2 = \"codeleet\" <br/>\n",
    "Output: false <br/>\n",
    "Explanation: There is no way to transform str1 to str2."
   ]
  },
  {
   "cell_type": "markdown",
   "metadata": {},
   "source": [
    "# 2 Hash Maps - O(N) runtime, O(1) space"
   ]
  },
  {
   "cell_type": "code",
   "execution_count": 1,
   "metadata": {},
   "outputs": [],
   "source": [
    "from collections import Counter, defaultdict\n",
    "\n",
    "class Solution:\n",
    "    def canConvert(self, str1: str, str2: str) -> bool:\n",
    "        if str1 == str2:\n",
    "            return True\n",
    "        \n",
    "        charCounter = Counter(str2)\n",
    "        if len(charCounter) == 26:\n",
    "            return False\n",
    "        \n",
    "        charDict = defaultdict(list)\n",
    "        for i, char in enumerate(str1):\n",
    "            charDict[char].append(i)\n",
    "            \n",
    "        for indexes in charDict.values():\n",
    "            matchChar = str2[indexes[0]]\n",
    "            for i in range(1, len(indexes)):\n",
    "                if str2[indexes[i]] != matchChar:\n",
    "                    return False\n",
    "                \n",
    "        return True"
   ]
  },
  {
   "cell_type": "markdown",
   "metadata": {},
   "source": [
    "# 1 Hash Map - O(N) runtime, O(1) space"
   ]
  },
  {
   "cell_type": "code",
   "execution_count": 2,
   "metadata": {},
   "outputs": [],
   "source": [
    "class Solution:\n",
    "    def canConvert(self, str1: str, str2: str) -> bool:\n",
    "        if str1 == str2: return True\n",
    "        if len(set(str2)) == 26: return False\n",
    "        \n",
    "        dp = {}\n",
    "        for i, j in zip(str1, str2):\n",
    "            if dp.setdefault(i, j) != j:\n",
    "                return False\n",
    "        return True"
   ]
  },
  {
   "cell_type": "code",
   "execution_count": 3,
   "metadata": {},
   "outputs": [
    {
     "data": {
      "text/plain": [
       "True"
      ]
     },
     "execution_count": 3,
     "metadata": {},
     "output_type": "execute_result"
    }
   ],
   "source": [
    "instance = Solution()\n",
    "instance.canConvert(\"aabcc\", \"ccdee\")"
   ]
  }
 ],
 "metadata": {
  "kernelspec": {
   "display_name": "Python 3",
   "language": "python",
   "name": "python3"
  },
  "language_info": {
   "codemirror_mode": {
    "name": "ipython",
    "version": 3
   },
   "file_extension": ".py",
   "mimetype": "text/x-python",
   "name": "python",
   "nbconvert_exporter": "python",
   "pygments_lexer": "ipython3",
   "version": "3.7.3"
  }
 },
 "nbformat": 4,
 "nbformat_minor": 2
}
