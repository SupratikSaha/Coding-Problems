{
 "cells": [
  {
   "cell_type": "markdown",
   "metadata": {},
   "source": [
    "Problem Statement.\n",
    "\n",
    "There are a row of n houses, each house can be painted with one of the k colors. The cost of painting each house with a certain color is different. You have to paint all the houses such that no two adjacent houses have the same color.\n",
    "\n",
    "The cost of painting each house with a certain color is represented by an n x k cost matrix costs.\n",
    "\n",
    "    For example, costs[0][0] is the cost of painting house 0 with color 0; costs[1][2] is the cost of painting house 1 with color 2, and so on...\n",
    "\n",
    "Return the minimum cost to paint all houses.\n",
    "\n",
    " \n",
    "\n",
    "Example 1:\n",
    "\n",
    "Input: costs = [[1,5,3],[2,9,4]]\n",
    "Output: 5\n",
    "Explanation:\n",
    "Paint house 0 into color 0, paint house 1 into color 2. Minimum cost: 1 + 4 = 5; \n",
    "Or paint house 0 into color 2, paint house 1 into color 0. Minimum cost: 3 + 2 = 5.\n",
    "\n",
    "Example 2:\n",
    "\n",
    "Input: costs = [[1,3],[2,4]]\n",
    "Output: 5\n",
    "\n",
    " \n",
    "\n",
    "Constraints:\n",
    "\n",
    "    costs.length == n\n",
    "    costs[i].length == k\n",
    "    1 <= n <= 100\n",
    "    1 <= k <= 20\n",
    "    1 <= costs[i][j] <= 20\n",
    "\n",
    " \n",
    "\n",
    "Follow up: Could you solve it in O(nk) runtime?"
   ]
  },
  {
   "cell_type": "markdown",
   "metadata": {},
   "source": [
    "# To Down DP with Memoization - O(N * K ^ 2) runtime, O(N * K) space"
   ]
  },
  {
   "cell_type": "code",
   "execution_count": 1,
   "metadata": {},
   "outputs": [],
   "source": [
    "from typing import List\n",
    "from functools import lru_cache\n",
    "\n",
    "class Solution:\n",
    "    def minCostII(self, costs: List[List[int]]) -> int:\n",
    "        \n",
    "        @lru_cache(maxsize=None)\n",
    "        def getCost(house, prev):\n",
    "            if house == len(costs): return 0\n",
    "            \n",
    "            minCost = float('inf')\n",
    "            for color, cost in enumerate(costs[house]):\n",
    "                if color != prev:\n",
    "                    currCost = costs[house][color] + getCost(house+1, color)\n",
    "                    minCost = min(minCost, currCost)\n",
    "                    \n",
    "            return minCost\n",
    "            \n",
    "            \n",
    "        return getCost(0, -1)"
   ]
  },
  {
   "cell_type": "markdown",
   "metadata": {},
   "source": [
    "# Bottom Up DP - O(N * K ^ 2) runtime, O(1) space"
   ]
  },
  {
   "cell_type": "code",
   "execution_count": 3,
   "metadata": {},
   "outputs": [],
   "source": [
    "from typing import List\n",
    "\n",
    "class Solution:\n",
    "    def minCostII(self, costs: List[List[int]]) -> int:\n",
    "        \n",
    "        n = len(costs)\n",
    "        if n == 0: return 0\n",
    "        k = len(costs[0])\n",
    "\n",
    "        for house in range(1, n):\n",
    "            for color in range(k):\n",
    "                best = math.inf\n",
    "                for previous_color in range(k):\n",
    "                    if color == previous_color: continue\n",
    "                    best = min(best, costs[house - 1][previous_color])\n",
    "                costs[house_number][color] += best\n",
    "\n",
    "        return min(costs[-1])"
   ]
  },
  {
   "cell_type": "markdown",
   "metadata": {},
   "source": [
    "# Optimized DP - O(N * K) runtime, O(1) space"
   ]
  },
  {
   "cell_type": "code",
   "execution_count": 4,
   "metadata": {},
   "outputs": [],
   "source": [
    "from typing import List\n",
    "\n",
    "class Solution:\n",
    "    def minCostII(self, costs: List[List[int]]) -> int:\n",
    "        \n",
    "        n = len(costs)\n",
    "        if n == 0: return 0\n",
    "        k = len(costs[0])\n",
    "\n",
    "        for house in range(1, n):\n",
    "            # Find the colors with the minimum and second to minimum\n",
    "            # in the previous row.\n",
    "            min_color = second_min_color = None\n",
    "            for color in range(k):\n",
    "                cost = costs[house - 1][color]\n",
    "                if min_color is None or cost < costs[house - 1][min_color]:\n",
    "                    second_min_color = min_color\n",
    "                    min_color = color\n",
    "                elif second_min_color is None or cost < costs[house - 1][second_min_color]:\n",
    "                    second_min_color = color\n",
    "            # And now update the costs for the current row.\n",
    "            for color in range(k):\n",
    "                if color == min_color:\n",
    "                    costs[house][color] += costs[house - 1][second_min_color]\n",
    "                else:\n",
    "                    costs[house][color] += costs[house - 1][min_color]\n",
    "\n",
    "        #The answer will now be the minimum of the last row.\n",
    "        return min(costs[-1])"
   ]
  },
  {
   "cell_type": "markdown",
   "metadata": {},
   "source": [
    "# Optimized DP without modifying input - O(N * K) runtime, O(1) space"
   ]
  },
  {
   "cell_type": "code",
   "execution_count": 6,
   "metadata": {},
   "outputs": [],
   "source": [
    "from typing import List\n",
    "\n",
    "class Solution:\n",
    "    def minCostII(self, costs: List[List[int]]) -> int:\n",
    "        \n",
    "        n = len(costs)\n",
    "        if n == 0: return 0 # This is a valid case.\n",
    "        k = len(costs[0])\n",
    "\n",
    "        # Firstly, we need to determine the 2 lowest costs of\n",
    "        # the first row. We also need to remember the color of\n",
    "        # the lowest.\n",
    "        prev_min_cost = prev_second_min_cost = prev_min_color = None\n",
    "        for color, cost in enumerate(costs[0]):\n",
    "            if prev_min_cost is None or cost < prev_min_cost:\n",
    "                prev_second_min_cost = prev_min_cost\n",
    "                prev_min_color = color\n",
    "                prev_min_cost = cost\n",
    "            elif prev_second_min_cost is None or cost < prev_second_min_cost:\n",
    "                prev_second_min_cost = cost\n",
    "\n",
    "        # And now, we need to work our way down, keeping track of the minimums.\n",
    "        for house in range(1, n):\n",
    "            min_cost = second_min_cost = min_color = None\n",
    "            for color in range(k):\n",
    "                # Determime cost for this cell (without writing it into input array.)\n",
    "                cost = costs[house][color]\n",
    "                if color == prev_min_color:\n",
    "                    cost += prev_second_min_cost\n",
    "                else:\n",
    "                    cost += prev_min_cost\n",
    "                # And work out whether or not it is a current minimum.\n",
    "                if min_cost is None or cost < min_cost:\n",
    "                    second_min_cost = min_cost\n",
    "                    min_color = color\n",
    "                    min_cost = cost\n",
    "                elif second_min_cost is None or cost < second_min_cost:\n",
    "                    second_min_cost = cost\n",
    "            # Transfer currents to be prevs.\n",
    "            prev_min_cost = min_cost\n",
    "            prev_min_color = min_color\n",
    "            prev_second_min_cost = second_min_cost\n",
    "\n",
    "        return prev_min_cost"
   ]
  },
  {
   "cell_type": "code",
   "execution_count": 7,
   "metadata": {},
   "outputs": [
    {
     "data": {
      "text/plain": [
       "5"
      ]
     },
     "execution_count": 7,
     "metadata": {},
     "output_type": "execute_result"
    }
   ],
   "source": [
    "instance = Solution()\n",
    "instance.minCostII([[1,5,3],[2,9,4]])"
   ]
  }
 ],
 "metadata": {
  "kernelspec": {
   "display_name": "Python 3",
   "language": "python",
   "name": "python3"
  },
  "language_info": {
   "codemirror_mode": {
    "name": "ipython",
    "version": 3
   },
   "file_extension": ".py",
   "mimetype": "text/x-python",
   "name": "python",
   "nbconvert_exporter": "python",
   "pygments_lexer": "ipython3",
   "version": "3.7.3"
  }
 },
 "nbformat": 4,
 "nbformat_minor": 2
}
