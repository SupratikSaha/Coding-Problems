{
 "cells": [
  {
   "cell_type": "markdown",
   "metadata": {},
   "source": [
    "    Problem Statement.\n",
    "\n",
    "    Given a string s, return true if a permutation of the string could form a palindrome.\n",
    "\n",
    "\n",
    "\n",
    "    Example 1:\n",
    "\n",
    "    Input: s = \"code\"\n",
    "    Output: false\n",
    "\n",
    "    Example 2:\n",
    "\n",
    "    Input: s = \"aab\"\n",
    "    Output: true\n",
    "\n",
    "    Example 3:\n",
    "\n",
    "    Input: s = \"carerac\"\n",
    "    Output: true\n",
    "\n",
    "\n",
    "\n",
    "    Constraints:\n",
    "\n",
    "        1 <= s.length <= 5000\n",
    "        s consists of only lowercase English letters."
   ]
  },
  {
   "cell_type": "markdown",
   "metadata": {},
   "source": [
    "# Hash Table - O(N) runtime, O(N) space"
   ]
  },
  {
   "cell_type": "code",
   "execution_count": 3,
   "metadata": {},
   "outputs": [],
   "source": [
    "from collections import defaultdict\n",
    "\n",
    "class Solution:\n",
    "    def canPermutePalindrome(self, s: str) -> bool:\n",
    "        charDict = defaultdict(int)\n",
    "        odds = 0\n",
    "        \n",
    "        for char in s:\n",
    "            prev = charDict[char]\n",
    "            if not prev or prev % 2 == 0: odds += 1\n",
    "            if prev % 2 == 1: odds -= 1\n",
    "            charDict[char] += 1\n",
    "            \n",
    "        return odds == 0 or odds == 1"
   ]
  },
  {
   "cell_type": "code",
   "execution_count": 4,
   "metadata": {},
   "outputs": [
    {
     "data": {
      "text/plain": [
       "True"
      ]
     },
     "execution_count": 4,
     "metadata": {},
     "output_type": "execute_result"
    }
   ],
   "source": [
    "instance = Solution()\n",
    "instance.canPermutePalindrome(\"carerac\")"
   ]
  }
 ],
 "metadata": {
  "kernelspec": {
   "display_name": "Python 3",
   "language": "python",
   "name": "python3"
  },
  "language_info": {
   "codemirror_mode": {
    "name": "ipython",
    "version": 3
   },
   "file_extension": ".py",
   "mimetype": "text/x-python",
   "name": "python",
   "nbconvert_exporter": "python",
   "pygments_lexer": "ipython3",
   "version": "3.7.3"
  }
 },
 "nbformat": 4,
 "nbformat_minor": 2
}
