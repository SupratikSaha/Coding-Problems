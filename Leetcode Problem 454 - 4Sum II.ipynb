{
 "cells": [
  {
   "cell_type": "markdown",
   "metadata": {},
   "source": [
    "Problem Statement. <br/>\n",
    "\n",
    "Given four lists A, B, C, D of integer values, compute how many tuples (i, j, k, l) there are such that A[i] + B[j] + C[k] + D[l] is zero. <br/>\n",
    "To make problem a bit easier, all A, B, C, D have same length of N where 0 ≤ N ≤ 500. All integers are in the range of -228 to 228 - 1 and the result is guaranteed to be at most 231 - 1. <br/>\n",
    "\n",
    "Example: <br/>\n",
    "Input: <br/>\n",
    "A = [ 1, 2] <br/>\n",
    "B = [-2,-1] <br/>\n",
    "C = [-1, 2] <br/>\n",
    "D = [ 0, 2] <br/>\n",
    "\n",
    "Output: 2 <br/>\n",
    "\n",
    "Explanation: <br/>\n",
    "The two tuples are: <br/>\n",
    "1. (0, 0, 0, 1) -> A[0] + B[0] + C[0] + D[1] = 1 + (-2) + (-1) + 2 = 0 <br/>\n",
    "2. (1, 1, 0, 0) -> A[1] + B[1] + C[0] + D[0] = 2 + (-1) + (-1) + 0 = 0"
   ]
  },
  {
   "cell_type": "markdown",
   "metadata": {},
   "source": [
    "# 3 Loops & Binary Search- O(N ^ 3 * logN) runtime, O(1) space"
   ]
  },
  {
   "cell_type": "code",
   "execution_count": 24,
   "metadata": {},
   "outputs": [],
   "source": [
    "from typing import List\n",
    "\n",
    "class Solution:\n",
    "    def fourSumCount(self, A: List[int], B: List[int], C: List[int], D: List[int]) -> int:\n",
    "        A.sort()\n",
    "        B.sort()\n",
    "        C.sort()\n",
    "        D.sort()\n",
    "        res = 0\n",
    "\n",
    "        for i, a in enumerate(A):        \n",
    "            for j, b in enumerate(B):             \n",
    "                for k, c in enumerate(C):\n",
    "                    #print(res, a, b, c)\n",
    "                    check = -a - b -c\n",
    "                    l, r = 0, len(D) - 1\n",
    "                    found = False\n",
    "                    while l <= r:\n",
    "                        mid = l + (r - l) // 2\n",
    "                        if check == D[mid]:\n",
    "                            found = True\n",
    "                            res += 1\n",
    "                            break\n",
    "                        elif check < D[mid]:\n",
    "                            r = mid - 1\n",
    "                        else:\n",
    "                            l = mid + 1\n",
    "                    \n",
    "                    if found:\n",
    "                        midCopy = mid - 1\n",
    "                        while midCopy >= 0 and D[midCopy] == D[mid]:\n",
    "                            res += 1\n",
    "                            midCopy -= 1\n",
    "                        midCopy = mid + 1    \n",
    "                        while midCopy < len(D) and D[midCopy] == D[mid]:\n",
    "                            res += 1\n",
    "                            midCopy += 1\n",
    "                            \n",
    "        return res"
   ]
  },
  {
   "cell_type": "markdown",
   "metadata": {},
   "source": [
    "# Hashmap - O(N ^ 2) runtime, O(N ^ 2) space"
   ]
  },
  {
   "cell_type": "code",
   "execution_count": 26,
   "metadata": {},
   "outputs": [],
   "source": [
    "from typing import List\n",
    "\n",
    "class Solution:\n",
    "    def fourSumCount(self, A: List[int], B: List[int], C: List[int], D: List[int]) -> int:\n",
    "        cnt = 0\n",
    "        m = {}\n",
    "        for a in A:\n",
    "            for b in B:\n",
    "                m[a + b] = m.get(a + b, 0) + 1\n",
    "        for c in C:\n",
    "            for d in D:\n",
    "                cnt += m.get(-(c + d), 0)\n",
    "        return cnt"
   ]
  },
  {
   "cell_type": "markdown",
   "metadata": {},
   "source": [
    "# K Sum II - O(N ^ (k/2)) runtime, O(N ^ (k/2)) space"
   ]
  },
  {
   "cell_type": "code",
   "execution_count": 28,
   "metadata": {},
   "outputs": [],
   "source": [
    "from typing import List\n",
    "\n",
    "class Solution:\n",
    "    def fourSumCount(self, A: List[int], B: List[int], C: List[int], D: List[int]) -> int:\n",
    "        m = {}\n",
    "\n",
    "        def nSumCount(lists: List[List[int]]) -> int:\n",
    "            addToHash(lists, 0, 0)\n",
    "            return countComplements(lists, len(lists) // 2, 0)\n",
    "\n",
    "        def addToHash(lists: List[List[int]], i: int, sum: int) -> None:\n",
    "            if i == len(lists) // 2:\n",
    "                m[sum] = m.get(sum, 0) + 1\n",
    "            else:\n",
    "                for a in lists[i]:\n",
    "                    addToHash(lists, i + 1, sum + a)\n",
    "\n",
    "        def countComplements(lists: List[List[int]], i: int, complement: int) -> int:\n",
    "            if i == len(lists):\n",
    "                return m.get(complement, 0)\n",
    "            cnt = 0\n",
    "            for a in lists[i]:\n",
    "                cnt += countComplements(lists, i + 1, complement - a)\n",
    "            return cnt\n",
    "\n",
    "        return nSumCount([A, B, C, D])"
   ]
  },
  {
   "cell_type": "code",
   "execution_count": 29,
   "metadata": {},
   "outputs": [
    {
     "data": {
      "text/plain": [
       "2"
      ]
     },
     "execution_count": 29,
     "metadata": {},
     "output_type": "execute_result"
    }
   ],
   "source": [
    "instance = Solution()\n",
    "instance.fourSumCount([1,2], [-2,-1], [-1,2], [0,2])"
   ]
  }
 ],
 "metadata": {
  "kernelspec": {
   "display_name": "Python 3",
   "language": "python",
   "name": "python3"
  },
  "language_info": {
   "codemirror_mode": {
    "name": "ipython",
    "version": 3
   },
   "file_extension": ".py",
   "mimetype": "text/x-python",
   "name": "python",
   "nbconvert_exporter": "python",
   "pygments_lexer": "ipython3",
   "version": "3.7.3"
  }
 },
 "nbformat": 4,
 "nbformat_minor": 2
}
