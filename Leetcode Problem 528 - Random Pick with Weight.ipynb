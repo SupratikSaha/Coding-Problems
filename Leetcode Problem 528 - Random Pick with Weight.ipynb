{
 "cells": [
  {
   "cell_type": "markdown",
   "metadata": {},
   "source": [
    "Problem Statement. <br/>\n",
    "\n",
    "You are given an array of positive integers w where w[i] describes the weight of ith index (0-indexed). <br/>\n",
    "We need to call the function pickIndex() which randomly returns an integer in the range [0, w.length - 1]. pickIndex() should return the integer proportional to its weight in the w array. For example, for w = [1, 3], the probability of picking the index 0 is 1 / (1 + 3) = 0.25 (i.e 25%) while the probability of picking the index 1 is 3 / (1 + 3) = 0.75 (i.e 75%). <br/>\n",
    "More formally, the probability of picking index i is w[i] / sum(w). <br/>\n",
    "\n",
    "Example 1: <br/>\n",
    "Input:\n",
    "[\"Solution\",\"pickIndex\"] <br/>\n",
    "[[[1]],[]] <br/>\n",
    "Output: <br/>\n",
    "[null,0] <br/>\n",
    "\n",
    "Explanation: <br/>\n",
    "Solution solution = new Solution([1]); <br/>\n",
    "solution.pickIndex(); // return 0. Since there is only one single element on the array the only option is to return the first element. <br/>\n",
    "\n",
    "Example 2: <br/>\n",
    "Input <br/>\n",
    "[\"Solution\",\"pickIndex\",\"pickIndex\",\"pickIndex\",\"pickIndex\",\"pickIndex\"] <br/>\n",
    "[[[1,3]],[],[],[],[],[]] <br/>\n",
    "Output <br/>\n",
    "[null,1,1,1,1,0] <br/>\n",
    "\n",
    "Explanation <br/>\n",
    "Solution solution = new Solution([1, 3]); <br/>\n",
    "solution.pickIndex(); // return 1. It's returning the second element (index = 1) that has probability of 3/4. <br/>\n",
    "solution.pickIndex(); // return 1 <br/>\n",
    "solution.pickIndex(); // return 1 <br/>\n",
    "solution.pickIndex(); // return 1 <br/>\n",
    "solution.pickIndex(); // return 0. It's returning the first element (index = 0) that has probability of 1/4. <br/>\n",
    "\n",
    "Since this is a randomization problem, multiple answers are allowed so the following outputs can be considered correct : <br/>\n",
    "[null,1,1,1,1,0] <br/>\n",
    "[null,1,1,1,1,1] <br/>\n",
    "[null,1,1,1,0,0] <br/>\n",
    "[null,1,1,1,0,1] <br/>\n",
    "[null,1,0,1,0,0]\n",
    "...... <br/>\n",
    "and so on."
   ]
  },
  {
   "cell_type": "markdown",
   "metadata": {},
   "source": [
    "# Binary Search - O(N) init, O(log N) pickIndex runtime, O(N) space"
   ]
  },
  {
   "cell_type": "code",
   "execution_count": 1,
   "metadata": {},
   "outputs": [],
   "source": [
    "from typing import List\n",
    "from random import random\n",
    "\n",
    "class Solution:\n",
    "\n",
    "    def __init__(self, w: List[int]):\n",
    "        sumval = 0\n",
    "        for i, val in enumerate(w):\n",
    "            sumval += w[i]\n",
    "            w[i] = sumval\n",
    "            \n",
    "        self.w = w\n",
    "        self.high = len(w) - 1\n",
    "        #print(self.w, self.high)\n",
    "        \n",
    "\n",
    "    def pickIndex(self) -> int:\n",
    "        pick = self.w[-1] * random()\n",
    "        #print(pick)\n",
    "        low, high = 0, self.high\n",
    "        while low < high:\n",
    "            mid = low + (high - low) // 2\n",
    "            if self.w[mid] == pick:\n",
    "                return mid\n",
    "            elif self.w[mid] > pick:\n",
    "                high = mid\n",
    "            else:\n",
    "                low = mid + 1\n",
    "                \n",
    "        return low"
   ]
  },
  {
   "cell_type": "code",
   "execution_count": 2,
   "metadata": {},
   "outputs": [
    {
     "name": "stdout",
     "output_type": "stream",
     "text": [
      "2\n",
      "0\n",
      "3\n",
      "0\n",
      "1\n",
      "3\n"
     ]
    }
   ],
   "source": [
    "instance = Solution([3,14,1,17])\n",
    "print(instance.pickIndex())\n",
    "print(instance.pickIndex())\n",
    "print(instance.pickIndex())\n",
    "print(instance.pickIndex())\n",
    "print(instance.pickIndex())\n",
    "print(instance.pickIndex())"
   ]
  }
 ],
 "metadata": {
  "kernelspec": {
   "display_name": "Python 3",
   "language": "python",
   "name": "python3"
  },
  "language_info": {
   "codemirror_mode": {
    "name": "ipython",
    "version": 3
   },
   "file_extension": ".py",
   "mimetype": "text/x-python",
   "name": "python",
   "nbconvert_exporter": "python",
   "pygments_lexer": "ipython3",
   "version": "3.7.3"
  }
 },
 "nbformat": 4,
 "nbformat_minor": 2
}
