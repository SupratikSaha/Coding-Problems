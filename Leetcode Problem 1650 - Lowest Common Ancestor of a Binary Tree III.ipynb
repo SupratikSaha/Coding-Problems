{
 "cells": [
  {
   "cell_type": "markdown",
   "metadata": {},
   "source": [
    "    Problem Statement.\n",
    "\n",
    "    Given two nodes of a binary tree p and q, return their lowest common ancestor (LCA).\n",
    "\n",
    "    Each node will have a reference to its parent node. The definition for Node is below:\n",
    "\n",
    "    class Node {\n",
    "        public int val;\n",
    "        public Node left;\n",
    "        public Node right;\n",
    "        public Node parent;\n",
    "    }\n",
    "\n",
    "    According to the definition of LCA on Wikipedia: \"The lowest common ancestor of two nodes p and q in a tree T is the lowest node that has both p and q as descendants (where we allow a node to be a descendant of itself).\"\n",
    "\n",
    "\n",
    "\n",
    "    Example 1:\n",
    "\n",
    "    Input: root = [3,5,1,6,2,0,8,null,null,7,4], p = 5, q = 1\n",
    "    Output: 3\n",
    "    Explanation: The LCA of nodes 5 and 1 is 3.\n",
    "\n",
    "    Example 2:\n",
    "\n",
    "    Input: root = [3,5,1,6,2,0,8,null,null,7,4], p = 5, q = 4\n",
    "    Output: 5\n",
    "    Explanation: The LCA of nodes 5 and 4 is 5 since a node can be a descendant of itself according to the LCA definition.\n",
    "\n",
    "    Example 3:\n",
    "\n",
    "    Input: root = [1,2], p = 1, q = 2\n",
    "    Output: 1\n",
    "\n",
    "\n",
    "\n",
    "    Constraints:\n",
    "\n",
    "        The number of nodes in the tree is in the range [2, 105].\n",
    "        -109 <= Node.val <= 109\n",
    "        All Node.val are unique.\n",
    "        p != q\n",
    "        p and q exist in the tree."
   ]
  },
  {
   "cell_type": "markdown",
   "metadata": {},
   "source": [
    "# Hash Set - O(P + Q) runtime, O(P) space"
   ]
  },
  {
   "cell_type": "code",
   "execution_count": 1,
   "metadata": {},
   "outputs": [],
   "source": [
    "# Definition for a Node.\n",
    "# class Node:\n",
    "#     def __init__(self, val):\n",
    "#         self.val = val\n",
    "#         self.left = None\n",
    "#         self.right = None\n",
    "#         self.parent = None\n",
    "\n",
    "\n",
    "class Solution:\n",
    "    def lowestCommonAncestor(self, p: 'Node', q: 'Node') -> 'Node':\n",
    "        p_set = set()\n",
    "\n",
    "        while p:\n",
    "            p_set.add(p)\n",
    "            p = p.parent\n",
    "            \n",
    "        while q:\n",
    "            if q in p_set: return q\n",
    "            q = q.parent"
   ]
  },
  {
   "cell_type": "markdown",
   "metadata": {},
   "source": [
    "# Hash Set - O(P + Q) runtime, O(1) space"
   ]
  },
  {
   "cell_type": "code",
   "execution_count": 3,
   "metadata": {},
   "outputs": [],
   "source": [
    "#Definition for a Node.\n",
    "# class Node:\n",
    "#     def __init__(self, val):\n",
    "#         self.val = val\n",
    "#         self.left = None\n",
    "#         self.right = None\n",
    "#         self.parent = None\n",
    "\n",
    "class Solution:\n",
    "    def lowestCommonAncestor(self, p: 'Node', q: 'Node') -> 'Node':\n",
    "        p1, p2 = p, q\n",
    "        while p1 != p2:\n",
    "            p1 = p1.parent if p1.parent else q\n",
    "            p2 = p2.parent if p2.parent else p\n",
    "            \n",
    "        return p1"
   ]
  }
 ],
 "metadata": {
  "kernelspec": {
   "display_name": "Python 3",
   "language": "python",
   "name": "python3"
  },
  "language_info": {
   "codemirror_mode": {
    "name": "ipython",
    "version": 3
   },
   "file_extension": ".py",
   "mimetype": "text/x-python",
   "name": "python",
   "nbconvert_exporter": "python",
   "pygments_lexer": "ipython3",
   "version": "3.7.3"
  }
 },
 "nbformat": 4,
 "nbformat_minor": 2
}
