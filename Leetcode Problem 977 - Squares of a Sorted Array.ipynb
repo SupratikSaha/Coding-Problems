{
 "cells": [
  {
   "cell_type": "markdown",
   "metadata": {},
   "source": [
    "Problem Statement.\n",
    "\n",
    "Given an integer array nums sorted in non-decreasing order, return an array of the squares of each number sorted in non-decreasing order.\n",
    "\n",
    " \n",
    "\n",
    "Example 1:\n",
    "\n",
    "Input: nums = [-4,-1,0,3,10]\n",
    "Output: [0,1,9,16,100]\n",
    "Explanation: After squaring, the array becomes [16,1,0,9,100].\n",
    "After sorting, it becomes [0,1,9,16,100].\n",
    "\n",
    "Example 2:\n",
    "\n",
    "Input: nums = [-7,-3,2,3,11]\n",
    "Output: [4,9,9,49,121]\n",
    "\n",
    " \n",
    "\n",
    "Constraints:\n",
    "\n",
    "    1 <= nums.length <= 10^4\n",
    "    -10^4 <= nums[i] <= 10^4\n",
    "    nums is sorted in non-decreasing order.\n",
    "\n",
    " \n",
    "Follow up: Squaring each element and sorting the new array is very trivial, could you find an O(n) solution using a different approach?"
   ]
  },
  {
   "cell_type": "markdown",
   "metadata": {},
   "source": [
    "# Two Pointers - O(N) runtime, O(N) space"
   ]
  },
  {
   "cell_type": "code",
   "execution_count": 1,
   "metadata": {},
   "outputs": [],
   "source": [
    "from typing import List\n",
    "\n",
    "class Solution:\n",
    "    def sortedSquares(self, nums: List[int]) -> List[int]:\n",
    "        \n",
    "        for i, num in enumerate(nums):\n",
    "            if num >= 0: break\n",
    "        \n",
    "        j, n = i-1, len(nums)\n",
    "        \n",
    "        result = []\n",
    "        while i < n or j >= 0:\n",
    "            postiveSquared = nums[i] ** 2 if i < n else float('inf')\n",
    "            negativeSquared = nums[j] ** 2 if j >= 0 else float('inf')\n",
    "            \n",
    "            if postiveSquared <= negativeSquared:\n",
    "                result.append(postiveSquared)\n",
    "                i += 1\n",
    "            else:\n",
    "                result.append(negativeSquared)\n",
    "                j -= 1\n",
    "                \n",
    "        return result"
   ]
  },
  {
   "cell_type": "markdown",
   "metadata": {},
   "source": [
    "# Faster Two Pointers - O(N) runtime, O(N) space"
   ]
  },
  {
   "cell_type": "code",
   "execution_count": 3,
   "metadata": {},
   "outputs": [],
   "source": [
    "from typing import List\n",
    "\n",
    "class Solution:\n",
    "    def sortedSquares(self, nums: List[int]) -> List[int]:\n",
    "        n = len(nums)\n",
    "        result = [0] * n\n",
    "        left, right = 0, n - 1\n",
    "        \n",
    "        for i in range(n - 1, -1, -1):\n",
    "            if abs(nums[left]) < abs(nums[right]):\n",
    "                square = nums[right]\n",
    "                right -= 1\n",
    "            else:\n",
    "                square = nums[left]\n",
    "                left += 1\n",
    "            result[i] = square * square\n",
    "            \n",
    "        return result"
   ]
  },
  {
   "cell_type": "code",
   "execution_count": 4,
   "metadata": {},
   "outputs": [
    {
     "data": {
      "text/plain": [
       "[4, 9, 9, 49, 121]"
      ]
     },
     "execution_count": 4,
     "metadata": {},
     "output_type": "execute_result"
    }
   ],
   "source": [
    "instance = Solution()\n",
    "instance.sortedSquares([-7,-3,2,3,11])"
   ]
  }
 ],
 "metadata": {
  "kernelspec": {
   "display_name": "Python 3",
   "language": "python",
   "name": "python3"
  },
  "language_info": {
   "codemirror_mode": {
    "name": "ipython",
    "version": 3
   },
   "file_extension": ".py",
   "mimetype": "text/x-python",
   "name": "python",
   "nbconvert_exporter": "python",
   "pygments_lexer": "ipython3",
   "version": "3.7.3"
  }
 },
 "nbformat": 4,
 "nbformat_minor": 2
}
