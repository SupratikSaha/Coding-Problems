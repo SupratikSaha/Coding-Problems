{
 "cells": [
  {
   "cell_type": "markdown",
   "metadata": {},
   "source": [
    "Problem Statement.\n",
    "\n",
    "You are given the string croakOfFrogs, which represents a combination of the string \"croak\" from different frogs, that is, multiple frogs can croak at the same time, so multiple \"croak\" are mixed.\n",
    "\n",
    "Return the minimum number of different frogs to finish all the croaks in the given string.\n",
    "\n",
    "A valid \"croak\" means a frog is printing five letters 'c', 'r', 'o', 'a', and 'k' sequentially. The frogs have to print all five letters to finish a croak. If the given string is not a combination of a valid \"croak\" return -1.\n",
    "\n",
    " \n",
    "\n",
    "Example 1:\n",
    "\n",
    "Input: croakOfFrogs = \"croakcroak\"\n",
    "Output: 1 \n",
    "Explanation: One frog yelling \"croak\" twice.\n",
    "\n",
    "Example 2:\n",
    "\n",
    "Input: croakOfFrogs = \"crcoakroak\"\n",
    "Output: 2 \n",
    "Explanation: The minimum number of frogs is two. \n",
    "The first frog could yell \"crcoakroak\".\n",
    "The second frog could yell later \"crcoakroak\".\n",
    "\n",
    "Example 3:\n",
    "\n",
    "Input: croakOfFrogs = \"croakcrook\"\n",
    "Output: -1\n",
    "Explanation: The given string is an invalid combination of \"croak\" from different frogs.\n",
    "\n",
    " \n",
    "\n",
    "Constraints:\n",
    "\n",
    "    1 <= croakOfFrogs.length <= 105\n",
    "    croakOfFrogs is either 'c', 'r', 'o', 'a', or 'k'."
   ]
  },
  {
   "cell_type": "markdown",
   "metadata": {},
   "source": [
    "# HashMap - O(N) runtime, O(1) space"
   ]
  },
  {
   "cell_type": "code",
   "execution_count": 2,
   "metadata": {},
   "outputs": [],
   "source": [
    "class Solution:\n",
    "    def minNumberOfFrogs(self, croakOfFrogs: str) -> int:\n",
    "        res = 0\n",
    "        counter = {'c': 0, 'r': 0, 'o': 0, 'a': 0, 'k': 0}\n",
    "        prevDict = {'r': 'c', 'o': 'r', 'a':'o', 'k': 'a'}\n",
    "        maxVal = 0\n",
    "        \n",
    "        for c in croakOfFrogs:\n",
    "            if c in prevDict and counter[prevDict[c]] <= counter[c]: return -1\n",
    "            counter[c] += 1\n",
    "            maxVal = max(maxVal, counter[c])\n",
    "            if counter: \n",
    "                res = max(res, maxVal)\n",
    "                if min(counter.values()) == 1:\n",
    "                    counter = {k: v-1 for k, v in counter.items()}\n",
    "                    \n",
    "        return res if all(v == 0 for v in counter.values()) else -1"
   ]
  },
  {
   "cell_type": "markdown",
   "metadata": {},
   "source": [
    "# Faster HashMap - O(N) runtime, O(1) space"
   ]
  },
  {
   "cell_type": "code",
   "execution_count": 4,
   "metadata": {},
   "outputs": [],
   "source": [
    "class Solution:\n",
    "    def minNumberOfFrogs(self, croakOfFrogs: str) -> int:\n",
    "        res = 0\n",
    "        counter = {'c': 0, 'r': 0, 'o': 0, 'a': 0, 'k': 0}\n",
    "        prevDict = {'r': 'c', 'o': 'r', 'a':'o', 'k': 'a'}\n",
    "        \n",
    "        for char in croakOfFrogs:\n",
    "            if char in prevDict and counter[prevDict[char]] <= counter[char]: return -1\n",
    "            counter[char] += 1\n",
    "            if char == 'c': res = max(res, counter['c'] - counter['k'])\n",
    "\n",
    "        return res if counter['c'] == counter['k'] else -1"
   ]
  },
  {
   "cell_type": "code",
   "execution_count": 5,
   "metadata": {},
   "outputs": [
    {
     "data": {
      "text/plain": [
       "2"
      ]
     },
     "execution_count": 5,
     "metadata": {},
     "output_type": "execute_result"
    }
   ],
   "source": [
    "instance = Solution()\n",
    "instance.minNumberOfFrogs( \"crcoakroak\")"
   ]
  }
 ],
 "metadata": {
  "kernelspec": {
   "display_name": "Python 3",
   "language": "python",
   "name": "python3"
  },
  "language_info": {
   "codemirror_mode": {
    "name": "ipython",
    "version": 3
   },
   "file_extension": ".py",
   "mimetype": "text/x-python",
   "name": "python",
   "nbconvert_exporter": "python",
   "pygments_lexer": "ipython3",
   "version": "3.7.3"
  }
 },
 "nbformat": 4,
 "nbformat_minor": 2
}
