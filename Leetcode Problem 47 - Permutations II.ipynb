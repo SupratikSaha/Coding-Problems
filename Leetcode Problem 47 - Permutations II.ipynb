{
 "cells": [
  {
   "cell_type": "markdown",
   "metadata": {},
   "source": [
    "Given a colle]on of numbers that might contain duplicates, return all possible unique permutations.\n",
    "\n",
    "Example:\n",
    "\n",
    "Input: [1,1,2]\n",
    "Output:\n",
    "[\n",
    "  [1,1,2],\n",
    "  [1,2,1],\n",
    "  [2,1,1]\n",
    "]"
   ]
  },
  {
   "cell_type": "markdown",
   "metadata": {},
   "source": [
    "# Brute Force : O(n * (2 ^ n) ) runtime, O(n * (2 ^ n) ) space"
   ]
  },
  {
   "cell_type": "code",
   "execution_count": 6,
   "metadata": {},
   "outputs": [],
   "source": [
    "from typing import List\n",
    "\n",
    "class Solution:\n",
    "    \n",
    "    def __init__(self):\n",
    "        self.res = []\n",
    "        \n",
    "    def permuteUnique(self, nums: List[int]) -> List[List[int]]:\n",
    "        self.permute_all([], nums)\n",
    "        return self.res\n",
    "        \n",
    "    def permute_all(self, curr_list: List[int], nums: List[int]) -> None:\n",
    "        if len(nums) == 0 and curr_list not in self.res:\n",
    "            self.res.append(list(curr_list))\n",
    "        \n",
    "        for i, num in enumerate(nums):\n",
    "            nums_copy = nums[:]\n",
    "            nums_copy.pop(i)\n",
    "            curr_list.append(num)\n",
    "            self.permute_all(curr_list, nums_copy)\n",
    "            curr_list.pop()"
   ]
  },
  {
   "cell_type": "markdown",
   "metadata": {},
   "source": [
    "# Backtracking DFS - O(n!) runtime, O(n!) space"
   ]
  },
  {
   "cell_type": "code",
   "execution_count": 18,
   "metadata": {},
   "outputs": [],
   "source": [
    "from typing import List\n",
    "\n",
    "class Solution:\n",
    "\n",
    "    def permuteUnique(self, nums: List[int]) -> List[List[int]]:\n",
    "        n = len(nums)\n",
    "        res = []\n",
    "        def dfs(nums, l):\n",
    "            if l == n-1:\n",
    "                res.append(list(nums))\n",
    "                return \n",
    "            for i in set(nums[l:]):\n",
    "                remaining = nums[l:]\n",
    "                remaining.remove(i)\n",
    "                dfs(nums[:l] + [i] + remaining, l+1)\n",
    "        dfs(nums, 0)\n",
    "        return res"
   ]
  },
  {
   "cell_type": "code",
   "execution_count": 19,
   "metadata": {},
   "outputs": [
    {
     "data": {
      "text/plain": [
       "[[1, 1, 2], [1, 2, 1], [2, 1, 1]]"
      ]
     },
     "execution_count": 19,
     "metadata": {},
     "output_type": "execute_result"
    }
   ],
   "source": [
    "instance = Solution()\n",
    "instance.permuteUnique([1, 1, 2])"
   ]
  }
 ],
 "metadata": {
  "kernelspec": {
   "display_name": "Python 3",
   "language": "python",
   "name": "python3"
  },
  "language_info": {
   "codemirror_mode": {
    "name": "ipython",
    "version": 3
   },
   "file_extension": ".py",
   "mimetype": "text/x-python",
   "name": "python",
   "nbconvert_exporter": "python",
   "pygments_lexer": "ipython3",
   "version": "3.7.3"
  }
 },
 "nbformat": 4,
 "nbformat_minor": 2
}
