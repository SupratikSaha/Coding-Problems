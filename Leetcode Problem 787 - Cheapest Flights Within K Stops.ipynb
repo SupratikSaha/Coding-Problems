{
 "cells": [
  {
   "cell_type": "markdown",
   "metadata": {},
   "source": [
    "Problem Statement.\n",
    "\n",
    "There are n cities connected by some number of flights. You are given an array flights where flights[i] = [fromi, toi, pricei] indicates that there is a flight from city fromi to city toi with cost pricei.\n",
    "\n",
    "You are also given three integers src, dst, and k, return the cheapest price from src to dst with at most k stops. If there is no such route, return -1.\n",
    "\n",
    " \n",
    "\n",
    "Example 1:\n",
    "\n",
    "Input: n = 3, flights = [[0,1,100],[1,2,100],[0,2,500]], src = 0, dst = 2, k = 1\n",
    "Output: 200\n",
    "Explanation: The graph is shown.\n",
    "The cheapest price from city 0 to city 2 with at most 1 stop costs 200, as marked red in the picture.\n",
    "\n",
    "Example 2:\n",
    "\n",
    "Input: n = 3, flights = [[0,1,100],[1,2,100],[0,2,500]], src = 0, dst = 2, k = 0\n",
    "Output: 500\n",
    "Explanation: The graph is shown.\n",
    "The cheapest price from city 0 to city 2 with at most 0 stop costs 500, as marked blue in the picture.\n",
    "\n",
    " \n",
    "\n",
    "Constraints:\n",
    "\n",
    "    1 <= n <= 100\n",
    "    0 <= flights.length <= (n * (n - 1) / 2)\n",
    "    flights[i].length == 3\n",
    "    0 <= fromi, toi < n\n",
    "    fromi != toi\n",
    "    1 <= pricei <= 104\n",
    "    There will not be any multiple flights between two cities.\n",
    "    0 <= src, dst, k < n\n",
    "    src != dst"
   ]
  },
  {
   "cell_type": "markdown",
   "metadata": {},
   "source": [
    "# Deque and deafultdict - O(E) runtime, O(V + E) space"
   ]
  },
  {
   "cell_type": "code",
   "execution_count": 3,
   "metadata": {},
   "outputs": [],
   "source": [
    "from typing import List\n",
    "from collections import deque, defaultdict\n",
    "\n",
    "class Solution:\n",
    "    def findCheapestPrice(self, n: int, flights: List[List[int]], src: int, dst: int, k: int) -> int:\n",
    "        flightsDict = defaultdict(list)\n",
    "        \n",
    "        for s, d, c in flights:\n",
    "            flightsDict[s].append((d, c))\n",
    "            \n",
    "        queue = deque([(src, 0, -1)])\n",
    "        visited = defaultdict(int)\n",
    "        visited[src] = 0\n",
    "        minCost = float('inf')\n",
    "        \n",
    "        while queue:\n",
    "            city, cost, stops = queue.popleft()\n",
    "            if city == dst:\n",
    "                minCost = min(minCost, cost)\n",
    "            \n",
    "            for d, c in flightsDict[city]:\n",
    "                if stops+1 <= k and (d not in visited or visited[d] > cost+c):\n",
    "                    queue.append((d, cost+c, stops+1))\n",
    "                    visited[d] = cost + c\n",
    "                \n",
    "        return minCost if minCost != float('inf') else -1"
   ]
  },
  {
   "cell_type": "code",
   "execution_count": 4,
   "metadata": {},
   "outputs": [
    {
     "data": {
      "text/plain": [
       "500"
      ]
     },
     "execution_count": 4,
     "metadata": {},
     "output_type": "execute_result"
    }
   ],
   "source": [
    "instance = Solution()\n",
    "instance.findCheapestPrice(3, [[0,1,100],[1,2,100],[0,2,500]], 0, 2, 0)"
   ]
  }
 ],
 "metadata": {
  "kernelspec": {
   "display_name": "Python 3",
   "language": "python",
   "name": "python3"
  },
  "language_info": {
   "codemirror_mode": {
    "name": "ipython",
    "version": 3
   },
   "file_extension": ".py",
   "mimetype": "text/x-python",
   "name": "python",
   "nbconvert_exporter": "python",
   "pygments_lexer": "ipython3",
   "version": "3.7.3"
  }
 },
 "nbformat": 4,
 "nbformat_minor": 2
}
