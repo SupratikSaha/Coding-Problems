{
 "cells": [
  {
   "cell_type": "markdown",
   "metadata": {},
   "source": [
    "A message containing letters from A-Z is being encoded to numbers using the following mapping:\n",
    "\n",
    "'A' -> 1\n",
    "'B' -> 2\n",
    "...\n",
    "'Z' -> 26\n",
    "\n",
    "Given a non-empty string containing only digits, determine the total number of ways to decode it.\n",
    "\n",
    "Example 1:\n",
    "\n",
    "Input: \"12\"\n",
    "Output: 2\n",
    "Explanation: It could be decoded as \"AB\" (1 2) or \"L\" (12).\n",
    "\n",
    "Example 2:\n",
    "\n",
    "Input: \"226\"\n",
    "Output: 3\n",
    "Explanation: It could be decoded as \"BZ\" (2 26), \"VF\" (22 6), or \"BBF\" (2 2 6)."
   ]
  },
  {
   "cell_type": "markdown",
   "metadata": {},
   "source": [
    "# Recursive Approach with Memoization - O(n) runtime, O(n) space"
   ]
  },
  {
   "cell_type": "code",
   "execution_count": 1,
   "metadata": {},
   "outputs": [],
   "source": [
    "class Solution:\n",
    "    def __init__(self):\n",
    "        self.memo = {}\n",
    "    \n",
    "    def numDecodings(self, s: str) -> int:\n",
    "        if not s:\n",
    "            return 0\n",
    "        return self.recursive_with_memo(0, s)\n",
    "\n",
    "    def recursive_with_memo(self, index: int, s: str) -> int:\n",
    "        # If you reach the end of the string\n",
    "        # Return 1 for success.\n",
    "        if index >= len(s) - 1:\n",
    "            return 1\n",
    "\n",
    "        # If the string starts with a zero, it can't be decoded\n",
    "        if s[index] == '0':\n",
    "            return 0\n",
    "\n",
    "        # Memoization is needed since we might encounter the same sub-string.\n",
    "        if index in self.memo:\n",
    "            return self.memo[index]\n",
    "\n",
    "        ans = self.recursive_with_memo(index + 1, s) \\\n",
    "                + (self.recursive_with_memo(index + 2, s) if (int(s[index : index + 2]) <= 26) else 0)\n",
    "\n",
    "        # Save for memoization\n",
    "        self.memo[index] = ans\n",
    "\n",
    "        return ans"
   ]
  },
  {
   "cell_type": "markdown",
   "metadata": {},
   "source": [
    "# Dynamic Progamming - O(n) runtime, O(n) space"
   ]
  },
  {
   "cell_type": "code",
   "execution_count": 2,
   "metadata": {},
   "outputs": [],
   "source": [
    "class Solution:\n",
    "    \n",
    "    def numDecodings(self, s: str) -> int:\n",
    "        if not s:\n",
    "            return 0\n",
    "\n",
    "        # Array to store the subproblem results\n",
    "        dp = [0 for _ in range(len(s) + 1)]\n",
    "\n",
    "        dp[0] = 1\n",
    "        # Ways to decode a string of size 1 is 1. Unless the string is '0'.\n",
    "        # '0' doesn't have a single digit decode.\n",
    "        dp[1] = 0 if s[0] == '0' else 1\n",
    "\n",
    "\n",
    "        for i in range(2, len(dp)):\n",
    "\n",
    "            # Check if successful single digit decode is possible.\n",
    "            if s[i-1] != '0':\n",
    "                dp[i] = dp[i-1]\n",
    "\n",
    "            # Check if successful two digit decode is possible.\n",
    "            two_digit = int(s[i-2 : i])\n",
    "            if two_digit >= 10 and two_digit <= 26:\n",
    "                dp[i] += dp[i-2]\n",
    "        return dp[len(s)]\n"
   ]
  },
  {
   "cell_type": "markdown",
   "metadata": {},
   "source": [
    "# Dynamic Progamming without extra space - O(n) runtime, O(1) space"
   ]
  },
  {
   "cell_type": "code",
   "execution_count": 3,
   "metadata": {},
   "outputs": [],
   "source": [
    "class Solution:   \n",
    "    def numDecodings(self, s: str) -> int:\n",
    "        if not s:\n",
    "            return 0\n",
    "        \n",
    "        a = 1\n",
    "        # Ways to decode a string of size 1 is 1. Unless the string is '0'.\n",
    "        # '0' doesn't have a single digit decode.\n",
    "        b = 0 if s[0] == '0' else 1\n",
    "\n",
    "        result = b\n",
    "        \n",
    "        for i in range(1, len(s)):\n",
    "            result = 0\n",
    "\n",
    "            # Check if successful single digit decode is possible.\n",
    "            if s[i] != '0':\n",
    "                result = b\n",
    "\n",
    "            # Check if successful two digit decode is possible.\n",
    "            two_digit = int(s[i-1 : i+1])\n",
    "            if two_digit >= 10 and two_digit <= 26:\n",
    "                result += a\n",
    " \n",
    "            a, b = b, result\n",
    "\n",
    "        return result"
   ]
  },
  {
   "cell_type": "code",
   "execution_count": 4,
   "metadata": {},
   "outputs": [
    {
     "data": {
      "text/plain": [
       "3"
      ]
     },
     "execution_count": 4,
     "metadata": {},
     "output_type": "execute_result"
    }
   ],
   "source": [
    "instance = Solution()\n",
    "instance.numDecodings('226')"
   ]
  }
 ],
 "metadata": {
  "kernelspec": {
   "display_name": "Python 3",
   "language": "python",
   "name": "python3"
  },
  "language_info": {
   "codemirror_mode": {
    "name": "ipython",
    "version": 3
   },
   "file_extension": ".py",
   "mimetype": "text/x-python",
   "name": "python",
   "nbconvert_exporter": "python",
   "pygments_lexer": "ipython3",
   "version": "3.7.3"
  }
 },
 "nbformat": 4,
 "nbformat_minor": 2
}
