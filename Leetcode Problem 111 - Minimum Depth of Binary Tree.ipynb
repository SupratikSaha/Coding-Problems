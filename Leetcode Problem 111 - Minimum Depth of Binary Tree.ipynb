{
 "cells": [
  {
   "cell_type": "markdown",
   "metadata": {},
   "source": [
    "# Depth First Traversal - O(n) run time, O(log n) stack space"
   ]
  },
  {
   "cell_type": "code",
   "execution_count": null,
   "metadata": {},
   "outputs": [],
   "source": [
    "# Definition for a binary tree node.\n",
    "# class TreeNode:\n",
    "#     def __init__(self, x):\n",
    "#         self.val = x\n",
    "#         self.left = None\n",
    "#         self.right = None\n",
    "\n",
    "class Solution:\n",
    "    def minDepth(self, root: TreeNode) -> int:\n",
    "        if root == None:\n",
    "            return 0\n",
    "        \n",
    "        if root.left == None:\n",
    "            return self.minDepth(root.right) + 1"
   ]
  },
  {
   "cell_type": "markdown",
   "metadata": {},
   "source": [
    "# Breadth First Traversal - O(n) run time, O(n) stack space"
   ]
  },
  {
   "cell_type": "code",
   "execution_count": null,
   "metadata": {},
   "outputs": [],
   "source": [
    "# Definition for a binary tree node.\n",
    "# class TreeNode:\n",
    "#     def __init__(self, x):\n",
    "#         self.val = x\n",
    "#         self.left = None\n",
    "#         self.right = None\n",
    "\n",
    "class Solution:\n",
    "    def minDepth(self, root: TreeNode) -> int:\n",
    "        # BFS\n",
    "        if root is None:\n",
    "            return 0\n",
    "        queue = [root]\n",
    "        depth, rightMost = 1, root\n",
    "        while len(queue) > 0:\n",
    "            node = queue.pop(0)\n",
    "            if node.left is None and node.right is None:\n",
    "                break\n",
    "            if node.left is not None:\n",
    "                queue.append(node.left)\n",
    "            if node.right is not None:\n",
    "                queue.append(node.right)\n",
    "            if node == rightMost:\n",
    "                # reach the current level end\n",
    "                depth += 1\n",
    "                if node.right is not None:\n",
    "                    rightMost = node.right\n",
    "                else:\n",
    "                    rightMost = node.left\n",
    "        return depth"
   ]
  }
 ],
 "metadata": {
  "kernelspec": {
   "display_name": "Python 3",
   "language": "python",
   "name": "python3"
  },
  "language_info": {
   "codemirror_mode": {
    "name": "ipython",
    "version": 3
   },
   "file_extension": ".py",
   "mimetype": "text/x-python",
   "name": "python",
   "nbconvert_exporter": "python",
   "pygments_lexer": "ipython3",
   "version": "3.7.3"
  }
 },
 "nbformat": 4,
 "nbformat_minor": 2
}
