{
 "cells": [
  {
   "cell_type": "markdown",
   "metadata": {},
   "source": [
    "Problem Statement.\n",
    "\n",
    "You are given an array representing a row of seats where seats[i] = 1 represents a person sitting in the ith seat, and seats[i] = 0 represents that the ith seat is empty (0-indexed).\n",
    "\n",
    "There is at least one empty seat, and at least one person sitting.\n",
    "\n",
    "Alex wants to sit in the seat such that the distance between him and the closest person to him is maximized. \n",
    "\n",
    "Return that maximum distance to the closest person.\n",
    "\n",
    " \n",
    "\n",
    "Example 1:\n",
    "\n",
    "Input: seats = [1,0,0,0,1,0,1]\n",
    "Output: 2\n",
    "Explanation: \n",
    "If Alex sits in the second open seat (i.e. seats[2]), then the closest person has distance 2.\n",
    "If Alex sits in any other open seat, the closest person has distance 1.\n",
    "Thus, the maximum distance to the closest person is 2.\n",
    "\n",
    "Example 2:\n",
    "\n",
    "Input: seats = [1,0,0,0]\n",
    "Output: 3\n",
    "Explanation: \n",
    "If Alex sits in the last seat (i.e. seats[3]), the closest person is 3 seats away.\n",
    "This is the maximum distance possible, so the answer is 3.\n",
    "\n",
    "Example 3:\n",
    "\n",
    "Input: seats = [0,1]\n",
    "Output: 1\n",
    "\n",
    " \n",
    "\n",
    "Constraints:\n",
    "\n",
    "    2 <= seats.length <= 2 * 104\n",
    "    seats[i] is 0 or 1.\n",
    "    At least one seat is empty.\n",
    "    At least one seat is occupied."
   ]
  },
  {
   "cell_type": "markdown",
   "metadata": {},
   "source": [
    "# Two Pointers - O(N) runtime, O(1) space"
   ]
  },
  {
   "cell_type": "code",
   "execution_count": 1,
   "metadata": {},
   "outputs": [],
   "source": [
    "from typing import List\n",
    "\n",
    "class Solution:\n",
    "    def maxDistToClosest(self, seats: List[int]) -> int:\n",
    "        i, n = 0, len(seats)\n",
    "        maxDistance = 0\n",
    "        \n",
    "        while i < n:\n",
    "            if seats[i] == 0:\n",
    "                firstEmptyIndex = i\n",
    "                currDistance = 0\n",
    "                while i < n and seats[i] == 0:\n",
    "                    currDistance += 1\n",
    "                    i += 1\n",
    "                if firstEmptyIndex > 0 and i < n: \n",
    "                    currDistance = currDistance // 2 + 1 if currDistance % 2 == 1 else currDistance // 2\n",
    "                maxDistance = max(maxDistance, currDistance)\n",
    "\n",
    "            i += 1\n",
    "                \n",
    "        return maxDistance"
   ]
  },
  {
   "cell_type": "code",
   "execution_count": 2,
   "metadata": {},
   "outputs": [
    {
     "data": {
      "text/plain": [
       "2"
      ]
     },
     "execution_count": 2,
     "metadata": {},
     "output_type": "execute_result"
    }
   ],
   "source": [
    "instance = Solution()\n",
    "instance.maxDistToClosest([1,0,0,0,1,0,1])"
   ]
  }
 ],
 "metadata": {
  "kernelspec": {
   "display_name": "Python 3",
   "language": "python",
   "name": "python3"
  },
  "language_info": {
   "codemirror_mode": {
    "name": "ipython",
    "version": 3
   },
   "file_extension": ".py",
   "mimetype": "text/x-python",
   "name": "python",
   "nbconvert_exporter": "python",
   "pygments_lexer": "ipython3",
   "version": "3.7.3"
  }
 },
 "nbformat": 4,
 "nbformat_minor": 2
}
