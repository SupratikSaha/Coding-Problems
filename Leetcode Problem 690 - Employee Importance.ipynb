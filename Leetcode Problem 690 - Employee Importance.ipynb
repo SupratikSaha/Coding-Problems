{
 "cells": [
  {
   "cell_type": "markdown",
   "metadata": {},
   "source": [
    "Problem Statement. <br/>\n",
    "\n",
    "You are given a data structure of employee information, which includes the employee's unique id, their importance value and their direct subordinates' id. <br/>\n",
    "For example, employee 1 is the leader of employee 2, and employee 2 is the leader of employee 3. They have importance value 15, 10 and 5, respectively. Then employee 1 has a data structure like [1, 15, [2]], and employee 2 has [2, 10, [3]], and employee 3 has [3, 5, []]. Note that although employee 3 is also a subordinate of employee 1, the relationship is not direct. <br/>\n",
    "\n",
    "Now given the employee information of a company, and an employee id, you need to return the total importance value of this employee and all their subordinates. <br/>\n",
    "Example 1: <br/>\n",
    "Input: [[1, 5, [2, 3]], [2, 3, []], [3, 3, []]], 1 <br/>\n",
    "Output: 11 <br/>\n",
    "Explanation: <br/>\n",
    "Employee 1 has importance value 5, and he has two direct subordinates: employee 2 and employee 3. They both have importance value 3. So the total importance value of employee 1 is 5 + 3 + 3 = 11."
   ]
  },
  {
   "cell_type": "markdown",
   "metadata": {},
   "source": [
    "# HashMap - BFS - O(N) runtime, O(N) space"
   ]
  },
  {
   "cell_type": "code",
   "execution_count": 2,
   "metadata": {},
   "outputs": [],
   "source": [
    "from typing import List\n",
    "\n",
    "# Definition for Employee.\n",
    "class Employee:\n",
    "    def __init__(self, id: int, importance: int, subordinates: List[int]):\n",
    "        self.id = id\n",
    "        self.importance = importance\n",
    "        self.subordinates = subordinates\n",
    "        \n",
    "class Solution:\n",
    "    def getImportance(self, employees: List['Employee'], id: int) -> int:\n",
    "        emap = {e.id: e for e in employees}\n",
    "        \n",
    "        queue = deque()\n",
    "        queue.append(id)\n",
    "        totalImportance = 0\n",
    "        \n",
    "        while queue:\n",
    "            empId = queue.pop()\n",
    "            employee = emap[empId]\n",
    "            totalImportance += employee.importance\n",
    "            queue += employee.subordinates\n",
    "        \n",
    "        return totalImportance"
   ]
  },
  {
   "cell_type": "markdown",
   "metadata": {},
   "source": [
    "# HashMap - DFS - O(N) runtime, O(N) space"
   ]
  },
  {
   "cell_type": "code",
   "execution_count": 4,
   "metadata": {},
   "outputs": [],
   "source": [
    "from typing import List\n",
    "\n",
    "# Definition for Employee.\n",
    "class Employee:\n",
    "    def __init__(self, id: int, importance: int, subordinates: List[int]):\n",
    "        self.id = id\n",
    "        self.importance = importance\n",
    "        self.subordinates = subordinates\n",
    "\n",
    "class Solution:\n",
    "    def getImportance(self, employees: List['Employee'], id: int) -> int:\n",
    "        emap = {e.id: e for e in employees}\n",
    "        \n",
    "        def dfs(eid):\n",
    "            employee = emap[eid]\n",
    "            return (employee.importance +\n",
    "                    sum(dfs(eid) for eid in employee.subordinates))\n",
    "        \n",
    "        return dfs(id)"
   ]
  }
 ],
 "metadata": {
  "kernelspec": {
   "display_name": "Python 3",
   "language": "python",
   "name": "python3"
  },
  "language_info": {
   "codemirror_mode": {
    "name": "ipython",
    "version": 3
   },
   "file_extension": ".py",
   "mimetype": "text/x-python",
   "name": "python",
   "nbconvert_exporter": "python",
   "pygments_lexer": "ipython3",
   "version": "3.7.3"
  }
 },
 "nbformat": 4,
 "nbformat_minor": 2
}
