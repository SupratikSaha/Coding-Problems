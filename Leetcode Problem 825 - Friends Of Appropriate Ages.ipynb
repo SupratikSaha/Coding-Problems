{
 "cells": [
  {
   "cell_type": "markdown",
   "metadata": {},
   "source": [
    "    Problem Statement.\n",
    "\n",
    "    Some people will make friend requests. The list of their ages is given and ages[i] is the age of the ith person. \n",
    "\n",
    "    Person A will NOT friend request person B (B != A) if any of the following conditions are true:\n",
    "\n",
    "        age[B] <= 0.5 * age[A] + 7\n",
    "        age[B] > age[A]\n",
    "        age[B] > 100 && age[A] < 100\n",
    "\n",
    "    Otherwise, A will friend request B.\n",
    "\n",
    "    Note that if A requests B, B does not necessarily request A.  Also, people will not friend request themselves.\n",
    "\n",
    "    How many total friend requests are made?\n",
    "\n",
    "    Example 1:\n",
    "\n",
    "    Input: [16,16]\n",
    "    Output: 2\n",
    "    Explanation: 2 people friend request each other.\n",
    "\n",
    "    Example 2:\n",
    "\n",
    "    Input: [16,17,18]\n",
    "    Output: 2\n",
    "    Explanation: Friend requests are made 17 -> 16, 18 -> 17.\n",
    "\n",
    "    Example 3:\n",
    "\n",
    "    Input: [20,30,100,110,120]\n",
    "    Output: 3\n",
    "    Explanation: Friend requests are made 110 -> 100, 120 -> 110, 120 -> 100.\n",
    "\n",
    "\n",
    "\n",
    "    Notes:\n",
    "\n",
    "        1 <= ages.length <= 20000.\n",
    "        1 <= ages[i] <= 120."
   ]
  },
  {
   "cell_type": "markdown",
   "metadata": {},
   "source": [
    "# Counting - O(N ^ 2) runtime, O(N) space"
   ]
  },
  {
   "cell_type": "code",
   "execution_count": 1,
   "metadata": {},
   "outputs": [],
   "source": [
    "from typing import List\n",
    "\n",
    "class Solution:\n",
    "    def numFriendRequests(self, ages: List[int]) -> int:\n",
    "        count = [0] * 121\n",
    "        for age in ages:\n",
    "            count[age] += 1\n",
    "\n",
    "        ans = 0\n",
    "        for ageA, countA in enumerate(count):\n",
    "            for ageB, countB in enumerate(count):\n",
    "                if ageA * 0.5 + 7 >= ageB: continue\n",
    "                if ageA < ageB: continue\n",
    "                if ageA < 100 < ageB: continue\n",
    "                ans += countA * countB\n",
    "                if ageA == ageB: ans -= countA\n",
    "\n",
    "        return ans"
   ]
  },
  {
   "cell_type": "markdown",
   "metadata": {},
   "source": [
    "# Sort and Iterate - O(N ^ 2) runtime, O(N) space"
   ]
  },
  {
   "cell_type": "code",
   "execution_count": 2,
   "metadata": {},
   "outputs": [],
   "source": [
    "from typing import List\n",
    "from collections import Counter\n",
    "\n",
    "class Solution:\n",
    "    def numFriendRequests(self, ages: List[int]) -> int:\n",
    "        res = 0\n",
    "        ages = sorted(Counter(ages).items())\n",
    "\n",
    "        left = 0\n",
    "        for i, (ownAge, count) in enumerate(ages):\n",
    "            if count > 1 and ownAge > 0.5 * ownAge + 7: res += count * (count - 1)\n",
    "            if i == 0: continue\n",
    "            for j in range(left, i):\n",
    "                if ages[j][0] > 0.5 * ownAge + 7: res += ages[j][1] * count\n",
    "                else: left += 1\n",
    "                    \n",
    "        return res"
   ]
  },
  {
   "cell_type": "code",
   "execution_count": 3,
   "metadata": {},
   "outputs": [],
   "source": [
    "instance = Solution()\n",
    "instance.numFriendRequests([73,106,39,6,26,15,30,100,71,35,46,112,6,60,110])"
   ]
  }
 ],
 "metadata": {
  "kernelspec": {
   "display_name": "Python 3",
   "language": "python",
   "name": "python3"
  },
  "language_info": {
   "codemirror_mode": {
    "name": "ipython",
    "version": 3
   },
   "file_extension": ".py",
   "mimetype": "text/x-python",
   "name": "python",
   "nbconvert_exporter": "python",
   "pygments_lexer": "ipython3",
   "version": "3.7.3"
  }
 },
 "nbformat": 4,
 "nbformat_minor": 2
}
