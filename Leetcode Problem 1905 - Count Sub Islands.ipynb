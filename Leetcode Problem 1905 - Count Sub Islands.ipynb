{
 "cells": [
  {
   "cell_type": "markdown",
   "metadata": {},
   "source": [
    "Problem Statement.\n",
    "\n",
    "You are given two m x n binary matrices grid1 and grid2 containing only 0's (representing water) and 1's (representing land). An island is a group of 1's connected 4-directionally (horizontal or vertical). Any cells outside of the grid are considered water cells.\n",
    "\n",
    "An island in grid2 is considered a sub-island if there is an island in grid1 that contains all the cells that make up this island in grid2.\n",
    "\n",
    "Return the number of islands in grid2 that are considered sub-islands.\n",
    "\n",
    " \n",
    "\n",
    "Example 1:\n",
    "\n",
    "Input: grid1 = [[1,1,1,0,0],[0,1,1,1,1],[0,0,0,0,0],[1,0,0,0,0],[1,1,0,1,1]], grid2 = [[1,1,1,0,0],[0,0,1,1,1],[0,1,0,0,0],[1,0,1,1,0],[0,1,0,1,0]]\n",
    "Output: 3\n",
    "Explanation: In the picture above, the grid on the left is grid1 and the grid on the right is grid2.\n",
    "The 1s colored red in grid2 are those considered to be part of a sub-island. There are three sub-islands.\n",
    "\n",
    "Example 2:\n",
    "\n",
    "Input: grid1 = [[1,0,1,0,1],[1,1,1,1,1],[0,0,0,0,0],[1,1,1,1,1],[1,0,1,0,1]], grid2 = [[0,0,0,0,0],[1,1,1,1,1],[0,1,0,1,0],[0,1,0,1,0],[1,0,0,0,1]]\n",
    "Output: 2 \n",
    "Explanation: In the picture above, the grid on the left is grid1 and the grid on the right is grid2.\n",
    "The 1s colored red in grid2 are those considered to be part of a sub-island. There are two sub-islands.\n",
    "\n",
    " \n",
    "\n",
    "Constraints:\n",
    "\n",
    "    m == grid1.length == grid2.length\n",
    "    n == grid1[i].length == grid2[i].length\n",
    "    1 <= m, n <= 500\n",
    "    grid1[i][j] and grid2[i][j] are either 0 or 1."
   ]
  },
  {
   "cell_type": "markdown",
   "metadata": {},
   "source": [
    "# DFS - O(M * N) runtime, O(M * N) space"
   ]
  },
  {
   "cell_type": "code",
   "execution_count": 1,
   "metadata": {},
   "outputs": [],
   "source": [
    "from typing import List\n",
    "\n",
    "class Solution:\n",
    "    def countSubIslands(self, grid1: List[List[int]], grid2: List[List[int]]) -> int:\n",
    "        m, n = len(grid2), len(grid2[0])\n",
    "        res = 0\n",
    "        \n",
    "        def dfs(r, c):\n",
    "            nonlocal subIsland\n",
    "            if 0 <= r < m and 0 <= c < n and grid2[r][c] == 1:\n",
    "                grid2[r][c] = 0\n",
    "                if grid1[r][c] == 0: subIsland = 0\n",
    "                    \n",
    "                dfs(r-1, c)\n",
    "                dfs(r+1, c)\n",
    "                dfs(r, c+1)\n",
    "                dfs(r, c-1)\n",
    "        \n",
    "        for i in range(m):\n",
    "            for j in range(n):\n",
    "                if grid2[i][j] == 1:\n",
    "                    subIsland = 1\n",
    "                    dfs(i, j)\n",
    "                    res += subIsland\n",
    "                    \n",
    "        return res"
   ]
  },
  {
   "cell_type": "code",
   "execution_count": 2,
   "metadata": {},
   "outputs": [
    {
     "data": {
      "text/plain": [
       "3"
      ]
     },
     "execution_count": 2,
     "metadata": {},
     "output_type": "execute_result"
    }
   ],
   "source": [
    "instance = Solution()\n",
    "instance.countSubIslands([[1,1,1,0,0],[0,1,1,1,1],[0,0,0,0,0],[1,0,0,0,0],[1,1,0,1,1]], [[1,1,1,0,0],[0,0,1,1,1],[0,1,0,0,0],[1,0,1,1,0],[0,1,0,1,0]])"
   ]
  }
 ],
 "metadata": {
  "kernelspec": {
   "display_name": "Python 3",
   "language": "python",
   "name": "python3"
  },
  "language_info": {
   "codemirror_mode": {
    "name": "ipython",
    "version": 3
   },
   "file_extension": ".py",
   "mimetype": "text/x-python",
   "name": "python",
   "nbconvert_exporter": "python",
   "pygments_lexer": "ipython3",
   "version": "3.7.3"
  }
 },
 "nbformat": 4,
 "nbformat_minor": 2
}
