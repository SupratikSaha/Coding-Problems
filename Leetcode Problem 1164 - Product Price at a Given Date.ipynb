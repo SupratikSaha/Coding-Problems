{
 "cells": [
  {
   "cell_type": "markdown",
   "metadata": {},
   "source": [
    "    Problem Statement.\n",
    "\n",
    "    Table: Products\n",
    "\n",
    "    +---------------+---------+\n",
    "    | Column Name   | Type    |\n",
    "    +---------------+---------+\n",
    "    | product_id    | int     |\n",
    "    | new_price     | int     |\n",
    "    | change_date   | date    |\n",
    "    +---------------+---------+\n",
    "    (product_id, change_date) is the primary key of this table.\n",
    "    Each row of this table indicates that the price of some product was changed to a new price at some date.\n",
    "\n",
    "\n",
    "\n",
    "    Write an SQL query to find the prices of all products on 2019-08-16. Assume the price of all products before any change is 10.\n",
    "\n",
    "    The query result format is in the following example:\n",
    "\n",
    "    Products table:\n",
    "    +------------+-----------+-------------+\n",
    "    | product_id | new_price | change_date |\n",
    "    +------------+-----------+-------------+\n",
    "    | 1          | 20        | 2019-08-14  |\n",
    "    | 2          | 50        | 2019-08-14  |\n",
    "    | 1          | 30        | 2019-08-15  |\n",
    "    | 1          | 35        | 2019-08-16  |\n",
    "    | 2          | 65        | 2019-08-17  |\n",
    "    | 3          | 20        | 2019-08-18  |\n",
    "    +------------+-----------+-------------+\n",
    "\n",
    "    Result table:\n",
    "    +------------+-------+\n",
    "    | product_id | price |\n",
    "    +------------+-------+\n",
    "    | 2          | 50    |\n",
    "    | 1          | 35    |\n",
    "    | 3          | 10    |\n",
    "    +------------+-------+"
   ]
  },
  {
   "cell_type": "markdown",
   "metadata": {},
   "source": [
    "# With and Window function"
   ]
  },
  {
   "cell_type": "code",
   "execution_count": null,
   "metadata": {},
   "outputs": [],
   "source": [
    "WITH\n",
    "prod as (SELECT DISTINCT product_id from Products),\n",
    "\n",
    "new_prices as\n",
    "(SELECT product_id, new_price FROM\n",
    "(SELECT *, \n",
    " RANK() OVER (PARTITION BY product_id ORDER BY change_date DESC) as change_rank\n",
    " from Products\n",
    " WHERE change_date <= '2019-08-16'\n",
    ") temp\n",
    "WHERE change_rank = 1)\n",
    "\n",
    "select product_id, COALESCE(new_price, 10) as price\n",
    "from prod\n",
    "LEFT JOIN new_prices USING(product_id)"
   ]
  },
  {
   "cell_type": "markdown",
   "metadata": {},
   "source": [
    "# Shorter With and window function"
   ]
  },
  {
   "cell_type": "code",
   "execution_count": null,
   "metadata": {},
   "outputs": [],
   "source": [
    "WITH\n",
    "new_prices as\n",
    "(SELECT *, \n",
    " RANK() OVER (PARTITION BY product_id ORDER BY change_date DESC) as change_rank\n",
    " from Products\n",
    " WHERE change_date <= '2019-08-16'\n",
    ")\n",
    "\n",
    "select distinct p.product_id, COALESCE(n.new_price, 10) as price\n",
    "from Products p\n",
    "LEFT JOIN new_prices n \n",
    "ON p.product_id = n.product_id and n.change_rank = 1"
   ]
  }
 ],
 "metadata": {
  "kernelspec": {
   "display_name": "Python 3",
   "language": "python",
   "name": "python3"
  },
  "language_info": {
   "codemirror_mode": {
    "name": "ipython",
    "version": 3
   },
   "file_extension": ".py",
   "mimetype": "text/x-python",
   "name": "python",
   "nbconvert_exporter": "python",
   "pygments_lexer": "ipython3",
   "version": "3.7.3"
  }
 },
 "nbformat": 4,
 "nbformat_minor": 2
}
