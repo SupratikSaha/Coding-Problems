{
 "cells": [
  {
   "cell_type": "markdown",
   "metadata": {},
   "source": [
    "Equations are given in the format A / B = k, where A and B are variables represented as strings, and k is a real number (floating point number). Given some queries, return the answers. If the answer does not exist, return -1.0.\n",
    "\n",
    "Example:\n",
    "Given a / b = 2.0, b / c = 3.0.\n",
    "queries are: a / c = ?, b / a = ?, a / e = ?, a / a = ?, x / x = ? .\n",
    "return [6.0, 0.5, -1.0, 1.0, -1.0 ].\n",
    "\n",
    "The input is: vector<pair<string, string>> equations, vector<double>& values, vector<pair<string, string>> queries , where equations.size() == values.size(), and the values are positive. This represents the equations. Return vector<double>.\n",
    "\n",
    "According to the example above:\n",
    "\n",
    "equations = [ [\"a\", \"b\"], [\"b\", \"c\"] ],\n",
    "values = [2.0, 3.0],\n",
    "queries = [ [\"a\", \"c\"], [\"b\", \"a\"], [\"a\", \"e\"], [\"a\", \"a\"], [\"x\", \"x\"] ]. \n",
    "\n",
    " \n",
    "\n",
    "The input is always valid. You may assume that evaluating the queries will result in no division by zero and there is no contradiction.\n"
   ]
  },
  {
   "cell_type": "markdown",
   "metadata": {},
   "source": [
    "# BFS without caching: O(m(q+n)) ~ O(m * n^2) runtime, O(q) space if there are m queries, q equations and n distinct variables"
   ]
  },
  {
   "cell_type": "code",
   "execution_count": 8,
   "metadata": {},
   "outputs": [],
   "source": [
    "import collections\n",
    "\n",
    "from typing import List\n",
    "from collections import deque\n",
    "\n",
    "class Solution:\n",
    "    def calcEquation(self, equations: List[List[str]], values: List[float], queries: List[List[str]]) -> List[float]:\n",
    "        graph = {}\n",
    "        \n",
    "        def build_graph(equations, values):\n",
    "            def add_edge(f, t, value):\n",
    "                if f in graph:\n",
    "                    graph[f].append((t, value))\n",
    "                else:\n",
    "                    graph[f] = [(t, value)]\n",
    "            \n",
    "            for vertices, value in zip(equations, values):\n",
    "                f, t = vertices\n",
    "                add_edge(f, t, value)\n",
    "                add_edge(t, f, 1/value)\n",
    "        \n",
    "        def find_path(query):\n",
    "            b, e = query\n",
    "            \n",
    "            if b not in graph or e not in graph:\n",
    "                return -1.0\n",
    "                \n",
    "            q = deque([(b, 1.0)])\n",
    "            visited = set()\n",
    "            \n",
    "            while q:\n",
    "                front, cur_product = q.popleft()\n",
    "                if front == e:\n",
    "                    return cur_product\n",
    "                visited.add(front)\n",
    "                for neighbor, value in graph[front]:\n",
    "                    if neighbor not in visited:\n",
    "                        q.append((neighbor, cur_product*value))\n",
    "            \n",
    "            return -1.0\n",
    "        \n",
    "        build_graph(equations, values)\n",
    "        return [find_path(q) for q in queries]"
   ]
  },
  {
   "cell_type": "markdown",
   "metadata": {},
   "source": [
    "# BFS with caching - O(q+n) ~ O(n^2) runtime for all the m queries, O(q) space"
   ]
  },
  {
   "cell_type": "code",
   "execution_count": 10,
   "metadata": {},
   "outputs": [],
   "source": [
    "import collections\n",
    "\n",
    "from typing import List\n",
    "from collections import defaultdict, deque\n",
    "\n",
    "class Solution:\n",
    "    def calcEquation(self, equations: List[List[str]], values: List[float], queries: List[List[str]]) -> List[float]:\n",
    "        graph = defaultdict(dict)\n",
    "        for ([x,y],value) in zip(equations, values):\n",
    "            graph[x][y] = value\n",
    "            graph[y][x] = 1/value\n",
    "        \n",
    "        def find_prod(s,e):\n",
    "            if s not in graph or e not in graph:\n",
    "                return -1.0\n",
    "            if s==e: return 1.0\n",
    "            q = deque([(s, 1.0)])\n",
    "            visited = {s}\n",
    "            while q:\n",
    "                n, curr = q.popleft()\n",
    "                for child,value in graph[n].items():\n",
    "                    if child in visited:\n",
    "                        continue\n",
    "                    nc = curr*value\n",
    "                    if child == e:\n",
    "                        return nc\n",
    "                    graph[s][child] = nc\n",
    "                    graph[child][s] = 1/nc\n",
    "                    visited.add(child)\n",
    "                    q.append((child, nc))\n",
    "            return -1.0\n",
    "        \n",
    "        return [find_prod(s,e) for [s,e] in queries]"
   ]
  },
  {
   "cell_type": "code",
   "execution_count": 11,
   "metadata": {},
   "outputs": [
    {
     "data": {
      "text/plain": [
       "[6.0, 0.5, -1.0, 1.0, -1.0]"
      ]
     },
     "execution_count": 11,
     "metadata": {},
     "output_type": "execute_result"
    }
   ],
   "source": [
    "instance = Solution()\n",
    "instance.calcEquation([[\"a\",\"b\"],[\"b\",\"c\"]],\n",
    "[2.0,3.0],\n",
    "[[\"a\",\"c\"],[\"b\",\"a\"],[\"a\",\"e\"],[\"a\",\"a\"],[\"x\",\"x\"]])"
   ]
  }
 ],
 "metadata": {
  "kernelspec": {
   "display_name": "Python 3",
   "language": "python",
   "name": "python3"
  },
  "language_info": {
   "codemirror_mode": {
    "name": "ipython",
    "version": 3
   },
   "file_extension": ".py",
   "mimetype": "text/x-python",
   "name": "python",
   "nbconvert_exporter": "python",
   "pygments_lexer": "ipython3",
   "version": "3.7.3"
  }
 },
 "nbformat": 4,
 "nbformat_minor": 2
}
