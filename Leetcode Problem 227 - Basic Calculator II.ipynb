{
 "cells": [
  {
   "cell_type": "markdown",
   "metadata": {},
   "source": [
    "Problem Statement. <br/>\n",
    "\n",
    "Given a string s which represents an expression, evaluate this expression and return its value. <br/>\n",
    "The integer division should truncate toward zero. <br/>\n",
    "\n",
    "Example 1: <br/>\n",
    "Input: s = \"3+2*2\" <br/>\n",
    "Output: 7 <br/>\n",
    "\n",
    "Example 2: <br/>\n",
    "Input: s = \" 3/2 \" <br/>\n",
    "Output: 1 <br/>\n",
    "\n",
    "Example 3: <br/>\n",
    "Input: s = \" 3+5 / 2 \" <br/>\n",
    "Output: 5"
   ]
  },
  {
   "cell_type": "markdown",
   "metadata": {},
   "source": [
    "# Two Pass, No Extra Space - O(N) runtime, O(1) space"
   ]
  },
  {
   "cell_type": "code",
   "execution_count": 1,
   "metadata": {},
   "outputs": [],
   "source": [
    "class Solution:\n",
    "    def calculate(self, s: str) -> int:\n",
    "        \n",
    "        s, _ = self.calculateHelper(s.strip(), ['*', '/'])\n",
    "        _, result = self.calculateHelper(s.strip(), ['+', '-'])\n",
    "        \n",
    "        return result\n",
    "        \n",
    "    def calculateHelper(self, s: str, currentOperatorList):\n",
    "        operator_list = ['+', '-', '*', '/']\n",
    "        i = 0\n",
    "        left = float('inf')\n",
    "        \n",
    "        while i < len(s):\n",
    "            n = len(s)\n",
    "            if left == float('inf'):\n",
    "                \n",
    "                while i < n and s[i] == ' ':\n",
    "                    i += 1\n",
    "\n",
    "                leftStartIndex = i\n",
    "                while i < n and s[i] != ' ' and s[i] not in operator_list:\n",
    "                    i += 1\n",
    "\n",
    "                left = int(s[leftStartIndex:i])\n",
    "        \n",
    "            while i < n and s[i] == ' ':\n",
    "                i += 1\n",
    "                  \n",
    "            if i < n and s[i] in operator_list:\n",
    "                operator = s[i]\n",
    "                i += 1\n",
    "\n",
    "                while i < n and s[i] == ' ':\n",
    "                    i += 1\n",
    "\n",
    "                rightStartIndex = i\n",
    "                while i < n and s[i] != ' ' and s[i] not in operator_list:\n",
    "                    i += 1\n",
    "\n",
    "                right = int(s[rightStartIndex:i])\n",
    "\n",
    "                if operator not in currentOperatorList:\n",
    "                    left = right\n",
    "                    leftStartIndex = rightStartIndex\n",
    "                else:\n",
    "                    if operator == '+':\n",
    "                        left += right\n",
    "                    elif operator == '-':\n",
    "                        left -= right\n",
    "                    elif operator == '*':\n",
    "                        left *= right\n",
    "                    elif operator == '/':\n",
    "                        left //= right\n",
    "\n",
    "                    if operator in ['*', '/']:\n",
    "                        result = str(left)\n",
    "                        len_result = len(result)\n",
    "                        s = s[:leftStartIndex] + str(left) + s[i:]\n",
    "                        i = leftStartIndex + len_result\n",
    "                    \n",
    "            while i < len(s) and s[i] == ' ':\n",
    "                i += 1\n",
    "                \n",
    "        return (s, left)"
   ]
  },
  {
   "cell_type": "markdown",
   "metadata": {},
   "source": [
    "# One Pass, Stack - O(N) runtime, O(N) space"
   ]
  },
  {
   "cell_type": "code",
   "execution_count": 3,
   "metadata": {},
   "outputs": [],
   "source": [
    "class Solution:\n",
    "    def calculate(self, s: str) -> int:\n",
    "        stack = []\n",
    "        current_num = 0\n",
    "        operator = \"+\"\n",
    "        operators = {\"+\", \"-\", \"*\", \"/\"}\n",
    "        for index, char in enumerate(s):\n",
    "            if char.isdigit():\n",
    "                current_num = current_num * 10 + int(char)\n",
    "            if char in operators or index == len(s) - 1:\n",
    "                if operator == \"+\":\n",
    "                    stack.append(current_num)\n",
    "                elif operator == \"-\":\n",
    "                    stack.append(-current_num)\n",
    "                elif operator == \"*\":\n",
    "                    stack[-1] = int(stack[-1] * current_num)\n",
    "                else:\n",
    "                    stack[-1] = int(stack[-1] / current_num)\n",
    "                \n",
    "                current_num = 0\n",
    "                operator = char\n",
    "        \n",
    "        return sum(stack)"
   ]
  },
  {
   "cell_type": "markdown",
   "metadata": {},
   "source": [
    "# One Pass, No Extra Space - O(N) runtime, O(1) space"
   ]
  },
  {
   "cell_type": "code",
   "execution_count": 5,
   "metadata": {},
   "outputs": [],
   "source": [
    "class Solution:\n",
    "    def calculate(self, s: str) -> int:\n",
    "        op = '+'\n",
    "        pre = cur = res = 0\n",
    "        for c in s+'+':\n",
    "            if c.isdigit():\n",
    "                cur = 10*cur + int(c)\n",
    "            elif c != ' ':\n",
    "                if op == '+' or op == '-': \n",
    "                    res += pre\n",
    "                    pre = cur if op == '+' else -cur\n",
    "                else:\n",
    "                    pre = pre*cur if op == '*' else int(pre/cur)\n",
    "                cur, op = 0, c\n",
    "        return res+pre"
   ]
  },
  {
   "cell_type": "code",
   "execution_count": 6,
   "metadata": {},
   "outputs": [
    {
     "data": {
      "text/plain": [
       "7"
      ]
     },
     "execution_count": 6,
     "metadata": {},
     "output_type": "execute_result"
    }
   ],
   "source": [
    "instance = Solution()\n",
    "instance.calculate(\"3+2*2\")"
   ]
  }
 ],
 "metadata": {
  "kernelspec": {
   "display_name": "Python 3",
   "language": "python",
   "name": "python3"
  },
  "language_info": {
   "codemirror_mode": {
    "name": "ipython",
    "version": 3
   },
   "file_extension": ".py",
   "mimetype": "text/x-python",
   "name": "python",
   "nbconvert_exporter": "python",
   "pygments_lexer": "ipython3",
   "version": "3.7.3"
  }
 },
 "nbformat": 4,
 "nbformat_minor": 2
}
