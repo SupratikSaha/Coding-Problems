{
 "cells": [
  {
   "cell_type": "markdown",
   "metadata": {},
   "source": [
    "Problem Statement. <br/>\n",
    "\n",
    "Given a 2D board containing 'X' and 'O' (the letter O), capture all regions surrounded by 'X'. <br/>\n",
    "A region is captured by flipping all 'O's into 'X's in that surrounded region. <br/>\n",
    "\n",
    "Example: <br/>\n",
    "X X X X <br/>\n",
    "X O O X <br/>\n",
    "X X O X <br/>\n",
    "X O X X <br/>\n",
    "\n",
    "After running your function, the board should be: <br/>\n",
    "X X X X <br/>\n",
    "X X X X <br/>\n",
    "X X X X <br/>\n",
    "X O X X <br/>\n",
    "\n",
    "Explanation: <br/>\n",
    "Surrounded regions shouldn’t be on the border, which means that any 'O' on the border of the board are not flipped to 'X'. Any 'O' that is not on the border and it is not connected to an 'O' on the border will be flipped to 'X'. Two cells are connected if they are adjacent cells connected horizontally or vertically. <br/>"
   ]
  },
  {
   "cell_type": "markdown",
   "metadata": {},
   "source": [
    "# DFS - O(M * N) runtime, O(M * N) space"
   ]
  },
  {
   "cell_type": "code",
   "execution_count": 8,
   "metadata": {},
   "outputs": [],
   "source": [
    "from typing import List\n",
    "\n",
    "class Solution:\n",
    "    def solve(self, board: List[List[str]]) -> None:\n",
    "        \"\"\"\n",
    "        Do not return anything, modify board in-place instead.\n",
    "        \"\"\"\n",
    "        if not board or not board[0]:\n",
    "            return\n",
    "\n",
    "        self.ROWS = len(board)\n",
    "        self.COLS = len(board[0])\n",
    "\n",
    "        # Step 1). retrieve all border cells\n",
    "        from itertools import product\n",
    "        borders = list(product(range(self.ROWS), [0, self.COLS-1])) \\\n",
    "                + list(product([0, self.ROWS-1], range(self.COLS)))\n",
    "\n",
    "        # Step 2). mark the \"escaped\" cells, with any placeholder, e.g. 'E'\n",
    "        for row, col in borders:\n",
    "            self.DFS(board, row, col)\n",
    "\n",
    "        # Step 3). flip the captured cells ('O'->'X') and the escaped one ('E'->'O')\n",
    "        for r in range(self.ROWS):\n",
    "            for c in range(self.COLS):\n",
    "                if board[r][c] == 'O':   board[r][c] = 'X'  # captured\n",
    "                elif board[r][c] == 'E': board[r][c] = 'O'  # escaped\n",
    "                    \n",
    "        return board\n",
    "\n",
    "    def DFS(self, board, row, col):\n",
    "        if row < 0 or row >= self.ROWS or col < 0 or col >= self.COLS:\n",
    "            return\n",
    "        if board[row][col] != 'O':\n",
    "            return\n",
    "        board[row][col] = 'E'\n",
    "        # jump to the neighbors without boundary checks\n",
    "        for ro, co in [(0, 1), (1, 0), (0, -1), (-1, 0)]:\n",
    "            self.DFS(board, row+ro, col+co)"
   ]
  },
  {
   "cell_type": "markdown",
   "metadata": {},
   "source": [
    "# DFS Iterative - O(M * N) runtime, O(M * N) space"
   ]
  },
  {
   "cell_type": "code",
   "execution_count": 13,
   "metadata": {},
   "outputs": [],
   "source": [
    "\n",
    "from typing import List\n",
    "\n",
    "class Solution:\n",
    "    def solve(self, board: List[List[str]]) -> None:\n",
    "        \"\"\"\n",
    "        Do not return anything, modify board in-place instead.\n",
    "        \"\"\"\n",
    "        if not board or not board[0]:\n",
    "            return\n",
    "\n",
    "        self.ROWS = len(board)\n",
    "        self.COLS = len(board[0])\n",
    "\n",
    "        # Step 1). retrieve all border cells\n",
    "        from itertools import product\n",
    "        borders = list(product(range(self.ROWS), [0, self.COLS-1])) \\\n",
    "                + list(product([0, self.ROWS-1], range(self.COLS)))\n",
    "\n",
    "        # Step 2). mark the \"escaped\" cells, with any placeholder, e.g. 'E'\n",
    "        for row, col in borders:\n",
    "            self.BFS(board, row, col)\n",
    "\n",
    "        # Step 3). flip the captured cells ('O'->'X') and the escaped one ('E'->'O')\n",
    "        for r in range(self.ROWS):\n",
    "            for c in range(self.COLS):\n",
    "                if board[r][c] == 'O':   board[r][c] = 'X'  # captured\n",
    "                elif board[r][c] == 'E': board[r][c] = 'O'  # escaped\n",
    "                    \n",
    "        return board\n",
    "\n",
    "    def BFS(self, board, row, col):\n",
    "        from collections import deque\n",
    "        queue = deque([(row, col)])\n",
    "        while queue:\n",
    "            (row, col) = queue.pop()\n",
    "            if board[row][col] != 'O':\n",
    "                continue\n",
    "            # mark this cell as escaped\n",
    "            board[row][col] = 'E'\n",
    "            # check its neighbor cells\n",
    "            if col < self.COLS-1: queue.append((row, col+1))\n",
    "            if row < self.ROWS-1: queue.append((row+1, col))\n",
    "            if col > 0: queue.append((row, col-1))\n",
    "            if row > 0: queue.append((row-1, col))"
   ]
  },
  {
   "cell_type": "markdown",
   "metadata": {},
   "source": [
    "# BFS - O(M * N) runtime, O(M * N) space"
   ]
  },
  {
   "cell_type": "code",
   "execution_count": 10,
   "metadata": {},
   "outputs": [],
   "source": [
    "from typing import List\n",
    "\n",
    "class Solution:\n",
    "    def solve(self, board: List[List[str]]) -> None:\n",
    "        \"\"\"\n",
    "        Do not return anything, modify board in-place instead.\n",
    "        \"\"\"\n",
    "        if not board or not board[0]:\n",
    "            return\n",
    "\n",
    "        self.ROWS = len(board)\n",
    "        self.COLS = len(board[0])\n",
    "\n",
    "        # Step 1). retrieve all border cells\n",
    "        from itertools import product\n",
    "        borders = list(product(range(self.ROWS), [0, self.COLS-1])) \\\n",
    "                + list(product([0, self.ROWS-1], range(self.COLS)))\n",
    "\n",
    "        # Step 2). mark the \"escaped\" cells, with any placeholder, e.g. 'E'\n",
    "        for row, col in borders:\n",
    "            self.BFS(board, row, col)\n",
    "\n",
    "        # Step 3). flip the captured cells ('O'->'X') and the escaped one ('E'->'O')\n",
    "        for r in range(self.ROWS):\n",
    "            for c in range(self.COLS):\n",
    "                if board[r][c] == 'O':   board[r][c] = 'X'  # captured\n",
    "                elif board[r][c] == 'E': board[r][c] = 'O'  # escaped\n",
    "                    \n",
    "        return board\n",
    "\n",
    "    def BFS(self, board, row, col):\n",
    "        from collections import deque\n",
    "        queue = deque([(row, col)])\n",
    "        while queue:\n",
    "            (row, col) = queue.popleft()\n",
    "            if board[row][col] != 'O':\n",
    "                continue\n",
    "            # mark this cell as escaped\n",
    "            board[row][col] = 'E'\n",
    "            # check its neighbor cells\n",
    "            if col < self.COLS-1: queue.append((row, col+1))\n",
    "            if row < self.ROWS-1: queue.append((row+1, col))\n",
    "            if col > 0: queue.append((row, col-1))\n",
    "            if row > 0: queue.append((row-1, col))"
   ]
  },
  {
   "cell_type": "code",
   "execution_count": 14,
   "metadata": {},
   "outputs": [
    {
     "data": {
      "text/plain": [
       "[['O', 'X', 'X', 'O', 'X'],\n",
       " ['X', 'X', 'X', 'X', 'O'],\n",
       " ['X', 'X', 'X', 'O', 'X'],\n",
       " ['O', 'X', 'O', 'O', 'O'],\n",
       " ['X', 'X', 'O', 'X', 'O']]"
      ]
     },
     "execution_count": 14,
     "metadata": {},
     "output_type": "execute_result"
    }
   ],
   "source": [
    "instance = Solution()\n",
    "instance.solve([[\"O\",\"X\",\"X\",\"O\",\"X\"],[\"X\",\"O\",\"O\",\"X\",\"O\"],[\"X\",\"O\",\"X\",\"O\",\"X\"],[\"O\",\"X\",\"O\",\"O\",\"O\"],[\"X\",\"X\",\"O\",\"X\",\"O\"]])"
   ]
  }
 ],
 "metadata": {
  "kernelspec": {
   "display_name": "Python 3",
   "language": "python",
   "name": "python3"
  },
  "language_info": {
   "codemirror_mode": {
    "name": "ipython",
    "version": 3
   },
   "file_extension": ".py",
   "mimetype": "text/x-python",
   "name": "python",
   "nbconvert_exporter": "python",
   "pygments_lexer": "ipython3",
   "version": "3.7.3"
  }
 },
 "nbformat": 4,
 "nbformat_minor": 2
}
