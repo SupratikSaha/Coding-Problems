{
 "cells": [
  {
   "cell_type": "markdown",
   "metadata": {},
   "source": [
    "Problem Statement.\n",
    "\n",
    "Alice and Bob have an undirected graph of n nodes and 3 types of edges:\n",
    "\n",
    "    Type 1: Can be traversed by Alice only.\n",
    "    Type 2: Can be traversed by Bob only.\n",
    "    Type 3: Can by traversed by both Alice and Bob.\n",
    "\n",
    "Given an array edges where edges[i] = [typei, ui, vi] represents a bidirectional edge of type typei between nodes ui and vi, find the maximum number of edges you can remove so that after removing the edges, the graph can still be fully traversed by both Alice and Bob. The graph is fully traversed by Alice and Bob if starting from any node, they can reach all other nodes.\n",
    "\n",
    "Return the maximum number of edges you can remove, or return -1 if it's impossible for the graph to be fully traversed by Alice and Bob.\n",
    "\n",
    " \n",
    "\n",
    "Example 1:\n",
    "\n",
    "Input: n = 4, edges = [[3,1,2],[3,2,3],[1,1,3],[1,2,4],[1,1,2],[2,3,4]]\n",
    "Output: 2\n",
    "Explanation: If we remove the 2 edges [1,1,2] and [1,1,3]. The graph will still be fully traversable by Alice and Bob. Removing any additional edge will not make it so. So the maximum number of edges we can remove is 2.\n",
    "\n",
    "Example 2:\n",
    "\n",
    "Input: n = 4, edges = [[3,1,2],[3,2,3],[1,1,4],[2,1,4]]\n",
    "Output: 0\n",
    "Explanation: Notice that removing any edge will not make the graph fully traversable by Alice and Bob.\n",
    "\n",
    "Example 3:\n",
    "\n",
    "Input: n = 4, edges = [[3,2,3],[1,1,2],[2,3,4]]\n",
    "Output: -1\n",
    "Explanation: In the current graph, Alice cannot reach node 4 from the other nodes. Likewise, Bob cannot reach 1. Therefore it's impossible to make the graph fully traversable.\n",
    "\n",
    " \n",
    "\n",
    " \n",
    "\n",
    "Constraints:\n",
    "\n",
    "    1 <= n <= 10^5\n",
    "    1 <= edges.length <= min(10^5, 3 * n * (n-1) / 2)\n",
    "    edges[i].length == 3\n",
    "    1 <= edges[i][0] <= 3\n",
    "    1 <= edges[i][1] < edges[i][2] <= n\n",
    "    All tuples (typei, ui, vi) are distinct."
   ]
  },
  {
   "cell_type": "markdown",
   "metadata": {},
   "source": [
    "# Union Find - O(E) runtime, O(E) space where E is the number of edges"
   ]
  },
  {
   "cell_type": "code",
   "execution_count": 2,
   "metadata": {},
   "outputs": [],
   "source": [
    "from typing import List\n",
    "\n",
    "class UnionFindSet:\n",
    "    def __init__(self, n):\n",
    "        self.parents = list(range(n))\n",
    "        self.ranks = [1] * n\n",
    "        self.size = 1\n",
    "        \n",
    "    def find(self, u):\n",
    "        if u != self.parents[u]:\n",
    "            self.parents[u] = self.find(self.parents[u])\n",
    "        return self.parents[u]\n",
    "    \n",
    "    def union(self, u, v):\n",
    "        pu, pv = self.find(u), self.find(v)\n",
    "        if pu == pv:\n",
    "            return False\n",
    "        if self.ranks[pu] > self.ranks[pv]:\n",
    "            self.parents[pv] = pu\n",
    "        elif self.ranks[pv] > self.ranks[pu]:\n",
    "            self.parents[pu] = pv\n",
    "        else:\n",
    "            self.parents[pu] = pv\n",
    "            self.ranks[pv] += 1\n",
    "        self.size += 1\n",
    "        return True\n",
    "    \n",
    "    \n",
    "class Solution:\n",
    "    def maxNumEdgesToRemove(self, n: int, edges: List[List[int]]) -> int:\n",
    "        uf1, uf2, ans = UnionFindSet(n), UnionFindSet(n), 0\n",
    "        \n",
    "        for t, u, v in edges:\n",
    "            if t != 3:\n",
    "                continue\n",
    "            if not uf1.union(u - 1, v - 1) or not uf2.union(u - 1, v - 1):\n",
    "                ans += 1\n",
    "        \n",
    "        for t, u, v in edges:\n",
    "            if t == 1 and not uf1.union(u - 1, v - 1):\n",
    "                ans += 1\n",
    "            elif t == 2 and not uf2.union(u - 1, v - 1):\n",
    "                ans += 1\n",
    "   \n",
    "        return ans if uf1.size == n and uf2.size == n else -1\n"
   ]
  },
  {
   "cell_type": "code",
   "execution_count": 3,
   "metadata": {},
   "outputs": [
    {
     "data": {
      "text/plain": [
       "2"
      ]
     },
     "execution_count": 3,
     "metadata": {},
     "output_type": "execute_result"
    }
   ],
   "source": [
    "instance = Solution()\n",
    "instance.maxNumEdgesToRemove(4, [[3,1,2],[3,2,3],[1,1,3],[1,2,4],[1,1,2],[2,3,4]])"
   ]
  }
 ],
 "metadata": {
  "kernelspec": {
   "display_name": "Python 3",
   "language": "python",
   "name": "python3"
  },
  "language_info": {
   "codemirror_mode": {
    "name": "ipython",
    "version": 3
   },
   "file_extension": ".py",
   "mimetype": "text/x-python",
   "name": "python",
   "nbconvert_exporter": "python",
   "pygments_lexer": "ipython3",
   "version": "3.7.3"
  }
 },
 "nbformat": 4,
 "nbformat_minor": 2
}
