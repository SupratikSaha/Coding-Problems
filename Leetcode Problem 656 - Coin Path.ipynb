{
 "cells": [
  {
   "cell_type": "markdown",
   "metadata": {},
   "source": [
    "Probelem Statement.\n",
    "\n",
    "You are given an integer array coins (1-indexed) of length n and an integer maxJump. You can jump to any index i of the array coins if coins[i] != -1 and you have to pay coins[i] when you visit index i. In addition to that, if you are currently at index i, you can only jump to any index i + k where i + k <= n and k is a value in the range [1, maxJump].\n",
    "\n",
    "You are initially positioned at index 1 (coins[1] is not -1). You want to find the path that reaches index n with the minimum cost.\n",
    "\n",
    "Return an integer array of the indices that you will visit in order so that you can reach index n with the minimum cost. If there are multiple paths with the same cost, return the lexicographically smallest such path. If it is not possible to reach index n, return an empty array.\n",
    "\n",
    "A path p1 = [Pa1, Pa2, ..., Pax] of length x is lexicographically smaller than p2 = [Pb1, Pb2, ..., Pbx] of length y, if and only if at the first j where Paj and Pbj differ, Paj < Pbj; when no such j exists, then x < y.\n",
    "\n",
    " \n",
    "\n",
    "Example 1:\n",
    "\n",
    "Input: coins = [1,2,4,-1,2], maxJump = 2\n",
    "Output: [1,3,5]\n",
    "\n",
    "Example 2:\n",
    "\n",
    "Input: coins = [1,2,4,-1,2], maxJump = 1\n",
    "Output: []\n",
    "\n",
    " \n",
    "\n",
    "Constraints:\n",
    "\n",
    "    1 <= coins.length <= 1000\n",
    "    -1 <= coins[i] <= 100\n",
    "    coins[1] != -1\n",
    "    1 <= maxJump <= 100"
   ]
  },
  {
   "cell_type": "markdown",
   "metadata": {},
   "source": [
    "# DP - O(N ^ 3 * K) runtime, O(N ^ 2) space"
   ]
  },
  {
   "cell_type": "code",
   "execution_count": 1,
   "metadata": {},
   "outputs": [],
   "source": [
    "from typing import List\n",
    "\n",
    "class Solution:\n",
    "    def cheapestJump(self, coins: List[int], maxJump: int) -> List[int]:\n",
    "        if not coins or coins[0] == -1: return []\n",
    "        \n",
    "        dp = [[float('inf')] for _ in coins]\n",
    "        dp[0] = [coins[0], 1]\n",
    "        \n",
    "        for j in range(1, len(coins)):\n",
    "            if coins[j] == -1: continue\n",
    "            dp[j] = min([dp[i][0] + coins[j]] + dp[i][1:] + [j + 1] for i in range(max(0, j - maxJump), j))\n",
    "            \n",
    "        return dp[-1][1:] if dp[-1][0] < float('inf') else []"
   ]
  },
  {
   "cell_type": "markdown",
   "metadata": {},
   "source": [
    "# DP - O(N ^ 2 * K) runtime, O(N ^ 2) space"
   ]
  },
  {
   "cell_type": "code",
   "execution_count": 2,
   "metadata": {},
   "outputs": [],
   "source": [
    "from typing import List\n",
    "\n",
    "class Solution:\n",
    "    def cheapestJump(self, coins: List[int], maxJump: int) -> List[int]:\n",
    "        n = len(coins)\n",
    "        dp = [float('inf') for _ in range(n)]\n",
    "        paths = [[] for _ in range(n)]\n",
    "        \n",
    "        dp[0], paths[0] = coins[0], [1]\n",
    "        for i in range(n):\n",
    "            for b in range(1, maxJump+1):\n",
    "                nb = i + b\n",
    "                if nb < n and coins[nb] != -1:\n",
    "                    nxt = dp[i] + coins[nb]\n",
    "                    if dp[nb] > nxt or (dp[nb] == nxt and tuple(paths[nb]) > tuple(paths[i] + [nb+1])):\n",
    "                        dp[nb] = nxt\n",
    "                        paths[nb] = paths[i] + [nb+1]\n",
    "       \n",
    "        return [] if dp[n - 1] == float('inf')  else paths[n - 1]"
   ]
  },
  {
   "cell_type": "code",
   "execution_count": 4,
   "metadata": {},
   "outputs": [
    {
     "data": {
      "text/plain": [
       "[1, 3, 5]"
      ]
     },
     "execution_count": 4,
     "metadata": {},
     "output_type": "execute_result"
    }
   ],
   "source": [
    "instance = Solution()\n",
    "instance.cheapestJump([1,2,4,-1,2], 2)"
   ]
  }
 ],
 "metadata": {
  "kernelspec": {
   "display_name": "Python 3",
   "language": "python",
   "name": "python3"
  },
  "language_info": {
   "codemirror_mode": {
    "name": "ipython",
    "version": 3
   },
   "file_extension": ".py",
   "mimetype": "text/x-python",
   "name": "python",
   "nbconvert_exporter": "python",
   "pygments_lexer": "ipython3",
   "version": "3.7.3"
  }
 },
 "nbformat": 4,
 "nbformat_minor": 2
}
