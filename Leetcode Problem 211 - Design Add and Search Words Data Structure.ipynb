{
 "cells": [
  {
   "cell_type": "markdown",
   "metadata": {},
   "source": [
    "Problem Statement. <br/>\n",
    "\n",
    "Design a data structure that supports adding new words and finding if a string matches any previously added string. <br/>\n",
    "\n",
    "Implement the WordDictionary class: <br/>\n",
    "\n",
    "    WordDictionary() Initializes the object. <br/>\n",
    "    void addWord(word) Adds word to the data structure, it can be matched later. <br/>\n",
    "    bool search(word) Returns true if there is any string in the data structure that matches word or false otherwise. word may contain dots '.' where dots can be matched with any letter. <br/>\n",
    "\n",
    "Example: <br/>\n",
    "Input: <br/>\n",
    "[\"WordDictionary\",\"addWord\",\"addWord\",\"addWord\",\"search\",\"search\",\"search\",\"search\"] <br/>\n",
    "[[],[\"bad\"],[\"dad\"],[\"mad\"],[\"pad\"],[\"bad\"],[\".ad\"],[\"b..\"]] <br/>\n",
    "Output: <br/>\n",
    "[null,null,null,null,false,true,true,true] <br/>\n",
    "Explanation <br/>\n",
    "WordDictionary wordDictionary = new WordDictionary(); <br/>\n",
    "wordDictionary.addWord(\"bad\"); <br/>\n",
    "wordDictionary.addWord(\"dad\"); <br/>\n",
    "wordDictionary.addWord(\"mad\"); <br/>\n",
    "wordDictionary.search(\"pad\"); // return False <br/>\n",
    "wordDictionary.search(\"bad\"); // return True <br/>\n",
    "wordDictionary.search(\".ad\"); // return True <br/>\n",
    "wordDictionary.search(\"b..\"); // return True"
   ]
  },
  {
   "cell_type": "markdown",
   "metadata": {},
   "source": [
    "# Brute Force Trie- O(M) add, O(N * 26 ^ M) search runtime, O(M) add, O(M) search space, where M is the key length, and N is a number of keys,"
   ]
  },
  {
   "cell_type": "code",
   "execution_count": 1,
   "metadata": {},
   "outputs": [],
   "source": [
    "class TrieNode:\n",
    "    def __init__(self):\n",
    "        self.charList = {}\n",
    "        self.isEndWord = False\n",
    "        self.char = None\n",
    "\n",
    "class WordDictionary:\n",
    "\n",
    "    def __init__(self):\n",
    "        \"\"\"\n",
    "        Initialize your data structure here.\n",
    "        \"\"\"\n",
    "        self.root = TrieNode()\n",
    "        \n",
    "\n",
    "    def addWord(self, word: str) -> None:\n",
    "        \n",
    "        head = self.root\n",
    "        for char in word:\n",
    "            index = ord(char) - ord('a')\n",
    "            if index not in head.charList:\n",
    "                head.charList[index] = TrieNode()\n",
    "            head = head.charList[index]\n",
    "            head.char = char\n",
    "            \n",
    "        head.isEndWord = True\n",
    "\n",
    "    def search(self, word: str) -> bool:\n",
    "        head = self.root\n",
    "        dotCheckInvoked = False\n",
    "        for i, char in enumerate(word):\n",
    "            if char != '.':\n",
    "                index = ord(char) - ord('a')\n",
    "                if index not in head.charList:\n",
    "                    return False\n",
    "                head = head.charList[index]\n",
    "            else:\n",
    "                dotCheckInvoked = True\n",
    "                result = False\n",
    "                for index in head.charList:\n",
    "                    testChar = chr(ord('a') + index)\n",
    "                    result |= self.search(word[:i] + testChar + word[(i+1):])\n",
    "                return result\n",
    "            \n",
    "        return result if dotCheckInvoked else head.isEndWord"
   ]
  },
  {
   "cell_type": "markdown",
   "metadata": {},
   "source": [
    "# HashMap - O(1) add, O(M * N) search runtime, O(N) add, O(1) search space where M is a length of the word to find, and N is the number of words "
   ]
  },
  {
   "cell_type": "code",
   "execution_count": 3,
   "metadata": {},
   "outputs": [],
   "source": [
    "from collections import defaultdict\n",
    "\n",
    "class WordDictionary:\n",
    "    def __init__(self):\n",
    "        self.d = defaultdict(set)\n",
    "\n",
    "\n",
    "    def addWord(self, word: str) -> None:\n",
    "        self.d[len(word)].add(word)\n",
    "\n",
    "\n",
    "    def search(self, word: str) -> bool:\n",
    "        m = len(word)\n",
    "        for dict_word in self.d[m]:\n",
    "            i = 0\n",
    "            while i < m and (dict_word[i] == word[i] or word[i] == '.'):\n",
    "                i += 1\n",
    "            if i == m:\n",
    "                return True\n",
    "        return False"
   ]
  },
  {
   "cell_type": "markdown",
   "metadata": {},
   "source": [
    "# Trie- O(M) add, O(N * 26 ^ M) search runtime, O(M) add, O(M) search space, where M is the key length, and N is a number of keys,"
   ]
  },
  {
   "cell_type": "code",
   "execution_count": 6,
   "metadata": {},
   "outputs": [],
   "source": [
    "class WordDictionary:\n",
    "\n",
    "    def __init__(self):\n",
    "        \"\"\"\n",
    "        Initialize your data structure here.\n",
    "        \"\"\"\n",
    "        self.trie = {}\n",
    "\n",
    "\n",
    "    def addWord(self, word: str) -> None:\n",
    "        \"\"\"\n",
    "        Adds a word into the data structure.\n",
    "        \"\"\"\n",
    "        node = self.trie\n",
    "\n",
    "        for ch in word:\n",
    "            if not ch in node:\n",
    "                node[ch] = {}\n",
    "            node = node[ch]\n",
    "        node['$'] = True\n",
    "\n",
    "    def search(self, word: str) -> bool:\n",
    "        \"\"\"\n",
    "        Returns if the word is in the data structure. A word could contain the dot character '.' to represent any letter.\n",
    "        \"\"\"\n",
    "        def search_in_node(word, node) -> bool:\n",
    "            for i, ch in enumerate(word):\n",
    "                if not ch in node:\n",
    "                    # if the current character is '.'\n",
    "                    # check all possible nodes at this level\n",
    "                    if ch == '.':\n",
    "                        for x in node:\n",
    "                            if x != '$' and search_in_node(word[i + 1:], node[x]):\n",
    "                                return True\n",
    "                    # if no nodes lead to answer\n",
    "                    # or the current character != '.'\n",
    "                    return False\n",
    "                # if the character is found\n",
    "                # go down to the next level in trie\n",
    "                else:\n",
    "                    node = node[ch]\n",
    "            return '$' in node\n",
    "\n",
    "        return search_in_node(word, self.trie)"
   ]
  },
  {
   "cell_type": "code",
   "execution_count": 7,
   "metadata": {},
   "outputs": [],
   "source": [
    "# Your WordDictionary object will be instantiated and called as such:\n",
    "# obj = WordDictionary()\n",
    "# obj.addWord(word)\n",
    "# param_2 = obj.search(wor"
   ]
  }
 ],
 "metadata": {
  "kernelspec": {
   "display_name": "Python 3",
   "language": "python",
   "name": "python3"
  },
  "language_info": {
   "codemirror_mode": {
    "name": "ipython",
    "version": 3
   },
   "file_extension": ".py",
   "mimetype": "text/x-python",
   "name": "python",
   "nbconvert_exporter": "python",
   "pygments_lexer": "ipython3",
   "version": "3.7.3"
  }
 },
 "nbformat": 4,
 "nbformat_minor": 2
}
