{
 "cells": [
  {
   "cell_type": "markdown",
   "metadata": {},
   "source": [
    "Problem Statement.\n",
    "\n",
    "There is a long and thin painting that can be represented by a number line. You are given a 0-indexed 2D integer array paint of length n, where paint[i] = [starti, endi]. This means that on the ith day you need to paint the area between starti and endi.\n",
    "\n",
    "Painting the same area multiple times will create an uneven painting so you only want to paint each area of the painting at most once.\n",
    "\n",
    "Return an integer array worklog of length n, where worklog[i] is the amount of new area that you painted on the ith day.\n",
    "\n",
    "Example 1:\n",
    "\n",
    "Input: paint = [[1,4],[4,7],[5,8]]\n",
    "Output: [3,3,1]\n",
    "Explanation:\n",
    "On day 0, paint everything between 1 and 4.\n",
    "The amount of new area painted on day 0 is 4 - 1 = 3.\n",
    "On day 1, paint everything between 4 and 7.\n",
    "The amount of new area painted on day 1 is 7 - 4 = 3.\n",
    "On day 2, paint everything between 7 and 8.\n",
    "Everything between 5 and 7 was already painted on day 1.\n",
    "The amount of new area painted on day 2 is 8 - 7 = 1. \n",
    "\n",
    "Example 2:\n",
    "\n",
    "Input: paint = [[1,4],[5,8],[4,7]]\n",
    "Output: [3,3,1]\n",
    "Explanation:\n",
    "On day 0, paint everything between 1 and 4.\n",
    "The amount of new area painted on day 0 is 4 - 1 = 3.\n",
    "On day 1, paint everything between 5 and 8.\n",
    "The amount of new area painted on day 1 is 8 - 5 = 3.\n",
    "On day 2, paint everything between 4 and 5.\n",
    "Everything between 5 and 7 was already painted on day 1.\n",
    "The amount of new area painted on day 2 is 5 - 4 = 1. \n",
    "\n",
    "Example 3:\n",
    "\n",
    "Input: paint = [[1,5],[2,4]]\n",
    "Output: [4,0]\n",
    "Explanation:\n",
    "On day 0, paint everything between 1 and 5.\n",
    "The amount of new area painted on day 0 is 5 - 1 = 4.\n",
    "On day 1, paint nothing because everything between 2 and 4 was already painted on day 0.\n",
    "The amount of new area painted on day 1 is 0.\n",
    "\n",
    "Constraints:\n",
    "\n",
    "    1 <= paint.length <= 10^5\n",
    "    paint[i].length == 2\n",
    "    0 <= starti < endi <= 5 * 10^4"
   ]
  },
  {
   "cell_type": "markdown",
   "metadata": {},
   "source": [
    "# Line Sweep - O(N * Log N) runtime, O(N) space"
   ]
  },
  {
   "cell_type": "code",
   "execution_count": 7,
   "metadata": {},
   "outputs": [],
   "source": [
    "from typing import List\n",
    "from heapq import heappush, heappop\n",
    "\n",
    "class Solution:\n",
    "    def amountPainted(self, paint: List[List[int]]) -> List[int]:\n",
    "        records = []\n",
    "        max_pos = 0\n",
    "        \n",
    "        for i, [start, end] in enumerate(paint):\n",
    "            records.append((start, i, 1)) # use 1 and -1 to records the type.\n",
    "            records.append((end, i, -1))\n",
    "            max_pos = max(max_pos, end)\n",
    "            \n",
    "        records.sort()\n",
    "\n",
    "        # sweep across all position\n",
    "        ans = [0] * len(paint)\n",
    "        indexes = []\n",
    "        ended_set = set()\n",
    "        \n",
    "        i = 0\n",
    "        for pos in range(max_pos + 1):\n",
    "            while i < len(records) and records[i][0] == pos:\n",
    "                pos, index, type = records[i]\n",
    "                if type == 1: heapq.heappush(indexes, index)\n",
    "                else: ended_set.add(index)\n",
    "                i += 1\n",
    "            \n",
    "            while indexes and indexes[0] in ended_set:\n",
    "                heapq.heappop(indexes)\n",
    "\n",
    "            if indexes: ans[indexes[0]] += 1\n",
    "                \n",
    "        return ans"
   ]
  },
  {
   "cell_type": "markdown",
   "metadata": {},
   "source": [
    "# Jump Line - O(N * L) runtime, O(L) space, where N is the length of array and L is length of constraint"
   ]
  },
  {
   "cell_type": "code",
   "execution_count": 3,
   "metadata": {},
   "outputs": [],
   "source": [
    "from typing import List\n",
    "\n",
    "class Solution:\n",
    "    def amountPainted(self, paint: List[List[int]]) -> List[int]:\n",
    "        line, res = [0] * 50001, [0] * len(paint)\n",
    "        \n",
    "        for i, (start, end) in enumerate(paint):\n",
    "            while start < end:\n",
    "                jump = max(start + 1, line[start])\n",
    "                res[i] += 1 if line[start] == 0 else 0\n",
    "                line[start] = max(line[start], end)  # compression\n",
    "                start = jump\n",
    "                \n",
    "        return res"
   ]
  },
  {
   "cell_type": "code",
   "execution_count": 8,
   "metadata": {},
   "outputs": [
    {
     "data": {
      "text/plain": [
       "[3, 3, 1]"
      ]
     },
     "execution_count": 8,
     "metadata": {},
     "output_type": "execute_result"
    }
   ],
   "source": [
    "instance = Solution()\n",
    "instance.amountPainted([[1,4],[5,8],[4,7]])"
   ]
  }
 ],
 "metadata": {
  "kernelspec": {
   "display_name": "Python 3",
   "language": "python",
   "name": "python3"
  },
  "language_info": {
   "codemirror_mode": {
    "name": "ipython",
    "version": 3
   },
   "file_extension": ".py",
   "mimetype": "text/x-python",
   "name": "python",
   "nbconvert_exporter": "python",
   "pygments_lexer": "ipython3",
   "version": "3.7.3"
  }
 },
 "nbformat": 4,
 "nbformat_minor": 2
}
