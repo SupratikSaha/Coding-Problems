{
 "cells": [
  {
   "cell_type": "markdown",
   "metadata": {},
   "source": [
    "Problem Statement. <br/>\n",
    "\n",
    "A newly designed keypad was tested, where a tester pressed a sequence of n keys, one at a time. <br/>\n",
    "You are given a string keysPressed of length n, where keysPressed[i] was the ith key pressed in the testing sequence, and a sorted list releaseTimes, where releaseTimes[i] was the time the ith key was released. Both arrays are 0-indexed. The 0th key was pressed at the time 0, and every subsequent key was pressed at the exact time the previous key was released. <br/>\n",
    "The tester wants to know the key of the keypress that had the longest duration. The ith keypress had a duration of releaseTimes[i] - releaseTimes[i - 1], and the 0th keypress had a duration of releaseTimes[0]. <br/>\n",
    "Note that the same key could have been pressed multiple times during the test, and these multiple presses of the same key may not have had the same duration. <br/>\n",
    "Return the key of the keypress that had the longest duration. If there are multiple such keypresses, return the lexicographically largest key of the keypresses. <br/>\n",
    "\n",
    "Example 1: <br/>\n",
    "Input: releaseTimes = [9,29,49,50], keysPressed = \"cbcd\" <br/>\n",
    "Output: \"c\" <br/>\n",
    "Explanation: The keypresses were as follows: <br/>\n",
    "Keypress for 'c' had a duration of 9 (pressed at time 0 and released at time 9). <br/>\n",
    "Keypress for 'b' had a duration of 29 - 9 = 20 (pressed at time 9 right after the release of the previous character and released at time 29). <br/>\n",
    "Keypress for 'c' had a duration of 49 - 29 = 20 (pressed at time 29 right after the release of the previous character and released at time 49). <br/>\n",
    "Keypress for 'd' had a duration of 50 - 49 = 1 (pressed at time 49 right after the release of the previous character and released at time 50). <br/>\n",
    "The longest of these was the keypress for 'b' and the second keypress for 'c', both with duration 20. <br/>\n",
    "'c' is lexicographically larger than 'b', so the answer is 'c'. <br/>\n",
    "\n",
    "Example 2: <br/>\n",
    "Input: releaseTimes = [12,23,36,46,62], keysPressed = \"spuda\" <br/>\n",
    "Output: \"a\" <br/>\n",
    "Explanation: The keypresses were as follows: <br/>\n",
    "Keypress for 's' had a duration of 12. <br/>\n",
    "Keypress for 'p' had a duration of 23 - 12 = 11. <br/>\n",
    "Keypress for 'u' had a duration of 36 - 23 = 13. <br/>\n",
    "Keypress for 'd' had a duration of 46 - 36 = 10. <br/>\n",
    "Keypress for 'a' had a duration of 62 - 46 = 16. <br/>\n",
    "The longest of these was the keypress for 'a' with duration 16."
   ]
  },
  {
   "cell_type": "markdown",
   "metadata": {},
   "source": [
    "# Iterate List - O(N) runtime, O(1) space"
   ]
  },
  {
   "cell_type": "code",
   "execution_count": 3,
   "metadata": {},
   "outputs": [],
   "source": [
    "from typing import List\n",
    "\n",
    "class Solution:\n",
    "    def slowestKey(self, releaseTimes: List[int], keysPressed: str) -> str:\n",
    "        k, t = keysPressed[0], releaseTimes[0]\n",
    "        \n",
    "        for i in range(1, len(keysPressed)):\n",
    "            time = releaseTimes[i] - releaseTimes[i-1] \n",
    "            if time > t or (time == t and keysPressed[i] > k):\n",
    "                t = time\n",
    "                k = keysPressed[i]\n",
    "        \n",
    "        return k"
   ]
  },
  {
   "cell_type": "code",
   "execution_count": 4,
   "metadata": {},
   "outputs": [
    {
     "data": {
      "text/plain": [
       "'a'"
      ]
     },
     "execution_count": 4,
     "metadata": {},
     "output_type": "execute_result"
    }
   ],
   "source": [
    "instance = Solution()\n",
    "instance.slowestKey( [12,23,36,46,62], \"spuda\")"
   ]
  }
 ],
 "metadata": {
  "kernelspec": {
   "display_name": "Python 3",
   "language": "python",
   "name": "python3"
  },
  "language_info": {
   "codemirror_mode": {
    "name": "ipython",
    "version": 3
   },
   "file_extension": ".py",
   "mimetype": "text/x-python",
   "name": "python",
   "nbconvert_exporter": "python",
   "pygments_lexer": "ipython3",
   "version": "3.7.3"
  }
 },
 "nbformat": 4,
 "nbformat_minor": 2
}
