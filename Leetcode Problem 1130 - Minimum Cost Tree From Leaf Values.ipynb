{
 "cells": [
  {
   "cell_type": "markdown",
   "metadata": {},
   "source": [
    "Problem Statement.\n",
    "\n",
    "Given an array arr of positive integers, consider all binary trees such that:\n",
    "\n",
    "    Each node has either 0 or 2 children;\n",
    "    The values of arr correspond to the values of each leaf in an in-order traversal of the tree.\n",
    "    The value of each non-leaf node is equal to the product of the largest leaf value in its left and right subtree, respectively.\n",
    "\n",
    "Among all possible binary trees considered, return the smallest possible sum of the values of each non-leaf node. It is guaranteed this sum fits into a 32-bit integer.\n",
    "\n",
    "A node is a leaf if and only if it has zero children.\n",
    "\n",
    " \n",
    "\n",
    "Example 1:\n",
    "\n",
    "Input: arr = [6,2,4]\n",
    "Output: 32\n",
    "Explanation: There are two possible trees shown.\n",
    "The first has a non-leaf node sum 36, and the second has non-leaf node sum 32.\n",
    "\n",
    "Example 2:\n",
    "\n",
    "Input: arr = [4,11]\n",
    "Output: 44\n",
    "\n",
    " \n",
    "\n",
    "Constraints:\n",
    "\n",
    "    2 <= arr.length <= 40\n",
    "    1 <= arr[i] <= 15\n",
    "    It is guaranteed that the answer fits into a 32-bit signed integer (i.e., it is less than 2^31)."
   ]
  },
  {
   "cell_type": "markdown",
   "metadata": {},
   "source": [
    "# DP - O(N) runtime, O(N) space"
   ]
  },
  {
   "cell_type": "code",
   "execution_count": 1,
   "metadata": {},
   "outputs": [],
   "source": [
    "from typing import List\n",
    "\n",
    "class Solution:\n",
    "    def mctFromLeafValues(self, arr: List[int]) -> int:\n",
    "        res = 0\n",
    "        stack = [float('inf')]\n",
    "        \n",
    "        for a in arr:\n",
    "            while stack[-1] <= a:\n",
    "                mid = stack.pop()\n",
    "                res += mid * min(stack[-1], a)\n",
    "            stack.append(a)\n",
    "        while len(stack) > 2:\n",
    "            res += stack.pop() * stack[-1]\n",
    "        return res"
   ]
  },
  {
   "cell_type": "code",
   "execution_count": 2,
   "metadata": {},
   "outputs": [
    {
     "data": {
      "text/plain": [
       "32"
      ]
     },
     "execution_count": 2,
     "metadata": {},
     "output_type": "execute_result"
    }
   ],
   "source": [
    "instance = Solution()\n",
    "instance.mctFromLeafValues([6,2,4])"
   ]
  }
 ],
 "metadata": {
  "kernelspec": {
   "display_name": "Python 3",
   "language": "python",
   "name": "python3"
  },
  "language_info": {
   "codemirror_mode": {
    "name": "ipython",
    "version": 3
   },
   "file_extension": ".py",
   "mimetype": "text/x-python",
   "name": "python",
   "nbconvert_exporter": "python",
   "pygments_lexer": "ipython3",
   "version": "3.7.3"
  }
 },
 "nbformat": 4,
 "nbformat_minor": 2
}
