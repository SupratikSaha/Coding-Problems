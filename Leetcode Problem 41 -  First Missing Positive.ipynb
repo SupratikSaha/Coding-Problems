{
 "cells": [
  {
   "cell_type": "markdown",
   "metadata": {},
   "source": [
    "Problem Statement.\n",
    "\n",
    "Given an unsorted integer array nums, return the smallest missing positive integer.\n",
    "\n",
    "You must implement an algorithm that runs in O(n) time and uses constant extra space.\n",
    "\n",
    " \n",
    "\n",
    "Example 1:\n",
    "\n",
    "Input: nums = [1,2,0]\n",
    "Output: 3\n",
    "\n",
    "Example 2:\n",
    "\n",
    "Input: nums = [3,4,-1,1]\n",
    "Output: 2\n",
    "\n",
    "Example 3:\n",
    "\n",
    "Input: nums = [7,8,9,11,12]\n",
    "Output: 1\n",
    "\n",
    " \n",
    "\n",
    "Constraints:\n",
    "\n",
    "    1 <= nums.length <= 5 * 10^5\n",
    "    -2^31 <= nums[i] <= 2^31 - 1"
   ]
  },
  {
   "cell_type": "code",
   "execution_count": 1,
   "metadata": {},
   "outputs": [],
   "source": [
    "class Solution:\n",
    "    def firstMissingPositive(self, nums: List[int]) -> int:\n",
    "        nums.append(0)\n",
    "        n = len(nums)\n",
    "        \n",
    "        for i in range(len(nums)): #delete those useless elements\n",
    "            if nums[i]<0 or nums[i]>=n:\n",
    "                nums[i]=0\n",
    "                \n",
    "        for i in range(len(nums)): \n",
    "            #use the index as the hash to record the frequency of each number\n",
    "            nums[nums[i]%n]+=n\n",
    "\n",
    "        for i in range(1,len(nums)):\n",
    "            if nums[i]//n==0:\n",
    "                return i\n",
    "        return n"
   ]
  },
  {
   "cell_type": "code",
   "execution_count": 3,
   "metadata": {},
   "outputs": [
    {
     "data": {
      "text/plain": [
       "1"
      ]
     },
     "execution_count": 3,
     "metadata": {},
     "output_type": "execute_result"
    }
   ],
   "source": [
    "instance = Solution()\n",
    "instance.firstMissingPositive([-1,0,3,5,7])"
   ]
  }
 ],
 "metadata": {
  "kernelspec": {
   "display_name": "Python 3",
   "language": "python",
   "name": "python3"
  },
  "language_info": {
   "codemirror_mode": {
    "name": "ipython",
    "version": 3
   },
   "file_extension": ".py",
   "mimetype": "text/x-python",
   "name": "python",
   "nbconvert_exporter": "python",
   "pygments_lexer": "ipython3",
   "version": "3.7.3"
  }
 },
 "nbformat": 4,
 "nbformat_minor": 2
}
