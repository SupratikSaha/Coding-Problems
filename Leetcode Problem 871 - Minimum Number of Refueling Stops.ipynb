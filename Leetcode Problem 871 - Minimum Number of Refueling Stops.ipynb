{
 "cells": [
  {
   "cell_type": "markdown",
   "metadata": {},
   "source": [
    "Problem Statement.\n",
    "\n",
    "A car travels from a starting position to a destination which is target miles east of the starting position.\n",
    "\n",
    "There are gas stations along the way. The gas stations are represented as an array stations where stations[i] = [positioni, fueli] indicates that the ith gas station is positioni miles east of the starting position and has fueli liters of gas.\n",
    "\n",
    "The car starts with an infinite tank of gas, which initially has startFuel liters of fuel in it. It uses one liter of gas per one mile that it drives. When the car reaches a gas station, it may stop and refuel, transferring all the gas from the station into the car.\n",
    "\n",
    "Return the minimum number of refueling stops the car must make in order to reach its destination. If it cannot reach the destination, return -1.\n",
    "\n",
    "Note that if the car reaches a gas station with 0 fuel left, the car can still refuel there. If the car reaches the destination with 0 fuel left, it is still considered to have arrived.\n",
    "\n",
    " \n",
    "\n",
    "Example 1:\n",
    "\n",
    "Input: target = 1, startFuel = 1, stations = []\n",
    "Output: 0\n",
    "Explanation: We can reach the target without refueling.\n",
    "\n",
    "Example 2:\n",
    "\n",
    "Input: target = 100, startFuel = 1, stations = [[10,100]]\n",
    "Output: -1\n",
    "Explanation: We can not reach the target (or even the first gas station).\n",
    "\n",
    "Example 3:\n",
    "\n",
    "Input: target = 100, startFuel = 10, stations = [[10,60],[20,30],[30,30],[60,40]]\n",
    "Output: 2\n",
    "Explanation: We start with 10 liters of fuel.\n",
    "We drive to position 10, expending 10 liters of fuel.  We refuel from 0 liters to 60 liters of gas.\n",
    "Then, we drive from position 10 to position 60 (expending 50 liters of fuel),\n",
    "and refuel from 10 liters to 50 liters of gas.  We then drive to and reach the target.\n",
    "We made 2 refueling stops along the way, so we return 2.\n",
    "\n",
    " \n",
    "\n",
    "Constraints:\n",
    "\n",
    "    1 <= target, startFuel <= 10^9\n",
    "    0 <= stations.length <= 500\n",
    "    0 <= positioni <= positioni+1 < target\n",
    "    1 <= fueli < 10^9"
   ]
  },
  {
   "cell_type": "markdown",
   "metadata": {},
   "source": [
    "# Maxheap - O(N * Log N) runtime, O(N) space"
   ]
  },
  {
   "cell_type": "code",
   "execution_count": 1,
   "metadata": {},
   "outputs": [],
   "source": [
    "from typing import List\n",
    "\n",
    "class Solution:\n",
    "    def minRefuelStops(self, target: int, startFuel: int, stations: List[List[int]]) -> int:\n",
    "        maxheap = []  # A maxheap is simulated using negative values\n",
    "        stations.append((target, float('inf')))\n",
    "\n",
    "        ans = prev = 0\n",
    "        for location, capacity in stations:\n",
    "            startFuel -= location - prev\n",
    "            while maxheap and startFuel < 0:  # must refuel in past\n",
    "                startFuel += -heappop(maxheap)\n",
    "                ans += 1\n",
    "            if startFuel < 0: return -1\n",
    "            heappush(maxheap, -capacity)\n",
    "            prev = location\n",
    "\n",
    "        return ans"
   ]
  },
  {
   "cell_type": "code",
   "execution_count": 2,
   "metadata": {},
   "outputs": [
    {
     "data": {
      "text/plain": [
       "-1"
      ]
     },
     "execution_count": 2,
     "metadata": {},
     "output_type": "execute_result"
    }
   ],
   "source": [
    "instance = Solution()\n",
    "instance.minRefuelStops(100, 1, [[10, 100]])"
   ]
  }
 ],
 "metadata": {
  "kernelspec": {
   "display_name": "Python 3",
   "language": "python",
   "name": "python3"
  },
  "language_info": {
   "codemirror_mode": {
    "name": "ipython",
    "version": 3
   },
   "file_extension": ".py",
   "mimetype": "text/x-python",
   "name": "python",
   "nbconvert_exporter": "python",
   "pygments_lexer": "ipython3",
   "version": "3.7.3"
  }
 },
 "nbformat": 4,
 "nbformat_minor": 2
}
