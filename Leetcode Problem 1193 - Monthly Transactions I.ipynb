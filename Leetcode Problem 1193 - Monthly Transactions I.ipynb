{
 "cells": [
  {
   "cell_type": "markdown",
   "metadata": {},
   "source": [
    "    Problem Statement.\n",
    "\n",
    "    Table: Transactions\n",
    "\n",
    "    +---------------+---------+\n",
    "    | Column Name   | Type    |\n",
    "    +---------------+---------+\n",
    "    | id            | int     |\n",
    "    | country       | varchar |\n",
    "    | state         | enum    |\n",
    "    | amount        | int     |\n",
    "    | trans_date    | date    |\n",
    "    +---------------+---------+\n",
    "    id is the primary key of this table.\n",
    "    The table has information about incoming transactions.\n",
    "    The state column is an enum of type [\"approved\", \"declined\"].\n",
    "\n",
    "\n",
    "\n",
    "    Write an SQL query to find for each month and country, the number of transactions and their total amount, the number of approved transactions and their total amount.\n",
    "\n",
    "    Return the result table in any order.\n",
    "\n",
    "    The query result format is in the following example.\n",
    "\n",
    "\n",
    "\n",
    "    Example 1:\n",
    "\n",
    "    Input: \n",
    "    Transactions table:\n",
    "    +------+---------+----------+--------+------------+\n",
    "    | id   | country | state    | amount | trans_date |\n",
    "    +------+---------+----------+--------+------------+\n",
    "    | 121  | US      | approved | 1000   | 2018-12-18 |\n",
    "    | 122  | US      | declined | 2000   | 2018-12-19 |\n",
    "    | 123  | US      | approved | 2000   | 2019-01-01 |\n",
    "    | 124  | DE      | approved | 2000   | 2019-01-07 |\n",
    "    +------+---------+----------+--------+------------+\n",
    "    Output: \n",
    "    +----------+---------+-------------+----------------+--------------------+-----------------------+\n",
    "    | month    | country | trans_count | approved_count | trans_total_amount | approved_total_amount |\n",
    "    +----------+---------+-------------+----------------+--------------------+-----------------------+\n",
    "    | 2018-12  | US      | 2           | 1              | 3000               | 1000                  |\n",
    "    | 2019-01  | US      | 1           | 1              | 2000               | 2000                  |\n",
    "    | 2019-01  | DE      | 1           | 1              | 2000               | 2000                  |\n",
    "    +----------+---------+-------------+----------------+--------------------+-----------------------+"
   ]
  },
  {
   "cell_type": "markdown",
   "metadata": {},
   "source": [
    "# Case and Group By"
   ]
  },
  {
   "cell_type": "code",
   "execution_count": null,
   "metadata": {},
   "outputs": [],
   "source": [
    "select left(trans_date, 7) as month, country, count(*) as trans_count,\n",
    "sum(case when state = 'approved' then 1 else 0 end) as approved_count,\n",
    "sum(amount) as trans_total_amount,\n",
    "sum(case when state = 'approved' then amount else 0 end) as approved_total_amount\n",
    "from Transactions\n",
    "group by month, country"
   ]
  }
 ],
 "metadata": {
  "kernelspec": {
   "display_name": "Python 3",
   "language": "python",
   "name": "python3"
  },
  "language_info": {
   "codemirror_mode": {
    "name": "ipython",
    "version": 3
   },
   "file_extension": ".py",
   "mimetype": "text/x-python",
   "name": "python",
   "nbconvert_exporter": "python",
   "pygments_lexer": "ipython3",
   "version": "3.7.3"
  }
 },
 "nbformat": 4,
 "nbformat_minor": 2
}
