{
 "cells": [
  {
   "cell_type": "markdown",
   "metadata": {},
   "source": [
    "Problem Statement.\n",
    "\n",
    "Given a non-empty special binary tree consisting of nodes with the non-negative value, where each node in this tree has exactly two or zero sub-node. If the node has two sub-nodes, then this node's value is the smaller value among its two sub-nodes. More formally, the property root.val = min(root.left.val, root.right.val) always holds.\n",
    "\n",
    "Given such a binary tree, you need to output the second minimum value in the set made of all the nodes' value in the whole tree.\n",
    "\n",
    "If no such second minimum value exists, output -1 instead.\n",
    "\n",
    " \n",
    "\n",
    " \n",
    "\n",
    "Example 1:\n",
    "\n",
    "Input: root = [2,2,5,null,null,5,7]\n",
    "Output: 5\n",
    "Explanation: The smallest value is 2, the second smallest value is 5.\n",
    "\n",
    "Example 2:\n",
    "\n",
    "Input: root = [2,2,2]\n",
    "Output: -1\n",
    "Explanation: The smallest value is 2, but there isn't any second smallest value.\n",
    "\n",
    " \n",
    "\n",
    "Constraints:\n",
    "\n",
    "    The number of nodes in the tree is in the range [1, 25].\n",
    "    1 <= Node.val <= 231 - 1\n",
    "    root.val == min(root.left.val, root.right.val) for each internal node of the tree."
   ]
  },
  {
   "cell_type": "markdown",
   "metadata": {},
   "source": [
    "# DFS - O(N) runtime, O(N) space"
   ]
  },
  {
   "cell_type": "code",
   "execution_count": 2,
   "metadata": {},
   "outputs": [],
   "source": [
    "#Definition for a binary tree node.\n",
    "# class TreeNode:\n",
    "#     def __init__(self, val=0, left=None, right=None):\n",
    "#         self.val = val\n",
    "#         self.left = left\n",
    "#         self.right = right\n",
    "\n",
    "class Solution:\n",
    "    def findSecondMinimumValue(self, root: TreeNode) -> int:\n",
    "        if not root: return -1\n",
    "        \n",
    "        def checkMin(node):\n",
    "            nonlocal nextMin\n",
    "            if not node: return\n",
    "            if root.val < node.val < nextMin: nextMin = node.val\n",
    "            elif node.val  == root.val:\n",
    "                checkMin(node.left)\n",
    "                checkMin(node.right)\n",
    "          \n",
    "        nextMin = float('inf')\n",
    "        checkMin(root)\n",
    "        return -1 if nextMin == float('inf') else nextMin"
   ]
  }
 ],
 "metadata": {
  "kernelspec": {
   "display_name": "Python 3",
   "language": "python",
   "name": "python3"
  },
  "language_info": {
   "codemirror_mode": {
    "name": "ipython",
    "version": 3
   },
   "file_extension": ".py",
   "mimetype": "text/x-python",
   "name": "python",
   "nbconvert_exporter": "python",
   "pygments_lexer": "ipython3",
   "version": "3.7.3"
  }
 },
 "nbformat": 4,
 "nbformat_minor": 2
}
