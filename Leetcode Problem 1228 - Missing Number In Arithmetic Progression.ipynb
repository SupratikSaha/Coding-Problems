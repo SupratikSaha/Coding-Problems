{
 "cells": [
  {
   "cell_type": "markdown",
   "metadata": {},
   "source": [
    "Problem Statement.\n",
    "\n",
    "In some array arr, the values were in arithmetic progression: the values arr[i+1] - arr[i] are all equal for every 0 <= i < arr.length - 1.\n",
    "\n",
    "Then, a value from arr was removed that was not the first or last value in the array.\n",
    "\n",
    "Return the removed value.\n",
    "\n",
    " \n",
    "\n",
    "Example 1:\n",
    "\n",
    "Input: arr = [5,7,11,13]\n",
    "Output: 9\n",
    "Explanation: The previous array was [5,7,9,11,13].\n",
    "\n",
    "Example 2:\n",
    "\n",
    "Input: arr = [15,13,12]\n",
    "Output: 14\n",
    "Explanation: The previous array was [15,14,13,12].\n",
    "\n",
    " \n",
    "\n",
    "Constraints:\n",
    "\n",
    "    3 <= arr.length <= 1000\n",
    "    0 <= arr[i] <= 10^5"
   ]
  },
  {
   "cell_type": "markdown",
   "metadata": {},
   "source": [
    "# Linear Search and HashTable - O(N) runtime, O(1) space"
   ]
  },
  {
   "cell_type": "code",
   "execution_count": 1,
   "metadata": {},
   "outputs": [],
   "source": [
    "from typing import List\n",
    "\n",
    "class Solution:\n",
    "    def missingNumber(self, arr: List[int]) -> int:\n",
    "        diffDict = {}\n",
    "        requiredDiff = None\n",
    "        \n",
    "        for i in range(len(arr) - 1):\n",
    "            diff = arr[i] - arr[i+1]\n",
    "            if diff not in diffDict: diffDict[diff] = i\n",
    "                \n",
    "            if len(diffDict) == 2:\n",
    "                requiredDiff = min(diffDict.keys(), key=lambda x: abs(x))\n",
    "                diffDict.pop(requiredDiff)\n",
    "                break\n",
    "                \n",
    "        if requiredDiff is None: return arr[0]  \n",
    "        \n",
    "        for d, i in diffDict.items():\n",
    "            return arr[i] - requiredDiff"
   ]
  },
  {
   "cell_type": "markdown",
   "metadata": {},
   "source": [
    "# Simple Linear Search - O(N) runtime, O(1) space"
   ]
  },
  {
   "cell_type": "code",
   "execution_count": 2,
   "metadata": {},
   "outputs": [],
   "source": [
    "from typing import List\n",
    "\n",
    "class Solution:\n",
    "    def missingNumber(self, arr: List[int]) -> int:\n",
    "        n = len(arr)\n",
    "\n",
    "        difference = (arr[n-1] - arr[0]) // n\n",
    "        \n",
    "        expected = arr[0]\n",
    "\n",
    "        for val in arr:\n",
    "            # Return the expected value that doesn't match val.\n",
    "            if (val != expected): return expected\n",
    "\n",
    "            # Next element will be expected element + `difference`.\n",
    "            expected += difference\n",
    "        \n",
    "        return expected"
   ]
  },
  {
   "cell_type": "markdown",
   "metadata": {},
   "source": [
    "# Binary Search - O(Log N) runtime, O(1) space"
   ]
  },
  {
   "cell_type": "code",
   "execution_count": 3,
   "metadata": {},
   "outputs": [],
   "source": [
    "from typing import List\n",
    "\n",
    "class Solution:\n",
    "    def missingNumber(self, arr: List[int]) -> int:\n",
    "        n = len(arr)\n",
    "\n",
    "        difference = (arr[n-1] - arr[0]) // n\n",
    "        \n",
    "        lo, hi = 0, n - 1\n",
    "        while (lo < hi):\n",
    "            mid = lo + (hi - lo) // 2\n",
    "\n",
    "            if arr[mid] == arr[0] + (mid * difference):\n",
    "                lo = mid + 1\n",
    "            else:\n",
    "                hi = mid\n",
    "\n",
    "        return arr[0] + difference * lo"
   ]
  },
  {
   "cell_type": "code",
   "execution_count": 4,
   "metadata": {},
   "outputs": [
    {
     "data": {
      "text/plain": [
       "9"
      ]
     },
     "execution_count": 4,
     "metadata": {},
     "output_type": "execute_result"
    }
   ],
   "source": [
    "instance = Solution()\n",
    "instance.missingNumber([5,7,11,13])"
   ]
  }
 ],
 "metadata": {
  "kernelspec": {
   "display_name": "Python 3",
   "language": "python",
   "name": "python3"
  },
  "language_info": {
   "codemirror_mode": {
    "name": "ipython",
    "version": 3
   },
   "file_extension": ".py",
   "mimetype": "text/x-python",
   "name": "python",
   "nbconvert_exporter": "python",
   "pygments_lexer": "ipython3",
   "version": "3.7.3"
  }
 },
 "nbformat": 4,
 "nbformat_minor": 2
}
