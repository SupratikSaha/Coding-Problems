{
 "cells": [
  {
   "cell_type": "markdown",
   "metadata": {},
   "source": [
    "Problem Statement.\n",
    "\n",
    " Given a list of sorted characters letters containing only lowercase letters, and given a target letter target, find the smallest element in the list that is larger than the given target.\n",
    "\n",
    "Letters also wrap around. For example, if the target is target = 'z' and letters = ['a', 'b'], the answer is 'a'.\n",
    "\n",
    "Examples:\n",
    "\n",
    "Input:\n",
    "letters = [\"c\", \"f\", \"j\"]\n",
    "target = \"a\"\n",
    "Output: \"c\"\n",
    "\n",
    "Input:\n",
    "letters = [\"c\", \"f\", \"j\"]\n",
    "target = \"c\"\n",
    "Output: \"f\"\n",
    "\n",
    "Input:\n",
    "letters = [\"c\", \"f\", \"j\"]\n",
    "target = \"d\"\n",
    "Output: \"f\"\n",
    "\n",
    "Input:\n",
    "letters = [\"c\", \"f\", \"j\"]\n",
    "target = \"g\"\n",
    "Output: \"j\"\n",
    "\n",
    "Input:\n",
    "letters = [\"c\", \"f\", \"j\"]\n",
    "target = \"j\"\n",
    "Output: \"c\"\n",
    "\n",
    "Input:\n",
    "letters = [\"c\", \"f\", \"j\"]\n",
    "target = \"k\"\n",
    "Output: \"c\"\n",
    "\n",
    "Note:\n",
    "\n",
    "    letters has a length in range [2, 10000].\n",
    "    letters consists of lowercase letters, and contains at least 2 unique letters.\n",
    "    target is a lowercase letter."
   ]
  },
  {
   "cell_type": "markdown",
   "metadata": {},
   "source": [
    "# Binary Search - O(Log N) runtime, O(1) space"
   ]
  },
  {
   "cell_type": "code",
   "execution_count": 1,
   "metadata": {},
   "outputs": [],
   "source": [
    "from typing import List\n",
    "\n",
    "class Solution:\n",
    "    def nextGreatestLetter(self, letters: List[str], target: str) -> str:\n",
    "        if target >= letters[-1]: return letters[0]\n",
    "        \n",
    "        closestLetter = None\n",
    "        left, right = 0, len(letters) - 1\n",
    "        while left <= right:\n",
    "            mid = left + (right - left) // 2\n",
    "            if target >= letters[mid]: \n",
    "                left = mid + 1\n",
    "            else: \n",
    "                closestLetter = letters[mid]\n",
    "                right = mid - 1\n",
    "                \n",
    "        return closestLetter"
   ]
  },
  {
   "cell_type": "markdown",
   "metadata": {},
   "source": [
    "# Simpler Binary Search - O(Log N) runtime, O(1) space"
   ]
  },
  {
   "cell_type": "code",
   "execution_count": 3,
   "metadata": {},
   "outputs": [],
   "source": [
    "from typing import List\n",
    "\n",
    "class Solution:\n",
    "    def nextGreatestLetter(self, letters: List[str], target: str) -> str:\n",
    "\n",
    "        left, right = 0, len(letters) - 1\n",
    "        while left <= right:\n",
    "            mid = left + (right - left) // 2\n",
    "            if target >= letters[mid]: \n",
    "                left = mid + 1\n",
    "            else: \n",
    "                right = mid - 1\n",
    "                \n",
    "        return letters[left % len(letters)]"
   ]
  },
  {
   "cell_type": "code",
   "execution_count": 4,
   "metadata": {},
   "outputs": [
    {
     "data": {
      "text/plain": [
       "'j'"
      ]
     },
     "execution_count": 4,
     "metadata": {},
     "output_type": "execute_result"
    }
   ],
   "source": [
    "instance = Solution()\n",
    "instance.nextGreatestLetter([\"c\", \"f\", \"j\"], \"f\")"
   ]
  }
 ],
 "metadata": {
  "kernelspec": {
   "display_name": "Python 3",
   "language": "python",
   "name": "python3"
  },
  "language_info": {
   "codemirror_mode": {
    "name": "ipython",
    "version": 3
   },
   "file_extension": ".py",
   "mimetype": "text/x-python",
   "name": "python",
   "nbconvert_exporter": "python",
   "pygments_lexer": "ipython3",
   "version": "3.7.3"
  }
 },
 "nbformat": 4,
 "nbformat_minor": 2
}
