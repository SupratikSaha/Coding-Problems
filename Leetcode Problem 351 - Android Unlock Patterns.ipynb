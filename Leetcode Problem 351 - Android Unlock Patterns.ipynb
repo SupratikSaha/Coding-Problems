{
 "cells": [
  {
   "cell_type": "markdown",
   "metadata": {},
   "source": [
    "Given an Android 3x3 key lock screen and two integers m and n, where 1 ≤ m ≤ n ≤ 9, count the total number of unlock patterns of the Android lock screen, which consist of minimum of m keys and maximum n keys.\n",
    "\n",
    " \n",
    "\n",
    "Rules for a valid pattern:\n",
    "\n",
    "    Each pattern must connect at least m keys and at most n keys.\n",
    "    All the keys must be distinct.\n",
    "    If the line connecting two consecutive keys in the pattern passes through any other keys, the other keys must have previously selected in the pattern. No jumps through non selected key is allowed.\n",
    "    The order of keys used matters.\n"
   ]
  },
  {
   "cell_type": "markdown",
   "metadata": {},
   "source": [
    "# DFS - O(n!) runtime, O(n) space"
   ]
  },
  {
   "cell_type": "code",
   "execution_count": 2,
   "metadata": {},
   "outputs": [],
   "source": [
    "class Solution:\n",
    "    def numberOfPatterns(self, m: int, n: int) -> int:\n",
    "        \n",
    "        def generate_skip_list():\n",
    "            skip = [[0]*10 for _ in range(10)]\n",
    "            skip[1][3] = skip[3][1] = 2\n",
    "            skip[1][7] = skip[7][1] = 4\n",
    "            skip[3][9] = skip[9][3] = 6\n",
    "            skip[7][9] = skip[9][7] = 8\n",
    "            skip[1][9] = skip[9][1] = skip[2][8] = skip[8][2] = skip[3][7] = skip[7][3] = skip[4][6] = skip[6][4] = 5\n",
    "            return skip\n",
    "        \n",
    "        \n",
    "        def dfs(curr, remaining):\n",
    "            if remaining < 0: return 0\n",
    "            if remaining == 0: return 1\n",
    "            visited[curr] = True\n",
    "            count = 0\n",
    "            for num in range(1, 10):\n",
    "                if not visited[num] and (skip[curr][num] == 0 or visited[skip[curr][num]]):\n",
    "                    count += dfs(num, remaining-1)\n",
    "            visited[curr] = False\n",
    "            return count\n",
    "                    \n",
    "        skip = generate_skip_list()\n",
    "        visited = [False]*10\n",
    "        total_no_of_patterns = 0\n",
    "        for pattern_len in range(m, n+1):\n",
    "            total_no_of_patterns += dfs(1, pattern_len -1) * 4\n",
    "            total_no_of_patterns += dfs(2, pattern_len -1) * 4\n",
    "            total_no_of_patterns += dfs(5, pattern_len -1)\n",
    "            \n",
    "        return total_no_of_patterns"
   ]
  },
  {
   "cell_type": "code",
   "execution_count": 4,
   "metadata": {},
   "outputs": [
    {
     "data": {
      "text/plain": [
       "9"
      ]
     },
     "execution_count": 4,
     "metadata": {},
     "output_type": "execute_result"
    }
   ],
   "source": [
    "instance = Solution()\n",
    "instance.numberOfPatterns(1, 1)"
   ]
  }
 ],
 "metadata": {
  "kernelspec": {
   "display_name": "Python 3",
   "language": "python",
   "name": "python3"
  },
  "language_info": {
   "codemirror_mode": {
    "name": "ipython",
    "version": 3
   },
   "file_extension": ".py",
   "mimetype": "text/x-python",
   "name": "python",
   "nbconvert_exporter": "python",
   "pygments_lexer": "ipython3",
   "version": "3.7.3"
  }
 },
 "nbformat": 4,
 "nbformat_minor": 2
}
