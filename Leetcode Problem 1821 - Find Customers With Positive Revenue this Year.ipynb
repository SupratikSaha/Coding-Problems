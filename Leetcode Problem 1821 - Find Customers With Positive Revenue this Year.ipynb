{
 "cells": [
  {
   "cell_type": "markdown",
   "metadata": {},
   "source": [
    "Problem Statement.\n",
    "\n",
    "    Table: Customers\n",
    "\n",
    "    +--------------+------+\n",
    "    | Column Name  | Type |\n",
    "    +--------------+------+\n",
    "    | customer_id  | int  |\n",
    "    | year         | int  |\n",
    "    | revenue      | int  |\n",
    "    +--------------+------+\n",
    "    (customer_id, year) is the primary key for this table.\n",
    "    This table contains the customer ID and the revenue of customers in different years.\n",
    "    Note that this revenue can be negative.\n",
    "\n",
    "\n",
    "\n",
    "    Write an SQL query to report the customers with postive revenue in the year 2021.\n",
    "\n",
    "    Return the result table in any order.\n",
    "\n",
    "    The query result format is in the following example:\n",
    "\n",
    "\n",
    "\n",
    "    Customers\n",
    "    +-------------+------+---------+\n",
    "    | customer_id | year | revenue |\n",
    "    +-------------+------+---------+\n",
    "    | 1           | 2018 | 50      |\n",
    "    | 1           | 2021 | 30      |\n",
    "    | 1           | 2020 | 70      |\n",
    "    | 2           | 2021 | -50     |\n",
    "    | 3           | 2018 | 10      |\n",
    "    | 3           | 2016 | 50      |\n",
    "    | 4           | 2021 | 20      |\n",
    "    +-------------+------+---------+\n",
    "\n",
    "    Result table:\n",
    "    +-------------+\n",
    "    | customer_id |\n",
    "    +-------------+\n",
    "    | 1           |\n",
    "    | 4           |\n",
    "    +-------------+\n",
    "\n",
    "    Customer 1 has revenue equal to 30 in year 2021.\n",
    "    Customer 2 has revenue equal to -50 in year 2021.\n",
    "    Customer 3 has no revenue in year 2021.\n",
    "    Customer 4 has revenue equal to 20 in year 2021.\n",
    "    Thus only customers 1 and 4 have postive revenue in year 2021."
   ]
  },
  {
   "cell_type": "markdown",
   "metadata": {},
   "source": [
    "# Where clause"
   ]
  },
  {
   "cell_type": "code",
   "execution_count": null,
   "metadata": {},
   "outputs": [],
   "source": [
    "select customer_id from Customers\n",
    "where revenue > 0 and year = 2021"
   ]
  }
 ],
 "metadata": {
  "kernelspec": {
   "display_name": "Python 3",
   "language": "python",
   "name": "python3"
  },
  "language_info": {
   "codemirror_mode": {
    "name": "ipython",
    "version": 3
   },
   "file_extension": ".py",
   "mimetype": "text/x-python",
   "name": "python",
   "nbconvert_exporter": "python",
   "pygments_lexer": "ipython3",
   "version": "3.7.3"
  }
 },
 "nbformat": 4,
 "nbformat_minor": 2
}
