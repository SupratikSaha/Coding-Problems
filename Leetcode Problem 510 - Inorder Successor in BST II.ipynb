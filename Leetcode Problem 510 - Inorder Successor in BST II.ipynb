{
 "cells": [
  {
   "cell_type": "markdown",
   "metadata": {},
   "source": [
    "Problem Statement.\n",
    "\n",
    "Given a node in a binary search tree, return the in-order successor of that node in the BST. If that node has no in-order successor, return null.\n",
    "\n",
    "The successor of a node is the node with the smallest key greater than node.val.\n",
    "\n",
    "You will have direct access to the node but not to the root of the tree. Each node will have a reference to its parent node. Below is the definition for Node:\n",
    "\n",
    "class Node {\n",
    "    public int val;\n",
    "    public Node left;\n",
    "    public Node right;\n",
    "    public Node parent;\n",
    "}\n",
    "\n",
    " \n",
    "\n",
    "Example 1:\n",
    "\n",
    "Input: tree = [2,1,3], node = 1\n",
    "Output: 2\n",
    "Explanation: 1's in-order successor node is 2. Note that both the node and the return value is of Node type.\n",
    "\n",
    "Example 2:\n",
    "\n",
    "Input: tree = [5,3,6,2,4,null,null,1], node = 6\n",
    "Output: null\n",
    "Explanation: There is no in-order successor of the current node, so the answer is null.\n",
    "\n",
    "Example 3:\n",
    "\n",
    "Input: tree = [15,6,18,3,7,17,20,2,4,null,13,null,null,null,null,null,null,null,null,9], node = 15\n",
    "Output: 17\n",
    "\n",
    "Example 4:\n",
    "\n",
    "Input: tree = [15,6,18,3,7,17,20,2,4,null,13,null,null,null,null,null,null,null,null,9], node = 13\n",
    "Output: 15\n",
    "\n",
    "Example 5:\n",
    "\n",
    "Input: tree = [0], node = 0\n",
    "Output: null\n",
    "\n",
    " \n",
    "\n",
    "Constraints:\n",
    "\n",
    "    The number of nodes in the tree is in the range [1, 104].\n",
    "    -105 <= Node.val <= 105\n",
    "    All Nodes will have unique values.\n",
    "\n",
    " \n",
    "\n",
    "Follow up: Could you solve it without looking up any of the node's values?"
   ]
  },
  {
   "cell_type": "markdown",
   "metadata": {},
   "source": [
    "# Using parent values - O(N) runtime, O(1) space"
   ]
  },
  {
   "cell_type": "code",
   "execution_count": 1,
   "metadata": {},
   "outputs": [],
   "source": [
    "class Solution:\n",
    "    def inorderSuccessor(self, node: 'Node') -> 'Node':\n",
    "        if node.right:\n",
    "            successor = node.right\n",
    "            while successor.left:\n",
    "                successor = successor.left\n",
    "            return successor\n",
    "        \n",
    "        successor = node\n",
    "        while successor and successor.val <= node.val:\n",
    "            successor = successor.parent\n",
    "            \n",
    "        return successor"
   ]
  },
  {
   "cell_type": "markdown",
   "metadata": {},
   "source": [
    "# Without using parent values - O(N) runtime, O(1) space"
   ]
  },
  {
   "cell_type": "code",
   "execution_count": 2,
   "metadata": {},
   "outputs": [],
   "source": [
    "class Solution:\n",
    "    def inorderSuccessor(self, node: 'Node') -> 'Node':\n",
    "        if node.right:\n",
    "            successor = node.right\n",
    "            while successor.left:\n",
    "                successor = successor.left\n",
    "            return successor\n",
    "        \n",
    "        child = node\n",
    "        parent = node.parent\n",
    "        while parent and child == parent.right:\n",
    "            child = parent\n",
    "            parent = child.parent\n",
    "            \n",
    "        return parent"
   ]
  }
 ],
 "metadata": {
  "kernelspec": {
   "display_name": "Python 3",
   "language": "python",
   "name": "python3"
  },
  "language_info": {
   "codemirror_mode": {
    "name": "ipython",
    "version": 3
   },
   "file_extension": ".py",
   "mimetype": "text/x-python",
   "name": "python",
   "nbconvert_exporter": "python",
   "pygments_lexer": "ipython3",
   "version": "3.7.3"
  }
 },
 "nbformat": 4,
 "nbformat_minor": 2
}
