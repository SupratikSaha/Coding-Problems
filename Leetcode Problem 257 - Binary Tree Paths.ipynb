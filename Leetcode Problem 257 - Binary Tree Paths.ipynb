{
 "cells": [
  {
   "cell_type": "markdown",
   "metadata": {},
   "source": [
    "Given a binary tree, return all root-to-leaf paths.\n",
    "\n",
    "Note: A leaf is a node with no children.\n",
    "\n",
    "Example:\n",
    "\n",
    "Input:\n",
    "\n",
    "   1<br>\n",
    " /   \\ <br>\n",
    "2     3<br>\n",
    " \\ <br>\n",
    "  5<br>\n",
    "\n",
    "Output: [\"1->2->5\", \"1->3\"]\n",
    "\n",
    "Explanation: All root-to-leaf paths are: 1->2->5, 1->3\n"
   ]
  },
  {
   "cell_type": "markdown",
   "metadata": {},
   "source": [
    "# Depth First Search - O(n) runtime, O(n) space"
   ]
  },
  {
   "cell_type": "code",
   "execution_count": null,
   "metadata": {},
   "outputs": [],
   "source": [
    "from typing import List\n",
    "\n",
    "# Definition for a binary tree node.\n",
    "class TreeNode:\n",
    "    def __init__(self, val=0, left=None, right=None):\n",
    "        self.val = val\n",
    "        self.left = left\n",
    "        self.right = right\n",
    "        \n",
    "class Solution:\n",
    "    \n",
    "    def __init__(self):\n",
    "        self.all_paths = []\n",
    "        \n",
    "    def binaryTreePaths(self, root: TreeNode) -> List[str]:\n",
    "        \n",
    "        if not root:\n",
    "            return self.all_paths\n",
    "        \n",
    "        self.get_all_paths(root, str(root.val))\n",
    "        return self.all_paths\n",
    "    \n",
    "    def get_all_paths(self, root: TreeNode, path: str) -> None:\n",
    "\n",
    "        if not root.left and not root.right:\n",
    "            self.all_paths.append(path)\n",
    "            \n",
    "        if root.left:\n",
    "            self.get_all_paths(root.left, path + \"->\" + str(root.left.val))\n",
    "        if root.right:\n",
    "            self.get_all_paths(root.right, path + \"->\" + str(root.right.val))"
   ]
  },
  {
   "cell_type": "markdown",
   "metadata": {},
   "source": [
    "# Breadth First Search - O(n) runtime, O(n) space"
   ]
  },
  {
   "cell_type": "code",
   "execution_count": null,
   "metadata": {},
   "outputs": [],
   "source": [
    "from typing import List\n",
    "\n",
    "# Definition for a binary tree node.\n",
    "class TreeNode:\n",
    "    def __init__(self, val=0, left=None, right=None):\n",
    "        self.val = val\n",
    "        self.left = left\n",
    "        self.right = right\n",
    "\n",
    "class Solution:\n",
    "        \n",
    "    def binaryTreePaths(self, root: TreeNode) -> List[str]:\n",
    "        \n",
    "        if not root:\n",
    "            return []\n",
    "        \n",
    "        paths = []\n",
    "        stack = [(root, str(root.val))]\n",
    "        while stack:\n",
    "            node, path = stack.pop()\n",
    "            if not node.left and not node.right:\n",
    "                paths.append(path)\n",
    "            if node.left:\n",
    "                stack.append((node.left, path + '->' + str(node.left.val)))\n",
    "            if node.right:\n",
    "                stack.append((node.right, path + '->' + str(node.right.val)))\n",
    "        \n",
    "        return paths"
   ]
  },
  {
   "cell_type": "markdown",
   "metadata": {},
   "source": [
    "# DFS with stack - O(n) runtime, O(n) space"
   ]
  },
  {
   "cell_type": "code",
   "execution_count": null,
   "metadata": {},
   "outputs": [],
   "source": [
    "from typing import List\n",
    "\n",
    "# Definition for a binary tree node.\n",
    "class TreeNode:\n",
    "    def __init__(self, val=0, left=None, right=None):\n",
    "        self.val = val\n",
    "        self.left = left\n",
    "        self.right = right\n",
    "\n",
    "class Solution:\n",
    "        \n",
    "    def binaryTreePaths(self, root: TreeNode) -> List[str]:\n",
    "        \n",
    "        if not root:\n",
    "            return []\n",
    "        res, stack = [], [(root, \"\")]\n",
    "        while stack:\n",
    "            node, ls = stack.pop()\n",
    "            if not node.left and not node.right:\n",
    "                res.append(ls+str(node.val))\n",
    "            if node.right:\n",
    "                stack.append((node.right, ls+str(node.val)+\"->\"))\n",
    "            if node.left:\n",
    "                stack.append((node.left, ls+str(node.val)+\"->\"))\n",
    "        return res"
   ]
  }
 ],
 "metadata": {
  "kernelspec": {
   "display_name": "Python 3",
   "language": "python",
   "name": "python3"
  },
  "language_info": {
   "codemirror_mode": {
    "name": "ipython",
    "version": 3
   },
   "file_extension": ".py",
   "mimetype": "text/x-python",
   "name": "python",
   "nbconvert_exporter": "python",
   "pygments_lexer": "ipython3",
   "version": "3.7.3"
  }
 },
 "nbformat": 4,
 "nbformat_minor": 2
}
