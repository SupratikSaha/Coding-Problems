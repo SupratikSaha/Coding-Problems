{
 "cells": [
  {
   "cell_type": "markdown",
   "metadata": {},
   "source": [
    "Problem Statement. <br/>\n",
    "\n",
    "Write a function to delete a node in a singly-linked list. You will not be given access to the head of the list, instead you will be given access to the node to be deleted directly. <br/>\n",
    "\n",
    "It is guaranteed that the node to be deleted is not a tail node in the list. <br/>\n",
    "\n",
    "Example 1: <br/>\n",
    "Input: head = [4,5,1,9], node = 5 <br/>\n",
    "Output: [4,1,9] <br/>\n",
    "Explanation: You are given the second node with value 5, the linked list should become 4 -> 1 -> 9 after calling your function. <br/>\n",
    "\n",
    "Example 2: <br/>\n",
    "Input: head = [4,5,1,9], node = 1 <br/>\n",
    "Output: [4,5,9] <br/>\n",
    "Explanation: You are given the third node with value 1, the linked list should become 4 -> 5 -> 9 after calling your function. <br/>\n",
    "\n",
    "Example 3: <br/>\n",
    "Input: head = [1,2,3,4], node = 3 <br/>\n",
    "Output: [1,2,4] <br/>\n",
    "\n",
    "Example 4: <br/>\n",
    "Input: head = [0,1], node = 0 <br/>\n",
    "Output: [1] <br/>\n",
    "\n",
    "Example 5: <br/>\n",
    "Input: head = [-3,5,-99], node = -3 <br/>\n",
    "Output: [5,-99]"
   ]
  },
  {
   "cell_type": "markdown",
   "metadata": {},
   "source": [
    "# One Pass - Copy Value - O(N) runtime, O(1) space"
   ]
  },
  {
   "cell_type": "code",
   "execution_count": null,
   "metadata": {},
   "outputs": [],
   "source": [
    "class Solution:\n",
    "    def deleteNode(self, node):\n",
    "        \"\"\"\n",
    "        :type node: ListNode\n",
    "        :rtype: void Do not return anything, modify node in-place instead.\n",
    "        \"\"\"\n",
    "        prev = None\n",
    "        while node.next:\n",
    "            node.val = node.next.val\n",
    "            prev, node = node, node.next\n",
    "            \n",
    "        prev.next = None"
   ]
  },
  {
   "cell_type": "markdown",
   "metadata": {},
   "source": [
    "# Swap with Next Node - O(1) runtime, o(1) space"
   ]
  },
  {
   "cell_type": "code",
   "execution_count": null,
   "metadata": {},
   "outputs": [],
   "source": [
    "class Solution:\n",
    "    def deleteNode(self, node):\n",
    "        \"\"\"\n",
    "        :type node: ListNode\n",
    "        :rtype: void Do not return anything, modify node in-place instead.\n",
    "        \"\"\"\n",
    "        node.val = node.next.val\n",
    "        node.next = node.next.next"
   ]
  }
 ],
 "metadata": {
  "kernelspec": {
   "display_name": "Python 3",
   "language": "python",
   "name": "python3"
  },
  "language_info": {
   "codemirror_mode": {
    "name": "ipython",
    "version": 3
   },
   "file_extension": ".py",
   "mimetype": "text/x-python",
   "name": "python",
   "nbconvert_exporter": "python",
   "pygments_lexer": "ipython3",
   "version": "3.7.3"
  }
 },
 "nbformat": 4,
 "nbformat_minor": 2
}
