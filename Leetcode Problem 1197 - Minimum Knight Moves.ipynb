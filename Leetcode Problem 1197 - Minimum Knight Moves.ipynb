{
 "cells": [
  {
   "cell_type": "markdown",
   "metadata": {},
   "source": [
    "Problem Statement.\n",
    "\n",
    "In an infinite chess board with coordinates from -infinity to +infinity, you have a knight at square [0, 0].\n",
    "\n",
    "A knight has 8 possible moves it can make, as illustrated below. Each move is two squares in a cardinal direction, then one square in an orthogonal direction.\n",
    "\n",
    "Return the minimum number of steps needed to move the knight to the square [x, y].  It is guaranteed the answer exists.\n",
    "\n",
    " \n",
    "\n",
    "Example 1:\n",
    "\n",
    "Input: x = 2, y = 1\n",
    "Output: 1\n",
    "Explanation: [0, 0] → [2, 1]\n",
    "\n",
    "Example 2:\n",
    "\n",
    "Input: x = 5, y = 5\n",
    "Output: 4\n",
    "Explanation: [0, 0] → [2, 1] → [4, 2] → [3, 4] → [5, 5]\n",
    "\n",
    " \n",
    "\n",
    "Constraints:\n",
    "\n",
    "    |x| + |y| <= 300"
   ]
  },
  {
   "cell_type": "markdown",
   "metadata": {},
   "source": [
    "# BFS - O(max(|X|, |Y|) ^ 2) runtime, O(max(|X|, |Y|) ^ 2) space"
   ]
  },
  {
   "cell_type": "code",
   "execution_count": 2,
   "metadata": {},
   "outputs": [],
   "source": [
    "from collections import deque\n",
    "\n",
    "class Solution:\n",
    "    def minKnightMoves(self, x: int, y: int) -> int:\n",
    "        dirs = [[-2, 1], [-1, 2], [1, 2], [2, 1], [2, -1], [1, -2], [-1, -2], [-2, -1]]\n",
    "        \n",
    "        \n",
    "        def bfs(x, y):\n",
    "            steps = 0\n",
    "            queue = deque([(0, 0)])\n",
    "            visited = {(0, 0)}\n",
    "            \n",
    "            while queue:\n",
    "                for _ in range(len(queue)):\n",
    "                    r, c = queue.popleft()\n",
    "                    if (r, c) == (x, y): return steps\n",
    "\n",
    "                    for dx, dy in dirs:\n",
    "                        r1, c1 = r + dx, c + dy\n",
    "                        if (r1, c1) not in visited:\n",
    "                            queue.append((r1, c1))\n",
    "                            visited.add((r1, c1))\n",
    "                            \n",
    "                steps += 1 \n",
    "                \n",
    "        return bfs(x, y)"
   ]
  },
  {
   "cell_type": "markdown",
   "metadata": {},
   "source": [
    "# DFS with Memoization - O(|X * Y|) runtime, O(|X * Y|) space"
   ]
  },
  {
   "cell_type": "code",
   "execution_count": 5,
   "metadata": {},
   "outputs": [],
   "source": [
    "from functools import lru_cache\n",
    "\n",
    "class Solution:\n",
    "    def minKnightMoves(self, x: int, y: int) -> int:\n",
    "        @lru_cache(maxsize=None)\n",
    "        def dfs(x, y):\n",
    "            if x + y == 0:\n",
    "                # base case: (0, 0)\n",
    "                return 0\n",
    "            elif x + y == 2:\n",
    "                # base case: (1, 1), (0, 2), (2, 0)\n",
    "                return 2\n",
    "            else:\n",
    "                return min(dfs(abs(x - 1), abs(y - 2)), dfs(abs(x - 2), abs(y - 1))) + 1\n",
    "\n",
    "        return dfs(abs(x), abs(y))"
   ]
  },
  {
   "cell_type": "code",
   "execution_count": 6,
   "metadata": {},
   "outputs": [
    {
     "data": {
      "text/plain": [
       "4"
      ]
     },
     "execution_count": 6,
     "metadata": {},
     "output_type": "execute_result"
    }
   ],
   "source": [
    "instance = Solution()\n",
    "instance.minKnightMoves(5, 5)"
   ]
  }
 ],
 "metadata": {
  "kernelspec": {
   "display_name": "Python 3",
   "language": "python",
   "name": "python3"
  },
  "language_info": {
   "codemirror_mode": {
    "name": "ipython",
    "version": 3
   },
   "file_extension": ".py",
   "mimetype": "text/x-python",
   "name": "python",
   "nbconvert_exporter": "python",
   "pygments_lexer": "ipython3",
   "version": "3.7.3"
  }
 },
 "nbformat": 4,
 "nbformat_minor": 2
}
