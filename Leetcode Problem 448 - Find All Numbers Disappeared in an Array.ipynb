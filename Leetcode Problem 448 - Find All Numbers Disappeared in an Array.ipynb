{
 "cells": [
  {
   "cell_type": "markdown",
   "metadata": {},
   "source": [
    "    Problem Statement.\n",
    "\n",
    "    Given an array of integers where 1 ≤ a[i] ≤ n (n = size of array), some elements appear twice and others appear once.\n",
    "\n",
    "    Find all the elements of [1, n] inclusive that do not appear in this array.\n",
    "\n",
    "    Could you do it without extra space and in O(n) runtime? You may assume the returned list does not count as extra space.\n",
    "\n",
    "    Example:\n",
    "\n",
    "    Input:\n",
    "    [4,3,2,7,8,2,3,1]\n",
    "\n",
    "    Output:\n",
    "    [5,6]"
   ]
  },
  {
   "cell_type": "markdown",
   "metadata": {},
   "source": [
    "# Circular Sort - O(N) runtime, O(1) space"
   ]
  },
  {
   "cell_type": "code",
   "execution_count": 2,
   "metadata": {},
   "outputs": [],
   "source": [
    "from typing import List\n",
    "\n",
    "class Solution:\n",
    "    def findDisappearedNumbers(self, nums: List[int]) -> List[int]:\n",
    "\n",
    "        for i in range(len(nums)):\n",
    "            val = nums[i]\n",
    "            while val != i+1 and nums[val-1] != val:\n",
    "                nums[i], nums[val-1] = nums[val-1], nums[i]\n",
    "                val = nums[i]\n",
    "        \n",
    "        return [index + 1 for index, i in enumerate(nums) if i != index + 1]"
   ]
  },
  {
   "cell_type": "markdown",
   "metadata": {},
   "source": [
    "# In place modification - O(N) runtime, O(1) space"
   ]
  },
  {
   "cell_type": "code",
   "execution_count": 4,
   "metadata": {},
   "outputs": [],
   "source": [
    "from typing import List\n",
    "\n",
    "class Solution:\n",
    "    def findDisappearedNumbers(self, nums: List[int]) -> List[int]:\n",
    "\n",
    "        # Iterate over each of the elements in the original array\n",
    "        for i in range(len(nums)):\n",
    "            \n",
    "            # Treat the value as the new index\n",
    "            new_index = abs(nums[i]) - 1\n",
    "            \n",
    "            # Check the magnitude of value at this new index\n",
    "            # If the magnitude is positive, make it negative \n",
    "            # thus indicating that the number nums[i] has \n",
    "            # appeared or has been visited.\n",
    "            if nums[new_index] > 0:\n",
    "                nums[new_index] *= -1\n",
    "        \n",
    "        # Response array that would contain the missing numbers\n",
    "        result = []    \n",
    "        \n",
    "        # Iterate over the numbers from 1 to N and add all those\n",
    "        # that have positive magnitude in the array \n",
    "        for i in range(1, len(nums) + 1):\n",
    "            if nums[i - 1] > 0:\n",
    "                result.append(i)\n",
    "                \n",
    "        return result"
   ]
  },
  {
   "cell_type": "code",
   "execution_count": 5,
   "metadata": {},
   "outputs": [
    {
     "data": {
      "text/plain": [
       "[5, 6]"
      ]
     },
     "execution_count": 5,
     "metadata": {},
     "output_type": "execute_result"
    }
   ],
   "source": [
    "instance = Solution()\n",
    "instance.findDisappearedNumbers([4,3,2,7,8,2,3,1])"
   ]
  }
 ],
 "metadata": {
  "kernelspec": {
   "display_name": "Python 3",
   "language": "python",
   "name": "python3"
  },
  "language_info": {
   "codemirror_mode": {
    "name": "ipython",
    "version": 3
   },
   "file_extension": ".py",
   "mimetype": "text/x-python",
   "name": "python",
   "nbconvert_exporter": "python",
   "pygments_lexer": "ipython3",
   "version": "3.7.3"
  }
 },
 "nbformat": 4,
 "nbformat_minor": 2
}
