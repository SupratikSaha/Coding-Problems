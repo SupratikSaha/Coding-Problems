{
 "cells": [
  {
   "cell_type": "markdown",
   "metadata": {},
   "source": [
    "Problem Statement. <br/>\n",
    "\n",
    "Given a non-negative integer numRows, generate the first numRows of Pascal's triangle. <br/>\n",
    "In Pascal's triangle, each number is the sum of the two numbers directly above it. <br/>\n",
    "\n",
    "Example: <br/>\n",
    "Input: 5 <br/>\n",
    "Output: <br/>\n",
    "[ <br/>\n",
    "     [1], <br/>\n",
    "    [1,1], <br/>\n",
    "   [1,2,1], <br/>\n",
    "  [1,3,3,1], <br/>\n",
    " [1,4,6,4,1] <br/>\n",
    "]"
   ]
  },
  {
   "cell_type": "markdown",
   "metadata": {},
   "source": [
    "# Iterative - O(N ^ 2) runtime, O(1) space"
   ]
  },
  {
   "cell_type": "code",
   "execution_count": 4,
   "metadata": {},
   "outputs": [],
   "source": [
    "from typing import List\n",
    "\n",
    "class Solution:\n",
    "    def generate(self, numRows: int) -> List[List[int]]:\n",
    "        if numRows <= 0:\n",
    "            return []\n",
    "        \n",
    "        result = [[1]]\n",
    "        if numRows == 1:\n",
    "            return result\n",
    "        \n",
    "        for i in range(1, numRows):\n",
    "            result.append([None] * (i + 1))\n",
    "            result[i][0] = result[i][i] = 1\n",
    "            \n",
    "            for j in range(1, i):\n",
    "                result[i][j] = result[i - 1][j - 1] + result[i - 1][j]\n",
    "            \n",
    "        return result"
   ]
  },
  {
   "cell_type": "code",
   "execution_count": 6,
   "metadata": {},
   "outputs": [
    {
     "data": {
      "text/plain": [
       "[[1], [1, 1], [1, 2, 1], [1, 3, 3, 1], [1, 4, 6, 4, 1]]"
      ]
     },
     "execution_count": 6,
     "metadata": {},
     "output_type": "execute_result"
    }
   ],
   "source": [
    "instance = Solution()\n",
    "instance.generate(5)"
   ]
  }
 ],
 "metadata": {
  "kernelspec": {
   "display_name": "Python 3",
   "language": "python",
   "name": "python3"
  },
  "language_info": {
   "codemirror_mode": {
    "name": "ipython",
    "version": 3
   },
   "file_extension": ".py",
   "mimetype": "text/x-python",
   "name": "python",
   "nbconvert_exporter": "python",
   "pygments_lexer": "ipython3",
   "version": "3.7.3"
  }
 },
 "nbformat": 4,
 "nbformat_minor": 2
}
