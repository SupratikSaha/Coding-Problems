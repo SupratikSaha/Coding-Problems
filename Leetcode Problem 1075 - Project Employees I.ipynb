{
 "cells": [
  {
   "cell_type": "markdown",
   "metadata": {},
   "source": [
    "    Problem Statement.\n",
    "\n",
    "    Table: Project\n",
    "\n",
    "    +-------------+---------+\n",
    "    | Column Name | Type    |\n",
    "    +-------------+---------+\n",
    "    | project_id  | int     |\n",
    "    | employee_id | int     |\n",
    "    +-------------+---------+\n",
    "    (project_id, employee_id) is the primary key of this table.\n",
    "    employee_id is a foreign key to Employee table.\n",
    "    Each row of this table indicates that the employee with employee_id is working on the project with project_id.\n",
    "\n",
    "\n",
    "\n",
    "    Table: Employee\n",
    "\n",
    "    +------------------+---------+\n",
    "    | Column Name      | Type    |\n",
    "    +------------------+---------+\n",
    "    | employee_id      | int     |\n",
    "    | name             | varchar |\n",
    "    | experience_years | int     |\n",
    "    +------------------+---------+\n",
    "    employee_id is the primary key of this table.\n",
    "    Each row of this table contains information about one employee.\n",
    "\n",
    "\n",
    "\n",
    "    Write an SQL query that reports the average experience years of all the employees for each project, rounded to 2 digits.\n",
    "\n",
    "    Return the result table in any order.\n",
    "\n",
    "    The query result format is in the following example.\n",
    "\n",
    "\n",
    "\n",
    "    Example 1:\n",
    "\n",
    "    Input: \n",
    "    Project table:\n",
    "    +-------------+-------------+\n",
    "    | project_id  | employee_id |\n",
    "    +-------------+-------------+\n",
    "    | 1           | 1           |\n",
    "    | 1           | 2           |\n",
    "    | 1           | 3           |\n",
    "    | 2           | 1           |\n",
    "    | 2           | 4           |\n",
    "    +-------------+-------------+\n",
    "    Employee table:\n",
    "    +-------------+--------+------------------+\n",
    "    | employee_id | name   | experience_years |\n",
    "    +-------------+--------+------------------+\n",
    "    | 1           | Khaled | 3                |\n",
    "    | 2           | Ali    | 2                |\n",
    "    | 3           | John   | 1                |\n",
    "    | 4           | Doe    | 2                |\n",
    "    +-------------+--------+------------------+\n",
    "    Output: \n",
    "    +-------------+---------------+\n",
    "    | project_id  | average_years |\n",
    "    +-------------+---------------+\n",
    "    | 1           | 2.00          |\n",
    "    | 2           | 2.50          |\n",
    "    +-------------+---------------+\n",
    "    Explanation: The average experience years for the first project is (3 + 2 + 1) / 3 = 2.00 and for the second project is (3 + 2) / 2 = 2.50"
   ]
  },
  {
   "cell_type": "markdown",
   "metadata": {},
   "source": [
    "# Join"
   ]
  },
  {
   "cell_type": "code",
   "execution_count": null,
   "metadata": {},
   "outputs": [],
   "source": [
    "select p.project_id, round(avg(experience_years), 2) as average_years\n",
    "from Project p join Employee e on p.employee_id = e.employee_id\n",
    "group by 1"
   ]
  }
 ],
 "metadata": {
  "kernelspec": {
   "display_name": "Python 3",
   "language": "python",
   "name": "python3"
  },
  "language_info": {
   "codemirror_mode": {
    "name": "ipython",
    "version": 3
   },
   "file_extension": ".py",
   "mimetype": "text/x-python",
   "name": "python",
   "nbconvert_exporter": "python",
   "pygments_lexer": "ipython3",
   "version": "3.7.3"
  }
 },
 "nbformat": 4,
 "nbformat_minor": 2
}
