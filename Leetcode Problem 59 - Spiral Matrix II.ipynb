{
 "cells": [
  {
   "cell_type": "markdown",
   "metadata": {},
   "source": [
    "Problem Statement.\n",
    "\n",
    "Given a positive integer n, generate an n x n matrix filled with elements from 1 to n2 in spiral order.\n",
    "\n",
    " \n",
    "\n",
    "Example 1:\n",
    "\n",
    "Input: n = 3\n",
    "Output: [[1,2,3],[8,9,4],[7,6,5]]\n",
    "\n",
    "Example 2:\n",
    "\n",
    "Input: n = 1\n",
    "Output: [[1]]\n",
    "\n",
    " \n",
    "\n",
    "Constraints:\n",
    "\n",
    "    1 <= n <= 20"
   ]
  },
  {
   "cell_type": "markdown",
   "metadata": {},
   "source": [
    "#  Spiral Traversal - O(N ^ 2) runtime, O(N ^ 2) space"
   ]
  },
  {
   "cell_type": "code",
   "execution_count": 1,
   "metadata": {},
   "outputs": [],
   "source": [
    "from typing import List\n",
    "\n",
    "class Solution:\n",
    "    def generateMatrix(self, n: int) -> List[List[int]]:\n",
    "        res = [[0] * n for _ in range(n)]\n",
    "        \n",
    "        r, c = n, n\n",
    "        i, j = 0, -1\n",
    "        val = 1\n",
    "        while val <= n * n:\n",
    "            \n",
    "            for ctr in range(c):\n",
    "                j += 1\n",
    "                if val > n * n: break\n",
    "                res[i][j] = val\n",
    "                val += 1            \n",
    "            r -= 1\n",
    "            \n",
    "            for ctr in range(r):\n",
    "                i += 1\n",
    "                if val > n * n: break\n",
    "                res[i][j] = val\n",
    "                val += 1\n",
    "            c -= 1\n",
    "            \n",
    "            for ctr in range(c):\n",
    "                j -= 1\n",
    "                if val > n * n: break\n",
    "                res[i][j] = val\n",
    "                val += 1\n",
    "            r -= 1  \n",
    "            \n",
    "            for ctr in range(r):\n",
    "                i -= 1 \n",
    "                if val > n * n: break\n",
    "                res[i][j] = val\n",
    "                val += 1\n",
    "            c -= 1\n",
    "            \n",
    "        return res"
   ]
  },
  {
   "cell_type": "markdown",
   "metadata": {},
   "source": [
    "# Simpler Spiral Traversal -  O(N ^ 2) runtime, O(N ^ 2) space"
   ]
  },
  {
   "cell_type": "code",
   "execution_count": 2,
   "metadata": {},
   "outputs": [],
   "source": [
    "from typing import List\n",
    "\n",
    "class Solution:\n",
    "    def generateMatrix(self, n: int) -> List[List[int]]:\n",
    "        if not n: return []\n",
    "        res = [[0] * n for _ in range(n)]\n",
    "        left, right, top, down, num = 0, n-1, 0, n-1, 1\n",
    "        while left <= right and top <= down:\n",
    "            for i in range(left, right+1):\n",
    "                res[top][i] = num \n",
    "                num += 1\n",
    "            top += 1\n",
    "            for i in range(top, down+1):\n",
    "                res[i][right] = num\n",
    "                num += 1\n",
    "            right -= 1\n",
    "            for i in range(right, left-1, -1):\n",
    "                res[down][i] = num\n",
    "                num += 1\n",
    "            down -= 1\n",
    "            for i in range(down, top-1, -1):\n",
    "                res[i][left] = num\n",
    "                num += 1\n",
    "            left += 1\n",
    "        return res"
   ]
  },
  {
   "cell_type": "markdown",
   "metadata": {},
   "source": [
    "# Optimized Spiral Traversal - O(N ^ 2) runtime, O(N ^ 2) space"
   ]
  },
  {
   "cell_type": "code",
   "execution_count": 3,
   "metadata": {},
   "outputs": [],
   "source": [
    "from typing import List\n",
    "\n",
    "class Solution:\n",
    "    def generateMatrix(self, n: int) -> List[List[int]]:\n",
    "        if not n: return []\n",
    "        result = [[0] * n for _ in range(n)]\n",
    "        dirs = [[0, 1], [1, 0], [0, -1], [-1, 0]]\n",
    "        \n",
    "        d, row, col = 0, 0, 0\n",
    "        cnt = 1\n",
    "        while cnt <= n * n:\n",
    "            result[row][col] = cnt\n",
    "            cnt += 1\n",
    "            r = (row + dirs[d][0]) % n\n",
    "            c = (col + dirs[d][1]) % n\n",
    "            \n",
    "            # change direction if next cell is non zero\n",
    "            if (result[r][c] != 0): d = (d + 1) % 4\n",
    "\n",
    "            row += dirs[d][0]\n",
    "            col += dirs[d][1]\n",
    "\n",
    "        return result"
   ]
  },
  {
   "cell_type": "code",
   "execution_count": 4,
   "metadata": {},
   "outputs": [
    {
     "data": {
      "text/plain": [
       "[[1, 2, 3], [8, 9, 4], [7, 6, 5]]"
      ]
     },
     "execution_count": 4,
     "metadata": {},
     "output_type": "execute_result"
    }
   ],
   "source": [
    "instance = Solution()\n",
    "instance.generateMatrix(3)"
   ]
  }
 ],
 "metadata": {
  "kernelspec": {
   "display_name": "Python 3",
   "language": "python",
   "name": "python3"
  },
  "language_info": {
   "codemirror_mode": {
    "name": "ipython",
    "version": 3
   },
   "file_extension": ".py",
   "mimetype": "text/x-python",
   "name": "python",
   "nbconvert_exporter": "python",
   "pygments_lexer": "ipython3",
   "version": "3.7.3"
  }
 },
 "nbformat": 4,
 "nbformat_minor": 2
}
