{
 "cells": [
  {
   "cell_type": "markdown",
   "metadata": {},
   "source": [
    "Problem Statement. <br/>\n",
    "\n",
    "Write an algorithm to determine if a number n is happy. <br/>\n",
    "A happy number is a number defined by the following process: <br/>\n",
    "\n",
    "    Starting with any positive integer, replace the number by the sum of the squares of its digits. <br/>\n",
    "    Repeat the process until the number equals 1 (where it will stay), or it loops endlessly in a cycle which does not include 1. <br/>\n",
    "    Those numbers for which this process ends in 1 are happy. <br/>\n",
    "\n",
    "Return true if n is a happy number, and false if not. <br/>\n",
    "\n",
    "Example 1: <br/>\n",
    "Input: n = 19 <br/>\n",
    "Output: true <br/>\n",
    "Explanation: <br/>\n",
    "12 + 92 = 82 <br/>\n",
    "82 + 22 = 68 <br/>\n",
    "62 + 82 = 100 <br/>\n",
    "12 + 02 + 02 = 1 <br/>\n",
    "\n",
    "Example 2: <br/>\n",
    "Input: n = 2 <br/>\n",
    "Output: false"
   ]
  },
  {
   "cell_type": "markdown",
   "metadata": {},
   "source": [
    "# Brute Force - O(log N) runtime, O(log N) space"
   ]
  },
  {
   "cell_type": "code",
   "execution_count": 7,
   "metadata": {},
   "outputs": [],
   "source": [
    "class Solution:\n",
    "    def isHappy(self, n: int) -> bool:\n",
    "        \n",
    "        prev = set()\n",
    "        while n != 1 and n not in prev:\n",
    "            prev.add(n)\n",
    "            newNum = 0\n",
    "            while n:\n",
    "                newNum += (n % 10) ** 2\n",
    "                n //= 10\n",
    "                \n",
    "            n  = newNum\n",
    "            \n",
    "        return n == 1"
   ]
  },
  {
   "cell_type": "markdown",
   "metadata": {},
   "source": [
    "# Two Pointers - O(log N) runtime, O(1) space"
   ]
  },
  {
   "cell_type": "code",
   "execution_count": 10,
   "metadata": {},
   "outputs": [],
   "source": [
    "class Solution:\n",
    "    def isHappy(self, n: int) -> bool:\n",
    "        \n",
    "        def get_next(number):\n",
    "            total_sum = 0\n",
    "            while number > 0:\n",
    "                number, digit = divmod(number, 10)\n",
    "                total_sum += digit ** 2\n",
    "            return total_sum\n",
    "\n",
    "        slow_runner = n\n",
    "        fast_runner = get_next(n)\n",
    "        while fast_runner != 1 and slow_runner != fast_runner:\n",
    "            slow_runner = get_next(slow_runner)\n",
    "            fast_runner = get_next(get_next(fast_runner))\n",
    "        return fast_runner == 1"
   ]
  },
  {
   "cell_type": "code",
   "execution_count": 11,
   "metadata": {},
   "outputs": [
    {
     "data": {
      "text/plain": [
       "False"
      ]
     },
     "execution_count": 11,
     "metadata": {},
     "output_type": "execute_result"
    }
   ],
   "source": [
    "instance = Solution()\n",
    "instance.isHappy(2)"
   ]
  }
 ],
 "metadata": {
  "kernelspec": {
   "display_name": "Python 3",
   "language": "python",
   "name": "python3"
  },
  "language_info": {
   "codemirror_mode": {
    "name": "ipython",
    "version": 3
   },
   "file_extension": ".py",
   "mimetype": "text/x-python",
   "name": "python",
   "nbconvert_exporter": "python",
   "pygments_lexer": "ipython3",
   "version": "3.7.3"
  }
 },
 "nbformat": 4,
 "nbformat_minor": 2
}
