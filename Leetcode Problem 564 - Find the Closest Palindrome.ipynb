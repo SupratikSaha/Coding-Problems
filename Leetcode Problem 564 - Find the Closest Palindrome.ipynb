{
 "cells": [
  {
   "cell_type": "markdown",
   "metadata": {},
   "source": [
    "Problem Statement.\n",
    "\n",
    "Given a string n representing an integer, return the closest integer (not including itself), which is a palindrome. If there is a tie, return the smaller one.\n",
    "\n",
    "The closest is defined as the absolute difference minimized between two integers.\n",
    "\n",
    " \n",
    "\n",
    "Example 1:\n",
    "\n",
    "Input: n = \"123\"\n",
    "Output: \"121\"\n",
    "\n",
    "Example 2:\n",
    "\n",
    "Input: n = \"1\"\n",
    "Output: \"0\"\n",
    "Explanation: 0 and 2 are the closest palindromes but we return the smallest which is 0.\n",
    "\n",
    " \n",
    "\n",
    "Constraints:\n",
    "\n",
    "    1 <= n.length <= 18\n",
    "    n consists of only digits.\n",
    "    n does not have leading zeros.\n",
    "    n is representing an integer in the range [1, 1018 - 1]."
   ]
  },
  {
   "cell_type": "markdown",
   "metadata": {},
   "source": [
    "# Backtracking - O(N) runtime, O(N) space, where N is the length of the str n"
   ]
  },
  {
   "cell_type": "code",
   "execution_count": 1,
   "metadata": {},
   "outputs": [],
   "source": [
    "class Solution:\n",
    "    def nearestPalindromic(self, n: str) -> str:\n",
    "        length = len(n)\n",
    "        integerN = int(n)\n",
    "        numList = list(n)\n",
    "        mid = length // 2 + 1 if length % 2 else length // 2\n",
    "        \n",
    "        def getNearestPalindrome(index):\n",
    "            nonlocal result, minDiff\n",
    "            if index == mid:\n",
    "                curNum = int(''.join(numList))\n",
    "                if curNum != integerN:\n",
    "                    curDiff = abs(integerN - curNum)\n",
    "                    if curDiff < minDiff or (curDiff == minDiff and curNum < result):\n",
    "                        minDiff = curDiff\n",
    "                        result = curNum              \n",
    "            else:\n",
    "                origVal, origMirrorVal = int(numList[index]), int(numList[length-index-1])\n",
    "                        \n",
    "                numList[length-index-1] = numList[index]\n",
    "                getNearestPalindrome(index+1)\n",
    "                \n",
    "                if (index > 0 and origVal > 0) or (index == 0 and origVal > 1):\n",
    "                    numList[index] = numList[length-index-1] = str(origVal - 1)\n",
    "                    getNearestPalindrome(index+1)\n",
    "                    \n",
    "                if origVal < 9:\n",
    "                    numList[index] = numList[length-index-1] = str(origVal + 1)\n",
    "                    getNearestPalindrome(index+1)\n",
    "                    \n",
    "                numList[index], numList[length-index-1] = str(origVal), str(origMirrorVal)\n",
    "        \n",
    "        result, minDiff = 0, integerN\n",
    "        \n",
    "        if numList[0] == '1' and length > 1:\n",
    "            curNum = int('9' * (length-1))\n",
    "            curDiff = abs(integerN - curNum)\n",
    "            if curDiff < minDiff or (curDiff == minDiff and curNum < result):\n",
    "                minDiff = curDiff\n",
    "                result = curNum\n",
    "        elif numList[0] == '9':\n",
    "            curNum = ['0'] * (length+1)\n",
    "            curNum[0] = curNum[-1] = '1'\n",
    "            curNum = int(''.join(curNum))\n",
    "            curDiff = abs(integerN - curNum)\n",
    "            if curDiff < minDiff or (curDiff == minDiff and curNum < result):\n",
    "                minDiff = curDiff\n",
    "                result = curNum\n",
    "                \n",
    "        getNearestPalindrome(0)\n",
    "        return str(result)"
   ]
  },
  {
   "cell_type": "markdown",
   "metadata": {},
   "source": [
    "# Math - O(N) runtime, O(1) space, where N is the length of the str n"
   ]
  },
  {
   "cell_type": "code",
   "execution_count": 5,
   "metadata": {},
   "outputs": [],
   "source": [
    "from math import log10\n",
    "\n",
    "class Solution:\n",
    "    def nearestPalindromic(self, n: str) -> str:\n",
    "        N, n = len(n), int(n)\n",
    "        def reflect(first_half):\n",
    "            \"\"\"if n is odd length reflect('12') = '121', otherwise reflect('12') = '1221'\"\"\"\n",
    "            l = str(first_half)\n",
    "            return l + l[: -(N % 2) or None][::-1]\n",
    "\n",
    "        if N == 1:\n",
    "            return str(n - 1)\n",
    "        elif log10(n).is_integer() or log10(n - 1).is_integer():\n",
    "            return (N - 1) * \"9\"\n",
    "        elif log10(n + 1).is_integer():\n",
    "            return \"1\" + \"0\" * (N - 1) + \"1\"\n",
    "\n",
    "        left_half = int(str(n)[: (N + 1) // 2])\n",
    "        left_half_uppered = left_half + 1\n",
    "        left_half_lowered = left_half - 1\n",
    "\n",
    "        return min(\n",
    "            map(reflect, (left_half_lowered, left_half, left_half_uppered,)),\n",
    "            key=lambda num: abs(n - int(num)) or float(\"inf\"),\n",
    "        )"
   ]
  },
  {
   "cell_type": "code",
   "execution_count": 6,
   "metadata": {},
   "outputs": [
    {
     "data": {
      "text/plain": [
       "'475574'"
      ]
     },
     "execution_count": 6,
     "metadata": {},
     "output_type": "execute_result"
    }
   ],
   "source": [
    "instance = Solution()\n",
    "instance.nearestPalindromic('475678')"
   ]
  }
 ],
 "metadata": {
  "kernelspec": {
   "display_name": "Python 3",
   "language": "python",
   "name": "python3"
  },
  "language_info": {
   "codemirror_mode": {
    "name": "ipython",
    "version": 3
   },
   "file_extension": ".py",
   "mimetype": "text/x-python",
   "name": "python",
   "nbconvert_exporter": "python",
   "pygments_lexer": "ipython3",
   "version": "3.7.3"
  }
 },
 "nbformat": 4,
 "nbformat_minor": 2
}
