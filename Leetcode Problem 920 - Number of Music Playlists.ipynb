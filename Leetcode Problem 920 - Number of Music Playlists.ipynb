{
 "cells": [
  {
   "cell_type": "markdown",
   "metadata": {},
   "source": [
    "Problem Statement.\n",
    "\n",
    "Your music player contains n different songs. You want to listen to goal songs (not necessarily different) during your trip. To avoid boredom, you will create a playlist so that:\n",
    "\n",
    "    Every song is played at least once.\n",
    "    A song can only be played again only if k other songs have been played.\n",
    "\n",
    "Given n, goal, and k, return the number of possible playlists that you can create. Since the answer can be very large, return it modulo 109 + 7.\n",
    "\n",
    " \n",
    "\n",
    "Example 1:\n",
    "\n",
    "Input: n = 3, goal = 3, k = 1\n",
    "Output: 6\n",
    "Explanation: There are 6 possible playlists: [1, 2, 3], [1, 3, 2], [2, 1, 3], [2, 3, 1], [3, 1, 2], and [3, 2, 1].\n",
    "\n",
    "Example 2:\n",
    "\n",
    "Input: n = 2, goal = 3, k = 0\n",
    "Output: 6\n",
    "Explanation: There are 6 possible playlists: [1, 1, 2], [1, 2, 1], [2, 1, 1], [2, 2, 1], [2, 1, 2], and [1, 2, 2].\n",
    "\n",
    "Example 3:\n",
    "\n",
    "Input: n = 2, goal = 3, k = 1\n",
    "Output: 2\n",
    "Explanation: There are 2 possible playlists: [1, 2, 1] and [2, 1, 2].\n",
    "\n",
    " \n",
    "\n",
    "Constraints:\n",
    "\n",
    "    0 <= k < n <= goal <= 100"
   ]
  },
  {
   "cell_type": "markdown",
   "metadata": {},
   "source": [
    "# Top Down DP - O(N * G) runtime, O(N * G) space"
   ]
  },
  {
   "cell_type": "code",
   "execution_count": 1,
   "metadata": {},
   "outputs": [],
   "source": [
    "from functools import lru_cache\n",
    "\n",
    "class Solution:\n",
    "    def numMusicPlaylists(self, n: int, goal: int, k: int) -> int:\n",
    "        mod = 10**9+7\n",
    "        \n",
    "        @lru_cache(maxsize=None)\n",
    "        def dp(i, j):\n",
    "            if i == 0: return (j == 0)\n",
    "            \n",
    "            ans = dp(i-1, j-1) * (n - (j-1))\n",
    "            if (j > k): ans += dp(i-1, j) * (j-k)\n",
    "            \n",
    "            return ans % mod\n",
    "\n",
    "        return dp(goal, n)"
   ]
  },
  {
   "cell_type": "markdown",
   "metadata": {},
   "source": [
    "# Bottom Up DP - O(N * G) runtime, O(N * G) space"
   ]
  },
  {
   "cell_type": "code",
   "execution_count": 3,
   "metadata": {},
   "outputs": [],
   "source": [
    "class Solution:\n",
    "    def numMusicPlaylists(self, n: int, goal: int, k: int) -> int:\n",
    "        mod = 10**9+7\n",
    "        \n",
    "        dp = [[0] * (n+1) for _ in range(goal+1)]\n",
    "        dp[0][0] = 1\n",
    "        \n",
    "        for i in range(1, goal+1):\n",
    "            for j in range(1, n+1):\n",
    "                dp[i][j] = dp[i-1][j-1] * (n - (j-1) )\n",
    "                if (j > k): dp[i][j] += dp[i-1][j] * (j-k)\n",
    "                \n",
    "                dp[i][j] %= mod\n",
    "\n",
    "        return dp[goal][n]"
   ]
  },
  {
   "cell_type": "code",
   "execution_count": 4,
   "metadata": {},
   "outputs": [
    {
     "data": {
      "text/plain": [
       "6"
      ]
     },
     "execution_count": 4,
     "metadata": {},
     "output_type": "execute_result"
    }
   ],
   "source": [
    "instance = Solution()\n",
    "instance.numMusicPlaylists(2, 3, 0)"
   ]
  }
 ],
 "metadata": {
  "kernelspec": {
   "display_name": "Python 3",
   "language": "python",
   "name": "python3"
  },
  "language_info": {
   "codemirror_mode": {
    "name": "ipython",
    "version": 3
   },
   "file_extension": ".py",
   "mimetype": "text/x-python",
   "name": "python",
   "nbconvert_exporter": "python",
   "pygments_lexer": "ipython3",
   "version": "3.7.3"
  }
 },
 "nbformat": 4,
 "nbformat_minor": 2
}
