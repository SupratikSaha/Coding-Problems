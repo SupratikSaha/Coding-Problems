{
 "cells": [
  {
   "cell_type": "markdown",
   "metadata": {},
   "source": [
    "Problem Statement. <br/>\n",
    "\n",
    "Given the root of a binary tree, return all duplicate subtrees. <br/>\n",
    "For each kind of duplicate subtrees, you only need to return the root node of any one of them. <br/>\n",
    "Two trees are duplicate if they have the same structure with the same node values. <br/>\n",
    "\n",
    "Example 1: <br/>\n",
    "Input: root = [1,2,3,4,null,2,4,null,null,4] <br/>\n",
    "Output: [[2,4],[4]] <br/>\n",
    "\n",
    "Example 2: <br/>\n",
    "Input: root = [2,1,1] <br/>\n",
    "Output: [[1]] <br/>\n",
    "\n",
    "Example 3: <br/>\n",
    "Input: root = [2,2,2,3,null,3,null] <br/>\n",
    "Output: [[2,3],[3]]"
   ]
  },
  {
   "cell_type": "markdown",
   "metadata": {},
   "source": [
    "# Hash Map & DFS - O(N ^ 3) runtime, O(N) space"
   ]
  },
  {
   "cell_type": "code",
   "execution_count": 3,
   "metadata": {},
   "outputs": [],
   "source": [
    "from typing import List\n",
    "from collections import defaultdict\n",
    "\n",
    "# Definition for a binary tree node.\n",
    "# class TreeNode:\n",
    "#     def __init__(self, val=0, left=None, right=None):\n",
    "#         self.val = val\n",
    "#         self.left = left\n",
    "#         self.right = right\n",
    "\n",
    "class Solution:\n",
    "    def findDuplicateSubtrees(self, root: TreeNode) -> List[TreeNode]:\n",
    "        result = []\n",
    "        if not root or (not root.left and not root.right):\n",
    "            return result\n",
    "        treeDict = defaultdict(list)\n",
    "        \n",
    "        stack = [root]\n",
    "        while stack:\n",
    "            node = stack.pop()\n",
    "            \n",
    "\n",
    "            if treeDict.get(node.val) is not None:\n",
    "                hasMatch = False\n",
    "                for i, compareVal in enumerate(treeDict[node.val]):\n",
    "                    compareNode = compareVal[0]\n",
    "                    if self.compare(node, compareNode):\n",
    "                        hasMatch = True\n",
    "                        if not compareVal[1]:\n",
    "                            treeDict[node.val][i][1] = True\n",
    "                            result.append(node)\n",
    "                        break\n",
    "                        \n",
    "            if treeDict.get(node.val) is None or not hasMatch:\n",
    "                treeDict[node.val].append([node, False])\n",
    "                \n",
    "            if node.left:\n",
    "                stack.append(node.left)\n",
    "\n",
    "            if node.right:\n",
    "                stack.append(node.right)\n",
    "                \n",
    "        return result\n",
    "    \n",
    "    def compare(self, node: TreeNode, compareNode: TreeNode) -> bool:\n",
    "        #print(node, compareNode)\n",
    "        if not node and not compareNode:\n",
    "            return True\n",
    "        \n",
    "        if not node or not compareNode:\n",
    "            return False\n",
    "        \n",
    "        if node.val != compareNode.val or not self.compare(node.left, compareNode.left) or not self.compare(node.right, compareNode.right):\n",
    "            return False\n",
    "        \n",
    "        return True"
   ]
  },
  {
   "cell_type": "markdown",
   "metadata": {},
   "source": [
    "# Faster HashMap and DFS - O(N ^ 2) runtime, O(N ^ 2) space"
   ]
  },
  {
   "cell_type": "code",
   "execution_count": 4,
   "metadata": {},
   "outputs": [],
   "source": [
    "from typing import List\n",
    "from collections import Counter\n",
    "\n",
    "# Definition for a binary tree node.\n",
    "# class TreeNode:\n",
    "#     def __init__(self, val=0, left=None, right=None):\n",
    "#         self.val = val\n",
    "#         self.left = left\n",
    "#         self.right = right\n",
    "\n",
    "class Solution:\n",
    "    def findDuplicateSubtrees(self, root: TreeNode) -> List[TreeNode]:\n",
    "        count = Counter()\n",
    "        ans = []\n",
    "        def collect(node):\n",
    "            if not node: return \"#\"\n",
    "            serial = \"{},{},{}\".format(node.val, collect(node.left), collect(node.right))\n",
    "            count[serial] += 1\n",
    "            if count[serial] == 2:\n",
    "                ans.append(node)\n",
    "            return serial\n",
    "\n",
    "        collect(root)\n",
    "        return ans "
   ]
  },
  {
   "cell_type": "markdown",
   "metadata": {},
   "source": [
    "# Unique Identifier, Hash Map and DFS - O(N) runtime, O(N) space"
   ]
  },
  {
   "cell_type": "code",
   "execution_count": 5,
   "metadata": {},
   "outputs": [],
   "source": [
    "from typing import List\n",
    "from collections import Counter, defaultdict\n",
    "\n",
    "# Definition for a binary tree node.\n",
    "# class TreeNode:\n",
    "#     def __init__(self, val=0, left=None, right=None):\n",
    "#         self.val = val\n",
    "#         self.left = left\n",
    "#         self.right = right\n",
    "\n",
    "class Solution:\n",
    "    def findDuplicateSubtrees(self, root: TreeNode) -> List[TreeNode]:\n",
    "        trees = defaultdict()\n",
    "        trees.default_factory = trees.__len__\n",
    "        count = Counter()\n",
    "        ans = []\n",
    "        def lookup(node):\n",
    "            if node:\n",
    "                uid = trees[node.val, lookup(node.left), lookup(node.right)]\n",
    "                count[uid] += 1\n",
    "                if count[uid] == 2:\n",
    "                    ans.append(node)\n",
    "                return uid\n",
    "\n",
    "        lookup(root)\n",
    "        return ans    "
   ]
  }
 ],
 "metadata": {
  "kernelspec": {
   "display_name": "Python 3",
   "language": "python",
   "name": "python3"
  },
  "language_info": {
   "codemirror_mode": {
    "name": "ipython",
    "version": 3
   },
   "file_extension": ".py",
   "mimetype": "text/x-python",
   "name": "python",
   "nbconvert_exporter": "python",
   "pygments_lexer": "ipython3",
   "version": "3.7.3"
  }
 },
 "nbformat": 4,
 "nbformat_minor": 2
}
