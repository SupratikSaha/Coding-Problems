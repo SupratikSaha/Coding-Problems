{
 "cells": [
  {
   "cell_type": "markdown",
   "metadata": {},
   "source": [
    "Problem Statement.\n",
    "\n",
    "Implement a basic calculator to evaluate a simple expression string.\n",
    "\n",
    "The expression string contains only non-negative integers, '+', '-', '*', '/' operators, and open '(' and closing parentheses ')'. The integer division should truncate toward zero.\n",
    "\n",
    "You may assume that the given expression is always valid. All intermediate results will be in the range of [-231, 231 - 1].\n",
    "\n",
    "Note: You are not allowed to use any built-in function which evaluates strings as mathematical expressions, such as eval().\n",
    "\n",
    " \n",
    "\n",
    "Example 1:\n",
    "\n",
    "Input: s = \"1+1\"\n",
    "Output: 2\n",
    "\n",
    "Example 2:\n",
    "\n",
    "Input: s = \"6-4/2\"\n",
    "Output: 4\n",
    "\n",
    "Example 3:\n",
    "\n",
    "Input: s = \"2*(5+5*2)/3+(6/2+8)\"\n",
    "Output: 21\n",
    "\n",
    "Example 4:\n",
    "\n",
    "Input: s = \"(2+6*3+5-(3*14/7+2)*5)+3\"\n",
    "Output: -12\n",
    "\n",
    "Example 5:\n",
    "\n",
    "Input: s = \"0\"\n",
    "Output: 0\n",
    "\n",
    " \n",
    "\n",
    "Constraints:\n",
    "\n",
    "    1 <= s <= 104\n",
    "    s consists of digits, '+', '-', '*', '/', '(', and ')'.\n",
    "    s is a valid expression."
   ]
  },
  {
   "cell_type": "markdown",
   "metadata": {},
   "source": [
    "# Stack - O(N) runtime, O(N) space"
   ]
  },
  {
   "cell_type": "code",
   "execution_count": 2,
   "metadata": {},
   "outputs": [],
   "source": [
    "class Solution:\n",
    "    def calculate(self, s: str) -> int:\n",
    "        s = s + \"$\"\n",
    "        def helper(stack, i):\n",
    "            num = 0\n",
    "            sign = '+'\n",
    "            while i < len(s):\n",
    "                c = s[i]\n",
    "                if c.isdigit():\n",
    "                    num = 10 * num + int(c)\n",
    "                    i += 1\n",
    "                elif c == '(':\n",
    "                    num, i = helper([], i+1)\n",
    "                else:\n",
    "                    if sign == '+':\n",
    "                        stack.append(num)\n",
    "                    if sign == '-':\n",
    "                        stack.append(-num)\n",
    "                    if sign == '*':\n",
    "                        stack.append(stack.pop() * num)\n",
    "                    if sign == '/':\n",
    "                        stack.append(int(stack.pop() / num))\n",
    "                    num = 0\n",
    "                    i += 1\n",
    "                    if c == ')':\n",
    "                        return sum(stack), i\n",
    "                    sign = c \n",
    "            return sum(stack)\n",
    "        return helper([], 0)"
   ]
  },
  {
   "cell_type": "code",
   "execution_count": 4,
   "metadata": {},
   "outputs": [
    {
     "data": {
      "text/plain": [
       "-12"
      ]
     },
     "execution_count": 4,
     "metadata": {},
     "output_type": "execute_result"
    }
   ],
   "source": [
    "instance = Solution()\n",
    "instance.calculate(\"(2+6*3+5-(3*14/7+2)*5)+3\")"
   ]
  }
 ],
 "metadata": {
  "kernelspec": {
   "display_name": "Python 3",
   "language": "python",
   "name": "python3"
  },
  "language_info": {
   "codemirror_mode": {
    "name": "ipython",
    "version": 3
   },
   "file_extension": ".py",
   "mimetype": "text/x-python",
   "name": "python",
   "nbconvert_exporter": "python",
   "pygments_lexer": "ipython3",
   "version": "3.7.3"
  }
 },
 "nbformat": 4,
 "nbformat_minor": 2
}
