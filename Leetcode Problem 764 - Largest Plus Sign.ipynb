{
 "cells": [
  {
   "cell_type": "markdown",
   "metadata": {},
   "source": [
    "Problem Statement.\n",
    "\n",
    "You are given an integer n. You have an n x n binary grid grid with all values initially 1's except for some indices given in the array mines. The ith element of the array mines is defined as mines[i] = [xi, yi] where grid[xi][yi] == 0.\n",
    "\n",
    "Return the order of the largest axis-aligned plus sign of 1's contained in grid. If there is none, return 0.\n",
    "\n",
    "An axis-aligned plus sign of 1's of order k has some center grid[r][c] == 1 along with four arms of length k - 1 going up, down, left, and right, and made of 1's. Note that there could be 0's or 1's beyond the arms of the plus sign, only the relevant area of the plus sign is checked for 1's.\n",
    "\n",
    " \n",
    "\n",
    "Example 1:\n",
    "\n",
    "Input: n = 5, mines = [[4,2]]\n",
    "Output: 2\n",
    "Explanation: In the above grid, the largest plus sign can only be of order 2. One of them is shown.\n",
    "\n",
    "Example 2:\n",
    "\n",
    "Input: n = 1, mines = [[0,0]]\n",
    "Output: 0\n",
    "Explanation: There is no plus sign, so return 0.\n",
    "\n",
    " \n",
    "\n",
    "Constraints:\n",
    "\n",
    "    1 <= n <= 500\n",
    "    1 <= mines.length <= 5000\n",
    "    0 <= xi, yi < n\n",
    "    All the pairs (xi, yi) are unique."
   ]
  },
  {
   "cell_type": "markdown",
   "metadata": {},
   "source": [
    "# DP - O(N ^ 2) runtime, O(N ^ 2) space"
   ]
  },
  {
   "cell_type": "code",
   "execution_count": 1,
   "metadata": {},
   "outputs": [],
   "source": [
    "from typing import List\n",
    "\n",
    "class Solution:\n",
    "    def orderOfLargestPlusSign(self, n: int, mines: List[List[int]]) -> int:\n",
    "        banned = {tuple(mine) for mine in mines}\n",
    "        dp = [[0] * n for _ in range(n)]\n",
    "        ans = 0\n",
    "        \n",
    "        for r in range(n):\n",
    "            count = 0\n",
    "            for c in range(n):\n",
    "                count = 0 if (r,c) in banned else count+1\n",
    "                dp[r][c] = count\n",
    "            \n",
    "            count = 0\n",
    "            for c in range(n-1, -1, -1):\n",
    "                count = 0 if (r,c) in banned else count+1\n",
    "                if count < dp[r][c]: dp[r][c] = count\n",
    "        \n",
    "        for c in range(n):\n",
    "            count = 0\n",
    "            for r in range(n):\n",
    "                count = 0 if (r,c) in banned else count+1\n",
    "                if count < dp[r][c]: dp[r][c] = count\n",
    "            \n",
    "            count = 0\n",
    "            for r in range(n-1, -1, -1):\n",
    "                count = 0 if (r, c) in banned else count+1\n",
    "                if count < dp[r][c]: dp[r][c] = count\n",
    "                if dp[r][c] > ans: ans = dp[r][c]\n",
    "        \n",
    "        return ans"
   ]
  },
  {
   "cell_type": "code",
   "execution_count": 2,
   "metadata": {},
   "outputs": [
    {
     "data": {
      "text/plain": [
       "2"
      ]
     },
     "execution_count": 2,
     "metadata": {},
     "output_type": "execute_result"
    }
   ],
   "source": [
    "instance = Solution()\n",
    "instance.orderOfLargestPlusSign(5, [[4,2]])"
   ]
  }
 ],
 "metadata": {
  "kernelspec": {
   "display_name": "Python 3",
   "language": "python",
   "name": "python3"
  },
  "language_info": {
   "codemirror_mode": {
    "name": "ipython",
    "version": 3
   },
   "file_extension": ".py",
   "mimetype": "text/x-python",
   "name": "python",
   "nbconvert_exporter": "python",
   "pygments_lexer": "ipython3",
   "version": "3.7.3"
  }
 },
 "nbformat": 4,
 "nbformat_minor": 2
}
