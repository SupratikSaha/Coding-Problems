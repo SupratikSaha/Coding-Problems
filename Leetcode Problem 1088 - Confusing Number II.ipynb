{
 "cells": [
  {
   "cell_type": "markdown",
   "metadata": {},
   "source": [
    "Problem Statement. <br/>\n",
    "\n",
    "We can rotate digits by 180 degrees to form new digits. When 0, 1, 6, 8, 9 are rotated 180 degrees, they become 0, 1, 9, 8, 6 respectively. When 2, 3, 4, 5 and 7 are rotated 180 degrees, they become invalid. <br/>\n",
    "A confusing number is a number that when rotated 180 degrees becomes a different number with each digit valid.(Note that the rotated number can be greater than the original number.) <br/>\n",
    "Given a positive integer N, return the number of confusing numbers between 1 and N inclusive. <br/>\n",
    "\n",
    " \n",
    "\n",
    "Example 1: <br/>\n",
    "Input: 20 <br/>\n",
    "Output: 6 <br/>\n",
    "Explanation: <br/>\n",
    "The confusing numbers are [6,9,10,16,18,19]. <br/>\n",
    "6 converts to 9. <br/>\n",
    "9 converts to 6. <br/>\n",
    "10 converts to 01 which is just 1. <br/>\n",
    "16 converts to 91. <br/>\n",
    "18 converts to 81. <br/>\n",
    "19 converts to 61. <br/>\n",
    "\n",
    "Example 2: <br/>\n",
    "Input: 100 <br/>\n",
    "Output: 19 <br/>\n",
    "Explanation: <br/>\n",
    "The confusing numbers are [6,9,10,16,18,19,60,61,66,68,80,81,86,89,90,91,98,99,100]."
   ]
  },
  {
   "cell_type": "markdown",
   "metadata": {},
   "source": [
    "# Check digits - O(N log N) runtime, O(1) space"
   ]
  },
  {
   "cell_type": "code",
   "execution_count": 3,
   "metadata": {},
   "outputs": [],
   "source": [
    "class Solution:\n",
    "    def confusingNumberII(self, N: int) -> int:\n",
    "        \n",
    "        result = 0\n",
    "        discardDigits = {2:-1, 3:-1, 4:-1, 5:-1, 7:-1}\n",
    "        transformDigits = {0:0, 1:1, 6:9, 8:8, 9:6}\n",
    "        \n",
    "        for i in range(1, N + 1):\n",
    "            num, reverse, fail = i, 0, False\n",
    "            while num:\n",
    "                digit = num % 10\n",
    "                if discardDigits.get(digit, 0) == -1:\n",
    "                    fail = True\n",
    "                    break\n",
    "                num //= 10 \n",
    "                reverse = reverse * 10 + transformDigits[digit]\n",
    "                    \n",
    "            if not fail and reverse != i:\n",
    "                result += 1\n",
    "                \n",
    "        return result"
   ]
  },
  {
   "cell_type": "markdown",
   "metadata": {},
   "source": [
    "# Recursion - O(5 ^ log N) runtime, O(log N) space "
   ]
  },
  {
   "cell_type": "code",
   "execution_count": null,
   "metadata": {},
   "outputs": [],
   "source": [
    "class Solution:\n",
    "    def confusingNumberII(self, N: int) -> int:\n",
    "        \n",
    "        valid = [0,1,6,8,9]\n",
    "        mapping = {0: 0,1: 1,6: 9,8: 8, 9: 6}\n",
    "\n",
    "        self.count = 0\n",
    "\n",
    "        def backtrack(v, rotation,digit):\n",
    "            if v: \n",
    "                if v != rotation: \n",
    "                    self.count += 1  \n",
    "            for i in valid: \n",
    "                if v*10+i > N:\n",
    "                    break \n",
    "                else:\n",
    "                    backtrack(v*10+i, mapping[i]*digit + rotation, digit*10)\n",
    "        \n",
    "        backtrack(1,1, 10)\n",
    "        backtrack(6,9,10)\n",
    "        backtrack(8,8,10)\n",
    "        backtrack(9,6,10)\n",
    "\n",
    "        return self.count "
   ]
  },
  {
   "cell_type": "markdown",
   "metadata": {},
   "source": [
    "# Cleaner Recursion but takes more time - O(5 ^ log N) runtime, O(log N) space"
   ]
  },
  {
   "cell_type": "code",
   "execution_count": 5,
   "metadata": {},
   "outputs": [],
   "source": [
    "class Solution:\n",
    "    def confusingNumberII(self, N: int) -> int:\n",
    "        \n",
    "        validDigit = [0, 1, 6, 8, 9]\n",
    "        m = {0:0, 1:1, 6:9, 8:8, 9:6}\n",
    "        \n",
    "        def dfs(num, rotation, digit):\n",
    "            res = 0\n",
    "            if num != rotation: res += 1    \n",
    "            # add one more digit\n",
    "            for d in validDigit:\n",
    "                if d == 0 and num == 0:\n",
    "                    continue\n",
    "                if num*10 + d <= N:\n",
    "                    res += dfs(num*10 + d, m[d]*digit+rotation, digit*10)\n",
    "            return res\n",
    "        return dfs(0, 0, 1)"
   ]
  },
  {
   "cell_type": "code",
   "execution_count": 6,
   "metadata": {},
   "outputs": [
    {
     "data": {
      "text/plain": [
       "19"
      ]
     },
     "execution_count": 6,
     "metadata": {},
     "output_type": "execute_result"
    }
   ],
   "source": [
    "instance = Solution()\n",
    "instance.confusingNumberII(100)"
   ]
  }
 ],
 "metadata": {
  "kernelspec": {
   "display_name": "Python 3",
   "language": "python",
   "name": "python3"
  },
  "language_info": {
   "codemirror_mode": {
    "name": "ipython",
    "version": 3
   },
   "file_extension": ".py",
   "mimetype": "text/x-python",
   "name": "python",
   "nbconvert_exporter": "python",
   "pygments_lexer": "ipython3",
   "version": "3.7.3"
  }
 },
 "nbformat": 4,
 "nbformat_minor": 2
}
