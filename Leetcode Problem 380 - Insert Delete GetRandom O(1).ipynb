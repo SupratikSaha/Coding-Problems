{
 "cells": [
  {
   "cell_type": "markdown",
   "metadata": {},
   "source": [
    "Problem Statement. <br/>\n",
    "\n",
    "Implement the RandomizedSet class: <br/>\n",
    "\n",
    "    bool insert(int val) Inserts an item val into the set if not present. Returns true if the item was not present, false otherwise.\n",
    "    bool remove(int val) Removes an item val from the set if present. Returns true if the item was present, false otherwise.\n",
    "    int getRandom() Returns a random element from the current set of elements (it's guaranteed that at least one element exists when this method is called). Each element must have the same probability of being returned.\n",
    "    \n",
    "Example 1: <br/>\n",
    "Input: <br/>\n",
    "[\"RandomizedSet\", \"insert\", \"remove\", \"insert\", \"getRandom\", \"remove\", \"insert\", \"getRandom\"] <br/>\n",
    "[[], [1], [2], [2], [], [1], [2], []] <br/>\n",
    "Output: <br/>\n",
    "[null, true, false, true, 2, true, false, 2] <br/>\n",
    "\n",
    "Explanation: <br/>\n",
    "RandomizedSet randomizedSet = new RandomizedSet(); <br/>\n",
    "randomizedSet.insert(1); // Inserts 1 to the set. Returns true as 1 was inserted successfully. <br/>\n",
    "randomizedSet.remove(2); // Returns false as 2 does not exist in the set. <br/>\n",
    "randomizedSet.insert(2); // Inserts 2 to the set, returns true. Set now contains [1,2]. <br/>\n",
    "randomizedSet.getRandom(); // getRandom() should return either 1 or 2 randomly. <br/>\n",
    "randomizedSet.remove(1); // Removes 1 from the set, returns true. Set now contains [2]. <br/>\n",
    "randomizedSet.insert(2); // 2 was already in the set, so return false. <br/>\n",
    "randomizedSet.getRandom(); // Since 2 is the only number in the set, getRandom() will always return 2."
   ]
  },
  {
   "cell_type": "markdown",
   "metadata": {},
   "source": [
    "# Dict - O(1) runtime, O(N) space"
   ]
  },
  {
   "cell_type": "code",
   "execution_count": 1,
   "metadata": {},
   "outputs": [],
   "source": [
    "class RandomizedSet:\n",
    "\n",
    "    def __init__(self):\n",
    "        \"\"\"\n",
    "        Initialize your data structure here.\n",
    "        \"\"\"\n",
    "        self.randomizedSet = {}\n",
    "\n",
    "    def insert(self, val: int) -> bool:\n",
    "        \"\"\"\n",
    "        Inserts a value to the set. Returns true if the set did not already contain the specified element.\n",
    "        \"\"\"\n",
    "        if val not in self.randomizedSet:\n",
    "            self.randomizedSet[val] = True\n",
    "            return True\n",
    "        \n",
    "        return False\n",
    "\n",
    "    def remove(self, val: int) -> bool:\n",
    "        \"\"\"\n",
    "        Removes a value from the set. Returns true if the set contained the specified element.\n",
    "        \"\"\"\n",
    "        if val in self.randomizedSet:\n",
    "            self.randomizedSet.pop(val)\n",
    "            return True\n",
    "        \n",
    "        return False\n",
    "\n",
    "    def getRandom(self) -> int:\n",
    "        \"\"\"\n",
    "        Get a random element from the set.\n",
    "        \"\"\"\n",
    "        n = len(self.randomizedSet)\n",
    "        index = random.randint(0, n-1)\n",
    "        return list(self.randomizedSet.keys())[index]"
   ]
  },
  {
   "cell_type": "markdown",
   "metadata": {},
   "source": [
    "# List - O(1) avreage case runtime, O(N) runtime in the worst-case scenario when the operation exceeds the capacity of currently allocated array/hashmap and invokes space reallocation, O(N) space"
   ]
  },
  {
   "cell_type": "code",
   "execution_count": 2,
   "metadata": {},
   "outputs": [],
   "source": [
    "from random import choice\n",
    "class RandomizedSet():\n",
    "    def __init__(self):\n",
    "        \"\"\"\n",
    "        Initialize your data structure here.\n",
    "        \"\"\"\n",
    "        self.dict = {}\n",
    "        self.list = []\n",
    "\n",
    "        \n",
    "    def insert(self, val: int) -> bool:\n",
    "        \"\"\"\n",
    "        Inserts a value to the set. Returns true if the set did not already contain the specified element.\n",
    "        \"\"\"\n",
    "        if val in self.dict:\n",
    "            return False\n",
    "        self.dict[val] = len(self.list)\n",
    "        self.list.append(val)\n",
    "        return True\n",
    "        \n",
    "\n",
    "    def remove(self, val: int) -> bool:\n",
    "        \"\"\"\n",
    "        Removes a value from the set. Returns true if the set contained the specified element.\n",
    "        \"\"\"\n",
    "        if val in self.dict:\n",
    "            # move the last element to the place idx of the element to delete\n",
    "            last_element, idx = self.list[-1], self.dict[val]\n",
    "            self.list[idx], self.dict[last_element] = last_element, idx\n",
    "            # delete the last element\n",
    "            self.list.pop()\n",
    "            del self.dict[val]\n",
    "            return True\n",
    "        return False\n",
    "\n",
    "    def getRandom(self) -> int:\n",
    "        \"\"\"\n",
    "        Get a random element from the set.\n",
    "        \"\"\"\n",
    "        return choice(self.list)"
   ]
  }
 ],
 "metadata": {
  "kernelspec": {
   "display_name": "Python 3",
   "language": "python",
   "name": "python3"
  },
  "language_info": {
   "codemirror_mode": {
    "name": "ipython",
    "version": 3
   },
   "file_extension": ".py",
   "mimetype": "text/x-python",
   "name": "python",
   "nbconvert_exporter": "python",
   "pygments_lexer": "ipython3",
   "version": "3.7.3"
  }
 },
 "nbformat": 4,
 "nbformat_minor": 2
}
