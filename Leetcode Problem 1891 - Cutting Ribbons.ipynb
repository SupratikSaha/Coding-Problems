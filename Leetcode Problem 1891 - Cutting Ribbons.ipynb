{
 "cells": [
  {
   "cell_type": "markdown",
   "metadata": {},
   "source": [
    "Problem Statement.\n",
    "\n",
    "You are given an integer array ribbons, where ribbons[i] represents the length of the ith ribbon, and an integer k. You may cut any of the ribbons into any number of segments of positive integer lengths, or perform no cuts at all.\n",
    "\n",
    "    For example, if you have a ribbon of length 4, you can:\n",
    "        Keep the ribbon of length 4,\n",
    "        Cut it into one ribbon of length 3 and one ribbon of length 1,\n",
    "        Cut it into two ribbons of length 2,\n",
    "        Cut it into one ribbon of length 2 and two ribbons of length 1, or\n",
    "        Cut it into four ribbons of length 1.\n",
    "\n",
    "Your goal is to obtain k ribbons of all the same positive integer length. You are allowed to throw away any excess ribbon as a result of cutting.\n",
    "\n",
    "Return the maximum possible positive integer length that you can obtain k ribbons of, or 0 if you cannot obtain k ribbons of the same length.\n",
    "\n",
    " \n",
    "\n",
    "Example 1:\n",
    "\n",
    "Input: ribbons = [9,7,5], k = 3\n",
    "Output: 5\n",
    "Explanation:\n",
    "- Cut the first ribbon to two ribbons, one of length 5 and one of length 4.\n",
    "- Cut the second ribbon to two ribbons, one of length 5 and one of length 2.\n",
    "- Keep the third ribbon as it is.\n",
    "Now you have 3 ribbons of length 5.\n",
    "\n",
    "Example 2:\n",
    "\n",
    "Input: ribbons = [7,5,9], k = 4\n",
    "Output: 4\n",
    "Explanation:\n",
    "- Cut the first ribbon to two ribbons, one of length 4 and one of length 3.\n",
    "- Cut the second ribbon to two ribbons, one of length 4 and one of length 1.\n",
    "- Cut the third ribbon to three ribbons, two of length 4 and one of length 1.\n",
    "Now you have 4 ribbons of length 4.\n",
    "\n",
    "Example 3:\n",
    "\n",
    "Input: ribbons = [5,7,9], k = 22\n",
    "Output: 0\n",
    "Explanation: You cannot obtain k ribbons of the same positive integer length.\n",
    "\n",
    " \n",
    "\n",
    "Constraints:\n",
    "\n",
    "    1 <= ribbons.length <= 10^5\n",
    "    1 <= ribbons[i] <= 10^5\n",
    "    1 <= k <= 10^9"
   ]
  },
  {
   "cell_type": "markdown",
   "metadata": {},
   "source": [
    "# Binary Search - O(N * Log M) runtime, O(1) space, where M is the max of ribbons"
   ]
  },
  {
   "cell_type": "code",
   "execution_count": 1,
   "metadata": {},
   "outputs": [],
   "source": [
    "from typing import List\n",
    "\n",
    "class Solution:\n",
    "    def maxLength(self, ribbons: List[int], k: int) -> int:\n",
    "        \n",
    "        def getCounts(length):\n",
    "            count = 0\n",
    "            for r in ribbons:\n",
    "                count += r // length\n",
    "                if count >= k: return True\n",
    "            return False\n",
    "        \n",
    "        l, r = 1, max(ribbons)\n",
    "        val = 0\n",
    "        while l <= r:\n",
    "            m = l + (r - l) // 2\n",
    "            if getCounts(m):\n",
    "                val = max(val, m)\n",
    "                l = m + 1\n",
    "            else:\n",
    "                r = m - 1\n",
    "                \n",
    "        return val"
   ]
  },
  {
   "cell_type": "markdown",
   "metadata": {},
   "source": [
    "# Simpler Binary Search - O(N * Log M) runtime, O(1) space, where M is the max of ribbons"
   ]
  },
  {
   "cell_type": "code",
   "execution_count": null,
   "metadata": {},
   "outputs": [],
   "source": [
    "from typing import List\n",
    "\n",
    "class Solution:\n",
    "    def maxLength(self, ribbons: List[int], k: int) -> int:\n",
    "        total = sum(ribbons)\n",
    "        if k > total:\n",
    "            return 0\n",
    "        \n",
    "        lo, hi = 1, max(ribbons)\n",
    "        val = 0\n",
    "        while lo <= hi:\n",
    "            mid = lo + (hi - lo) // 2\n",
    "            if sum(x // mid for x in ribbons) >= k:\n",
    "                val = mid\n",
    "                lo = mid + 1\n",
    "            else:\n",
    "                hi = mid - 1\n",
    "        \n",
    "        return val"
   ]
  },
  {
   "cell_type": "code",
   "execution_count": 3,
   "metadata": {},
   "outputs": [
    {
     "data": {
      "text/plain": [
       "4"
      ]
     },
     "execution_count": 3,
     "metadata": {},
     "output_type": "execute_result"
    }
   ],
   "source": [
    "instance = Solution()\n",
    "instance.maxLength([7,5,9], k = 4)"
   ]
  }
 ],
 "metadata": {
  "kernelspec": {
   "display_name": "Python 3",
   "language": "python",
   "name": "python3"
  },
  "language_info": {
   "codemirror_mode": {
    "name": "ipython",
    "version": 3
   },
   "file_extension": ".py",
   "mimetype": "text/x-python",
   "name": "python",
   "nbconvert_exporter": "python",
   "pygments_lexer": "ipython3",
   "version": "3.7.3"
  }
 },
 "nbformat": 4,
 "nbformat_minor": 2
}
