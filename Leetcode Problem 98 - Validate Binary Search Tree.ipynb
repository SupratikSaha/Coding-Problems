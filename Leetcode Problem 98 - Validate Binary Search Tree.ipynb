{
 "cells": [
  {
   "cell_type": "markdown",
   "metadata": {},
   "source": [
    "# Brute Force - O(n^2) run time O(n) stack space"
   ]
  },
  {
   "cell_type": "code",
   "execution_count": null,
   "metadata": {},
   "outputs": [],
   "source": [
    "# Definition for a binary tree node.\n",
    "# class TreeNode:\n",
    "#     def __init__(self, x):\n",
    "#         self.val = x\n",
    "#         self.left = None\n",
    "#         self.right = None\n",
    "\n",
    "class Solution:\n",
    "    \n",
    "    def isSubtreeLessThan(self, p: TreeNode, val: int):\n",
    "        if (p == None):\n",
    "            return True\n",
    "        \n",
    "        return p.val < val and self.isSubtreeLessThan(p.left, val) and self.isSubtreeLessThan(p.right, val)\n",
    "    \n",
    "    def isSubtreeGreaterThan(self, p: TreeNode, val: int):\n",
    "        if (p == None):\n",
    "            return True\n",
    "\n",
    "        return p.val > val and self.isSubtreeGreaterThan(p.left, val) and self.isSubtreeGreaterThan(p.right, val)\n",
    "        \n",
    "    def isValidBST(self, root: TreeNode) -> bool:\n",
    "        if root == None:\n",
    "            return True\n",
    "        \n",
    "        return self.isSubtreeLessThan(root.left, root.val) and self.isSubtreeGreaterThan(root.right, root.val) and self.isValidBST(root.left) and self.isValidBST(root.right)"
   ]
  },
  {
   "cell_type": "markdown",
   "metadata": {},
   "source": [
    "# Top-down recursion - O(n) run time, O(n) stack space"
   ]
  },
  {
   "cell_type": "code",
   "execution_count": null,
   "metadata": {},
   "outputs": [],
   "source": [
    "# Definition for a binary tree node.\n",
    "# class TreeNode:\n",
    "#     def __init__(self, x):\n",
    "#         self.val = x\n",
    "#         self.left = None\n",
    "#         self.right = None\n",
    "\n",
    "class Solution:\n",
    "            \n",
    "    def isValidBST(self, root: TreeNode) -> bool:\n",
    "        return self.valid(root, -2**31 - 1, 2**31)\n",
    "    \n",
    "    def valid(self, p: TreeNode, low: int, high: int):\n",
    "        if (p == None):\n",
    "            return True\n",
    "\n",
    "        return p.val > low and p.val < high and self.valid(p.left, low, p.val) and self.valid(p.right, p.val, high)"
   ]
  },
  {
   "cell_type": "markdown",
   "metadata": {},
   "source": [
    "# In-order traversal - O(n) run time, O(n) space"
   ]
  },
  {
   "cell_type": "code",
   "execution_count": null,
   "metadata": {},
   "outputs": [],
   "source": [
    "class Solution:\n",
    "    prev = None        \n",
    "    \n",
    "    def isValidBST(self, root: TreeNode) -> bool:\n",
    "        return self.isMonotonicIncreasing(root)\n",
    "    \n",
    "    def isMonotonicIncreasing(self, p: TreeNode) -> bool:\n",
    "        if p == None:\n",
    "            return True\n",
    "        if self.isMonotonicIncreasing(p.left):\n",
    "            if self.prev != None:\n",
    "                if p.val <= self.prev.val:\n",
    "                    return False\n",
    "            self.prev = p\n",
    "            return self.isMonotonicIncreasing(p.right)\n",
    "        return False"
   ]
  }
 ],
 "metadata": {
  "kernelspec": {
   "display_name": "Python 3",
   "language": "python",
   "name": "python3"
  },
  "language_info": {
   "codemirror_mode": {
    "name": "ipython",
    "version": 3
   },
   "file_extension": ".py",
   "mimetype": "text/x-python",
   "name": "python",
   "nbconvert_exporter": "python",
   "pygments_lexer": "ipython3",
   "version": "3.7.3"
  }
 },
 "nbformat": 4,
 "nbformat_minor": 2
}
