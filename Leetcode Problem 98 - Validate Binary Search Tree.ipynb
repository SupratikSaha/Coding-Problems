{
 "cells": [
  {
   "cell_type": "markdown",
   "metadata": {},
   "source": [
    "Problem Statement. <br/>\n",
    "\n",
    "Given the root of a binary tree, determine if it is a valid binary search tree (BST). <br/>\n",
    "\n",
    "A valid BST is defined as follows: <br/>\n",
    "\n",
    "    The left subtree of a node contains only nodes with keys less than the node's key. <br/>\n",
    "    The right subtree of a node contains only nodes with keys greater than the node's key. <br/>\n",
    "    Both the left and right subtrees must also be binary search trees. <br/>\n",
    "\n",
    " \n",
    "\n",
    "Example 1: <br/>\n",
    "Input: root = [2,1,3] <br/>\n",
    "Output: true <br/>\n",
    "\n",
    "Example 2: <br/>\n",
    "Input: root = [5,1,4,null,null,3,6] <br/>\n",
    "Output: false <br/>\n",
    "Explanation: The root node's value is 5 but its right child's value is 4."
   ]
  },
  {
   "cell_type": "markdown",
   "metadata": {},
   "source": [
    "# Brute Force - O(n^2) run time O(n) stack space"
   ]
  },
  {
   "cell_type": "code",
   "execution_count": 1,
   "metadata": {},
   "outputs": [],
   "source": [
    "# Definition for a binary tree node.\n",
    "# class TreeNode:\n",
    "#     def __init__(self, x):\n",
    "#         self.val = x\n",
    "#         self.left = None\n",
    "#         self.right = None\n",
    "\n",
    "class Solution:\n",
    "    \n",
    "    def isSubtreeLessThan(self, p: TreeNode, val: int):\n",
    "        if (p == None):\n",
    "            return True\n",
    "        \n",
    "        return p.val < val and self.isSubtreeLessThan(p.left, val) and self.isSubtreeLessThan(p.right, val)\n",
    "    \n",
    "    def isSubtreeGreaterThan(self, p: TreeNode, val: int):\n",
    "        if (p == None):\n",
    "            return True\n",
    "\n",
    "        return p.val > val and self.isSubtreeGreaterThan(p.left, val) and self.isSubtreeGreaterThan(p.right, val)\n",
    "        \n",
    "    def isValidBST(self, root: TreeNode) -> bool:\n",
    "        if root == None:\n",
    "            return True\n",
    "        \n",
    "        return self.isSubtreeLessThan(root.left, root.val) and self.isSubtreeGreaterThan(root.right, root.val) and self.isValidBST(root.left) and self.isValidBST(root.right)"
   ]
  },
  {
   "cell_type": "markdown",
   "metadata": {},
   "source": [
    "# Top-down recursion - O(n) run time, O(n) stack space"
   ]
  },
  {
   "cell_type": "code",
   "execution_count": 1,
   "metadata": {},
   "outputs": [],
   "source": [
    "import sys\n",
    "# Definition for a binary tree node.\n",
    "# class TreeNode:\n",
    "#     def __init__(self, val=0, left=None, right=None):\n",
    "#         self.val = val\n",
    "#         self.left = left\n",
    "#         self.right = right\n",
    "\n",
    "class Solution:\n",
    "            \n",
    "    def isValidBST(self, root: TreeNode) -> bool:\n",
    "        \n",
    "        return self.isValidBSTRec(root, -sys.maxsize - 1, sys.maxsize)\n",
    "    \n",
    "    def isValidBSTRec(self, root: TreeNode, min_value: int, max_value: int) -> bool:\n",
    "        if root == None:\n",
    "            return True\n",
    "\n",
    "        if root.val <= min_value or root.val >= max_value:\n",
    "            return False\n",
    "\n",
    "        return self.isValidBSTRec(root.left, min_value, root.val) and self.isValidBSTRec(root.right, root.val, max_value)"
   ]
  },
  {
   "cell_type": "markdown",
   "metadata": {},
   "source": [
    "# In-order traversal - O(n) run time, O(n) space"
   ]
  },
  {
   "cell_type": "code",
   "execution_count": 3,
   "metadata": {},
   "outputs": [],
   "source": [
    "# Definition for a binary tree node.\n",
    "# class TreeNode:\n",
    "#     def __init__(self, val=0, left=None, right=None):\n",
    "#         self.val = val\n",
    "#         self.left = left\n",
    "#         self.right = right\n",
    "\n",
    "class Solution:\n",
    "            \n",
    "    def isValidBST(self, root: TreeNode) -> bool:\n",
    "        # assuming all tree values are positive.\n",
    "        self.prev = float('-inf')\n",
    "        return self.isValidBSTRec(root)\n",
    "    \n",
    "    def isValidBSTRec(self, root):\n",
    "\n",
    "\n",
    "        if root == None:\n",
    "            return True\n",
    "\n",
    "        if self.isValidBSTRec(root.left) == False:\n",
    "            return False\n",
    "\n",
    "        if self.prev >= root.val and self.prev != float('-inf'):\n",
    "            return False\n",
    "\n",
    "        self.prev = root.val\n",
    "\n",
    "        if self.isValidBSTRec(root.right) == False:\n",
    "            return False\n",
    "\n",
    "        return True"
   ]
  }
 ],
 "metadata": {
  "kernelspec": {
   "display_name": "Python 3",
   "language": "python",
   "name": "python3"
  },
  "language_info": {
   "codemirror_mode": {
    "name": "ipython",
    "version": 3
   },
   "file_extension": ".py",
   "mimetype": "text/x-python",
   "name": "python",
   "nbconvert_exporter": "python",
   "pygments_lexer": "ipython3",
   "version": "3.7.3"
  }
 },
 "nbformat": 4,
 "nbformat_minor": 2
}
