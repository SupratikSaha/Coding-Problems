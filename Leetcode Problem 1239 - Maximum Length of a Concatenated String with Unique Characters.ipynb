{
 "cells": [
  {
   "cell_type": "markdown",
   "metadata": {},
   "source": [
    "    Problem Statement.\n",
    "\n",
    "    Given an array of strings arr. String s is a concatenation of a sub-sequence of arr which have unique characters.\n",
    "\n",
    "    Return the maximum possible length of s.\n",
    "\n",
    "\n",
    "\n",
    "    Example 1:\n",
    "\n",
    "    Input: arr = [\"un\",\"iq\",\"ue\"]\n",
    "    Output: 4\n",
    "    Explanation: All possible concatenations are \"\",\"un\",\"iq\",\"ue\",\"uniq\" and \"ique\".\n",
    "    Maximum length is 4.\n",
    "\n",
    "    Example 2:\n",
    "\n",
    "    Input: arr = [\"cha\",\"r\",\"act\",\"ers\"]\n",
    "    Output: 6\n",
    "    Explanation: Possible solutions are \"chaers\" and \"acters\".\n",
    "\n",
    "    Example 3:\n",
    "\n",
    "    Input: arr = [\"abcdefghijklmnopqrstuvwxyz\"]\n",
    "    Output: 26\n",
    "\n",
    "\n",
    "\n",
    "    Constraints:\n",
    "\n",
    "        1 <= arr.length <= 16\n",
    "        1 <= arr[i].length <= 26\n",
    "        arr[i] contains only lower case English letters."
   ]
  },
  {
   "cell_type": "markdown",
   "metadata": {},
   "source": [
    "# Top Down DP - Time Limit Exceeded - O(N * 3 ^ M) runtime, O(N + 3 ^ M) space, where N is the number of characters in the largest string and M is the number of words in the array"
   ]
  },
  {
   "cell_type": "code",
   "execution_count": 4,
   "metadata": {},
   "outputs": [],
   "source": [
    "class Solution:\n",
    "    def maxLength(self, arr: List[str]) -> int:\n",
    "        dp = {i: {} for i in range(len(arr))}\n",
    "        return self.maxLenRecursive(dp, arr, 0, \"\", set())\n",
    "    \n",
    "    def maxLenRecursive(self, dp: Dict[int, Dict[str, int]], arr: List[str], idx: int, prev: str, p: Set[str]) -> int:\n",
    "        if idx == len(arr): return len(prev)\n",
    "        \n",
    "        if prev not in dp[idx]:\n",
    "            n = len(arr[idx])\n",
    "            l1, l2 = 0, 0\n",
    "            c = set()\n",
    "            canAdd = True\n",
    "            hasUniqueChars = True\n",
    "            for i in range(n):\n",
    "                if arr[idx][i] in p:\n",
    "                    canAdd = False\n",
    "                if arr[idx][i] in c:\n",
    "                    canAdd = False\n",
    "                    hasUniqueChars = False\n",
    "                    break\n",
    "                else:\n",
    "                    c.add(arr[idx][i])\n",
    "\n",
    "            if canAdd:\n",
    "                l1 = self.maxLenRecursive(dp, arr, idx + 1 , prev + arr[idx], p | c)\n",
    "\n",
    "            if hasUniqueChars:\n",
    "                l2 = self.maxLenRecursive(dp, arr, idx + 1 , arr[idx], c)\n",
    "\n",
    "            l3 = self.maxLenRecursive(dp, arr, idx + 1 , prev, p)\n",
    "        \n",
    "            dp[idx][prev] = max(l1, l2, l3)\n",
    "        \n",
    "        return dp[idx][prev]"
   ]
  },
  {
   "cell_type": "markdown",
   "metadata": {},
   "source": [
    "# Bottom Up DP - O(N * 3 ^ M) runtime, O(N * 3 ^ M) space, where N is the number of characters in the largest string and M is the number of words in the array"
   ]
  },
  {
   "cell_type": "code",
   "execution_count": 7,
   "metadata": {},
   "outputs": [],
   "source": [
    "from typing import List\n",
    "\n",
    "class Solution:\n",
    "    def maxLength(self, arr: List[str]) -> int:\n",
    "        dp = [set()]\n",
    "        for a in arr:\n",
    "            if len(set(a)) < len(a): continue\n",
    "            a = set(a)\n",
    "            for c in dp:\n",
    "                if a & c: continue\n",
    "                dp.append(a | c)\n",
    "        return max(len(a) for a in dp)"
   ]
  },
  {
   "cell_type": "code",
   "execution_count": 8,
   "metadata": {},
   "outputs": [
    {
     "data": {
      "text/plain": [
       "6"
      ]
     },
     "execution_count": 8,
     "metadata": {},
     "output_type": "execute_result"
    }
   ],
   "source": [
    "instance = Solution()\n",
    "instance.maxLength([\"cha\",\"r\",\"act\",\"ers\"])"
   ]
  }
 ],
 "metadata": {
  "kernelspec": {
   "display_name": "Python 3",
   "language": "python",
   "name": "python3"
  },
  "language_info": {
   "codemirror_mode": {
    "name": "ipython",
    "version": 3
   },
   "file_extension": ".py",
   "mimetype": "text/x-python",
   "name": "python",
   "nbconvert_exporter": "python",
   "pygments_lexer": "ipython3",
   "version": "3.7.3"
  }
 },
 "nbformat": 4,
 "nbformat_minor": 2
}
