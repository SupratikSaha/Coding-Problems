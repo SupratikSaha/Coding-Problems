{
 "cells": [
  {
   "cell_type": "markdown",
   "metadata": {},
   "source": [
    "Problem Statement.\n",
    "\n",
    "There are n cars traveling at different speeds in the same direction along a one-lane road. You are given an array cars of length n, where cars[i] = [positioni, speedi] represents:\n",
    "\n",
    "    positioni is the distance between the ith car and the beginning of the road in meters. It is guaranteed that positioni < positioni+1.\n",
    "    speedi is the initial speed of the ith car in meters per second.\n",
    "\n",
    "For simplicity, cars can be considered as points moving along the number line. Two cars collide when they occupy the same position. Once a car collides with another car, they unite and form a single car fleet. The cars in the formed fleet will have the same position and the same speed, which is the initial speed of the slowest car in the fleet.\n",
    "\n",
    "Return an array answer, where answer[i] is the time, in seconds, at which the ith car collides with the next car, or -1 if the car does not collide with the next car. Answers within 10-5 of the actual answers are accepted.\n",
    "\n",
    " \n",
    "\n",
    "Example 1:\n",
    "\n",
    "Input: cars = [[1,2],[2,1],[4,3],[7,2]]\n",
    "Output: [1.00000,-1.00000,3.00000,-1.00000]\n",
    "Explanation: After exactly one second, the first car will collide with the second car, and form a car fleet with speed 1 m/s. After exactly 3 seconds, the third car will collide with the fourth car, and form a car fleet with speed 2 m/s.\n",
    "\n",
    "Example 2:\n",
    "\n",
    "Input: cars = [[3,4],[5,4],[6,3],[9,1]]\n",
    "Output: [2.00000,1.00000,1.50000,-1.00000]\n",
    "\n",
    " \n",
    "\n",
    "Constraints:\n",
    "\n",
    "    1 <= cars.length <= 105\n",
    "    1 <= positioni, speedi <= 106\n",
    "    positioni < positioni+1"
   ]
  },
  {
   "cell_type": "markdown",
   "metadata": {},
   "source": [
    "# Stack - O(N) runtime, O(N) space"
   ]
  },
  {
   "cell_type": "code",
   "execution_count": 1,
   "metadata": {},
   "outputs": [],
   "source": [
    "from typing import List\n",
    "\n",
    "# If a car cannot reach its front car, try to look for the next front car it can reach; \n",
    "# every time push the position, speed, and time for collision into the stack.\n",
    "class Solution:\n",
    "    def getCollisionTimes(self, cars: List[List[int]]) -> List[float]:\n",
    "        n = len(cars)\n",
    "        ans = [-1] * n\n",
    "        stack = [cars[n-1] + [float('inf')]]\n",
    "\n",
    "        def compute_time(p1, s1, p2, s2):\n",
    "            if s1 <= s2:\n",
    "                return float('inf')\n",
    "            else:\n",
    "                return (p2 - p1) / (s1 - s2)\n",
    "\n",
    "        for i in reversed(range(n-1)):\n",
    "            pos, speed = cars[i]\n",
    "            t = compute_time(pos, speed, cars[i+1][0], cars[i+1][1])\n",
    "            \n",
    "            while stack and t > stack[-1][2]:\n",
    "                stack.pop()\n",
    "                prev_pos, prev_speed, prev_t = stack[-1]\n",
    "                t = compute_time(pos, speed, prev_pos, prev_speed)\n",
    "            stack += (pos, speed, t),\n",
    "            ans[i] = t if t != float('inf') else -1\n",
    "        return ans"
   ]
  },
  {
   "cell_type": "code",
   "execution_count": 2,
   "metadata": {},
   "outputs": [
    {
     "data": {
      "text/plain": [
       "[2.0, 1.0, 1.5, -1]"
      ]
     },
     "execution_count": 2,
     "metadata": {},
     "output_type": "execute_result"
    }
   ],
   "source": [
    "instance = Solution()\n",
    "instance.getCollisionTimes([[3,4],[5,4],[6,3],[9,1]])"
   ]
  }
 ],
 "metadata": {
  "kernelspec": {
   "display_name": "Python 3",
   "language": "python",
   "name": "python3"
  },
  "language_info": {
   "codemirror_mode": {
    "name": "ipython",
    "version": 3
   },
   "file_extension": ".py",
   "mimetype": "text/x-python",
   "name": "python",
   "nbconvert_exporter": "python",
   "pygments_lexer": "ipython3",
   "version": "3.7.3"
  }
 },
 "nbformat": 4,
 "nbformat_minor": 2
}
