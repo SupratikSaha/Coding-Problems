{
 "cells": [
  {
   "cell_type": "markdown",
   "metadata": {},
   "source": [
    "Problem Statement.\n",
    "\n",
    "You are given n points in the plane that are all distinct, where points[i] = [xi, yi]. A boomerang is a tuple of points (i, j, k) such that the distance between i and j equals the distance between i and k (the order of the tuple matters).\n",
    "\n",
    "Return the number of boomerangs.\n",
    "\n",
    " \n",
    "\n",
    "Example 1:\n",
    "\n",
    "Input: points = [[0,0],[1,0],[2,0]]\n",
    "Output: 2\n",
    "Explanation: The two boomerangs are [[1,0],[0,0],[2,0]] and [[1,0],[2,0],[0,0]].\n",
    "\n",
    "Example 2:\n",
    "\n",
    "Input: points = [[1,1],[2,2],[3,3]]\n",
    "Output: 2\n",
    "\n",
    "Example 3:\n",
    "\n",
    "Input: points = [[1,1]]\n",
    "Output: 0\n",
    "\n",
    " \n",
    "\n",
    "Constraints:\n",
    "\n",
    "    n == points.length\n",
    "    1 <= n <= 500\n",
    "    points[i].length == 2\n",
    "    -10^4 <= xi, yi <= 10^4\n",
    "    All the points are unique."
   ]
  },
  {
   "cell_type": "markdown",
   "metadata": {},
   "source": [
    "# Two Loops - O(N ^ 2) runtime, O(N) space"
   ]
  },
  {
   "cell_type": "code",
   "execution_count": 3,
   "metadata": {},
   "outputs": [],
   "source": [
    "from typing import List\n",
    "from collections import defaultdict\n",
    "\n",
    "class Solution:\n",
    "    def numberOfBoomerangs(self, points: List[List[int]]) -> int:\n",
    "        res = 0\n",
    "        \n",
    "        for x1, y1 in points:\n",
    "            cmap = defaultdict(int)\n",
    "            for x2, y2 in points:\n",
    "                x = x1 - x2\n",
    "                y = y1 - y2\n",
    "                cmap[x * x + y * y] += 1\n",
    "                \n",
    "            for k in cmap:\n",
    "                res += cmap[k] * (cmap[k] -1)\n",
    "                \n",
    "        return res"
   ]
  },
  {
   "cell_type": "code",
   "execution_count": 4,
   "metadata": {},
   "outputs": [
    {
     "data": {
      "text/plain": [
       "2"
      ]
     },
     "execution_count": 4,
     "metadata": {},
     "output_type": "execute_result"
    }
   ],
   "source": [
    "instance = Solution()\n",
    "instance.numberOfBoomerangs([[1,1],[2,2],[3,3]])"
   ]
  }
 ],
 "metadata": {
  "kernelspec": {
   "display_name": "Python 3",
   "language": "python",
   "name": "python3"
  },
  "language_info": {
   "codemirror_mode": {
    "name": "ipython",
    "version": 3
   },
   "file_extension": ".py",
   "mimetype": "text/x-python",
   "name": "python",
   "nbconvert_exporter": "python",
   "pygments_lexer": "ipython3",
   "version": "3.7.3"
  }
 },
 "nbformat": 4,
 "nbformat_minor": 2
}
