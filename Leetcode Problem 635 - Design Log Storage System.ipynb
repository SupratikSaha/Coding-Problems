{
 "cells": [
  {
   "cell_type": "markdown",
   "metadata": {},
   "source": [
    "Problem Statement.\n",
    "\n",
    "You are given several logs, where each log contains a unique ID and timestamp. Timestamp is a string that has the following format: Year:Month:Day:Hour:Minute:Second, for example, 2017:01:01:23:59:59. All domains are zero-padded decimal numbers.\n",
    "\n",
    "Implement the LogSystem class:\n",
    "\n",
    "    LogSystem() Initializes the LogSystem object.\n",
    "    void put(int id, string timestamp) Stores the given log (id, timestamp) in your storage system.\n",
    "    int[] retrieve(string start, string end, string granularity) Returns the IDs of the logs whose timestamps are within the range from start to end inclusive. start and end all have the same format as timestamp, and granularity means how precise the range should be (i.e. to the exact Day, Minute, etc.). For example, start = \"2017:01:01:23:59:59\", end = \"2017:01:02:23:59:59\", and granularity = \"Day\" means that we need to find the logs within the inclusive range from Jan. 1st 2017 to Jan. 2nd 2017, and the Hour, Minute, and Second for each log entry can be ignored.\n",
    "\n",
    " \n",
    "\n",
    "Example 1:\n",
    "\n",
    "Input\n",
    "[\"LogSystem\", \"put\", \"put\", \"put\", \"retrieve\", \"retrieve\"]\n",
    "[[], [1, \"2017:01:01:23:59:59\"], [2, \"2017:01:01:22:59:59\"], [3, \"2016:01:01:00:00:00\"], [\"2016:01:01:01:01:01\", \"2017:01:01:23:00:00\", \"Year\"], [\"2016:01:01:01:01:01\", \"2017:01:01:23:00:00\", \"Hour\"]]\n",
    "Output\n",
    "[null, null, null, null, [3, 2, 1], [2, 1]]\n",
    "\n",
    "Explanation\n",
    "LogSystem logSystem = new LogSystem();\n",
    "logSystem.put(1, \"2017:01:01:23:59:59\");\n",
    "logSystem.put(2, \"2017:01:01:22:59:59\");\n",
    "logSystem.put(3, \"2016:01:01:00:00:00\");\n",
    "\n",
    "// return [3,2,1], because you need to return all logs between 2016 and 2017.\n",
    "logSystem.retrieve(\"2016:01:01:01:01:01\", \"2017:01:01:23:00:00\", \"Year\");\n",
    "\n",
    "// return [2,1], because you need to return all logs between Jan. 1, 2016 01:XX:XX and Jan. 1, 2017 23:XX:XX.\n",
    "// Log 3 is not returned because Jan. 1, 2016 00:00:00 comes before the start of the range.\n",
    "logSystem.retrieve(\"2016:01:01:01:01:01\", \"2017:01:01:23:00:00\", \"Hour\");\n",
    "\n",
    " \n",
    "\n",
    "Constraints:\n",
    "\n",
    "    1 <= id <= 500\n",
    "    2000 <= Year <= 2017\n",
    "    1 <= Month <= 12\n",
    "    1 <= Day <= 31\n",
    "    0 <= Hour <= 23\n",
    "    0 <= Minute, Second <= 59\n",
    "    granularity is one of the values [\"Year\", \"Month\", \"Day\", \"Hour\", \"Minute\", \"Second\"].\n",
    "    At most 500 calls will be made to put and retrieve."
   ]
  },
  {
   "cell_type": "markdown",
   "metadata": {},
   "source": [
    "# HashTable - O(1)  put, O(N) retrieve runtime, O(N) space"
   ]
  },
  {
   "cell_type": "code",
   "execution_count": 2,
   "metadata": {},
   "outputs": [],
   "source": [
    "from typing import List\n",
    "\n",
    "class LogSystem:\n",
    "\n",
    "    def __init__(self):\n",
    "        self.logs = {}\n",
    "        self.g = {'Year': 0, 'Month': 1, 'Day': 2, 'Hour': 3, 'Minute': 4, 'Second': 5}\n",
    "        \n",
    "    def getArray(self, tm: str) -> List[int]:\n",
    "        timestamp = tm.split(':')\n",
    "        timestamp = [int(t) for t in timestamp]\n",
    "        return timestamp\n",
    "\n",
    "    def put(self, id: int, timestamp: str) -> None:\n",
    "        \n",
    "        self.logs[id] = self.getArray(timestamp)\n",
    "\n",
    "    def retrieve(self, start: str, end: str, granularity: str) -> List[int]:\n",
    "        start = self.getArray(start)\n",
    "        end = self.getArray(end)\n",
    "        result = []\n",
    "        \n",
    "        for id_, tm in self.logs.items():\n",
    "            addId, lowerBound, upperBound = True, False, False\n",
    "            for i in range(self.g[granularity]+1):\n",
    "                if not lowerBound: \n",
    "                    if tm[i] < start[i]:\n",
    "                        addId = False\n",
    "                        break\n",
    "                    if tm[i] > start[i]: lowerBound = True\n",
    "                if not upperBound:\n",
    "                    if tm[i] > end[i]:\n",
    "                        addId = False\n",
    "                        break\n",
    "                    if tm[i] < end[i]: upperBound = True\n",
    "            \n",
    "            if addId: result.append(id_)\n",
    "       \n",
    "        return result"
   ]
  },
  {
   "cell_type": "markdown",
   "metadata": {},
   "source": [
    "# Binary Search -O(Log N) put, O(max(Log N, result.length)) retrieve runtime, O(N) space"
   ]
  },
  {
   "cell_type": "code",
   "execution_count": 3,
   "metadata": {},
   "outputs": [],
   "source": [
    "from typing import List\n",
    "from bisect import insort, bisect_left, bisect_right\n",
    "class LogSystem:\n",
    "\n",
    "    def __init__(self):\n",
    "        self.g = {'Year': 0, 'Month': 1, 'Day': 2, 'Hour': 3, 'Minute': 4, 'Second': 5}\n",
    "        self.array = []\n",
    "        self.id = {}\n",
    "\n",
    "    def put(self, id: int, timestamp: str) -> None:\n",
    "        t = tuple(timestamp.split(':'))\n",
    "        self.id[t] = id\n",
    "        insort(self.array, t)\n",
    "\n",
    "    def retrieve(self, start: str, end: str, granularity: str) -> List[int]:\n",
    "        i = self.g[granularity]\n",
    "        sl = start.split(':')\n",
    "        el = end.split(':')\n",
    "        for j in range(i+1,6):\n",
    "            sl[j] = '00'\n",
    "            el[j] = '59'\n",
    "        st, et = tuple(sl), tuple(el)\n",
    "        left = bisect_left(self.array, st)\n",
    "        right = bisect_right(self.array, et)\n",
    "        ans = []\n",
    "        for i in range(left,right):\n",
    "            ans += self.id[self.array[i]],\n",
    "        return ans"
   ]
  },
  {
   "cell_type": "code",
   "execution_count": 5,
   "metadata": {},
   "outputs": [
    {
     "name": "stdout",
     "output_type": "stream",
     "text": [
      "[2, 1]\n"
     ]
    }
   ],
   "source": [
    "instance = LogSystem()\n",
    "instance.put(1, \"2017:01:01:23:59:59\")\n",
    "instance.put(2, \"2017:01:01:22:59:59\")\n",
    "instance.put(3, \"2016:01:01:00:00:00\")\n",
    "print(instance.retrieve(\"2016:01:01:01:01:01\", \"2017:01:01:23:00:00\", \"Hour\"))"
   ]
  }
 ],
 "metadata": {
  "kernelspec": {
   "display_name": "Python 3",
   "language": "python",
   "name": "python3"
  },
  "language_info": {
   "codemirror_mode": {
    "name": "ipython",
    "version": 3
   },
   "file_extension": ".py",
   "mimetype": "text/x-python",
   "name": "python",
   "nbconvert_exporter": "python",
   "pygments_lexer": "ipython3",
   "version": "3.7.3"
  }
 },
 "nbformat": 4,
 "nbformat_minor": 2
}
