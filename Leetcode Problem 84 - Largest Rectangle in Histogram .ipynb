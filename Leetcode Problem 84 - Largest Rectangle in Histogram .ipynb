{
 "cells": [
  {
   "cell_type": "markdown",
   "metadata": {},
   "source": [
    "Problem Statement. <br/>\n",
    "\n",
    "Given n non-negative integers representing the histogram's bar height where the width of each bar is 1, find the area of largest rectangle in the histogram. <br/>\n",
    "Above is a histogram where width of each bar is 1, given height = [2,1,5,6,2,3]. <br/>\n",
    "The largest rectangle is shown in the shaded area, which has area = 10 unit. <br/>\n",
    "\n",
    "Example 1: <br/>\n",
    "Input: heights = [2,1,5,6,2,3] <br/>\n",
    "Output: 10 <br/>\n",
    "Explanation: The above is a histogram where width of each bar is 1. <br/>\n",
    "The largest rectangle is shown in the red area, which has an area = 10 units. <br/>\n",
    "\n",
    "Example 2: <br/>\n",
    "Input: heights = [2,4] <br/>\n",
    "Output: 4"
   ]
  },
  {
   "cell_type": "markdown",
   "metadata": {},
   "source": [
    "# Divide and Conquer - O(N ^ 2) runtime, O(N) space"
   ]
  },
  {
   "cell_type": "code",
   "execution_count": null,
   "metadata": {},
   "outputs": [],
   "source": [
    "class Solution:\n",
    "    def largestRectangleArea(self, heights: List[int]) -> int:\n",
    "        return self.calculateArea(heights, 0, len(heights) - 1)\n",
    "    \n",
    "    def calculateArea(self, heights: List[int], start: int, end: int) -> int:\n",
    "        if start > end:\n",
    "            return 0\n",
    "        \n",
    "        minIndex = start\n",
    "        for i in range(end + 1):\n",
    "            if heights[minIndex] > heights[i]:\n",
    "                minIndex = i\n",
    "                \n",
    "        return max(heights[minIndex] * (end - start + 1), self.calculateArea(heights, start, minIndex - 1), self.calculateArea(heights, minIndex + 1, end))"
   ]
  },
  {
   "cell_type": "markdown",
   "metadata": {},
   "source": [
    "# Brute Force - O(N ^ 2) runtime, O(1) space"
   ]
  },
  {
   "cell_type": "code",
   "execution_count": 1,
   "metadata": {},
   "outputs": [],
   "source": [
    "from typing import List\n",
    "\n",
    "class Solution:\n",
    "    def largestRectangleArea(self, heights: List[int]) -> int:\n",
    "        n = len(heights)\n",
    "        maxArea = 0\n",
    "        for i, height in enumerate(heights):\n",
    "            left, right = i - 1, i + 1\n",
    "            width = 1\n",
    "            while left >= 0 and heights[left] >= height:\n",
    "                left -= 1\n",
    "                width += 1\n",
    "            while right < n and heights[right] >= height:\n",
    "                right += 1\n",
    "                width += 1\n",
    "                \n",
    "            area = height * width\n",
    "            maxArea = max(maxArea, area)\n",
    "            \n",
    "        return maxArea"
   ]
  },
  {
   "cell_type": "markdown",
   "metadata": {},
   "source": [
    "# Stack - O(N) runtime, O(N) space"
   ]
  },
  {
   "cell_type": "code",
   "execution_count": 3,
   "metadata": {},
   "outputs": [],
   "source": [
    "from typing import List\n",
    "\n",
    "class Solution:\n",
    "    def largestRectangleArea(self, heights: List[int]) -> int:\n",
    "        size  = len(heights)\n",
    "        stack = [-1]\n",
    "        maxA  = 0\n",
    "        for i in range(size):\n",
    "            #for each h, find it's L and R\n",
    "            while (stack[-1] != -1 and heights[i] <= heights[stack[-1]]):\n",
    "                #h is R for all elements in stack(except the first one: -1)\n",
    "                    preI = stack.pop()\n",
    "                    area = heights[preI] * (i - stack[-1] - 1)\n",
    "                    maxA = max(maxA, area)    \n",
    "            stack.append(i)\n",
    "        while (stack[-1] != -1):\n",
    "            #h is R for all elements in stack(except the first one: -1)\n",
    "            preI = stack.pop()\n",
    "            area = heights[preI] * (size - stack[-1] - 1)\n",
    "            maxA = max(maxA, area) \n",
    "        return maxA"
   ]
  },
  {
   "cell_type": "code",
   "execution_count": 4,
   "metadata": {},
   "outputs": [
    {
     "data": {
      "text/plain": [
       "10"
      ]
     },
     "execution_count": 4,
     "metadata": {},
     "output_type": "execute_result"
    }
   ],
   "source": [
    "instance = Solution()\n",
    "instance.largestRectangleArea([2,1,5,6,2,3])"
   ]
  }
 ],
 "metadata": {
  "kernelspec": {
   "display_name": "Python 3",
   "language": "python",
   "name": "python3"
  },
  "language_info": {
   "codemirror_mode": {
    "name": "ipython",
    "version": 3
   },
   "file_extension": ".py",
   "mimetype": "text/x-python",
   "name": "python",
   "nbconvert_exporter": "python",
   "pygments_lexer": "ipython3",
   "version": "3.7.3"
  }
 },
 "nbformat": 4,
 "nbformat_minor": 2
}
