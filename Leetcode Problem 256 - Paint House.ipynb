{
 "cells": [
  {
   "cell_type": "markdown",
   "metadata": {},
   "source": [
    "Problem Statement. <br/>\n",
    "\n",
    "There is a row of n houses, where each house can be painted one of three colors: red, blue, or green. The cost of painting each house with a certain color is different. You have to paint all the houses such that no two adjacent houses have the same color. <br/>\n",
    "The cost of painting each house with a certain color is represented by a n x 3 cost matrix. For example, costs[0][0] is the cost of painting house 0 with the color red; costs[1][2] is the cost of painting house 1 with color green, and so on... Find the minimum cost to paint all houses. <br/>\n",
    "\n",
    "Example 1: <br/>\n",
    "Input: costs = [[17,2,17],[16,16,5],[14,3,19]] <br/>\n",
    "Output: 10 <br/>\n",
    "Explanation: Paint house 0 into blue, paint house 1 into green, paint house 2 into blue. <br/>\n",
    "Minimum cost: 2 + 5 + 3 = 10. <br/>\n",
    "\n",
    "Example 2: <br/>\n",
    "Input: costs = [] <br/>\n",
    "Output: 0 <br/>\n",
    "\n",
    "Example 3: <br/>\n",
    "Input: costs = [[7,6,2]] <br/>\n",
    "Output: 2"
   ]
  },
  {
   "cell_type": "markdown",
   "metadata": {},
   "source": [
    "# Top Down DP - O(N) runtime, O(N) space"
   ]
  },
  {
   "cell_type": "code",
   "execution_count": 1,
   "metadata": {},
   "outputs": [],
   "source": [
    "from typing import List\n",
    "\n",
    "class Solution:\n",
    "    def minCost(self, costs: List[List[int]]) -> int:\n",
    "        if not costs:\n",
    "            return 0\n",
    "        \n",
    "        dp = [[float('inf') for _ in range(3)] for _ in range(len(costs))]\n",
    "        \n",
    "        return self.minCostRecursive(dp, costs, 0, 0)\n",
    "    \n",
    "    def minCostRecursive(self, dp: List[List[int]], costs: List[List[int]], index: int, prev: int) -> int:\n",
    "        if index == len(costs):\n",
    "            return 0\n",
    "        \n",
    "        if dp[index][prev] == float('inf'):\n",
    "            cost0 = costs[index][0] + self.minCostRecursive(dp, costs, index+1, 0) if index == 0 or prev != 0 else float('inf')\n",
    "            cost1 = costs[index][1] + self.minCostRecursive(dp, costs, index+1, 1) if index == 0 or prev != 1 else float('inf')\n",
    "            cost2 = costs[index][2] + self.minCostRecursive(dp, costs, index+1, 2) if index == 0 or prev != 2 else float('inf')\n",
    "            dp[index][prev] = min(cost0, cost1, cost2)\n",
    "        \n",
    "        return dp[index][prev]"
   ]
  },
  {
   "cell_type": "markdown",
   "metadata": {},
   "source": [
    "# Bottom Up Dp - O(N) runtime, O(N) space"
   ]
  },
  {
   "cell_type": "code",
   "execution_count": 5,
   "metadata": {},
   "outputs": [],
   "source": [
    "from typing import List\n",
    "\n",
    "class Solution:\n",
    "    def minCost(self, costs: List[List[int]]) -> int:\n",
    "        if not costs:\n",
    "            return 0\n",
    "        n = len(costs)\n",
    "        dp = [[0 for _ in range(3)] for _ in range(n)]\n",
    "        \n",
    "        for i in range(3):\n",
    "            dp[0][i] = costs[0][i]\n",
    "            \n",
    "        for i in range(1, n):\n",
    "            for color in range(3):\n",
    "                if color == 1:\n",
    "                    dp[i][color] = min(dp[i-1][0], dp[i-1][2])\n",
    "                elif color == 2:\n",
    "                    dp[i][color] = min(dp[i-1][0], dp[i-1][1])\n",
    "                else:\n",
    "                    dp[i][color] = min(dp[i-1][1], dp[i-1][2])\n",
    "                    \n",
    "                dp[i][color] += costs[i][color]\n",
    "        \n",
    "        res = dp[n-1][0]\n",
    "        for i in range(1,3):\n",
    "            res = min(res, dp[n-1][i])\n",
    "        \n",
    "        return res"
   ]
  },
  {
   "cell_type": "markdown",
   "metadata": {},
   "source": [
    "# Top Down DP with lru_cache - O(N) runtime, O(N) space"
   ]
  },
  {
   "cell_type": "code",
   "execution_count": 13,
   "metadata": {},
   "outputs": [],
   "source": [
    "from typing import List\n",
    "from functools import lru_cache\n",
    "\n",
    "class Solution:\n",
    "    def minCost(self, costs: List[List[int]]) -> int:\n",
    "\n",
    "        @lru_cache(maxsize=None)\n",
    "        def paint_cost(n: int, color: int) -> int:\n",
    "            total_cost = costs[n][color]\n",
    "            if n == len(costs) - 1:\n",
    "                pass\n",
    "            elif color == 0:\n",
    "                total_cost += min(paint_cost(n + 1, 1), paint_cost(n + 1, 2))\n",
    "            elif color == 1:\n",
    "                total_cost += min(paint_cost(n + 1, 0), paint_cost(n + 1, 2))\n",
    "            else:\n",
    "                total_cost += min(paint_cost(n + 1, 0), paint_cost(n + 1, 1))\n",
    "            return total_cost\n",
    "\n",
    "        if costs == []:\n",
    "            return 0\n",
    "        return min(paint_cost(0, 0), paint_cost(0, 1), paint_cost(0, 2))"
   ]
  },
  {
   "cell_type": "markdown",
   "metadata": {},
   "source": [
    "# Space Optimized Bottom Up DP - O(N) runtime, O(1) space"
   ]
  },
  {
   "cell_type": "code",
   "execution_count": 7,
   "metadata": {},
   "outputs": [],
   "source": [
    "from typing import List\n",
    "\n",
    "class Solution:\n",
    "    def minCost(self, costs: List[List[int]]) -> int:\n",
    "        if not costs:\n",
    "            return 0\n",
    "        n = len(costs)\n",
    "        dp = [0 for _ in range(3)]\n",
    "        \n",
    "        for i in range(3):\n",
    "            dp[i] = costs[0][i]\n",
    "            \n",
    "        for i in range(1, n):\n",
    "            temp0, temp1, temp2 = dp\n",
    "            for color in range(3):\n",
    "                if color == 1:\n",
    "                    dp[color] = min(temp0, temp2)\n",
    "                elif color == 2:\n",
    "                    dp[color] = min(temp0, temp1)\n",
    "                else:\n",
    "                    dp[color] = min(temp1, temp2)\n",
    "                    \n",
    "                dp[color] += costs[i][color]\n",
    "        \n",
    "        return min(dp)"
   ]
  },
  {
   "cell_type": "markdown",
   "metadata": {},
   "source": [
    "# Simpler Space Optimized Bottom Up DP - O(N) runtime, O(1) space"
   ]
  },
  {
   "cell_type": "code",
   "execution_count": 9,
   "metadata": {},
   "outputs": [],
   "source": [
    "from typing import List\n",
    "\n",
    "class Solution:\n",
    "    def minCost(self, costs: List[List[int]]) -> int:\n",
    "        if len(costs) == 0: return 0\n",
    "\n",
    "        previous_row = costs[-1]\n",
    "        for n in reversed(range(len(costs) - 1)):\n",
    "\n",
    "            current_row = (costs[n]).copy()\n",
    "            # Total cost of painting nth house red?\n",
    "            current_row[0] += min(previous_row[1], previous_row[2])\n",
    "            # Total cost of painting nth house green?\n",
    "            current_row[1] += min(previous_row[0], previous_row[2])\n",
    "            # Total cost of painting nth house blue?\n",
    "            current_row[2] += min(previous_row[0], previous_row[1])\n",
    "            previous_row = current_row\n",
    "\n",
    "        return min(previous_row)"
   ]
  },
  {
   "cell_type": "code",
   "execution_count": 14,
   "metadata": {},
   "outputs": [
    {
     "data": {
      "text/plain": [
       "10"
      ]
     },
     "execution_count": 14,
     "metadata": {},
     "output_type": "execute_result"
    }
   ],
   "source": [
    "instance = Solution()\n",
    "instance.minCost([[17,2,17],[16,16,5],[14,3,19]] )"
   ]
  }
 ],
 "metadata": {
  "kernelspec": {
   "display_name": "Python 3",
   "language": "python",
   "name": "python3"
  },
  "language_info": {
   "codemirror_mode": {
    "name": "ipython",
    "version": 3
   },
   "file_extension": ".py",
   "mimetype": "text/x-python",
   "name": "python",
   "nbconvert_exporter": "python",
   "pygments_lexer": "ipython3",
   "version": "3.7.3"
  }
 },
 "nbformat": 4,
 "nbformat_minor": 2
}
