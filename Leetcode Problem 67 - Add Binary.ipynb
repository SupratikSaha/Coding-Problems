{
 "cells": [
  {
   "cell_type": "markdown",
   "metadata": {},
   "source": [
    "    Problem Statement.\n",
    "\n",
    "    Given two binary strings a and b, return their sum as a binary string.\n",
    "\n",
    "\n",
    "\n",
    "    Example 1:\n",
    "\n",
    "    Input: a = \"11\", b = \"1\"\n",
    "    Output: \"100\"\n",
    "\n",
    "    Example 2:\n",
    "\n",
    "    Input: a = \"1010\", b = \"1011\"\n",
    "    Output: \"10101\"\n",
    "\n",
    "\n",
    "\n",
    "    Constraints:\n",
    "\n",
    "        1 <= a.length, b.length <= 104\n",
    "        a and b consist only of '0' or '1' characters.\n",
    "        Each string does not contain leading zeros except for the zero itself."
   ]
  },
  {
   "cell_type": "markdown",
   "metadata": {},
   "source": [
    "# Bit by Bit Compilation - O(max(M, N)) runtime, O(max(M, N)) space"
   ]
  },
  {
   "cell_type": "code",
   "execution_count": 1,
   "metadata": {},
   "outputs": [],
   "source": [
    "class Solution:\n",
    "    def addBinary(self, a: str, b: str) -> str:\n",
    "\n",
    "        max_len = max(len(a), len(b)) \n",
    "        a = a.zfill(max_len) \n",
    "        b = b.zfill(max_len) \n",
    "\n",
    "        # Initialize the result \n",
    "        result = []\n",
    "\n",
    "        # Initialize the carry \n",
    "        carry = 0\n",
    "\n",
    "        # Traverse the string \n",
    "        for i in reversed(range(max_len)): \n",
    "            carry += 1 if a[i] == '1' else 0\n",
    "            carry += 1 if b[i] == '1' else 0\n",
    "            result = ['1' if carry % 2 == 1 else '0'] + result \n",
    "\n",
    "            # Compute the carry. \n",
    "            carry //= 2\n",
    "\n",
    "        if carry == 1:\n",
    "            result = ['1'] + result \n",
    "        \n",
    "        return ''.join(result)"
   ]
  },
  {
   "cell_type": "markdown",
   "metadata": {},
   "source": [
    "# Bit Manipulation - O(M + N) runtime, O(max(M, N)) space"
   ]
  },
  {
   "cell_type": "code",
   "execution_count": 3,
   "metadata": {},
   "outputs": [],
   "source": [
    "class Solution:\n",
    "    def addBinary(self, a: str, b: str) -> str:\n",
    "\n",
    "        x, y = int(a, 2), int(b, 2)\n",
    "        while y:\n",
    "            answer = x ^ y\n",
    "            carry = (x & y) << 1\n",
    "            x, y = answer, carry\n",
    "        return bin(x)[2:]"
   ]
  },
  {
   "cell_type": "code",
   "execution_count": 4,
   "metadata": {},
   "outputs": [
    {
     "data": {
      "text/plain": [
       "'10101'"
      ]
     },
     "execution_count": 4,
     "metadata": {},
     "output_type": "execute_result"
    }
   ],
   "source": [
    "instance = Solution()\n",
    "instance.addBinary(\"1010\", \"1011\")"
   ]
  }
 ],
 "metadata": {
  "kernelspec": {
   "display_name": "Python 3",
   "language": "python",
   "name": "python3"
  },
  "language_info": {
   "codemirror_mode": {
    "name": "ipython",
    "version": 3
   },
   "file_extension": ".py",
   "mimetype": "text/x-python",
   "name": "python",
   "nbconvert_exporter": "python",
   "pygments_lexer": "ipython3",
   "version": "3.7.3"
  }
 },
 "nbformat": 4,
 "nbformat_minor": 2
}
