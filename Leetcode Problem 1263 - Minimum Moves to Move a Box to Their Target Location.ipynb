{
 "cells": [
  {
   "cell_type": "markdown",
   "metadata": {},
   "source": [
    "Problem Statement.\n",
    "\n",
    "    Storekeeper is a game in which the player pushes boxes around in a warehouse trying to get them to target locations.\n",
    "\n",
    "    The game is represented by a grid of size m x n, where each element is a wall, floor, or a box.\n",
    "\n",
    "    Your task is move the box 'B' to the target position 'T' under the following rules:\n",
    "\n",
    "        Player is represented by character 'S' and can move up, down, left, right in the grid if it is a floor (empy cell).\n",
    "        Floor is represented by character '.' that means free cell to walk.\n",
    "        Wall is represented by character '#' that means obstacle  (impossible to walk there). \n",
    "        There is only one box 'B' and one target cell 'T' in the grid.\n",
    "        The box can be moved to an adjacent free cell by standing next to the box and then moving in the direction of the box. This is a push.\n",
    "        The player cannot walk through the box.\n",
    "\n",
    "    Return the minimum number of pushes to move the box to the target. If there is no way to reach the target, return -1.\n",
    "\n",
    "\n",
    "\n",
    "    Example 1:\n",
    "\n",
    "    Input: grid = [[\"#\",\"#\",\"#\",\"#\",\"#\",\"#\"],\n",
    "                   [\"#\",\"T\",\"#\",\"#\",\"#\",\"#\"],\n",
    "                   [\"#\",\".\",\".\",\"B\",\".\",\"#\"],\n",
    "                   [\"#\",\".\",\"#\",\"#\",\".\",\"#\"],\n",
    "                   [\"#\",\".\",\".\",\".\",\"S\",\"#\"],\n",
    "                   [\"#\",\"#\",\"#\",\"#\",\"#\",\"#\"]]\n",
    "    Output: 3\n",
    "    Explanation: We return only the number of times the box is pushed.\n",
    "\n",
    "    Example 2:\n",
    "\n",
    "    Input: grid = [[\"#\",\"#\",\"#\",\"#\",\"#\",\"#\"],\n",
    "                   [\"#\",\"T\",\"#\",\"#\",\"#\",\"#\"],\n",
    "                   [\"#\",\".\",\".\",\"B\",\".\",\"#\"],\n",
    "                   [\"#\",\"#\",\"#\",\"#\",\".\",\"#\"],\n",
    "                   [\"#\",\".\",\".\",\".\",\"S\",\"#\"],\n",
    "                   [\"#\",\"#\",\"#\",\"#\",\"#\",\"#\"]]\n",
    "    Output: -1\n",
    "\n",
    "    Example 3:\n",
    "\n",
    "    Input: grid = [[\"#\",\"#\",\"#\",\"#\",\"#\",\"#\"],\n",
    "                   [\"#\",\"T\",\".\",\".\",\"#\",\"#\"],\n",
    "                   [\"#\",\".\",\"#\",\"B\",\".\",\"#\"],\n",
    "                   [\"#\",\".\",\".\",\".\",\".\",\"#\"],\n",
    "                   [\"#\",\".\",\".\",\".\",\"S\",\"#\"],\n",
    "                   [\"#\",\"#\",\"#\",\"#\",\"#\",\"#\"]]\n",
    "    Output: 5\n",
    "    Explanation:  push the box down, left, left, up and up.\n",
    "\n",
    "    Example 4:\n",
    "\n",
    "    Input: grid = [[\"#\",\"#\",\"#\",\"#\",\"#\",\"#\",\"#\"],\n",
    "                   [\"#\",\"S\",\"#\",\".\",\"B\",\"T\",\"#\"],\n",
    "                   [\"#\",\"#\",\"#\",\"#\",\"#\",\"#\",\"#\"]]\n",
    "    Output: -1\n",
    "\n",
    "\n",
    "\n",
    "    Constraints:\n",
    "\n",
    "        m == grid.length\n",
    "        n == grid[i].length\n",
    "        1 <= m <= 20\n",
    "        1 <= n <= 20\n",
    "        grid contains only characters '.', '#',  'S' , 'T', or 'B'.\n",
    "        There is only one character 'S', 'B' and 'T' in the grid."
   ]
  },
  {
   "cell_type": "markdown",
   "metadata": {},
   "source": [
    "# Djikstra's - BFS with Heap - O(M ^2 * N ^ 2 * Log (M * N)) runtime, O(M ^ 2 * N ^ 2) space"
   ]
  },
  {
   "cell_type": "code",
   "execution_count": 3,
   "metadata": {},
   "outputs": [],
   "source": [
    "from typing import List\n",
    "import heapq\n",
    "\n",
    "class Solution:\n",
    "    def minPushBox(self, grid: List[List[str]]) -> int:\n",
    "        \n",
    "        free = set()\n",
    "        \n",
    "        for i, row in enumerate(grid):\n",
    "            for j, cell in enumerate(row):\n",
    "                if cell != '#': free.add((i, j))\n",
    "                if cell == 'B': boxi, boxj = i, j\n",
    "                elif cell == 'S': si, sj = i, j\n",
    "                elif cell == 'T': target = (i, j)\n",
    "        \n",
    "        visited = set()\n",
    "        heap = [(0, si, sj, boxi, boxj)]\n",
    "        \n",
    "        while heap:\n",
    "            moves, si, sj, boxi, boxj = heapq.heappop(heap)\n",
    "            if (boxi, boxj) == target:\n",
    "                return moves\n",
    "            \n",
    "            if (si, sj, boxi, boxj) in visited:\n",
    "                continue\n",
    "                \n",
    "            visited.add((si, sj, boxi, boxj))\n",
    "            \n",
    "            for dx, dy in [(1, 0), (-1, 0), (0, 1), (0, -1)]:\n",
    "                ni, nj = si + dx, dy + sj\n",
    "                if (ni, nj) == (boxi, boxj) and (boxi + dx, boxj + dy) in free and (ni, nj, boxi + dx, boxj + dy) not in visited:\n",
    "                    heapq.heappush(heap, (moves + 1, ni, nj, boxi + dx, boxj + dy))\n",
    "                elif (ni, nj) in free and (ni, nj) != (boxi, boxj) and (ni, nj, boxi, boxj) not in visited:\n",
    "                    heapq.heappush(heap, (moves, ni, nj, boxi, boxj))\n",
    "                    \n",
    "        return -1"
   ]
  },
  {
   "cell_type": "code",
   "execution_count": 5,
   "metadata": {},
   "outputs": [
    {
     "data": {
      "text/plain": [
       "3"
      ]
     },
     "execution_count": 5,
     "metadata": {},
     "output_type": "execute_result"
    }
   ],
   "source": [
    "instance = Solution()\n",
    "instance.minPushBox([[\"#\",\"#\",\"#\",\"#\",\"#\",\"#\"],\n",
    "                     [\"#\",\"T\",\"#\",\"#\",\"#\",\"#\"],\n",
    "                     [\"#\",\".\",\".\",\"B\",\".\",\"#\"],\n",
    "                     [\"#\",\".\",\"#\",\"#\",\".\",\"#\"],\n",
    "                     [\"#\",\".\",\".\",\".\",\"S\",\"#\"],\n",
    "                     [\"#\",\"#\",\"#\",\"#\",\"#\",\"#\"]])"
   ]
  }
 ],
 "metadata": {
  "kernelspec": {
   "display_name": "Python 3",
   "language": "python",
   "name": "python3"
  },
  "language_info": {
   "codemirror_mode": {
    "name": "ipython",
    "version": 3
   },
   "file_extension": ".py",
   "mimetype": "text/x-python",
   "name": "python",
   "nbconvert_exporter": "python",
   "pygments_lexer": "ipython3",
   "version": "3.7.3"
  }
 },
 "nbformat": 4,
 "nbformat_minor": 2
}
