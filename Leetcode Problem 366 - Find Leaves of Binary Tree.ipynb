{
 "cells": [
  {
   "cell_type": "markdown",
   "metadata": {},
   "source": [
    "    Problem Statement\n",
    "\n",
    "    Given a binary tree, collect a tree's nodes as if you were doing this: Collect and remove all leaves, repeat until the tree is empty.\n",
    "\n",
    "\n",
    "\n",
    "    Example:\n",
    "\n",
    "    Input: [1,2,3,4,5]\n",
    "\n",
    "              1\n",
    "             / \\\n",
    "            2   3\n",
    "           / \\     \n",
    "          4   5    \n",
    "\n",
    "    Output: [[4,5,3],[2],[1]]\n",
    "\n",
    "\n",
    "\n",
    "    Explanation:\n",
    "\n",
    "    1. Removing the leaves [4,5,3] would result in this tree:\n",
    "\n",
    "              1\n",
    "             / \n",
    "            2          \n",
    "\n",
    "\n",
    "\n",
    "    2. Now removing the leaf [2] would result in this tree:\n",
    "\n",
    "              1          \n",
    "\n",
    "\n",
    "\n",
    "    3. Now removing the leaf [1] would result in the empty tree:\n",
    "\n",
    "              []         \n",
    "\n",
    "    [[3,5,4],[2],[1]], [[3,4,5],[2],[1]], etc, are also consider correct answers since per each level it doesn't matter the order on which elements are returned."
   ]
  },
  {
   "cell_type": "markdown",
   "metadata": {},
   "source": [
    "# DFS - O(N) runtime, O(N) space"
   ]
  },
  {
   "cell_type": "code",
   "execution_count": null,
   "metadata": {},
   "outputs": [],
   "source": [
    "# class TreeNode:\n",
    "#     def __init__(self, val=0, left=None, right=None):\n",
    "#         self.val = val\n",
    "#         self.left = left\n",
    "#         self.right = right\n",
    "class Solution:\n",
    "    def findLeaves(self, root: TreeNode) -> List[List[int]]:\n",
    "        if root is None:\n",
    "            return []\n",
    "        \n",
    "        self.res = [[]]      \n",
    "        self.dfs(root)\n",
    "        \n",
    "        return self.res\n",
    "        \n",
    "    def dfs(self, node: TreeNode) -> int:\n",
    "        if node.left is None and node.right is None:\n",
    "            self.res[0].append(node.val)\n",
    "            return 0\n",
    "        \n",
    "        level = 0\n",
    "        for child in [node.left, node.right]:\n",
    "            if child:\n",
    "                level = max(level, self.dfs(child))      \n",
    "        level += 1\n",
    "        \n",
    "        if level >= len(self.res):\n",
    "            self.res.append([])\n",
    "        self.res[level].append(node.val)\n",
    "        \n",
    "        return level"
   ]
  },
  {
   "cell_type": "markdown",
   "metadata": {},
   "source": [
    "# Another DFS - O(N) runtime, O(N) space"
   ]
  },
  {
   "cell_type": "code",
   "execution_count": null,
   "metadata": {},
   "outputs": [],
   "source": [
    "# Definition for a binary tree node.\n",
    "# class TreeNode:\n",
    "#     def __init__(self, val=0, left=None, right=None):\n",
    "#         self.val = val\n",
    "#         self.left = left\n",
    "#         self.right = right\n",
    "class Solution:\n",
    "    def findLeaves(self, root: TreeNode) -> List[List[int]]:\n",
    "        ret = []\n",
    "        self.helper(root, ret)\n",
    "        return ret\n",
    "        \n",
    "        \n",
    "    def helper(self, root, ret):\n",
    "        if not root: return 0\n",
    "           \n",
    "        left  = self.helper(root.left, ret)\n",
    "        right = self.helper(root.right, ret)\n",
    "        level = max(left, right) + 1\n",
    "        \n",
    "        if level > len(ret):\n",
    "            ret.append([])\n",
    "        ret[level-1].append(root.val)\n",
    "        \n",
    "        return level"
   ]
  },
  {
   "cell_type": "markdown",
   "metadata": {},
   "source": [
    "# Yet Another DFS - O(N) runtime, O(N) space"
   ]
  },
  {
   "cell_type": "code",
   "execution_count": null,
   "metadata": {},
   "outputs": [],
   "source": [
    "# Definition for a binary tree node.\n",
    "# class TreeNode:\n",
    "#     def __init__(self, val=0, left=None, right=None):\n",
    "#         self.val = val\n",
    "#         self.left = left\n",
    "#         self.right = right\n",
    "class Solution:\n",
    "    def findLeaves(self, root: TreeNode) -> List[List[int]]:\n",
    "        def order(root, dic):\n",
    "            if not root:\n",
    "                return 0\n",
    "            left = order(root.left, dic)\n",
    "            right = order(root.right, dic)\n",
    "            lev = max(left, right) + 1\n",
    "            dic[lev] += root.val,\n",
    "            return lev\n",
    "        dic, ret = collections.defaultdict(list), []\n",
    "        order(root, dic)\n",
    "        for i in range(1, len(dic) + 1):\n",
    "            ret.append(dic[i])\n",
    "        return ret"
   ]
  }
 ],
 "metadata": {
  "kernelspec": {
   "display_name": "Python 3",
   "language": "python",
   "name": "python3"
  },
  "language_info": {
   "codemirror_mode": {
    "name": "ipython",
    "version": 3
   },
   "file_extension": ".py",
   "mimetype": "text/x-python",
   "name": "python",
   "nbconvert_exporter": "python",
   "pygments_lexer": "ipython3",
   "version": "3.7.3"
  }
 },
 "nbformat": 4,
 "nbformat_minor": 2
}
