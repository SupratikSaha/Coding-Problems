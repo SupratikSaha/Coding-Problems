{
 "cells": [
  {
   "cell_type": "markdown",
   "metadata": {},
   "source": [
    "    Problem Statement.\n",
    "\n",
    "    Table: Orders\n",
    "\n",
    "    +-----------------+----------+\n",
    "    | Column Name     | Type     |\n",
    "    +-----------------+----------+\n",
    "    | order_number    | int      |\n",
    "    | customer_number | int      |\n",
    "    +-----------------+----------+\n",
    "    order_number is the primary key for this table.\n",
    "    This table contains information about the order ID and the customer ID.\n",
    "\n",
    "\n",
    "\n",
    "    Write an SQL query to find the customer_number for the customer who has placed the largest number of orders.\n",
    "\n",
    "    The test cases are generated so that exactly one customer will have placed more orders than any other customer.\n",
    "\n",
    "    The query result format is in the following example.\n",
    "\n",
    "\n",
    "\n",
    "    Example 1:\n",
    "\n",
    "    Input: \n",
    "    Orders table:\n",
    "    +--------------+-----------------+\n",
    "    | order_number | customer_number |\n",
    "    +--------------+-----------------+\n",
    "    | 1            | 1               |\n",
    "    | 2            | 2               |\n",
    "    | 3            | 3               |\n",
    "    | 4            | 3               |\n",
    "    +--------------+-----------------+\n",
    "    Output: \n",
    "    +-----------------+\n",
    "    | customer_number |\n",
    "    +-----------------+\n",
    "    | 3               |\n",
    "    +-----------------+\n",
    "    Explanation: \n",
    "    The customer with number 3 has two orders, which is greater than either customer 1 or 2 because each of them only has one order. \n",
    "    So the result is customer_number 3.\n",
    "\n",
    "\n",
    "\n",
    "    Follow up: What if more than one customer has the largest number of orders, can you find all the customer_number in this case?"
   ]
  },
  {
   "cell_type": "markdown",
   "metadata": {},
   "source": [
    "# Group By"
   ]
  },
  {
   "cell_type": "code",
   "execution_count": null,
   "metadata": {},
   "outputs": [],
   "source": [
    "select customer_number\n",
    "from Orders\n",
    "group by customer_number\n",
    "order by count(order_number) desc\n",
    "limit 1"
   ]
  },
  {
   "cell_type": "markdown",
   "metadata": {},
   "source": [
    "# Follow UP Window Function"
   ]
  },
  {
   "cell_type": "code",
   "execution_count": null,
   "metadata": {},
   "outputs": [],
   "source": [
    "select customer_number\n",
    "from\n",
    "(select customer_number, rank() over (order by count(order_number) desc) as rnk\n",
    "from orders\n",
    "group by customer_number)a\n",
    "where rnk = 1"
   ]
  }
 ],
 "metadata": {
  "kernelspec": {
   "display_name": "Python 3",
   "language": "python",
   "name": "python3"
  },
  "language_info": {
   "codemirror_mode": {
    "name": "ipython",
    "version": 3
   },
   "file_extension": ".py",
   "mimetype": "text/x-python",
   "name": "python",
   "nbconvert_exporter": "python",
   "pygments_lexer": "ipython3",
   "version": "3.7.3"
  }
 },
 "nbformat": 4,
 "nbformat_minor": 2
}
