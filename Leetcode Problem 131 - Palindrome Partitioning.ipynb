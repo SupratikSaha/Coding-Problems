{
 "cells": [
  {
   "cell_type": "markdown",
   "metadata": {},
   "source": [
    "Problem Statement. <br/>\n",
    "\n",
    "Given a string s, partition s such that every substring of the partition is a palindrome. Return all possible palindrome partitioning of s. <br/>\n",
    "A palindrome string is a string that reads the same backward as forward. <br/>\n",
    "\n",
    "Example 1: <br/>\n",
    "Input: s = \"aab\" <br/>\n",
    "Output: [[\"a\",\"a\",\"b\"],[\"aa\",\"b\"]] <br/>\n",
    "\n",
    "Example 2: <br/>\n",
    "Input: s = \"a\" <br/>\n",
    "Output: [[\"a\"]]"
   ]
  },
  {
   "cell_type": "markdown",
   "metadata": {},
   "source": [
    "# DFS - O(N * 2N) runtime, O(N) space"
   ]
  },
  {
   "cell_type": "code",
   "execution_count": 2,
   "metadata": {},
   "outputs": [],
   "source": [
    "from typing import List\n",
    "\n",
    "class Solution:\n",
    "    def partition(self, s: str) -> List[List[str]]:\n",
    "        n = len(s)\n",
    "        \n",
    "        def isPalindrome(s):\n",
    "            l, r = 0, len(s)-1\n",
    "            if l==r: \n",
    "                return True\n",
    "            while l<r:\n",
    "                if s[l] != s[r]: \n",
    "                    return False\n",
    "                l +=1 \n",
    "                r -=1\n",
    "            return True\n",
    "\n",
    "        def dfs(start, path):\n",
    "            if start == n:\n",
    "                res.append(path.copy())\n",
    "                return\n",
    "            for i in range(start, n):\n",
    "                substr = s[start: i+1]\n",
    "                if isPalindrome(substr):\n",
    "                    path.append(substr)\n",
    "                    dfs(i+1, path)\n",
    "                    path.pop()\n",
    "                    \n",
    "        res = []\n",
    "        dfs(0, [])\n",
    "        return res"
   ]
  },
  {
   "cell_type": "code",
   "execution_count": 3,
   "metadata": {},
   "outputs": [
    {
     "data": {
      "text/plain": [
       "[['m', 'a', 'n', 'a', 'm'], ['m', 'ana', 'm'], ['manam']]"
      ]
     },
     "execution_count": 3,
     "metadata": {},
     "output_type": "execute_result"
    }
   ],
   "source": [
    "instance = Solution()\n",
    "instance.partition(\"manam\")"
   ]
  }
 ],
 "metadata": {
  "kernelspec": {
   "display_name": "Python 3",
   "language": "python",
   "name": "python3"
  },
  "language_info": {
   "codemirror_mode": {
    "name": "ipython",
    "version": 3
   },
   "file_extension": ".py",
   "mimetype": "text/x-python",
   "name": "python",
   "nbconvert_exporter": "python",
   "pygments_lexer": "ipython3",
   "version": "3.7.3"
  }
 },
 "nbformat": 4,
 "nbformat_minor": 2
}
