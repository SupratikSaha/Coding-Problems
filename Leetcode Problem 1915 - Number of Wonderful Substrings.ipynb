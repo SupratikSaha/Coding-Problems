{
 "cells": [
  {
   "cell_type": "markdown",
   "metadata": {},
   "source": [
    "Problem Statement.\n",
    "\n",
    "A wonderful string is a string where at most one letter appears an odd number of times.\n",
    "\n",
    "    For example, \"ccjjc\" and \"abab\" are wonderful, but \"ab\" is not.\n",
    "\n",
    "Given a string word that consists of the first ten lowercase English letters ('a' through 'j'), return the number of wonderful non-empty substrings in word. If the same substring appears multiple times in word, then count each occurrence separately.\n",
    "\n",
    "A substring is a contiguous sequence of characters in a string.\n",
    "\n",
    " \n",
    "\n",
    "Example 1:\n",
    "\n",
    "Input: word = \"aba\"\n",
    "Output: 4\n",
    "Explanation: The four wonderful substrings are underlined below:\n",
    "- \"aba\" -> \"a\"\n",
    "- \"aba\" -> \"b\"\n",
    "- \"aba\" -> \"a\"\n",
    "- \"aba\" -> \"aba\"\n",
    "\n",
    "Example 2:\n",
    "\n",
    "Input: word = \"aabb\"\n",
    "Output: 9\n",
    "Explanation: The nine wonderful substrings are underlined below:\n",
    "- \"aabb\" -> \"a\"\n",
    "- \"aabb\" -> \"aa\"\n",
    "- \"aabb\" -> \"aab\"\n",
    "- \"aabb\" -> \"aabb\"\n",
    "- \"aabb\" -> \"a\"\n",
    "- \"aabb\" -> \"abb\"\n",
    "- \"aabb\" -> \"b\"\n",
    "- \"aabb\" -> \"bb\"\n",
    "- \"aabb\" -> \"b\"\n",
    "\n",
    "Example 3:\n",
    "\n",
    "Input: word = \"he\"\n",
    "Output: 2\n",
    "Explanation: The two wonderful substrings are underlined below:\n",
    "- \"he\" -> \"h\"\n",
    "- \"he\" -> \"e\"\n",
    "\n",
    " \n",
    "\n",
    "Constraints:\n",
    "\n",
    "    1 <= word.length <= 105\n",
    "    word consists of lowercase English letters from 'a' to 'j'."
   ]
  },
  {
   "cell_type": "markdown",
   "metadata": {},
   "source": [
    "# Brute Force - O(N ^ 2) runtime, O(N) space"
   ]
  },
  {
   "cell_type": "code",
   "execution_count": 2,
   "metadata": {},
   "outputs": [],
   "source": [
    "from collections import defaultdict\n",
    "\n",
    "class Solution:\n",
    "    def wonderfulSubstrings(self, word: str) -> int:\n",
    "        oddSet = set()\n",
    "        countDict = defaultdict(int)\n",
    "        n = len(word)\n",
    "        res = 0\n",
    "        \n",
    "        for right in range(n):\n",
    "            countDict[word[right]] += 1\n",
    "            if countDict[word[right]] % 2: oddSet.add(word[right])\n",
    "            else: oddSet.remove(word[right])\n",
    "                \n",
    "            oddSetDup = set(oddSet)\n",
    "            countDictDup = dict(countDict)\n",
    "            for left in range(right+1):\n",
    "                if len(oddSetDup) in [0, 1]: res += 1\n",
    "                countDictDup[word[left]] -= 1\n",
    "                if countDictDup[word[left]] % 2: oddSetDup.add(word[left])\n",
    "                else: oddSetDup.remove(word[left])\n",
    "                    \n",
    "        return res"
   ]
  },
  {
   "cell_type": "markdown",
   "metadata": {},
   "source": [
    "# Bitmask - O(10* N) runtime, O(1024) space"
   ]
  },
  {
   "cell_type": "code",
   "execution_count": 6,
   "metadata": {},
   "outputs": [],
   "source": [
    "class Solution:\n",
    "    def wonderfulSubstrings(self, word: str) -> int:\n",
    "        cnt, res, mask = [1] + [0] * 1023, 0, 0\n",
    "        for ch in word:\n",
    "            mask ^= 1 << (ord(ch) - ord('a'))\n",
    "            res += cnt[mask]\n",
    "            for n in range(10):\n",
    "                res += cnt[mask ^ 1 << n]\n",
    "            cnt[mask] += 1\n",
    "        return res"
   ]
  },
  {
   "cell_type": "code",
   "execution_count": 7,
   "metadata": {},
   "outputs": [
    {
     "data": {
      "text/plain": [
       "9"
      ]
     },
     "execution_count": 7,
     "metadata": {},
     "output_type": "execute_result"
    }
   ],
   "source": [
    "instance = Solution()\n",
    "instance.wonderfulSubstrings(\"aabb\")"
   ]
  }
 ],
 "metadata": {
  "kernelspec": {
   "display_name": "Python 3",
   "language": "python",
   "name": "python3"
  },
  "language_info": {
   "codemirror_mode": {
    "name": "ipython",
    "version": 3
   },
   "file_extension": ".py",
   "mimetype": "text/x-python",
   "name": "python",
   "nbconvert_exporter": "python",
   "pygments_lexer": "ipython3",
   "version": "3.7.3"
  }
 },
 "nbformat": 4,
 "nbformat_minor": 2
}
