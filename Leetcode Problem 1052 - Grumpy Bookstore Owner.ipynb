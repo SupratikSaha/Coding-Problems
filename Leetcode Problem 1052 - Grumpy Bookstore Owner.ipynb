{
 "cells": [
  {
   "cell_type": "markdown",
   "metadata": {},
   "source": [
    "Problem Statement.\n",
    "\n",
    "There is a bookstore owner that has a store open for n minutes. Every minute, some number of customers enter the store. You are given an integer array customers of length n where customers[i] is the number of the customer that enters the store at the start of the ith minute and all those customers leave after the end of that minute.\n",
    "\n",
    "On some minutes, the bookstore owner is grumpy. You are given a binary array grumpy where grumpy[i] is 1 if the bookstore owner is grumpy during the ith minute, and is 0 otherwise.\n",
    "\n",
    "When the bookstore owner is grumpy, the customers of that minute are not satisfied, otherwise, they are satisfied.\n",
    "\n",
    "The bookstore owner knows a secret technique to keep themselves not grumpy for minutes consecutive minutes, but can only use it once.\n",
    "\n",
    "Return the maximum number of customers that can be satisfied throughout the day.\n",
    "\n",
    " \n",
    "\n",
    "Example 1:\n",
    "\n",
    "Input: customers = [1,0,1,2,1,1,7,5], grumpy = [0,1,0,1,0,1,0,1], minutes = 3\n",
    "Output: 16\n",
    "Explanation: The bookstore owner keeps themselves not grumpy for the last 3 minutes. \n",
    "The maximum number of customers that can be satisfied = 1 + 1 + 1 + 1 + 7 + 5 = 16.\n",
    "\n",
    "Example 2:\n",
    "\n",
    "Input: customers = [1], grumpy = [0], minutes = 1\n",
    "Output: 1\n",
    "\n",
    " \n",
    "\n",
    "Constraints:\n",
    "\n",
    "    n == customers.length == grumpy.length\n",
    "    1 <= minutes <= n <= 2 * 104\n",
    "    0 <= customers[i] <= 1000\n",
    "    grumpy[i] is either 0 or 1."
   ]
  },
  {
   "cell_type": "markdown",
   "metadata": {},
   "source": [
    "# Sliding Window - O(N) runtime, O(1) space"
   ]
  },
  {
   "cell_type": "code",
   "execution_count": 1,
   "metadata": {},
   "outputs": [],
   "source": [
    "from typing import List\n",
    "\n",
    "class Solution:\n",
    "    def maxSatisfied(self, customers: List[int], grumpy: List[int], minutes: int) -> int:\n",
    "        leftIndex = 0\n",
    "        satisfied, maxSatisfied, currMax = 0, 0, 0\n",
    "        \n",
    "        for i in range(len(customers)):\n",
    "            satisfied += customers[i] if not grumpy[i] else 0\n",
    "            currMax += customers[i] if grumpy[i] else 0\n",
    "            if i >= minutes:\n",
    "                currMax -= customers[leftIndex] if grumpy[leftIndex] else 0\n",
    "                leftIndex += 1\n",
    "                \n",
    "            maxSatisfied = max(maxSatisfied, currMax)\n",
    "            \n",
    "        return satisfied + maxSatisfied"
   ]
  },
  {
   "cell_type": "code",
   "execution_count": 2,
   "metadata": {},
   "outputs": [
    {
     "data": {
      "text/plain": [
       "16"
      ]
     },
     "execution_count": 2,
     "metadata": {},
     "output_type": "execute_result"
    }
   ],
   "source": [
    "instance = Solution()\n",
    "instance.maxSatisfied([1,0,1,2,1,1,7,5], [0,1,0,1,0,1,0,1], 3)"
   ]
  }
 ],
 "metadata": {
  "kernelspec": {
   "display_name": "Python 3",
   "language": "python",
   "name": "python3"
  },
  "language_info": {
   "codemirror_mode": {
    "name": "ipython",
    "version": 3
   },
   "file_extension": ".py",
   "mimetype": "text/x-python",
   "name": "python",
   "nbconvert_exporter": "python",
   "pygments_lexer": "ipython3",
   "version": "3.7.3"
  }
 },
 "nbformat": 4,
 "nbformat_minor": 2
}
