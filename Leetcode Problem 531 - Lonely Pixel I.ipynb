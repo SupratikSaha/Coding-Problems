{
 "cells": [
  {
   "cell_type": "markdown",
   "metadata": {},
   "source": [
    "Problem Statement.\n",
    "\n",
    "Given an m x n picture consisting of black 'B' and white 'W' pixels, return the number of black lonely pixels.\n",
    "\n",
    "A black lonely pixel is a character 'B' that located at a specific position where the same row and same column don't have any other black pixels.\n",
    "\n",
    " \n",
    "\n",
    "Example 1:\n",
    "\n",
    "Input: picture = [[\"W\",\"W\",\"B\"],[\"W\",\"B\",\"W\"],[\"B\",\"W\",\"W\"]]\n",
    "Output: 3\n",
    "Explanation: All the three 'B's are black lonely pixels.\n",
    "\n",
    "Example 2:\n",
    "\n",
    "Input: picture = [[\"B\",\"B\",\"B\"],[\"B\",\"B\",\"B\"],[\"B\",\"B\",\"B\"]]\n",
    "Output: 0\n",
    "\n",
    " \n",
    "\n",
    "Constraints:\n",
    "\n",
    "    m == picture.length\n",
    "    n == picture[i].length\n",
    "    1 <= m, n <= 500\n",
    "    picture[i][j] is 'W' or 'B'."
   ]
  },
  {
   "cell_type": "markdown",
   "metadata": {},
   "source": [
    "# Using Hash Table and Hash Sets - O(M * N) runtime, O(M + N) space"
   ]
  },
  {
   "cell_type": "code",
   "execution_count": 2,
   "metadata": {},
   "outputs": [],
   "source": [
    "from typing import List\n",
    "\n",
    "class Solution:\n",
    "    def findLonelyPixel(self, picture: List[List[str]]) -> int:\n",
    "        m, n = len(picture), len(picture[0])\n",
    "        r_dict, c_dict, r_set_dis, c_set_dis = {}, {}, set(), set()\n",
    "        \n",
    "        for r in range(m):\n",
    "            for c in range(n):\n",
    "                if picture[r][c] == 'W': continue\n",
    "                \n",
    "                if r not in r_set_dis:\n",
    "                    if r in r_dict:\n",
    "                        r_dict.pop(r)\n",
    "                        r_set_dis.add(r)\n",
    "                    else:\n",
    "                        r_dict[r] = c\n",
    "                        \n",
    "                if c not in c_set_dis:\n",
    "                    if c in c_dict:\n",
    "                        c_dict.pop(c)\n",
    "                        c_set_dis.add(c)\n",
    "                    else:\n",
    "                        c_dict[c] = r\n",
    "        \n",
    "        count = sum([r_dict[r] in c_dict for r in r_dict])\n",
    "        return count"
   ]
  },
  {
   "cell_type": "markdown",
   "metadata": {},
   "source": [
    "# Using List and Hash Set - O(M * N) runtime, O(M + N) space"
   ]
  },
  {
   "cell_type": "code",
   "execution_count": 4,
   "metadata": {},
   "outputs": [],
   "source": [
    "from typing import List\n",
    "\n",
    "class Solution:\n",
    "    def findLonelyPixel(self, picture: List[List[str]]) -> int:\n",
    "        m, n = len(picture), len(picture[0])\n",
    "        col = [0] * n\n",
    "        row = set()\n",
    "        for i in range(m):\n",
    "            cnt = 0\n",
    "            for j in range(n):\n",
    "                if picture[i][j] == 'B':\n",
    "                    c = j\n",
    "                    cnt += 1\n",
    "                    col[j] += 1\n",
    "            if cnt == 1: row.add(c)\n",
    "        ans = 0        \n",
    "        for i, c in enumerate(col):\n",
    "            if c == 1 and i in row:\n",
    "                ans += 1\n",
    "        return ans"
   ]
  },
  {
   "cell_type": "code",
   "execution_count": 5,
   "metadata": {},
   "outputs": [
    {
     "data": {
      "text/plain": [
       "3"
      ]
     },
     "execution_count": 5,
     "metadata": {},
     "output_type": "execute_result"
    }
   ],
   "source": [
    "instance = Solution()\n",
    "instance.findLonelyPixel([[\"W\",\"W\",\"B\"],[\"W\",\"B\",\"W\"],[\"B\",\"W\",\"W\"]])"
   ]
  }
 ],
 "metadata": {
  "kernelspec": {
   "display_name": "Python 3",
   "language": "python",
   "name": "python3"
  },
  "language_info": {
   "codemirror_mode": {
    "name": "ipython",
    "version": 3
   },
   "file_extension": ".py",
   "mimetype": "text/x-python",
   "name": "python",
   "nbconvert_exporter": "python",
   "pygments_lexer": "ipython3",
   "version": "3.7.3"
  }
 },
 "nbformat": 4,
 "nbformat_minor": 2
}
