{
 "cells": [
  {
   "cell_type": "markdown",
   "metadata": {},
   "source": [
    "# Brute Force using a doubly linked list to copy input array - O(n) run time and O(n) space but complex"
   ]
  },
  {
   "cell_type": "markdown",
   "metadata": {},
   "source": [
    "# Using a python dictionary of operators - O(n) run time and O(n) space "
   ]
  },
  {
   "cell_type": "code",
   "execution_count": null,
   "metadata": {},
   "outputs": [],
   "source": [
    "class Solution:\n",
    "    def eval(self, x: int, y: int, operator: str) -> int:\n",
    "        if operator == '+':\n",
    "            return x + y\n",
    "        elif operator == '-':\n",
    "            return x - y\n",
    "        elif operator == '*':\n",
    "            return x * y\n",
    "        elif operator == '/':\n",
    "            return int(x * 1.0 / y)\n",
    "    \n",
    "    def evalRPN(self, tokens: List[str]) -> int:\n",
    "        stack = []\n",
    "        operatorList = {'+','-','*','/'}\n",
    "        for token in tokens:\n",
    "            if token in operatorList:\n",
    "                y = int(stack.pop(-1))\n",
    "                x = int(stack.pop(-1))\n",
    "                stack.append(self.eval(x, y, token))\n",
    "            else:\n",
    "                stack.append(token)\n",
    "                \n",
    "        return stack[-1]"
   ]
  },
  {
   "cell_type": "markdown",
   "metadata": {},
   "source": [
    "# Using a try catch - O(n) run time and O(n) space"
   ]
  },
  {
   "cell_type": "code",
   "execution_count": null,
   "metadata": {},
   "outputs": [],
   "source": [
    "class Solution:   \n",
    "    def evalRPN(self, tokens: List[str]) -> int:\n",
    "        stack = []\n",
    "        for t in tokens:\n",
    "            try:\n",
    "                temp = int(t)\n",
    "                stack.append(temp)\n",
    "            except:\n",
    "                b = stack.pop()\n",
    "                a = stack.pop()\n",
    "                if t == \"+\":\n",
    "                    a += b\n",
    "                elif t == \"-\":\n",
    "                    a -= b\n",
    "                elif t == \"*\":\n",
    "                    a *= b\n",
    "                else:\n",
    "                    a = int(a * 1.0 / b)\n",
    "                stack.append(a)\n",
    "        return stack[-1]"
   ]
  }
 ],
 "metadata": {
  "kernelspec": {
   "display_name": "Python 3",
   "language": "python",
   "name": "python3"
  },
  "language_info": {
   "codemirror_mode": {
    "name": "ipython",
    "version": 3
   },
   "file_extension": ".py",
   "mimetype": "text/x-python",
   "name": "python",
   "nbconvert_exporter": "python",
   "pygments_lexer": "ipython3",
   "version": "3.7.3"
  }
 },
 "nbformat": 4,
 "nbformat_minor": 2
}
