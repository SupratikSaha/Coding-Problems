{
 "cells": [
  {
   "cell_type": "markdown",
   "metadata": {},
   "source": [
    "Given an integer matrix, find the length of the longest increasing path.\n",
    "\n",
    "From each cell, you can either move to four directions: left, right, up or down. You may NOT move diagonally or move outside of the boundary (i.e. wrap-around is not allowed).\n",
    "\n",
    "Example 1:\n",
    "\n",
    "Input: nums = \n",
    "[\n",
    "  [9,9,4],\n",
    "  [6,6,8],\n",
    "  [2,1,1]\n",
    "] \n",
    "Output: 4 \n",
    "Explanation: The longest increasing path is [1, 2, 6, 9].\n",
    "\n",
    "Example 2:\n",
    "\n",
    "Input: nums = \n",
    "[\n",
    "  [3,4,5],\n",
    "  [3,2,6],\n",
    "  [2,2,1]\n",
    "] \n",
    "Output: 4 \n",
    "Explanation: The longest increasing path is [3, 4, 5, 6]. Moving diagonally is not allowed."
   ]
  },
  {
   "cell_type": "markdown",
   "metadata": {},
   "source": [
    "# DFS with memoization - O(mn) runtime, O(mn) space where m is no. of rows and n is no. of columns in matrix"
   ]
  },
  {
   "cell_type": "code",
   "execution_count": 1,
   "metadata": {},
   "outputs": [],
   "source": [
    "from typing import List\n",
    "\n",
    "class Solution:\n",
    "        \n",
    "    def longestIncreasingPath(self, matrix: List[List[int]]) -> int:\n",
    "        if not matrix:\n",
    "            return 0\n",
    "        \n",
    "        res = 0\n",
    "        rows, cols = len(matrix), len(matrix[0])\n",
    "        \n",
    "        memo = [[0 for _ in range(cols)] for _ in range(rows)]\n",
    "        dirs = [(1,0), (0,1), (-1,0), (0,-1)]\n",
    "\n",
    "        for i in range(rows):\n",
    "            for j in range(cols):\n",
    "                res = max(res, self.dfs(i, j, matrix, memo, dirs))\n",
    "        return res\n",
    "    \n",
    "    def dfs(self, i, j, matrix, memo, dirs):\n",
    "        if memo[i][j] > 0:\n",
    "            return memo[i][j]\n",
    "        \n",
    "        memo[i][j] = 1\n",
    "        \n",
    "        for x,y in dirs:\n",
    "            newX, newY = i+x, j+y\n",
    "            \n",
    "            if newX >= 0 and newX < len(matrix) and newY >= 0 and newY < len(matrix[0]) and matrix[newX][newY] > matrix[i][j]:\n",
    "                memo[i][j] = max(memo[i][j], 1+self.dfs(newX, newY, matrix, memo, dirs))\n",
    "        \n",
    "        return memo[i][j]"
   ]
  },
  {
   "cell_type": "markdown",
   "metadata": {},
   "source": [
    "# Topsort Outdegree (Peeling Onion) - O(mn) runtime, O(mn) space where m is no. of rows and n is no. of columns in matrix"
   ]
  },
  {
   "cell_type": "code",
   "execution_count": 3,
   "metadata": {},
   "outputs": [],
   "source": [
    "from typing import List\n",
    "from collections import deque\n",
    "\n",
    "class Solution:\n",
    "        \n",
    "    def longestIncreasingPath(self, matrix: List[List[int]]) -> int:\n",
    "        if not matrix: return 0\n",
    "        if not matrix[0]: return 0        \n",
    "        m, n = len(matrix), len(matrix[0])\n",
    "        outdegree=[[0] * n for _ in range(m)]\n",
    "        \n",
    "        for r, row in enumerate(matrix):\n",
    "            for c, val in enumerate(row):\n",
    "                for dr, dc in ((1, 0), (-1, 0), (0, 1), (0, -1)):\n",
    "                    rn, cn = r + dr, c + dc\n",
    "                    if 0 <= rn < m and 0 <= cn < n and val < matrix[rn][cn]:\n",
    "                        outdegree[r][c] += 1\n",
    "                        \n",
    "        #dq\n",
    "        dq = deque()\n",
    "   \n",
    "        #max tails\n",
    "        for r, row in enumerate(outdegree):\n",
    "            for c, degree in enumerate(row):\n",
    "                if degree==0:\n",
    "                    dq.append((r, c, 1))# or depth level traverse                    \n",
    "        #peel onion        \n",
    "        depth = 0\n",
    "        while dq:                        \n",
    "            r, c, depth = dq.popleft()\n",
    "            for dr, dc in ((1, 0), (-1, 0), (0, 1), (0, -1)):\n",
    "                rn, cn = r + dr, c + dc\n",
    "                if 0 <= rn < m and 0 <= cn < n and matrix[r][c] > matrix[rn][cn]:\n",
    "                    outdegree[rn][cn] -= 1\n",
    "                    if outdegree[rn][cn] == 0:\n",
    "                        dq.append((rn, cn, depth+1))\n",
    "        return depth"
   ]
  },
  {
   "cell_type": "code",
   "execution_count": 4,
   "metadata": {},
   "outputs": [
    {
     "data": {
      "text/plain": [
       "4"
      ]
     },
     "execution_count": 4,
     "metadata": {},
     "output_type": "execute_result"
    }
   ],
   "source": [
    "instance = Solution()\n",
    "instance.longestIncreasingPath([[9,9,4],[6,6,8],[2,1,1]])"
   ]
  }
 ],
 "metadata": {
  "kernelspec": {
   "display_name": "Python 3",
   "language": "python",
   "name": "python3"
  },
  "language_info": {
   "codemirror_mode": {
    "name": "ipython",
    "version": 3
   },
   "file_extension": ".py",
   "mimetype": "text/x-python",
   "name": "python",
   "nbconvert_exporter": "python",
   "pygments_lexer": "ipython3",
   "version": "3.7.3"
  }
 },
 "nbformat": 4,
 "nbformat_minor": 2
}
