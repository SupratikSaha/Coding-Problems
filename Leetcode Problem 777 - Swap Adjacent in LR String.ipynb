{
 "cells": [
  {
   "cell_type": "markdown",
   "metadata": {},
   "source": [
    "Problem Statement. <br/>\n",
    "\n",
    "In a string composed of 'L', 'R', and 'X' characters, like \"RXXLRXRXL\", a move consists of either replacing one occurrence of \"XL\" with \"LX\", or replacing one occurrence of \"RX\" with \"XR\". Given the starting string start and the ending string end, return True if and only if there exists a sequence of moves to transform one string to the other. <br/>\n",
    "Example 1: <br/>\n",
    "Input: start = \"RXXLRXRXL\", end = \"XRLXXRRLX\" <br/>\n",
    "Output: true <br/>\n",
    "Explanation: We can transform start to end following these steps: <br/>\n",
    "RXXLRXRXL -> <br/>\n",
    "XRXLRXRXL -> <br/>\n",
    "XRLXRXRXL -> <br/>\n",
    "XRLXXRRXL -> <br/>\n",
    "XRLXXRRLX <br/>\n",
    "\n",
    "Example 2: <br/>\n",
    "Input: start = \"X\", end = \"L\" <br/>\n",
    "Output: false <br/>\n",
    "\n",
    "Example 3: <br/>\n",
    "Input: start = \"LLR\", end = \"RRL\" <br/>\n",
    "Output: falsev\n",
    "\n",
    "Example 4: <br/>\n",
    "Input: start = \"XL\", end = \"LX\" <br/>\n",
    "Output: true <br/>\n",
    "\n",
    "Example 5: <br/>\n",
    "Input: start = \"XLLR\", end = \"LXLX\" <br/>\n",
    "Output: false"
   ]
  },
  {
   "cell_type": "markdown",
   "metadata": {},
   "source": [
    "# Top Down Dp - O(3 ^ N) runtime, O(3 ^ N) space"
   ]
  },
  {
   "cell_type": "code",
   "execution_count": 1,
   "metadata": {},
   "outputs": [],
   "source": [
    "from typing import List\n",
    "\n",
    "class Solution:\n",
    "    def canTransform(self, start: str, end: str) -> bool:\n",
    "        dp = {}\n",
    "        return self.canTransformRecursive(dp, list(start), end, 0)\n",
    "    \n",
    "    def canTransformRecursive(self, dp: List[List[bool]], start: List[str], end: str, index: int) -> bool:\n",
    "        startStr = ''.join(start)\n",
    "        if startStr == end:\n",
    "            return True\n",
    "        if index < 0 or index >= len(start) - 1:\n",
    "            return False\n",
    "        \n",
    "        if start[index: index+2] not in (['R','X'], ['X','L']):\n",
    "            return self.canTransformRecursive(dp, start, end, index+1)\n",
    "        \n",
    "        if dp.get(startStr) is None or dp.get(startStr).get(index) is None:   \n",
    "            noSwap = self.canTransformRecursive(dp, start, end, index+1)\n",
    "            start[index], start[index+1] = start[index+1], start[index]\n",
    "            swapGoRight = self.canTransformRecursive(dp, start, end, index+1)\n",
    "            swapGoLeft = self.canTransformRecursive(dp, start, end, index-1)\n",
    "            start[index], start[index+1] = start[index+1], start[index]\n",
    "            \n",
    "            if dp.get(startStr) is None:\n",
    "                dp[startStr] = {}\n",
    "\n",
    "            if noSwap or swapGoRight or swapGoLeft:\n",
    "                 dp[startStr][index] = True\n",
    "            else:\n",
    "                dp[startStr][index] = False\n",
    "                \n",
    "        return dp[startStr][index]"
   ]
  },
  {
   "cell_type": "markdown",
   "metadata": {},
   "source": [
    "# Invariant - O(N) runtime, O(N) space "
   ]
  },
  {
   "cell_type": "code",
   "execution_count": 3,
   "metadata": {},
   "outputs": [],
   "source": [
    "import operator\n",
    "\n",
    "class Solution:\n",
    "    def canTransform(self, start: str, end: str) -> bool:\n",
    "        if start.replace('X','') != end.replace('X', ''):\n",
    "            return False\n",
    "\n",
    "        for (symbol, op) in (('L', operator.ge), ('R', operator.le)):\n",
    "            B = (i for i, c in enumerate(end) if c == symbol)\n",
    "            for i, c in enumerate(start):\n",
    "                if c == symbol and not op(i, next(B)):\n",
    "                    return False\n",
    "\n",
    "        return True"
   ]
  },
  {
   "cell_type": "markdown",
   "metadata": {},
   "source": [
    "# Two Pointers - O(N) runtime, O(1) space"
   ]
  },
  {
   "cell_type": "code",
   "execution_count": 5,
   "metadata": {},
   "outputs": [],
   "source": [
    "class Solution:\n",
    "    def canTransform(self, start: str, end: str) -> bool:\n",
    "        # count X in start and end --> should be the same\n",
    "        if start.count('X') != end.count('X'):\n",
    "            return False\n",
    "        \n",
    "        n = len(start)\n",
    "        i = j = 0\n",
    "        while (i < n and j < n):\n",
    "            while i < n and start[i] == 'X':\n",
    "                i += 1\n",
    "            while j < n and end[j] == 'X':\n",
    "                j += 1\n",
    "\n",
    "            # i and j are the indices representing the next\n",
    "            # occurrences of non-X characters\n",
    "            if i == n or j == n:\n",
    "                return i == n and j == n\n",
    "\n",
    "            if start[i] != end[j]:\n",
    "                return False\n",
    "            if start[i] == 'L' and i < j:\n",
    "                return False\n",
    "            if start[i] == 'R' and i > j:\n",
    "                return False\n",
    "\n",
    "            i += 1\n",
    "            j += 1\n",
    "     \n",
    "        return True"
   ]
  },
  {
   "cell_type": "code",
   "execution_count": 6,
   "metadata": {},
   "outputs": [
    {
     "data": {
      "text/plain": [
       "True"
      ]
     },
     "execution_count": 6,
     "metadata": {},
     "output_type": "execute_result"
    }
   ],
   "source": [
    "instance = Solution()\n",
    "instance.canTransform( \"RXXLRXRXL\", \"XRLXXRRLX\")"
   ]
  }
 ],
 "metadata": {
  "kernelspec": {
   "display_name": "Python 3",
   "language": "python",
   "name": "python3"
  },
  "language_info": {
   "codemirror_mode": {
    "name": "ipython",
    "version": 3
   },
   "file_extension": ".py",
   "mimetype": "text/x-python",
   "name": "python",
   "nbconvert_exporter": "python",
   "pygments_lexer": "ipython3",
   "version": "3.7.3"
  }
 },
 "nbformat": 4,
 "nbformat_minor": 2
}
