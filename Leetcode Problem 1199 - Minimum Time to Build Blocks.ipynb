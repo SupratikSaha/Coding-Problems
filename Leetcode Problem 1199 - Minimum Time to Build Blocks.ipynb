{
 "cells": [
  {
   "cell_type": "markdown",
   "metadata": {},
   "source": [
    "Problem Statement.\n",
    "\n",
    "You are given a list of blocks, where blocks[i] = t means that the i-th block needs t units of time to be built. A block can only be built by exactly one worker.\n",
    "\n",
    "A worker can either split into two workers (number of workers increases by one) or build a block then go home. Both decisions cost some time.\n",
    "\n",
    "The time cost of spliting one worker into two workers is given as an integer split. Note that if two workers split at the same time, they split in parallel so the cost would be split.\n",
    "\n",
    "Output the minimum time needed to build all blocks.\n",
    "\n",
    "Initially, there is only one worker.\n",
    "\n",
    " \n",
    "\n",
    "Example 1:\n",
    "\n",
    "Input: blocks = [1], split = 1\n",
    "Output: 1\n",
    "Explanation: We use 1 worker to build 1 block in 1 time unit.\n",
    "\n",
    "Example 2:\n",
    "\n",
    "Input: blocks = [1,2], split = 5\n",
    "Output: 7\n",
    "Explanation: We split the worker into 2 workers in 5 time units then assign each of them to a block so the cost is 5 + max(1, 2) = 7.\n",
    "\n",
    "Example 3:\n",
    "\n",
    "Input: blocks = [1,2,3], split = 1\n",
    "Output: 4\n",
    "Explanation: Split 1 worker into 2, then assign the first worker to the last block and split the second worker into 2.\n",
    "Then, use the two unassigned workers to build the first two blocks.\n",
    "The cost is 1 + max(3, 1 + max(1, 2)) = 4.\n",
    "\n",
    " \n",
    "\n",
    "Constraints:\n",
    "\n",
    "    1 <= blocks.length <= 1000\n",
    "    1 <= blocks[i] <= 10^5\n",
    "    1 <= split <= 100"
   ]
  },
  {
   "cell_type": "markdown",
   "metadata": {},
   "source": [
    "# Huffman's Algorithm - O(N Log N) runtime, O(N) space"
   ]
  },
  {
   "cell_type": "code",
   "execution_count": 3,
   "metadata": {},
   "outputs": [],
   "source": [
    "from typing import List\n",
    "from heapq import heapify, heappush, heappop\n",
    "\n",
    "class Solution:\n",
    "    def minBuildTime(self, blocks: List[int], split: int) -> int:\n",
    "        heapify(blocks)\n",
    "        while len(blocks) > 1:\n",
    "            x, y = heappop(blocks), heappop(blocks)\n",
    "            heappush(blocks, y + split)\n",
    "        return heappop(blocks)"
   ]
  },
  {
   "cell_type": "code",
   "execution_count": 4,
   "metadata": {},
   "outputs": [
    {
     "data": {
      "text/plain": [
       "4"
      ]
     },
     "execution_count": 4,
     "metadata": {},
     "output_type": "execute_result"
    }
   ],
   "source": [
    "instance = Solution()\n",
    "instance.minBuildTime([1, 2, 3], 1)"
   ]
  }
 ],
 "metadata": {
  "kernelspec": {
   "display_name": "Python 3",
   "language": "python",
   "name": "python3"
  },
  "language_info": {
   "codemirror_mode": {
    "name": "ipython",
    "version": 3
   },
   "file_extension": ".py",
   "mimetype": "text/x-python",
   "name": "python",
   "nbconvert_exporter": "python",
   "pygments_lexer": "ipython3",
   "version": "3.7.3"
  }
 },
 "nbformat": 4,
 "nbformat_minor": 2
}
