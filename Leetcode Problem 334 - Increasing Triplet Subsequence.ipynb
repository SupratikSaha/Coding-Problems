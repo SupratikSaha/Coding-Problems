{
 "cells": [
  {
   "cell_type": "markdown",
   "metadata": {},
   "source": [
    "Problem Statement. <br/>\n",
    "\n",
    "Given an integer array nums, return true if there exists a triple of indices (i, j, k) such that i < j < k and nums[i] < nums[j] < nums[k]. If no such indices exists, return false. <br/>\n",
    "\n",
    "Example 1: <br/>\n",
    "Input: nums = [1,2,3,4,5] <br/>\n",
    "Output: true <br/>\n",
    "Explanation: Any triplet where i < j < k is valid. <br/>\n",
    "\n",
    "Example 2: <br/>\n",
    "Input: nums = [5,4,3,2,1] <br/>\n",
    "Output: false <br/>\n",
    "Explanation: No triplet exists."
   ]
  },
  {
   "cell_type": "markdown",
   "metadata": {},
   "source": [
    "# Two Loops - O(N ^ 2) runtime, O(1) space"
   ]
  },
  {
   "cell_type": "code",
   "execution_count": 1,
   "metadata": {},
   "outputs": [],
   "source": [
    "from typing import List\n",
    "\n",
    "class Solution:\n",
    "    def increasingTriplet(self, nums: List[int]) -> bool:\n",
    "        n = len(nums) \n",
    "        if not nums or n < 3:\n",
    "            return False\n",
    "        \n",
    "        minFirst = nums[0]\n",
    "        \n",
    "        for i in range(1, n):\n",
    "            if nums[i] <= minFirst:\n",
    "                minFirst = nums[i]\n",
    "                continue\n",
    "            for j in range(i, n):\n",
    "                if nums[j] > nums[i]:\n",
    "                    return True\n",
    "                \n",
    "        return False"
   ]
  },
  {
   "cell_type": "markdown",
   "metadata": {},
   "source": [
    "# Linear Scan - O(N) runtime, O(1) space"
   ]
  },
  {
   "cell_type": "code",
   "execution_count": 3,
   "metadata": {},
   "outputs": [],
   "source": [
    "from typing import List\n",
    "\n",
    "class Solution:\n",
    "    def increasingTriplet(self, nums: List[int]) -> bool:\n",
    "        \n",
    "        first_num = float(\"inf\")\n",
    "        second_num = float(\"inf\")\n",
    "        for n in nums:\n",
    "            if n <= first_num:\n",
    "                first_num = n\n",
    "            elif n <= second_num:\n",
    "                second_num = n\n",
    "            else:\n",
    "                return True\n",
    "        return False"
   ]
  },
  {
   "cell_type": "code",
   "execution_count": 4,
   "metadata": {},
   "outputs": [
    {
     "data": {
      "text/plain": [
       "True"
      ]
     },
     "execution_count": 4,
     "metadata": {},
     "output_type": "execute_result"
    }
   ],
   "source": [
    "instance = Solution()\n",
    "instance.increasingTriplet([1,2,3,4,5] )"
   ]
  }
 ],
 "metadata": {
  "kernelspec": {
   "display_name": "Python 3",
   "language": "python",
   "name": "python3"
  },
  "language_info": {
   "codemirror_mode": {
    "name": "ipython",
    "version": 3
   },
   "file_extension": ".py",
   "mimetype": "text/x-python",
   "name": "python",
   "nbconvert_exporter": "python",
   "pygments_lexer": "ipython3",
   "version": "3.7.3"
  }
 },
 "nbformat": 4,
 "nbformat_minor": 2
}
