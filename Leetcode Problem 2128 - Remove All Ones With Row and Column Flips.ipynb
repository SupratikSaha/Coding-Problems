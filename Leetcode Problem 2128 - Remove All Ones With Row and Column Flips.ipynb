{
 "cells": [
  {
   "cell_type": "markdown",
   "metadata": {},
   "source": [
    "Problem Statement.\n",
    "\n",
    "You are given an m x n binary matrix grid.\n",
    "\n",
    "In one operation, you can choose any row or column and flip each value in that row or column (i.e., changing all 0's to 1's, and all 1's to 0's).\n",
    "\n",
    "Return true if it is possible to remove all 1's from grid using any number of operations or false otherwise.\n",
    "\n",
    " \n",
    "\n",
    "Example 1:\n",
    "\n",
    "Input: grid = [[0,1,0],[1,0,1],[0,1,0]]\n",
    "Output: true\n",
    "Explanation: One possible way to remove all 1's from grid is to:\n",
    "- Flip the middle row\n",
    "- Flip the middle column\n",
    "\n",
    "Example 2:\n",
    "\n",
    "Input: grid = [[1,1,0],[0,0,0],[0,0,0]]\n",
    "Output: false\n",
    "Explanation: It is impossible to remove all 1's from grid.\n",
    "\n",
    "Example 3:\n",
    "\n",
    "Input: grid = [[0]]\n",
    "Output: true\n",
    "Explanation: There are no 1's in grid.\n",
    "\n",
    " \n",
    "\n",
    "Constraints:\n",
    "\n",
    "    m == grid.length\n",
    "    n == grid[i].length\n",
    "    1 <= m, n <= 300\n",
    "    grid[i][j] is either 0 or 1."
   ]
  },
  {
   "cell_type": "markdown",
   "metadata": {},
   "source": [
    "# Math - O(M * N) runtime, O(N) space"
   ]
  },
  {
   "cell_type": "code",
   "execution_count": 2,
   "metadata": {},
   "outputs": [],
   "source": [
    "from typing import List\n",
    "\n",
    "class Solution:\n",
    "    def removeOnes(self, grid: List[List[int]]) -> bool:\n",
    "        r1, r1_invert = grid[0], [1-val for val in grid[0]]\n",
    "        \n",
    "        for i in range(1, len(grid)):\n",
    "            if grid[i] != r1 and grid[i] != r1_invert:\n",
    "                return False\n",
    "            \n",
    "        return True"
   ]
  },
  {
   "cell_type": "code",
   "execution_count": 3,
   "metadata": {},
   "outputs": [
    {
     "data": {
      "text/plain": [
       "False"
      ]
     },
     "execution_count": 3,
     "metadata": {},
     "output_type": "execute_result"
    }
   ],
   "source": [
    "instance = Solution()\n",
    "instance.removeOnes([[1,1,0],[0,0,0],[0,0,0]])"
   ]
  }
 ],
 "metadata": {
  "kernelspec": {
   "display_name": "Python 3",
   "language": "python",
   "name": "python3"
  },
  "language_info": {
   "codemirror_mode": {
    "name": "ipython",
    "version": 3
   },
   "file_extension": ".py",
   "mimetype": "text/x-python",
   "name": "python",
   "nbconvert_exporter": "python",
   "pygments_lexer": "ipython3",
   "version": "3.7.3"
  }
 },
 "nbformat": 4,
 "nbformat_minor": 2
}
