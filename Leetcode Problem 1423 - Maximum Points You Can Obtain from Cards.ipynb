{
 "cells": [
  {
   "cell_type": "markdown",
   "metadata": {},
   "source": [
    "Problem Statement. <br/>\n",
    "\n",
    "There are several cards arranged in a row, and each card has an associated number of points The points are given in the integer array cardPoints. <br/>\n",
    "In one step, you can take one card from the beginning or from the end of the row. You have to take exactly k cards. <br/>\n",
    "Your score is the sum of the points of the cards you have taken. <br/>\n",
    "Given the integer array cardPoints and the integer k, return the maximum score you can obtain. <br/>\n",
    "\n",
    "Example 1: <br/>\n",
    "Input: cardPoints = [1,2,3,4,5,6,1], k = 3 <br/>\n",
    "Output: 12 <br/>\n",
    "Explanation: After the first step, your score will always be 1. However, choosing the rightmost card first will maximize your total score. The optimal strategy is to take the three cards on the right, giving a final score of 1 + 6 + 5 = 12. <br/>\n",
    "\n",
    "Example 2: <br/>\n",
    "Input: cardPoints = [2,2,2], k = 2 <br/>\n",
    "Output: 4 <br/>\n",
    "Explanation: Regardless of which two cards you take, your score will always be 4. <br/>\n",
    "\n",
    "Example 3: <br/>\n",
    "Input: cardPoints = [9,7,7,9,7,7,9], k = 7 <br/>\n",
    "Output: 55 <br/>\n",
    "Explanation: You have to take all the cards. Your score is the sum of points of all cards. <br/>\n",
    "\n",
    "Example 4: <br/>\n",
    "Input: cardPoints = [1,1000,1], k = 1 <br/>\n",
    "Output: 1 <br/>\n",
    "Explanation: You cannot take the card in the middle. Your best score is 1. <br/>\n",
    "\n",
    "Example 5: <br/>\n",
    "Input: cardPoints = [1,79,80,1,1,1,200,1], k = 3 <br/>\n",
    "Output: 202"
   ]
  },
  {
   "cell_type": "markdown",
   "metadata": {},
   "source": [
    "# Top Down DP - O(2 ^ K) runtime, O(K) space"
   ]
  },
  {
   "cell_type": "code",
   "execution_count": 1,
   "metadata": {},
   "outputs": [],
   "source": [
    "from typing import List\n",
    "\n",
    "class Solution:\n",
    "    def maxScore(self, cardPoints: List[int], k: int) -> int:\n",
    "        n = len(cardPoints)\n",
    "        if n == k:\n",
    "            return sum(cardPoints)\n",
    "        return self.maxScoreRecursive(cardPoints, k, 0, n - 1)\n",
    "    \n",
    "    def maxScoreRecursive(self, cardPoints: List[int], k: int, left: int, right: int) -> int:\n",
    "        if k == 0:\n",
    "            return 0\n",
    "        \n",
    "        chooseLeft = cardPoints[left] + self.maxScoreRecursive(cardPoints, k-1, left+1, right)\n",
    "        chooseRight = cardPoints[right] + self.maxScoreRecursive(cardPoints, k-1, left, right-1)\n",
    "        \n",
    "        return max(chooseLeft, chooseRight)"
   ]
  },
  {
   "cell_type": "markdown",
   "metadata": {},
   "source": [
    "# Top Down DP with memoization - O(K ^ 2) runtime, O(N ^ 2) space"
   ]
  },
  {
   "cell_type": "code",
   "execution_count": 2,
   "metadata": {},
   "outputs": [],
   "source": [
    "from typing import List, Dict, Tuple\n",
    "\n",
    "class Solution:\n",
    "    def maxScore(self, cardPoints: List[int], k: int) -> int:\n",
    "        n = len(cardPoints)\n",
    "        if n == k:\n",
    "            return sum(cardPoints)\n",
    "        dp = [[float('inf') for _ in range(n)] for _ in range(n)]\n",
    "        return self.maxScoreRecursive(cardPoints, k, 0, n - 1, dp)\n",
    "    \n",
    "    def maxScoreRecursive(self, cardPoints: List[int], k: int, left: int, right: int, dp: Dict[Tuple[int,int,int], int]) -> int:\n",
    "        if k == 0:\n",
    "            return 0\n",
    "        \n",
    "        if dp[left][right] == float('inf'):\n",
    "            chooseLeft = cardPoints[left] + self.maxScoreRecursive(cardPoints, k-1, left+1, right, dp)\n",
    "            chooseRight = cardPoints[right] + self.maxScoreRecursive(cardPoints, k-1, left, right-1, dp)\n",
    "        \n",
    "            dp[left][right] = max(chooseLeft, chooseRight)\n",
    "            \n",
    "        return dp[left][right]"
   ]
  },
  {
   "cell_type": "markdown",
   "metadata": {},
   "source": [
    "# Two Pointers - O(k) runtime, O(1) space"
   ]
  },
  {
   "cell_type": "code",
   "execution_count": 3,
   "metadata": {},
   "outputs": [],
   "source": [
    "from typing import List\n",
    "\n",
    "class Solution:\n",
    "    def maxScore(self, cardPoints: List[int], k: int) -> int:\n",
    "        n = len(cardPoints)\n",
    "        if n == k:\n",
    "            return sum(cardPoints)\n",
    "        \n",
    "        currVal = maxVal = sum(cardPoints[0:k])\n",
    "        left, right = k-1, n-1\n",
    "        # adjustment\n",
    "        for _ in range(k):\n",
    "            \n",
    "            # left hand side discards one, and right hand side picks one more \n",
    "            currVal += ( cardPoints[right] - cardPoints[left] )\n",
    "            \n",
    "            # update max point\n",
    "            maxVal = max(maxVal, currVal)\n",
    "            \n",
    "            # update card index for both sides in adjustment\n",
    "            left, right = left-1, right-1\n",
    "            \n",
    "        return maxVal"
   ]
  },
  {
   "cell_type": "markdown",
   "metadata": {},
   "source": [
    "# Sliding Window - O(k) runtime, O(1) space"
   ]
  },
  {
   "cell_type": "code",
   "execution_count": 4,
   "metadata": {},
   "outputs": [],
   "source": [
    "from typing import List\n",
    "\n",
    "class Solution:\n",
    "    def maxScore(self, cardPoints: List[int], k: int) -> int:\n",
    "        ans = win = 0\n",
    "        for i in range(-k, k):\n",
    "            win += cardPoints[i]\n",
    "            if i >= 0:\n",
    "                win -= cardPoints[i - k]\n",
    "            ans = max(win, ans)    \n",
    "        return ans"
   ]
  },
  {
   "cell_type": "code",
   "execution_count": 5,
   "metadata": {},
   "outputs": [
    {
     "data": {
      "text/plain": [
       "202"
      ]
     },
     "execution_count": 5,
     "metadata": {},
     "output_type": "execute_result"
    }
   ],
   "source": [
    "instance = Solution()\n",
    "instance.maxScore([1,79,80,1,1,1,200,1], 3)"
   ]
  }
 ],
 "metadata": {
  "kernelspec": {
   "display_name": "Python 3",
   "language": "python",
   "name": "python3"
  },
  "language_info": {
   "codemirror_mode": {
    "name": "ipython",
    "version": 3
   },
   "file_extension": ".py",
   "mimetype": "text/x-python",
   "name": "python",
   "nbconvert_exporter": "python",
   "pygments_lexer": "ipython3",
   "version": "3.7.3"
  }
 },
 "nbformat": 4,
 "nbformat_minor": 2
}
