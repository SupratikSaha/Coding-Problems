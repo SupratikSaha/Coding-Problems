{
 "cells": [
  {
   "cell_type": "markdown",
   "metadata": {},
   "source": [
    "Problem Statement.\n",
    "\n",
    "You are given an m x n binary matrix grid. An island is a group of 1's (representing land) connected 4-directionally (horizontal or vertical.) You may assume all four edges of the grid are surrounded by water.\n",
    "\n",
    "An island is considered to be the same as another if they have the same shape, or have the same shape after rotation (90, 180, or 270 degrees only) or reflection (left/right direction or up/down direction).\n",
    "\n",
    "Return the number of distinct islands.\n",
    "\n",
    " \n",
    "\n",
    "Example 1:\n",
    "\n",
    "Input: grid = [[1,1,0,0,0],[1,0,0,0,0],[0,0,0,0,1],[0,0,0,1,1]]\n",
    "Output: 1\n",
    "Explanation: The two islands are considered the same because if we make a 180 degrees clockwise rotation on the first island, then two islands will have the same shapes.\n",
    "\n",
    "Example 2:\n",
    "\n",
    "Input: grid = [[1,1,0,0,0],[1,1,0,0,0],[0,0,0,1,1],[0,0,0,1,1]]\n",
    "Output: 1\n",
    "\n",
    " \n",
    "\n",
    "Constraints:\n",
    "\n",
    "    m == grid.length\n",
    "    n == grid[i].length\n",
    "    1 <= m, n <= 50\n",
    "    grid[i][j] is either 0 or 1."
   ]
  },
  {
   "cell_type": "markdown",
   "metadata": {},
   "source": [
    "# BFS + Sort - O(N * Log N) runtime, O(N) space where N is the number of cells"
   ]
  },
  {
   "cell_type": "code",
   "execution_count": 1,
   "metadata": {},
   "outputs": [],
   "source": [
    "from typing import List\n",
    "\n",
    "class Solution:\n",
    "    def numDistinctIslands2(self, grid: List[List[int]]) -> int:\n",
    "        if not grid or not grid[0]: return 0\n",
    "        m,n=len(grid),len(grid[0])\n",
    "\n",
    "        # augment matrix to void length check\n",
    "        grid.append([0]*n)\n",
    "        for row in grid: row.append(0)\n",
    "\n",
    "        self.pool=set()\n",
    "        self.res=0\n",
    "\n",
    "        def bfs(i0,j0):\n",
    "            grid[i0][j0]=-1\n",
    "            q=[(i0,j0)]\n",
    "            for i,j in q:\n",
    "                for I,J in (i-1,j),(i+1,j),(i,j-1),(i,j+1):\n",
    "                    if grid[I][J]==1:\n",
    "                        grid[I][J]=-1\n",
    "                        q.append([I,J])\n",
    "            self.addisland(q)\n",
    "       \n",
    "        for i in range(m):\n",
    "            for j in range(n):\n",
    "                if grid[i][j]==1: bfs(i,j)\n",
    "\n",
    "        return self.res\n",
    "\n",
    "    def addisland(self,q):\n",
    "        Imin=min(x for x,y in q)\n",
    "        Jmin=min(y for x,y in q)\n",
    "        island1=tuple(sorted((x-Imin,y-Jmin) for x,y in q)) # original island\n",
    "\n",
    "        if island1 in self.pool: return None\n",
    "        self.res+=1\n",
    "\n",
    "        Imax=max(x for x,y in island1)\n",
    "        Jmax=max(y for x,y in island1)\n",
    "\n",
    "        island2=tuple(sorted((-x+Imax,y) for x,y in island1)) # x axis mirror\n",
    "        island3=tuple(sorted((x,-y+Jmax) for x,y in island1)) # y axis mirror\n",
    "        island4=tuple(sorted((-x+Imax,-y+Jmax) for x,y in island1)) # origin mirror\n",
    "\n",
    "        island5=tuple(sorted((y,x) for x,y in island1)) # diagonal mirror\n",
    "        island6=tuple(sorted((-x+Jmax,y) for x,y in island5))\n",
    "        island7=tuple(sorted((x,-y+Imax) for x,y in island5))\n",
    "        island8=tuple(sorted((-x+Jmax,-y+Imax) for x,y in island5))\n",
    "\n",
    "        self.pool |= set([island1,island2,island3,island4,island5,island6,island7,island8])"
   ]
  },
  {
   "cell_type": "code",
   "execution_count": 2,
   "metadata": {},
   "outputs": [
    {
     "data": {
      "text/plain": [
       "1"
      ]
     },
     "execution_count": 2,
     "metadata": {},
     "output_type": "execute_result"
    }
   ],
   "source": [
    "instance = Solution()\n",
    "instance.numDistinctIslands2([[1,1,0,0,0],[1,0,0,0,0],[0,0,0,0,1],[0,0,0,1,1]])"
   ]
  }
 ],
 "metadata": {
  "kernelspec": {
   "display_name": "Python 3",
   "language": "python",
   "name": "python3"
  },
  "language_info": {
   "codemirror_mode": {
    "name": "ipython",
    "version": 3
   },
   "file_extension": ".py",
   "mimetype": "text/x-python",
   "name": "python",
   "nbconvert_exporter": "python",
   "pygments_lexer": "ipython3",
   "version": "3.7.3"
  }
 },
 "nbformat": 4,
 "nbformat_minor": 2
}
