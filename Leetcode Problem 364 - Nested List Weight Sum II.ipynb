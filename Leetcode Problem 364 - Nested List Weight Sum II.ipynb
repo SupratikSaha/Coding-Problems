{
 "cells": [
  {
   "cell_type": "markdown",
   "metadata": {},
   "source": [
    "Problem Statement.\n",
    "\n",
    "You are given a nested list of integers nestedList. Each element is either an integer or a list whose elements may also be integers or other lists.\n",
    "\n",
    "The depth of an integer is the number of lists that it is inside of. For example, the nested list [1,[2,2],[[3],2],1] has each integer's value set to its depth. Let maxDepth be the maximum depth of any integer.\n",
    "\n",
    "The weight of an integer is maxDepth - (the depth of the integer) + 1.\n",
    "\n",
    "Return the sum of each integer in nestedList multiplied by its weight.\n",
    "\n",
    " \n",
    "\n",
    "Example 1:\n",
    "\n",
    "Input: nestedList = [[1,1],2,[1,1]]\n",
    "Output: 8\n",
    "Explanation: Four 1's with a weight of 1, one 2 with a weight of 2.\n",
    "1*1 + 1*1 + 2*2 + 1*1 + 1*1 = 8\n",
    "\n",
    "Example 2:\n",
    "\n",
    "Input: nestedList = [1,[4,[6]]]\n",
    "Output: 17\n",
    "Explanation: One 1 at depth 3, one 4 at depth 2, and one 6 at depth 1.\n",
    "1*3 + 4*2 + 6*1 = 17\n",
    "\n",
    " \n",
    "\n",
    "Constraints:\n",
    "\n",
    "    1 <= nestedList.length <= 50\n",
    "    The values of the integers in the nested list is in the range [-100, 100].\n",
    "    The maximum depth of any integer is less than or equal to 50."
   ]
  },
  {
   "cell_type": "markdown",
   "metadata": {},
   "source": [
    "# DFS - O(N) runtime, O(D) space"
   ]
  },
  {
   "cell_type": "code",
   "execution_count": 1,
   "metadata": {},
   "outputs": [],
   "source": [
    "from typing import List\n",
    "\n",
    "class Solution:\n",
    "    def depthSumInverse(self, nestedList: List[NestedInteger]) -> int:\n",
    "        \n",
    "        def depthSumInverseRecursive(nl, depth):\n",
    "            nonlocal integerSum, currSumWeight, maxDepth\n",
    "            \n",
    "            maxDepth = max(maxDepth, depth)\n",
    "            for elem in nl:\n",
    "                if elem.isInteger():\n",
    "                    intVal = elem.getInteger()\n",
    "                    integerSum += intVal\n",
    "                    currSumWeight -= intVal*depth\n",
    "                else:\n",
    "                    depthSumInverseRecursive(elem.getList(), depth+1)\n",
    "                    \n",
    "        integerSum, currSumWeight, maxDepth = 0, 0, 0\n",
    "        depthSumInverseRecursive(nestedList, 1)\n",
    "        \n",
    "        return currSumWeight + integerSum*(1 + maxDepth)"
   ]
  }
 ],
 "metadata": {
  "kernelspec": {
   "display_name": "Python 3",
   "language": "python",
   "name": "python3"
  },
  "language_info": {
   "codemirror_mode": {
    "name": "ipython",
    "version": 3
   },
   "file_extension": ".py",
   "mimetype": "text/x-python",
   "name": "python",
   "nbconvert_exporter": "python",
   "pygments_lexer": "ipython3",
   "version": "3.7.3"
  }
 },
 "nbformat": 4,
 "nbformat_minor": 2
}
