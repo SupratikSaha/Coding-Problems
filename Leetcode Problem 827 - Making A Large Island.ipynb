{
 "cells": [
  {
   "cell_type": "markdown",
   "metadata": {},
   "source": [
    "    Problem Statement.\n",
    "\n",
    "    You are given an n x n binary matrix grid. You are allowed to change at most one 0 to be 1.\n",
    "\n",
    "    Return the size of the largest island in grid after applying this operation.\n",
    "\n",
    "    An island is a 4-directionally connected group of 1s.\n",
    "\n",
    "\n",
    "\n",
    "    Example 1:\n",
    "\n",
    "    Input: grid = [[1,0],[0,1]]\n",
    "    Output: 3\n",
    "    Explanation: Change one 0 to 1 and connect two 1s, then we get an island with area = 3.\n",
    "\n",
    "    Example 2:\n",
    "\n",
    "    Input: grid = [[1,1],[1,0]]\n",
    "    Output: 4\n",
    "    Explanation: Change the 0 to 1 and make the island bigger, only one island with area = 4.\n",
    "\n",
    "    Example 3:\n",
    "\n",
    "    Input: grid = [[1,1],[1,1]]\n",
    "    Output: 4\n",
    "    Explanation: Can't change any 0 to 1, only one island with area = 4.\n",
    "\n",
    "\n",
    "\n",
    "    Constraints:\n",
    "\n",
    "        n == grid.length\n",
    "        n == grid[i].length\n",
    "        1 <= n <= 500\n",
    "        grid[i][j] is either 0 or 1."
   ]
  },
  {
   "cell_type": "markdown",
   "metadata": {},
   "source": [
    "# BFS - Time LImit Exceeded - O(N ^ 4) runtime, O(N ^ 2) space"
   ]
  },
  {
   "cell_type": "code",
   "execution_count": 1,
   "metadata": {},
   "outputs": [],
   "source": [
    "from typing import List\n",
    "from collections import deque\n",
    "from copy import deepcopy\n",
    "\n",
    "class Solution:\n",
    "    def largestIsland(self, grid: List[List[int]]) -> int:\n",
    "        n = len(grid)\n",
    "        res = 0        \n",
    "        \n",
    "        allOnes = True\n",
    "        for i in range(n):\n",
    "            for j in range(n):\n",
    "                if grid[i][j] == 0:\n",
    "                    allOnes = False\n",
    "                    grid[i][j] = 1\n",
    "                    res = max(res, self.getLargestIsland(grid, n))\n",
    "                    grid[i][j] = 0\n",
    "                            \n",
    "        if allOnes:\n",
    "            res = max(res, self.getLargestIsland(grid.copy(), n))\n",
    "                            \n",
    "        return res\n",
    "    \n",
    "    def getLargestIsland(self, dp: List[List[int]], n: int) -> int:\n",
    "        maxVal = 0\n",
    "        for i in range(n):\n",
    "            for j in range(n):\n",
    "                curr = 0\n",
    "                seen = set()\n",
    "                if dp[i][j] == 1 and (i,j) not in seen:\n",
    "                    queue = deque([[i, j]])\n",
    "                    while queue:\n",
    "                        row, col = queue.popleft()\n",
    "                        seen.add((row, col))\n",
    "                        curr += 1\n",
    "                        for x, y in [[row+1, col], [row-1, col], [row, col+1], [row, col-1]]:\n",
    "                            if 0 <= x < n and 0 <= y < n and dp[x][y] == 1 and (x,y) not in seen:\n",
    "                                queue.append([x, y])\n",
    "                                seen.add((x,y))\n",
    "\n",
    "                    maxVal = max(maxVal, curr)\n",
    "\n",
    "        return maxVal"
   ]
  },
  {
   "cell_type": "markdown",
   "metadata": {},
   "source": [
    "# DFS - Time LImit Exceeded - O(N ^ 4) runtime, O(N ^ 2) space"
   ]
  },
  {
   "cell_type": "code",
   "execution_count": 2,
   "metadata": {},
   "outputs": [],
   "source": [
    "from typing import List\n",
    "\n",
    "class Solution:\n",
    "    def largestIsland(self, grid: List[List[int]]) -> int:\n",
    "        n = len(grid)\n",
    "        res = 0        \n",
    "        \n",
    "        allOnes = True\n",
    "        for i in range(n):\n",
    "            for j in range(n):\n",
    "                if grid[i][j] == 0:\n",
    "                    allOnes = False\n",
    "                    grid[i][j] = 1\n",
    "                    res = max(res, self.getLargestIsland(grid, n))\n",
    "                    grid[i][j] = 0\n",
    "                            \n",
    "        if allOnes:\n",
    "            res = max(res, self.getLargestIsland(grid.copy(), n))\n",
    "                            \n",
    "        return res\n",
    "    \n",
    "    def getLargestIsland(self, dp: List[List[int]], n: int) -> int:\n",
    "        maxVal = 0\n",
    "        seen = set()\n",
    "        \n",
    "        def dfs(row, col):\n",
    "            nonlocal curr\n",
    "            seen.add((row,col))\n",
    "            curr += 1\n",
    "            for x, y in [[row+1, col], [row-1, col], [row, col+1], [row, col-1]]:\n",
    "                if 0 <= x < n and 0 <= y < n and dp[x][y] == 1 and (x,y) not in seen:\n",
    "                    dfs(x, y)\n",
    "                \n",
    "        for i in range(n):\n",
    "            for j in range(n):\n",
    "                curr = 0\n",
    "                if dp[i][j] == 1 and dp[i][j] not in seen:\n",
    "                    dfs(i, j)\n",
    "                    maxVal = max(maxVal, curr)\n",
    "\n",
    "        return maxVal  "
   ]
  },
  {
   "cell_type": "markdown",
   "metadata": {},
   "source": [
    "# Better DFS - Time LImit Exceeded - O(N ^ 4) runtime, O(N ^ 2) space¶"
   ]
  },
  {
   "cell_type": "code",
   "execution_count": 4,
   "metadata": {},
   "outputs": [],
   "source": [
    "from typing import List\n",
    "\n",
    "class Solution:\n",
    "    def largestIsland(self, grid: List[List[int]]) -> int:\n",
    "        N = len(grid)\n",
    "\n",
    "        def check(r, c):\n",
    "            seen = {(r, c)}\n",
    "            stack = [(r, c)]\n",
    "            while stack:\n",
    "                r, c = stack.pop()\n",
    "                for nr, nc in ((r-1, c), (r, c-1), (r+1, c), (r, c+1)):\n",
    "                    if (nr, nc) not in seen and 0 <= nr < N and 0 <= nc < N and grid[nr][nc]:\n",
    "                        stack.append((nr, nc))\n",
    "                        seen.add((nr, nc))\n",
    "            return len(seen)\n",
    "\n",
    "        ans = 0\n",
    "        has_zero = False\n",
    "        for r, row in enumerate(grid):\n",
    "            for c, val in enumerate(row):\n",
    "                if val == 0:\n",
    "                    has_zero = True\n",
    "                    grid[r][c] = 1\n",
    "                    ans = max(ans, check(r, c))\n",
    "                    grid[r][c] = 0\n",
    "\n",
    "        return ans if has_zero else N*N"
   ]
  },
  {
   "cell_type": "markdown",
   "metadata": {},
   "source": [
    "# DFS Component Sizes - O(N ^ 2) runtime, O(N ^ 2) space"
   ]
  },
  {
   "cell_type": "code",
   "execution_count": null,
   "metadata": {},
   "outputs": [],
   "source": [
    "from typing import List\n",
    "\n",
    "class Solution:\n",
    "    def largestIsland(self, grid: List[List[int]]) -> int:\n",
    "        N = len(grid)\n",
    "\n",
    "        def neighbors(r, c):\n",
    "            for nr, nc in ((r-1, c), (r+1, c), (r, c-1), (r, c+1)):\n",
    "                if 0 <= nr < N and 0 <= nc < N:\n",
    "                    yield nr, nc\n",
    "\n",
    "        def dfs(r, c, index):\n",
    "            ans = 1\n",
    "            grid[r][c] = index\n",
    "            for nr, nc in neighbors(r, c):\n",
    "                if grid[nr][nc] == 1:\n",
    "                    ans += dfs(nr, nc, index)\n",
    "            return ans\n",
    "\n",
    "        area = {}\n",
    "        index = 2\n",
    "        for r in range(N):\n",
    "            for c in range(N):\n",
    "                if grid[r][c] == 1:\n",
    "                    area[index] = dfs(r, c, index)\n",
    "                    index += 1\n",
    "\n",
    "        ans = max(area.values() or [0])\n",
    "        for r in range(N):\n",
    "            for c in range(N):\n",
    "                if grid[r][c] == 0:\n",
    "                    seen = {grid[nr][nc] for nr, nc in neighbors(r, c) if grid[nr][nc] > 1}\n",
    "                    ans = max(ans, 1 + sum(area[i] for i in seen))\n",
    "        return ans"
   ]
  },
  {
   "cell_type": "code",
   "execution_count": 5,
   "metadata": {},
   "outputs": [
    {
     "data": {
      "text/plain": [
       "4"
      ]
     },
     "execution_count": 5,
     "metadata": {},
     "output_type": "execute_result"
    }
   ],
   "source": [
    "instance = Solution()\n",
    "instance.largestIsland([[1,1],[1,1]])"
   ]
  }
 ],
 "metadata": {
  "kernelspec": {
   "display_name": "Python 3",
   "language": "python",
   "name": "python3"
  },
  "language_info": {
   "codemirror_mode": {
    "name": "ipython",
    "version": 3
   },
   "file_extension": ".py",
   "mimetype": "text/x-python",
   "name": "python",
   "nbconvert_exporter": "python",
   "pygments_lexer": "ipython3",
   "version": "3.7.3"
  }
 },
 "nbformat": 4,
 "nbformat_minor": 2
}
