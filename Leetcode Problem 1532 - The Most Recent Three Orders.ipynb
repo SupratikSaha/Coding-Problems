{
 "cells": [
  {
   "cell_type": "markdown",
   "metadata": {},
   "source": [
    "    Problem Statement.\n",
    "\n",
    "    Table: Customers\n",
    "\n",
    "    +---------------+---------+\n",
    "    | Column Name   | Type    |\n",
    "    +---------------+---------+\n",
    "    | customer_id   | int     |\n",
    "    | name          | varchar |\n",
    "    +---------------+---------+\n",
    "    customer_id is the primary key for this table.\n",
    "    This table contains information about customers.\n",
    "\n",
    "\n",
    "\n",
    "    Table: Orders\n",
    "\n",
    "    +---------------+---------+\n",
    "    | Column Name   | Type    |\n",
    "    +---------------+---------+\n",
    "    | order_id      | int     |\n",
    "    | order_date    | date    |\n",
    "    | customer_id   | int     |\n",
    "    | cost          | int     |\n",
    "    +---------------+---------+\n",
    "    order_id is the primary key for this table.\n",
    "    This table contains information about the orders made by customer_id.\n",
    "    Each customer has one order per day.\n",
    "\n",
    "\n",
    "\n",
    "    Write an SQL query to find the most recent three orders of each user. If a user ordered less than three orders, return all of their orders.\n",
    "\n",
    "    Return the result table ordered by customer_name in ascending order and in case of a tie by the customer_id in ascending order. If there is still a tie, order them by order_date in descending order.\n",
    "\n",
    "    The query result format is in the following example.\n",
    "\n",
    "\n",
    "\n",
    "    Example 1:\n",
    "\n",
    "    Input: \n",
    "    Customers table:\n",
    "    +-------------+-----------+\n",
    "    | customer_id | name      |\n",
    "    +-------------+-----------+\n",
    "    | 1           | Winston   |\n",
    "    | 2           | Jonathan  |\n",
    "    | 3           | Annabelle |\n",
    "    | 4           | Marwan    |\n",
    "    | 5           | Khaled    |\n",
    "    +-------------+-----------+\n",
    "    Orders table:\n",
    "    +----------+------------+-------------+------+\n",
    "    | order_id | order_date | customer_id | cost |\n",
    "    +----------+------------+-------------+------+\n",
    "    | 1        | 2020-07-31 | 1           | 30   |\n",
    "    | 2        | 2020-07-30 | 2           | 40   |\n",
    "    | 3        | 2020-07-31 | 3           | 70   |\n",
    "    | 4        | 2020-07-29 | 4           | 100  |\n",
    "    | 5        | 2020-06-10 | 1           | 1010 |\n",
    "    | 6        | 2020-08-01 | 2           | 102  |\n",
    "    | 7        | 2020-08-01 | 3           | 111  |\n",
    "    | 8        | 2020-08-03 | 1           | 99   |\n",
    "    | 9        | 2020-08-07 | 2           | 32   |\n",
    "    | 10       | 2020-07-15 | 1           | 2    |\n",
    "    +----------+------------+-------------+------+\n",
    "    Output: \n",
    "    +---------------+-------------+----------+------------+\n",
    "    | customer_name | customer_id | order_id | order_date |\n",
    "    +---------------+-------------+----------+------------+\n",
    "    | Annabelle     | 3           | 7        | 2020-08-01 |\n",
    "    | Annabelle     | 3           | 3        | 2020-07-31 |\n",
    "    | Jonathan      | 2           | 9        | 2020-08-07 |\n",
    "    | Jonathan      | 2           | 6        | 2020-08-01 |\n",
    "    | Jonathan      | 2           | 2        | 2020-07-30 |\n",
    "    | Marwan        | 4           | 4        | 2020-07-29 |\n",
    "    | Winston       | 1           | 8        | 2020-08-03 |\n",
    "    | Winston       | 1           | 1        | 2020-07-31 |\n",
    "    | Winston       | 1           | 10       | 2020-07-15 |\n",
    "    +---------------+-------------+----------+------------+\n",
    "    Explanation: \n",
    "    Winston has 4 orders, we discard the order of \"2020-06-10\" because it is the oldest order.\n",
    "    Annabelle has only 2 orders, we return them.\n",
    "    Jonathan has exactly 3 orders.\n",
    "    Marwan ordered only one time.\n",
    "    We sort the result table by customer_name in ascending order, by customer_id in ascending order, and by order_date in descending order in case of a tie.\n",
    "\n",
    "\n",
    "\n",
    "    Follow up: Could you write a general solution for the most recent n orders?"
   ]
  },
  {
   "cell_type": "markdown",
   "metadata": {},
   "source": [
    "# Rank"
   ]
  },
  {
   "cell_type": "code",
   "execution_count": null,
   "metadata": {},
   "outputs": [],
   "source": [
    "select customer_name, customer_id, order_id, order_date\n",
    "from\n",
    "(select name as customer_name, c.customer_id, order_id, order_date,\n",
    "rank() over (partition by c.customer_id order by order_date desc) as order_rank\n",
    "from Customers c join Orders o using(customer_id)) tab\n",
    "where order_rank <= 3\n",
    "order by customer_name, customer_id, order_date desc"
   ]
  },
  {
   "cell_type": "markdown",
   "metadata": {},
   "source": [
    "# Faster using JOIN"
   ]
  },
  {
   "cell_type": "code",
   "execution_count": null,
   "metadata": {},
   "outputs": [],
   "source": [
    "SELECT a.name as customer_name,a.customer_id,b.order_id,b.order_date\n",
    "FROM Customers as a\n",
    "JOIN Orders as b\n",
    "ON a.customer_id=b.customer_id\n",
    "JOIN Orders as c\n",
    "ON b.customer_id=c.customer_id AND b.order_date<=c.order_date\n",
    "GROUP BY customer_name,a.customer_id,b.order_id,b.order_date\n",
    "HAVING COUNT(c.order_date)<=3\n",
    "ORDER BY customer_name,customer_id,order_date DESC"
   ]
  }
 ],
 "metadata": {
  "kernelspec": {
   "display_name": "Python 3",
   "language": "python",
   "name": "python3"
  },
  "language_info": {
   "codemirror_mode": {
    "name": "ipython",
    "version": 3
   },
   "file_extension": ".py",
   "mimetype": "text/x-python",
   "name": "python",
   "nbconvert_exporter": "python",
   "pygments_lexer": "ipython3",
   "version": "3.7.3"
  }
 },
 "nbformat": 4,
 "nbformat_minor": 2
}
