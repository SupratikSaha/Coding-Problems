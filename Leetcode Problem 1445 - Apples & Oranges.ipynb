{
 "cells": [
  {
   "cell_type": "markdown",
   "metadata": {},
   "source": [
    "    Problem Statement.\n",
    "\n",
    "    Table: Sales\n",
    "\n",
    "    +---------------+---------+\n",
    "    | Column Name   | Type    |\n",
    "    +---------------+---------+\n",
    "    | sale_date     | date    |\n",
    "    | fruit         | enum    | \n",
    "    | sold_num      | int     | \n",
    "    +---------------+---------+\n",
    "    (sale_date, fruit) is the primary key for this table.\n",
    "    This table contains the sales of \"apples\" and \"oranges\" sold each day.\n",
    "\n",
    "\n",
    "\n",
    "    Write an SQL query to report the difference between the number of apples and oranges sold each day.\n",
    "\n",
    "    Return the result table ordered by sale_date.\n",
    "\n",
    "    The query result format is in the following example.\n",
    "\n",
    "\n",
    "\n",
    "    Example 1:\n",
    "\n",
    "    Input: \n",
    "    Sales table:\n",
    "    +------------+------------+-------------+\n",
    "    | sale_date  | fruit      | sold_num    |\n",
    "    +------------+------------+-------------+\n",
    "    | 2020-05-01 | apples     | 10          |\n",
    "    | 2020-05-01 | oranges    | 8           |\n",
    "    | 2020-05-02 | apples     | 15          |\n",
    "    | 2020-05-02 | oranges    | 15          |\n",
    "    | 2020-05-03 | apples     | 20          |\n",
    "    | 2020-05-03 | oranges    | 0           |\n",
    "    | 2020-05-04 | apples     | 15          |\n",
    "    | 2020-05-04 | oranges    | 16          |\n",
    "    +------------+------------+-------------+\n",
    "    Output: \n",
    "    +------------+--------------+\n",
    "    | sale_date  | diff         |\n",
    "    +------------+--------------+\n",
    "    | 2020-05-01 | 2            |\n",
    "    | 2020-05-02 | 0            |\n",
    "    | 2020-05-03 | 20           |\n",
    "    | 2020-05-04 | -1           |\n",
    "    +------------+--------------+\n",
    "    Explanation: \n",
    "    Day 2020-05-01, 10 apples and 8 oranges were sold (Difference  10 - 8 = 2).\n",
    "    Day 2020-05-02, 15 apples and 15 oranges were sold (Difference 15 - 15 = 0).\n",
    "    Day 2020-05-03, 20 apples and 0 oranges were sold (Difference 20 - 0 = 20).\n",
    "    Day 2020-05-04, 15 apples and 16 oranges were sold (Difference 15 - 16 = -1)."
   ]
  },
  {
   "cell_type": "markdown",
   "metadata": {},
   "source": [
    "# With"
   ]
  },
  {
   "cell_type": "code",
   "execution_count": null,
   "metadata": {},
   "outputs": [],
   "source": [
    "with apples as\n",
    "(select * from Sales where fruit = 'apples'),\n",
    "oranges as \n",
    "(select * from Sales where fruit = 'oranges')\n",
    "\n",
    "select a.sale_date, a.sold_num - o.sold_num as diff\n",
    "from apples a left join oranges o using(sale_date)\n",
    "union\n",
    "select o.sale_date, a.sold_num - o.sold_num as diff\n",
    "from apples a right join oranges o using(sale_date)\n",
    "order by 1"
   ]
  },
  {
   "cell_type": "markdown",
   "metadata": {},
   "source": [
    "# Case"
   ]
  },
  {
   "cell_type": "code",
   "execution_count": null,
   "metadata": {},
   "outputs": [],
   "source": [
    "select sale_date, sum(case when fruit='apples' then sold_num else -sold_num end) as diff\n",
    "from sales\n",
    "group by sale_date"
   ]
  }
 ],
 "metadata": {
  "kernelspec": {
   "display_name": "Python 3",
   "language": "python",
   "name": "python3"
  },
  "language_info": {
   "codemirror_mode": {
    "name": "ipython",
    "version": 3
   },
   "file_extension": ".py",
   "mimetype": "text/x-python",
   "name": "python",
   "nbconvert_exporter": "python",
   "pygments_lexer": "ipython3",
   "version": "3.7.3"
  }
 },
 "nbformat": 4,
 "nbformat_minor": 2
}
