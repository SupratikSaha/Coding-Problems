{
 "cells": [
  {
   "cell_type": "markdown",
   "metadata": {},
   "source": [
    "Given a set of words (without duplicates), find all word squares you can build from them.\n",
    "\n",
    "A sequence of words forms a valid word square if the kth row and column read the exact same string, where 0 ≤ k < max(numRows, numColumns).\n",
    "\n",
    "For example, the word sequence [\"ball\",\"area\",\"lead\",\"lady\"] forms a word square because each word reads the same both horizontally and vertically.\n",
    "\n",
    "b a l l <br>\n",
    "a r e a <br>\n",
    "l e a d <br>\n",
    "l a d y <br>"
   ]
  },
  {
   "cell_type": "markdown",
   "metadata": {},
   "source": [
    "# Backtracking with Trie - O(n * 26^L * L) run time, O(n*L) space where L is the lngth of each word and n is the number of words"
   ]
  },
  {
   "cell_type": "code",
   "execution_count": 9,
   "metadata": {},
   "outputs": [],
   "source": [
    "class Solution:\n",
    "\n",
    "    def wordSquares(self, words: List[str]) -> List[List[str]]:\n",
    "\n",
    "        self.words = words\n",
    "        self.N = len(words[0])\n",
    "        self.buildTrie(self.words)\n",
    "\n",
    "        results = []\n",
    "        word_squares = []\n",
    "        for word in words:\n",
    "            word_squares = [word]\n",
    "            self.backtracking(1, word_squares, results)\n",
    "        return results\n",
    "\n",
    "    def buildTrie(self, words):\n",
    "        self.trie = {}\n",
    "\n",
    "        for wordIndex, word in enumerate(words):\n",
    "            node = self.trie\n",
    "            for char in word:\n",
    "                if char in node:\n",
    "                    node = node[char]\n",
    "                else:\n",
    "                    newNode = {}\n",
    "                    newNode['#'] = []\n",
    "                    node[char] = newNode\n",
    "                    node = newNode\n",
    "                node['#'].append(wordIndex)\n",
    "\n",
    "    def backtracking(self, step, word_squares, results):\n",
    "        if step == self.N:\n",
    "            results.append(word_squares[:])\n",
    "            return\n",
    "\n",
    "        prefix = ''.join([word[step] for word in word_squares])\n",
    "        for candidate in self.getWordsWithPrefix(prefix):\n",
    "            word_squares.append(candidate)\n",
    "            self.backtracking(step+1, word_squares, results)\n",
    "            word_squares.pop()\n",
    "\n",
    "    def getWordsWithPrefix(self, prefix):\n",
    "        node = self.trie\n",
    "        for char in prefix:\n",
    "            if char not in node:\n",
    "                return []\n",
    "            node = node[char]\n",
    "        return [self.words[wordIndex] for wordIndex in node['#']]"
   ]
  },
  {
   "cell_type": "markdown",
   "metadata": {},
   "source": [
    "# Backtracking with Hash Table - O(n * 26^L) run time, O(n*L) space where L is the lngth of each word and n is the number of words"
   ]
  },
  {
   "cell_type": "code",
   "execution_count": 7,
   "metadata": {},
   "outputs": [],
   "source": [
    "from typing import List\n",
    "\n",
    "class Solution:\n",
    "\n",
    "    def wordSquares(self, words: List[str]) -> List[List[str]]:\n",
    "\n",
    "        self.words = words\n",
    "        self.N = len(words[0])\n",
    "        self.buildPrefixHashTable(self.words)\n",
    "\n",
    "        results = []\n",
    "        word_squares = []\n",
    "        for word in words:\n",
    "            word_squares = [word]\n",
    "            self.backtracking(1, word_squares, results)\n",
    "        return results\n",
    "\n",
    "    def backtracking(self, step, word_squares, results):\n",
    "        if step == self.N:\n",
    "            results.append(word_squares[:])\n",
    "            return\n",
    "\n",
    "        prefix = ''.join([word[step] for word in word_squares])\n",
    "        for candidate in self.getWordsWithPrefix(prefix):\n",
    "            word_squares.append(candidate)\n",
    "            self.backtracking(step+1, word_squares, results)\n",
    "            word_squares.pop()\n",
    "\n",
    "    def buildPrefixHashTable(self, words):\n",
    "        self.prefixHashTable = {}\n",
    "        for word in words:\n",
    "            for prefix in (word[:i] for i in range(1, len(word))):\n",
    "                self.prefixHashTable.setdefault(prefix, set()).add(word)\n",
    "\n",
    "    def getWordsWithPrefix(self, prefix):\n",
    "        if prefix in self.prefixHashTable:\n",
    "            return self.prefixHashTable[prefix]\n",
    "        else:\n",
    "            return set([])"
   ]
  },
  {
   "cell_type": "code",
   "execution_count": 10,
   "metadata": {},
   "outputs": [
    {
     "data": {
      "text/plain": [
       "[['wall', 'area', 'lead', 'lady'], ['ball', 'area', 'lead', 'lady']]"
      ]
     },
     "execution_count": 10,
     "metadata": {},
     "output_type": "execute_result"
    }
   ],
   "source": [
    "instance = Solution()\n",
    "instance.wordSquares([\"area\",\"lead\",\"wall\",\"lady\",\"ball\"])"
   ]
  }
 ],
 "metadata": {
  "kernelspec": {
   "display_name": "Python 3",
   "language": "python",
   "name": "python3"
  },
  "language_info": {
   "codemirror_mode": {
    "name": "ipython",
    "version": 3
   },
   "file_extension": ".py",
   "mimetype": "text/x-python",
   "name": "python",
   "nbconvert_exporter": "python",
   "pygments_lexer": "ipython3",
   "version": "3.7.3"
  }
 },
 "nbformat": 4,
 "nbformat_minor": 2
}
