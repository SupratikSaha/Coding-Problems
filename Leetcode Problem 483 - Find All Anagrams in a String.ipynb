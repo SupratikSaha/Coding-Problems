{
 "cells": [
  {
   "cell_type": "markdown",
   "metadata": {},
   "source": [
    "    Problem Statement.\n",
    "\n",
    "    Given a string s and a non-empty string p, find all the start indices of p's anagrams in s.\n",
    "\n",
    "    Strings consists of lowercase English letters only and the length of both strings s and p will not be larger than 20,100.\n",
    "\n",
    "    The order of output does not matter.\n",
    "\n",
    "    Example 1:\n",
    "\n",
    "    Input:\n",
    "    s: \"cbaebabacd\" p: \"abc\"\n",
    "\n",
    "    Output:\n",
    "    [0, 6]\n",
    "\n",
    "    Explanation:\n",
    "    The substring with start index = 0 is \"cba\", which is an anagram of \"abc\".\n",
    "    The substring with start index = 6 is \"bac\", which is an anagram of \"abc\".\n",
    "\n",
    "    Example 2:\n",
    "\n",
    "    Input:\n",
    "    s: \"abab\" p: \"ab\"\n",
    "\n",
    "    Output:\n",
    "    [0, 1, 2]\n",
    "\n",
    "    Explanation:\n",
    "    The substring with start index = 0 is \"ab\", which is an anagram of \"ab\".\n",
    "    The substring with start index = 1 is \"ba\", which is an anagram of \"ab\".\n",
    "    The substring with start index = 2 is \"ab\", which is an anagram of \"ab\"."
   ]
  },
  {
   "cell_type": "markdown",
   "metadata": {},
   "source": [
    "# Sliding Window with Hash Table - O(s + p) runtime, O(1) space"
   ]
  },
  {
   "cell_type": "code",
   "execution_count": 3,
   "metadata": {},
   "outputs": [],
   "source": [
    "from typing import List\n",
    "from collections import Counter, defaultdict\n",
    "\n",
    "class Solution:\n",
    "    def findAnagrams(self, s: str, p: str) -> List[int]:\n",
    "        p_ctr = Counter(p)\n",
    "        s_ctr = defaultdict(int)\n",
    "        res = []\n",
    "        n = len(p)\n",
    "        \n",
    "        start = 0\n",
    "        for i in range(len(s)):\n",
    "            s_ctr[s[i]] += 1\n",
    "            if i >= n:\n",
    "                s_ctr[s[start]] -= 1\n",
    "                if s_ctr[s[start]] == 0: del(s_ctr[s[start]])\n",
    "                start += 1 \n",
    "            \n",
    "            if(s_ctr == p_ctr): res.append(start)\n",
    "        \n",
    "        return res"
   ]
  },
  {
   "cell_type": "markdown",
   "metadata": {},
   "source": [
    "# Sliding Window with Array - O(s + p) runtime, O(1) space"
   ]
  },
  {
   "cell_type": "code",
   "execution_count": 5,
   "metadata": {},
   "outputs": [],
   "source": [
    "from typing import List\n",
    "\n",
    "class Solution:\n",
    "    def findAnagrams(self, s: str, p: str) -> List[int]:\n",
    "        ns, np = len(s), len(p)\n",
    "        if ns < np:\n",
    "            return []\n",
    "\n",
    "        p_count, s_count = [0] * 26, [0] * 26\n",
    "        # build reference array using string p\n",
    "        for ch in p:\n",
    "            p_count[ord(ch) - ord('a')] += 1\n",
    "        \n",
    "        output = []\n",
    "        # sliding window on the string s\n",
    "        for i in range(ns):\n",
    "            # add one more letter \n",
    "            # on the right side of the window\n",
    "            s_count[ord(s[i]) - ord('a')] += 1\n",
    "            # remove one letter \n",
    "            # from the left side of the window\n",
    "            if i >= np:\n",
    "                s_count[ord(s[i - np]) - ord('a')] -= 1\n",
    "            # compare array in the sliding window\n",
    "            # with the reference array\n",
    "            if p_count == s_count:\n",
    "                output.append(i - np + 1)\n",
    "        \n",
    "        return output"
   ]
  },
  {
   "cell_type": "code",
   "execution_count": 6,
   "metadata": {},
   "outputs": [
    {
     "data": {
      "text/plain": [
       "[0, 6]"
      ]
     },
     "execution_count": 6,
     "metadata": {},
     "output_type": "execute_result"
    }
   ],
   "source": [
    "instance = Solution()\n",
    "instance.findAnagrams(\"cbaebabacd\",\"abc\")"
   ]
  }
 ],
 "metadata": {
  "kernelspec": {
   "display_name": "Python 3",
   "language": "python",
   "name": "python3"
  },
  "language_info": {
   "codemirror_mode": {
    "name": "ipython",
    "version": 3
   },
   "file_extension": ".py",
   "mimetype": "text/x-python",
   "name": "python",
   "nbconvert_exporter": "python",
   "pygments_lexer": "ipython3",
   "version": "3.7.3"
  }
 },
 "nbformat": 4,
 "nbformat_minor": 2
}
