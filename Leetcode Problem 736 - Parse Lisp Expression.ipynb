{
 "cells": [
  {
   "cell_type": "markdown",
   "metadata": {},
   "source": [
    "Problem Statement.\n",
    "\n",
    "You are given a string expression representing a Lisp-like expression to return the integer value of.\n",
    "\n",
    "The syntax for these expressions is given as follows.\n",
    "\n",
    "    An expression is either an integer, let expression, add expression, mult expression, or an assigned variable. Expressions always evaluate to a single integer.\n",
    "    (An integer could be positive or negative.)\n",
    "    A let expression takes the form \"(let v1 e1 v2 e2 ... vn en expr)\", where let is always the string \"let\", then there are one or more pairs of alternating variables and expressions, meaning that the first variable v1 is assigned the value of the expression e1, the second variable v2 is assigned the value of the expression e2, and so on sequentially; and then the value of this let expression is the value of the expression expr.\n",
    "    An add expression takes the form \"(add e1 e2)\" where add is always the string \"add\", there are always two expressions e1, e2 and the result is the addition of the evaluation of e1 and the evaluation of e2.\n",
    "    A mult expression takes the form \"(mult e1 e2)\" where mult is always the string \"mult\", there are always two expressions e1, e2 and the result is the multiplication of the evaluation of e1 and the evaluation of e2.\n",
    "    For this question, we will use a smaller subset of variable names. A variable starts with a lowercase letter, then zero or more lowercase letters or digits. Additionally, for your convenience, the names \"add\", \"let\", and \"mult\" are protected and will never be used as variable names.\n",
    "    Finally, there is the concept of scope. When an expression of a variable name is evaluated, within the context of that evaluation, the innermost scope (in terms of parentheses) is checked first for the value of that variable, and then outer scopes are checked sequentially. It is guaranteed that every expression is legal. Please see the examples for more details on the scope.\n",
    "\n",
    " \n",
    "\n",
    "Example 1:\n",
    "\n",
    "Input: expression = \"(let x 2 (mult x (let x 3 y 4 (add x y))))\"\n",
    "Output: 14\n",
    "Explanation: In the expression (add x y), when checking for the value of the variable x,\n",
    "we check from the innermost scope to the outermost in the context of the variable we are trying to evaluate.\n",
    "Since x = 3 is found first, the value of x is 3.\n",
    "\n",
    "Example 2:\n",
    "\n",
    "Input: expression = \"(let x 3 x 2 x)\"\n",
    "Output: 2\n",
    "Explanation: Assignment in let statements is processed sequentially.\n",
    "\n",
    "Example 3:\n",
    "\n",
    "Input: expression = \"(let x 1 y 2 x (add x y) (add x y))\"\n",
    "Output: 5\n",
    "Explanation: The first (add x y) evaluates as 3, and is assigned to x.\n",
    "The second (add x y) evaluates as 3+2 = 5.\n",
    "\n",
    "Example 4:\n",
    "\n",
    "Input: expression = \"(let x 2 (add (let x 3 (let x 4 x)) x))\"\n",
    "Output: 6\n",
    "Explanation: Even though (let x 4 x) has a deeper scope, it is outside the context\n",
    "of the final x in the add-expression.  That final x will equal 2.\n",
    "\n",
    "Example 5:\n",
    "\n",
    "Input: expression = \"(let a1 3 b2 (add a1 1) b2)\"\n",
    "Output: 4\n",
    "Explanation: Variable names can contain digits after the first character.\n",
    "\n",
    " \n",
    "\n",
    "Constraints:\n",
    "\n",
    "    1 <= expression.length <= 2000\n",
    "    There are no leading or trailing spaces in exprssion.\n",
    "    All tokens are separated by a single space in expressoin.\n",
    "    The answer and all intermediate calculations of that answer are guaranteed to fit in a 32-bit integer.\n",
    "    The expression is guaranteed to be legal and evaluate to an integer."
   ]
  },
  {
   "cell_type": "markdown",
   "metadata": {},
   "source": [
    "# Stack - O(N) runtime, O(N) space"
   ]
  },
  {
   "cell_type": "code",
   "execution_count": 1,
   "metadata": {},
   "outputs": [],
   "source": [
    "class Solution:\n",
    "    # the conciseness of this solution comes from the great separation of reponsibilities.\n",
    "    # all layer transitions and string tokenization are handled by the plain expresion iteration \"for c in experssion:\"\n",
    "    # all simple calculations are handled by the self-defined evalu() function\n",
    "    # these two responsibilities are all you need for this Lisp Parser.\n",
    "    def evaluate(self, expression: str) -> int:\n",
    "        # token and stack to separate different layers of expressions\n",
    "        # dictionary to memorize let\n",
    "        tokens, st, d = [''], [], {}\n",
    "        def evalu(tokens): # process the current layer of expression\n",
    "            if tokens[0] in ['add', 'mult']:\n",
    "                n1, n2 = int(d.get(tokens[1], tokens[1])), int(d.get(tokens[2], tokens[2]))\n",
    "                print(n1, n2)\n",
    "                return str(n1+n2) if tokens[0] == 'add' else str(n1*n2)\n",
    "            else: # let, update dictionary\n",
    "                # skip the last one because it's not updating the dictionary\n",
    "                # d.get() handles both token being var or integer\n",
    "                for i in range(1, len(tokens)-2, 2): \n",
    "                    d[tokens[i]] = d.get(tokens[i+1], tokens[i+1])\n",
    "                # the last token cannot be a nested expression which is intercepted before entering this\n",
    "                print(d)\n",
    "                # so it can only be a variable, an integer or ''\n",
    "                return d.get(tokens[-1], tokens[-1]) \n",
    "            \n",
    "        for c in expression:\n",
    "            # 4 situations: \n",
    "            # transit layers: 1. enter the deeper layer, 2. get back from the deeper layer, \n",
    "            # current layer: 3. start a new token, 4. continue reading the current token\n",
    "            # the magic is, by using stack, recursions for the deeper layers are avoided\n",
    "            if c == '(':\n",
    "                print(tokens)\n",
    "                # update the dictionary before entering the deeper layer\n",
    "                if tokens[0] == 'let': \n",
    "                    evalu(tokens)\n",
    "                    print(d)\n",
    "                # tokens is reserved because the \"tokens\" in the next line is entirely overwritten as a new variable. (for example, tokens[-1] = 'a' won't reserve it)\n",
    "                # d is reserved because of dict()\n",
    "                st.append((tokens, dict(d)))\n",
    "                print(st)\n",
    "                tokens = ['']\n",
    "            elif c == ')': \n",
    "                # get the current layer value\n",
    "                val = evalu(tokens)\n",
    "                tokens, d = st.pop()\n",
    "                print(val, tokens, d)\n",
    "                # update the outside layer\n",
    "                tokens[-1] += val\n",
    "                print(tokens)\n",
    "            elif c == ' ': tokens.append('')\n",
    "            else: tokens[-1] += c\n",
    "        # make sure to have the return outside the for loop\n",
    "        return int(tokens[0])"
   ]
  },
  {
   "cell_type": "code",
   "execution_count": 2,
   "metadata": {},
   "outputs": [
    {
     "name": "stdout",
     "output_type": "stream",
     "text": [
      "['']\n",
      "[([''], {})]\n",
      "['let', 'x', '2', '']\n",
      "{'x': '2'}\n",
      "{'x': '2'}\n",
      "[([''], {}), (['let', 'x', '2', ''], {'x': '2'})]\n",
      "['add', '']\n",
      "[([''], {}), (['let', 'x', '2', ''], {'x': '2'}), (['add', ''], {'x': '2'})]\n",
      "['let', 'x', '3', '']\n",
      "{'x': '3'}\n",
      "{'x': '3'}\n",
      "[([''], {}), (['let', 'x', '2', ''], {'x': '2'}), (['add', ''], {'x': '2'}), (['let', 'x', '3', ''], {'x': '3'})]\n",
      "{'x': '4'}\n",
      "4 ['let', 'x', '3', ''] {'x': '3'}\n",
      "['let', 'x', '3', '4']\n",
      "{'x': '3'}\n",
      "4 ['add', ''] {'x': '2'}\n",
      "['add', '4']\n",
      "4 2\n",
      "6 ['let', 'x', '2', ''] {'x': '2'}\n",
      "['let', 'x', '2', '6']\n",
      "{'x': '2'}\n",
      "6 [''] {}\n",
      "['6']\n"
     ]
    },
    {
     "data": {
      "text/plain": [
       "6"
      ]
     },
     "execution_count": 2,
     "metadata": {},
     "output_type": "execute_result"
    }
   ],
   "source": [
    "instance = Solution()\n",
    "instance.evaluate(\"(let x 2 (add (let x 3 (let x 4 x)) x))\")"
   ]
  }
 ],
 "metadata": {
  "kernelspec": {
   "display_name": "Python 3",
   "language": "python",
   "name": "python3"
  },
  "language_info": {
   "codemirror_mode": {
    "name": "ipython",
    "version": 3
   },
   "file_extension": ".py",
   "mimetype": "text/x-python",
   "name": "python",
   "nbconvert_exporter": "python",
   "pygments_lexer": "ipython3",
   "version": "3.7.3"
  }
 },
 "nbformat": 4,
 "nbformat_minor": 2
}
