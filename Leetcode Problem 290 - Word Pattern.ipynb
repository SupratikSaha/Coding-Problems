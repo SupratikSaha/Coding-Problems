{
 "cells": [
  {
   "cell_type": "markdown",
   "metadata": {},
   "source": [
    "Problem Statement.\n",
    "\n",
    "Given a pattern and a string s, find if s follows the same pattern.\n",
    "\n",
    "Here follow means a full match, such that there is a bijection between a letter in pattern and a non-empty word in s.\n",
    "\n",
    " \n",
    "\n",
    "Example 1:\n",
    "\n",
    "Input: pattern = \"abba\", s = \"dog cat cat dog\"\n",
    "Output: true\n",
    "\n",
    "Example 2:\n",
    "\n",
    "Input: pattern = \"abba\", s = \"dog cat cat fish\"\n",
    "Output: false\n",
    "\n",
    "Example 3:\n",
    "\n",
    "Input: pattern = \"aaaa\", s = \"dog cat cat dog\"\n",
    "Output: false\n",
    "\n",
    " \n",
    "\n",
    "Constraints:\n",
    "\n",
    "    1 <= pattern.length <= 300\n",
    "    pattern contains only lower-case English letters.\n",
    "    1 <= s.length <= 3000\n",
    "    s contains only lowercase English letters and spaces ' '.\n",
    "    s does not contain any leading or trailing spaces.\n",
    "    All the words in s are separated by a single space."
   ]
  },
  {
   "cell_type": "markdown",
   "metadata": {},
   "source": [
    "# Two hash maps - O(P) runtime, O(P) space"
   ]
  },
  {
   "cell_type": "code",
   "execution_count": 1,
   "metadata": {},
   "outputs": [],
   "source": [
    "class Solution:\n",
    "    def wordPattern(self, pattern: str, s: str) -> bool:\n",
    "        s = s.split()\n",
    "        if len(pattern) != len(s): return False\n",
    "        patternDict = {}\n",
    "        wordDict = {}\n",
    "        \n",
    "        for p, w in zip(pattern, s):\n",
    "            if p not in patternDict and w not in wordDict:\n",
    "                patternDict[p] = w\n",
    "                wordDict[w] = p\n",
    "            elif (p in patternDict and patternDict[p] != w) or (w in wordDict and wordDict[w] != p):\n",
    "                return False\n",
    "            \n",
    "        return True"
   ]
  },
  {
   "cell_type": "markdown",
   "metadata": {},
   "source": [
    "# One Hash map - O(P) runtime, O(P) space"
   ]
  },
  {
   "cell_type": "code",
   "execution_count": 3,
   "metadata": {},
   "outputs": [],
   "source": [
    "class Solution:\n",
    "    def wordPattern(self, pattern: str, s: str) -> bool:\n",
    "        words, wordDict = s.split(' '), {}\n",
    "\n",
    "        if len(pattern) != len(words): return False\n",
    "        if len(set(pattern)) != len(set(words)): return False \n",
    "        # for the case w = ['dog', 'cat'] and p = 'aa'\n",
    "\n",
    "        for i, w in enumerate(words):\n",
    "            if w not in wordDict: \n",
    "                wordDict[w] = pattern[i]\n",
    "            elif wordDict[w] != pattern[i]: \n",
    "                return False\n",
    "\n",
    "        return True"
   ]
  },
  {
   "cell_type": "code",
   "execution_count": 4,
   "metadata": {},
   "outputs": [
    {
     "data": {
      "text/plain": [
       "False"
      ]
     },
     "execution_count": 4,
     "metadata": {},
     "output_type": "execute_result"
    }
   ],
   "source": [
    "instance = Solution()\n",
    "instance.wordPattern(\"aaaa\", \"dog cat cat dog\")"
   ]
  }
 ],
 "metadata": {
  "kernelspec": {
   "display_name": "Python 3",
   "language": "python",
   "name": "python3"
  },
  "language_info": {
   "codemirror_mode": {
    "name": "ipython",
    "version": 3
   },
   "file_extension": ".py",
   "mimetype": "text/x-python",
   "name": "python",
   "nbconvert_exporter": "python",
   "pygments_lexer": "ipython3",
   "version": "3.7.3"
  }
 },
 "nbformat": 4,
 "nbformat_minor": 2
}
