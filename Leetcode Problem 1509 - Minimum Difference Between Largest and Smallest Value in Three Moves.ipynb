{
 "cells": [
  {
   "cell_type": "markdown",
   "metadata": {},
   "source": [
    "Problem Statement.\n",
    "\n",
    "Given an array nums, you are allowed to choose one element of nums and change it by any value in one move.\n",
    "\n",
    "Return the minimum difference between the largest and smallest value of nums after perfoming at most 3 moves.\n",
    "\n",
    " \n",
    "\n",
    "Example 1:\n",
    "\n",
    "Input: nums = [5,3,2,4]\n",
    "Output: 0\n",
    "Explanation: Change the array [5,3,2,4] to [2,2,2,2].\n",
    "The difference between the maximum and minimum is 2-2 = 0.\n",
    "\n",
    "Example 2:\n",
    "\n",
    "Input: nums = [1,5,0,10,14]\n",
    "Output: 1\n",
    "Explanation: Change the array [1,5,0,10,14] to [1,1,0,1,1]. \n",
    "The difference between the maximum and minimum is 1-0 = 1.\n",
    "\n",
    "Example 3:\n",
    "\n",
    "Input: nums = [6,6,0,1,1,4,6]\n",
    "Output: 2\n",
    "\n",
    "Example 4:\n",
    "\n",
    "Input: nums = [1,5,6,14,15]\n",
    "Output: 1\n",
    "\n",
    " \n",
    "\n",
    "Constraints:\n",
    "\n",
    "    1 <= nums.length <= 10^5\n",
    "    -10^9 <= nums[i] <= 10^9"
   ]
  },
  {
   "cell_type": "markdown",
   "metadata": {},
   "source": [
    "# Sort - O(N Log N) runtime, O(N) space"
   ]
  },
  {
   "cell_type": "code",
   "execution_count": null,
   "metadata": {},
   "outputs": [],
   "source": [
    "class Solution:\n",
    "    def minDifference(self, nums: List[int]) -> int:\n",
    "        n = len(nums)\n",
    "        if n <= 4: return 0\n",
    "        \n",
    "        nums.sort()\n",
    "        ans = float('inf')\n",
    "        for i in range(4):\n",
    "            ans = min(ans, nums[-4+i] - nums[i])\n",
    "            \n",
    "        return ans"
   ]
  },
  {
   "cell_type": "markdown",
   "metadata": {},
   "source": [
    "# Min and Max heaps - O(N) runtime, O(1) space"
   ]
  },
  {
   "cell_type": "code",
   "execution_count": 1,
   "metadata": {},
   "outputs": [],
   "source": [
    "from typing import List\n",
    "from heapq import heappush, heappop\n",
    "\n",
    "class Solution:\n",
    "    def minDifference(self, nums: List[int]) -> int:\n",
    "        if len(nums) <= 4: return 0\n",
    "        \n",
    "        minHeap, maxHeap = [], []\n",
    "        for i, num in enumerate(nums):\n",
    "            heappush(minHeap, num)\n",
    "            heappush(maxHeap, -num)\n",
    "            if i >= 4: \n",
    "                heappop(minHeap)\n",
    "                heappop(maxHeap)\n",
    "                \n",
    "        smallest, largest = [], []\n",
    "        for _ in range(4):\n",
    "            smallest.append(heappop(minHeap))\n",
    "            largest.append(-heappop(maxHeap))\n",
    "            \n",
    "        minDifference = float('inf')\n",
    "        for i in range(4):\n",
    "            minDifference = min(minDifference, abs(largest[3-i] - smallest[i]))\n",
    "            \n",
    "        return minDifference"
   ]
  }
 ],
 "metadata": {
  "kernelspec": {
   "display_name": "Python 3",
   "language": "python",
   "name": "python3"
  },
  "language_info": {
   "codemirror_mode": {
    "name": "ipython",
    "version": 3
   },
   "file_extension": ".py",
   "mimetype": "text/x-python",
   "name": "python",
   "nbconvert_exporter": "python",
   "pygments_lexer": "ipython3",
   "version": "3.7.3"
  }
 },
 "nbformat": 4,
 "nbformat_minor": 2
}
