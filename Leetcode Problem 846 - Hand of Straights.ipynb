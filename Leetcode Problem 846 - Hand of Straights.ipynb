{
 "cells": [
  {
   "cell_type": "markdown",
   "metadata": {},
   "source": [
    "Problem Statement. <br/>\n",
    "\n",
    "Alice has a hand of cards, given as an array of integers. <br/>\n",
    "Now she wants to rearrange the cards into groups so that each group is size W, and consists of W consecutive cards. <br/>\n",
    "Return true if and only if she can. <br/>\n",
    "Note: This question is the same as 1296: https://leetcode.com/problems/divide-array-in-sets-of-k-consecutive-numbers/ <br/>\n",
    "\n",
    "Example 1: <br/>\n",
    "Input: hand = [1,2,3,6,2,3,4,7,8], W = 3 <br/>\n",
    "Output: true <br/>\n",
    "Explanation: Alice's hand can be rearranged as [1,2,3],[2,3,4],[6,7,8] <br/>\n",
    "\n",
    "Example 2: <br/>\n",
    "Input: hand = [1,2,3,4,5], W = 4 <br/>\n",
    "Output: false <br/>\n",
    "Explanation: Alice's hand can't be rearranged into groups of 4."
   ]
  },
  {
   "cell_type": "markdown",
   "metadata": {},
   "source": [
    "# Hash Map -  O( N * (N / W) ) runtime, O(N) space"
   ]
  },
  {
   "cell_type": "code",
   "execution_count": 1,
   "metadata": {},
   "outputs": [],
   "source": [
    "from typing import List\n",
    "from collections import Counter\n",
    "\n",
    "class Solution:\n",
    "    def isNStraightHand(self, hand: List[int], W: int) -> bool:\n",
    "        count = Counter(hand)\n",
    "        while count:\n",
    "            m = min(count)\n",
    "            for k in range(m, m+W):\n",
    "                v = count[k]\n",
    "                if not v: return False\n",
    "                if v == 1:\n",
    "                    del count[k]\n",
    "                else:\n",
    "                    count[k] = v - 1\n",
    "\n",
    "        return True"
   ]
  },
  {
   "cell_type": "markdown",
   "metadata": {},
   "source": [
    "# Sort - O(N log N) runtime, O(N) space"
   ]
  },
  {
   "cell_type": "code",
   "execution_count": 2,
   "metadata": {},
   "outputs": [],
   "source": [
    "from typing import List\n",
    "\n",
    "class Solution:\n",
    "    def isNStraightHand(self, hand: List[int], W: int) -> bool:\n",
    "        n = len(hand)\n",
    "        if n % W != 0: return False\n",
    "        numGroups = n // W\n",
    "        \n",
    "        hand.sort()\n",
    "        groups = [0] * numGroups\n",
    "        i, leftGroup, rightGroup = 0, 0, 0\n",
    "        initVal = hand[0]\n",
    "        while i < n:\n",
    "            card = hand[i]\n",
    "            if card > initVal + 1 and 0 < groups[leftGroup] < W: return False\n",
    "            currGroup = leftGroup\n",
    "            while i < n and hand[i] == card and currGroup < numGroups:\n",
    "                if groups[currGroup] <  W: groups[currGroup] += 1\n",
    "                else: return False\n",
    "                if groups[currGroup] ==  W: leftGroup += 1\n",
    "                currGroup += 1\n",
    "                i += 1\n",
    "                \n",
    "            if currGroup <= rightGroup or (i < n and hand[i] == card): return False\n",
    "            rightGroup = max(leftGroup, currGroup - 1)\n",
    "            initVal = card\n",
    "        \n",
    "        return all(groups[j] == W for j in range(leftGroup, numGroups))"
   ]
  },
  {
   "cell_type": "markdown",
   "metadata": {},
   "source": [
    "# Hash Map and Sort - O(N * logN + N * W) runtime, O(N) space"
   ]
  },
  {
   "cell_type": "code",
   "execution_count": 3,
   "metadata": {},
   "outputs": [],
   "source": [
    "from typing import List\n",
    "from collections import Counter\n",
    "\n",
    "class Solution:\n",
    "    def isNStraightHand(self, hand: List[int], W: int) -> bool:\n",
    "        c = Counter(hand)\n",
    "        for i in sorted(c):\n",
    "            if c[i] > 0:\n",
    "                for j in range(W)[::-1]:\n",
    "                    c[i + j] -= c[i]\n",
    "                    if c[i + j] < 0:\n",
    "                        return False\n",
    "        return True"
   ]
  },
  {
   "cell_type": "markdown",
   "metadata": {},
   "source": [
    "# Hash MAp - O(N) runtime, O(N) space"
   ]
  },
  {
   "cell_type": "code",
   "execution_count": 4,
   "metadata": {},
   "outputs": [],
   "source": [
    "class Solution:\n",
    "    def isNStraightHand(self, hand, W):\n",
    "        if W==1: return True\n",
    "        cntD = {}\n",
    "        for h in hand:\n",
    "            cntD[h] = cntD.get(h,0)+1\n",
    "        while cntD:\n",
    "            x,cnt = cntD.popitem() #pop an arbitrary item\n",
    "            cntD[x] = cnt #put it back\n",
    "            while x in cntD: #iterate to the lowest possible value in the chain\n",
    "                h = x\n",
    "                x -= 1\n",
    "            opened = 0\n",
    "            newOpen = {}\n",
    "            while h in cntD: #process the current chain\n",
    "                cnt = cntD.pop(h) # each element in cntD gets accessed atmost twice\n",
    "                if cnt < opened: return False\n",
    "                closed = newOpen.pop(h-W+1,0)\n",
    "                newOpen[h] = cnt - opened\n",
    "                opened += newOpen[h]-closed\n",
    "                h += 1\n",
    "            if opened: return False\n",
    "        return True"
   ]
  },
  {
   "cell_type": "code",
   "execution_count": 5,
   "metadata": {},
   "outputs": [
    {
     "data": {
      "text/plain": [
       "True"
      ]
     },
     "execution_count": 5,
     "metadata": {},
     "output_type": "execute_result"
    }
   ],
   "source": [
    "instance = Solution()\n",
    "instance.isNStraightHand([1,2,3,6,2,3,4,7,8], 3)"
   ]
  }
 ],
 "metadata": {
  "kernelspec": {
   "display_name": "Python 3",
   "language": "python",
   "name": "python3"
  },
  "language_info": {
   "codemirror_mode": {
    "name": "ipython",
    "version": 3
   },
   "file_extension": ".py",
   "mimetype": "text/x-python",
   "name": "python",
   "nbconvert_exporter": "python",
   "pygments_lexer": "ipython3",
   "version": "3.7.3"
  }
 },
 "nbformat": 4,
 "nbformat_minor": 2
}
