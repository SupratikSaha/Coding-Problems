{
 "cells": [
  {
   "cell_type": "markdown",
   "metadata": {},
   "source": [
    "Problem Statement. <br/>\n",
    "\n",
    "Given n nodes labeled from 0 to n - 1 and a list of undirected edges (each edge is a pair of nodes), write a function to find the number of connected components in an undirected graph. <br/>\n",
    "\n",
    "Example 1: <br/>\n",
    "Input: n = 5 and edges = [[0, 1], [1, 2], [3, 4]] <br/>\n",
    "\n",
    "     0          3\n",
    "     |          |\n",
    "     1 --- 2    4 \n",
    "\n",
    "Output: 2 <br/>\n",
    "\n",
    "Example 2: <br/>\n",
    "Input: n = 5 and edges = [[0, 1], [1, 2], [2, 3], [3, 4]] <br/>\n",
    "\n",
    "     0           4\n",
    "     |           |\n",
    "     1 --- 2 --- 3\n",
    "\n",
    "Output:  1 <br/>"
   ]
  },
  {
   "cell_type": "markdown",
   "metadata": {},
   "source": [
    "# DFS - O(V + E) runtime, O(V + E) space"
   ]
  },
  {
   "cell_type": "code",
   "execution_count": 1,
   "metadata": {},
   "outputs": [],
   "source": [
    "from typing import List\n",
    "from collections import deque\n",
    "\n",
    "class Solution:\n",
    "    def countComponents(self, n: int, edges: List[List[int]]) -> int:\n",
    "        def dfs(node):\n",
    "            seen.add(node)            \n",
    "            for neigh in graph[node]:\n",
    "                if neigh not in seen:\n",
    "                    dfs(neigh)\n",
    "\n",
    "        graph = {i: [] for i in range(n)}\n",
    "        for n1, n2 in edges:\n",
    "            graph[n1].append(n2)\n",
    "            graph[n2].append(n1)\n",
    "            \n",
    "        seen = set()\n",
    "        count = 0 \n",
    "        for node in graph:\n",
    "            if node not in seen:\n",
    "                count += 1\n",
    "                dfs(node)\n",
    "                \n",
    "        return count\n",
    "        "
   ]
  },
  {
   "cell_type": "markdown",
   "metadata": {},
   "source": [
    "# BFS - O(V + E) runtime, O(V + E) space"
   ]
  },
  {
   "cell_type": "code",
   "execution_count": 2,
   "metadata": {},
   "outputs": [],
   "source": [
    "from typing import List\n",
    "from collections import deque\n",
    "\n",
    "class Solution:\n",
    "    def countComponents(self, n: int, edges: List[List[int]]) -> int:\n",
    "        def bfs(node):\n",
    "            seen.add(node)            \n",
    "            q = deque([node])\n",
    "            while q:\n",
    "                node = q.popleft()                \n",
    "                for neigh in graph[node]:\n",
    "                    if neigh not in seen:\n",
    "                        seen.add(neigh)\n",
    "                        q.append(neigh)\n",
    "        \n",
    "        graph = {i: [] for i in range(n)}\n",
    "        for n1, n2 in edges:\n",
    "            graph[n1].append(n2)\n",
    "            graph[n2].append(n1)\n",
    "            \n",
    "        seen = set()\n",
    "        count = 0 \n",
    "        for node in graph:\n",
    "            if node not in seen:\n",
    "                count += 1\n",
    "                bfs(node)\n",
    "                \n",
    "        return count"
   ]
  },
  {
   "cell_type": "code",
   "execution_count": 3,
   "metadata": {},
   "outputs": [
    {
     "data": {
      "text/plain": [
       "2"
      ]
     },
     "execution_count": 3,
     "metadata": {},
     "output_type": "execute_result"
    }
   ],
   "source": [
    "instance = Solution()\n",
    "instance.countComponents(5, [[0,1],[1,2],[3,4]])"
   ]
  }
 ],
 "metadata": {
  "kernelspec": {
   "display_name": "Python 3",
   "language": "python",
   "name": "python3"
  },
  "language_info": {
   "codemirror_mode": {
    "name": "ipython",
    "version": 3
   },
   "file_extension": ".py",
   "mimetype": "text/x-python",
   "name": "python",
   "nbconvert_exporter": "python",
   "pygments_lexer": "ipython3",
   "version": "3.7.3"
  }
 },
 "nbformat": 4,
 "nbformat_minor": 2
}
