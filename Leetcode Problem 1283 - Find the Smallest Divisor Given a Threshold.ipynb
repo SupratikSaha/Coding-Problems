{
 "cells": [
  {
   "cell_type": "markdown",
   "metadata": {},
   "source": [
    "Problem Statement.\n",
    "\n",
    "Given an array of integers nums and an integer threshold, we will choose a positive integer divisor, divide all the array by it, and sum the division's result. Find the smallest divisor such that the result mentioned above is less than or equal to threshold.\n",
    "\n",
    "Each result of the division is rounded to the nearest integer greater than or equal to that element. (For example: 7/3 = 3 and 10/2 = 5).\n",
    "\n",
    "The test cases are generated so that there will be an answer.\n",
    "\n",
    " \n",
    "\n",
    "Example 1:\n",
    "\n",
    "Input: nums = [1,2,5,9], threshold = 6\n",
    "Output: 5\n",
    "Explanation: We can get a sum to 17 (1+2+5+9) if the divisor is 1. \n",
    "If the divisor is 4 we can get a sum of 7 (1+1+2+3) and if the divisor is 5 the sum will be 5 (1+1+1+2). \n",
    "\n",
    "Example 2:\n",
    "\n",
    "Input: nums = [44,22,33,11,1], threshold = 5\n",
    "Output: 44\n",
    "\n",
    " \n",
    "\n",
    "Constraints:\n",
    "\n",
    "    1 <= nums.length <= 5 * 10^4\n",
    "    1 <= nums[i] <= 106\n",
    "    nums.length <= threshold <= 10^6"
   ]
  },
  {
   "cell_type": "markdown",
   "metadata": {},
   "source": [
    "# Binary Search - O(N * Log M) runtime, O(1) space, where M is the max number"
   ]
  },
  {
   "cell_type": "code",
   "execution_count": 8,
   "metadata": {},
   "outputs": [],
   "source": [
    "from typing import List\n",
    "\n",
    "class Solution:\n",
    "    def smallestDivisor(self, nums: List[int], threshold: int) -> int:\n",
    "        n = len(nums)\n",
    "        if n == threshold: return max(nums)\n",
    "        \n",
    "        def getResult(div):\n",
    "            val = 0\n",
    "            for num in nums:\n",
    "                val += ceil(num/div)\n",
    "                \n",
    "            return val\n",
    "        \n",
    "        l, r = 1, max(nums)\n",
    "        res = r\n",
    "        while l <= r:\n",
    "            mid = l + (r - l) // 2\n",
    "            cur = getResult(mid)\n",
    "            if cur > threshold:\n",
    "                l = mid + 1\n",
    "            elif cur <= threshold:\n",
    "                r = mid - 1\n",
    "                if mid < res: res = mid\n",
    "                    \n",
    "        return res"
   ]
  },
  {
   "cell_type": "markdown",
   "metadata": {},
   "source": [
    "# Simpler Binary Search - O(N * Log M) runtime, O(1) space, where M is the max number"
   ]
  },
  {
   "cell_type": "code",
   "execution_count": 10,
   "metadata": {},
   "outputs": [],
   "source": [
    "from typing import List\n",
    "from math import ceil\n",
    "\n",
    "class Solution:\n",
    "    def smallestDivisor(self, nums: List[int], threshold: int) -> int:\n",
    "        l, r = 1, max(nums)\n",
    "        res = r\n",
    "        while l <= r:\n",
    "            m = l + (r - l) // 2\n",
    "            if sum(ceil(i / m) for i in nums) > threshold:\n",
    "                l = m + 1\n",
    "            else:\n",
    "                r = m - 1\n",
    "                if m < res: res = m\n",
    "        return res"
   ]
  },
  {
   "cell_type": "code",
   "execution_count": 11,
   "metadata": {},
   "outputs": [
    {
     "data": {
      "text/plain": [
       "44"
      ]
     },
     "execution_count": 11,
     "metadata": {},
     "output_type": "execute_result"
    }
   ],
   "source": [
    "instance = Solution()\n",
    "instance.smallestDivisor([44,22,33,11,1], 5)"
   ]
  }
 ],
 "metadata": {
  "kernelspec": {
   "display_name": "Python 3",
   "language": "python",
   "name": "python3"
  },
  "language_info": {
   "codemirror_mode": {
    "name": "ipython",
    "version": 3
   },
   "file_extension": ".py",
   "mimetype": "text/x-python",
   "name": "python",
   "nbconvert_exporter": "python",
   "pygments_lexer": "ipython3",
   "version": "3.7.3"
  }
 },
 "nbformat": 4,
 "nbformat_minor": 2
}
