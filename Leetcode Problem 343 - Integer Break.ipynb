{
 "cells": [
  {
   "cell_type": "markdown",
   "metadata": {},
   "source": [
    "Problem Statement.\n",
    "\n",
    "Given an integer n, break it into the sum of k positive integers, where k >= 2, and maximize the product of those integers.\n",
    "\n",
    "Return the maximum product you can get.\n",
    "\n",
    "Example 1:\n",
    "\n",
    "Input: n = 2\n",
    "Output: 1\n",
    "Explanation: 2 = 1 + 1, 1 × 1 = 1.\n",
    "\n",
    "Example 2:\n",
    "\n",
    "Input: n = 10\n",
    "Output: 36\n",
    "Explanation: 10 = 3 + 3 + 4, 3 × 3 × 4 = 36.\n",
    "\n",
    " \n",
    "Constraints:\n",
    "    2 <= n <= 58"
   ]
  },
  {
   "cell_type": "markdown",
   "metadata": {},
   "source": [
    "# Top Down DP - O(N ^ 2) runtime, O(N) space"
   ]
  },
  {
   "cell_type": "code",
   "execution_count": 1,
   "metadata": {},
   "outputs": [],
   "source": [
    "from functools import lru_cache\n",
    "\n",
    "class Solution:\n",
    "    def integerBreak(self, n: int) -> int:\n",
    "        \n",
    "        @lru_cache(maxsize=None)\n",
    "        def getMaxProduct(num):\n",
    "            if num == 1: return 1\n",
    "            maxVal = num if num < n else 0\n",
    "            for nextNum in range(1, num):\n",
    "                currVal = nextNum * getMaxProduct(num - nextNum)\n",
    "                maxVal = max(maxVal, currVal)\n",
    "                \n",
    "            return maxVal\n",
    "        \n",
    "        return getMaxProduct(n)"
   ]
  },
  {
   "cell_type": "markdown",
   "metadata": {},
   "source": [
    "# Bottom Up DP - O(N ^ 2) runtime, O(N) space"
   ]
  },
  {
   "cell_type": "code",
   "execution_count": 4,
   "metadata": {},
   "outputs": [],
   "source": [
    "class Solution:\n",
    "    def integerBreak(self, n: int) -> int:\n",
    "        dp = [None, 1]\n",
    "        for m in range (2, n + 1):\n",
    "            j = m - 1\n",
    "            i = 1\n",
    "            max_product = 0\n",
    "            while i <= j:\n",
    "                max_product = max(max_product, max(i, dp[i]) * max(j, dp[j]))\n",
    "                j -= 1\n",
    "                i += 1\n",
    "            dp.append(max_product)\n",
    "        return dp[n]"
   ]
  },
  {
   "cell_type": "markdown",
   "metadata": {},
   "source": [
    "# Math - O(1) runtime, O(1) space"
   ]
  },
  {
   "cell_type": "code",
   "execution_count": 6,
   "metadata": {},
   "outputs": [],
   "source": [
    "class Solution:\n",
    "    def integerBreak(self, n: int) -> int:\n",
    "        if n == 2 or n == 3:\n",
    "            return n - 1\n",
    "        if n % 3 == 0:\n",
    "            return 3**(n//3)\n",
    "        if n % 3 == 1:\n",
    "            return 3**(n//3 - 1)*4\n",
    "        if n % 3 == 2:\n",
    "            return 3**(n//3)*2"
   ]
  },
  {
   "cell_type": "code",
   "execution_count": 7,
   "metadata": {},
   "outputs": [
    {
     "data": {
      "text/plain": [
       "36"
      ]
     },
     "execution_count": 7,
     "metadata": {},
     "output_type": "execute_result"
    }
   ],
   "source": [
    "instance = Solution()\n",
    "instance.integerBreak(10)"
   ]
  }
 ],
 "metadata": {
  "kernelspec": {
   "display_name": "Python 3",
   "language": "python",
   "name": "python3"
  },
  "language_info": {
   "codemirror_mode": {
    "name": "ipython",
    "version": 3
   },
   "file_extension": ".py",
   "mimetype": "text/x-python",
   "name": "python",
   "nbconvert_exporter": "python",
   "pygments_lexer": "ipython3",
   "version": "3.7.3"
  }
 },
 "nbformat": 4,
 "nbformat_minor": 2
}
