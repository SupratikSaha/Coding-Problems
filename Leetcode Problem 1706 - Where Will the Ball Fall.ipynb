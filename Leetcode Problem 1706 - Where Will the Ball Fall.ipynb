{
 "cells": [
  {
   "cell_type": "markdown",
   "metadata": {},
   "source": [
    "Problem Statement.\n",
    "\n",
    "You have a 2-D grid of size m x n representing a box, and you have n balls. The box is open on the top and bottom sides.\n",
    "\n",
    "Each cell in the box has a diagonal board spanning two corners of the cell that can redirect a ball to the right or to the left.\n",
    "\n",
    "    A board that redirects the ball to the right spans the top-left corner to the bottom-right corner and is represented in the grid as 1.\n",
    "    A board that redirects the ball to the left spans the top-right corner to the bottom-left corner and is represented in the grid as -1.\n",
    "\n",
    "We drop one ball at the top of each column of the box. Each ball can get stuck in the box or fall out of the bottom. A ball gets stuck if it hits a \"V\" shaped pattern between two boards or if a board redirects the ball into either wall of the box.\n",
    "\n",
    "Return an array answer of size n where answer[i] is the column that the ball falls out of at the bottom after dropping the ball from the ith column at the top, or -1 if the ball gets stuck in the box.\n",
    "\n",
    " \n",
    "\n",
    "Example 1:\n",
    "\n",
    "Input: grid = [[1,1,1,-1,-1],[1,1,1,-1,-1],[-1,-1,-1,1,1],[1,1,1,1,-1],[-1,-1,-1,-1,-1]]\n",
    "Output: [1,-1,-1,-1,-1]\n",
    "Explanation: This example is shown in the photo.\n",
    "Ball b0 is dropped at column 0 and falls out of the box at column 1.\n",
    "Ball b1 is dropped at column 1 and will get stuck in the box between column 2 and 3 and row 1.\n",
    "Ball b2 is dropped at column 2 and will get stuck on the box between column 2 and 3 and row 0.\n",
    "Ball b3 is dropped at column 3 and will get stuck on the box between column 2 and 3 and row 0.\n",
    "Ball b4 is dropped at column 4 and will get stuck on the box between column 2 and 3 and row 1.\n",
    "\n",
    "Example 2:\n",
    "\n",
    "Input: grid = [[-1]]\n",
    "Output: [-1]\n",
    "Explanation: The ball gets stuck against the left wall.\n",
    "\n",
    "Example 3:\n",
    "\n",
    "Input: grid = [[1,1,1,1,1,1],[-1,-1,-1,-1,-1,-1],[1,1,1,1,1,1],[-1,-1,-1,-1,-1,-1]]\n",
    "Output: [0,1,2,3,4,-1]\n",
    "\n",
    " \n",
    "\n",
    "Constraints:\n",
    "\n",
    "    m == grid.length\n",
    "    n == grid[i].length\n",
    "    1 <= m, n <= 100\n",
    "    grid[i][j] is 1 or -1."
   ]
  },
  {
   "cell_type": "markdown",
   "metadata": {},
   "source": [
    "# Linear Grid Scan - O(M * N) runtime, O(N) space"
   ]
  },
  {
   "cell_type": "code",
   "execution_count": 1,
   "metadata": {},
   "outputs": [],
   "source": [
    "from typing import List\n",
    "\n",
    "class Solution:\n",
    "    def findBall(self, grid: List[List[int]]) -> List[int]:\n",
    "        m, n = len(grid), len(grid[0])\n",
    "        \n",
    "        result = []\n",
    "        for j in range(n):\n",
    "            c = j\n",
    "            for r in range(m):\n",
    "                if (c == 0 and grid[r][c] == -1) or (c == n-1 and grid[r][c] == 1):\n",
    "                    result.append(-1)\n",
    "                    break\n",
    "                if ( (c > 0 and grid[r][c] == -1 and grid[r][c-1] == 1) or \\\n",
    "                     (c < n-1 and grid[r][c] == 1 and grid[r][c+1] == -1) ):\n",
    "                    result.append(-1)\n",
    "                    break\n",
    "                    \n",
    "                if grid[r][c] == -1: c-=1\n",
    "                else: c += 1\n",
    "                \n",
    "                if r == m-1: result.append(c)\n",
    "                    \n",
    "        return result"
   ]
  },
  {
   "cell_type": "markdown",
   "metadata": {},
   "source": [
    "# Simpler Grid Scan - O(M * N) runtime, O(N) space"
   ]
  },
  {
   "cell_type": "code",
   "execution_count": 2,
   "metadata": {},
   "outputs": [],
   "source": [
    "from typing import List\n",
    "\n",
    "class Solution:\n",
    "    def findBall(self, grid: List[List[int]]) -> List[int]:\n",
    "        m, n = len(grid), len(grid[0])\n",
    "\n",
    "        def test(i):\n",
    "            for j in range(m):\n",
    "                i2 = i + grid[j][i]\n",
    "                if i2 < 0 or i2 >= n or grid[j][i2] != grid[j][i]:\n",
    "                    return -1\n",
    "                i = i2\n",
    "            return i\n",
    "        \n",
    "        return list(map(test, range(n)))"
   ]
  },
  {
   "cell_type": "code",
   "execution_count": 3,
   "metadata": {},
   "outputs": [
    {
     "data": {
      "text/plain": [
       "[0, 1, 2, 3, 4, -1]"
      ]
     },
     "execution_count": 3,
     "metadata": {},
     "output_type": "execute_result"
    }
   ],
   "source": [
    "instance = Solution()\n",
    "instance.findBall([[1,1,1,1,1,1],[-1,-1,-1,-1,-1,-1],[1,1,1,1,1,1],[-1,-1,-1,-1,-1,-1]])"
   ]
  }
 ],
 "metadata": {
  "kernelspec": {
   "display_name": "Python 3",
   "language": "python",
   "name": "python3"
  },
  "language_info": {
   "codemirror_mode": {
    "name": "ipython",
    "version": 3
   },
   "file_extension": ".py",
   "mimetype": "text/x-python",
   "name": "python",
   "nbconvert_exporter": "python",
   "pygments_lexer": "ipython3",
   "version": "3.7.3"
  }
 },
 "nbformat": 4,
 "nbformat_minor": 2
}
