{
 "cells": [
  {
   "cell_type": "markdown",
   "metadata": {},
   "source": [
    "Problem Statement.\n",
    "\n",
    "You are given an array routes representing bus routes where routes[i] is a bus route that the ith bus repeats forever.\n",
    "\n",
    "For example, if routes[0] = [1, 5, 7], this means that the 0th bus travels in the sequence 1 -> 5 -> 7 -> 1 -> 5 -> 7 -> 1 -> ... forever.\n",
    "\n",
    "You will start at the bus stop source (You are not on any bus initially), and you want to go to the bus stop target. You can travel between bus stops by buses only.\n",
    "\n",
    "Return the least number of buses you must take to travel from source to target. Return -1 if it is not possible.\n",
    "\n",
    "\n",
    "Example 1:\n",
    "\n",
    "Input: routes = [[1,2,7],[3,6,7]], source = 1, target = 6\n",
    "Output: 2\n",
    "Explanation: The best strategy is take the first bus to the bus stop 7, then take the second bus to the bus stop 6.\n",
    "\n",
    "Example 2:\n",
    "\n",
    "Input: routes = [[7,12],[4,5,15],[6],[15,19],[9,12,13]], source = 15, target = 12\n",
    "Output: -1\n",
    "\n",
    "\n",
    "Constraints:\n",
    "\n",
    "    1 <= routes.length <= 500.\n",
    "    1 <= routes[i].length <= 10^5\n",
    "    All the values of routes[i] are unique.\n",
    "    sum(routes[i].length) <= 10^5\n",
    "    0 <= routes[i][j] < 10^6\n",
    "    0 <= source, target < 10^6"
   ]
  },
  {
   "cell_type": "markdown",
   "metadata": {},
   "source": [
    "# BFS -  O(N ^ 2 + N * B) runtime, O(N ^ 2 + B) space, where N is the number of buses, and B is the total number of stops for all buses"
   ]
  },
  {
   "cell_type": "code",
   "execution_count": 1,
   "metadata": {},
   "outputs": [],
   "source": [
    "from typing import List\n",
    "from collections import defaultdict\n",
    "\n",
    "class Solution:\n",
    "    def numBusesToDestination(self, routes: List[List[int]], source: int, target: int) -> int:\n",
    "        if source == target: return 0\n",
    "        \n",
    "        routes = [set(route) for route in routes]\n",
    "        graph = defaultdict(set)\n",
    "        \n",
    "        for i, r1 in enumerate(routes):\n",
    "            for j in range(i+1, len(routes)):\n",
    "                r2 = routes[j]\n",
    "                if any(r in r2 for r in r1):\n",
    "                    graph[i].add(j)\n",
    "                    graph[j].add(i)\n",
    "\n",
    "        seen, targets, queue = set(), set(), []\n",
    "        for node, route in enumerate(routes):\n",
    "            if source in route: \n",
    "                seen.add(node)\n",
    "                queue.append((node, 1))\n",
    "            if target in route: targets.add(node)\n",
    "\n",
    "        for node, depth in queue:\n",
    "            if node in targets: return depth\n",
    "            for nei in graph[node]:\n",
    "                if nei not in seen:\n",
    "                    seen.add(nei)\n",
    "                    queue.append((nei, depth+1))\n",
    "                    \n",
    "        return -1"
   ]
  },
  {
   "cell_type": "markdown",
   "metadata": {},
   "source": [
    "# Faster BFS - O(B) runtime, O(B) space, where B is the total number of stops for all buses"
   ]
  },
  {
   "cell_type": "code",
   "execution_count": 3,
   "metadata": {},
   "outputs": [],
   "source": [
    "from typing import List\n",
    "from collections import defaultdict\n",
    "\n",
    "class Solution:\n",
    "    def numBusesToDestination(self, routes: List[List[int]], source: int, target: int) -> int:\n",
    "        to_routes = defaultdict(set)\n",
    "        \n",
    "        for i, route in enumerate(routes):\n",
    "            for j in route:\n",
    "                to_routes[j].add(i)\n",
    "                \n",
    "        bfs = [(source, 0)]\n",
    "        seen = set([source])\n",
    "        \n",
    "        for stop, count in bfs:\n",
    "            if stop == target: return count\n",
    "            \n",
    "            for i in to_routes[stop]:\n",
    "                for j in routes[i]:\n",
    "                    if j not in seen:\n",
    "                        bfs.append((j, count + 1))\n",
    "                        seen.add(j)\n",
    "                routes[i] = []  # seen route\n",
    "                \n",
    "        return -1"
   ]
  },
  {
   "cell_type": "code",
   "execution_count": 4,
   "metadata": {},
   "outputs": [
    {
     "data": {
      "text/plain": [
       "2"
      ]
     },
     "execution_count": 4,
     "metadata": {},
     "output_type": "execute_result"
    }
   ],
   "source": [
    "instance = Solution()\n",
    "instance.numBusesToDestination([[1,2,7],[3,6,7]], 1, 6)"
   ]
  }
 ],
 "metadata": {
  "kernelspec": {
   "display_name": "Python 3",
   "language": "python",
   "name": "python3"
  },
  "language_info": {
   "codemirror_mode": {
    "name": "ipython",
    "version": 3
   },
   "file_extension": ".py",
   "mimetype": "text/x-python",
   "name": "python",
   "nbconvert_exporter": "python",
   "pygments_lexer": "ipython3",
   "version": "3.7.3"
  }
 },
 "nbformat": 4,
 "nbformat_minor": 2
}
