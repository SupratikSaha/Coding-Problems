{
 "cells": [
  {
   "cell_type": "markdown",
   "metadata": {},
   "source": [
    "    Problem Statement.\n",
    "\n",
    "    Given an array of distinct integers candidates and a target integer target, return a list of all unique combinations of candidates where the chosen numbers sum to target. You may return the combinations in any order.\n",
    "\n",
    "    The same number may be chosen from candidates an unlimited number of times. Two combinations are unique if the frequency of at least one of the chosen numbers is different.\n",
    "\n",
    "    It is guaranteed that the number of unique combinations that sum up to target is less than 150 combinations for the given input.\n",
    "\n",
    "\n",
    "\n",
    "    Example 1:\n",
    "\n",
    "    Input: candidates = [2,3,6,7], target = 7\n",
    "    Output: [[2,2,3],[7]]\n",
    "    Explanation:\n",
    "    2 and 3 are candidates, and 2 + 2 + 3 = 7. Note that 2 can be used multiple times.\n",
    "    7 is a candidate, and 7 = 7.\n",
    "    These are the only two combinations.\n",
    "\n",
    "    Example 2:\n",
    "\n",
    "    Input: candidates = [2,3,5], target = 8\n",
    "    Output: [[2,2,2,2],[2,3,3],[3,5]]\n",
    "\n",
    "    Example 3:\n",
    "\n",
    "    Input: candidates = [2], target = 1\n",
    "    Output: []\n",
    "\n",
    "    Example 4:\n",
    "\n",
    "    Input: candidates = [1], target = 1\n",
    "    Output: [[1]]\n",
    "\n",
    "    Example 5:\n",
    "\n",
    "    Input: candidates = [1], target = 2\n",
    "    Output: [[1,1]]\n",
    "\n",
    "\n",
    "\n",
    "    Constraints:\n",
    "\n",
    "        1 <= candidates.length <= 30\n",
    "        1 <= candidates[i] <= 200\n",
    "        All elements of candidates are distinct.\n",
    "        1 <= target <= 500"
   ]
  },
  {
   "cell_type": "markdown",
   "metadata": {},
   "source": [
    "# Top Down DP - O(N ^ (T//M + 1)) runtime, O(T//M) space, where N be the number of candidates, T is the target value, and M is the minimal value among the candidates"
   ]
  },
  {
   "cell_type": "code",
   "execution_count": 3,
   "metadata": {},
   "outputs": [],
   "source": [
    "from typing import List\n",
    "\n",
    "class Solution:\n",
    "    def combinationSum(self, candidates: List[int], target: int) -> List[List[int]]:\n",
    "        self.result = []\n",
    "        self.combinationSumRecursive(candidates, target, 0, [])\n",
    "        return self.result\n",
    "    \n",
    "    def combinationSumRecursive(self, candidates: List[int], target: int, index: int, currList: List[int]) -> bool:\n",
    "        if target == 0: \n",
    "            self.result.append(currList)\n",
    "            return True\n",
    "        \n",
    "        if index == len(candidates): return False\n",
    "\n",
    "        selfAdd, skip = False, False\n",
    "        if candidates[index] <= target: \n",
    "            selfAdd = self.combinationSumRecursive(candidates, target-candidates[index], index, currList + [candidates[index]])\n",
    "        if index < len(candidates) - 1:\n",
    "            skip = self.combinationSumRecursive(candidates, target, index+1, currList)\n",
    "\n",
    "        return selfAdd or skip"
   ]
  },
  {
   "cell_type": "markdown",
   "metadata": {},
   "source": [
    "# DFS & BackTracking - O(N ^ (T//M + 1)) runtime, O(T//M) space, where N be the number of candidates, T is the target value, and M is the minimal value among the candidates"
   ]
  },
  {
   "cell_type": "code",
   "execution_count": 5,
   "metadata": {},
   "outputs": [],
   "source": [
    "from typing import List\n",
    "\n",
    "class Solution:\n",
    "    def combinationSum(self, candidates: List[int], target: int) -> List[List[int]]:\n",
    "        results = []\n",
    "\n",
    "        def backtrack(remain, comb, start):\n",
    "            if remain == 0:\n",
    "                # make a deep copy of the current combination\n",
    "                results.append(list(comb))\n",
    "                return\n",
    "            elif remain < 0:\n",
    "                # exceed the scope, stop exploration.\n",
    "                return\n",
    "\n",
    "            for i in range(start, len(candidates)):\n",
    "                # add the number into the combination\n",
    "                comb.append(candidates[i])\n",
    "                # give the current number another chance, rather than moving on\n",
    "                backtrack(remain - candidates[i], comb, i)\n",
    "                # backtrack, remove the number from the combination\n",
    "                comb.pop()\n",
    "\n",
    "        backtrack(target, [], 0)\n",
    "\n",
    "        return results"
   ]
  },
  {
   "cell_type": "code",
   "execution_count": 6,
   "metadata": {},
   "outputs": [
    {
     "data": {
      "text/plain": [
       "[[2, 2, 3], [7]]"
      ]
     },
     "execution_count": 6,
     "metadata": {},
     "output_type": "execute_result"
    }
   ],
   "source": [
    "instance = Solution()\n",
    "instance.combinationSum([2,3,6,7], 7)"
   ]
  }
 ],
 "metadata": {
  "kernelspec": {
   "display_name": "Python 3",
   "language": "python",
   "name": "python3"
  },
  "language_info": {
   "codemirror_mode": {
    "name": "ipython",
    "version": 3
   },
   "file_extension": ".py",
   "mimetype": "text/x-python",
   "name": "python",
   "nbconvert_exporter": "python",
   "pygments_lexer": "ipython3",
   "version": "3.7.3"
  }
 },
 "nbformat": 4,
 "nbformat_minor": 2
}
