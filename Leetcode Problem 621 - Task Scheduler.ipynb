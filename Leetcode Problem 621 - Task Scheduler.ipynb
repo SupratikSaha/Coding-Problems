{
 "cells": [
  {
   "cell_type": "markdown",
   "metadata": {},
   "source": [
    "    Problem Statement.\n",
    "\n",
    "    Given a characters array tasks, representing the tasks a CPU needs to do, where each letter represents a different task. Tasks could be done in any order. Each task is done in one unit of time. For each unit of time, the CPU could complete either one task or just be idle.\n",
    "\n",
    "    However, there is a non-negative integer n that represents the cooldown period between two same tasks (the same letter in the array), that is that there must be at least n units of time between any two same tasks.\n",
    "\n",
    "    Return the least number of units of times that the CPU will take to finish all the given tasks.\n",
    "\n",
    "\n",
    "\n",
    "    Example 1:\n",
    "\n",
    "    Input: tasks = [\"A\",\"A\",\"A\",\"B\",\"B\",\"B\"], n = 2\n",
    "    Output: 8\n",
    "    Explanation: \n",
    "    A -> B -> idle -> A -> B -> idle -> A -> B\n",
    "    There is at least 2 units of time between any two same tasks.\n",
    "\n",
    "    Example 2:\n",
    "\n",
    "    Input: tasks = [\"A\",\"A\",\"A\",\"B\",\"B\",\"B\"], n = 0\n",
    "    Output: 6\n",
    "    Explanation: On this case any permutation of size 6 would work since n = 0.\n",
    "    [\"A\",\"A\",\"A\",\"B\",\"B\",\"B\"]\n",
    "    [\"A\",\"B\",\"A\",\"B\",\"A\",\"B\"]\n",
    "    [\"B\",\"B\",\"B\",\"A\",\"A\",\"A\"]\n",
    "    ...\n",
    "    And so on.\n",
    "\n",
    "    Example 3:\n",
    "\n",
    "    Input: tasks = [\"A\",\"A\",\"A\",\"A\",\"A\",\"A\",\"B\",\"C\",\"D\",\"E\",\"F\",\"G\"], n = 2\n",
    "    Output: 16\n",
    "    Explanation: \n",
    "    One possible solution is\n",
    "    A -> B -> C -> A -> D -> E -> A -> F -> G -> A -> idle -> idle -> A -> idle -> idle -> A"
   ]
  },
  {
   "cell_type": "markdown",
   "metadata": {},
   "source": [
    "# Heap and Extra List - Time Limit Exceeded - O(T * N log N) runtime, O(N) space, where T is the minimum time and N is the number of tasks"
   ]
  },
  {
   "cell_type": "code",
   "execution_count": 1,
   "metadata": {},
   "outputs": [],
   "source": [
    "from typing import List\n",
    "from collections import Counter\n",
    "from heapq import heapify, heappush, heappop\n",
    "\n",
    "class Solution:\n",
    "    def leastInterval(self, tasks: List[str], n: int) -> int:\n",
    "\n",
    "        counter = Counter(tasks)\n",
    "        maxheap = [ (-count, 0, task) for task, count in counter.items()]\n",
    "        heapify(maxheap)\n",
    "        extra = []\n",
    "        \n",
    "        t = 1\n",
    "        while maxheap:\n",
    "            while maxheap:\n",
    "                if maxheap[0][1] == 0 or t - maxheap[0][1] > n:\n",
    "                    count, time, task = heappop(maxheap)\n",
    "                    if count + 1 < 0:\n",
    "                        heappush(maxheap, (count+1, t, task))\n",
    "                    break\n",
    "                else:\n",
    "                    extra.append(heappop(maxheap))\n",
    "                    \n",
    "            while extra:\n",
    "                heappush(maxheap, extra.pop())\n",
    "\n",
    "            t += 1\n",
    "            \n",
    "        return t-1"
   ]
  },
  {
   "cell_type": "markdown",
   "metadata": {},
   "source": [
    "# Greedy - O(N) runtime, O(1) space"
   ]
  },
  {
   "cell_type": "code",
   "execution_count": 2,
   "metadata": {},
   "outputs": [],
   "source": [
    "from typing import List\n",
    "\n",
    "class Solution:\n",
    "    def leastInterval(self, tasks: List[str], n: int) -> int:\n",
    "\n",
    "        # frequencies of the tasks\n",
    "        frequencies = [0] * 26\n",
    "        for t in tasks:\n",
    "            frequencies[ord(t) - ord('A')] += 1\n",
    "        \n",
    "        frequencies.sort()\n",
    "\n",
    "        # max frequency\n",
    "        f_max = frequencies.pop()\n",
    "        idle_time = (f_max - 1) * n\n",
    "        \n",
    "        while frequencies and idle_time > 0:\n",
    "            idle_time -= min(f_max - 1, frequencies.pop())\n",
    "        idle_time = max(0, idle_time)\n",
    "\n",
    "        return idle_time + len(tasks)"
   ]
  },
  {
   "cell_type": "markdown",
   "metadata": {},
   "source": [
    "# Greedy - O(N-Total) runtime, O(1) space, where N-Total is the numbers of alphabet tasks in the input"
   ]
  },
  {
   "cell_type": "code",
   "execution_count": 3,
   "metadata": {},
   "outputs": [],
   "source": [
    "from typing import List\n",
    "\n",
    "class Solution:\n",
    "    def leastInterval(self, tasks: List[str], n: int) -> int:\n",
    "\n",
    "        # frequencies of the tasks\n",
    "        frequencies = [0] * 26\n",
    "        for t in tasks:\n",
    "            frequencies[ord(t) - ord('A')] += 1\n",
    "\n",
    "        # max frequency\n",
    "        f_max = max(frequencies)\n",
    "        # count the most frequent tasks\n",
    "        n_max = frequencies.count(f_max)\n",
    "\n",
    "        return max(len(tasks), (f_max - 1) * (n + 1) + n_max)"
   ]
  },
  {
   "cell_type": "code",
   "execution_count": 4,
   "metadata": {},
   "outputs": [
    {
     "data": {
      "text/plain": [
       "16"
      ]
     },
     "execution_count": 4,
     "metadata": {},
     "output_type": "execute_result"
    }
   ],
   "source": [
    "instance = Solution()\n",
    "instance.leastInterval([\"A\",\"A\",\"A\",\"A\",\"A\",\"A\",\"B\",\"C\",\"D\",\"E\",\"F\",\"G\"], 2)"
   ]
  }
 ],
 "metadata": {
  "kernelspec": {
   "display_name": "Python 3",
   "language": "python",
   "name": "python3"
  },
  "language_info": {
   "codemirror_mode": {
    "name": "ipython",
    "version": 3
   },
   "file_extension": ".py",
   "mimetype": "text/x-python",
   "name": "python",
   "nbconvert_exporter": "python",
   "pygments_lexer": "ipython3",
   "version": "3.7.3"
  }
 },
 "nbformat": 4,
 "nbformat_minor": 2
}
