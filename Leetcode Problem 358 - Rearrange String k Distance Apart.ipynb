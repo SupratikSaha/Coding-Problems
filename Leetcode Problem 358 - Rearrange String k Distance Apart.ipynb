{
 "cells": [
  {
   "cell_type": "markdown",
   "metadata": {},
   "source": [
    "Problem Statement.\n",
    "\n",
    "Given a string s and an integer k, rearrange s such that the same characters are at least distance k from each other. If it is not possible to rearrange the string, return an empty string \"\".\n",
    "\n",
    "Example 1:\n",
    "\n",
    "Input: s = \"aabbcc\", k = 3\n",
    "Output: \"abcabc\"\n",
    "Explanation: The same letters are at least a distance of 3 from each other.\n",
    "\n",
    "Example 2:\n",
    "\n",
    "Input: s = \"aaabc\", k = 3\n",
    "Output: \"\"\n",
    "Explanation: It is not possible to rearrange the string.\n",
    "\n",
    "Example 3:\n",
    "\n",
    "Input: s = \"aaadbbcc\", k = 2\n",
    "Output: \"abacabcd\"\n",
    "Explanation: The same letters are at least a distance of 2 from each other.\n",
    "\n",
    " \n",
    "\n",
    "Constraints:\n",
    "\n",
    "    1 <= s.length <= 3 * 105\n",
    "    s consists of only lowercase English letters.\n",
    "    0 <= k <= s.length"
   ]
  },
  {
   "cell_type": "markdown",
   "metadata": {},
   "source": [
    "# Hash Table - O(N) runtime, O(1) space"
   ]
  },
  {
   "cell_type": "code",
   "execution_count": 3,
   "metadata": {},
   "outputs": [],
   "source": [
    "from collections import Counter\n",
    "\n",
    "class Solution:\n",
    "    def rearrangeString(self, s: str, k: int) -> str:\n",
    "        n = len(s)\n",
    "        if not k: return s\n",
    "        count = Counter(s)\n",
    "        maxf = max(count.values())\n",
    "        if (maxf - 1) * k + list(count.values()).count(maxf) > len(s): return \"\"\n",
    "        \n",
    "        res = list(s)\n",
    "        i = (n - 1) % k\n",
    "        for c in sorted(count, key=lambda x: -count[x]): # Only 26 characters in alphabet so sort is O(26) == O(1)\n",
    "            for j in range(count[c]):\n",
    "                res[i] = c\n",
    "                i += k\n",
    "                if i >= n: i = (i - 1) % k\n",
    "                    \n",
    "        return \"\".join(res)"
   ]
  },
  {
   "cell_type": "code",
   "execution_count": 4,
   "metadata": {},
   "outputs": [
    {
     "data": {
      "text/plain": [
       "'cbacba'"
      ]
     },
     "execution_count": 4,
     "metadata": {},
     "output_type": "execute_result"
    }
   ],
   "source": [
    "instance = Solution()\n",
    "instance.rearrangeString(\"aabbcc\", 3)"
   ]
  }
 ],
 "metadata": {
  "kernelspec": {
   "display_name": "Python 3",
   "language": "python",
   "name": "python3"
  },
  "language_info": {
   "codemirror_mode": {
    "name": "ipython",
    "version": 3
   },
   "file_extension": ".py",
   "mimetype": "text/x-python",
   "name": "python",
   "nbconvert_exporter": "python",
   "pygments_lexer": "ipython3",
   "version": "3.7.3"
  }
 },
 "nbformat": 4,
 "nbformat_minor": 2
}
