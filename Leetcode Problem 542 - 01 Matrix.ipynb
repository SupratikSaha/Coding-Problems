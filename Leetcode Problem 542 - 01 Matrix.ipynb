{
 "cells": [
  {
   "cell_type": "markdown",
   "metadata": {},
   "source": [
    "Problem Statement.\n",
    "\n",
    "Given an m x n binary matrix mat, return the distance of the nearest 0 for each cell.\n",
    "\n",
    "The distance between two adjacent cells is 1.\n",
    "\n",
    "\n",
    "Example 1:\n",
    "\n",
    "Input: mat = [[0,0,0],[0,1,0],[0,0,0]]\n",
    "Output: [[0,0,0],[0,1,0],[0,0,0]]\n",
    "\n",
    "Example 2:\n",
    "\n",
    "Input: mat = [[0,0,0],[0,1,0],[1,1,1]]\n",
    "Output: [[0,0,0],[0,1,0],[1,2,1]]\n",
    "\n",
    "Constraints:\n",
    "\n",
    "    m == mat.length\n",
    "    n == mat[i].length\n",
    "    1 <= m, n <= 104\n",
    "    1 <= m * n <= 104\n",
    "    mat[i][j] is either 0 or 1.\n",
    "    There is at least one 0 in mat."
   ]
  },
  {
   "cell_type": "markdown",
   "metadata": {},
   "source": [
    "# DP - O(M * N) runtime, O(M * N) space"
   ]
  },
  {
   "cell_type": "code",
   "execution_count": 1,
   "metadata": {},
   "outputs": [],
   "source": [
    "from typing import List\n",
    "\n",
    "class Solution:\n",
    "    def updateMatrix(self, mat: List[List[int]]) -> List[List[int]]:\n",
    "        m, n = len(mat), len(mat[0])\n",
    "        dist = [[float('inf')] * n for _ in range(m)]               \n",
    "        \n",
    "        for i in range(m):\n",
    "            for j in range(n):\n",
    "                if mat[i][j] == 0: \n",
    "                    dist[i][j] = 0\n",
    "                else:\n",
    "                    if i > 0:\n",
    "                        dist[i][j] = min(dist[i][j], dist[i - 1][j] + 1)\n",
    "                    if j > 0:\n",
    "                        dist[i][j] = min(dist[i][j], dist[i][j - 1] + 1)\n",
    "                        \n",
    "        for i in range(m-1, -1, -1):\n",
    "            for j in range(n-1, -1, -1):\n",
    "                if i < m - 1:\n",
    "                    dist[i][j] = min(dist[i][j], dist[i + 1][j] + 1)\n",
    "                if j < n - 1:\n",
    "                    dist[i][j] = min(dist[i][j], dist[i][j + 1] + 1)\n",
    "                    \n",
    "        return dist"
   ]
  },
  {
   "cell_type": "code",
   "execution_count": 2,
   "metadata": {},
   "outputs": [
    {
     "data": {
      "text/plain": [
       "[[0, 0, 0], [0, 1, 0], [1, 2, 1]]"
      ]
     },
     "execution_count": 2,
     "metadata": {},
     "output_type": "execute_result"
    }
   ],
   "source": [
    "instance = Solution()\n",
    "instance.updateMatrix([[0,0,0],[0,1,0],[1,1,1]])"
   ]
  }
 ],
 "metadata": {
  "kernelspec": {
   "display_name": "Python 3",
   "language": "python",
   "name": "python3"
  },
  "language_info": {
   "codemirror_mode": {
    "name": "ipython",
    "version": 3
   },
   "file_extension": ".py",
   "mimetype": "text/x-python",
   "name": "python",
   "nbconvert_exporter": "python",
   "pygments_lexer": "ipython3",
   "version": "3.7.3"
  }
 },
 "nbformat": 4,
 "nbformat_minor": 2
}
