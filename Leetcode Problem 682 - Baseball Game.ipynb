{
 "cells": [
  {
   "cell_type": "markdown",
   "metadata": {},
   "source": [
    "Problem Statement. <br/>\n",
    "\n",
    "You are keeping score for a baseball game with strange rules. The game consists of several rounds, where the scores of past rounds may affect future rounds' scores. <br/>\n",
    "\n",
    "At the beginning of the game, you start with an empty record. You are given a list of strings ops, where ops[i] is the ith operation you must apply to the record and is one of the following: <br/>\n",
    "\n",
    "    An integer x - Record a new score of x. <br/>\n",
    "    \"+\" - Record a new score that is the sum of the previous two scores. It is guaranteed there will always be two previous scores. <br/>\n",
    "    \"D\" - Record a new score that is double the previous score. It is guaranteed there will always be a previous score. <br/>\n",
    "    \"C\" - Invalidate the previous score, removing it from the record. It is guaranteed there will always be a previous score. <br/>\n",
    "\n",
    "Return the sum of all the scores on the record. <br/>\n",
    "\n",
    "Example 1: <br/>\n",
    "Input: ops = [\"5\",\"2\",\"C\",\"D\",\"+\"] <br/>\n",
    "Output: 30 <br/>\n",
    "Explanation: <br/>\n",
    "\"5\" - Add 5 to the record, record is now [5]. <br/>\n",
    "\"2\" - Add 2 to the record, record is now [5, 2]. <br/>\n",
    "\"C\" - Invalidate and remove the previous score, record is now [5]. <br/>\n",
    "\"D\" - Add 2 * 5 = 10 to the record, record is now [5, 10]. <br/>\n",
    "\"+\" - Add 5 + 10 = 15 to the record, record is now [5, 10, 15]. <br/>\n",
    "The total sum is 5 + 10 + 15 = 30. <br/>\n",
    "\n",
    "Example 2: <br/>\n",
    "Input: ops = [\"5\",\"-2\",\"4\",\"C\",\"D\",\"9\",\"+\",\"+\"] <br/>\n",
    "Output: 27 <br/>\n",
    "Explanation: <br/>\n",
    "\"5\" - Add 5 to the record, record is now [5]. <br/>\n",
    "\"-2\" - Add -2 to the record, record is now [5, -2]. <br/>\n",
    "\"4\" - Add 4 to the record, record is now [5, -2, 4]. <br/>\n",
    "\"C\" - Invalidate and remove the previous score, record is now [5, -2]. <br/>\n",
    "\"D\" - Add 2 * -2 = -4 to the record, record is now [5, -2, -4]. <br/>\n",
    "\"9\" - Add 9 to the record, record is now [5, -2, -4, 9]. <br/>\n",
    "\"+\" - Add -4 + 9 = 5 to the record, record is now [5, -2, -4, 9, 5]. <br/>\n",
    "\"+\" - Add 9 + 5 = 14 to the record, record is now [5, -2, -4, 9, 5, 14]. <br/>\n",
    "The total sum is 5 + -2 + -4 + 9 + 5 + 14 = 27. <br/>\n",
    "\n",
    "Example 3: <br/>\n",
    "Input: ops = [\"1\"] <br/>\n",
    "Output: 1 <br/>\n",
    "\n",
    "Constraints: <br/>\n",
    "    1 <= ops.length <= 1000 <br/>\n",
    "    ops[i] is \"C\", \"D\", \"+\", or a string representing an integer in the range [-3 * 104, 3 * 104]. <br/>\n",
    "    For operation \"+\", there will always be at least two previous scores on the record. <br/>\n",
    "    For operations \"C\" and \"D\", there will always be at least one previous score on the record."
   ]
  },
  {
   "cell_type": "markdown",
   "metadata": {},
   "source": [
    "# Stack - O(N) runtime, O(N) space"
   ]
  },
  {
   "cell_type": "code",
   "execution_count": 1,
   "metadata": {},
   "outputs": [],
   "source": [
    "from typing import List\n",
    "\n",
    "class Solution:\n",
    "    def calPoints(self, ops: List[str]) -> int:\n",
    "        stack = []\n",
    "        res = 0\n",
    "        \n",
    "        for op in ops:\n",
    "            if op == 'C':\n",
    "                res -= stack[-1]\n",
    "                stack.pop()\n",
    "                continue\n",
    "            elif op == '+':\n",
    "                stack.append(stack[-1] + stack[-2])\n",
    "            elif op == 'D':\n",
    "                stack.append(2 * stack[-1])\n",
    "            else:\n",
    "                stack.append(int(op))\n",
    "                \n",
    "            res += stack[-1]\n",
    "\n",
    "        return res"
   ]
  },
  {
   "cell_type": "code",
   "execution_count": 2,
   "metadata": {},
   "outputs": [
    {
     "data": {
      "text/plain": [
       "27"
      ]
     },
     "execution_count": 2,
     "metadata": {},
     "output_type": "execute_result"
    }
   ],
   "source": [
    "instance = Solution()\n",
    "instance.calPoints([\"5\",\"-2\",\"4\",\"C\",\"D\",\"9\",\"+\",\"+\"])"
   ]
  }
 ],
 "metadata": {
  "kernelspec": {
   "display_name": "Python 3",
   "language": "python",
   "name": "python3"
  },
  "language_info": {
   "codemirror_mode": {
    "name": "ipython",
    "version": 3
   },
   "file_extension": ".py",
   "mimetype": "text/x-python",
   "name": "python",
   "nbconvert_exporter": "python",
   "pygments_lexer": "ipython3",
   "version": "3.7.3"
  }
 },
 "nbformat": 4,
 "nbformat_minor": 2
}
