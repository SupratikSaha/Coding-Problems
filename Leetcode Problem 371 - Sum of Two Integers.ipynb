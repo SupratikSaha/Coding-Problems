{
 "cells": [
  {
   "cell_type": "markdown",
   "metadata": {},
   "source": [
    "# Bitwise Operation"
   ]
  },
  {
   "cell_type": "code",
   "execution_count": null,
   "metadata": {},
   "outputs": [],
   "source": [
    "class Solution:\n",
    "    def getSum(self, a: int, b: int) -> int:\n",
    "        if a == 0:\n",
    "            return b\n",
    "        elif b == 0:\n",
    "            return a\n",
    "        \n",
    "        mask = 0xffffffff\n",
    "\n",
    "        # in Python, every integer is associated with its two's complement and its sign.\n",
    "        # However, doing bit operation \"& mask\" loses the track of sign. \n",
    "        # Therefore, after the while loop, a is the two's complement of the final result as a 32-bit unsigned integer. \n",
    "        while b != 0:\n",
    "            a, b = (a ^ b) & mask, ((a & b) << 1) & mask\n",
    "\n",
    "        # a is negative if the first bit is 1\n",
    "        if (a >> 31) & 1:\n",
    "            return ~(a ^ mask)\n",
    "        else:\n",
    "            return a"
   ]
  }
 ],
 "metadata": {
  "kernelspec": {
   "display_name": "Python 3",
   "language": "python",
   "name": "python3"
  },
  "language_info": {
   "codemirror_mode": {
    "name": "ipython",
    "version": 3
   },
   "file_extension": ".py",
   "mimetype": "text/x-python",
   "name": "python",
   "nbconvert_exporter": "python",
   "pygments_lexer": "ipython3",
   "version": "3.7.3"
  }
 },
 "nbformat": 4,
 "nbformat_minor": 2
}
