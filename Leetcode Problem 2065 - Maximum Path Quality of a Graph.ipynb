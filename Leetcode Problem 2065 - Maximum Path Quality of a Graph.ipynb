{
 "cells": [
  {
   "cell_type": "markdown",
   "metadata": {},
   "source": [
    "Problem Statement.\n",
    "\n",
    "There is an undirected graph with n nodes numbered from 0 to n - 1 (inclusive). You are given a 0-indexed integer array values where values[i] is the value of the ith node. You are also given a 0-indexed 2D integer array edges, where each edges[j] = [uj, vj, timej] indicates that there is an undirected edge between the nodes uj and vj, and it takes timej seconds to travel between the two nodes. Finally, you are given an integer maxTime.\n",
    "\n",
    "A valid path in the graph is any path that starts at node 0, ends at node 0, and takes at most maxTime seconds to complete. You may visit the same node multiple times. The quality of a valid path is the sum of the values of the unique nodes visited in the path (each node's value is added at most once to the sum).\n",
    "\n",
    "Return the maximum quality of a valid path.\n",
    "\n",
    "Note: There are at most four edges connected to each node.\n",
    "\n",
    " \n",
    "\n",
    "Example 1:\n",
    "\n",
    "Input: values = [0,32,10,43], edges = [[0,1,10],[1,2,15],[0,3,10]], maxTime = 49\n",
    "Output: 75\n",
    "Explanation:\n",
    "One possible path is 0 -> 1 -> 0 -> 3 -> 0. The total time taken is 10 + 10 + 10 + 10 = 40 <= 49.\n",
    "The nodes visited are 0, 1, and 3, giving a maximal path quality of 0 + 32 + 43 = 75.\n",
    "\n",
    "Example 2:\n",
    "\n",
    "Input: values = [5,10,15,20], edges = [[0,1,10],[1,2,10],[0,3,10]], maxTime = 30\n",
    "Output: 25\n",
    "Explanation:\n",
    "One possible path is 0 -> 3 -> 0. The total time taken is 10 + 10 = 20 <= 30.\n",
    "The nodes visited are 0 and 3, giving a maximal path quality of 5 + 20 = 25.\n",
    "\n",
    "Example 3:\n",
    "\n",
    "Input: values = [1,2,3,4], edges = [[0,1,10],[1,2,11],[2,3,12],[1,3,13]], maxTime = 50\n",
    "Output: 7\n",
    "Explanation:\n",
    "One possible path is 0 -> 1 -> 3 -> 1 -> 0. The total time taken is 10 + 13 + 13 + 10 = 46 <= 50.\n",
    "The nodes visited are 0, 1, and 3, giving a maximal path quality of 1 + 2 + 4 = 7.\n",
    "\n",
    " \n",
    "\n",
    "Constraints:\n",
    "\n",
    "    n == values.length\n",
    "    1 <= n <= 1000\n",
    "    0 <= values[i] <= 108\n",
    "    0 <= edges.length <= 2000\n",
    "    edges[j].length == 3\n",
    "    0 <= uj < vj <= n - 1\n",
    "    10 <= timej, maxTime <= 100\n",
    "    All the pairs [uj, vj] are unique.\n",
    "    There are at most four edges connected to each node.\n",
    "    The graph may not be connected."
   ]
  },
  {
   "cell_type": "markdown",
   "metadata": {},
   "source": [
    "# DFS - O(4 ^ N) runtime, O(4 ^ N) space where M is the max number of edges given as 4"
   ]
  },
  {
   "cell_type": "code",
   "execution_count": 2,
   "metadata": {},
   "outputs": [],
   "source": [
    "from typing import List\n",
    "from collections import defaultdict\n",
    "\n",
    "class Solution:\n",
    "    def maximalPathQuality(self, values: List[int], edges: List[List[int]], maxTime: int) -> int:\n",
    "        graph = defaultdict(dict)\n",
    "        for i, j, t in edges:\n",
    "            graph[i][j] = graph[j][i] = t\n",
    "\n",
    "        def dfs(i, seen, time):\n",
    "            res = sum(values[j] for j in seen) if i == 0 else 0\n",
    "            \n",
    "            for j in graph[i]:\n",
    "                if time >= graph[i][j]:\n",
    "                    res = max(res, dfs(j, seen | {j}, time - graph[i][j]))\n",
    "                    \n",
    "            return res\n",
    "\n",
    "        return dfs(0, {0}, maxTime)"
   ]
  },
  {
   "cell_type": "code",
   "execution_count": 3,
   "metadata": {},
   "outputs": [
    {
     "data": {
      "text/plain": [
       "7"
      ]
     },
     "execution_count": 3,
     "metadata": {},
     "output_type": "execute_result"
    }
   ],
   "source": [
    "instance = Solution()\n",
    "instance.maximalPathQuality([1,2,3,4], [[0,1,10],[1,2,11],[2,3,12],[1,3,13]], 50)"
   ]
  }
 ],
 "metadata": {
  "kernelspec": {
   "display_name": "Python 3",
   "language": "python",
   "name": "python3"
  },
  "language_info": {
   "codemirror_mode": {
    "name": "ipython",
    "version": 3
   },
   "file_extension": ".py",
   "mimetype": "text/x-python",
   "name": "python",
   "nbconvert_exporter": "python",
   "pygments_lexer": "ipython3",
   "version": "3.7.3"
  }
 },
 "nbformat": 4,
 "nbformat_minor": 2
}
