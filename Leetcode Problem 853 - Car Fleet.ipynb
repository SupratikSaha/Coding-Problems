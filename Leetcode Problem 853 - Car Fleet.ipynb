{
 "cells": [
  {
   "cell_type": "markdown",
   "metadata": {},
   "source": [
    "    Problem Statement.\n",
    "\n",
    "    N cars are going to the same destination along a one lane road.  The destination is target miles away.\n",
    "\n",
    "    Each car i has a constant speed speed[i] (in miles per hour), and initial position position[i] miles towards the target along the road.\n",
    "\n",
    "    A car can never pass another car ahead of it, but it can catch up to it, and drive bumper to bumper at the same speed.\n",
    "\n",
    "    The distance between these two cars is ignored - they are assumed to have the same position.\n",
    "\n",
    "    A car fleet is some non-empty set of cars driving at the same position and same speed.  Note that a single car is also a car fleet.\n",
    "\n",
    "    If a car catches up to a car fleet right at the destination point, it will still be considered as one car fleet.\n",
    "\n",
    "\n",
    "    How many car fleets will arrive at the destination?\n",
    "\n",
    "\n",
    "\n",
    "    Example 1:\n",
    "\n",
    "    Input: target = 12, position = [10,8,0,5,3], speed = [2,4,1,1,3]\n",
    "    Output: 3\n",
    "    Explanation:\n",
    "    The cars starting at 10 and 8 become a fleet, meeting each other at 12.\n",
    "    The car starting at 0 doesn't catch up to any other car, so it is a fleet by itself.\n",
    "    The cars starting at 5 and 3 become a fleet, meeting each other at 6.\n",
    "    Note that no other cars meet these fleets before the destination, so the answer is 3.\n",
    "\n",
    "\n",
    "    Note:\n",
    "\n",
    "        0 <= N <= 10 ^ 4\n",
    "        0 < target <= 10 ^ 6\n",
    "        0 < speed[i] <= 10 ^ 6\n",
    "        0 <= position[i] < target\n",
    "        All initial positions are different.\n"
   ]
  },
  {
   "cell_type": "markdown",
   "metadata": {},
   "source": [
    "# Sort - O(N * logN) runtime, O(N) space"
   ]
  },
  {
   "cell_type": "code",
   "execution_count": 1,
   "metadata": {},
   "outputs": [],
   "source": [
    "from typing import List\n",
    "\n",
    "class Solution:\n",
    "    def carFleet(self, target: int, position: List[int], speed: List[int]) -> int:\n",
    "        n = len(position)\n",
    "        if n == 0: return 0\n",
    "        \n",
    "        informationArray = []\n",
    "        for i in range(n):\n",
    "            informationArray.append((position[i], speed[i], (target - position[i])/speed[i]))\n",
    "        \n",
    "        informationArray = sorted(informationArray, key=lambda x: -x[0])\n",
    "\n",
    "        res = 1\n",
    "        for i in range(1, n):\n",
    "            mergedFleet = False\n",
    "            for j in range(i):\n",
    "                if informationArray[i][2] <= informationArray[j][2]:\n",
    "                    mergedFleet = True\n",
    "                    break\n",
    "            if not mergedFleet: res += 1\n",
    "                \n",
    "        return res"
   ]
  },
  {
   "cell_type": "markdown",
   "metadata": {},
   "source": [
    "# Faster Sort, No multiple comparisons - O(N * logN) runtime, O(N) space"
   ]
  },
  {
   "cell_type": "code",
   "execution_count": 3,
   "metadata": {},
   "outputs": [],
   "source": [
    "from typing import List\n",
    "\n",
    "class Solution:\n",
    "    def carFleet(self, target: int, position: List[int], speed: List[int]) -> int:\n",
    "        cars = sorted(zip(position, speed))\n",
    "        times = [float(target - p) / s for p, s in cars]\n",
    "        ans = 0\n",
    "        while len(times) > 1:\n",
    "            lead = times.pop()\n",
    "            if lead < times[-1]: ans += 1  # if lead arrives sooner, it can't be caught\n",
    "            else: times[-1] = lead # else, fleet arrives at later time 'lead'\n",
    "\n",
    "        return ans + bool(times) # remaining car is fleet (if it exists)"
   ]
  },
  {
   "cell_type": "code",
   "execution_count": 4,
   "metadata": {},
   "outputs": [
    {
     "data": {
      "text/plain": [
       "3"
      ]
     },
     "execution_count": 4,
     "metadata": {},
     "output_type": "execute_result"
    }
   ],
   "source": [
    "instance = Solution()\n",
    "instance.carFleet(12, [10,8,0,5,3], [2,4,1,1,3])"
   ]
  }
 ],
 "metadata": {
  "kernelspec": {
   "display_name": "Python 3",
   "language": "python",
   "name": "python3"
  },
  "language_info": {
   "codemirror_mode": {
    "name": "ipython",
    "version": 3
   },
   "file_extension": ".py",
   "mimetype": "text/x-python",
   "name": "python",
   "nbconvert_exporter": "python",
   "pygments_lexer": "ipython3",
   "version": "3.7.3"
  }
 },
 "nbformat": 4,
 "nbformat_minor": 2
}
