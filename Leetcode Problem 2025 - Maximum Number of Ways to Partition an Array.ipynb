{
 "cells": [
  {
   "cell_type": "markdown",
   "metadata": {},
   "source": [
    "Problem Statement.\n",
    "\n",
    "You are given a 0-indexed integer array nums of length n. The number of ways to partition nums is the number of pivot indices that satisfy both conditions:\n",
    "\n",
    "    1 <= pivot < n\n",
    "    nums[0] + nums[1] + ... + nums[pivot - 1] == nums[pivot] + nums[pivot + 1] + ... + nums[n - 1]\n",
    "\n",
    "You are also given an integer k. You can choose to change the value of one element of nums to k, or to leave the array unchanged.\n",
    "\n",
    "Return the maximum possible number of ways to partition nums to satisfy both conditions after changing at most one element.\n",
    "\n",
    " \n",
    "\n",
    "Example 1:\n",
    "\n",
    "Input: nums = [2,-1,2], k = 3\n",
    "Output: 1\n",
    "Explanation: One optimal approach is to change nums[0] to k. The array becomes [3,-1,2].\n",
    "There is one way to partition the array:\n",
    "- For pivot = 2, we have the partition [3,-1 | 2]: 3 + -1 == 2.\n",
    "\n",
    "Example 2:\n",
    "\n",
    "Input: nums = [0,0,0], k = 1\n",
    "Output: 2\n",
    "Explanation: The optimal approach is to leave the array unchanged.\n",
    "There are two ways to partition the array:\n",
    "- For pivot = 1, we have the partition [0 | 0,0]: 0 == 0 + 0.\n",
    "- For pivot = 2, we have the partition [0,0 | 0]: 0 + 0 == 0.\n",
    "\n",
    "Example 3:\n",
    "\n",
    "Input: nums = [22,4,-25,-20,-15,15,-16,7,19,-10,0,-13,-14], k = -33\n",
    "Output: 4\n",
    "Explanation: One optimal approach is to change nums[2] to k. The array becomes [22,4,-33,-20,-15,15,-16,7,19,-10,0,-13,-14].\n",
    "There are four ways to partition the array.\n",
    "\n",
    " \n",
    "\n",
    "Constraints:\n",
    "\n",
    "    n == nums.length\n",
    "    2 <= n <= 105\n",
    "    -10^5 <= k, nums[i] <= 10^5"
   ]
  },
  {
   "cell_type": "markdown",
   "metadata": {},
   "source": [
    "# Binary Search and HashMap - O(N * Log N) runtime, O(N) space"
   ]
  },
  {
   "cell_type": "code",
   "execution_count": 5,
   "metadata": {},
   "outputs": [],
   "source": [
    "from typing import List\n",
    "from collections import defaultdict\n",
    "from bisect import bisect_left\n",
    "\n",
    "class Solution:\n",
    "    def waysToPartition(self, nums: List[int], k: int) -> int:\n",
    "        prefix = [0]\n",
    "        loc = defaultdict(list)\n",
    "        \n",
    "        for i, x in enumerate(nums): \n",
    "            prefix.append(prefix[-1] + x)\n",
    "            if i < len(nums)-1: loc[prefix[-1]].append(i)\n",
    "                \n",
    "        ans, total = 0, prefix[-1]\n",
    "        if prefix[-1] % 2 == 0: ans = len(loc[total//2]) # unchanged \n",
    "        \n",
    "        for i, x in enumerate(nums): \n",
    "            cnt = 0 \n",
    "            diff = k - x\n",
    "            target = total + diff \n",
    "            if target % 2 == 0: \n",
    "                target //= 2\n",
    "                cnt += bisect_left(loc[target], i)\n",
    "                cnt += len(loc[target-diff]) - bisect_left(loc[target-diff], i)\n",
    "                \n",
    "            ans = max(ans, cnt)\n",
    "            \n",
    "        return ans"
   ]
  },
  {
   "cell_type": "code",
   "execution_count": 6,
   "metadata": {},
   "outputs": [
    {
     "data": {
      "text/plain": [
       "4"
      ]
     },
     "execution_count": 6,
     "metadata": {},
     "output_type": "execute_result"
    }
   ],
   "source": [
    "instance = Solution()\n",
    "instance.waysToPartition([22,4,-25,-20,-15,15,-16,7,19,-10,0,-13,-14], -33)"
   ]
  }
 ],
 "metadata": {
  "kernelspec": {
   "display_name": "Python 3",
   "language": "python",
   "name": "python3"
  },
  "language_info": {
   "codemirror_mode": {
    "name": "ipython",
    "version": 3
   },
   "file_extension": ".py",
   "mimetype": "text/x-python",
   "name": "python",
   "nbconvert_exporter": "python",
   "pygments_lexer": "ipython3",
   "version": "3.7.3"
  }
 },
 "nbformat": 4,
 "nbformat_minor": 2
}
