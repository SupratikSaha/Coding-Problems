{
 "cells": [
  {
   "cell_type": "markdown",
   "metadata": {},
   "source": [
    "# Divide and Conquer - O(n log n) run time, O(log n) stack space"
   ]
  },
  {
   "cell_type": "code",
   "execution_count": 2,
   "metadata": {},
   "outputs": [],
   "source": [
    "class Solution:\n",
    "    def maxSubArray(self, nums: List[int]) -> int:\n",
    "        return self.maxSubArrayHelper(nums, 0, len(nums) - 1)\n",
    "    \n",
    "    def maxSubArrayHelper(self, A, L, R) -> int:\n",
    "        if L > R:\n",
    "            return -2**31\n",
    "        M = (L + R) // 2\n",
    "        leftAns = self.maxSubArrayHelper(A, L, M - 1)\n",
    "        rightAns = self.maxSubArrayHelper(A, M + 1, R)\n",
    "        \n",
    "        lMaxSum = 0\n",
    "        total = 0\n",
    "        for i in range(M - 1, L - 1, -1):\n",
    "            total += A[i]\n",
    "            lMaxSum = max(total, lMaxSum)\n",
    "            \n",
    "        rMaxSum = 0\n",
    "        total = 0\n",
    "        for i in range(M + 1, R + 1):\n",
    "            total += A[i]\n",
    "            rMaxSum = max(total, rMaxSum)     \n",
    "            \n",
    "        return max(lMaxSum + A[M] + rMaxSum, max(leftAns, rightAns))"
   ]
  },
  {
   "cell_type": "markdown",
   "metadata": {},
   "source": [
    "# Dynamic Programming - O(n) run time, O(1) space"
   ]
  },
  {
   "cell_type": "code",
   "execution_count": null,
   "metadata": {},
   "outputs": [],
   "source": [
    "class Solution:\n",
    "    def maxSubArray(self, nums: List[int]) -> int:\n",
    "        maxEndingHere = maxSoFar = nums[0]\n",
    "        for i in range(1,len(nums)):\n",
    "            maxEndingHere = max(maxEndingHere + nums[i], nums[i])\n",
    "            maxSoFar = max(maxEndingHere, maxSoFar)\n",
    "            \n",
    "        return maxSoFar"
   ]
  }
 ],
 "metadata": {
  "kernelspec": {
   "display_name": "Python 3",
   "language": "python",
   "name": "python3"
  },
  "language_info": {
   "codemirror_mode": {
    "name": "ipython",
    "version": 3
   },
   "file_extension": ".py",
   "mimetype": "text/x-python",
   "name": "python",
   "nbconvert_exporter": "python",
   "pygments_lexer": "ipython3",
   "version": "3.7.3"
  }
 },
 "nbformat": 4,
 "nbformat_minor": 2
}
