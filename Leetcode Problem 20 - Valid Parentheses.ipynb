{
 "cells": [
  {
   "cell_type": "markdown",
   "metadata": {},
   "source": [
    "# Using a stack - O(n) run time, O(n) space"
   ]
  },
  {
   "cell_type": "code",
   "execution_count": null,
   "metadata": {},
   "outputs": [],
   "source": [
    "class Solution:\n",
    "    def isValid(self, s: str) -> bool:\n",
    "        map_brackets = {'(':')', '{':'}', '[':']'}\n",
    "        stack = []\n",
    "        \n",
    "        for char in s:\n",
    "            if char in map_brackets:\n",
    "                stack.append(map_brackets[char])\n",
    "            elif stack == []:\n",
    "                return False\n",
    "            elif stack.pop(-1) != char:\n",
    "                return False\n",
    "        \n",
    "        return stack == []"
   ]
  }
 ],
 "metadata": {
  "kernelspec": {
   "display_name": "Python 3",
   "language": "python",
   "name": "python3"
  },
  "language_info": {
   "codemirror_mode": {
    "name": "ipython",
    "version": 3
   },
   "file_extension": ".py",
   "mimetype": "text/x-python",
   "name": "python",
   "nbconvert_exporter": "python",
   "pygments_lexer": "ipython3",
   "version": "3.7.3"
  }
 },
 "nbformat": 4,
 "nbformat_minor": 2
}
