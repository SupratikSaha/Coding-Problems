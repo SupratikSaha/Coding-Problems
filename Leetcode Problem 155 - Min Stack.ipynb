{
 "cells": [
  {
   "cell_type": "markdown",
   "metadata": {},
   "source": [
    "# Extra Stack - O(n) run time, O(n) space"
   ]
  },
  {
   "cell_type": "code",
   "execution_count": 1,
   "metadata": {},
   "outputs": [],
   "source": [
    "class MinStack:\n",
    "\n",
    "    def __init__(self):\n",
    "        \"\"\"\n",
    "        initialize your data structure here.\n",
    "        \"\"\"\n",
    "        self.stack = []\n",
    "        self.min_stack = []        \n",
    "\n",
    "    def push(self, x: int) -> None:\n",
    "        length = len(self.stack)\n",
    "        min_val = min(self.min_stack[-1], x) if length > 0 else x\n",
    "        self.stack.append(x)\n",
    "        self.min_stack.append(min_val) \n",
    "\n",
    "    def pop(self) -> None:\n",
    "        length = len(self.stack)\n",
    "        if length > 0:\n",
    "            del(self.stack[-1])\n",
    "            del(self.min_stack[-1])\n",
    "        \n",
    "    def top(self) -> int:\n",
    "        length = len(self.stack)\n",
    "        if length > 0:\n",
    "            return self.stack[-1]\n",
    "        else:\n",
    "            return None\n",
    "        \n",
    "    def getMin(self) -> int:\n",
    "        length = len(self.stack)\n",
    "        if length > 0:\n",
    "            return self.min_stack[-1]\n",
    "        else:\n",
    "            return None\n",
    "        \n",
    "\n",
    "\n",
    "# Your MinStack object will be instantiated and called as such:\n",
    "# obj = MinStack()\n",
    "# obj.push(x)\n",
    "# obj.pop()\n",
    "# param_3 = obj.top()\n",
    "# param_4 = obj.getMin()"
   ]
  },
  {
   "cell_type": "markdown",
   "metadata": {},
   "source": [
    "# Extra stack with space optimization, don't push element into min stack if ts greater than current minimum value - O(n) run time, O(n) space"
   ]
  },
  {
   "cell_type": "code",
   "execution_count": 3,
   "metadata": {},
   "outputs": [],
   "source": [
    "class MinStack:\n",
    "\n",
    "    def __init__(self):\n",
    "        \"\"\"\n",
    "        initialize your data structure here.\n",
    "        \"\"\"\n",
    "        self.stack = []\n",
    "        self.min_stack = []        \n",
    "\n",
    "    def push(self, x: int) -> None:\n",
    "        length = len(self.stack)\n",
    "        self.stack.append(x)\n",
    "        if length == 0 or x <= self.min_stack[-1]:\n",
    "            self.min_stack.append(x) \n",
    "\n",
    "    def pop(self) -> None:\n",
    "        length = len(self.stack)\n",
    "        if length > 0:\n",
    "            val = self.stack[-1]\n",
    "            del(self.stack[-1])\n",
    "            if val == self.min_stack[-1]:\n",
    "                del(self.min_stack[-1])\n",
    "        \n",
    "    def top(self) -> int:\n",
    "        length = len(self.stack)\n",
    "        if length > 0:\n",
    "            return self.stack[-1]\n",
    "        else:\n",
    "            return None\n",
    "        \n",
    "    def getMin(self) -> int:\n",
    "        length = len(self.stack)\n",
    "        if length > 0:\n",
    "            return self.min_stack[-1]\n",
    "        else:\n",
    "            return None\n",
    "        \n",
    "\n",
    "\n",
    "# Your MinStack object will be instantiated and called as such:\n",
    "# obj = MinStack()\n",
    "# obj.push(x)\n",
    "# obj.pop()\n",
    "# param_3 = obj.top()\n",
    "# param_4 = obj.getMin()"
   ]
  }
 ],
 "metadata": {
  "kernelspec": {
   "display_name": "Python 3",
   "language": "python",
   "name": "python3"
  },
  "language_info": {
   "codemirror_mode": {
    "name": "ipython",
    "version": 3
   },
   "file_extension": ".py",
   "mimetype": "text/x-python",
   "name": "python",
   "nbconvert_exporter": "python",
   "pygments_lexer": "ipython3",
   "version": "3.7.3"
  }
 },
 "nbformat": 4,
 "nbformat_minor": 2
}
