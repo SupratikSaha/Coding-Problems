{
 "cells": [
  {
   "cell_type": "markdown",
   "metadata": {},
   "source": [
    "Problem Statement.\n",
    "\n",
    "Given the root of a binary tree, return the vertical order traversal of its nodes' values. (i.e., from top to bottom, column by column).\n",
    "\n",
    "If two nodes are in the same row and column, the order should be from left to right.\n",
    "\n",
    " \n",
    "\n",
    "Example 1:\n",
    "\n",
    "Input: root = [3,9,20,null,null,15,7]\n",
    "Output: [[9],[3,15],[20],[7]]\n",
    "\n",
    "Example 2:\n",
    "\n",
    "Input: root = [3,9,8,4,0,1,7]\n",
    "Output: [[4],[9],[3,0,1],[8],[7]]\n",
    "\n",
    "Example 3:\n",
    "\n",
    "Input: root = [3,9,8,4,0,1,7,null,null,null,2,5]\n",
    "Output: [[4],[9,5],[3,0,1],[8,2],[7]]\n",
    "\n",
    "Example 4:\n",
    "\n",
    "Input: root = []\n",
    "Output: []\n",
    "\n",
    " \n",
    "\n",
    "Constraints:\n",
    "\n",
    "    The number of nodes in the tree is in the range [0, 100].\n",
    "    -100 <= Node.val <= 100"
   ]
  },
  {
   "cell_type": "markdown",
   "metadata": {},
   "source": [
    "# Sort - O(N Log N) runtime, O(N) space"
   ]
  },
  {
   "cell_type": "code",
   "execution_count": 2,
   "metadata": {},
   "outputs": [],
   "source": [
    "from typing import List\n",
    "\n",
    "# Definition for a binary tree node.\n",
    "# class TreeNode:\n",
    "#     def __init__(self, val=0, left=None, right=None):\n",
    "#         self.val = val\n",
    "#         self.left = left\n",
    "#         self.right = right\n",
    "        \n",
    "class Solution:\n",
    "    def verticalOrder(self, root: TreeNode) -> List[List[int]]:\n",
    "        if not root: return []\n",
    "        \n",
    "        def getNodes(col, row, root):\n",
    "            nonlocal order\n",
    "            if not root: return\n",
    "            order += 1\n",
    "            nodeList.append((col, row, order, root.val))\n",
    "            getNodes(col-1, row+1, root.left)\n",
    "            getNodes(col+1, row+1, root.right)\n",
    "            \n",
    "        nodeList = []\n",
    "        order = -1\n",
    "        getNodes(0, 0, root)\n",
    "        nodeList.sort()\n",
    "        \n",
    "        currCol = nodeList[0][0]\n",
    "        resultList = []\n",
    "        currList = []\n",
    "        for col, row, order, val in nodeList:\n",
    "            if col == currCol:\n",
    "                currList.append(val)\n",
    "            else:\n",
    "                resultList.append(currList)\n",
    "                currCol = col\n",
    "                currList = [val]\n",
    "                \n",
    "        resultList.append(currList)\n",
    "        \n",
    "        return resultList"
   ]
  },
  {
   "cell_type": "markdown",
   "metadata": {},
   "source": [
    "# BFS - O(N) runtime, O(N) space"
   ]
  },
  {
   "cell_type": "code",
   "execution_count": 3,
   "metadata": {},
   "outputs": [],
   "source": [
    "# Definition for a binary tree node.\n",
    "# class TreeNode:\n",
    "#     def __init__(self, val=0, left=None, right=None):\n",
    "#         self.val = val\n",
    "#         self.left = left\n",
    "#         self.right = right\n",
    "class Solution:\n",
    "    def verticalOrder(self, root: TreeNode) -> List[List[int]]:\n",
    "        if root is None:\n",
    "            return []\n",
    "\n",
    "        columnTable = defaultdict(list)\n",
    "        min_column = max_column = 0\n",
    "        queue = deque([(root, 0)])\n",
    "\n",
    "        while queue:\n",
    "            node, column = queue.popleft()\n",
    "\n",
    "            if node is not None:\n",
    "                columnTable[column].append(node.val)\n",
    "                min_column = min(min_column, column)\n",
    "                max_column = max(max_column, column)\n",
    "\n",
    "                queue.append((node.left, column - 1))\n",
    "                queue.append((node.right, column + 1))\n",
    "\n",
    "        return [columnTable[x] for x in range(min_column, max_column + 1)]"
   ]
  }
 ],
 "metadata": {
  "kernelspec": {
   "display_name": "Python 3",
   "language": "python",
   "name": "python3"
  },
  "language_info": {
   "codemirror_mode": {
    "name": "ipython",
    "version": 3
   },
   "file_extension": ".py",
   "mimetype": "text/x-python",
   "name": "python",
   "nbconvert_exporter": "python",
   "pygments_lexer": "ipython3",
   "version": "3.7.3"
  }
 },
 "nbformat": 4,
 "nbformat_minor": 2
}
