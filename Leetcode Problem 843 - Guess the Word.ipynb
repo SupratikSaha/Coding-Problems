{
 "cells": [
  {
   "cell_type": "markdown",
   "metadata": {},
   "source": [
    "Problem Statement. <br/>\n",
    "\n",
    "This problem is an interactive problem new to the LeetCode platform. <br/>\n",
    "We are given a word list of unique words, each word is 6 letters long, and one word in this list is chosen as secret. <br/>\n",
    "You may call master.guess(word) to guess a word.  The guessed word should have type string and must be from the original list with 6 lowercase letters. <br/>\n",
    "This function returns an integer type, representing the number of exact matches (value and position) of your guess to the secret word.  Also, if your guess is not in the given wordlist, it will return -1 instead. <br/>\n",
    "For each test case, you have 10 guesses to guess the word. At the end of any number of calls, if you have made 10 or less calls to master.guess and at least one of these guesses was the secret, you pass the testcase. <br/>\n",
    "Besides the example test case below, there will be 5 additional test cases, each with 100 words in the word list.  The letters of each word in those testcases were chosen independently at random from 'a' to 'z', such that every word in the given word lists is unique. <br/>\n",
    "\n",
    "Example 1:\n",
    "Input: secret = \"acckzz\", wordlist = [\"acckzz\",\"ccbazz\",\"eiowzz\",\"abcczz\"] <br/>\n",
    "\n",
    "Explanation: <br/>\n",
    "master.guess(\"aaaaaa\") returns -1, because \"aaaaaa\" is not in wordlist. <br/>\n",
    "master.guess(\"acckzz\") returns 6, because \"acckzz\" is secret and has all 6 matches. <br/>\n",
    "master.guess(\"ccbazz\") returns 3, because \"ccbazz\" has 3 matches. <br/>\n",
    "master.guess(\"eiowzz\") returns 2, because \"eiowzz\" has 2 matches. <br/>\n",
    "master.guess(\"abcczz\") returns 4, because \"abcczz\" has 4 matches. <br/>\n",
    "\n",
    "We made 5 calls to master.guess and one of them was the secret, so we pass the test case. <br/>\n",
    "\n",
    "Note:  Any solutions that attempt to circumvent the judge will result in disqualification."
   ]
  },
  {
   "cell_type": "markdown",
   "metadata": {},
   "source": [
    "# Minimax with Heuristic - O(N ^ 2 * logN) runtime, O(N ^ 2) space, where N is the number of words"
   ]
  },
  {
   "cell_type": "code",
   "execution_count": 1,
   "metadata": {},
   "outputs": [],
   "source": [
    "from typing import List\n",
    "\n",
    "class Solution:\n",
    "    def findSecretWord(self, wordlist: List[str], master: 'Master') -> None:\n",
    "        \n",
    "        N = len(wordlist)\n",
    "        self.H = [[sum(a==b for a,b in zip(wordlist[i], wordlist[j]))\n",
    "                   for j in range(N)] for i in range(N)]\n",
    "\n",
    "        possible, path = range(N), ()\n",
    "        while possible:\n",
    "            guess = self.solve(possible, path)\n",
    "            matches = master.guess(wordlist[guess])\n",
    "            if matches == len(wordlist[0]): return\n",
    "            possible = [j for j in possible if self.H[guess][j] == matches]\n",
    "            path = path + (guess,)\n",
    "\n",
    "    def solve(self, possible, path = ()):\n",
    "        if len(possible) <= 2: return possible[0]\n",
    "\n",
    "        ansgrp, ansguess = possible, None\n",
    "        for guess, row in enumerate(self.H):\n",
    "            if guess not in path:\n",
    "                groups = [[] for _ in range(7)]\n",
    "                for j in possible:\n",
    "                    if j != guess:\n",
    "                        groups[row[j]].append(j)\n",
    "                maxgroup = max(groups, key = len)\n",
    "                if len(maxgroup) < len(ansgrp):\n",
    "                    ansgrp, ansguess = maxgroup, guess\n",
    "\n",
    "        return ansguess"
   ]
  },
  {
   "cell_type": "markdown",
   "metadata": {},
   "source": [
    "# Elimination - O(N * logN) runtime, O(1) space"
   ]
  },
  {
   "cell_type": "code",
   "execution_count": 3,
   "metadata": {},
   "outputs": [],
   "source": [
    "from typing import List\n",
    "\n",
    "class Solution:\n",
    "    def findSecretWord(self, wordlist: List[str], master: 'Master') -> None:\n",
    "        \n",
    "        def countMatches(w1, w2):\n",
    "            return sum(1 for c1, c2 in zip(w1, w2) if c1 == c2)\n",
    "        \n",
    "        def wordScore(char_pos_to_count):\n",
    "            return lambda word: sum(char_pos_to_count[(c, i)] for i, c in enumerate(word))\n",
    "                    \n",
    "        if len(wordlist) == 1:\n",
    "            master.guess(wordlist[0])\n",
    "        \n",
    "        possible = list(wordlist) # for some reason there's an error in master.guess() if wordlist is directly modified\n",
    "        \n",
    "        char_pos_to_count = defaultdict(lambda: 0)\n",
    "\n",
    "        for word in possible:\n",
    "            for pos, char in enumerate(word):\n",
    "                char_pos_to_count[(char, pos)] += 1\n",
    "\n",
    "        possible.sort(key=wordScore(char_pos_to_count))\n",
    "        \n",
    "        for _ in range(10):\n",
    "            \n",
    "            if len(possible) == 1:\n",
    "                master.guess(possible[0])\n",
    "                return\n",
    "            \n",
    "            guessed = possible.pop()\n",
    "            verdict = master.guess(guessed)\n",
    "            \n",
    "            if verdict == 6:\n",
    "                return\n",
    "            \n",
    "            possible = [w for w in possible if countMatches(w, guessed) == verdict]\n",
    "        \n",
    "        return"
   ]
  },
  {
   "cell_type": "code",
   "execution_count": null,
   "metadata": {},
   "outputs": [],
   "source": [
    "instance = Solution()\n",
    "instance.findSecretWord(\"acckzz\", [\"acckzz\",\"ccbazz\",\"eiowzz\",\"abcczz\"])"
   ]
  }
 ],
 "metadata": {
  "kernelspec": {
   "display_name": "Python 3",
   "language": "python",
   "name": "python3"
  },
  "language_info": {
   "codemirror_mode": {
    "name": "ipython",
    "version": 3
   },
   "file_extension": ".py",
   "mimetype": "text/x-python",
   "name": "python",
   "nbconvert_exporter": "python",
   "pygments_lexer": "ipython3",
   "version": "3.7.3"
  }
 },
 "nbformat": 4,
 "nbformat_minor": 2
}
