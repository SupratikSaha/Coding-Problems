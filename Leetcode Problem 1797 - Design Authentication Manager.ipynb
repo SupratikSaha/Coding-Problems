{
 "cells": [
  {
   "cell_type": "markdown",
   "metadata": {},
   "source": [
    "Problem Statement.\n",
    "\n",
    "There is an authentication system that works with authentication tokens. For each session, the user will receive a new authentication token that will expire timeToLive seconds after the currentTime. If the token is renewed, the expiry time will be extended to expire timeToLive seconds after the (potentially different) currentTime.\n",
    "\n",
    "Implement the AuthenticationManager class:\n",
    "\n",
    "    AuthenticationManager(int timeToLive) constructs the AuthenticationManager and sets the timeToLive.\n",
    "    generate(string tokenId, int currentTime) generates a new token with the given tokenId at the given currentTime in seconds.\n",
    "    renew(string tokenId, int currentTime) renews the unexpired token with the given tokenId at the given currentTime in seconds. If there are no unexpired tokens with the given tokenId, the request is ignored, and nothing happens.\n",
    "    countUnexpiredTokens(int currentTime) returns the number of unexpired tokens at the given currentTime.\n",
    "\n",
    "Note that if a token expires at time t, and another action happens on time t (renew or countUnexpiredTokens), the expiration takes place before the other actions.\n",
    "\n",
    " \n",
    "\n",
    "Example 1:\n",
    "\n",
    "Input\n",
    "[\"AuthenticationManager\", \"renew\", \"generate\", \"countUnexpiredTokens\", \"generate\", \"renew\", \"renew\", \"countUnexpiredTokens\"]\n",
    "[[5], [\"aaa\", 1], [\"aaa\", 2], [6], [\"bbb\", 7], [\"aaa\", 8], [\"bbb\", 10], [15]]\n",
    "Output\n",
    "[null, null, null, 1, null, null, null, 0]\n",
    "\n",
    "Explanation\n",
    "AuthenticationManager authenticationManager = new AuthenticationManager(5); // Constructs the AuthenticationManager with timeToLive = 5 seconds.\n",
    "authenticationManager.renew(\"aaa\", 1); // No token exists with tokenId \"aaa\" at time 1, so nothing happens.\n",
    "authenticationManager.generate(\"aaa\", 2); // Generates a new token with tokenId \"aaa\" at time 2.\n",
    "authenticationManager.countUnexpiredTokens(6); // The token with tokenId \"aaa\" is the only unexpired one at time 6, so return 1.\n",
    "authenticationManager.generate(\"bbb\", 7); // Generates a new token with tokenId \"bbb\" at time 7.\n",
    "authenticationManager.renew(\"aaa\", 8); // The token with tokenId \"aaa\" expired at time 7, and 8 >= 7, so at time 8 the renew request is ignored, and nothing happens.\n",
    "authenticationManager.renew(\"bbb\", 10); // The token with tokenId \"bbb\" is unexpired at time 10, so the renew request is fulfilled and now the token will expire at time 15.\n",
    "authenticationManager.countUnexpiredTokens(15); // The token with tokenId \"bbb\" expires at time 15, and the token with tokenId \"aaa\" expired at time 7, so currently no token is unexpired, so return 0.\n",
    "\n",
    " \n",
    "\n",
    "Constraints:\n",
    "\n",
    "    1 <= timeToLive <= 108\n",
    "    1 <= currentTime <= 108\n",
    "    1 <= tokenId.length <= 5\n",
    "    tokenId consists only of lowercase letters.\n",
    "    All calls to generate will contain unique values of tokenId.\n",
    "    The values of currentTime across all the function calls will be strictly increasing.\n",
    "    At most 2000 calls will be made to all functions combined."
   ]
  },
  {
   "cell_type": "markdown",
   "metadata": {},
   "source": [
    "# HashMap - O(N) count, O(1) everything else runtime, O(N) space"
   ]
  },
  {
   "cell_type": "code",
   "execution_count": 1,
   "metadata": {},
   "outputs": [],
   "source": [
    "class AuthenticationManager:\n",
    "\n",
    "    def __init__(self, timeToLive: int):\n",
    "        self.tokenDict = {}\n",
    "        self.timeToLive = timeToLive\n",
    "\n",
    "    def generate(self, tokenId: str, currentTime: int) -> None:\n",
    "        self.tokenDict[tokenId] = currentTime + self.timeToLive\n",
    "\n",
    "    def renew(self, tokenId: str, currentTime: int) -> None:\n",
    "        if tokenId in self.tokenDict:\n",
    "            if self.tokenDict[tokenId] > currentTime:\n",
    "                self.tokenDict[tokenId] = currentTime + self.timeToLive\n",
    "            else:\n",
    "                self.tokenDict.pop(tokenId)\n",
    "\n",
    "    def countUnexpiredTokens(self, currentTime: int) -> int:\n",
    "        self.tokenDict = {id_: t for id_, t in self.tokenDict.items() if t > currentTime}\n",
    "                \n",
    "        return len(self.tokenDict)"
   ]
  },
  {
   "cell_type": "markdown",
   "metadata": {},
   "source": [
    "# OrderedDict - O(1) average all, O(N) space"
   ]
  },
  {
   "cell_type": "code",
   "execution_count": 3,
   "metadata": {},
   "outputs": [],
   "source": [
    "from collections import OrderedDict\n",
    "\n",
    "class AuthenticationManager:\n",
    "\n",
    "    def __init__(self, timeToLive: int):\n",
    "        self.expiry = OrderedDict()\n",
    "        self.life = timeToLive\n",
    "\n",
    "    def generate(self, tokenId: str, currentTime: int) -> None:\n",
    "        self.evict_expired(currentTime)\n",
    "        self.expiry[tokenId] = self.life + currentTime\n",
    "\n",
    "    def renew(self, tokenId: str, currentTime: int) -> None:\n",
    "        self.evict_expired(currentTime)\n",
    "        if tokenId in self.expiry:\n",
    "            self.expiry.move_to_end(tokenId) # necessary to move to the end to keep expiry time in ascending order.\n",
    "            self.expiry[tokenId] = self.life + currentTime\n",
    "\n",
    "    def countUnexpiredTokens(self, currentTime: int) -> int:\n",
    "        self.evict_expired(currentTime)\n",
    "        return len(self.expiry)\n",
    "    \n",
    "    def evict_expired(self, currentTime: int) -> None:\n",
    "        while self.expiry and next(iter(self.expiry.values())) <= currentTime:\n",
    "            self.expiry.popitem(last=False)"
   ]
  }
 ],
 "metadata": {
  "kernelspec": {
   "display_name": "Python 3",
   "language": "python",
   "name": "python3"
  },
  "language_info": {
   "codemirror_mode": {
    "name": "ipython",
    "version": 3
   },
   "file_extension": ".py",
   "mimetype": "text/x-python",
   "name": "python",
   "nbconvert_exporter": "python",
   "pygments_lexer": "ipython3",
   "version": "3.7.3"
  }
 },
 "nbformat": 4,
 "nbformat_minor": 2
}
