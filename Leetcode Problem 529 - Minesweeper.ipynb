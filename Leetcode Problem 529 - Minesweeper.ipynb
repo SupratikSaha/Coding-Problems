{
 "cells": [
  {
   "cell_type": "markdown",
   "metadata": {},
   "source": [
    "Problem Statement.\n",
    "\n",
    "Let's play the minesweeper game (Wikipedia, online game)!\n",
    "\n",
    "You are given an m x n char matrix board representing the game board where:\n",
    "\n",
    "    'M' represents an unrevealed mine,\n",
    "    'E' represents an unrevealed empty square,\n",
    "    'B' represents a revealed blank square that has no adjacent mines (i.e., above, below, left, right, and all 4 diagonals),\n",
    "    digit ('1' to '8') represents how many mines are adjacent to this revealed square, and\n",
    "    'X' represents a revealed mine.\n",
    "\n",
    "You are also given an integer array click where click = [clickr, clickc] represents the next click position among all the unrevealed squares ('M' or 'E').\n",
    "\n",
    "Return the board after revealing this position according to the following rules:\n",
    "\n",
    "    If a mine 'M' is revealed, then the game is over. You should change it to 'X'.\n",
    "    If an empty square 'E' with no adjacent mines is revealed, then change it to a revealed blank 'B' and all of its adjacent unrevealed squares should be revealed recursively.\n",
    "    If an empty square 'E' with at least one adjacent mine is revealed, then change it to a digit ('1' to '8') representing the number of adjacent mines.\n",
    "    Return the board when no more squares will be revealed.\n",
    "\n",
    " \n",
    "\n",
    "Example 1:\n",
    "\n",
    "Input: board = [[\"E\",\"E\",\"E\",\"E\",\"E\"],[\"E\",\"E\",\"M\",\"E\",\"E\"],[\"E\",\"E\",\"E\",\"E\",\"E\"],[\"E\",\"E\",\"E\",\"E\",\"E\"]], click = [3,0]\n",
    "Output: [[\"B\",\"1\",\"E\",\"1\",\"B\"],[\"B\",\"1\",\"M\",\"1\",\"B\"],[\"B\",\"1\",\"1\",\"1\",\"B\"],[\"B\",\"B\",\"B\",\"B\",\"B\"]]\n",
    "\n",
    "Example 2:\n",
    "\n",
    "Input: board = [[\"B\",\"1\",\"E\",\"1\",\"B\"],[\"B\",\"1\",\"M\",\"1\",\"B\"],[\"B\",\"1\",\"1\",\"1\",\"B\"],[\"B\",\"B\",\"B\",\"B\",\"B\"]], click = [1,2]\n",
    "Output: [[\"B\",\"1\",\"E\",\"1\",\"B\"],[\"B\",\"1\",\"X\",\"1\",\"B\"],[\"B\",\"1\",\"1\",\"1\",\"B\"],[\"B\",\"B\",\"B\",\"B\",\"B\"]]\n",
    "\n",
    " \n",
    "\n",
    "Constraints:\n",
    "\n",
    "    m == board.length\n",
    "    n == board[i].length\n",
    "    1 <= m, n <= 50\n",
    "    board[i][j] is either 'M', 'E', 'B', or a digit from '1' to '8'.\n",
    "    click.length == 2\n",
    "    0 <= clickr < m\n",
    "    0 <= clickc < n\n",
    "    board[clickr][clickc] is either 'M' or 'E'."
   ]
  },
  {
   "cell_type": "markdown",
   "metadata": {},
   "source": [
    "# BFS - O(M * N) runtime, O(M * N) space"
   ]
  },
  {
   "cell_type": "code",
   "execution_count": 1,
   "metadata": {},
   "outputs": [],
   "source": [
    "from typing import List\n",
    "from collections import deque\n",
    "\n",
    "class Solution:\n",
    "    def updateBoard(self, board: List[List[str]], click: List[int]) -> List[List[str]]:\n",
    "        m, n = len(board), len(board[0])\n",
    "        x, y = click\n",
    "        \n",
    "        queue = deque([(x, y)])\n",
    "        \n",
    "        while queue:\n",
    "            r, c = queue.popleft()\n",
    "            if board[r][c] == 'M': \n",
    "                board[r][c] = 'X'\n",
    "                return board\n",
    "            elif board[r][c] == 'E':\n",
    "                countBombs = 0\n",
    "                callList = []\n",
    "                for r1, c1 in [[r-1, c-1], [r-1, c], [r-1, c+1], [r, c-1], [r, c+1], \n",
    "                               [r+1, c-1], [r+1, c], [r+1, c+1]]:\n",
    "                    if 0 <= r1 < m and 0 <= c1 < n and board[r1][c1] in {'M', 'E'}:\n",
    "                        if board[r1][c1] == 'M': countBombs += 1\n",
    "                        elif not countBombs and board[r1][c1] == 'E': \n",
    "                            callList.append((r1, c1))\n",
    "                            \n",
    "                if countBombs: \n",
    "                    board[r][c] = str(countBombs)\n",
    "                else:\n",
    "                    board[r][c] = 'B'\n",
    "                    queue += callList\n",
    "\n",
    "        return board"
   ]
  },
  {
   "cell_type": "code",
   "execution_count": 2,
   "metadata": {},
   "outputs": [
    {
     "data": {
      "text/plain": [
       "[['B', '1', 'E', '1', 'B'],\n",
       " ['B', '1', 'X', '1', 'B'],\n",
       " ['B', '1', '1', '1', 'B'],\n",
       " ['B', 'B', 'B', 'B', 'B']]"
      ]
     },
     "execution_count": 2,
     "metadata": {},
     "output_type": "execute_result"
    }
   ],
   "source": [
    "instance = Solution()\n",
    "instance.updateBoard([[\"B\",\"1\",\"E\",\"1\",\"B\"],[\"B\",\"1\",\"M\",\"1\",\"B\"],[\"B\",\"1\",\"1\",\"1\",\"B\"],[\"B\",\"B\",\"B\",\"B\",\"B\"]], \n",
    "                     [1,2])"
   ]
  }
 ],
 "metadata": {
  "kernelspec": {
   "display_name": "Python 3",
   "language": "python",
   "name": "python3"
  },
  "language_info": {
   "codemirror_mode": {
    "name": "ipython",
    "version": 3
   },
   "file_extension": ".py",
   "mimetype": "text/x-python",
   "name": "python",
   "nbconvert_exporter": "python",
   "pygments_lexer": "ipython3",
   "version": "3.7.3"
  }
 },
 "nbformat": 4,
 "nbformat_minor": 2
}
