{
 "cells": [
  {
   "cell_type": "markdown",
   "metadata": {},
   "source": [
    "    Problem Statement.\n",
    "\n",
    "    There are n servers numbered from 0 to n-1 connected by undirected server-to-server connections forming a network where connections[i] = [a, b] represents a connection between servers a and b. Any server can reach any other server directly or indirectly through the network.\n",
    "\n",
    "    A critical connection is a connection that, if removed, will make some server unable to reach some other server.\n",
    "\n",
    "    Return all critical connections in the network in any order.\n",
    "\n",
    "\n",
    "\n",
    "    Example 1:\n",
    "\n",
    "    Input: n = 4, connections = [[0,1],[1,2],[2,0],[1,3]]\n",
    "    Output: [[1,3]]\n",
    "    Explanation: [[3,1]] is also accepted.\n",
    "\n",
    "\n",
    "\n",
    "    Constraints:\n",
    "\n",
    "        1 <= n <= 10^5\n",
    "        n-1 <= connections.length <= 10^5\n",
    "        connections[i][0] != connections[i][1]\n",
    "        There are no repeated connections."
   ]
  },
  {
   "cell_type": "markdown",
   "metadata": {},
   "source": [
    "# BFS Time Limit Exceeded - O(N ^ 2) runtime, O(N) space"
   ]
  },
  {
   "cell_type": "code",
   "execution_count": 1,
   "metadata": {},
   "outputs": [],
   "source": [
    "from typing import Dict, List, Set\n",
    "from collections import deque\n",
    "\n",
    "class Solution:\n",
    "    def criticalConnections(self, n: int, connections: List[List[int]]) -> List[List[int]]:\n",
    "        \n",
    "        graph = {g:set() for g in range(n)}\n",
    "        \n",
    "        for c in connections:\n",
    "            graph[c[0]].add(c[1])\n",
    "            graph[c[1]].add(c[0])\n",
    "        \n",
    "        res = []\n",
    "        seen = set()\n",
    "        for g in graph:\n",
    "            if len(graph[g]) == 1:\n",
    "                res.append([g, list(graph[g])[0]])\n",
    "                seen.add((g, list(graph[g])[0]))\n",
    "        \n",
    "        for c in connections:\n",
    "            if tuple(c) in seen or (c[1], c[0]) in seen:\n",
    "                continue\n",
    "                \n",
    "            graph[c[0]].remove(c[1])\n",
    "            graph[c[1]].remove(c[0])\n",
    "            \n",
    "            if not self.isConnected(graph, n):\n",
    "                res.append(c)\n",
    "            \n",
    "            graph[c[0]].add(c[1])\n",
    "            graph[c[1]].add(c[0])\n",
    "                \n",
    "        return res\n",
    "        \n",
    "    def isConnected(self, graph: Dict[int, Set[int]], n: int) -> bool:\n",
    "        visited = {0}\n",
    "        queue = deque(list(graph[0]))\n",
    "        while queue:\n",
    "            node = queue.popleft()\n",
    "            visited.add(node)\n",
    "            for c in graph[node]:\n",
    "                if c not in visited:\n",
    "                    queue.append(c)\n",
    "                    \n",
    "        return True if len(visited) == n else False"
   ]
  },
  {
   "cell_type": "markdown",
   "metadata": {},
   "source": [
    "# DFS using depths - O(E) runtime, O(E) space"
   ]
  },
  {
   "cell_type": "code",
   "execution_count": 2,
   "metadata": {},
   "outputs": [],
   "source": [
    "from typing import Dict, List, Set\n",
    "\n",
    "class Solution:\n",
    "    def criticalConnections(self, n: int, connections: List[List[int]]) -> List[List[int]]:\n",
    "        \n",
    "        # graph construction\n",
    "        graph = [[] for i in range(n)]\n",
    "        for u, v in connections:\n",
    "            graph[u].append(v)\n",
    "            graph[v].append(u)\n",
    "        \n",
    "        # depth initialization\n",
    "        depths = [-1] * n\n",
    "        results = []\n",
    "        \n",
    "        \"\"\"\n",
    "        visit every node exactly once, the starting point does not matter\n",
    "        (as long as graph is connected)\n",
    "        \"\"\"\n",
    "        def dfs(prev_node, cur_node, cur_depth):\n",
    "            depths[cur_node] = cur_depth\n",
    "            min_depth = cur_depth\n",
    "            for neighbor in graph[cur_node]:\n",
    "                if neighbor == prev_node: continue\n",
    "                \"\"\"\n",
    "                find the temporary depth reached by a neighbor\n",
    "                \"\"\"\n",
    "                temp_depth = depths[neighbor]\n",
    "                \"\"\"\n",
    "                if the node is unexplored,  assign it's depth to current depth + 1\n",
    "                \"\"\"\n",
    "                if temp_depth == -1:\n",
    "                    temp_depth = dfs(cur_node, neighbor, cur_depth+1)\n",
    "                \"\"\"\n",
    "                if the returned depth is deeper than the \"current depth\", then it is a critical connection\n",
    "                else, update the min_depth\n",
    "                NOTE: we are comparing the \"returned depth from neighbor (temp_dpeth)\" to the \"current depth reached by DFS\" rather than the \"min_depth\" that is going to be returned.\n",
    "                because once the temp_depth is returned by a neighbor, it is the minimum depth of it. \n",
    "                \"\"\"\n",
    "                if temp_depth > cur_depth:\n",
    "                    results.append([cur_node, neighbor])\n",
    "                else:\n",
    "                    min_depth = min(min_depth, temp_depth)\n",
    "            \"\"\"\n",
    "            return the minimum depth reached by a node\n",
    "            \"\"\"\n",
    "            depths[cur_node] = min_depth\n",
    "            return min_depth\n",
    "        \n",
    "        # start at node-0\n",
    "        dfs(None, 0, 0)\n",
    "        \n",
    "        return results"
   ]
  },
  {
   "cell_type": "code",
   "execution_count": 3,
   "metadata": {},
   "outputs": [
    {
     "data": {
      "text/plain": [
       "[[1, 3]]"
      ]
     },
     "execution_count": 3,
     "metadata": {},
     "output_type": "execute_result"
    }
   ],
   "source": [
    "instance = Solution()\n",
    "instance.criticalConnections(4, [[0,1],[1,2],[2,0],[1,3]])"
   ]
  }
 ],
 "metadata": {
  "kernelspec": {
   "display_name": "Python 3",
   "language": "python",
   "name": "python3"
  },
  "language_info": {
   "codemirror_mode": {
    "name": "ipython",
    "version": 3
   },
   "file_extension": ".py",
   "mimetype": "text/x-python",
   "name": "python",
   "nbconvert_exporter": "python",
   "pygments_lexer": "ipython3",
   "version": "3.7.3"
  }
 },
 "nbformat": 4,
 "nbformat_minor": 2
}
