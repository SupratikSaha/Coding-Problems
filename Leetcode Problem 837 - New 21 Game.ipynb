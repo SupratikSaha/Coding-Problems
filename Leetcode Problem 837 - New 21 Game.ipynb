{
 "cells": [
  {
   "cell_type": "markdown",
   "metadata": {},
   "source": [
    "Problem Statement.\n",
    "\n",
    "Alice plays the following game, loosely based on the card game \"21\".\n",
    "\n",
    "Alice starts with 0 points and draws numbers while she has less than k points. During each draw, she gains an integer number of points randomly from the range [1, maxPts], where maxPts is an integer. Each draw is independent and the outcomes have equal probabilities.\n",
    "\n",
    "Alice stops drawing numbers when she gets k or more points.\n",
    "\n",
    "Return the probability that Alice has n or fewer points.\n",
    "\n",
    "Answers within 10-5 of the actual answer are considered accepted.\n",
    "\n",
    " \n",
    "\n",
    "Example 1:\n",
    "\n",
    "Input: n = 10, k = 1, maxPts = 10\n",
    "Output: 1.00000\n",
    "Explanation: Alice gets a single card, then stops.\n",
    "\n",
    "Example 2:\n",
    "\n",
    "Input: n = 6, k = 1, maxPts = 10\n",
    "Output: 0.60000\n",
    "Explanation: Alice gets a single card, then stops.\n",
    "In 6 out of 10 possibilities, she is at or below 6 points.\n",
    "\n",
    "Example 3:\n",
    "\n",
    "Input: n = 21, k = 17, maxPts = 10\n",
    "Output: 0.73278\n",
    "\n",
    " \n",
    "\n",
    "Constraints:\n",
    "\n",
    "    0 <= k <= n <= 104\n",
    "    1 <= maxPts <= 104"
   ]
  },
  {
   "cell_type": "markdown",
   "metadata": {},
   "source": [
    "# Dynamic Programming - O(N + K) runtime, O(N) space"
   ]
  },
  {
   "cell_type": "code",
   "execution_count": 1,
   "metadata": {},
   "outputs": [],
   "source": [
    "class Solution:\n",
    "    def new21Game(self, N: int, K: int, maxPts: int) -> float:\n",
    "        dp = [0 for i in range(N+2)]\n",
    "        dp[0] = 1\n",
    "        dp[1] = -1\n",
    "        ans = 1\n",
    "        curprob = 0\n",
    "        for i in range(0,K):\n",
    "            curprob = curprob + dp[i]\n",
    "            if i+maxPts > N:\n",
    "                ans -= curprob*(i+maxPts-N)/maxPts\n",
    "                dp[i+1] += curprob/maxPts\n",
    "            else:\n",
    "                dp[i+1] += curprob/maxPts\n",
    "                dp[i+maxPts+1] -= curprob/maxPts\n",
    "            \n",
    "        return ans"
   ]
  },
  {
   "cell_type": "code",
   "execution_count": 3,
   "metadata": {},
   "outputs": [
    {
     "data": {
      "text/plain": [
       "0.7327777870686081"
      ]
     },
     "execution_count": 3,
     "metadata": {},
     "output_type": "execute_result"
    }
   ],
   "source": [
    "instance = Solution()\n",
    "instance.new21Game(21, 17, 10)"
   ]
  }
 ],
 "metadata": {
  "kernelspec": {
   "display_name": "Python 3",
   "language": "python",
   "name": "python3"
  },
  "language_info": {
   "codemirror_mode": {
    "name": "ipython",
    "version": 3
   },
   "file_extension": ".py",
   "mimetype": "text/x-python",
   "name": "python",
   "nbconvert_exporter": "python",
   "pygments_lexer": "ipython3",
   "version": "3.7.3"
  }
 },
 "nbformat": 4,
 "nbformat_minor": 2
}
