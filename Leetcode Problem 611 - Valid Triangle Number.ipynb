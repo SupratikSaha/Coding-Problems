{
 "cells": [
  {
   "cell_type": "markdown",
   "metadata": {},
   "source": [
    "Problem Statement.\n",
    "\n",
    "Given an integer array nums, return the number of triplets chosen from the array that can make triangles if we take them as side lengths of a triangle.\n",
    "\n",
    " \n",
    "\n",
    "Example 1:\n",
    "\n",
    "Input: nums = [2,2,3,4]\n",
    "Output: 3\n",
    "Explanation: Valid combinations are: \n",
    "2,3,4 (using the first 2)\n",
    "2,3,4 (using the second 2)\n",
    "2,2,3\n",
    "\n",
    "Example 2:\n",
    "\n",
    "Input: nums = [4,2,3,4]\n",
    "Output: 4\n",
    "\n",
    " \n",
    "\n",
    "Constraints:\n",
    "\n",
    "    1 <= nums.length <= 1000\n",
    "    0 <= nums[i] <= 1000"
   ]
  },
  {
   "cell_type": "markdown",
   "metadata": {},
   "source": [
    "# Sort and 3 Loops - O(N ^ 3) runtime, O(1) space"
   ]
  },
  {
   "cell_type": "code",
   "execution_count": 3,
   "metadata": {},
   "outputs": [],
   "source": [
    "from typing import List\n",
    "\n",
    "class Solution:\n",
    "    def triangleNumber(self, nums: List[int]) -> int:\n",
    "        count, n = 0, len(nums)\n",
    "        nums.sort()\n",
    "        \n",
    "        for a in range(n-2):\n",
    "            for b in range(a+1, n-1):\n",
    "                for c in range(b+1, n):\n",
    "                    if nums[a] + nums[b] <= nums[c]: break\n",
    "                    count += 1\n",
    "                \n",
    "        return count"
   ]
  },
  {
   "cell_type": "markdown",
   "metadata": {},
   "source": [
    "# Sort and Binary Search - O(N ^ 2 * Log N) runtime, O(N) space"
   ]
  },
  {
   "cell_type": "code",
   "execution_count": 2,
   "metadata": {},
   "outputs": [],
   "source": [
    "from typing import List\n",
    "import bisect\n",
    "\n",
    "class Solution:\n",
    "    def triangleNumber(self, nums: List[int]) -> int:\n",
    "        nums.sort()\n",
    "        res = 0\n",
    "        \n",
    "        for i, a in enumerate(nums):\n",
    "            for j in range(i + 1, len(nums)):\n",
    "                b = nums[j]\n",
    "                # a + b > c\n",
    "                k = bisect.bisect_left(nums, a + b)\n",
    "                res += max(k - j - 1, 0)\n",
    "        return res"
   ]
  },
  {
   "cell_type": "markdown",
   "metadata": {},
   "source": [
    "# Linear Scan - O(N ^ 2) runtime, O(N) space"
   ]
  },
  {
   "cell_type": "code",
   "execution_count": 1,
   "metadata": {},
   "outputs": [],
   "source": [
    "from typing import List\n",
    "\n",
    "class Solution:\n",
    "    def triangleNumber(self, nums: List[int]) -> int:\n",
    "        count, n = 0, len(nums)\n",
    "        nums.sort()\n",
    "        \n",
    "        for a in range(n-2):\n",
    "            if nums[a] != 0:\n",
    "                c = a + 2\n",
    "                for b in range(a+1, n-1):\n",
    "                    while c < n and nums[a] + nums[b] > nums[c]:\n",
    "                        c += 1\n",
    "                    count += c - b - 1\n",
    "                \n",
    "        return count"
   ]
  },
  {
   "cell_type": "code",
   "execution_count": 4,
   "metadata": {},
   "outputs": [
    {
     "data": {
      "text/plain": [
       "3"
      ]
     },
     "execution_count": 4,
     "metadata": {},
     "output_type": "execute_result"
    }
   ],
   "source": [
    "instance = Solution()\n",
    "instance.triangleNumber( [2,2,3,4])"
   ]
  }
 ],
 "metadata": {
  "kernelspec": {
   "display_name": "Python 3",
   "language": "python",
   "name": "python3"
  },
  "language_info": {
   "codemirror_mode": {
    "name": "ipython",
    "version": 3
   },
   "file_extension": ".py",
   "mimetype": "text/x-python",
   "name": "python",
   "nbconvert_exporter": "python",
   "pygments_lexer": "ipython3",
   "version": "3.7.3"
  }
 },
 "nbformat": 4,
 "nbformat_minor": 2
}
