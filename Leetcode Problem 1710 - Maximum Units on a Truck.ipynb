{
 "cells": [
  {
   "cell_type": "markdown",
   "metadata": {},
   "source": [
    "    Problem Statement. \n",
    "    You are assigned to put some amount of boxes onto one truck. You are given a 2D array boxTypes, where boxTypes[i] = [numberOfBoxesi, numberOfUnitsPerBoxi]:\n",
    "\n",
    "        numberOfBoxesi is the number of boxes of type i.\n",
    "        numberOfUnitsPerBoxi is the number of units in each box of the type i.\n",
    "\n",
    "    You are also given an integer truckSize, which is the maximum number of boxes that can be put on the truck. You can choose any boxes to put on the truck as long as the number of boxes does not exceed truckSize.\n",
    "\n",
    "    Return the maximum total number of units that can be put on the truck.\n",
    "\n",
    "\n",
    "\n",
    "    Example 1:\n",
    "\n",
    "    Input: boxTypes = [[1,3],[2,2],[3,1]], truckSize = 4\n",
    "    Output: 8\n",
    "    Explanation: There are:\n",
    "    - 1 box of the first type that contains 3 units.\n",
    "    - 2 boxes of the second type that contain 2 units each.\n",
    "    - 3 boxes of the third type that contain 1 unit each.\n",
    "    You can take all the boxes of the first and second types, and one box of the third type.\n",
    "    The total number of units will be = (1 * 3) + (2 * 2) + (1 * 1) = 8.\n",
    "\n",
    "    Example 2:\n",
    "\n",
    "    Input: boxTypes = [[5,10],[2,5],[4,7],[3,9]], truckSize = 10\n",
    "    Output: 91\n",
    "\n",
    "\n",
    "\n",
    "    Constraints:\n",
    "\n",
    "        1 <= boxTypes.length <= 1000\n",
    "        1 <= numberOfBoxesi, numberOfUnitsPerBoxi <= 1000\n",
    "        1 <= truckSize <= 106m"
   ]
  },
  {
   "cell_type": "markdown",
   "metadata": {},
   "source": [
    "# Sort - O(N * logN) runtime, O(N) space"
   ]
  },
  {
   "cell_type": "code",
   "execution_count": 1,
   "metadata": {},
   "outputs": [],
   "source": [
    "from typing import List\n",
    "\n",
    "class Solution:\n",
    "    def maximumUnits(self, boxTypes: List[List[int]], truckSize: int) -> int:\n",
    "        \n",
    "        boxTypes = sorted(boxTypes, key=lambda x: -x[1])\n",
    "        \n",
    "        count, res = 0, 0\n",
    "        for box in boxTypes:\n",
    "            if box[0] < truckSize - count:\n",
    "                count += box[0]\n",
    "                res += box[0] * box[1]\n",
    "            else:\n",
    "                res += (truckSize - count) * box[1]\n",
    "                break\n",
    "                \n",
    "        return res"
   ]
  },
  {
   "cell_type": "code",
   "execution_count": 2,
   "metadata": {},
   "outputs": [
    {
     "data": {
      "text/plain": [
       "91"
      ]
     },
     "execution_count": 2,
     "metadata": {},
     "output_type": "execute_result"
    }
   ],
   "source": [
    "instance = Solution()\n",
    "instance.maximumUnits([[5,10],[2,5],[4,7],[3,9]], 10)"
   ]
  }
 ],
 "metadata": {
  "kernelspec": {
   "display_name": "Python 3",
   "language": "python",
   "name": "python3"
  },
  "language_info": {
   "codemirror_mode": {
    "name": "ipython",
    "version": 3
   },
   "file_extension": ".py",
   "mimetype": "text/x-python",
   "name": "python",
   "nbconvert_exporter": "python",
   "pygments_lexer": "ipython3",
   "version": "3.7.3"
  }
 },
 "nbformat": 4,
 "nbformat_minor": 2
}
