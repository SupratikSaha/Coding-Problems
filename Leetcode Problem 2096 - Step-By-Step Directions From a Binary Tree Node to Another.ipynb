{
 "cells": [
  {
   "cell_type": "markdown",
   "metadata": {},
   "source": [
    "Problem Statement.\n",
    "\n",
    "You are given the root of a binary tree with n nodes. Each node is uniquely assigned a value from 1 to n. You are also given an integer startValue representing the value of the start node s, and a different integer destValue representing the value of the destination node t.\n",
    "\n",
    "Find the shortest path starting from node s and ending at node t. Generate step-by-step directions of such path as a string consisting of only the uppercase letters 'L', 'R', and 'U'. Each letter indicates a specific direction:\n",
    "\n",
    "    'L' means to go from a node to its left child node.\n",
    "    'R' means to go from a node to its right child node.\n",
    "    'U' means to go from a node to its parent node.\n",
    "\n",
    "Return the step-by-step directions of the shortest path from node s to node t.\n",
    "\n",
    " \n",
    "\n",
    "Example 1:\n",
    "\n",
    "Input: root = [5,1,2,3,null,6,4], startValue = 3, destValue = 6\n",
    "Output: \"UURL\"\n",
    "Explanation: The shortest path is: 3 → 1 → 5 → 2 → 6.\n",
    "\n",
    "Example 2:\n",
    "\n",
    "Input: root = [2,1], startValue = 2, destValue = 1\n",
    "Output: \"L\"\n",
    "Explanation: The shortest path is: 2 → 1.\n",
    "\n",
    " \n",
    "\n",
    "Constraints:\n",
    "\n",
    "    The number of nodes in the tree is n.\n",
    "    2 <= n <= 105\n",
    "    1 <= Node.val <= n\n",
    "    All the values in the tree are unique.\n",
    "    1 <= startValue, destValue <= n\n",
    "    startValue != destValue"
   ]
  },
  {
   "cell_type": "markdown",
   "metadata": {},
   "source": [
    "# Parent Dict - Time Limit Exceeded - O(N) runtime, O(N) space"
   ]
  },
  {
   "cell_type": "code",
   "execution_count": 1,
   "metadata": {},
   "outputs": [],
   "source": [
    "from typing import Optional\n",
    "\n",
    "# Definition for a binary tree node.\n",
    "# class TreeNode:\n",
    "#     def __init__(self, val=0, left=None, right=None):\n",
    "#         self.val = val\n",
    "#         self.left = left\n",
    "#         self.right = right\n",
    "\n",
    "class Solution:\n",
    "    def getDirections(self, root: Optional[TreeNode], startValue: int, destValue: int) -> str:\n",
    "        \n",
    "        def getPar(node, par):\n",
    "            nonlocal startNode\n",
    "            if not node: return\n",
    "            \n",
    "            parDict[node] = par\n",
    "            \n",
    "            if node.val == startValue: startNode = node\n",
    "            \n",
    "            getPar(node.left, node)\n",
    "            getPar(node.right, node)\n",
    "            \n",
    "        \n",
    "        parDict = {}\n",
    "        startNode = None\n",
    "        getPar(root, None)\n",
    "        \n",
    "        \n",
    "        visited = {startNode}\n",
    "        queue = deque([(startNode, [])])\n",
    "        dirDict = {0: \"L\", 1: \"R\", 2: \"U\"}\n",
    "        while queue:\n",
    "            curNode, curList = queue.popleft()\n",
    "            \n",
    "            for i, nei in enumerate([curNode.left, curNode.right, parDict[curNode]]):\n",
    "                if nei and nei not in visited:\n",
    "                    if nei.val == destValue: return \"\".join(curList + [dirDict[i]])\n",
    "                    visited.add(nei)\n",
    "                    queue.append((nei, curList + [dirDict[i]]))"
   ]
  },
  {
   "cell_type": "markdown",
   "metadata": {},
   "source": [
    "# Lowest Common Ancestor - O(N) runtime O(N) space"
   ]
  },
  {
   "cell_type": "code",
   "execution_count": 2,
   "metadata": {},
   "outputs": [],
   "source": [
    "from typing import Optional\n",
    "\n",
    "# Definition for a binary tree node.\n",
    "# class TreeNode:\n",
    "#     def __init__(self, val=0, left=None, right=None):\n",
    "#         self.val = val\n",
    "#         self.left = left\n",
    "#         self.right = right\n",
    "\n",
    "class Solution:\n",
    "    def getDirections(self, root: Optional[TreeNode], startValue: int, destValue: int) -> str:\n",
    "        \n",
    "        def lca(node): \n",
    "            \"\"\"Return lowest common ancestor of start and dest nodes.\"\"\"\n",
    "            if not node or node.val in (startValue , destValue): return node \n",
    "            left, right = lca(node.left), lca(node.right)\n",
    "            return node if left and right else left or right\n",
    "        \n",
    "        root = lca(root) # only this sub-tree matters\n",
    "        \n",
    "        ps = pd = \"\"\n",
    "        stack = [(root, \"\")]\n",
    "        while stack: \n",
    "            node, path = stack.pop()\n",
    "            \n",
    "            if node.val == startValue: ps = \"U\"*len(path) \n",
    "            elif node.val == destValue: pd = path\n",
    "                \n",
    "            if node.left: stack.append((node.left, path + \"L\"))\n",
    "            if node.right: stack.append((node.right, path + \"R\"))\n",
    "                \n",
    "        return ps + pd"
   ]
  }
 ],
 "metadata": {
  "kernelspec": {
   "display_name": "Python 3",
   "language": "python",
   "name": "python3"
  },
  "language_info": {
   "codemirror_mode": {
    "name": "ipython",
    "version": 3
   },
   "file_extension": ".py",
   "mimetype": "text/x-python",
   "name": "python",
   "nbconvert_exporter": "python",
   "pygments_lexer": "ipython3",
   "version": "3.7.3"
  }
 },
 "nbformat": 4,
 "nbformat_minor": 2
}
