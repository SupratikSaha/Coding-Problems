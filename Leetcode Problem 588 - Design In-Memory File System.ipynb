{
 "cells": [
  {
   "cell_type": "markdown",
   "metadata": {},
   "source": [
    "    Problem Statement.\n",
    "\n",
    "    Design an in-memory file system to simulate the following functions:\n",
    "\n",
    "    ls: Given a path in string format. If it is a file path, return a list that only contains this file's name. If it is a directory path, return the list of file and directory names in this directory. Your output (file and directory names together) should in lexicographic order.\n",
    "\n",
    "    mkdir: Given a directory path that does not exist, you should make a new directory according to the path. If the middle directories in the path don't exist either, you should create them as well. This function has void return type.\n",
    "\n",
    "    addContentToFile: Given a file path and file content in string format. If the file doesn't exist, you need to create that file containing given content. If the file already exists, you need to append given content to original content. This function has void return type.\n",
    "\n",
    "    readContentFromFile: Given a file path, return its content in string format.\n",
    "\n",
    "\n",
    "\n",
    "    Example:\n",
    "\n",
    "    Input: \n",
    "    [\"FileSystem\",\"ls\",\"mkdir\",\"addContentToFile\",\"ls\",\"readContentFromFile\"]\n",
    "    [[],[\"/\"],[\"/a/b/c\"],[\"/a/b/c/d\",\"hello\"],[\"/\"],[\"/a/b/c/d\"]]\n",
    "\n",
    "    Output:\n",
    "    [null,[],null,null,[\"a\"],\"hello\"]\n",
    "\n",
    "    Explanation:\n",
    "    filesystem\n",
    "\n",
    "\n",
    "\n",
    "    Note:\n",
    "\n",
    "        You can assume all file or directory paths are absolute paths which begin with / and do not end with / except that the path is just \"/\".\n",
    "        You can assume that all operations will be passed valid parameters and users will not attempt to retrieve file content or list a directory or file that does not exist.\n",
    "        You can assume that all directory names and file names only contain lower-case letters, and same names won't exist in the same directory.\n",
    "\n"
   ]
  },
  {
   "cell_type": "markdown",
   "metadata": {},
   "source": [
    "# HashMap - ls - O(m+n+klog(k)), others - O(m + n) runtime, O(k ^ n) space, where m refers to the length of the input string, n refers to the depth of the last directory level in the given input, k refers to the number of entries(files+subdirectories) in the last level directory"
   ]
  },
  {
   "cell_type": "code",
   "execution_count": 4,
   "metadata": {},
   "outputs": [],
   "source": [
    "from typing import List\n",
    "from collections import defaultdict\n",
    "\n",
    "class Node:\n",
    "    def __init__(self):\n",
    "        self.child=defaultdict(Node)\n",
    "        self.content=\"\"\n",
    "        \n",
    "class FileSystem(object):\n",
    "\n",
    "    def __init__(self):\n",
    "        self.root=Node()\n",
    "        \n",
    "    def find(self,path):#find and return node at path.\n",
    "        curr=self.root\n",
    "        if len(path)==1:\n",
    "            return self.root\n",
    "        for word in path.split(\"/\")[1:]:\n",
    "            curr=curr.child[word]\n",
    "        return curr\n",
    "        \n",
    "    def ls(self, path):\n",
    "        curr=self.find(path)\n",
    "        if curr.content:#file path,return file name\n",
    "            return [path.split('/')[-1]]\n",
    "        return sorted(curr.child.keys())\n",
    "\n",
    "    def mkdir(self, path):\n",
    "        self.find(path)\n",
    "\n",
    "    def addContentToFile(self, filePath, content):\n",
    "        curr=self.find(filePath)\n",
    "        curr.content+=content\n",
    "\n",
    "    def readContentFromFile(self, filePath):\n",
    "        curr=self.find(filePath)\n",
    "        return curr.content"
   ]
  },
  {
   "cell_type": "code",
   "execution_count": 5,
   "metadata": {},
   "outputs": [
    {
     "name": "stdout",
     "output_type": "stream",
     "text": [
      "[]\n",
      "['c']\n",
      "['a', 'file']\n",
      "content\n"
     ]
    }
   ],
   "source": [
    "obj = FileSystem()\n",
    "print(obj.ls(\"/\"))\n",
    "obj.mkdir(\"/a/b/c\")\n",
    "print(obj.ls(\"/a/b\"))\n",
    "obj.addContentToFile(\"/file\",\"content\")\n",
    "print(obj.ls(\"/\"))\n",
    "print(obj.readContentFromFile(\"/file\"))"
   ]
  }
 ],
 "metadata": {
  "kernelspec": {
   "display_name": "Python 3",
   "language": "python",
   "name": "python3"
  },
  "language_info": {
   "codemirror_mode": {
    "name": "ipython",
    "version": 3
   },
   "file_extension": ".py",
   "mimetype": "text/x-python",
   "name": "python",
   "nbconvert_exporter": "python",
   "pygments_lexer": "ipython3",
   "version": "3.7.3"
  }
 },
 "nbformat": 4,
 "nbformat_minor": 2
}
