{
 "cells": [
  {
   "cell_type": "markdown",
   "metadata": {},
   "source": [
    "    Problem Statement.\n",
    "\n",
    "    (This problem is an interactive problem.)\n",
    "\n",
    "    A row-sorted binary matrix means that all elements are 0 or 1 and each row of the matrix is sorted in non-decreasing order.\n",
    "\n",
    "    Given a row-sorted binary matrix binaryMatrix, return the index (0-indexed) of the leftmost column with a 1 in it. If such an index does not exist, return -1.\n",
    "\n",
    "    You can't access the Binary Matrix directly. You may only access the matrix using a BinaryMatrix interface:\n",
    "\n",
    "        BinaryMatrix.get(row, col) returns the element of the matrix at index (row, col) (0-indexed).\n",
    "        BinaryMatrix.dimensions() returns the dimensions of the matrix as a list of 2 elements [rows, cols], which means the matrix is rows x cols.\n",
    "\n",
    "    Submissions making more than 1000 calls to BinaryMatrix.get will be judged Wrong Answer. Also, any solutions that attempt to circumvent the judge will result in disqualification.\n",
    "\n",
    "    For custom testing purposes, the input will be the entire binary matrix mat. You will not have access to the binary matrix directly.\n",
    "\n",
    "\n",
    "\n",
    "    Example 1:\n",
    "\n",
    "    Input: mat = [[0,0],[1,1]]\n",
    "    Output: 0\n",
    "\n",
    "    Example 2:\n",
    "\n",
    "    Input: mat = [[0,0],[0,1]]\n",
    "    Output: 1\n",
    "\n",
    "    Example 3:\n",
    "\n",
    "    Input: mat = [[0,0],[0,0]]\n",
    "    Output: -1\n",
    "\n",
    "    Example 4:\n",
    "\n",
    "    Input: mat = [[0,0,0,1],[0,0,1,1],[0,1,1,1]]\n",
    "    Output: 1\n",
    "\n",
    "\n",
    "\n",
    "    Constraints:\n",
    "\n",
    "        rows == mat.length\n",
    "        cols == mat[i].length\n",
    "        1 <= rows, cols <= 100\n",
    "        mat[i][j] is either 0 or 1.\n",
    "        mat[i] is sorted in non-decreasing order."
   ]
  },
  {
   "cell_type": "markdown",
   "metadata": {},
   "source": [
    "# Binary Search - O(M * log N) runtime, O(1) space"
   ]
  },
  {
   "cell_type": "code",
   "execution_count": null,
   "metadata": {},
   "outputs": [],
   "source": [
    "# \"\"\"\n",
    "# This is BinaryMatrix's API interface.\n",
    "# You should not implement it, or speculate about its implementation\n",
    "# \"\"\"\n",
    "#class BinaryMatrix(object):\n",
    "#    def get(self, row: int, col: int) -> int:\n",
    "#    def dimensions(self) -> list[]:\n",
    "\n",
    "class Solution:\n",
    "    def leftMostColumnWithOne(self, binaryMatrix: 'BinaryMatrix') -> int:\n",
    "        rows, cols = binaryMatrix.dimensions()\n",
    "        \n",
    "        res = float('inf')\n",
    "        for row in reversed(range(rows)):\n",
    "            l, r = 0, cols - 1\n",
    "            pos = -1\n",
    "            while l <= r:\n",
    "                mid = l + (r - l) // 2\n",
    "                val = binaryMatrix.get(row, mid)\n",
    "                if val == 1:\n",
    "                    pos = mid\n",
    "                    r = mid - 1\n",
    "                else:\n",
    "                    l = mid + 1\n",
    "                    \n",
    "            if pos > -1: res = min(res, pos) \n",
    "            \n",
    "        return -1 if res == float('inf') else res"
   ]
  },
  {
   "cell_type": "markdown",
   "metadata": {},
   "source": [
    "# Greedy - O(M + N) runtime, O(1) space"
   ]
  },
  {
   "cell_type": "code",
   "execution_count": null,
   "metadata": {},
   "outputs": [],
   "source": [
    "# \"\"\"\n",
    "# This is BinaryMatrix's API interface.\n",
    "# You should not implement it, or speculate about its implementation\n",
    "# \"\"\"\n",
    "#class BinaryMatrix(object):\n",
    "#    def get(self, row: int, col: int) -> int:\n",
    "#    def dimensions(self) -> list[]:\n",
    "\n",
    "class Solution:\n",
    "    def leftMostColumnWithOne(self, binaryMatrix: 'BinaryMatrix') -> int:\n",
    "        rows, cols = binaryMatrix.dimensions()\n",
    "        \n",
    "        # Set pointers to the top-right corner.\n",
    "        current_row = 0\n",
    "        current_col = cols - 1\n",
    "        \n",
    "        # Repeat the search until it goes off the grid.\n",
    "        while current_row < rows and current_col >= 0:\n",
    "            if binaryMatrix.get(current_row, current_col) == 0:\n",
    "                current_row += 1\n",
    "            else:\n",
    "                current_col -= 1\n",
    "        \n",
    "        # If we never left the last column, it must have been all 0's.\n",
    "        return current_col + 1 if current_col != cols - 1 else -1"
   ]
  }
 ],
 "metadata": {
  "kernelspec": {
   "display_name": "Python 3",
   "language": "python",
   "name": "python3"
  },
  "language_info": {
   "codemirror_mode": {
    "name": "ipython",
    "version": 3
   },
   "file_extension": ".py",
   "mimetype": "text/x-python",
   "name": "python",
   "nbconvert_exporter": "python",
   "pygments_lexer": "ipython3",
   "version": "3.7.3"
  }
 },
 "nbformat": 4,
 "nbformat_minor": 2
}
