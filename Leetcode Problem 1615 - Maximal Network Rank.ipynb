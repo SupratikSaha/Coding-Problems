{
 "cells": [
  {
   "cell_type": "markdown",
   "metadata": {},
   "source": [
    "Problem Statement\n",
    "\n",
    "There is an infrastructure of n cities with some number of roads connecting these cities. Each roads[i] = [ai, bi] indicates that there is a bidirectional road between cities ai and bi.\n",
    "\n",
    "The network rank of two different cities is defined as the total number of directly connected roads to either city. If a road is directly connected to both cities, it is only counted once.\n",
    "\n",
    "The maximal network rank of the infrastructure is the maximum network rank of all pairs of different cities.\n",
    "\n",
    "Given the integer n and the array roads, return the maximal network rank of the entire infrastructure.\n",
    "\n",
    " \n",
    "\n",
    "Example 1:\n",
    "\n",
    "Input: n = 4, roads = [[0,1],[0,3],[1,2],[1,3]]\n",
    "Output: 4\n",
    "Explanation: The network rank of cities 0 and 1 is 4 as there are 4 roads that are connected to either 0 or 1. The road between 0 and 1 is only counted once.\n",
    "\n",
    "Example 2:\n",
    "\n",
    "Input: n = 5, roads = [[0,1],[0,3],[1,2],[1,3],[2,3],[2,4]]\n",
    "Output: 5\n",
    "Explanation: There are 5 roads that are connected to cities 1 or 2.\n",
    "\n",
    "Example 3:\n",
    "\n",
    "Input: n = 8, roads = [[0,1],[1,2],[2,3],[2,4],[5,6],[5,7]]\n",
    "Output: 5\n",
    "Explanation: The network rank of 2 and 5 is 5. Notice that all the cities do not have to be connected.\n",
    "\n",
    " \n",
    "\n",
    "Constraints:\n",
    "\n",
    "    2 <= n <= 100\n",
    "    0 <= roads.length <= n * (n - 1) / 2\n",
    "    roads[i].length == 2\n",
    "    0 <= ai, bi <= n-1\n",
    "    ai != bi\n",
    "    Each pair of cities has at most one road connecting them."
   ]
  },
  {
   "cell_type": "markdown",
   "metadata": {},
   "source": [
    "# Brute Force - O(E ^ 3 + V) runtime, O(E) space"
   ]
  },
  {
   "cell_type": "code",
   "execution_count": 1,
   "metadata": {},
   "outputs": [],
   "source": [
    "from typing import List\n",
    "\n",
    "class Solution:\n",
    "    def maximalNetworkRank(self, n: int, roads: List[List[int]]) -> int:\n",
    "        result = 0\n",
    "        graph = {i: set() for i in range(n)}\n",
    "        for road in roads:\n",
    "            i, j = road\n",
    "            graph[i].add((i,j))\n",
    "            graph[j].add((i,j))\n",
    "            \n",
    "        for i in range(n):\n",
    "            for j in range(i+1, n):\n",
    "                curSet = graph[i].union(graph[j])\n",
    "                result = max(result, len(curSet))\n",
    "                \n",
    "                \n",
    "        return result"
   ]
  },
  {
   "cell_type": "markdown",
   "metadata": {},
   "source": [
    "# Sort and Graph - O(V ^ 2 + E) runtime, O(V + E) space"
   ]
  },
  {
   "cell_type": "code",
   "execution_count": 8,
   "metadata": {},
   "outputs": [],
   "source": [
    "from typing import List\n",
    "from collections import defaultdict\n",
    "\n",
    "class Solution:\n",
    "    def maximalNetworkRank(self, n: int, roads: List[List[int]]) -> int:\n",
    "        g = defaultdict(list)\n",
    "        \n",
    "        for u, v in roads:\n",
    "            g[u] += v,\n",
    "            g[v] += u,\n",
    "        \n",
    "        most = sorted(g.items(), key=lambda p: len(p[1]), reverse=True)\n",
    "        most_freqs = [k for k, v in most if len(v) == len(most[0][1])]\n",
    "        mx = 0\n",
    "        \n",
    "        for u in most_freqs:\n",
    "            num_u = len(g[u])\n",
    "            \n",
    "            for node in range(n):\n",
    "                if node == u:\n",
    "                    continue\n",
    "                \n",
    "                neis = len(g[node])\n",
    "                if u in g[node]:\n",
    "                    neis -= 1\n",
    "                \n",
    "                mx = max(mx, num_u + neis)\n",
    "        \n",
    "        return mx"
   ]
  },
  {
   "cell_type": "code",
   "execution_count": 9,
   "metadata": {},
   "outputs": [
    {
     "data": {
      "text/plain": [
       "5"
      ]
     },
     "execution_count": 9,
     "metadata": {},
     "output_type": "execute_result"
    }
   ],
   "source": [
    "instance = Solution()\n",
    "instance.maximalNetworkRank(5, [[0,1],[0,3],[1,2],[1,3],[2,3],[2,4]])"
   ]
  }
 ],
 "metadata": {
  "kernelspec": {
   "display_name": "Python 3",
   "language": "python",
   "name": "python3"
  },
  "language_info": {
   "codemirror_mode": {
    "name": "ipython",
    "version": 3
   },
   "file_extension": ".py",
   "mimetype": "text/x-python",
   "name": "python",
   "nbconvert_exporter": "python",
   "pygments_lexer": "ipython3",
   "version": "3.7.3"
  }
 },
 "nbformat": 4,
 "nbformat_minor": 2
}
