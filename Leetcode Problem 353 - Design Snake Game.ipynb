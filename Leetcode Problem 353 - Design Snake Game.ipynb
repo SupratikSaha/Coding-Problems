{
 "cells": [
  {
   "cell_type": "markdown",
   "metadata": {},
   "source": [
    "    Problem Statement\n",
    "\n",
    "    Design a Snake game that is played on a device with screen size height x width. Play the game online if you are not familiar with the game.\n",
    "\n",
    "    The snake is initially positioned at the top left corner (0, 0) with a length of 1 unit.\n",
    "\n",
    "    You are given an array food where food[i] = (ri, ci) is the row and column position of a piece of food that the snake can eat. When a snake eats a piece of food, its length and the game's score both increase by 1.\n",
    "\n",
    "    Each piece of food appears one by one on the screen, meaning the second piece of food will not appear until the snake eats the first piece of food.\n",
    "\n",
    "    When a piece of food appears on the screen, it is guaranteed that it will not appear on a block occupied by the snake.\n",
    "\n",
    "    The game is over if the snake goes out of bounds (hits a wall) or if its head occupies a space that its body occupies after moving (i.e. a snake of length 4 cannot run into itself).\n",
    "\n",
    "    Implement the SnakeGame class:\n",
    "\n",
    "        SnakeGame(int width, int height, int[][] food) Initializes the object with a screen of size height x width and the positions of the food.\n",
    "        int move(String direction) Returns the score of the game after applying one direction move by the snake. If the game is over, return -1.\n",
    "\n",
    "\n",
    "\n",
    "    Example 1:\n",
    "\n",
    "    Input\n",
    "    [\"SnakeGame\", \"move\", \"move\", \"move\", \"move\", \"move\", \"move\"]\n",
    "    [[3, 2, [[1, 2], [0, 1]]], [\"R\"], [\"D\"], [\"R\"], [\"U\"], [\"L\"], [\"U\"]]\n",
    "    Output\n",
    "    [null, 0, 0, 1, 1, 2, -1]\n",
    "\n",
    "    Explanation\n",
    "    SnakeGame snakeGame = new SnakeGame(3, 2, [[1, 2], [0, 1]]);\n",
    "    snakeGame.move(\"R\"); // return 0\n",
    "    snakeGame.move(\"D\"); // return 0\n",
    "    snakeGame.move(\"R\"); // return 1, snake eats the first piece of food. The second piece of food appears\n",
    "                         // at (0, 1).\n",
    "    snakeGame.move(\"U\"); // return 1\n",
    "    snakeGame.move(\"L\"); // return 2, snake eats the second food. No more food appears.\n",
    "    snakeGame.move(\"U\"); // return -1, game over because snake collides with border\n",
    "\n",
    "\n",
    "\n",
    "    Constraints:\n",
    "\n",
    "        1 <= width, height <= 104\n",
    "        1 <= food.length <= 50\n",
    "        food[i].length == 2\n",
    "        0 <= ri < height\n",
    "        0 <= ci < width\n",
    "        direction.length == 1\n",
    "        direction is 'U', 'D', 'L', or 'R'.\n",
    "        At most 104 calls will be made to move.m"
   ]
  },
  {
   "cell_type": "markdown",
   "metadata": {},
   "source": [
    "# Deque and Set - O(1) runtime, O((W * H) + N) space, where W and H are width and height of the gamespace and N is the number of moves"
   ]
  },
  {
   "cell_type": "code",
   "execution_count": 1,
   "metadata": {},
   "outputs": [],
   "source": [
    "from typing import List\n",
    "from collections import deque\n",
    "\n",
    "class SnakeGame:\n",
    "\n",
    "    def __init__(self, width: int, height: int, food: List[List[int]]):\n",
    "        \"\"\"\n",
    "        Initialize your data structure here.\n",
    "        @param width - screen width\n",
    "        @param height - screen height \n",
    "        @param food - A list of food positions\n",
    "        E.g food = [[1,1], [1,0]] means the first food is positioned at [1,1], the second is at [1,0].\n",
    "        \"\"\"\n",
    "        self.width = width\n",
    "        self.height = height\n",
    "        self.food = food\n",
    "        self.score = 0\n",
    "        self.snakeList = deque([(0, 0)])\n",
    "        self.snakeSet = {(0, 0)}\n",
    "        self.directionMap = {'U': [-1,0], 'D': [1,0], 'L': [0,-1], 'R': [0,1]}\n",
    "        \n",
    "\n",
    "    def move(self, direction: str) -> int:\n",
    "        \"\"\"\n",
    "        Moves the snake.\n",
    "        @param direction - 'U' = Up, 'L' = Left, 'R' = Right, 'D' = Down \n",
    "        @return The game's score after the move. Return -1 if game over. \n",
    "        Game over when snake crosses the screen boundary or bites its body.\n",
    "        \"\"\"\n",
    "\n",
    "        pos = list(self.snakeList[-1])\n",
    "        pos[0] += self.directionMap[direction][0]\n",
    "        pos[1] += self.directionMap[direction][1]\n",
    "        if pos[0] < 0 or pos[1] < 0 or pos[0] == self.height or pos[1] == self.width: return -1\n",
    "\n",
    "        if self.score < len(self.food) and pos == self.food[self.score]:\n",
    "            self.score += 1\n",
    "        else:\n",
    "            old = self.snakeList.popleft()\n",
    "            self.snakeSet.remove(tuple(old))\n",
    "        \n",
    "        if tuple(pos) in self.snakeSet: return -1\n",
    "        self.snakeList.append(pos)\n",
    "        self.snakeSet.add(tuple(pos))\n",
    "        \n",
    "        return self.score"
   ]
  },
  {
   "cell_type": "code",
   "execution_count": 2,
   "metadata": {},
   "outputs": [
    {
     "name": "stdout",
     "output_type": "stream",
     "text": [
      "0\n",
      "0\n",
      "1\n",
      "1\n",
      "2\n",
      "-1\n"
     ]
    }
   ],
   "source": [
    "obj = SnakeGame(3, 2, [[1,2],[0,1]])\n",
    "print(obj.move('R'))\n",
    "print(obj.move('D'))\n",
    "print(obj.move('R'))\n",
    "print(obj.move('U'))\n",
    "print(obj.move('L'))\n",
    "print(obj.move('U'))"
   ]
  }
 ],
 "metadata": {
  "kernelspec": {
   "display_name": "Python 3",
   "language": "python",
   "name": "python3"
  },
  "language_info": {
   "codemirror_mode": {
    "name": "ipython",
    "version": 3
   },
   "file_extension": ".py",
   "mimetype": "text/x-python",
   "name": "python",
   "nbconvert_exporter": "python",
   "pygments_lexer": "ipython3",
   "version": "3.7.3"
  }
 },
 "nbformat": 4,
 "nbformat_minor": 2
}
