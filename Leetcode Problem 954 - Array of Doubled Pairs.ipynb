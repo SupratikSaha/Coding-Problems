{
 "cells": [
  {
   "cell_type": "markdown",
   "metadata": {},
   "source": [
    "Problem Statement.\n",
    "\n",
    "Given an integer array of even length arr, return true if it is possible to reorder arr such that arr[2 * i + 1] = 2 * arr[2 * i] for every 0 <= i < len(arr) / 2, or false otherwise.\n",
    "\n",
    " \n",
    "\n",
    "Example 1:\n",
    "\n",
    "Input: arr = [3,1,3,6]\n",
    "Output: false\n",
    "\n",
    "Example 2:\n",
    "\n",
    "Input: arr = [2,1,2,6]\n",
    "Output: false\n",
    "\n",
    "Example 3:\n",
    "\n",
    "Input: arr = [4,-2,2,-4]\n",
    "Output: true\n",
    "Explanation: We can take two groups, [-2,-4] and [2,4] to form [-2,-4,2,4] or [2,4,-2,-4].\n",
    "\n",
    "Example 4:\n",
    "\n",
    "Input: arr = [1,2,4,16,8,4]\n",
    "Output: false\n",
    "\n",
    " \n",
    "\n",
    "Constraints:\n",
    "\n",
    "    2 <= arr.length <= 3 * 10^4\n",
    "    arr.length is even.\n",
    "    -10^5 <= arr[i] <= 10^5"
   ]
  },
  {
   "cell_type": "markdown",
   "metadata": {},
   "source": [
    "# Time Limit Exceeded: O(N!) runtime, O(N) space"
   ]
  },
  {
   "cell_type": "code",
   "execution_count": 1,
   "metadata": {},
   "outputs": [],
   "source": [
    "from typing import List\n",
    "from collections import Counter\n",
    "\n",
    "class Solution:\n",
    "    def canReorderDoubled(self, arr: List[int]) -> bool:\n",
    "        counter = Counter(arr)\n",
    "        n = len(arr)\n",
    "        \n",
    "        def checkReorderDouble(idx, pairs):\n",
    "            if pairs == n // 2: return True\n",
    "            if idx == n: return False\n",
    "            \n",
    "            doubled = arr[idx] * 2\n",
    "            if (arr[idx] == 0 and counter[0] >= 2) or (arr[idx] != 0 and counter[arr[idx]] > 0 and doubled in counter and counter[doubled] > 0):\n",
    "                counter[arr[idx]] -= 1\n",
    "                counter[doubled] -= 1\n",
    "                if checkReorderDouble(idx+1, pairs+1): return True\n",
    "                counter[arr[idx]] += 1\n",
    "                counter[doubled] += 1\n",
    "            \n",
    "            if checkReorderDouble(idx+1, pairs): return True\n",
    "            \n",
    "            return False\n",
    "        \n",
    "        return checkReorderDouble(0, 0)"
   ]
  },
  {
   "cell_type": "markdown",
   "metadata": {},
   "source": [
    "# Greedy - O(N * Log N) runtime, O(N) space"
   ]
  },
  {
   "cell_type": "code",
   "execution_count": 4,
   "metadata": {},
   "outputs": [],
   "source": [
    "from typing import List\n",
    "from collections import Counter\n",
    "\n",
    "class Solution:\n",
    "    def canReorderDoubled(self, arr: List[int]) -> bool:\n",
    "        count = Counter(arr)\n",
    "\n",
    "        for x in sorted(arr, key = abs):\n",
    "            if count[x] == 0: continue\n",
    "            if count[2*x] == 0: return False\n",
    "            count[x] -= 1\n",
    "            count[2*x] -= 1\n",
    "\n",
    "        return True"
   ]
  },
  {
   "cell_type": "markdown",
   "metadata": {},
   "source": [
    "# Fastest Greedy - O(N + K * Log K) runtime, O(N) space where K is the number of unique integers"
   ]
  },
  {
   "cell_type": "code",
   "execution_count": 6,
   "metadata": {},
   "outputs": [],
   "source": [
    "from typing import List\n",
    "from collections import Counter\n",
    "\n",
    "class Solution:\n",
    "    def canReorderDoubled(self, arr: List[int]) -> bool:\n",
    "        count = Counter(arr)\n",
    "\n",
    "        for x in sorted(count, key = abs):\n",
    "            if count[x] > count[2 * x]: return False\n",
    "            count[2 * x] -= count[x]\n",
    "            \n",
    "        return True"
   ]
  },
  {
   "cell_type": "code",
   "execution_count": 7,
   "metadata": {},
   "outputs": [
    {
     "data": {
      "text/plain": [
       "True"
      ]
     },
     "execution_count": 7,
     "metadata": {},
     "output_type": "execute_result"
    }
   ],
   "source": [
    "instance = Solution()\n",
    "instance.canReorderDoubled([4,-2,2,-4])"
   ]
  }
 ],
 "metadata": {
  "kernelspec": {
   "display_name": "Python 3",
   "language": "python",
   "name": "python3"
  },
  "language_info": {
   "codemirror_mode": {
    "name": "ipython",
    "version": 3
   },
   "file_extension": ".py",
   "mimetype": "text/x-python",
   "name": "python",
   "nbconvert_exporter": "python",
   "pygments_lexer": "ipython3",
   "version": "3.7.3"
  }
 },
 "nbformat": 4,
 "nbformat_minor": 2
}
