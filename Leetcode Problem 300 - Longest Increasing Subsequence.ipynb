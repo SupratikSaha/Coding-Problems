{
 "cells": [
  {
   "cell_type": "markdown",
   "metadata": {},
   "source": [
    "# Brute Force - O(2^n) runtime, O(n^2) space"
   ]
  },
  {
   "cell_type": "code",
   "execution_count": null,
   "metadata": {},
   "outputs": [],
   "source": [
    "class Solution:\n",
    "    def lengthOfLIS(self, nums: List[int]) -> int:\n",
    "        return self.computeLength(nums, -2**31, 0)\n",
    "    \n",
    "    def computeLength(self, nums: List[int], prev: int, curpos: int) -> int:\n",
    "        if curpos == len(nums):\n",
    "            return 0\n",
    "        \n",
    "        taken = 0\n",
    "        if nums[curpos] > prev:\n",
    "            taken = 1 + self.computeLength(nums, nums[curpos], curpos + 1)\n",
    "            \n",
    "        nottaken = self.computeLength(nums, prev, curpos + 1)\n",
    "        \n",
    "        return max(taken, nottaken)"
   ]
  },
  {
   "cell_type": "markdown",
   "metadata": {},
   "source": [
    "# Recursion with Memoization - O(n^2) runtime, O(n^2) space"
   ]
  },
  {
   "cell_type": "code",
   "execution_count": null,
   "metadata": {},
   "outputs": [],
   "source": [
    "class Solution:\n",
    "    def lengthOfLIS(self, nums: List[int]) -> int:\n",
    "        memo = [[-1 for x in range(len(nums))] for y in range(len(nums) + 1)]\n",
    "        return self.computeLength(nums, -1, 0, memo)\n",
    "    \n",
    "    def computeLength(self, nums: List[int], previndex: int, curpos: int, memo) -> int:\n",
    "        if curpos == len(nums):\n",
    "            return 0\n",
    "        \n",
    "        if memo[previndex + 1][curpos] >= 0:\n",
    "            return memo[previndex + 1][curpos]\n",
    "        \n",
    "        taken = 0\n",
    "        if previndex < 0 or nums[curpos] > nums[previndex]:\n",
    "            taken = 1 + self.computeLength(nums, curpos, curpos + 1, memo)\n",
    "            \n",
    "        nottaken = self.computeLength(nums, previndex, curpos + 1, memo)\n",
    "        \n",
    "        memo[previndex + 1][curpos] = max(taken, nottaken)\n",
    "        \n",
    "        return memo[previndex + 1][curpos]"
   ]
  },
  {
   "cell_type": "markdown",
   "metadata": {},
   "source": [
    "# Dynamic Programming - O(n^2) runtime, O(n) space"
   ]
  },
  {
   "cell_type": "code",
   "execution_count": null,
   "metadata": {},
   "outputs": [],
   "source": [
    "class Solution:\n",
    "    def lengthOfLIS(self, nums: List[int]) -> int:\n",
    "        if len(nums) == 0:\n",
    "            return 0\n",
    "        \n",
    "        dp = [0] * len(nums)\n",
    "        \n",
    "        dp[0] = 1\n",
    "        maxans = 1\n",
    "        \n",
    "        for i in range(1, len(dp)):\n",
    "            maxval = 0\n",
    "            for j in range(i):\n",
    "                if nums[i] > nums[j]:\n",
    "                    maxval = max(maxval, dp[j])\n",
    "                    \n",
    "            dp[i] = maxval + 1\n",
    "            maxans = max(maxans, dp[i])\n",
    "            \n",
    "        return maxans"
   ]
  },
  {
   "cell_type": "markdown",
   "metadata": {},
   "source": [
    "# Dynamic Programming with Binary Search - O(nlogn) runtime, O(n) space"
   ]
  },
  {
   "cell_type": "code",
   "execution_count": null,
   "metadata": {},
   "outputs": [],
   "source": [
    "class Solution:\n",
    "    def lengthOfLIS(self, nums: List[int]) -> int:\n",
    "        sub = []\n",
    "        for val in nums:\n",
    "            pos = self.binarySearch(sub, val)\n",
    "            if pos == len(sub):\n",
    "                sub.append(val)\n",
    "            else:\n",
    "                sub[pos] = val\n",
    "        return len(sub)  \n",
    "        \n",
    "    def binarySearch(self, sub: List[int], val: int) -> int:\n",
    "        lo, hi = 0, len(sub)-1\n",
    "        while(lo <= hi):\n",
    "            mid = lo + (hi - lo)//2\n",
    "            if sub[mid] < val:\n",
    "                lo = mid + 1\n",
    "            elif val < sub[mid]:\n",
    "                   hi = mid - 1\n",
    "            else:\n",
    "                return mid\n",
    "        return lo"
   ]
  }
 ],
 "metadata": {
  "kernelspec": {
   "display_name": "Python 3",
   "language": "python",
   "name": "python3"
  },
  "language_info": {
   "codemirror_mode": {
    "name": "ipython",
    "version": 3
   },
   "file_extension": ".py",
   "mimetype": "text/x-python",
   "name": "python",
   "nbconvert_exporter": "python",
   "pygments_lexer": "ipython3",
   "version": "3.7.3"
  }
 },
 "nbformat": 4,
 "nbformat_minor": 2
}
