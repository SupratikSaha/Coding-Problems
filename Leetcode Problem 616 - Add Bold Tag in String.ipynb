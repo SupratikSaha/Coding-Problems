{
 "cells": [
  {
   "cell_type": "markdown",
   "metadata": {},
   "source": [
    "Problem Statement.\n",
    "\n",
    "Given a string s and a list of strings dict, you need to add a closed pair of bold tag <b> and </b> to wrap the substrings in s that exist in dict. If two such substrings overlap, you need to wrap them together by only one pair of closed bold tag. Also, if two substrings wrapped by bold tags are consecutive, you need to combine them.\n",
    "\n",
    "Example 1:\n",
    "\n",
    "Input: \n",
    "s = \"abcxyz123\"\n",
    "dict = [\"abc\",\"123\"]\n",
    "Output:\n",
    "\"<b>abc</b>xyz<b>123</b>\"\n",
    "\n",
    " \n",
    "\n",
    "Example 2:\n",
    "\n",
    "Input: \n",
    "s = \"aaabbcc\"\n",
    "dict = [\"aaa\",\"aab\",\"bc\"]\n",
    "Output:\n",
    "\"<b>aaabbc</b>c\"\n",
    "\n",
    " \n",
    "\n",
    "Constraints:\n",
    "\n",
    "    The given dict won't contain duplicates, and its length won't exceed 100.\n",
    "    All the strings in input have length in range [1, 1000]."
   ]
  },
  {
   "cell_type": "markdown",
   "metadata": {},
   "source": [
    "# Using Hash Table and List - O(S ^ 2 * D) runtime, O(S + D) space"
   ]
  },
  {
   "cell_type": "code",
   "execution_count": 1,
   "metadata": {},
   "outputs": [],
   "source": [
    "from typing import List\n",
    "from collections import defaultdict\n",
    "\n",
    "class Solution:\n",
    "    def addBoldTag(self, s: str, dict: List[str]) -> str:\n",
    "        charDict = defaultdict(set)\n",
    "        \n",
    "        for word in dict:\n",
    "            charDict[word[0]].add((word, len(word)))\n",
    "            \n",
    "        resultList = []\n",
    "        currStart, currEnd = None, -1\n",
    "        \n",
    "        for i, char in enumerate(s):\n",
    "            if char in charDict:\n",
    "                for word, l in charDict[char]:\n",
    "                    if s[i:i+l] == word:\n",
    "                        if currStart is None: currStart = i\n",
    "                        currEnd = max(currEnd, i+l-1)\n",
    "            if i > currEnd:\n",
    "                if currStart is not None:\n",
    "                    resultList.append(\"<b>\" + s[currStart: currEnd+1] + \"</b>\")\n",
    "                resultList.append(char)\n",
    "                currStart = None\n",
    "                currEnd = i\n",
    "                \n",
    "        if currStart is not None:\n",
    "            resultList.append(\"<b>\" + s[currStart: currEnd+1] + \"</b>\")\n",
    "            \n",
    "        return ''.join(resultList)"
   ]
  },
  {
   "cell_type": "code",
   "execution_count": 2,
   "metadata": {},
   "outputs": [
    {
     "data": {
      "text/plain": [
       "'<b>abc</b>xyz<b>123</b>'"
      ]
     },
     "execution_count": 2,
     "metadata": {},
     "output_type": "execute_result"
    }
   ],
   "source": [
    "instance = Solution()\n",
    "instance.addBoldTag(\"abcxyz123\", [\"abc\",\"123\"])"
   ]
  }
 ],
 "metadata": {
  "kernelspec": {
   "display_name": "Python 3",
   "language": "python",
   "name": "python3"
  },
  "language_info": {
   "codemirror_mode": {
    "name": "ipython",
    "version": 3
   },
   "file_extension": ".py",
   "mimetype": "text/x-python",
   "name": "python",
   "nbconvert_exporter": "python",
   "pygments_lexer": "ipython3",
   "version": "3.7.3"
  }
 },
 "nbformat": 4,
 "nbformat_minor": 2
}
