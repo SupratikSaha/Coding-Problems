{
 "cells": [
  {
   "cell_type": "markdown",
   "metadata": {},
   "source": [
    "Problem Statement.\n",
    "\n",
    "You are given an empty 2D binary grid grid of size m x n. The grid represents a map where 0's represent water and 1's represent land. Initially, all the cells of grid are water cells (i.e., all the cells are 0's).\n",
    "\n",
    "We may perform an add land operation which turns the water at position into a land. You are given an array positions where positions[i] = [ri, ci] is the position (ri, ci) at which we should operate the ith operation.\n",
    "\n",
    "Return an array of integers answer where answer[i] is the number of islands after turning the cell (ri, ci) into a land.\n",
    "\n",
    "An island is surrounded by water and is formed by connecting adjacent lands horizontally or vertically. You may assume all four edges of the grid are all surrounded by water.\n",
    "\n",
    " \n",
    "\n",
    "Example 1:\n",
    "\n",
    "Input: m = 3, n = 3, positions = [[0,0],[0,1],[1,2],[2,1]]\n",
    "Output: [1,1,2,3]\n",
    "Explanation:\n",
    "Initially, the 2d grid is filled with water.\n",
    "- Operation #1: addLand(0, 0) turns the water at grid[0][0] into a land. We have 1 island.\n",
    "- Operation #2: addLand(0, 1) turns the water at grid[0][1] into a land. We still have 1 island.\n",
    "- Operation #3: addLand(1, 2) turns the water at grid[1][2] into a land. We have 2 islands.\n",
    "- Operation #4: addLand(2, 1) turns the water at grid[2][1] into a land. We have 3 islands.\n",
    "\n",
    "Example 2:\n",
    "\n",
    "Input: m = 1, n = 1, positions = [[0,0]]\n",
    "Output: [1]\n",
    "\n",
    " \n",
    "\n",
    "Constraints:\n",
    "\n",
    "    1 <= m, n, positions.length <= 104\n",
    "    1 <= m * n <= 104\n",
    "    positions[i].length == 2\n",
    "    0 <= ri < m\n",
    "    0 <= ci < n\n",
    "\n",
    " \n",
    "\n",
    "Follow up: Could you solve it in time complexity O(k log(mn)), where k == positions.length?"
   ]
  },
  {
   "cell_type": "markdown",
   "metadata": {},
   "source": [
    "# Brute Force -Time Limit Exceeded - O(K * M * N) runtime,  O(M * N) space, where K is the length of positions"
   ]
  },
  {
   "cell_type": "code",
   "execution_count": 1,
   "metadata": {},
   "outputs": [],
   "source": [
    "from typing import List\n",
    "\n",
    "class Solution:\n",
    "    def numIslands2(self, m: int, n: int, positions: List[List[int]]) -> List[int]:\n",
    "        output = [0] * len(positions)\n",
    "        grid = [[0] * n for _ in range(m)]\n",
    "        numIslands = 0\n",
    "        \n",
    "        def getNumIslands(i):\n",
    "            numIslands = 0\n",
    "            seen = set()\n",
    "            for j in range(i+1):\n",
    "                if tuple(positions[j]) in seen: continue\n",
    "\n",
    "                numIslands += 1\n",
    "                seen.add(tuple(positions[j]))         \n",
    "                queue = [positions[j]]\n",
    "                \n",
    "                while queue:\n",
    "                    r, c = queue.pop()\n",
    "                    for r1, c1 in [[r-1, c], [r+1, c], [r, c-1], [r, c+1]]:\n",
    "                        if 0<= r1 < m and 0<= c1 < n and grid[r1][c1] == 1 and (r1, c1) not in seen:\n",
    "                            seen.add((r1, c1))\n",
    "                            queue.append([r1, c1])\n",
    "                            \n",
    "            return numIslands\n",
    "                \n",
    "        \n",
    "        for i, cell in enumerate(positions):\n",
    "            newIsland = True\n",
    "            r, c = cell\n",
    "            if grid[r][c] == 0: \n",
    "                grid[r][c] = 1\n",
    "                for r1, c1 in [[r-1, c], [r+1, c], [r, c-1], [r, c+1]]:\n",
    "                    if 0<= r1 < m and 0<= c1 < n and grid[r1][c1] == 1:\n",
    "                        newIsland = False\n",
    "                        numIslands = getNumIslands(i)\n",
    "                        break\n",
    "                if newIsland: numIslands += 1\n",
    "            output[i] = numIslands\n",
    "            \n",
    "        return output"
   ]
  },
  {
   "cell_type": "markdown",
   "metadata": {},
   "source": [
    "# Union Find - O(K * Log(M * N)) runtime, O(M * N) space, where K is the length of positions"
   ]
  },
  {
   "cell_type": "code",
   "execution_count": 2,
   "metadata": {},
   "outputs": [],
   "source": [
    "from typing import List\n",
    "\n",
    "class Solution:\n",
    "    def numIslands2(self, m, n, positions):\n",
    "        parent, rank, count = {}, {}, 0\n",
    "        \n",
    "        def find(x):\n",
    "            if parent[x] != x:\n",
    "                parent[x] = find(parent[x])\n",
    "            return parent[x]\n",
    "        \n",
    "        def union(x, y):\n",
    "            nonlocal count\n",
    "            x, y = find(x), find(y)\n",
    "            if x != y:\n",
    "                if rank[x] < rank[y]:\n",
    "                    x, y = y, x\n",
    "                parent[y] = x\n",
    "                rank[x] += rank[x] == rank[y]\n",
    "                count -= 1\n",
    "                \n",
    "        def add(cell):\n",
    "            nonlocal count\n",
    "            i, j = cell\n",
    "            if (i, j) in rank: return count\n",
    "            \n",
    "            x = parent[x] = i, j\n",
    "            rank[x] = 0\n",
    "            count += 1\n",
    "            for y in (i+1, j), (i-1, j), (i, j+1), (i, j-1):\n",
    "                if y in parent:\n",
    "                    union(x, y)\n",
    "\n",
    "            return count\n",
    "        \n",
    "        return list(map(add, positions))"
   ]
  },
  {
   "cell_type": "code",
   "execution_count": 3,
   "metadata": {},
   "outputs": [
    {
     "data": {
      "text/plain": [
       "[1, 1, 2, 3]"
      ]
     },
     "execution_count": 3,
     "metadata": {},
     "output_type": "execute_result"
    }
   ],
   "source": [
    "instance = Solution()\n",
    "instance.numIslands2(3, 3, [[0,0],[0,1],[1,2],[2,1]])"
   ]
  }
 ],
 "metadata": {
  "kernelspec": {
   "display_name": "Python 3",
   "language": "python",
   "name": "python3"
  },
  "language_info": {
   "codemirror_mode": {
    "name": "ipython",
    "version": 3
   },
   "file_extension": ".py",
   "mimetype": "text/x-python",
   "name": "python",
   "nbconvert_exporter": "python",
   "pygments_lexer": "ipython3",
   "version": "3.7.3"
  }
 },
 "nbformat": 4,
 "nbformat_minor": 2
}
