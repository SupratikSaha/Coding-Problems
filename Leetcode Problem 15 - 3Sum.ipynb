{
 "cells": [
  {
   "cell_type": "markdown",
   "metadata": {},
   "source": [
    "# Sort, Two Pointers - O(N ^ 2) runtime, O(N) space (for sorting)"
   ]
  },
  {
   "cell_type": "code",
   "execution_count": 1,
   "metadata": {},
   "outputs": [],
   "source": [
    "class Solution:\n",
    "    def threeSum(self, nums):\n",
    "        res = []\n",
    "        nums.sort()\n",
    "        length = len(nums)\n",
    "        for i in range(length-2): #[8]\n",
    "            if nums[i]>0: break #[7]\n",
    "            if i>0 and nums[i]==nums[i-1]: continue #[1]\n",
    "\n",
    "            l, r = i+1, length-1 #[2]\n",
    "            while l<r:\n",
    "                total = nums[i]+nums[l]+nums[r]\n",
    "\n",
    "                if total<0: #[3]\n",
    "                    l+=1\n",
    "                elif total>0: #[4]\n",
    "                    r-=1\n",
    "                else: #[5]\n",
    "                    res.append([nums[i], nums[l], nums[r]])\n",
    "                    while l<r and nums[l]==nums[l+1]: #[6]\n",
    "                        l+=1\n",
    "                    while l<r and nums[r]==nums[r-1]: #[6]\n",
    "                        r-=1\n",
    "                    l+=1\n",
    "                    r-=1\n",
    "        return res"
   ]
  },
  {
   "cell_type": "markdown",
   "metadata": {},
   "source": [
    "# Sort, Set - O(N ^ 2) runtime, O(N) space (for set/sorting)"
   ]
  },
  {
   "cell_type": "code",
   "execution_count": 2,
   "metadata": {},
   "outputs": [],
   "source": [
    "from typing import List\n",
    "\n",
    "class Solution:\n",
    "    def threeSum(self, nums: List[int]) -> List[List[int]]:\n",
    "        res = []\n",
    "        nums.sort()\n",
    "        for i in range(len(nums)):\n",
    "            if nums[i] > 0:\n",
    "                break\n",
    "            if i == 0 or nums[i - 1] != nums[i]:\n",
    "                self.twoSum(nums, i, res)\n",
    "        return res\n",
    "\n",
    "    def twoSum(self, nums: List[int], i: int, res: List[List[int]]):\n",
    "        seen = set()\n",
    "        j = i + 1\n",
    "        while j < len(nums):\n",
    "            complement = -nums[i] - nums[j]\n",
    "            if complement in seen:\n",
    "                res.append([nums[i], nums[j], complement])\n",
    "                while j + 1 < len(nums) and nums[j] == nums[j + 1]:\n",
    "                    j += 1\n",
    "            seen.add(nums[j])\n",
    "            j += 1"
   ]
  },
  {
   "cell_type": "markdown",
   "metadata": {},
   "source": [
    "# Two Loops, Set - O(N ^ 2) runtime, O(N) space (for set/sorting)"
   ]
  },
  {
   "cell_type": "code",
   "execution_count": 3,
   "metadata": {},
   "outputs": [],
   "source": [
    "class Solution:\n",
    "    def threeSum(self, nums: List[int]) -> List[List[int]]:\n",
    "        res, dups = set(), set()\n",
    "        seen = {}\n",
    "        for i, val1 in enumerate(nums):\n",
    "            if val1 not in dups:\n",
    "                dups.add(val1)\n",
    "                for j, val2 in enumerate(nums[i+1:]):\n",
    "                    complement = -val1 - val2\n",
    "                    if complement in seen and seen[complement] == i:\n",
    "                        res.add(tuple(sorted((val1, val2, complement))))\n",
    "                    seen[val2] = i\n",
    "        return res"
   ]
  },
  {
   "cell_type": "code",
   "execution_count": 4,
   "metadata": {},
   "outputs": [],
   "source": [
    "Instance = Solution()\n",
    "Instance.threeSum([-1,4,5,2,0,1,-2,5,-3,6])"
   ]
  }
 ],
 "metadata": {
  "kernelspec": {
   "display_name": "Python 3",
   "language": "python",
   "name": "python3"
  },
  "language_info": {
   "codemirror_mode": {
    "name": "ipython",
    "version": 3
   },
   "file_extension": ".py",
   "mimetype": "text/x-python",
   "name": "python",
   "nbconvert_exporter": "python",
   "pygments_lexer": "ipython3",
   "version": "3.7.3"
  }
 },
 "nbformat": 4,
 "nbformat_minor": 2
}
