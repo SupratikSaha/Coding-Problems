{
 "cells": [
  {
   "cell_type": "code",
   "execution_count": 3,
   "metadata": {},
   "outputs": [],
   "source": [
    "class Solution:\n",
    "    def threeSum(self, nums):\n",
    "        res = []\n",
    "        nums.sort()\n",
    "        length = len(nums)\n",
    "        for i in range(length-2): #[8]\n",
    "            if nums[i]>0: break #[7]\n",
    "            if i>0 and nums[i]==nums[i-1]: continue #[1]\n",
    "\n",
    "            l, r = i+1, length-1 #[2]\n",
    "            while l<r:\n",
    "                total = nums[i]+nums[l]+nums[r]\n",
    "\n",
    "                if total<0: #[3]\n",
    "                    l+=1\n",
    "                elif total>0: #[4]\n",
    "                    r-=1\n",
    "                else: #[5]\n",
    "                    res.append([nums[i], nums[l], nums[r]])\n",
    "                    while l<r and nums[l]==nums[l+1]: #[6]\n",
    "                        l+=1\n",
    "                    while l<r and nums[r]==nums[r-1]: #[6]\n",
    "                        r-=1\n",
    "                    l+=1\n",
    "                    r-=1\n",
    "        return res"
   ]
  },
  {
   "cell_type": "code",
   "execution_count": 4,
   "metadata": {},
   "outputs": [
    {
     "data": {
      "text/plain": [
       "[[-3, -2, 5], [-3, -1, 4], [-3, 1, 2], [-2, 0, 2], [-1, 0, 1]]"
      ]
     },
     "execution_count": 4,
     "metadata": {},
     "output_type": "execute_result"
    }
   ],
   "source": [
    "Instance = Solution()\n",
    "Instance.threeSum([-1,4,5,2,0,1,-2,5,-3,6])"
   ]
  }
 ],
 "metadata": {
  "kernelspec": {
   "display_name": "Python 3",
   "language": "python",
   "name": "python3"
  },
  "language_info": {
   "codemirror_mode": {
    "name": "ipython",
    "version": 3
   },
   "file_extension": ".py",
   "mimetype": "text/x-python",
   "name": "python",
   "nbconvert_exporter": "python",
   "pygments_lexer": "ipython3",
   "version": "3.7.3"
  }
 },
 "nbformat": 4,
 "nbformat_minor": 2
}
