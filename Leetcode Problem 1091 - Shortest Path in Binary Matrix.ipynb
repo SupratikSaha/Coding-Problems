{
 "cells": [
  {
   "cell_type": "markdown",
   "metadata": {},
   "source": [
    "Problem Statement.\n",
    "\n",
    "Given an n x n binary matrix grid, return the length of the shortest clear path in the matrix. If there is no clear path, return -1.\n",
    "\n",
    "A clear path in a binary matrix is a path from the top-left cell (i.e., (0, 0)) to the bottom-right cell (i.e., (n - 1, n - 1)) such that:\n",
    "\n",
    "    All the visited cells of the path are 0.\n",
    "    All the adjacent cells of the path are 8-directionally connected (i.e., they are different and they share an edge or a corner).\n",
    "\n",
    "The length of a clear path is the number of visited cells of this path.\n",
    "\n",
    " \n",
    "\n",
    "Example 1:\n",
    "\n",
    "Input: grid = [[0,1],[1,0]]\n",
    "Output: 2\n",
    "\n",
    "Example 2:\n",
    "\n",
    "Input: grid = [[0,0,0],[1,1,0],[1,1,0]]\n",
    "Output: 4\n",
    "\n",
    "Example 3:\n",
    "\n",
    "Input: grid = [[1,0,0],[1,1,0],[1,1,0]]\n",
    "Output: -1\n",
    "\n",
    " \n",
    "\n",
    "Constraints:\n",
    "\n",
    "    n == grid.length\n",
    "    n == grid[i].length\n",
    "    1 <= n <= 100\n",
    "    grid[i][j] is 0 or 1"
   ]
  },
  {
   "cell_type": "markdown",
   "metadata": {},
   "source": [
    "# BFS - O(N) runtime, O(N) space"
   ]
  },
  {
   "cell_type": "code",
   "execution_count": 1,
   "metadata": {},
   "outputs": [],
   "source": [
    "from typing import List\n",
    "from collections import deque\n",
    "\n",
    "class Solution:\n",
    "    def shortestPathBinaryMatrix(self, grid: List[List[int]]) -> int:\n",
    "        N = len(grid)\n",
    "        if grid[0][0] == 1 or grid[N-1][N-1] == 1: return -1\n",
    "        \n",
    "        visited = set()\n",
    "        queue = deque()\n",
    "        queue.append([0,0,1]) #Add 0,0 of the grid with depth 1 to queue\n",
    "        while queue:\n",
    "            [r,c,depth] = queue.popleft()\n",
    "            if r == N-1 and c == N-1: return depth\n",
    "            for [nr,nc] in [[r-1,c-1],[r-1,c],[r-1,c+1],[r,c-1],[r,c+1],[r+1,c-1],[r+1,c],[r+1,c+1]]:\n",
    "                if (0 <= nr < N) and (0 <= nc < N) and ((nr,nc) not in visited) and  (grid[nr][nc] == 0):\n",
    "                    visited.add((nr,nc))\n",
    "                    queue.append([nr,nc,depth+1])\n",
    "        \n",
    "        return -1"
   ]
  },
  {
   "cell_type": "code",
   "execution_count": 2,
   "metadata": {},
   "outputs": [
    {
     "data": {
      "text/plain": [
       "4"
      ]
     },
     "execution_count": 2,
     "metadata": {},
     "output_type": "execute_result"
    }
   ],
   "source": [
    "instance = Solution()\n",
    "instance.shortestPathBinaryMatrix([[0,0,0],[1,1,0],[1,1,0]])"
   ]
  }
 ],
 "metadata": {
  "kernelspec": {
   "display_name": "Python 3",
   "language": "python",
   "name": "python3"
  },
  "language_info": {
   "codemirror_mode": {
    "name": "ipython",
    "version": 3
   },
   "file_extension": ".py",
   "mimetype": "text/x-python",
   "name": "python",
   "nbconvert_exporter": "python",
   "pygments_lexer": "ipython3",
   "version": "3.7.3"
  }
 },
 "nbformat": 4,
 "nbformat_minor": 2
}
