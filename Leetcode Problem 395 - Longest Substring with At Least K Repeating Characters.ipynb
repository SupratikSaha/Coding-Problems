{
 "cells": [
  {
   "cell_type": "markdown",
   "metadata": {},
   "source": [
    "Problem Statement. <br/>\n",
    "\n",
    "Given a string s and an integer k, return the length of the longest substring of s such that the frequency of each character in this substring is greater than or equal to k. <br/>\n",
    "\n",
    "Example 1: <br/>\n",
    "Input: s = \"aaabb\", k = 3 <br/>\n",
    "Output: 3 <br/>\n",
    "Explanation: The longest substring is \"aaa\", as 'a' is repeated 3 times. <br/>\n",
    "\n",
    "Example 2: <br/>\n",
    "Input: s = \"ababbc\", k = 2 <br/>\n",
    "Output: 5 <br/>\n",
    "Explanation: The longest substring is \"ababb\", as 'a' is repeated 2 times and 'b' is repeated 3 times."
   ]
  },
  {
   "cell_type": "markdown",
   "metadata": {},
   "source": [
    "# Top Down DP - O(N ^ 2) runtime, O(N ^ 2) space"
   ]
  },
  {
   "cell_type": "code",
   "execution_count": 1,
   "metadata": {},
   "outputs": [],
   "source": [
    "from typing import List, Dict\n",
    "from collections import defaultdict\n",
    "\n",
    "class Solution:\n",
    "    def longestSubstring(self, s: str, k: int) -> int:\n",
    "        if not s:\n",
    "            return 0\n",
    "        n = len(s)\n",
    "        charDict = defaultdict(int)\n",
    "        dp = [[-1 for _ in range(n)] for _ in range(n)]\n",
    "        \n",
    "        return self.longestSubstringRecursive(s, k, dp, charDict, 0, 0)\n",
    "        \n",
    "    def longestSubstringRecursive(self, s: str, k: int, dp: List[List[int]], charDict: Dict[str, int], b: int, e: int) -> int:\n",
    "        \n",
    "        if e == len(s):\n",
    "            return 0\n",
    "        \n",
    "        if dp[b][e] == -1:\n",
    "        \n",
    "            charDict[s[e]] += 1\n",
    "            charDict2 = charDict.copy()\n",
    "            currLen = e - b + 1 if all([x >= k for x in charDict.values()]) else 0\n",
    "\n",
    "            len1 = self.longestSubstringRecursive(s, k, dp, charDict, b, e + 1)\n",
    "\n",
    "            charDict2[s[b]] -= 1\n",
    "            if charDict2[s[b]] == 0:\n",
    "                charDict2.pop(s[b])\n",
    "            len2 = self.longestSubstringRecursive(s, k, dp, charDict2, b + 1, e + 1)\n",
    "\n",
    "            dp[b][e] = max(currLen, len1, len2)\n",
    "                \n",
    "        return dp[b][e]"
   ]
  },
  {
   "cell_type": "markdown",
   "metadata": {},
   "source": [
    "# Bottom Up DP - O(N ^ 2) runtime, O(N ^ 2) space"
   ]
  },
  {
   "cell_type": "code",
   "execution_count": 2,
   "metadata": {},
   "outputs": [],
   "source": [
    "from collections import defaultdict\n",
    "\n",
    "class Solution:\n",
    "    def longestSubstring(self, s: str, k: int) -> int:\n",
    "        if not s:\n",
    "            return 0\n",
    "        n = len(s)\n",
    "        charDict = defaultdict(int)\n",
    "        dp = [[0 for _ in range(n + 1)] for _ in range(n + 1)]\n",
    "        \n",
    "        for e in range(1, n + 1):\n",
    "            charDict[s[e-1]] += 1\n",
    "            charDict2 = charDict.copy()\n",
    "            for b in range(1, e + 1):\n",
    "                lenWithStart = e - b + 1 if all([x >= k for x in charDict.values()]) else 0\n",
    "                charDict2[s[b-1]] -= 1\n",
    "                if charDict2[s[b-1]] == 0:\n",
    "                    charDict2.pop(s[b-1])\n",
    "\n",
    "                lenWithoutStart = e - b if all([x >= k for x in charDict2.values()]) else 0\n",
    "                \n",
    "                dp[b][e] = max(dp[b-1][e], dp[b][e-1], lenWithStart, lenWithoutStart)\n",
    "        \n",
    "        return dp[n][n]"
   ]
  },
  {
   "cell_type": "markdown",
   "metadata": {},
   "source": [
    "# Sliding Window - O(N) runtime, O(1) space"
   ]
  },
  {
   "cell_type": "code",
   "execution_count": 3,
   "metadata": {},
   "outputs": [],
   "source": [
    "class Solution:\n",
    "    def longestSubstring(self, s: str, k: int) -> int:\n",
    "        count = 0\n",
    "        for i in range(1, 27):\n",
    "            count = max(count, self.helper(s, k, i))\n",
    "        return count\n",
    "\n",
    "    def helper(self, s: str, k: int, numUniqueTarget: int):\n",
    "        start = end = numUnique = numNoLessThanK = count = 0\n",
    "        chMap = [0]*128\n",
    "\n",
    "        while end < len(s):\n",
    "            if chMap[ord(s[end])] == 0: \n",
    "                numUnique += 1\n",
    "            chMap[ord(s[end])] += 1\n",
    "            if chMap[ord(s[end])] == k: \n",
    "                numNoLessThanK += 1\n",
    "            end += 1\n",
    "\n",
    "            while numUnique > numUniqueTarget:\n",
    "                if chMap[ord(s[start])] == k: \n",
    "                    numNoLessThanK -= 1\n",
    "                chMap[ord(s[start])] -= 1\n",
    "                if chMap[ord(s[start])] == 0: \n",
    "                    numUnique -= 1\n",
    "                start += 1\n",
    "\n",
    "            if numUnique == numNoLessThanK: \n",
    "                count = max(count, end-start)\n",
    "\n",
    "        return count"
   ]
  },
  {
   "cell_type": "markdown",
   "metadata": {},
   "source": [
    "# Iterative, Set - O(N ^ 2) runtime, O(N) space"
   ]
  },
  {
   "cell_type": "code",
   "execution_count": 4,
   "metadata": {},
   "outputs": [],
   "source": [
    "class Solution:\n",
    "    def longestSubstring(self, s: str, k: int) -> int:\n",
    "        stack = []\n",
    "        stack.append(s)\n",
    "        ans = 0\n",
    "        while stack:\n",
    "            s = stack.pop()\n",
    "            for c in set(s):\n",
    "                if s.count(c) < k:\n",
    "                    stack.extend([z for z in s.split(c)])\n",
    "                    break\n",
    "            else:\n",
    "                ans = max(ans, len(s))\n",
    "        return ans"
   ]
  },
  {
   "cell_type": "markdown",
   "metadata": {},
   "source": [
    "# Recursive, Set - O(N ^ 2) runtime, O(N) space"
   ]
  },
  {
   "cell_type": "code",
   "execution_count": 5,
   "metadata": {},
   "outputs": [],
   "source": [
    "class Solution:\n",
    "    def longestSubstring(self, s: str, k: int) -> int:\n",
    "        if len(s) < k:\n",
    "            return 0\n",
    "        for c in set(s):\n",
    "            if s.count(c) < k:\n",
    "                return max(self.longestSubstring(z, k) for z in s.split(c))\n",
    "        return len(s)"
   ]
  },
  {
   "cell_type": "code",
   "execution_count": 6,
   "metadata": {},
   "outputs": [
    {
     "data": {
      "text/plain": [
       "5"
      ]
     },
     "execution_count": 6,
     "metadata": {},
     "output_type": "execute_result"
    }
   ],
   "source": [
    "instance = Solution()\n",
    "instance.longestSubstring('dfababbc', 2)"
   ]
  }
 ],
 "metadata": {
  "kernelspec": {
   "display_name": "Python 3",
   "language": "python",
   "name": "python3"
  },
  "language_info": {
   "codemirror_mode": {
    "name": "ipython",
    "version": 3
   },
   "file_extension": ".py",
   "mimetype": "text/x-python",
   "name": "python",
   "nbconvert_exporter": "python",
   "pygments_lexer": "ipython3",
   "version": "3.7.3"
  }
 },
 "nbformat": 4,
 "nbformat_minor": 2
}
