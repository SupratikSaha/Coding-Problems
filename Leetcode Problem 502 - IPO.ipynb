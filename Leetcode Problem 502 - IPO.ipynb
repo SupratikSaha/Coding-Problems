{
 "cells": [
  {
   "cell_type": "markdown",
   "metadata": {},
   "source": [
    "Problem Statement.\n",
    "\n",
    "Suppose LeetCode will start its IPO soon. In order to sell a good price of its shares to Venture Capital, LeetCode would like to work on some projects to increase its capital before the IPO. Since it has limited resources, it can only finish at most k distinct projects before the IPO. Help LeetCode design the best way to maximize its total capital after finishing at most k distinct projects.\n",
    "\n",
    "You are given n projects where the ith project has a pure profit profits[i] and a minimum capital of capital[i] is needed to start it.\n",
    "\n",
    "Initially, you have w capital. When you finish a project, you will obtain its pure profit and the profit will be added to your total capital.\n",
    "\n",
    "Pick a list of at most k distinct projects from given projects to maximize your final capital, and return the final maximized capital.\n",
    "\n",
    "The answer is guaranteed to fit in a 32-bit signed integer.\n",
    "\n",
    " \n",
    "\n",
    "Example 1:\n",
    "\n",
    "Input: k = 2, w = 0, profits = [1,2,3], capital = [0,1,1]\n",
    "Output: 4\n",
    "Explanation: Since your initial capital is 0, you can only start the project indexed 0.\n",
    "After finishing it you will obtain profit 1 and your capital becomes 1.\n",
    "With capital 1, you can either start the project indexed 1 or the project indexed 2.\n",
    "Since you can choose at most 2 projects, you need to finish the project indexed 2 to get the maximum capital.\n",
    "Therefore, output the final maximized capital, which is 0 + 1 + 3 = 4.\n",
    "\n",
    "Example 2:\n",
    "\n",
    "Input: k = 3, w = 0, profits = [1,2,3], capital = [0,1,2]\n",
    "Output: 6\n",
    "\n",
    " \n",
    "\n",
    "Constraints:\n",
    "\n",
    "    1 <= k <= 10^5\n",
    "    0 <= w <= 10^9\n",
    "    n == profits.length\n",
    "    n == capital.length\n",
    "    1 <= n <= 10^5\n",
    "    0 <= profits[i] <= 10^4\n",
    "    0 <= capital[i] <= 10^9"
   ]
  },
  {
   "cell_type": "markdown",
   "metadata": {},
   "source": [
    "# Sort and Maxheap - O(N * Log N) runtime, O(N) space"
   ]
  },
  {
   "cell_type": "code",
   "execution_count": 2,
   "metadata": {},
   "outputs": [],
   "source": [
    "from typing import List\n",
    "from heapq import heappush, heappop\n",
    "\n",
    "class Solution:\n",
    "    def findMaximizedCapital(self, k: int, w: int, profits: List[int], capital: List[int]) -> int:\n",
    "       # to speed up: if all projects are available\n",
    "        if w >= max(capital):\n",
    "            return w + sum(nlargest(k, profits))\n",
    "        \n",
    "        n = len(profits)\n",
    "        projects = [(capital[i], profits[i]) for i in range(n)]\n",
    "        # sort the projects :\n",
    "        # the most available (= the smallest capital) is the last one\n",
    "        projects.sort(key = lambda x : -x[0])\n",
    "        \n",
    "        available = []\n",
    "        while k > 0:\n",
    "            # update available projects\n",
    "            while projects and projects[-1][0] <= w:\n",
    "                heappush(available, -projects.pop()[1])\n",
    "            # if there are available projects,\n",
    "            # pick the most profitable one\n",
    "            if available:\n",
    "                w -= heappop(available)\n",
    "            # not enough capital to start any project\n",
    "            else:\n",
    "                break\n",
    "            k -= 1\n",
    "        return w "
   ]
  },
  {
   "cell_type": "markdown",
   "metadata": {},
   "source": [
    "# Sort and Maxheap - O(N * K) runtime, O(1) space"
   ]
  },
  {
   "cell_type": "code",
   "execution_count": 5,
   "metadata": {},
   "outputs": [],
   "source": [
    "from typing import List\n",
    "\n",
    "class Solution:\n",
    "    def findMaximizedCapital(self, k: int, w: int, profits: List[int], capital: List[int]) -> int:\n",
    "       # to speed up: if all projects are available\n",
    "        if w >= max(capital):\n",
    "            return w + sum(nlargest(k, profits))\n",
    "        \n",
    "        n = len(profits)\n",
    "        for i in range(min(n, k)):\n",
    "            idx = -1 \n",
    "            # if there are available projects,\n",
    "            # pick the most profitable one\n",
    "            for j in range(n):\n",
    "                if w >= capital[j]:\n",
    "                    if idx == -1: \n",
    "                        idx = j\n",
    "                    elif profits[idx] < profits[j]: \n",
    "                        idx = j\n",
    "                        \n",
    "            # not enough capital to start any project\n",
    "            if idx == -1:\n",
    "                break\n",
    "            \n",
    "            # add the profit from chosen project\n",
    "            # and remove the project from further consideration\n",
    "            w += profits[idx]\n",
    "            capital[idx] = float('inf')\n",
    "            \n",
    "        return  w"
   ]
  },
  {
   "cell_type": "code",
   "execution_count": 6,
   "metadata": {},
   "outputs": [
    {
     "data": {
      "text/plain": [
       "4"
      ]
     },
     "execution_count": 6,
     "metadata": {},
     "output_type": "execute_result"
    }
   ],
   "source": [
    "instance = Solution()\n",
    "instance.findMaximizedCapital(2, 0, [1,2,3], [0,1,1])"
   ]
  }
 ],
 "metadata": {
  "kernelspec": {
   "display_name": "Python 3",
   "language": "python",
   "name": "python3"
  },
  "language_info": {
   "codemirror_mode": {
    "name": "ipython",
    "version": 3
   },
   "file_extension": ".py",
   "mimetype": "text/x-python",
   "name": "python",
   "nbconvert_exporter": "python",
   "pygments_lexer": "ipython3",
   "version": "3.7.3"
  }
 },
 "nbformat": 4,
 "nbformat_minor": 2
}
