{
 "cells": [
  {
   "cell_type": "markdown",
   "metadata": {},
   "source": [
    "Problem Statement.\n",
    "\n",
    "Given an array nums of distinct integers, return all the possible permutations. You can return the answer in any order.\n",
    "\n",
    "\n",
    "Example 1:\n",
    "\n",
    "Input: nums = [1,2,3]\n",
    "Output: [[1,2,3],[1,3,2],[2,1,3],[2,3,1],[3,1,2],[3,2,1]]\n",
    "\n",
    "Example 2:\n",
    "\n",
    "Input: nums = [0,1]\n",
    "Output: [[0,1],[1,0]]\n",
    "\n",
    "Example 3:\n",
    "\n",
    "Input: nums = [1]\n",
    "Output: [[1]]\n",
    "\n",
    " \n",
    "\n",
    "Constraints:\n",
    "\n",
    "    1 <= nums.length <= 6\n",
    "    -10 <= nums[i] <= 10\n",
    "    All the integers of nums are unique."
   ]
  },
  {
   "cell_type": "markdown",
   "metadata": {},
   "source": [
    "# Backtracking - O(N * N!) runtime, O(N!) space"
   ]
  },
  {
   "cell_type": "code",
   "execution_count": 55,
   "metadata": {},
   "outputs": [],
   "source": [
    "class Solution:\n",
    "    def permute(self, nums):\n",
    "        \n",
    "        if not nums: return []\n",
    "        if len(nums) == 1: return [nums]\n",
    "    \n",
    "        res = []\n",
    "        for i in range(len(nums)):\n",
    "            nums[0], nums[i] = nums[i], nums[0]\n",
    "        \n",
    "            for j in self.permute(nums[1:]):\n",
    "                res.append([nums[0]] + j)\n",
    "                print(i,nums,[nums[0]],j,[nums[0]] + j)\n",
    "            \n",
    "            nums[0], nums[i] = nums[i], nums[0]\n",
    "            print('res',res)\n",
    "        return res"
   ]
  },
  {
   "cell_type": "code",
   "execution_count": 56,
   "metadata": {},
   "outputs": [
    {
     "name": "stdout",
     "output_type": "stream",
     "text": [
      "0 [2, 3] [2] [3] [2, 3]\n",
      "res [[2, 3]]\n",
      "1 [3, 2] [3] [2] [3, 2]\n",
      "res [[2, 3], [3, 2]]\n",
      "0 [1, 2, 3] [1] [2, 3] [1, 2, 3]\n",
      "0 [1, 2, 3] [1] [3, 2] [1, 3, 2]\n",
      "res [[1, 2, 3], [1, 3, 2]]\n",
      "0 [1, 3] [1] [3] [1, 3]\n",
      "res [[1, 3]]\n",
      "1 [3, 1] [3] [1] [3, 1]\n",
      "res [[1, 3], [3, 1]]\n",
      "1 [2, 1, 3] [2] [1, 3] [2, 1, 3]\n",
      "1 [2, 1, 3] [2] [3, 1] [2, 3, 1]\n",
      "res [[1, 2, 3], [1, 3, 2], [2, 1, 3], [2, 3, 1]]\n",
      "0 [2, 1] [2] [1] [2, 1]\n",
      "res [[2, 1]]\n",
      "1 [1, 2] [1] [2] [1, 2]\n",
      "res [[2, 1], [1, 2]]\n",
      "2 [3, 2, 1] [3] [2, 1] [3, 2, 1]\n",
      "2 [3, 2, 1] [3] [1, 2] [3, 1, 2]\n",
      "res [[1, 2, 3], [1, 3, 2], [2, 1, 3], [2, 3, 1], [3, 2, 1], [3, 1, 2]]\n"
     ]
    },
    {
     "data": {
      "text/plain": [
       "[[1, 2, 3], [1, 3, 2], [2, 1, 3], [2, 3, 1], [3, 2, 1], [3, 1, 2]]"
      ]
     },
     "execution_count": 56,
     "metadata": {},
     "output_type": "execute_result"
    }
   ],
   "source": [
    "Instance = Solution()\n",
    "Instance.permute([1,2,3])"
   ]
  }
 ],
 "metadata": {
  "kernelspec": {
   "display_name": "Python 3",
   "language": "python",
   "name": "python3"
  },
  "language_info": {
   "codemirror_mode": {
    "name": "ipython",
    "version": 3
   },
   "file_extension": ".py",
   "mimetype": "text/x-python",
   "name": "python",
   "nbconvert_exporter": "python",
   "pygments_lexer": "ipython3",
   "version": "3.7.3"
  }
 },
 "nbformat": 4,
 "nbformat_minor": 2
}
