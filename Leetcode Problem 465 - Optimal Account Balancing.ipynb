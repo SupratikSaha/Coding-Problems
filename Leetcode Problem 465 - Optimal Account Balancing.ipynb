{
 "cells": [
  {
   "cell_type": "markdown",
   "metadata": {},
   "source": [
    "Problem Statement. <br/>\n",
    "\n",
    "A group of friends went on holiday and sometimes lent each other money. For example, Alice paid for Bill's lunch for $10. Then later Chris gave Alice $5 for a taxi ride. We can model each transaction as a tuple (x, y, z) which means person x gave person y $z. Assuming Alice, Bill, and Chris are person 0, 1, and 2 respectively (0, 1, 2 are the person's ID), the transactions can be represented as [[0, 1, 10], [2, 0, 5]]. <br/>\n",
    "Given a list of transactions between a group of people, return the minimum number of transactions required to settle the debt. <br/>\n",
    "\n",
    "Note: <br/>\n",
    "    A transaction will be given as a tuple (x, y, z). Note that x ≠ y and z > 0.\n",
    "    Person's IDs may not be linear, e.g. we could have the persons 0, 1, 2 or we could also have the persons 0, 2, 6.\n",
    "\n",
    "Example 1: <br/>\n",
    "Input: [[0,1,10], [2,0,5]] <br/>\n",
    "Output: 2 <br/>\n",
    "Explanation: <br/>\n",
    "Person 0 gave person 1 10. <br/>\n",
    "Person 2 gave person 0 5. <br/>\n",
    "Two transactions are needed. One way to settle the debt is person 1 pays person 0 and 2 5 each.\n",
    "\n",
    "Example 2: <br/>\n",
    "Input: [[0,1,10], [1,0,1], [1,2,5], [2,0,5]] <br/>\n",
    "Output: 1 <br/>\n",
    "Explanation: <br/>\n",
    "Person 0 gave person 1 10. <br/>\n",
    "Person 1 gave person 0 1. <br/>\n",
    "Person 1 gave person 2 5. <br/>\n",
    "Person 2 gave person 0 5. <br/>\n",
    "Therefore, person 1 only need to give person 0 4, and all debt is settled."
   ]
  },
  {
   "cell_type": "markdown",
   "metadata": {},
   "source": [
    "# DFS and Bracktracking - O(N * 2^N) runtime, O(2^N) space"
   ]
  },
  {
   "cell_type": "code",
   "execution_count": 1,
   "metadata": {},
   "outputs": [],
   "source": [
    "from typing import List\n",
    "from collections import defaultdict\n",
    "\n",
    "class Solution:\n",
    "    def minTransfers(self, transactions: List[List[int]]) -> int:\n",
    "        # Compute net profit for every person.\n",
    "        bal = defaultdict(int)\n",
    "        for t in transactions:\n",
    "            bal[t[0]] += t[2]\n",
    "            bal[t[1]] -= t[2]\n",
    "            \n",
    "        # Preserve unsettled people only.\n",
    "        netProfit = [bal[k] for k in bal if bal[k] != 0]\n",
    "        \n",
    "        return self.traverse(netProfit, 0, 0)\n",
    "    \n",
    "    def traverse(self, netProfit, startIdx, numTrans):\n",
    "        # Skip settled people.\n",
    "        while startIdx < len(netProfit) and netProfit[startIdx] == 0:\n",
    "            startIdx += 1\n",
    "        if startIdx + 1 >= len(netProfit):\n",
    "            return numTrans\n",
    "        else:\n",
    "            for i in range(startIdx + 1, len(netProfit)):\n",
    "                # Greedy condition.\n",
    "                if netProfit[startIdx] + netProfit[i] == 0:\n",
    "                    netProfit[i] += netProfit[startIdx]\n",
    "                    minNumTrans = self.traverse(netProfit, startIdx + 1, numTrans + 1)\n",
    "                    netProfit[i] -= netProfit[startIdx]\n",
    "                    return minNumTrans\n",
    "            minNumTrans = float('inf')\n",
    "            for i in range(startIdx + 1, len(netProfit)):\n",
    "                # Non-greedy condition for possible closing out in the future.\n",
    "                if netProfit[startIdx] * netProfit[i] < 0:\n",
    "                    netProfit[i] += netProfit[startIdx]\n",
    "                    minNumTrans = min(minNumTrans, self.traverse(netProfit, startIdx + 1, numTrans + 1))\n",
    "                    netProfit[i] -= netProfit[startIdx]\n",
    "            return minNumTrans"
   ]
  },
  {
   "cell_type": "markdown",
   "metadata": {},
   "source": [
    "# Cleaner but slicing takes more time - O(N * 2^N) runtime, O(2^N) space"
   ]
  },
  {
   "cell_type": "code",
   "execution_count": 3,
   "metadata": {},
   "outputs": [],
   "source": [
    "from typing import List\n",
    "from collections import defaultdict\n",
    "\n",
    "class Solution:\n",
    "    def minTransfers(self, transactions: List[List[int]]) -> int:\n",
    "        bal = defaultdict(int)\n",
    "        for f, t, m in transactions:\n",
    "            bal[f] -= m\n",
    "            bal[t] += m\n",
    "        balances = [bal[k] for k in bal if bal[k] != 0]\n",
    "        return self.dfs(balances)\n",
    "        \n",
    "    def dfs(self, b):\n",
    "        if not b:   # base case\n",
    "            return 0\n",
    "\n",
    "        if not b[0]:   #skip ppl whose balance==0 \n",
    "            return self.dfs(b[1:])\n",
    "\n",
    "        minTrans = float('inf')\n",
    "        for i in range(1, len(b)):\n",
    "            if b[i] == -b[0]:   # greedy shortcut \n",
    "                return 1 + self.dfs(b[1:i] + [0] + b[i+1:])\n",
    "\n",
    "            elif b[i] * b[0] < 0: \n",
    "                minTrans = min(minTrans, self.dfs(b[1:i] + [b[i]+b[0]] + b[i+1:])) \n",
    "\n",
    "        return minTrans + 1  "
   ]
  },
  {
   "cell_type": "markdown",
   "metadata": {},
   "source": [
    "# Faster with Bits - O(N * 2^N) runtime, O(2^N) space"
   ]
  },
  {
   "cell_type": "code",
   "execution_count": 8,
   "metadata": {},
   "outputs": [],
   "source": [
    "from typing import List\n",
    "from collections import defaultdict\n",
    "\n",
    "class Solution:\n",
    "    def minTransfers(self, transactions: List[List[int]]) -> int:\n",
    "        persons = defaultdict(int)\n",
    "        for sender, receiver, amount in transactions:\n",
    "            persons[sender] -= amount\n",
    "            persons[receiver] += amount\n",
    "        \n",
    "        amounts = [amount for amount in persons.values() if amount != 0]\n",
    "        \n",
    "        N = len(amounts)\n",
    "        dp = [0] * (2**N) # dp[mask] = number of sets whose sum = 0\n",
    "        sums = [0] * (2**N) # sums[mask] = sum of numbers in mask\n",
    "        \n",
    "        for mask in range(2**N):\n",
    "            set_bit = 1\n",
    "            for b in range(N):\n",
    "                if mask & set_bit == 0:\n",
    "                    nxt = mask | set_bit\n",
    "                    sums[nxt] = sums[mask] + amounts[b]\n",
    "                    if sums[nxt] == 0: dp[nxt] = max(dp[nxt], dp[mask] + 1)\n",
    "                    else: dp[nxt] = max(dp[nxt], dp[mask])\n",
    "                set_bit <<= 1\n",
    "        \n",
    "        return N - dp[-1]   "
   ]
  },
  {
   "cell_type": "code",
   "execution_count": 9,
   "metadata": {},
   "outputs": [
    {
     "data": {
      "text/plain": [
       "1"
      ]
     },
     "execution_count": 9,
     "metadata": {},
     "output_type": "execute_result"
    }
   ],
   "source": [
    "instance = Solution()\n",
    "instance.minTransfers([[0,1,10], [1,0,1], [1,2,5], [2,0,5]] )"
   ]
  }
 ],
 "metadata": {
  "kernelspec": {
   "display_name": "Python 3",
   "language": "python",
   "name": "python3"
  },
  "language_info": {
   "codemirror_mode": {
    "name": "ipython",
    "version": 3
   },
   "file_extension": ".py",
   "mimetype": "text/x-python",
   "name": "python",
   "nbconvert_exporter": "python",
   "pygments_lexer": "ipython3",
   "version": "3.7.3"
  }
 },
 "nbformat": 4,
 "nbformat_minor": 2
}
