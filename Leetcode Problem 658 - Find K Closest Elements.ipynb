{
 "cells": [
  {
   "cell_type": "markdown",
   "metadata": {},
   "source": [
    "    Problem Statement.\n",
    "\n",
    "    Given a sorted integer array arr, two integers k and x, return the k closest integers to x in the array. The result should also be sorted in ascending order.\n",
    "\n",
    "    An integer a is closer to x than an integer b if:\n",
    "\n",
    "        |a - x| < |b - x|, or\n",
    "        |a - x| == |b - x| and a < b\n",
    "\n",
    "\n",
    "\n",
    "    Example 1:\n",
    "\n",
    "    Input: arr = [1,2,3,4,5], k = 4, x = 3\n",
    "    Output: [1,2,3,4]\n",
    "\n",
    "    Example 2:\n",
    "\n",
    "    Input: arr = [1,2,3,4,5], k = 4, x = -1\n",
    "    Output: [1,2,3,4]\n",
    "\n",
    "\n",
    "\n",
    "    Constraints:\n",
    "\n",
    "        1 <= k <= arr.length\n",
    "        1 <= arr.length <= 104\n",
    "        arr is sorted in ascending order.\n",
    "        -104 <= arr[i], x <= 104"
   ]
  },
  {
   "cell_type": "markdown",
   "metadata": {},
   "source": [
    "# Heap and Sort - O(N * logK) runtime, O(K) space"
   ]
  },
  {
   "cell_type": "code",
   "execution_count": 3,
   "metadata": {},
   "outputs": [],
   "source": [
    "from typing import List\n",
    "from heapq import heappush, heappop\n",
    "\n",
    "class Solution:\n",
    "    def findClosestElements(self, arr: List[int], k: int, x: int) -> List[int]:\n",
    "        minheap = []\n",
    "        for i, num in enumerate(arr):\n",
    "            heappush(minheap, (-abs(x-num), -num))\n",
    "            if i >= k:\n",
    "                heappop(minheap)\n",
    "                \n",
    "        return sorted([-x[1] for x in minheap])"
   ]
  },
  {
   "cell_type": "markdown",
   "metadata": {},
   "source": [
    "# Binary Search - O(log(N-K) + K) runtime, O(K) space"
   ]
  },
  {
   "cell_type": "code",
   "execution_count": 5,
   "metadata": {},
   "outputs": [],
   "source": [
    "from typing import List\n",
    "\n",
    "class Solution:\n",
    "    def findClosestElements(self, arr: List[int], k: int, x: int) -> List[int]:\n",
    "        left, right = 0, len(arr) - k\n",
    "        while left < right:\n",
    "            mid = left + (right - left) // 2\n",
    "            if x - arr[mid] > arr[mid + k] - x:\n",
    "                left = mid + 1\n",
    "            else:\n",
    "                right = mid\n",
    "        return arr[left:left + k]"
   ]
  },
  {
   "cell_type": "code",
   "execution_count": 6,
   "metadata": {},
   "outputs": [
    {
     "data": {
      "text/plain": [
       "[1, 2, 3, 4]"
      ]
     },
     "execution_count": 6,
     "metadata": {},
     "output_type": "execute_result"
    }
   ],
   "source": [
    "instance = Solution()\n",
    "instance.findClosestElements([1,2,3,4,5], 4, -1)"
   ]
  }
 ],
 "metadata": {
  "kernelspec": {
   "display_name": "Python 3",
   "language": "python",
   "name": "python3"
  },
  "language_info": {
   "codemirror_mode": {
    "name": "ipython",
    "version": 3
   },
   "file_extension": ".py",
   "mimetype": "text/x-python",
   "name": "python",
   "nbconvert_exporter": "python",
   "pygments_lexer": "ipython3",
   "version": "3.7.3"
  }
 },
 "nbformat": 4,
 "nbformat_minor": 2
}
