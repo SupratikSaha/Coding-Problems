{
 "cells": [
  {
   "cell_type": "markdown",
   "metadata": {},
   "source": [
    "Problem Statement.\n",
    "\n",
    "Given a string s of '(' and ')' parentheses, we add the minimum number of parentheses ( '(' or ')', and in any positions ) so that the resulting parentheses string is valid.\n",
    "\n",
    "Formally, a parentheses string is valid if and only if:\n",
    "\n",
    "    It is the empty string, or\n",
    "    It can be written as AB (A concatenated with B), where A and B are valid strings, or\n",
    "    It can be written as (A), where A is a valid string.\n",
    "\n",
    "Given a parentheses string, return the minimum number of parentheses we must add to make the resulting string valid.\n",
    "\n",
    " \n",
    "\n",
    "Example 1:\n",
    "\n",
    "Input: s = \"())\"\n",
    "Output: 1\n",
    "\n",
    "Example 2:\n",
    "\n",
    "Input: s = \"(((\"\n",
    "Output: 3\n",
    "\n",
    "Example 3:\n",
    "\n",
    "Input: s = \"()\"\n",
    "Output: 0\n",
    "\n",
    "Example 4:\n",
    "\n",
    "Input: s = \"()))((\"\n",
    "Output: 4\n",
    "\n",
    " \n",
    "\n",
    "Note:\n",
    "\n",
    "    s.length <= 1000\n",
    "    s only consists of '(' and ')' characters."
   ]
  },
  {
   "cell_type": "markdown",
   "metadata": {},
   "source": [
    "# Linear Scan - O(N) runtime, O(N) space"
   ]
  },
  {
   "cell_type": "code",
   "execution_count": 1,
   "metadata": {},
   "outputs": [],
   "source": [
    "class Solution:\n",
    "    def minAddToMakeValid(self, s: str) -> int:\n",
    "        balance, count = 0, 0\n",
    "        \n",
    "        for bracket in s:\n",
    "            if bracket == ')': \n",
    "                if balance <= 0: count += 1\n",
    "                else: balance -= 1\n",
    "            else: balance += 1\n",
    "                \n",
    "        return count + balance if balance > 0 else count"
   ]
  },
  {
   "cell_type": "code",
   "execution_count": 2,
   "metadata": {},
   "outputs": [
    {
     "data": {
      "text/plain": [
       "4"
      ]
     },
     "execution_count": 2,
     "metadata": {},
     "output_type": "execute_result"
    }
   ],
   "source": [
    "instance = Solution()\n",
    "instance.minAddToMakeValid(\"()))((\")"
   ]
  }
 ],
 "metadata": {
  "kernelspec": {
   "display_name": "Python 3",
   "language": "python",
   "name": "python3"
  },
  "language_info": {
   "codemirror_mode": {
    "name": "ipython",
    "version": 3
   },
   "file_extension": ".py",
   "mimetype": "text/x-python",
   "name": "python",
   "nbconvert_exporter": "python",
   "pygments_lexer": "ipython3",
   "version": "3.7.3"
  }
 },
 "nbformat": 4,
 "nbformat_minor": 2
}
