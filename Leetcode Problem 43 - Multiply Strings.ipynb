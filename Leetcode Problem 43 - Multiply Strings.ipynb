{
 "cells": [
  {
   "cell_type": "markdown",
   "metadata": {},
   "source": [
    "Problem Statement.\n",
    "\n",
    "Given two non-negative integers num1 and num2 represented as strings, return the product of num1 and num2, also represented as a string.\n",
    "\n",
    "Note: You must not use any built-in BigInteger library or convert the inputs to integer directly.\n",
    "\n",
    " \n",
    "\n",
    "Example 1:\n",
    "\n",
    "Input: num1 = \"2\", num2 = \"3\"\n",
    "Output: \"6\"\n",
    "\n",
    "Example 2:\n",
    "\n",
    "Input: num1 = \"123\", num2 = \"456\"\n",
    "Output: \"56088\"\n",
    "\n",
    " \n",
    "\n",
    "Constraints:\n",
    "\n",
    "    1 <= num1.length, num2.length <= 200\n",
    "    num1 and num2 consist of digits only.\n",
    "    Both num1 and num2 do not contain any leading zero, except the number 0 itself."
   ]
  },
  {
   "cell_type": "markdown",
   "metadata": {},
   "source": [
    "# Convert to Number- (Risk of Overflow) - O(M + N) runtime, O(M + N) space"
   ]
  },
  {
   "cell_type": "code",
   "execution_count": 1,
   "metadata": {},
   "outputs": [],
   "source": [
    "\n",
    "class Solution:\n",
    "    def multiply(self, num1: str, num2: str) -> str:\n",
    "        a=0\n",
    "        b=0\n",
    "        for i in num1:\n",
    "            a= 10*a+(ord(i)-ord(\"0\"))\n",
    "        for j in num2:\n",
    "            b= 10*b+(ord(j)-ord(\"0\"))\n",
    "        return str(a*b)"
   ]
  },
  {
   "cell_type": "markdown",
   "metadata": {},
   "source": [
    "# Two Loops - O(M * N) runtime, O(M + N) space"
   ]
  },
  {
   "cell_type": "code",
   "execution_count": 2,
   "metadata": {},
   "outputs": [],
   "source": [
    "from collections import deque\n",
    "\n",
    "class Solution:\n",
    "    def multiply(self, num1: str, num2: str) -> str:\n",
    "        m, n = len(num1), len(num2)\n",
    "        result = deque([0] * m)\n",
    "        extra, carry, offset = 0, 0, 0\n",
    "\n",
    "        for i in reversed(range(n)):\n",
    "            for j in reversed(range(m)):\n",
    "                curr = int(num2[i]) * int(num1[j-offset]) + carry + result[j-offset]\n",
    "                carry, result[j-offset] = divmod(curr, 10)\n",
    "            result.appendleft(carry)\n",
    "            carry = 0\n",
    "            \n",
    "        while result and result[0] == 0: result.popleft()\n",
    "                \n",
    "        return ''.join([str(i) for i in result]) if result else '0'"
   ]
  },
  {
   "cell_type": "code",
   "execution_count": 3,
   "metadata": {},
   "outputs": [
    {
     "data": {
      "text/plain": [
       "'56088'"
      ]
     },
     "execution_count": 3,
     "metadata": {},
     "output_type": "execute_result"
    }
   ],
   "source": [
    "instance = Solution()\n",
    "instance.multiply(\"123\", \"456\")"
   ]
  }
 ],
 "metadata": {
  "kernelspec": {
   "display_name": "Python 3",
   "language": "python",
   "name": "python3"
  },
  "language_info": {
   "codemirror_mode": {
    "name": "ipython",
    "version": 3
   },
   "file_extension": ".py",
   "mimetype": "text/x-python",
   "name": "python",
   "nbconvert_exporter": "python",
   "pygments_lexer": "ipython3",
   "version": "3.7.3"
  }
 },
 "nbformat": 4,
 "nbformat_minor": 2
}
