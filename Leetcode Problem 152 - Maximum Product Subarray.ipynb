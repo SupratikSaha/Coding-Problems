{
 "cells": [
  {
   "cell_type": "markdown",
   "metadata": {},
   "source": [
    "# Dynamic Programming - O(n) run time, O(1) space"
   ]
  },
  {
   "cell_type": "code",
   "execution_count": null,
   "metadata": {},
   "outputs": [],
   "source": [
    "class Solution:\n",
    "    def maxProduct(self, nums: List[int]) -> int:\n",
    "        maxVal = minVal = maxAns = nums[0]\n",
    "        \n",
    "        for i in range(1,len(nums)):\n",
    "            mx = maxVal\n",
    "            mn = minVal\n",
    "            maxVal = max(max(nums[i], mx * nums[i]), mn * nums[i])\n",
    "            minVal = min(min(nums[i], mx * nums[i]), mn * nums[i])\n",
    "            maxAns = max(maxVal, maxAns)\n",
    "            \n",
    "        return maxAns"
   ]
  }
 ],
 "metadata": {
  "kernelspec": {
   "display_name": "Python 3",
   "language": "python",
   "name": "python3"
  },
  "language_info": {
   "codemirror_mode": {
    "name": "ipython",
    "version": 3
   },
   "file_extension": ".py",
   "mimetype": "text/x-python",
   "name": "python",
   "nbconvert_exporter": "python",
   "pygments_lexer": "ipython3",
   "version": "3.7.3"
  }
 },
 "nbformat": 4,
 "nbformat_minor": 2
}
