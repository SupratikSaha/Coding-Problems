{
 "cells": [
  {
   "cell_type": "markdown",
   "metadata": {},
   "source": [
    "Problem Statement.\n",
    "\n",
    "    Table: Salary\n",
    "\n",
    "    +-------------+----------+\n",
    "    | Column Name | Type     |\n",
    "    +-------------+----------+\n",
    "    | id          | int      |\n",
    "    | name        | varchar  |\n",
    "    | sex         | ENUM     |\n",
    "    | salary      | int      |\n",
    "    +-------------+----------+\n",
    "    id is the primary key for this table.\n",
    "    The sex column is ENUM value of type ('m', 'f').\n",
    "    The table contains information about an employee.\n",
    "\n",
    "\n",
    "\n",
    "    Write an SQL query to swap all 'f' and 'm' values (i.e., change all 'f' values to 'm' and vice versa) with a single update statement and no intermediate temp table(s).\n",
    "\n",
    "    Note that you must write a single update statement, DO NOT write any select statement for this problem.\n",
    "\n",
    "    The query result format is in the following example:\n",
    "\n",
    "\n",
    "\n",
    "    Salary table:\n",
    "    +----+------+-----+--------+\n",
    "    | id | name | sex | salary |\n",
    "    +----+------+-----+--------+\n",
    "    | 1  | A    | m   | 2500   |\n",
    "    | 2  | B    | f   | 1500   |\n",
    "    | 3  | C    | m   | 5500   |\n",
    "    | 4  | D    | f   | 500    |\n",
    "    +----+------+-----+--------+\n",
    "\n",
    "    Result table:\n",
    "    +----+------+-----+--------+\n",
    "    | id | name | sex | salary |\n",
    "    +----+------+-----+--------+\n",
    "    | 1  | A    | f   | 2500   |\n",
    "    | 2  | B    | m   | 1500   |\n",
    "    | 3  | C    | f   | 5500   |\n",
    "    | 4  | D    | m   | 500    |\n",
    "    +----+------+-----+--------+\n",
    "    (1, A) and (3, C) were changed from 'm' to 'f'.\n",
    "    (2, B) and (4, D) were changed from 'f' to 'm'."
   ]
  },
  {
   "cell_type": "markdown",
   "metadata": {},
   "source": [
    "# Case Statement"
   ]
  },
  {
   "cell_type": "code",
   "execution_count": null,
   "metadata": {},
   "outputs": [],
   "source": [
    "UPDATE salary\n",
    "SET\n",
    "    sex = CASE sex\n",
    "        WHEN 'm' THEN 'f'\n",
    "        ELSE 'm'\n",
    "    END"
   ]
  }
 ],
 "metadata": {
  "kernelspec": {
   "display_name": "Python 3",
   "language": "python",
   "name": "python3"
  },
  "language_info": {
   "codemirror_mode": {
    "name": "ipython",
    "version": 3
   },
   "file_extension": ".py",
   "mimetype": "text/x-python",
   "name": "python",
   "nbconvert_exporter": "python",
   "pygments_lexer": "ipython3",
   "version": "3.7.3"
  }
 },
 "nbformat": 4,
 "nbformat_minor": 2
}
