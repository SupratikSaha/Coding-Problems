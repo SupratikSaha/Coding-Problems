{
 "cells": [
  {
   "cell_type": "markdown",
   "metadata": {},
   "source": [
    "Problem Statement.\n",
    "\n",
    "Given the root of a binary tree, return an array of the largest value in each row of the tree (0-indexed).\n",
    "\n",
    " \n",
    "\n",
    "Example 1:\n",
    "\n",
    "Input: root = [1,3,2,5,3,null,9]\n",
    "Output: [1,3,9]\n",
    "\n",
    "Example 2:\n",
    "\n",
    "Input: root = [1,2,3]\n",
    "Output: [1,3]\n",
    "\n",
    " \n",
    "\n",
    "Constraints:\n",
    "\n",
    "    The number of nodes in the tree will be in the range [0, 104].\n",
    "    -2^31 <= Node.val <= 2^31 - 1"
   ]
  },
  {
   "cell_type": "markdown",
   "metadata": {},
   "source": [
    "# BFS - O(N) runtime, O(N) space"
   ]
  },
  {
   "cell_type": "code",
   "execution_count": 1,
   "metadata": {},
   "outputs": [],
   "source": [
    "from typing import List, Optional\n",
    "\n",
    "# Definition for a binary tree node.\n",
    "# class TreeNode:\n",
    "#     def __init__(self, val=0, left=None, right=None):\n",
    "#         self.val = val\n",
    "#         self.left = left\n",
    "#         self.right = right\n",
    "\n",
    "class Solution:\n",
    "    def largestValues(self, root: Optional[TreeNode]) -> List[int]:\n",
    "        if not root: return []\n",
    "        \n",
    "        queue = deque([root])\n",
    "        res = []\n",
    "        \n",
    "        while queue:\n",
    "            n = len(queue)\n",
    "            curMax = float('-inf')\n",
    "            for _ in range(n):\n",
    "                cur = queue.popleft()\n",
    "                curMax = max(curMax, cur.val)\n",
    "                \n",
    "                for child in [cur.left, cur.right]:\n",
    "                    if child: queue.append(child)\n",
    "                        \n",
    "            res.append(curMax)\n",
    "            \n",
    "        return res"
   ]
  },
  {
   "cell_type": "markdown",
   "metadata": {},
   "source": [
    "# Simpler BFS - O(N) runtime, O(N) space"
   ]
  },
  {
   "cell_type": "code",
   "execution_count": 2,
   "metadata": {},
   "outputs": [],
   "source": [
    "from typing import List, Optional\n",
    "\n",
    "# Definition for a binary tree node.\n",
    "# class TreeNode:\n",
    "#     def __init__(self, val=0, left=None, right=None):\n",
    "#         self.val = val\n",
    "#         self.left = left\n",
    "#         self.right = right\n",
    "class Solution:\n",
    "    def largestValues(self, root: Optional[TreeNode]) -> List[int]:\n",
    "        maxes = []\n",
    "        row = [root]\n",
    "        while any(row):\n",
    "            maxes.append(max(node.val for node in row))\n",
    "            row = [kid for node in row for kid in (node.left, node.right) if kid]\n",
    "        return maxes"
   ]
  }
 ],
 "metadata": {
  "kernelspec": {
   "display_name": "Python 3",
   "language": "python",
   "name": "python3"
  },
  "language_info": {
   "codemirror_mode": {
    "name": "ipython",
    "version": 3
   },
   "file_extension": ".py",
   "mimetype": "text/x-python",
   "name": "python",
   "nbconvert_exporter": "python",
   "pygments_lexer": "ipython3",
   "version": "3.7.3"
  }
 },
 "nbformat": 4,
 "nbformat_minor": 2
}
