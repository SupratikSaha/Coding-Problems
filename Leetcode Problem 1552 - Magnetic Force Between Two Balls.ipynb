{
 "cells": [
  {
   "cell_type": "markdown",
   "metadata": {},
   "source": [
    "Problem Statement.\n",
    "\n",
    "In universe Earth C-137, Rick discovered a special form of magnetic force between two balls if they are put in his new invented basket. Rick has n empty baskets, the ith basket is at position[i], Morty has m balls and needs to distribute the balls into the baskets such that the minimum magnetic force between any two balls is maximum.\n",
    "\n",
    "Rick stated that magnetic force between two different balls at positions x and y is |x - y|.\n",
    "\n",
    "Given the integer array position and the integer m. Return the required force.\n",
    "\n",
    " \n",
    "\n",
    "Example 1:\n",
    "\n",
    "Input: position = [1,2,3,4,7], m = 3\n",
    "Output: 3\n",
    "Explanation: Distributing the 3 balls into baskets 1, 4 and 7 will make the magnetic force between ball pairs [3, 3, 6]. The minimum magnetic force is 3. We cannot achieve a larger minimum magnetic force than 3.\n",
    "\n",
    "Example 2:\n",
    "\n",
    "Input: position = [5,4,3,2,1,1000000000], m = 2\n",
    "Output: 999999999\n",
    "Explanation: We can use baskets 1 and 1000000000.\n",
    "\n",
    " \n",
    "\n",
    "Constraints:\n",
    "\n",
    "    n == position.length\n",
    "    2 <= n <= 10^5\n",
    "    1 <= position[i] <= 10^9\n",
    "    All integers in position are distinct.\n",
    "    2 <= m <= position.length"
   ]
  },
  {
   "cell_type": "markdown",
   "metadata": {},
   "source": [
    "# Binary Search - O(N * Log M) runtime, O(N) space, where N is the length of position array and M is the number of balls "
   ]
  },
  {
   "cell_type": "code",
   "execution_count": 1,
   "metadata": {},
   "outputs": [],
   "source": [
    "from typing import List\n",
    "\n",
    "class Solution:\n",
    "    def maxDistance(self, position: List[int], m: int) -> int:\n",
    "        n = len(position)\n",
    "        position.sort()\n",
    "        \n",
    "        def count(d):\n",
    "            ans, curr = 1, position[0]\n",
    "            for i in range(1, n):\n",
    "                if position[i] - curr >= d:\n",
    "                    ans += 1\n",
    "                    curr = position[i]\n",
    "            return ans\n",
    "        \n",
    "        l, r = 0, position[-1] - position[0]\n",
    "        while l < r:\n",
    "            mid = r - (r - l) // 2\n",
    "            if count(mid) >= m:\n",
    "                l = mid\n",
    "            else:\n",
    "                r = mid - 1\n",
    "        return l"
   ]
  },
  {
   "cell_type": "code",
   "execution_count": 2,
   "metadata": {},
   "outputs": [
    {
     "data": {
      "text/plain": [
       "3"
      ]
     },
     "execution_count": 2,
     "metadata": {},
     "output_type": "execute_result"
    }
   ],
   "source": [
    "instance = Solution()\n",
    "instance.maxDistance([1,2,3,4,7], 3)"
   ]
  }
 ],
 "metadata": {
  "kernelspec": {
   "display_name": "Python 3",
   "language": "python",
   "name": "python3"
  },
  "language_info": {
   "codemirror_mode": {
    "name": "ipython",
    "version": 3
   },
   "file_extension": ".py",
   "mimetype": "text/x-python",
   "name": "python",
   "nbconvert_exporter": "python",
   "pygments_lexer": "ipython3",
   "version": "3.7.3"
  }
 },
 "nbformat": 4,
 "nbformat_minor": 2
}
