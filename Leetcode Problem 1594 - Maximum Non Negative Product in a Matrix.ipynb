{
 "cells": [
  {
   "cell_type": "markdown",
   "metadata": {},
   "source": [
    "Problem Statement.\n",
    "\n",
    "You are given a rows x cols matrix grid. Initially, you are located at the top-left corner (0, 0), and in each step, you can only move right or down in the matrix.\n",
    "\n",
    "Among all possible paths starting from the top-left corner (0, 0) and ending in the bottom-right corner (rows - 1, cols - 1), find the path with the maximum non-negative product. The product of a path is the product of all integers in the grid cells visited along the path.\n",
    "\n",
    "Return the maximum non-negative product modulo 109 + 7. If the maximum product is negative return -1.\n",
    "\n",
    "Notice that the modulo is performed after getting the maximum product.\n",
    "\n",
    " \n",
    "\n",
    "Example 1:\n",
    "\n",
    "Input: grid = [[-1,-2,-3],\n",
    "               [-2,-3,-3],\n",
    "               [-3,-3,-2]]\n",
    "Output: -1\n",
    "Explanation: It's not possible to get non-negative product in the path from (0, 0) to (2, 2), so return -1.\n",
    "\n",
    "Example 2:\n",
    "\n",
    "Input: grid = [[1,-2,1],\n",
    "               [1,-2,1],\n",
    "               [3,-4,1]]\n",
    "Output: 8\n",
    "Explanation: Maximum non-negative product is in bold (1 * 1 * -2 * -4 * 1 = 8).\n",
    "\n",
    "Example 3:\n",
    "\n",
    "Input: grid = [[1, 3],\n",
    "               [0,-4]]\n",
    "Output: 0\n",
    "Explanation: Maximum non-negative product is in bold (1 * 0 * -4 = 0).\n",
    "\n",
    "Example 4:\n",
    "\n",
    "Input: grid = [[ 1, 4,4,0],\n",
    "               [-2, 0,0,1],\n",
    "               [ 1,-1,1,1]]\n",
    "Output: 2\n",
    "Explanation: Maximum non-negative product is in bold (1 * -2 * 1 * -1 * 1 * 1 = 2).\n",
    "\n",
    " \n",
    "\n",
    "Constraints:\n",
    "\n",
    "    1 <= rows, cols <= 15\n",
    "    -4 <= grid[i][j] <= 4"
   ]
  },
  {
   "cell_type": "markdown",
   "metadata": {},
   "source": [
    "# BFS with memo - O(2 ^ N) runtime, O(2 ^ N) space where N is the number of cells"
   ]
  },
  {
   "cell_type": "code",
   "execution_count": 1,
   "metadata": {},
   "outputs": [],
   "source": [
    "from typing import List\n",
    "from collections import defaultdict, deque\n",
    "\n",
    "class Solution:\n",
    "    def maxProductPath(self, grid: List[List[int]]) -> int:\n",
    "        m, n = len(grid), len(grid[0])\n",
    "        \n",
    "        queue = deque([(0, 0, grid[0][0])])\n",
    "        res = float('-inf')\n",
    "        visited = defaultdict(set)\n",
    "        \n",
    "        while queue:\n",
    "            r, c, prod = queue.popleft()\n",
    "            if (r, c) == (m-1, n-1):\n",
    "                res = max(res, prod)\n",
    "                \n",
    "            for r1, c1 in [(r+1, c), (r, c+1)]:\n",
    "                if 0 <= r1 < m and 0 <= c1 < n:\n",
    "                    val = prod*grid[r1][c1]\n",
    "                    if (r1, c1) not in visited or val not in visited[(r1, c1)]:\n",
    "                        queue.append((r1, c1, val))\n",
    "                        visited[(r1, c1)].add(val)\n",
    "                    \n",
    "        return res % (10**9 + 7) if res >= 0 else -1"
   ]
  },
  {
   "cell_type": "markdown",
   "metadata": {},
   "source": [
    "# Top Down DP - O(M * N) runtime, O(M * N) space"
   ]
  },
  {
   "cell_type": "code",
   "execution_count": 2,
   "metadata": {},
   "outputs": [],
   "source": [
    "from typing import List\n",
    "from functools import lru_cache\n",
    "\n",
    "class Solution:\n",
    "    def maxProductPath(self, grid: List[List[int]]) -> int:\n",
    "        m, n = len(grid), len(grid[0])\n",
    "        \n",
    "        @lru_cache(maxsize=None)\n",
    "        def fn(i, j): \n",
    "            \"\"\"Return maximum & minimum products ending at (i, j).\"\"\"\n",
    "            if i == 0 and j == 0: return grid[0][0], grid[0][0]\n",
    "            if i < 0 or j < 0: return float('-inf'), float('inf')\n",
    "            if grid[i][j] == 0: return 0, 0\n",
    "            mx1, mn1 = fn(i-1, j) # from top\n",
    "            mx2, mn2 = fn(i, j-1) # from left \n",
    "            mx, mn = max(mx1, mx2)*grid[i][j], min(mn1, mn2)*grid[i][j]\n",
    "            return (mx, mn) if grid[i][j] > 0 else (mn, mx)\n",
    "        \n",
    "        mx, _ = fn(m-1, n-1)\n",
    "        return -1 if mx < 0 else mx % 1_000_000_007"
   ]
  },
  {
   "cell_type": "markdown",
   "metadata": {},
   "source": [
    "# Bottom Up DP - O(M * N) runtime, O(M * N) space"
   ]
  },
  {
   "cell_type": "code",
   "execution_count": 3,
   "metadata": {},
   "outputs": [],
   "source": [
    "from typing import List\n",
    "\n",
    "class Solution:\n",
    "    def maxProductPath(self, grid: List[List[int]]) -> int:\n",
    "        m, n = len(grid), len(grid[0])\n",
    "        dp = [[0, 0] * n for _ in range(m)]\n",
    "        dp[0][0] = [grid[0][0], grid[0][0]]\n",
    "\n",
    "        for j in range(1, n):\n",
    "            dp[0][j] = [dp[0][j - 1][0] * grid[0][j], dp[0][j - 1][1] * grid[0][j]]\n",
    "\n",
    "        for i in range(1, m):\n",
    "            dp[i][0] = [dp[i - 1][0][0] * grid[i][0], dp[i - 1][0][1] * grid[i][0]]\n",
    "\n",
    "        for i in range(1, m):\n",
    "            for j in range(1, n):\n",
    "                maxVal = max(dp[i - 1][j][0], dp[i][j - 1][0]) * grid[i][j]\n",
    "                minVal = min(dp[i - 1][j][1], dp[i][j - 1][1]) * grid[i][j]\n",
    "                if grid[i][j] > 0:\n",
    "                    dp[i][j] = [maxVal, minVal]\n",
    "                else:\n",
    "                    dp[i][j] = [minVal, maxVal]\n",
    "                    \n",
    "        return dp[m-1][n-1][0] % (10**9 + 7) if dp[m-1][n-1][0] >= 0 else -1"
   ]
  },
  {
   "cell_type": "code",
   "execution_count": 4,
   "metadata": {},
   "outputs": [
    {
     "data": {
      "text/plain": [
       "8"
      ]
     },
     "execution_count": 4,
     "metadata": {},
     "output_type": "execute_result"
    }
   ],
   "source": [
    "instance = Solution()\n",
    "instance.maxProductPath([[1,-2,1], [1,-2,1], [3,-4,1]])"
   ]
  }
 ],
 "metadata": {
  "kernelspec": {
   "display_name": "Python 3",
   "language": "python",
   "name": "python3"
  },
  "language_info": {
   "codemirror_mode": {
    "name": "ipython",
    "version": 3
   },
   "file_extension": ".py",
   "mimetype": "text/x-python",
   "name": "python",
   "nbconvert_exporter": "python",
   "pygments_lexer": "ipython3",
   "version": "3.7.3"
  }
 },
 "nbformat": 4,
 "nbformat_minor": 2
}
