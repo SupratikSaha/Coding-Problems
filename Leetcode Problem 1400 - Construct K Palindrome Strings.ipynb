{
 "cells": [
  {
   "cell_type": "markdown",
   "metadata": {},
   "source": [
    "Problem Statement.\n",
    "\n",
    "Given a string s and an integer k. You should construct k non-empty palindrome strings using all the characters in s.\n",
    "\n",
    "Return True if you can use all the characters in s to construct k palindrome strings or False otherwise.\n",
    "\n",
    " \n",
    "\n",
    "Example 1:\n",
    "\n",
    "Input: s = \"annabelle\", k = 2\n",
    "Output: true\n",
    "Explanation: You can construct two palindromes using all characters in s.\n",
    "Some possible constructions \"anna\" + \"elble\", \"anbna\" + \"elle\", \"anellena\" + \"b\"\n",
    "\n",
    "Example 2:\n",
    "\n",
    "Input: s = \"leetcode\", k = 3\n",
    "Output: false\n",
    "Explanation: It is impossible to construct 3 palindromes using all the characters of s.\n",
    "\n",
    "Example 3:\n",
    "\n",
    "Input: s = \"true\", k = 4\n",
    "Output: true\n",
    "Explanation: The only possible solution is to put each character in a separate string.\n",
    "\n",
    "Example 4:\n",
    "\n",
    "Input: s = \"yzyzyzyzyzyzyzy\", k = 2\n",
    "Output: true\n",
    "Explanation: Simply you can put all z's in one string and all y's in the other string. Both strings will be palindrome.\n",
    "\n",
    "Example 5:\n",
    "\n",
    "Input: s = \"cr\", k = 7\n",
    "Output: false\n",
    "Explanation: We don't have enough characters in s to construct 7 palindromes.\n",
    "\n",
    " \n",
    "\n",
    "Constraints:\n",
    "\n",
    "    1 <= s.length <= 10^5\n",
    "    All characters in s are lower-case English letters.\n",
    "    1 <= k <= 10^5"
   ]
  },
  {
   "cell_type": "markdown",
   "metadata": {},
   "source": [
    "# HashTable - O(N) runtime, O(N) space"
   ]
  },
  {
   "cell_type": "code",
   "execution_count": 3,
   "metadata": {},
   "outputs": [],
   "source": [
    "from collections import Counter\n",
    "\n",
    "class Solution:\n",
    "    def canConstruct(self, s: str, k: int) -> bool:\n",
    "        counter = Counter(s)\n",
    "        pairs, odds = 0, 0\n",
    "        \n",
    "        for c, freq in counter.items():\n",
    "            pairs += freq // 2\n",
    "            odds += freq % 2\n",
    "            \n",
    "        if odds > k or odds + 2*pairs < k: return False\n",
    "        \n",
    "        return True"
   ]
  },
  {
   "cell_type": "markdown",
   "metadata": {},
   "source": [
    "# Shorter HashTable - O(N) runtime, O(1) space"
   ]
  },
  {
   "cell_type": "code",
   "execution_count": 7,
   "metadata": {},
   "outputs": [],
   "source": [
    "from collections import Counter\n",
    "\n",
    "class Solution:\n",
    "    def canConstruct(self, s: str, k: int) -> bool:\n",
    "        return sum(i & 1 for i in Counter(s).values()) <= k <= len(s)"
   ]
  },
  {
   "cell_type": "code",
   "execution_count": 8,
   "metadata": {},
   "outputs": [
    {
     "data": {
      "text/plain": [
       "True"
      ]
     },
     "execution_count": 8,
     "metadata": {},
     "output_type": "execute_result"
    }
   ],
   "source": [
    "instance = Solution()\n",
    "instance.canConstruct(\"yzyzyzyzyzyzyzy\", 2)"
   ]
  }
 ],
 "metadata": {
  "kernelspec": {
   "display_name": "Python 3",
   "language": "python",
   "name": "python3"
  },
  "language_info": {
   "codemirror_mode": {
    "name": "ipython",
    "version": 3
   },
   "file_extension": ".py",
   "mimetype": "text/x-python",
   "name": "python",
   "nbconvert_exporter": "python",
   "pygments_lexer": "ipython3",
   "version": "3.7.3"
  }
 },
 "nbformat": 4,
 "nbformat_minor": 2
}
