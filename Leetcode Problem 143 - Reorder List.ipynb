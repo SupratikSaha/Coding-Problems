{
 "cells": [
  {
   "cell_type": "markdown",
   "metadata": {},
   "source": [
    "Given a singly linked list L: L0→L1→…→Ln-1→Ln,\n",
    "reorder it to: L0→Ln→L1→Ln-1→L2→Ln-2→…\n",
    "\n",
    "You may not modify the values in the list's nodes, only nodes itself may be changed.\n",
    "\n",
    "Example 1:\n",
    "\n",
    "Given 1->2->3->4, reorder it to 1->4->2->3.\n",
    "\n",
    "Example 2:\n",
    "\n",
    "Given 1->2->3->4->5, reorder it to 1->5->2->4->3."
   ]
  },
  {
   "cell_type": "markdown",
   "metadata": {},
   "source": [
    "# Using a deque - O(n) runtime, O(n) space"
   ]
  },
  {
   "cell_type": "code",
   "execution_count": 1,
   "metadata": {},
   "outputs": [],
   "source": [
    "# Definition for singly-linked list.\n",
    "class ListNode:\n",
    "    def __init__(self, val=0, next=None):\n",
    "        self.val = val\n",
    "        self.next = next\n",
    "        \n",
    "class Solution:\n",
    "    def reorderList(self, head: ListNode) -> None:\n",
    "        \"\"\"\n",
    "        Do not return anything, modify head in-place instead.\n",
    "        \"\"\"\n",
    "        \n",
    "        stack = deque()\n",
    "        \n",
    "        while head:\n",
    "            stack.append(head)\n",
    "            head = head.next\n",
    "        \n",
    "        head = curr = ListNode(0, None)\n",
    "            \n",
    "        while stack:\n",
    "            left = stack.popleft()\n",
    "            curr.next = left\n",
    "            right = stack.pop() if stack else None\n",
    "            left.next = right\n",
    "            if right:\n",
    "                right.next = None\n",
    "            curr = right"
   ]
  },
  {
   "cell_type": "markdown",
   "metadata": {},
   "source": [
    "# Without extra space - Find middle, reverse second half and merge the first and second halves - O(n) runtime, O(1) space"
   ]
  },
  {
   "cell_type": "code",
   "execution_count": 2,
   "metadata": {},
   "outputs": [],
   "source": [
    "# Definition for singly-linked list.\n",
    "class ListNode:\n",
    "    def __init__(self, val=0, next=None):\n",
    "        self.val = val\n",
    "        self.next = next\n",
    "        \n",
    "class Solution:\n",
    "    def reorderList(self, head: ListNode) -> None:\n",
    "        \"\"\"\n",
    "        Do not return anything, modify head in-place instead.\n",
    "        \"\"\"\n",
    "        \n",
    "        if not head:\n",
    "            return \n",
    "        \n",
    "        # find the middle of linked list [Problem 876]\n",
    "        # in 1->2->3->4->5->6 find 4 \n",
    "        slow = fast = head\n",
    "        while fast and fast.next:\n",
    "            slow = slow.next\n",
    "            fast = fast.next.next \n",
    "            \n",
    "        # reverse the second part of the list [Problem 206]\n",
    "        # convert 1->2->3->4->5->6 into 1->2->3->4 and 6->5->4\n",
    "        # reverse the second half in-place\n",
    "        prev, curr = None, slow\n",
    "        while curr:\n",
    "            curr.next, prev, curr = prev, curr, curr.next       \n",
    "\n",
    "        # merge two sorted linked lists [Problem 21]\n",
    "        # merge 1->2->3->4 and 6->5->4 into 1->6->2->5->3->4\n",
    "        first, second = head, prev\n",
    "        while second.next:\n",
    "            first.next, first = second, first.next\n",
    "            second.next, second = first, second.next"
   ]
  }
 ],
 "metadata": {
  "kernelspec": {
   "display_name": "Python 3",
   "language": "python",
   "name": "python3"
  },
  "language_info": {
   "codemirror_mode": {
    "name": "ipython",
    "version": 3
   },
   "file_extension": ".py",
   "mimetype": "text/x-python",
   "name": "python",
   "nbconvert_exporter": "python",
   "pygments_lexer": "ipython3",
   "version": "3.7.3"
  }
 },
 "nbformat": 4,
 "nbformat_minor": 2
}
