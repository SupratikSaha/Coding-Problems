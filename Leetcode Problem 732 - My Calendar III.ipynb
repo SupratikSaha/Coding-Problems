{
 "cells": [
  {
   "cell_type": "markdown",
   "metadata": {},
   "source": [
    "Problem Statement.\n",
    "\n",
    "A k-booking happens when k events have some non-empty intersection (i.e., there is some time that is common to all k events.)\n",
    "\n",
    "You are given some events [start, end), after each given event, return an integer k representing the maximum k-booking between all the previous events.\n",
    "\n",
    "Implement the MyCalendarThree class:\n",
    "\n",
    "    MyCalendarThree() Initializes the object.\n",
    "    int book(int start, int end) Returns an integer k representing the largest integer such that there exists a k-booking in the calendar.\n",
    "\n",
    " \n",
    "\n",
    "Example 1:\n",
    "\n",
    "Input\n",
    "[\"MyCalendarThree\", \"book\", \"book\", \"book\", \"book\", \"book\", \"book\"]\n",
    "[[], [10, 20], [50, 60], [10, 40], [5, 15], [5, 10], [25, 55]]\n",
    "Output\n",
    "[null, 1, 1, 2, 3, 3, 3]\n",
    "\n",
    "Explanation\n",
    "MyCalendarThree myCalendarThree = new MyCalendarThree();\n",
    "myCalendarThree.book(10, 20); // return 1, The first event can be booked and is disjoint, so the maximum k-booking is a 1-booking.\n",
    "myCalendarThree.book(50, 60); // return 1, The second event can be booked and is disjoint, so the maximum k-booking is a 1-booking.\n",
    "myCalendarThree.book(10, 40); // return 2, The third event [10, 40) intersects the first event, and the maximum k-booking is a 2-booking.\n",
    "myCalendarThree.book(5, 15); // return 3, The remaining events cause the maximum K-booking to be only a 3-booking.\n",
    "myCalendarThree.book(5, 10); // return 3\n",
    "myCalendarThree.book(25, 55); // return 3\n",
    "\n",
    " \n",
    "\n",
    "Constraints:\n",
    "\n",
    "    0 <= start < end <= 109\n",
    "    At most 400 calls will be made to book."
   ]
  },
  {
   "cell_type": "markdown",
   "metadata": {},
   "source": [
    "# Binary Search - O(N) each book, O(N ^ 2) for N books runtime, O(N) space"
   ]
  },
  {
   "cell_type": "code",
   "execution_count": 1,
   "metadata": {},
   "outputs": [],
   "source": [
    "class MyCalendarThree:\n",
    "\n",
    "    def __init__(self):\n",
    "        self.pos = [] #keep start and end points\n",
    "        self.cnt = {} #time point: the booking count at this time\n",
    "        self.max = 0 #the current max num of bookings at a time, our answer\n",
    "\n",
    "    def book(self, start: int, end: int) -> int:\n",
    "        \n",
    "        i = bisect.bisect_left(self.pos, start)\n",
    "        j = bisect.bisect_left(self.pos, end)\n",
    "        #deal with a new start point\n",
    "        if start not in self.cnt:\n",
    "            c = self.cnt[self.pos[i-1]] if i-1 >= 0 else 0\n",
    "            self.pos.insert(i, start)\n",
    "            j += 1 #as we just inserted start, increse j\n",
    "            self.cnt[start] = c\n",
    "        #deal with a new end point\n",
    "        if end not in self.cnt:\n",
    "            self.pos.insert(j, end)\n",
    "            self.cnt[end] = self.cnt[self.pos[j-1]]\n",
    "        for k in range(i, j): #update self.cnt, for every time point during the [start, end), increment its booking num\n",
    "            self.cnt[self.pos[k]] += 1\n",
    "            self.max = max(self.max, self.cnt[self.pos[k]]) #update the max booking\n",
    "        return self.max"
   ]
  }
 ],
 "metadata": {
  "kernelspec": {
   "display_name": "Python 3",
   "language": "python",
   "name": "python3"
  },
  "language_info": {
   "codemirror_mode": {
    "name": "ipython",
    "version": 3
   },
   "file_extension": ".py",
   "mimetype": "text/x-python",
   "name": "python",
   "nbconvert_exporter": "python",
   "pygments_lexer": "ipython3",
   "version": "3.7.3"
  }
 },
 "nbformat": 4,
 "nbformat_minor": 2
}
