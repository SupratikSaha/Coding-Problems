{
 "cells": [
  {
   "cell_type": "markdown",
   "metadata": {},
   "source": [
    "    Problem Statement.\n",
    "\n",
    "    Table: MyNumbers\n",
    "\n",
    "    +-------------+------+\n",
    "    | Column Name | Type |\n",
    "    +-------------+------+\n",
    "    | num         | int  |\n",
    "    +-------------+------+\n",
    "    There is no primary key for this table. It may contain duplicates.\n",
    "    Each row of this table contains an integer.\n",
    "\n",
    "\n",
    "\n",
    "    A single number is a number that appeared only once in the MyNumbers table.\n",
    "\n",
    "    Write an SQL query to report the largest single number. If there is no single number, report null.\n",
    "\n",
    "    The query result format is in the following example.\n",
    "\n",
    "\n",
    "\n",
    "    Example 1:\n",
    "\n",
    "    Input: \n",
    "    MyNumbers table:\n",
    "    +-----+\n",
    "    | num |\n",
    "    +-----+\n",
    "    | 8   |\n",
    "    | 8   |\n",
    "    | 3   |\n",
    "    | 3   |\n",
    "    | 1   |\n",
    "    | 4   |\n",
    "    | 5   |\n",
    "    | 6   |\n",
    "    +-----+\n",
    "    Output: \n",
    "    +-----+\n",
    "    | num |\n",
    "    +-----+\n",
    "    | 6   |\n",
    "    +-----+\n",
    "    Explanation: The single numbers are 1, 4, 5, and 6.\n",
    "    Since 6 is the largest single number, we return it.\n",
    "\n",
    "    Example 2:\n",
    "\n",
    "    Input: \n",
    "    MyNumbers table:\n",
    "    +-----+\n",
    "    | num |\n",
    "    +-----+\n",
    "    | 8   |\n",
    "    | 8   |\n",
    "    | 7   |\n",
    "    | 7   |\n",
    "    | 3   |\n",
    "    | 3   |\n",
    "    | 3   |\n",
    "    +-----+\n",
    "    Output: \n",
    "    +------+\n",
    "    | num  |\n",
    "    +------+\n",
    "    | null |\n",
    "    +------+\n",
    "    Explanation: There are no single numbers in the input table so we return null."
   ]
  },
  {
   "cell_type": "markdown",
   "metadata": {},
   "source": [
    "# Union"
   ]
  },
  {
   "cell_type": "code",
   "execution_count": null,
   "metadata": {},
   "outputs": [],
   "source": [
    "select num\n",
    "from MyNumbers\n",
    "group by num\n",
    "having count(*) = 1\n",
    "\n",
    "union\n",
    "select null\n",
    "    \n",
    "order by num desc\n",
    "limit 1"
   ]
  }
 ],
 "metadata": {
  "kernelspec": {
   "display_name": "Python 3",
   "language": "python",
   "name": "python3"
  },
  "language_info": {
   "codemirror_mode": {
    "name": "ipython",
    "version": 3
   },
   "file_extension": ".py",
   "mimetype": "text/x-python",
   "name": "python",
   "nbconvert_exporter": "python",
   "pygments_lexer": "ipython3",
   "version": "3.7.3"
  }
 },
 "nbformat": 4,
 "nbformat_minor": 2
}
