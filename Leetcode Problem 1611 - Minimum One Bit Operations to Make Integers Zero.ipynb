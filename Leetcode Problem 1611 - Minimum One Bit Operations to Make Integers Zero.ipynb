{
 "cells": [
  {
   "cell_type": "markdown",
   "metadata": {},
   "source": [
    "Problem Statement.\n",
    "\n",
    "Given an integer n, you must transform it into 0 using the following operations any number of times:\n",
    "\n",
    "    Change the rightmost (0th) bit in the binary representation of n.\n",
    "    Change the ith bit in the binary representation of n if the (i-1)th bit is set to 1 and the (i-2)th through 0th bits are set to 0.\n",
    "\n",
    "Return the minimum number of operations to transform n into 0.\n",
    "\n",
    " \n",
    "\n",
    "Example 1:\n",
    "\n",
    "Input: n = 0\n",
    "Output: 0\n",
    "\n",
    "Example 2:\n",
    "\n",
    "Input: n = 3\n",
    "Output: 2\n",
    "Explanation: The binary representation of 3 is \"11\".\n",
    "\"11\" -> \"01\" with the 2nd operation since the 0th bit is 1.\n",
    "\"01\" -> \"00\" with the 1st operation.\n",
    "\n",
    "Example 3:\n",
    "\n",
    "Input: n = 6\n",
    "Output: 4\n",
    "Explanation: The binary representation of 6 is \"110\".\n",
    "\"110\" -> \"010\" with the 2nd operation since the 1st bit is 1 and 0th through 0th bits are 0.\n",
    "\"010\" -> \"011\" with the 1st operation.\n",
    "\"011\" -> \"001\" with the 2nd operation since the 0th bit is 1.\n",
    "\"001\" -> \"000\" with the 1st operation.\n",
    "\n",
    "Example 4:\n",
    "\n",
    "Input: n = 9\n",
    "Output: 14\n",
    "\n",
    "Example 5:\n",
    "\n",
    "Input: n = 333\n",
    "Output: 393\n",
    "\n",
    " \n",
    "\n",
    "Constraints:\n",
    "\n",
    "    0 <= n <= 10^9"
   ]
  },
  {
   "cell_type": "markdown",
   "metadata": {},
   "source": [
    "# Iterative - O(Log N) runtime, O(1) space"
   ]
  },
  {
   "cell_type": "code",
   "execution_count": 1,
   "metadata": {},
   "outputs": [],
   "source": [
    "class Solution:\n",
    "    def minimumOneBitOperations(self, n: int) -> int:\n",
    "        # We iterate the binary format of n,\n",
    "        # whenever we meet bit 1 at ith position,\n",
    "        # we increment the result by (1 << (i + 1)) - 1.\n",
    "        res = 0\n",
    "        while n:\n",
    "            res = -res - (n ^ (n - 1))\n",
    "            n &= n - 1\n",
    "        return abs(res)"
   ]
  },
  {
   "cell_type": "markdown",
   "metadata": {},
   "source": [
    "# Right Shift - O(Log N) runtime, O(1) space"
   ]
  },
  {
   "cell_type": "code",
   "execution_count": 3,
   "metadata": {},
   "outputs": [],
   "source": [
    "class Solution:\n",
    "    def minimumOneBitOperations(self, n: int) -> int:\n",
    "        res = n\n",
    "        while n >> 1: \n",
    "            n = n >> 1\n",
    "            res ^= n\n",
    "        return res"
   ]
  },
  {
   "cell_type": "code",
   "execution_count": 4,
   "metadata": {},
   "outputs": [
    {
     "data": {
      "text/plain": [
       "393"
      ]
     },
     "execution_count": 4,
     "metadata": {},
     "output_type": "execute_result"
    }
   ],
   "source": [
    "instance = Solution()\n",
    "instance.minimumOneBitOperations(333)"
   ]
  }
 ],
 "metadata": {
  "kernelspec": {
   "display_name": "Python 3",
   "language": "python",
   "name": "python3"
  },
  "language_info": {
   "codemirror_mode": {
    "name": "ipython",
    "version": 3
   },
   "file_extension": ".py",
   "mimetype": "text/x-python",
   "name": "python",
   "nbconvert_exporter": "python",
   "pygments_lexer": "ipython3",
   "version": "3.7.3"
  }
 },
 "nbformat": 4,
 "nbformat_minor": 2
}
