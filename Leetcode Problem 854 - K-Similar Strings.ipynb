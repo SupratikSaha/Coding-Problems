{
 "cells": [
  {
   "cell_type": "markdown",
   "metadata": {},
   "source": [
    "    Problem Statement\n",
    "\n",
    "    Strings A and B are K-similar (for some non-negative integer K) if we can swap the positions of two letters in A exactly K times so that the resulting string equals B.\n",
    "\n",
    "    Given two anagrams A and B, return the smallest K for which A and B are K-similar.\n",
    "\n",
    "    Example 1:\n",
    "\n",
    "    Input: A = \"ab\", B = \"ba\"\n",
    "    Output: 1\n",
    "\n",
    "    Example 2:\n",
    "\n",
    "    Input: A = \"abc\", B = \"bca\"\n",
    "    Output: 2\n",
    "\n",
    "    Example 3:\n",
    "\n",
    "    Input: A = \"abac\", B = \"baca\"\n",
    "    Output: 2\n",
    "\n",
    "    Example 4:\n",
    "\n",
    "    Input: A = \"aabc\", B = \"abca\"\n",
    "    Output: 2\n",
    "\n",
    "    Note:\n",
    "\n",
    "        1 <= A.length == B.length <= 20\n",
    "        A and B contain only lowercase letters from the set {'a', 'b', 'c', 'd', 'e', 'f'}"
   ]
  },
  {
   "cell_type": "markdown",
   "metadata": {},
   "source": [
    "#  Brute Force with Dynamic Programming - O(2^N + W) runtime, O(2^N + W) where N is the length of the string, and W is the length of the alphabet."
   ]
  },
  {
   "cell_type": "code",
   "execution_count": 5,
   "metadata": {},
   "outputs": [],
   "source": [
    "from itertools import permutations\n",
    "\n",
    "class Solution:\n",
    "    def kSimilarity(self, A: str, B: str) -> int:\n",
    "        if A == B: return 0\n",
    "\n",
    "        N = len(A)\n",
    "        alphabet = 'abcdef'\n",
    "        pairs = [(a, b) for a in alphabet for b in alphabet if a != b]\n",
    "        index = {p: i for i, p in enumerate(pairs)}\n",
    "\n",
    "        count = [0] * len(index)\n",
    "        for a, b in zip(A, B):\n",
    "            if a != b:\n",
    "                count[index[a, b]] += 1\n",
    "\n",
    "        seen = set()\n",
    "        for size in range(2, len(alphabet) + 1):\n",
    "            for cand in permutations(alphabet, size):\n",
    "                i = cand.index(min(cand))\n",
    "                seen.add(cand[i:] + cand[:i])\n",
    "\n",
    "        possibles = []\n",
    "        for cand in seen:\n",
    "            row = [0] * len(alphabet) * (len(alphabet) - 1)\n",
    "            for a, b in zip(cand, cand[1:] + cand[:1]):\n",
    "                row[index[a, b]] += 1\n",
    "            possibles.append(row)\n",
    "\n",
    "        ZERO = tuple([0] * len(row))\n",
    "        memo = {ZERO: 0}\n",
    "        def solve(count):\n",
    "            if count in memo: return memo[count]\n",
    "\n",
    "            ans = float('-inf')\n",
    "            for row in possibles:\n",
    "                count2 = list(count)\n",
    "                for i, x in enumerate(row):\n",
    "                    if count2[i] >= x:\n",
    "                        count2[i] -= x\n",
    "                    else: break\n",
    "                else:\n",
    "                    ans = max(ans, 1 + solve(tuple(count2)))\n",
    "\n",
    "            memo[count] = ans\n",
    "            return ans\n",
    "\n",
    "        return sum(count) - solve(tuple(count))"
   ]
  },
  {
   "cell_type": "markdown",
   "metadata": {},
   "source": [
    "# BFS - O(2^N + W) runtime, O(2^N + W) where N is the length of the string, and W is the length of the alphabet."
   ]
  },
  {
   "cell_type": "code",
   "execution_count": 1,
   "metadata": {},
   "outputs": [],
   "source": [
    "from collections import deque\n",
    "\n",
    "class Solution:\n",
    "    def kSimilarity(self, A: str, B: str) -> int:\n",
    "        def neighbors(S):\n",
    "            for i, c in enumerate(S):\n",
    "                if c != B[i]:\n",
    "                    break\n",
    "\n",
    "            T = list(S)\n",
    "            for j in range(i+1, len(S)):\n",
    "                if S[j] == B[i]:\n",
    "                    T[i], T[j] = T[j], T[i]\n",
    "                    yield \"\".join(T)\n",
    "                    T[j], T[i] = T[i], T[j]\n",
    "\n",
    "        queue = deque([A])\n",
    "        seen = {A: 0}\n",
    "        while queue:\n",
    "            S = queue.popleft()\n",
    "            if S == B: return seen[S]\n",
    "            for T in neighbors(S):\n",
    "                if T not in seen:\n",
    "                    seen[T] = seen[S] + 1\n",
    "                    queue.append(T)"
   ]
  },
  {
   "cell_type": "code",
   "execution_count": 6,
   "metadata": {},
   "outputs": [
    {
     "data": {
      "text/plain": [
       "2"
      ]
     },
     "execution_count": 6,
     "metadata": {},
     "output_type": "execute_result"
    }
   ],
   "source": [
    "instance = Solution()\n",
    "instance.kSimilarity(\"aabc\", \"abca\")"
   ]
  }
 ],
 "metadata": {
  "kernelspec": {
   "display_name": "Python 3",
   "language": "python",
   "name": "python3"
  },
  "language_info": {
   "codemirror_mode": {
    "name": "ipython",
    "version": 3
   },
   "file_extension": ".py",
   "mimetype": "text/x-python",
   "name": "python",
   "nbconvert_exporter": "python",
   "pygments_lexer": "ipython3",
   "version": "3.7.3"
  }
 },
 "nbformat": 4,
 "nbformat_minor": 2
}
