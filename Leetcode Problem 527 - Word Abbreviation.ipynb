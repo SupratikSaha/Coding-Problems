{
 "cells": [
  {
   "cell_type": "markdown",
   "metadata": {},
   "source": [
    "Problem Statement.\n",
    "\n",
    "Given an array of distinct strings words, return the minimal possible abbreviations for every word.\n",
    "\n",
    "The following are the rules for a string abbreviation:\n",
    "\n",
    "    Begin with the first character, and then the number of characters abbreviated, followed by the last character.\n",
    "    If there is any conflict and more than one word shares the same abbreviation, a longer prefix is used instead of only the first character until making the map from word to abbreviation become unique. In other words, a final abbreviation cannot map to more than one original word.\n",
    "    If the abbreviation does not make the word shorter, then keep it as the original.\n",
    "\n",
    " \n",
    "\n",
    "Example 1:\n",
    "\n",
    "Input: words = [\"like\",\"god\",\"internal\",\"me\",\"internet\",\"interval\",\"intension\",\"face\",\"intrusion\"]\n",
    "Output: [\"l2e\",\"god\",\"internal\",\"me\",\"i6t\",\"interval\",\"inte4n\",\"f2e\",\"intr4n\"]\n",
    "\n",
    "Example 2:\n",
    "\n",
    "Input: words = [\"aa\",\"aaa\"]\n",
    "Output: [\"aa\",\"aaa\"]\n",
    "\n",
    " \n",
    "\n",
    "Constraints:\n",
    "\n",
    "    1 <= words.length <= 400\n",
    "    2 <= words[i].length <= 400\n",
    "    words[i] consists of lowercase English letters.\n",
    "    All the strings of words are unique."
   ]
  },
  {
   "cell_type": "markdown",
   "metadata": {},
   "source": [
    "# Groups with Trie - O(C) runtime, O(C) space where C is the total number of characters"
   ]
  },
  {
   "cell_type": "code",
   "execution_count": 2,
   "metadata": {},
   "outputs": [],
   "source": [
    "from typing import List\n",
    "from collections import defaultdict\n",
    "\n",
    "class Solution:\n",
    "    def wordsAbbreviation(self, words: List[str]) -> List[str]:\n",
    "        groups = defaultdict(list)\n",
    "        ans = [None] * len(words)\n",
    "        for index, word in enumerate(words):\n",
    "            if len(word) > 3:\n",
    "                groups[len(word), word[0], word[-1]].append((word, index))\n",
    "            else: ans[index] = word\n",
    "\n",
    "        Trie = lambda: defaultdict(Trie)\n",
    "        COUNT = False\n",
    "        for group in groups.values():\n",
    "            #print(group)\n",
    "            trie = Trie()\n",
    "            for word, _ in group:\n",
    "                cur = trie\n",
    "                for i in range(1, len(word)):\n",
    "                    letter = word[i]\n",
    "                    cur[COUNT] = cur.get(COUNT, 0) + 1\n",
    "                    cur = cur[letter]\n",
    "            #print(trie)\n",
    "\n",
    "            for word, index in group:\n",
    "                cur = trie\n",
    "                for i in range(1, len(word)):\n",
    "                    letter = word[i]\n",
    "                    if cur[COUNT] == 1: break\n",
    "                    cur = cur[letter]\n",
    "                if len(word) - i - 1 > 1:\n",
    "                    ans[index] = word[:i] + str(len(word) - i - 1) + word[-1]\n",
    "                else:\n",
    "                    ans[index] = word\n",
    "        return ans"
   ]
  },
  {
   "cell_type": "code",
   "execution_count": 3,
   "metadata": {},
   "outputs": [
    {
     "data": {
      "text/plain": [
       "['l2e', 'god', 'internal', 'me', 'i6t', 'interval', 'inte4n', 'f2e', 'intr4n']"
      ]
     },
     "execution_count": 3,
     "metadata": {},
     "output_type": "execute_result"
    }
   ],
   "source": [
    "instance = Solution()\n",
    "instance.wordsAbbreviation([\"like\",\"god\",\"internal\",\"me\",\"internet\",\"interval\",\"intension\",\"face\",\"intrusion\"])"
   ]
  }
 ],
 "metadata": {
  "kernelspec": {
   "display_name": "Python 3",
   "language": "python",
   "name": "python3"
  },
  "language_info": {
   "codemirror_mode": {
    "name": "ipython",
    "version": 3
   },
   "file_extension": ".py",
   "mimetype": "text/x-python",
   "name": "python",
   "nbconvert_exporter": "python",
   "pygments_lexer": "ipython3",
   "version": "3.7.3"
  }
 },
 "nbformat": 4,
 "nbformat_minor": 2
}
