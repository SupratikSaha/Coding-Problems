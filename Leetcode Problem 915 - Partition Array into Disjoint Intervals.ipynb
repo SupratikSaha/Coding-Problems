{
 "cells": [
  {
   "cell_type": "markdown",
   "metadata": {},
   "source": [
    "Problem Statement.\n",
    "\n",
    "Given an array nums, partition it into two (contiguous) subarrays left and right so that:\n",
    "\n",
    "    Every element in left is less than or equal to every element in right.\n",
    "    left and right are non-empty.\n",
    "    left has the smallest possible size.\n",
    "\n",
    "Return the length of left after such a partitioning.  It is guaranteed that such a partitioning exists.\n",
    "\n",
    " \n",
    "\n",
    "Example 1:\n",
    "\n",
    "Input: nums = [5,0,3,8,6]\n",
    "Output: 3\n",
    "Explanation: left = [5,0,3], right = [8,6]\n",
    "\n",
    "Example 2:\n",
    "\n",
    "Input: nums = [1,1,1,0,6,12]\n",
    "Output: 4\n",
    "Explanation: left = [1,1,1,0], right = [6,12]\n",
    "\n",
    " \n",
    "\n",
    "Note:\n",
    "\n",
    "    2 <= nums.length <= 30000\n",
    "    0 <= nums[i] <= 106\n",
    "    It is guaranteed there is at least one way to partition nums as described."
   ]
  },
  {
   "cell_type": "markdown",
   "metadata": {},
   "source": [
    "# Two Pointers - O(N) runtime, O(1) space"
   ]
  },
  {
   "cell_type": "code",
   "execution_count": 1,
   "metadata": {},
   "outputs": [],
   "source": [
    "from typing import List\n",
    "\n",
    "class Solution:\n",
    "    def partitionDisjoint(self, nums: List[int]) -> int:\n",
    "        ref, maxVal = nums[0], nums[0]\n",
    "        result = 1\n",
    "        \n",
    "        for i, num in enumerate(nums):\n",
    "            if num < ref: \n",
    "                result = i + 1\n",
    "                ref = max(ref, maxVal)\n",
    "            elif num > maxVal: maxVal = num\n",
    "                \n",
    "        return result"
   ]
  },
  {
   "cell_type": "code",
   "execution_count": 2,
   "metadata": {},
   "outputs": [
    {
     "data": {
      "text/plain": [
       "4"
      ]
     },
     "execution_count": 2,
     "metadata": {},
     "output_type": "execute_result"
    }
   ],
   "source": [
    "instance = Solution()\n",
    "instance.partitionDisjoint([1,1,1,0,6,12])"
   ]
  }
 ],
 "metadata": {
  "kernelspec": {
   "display_name": "Python 3",
   "language": "python",
   "name": "python3"
  },
  "language_info": {
   "codemirror_mode": {
    "name": "ipython",
    "version": 3
   },
   "file_extension": ".py",
   "mimetype": "text/x-python",
   "name": "python",
   "nbconvert_exporter": "python",
   "pygments_lexer": "ipython3",
   "version": "3.7.3"
  }
 },
 "nbformat": 4,
 "nbformat_minor": 2
}
