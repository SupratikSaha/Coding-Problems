{
 "cells": [
  {
   "cell_type": "markdown",
   "metadata": {},
   "source": [
    "Problem Statement.\n",
    "\n",
    "Given an integer n, return true if and only if it is an Armstrong number.\n",
    "\n",
    "The k-digit number n is an Armstrong number if and only if the kth power of each digit sums to n.\n",
    "\n",
    " \n",
    "\n",
    "Example 1:\n",
    "\n",
    "Input: n = 153\n",
    "Output: true\n",
    "Explanation: 153 is a 3-digit number, and 153 = 13 + 53 + 33.\n",
    "\n",
    "Example 2:\n",
    "\n",
    "Input: n = 123\n",
    "Output: false\n",
    "Explanation: 123 is a 3-digit number, and 123 != 13 + 23 + 33 = 36.\n",
    "\n",
    " \n",
    "\n",
    "Constraints:\n",
    "\n",
    "    1 <= n <= 108"
   ]
  },
  {
   "cell_type": "markdown",
   "metadata": {},
   "source": [
    "# Using string to get number of digits - O(N) runtime, O(N) space"
   ]
  },
  {
   "cell_type": "code",
   "execution_count": 2,
   "metadata": {},
   "outputs": [],
   "source": [
    "class Solution:\n",
    "    def isArmstrong(self, n: int) -> bool:\n",
    "        curr_n, armstrong_n = n, 0\n",
    "        power = len(str(n))\n",
    "        \n",
    "        while curr_n:\n",
    "            curr_n, digit = divmod(curr_n, 10)\n",
    "            armstrong_n += digit ** power\n",
    "            \n",
    "        return n == armstrong_n"
   ]
  },
  {
   "cell_type": "markdown",
   "metadata": {},
   "source": [
    "# Using Log to get number of digits - O(N) runtime, O(1) space"
   ]
  },
  {
   "cell_type": "code",
   "execution_count": 1,
   "metadata": {},
   "outputs": [],
   "source": [
    "class Solution:\n",
    "    def isArmstrong(self, n: int) -> bool:\n",
    "        curr_n, armstrong_n = n, 0\n",
    "        power = ceil(log10(n))\n",
    "        \n",
    "        while curr_n:\n",
    "            curr_n, digit = divmod(curr_n, 10)\n",
    "            armstrong_n += digit ** power\n",
    "            \n",
    "        return n == armstrong_n"
   ]
  },
  {
   "cell_type": "markdown",
   "metadata": {},
   "source": [
    "# Using another loop - O(N) runtime, O(1) space"
   ]
  },
  {
   "cell_type": "code",
   "execution_count": 3,
   "metadata": {},
   "outputs": [],
   "source": [
    "class Solution:\n",
    "    def isArmstrong(self, n: int) -> bool:\n",
    "        curr_n, armstrong_n = n, 0\n",
    "        power = 0\n",
    "        \n",
    "        while curr_n:\n",
    "            power += 1\n",
    "            curr_n //= 10\n",
    "        \n",
    "        curr_n = n\n",
    "        while curr_n:\n",
    "            curr_n, digit = divmod(curr_n, 10)\n",
    "            armstrong_n += digit ** power\n",
    "            \n",
    "        return n == armstrong_n"
   ]
  },
  {
   "cell_type": "code",
   "execution_count": 4,
   "metadata": {},
   "outputs": [
    {
     "data": {
      "text/plain": [
       "True"
      ]
     },
     "execution_count": 4,
     "metadata": {},
     "output_type": "execute_result"
    }
   ],
   "source": [
    "instance = Solution()\n",
    "instance.isArmstrong(153)"
   ]
  }
 ],
 "metadata": {
  "kernelspec": {
   "display_name": "Python 3",
   "language": "python",
   "name": "python3"
  },
  "language_info": {
   "codemirror_mode": {
    "name": "ipython",
    "version": 3
   },
   "file_extension": ".py",
   "mimetype": "text/x-python",
   "name": "python",
   "nbconvert_exporter": "python",
   "pygments_lexer": "ipython3",
   "version": "3.7.3"
  }
 },
 "nbformat": 4,
 "nbformat_minor": 2
}
