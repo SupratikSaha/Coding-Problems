{
 "cells": [
  {
   "cell_type": "markdown",
   "metadata": {},
   "source": [
    "Given an input string (s) and a pattern (p), implement regular expression matching with support for '.' and '*'.\n",
    "\n",
    "'.' Matches any single character.\n",
    "'*' Matches zero or more of the preceding element.\n",
    "\n",
    "The matching should cover the entire input string (not partial).\n",
    "\n",
    "Note:\n",
    "\n",
    "    s could be empty and contains only lowercase letters a-z.\n",
    "    p could be empty and contains only lowercase letters a-z, and characters like . or *.\n",
    "\n",
    "Example 1:\n",
    "\n",
    "Input:\n",
    "s = \"aa\"\n",
    "p = \"a\"\n",
    "Output: false\n",
    "Explanation: \"a\" does not match the entire string \"aa\".\n",
    "\n",
    "Example 2:\n",
    "\n",
    "Input:\n",
    "s = \"aa\"\n",
    "p = \"a*\"\n",
    "Output: true\n",
    "Explanation: '*' means zero or more of the preceding element, 'a'. Therefore, by repeating 'a' once, it becomes \"aa\".\n",
    "`m\n",
    "Example 3:\n",
    "\n",
    "Input:\n",
    "s = \"ab\"\n",
    "p = \".*\"\n",
    "Output: true\n",
    "Explanation: \".*\" means \"zero or more (*) of any character (.)\".\n",
    "\n",
    "Example 4:\n",
    "\n",
    "Input:\n",
    "s = \"aab\"\n",
    "p = \"c*a*b\"\n",
    "Output: true\n",
    "Explanation: c can be repeated 0 times, a can be repeated 1 time. Therefore, it matches \"aab\".\n",
    "\n",
    "Example 5:\n",
    "\n",
    "Input:\n",
    "s = \"mississippi\"\n",
    "p = \"mis*is*p*.\"\n",
    "Output: false"
   ]
  },
  {
   "cell_type": "markdown",
   "metadata": {},
   "source": [
    "# Recursion - O(2 ^ (T + P) ) runtime, O(2 ^ (T + P) ) space"
   ]
  },
  {
   "cell_type": "code",
   "execution_count": 1,
   "metadata": {},
   "outputs": [],
   "source": [
    "class Solution(object):\n",
    "    \n",
    "    def isMatch(self, text: str, pattern: str) -> bool:\n",
    "        if not pattern:\n",
    "            return not text\n",
    "\n",
    "        first_match = bool(text) and pattern[0] in {text[0], '.'}\n",
    "\n",
    "        if len(pattern) >= 2 and pattern[1] == '*':\n",
    "            return (self.isMatch(text, pattern[2:]) or\n",
    "                    first_match and self.isMatch(text[1:], pattern))\n",
    "        else:\n",
    "            return first_match and self.isMatch(text[1:], pattern[1:])"
   ]
  },
  {
   "cell_type": "markdown",
   "metadata": {},
   "source": [
    "# Dynamic Programming - Top Down - O(T*P) runtime, O(T*P) space"
   ]
  },
  {
   "cell_type": "code",
   "execution_count": 3,
   "metadata": {},
   "outputs": [],
   "source": [
    "class Solution(object):\n",
    "    \n",
    "    def isMatch(self, text: str, pattern: str) -> bool:\n",
    "        memo = {}\n",
    "        def dp(i, j):\n",
    "            if (i, j) not in memo:\n",
    "                if j == len(pattern):\n",
    "                    ans = i == len(text)\n",
    "                else:\n",
    "                    first_match = i < len(text) and pattern[j] in {text[i], '.'}\n",
    "                    if j+1 < len(pattern) and pattern[j+1] == '*':\n",
    "                        ans = dp(i, j+2) or first_match and dp(i+1, j)\n",
    "                    else:\n",
    "                        ans = first_match and dp(i+1, j+1)\n",
    "\n",
    "                memo[i, j] = ans\n",
    "            return memo[i, j]\n",
    "\n",
    "        return dp(0, 0)"
   ]
  },
  {
   "cell_type": "markdown",
   "metadata": {},
   "source": [
    "# Dynamic Programming - Bottom Up - O(TP) runtime, O(TP) space"
   ]
  },
  {
   "cell_type": "code",
   "execution_count": 8,
   "metadata": {},
   "outputs": [],
   "source": [
    "class Solution(object):\n",
    "    \n",
    "    def isMatch(self, text: str, pattern: str) -> bool:\n",
    "        dp = [[False] * (len(pattern) + 1) for _ in range(len(text) + 1)]\n",
    "\n",
    "        dp[-1][-1] = True\n",
    "        for i in range(len(text), -1, -1):\n",
    "            for j in range(len(pattern) - 1, -1, -1):\n",
    "                first_match = i < len(text) and pattern[j] in {text[i], '.'}\n",
    "                if j+1 < len(pattern) and pattern[j+1] == '*':\n",
    "                    dp[i][j] = dp[i][j+2] or first_match and dp[i+1][j]\n",
    "                else:\n",
    "                    dp[i][j] = first_match and dp[i+1][j+1]\n",
    "\n",
    "        return dp[0][0]"
   ]
  },
  {
   "cell_type": "code",
   "execution_count": 9,
   "metadata": {},
   "outputs": [
    {
     "data": {
      "text/plain": [
       "True"
      ]
     },
     "execution_count": 9,
     "metadata": {},
     "output_type": "execute_result"
    }
   ],
   "source": [
    "instance = Solution()\n",
    "instance.isMatch(\"mississippi\", \"mis*is*i*p*.\")"
   ]
  }
 ],
 "metadata": {
  "kernelspec": {
   "display_name": "Python 3",
   "language": "python",
   "name": "python3"
  },
  "language_info": {
   "codemirror_mode": {
    "name": "ipython",
    "version": 3
   },
   "file_extension": ".py",
   "mimetype": "text/x-python",
   "name": "python",
   "nbconvert_exporter": "python",
   "pygments_lexer": "ipython3",
   "version": "3.7.3"
  }
 },
 "nbformat": 4,
 "nbformat_minor": 2
}
