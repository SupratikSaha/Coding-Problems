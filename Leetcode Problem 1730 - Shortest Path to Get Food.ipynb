{
 "cells": [
  {
   "cell_type": "markdown",
   "metadata": {},
   "source": [
    "Problem Statement.\n",
    "\n",
    "You are starving and you want to eat food as quickly as possible. You want to find the shortest path to arrive at any food cell.\n",
    "\n",
    "You are given an m x n character matrix, grid, of these different types of cells:\n",
    "\n",
    "    '*' is your location. There is exactly one '*' cell.\n",
    "    '#' is a food cell. There may be multiple food cells.\n",
    "    'O' is free space, and you can travel through these cells.\n",
    "    'X' is an obstacle, and you cannot travel through these cells.\n",
    "\n",
    "You can travel to any adjacent cell north, east, south, or west of your current location if there is not an obstacle.\n",
    "\n",
    "Return the length of the shortest path for you to reach any food cell. If there is no path for you to reach food, return -1.\n",
    "\n",
    " \n",
    "\n",
    "Example 1:\n",
    "\n",
    "Input: grid = [[\"X\",\"X\",\"X\",\"X\",\"X\",\"X\"],[\"X\",\"*\",\"O\",\"O\",\"O\",\"X\"],[\"X\",\"O\",\"O\",\"#\",\"O\",\"X\"],[\"X\",\"X\",\"X\",\"X\",\"X\",\"X\"]]\n",
    "Output: 3\n",
    "Explanation: It takes 3 steps to reach the food.\n",
    "\n",
    "Example 2:\n",
    "\n",
    "Input: grid = [[\"X\",\"X\",\"X\",\"X\",\"X\"],[\"X\",\"*\",\"X\",\"O\",\"X\"],[\"X\",\"O\",\"X\",\"#\",\"X\"],[\"X\",\"X\",\"X\",\"X\",\"X\"]]\n",
    "Output: -1\n",
    "Explanation: It is not possible to reach the food.\n",
    "\n",
    "Example 3:\n",
    "\n",
    "Input: grid = [[\"X\",\"X\",\"X\",\"X\",\"X\",\"X\",\"X\",\"X\"],[\"X\",\"*\",\"O\",\"X\",\"O\",\"#\",\"O\",\"X\"],[\"X\",\"O\",\"O\",\"X\",\"O\",\"O\",\"X\",\"X\"],[\"X\",\"O\",\"O\",\"O\",\"O\",\"#\",\"O\",\"X\"],[\"X\",\"X\",\"X\",\"X\",\"X\",\"X\",\"X\",\"X\"]]\n",
    "Output: 6\n",
    "Explanation: There can be multiple food cells. It only takes 6 steps to reach the bottom food.\n",
    "\n",
    "Example 4:\n",
    "\n",
    "Input: grid = [[\"O\",\"*\"],[\"#\",\"O\"]]\n",
    "Output: 2\n",
    "\n",
    "Example 5:\n",
    "\n",
    "Input: grid = [[\"X\",\"*\"],[\"#\",\"X\"]]\n",
    "Output: -1\n",
    "\n",
    " \n",
    "\n",
    "Constraints:\n",
    "\n",
    "    m == grid.length\n",
    "    n == grid[i].length\n",
    "    1 <= m, n <= 200\n",
    "    grid[row][col] is '*', 'X', 'O', or '#'.\n",
    "    The grid contains exactly one '*'."
   ]
  },
  {
   "cell_type": "markdown",
   "metadata": {},
   "source": [
    "# BFS - O(M * N) runtime, O(M * N) space"
   ]
  },
  {
   "cell_type": "code",
   "execution_count": 2,
   "metadata": {},
   "outputs": [],
   "source": [
    "from typing import List\n",
    "from collections import deque\n",
    "\n",
    "class Solution:\n",
    "    def getFood(self, grid: List[List[str]]) -> int:\n",
    "        m, n = len(grid), len(grid[0])\n",
    "        \n",
    "        for i in range(m):\n",
    "            for j in range(n):\n",
    "                if grid[i][j] == '*':\n",
    "                    queue = deque([(i, j, 0)])\n",
    "                    visited = {(i, j)}\n",
    "                    break\n",
    "        \n",
    "        \n",
    "        while queue:\n",
    "            r, c, dist = queue.popleft()\n",
    "            \n",
    "            for r1, c1 in [[r+1, c], [r-1, c], [r, c+1], [r, c-1]]:\n",
    "                if 0<= r1 < m and 0<= c1 < n and grid[r1][c1] != 'X' and (r1, c1) not in visited:\n",
    "                    if grid[r1][c1] == '#': return dist + 1\n",
    "                    queue.append((r1, c1, dist+1))\n",
    "                    visited.add((r1, c1))\n",
    "                    \n",
    "        return -1"
   ]
  },
  {
   "cell_type": "code",
   "execution_count": 3,
   "metadata": {},
   "outputs": [
    {
     "data": {
      "text/plain": [
       "3"
      ]
     },
     "execution_count": 3,
     "metadata": {},
     "output_type": "execute_result"
    }
   ],
   "source": [
    "instance = Solution()\n",
    "instance.getFood( [[\"X\",\"X\",\"X\",\"X\",\"X\",\"X\"],[\"X\",\"*\",\"O\",\"O\",\"O\",\"X\"],[\"X\",\"O\",\"O\",\"#\",\"O\",\"X\"],[\"X\",\"X\",\"X\",\"X\",\"X\",\"X\"]])"
   ]
  }
 ],
 "metadata": {
  "kernelspec": {
   "display_name": "Python 3",
   "language": "python",
   "name": "python3"
  },
  "language_info": {
   "codemirror_mode": {
    "name": "ipython",
    "version": 3
   },
   "file_extension": ".py",
   "mimetype": "text/x-python",
   "name": "python",
   "nbconvert_exporter": "python",
   "pygments_lexer": "ipython3",
   "version": "3.7.3"
  }
 },
 "nbformat": 4,
 "nbformat_minor": 2
}
