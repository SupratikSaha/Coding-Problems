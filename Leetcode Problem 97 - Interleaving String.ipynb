{
 "cells": [
  {
   "cell_type": "markdown",
   "metadata": {},
   "source": [
    "Problem Statement.\n",
    "\n",
    "Given strings s1, s2, and s3, find whether s3 is formed by an interleaving of s1 and s2.\n",
    "\n",
    "An interleaving of two strings s and t is a configuration where they are divided into non-empty substrings such that:\n",
    "\n",
    "    s = s1 + s2 + ... + sn\n",
    "    t = t1 + t2 + ... + tm\n",
    "    |n - m| <= 1\n",
    "    The interleaving is s1 + t1 + s2 + t2 + s3 + t3 + ... or t1 + s1 + t2 + s2 + t3 + s3 + ...\n",
    "\n",
    "Note: a + b is the concatenation of strings a and b.\n",
    "\n",
    " \n",
    "\n",
    "Example 1:\n",
    "\n",
    "Input: s1 = \"aabcc\", s2 = \"dbbca\", s3 = \"aadbbcbcac\"\n",
    "Output: true\n",
    "\n",
    "Example 2:\n",
    "\n",
    "Input: s1 = \"aabcc\", s2 = \"dbbca\", s3 = \"aadbbbaccc\"\n",
    "Output: false\n",
    "\n",
    "Example 3:\n",
    "\n",
    "Input: s1 = \"\", s2 = \"\", s3 = \"\"\n",
    "Output: true\n",
    "\n",
    " \n",
    "\n",
    "Constraints:\n",
    "\n",
    "    0 <= s1.length, s2.length <= 100\n",
    "    0 <= s3.length <= 200\n",
    "    s1, s2, and s3 consist of lowercase English letters.\n",
    "\n",
    " \n",
    "\n",
    "Follow up: Could you solve it using only O(s2.length) additional memory space?"
   ]
  },
  {
   "cell_type": "markdown",
   "metadata": {},
   "source": [
    "# Top Down DP - O(M * N * L) runtime, O(M * N * L) space"
   ]
  },
  {
   "cell_type": "code",
   "execution_count": 1,
   "metadata": {},
   "outputs": [],
   "source": [
    "from functools import lru_cache\n",
    "\n",
    "class Solution:\n",
    "    def isInterleave(self, s1: str, s2: str, s3: str) -> bool:\n",
    "        s1_index, s2_index, n, m, l = 0, 0, len(s1), len(s2), len(s3)\n",
    "        \n",
    "        @lru_cache(maxsize=None) \n",
    "        def isInterleaveRecursive(idx, s1_index, s2_index):\n",
    "            if idx == l: \n",
    "                if s1_index == n and s2_index == m: return True\n",
    "                return False\n",
    "            \n",
    "            useS1, useS2 = False, False\n",
    "            if s1_index < n and s3[idx] == s1[s1_index]: \n",
    "                useS1 = isInterleaveRecursive(idx + 1, s1_index + 1, s2_index)\n",
    "                \n",
    "            if s2_index < m and s3[idx] == s2[s2_index]: \n",
    "                useS2 = isInterleaveRecursive(idx + 1, s1_index, s2_index + 1)\n",
    "                \n",
    "            return useS1 or useS2\n",
    "        \n",
    "        return isInterleaveRecursive(0, 0, 0)"
   ]
  },
  {
   "cell_type": "markdown",
   "metadata": {},
   "source": [
    "# Bottom Up DP - O(M * N) runtime, O(M * N) space"
   ]
  },
  {
   "cell_type": "code",
   "execution_count": 3,
   "metadata": {},
   "outputs": [],
   "source": [
    "class Solution:\n",
    "    def isInterleave(self, s1: str, s2: str, s3: str) -> bool:\n",
    "        r, c, l= len(s1), len(s2), len(s3)\n",
    "        if r + c != l: return False\n",
    "        \n",
    "        dp = [[True for _ in range(c+1)] for _ in range(r+1)]\n",
    "        \n",
    "        for i in range(1, r+1):\n",
    "            dp[i][0] = dp[i-1][0] and s1[i-1] == s3[i-1]\n",
    "            \n",
    "        for j in range(1, c+1):\n",
    "            dp[0][j] = dp[0][j-1] and s2[j-1] == s3[j-1]\n",
    "            \n",
    "        for i in range(1, r+1):\n",
    "            for j in range(1, c+1):\n",
    "                dp[i][j] = (dp[i-1][j] and s1[i-1] == s3[i-1+j]) or \\\n",
    "                   (dp[i][j-1] and s2[j-1] == s3[i-1+j])\n",
    "                \n",
    "        return dp[-1][-1]"
   ]
  },
  {
   "cell_type": "markdown",
   "metadata": {},
   "source": [
    "# Space Optimized Bottom Up DP - O(M * N) runtime, O(N) space"
   ]
  },
  {
   "cell_type": "code",
   "execution_count": 5,
   "metadata": {},
   "outputs": [],
   "source": [
    "class Solution:\n",
    "    def isInterleave(self, s1: str, s2: str, s3: str) -> bool:\n",
    "        r, c, l= len(s1), len(s2), len(s3)\n",
    "        if r+c != l: return False\n",
    "        \n",
    "        dp = [True for _ in range(c+1)] \n",
    "        \n",
    "        for j in range(1, c+1):\n",
    "            dp[j] = dp[j-1] and s2[j-1] == s3[j-1]\n",
    "            \n",
    "        for i in range(1, r+1):\n",
    "            dp[0] = (dp[0] and s1[i-1] == s3[i-1])\n",
    "            for j in range(1, c+1):\n",
    "                dp[j] = (dp[j] and s1[i-1] == s3[i-1+j]) or (dp[j-1] and s2[j-1] == s3[i-1+j])\n",
    "                \n",
    "        return dp[-1]"
   ]
  },
  {
   "cell_type": "code",
   "execution_count": 6,
   "metadata": {},
   "outputs": [
    {
     "data": {
      "text/plain": [
       "True"
      ]
     },
     "execution_count": 6,
     "metadata": {},
     "output_type": "execute_result"
    }
   ],
   "source": [
    "instance = Solution()\n",
    "instance.isInterleave(\"aabcc\", \"dbbca\", \"aadbbcbcac\")"
   ]
  }
 ],
 "metadata": {
  "kernelspec": {
   "display_name": "Python 3",
   "language": "python",
   "name": "python3"
  },
  "language_info": {
   "codemirror_mode": {
    "name": "ipython",
    "version": 3
   },
   "file_extension": ".py",
   "mimetype": "text/x-python",
   "name": "python",
   "nbconvert_exporter": "python",
   "pygments_lexer": "ipython3",
   "version": "3.7.3"
  }
 },
 "nbformat": 4,
 "nbformat_minor": 2
}
