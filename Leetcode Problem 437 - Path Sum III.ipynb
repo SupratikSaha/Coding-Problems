{
 "cells": [
  {
   "cell_type": "markdown",
   "metadata": {},
   "source": [
    "    Problem Statement.\n",
    "\n",
    "    You are given a binary tree in which each node contains an integer value.\n",
    "\n",
    "    Find the number of paths that sum to a given value.\n",
    "\n",
    "    The path does not need to start or end at the root or a leaf, but it must go downwards (traveling only from parent nodes to child nodes).\n",
    "\n",
    "    The tree has no more than 1,000 nodes and the values are in the range -1,000,000 to 1,000,000.\n",
    "\n",
    "    Example:\n",
    "\n",
    "    root = [10,5,-3,3,2,null,11,3,-2,null,1], sum = 8\n",
    "\n",
    "          10\n",
    "         /  \\\n",
    "        5   -3\n",
    "       / \\    \\\n",
    "      3   2   11\n",
    "     / \\   \\\n",
    "    3  -2   1\n",
    "\n",
    "    Return 3. The paths that sum to 8 are:\n",
    "\n",
    "    1.  5 -> 3\n",
    "    2.  5 -> 2 -> 1\n",
    "    3. -3 -> 11"
   ]
  },
  {
   "cell_type": "markdown",
   "metadata": {},
   "source": [
    "# Top Down Recursion with memoization - O(N * H) runtime, O(N * H) space"
   ]
  },
  {
   "cell_type": "code",
   "execution_count": 1,
   "metadata": {},
   "outputs": [],
   "source": [
    "# Definition for a binary tree node.\n",
    "# class TreeNode:\n",
    "#     def __init__(self, val=0, left=None, right=None):\n",
    "#         self.val = val\n",
    "#         self.left = left\n",
    "#         self.right = right\n",
    "        \n",
    "class Solution:\n",
    "    def pathSum(self, root: TreeNode, sum: int) -> int:\n",
    "        self.dp = set()\n",
    "        self.originalSum = sum\n",
    "        self.count = 0\n",
    "        self.pathSumRecursive(root, self.originalSum, 0)\n",
    "        return self.count\n",
    "    \n",
    "    def pathSumRecursive(self, root: TreeNode, sumVal: int, height: int) -> None:\n",
    "        if not root or (root, height) in self.dp: return\n",
    "        \n",
    "        if sumVal - root.val == 0: self.count +=1\n",
    "        \n",
    "        skipNodeGoLeft = self.pathSumRecursive(root.left, self.originalSum, 0)\n",
    "        skipNodeGoRight = self.pathSumRecursive(root.right, self.originalSum, 0)\n",
    "        withNodeGoLeft = self.pathSumRecursive(root.left, sumVal - root.val, height+1)\n",
    "        withNodeGoRight = self.pathSumRecursive(root.right, sumVal - root.val, height+1)\n",
    "        \n",
    "        self.dp.add((root, height))"
   ]
  },
  {
   "cell_type": "markdown",
   "metadata": {},
   "source": [
    "# Prefix Tree with Backtracking - O(N) runtime, O(N) space"
   ]
  },
  {
   "cell_type": "code",
   "execution_count": 2,
   "metadata": {},
   "outputs": [],
   "source": [
    "# Definition for a binary tree node.\n",
    "# class TreeNode:\n",
    "#     def __init__(self, val=0, left=None, right=None):\n",
    "#         self.val = val\n",
    "#         self.left = left\n",
    "#         self.right = right\n",
    "class Solution:\n",
    "    def pathSum(self, root: TreeNode, sum: int) -> int:\n",
    "        def preorder(node: TreeNode, curr_sum) -> None:\n",
    "            nonlocal count\n",
    "            if not node:\n",
    "                return \n",
    "            \n",
    "            # current prefix sum\n",
    "            curr_sum += node.val\n",
    "            \n",
    "            # here is the sum we're looking for\n",
    "            if curr_sum == k:\n",
    "                count += 1\n",
    "            \n",
    "            # number of times the curr_sum − k has occurred already, \n",
    "            # determines the number of times a path with sum k \n",
    "            # has occurred up to the current node\n",
    "            count += h[curr_sum - k]\n",
    "            \n",
    "            # add the current sum into hashmap\n",
    "            # to use it during the child nodes processing\n",
    "            h[curr_sum] += 1\n",
    "            \n",
    "            # process left subtree\n",
    "            preorder(node.left, curr_sum)\n",
    "            # process right subtree\n",
    "            preorder(node.right, curr_sum)\n",
    "            \n",
    "            # remove the current sum from the hashmap\n",
    "            # in order not to use it during \n",
    "            # the parallel subtree processing\n",
    "            h[curr_sum] -= 1\n",
    "            \n",
    "        count, k = 0, sum\n",
    "        h = defaultdict(int)\n",
    "        preorder(root, 0)\n",
    "        return count"
   ]
  }
 ],
 "metadata": {
  "kernelspec": {
   "display_name": "Python 3",
   "language": "python",
   "name": "python3"
  },
  "language_info": {
   "codemirror_mode": {
    "name": "ipython",
    "version": 3
   },
   "file_extension": ".py",
   "mimetype": "text/x-python",
   "name": "python",
   "nbconvert_exporter": "python",
   "pygments_lexer": "ipython3",
   "version": "3.7.3"
  }
 },
 "nbformat": 4,
 "nbformat_minor": 2
}
