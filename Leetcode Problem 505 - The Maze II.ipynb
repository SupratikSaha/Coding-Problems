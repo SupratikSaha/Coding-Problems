{
 "cells": [
  {
   "cell_type": "markdown",
   "metadata": {},
   "source": [
    "Problem Statement.\n",
    "\n",
    "There is a ball in a maze with empty spaces (represented as 0) and walls (represented as 1). The ball can go through the empty spaces by rolling up, down, left or right, but it won't stop rolling until hitting a wall. When the ball stops, it could choose the next direction.\n",
    "\n",
    "Given the m x n maze, the ball's start position and the destination, where start = [startrow, startcol] and destination = [destinationrow, destinationcol], return the shortest distance for the ball to stop at the destination. If the ball cannot stop at destination, return -1.\n",
    "\n",
    "The distance is the number of empty spaces traveled by the ball from the start position (excluded) to the destination (included).\n",
    "\n",
    "You may assume that the borders of the maze are all walls (see examples).\n",
    "\n",
    " \n",
    "\n",
    "Example 1:\n",
    "\n",
    "Input: maze = [[0,0,1,0,0],[0,0,0,0,0],[0,0,0,1,0],[1,1,0,1,1],[0,0,0,0,0]], start = [0,4], destination = [4,4]\n",
    "Output: 12\n",
    "Explanation: One possible way is : left -> down -> left -> down -> right -> down -> right.\n",
    "The length of the path is 1 + 1 + 3 + 1 + 2 + 2 + 2 = 12.\n",
    "\n",
    "Example 2:\n",
    "\n",
    "Input: maze = [[0,0,1,0,0],[0,0,0,0,0],[0,0,0,1,0],[1,1,0,1,1],[0,0,0,0,0]], start = [0,4], destination = [3,2]\n",
    "Output: -1\n",
    "Explanation: There is no way for the ball to stop at the destination. Notice that you can pass through the destination but you cannot stop there.\n",
    "\n",
    "Example 3:\n",
    "\n",
    "Input: maze = [[0,0,0,0,0],[1,1,0,0,1],[0,0,0,0,0],[0,1,0,0,1],[0,1,0,0,0]], start = [4,3], destination = [0,1]\n",
    "Output: -1\n",
    "\n",
    " \n",
    "\n",
    "Constraints:\n",
    "\n",
    "    m == maze.length\n",
    "    n == maze[i].length\n",
    "    1 <= m, n <= 100\n",
    "    maze[i][j] is 0 or 1.\n",
    "    start.length == 2\n",
    "    destination.length == 2\n",
    "    0 <= startrow, destinationrow <= m\n",
    "    0 <= startcol, destinationcol <= n\n",
    "    Both the ball and the destination exist in an empty space, and they will not be in the same position initially.\n",
    "    The maze contains at least 2 empty spaces."
   ]
  },
  {
   "cell_type": "markdown",
   "metadata": {},
   "source": [
    "# BFS - O(M * N * max(M, N)) runtime, O(M * N) space"
   ]
  },
  {
   "cell_type": "code",
   "execution_count": 1,
   "metadata": {},
   "outputs": [],
   "source": [
    "from typing import List\n",
    "from collections import deque\n",
    "\n",
    "class Solution:\n",
    "    def shortestDistance(self, maze: List[List[int]], start: List[int], destination: List[int]) -> int:\n",
    "        m, n = len(maze), len(maze[0])\n",
    "        directions = [[1,0], [-1,0], [0,1], [0,-1]]\n",
    "        \n",
    "        queue = deque([(start, 0)])\n",
    "        visited = {tuple(start): 0}\n",
    "        minDistance = float('inf')\n",
    "        \n",
    "        while queue:\n",
    "            cell, distance = queue.popleft()\n",
    "            if cell == destination: minDistance = min(minDistance, distance)\n",
    "            r, c = cell\n",
    "            \n",
    "            for dr, dc in directions:\n",
    "                r1, c1 = r+dr, c+dc\n",
    "                curr_d = distance\n",
    "                while 0 <= r1 < m and 0 <= c1 < n and maze[r1][c1] == 0:\n",
    "                    r1, c1 = r1+dr, c1+dc\n",
    "                    curr_d += 1\n",
    "                    \n",
    "                nr, nc = r1-dr, c1-dc\n",
    "                if visited.get((nr, nc), float('inf')) > curr_d:\n",
    "                    queue.append(([nr, nc], curr_d))\n",
    "                    visited[(nr, nc)] = curr_d\n",
    "                    \n",
    "        return -1 if minDistance == float('inf') else minDistance"
   ]
  },
  {
   "cell_type": "markdown",
   "metadata": {},
   "source": [
    "# Djikstra's and BFS with heap - O(M * N * Log(M * N)) runtime, O(M * N) space"
   ]
  },
  {
   "cell_type": "code",
   "execution_count": 2,
   "metadata": {},
   "outputs": [],
   "source": [
    "from typing import List\n",
    "from heapq import heappush, heappop\n",
    "\n",
    "class Solution:\n",
    "    def shortestDistance(self, maze: List[List[int]], start: List[int], destination: List[int]) -> int:\n",
    "        m, n = len(maze), len(maze[0])\n",
    "        directions = [[1,0], [-1,0], [0,1], [0,-1]]\n",
    "        \n",
    "        minheap = []\n",
    "        heappush(minheap, (0, start[0], start[1]))\n",
    "        visited = {tuple(start): 0}\n",
    "        \n",
    "        while minheap:\n",
    "            distance, r, c = heappop(minheap)\n",
    "            if [r, c] == destination: return distance\n",
    "            \n",
    "            for dr, dc in directions:\n",
    "                r1, c1 = r+dr, c+dc\n",
    "                curr_d = distance\n",
    "                while 0 <= r1 < m and 0 <= c1 < n and maze[r1][c1] == 0:\n",
    "                    r1, c1 = r1+dr, c1+dc\n",
    "                    curr_d += 1\n",
    "                    \n",
    "                nr, nc = r1-dr, c1-dc\n",
    "                if visited.get((nr, nc), float('inf')) > curr_d:\n",
    "                    heappush(minheap, (curr_d, nr, nc))\n",
    "                    visited[(nr, nc)] = curr_d\n",
    "                    \n",
    "        return -1"
   ]
  },
  {
   "cell_type": "code",
   "execution_count": 3,
   "metadata": {},
   "outputs": [
    {
     "data": {
      "text/plain": [
       "-1"
      ]
     },
     "execution_count": 3,
     "metadata": {},
     "output_type": "execute_result"
    }
   ],
   "source": [
    "instance = Solution()\n",
    "instance.shortestDistance([[0,0,1,0,0],[0,0,0,0,0],[0,0,0,1,0],[1,1,0,1,1],[0,0,0,0,0]], [0,4], [3,2])"
   ]
  }
 ],
 "metadata": {
  "kernelspec": {
   "display_name": "Python 3",
   "language": "python",
   "name": "python3"
  },
  "language_info": {
   "codemirror_mode": {
    "name": "ipython",
    "version": 3
   },
   "file_extension": ".py",
   "mimetype": "text/x-python",
   "name": "python",
   "nbconvert_exporter": "python",
   "pygments_lexer": "ipython3",
   "version": "3.7.3"
  }
 },
 "nbformat": 4,
 "nbformat_minor": 2
}
