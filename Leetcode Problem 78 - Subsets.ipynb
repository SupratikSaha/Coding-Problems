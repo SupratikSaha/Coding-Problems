{
 "cells": [
  {
   "cell_type": "markdown",
   "metadata": {},
   "source": [
    "Given a set of distinct integers, nums, return all possible subsets (the power set).\n",
    "\n",
    "Note: The solution set must not contain duplicate subsets.\n",
    "\n",
    "Example:\n",
    "\n",
    "Input: nums = [1,2,3]\n",
    "Output:\n",
    "[\n",
    "  [3],\n",
    "  [1],\n",
    "  [2],\n",
    "  [1,2,3],\n",
    "  [1,3],\n",
    "  [2,3],\n",
    "  [1,2],\n",
    "  []\n",
    "]"
   ]
  },
  {
   "cell_type": "markdown",
   "metadata": {},
   "source": [
    "# Brute Force - O(n^2 * (2 ^ n) ) runtime, O(n^2 * (2 ^ n) ) space"
   ]
  },
  {
   "cell_type": "code",
   "execution_count": 2,
   "metadata": {},
   "outputs": [],
   "source": [
    "from typing import List\n",
    "\n",
    "class Solution:\n",
    "    \n",
    "    def __init__(self):\n",
    "        self.sub_set = []\n",
    "        \n",
    "    def subsets(self, nums: List[int]) -> List[List[int]]:\n",
    "        self.get_subsets(nums)\n",
    "        \n",
    "        return self.sub_set\n",
    "        \n",
    "    def get_subsets(self, nums: List[int]) -> None:\n",
    "        \n",
    "        if nums in self.sub_set:\n",
    "            return\n",
    "        else:\n",
    "            self.sub_set.append(nums)\n",
    "            \n",
    "        for i, num in enumerate(nums):\n",
    "            list_copy = nums.copy()\n",
    "            list_copy.pop(i)\n",
    "            self.get_subsets(list_copy)"
   ]
  },
  {
   "cell_type": "markdown",
   "metadata": {},
   "source": [
    "# Backtracking - O(n * (2 ^ n) ) runtime, O(n * (2 ^ n) ) space"
   ]
  },
  {
   "cell_type": "code",
   "execution_count": 7,
   "metadata": {},
   "outputs": [],
   "source": [
    "from typing import List\n",
    "\n",
    "class Solution:\n",
    "    def subsets(self, nums: List[int]) -> List[List[int]]:\n",
    "        def backtrack(first = 0, curr = []):\n",
    "            # if the combination is done\n",
    "            if len(curr) == k:  \n",
    "                output.append(curr[:])\n",
    "            for i in range(first, n):\n",
    "                # add nums[i] into the current combination\n",
    "                curr.append(nums[i])\n",
    "                # use next integers to complete the combination\n",
    "                backtrack(i + 1, curr)\n",
    "                # backtrack\n",
    "                curr.pop()\n",
    "        \n",
    "        output = []\n",
    "        n = len(nums)\n",
    "        for k in range(n + 1):\n",
    "            backtrack()\n",
    "        return output"
   ]
  },
  {
   "cell_type": "markdown",
   "metadata": {},
   "source": [
    "# Cascading - O(n * (2 ^ n) ) runtime, O(n * (2 ^ n) ) space"
   ]
  },
  {
   "cell_type": "code",
   "execution_count": 5,
   "metadata": {},
   "outputs": [],
   "source": [
    "from typing import List\n",
    "\n",
    "class Solution:\n",
    "    def subsets(self, nums: List[int]) -> List[List[int]]:\n",
    "\n",
    "        output = [[]]\n",
    "        \n",
    "        for num in nums:\n",
    "            output += [curr + [num] for curr in output]\n",
    "        \n",
    "        return output"
   ]
  },
  {
   "cell_type": "markdown",
   "metadata": {},
   "source": [
    "# Lexicographic (Binary Sorted) Subsets - O(n * (2 ^ n) ) runtime, O(n * (2 ^ n) ) space"
   ]
  },
  {
   "cell_type": "code",
   "execution_count": null,
   "metadata": {},
   "outputs": [],
   "source": [
    "class Solution:\n",
    "    def subsets(self, nums: List[int]) -> List[List[int]]:\n",
    "        n = len(nums)\n",
    "        output = []\n",
    "        \n",
    "        for i in range(2**n, 2**(n + 1)):\n",
    "            # generate bitmask, from 0..00 to 1..11\n",
    "            bitmask = bin(i)[3:]\n",
    "            \n",
    "            # append subset corresponding to that bitmask\n",
    "            output.append([nums[j] for j in range(n) if bitmask[j] == '1'])\n",
    "        \n",
    "        return output"
   ]
  },
  {
   "cell_type": "code",
   "execution_count": 8,
   "metadata": {},
   "outputs": [
    {
     "data": {
      "text/plain": [
       "[[], [1], [2], [3], [1, 2], [1, 3], [2, 3], [1, 2, 3]]"
      ]
     },
     "execution_count": 8,
     "metadata": {},
     "output_type": "execute_result"
    }
   ],
   "source": [
    "instance = Solution()\n",
    "instance.subsets([1,2,3])"
   ]
  }
 ],
 "metadata": {
  "kernelspec": {
   "display_name": "Python 3",
   "language": "python",
   "name": "python3"
  },
  "language_info": {
   "codemirror_mode": {
    "name": "ipython",
    "version": 3
   },
   "file_extension": ".py",
   "mimetype": "text/x-python",
   "name": "python",
   "nbconvert_exporter": "python",
   "pygments_lexer": "ipython3",
   "version": "3.7.3"
  }
 },
 "nbformat": 4,
 "nbformat_minor": 2
}
