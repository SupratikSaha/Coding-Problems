{
 "cells": [
  {
   "cell_type": "code",
   "execution_count": null,
   "metadata": {},
   "outputs": [],
   "source": [
    "class Solution:\n",
    "    def addTwoNumbers(self, l1, l2):\n",
    "        \n",
    "        num1 = 0\n",
    "        ctr = 0\n",
    "        \n",
    "        while(l1):\n",
    "            num1 = num1 + l1.val*(10**ctr)\n",
    "            ctr += 1\n",
    "            l1 = (l1.next if l1 else None)\n",
    "        \n",
    "        num2 = 0\n",
    "        ctr = 0\n",
    "        while(l2):\n",
    "            num2 = num2 + l2.val*(10**ctr)\n",
    "            ctr += 1\n",
    "            l2 = (l2.next if l2 else None)\n",
    "        \n",
    "        sum = num1 + num2\n",
    "        ctr = 0\n",
    "        root = ListNode(0)\n",
    "        l_prev = root\n",
    "        \n",
    "        while(sum>0):\n",
    "            if ctr == 0:\n",
    "                root.val = sum % 10\n",
    "            else:\n",
    "                l_new = ListNode(sum % 10)\n",
    "                l_prev.next = l_new\n",
    "                l_prev = l_prev.next\n",
    "            sum = sum // 10\n",
    "            ctr += 1\n",
    "            \n",
    "        return root"
   ]
  }
 ],
 "metadata": {
  "kernelspec": {
   "display_name": "Python 3",
   "language": "python",
   "name": "python3"
  },
  "language_info": {
   "codemirror_mode": {
    "name": "ipython",
    "version": 3
   },
   "file_extension": ".py",
   "mimetype": "text/x-python",
   "name": "python",
   "nbconvert_exporter": "python",
   "pygments_lexer": "ipython3",
   "version": "3.7.3"
  }
 },
 "nbformat": 4,
 "nbformat_minor": 2
}
