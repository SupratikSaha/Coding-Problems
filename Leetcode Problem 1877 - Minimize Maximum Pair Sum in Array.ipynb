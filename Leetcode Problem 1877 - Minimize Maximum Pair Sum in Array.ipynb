{
 "cells": [
  {
   "cell_type": "markdown",
   "metadata": {},
   "source": [
    "Problem Statement.\n",
    "\n",
    "The pair sum of a pair (a,b) is equal to a + b. The maximum pair sum is the largest pair sum in a list of pairs.\n",
    "\n",
    "    For example, if we have pairs (1,5), (2,3), and (4,4), the maximum pair sum would be max(1+5, 2+3, 4+4) = max(6, 5, 8) = 8.\n",
    "\n",
    "Given an array nums of even length n, pair up the elements of nums into n / 2 pairs such that:\n",
    "\n",
    "    Each element of nums is in exactly one pair, and\n",
    "    The maximum pair sum is minimized.\n",
    "\n",
    "Return the minimized maximum pair sum after optimally pairing up the elements.\n",
    "\n",
    " \n",
    "\n",
    "Example 1:\n",
    "\n",
    "Input: nums = [3,5,2,3]\n",
    "Output: 7\n",
    "Explanation: The elements can be paired up into pairs (3,3) and (5,2).\n",
    "The maximum pair sum is max(3+3, 5+2) = max(6, 7) = 7.\n",
    "\n",
    "Example 2:\n",
    "\n",
    "Input: nums = [3,5,4,2,4,6]\n",
    "Output: 8\n",
    "Explanation: The elements can be paired up into pairs (3,5), (4,4), and (6,2).\n",
    "The maximum pair sum is max(3+5, 4+4, 6+2) = max(8, 8, 8) = 8.\n",
    "\n",
    " \n",
    "\n",
    "Constraints:\n",
    "\n",
    "    n == nums.length\n",
    "    2 <= n <= 105\n",
    "    n is even.\n",
    "    1 <= nums[i] <= 10^5"
   ]
  },
  {
   "cell_type": "markdown",
   "metadata": {},
   "source": [
    "# Sort - O(N * Log N) runtime, O(N) space"
   ]
  },
  {
   "cell_type": "code",
   "execution_count": 3,
   "metadata": {},
   "outputs": [],
   "source": [
    "from typing import List\n",
    "\n",
    "class Solution:\n",
    "    def minPairSum(self, nums: List[int]) -> int:\n",
    "        nums.sort()\n",
    "        \n",
    "        i, j, maxval = 0, len(nums) - 1, 0\n",
    "        \n",
    "        while i < j:\n",
    "            maxval = max(maxval, nums[i] + nums[j])\n",
    "            i += 1\n",
    "            j -= 1\n",
    "            \n",
    "        return maxval"
   ]
  },
  {
   "cell_type": "code",
   "execution_count": 4,
   "metadata": {},
   "outputs": [
    {
     "data": {
      "text/plain": [
       "7"
      ]
     },
     "execution_count": 4,
     "metadata": {},
     "output_type": "execute_result"
    }
   ],
   "source": [
    "instance = Solution()\n",
    "instance.minPairSum([3,5,2,3])"
   ]
  }
 ],
 "metadata": {
  "kernelspec": {
   "display_name": "Python 3",
   "language": "python",
   "name": "python3"
  },
  "language_info": {
   "codemirror_mode": {
    "name": "ipython",
    "version": 3
   },
   "file_extension": ".py",
   "mimetype": "text/x-python",
   "name": "python",
   "nbconvert_exporter": "python",
   "pygments_lexer": "ipython3",
   "version": "3.7.3"
  }
 },
 "nbformat": 4,
 "nbformat_minor": 2
}
