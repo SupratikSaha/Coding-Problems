{
 "cells": [
  {
   "cell_type": "markdown",
   "metadata": {},
   "source": [
    "Problem Statement.\n",
    "\n",
    "In a given 2D binary array grid, there are two islands.  (An island is a 4-directionally connected group of 1s not connected to any other 1s.)\n",
    "\n",
    "Now, we may change 0s to 1s so as to connect the two islands together to form 1 island.\n",
    "\n",
    "Return the smallest number of 0s that must be flipped.  (It is guaranteed that the answer is at least 1.)\n",
    "\n",
    " \n",
    "\n",
    "Example 1:\n",
    "\n",
    "Input: grid = [[0,1],[1,0]]\n",
    "Output: 1\n",
    "\n",
    "Example 2:\n",
    "\n",
    "Input: grid = [[0,1,0],[0,0,0],[0,0,1]]\n",
    "Output: 2\n",
    "\n",
    "Example 3:\n",
    "\n",
    "Input: grid = [[1,1,1,1,1],[1,0,0,0,1],[1,0,1,0,1],[1,0,0,0,1],[1,1,1,1,1]]\n",
    "Output: 1\n",
    "\n",
    " \n",
    "\n",
    "Constraints:\n",
    "\n",
    "    2 <= grid.length == grid[0].length <= 100\n",
    "    grid[i][j] == 0 or grid[i][j] == 1"
   ]
  },
  {
   "cell_type": "markdown",
   "metadata": {},
   "source": [
    "# BFS with Heap - O(M * N * Log (M * N)) runtime, O(M * N) space"
   ]
  },
  {
   "cell_type": "code",
   "execution_count": 2,
   "metadata": {},
   "outputs": [],
   "source": [
    "from typing import List\n",
    "from heapq import heappush, heappop\n",
    "\n",
    "class Solution:\n",
    "    def shortestBridge(self, A: List[List[int]]) -> int:\n",
    "        # STEP 1: find a 1\n",
    "        # STEP 2: use bfs with a priority queue\n",
    "        directions = [(0, 1), (0, -1), (1, 0), (-1, 0)]\n",
    "        H, W = len(A), len(A[0])\n",
    "        ans = 0\n",
    "        first = self.find_first1(A)\n",
    "        q = [(0, first), ]\n",
    "        A[first[0]][first[1]] = 2\n",
    "\n",
    "        while q:\n",
    "            c, pos = heappop(q)\n",
    "            i, j = pos\n",
    "            for di, dj in directions:\n",
    "                ni, nj = i+di, j+dj\n",
    "                if 0 <= ni < H and 0 <= nj < W and A[ni][nj] <= 1:\n",
    "                    if c > 0 and A[ni][nj] == 1:\n",
    "                        return c\n",
    "                    heappush(q, (0 if c == 0 and A[ni][nj] == 1 else (c+1), (ni, nj)))\n",
    "                    A[ni][nj] = 2\n",
    "                    \n",
    "    def find_first1(self, A):\n",
    "        for i, row in enumerate(A):\n",
    "            for j, n in enumerate(row):\n",
    "                if n == 1:\n",
    "                    return (i, j)"
   ]
  },
  {
   "cell_type": "code",
   "execution_count": 3,
   "metadata": {},
   "outputs": [
    {
     "data": {
      "text/plain": [
       "2"
      ]
     },
     "execution_count": 3,
     "metadata": {},
     "output_type": "execute_result"
    }
   ],
   "source": [
    "instance = Solution()\n",
    "instance.shortestBridge( [[0,1,0],[0,0,0],[0,0,1]])"
   ]
  }
 ],
 "metadata": {
  "kernelspec": {
   "display_name": "Python 3",
   "language": "python",
   "name": "python3"
  },
  "language_info": {
   "codemirror_mode": {
    "name": "ipython",
    "version": 3
   },
   "file_extension": ".py",
   "mimetype": "text/x-python",
   "name": "python",
   "nbconvert_exporter": "python",
   "pygments_lexer": "ipython3",
   "version": "3.7.3"
  }
 },
 "nbformat": 4,
 "nbformat_minor": 2
}
