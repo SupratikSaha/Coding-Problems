{
 "cells": [
  {
   "cell_type": "markdown",
   "metadata": {},
   "source": [
    "    Problem Statement.\n",
    "\n",
    "    Table: Customer\n",
    "\n",
    "    +---------------+---------+\n",
    "    | Column Name   | Type    |\n",
    "    +---------------+---------+\n",
    "    | customer_id   | int     |\n",
    "    | customer_name | varchar |\n",
    "    +---------------+---------+\n",
    "    customer_id is the primary key for this table.\n",
    "    Each row of this table contains the information of each customer in the WebStore.\n",
    "\n",
    "\n",
    "\n",
    "    Table: Orders\n",
    "\n",
    "    +---------------+---------+\n",
    "    | Column Name   | Type    |\n",
    "    +---------------+---------+\n",
    "    | order_id      | int     |\n",
    "    | sale_date     | date    |\n",
    "    | order_cost    | int     |\n",
    "    | customer_id   | int     |\n",
    "    | seller_id     | int     |\n",
    "    +---------------+---------+\n",
    "    order_id is the primary key for this table.\n",
    "    Each row of this table contains all orders made in the webstore.\n",
    "    sale_date is the date when the transaction was made between the customer (customer_id) and the seller (seller_id).\n",
    "\n",
    "\n",
    "\n",
    "    Table: Seller\n",
    "\n",
    "    +---------------+---------+\n",
    "    | Column Name   | Type    |\n",
    "    +---------------+---------+\n",
    "    | seller_id     | int     |\n",
    "    | seller_name   | varchar |\n",
    "    +---------------+---------+\n",
    "    seller_id is the primary key for this table.\n",
    "    Each row of this table contains the information of each seller.\n",
    "\n",
    "\n",
    "\n",
    "    Write an SQL query to report the names of all sellers who did not make any sales in 2020.\n",
    "\n",
    "    Return the result table ordered by seller_name in ascending order.\n",
    "\n",
    "    The query result format is in the following example.\n",
    "\n",
    "\n",
    "\n",
    "    Example 1:\n",
    "\n",
    "    Input: \n",
    "    Customer table:\n",
    "    +--------------+---------------+\n",
    "    | customer_id  | customer_name |\n",
    "    +--------------+---------------+\n",
    "    | 101          | Alice         |\n",
    "    | 102          | Bob           |\n",
    "    | 103          | Charlie       |\n",
    "    +--------------+---------------+\n",
    "    Orders table:\n",
    "    +-------------+------------+--------------+-------------+-------------+\n",
    "    | order_id    | sale_date  | order_cost   | customer_id | seller_id   |\n",
    "    +-------------+------------+--------------+-------------+-------------+\n",
    "    | 1           | 2020-03-01 | 1500         | 101         | 1           |\n",
    "    | 2           | 2020-05-25 | 2400         | 102         | 2           |\n",
    "    | 3           | 2019-05-25 | 800          | 101         | 3           |\n",
    "    | 4           | 2020-09-13 | 1000         | 103         | 2           |\n",
    "    | 5           | 2019-02-11 | 700          | 101         | 2           |\n",
    "    +-------------+------------+--------------+-------------+-------------+\n",
    "    Seller table:\n",
    "    +-------------+-------------+\n",
    "    | seller_id   | seller_name |\n",
    "    +-------------+-------------+\n",
    "    | 1           | Daniel      |\n",
    "    | 2           | Elizabeth   |\n",
    "    | 3           | Frank       |\n",
    "    +-------------+-------------+\n",
    "    Output: \n",
    "    +-------------+\n",
    "    | seller_name |\n",
    "    +-------------+\n",
    "    | Frank       |\n",
    "    +-------------+\n",
    "    Explanation: \n",
    "    Daniel made 1 sale in March 2020.\n",
    "    Elizabeth made 2 sales in 2020 and 1 sale in 2019.\n",
    "    Frank made 1 sale in 2019 but no sales in 2020."
   ]
  },
  {
   "cell_type": "markdown",
   "metadata": {},
   "source": [
    "# Not In"
   ]
  },
  {
   "cell_type": "code",
   "execution_count": null,
   "metadata": {},
   "outputs": [],
   "source": [
    "select seller_name from Seller\n",
    "where seller_id not in\n",
    "(select seller_id from Orders where year(sale_date) = 2020)\n",
    "order by 1"
   ]
  },
  {
   "cell_type": "markdown",
   "metadata": {},
   "source": [
    "# Left Join"
   ]
  },
  {
   "cell_type": "code",
   "execution_count": null,
   "metadata": {},
   "outputs": [],
   "source": [
    "select seller_name\n",
    "from seller s\n",
    "left join (select seller_id, customer_id\n",
    "          from orders\n",
    "          where year(sale_date)=2020) o\n",
    "using(seller_id)\n",
    "where o.customer_id is null\n",
    "order by 1"
   ]
  }
 ],
 "metadata": {
  "kernelspec": {
   "display_name": "Python 3",
   "language": "python",
   "name": "python3"
  },
  "language_info": {
   "codemirror_mode": {
    "name": "ipython",
    "version": 3
   },
   "file_extension": ".py",
   "mimetype": "text/x-python",
   "name": "python",
   "nbconvert_exporter": "python",
   "pygments_lexer": "ipython3",
   "version": "3.7.3"
  }
 },
 "nbformat": 4,
 "nbformat_minor": 2
}
