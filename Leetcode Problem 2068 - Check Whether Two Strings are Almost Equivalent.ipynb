{
 "cells": [
  {
   "cell_type": "markdown",
   "metadata": {},
   "source": [
    "Problem Statement.\n",
    "\n",
    "Two strings word1 and word2 are considered almost equivalent if the differences between the frequencies of each letter from 'a' to 'z' between word1 and word2 is at most 3.\n",
    "\n",
    "Given two strings word1 and word2, each of length n, return true if word1 and word2 are almost equivalent, or false otherwise.\n",
    "\n",
    "The frequency of a letter x is the number of times it occurs in the string.\n",
    "\n",
    " \n",
    "\n",
    "Example 1:\n",
    "\n",
    "Input: word1 = \"aaaa\", word2 = \"bccb\"\n",
    "Output: false\n",
    "Explanation: There are 4 'a's in \"aaaa\" but 0 'a's in \"bccb\".\n",
    "The difference is 4, which is more than the allowed 3.\n",
    "\n",
    "Example 2:\n",
    "\n",
    "Input: word1 = \"abcdeef\", word2 = \"abaaacc\"\n",
    "Output: true\n",
    "Explanation: The differences between the frequencies of each letter in word1 and word2 are at most 3:\n",
    "- 'a' appears 1 time in word1 and 4 times in word2. The difference is 3.\n",
    "- 'b' appears 1 time in word1 and 1 time in word2. The difference is 0.\n",
    "- 'c' appears 1 time in word1 and 2 times in word2. The difference is 1.\n",
    "- 'd' appears 1 time in word1 and 0 times in word2. The difference is 1.\n",
    "- 'e' appears 2 times in word1 and 0 times in word2. The difference is 2.\n",
    "- 'f' appears 1 time in word1 and 0 times in word2. The difference is 1.\n",
    "\n",
    "Example 3:\n",
    "\n",
    "Input: word1 = \"cccddabba\", word2 = \"babababab\"\n",
    "Output: true\n",
    "Explanation: The differences between the frequencies of each letter in word1 and word2 are at most 3:\n",
    "- 'a' appears 2 times in word1 and 4 times in word2. The difference is 2.\n",
    "- 'b' appears 2 times in word1 and 5 times in word2. The difference is 3.\n",
    "- 'c' appears 3 times in word1 and 0 times in word2. The difference is 3.\n",
    "- 'd' appears 2 times in word1 and 0 times in word2. The difference is 2.\n",
    "\n",
    " \n",
    "\n",
    "Constraints:\n",
    "\n",
    "    n == word1.length == word2.length\n",
    "    1 <= n <= 100\n",
    "    word1 and word2 consist only of lowercase English letters."
   ]
  },
  {
   "cell_type": "markdown",
   "metadata": {},
   "source": [
    "# Hash Table - O(M + N + C) runtime, O(C) space"
   ]
  },
  {
   "cell_type": "code",
   "execution_count": 4,
   "metadata": {},
   "outputs": [],
   "source": [
    "from collections import Counter\n",
    "\n",
    "class Solution:\n",
    "    def checkAlmostEquivalent(self, word1: str, word2: str) -> bool:\n",
    "        counter = Counter(word1)\n",
    "        \n",
    "        for c in word2:\n",
    "            counter[c] -= 1\n",
    "            \n",
    "        return all(abs(v) <= 3 for v in counter.values())"
   ]
  },
  {
   "cell_type": "code",
   "execution_count": 5,
   "metadata": {},
   "outputs": [
    {
     "data": {
      "text/plain": [
       "True"
      ]
     },
     "execution_count": 5,
     "metadata": {},
     "output_type": "execute_result"
    }
   ],
   "source": [
    "instance = Solution()\n",
    "instance.checkAlmostEquivalent(\"cccddabba\", \"babababab\")"
   ]
  }
 ],
 "metadata": {
  "kernelspec": {
   "display_name": "Python 3",
   "language": "python",
   "name": "python3"
  },
  "language_info": {
   "codemirror_mode": {
    "name": "ipython",
    "version": 3
   },
   "file_extension": ".py",
   "mimetype": "text/x-python",
   "name": "python",
   "nbconvert_exporter": "python",
   "pygments_lexer": "ipython3",
   "version": "3.7.3"
  }
 },
 "nbformat": 4,
 "nbformat_minor": 2
}
