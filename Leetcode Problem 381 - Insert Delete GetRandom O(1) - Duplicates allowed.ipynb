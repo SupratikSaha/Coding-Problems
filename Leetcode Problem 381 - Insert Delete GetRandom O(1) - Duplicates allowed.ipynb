{
 "cells": [
  {
   "cell_type": "markdown",
   "metadata": {},
   "source": [
    "    Problem Statement.\n",
    "\n",
    "    RandomizedCollection is a data structure that contains a collection of numbers, possibly duplicates (i.e., a multiset). It should support inserting and removing specific elements and also removing a random element.\n",
    "\n",
    "    Implement the RandomizedCollection class:\n",
    "\n",
    "        RandomizedCollection() Initializes the empty RandomizedCollection object.\n",
    "        bool insert(int val) Inserts an item val into the multiset, even if the item is already present. Returns true if the item is not present, false otherwise.\n",
    "        bool remove(int val) Removes an item val from the multiset if present. Returns true if the item is present, false otherwise. Note that if val has multiple occurrences in the multiset, we only remove one of them.\n",
    "        int getRandom() Returns a random element from the current multiset of elements. The probability of each element being returned is linearly related to the number of same values the multiset contains.\n",
    "\n",
    "    You must implement the functions of the class such that each function works on average O(1) time complexity.\n",
    "\n",
    "    Note: The test cases are generated such that getRandom will only be called if there is at least one item in the RandomizedCollection.\n",
    "\n",
    "\n",
    "\n",
    "    Example 1:\n",
    "\n",
    "    Input\n",
    "    [\"RandomizedCollection\", \"insert\", \"insert\", \"insert\", \"getRandom\", \"remove\", \"getRandom\"]\n",
    "    [[], [1], [1], [2], [], [1], []]\n",
    "    Output\n",
    "    [null, true, false, true, 2, true, 1]\n",
    "\n",
    "    Explanation\n",
    "    RandomizedCollection randomizedCollection = new RandomizedCollection();\n",
    "    randomizedCollection.insert(1);   // return true since the collection does not contain 1.\n",
    "                                      // Inserts 1 into the collection.\n",
    "    randomizedCollection.insert(1);   // return false since the collection contains 1.\n",
    "                                      // Inserts another 1 into the collection. Collection now contains [1,1].\n",
    "    randomizedCollection.insert(2);   // return true since the collection does not contain 2.\n",
    "                                      // Inserts 2 into the collection. Collection now contains [1,1,2].\n",
    "    randomizedCollection.getRandom(); // getRandom should:\n",
    "                                      // - return 1 with probability 2/3, or\n",
    "                                      // - return 2 with probability 1/3.\n",
    "    randomizedCollection.remove(1);   // return true since the collection contains 1.\n",
    "                                      // Removes 1 from the collection. Collection now contains [1,2].\n",
    "    randomizedCollection.getRandom(); // getRandom should return 1 or 2, both equally likely.\n",
    "\n",
    "\n",
    "\n",
    "    Constraints:\n",
    "\n",
    "        -2^31 <= val <= 2^31 - 1\n",
    "        At most 2 * 10^5 calls in total will be made to insert, remove, and getRandom.\n",
    "        There will be at least one element in the data structure when getRandom is called."
   ]
  },
  {
   "cell_type": "markdown",
   "metadata": {},
   "source": [
    "# HashMap - O(1) runtime, O(N) space"
   ]
  },
  {
   "cell_type": "code",
   "execution_count": 1,
   "metadata": {},
   "outputs": [],
   "source": [
    "from collections import defaultdict\n",
    "\n",
    "class RandomizedCollection:\n",
    "\n",
    "    def __init__(self):\n",
    "        self.list = []\n",
    "        self.dict = defaultdict(set)\n",
    "\n",
    "    def insert(self, val: int) -> bool:\n",
    "        self.dict[val].add(len(self.list))\n",
    "        self.list.append(val)\n",
    "        return len(self.dict[val]) == 1\n",
    "\n",
    "    def remove(self, val: int) -> bool:\n",
    "        if val not in self.dict: return False\n",
    "        pos = self.dict[val].pop()\n",
    "        replace = self.list[-1]\n",
    "        \n",
    "        self.list[pos] = replace\n",
    "        self.dict[replace].add(pos)\n",
    "        self.dict[replace].remove(len(self.list)-1)\n",
    "        \n",
    "        if not self.dict[val]: self.dict.pop(val)\n",
    "        self.list.pop()\n",
    "        \n",
    "        return True\n",
    "\n",
    "    def getRandom(self) -> int:\n",
    "        choice = randint(0, len(self.list)-1)\n",
    "        return self.list[choice]"
   ]
  }
 ],
 "metadata": {
  "kernelspec": {
   "display_name": "Python 3",
   "language": "python",
   "name": "python3"
  },
  "language_info": {
   "codemirror_mode": {
    "name": "ipython",
    "version": 3
   },
   "file_extension": ".py",
   "mimetype": "text/x-python",
   "name": "python",
   "nbconvert_exporter": "python",
   "pygments_lexer": "ipython3",
   "version": "3.7.3"
  }
 },
 "nbformat": 4,
 "nbformat_minor": 2
}
