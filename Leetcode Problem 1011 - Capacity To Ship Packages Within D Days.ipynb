{
 "cells": [
  {
   "cell_type": "markdown",
   "metadata": {},
   "source": [
    "Problem Statement.\n",
    "\n",
    "A conveyor belt has packages that must be shipped from one port to another within days days.\n",
    "\n",
    "The ith package on the conveyor belt has a weight of weights[i]. Each day, we load the ship with packages on the conveyor belt (in the order given by weights). We may not load more weight than the maximum weight capacity of the ship.\n",
    "\n",
    "Return the least weight capacity of the ship that will result in all the packages on the conveyor belt being shipped within days days.\n",
    "\n",
    " \n",
    "\n",
    "Example 1:\n",
    "\n",
    "Input: weights = [1,2,3,4,5,6,7,8,9,10], days = 5\n",
    "Output: 15\n",
    "Explanation: A ship capacity of 15 is the minimum to ship all the packages in 5 days like this:\n",
    "1st day: 1, 2, 3, 4, 5\n",
    "2nd day: 6, 7\n",
    "3rd day: 8\n",
    "4th day: 9\n",
    "5th day: 10\n",
    "\n",
    "Note that the cargo must be shipped in the order given, so using a ship of capacity 14 and splitting the packages into parts like (2, 3, 4, 5), (1, 6, 7), (8), (9), (10) is not allowed.\n",
    "\n",
    "Example 2:\n",
    "\n",
    "Input: weights = [3,2,2,4,1,4], days = 3\n",
    "Output: 6\n",
    "Explanation: A ship capacity of 6 is the minimum to ship all the packages in 3 days like this:\n",
    "1st day: 3, 2\n",
    "2nd day: 2, 4\n",
    "3rd day: 1, 4\n",
    "\n",
    "Example 3:\n",
    "\n",
    "Input: weights = [1,2,3,1,1], days = 4\n",
    "Output: 3\n",
    "Explanation:\n",
    "1st day: 1\n",
    "2nd day: 2\n",
    "3rd day: 3\n",
    "4th day: 1, 1\n",
    "\n",
    " \n",
    "\n",
    "Constraints:\n",
    "\n",
    "    1 <= days <= weights.length <= 5 * 104\n",
    "    1 <= weights[i] <= 500"
   ]
  },
  {
   "cell_type": "markdown",
   "metadata": {},
   "source": [
    "# Binary Search - O(N * Log(W)) runtime, O(1) space"
   ]
  },
  {
   "cell_type": "code",
   "execution_count": 1,
   "metadata": {},
   "outputs": [],
   "source": [
    "from typing import List\n",
    "\n",
    "class Solution:\n",
    "    def shipWithinDays(self, weights: List[int], days: int) -> int:\n",
    "        n = len(weights)\n",
    "        \n",
    "        def checkCapacity(cap):\n",
    "            currDays, currWeight, i = 0, 0, 0\n",
    "            \n",
    "            while i < n:\n",
    "                if currWeight + weights[i] > cap: \n",
    "                    currWeight = 0\n",
    "                    currDays += 1\n",
    "                    if currDays == days: break\n",
    "                currWeight += weights[i]        \n",
    "                i += 1\n",
    "\n",
    "            if i == n: return True\n",
    "            return False\n",
    "        \n",
    "        left, right = max(weights), sum(weights)\n",
    "        res = 0\n",
    "        while left <= right:\n",
    "            mid = left + (right - left) // 2\n",
    "            if checkCapacity(mid): \n",
    "                res = mid\n",
    "                right = mid - 1\n",
    "            else: left = mid + 1\n",
    "                \n",
    "        return res"
   ]
  },
  {
   "cell_type": "markdown",
   "metadata": {},
   "source": [
    "# Shorter Binary Search - O(N * Log(W)) runtime, O(1) space"
   ]
  },
  {
   "cell_type": "code",
   "execution_count": 4,
   "metadata": {},
   "outputs": [],
   "source": [
    "from typing import List\n",
    "\n",
    "class Solution:\n",
    "    def shipWithinDays(self, weights: List[int], days: int) -> int:\n",
    "        left, right = max(weights), sum(weights)\n",
    "        \n",
    "        while left < right:\n",
    "            mid, need, cur = left + (right - left) // 2, 1, 0\n",
    "            for w in weights:\n",
    "                if cur + w > mid:\n",
    "                    need += 1\n",
    "                    cur = 0\n",
    "                cur += w\n",
    "            if need > days: left = mid + 1\n",
    "            else: right = mid\n",
    "                \n",
    "        return left"
   ]
  },
  {
   "cell_type": "code",
   "execution_count": 5,
   "metadata": {},
   "outputs": [
    {
     "data": {
      "text/plain": [
       "15"
      ]
     },
     "execution_count": 5,
     "metadata": {},
     "output_type": "execute_result"
    }
   ],
   "source": [
    "instance = Solution()\n",
    "instance.shipWithinDays( [1,2,3,4,5,6,7,8,9,10], 5)"
   ]
  }
 ],
 "metadata": {
  "kernelspec": {
   "display_name": "Python 3",
   "language": "python",
   "name": "python3"
  },
  "language_info": {
   "codemirror_mode": {
    "name": "ipython",
    "version": 3
   },
   "file_extension": ".py",
   "mimetype": "text/x-python",
   "name": "python",
   "nbconvert_exporter": "python",
   "pygments_lexer": "ipython3",
   "version": "3.7.3"
  }
 },
 "nbformat": 4,
 "nbformat_minor": 2
}
