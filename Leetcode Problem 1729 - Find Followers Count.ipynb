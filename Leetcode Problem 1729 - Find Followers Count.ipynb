{
 "cells": [
  {
   "cell_type": "markdown",
   "metadata": {},
   "source": [
    "    Problem Statement.\n",
    "\n",
    "    Table: Followers\n",
    "\n",
    "    +-------------+------+\n",
    "    | Column Name | Type |\n",
    "    +-------------+------+\n",
    "    | user_id     | int  |\n",
    "    | follower_id | int  |\n",
    "    +-------------+------+\n",
    "    (user_id, follower_id) is the primary key for this table.\n",
    "    This table contains the IDs of a user and a follower in a social media app where the follower follows the user.\n",
    "\n",
    "\n",
    "\n",
    "    Write an SQL query that will, for each user, return the number of followers.\n",
    "\n",
    "    Return the result table ordered by user_id.\n",
    "\n",
    "    The query result format is in the following example.\n",
    "\n",
    "\n",
    "\n",
    "    Example 1:\n",
    "\n",
    "    Input: \n",
    "    Followers table:\n",
    "    +---------+-------------+\n",
    "    | user_id | follower_id |\n",
    "    +---------+-------------+\n",
    "    | 0       | 1           |\n",
    "    | 1       | 0           |\n",
    "    | 2       | 0           |\n",
    "    | 2       | 1           |\n",
    "    +---------+-------------+\n",
    "    Output: \n",
    "    +---------+----------------+\n",
    "    | user_id | followers_count|\n",
    "    +---------+----------------+\n",
    "    | 0       | 1              |\n",
    "    | 1       | 1              |\n",
    "    | 2       | 2              |\n",
    "    +---------+----------------+\n",
    "    Explanation: \n",
    "    The followers of 0 are {1}\n",
    "    The followers of 1 are {0}\n",
    "    The followers of 2 are {0,1}"
   ]
  },
  {
   "cell_type": "markdown",
   "metadata": {},
   "source": [
    "# Group By"
   ]
  },
  {
   "cell_type": "code",
   "execution_count": null,
   "metadata": {},
   "outputs": [],
   "source": [
    "select user_id, count(distinct follower_id) as followers_count\n",
    "from Followers\n",
    "group by 1\n",
    "order by 1"
   ]
  }
 ],
 "metadata": {
  "kernelspec": {
   "display_name": "Python 3",
   "language": "python",
   "name": "python3"
  },
  "language_info": {
   "codemirror_mode": {
    "name": "ipython",
    "version": 3
   },
   "file_extension": ".py",
   "mimetype": "text/x-python",
   "name": "python",
   "nbconvert_exporter": "python",
   "pygments_lexer": "ipython3",
   "version": "3.7.3"
  }
 },
 "nbformat": 4,
 "nbformat_minor": 2
}
