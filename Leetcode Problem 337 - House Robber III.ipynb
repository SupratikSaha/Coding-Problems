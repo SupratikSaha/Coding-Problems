{
 "cells": [
  {
   "cell_type": "markdown",
   "metadata": {},
   "source": [
    "    Problem Statement.\n",
    "\n",
    "    The thief has found himself a new place for his thievery again. There is only one entrance to this area, called root.\n",
    "\n",
    "    Besides the root, each house has one and only one parent house. After a tour, the smart thief realized that all houses in this place form a binary tree. It will automatically contact the police if two directly-linked houses were broken into on the same night.\n",
    "\n",
    "    Given the root of the binary tree, return the maximum amount of money the thief can rob without alerting the police.\n",
    "\n",
    "\n",
    "\n",
    "    Example 1:\n",
    "\n",
    "    Input: root = [3,2,3,null,3,null,1]\n",
    "    Output: 7\n",
    "    Explanation: Maximum amount of money the thief can rob = 3 + 3 + 1 = 7.\n",
    "\n",
    "    Example 2:\n",
    "\n",
    "    Input: root = [3,4,5,1,3,null,1]\n",
    "    Output: 9\n",
    "    Explanation: Maximum amount of money the thief can rob = 4 + 5 = 9.\n",
    "\n",
    "\n",
    "\n",
    "    Constraints:\n",
    "\n",
    "        The number of nodes in the tree is in the range [1, 104].\n",
    "        0 <= Node.val <= 104"
   ]
  },
  {
   "cell_type": "markdown",
   "metadata": {},
   "source": [
    "# Simple Top Down DP - O(N) runtime, O(N) space"
   ]
  },
  {
   "cell_type": "code",
   "execution_count": 1,
   "metadata": {},
   "outputs": [],
   "source": [
    "# Definition for a binary tree node.\n",
    "# class TreeNode:\n",
    "#     def __init__(self, val=0, left=None, right=None):\n",
    "#         self.val = val\n",
    "#         self.left = left\n",
    "#         self.right = right\n",
    "\n",
    "class Solution:\n",
    "    def rob(self, root: TreeNode) -> int:\n",
    "        def helper(node):\n",
    "            # return [rob this node, not rob this node]\n",
    "            if not node:\n",
    "                return (0, 0)\n",
    "            left = helper(node.left)\n",
    "            right = helper(node.right)\n",
    "            # if we rob this node, we cannot rob its children\n",
    "            rob = node.val + left[1] + right[1]\n",
    "            # else we could choose to either rob its children or not\n",
    "            not_rob = max(left) + max(right)\n",
    "            return [rob, not_rob]\n",
    "\n",
    "        return max(helper(root))"
   ]
  },
  {
   "cell_type": "markdown",
   "metadata": {},
   "source": [
    "# Top Down DP with memoization - O(N) runtime, O(N) space"
   ]
  },
  {
   "cell_type": "code",
   "execution_count": 2,
   "metadata": {},
   "outputs": [],
   "source": [
    "# Definition for a binary tree node.\n",
    "# class TreeNode:\n",
    "#     def __init__(self, val=0, left=None, right=None):\n",
    "#         self.val = val\n",
    "#         self.left = left\n",
    "#         self.right = right\n",
    "        \n",
    "class Solution:\n",
    "    def rob(self, root: TreeNode) -> int:\n",
    "        self.dp = {}\n",
    "        return self.robRecursive(root)\n",
    "    \n",
    "    def robRecursive(self, root: TreeNode) -> int:\n",
    "        if root is None: return 0\n",
    "        \n",
    "        if root in self.dp: return self.dp[root]\n",
    "        \n",
    "        robNode = root.val\n",
    "        if root.left: robNode += self.robRecursive(root.left.left) + self.robRecursive(root.left.right)\n",
    "        if root.right: robNode += self.robRecursive(root.right.left) + self.robRecursive(root.right.right)\n",
    "\n",
    "        spareNode = 0\n",
    "        if root.left: spareNode += self.robRecursive(root.left)\n",
    "        if root.right: spareNode += self.robRecursive(root.right)\n",
    "\n",
    "        self.dp[root] = max(robNode, spareNode)\n",
    "            \n",
    "        return self.dp[root]"
   ]
  }
 ],
 "metadata": {
  "kernelspec": {
   "display_name": "Python 3",
   "language": "python",
   "name": "python3"
  },
  "language_info": {
   "codemirror_mode": {
    "name": "ipython",
    "version": 3
   },
   "file_extension": ".py",
   "mimetype": "text/x-python",
   "name": "python",
   "nbconvert_exporter": "python",
   "pygments_lexer": "ipython3",
   "version": "3.7.3"
  }
 },
 "nbformat": 4,
 "nbformat_minor": 2
}
