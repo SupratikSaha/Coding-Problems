{
 "cells": [
  {
   "cell_type": "markdown",
   "metadata": {},
   "source": [
    "    Problem Statement.\n",
    "\n",
    "    Given a string path, which is an absolute path (starting with a slash '/') to a file or directory in a Unix-style file system, convert it to the simplified canonical path.\n",
    "\n",
    "    In a Unix-style file system, a period '.' refers to the current directory, a double period '..' refers to the directory up a level, and any multiple consecutive slashes (i.e. '//') are treated as a single slash '/'. For this problem, any other format of periods such as '...' are treated as file/directory names.\n",
    "\n",
    "    The canonical path should have the following format:\n",
    "\n",
    "        The path starts with a single slash '/'.\n",
    "        Any two directories are separated by a single slash '/'.\n",
    "        The path does not end with a trailing '/'.\n",
    "        The path only contains the directories on the path from the root directory to the target file or directory (i.e., no period '.' or double period '..')\n",
    "\n",
    "    Return the simplified canonical path.\n",
    "\n",
    "\n",
    "\n",
    "    Example 1:\n",
    "\n",
    "    Input: path = \"/home/\"\n",
    "    Output: \"/home\"\n",
    "    Explanation: Note that there is no trailing slash after the last directory name.\n",
    "\n",
    "    Example 2:\n",
    "\n",
    "    Input: path = \"/../\"\n",
    "    Output: \"/\"\n",
    "    Explanation: Going one level up from the root directory is a no-op, as the root level is the highest level you can go.\n",
    "\n",
    "    Example 3:\n",
    "\n",
    "    Input: path = \"/home//foo/\"\n",
    "    Output: \"/home/foo\"\n",
    "    Explanation: In the canonical path, multiple consecutive slashes are replaced by a single one.\n",
    "\n",
    "    Example 4:\n",
    "\n",
    "    Input: path = \"/a/./b/../../c/\"\n",
    "    Output: \"/c\"\n",
    "\n",
    "\n",
    "\n",
    "    Constraints:\n",
    "\n",
    "        1 <= path.length <= 3000\n",
    "        path consists of English letters, digits, period '.', slash '/' or '_'.\n",
    "        path is a valid absolute Unix path."
   ]
  },
  {
   "cell_type": "markdown",
   "metadata": {},
   "source": [
    "# Stack - O(N) runtime, O(N) space"
   ]
  },
  {
   "cell_type": "code",
   "execution_count": 1,
   "metadata": {},
   "outputs": [],
   "source": [
    "class Solution:\n",
    "    def simplifyPath(self, path: str) -> str:\n",
    "        stack = []\n",
    "        n = len(path)\n",
    "        i = 0\n",
    "        currDir = []\n",
    "        while i < n:\n",
    "            if path[i:i+3] == '/./' or (path[i:i+2] == '/.' and i == n-2):\n",
    "                i +=2\n",
    "            elif path[i:i+4] == '/../' or (path[i:i+3] == '/..' and i == n-3):\n",
    "                if currDir: \n",
    "                    stack.append(''.join(currDir))\n",
    "                    currDir = []\n",
    "                if stack: stack.pop()\n",
    "                i += 3\n",
    "            elif path[i] == '/':\n",
    "                if currDir: \n",
    "                    stack.append(''.join(currDir))\n",
    "                    currDir = []\n",
    "                i += 1\n",
    "            else:\n",
    "                currDir.append(path[i])\n",
    "                i += 1\n",
    "                      \n",
    "        if currDir: \n",
    "            stack.append(''.join(currDir))\n",
    "            currDir = []\n",
    "                \n",
    "        return '/' + '/'.join(stack) if stack else '/'"
   ]
  },
  {
   "cell_type": "markdown",
   "metadata": {},
   "source": [
    "# Simplified Stack - O(N) runtime, O(N) space"
   ]
  },
  {
   "cell_type": "code",
   "execution_count": 3,
   "metadata": {},
   "outputs": [],
   "source": [
    "class Solution:\n",
    "    def simplifyPath(self, path: str) -> str:\n",
    "        # Initialize a stack\n",
    "        stack = []\n",
    "\n",
    "        # Split the input string on \"/\" as the delimiter\n",
    "        # and process each portion one by one\n",
    "        for portion in path.split(\"/\"):\n",
    "\n",
    "            # If the current component is a \"..\", then\n",
    "            # we pop an entry from the stack if it's non-empty\n",
    "            if portion == \"..\":\n",
    "                if stack:\n",
    "                    stack.pop()\n",
    "            elif portion == \".\" or not portion:\n",
    "                # A no-op for a \".\" or an empty string\n",
    "                continue\n",
    "            else:\n",
    "                # Finally, a legitimate directory name, so we add it\n",
    "                # to our stack\n",
    "                stack.append(portion)\n",
    "\n",
    "        # Stich together all the directory names together\n",
    "        final_str = \"/\" + \"/\".join(stack)\n",
    "        return final_str"
   ]
  },
  {
   "cell_type": "code",
   "execution_count": 4,
   "metadata": {},
   "outputs": [
    {
     "data": {
      "text/plain": [
       "'/c'"
      ]
     },
     "execution_count": 4,
     "metadata": {},
     "output_type": "execute_result"
    }
   ],
   "source": [
    "instance = Solution()\n",
    "instance.simplifyPath(\"/a/./b/../../c/\")"
   ]
  }
 ],
 "metadata": {
  "kernelspec": {
   "display_name": "Python 3",
   "language": "python",
   "name": "python3"
  },
  "language_info": {
   "codemirror_mode": {
    "name": "ipython",
    "version": 3
   },
   "file_extension": ".py",
   "mimetype": "text/x-python",
   "name": "python",
   "nbconvert_exporter": "python",
   "pygments_lexer": "ipython3",
   "version": "3.7.3"
  }
 },
 "nbformat": 4,
 "nbformat_minor": 2
}
