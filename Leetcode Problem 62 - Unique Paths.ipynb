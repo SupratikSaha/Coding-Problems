{
 "cells": [
  {
   "cell_type": "markdown",
   "metadata": {},
   "source": [
    "# Using backtracking - O(m+n C m) run time, O(m + n) space"
   ]
  },
  {
   "cell_type": "code",
   "execution_count": 1,
   "metadata": {},
   "outputs": [],
   "source": [
    "class Solution:\n",
    "    def uniquePaths(self, m: int, n: int) -> int:\n",
    "        return self.backtrack(0, 0, m, n)\n",
    "    \n",
    "    def backtrack(self, r: int, c: int, m: int, n: int) -> int:\n",
    "        if r == m - 1 and c == n - 1:\n",
    "            return 1\n",
    "        if r >= m or c >= n:\n",
    "            return 0\n",
    "        \n",
    "        return self.backtrack(r + 1, c, m, n) + self.backtrack(r, c + 1, m, n)"
   ]
  },
  {
   "cell_type": "markdown",
   "metadata": {},
   "source": [
    "# Using top down memoiation to save intremittent output - O(m+n C m) run time, O(mn) space"
   ]
  },
  {
   "cell_type": "code",
   "execution_count": 4,
   "metadata": {},
   "outputs": [],
   "source": [
    "class Solution:\n",
    "    def uniquePaths(self, m: int, n: int) -> int:\n",
    "        mem = [[-1 for x in range(n + 1)] for y in range(m + 1)] \n",
    "        return self.backtrack(0, 0, m, n, mem)\n",
    "    \n",
    "    def backtrack(self, r: int, c: int, m: int, n: int, mem: List) -> int:\n",
    "        if r == m - 1 and c == n - 1:\n",
    "            return 1\n",
    "        if r >= m or c >= n:\n",
    "            return 0\n",
    "        \n",
    "        if mem[r + 1][c] == -1:\n",
    "            mem[r + 1][c] = self.backtrack(r + 1, c, m, n, mem)\n",
    "        if mem[r][c + 1] == -1:\n",
    "            mem[r][c + 1] = self.backtrack(r, c + 1, m, n, mem)\n",
    "            \n",
    "        return mem[r + 1][c] + mem[r][c + 1]"
   ]
  },
  {
   "cell_type": "markdown",
   "metadata": {},
   "source": [
    "# Using bottom up approach - O(mn) run time, O(mn) space"
   ]
  },
  {
   "cell_type": "code",
   "execution_count": 7,
   "metadata": {},
   "outputs": [],
   "source": [
    "class Solution:\n",
    "    def uniquePaths(self, m: int, n: int) -> int:\n",
    "        mem = [[0 for x in range(n + 1)] for y in range(m + 1)] \n",
    "        mem[m - 1][n] = 1\n",
    "        for r in range(m - 1, -1, -1):\n",
    "            for c in range(n - 1, -1, -1):\n",
    "                mem[r][c] = mem[r + 1][c] + mem[r][c + 1]\n",
    "        \n",
    "        return mem[0][0]"
   ]
  },
  {
   "cell_type": "code",
   "execution_count": 8,
   "metadata": {},
   "outputs": [
    {
     "data": {
      "text/plain": [
       "193536720"
      ]
     },
     "execution_count": 8,
     "metadata": {},
     "output_type": "execute_result"
    }
   ],
   "source": [
    "Instance = Solution()\n",
    "Instance.uniquePaths(23,12)"
   ]
  }
 ],
 "metadata": {
  "kernelspec": {
   "display_name": "Python 3",
   "language": "python",
   "name": "python3"
  },
  "language_info": {
   "codemirror_mode": {
    "name": "ipython",
    "version": 3
   },
   "file_extension": ".py",
   "mimetype": "text/x-python",
   "name": "python",
   "nbconvert_exporter": "python",
   "pygments_lexer": "ipython3",
   "version": "3.7.3"
  }
 },
 "nbformat": 4,
 "nbformat_minor": 2
}
