{
 "cells": [
  {
   "cell_type": "markdown",
   "metadata": {},
   "source": [
    "Problem Statement.\n",
    "\n",
    "You are given an integer array stations that represents the positions of the gas stations on the x-axis. You are also given an integer k.\n",
    "\n",
    "You should add k new gas stations. You can add the stations anywhere on the x-axis, and not necessarily on an integer position.\n",
    "\n",
    "Let penalty() be the maximum distance between adjacent gas stations after adding the k new stations.\n",
    "\n",
    "Return the smallest possible value of penalty(). Answers within 10-6 of the actual answer will be accepted.\n",
    "\n",
    " \n",
    "\n",
    "Example 1:\n",
    "\n",
    "Input: stations = [1,2,3,4,5,6,7,8,9,10], k = 9\n",
    "Output: 0.50000\n",
    "\n",
    "Example 2:\n",
    "\n",
    "Input: stations = [23,24,36,39,46,56,57,65,84,98], k = 1\n",
    "Output: 14.00000\n",
    "\n",
    " \n",
    "\n",
    "Constraints:\n",
    "\n",
    "    10 <= stations.length <= 2000\n",
    "    0 <= stations[i] <= 10^8\n",
    "    stations is sorted in a strictly increasing order.\n",
    "    1 <= k <= 10^6"
   ]
  },
  {
   "cell_type": "markdown",
   "metadata": {},
   "source": [
    "# Heap - Time Limit Exceeded - O(N * LogK) runtime, O(N) space"
   ]
  },
  {
   "cell_type": "code",
   "execution_count": 1,
   "metadata": {},
   "outputs": [],
   "source": [
    "from typing import List\n",
    "from heapq import heapify, heappush, heappop\n",
    "\n",
    "class Solution:\n",
    "    def minmaxGasDist(self, stations: List[int], k: int) -> float:\n",
    "        maxheap = []\n",
    "        \n",
    "        for i in range(1, len(stations)):\n",
    "            maxheap.append((stations[i-1] - stations[i], stations[i] - stations[i-1], 1))\n",
    "        \n",
    "        heapify(maxheap)\n",
    "                \n",
    "        for i in range(k):\n",
    "            gap, orig, parts = heappop(maxheap)\n",
    "            parts += 1\n",
    "            heappush(maxheap, (-orig/parts, orig, parts))\n",
    "            \n",
    "        return -maxheap[0][0]"
   ]
  },
  {
   "cell_type": "markdown",
   "metadata": {},
   "source": [
    "# Binary Search - O(N * Log W) runtime, O(1) space, where W is the biggest distance"
   ]
  },
  {
   "cell_type": "code",
   "execution_count": 2,
   "metadata": {},
   "outputs": [],
   "source": [
    "from typing import List\n",
    "\n",
    "class Solution:\n",
    "    def minmaxGasDist(self, stations: List[int], k: int) -> float:\n",
    "        def possible(D):\n",
    "            return sum(int((stations[i+1] - stations[i]) / D)\n",
    "                       for i in range(len(stations) - 1)) <= k\n",
    "\n",
    "        lo, hi = 0, 10**8\n",
    "        while hi - lo > 1e-6:\n",
    "            mi = lo + (hi - lo) / 2.0\n",
    "            if possible(mi):\n",
    "                hi = mi\n",
    "            else:\n",
    "                lo = mi\n",
    "        return lo"
   ]
  },
  {
   "cell_type": "code",
   "execution_count": 3,
   "metadata": {},
   "outputs": [
    {
     "data": {
      "text/plain": [
       "0.4999996860988176"
      ]
     },
     "execution_count": 3,
     "metadata": {},
     "output_type": "execute_result"
    }
   ],
   "source": [
    "instance = Solution()\n",
    "instance.minmaxGasDist([1,2,3,4,5,6,7,8,9,10], k = 9)"
   ]
  }
 ],
 "metadata": {
  "kernelspec": {
   "display_name": "Python 3",
   "language": "python",
   "name": "python3"
  },
  "language_info": {
   "codemirror_mode": {
    "name": "ipython",
    "version": 3
   },
   "file_extension": ".py",
   "mimetype": "text/x-python",
   "name": "python",
   "nbconvert_exporter": "python",
   "pygments_lexer": "ipython3",
   "version": "3.7.3"
  }
 },
 "nbformat": 4,
 "nbformat_minor": 2
}
