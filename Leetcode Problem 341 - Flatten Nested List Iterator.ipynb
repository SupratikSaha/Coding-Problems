{
 "cells": [
  {
   "cell_type": "markdown",
   "metadata": {},
   "source": [
    "Problem Statement. <br/>\n",
    "\n",
    "Given a nested list of integers, implement an iterator to flatten it. <br/>\n",
    "Each element is either an integer, or a list -- whose elements may also be integers or other lists. <br/>\n",
    "\n",
    "Example 1: <br/>\n",
    "Input: [[1,1],2,[1,1]] <br/>\n",
    "Output: [1,1,2,1,1] <br/>\n",
    "Explanation: By calling next repeatedly until hasNext returns false <br/>, \n",
    "             the order of elements returned by next should be: [1,1,2,1,1]. <br/>\n",
    "\n",
    "Example 2: <br/>\n",
    "Input: [1,[4,[6]]] <br/>\n",
    "Output: [1,4,6] <br/>\n",
    "Explanation: By calling next repeatedly until hasNext returns false,  <br/>\n",
    "             the order of elements returned by next should be: [1,4,6]."
   ]
  },
  {
   "cell_type": "code",
   "execution_count": null,
   "metadata": {},
   "outputs": [],
   "source": [
    "# \"\"\"\n",
    "# This is the interface that allows for creating nested lists.\n",
    "# You should not implement it, or speculate about its implementation\n",
    "# \"\"\"\n",
    "#class NestedInteger:\n",
    "#    def isInteger(self) -> bool:\n",
    "#        \"\"\"\n",
    "#        @return True if this NestedInteger holds a single integer, rather than a nested list.\n",
    "#        \"\"\"\n",
    "#\n",
    "#    def getInteger(self) -> int:\n",
    "#        \"\"\"\n",
    "#        @return the single integer that this NestedInteger holds, if it holds a single integer\n",
    "#        Return None if this NestedInteger holds a nested list\n",
    "#        \"\"\"\n",
    "#\n",
    "#    def getList(self) -> [NestedInteger]:\n",
    "#        \"\"\"\n",
    "#        @return the nested list that this NestedInteger holds, if it holds a nested list\n",
    "#        Return None if this NestedInteger holds a single integer\n",
    "#        \"\"\""
   ]
  },
  {
   "cell_type": "markdown",
   "metadata": {},
   "source": [
    "# Iterate over list - constructor O(N + L), next and hasNext O(1) runtime, constructor - O(N + D), next and hasNext O(1) space, where N is the number of integers, L is the number of lists and D is the maximum depth of the List"
   ]
  },
  {
   "cell_type": "code",
   "execution_count": null,
   "metadata": {},
   "outputs": [],
   "source": [
    "class NestedIterator:\n",
    "    def __init__(self, nestedList: [NestedInteger]):\n",
    "        self.list = []\n",
    "        self.index = -1\n",
    "        self._flattenList(nestedList)\n",
    "        print(self.list)\n",
    "        self.n = len(self.list)\n",
    "        \n",
    "    def _flattenList(self, nestedList: [NestedInteger]):\n",
    "        for nestedInteger in nestedList:\n",
    "            if nestedInteger.isInteger():\n",
    "                self.list.append(nestedInteger.getInteger())\n",
    "            else:\n",
    "                self._flattenList(nestedInteger.getList())\n",
    "    \n",
    "    def next(self) -> int:\n",
    "        self.index += 1\n",
    "        return self.list[self.index]\n",
    "        \n",
    "    \n",
    "    def hasNext(self) -> bool:\n",
    "        if self.index + 1 < self.n:\n",
    "            return True\n",
    "        return False"
   ]
  },
  {
   "cell_type": "markdown",
   "metadata": {},
   "source": [
    "# Stack - constructor O(N + L), makeStackTopAnInteger, next and hasNext O(L/N) i.e. O(1) runtime, constructor - O(N + L), makeStackTopAnInteger, next and hasNext O(1) space, where N is the number of integers and L is the number of lists"
   ]
  },
  {
   "cell_type": "code",
   "execution_count": null,
   "metadata": {},
   "outputs": [],
   "source": [
    "class NestedIterator:\n",
    "    \n",
    "    def __init__(self, nestedList: [NestedInteger]):\n",
    "        self.stack = list(reversed(nestedList))\n",
    "        \n",
    "        \n",
    "    def next(self) -> int:\n",
    "        self.make_stack_top_an_integer()\n",
    "        return self.stack.pop().getInteger()\n",
    "    \n",
    "        \n",
    "    def hasNext(self) -> bool:\n",
    "        self.make_stack_top_an_integer()\n",
    "        return len(self.stack) > 0\n",
    "        \n",
    "        \n",
    "    def make_stack_top_an_integer(self):\n",
    "        # While the stack contains a nested list at the top...\n",
    "        while self.stack and not self.stack[-1].isInteger():\n",
    "            # Unpack the list at the top by putting its items onto\n",
    "            # the stack in reverse order.\n",
    "            self.stack.extend(reversed(self.stack.pop().getList()))"
   ]
  },
  {
   "cell_type": "markdown",
   "metadata": {},
   "source": [
    " # Two Stacks - constructor O(1), makeStackTopAnInteger, next and hasNext O(L/N) i.e. O(1) runtime, O(D) space, where N is the number of integers, L is the number of lists and D is the maximum depth of the List"
   ]
  },
  {
   "cell_type": "code",
   "execution_count": null,
   "metadata": {},
   "outputs": [],
   "source": [
    "class NestedIterator:\n",
    "    \n",
    "    def __init__(self, nestedList: [NestedInteger]):\n",
    "        self.stack = [[nestedList, 0]]\n",
    "        \n",
    "    def make_stack_top_an_integer(self):\n",
    "        \n",
    "        while self.stack:\n",
    "            \n",
    "            # Essential for readability :)\n",
    "            current_list = self.stack[-1][0]\n",
    "            current_index = self.stack[-1][1]\n",
    "            \n",
    "            # If the top list is used up, pop it and its index.\n",
    "            if len(current_list) == current_index:\n",
    "                self.stack.pop()\n",
    "                continue\n",
    "            \n",
    "            # Otherwise, if it's already an integer, we don't need \n",
    "            # to do anything.\n",
    "            if current_list[current_index].isInteger():\n",
    "                break\n",
    "            \n",
    "            # Otherwise, it must be a list. We need to increment the index\n",
    "            # on the previous list, and add the new list.\n",
    "            new_list = current_list[current_index].getList()\n",
    "            self.stack[-1][1] += 1 # Increment old.\n",
    "            self.stack.append([new_list, 0])\n",
    "            \n",
    "    \n",
    "    def next(self) -> int:\n",
    "        current_list = self.stack[-1][0]\n",
    "        current_index = self.stack[-1][1]\n",
    "        self.stack[-1][1] += 1\n",
    "        return current_list[current_index].getInteger()\n",
    "        \n",
    "    \n",
    "    def hasNext(self) -> bool:\n",
    "        self.make_stack_top_an_integer()\n",
    "        return len(self.stack) > 0\n"
   ]
  },
  {
   "cell_type": "markdown",
   "metadata": {},
   "source": [
    "# Python generator - Two Stacks - constructor O(1), next and hasNext O(L/N) i.e. O(1) runtime, O(D) space, where N is the number of integers, L is the number of lists and D is the maximum depth of the List"
   ]
  },
  {
   "cell_type": "code",
   "execution_count": null,
   "metadata": {},
   "outputs": [],
   "source": [
    "class NestedIterator:\n",
    "\n",
    "    def __init__(self, nestedList: [NestedInteger]):\n",
    "        # Get a generator object from the generator function, passing in\n",
    "        # nestedList as the parameter.\n",
    "        self._generator = self._int_generator(nestedList)\n",
    "        # All values are placed here before being returned.\n",
    "        self._peeked = None\n",
    "\n",
    "    # This is the generator function. It can be used to create generator\n",
    "    # objects.\n",
    "    def _int_generator(self, nested_list) -> \"Generator[int]\":\n",
    "        # This code is the same as Approach 1. It's a recursive DFS.\n",
    "        for nested in nested_list:\n",
    "            if nested.isInteger():\n",
    "                yield nested.getInteger()\n",
    "            else:\n",
    "                # We always use \"yield from\" on recursive generator calls.\n",
    "                yield from self._int_generator(nested.getList())\n",
    "        # Will automatically raise a StopIteration.\n",
    "    \n",
    "    def next(self) -> int:\n",
    "        # Check there are integers left, and if so, then this will\n",
    "        # also put one into self._peeked.\n",
    "        if not self.hasNext(): return None\n",
    "        # Return the value of self._peeked, also clearing it.\n",
    "        next_integer, self._peeked = self._peeked, None\n",
    "        return next_integer\n",
    "        \n",
    "    def hasNext(self) -> bool:\n",
    "        if self._peeked is not None: return True\n",
    "        try: # Get another integer out of the generator.\n",
    "            self._peeked = next(self._generator)\n",
    "            return True\n",
    "        except: # The generator is finished so raised StopIteration.\n",
    "            return False"
   ]
  }
 ],
 "metadata": {
  "kernelspec": {
   "display_name": "Python 3",
   "language": "python",
   "name": "python3"
  },
  "language_info": {
   "codemirror_mode": {
    "name": "ipython",
    "version": 3
   },
   "file_extension": ".py",
   "mimetype": "text/x-python",
   "name": "python",
   "nbconvert_exporter": "python",
   "pygments_lexer": "ipython3",
   "version": "3.7.3"
  }
 },
 "nbformat": 4,
 "nbformat_minor": 2
}
