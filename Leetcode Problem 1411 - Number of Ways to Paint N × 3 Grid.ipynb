{
 "cells": [
  {
   "cell_type": "markdown",
   "metadata": {},
   "source": [
    "Problem Statement.\n",
    "\n",
    "You have a grid of size n x 3 and you want to paint each cell of the grid with exactly one of the three colors: Red, Yellow, or Green while making sure that no two adjacent cells have the same color (i.e., no two cells that share vertical or horizontal sides have the same color).\n",
    "\n",
    "Given n the number of rows of the grid, return the number of ways you can paint this grid. As the answer may grow large, the answer must be computed modulo 109 + 7.\n",
    "\n",
    " \n",
    "\n",
    "Example 1:\n",
    "\n",
    "Input: n = 1\n",
    "Output: 12\n",
    "Explanation: There are 12 possible way to paint the grid as shown.\n",
    "\n",
    "Example 2:\n",
    "\n",
    "Input: n = 5000\n",
    "Output: 30228214\n",
    "\n",
    " \n",
    "\n",
    "Constraints:\n",
    "\n",
    "    n == grid.length\n",
    "    1 <= n <= 5000"
   ]
  },
  {
   "cell_type": "markdown",
   "metadata": {},
   "source": [
    "# DP - O(N) runtime, O(1) space"
   ]
  },
  {
   "cell_type": "markdown",
   "metadata": {},
   "source": [
    "    Two pattern for each row, 121 and 123.\n",
    "    121, the first color same as the third in a row.\n",
    "    123, one row has three different colors.\n",
    "\n",
    "    We consider the state of the first row,\n",
    "    pattern 121: 121, 131, 212, 232, 313, 323.\n",
    "    pattern 123: 123, 132, 213, 231, 312, 321.\n",
    "    So we initialize a121 = 6, a123 = 6.\n",
    "\n",
    "    We consider the next possible for each pattern:\n",
    "    Patter 121 can be followed by: 212, 213, 232, 312, 313\n",
    "    Patter 123 can be followed by: 212, 231, 312, 232\n",
    "\n",
    "    121 => three 121, two 123\n",
    "    123 => two 121, two 123\n",
    "\n",
    "    So we can write this dynamic programming transform equation:\n",
    "    b121 = a121 * 3 + a123 * 2\n",
    "    b123 = a121 * 2 + a123 * 2"
   ]
  },
  {
   "cell_type": "code",
   "execution_count": 2,
   "metadata": {},
   "outputs": [],
   "source": [
    "class Solution:\n",
    "    def numOfWays(self, n: int) -> int:\n",
    "        a121, a123, mod = 6, 6, 10**9 + 7\n",
    "        \n",
    "        for i in range(n - 1):\n",
    "            a121, a123 = a121 * 3 + a123 * 2, a121 * 2 + a123 * 2\n",
    "            \n",
    "        return (a121 + a123) % mod"
   ]
  },
  {
   "cell_type": "markdown",
   "metadata": {},
   "source": [
    "# Logaritmic Solution - O(Log N) runtime, O(1) space"
   ]
  },
  {
   "cell_type": "code",
   "execution_count": 4,
   "metadata": {},
   "outputs": [],
   "source": [
    "import numpy\n",
    "\n",
    "class Solution:\n",
    "    def numOfWays(self, n: int) -> int:\n",
    "        n, mod = n - 1, 10**9 + 7\n",
    "        M = numpy.matrix([[3, 2], [2, 2]])\n",
    "        res = [6, 6]\n",
    "        while n:\n",
    "            if n % 2:\n",
    "                res = res * M % mod\n",
    "            M = M * M % mod\n",
    "            n //= 2\n",
    "        return (numpy.sum(res)) % mod"
   ]
  },
  {
   "cell_type": "code",
   "execution_count": 5,
   "metadata": {},
   "outputs": [
    {
     "data": {
      "text/plain": [
       "136656591"
      ]
     },
     "execution_count": 5,
     "metadata": {},
     "output_type": "execute_result"
    }
   ],
   "source": [
    "instance = Solution()\n",
    "instance.numOfWays(5000)"
   ]
  }
 ],
 "metadata": {
  "kernelspec": {
   "display_name": "Python 3",
   "language": "python",
   "name": "python3"
  },
  "language_info": {
   "codemirror_mode": {
    "name": "ipython",
    "version": 3
   },
   "file_extension": ".py",
   "mimetype": "text/x-python",
   "name": "python",
   "nbconvert_exporter": "python",
   "pygments_lexer": "ipython3",
   "version": "3.7.3"
  }
 },
 "nbformat": 4,
 "nbformat_minor": 2
}
