{
 "cells": [
  {
   "cell_type": "markdown",
   "metadata": {},
   "source": [
    "    Problem Statement.\n",
    "\n",
    "    Table: UserActivity\n",
    "\n",
    "    +---------------+---------+\n",
    "    | Column Name   | Type    |\n",
    "    +---------------+---------+\n",
    "    | username      | varchar |\n",
    "    | activity      | varchar |\n",
    "    | startDate     | Date    |\n",
    "    | endDate       | Date    |\n",
    "    +---------------+---------+\n",
    "    There is no primary key for this table. It may contain duplicates.\n",
    "    This table contains information about the activity performed by each user in a period of time.\n",
    "    A person with username performed an activity from startDate to endDate.\n",
    "\n",
    "\n",
    "\n",
    "    Write an SQL query to show the second most recent activity of each user.\n",
    "\n",
    "    If the user only has one activity, return that one. A user cannot perform more than one activity at the same time.\n",
    "\n",
    "    Return the result table in any order.\n",
    "\n",
    "    The query result format is in the following example.\n",
    "\n",
    "\n",
    "\n",
    "    Example 1:\n",
    "\n",
    "    Input: \n",
    "    UserActivity table:\n",
    "    +------------+--------------+-------------+-------------+\n",
    "    | username   | activity     | startDate   | endDate     |\n",
    "    +------------+--------------+-------------+-------------+\n",
    "    | Alice      | Travel       | 2020-02-12  | 2020-02-20  |\n",
    "    | Alice      | Dancing      | 2020-02-21  | 2020-02-23  |\n",
    "    | Alice      | Travel       | 2020-02-24  | 2020-02-28  |\n",
    "    | Bob        | Travel       | 2020-02-11  | 2020-02-18  |\n",
    "    +------------+--------------+-------------+-------------+\n",
    "    Output: \n",
    "    +------------+--------------+-------------+-------------+\n",
    "    | username   | activity     | startDate   | endDate     |\n",
    "    +------------+--------------+-------------+-------------+\n",
    "    | Alice      | Dancing      | 2020-02-21  | 2020-02-23  |\n",
    "    | Bob        | Travel       | 2020-02-11  | 2020-02-18  |\n",
    "    +------------+--------------+-------------+-------------+\n",
    "    Explanation: \n",
    "    The most recent activity of Alice is Travel from 2020-02-24 to 2020-02-28, before that she was dancing from 2020-02-21 to 2020-02-23.\n",
    "    Bob only has one record, we just take that one."
   ]
  },
  {
   "cell_type": "markdown",
   "metadata": {},
   "source": [
    "# Two Ranks"
   ]
  },
  {
   "cell_type": "code",
   "execution_count": null,
   "metadata": {},
   "outputs": [],
   "source": [
    "select username, activity, startDate, endDate\n",
    "from\n",
    "(select *,\n",
    " rank() over(partition by username order by startDate desc) as activity_order,\n",
    " rank() over(partition by username order by startDate asc) as activity_order_rev\n",
    " from UserActivity) tab\n",
    " where activity_order = 2 or (activity_order = 1 and activity_order = activity_order_rev)"
   ]
  },
  {
   "cell_type": "markdown",
   "metadata": {},
   "source": [
    "# Ranka and Count"
   ]
  },
  {
   "cell_type": "code",
   "execution_count": null,
   "metadata": {},
   "outputs": [],
   "source": [
    "select username, activity, startDate, endDate\n",
    "from (\n",
    "select *, count(activity) over(partition by username) as cnt, \n",
    "ROW_NUMBER() over(partition by username order by startdate desc) as activity_order \n",
    "from UserActivity) tbl\n",
    "where activity_order=2 or cnt<2"
   ]
  }
 ],
 "metadata": {
  "kernelspec": {
   "display_name": "Python 3",
   "language": "python",
   "name": "python3"
  },
  "language_info": {
   "codemirror_mode": {
    "name": "ipython",
    "version": 3
   },
   "file_extension": ".py",
   "mimetype": "text/x-python",
   "name": "python",
   "nbconvert_exporter": "python",
   "pygments_lexer": "ipython3",
   "version": "3.7.3"
  }
 },
 "nbformat": 4,
 "nbformat_minor": 2
}
