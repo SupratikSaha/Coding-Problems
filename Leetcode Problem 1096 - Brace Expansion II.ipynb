{
 "cells": [
  {
   "cell_type": "markdown",
   "metadata": {},
   "source": [
    "Problem Statement.\n",
    "\n",
    "Under the grammar given below, strings can represent a set of lowercase words. Let's use R(expr) to denote the set of words the expression represents.\n",
    "\n",
    "Grammar can best be understood through simple examples:\n",
    "\n",
    "    Single letters represent a singleton set containing that word.\n",
    "        R(\"a\") = {\"a\"}\n",
    "        R(\"w\") = {\"w\"}\n",
    "    When we take a comma-delimited list of two or more expressions, we take the union of possibilities.\n",
    "        R(\"{a,b,c}\") = {\"a\",\"b\",\"c\"}\n",
    "        R(\"{{a,b},{b,c}}\") = {\"a\",\"b\",\"c\"} (notice the final set only contains each word at most once)\n",
    "    When we concatenate two expressions, we take the set of possible concatenations between two words where the first word comes from the first expression and the second word comes from the second expression.\n",
    "        R(\"{a,b}{c,d}\") = {\"ac\",\"ad\",\"bc\",\"bd\"}\n",
    "        R(\"a{b,c}{d,e}f{g,h}\") = {\"abdfg\", \"abdfh\", \"abefg\", \"abefh\", \"acdfg\", \"acdfh\", \"acefg\", \"acefh\"}\n",
    "\n",
    "Formally, the three rules for our grammar:\n",
    "\n",
    "    For every lowercase letter x, we have R(x) = {x}.\n",
    "    For expressions e1, e2, ... , ek with k >= 2, we have R({e1, e2, ...}) = R(e1) ∪ R(e2) ∪ ...\n",
    "    For expressions e1 and e2, we have R(e1 + e2) = {a + b for (a, b) in R(e1) × R(e2)}, where + denotes concatenation, and × denotes the cartesian product.\n",
    "\n",
    "Given an expression representing a set of words under the given grammar, return the sorted list of words that the expression represents.\n",
    "\n",
    " \n",
    "\n",
    "Example 1:\n",
    "\n",
    "Input: expression = \"{a,b}{c,{d,e}}\"\n",
    "Output: [\"ac\",\"ad\",\"ae\",\"bc\",\"bd\",\"be\"]\n",
    "\n",
    "Example 2:\n",
    "\n",
    "Input: expression = \"{{a,z},a{b,c},{ab,z}}\"\n",
    "Output: [\"a\",\"ab\",\"ac\",\"z\"]\n",
    "Explanation: Each distinct word is written only once in the final answer.\n",
    "\n",
    " \n",
    "\n",
    "Constraints:\n",
    "\n",
    "    1 <= expression.length <= 60\n",
    "    expression[i] consists of '{', '}', ','or lowercase English letters.\n",
    "    The given expression represents a set of words based on the grammar given in the description."
   ]
  },
  {
   "cell_type": "markdown",
   "metadata": {},
   "source": [
    "# Stack - O(N!) runtime, O(N!) space"
   ]
  },
  {
   "cell_type": "code",
   "execution_count": 1,
   "metadata": {},
   "outputs": [],
   "source": [
    "from typing import List\n",
    "\n",
    "class Solution:\n",
    "    def braceExpansionII(self, expression: str) -> List[str]:\n",
    "        stack, res, cur = [], [], []\n",
    "        \n",
    "        for i, v in enumerate(expression):\n",
    "            if v.isalpha():\n",
    "                cur=[c+v for c in cur or ['']]\n",
    "            elif v=='{':\n",
    "                stack.append(res)\n",
    "                stack.append(cur)\n",
    "                res,cur=[],[]\n",
    "            elif v=='}':\n",
    "                pre=stack.pop()\n",
    "                preRes=stack.pop()\n",
    "                cur=[p+c for c in res+cur for p in pre or ['']]\n",
    "                res=preRes\n",
    "            elif v==',':\n",
    "                res+=cur\n",
    "                cur=[]\n",
    "                \n",
    "        return sorted(set(res+cur))"
   ]
  },
  {
   "cell_type": "code",
   "execution_count": 2,
   "metadata": {},
   "outputs": [
    {
     "data": {
      "text/plain": [
       "['a', 'ab', 'ac', 'z']"
      ]
     },
     "execution_count": 2,
     "metadata": {},
     "output_type": "execute_result"
    }
   ],
   "source": [
    "instance = Solution()\n",
    "instance.braceExpansionII(\"{{a,z},a{b,c},{ab,z}}\")"
   ]
  }
 ],
 "metadata": {
  "kernelspec": {
   "display_name": "Python 3",
   "language": "python",
   "name": "python3"
  },
  "language_info": {
   "codemirror_mode": {
    "name": "ipython",
    "version": 3
   },
   "file_extension": ".py",
   "mimetype": "text/x-python",
   "name": "python",
   "nbconvert_exporter": "python",
   "pygments_lexer": "ipython3",
   "version": "3.7.3"
  }
 },
 "nbformat": 4,
 "nbformat_minor": 2
}
