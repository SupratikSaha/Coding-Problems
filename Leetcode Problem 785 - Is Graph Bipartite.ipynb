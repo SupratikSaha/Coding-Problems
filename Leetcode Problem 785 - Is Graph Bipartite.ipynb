{
 "cells": [
  {
   "cell_type": "markdown",
   "metadata": {},
   "source": [
    "Problem Statement.\n",
    "\n",
    "There is an undirected graph with n nodes, where each node is numbered between 0 and n - 1. You are given a 2D array graph, where graph[u] is an array of nodes that node u is adjacent to. More formally, for each v in graph[u], there is an undirected edge between node u and node v. The graph has the following properties:\n",
    "\n",
    "    There are no self-edges (graph[u] does not contain u).\n",
    "    There are no parallel edges (graph[u] does not contain duplicate values).\n",
    "    If v is in graph[u], then u is in graph[v] (the graph is undirected).\n",
    "    The graph may not be connected, meaning there may be two nodes u and v such that there is no path between them.\n",
    "\n",
    "A graph is bipartite if the nodes can be partitioned into two independent sets A and B such that every edge in the graph connects a node in set A and a node in set B.\n",
    "\n",
    "Return true if and only if it is bipartite.\n",
    "\n",
    " \n",
    "\n",
    "Example 1:\n",
    "\n",
    "Input: graph = [[1,2,3],[0,2],[0,1,3],[0,2]]\n",
    "Output: false\n",
    "Explanation: There is no way to partition the nodes into two independent sets such that every edge connects a node in one and a node in the other.\n",
    "\n",
    "Example 2:\n",
    "\n",
    "Input: graph = [[1,3],[0,2],[1,3],[0,2]]\n",
    "Output: true\n",
    "Explanation: We can partition the nodes into two sets: {0, 2} and {1, 3}.\n",
    "\n",
    " \n",
    "\n",
    "Constraints:\n",
    "\n",
    "    graph.length == n\n",
    "    1 <= n <= 100\n",
    "    0 <= graph[u].length < n\n",
    "    0 <= graph[u][i] <= n - 1\n",
    "    graph[u] does not contain u.\n",
    "    All the values of graph[u] are unique.\n",
    "    If graph[u] contains v, then graph[v] contains u."
   ]
  },
  {
   "cell_type": "markdown",
   "metadata": {},
   "source": [
    "# DFS - O(V + E) rutime, O(V) space"
   ]
  },
  {
   "cell_type": "code",
   "execution_count": 1,
   "metadata": {},
   "outputs": [],
   "source": [
    "from typing import List\n",
    "\n",
    "class Solution:\n",
    "    def isBipartite(self, graph: List[List[int]]) -> bool:\n",
    "        color = {}\n",
    "        \n",
    "        for node in range(len(graph)):\n",
    "            if node not in color:\n",
    "                stack = [node]\n",
    "                color[node] = 0\n",
    "                \n",
    "                while stack:\n",
    "                    node = stack.pop()\n",
    "                    \n",
    "                    for nei in graph[node]:\n",
    "                        if nei not in color:\n",
    "                            stack.append(nei)\n",
    "                            color[nei] = color[node] ^ 1\n",
    "                        elif color[nei] == color[node]:\n",
    "                            return False\n",
    "                        \n",
    "        return True"
   ]
  },
  {
   "cell_type": "code",
   "execution_count": 3,
   "metadata": {},
   "outputs": [
    {
     "data": {
      "text/plain": [
       "True"
      ]
     },
     "execution_count": 3,
     "metadata": {},
     "output_type": "execute_result"
    }
   ],
   "source": [
    "instance = Solution()\n",
    "instance.isBipartite([[1,3],[0,2],[1,3],[0,2]])"
   ]
  }
 ],
 "metadata": {
  "kernelspec": {
   "display_name": "Python 3",
   "language": "python",
   "name": "python3"
  },
  "language_info": {
   "codemirror_mode": {
    "name": "ipython",
    "version": 3
   },
   "file_extension": ".py",
   "mimetype": "text/x-python",
   "name": "python",
   "nbconvert_exporter": "python",
   "pygments_lexer": "ipython3",
   "version": "3.7.3"
  }
 },
 "nbformat": 4,
 "nbformat_minor": 2
}
