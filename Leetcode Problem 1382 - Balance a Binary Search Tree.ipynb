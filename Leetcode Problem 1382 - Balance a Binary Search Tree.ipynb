{
 "cells": [
  {
   "cell_type": "markdown",
   "metadata": {},
   "source": [
    "Problem Statement.\n",
    "\n",
    "Given a binary search tree, return a balanced binary search tree with the same node values.\n",
    "\n",
    "A binary search tree is balanced if and only if the depth of the two subtrees of every node never differ by more than 1.\n",
    "\n",
    "If there is more than one answer, return any of them.\n",
    "\n",
    " \n",
    "\n",
    "Example 1:\n",
    "\n",
    "Input: root = [1,null,2,null,3,null,4,null,null]\n",
    "Output: [2,1,3,null,null,null,4]\n",
    "Explanation: This is not the only correct answer, [3,1,4,null,2,null,null] is also correct.\n",
    "\n",
    " \n",
    "\n",
    "Constraints:\n",
    "\n",
    "    The number of nodes in the tree is between 1 and 10^4.\n",
    "    The tree nodes will have distinct values between 1 and 10^5."
   ]
  },
  {
   "cell_type": "markdown",
   "metadata": {},
   "source": [
    "# BFS + Sort + Divide and Conquer - O(N LogN) runtime, O(N) space"
   ]
  },
  {
   "cell_type": "code",
   "execution_count": 3,
   "metadata": {},
   "outputs": [],
   "source": [
    "from collections import deque\n",
    "\n",
    "# Definition for a binary tree node.\n",
    "# class TreeNode:\n",
    "#     def __init__(self, val=0, left=None, right=None):\n",
    "#         self.val = val\n",
    "#         self.left = left\n",
    "#         self.right = right\n",
    "\n",
    "class Solution:\n",
    "    def balanceBST(self, root: TreeNode) -> TreeNode:\n",
    "        nodeVals = []\n",
    "        \n",
    "        queue = deque([root])\n",
    "        while queue:\n",
    "            node = queue.popleft()\n",
    "            nodeVals.append(node.val)\n",
    "            \n",
    "            for child in [node.left, node.right]:\n",
    "                if child: queue.append(child)\n",
    "                    \n",
    "        nodeVals.sort()\n",
    "        \n",
    "        def createTree(start: int, end: int) -> TreeNode:\n",
    "            if end < start or start > end: return None\n",
    "            n = end - start + 1\n",
    "            if n == 1:\n",
    "                node = TreeNode(nodeVals[start])\n",
    "                return node\n",
    "            \n",
    "            pivot = start + (end - start) // 2\n",
    "            node = TreeNode(nodeVals[pivot])\n",
    "            \n",
    "            node.left = createTree(start, pivot-1)\n",
    "            node.right = createTree(pivot+1, end)\n",
    "            \n",
    "            return node\n",
    "        \n",
    "        root = createTree(0, len(nodeVals) - 1)\n",
    "        \n",
    "        return root"
   ]
  },
  {
   "cell_type": "markdown",
   "metadata": {},
   "source": [
    "# Inorder Traversal and Balance - O(N) runtime, O(N) space"
   ]
  },
  {
   "cell_type": "code",
   "execution_count": 4,
   "metadata": {},
   "outputs": [],
   "source": [
    "# Definition for a binary tree node.\n",
    "# class TreeNode:\n",
    "#     def __init__(self, val=0, left=None, right=None):\n",
    "#         self.val = val\n",
    "#         self.left = left\n",
    "#         self.right = right\n",
    "\n",
    "class Solution:\n",
    "    def balanceBST(self, root: TreeNode) -> TreeNode:\n",
    "        self.tree = []\n",
    "        self.inorderTraversal(root)\n",
    "\n",
    "        \n",
    "        return self.balance(0, len(self.tree) - 1)\n",
    "        \n",
    "        \n",
    "    def inorderTraversal(self, root):\n",
    "        if root == None:\n",
    "            return \n",
    "        \n",
    "        self.inorderTraversal(root.left)\n",
    "        self.tree.append(root)\n",
    "        self.inorderTraversal(root.right)\n",
    "        # This is needed and is not seen in C++ or Java version, because when push into list\n",
    "        # Python performs a copy by reference. hence we need to break the linkage\n",
    "        root.left = root.right = None\n",
    "\n",
    "        \n",
    "    def balance(self, start, end):\n",
    "        if start > end:\n",
    "            return None\n",
    "        \n",
    "        if start == end:\n",
    "            #print(start, end)\n",
    "            return self.tree[start]\n",
    "\n",
    "        mid = (start + end )//2\n",
    "        curr = self.tree[mid]\n",
    "        curr.left = self.balance(start, mid - 1)\n",
    "        curr.right = self.balance(mid + 1, end)\n",
    "\n",
    "        return curr"
   ]
  }
 ],
 "metadata": {
  "kernelspec": {
   "display_name": "Python 3",
   "language": "python",
   "name": "python3"
  },
  "language_info": {
   "codemirror_mode": {
    "name": "ipython",
    "version": 3
   },
   "file_extension": ".py",
   "mimetype": "text/x-python",
   "name": "python",
   "nbconvert_exporter": "python",
   "pygments_lexer": "ipython3",
   "version": "3.7.3"
  }
 },
 "nbformat": 4,
 "nbformat_minor": 2
}
