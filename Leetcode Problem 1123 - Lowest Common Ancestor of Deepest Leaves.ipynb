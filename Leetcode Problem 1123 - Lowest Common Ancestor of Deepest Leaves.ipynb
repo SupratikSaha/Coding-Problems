{
 "cells": [
  {
   "cell_type": "markdown",
   "metadata": {},
   "source": [
    "Problem Statement.\n",
    "\n",
    "Given the root of a binary tree, return the lowest common ancestor of its deepest leaves.\n",
    "\n",
    "Recall that:\n",
    "\n",
    "    The node of a binary tree is a leaf if and only if it has no children\n",
    "    The depth of the root of the tree is 0. if the depth of a node is d, the depth of each of its children is d + 1.\n",
    "    The lowest common ancestor of a set S of nodes, is the node A with the largest depth such that every node in S is in the subtree with root A.\n",
    "\n",
    " \n",
    "\n",
    "Example 1:\n",
    "\n",
    "Input: root = [3,5,1,6,2,0,8,null,null,7,4]\n",
    "Output: [2,7,4]\n",
    "Explanation: We return the node with value 2, colored in yellow in the diagram.\n",
    "The nodes coloured in blue are the deepest leaf-nodes of the tree.\n",
    "Note that nodes 6, 0, and 8 are also leaf nodes, but the depth of them is 2, but the depth of nodes 7 and 4 is 3.\n",
    "\n",
    "Example 2:\n",
    "\n",
    "Input: root = [1]\n",
    "Output: [1]\n",
    "Explanation: The root is the deepest node in the tree, and it's the lca of itself.\n",
    "\n",
    "Example 3:\n",
    "\n",
    "Input: root = [0,1,3,null,2]\n",
    "Output: [2]\n",
    "Explanation: The deepest leaf node in the tree is 2, the lca of one node is itself.\n",
    "\n",
    " \n",
    "\n",
    "Constraints:\n",
    "\n",
    "    The number of nodes in the tree will be in the range [1, 1000].\n",
    "    0 <= Node.val <= 1000\n",
    "    The values of the nodes in the tree are unique.\n",
    "\n",
    " \n",
    "\n",
    "Note: This question is the same as 865: https://leetcode.com/problems/smallest-subtree-with-all-the-deepest-nodes/"
   ]
  },
  {
   "cell_type": "markdown",
   "metadata": {},
   "source": [
    "# DFS - O(N) runtime, O(N) space"
   ]
  },
  {
   "cell_type": "code",
   "execution_count": 1,
   "metadata": {},
   "outputs": [],
   "source": [
    "from typing import Optional\n",
    "# Definition for a binary tree node.\n",
    "# class TreeNode:\n",
    "#     def __init__(self, val=0, left=None, right=None):\n",
    "#         self.val = val\n",
    "#         self.left = left\n",
    "#         self.right = right\n",
    "\n",
    "class Solution:\n",
    "    def lcaDeepestLeaves(self, root: Optional[TreeNode]) -> Optional[TreeNode]:\n",
    "        if not root: return None\n",
    "        \n",
    "        def dfs(node):\n",
    "            if not node: return None, 0\n",
    "            \n",
    "            lNode, lLevel = dfs(node.left)\n",
    "            rNode, rLevel = dfs(node.right)\n",
    "            \n",
    "            if lLevel > rLevel: return lNode, lLevel+1\n",
    "            elif lLevel < rLevel: return rNode, rLevel+1\n",
    "            \n",
    "            return node, lLevel+1\n",
    "            \n",
    "        \n",
    "        return dfs(root)[0]"
   ]
  }
 ],
 "metadata": {
  "kernelspec": {
   "display_name": "Python 3",
   "language": "python",
   "name": "python3"
  },
  "language_info": {
   "codemirror_mode": {
    "name": "ipython",
    "version": 3
   },
   "file_extension": ".py",
   "mimetype": "text/x-python",
   "name": "python",
   "nbconvert_exporter": "python",
   "pygments_lexer": "ipython3",
   "version": "3.7.3"
  }
 },
 "nbformat": 4,
 "nbformat_minor": 2
}
