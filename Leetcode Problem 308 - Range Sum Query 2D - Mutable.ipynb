{
 "cells": [
  {
   "cell_type": "markdown",
   "metadata": {},
   "source": [
    "Problem Statement. <br/>\n",
    "\n",
    "Given a 2D matrix matrix, find the sum of the elements inside the rectangle defined by its upper left corner (row1, col1) and lower right corner (row2, col2). <br/>\n",
    "Range Sum Query 2D <br/>\n",
    "The above rectangle (with the red border) is defined by (row1, col1) = (2, 1) and (row2, col2) = (4, 3), which contains sum = 8. <br/>\n",
    "\n",
    "Example: <br/>\n",
    "Given matrix = [ <br/>\n",
    "  [3, 0, 1, 4, 2], <br/>\n",
    "  [5, 6, 3, 2, 1], <br/>\n",
    "  [1, 2, 0, 1, 5], <br/>\n",
    "  [4, 1, 0, 1, 7], <br/>\n",
    "  [1, 0, 3, 0, 5] <br/>\n",
    "] <br/>\n",
    "\n",
    "sumRegion(2, 1, 4, 3) -> 8v\n",
    "update(3, 2, 2) <br/>\n",
    "sumRegion(2, 1, 4, 3) -> 10"
   ]
  },
  {
   "cell_type": "markdown",
   "metadata": {},
   "source": [
    "# Brute Force - constructor and update O(1), sumRegion - O(M * N) runtime, contructor - O(M * N), update and sumRegion O(1) space"
   ]
  },
  {
   "cell_type": "code",
   "execution_count": 1,
   "metadata": {},
   "outputs": [],
   "source": [
    "from typing import List\n",
    "\n",
    "class NumMatrix:\n",
    "\n",
    "    def __init__(self, matrix: List[List[int]]):\n",
    "        self.matrix = matrix\n",
    "        \n",
    "    def update(self, row: int, col: int, val: int) -> None:\n",
    "        self.matrix[row][col] = val\n",
    "\n",
    "    def sumRegion(self, row1: int, col1: int, row2: int, col2: int) -> int:\n",
    "\n",
    "        result = 0\n",
    "        for i in range(row1, row2 + 1):\n",
    "            for j in range(col1, col2 + 1):\n",
    "                result += self.matrix[i][j]\n",
    "\n",
    "        return result"
   ]
  },
  {
   "cell_type": "markdown",
   "metadata": {},
   "source": [
    "# Row Sum - constructor O(M * N), update O(N), sumRegion - O(M) runtime, contructor - O(M * N), update and sumRegion O(1) space"
   ]
  },
  {
   "cell_type": "code",
   "execution_count": 4,
   "metadata": {},
   "outputs": [],
   "source": [
    "from typing import List\n",
    "\n",
    "class NumMatrix:\n",
    "\n",
    "    def __init__(self, matrix: List[List[int]]):\n",
    "        for row in matrix:\n",
    "            for col in range(1, len(row)):\n",
    "                row[col] += row[col-1]\n",
    "        self.matrix = matrix\n",
    "        \n",
    "    def update(self, row: int, col: int, val: int) -> None:\n",
    "        original = self.matrix[row][col]\n",
    "        if col != 0:\n",
    "            original -= self.matrix[row][col-1]\n",
    "            \n",
    "        diff = original - val\n",
    "        \n",
    "        for c in range(col, len(self.matrix[0])):\n",
    "            self.matrix[row][c] -= diff\n",
    "\n",
    "    def sumRegion(self, row1: int, col1: int, row2: int, col2: int) -> int:\n",
    "\n",
    "        sum = 0\n",
    "        for r in range(row1, row2+1):\n",
    "            sum += self.matrix[r][col2]\n",
    "            if col1 != 0:\n",
    "                sum -= self.matrix[r][col1-1]\n",
    "        return sum"
   ]
  },
  {
   "cell_type": "markdown",
   "metadata": {},
   "source": [
    "# Binary Indexed Tree - constructor O(M * N * logM * logN), update and sumRegion - O(logM * logN) runtime, contructor - O(M * N), update and sumRegion O(1) space"
   ]
  },
  {
   "cell_type": "code",
   "execution_count": 6,
   "metadata": {},
   "outputs": [],
   "source": [
    "from typing import List\n",
    "\n",
    "class NumMatrix:\n",
    "\n",
    "    def __init__(self, matrix: List[List[int]]):\n",
    "        if not matrix:\n",
    "            return\n",
    "        self.m, self.n = len(matrix), len(matrix[0])\n",
    "        self.matrix, self.bit = [[0]*(self.n) for _ in range(self.m)], [[0]*(self.n+1) for _ in range(self.m+1)]\n",
    "        for i in range(self.m):\n",
    "            for j in range(self.n):\n",
    "                self.update(i, j, matrix[i][j])\n",
    "        \n",
    "    def update(self, row: int, col: int, val: int) -> None:\n",
    "        diff, self.matrix[row][col], i = val-self.matrix[row][col], val, row+1\n",
    "        while i <= self.m:\n",
    "            j = col+1\n",
    "            while j <= self.n:\n",
    "                self.bit[i][j] += diff\n",
    "                j += (j & -j)\n",
    "            i += (i & -i)\n",
    "\n",
    "    def sumRegion(self, row1: int, col1: int, row2: int, col2: int) -> int:\n",
    "        return self.sumCorner(row2, col2) + self.sumCorner(row1-1, col1-1) - self.sumCorner(row1-1, col2) - self.sumCorner(row2, col1-1)\n",
    "    \n",
    "    def sumCorner(self, row, col):\n",
    "        res, i = 0, row+1\n",
    "        while i:\n",
    "            j = col+1\n",
    "            while j:\n",
    "                res += self.bit[i][j]\n",
    "                j -= (j & -j)\n",
    "            i -= (i & -i)\n",
    "        return res"
   ]
  },
  {
   "cell_type": "code",
   "execution_count": 7,
   "metadata": {},
   "outputs": [
    {
     "name": "stdout",
     "output_type": "stream",
     "text": [
      "8\n",
      "10\n"
     ]
    }
   ],
   "source": [
    "obj = NumMatrix([[3, 0, 1, 4, 2],[5, 6, 3, 2, 1],[1, 2, 0, 1, 5],[4, 1, 0, 1, 7],[1, 0, 3, 0, 5]])\n",
    "param_1 = obj.sumRegion(2, 1, 4, 3)\n",
    "print(param_1)\n",
    "obj.update(3, 2, 2)\n",
    "param_2 = obj.sumRegion(2, 1, 4, 3)\n",
    "print(param_2)"
   ]
  }
 ],
 "metadata": {
  "kernelspec": {
   "display_name": "Python 3",
   "language": "python",
   "name": "python3"
  },
  "language_info": {
   "codemirror_mode": {
    "name": "ipython",
    "version": 3
   },
   "file_extension": ".py",
   "mimetype": "text/x-python",
   "name": "python",
   "nbconvert_exporter": "python",
   "pygments_lexer": "ipython3",
   "version": "3.7.3"
  }
 },
 "nbformat": 4,
 "nbformat_minor": 2
}
