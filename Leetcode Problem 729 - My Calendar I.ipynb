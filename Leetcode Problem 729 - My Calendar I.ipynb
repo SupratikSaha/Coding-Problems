{
 "cells": [
  {
   "cell_type": "markdown",
   "metadata": {},
   "source": [
    "Problem Statement. <br/>\n",
    "\n",
    "Implement a MyCalendar class to store your events. A new event can be added if adding the event will not cause a double booking. <br/>\n",
    "Your class will have the method, book(int start, int end). Formally, this represents a booking on the half open interval [start, end), the range of real numbers x such that start <= x < end. <br/>\n",
    "A double booking happens when two events have some non-empty intersection (ie., there is some time that is common to both events.) <br/>\n",
    "For each call to the method MyCalendar.book, return true if the event can be added to the calendar successfully without causing a double booking. Otherwise, return false and do not add the event to the calendar. <br/>\n",
    "Your class will be called like this: MyCalendar cal = new MyCalendar(); MyCalendar.book(start, end) <br/>\n",
    "\n",
    "Example 1: <br/>\n",
    "MyCalendar(); <br/>\n",
    "MyCalendar.book(10, 20); // returns true <br/>\n",
    "MyCalendar.book(15, 25); // returns false <br/>\n",
    "MyCalendar.book(20, 30); // returns true <br/>\n",
    "Explanation:  <br/>\n",
    "The first event can be booked.  The second can't because time 15 is already booked by another event. <br/>\n",
    "The third event can be booked, as the first event takes every time less than 20, but not including 20."
   ]
  },
  {
   "cell_type": "markdown",
   "metadata": {},
   "source": [
    "# List Slice - O(N^2) runtime, O(N) space"
   ]
  },
  {
   "cell_type": "code",
   "execution_count": 1,
   "metadata": {},
   "outputs": [],
   "source": [
    "class MyCalendar:\n",
    "\n",
    "    def __init__(self):\n",
    "        self.intervals = []\n",
    "        \n",
    "\n",
    "    def book(self, start: int, end: int) -> bool:\n",
    "        if start > end or start < 0:\n",
    "            return False\n",
    "        \n",
    "        n = len(self.intervals)\n",
    "        \n",
    "        for i, interval in enumerate(self.intervals):\n",
    "            if (interval[0] >= start and interval[0] < end) or (start >= interval[0] and start < interval[1]):\n",
    "                return False\n",
    "                \n",
    "            elif end <= interval[0]:\n",
    "                self.intervals.insert(i, (start, end))\n",
    "                return True\n",
    "                \n",
    "            \n",
    "        if n == 0 or i == n-1:\n",
    "            self.intervals.append((start, end))\n",
    "            return True"
   ]
  },
  {
   "cell_type": "markdown",
   "metadata": {},
   "source": [
    "# Brute Force - O(N) runtime, O(N) space"
   ]
  },
  {
   "cell_type": "code",
   "execution_count": 2,
   "metadata": {},
   "outputs": [],
   "source": [
    "class MyCalendar:\n",
    "\n",
    "    def __init__(self):\n",
    "        self.calendar = []\n",
    "        \n",
    "\n",
    "    def book(self, start, end):\n",
    "        for s, e in self.calendar:\n",
    "            if start < e and end > s:\n",
    "                return False\n",
    "        self.calendar.append((start, end))\n",
    "        return True"
   ]
  },
  {
   "cell_type": "markdown",
   "metadata": {},
   "source": [
    "# Binary Tree - O(N log N) avregae O(N ^ 2) worst runtime, O(N) space"
   ]
  },
  {
   "cell_type": "code",
   "execution_count": 3,
   "metadata": {},
   "outputs": [],
   "source": [
    "class Node:\n",
    "    __slots__ = 'start', 'end', 'left', 'right'\n",
    "    def __init__(self, start, end):\n",
    "        self.start = start\n",
    "        self.end = end\n",
    "        self.left = self.right = None\n",
    "\n",
    "    def insert(self, node):\n",
    "        if node.start >= self.end:\n",
    "            if not self.right:\n",
    "                self.right = node\n",
    "                return True\n",
    "            return self.right.insert(node)\n",
    "        elif node.end <= self.start:\n",
    "            if not self.left:\n",
    "                self.left = node\n",
    "                return True\n",
    "            return self.left.insert(node)\n",
    "        else:\n",
    "            return False\n",
    "\n",
    "class MyCalendar(object):\n",
    "    def __init__(self):\n",
    "        self.root = None\n",
    "\n",
    "    def book(self, start, end):\n",
    "        if self.root is None:\n",
    "            self.root = Node(start, end)\n",
    "            return True\n",
    "        return self.root.insert(Node(start, end))"
   ]
  },
  {
   "cell_type": "code",
   "execution_count": 4,
   "metadata": {},
   "outputs": [
    {
     "name": "stdout",
     "output_type": "stream",
     "text": [
      "True\n",
      "False\n",
      "True\n"
     ]
    }
   ],
   "source": [
    "obj = MyCalendar()\n",
    "print(obj.book(10,20))\n",
    "print(obj.book(15,25))\n",
    "print(obj.book(20,30))"
   ]
  }
 ],
 "metadata": {
  "kernelspec": {
   "display_name": "Python 3",
   "language": "python",
   "name": "python3"
  },
  "language_info": {
   "codemirror_mode": {
    "name": "ipython",
    "version": 3
   },
   "file_extension": ".py",
   "mimetype": "text/x-python",
   "name": "python",
   "nbconvert_exporter": "python",
   "pygments_lexer": "ipython3",
   "version": "3.7.3"
  }
 },
 "nbformat": 4,
 "nbformat_minor": 2
}
