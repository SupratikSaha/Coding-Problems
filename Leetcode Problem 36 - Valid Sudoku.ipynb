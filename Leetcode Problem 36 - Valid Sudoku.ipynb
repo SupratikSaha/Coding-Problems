{
 "cells": [
  {
   "cell_type": "markdown",
   "metadata": {},
   "source": [
    "Problem Statement. <br/>\n",
    "\n",
    "Determine if a 9 x 9 Sudoku board is valid. Only the filled cells need to be validated according to the following rules: <br/>\n",
    "\n",
    "    Each row must contain the digits 1-9 without repetition. <br/>\n",
    "    Each column must contain the digits 1-9 without repetition. <br/>\n",
    "    Each of the nine 3 x 3 sub-boxes of the grid must contain the digits 1-9 without repetition. <br/>\n",
    "\n",
    "Note: <br/>\n",
    "    A Sudoku board (partially filled) could be valid but is not necessarily solvable. <br/>\n",
    "    Only the filled cells need to be validated according to the mentioned rules. <br/>\n",
    "\n",
    "Example 1: <br/>\n",
    "Input: board =  <br/>\n",
    "[[\"5\",\"3\",\".\",\".\",\"7\",\".\",\".\",\".\",\".\"] <br/>\n",
    ",[\"6\",\".\",\".\",\"1\",\"9\",\"5\",\".\",\".\",\".\"] <br/>\n",
    ",[\".\",\"9\",\"8\",\".\",\".\",\".\",\".\",\"6\",\".\"] <br/>\n",
    ",[\"8\",\".\",\".\",\".\",\"6\",\".\",\".\",\".\",\"3\"] <br/>\n",
    ",[\"4\",\".\",\".\",\"8\",\".\",\"3\",\".\",\".\",\"1\"] <br/>\n",
    ",[\"7\",\".\",\".\",\".\",\"2\",\".\",\".\",\".\",\"6\"] <br/>\n",
    ",[\".\",\"6\",\".\",\".\",\".\",\".\",\"2\",\"8\",\".\"] <br/>\n",
    ",[\".\",\".\",\".\",\"4\",\"1\",\"9\",\".\",\".\",\"5\"] <br/>\n",
    ",[\".\",\".\",\".\",\".\",\"8\",\".\",\".\",\"7\",\"9\"]] <br/>\n",
    "Output: true <br/>\n",
    "\n",
    "Example 2: <br/>\n",
    "Input: board =  <br/>\n",
    "[[\"8\",\"3\",\".\",\".\",\"7\",\".\",\".\",\".\",\".\"] <br/>\n",
    ",[\"6\",\".\",\".\",\"1\",\"9\",\"5\",\".\",\".\",\".\"] <br/>\n",
    ",[\".\",\"9\",\"8\",\".\",\".\",\".\",\".\",\"6\",\".\"] <br/>\n",
    ",[\"8\",\".\",\".\",\".\",\"6\",\".\",\".\",\".\",\"3\"] <br/>\n",
    ",[\"4\",\".\",\".\",\"8\",\".\",\"3\",\".\",\".\",\"1\"] <br/>\n",
    ",[\"7\",\".\",\".\",\".\",\"2\",\".\",\".\",\".\",\"6\"] <br/>\n",
    ",[\".\",\"6\",\".\",\".\",\".\",\".\",\"2\",\"8\",\".\"] <br/>\n",
    ",[\".\",\".\",\".\",\"4\",\"1\",\"9\",\".\",\".\",\"5\"] <br/>\n",
    ",[\".\",\".\",\".\",\".\",\"8\",\".\",\".\",\"7\",\"9\"]] <br/>\n",
    "Output: false <br/>\n",
    "Explanation: Same as Example 1, except with the 5 in the top left corner being modified to 8. Since there are two 8's in the top left 3x3 sub-box, it is invalid."
   ]
  },
  {
   "cell_type": "markdown",
   "metadata": {},
   "source": [
    "# Brute Force - Multiple Loops, No Space Usage - O(1) runtime, O(1) space"
   ]
  },
  {
   "cell_type": "code",
   "execution_count": 1,
   "metadata": {},
   "outputs": [],
   "source": [
    "from typing import List\n",
    "\n",
    "class Solution:\n",
    "    def isValidSudoku(self, board: List[List[str]]) -> bool:\n",
    "        \n",
    "        for row in board:\n",
    "            num_list = [None] * 10\n",
    "            for value in row:\n",
    "                if value != '.':\n",
    "                    int_val = int(value)\n",
    "                    if num_list[int_val]:\n",
    "                        return False\n",
    "                    num_list[int_val] = True\n",
    "        \n",
    "        for col in range(9):\n",
    "            num_list = [None] * 10\n",
    "            for row in range(9):\n",
    "                value = board[row][col]\n",
    "                if value != '.':\n",
    "                    int_val = int(value)\n",
    "                    if num_list[int_val]:\n",
    "                        return False\n",
    "                    num_list[int_val] = True\n",
    "              \n",
    "        for rowStart in range(0, 9, 3):\n",
    "            for colStart in range(0, 9, 3):\n",
    "                num_list = [None] * 10\n",
    "                row = rowStart\n",
    "                for r in range(row, row + 3):\n",
    "                    col = colStart\n",
    "                    for c in range(col, col + 3):\n",
    "                        if r < 9 and c < 9: \n",
    "                            value = board[r][c]\n",
    "                            if value != '.':\n",
    "                                int_val = int(value)\n",
    "                                if num_list[int_val]:\n",
    "                                    return False\n",
    "                                num_list[int_val] = True\n",
    "                        \n",
    "        return True"
   ]
  },
  {
   "cell_type": "markdown",
   "metadata": {},
   "source": [
    "# One Iteration, Hash Maps - Lot of extra space needed - O(1) runtime, O(1) space"
   ]
  },
  {
   "cell_type": "code",
   "execution_count": 3,
   "metadata": {},
   "outputs": [],
   "source": [
    "class Solution:\n",
    "    def isValidSudoku(self, board):\n",
    "        \"\"\"\n",
    "        :type board: List[List[str]]\n",
    "        :rtype: bool\n",
    "        \"\"\"\n",
    "        # init data\n",
    "        rows = [{} for i in range(9)]\n",
    "        columns = [{} for i in range(9)]\n",
    "        boxes = [{} for i in range(9)]\n",
    "\n",
    "        # validate a board\n",
    "        for i in range(9):\n",
    "            for j in range(9):\n",
    "                num = board[i][j]\n",
    "                if num != '.':\n",
    "                    num = int(num)\n",
    "                    box_index = (i // 3 ) * 3 + j // 3\n",
    "                    \n",
    "                    # keep the current cell value\n",
    "                    rows[i][num] = rows[i].get(num, 0) + 1\n",
    "                    columns[j][num] = columns[j].get(num, 0) + 1\n",
    "                    boxes[box_index][num] = boxes[box_index].get(num, 0) + 1\n",
    "                    \n",
    "                    # check if this value has been already seen before\n",
    "                    if rows[i][num] > 1 or columns[j][num] > 1 or boxes[box_index][num] > 1:\n",
    "                        return False         \n",
    "        return True"
   ]
  },
  {
   "cell_type": "markdown",
   "metadata": {},
   "source": [
    "# Bitmasking - O(N ^ 2) runtime, O(N) space"
   ]
  },
  {
   "cell_type": "code",
   "execution_count": 1,
   "metadata": {},
   "outputs": [],
   "source": [
    "from typing import List\n",
    "\n",
    "class Solution:\n",
    "    def isValidSudoku(self, board: List[List[str]]) -> bool:\n",
    "        N = 9\n",
    "        # Use binary number to check previous occurrence\n",
    "        rows = [0] * N\n",
    "        cols = [0] * N\n",
    "        boxes = [0] * N\n",
    "\n",
    "        for r in range(N):\n",
    "            for c in range(N):\n",
    "                # Check if the position is filled with number\n",
    "                if board[r][c] == \".\":\n",
    "                    continue\n",
    "\n",
    "                pos = int(board[r][c]) - 1\n",
    "\n",
    "                # Check the row\n",
    "                if rows[r] & (1 << pos):\n",
    "                    return False\n",
    "                rows[r] |= (1 << pos)\n",
    "\n",
    "                # Check the column\n",
    "                if cols[c] & (1 << pos):\n",
    "                    return False\n",
    "                cols[c] |= (1 << pos)\n",
    "\n",
    "                # Check the box\n",
    "                idx = (r // 3) * 3 + c // 3\n",
    "                if boxes[idx] & (1 << pos):\n",
    "                    return False\n",
    "                boxes[idx] |= (1 << pos)\n",
    "\n",
    "        return True"
   ]
  },
  {
   "cell_type": "code",
   "execution_count": 2,
   "metadata": {},
   "outputs": [
    {
     "data": {
      "text/plain": [
       "True"
      ]
     },
     "execution_count": 2,
     "metadata": {},
     "output_type": "execute_result"
    }
   ],
   "source": [
    "instance = Solution()\n",
    "instance.isValidSudoku([[\"5\",\"3\",\".\",\".\",\"7\",\".\",\".\",\".\",\".\"],[\"6\",\".\",\".\",\"1\",\"9\",\"5\",\".\",\".\",\".\"],[\".\",\"9\",\"8\",\".\",\".\",\".\",\".\",\"6\",\".\"],[\"8\",\".\",\".\",\".\",\"6\",\".\",\".\",\".\",\"3\"],[\"4\",\".\",\".\",\"8\",\".\",\"3\",\".\",\".\",\"1\"],[\"7\",\".\",\".\",\".\",\"2\",\".\",\".\",\".\",\"6\"],[\".\",\"6\",\".\",\".\",\".\",\".\",\"2\",\"8\",\".\"],[\".\",\".\",\".\",\"4\",\"1\",\"9\",\".\",\".\",\"5\"],[\".\",\".\",\".\",\".\",\"8\",\".\",\".\",\"7\",\"9\"]])"
   ]
  }
 ],
 "metadata": {
  "kernelspec": {
   "display_name": "Python 3",
   "language": "python",
   "name": "python3"
  },
  "language_info": {
   "codemirror_mode": {
    "name": "ipython",
    "version": 3
   },
   "file_extension": ".py",
   "mimetype": "text/x-python",
   "name": "python",
   "nbconvert_exporter": "python",
   "pygments_lexer": "ipython3",
   "version": "3.7.3"
  }
 },
 "nbformat": 4,
 "nbformat_minor": 2
}
