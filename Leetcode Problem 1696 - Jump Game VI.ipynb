{
 "cells": [
  {
   "cell_type": "markdown",
   "metadata": {},
   "source": [
    "Problem Statement.\n",
    "\n",
    "You are given a 0-indexed integer array nums and an integer k.\n",
    "\n",
    "You are initially standing at index 0. In one move, you can jump at most k steps forward without going outside the boundaries of the array. That is, you can jump from index i to any index in the range [i + 1, min(n - 1, i + k)] inclusive.\n",
    "\n",
    "You want to reach the last index of the array (index n - 1). Your score is the sum of all nums[j] for each index j you visited in the array.\n",
    "\n",
    "Return the maximum score you can get.\n",
    "\n",
    " \n",
    "\n",
    "Example 1:\n",
    "\n",
    "Input: nums = [1,-1,-2,4,-7,3], k = 2\n",
    "Output: 7\n",
    "Explanation: You can choose your jumps forming the subsequence [1,-1,4,3] (underlined above). The sum is 7.\n",
    "\n",
    "Example 2:\n",
    "\n",
    "Input: nums = [10,-5,-2,4,0,3], k = 3\n",
    "Output: 17\n",
    "Explanation: You can choose your jumps forming the subsequence [10,4,3] (underlined above). The sum is 17.\n",
    "\n",
    "Example 3:\n",
    "\n",
    "Input: nums = [1,-5,-20,4,-1,3,-6,-3], k = 2\n",
    "Output: 0\n",
    "\n",
    " \n",
    "\n",
    "Constraints:\n",
    "\n",
    "    1 <= nums.length, k <= 10^5\n",
    "    -10^4 <= nums[i] <= 10^4"
   ]
  },
  {
   "cell_type": "markdown",
   "metadata": {},
   "source": [
    "# Maxheap - O(N * Log N) runtime, O(N) space"
   ]
  },
  {
   "cell_type": "code",
   "execution_count": 1,
   "metadata": {},
   "outputs": [],
   "source": [
    "from typing import List\n",
    "from heapq import heappush, heappop\n",
    "\n",
    "class Solution:\n",
    "    def maxResult(self, nums: List[int], k: int) -> int:\n",
    "        n = len(nums)\n",
    "        score = nums[0]\n",
    "        \n",
    "        priority_queue = []\n",
    "        # since heapq is a min-heap,\n",
    "        # we use negative of the numbers to mimic a max-heap\n",
    "        heappush(priority_queue, (-nums[0], 0))\n",
    "        \n",
    "        for i in range(1, n):\n",
    "            # pop the old index\n",
    "            while priority_queue[0][1] < i-k:\n",
    "                heappop(priority_queue)\n",
    "                \n",
    "            score = nums[i]-priority_queue[0][0]\n",
    "            heappush(priority_queue, (-score, i))\n",
    "            \n",
    "        return score"
   ]
  },
  {
   "cell_type": "markdown",
   "metadata": {},
   "source": [
    "# Deque - O(N) runtime, O(K) space"
   ]
  },
  {
   "cell_type": "code",
   "execution_count": 2,
   "metadata": {},
   "outputs": [],
   "source": [
    "from typing import List\n",
    "from collections import deque\n",
    "\n",
    "class Solution:\n",
    "    def maxResult(self, nums: List[int], k: int) -> int:\n",
    "        n = len(nums)\n",
    "        score = nums[0]\n",
    "        dq = deque()\n",
    "        dq.append((0, score))\n",
    "        print(dq, score)\n",
    "        \n",
    "        for i in range(1, n):\n",
    "            # pop the old index\n",
    "            while dq and dq[0][0] < i-k:\n",
    "                dq.popleft()\n",
    "            score = dq[0][1] + nums[i]\n",
    "            # pop the smaller value\n",
    "            while dq and score >= dq[-1][1]:\n",
    "                dq.pop()\n",
    "            dq.append((i, score))\n",
    "            \n",
    "        return score"
   ]
  },
  {
   "cell_type": "code",
   "execution_count": 3,
   "metadata": {},
   "outputs": [
    {
     "name": "stdout",
     "output_type": "stream",
     "text": [
      "deque([(0, 1)]) 1\n"
     ]
    },
    {
     "data": {
      "text/plain": [
       "7"
      ]
     },
     "execution_count": 3,
     "metadata": {},
     "output_type": "execute_result"
    }
   ],
   "source": [
    "instance = Solution()\n",
    "instance.maxResult([1,-1,-2,4,-7,3], 2)"
   ]
  }
 ],
 "metadata": {
  "kernelspec": {
   "display_name": "Python 3",
   "language": "python",
   "name": "python3"
  },
  "language_info": {
   "codemirror_mode": {
    "name": "ipython",
    "version": 3
   },
   "file_extension": ".py",
   "mimetype": "text/x-python",
   "name": "python",
   "nbconvert_exporter": "python",
   "pygments_lexer": "ipython3",
   "version": "3.7.3"
  }
 },
 "nbformat": 4,
 "nbformat_minor": 2
}
