{
 "cells": [
  {
   "cell_type": "markdown",
   "metadata": {},
   "source": [
    "Problem Statement.\n",
    "\n",
    "LeetCode wants to give one of its best employees the option to travel among n cities to collect algorithm problems. But all work and no play makes Jack a dull boy, you could take vacations in some particular cities and weeks. Your job is to schedule the traveling to maximize the number of vacation days you could take, but there are certain rules and restrictions you need to follow.\n",
    "\n",
    "Rules and restrictions:\n",
    "\n",
    "    You can only travel among n cities, represented by indexes from 0 to n - 1. Initially, you are in the city indexed 0 on Monday.\n",
    "    The cities are connected by flights. The flights are represented as an n x n matrix (not necessarily symmetrical), called flights representing the airline status from the city i to the city j. If there is no flight from the city i to the city j, flights[i][j] == 0; Otherwise, flights[i][j] == 1. Also, flights[i][i] == 0 for all i.\n",
    "    You totally have k weeks (each week has seven days) to travel. You can only take flights at most once per day and can only take flights on each week's Monday morning. Since flight time is so short, we do not consider the impact of flight time.\n",
    "    For each city, you can only have restricted vacation days in different weeks, given an n x k matrix called days representing this relationship. For the value of days[i][j], it represents the maximum days you could take a vacation in the city i in the week j.\n",
    "    You could stay in a city beyond the number of vacation days, but you should work on the extra days, which will not be counted as vacation days.\n",
    "    If you fly from city A to city B and take the vacation on that day, the deduction towards vacation days will count towards the vacation days of city B in that week.\n",
    "    We do not consider the impact of flight hours on the calculation of vacation days.\n",
    "\n",
    "Given the two matrices flights and days, return the maximum vacation days you could take during k weeks.\n",
    "\n",
    " \n",
    "\n",
    "Example 1:\n",
    "\n",
    "Input: flights = [[0,1,1],[1,0,1],[1,1,0]], days = [[1,3,1],[6,0,3],[3,3,3]]\n",
    "Output: 12\n",
    "Explanation:\n",
    "One of the best strategies is:\n",
    "1st week : fly from city 0 to city 1 on Monday, and play 6 days and work 1 day.\n",
    "(Although you start at city 0, we could also fly to and start at other cities since it is Monday.)\n",
    "2nd week : fly from city 1 to city 2 on Monday, and play 3 days and work 4 days.\n",
    "3rd week : stay at city 2, and play 3 days and work 4 days.\n",
    "Ans = 6 + 3 + 3 = 12.\n",
    "\n",
    "Example 2:\n",
    "\n",
    "Input: flights = [[0,0,0],[0,0,0],[0,0,0]], days = [[1,1,1],[7,7,7],[7,7,7]]\n",
    "Output: 3\n",
    "Explanation:\n",
    "Since there are no flights that enable you to move to another city, you have to stay at city 0 for the whole 3 weeks. \n",
    "For each week, you only have one day to play and six days to work.\n",
    "So the maximum number of vacation days is 3.\n",
    "Ans = 1 + 1 + 1 = 3.\n",
    "\n",
    "Example 3:\n",
    "\n",
    "Input: flights = [[0,1,1],[1,0,1],[1,1,0]], days = [[7,0,0],[0,7,0],[0,0,7]]\n",
    "Output: 21\n",
    "Explanation:\n",
    "One of the best strategies is:\n",
    "1st week : stay at city 0, and play 7 days.\n",
    "2nd week : fly from city 0 to city 1 on Monday, and play 7 days.\n",
    "3rd week : fly from city 1 to city 2 on Monday, and play 7 days.\n",
    "Ans = 7 + 7 + 7 = 21\n",
    "\n",
    " \n",
    "\n",
    "Constraints:\n",
    "\n",
    "    n == flights.length\n",
    "    n == flights[i].length\n",
    "    n == days.length\n",
    "    k == days[i].length\n",
    "    1 <= n, k <= 100\n",
    "    flights[i][j] is either 0 or 1.\n",
    "    0 <= days[i] <= 7"
   ]
  },
  {
   "cell_type": "markdown",
   "metadata": {},
   "source": [
    "# DP - O(N ^ 2 * K) runtime, O(K) space where n represents the number of cities and k is the total number of weeks"
   ]
  },
  {
   "cell_type": "code",
   "execution_count": 3,
   "metadata": {},
   "outputs": [],
   "source": [
    "from typing import List\n",
    "\n",
    "class Solution:\n",
    "    def maxVacationDays(self, flights: List[List[int]], days: List[List[int]]) -> int:\n",
    "        d, w, f = len(days), len(days[0]), len(flights)\n",
    "        if d == 0 or f == 0: return 0\n",
    "        \n",
    "        dp = [0] * d\n",
    "        for week in range(w-1,-1, -1):\n",
    "            temp = [0] * d\n",
    "            \n",
    "            for cur_city in range(d):\n",
    "                temp[cur_city] = days[cur_city][week] + dp[cur_city]\n",
    "                \n",
    "                for dest_city in range(d):\n",
    "                    if flights[cur_city][dest_city] == 1:\n",
    "                        temp[cur_city] = max(days[dest_city][week] + dp[dest_city], temp[cur_city])\n",
    "\n",
    "            dp = temp\n",
    "\n",
    "        return dp[0]"
   ]
  },
  {
   "cell_type": "code",
   "execution_count": 2,
   "metadata": {},
   "outputs": [
    {
     "data": {
      "text/plain": [
       "12"
      ]
     },
     "execution_count": 2,
     "metadata": {},
     "output_type": "execute_result"
    }
   ],
   "source": [
    "instance = Solution()\n",
    "instance.maxVacationDays( [[0,1,1],[1,0,1],[1,1,0]], [[1,3,1],[6,0,3],[3,3,3]] )"
   ]
  }
 ],
 "metadata": {
  "kernelspec": {
   "display_name": "Python 3",
   "language": "python",
   "name": "python3"
  },
  "language_info": {
   "codemirror_mode": {
    "name": "ipython",
    "version": 3
   },
   "file_extension": ".py",
   "mimetype": "text/x-python",
   "name": "python",
   "nbconvert_exporter": "python",
   "pygments_lexer": "ipython3",
   "version": "3.7.3"
  }
 },
 "nbformat": 4,
 "nbformat_minor": 2
}
