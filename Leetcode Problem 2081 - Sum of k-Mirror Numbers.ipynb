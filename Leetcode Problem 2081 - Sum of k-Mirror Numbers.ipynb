{
 "cells": [
  {
   "cell_type": "markdown",
   "metadata": {},
   "source": [
    "Problem Statement.\n",
    "\n",
    "A k-mirror number is a positive integer without leading zeros that reads the same both forward and backward in base-10 as well as in base-k.\n",
    "\n",
    "    For example, 9 is a 2-mirror number. The representation of 9 in base-10 and base-2 are 9 and 1001 respectively, which read the same both forward and backward.\n",
    "    On the contrary, 4 is not a 2-mirror number. The representation of 4 in base-2 is 100, which does not read the same both forward and backward.\n",
    "\n",
    "Given the base k and the number n, return the sum of the n smallest k-mirror numbers.\n",
    "\n",
    " \n",
    "\n",
    "Example 1:\n",
    "\n",
    "Input: k = 2, n = 5\n",
    "Output: 25\n",
    "Explanation:\n",
    "The 5 smallest 2-mirror numbers and their representations in base-2 are listed as follows:\n",
    "  base-10    base-2\n",
    "    1          1\n",
    "    3          11\n",
    "    5          101\n",
    "    7          111\n",
    "    9          1001\n",
    "Their sum = 1 + 3 + 5 + 7 + 9 = 25. \n",
    "\n",
    "Example 2:\n",
    "\n",
    "Input: k = 3, n = 7\n",
    "Output: 499\n",
    "Explanation:\n",
    "The 7 smallest 3-mirror numbers are and their representations in base-3 are listed as follows:\n",
    "  base-10    base-3\n",
    "    1          1\n",
    "    2          2\n",
    "    4          11\n",
    "    8          22\n",
    "    121        11111\n",
    "    151        12121\n",
    "    212        21212\n",
    "Their sum = 1 + 2 + 4 + 8 + 121 + 151 + 212 = 499.\n",
    "\n",
    "Example 3:\n",
    "\n",
    "Input: k = 7, n = 17\n",
    "Output: 20379000\n",
    "Explanation: The 17 smallest 7-mirror numbers are:\n",
    "1, 2, 3, 4, 5, 6, 8, 121, 171, 242, 292, 16561, 65656, 2137312, 4602064, 6597956, 6958596\n",
    "\n",
    " \n",
    "\n",
    "Constraints:\n",
    "\n",
    "    2 <= k <= 9\n",
    "    1 <= n <= 30"
   ]
  },
  {
   "cell_type": "markdown",
   "metadata": {},
   "source": [
    "# Brute Force with Symmetric Generation - O(K ** L) where K is the base and L is the number of digits in the biggest K base number which is the nth palindrome"
   ]
  },
  {
   "cell_type": "code",
   "execution_count": 2,
   "metadata": {},
   "outputs": [],
   "source": [
    "class Solution:\n",
    "    def kMirror(self, k: int, n: int) -> int:\n",
    "        def fn(x):\n",
    "            \"\"\"Return next k-symmetric number.\"\"\"\n",
    "            n = len(x)//2\n",
    "            for i in range(n, len(x)): \n",
    "                if int(x[i])+1 < k: \n",
    "                    x[i] = x[~i] = str(int(x[i])+1)\n",
    "                    for ii in range(n, i): x[ii] = x[~ii] = '0'\n",
    "                    return x\n",
    "            return [\"1\"] + [\"0\"]*(len(x)-1) + [\"1\"]\n",
    "                \n",
    "        x = [\"0\"]\n",
    "        ans = 0\n",
    "        for _ in range(n): \n",
    "            while True: \n",
    "                x = fn(x)\n",
    "                val = int(\"\".join(x), k)\n",
    "                if str(val)[::-1] == str(val): break\n",
    "            ans += val\n",
    "        return ans "
   ]
  },
  {
   "cell_type": "code",
   "execution_count": 3,
   "metadata": {},
   "outputs": [
    {
     "data": {
      "text/plain": [
       "20379000"
      ]
     },
     "execution_count": 3,
     "metadata": {},
     "output_type": "execute_result"
    }
   ],
   "source": [
    "instance = Solution()\n",
    "instance.kMirror(7,17)"
   ]
  }
 ],
 "metadata": {
  "kernelspec": {
   "display_name": "Python 3",
   "language": "python",
   "name": "python3"
  },
  "language_info": {
   "codemirror_mode": {
    "name": "ipython",
    "version": 3
   },
   "file_extension": ".py",
   "mimetype": "text/x-python",
   "name": "python",
   "nbconvert_exporter": "python",
   "pygments_lexer": "ipython3",
   "version": "3.7.3"
  }
 },
 "nbformat": 4,
 "nbformat_minor": 2
}
