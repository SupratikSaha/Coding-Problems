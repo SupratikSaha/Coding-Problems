{
 "cells": [
  {
   "cell_type": "markdown",
   "metadata": {},
   "source": [
    "Problem Statement.\n",
    "\n",
    "There is a one-dimensional garden on the x-axis. The garden starts at the point 0 and ends at the point n. (i.e The length of the garden is n).\n",
    "\n",
    "There are n + 1 taps located at points [0, 1, ..., n] in the garden.\n",
    "\n",
    "Given an integer n and an integer array ranges of length n + 1 where ranges[i] (0-indexed) means the i-th tap can water the area [i - ranges[i], i + ranges[i]] if it was open.\n",
    "\n",
    "Return the minimum number of taps that should be open to water the whole garden, If the garden cannot be watered return -1.\n",
    "\n",
    " \n",
    "\n",
    "Example 1:\n",
    "\n",
    "Input: n = 5, ranges = [3,4,1,1,0,0]\n",
    "Output: 1\n",
    "Explanation: The tap at point 0 can cover the interval [-3,3]\n",
    "The tap at point 1 can cover the interval [-3,5]\n",
    "The tap at point 2 can cover the interval [1,3]\n",
    "The tap at point 3 can cover the interval [2,4]\n",
    "The tap at point 4 can cover the interval [4,4]\n",
    "The tap at point 5 can cover the interval [5,5]\n",
    "Opening Only the second tap will water the whole garden [0,5]\n",
    "\n",
    "Example 2:\n",
    "\n",
    "Input: n = 3, ranges = [0,0,0,0]\n",
    "Output: -1\n",
    "Explanation: Even if you activate all the four taps you cannot water the whole garden.\n",
    "\n",
    "Example 3:\n",
    "\n",
    "Input: n = 7, ranges = [1,2,1,0,2,1,0,1]\n",
    "Output: 3\n",
    "\n",
    "Example 4:\n",
    "\n",
    "Input: n = 8, ranges = [4,0,0,0,0,0,0,0,4]\n",
    "Output: 2\n",
    "\n",
    "Example 5:\n",
    "\n",
    "Input: n = 8, ranges = [4,0,0,0,4,0,0,0,4]\n",
    "Output: 1\n",
    "\n",
    " \n",
    "\n",
    "Constraints:\n",
    "\n",
    "    1 <= n <= 10^4\n",
    "    ranges.length == n + 1\n",
    "    0 <= ranges[i] <= 100"
   ]
  },
  {
   "cell_type": "markdown",
   "metadata": {},
   "source": [
    "# DP - O(N * R) runtime, O(N) space"
   ]
  },
  {
   "cell_type": "code",
   "execution_count": 1,
   "metadata": {},
   "outputs": [],
   "source": [
    "from typing import List\n",
    "\n",
    "class Solution:\n",
    "    def minTaps(self, n: int, ranges: List[int]) -> int:\n",
    "        \"\"\"\n",
    "        dp[i] is the minimum number of taps to water [0, i].\n",
    "        Initialize dp[i] with max = n + 2\n",
    "        dp[0] = [0] as we need no tap to water nothing.\n",
    "\n",
    "        Find the leftmost point of garden to water with tap i.\n",
    "        Find the rightmost point of garden to water with tap i.\n",
    "        We can water [left, right] with onr tap,\n",
    "        and water [0, left - 1] with dp[left - 1] taps.\n",
    "        \"\"\"\n",
    "        dp = [0] + [n + 2] * n\n",
    "        for i, x in enumerate(ranges):\n",
    "            for j in range(max(i - x + 1, 0), min(i + x, n) + 1):\n",
    "                dp[j] = min(dp[j], dp[max(0, i - x)] + 1)\n",
    "        return dp[n] if dp[n] < n + 2 else -1"
   ]
  },
  {
   "cell_type": "markdown",
   "metadata": {},
   "source": [
    "# DP - O(N) runtime, O(N) space"
   ]
  },
  {
   "cell_type": "code",
   "execution_count": 3,
   "metadata": {},
   "outputs": [],
   "source": [
    "from typing import List\n",
    "\n",
    "class Solution:\n",
    "    def minTaps(self, n: int, ranges: List[int]) -> int:\n",
    "        max_range = [0] * (n + 1)\n",
    "        \n",
    "        for i, r in enumerate(ranges):\n",
    "            left, right = max(0, i - r), min(n, i + r)\n",
    "            max_range[left] = max(max_range[left], right)\n",
    "            \n",
    "        start = end = step = 0\n",
    "        \n",
    "        while end < n:\n",
    "            step += 1\n",
    "            start, end = end, max(max_range[i] for i in range(start, end + 1))\n",
    "            if start == end: return -1\n",
    "            \n",
    "        return step"
   ]
  },
  {
   "cell_type": "markdown",
   "metadata": {},
   "source": [
    "# DP - O(N) runtime, O(1) space"
   ]
  },
  {
   "cell_type": "code",
   "execution_count": 5,
   "metadata": {},
   "outputs": [],
   "source": [
    "from typing import List\n",
    "\n",
    "class Solution:\n",
    "    def minTaps(self, n: int, ranges: List[int]) -> int:\n",
    "        for i in range(1, len(ranges)):\n",
    "            if ranges[i] == 0: \n",
    "                ranges[i] = i\n",
    "            else:\n",
    "                rangeVal = max(0, i - ranges[i])\n",
    "                ranges[rangeVal] = max(i + ranges[i], ranges[rangeVal])\n",
    "\n",
    "        maxIdx = pos = jump = 0\n",
    "\n",
    "        for i in range(n):\n",
    "            if(maxIdx < i): return -1\n",
    "\n",
    "            maxIdx = max(maxIdx, ranges[i])\n",
    "\n",
    "            if i == pos:\n",
    "                jump += 1\n",
    "                pos = maxIdx\n",
    "    \n",
    "        return jump if maxIdx >= n else -1   "
   ]
  },
  {
   "cell_type": "code",
   "execution_count": 6,
   "metadata": {},
   "outputs": [
    {
     "data": {
      "text/plain": [
       "3"
      ]
     },
     "execution_count": 6,
     "metadata": {},
     "output_type": "execute_result"
    }
   ],
   "source": [
    "instance = Solution()\n",
    "instance.minTaps(7, [1,2,1,0,2,1,0,1])"
   ]
  }
 ],
 "metadata": {
  "kernelspec": {
   "display_name": "Python 3",
   "language": "python",
   "name": "python3"
  },
  "language_info": {
   "codemirror_mode": {
    "name": "ipython",
    "version": 3
   },
   "file_extension": ".py",
   "mimetype": "text/x-python",
   "name": "python",
   "nbconvert_exporter": "python",
   "pygments_lexer": "ipython3",
   "version": "3.7.3"
  }
 },
 "nbformat": 4,
 "nbformat_minor": 2
}
