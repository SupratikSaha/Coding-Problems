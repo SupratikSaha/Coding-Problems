{
 "cells": [
  {
   "cell_type": "markdown",
   "metadata": {},
   "source": [
    "Problem Statement.\n",
    "\n",
    "You are given two 0-indexed integer arrays servers and tasks of lengths n​​​​​​ and m​​​​​​ respectively. servers[i] is the weight of the i​​​​​​th​​​​ server, and tasks[j] is the time needed to process the j​​​​​​th​​​​ task in seconds.\n",
    "\n",
    "Tasks are assigned to the servers using a task queue. Initially, all servers are free, and the queue is empty.\n",
    "\n",
    "At second j, the jth task is inserted into the queue (starting with the 0th task being inserted at second 0). As long as there are free servers and the queue is not empty, the task in the front of the queue will be assigned to a free server with the smallest weight, and in case of a tie, it is assigned to a free server with the smallest index.\n",
    "\n",
    "If there are no free servers and the queue is not empty, we wait until a server becomes free and immediately assign the next task. If multiple servers become free at the same time, then multiple tasks from the queue will be assigned in order of insertion following the weight and index priorities above.\n",
    "\n",
    "A server that is assigned task j at second t will be free again at second t + tasks[j].\n",
    "\n",
    "Build an array ans​​​​ of length m, where ans[j] is the index of the server the j​​​​​​th task will be assigned to.\n",
    "\n",
    "Return the array ans​​​​.\n",
    "\n",
    " \n",
    "\n",
    "Example 1:\n",
    "\n",
    "Input: servers = [3,3,2], tasks = [1,2,3,2,1,2]\n",
    "Output: [2,2,0,2,1,2]\n",
    "Explanation: Events in chronological order go as follows:\n",
    "- At second 0, task 0 is added and processed using server 2 until second 1.\n",
    "- At second 1, server 2 becomes free. Task 1 is added and processed using server 2 until second 3.\n",
    "- At second 2, task 2 is added and processed using server 0 until second 5.\n",
    "- At second 3, server 2 becomes free. Task 3 is added and processed using server 2 until second 5.\n",
    "- At second 4, task 4 is added and processed using server 1 until second 5.\n",
    "- At second 5, all servers become free. Task 5 is added and processed using server 2 until second 7.\n",
    "\n",
    "Example 2:\n",
    "\n",
    "Input: servers = [5,1,4,3,2], tasks = [2,1,2,4,5,2,1]\n",
    "Output: [1,4,1,4,1,3,2]\n",
    "Explanation: Events in chronological order go as follows: \n",
    "- At second 0, task 0 is added and processed using server 1 until second 2.\n",
    "- At second 1, task 1 is added and processed using server 4 until second 2.\n",
    "- At second 2, servers 1 and 4 become free. Task 2 is added and processed using server 1 until second 4. \n",
    "- At second 3, task 3 is added and processed using server 4 until second 7.\n",
    "- At second 4, server 1 becomes free. Task 4 is added and processed using server 1 until second 9. \n",
    "- At second 5, task 5 is added and processed using server 3 until second 7.\n",
    "- At second 6, task 6 is added and processed using server 2 until second 7.\n",
    "\n",
    " \n",
    "\n",
    "Constraints:\n",
    "\n",
    "    servers.length == n\n",
    "    tasks.length == m\n",
    "    1 <= n, m <= 2 * 10^5\n",
    "    1 <= servers[i], tasks[j] <= 2 * 10^5"
   ]
  },
  {
   "cell_type": "markdown",
   "metadata": {},
   "source": [
    "# Time Limit Exceeded - Heap - O(N * Log N + T * Log N) runtime, O(N + M) space"
   ]
  },
  {
   "cell_type": "code",
   "execution_count": 3,
   "metadata": {},
   "outputs": [],
   "source": [
    "from typing import List\n",
    "from heapq import heappush, heappop\n",
    "from collections import deque, defaultdict\n",
    "\n",
    "class Solution:\n",
    "    def assignTasks(self, servers: List[int], tasks: List[int]) -> List[int]:\n",
    "        minheap = []\n",
    "        for i, w in enumerate(servers):\n",
    "            heappush(minheap, (w, i))\n",
    "        \n",
    "        queue = deque()\n",
    "        timeDict = defaultdict(list)\n",
    "        t, n = 0, len(tasks)\n",
    "        res = []\n",
    "        \n",
    "        while t < n or queue:\n",
    "            if t in timeDict:\n",
    "                returns = timeDict.pop(t)\n",
    "                for server in returns:\n",
    "                    heappush(minheap, server)\n",
    "            if t < n:\n",
    "                queue.append(tasks[t])\n",
    "                    \n",
    "            while minheap and queue:\n",
    "                task = queue.popleft()\n",
    "                server = heappop(minheap)\n",
    "                timeDict[t+task].append(server)\n",
    "                res.append(server[1])\n",
    "            \n",
    "            t += 1\n",
    "            \n",
    "        return res"
   ]
  },
  {
   "cell_type": "markdown",
   "metadata": {},
   "source": [
    "# Faster Two heaps - O(N * Log N + T * Log N) runtime, O(N + M) space"
   ]
  },
  {
   "cell_type": "code",
   "execution_count": 5,
   "metadata": {},
   "outputs": [],
   "source": [
    "from typing import List\n",
    "from heapq import heapify, heappush, heappop\n",
    "\n",
    "class Solution:\n",
    "    def assignTasks(self, servers: List[int], tasks: List[int]) -> List[int]:\n",
    "        res = []\n",
    "        h1 = [[weight, i, 0] for i, weight in enumerate(servers)]\n",
    "        h2 = []\n",
    "        heapify(h1)\n",
    "        \n",
    "        for j, task in enumerate(tasks):\n",
    "            while h2 and h2[0][0] <= j or not h1:\n",
    "                time, weight, i = heappop(h2)\n",
    "                heappush(h1, [weight, i, time])\n",
    "                \n",
    "            weight, i, time = heappop(h1)\n",
    "            res.append(i)\n",
    "            heappush(h2, [max(time,j)+task, weight, i])\n",
    "            \n",
    "        return res"
   ]
  },
  {
   "cell_type": "code",
   "execution_count": 6,
   "metadata": {},
   "outputs": [
    {
     "data": {
      "text/plain": [
       "[1, 4, 1, 4, 1, 3, 2]"
      ]
     },
     "execution_count": 6,
     "metadata": {},
     "output_type": "execute_result"
    }
   ],
   "source": [
    "instance = Solution()\n",
    "instance.assignTasks([5,1,4,3,2], [2,1,2,4,5,2,1])"
   ]
  }
 ],
 "metadata": {
  "kernelspec": {
   "display_name": "Python 3",
   "language": "python",
   "name": "python3"
  },
  "language_info": {
   "codemirror_mode": {
    "name": "ipython",
    "version": 3
   },
   "file_extension": ".py",
   "mimetype": "text/x-python",
   "name": "python",
   "nbconvert_exporter": "python",
   "pygments_lexer": "ipython3",
   "version": "3.7.3"
  }
 },
 "nbformat": 4,
 "nbformat_minor": 2
}
