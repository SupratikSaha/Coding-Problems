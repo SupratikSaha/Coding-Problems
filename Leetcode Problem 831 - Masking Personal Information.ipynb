{
 "cells": [
  {
   "cell_type": "markdown",
   "metadata": {},
   "source": [
    "Problem Statement.\n",
    "\n",
    "You are given a personal information string s, representing either an email address or a phone number. Return the masked personal information using the below rules.\n",
    "\n",
    "Email address:\n",
    "\n",
    "An email address is:\n",
    "\n",
    "    A name consisting of uppercase and lowercase English letters, followed by\n",
    "    The '@' symbol, followed by\n",
    "    The domain consisting of uppercase and lowercase English letters with a dot '.' somewhere in the middle (not the first or last character).\n",
    "\n",
    "To mask an email:\n",
    "\n",
    "    The uppercase letters in the name and domain must be converted to lowercase letters.\n",
    "    The middle letters of the name (i.e., all but the first and last letters) must be replaced by 5 asterisks \"*****\".\n",
    "\n",
    "Phone number:\n",
    "\n",
    "A phone number is formatted as follows:\n",
    "\n",
    "    The phone number contains 10-13 digits.\n",
    "    The last 10 digits make up the local number.\n",
    "    The remaining 0-3 digits, in the beginning, make up the country code.\n",
    "    Separation characters from the set {'+', '-', '(', ')', ' '} separate the above digits in some way.\n",
    "\n",
    "To mask a phone number:\n",
    "\n",
    "    Remove all separation characters.\n",
    "    The masked phone number should have the form:\n",
    "        \"***-***-XXXX\" if the country code has 0 digits.\n",
    "        \"+*-***-***-XXXX\" if the country code has 1 digit.\n",
    "        \"+**-***-***-XXXX\" if the country code has 2 digits.\n",
    "        \"+***-***-***-XXXX\" if the country code has 3 digits.\n",
    "    \"XXXX\" is the last 4 digits of the local number.\n",
    "\n",
    " \n",
    "\n",
    "Example 1:\n",
    "\n",
    "Input: s = \"LeetCode@LeetCode.com\"\n",
    "Output: \"l*****e@leetcode.com\"\n",
    "Explanation: s is an email address.\n",
    "The name and domain are converted to lowercase, and the middle of the name is replaced by 5 asterisks.\n",
    "\n",
    "Example 2:\n",
    "\n",
    "Input: s = \"AB@qq.com\"\n",
    "Output: \"a*****b@qq.com\"\n",
    "Explanation: s is an email address.\n",
    "The name and domain are converted to lowercase, and the middle of the name is replaced by 5 asterisks.\n",
    "Note that even though \"ab\" is 2 characters, it still must have 5 asterisks in the middle.\n",
    "\n",
    "Example 3:\n",
    "\n",
    "Input: s = \"1(234)567-890\"\n",
    "Output: \"***-***-7890\"\n",
    "Explanation: s is a phone number.\n",
    "There are 10 digits, so the local number is 10 digits and the country code is 0 digits.\n",
    "Thus, the resulting masked number is \"***-***-7890\".\n",
    "\n",
    " \n",
    "\n",
    "Constraints:\n",
    "\n",
    "    s is either a valid email or a phone number.\n",
    "    If s is an email:\n",
    "        8 <= s.length <= 40\n",
    "        s consists of uppercase and lowercase English letters and exactly one '@' symbol and '.' symbol.\n",
    "    If s is a phone number:\n",
    "        10 <= s.length <= 20\n",
    "        s consists of digits, spaces, and the symbols '(', ')', '-', and '+'."
   ]
  },
  {
   "cell_type": "markdown",
   "metadata": {},
   "source": [
    "# Linear - O(N) runtime, O(N) space"
   ]
  },
  {
   "cell_type": "code",
   "execution_count": 1,
   "metadata": {},
   "outputs": [],
   "source": [
    "class Solution:\n",
    "    def maskPII(self, s: str) -> str:\n",
    "        atRatePos = s.find('@')\n",
    "        \n",
    "        if atRatePos != -1:\n",
    "            res = s[0].lower() + '*' * 5 + s[atRatePos-1:].lower()\n",
    "        else:\n",
    "            digits = ''.join([x for x in s if x.isdigit()])\n",
    "            international = '+' + '*' * (len(digits) - 10) + '-' if len(digits) > 10 else ''\n",
    "            res = international + '***-***-' + digits[-4:]\n",
    "            \n",
    "        return res"
   ]
  },
  {
   "cell_type": "code",
   "execution_count": 2,
   "metadata": {},
   "outputs": [
    {
     "data": {
      "text/plain": [
       "'***-***-7890'"
      ]
     },
     "execution_count": 2,
     "metadata": {},
     "output_type": "execute_result"
    }
   ],
   "source": [
    "instance = Solution()\n",
    "instance.maskPII( \"1(234)567-890\")"
   ]
  }
 ],
 "metadata": {
  "kernelspec": {
   "display_name": "Python 3",
   "language": "python",
   "name": "python3"
  },
  "language_info": {
   "codemirror_mode": {
    "name": "ipython",
    "version": 3
   },
   "file_extension": ".py",
   "mimetype": "text/x-python",
   "name": "python",
   "nbconvert_exporter": "python",
   "pygments_lexer": "ipython3",
   "version": "3.7.3"
  }
 },
 "nbformat": 4,
 "nbformat_minor": 2
}
