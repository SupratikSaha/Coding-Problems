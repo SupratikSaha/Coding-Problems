{
 "cells": [
  {
   "cell_type": "markdown",
   "metadata": {},
   "source": [
    "Problem Statement.\n",
    "\n",
    "You are given an integer array nums consisting of n elements, and an integer k.\n",
    "\n",
    "Find a contiguous subarray whose length is greater than or equal to k that has the maximum average value and return this value. Any answer with a calculation error less than 10-5 will be accepted.\n",
    "\n",
    " \n",
    "\n",
    "Example 1:\n",
    "\n",
    "Input: nums = [1,12,-5,-6,50,3], k = 4\n",
    "Output: 12.75000\n",
    "Explanation:\n",
    "- When the length is 4, averages are [0.5, 12.75, 10.5] and the maximum average is 12.75\n",
    "- When the length is 5, averages are [10.4, 10.8] and the maximum average is 10.8\n",
    "- When the length is 6, averages are [9.16667] and the maximum average is 9.16667\n",
    "The maximum average is when we choose a subarray of length 4 (i.e., the sub array [12, -5, -6, 50]) which has the max average 12.75, so we return 12.75\n",
    "Note that we do not consider the subarrays of length < 4.\n",
    "\n",
    "Example 2:\n",
    "\n",
    "Input: nums = [5], k = 1\n",
    "Output: 5.00000\n",
    "\n",
    " \n",
    "\n",
    "Constraints:\n",
    "\n",
    "    n == nums.length\n",
    "    1 <= k <= n <= 10^4\n",
    "    -10^4 <= nums[i] <= 10^4"
   ]
  },
  {
   "cell_type": "markdown",
   "metadata": {},
   "source": [
    "# 4 Iterations - O(N) runtime, O(N) space"
   ]
  },
  {
   "cell_type": "code",
   "execution_count": 1,
   "metadata": {},
   "outputs": [],
   "source": [
    "from typing import List\n",
    "\n",
    "class Solution:\n",
    "    def findMaxAverage(self, nums: List[int], k: int) -> float:\n",
    "        n = len(nums)\n",
    "        arr = [0.0] * (n + 1)\n",
    "        \n",
    "        def getDelta(avg):\n",
    "            minval, minval_pos = float('inf'), -1\n",
    "            delta = 0\n",
    "            for i in range(n):\n",
    "                arr[i+1] = nums[i] + arr[i] - avg\n",
    "                if i >= (k-1):\n",
    "                    if arr[i-k+1] < minval: # keep track of lowest average sum .\n",
    "                        minval = arr[i-k+1]\n",
    "                        minval_pos = i-k+1\n",
    "                    if arr[i+1] - minval >= 0: # calculate the diff you need to add to reach the true average.\n",
    "                        delta = max(delta, 1.0 * (arr[i+1] - minval) / (i+1 - minval_pos))\n",
    "            return delta\n",
    "\n",
    "        lo = min(nums) # use minimum as initial guess.\n",
    "        for i in range(4): \n",
    "            # Should only take 1 iteration, but need at least 4 iterations \n",
    "            # due to machine precision in calculating average for large arrays.\n",
    "            lo += getDelta(lo)\n",
    "            \n",
    "        return lo"
   ]
  },
  {
   "cell_type": "code",
   "execution_count": 3,
   "metadata": {},
   "outputs": [
    {
     "data": {
      "text/plain": [
       "12.75"
      ]
     },
     "execution_count": 3,
     "metadata": {},
     "output_type": "execute_result"
    }
   ],
   "source": [
    "instance = Solution()\n",
    "instance.findMaxAverage([1,12,-5,-6,50,3], 4)"
   ]
  }
 ],
 "metadata": {
  "kernelspec": {
   "display_name": "Python 3",
   "language": "python",
   "name": "python3"
  },
  "language_info": {
   "codemirror_mode": {
    "name": "ipython",
    "version": 3
   },
   "file_extension": ".py",
   "mimetype": "text/x-python",
   "name": "python",
   "nbconvert_exporter": "python",
   "pygments_lexer": "ipython3",
   "version": "3.7.3"
  }
 },
 "nbformat": 4,
 "nbformat_minor": 2
}
