{
 "cells": [
  {
   "cell_type": "markdown",
   "metadata": {},
   "source": [
    "# Store pair sums in hash table - add – O(n) runtime, find – O(1) runtime, O(n2) space"
   ]
  },
  {
   "cell_type": "code",
   "execution_count": 1,
   "metadata": {},
   "outputs": [],
   "source": [
    "class TwoSum:\n",
    "    num_list = []\n",
    "    dict_sum = {}\n",
    "    \n",
    "    def add_num(self, num):\n",
    "        length = len(self.num_list)\n",
    "        self.num_list.append(num)          \n",
    "          \n",
    "        for ctr in range(length):\n",
    "            new_sum = self.num_list[ctr] + num\n",
    "            if new_sum in self.dict_sum.keys():\n",
    "                self.dict_sum[new_sum] += 1\n",
    "            else:\n",
    "                self.dict_sum[new_sum] = 1\n",
    "                \n",
    "    def find_target(self, target):\n",
    "        if target in self.dict_sum.keys():\n",
    "            return True\n",
    "        else:\n",
    "            return False"
   ]
  },
  {
   "cell_type": "markdown",
   "metadata": {},
   "source": [
    "# Maintain a sorted array of numbers - add – O(log n) runtime, find – O(n) runtime, O(n) space – Binary search + Two pointers:"
   ]
  },
  {
   "cell_type": "code",
   "execution_count": 2,
   "metadata": {},
   "outputs": [],
   "source": [
    "class TwoSum:\n",
    "    num_list = []\n",
    "    \n",
    "    def bin_search_insert(self, numbers, key):\n",
    "        \n",
    "        begin, end = 0, len(numbers) - 1\n",
    "        \n",
    "        while(begin<end):\n",
    "            mid = int( (begin + end) / 2)\n",
    "            if key < numbers[mid]:\n",
    "                end = mid\n",
    "            elif key > numbers[mid]:\n",
    "                begin = mid + 1\n",
    "            else:\n",
    "                return mid\n",
    "        return begin+1 if key > numbers[begin] else begin\n",
    "    \n",
    "    def add_num(self, num):\n",
    "        length = len(self.num_list)\n",
    "        \n",
    "        if length == 0:\n",
    "            self.num_list.append(num)\n",
    "            return\n",
    "        \n",
    "        index = self.bin_search_insert(self.num_list, num)\n",
    "        \n",
    "        if length == index:\n",
    "            self.num_list.append(num)\n",
    "            return\n",
    "        \n",
    "        self.num_list.append(self.num_list[length-1])\n",
    "        \n",
    "        for ctr in range(length-1, index, -1):\n",
    "            self.num_list[ctr] = self.num_list[ctr-1]\n",
    "            \n",
    "        self.num_list[index]= num          \n",
    "                         \n",
    "    def find_target(self, target):\n",
    "        small_index, large_index = 0, len(self.num_list) - 1\n",
    "        while(small_index < large_index):\n",
    "            sum_nums = self.num_list[small_index] + self.num_list[large_index]\n",
    "            \n",
    "            if sum_nums < target:\n",
    "                small_index += 1\n",
    "            elif sum_nums > target:\n",
    "                large_index -= 1\n",
    "            else:\n",
    "                return True\n",
    "        \n",
    "        return False"
   ]
  },
  {
   "cell_type": "markdown",
   "metadata": {},
   "source": [
    "# Store inputs in hash table- add – O(1) runtime, find – O(n) runtime, O(n) space"
   ]
  },
  {
   "cell_type": "code",
   "execution_count": 2,
   "metadata": {},
   "outputs": [],
   "source": [
    "class TwoSum:\n",
    "\n",
    "    def __init__(self):\n",
    "        \"\"\"\n",
    "        Initialize your data structure here.\n",
    "        \"\"\"\n",
    "        self.dict_num = {}\n",
    "        \n",
    "\n",
    "    def add(self, number: int) -> None:\n",
    "        \"\"\"\n",
    "        Add the number to an internal data structure..\n",
    "        \"\"\"\n",
    "        if number in self.dict_num.keys():\n",
    "            self.dict_num[number] += 1\n",
    "        else:\n",
    "            self.dict_num[number] = 1 \n",
    "        \n",
    "\n",
    "    def find(self, value: int) -> bool:\n",
    "        \"\"\"\n",
    "        Find if there exists any pair of numbers which sum is equal to the value.\n",
    "        \"\"\"\n",
    "        length = len(self.dict_num)\n",
    "        \n",
    "        for num1 in self.dict_num:\n",
    "            num2 = value - num1\n",
    "            \n",
    "            if num2 == num1 and self.dict_num[num2] >=2 :\n",
    "                return True\n",
    "            elif num2 != num1 and num2 in self.dict_num.keys():\n",
    "                return True\n",
    "            \n",
    "        return False\n",
    "        \n",
    "\n",
    "\n",
    "# Your TwoSum object will be instantiated and called as such:\n",
    "# obj = TwoSum()\n",
    "# obj.add(number)\n",
    "# param_2 = obj.find(value)"
   ]
  },
  {
   "cell_type": "code",
   "execution_count": 3,
   "metadata": {},
   "outputs": [
    {
     "name": "stdout",
     "output_type": "stream",
     "text": [
      "True\n",
      "False\n"
     ]
    }
   ],
   "source": [
    "Instance = TwoSum()\n",
    "Instance.add_num(1)\n",
    "Instance.add_num(3)\n",
    "Instance.add_num(5)\n",
    "Instance.add_num(7)\n",
    "print(Instance.find_target(4))\n",
    "Instance.add_num(1)\n",
    "print(Instance.find_target(9))"
   ]
  }
 ],
 "metadata": {
  "kernelspec": {
   "display_name": "Python 3",
   "language": "python",
   "name": "python3"
  },
  "language_info": {
   "codemirror_mode": {
    "name": "ipython",
    "version": 3
   },
   "file_extension": ".py",
   "mimetype": "text/x-python",
   "name": "python",
   "nbconvert_exporter": "python",
   "pygments_lexer": "ipython3",
   "version": "3.7.3"
  }
 },
 "nbformat": 4,
 "nbformat_minor": 2
}
