{
 "cells": [
  {
   "cell_type": "markdown",
   "metadata": {},
   "source": [
    "Problem Statement. <br/>\n",
    "\n",
    "Suppose you are at a party with n people (labeled from 0 to n - 1), and among them, there may exist one celebrity. The definition of a celebrity is that all the other n - 1 people know him/her, but he/she does not know any of them. <br/>\n",
    "Now you want to find out who the celebrity is or verify that there is not one. The only thing you are allowed to do is to ask questions like: \"Hi, A. Do you know B?\" to get information about whether A knows B. You need to find out the celebrity (or verify there is not one) by asking as few questions as possible (in the asymptotic sense). <br/>\n",
    "You are given a helper function bool knows(a, b) which tells you whether A knows B. Implement a function int findCelebrity(n). There will be exactly one celebrity if he/she is in the party. Return the celebrity's label if there is a celebrity in the party. If there is no celebrity, return -1. <br/>\n",
    "\n",
    "Example 1: <br/>\n",
    "Input: graph = [[1,1,0],[0,1,0],[1,1,1]] <br/>\n",
    "Output: 1 <br/>\n",
    "Explanation: There are three persons labeled with 0, 1 and 2. graph[i][j] = 1 means person i knows person j, otherwise graph[i][j] = 0 means person i does not know person j. The celebrity is the person labeled as 1 because both 0 and 2 know him but 1 does not know anybody. <br/>\n",
    "\n",
    "Example 2: <br/>\n",
    "Input: graph = [[1,0,1],[1,1,0],[0,1,1]] <br/>\n",
    "Output: -1 <br/>\n",
    "Explanation: There is no celebrity."
   ]
  },
  {
   "cell_type": "markdown",
   "metadata": {},
   "source": [
    "# Brute Force - O(N ^ 2) runtime, O(1) space"
   ]
  },
  {
   "cell_type": "code",
   "execution_count": 1,
   "metadata": {},
   "outputs": [],
   "source": [
    "# The knows API is already defined for you.\n",
    "# return a bool, whether a knows b\n",
    "# def knows(a: int, b: int) -> bool:\n",
    "\n",
    "class Solution:\n",
    "    def findCelebrity(self, n: int) -> int:\n",
    "        self.n = n\n",
    "        for i in range(n):\n",
    "            if self.is_celebrity(i):\n",
    "                return i\n",
    "        return -1\n",
    "    \n",
    "    def is_celebrity(self, i):\n",
    "        for j in range(self.n):\n",
    "            if i == j: continue # Don't ask if they know themselves.\n",
    "            if knows(i, j) or not knows(j, i):\n",
    "                return False\n",
    "        return True"
   ]
  },
  {
   "cell_type": "markdown",
   "metadata": {},
   "source": [
    "# Logical Deduction - O(N) runtime, O(1) space"
   ]
  },
  {
   "cell_type": "code",
   "execution_count": 2,
   "metadata": {},
   "outputs": [],
   "source": [
    "# The knows API is already defined for you.\n",
    "# return a bool, whether a knows b\n",
    "# def knows(a: int, b: int) -> bool:\n",
    "\n",
    "class Solution:\n",
    "    def findCelebrity(self, n: int) -> int:\n",
    "        self.n = n\n",
    "        celebrity_candidate = 0\n",
    "        for i in range(1, n):\n",
    "            if knows(celebrity_candidate, i):\n",
    "                celebrity_candidate = i\n",
    "        if self.is_celebrity(celebrity_candidate):\n",
    "            return celebrity_candidate\n",
    "        return -1\n",
    "\n",
    "    def is_celebrity(self, i):\n",
    "        for j in range(self.n):\n",
    "            if i == j: continue\n",
    "            if knows(i, j) or not knows(j, i):\n",
    "                return False\n",
    "        return True"
   ]
  }
 ],
 "metadata": {
  "kernelspec": {
   "display_name": "Python 3",
   "language": "python",
   "name": "python3"
  },
  "language_info": {
   "codemirror_mode": {
    "name": "ipython",
    "version": 3
   },
   "file_extension": ".py",
   "mimetype": "text/x-python",
   "name": "python",
   "nbconvert_exporter": "python",
   "pygments_lexer": "ipython3",
   "version": "3.7.3"
  }
 },
 "nbformat": 4,
 "nbformat_minor": 2
}
