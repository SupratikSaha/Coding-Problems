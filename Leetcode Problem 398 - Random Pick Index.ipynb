{
 "cells": [
  {
   "cell_type": "markdown",
   "metadata": {},
   "source": [
    "    Problem Statement.\n",
    "\n",
    "    Given an array of integers with possible duplicates, randomly output the index of a given target number. You can assume that the given target number must exist in the array.\n",
    "\n",
    "    Note:\n",
    "    The array size can be very large. Solution that uses too much extra space will not pass the judge.\n",
    "\n",
    "    Example:\n",
    "\n",
    "    int[] nums = new int[] {1,2,3,3,3};\n",
    "    Solution solution = new Solution(nums);\n",
    "\n",
    "    // pick(3) should return either index 2, 3, or 4 randomly. Each index should have equal probability of returning.\n",
    "    solution.pick(3);\n",
    "\n",
    "    // pick(1) should return 0. Since in the array only nums[0] is equal to 1.\n",
    "    solution.pick(1);"
   ]
  },
  {
   "cell_type": "markdown",
   "metadata": {},
   "source": [
    "# Hash Map - O(N) init, O(1) pick, O(N) space"
   ]
  },
  {
   "cell_type": "code",
   "execution_count": 1,
   "metadata": {},
   "outputs": [],
   "source": [
    "from typing import List\n",
    "from collections import defaultdict\n",
    "from random import randint\n",
    "\n",
    "class Solution:\n",
    "\n",
    "    def __init__(self, nums: List[int]):\n",
    "\n",
    "        self.indexDict = defaultdict(list)\n",
    "        for i, num in enumerate(nums):\n",
    "            self.indexDict[num].append(i)\n",
    "            \n",
    "\n",
    "    def pick(self, target: int) -> int:\n",
    "        choice = randint(0, len(self.indexDict[target]) - 1)\n",
    "        return self.indexDict[target][choice]"
   ]
  },
  {
   "cell_type": "markdown",
   "metadata": {},
   "source": [
    "# Reservoir sampling - O(1) init, O(N) pick, O(N) space"
   ]
  },
  {
   "cell_type": "code",
   "execution_count": 2,
   "metadata": {},
   "outputs": [],
   "source": [
    "from typing import List\n",
    "from random import randint\n",
    "\n",
    "class Solution:\n",
    "\n",
    "    def __init__(self, nums: List[int]):\n",
    "        self.nums = nums\n",
    "            \n",
    "    def pick(self, target: int) -> int:\n",
    "        res = None\n",
    "        count = 0\n",
    "        for i, num in enumerate(self.nums):\n",
    "            if num == target:\n",
    "                count += 1\n",
    "                chance = randint(1, count)\n",
    "                if chance == count:\n",
    "                    res = i\n",
    "        return res\n"
   ]
  },
  {
   "cell_type": "code",
   "execution_count": 3,
   "metadata": {},
   "outputs": [
    {
     "name": "stdout",
     "output_type": "stream",
     "text": [
      "4\n",
      "2\n",
      "0\n",
      "1\n",
      "3\n"
     ]
    }
   ],
   "source": [
    "instance = Solution([1,2,3,3,3])\n",
    "print(instance.pick(3))\n",
    "print(instance.pick(3))\n",
    "print(instance.pick(1))\n",
    "print(instance.pick(2))\n",
    "print(instance.pick(3))"
   ]
  },
  {
   "cell_type": "code",
   "execution_count": null,
   "metadata": {},
   "outputs": [],
   "source": []
  }
 ],
 "metadata": {
  "kernelspec": {
   "display_name": "Python 3",
   "language": "python",
   "name": "python3"
  },
  "language_info": {
   "codemirror_mode": {
    "name": "ipython",
    "version": 3
   },
   "file_extension": ".py",
   "mimetype": "text/x-python",
   "name": "python",
   "nbconvert_exporter": "python",
   "pygments_lexer": "ipython3",
   "version": "3.7.3"
  }
 },
 "nbformat": 4,
 "nbformat_minor": 2
}
