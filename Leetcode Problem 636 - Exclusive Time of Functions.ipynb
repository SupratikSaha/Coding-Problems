{
 "cells": [
  {
   "cell_type": "markdown",
   "metadata": {},
   "source": [
    "    Problem Statement.\n",
    "\n",
    "    On a single-threaded CPU, we execute a program containing n functions. Each function has a unique ID between 0 and n-1.\n",
    "\n",
    "    Function calls are stored in a call stack: when a function call starts, its ID is pushed onto the stack, and when a function call ends, its ID is popped off the stack. The function whose ID is at the top of the stack is the current function being executed. Each time a function starts or ends, we write a log with the ID, whether it started or ended, and the timestamp.\n",
    "\n",
    "    You are given a list logs, where logs[i] represents the ith log message formatted as a string \"{function_id}:{\"start\" | \"end\"}:{timestamp}\". For example, \"0:start:3\" means a function call with function ID 0 started at the beginning of timestamp 3, and \"1:end:2\" means a function call with function ID 1 ended at the end of timestamp 2. Note that a function can be called multiple times, possibly recursively.\n",
    "\n",
    "    A function's exclusive time is the sum of execution times for all function calls in the program. For example, if a function is called twice, one call executing for 2 time units and another call executing for 1 time unit, the exclusive time is 2 + 1 = 3.\n",
    "\n",
    "    Return the exclusive time of each function in an array, where the value at the ith index represents the exclusive time for the function with ID i.\n",
    "\n",
    "\n",
    "\n",
    "    Example 1:\n",
    "\n",
    "    Input: n = 2, logs = [\"0:start:0\",\"1:start:2\",\"1:end:5\",\"0:end:6\"]\n",
    "    Output: [3,4]\n",
    "    Explanation:\n",
    "    Function 0 starts at the beginning of time 0, then it executes 2 for units of time and reaches the end of time 1.\n",
    "    Function 1 starts at the beginning of time 2, executes for 4 units of time, and ends at the end of time 5.\n",
    "    Function 0 resumes execution at the beginning of time 6 and executes for 1 unit of time.\n",
    "    So function 0 spends 2 + 1 = 3 units of total time executing, and function 1 spends 4 units of total time executing.\n",
    "\n",
    "    Example 2:\n",
    "\n",
    "    Input: n = 1, logs = [\"0:start:0\",\"0:start:2\",\"0:end:5\",\"0:start:6\",\"0:end:6\",\"0:end:7\"]\n",
    "    Output: [8]\n",
    "    Explanation:\n",
    "    Function 0 starts at the beginning of time 0, executes for 2 units of time, and recursively calls itself.\n",
    "    Function 0 (recursive call) starts at the beginning of time 2 and executes for 4 units of time.\n",
    "    Function 0 (initial call) resumes execution then immediately calls itself again.\n",
    "    Function 0 (2nd recursive call) starts at the beginning of time 6 and executes for 1 unit of time.\n",
    "    Function 0 (initial call) resumes execution at the beginning of time 7 and executes for 1 unit of time.\n",
    "    So function 0 spends 2 + 4 + 1 + 1 = 8 units of total time executing.\n",
    "\n",
    "    Example 3:\n",
    "\n",
    "    Input: n = 2, logs = [\"0:start:0\",\"0:start:2\",\"0:end:5\",\"1:start:6\",\"1:end:6\",\"0:end:7\"]\n",
    "    Output: [7,1]\n",
    "    Explanation:\n",
    "    Function 0 starts at the beginning of time 0, executes for 2 units of time, and recursively calls itself.\n",
    "    Function 0 (recursive call) starts at the beginning of time 2 and executes for 4 units of time.\n",
    "    Function 0 (initial call) resumes execution then immediately calls function 1.\n",
    "    Function 1 starts at the beginning of time 6, executes 1 units of time, and ends at the end of time 6.\n",
    "    Function 0 resumes execution at the beginning of time 6 and executes for 2 units of time.\n",
    "    So function 0 spends 2 + 4 + 1 = 7 units of total time executing, and function 1 spends 1 unit of total time executing.\n",
    "\n",
    "    Example 4:\n",
    "\n",
    "    Input: n = 2, logs = [\"0:start:0\",\"0:start:2\",\"0:end:5\",\"1:start:7\",\"1:end:7\",\"0:end:8\"]\n",
    "    Output: [8,1]\n",
    "\n",
    "    Example 5:\n",
    "\n",
    "    Input: n = 1, logs = [\"0:start:0\",\"0:end:0\"]\n",
    "    Output: [1]\n",
    "\n",
    "\n",
    "\n",
    "    Constraints:\n",
    "\n",
    "        1 <= n <= 100\n",
    "        1 <= logs.length <= 500\n",
    "        0 <= function_id < n\n",
    "        0 <= timestamp <= 109\n",
    "        No two start events will happen at the same timestamp.\n",
    "        No two end events will happen at the same timestamp.\n",
    "        Each function has an \"end\" log for each \"start\" log."
   ]
  },
  {
   "cell_type": "markdown",
   "metadata": {},
   "source": [
    "# Stack - O(N) runtime, O(N) space"
   ]
  },
  {
   "cell_type": "code",
   "execution_count": 4,
   "metadata": {},
   "outputs": [],
   "source": [
    "from typing import List\n",
    "\n",
    "class Solution:\n",
    "    def exclusiveTime(self, n: int, logs: List[str]) -> List[int]:   \n",
    "        prevState, prevTime = None, None\n",
    "        stack = []\n",
    "        res = [0] * n\n",
    "        \n",
    "        for log in logs:\n",
    "            _id, state, time = log.split(':')\n",
    "            _id, time = int(_id), int(time)\n",
    "            \n",
    "            if prevTime is not None:  \n",
    "                timeDiff = int(time) - int(prevTime)\n",
    "                \n",
    "            if state == 'start':\n",
    "                if prevState == 'start':\n",
    "                    res[stack[-1]] += timeDiff\n",
    "                elif prevState == 'end' and timeDiff -1 > 0:\n",
    "                    res[stack[-1]] += timeDiff - 1\n",
    "                stack.append(_id)\n",
    "            else:\n",
    "                if prevState == 'start':\n",
    "                    res[stack[-1]] += timeDiff + 1\n",
    "                elif prevState == 'end':\n",
    "                    res[stack[-1]] += timeDiff\n",
    "                stack.pop()\n",
    "                \n",
    "            prevState, prevTime = state, time\n",
    "                \n",
    "        return res"
   ]
  },
  {
   "cell_type": "markdown",
   "metadata": {},
   "source": [
    "# Simpler Stack - O(N) runtime, O(N) space"
   ]
  },
  {
   "cell_type": "code",
   "execution_count": 6,
   "metadata": {},
   "outputs": [],
   "source": [
    "from typing import List\n",
    "\n",
    "class Solution:\n",
    "    def exclusiveTime(self, n: int, logs: List[str]) -> List[int]:   \n",
    "        ans = [0] * n\n",
    "        stack = []\n",
    "        prev_time = 0\n",
    "\n",
    "        for log in logs:\n",
    "            fn, typ, time = log.split(':')\n",
    "            fn, time = int(fn), int(time)\n",
    "\n",
    "            if typ == 'start':\n",
    "                if stack:\n",
    "                    ans[stack[-1]] += time - prev_time \n",
    "                stack.append(fn)\n",
    "                prev_time = time\n",
    "            else:\n",
    "                ans[stack.pop()] += time - prev_time + 1\n",
    "                prev_time = time + 1\n",
    "\n",
    "        return ans"
   ]
  },
  {
   "cell_type": "code",
   "execution_count": 7,
   "metadata": {},
   "outputs": [
    {
     "data": {
      "text/plain": [
       "[8, 1]"
      ]
     },
     "execution_count": 7,
     "metadata": {},
     "output_type": "execute_result"
    }
   ],
   "source": [
    "instance = Solution()\n",
    "instance.exclusiveTime(2, [\"0:start:0\",\"0:start:2\",\"0:end:5\",\"1:start:7\",\"1:end:7\",\"0:end:8\"])"
   ]
  }
 ],
 "metadata": {
  "kernelspec": {
   "display_name": "Python 3",
   "language": "python",
   "name": "python3"
  },
  "language_info": {
   "codemirror_mode": {
    "name": "ipython",
    "version": 3
   },
   "file_extension": ".py",
   "mimetype": "text/x-python",
   "name": "python",
   "nbconvert_exporter": "python",
   "pygments_lexer": "ipython3",
   "version": "3.7.3"
  }
 },
 "nbformat": 4,
 "nbformat_minor": 2
}
