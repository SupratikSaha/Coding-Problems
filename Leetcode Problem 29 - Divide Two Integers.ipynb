{
 "cells": [
  {
   "cell_type": "code",
   "execution_count": 13,
   "metadata": {},
   "outputs": [],
   "source": [
    "class Solution:\n",
    "    def divide(self, dividend: int, divisor: int) -> int:\n",
    "        is_negative = (dividend > 0 and divisor < 0) or (dividend < 0 and divisor > 0)\n",
    "            \n",
    "        dividend, divisor = abs(dividend), abs(divisor)\n",
    "        \n",
    "        quotient = 0\n",
    "\n",
    "        while dividend >= divisor:\n",
    "            curr_divisor, num_divisors = divisor, 1\n",
    "            while dividend >= curr_divisor:\n",
    "                dividend -= curr_divisor\n",
    "                quotient += num_divisors\n",
    "                \n",
    "                curr_divisor = curr_divisor << 1 #Bitwise Left operator multiplies a number by 2\n",
    "                num_divisors = num_divisors << 1 #Bitwise Left operator multiplies a number by 2\n",
    "            \n",
    "        quotient = -quotient if is_negative else quotient\n",
    "        return min(max(-2**31, quotient), 2**31-1)"
   ]
  },
  {
   "cell_type": "code",
   "execution_count": 14,
   "metadata": {},
   "outputs": [
    {
     "data": {
      "text/plain": [
       "2147483647"
      ]
     },
     "execution_count": 14,
     "metadata": {},
     "output_type": "execute_result"
    }
   ],
   "source": [
    "Instance = Solution()\n",
    "Instance.divide(-2147483648,-1)"
   ]
  }
 ],
 "metadata": {
  "kernelspec": {
   "display_name": "Python 3",
   "language": "python",
   "name": "python3"
  },
  "language_info": {
   "codemirror_mode": {
    "name": "ipython",
    "version": 3
   },
   "file_extension": ".py",
   "mimetype": "text/x-python",
   "name": "python",
   "nbconvert_exporter": "python",
   "pygments_lexer": "ipython3",
   "version": "3.7.3"
  }
 },
 "nbformat": 4,
 "nbformat_minor": 2
}
