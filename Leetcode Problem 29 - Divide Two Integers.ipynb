{
 "cells": [
  {
   "cell_type": "markdown",
   "metadata": {},
   "source": [
    "Problem Statement.\n",
    "\n",
    "29. Divide Two Integers\n",
    "Medium\n",
    "\n",
    "Given two integers dividend and divisor, divide two integers without using multiplication, division, and mod operator.\n",
    "\n",
    "Return the quotient after dividing dividend by divisor.\n",
    "\n",
    "The integer division should truncate toward zero, which means losing its fractional part. For example, truncate(8.345) = 8 and truncate(-2.7335) = -2.\n",
    "\n",
    "Note: Assume we are dealing with an environment that could only store integers within the 32-bit signed integer range: [−231, 231 − 1]. For this problem, assume that your function returns 231 − 1 when the division result overflows.\n",
    "\n",
    " \n",
    "\n",
    "Example 1:\n",
    "\n",
    "Input: dividend = 10, divisor = 3\n",
    "Output: 3\n",
    "Explanation: 10/3 = truncate(3.33333..) = 3.\n",
    "\n",
    "Example 2:\n",
    "\n",
    "Input: dividend = 7, divisor = -3\n",
    "Output: -2\n",
    "Explanation: 7/-3 = truncate(-2.33333..) = -2.\n",
    "\n",
    "Example 3:\n",
    "\n",
    "Input: dividend = 0, divisor = 1\n",
    "Output: 0\n",
    "\n",
    "Example 4:\n",
    "\n",
    "Input: dividend = 1, divisor = 1\n",
    "Output: 1\n",
    "\n",
    " \n",
    "\n",
    "Constraints:\n",
    "\n",
    "    -231 <= dividend, divisor <= 231 - 1\n",
    "    divisor != 0"
   ]
  },
  {
   "cell_type": "markdown",
   "metadata": {},
   "source": [
    "# Repeated Exponential Searches - O(log ** 2 N) runtime, O(1) sapce"
   ]
  },
  {
   "cell_type": "code",
   "execution_count": 13,
   "metadata": {},
   "outputs": [],
   "source": [
    "class Solution:\n",
    "    def divide(self, dividend: int, divisor: int) -> int:\n",
    "        is_negative = (dividend > 0 and divisor < 0) or (dividend < 0 and divisor > 0)\n",
    "            \n",
    "        dividend, divisor = abs(dividend), abs(divisor)\n",
    "        \n",
    "        quotient = 0\n",
    "\n",
    "        while dividend >= divisor:\n",
    "            curr_divisor, num_divisors = divisor, 1\n",
    "            while dividend >= curr_divisor:\n",
    "                dividend -= curr_divisor\n",
    "                quotient += num_divisors\n",
    "                \n",
    "                curr_divisor = curr_divisor << 1 #Bitwise Left operator multiplies a number by 2\n",
    "                num_divisors = num_divisors << 1 #Bitwise Left operator multiplies a number by 2\n",
    "            \n",
    "        quotient = -quotient if is_negative else quotient\n",
    "        return min(max(-2**31, quotient), 2**31-1)"
   ]
  },
  {
   "cell_type": "markdown",
   "metadata": {},
   "source": [
    "# Exponential Check - O(log N) runtime, O(1) space"
   ]
  },
  {
   "cell_type": "code",
   "execution_count": 1,
   "metadata": {},
   "outputs": [],
   "source": [
    "class Solution:\n",
    "    def divide(self, dividend: int, divisor: int) -> int:\n",
    "        sign = 1\n",
    "        if (dividend>0 and divisor<0) or (dividend<0 and divisor>0): \n",
    "            sign = -1\n",
    "            \n",
    "        ans = 0\n",
    "        dividend, divisor = abs(dividend), abs(divisor)\n",
    "        for i in range(32, -1, -1):\n",
    "            if dividend >= (divisor<<i):\n",
    "                dividend -= (divisor<<i)\n",
    "                ans += (1<<i)\n",
    "        \n",
    "        if sign == -1: \n",
    "            ans = -ans\n",
    "        \n",
    "        return min(2**31-1, max(-2**31, ans))"
   ]
  },
  {
   "cell_type": "code",
   "execution_count": 2,
   "metadata": {},
   "outputs": [
    {
     "data": {
      "text/plain": [
       "2147483647"
      ]
     },
     "execution_count": 2,
     "metadata": {},
     "output_type": "execute_result"
    }
   ],
   "source": [
    "Instance = Solution()\n",
    "Instance.divide(-2147483648,-1)"
   ]
  }
 ],
 "metadata": {
  "kernelspec": {
   "display_name": "Python 3",
   "language": "python",
   "name": "python3"
  },
  "language_info": {
   "codemirror_mode": {
    "name": "ipython",
    "version": 3
   },
   "file_extension": ".py",
   "mimetype": "text/x-python",
   "name": "python",
   "nbconvert_exporter": "python",
   "pygments_lexer": "ipython3",
   "version": "3.7.3"
  }
 },
 "nbformat": 4,
 "nbformat_minor": 2
}
