{
 "cells": [
  {
   "cell_type": "markdown",
   "metadata": {},
   "source": [
    "Problem Statement.\n",
    "\n",
    "Given an m x n binary grid grid where each 1 marks the home of one friend, return the minimal total travel distance.\n",
    "\n",
    "The total travel distance is the sum of the distances between the houses of the friends and the meeting point.\n",
    "\n",
    "The distance is calculated using Manhattan Distance, where distance(p1, p2) = |p2.x - p1.x| + |p2.y - p1.y|.\n",
    "\n",
    " \n",
    "\n",
    "Example 1:\n",
    "\n",
    "Input: grid = [[1,0,0,0,1],[0,0,0,0,0],[0,0,1,0,0]]\n",
    "Output: 6\n",
    "Explanation: Given three friends living at (0,0), (0,4), and (2,2).\n",
    "The point (0,2) is an ideal meeting point, as the total travel distance of 2 + 2 + 2 = 6 is minimal.\n",
    "So return 6.\n",
    "\n",
    "Example 2:\n",
    "\n",
    "Input: grid = [[1,1]]\n",
    "Output: 1\n",
    "\n",
    " \n",
    "\n",
    "Constraints:\n",
    "\n",
    "    m == grid.length\n",
    "    n == grid[i].length\n",
    "    1 <= m, n <= 200\n",
    "    grid[i][j] is either 0 or 1.\n",
    "    There will be at least two friends in the grid."
   ]
  },
  {
   "cell_type": "markdown",
   "metadata": {},
   "source": [
    "# Calculate Individual Distances - Time Limit Exceeded - O(M ^ 2 * N ^ 2) runtime, O(M * N) space"
   ]
  },
  {
   "cell_type": "code",
   "execution_count": 2,
   "metadata": {},
   "outputs": [],
   "source": [
    "from typing import List\n",
    "\n",
    "class Solution:\n",
    "    def minTotalDistance(self, grid: List[List[int]]) -> int:\n",
    "        m, n = len(grid), len(grid[0])\n",
    "        friends = [(i, j) for i in range(m) for j in range(n) if grid[i][j] == 1]\n",
    "        \n",
    "        minDistance = float('inf')\n",
    "        \n",
    "        for x in range(m):\n",
    "            for y in range(n):\n",
    "                currDistance = sum([abs(fx-x) + abs(fy-y) for fx, fy in friends])\n",
    "                minDistance = min(minDistance, currDistance)\n",
    "                \n",
    "        return minDistance"
   ]
  },
  {
   "cell_type": "markdown",
   "metadata": {},
   "source": [
    "# Median - O(M * N) runtime, O(M * N) space"
   ]
  },
  {
   "cell_type": "code",
   "execution_count": 4,
   "metadata": {},
   "outputs": [],
   "source": [
    "from typing import List\n",
    "\n",
    "class Solution:\n",
    "    def minTotalDistance(self, grid: List[List[int]]) -> int:\n",
    "        if not grid: return 0\n",
    "        \n",
    "        r, c = len(grid), len(grid[0])\n",
    "        sumr, sumc = [], []\n",
    "        \n",
    "        sumr = [i for i in range(r) for j in range(c) if grid[i][j]]\n",
    "        sumc = [j for j in range(c) for i in range(r) if grid[i][j]]\n",
    "\n",
    "        mid_row = sumr[len(sumr)//2]\n",
    "        mid_col = sumc[len(sumc)//2]\n",
    "        \n",
    "        return sum([abs(r-mid_row) for r in sumr]) + sum([abs(c-mid_col) for c in sumc])"
   ]
  },
  {
   "cell_type": "code",
   "execution_count": 5,
   "metadata": {},
   "outputs": [
    {
     "data": {
      "text/plain": [
       "6"
      ]
     },
     "execution_count": 5,
     "metadata": {},
     "output_type": "execute_result"
    }
   ],
   "source": [
    "instance = Solution()\n",
    "instance.minTotalDistance([[1,0,0,0,1],[0,0,0,0,0],[0,0,1,0,0]])"
   ]
  }
 ],
 "metadata": {
  "kernelspec": {
   "display_name": "Python 3",
   "language": "python",
   "name": "python3"
  },
  "language_info": {
   "codemirror_mode": {
    "name": "ipython",
    "version": 3
   },
   "file_extension": ".py",
   "mimetype": "text/x-python",
   "name": "python",
   "nbconvert_exporter": "python",
   "pygments_lexer": "ipython3",
   "version": "3.7.3"
  }
 },
 "nbformat": 4,
 "nbformat_minor": 2
}
