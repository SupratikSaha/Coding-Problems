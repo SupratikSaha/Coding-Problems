{
 "cells": [
  {
   "cell_type": "markdown",
   "metadata": {},
   "source": [
    "Problem Statememt.\n",
    "\n",
    "You are given an integer array nums that is sorted in non-decreasing order.\n",
    "\n",
    "Determine if it is possible to split nums into one or more subsequences such that both of the following conditions are true:\n",
    "\n",
    "    Each subsequence is a consecutive increasing sequence (i.e. each integer is exactly one more than the previous integer).\n",
    "    All subsequences have a length of 3 or more.\n",
    "\n",
    "Return true if you can split nums according to the above conditions, or false otherwise.\n",
    "\n",
    "A subsequence of an array is a new array that is formed from the original array by deleting some (can be none) of the elements without disturbing the relative positions of the remaining elements. (i.e., [1,3,5] is a subsequence of [1,2,3,4,5] while [1,3,2] is not).\n",
    "\n",
    " \n",
    "\n",
    "Example 1:\n",
    "\n",
    "Input: nums = [1,2,3,3,4,5]\n",
    "Output: true\n",
    "Explanation: nums can be split into the following subsequences:\n",
    "[1,2,3,3,4,5] --> 1, 2, 3\n",
    "[1,2,3,3,4,5] --> 3, 4, 5\n",
    "\n",
    "Example 2:\n",
    "\n",
    "Input: nums = [1,2,3,3,4,4,5,5]\n",
    "Output: true\n",
    "Explanation: nums can be split into the following subsequences:\n",
    "[1,2,3,3,4,4,5,5] --> 1, 2, 3, 4, 5\n",
    "[1,2,3,3,4,4,5,5] --> 3, 4, 5\n",
    "\n",
    "Example 3:\n",
    "\n",
    "Input: nums = [1,2,3,4,4,5]\n",
    "Output: false\n",
    "Explanation: It is impossible to split nums into consecutive increasing subsequences of length 3 or more.\n",
    "\n",
    " \n",
    "\n",
    "Constraints:\n",
    "\n",
    "    1 <= nums.length <= 104\n",
    "    -1000 <= nums[i] <= 1000\n",
    "    nums is sorted in non-decreasing order."
   ]
  },
  {
   "cell_type": "markdown",
   "metadata": {},
   "source": [
    "# List - O(N ^ 2) runtime, O(N) space"
   ]
  },
  {
   "cell_type": "code",
   "execution_count": 1,
   "metadata": {},
   "outputs": [],
   "source": [
    "from typing import List\n",
    "\n",
    "class Solution:\n",
    "    def isPossible(self, nums: List[int]) -> bool:\n",
    "        sequences = [(nums[0], 1)]\n",
    "        \n",
    "        for i in range(1, len(nums)):\n",
    "            j = len(sequences) - 1\n",
    "            while j >= 0:\n",
    "                if nums[i] == sequences[j][0] + 1:\n",
    "                    sequences[j] = (nums[i], sequences[j][1]+1)\n",
    "                    break\n",
    "                j -= 1\n",
    "            if j == -1:\n",
    "                sequences.append((nums[i], 1))\n",
    "                \n",
    "        for _, length in sequences:\n",
    "            if length < 3: return False\n",
    "            \n",
    "        return True"
   ]
  },
  {
   "cell_type": "markdown",
   "metadata": {},
   "source": [
    "# HashTable - O(N) runtime, O(N) space"
   ]
  },
  {
   "cell_type": "code",
   "execution_count": 5,
   "metadata": {},
   "outputs": [],
   "source": [
    "from typing import List\n",
    "from collections import Counter\n",
    "\n",
    "class Solution:\n",
    "    def isPossible(self, nums: List[int]) -> bool:\n",
    "        left = Counter(nums)\n",
    "        end = Counter()\n",
    "        \n",
    "        for i in nums:\n",
    "            if not left[i]: continue\n",
    "                \n",
    "            left[i] -= 1\n",
    "            if end[i - 1] > 0:\n",
    "                end[i - 1] -= 1\n",
    "                end[i] += 1\n",
    "            elif left[i + 1] and left[i + 2]:\n",
    "                left[i + 1] -= 1\n",
    "                left[i + 2] -= 1\n",
    "                end[i + 2] += 1\n",
    "            else:\n",
    "                return False\n",
    "            \n",
    "        return True"
   ]
  },
  {
   "cell_type": "code",
   "execution_count": 6,
   "metadata": {},
   "outputs": [
    {
     "data": {
      "text/plain": [
       "True"
      ]
     },
     "execution_count": 6,
     "metadata": {},
     "output_type": "execute_result"
    }
   ],
   "source": [
    "instance = Solution()\n",
    "instance.isPossible( [1,2,3,3,4,4,5,5])"
   ]
  }
 ],
 "metadata": {
  "kernelspec": {
   "display_name": "Python 3",
   "language": "python",
   "name": "python3"
  },
  "language_info": {
   "codemirror_mode": {
    "name": "ipython",
    "version": 3
   },
   "file_extension": ".py",
   "mimetype": "text/x-python",
   "name": "python",
   "nbconvert_exporter": "python",
   "pygments_lexer": "ipython3",
   "version": "3.7.3"
  }
 },
 "nbformat": 4,
 "nbformat_minor": 2
}
