{
 "cells": [
  {
   "cell_type": "markdown",
   "metadata": {},
   "source": [
    "# Insert an element lower than range and an element higher than range - O(n) runtime, O(n) space"
   ]
  },
  {
   "cell_type": "code",
   "execution_count": 5,
   "metadata": {},
   "outputs": [],
   "source": [
    "class Solution:\n",
    "    def findMissingRanges(self, nums: List[int], lower: int, upper: int) -> List[str]:\n",
    "        ranges = []\n",
    "        \n",
    "        prev = lower - 1\n",
    "        for ctr in range(len(nums)+1):\n",
    "            curr = upper + 1 if ctr == len(nums) else nums[ctr]\n",
    "            \n",
    "            if curr - prev > 1:\n",
    "                if prev + 1 == curr - 1:\n",
    "                    ranges.append(str(prev + 1))\n",
    "                else:\n",
    "                    ranges.append(str(prev + 1) + '->' + str(curr - 1))\n",
    "            \n",
    "            prev = curr\n",
    "        \n",
    "        return ranges"
   ]
  },
  {
   "cell_type": "code",
   "execution_count": 12,
   "metadata": {},
   "outputs": [
    {
     "data": {
      "text/plain": [
       "['0', '2', '4->49', '51->74', '76->99']"
      ]
     },
     "execution_count": 12,
     "metadata": {},
     "output_type": "execute_result"
    }
   ],
   "source": [
    "Instance = Solution()\n",
    "Instance.missingRanges([1, 3, 50, 75], 0, 99)"
   ]
  }
 ],
 "metadata": {
  "kernelspec": {
   "display_name": "Python 3",
   "language": "python",
   "name": "python3"
  },
  "language_info": {
   "codemirror_mode": {
    "name": "ipython",
    "version": 3
   },
   "file_extension": ".py",
   "mimetype": "text/x-python",
   "name": "python",
   "nbconvert_exporter": "python",
   "pygments_lexer": "ipython3",
   "version": "3.7.3"
  }
 },
 "nbformat": 4,
 "nbformat_minor": 2
}
