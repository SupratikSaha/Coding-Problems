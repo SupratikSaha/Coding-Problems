{
 "cells": [
  {
   "cell_type": "markdown",
   "metadata": {},
   "source": [
    "    Problem Statement.\n",
    "\n",
    "    Table: NPV\n",
    "\n",
    "    +---------------+---------+\n",
    "    | Column Name   | Type    |\n",
    "    +---------------+---------+\n",
    "    | id            | int     |\n",
    "    | year          | int     |\n",
    "    | npv           | int     |\n",
    "    +---------------+---------+\n",
    "    (id, year) is the primary key of this table.\n",
    "    The table has information about the id and the year of each inventory and the corresponding net present value.\n",
    "\n",
    "\n",
    "\n",
    "    Table: Queries\n",
    "\n",
    "    +---------------+---------+\n",
    "    | Column Name   | Type    |\n",
    "    +---------------+---------+\n",
    "    | id            | int     |\n",
    "    | year          | int     |\n",
    "    +---------------+---------+\n",
    "    (id, year) is the primary key of this table.\n",
    "    The table has information about the id and the year of each inventory query.\n",
    "\n",
    "\n",
    "\n",
    "    Write an SQL query to find the npv of each query of the Queries table.\n",
    "\n",
    "    Return the result table in any order.\n",
    "\n",
    "    The query result format is in the following example.\n",
    "\n",
    "\n",
    "\n",
    "    Example 1:\n",
    "\n",
    "    Input: \n",
    "    NPV table:\n",
    "    +------+--------+--------+\n",
    "    | id   | year   | npv    |\n",
    "    +------+--------+--------+\n",
    "    | 1    | 2018   | 100    |\n",
    "    | 7    | 2020   | 30     |\n",
    "    | 13   | 2019   | 40     |\n",
    "    | 1    | 2019   | 113    |\n",
    "    | 2    | 2008   | 121    |\n",
    "    | 3    | 2009   | 12     |\n",
    "    | 11   | 2020   | 99     |\n",
    "    | 7    | 2019   | 0      |\n",
    "    +------+--------+--------+\n",
    "    Queries table:\n",
    "    +------+--------+\n",
    "    | id   | year   |\n",
    "    +------+--------+\n",
    "    | 1    | 2019   |\n",
    "    | 2    | 2008   |\n",
    "    | 3    | 2009   |\n",
    "    | 7    | 2018   |\n",
    "    | 7    | 2019   |\n",
    "    | 7    | 2020   |\n",
    "    | 13   | 2019   |\n",
    "    +------+--------+\n",
    "    Output: \n",
    "    +------+--------+--------+\n",
    "    | id   | year   | npv    |\n",
    "    +------+--------+--------+\n",
    "    | 1    | 2019   | 113    |\n",
    "    | 2    | 2008   | 121    |\n",
    "    | 3    | 2009   | 12     |\n",
    "    | 7    | 2018   | 0      |\n",
    "    | 7    | 2019   | 0      |\n",
    "    | 7    | 2020   | 30     |\n",
    "    | 13   | 2019   | 40     |\n",
    "    +------+--------+--------+\n",
    "    Explanation: \n",
    "    The npv value of (7, 2018) is not present in the NPV table, we consider it 0.\n",
    "    The npv values of all other queries can be found in the NPV table."
   ]
  },
  {
   "cell_type": "markdown",
   "metadata": {},
   "source": [
    "# Left Join"
   ]
  },
  {
   "cell_type": "code",
   "execution_count": null,
   "metadata": {},
   "outputs": [],
   "source": [
    "select q.id, q.year, coalesce(npv, 0) as npv\n",
    "from Queries q\n",
    "left join NPV n on q.id = n.id and q.year=n.year"
   ]
  }
 ],
 "metadata": {
  "kernelspec": {
   "display_name": "Python 3",
   "language": "python",
   "name": "python3"
  },
  "language_info": {
   "codemirror_mode": {
    "name": "ipython",
    "version": 3
   },
   "file_extension": ".py",
   "mimetype": "text/x-python",
   "name": "python",
   "nbconvert_exporter": "python",
   "pygments_lexer": "ipython3",
   "version": "3.7.3"
  }
 },
 "nbformat": 4,
 "nbformat_minor": 2
}
