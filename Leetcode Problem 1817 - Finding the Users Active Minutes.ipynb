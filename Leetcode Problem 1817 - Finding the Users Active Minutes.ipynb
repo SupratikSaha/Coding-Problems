{
 "cells": [
  {
   "cell_type": "markdown",
   "metadata": {},
   "source": [
    "Problem Statement.\n",
    "\n",
    "You are given the logs for users' actions on LeetCode, and an integer k. The logs are represented by a 2D integer array logs where each logs[i] = [IDi, timei] indicates that the user with IDi performed an action at the minute timei.\n",
    "\n",
    "Multiple users can perform actions simultaneously, and a single user can perform multiple actions in the same minute.\n",
    "\n",
    "The user active minutes (UAM) for a given user is defined as the number of unique minutes in which the user performed an action on LeetCode. A minute can only be counted once, even if multiple actions occur during it.\n",
    "\n",
    "You are to calculate a 1-indexed array answer of size k such that, for each j (1 <= j <= k), answer[j] is the number of users whose UAM equals j.\n",
    "\n",
    "Return the array answer as described above.\n",
    "\n",
    " \n",
    "\n",
    "Example 1:\n",
    "\n",
    "Input: logs = [[0,5],[1,2],[0,2],[0,5],[1,3]], k = 5\n",
    "Output: [0,2,0,0,0]\n",
    "Explanation:\n",
    "The user with ID=0 performed actions at minutes 5, 2, and 5 again. Hence, they have a UAM of 2 (minute 5 is only counted once).\n",
    "The user with ID=1 performed actions at minutes 2 and 3. Hence, they have a UAM of 2.\n",
    "Since both users have a UAM of 2, answer[2] is 2, and the remaining answer[j] values are 0.\n",
    "\n",
    "Example 2:\n",
    "\n",
    "Input: logs = [[1,1],[2,2],[2,3]], k = 4\n",
    "Output: [1,1,0,0]\n",
    "Explanation:\n",
    "The user with ID=1 performed a single action at minute 1. Hence, they have a UAM of 1.\n",
    "The user with ID=2 performed actions at minutes 2 and 3. Hence, they have a UAM of 2.\n",
    "There is one user with a UAM of 1 and one with a UAM of 2.\n",
    "Hence, answer[1] = 1, answer[2] = 1, and the remaining values are 0.\n",
    "\n",
    " \n",
    "\n",
    "Constraints:\n",
    "\n",
    "    1 <= logs.length <= 10^4\n",
    "    0 <= IDi <= 10^9\n",
    "    1 <= timei <= 10^5\n",
    "    k is in the range [The maximum UAM for a user, 10^5]."
   ]
  },
  {
   "cell_type": "markdown",
   "metadata": {},
   "source": [
    "# Hash Table - O(N + I) runtime, O(N) space where I is the number of unique Ids"
   ]
  },
  {
   "cell_type": "code",
   "execution_count": 1,
   "metadata": {},
   "outputs": [],
   "source": [
    "from typing import List\n",
    "from collections import defaultdict\n",
    "\n",
    "class Solution:\n",
    "    def findingUsersActiveMinutes(self, logs: List[List[int]], k: int) -> List[int]:\n",
    "        timeDict = defaultdict(set)\n",
    "        \n",
    "        for id, time in logs:\n",
    "            timeDict[id].add(time)\n",
    "            \n",
    "        res = [0] * k\n",
    "        for timeSet in timeDict.values():\n",
    "            l = len(timeSet)\n",
    "            res[l-1] += 1\n",
    "                \n",
    "        return res"
   ]
  },
  {
   "cell_type": "code",
   "execution_count": 2,
   "metadata": {},
   "outputs": [
    {
     "data": {
      "text/plain": [
       "[0, 2, 0, 0, 0]"
      ]
     },
     "execution_count": 2,
     "metadata": {},
     "output_type": "execute_result"
    }
   ],
   "source": [
    "instance = Solution()\n",
    "instance.findingUsersActiveMinutes([[0,5],[1,2],[0,2],[0,5],[1,3]], 5)"
   ]
  }
 ],
 "metadata": {
  "kernelspec": {
   "display_name": "Python 3",
   "language": "python",
   "name": "python3"
  },
  "language_info": {
   "codemirror_mode": {
    "name": "ipython",
    "version": 3
   },
   "file_extension": ".py",
   "mimetype": "text/x-python",
   "name": "python",
   "nbconvert_exporter": "python",
   "pygments_lexer": "ipython3",
   "version": "3.7.3"
  }
 },
 "nbformat": 4,
 "nbformat_minor": 2
}
