{
 "cells": [
  {
   "cell_type": "markdown",
   "metadata": {},
   "source": [
    "Problem Statement.\n",
    "\n",
    "Given two sorted 0-indexed integer arrays nums1 and nums2 as well as an integer k, return the kth (1-based) smallest product of nums1[i] * nums2[j] where 0 <= i < nums1.length and 0 <= j < nums2.length.\n",
    "\n",
    " \n",
    "\n",
    "Example 1:\n",
    "\n",
    "Input: nums1 = [2,5], nums2 = [3,4], k = 2\n",
    "Output: 8\n",
    "Explanation: The 2 smallest products are:\n",
    "- nums1[0] * nums2[0] = 2 * 3 = 6\n",
    "- nums1[0] * nums2[1] = 2 * 4 = 8\n",
    "The 2nd smallest product is 8.\n",
    "\n",
    "Example 2:\n",
    "\n",
    "Input: nums1 = [-4,-2,0,3], nums2 = [2,4], k = 6\n",
    "Output: 0\n",
    "Explanation: The 6 smallest products are:\n",
    "- nums1[0] * nums2[1] = (-4) * 4 = -16\n",
    "- nums1[0] * nums2[0] = (-4) * 2 = -8\n",
    "- nums1[1] * nums2[1] = (-2) * 4 = -8\n",
    "- nums1[1] * nums2[0] = (-2) * 2 = -4\n",
    "- nums1[2] * nums2[0] = 0 * 2 = 0\n",
    "- nums1[2] * nums2[1] = 0 * 4 = 0\n",
    "The 6th smallest product is 0.\n",
    "\n",
    "Example 3:\n",
    "\n",
    "Input: nums1 = [-2,-1,0,1,2], nums2 = [-3,-1,2,4,5], k = 3\n",
    "Output: -6\n",
    "Explanation: The 3 smallest products are:\n",
    "- nums1[0] * nums2[4] = (-2) * 5 = -10\n",
    "- nums1[0] * nums2[3] = (-2) * 4 = -8\n",
    "- nums1[4] * nums2[0] = 2 * (-3) = -6\n",
    "The 3rd smallest product is -6.\n",
    "\n",
    " \n",
    "\n",
    "Constraints:\n",
    "\n",
    "    1 <= nums1.length, nums2.length <= 5 * 104\n",
    "    -105 <= nums1[i], nums2[j] <= 105\n",
    "    1 <= k <= nums1.length * nums2.length\n",
    "    nums1 and nums2 are sorted."
   ]
  },
  {
   "cell_type": "markdown",
   "metadata": {},
   "source": [
    "# Binary Search - O(N * Log M * log (10^10 + 10)) runtime, O(1) space"
   ]
  },
  {
   "cell_type": "code",
   "execution_count": 5,
   "metadata": {},
   "outputs": [],
   "source": [
    "from typing import List\n",
    "from math import ceil\n",
    "from bisect import bisect_left, bisect_right\n",
    "\n",
    "class Solution:\n",
    "    def kthSmallestProduct(self, nums1: List[int], nums2: List[int], k: int) -> int:\n",
    "        def check(x):\n",
    "            total = 0\n",
    "            for n1 in nums1:\n",
    "                if n1 > 0: total += bisect_right(nums2, x//n1)\n",
    "                if n1 < 0: total += len(nums2) - bisect_left(nums2, ceil(x/n1))\n",
    "                if n1 == 0 and x >= 0: total += len(nums2)\n",
    "\n",
    "            return total\n",
    "\n",
    "        beg, end = -10**10 - 1, 10**10 + 1\n",
    "\n",
    "        while beg + 1 < end:\n",
    "            mid = (beg + end)//2\n",
    "            if check(mid) >= k:\n",
    "                end = mid\n",
    "            else:\n",
    "                beg = mid\n",
    "\n",
    "        return beg + 1"
   ]
  },
  {
   "cell_type": "markdown",
   "metadata": {},
   "source": [
    "# Binary Search - O((N + M) * Log(10^10 + 10)) runtime, O(N + M) space"
   ]
  },
  {
   "cell_type": "code",
   "execution_count": 8,
   "metadata": {},
   "outputs": [],
   "source": [
    "from typing import List\n",
    "\n",
    "class Solution:\n",
    "    def kthSmallestProduct(self, nums1: List[int], nums2: List[int], k: int) -> int:\n",
    "        neg = [x for x in nums1 if x < 0]\n",
    "        pos = [x for x in nums1 if x >= 0]\n",
    "        \n",
    "        def fn(val):\n",
    "            ans = 0\n",
    "            lo, hi = 0, len(nums2)-1\n",
    "            for x in neg[::-1] + pos if val >= 0 else neg + pos[::-1]: \n",
    "                if x < 0: \n",
    "                    while lo < len(nums2) and x*nums2[lo] > val: lo += 1\n",
    "                    ans += len(nums2) - lo\n",
    "                elif x == 0: \n",
    "                    if 0 <= val: ans += len(nums2)\n",
    "                else: \n",
    "                    while 0 <= hi and x*nums2[hi] > val: hi -= 1\n",
    "                    ans += hi+1\n",
    "            return ans \n",
    "        \n",
    "        lo, hi = -10**10, 10**10 + 1\n",
    "        while lo < hi: \n",
    "            mid = (lo + hi)//2\n",
    "            if fn(mid) < k: lo = mid + 1\n",
    "            else: hi = mid\n",
    "        return lo "
   ]
  },
  {
   "cell_type": "code",
   "execution_count": 9,
   "metadata": {},
   "outputs": [
    {
     "data": {
      "text/plain": [
       "-6"
      ]
     },
     "execution_count": 9,
     "metadata": {},
     "output_type": "execute_result"
    }
   ],
   "source": [
    "instance = Solution()\n",
    "instance.kthSmallestProduct([-2,-1,0,1,2], [-3,-1,2,4,5], 3)"
   ]
  }
 ],
 "metadata": {
  "kernelspec": {
   "display_name": "Python 3",
   "language": "python",
   "name": "python3"
  },
  "language_info": {
   "codemirror_mode": {
    "name": "ipython",
    "version": 3
   },
   "file_extension": ".py",
   "mimetype": "text/x-python",
   "name": "python",
   "nbconvert_exporter": "python",
   "pygments_lexer": "ipython3",
   "version": "3.7.3"
  }
 },
 "nbformat": 4,
 "nbformat_minor": 2
}
