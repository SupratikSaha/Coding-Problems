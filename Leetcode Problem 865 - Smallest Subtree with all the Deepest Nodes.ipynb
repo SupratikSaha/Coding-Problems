{
 "cells": [
  {
   "cell_type": "markdown",
   "metadata": {},
   "source": [
    "Problem Statement.\n",
    "\n",
    "Given the root of a binary tree, the depth of each node is the shortest distance to the root.\n",
    "\n",
    "Return the smallest subtree such that it contains all the deepest nodes in the original tree.\n",
    "\n",
    "A node is called the deepest if it has the largest depth possible among any node in the entire tree.\n",
    "\n",
    "The subtree of a node is a tree consisting of that node, plus the set of all descendants of that node.\n",
    "\n",
    " \n",
    "\n",
    "Example 1:\n",
    "\n",
    "Input: root = [3,5,1,6,2,0,8,null,null,7,4]\n",
    "Output: [2,7,4]\n",
    "Explanation: We return the node with value 2, colored in yellow in the diagram.\n",
    "The nodes coloured in blue are the deepest nodes of the tree.\n",
    "Notice that nodes 5, 3 and 2 contain the deepest nodes in the tree but node 2 is the smallest subtree among them, so we return it.\n",
    "\n",
    "Example 2:\n",
    "\n",
    "Input: root = [1]\n",
    "Output: [1]\n",
    "Explanation: The root is the deepest node in the tree.\n",
    "\n",
    "Example 3:\n",
    "\n",
    "Input: root = [0,1,3,null,2]\n",
    "Output: [2]\n",
    "Explanation: The deepest node in the tree is 2, the valid subtrees are the subtrees of nodes 2, 1 and 0 but the subtree of node 2 is the smallest.\n",
    "\n",
    " \n",
    "\n",
    "Constraints:\n",
    "\n",
    "    The number of nodes in the tree will be in the range [1, 500].\n",
    "    0 <= Node.val <= 500\n",
    "    The values of the nodes in the tree are unique.\n",
    "\n",
    " \n",
    "\n",
    "Note: This question is the same as 1123: https://leetcode.com/problems/lowest-common-ancestor-of-deepest-leaves/"
   ]
  },
  {
   "cell_type": "markdown",
   "metadata": {},
   "source": [
    "# DFS - O(N) runtime, O(N) space"
   ]
  },
  {
   "cell_type": "code",
   "execution_count": 1,
   "metadata": {},
   "outputs": [],
   "source": [
    "# Definition for a binary tree node.\n",
    "# class TreeNode:\n",
    "#     def __init__(self, val=0, left=None, right=None):\n",
    "#         self.val = val\n",
    "#         self.left = left\n",
    "#         self.right = right\n",
    "\n",
    "class Solution:\n",
    "    def subtreeWithAllDeepest(self, root: TreeNode) -> TreeNode:\n",
    "        \n",
    "        def dfs(node):\n",
    "            if not node: return None, 0\n",
    "            \n",
    "            lNode, lDist = dfs(node.left)\n",
    "            rNode, rDist = dfs(node.right)\n",
    "            \n",
    "            if lDist > rDist: return lNode, lDist+1\n",
    "            if lDist < rDist: return rNode, rDist+1\n",
    "            \n",
    "            return node, lDist+1\n",
    "\n",
    "        return dfs(root)[0]"
   ]
  }
 ],
 "metadata": {
  "kernelspec": {
   "display_name": "Python 3",
   "language": "python",
   "name": "python3"
  },
  "language_info": {
   "codemirror_mode": {
    "name": "ipython",
    "version": 3
   },
   "file_extension": ".py",
   "mimetype": "text/x-python",
   "name": "python",
   "nbconvert_exporter": "python",
   "pygments_lexer": "ipython3",
   "version": "3.7.3"
  }
 },
 "nbformat": 4,
 "nbformat_minor": 2
}
