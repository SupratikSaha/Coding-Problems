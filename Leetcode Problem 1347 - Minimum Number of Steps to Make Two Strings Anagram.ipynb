{
 "cells": [
  {
   "cell_type": "markdown",
   "metadata": {},
   "source": [
    "Problem Statement.\n",
    "\n",
    "Given two equal-size strings s and t. In one step you can choose any character of t and replace it with another character.\n",
    "\n",
    "Return the minimum number of steps to make t an anagram of s.\n",
    "\n",
    "An Anagram of a string is a string that contains the same characters with a different (or the same) ordering.\n",
    "\n",
    " \n",
    "\n",
    "Example 1:\n",
    "\n",
    "Input: s = \"bab\", t = \"aba\"\n",
    "Output: 1\n",
    "Explanation: Replace the first 'a' in t with b, t = \"bba\" which is anagram of s.\n",
    "\n",
    "Example 2:\n",
    "\n",
    "Input: s = \"leetcode\", t = \"practice\"\n",
    "Output: 5\n",
    "Explanation: Replace 'p', 'r', 'a', 'i' and 'c' from t with proper characters to make t anagram of s.\n",
    "\n",
    "Example 3:\n",
    "\n",
    "Input: s = \"anagram\", t = \"mangaar\"\n",
    "Output: 0\n",
    "Explanation: \"anagram\" and \"mangaar\" are anagrams. \n",
    "\n",
    "Example 4:\n",
    "\n",
    "Input: s = \"xxyyzz\", t = \"xxyyzz\"\n",
    "Output: 0\n",
    "\n",
    "Example 5:\n",
    "\n",
    "Input: s = \"friend\", t = \"family\"\n",
    "Output: 4\n",
    "\n",
    " \n",
    "\n",
    "Constraints:\n",
    "\n",
    "    1 <= s.length <= 50000\n",
    "    s.length == t.length\n",
    "    s and t contain lower-case English letters only."
   ]
  },
  {
   "cell_type": "markdown",
   "metadata": {},
   "source": [
    "# Hash Table - O(S + T) runtime, O(S) space"
   ]
  },
  {
   "cell_type": "code",
   "execution_count": 1,
   "metadata": {},
   "outputs": [],
   "source": [
    "from collections import Counter, defaultdict\n",
    "\n",
    "class Solution:\n",
    "    def minSteps(self, s: str, t: str) -> int:\n",
    "        counterS = Counter(s)\n",
    "        counterT = defaultdict(int)\n",
    "        \n",
    "        res = 0\n",
    "        \n",
    "        for c in t:\n",
    "            if c not in counterS or counterT[c] == counterS[c]: res += 1\n",
    "            elif c in counterS : counterT[c] += 1\n",
    "                \n",
    "        return res"
   ]
  },
  {
   "cell_type": "code",
   "execution_count": 2,
   "metadata": {},
   "outputs": [
    {
     "data": {
      "text/plain": [
       "4"
      ]
     },
     "execution_count": 2,
     "metadata": {},
     "output_type": "execute_result"
    }
   ],
   "source": [
    "instance = Solution()\n",
    "instance.minSteps(\"friend\", \"family\")"
   ]
  }
 ],
 "metadata": {
  "kernelspec": {
   "display_name": "Python 3",
   "language": "python",
   "name": "python3"
  },
  "language_info": {
   "codemirror_mode": {
    "name": "ipython",
    "version": 3
   },
   "file_extension": ".py",
   "mimetype": "text/x-python",
   "name": "python",
   "nbconvert_exporter": "python",
   "pygments_lexer": "ipython3",
   "version": "3.7.3"
  }
 },
 "nbformat": 4,
 "nbformat_minor": 2
}
