{
 "cells": [
  {
   "cell_type": "markdown",
   "metadata": {},
   "source": [
    "Problem Statement.\n",
    "\n",
    "A transformation sequence from word beginWord to word endWord using a dictionary wordList is a sequence of words beginWord -> s1 -> s2 -> ... -> sk such that:\n",
    "\n",
    "    Every adjacent pair of words differs by a single letter.\n",
    "    Every si for 1 <= i <= k is in wordList. Note that beginWord does not need to be in wordList.\n",
    "    sk == endWord\n",
    "\n",
    "Given two words, beginWord and endWord, and a dictionary wordList, return all the shortest transformation sequences from beginWord to endWord, or an empty list if no such sequence exists. Each sequence should be returned as a list of the words [beginWord, s1, s2, ..., sk].\n",
    "\n",
    " \n",
    "\n",
    "Example 1:\n",
    "\n",
    "Input: beginWord = \"hit\", endWord = \"cog\", wordList = [\"hot\",\"dot\",\"dog\",\"lot\",\"log\",\"cog\"]\n",
    "Output: [[\"hit\",\"hot\",\"dot\",\"dog\",\"cog\"],[\"hit\",\"hot\",\"lot\",\"log\",\"cog\"]]\n",
    "Explanation: There are 2 shortest transformation sequences:\n",
    "\"hit\" -> \"hot\" -> \"dot\" -> \"dog\" -> \"cog\"\n",
    "\"hit\" -> \"hot\" -> \"lot\" -> \"log\" -> \"cog\"\n",
    "\n",
    "Example 2:\n",
    "\n",
    "Input: beginWord = \"hit\", endWord = \"cog\", wordList = [\"hot\",\"dot\",\"dog\",\"lot\",\"log\"]\n",
    "Output: []\n",
    "Explanation: The endWord \"cog\" is not in wordList, therefore there is no valid transformation sequence.\n",
    "\n",
    " \n",
    "\n",
    "Constraints:\n",
    "\n",
    "    1 <= beginWord.length <= 5\n",
    "    endWord.length == beginWord.length\n",
    "    1 <= wordList.length <= 1000\n",
    "    wordList[i].length == beginWord.length\n",
    "    beginWord, endWord, and wordList[i] consist of lowercase English letters.\n",
    "    beginWord != endWord\n",
    "    All the words in wordList are unique."
   ]
  },
  {
   "cell_type": "markdown",
   "metadata": {},
   "source": [
    "# Bidirectional BFS - O(N * K ^ 2 + A) runtime, O(N * K) space, where N is the is the Number of words in wordList, K is the maximum length of a word, A is the Number of possible paths from beginWord to endWord"
   ]
  },
  {
   "cell_type": "code",
   "execution_count": 2,
   "metadata": {},
   "outputs": [],
   "source": [
    "from typing import List\n",
    "from collections import defaultdict\n",
    "\n",
    "class Solution:\n",
    "    def findLadders(self, beginWord: str, endWord: str, wordList: List[str]) -> List[List[str]]:\n",
    "        tree, words, n = defaultdict(set), set(wordList), len(beginWord)\n",
    "\n",
    "        if endWord not in wordList: return []\n",
    "\n",
    "        found, bq, eq, nq, rev = False, {beginWord}, {endWord}, set(), False\n",
    "\n",
    "        while bq and not found:\n",
    "            words -= set(bq)\n",
    "            for x in bq:\n",
    "                for y in [x[:i]+c+x[i+1:] for i in range(n) for c in 'qwertyuiopasdfghjklzxcvbnm']:\n",
    "                    if y in words:\n",
    "                        if y in eq: \n",
    "                            found = True\n",
    "                        else: \n",
    "                            nq.add(y)\n",
    "                        tree[y].add(x) if rev else tree[x].add(y)\n",
    "\n",
    "            bq, nq = nq, set()\n",
    "            if len(bq) > len(eq): \n",
    "                bq, eq, rev = eq, bq, not rev\n",
    "\n",
    "        def bt(x): \n",
    "            return [[x]] if x == endWord else [[x] + rest for y in tree[x] for rest in bt(y)]\n",
    "        \n",
    "        return bt(beginWord)"
   ]
  },
  {
   "cell_type": "code",
   "execution_count": 4,
   "metadata": {},
   "outputs": [
    {
     "data": {
      "text/plain": [
       "[['hit', 'hot', 'lot', 'log', 'cog'], ['hit', 'hot', 'dot', 'dog', 'cog']]"
      ]
     },
     "execution_count": 4,
     "metadata": {},
     "output_type": "execute_result"
    }
   ],
   "source": [
    "instance = Solution()\n",
    "instance.findLadders(\"hit\", \"cog\", [\"hot\",\"dot\",\"dog\",\"lot\",\"log\",\"cog\"])"
   ]
  }
 ],
 "metadata": {
  "kernelspec": {
   "display_name": "Python 3",
   "language": "python",
   "name": "python3"
  },
  "language_info": {
   "codemirror_mode": {
    "name": "ipython",
    "version": 3
   },
   "file_extension": ".py",
   "mimetype": "text/x-python",
   "name": "python",
   "nbconvert_exporter": "python",
   "pygments_lexer": "ipython3",
   "version": "3.7.3"
  }
 },
 "nbformat": 4,
 "nbformat_minor": 2
}
