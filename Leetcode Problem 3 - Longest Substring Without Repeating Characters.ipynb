{
 "cells": [
  {
   "cell_type": "code",
   "execution_count": 19,
   "metadata": {},
   "outputs": [],
   "source": [
    "class Solution:\n",
    "    def lengthOfLongestSubstring(self, s):\n",
    "        \n",
    "        if not isinstance(s,(str)):\n",
    "            return 0\n",
    "        \n",
    "        length = len(s)\n",
    "        \n",
    "        arr =[]\n",
    "        longest_len = 0\n",
    "        \n",
    "        for ctr in range(length):\n",
    "            \n",
    "            if s[ctr] in arr:\n",
    "                longest_len = max(len(arr),longest_len)\n",
    "                pos = arr.index(s[ctr]) + 1\n",
    "                arr = arr[pos:]\n",
    "                arr.append(s[ctr])\n",
    "            else:\n",
    "                arr.append(s[ctr])\n",
    "        \n",
    "            longest_len = max(len(arr),longest_len)\n",
    "        \n",
    "        return longest_len"
   ]
  },
  {
   "cell_type": "code",
   "execution_count": 23,
   "metadata": {},
   "outputs": [
    {
     "data": {
      "text/plain": [
       "4"
      ]
     },
     "execution_count": 23,
     "metadata": {},
     "output_type": "execute_result"
    }
   ],
   "source": [
    "Instance = Solution()\n",
    "Instance.lengthOfLongestSubstring('abacd')"
   ]
  }
 ],
 "metadata": {
  "kernelspec": {
   "display_name": "Python 3",
   "language": "python",
   "name": "python3"
  },
  "language_info": {
   "codemirror_mode": {
    "name": "ipython",
    "version": 3
   },
   "file_extension": ".py",
   "mimetype": "text/x-python",
   "name": "python",
   "nbconvert_exporter": "python",
   "pygments_lexer": "ipython3",
   "version": "3.7.3"
  }
 },
 "nbformat": 4,
 "nbformat_minor": 2
}
