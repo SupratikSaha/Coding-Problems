{
 "cells": [
  {
   "cell_type": "markdown",
   "metadata": {},
   "source": [
    "# Store sub strings in an array and run through the string and the array O(n) runtime, O(1) space - Two pass as the array needs a separate pass"
   ]
  },
  {
   "cell_type": "code",
   "execution_count": 18,
   "metadata": {},
   "outputs": [],
   "source": [
    "class Solution:\n",
    "    def lengthOfLongestSubstring(self, s: str) -> int:\n",
    "        \n",
    "        length, longest_len = len(s), 0\n",
    "        arr =[]\n",
    "        \n",
    "        for ctr in range(length):      \n",
    "            if s[ctr] in arr:\n",
    "                pos = arr.index(s[ctr]) + 1\n",
    "                arr = arr[pos:]\n",
    "                \n",
    "            arr.append(s[ctr])       \n",
    "            longest_len = max(len(arr),longest_len)\n",
    "        \n",
    "        return longest_len"
   ]
  },
  {
   "cell_type": "markdown",
   "metadata": {},
   "source": [
    "# Use a dictionary - O(n) runtime and O(1) space - pass only once as dictionary traversal does not need pass"
   ]
  },
  {
   "cell_type": "code",
   "execution_count": 22,
   "metadata": {},
   "outputs": [],
   "source": [
    "class Solution:\n",
    "    def lengthOfLongestSubstring(self, s: str) -> int:\n",
    "        dict_string = dict()\n",
    "        \n",
    "        begin, length, maxLen = 0, len(s), 0\n",
    "        \n",
    "        for ctr in range(length):\n",
    "            if s[ctr] in dict_string and dict_string[s[ctr]] >= begin:\n",
    "                    begin = dict_string[s[ctr]] + 1\n",
    "            else:\n",
    "                maxLen = max(ctr - begin + 1, maxLen)\n",
    "                \n",
    "            dict_string[s[ctr]] = ctr\n",
    "            \n",
    "        return maxLen"
   ]
  },
  {
   "cell_type": "code",
   "execution_count": 23,
   "metadata": {},
   "outputs": [
    {
     "data": {
      "text/plain": [
       "5"
      ]
     },
     "execution_count": 23,
     "metadata": {},
     "output_type": "execute_result"
    }
   ],
   "source": [
    "Instance = Solution()\n",
    "Instance.lengthOfLongestSubstring('abacdaef')"
   ]
  }
 ],
 "metadata": {
  "kernelspec": {
   "display_name": "Python 3",
   "language": "python",
   "name": "python3"
  },
  "language_info": {
   "codemirror_mode": {
    "name": "ipython",
    "version": 3
   },
   "file_extension": ".py",
   "mimetype": "text/x-python",
   "name": "python",
   "nbconvert_exporter": "python",
   "pygments_lexer": "ipython3",
   "version": "3.7.3"
  }
 },
 "nbformat": 4,
 "nbformat_minor": 2
}
