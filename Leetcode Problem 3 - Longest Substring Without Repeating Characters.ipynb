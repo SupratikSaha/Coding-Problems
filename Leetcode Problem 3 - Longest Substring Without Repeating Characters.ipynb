{
 "cells": [
  {
   "cell_type": "markdown",
   "metadata": {},
   "source": [
    "Given a string, find the length of the longest substring without repeating characters.\n",
    "\n",
    "Example 1:\n",
    "\n",
    "Input: \"abcabcbb\" Output: 3 Explanation: The answer is \"abc\", with the length of 3.\n",
    "\n",
    "Example 2:\n",
    "\n",
    "Input: \"bbbbb\" Output: 1 Explanation: The answer is \"b\", with the length of 1.\n",
    "\n",
    "Example 3:\n",
    "\n",
    "Input: \"pwwkew\" Output: 3 Explanation: The answer is \"wke\", with the length of 3. Note that the answer must be a substring, \"pwke\" is a subsequence and not a substring."
   ]
  },
  {
   "cell_type": "markdown",
   "metadata": {},
   "source": [
    "# Store sub strings in an array and run through the string and the array O(n) runtime, O(1) space - Two pass as the array needs a separate pass"
   ]
  },
  {
   "cell_type": "code",
   "execution_count": 18,
   "metadata": {},
   "outputs": [],
   "source": [
    "class Solution:\n",
    "    def lengthOfLongestSubstring(self, s: str) -> int:\n",
    "        \n",
    "        length, longest_len = len(s), 0\n",
    "        arr =[]\n",
    "        \n",
    "        for ctr in range(length):      \n",
    "            if s[ctr] in arr:\n",
    "                pos = arr.index(s[ctr]) + 1\n",
    "                arr = arr[pos:]\n",
    "                \n",
    "            arr.append(s[ctr])       \n",
    "            longest_len = max(len(arr),longest_len)\n",
    "        \n",
    "        return longest_len"
   ]
  },
  {
   "cell_type": "markdown",
   "metadata": {},
   "source": [
    "# Using a Set - O(n) runtime, O(min(m, n)) where n is the string length and m is the charset length"
   ]
  },
  {
   "cell_type": "code",
   "execution_count": 5,
   "metadata": {},
   "outputs": [],
   "source": [
    "class Solution:\n",
    "    def lengthOfLongestSubstring(self, s: str) -> int:\n",
    "        n = len(s)\n",
    "        \n",
    "        arr = set()\n",
    "        ans = i = j = 0\n",
    "        \n",
    "        while i < n and j < n:\n",
    "            if s[j] not in arr:\n",
    "                arr.add(s[j])\n",
    "                j += 1\n",
    "                ans = max(ans, j - i)\n",
    "            else:\n",
    "                arr.remove(s[i])\n",
    "                i += 1   \n",
    "\n",
    "        return ans"
   ]
  },
  {
   "cell_type": "markdown",
   "metadata": {},
   "source": [
    "# Use a dictionary - O(n) runtime and O(min(m, n)) space"
   ]
  },
  {
   "cell_type": "code",
   "execution_count": 22,
   "metadata": {},
   "outputs": [],
   "source": [
    "class Solution:\n",
    "    def lengthOfLongestSubstring(self, s: str) -> int:\n",
    "        dict_string = dict()\n",
    "        \n",
    "        begin, length, maxLen = 0, len(s), 0\n",
    "        \n",
    "        for ctr in range(length):\n",
    "            if s[ctr] in dict_string and dict_string[s[ctr]] >= begin:\n",
    "                    begin = dict_string[s[ctr]] + 1\n",
    "            else:\n",
    "                maxLen = max(ctr - begin + 1, maxLen)\n",
    "                \n",
    "            dict_string[s[ctr]] = ctr\n",
    "            \n",
    "        return maxLen"
   ]
  },
  {
   "cell_type": "markdown",
   "metadata": {},
   "source": [
    "# Using a character set - O(n) runtime and O(min(m, n)) space "
   ]
  },
  {
   "cell_type": "code",
   "execution_count": 3,
   "metadata": {},
   "outputs": [],
   "source": [
    "from collections import defaultdict\n",
    "\n",
    "class Solution:\n",
    "    def lengthOfLongestSubstring(self, s: str) -> int:\n",
    "        n = len(s)\n",
    "        \n",
    "        char_set = defaultdict()\n",
    "        ans = i = 0\n",
    "        \n",
    "        for j, char in enumerate(s):\n",
    "                i = max(char_set[s[j]], i) if s[j] in char_set else i\n",
    "                ans = max(ans, j - i + 1)\n",
    "                char_set[s[j]] = j + 1\n",
    "\n",
    "        return ans"
   ]
  },
  {
   "cell_type": "code",
   "execution_count": 6,
   "metadata": {},
   "outputs": [
    {
     "data": {
      "text/plain": [
       "5"
      ]
     },
     "execution_count": 6,
     "metadata": {},
     "output_type": "execute_result"
    }
   ],
   "source": [
    "Instance = Solution()\n",
    "Instance.lengthOfLongestSubstring('abacdaef')"
   ]
  }
 ],
 "metadata": {
  "kernelspec": {
   "display_name": "Python 3",
   "language": "python",
   "name": "python3"
  },
  "language_info": {
   "codemirror_mode": {
    "name": "ipython",
    "version": 3
   },
   "file_extension": ".py",
   "mimetype": "text/x-python",
   "name": "python",
   "nbconvert_exporter": "python",
   "pygments_lexer": "ipython3",
   "version": "3.7.3"
  }
 },
 "nbformat": 4,
 "nbformat_minor": 2
}
