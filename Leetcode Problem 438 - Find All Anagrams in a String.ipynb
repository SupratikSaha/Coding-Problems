{
 "cells": [
  {
   "cell_type": "markdown",
   "metadata": {},
   "source": [
    "Problem Statement.\n",
    "\n",
    "Given two strings s and p, return an array of all the start indices of p's anagrams in s. You may return the answer in any order.\n",
    "\n",
    "An Anagram is a word or phrase formed by rearranging the letters of a different word or phrase, typically using all the original letters exactly once.\n",
    "\n",
    " \n",
    "\n",
    "Example 1:\n",
    "\n",
    "Input: s = \"cbaebabacd\", p = \"abc\"\n",
    "Output: [0,6]\n",
    "Explanation:\n",
    "The substring with start index = 0 is \"cba\", which is an anagram of \"abc\".\n",
    "The substring with start index = 6 is \"bac\", which is an anagram of \"abc\".\n",
    "\n",
    "Example 2:\n",
    "\n",
    "Input: s = \"abab\", p = \"ab\"\n",
    "Output: [0,1,2]\n",
    "Explanation:\n",
    "The substring with start index = 0 is \"ab\", which is an anagram of \"ab\".\n",
    "The substring with start index = 1 is \"ba\", which is an anagram of \"ab\".\n",
    "The substring with start index = 2 is \"ab\", which is an anagram of \"ab\".\n",
    "\n",
    " \n",
    "\n",
    "Constraints:\n",
    "\n",
    "    1 <= s.length, p.length <= 3 * 10^4\n",
    "    s and p consist of lowercase English letters."
   ]
  },
  {
   "cell_type": "markdown",
   "metadata": {},
   "source": [
    "# Sliding Window - O(S + P) runtime, O(1) space"
   ]
  },
  {
   "cell_type": "code",
   "execution_count": 2,
   "metadata": {},
   "outputs": [],
   "source": [
    "from typing import List\n",
    "from collections import Counter, defaultdict\n",
    "\n",
    "class Solution:\n",
    "    def findAnagrams(self, s: str, p: str) -> List[int]:\n",
    "        charDictP = Counter(p)\n",
    "        numchars, required = 0, len(charDictP)\n",
    "        \n",
    "        charDictS = defaultdict(int)\n",
    "        left = 0\n",
    "        lenP = len(p)\n",
    "        res = []\n",
    "        \n",
    "        for right, char in enumerate(s):\n",
    "            if s[right] not in charDictP:\n",
    "                left = right + 1\n",
    "                charDictS = defaultdict(int)\n",
    "                numchars = 0\n",
    "                continue\n",
    "            \n",
    "            charDictS[char] += 1\n",
    "            if charDictS[char] == charDictP[char]:\n",
    "                numchars += 1\n",
    "                if numchars == required:\n",
    "                    res.append(left)\n",
    "                    \n",
    "            if right - left + 1 == lenP:\n",
    "                leftchar = s[left]\n",
    "                if charDictS[leftchar] == charDictP[leftchar]:\n",
    "                    numchars -= 1\n",
    "                charDictS[leftchar] -= 1\n",
    "                left += 1\n",
    "                \n",
    "        return res"
   ]
  },
  {
   "cell_type": "markdown",
   "metadata": {},
   "source": [
    "# Simpler Sliding Window - O(S + P) runtime, O(1) space"
   ]
  },
  {
   "cell_type": "code",
   "execution_count": 4,
   "metadata": {},
   "outputs": [],
   "source": [
    "from typing import List\n",
    "from collections import Counter\n",
    "\n",
    "class Solution:\n",
    "    def findAnagrams(self, s: str, p: str) -> List[int]:\n",
    "        ns, np = len(s), len(p)\n",
    "        if ns < np:\n",
    "            return []\n",
    "\n",
    "        p_count = Counter(p)\n",
    "        s_count = Counter()\n",
    "        \n",
    "        output = []\n",
    "        for i in range(ns):\n",
    "            s_count[s[i]] += 1\n",
    "\n",
    "            if i >= np:\n",
    "                if s_count[s[i - np]] == 1:\n",
    "                    del s_count[s[i - np]]\n",
    "                else:\n",
    "                    s_count[s[i - np]] -= 1\n",
    "\n",
    "            if p_count == s_count:\n",
    "                output.append(i - np + 1)\n",
    "        \n",
    "        return output"
   ]
  },
  {
   "cell_type": "code",
   "execution_count": 5,
   "metadata": {},
   "outputs": [
    {
     "data": {
      "text/plain": [
       "[0, 1, 2]"
      ]
     },
     "execution_count": 5,
     "metadata": {},
     "output_type": "execute_result"
    }
   ],
   "source": [
    "instance = Solution()\n",
    "instance.findAnagrams(\"abab\", \"ab\")"
   ]
  }
 ],
 "metadata": {
  "kernelspec": {
   "display_name": "Python 3",
   "language": "python",
   "name": "python3"
  },
  "language_info": {
   "codemirror_mode": {
    "name": "ipython",
    "version": 3
   },
   "file_extension": ".py",
   "mimetype": "text/x-python",
   "name": "python",
   "nbconvert_exporter": "python",
   "pygments_lexer": "ipython3",
   "version": "3.7.3"
  }
 },
 "nbformat": 4,
 "nbformat_minor": 2
}
