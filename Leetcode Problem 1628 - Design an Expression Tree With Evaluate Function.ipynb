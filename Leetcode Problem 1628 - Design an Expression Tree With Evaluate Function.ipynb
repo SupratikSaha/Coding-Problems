{
 "cells": [
  {
   "cell_type": "markdown",
   "metadata": {},
   "source": [
    "Problem Statement.\n",
    "\n",
    "Given the postfix tokens of an arithmetic expression, build and return the binary expression tree that represents this expression.\n",
    "\n",
    "Postfix notation is a notation for writing arithmetic expressions in which the operands (numbers) appear before their operators. For example, the postfix tokens of the expression 4*(5-(7+2)) are represented in the array postfix = [\"4\",\"5\",\"7\",\"2\",\"+\",\"-\",\"*\"].\n",
    "\n",
    "The class Node is an interface you should use to implement the binary expression tree. The returned tree will be tested using the evaluate function, which is supposed to evaluate the tree's value. You should not remove the Node class; however, you can modify it as you wish, and you can define other classes to implement it if needed.\n",
    "\n",
    "A binary expression tree is a kind of binary tree used to represent arithmetic expressions. Each node of a binary expression tree has either zero or two children. Leaf nodes (nodes with 0 children) correspond to operands (numbers), and internal nodes (nodes with two children) correspond to the operators '+' (addition), '-' (subtraction), '*' (multiplication), and '/' (division).\n",
    "\n",
    "It's guaranteed that no subtree will yield a value that exceeds 109 in absolute value, and all the operations are valid (i.e., no division by zero).\n",
    "\n",
    "Follow up: Could you design the expression tree such that it is more modular? For example, is your design able to support additional operators without making changes to your existing evaluate implementation?\n",
    "\n",
    " \n",
    "\n",
    "Example 1:\n",
    "\n",
    "Input: s = [\"3\",\"4\",\"+\",\"2\",\"*\",\"7\",\"/\"]\n",
    "Output: 2\n",
    "Explanation: this expression evaluates to the above binary tree with expression ((3+4)*2)/7) = 14/7 = 2.\n",
    "\n",
    "Example 2:\n",
    "\n",
    "Input: s = [\"4\",\"5\",\"7\",\"2\",\"+\",\"-\",\"*\"]\n",
    "Output: -16\n",
    "Explanation: this expression evaluates to the above binary tree with expression 4*(5-(2+7)) = 4*(-4) = -16.\n",
    "\n",
    "Example 3:\n",
    "\n",
    "Input: s = [\"4\",\"2\",\"+\",\"3\",\"5\",\"1\",\"-\",\"*\",\"+\"]\n",
    "Output: 18\n",
    "\n",
    "Example 4:\n",
    "\n",
    "Input: s = [\"100\",\"200\",\"+\",\"2\",\"/\",\"5\",\"*\",\"7\",\"+\"]\n",
    "Output: 757\n",
    "\n",
    " \n",
    "\n",
    "Constraints:\n",
    "\n",
    "    1 <= s.length < 100\n",
    "    s.length is odd.\n",
    "    s consists of numbers and the characters '+', '-', '*', and '/'.\n",
    "    If s[i] is a number, its integer representation is no more than 105.\n",
    "    It is guaranteed that s is a valid expression.\n",
    "    The absolute value of the result and intermediate values will not exceed 109.\n",
    "    It is guaranteed that no expression will include division by zero."
   ]
  },
  {
   "cell_type": "markdown",
   "metadata": {},
   "source": [
    "# Stack and DFS - buildTree, evaluate - O(N) runtime, O(N) space"
   ]
  },
  {
   "cell_type": "code",
   "execution_count": 1,
   "metadata": {},
   "outputs": [],
   "source": [
    "# import abc \n",
    "# from abc import ABC, abstractmethod \n",
    "from typing import List\n",
    "\"\"\"\n",
    "This is the interface for the expression tree Node.\n",
    "You should not remove it, and you can define some classes to implement it.\n",
    "\"\"\"\n",
    "class Node():\n",
    "    # @abstractmethod\n",
    "    # define your fields here\n",
    "    def evaluate(self) -> int:\n",
    "        pass\n",
    "    \n",
    "class TreeNode():\n",
    "    def __init__(self, val=None):\n",
    "        self.val = val\n",
    "        self.left = None\n",
    "        self.right = None\n",
    "\n",
    "    def evaluate(self) -> int:\n",
    "        \n",
    "        OPS = ['+', '-', '*', '/']\n",
    "        \n",
    "        leftVal = self.left.evaluate() if self.left.val in OPS else int(self.left.val) \n",
    "        rightVal = self.right.evaluate() if self.right.val in OPS else int(self.right.val)\n",
    "        \n",
    "        if self.val == '+': returnVal = leftVal + rightVal\n",
    "        if self.val == '-': returnVal = leftVal - rightVal\n",
    "        if self.val == '*': returnVal = leftVal * rightVal\n",
    "        if self.val == '/': returnVal = leftVal / rightVal\n",
    "\n",
    "        return int(returnVal)\n",
    "\n",
    "\"\"\"    \n",
    "This is the TreeBuilder class.\n",
    "You can treat it as the driver code that takes the postinfix input\n",
    "and returns the expression tree represnting it as a Node.\n",
    "\"\"\"\n",
    "\n",
    "class TreeBuilder(object):\n",
    "    def buildTree(self, postfix: List[str]) -> 'TreeNode':\n",
    "        stack = []\n",
    "\n",
    "        for char in postfix:\n",
    "            if char in ('+', '-', '*', '/'):\n",
    "                op = TreeNode(char)\n",
    "                \n",
    "                op.right = stack.pop()\n",
    "                op.left = stack.pop()\n",
    "                \n",
    "                stack.append(op)\n",
    "            else:\n",
    "                stack.append(TreeNode(char))\n",
    "        \n",
    "        return stack[0]"
   ]
  },
  {
   "cell_type": "code",
   "execution_count": 2,
   "metadata": {},
   "outputs": [
    {
     "name": "stdout",
     "output_type": "stream",
     "text": [
      "2\n"
     ]
    }
   ],
   "source": [
    "obj = TreeBuilder()\n",
    "expTree = obj.buildTree([\"3\",\"4\",\"+\",\"2\",\"*\",\"7\",\"/\"])\n",
    "print(expTree.evaluate())"
   ]
  }
 ],
 "metadata": {
  "kernelspec": {
   "display_name": "Python 3",
   "language": "python",
   "name": "python3"
  },
  "language_info": {
   "codemirror_mode": {
    "name": "ipython",
    "version": 3
   },
   "file_extension": ".py",
   "mimetype": "text/x-python",
   "name": "python",
   "nbconvert_exporter": "python",
   "pygments_lexer": "ipython3",
   "version": "3.7.3"
  }
 },
 "nbformat": 4,
 "nbformat_minor": 2
}
