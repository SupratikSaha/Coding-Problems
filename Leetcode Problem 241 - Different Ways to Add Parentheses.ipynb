{
 "cells": [
  {
   "cell_type": "markdown",
   "metadata": {},
   "source": [
    "Problem Statement.\n",
    "\n",
    "Given a string expression of numbers and operators, return all possible results from computing all the different possible ways to group numbers and operators. You may return the answer in any order.\n",
    "\n",
    " \n",
    "\n",
    "Example 1:\n",
    "\n",
    "Input: expression = \"2-1-1\"\n",
    "Output: [0,2]\n",
    "Explanation:\n",
    "((2-1)-1) = 0 \n",
    "(2-(1-1)) = 2\n",
    "\n",
    "Example 2:\n",
    "\n",
    "Input: expression = \"2* 3-4* 5\"\n",
    "Output: [-34,-14,-10,-10,10]\n",
    "Explanation:\n",
    "(2* (3-(4* 5))) = -34 \n",
    "((2* 3)-(4* 5)) = -14 \n",
    "((2* (3-4))* 5) = -10 \n",
    "(2* ((3-4)* 5)) = -10 \n",
    "(((2* 3)-4)* 5) = 10\n",
    "\n",
    " \n",
    "\n",
    "Constraints:\n",
    "\n",
    "    1 <= expression.length <= 20\n",
    "    expression consists of digits and the operator '+', '-', and '*'.\n",
    "    All the integer values in the input expression are in the range [0, 99]."
   ]
  },
  {
   "cell_type": "markdown",
   "metadata": {},
   "source": [
    "# Top Down DP - O(N!) runtime, O(N!) space"
   ]
  },
  {
   "cell_type": "code",
   "execution_count": 1,
   "metadata": {},
   "outputs": [],
   "source": [
    "from typing import List\n",
    "\n",
    "class Solution:\n",
    "    def diffWaysToCompute(self, expression: str) -> List[int]:\n",
    "        m = {}\n",
    "        return self.dfs(expression, m)\n",
    "        \n",
    "    def dfs(self, expression, m):\n",
    "        if expression in m:\n",
    "            return m[expression]\n",
    "        \n",
    "        if expression.isdigit():\n",
    "            m[expression] = int(expression)\n",
    "            return [int(expression)]\n",
    "        \n",
    "        ret = []\n",
    "        for i, c in enumerate(expression):\n",
    "            if c in \"+-*\":\n",
    "                l = self.diffWaysToCompute(expression[:i])\n",
    "                r = self.diffWaysToCompute(expression[i+1:])\n",
    "                \n",
    "                ret.extend(eval(str(x)+c+str(y)) for x in l for y in r)\n",
    "                \n",
    "        m[expression] = ret\n",
    "        \n",
    "        return ret"
   ]
  },
  {
   "cell_type": "markdown",
   "metadata": {},
   "source": [
    "# Simpler Top Down DP - O(N!) runtime, O(N!) space"
   ]
  },
  {
   "cell_type": "code",
   "execution_count": 2,
   "metadata": {},
   "outputs": [],
   "source": [
    "from typing import List\n",
    "\n",
    "class Solution:\n",
    "    def diffWaysToCompute(self, expression: str) -> List[int]:\n",
    "        if expression.isdigit():\n",
    "            return [int(expression)]\n",
    "        res = []\n",
    "        for i in range(len(expression)):\n",
    "            if expression[i] in \"-+*\":\n",
    "                left = self.diffWaysToCompute(expression[:i])\n",
    "                right = self.diffWaysToCompute(expression[i+1:])\n",
    "                for l in left:\n",
    "                    for r in right:\n",
    "                        if expression[i] == '+':\n",
    "                            res.append(l+r)\n",
    "                        elif expression[i] == '-':\n",
    "                            res.append(l-r)\n",
    "                        elif expression[i] == '*':\n",
    "                            res.append(l*r)\n",
    "        return res"
   ]
  },
  {
   "cell_type": "code",
   "execution_count": 3,
   "metadata": {},
   "outputs": [
    {
     "data": {
      "text/plain": [
       "[-34, -10, -14, -10, 10]"
      ]
     },
     "execution_count": 3,
     "metadata": {},
     "output_type": "execute_result"
    }
   ],
   "source": [
    "instance = Solution()\n",
    "instance.diffWaysToCompute(\"2*3-4*5\")"
   ]
  }
 ],
 "metadata": {
  "kernelspec": {
   "display_name": "Python 3",
   "language": "python",
   "name": "python3"
  },
  "language_info": {
   "codemirror_mode": {
    "name": "ipython",
    "version": 3
   },
   "file_extension": ".py",
   "mimetype": "text/x-python",
   "name": "python",
   "nbconvert_exporter": "python",
   "pygments_lexer": "ipython3",
   "version": "3.7.3"
  }
 },
 "nbformat": 4,
 "nbformat_minor": 2
}
