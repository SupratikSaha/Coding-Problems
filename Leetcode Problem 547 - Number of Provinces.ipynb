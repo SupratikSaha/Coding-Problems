{
 "cells": [
  {
   "cell_type": "markdown",
   "metadata": {},
   "source": [
    "Problem Statement. <br/>\n",
    "\n",
    "There are n cities. Some of them are connected, while some are not. If city a is connected directly with city b, and city b is connected directly with city c, then city a is connected indirectly with city c. <br/>\n",
    "A province is a group of directly or indirectly connected cities and no other cities outside of the group. <br/>\n",
    "You are given an n x n matrix isConnected where isConnected[i][j] = 1 if the ith city and the jth city are directly connected, and isConnected[i][j] = 0 otherwise. <br/>\n",
    "Return the total number of provinces. <br/>\n",
    "\n",
    "Example 1: <br/>\n",
    "Input: isConnected = [[1,1,0],[1,1,0],[0,0,1]] <br/>\n",
    "Output: 2 <br/>\n",
    "\n",
    "Example 2: <br/>\n",
    "Input: isConnected = [[1,0,0],[0,1,0],[0,0,1]] <br/>\n",
    "Output: 3 <br/>\n",
    "\n",
    "Constraints: <br/>\n",
    "    1 <= n <= 200 <br/>\n",
    "    n == isConnected.length <br/>\n",
    "    n == isConnected[i].length <br/>\n",
    "    isConnected[i][j] is 1 or 0. <br/>\n",
    "    isConnected[i][i] == 1 <br/>\n",
    "    isConnected[i][j] == isConnected[j][i]"
   ]
  },
  {
   "cell_type": "markdown",
   "metadata": {},
   "source": [
    "# Stack DFS - O(N ^ 2) runtime, O(N) space"
   ]
  },
  {
   "cell_type": "code",
   "execution_count": 4,
   "metadata": {},
   "outputs": [],
   "source": [
    "from typing import List\n",
    "from collections import defaultdict\n",
    "\n",
    "class Solution:\n",
    "    def findCircleNum(self, isConnected: List[List[int]]) -> int:\n",
    "        n = len(isConnected)\n",
    "        citySet = set()    \n",
    "        provinces = 0\n",
    "        \n",
    "        for i in range(n):\n",
    "            if i not in citySet:\n",
    "                provinces += 1\n",
    "                stack = [i]\n",
    "                while stack:\n",
    "                    city = stack.pop()\n",
    "                    citySet.add(city)\n",
    "                    neighbors = isConnected[city]\n",
    "                    for neighbor, hasConnection in enumerate(neighbors):\n",
    "                        if neighbor not in citySet and hasConnection:\n",
    "                            stack.append(neighbor)\n",
    "                \n",
    "        return provinces"
   ]
  },
  {
   "cell_type": "code",
   "execution_count": 5,
   "metadata": {},
   "outputs": [
    {
     "data": {
      "text/plain": [
       "2"
      ]
     },
     "execution_count": 5,
     "metadata": {},
     "output_type": "execute_result"
    }
   ],
   "source": [
    "instance = Solution()\n",
    "instance.findCircleNum([[1,1,0],[1,1,0],[0,0,1]])"
   ]
  }
 ],
 "metadata": {
  "kernelspec": {
   "display_name": "Python 3",
   "language": "python",
   "name": "python3"
  },
  "language_info": {
   "codemirror_mode": {
    "name": "ipython",
    "version": 3
   },
   "file_extension": ".py",
   "mimetype": "text/x-python",
   "name": "python",
   "nbconvert_exporter": "python",
   "pygments_lexer": "ipython3",
   "version": "3.7.3"
  }
 },
 "nbformat": 4,
 "nbformat_minor": 2
}
