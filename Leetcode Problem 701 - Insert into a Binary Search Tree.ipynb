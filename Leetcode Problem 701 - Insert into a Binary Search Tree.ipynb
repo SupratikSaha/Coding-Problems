{
 "cells": [
  {
   "cell_type": "markdown",
   "metadata": {},
   "source": [
    "Problem Statement.\n",
    "\n",
    "You are given the root node of a binary search tree (BST) and a value to insert into the tree. Return the root node of the BST after the insertion. It is guaranteed that the new value does not exist in the original BST.\n",
    "\n",
    "Notice that there may exist multiple valid ways for the insertion, as long as the tree remains a BST after insertion. You can return any of them.\n",
    "\n",
    " \n",
    "\n",
    "Example 1:\n",
    "\n",
    "Input: root = [4,2,7,1,3], val = 5\n",
    "Output: [4,2,7,1,3,5]\n",
    "Explanation: Another accepted tree is:\n",
    "\n",
    "Example 2:\n",
    "\n",
    "Input: root = [40,20,60,10,30,50,70], val = 25\n",
    "Output: [40,20,60,10,30,50,70,null,null,25]\n",
    "\n",
    "Example 3:\n",
    "\n",
    "Input: root = [4,2,7,1,3,null,null,null,null,null,null], val = 5\n",
    "Output: [4,2,7,1,3,5]\n",
    "\n",
    " \n",
    "\n",
    "Constraints:\n",
    "\n",
    "    The number of nodes in the tree will be in the range [0, 10^4].\n",
    "    -10^8 <= Node.val <= 10^8\n",
    "    All the values Node.val are unique.\n",
    "    -10^8 <= val <= 10^8\n",
    "    It's guaranteed that val does not exist in the original BST."
   ]
  },
  {
   "cell_type": "markdown",
   "metadata": {},
   "source": [
    "# Iterative - O(D) runtime, O(1) space, where D is the depth of the tree"
   ]
  },
  {
   "cell_type": "code",
   "execution_count": 1,
   "metadata": {},
   "outputs": [],
   "source": [
    "from typing import Optional\n",
    "\n",
    "# Definition for a binary tree node.\n",
    "# class TreeNode:\n",
    "#     def __init__(self, val=0, left=None, right=None):\n",
    "#         self.val = val\n",
    "#         self.left = left\n",
    "#         self.right = right\n",
    "\n",
    "class Solution:\n",
    "    def insertIntoBST(self, root: Optional[TreeNode], val: int) -> Optional[TreeNode]:\n",
    "        node = TreeNode(val)\n",
    "        \n",
    "        cur = root\n",
    "        while cur:\n",
    "            if val < cur.val:\n",
    "                if not cur.left: \n",
    "                    cur.left = node\n",
    "                    return root\n",
    "                else:\n",
    "                    cur = cur.left\n",
    "            else:\n",
    "                if not cur.right: \n",
    "                    cur.right = node\n",
    "                    return root\n",
    "                else:\n",
    "                    cur = cur.right   \n",
    "        \n",
    "        return node "
   ]
  },
  {
   "cell_type": "code",
   "execution_count": null,
   "metadata": {},
   "outputs": [],
   "source": []
  }
 ],
 "metadata": {
  "kernelspec": {
   "display_name": "Python 3",
   "language": "python",
   "name": "python3"
  },
  "language_info": {
   "codemirror_mode": {
    "name": "ipython",
    "version": 3
   },
   "file_extension": ".py",
   "mimetype": "text/x-python",
   "name": "python",
   "nbconvert_exporter": "python",
   "pygments_lexer": "ipython3",
   "version": "3.7.3"
  }
 },
 "nbformat": 4,
 "nbformat_minor": 2
}
