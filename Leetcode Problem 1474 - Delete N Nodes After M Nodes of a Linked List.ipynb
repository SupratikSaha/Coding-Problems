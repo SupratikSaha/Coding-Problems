{
 "cells": [
  {
   "cell_type": "markdown",
   "metadata": {},
   "source": [
    "Problem Statement.\n",
    "\n",
    "Given the head of a linked list and two integers m and n. Traverse the linked list and remove some nodes in the following way:\n",
    "\n",
    "    Start with the head as the current node.\n",
    "    Keep the first m nodes starting with the current node.\n",
    "    Remove the next n nodes\n",
    "    Keep repeating steps 2 and 3 until you reach the end of the list.\n",
    "\n",
    "Return the head of the modified list after removing the mentioned nodes.\n",
    "\n",
    "Follow up question: How can you solve this problem by modifying the list in-place?\n",
    "\n",
    " \n",
    "\n",
    "Example 1:\n",
    "\n",
    "Input: head = [1,2,3,4,5,6,7,8,9,10,11,12,13], m = 2, n = 3\n",
    "Output: [1,2,6,7,11,12]\n",
    "Explanation: Keep the first (m = 2) nodes starting from the head of the linked List  (1 ->2) show in black nodes.\n",
    "Delete the next (n = 3) nodes (3 -> 4 -> 5) show in read nodes.\n",
    "Continue with the same procedure until reaching the tail of the Linked List.\n",
    "Head of linked list after removing nodes is returned.\n",
    "\n",
    "Example 2:\n",
    "\n",
    "Input: head = [1,2,3,4,5,6,7,8,9,10,11], m = 1, n = 3\n",
    "Output: [1,5,9]\n",
    "Explanation: Head of linked list after removing nodes is returned.\n",
    "\n",
    "Example 3:\n",
    "\n",
    "Input: head = [1,2,3,4,5,6,7,8,9,10,11], m = 3, n = 1\n",
    "Output: [1,2,3,5,6,7,9,10,11]\n",
    "\n",
    "Example 4:\n",
    "\n",
    "Input: head = [9,3,7,7,9,10,8,2], m = 1, n = 2\n",
    "Output: [9,7,8]\n",
    "\n",
    " \n",
    "\n",
    "Constraints:\n",
    "\n",
    "    The given linked list will contain between 1 and 10^4 nodes.\n",
    "    The value of each node in the linked list will be in the range [1, 10^6].\n",
    "    1 <= m,n <= 1000"
   ]
  },
  {
   "cell_type": "markdown",
   "metadata": {},
   "source": [
    "# Linked List Traversal - O(N) runtime, O(1) space"
   ]
  },
  {
   "cell_type": "code",
   "execution_count": 1,
   "metadata": {},
   "outputs": [],
   "source": [
    "# Definition for singly-linked list.\n",
    "# class ListNode:\n",
    "#     def __init__(self, val=0, next=None):\n",
    "#         self.val = val\n",
    "#         self.next = next\n",
    "\n",
    "class Solution:\n",
    "    def deleteNodes(self, head: ListNode, m: int, n: int) -> ListNode:\n",
    "        if not head: return None\n",
    "        \n",
    "        node, prev = head, None\n",
    "        while node:\n",
    "            m_count = 0\n",
    "            while node and m_count < m:\n",
    "                prev, node = node, node.next\n",
    "                m_count += 1\n",
    "                \n",
    "            n_count = 0\n",
    "            while node and n_count < n:\n",
    "                node = node.next\n",
    "                n_count += 1\n",
    "            prev.next = node\n",
    "                \n",
    "        return head"
   ]
  }
 ],
 "metadata": {
  "kernelspec": {
   "display_name": "Python 3",
   "language": "python",
   "name": "python3"
  },
  "language_info": {
   "codemirror_mode": {
    "name": "ipython",
    "version": 3
   },
   "file_extension": ".py",
   "mimetype": "text/x-python",
   "name": "python",
   "nbconvert_exporter": "python",
   "pygments_lexer": "ipython3",
   "version": "3.7.3"
  }
 },
 "nbformat": 4,
 "nbformat_minor": 2
}
