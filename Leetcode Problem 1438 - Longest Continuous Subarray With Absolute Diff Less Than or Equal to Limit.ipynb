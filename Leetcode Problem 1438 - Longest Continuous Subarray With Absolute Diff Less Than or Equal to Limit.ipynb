{
 "cells": [
  {
   "cell_type": "markdown",
   "metadata": {},
   "source": [
    "Problem Statement. <br/>\n",
    "\n",
    "Given an array of integers nums and an integer limit, return the size of the longest non-empty subarray such that the absolute difference between any two elements of this subarray is less than or equal to limit. <br/>\n",
    "\n",
    "Example 1: <br/>\n",
    "Input: nums = [8,2,4,7], limit = 4 <br/>\n",
    "Output: 2  <br/>\n",
    "Explanation: All subarrays are:  <br/>\n",
    "[8] with maximum absolute diff |8-8| = 0 <= 4. <br/>\n",
    "[8,2] with maximum absolute diff |8-2| = 6 > 4.  <br/>\n",
    "[8,2,4] with maximum absolute diff |8-2| = 6 > 4. <br/>\n",
    "[8,2,4,7] with maximum absolute diff |8-2| = 6 > 4. <br/>\n",
    "[2] with maximum absolute diff |2-2| = 0 <= 4. <br/>\n",
    "[2,4] with maximum absolute diff |2-4| = 2 <= 4. <br/>\n",
    "[2,4,7] with maximum absolute diff |2-7| = 5 > 4. <br/>\n",
    "[4] with maximum absolute diff |4-4| = 0 <= 4. <br/>\n",
    "[4,7] with maximum absolute diff |4-7| = 3 <= 4. <br/>\n",
    "[7] with maximum absolute diff |7-7| = 0 <= 4. <br/>\n",
    "Therefore, the size of the longest subarray is 2. <br/>\n",
    "\n",
    "Example 2: <br/>\n",
    "Input: nums = [10,1,2,4,7,2], limit = 5 <br/>\n",
    "Output: 4  <br/>\n",
    "Explanation: The subarray [2,4,7,2] is the longest since the maximum absolute diff is |2-7| = 5 <= 5. <br/>\n",
    "\n",
    "Example 3: <br/>\n",
    "Input: nums = [4,2,2,2,4,4,2,2], limit = 0 <br/>\n",
    "Output: 3"
   ]
  },
  {
   "cell_type": "markdown",
   "metadata": {},
   "source": [
    "# Brute Force - O(N ^ 3) runtime, O(1) space"
   ]
  },
  {
   "cell_type": "code",
   "execution_count": 1,
   "metadata": {},
   "outputs": [],
   "source": [
    "from typing import List\n",
    "\n",
    "class Solution:\n",
    "    def longestSubarray(self, nums: List[int], limit: int) -> int:\n",
    "        n = len(nums)\n",
    "        \n",
    "        for l in range(n, 0, -1):\n",
    "            for i in range(0, n-l+1):\n",
    "                if max(nums[i:i+l]) - min(nums[i:i+l]) <= limit:\n",
    "                    return l"
   ]
  },
  {
   "cell_type": "markdown",
   "metadata": {},
   "source": [
    "# Better Brute Force - O(N ^ 2) runtime, O(1) space"
   ]
  },
  {
   "cell_type": "code",
   "execution_count": 2,
   "metadata": {},
   "outputs": [],
   "source": [
    "from typing import List\n",
    "\n",
    "class Solution:\n",
    "    def longestSubarray(self, nums: List[int], limit: int) -> int:\n",
    "        \n",
    "        n = len(nums)\n",
    "        maxLength = 1\n",
    "        for i in range(0, n):\n",
    "            maxVal = minVal = nums[i]\n",
    "            for e in range(i + 1, n + 1):\n",
    "                maxVal = max(maxVal, nums[e-1])\n",
    "                minVal = min(minVal, nums[e-1])\n",
    "                diff = maxVal - minVal\n",
    "                length = e - i\n",
    "                if diff <= limit and length > maxLength: maxLength = length\n",
    "                    \n",
    "        return maxLength"
   ]
  },
  {
   "cell_type": "markdown",
   "metadata": {},
   "source": [
    "# Two Heaps - O(N log N) runtime, O(N) space"
   ]
  },
  {
   "cell_type": "code",
   "execution_count": 3,
   "metadata": {},
   "outputs": [],
   "source": [
    "from typing import List\n",
    "import heapq\n",
    "\n",
    "class Solution:\n",
    "    def longestSubarray(self, nums: List[int], limit: int) -> int:\n",
    "        maxq, minq = [], []\n",
    "        res = i = 0\n",
    "        for j, a in enumerate(nums):\n",
    "            heapq.heappush(maxq, [-a, j])\n",
    "            heapq.heappush(minq, [a, j])\n",
    "            while -maxq[0][0] - minq[0][0] > limit:\n",
    "                i = min(maxq[0][1], minq[0][1]) + 1\n",
    "                while maxq[0][1] < i: heapq.heappop(maxq)\n",
    "                while minq[0][1] < i: heapq.heappop(minq)\n",
    "            res = max(res, j - i + 1)\n",
    "        return res"
   ]
  },
  {
   "cell_type": "markdown",
   "metadata": {},
   "source": [
    "# Two Deques - O(N) runtime, O(N) space"
   ]
  },
  {
   "cell_type": "code",
   "execution_count": 4,
   "metadata": {},
   "outputs": [],
   "source": [
    "from typing import List\n",
    "from collections import deque\n",
    "\n",
    "class Solution:\n",
    "    def longestSubarray(self, nums: List[int], limit: int) -> int:\n",
    "        maxd = deque()\n",
    "        mind = deque()\n",
    "        i = 0\n",
    "        for a in nums:\n",
    "            while len(maxd) and a > maxd[-1]: maxd.pop()\n",
    "            while len(mind) and a < mind[-1]: mind.pop()\n",
    "            maxd.append(a)\n",
    "            mind.append(a)\n",
    "            if maxd[0] - mind[0] > limit:\n",
    "                if maxd[0] == nums[i]: maxd.popleft()\n",
    "                if mind[0] == nums[i]: mind.popleft()\n",
    "                i += 1\n",
    "        return len(nums) - i"
   ]
  },
  {
   "cell_type": "code",
   "execution_count": 5,
   "metadata": {},
   "outputs": [
    {
     "data": {
      "text/plain": [
       "4"
      ]
     },
     "execution_count": 5,
     "metadata": {},
     "output_type": "execute_result"
    }
   ],
   "source": [
    "instance = Solution()\n",
    "instance.longestSubarray([10,1,2,4,7,2], 5)"
   ]
  }
 ],
 "metadata": {
  "kernelspec": {
   "display_name": "Python 3",
   "language": "python",
   "name": "python3"
  },
  "language_info": {
   "codemirror_mode": {
    "name": "ipython",
    "version": 3
   },
   "file_extension": ".py",
   "mimetype": "text/x-python",
   "name": "python",
   "nbconvert_exporter": "python",
   "pygments_lexer": "ipython3",
   "version": "3.7.3"
  }
 },
 "nbformat": 4,
 "nbformat_minor": 2
}
