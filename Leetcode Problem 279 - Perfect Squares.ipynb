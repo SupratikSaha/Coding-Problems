{
 "cells": [
  {
   "cell_type": "markdown",
   "metadata": {},
   "source": [
    "Problem Statement. <br/>\n",
    "\n",
    "Given an integer n, return the least number of perfect square numbers that sum to n. <br/>\n",
    "\n",
    "A perfect square is an integer that is the square of an integer; in other words, it is the product of some integer with itself. For example, 1, 4, 9, and 16 are perfect squares while 3 and 11 are not. <br/>\n",
    "\n",
    "Example 1: <br/>\n",
    "Input: n = 12 <br/>\n",
    "Output: 3 <br/>\n",
    "Explanation: 12 = 4 + 4 + 4. <br/>\n",
    "\n",
    "Example 2: <br/>\n",
    "Input: n = 13 <br/>\n",
    "Output: 2 <br/>\n",
    "Explanation: 13 = 4 + 9."
   ]
  },
  {
   "cell_type": "markdown",
   "metadata": {},
   "source": [
    "# Top Down DP - O(N * M) runtime, O(N * M) space where N is the number and M is the square root of the closest perfect number"
   ]
  },
  {
   "cell_type": "code",
   "execution_count": 3,
   "metadata": {},
   "outputs": [],
   "source": [
    "from math import floor, sqrt\n",
    "\n",
    "class Solution:\n",
    "    def numSquares(self, n: int) -> int:\n",
    "        if n <= 0:\n",
    "            return 0\n",
    "        \n",
    "        maxRoot = floor(sqrt(n))\n",
    "        self.dict = {}\n",
    "        \n",
    "        return self.numSquaresRecursive(n, maxRoot)\n",
    "        \n",
    "    \n",
    "    def numSquaresRecursive(self, n: int, maxRoot: int) -> int:\n",
    "        if n == 0:\n",
    "            return 0\n",
    "        if not self.dict.get(n) or not self.dict[n].get(maxRoot):\n",
    "            countNums1 = float('inf')\n",
    "            if n >= maxRoot ** 2:\n",
    "                countNums1 = 1 + self.numSquaresRecursive(n - maxRoot ** 2, maxRoot)\n",
    "\n",
    "            countNums2 = float('inf')\n",
    "            if maxRoot >= 2:\n",
    "                countNums2 = self.numSquaresRecursive(n, maxRoot - 1)\n",
    "                \n",
    "            if not self.dict.get(n):\n",
    "                self.dict[n] = {maxRoot: min(countNums1, countNums2)}\n",
    "            else:\n",
    "                self.dict[n][maxRoot] = min(countNums1, countNums2)\n",
    "        \n",
    "        return self.dict[n][maxRoot]"
   ]
  },
  {
   "cell_type": "markdown",
   "metadata": {},
   "source": [
    "# Bottom Up DP - O(N * M) runtime, O(N * M) space where N is the number and M is the square root of the closest perfect number"
   ]
  },
  {
   "cell_type": "code",
   "execution_count": 6,
   "metadata": {},
   "outputs": [],
   "source": [
    "from math import sqrt\n",
    "\n",
    "class Solution:\n",
    "    def numSquares(self, n: int) -> int:\n",
    "        square_nums = [i**2 for i in range(0, int(sqrt(n))+1)]\n",
    "        \n",
    "        dp = [float('inf')] * (n+1)\n",
    "        # bottom case\n",
    "        dp[0] = 0\n",
    "        \n",
    "        for i in range(1, n+1):\n",
    "            for square in square_nums:\n",
    "                if i < square:\n",
    "                    break\n",
    "                dp[i] = min(dp[i], dp[i-square] + 1)\n",
    "        \n",
    "        return dp[-1]"
   ]
  },
  {
   "cell_type": "markdown",
   "metadata": {},
   "source": [
    "# Greedy + BFS - O(N ^ (h / 2) ) runtime, O(sqrt(N) ^ h) space, where h is the maximal number of recursion that could happen"
   ]
  },
  {
   "cell_type": "code",
   "execution_count": 11,
   "metadata": {},
   "outputs": [],
   "source": [
    "class Solution:\n",
    "    def numSquares(self, n: int) -> int:\n",
    "\n",
    "        # list of square numbers that are less than `n`\n",
    "        square_nums = [i * i for i in range(1, int(n**0.5)+1)]\n",
    "    \n",
    "        level = 0\n",
    "        queue = {n}\n",
    "        while queue:\n",
    "            level += 1\n",
    "            #! Important: use set() instead of list() to eliminate the redundancy,\n",
    "            # which would even provide a 5-times speedup, 200ms vs. 1000ms.\n",
    "            next_queue = set()\n",
    "            # construct the queue for the next level\n",
    "            for remainder in queue:\n",
    "                for square_num in square_nums:    \n",
    "                    if remainder == square_num:\n",
    "                        return level  # find the node!\n",
    "                    elif remainder < square_num:\n",
    "                        break\n",
    "                    else:\n",
    "                        next_queue.add(remainder - square_num)\n",
    "            queue = next_queue\n",
    "        return level"
   ]
  },
  {
   "cell_type": "markdown",
   "metadata": {},
   "source": [
    "# Greedy Enumeration - O(N ^ (h / 2) ) runtime, O(sqrt(N)) space, where h is  the maximal number of recursion that could happen"
   ]
  },
  {
   "cell_type": "code",
   "execution_count": 9,
   "metadata": {},
   "outputs": [],
   "source": [
    "class Solution:\n",
    "    def numSquares(self, n: int) -> int:\n",
    "        \n",
    "        def is_divided_by(n: int, count: int) -> bool:\n",
    "            if count == 1:\n",
    "                return n in square_nums\n",
    "            \n",
    "            for k in square_nums:\n",
    "                if is_divided_by(n - k, count - 1):\n",
    "                    return True\n",
    "            return False\n",
    "\n",
    "        square_nums = set([i * i for i in range(1, int(n**0.5)+1)])\n",
    "    \n",
    "        for count in range(1, n+1):\n",
    "            if is_divided_by(n, count):\n",
    "                return count"
   ]
  },
  {
   "cell_type": "markdown",
   "metadata": {},
   "source": [
    "# Mathematocal Theory - O(sqrt(N)) runtime, O(1) space"
   ]
  },
  {
   "cell_type": "code",
   "execution_count": 15,
   "metadata": {},
   "outputs": [],
   "source": [
    "from math import sqrt\n",
    "\n",
    "class Solution:\n",
    "    def numSquares(self, n: int) -> int:\n",
    "        # four-square and three-square theorems\n",
    "        while (n & 3) == 0:\n",
    "            n >>= 2      # reducing the 4^k factor from number\n",
    "        if (n & 7) == 7: # mod 8\n",
    "            return 4\n",
    "\n",
    "        if self.isSquare(n):\n",
    "            return 1\n",
    "        # check if the number can be decomposed into sum of two squares\n",
    "        for i in range(1, int(n**(0.5)) + 1):\n",
    "            if self.isSquare(n - i*i):\n",
    "                return 2\n",
    "        # bottom case from the three-square theorem\n",
    "        return 3\n",
    "    \n",
    "    def isSquare(self, n: int) -> bool:\n",
    "        sq = int(sqrt(n))\n",
    "        return sq*sq == n"
   ]
  },
  {
   "cell_type": "code",
   "execution_count": 16,
   "metadata": {},
   "outputs": [
    {
     "data": {
      "text/plain": [
       "3"
      ]
     },
     "execution_count": 16,
     "metadata": {},
     "output_type": "execute_result"
    }
   ],
   "source": [
    "instance = Solution()\n",
    "instance.numSquares(7115)"
   ]
  }
 ],
 "metadata": {
  "kernelspec": {
   "display_name": "Python 3",
   "language": "python",
   "name": "python3"
  },
  "language_info": {
   "codemirror_mode": {
    "name": "ipython",
    "version": 3
   },
   "file_extension": ".py",
   "mimetype": "text/x-python",
   "name": "python",
   "nbconvert_exporter": "python",
   "pygments_lexer": "ipython3",
   "version": "3.7.3"
  }
 },
 "nbformat": 4,
 "nbformat_minor": 2
}
