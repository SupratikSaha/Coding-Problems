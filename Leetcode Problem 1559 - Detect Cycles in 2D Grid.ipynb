{
 "cells": [
  {
   "cell_type": "markdown",
   "metadata": {},
   "source": [
    "Problem Statement.\n",
    "\n",
    "Given a 2D array of characters grid of size m x n, you need to find if there exists any cycle consisting of the same value in grid.\n",
    "\n",
    "A cycle is a path of length 4 or more in the grid that starts and ends at the same cell. From a given cell, you can move to one of the cells adjacent to it - in one of the four directions (up, down, left, or right), if it has the same value of the current cell.\n",
    "\n",
    "Also, you cannot move to the cell that you visited in your last move. For example, the cycle (1, 1) -> (1, 2) -> (1, 1) is invalid because from (1, 2) we visited (1, 1) which was the last visited cell.\n",
    "\n",
    "Return true if any cycle of the same value exists in grid, otherwise, return false.\n",
    "\n",
    " \n",
    "\n",
    "Example 1:\n",
    "\n",
    "Input: grid = [[\"a\",\"a\",\"a\",\"a\"],[\"a\",\"b\",\"b\",\"a\"],[\"a\",\"b\",\"b\",\"a\"],[\"a\",\"a\",\"a\",\"a\"]]\n",
    "Output: true\n",
    "Explanation: There are two valid cycles shown in different colors in the image below:\n",
    "\n",
    "Example 2:\n",
    "\n",
    "Input: grid = [[\"c\",\"c\",\"c\",\"a\"],[\"c\",\"d\",\"c\",\"c\"],[\"c\",\"c\",\"e\",\"c\"],[\"f\",\"c\",\"c\",\"c\"]]\n",
    "Output: true\n",
    "Explanation: There is only one valid cycle highlighted in the image below:\n",
    "\n",
    "Example 3:\n",
    "\n",
    "Input: grid = [[\"a\",\"b\",\"b\"],[\"b\",\"z\",\"b\"],[\"b\",\"b\",\"a\"]]\n",
    "Output: false\n",
    "\n",
    " \n",
    "\n",
    "Constraints:\n",
    "\n",
    "    m == grid.length\n",
    "    n == grid[i].length\n",
    "    1 <= m, n <= 500\n",
    "    grid consists only of lowercase English letters."
   ]
  },
  {
   "cell_type": "markdown",
   "metadata": {},
   "source": [
    "# DFS - O(N ** 2) runtime, O(N) space where N is the number ofe cells"
   ]
  },
  {
   "cell_type": "code",
   "execution_count": 1,
   "metadata": {},
   "outputs": [],
   "source": [
    "from typing import List\n",
    "\n",
    "class Solution:\n",
    "    def containsCycle(self, grid: List[List[str]]) -> bool:\n",
    "        m, n = len(grid), len(grid[0])\n",
    "        \n",
    "        def neighbors(r, c):\n",
    "            return [(r1, c1) for r1, c1 in [(r-1, c), (r+1, c), (r, c-1), (r, c+1)] if 0 <= r1 < m and 0 <= c1 < n and grid[r1][c1] == grid[r][c]]\n",
    "        \n",
    "        def dfs(r, c, prev):\n",
    "            if (r, c) in seen: return True\n",
    "            seen.add((r, c))\n",
    "            visited.add((r, c))\n",
    "\n",
    "            for r1, c1 in neighbors(r, c):\n",
    "                if not prev or prev != (r1, c1):\n",
    "                    if dfs(r1, c1, (r, c)): return True\n",
    "                    \n",
    "            return False\n",
    "            \n",
    "        visited = set()\n",
    "        \n",
    "        for i in range(m):\n",
    "            for j in range(n):\n",
    "                if (i, j) not in visited:\n",
    "                    seen = set()\n",
    "                    if dfs(i, j, None): return True\n",
    "        return False"
   ]
  },
  {
   "cell_type": "code",
   "execution_count": 2,
   "metadata": {},
   "outputs": [
    {
     "data": {
      "text/plain": [
       "True"
      ]
     },
     "execution_count": 2,
     "metadata": {},
     "output_type": "execute_result"
    }
   ],
   "source": [
    "instance = Solution()\n",
    "instance.containsCycle([[\"a\",\"a\",\"a\",\"a\"],[\"a\",\"b\",\"b\",\"a\"],[\"a\",\"b\",\"b\",\"a\"],[\"a\",\"a\",\"a\",\"a\"]])"
   ]
  }
 ],
 "metadata": {
  "kernelspec": {
   "display_name": "Python 3",
   "language": "python",
   "name": "python3"
  },
  "language_info": {
   "codemirror_mode": {
    "name": "ipython",
    "version": 3
   },
   "file_extension": ".py",
   "mimetype": "text/x-python",
   "name": "python",
   "nbconvert_exporter": "python",
   "pygments_lexer": "ipython3",
   "version": "3.7.3"
  }
 },
 "nbformat": 4,
 "nbformat_minor": 2
}
