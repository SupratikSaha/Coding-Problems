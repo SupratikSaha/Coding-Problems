{
 "cells": [
  {
   "cell_type": "markdown",
   "metadata": {},
   "source": [
    "Given a 2D matrix matrix, find the sum of the elements inside the rectangle defined by its upper left corner (row1, col1) and lower right corner (row2, col2).\n",
    "\n",
    "Range Sum Query 2D\n",
    "The above rectangle (with the red border) is defined by (row1, col1) = (2, 1) and (row2, col2) = (4, 3), which contains sum = 8.\n",
    "\n",
    "Example:\n",
    "\n",
    "Given matrix = [<br>\n",
    "  [3, 0, 1, 4, 2],<br>\n",
    "  [5, 6, 3, 2, 1],<br>\n",
    "  [1, 2, 0, 1, 5],<br>\n",
    "  [4, 1, 0, 1, 7],<br>\n",
    "  [1, 0, 3, 0, 5]<br>\n",
    "]\n",
    "\n",
    "sumRegion(2, 1, 4, 3) -> 8\n",
    "sumRegion(1, 1, 2, 2) -> 11\n",
    "sumRegion(1, 2, 2, 4) -> 12\n",
    "\n",
    "Note:\n",
    "\n",
    "    You may assume that the matrix does not change.\n",
    "    There are many calls to sumRegion function.\n",
    "    You may assume that row1 ≤ row2 and col1 ≤ col2.\n"
   ]
  },
  {
   "cell_type": "markdown",
   "metadata": {},
   "source": [
    "# Row Sum DP - O(r * c) runtime once and O(r2 - r1 + 1) every run, O(1) space"
   ]
  },
  {
   "cell_type": "code",
   "execution_count": 1,
   "metadata": {},
   "outputs": [],
   "source": [
    "from typing import List\n",
    "\n",
    "class NumMatrix:\n",
    "\n",
    "    def __init__(self, matrix: List[List[int]]):\n",
    "\n",
    "        self.matrix = matrix\n",
    "        self.num_rows = len(matrix)\n",
    "        self.num_cols = len(matrix[0]) if self.num_rows > 0 else 0\n",
    "        \n",
    "        for r in range(self.num_rows):\n",
    "            for c in range(self.num_cols):\n",
    "                self.matrix[r][c] += self.matrix[r][c - 1] if c > 0 else 0\n",
    "\n",
    "    def sumRegion(self, row1: int, col1: int, row2: int, col2: int) -> int:\n",
    "        \n",
    "        if row1 < 0 or row2 < 0 or row2 >= self.num_rows or col1 < 0 or col2 < 0 or col2 >= self.num_cols:\n",
    "            return 0\n",
    "        \n",
    "        region_sum = 0\n",
    "        \n",
    "        for i in range(row2 - row1 + 1):\n",
    "            subtract = self.matrix[row1 + i][col1 - 1] if col1 > 0 else 0\n",
    "            region_sum += self.matrix[row1 + i][col2] - subtract\n",
    "        \n",
    "        return region_sum\n",
    "\n",
    "# Your NumMatrix object will be instantiated and called as such:\n",
    "# obj = NumMatrix(matrix)\n",
    "# param_1 = obj.sumRegion(row1,col1,row2,col2)"
   ]
  },
  {
   "cell_type": "markdown",
   "metadata": {},
   "source": [
    "# Row Sum DP - O(r * c) runtime once and O(1) every run, O(r * c) space"
   ]
  },
  {
   "cell_type": "code",
   "execution_count": 3,
   "metadata": {},
   "outputs": [],
   "source": [
    "from typing import List\n",
    "\n",
    "class NumMatrix:\n",
    "\n",
    "    def __init__(self, matrix: List[List[int]]):\n",
    "\n",
    "        self.matrix = matrix\n",
    "        self.num_rows = len(matrix)\n",
    "        self.num_cols = len(matrix[0]) if self.num_rows > 0 else 0\n",
    "        self.dp = [ [0] * (self.num_cols + 1) for _ in range(self.num_rows + 1) ]\n",
    "        \n",
    "        \n",
    "        for r in range(self.num_rows):\n",
    "            for c in range(self.num_cols):\n",
    "                self.dp[r + 1][c + 1] = self.dp[r + 1][c] + self.dp[r][c + 1] + self.matrix[r][c] - self.dp[r][c]\n",
    "\n",
    "    def sumRegion(self, row1: int, col1: int, row2: int, col2: int) -> int:\n",
    "        \n",
    "        return self.dp[row2 + 1][col2 + 1] - self.dp[row1][col2 + 1] - self.dp[row2 + 1][col1] + self.dp[row1][col1]\n",
    "\n",
    "\n",
    "# Your NumMatrix object will be instantiated and called as such:\n",
    "# obj = NumMatrix(matrix)\n",
    "# param_1 = obj.sumRegion(row1,col1,row2,col2)"
   ]
  },
  {
   "cell_type": "code",
   "execution_count": 4,
   "metadata": {},
   "outputs": [
    {
     "name": "stdout",
     "output_type": "stream",
     "text": [
      "8\n",
      "11\n",
      "12\n"
     ]
    }
   ],
   "source": [
    "obj = NumMatrix([\n",
    "  [3, 0, 1, 4, 2],\n",
    "  [5, 6, 3, 2, 1],\n",
    "  [1, 2, 0, 1, 5],\n",
    "  [4, 1, 0, 1, 7],\n",
    "  [1, 0, 3, 0, 5]\n",
    "])\n",
    "print(obj.sumRegion(2, 1, 4, 3))\n",
    "print(obj.sumRegion(1, 1, 2, 2))\n",
    "print(obj.sumRegion(1, 2, 2, 4))"
   ]
  }
 ],
 "metadata": {
  "kernelspec": {
   "display_name": "Python 3",
   "language": "python",
   "name": "python3"
  },
  "language_info": {
   "codemirror_mode": {
    "name": "ipython",
    "version": 3
   },
   "file_extension": ".py",
   "mimetype": "text/x-python",
   "name": "python",
   "nbconvert_exporter": "python",
   "pygments_lexer": "ipython3",
   "version": "3.7.3"
  }
 },
 "nbformat": 4,
 "nbformat_minor": 2
}
