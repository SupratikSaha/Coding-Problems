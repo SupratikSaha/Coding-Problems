{
 "cells": [
  {
   "cell_type": "markdown",
   "metadata": {},
   "source": [
    "# Track steps along row and column - O(n) run time, O(n) space"
   ]
  },
  {
   "cell_type": "code",
   "execution_count": 1,
   "metadata": {},
   "outputs": [],
   "source": [
    "class Solution:\n",
    "    def spiralOrder(self, matrix: List[List[int]]) -> List[int]:\n",
    "        elements = []\n",
    "        \n",
    "        if len(matrix) == 0:\n",
    "            return elements\n",
    "        \n",
    "        m, n = len(matrix), len(matrix[0])\n",
    "        \n",
    "        row, col = 0, -1\n",
    "        \n",
    "        while True:\n",
    "            \n",
    "            for i in range(n):\n",
    "                col += 1\n",
    "                elements.append(matrix[row][col])\n",
    "                \n",
    "            m -= 1\n",
    "            if m == 0:\n",
    "                break     \n",
    "            for i in range(m):\n",
    "                row += 1\n",
    "                elements.append(matrix[row][col])\n",
    "                \n",
    "                \n",
    "            n -= 1\n",
    "            if n == 0:\n",
    "                break     \n",
    "            for i in range(n):\n",
    "                col -= 1\n",
    "                elements.append(matrix[row][col])\n",
    "                \n",
    "            m -= 1\n",
    "            if m == 0:\n",
    "                break     \n",
    "            for i in range(m):\n",
    "                row -= 1\n",
    "                elements.append(matrix[row][col])\n",
    "                \n",
    "            n -= 1\n",
    "            if n == 0:\n",
    "                break \n",
    "                \n",
    "        return elements"
   ]
  },
  {
   "cell_type": "code",
   "execution_count": 2,
   "metadata": {},
   "outputs": [
    {
     "data": {
      "text/plain": [
       "[1, 2, 3, 6, 9, 8, 7, 4, 5]"
      ]
     },
     "execution_count": 2,
     "metadata": {},
     "output_type": "execute_result"
    }
   ],
   "source": [
    "Instance = Solution()\n",
    "Instance.spiralOrder([[ 1, 2, 3 ],[ 4, 5, 6 ],[ 7, 8, 9 ]])"
   ]
  }
 ],
 "metadata": {
  "kernelspec": {
   "display_name": "Python 3",
   "language": "python",
   "name": "python3"
  },
  "language_info": {
   "codemirror_mode": {
    "name": "ipython",
    "version": 3
   },
   "file_extension": ".py",
   "mimetype": "text/x-python",
   "name": "python",
   "nbconvert_exporter": "python",
   "pygments_lexer": "ipython3",
   "version": "3.7.3"
  }
 },
 "nbformat": 4,
 "nbformat_minor": 2
}
