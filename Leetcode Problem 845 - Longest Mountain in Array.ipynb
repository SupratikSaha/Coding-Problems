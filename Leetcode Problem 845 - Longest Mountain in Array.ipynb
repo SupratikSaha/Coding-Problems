{
 "cells": [
  {
   "cell_type": "markdown",
   "metadata": {},
   "source": [
    "Problem Statement.\n",
    "\n",
    "You may recall that an array arr is a mountain array if and only if:\n",
    "\n",
    "    arr.length >= 3\n",
    "    There exists some index i (0-indexed) with 0 < i < arr.length - 1 such that:\n",
    "        arr[0] < arr[1] < ... < arr[i - 1] < arr[i]\n",
    "        arr[i] > arr[i + 1] > ... > arr[arr.length - 1]\n",
    "\n",
    "Given an integer array arr, return the length of the longest subarray, which is a mountain. Return 0 if there is no mountain subarray.\n",
    "\n",
    " \n",
    "\n",
    "Example 1:\n",
    "\n",
    "Input: arr = [2,1,4,7,3,2,5]\n",
    "Output: 5\n",
    "Explanation: The largest mountain is [1,4,7,3,2] which has length 5.\n",
    "\n",
    "Example 2:\n",
    "\n",
    "Input: arr = [2,2,2]\n",
    "Output: 0\n",
    "Explanation: There is no mountain.\n",
    "\n",
    " \n",
    "\n",
    "Constraints:\n",
    "\n",
    "    1 <= arr.length <= 104\n",
    "    0 <= arr[i] <= 104\n",
    "\n",
    " \n",
    "\n",
    "Follow up:\n",
    "\n",
    "    Can you solve it using only one pass?\n",
    "    Can you solve it in O(1) space?"
   ]
  },
  {
   "cell_type": "markdown",
   "metadata": {},
   "source": [
    "# Array Traversal - O(N) runtime, O(1) space"
   ]
  },
  {
   "cell_type": "code",
   "execution_count": 1,
   "metadata": {},
   "outputs": [],
   "source": [
    "from typing import List\n",
    "\n",
    "class Solution:\n",
    "    def longestMountain(self, arr: List[int]) -> int:\n",
    "        left = right = maxLen = valley = 0\n",
    "        inc = None\n",
    "        \n",
    "        for i in range(len(arr)- 1):\n",
    "            if (arr[i] < arr[i+1] and (inc is None or inc == 1)) or (arr[i] > arr[i+1] and inc is not None):\n",
    "                inc = 1 if arr[i] < arr[i+1] else -1\n",
    "                if arr[i] > arr[i+1] and inc is not None: valley = 1\n",
    "            else:\n",
    "                if valley == 1:\n",
    "                    maxLen = max(maxLen, right-left + 1 if left != right  else 0)\n",
    "                    valley = 0\n",
    "                left = i if arr[i] < arr[i+1] else i+1\n",
    "                inc = 1 if arr[i] < arr[i+1] else None\n",
    "            right = i+1\n",
    "                \n",
    "        if valley == 1: maxLen = max(maxLen, right-left + 1 if left != right  else 0)\n",
    "                \n",
    "        return maxLen"
   ]
  },
  {
   "cell_type": "markdown",
   "metadata": {},
   "source": [
    "# Simpler Two Pointer - O(N) runtime, O(1) space"
   ]
  },
  {
   "cell_type": "code",
   "execution_count": 2,
   "metadata": {},
   "outputs": [],
   "source": [
    "from typing import List\n",
    "\n",
    "class Solution:\n",
    "    def longestMountain(self, arr: List[int]) -> int:\n",
    "        n = len(arr)\n",
    "        ans = base = 0\n",
    "\n",
    "        while base < n-1:\n",
    "            end = base\n",
    "            if end + 1 < n and arr[end] < arr[end + 1]:\n",
    "                while end+1 < n and arr[end] < arr[end+1]:\n",
    "                    end += 1\n",
    "\n",
    "                if end + 1 < n and arr[end] > arr[end + 1]:\n",
    "                    while end+1 < n and arr[end] > arr[end+1]:\n",
    "                        end += 1\n",
    "                    ans = max(ans, end - base + 1)\n",
    "\n",
    "            base = max(end, base + 1)\n",
    "\n",
    "        return ans"
   ]
  },
  {
   "cell_type": "markdown",
   "metadata": {},
   "source": [
    "# Simplest Two Pointers - O(N) runtime, O(1) space"
   ]
  },
  {
   "cell_type": "code",
   "execution_count": 4,
   "metadata": {},
   "outputs": [],
   "source": [
    "from typing import List\n",
    "\n",
    "class Solution:\n",
    "    def longestMountain(self, arr: List[int]) -> int:\n",
    "        res = up = down = 0\n",
    "        \n",
    "        for i in range(len(arr)-1):\n",
    "            if down and arr[i] < arr[i+1] or arr[i] == arr[i+1]: up = down = 0\n",
    "            up += arr[i] < arr[i+1]\n",
    "            down += arr[i] > arr[i+1]\n",
    "            \n",
    "            if up and down: res = max(res, up + down + 1)\n",
    "                \n",
    "        return res"
   ]
  },
  {
   "cell_type": "code",
   "execution_count": 5,
   "metadata": {},
   "outputs": [
    {
     "data": {
      "text/plain": [
       "5"
      ]
     },
     "execution_count": 5,
     "metadata": {},
     "output_type": "execute_result"
    }
   ],
   "source": [
    "instance = Solution()\n",
    "instance.longestMountain([2,1,4,7,3,2,5])"
   ]
  }
 ],
 "metadata": {
  "kernelspec": {
   "display_name": "Python 3",
   "language": "python",
   "name": "python3"
  },
  "language_info": {
   "codemirror_mode": {
    "name": "ipython",
    "version": 3
   },
   "file_extension": ".py",
   "mimetype": "text/x-python",
   "name": "python",
   "nbconvert_exporter": "python",
   "pygments_lexer": "ipython3",
   "version": "3.7.3"
  }
 },
 "nbformat": 4,
 "nbformat_minor": 2
}
