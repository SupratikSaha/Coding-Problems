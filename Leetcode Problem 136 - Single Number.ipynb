{
 "cells": [
  {
   "cell_type": "markdown",
   "metadata": {},
   "source": [
    "# Hash Map using Python Dictionary  - O(n) run time, O(n) space"
   ]
  },
  {
   "cell_type": "code",
   "execution_count": 2,
   "metadata": {},
   "outputs": [],
   "source": [
    "class Solution:\n",
    "    def singleNumber(self, nums) -> int:\n",
    "        dictNum = dict()\n",
    "        \n",
    "        for num in nums:\n",
    "            try:\n",
    "                dictNum[num] += 1\n",
    "            except:\n",
    "                dictNum[num] = 1\n",
    "                \n",
    "        for num in nums:\n",
    "            if dictNum[num] == 1:\n",
    "                return num"
   ]
  },
  {
   "cell_type": "markdown",
   "metadata": {},
   "source": [
    "# Using Set - O(n) run time, O(n) space"
   ]
  },
  {
   "cell_type": "code",
   "execution_count": 5,
   "metadata": {},
   "outputs": [],
   "source": [
    "class Solution:\n",
    "    def singleNumber(self, nums) -> int:\n",
    "        setNum = set()\n",
    "        \n",
    "        for num in nums:\n",
    "            if num in setNum:\n",
    "                setNum.remove(num)\n",
    "            else:\n",
    "                setNum.add(num)\n",
    "                \n",
    "        return setNum.pop()"
   ]
  },
  {
   "cell_type": "markdown",
   "metadata": {},
   "source": [
    "# Using XOR operation - O(n) run time, O(1) space"
   ]
  },
  {
   "cell_type": "code",
   "execution_count": 8,
   "metadata": {},
   "outputs": [],
   "source": [
    "class Solution:\n",
    "    def singleNumber(self, nums) -> int:\n",
    "        ret = 0\n",
    "        for num in nums:\n",
    "            ret ^= num\n",
    "        \n",
    "        return ret"
   ]
  },
  {
   "cell_type": "code",
   "execution_count": 10,
   "metadata": {},
   "outputs": [
    {
     "data": {
      "text/plain": [
       "5"
      ]
     },
     "execution_count": 10,
     "metadata": {},
     "output_type": "execute_result"
    }
   ],
   "source": [
    "Instance = Solution()\n",
    "Instance.singleNumber([1,2,3,3,2,1,5])"
   ]
  }
 ],
 "metadata": {
  "kernelspec": {
   "display_name": "Python 3",
   "language": "python",
   "name": "python3"
  },
  "language_info": {
   "codemirror_mode": {
    "name": "ipython",
    "version": 3
   },
   "file_extension": ".py",
   "mimetype": "text/x-python",
   "name": "python",
   "nbconvert_exporter": "python",
   "pygments_lexer": "ipython3",
   "version": "3.7.3"
  }
 },
 "nbformat": 4,
 "nbformat_minor": 2
}
