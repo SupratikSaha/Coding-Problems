{
 "cells": [
  {
   "cell_type": "markdown",
   "metadata": {},
   "source": [
    "Problem Statement. <br/>\n",
    "\n",
    "Write a program to find the node at which the intersection of two singly linked lists begins. <br/>\n",
    "\n",
    "Example 1: <br/>\n",
    "Input: intersectVal = 8, listA = [4,1,8,4,5], listB = [5,6,1,8,4,5], skipA = 2, skipB = 3 <br/>\n",
    "Output: Reference of the node with value = 8 <br/>\n",
    "Input Explanation: The intersected node's value is 8 (note that this must not be 0 if the two lists intersect). From the head of A, it reads as [4,1,8,4,5]. From the head of B, it reads as [5,6,1,8,4,5]. There are 2 nodes before the intersected node in A; There are 3 nodes before the intersected node in B. <br/>\n",
    "\n",
    "Example 2: <br/>\n",
    "Input: intersectVal = 2, listA = [1,9,1,2,4], listB = [3,2,4], skipA = 3, skipB = 1 <br/>\n",
    "Output: Reference of the node with value = 2 <br/>\n",
    "Input Explanation: The intersected node's value is 2 (note that this must not be 0 if the two lists intersect). From the head of A, it reads as [1,9,1,2,4]. From the head of B, it reads as [3,2,4]. There are 3 nodes before the intersected node in A; There are 1 node before the intersected node in B. <br/>\n",
    "\n",
    "Example 3: <br/>\n",
    "Input: intersectVal = 0, listA = [2,6,4], listB = [1,5], skipA = 3, skipB = 2 <br/>\n",
    "Output: null <br/>\n",
    "Input Explanation: From the head of A, it reads as [2,6,4]. From the head of B, it reads as [1,5]. Since the two lists do not intersect, intersectVal must be 0, while skipA and skipB can be arbitrary values. <br/>\n",
    "Explanation: The two lists do not intersect, so return null. <br/>\n",
    "\n",
    "Notes: <br/>\n",
    "\n",
    "    If the two linked lists have no intersection at all, return null. <br/>\n",
    "    The linked lists must retain their original structure after the function returns. <br/>\n",
    "    You may assume there are no cycles anywhere in the entire linked structure. <br/>\n",
    "    Each value on each linked list is in the range [1, 10^9]. <br/>\n",
    "    Your code should preferably run in O(n) time and use only O(1) memory."
   ]
  },
  {
   "cell_type": "markdown",
   "metadata": {},
   "source": [
    "# Two Pointers - O(M + N) runtime, O(1) space"
   ]
  },
  {
   "cell_type": "code",
   "execution_count": 1,
   "metadata": {},
   "outputs": [],
   "source": [
    "from typing import List\n",
    "\n",
    "# Definition for singly-linked list.\n",
    "class ListNode:\n",
    "    def __init__(self, x):\n",
    "        self.val = x\n",
    "        self.next = None\n",
    "\n",
    "class Solution:\n",
    "    def getIntersectionNode(self, headA: ListNode, headB: ListNode) -> ListNode:\n",
    "        \n",
    "        pA, pB = headA, headB\n",
    "        \n",
    "        while pA != pB:\n",
    "            \n",
    "            if not pA:\n",
    "                pA = headB\n",
    "            else:\n",
    "                pA = pA.next\n",
    "            if not pB:\n",
    "                pB = headA\n",
    "            else:\n",
    "                pB = pB.next\n",
    "                \n",
    "        return pA"
   ]
  }
 ],
 "metadata": {
  "kernelspec": {
   "display_name": "Python 3",
   "language": "python",
   "name": "python3"
  },
  "language_info": {
   "codemirror_mode": {
    "name": "ipython",
    "version": 3
   },
   "file_extension": ".py",
   "mimetype": "text/x-python",
   "name": "python",
   "nbconvert_exporter": "python",
   "pygments_lexer": "ipython3",
   "version": "3.7.3"
  }
 },
 "nbformat": 4,
 "nbformat_minor": 2
}
