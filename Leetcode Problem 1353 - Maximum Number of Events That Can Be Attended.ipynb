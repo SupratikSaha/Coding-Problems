{
 "cells": [
  {
   "cell_type": "markdown",
   "metadata": {},
   "source": [
    "Problem Statement.\n",
    "\n",
    "Given an array of events where events[i] = [startDayi, endDayi]. Every event i starts at startDayi and ends at endDayi.\n",
    "\n",
    "You can attend an event i at any day d where startTimei <= d <= endTimei. Notice that you can only attend one event at any time d.\n",
    "\n",
    "Return the maximum number of events you can attend.\n",
    "\n",
    " \n",
    "\n",
    "Example 1:\n",
    "\n",
    "Input: events = [[1,2],[2,3],[3,4]]\n",
    "Output: 3\n",
    "Explanation: You can attend all the three events.\n",
    "One way to attend them all is as shown.\n",
    "Attend the first event on day 1.\n",
    "Attend the second event on day 2.\n",
    "Attend the third event on day 3.\n",
    "\n",
    "Example 2:\n",
    "\n",
    "Input: events= [[1,2],[2,3],[3,4],[1,2]]\n",
    "Output: 4\n",
    "\n",
    "Example 3:\n",
    "\n",
    "Input: events = [[1,4],[4,4],[2,2],[3,4],[1,1]]\n",
    "Output: 4\n",
    "\n",
    "Example 4:\n",
    "\n",
    "Input: events = [[1,100000]]\n",
    "Output: 1\n",
    "\n",
    "Example 5:\n",
    "\n",
    "Input: events = [[1,1],[1,2],[1,3],[1,4],[1,5],[1,6],[1,7]]\n",
    "Output: 7\n",
    "\n",
    " \n",
    "\n",
    "Constraints:\n",
    "\n",
    "    1 <= events.length <= 10^5\n",
    "    events[i].length == 2\n",
    "    1 <= startDayi <= endDayi <= 10^5\n",
    "\n"
   ]
  },
  {
   "cell_type": "markdown",
   "metadata": {},
   "source": [
    "# Sort and Two Loops - Time Limit Exceeded - O(N * LogN + N * R) runtime, O(R) space, where N is the number of events and R is the range of days"
   ]
  },
  {
   "cell_type": "code",
   "execution_count": 1,
   "metadata": {},
   "outputs": [],
   "source": [
    "from typing import List\n",
    "\n",
    "class Solution:\n",
    "    def maxEvents(self, events: List[List[int]]) -> int:\n",
    "        events = sorted(events, key=lambda e: e[1])\n",
    "        usedDaySet = set()\n",
    "        \n",
    "        for event in events:\n",
    "            for day in range(event[0], event[1]+1):\n",
    "                if day not in usedDaySet:\n",
    "                    usedDaySet.add(day)\n",
    "                    break\n",
    "                    \n",
    "        return len(usedDaySet)"
   ]
  },
  {
   "cell_type": "markdown",
   "metadata": {},
   "source": [
    "# Sort and Min Heap - O(n * Log N) runtime, O(N) space, where N is the number of events "
   ]
  },
  {
   "cell_type": "code",
   "execution_count": 3,
   "metadata": {},
   "outputs": [],
   "source": [
    "from typing import List\n",
    "from heapq import heappush, heappop\n",
    "\n",
    "class Solution:\n",
    "    def maxEvents(self, events: List[List[int]]) -> int:\n",
    "        events.sort(reverse=True)\n",
    "        \n",
    "        minHeapEndDay = []\n",
    "        res = d = 0\n",
    "        \n",
    "        while events or minHeapEndDay:\n",
    "            if not minHeapEndDay: d = events[-1][0]\n",
    "                \n",
    "            while events and events[-1][0] == d:\n",
    "                heappush(minHeapEndDay, events.pop()[1])\n",
    "                \n",
    "            heappop(minHeapEndDay)\n",
    "            res += 1\n",
    "            d += 1\n",
    "            \n",
    "            while minHeapEndDay and minHeapEndDay[0] < d:\n",
    "                heappop(minHeapEndDay)\n",
    "                \n",
    "        return res"
   ]
  },
  {
   "cell_type": "code",
   "execution_count": 4,
   "metadata": {},
   "outputs": [
    {
     "data": {
      "text/plain": [
       "4"
      ]
     },
     "execution_count": 4,
     "metadata": {},
     "output_type": "execute_result"
    }
   ],
   "source": [
    "instance = Solution()\n",
    "instance.maxEvents([[1,2],[2,3],[3,4],[1,2]])"
   ]
  }
 ],
 "metadata": {
  "kernelspec": {
   "display_name": "Python 3",
   "language": "python",
   "name": "python3"
  },
  "language_info": {
   "codemirror_mode": {
    "name": "ipython",
    "version": 3
   },
   "file_extension": ".py",
   "mimetype": "text/x-python",
   "name": "python",
   "nbconvert_exporter": "python",
   "pygments_lexer": "ipython3",
   "version": "3.7.3"
  }
 },
 "nbformat": 4,
 "nbformat_minor": 2
}
