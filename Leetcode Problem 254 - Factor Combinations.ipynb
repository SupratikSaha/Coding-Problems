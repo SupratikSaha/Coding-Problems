{
 "cells": [
  {
   "cell_type": "markdown",
   "metadata": {},
   "source": [
    "Problem Statement.\n",
    "\n",
    "Numbers can be regarded as the product of their factors.\n",
    "\n",
    "    For example, 8 = 2 x 2 x 2 = 2 x 4.\n",
    "\n",
    "Given an integer n, return all possible combinations of its factors. You may return the answer in any order.\n",
    "\n",
    "Note that the factors should be in the range [2, n - 1].\n",
    "\n",
    " \n",
    "\n",
    "Example 1:\n",
    "\n",
    "Input: n = 1\n",
    "Output: []\n",
    "\n",
    "Example 2:\n",
    "\n",
    "Input: n = 12\n",
    "Output: [[2,6],[3,4],[2,2,3]]\n",
    "\n",
    "Example 3:\n",
    "\n",
    "Input: n = 37\n",
    "Output: []\n",
    "\n",
    "Example 4:\n",
    "\n",
    "Input: n = 32\n",
    "Output: [[2,16],[4,8],[2,2,8],[2,4,4],[2,2,2,4],[2,2,2,2,2]]\n",
    "\n",
    " \n",
    "\n",
    "Constraints:\n",
    "\n",
    "    1 <= n <= 108"
   ]
  },
  {
   "cell_type": "markdown",
   "metadata": {},
   "source": [
    "# Top Down DP with memo - O(N ^ N) runtime, O(N) space"
   ]
  },
  {
   "cell_type": "code",
   "execution_count": 1,
   "metadata": {},
   "outputs": [],
   "source": [
    "from typing import List, Set, Tuple\n",
    "from functools import lru_cache\n",
    "from math import floor, sqrt\n",
    "\n",
    "class Solution:\n",
    "    def getFactors(self, n: int) -> List[List[int]]:\n",
    "        resultSet = self.getFactorsRecursive(n)\n",
    "        resultSet.remove((n,))\n",
    "        return [list(x) for x in resultSet]\n",
    "                                        \n",
    "    \n",
    "    @lru_cache(maxsize = None)\n",
    "    def getFactorsRecursive(self, n: int) -> Set[Tuple[int]]:\n",
    "        currSet = set()\n",
    "        for i in range(2, floor(sqrt(n)) + 1):\n",
    "            currList = [i]\n",
    "            if n % i == 0:\n",
    "                for remList in self.getFactorsRecursive(n//i):\n",
    "                    currList = sorted([i] + [i for i in remList])\n",
    "                    currSet.add(tuple(currList))\n",
    "        currSet.add((n,))           \n",
    "        return currSet"
   ]
  },
  {
   "cell_type": "markdown",
   "metadata": {},
   "source": [
    "# Backtracking - O(N Log N) runtime, O(Log N) space"
   ]
  },
  {
   "cell_type": "code",
   "execution_count": 2,
   "metadata": {},
   "outputs": [],
   "source": [
    "from typing import List, Set, Tuple\n",
    "from math import floor, sqrt\n",
    "\n",
    "class Solution:\n",
    "    def getFactors(self, n: int) -> List[List[int]]:\n",
    "        self.factors = []\n",
    "        self.backtracking(n, [])\n",
    "        return self.factors\n",
    "\n",
    "    def backtracking(self, n, curr):\n",
    "        start = curr[-1] if curr else 2\n",
    "        for d in range(start, floor(sqrt(n)) + 1):\n",
    "            if n % d == 0:\n",
    "                curr.append(d)\n",
    "                self.factors.append(curr[:] + [n//d])\n",
    "                self.backtracking(n//d, curr)\n",
    "                curr.pop()"
   ]
  },
  {
   "cell_type": "code",
   "execution_count": 3,
   "metadata": {},
   "outputs": [
    {
     "data": {
      "text/plain": [
       "[[2, 6], [2, 2, 3], [3, 4]]"
      ]
     },
     "execution_count": 3,
     "metadata": {},
     "output_type": "execute_result"
    }
   ],
   "source": [
    "instance = Solution()\n",
    "instance.getFactors(12)"
   ]
  }
 ],
 "metadata": {
  "kernelspec": {
   "display_name": "Python 3",
   "language": "python",
   "name": "python3"
  },
  "language_info": {
   "codemirror_mode": {
    "name": "ipython",
    "version": 3
   },
   "file_extension": ".py",
   "mimetype": "text/x-python",
   "name": "python",
   "nbconvert_exporter": "python",
   "pygments_lexer": "ipython3",
   "version": "3.7.3"
  }
 },
 "nbformat": 4,
 "nbformat_minor": 2
}
