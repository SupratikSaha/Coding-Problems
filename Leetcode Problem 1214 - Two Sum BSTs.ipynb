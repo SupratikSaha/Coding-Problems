{
 "cells": [
  {
   "cell_type": "markdown",
   "metadata": {},
   "source": [
    "Problem Statement.\n",
    "\n",
    "Given the roots of two binary search trees, root1 and root2, return true if and only if there is a node in the first tree and a node in the second tree whose values sum up to a given integer target.\n",
    "\n",
    " \n",
    "\n",
    "Example 1:\n",
    "\n",
    "Input: root1 = [2,1,4], root2 = [1,0,3], target = 5\n",
    "Output: true\n",
    "Explanation: 2 and 3 sum up to 5.\n",
    "\n",
    "Example 2:\n",
    "\n",
    "Input: root1 = [0,-10,10], root2 = [5,1,7,0,2], target = 18\n",
    "Output: false\n",
    "\n",
    " \n",
    "\n",
    "Constraints:\n",
    "\n",
    "    The number of nodes in each tree is in the range [1, 5000].\n",
    "    -109 <= Node.val, target <= 109"
   ]
  },
  {
   "cell_type": "markdown",
   "metadata": {},
   "source": [
    "# Preorder BFS - O(M + N) runtime, O(M + N) space"
   ]
  },
  {
   "cell_type": "code",
   "execution_count": 1,
   "metadata": {},
   "outputs": [],
   "source": [
    "# Definition for a binary tree node.\n",
    "# class TreeNode:\n",
    "#     def __init__(self, val=0, left=None, right=None):\n",
    "#         self.val = val\n",
    "#         self.left = left\n",
    "#         self.right = right\n",
    "\n",
    "class Solution:\n",
    "    def twoSumBSTs(self, root1: TreeNode, root2: TreeNode, target: int) -> bool:\n",
    "        tree2Set = set()\n",
    "        \n",
    "        queue = deque([root2])\n",
    "        while queue:\n",
    "            node = queue.popleft()\n",
    "            tree2Set.add(target-node.val)\n",
    "            \n",
    "            for child in [node.left, node.right]:\n",
    "                if child: queue.append(child)\n",
    "                    \n",
    "        queue = deque([root1])\n",
    "        while queue:\n",
    "            node = queue.popleft()\n",
    "            if node.val in tree2Set: return True\n",
    "            \n",
    "            for child in [node.left, node.right]:\n",
    "                if child: queue.append(child)\n",
    "                    \n",
    "                    \n",
    "        return False"
   ]
  },
  {
   "cell_type": "markdown",
   "metadata": {},
   "source": [
    "# Inorder - O(M + N) runtime, O(M + N) space"
   ]
  },
  {
   "cell_type": "code",
   "execution_count": 2,
   "metadata": {},
   "outputs": [],
   "source": [
    "# class TreeNode:\n",
    "#     def __init__(self, val=0, left=None, right=None):\n",
    "#         self.val = val\n",
    "#         self.left = left\n",
    "#         self.right = right\n",
    "        \n",
    "class Solution:\n",
    "    def twoSumBSTs(self, root1: TreeNode, root2: TreeNode, target: int) -> bool:\n",
    "        \n",
    "        stack, s = [], set()\n",
    "        # traverse the first tree \n",
    "        # and store node complements (target - val) in hashset\n",
    "        while stack or root1:\n",
    "            while root1:\n",
    "                stack.append(root1)\n",
    "                root1 = root1.left\n",
    "            root1 = stack.pop()\n",
    "            s.add(target - root1.val)\n",
    "            root1 = root1.right\n",
    "        \n",
    "        # traverse the second tree \n",
    "        # and check if one of the values exists in hashset\n",
    "        while stack or root2:\n",
    "            while root2:\n",
    "                stack.append(root2)\n",
    "                root2 = root2.left\n",
    "            root2 = stack.pop()\n",
    "            if root2.val in s:\n",
    "                return True\n",
    "            root2 = root2.right\n",
    "\n",
    "        return False"
   ]
  },
  {
   "cell_type": "markdown",
   "metadata": {},
   "source": [
    "# BST Binary Search with Memoization - O(Log M * Log N) runtime, O(Log M * Log N )space"
   ]
  },
  {
   "cell_type": "code",
   "execution_count": 3,
   "metadata": {},
   "outputs": [],
   "source": [
    "from functools import lru_cache\n",
    "\n",
    "# Definition for a binary tree node.\n",
    "# class TreeNode:\n",
    "#     def __init__(self, val=0, left=None, right=None):\n",
    "#         self.val = val\n",
    "#         self.left = left\n",
    "#         self.right = right\n",
    "\n",
    "class Solution:\n",
    "    def twoSumBSTs(self, root1: TreeNode, root2: TreeNode, target: int) -> bool:\n",
    "        \n",
    "        @lru_cache(maxsize = None)\n",
    "        def twoSumBSTsRecursive(root1: TreeNode, root2: TreeNode):\n",
    "            if not root1 or not root2: return False\n",
    "            currSum = root1.val + root2.val\n",
    "            if currSum == target: return True\n",
    "            if currSum < target:\n",
    "                return twoSumBSTsRecursive(root1.right, root2) or twoSumBSTsRecursive(root1, root2.right)\n",
    "            else:\n",
    "                return twoSumBSTsRecursive(root1.left, root2) or twoSumBSTsRecursive(root1, root2.left)\n",
    "            \n",
    "        return twoSumBSTsRecursive(root1, root2)"
   ]
  }
 ],
 "metadata": {
  "kernelspec": {
   "display_name": "Python 3",
   "language": "python",
   "name": "python3"
  },
  "language_info": {
   "codemirror_mode": {
    "name": "ipython",
    "version": 3
   },
   "file_extension": ".py",
   "mimetype": "text/x-python",
   "name": "python",
   "nbconvert_exporter": "python",
   "pygments_lexer": "ipython3",
   "version": "3.7.3"
  }
 },
 "nbformat": 4,
 "nbformat_minor": 2
}
