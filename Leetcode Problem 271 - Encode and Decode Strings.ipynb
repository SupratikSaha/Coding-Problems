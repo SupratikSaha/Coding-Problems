{
 "cells": [
  {
   "cell_type": "markdown",
   "metadata": {},
   "source": [
    "Design an algorithm to encode a list of strings to a string. The encoded string is then sent over the network and is decoded back to the original list of strings.\n",
    "\n",
    "Machine 1 (sender) has the function:\n",
    "\n",
    "string encode(vector<string> strs) {\n",
    "  // ... your code\n",
    "  return encoded_string;\n",
    "}\n",
    "\n",
    "Machine 2 (receiver) has the function:\n",
    "\n",
    "vector<string> decode(string s) {\n",
    "  //... your code\n",
    "  return strs;\n",
    "}\n",
    "\n",
    "So Machine 1 does:\n",
    "\n",
    "string encoded_string = encode(strs);\n",
    "\n",
    "and Machine 2 does:\n",
    "\n",
    "vector<string> strs2 = decode(encoded_string);\n",
    "\n",
    "strs2 in Machine 2 should be the same as strs in Machine 1.\n",
    "\n",
    "Implement the encode and decode methods.\n",
    "\n",
    " \n",
    "\n",
    "Note:\n",
    "\n",
    "    The string may contain any possible characters out of 256 valid ascii characters. Your algorithm should be generalized enough to work on any possible characters.\n",
    "    Do not use class member/global/static variables to store states. Your encode and decode algorithms should be stateless.\n",
    "    Do not rely on any library method such as eval or serialize methods. You should implement your own encode/decode algorithm."
   ]
  },
  {
   "cell_type": "markdown",
   "metadata": {},
   "source": [
    "# Cipher - O(n) runtime, O(1) encode space and O(n) decode space where n is the total length of the strings in the list"
   ]
  },
  {
   "cell_type": "code",
   "execution_count": 1,
   "metadata": {},
   "outputs": [],
   "source": [
    "class Codec:\n",
    "    def encode(self, strs: [str]) -> str:\n",
    "        \"\"\"Encodes a list of strings to a single string.\n",
    "        \"\"\"\n",
    "        def do_encode(string):\n",
    "            if string == \"\":\n",
    "                return \"256\"\n",
    "            encoded = \"\"\n",
    "            for char in string:\n",
    "                ascii_num = ord(char)\n",
    "                if ascii_num == 255:\n",
    "                    encoded = encoded + \"0,\"\n",
    "                else:\n",
    "                    encoded = encoded + str(ascii_num + 1) + \",\"\n",
    "\n",
    "            return encoded[:len(encoded) - 1]\n",
    "        \n",
    "        if strs == []:\n",
    "            return None\n",
    "        encoded_str = \"\"\n",
    "        for _, string in enumerate(strs):\n",
    "            encoded_str = encoded_str + do_encode(string) + \";\"\n",
    "            \n",
    "        return encoded_str[:len(encoded_str) - 1]\n",
    "                \n",
    "        \n",
    "\n",
    "    def decode(self, s: str) -> [str]:\n",
    "        \"\"\"Decodes a single string to a list of strings.\n",
    "        \"\"\"\n",
    "        def do_decode(string_list):\n",
    "            if string_list == \"256\":\n",
    "                return \"\"\n",
    "            decoded = string_list.split(',')\n",
    "            for i, num in enumerate(decoded):\n",
    "                if int(num) == 0:\n",
    "                    decoded[i] = chr(255)\n",
    "                else:\n",
    "                    decoded[i] = chr(int(num) - 1)\n",
    "                    \n",
    "            decoded_str = \"\"\n",
    "            for string in decoded:\n",
    "                decoded_str = decoded_str + string\n",
    "\n",
    "            return decoded_str\n",
    "        \n",
    "        if not s:\n",
    "            return []\n",
    "        \n",
    "        decoded_list = s.split(';')\n",
    "        for i, string_list in enumerate(decoded_list):\n",
    "            decoded_list[i] = do_decode(string_list)\n",
    "            \n",
    "        return decoded_list\n",
    "        \n",
    "\n",
    "\n",
    "# Your Codec object will be instantiated and called as such:\n",
    "# "
   ]
  },
  {
   "cell_type": "markdown",
   "metadata": {},
   "source": [
    "# Non-ASCII Delimiter and join strings - O(n) runtime, O(1) encode space and O(n) decode space where n is the total length of the strings in the list"
   ]
  },
  {
   "cell_type": "code",
   "execution_count": 5,
   "metadata": {},
   "outputs": [],
   "source": [
    "class Codec:\n",
    "    def encode(self, strs: [str]) -> str:\n",
    "        \"\"\"Encodes a list of strings to a single string.\n",
    "        \"\"\"\n",
    "        if len(strs) == 0: \n",
    "            return chr(258)\n",
    "        \n",
    "        # encode here is a workaround to fix BE CodecDriver error\n",
    "        res = b\"\\uE257\".join(x.encode('utf-8') for x in strs)\n",
    "        return res\n",
    "        \n",
    "\n",
    "    def decode(self, s: str) -> [str]:\n",
    "        \"\"\"Decodes a single string to a list of strings.\n",
    "        \"\"\"\n",
    "        if s == chr(258): \n",
    "            return []\n",
    "        res =  s.split(b\"\\uE257\")\n",
    "        return [x.decode(\"utf-8\") for x in res]"
   ]
  },
  {
   "cell_type": "code",
   "execution_count": 6,
   "metadata": {},
   "outputs": [
    {
     "data": {
      "text/plain": [
       "['Hello', 'World']"
      ]
     },
     "execution_count": 6,
     "metadata": {},
     "output_type": "execute_result"
    }
   ],
   "source": [
    "codec = Codec()\n",
    "codec.decode(codec.encode([\"Hello\",\"World\"]))"
   ]
  }
 ],
 "metadata": {
  "kernelspec": {
   "display_name": "Python 3",
   "language": "python",
   "name": "python3"
  },
  "language_info": {
   "codemirror_mode": {
    "name": "ipython",
    "version": 3
   },
   "file_extension": ".py",
   "mimetype": "text/x-python",
   "name": "python",
   "nbconvert_exporter": "python",
   "pygments_lexer": "ipython3",
   "version": "3.7.3"
  }
 },
 "nbformat": 4,
 "nbformat_minor": 2
}
