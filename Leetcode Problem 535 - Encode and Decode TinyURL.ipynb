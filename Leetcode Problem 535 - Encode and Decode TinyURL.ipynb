{
 "cells": [
  {
   "cell_type": "markdown",
   "metadata": {},
   "source": [
    "Problem Statement.\n",
    "\n",
    "    Note: This is a companion problem to the System Design problem: Design TinyURL.\n",
    "\n",
    "TinyURL is a URL shortening service where you enter a URL such as https://leetcode.com/problems/design-tinyurl and it returns a short URL such as http://tinyurl.com/4e9iAk. Design a class to encode a URL and decode a tiny URL.\n",
    "\n",
    "There is no restriction on how your encode/decode algorithm should work. You just need to ensure that a URL can be encoded to a tiny URL and the tiny URL can be decoded to the original URL.\n",
    "\n",
    "Implement the Solution class:\n",
    "\n",
    "    Solution() Initializes the object of the system.\n",
    "    String encode(String longUrl) Returns a tiny URL for the given longUrl.\n",
    "    String decode(String shortUrl) Returns the original long URL for the given shortUrl. It is guaranteed that the given shortUrl was encoded by the same object.\n",
    "\n",
    " \n",
    "\n",
    "Example 1:\n",
    "\n",
    "Input: url = \"https://leetcode.com/problems/design-tinyurl\"\n",
    "Output: \"https://leetcode.com/problems/design-tinyurl\"\n",
    "\n",
    "Explanation:\n",
    "Solution obj = new Solution();\n",
    "string tiny = obj.encode(url); // returns the encoded tiny url.\n",
    "string ans = obj.decode(tiny); // returns the original url after deconding it.\n",
    "\n",
    " \n",
    "\n",
    "Constraints:\n",
    "\n",
    "    1 <= url.length <= 10^4\n",
    "    url is guranteed to be a valid URL."
   ]
  },
  {
   "cell_type": "markdown",
   "metadata": {},
   "source": [
    "# Base64 Encoder - O(L) encode, O(1) decode runtime, O(N * L) space"
   ]
  },
  {
   "cell_type": "code",
   "execution_count": 1,
   "metadata": {},
   "outputs": [],
   "source": [
    "import base64\n",
    "\n",
    "class Codec:\n",
    "    \n",
    "    def __init__(self):\n",
    "        self.urlDict = {}\n",
    "\n",
    "    def encode(self, longUrl: str) -> str:\n",
    "        \"\"\"Encodes a URL to a shortened URL.\n",
    "        \"\"\"\n",
    "        message_bytes = longUrl.encode('ascii')\n",
    "        encoded = \"http://tinyurl.com/\" + base64.b64encode(message_bytes).decode('ascii')[:6]\n",
    "        self.urlDict[encoded] = longUrl\n",
    "        \n",
    "        return encoded\n",
    "\n",
    "    def decode(self, shortUrl: str) -> str:\n",
    "        \"\"\"Decodes a shortened URL to its original URL.\n",
    "        \"\"\"\n",
    "        return self.urlDict[shortUrl]"
   ]
  },
  {
   "cell_type": "markdown",
   "metadata": {},
   "source": [
    "# Using Numbers - O(1) encode, O(1) decode runtime, O(N * L) space"
   ]
  },
  {
   "cell_type": "code",
   "execution_count": null,
   "metadata": {},
   "outputs": [],
   "source": [
    "class Codec:\n",
    "    \n",
    "    def __init__(self):\n",
    "        self.urls = []\n",
    "    \n",
    "    def encode(self, longUrl: str) -> str:\n",
    "        \"\"\"Encodes a URL to a shortened URL.\n",
    "        \"\"\"\n",
    "        self.urls.append(longUrl)\n",
    "        return 'http://tinyurl.com/' + str(len(self.urls)-1)\n",
    "    \n",
    "    def decode(self, shortUrl: str) -> str:\n",
    "        \"\"\"Decodes a shortened URL to its original URL.\n",
    "        \"\"\"\n",
    "        return self.urls[int(shortUrl.split('/')[-1])]"
   ]
  },
  {
   "cell_type": "markdown",
   "metadata": {},
   "source": [
    "# Using random character set - O(1) encode, O(1) decode runtime, O(N * L) space"
   ]
  },
  {
   "cell_type": "code",
   "execution_count": 5,
   "metadata": {},
   "outputs": [],
   "source": [
    "from random import choice\n",
    "from string import ascii_letters, digits\n",
    "\n",
    "class Codec:\n",
    "    \n",
    "    def __init__(self):\n",
    "        self.urlDict = {}\n",
    "        self.letter_set = ascii_letters + digits\n",
    "\n",
    "    def encode(self, longUrl: str) -> str:\n",
    "        \"\"\"Encodes a URL to a shortened URL.\n",
    "        \"\"\"\n",
    "        code = ''.join([choice(self.letter_set) for _ in range(6)])\n",
    "        self.urlDict[code] = longUrl\n",
    "        return \"http://tinyurl.com/\" + code\n",
    "    \n",
    "    def decode(self, shortUrl: str) -> str:\n",
    "        \"\"\"Decodes a shortened URL to its original URL.\n",
    "        \"\"\"\n",
    "        code = shortUrl.split(\"http://tinyurl.com/\")[1]\n",
    "        return self.urlDict[code] "
   ]
  },
  {
   "cell_type": "code",
   "execution_count": 6,
   "metadata": {},
   "outputs": [
    {
     "name": "stdout",
     "output_type": "stream",
     "text": [
      "http://tinyurl.com/pP82fm\n",
      "https://leetcode.com/problems/design-tinyurl\n"
     ]
    }
   ],
   "source": [
    "codec = Codec()\n",
    "print(codec.encode(\"https://leetcode.com/problems/design-tinyurl\"))\n",
    "print(codec.decode(codec.encode(\"https://leetcode.com/problems/design-tinyurl\")))"
   ]
  }
 ],
 "metadata": {
  "kernelspec": {
   "display_name": "Python 3",
   "language": "python",
   "name": "python3"
  },
  "language_info": {
   "codemirror_mode": {
    "name": "ipython",
    "version": 3
   },
   "file_extension": ".py",
   "mimetype": "text/x-python",
   "name": "python",
   "nbconvert_exporter": "python",
   "pygments_lexer": "ipython3",
   "version": "3.7.3"
  }
 },
 "nbformat": 4,
 "nbformat_minor": 2
}
