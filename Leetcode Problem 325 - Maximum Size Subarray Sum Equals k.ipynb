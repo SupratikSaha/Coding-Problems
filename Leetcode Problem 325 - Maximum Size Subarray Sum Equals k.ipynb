{
 "cells": [
  {
   "cell_type": "markdown",
   "metadata": {},
   "source": [
    "Problem Statement.\n",
    "\n",
    "Given an integer array nums and an integer k, return the maximum length of a subarray that sums to k. If there isn't one, return 0 instead.\n",
    "\n",
    " \n",
    "\n",
    "Example 1:\n",
    "\n",
    "Input: nums = [1,-1,5,-2,3], k = 3\n",
    "Output: 4\n",
    "Explanation: The subarray [1, -1, 5, -2] sums to 3 and is the longest.\n",
    "\n",
    "Example 2:\n",
    "\n",
    "Input: nums = [-2,-1,2,1], k = 1\n",
    "Output: 2\n",
    "Explanation: The subarray [-1, 2] sums to 1 and is the longest.\n",
    "\n",
    " \n",
    "\n",
    "Constraints:\n",
    "\n",
    "    1 <= nums.length <= 104\n",
    "    -104 <= nums[i] <= 104\n",
    "    -105 <= k <= 105\n",
    "\n",
    " \n",
    "\n",
    "Follow Up: Can you do it in O(n) time?"
   ]
  },
  {
   "cell_type": "markdown",
   "metadata": {},
   "source": [
    "# Hash Table - O(N) runtime, O(N) space"
   ]
  },
  {
   "cell_type": "code",
   "execution_count": 1,
   "metadata": {},
   "outputs": [],
   "source": [
    "from typing import List\n",
    "\n",
    "class Solution:\n",
    "    def maxSubArrayLen(self, nums: List[int], k: int) -> int:\n",
    "        sumSet = {0: -1}\n",
    "        \n",
    "        maxLength = float('-inf')\n",
    "        currSum = 0\n",
    "        for i, num in enumerate(nums):\n",
    "            currSum += num\n",
    "            target = currSum - k\n",
    "            if target in sumSet:\n",
    "                maxLength = max(maxLength, i - sumSet[target])\n",
    "            if currSum not in sumSet:\n",
    "                sumSet[currSum] = i\n",
    "                \n",
    "        return maxLength if maxLength > float('-inf') else 0"
   ]
  },
  {
   "cell_type": "code",
   "execution_count": 2,
   "metadata": {},
   "outputs": [
    {
     "data": {
      "text/plain": [
       "4"
      ]
     },
     "execution_count": 2,
     "metadata": {},
     "output_type": "execute_result"
    }
   ],
   "source": [
    "instance = Solution()\n",
    "instance.maxSubArrayLen( [1,-1,5,-2,3], 3)"
   ]
  }
 ],
 "metadata": {
  "kernelspec": {
   "display_name": "Python 3",
   "language": "python",
   "name": "python3"
  },
  "language_info": {
   "codemirror_mode": {
    "name": "ipython",
    "version": 3
   },
   "file_extension": ".py",
   "mimetype": "text/x-python",
   "name": "python",
   "nbconvert_exporter": "python",
   "pygments_lexer": "ipython3",
   "version": "3.7.3"
  }
 },
 "nbformat": 4,
 "nbformat_minor": 2
}
