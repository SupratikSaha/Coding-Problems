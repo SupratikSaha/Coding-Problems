{
 "cells": [
  {
   "cell_type": "markdown",
   "metadata": {},
   "source": [
    "Problem Statement. <br/>\n",
    "\n",
    "Design a data structure that follows the constraints of a Least Recently Used (LRU) cache. <br/>\n",
    "\n",
    "Implement the LRUCache class: <br/>\n",
    "\n",
    "    LRUCache(int capacity) Initialize the LRU cache with positive size capacity. <br/>\n",
    "    int get(int key) Return the value of the key if the key exists, otherwise return -1. <br/>\n",
    "    void put(int key, int value) Update the value of the key if the key exists. Otherwise, add the key-value pair to the cache. If the number of keys exceeds the capacity from this operation, evict the least recently used key.\n"
   ]
  },
  {
   "cell_type": "markdown",
   "metadata": {},
   "source": [
    "# Hash Map - O(1) Get, O(N) Put, O(C) space where C is the capacity"
   ]
  },
  {
   "cell_type": "code",
   "execution_count": 17,
   "metadata": {},
   "outputs": [],
   "source": [
    "from datetime import datetime\n",
    "\n",
    "class LRUCache:\n",
    "\n",
    "    def __init__(self, capacity: int):\n",
    "        self.capacity = capacity\n",
    "        self.cache = {}\n",
    "        \n",
    "\n",
    "    def get(self, key: int) -> int:\n",
    "        \n",
    "        if key in self.cache:\n",
    "            dt = datetime.now()\n",
    "            seq = int(dt.strftime(\"%Y%m%d%H%M%S%f\"))\n",
    "            self.cache[key][0] = seq\n",
    "            return self.cache[key][1]\n",
    "        \n",
    "        return -1\n",
    "        \n",
    "\n",
    "    def put(self, key: int, value: int) -> None:\n",
    "        dt = datetime.now()\n",
    "        seq = int(dt.strftime(\"%Y%m%d%H%M%S%f\"))\n",
    "        if key not in self.cache and len(self.cache) == self.capacity:\n",
    "            last_accessed = min(self.cache.items(), key=lambda x: x[1][0])\n",
    "            self.cache.pop(last_accessed[0])\n",
    "        self.cache[key] = [seq, value]"
   ]
  },
  {
   "cell_type": "markdown",
   "metadata": {},
   "source": [
    "# Hash Map + Doubly Linked Node - O(1) Get, O(1) Put, O(C) space where C is the capacity"
   ]
  },
  {
   "cell_type": "code",
   "execution_count": 21,
   "metadata": {},
   "outputs": [],
   "source": [
    "class DLinkedNode(): \n",
    "    def __init__(self):\n",
    "        self.key = 0\n",
    "        self.value = 0\n",
    "        self.prev = None\n",
    "        self.next = None\n",
    "\n",
    "class LRUCache(OrderedDict):\n",
    "    \n",
    "    def _add_node(self, node: DLinkedNode):\n",
    "        \"\"\"\n",
    "        Always add the new node right after head.\n",
    "        \"\"\"\n",
    "        node.prev = self.head\n",
    "        node.next = self.head.next\n",
    "\n",
    "        self.head.next.prev = node\n",
    "        self.head.next = node\n",
    "\n",
    "    def _remove_node(self, node: DLinkedNode):\n",
    "        \"\"\"\n",
    "        Remove an existing node from the linked list.\n",
    "        \"\"\"\n",
    "        prev = node.prev\n",
    "        new = node.next\n",
    "\n",
    "        prev.next = new\n",
    "        new.prev = prev\n",
    "\n",
    "    def _move_to_head(self, node: DLinkedNode):\n",
    "        \"\"\"\n",
    "        Move certain node in between to the head.\n",
    "        \"\"\"\n",
    "        self._remove_node(node)\n",
    "        self._add_node(node)\n",
    "\n",
    "    def _pop_tail(self) -> DLinkedNode:\n",
    "        \"\"\"\n",
    "        Pop the current tail.\n",
    "        \"\"\"\n",
    "        res = self.tail.prev\n",
    "        self._remove_node(res)\n",
    "        return res\n",
    "\n",
    "    def __init__(self, capacity: int):\n",
    "        self.cache = {}\n",
    "        self.size = 0\n",
    "        self.capacity = capacity\n",
    "        self.head, self.tail = DLinkedNode(), DLinkedNode()\n",
    "\n",
    "        self.head.next = self.tail\n",
    "        self.tail.prev = self.head\n",
    "        \n",
    "\n",
    "    def get(self, key: int) -> int:\n",
    "        \n",
    "        node = self.cache.get(key, None)\n",
    "        if not node:\n",
    "            return -1\n",
    "\n",
    "        # move the accessed node to the head;\n",
    "        self._move_to_head(node)\n",
    "\n",
    "        return node.value\n",
    "        \n",
    "\n",
    "    def put(self, key: int, value: int) -> None:\n",
    "        node = self.cache.get(key)\n",
    "\n",
    "        if not node: \n",
    "            newNode = DLinkedNode()\n",
    "            newNode.key = key\n",
    "            newNode.value = value\n",
    "\n",
    "            self.cache[key] = newNode\n",
    "            self._add_node(newNode)\n",
    "\n",
    "            self.size += 1\n",
    "\n",
    "            if self.size > self.capacity:\n",
    "                # pop the tail\n",
    "                tail = self._pop_tail()\n",
    "                del self.cache[tail.key]\n",
    "                self.size -= 1\n",
    "        else:\n",
    "            # update the value.\n",
    "            node.value = value\n",
    "            self._move_to_head(node)"
   ]
  },
  {
   "cell_type": "markdown",
   "metadata": {},
   "source": [
    "# Ordered Dict - O(1) Get, O(1) Put, O(C) space where C is the capacity"
   ]
  },
  {
   "cell_type": "code",
   "execution_count": 19,
   "metadata": {},
   "outputs": [],
   "source": [
    "from collections import OrderedDict\n",
    "\n",
    "class LRUCache(OrderedDict):\n",
    "\n",
    "    def __init__(self, capacity: int):\n",
    "        self.capacity = capacity\n",
    "        \n",
    "\n",
    "    def get(self, key: int) -> int:\n",
    "        \n",
    "        if key not in self:\n",
    "            return - 1\n",
    "        \n",
    "        self.move_to_end(key)\n",
    "        return self[key]\n",
    "        \n",
    "\n",
    "    def put(self, key: int, value: int) -> None:\n",
    "        if key in self:\n",
    "            self.move_to_end(key)\n",
    "        self[key] = value\n",
    "        if len(self) > self.capacity:\n",
    "            self.popitem(last = False)"
   ]
  },
  {
   "cell_type": "code",
   "execution_count": 22,
   "metadata": {},
   "outputs": [
    {
     "name": "stdout",
     "output_type": "stream",
     "text": [
      "1\n",
      "-1\n",
      "-1\n",
      "3\n",
      "4\n"
     ]
    }
   ],
   "source": [
    "lRUCache = LRUCache(2);\n",
    "lRUCache.put(1, 1); # cache is {1=1}\n",
    "lRUCache.put(2, 2); # cache is {1=1, 2=2}\n",
    "print(lRUCache.get(1));    # return 1\n",
    "lRUCache.put(3, 3); # LRU key was 2, evicts key 2, cache is {1=1, 3=3}\n",
    "print(lRUCache.get(2));    # returns -1 (not found)\n",
    "lRUCache.put(4, 4); # LRU key was 1, evicts key 1, cache is {4=4, 3=3}\n",
    "print(lRUCache.get(1));    # return -1 (not found)\n",
    "print(lRUCache.get(3));    # return 3\n",
    "print(lRUCache.get(4));    # return 4"
   ]
  }
 ],
 "metadata": {
  "kernelspec": {
   "display_name": "Python 3",
   "language": "python",
   "name": "python3"
  },
  "language_info": {
   "codemirror_mode": {
    "name": "ipython",
    "version": 3
   },
   "file_extension": ".py",
   "mimetype": "text/x-python",
   "name": "python",
   "nbconvert_exporter": "python",
   "pygments_lexer": "ipython3",
   "version": "3.7.3"
  }
 },
 "nbformat": 4,
 "nbformat_minor": 2
}
