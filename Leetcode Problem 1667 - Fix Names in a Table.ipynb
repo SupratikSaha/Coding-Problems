{
 "cells": [
  {
   "cell_type": "markdown",
   "metadata": {},
   "source": [
    "    Problem Statement.\n",
    "\n",
    "    Table: Users\n",
    "\n",
    "    +----------------+---------+\n",
    "    | Column Name    | Type    |\n",
    "    +----------------+---------+\n",
    "    | user_id        | int     |\n",
    "    | name           | varchar |\n",
    "    +----------------+---------+\n",
    "    user_id is the primary key for this table.\n",
    "    This table contains the ID and the name of the user. The name consists of only lowercase and uppercase characters.\n",
    "\n",
    "\n",
    "\n",
    "    Write an SQL query to fix the names so that only the first character is uppercase and the rest are lowercase.\n",
    "\n",
    "    Return the result table ordered by user_id.\n",
    "\n",
    "    The query result format is in the following example.\n",
    "\n",
    "\n",
    "\n",
    "    Example 1:\n",
    "\n",
    "    Input: \n",
    "    Users table:\n",
    "    +---------+-------+\n",
    "    | user_id | name  |\n",
    "    +---------+-------+\n",
    "    | 1       | aLice |\n",
    "    | 2       | bOB   |\n",
    "    +---------+-------+\n",
    "    Output: \n",
    "    +---------+-------+\n",
    "    | user_id | name  |\n",
    "    +---------+-------+\n",
    "    | 1       | Alice |\n",
    "    | 2       | Bob   |\n",
    "    +---------+-------+"
   ]
  },
  {
   "cell_type": "markdown",
   "metadata": {},
   "source": [
    "# Concat, Left, Substr, Upper, Lower"
   ]
  },
  {
   "cell_type": "code",
   "execution_count": null,
   "metadata": {},
   "outputs": [],
   "source": [
    "select user_id, concat(upper(left(name, 1)), lower(substr(name, 2))) as name\n",
    "from Users\n",
    "order by 1"
   ]
  }
 ],
 "metadata": {
  "kernelspec": {
   "display_name": "Python 3",
   "language": "python",
   "name": "python3"
  },
  "language_info": {
   "codemirror_mode": {
    "name": "ipython",
    "version": 3
   },
   "file_extension": ".py",
   "mimetype": "text/x-python",
   "name": "python",
   "nbconvert_exporter": "python",
   "pygments_lexer": "ipython3",
   "version": "3.7.3"
  }
 },
 "nbformat": 4,
 "nbformat_minor": 2
}
