{
 "cells": [
  {
   "cell_type": "markdown",
   "metadata": {},
   "source": [
    "Problem Statement.\n",
    "\n",
    "We have an array arr of non-negative integers.\n",
    "\n",
    "For every (contiguous) subarray sub = [arr[i], arr[i + 1], ..., arr[j]] (with i <= j), we take the bitwise OR of all the elements in sub, obtaining a result arr[i] | arr[i + 1] | ... | arr[j].\n",
    "\n",
    "Return the number of possible results. Results that occur more than once are only counted once in the final answer\n",
    "\n",
    " \n",
    "\n",
    "Example 1:\n",
    "\n",
    "Input: arr = [0]\n",
    "Output: 1\n",
    "Explanation: There is only one possible result: 0.\n",
    "\n",
    "Example 2:\n",
    "\n",
    "Input: arr = [1,1,2]\n",
    "Output: 3\n",
    "Explanation: The possible subarrays are [1], [1], [2], [1, 1], [1, 2], [1, 1, 2].\n",
    "These yield the results 1, 1, 2, 1, 3, 3.\n",
    "There are 3 unique values, so the answer is 3.\n",
    "\n",
    "Example 3:\n",
    "\n",
    "Input: arr = [1,2,4]\n",
    "Output: 6\n",
    "Explanation: The possible results are 1, 2, 3, 4, 6, and 7.\n",
    "\n",
    " \n",
    "\n",
    "Constraints:\n",
    "\n",
    "    1 <= nums.length <= 5 * 10^4\n",
    "    0 <= nums[i] <= 10^9"
   ]
  },
  {
   "cell_type": "markdown",
   "metadata": {},
   "source": [
    "# Hash Set - O(30N) runtime, O(1) space"
   ]
  },
  {
   "cell_type": "code",
   "execution_count": 1,
   "metadata": {},
   "outputs": [],
   "source": [
    "from typing import List\n",
    "\n",
    "class Solution:\n",
    "    def subarrayBitwiseORs(self, arr: List[int]) -> int:\n",
    "        res, cur = set(), set()\n",
    "        for i in arr:\n",
    "            # Size of cur is at most 30 (beacuse of in size limit)\n",
    "            cur = {i | j for j in cur} | {i}\n",
    "            res |= cur\n",
    "        return len(res)"
   ]
  },
  {
   "cell_type": "code",
   "execution_count": 2,
   "metadata": {},
   "outputs": [
    {
     "data": {
      "text/plain": [
       "6"
      ]
     },
     "execution_count": 2,
     "metadata": {},
     "output_type": "execute_result"
    }
   ],
   "source": [
    "instance = Solution()\n",
    "instance.subarrayBitwiseORs([1,2,4])"
   ]
  }
 ],
 "metadata": {
  "kernelspec": {
   "display_name": "Python 3",
   "language": "python",
   "name": "python3"
  },
  "language_info": {
   "codemirror_mode": {
    "name": "ipython",
    "version": 3
   },
   "file_extension": ".py",
   "mimetype": "text/x-python",
   "name": "python",
   "nbconvert_exporter": "python",
   "pygments_lexer": "ipython3",
   "version": "3.7.3"
  }
 },
 "nbformat": 4,
 "nbformat_minor": 2
}
