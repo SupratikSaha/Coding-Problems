{
 "cells": [
  {
   "cell_type": "markdown",
   "metadata": {},
   "source": [
    "    problem Statement\n",
    "\n",
    "    You have an inventory of different colored balls, and there is a customer that wants orders balls of any color.\n",
    "\n",
    "    The customer weirdly values the colored balls. Each colored ball's value is the number of balls of that color you currently have in your inventory. For example, if you own 6 yellow balls, the customer would pay 6 for the first yellow ball. After the transaction, there are only 5 yellow balls left, so the next yellow ball is then valued at 5 (i.e., the value of the balls decreases as you sell more to the customer).\n",
    "\n",
    "    You are given an integer array, inventory, where inventory[i] represents the number of balls of the ith color that you initially own. You are also given an integer orders, which represents the total number of balls that the customer wants. You can sell the balls in any order.\n",
    "\n",
    "    Return the maximum total value that you can attain after selling orders colored balls. As the answer may be too large, return it modulo 109 + 7.\n",
    "\n",
    "\n",
    "\n",
    "    Example 1:\n",
    "\n",
    "    Input: inventory = [2,5], orders = 4\n",
    "    Output: 14\n",
    "    Explanation: Sell the 1st color 1 time (2) and the 2nd color 3 times (5 + 4 + 3).\n",
    "    The maximum total value is 2 + 5 + 4 + 3 = 14.\n",
    "\n",
    "    Example 2:\n",
    "\n",
    "    Input: inventory = [3,5], orders = 6\n",
    "    Output: 19\n",
    "    Explanation: Sell the 1st color 2 times (3 + 2) and the 2nd color 4 times (5 + 4 + 3 + 2).\n",
    "    The maximum total value is 3 + 2 + 5 + 4 + 3 + 2 = 19.\n",
    "\n",
    "    Example 3:\n",
    "\n",
    "    Input: inventory = [2,8,4,10,6], orders = 20\n",
    "    Output: 110\n",
    "\n",
    "    Example 4:\n",
    "\n",
    "    Input: inventory = [1000000000], orders = 1000000000\n",
    "    Output: 21\n",
    "    Explanation: Sell the 1st color 1000000000 times for a total value of 500000000500000000. 500000000500000000 modulo 109 + 7 = 21.\n",
    "\n",
    "\n",
    "\n",
    "    Constraints:\n",
    "\n",
    "        1 <= inventory.length <= 105\n",
    "        1 <= inventory[i] <= 109\n",
    "        1 <= orders <= min(sum(inventory[i]), 109)"
   ]
  },
  {
   "cell_type": "markdown",
   "metadata": {},
   "source": [
    "# Sort + Arithmetic Progression - O(N * log N) runtime, O(N) space"
   ]
  },
  {
   "cell_type": "code",
   "execution_count": 1,
   "metadata": {},
   "outputs": [],
   "source": [
    "from typing import List\n",
    "\n",
    "class Solution:\n",
    "    def maxProfit(self, inventory: List[int], orders: int) -> int:\n",
    "        \n",
    "        inventory.sort(reverse=True)\n",
    "        count, res = 0, 0\n",
    "        n = len(inventory)\n",
    "        modulo = 10 ** 9 + 7\n",
    "        \n",
    "        for i, inv in enumerate(inventory):\n",
    "            if i < n - 1: lowRange = inventory[i+1]\n",
    "            else: lowRange = 0    \n",
    "            currCount = (inv - lowRange) * (i+1)\n",
    "\n",
    "            if currCount <= orders - count:\n",
    "                count += currCount\n",
    "                res += (inv * (inv + 1) - lowRange * (lowRange + 1)) * (i+1) // 2\n",
    "            else:\n",
    "                lowRange = inv - ((orders - count) // (i+1))\n",
    "                count += (inv - lowRange) * (i+1)\n",
    "                res += (inv * (inv + 1) - lowRange * (lowRange + 1)) * (i+1) // 2 + (orders - count) * lowRange\n",
    "                break\n",
    "        return res  % modulo"
   ]
  },
  {
   "cell_type": "markdown",
   "metadata": {},
   "source": [
    "# Cleaner Sort + Arithmetic Progression - O(N * log N) runtime, O(N) space"
   ]
  },
  {
   "cell_type": "code",
   "execution_count": 5,
   "metadata": {},
   "outputs": [],
   "source": [
    "from typing import List\n",
    "from collections import Counter\n",
    "\n",
    "class Solution:\n",
    "    def maxProfit(self, inventory: List[int], orders: int) -> int:\n",
    "        \n",
    "        arr=sorted(Counter(inventory).items(), reverse=True)+[(0,0)]\n",
    "        ans, ind, width=0,0,0\n",
    "        \n",
    "        while orders>0:\n",
    "            width += arr[ind][1]\n",
    "            sell=min(orders, width * (arr[ind][0] - arr[ind+1][0]))\n",
    "            whole, remainder= divmod(sell, width)\n",
    "            ans += width*(whole*(arr[ind][0]+arr[ind][0]-(whole-1)))//2 + remainder*(arr[ind][0]-whole)\n",
    "            orders -= sell\n",
    "            ind += 1\n",
    "        return ans % 1_000_000_007 "
   ]
  },
  {
   "cell_type": "code",
   "execution_count": 6,
   "metadata": {},
   "outputs": [
    {
     "data": {
      "text/plain": [
       "21"
      ]
     },
     "execution_count": 6,
     "metadata": {},
     "output_type": "execute_result"
    }
   ],
   "source": [
    "instance = Solution()\n",
    "instance.maxProfit([1000000000], 1000000000)"
   ]
  }
 ],
 "metadata": {
  "kernelspec": {
   "display_name": "Python 3",
   "language": "python",
   "name": "python3"
  },
  "language_info": {
   "codemirror_mode": {
    "name": "ipython",
    "version": 3
   },
   "file_extension": ".py",
   "mimetype": "text/x-python",
   "name": "python",
   "nbconvert_exporter": "python",
   "pygments_lexer": "ipython3",
   "version": "3.7.3"
  }
 },
 "nbformat": 4,
 "nbformat_minor": 2
}
