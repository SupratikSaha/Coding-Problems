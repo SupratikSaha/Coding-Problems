{
 "cells": [
  {
   "cell_type": "markdown",
   "metadata": {},
   "source": [
    "# Brute Force - O(n^n) runtime, O(n) space (2 solutions)"
   ]
  },
  {
   "cell_type": "code",
   "execution_count": 7,
   "metadata": {},
   "outputs": [],
   "source": [
    "from typing import List\n",
    "\n",
    "class Solution:\n",
    "    def wordBreak(self, s: str, wordDict: List[str]) -> bool:\n",
    "        return self.word_break(s, wordDict, 0)\n",
    "    \n",
    "    def word_break(self, s: str, wordDict: List[str], start: int) -> bool:\n",
    "        if start == len(s):\n",
    "            return True\n",
    "        \n",
    "        for end in range(start + 1, len(s) + 1):\n",
    "            if s[start:end] in wordDict and self.word_break(s, wordDict, end):\n",
    "                return True\n",
    "            \n",
    "        return False"
   ]
  },
  {
   "cell_type": "code",
   "execution_count": 3,
   "metadata": {},
   "outputs": [],
   "source": [
    "from typing import List\n",
    "\n",
    "class Solution:\n",
    "    def wordBreak(self, s: str, wordDict: List[str]) -> bool:\n",
    "        return self.word_break(s, wordDict) == True\n",
    "    \n",
    "    def word_break(self, s: str, wordDict: List[str]) -> bool:\n",
    "        if s == '^' * len(s):\n",
    "            return True\n",
    "        elif not wordDict:\n",
    "            return False\n",
    "\n",
    "        for i, word in enumerate(wordDict):\n",
    "            string = s\n",
    "            wordDictCopy = wordDict.copy()\n",
    "            string = string.replace(word, \"^\" * len(word))\n",
    "            wordDictCopy.pop(i)\n",
    "            if self.word_break(string, wordDictCopy):\n",
    "                return True\n",
    "            else:\n",
    "                continue\n",
    "        "
   ]
  },
  {
   "cell_type": "markdown",
   "metadata": {},
   "source": [
    "# Recusrion with memoization - O(n^2) runtime, O(n) space"
   ]
  },
  {
   "cell_type": "code",
   "execution_count": 1,
   "metadata": {},
   "outputs": [],
   "source": [
    "from typing import List\n",
    "\n",
    "class Solution:\n",
    "    def wordBreak(self, s: str, wordDict: List[str]) -> bool:\n",
    "        memo = [None] * len(s)\n",
    "        return self.word_break(s, wordDict, 0, memo)\n",
    "    \n",
    "    def word_break(self, s: str, wordDict: List[str], start: int, memo: List[bool]) -> bool:\n",
    "        if start == len(s):\n",
    "            return True\n",
    "        if memo[start] != None:\n",
    "            return memo[start]\n",
    "        \n",
    "        for end in range(start + 1, len(s) + 1):\n",
    "            if s[start:end] in wordDict and self.word_break(s, wordDict, end, memo):\n",
    "                memo[start] = True\n",
    "                return memo[start]\n",
    "        \n",
    "        memo[start] = False\n",
    "        return memo[start]"
   ]
  },
  {
   "cell_type": "markdown",
   "metadata": {},
   "source": [
    "# Breadth First Search - O(n^2) runtime, O(n) space"
   ]
  },
  {
   "cell_type": "code",
   "execution_count": 7,
   "metadata": {},
   "outputs": [],
   "source": [
    "from typing import List\n",
    "\n",
    "class Solution:\n",
    "    def wordBreak(self, s: str, wordDict: List[str]) -> bool:\n",
    "        length = len(s)\n",
    "        queue = []\n",
    "        visited = [0] * length\n",
    "        \n",
    "        queue.append(0)\n",
    "        while queue:\n",
    "            start = queue.pop(0)\n",
    "            if visited[start] == 0:\n",
    "                for end in range(start + 1, length + 1):\n",
    "                    if s[start:end] in wordDict:\n",
    "                        queue.append(end)\n",
    "                        if end == length:\n",
    "                            return True\n",
    "\n",
    "                visited[start] = 1\n",
    "\n",
    "        return False"
   ]
  },
  {
   "cell_type": "markdown",
   "metadata": {},
   "source": [
    "# Dynamic Programming - O(n^2) runtime, O(n) space"
   ]
  },
  {
   "cell_type": "code",
   "execution_count": 5,
   "metadata": {},
   "outputs": [],
   "source": [
    "from typing import List\n",
    "\n",
    "class Solution:\n",
    "    def wordBreak(self, s: str, wordDict: List[str]) -> bool:\n",
    "        wordDict = set(wordDict)\n",
    "        dp = [False] * (len(s) + 1)\n",
    "        dp[0] = True\n",
    "        \n",
    "        for i in range(1, len(s) + 1):\n",
    "            for j in range(0, i):\n",
    "                if dp[j] and s[j:i] in wordDict:\n",
    "                    dp[i] = True\n",
    "                    break\n",
    "\n",
    "        return dp[len(s)]"
   ]
  },
  {
   "cell_type": "code",
   "execution_count": 8,
   "metadata": {},
   "outputs": [
    {
     "data": {
      "text/plain": [
       "True"
      ]
     },
     "execution_count": 8,
     "metadata": {},
     "output_type": "execute_result"
    }
   ],
   "source": [
    "instance = Solution()\n",
    "instance.wordBreak(\"bccdbacdbdacddabbaaaadababadad\",\n",
    "['bcc', 'dbac', 'dbda', 'cd', 'dabb','aa', 'aa', 'd', 'abab', 'a', 'dad'])"
   ]
  }
 ],
 "metadata": {
  "kernelspec": {
   "display_name": "Python 3",
   "language": "python",
   "name": "python3"
  },
  "language_info": {
   "codemirror_mode": {
    "name": "ipython",
    "version": 3
   },
   "file_extension": ".py",
   "mimetype": "text/x-python",
   "name": "python",
   "nbconvert_exporter": "python",
   "pygments_lexer": "ipython3",
   "version": "3.7.3"
  }
 },
 "nbformat": 4,
 "nbformat_minor": 2
}
