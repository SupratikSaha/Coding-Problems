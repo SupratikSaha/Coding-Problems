{
 "cells": [
  {
   "cell_type": "markdown",
   "metadata": {},
   "source": [
    "Problem Statement.\n",
    "\n",
    "You are given an m x n matrix board, representing the current state of a crossword puzzle. The crossword contains lowercase English letters (from solved words), ' ' to represent any empty cells, and '#' to represent any blocked cells.\n",
    "\n",
    "A word can be placed horizontally (left to right or right to left) or vertically (top to bottom or bottom to top) in the board if:\n",
    "\n",
    "    It does not occupy a cell containing the character '#'.\n",
    "    The cell each letter is placed in must either be ' ' (empty) or match the letter already on the board.\n",
    "    There must not be any empty cells ' ' or other lowercase letters directly left or right of the word if the word was placed horizontally.\n",
    "    There must not be any empty cells ' ' or other lowercase letters directly above or below the word if the word was placed vertically.\n",
    "\n",
    "Given a string word, return true if word can be placed in board, or false otherwise.\n",
    "\n",
    " \n",
    "\n",
    "Example 1:\n",
    "\n",
    "Input: board = [[\"#\", \" \", \"#\"], [\" \", \" \", \"#\"], [\"#\", \"c\", \" \"]], word = \"abc\"\n",
    "Output: true\n",
    "Explanation: The word \"abc\" can be placed as shown above (top to bottom).\n",
    "\n",
    "Example 2:\n",
    "\n",
    "Input: board = [[\" \", \"#\", \"a\"], [\" \", \"#\", \"c\"], [\" \", \"#\", \"a\"]], word = \"ac\"\n",
    "Output: false\n",
    "Explanation: It is impossible to place the word because there will always be a space/letter above or below it.\n",
    "\n",
    "Example 3:\n",
    "\n",
    "Input: board = [[\"#\", \" \", \"#\"], [\" \", \" \", \"#\"], [\"#\", \" \", \"c\"]], word = \"ca\"\n",
    "Output: true\n",
    "Explanation: The word \"ca\" can be placed as shown above (right to left). \n",
    "\n",
    "\n",
    "Constraints:\n",
    "\n",
    "    m == board.length\n",
    "    n == board[i].length\n",
    "    1 <= m * n <= 2 * 10^5\n",
    "    board[i][j] will be ' ', '#', or a lowercase English letter.\n",
    "    1 <= word.length <= max(m, n)\n",
    "    word will contain only lowercase English letters."
   ]
  },
  {
   "cell_type": "markdown",
   "metadata": {},
   "source": [
    "# Loops - O( W ^ 2 * (M * N ^ 2 * + N * M ^ 2) ) runtime, O(M * N + W) space"
   ]
  },
  {
   "cell_type": "code",
   "execution_count": 1,
   "metadata": {},
   "outputs": [],
   "source": [
    "from typing import List\n",
    "\n",
    "class Solution:\n",
    "    def placeWordInCrossword(self, board: List[List[str]], word: str) -> bool:\n",
    "        words = [word, word[::-1]]\n",
    "        for x in board, zip(*board): \n",
    "            for row in x: \n",
    "                q = \"\".join(row).split(\"#\")\n",
    "                for s in q: \n",
    "                    for w in words: \n",
    "                        if len(s) == len(w) and all(ss in (\" \", ww) for ss, ww in zip(s, w)): \n",
    "                            return True \n",
    "        return False"
   ]
  },
  {
   "cell_type": "code",
   "execution_count": 2,
   "metadata": {},
   "outputs": [
    {
     "data": {
      "text/plain": [
       "False"
      ]
     },
     "execution_count": 2,
     "metadata": {},
     "output_type": "execute_result"
    }
   ],
   "source": [
    "instance = Solution()\n",
    "instance.placeWordInCrossword( [[\" \", \"#\", \"a\"], [\" \", \"#\", \"c\"], [\" \", \"#\", \"a\"]], \"ac\")"
   ]
  }
 ],
 "metadata": {
  "kernelspec": {
   "display_name": "Python 3",
   "language": "python",
   "name": "python3"
  },
  "language_info": {
   "codemirror_mode": {
    "name": "ipython",
    "version": 3
   },
   "file_extension": ".py",
   "mimetype": "text/x-python",
   "name": "python",
   "nbconvert_exporter": "python",
   "pygments_lexer": "ipython3",
   "version": "3.7.3"
  }
 },
 "nbformat": 4,
 "nbformat_minor": 2
}
