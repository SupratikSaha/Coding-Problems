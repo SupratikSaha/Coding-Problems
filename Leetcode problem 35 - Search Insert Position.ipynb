{
 "cells": [
  {
   "cell_type": "markdown",
   "metadata": {},
   "source": [
    "# Binary Search - O(log n) run time O(1) space"
   ]
  },
  {
   "cell_type": "code",
   "execution_count": null,
   "metadata": {},
   "outputs": [],
   "source": [
    "class Solution:\n",
    "    def searchInsert(self, nums: List[int], target: int) -> int:\n",
    "        begin, end = 0, len(nums) - 1\n",
    "        \n",
    "        while(begin<end):\n",
    "            mid = int( (begin + end) / 2)\n",
    "            if target < nums[mid]:\n",
    "                end = mid\n",
    "            elif target > nums[mid]:\n",
    "                begin = mid + 1\n",
    "            else:\n",
    "                return mid\n",
    "        return begin+1 if target > nums[begin] else begin"
   ]
  }
 ],
 "metadata": {
  "kernelspec": {
   "display_name": "Python 3",
   "language": "python",
   "name": "python3"
  },
  "language_info": {
   "codemirror_mode": {
    "name": "ipython",
    "version": 3
   },
   "file_extension": ".py",
   "mimetype": "text/x-python",
   "name": "python",
   "nbconvert_exporter": "python",
   "pygments_lexer": "ipython3",
   "version": "3.7.3"
  }
 },
 "nbformat": 4,
 "nbformat_minor": 2
}
