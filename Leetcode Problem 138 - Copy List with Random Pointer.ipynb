{
 "cells": [
  {
   "cell_type": "markdown",
   "metadata": {},
   "source": [
    "# Brute Force - Traverse list to get random links, store in python dictionary - O(n^2) run time, O(n) space"
   ]
  },
  {
   "cell_type": "markdown",
   "metadata": {},
   "source": [
    "# Using a python dictionary -  O(n) run time, O(n) space"
   ]
  },
  {
   "cell_type": "code",
   "execution_count": null,
   "metadata": {},
   "outputs": [],
   "source": [
    "\"\"\"\n",
    "# Definition for a Node.\n",
    "class Node:\n",
    "    def __init__(self, val, next, random):\n",
    "        self.val = val\n",
    "        self.next = next\n",
    "        self.random = random\n",
    "\"\"\"\n",
    "class Solution:\n",
    "    def copyRandomList(self, head: 'Node') -> 'Node':\n",
    "        hashMap = dict()\n",
    "        p = head\n",
    "        dummy = Node(0, None, None)\n",
    "        q = dummy\n",
    "        \n",
    "        while p != None:\n",
    "            q.next = Node(p.val, None, None)\n",
    "            hashMap[p] = q.next\n",
    "            p = p.next\n",
    "            q = q.next\n",
    "            \n",
    "        p = head\n",
    "        q = dummy\n",
    "        while p != None:\n",
    "            if p.random != None:\n",
    "                q.next.random = hashMap[p.random]\n",
    "            p = p.next\n",
    "            q = q.next\n",
    "        \n",
    "        return dummy.next"
   ]
  },
  {
   "cell_type": "markdown",
   "metadata": {},
   "source": [
    "# Modify original Structure - O(n) run time, O(1) space"
   ]
  },
  {
   "cell_type": "code",
   "execution_count": null,
   "metadata": {},
   "outputs": [],
   "source": [
    "\"\"\"\n",
    "# Definition for a Node.\n",
    "class Node:\n",
    "    def __init__(self, val, next, random):\n",
    "        self.val = val\n",
    "        self.next = next\n",
    "        self.random = random\n",
    "\"\"\"\n",
    "class Solution:\n",
    "    def copyRandomList(self, head: 'Node') -> 'Node':\n",
    "        p = head\n",
    "        \n",
    "        while p != None:\n",
    "            nextNode = p.next\n",
    "            copy = Node(p.val, None, None)\n",
    "            p.next = copy\n",
    "            copy.next = nextNode\n",
    "            p = nextNode\n",
    "            \n",
    "        p = head\n",
    "        while p != None:\n",
    "            if p.random != None:\n",
    "                p.next.random = p.random.next if p.random.next != None else None\n",
    "            p = p.next.next\n",
    "            \n",
    "        p = head\n",
    "        headCopy = p.next if p != None else None\n",
    "        while p != None:\n",
    "            copy = p.next\n",
    "            p.next = copy.next\n",
    "            p = p.next\n",
    "            copy.next = p.next if p != None else None\n",
    "        \n",
    "        return headCopy"
   ]
  }
 ],
 "metadata": {
  "kernelspec": {
   "display_name": "Python 3",
   "language": "python",
   "name": "python3"
  },
  "language_info": {
   "codemirror_mode": {
    "name": "ipython",
    "version": 3
   },
   "file_extension": ".py",
   "mimetype": "text/x-python",
   "name": "python",
   "nbconvert_exporter": "python",
   "pygments_lexer": "ipython3",
   "version": "3.7.3"
  }
 },
 "nbformat": 4,
 "nbformat_minor": 2
}
