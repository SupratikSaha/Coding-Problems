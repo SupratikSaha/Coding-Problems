{
 "cells": [
  {
   "cell_type": "markdown",
   "metadata": {},
   "source": [
    "Problem Statement.\n",
    "\n",
    "Given two sentences words1, words2 (each represented as an array of strings), and a list of similar word pairs pairs, determine if two sentences are similar.\n",
    "\n",
    "For example, words1 = [\"great\", \"acting\", \"skills\"] and words2 = [\"fine\", \"drama\", \"talent\"] are similar, if the similar word pairs are pairs = [[\"great\", \"good\"], [\"fine\", \"good\"], [\"acting\",\"drama\"], [\"skills\",\"talent\"]].\n",
    "\n",
    "Note that the similarity relation is transitive. For example, if \"great\" and \"good\" are similar, and \"fine\" and \"good\" are similar, then \"great\" and \"fine\" are similar.\n",
    "\n",
    "Similarity is also symmetric. For example, \"great\" and \"fine\" being similar is the same as \"fine\" and \"great\" being similar.\n",
    "\n",
    "Also, a word is always similar with itself. For example, the sentences words1 = [\"great\"], words2 = [\"great\"], pairs = [] are similar, even though there are no specified similar word pairs.\n",
    "\n",
    "Finally, sentences can only be similar if they have the same number of words. So a sentence like words1 = [\"great\"] can never be similar to words2 = [\"doubleplus\",\"good\"].\n",
    "\n",
    "Note:\n",
    "\n",
    "    The length of words1 and words2 will not exceed 1000.\n",
    "    The length of pairs will not exceed 2000.\n",
    "    The length of each pairs[i] will be 2.\n",
    "    The length of each words[i] and pairs[i][j] will be in the range [1, 20]."
   ]
  },
  {
   "cell_type": "markdown",
   "metadata": {},
   "source": [
    "# BFS - O(W * P) runtime, O(P) space, where W is length of words1 & words2 and P is the length of pairs"
   ]
  },
  {
   "cell_type": "code",
   "execution_count": 3,
   "metadata": {},
   "outputs": [],
   "source": [
    "from typing import List\n",
    "from collections import deque, defaultdict\n",
    "\n",
    "class Solution:\n",
    "    def areSentencesSimilarTwo(self, words1: List[str], words2: List[str], pairs: List[List[str]]) -> bool:\n",
    "        if len(words1) != len(words2): return False\n",
    "        \n",
    "        pairsDict = defaultdict(set)\n",
    "        \n",
    "        for w1, w2 in pairs:\n",
    "            pairsDict[w1].add(w2)\n",
    "            pairsDict[w2].add(w1)\n",
    "            \n",
    "        visited = set()\n",
    "        similarSets = []\n",
    "        \n",
    "        for w in pairsDict:\n",
    "            if w not in visited:\n",
    "                queue = deque([w])\n",
    "                currSet = set()\n",
    "                visited.add(w)\n",
    "                \n",
    "                while queue:\n",
    "                    word = queue.popleft()\n",
    "                    currSet.add(word)\n",
    "                    for nw in pairsDict[word]:\n",
    "                        if nw not in visited:\n",
    "                            queue.append(nw)\n",
    "                            visited.add(nw)\n",
    "                similarSets.append(currSet)\n",
    "            \n",
    "        for w1, w2 in zip(words1, words2):\n",
    "            if w1 == w2: continue\n",
    "            else: \n",
    "                foundMatch = False\n",
    "                for currSet in similarSets:\n",
    "                    if (w1 in currSet and w2 in currSet): \n",
    "                        foundMatch = True\n",
    "                        break\n",
    "                        \n",
    "                if not foundMatch: return False\n",
    "            \n",
    "        return True"
   ]
  },
  {
   "cell_type": "markdown",
   "metadata": {},
   "source": [
    "# Slower but simpler - O(W * P) runtime, O(P) space, where W is length of words1 & words2 and P is the length of pairs"
   ]
  },
  {
   "cell_type": "code",
   "execution_count": 5,
   "metadata": {},
   "outputs": [],
   "source": [
    "from typing import List\n",
    "\n",
    "class Solution:\n",
    "    def areSentencesSimilarTwo(self, words1: List[str], words2: List[str], pairs: List[List[str]]) -> bool:\n",
    "        if len(words1) != len(words2): return False\n",
    "        graph = collections.defaultdict(list)\n",
    "        for w1, w2 in pairs:\n",
    "            graph[w1].append(w2)\n",
    "            graph[w2].append(w1)\n",
    "\n",
    "        for w1, w2 in zip(words1, words2):\n",
    "            stack, seen = [w1], {w1}\n",
    "            while stack:\n",
    "                word = stack.pop()\n",
    "                if word == w2: break\n",
    "                for nei in graph[word]:\n",
    "                    if nei not in seen:\n",
    "                        seen.add(nei)\n",
    "                        stack.append(nei)\n",
    "            else:\n",
    "                return False\n",
    "        return True"
   ]
  },
  {
   "cell_type": "code",
   "execution_count": 4,
   "metadata": {},
   "outputs": [
    {
     "data": {
      "text/plain": [
       "True"
      ]
     },
     "execution_count": 4,
     "metadata": {},
     "output_type": "execute_result"
    }
   ],
   "source": [
    "instance = Solution()\n",
    "instance.areSentencesSimilarTwo([\"great\", \"acting\", \"skills\"], [\"fine\", \"drama\", \"talent\"], \n",
    "                                [[\"great\", \"good\"], [\"fine\", \"good\"], [\"acting\",\"drama\"], [\"skills\",\"talent\"]])"
   ]
  }
 ],
 "metadata": {
  "kernelspec": {
   "display_name": "Python 3",
   "language": "python",
   "name": "python3"
  },
  "language_info": {
   "codemirror_mode": {
    "name": "ipython",
    "version": 3
   },
   "file_extension": ".py",
   "mimetype": "text/x-python",
   "name": "python",
   "nbconvert_exporter": "python",
   "pygments_lexer": "ipython3",
   "version": "3.7.3"
  }
 },
 "nbformat": 4,
 "nbformat_minor": 2
}
