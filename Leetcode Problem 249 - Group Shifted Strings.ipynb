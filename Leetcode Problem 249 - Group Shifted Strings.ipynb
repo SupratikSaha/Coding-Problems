{
 "cells": [
  {
   "cell_type": "markdown",
   "metadata": {},
   "source": [
    "    Problem Statement.\n",
    "\n",
    "    Given a string, we can \"shift\" each of its letter to its successive letter, for example: \"abc\" -> \"bcd\". We can keep \"shifting\" which forms the sequence:\n",
    "\n",
    "    \"abc\" -> \"bcd\" -> ... -> \"xyz\"\n",
    "\n",
    "    Given a list of non-empty strings which contains only lowercase alphabets, group all strings that belong to the same shifting sequence.\n",
    "\n",
    "    Example:\n",
    "\n",
    "    Input: [\"abc\", \"bcd\", \"acef\", \"xyz\", \"az\", \"ba\", \"a\", \"z\"],\n",
    "    Output: \n",
    "    [\n",
    "      [\"abc\",\"bcd\",\"xyz\"],\n",
    "      [\"az\",\"ba\"],\n",
    "      [\"acef\"],\n",
    "      [\"a\",\"z\"]\n",
    "    ]"
   ]
  },
  {
   "cell_type": "markdown",
   "metadata": {},
   "source": [
    "# Common Starting Lettter - O(N * W) runtime, O(N + W) space where N is the number of strings an W is the length of the largest string"
   ]
  },
  {
   "cell_type": "code",
   "execution_count": 1,
   "metadata": {},
   "outputs": [],
   "source": [
    "from typing import List\n",
    "from collections import defaultdict\n",
    "\n",
    "class Solution:\n",
    "    def groupStrings(self, strings: List[str]) -> List[List[str]]:\n",
    "        res = defaultdict(list)\n",
    "        for string in strings:\n",
    "            strList = list(string)\n",
    "            while strList[0] != 'a':\n",
    "                for i in range(len(strList)):\n",
    "                    strList[i] = chr(ord(strList[i]) + 1) if strList[i] != 'z' else 'a'\n",
    "\n",
    "            res[''.join(strList)].append(string)\n",
    "            \n",
    "        return list(res.values())"
   ]
  },
  {
   "cell_type": "markdown",
   "metadata": {},
   "source": [
    "# Character Difference - O(N * W) runtime, O(N + W) space where N is the number of strings an W is the length of the largest string"
   ]
  },
  {
   "cell_type": "code",
   "execution_count": 2,
   "metadata": {},
   "outputs": [],
   "source": [
    "from typing import List\n",
    "from collections import defaultdict\n",
    "\n",
    "class Solution:\n",
    "    def groupStrings(self, strings: List[str]) -> List[List[str]]:\n",
    "        hashmap = defaultdict(list)\n",
    "        for s in strings:\n",
    "            key = []\n",
    "            for i in range(len(s) - 1):\n",
    "                difference = ord(s[i+1]) - ord(s[i])\n",
    "                key.append(str(difference % 26))\n",
    "                \n",
    "            hashmap[','.join(key)].append(s)\n",
    "            \n",
    "        return list(hashmap.values())"
   ]
  },
  {
   "cell_type": "markdown",
   "metadata": {},
   "source": [
    "# Character Difference with Tuple - O(N * W) runtime, O(N + W) space where N is the number of strings an W is the length of the largest string"
   ]
  },
  {
   "cell_type": "code",
   "execution_count": 3,
   "metadata": {},
   "outputs": [],
   "source": [
    "from typing import List\n",
    "from collections import defaultdict\n",
    "\n",
    "class Solution:\n",
    "    def groupStrings(self, strings: List[str]) -> List[List[str]]:\n",
    "        hashmap = defaultdict(list)\n",
    "        \n",
    "        for s in strings:\n",
    "            key = ()\n",
    "            for i in range(len(s) - 1):\n",
    "                circular_difference = ord(s[i+1]) - ord(s[i])\n",
    "                key += (circular_difference % 26,)\n",
    "            hashmap[key].append(s)\n",
    "\n",
    "        return list(hashmap.values())"
   ]
  },
  {
   "cell_type": "code",
   "execution_count": 4,
   "metadata": {},
   "outputs": [
    {
     "data": {
      "text/plain": [
       "[['abc', 'bcd', 'xyz'], ['acef'], ['az', 'ba'], ['a', 'z']]"
      ]
     },
     "execution_count": 4,
     "metadata": {},
     "output_type": "execute_result"
    }
   ],
   "source": [
    "instance = Solution()\n",
    "instance.groupStrings([\"abc\", \"bcd\", \"acef\", \"xyz\", \"az\", \"ba\", \"a\", \"z\"])"
   ]
  }
 ],
 "metadata": {
  "kernelspec": {
   "display_name": "Python 3",
   "language": "python",
   "name": "python3"
  },
  "language_info": {
   "codemirror_mode": {
    "name": "ipython",
    "version": 3
   },
   "file_extension": ".py",
   "mimetype": "text/x-python",
   "name": "python",
   "nbconvert_exporter": "python",
   "pygments_lexer": "ipython3",
   "version": "3.7.3"
  }
 },
 "nbformat": 4,
 "nbformat_minor": 2
}
