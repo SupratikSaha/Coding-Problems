{
 "cells": [
  {
   "cell_type": "markdown",
   "metadata": {},
   "source": [
    "Problem Statement.\n",
    "\n",
    "You are painting a fence of n posts with k different colors. You must paint the posts following these rules:\n",
    "\n",
    "    Every post must be painted exactly one color.\n",
    "    At most one pair of adjacent fence posts can have the same color.\n",
    "\n",
    "Given the two integers n and k, return the number of ways you can paint the fence.\n",
    "\n",
    " \n",
    "\n",
    "Example 1:\n",
    "\n",
    "Input: n = 3, k = 2\n",
    "Output: 6\n",
    "Explanation: All the possibilities are shown.\n",
    "Note that painting all the posts red or all the posts green is invalid because there can only be at most one pair of adjacent posts that are the same color.\n",
    "\n",
    "Example 2:\n",
    "\n",
    "Input: n = 1, k = 1\n",
    "Output: 1\n",
    "\n",
    "Example 3:\n",
    "\n",
    "Input: n = 7, k = 2\n",
    "Output: 42\n",
    "\n",
    " \n",
    "\n",
    "Constraints:\n",
    "\n",
    "    1 <= n <= 50\n",
    "    1 <= k <= 105\n",
    "    The answer is guaranteed to be in the range [0, 231 - 1] for the given n and k."
   ]
  },
  {
   "cell_type": "markdown",
   "metadata": {},
   "source": [
    "# Space Optimized Bottom Up DP - O(N) runtime, O(1) space"
   ]
  },
  {
   "cell_type": "code",
   "execution_count": 2,
   "metadata": {},
   "outputs": [],
   "source": [
    "class Solution:\n",
    "    def numWays(self, n: int, k: int) -> int:\n",
    "        if n == 1: return k\n",
    "        if n == 2: return k ** 2\n",
    "        \n",
    "        second_last = k\n",
    "        last = k*k\n",
    "        \n",
    "      # Case1: nth post has the different color as n-1 post. \n",
    "      # Then, nth post has (k-1) options (excluding the color in n-1 post).\n",
    "      # And there are total_ways(n-1) ways to reach n-1 post.\n",
    "      # diff_color_last = total_ways(n-1) * (k-1)\n",
    "      \n",
    "      # Case2: nth post has the same color as n-1 post.\n",
    "      # So, nth post and n-1 post will have the same color.\n",
    "      # Then, since we cannot have the same color in 3 continuous post,\n",
    "      # So, n-2 th post must have different color than n-1 th or nth post.\n",
    "      # So, n-2 th post have k-1 options (excluding the color in n-1 th or nth post)\n",
    "      # And, there are total_ways(n-2) ways to reach n-2 post.\n",
    "      #same_color_last = total_ways(n-2) * (k-1)\n",
    "      \n",
    "      # return same_color_last + diff_color_last = (total_ways(n-1) + total_ways(n-2)) * (k-1)\n",
    "        for i in range(n-2):\n",
    "            second_last, last = last, (second_last + last) * (k - 1)\n",
    "            \n",
    "        return last"
   ]
  },
  {
   "cell_type": "code",
   "execution_count": 3,
   "metadata": {},
   "outputs": [
    {
     "data": {
      "text/plain": [
       "42"
      ]
     },
     "execution_count": 3,
     "metadata": {},
     "output_type": "execute_result"
    }
   ],
   "source": [
    "instance = Solution()\n",
    "instance.numWays(7, 2)"
   ]
  }
 ],
 "metadata": {
  "kernelspec": {
   "display_name": "Python 3",
   "language": "python",
   "name": "python3"
  },
  "language_info": {
   "codemirror_mode": {
    "name": "ipython",
    "version": 3
   },
   "file_extension": ".py",
   "mimetype": "text/x-python",
   "name": "python",
   "nbconvert_exporter": "python",
   "pygments_lexer": "ipython3",
   "version": "3.7.3"
  }
 },
 "nbformat": 4,
 "nbformat_minor": 2
}
