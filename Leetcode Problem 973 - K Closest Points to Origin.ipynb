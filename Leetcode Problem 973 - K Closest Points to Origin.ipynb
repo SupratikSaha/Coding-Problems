{
 "cells": [
  {
   "cell_type": "markdown",
   "metadata": {},
   "source": [
    "    Problem Statement\n",
    "\n",
    "    We have a list of points on the plane.  Find the K closest points to the origin (0, 0).\n",
    "\n",
    "    (Here, the distance between two points on a plane is the Euclidean distance.)\n",
    "\n",
    "    You may return the answer in any order.  The answer is guaranteed to be unique (except for the order that it is in.)\n",
    "\n",
    "\n",
    "\n",
    "    Example 1:\n",
    "\n",
    "    Input: points = [[1,3],[-2,2]], K = 1\n",
    "    Output: [[-2,2]]\n",
    "    Explanation: \n",
    "    The distance between (1, 3) and the origin is sqrt(10).\n",
    "    The distance between (-2, 2) and the origin is sqrt(8).\n",
    "    Since sqrt(8) < sqrt(10), (-2, 2) is closer to the origin.\n",
    "    We only want the closest K = 1 points from the origin, so the answer is just [[-2,2]].\n",
    "\n",
    "    Example 2:\n",
    "\n",
    "    Input: points = [[3,3],[5,-1],[-2,4]], K = 2\n",
    "    Output: [[3,3],[-2,4]]\n",
    "    (The answer [[-2,4],[3,3]] would also be accepted.)\n",
    "\n",
    "\n",
    "\n",
    "    Note:\n",
    "\n",
    "        1 <= K <= points.length <= 10000\n",
    "        -10000 < points[i][0] < 10000\n",
    "        -10000 < points[i][1] < 10000"
   ]
  },
  {
   "cell_type": "markdown",
   "metadata": {},
   "source": [
    "# Heap - O(N * logK) runtime, O(K) space"
   ]
  },
  {
   "cell_type": "code",
   "execution_count": 1,
   "metadata": {},
   "outputs": [],
   "source": [
    "from typing import List\n",
    "from heapq import heappush, heappop\n",
    "\n",
    "class Solution:\n",
    "    def kClosest(self, points: List[List[int]], K: int) -> List[List[int]]:\n",
    "        maxheap = []\n",
    "        \n",
    "        for i, point in enumerate(points):\n",
    "            distance = point[0] ** 2 + point[1] ** 2\n",
    "            heappush(maxheap, (-distance, point))\n",
    "            if i >= K: heappop(maxheap)\n",
    "        \n",
    "        res = []\n",
    "        while maxheap:\n",
    "            res.append(heappop(maxheap)[1])\n",
    "            \n",
    "        return res"
   ]
  },
  {
   "cell_type": "markdown",
   "metadata": {},
   "source": [
    "# Sort - O(N * logN) runtime, O(N) space"
   ]
  },
  {
   "cell_type": "code",
   "execution_count": 2,
   "metadata": {},
   "outputs": [],
   "source": [
    "from typing import List\n",
    "\n",
    "class Solution:\n",
    "    def kClosest(self, points: List[List[int]], K: int) -> List[List[int]]:\n",
    "        points.sort(key = lambda P: P[0]**2 + P[1]**2)\n",
    "        return points[:K]"
   ]
  },
  {
   "cell_type": "markdown",
   "metadata": {},
   "source": [
    "# Divide and Conquer - O(N) average, O(N ^ 2) worst runtime, O(N) space"
   ]
  },
  {
   "cell_type": "code",
   "execution_count": 1,
   "metadata": {},
   "outputs": [],
   "source": [
    "from typing import List\n",
    "from random import randint\n",
    "\n",
    "class Solution:\n",
    "    def kClosest(self, points: List[List[int]], k: int) -> List[List[int]]:\n",
    "        def dist(i): return points[i][0] ** 2 +  points[i][1] ** 2\n",
    "        \n",
    "        def partition(i, j):\n",
    "            od = dist(i)\n",
    "            oi = i\n",
    "            for index in range(i+1, j+1):\n",
    "                if dist(index) <= od:\n",
    "                    oi += 1\n",
    "                    points[oi], points[index] = points[index], points[oi]\n",
    "                    \n",
    "            points[oi], points[i] = points[i], points[oi]\n",
    "                \n",
    "            return oi\n",
    "        \n",
    "        def sort(i, j):\n",
    "            if i >= j: return\n",
    "            pivot = randint(i, j)\n",
    "            points[pivot], points[i] = points[i], points[pivot]\n",
    "            pos = partition(i, j)\n",
    "            if pos == k-1: return\n",
    "            if k < pos: sort(i, pos-1)\n",
    "            else: sort(pos+1, j)\n",
    "        \n",
    "        sort(0, len(points)-1)\n",
    "        return points[:k]"
   ]
  },
  {
   "cell_type": "code",
   "execution_count": 2,
   "metadata": {},
   "outputs": [
    {
     "data": {
      "text/plain": [
       "[[3, 3], [-2, 4]]"
      ]
     },
     "execution_count": 2,
     "metadata": {},
     "output_type": "execute_result"
    }
   ],
   "source": [
    "instance = Solution()\n",
    "instance.kClosest([[3,3],[5,-1],[-2,4]], 2)"
   ]
  }
 ],
 "metadata": {
  "kernelspec": {
   "display_name": "Python 3",
   "language": "python",
   "name": "python3"
  },
  "language_info": {
   "codemirror_mode": {
    "name": "ipython",
    "version": 3
   },
   "file_extension": ".py",
   "mimetype": "text/x-python",
   "name": "python",
   "nbconvert_exporter": "python",
   "pygments_lexer": "ipython3",
   "version": "3.7.3"
  }
 },
 "nbformat": 4,
 "nbformat_minor": 2
}
