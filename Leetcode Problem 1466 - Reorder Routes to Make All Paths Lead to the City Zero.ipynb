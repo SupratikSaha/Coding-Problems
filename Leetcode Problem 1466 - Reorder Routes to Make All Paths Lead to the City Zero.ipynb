{
 "cells": [
  {
   "cell_type": "markdown",
   "metadata": {},
   "source": [
    "    Problem Statement.\n",
    "\n",
    "    There are n cities numbered from 0 to n-1 and n-1 roads such that there is only one way to travel between two different cities (this network form a tree). Last year, The ministry of transport decided to orient the roads in one direction because they are too narrow.\n",
    "\n",
    "    Roads are represented by connections where connections[i] = [a, b] represents a road from city a to b.\n",
    "\n",
    "    This year, there will be a big event in the capital (city 0), and many people want to travel to this city.\n",
    "\n",
    "    Your task consists of reorienting some roads such that each city can visit the city 0. Return the minimum number of edges changed.\n",
    "\n",
    "    It's guaranteed that each city can reach the city 0 after reorder.\n",
    "\n",
    "\n",
    "\n",
    "    Example 1:\n",
    "\n",
    "    Input: n = 6, connections = [[0,1],[1,3],[2,3],[4,0],[4,5]]\n",
    "    Output: 3\n",
    "    Explanation: Change the direction of edges show in red such that each node can reach the node 0 (capital).\n",
    "\n",
    "    Example 2:\n",
    "\n",
    "    Input: n = 5, connections = [[1,0],[1,2],[3,2],[3,4]]\n",
    "    Output: 2\n",
    "    Explanation: Change the direction of edges show in red such that each node can reach the node 0 (capital).\n",
    "\n",
    "    Example 3:\n",
    "\n",
    "    Input: n = 3, connections = [[1,0],[2,0]]\n",
    "    Output: 0\n",
    "\n",
    "\n",
    "\n",
    "    Constraints:\n",
    "\n",
    "        2 <= n <= 5 * 10^4\n",
    "        connections.length == n-1\n",
    "        connections[i].length == 2\n",
    "        0 <= connections[i][0], connections[i][1] <= n-1\n",
    "        connections[i][0] != connections[i][1]"
   ]
  },
  {
   "cell_type": "markdown",
   "metadata": {},
   "source": [
    "# BFS - O(N) runtime, O(N) space"
   ]
  },
  {
   "cell_type": "code",
   "execution_count": 2,
   "metadata": {},
   "outputs": [],
   "source": [
    "from typing import List\n",
    "from collections import defaultdict, deque\n",
    "\n",
    "class Solution:\n",
    "    def minReorder(self, n: int, connections: List[List[int]]) -> int:\n",
    "        sourceGraph = defaultdict(list)\n",
    "        destGraph = defaultdict(list)\n",
    "        \n",
    "        for source, dest in connections:\n",
    "            sourceGraph[source].append(dest)\n",
    "            destGraph[dest].append(source)\n",
    "        \n",
    "        queue = deque([0])\n",
    "        visited = set()\n",
    "        res = 0\n",
    "        while queue:\n",
    "            node = queue.popleft()\n",
    "            visited.add(node)\n",
    "            for city in sourceGraph[node]:\n",
    "                if city not in visited:\n",
    "                    destGraph[node].append(city)\n",
    "                    res += 1\n",
    "            \n",
    "            for city in destGraph[node]:\n",
    "                if city not in visited:\n",
    "                    queue.append(city)\n",
    "        \n",
    "        return res"
   ]
  },
  {
   "cell_type": "markdown",
   "metadata": {},
   "source": [
    "# Simpler BFS - O(N) runtime, O(N) space"
   ]
  },
  {
   "cell_type": "code",
   "execution_count": 4,
   "metadata": {},
   "outputs": [],
   "source": [
    "from typing import List\n",
    "from collections import defaultdict, deque\n",
    "\n",
    "class Solution:\n",
    "    def minReorder(self, n: int, connections: List[List[int]]) -> int:\n",
    "        graph = defaultdict(list)\n",
    "        \n",
    "        for u, v in connections:\n",
    "            graph[u].append((v, 1))\n",
    "            graph[v].append((u, 0))\n",
    "            \n",
    "        q = deque([0])\n",
    "        visited = {0}\n",
    "        res = 0\n",
    "        \n",
    "        while q:\n",
    "            city = q.popleft()\n",
    "            \n",
    "            for neighbor, cost in graph[city]:\n",
    "                if neighbor not in visited:\n",
    "                    visited.add(neighbor)\n",
    "                    res += cost\n",
    "                    q.append(neighbor)\n",
    "                    \n",
    "        return res"
   ]
  },
  {
   "cell_type": "markdown",
   "metadata": {},
   "source": [
    "# DFS - O(N) runtime, O(N) space"
   ]
  },
  {
   "cell_type": "code",
   "execution_count": 6,
   "metadata": {},
   "outputs": [],
   "source": [
    "from typing import List\n",
    "from collections import defaultdict\n",
    "\n",
    "class Solution:\n",
    "    def minReorder(self, n: int, connections: List[List[int]]) -> int:\n",
    "        self.res = 0    \n",
    "        roads = set()\n",
    "        graph = defaultdict(list)\n",
    "        \n",
    "        for u, v in connections:\n",
    "            roads.add((u, v))\n",
    "            graph[v].append(u)\n",
    "            graph[u].append(v)\n",
    "            \n",
    "        def dfs(u, parent):\n",
    "            self.res += (parent, u) in roads\n",
    "            for v in graph[u]:\n",
    "                if v == parent: continue\n",
    "                dfs(v, u)   \n",
    "                \n",
    "        dfs(0, -1)\n",
    "        return self.res"
   ]
  },
  {
   "cell_type": "code",
   "execution_count": 7,
   "metadata": {},
   "outputs": [
    {
     "data": {
      "text/plain": [
       "3"
      ]
     },
     "execution_count": 7,
     "metadata": {},
     "output_type": "execute_result"
    }
   ],
   "source": [
    "instance = Solution()\n",
    "instance.minReorder(6, [[0,1],[1,3],[2,3],[4,0],[4,5]])"
   ]
  }
 ],
 "metadata": {
  "kernelspec": {
   "display_name": "Python 3",
   "language": "python",
   "name": "python3"
  },
  "language_info": {
   "codemirror_mode": {
    "name": "ipython",
    "version": 3
   },
   "file_extension": ".py",
   "mimetype": "text/x-python",
   "name": "python",
   "nbconvert_exporter": "python",
   "pygments_lexer": "ipython3",
   "version": "3.7.3"
  }
 },
 "nbformat": 4,
 "nbformat_minor": 2
}
