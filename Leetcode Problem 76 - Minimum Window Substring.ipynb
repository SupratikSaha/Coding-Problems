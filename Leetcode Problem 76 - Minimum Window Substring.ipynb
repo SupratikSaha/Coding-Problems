{
 "cells": [
  {
   "cell_type": "markdown",
   "metadata": {},
   "source": [
    "Given a string S and a strng T, find the minimum window in S which will contain all the characters in T in complexity O(n).\n",
    "\n",
    "Example:\n",
    "\n",
    "Input: S = \"ADOBECODEBANC\", T = \"ABC\"\n",
    "Output: \"BANC\"\n",
    "\n",
    "Note:\n",
    "\n",
    "    If there is no such window in S that covers all characters in T, return the empty string \"\".\n",
    "    If there is such window, you are guaranteed that there will always be only one unique minimum window in S."
   ]
  },
  {
   "cell_type": "markdown",
   "metadata": {},
   "source": [
    "# Sliding Window - O( s + t) runtime, O( s + t) space"
   ]
  },
  {
   "cell_type": "code",
   "execution_count": 1,
   "metadata": {},
   "outputs": [],
   "source": [
    "from collections import Counter\n",
    "\n",
    "class Solution:\n",
    "    def minWindow(self, s: str, t: str) -> str:\n",
    "\n",
    "        if not t or not s:\n",
    "            return \"\"\n",
    "\n",
    "        # Dictionary which keeps a count of all the unique characters in t.\n",
    "        dict_t = Counter(t)\n",
    "\n",
    "        # Number of unique characters in t, which need to be present in the desired window.\n",
    "        required = len(dict_t)\n",
    "\n",
    "        # left and right pointer\n",
    "        l, r = 0, 0\n",
    "\n",
    "        # formed is used to keep track of how many unique characters in t are present in the current window in its desired frequency.\n",
    "        # e.g. if t is \"AABC\" then the window must have two A's, one B and one C. Thus formed would be = 3 when all these conditions are met.\n",
    "        formed = 0\n",
    "\n",
    "        # Dictionary which keeps a count of all the unique characters in the current window.\n",
    "        window_counts = {}\n",
    "\n",
    "        # ans tuple of the form (window length, left, right)\n",
    "        ans = float(\"inf\"), None, None\n",
    "\n",
    "        while r < len(s):\n",
    "\n",
    "            # Add one character from the right to the window\n",
    "            character = s[r]\n",
    "            window_counts[character] = window_counts.get(character, 0) + 1\n",
    "\n",
    "            # If the frequency of the current character added equals to the desired count in t then increment the formed count by 1.\n",
    "            if character in dict_t and window_counts[character] == dict_t[character]:\n",
    "                formed += 1\n",
    "\n",
    "            # Try and contract the window till the point where it ceases to be 'desirable'.\n",
    "            while l <= r and formed == required:\n",
    "                character = s[l]\n",
    "\n",
    "                # Save the smallest window until now.\n",
    "                if r - l + 1 < ans[0]:\n",
    "                    ans = (r - l + 1, l, r)\n",
    "\n",
    "                # The character at the position pointed by the `left` pointer is no longer a part of the window.\n",
    "                window_counts[character] -= 1\n",
    "                if character in dict_t and window_counts[character] < dict_t[character]:\n",
    "                    formed -= 1\n",
    "\n",
    "                # Move the left pointer ahead, this would help to look for a new window.\n",
    "                l += 1    \n",
    "\n",
    "            # Keep expanding the window once we are done contracting.\n",
    "            r += 1    \n",
    "        return \"\" if ans[0] == float(\"inf\") else s[ans[1] : ans[2] + 1]"
   ]
  },
  {
   "cell_type": "markdown",
   "metadata": {},
   "source": [
    "# Optimized Sliding Window - O( s + t) runtime, O( s + t) space"
   ]
  },
  {
   "cell_type": "code",
   "execution_count": 2,
   "metadata": {},
   "outputs": [],
   "source": [
    "from collections import Counter\n",
    "\n",
    "class Solution:\n",
    "    def minWindow(self, s: str, t: str) -> str:\n",
    "\n",
    "        if not t or not s:\n",
    "            return \"\"\n",
    "\n",
    "        dict_t = Counter(t)\n",
    "\n",
    "        required = len(dict_t)\n",
    "\n",
    "        # Filter all the characters from s into a new list along with their index.\n",
    "        # The filtering criteria is that the character should be present in t.\n",
    "        filtered_s = []\n",
    "        for i, char in enumerate(s):\n",
    "            if char in dict_t:\n",
    "                filtered_s.append((i, char))\n",
    "\n",
    "        l, r = 0, 0\n",
    "        formed = 0\n",
    "        window_counts = {}\n",
    "\n",
    "        ans = float(\"inf\"), None, None\n",
    "\n",
    "        # Look for the characters only in the filtered list instead of entire s. This helps to reduce our search.\n",
    "        # Hence, we follow the sliding window approach on as small list.\n",
    "        while r < len(filtered_s):\n",
    "            character = filtered_s[r][1]\n",
    "            window_counts[character] = window_counts.get(character, 0) + 1\n",
    "\n",
    "            if window_counts[character] == dict_t[character]:\n",
    "                formed += 1\n",
    "\n",
    "            # If the current window has all the characters in desired frequencies i.e. t is present in the window\n",
    "            while l <= r and formed == required:\n",
    "                character = filtered_s[l][1]\n",
    "\n",
    "                # Save the smallest window until now.\n",
    "                end = filtered_s[r][0]\n",
    "                start = filtered_s[l][0]\n",
    "                if end - start + 1 < ans[0]:\n",
    "                    ans = (end - start + 1, start, end)\n",
    "\n",
    "                window_counts[character] -= 1\n",
    "                if window_counts[character] < dict_t[character]:\n",
    "                    formed -= 1\n",
    "                l += 1    \n",
    "\n",
    "            r += 1    \n",
    "        return \"\" if ans[0] == float(\"inf\") else s[ans[1] : ans[2] + 1]"
   ]
  },
  {
   "cell_type": "markdown",
   "metadata": {},
   "source": [
    "# Simpler Optimized Sliding Window - O( s + t) runtime, O( s + t) space"
   ]
  },
  {
   "cell_type": "code",
   "execution_count": 3,
   "metadata": {},
   "outputs": [],
   "source": [
    "from collections import Counter, defaultdict\n",
    "\n",
    "class Solution:\n",
    "    def minWindow(self, s: str, t: str) -> str:\n",
    "        minlen = float('inf')\n",
    "        li, ri = None, None\n",
    "        charDictT = Counter(t)\n",
    "        required = len(charDictT)\n",
    "        \n",
    "        charDictS = defaultdict(int)\n",
    "        numchars, left, right = 0, 0, 0\n",
    "        m, n = len(s), len(t)\n",
    "        \n",
    "        for right, char in enumerate(s):\n",
    "            if char not in charDictT: continue\n",
    "            charDictS[char] += 1\n",
    "            if charDictS[char] == charDictT[char]: numchars += 1\n",
    "                \n",
    "            while numchars == required and left <= right:\n",
    "                if right - left < minlen:\n",
    "                    li, ri = left, right\n",
    "                    minlen = right - left\n",
    "                \n",
    "                curChar = s[left]\n",
    "                if curChar in charDictT: \n",
    "                    if charDictS[curChar] == charDictT[curChar]:\n",
    "                        numchars -= 1\n",
    "                    charDictS[curChar] -= 1\n",
    "                    \n",
    "                left += 1\n",
    "                \n",
    "            right += 1\n",
    "            \n",
    "        return s[li:ri+1] if minlen < float('inf') else \"\""
   ]
  },
  {
   "cell_type": "code",
   "execution_count": 4,
   "metadata": {},
   "outputs": [
    {
     "data": {
      "text/plain": [
       "'abbbbbcdd'"
      ]
     },
     "execution_count": 4,
     "metadata": {},
     "output_type": "execute_result"
    }
   ],
   "source": [
    "instance = Solution()\n",
    "instance.minWindow(\"aaaaaaaaaaaabbbbbcdd\", \"abcdd\")"
   ]
  }
 ],
 "metadata": {
  "kernelspec": {
   "display_name": "Python 3",
   "language": "python",
   "name": "python3"
  },
  "language_info": {
   "codemirror_mode": {
    "name": "ipython",
    "version": 3
   },
   "file_extension": ".py",
   "mimetype": "text/x-python",
   "name": "python",
   "nbconvert_exporter": "python",
   "pygments_lexer": "ipython3",
   "version": "3.7.3"
  }
 },
 "nbformat": 4,
 "nbformat_minor": 2
}
