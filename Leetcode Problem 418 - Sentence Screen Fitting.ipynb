{
 "cells": [
  {
   "cell_type": "markdown",
   "metadata": {},
   "source": [
    "    Problem Statement.\n",
    "\n",
    "    Given a rows x cols screen and a sentence represented by a list of non-empty words, find how many times the given sentence can be fitted on the screen.\n",
    "\n",
    "    Note:\n",
    "\n",
    "        A word cannot be split into two lines.\n",
    "        The order of words in the sentence must remain unchanged.\n",
    "        Two consecutive words in a line must be separated by a single space.\n",
    "        Total words in the sentence won't exceed 100.\n",
    "        Length of each word is greater than 0 and won't exceed 10.\n",
    "        1 ≤ rows, cols ≤ 20,000.\n",
    "\n",
    "    Example 1:\n",
    "\n",
    "    Input:\n",
    "    rows = 2, cols = 8, sentence = [\"hello\", \"world\"]\n",
    "\n",
    "    Output: \n",
    "    1\n",
    "\n",
    "    Explanation:\n",
    "    hello---\n",
    "    world---\n",
    "\n",
    "    The character '-' signifies an empty space on the screen.\n",
    "\n",
    "    Example 2:\n",
    "\n",
    "    Input:\n",
    "    rows = 3, cols = 6, sentence = [\"a\", \"bcd\", \"e\"]\n",
    "\n",
    "    Output: \n",
    "    2\n",
    "\n",
    "    Explanation:\n",
    "    a-bcd- \n",
    "    e-a---\n",
    "    bcd-e-\n",
    "\n",
    "    The character '-' signifies an empty space on the screen.\n",
    "\n",
    "    Example 3:\n",
    "\n",
    "    Input:\n",
    "    rows = 4, cols = 5, sentence = [\"I\", \"had\", \"apple\", \"pie\"]\n",
    "\n",
    "    Output: \n",
    "    1\n",
    "\n",
    "    Explanation:\n",
    "    I-had\n",
    "    apple\n",
    "    pie-I\n",
    "    had--\n",
    "\n",
    "    The character '-' signifies an empty space on the screen."
   ]
  },
  {
   "cell_type": "markdown",
   "metadata": {},
   "source": [
    "# Iterate each word - Time limit exceeded O (W * RC/L) runtime, O(1) space, where R is the number of rows, C is the number of columns, L is the length of a sentence with spaces and W is the number of words in a sentence"
   ]
  },
  {
   "cell_type": "code",
   "execution_count": 1,
   "metadata": {},
   "outputs": [],
   "source": [
    "from typing import List\n",
    "\n",
    "class Solution:\n",
    "    def wordsTyping(self, sentence: List[str], rows: int, cols: int) -> int:\n",
    "        w, n = 0, len(sentence)\n",
    "        minSize, res = 0, 0\n",
    "        r, c = 0, 0\n",
    "        \n",
    "        while r < rows:\n",
    "            curLen = len(sentence[w])\n",
    "            if curLen > cols: return 0\n",
    "            if cols - c > curLen + 1: c += curLen + 1\n",
    "            elif (cols - c == curLen + 1  or cols - c == curLen) and (r < rows - 1 or (r == rows - 1 and w == n-1)):\n",
    "                c = 0\n",
    "                r += 1\n",
    "            elif cols - c < curLen + 1 and r < rows - 1:\n",
    "                r += 1\n",
    "                c = curLen + 1\n",
    "            else:\n",
    "                return res\n",
    "            if res == 0: minSize += curLen + 1\n",
    "            w += 1\n",
    "            if w == n:\n",
    "                minSize -= 1\n",
    "                w = 0\n",
    "                res += 1\n",
    "                if minSize > (rows - r - 1) * cols + (cols - c - 1): return res\n",
    "                \n",
    "        return res"
   ]
  },
  {
   "cell_type": "markdown",
   "metadata": {},
   "source": [
    "# Iterate each row - O(R * M) runtime, O(1) space,  where R is the number of rows and M is the length of the largest word"
   ]
  },
  {
   "cell_type": "code",
   "execution_count": null,
   "metadata": {},
   "outputs": [],
   "source": [
    "class Solution:\n",
    "    def wordsTyping(self, sentence: List[str], rows: int, cols: int) -> int:\n",
    "        s = ' '.join(sentence) + ' '\n",
    "        start, l = 0, len(s)\n",
    "        \n",
    "        for i in range(rows):\n",
    "            start += cols\n",
    "            while s[start % l] != ' ':\n",
    "                start -= 1\n",
    "            start += 1\n",
    "            \n",
    "        return start // l"
   ]
  },
  {
   "cell_type": "code",
   "execution_count": 2,
   "metadata": {},
   "outputs": [
    {
     "data": {
      "text/plain": [
       "1"
      ]
     },
     "execution_count": 2,
     "metadata": {},
     "output_type": "execute_result"
    }
   ],
   "source": [
    "instance = Solution()\n",
    "instance.wordsTyping([\"I\", \"had\", \"apple\", \"pie\"], 4, 5)"
   ]
  }
 ],
 "metadata": {
  "kernelspec": {
   "display_name": "Python 3",
   "language": "python",
   "name": "python3"
  },
  "language_info": {
   "codemirror_mode": {
    "name": "ipython",
    "version": 3
   },
   "file_extension": ".py",
   "mimetype": "text/x-python",
   "name": "python",
   "nbconvert_exporter": "python",
   "pygments_lexer": "ipython3",
   "version": "3.7.3"
  }
 },
 "nbformat": 4,
 "nbformat_minor": 2
}
