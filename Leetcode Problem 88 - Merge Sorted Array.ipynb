{
 "cells": [
  {
   "cell_type": "markdown",
   "metadata": {},
   "source": [
    "Problem Statement. <br/>\n",
    "\n",
    "Given two sorted integer arrays nums1 and nums2, merge nums2 into nums1 as one sorted array. <br/>\n",
    "\n",
    "The number of elements initialized in nums1 and nums2 are m and n respectively. You may assume that nums1 has enough space (size that is equal to m + n) to hold additional elements from nums2. <br/>\n",
    "\n",
    "Example 1: <br/>\n",
    "Input: nums1 = [1,2,3,0,0,0], m = 3, nums2 = [2,5,6], n = 3 <br/>\n",
    "Output: [1,2,2,3,5,6] <br/>\n",
    "\n",
    "Example 2: <br/>\n",
    "Input: nums1 = [1], m = 1, nums2 = [], n = 0 <br/>\n",
    "Output: [1]"
   ]
  },
  {
   "cell_type": "markdown",
   "metadata": {},
   "source": [
    "# Heap - O((n + m) * Log (n + m)) runtime, O(n + m) space"
   ]
  },
  {
   "cell_type": "code",
   "execution_count": 1,
   "metadata": {},
   "outputs": [],
   "source": [
    "from typing import List\n",
    "from heapq import heappush, heappop\n",
    "\n",
    "class Solution:\n",
    "    def merge(self, nums1: List[int], m: int, nums2: List[int], n: int) -> None:\n",
    "        \"\"\"\n",
    "        Do not return anything, modify nums1 in-place instead.\n",
    "        \"\"\"\n",
    "        if m == 0:\n",
    "            for i in range(n):\n",
    "                nums1[i] = nums2[i]\n",
    "        elif n > 0:\n",
    "            minheap = []\n",
    "\n",
    "            heappush(minheap, (nums1[0], 1))\n",
    "            heappush(minheap, (nums2[0], 2))\n",
    "\n",
    "            i, index1, index2 = 0, 1, 1\n",
    "\n",
    "            while index1 < m and index2 < n:\n",
    "                val, listNum = heappop(minheap)\n",
    "                heappush(minheap, (nums1[index1], 1))\n",
    "                index1 += 1\n",
    "\n",
    "                if listNum == 2:\n",
    "                    heapq.heappush(minheap, (nums2[index2], 2))\n",
    "                    index2 += 1\n",
    "\n",
    "                nums1[i] = val\n",
    "                i += 1\n",
    "\n",
    "            while index1 < m:\n",
    "                val, listNum = heappop(minheap)\n",
    "                heappush(minheap, (nums1[index1], 1))\n",
    "                index1 += 1\n",
    "                nums1[i] = val\n",
    "                i += 1\n",
    "                    \n",
    "            while index2 < n:\n",
    "                val, listNum = heappop(minheap)\n",
    "                heappush(minheap, (nums2[index2], 2))\n",
    "                index2 += 1\n",
    "                nums1[i] = val     \n",
    "                i += 1\n",
    "\n",
    "            while minheap:\n",
    "                val, listNum = heappop(minheap)\n",
    "                nums1[i] = val\n",
    "                i += 1  \n",
    "                \n",
    "            return nums1"
   ]
  },
  {
   "cell_type": "markdown",
   "metadata": {},
   "source": [
    "# Merge and sort - O((n + m) * Log (n + m)) runtime, O(1) space"
   ]
  },
  {
   "cell_type": "code",
   "execution_count": 2,
   "metadata": {},
   "outputs": [],
   "source": [
    "from typing import List\n",
    "\n",
    "class Solution:\n",
    "    def merge(self, nums1: List[int], m: int, nums2: List[int], n: int) -> None:\n",
    "        \"\"\"\n",
    "        Do not return anything, modify nums1 in-place instead.\n",
    "        \"\"\"\n",
    "        nums1[:] = sorted(nums1[:m] + nums2)\n",
    "        return nums1"
   ]
  },
  {
   "cell_type": "markdown",
   "metadata": {},
   "source": [
    "# Two Pointers - Start from begining - O(n + m) runtime, O(m) space"
   ]
  },
  {
   "cell_type": "code",
   "execution_count": 3,
   "metadata": {},
   "outputs": [],
   "source": [
    "from typing import List\n",
    "\n",
    "class Solution(object):\n",
    "    def merge(self, nums1: List[int], m: int, nums2: List[int], n: int) -> None:\n",
    "        \"\"\"\n",
    "        :type nums1: List[int]\n",
    "        :type m: int\n",
    "        :type nums2: List[int]\n",
    "        :type n: int\n",
    "        :rtype: void Do not return anything, modify nums1 in-place instead.\n",
    "        \"\"\"\n",
    "        # Make a copy of nums1.\n",
    "        nums1_copy = nums1[:m] \n",
    "        nums1[:] = []\n",
    "\n",
    "        # Two get pointers for nums1_copy and nums2.\n",
    "        p1 = 0 \n",
    "        p2 = 0\n",
    "        \n",
    "        # Compare elements from nums1_copy and nums2\n",
    "        # and add the smallest one into nums1.\n",
    "        while p1 < m and p2 < n: \n",
    "            if nums1_copy[p1] < nums2[p2]: \n",
    "                nums1.append(nums1_copy[p1])\n",
    "                p1 += 1\n",
    "            else:\n",
    "                nums1.append(nums2[p2])\n",
    "                p2 += 1\n",
    "\n",
    "        # if there are still elements to add\n",
    "        if p1 < m: \n",
    "            nums1[(p1 + p2):] = nums1_copy[p1:]\n",
    "        if p2 < n:\n",
    "            nums1[(p1 + p2):] = nums2[p2:]\n",
    "            \n",
    "        return nums1"
   ]
  },
  {
   "cell_type": "markdown",
   "metadata": {},
   "source": [
    "# Two Pointers - Start from end - O(n + m) runtime, O(1) space"
   ]
  },
  {
   "cell_type": "code",
   "execution_count": 4,
   "metadata": {},
   "outputs": [],
   "source": [
    "from typing import List\n",
    "\n",
    "class Solution(object):\n",
    "    def merge(self, nums1: List[int], m: int, nums2: List[int], n: int) -> None:\n",
    "        \"\"\"\n",
    "        :type nums1: List[int]\n",
    "        :type m: int\n",
    "        :type nums2: List[int]\n",
    "        :type n: int\n",
    "        :rtype: void Do not return anything, modify nums1 in-place instead.\n",
    "        \"\"\"\n",
    "        # two get pointers for nums1 and nums2\n",
    "        p1 = m - 1\n",
    "        p2 = n - 1\n",
    "        \n",
    "        for i in reversed(range(m+n)):\n",
    "            if p2 < 0:\n",
    "                break\n",
    "            if p1 >= 0 and nums1[p1] > nums2[p2]:\n",
    "                nums1[i] = nums1[p1]\n",
    "                p1 -= 1\n",
    "            else:\n",
    "                nums1[i] = nums2[p2]\n",
    "                p2 -= 1"
   ]
  },
  {
   "cell_type": "code",
   "execution_count": 5,
   "metadata": {},
   "outputs": [
    {
     "data": {
      "text/plain": [
       "[1, 2, 2, 3, 5, 6]"
      ]
     },
     "execution_count": 5,
     "metadata": {},
     "output_type": "execute_result"
    }
   ],
   "source": [
    "instance = Solution()\n",
    "instance.merge([1,2,3,0,0,0], 3, [2,5,6], 3)"
   ]
  }
 ],
 "metadata": {
  "kernelspec": {
   "display_name": "Python 3",
   "language": "python",
   "name": "python3"
  },
  "language_info": {
   "codemirror_mode": {
    "name": "ipython",
    "version": 3
   },
   "file_extension": ".py",
   "mimetype": "text/x-python",
   "name": "python",
   "nbconvert_exporter": "python",
   "pygments_lexer": "ipython3",
   "version": "3.7.3"
  }
 },
 "nbformat": 4,
 "nbformat_minor": 2
}
