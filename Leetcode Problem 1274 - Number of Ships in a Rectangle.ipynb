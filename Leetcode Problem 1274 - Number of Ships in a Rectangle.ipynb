{
 "cells": [
  {
   "cell_type": "markdown",
   "metadata": {},
   "source": [
    "Problem Statement.\n",
    "\n",
    "(This problem is an interactive problem.)\n",
    "\n",
    "Each ship is located at an integer point on the sea represented by a cartesian plane, and each integer point may contain at most 1 ship.\n",
    "\n",
    "You have a function Sea.hasShips(topRight, bottomLeft) which takes two points as arguments and returns true If there is at least one ship in the rectangle represented by the two points, including on the boundary.\n",
    "\n",
    "Given two points: the top right and bottom left corners of a rectangle, return the number of ships present in that rectangle. It is guaranteed that there are at most 10 ships in that rectangle.\n",
    "\n",
    "Submissions making more than 400 calls to hasShips will be judged Wrong Answer. Also, any solutions that attempt to circumvent the judge will result in disqualification.\n",
    "\n",
    " \n",
    "\n",
    "Example :\n",
    "\n",
    "Input: \n",
    "ships = [[1,1],[2,2],[3,3],[5,5]], topRight = [4,4], bottomLeft = [0,0]\n",
    "Output: 3\n",
    "Explanation: From [0,0] to [4,4] we can count 3 ships within the range.\n",
    "\n",
    " \n",
    "\n",
    "Constraints:\n",
    "\n",
    "    On the input ships is only given to initialize the map internally. You must solve this problem \"blindfolded\". In other words, you must find the answer using the given hasShips API, without knowing the ships position.\n",
    "    0 <= bottomLeft[0] <= topRight[0] <= 1000\n",
    "    0 <= bottomLeft[1] <= topRight[1] <= 1000\n",
    "    topRight != bottomLeft"
   ]
  },
  {
   "cell_type": "markdown",
   "metadata": {},
   "source": [
    "# Quartered Search - O(Log M * N) runtime, O(Log M * N) space"
   ]
  },
  {
   "cell_type": "code",
   "execution_count": 1,
   "metadata": {},
   "outputs": [],
   "source": [
    "# \"\"\"\n",
    "# This is Sea's API interface.\n",
    "# You should not implement it, or speculate about its implementation\n",
    "# \"\"\"\n",
    "#class Sea(object):\n",
    "#    def hasShips(self, topRight: 'Point', bottomLeft: 'Point') -> bool:\n",
    "#\n",
    "#class Point(object):\n",
    "#    def __init__(self, x: int, y: int):\n",
    "#       self.x = x\n",
    "#       self.y = y\n",
    "\n",
    "class Solution(object):\n",
    "    def countShips(self, sea: 'Sea', topRight: 'Point', bottomLeft: 'Point') -> int:\n",
    "        res = 0\n",
    "        if topRight.x >= bottomLeft.x and topRight.y >= bottomLeft.y and sea.hasShips(topRight, bottomLeft):\n",
    "            if topRight.x == bottomLeft.x and topRight.y == bottomLeft.y: return 1\n",
    "            mx, my = (topRight.x + bottomLeft.x) // 2, (topRight.y + bottomLeft.y) // 2\n",
    "            res += self.countShips(sea, topRight, Point(mx + 1, my + 1))\n",
    "            res += self.countShips(sea, Point(mx, topRight.y), Point(bottomLeft.x, my + 1))\n",
    "            res += self.countShips(sea, Point(mx, my), bottomLeft)\n",
    "            res += self.countShips(sea, Point(topRight.x, my), Point(mx + 1, bottomLeft.y))\n",
    "        return res"
   ]
  }
 ],
 "metadata": {
  "kernelspec": {
   "display_name": "Python 3",
   "language": "python",
   "name": "python3"
  },
  "language_info": {
   "codemirror_mode": {
    "name": "ipython",
    "version": 3
   },
   "file_extension": ".py",
   "mimetype": "text/x-python",
   "name": "python",
   "nbconvert_exporter": "python",
   "pygments_lexer": "ipython3",
   "version": "3.7.3"
  }
 },
 "nbformat": 4,
 "nbformat_minor": 2
}
