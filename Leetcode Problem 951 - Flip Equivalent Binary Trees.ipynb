{
 "cells": [
  {
   "cell_type": "markdown",
   "metadata": {},
   "source": [
    "For a binary tree T, we can define a flip operation as follows: choose any node, and swap the left and right child subtrees.\n",
    "\n",
    "A binary tree X is flip equivalent to a binary tree Y if and only if we can make X equal to Y after some number of flip operations.\n",
    "\n",
    "Write a function that determines whether two binary trees are flip equivalent.  The trees are given by root nodes root1 and root2.\n",
    "\n",
    "<img src=\"images/tree_ex.png\">\n",
    "\n",
    "Example 1:\n",
    "\n",
    "Input: root1 = [1,2,3,4,5,6,null,null,null,7,8], root2 = [1,3,2,null,6,4,5,null,null,null,null,8,7]\n",
    "Output: true\n",
    "Explanation: We flipped at nodes with values 1, 3, and 5.\n",
    "Flipped Trees Diagram\n",
    "\n",
    " \n",
    "\n",
    "Note:\n",
    "\n",
    "    Each tree will have at most 100 nodes.\n",
    "    Each value in each tree will be a unique integer in the range [0, 99].\n"
   ]
  },
  {
   "cell_type": "markdown",
   "metadata": {},
   "source": [
    "# Depth First Search Recursion - O(min(n1, n2)) runtime, O(min(h1, h2)) space where n1 and n2 are lengths and h1 and h2 are the heights of root1 and root2 "
   ]
  },
  {
   "cell_type": "code",
   "execution_count": 4,
   "metadata": {},
   "outputs": [],
   "source": [
    "# Definition for a binary tree node.\n",
    "class TreeNode:\n",
    "    def __init__(self, val=0, left=None, right=None):\n",
    "        self.val = val\n",
    "        self.left = left\n",
    "        self.right = right\n",
    "        \n",
    "class Solution:\n",
    "    def flipEquiv(self, root1: TreeNode, root2: TreeNode) -> bool:\n",
    "        \n",
    "        if not root1 and not root2:\n",
    "            return True\n",
    "        elif not root1 or not root2:\n",
    "            return False\n",
    "        elif root1.val != root2.val:\n",
    "            return False\n",
    "            \n",
    "        return self.checkFlipEquiv(root1, root2)\n",
    "    \n",
    "    def checkFlipEquiv(self, root1: TreeNode, root2: TreeNode) -> bool:\n",
    "        \n",
    "        if not root1 and not root2:\n",
    "            return True\n",
    "        elif not root1 or not root2:\n",
    "            return False\n",
    "        \n",
    "        first_left = root1.left.val if root1.left else None\n",
    "        first_right = root1.right.val if root1.right else None\n",
    "        second_left = root2.left.val if root2.left else None\n",
    "        second_right = root2.right.val if root2.right else None\n",
    "        \n",
    "        if not first_left and not first_right and not second_left and not second_right:\n",
    "            return True\n",
    "        \n",
    "        if first_left == second_left and first_right == second_right:\n",
    "            return self.checkFlipEquiv(root1.left, root2.left) and self.checkFlipEquiv(root1.right, root2.right)\n",
    "        elif first_left == second_right and first_right == second_left:\n",
    "            temp = root1.left\n",
    "            root1.left = root1.right\n",
    "            root1.right = temp\n",
    "            return self.checkFlipEquiv(root1.left, root2.left) and self.checkFlipEquiv(root1.right, root2.right)\n",
    "        else:\n",
    "            return False"
   ]
  },
  {
   "cell_type": "markdown",
   "metadata": {},
   "source": [
    "# Canonical Traversal - O(n1 + n2) runtime, O(h1 + h2) space where n1 and n2 are lengths and h1 and h2 are the heights of root1 and root2"
   ]
  },
  {
   "cell_type": "code",
   "execution_count": 5,
   "metadata": {},
   "outputs": [],
   "source": [
    "# Definition for a binary tree node.\n",
    "class TreeNode:\n",
    "    def __init__(self, val=0, left=None, right=None):\n",
    "        self.val = val\n",
    "        self.left = left\n",
    "        self.right = right\n",
    "        \n",
    "class Solution:\n",
    "    def flipEquiv(self, root1: TreeNode, root2: TreeNode) -> bool:\n",
    "        \n",
    "        def dfs(node):\n",
    "            if node:\n",
    "                yield node.val\n",
    "                L = node.left.val if node.left else -1\n",
    "                R = node.right.val if node.right else -1\n",
    "                if L < R:\n",
    "                    yield from dfs(node.left)\n",
    "                    yield from dfs(node.right)\n",
    "                else:\n",
    "                    yield from dfs(node.right)\n",
    "                    yield from dfs(node.left)\n",
    "                yield '#'\n",
    "\n",
    "        return all(x == y for x, y in itertools.zip_longest(\n",
    "            dfs(root1), dfs(root2)))"
   ]
  }
 ],
 "metadata": {
  "kernelspec": {
   "display_name": "Python 3",
   "language": "python",
   "name": "python3"
  },
  "language_info": {
   "codemirror_mode": {
    "name": "ipython",
    "version": 3
   },
   "file_extension": ".py",
   "mimetype": "text/x-python",
   "name": "python",
   "nbconvert_exporter": "python",
   "pygments_lexer": "ipython3",
   "version": "3.7.3"
  }
 },
 "nbformat": 4,
 "nbformat_minor": 2
}
