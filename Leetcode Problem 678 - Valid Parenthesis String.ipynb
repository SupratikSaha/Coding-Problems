{
 "cells": [
  {
   "cell_type": "markdown",
   "metadata": {},
   "source": [
    "Problem Statement.\n",
    "\n",
    "Given a string s containing only three types of characters: '(', ')' and '*', return true if s is valid.\n",
    "\n",
    "The following rules define a valid string:\n",
    "\n",
    "    Any left parenthesis '(' must have a corresponding right parenthesis ')'.\n",
    "    Any right parenthesis ')' must have a corresponding left parenthesis '('.\n",
    "    Left parenthesis '(' must go before the corresponding right parenthesis ')'.\n",
    "    '*' could be treated as a single right parenthesis ')' or a single left parenthesis '(' or an empty string \"\".\n",
    "\n",
    "\n",
    "\n",
    "Example 1:\n",
    "\n",
    "Input: s = \"()\"\n",
    "Output: true\n",
    "\n",
    "Example 2:\n",
    "\n",
    "Input: s = \"(*)\"\n",
    "Output: true\n",
    "\n",
    "Example 3:\n",
    "\n",
    "Input: s = \"(*))\"\n",
    "Output: true\n",
    "\n",
    "\n",
    "\n",
    "Constraints:\n",
    "\n",
    "    1 <= s.length <= 100\n",
    "    s[i] is '(', ')' or '*'."
   ]
  },
  {
   "cell_type": "markdown",
   "metadata": {},
   "source": [
    "# Left Brackets low and high count - O(N) runtime, O(1) space"
   ]
  },
  {
   "cell_type": "code",
   "execution_count": 1,
   "metadata": {},
   "outputs": [],
   "source": [
    "class Solution:\n",
    "    def checkValidString(self, s: str) -> bool:\n",
    "        low, high = 0, 0\n",
    "        \n",
    "        for c in s:\n",
    "            low += 1 if c == '(' else -1\n",
    "            high += 1 if c !=')' else -1\n",
    "            \n",
    "            if high < 0: return False\n",
    "            low = max(low, 0)\n",
    "        \n",
    "        return low == 0"
   ]
  },
  {
   "cell_type": "code",
   "execution_count": 2,
   "metadata": {},
   "outputs": [
    {
     "data": {
      "text/plain": [
       "True"
      ]
     },
     "execution_count": 2,
     "metadata": {},
     "output_type": "execute_result"
    }
   ],
   "source": [
    "instance = Solution()\n",
    "instance.checkValidString(\"(*))\")"
   ]
  }
 ],
 "metadata": {
  "kernelspec": {
   "display_name": "Python 3",
   "language": "python",
   "name": "python3"
  },
  "language_info": {
   "codemirror_mode": {
    "name": "ipython",
    "version": 3
   },
   "file_extension": ".py",
   "mimetype": "text/x-python",
   "name": "python",
   "nbconvert_exporter": "python",
   "pygments_lexer": "ipython3",
   "version": "3.7.3"
  }
 },
 "nbformat": 4,
 "nbformat_minor": 2
}
