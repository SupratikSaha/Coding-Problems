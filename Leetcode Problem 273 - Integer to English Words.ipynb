{
 "cells": [
  {
   "cell_type": "markdown",
   "metadata": {},
   "source": [
    "Problem Statement. <br/>\n",
    "\n",
    "Convert a non-negative integer num to its English words representation. <br/>\n",
    "\n",
    "Example 1: <br/>\n",
    "Input: num = 123 <br/>\n",
    "Output: \"One Hundred Twenty Three\" <br/>\n",
    "\n",
    "Example 2: <br/>\n",
    "Input: num = 12345 <br/>\n",
    "Output: \"Twelve Thousand Three Hundred Forty Five\" <br/>\n",
    "\n",
    "Example 3: <br/>\n",
    "Input: num = 1234567 <br/>\n",
    "Output: \"One Million Two Hundred Thirty Four Thousand Five Hundred Sixty Seven\" <br/>\n",
    "\n",
    "Example 4: <br/>\n",
    "Input: num = 1234567891 <br/>\n",
    "Output: \"One Billion Two Hundred Thirty Four Million Five Hundred Sixty Seven Thousand Eight Hundred Ninety One\" <br/>\n",
    "\n",
    "Constraints: 0 <= num <= 231 - 1"
   ]
  },
  {
   "cell_type": "markdown",
   "metadata": {},
   "source": [
    "# Has Map - O(log N) runtime, O(1) space"
   ]
  },
  {
   "cell_type": "code",
   "execution_count": 1,
   "metadata": {},
   "outputs": [],
   "source": [
    "from collections import deque\n",
    "\n",
    "class Solution:\n",
    "    def numberToWords(self, num: int) -> str:\n",
    "        if num == 0: return 'Zero'\n",
    "        \n",
    "        unitNames = {1: \"One\", 2: \"Two\", 3: \"Three\", 4: \"Four\", 5: \"Five\", 6: \"Six\", 7: \"Seven\", 8: \"Eight\", 9: \"Nine\"}\n",
    "        \n",
    "        tenNames = {2: \"Twenty\", 3: \"Thirty\", 4: \"Forty\", 5: \"Fifty\", 6: \"Sixty\", 7: \"Seventy\", 8: \"Eighty\", 9: \"Ninety\"}\n",
    "        \n",
    "        otherNames = {0: \"Ten\", 1: \"Eleven\", 2: \"Twelve\", 3: \"Thirteen\", 4: \"Fourteen\", 5: \"Fifteen\", 6: \"Sixteen\", 7: \"Seventeen\", 8: \"Eighteen\", 9: \"Nineteen\"}\n",
    "        \n",
    "        places = {4: \"Thousand\", 5: \"Thousand\", 6: \"Thousand\", 7: \"Million\", 8: \"Million\", 9: \"Million\", 10: \"Billion\"}\n",
    "        \n",
    "        count = 0\n",
    "        reverseStack = deque()\n",
    "        while num:\n",
    "            unit = num % 10\n",
    "            count += 1\n",
    "            num //= 10\n",
    "            \n",
    "            tenth = 0\n",
    "            if num:\n",
    "                tenth = num % 10\n",
    "                count += 1\n",
    "                num //= 10\n",
    "                \n",
    "            hundreth = 0\n",
    "            if num:\n",
    "                hundreth = num % 10\n",
    "                count += 1\n",
    "                num //= 10\n",
    "                \n",
    "            if (unit or tenth or hundreth) and count in places: reverseStack.appendleft(places[count])\n",
    "                \n",
    "            if unit or tenth:\n",
    "                if tenth == 1:\n",
    "                    reverseStack.appendleft(otherNames[unit])\n",
    "                else:\n",
    "                    if unit: reverseStack.appendleft(unitNames[unit])\n",
    "                    if tenth: reverseStack.appendleft(tenNames[tenth])\n",
    "                \n",
    "            if hundreth:\n",
    "                reverseStack.appendleft('Hundred')\n",
    "                reverseStack.appendleft(unitNames[hundreth])\n",
    "   \n",
    "        return ' '.join(reverseStack)"
   ]
  },
  {
   "cell_type": "markdown",
   "metadata": {},
   "source": [
    "# Easier Version - O(log N) runtime, O(1) space"
   ]
  },
  {
   "cell_type": "code",
   "execution_count": 2,
   "metadata": {},
   "outputs": [],
   "source": [
    "class Solution:\n",
    "    def numberToWords(self, num: int) -> str:\n",
    "        if num == 0: return 'Zero'\n",
    "        \n",
    "        toNineteen = ['One', 'Two', 'Three', 'Four', 'Five', 'Six', 'Seven', 'Eight', 'Nine',\n",
    "                     'Ten', 'Eleven', 'Twelve', 'Thirteen', 'Fourteen', 'Fifteen', 'Sixteen',\n",
    "                     'Seventeen', 'Eighteen', 'Nineteen']\n",
    "        \n",
    "        tenList = ['Twenty', 'Thirty', 'Forty', 'Fifty', 'Sixty', 'Seventy', 'Eighty', 'Ninety']\n",
    "        \n",
    "        exponents = ['Thousand', 'Million', 'Billion']\n",
    "        result = []\n",
    "        \n",
    "        for i in reversed(range(4)):\n",
    "            div = 1000 ** i\n",
    "            if num >= div:\n",
    "                extra, num = divmod(num, div)\n",
    "                if extra:\n",
    "                    hundreds, extra = divmod(extra, 100)\n",
    "                    if hundreds: \n",
    "                        result.append(toNineteen[hundreds-1])\n",
    "                        result.append('Hundred')\n",
    "                    if extra >= 20: \n",
    "                        tens, extra = divmod(extra, 10)\n",
    "                        result.append(tenList[tens-2])\n",
    "                    \n",
    "                    if extra: result.append(toNineteen[extra-1])\n",
    "                    \n",
    "                    if i:  result.append(exponents[i-1])\n",
    "                        \n",
    "        return ' '.join(result)"
   ]
  },
  {
   "cell_type": "markdown",
   "metadata": {},
   "source": [
    "# Shorter Version - O(log N) runtime, O(1) space"
   ]
  },
  {
   "cell_type": "code",
   "execution_count": 3,
   "metadata": {},
   "outputs": [],
   "source": [
    "class Solution:\n",
    "    def numberToWords(self, num: int) -> str:\n",
    "        to19 = 'One Two Three Four Five Six Seven Eight Nine Ten Eleven Twelve ' \\\n",
    "           'Thirteen Fourteen Fifteen Sixteen Seventeen Eighteen Nineteen'.split()\n",
    "        tens = 'Twenty Thirty Forty Fifty Sixty Seventy Eighty Ninety'.split()\n",
    "        def words(n):\n",
    "            if n < 20:\n",
    "                return to19[n-1:n]\n",
    "            if n < 100:\n",
    "                return [tens[n//10-2]] + words(n%10)\n",
    "            if n < 1000:\n",
    "                return [to19[n//100-1]] + ['Hundred'] + words(n%100)\n",
    "            for p, w in enumerate(('Thousand', 'Million', 'Billion'), 1):\n",
    "                if n < 1000**(p+1):\n",
    "                    return words(n//1000**p) + [w] + words(n%1000**p)\n",
    "        return ' '.join(words(num)) or 'Zero'"
   ]
  },
  {
   "cell_type": "code",
   "execution_count": 4,
   "metadata": {},
   "outputs": [
    {
     "data": {
      "text/plain": [
       "'One Billion Two Hundred Thirty Four Million Five Hundred Sixty Seven Thousand Eight Hundred Ninety One'"
      ]
     },
     "execution_count": 4,
     "metadata": {},
     "output_type": "execute_result"
    }
   ],
   "source": [
    "instance = Solution()\n",
    "instance.numberToWords(1234567891)"
   ]
  }
 ],
 "metadata": {
  "kernelspec": {
   "display_name": "Python 3",
   "language": "python",
   "name": "python3"
  },
  "language_info": {
   "codemirror_mode": {
    "name": "ipython",
    "version": 3
   },
   "file_extension": ".py",
   "mimetype": "text/x-python",
   "name": "python",
   "nbconvert_exporter": "python",
   "pygments_lexer": "ipython3",
   "version": "3.7.3"
  }
 },
 "nbformat": 4,
 "nbformat_minor": 2
}
