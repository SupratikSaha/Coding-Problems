{
 "cells": [
  {
   "cell_type": "markdown",
   "metadata": {},
   "source": [
    "Given a list of non-negative numbers and a target integer k, write a function to check if the array has a continuous subarray of size at least 2 that sums up to a multiple of k, that is, sums up to n*k where n is also an integer.\n",
    "\n",
    " \n",
    "\n",
    "Example 1:\n",
    "\n",
    "Input: [23, 2, 4, 6, 7],  k=6\n",
    "Output: True\n",
    "Explanation: Because [2, 4] is a continuous subarray of size 2 and sums up to 6.\n"
   ]
  },
  {
   "cell_type": "markdown",
   "metadata": {},
   "source": [
    "# Brute Force: O(n ^ 3) runtime, O(1) space"
   ]
  },
  {
   "cell_type": "code",
   "execution_count": 1,
   "metadata": {},
   "outputs": [],
   "source": [
    "from typing import List\n",
    "\n",
    "class Solution:\n",
    "    def checkSubarraySum(self, nums: List[int], k: int) -> bool:\n",
    "        length = len(nums)\n",
    "        \n",
    "        for i in range(2, length + 1):\n",
    "            for j in range(0, length - i + 1):\n",
    "                num_sum = sum(nums[j: (j + i)])\n",
    "                if k == 0 and num_sum == 0:\n",
    "                    return True\n",
    "                elif k != 0 and num_sum % k == 0:\n",
    "                    return True\n",
    "        \n",
    "        return False"
   ]
  },
  {
   "cell_type": "markdown",
   "metadata": {},
   "source": [
    "# Cumulative Sum: O(n ^ 2) runtime, O(1) space"
   ]
  },
  {
   "cell_type": "code",
   "execution_count": 3,
   "metadata": {},
   "outputs": [],
   "source": [
    "from typing import List\n",
    "\n",
    "class Solution:\n",
    "    def checkSubarraySum(self, nums: List[int], k: int) -> bool:\n",
    "        length = len(nums)\n",
    "        \n",
    "        for i in range(length):\n",
    "            nums[i] = nums[i] + (0 if i == 0 else nums[i - 1])\n",
    "        \n",
    "        for i in range(2, length + 1):\n",
    "            for j in range(0, length - i + 1):\n",
    "                num_sum = nums[j + i - 1] - (0 if j==0 else nums[j - 1])\n",
    "                if k == 0 and num_sum == 0:\n",
    "                    return True\n",
    "                elif k != 0 and num_sum % k == 0:\n",
    "                    return True\n",
    "        \n",
    "        return False"
   ]
  },
  {
   "cell_type": "markdown",
   "metadata": {},
   "source": [
    "# Hash Map - O(n) runtime, O(min(n, k)) space"
   ]
  },
  {
   "cell_type": "code",
   "execution_count": 5,
   "metadata": {},
   "outputs": [],
   "source": [
    "from typing import List\n",
    "\n",
    "class Solution:\n",
    "    def checkSubarraySum(self, nums: List[int], k: int) -> bool:\n",
    "        num_sum = 0\n",
    "        hash_map = {}\n",
    "        hash_map[0] = -1\n",
    "        \n",
    "        for i, num in enumerate(nums):\n",
    "            num_sum += num\n",
    "            if k != 0:\n",
    "                num_sum = num_sum % k\n",
    "            \n",
    "            if num_sum in hash_map:\n",
    "                if i - hash_map[num_sum] > 1:\n",
    "                    return True\n",
    "            else:\n",
    "                hash_map[num_sum] = i\n",
    "        \n",
    "        return False"
   ]
  },
  {
   "cell_type": "code",
   "execution_count": 6,
   "metadata": {},
   "outputs": [
    {
     "data": {
      "text/plain": [
       "True"
      ]
     },
     "execution_count": 6,
     "metadata": {},
     "output_type": "execute_result"
    }
   ],
   "source": [
    "instance = Solution()\n",
    "instance.checkSubarraySum([23, 2, 4, 6, 7], 6)"
   ]
  }
 ],
 "metadata": {
  "kernelspec": {
   "display_name": "Python 3",
   "language": "python",
   "name": "python3"
  },
  "language_info": {
   "codemirror_mode": {
    "name": "ipython",
    "version": 3
   },
   "file_extension": ".py",
   "mimetype": "text/x-python",
   "name": "python",
   "nbconvert_exporter": "python",
   "pygments_lexer": "ipython3",
   "version": "3.7.3"
  }
 },
 "nbformat": 4,
 "nbformat_minor": 2
}
