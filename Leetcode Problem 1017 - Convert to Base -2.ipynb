{
 "cells": [
  {
   "cell_type": "markdown",
   "metadata": {},
   "source": [
    "Problem Statement.\n",
    "\n",
    "Given an integer n, return a binary string representing its representation in base -2.\n",
    "\n",
    "Note that the returned string should not have leading zeros unless the string is \"0\".\n",
    "\n",
    " \n",
    "\n",
    "Example 1:\n",
    "\n",
    "Input: n = 2\n",
    "Output: \"110\"\n",
    "Explantion: (-2)2 + (-2)1 = 2\n",
    "\n",
    "Example 2:\n",
    "\n",
    "Input: n = 3\n",
    "Output: \"111\"\n",
    "Explantion: (-2)2 + (-2)1 + (-2)0 = 3\n",
    "\n",
    "Example 3:\n",
    "\n",
    "Input: n = 4\n",
    "Output: \"100\"\n",
    "Explantion: (-2)2 = 4\n",
    "\n",
    " \n",
    "\n",
    "Constraints:\n",
    "\n",
    "    0 <= n <= 10^9"
   ]
  },
  {
   "cell_type": "markdown",
   "metadata": {},
   "source": [
    "# Iterative - O(Log N) runtime, O(Log N) space"
   ]
  },
  {
   "cell_type": "code",
   "execution_count": 1,
   "metadata": {},
   "outputs": [],
   "source": [
    "from collections import deque\n",
    "\n",
    "class Solution:\n",
    "    def baseNeg2(self, n: int) -> str:\n",
    "        res = deque()\n",
    "        x = n\n",
    "        \n",
    "        while x:\n",
    "            res.appendleft(x & 1)\n",
    "            x = -(x >> 1)\n",
    "            \n",
    "        return \"\".join(map(str, res)) if n > 0 else \"0\""
   ]
  },
  {
   "cell_type": "code",
   "execution_count": 2,
   "metadata": {},
   "outputs": [
    {
     "data": {
      "text/plain": [
       "'100'"
      ]
     },
     "execution_count": 2,
     "metadata": {},
     "output_type": "execute_result"
    }
   ],
   "source": [
    "instance = Solution()\n",
    "instance.baseNeg2(4)"
   ]
  }
 ],
 "metadata": {
  "kernelspec": {
   "display_name": "Python 3",
   "language": "python",
   "name": "python3"
  },
  "language_info": {
   "codemirror_mode": {
    "name": "ipython",
    "version": 3
   },
   "file_extension": ".py",
   "mimetype": "text/x-python",
   "name": "python",
   "nbconvert_exporter": "python",
   "pygments_lexer": "ipython3",
   "version": "3.7.3"
  }
 },
 "nbformat": 4,
 "nbformat_minor": 2
}
