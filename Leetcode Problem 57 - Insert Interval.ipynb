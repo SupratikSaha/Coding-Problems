{
 "cells": [
  {
   "cell_type": "markdown",
   "metadata": {},
   "source": [
    "Given a set of non-overlapping intervals, insert a new interval into the intervals (merge if necessary).\n",
    "\n",
    "You may assume that the intervals were initially sorted according to their start times.\n",
    "\n",
    "Example 1:\n",
    "\n",
    "Input: intervals = [[1,3],[6,9]], newInterval = [2,5]\n",
    "Output: [[1,5],[6,9]]\n",
    "\n",
    "Example 2:\n",
    "\n",
    "Input: intervals = [[1,2],[3,5],[6,7],[8,10],[12,16]], newInterval = [4,8]\n",
    "Output: [[1,2],[3,10],[12,16]]\n",
    "Explanation: Because the new interval [4,8] overlaps with [3,5],[6,7],[8,10]."
   ]
  },
  {
   "cell_type": "markdown",
   "metadata": {},
   "source": [
    "# Sorted Intervals and List Insert - O(n ^ 2 log n) runtime, O(n) space"
   ]
  },
  {
   "cell_type": "code",
   "execution_count": 1,
   "metadata": {},
   "outputs": [],
   "source": [
    "from typing import List\n",
    "\n",
    "class Solution:\n",
    "    def insert(self, intervals: List[List[int]], newInterval: List[int]) -> List[List[int]]:\n",
    "        \n",
    "        for i, interval in enumerate(intervals):\n",
    "            if newInterval[1] < interval[0]:\n",
    "                intervals = self.list_insert(intervals, newInterval, i)\n",
    "                return intervals\n",
    "            \n",
    "            elif newInterval[0] <= interval[1]:\n",
    "                interval[0] = min(interval[0], newInterval[0])\n",
    "                interval[1] = max(interval[1], newInterval[1])\n",
    "                intervals = self.merge_intervals(intervals)\n",
    "                return intervals\n",
    "            \n",
    "        intervals.append(newInterval)\n",
    "\n",
    "        return intervals\n",
    "        \n",
    "    def list_insert(self, intervals: List[List[int]], newInterval: List[int], pos: int) -> List[List[int]]:\n",
    "        intervals.append(intervals[-1])\n",
    "        for i in range(len(intervals) - 2, pos, -1):\n",
    "            intervals[i] = intervals[i - 1]\n",
    "            \n",
    "        intervals[pos] = newInterval\n",
    "        \n",
    "        return intervals\n",
    "    \n",
    "    def merge_intervals(self, intervals: List[List[int]]) -> List[List[int]]:\n",
    "        \n",
    "        intervals = sorted(intervals, key=lambda x: x[0])\n",
    "        merged = []\n",
    "        \n",
    "        for i, interval in enumerate(intervals):\n",
    "            if not merged or merged[-1][1] < interval[0]:\n",
    "                merged.append(interval)\n",
    "            else:\n",
    "                merged[-1][1] = max(merged[-1][1], interval[1])\n",
    "                \n",
    "        return merged"
   ]
  },
  {
   "cell_type": "markdown",
   "metadata": {},
   "source": [
    "# Greedy Aproach - O(n) runtime, O(n) space"
   ]
  },
  {
   "cell_type": "code",
   "execution_count": 2,
   "metadata": {},
   "outputs": [],
   "source": [
    "class Solution:\n",
    "    def insert(self, intervals: List[List[int]], newInterval: List[int]) -> List[List[int]]:\n",
    "        length = len(intervals)\n",
    "        if length == 0:\n",
    "            return [newInterval]\n",
    "\n",
    "        merged = []\n",
    "        i, start, end = 0, 0, 1\n",
    "\n",
    "        # skip (and add to output) all intervals that come before the 'newInterval'\n",
    "        while i < length and intervals[i][end] < newInterval[start]:\n",
    "            merged.append(intervals[i])\n",
    "            i += 1\n",
    "\n",
    "        # merge all intervals that overlap with 'newInterval'\n",
    "        while i < length and intervals[i][start] <= newInterval[end]:\n",
    "            newInterval[start] = min(intervals[i][start], newInterval[start])\n",
    "            newInterval[end] = max(intervals[i][end], newInterval[end])\n",
    "            i += 1\n",
    "\n",
    "        # insert the newInterval\n",
    "        merged.append(newInterval)\n",
    "\n",
    "        # add all the remaining intervals to the output\n",
    "        while i < length:\n",
    "            merged.append(intervals[i])\n",
    "            i += 1\n",
    "        \n",
    "        return merged"
   ]
  },
  {
   "cell_type": "code",
   "execution_count": 3,
   "metadata": {},
   "outputs": [
    {
     "data": {
      "text/plain": [
       "[[1, 2], [3, 10], [12, 16]]"
      ]
     },
     "execution_count": 3,
     "metadata": {},
     "output_type": "execute_result"
    }
   ],
   "source": [
    "instance = Solution()\n",
    "instance.insert([[1,2],[3,5],[6,7],[8,10],[12,16]], [4,8])"
   ]
  }
 ],
 "metadata": {
  "kernelspec": {
   "display_name": "Python 3",
   "language": "python",
   "name": "python3"
  },
  "language_info": {
   "codemirror_mode": {
    "name": "ipython",
    "version": 3
   },
   "file_extension": ".py",
   "mimetype": "text/x-python",
   "name": "python",
   "nbconvert_exporter": "python",
   "pygments_lexer": "ipython3",
   "version": "3.7.3"
  }
 },
 "nbformat": 4,
 "nbformat_minor": 2
}
