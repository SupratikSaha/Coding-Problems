{
 "cells": [
  {
   "cell_type": "markdown",
   "metadata": {},
   "source": [
    "Problem Statement. <br/>\n",
    "\n",
    "You are given an integer array nums and you have to return a new counts array. The counts array has the property where counts[i] is the number of smaller elements to the right of nums[i]. <br/>\n",
    "\n",
    "Example 1: <br/>\n",
    "Input: nums = [5,2,6,1] <br/>\n",
    "Output: [2,1,1,0] <br/>\n",
    "Explanation: <br/>\n",
    "To the right of 5 there are 2 smaller elements (2 and 1). <br/>\n",
    "To the right of 2 there is only 1 smaller element (1). <br/>\n",
    "To the right of 6 there is 1 smaller element (1). <br/>\n",
    "To the right of 1 there is 0 smaller element."
   ]
  },
  {
   "cell_type": "markdown",
   "metadata": {},
   "source": [
    "# Brute Force - O(N ^ 2) runtime, O(N) space"
   ]
  },
  {
   "cell_type": "code",
   "execution_count": 1,
   "metadata": {},
   "outputs": [],
   "source": [
    "from typing import List\n",
    "\n",
    "class Solution:\n",
    "    def countSmaller(self, nums: List[int]) -> List[int]:\n",
    "        n = len(nums)\n",
    "        res = [0] * n\n",
    "        \n",
    "        for i in range(n):\n",
    "            currVal = nums[i]\n",
    "            for j in range(i + 1, n):\n",
    "                if nums[j] < currVal:\n",
    "                    res[i] += 1\n",
    "                    \n",
    "        return res"
   ]
  },
  {
   "cell_type": "markdown",
   "metadata": {},
   "source": [
    "# Merge Sort - O(N log N) runtime, O(N) space"
   ]
  },
  {
   "cell_type": "code",
   "execution_count": 2,
   "metadata": {},
   "outputs": [],
   "source": [
    "from typing import List\n",
    "\n",
    "class Solution:\n",
    "    def countSmaller(self, nums):\n",
    "        \n",
    "        def sort(enum):\n",
    "            half = len(enum) // 2\n",
    "            \n",
    "            if half:\n",
    "                left, right = sort(enum[:half]), sort(enum[half:])\n",
    "                \n",
    "                for i in range(len(enum))[::-1]:\n",
    "                    if not right or left and left[-1][1] > right[-1][1]:\n",
    "                        smaller[left[-1][0]] += len(right)\n",
    "                        enum[i] = left.pop()\n",
    "                    else:\n",
    "                        enum[i] = right.pop()\n",
    "                        \n",
    "            return enum\n",
    "        \n",
    "        smaller = [0] * len(nums)\n",
    "        sort(list(enumerate(nums)))\n",
    "        \n",
    "        return smaller"
   ]
  },
  {
   "cell_type": "markdown",
   "metadata": {},
   "source": [
    "# Binary Indexed Tree - O(N log N) runtime, O(N) space"
   ]
  },
  {
   "cell_type": "code",
   "execution_count": 3,
   "metadata": {},
   "outputs": [],
   "source": [
    "from typing import List\n",
    "import bisect\n",
    "# Binary Indexed Tree allows to query sums of the values of the list over any single range of indices in O(log n)\n",
    "# by paying O(log n) price for any update and retrieval of value of nodes \n",
    "class BinaryIndexedTree:\n",
    "    def __init__(self, max_size): #n = max_size\n",
    "        self.size = max_size + 1\n",
    "        self.tree = [0] * self.size\n",
    "    def add_to_value_at(self, index, value): #add to value at index starting from 0 O(log n)\n",
    "        i = index + 1 #in tree it's from 1\n",
    "        #update binary indexed tree\n",
    "        while i < self.size: \n",
    "            self.tree[i] += value\n",
    "            i += i & -i\n",
    "    def get_sum(self, to_index, from_index = 0): # return sum of all values in the range [from_index, to_index] O(log n)\n",
    "        if from_index <= 0:\n",
    "            i = to_index + 1 #in tree the index runs from 1\n",
    "            res = 0\n",
    "            while i: # sum all tree values from 1 to i \n",
    "                res += self.tree[i]\n",
    "                i -= i & - i\n",
    "            return res\n",
    "        else:\n",
    "            return self.get_sum(to_index) - self.get_sum(from_index - 1)\n",
    "    \n",
    "    def get_value(self, index): #O(log n), not used in this problem, can be made O(1) using O(n) space\n",
    "        return self.get_sum(to_index, to_index)\n",
    "        \n",
    "class Solution:\n",
    "    def countSmaller(self, nums: List[int]) -> List[int]:\n",
    "        nsort = sorted(nums)\n",
    "        # indices of unique values sorted\n",
    "        nsort = [n for i, n in enumerate(nsort) if i == 0 or nsort[i - 1] != n]\n",
    "        tree = BinaryIndexedTree(len(nsort))\n",
    "        res = [0] * len(nums)\n",
    "        # Iterate from the end of nums, finding smaller values for each n among already considered values\n",
    "        for k, n in enumerate(reversed(nums)):\n",
    "            #find index\n",
    "            i = bisect.bisect_left(nsort, n)\n",
    "            tree.add_to_value_at(i, 1) # we have new/another occurence of index i, recording/adding it\n",
    "            res[len(nums) - k - 1] = tree.get_sum(i - 1) # get the sum over all recorded indices 0..i-1, because these values are less than nums[i]\n",
    "        return res\n",
    "                "
   ]
  },
  {
   "cell_type": "code",
   "execution_count": 4,
   "metadata": {},
   "outputs": [
    {
     "data": {
      "text/plain": [
       "[2, 1, 1, 0]"
      ]
     },
     "execution_count": 4,
     "metadata": {},
     "output_type": "execute_result"
    }
   ],
   "source": [
    "instance = Solution()\n",
    "instance.countSmaller([5,2,6,1])"
   ]
  }
 ],
 "metadata": {
  "kernelspec": {
   "display_name": "Python 3",
   "language": "python",
   "name": "python3"
  },
  "language_info": {
   "codemirror_mode": {
    "name": "ipython",
    "version": 3
   },
   "file_extension": ".py",
   "mimetype": "text/x-python",
   "name": "python",
   "nbconvert_exporter": "python",
   "pygments_lexer": "ipython3",
   "version": "3.7.3"
  }
 },
 "nbformat": 4,
 "nbformat_minor": 2
}
