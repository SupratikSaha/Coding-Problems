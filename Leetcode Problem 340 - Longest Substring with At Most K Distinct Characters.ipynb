{
 "cells": [
  {
   "cell_type": "markdown",
   "metadata": {},
   "source": [
    "Problem Statement. <br/>\n",
    "\n",
    "Given a string s and an integer k, return the length of the longest substring of s that contains at most k distinct characters. <br/>\n",
    "\n",
    "Example 1: <br/>\n",
    "Input: s = \"eceba\", k = 2 <br/>\n",
    "Output: 3 <br/>\n",
    "Explanation: The substring is \"ece\" with length 3. <br/>\n",
    "\n",
    "Example 2: <br/>\n",
    "Input: s = \"aa\", k = 1 <br/>\n",
    "Output: 2 <br/>\n",
    "Explanation: The substring is \"aa\" with length 2."
   ]
  },
  {
   "cell_type": "markdown",
   "metadata": {},
   "source": [
    "# Sliding Window + HashMap - O(N * K) runtime, O(K) space"
   ]
  },
  {
   "cell_type": "code",
   "execution_count": 1,
   "metadata": {},
   "outputs": [],
   "source": [
    "class Solution:\n",
    "    def lengthOfLongestSubstringKDistinct(self, s: str, k: int) -> int:\n",
    "        left = i = distinctChars = maxLength = 0\n",
    "        charDict = {}\n",
    "        \n",
    "        for i, char in enumerate(s):\n",
    "            if not charDict.get(char):\n",
    "                distinctChars += 1\n",
    "            charDict[char] = charDict.get(char, 0) + 1\n",
    "                \n",
    "            while distinctChars > k:\n",
    "                leftChar = s[left]\n",
    "                charDict[leftChar] -= 1\n",
    "                if charDict[leftChar] == 0:\n",
    "                    charDict.pop(leftChar)\n",
    "                    distinctChars -= 1\n",
    "                left += 1\n",
    "        \n",
    "            maxLength = max(maxLength, i - left + 1)\n",
    "            \n",
    "        return maxLength"
   ]
  },
  {
   "cell_type": "markdown",
   "metadata": {},
   "source": [
    "# Sliding Window + Hashmap Faster Approach - O(N * K) runtime, O(K) space"
   ]
  },
  {
   "cell_type": "code",
   "execution_count": 2,
   "metadata": {},
   "outputs": [],
   "source": [
    "class Solution:\n",
    "    def lengthOfLongestSubstringKDistinct(self, s: str, k: int) -> int:\n",
    "        n = len(s)\n",
    "        if n * k == 0:\n",
    "            return 0\n",
    "\n",
    "        # sliding window left and right pointers\n",
    "        left, right = 0, 0\n",
    "        # hashmap character -> its rightmost position\n",
    "        # in the sliding window\n",
    "        hashmap = {}\n",
    "\n",
    "        max_len = 1\n",
    "\n",
    "        while right < n:\n",
    "            # add new character and move right pointer\n",
    "            hashmap[s[right]] = right\n",
    "            right += 1\n",
    "\n",
    "            if len(hashmap) == k + 1:\n",
    "                # delete the leftmost character\n",
    "                del_idx = min(hashmap.values())\n",
    "                del hashmap[s[del_idx]]\n",
    "                # move left pointer of the slidewindow\n",
    "                left = del_idx + 1\n",
    "\n",
    "            max_len = max(max_len, right - left)\n",
    "\n",
    "        return max_len"
   ]
  },
  {
   "cell_type": "markdown",
   "metadata": {},
   "source": [
    "# Sliding Window + Ordered Dictionary - O(N) runtime, O(K) space"
   ]
  },
  {
   "cell_type": "code",
   "execution_count": 3,
   "metadata": {},
   "outputs": [],
   "source": [
    "from collections import OrderedDict\n",
    "\n",
    "class Solution:\n",
    "    def lengthOfLongestSubstringKDistinct(self, s: str, k: int) -> int:\n",
    "        charDict = OrderedDict()\n",
    "        maxlen, left = 0, 0\n",
    "        \n",
    "        for i, c in enumerate(s):\n",
    "            if c in charDict: charDict.pop(c)\n",
    "            charDict[c] = i\n",
    "            if len(charDict) <= k: maxlen = max(maxlen, i-left+1)\n",
    "            else:\n",
    "                _, index = charDict.popitem(last=False)\n",
    "                left = index + 1\n",
    "                \n",
    "        return maxlen"
   ]
  },
  {
   "cell_type": "code",
   "execution_count": 4,
   "metadata": {},
   "outputs": [
    {
     "data": {
      "text/plain": [
       "3"
      ]
     },
     "execution_count": 4,
     "metadata": {},
     "output_type": "execute_result"
    }
   ],
   "source": [
    "instance = Solution()\n",
    "instance.lengthOfLongestSubstringKDistinct(\"eceba\", 2)"
   ]
  }
 ],
 "metadata": {
  "kernelspec": {
   "display_name": "Python 3",
   "language": "python",
   "name": "python3"
  },
  "language_info": {
   "codemirror_mode": {
    "name": "ipython",
    "version": 3
   },
   "file_extension": ".py",
   "mimetype": "text/x-python",
   "name": "python",
   "nbconvert_exporter": "python",
   "pygments_lexer": "ipython3",
   "version": "3.7.3"
  }
 },
 "nbformat": 4,
 "nbformat_minor": 2
}
