{
 "cells": [
  {
   "cell_type": "markdown",
   "metadata": {},
   "source": [
    "    Problem Statement.\n",
    "\n",
    "    Given a non-empty array nums containing only positive integers, find if the array can be partitioned into two subsets such that the sum of elements in both subsets is equal.\n",
    "\n",
    "\n",
    "\n",
    "    Example 1:\n",
    "\n",
    "    Input: nums = [1,5,11,5]\n",
    "    Output: true\n",
    "    Explanation: The array can be partitioned as [1, 5, 5] and [11].\n",
    "\n",
    "    Example 2:\n",
    "\n",
    "    Input: nums = [1,2,3,5]\n",
    "    Output: false\n",
    "    Explanation: The array cannot be partitioned into equal sum subsets.\n",
    "\n",
    "\n",
    "\n",
    "    Constraints:\n",
    "\n",
    "        1 <= nums.length <= 200\n",
    "        1 <= nums[i] <= 100"
   ]
  },
  {
   "cell_type": "markdown",
   "metadata": {},
   "source": [
    "# Top Down DP with memoization - O(2 ^ N) runtime, O(2 ^ N) space"
   ]
  },
  {
   "cell_type": "code",
   "execution_count": 1,
   "metadata": {},
   "outputs": [],
   "source": [
    "from typing import List\n",
    "\n",
    "class Solution:\n",
    "    def canPartition(self, nums: List[int]) -> bool:\n",
    "        self.arraySum = sum(nums)\n",
    "        self.dp = {}\n",
    "        if self.arraySum == 0 or self.arraySum % 2 == 1: return False\n",
    "        self.subSetSum = self.arraySum // 2\n",
    "        \n",
    "        return self.canPartitionRecursive(nums, 0, 0)\n",
    "    \n",
    "    def canPartitionRecursive(self, nums: List[int], index: int, leftSum: int) -> bool:\n",
    "        if index == len(nums) or leftSum > self.subSetSum:\n",
    "            return False\n",
    "        \n",
    "        if leftSum == self.subSetSum: return True\n",
    "        \n",
    "        if (index, leftSum) in self.dp: return self.dp[(index, leftSum)]\n",
    "        \n",
    "        addLeft = self.canPartitionRecursive(nums, index+1, leftSum + nums[index])\n",
    "        addRight = self.canPartitionRecursive(nums, index+1, leftSum)\n",
    "        \n",
    "        self.dp[(index, leftSum)] = addLeft or addRight\n",
    "        \n",
    "        return self.dp[(index, leftSum)]"
   ]
  },
  {
   "cell_type": "markdown",
   "metadata": {},
   "source": [
    "# Faster Top Down DP with memoization - O(M * N) runtime, O(M * N) space where N is the number of array elements and M is the half of array sum"
   ]
  },
  {
   "cell_type": "code",
   "execution_count": 2,
   "metadata": {},
   "outputs": [],
   "source": [
    "from typing import List, Tuple\n",
    "from functools import lru_cache\n",
    "\n",
    "class Solution:\n",
    "    def canPartition(self, nums: List[int]) -> bool:\n",
    "        @lru_cache(maxsize=None)\n",
    "        def dfs(nums: Tuple[int], n: int, subset_sum: int) -> bool:\n",
    "            # Base cases\n",
    "            if subset_sum == 0:\n",
    "                return True\n",
    "            if n == 0 or subset_sum < 0:\n",
    "                return False\n",
    "            result = (dfs(nums, n - 1, subset_sum - nums[n - 1])\n",
    "                    or dfs(nums, n - 1, subset_sum))\n",
    "            return result\n",
    "\n",
    "        # find sum of array elements\n",
    "        total_sum = sum(nums)\n",
    "\n",
    "        # if total_sum is odd, it cannot be partitioned into equal sum subsets\n",
    "        if total_sum % 2 != 0:\n",
    "            return False\n",
    "        \n",
    "        subset_sum = total_sum // 2\n",
    "        n = len(nums)\n",
    "        return dfs(tuple(nums), n - 1, subset_sum)"
   ]
  },
  {
   "cell_type": "markdown",
   "metadata": {},
   "source": [
    "# Bottom Up DP - O(M * N) runtime, O(M * N) space where N is the number of array elements and M is the half of array sum"
   ]
  },
  {
   "cell_type": "code",
   "execution_count": 3,
   "metadata": {},
   "outputs": [],
   "source": [
    "from typing import List, Tuple\n",
    "\n",
    "class Solution:\n",
    "    def canPartition(self, nums: List[int]) -> bool:\n",
    "        # find sum of array elements\n",
    "        total_sum = sum(nums)\n",
    "\n",
    "        # if total_sum is odd, it cannot be partitioned into equal sum subsets\n",
    "        if total_sum % 2 != 0:\n",
    "            return False\n",
    "        subset_sum = total_sum // 2\n",
    "        n = len(nums)\n",
    "\n",
    "        # construct a dp table of size (n+1) x (subset_sum + 1)\n",
    "        dp = [[False] * (subset_sum + 1) for _ in range(n + 1)]\n",
    "        dp[0][0] = True\n",
    "        for i in range(1, n + 1):\n",
    "            curr = nums[i - 1]\n",
    "            for j in range(subset_sum + 1):\n",
    "                if j < curr:\n",
    "                    dp[i][j] = dp[i - 1][j]\n",
    "                else:\n",
    "                    dp[i][j] = dp[i - 1][j] or dp[i - 1][j - curr]\n",
    "        return dp[n][subset_sum]"
   ]
  },
  {
   "cell_type": "code",
   "execution_count": 4,
   "metadata": {},
   "outputs": [
    {
     "data": {
      "text/plain": [
       "True"
      ]
     },
     "execution_count": 4,
     "metadata": {},
     "output_type": "execute_result"
    }
   ],
   "source": [
    "instance = Solution()\n",
    "instance.canPartition([1,5,11,5])"
   ]
  }
 ],
 "metadata": {
  "kernelspec": {
   "display_name": "Python 3",
   "language": "python",
   "name": "python3"
  },
  "language_info": {
   "codemirror_mode": {
    "name": "ipython",
    "version": 3
   },
   "file_extension": ".py",
   "mimetype": "text/x-python",
   "name": "python",
   "nbconvert_exporter": "python",
   "pygments_lexer": "ipython3",
   "version": "3.7.3"
  }
 },
 "nbformat": 4,
 "nbformat_minor": 2
}
