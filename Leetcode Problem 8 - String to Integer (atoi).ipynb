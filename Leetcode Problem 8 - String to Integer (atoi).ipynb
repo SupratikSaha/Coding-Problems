{
 "cells": [
  {
   "cell_type": "markdown",
   "metadata": {},
   "source": [
    "# O(n) runtime and O(n) space"
   ]
  },
  {
   "cell_type": "code",
   "execution_count": 5,
   "metadata": {},
   "outputs": [],
   "source": [
    "class Solution:\n",
    "    def myAtoi(self, str: str) -> int:\n",
    "        maxDiv10 = 2**31 // 10\n",
    "        maxInt = 2**31 - 1\n",
    "        minInt = -2**31\n",
    "        \n",
    "        left = 0\n",
    "        right = len(str)\n",
    "        sign = 1\n",
    "        num = 0\n",
    "        \n",
    "        while(left < right and str[left] == ' '):\n",
    "            left += 1\n",
    "            \n",
    "        if(left < right and str[left] == '+'):\n",
    "            left += 1\n",
    "        elif(left < right and str[left] == '-'):\n",
    "            sign = -1\n",
    "            left += 1\n",
    "            \n",
    "        while(left < right and str[left].isdigit()):\n",
    "            digit = int(str[left])\n",
    "            if (num > maxDiv10) or (num == maxDiv10 and digit >= 8):\n",
    "                return maxInt if sign == 1 else minInt\n",
    "            num = num*10 + digit\n",
    "            \n",
    "            left += 1\n",
    "        return sign*num"
   ]
  },
  {
   "cell_type": "code",
   "execution_count": 8,
   "metadata": {},
   "outputs": [
    {
     "data": {
      "text/plain": [
       "-4193"
      ]
     },
     "execution_count": 8,
     "metadata": {},
     "output_type": "execute_result"
    }
   ],
   "source": [
    "Instance = Solution()\n",
    "Instance.myAtoi('  -4193 with words')"
   ]
  },
  {
   "cell_type": "markdown",
   "metadata": {},
   "source": [
    "# If you want to find out and us emax capacity of int in your system replace 2^31 - 1 and -2^31"
   ]
  },
  {
   "cell_type": "code",
   "execution_count": 12,
   "metadata": {},
   "outputs": [
    {
     "name": "stdout",
     "output_type": "stream",
     "text": [
      "Max positive 9223372036854775807\n",
      "Max negative -9223372036854775808\n"
     ]
    }
   ],
   "source": [
    "import sys\n",
    "print(\"Max positive\", sys.maxsize)\n",
    "print(\"Max negative\", -sys.maxsize - 1)"
   ]
  }
 ],
 "metadata": {
  "kernelspec": {
   "display_name": "Python 3",
   "language": "python",
   "name": "python3"
  },
  "language_info": {
   "codemirror_mode": {
    "name": "ipython",
    "version": 3
   },
   "file_extension": ".py",
   "mimetype": "text/x-python",
   "name": "python",
   "nbconvert_exporter": "python",
   "pygments_lexer": "ipython3",
   "version": "3.7.3"
  }
 },
 "nbformat": 4,
 "nbformat_minor": 2
}
