{
 "cells": [
  {
   "cell_type": "markdown",
   "metadata": {},
   "source": [
    "Problem Statement.\n",
    "\n",
    "Given a string s, check if it can be constructed by taking a substring of it and appending multiple copies of the substring together.\n",
    "\n",
    " \n",
    "\n",
    "Example 1:\n",
    "\n",
    "Input: s = \"abab\"\n",
    "Output: true\n",
    "Explanation: It is the substring \"ab\" twice.\n",
    "\n",
    "Example 2:\n",
    "\n",
    "Input: s = \"aba\"\n",
    "Output: false\n",
    "\n",
    "Example 3:\n",
    "\n",
    "Input: s = \"abcabcabcabc\"\n",
    "Output: true\n",
    "Explanation: It is the substring \"abc\" four times or the substring \"abcabc\" twice.\n",
    "\n",
    " \n",
    "\n",
    "Constraints:\n",
    "\n",
    "    1 <= s.length <= 10^4\n",
    "    s consists of lowercase English letters."
   ]
  },
  {
   "cell_type": "markdown",
   "metadata": {},
   "source": [
    "# Repeated Substring - O(N) runtime, O(N) space"
   ]
  },
  {
   "cell_type": "code",
   "execution_count": 1,
   "metadata": {},
   "outputs": [],
   "source": [
    "class Solution:\n",
    "    def repeatedSubstringPattern(self, s: str) -> bool:\n",
    "        if not s: return False\n",
    "            \n",
    "        ss = (s + s)[1:-1]\n",
    "        return ss.find(s) != -1"
   ]
  },
  {
   "cell_type": "code",
   "execution_count": 3,
   "metadata": {},
   "outputs": [
    {
     "data": {
      "text/plain": [
       "True"
      ]
     },
     "execution_count": 3,
     "metadata": {},
     "output_type": "execute_result"
    }
   ],
   "source": [
    "instance = Solution()\n",
    "instance.repeatedSubstringPattern(\"abaababaab\")"
   ]
  }
 ],
 "metadata": {
  "kernelspec": {
   "display_name": "Python 3",
   "language": "python",
   "name": "python3"
  },
  "language_info": {
   "codemirror_mode": {
    "name": "ipython",
    "version": 3
   },
   "file_extension": ".py",
   "mimetype": "text/x-python",
   "name": "python",
   "nbconvert_exporter": "python",
   "pygments_lexer": "ipython3",
   "version": "3.7.3"
  }
 },
 "nbformat": 4,
 "nbformat_minor": 2
}
