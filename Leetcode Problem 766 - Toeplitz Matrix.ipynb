{
 "cells": [
  {
   "cell_type": "markdown",
   "metadata": {},
   "source": [
    "Problem Statement.\n",
    "\n",
    "Given an m x n matrix, return true if the matrix is Toeplitz. Otherwise, return false.\n",
    "\n",
    "A matrix is Toeplitz if every diagonal from top-left to bottom-right has the same elements.\n",
    "\n",
    " \n",
    "\n",
    "Example 1:\n",
    "\n",
    "Input: matrix = [[1,2,3,4],[5,1,2,3],[9,5,1,2]]\n",
    "Output: true\n",
    "Explanation:\n",
    "In the above grid, the diagonals are:\n",
    "\"[9]\", \"[5, 5]\", \"[1, 1, 1]\", \"[2, 2, 2]\", \"[3, 3]\", \"[4]\".\n",
    "In each diagonal all elements are the same, so the answer is True.\n",
    "\n",
    "Example 2:\n",
    "\n",
    "Input: matrix = [[1,2],[2,2]]\n",
    "Output: false\n",
    "Explanation:\n",
    "The diagonal \"[1, 2]\" has different elements.\n",
    "\n",
    " \n",
    "\n",
    "Constraints:\n",
    "\n",
    "    m == matrix.length\n",
    "    n == matrix[i].length\n",
    "    1 <= m, n <= 20\n",
    "    0 <= matrix[i][j] <= 99\n",
    "\n",
    " \n",
    "\n",
    "Follow up:\n",
    "\n",
    "    What if the matrix is stored on disk, and the memory is limited such that you can only load at most one row of the matrix into the memory at once?\n",
    "    What if the matrix is so large that you can only load up a partial row into the memory at once?"
   ]
  },
  {
   "cell_type": "markdown",
   "metadata": {},
   "source": [
    "# Two Loops - O(M * N) runtime, O(1) space"
   ]
  },
  {
   "cell_type": "code",
   "execution_count": 1,
   "metadata": {},
   "outputs": [],
   "source": [
    "from typing import List\n",
    "\n",
    "class Solution:\n",
    "    def isToeplitzMatrix(self, matrix: List[List[int]]) -> bool:\n",
    "        m, n = len(matrix), len(matrix[0])\n",
    "        \n",
    "        for i in range(1, m):\n",
    "            for j in range(1, n):\n",
    "                if matrix[i][j]!= matrix[i-1][j-1]: return False\n",
    "                \n",
    "        return True"
   ]
  },
  {
   "cell_type": "code",
   "execution_count": 2,
   "metadata": {},
   "outputs": [
    {
     "data": {
      "text/plain": [
       "True"
      ]
     },
     "execution_count": 2,
     "metadata": {},
     "output_type": "execute_result"
    }
   ],
   "source": [
    "instance = Solution()\n",
    "instance.isToeplitzMatrix([[1,2,3,4],[5,1,2,3],[9,5,1,2]])"
   ]
  }
 ],
 "metadata": {
  "kernelspec": {
   "display_name": "Python 3",
   "language": "python",
   "name": "python3"
  },
  "language_info": {
   "codemirror_mode": {
    "name": "ipython",
    "version": 3
   },
   "file_extension": ".py",
   "mimetype": "text/x-python",
   "name": "python",
   "nbconvert_exporter": "python",
   "pygments_lexer": "ipython3",
   "version": "3.7.3"
  }
 },
 "nbformat": 4,
 "nbformat_minor": 2
}
