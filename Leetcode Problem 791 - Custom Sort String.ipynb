{
 "cells": [
  {
   "cell_type": "markdown",
   "metadata": {},
   "source": [
    "Problem Statement.\n",
    "\n",
    "You are given two strings order and s. All the words of order are unique and were sorted in some custom order previously.\n",
    "\n",
    "Permute the characters of s so that they match the order that order was sorted. More specifically, if a character x occurs before a character y in order, then x should occur before y in the permuted string.\n",
    "\n",
    "Return any permutation of s that satisfies this property.\n",
    "\n",
    " \n",
    "\n",
    "Example 1:\n",
    "\n",
    "Input: order = \"cba\", s = \"abcd\"\n",
    "Output: \"cbad\"\n",
    "Explanation: \n",
    "\"a\", \"b\", \"c\" appear in order, so the order of \"a\", \"b\", \"c\" should be \"c\", \"b\", and \"a\". \n",
    "Since \"d\" does not appear in order, it can be at any position in the returned string. \"dcba\", \"cdba\", \"cbda\" are also valid outputs.\n",
    "\n",
    "Example 2:\n",
    "\n",
    "Input: order = \"cbafg\", s = \"abcd\"\n",
    "Output: \"cbad\"\n",
    "\n",
    " \n",
    "\n",
    "Constraints:\n",
    "\n",
    "    1 <= order.length <= 26\n",
    "    1 <= s.length <= 200\n",
    "    order and s consist of lowercase English letters.\n",
    "    All the characters of order are unique."
   ]
  },
  {
   "cell_type": "markdown",
   "metadata": {},
   "source": [
    "# Hash Table - O(O + S) runtime, O(S) space"
   ]
  },
  {
   "cell_type": "code",
   "execution_count": 1,
   "metadata": {},
   "outputs": [],
   "source": [
    "class Solution:\n",
    "    def customSortString(self, order: str, s: str) -> str:\n",
    "        charDict = {c: 0 for c in order}\n",
    "        \n",
    "        res = []\n",
    "        for c in s:\n",
    "            if c in charDict: charDict[c] += 1\n",
    "            else: res.append(c)\n",
    "                \n",
    "        res += [c*v for c, v in charDict.items() if v]\n",
    "        \n",
    "        return ''.join(res)"
   ]
  },
  {
   "cell_type": "markdown",
   "metadata": {},
   "source": [
    "# Simpler Hash Table - O(O + S) runtime, O(S) space"
   ]
  },
  {
   "cell_type": "code",
   "execution_count": 2,
   "metadata": {},
   "outputs": [],
   "source": [
    "from collections import Counter\n",
    "\n",
    "class Solution:\n",
    "    def customSortString(self, order: str, s: str) -> str:\n",
    "        charDict = Counter(s)\n",
    "        \n",
    "        res = []\n",
    "        for c in order:\n",
    "            res.append(c*charDict[c])\n",
    "            charDict[c] = 0\n",
    "                \n",
    "        res += [c*v for c, v in charDict.items()]\n",
    "        \n",
    "        return ''.join(res)"
   ]
  },
  {
   "cell_type": "code",
   "execution_count": 3,
   "metadata": {},
   "outputs": [
    {
     "data": {
      "text/plain": [
       "'cbad'"
      ]
     },
     "execution_count": 3,
     "metadata": {},
     "output_type": "execute_result"
    }
   ],
   "source": [
    "instance = Solution()\n",
    "instance.customSortString(\"cba\", \"abcd\")"
   ]
  }
 ],
 "metadata": {
  "kernelspec": {
   "display_name": "Python 3",
   "language": "python",
   "name": "python3"
  },
  "language_info": {
   "codemirror_mode": {
    "name": "ipython",
    "version": 3
   },
   "file_extension": ".py",
   "mimetype": "text/x-python",
   "name": "python",
   "nbconvert_exporter": "python",
   "pygments_lexer": "ipython3",
   "version": "3.7.3"
  }
 },
 "nbformat": 4,
 "nbformat_minor": 2
}
