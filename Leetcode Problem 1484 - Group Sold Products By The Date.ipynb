{
 "cells": [
  {
   "cell_type": "markdown",
   "metadata": {},
   "source": [
    "    Problem Statement.\n",
    "\n",
    "    Table Activities:\n",
    "\n",
    "    +-------------+---------+\n",
    "    | Column Name | Type    |\n",
    "    +-------------+---------+\n",
    "    | sell_date   | date    |\n",
    "    | product     | varchar |\n",
    "    +-------------+---------+\n",
    "    There is no primary key for this table, it may contain duplicates.\n",
    "    Each row of this table contains the product name and the date it was sold in a market.\n",
    "\n",
    "\n",
    "\n",
    "    Write an SQL query to find for each date the number of different products sold and their names.\n",
    "\n",
    "    The sold products names for each date should be sorted lexicographically.\n",
    "\n",
    "    Return the result table ordered by sell_date.\n",
    "\n",
    "    The query result format is in the following example.\n",
    "\n",
    "\n",
    "\n",
    "    Example 1:\n",
    "\n",
    "    Input: \n",
    "    Activities table:\n",
    "    +------------+------------+\n",
    "    | sell_date  | product     |\n",
    "    +------------+------------+\n",
    "    | 2020-05-30 | Headphone  |\n",
    "    | 2020-06-01 | Pencil     |\n",
    "    | 2020-06-02 | Mask       |\n",
    "    | 2020-05-30 | Basketball |\n",
    "    | 2020-06-01 | Bible      |\n",
    "    | 2020-06-02 | Mask       |\n",
    "    | 2020-05-30 | T-Shirt    |\n",
    "    +------------+------------+\n",
    "    Output: \n",
    "    +------------+----------+------------------------------+\n",
    "    | sell_date  | num_sold | products                     |\n",
    "    +------------+----------+------------------------------+\n",
    "    | 2020-05-30 | 3        | Basketball,Headphone,T-shirt |\n",
    "    | 2020-06-01 | 2        | Bible,Pencil                 |\n",
    "    | 2020-06-02 | 1        | Mask                         |\n",
    "    +------------+----------+------------------------------+\n",
    "    Explanation: \n",
    "    For 2020-05-30, Sold items were (Headphone, Basketball, T-shirt), we sort them lexicographically and separate them by a comma.\n",
    "    For 2020-06-01, Sold items were (Pencil, Bible), we sort them lexicographically and separate them by a comma.\n",
    "    For 2020-06-02, the Sold item is (Mask), we just return it."
   ]
  },
  {
   "cell_type": "markdown",
   "metadata": {},
   "source": [
    "# Group_Concat "
   ]
  },
  {
   "cell_type": "code",
   "execution_count": null,
   "metadata": {},
   "outputs": [],
   "source": [
    "SELECT sell_date,\n",
    "    COUNT(DISTINCT product) AS num_sold,\n",
    "    GROUP_CONCAT(DISTINCT product ORDER BY product) AS products\n",
    "FROM Activities\n",
    "GROUP BY sell_date"
   ]
  }
 ],
 "metadata": {
  "kernelspec": {
   "display_name": "Python 3",
   "language": "python",
   "name": "python3"
  },
  "language_info": {
   "codemirror_mode": {
    "name": "ipython",
    "version": 3
   },
   "file_extension": ".py",
   "mimetype": "text/x-python",
   "name": "python",
   "nbconvert_exporter": "python",
   "pygments_lexer": "ipython3",
   "version": "3.7.3"
  }
 },
 "nbformat": 4,
 "nbformat_minor": 2
}
