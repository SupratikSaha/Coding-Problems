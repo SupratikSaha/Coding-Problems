{
 "cells": [
  {
   "cell_type": "markdown",
   "metadata": {},
   "source": [
    "Problem Statement.\n",
    "\n",
    "A valid number can be split up into these components (in order):\n",
    "\n",
    "    A decimal number or an integer.\n",
    "    (Optional) An 'e' or 'E', followed by an integer.\n",
    "\n",
    "A decimal number can be split up into these components (in order):\n",
    "\n",
    "    (Optional) A sign character (either '+' or '-').\n",
    "    One of the following formats:\n",
    "        At least one digit, followed by a dot '.'.\n",
    "        At least one digit, followed by a dot '.', followed by at least one digit.\n",
    "        A dot '.', followed by at least one digit.\n",
    "\n",
    "An integer can be split up into these components (in order):\n",
    "\n",
    "    (Optional) A sign character (either '+' or '-').\n",
    "    At least one digit.\n",
    "\n",
    "For example, all the following are valid numbers: [\"2\", \"0089\", \"-0.1\", \"+3.14\", \"4.\", \"-.9\", \"2e10\", \"-90E3\", \"3e+7\", \"+6e-1\", \"53.5e93\", \"-123.456e789\"], while the following are not valid numbers: [\"abc\", \"1a\", \"1e\", \"e3\", \"99e2.5\", \"--6\", \"-+3\", \"95a54e53\"].\n",
    "\n",
    "Given a string s, return true if s is a valid number.\n",
    "\n",
    " \n",
    "\n",
    "Example 1:\n",
    "\n",
    "Input: s = \"0\"\n",
    "Output: true\n",
    "\n",
    "Example 2:\n",
    "\n",
    "Input: s = \"e\"\n",
    "Output: false\n",
    "\n",
    "Example 3:\n",
    "\n",
    "Input: s = \".\"\n",
    "Output: false\n",
    "\n",
    "Example 4:\n",
    "\n",
    "Input: s = \".1\"\n",
    "Output: true\n",
    "\n",
    " \n",
    "\n",
    "Constraints:\n",
    "\n",
    "    1 <= s.length <= 20\n",
    "    s consists of only English letters (both uppercase and lowercase), digits (0-9), plus '+', minus '-', or dot '.'."
   ]
  },
  {
   "cell_type": "markdown",
   "metadata": {},
   "source": [
    "# Traverse the string and check for invalid cases - O(n) runtime and O(1) space"
   ]
  },
  {
   "cell_type": "code",
   "execution_count": 1,
   "metadata": {},
   "outputs": [],
   "source": [
    "class Solution:\n",
    "    def isNumber(self, s: str) -> bool:\n",
    "        \n",
    "        ctr, length = 0, len(s)\n",
    "            \n",
    "        if(ctr < length and s[ctr] in ('+', '-')):\n",
    "            ctr += 1\n",
    "            \n",
    "        isNumeric = False\n",
    "        while(ctr < length and s[ctr].isdigit()):\n",
    "            ctr += 1\n",
    "            isNumeric = True\n",
    "            \n",
    "        if(ctr < length and s[ctr] == '.' ):\n",
    "            ctr += 1\n",
    "            while(ctr < length and s[ctr].isdigit()):\n",
    "                ctr += 1\n",
    "                isNumeric = True\n",
    "                \n",
    "        if(isNumeric and ctr < length and s[ctr] in ('e', 'E') ):\n",
    "            ctr += 1\n",
    "            isNumeric = False\n",
    "            if(ctr < length and s[ctr] in ('+', '-')):\n",
    "                ctr += 1\n",
    "            while(ctr < length and s[ctr].isdigit()):\n",
    "                ctr += 1\n",
    "                isNumeric = True\n",
    "            \n",
    "        return isNumeric and ctr==length"
   ]
  },
  {
   "cell_type": "code",
   "execution_count": 3,
   "metadata": {},
   "outputs": [
    {
     "data": {
      "text/plain": [
       "True"
      ]
     },
     "execution_count": 3,
     "metadata": {},
     "output_type": "execute_result"
    }
   ],
   "source": [
    "Instance = Solution()\n",
    "Instance.isNumber('53.5e93')"
   ]
  }
 ],
 "metadata": {
  "kernelspec": {
   "display_name": "Python 3",
   "language": "python",
   "name": "python3"
  },
  "language_info": {
   "codemirror_mode": {
    "name": "ipython",
    "version": 3
   },
   "file_extension": ".py",
   "mimetype": "text/x-python",
   "name": "python",
   "nbconvert_exporter": "python",
   "pygments_lexer": "ipython3",
   "version": "3.7.3"
  }
 },
 "nbformat": 4,
 "nbformat_minor": 2
}
