{
 "cells": [
  {
   "cell_type": "markdown",
   "metadata": {},
   "source": [
    "Problem Statement. <br/>\n",
    "\n",
    "In an array A containing only 0s and 1s, a K-bit flip consists of choosing a (contiguous) subarray of length K and simultaneously changing every 0 in the subarray to 1, and every 1 in the subarray to 0. <br/>\n",
    "Return the minimum number of K-bit flips required so that there is no 0 in the array.  If it is not possible, return -1. <br/>\n",
    "\n",
    "Example 1: <br/>\n",
    "Input: A = [0,1,0], K = 1 <br/>\n",
    "Output: 2 <br/>\n",
    "Explanation: Flip A[0], then flip A[2]. <br/>\n",
    "\n",
    "Example 2: <br/>\n",
    "Input: A = [1,1,0], K = 2 <br/>\n",
    "Output: -1 <br/>\n",
    "Explanation: No matter how we flip subarrays of size 2, we can't make the array become [1,1,1]. <br/>\n",
    "\n",
    "Example 3: <br/>\n",
    "Input: A = [0,0,0,1,0,1,1,0], K = 3 <br/>\n",
    "Output: 3 <br/>\n",
    "Explanation: <br/>\n",
    "Flip A[0],A[1],A[2]: A becomes [1,1,1,1,0,1,1,0] <br/>\n",
    "Flip A[4],A[5],A[6]: A becomes [1,1,1,1,1,0,0,0] <br/>\n",
    "Flip A[5],A[6],A[7]: A becomes [1,1,1,1,1,1,1,1]"
   ]
  },
  {
   "cell_type": "markdown",
   "metadata": {},
   "source": [
    "# Greedy + Events - O(N) runtime, O(N) space"
   ]
  },
  {
   "cell_type": "code",
   "execution_count": 1,
   "metadata": {},
   "outputs": [],
   "source": [
    "from typing import List\n",
    "\n",
    "class Solution:\n",
    "    def minKBitFlips(self, A: List[int], K: int) -> int:\n",
    "        N = len(A)\n",
    "        hint = [0] * N\n",
    "        ans = flip = 0\n",
    "\n",
    "        # When we flip a subarray like A[i], A[i+1], ..., A[i+K-1]\n",
    "        # we can instead flip our current writing state, and put a hint at\n",
    "        # position i+K to flip back our writing state.\n",
    "        for i, x in enumerate(A):\n",
    "            flip ^= hint[i]\n",
    "            if x ^ flip == 0:  # If we must flip the subarray starting here...\n",
    "                ans += 1  # We're flipping the subarray from A[i] to A[i+K-1]\n",
    "                if i+K > N: return -1  # If we can't flip the entire subarray, its impossible\n",
    "                flip ^= 1  \n",
    "                if i+K < N: hint[i + K] ^= 1\n",
    "\n",
    "        return ans"
   ]
  },
  {
   "cell_type": "markdown",
   "metadata": {},
   "source": [
    "# Greedy Space Optimized - O(N) runtime, O(1) space"
   ]
  },
  {
   "cell_type": "markdown",
   "metadata": {},
   "source": [
    "    cur means the number of flips in the current sliding window of size K.\n",
    "    If cur is even and A[i] is 0, we need to flip.\n",
    "    If cur is odd and A[i] is 1, we need to flip.\n",
    "\n",
    "    If we want to flip A[i], we add 2 to it.\n",
    "    The flipped 0 is 2 and flipped 1 is 3 now.\n",
    "    When they go out of the window, we will change them back.\n",
    "    So no worries if we change the input."
   ]
  },
  {
   "cell_type": "code",
   "execution_count": 3,
   "metadata": {},
   "outputs": [],
   "source": [
    "from typing import List\n",
    "\n",
    "class Solution:\n",
    "    def minKBitFlips(self, A: List[int], K: int) -> int:\n",
    "        cur, res, n = 0, 0, len(A)\n",
    "        for i in range(n):\n",
    "            if i >= K and A[i - K] > 1:\n",
    "                A[i - K] -= 2\n",
    "                cur -= 1\n",
    "            if cur & 1 ^ A[i] == 0:\n",
    "                if i + K > n:\n",
    "                    return -1\n",
    "                A[i] += 2\n",
    "                cur += 1\n",
    "                res += 1\n",
    "        return res"
   ]
  },
  {
   "cell_type": "code",
   "execution_count": 4,
   "metadata": {},
   "outputs": [
    {
     "data": {
      "text/plain": [
       "3"
      ]
     },
     "execution_count": 4,
     "metadata": {},
     "output_type": "execute_result"
    }
   ],
   "source": [
    "instance = Solution()\n",
    "instance.minKBitFlips([0,0,0,1,0,1,1,0], 3)"
   ]
  }
 ],
 "metadata": {
  "kernelspec": {
   "display_name": "Python 3",
   "language": "python",
   "name": "python3"
  },
  "language_info": {
   "codemirror_mode": {
    "name": "ipython",
    "version": 3
   },
   "file_extension": ".py",
   "mimetype": "text/x-python",
   "name": "python",
   "nbconvert_exporter": "python",
   "pygments_lexer": "ipython3",
   "version": "3.7.3"
  }
 },
 "nbformat": 4,
 "nbformat_minor": 2
}
