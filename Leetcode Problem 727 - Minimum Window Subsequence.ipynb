{
 "cells": [
  {
   "cell_type": "markdown",
   "metadata": {},
   "source": [
    "Problem Statement. <br/>\n",
    "\n",
    "Given strings S and T, find the minimum (contiguous) substring W of S, so that T is a subsequence of W. <br/>\n",
    "If there is no such window in S that covers all characters in T, return the empty string \"\". If there are multiple such minimum-length windows, return the one with the left-most starting index. <br/>\n",
    "\n",
    "Example 1: <br/>\n",
    "Input: <br/>\n",
    "S = \"abcdebdde\", T = \"bde\" <br/>\n",
    "Output: \"bcde\" <br/>\n",
    "Explanation:<br/>\n",
    "\"bcde\" is the answer because it occurs before \"bdde\" which has the same length. <br/>\n",
    "\"deb\" is not a smaller window because the elements of T in the window must occur in order."
   ]
  },
  {
   "cell_type": "markdown",
   "metadata": {},
   "source": [
    "# Top Down DP - O(N ^ 2) runtime, O(N ^ 2) space - Time Limit Exceeded"
   ]
  },
  {
   "cell_type": "code",
   "execution_count": 1,
   "metadata": {},
   "outputs": [],
   "source": [
    "from typing import List\n",
    "\n",
    "class Solution:\n",
    "    def minWindow(self, S: str, T: str) -> str:\n",
    "        n = len(S)\n",
    "        dp = [[[float('-inf'), float('inf')] for _ in range(n)] for _ in range(n)]\n",
    "        minLength = float('inf')\n",
    "        res = \"\"\n",
    "        \n",
    "        for i in range(n):\n",
    "            currLength = self.minWindowRecursive(dp, S, T, i, 0)\n",
    "            if currLength < minLength:\n",
    "                minLength = currLength\n",
    "                res =  S[i: dp[i][0][1]]\n",
    "            \n",
    "        return res\n",
    "    \n",
    "    def minWindowRecursive(self, dp: List[List[int]], S: str, T: str, s_index: int, t_index: int) -> str:\n",
    "        if (t_index == 0 and S[s_index] != T[t_index]) or s_index == len(S):\n",
    "            return float('inf')\n",
    "        \n",
    "        if t_index == len(T) - 1 and S[s_index] == T[t_index]:\n",
    "            if len(T) == 1:\n",
    "                dp[s_index][t_index] = [s_index, s_index + 1]\n",
    "            return 1\n",
    " \n",
    "        if dp[s_index][t_index] == [float('-inf'), float('inf')]:\n",
    "            \n",
    "            if S[s_index] == T[t_index]:\n",
    "                currentOrder = 1 + self.minWindowRecursive(dp, S, T, s_index + 1, t_index + 1)\n",
    "            else:\n",
    "                currentOrder = 1 + self.minWindowRecursive(dp, S, T, s_index + 1, t_index)\n",
    "\n",
    "            dp[s_index][t_index] = [s_index, s_index + currentOrder]\n",
    "            \n",
    "            return currentOrder\n",
    "        \n",
    "        else:\n",
    "            return dp[s_index][t_index][1] - dp[s_index][t_index][0]"
   ]
  },
  {
   "cell_type": "markdown",
   "metadata": {},
   "source": [
    "# Top Down DP - O(N ^ 2) runtime, O(1) space - Time Limit Exceeded"
   ]
  },
  {
   "cell_type": "code",
   "execution_count": 4,
   "metadata": {},
   "outputs": [],
   "source": [
    "class Solution:\n",
    "    def minWindow(self, S: str, T: str) -> str:\n",
    "        n = len(S)\n",
    "        minLength = float('inf')\n",
    "        start = -1\n",
    "        res = \"\"\n",
    "        \n",
    "        for i in range(n):\n",
    "            currLength = self.minWindowRecursive(S, T, i, 0)\n",
    "            if currLength < minLength:\n",
    "                minLength = currLength\n",
    "                start = i\n",
    "            \n",
    "        return S[start: start + minLength] if start > -1 else \"\"\n",
    "    \n",
    "    def minWindowRecursive(self, S: str, T: str, s_index: int, t_index: int) -> str:\n",
    "        if (t_index == 0 and S[s_index] != T[t_index]) or s_index == len(S):\n",
    "            return float('inf')\n",
    "        \n",
    "        if t_index == len(T) - 1 and S[s_index] == T[t_index]:\n",
    "            return 1\n",
    "            \n",
    "        if S[s_index] == T[t_index]:\n",
    "            currentOrder = 1 + self.minWindowRecursive(S, T, s_index + 1, t_index + 1)\n",
    "        else:\n",
    "            currentOrder = 1 + self.minWindowRecursive(S, T, s_index + 1, t_index)\n",
    "\n",
    "        return currentOrder"
   ]
  },
  {
   "cell_type": "markdown",
   "metadata": {},
   "source": [
    "# Dict and Set - O(S ^ 2 * T) runtime, O(S + T) space - Time Limit Exceeded"
   ]
  },
  {
   "cell_type": "code",
   "execution_count": 6,
   "metadata": {},
   "outputs": [],
   "source": [
    "from collections import defaultdict\n",
    "\n",
    "class Solution:\n",
    "    def minWindow(self, S: str, T: str) -> str:\n",
    "        n = len(S)\n",
    "        minLength = float('inf')\n",
    "        start = -1\n",
    "        res = \"\"\n",
    "        t_set = set(list(T))\n",
    "            \n",
    "        s_dict = defaultdict(list)\n",
    "        for i, char in enumerate(S):\n",
    "            if char in t_set:\n",
    "                s_dict[char].append(i)\n",
    "                \n",
    "        if len(t_set) > len(s_dict): return \"\"\n",
    "        \n",
    "        for i in range(n):\n",
    "            if S[i] == T[0]:\n",
    "                found = True\n",
    "                currIndex = i\n",
    "                for j, char in enumerate(T[1:]):\n",
    "                    found = False\n",
    "                    for k in s_dict[char]:\n",
    "                        if k > currIndex:\n",
    "                            found = True\n",
    "                            currIndex = k\n",
    "                            break\n",
    "                    if not found:\n",
    "                        break\n",
    "                if found and currIndex - i + 1 < minLength:\n",
    "                    minLength = currIndex - i + 1\n",
    "                    start = i\n",
    "            \n",
    "        return S[start: start + minLength] if start > -1 else \"\""
   ]
  },
  {
   "cell_type": "markdown",
   "metadata": {},
   "source": [
    "# DP (Postfix Variation)- O(S * T) runtime, O(S) space"
   ]
  },
  {
   "cell_type": "code",
   "execution_count": 8,
   "metadata": {},
   "outputs": [],
   "source": [
    "class Solution:\n",
    "    def minWindow(self, S: str, T: str) -> str:\n",
    "        cur = [i if x == T[0] else None\n",
    "               for i, x in enumerate(S)]\n",
    "        #At time j when considering T[:j+1],\n",
    "        #the smallest window [s, e] where S[e] == T[j]\n",
    "        #is represented by cur[e] = s.\n",
    "        for j in range(1, len(T)):\n",
    "            last = None\n",
    "            new = [None] * len(S)\n",
    "            #Now we would like to calculate the candidate windows\n",
    "            #\"new\" for T[:j+1].  'last' is the last window seen.\n",
    "            for i, u in enumerate(S):\n",
    "                if last is not None and u == T[j]: new[i] = last\n",
    "                if cur[i] is not None: last = cur[i]\n",
    "            cur = new\n",
    "\n",
    "        #Looking at the window data cur, choose the smallest length\n",
    "        #window [s, e].\n",
    "        ans = 0, len(S)\n",
    "        for e, s in enumerate(cur):\n",
    "            if s is not None and s >= 0 and e - s < ans[1] - ans[0]:\n",
    "                ans = s, e\n",
    "        return S[ans[0]: ans[1]+1] if ans[1] < len(S) else \"\""
   ]
  },
  {
   "cell_type": "markdown",
   "metadata": {},
   "source": [
    "# DP (Next Array Variation) - O(S * T) runtime, O(S) space"
   ]
  },
  {
   "cell_type": "code",
   "execution_count": 10,
   "metadata": {},
   "outputs": [],
   "source": [
    "class Solution:\n",
    "    def minWindow(self, S: str, T: str) -> str:\n",
    "        N = len(S)\n",
    "        nxt = [None] * N\n",
    "        last = [-1] * 26\n",
    "        for i in range(N-1, -1, -1):\n",
    "            last[ord(S[i]) - ord('a')] = i\n",
    "            nxt[i] = tuple(last)\n",
    "\n",
    "        windows = [[i, i] for i, c in enumerate(S) if c == T[0]]\n",
    "        for j in range(1, len(T)):\n",
    "            letter_index = ord(T[j]) - ord('a')\n",
    "            windows = [[root, nxt[i+1][letter_index]]\n",
    "                       for root, i in windows\n",
    "                       if 0 <= i < N-1 and nxt[i+1][letter_index] >= 0]\n",
    "\n",
    "        if not windows: return \"\"\n",
    "        i, j = min(windows, key=lambda x: x[1]-x[0])\n",
    "        return S[i: j+1]"
   ]
  },
  {
   "cell_type": "code",
   "execution_count": 11,
   "metadata": {},
   "outputs": [
    {
     "data": {
      "text/plain": [
       "'bcde'"
      ]
     },
     "execution_count": 11,
     "metadata": {},
     "output_type": "execute_result"
    }
   ],
   "source": [
    "instance = Solution()\n",
    "instance.minWindow(\"abcdebdde\", \"bde\")"
   ]
  }
 ],
 "metadata": {
  "kernelspec": {
   "display_name": "Python 3",
   "language": "python",
   "name": "python3"
  },
  "language_info": {
   "codemirror_mode": {
    "name": "ipython",
    "version": 3
   },
   "file_extension": ".py",
   "mimetype": "text/x-python",
   "name": "python",
   "nbconvert_exporter": "python",
   "pygments_lexer": "ipython3",
   "version": "3.7.3"
  }
 },
 "nbformat": 4,
 "nbformat_minor": 2
}
