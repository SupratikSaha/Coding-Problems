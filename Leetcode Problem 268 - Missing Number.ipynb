{
 "cells": [
  {
   "cell_type": "markdown",
   "metadata": {},
   "source": [
    "# Using sort - O(nlogn) run time, O(1) space"
   ]
  },
  {
   "cell_type": "code",
   "execution_count": null,
   "metadata": {},
   "outputs": [],
   "source": [
    "class Solution:\n",
    "    def missingNumber(self, nums: List[int]) -> int:\n",
    "        nums.sort()\n",
    "        length = len(nums)\n",
    "        \n",
    "        if nums[-1] != length:\n",
    "            return length\n",
    "        elif nums[0] != 0:\n",
    "            return 0\n",
    "        \n",
    "        for i in range(1, length):\n",
    "            expected_num = nums[i - 1] + 1\n",
    "            if nums[i] != expected_num:\n",
    "                return expected_num\n",
    "            "
   ]
  },
  {
   "cell_type": "markdown",
   "metadata": {},
   "source": [
    "# Using Hash Set: O(n) run time, O(n) space"
   ]
  },
  {
   "cell_type": "code",
   "execution_count": null,
   "metadata": {},
   "outputs": [],
   "source": [
    "class Solution:\n",
    "    def missingNumber(self, nums: List[int]) -> int:\n",
    "        num_set = set(nums)\n",
    "        length = len(nums)\n",
    "        \n",
    "        for number in range(length + 1):\n",
    "            if number not in num_set:\n",
    "                return number   "
   ]
  },
  {
   "cell_type": "markdown",
   "metadata": {},
   "source": [
    "# Using XOR Operation - O(n) run time, O(1) space"
   ]
  },
  {
   "cell_type": "code",
   "execution_count": null,
   "metadata": {},
   "outputs": [],
   "source": [
    "class Solution:\n",
    "    def missingNumber(self, nums: List[int]) -> int:\n",
    "        missing = len(nums)\n",
    "        \n",
    "        for i, num in enumerate(nums):\n",
    "            missing ^= i ^ num\n",
    "        \n",
    "        return missing"
   ]
  },
  {
   "cell_type": "markdown",
   "metadata": {},
   "source": [
    "# Using Gaussian formula - O(n) run time, O(1) space as sumof array is O(n)"
   ]
  },
  {
   "cell_type": "code",
   "execution_count": null,
   "metadata": {},
   "outputs": [],
   "source": [
    "class Solution:\n",
    "    def missingNumber(self, nums: List[int]) -> int:\n",
    "        length = len(nums)\n",
    "        expected_sum = length * (length + 1) / 2\n",
    "        \n",
    "        actual_sum = sum(nums)\n",
    "        \n",
    "        return int(expected_sum - actual_sum)"
   ]
  }
 ],
 "metadata": {
  "kernelspec": {
   "display_name": "Python 3",
   "language": "python",
   "name": "python3"
  },
  "language_info": {
   "codemirror_mode": {
    "name": "ipython",
    "version": 3
   },
   "file_extension": ".py",
   "mimetype": "text/x-python",
   "name": "python",
   "nbconvert_exporter": "python",
   "pygments_lexer": "ipython3",
   "version": "3.7.3"
  }
 },
 "nbformat": 4,
 "nbformat_minor": 2
}
