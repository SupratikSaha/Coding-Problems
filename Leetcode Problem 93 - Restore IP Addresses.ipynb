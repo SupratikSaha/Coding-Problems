{
 "cells": [
  {
   "cell_type": "markdown",
   "metadata": {},
   "source": [
    "Problem Statement.\n",
    "\n",
    "Given a string s containing only digits, return all possible valid IP addresses that can be obtained from s. You can return them in any order.\n",
    "\n",
    "A valid IP address consists of exactly four integers, each integer is between 0 and 255, separated by single dots and cannot have leading zeros. For example, \"0.1.2.201\" and \"192.168.1.1\" are valid IP addresses and \"0.011.255.245\", \"192.168.1.312\" and \"192.168@1.1\" are invalid IP addresses. \n",
    "\n",
    " \n",
    "\n",
    "Example 1:\n",
    "\n",
    "Input: s = \"25525511135\"\n",
    "Output: [\"255.255.11.135\",\"255.255.111.35\"]\n",
    "\n",
    "Example 2:\n",
    "\n",
    "Input: s = \"0000\"\n",
    "Output: [\"0.0.0.0\"]\n",
    "\n",
    "Example 3:\n",
    "\n",
    "Input: s = \"1111\"\n",
    "Output: [\"1.1.1.1\"]\n",
    "\n",
    "Example 4:\n",
    "\n",
    "Input: s = \"010010\"\n",
    "Output: [\"0.10.0.10\",\"0.100.1.0\"]\n",
    "\n",
    "Example 5:\n",
    "\n",
    "Input: s = \"101023\"\n",
    "Output: [\"1.0.10.23\",\"1.0.102.3\",\"10.1.0.23\",\"10.10.2.3\",\"101.0.2.3\"]\n",
    "\n",
    " \n",
    "\n",
    "Constraints:\n",
    "\n",
    "    0 <= s.length <= 3000\n",
    "    s consists of digits only."
   ]
  },
  {
   "cell_type": "markdown",
   "metadata": {},
   "source": [
    "# DFS with Backtracking - O(27) runtime, O(19) space"
   ]
  },
  {
   "cell_type": "code",
   "execution_count": 1,
   "metadata": {},
   "outputs": [],
   "source": [
    "from typing import List\n",
    "\n",
    "class Solution:\n",
    "    def restoreIpAddresses(self, s: str) -> List[str]:\n",
    "        n = len(s)\n",
    "        if n > 12: return []\n",
    "        \n",
    "        def getIPRecursive(index, curr):\n",
    "            l = len(ipPieces)\n",
    "            if l == 4: return\n",
    "            \n",
    "            if index == n and l == 3:\n",
    "                result.append('.'.join(ipPieces + [str(curr)]))\n",
    "                \n",
    "            if index == n: return\n",
    "                \n",
    "            num = int(s[index])\n",
    "            if curr is None:\n",
    "                getIPRecursive(index+1, num)\n",
    "            else:\n",
    "                ipPieces.append(str(curr))\n",
    "                getIPRecursive(index+1, num)\n",
    "                ipPieces.pop()\n",
    "                \n",
    "                nextVal = curr * 10 + num                \n",
    "                if index < n and curr != 0 and nextVal < 256:\n",
    "                    getIPRecursive(index+1, nextVal) \n",
    "            \n",
    "        ipPieces = []\n",
    "        result = []\n",
    "        getIPRecursive(0, None)\n",
    "        \n",
    "        return result"
   ]
  },
  {
   "cell_type": "markdown",
   "metadata": {},
   "source": [
    "# Simpler DFS - O(27) runtime, O(19) space"
   ]
  },
  {
   "cell_type": "code",
   "execution_count": null,
   "metadata": {},
   "outputs": [],
   "source": [
    "class Solution:\n",
    "    def restoreIpAddresses(self, s: str) -> List[str]:\n",
    "        ans = []\n",
    "        self.helper(ans, s, 4, [])\n",
    "        return ['.'.join(x) for x in ans]\n",
    "        \n",
    "    def helper(self, ans, s, k, temp):\n",
    "        if len(s) > k*3:\n",
    "            return\n",
    "        if k == 0:\n",
    "            ans.append(temp[:])\n",
    "        else:\n",
    "            for i in range(min(3,len(s)-k+1)):\n",
    "                if i==2 and int(s[:3]) > 255 or i > 0 and s[0] == '0':\n",
    "                    continue\n",
    "                self.helper(ans, s[i+1:], k-1, temp+[s[:i+1]])"
   ]
  },
  {
   "cell_type": "code",
   "execution_count": 3,
   "metadata": {},
   "outputs": [
    {
     "data": {
      "text/plain": [
       "['0.10.0.10', '0.100.1.0']"
      ]
     },
     "execution_count": 3,
     "metadata": {},
     "output_type": "execute_result"
    }
   ],
   "source": [
    "instance = Solution()\n",
    "instance.restoreIpAddresses(\"010010\")"
   ]
  }
 ],
 "metadata": {
  "kernelspec": {
   "display_name": "Python 3",
   "language": "python",
   "name": "python3"
  },
  "language_info": {
   "codemirror_mode": {
    "name": "ipython",
    "version": 3
   },
   "file_extension": ".py",
   "mimetype": "text/x-python",
   "name": "python",
   "nbconvert_exporter": "python",
   "pygments_lexer": "ipython3",
   "version": "3.7.3"
  }
 },
 "nbformat": 4,
 "nbformat_minor": 2
}
