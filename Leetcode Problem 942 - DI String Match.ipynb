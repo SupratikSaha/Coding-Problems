{
 "cells": [
  {
   "cell_type": "markdown",
   "metadata": {},
   "source": [
    "Problem Statement.\n",
    "\n",
    "A permutation perm of n + 1 integers of all the integers in the range [0, n] can be represented as a string s of length n where:\n",
    "\n",
    "    s[i] == 'I' if perm[i] < perm[i + 1], and\n",
    "    s[i] == 'D' if perm[i] > perm[i + 1].\n",
    "\n",
    "Given a string s, reconstruct the permutation perm and return it. If there are multiple valid permutations perm, return any of them.\n",
    "\n",
    " \n",
    "\n",
    "Example 1:\n",
    "\n",
    "Input: s = \"IDID\"\n",
    "Output: [0,4,1,3,2]\n",
    "\n",
    "Example 2:\n",
    "\n",
    "Input: s = \"III\"\n",
    "Output: [0,1,2,3]\n",
    "\n",
    "Example 3:\n",
    "\n",
    "Input: s = \"DDI\"\n",
    "Output: [3,2,0,1]\n",
    "\n",
    " \n",
    "\n",
    "Constraints:\n",
    "\n",
    "    1 <= s.length <= 105\n",
    "    s[i] is either 'I' or 'D'."
   ]
  },
  {
   "cell_type": "markdown",
   "metadata": {},
   "source": [
    "# String Traversal - O(N) runtime, O(N) space"
   ]
  },
  {
   "cell_type": "code",
   "execution_count": 1,
   "metadata": {},
   "outputs": [],
   "source": [
    "from typing import List\n",
    "\n",
    "class Solution:\n",
    "    def diStringMatch(self, s: str) -> List[int]:\n",
    "        lo, hi = 0, len(s)\n",
    "        ans = []\n",
    "        \n",
    "        for x in s:\n",
    "            if x == 'I':\n",
    "                ans.append(lo)\n",
    "                lo += 1\n",
    "            else:\n",
    "                ans.append(hi)\n",
    "                hi -= 1\n",
    "\n",
    "        return ans + [lo]"
   ]
  },
  {
   "cell_type": "code",
   "execution_count": 2,
   "metadata": {},
   "outputs": [
    {
     "data": {
      "text/plain": [
       "[0, 4, 1, 3, 2]"
      ]
     },
     "execution_count": 2,
     "metadata": {},
     "output_type": "execute_result"
    }
   ],
   "source": [
    "instance = Solution()\n",
    "instance.diStringMatch(\"IDID\")"
   ]
  }
 ],
 "metadata": {
  "kernelspec": {
   "display_name": "Python 3",
   "language": "python",
   "name": "python3"
  },
  "language_info": {
   "codemirror_mode": {
    "name": "ipython",
    "version": 3
   },
   "file_extension": ".py",
   "mimetype": "text/x-python",
   "name": "python",
   "nbconvert_exporter": "python",
   "pygments_lexer": "ipython3",
   "version": "3.7.3"
  }
 },
 "nbformat": 4,
 "nbformat_minor": 2
}
