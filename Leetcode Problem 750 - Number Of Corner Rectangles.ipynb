{
 "cells": [
  {
   "cell_type": "markdown",
   "metadata": {},
   "source": [
    "Problem Statement.\n",
    "\n",
    "Given a grid where each entry is only 0 or 1, find the number of corner rectangles.\n",
    "\n",
    "A corner rectangle is 4 distinct 1s on the grid that form an axis-aligned rectangle. Note that only the corners need to have the value 1. Also, all four 1s used must be distinct.\n",
    "\n",
    " \n",
    "\n",
    "Example 1:\n",
    "\n",
    "Input: grid = \n",
    "[[1, 0, 0, 1, 0],\n",
    " [0, 0, 1, 0, 1],\n",
    " [0, 0, 0, 1, 0],\n",
    " [1, 0, 1, 0, 1]]\n",
    "Output: 1\n",
    "Explanation: There is only one corner rectangle, with corners grid[1][2], grid[1][4], grid[3][2], grid[3][4].\n",
    "\n",
    " \n",
    "\n",
    "Example 2:\n",
    "\n",
    "Input: grid = \n",
    "[[1, 1, 1],\n",
    " [1, 1, 1],\n",
    " [1, 1, 1]]\n",
    "Output: 9\n",
    "Explanation: There are four 2x2 rectangles, four 2x3 and 3x2 rectangles, and one 3x3 rectangle.\n",
    "\n",
    " \n",
    "\n",
    "Example 3:\n",
    "\n",
    "Input: grid = \n",
    "[[1, 1, 1, 1]]\n",
    "Output: 0\n",
    "Explanation: Rectangles must have four distinct corners.\n",
    "\n",
    " \n",
    "\n",
    "Note:\n",
    "\n",
    "    The number of rows and columns of grid will each be in the range [1, 200].\n",
    "    Each grid[i][j] will be either 0 or 1.\n",
    "    The number of 1s in the grid will be at most 6000."
   ]
  },
  {
   "cell_type": "markdown",
   "metadata": {},
   "source": [
    "# HashTable - O(R * C ^ 2) runtime, O(C ^ 2) space"
   ]
  },
  {
   "cell_type": "code",
   "execution_count": 1,
   "metadata": {},
   "outputs": [],
   "source": [
    "from typing import List\n",
    "from collections import defaultdict\n",
    "\n",
    "class Solution:\n",
    "    def countCornerRectangles(self, grid: List[List[int]]) -> int:\n",
    "        count = defaultdict(int)\n",
    "        ans = 0\n",
    "        for row in grid:\n",
    "            for c1, v1 in enumerate(row):\n",
    "                if v1:\n",
    "                    for c2 in range(c1+1, len(row)):\n",
    "                        if row[c2]:\n",
    "                            ans += count[c1, c2]\n",
    "                            count[c1, c2] += 1\n",
    "        return ans"
   ]
  },
  {
   "cell_type": "markdown",
   "metadata": {},
   "source": [
    "# Heavy and Light Rows - O(N * sqrt(N) + R ∗ C) runtime, O(N + R + C ^ 2) space, where N is the number of ones in the grid."
   ]
  },
  {
   "cell_type": "code",
   "execution_count": 5,
   "metadata": {},
   "outputs": [],
   "source": [
    "from typing import List\n",
    "from collections import Counter\n",
    "from itertools import combinations\n",
    "\n",
    "class Solution:\n",
    "    def countCornerRectangles(self, grid: List[List[int]]) -> int:\n",
    "        rows = [[c for c, val in enumerate(row) if val] for row in grid]\n",
    "        N = sum(len(row) for row in grid)\n",
    "        SQRTN = int(N**.5)\n",
    "\n",
    "        ans = 0\n",
    "        count = Counter()\n",
    "        for r, row in enumerate(rows):\n",
    "            if len(row) >= SQRTN:\n",
    "                target = set(row)\n",
    "                for r2, row2 in enumerate(rows):\n",
    "                    if r2 <= r and len(row2) >= SQRTN:\n",
    "                        continue\n",
    "                    found = sum(1 for c2 in row2 if c2 in target)\n",
    "                    ans += found * (found - 1) // 2\n",
    "            else:\n",
    "                for pair in combinations(row, 2):\n",
    "                    ans += count[pair]\n",
    "                    count[pair] += 1\n",
    "\n",
    "        return ans"
   ]
  },
  {
   "cell_type": "code",
   "execution_count": 8,
   "metadata": {},
   "outputs": [
    {
     "data": {
      "text/plain": [
       "1"
      ]
     },
     "execution_count": 8,
     "metadata": {},
     "output_type": "execute_result"
    }
   ],
   "source": [
    "instance = Solution()\n",
    "instance.countCornerRectangles([[1, 0, 0, 1, 0], [0, 0, 1, 0, 1], [0, 0, 0, 1, 0], [1, 0, 1, 0, 1]])"
   ]
  }
 ],
 "metadata": {
  "kernelspec": {
   "display_name": "Python 3",
   "language": "python",
   "name": "python3"
  },
  "language_info": {
   "codemirror_mode": {
    "name": "ipython",
    "version": 3
   },
   "file_extension": ".py",
   "mimetype": "text/x-python",
   "name": "python",
   "nbconvert_exporter": "python",
   "pygments_lexer": "ipython3",
   "version": "3.7.3"
  }
 },
 "nbformat": 4,
 "nbformat_minor": 2
}
