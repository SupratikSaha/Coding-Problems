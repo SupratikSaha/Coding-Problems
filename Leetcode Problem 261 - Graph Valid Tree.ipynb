{
 "cells": [
  {
   "cell_type": "markdown",
   "metadata": {},
   "source": [
    "Problem Statement. <br/>\n",
    "\n",
    "Given n nodes labeled from 0 to n-1 and a list of undirected edges (each edge is a pair of nodes), write a function to check whether these edges make up a valid tree. <br/>\n",
    "\n",
    "Example 1: <br/>\n",
    "Input: n = 5, and edges = [[0,1], [0,2], [0,3], [1,4]] <br/>\n",
    "Output: true <br/>\n",
    "\n",
    "Example 2: <br/>\n",
    "Input: n = 5, and edges = [[0,1], [1,2], [2,3], [1,3], [1,4]] <br/>\n",
    "Output: false"
   ]
  },
  {
   "cell_type": "markdown",
   "metadata": {},
   "source": [
    "# DFS - detect cycles - O(V + E) runtime, O(V + E) space"
   ]
  },
  {
   "cell_type": "code",
   "execution_count": 1,
   "metadata": {},
   "outputs": [],
   "source": [
    "from collections import deque\n",
    "from typing import List\n",
    "\n",
    "class Solution:\n",
    "    def validTree(self, n: int, edges: List[List[int]]) -> bool:\n",
    "    \n",
    "        if len(edges) != n - 1: return False\n",
    "\n",
    "        graph = {}\n",
    "        for i in range(n):\n",
    "            graph[i] = []\n",
    "        \n",
    "        for A, B in edges:\n",
    "            graph[A].append(B)\n",
    "            graph[B].append(A)\n",
    "\n",
    "        seen = set()\n",
    "\n",
    "        def dfs(node, parent):\n",
    "            if node in seen: \n",
    "                return\n",
    "            seen.add(node)\n",
    "            for neighbour in graph[node]:\n",
    "                if neighbour == parent:\n",
    "                    continue\n",
    "                if neighbour in seen:\n",
    "                    return False\n",
    "                result = dfs(neighbour, node)\n",
    "                if not result: \n",
    "                    return False\n",
    "            return True\n",
    "\n",
    "        # We return true iff no cycles were detected,\n",
    "        # AND the entire graph has been reached.\n",
    "        return dfs(0, -1) and len(seen) == n"
   ]
  },
  {
   "cell_type": "markdown",
   "metadata": {},
   "source": [
    "# BFS  - detect cycles - O(V + E) runtime, O(V + E) space"
   ]
  },
  {
   "cell_type": "code",
   "execution_count": 2,
   "metadata": {},
   "outputs": [],
   "source": [
    "from collections import deque\n",
    "from typing import List\n",
    "\n",
    "class Solution:\n",
    "    def validTree(self, n: int, edges: List[List[int]]) -> bool:\n",
    "    \n",
    "        if len(edges) != n - 1: return False\n",
    "\n",
    "        graph = {}\n",
    "        for i in range(n):\n",
    "            graph[i] = []\n",
    "        \n",
    "        for A, B in edges:\n",
    "            graph[A].append(B)\n",
    "            graph[B].append(A)\n",
    "\n",
    "        parent = {0: -1}\n",
    "        queue = deque([0])\n",
    "\n",
    "        while queue:\n",
    "            node = queue.popleft()\n",
    "            for neighbour in graph[node]:\n",
    "                if neighbour == parent[node]:\n",
    "                    continue\n",
    "                if neighbour in parent:\n",
    "                    return False\n",
    "                parent[neighbour] = node\n",
    "                queue.append(neighbour)\n",
    "\n",
    "        return len(parent) == n"
   ]
  },
  {
   "cell_type": "markdown",
   "metadata": {},
   "source": [
    "# DFS - detect cycles - O(V) runtime, O(V) space"
   ]
  },
  {
   "cell_type": "code",
   "execution_count": 3,
   "metadata": {},
   "outputs": [],
   "source": [
    "from collections import deque\n",
    "from typing import List\n",
    "\n",
    "class Solution:\n",
    "    def validTree(self, n: int, edges: List[List[int]]) -> bool:\n",
    "    \n",
    "        if len(edges) != n - 1: return False\n",
    "\n",
    "        graph = {}\n",
    "        for i in range(n):\n",
    "            graph[i] = []\n",
    "        \n",
    "        for A, B in edges:\n",
    "            graph[A].append(B)\n",
    "            graph[B].append(A)\n",
    "\n",
    "         # We still need a seen set to prevent our code from infinite\n",
    "        # looping if there *is* cycles (and on the trivial cycles!)\n",
    "        seen = set()\n",
    "\n",
    "        def dfs(node):\n",
    "            if node in seen: \n",
    "                return\n",
    "            seen.add(node)\n",
    "            for neighbour in graph[node]:\n",
    "                dfs(neighbour)\n",
    "\n",
    "        dfs(0)\n",
    "        return len(seen) == n"
   ]
  },
  {
   "cell_type": "markdown",
   "metadata": {},
   "source": [
    "# BFS - detect cycles - O(V) runtime, O(V) space"
   ]
  },
  {
   "cell_type": "code",
   "execution_count": 4,
   "metadata": {},
   "outputs": [],
   "source": [
    "from collections import deque\n",
    "from typing import List\n",
    "\n",
    "class Solution:\n",
    "    def validTree(self, n: int, edges: List[List[int]]) -> bool:\n",
    "    \n",
    "        if len(edges) != n - 1: return False\n",
    "\n",
    "        graph = {}\n",
    "        for i in range(n):\n",
    "            graph[i] = []\n",
    "        \n",
    "        for A, B in edges:\n",
    "            graph[A].append(B)\n",
    "            graph[B].append(A)\n",
    "\n",
    "        # We still need a seen set to prevent our code from infinite\n",
    "        # looping if there *is* cycles (and on the trivial cycles!)\n",
    "        seen = {0}\n",
    "        queue = collections.deque([0])\n",
    "\n",
    "        while queue:\n",
    "            node = queue.popleft()\n",
    "            for neighbour in graph[node]:\n",
    "                if neighbour in seen:\n",
    "                    continue\n",
    "                seen.add(neighbour)\n",
    "                queue.append(neighbour)\n",
    "\n",
    "        return len(seen) == n"
   ]
  },
  {
   "cell_type": "code",
   "execution_count": 5,
   "metadata": {},
   "outputs": [
    {
     "data": {
      "text/plain": [
       "False"
      ]
     },
     "execution_count": 5,
     "metadata": {},
     "output_type": "execute_result"
    }
   ],
   "source": [
    "instance = Solution()\n",
    "instance.validTree(5, [[0,1], [1,2], [2,3], [1,3], [1,4]])"
   ]
  }
 ],
 "metadata": {
  "kernelspec": {
   "display_name": "Python 3",
   "language": "python",
   "name": "python3"
  },
  "language_info": {
   "codemirror_mode": {
    "name": "ipython",
    "version": 3
   },
   "file_extension": ".py",
   "mimetype": "text/x-python",
   "name": "python",
   "nbconvert_exporter": "python",
   "pygments_lexer": "ipython3",
   "version": "3.7.3"
  }
 },
 "nbformat": 4,
 "nbformat_minor": 2
}
