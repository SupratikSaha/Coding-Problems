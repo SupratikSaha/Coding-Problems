{
 "cells": [
  {
   "cell_type": "markdown",
   "metadata": {},
   "source": [
    "Problem Statement. <br/> DUTCH NATIONAL FLAG PROBLEM\n",
    "\n",
    "Given an array nums with n objects colored red, white, or blue, sort them in-place so that objects of the same color are adjacent, with the colors in the order red, white, and blue. <br/>\n",
    "Here, we will use the integers 0, 1, and 2 to represent the color red, white, and blue respectively. <br/>\n",
    "\n",
    "Follow up: <br/>\n",
    "    Could you solve this problem without using the library's sort function? <br/>\n",
    "    Could you come up with a one-pass algorithm using only O(1) constant space? <br/>\n",
    "\n",
    "Example 1: <br/>\n",
    "Input: nums = [2,0,2,1,1,0] <br/>\n",
    "Output: [0,0,1,1,2,2] <br/>\n",
    "\n",
    "Example 2: <br/>\n",
    "Input: nums = [2,0,1] <br/>\n",
    "Output: [0,1,2] <br/>\n",
    "\n",
    "Example 3: <br/>\n",
    "Input: nums = [0] <br/>\n",
    "Output: [0] <br/>\n",
    "\n",
    "Example 4: <br/>\n",
    "Input: nums = [1] <br/>\n",
    "Output: [1]"
   ]
  },
  {
   "cell_type": "markdown",
   "metadata": {},
   "source": [
    "# Heap Sort - O(N Log N) runtime, O(1) space"
   ]
  },
  {
   "cell_type": "code",
   "execution_count": 5,
   "metadata": {},
   "outputs": [],
   "source": [
    "from typing import List\n",
    "\n",
    "class Solution:\n",
    "    def sortColors(self, nums: List[int]) -> None:\n",
    "        \"\"\"\n",
    "        Do not return anything, modify nums in-place instead.\n",
    "        \"\"\"\n",
    "        \n",
    "        n = len(nums)\n",
    "        \n",
    "        # To heapify subtree rooted at index i.\n",
    "        # n is size of heap\n",
    "        def heapify(nums, n, i):\n",
    "            largest = i  # Initialize largest as root\n",
    "            l = 2 * i + 1     # left = 2*i + 1\n",
    "            r = 2 * i + 2     # right = 2*i + 2\n",
    "\n",
    "            # See if left child of root exists and is\n",
    "            # greater than root\n",
    "            if l < n and nums[i] < nums[l]:\n",
    "                largest = l\n",
    "\n",
    "            # See if right child of root exists and is\n",
    "            # greater than root\n",
    "            if r < n and nums[largest] < nums[r]:\n",
    "                largest = r\n",
    "\n",
    "            # Change root, if needed\n",
    "            if largest != i:\n",
    "                nums[i],nums[largest] = nums[largest],nums[i]  # swap\n",
    "\n",
    "                # Heapify the root.\n",
    "                heapify(nums, n, largest)\n",
    "  \n",
    "        # Build a maxheap.\n",
    "        # Since last parent will be at ((n//2)-1) we can start at that location.\n",
    "        for i in range(n // 2 - 1, -1, -1):\n",
    "            heapify(nums, n, i)\n",
    "\n",
    "        # One by one extract elements\n",
    "        for i in range(n-1, 0, -1):\n",
    "            nums[i], nums[0] = nums[0], nums[i]   # swap\n",
    "            heapify(nums, i, 0)\n",
    "            \n",
    "        return nums"
   ]
  },
  {
   "cell_type": "markdown",
   "metadata": {},
   "source": [
    "# Two Pass, Hash Map - O(N) runtime, O(1) space"
   ]
  },
  {
   "cell_type": "code",
   "execution_count": 17,
   "metadata": {},
   "outputs": [],
   "source": [
    "from typing import List\n",
    "from collections import Counter\n",
    "\n",
    "class Solution:\n",
    "    def sortColors(self, nums: List[int]) -> None:\n",
    "        \"\"\"\n",
    "        Do not return anything, modify nums in-place instead.\n",
    "        \"\"\"\n",
    "        color_counter = Counter(nums)\n",
    "        \n",
    "        k = 0\n",
    "        for i in range(3):\n",
    "            if i in color_counter:\n",
    "                for j in range(color_counter[i]):\n",
    "                    nums[k + j] = i\n",
    "                k += j + 1\n",
    "                            \n",
    "        return nums"
   ]
  },
  {
   "cell_type": "markdown",
   "metadata": {},
   "source": [
    "# Two Pointers - O(N) runtime, O(1) space"
   ]
  },
  {
   "cell_type": "code",
   "execution_count": 25,
   "metadata": {},
   "outputs": [],
   "source": [
    "class Solution:\n",
    "    def sortColors(self, nums: List[int]) -> None:\n",
    "        \"\"\"\n",
    "        Do not return anything, modify nums in-place instead.\n",
    "        \"\"\"\n",
    "        i = 0 \n",
    "        red_index, blue_index = 0, len(nums) - 1\n",
    "        while i <= blue_index:\n",
    "            if nums[i] == 0:\n",
    "                nums[red_index], nums[i] = nums[i], nums[red_index]\n",
    "                red_index += 1\n",
    "                i += 1\n",
    "            elif nums[i] == 2:\n",
    "                nums[blue_index], nums[i] = nums[i], nums[blue_index]\n",
    "                blue_index -= 1\n",
    "            else:    \n",
    "                i += 1\n",
    "                                            \n",
    "        return nums"
   ]
  },
  {
   "cell_type": "code",
   "execution_count": 26,
   "metadata": {},
   "outputs": [
    {
     "data": {
      "text/plain": [
       "[0, 0, 1, 1, 2, 2]"
      ]
     },
     "execution_count": 26,
     "metadata": {},
     "output_type": "execute_result"
    }
   ],
   "source": [
    "instance = Solution()\n",
    "instance.sortColors( [2,0,2,1,1,0])"
   ]
  }
 ],
 "metadata": {
  "kernelspec": {
   "display_name": "Python 3",
   "language": "python",
   "name": "python3"
  },
  "language_info": {
   "codemirror_mode": {
    "name": "ipython",
    "version": 3
   },
   "file_extension": ".py",
   "mimetype": "text/x-python",
   "name": "python",
   "nbconvert_exporter": "python",
   "pygments_lexer": "ipython3",
   "version": "3.7.3"
  }
 },
 "nbformat": 4,
 "nbformat_minor": 2
}
