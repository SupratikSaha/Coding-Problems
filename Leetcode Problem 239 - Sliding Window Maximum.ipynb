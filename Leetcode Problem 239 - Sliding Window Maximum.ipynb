{
 "cells": [
  {
   "cell_type": "markdown",
   "metadata": {},
   "source": [
    "Problem Statement. <br/>\n",
    "You are given an array of integers nums, there is a sliding window of size k which is moving from the very left of the array to the very right. You can only see the k numbers in the window. Each time the sliding window moves right by one position. <br/>\n",
    "Return the max sliding window. <br/>\n",
    "\n",
    "Example 1: <br/>\n",
    "Input: nums = [1,3,-1,-3,5,3,6,7], k = 3 <br/>\n",
    "Output: [3,3,5,5,6,7] <br/>\n",
    "Explanation:  <br/>\n",
    "Window position                Max <br/>\n",
    "---------------               ----- <br/>\n",
    "[1  3  -1] -3  5  3  6  7       3 <br/>\n",
    " 1 [3  -1  -3] 5  3  6  7       3 <br/>\n",
    " 1  3 [-1  -3  5] 3  6  7       5 <br/>\n",
    " 1  3  -1 [-3  5  3] 6  7       5 <br/>\n",
    " 1  3  -1  -3 [5  3  6] 7       6 <br/>\n",
    " 1  3  -1  -3  5 [3  6  7]      7 <br/>\n",
    "\n",
    "Example 2: <br/>\n",
    "Input: nums = [1], k = 1 <br/>\n",
    "Output: [1] <br/>\n",
    "\n",
    "Example 3: <br/>\n",
    "Input: nums = [1,-1], k = 1 <br/>\n",
    "Output: [1,-1] <br/>\n",
    "\n",
    "Example 4: <br/>\n",
    "Input: nums = [9,11], k = 2 <br/>\n",
    "Output: [11] <br/>\n",
    "\n",
    "Example 5: <br/>\n",
    "Input: nums = [4,-2], k = 2 <br/>\n",
    "Output: [4]"
   ]
  },
  {
   "cell_type": "markdown",
   "metadata": {},
   "source": [
    "# Save only max value - O(N * K) runtime, O(N−K+1) space"
   ]
  },
  {
   "cell_type": "code",
   "execution_count": 2,
   "metadata": {},
   "outputs": [],
   "source": [
    "from typing import List, Tuple\n",
    "\n",
    "class Solution:\n",
    "    def maxSlidingWindow(self, nums: List[int], k: int) -> List[int]:\n",
    "\n",
    "        indexMax = -1\n",
    "        result = []\n",
    "        windowStart, windowEnd, n = 0, k - 1, len(nums)\n",
    "        \n",
    "        while windowEnd < n:\n",
    "            if indexMax == -1:\n",
    "                maxNum, indexMax = self.getWindowMax(nums, windowStart, windowEnd)\n",
    "            elif nums[windowEnd] >= maxNum:\n",
    "                indexMax = k - 1\n",
    "                maxNum = nums[windowEnd]\n",
    "            \n",
    "            result.append(maxNum)\n",
    "            indexMax -= 1\n",
    "            windowStart += 1\n",
    "            windowEnd += 1\n",
    "            \n",
    "        return result\n",
    "        \n",
    "    def getWindowMax(self, nums: List[int], windowStart: int, windowEnd: int) -> Tuple[int, int]:\n",
    "        maxNum = nums[windowStart]\n",
    "        indexMax = 0\n",
    "        for i in range(windowStart + 1, windowEnd + 1):\n",
    "            if nums[i] >= maxNum:\n",
    "                maxNum = nums[i]\n",
    "                indexMax = i - windowStart\n",
    "\n",
    "        return (maxNum, indexMax)"
   ]
  },
  {
   "cell_type": "markdown",
   "metadata": {},
   "source": [
    "# Deque - O(N) runtime, O(N) space "
   ]
  },
  {
   "cell_type": "code",
   "execution_count": 7,
   "metadata": {},
   "outputs": [],
   "source": [
    "from collections import deque\n",
    "\n",
    "class Solution:\n",
    "    def maxSlidingWindow(self, nums: 'List[int]', k: 'int') -> 'List[int]':\n",
    "        # base cases\n",
    "        n = len(nums)\n",
    "        if n * k == 0:\n",
    "            return []\n",
    "        if k == 1:\n",
    "            return nums\n",
    "        \n",
    "        def clean_deque(i):\n",
    "            # remove indexes of elements not from sliding window\n",
    "            if deq and deq[0] == i - k:\n",
    "                deq.popleft()\n",
    "                \n",
    "            # remove from deq indexes of all elements \n",
    "            # which are smaller than current element nums[i]\n",
    "            while deq and nums[i] > nums[deq[-1]]:\n",
    "                deq.pop()\n",
    "        \n",
    "        # init deque\n",
    "        deq = deque()    \n",
    "        for i in range(k-1):\n",
    "            clean_deque(i)\n",
    "            deq.append(i)\n",
    "            \n",
    "        output = []\n",
    "        # build output\n",
    "        for i in range(k-1, n):\n",
    "            clean_deque(i)          \n",
    "            deq.append(i)\n",
    "            output.append(nums[deq[0]])\n",
    "        return output"
   ]
  },
  {
   "cell_type": "markdown",
   "metadata": {},
   "source": [
    "# Left and Right Arrays - O(N) runtime, O(N) space"
   ]
  },
  {
   "cell_type": "code",
   "execution_count": 9,
   "metadata": {},
   "outputs": [],
   "source": [
    "class Solution:\n",
    "    def maxSlidingWindow(self, nums: 'List[int]', k: 'int') -> 'List[int]':\n",
    "        n = len(nums)\n",
    "        if n * k == 0:\n",
    "            return []\n",
    "        if k == 1:\n",
    "            return nums\n",
    "        \n",
    "        left = [0] * n\n",
    "        left[0] = nums[0]\n",
    "        right = [0] * n\n",
    "        right[n - 1] = nums[n - 1]\n",
    "        for i in range(1, n):\n",
    "            # from left to right\n",
    "            if i % k == 0:\n",
    "                # block start\n",
    "                left[i] = nums[i]\n",
    "            else:\n",
    "                left[i] = max(left[i - 1], nums[i])\n",
    "            # from right to left\n",
    "            j = n - i - 1\n",
    "            if (j + 1) % k == 0:\n",
    "                # block end\n",
    "                right[j] = nums[j]\n",
    "            else:\n",
    "                right[j] = max(right[j + 1], nums[j])\n",
    "        \n",
    "        output = []\n",
    "        for i in range(n - k + 1):\n",
    "            output.append(max(left[i + k - 1], right[i]))\n",
    "            \n",
    "        return output"
   ]
  },
  {
   "cell_type": "code",
   "execution_count": 10,
   "metadata": {},
   "outputs": [
    {
     "data": {
      "text/plain": [
       "[3, 3, 5, 5, 6, 7]"
      ]
     },
     "execution_count": 10,
     "metadata": {},
     "output_type": "execute_result"
    }
   ],
   "source": [
    "instance = Solution()\n",
    "instance.maxSlidingWindow([1,3,-1,-3,5,3,6,7], 3)"
   ]
  }
 ],
 "metadata": {
  "kernelspec": {
   "display_name": "Python 3",
   "language": "python",
   "name": "python3"
  },
  "language_info": {
   "codemirror_mode": {
    "name": "ipython",
    "version": 3
   },
   "file_extension": ".py",
   "mimetype": "text/x-python",
   "name": "python",
   "nbconvert_exporter": "python",
   "pygments_lexer": "ipython3",
   "version": "3.7.3"
  }
 },
 "nbformat": 4,
 "nbformat_minor": 2
}
