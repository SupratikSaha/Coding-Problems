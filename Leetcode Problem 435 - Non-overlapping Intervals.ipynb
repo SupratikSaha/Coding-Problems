{
 "cells": [
  {
   "cell_type": "markdown",
   "metadata": {},
   "source": [
    "Given a collection of intervals, find the minimum number of intervals you need to remove to make the rest of the intervals non-overlapping.\n",
    "\n",
    " \n",
    "\n",
    "Example 1:\n",
    "\n",
    "Input: [[1,2],[2,3],[3,4],[1,3]]\n",
    "Output: 1\n",
    "Explanation: [1,3] can be removed and the rest of intervals are non-overlapping.\n",
    "\n",
    "Example 2:\n",
    "\n",
    "Input: [[1,2],[1,2],[1,2]]\n",
    "Output: 2\n",
    "Explanation: You need to remove two [1,2] to make the rest of intervals non-overlapping.\n",
    "\n",
    "Example 3:\n",
    "\n",
    "Input: [[1,2],[2,3]]\n",
    "Output: 0\n",
    "Explanation: You don't need to remove any of the intervals since they're already non-overlapping.\n",
    "\n",
    " \n",
    "\n",
    "Note:\n",
    "\n",
    "    You may assume the interval's end point is always bigger than its start point.\n",
    "    Intervals like [1,2] and [2,3] have borders \"touching\" but they don't overlap each other."
   ]
  },
  {
   "cell_type": "markdown",
   "metadata": {},
   "source": [
    "# Brure Force - O(2 ^ n) runtime, O(n) space, Time limit exceeded"
   ]
  },
  {
   "cell_type": "code",
   "execution_count": 7,
   "metadata": {},
   "outputs": [],
   "source": [
    "from typing import List\n",
    "\n",
    "class Solution:\n",
    "    def eraseOverlapIntervals(self, intervals: List[List[int]]) -> int:\n",
    "\n",
    "        intervals = sorted(intervals, key=lambda x:x[1])\n",
    "        return self.erase_Overlap_Intervals(-1, 0, intervals)\n",
    "        \n",
    "    def erase_Overlap_Intervals(self, prev: int, curr: int, intervals: List[List[int]]) -> int:\n",
    "        if curr == len(intervals):\n",
    "            return 0\n",
    "        \n",
    "        taken = nottaken = float('inf')\n",
    "        if prev == -1 or intervals[prev][1] <= intervals[curr][0]:\n",
    "            taken = self.erase_Overlap_Intervals(curr, curr + 1, intervals)\n",
    "            \n",
    "        nottaken = self.erase_Overlap_Intervals(prev, curr + 1, intervals) + 1\n",
    "        \n",
    "        return min(taken, nottaken)"
   ]
  },
  {
   "cell_type": "markdown",
   "metadata": {},
   "source": [
    "# Dynamic Programming on end points - O(n ^ 2) runtime, O(n) space, Time limit exceeded"
   ]
  },
  {
   "cell_type": "code",
   "execution_count": 5,
   "metadata": {},
   "outputs": [],
   "source": [
    "from typing import List\n",
    "\n",
    "class Solution:\n",
    "    def eraseOverlapIntervals(self, intervals: List[List[int]]) -> int:\n",
    "        \n",
    "        if intervals == []:\n",
    "            return 0\n",
    "\n",
    "        intervals = sorted(intervals, key=lambda x:x[0])\n",
    "        \n",
    "        dp = [0] * len(intervals)\n",
    "        dp[0] = 1      \n",
    "        ans = 1\n",
    "        \n",
    "        for i in range(1, len(intervals)):\n",
    "            max_val = 0\n",
    "            for j in range(i - 1, -1, -1):\n",
    "                if not intervals[j][1] > intervals[i][0]:\n",
    "                    max_val = max(dp[j], max_val)\n",
    "                    \n",
    "            dp[i] = max_val + 1\n",
    "            ans = max(ans, dp[i])\n",
    "                \n",
    "        return len(intervals) - ans"
   ]
  },
  {
   "cell_type": "markdown",
   "metadata": {},
   "source": [
    "# Dynamic Programming on end points - O(n ^ 2) runtime, O(n) space"
   ]
  },
  {
   "cell_type": "code",
   "execution_count": 3,
   "metadata": {},
   "outputs": [],
   "source": [
    "from typing import List\n",
    "\n",
    "class Solution:\n",
    "    def eraseOverlapIntervals(self, intervals: List[List[int]]) -> int:\n",
    "        \n",
    "        if intervals == []:\n",
    "            return 0\n",
    "\n",
    "        intervals = sorted(intervals, key=lambda x:x[1])\n",
    "        \n",
    "        dp = [0] * len(intervals)\n",
    "        dp[0] = 1      \n",
    "        ans = 1\n",
    "        \n",
    "        for i in range(1, len(intervals)):\n",
    "            max_val = 0\n",
    "            for j in range(i - 1, -1, -1):\n",
    "                if not intervals[j][1] > intervals[i][0]:\n",
    "                    max_val = max(dp[j], max_val)\n",
    "                    break\n",
    "                    \n",
    "            dp[i] = max(dp[i - 1], max_val + 1)\n",
    "            ans = max(ans, dp[i])\n",
    "                \n",
    "        return len(intervals) - ans"
   ]
  },
  {
   "cell_type": "markdown",
   "metadata": {},
   "source": [
    "# Greedy Approach sort with start point of interval - O(n * log n) runtime, O(1) space"
   ]
  },
  {
   "cell_type": "code",
   "execution_count": 1,
   "metadata": {},
   "outputs": [],
   "source": [
    "from typing import List\n",
    "\n",
    "class Solution:\n",
    "    def eraseOverlapIntervals(self, intervals: List[List[int]]) -> int:\n",
    "        \n",
    "        if intervals == []:\n",
    "            return 0\n",
    "\n",
    "        intervals = sorted(intervals, key=lambda x:x[0])\n",
    "        \n",
    "        prev = 0\n",
    "        count = 0\n",
    "        end = intervals[0][1]\n",
    "        \n",
    "        for i in range(1, len(intervals)):\n",
    "            if intervals[prev][1] > intervals[i][0]:\n",
    "                count += 1\n",
    "                \n",
    "                if intervals[prev][1] > intervals[i][1]:\n",
    "                    prev = i\n",
    "                    \n",
    "            else:\n",
    "                prev = i\n",
    "                \n",
    "        return count"
   ]
  },
  {
   "cell_type": "markdown",
   "metadata": {},
   "source": [
    "# Greedy Approach sort with endpoint of interval - O(n * log n) runtime, O(1) space"
   ]
  },
  {
   "cell_type": "code",
   "execution_count": 6,
   "metadata": {},
   "outputs": [],
   "source": [
    "from typing import List\n",
    "\n",
    "class Solution:\n",
    "    def eraseOverlapIntervals(self, intervals: List[List[int]]) -> int:\n",
    "        \n",
    "        if intervals == []:\n",
    "            return 0\n",
    "\n",
    "        intervals=sorted(intervals, key=lambda x:x[1])\n",
    "        \n",
    "        ans = 0\n",
    "        right = intervals[0][1]\n",
    "        \n",
    "        for i in range(1, len(intervals)):\n",
    "            if right <= intervals[i][0]:\n",
    "                left, right = intervals[i]\n",
    "            else:\n",
    "                ans+=1\n",
    "                \n",
    "        return ans"
   ]
  },
  {
   "cell_type": "code",
   "execution_count": 8,
   "metadata": {},
   "outputs": [
    {
     "data": {
      "text/plain": [
       "1"
      ]
     },
     "execution_count": 8,
     "metadata": {},
     "output_type": "execute_result"
    }
   ],
   "source": [
    "instance = Solution()\n",
    "instance.eraseOverlapIntervals([[1,2],[2,3],[3,4],[1,3]])"
   ]
  }
 ],
 "metadata": {
  "kernelspec": {
   "display_name": "Python 3",
   "language": "python",
   "name": "python3"
  },
  "language_info": {
   "codemirror_mode": {
    "name": "ipython",
    "version": 3
   },
   "file_extension": ".py",
   "mimetype": "text/x-python",
   "name": "python",
   "nbconvert_exporter": "python",
   "pygments_lexer": "ipython3",
   "version": "3.7.3"
  }
 },
 "nbformat": 4,
 "nbformat_minor": 2
}
