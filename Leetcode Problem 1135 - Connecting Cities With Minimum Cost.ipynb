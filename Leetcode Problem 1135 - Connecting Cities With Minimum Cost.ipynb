{
 "cells": [
  {
   "cell_type": "markdown",
   "metadata": {},
   "source": [
    "    Problem Statement.\n",
    "\n",
    "    There are N cities numbered from 1 to N.\n",
    "\n",
    "    You are given connections, where each connections[i] = [city1, city2, cost] represents the cost to connect city1 and city2 together.  (A connection is bidirectional: connecting city1 and city2 is the same as connecting city2 and city1.)\n",
    "\n",
    "    Return the minimum cost so that for every pair of cities, there exists a path of connections (possibly of length 1) that connects those two cities together.  The cost is the sum of the connection costs used. If the task is impossible, return -1.\n",
    "\n",
    "\n",
    "\n",
    "    Example 1:\n",
    "\n",
    "    Input: N = 3, connections = [[1,2,5],[1,3,6],[2,3,1]]\n",
    "    Output: 6\n",
    "    Explanation: \n",
    "    Choosing any 2 edges will connect all cities so we choose the minimum 2.\n",
    "\n",
    "    Example 2:\n",
    "\n",
    "    Input: N = 4, connections = [[1,2,3],[3,4,4]]\n",
    "    Output: -1\n",
    "    Explanation: \n",
    "    There is no way to connect all cities even if all edges are used.\n",
    "\n",
    "\n",
    "\n",
    "    Note:\n",
    "\n",
    "        1 <= N <= 10000\n",
    "        1 <= connections.length <= 10000\n",
    "        1 <= connections[i][0], connections[i][1] <= N\n",
    "        0 <= connections[i][2] <= 10^5\n",
    "        connections[i][0] != connections[i][1]"
   ]
  },
  {
   "cell_type": "markdown",
   "metadata": {},
   "source": [
    "# Prim's Algorithm BFS - O(M) runtime, O(M) space where M is the number of connections"
   ]
  },
  {
   "cell_type": "code",
   "execution_count": 1,
   "metadata": {},
   "outputs": [],
   "source": [
    "from typing import List\n",
    "from collections import defaultdict\n",
    "from heapq import heappush, heappop\n",
    "\n",
    "class Solution:\n",
    "    def minimumCost(self, N: int, connections: List[List[int]]) -> int:\n",
    "        n = len(connections)\n",
    "        if n < N - 1 : return -1\n",
    "        \n",
    "        graph = defaultdict(list)\n",
    "        for c1, c2, cost in connections:\n",
    "            graph[c1].append((c2, cost))\n",
    "            graph[c2].append((c1, cost))\n",
    "        \n",
    "        q = []\n",
    "        heappush(q, (0, N))\n",
    "        visited, total = set(), 0\n",
    "        while q:\n",
    "            cost, node = heappop(q)\n",
    "            if node not in visited:\n",
    "                visited.add(node)\n",
    "                total += cost\n",
    "                for next_city, edge_cost in graph[node]:\n",
    "                    heappush(q, (edge_cost, next_city))\n",
    "                    \n",
    "        return total if len(visited) == N else -1   "
   ]
  },
  {
   "cell_type": "markdown",
   "metadata": {},
   "source": [
    "# Kruskal's - Union Find - O(M) runtime, O(N) space"
   ]
  },
  {
   "cell_type": "code",
   "execution_count": 2,
   "metadata": {},
   "outputs": [],
   "source": [
    "from typing import List\n",
    "\n",
    "class Solution:\n",
    "    def minimumCost(self, N: int, connections: List[List[int]]) -> int:\n",
    "        def find(city):\n",
    "            if parent[city] != city:\n",
    "                parent[city] = find(parent[city])\n",
    "            return parent[city]\n",
    "\n",
    "        def union(c1, c2):\n",
    "            root1, root2 = find(c1), find(c2)\n",
    "            if root1 == root2:\n",
    "                return False\n",
    "            parent[root2] = root1  # Always join roots!\n",
    "            return True\n",
    "        \n",
    "        \n",
    "        parent = [i for i in range(N+1)]\n",
    "        connections.sort(key = lambda x: x[2])\n",
    "        total = 0\n",
    "        \n",
    "        for city1, city2, cost in connections:\n",
    "            if union(city1, city2):\n",
    "                total += cost\n",
    "        root = find(N)\n",
    "        return total if all(root == find(city) for city in parent[1:]) else -1  "
   ]
  },
  {
   "cell_type": "code",
   "execution_count": 3,
   "metadata": {},
   "outputs": [
    {
     "data": {
      "text/plain": [
       "6"
      ]
     },
     "execution_count": 3,
     "metadata": {},
     "output_type": "execute_result"
    }
   ],
   "source": [
    "instance = Solution()\n",
    "instance.minimumCost(3, [[1,2,5],[1,3,6],[2,3,1]])"
   ]
  }
 ],
 "metadata": {
  "kernelspec": {
   "display_name": "Python 3",
   "language": "python",
   "name": "python3"
  },
  "language_info": {
   "codemirror_mode": {
    "name": "ipython",
    "version": 3
   },
   "file_extension": ".py",
   "mimetype": "text/x-python",
   "name": "python",
   "nbconvert_exporter": "python",
   "pygments_lexer": "ipython3",
   "version": "3.7.3"
  }
 },
 "nbformat": 4,
 "nbformat_minor": 2
}
