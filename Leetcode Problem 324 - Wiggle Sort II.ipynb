{
 "cells": [
  {
   "cell_type": "markdown",
   "metadata": {},
   "source": [
    "Problem Statement. <br/>\n",
    "\n",
    "Given an integer array nums, reorder it such that nums[0] < nums[1] > nums[2] < nums[3].... <br/>\n",
    "You may assume the input array always has a valid answer. <br/>\n",
    "\n",
    "Example 1: <br/>\n",
    "Input: nums = [1,5,1,1,6,4] <br/>\n",
    "Output: [1,6,1,5,1,4] <br/>\n",
    "Explanation: [1,4,1,5,1,6] is also accepted. <br/>\n",
    "\n",
    "Example 2: <br/>\n",
    "Input: nums = [1,3,2,2,3,1] <br/>\n",
    "Output: [2,3,1,3,1,2]"
   ]
  },
  {
   "cell_type": "markdown",
   "metadata": {},
   "source": [
    "# Sort and extra space - O(N log N) runtime, O(N) space"
   ]
  },
  {
   "cell_type": "code",
   "execution_count": 1,
   "metadata": {},
   "outputs": [],
   "source": [
    "from typing import List\n",
    "\n",
    "class Solution:\n",
    "    def wiggleSort(self, nums: List[int]) -> None:\n",
    "        \"\"\"\n",
    "        Do not return anything, modify nums in-place instead.\n",
    "        \"\"\"\n",
    "        arr = sorted(nums)\n",
    "        for i in range(1, len(nums), 2): \n",
    "            nums[i] = arr.pop() \n",
    "        for i in range(0, len(nums), 2): \n",
    "            nums[i] = arr.pop() \n",
    "            \n",
    "        return nums"
   ]
  },
  {
   "cell_type": "markdown",
   "metadata": {},
   "source": [
    "# Median through quickselect - O(N) runtime best case, O(1) space"
   ]
  },
  {
   "cell_type": "code",
   "execution_count": 2,
   "metadata": {},
   "outputs": [],
   "source": [
    "from typing import List\n",
    "from random import randint\n",
    "\n",
    "class Solution:\n",
    "    def wiggleSort(self, nums: List[int]) -> None:\n",
    "        \"\"\"\n",
    "        Do not return anything, modify nums in-place instead.\n",
    "        \"\"\"\n",
    "        def nsmallest(nums,n):            \n",
    "            start,end=0,len(nums)-1\n",
    "            while True:\n",
    "                pivot=nums[randint(start,end)]\n",
    "                i,j,k=start,end,start\n",
    "                while k<=j:\n",
    "                    if nums[k]<pivot:\n",
    "                        nums[i],nums[k]=nums[k],nums[i]\n",
    "                        i+=1\n",
    "                        k+=1\n",
    "                    elif nums[k]>pivot:\n",
    "                        nums[j],nums[k]=nums[k],nums[j]\n",
    "                        j-=1\n",
    "                    else:\n",
    "                        k+=1\n",
    "                if i<=n-1<=j:\n",
    "                    return pivot\n",
    "                elif n-1<i:\n",
    "                    end=i-1\n",
    "                else:\n",
    "                    start=i+1\n",
    "        n=len(nums)\n",
    "        mid=nsmallest(nums,(n+1)//2)\n",
    "        mapIdx=lambda i:(1+2*i)%(n|1)\n",
    "        i,j,k=0,n-1,0\n",
    "        while k<=j:\n",
    "            mapIdx_k = mapIdx(k)\n",
    "            mapIdx_i = mapIdx(i)\n",
    "            mapIdx_j = mapIdx(j)\n",
    "            if nums[mapIdx_k]>mid:\n",
    "                nums[mapIdx_k],nums[mapIdx(i)]=nums[mapIdx(i)],nums[mapIdx_k]\n",
    "                i+=1\n",
    "                k+=1\n",
    "            elif nums[mapIdx_k]<mid:\n",
    "                nums[mapIdx_k],nums[mapIdx_j]=nums[mapIdx_j],nums[mapIdx_k]\n",
    "                j-=1\n",
    "            else:\n",
    "                k+=1\n",
    "                \n",
    "        return nums"
   ]
  },
  {
   "cell_type": "code",
   "execution_count": 3,
   "metadata": {},
   "outputs": [],
   "source": [
    "instance = Solution()\n",
    "instance.wiggleSort([1,5,1,1,6,4])"
   ]
  }
 ],
 "metadata": {
  "kernelspec": {
   "display_name": "Python 3",
   "language": "python",
   "name": "python3"
  },
  "language_info": {
   "codemirror_mode": {
    "name": "ipython",
    "version": 3
   },
   "file_extension": ".py",
   "mimetype": "text/x-python",
   "name": "python",
   "nbconvert_exporter": "python",
   "pygments_lexer": "ipython3",
   "version": "3.7.3"
  }
 },
 "nbformat": 4,
 "nbformat_minor": 2
}
