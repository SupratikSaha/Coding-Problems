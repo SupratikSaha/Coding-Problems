{
 "cells": [
  {
   "cell_type": "markdown",
   "metadata": {},
   "source": [
    "Problem Statement.\n",
    "\n",
    "    There is a table courses with columns: student and class\n",
    "\n",
    "    Please list out all classes which have more than or equal to 5 students.\n",
    "\n",
    "    For example, the table:\n",
    "\n",
    "    +---------+------------+\n",
    "    | student | class      |\n",
    "    +---------+------------+\n",
    "    | A       | Math       |\n",
    "    | B       | English    |\n",
    "    | C       | Math       |\n",
    "    | D       | Biology    |\n",
    "    | E       | Math       |\n",
    "    | F       | Computer   |\n",
    "    | G       | Math       |\n",
    "    | H       | Math       |\n",
    "    | I       | Math       |\n",
    "    +---------+------------+\n",
    "\n",
    "    Should output:\n",
    "\n",
    "    +---------+\n",
    "    | class   |\n",
    "    +---------+\n",
    "    | Math    |\n",
    "    +---------+\n",
    "\n",
    "\n",
    "\n",
    "    Note:\n",
    "    The students should not be counted duplicate in each course."
   ]
  },
  {
   "cell_type": "markdown",
   "metadata": {},
   "source": [
    "# Sub Query"
   ]
  },
  {
   "cell_type": "code",
   "execution_count": null,
   "metadata": {},
   "outputs": [],
   "source": [
    "SELECT class FROM\n",
    "(SELECT class, COUNT(DISTINCT student) AS num\n",
    "FROM courses\n",
    "GROUP BY class\n",
    "HAVING num >= 5) AS temp_table"
   ]
  },
  {
   "cell_type": "markdown",
   "metadata": {},
   "source": [
    "# Having"
   ]
  },
  {
   "cell_type": "code",
   "execution_count": null,
   "metadata": {},
   "outputs": [],
   "source": [
    "select class\n",
    "from courses\n",
    "group by 1\n",
    "having count(distinct student) >= 5"
   ]
  }
 ],
 "metadata": {
  "kernelspec": {
   "display_name": "Python 3",
   "language": "python",
   "name": "python3"
  },
  "language_info": {
   "codemirror_mode": {
    "name": "ipython",
    "version": 3
   },
   "file_extension": ".py",
   "mimetype": "text/x-python",
   "name": "python",
   "nbconvert_exporter": "python",
   "pygments_lexer": "ipython3",
   "version": "3.7.3"
  }
 },
 "nbformat": 4,
 "nbformat_minor": 2
}
