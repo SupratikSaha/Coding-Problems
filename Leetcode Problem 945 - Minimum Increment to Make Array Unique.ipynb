{
 "cells": [
  {
   "cell_type": "markdown",
   "metadata": {},
   "source": [
    "Problem Statement.\n",
    "\n",
    "You are given an integer array nums. In one move, you can pick an index i where 0 <= i < nums.length and increment nums[i] by 1.\n",
    "\n",
    "Return the minimum number of moves to make every value in nums unique.\n",
    "\n",
    " \n",
    "\n",
    "Example 1:\n",
    "\n",
    "Input: nums = [1,2,2]\n",
    "Output: 1\n",
    "Explanation: After 1 move, the array could be [1, 2, 3].\n",
    "\n",
    "Example 2:\n",
    "\n",
    "Input: nums = [3,2,1,2,1,7]\n",
    "Output: 6\n",
    "Explanation: After 6 moves, the array could be [3, 4, 1, 2, 5, 7].\n",
    "It can be shown with 5 or less moves that it is impossible for the array to have all unique values.\n",
    "\n",
    " \n",
    "\n",
    "Constraints:\n",
    "\n",
    "    1 <= nums.length <= 10^5\n",
    "    0 <= nums[i] <= 10^5"
   ]
  },
  {
   "cell_type": "markdown",
   "metadata": {},
   "source": [
    "# Slower - Union Find - O(N) runtime, O(N) space"
   ]
  },
  {
   "cell_type": "code",
   "execution_count": 3,
   "metadata": {},
   "outputs": [],
   "source": [
    "from typing import List\n",
    "\n",
    "class Solution:\n",
    "    def minIncrementForUnique(self, nums: List[int]) -> int:\n",
    "        root = {}\n",
    "        def find(x):\n",
    "            root[x] = find(root[x] + 1) if x in root else x\n",
    "            return root[x]\n",
    "        \n",
    "        return sum(find(num) - num for num in nums)"
   ]
  },
  {
   "cell_type": "markdown",
   "metadata": {},
   "source": [
    "# Sort - O(N * Log N) runtime, O(N) space"
   ]
  },
  {
   "cell_type": "code",
   "execution_count": 1,
   "metadata": {},
   "outputs": [],
   "source": [
    "from typing import List\n",
    "\n",
    "class Solution:\n",
    "    def minIncrementForUnique(self, nums: List[int]) -> int:\n",
    "        nums.sort()\n",
    "        next_val, ans = nums[0], 0\n",
    "        for n in nums:s\n",
    "            if n < next_val:\n",
    "                ans += next_val - n\n",
    "                next_val += 1\n",
    "            else:\n",
    "                next_val = n + 1\n",
    "        return ans"
   ]
  },
  {
   "cell_type": "code",
   "execution_count": 4,
   "metadata": {},
   "outputs": [
    {
     "data": {
      "text/plain": [
       "6"
      ]
     },
     "execution_count": 4,
     "metadata": {},
     "output_type": "execute_result"
    }
   ],
   "source": [
    "instance = Solution()\n",
    "instance.minIncrementForUnique([3,2,1,2,1,7])"
   ]
  }
 ],
 "metadata": {
  "kernelspec": {
   "display_name": "Python 3",
   "language": "python",
   "name": "python3"
  },
  "language_info": {
   "codemirror_mode": {
    "name": "ipython",
    "version": 3
   },
   "file_extension": ".py",
   "mimetype": "text/x-python",
   "name": "python",
   "nbconvert_exporter": "python",
   "pygments_lexer": "ipython3",
   "version": "3.7.3"
  }
 },
 "nbformat": 4,
 "nbformat_minor": 2
}
