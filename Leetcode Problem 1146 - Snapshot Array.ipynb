{
 "cells": [
  {
   "cell_type": "markdown",
   "metadata": {},
   "source": [
    "Problem Statement. <br/>\n",
    "\n",
    "Implement a SnapshotArray that supports the following interface: <br/>\n",
    "\n",
    "    SnapshotArray(int length) initializes an array-like data structure with the given length.  Initially, each element equals 0.\n",
    "    void set(index, val) sets the element at the given index to be equal to val.\n",
    "    int snap() takes a snapshot of the array and returns the snap_id: the total number of times we called snap() minus 1.\n",
    "    int get(index, snap_id) returns the value at the given index, at the time we took the snapshot with the given snap_id\n",
    "\n",
    "Example 1: <br/>\n",
    "Input: [\"SnapshotArray\",\"set\",\"snap\",\"set\",\"get\"] <br/>\n",
    "[[3],[0,5],[],[0,6],[0,0]] <br/>\n",
    "Output: [null,null,0,null,5] <br/>\n",
    "Explanation:  <br/>\n",
    "SnapshotArray snapshotArr = new SnapshotArray(3); # set the length to be 3 <br/>\n",
    "snapshotArr.set(0,5);  # Set array[0] = 5 <br/>\n",
    "snapshotArr.snap();  # Take a snapshot, return snap_id = 0 <br/>\n",
    "snapshotArr.set(0,6); <br/>\n",
    "snapshotArr.get(0,0);  # Get the value of array[0] with snap_id = 0, return 5"
   ]
  },
  {
   "cell_type": "markdown",
   "metadata": {},
   "source": [
    "# List Index based Dict & Linear Search - O(1) for constructor, set, snap and O(S) for get runtime, O(max(N, S)) space where N is the length of the array and S is the number of snaps"
   ]
  },
  {
   "cell_type": "code",
   "execution_count": 1,
   "metadata": {},
   "outputs": [],
   "source": [
    "from collections import defaultdict\n",
    "\n",
    "class SnapshotArray:\n",
    "\n",
    "    def __init__(self, length: int):\n",
    "        self.array = [0]*length\n",
    "        self.length = length\n",
    "        self.snapDict = defaultdict(list)\n",
    "        self.snapId = -1\n",
    "        \n",
    "    def set(self, index: int, val: int) -> None:\n",
    "        self.array[index] = val\n",
    "        if self.snapDict.get(index) and self.snapDict[index][-1][0] == self.snapId+1:\n",
    "            self.snapDict[index][-1] = (self.snapId+1, val)\n",
    "            return\n",
    "        self.snapDict[index].append((self.snapId+1, val))\n",
    "            \n",
    "    def snap(self) -> int:\n",
    "        self.snapId += 1\n",
    "        return self.snapId\n",
    "\n",
    "    def get(self, index: int, snap_id: int) -> int:\n",
    "        snapList = self.snapDict[index]\n",
    "        \n",
    "        if not snapList or snapList[0][0] > snap_id:\n",
    "            return 0\n",
    "        \n",
    "        for i, val in enumerate(snapList):\n",
    "            if snap_id == val[0]:\n",
    "                return val[1]\n",
    "            if snap_id < val[0]:\n",
    "                return snapList[i-1][1]\n",
    "            \n",
    "        return snapList[i][1]"
   ]
  },
  {
   "cell_type": "markdown",
   "metadata": {},
   "source": [
    "# List Index based Dict & Binary Search - O(1) for constructor, set, snap and O(log S) for get runtime, O(max(N, S)) space where N is the length of the array and S is the number of snaps"
   ]
  },
  {
   "cell_type": "code",
   "execution_count": 2,
   "metadata": {},
   "outputs": [],
   "source": [
    "from collections import defaultdict\n",
    "\n",
    "class SnapshotArray:\n",
    "\n",
    "    def __init__(self, length: int):\n",
    "        self.array = [0]*length\n",
    "        self.length = length\n",
    "        self.snapDict = defaultdict(list)\n",
    "        self.snapId = -1\n",
    "        \n",
    "    def set(self, index: int, val: int) -> None:\n",
    "        self.array[index] = val\n",
    "        if self.snapDict.get(index) and self.snapDict[index][-1][0] == self.snapId+1:\n",
    "            self.snapDict[index][-1] = (self.snapId+1, val)\n",
    "            return\n",
    "        self.snapDict[index].append((self.snapId+1, val))\n",
    "            \n",
    "    def snap(self) -> int:\n",
    "        self.snapId += 1\n",
    "        return self.snapId\n",
    "\n",
    "    def get(self, index: int, snap_id: int) -> int:\n",
    "        snapList = self.snapDict[index]\n",
    "        #print(snapList)\n",
    "        \n",
    "        if not snapList or snap_id < snapList[0][0]:\n",
    "            return 0\n",
    "        \n",
    "        if snap_id > snapList[-1][0]:\n",
    "            return snapList[-1][1]\n",
    "        \n",
    "        left, right = 0, len(snapList)\n",
    "        while left <= right:\n",
    "            mid = left + (right - left) // 2\n",
    "            index, val = snapList[mid]\n",
    "            if snap_id == index:\n",
    "                return val\n",
    "            if snap_id < index and snap_id > snapList[mid-1][0]:\n",
    "                return snapList[mid-1][1]\n",
    "            \n",
    "            if snap_id > index:\n",
    "                left = mid + 1\n",
    "            else:\n",
    "                right = mid"
   ]
  },
  {
   "cell_type": "markdown",
   "metadata": {},
   "source": [
    "# Snap Based Dict - O(1) for constructor, set, snap and O(S) for get runtime, O(max(N, S)) space where N is the length of the array and S is the number of snaps"
   ]
  },
  {
   "cell_type": "code",
   "execution_count": 3,
   "metadata": {},
   "outputs": [],
   "source": [
    "from collections import defaultdict\n",
    "\n",
    "class SnapshotArray:\n",
    "\n",
    "    def __init__(self, length: int):\n",
    "        self.snaps = defaultdict(defaultdict)\n",
    "        self.snap_cnt = 0\n",
    "\n",
    "    def set(self, index: int, val: int) -> None:\n",
    "        self.snaps[self.snap_cnt][index] = val\n",
    "\n",
    "    def snap(self) -> int:\n",
    "        self.snap_cnt += 1\n",
    "        return self.snap_cnt - 1\n",
    "\n",
    "    def get(self, index: int, snap_id: int) -> int:\n",
    "        for id in reversed(range(snap_id+1)):\n",
    "            if index in self.snaps[id]: return self.snaps[id][index]\n",
    "            \n",
    "        return 0"
   ]
  },
  {
   "cell_type": "markdown",
   "metadata": {},
   "source": [
    "# Index Based Dict and Binary Search - O(1) for constructor, set, snap and O(Log S) for get runtime, O(max(N, S)) space where N is the length of the array and S is the number of snaps"
   ]
  },
  {
   "cell_type": "code",
   "execution_count": 4,
   "metadata": {},
   "outputs": [],
   "source": [
    "from collections import defaultdict\n",
    "from bisect import bisect_left\n",
    "\n",
    "class SnapshotArray:\n",
    "\n",
    "    def __init__(self, length: int):\n",
    "        self.m, self.snap_id = defaultdict(list), -1\n",
    "\n",
    "    def set(self, index: int, val: int) -> None:\n",
    "        self.m[index].append((self.snap_id, val))\n",
    "    \n",
    "    def snap(self) -> int:\n",
    "        self.snap_id+=1\n",
    "        return self.snap_id\n",
    "\n",
    "    def get(self, index: int, snap_id: int) -> int:\n",
    "        _index = bisect_left(self.m[index], (snap_id,))\n",
    "        return self.m[index][_index-1][1] if _index>0 else 0"
   ]
  },
  {
   "cell_type": "code",
   "execution_count": 5,
   "metadata": {},
   "outputs": [
    {
     "name": "stdout",
     "output_type": "stream",
     "text": [
      "None\n",
      "0\n",
      "None\n",
      "5\n"
     ]
    }
   ],
   "source": [
    "obj = SnapshotArray(3)\n",
    "print(obj.set(0, 5))\n",
    "print(obj.snap())\n",
    "print(obj.set(0, 6))\n",
    "print(obj.get(0,0))"
   ]
  }
 ],
 "metadata": {
  "kernelspec": {
   "display_name": "Python 3",
   "language": "python",
   "name": "python3"
  },
  "language_info": {
   "codemirror_mode": {
    "name": "ipython",
    "version": 3
   },
   "file_extension": ".py",
   "mimetype": "text/x-python",
   "name": "python",
   "nbconvert_exporter": "python",
   "pygments_lexer": "ipython3",
   "version": "3.7.3"
  }
 },
 "nbformat": 4,
 "nbformat_minor": 2
}
