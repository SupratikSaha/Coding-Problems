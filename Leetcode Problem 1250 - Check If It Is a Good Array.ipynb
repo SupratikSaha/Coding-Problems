{
 "cells": [
  {
   "cell_type": "markdown",
   "metadata": {},
   "source": [
    "Problem Statement.\n",
    "\n",
    "Given an array nums of positive integers. Your task is to select some subset of nums, multiply each element by an integer and add all these numbers. The array is said to be good if you can obtain a sum of 1 from the array by any possible subset and multiplicand.\n",
    "\n",
    "Return True if the array is good otherwise return False.\n",
    "\n",
    " \n",
    "\n",
    "Example 1:\n",
    "\n",
    "Input: nums = [12,5,7,23]\n",
    "Output: true\n",
    "Explanation: Pick numbers 5 and 7.\n",
    "5*3 + 7*(-2) = 1\n",
    "\n",
    "Example 2:\n",
    "\n",
    "Input: nums = [29,6,10]\n",
    "Output: true\n",
    "Explanation: Pick numbers 29, 6 and 10.\n",
    "29*1 + 6*(-3) + 10*(-1) = 1\n",
    "\n",
    "Example 3:\n",
    "\n",
    "Input: nums = [3,6]\n",
    "Output: false\n",
    "\n",
    " \n",
    "\n",
    "Constraints:\n",
    "\n",
    "    1 <= nums.length <= 10^5\n",
    "    1 <= nums[i] <= 10^9"
   ]
  },
  {
   "cell_type": "markdown",
   "metadata": {},
   "source": [
    "# GCD - O(N) runtime, O(1) space "
   ]
  },
  {
   "cell_type": "code",
   "execution_count": 1,
   "metadata": {},
   "outputs": [],
   "source": [
    "from typing import List\n",
    "\n",
    "class Solution:\n",
    "    def isGoodArray(self, nums: List[int]) -> bool:\n",
    "        gcd = nums[0]\n",
    "        \n",
    "        for a in nums:\n",
    "            while a:\n",
    "                gcd, a = a, gcd % a\n",
    "                \n",
    "        return gcd == 1"
   ]
  },
  {
   "cell_type": "code",
   "execution_count": 2,
   "metadata": {},
   "outputs": [
    {
     "data": {
      "text/plain": [
       "True"
      ]
     },
     "execution_count": 2,
     "metadata": {},
     "output_type": "execute_result"
    }
   ],
   "source": [
    "instance = Solution()\n",
    "instance.isGoodArray([29,6,10])"
   ]
  }
 ],
 "metadata": {
  "kernelspec": {
   "display_name": "Python 3",
   "language": "python",
   "name": "python3"
  },
  "language_info": {
   "codemirror_mode": {
    "name": "ipython",
    "version": 3
   },
   "file_extension": ".py",
   "mimetype": "text/x-python",
   "name": "python",
   "nbconvert_exporter": "python",
   "pygments_lexer": "ipython3",
   "version": "3.7.3"
  }
 },
 "nbformat": 4,
 "nbformat_minor": 2
}
