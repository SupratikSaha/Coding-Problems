{
 "cells": [
  {
   "cell_type": "markdown",
   "metadata": {},
   "source": [
    "Given an array of meeting time intervals consisting of start and end times [[s1,e1],[s2,e2],...] (si < ei), find the minimum number of conference rooms required.\n",
    "\n",
    "Example 1:\n",
    "\n",
    "Input: [[0, 30],[5, 10],[15, 20]]\n",
    "Output: 2\n",
    "\n",
    "Example 2:\n",
    "\n",
    "Input: [[7,10],[2,4]]\n",
    "Output: 1"
   ]
  },
  {
   "cell_type": "markdown",
   "metadata": {},
   "source": [
    "# Double sorting - O(n^2 * log n) runtime, O(n) space"
   ]
  },
  {
   "cell_type": "code",
   "execution_count": 1,
   "metadata": {},
   "outputs": [],
   "source": [
    "from typing import List\n",
    "\n",
    "class Solution:\n",
    "    def minMeetingRooms(self, intervals: List[List[int]]) -> int:\n",
    "        \n",
    "        if intervals is None or len(intervals) == 0:\n",
    "            return 0\n",
    "        \n",
    "        intervals = sorted(intervals, key = lambda interval: interval[1])\n",
    "        booked_time_list = []\n",
    "        \n",
    "        for curr in intervals:\n",
    "            found_room = 0\n",
    "            for booked_time in booked_time_list:\n",
    "                if curr[0] >= booked_time[1]:\n",
    "                    booked_time[1] = curr[1]\n",
    "                    found_room = 1\n",
    "                    break\n",
    "            if found_room == 0:\n",
    "                booked_time_list.append(curr)\n",
    "            \n",
    "            booked_time_list = sorted(booked_time_list, key = lambda interval: -interval[1])\n",
    "            \n",
    "        return len(booked_time_list)"
   ]
  },
  {
   "cell_type": "markdown",
   "metadata": {},
   "source": [
    "# Heap - O(n * log n) runtime, O(n) space"
   ]
  },
  {
   "cell_type": "code",
   "execution_count": 3,
   "metadata": {},
   "outputs": [],
   "source": [
    "from typing import List\n",
    "import heapq\n",
    "\n",
    "class Solution:\n",
    "    def minMeetingRooms(self, intervals: List[List[int]]) -> int:\n",
    "        \n",
    "        # If there is no meeting to schedule then no room needs to be allocated.\n",
    "        if not intervals:\n",
    "            return 0\n",
    "\n",
    "        # The heap initialization\n",
    "        free_rooms = []\n",
    "\n",
    "        # Sort the meetings in increasing order of their start time.\n",
    "        intervals.sort(key= lambda x: x[0])\n",
    "\n",
    "        # Add the first meeting. We have to give a new room to the first meeting.\n",
    "        heapq.heappush(free_rooms, intervals[0][1])\n",
    "\n",
    "        # For all the remaining meeting rooms\n",
    "        for i in intervals[1:]:\n",
    "\n",
    "            # If the room due to free up the earliest is free, assign that room to this meeting.\n",
    "            if free_rooms[0] <= i[0]:\n",
    "                heapq.heappop(free_rooms)\n",
    "\n",
    "            # If a new room is to be assigned, then also we add to the heap,\n",
    "            # If an old room is allocated, then also we have to add to the heap with updated end time.\n",
    "            heapq.heappush(free_rooms, i[1])\n",
    "\n",
    "        # The size of the heap tells us the minimum rooms required for all the meetings.\n",
    "        return len(free_rooms)"
   ]
  },
  {
   "cell_type": "markdown",
   "metadata": {},
   "source": [
    "# Seperate list for start and end times - O(n * log n) runtime, O(n) space"
   ]
  },
  {
   "cell_type": "code",
   "execution_count": 5,
   "metadata": {},
   "outputs": [],
   "source": [
    "from typing import List\n",
    "\n",
    "class Solution:\n",
    "    def minMeetingRooms(self, intervals: List[List[int]]) -> int:\n",
    "        \n",
    "       # If there are no meetings, we don't need any rooms.\n",
    "        if not intervals:\n",
    "            return 0\n",
    "\n",
    "        used_rooms = 0\n",
    "\n",
    "        # Separate out the start and the end timings and sort them individually.\n",
    "        start_timings = sorted([i[0] for i in intervals])\n",
    "        end_timings = sorted(i[1] for i in intervals)\n",
    "        L = len(intervals)\n",
    "\n",
    "        # The two pointers in the algorithm: e_ptr and s_ptr.\n",
    "        end_pointer = 0\n",
    "        start_pointer = 0\n",
    "\n",
    "        # Until all the meetings have been processed\n",
    "        while start_pointer < L:\n",
    "            # If there is a meeting that has ended by the time the meeting at `start_pointer` starts\n",
    "            if start_timings[start_pointer] >= end_timings[end_pointer]:\n",
    "                # Free up a room and increment the end_pointer.\n",
    "                used_rooms -= 1\n",
    "                end_pointer += 1\n",
    "\n",
    "            # We do this irrespective of whether a room frees up or not.\n",
    "            # If a room got free, then this used_rooms += 1 wouldn't have any effect. used_rooms would\n",
    "            # remain the same in that case. If no room was free, then this would increase used_rooms\n",
    "            used_rooms += 1    \n",
    "            start_pointer += 1   \n",
    "\n",
    "        return used_rooms"
   ]
  },
  {
   "cell_type": "code",
   "execution_count": 6,
   "metadata": {},
   "outputs": [
    {
     "data": {
      "text/plain": [
       "2"
      ]
     },
     "execution_count": 6,
     "metadata": {},
     "output_type": "execute_result"
    }
   ],
   "source": [
    "instance = Solution()\n",
    "instance.minMeetingRooms([[2,15],[36,45],[9,29],[16,23],[4,9]])"
   ]
  }
 ],
 "metadata": {
  "kernelspec": {
   "display_name": "Python 3",
   "language": "python",
   "name": "python3"
  },
  "language_info": {
   "codemirror_mode": {
    "name": "ipython",
    "version": 3
   },
   "file_extension": ".py",
   "mimetype": "text/x-python",
   "name": "python",
   "nbconvert_exporter": "python",
   "pygments_lexer": "ipython3",
   "version": "3.7.3"
  }
 },
 "nbformat": 4,
 "nbformat_minor": 2
}
