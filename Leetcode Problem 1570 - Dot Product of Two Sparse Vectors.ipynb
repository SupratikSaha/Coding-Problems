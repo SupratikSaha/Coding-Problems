{
 "cells": [
  {
   "cell_type": "markdown",
   "metadata": {},
   "source": [
    "Problem Statement.\n",
    "\n",
    "Given two sparse vectors, compute their dot product.\n",
    "\n",
    "Implement class SparseVector:\n",
    "\n",
    "    SparseVector(nums) Initializes the object with the vector nums\n",
    "    dotProduct(vec) Compute the dot product between the instance of SparseVector and vec\n",
    "\n",
    "A sparse vector is a vector that has mostly zero values, you should store the sparse vector efficiently and compute the dot product between two SparseVector.\n",
    "\n",
    "Follow up: What if only one of the vectors is sparse?\n",
    "\n",
    " \n",
    "\n",
    "Example 1:\n",
    "\n",
    "Input: nums1 = [1,0,0,2,3], nums2 = [0,3,0,4,0]\n",
    "Output: 8\n",
    "Explanation: v1 = SparseVector(nums1) , v2 = SparseVector(nums2)\n",
    "v1.dotProduct(v2) = 1*0 + 0*3 + 0*0 + 2*4 + 3*0 = 8\n",
    "\n",
    "Example 2:\n",
    "\n",
    "Input: nums1 = [0,1,0,0,0], nums2 = [0,0,0,0,2]\n",
    "Output: 0\n",
    "Explanation: v1 = SparseVector(nums1) , v2 = SparseVector(nums2)\n",
    "v1.dotProduct(v2) = 0*0 + 1*0 + 0*0 + 0*0 + 0*2 = 0\n",
    "\n",
    "Example 3:\n",
    "\n",
    "Input: nums1 = [0,1,0,0,2,0,0], nums2 = [1,0,0,0,3,0,4]\n",
    "Output: 6\n",
    "\n",
    " \n",
    "\n",
    "Constraints:\n",
    "\n",
    "    n == nums1.length == nums2.length\n",
    "    1 <= n <= 10^5\n",
    "    0 <= nums1[i], nums2[i] <= 100"
   ]
  },
  {
   "cell_type": "markdown",
   "metadata": {},
   "source": [
    "# List - O(N) init, O(N) dotProduct runtime, O(N) space"
   ]
  },
  {
   "cell_type": "code",
   "execution_count": 1,
   "metadata": {},
   "outputs": [],
   "source": [
    "from typing import List\n",
    "\n",
    "class SparseVector:\n",
    "    def __init__(self, nums):\n",
    "        self.array = nums\n",
    "\n",
    "    def dotProduct(self, vec):\n",
    "        result = 0\n",
    "        for num1, num2 in zip(self.array, vec.array):\n",
    "            result += num1 * num2\n",
    "        return result"
   ]
  },
  {
   "cell_type": "markdown",
   "metadata": {},
   "source": [
    "# Hash Table - O(N) init, O(L) dotProduct runtime, O(L) space, where L is the number of non-zero elements"
   ]
  },
  {
   "cell_type": "code",
   "execution_count": 2,
   "metadata": {},
   "outputs": [],
   "source": [
    "from typing import List\n",
    "\n",
    "class SparseVector:\n",
    "    def __init__(self, nums: List[int]):\n",
    "        self.indexDict = {}\n",
    "        for i, num in enumerate(nums):\n",
    "            if num: self.indexDict[i] = num\n",
    "\n",
    "    # Return the dotProduct of two sparse vectors\n",
    "    def dotProduct(self, vec: 'SparseVector') -> int:\n",
    "        res = 0\n",
    "        for i, num in self.indexDict.items():\n",
    "            if i in vec.indexDict:\n",
    "                res += num * vec.indexDict[i]\n",
    "                \n",
    "        return res"
   ]
  },
  {
   "cell_type": "code",
   "execution_count": 3,
   "metadata": {},
   "outputs": [
    {
     "name": "stdout",
     "output_type": "stream",
     "text": [
      "6\n"
     ]
    }
   ],
   "source": [
    "# Your SparseVector object will be instantiated and called as such:\n",
    "v1 = SparseVector([0,1,0,0,2,0,0])\n",
    "v2 = SparseVector([1,0,0,0,3,0,4])\n",
    "ans = v1.dotProduct(v2)\n",
    "print(ans)"
   ]
  }
 ],
 "metadata": {
  "kernelspec": {
   "display_name": "Python 3",
   "language": "python",
   "name": "python3"
  },
  "language_info": {
   "codemirror_mode": {
    "name": "ipython",
    "version": 3
   },
   "file_extension": ".py",
   "mimetype": "text/x-python",
   "name": "python",
   "nbconvert_exporter": "python",
   "pygments_lexer": "ipython3",
   "version": "3.7.3"
  }
 },
 "nbformat": 4,
 "nbformat_minor": 2
}
