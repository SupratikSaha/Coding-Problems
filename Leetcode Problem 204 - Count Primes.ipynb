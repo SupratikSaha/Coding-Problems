{
 "cells": [
  {
   "cell_type": "markdown",
   "metadata": {},
   "source": [
    "Problem Statement. <br/>\n",
    "\n",
    "Count the number of prime numbers less than a non-negative number, n. <br/>\n",
    "\n",
    "Example 1: <br/>\n",
    "Input: n = 10 <br/>\n",
    "Output: 4 <br/>\n",
    "Explanation: There are 4 prime numbers less than 10, they are 2, 3, 5, 7. <br/>\n",
    "\n",
    "Example 2: <br/>\n",
    "Input: n = 0 <br/>\n",
    "Output: 0 <br/>\n",
    "\n",
    "Example 3: <br/>\n",
    "Input: n = 1 <br/>\n",
    "Output: 0"
   ]
  },
  {
   "cell_type": "markdown",
   "metadata": {},
   "source": [
    "# Brute Force - O(N ^ 2) runtime, O(N) space"
   ]
  },
  {
   "cell_type": "code",
   "execution_count": 3,
   "metadata": {},
   "outputs": [],
   "source": [
    "class Solution:\n",
    "    def countPrimes(self, n: int) -> int:\n",
    "        if n in (0, 1):\n",
    "            return 0\n",
    "        \n",
    "        self.primes = []\n",
    "        result = 0\n",
    "        for num in range(2, n):\n",
    "            if self.isPrime(num):\n",
    "                self.primes.append(num)\n",
    "                result += 1\n",
    "        \n",
    "        return result\n",
    "    \n",
    "    def isPrime(self, num: int) -> bool:\n",
    "        for div in self.primes:\n",
    "            if num % div == 0:\n",
    "                return False\n",
    "            \n",
    "        return True"
   ]
  },
  {
   "cell_type": "markdown",
   "metadata": {},
   "source": [
    "# Erastothenes's Sieve -  O(n log log n) runtime, O(n) space"
   ]
  },
  {
   "cell_type": "code",
   "execution_count": 5,
   "metadata": {},
   "outputs": [],
   "source": [
    "class Solution:\n",
    "    def countPrimes(self, n: int) -> int:\n",
    "        sieve = [False]*2 + [True]*(n - 2)\n",
    "        i = 2\n",
    "        while i*i < n:\n",
    "            if sieve[i]:\n",
    "                for j in range(i*i,n,i):\n",
    "                    sieve[j] = False\n",
    "            i += 1\n",
    "        return sieve.count(True)"
   ]
  },
  {
   "cell_type": "code",
   "execution_count": 6,
   "metadata": {},
   "outputs": [
    {
     "data": {
      "text/plain": [
       "25"
      ]
     },
     "execution_count": 6,
     "metadata": {},
     "output_type": "execute_result"
    }
   ],
   "source": [
    "instance = Solution()\n",
    "instance.countPrimes(100)"
   ]
  }
 ],
 "metadata": {
  "kernelspec": {
   "display_name": "Python 3",
   "language": "python",
   "name": "python3"
  },
  "language_info": {
   "codemirror_mode": {
    "name": "ipython",
    "version": 3
   },
   "file_extension": ".py",
   "mimetype": "text/x-python",
   "name": "python",
   "nbconvert_exporter": "python",
   "pygments_lexer": "ipython3",
   "version": "3.7.3"
  }
 },
 "nbformat": 4,
 "nbformat_minor": 2
}
