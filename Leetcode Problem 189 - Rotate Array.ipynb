{
 "cells": [
  {
   "cell_type": "markdown",
   "metadata": {},
   "source": [
    "Problem Statement. <br/>\n",
    "\n",
    "Given an array, rotate the array to the right by k steps, where k is non-negative. <br/>\n",
    "\n",
    "Follow up: <br/>\n",
    "\n",
    "    Try to come up as many solutions as you can, there are at least 3 different ways to solve this problem.\n",
    "    Could you do it in-place with O(1) extra space?\n",
    "\n",
    "Example 1: <br/>\n",
    "Input: nums = [1,2,3,4,5,6,7], k = 3 <br/>\n",
    "Output: [5,6,7,1,2,3,4] <br/>\n",
    "Explanation: <br/>\n",
    "rotate 1 steps to the right: [7,1,2,3,4,5,6] <br/>\n",
    "rotate 2 steps to the right: [6,7,1,2,3,4,5] <br/>\n",
    "rotate 3 steps to the right: [5,6,7,1,2,3,4] <br/>\n",
    "\n",
    "Example 2: <br/>\n",
    "Input: nums = [-1,-100,3,99], k = 2 <br/>\n",
    "Output: [3,99,-1,-100] <br/>\n",
    "Explanation: <br/>\n",
    "rotate 1 steps to the right: [99,-1,-100,3] <br/>\n",
    "rotate 2 steps to the right: [3,99,-1,-100]"
   ]
  },
  {
   "cell_type": "markdown",
   "metadata": {},
   "source": [
    "# Brute Force - O(N * (K % N)) runtime, O(1) space"
   ]
  },
  {
   "cell_type": "code",
   "execution_count": 1,
   "metadata": {},
   "outputs": [],
   "source": [
    "from typing import List\n",
    "\n",
    "class Solution:\n",
    "    def rotate(self, nums: List[int], k: int) -> None:\n",
    "        \"\"\"\n",
    "        Do not return anything, modify nums in-place instead.\n",
    "        \"\"\"\n",
    "        n = len(nums)\n",
    "        k = k % n\n",
    "        \n",
    "        for i in range(k):\n",
    "            prev = nums[0]\n",
    "            for j in range(1, n):\n",
    "                nums[j], prev = prev, nums[j]\n",
    "            nums[0] = prev\n",
    "            \n",
    "        return nums"
   ]
  },
  {
   "cell_type": "markdown",
   "metadata": {},
   "source": [
    "# Deque - O(N) runtime, O(K % N) space"
   ]
  },
  {
   "cell_type": "code",
   "execution_count": 2,
   "metadata": {},
   "outputs": [],
   "source": [
    "from typing import List\n",
    "from collections import deque\n",
    "\n",
    "class Solution:\n",
    "    def rotate(self, nums: List[int], k: int) -> None:\n",
    "        \"\"\"\n",
    "        Do not return anything, modify nums in-place instead.\n",
    "        \"\"\"\n",
    "        \n",
    "        n = len(nums)\n",
    "        k = k % n\n",
    "        \n",
    "        if k == 0:\n",
    "            return nums\n",
    "        \n",
    "        queue = deque()\n",
    "        \n",
    "        for i in range(k):\n",
    "            queue.append(nums[i])\n",
    "            nums[i] = nums[n-k+i]\n",
    "            \n",
    "        for i in range(k, n):\n",
    "            val = queue.popleft()\n",
    "            queue.append(nums[i])\n",
    "            nums[i] = val\n",
    "            \n",
    "        return nums"
   ]
  },
  {
   "cell_type": "markdown",
   "metadata": {},
   "source": [
    "# Cyclic Replacements - O(N) runtime, O(1) space"
   ]
  },
  {
   "cell_type": "code",
   "execution_count": 3,
   "metadata": {},
   "outputs": [],
   "source": [
    "from typing import List\n",
    "\n",
    "class Solution:\n",
    "    def rotate(self, nums: List[int], k: int) -> None:\n",
    "        \"\"\"\n",
    "        Do not return anything, modify nums in-place instead.\n",
    "        \"\"\"\n",
    "        \n",
    "        n = len(nums)\n",
    "        k %= n\n",
    "        \n",
    "        start = count = 0\n",
    "        while count < n:\n",
    "            current, prev = start, nums[start]\n",
    "            while True:\n",
    "                next_idx = (current + k) % n\n",
    "                nums[next_idx], prev = prev, nums[next_idx]\n",
    "                current = next_idx\n",
    "                count += 1\n",
    "                \n",
    "                if start == current:\n",
    "                    break\n",
    "            start += 1\n",
    "            \n",
    "        return nums"
   ]
  },
  {
   "cell_type": "markdown",
   "metadata": {},
   "source": [
    "# Using Reverse - O(N) runtime, O(1) space"
   ]
  },
  {
   "cell_type": "code",
   "execution_count": 4,
   "metadata": {},
   "outputs": [],
   "source": [
    "from typing import List\n",
    "\n",
    "class Solution:          \n",
    "    def rotate(self, nums: List[int], k: int) -> None:\n",
    "        \"\"\"\n",
    "        Do not return anything, modify nums in-place instead.\n",
    "        \"\"\"\n",
    "        n = len(nums)\n",
    "        k %= n\n",
    "\n",
    "        self.reverse(nums, 0, n - 1)\n",
    "        self.reverse(nums, 0, k - 1)\n",
    "        self.reverse(nums, k, n - 1)\n",
    "        \n",
    "        return nums\n",
    "        \n",
    "    def reverse(self, nums: list, start: int, end: int) -> None:\n",
    "        while start < end:\n",
    "            nums[start], nums[end] = nums[end], nums[start]\n",
    "            start, end = start + 1, end - 1"
   ]
  },
  {
   "cell_type": "code",
   "execution_count": 5,
   "metadata": {},
   "outputs": [],
   "source": [
    "instance = Solution()\n",
    "instance.rotate([1,2,3,4,5,6,7], 3)"
   ]
  }
 ],
 "metadata": {
  "kernelspec": {
   "display_name": "Python 3",
   "language": "python",
   "name": "python3"
  },
  "language_info": {
   "codemirror_mode": {
    "name": "ipython",
    "version": 3
   },
   "file_extension": ".py",
   "mimetype": "text/x-python",
   "name": "python",
   "nbconvert_exporter": "python",
   "pygments_lexer": "ipython3",
   "version": "3.7.3"
  }
 },
 "nbformat": 4,
 "nbformat_minor": 2
}
