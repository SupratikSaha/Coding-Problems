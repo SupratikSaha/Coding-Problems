{
 "cells": [
  {
   "cell_type": "code",
   "execution_count": 9,
   "metadata": {},
   "outputs": [],
   "source": [
    "class Solution:\n",
    "    def isPowerOfTwo(self, n):\n",
    "        \n",
    "        if not isinstance(n,(int)):\n",
    "            return False\n",
    "        \n",
    "        if n <= 0:\n",
    "            return False\n",
    "        \n",
    "        while n % 2 == 0:\n",
    "            n = n / 2\n",
    "            \n",
    "        if n == 1:\n",
    "            return True\n",
    "        else:\n",
    "            return False \n",
    "        #A power of two number in binary has a single 1        \n",
    "        #return bin(n).count('1') == 1"
   ]
  },
  {
   "cell_type": "code",
   "execution_count": 12,
   "metadata": {},
   "outputs": [
    {
     "data": {
      "text/plain": [
       "False"
      ]
     },
     "execution_count": 12,
     "metadata": {},
     "output_type": "execute_result"
    }
   ],
   "source": [
    "Instance = Solution()\n",
    "Instance.isPowerOfTwo(130)"
   ]
  }
 ],
 "metadata": {
  "kernelspec": {
   "display_name": "Python 3",
   "language": "python",
   "name": "python3"
  },
  "language_info": {
   "codemirror_mode": {
    "name": "ipython",
    "version": 3
   },
   "file_extension": ".py",
   "mimetype": "text/x-python",
   "name": "python",
   "nbconvert_exporter": "python",
   "pygments_lexer": "ipython3",
   "version": "3.7.3"
  }
 },
 "nbformat": 4,
 "nbformat_minor": 2
}
