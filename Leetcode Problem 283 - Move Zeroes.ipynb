{
 "cells": [
  {
   "cell_type": "markdown",
   "metadata": {},
   "source": [
    "Problem Statement. <br/>\n",
    "\n",
    "Given an array nums, write a function to move all 0's to the end of it while maintaining the relative order of the non-zero elements. <br/>\n",
    "\n",
    "Example: <br/>\n",
    "Input: [0,1,0,3,12] <br/>\n",
    "Output: [1,3,12,0,0] <br/>\n",
    "\n",
    "Note: <br/>\n",
    "    You must do this in-place without making a copy of the array. <br/>\n",
    "    Minimize the total number of operations."
   ]
  },
  {
   "cell_type": "markdown",
   "metadata": {},
   "source": [
    "# List - O(N) runtime, O(N) space"
   ]
  },
  {
   "cell_type": "code",
   "execution_count": 1,
   "metadata": {},
   "outputs": [],
   "source": [
    "from typing import List\n",
    "\n",
    "class Solution:\n",
    "    def moveZeroes(self, nums: List[int]) -> None:\n",
    "        \"\"\"\n",
    "        Do not return anything, modify nums in-place instead.\n",
    "        \"\"\"\n",
    "        len_nums = len(nums)\n",
    "        zero_index = []\n",
    "        for i, num in enumerate(nums):\n",
    "            if num == 0:\n",
    "                zero_index.append(i)\n",
    "        \n",
    "        i, n = 0, len(zero_index)\n",
    "        for i in range(n):\n",
    "            idx_left = zero_index[i]\n",
    "            idx_right = zero_index[i + 1] if i < n - 1 else len_nums\n",
    "            for j in range(idx_left + 1, idx_right):\n",
    "                nums[j - i - 1] = nums[j]\n",
    "                \n",
    "        for i in range(len_nums - n, len_nums):\n",
    "            nums[i] = 0\n",
    "            \n",
    "        return nums"
   ]
  },
  {
   "cell_type": "markdown",
   "metadata": {},
   "source": [
    "# Two Pass - O(N) runtime, O(1) space"
   ]
  },
  {
   "cell_type": "code",
   "execution_count": 2,
   "metadata": {},
   "outputs": [],
   "source": [
    "from typing import List\n",
    "\n",
    "class Solution:\n",
    "    def moveZeroes(self, nums: List[int]) -> None:\n",
    "        \"\"\"\n",
    "        Do not return anything, modify nums in-place instead.\n",
    "        \"\"\"\n",
    "        len_nums = len(nums)\n",
    "        num_zeros = 0\n",
    "        idx = -1\n",
    "        for i, num in enumerate(nums):\n",
    "            if num == 0:\n",
    "                num_zeros += 1\n",
    "                idx = i    \n",
    "            elif num_zeros > 0:\n",
    "                nums[i - num_zeros] = nums[i]\n",
    "\n",
    "        for i in range(len_nums - num_zeros, len_nums):\n",
    "            nums[i] = 0\n",
    "            \n",
    "        return nums"
   ]
  },
  {
   "cell_type": "markdown",
   "metadata": {},
   "source": [
    "# One Pass - O(N) runtime, O(1) space"
   ]
  },
  {
   "cell_type": "code",
   "execution_count": 3,
   "metadata": {},
   "outputs": [],
   "source": [
    "from typing import List\n",
    "\n",
    "class Solution:\n",
    "    def moveZeroes(self, nums: List[int]) -> None:\n",
    "        \"\"\"\n",
    "        Do not return anything, modify nums in-place instead.\n",
    "        \"\"\"\n",
    "        len_nums = len(nums)\n",
    "        lastNonZeroFoundAt = 0\n",
    " \n",
    "        for i, num in enumerate(nums):\n",
    "            if num != 0:\n",
    "                nums[lastNonZeroFoundAt], nums[i] = nums[i], nums[lastNonZeroFoundAt]\n",
    "                lastNonZeroFoundAt += 1\n",
    "                \n",
    "        return nums"
   ]
  },
  {
   "cell_type": "code",
   "execution_count": 4,
   "metadata": {},
   "outputs": [
    {
     "data": {
      "text/plain": [
       "[1, 3, 12, 0, 0]"
      ]
     },
     "execution_count": 4,
     "metadata": {},
     "output_type": "execute_result"
    }
   ],
   "source": [
    "instance = Solution()\n",
    "instance.moveZeroes([0,1,0,3,12])"
   ]
  }
 ],
 "metadata": {
  "kernelspec": {
   "display_name": "Python 3",
   "language": "python",
   "name": "python3"
  },
  "language_info": {
   "codemirror_mode": {
    "name": "ipython",
    "version": 3
   },
   "file_extension": ".py",
   "mimetype": "text/x-python",
   "name": "python",
   "nbconvert_exporter": "python",
   "pygments_lexer": "ipython3",
   "version": "3.7.3"
  }
 },
 "nbformat": 4,
 "nbformat_minor": 2
}
