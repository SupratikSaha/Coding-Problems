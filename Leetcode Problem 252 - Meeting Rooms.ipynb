{
 "cells": [
  {
   "cell_type": "markdown",
   "metadata": {},
   "source": [
    "Given an array of meeting time intervals consisting of start and end times [[s1,e1],[s2,e2],...] (si < ei), determine if a person could attend all meetings.\n",
    "\n",
    "Example 1:\n",
    "\n",
    "Input: [[0,30],[5,10],[15,20]]\n",
    "Output: false\n",
    "\n",
    "Example 2:\n",
    "\n",
    "Input: [[7,10],[2,4]]\n",
    "Output: true"
   ]
  },
  {
   "cell_type": "markdown",
   "metadata": {},
   "source": [
    "# Brute Force - O(n ^ 2) runtime, O(1) space"
   ]
  },
  {
   "cell_type": "code",
   "execution_count": 4,
   "metadata": {},
   "outputs": [],
   "source": [
    "from typing import List\n",
    "\n",
    "class Solution:\n",
    "    def canAttendMeetings(self, intervals: List[List[int]]) -> bool:\n",
    "        \n",
    "        for i in range(len(intervals)):\n",
    "            for j in range(i + 1, len(intervals)):\n",
    "                if self.overlap(intervals[i], intervals[j]):\n",
    "                    return False\n",
    "                \n",
    "        return True\n",
    "                \n",
    "    def overlap(self, i1: List[List[int]], i2: List[List[int]]) -> bool:\n",
    "        \n",
    "            return ((i1[0] >= i2[0] and i1[0] < i2[1]) or (i2[0] >= i1[0] and i2[0] < i1[1]))"
   ]
  },
  {
   "cell_type": "markdown",
   "metadata": {},
   "source": [
    "# Sorting on the second part of interval - O(n * log n) runtime, O(1) space"
   ]
  },
  {
   "cell_type": "code",
   "execution_count": 2,
   "metadata": {},
   "outputs": [],
   "source": [
    "from typing import List\n",
    "\n",
    "class Solution:\n",
    "    def canAttendMeetings(self, intervals: List[List[int]]) -> bool:\n",
    "        \n",
    "        if not intervals:\n",
    "            return True\n",
    "        \n",
    "        intervals = sorted(intervals, key=lambda x: x[1])\n",
    "        right = intervals[0][1]\n",
    "        \n",
    "        for i in range(1, len(intervals)):\n",
    "            if right > intervals[i][0]:\n",
    "                return False\n",
    "            right = intervals[i][1]\n",
    "            \n",
    "        return True"
   ]
  },
  {
   "cell_type": "code",
   "execution_count": 5,
   "metadata": {},
   "outputs": [
    {
     "data": {
      "text/plain": [
       "True"
      ]
     },
     "execution_count": 5,
     "metadata": {},
     "output_type": "execute_result"
    }
   ],
   "source": [
    "instance = Solution()\n",
    "instance.canAttendMeetings([[[0,30],[5,10],[15,20]]])"
   ]
  }
 ],
 "metadata": {
  "kernelspec": {
   "display_name": "Python 3",
   "language": "python",
   "name": "python3"
  },
  "language_info": {
   "codemirror_mode": {
    "name": "ipython",
    "version": 3
   },
   "file_extension": ".py",
   "mimetype": "text/x-python",
   "name": "python",
   "nbconvert_exporter": "python",
   "pygments_lexer": "ipython3",
   "version": "3.7.3"
  }
 },
 "nbformat": 4,
 "nbformat_minor": 2
}
