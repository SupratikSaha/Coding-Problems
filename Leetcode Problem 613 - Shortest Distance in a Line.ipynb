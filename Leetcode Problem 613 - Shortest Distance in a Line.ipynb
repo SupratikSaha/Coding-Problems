{
 "cells": [
  {
   "cell_type": "markdown",
   "metadata": {},
   "source": [
    "    Problem Statement.\n",
    "\n",
    "    Table point holds the x coordinate of some points on x-axis in a plane, which are all integers.\n",
    "\n",
    "\n",
    "    Write a query to find the shortest distance between two points in these points.\n",
    "\n",
    "\n",
    "\n",
    "    | x   |\n",
    "    |-----|\n",
    "    | -1  |\n",
    "    | 0   |\n",
    "    | 2   |\n",
    "\n",
    "\n",
    "    The shortest distance is '1' obviously, which is from point '-1' to '0'. So the output is as below:\n",
    "\n",
    "\n",
    "\n",
    "    | shortest|\n",
    "    |---------|\n",
    "    | 1       |\n",
    "\n",
    "\n",
    "    Note: Every point is unique, which means there is no duplicates in table point.\n",
    "\n",
    "\n",
    "    Follow-up: What if all these points have an id and are arranged from the left most to the right most of x axis?"
   ]
  },
  {
   "cell_type": "markdown",
   "metadata": {},
   "source": [
    "# Outer Join"
   ]
  },
  {
   "cell_type": "code",
   "execution_count": null,
   "metadata": {},
   "outputs": [],
   "source": [
    "select min(abs(a.x - b.x)) as shortest\n",
    "from point a, point b\n",
    "where a.x != b.x"
   ]
  }
 ],
 "metadata": {
  "kernelspec": {
   "display_name": "Python 3",
   "language": "python",
   "name": "python3"
  },
  "language_info": {
   "codemirror_mode": {
    "name": "ipython",
    "version": 3
   },
   "file_extension": ".py",
   "mimetype": "text/x-python",
   "name": "python",
   "nbconvert_exporter": "python",
   "pygments_lexer": "ipython3",
   "version": "3.7.3"
  }
 },
 "nbformat": 4,
 "nbformat_minor": 2
}
