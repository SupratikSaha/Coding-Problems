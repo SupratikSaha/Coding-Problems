{
 "cells": [
  {
   "cell_type": "markdown",
   "metadata": {},
   "source": [
    "Problem Statement. <br/>\n",
    "\n",
    "We are given an array asteroids of integers representing asteroids in a row. <br/>\n",
    "For each asteroid, the absolute value represents its size, and the sign represents its direction (positive meaning right, negative meaning left). Each asteroid moves at the same speed. <br/>\n",
    "Find out the state of the asteroids after all collisions. If two asteroids meet, the smaller one will explode. If both are the same size, both will explode. Two asteroids moving in the same direction will never meet. <br/>\n",
    "\n",
    "Example 1: <br/>\n",
    "Input: asteroids = [5,10,-5] <br/>\n",
    "Output: [5,10] <br/>\n",
    "Explanation: The 10 and -5 collide resulting in 10. The 5 and 10 never collide. <br/>\n",
    "\n",
    "Example 2: <br/>\n",
    "Input: asteroids = [8,-8] <br/>\n",
    "Output: [] <br/>\n",
    "Explanation: The 8 and -8 collide exploding each other. <br/>\n",
    "\n",
    "Example 3: <br/>\n",
    "Input: asteroids = [10,2,-5] <br/>\n",
    "Output: [10] <br/>\n",
    "Explanation: The 2 and -5 collide resulting in -5. The 10 and -5 collide resulting in 10. <br/>\n",
    "\n",
    "Example 4: <br/>\n",
    "Input: asteroids = [-2,-1,1,2] <br/>\n",
    "Output: [-2,-1,1,2] <br/>\n",
    "Explanation: The -2 and -1 are moving left, while the 1 and 2 are moving right. Asteroids moving the same direction never meet, so no asteroids will meet each other. <br/>\n",
    "\n",
    " \n",
    "\n",
    "Constraints: <br/>\n",
    "    2 <= asteroids.length <= 104 <br/>\n",
    "    -1000 <= asteroids[i] <= 1000 <br/>\n",
    "    asteroids[i] != 0`m"
   ]
  },
  {
   "cell_type": "markdown",
   "metadata": {},
   "source": [
    "# Deque - O(N) runtime, O(N) space"
   ]
  },
  {
   "cell_type": "code",
   "execution_count": 1,
   "metadata": {},
   "outputs": [],
   "source": [
    "from typing import List\n",
    "from collections import deque\n",
    "\n",
    "class Solution:\n",
    "    def asteroidCollision(self, asteroids: List[int]) -> List[int]:\n",
    "        \n",
    "        res = deque()\n",
    "        \n",
    "        i = len(asteroids) - 1\n",
    "        while i >= 0:\n",
    "            if len(res) >= 1 and res[0] < 0 and asteroids[i] > 0:\n",
    "                if -res[0] < asteroids[i]:\n",
    "                    res.popleft()\n",
    "                    res.appendleft(asteroids[i])\n",
    "                    while len(res) >= 2 and res[1] < 0 and res[0] > 0:\n",
    "                        left = res.popleft()\n",
    "                        if -res[0] < left:   \n",
    "                            res.popleft()\n",
    "                            res.appendleft(left)\n",
    "                        elif -res[0] == left:\n",
    "                            res.popleft()\n",
    "                        \n",
    "                elif -res[0] == asteroids[i]:\n",
    "                    res.popleft()\n",
    "                    \n",
    "            else: res.appendleft(asteroids[i])\n",
    "            i -= 1\n",
    "        \n",
    "        return res"
   ]
  },
  {
   "cell_type": "markdown",
   "metadata": {},
   "source": [
    "# Stack - O(N) runtime, O(N) space"
   ]
  },
  {
   "cell_type": "code",
   "execution_count": 3,
   "metadata": {},
   "outputs": [],
   "source": [
    "from typing import List\n",
    "\n",
    "class Solution:\n",
    "    def asteroidCollision(self, asteroids: List[int]) -> List[int]:\n",
    "        \n",
    "        ans = []\n",
    "        for new in asteroids:\n",
    "            while ans and new < 0 < ans[-1]:\n",
    "                if ans[-1] < -new:\n",
    "                    ans.pop()\n",
    "                    continue\n",
    "                elif ans[-1] == -new:\n",
    "                    ans.pop()\n",
    "                break\n",
    "            else:\n",
    "                ans.append(new)\n",
    "        return ans"
   ]
  },
  {
   "cell_type": "code",
   "execution_count": 4,
   "metadata": {},
   "outputs": [
    {
     "data": {
      "text/plain": [
       "[-2]"
      ]
     },
     "execution_count": 4,
     "metadata": {},
     "output_type": "execute_result"
    }
   ],
   "source": [
    "instance = Solution()\n",
    "instance.asteroidCollision([-2,2,-1,-2])"
   ]
  }
 ],
 "metadata": {
  "kernelspec": {
   "display_name": "Python 3",
   "language": "python",
   "name": "python3"
  },
  "language_info": {
   "codemirror_mode": {
    "name": "ipython",
    "version": 3
   },
   "file_extension": ".py",
   "mimetype": "text/x-python",
   "name": "python",
   "nbconvert_exporter": "python",
   "pygments_lexer": "ipython3",
   "version": "3.7.3"
  }
 },
 "nbformat": 4,
 "nbformat_minor": 2
}
