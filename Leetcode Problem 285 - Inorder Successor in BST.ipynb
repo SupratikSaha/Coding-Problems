{
 "cells": [
  {
   "cell_type": "markdown",
   "metadata": {},
   "source": [
    "Problem Statement. <br/>\n",
    "\n",
    "Given a binary search tree and a node in it, find the in-order successor of that node in the BST. <br/>\n",
    "The successor of a node p is the node with the smallest key greater than p.val. <br/>\n",
    "\n",
    "Example 1: <br/>\n",
    "Input: root = [2,1,3], p = 1 <br/>\n",
    "Output: 2 <br/>\n",
    "Explanation: 1's in-order successor node is 2. Note that both p and the return value is of TreeNode type. <br/>\n",
    "\n",
    "Example 2: <br/>\n",
    "Input: root = [5,3,6,2,4,null,null,1], p = 6 <br/>\n",
    "Output: null <br/>\n",
    "Explanation: There is no in-order successor of the current node, so the answer is null."
   ]
  },
  {
   "cell_type": "markdown",
   "metadata": {},
   "source": [
    "# Iteraive DFS - O(H) runtime, O(log H) space where H is the tree height"
   ]
  },
  {
   "cell_type": "code",
   "execution_count": 1,
   "metadata": {},
   "outputs": [],
   "source": [
    "# Definition for a binary tree node.\n",
    "# class TreeNode:\n",
    "#     def __init__(self, x):\n",
    "#         self.val = x\n",
    "#         self.left = None\n",
    "#         self.right = None\n",
    "\n",
    "class Solution:\n",
    "    def inorderSuccessor(self, root: 'TreeNode', p: 'TreeNode') -> 'TreeNode':\n",
    "        \n",
    "        if p.right:\n",
    "            p = p.right\n",
    "            while p.left:\n",
    "                p = p.left\n",
    "            \n",
    "            return p\n",
    "        \n",
    "        stack = deque()\n",
    "        while root:\n",
    "            if p == root:\n",
    "                break\n",
    "            stack.append(root)\n",
    "            if p.val < root.val:\n",
    "                root = root.left\n",
    "            else:\n",
    "                root = root.right\n",
    "        \n",
    "        if stack and p == stack[-1].left:\n",
    "            return stack[-1]\n",
    "        if stack and p == stack[-1].right:\n",
    "            while stack:\n",
    "                currNode = stack.pop()\n",
    "                if currNode.val > p.val:\n",
    "                    return currNode\n",
    "\n",
    "            return None"
   ]
  },
  {
   "cell_type": "markdown",
   "metadata": {},
   "source": [
    "# In Order Succesor DFS - O(H) runtime, O(log H) space where H is the tree height"
   ]
  },
  {
   "cell_type": "code",
   "execution_count": 2,
   "metadata": {},
   "outputs": [],
   "source": [
    "class Solution:\n",
    "    def inorderSuccessor(self, root: 'TreeNode', p: 'TreeNode') -> 'TreeNode':\n",
    "        # the successor is somewhere lower in the right subtree\n",
    "        # successor: one step right and then left till you can\n",
    "        if p.right:\n",
    "            p = p.right\n",
    "            while p.left:\n",
    "                p = p.left\n",
    "            return p\n",
    "        \n",
    "        # the successor is somewhere upper in the tree\n",
    "        stack, inorder = [], float('-inf')\n",
    "        \n",
    "        # inorder traversal : left -> node -> right\n",
    "        while stack or root:\n",
    "            # 1. go left till you can\n",
    "            while root:\n",
    "                stack.append(root)\n",
    "                root = root.left\n",
    "                \n",
    "            # 2. all logic around the node\n",
    "            root = stack.pop()\n",
    "            if inorder == p.val:    # if the previous node was equal to p\n",
    "                return root         # then the current node is its successor\n",
    "            inorder = root.val\n",
    "            \n",
    "            # 3. go one step right\n",
    "            root = root.right\n",
    "\n",
    "        # there is no successor\n",
    "        return None"
   ]
  },
  {
   "cell_type": "markdown",
   "metadata": {},
   "source": [
    "# In Order Succesor DFS - O(H) runtime, O(1) space where H is the tree height"
   ]
  },
  {
   "cell_type": "code",
   "execution_count": 3,
   "metadata": {},
   "outputs": [],
   "source": [
    "class Solution:\n",
    "    def inorderSuccessor(self, root: 'TreeNode', p: 'TreeNode') -> 'TreeNode':\n",
    "        if p.right:\n",
    "            successor = p.right\n",
    "            while successor.left:\n",
    "                successor = successor.left\n",
    "            return successor\n",
    "        \n",
    "        '''InputNode doesn’t have a right child. \n",
    "           In this case successorNode would be one of inputNode's ancestors. \n",
    "           More specifically, within inputNode's ancestor chain (starting from inputNode all            \n",
    "           the way up to the root), successorNode is the first parent that has a left child            \n",
    "           in that chain.\n",
    "        '''\n",
    "        successor = None\n",
    "        while root:\n",
    "            if root.val == p.val:\n",
    "                break\n",
    "            if root.val < p.val:\n",
    "                root = root.right\n",
    "            else:\n",
    "                successor = root\n",
    "                root = root.left\n",
    "                \n",
    "        return successor"
   ]
  }
 ],
 "metadata": {
  "kernelspec": {
   "display_name": "Python 3",
   "language": "python",
   "name": "python3"
  },
  "language_info": {
   "codemirror_mode": {
    "name": "ipython",
    "version": 3
   },
   "file_extension": ".py",
   "mimetype": "text/x-python",
   "name": "python",
   "nbconvert_exporter": "python",
   "pygments_lexer": "ipython3",
   "version": "3.7.3"
  }
 },
 "nbformat": 4,
 "nbformat_minor": 2
}
