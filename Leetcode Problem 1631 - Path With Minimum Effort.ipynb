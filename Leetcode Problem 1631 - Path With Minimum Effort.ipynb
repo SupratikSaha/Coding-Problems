{
 "cells": [
  {
   "cell_type": "markdown",
   "metadata": {},
   "source": [
    "    Problem Statement.\n",
    "\n",
    "    You are a hiker preparing for an upcoming hike. You are given heights, a 2D array of size rows x columns, where heights[row][col] represents the height of cell (row, col). You are situated in the top-left cell, (0, 0), and you hope to travel to the bottom-right cell, (rows-1, columns-1) (i.e., 0-indexed). You can move up, down, left, or right, and you wish to find a route that requires the minimum effort.\n",
    "\n",
    "    A route's effort is the maximum absolute difference in heights between two consecutive cells of the route.\n",
    "\n",
    "    Return the minimum effort required to travel from the top-left cell to the bottom-right cell.\n",
    "\n",
    "\n",
    "\n",
    "    Example 1:\n",
    "\n",
    "    Input: heights = [[1,2,2],[3,8,2],[5,3,5]]\n",
    "    Output: 2\n",
    "    Explanation: The route of [1,3,5,3,5] has a maximum absolute difference of 2 in consecutive cells.\n",
    "    This is better than the route of [1,2,2,2,5], where the maximum absolute difference is 3.\n",
    "\n",
    "    Example 2:\n",
    "\n",
    "    Input: heights = [[1,2,3],[3,8,4],[5,3,5]]\n",
    "    Output: 1\n",
    "    Explanation: The route of [1,2,3,4,5] has a maximum absolute difference of 1 in consecutive cells, which is better than route [1,3,5,3,5].\n",
    "\n",
    "    Example 3:\n",
    "\n",
    "    Input: heights = [[1,2,1,1,1],[1,2,1,2,1],[1,2,1,2,1],[1,2,1,2,1],[1,1,1,2,1]]\n",
    "    Output: 0\n",
    "    Explanation: This route does not require any effort.\n",
    "\n",
    "\n",
    "\n",
    "    Constraints:\n",
    "\n",
    "        rows == heights.length\n",
    "        columns == heights[i].length\n",
    "        1 <= rows, columns <= 100\n",
    "        1 <= heights[i][j] <= 106"
   ]
  },
  {
   "cell_type": "markdown",
   "metadata": {},
   "source": [
    "# Brute Force using Backtracking - O(3 ^ (M * N)) runtime, O(M * N) space"
   ]
  },
  {
   "cell_type": "code",
   "execution_count": 1,
   "metadata": {},
   "outputs": [],
   "source": [
    "from typing import List\n",
    "import math\n",
    "\n",
    "class Solution:\n",
    "    def minimumEffortPath(self, heights: List[List[int]]) -> int:\n",
    "        row = len(heights)\n",
    "        col = len(heights[0])\n",
    "        self.max_so_far = math.inf\n",
    "\n",
    "        def dfs(x, y, max_difference):\n",
    "            if x == row-1 and y == col-1:\n",
    "                self.max_so_far = min(self.max_so_far, max_difference)\n",
    "                return max_difference\n",
    "            current_height = heights[x][y]\n",
    "            heights[x][y] = 0\n",
    "            min_effort = math.inf\n",
    "            for dx, dy in [[0, 1], [1, 0], [0, -1], [-1, 0]]:\n",
    "                adjacent_x = x + dx\n",
    "                adjacent_y = y + dy\n",
    "                if 0 <= adjacent_x < row and 0 <= adjacent_y < col and heights[\n",
    "                        adjacent_x][adjacent_y] != 0:\n",
    "                    current_difference = abs(\n",
    "                        heights[adjacent_x][adjacent_y]-current_height)\n",
    "                    max_current_difference = max(\n",
    "                        max_difference, current_difference)\n",
    "                    if max_current_difference < self.max_so_far:\n",
    "                        result = dfs(adjacent_x, adjacent_y,\n",
    "                                     max_current_difference)\n",
    "                        min_effort = min(min_effort, result)\n",
    "            heights[x][y] = current_height\n",
    "            return min_effort\n",
    "\n",
    "        return dfs(0, 0, 0)"
   ]
  },
  {
   "cell_type": "markdown",
   "metadata": {},
   "source": [
    "# Variations of Dijkstra's Algorithm - O(M * N log(M * N)) runtime, O(M * N) space"
   ]
  },
  {
   "cell_type": "code",
   "execution_count": 2,
   "metadata": {},
   "outputs": [],
   "source": [
    "from typing import List\n",
    "import math\n",
    "import heapq\n",
    "\n",
    "class Solution:\n",
    "    def minimumEffortPath(self, heights: List[List[int]]) -> int:\n",
    "        row = len(heights)\n",
    "        col = len(heights[0])\n",
    "        difference_matrix = [[math.inf]*col for _ in range(row)]\n",
    "        difference_matrix[0][0] = 0\n",
    "        visited = [[False]*col for _ in range(row)]\n",
    "        queue = [(0, 0, 0)]  # difference, x, y\n",
    "        while queue:\n",
    "            difference, x, y = heapq.heappop(queue)\n",
    "            visited[x][y] = True\n",
    "            for dx, dy in [[0, 1], [1, 0], [0, -1], [-1, 0]]:\n",
    "                adjacent_x = x + dx\n",
    "                adjacent_y = y + dy\n",
    "                if 0 <= adjacent_x < row and 0 <= adjacent_y < col and not visited[\n",
    "                        adjacent_x][adjacent_y]:\n",
    "                    current_difference = abs(\n",
    "                        heights[adjacent_x][adjacent_y]-heights[x][y])\n",
    "                    max_difference = max(\n",
    "                        current_difference, difference_matrix[x][y])\n",
    "                    if difference_matrix[adjacent_x][adjacent_y] > max_difference:\n",
    "                        difference_matrix[adjacent_x][adjacent_y] = max_difference\n",
    "                        heapq.heappush(\n",
    "                            queue, (max_difference, adjacent_x, adjacent_y))\n",
    "        return difference_matrix[-1][-1]"
   ]
  },
  {
   "cell_type": "markdown",
   "metadata": {},
   "source": [
    "# Binary Search Using BFS - O(M * N) runtime, O(M * N) space"
   ]
  },
  {
   "cell_type": "code",
   "execution_count": 3,
   "metadata": {},
   "outputs": [],
   "source": [
    "from typing import List\n",
    "\n",
    "class Solution:\n",
    "    def minimumEffortPath(self, heights: List[List[int]]) -> int:\n",
    "        row = len(heights)\n",
    "        col = len(heights[0])\n",
    "\n",
    "        def canReachDestinaton(mid):\n",
    "            visited = [[False]*col for _ in range(row)]\n",
    "            queue = [(0, 0)]  # x, y\n",
    "            while queue:\n",
    "                x, y = queue.pop(0)\n",
    "                if x == row-1 and y == col-1:\n",
    "                    return True\n",
    "                visited[x][y] = True\n",
    "                for dx, dy in [[0, 1], [1, 0], [0, -1], [-1, 0]]:\n",
    "                    adjacent_x = x + dx\n",
    "                    adjacent_y = y + dy\n",
    "                    if 0 <= adjacent_x < row and 0 <= adjacent_y < col and not visited[adjacent_x][adjacent_y]:\n",
    "                        current_difference = abs(\n",
    "                            heights[adjacent_x][adjacent_y]-heights[x][y])\n",
    "                        if current_difference <= mid:\n",
    "                            visited[adjacent_x][adjacent_y] = True\n",
    "                            queue.append((adjacent_x, adjacent_y))\n",
    "\n",
    "        left = 0\n",
    "        right = 10000000\n",
    "        while left < right:\n",
    "            mid = (left + right)//2\n",
    "            if canReachDestinaton(mid):\n",
    "                right = mid\n",
    "            else:\n",
    "                left = mid + 1\n",
    "        return left"
   ]
  },
  {
   "cell_type": "markdown",
   "metadata": {},
   "source": [
    "# Binary Search Using DFS - O(M * N) runtime, O(M * N) space"
   ]
  },
  {
   "cell_type": "code",
   "execution_count": 4,
   "metadata": {},
   "outputs": [],
   "source": [
    "from typing import List\n",
    "\n",
    "class Solution:\n",
    "    def minimumEffortPath(self, heights: List[List[int]]) -> int:\n",
    "        row = len(heights)\n",
    "        col = len(heights[0])\n",
    "\n",
    "        def canReachDestinaton(x, y, mid):\n",
    "            if x == row-1 and y == col-1:\n",
    "                return True\n",
    "            visited[x][y] = True\n",
    "            for dx, dy in [[0, 1], [1, 0], [0, -1], [-1, 0]]:\n",
    "                adjacent_x = x + dx\n",
    "                adjacent_y = y + dy\n",
    "                if 0 <= adjacent_x < row and 0 <= adjacent_y < col and not visited[\n",
    "                        adjacent_x][adjacent_y]:\n",
    "                    current_difference = abs(\n",
    "                        heights[adjacent_x][adjacent_y]-heights[x][y])\n",
    "                    if current_difference <= mid:\n",
    "                        visited[adjacent_x][adjacent_y] = True\n",
    "                        if canReachDestinaton(adjacent_x, adjacent_y, mid):\n",
    "                            return True\n",
    "        left = 0\n",
    "        right = 10000000\n",
    "        while left < right:\n",
    "            mid = (left + right)//2\n",
    "            visited = [[False]*col for _ in range(row)]\n",
    "            if canReachDestinaton(0, 0, mid):\n",
    "                right = mid\n",
    "            else:\n",
    "                left = mid + 1\n",
    "        return left"
   ]
  },
  {
   "cell_type": "code",
   "execution_count": 5,
   "metadata": {},
   "outputs": [],
   "source": [
    "instance = Solution()\n",
    "instance.minimumEffortPath([[1,2,1,1,1],[1,2,1,2,1],[1,2,1,2,1],[1,2,1,2,1],[1,1,1,2,1]])"
   ]
  }
 ],
 "metadata": {
  "kernelspec": {
   "display_name": "Python 3",
   "language": "python",
   "name": "python3"
  },
  "language_info": {
   "codemirror_mode": {
    "name": "ipython",
    "version": 3
   },
   "file_extension": ".py",
   "mimetype": "text/x-python",
   "name": "python",
   "nbconvert_exporter": "python",
   "pygments_lexer": "ipython3",
   "version": "3.7.3"
  }
 },
 "nbformat": 4,
 "nbformat_minor": 2
}
