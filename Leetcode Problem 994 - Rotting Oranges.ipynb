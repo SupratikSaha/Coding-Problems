{
 "cells": [
  {
   "cell_type": "markdown",
   "metadata": {},
   "source": [
    "    Problem Statement\n",
    "\n",
    "    You are given an m x n grid where each cell can have one of three values:\n",
    "\n",
    "        0 representing an empty cell,\n",
    "        1 representing a fresh orange, or\n",
    "        2 representing a rotten orange.\n",
    "\n",
    "    Every minute, any fresh orange that is 4-directionally adjacent to a rotten orange becomes rotten.\n",
    "\n",
    "    Return the minimum number of minutes that must elapse until no cell has a fresh orange. If this is impossible, return -1.\n",
    "\n",
    "\n",
    "\n",
    "    Example 1:\n",
    "\n",
    "    Input: grid = [[2,1,1],[1,1,0],[0,1,1]]\n",
    "    Output: 4\n",
    "\n",
    "    Example 2:\n",
    "\n",
    "    Input: grid = [[2,1,1],[0,1,1],[1,0,1]]\n",
    "    Output: -1\n",
    "    Explanation: The orange in the bottom left corner (row 2, column 0) is never rotten, because rotting only happens 4-directionally.\n",
    "\n",
    "    Example 3:\n",
    "\n",
    "    Input: grid = [[0,2]]\n",
    "    Output: 0\n",
    "    Explanation: Since there are already no fresh oranges at minute 0, the answer is just 0.\n",
    "\n",
    "\n",
    "\n",
    "    Constraints:\n",
    "\n",
    "        m == grid.length\n",
    "        n == grid[i].length\n",
    "        1 <= m, n <= 10\n",
    "        grid[i][j] is 0, 1, or 2."
   ]
  },
  {
   "cell_type": "markdown",
   "metadata": {},
   "source": [
    "# BFS - O(M * N * 4 ^ ( M * N)) runtime, O(M * N) space"
   ]
  },
  {
   "cell_type": "code",
   "execution_count": 1,
   "metadata": {},
   "outputs": [],
   "source": [
    "from typing import List\n",
    "from collections import defaultdict\n",
    "\n",
    "class Solution:\n",
    "    def orangesRotting(self, grid: List[List[int]]) -> int:\n",
    "        originalFresh = 0\n",
    "        converted = defaultdict(int)\n",
    "        m, n = len(grid), len(grid[0])\n",
    "        \n",
    "        def bfs(r: int, c: int, time: int) -> None:\n",
    "            queue = []\n",
    "            for r1, c1 in [[r, c + 1], [r, c - 1], [r + 1, c], [r - 1, c]]:\n",
    "                if r1 >= 0 and r1 < m and c1 >= 0 and c1 < n and grid[r1][c1] == 1 and (not converted[(r1,c1)] or time + 1 < converted[(r1,c1)]):\n",
    "                        converted[(r1,c1)] = time + 1\n",
    "                        queue.append([r1, c1])\n",
    "\n",
    "            for r1, c1 in queue:\n",
    "                bfs(r1 , c1, time + 1)            \n",
    "\n",
    "            \n",
    "        for i in range(m):\n",
    "            for j in range(n):\n",
    "                if grid[i][j] == 1: originalFresh += 1\n",
    "                if grid[i][j] == 2: bfs(i, j, 0)\n",
    "        \n",
    "        if originalFresh == len(converted): \n",
    "            return max(converted.values()) if converted else 0\n",
    "        \n",
    "        return -1"
   ]
  },
  {
   "cell_type": "markdown",
   "metadata": {},
   "source": [
    "# Faster BFS - O(M * N) runtime, O(M * N) space"
   ]
  },
  {
   "cell_type": "code",
   "execution_count": 6,
   "metadata": {},
   "outputs": [],
   "source": [
    "from typing import List\n",
    "from collections import deque\n",
    "\n",
    "class Solution:\n",
    "    def orangesRotting(self, grid: List[List[int]]) -> int:\n",
    "        queue = deque()\n",
    "\n",
    "        # Step 1). build the initial set of rotten oranges\n",
    "        fresh_oranges = 0\n",
    "        ROWS, COLS = len(grid), len(grid[0])\n",
    "        for r in range(ROWS):\n",
    "            for c in range(COLS):\n",
    "                if grid[r][c] == 2:\n",
    "                    queue.append((r, c))\n",
    "                elif grid[r][c] == 1:\n",
    "                    fresh_oranges += 1\n",
    "\n",
    "        # Step 2). start the rotting process via BFS\n",
    "        minutes_elapsed = 0\n",
    "        directions = [(-1, 0), (0, 1), (1, 0), (0, -1)]\n",
    "        while queue:\n",
    "            currLength = len(queue)\n",
    "            for i in range(currLength):\n",
    "                row, col = queue.popleft()\n",
    "                # this is a rotten orange\n",
    "                # then it would contaminate its neighbors\n",
    "                for d in directions:\n",
    "                    neighbor_row, neighbor_col = row + d[0], col + d[1]\n",
    "                    if ROWS > neighbor_row >= 0 and COLS > neighbor_col >= 0:\n",
    "                        if grid[neighbor_row][neighbor_col] == 1:\n",
    "                            # this orange would be contaminated\n",
    "                            grid[neighbor_row][neighbor_col] = 2\n",
    "                            fresh_oranges -= 1\n",
    "                            # this orange would then contaminate other oranges\n",
    "                            queue.append((neighbor_row, neighbor_col))\n",
    "                            \n",
    "            if queue: minutes_elapsed += 1\n",
    "\n",
    "        # return elapsed minutes if no fresh orange left\n",
    "        return minutes_elapsed if fresh_oranges == 0 else -1"
   ]
  },
  {
   "cell_type": "markdown",
   "metadata": {},
   "source": [
    "# Best BFS - O(M * N) runtime, O(M * N) space"
   ]
  },
  {
   "cell_type": "code",
   "execution_count": 9,
   "metadata": {},
   "outputs": [],
   "source": [
    "from typing import List\n",
    "\n",
    "class Solution:\n",
    "    def orangesRotting(self, grid: List[List[int]]) -> int:\n",
    "        row, col = len(grid), len(grid[0])\n",
    "        rotting = {(i, j) for i in range(row) for j in range(col) if grid[i][j] == 2}\n",
    "        fresh = {(i, j) for i in range(row) for j in range(col) if grid[i][j] == 1}\n",
    "        timer = 0\n",
    "        while fresh:\n",
    "            if not rotting: return -1\n",
    "            rotting = {(i+di, j+dj) for i, j in rotting for di, dj in [(0, 1), (1, 0), (0, -1), (-1, 0)] if (i+di, j+dj) in fresh}\n",
    "            fresh -= rotting\n",
    "            timer += 1\n",
    "        return timer"
   ]
  },
  {
   "cell_type": "code",
   "execution_count": 10,
   "metadata": {},
   "outputs": [
    {
     "data": {
      "text/plain": [
       "4"
      ]
     },
     "execution_count": 10,
     "metadata": {},
     "output_type": "execute_result"
    }
   ],
   "source": [
    "instance = Solution()\n",
    "instance.orangesRotting([[2,1,1],[1,1,0],[0,1,1]])"
   ]
  }
 ],
 "metadata": {
  "kernelspec": {
   "display_name": "Python 3",
   "language": "python",
   "name": "python3"
  },
  "language_info": {
   "codemirror_mode": {
    "name": "ipython",
    "version": 3
   },
   "file_extension": ".py",
   "mimetype": "text/x-python",
   "name": "python",
   "nbconvert_exporter": "python",
   "pygments_lexer": "ipython3",
   "version": "3.7.3"
  }
 },
 "nbformat": 4,
 "nbformat_minor": 2
}
