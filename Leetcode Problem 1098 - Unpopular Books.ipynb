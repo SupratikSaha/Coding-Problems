{
 "cells": [
  {
   "cell_type": "markdown",
   "metadata": {},
   "source": [
    "    Problem Statement.\n",
    "\n",
    "    Table: Books\n",
    "\n",
    "    +----------------+---------+\n",
    "    | Column Name    | Type    |\n",
    "    +----------------+---------+\n",
    "    | book_id        | int     |\n",
    "    | name           | varchar |\n",
    "    | available_from | date    |\n",
    "    +----------------+---------+\n",
    "    book_id is the primary key of this table.\n",
    "\n",
    "\n",
    "\n",
    "    Table: Orders\n",
    "\n",
    "    +----------------+---------+\n",
    "    | Column Name    | Type    |\n",
    "    +----------------+---------+\n",
    "    | order_id       | int     |\n",
    "    | book_id        | int     |\n",
    "    | quantity       | int     |\n",
    "    | dispatch_date  | date    |\n",
    "    +----------------+---------+\n",
    "    order_id is the primary key of this table.\n",
    "    book_id is a foreign key to the Books table.\n",
    "\n",
    "\n",
    "\n",
    "    Write an SQL query that reports the books that have sold less than 10 copies in the last year, excluding books that have been available for less than one month from today. Assume today is 2019-06-23.\n",
    "\n",
    "    Return the result table in any order.\n",
    "\n",
    "    The query result format is in the following example.\n",
    "\n",
    "\n",
    "\n",
    "    Example 1:\n",
    "\n",
    "    Input: \n",
    "    Books table:\n",
    "    +---------+--------------------+----------------+\n",
    "    | book_id | name               | available_from |\n",
    "    +---------+--------------------+----------------+\n",
    "    | 1       | \"Kalila And Demna\" | 2010-01-01     |\n",
    "    | 2       | \"28 Letters\"       | 2012-05-12     |\n",
    "    | 3       | \"The Hobbit\"       | 2019-06-10     |\n",
    "    | 4       | \"13 Reasons Why\"   | 2019-06-01     |\n",
    "    | 5       | \"The Hunger Games\" | 2008-09-21     |\n",
    "    +---------+--------------------+----------------+\n",
    "    Orders table:\n",
    "    +----------+---------+----------+---------------+\n",
    "    | order_id | book_id | quantity | dispatch_date |\n",
    "    +----------+---------+----------+---------------+\n",
    "    | 1        | 1       | 2        | 2018-07-26    |\n",
    "    | 2        | 1       | 1        | 2018-11-05    |\n",
    "    | 3        | 3       | 8        | 2019-06-11    |\n",
    "    | 4        | 4       | 6        | 2019-06-05    |\n",
    "    | 5        | 4       | 5        | 2019-06-20    |\n",
    "    | 6        | 5       | 9        | 2009-02-02    |\n",
    "    | 7        | 5       | 8        | 2010-04-13    |\n",
    "    +----------+---------+----------+---------------+\n",
    "    Output: \n",
    "    +-----------+--------------------+\n",
    "    | book_id   | name               |\n",
    "    +-----------+--------------------+\n",
    "    | 1         | \"Kalila And Demna\" |\n",
    "    | 2         | \"28 Letters\"       |\n",
    "    | 5         | \"The Hunger Games\" |\n",
    "    +-----------+--------------------+"
   ]
  },
  {
   "cell_type": "markdown",
   "metadata": {},
   "source": [
    "# Left Join and Ifnull"
   ]
  },
  {
   "cell_type": "code",
   "execution_count": null,
   "metadata": {},
   "outputs": [],
   "source": [
    "select b.book_id, b.name\n",
    "from Books b\n",
    "left join Orders o on b.book_id = o.book_id and o.dispatch_date >= '2018-06-23'\n",
    "where available_from <= '2019-05-23'\n",
    "group by 1, 2\n",
    "having ifnull(sum(quantity), 0) < 10"
   ]
  },
  {
   "cell_type": "markdown",
   "metadata": {},
   "source": [
    "# Filter first for better performance"
   ]
  },
  {
   "cell_type": "code",
   "execution_count": null,
   "metadata": {},
   "outputs": [],
   "source": [
    "select \n",
    "b.book_id,\n",
    "b.name\n",
    "from \n",
    "(select * from books where available_from <= \"2019-05-23\") b \n",
    "left join (select * from orders where dispatch_date >= \"2018-06-23\") o\n",
    "on b.book_id=o.book_id \n",
    "group by b.book_id,b.name\n",
    "having sum(o.quantity) is null or sum(quantity)<10"
   ]
  }
 ],
 "metadata": {
  "kernelspec": {
   "display_name": "Python 3",
   "language": "python",
   "name": "python3"
  },
  "language_info": {
   "codemirror_mode": {
    "name": "ipython",
    "version": 3
   },
   "file_extension": ".py",
   "mimetype": "text/x-python",
   "name": "python",
   "nbconvert_exporter": "python",
   "pygments_lexer": "ipython3",
   "version": "3.7.3"
  }
 },
 "nbformat": 4,
 "nbformat_minor": 2
}
