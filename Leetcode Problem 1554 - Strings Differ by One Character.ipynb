{
 "cells": [
  {
   "cell_type": "markdown",
   "metadata": {},
   "source": [
    "Problem Statement.\n",
    "\n",
    "Given a list of strings dict where all the strings are of the same length.\n",
    "\n",
    "Return true if there are 2 strings that only differ by 1 character in the same index, otherwise return false.\n",
    "\n",
    " \n",
    "\n",
    "Example 1:\n",
    "\n",
    "Input: dict = [\"abcd\",\"acbd\", \"aacd\"]\n",
    "Output: true\n",
    "Explanation: Strings \"abcd\" and \"aacd\" differ only by one character in the index 1.\n",
    "\n",
    "Example 2:\n",
    "\n",
    "Input: dict = [\"ab\",\"cd\",\"yz\"]\n",
    "Output: false\n",
    "\n",
    "Example 3:\n",
    "\n",
    "Input: dict = [\"abcd\",\"cccc\",\"abyd\",\"abab\"]\n",
    "Output: true\n",
    "\n",
    " \n",
    "\n",
    "Constraints:\n",
    "\n",
    "    The number of characters in dict <= 105\n",
    "    dict[i].length == dict[j].length\n",
    "    dict[i] should be unique.\n",
    "    dict[i] contains only lowercase English letters.\n",
    "\n",
    " \n",
    "Follow up: Could you solve this problem in O(n * m) where n is the length of dict and m is the length of each string."
   ]
  },
  {
   "cell_type": "markdown",
   "metadata": {},
   "source": [
    "# HashSet - O(W * N ^ 2) runtime, O(W * N) space, where W is the number of words and N is the length of each word"
   ]
  },
  {
   "cell_type": "code",
   "execution_count": 1,
   "metadata": {},
   "outputs": [],
   "source": [
    "from typing import List\n",
    "\n",
    "class Solution:\n",
    "    def differByOne(self, dict: List[str]) -> bool:\n",
    "        n = len(dict[0])\n",
    "        wordSet = set(dict)\n",
    "        \n",
    "        for word in wordSet:\n",
    "            wordSet.remove(word)\n",
    "            for i in range(n):\n",
    "                for char in 'qwertyuiopasdfghjklzxcvbnm':\n",
    "                    if word[:i] + char + word[i+1:] in wordSet: return True\n",
    "                    \n",
    "            wordSet.add(word)\n",
    "        \n",
    "        return False"
   ]
  },
  {
   "cell_type": "markdown",
   "metadata": {},
   "source": [
    "# Simpler HashSet - O(W * N ^ 2) runtime, O(W * N) space, where W is the number of words and N is the length of each word"
   ]
  },
  {
   "cell_type": "code",
   "execution_count": 3,
   "metadata": {},
   "outputs": [],
   "source": [
    "from typing import List\n",
    "\n",
    "class Solution:\n",
    "    def differByOne(self, dict: List[str]) -> bool:\n",
    "        seen = set()\n",
    "        \n",
    "        for word in dict: \n",
    "            for i in range(len(word)): \n",
    "                key = word[:i] + \"*\" + word[i+1:]\n",
    "                if key in seen: return True \n",
    "                seen.add(key)\n",
    "                \n",
    "        return False"
   ]
  },
  {
   "cell_type": "code",
   "execution_count": 4,
   "metadata": {},
   "outputs": [
    {
     "data": {
      "text/plain": [
       "True"
      ]
     },
     "execution_count": 4,
     "metadata": {},
     "output_type": "execute_result"
    }
   ],
   "source": [
    "instance = Solution()\n",
    "instance.differByOne([\"abcd\",\"acbd\", \"aacd\"])"
   ]
  }
 ],
 "metadata": {
  "kernelspec": {
   "display_name": "Python 3",
   "language": "python",
   "name": "python3"
  },
  "language_info": {
   "codemirror_mode": {
    "name": "ipython",
    "version": 3
   },
   "file_extension": ".py",
   "mimetype": "text/x-python",
   "name": "python",
   "nbconvert_exporter": "python",
   "pygments_lexer": "ipython3",
   "version": "3.7.3"
  }
 },
 "nbformat": 4,
 "nbformat_minor": 2
}
