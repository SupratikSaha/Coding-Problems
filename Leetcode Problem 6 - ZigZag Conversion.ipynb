{
 "cells": [
  {
   "cell_type": "markdown",
   "metadata": {},
   "source": [
    "Problem Statement.\n",
    "\n",
    "The string \"PAYPALISHIRING\" is written in a zigzag pattern on a given number of rows like this: (you may want to display this pattern in a fixed font for better legibility)\n",
    "\n",
    "P   A   H   N\n",
    "A P L S I I G\n",
    "Y   I   R\n",
    "\n",
    "And then read line by line: \"PAHNAPLSIIGYIR\"\n",
    "\n",
    "Write the code that will take a string and make this conversion given a number of rows:\n",
    "\n",
    "string convert(string s, int numRows);\n",
    "\n",
    " \n",
    "\n",
    "Example 1:\n",
    "\n",
    "Input: s = \"PAYPALISHIRING\", numRows = 3\n",
    "Output: \"PAHNAPLSIIGYIR\"\n",
    "\n",
    "Example 2:\n",
    "\n",
    "Input: s = \"PAYPALISHIRING\", numRows = 4\n",
    "Output: \"PINALSIGYAHRPI\"\n",
    "Explanation:\n",
    "P     I    N\n",
    "A   L S  I G\n",
    "Y A   H R\n",
    "P     I\n",
    "\n",
    "Example 3:\n",
    "\n",
    "Input: s = \"A\", numRows = 1\n",
    "Output: \"A\"\n",
    "\n",
    " \n",
    "\n",
    "Constraints:\n",
    "\n",
    "    1 <= s.length <= 1000\n",
    "    s consists of English letters (lower-case and upper-case), ',' and '.'.\n",
    "    1 <= numRows <= 1000"
   ]
  },
  {
   "cell_type": "markdown",
   "metadata": {},
   "source": [
    "# Visit by Row - O(N) runtime, O(N) space, where N is the length of the string"
   ]
  },
  {
   "cell_type": "code",
   "execution_count": 1,
   "metadata": {},
   "outputs": [],
   "source": [
    "class Solution:\n",
    "    def convert(self, s: str, numRows: int) -> str:\n",
    "        if numRows == 1: return s\n",
    "        \n",
    "        res, n = [], len(s)\n",
    "        initGap = 2 * (numRows-1)\n",
    "        \n",
    "        for i in range(numRows):\n",
    "            oddGap = initGap - 2 * (i % (numRows-1))\n",
    "            evenGap = initGap - oddGap if oddGap != initGap else oddGap\n",
    "\n",
    "            j, isOdd = i, True\n",
    "            while j < n:\n",
    "                res.append(s[j])\n",
    "                j += oddGap if isOdd else evenGap\n",
    "                isOdd = not isOdd\n",
    "                \n",
    "        return ''.join(res)"
   ]
  },
  {
   "cell_type": "markdown",
   "metadata": {},
   "source": [
    "# Another Visit by Row - O(N) runtime, O(N) space, where N is the length of the string"
   ]
  },
  {
   "cell_type": "code",
   "execution_count": 2,
   "metadata": {},
   "outputs": [],
   "source": [
    "class Solution:\n",
    "    def convert(self, s: str, numRows: int) -> str:\n",
    "        if numRows == 1: return s\n",
    "        \n",
    "        rows = [''] * numRows\n",
    "        num = (numRows-1)*2\n",
    "        \n",
    "        for i, item in enumerate(s):\n",
    "            rem = i % num\n",
    "            if rem >= numRows:\n",
    "                rows[(num - rem) % numRows] += item\n",
    "            else:\n",
    "                rows[rem] += item\n",
    "                \n",
    "        return ''.join(rows)"
   ]
  },
  {
   "cell_type": "markdown",
   "metadata": {},
   "source": [
    "# Sort by Row - O(N) runtime, O(N) space, where N is the length of the string"
   ]
  },
  {
   "cell_type": "code",
   "execution_count": 3,
   "metadata": {},
   "outputs": [],
   "source": [
    "class Solution:\n",
    "    def convert(self, s: str, numRows: int) -> str:\n",
    "        if numRows == 1 or numRows >= len(s): return s\n",
    "\n",
    "        L = [''] * numRows\n",
    "        index, step = 0, -1\n",
    "\n",
    "        for x in s:\n",
    "            L[index] += x\n",
    "            if index == 0 or index == numRows -1: step *= -1\n",
    "            index += step\n",
    "\n",
    "        return ''.join(L)"
   ]
  },
  {
   "cell_type": "code",
   "execution_count": 4,
   "metadata": {},
   "outputs": [
    {
     "data": {
      "text/plain": [
       "'PAHNAPLSIIGYIR'"
      ]
     },
     "execution_count": 4,
     "metadata": {},
     "output_type": "execute_result"
    }
   ],
   "source": [
    "instance = Solution()\n",
    "instance.convert(\"PAYPALISHIRING\", 3)"
   ]
  }
 ],
 "metadata": {
  "kernelspec": {
   "display_name": "Python 3",
   "language": "python",
   "name": "python3"
  },
  "language_info": {
   "codemirror_mode": {
    "name": "ipython",
    "version": 3
   },
   "file_extension": ".py",
   "mimetype": "text/x-python",
   "name": "python",
   "nbconvert_exporter": "python",
   "pygments_lexer": "ipython3",
   "version": "3.7.3"
  }
 },
 "nbformat": 4,
 "nbformat_minor": 2
}
