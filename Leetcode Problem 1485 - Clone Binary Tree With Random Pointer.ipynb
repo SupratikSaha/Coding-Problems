{
 "cells": [
  {
   "cell_type": "markdown",
   "metadata": {},
   "source": [
    "Problem Statement.\n",
    "\n",
    "A binary tree is given such that each node contains an additional random pointer which could point to any node in the tree or null.\n",
    "\n",
    "Return a deep copy of the tree.\n",
    "\n",
    "The tree is represented in the same input/output way as normal binary trees where each node is represented as a pair of [val, random_index] where:\n",
    "\n",
    "    val: an integer representing Node.val\n",
    "    random_index: the index of the node (in the input) where the random pointer points to, or null if it does not point to any node.\n",
    "\n",
    "You will be given the tree in class Node and you should return the cloned tree in class NodeCopy. NodeCopy class is just a clone of Node class with the same attributes and constructors.\n",
    "\n",
    " \n",
    "\n",
    "Example 1:\n",
    "\n",
    "Input: root = [[1,null],null,[4,3],[7,0]]\n",
    "Output: [[1,null],null,[4,3],[7,0]]\n",
    "Explanation: The original binary tree is [1,null,4,7].\n",
    "The random pointer of node one is null, so it is represented as [1, null].\n",
    "The random pointer of node 4 is node 7, so it is represented as [4, 3] where 3 is the index of node 7 in the array representing the tree.\n",
    "The random pointer of node 7 is node 1, so it is represented as [7, 0] where 0 is the index of node 1 in the array representing the tree.\n",
    "\n",
    "Example 2:\n",
    "\n",
    "Input: root = [[1,4],null,[1,0],null,[1,5],[1,5]]\n",
    "Output: [[1,4],null,[1,0],null,[1,5],[1,5]]\n",
    "Explanation: The random pointer of a node can be the node itself.\n",
    "\n",
    "Example 3:\n",
    "\n",
    "Input: root = [[1,6],[2,5],[3,4],[4,3],[5,2],[6,1],[7,0]]\n",
    "Output: [[1,6],[2,5],[3,4],[4,3],[5,2],[6,1],[7,0]]\n",
    "\n",
    "Example 4:\n",
    "\n",
    "Input: root = []\n",
    "Output: []\n",
    "\n",
    "Example 5:\n",
    "\n",
    "Input: root = [[1,null],null,[2,null],null,[1,null]]\n",
    "Output: [[1,null],null,[2,null],null,[1,null]]\n",
    "\n",
    " \n",
    "\n",
    "Constraints:\n",
    "\n",
    "    The number of nodes in the tree is in the range [0, 1000].\n",
    "    Each node's value is between [1, 10^6]."
   ]
  },
  {
   "cell_type": "markdown",
   "metadata": {},
   "source": [
    "# DFS - O(N) runtime, O(N) space"
   ]
  },
  {
   "cell_type": "code",
   "execution_count": 1,
   "metadata": {},
   "outputs": [],
   "source": [
    "# Definition for Node.\n",
    "# class Node:\n",
    "#     def __init__(self, val=0, left=None, right=None, random=None):\n",
    "#         self.val = val\n",
    "#         self.left = left\n",
    "#         self.right = right\n",
    "#         self.random = random\n",
    "\n",
    "class Solution:\n",
    "    def copyRandomBinaryTree(self, root: 'Node') -> 'NodeCopy':\n",
    "        nodeDict = {}\n",
    "        \n",
    "        def createNewNode(node):\n",
    "            newNode = NodeCopy(node.val)\n",
    "            nodeDict[node] = newNode\n",
    "        \n",
    "        def copyNode(node):\n",
    "            if not node: return None\n",
    "            if node not in nodeDict: createNewNode(node)\n",
    "            newNode = nodeDict[node]\n",
    "                \n",
    "            if node.random and node.random not in nodeDict: createNewNode(node.random)\n",
    "            newNode.random = nodeDict[node.random] if node.random else None\n",
    "            \n",
    "            newNode.left = copyNode(node.left)\n",
    "            newNode.right = copyNode(node.right)\n",
    "            \n",
    "            return newNode\n",
    "        \n",
    "        return copyNode(root)"
   ]
  },
  {
   "cell_type": "markdown",
   "metadata": {},
   "source": [
    "# Simpler DFS - O(N) runtime, O(N) space"
   ]
  },
  {
   "cell_type": "code",
   "execution_count": 2,
   "metadata": {},
   "outputs": [],
   "source": [
    "# Definition for Node.\n",
    "# class Node:\n",
    "#     def __init__(self, val=0, left=None, right=None, random=None):\n",
    "#         self.val = val\n",
    "#         self.left = left\n",
    "#         self.right = right\n",
    "#         self.random = random\n",
    "\n",
    "class Solution:\n",
    "    def copyRandomBinaryTree(self, root: 'Node') -> 'NodeCopy':\n",
    "        visited = {}\n",
    "        \n",
    "        def copyNode(node):\n",
    "            if not node: return node\n",
    "            if node in visited: return visited[node]\n",
    "            \n",
    "            clone_node = NodeCopy(node.val)\n",
    "            visited[node] = clone_node\n",
    "            \n",
    "            clone_node.left = copyNode(node.left)\n",
    "            clone_node.right = copyNode(node.right)\n",
    "            clone_node.random = copyNode(node.random)\n",
    "            \n",
    "            return clone_node\n",
    "                    \n",
    "        return copyNode(root)"
   ]
  }
 ],
 "metadata": {
  "kernelspec": {
   "display_name": "Python 3",
   "language": "python",
   "name": "python3"
  },
  "language_info": {
   "codemirror_mode": {
    "name": "ipython",
    "version": 3
   },
   "file_extension": ".py",
   "mimetype": "text/x-python",
   "name": "python",
   "nbconvert_exporter": "python",
   "pygments_lexer": "ipython3",
   "version": "3.7.3"
  }
 },
 "nbformat": 4,
 "nbformat_minor": 2
}
