{
 "cells": [
  {
   "cell_type": "markdown",
   "metadata": {},
   "source": [
    "Problem Statement.\n",
    "\n",
    "You are given an integer length and an array updates where updates[i] = [startIdxi, endIdxi, inci].\n",
    "\n",
    "You have an array arr of length length with all zeros, and you have some operation to apply on arr. In the ith operation, you should increment all the elements arr[startIdxi], arr[startIdxi + 1], ..., arr[endIdxi] by inci.\n",
    "\n",
    "Return arr after applying all the updates.\n",
    "\n",
    " \n",
    "\n",
    "Example 1:\n",
    "\n",
    "Input: length = 5, updates = [[1,3,2],[2,4,3],[0,2,-2]]\n",
    "Output: [-2,0,3,5,3]\n",
    "\n",
    "Example 2:\n",
    "\n",
    "Input: length = 10, updates = [[2,4,6],[5,6,8],[1,9,-4]]\n",
    "Output: [0,-4,2,2,2,4,4,-4,-4,-4]\n",
    "\n",
    " \n",
    "\n",
    "Constraints:\n",
    "\n",
    "    1 <= length <= 105\n",
    "    0 <= updates.length <= 104\n",
    "    0 <= startIdxi <= endIdxi < length\n",
    "    -1000 <= inci <= 1000"
   ]
  },
  {
   "cell_type": "markdown",
   "metadata": {},
   "source": [
    "# Brute Force - Time Limit Exceeded - O(N ^ 2) runtime, O(N) space"
   ]
  },
  {
   "cell_type": "code",
   "execution_count": 1,
   "metadata": {},
   "outputs": [],
   "source": [
    "from typing import List\n",
    "\n",
    "class Solution:\n",
    "    def getModifiedArray(self, length: int, updates: List[List[int]]) -> List[int]:\n",
    "        result = [0] * length\n",
    "        \n",
    "        for start, end, inc in updates:\n",
    "            for idx in range(start, end + 1):\n",
    "                result[idx] += inc\n",
    "                \n",
    "        return result"
   ]
  },
  {
   "cell_type": "markdown",
   "metadata": {},
   "source": [
    "# Range Caching - O(N) runtime, O(N) space"
   ]
  },
  {
   "cell_type": "code",
   "execution_count": 3,
   "metadata": {},
   "outputs": [],
   "source": [
    "from typing import List\n",
    "\n",
    "class Solution:\n",
    "    def getModifiedArray(self, length: int, updates: List[List[int]]) -> List[int]:\n",
    "        result = [0] * length\n",
    "        \n",
    "        for start, end, inc in updates:\n",
    "            result[start] += inc\n",
    "            if end+1 < length: result[end+1] -= inc\n",
    "                    \n",
    "        for i in range(1, length): \n",
    "            result[i] += result[i-1]\n",
    "                \n",
    "        return result"
   ]
  },
  {
   "cell_type": "code",
   "execution_count": 4,
   "metadata": {},
   "outputs": [
    {
     "data": {
      "text/plain": [
       "[0, -4, 2, 2, 2, 4, 4, -4, -4, -4]"
      ]
     },
     "execution_count": 4,
     "metadata": {},
     "output_type": "execute_result"
    }
   ],
   "source": [
    "instance = Solution()\n",
    "instance.getModifiedArray(10,  [[2,4,6],[5,6,8],[1,9,-4]])"
   ]
  }
 ],
 "metadata": {
  "kernelspec": {
   "display_name": "Python 3",
   "language": "python",
   "name": "python3"
  },
  "language_info": {
   "codemirror_mode": {
    "name": "ipython",
    "version": 3
   },
   "file_extension": ".py",
   "mimetype": "text/x-python",
   "name": "python",
   "nbconvert_exporter": "python",
   "pygments_lexer": "ipython3",
   "version": "3.7.3"
  }
 },
 "nbformat": 4,
 "nbformat_minor": 2
}
