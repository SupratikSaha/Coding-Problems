{
 "cells": [
  {
   "cell_type": "markdown",
   "metadata": {},
   "source": [
    "Problem Statement.\n",
    "\n",
    "You are given a string s and an integer k, a k duplicate removal consists of choosing k adjacent and equal letters from s and removing them, causing the left and the right side of the deleted substring to concatenate together.\n",
    "\n",
    "We repeatedly make k duplicate removals on s until we no longer can.\n",
    "\n",
    "Return the final string after all such duplicate removals have been made. It is guaranteed that the answer is unique.\n",
    "\n",
    " \n",
    "\n",
    "Example 1:\n",
    "\n",
    "Input: s = \"abcd\", k = 2\n",
    "Output: \"abcd\"\n",
    "Explanation: There's nothing to delete.\n",
    "\n",
    "Example 2:\n",
    "\n",
    "Input: s = \"deeedbbcccbdaa\", k = 3\n",
    "Output: \"aa\"\n",
    "Explanation: \n",
    "First delete \"eee\" and \"ccc\", get \"ddbbbdaa\"\n",
    "Then delete \"bbb\", get \"dddaa\"\n",
    "Finally delete \"ddd\", get \"aa\"\n",
    "\n",
    "Example 3:\n",
    "\n",
    "Input: s = \"pbbcggttciiippooaais\", k = 2\n",
    "Output: \"ps\"\n",
    "\n",
    " \n",
    "\n",
    "Constraints:\n",
    "\n",
    "    1 <= s.length <= 105\n",
    "    2 <= k <= 104\n",
    "    s only contains lower case English letters."
   ]
  },
  {
   "cell_type": "markdown",
   "metadata": {},
   "source": [
    "# Multiple Passes - Time Limit Exceeded - O(N ^ 2) runtime, O(N) space"
   ]
  },
  {
   "cell_type": "code",
   "execution_count": 3,
   "metadata": {},
   "outputs": [],
   "source": [
    "class Solution:\n",
    "    def removeDuplicates(self, s: str, k: int) -> str:\n",
    "        sList = list(s)\n",
    "        n = len(s)\n",
    "        \n",
    "        while True:\n",
    "            deletesThisRound = 0\n",
    "            currLetter = None\n",
    "            positions = []\n",
    "            for i in range(n):\n",
    "                if sList[i] == '': continue\n",
    "                if currLetter is None:\n",
    "                    currLetter = sList[i]\n",
    "                    positions = [i]\n",
    "                elif sList[i] == currLetter:\n",
    "                    positions.append(i)\n",
    "                    if len(positions) == k:\n",
    "                        for pos in positions: sList[pos] = ''\n",
    "                        positions = []\n",
    "                        currLetter = None\n",
    "                        deletesThisRound += 1\n",
    "                else:\n",
    "                    positions = [i]\n",
    "                    currLetter = sList[i]\n",
    "                    \n",
    "            if deletesThisRound == 0: break\n",
    "                \n",
    "        return ''.join(sList)"
   ]
  },
  {
   "cell_type": "markdown",
   "metadata": {},
   "source": [
    "# One Pass - O(N) runtime, O(N) space"
   ]
  },
  {
   "cell_type": "code",
   "execution_count": 5,
   "metadata": {},
   "outputs": [],
   "source": [
    "class Solution:\n",
    "    def removeDuplicates(self, s: str, k: int) -> str:\n",
    "        posList = []\n",
    "        currLetter, currCount = None, 0\n",
    "        \n",
    "        for i in range(len(s)):\n",
    "            if s[i] == currLetter:\n",
    "                currCount += 1\n",
    "                if currCount == k:\n",
    "                    currLetter, currCount = posList.pop() if posList else [None, 0]\n",
    "            else:\n",
    "                if currLetter is not None: posList.append([currLetter, currCount])\n",
    "                currLetter, currCount = s[i], 1\n",
    "                \n",
    "        if currLetter is not None: posList.append([currLetter, currCount])           \n",
    "                \n",
    "        return ''.join([char * count for char, count in posList])"
   ]
  },
  {
   "cell_type": "markdown",
   "metadata": {},
   "source": [
    "# Simpler One Pass - O(N) runtime, O(N) space"
   ]
  },
  {
   "cell_type": "code",
   "execution_count": 7,
   "metadata": {},
   "outputs": [],
   "source": [
    "class Solution:\n",
    "    def removeDuplicates(self, s: str, k: int) -> str:\n",
    "        stack = [['#', 0]]\n",
    "        for c in s:\n",
    "            if stack[-1][0] == c:\n",
    "                stack[-1][1] += 1\n",
    "                if stack[-1][1] == k:\n",
    "                    stack.pop()\n",
    "            else:\n",
    "                stack.append([c, 1])\n",
    "                \n",
    "        return ''.join(c * k for c, k in stack)"
   ]
  },
  {
   "cell_type": "code",
   "execution_count": 8,
   "metadata": {},
   "outputs": [
    {
     "data": {
      "text/plain": [
       "'ps'"
      ]
     },
     "execution_count": 8,
     "metadata": {},
     "output_type": "execute_result"
    }
   ],
   "source": [
    "instance = Solution()\n",
    "instance.removeDuplicates( \"pbbcggttciiippooaais\", 2)"
   ]
  }
 ],
 "metadata": {
  "kernelspec": {
   "display_name": "Python 3",
   "language": "python",
   "name": "python3"
  },
  "language_info": {
   "codemirror_mode": {
    "name": "ipython",
    "version": 3
   },
   "file_extension": ".py",
   "mimetype": "text/x-python",
   "name": "python",
   "nbconvert_exporter": "python",
   "pygments_lexer": "ipython3",
   "version": "3.7.3"
  }
 },
 "nbformat": 4,
 "nbformat_minor": 2
}
