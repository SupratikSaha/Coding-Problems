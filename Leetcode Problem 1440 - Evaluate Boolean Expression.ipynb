{
 "cells": [
  {
   "cell_type": "markdown",
   "metadata": {},
   "source": [
    "    Problem Statement.\n",
    "\n",
    "    Table Variables:\n",
    "\n",
    "    +---------------+---------+\n",
    "    | Column Name   | Type    |\n",
    "    +---------------+---------+\n",
    "    | name          | varchar |\n",
    "    | value         | int     |\n",
    "    +---------------+---------+\n",
    "    name is the primary key for this table.\n",
    "    This table contains the stored variables and their values.\n",
    "\n",
    "\n",
    "\n",
    "    Table Expressions:\n",
    "\n",
    "    +---------------+---------+\n",
    "    | Column Name   | Type    |\n",
    "    +---------------+---------+\n",
    "    | left_operand  | varchar |\n",
    "    | operator      | enum    |\n",
    "    | right_operand | varchar |\n",
    "    +---------------+---------+\n",
    "    (left_operand, operator, right_operand) is the primary key for this table.\n",
    "    This table contains a boolean expression that should be evaluated.\n",
    "    operator is an enum that takes one of the values ('<', '>', '=')\n",
    "    The values of left_operand and right_operand are guaranteed to be in the Variables table.\n",
    "\n",
    "\n",
    "\n",
    "    Write an SQL query to evaluate the boolean expressions in Expressions table.\n",
    "\n",
    "    Return the result table in any order.\n",
    "\n",
    "    The query result format is in the following example.\n",
    "\n",
    "\n",
    "\n",
    "    Example 1:\n",
    "\n",
    "    Input: \n",
    "    Variables table:\n",
    "    +------+-------+\n",
    "    | name | value |\n",
    "    +------+-------+\n",
    "    | x    | 66    |\n",
    "    | y    | 77    |\n",
    "    +------+-------+\n",
    "    Expressions table:\n",
    "    +--------------+----------+---------------+\n",
    "    | left_operand | operator | right_operand |\n",
    "    +--------------+----------+---------------+\n",
    "    | x            | >        | y             |\n",
    "    | x            | <        | y             |\n",
    "    | x            | =        | y             |\n",
    "    | y            | >        | x             |\n",
    "    | y            | <        | x             |\n",
    "    | x            | =        | x             |\n",
    "    +--------------+----------+---------------+\n",
    "    Output: \n",
    "    +--------------+----------+---------------+-------+\n",
    "    | left_operand | operator | right_operand | value |\n",
    "    +--------------+----------+---------------+-------+\n",
    "    | x            | >        | y             | false |\n",
    "    | x            | <        | y             | true  |\n",
    "    | x            | =        | y             | false |\n",
    "    | y            | >        | x             | true  |\n",
    "    | y            | <        | x             | false |\n",
    "    | x            | =        | x             | true  |\n",
    "    +--------------+----------+---------------+-------+\n",
    "    Explanation: \n",
    "    As shown, you need to find the value of each boolean expression in the table using the variables table."
   ]
  },
  {
   "cell_type": "markdown",
   "metadata": {},
   "source": [
    "# Case"
   ]
  },
  {
   "cell_type": "code",
   "execution_count": null,
   "metadata": {},
   "outputs": [],
   "source": [
    "select e.*, \n",
    "case when operator = '>' and l.value > r.value then 'true'\n",
    "     when operator = '<' and l.value < r.value then 'true'\n",
    "     when operator = '=' and l.value = r.value then 'true'\n",
    "     else 'false'\n",
    "end as value\n",
    "from Expressions e\n",
    "join Variables l on e.left_operand = l.name\n",
    "join Variables r on e.right_operand = r.name"
   ]
  }
 ],
 "metadata": {
  "kernelspec": {
   "display_name": "Python 3",
   "language": "python",
   "name": "python3"
  },
  "language_info": {
   "codemirror_mode": {
    "name": "ipython",
    "version": 3
   },
   "file_extension": ".py",
   "mimetype": "text/x-python",
   "name": "python",
   "nbconvert_exporter": "python",
   "pygments_lexer": "ipython3",
   "version": "3.7.3"
  }
 },
 "nbformat": 4,
 "nbformat_minor": 2
}
