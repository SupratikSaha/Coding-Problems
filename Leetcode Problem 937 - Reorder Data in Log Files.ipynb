{
 "cells": [
  {
   "cell_type": "markdown",
   "metadata": {},
   "source": [
    "Problem Statement. <br/>\n",
    "\n",
    "You are given an array of logs. Each log is a space-delimited string of words, where the first word is the identifier. <br/>\n",
    "There are two types of logs: <br/>\n",
    "\n",
    "    Letter-logs: All words (except the identifier) consist of lowercase English letters.\n",
    "    Digit-logs: All words (except the identifier) consist of digits.\n",
    "\n",
    "Reorder these logs so that: <br/>\n",
    "\n",
    "    The letter-logs come before all digit-logs.\n",
    "    The letter-logs are sorted lexicographically by their contents. If their contents are the same, then sort them lexicographically by their identifiers.\n",
    "    The digit-logs maintain their relative ordering.\n",
    "\n",
    "Return the final order of the logs. <br/>\n",
    "\n",
    "Example 1: <br/>\n",
    "Input: logs = [\"dig1 8 1 5 1\",\"let1 art can\",\"dig2 3 6\",\"let2 own kit dig\",\"let3 art zero\"] <br/>\n",
    "Output: [\"let1 art can\",\"let3 art zero\",\"let2 own kit dig\",\"dig1 8 1 5 1\",\"dig2 3 6\"] <br/>\n",
    "Explanation: <br/>\n",
    "The letter-log contents are all different, so their ordering is \"art can\", \"art zero\", \"own kit dig\". <br/>\n",
    "The digit-logs have a relative order of \"dig1 8 1 5 1\", \"dig2 3 6\". <br/>\n",
    "\n",
    "Example 2: <br/>\n",
    "Input: logs = [\"a1 9 2 3 1\",\"g1 act car\",\"zo4 4 7\",\"ab1 off key dog\",\"a8 act zoo\"] <br/>\n",
    "Output: [\"g1 act car\",\"a8 act zoo\",\"ab1 off key dog\",\"a1 9 2 3 1\",\"zo4 4 7\"] <br/>\n",
    "\n",
    "Constraints: <br/>\n",
    "    1 <= logs.length <= 100 <br/>\n",
    "    3 <= logs[i].length <= 100 <br/>\n",
    "    All the tokens of logs[i] are separated by a single space. <br/>\n",
    "    logs[i] is guaranteed to have an identifier and at least one word after the identifier."
   ]
  },
  {
   "cell_type": "markdown",
   "metadata": {},
   "source": [
    "# Heap - O(N * M) * log N runtime, O(N * M) space, where N is the number of logs and M is the length of the largest log "
   ]
  },
  {
   "cell_type": "code",
   "execution_count": 3,
   "metadata": {},
   "outputs": [],
   "source": [
    "from typing import List, Tuple\n",
    "from heapq import heappush, heappop\n",
    "\n",
    "class Solution:\n",
    "    def reorderLogFiles(self, logs: List[str]) -> List[str]:\n",
    "        letterLogHeap = []\n",
    "        digitLog = []\n",
    "        charLog = []\n",
    "        \n",
    "        def splitLog(log: str) -> Tuple[bool, str]:\n",
    "            i = 0\n",
    "            while log[i] != ' ':\n",
    "                i += 1\n",
    "            if log[i+1].isdigit(): return (True, None, None)        \n",
    "            return (False, log[:i], log[(i+1):])    \n",
    "        \n",
    "        for log in logs:\n",
    "            isDigit, identifier, content = splitLog(log)\n",
    "            if isDigit: digitLog.append(log)\n",
    "            else: heappush(letterLogHeap, (content, identifier))\n",
    "                \n",
    "        while letterLogHeap:\n",
    "            content, identifier  = heappop(letterLogHeap)\n",
    "            charLog.append(identifier + ' ' + content)\n",
    "            \n",
    "        return charLog + digitLog"
   ]
  },
  {
   "cell_type": "markdown",
   "metadata": {},
   "source": [
    "# Sort using keys - O(N * M) * log N runtime, O(N * M) space, where N is the number of logs and M is the length of the largest log "
   ]
  },
  {
   "cell_type": "code",
   "execution_count": 5,
   "metadata": {},
   "outputs": [],
   "source": [
    "from typing import List\n",
    "\n",
    "class Solution:\n",
    "    def reorderLogFiles(self, logs: List[str]) -> List[str]:\n",
    "        def get_key(log):\n",
    "            _id, rest = log.split(\" \", maxsplit=1)\n",
    "            return (0, rest, _id) if rest[0].isalpha() else (1, )\n",
    "\n",
    "        return sorted(logs, key=get_key)"
   ]
  },
  {
   "cell_type": "code",
   "execution_count": 6,
   "metadata": {},
   "outputs": [
    {
     "data": {
      "text/plain": [
       "['g1 act car', 'a8 act zoo', 'ab1 off key dog', 'a1 9 2 3 1', 'zo4 4 7']"
      ]
     },
     "execution_count": 6,
     "metadata": {},
     "output_type": "execute_result"
    }
   ],
   "source": [
    "instance = Solution()\n",
    "instance.reorderLogFiles([\"a1 9 2 3 1\",\"g1 act car\",\"zo4 4 7\",\"ab1 off key dog\",\"a8 act zoo\"])"
   ]
  }
 ],
 "metadata": {
  "kernelspec": {
   "display_name": "Python 3",
   "language": "python",
   "name": "python3"
  },
  "language_info": {
   "codemirror_mode": {
    "name": "ipython",
    "version": 3
   },
   "file_extension": ".py",
   "mimetype": "text/x-python",
   "name": "python",
   "nbconvert_exporter": "python",
   "pygments_lexer": "ipython3",
   "version": "3.7.3"
  }
 },
 "nbformat": 4,
 "nbformat_minor": 2
}
