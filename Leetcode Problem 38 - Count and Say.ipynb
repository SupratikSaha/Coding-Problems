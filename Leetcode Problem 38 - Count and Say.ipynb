{
 "cells": [
  {
   "cell_type": "markdown",
   "metadata": {},
   "source": [
    "Problem Statement. <br/>\n",
    "\n",
    "The count-and-say sequence is a sequence of digit strings defined by the recursive formula: <br/>\n",
    "\n",
    "    countAndSay(1) = \"1\" <br/>\n",
    "    countAndSay(n) is the way you would \"say\" the digit string from countAndSay(n-1), which is then converted into a different digit string. <br/>\n",
    "\n",
    "To determine how you \"say\" a digit string, split it into the minimal number of groups so that each group is a contiguous section all of the same character. Then for each group, say the number of characters, then say the character. To convert the saying into a digit string, replace the counts with a number and concatenate every saying. <br/>\n",
    "\n",
    "For example, the saying and conversion for digit string \"3322251\": <br/>\n",
    "\n",
    "Given a positive integer n, return the nth term of the count-and-say sequence. <br/>\n",
    "\n",
    "Example 1: <br/>\n",
    "Input: n = 1 <br/>\n",
    "Output: \"1\" <br/>\n",
    "Explanation: This is the base case. <br/>\n",
    "\n",
    "Example 2: <br/>\n",
    "Input: n = 4 <br/>\n",
    "Output: \"1211\" <br/>\n",
    "Explanation: <br/>\n",
    "countAndSay(1) = \"1\" <br/>\n",
    "countAndSay(2) = say \"1\" = one 1 = \"11\" <br/>\n",
    "countAndSay(3) = say \"11\" = two 1's = \"21\" <br/>\n",
    "countAndSay(4) = say \"21\" = one 2 + one 1 = \"12\" + \"11\" = \"1211\""
   ]
  },
  {
   "cell_type": "markdown",
   "metadata": {},
   "source": [
    "# Sliding Window and String - O(2 ^ N) runtime, O(2 ^ (N - 1)) space"
   ]
  },
  {
   "cell_type": "code",
   "execution_count": 2,
   "metadata": {},
   "outputs": [],
   "source": [
    "class Solution:\n",
    "    def countAndSay(self, n: int) -> str:\n",
    "        if n <= 0:\n",
    "            return \"\"\n",
    "        \n",
    "        result = \"1\"\n",
    "        if n == 1:\n",
    "            return result\n",
    "        \n",
    "        for _ in range(2, n + 1):\n",
    "            char = result[0]\n",
    "            newResult = \"\"\n",
    "            len_result = len(result)\n",
    "            i = 0\n",
    "            while i < len_result:\n",
    "                count = 0\n",
    "                while i < len_result and result[i] == char:\n",
    "                    i += 1\n",
    "                    count += 1\n",
    "                newResult += str(count) + char\n",
    "                char = result[i] if i < len_result else \"\"\n",
    "                \n",
    "            result = newResult\n",
    "            \n",
    "        return result"
   ]
  },
  {
   "cell_type": "markdown",
   "metadata": {},
   "source": [
    "# Regular Expression - O(2 ^ N) runtime, O(2 ^ (N - 1)) space"
   ]
  },
  {
   "cell_type": "code",
   "execution_count": 7,
   "metadata": {},
   "outputs": [],
   "source": [
    "class Solution(object):\n",
    "    def countAndSay(self, n):\n",
    "        \"\"\"\n",
    "        :type n: int\n",
    "        :rtype: str\n",
    "        \"\"\"\n",
    "        import re\n",
    "\n",
    "        currSeq = '1'\n",
    "        pattern = r'((.)\\2*)'\n",
    "\n",
    "        for i in range(n-1):\n",
    "            nextSeq = []\n",
    "            for g1, g2 in re.findall(pattern, currSeq):\n",
    "                # append the pair of <count, digit>\n",
    "                nextSeq.append(str(len(g1)))\n",
    "                nextSeq.append(g2)\n",
    "            # prepare for the next iteration\n",
    "            currSeq = ''.join(nextSeq)\n",
    "\n",
    "        return currSeq"
   ]
  },
  {
   "cell_type": "markdown",
   "metadata": {},
   "source": [
    "# Sliding Window and List - O(2 ^ N) runtime, O(2 ^ (N - 1)) space"
   ]
  },
  {
   "cell_type": "code",
   "execution_count": 9,
   "metadata": {},
   "outputs": [],
   "source": [
    "class Solution(object):\n",
    "    def countAndSay(self, n):\n",
    "        \"\"\"\n",
    "        :type n: int\n",
    "        :rtype: str\n",
    "        \"\"\"\n",
    "        return ''.join(self.nextSequence(n, ['1', 'E']))\n",
    "\n",
    "    def nextSequence(self, n, prevSeq):\n",
    "        if n == 1:\n",
    "            return prevSeq[:-1]\n",
    "\n",
    "        nextSeq = []\n",
    "        prevDigit = prevSeq[0]\n",
    "        digitCnt = 1\n",
    "        for digit in prevSeq[1:]:\n",
    "            if digit == prevDigit:\n",
    "                digitCnt += 1\n",
    "            else:\n",
    "                # the end of a sub-sequence\n",
    "                nextSeq.extend([str(digitCnt), prevDigit])\n",
    "                prevDigit = digit\n",
    "                digitCnt = 1\n",
    "\n",
    "        # add a delimiter for the next sequence\n",
    "        nextSeq.append('E')\n",
    "\n",
    "        return self.nextSequence(n-1, nextSeq)"
   ]
  },
  {
   "cell_type": "code",
   "execution_count": 8,
   "metadata": {},
   "outputs": [
    {
     "data": {
      "text/plain": [
       "'13211311123113112211'"
      ]
     },
     "execution_count": 8,
     "metadata": {},
     "output_type": "execute_result"
    }
   ],
   "source": [
    "instance = Solution()\n",
    "instance.countAndSay(10)"
   ]
  }
 ],
 "metadata": {
  "kernelspec": {
   "display_name": "Python 3",
   "language": "python",
   "name": "python3"
  },
  "language_info": {
   "codemirror_mode": {
    "name": "ipython",
    "version": 3
   },
   "file_extension": ".py",
   "mimetype": "text/x-python",
   "name": "python",
   "nbconvert_exporter": "python",
   "pygments_lexer": "ipython3",
   "version": "3.7.3"
  }
 },
 "nbformat": 4,
 "nbformat_minor": 2
}
