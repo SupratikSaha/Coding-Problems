{
 "cells": [
  {
   "cell_type": "markdown",
   "metadata": {},
   "source": [
    "Problem Statement.\n",
    "\n",
    "Given a binary array data, return the minimum number of swaps required to group all 1’s present in the array together in any place in the array.\n",
    "\n",
    " \n",
    "\n",
    "Example 1:\n",
    "\n",
    "Input: data = [1,0,1,0,1]\n",
    "Output: 1\n",
    "Explanation: \n",
    "There are 3 ways to group all 1's together:\n",
    "[1,1,1,0,0] using 1 swap.\n",
    "[0,1,1,1,0] using 2 swaps.\n",
    "[0,0,1,1,1] using 1 swap.\n",
    "The minimum is 1.\n",
    "\n",
    "Example 2:\n",
    "\n",
    "Input: data = [0,0,0,1,0]\n",
    "Output: 0\n",
    "Explanation: \n",
    "Since there is only one 1 in the array, no swaps needed.\n",
    "\n",
    "Example 3:\n",
    "\n",
    "Input: data = [1,0,1,0,1,0,0,1,1,0,1]\n",
    "Output: 3\n",
    "Explanation: \n",
    "One possible solution that uses 3 swaps is [0,0,0,0,0,1,1,1,1,1,1].\n",
    "\n",
    "Example 4:\n",
    "\n",
    "Input: data = [1,0,1,0,1,0,1,1,1,0,1,0,0,1,1,1,0,0,1,1,1,0,1,0,1,1,0,0,0,1,1,1,1,0,0,1]\n",
    "Output: 8\n",
    "\n",
    " \n",
    "\n",
    "Constraints:\n",
    "\n",
    "    1 <= data.length <= 105\n",
    "    data[i] is 0 or 1."
   ]
  },
  {
   "cell_type": "markdown",
   "metadata": {},
   "source": [
    "# Two Pointers - O(N) runtime, O(1) space"
   ]
  },
  {
   "cell_type": "code",
   "execution_count": 1,
   "metadata": {},
   "outputs": [],
   "source": [
    "from typing import List\n",
    "from collections import Counter\n",
    "\n",
    "class Solution:\n",
    "    def minSwaps(self, data: List[int]) -> int:\n",
    "\n",
    "        ones = sum(data)\n",
    "        if ones <= 1: return 0\n",
    "        \n",
    "        currentOneCount, left, maxOnes = 0, 0, 0\n",
    "        \n",
    "        for i in range(len(data)):\n",
    "            currentOneCount += data[i]\n",
    "                \n",
    "            if i >= ones:\n",
    "                currentOneCount -= data[left]\n",
    "                left += 1\n",
    "            \n",
    "            maxOnes = max(maxOnes, currentOneCount)\n",
    "                \n",
    "        return ones - maxOnes"
   ]
  },
  {
   "cell_type": "code",
   "execution_count": 2,
   "metadata": {},
   "outputs": [
    {
     "data": {
      "text/plain": [
       "8"
      ]
     },
     "execution_count": 2,
     "metadata": {},
     "output_type": "execute_result"
    }
   ],
   "source": [
    "instance = Solution()\n",
    "instance.minSwaps([1,0,1,0,1,0,1,1,1,0,1,0,0,1,1,1,0,0,1,1,1,0,1,0,1,1,0,0,0,1,1,1,1,0,0,1] )"
   ]
  }
 ],
 "metadata": {
  "kernelspec": {
   "display_name": "Python 3",
   "language": "python",
   "name": "python3"
  },
  "language_info": {
   "codemirror_mode": {
    "name": "ipython",
    "version": 3
   },
   "file_extension": ".py",
   "mimetype": "text/x-python",
   "name": "python",
   "nbconvert_exporter": "python",
   "pygments_lexer": "ipython3",
   "version": "3.7.3"
  }
 },
 "nbformat": 4,
 "nbformat_minor": 2
}
