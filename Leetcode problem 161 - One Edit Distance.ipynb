{
 "cells": [
  {
   "cell_type": "markdown",
   "metadata": {},
   "source": [
    "# Simple One-Pass : O(n) run time, O(1) space"
   ]
  },
  {
   "cell_type": "code",
   "execution_count": 2,
   "metadata": {},
   "outputs": [],
   "source": [
    "class Solution:\n",
    "    def isOneEditDistnace(self, s: str, t: str) -> bool:\n",
    "        m, n = len(s), len(t)\n",
    "        \n",
    "        if m > n:\n",
    "            return self.isOneEditDistnace(t, s)\n",
    "        \n",
    "        if n - m > 1:\n",
    "            return False\n",
    "        ctr, shift = 0, n - m\n",
    "        \n",
    "        while ctr < m and s[ctr] == t[ctr]:\n",
    "            ctr += 1\n",
    "            \n",
    "        if ctr == m:\n",
    "            return shift > 0\n",
    "        \n",
    "        if shift == 0:\n",
    "            ctr += 1\n",
    "            \n",
    "        while ctr < m and s[ctr] == t[ctr + shift]:\n",
    "            ctr += 1\n",
    "        \n",
    "        return ctr == m"
   ]
  },
  {
   "cell_type": "code",
   "execution_count": 9,
   "metadata": {},
   "outputs": [
    {
     "data": {
      "text/plain": [
       "True"
      ]
     },
     "execution_count": 9,
     "metadata": {},
     "output_type": "execute_result"
    }
   ],
   "source": [
    "Instance = Solution()\n",
    "Instance.isOneEditDistnace('ab','cb')"
   ]
  }
 ],
 "metadata": {
  "kernelspec": {
   "display_name": "Python 3",
   "language": "python",
   "name": "python3"
  },
  "language_info": {
   "codemirror_mode": {
    "name": "ipython",
    "version": 3
   },
   "file_extension": ".py",
   "mimetype": "text/x-python",
   "name": "python",
   "nbconvert_exporter": "python",
   "pygments_lexer": "ipython3",
   "version": "3.7.3"
  }
 },
 "nbformat": 4,
 "nbformat_minor": 2
}
