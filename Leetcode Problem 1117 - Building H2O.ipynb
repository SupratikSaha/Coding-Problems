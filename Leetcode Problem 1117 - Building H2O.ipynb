{
 "cells": [
  {
   "cell_type": "markdown",
   "metadata": {},
   "source": [
    "Problem Statement.\n",
    "\n",
    "There are two kinds of threads: oxygen and hydrogen. Your goal is to group these threads to form water molecules.\n",
    "\n",
    "There is a barrier where each thread has to wait until a complete molecule can be formed. Hydrogen and oxygen threads will be given releaseHydrogen and releaseOxygen methods respectively, which will allow them to pass the barrier. These threads should pass the barrier in groups of three, and they must immediately bond with each other to form a water molecule. You must guarantee that all the threads from one molecule bond before any other threads from the next molecule do.\n",
    "\n",
    "In other words:\n",
    "\n",
    "    If an oxygen thread arrives at the barrier when no hydrogen threads are present, it must wait for two hydrogen threads.\n",
    "    If a hydrogen thread arrives at the barrier when no other threads are present, it must wait for an oxygen thread and another hydrogen thread.\n",
    "\n",
    "We do not have to worry about matching the threads up explicitly; the threads do not necessarily know which other threads they are paired up with. The key is that threads pass the barriers in complete sets; thus, if we examine the sequence of threads that bind and divide them into groups of three, each group should contain one oxygen and two hydrogen threads.\n",
    "\n",
    "Write synchronization code for oxygen and hydrogen molecules that enforces these constraints.\n",
    "\n",
    " \n",
    "\n",
    "Example 1:\n",
    "\n",
    "Input: water = \"HOH\"\n",
    "Output: \"HHO\"\n",
    "Explanation: \"HOH\" and \"OHH\" are also valid answers.\n",
    "\n",
    "Example 2:\n",
    "\n",
    "Input: water = \"OOHHHH\"\n",
    "Output: \"HHOHHO\"\n",
    "Explanation: \"HOHHHO\", \"OHHHHO\", \"HHOHOH\", \"HOHHOH\", \"OHHHOH\", \"HHOOHH\", \"HOHOHH\" and \"OHHOHH\" are also valid answers.\n",
    "\n",
    " \n",
    "\n",
    "Constraints:\n",
    "\n",
    "    3 * n == water.length\n",
    "    1 <= n <= 20\n",
    "    water[i] is either 'H' or 'O'.\n",
    "    There will be exactly 2 * n 'H' in water.\n",
    "    There will be exactly n 'O' in water."
   ]
  },
  {
   "cell_type": "markdown",
   "metadata": {},
   "source": [
    "# Threading - O(1) runtime, O(1) space"
   ]
  },
  {
   "cell_type": "code",
   "execution_count": 1,
   "metadata": {},
   "outputs": [],
   "source": [
    "from threading import Barrier, Semaphore\n",
    "from typing import Callable\n",
    "\n",
    "class H2O:\n",
    "    def __init__(self):\n",
    "        self.b = Barrier(3)\n",
    "        self.h = Semaphore(2)\n",
    "        self.o = Semaphore(1)\n",
    "\n",
    "    def hydrogen(self, releaseHydrogen: 'Callable[[], None]') -> None:\n",
    "        with self.h:\n",
    "            self.b.wait()\n",
    "            # releaseHydrogen() outputs \"H\". Do not change or remove this line.\n",
    "            releaseHydrogen()\n",
    "\n",
    "    def oxygen(self, releaseOxygen: 'Callable[[], None]') -> None:\n",
    "        with self.o:\n",
    "            self.b.wait()\n",
    "            # releaseOxygen() outputs \"O\". Do not change or remove this line.\n",
    "            releaseOxygen()"
   ]
  }
 ],
 "metadata": {
  "kernelspec": {
   "display_name": "Python 3",
   "language": "python",
   "name": "python3"
  },
  "language_info": {
   "codemirror_mode": {
    "name": "ipython",
    "version": 3
   },
   "file_extension": ".py",
   "mimetype": "text/x-python",
   "name": "python",
   "nbconvert_exporter": "python",
   "pygments_lexer": "ipython3",
   "version": "3.7.3"
  }
 },
 "nbformat": 4,
 "nbformat_minor": 2
}
