{
 "cells": [
  {
   "cell_type": "markdown",
   "metadata": {},
   "source": [
    "Problem Statement. <br/>\n",
    "\n",
    "Given a singly linked list, group all odd nodes together followed by the even nodes. Please note here we are talking about the node number and not the value in the nodes. <br/>\n",
    "You should try to do it in place. The program should run in O(1) space complexity and O(nodes) time complexity. <br/>\n",
    "\n",
    "Example 1: <br/>\n",
    "Input: 1->2->3->4->5->NULL <br/>\n",
    "Output: 1->3->5->2->4->NULL <br/>\n",
    "\n",
    "Example 2: <br/>\n",
    "Input: 2->1->3->5->6->4->7->NULL <br/>\n",
    "Output: 2->3->6->7->1->5->4->NULL"
   ]
  },
  {
   "cell_type": "markdown",
   "metadata": {},
   "source": [
    "# Two Pointers - O(N) runtime, O(1) space"
   ]
  },
  {
   "cell_type": "code",
   "execution_count": 17,
   "metadata": {},
   "outputs": [],
   "source": [
    "# Definition for singly-linked list.\n",
    "# class ListNode:\n",
    "#     def __init__(self, val=0, next=None):\n",
    "#         self.val = val\n",
    "#         self.next = next\n",
    "        \n",
    "class Solution:\n",
    "    def oddEvenList(self, head: ListNode) -> ListNode:\n",
    "        if not head or not head.next:\n",
    "            return head\n",
    "        \n",
    "\n",
    "        evenHead = head.next\n",
    "        currOdd = head\n",
    "        currEven = evenHead\n",
    "\n",
    "        while currOdd and currOdd.next and currOdd.next.next:\n",
    "            currOdd.next = currOdd.next.next\n",
    "            currOdd = currOdd.next\n",
    "            \n",
    "            if currEven and currEven.next and currEven.next.next:\n",
    "                currEven.next = currEven.next.next\n",
    "                currEven = currEven.next\n",
    "                \n",
    "        \n",
    "        currEven.next = None \n",
    "        currOdd.next = evenHead\n",
    "        \n",
    "        return head"
   ]
  },
  {
   "cell_type": "markdown",
   "metadata": {},
   "source": [
    "# Two Pointers - Simpler Approach - O(N) runtime, O(1) space"
   ]
  },
  {
   "cell_type": "code",
   "execution_count": 18,
   "metadata": {},
   "outputs": [],
   "source": [
    "# Definition for singly-linked list.\n",
    "# class ListNode:\n",
    "#     def __init__(self, val=0, next=None):\n",
    "#         self.val = val\n",
    "#         self.next = next\n",
    "\n",
    "class Solution:\n",
    "    def oddEvenList(self, head: ListNode) -> ListNode:\n",
    "        if not head or not head.next:\n",
    "            return head\n",
    "        \n",
    "        odd = head\n",
    "        even = head.next\n",
    "        evenhead = even\n",
    "\n",
    "        while even and even.next:\n",
    "            odd.next = even.next\n",
    "            odd = odd.next\n",
    "            even.next = odd.next\n",
    "            even = even.next\n",
    "            \n",
    "        odd.next = evenhead\n",
    "        \n",
    "        return head"
   ]
  }
 ],
 "metadata": {
  "kernelspec": {
   "display_name": "Python 3",
   "language": "python",
   "name": "python3"
  },
  "language_info": {
   "codemirror_mode": {
    "name": "ipython",
    "version": 3
   },
   "file_extension": ".py",
   "mimetype": "text/x-python",
   "name": "python",
   "nbconvert_exporter": "python",
   "pygments_lexer": "ipython3",
   "version": "3.7.3"
  }
 },
 "nbformat": 4,
 "nbformat_minor": 2
}
