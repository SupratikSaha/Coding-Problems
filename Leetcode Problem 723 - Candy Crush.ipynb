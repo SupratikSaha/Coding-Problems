{
 "cells": [
  {
   "cell_type": "markdown",
   "metadata": {},
   "source": [
    "Problem Statement.\n",
    "\n",
    "This question is about implementing a basic elimination algorithm for Candy Crush.\n",
    "\n",
    "Given a 2D integer array board representing the grid of candy, different positive integers board[i][j] represent different types of candies. A value of board[i][j] = 0 represents that the cell at position (i, j) is empty. The given board represents the state of the game following the player's move. Now, you need to restore the board to a stable state by crushing candies according to the following rules:\n",
    "\n",
    "    If three or more candies of the same type are adjacent vertically or horizontally, \"crush\" them all at the same time - these positions become empty.\n",
    "    After crushing all candies simultaneously, if an empty space on the board has candies on top of itself, then these candies will drop until they hit a candy or bottom at the same time. (No new candies will drop outside the top boundary.)\n",
    "    After the above steps, there may exist more candies that can be crushed. If so, you need to repeat the above steps.\n",
    "    If there does not exist more candies that can be crushed (ie. the board is stable), then return the current board.\n",
    "\n",
    "You need to perform the above rules until the board becomes stable, then return the current board.\n",
    "\n",
    " \n",
    "\n",
    "Example:\n",
    "\n",
    "Input:\n",
    "board = \n",
    "[[110,5,112,113,114],[210,211,5,213,214],[310,311,3,313,314],[410,411,412,5,414],[5,1,512,3,3],[610,4,1,613,614],[710,1,2,713,714],[810,1,2,1,1],[1,1,2,2,2],[4,1,4,4,1014]]\n",
    "\n",
    "Output:\n",
    "[[0,0,0,0,0],[0,0,0,0,0],[0,0,0,0,0],[110,0,0,0,114],[210,0,0,0,214],[310,0,0,113,314],[410,0,0,213,414],[610,211,112,313,614],[710,311,412,613,714],[810,411,512,713,1014]]\n",
    "\n",
    "Explanation: \n",
    "\n",
    " \n",
    "\n",
    "Note:\n",
    "\n",
    "    The length of board will be in the range [3, 50].\n",
    "    The length of board[i] will be in the range [3, 50].\n",
    "    Each board[i][j] will initially start as an integer in the range [1, 2000]."
   ]
  },
  {
   "cell_type": "markdown",
   "metadata": {},
   "source": [
    "# Brute Force - O((M * N) * N * M ^ 2) = O(M ^ 3 * N ^ 2) runtime, O(M * N) space, where K is the number of repetitions needed"
   ]
  },
  {
   "cell_type": "code",
   "execution_count": 3,
   "metadata": {},
   "outputs": [],
   "source": [
    "from typing import List\n",
    "from collections import defaultdict\n",
    "\n",
    "class Solution:\n",
    "    def candyCrush(self, board: List[List[int]]) -> List[List[int]]:\n",
    "        m, n = len(board), len(board[0])\n",
    "        \n",
    "        while True:\n",
    "            delSet = set()\n",
    "            prevBoard = board\n",
    "            for i in range(m):\n",
    "                prev = board[i][0]\n",
    "                currSet = {(i, 0)}\n",
    "                for j in range(1, n):\n",
    "                    if board[i][j] > 0 and board[i][j] == prev: \n",
    "                        currSet.add((i, j))\n",
    "                    else:\n",
    "                        if len(currSet) >= 3: delSet.update(currSet)\n",
    "                        currSet = set()\n",
    "                        if board[i][j] > 0: currSet = {(i, j)}\n",
    "                        \n",
    "                    prev = board[i][j]\n",
    "                if len(currSet) >= 3: delSet.update(currSet)\n",
    "                    \n",
    "            for j in range(n):\n",
    "                prev = board[0][j]\n",
    "                currSet = {(0, j)}\n",
    "                for i in range(1, m):\n",
    "                    if board[i][j] > 0 and board[i][j] == prev: \n",
    "                        currSet.add((i, j))\n",
    "                    else:\n",
    "                        if len(currSet) >= 3: delSet.update(currSet)\n",
    "                        currSet = set()\n",
    "                        if board[i][j] > 0: currSet = {(i, j)}\n",
    "                        \n",
    "                    prev = board[i][j]\n",
    "                if len(currSet) >= 3: delSet.update(currSet)\n",
    "            \n",
    "            delDict = defaultdict(set)\n",
    "            for i, j in delSet: \n",
    "                board[i][j] = 0\n",
    "                delDict[j].add(i)\n",
    "                \n",
    "            for j in delDict:\n",
    "                delList = sorted(list(delDict[j]))\n",
    "                for i in delList:\n",
    "                    for k in range(i, 0, -1):\n",
    "                        board[k][j] = board[k-1][j] \n",
    "                    board[0][j] = 0\n",
    "                \n",
    "            if len(delSet) == 0: break\n",
    "                \n",
    "        return board"
   ]
  },
  {
   "cell_type": "markdown",
   "metadata": {},
   "source": [
    "# Simpler As-Hoc - O((M * N) ^ 2) runtime, O(1) space"
   ]
  },
  {
   "cell_type": "code",
   "execution_count": 7,
   "metadata": {},
   "outputs": [],
   "source": [
    "from typing import List\n",
    "\n",
    "class Solution:\n",
    "    def candyCrush(self, board: List[List[int]]) -> List[List[int]]:\n",
    "        todo = True\n",
    "        while todo:\n",
    "            R, C = len(board), len(board[0])\n",
    "            todo = False\n",
    "\n",
    "            for r in range(R):\n",
    "                for c in range(C-2):\n",
    "                    if abs(board[r][c]) == abs(board[r][c+1]) == abs(board[r][c+2]) != 0:\n",
    "                        board[r][c] = board[r][c+1] = board[r][c+2] = -abs(board[r][c])\n",
    "                        todo = True\n",
    "\n",
    "            for r in range(R-2):\n",
    "                for c in range(C):\n",
    "                    if abs(board[r][c]) == abs(board[r+1][c]) == abs(board[r+2][c]) != 0:\n",
    "                        board[r][c] = board[r+1][c] = board[r+2][c] = -abs(board[r][c])\n",
    "                        todo = True\n",
    "\n",
    "            for c in range(C):\n",
    "                wr = R-1\n",
    "                for r in range(R-1, -1, -1):\n",
    "                    if board[r][c] > 0:\n",
    "                        board[wr][c] = board[r][c]\n",
    "                        wr -= 1\n",
    "                for wr in range(wr, -1, -1):\n",
    "                    board[wr][c] = 0\n",
    "\n",
    "        return board"
   ]
  },
  {
   "cell_type": "code",
   "execution_count": 8,
   "metadata": {},
   "outputs": [
    {
     "data": {
      "text/plain": [
       "[[0, 0, 0, 0, 0],\n",
       " [0, 0, 0, 0, 0],\n",
       " [0, 0, 0, 0, 0],\n",
       " [110, 0, 0, 0, 114],\n",
       " [210, 0, 0, 0, 214],\n",
       " [310, 0, 0, 113, 314],\n",
       " [410, 0, 0, 213, 414],\n",
       " [610, 211, 112, 313, 614],\n",
       " [710, 311, 412, 613, 714],\n",
       " [810, 411, 512, 713, 1014]]"
      ]
     },
     "execution_count": 8,
     "metadata": {},
     "output_type": "execute_result"
    }
   ],
   "source": [
    "instance = Solution()\n",
    "instance.candyCrush( [[110,5,112,113,114],[210,211,5,213,214],[310,311,3,313,314],\n",
    "                      [410,411,412,5,414],[5,1,512,3,3],[610,4,1,613,614],\n",
    "                      [710,1,2,713,714],[810,1,2,1,1],[1,1,2,2,2],[4,1,4,4,1014]])"
   ]
  }
 ],
 "metadata": {
  "kernelspec": {
   "display_name": "Python 3",
   "language": "python",
   "name": "python3"
  },
  "language_info": {
   "codemirror_mode": {
    "name": "ipython",
    "version": 3
   },
   "file_extension": ".py",
   "mimetype": "text/x-python",
   "name": "python",
   "nbconvert_exporter": "python",
   "pygments_lexer": "ipython3",
   "version": "3.7.3"
  }
 },
 "nbformat": 4,
 "nbformat_minor": 2
}
