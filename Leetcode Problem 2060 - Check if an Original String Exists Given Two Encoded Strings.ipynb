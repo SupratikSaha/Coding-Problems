{
 "cells": [
  {
   "cell_type": "markdown",
   "metadata": {},
   "source": [
    "Problem Statement.\n",
    "\n",
    "An original string, consisting of lowercase English letters, can be encoded by the following steps:\n",
    "\n",
    "    Arbitrarily split it into a sequence of some number of non-empty substrings.\n",
    "    Arbitrarily choose some elements (possibly none) of the sequence, and replace each with its length (as a numeric string).\n",
    "    Concatenate the sequence as the encoded string.\n",
    "\n",
    "For example, one way to encode an original string \"abcdefghijklmnop\" might be:\n",
    "\n",
    "    Split it as a sequence: [\"ab\", \"cdefghijklmn\", \"o\", \"p\"].\n",
    "    Choose the second and third elements to be replaced by their lengths, respectively. The sequence becomes [\"ab\", \"12\", \"1\", \"p\"].\n",
    "    Concatenate the elements of the sequence to get the encoded string: \"ab121p\".\n",
    "\n",
    "Given two encoded strings s1 and s2, consisting of lowercase English letters and digits 1-9 (inclusive), return true if there exists an original string that could be encoded as both s1 and s2. Otherwise, return false.\n",
    "\n",
    "Note: The test cases are generated such that the number of consecutive digits in s1 and s2 does not exceed 3.\n",
    "\n",
    " \n",
    "\n",
    "Example 1:\n",
    "\n",
    "Input: s1 = \"internationalization\", s2 = \"i18n\"\n",
    "Output: true\n",
    "Explanation: It is possible that \"internationalization\" was the original string.\n",
    "- \"internationalization\" \n",
    "  -> Split:       [\"internationalization\"]\n",
    "  -> Do not replace any element\n",
    "  -> Concatenate:  \"internationalization\", which is s1.\n",
    "- \"internationalization\"\n",
    "  -> Split:       [\"i\", \"nternationalizatio\", \"n\"]\n",
    "  -> Replace:     [\"i\", \"18\",                 \"n\"]\n",
    "  -> Concatenate:  \"i18n\", which is s2\n",
    "\n",
    "Example 2:\n",
    "\n",
    "Input: s1 = \"l123e\", s2 = \"44\"\n",
    "Output: true\n",
    "Explanation: It is possible that \"leetcode\" was the original string.\n",
    "- \"leetcode\" \n",
    "  -> Split:      [\"l\", \"e\", \"et\", \"cod\", \"e\"]\n",
    "  -> Replace:    [\"l\", \"1\", \"2\",  \"3\",   \"e\"]\n",
    "  -> Concatenate: \"l123e\", which is s1.\n",
    "- \"leetcode\" \n",
    "  -> Split:      [\"leet\", \"code\"]\n",
    "  -> Replace:    [\"4\",    \"4\"]\n",
    "  -> Concatenate: \"44\", which is s2.\n",
    "\n",
    "Example 3:\n",
    "\n",
    "Input: s1 = \"a5b\", s2 = \"c5b\"\n",
    "Output: false\n",
    "Explanation: It is impossible.\n",
    "- The original string encoded as s1 must start with the letter 'a'.\n",
    "- The original string encoded as s2 must start with the letter 'c'.\n",
    "\n",
    " \n",
    "\n",
    "Constraints:\n",
    "\n",
    "    1 <= s1.length, s2.length <= 40\n",
    "    s1 and s2 consist of digits 1-9 (inclusive), and lowercase English letters only.\n",
    "    The number of consecutive digits in s1 and s2 does not exceed 3."
   ]
  },
  {
   "cell_type": "markdown",
   "metadata": {},
   "source": [
    "# DP - O(N ^ 3) runtime, O(N ^ 3) space"
   ]
  },
  {
   "cell_type": "code",
   "execution_count": 5,
   "metadata": {},
   "outputs": [],
   "source": [
    "from functools import lru_cache\n",
    "\n",
    "class Solution:\n",
    "    def possiblyEquals(self, s1: str, s2: str) -> bool:\n",
    "        \n",
    "        def gg(s): \n",
    "            \"\"\"Return possible length.\"\"\"\n",
    "            ans = {int(s)}\n",
    "            for i in range(1, len(s)): \n",
    "                ans |= {x+y for x in gg(s[:i]) for y in gg(s[i:])}\n",
    "            return ans\n",
    "        \n",
    "        @lru_cache(maxsize=None)\n",
    "        def fn(i, j, diff): \n",
    "            \"\"\"Return True if s1[i:] matches s2[j:] with given differences.\"\"\"\n",
    "            l1, l2 = len(s1), len(s2)\n",
    "            if i == l1 and j == l2: return diff == 0\n",
    "            \n",
    "            if i < l1 and s1[i].isdigit(): \n",
    "                ii = i\n",
    "                while ii < l1 and s1[ii].isdigit(): ii += 1\n",
    "                for x in gg(s1[i:ii]): \n",
    "                    if fn(ii, j, diff-x): return True \n",
    "            elif j < l2 and s2[j].isdigit(): \n",
    "                jj = j \n",
    "                while jj < l2 and s2[jj].isdigit(): jj += 1\n",
    "                for x in gg(s2[j:jj]): \n",
    "                    if fn(i, jj, diff+x): return True \n",
    "            elif diff == 0: \n",
    "                if i < l1 and j < l2 and s1[i] == s2[j]: return fn(i+1, j+1, 0)\n",
    "            elif diff > 0: \n",
    "                if i < l1: return fn(i+1, j, diff-1)\n",
    "            else: \n",
    "                if j < l2: return fn(i, j+1, diff+1)\n",
    "                \n",
    "            return False \n",
    "            \n",
    "        return fn(0, 0, 0)"
   ]
  },
  {
   "cell_type": "code",
   "execution_count": 6,
   "metadata": {},
   "outputs": [
    {
     "data": {
      "text/plain": [
       "True"
      ]
     },
     "execution_count": 6,
     "metadata": {},
     "output_type": "execute_result"
    }
   ],
   "source": [
    "indtance = Solution()\n",
    "indtance.possiblyEquals(\"l123e\", \"44\")"
   ]
  }
 ],
 "metadata": {
  "kernelspec": {
   "display_name": "Python 3",
   "language": "python",
   "name": "python3"
  },
  "language_info": {
   "codemirror_mode": {
    "name": "ipython",
    "version": 3
   },
   "file_extension": ".py",
   "mimetype": "text/x-python",
   "name": "python",
   "nbconvert_exporter": "python",
   "pygments_lexer": "ipython3",
   "version": "3.7.3"
  }
 },
 "nbformat": 4,
 "nbformat_minor": 2
}
