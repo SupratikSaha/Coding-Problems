{
 "cells": [
  {
   "cell_type": "markdown",
   "metadata": {},
   "source": [
    "Problem Statement.\n",
    "\n",
    "Given the root of a binary tree, return the number of nodes where the value of the node is equal to the sum of the values of its descendants.\n",
    "\n",
    "A descendant of a node x is any node that is on the path from node x to some leaf node. The sum is considered to be 0 if the node has no descendants.\n",
    "\n",
    " \n",
    "\n",
    "Example 1:\n",
    "\n",
    "Input: root = [10,3,4,2,1]\n",
    "Output: 2\n",
    "Explanation:\n",
    "For the node with value 10: The sum of its descendants is 3+4+2+1 = 10.\n",
    "For the node with value 3: The sum of its descendants is 2+1 = 3.\n",
    "\n",
    "Example 2:\n",
    "\n",
    "Input: root = [2,3,null,2,null]\n",
    "Output: 0\n",
    "Explanation:\n",
    "No node has a value that is equal to the sum of its descendants.\n",
    "\n",
    "Example 3:\n",
    "\n",
    "Input: root = [0]\n",
    "Output: 1\n",
    "For the node with value 0: The sum of its descendants is 0 since it has no descendants.\n",
    "\n",
    " \n",
    "\n",
    "Constraints:\n",
    "\n",
    "    The number of nodes in the tree is in the range [1, 10^5].\n",
    "    0 <= Node.val <= 10^5"
   ]
  },
  {
   "cell_type": "markdown",
   "metadata": {},
   "source": [
    "# DFS - O(N) runtime, O(N) space"
   ]
  },
  {
   "cell_type": "code",
   "execution_count": null,
   "metadata": {},
   "outputs": [],
   "source": [
    "# Definition for a binary tree node.\n",
    "# class TreeNode:\n",
    "#     def __init__(self, val=0, left=None, right=None):\n",
    "#         self.val = val\n",
    "#         self.left = left\n",
    "#         self.right = right\n",
    "class Solution:\n",
    "    def equalToDescendants(self, root: Optional[TreeNode]) -> int:\n",
    "        \n",
    "        def dfs(node):\n",
    "            nonlocal count\n",
    "            if not node: return 0\n",
    "            \n",
    "            childrenSum = dfs(node.left) + dfs(node.right)\n",
    "            \n",
    "            if childrenSum == node.val: count += 1\n",
    "                \n",
    "            return childrenSum + node.val\n",
    "        \n",
    "        count = 0\n",
    "        dfs(root)\n",
    "        return count"
   ]
  }
 ],
 "metadata": {
  "kernelspec": {
   "display_name": "Python 3",
   "language": "python",
   "name": "python3"
  },
  "language_info": {
   "codemirror_mode": {
    "name": "ipython",
    "version": 3
   },
   "file_extension": ".py",
   "mimetype": "text/x-python",
   "name": "python",
   "nbconvert_exporter": "python",
   "pygments_lexer": "ipython3",
   "version": "3.7.3"
  }
 },
 "nbformat": 4,
 "nbformat_minor": 2
}
