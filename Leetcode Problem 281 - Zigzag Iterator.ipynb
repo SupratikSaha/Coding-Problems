{
 "cells": [
  {
   "cell_type": "markdown",
   "metadata": {},
   "source": [
    "Problem Statement.\n",
    "\n",
    "Given two vectors of integers v1 and v2, implement an iterator to return their elements alternately.\n",
    "\n",
    "Implement the ZigzagIterator class:\n",
    "\n",
    "    ZigzagIterator(List<int> v1, List<int> v2) initializes the object with the two vectors v1 and v2.\n",
    "    boolean hasNext() returns true if the iterator still has elements, and false otherwise.\n",
    "    int next() returns the current element of the iterator and moves the iterator to the next element.\n",
    "\n",
    " \n",
    "\n",
    "Example 1:\n",
    "\n",
    "Input: v1 = [1,2], v2 = [3,4,5,6]\n",
    "Output: [1,3,2,4,5,6]\n",
    "Explanation: By calling next repeatedly until hasNext returns false, the order of elements returned by next should be: [1,3,2,4,5,6].\n",
    "\n",
    "Example 2:\n",
    "\n",
    "Input: v1 = [1], v2 = []\n",
    "Output: [1]\n",
    "\n",
    "Example 3:\n",
    "\n",
    "Input: v1 = [], v2 = [1]\n",
    "Output: [1]\n",
    "\n",
    " \n",
    "\n",
    "Constraints:\n",
    "\n",
    "    0 <= v1.length, v2.length <= 1000\n",
    "    1 <= v1.length + v2.length <= 2000\n",
    "    -231 <= v1[i], v2[i] <= 231 - 1\n",
    "\n",
    " \n",
    "\n",
    "Follow up: What if you are given k vectors? How well can your code be extended to such cases?\n",
    "\n",
    "Clarification for the follow-up question:\n",
    "\n",
    "The \"Zigzag\" order is not clearly defined and is ambiguous for k > 2 cases. If \"Zigzag\" does not look right to you, replace \"Zigzag\" with \"Cyclic\".\n",
    "\n",
    "Example:\n",
    "\n",
    "Input: v1 = [1,2,3], v2 = [4,5,6,7], v3 = [8,9]\n",
    "Output: [1,4,8,2,5,9,3,6,7]"
   ]
  },
  {
   "cell_type": "markdown",
   "metadata": {},
   "source": [
    "# Deque - O(1) runtime, O(N1 + N2) space"
   ]
  },
  {
   "cell_type": "code",
   "execution_count": 1,
   "metadata": {},
   "outputs": [],
   "source": [
    "from typing import List\n",
    "from collections import deque\n",
    "\n",
    "class ZigzagIterator:\n",
    "    def __init__(self, v1: List[int], v2: List[int]):\n",
    "        self.v1 = deque(v1)\n",
    "        self.v2 = deque(v2)\n",
    "        self.turn = 1\n",
    "\n",
    "    def next(self) -> int:\n",
    "        if self.turn:\n",
    "            self.turn = 0\n",
    "            if self.v1: return self.v1.popleft()\n",
    "            if self.v2: return self.v2.popleft()\n",
    "        else:\n",
    "            self.turn = 1\n",
    "            if self.v2: return self.v2.popleft()\n",
    "            if self.v1: return self.v1.popleft()\n",
    "\n",
    "    def hasNext(self) -> bool:\n",
    "        return self.v1 or self.v2 "
   ]
  },
  {
   "cell_type": "markdown",
   "metadata": {},
   "source": [
    "# Prepare for more than 2 vectors - O(1) runtime, O(N1 + N2) space"
   ]
  },
  {
   "cell_type": "code",
   "execution_count": 2,
   "metadata": {},
   "outputs": [],
   "source": [
    "from typing import List\n",
    "from collections import deque\n",
    "\n",
    "class ZigzagIterator:\n",
    "    def __init__(self, v1: List[int], v2: List[int]):\n",
    "        self.vectors = [v1, v2]\n",
    "        self.queue = deque()\n",
    "        for index, vector in enumerate(self.vectors):\n",
    "            # <index_of_vector, index_of_element_to_output>\n",
    "            if len(vector) > 0:\n",
    "                self.queue.append((index, 0))\n",
    "\n",
    "    def next(self) -> int:\n",
    "\n",
    "        if self.queue:\n",
    "            vec_index, elem_index = self.queue.popleft()\n",
    "            next_elem_index = elem_index + 1\n",
    "            if next_elem_index < len(self.vectors[vec_index]):\n",
    "                # append the pointer for the next round\n",
    "                # if there are some elements left\n",
    "                self.queue.append((vec_index, next_elem_index))\n",
    "\n",
    "            return self.vectors[vec_index][elem_index]\n",
    "\n",
    "        # no more element to output\n",
    "        raise Exception\n",
    "\n",
    "    def hasNext(self) -> bool:\n",
    "        return len(self.queue) > 0"
   ]
  },
  {
   "cell_type": "code",
   "execution_count": 4,
   "metadata": {},
   "outputs": [
    {
     "name": "stdout",
     "output_type": "stream",
     "text": [
      "[1, 3, 2, 4, 5, 6]\n"
     ]
    }
   ],
   "source": [
    "i, v = ZigzagIterator([1,2],[3,4,5,6]), []\n",
    "while i.hasNext(): v.append(i.next())\n",
    "print(v)"
   ]
  }
 ],
 "metadata": {
  "kernelspec": {
   "display_name": "Python 3",
   "language": "python",
   "name": "python3"
  },
  "language_info": {
   "codemirror_mode": {
    "name": "ipython",
    "version": 3
   },
   "file_extension": ".py",
   "mimetype": "text/x-python",
   "name": "python",
   "nbconvert_exporter": "python",
   "pygments_lexer": "ipython3",
   "version": "3.7.3"
  }
 },
 "nbformat": 4,
 "nbformat_minor": 2
}
