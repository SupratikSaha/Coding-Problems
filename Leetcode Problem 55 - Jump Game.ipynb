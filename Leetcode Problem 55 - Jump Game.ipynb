{
 "cells": [
  {
   "cell_type": "markdown",
   "metadata": {},
   "source": [
    "Given an array of non-negative integers, you are initially positioned at the first index of the array.\n",
    "\n",
    "Each element in the array represents your maximum jump length at that position.\n",
    "\n",
    "Determine if you are able to reach the last index.\n",
    "\n",
    " \n",
    "\n",
    "Example 1:\n",
    "\n",
    "Input: nums = [2,3,1,1,4]\n",
    "Output: true\n",
    "Explanation: Jump 1 step from index 0 to 1, then 3 steps to the last index.\n",
    "\n",
    "Example 2:\n",
    "\n",
    "Input: nums = [3,2,1,0,4]\n",
    "Output: false\n",
    "Explanation: You will always arrive at index 3 no matter what. Its maximum jump length is 0, which makes it impossible to reach the last index.\n",
    "\n",
    " \n",
    "\n",
    "Constraints:\n",
    "\n",
    "    1 <= nums.length <= 3 * 10^4\n",
    "    0 <= nums[i][j] <= 10^5"
   ]
  },
  {
   "cell_type": "markdown",
   "metadata": {},
   "source": [
    "# Brute Force - O(2 ^ n) runtime, O(n) space - Time Limit Exceeded"
   ]
  },
  {
   "cell_type": "code",
   "execution_count": 1,
   "metadata": {},
   "outputs": [],
   "source": [
    "from typing import List\n",
    "\n",
    "class Solution:\n",
    "    def canJump(self, nums: List[int]) -> bool:\n",
    "        return self.canJumpFromPosition(0, nums)\n",
    "    \n",
    "    def canJumpFromPosition(self, position: int, nums: List[int]) -> bool:\n",
    "        length = len(nums)\n",
    "        \n",
    "        if position == length - 1:\n",
    "            return True\n",
    "        probable_issue = False\n",
    "        \n",
    "        furthestJump = min(position + nums[position], length - 1)\n",
    "        for nextPos in range(furthestJump, position, -1):\n",
    "            if self.canJumpFromPosition(nextPos, nums):\n",
    "                return True\n",
    "        \n",
    "        return False"
   ]
  },
  {
   "cell_type": "markdown",
   "metadata": {},
   "source": [
    "# DP Top Down  - O(n ^ 2) runtime, O(n) space - Time Limit Exceeded"
   ]
  },
  {
   "cell_type": "code",
   "execution_count": 2,
   "metadata": {},
   "outputs": [],
   "source": [
    "from typing import List\n",
    "\n",
    "class Solution:\n",
    "    \n",
    "    def __init__(self):\n",
    "        self.Index = {'GOOD':0, 'BAD':1, 'UNKNOWN':2}\n",
    "        self.memo = []\n",
    "    \n",
    "    def canJump(self, nums: List[int]) -> bool:\n",
    "        length = len(nums)\n",
    "        self.memo = [self.Index['UNKNOWN']] * len(nums)\n",
    "        self.memo[length - 1] = self.Index['GOOD']\n",
    "        \n",
    "        return self.canJumpFromPosition(0, nums, length)\n",
    "    \n",
    "    def canJumpFromPosition(self, position: int, nums: List[int], length: int) -> bool:\n",
    "        if  self.memo[position] != self.Index['UNKNOWN']:\n",
    "            return self.memo[position] == self.Index['GOOD']\n",
    "        \n",
    "        furthestJump = min(position + nums[position], length - 1)\n",
    "        for nextPos in range(furthestJump, position, -1):\n",
    "            if self.canJumpFromPosition(nextPos, nums,length):\n",
    "                self.memo[position] = self.Index['GOOD']\n",
    "                return True\n",
    "        \n",
    "        self.memo[position] = self.Index['BAD']\n",
    "        return False"
   ]
  },
  {
   "cell_type": "markdown",
   "metadata": {},
   "source": [
    "# DP Bottom Up - O(n ^ 2) runtime, O(n) space - Time Limit Exceeded"
   ]
  },
  {
   "cell_type": "code",
   "execution_count": 3,
   "metadata": {},
   "outputs": [],
   "source": [
    "from typing import List\n",
    "\n",
    "class Solution:\n",
    "\n",
    "    def canJump(self, nums: List[int]) -> bool:\n",
    "        \n",
    "        self.Index = {'GOOD':0, 'BAD':1, 'UNKNOWN':2}\n",
    "        length = len(nums)\n",
    "        self.memo = [self.Index['UNKNOWN']] * len(nums)\n",
    "        self.memo[length - 1] = self.Index['GOOD']\n",
    "        \n",
    "        for i in range(length - 2, -1, -1):\n",
    "            furthestJump = min(i + nums[i], length - 1)\n",
    "            for j in range(i + 1, furthestJump + 1):\n",
    "                if self.memo[j] == self.Index['GOOD']:\n",
    "                    self.memo[i] = self.Index['GOOD']\n",
    "                    break\n",
    "        \n",
    "        return self.memo[0] == self.Index['GOOD']"
   ]
  },
  {
   "cell_type": "markdown",
   "metadata": {},
   "source": [
    "# Greedy - O(n) runtime, O(1) space"
   ]
  },
  {
   "cell_type": "code",
   "execution_count": 4,
   "metadata": {},
   "outputs": [],
   "source": [
    "from typing import List\n",
    "\n",
    "class Solution:\n",
    "\n",
    "    def canJump(self, nums: List[int]) -> bool:\n",
    "        length = len(nums)\n",
    "        last_pos = length - 1\n",
    "        \n",
    "        for i in range(length - 1, -1, -1):\n",
    "            if i + nums[i] >= last_pos:\n",
    "                last_pos = i\n",
    "        \n",
    "        return last_pos == 0"
   ]
  },
  {
   "cell_type": "code",
   "execution_count": 5,
   "metadata": {},
   "outputs": [],
   "source": [
    "instance = Solution()\n",
    "instance.canJump([2,3,1,1,4])"
   ]
  }
 ],
 "metadata": {
  "kernelspec": {
   "display_name": "Python 3",
   "language": "python",
   "name": "python3"
  },
  "language_info": {
   "codemirror_mode": {
    "name": "ipython",
    "version": 3
   },
   "file_extension": ".py",
   "mimetype": "text/x-python",
   "name": "python",
   "nbconvert_exporter": "python",
   "pygments_lexer": "ipython3",
   "version": "3.7.3"
  }
 },
 "nbformat": 4,
 "nbformat_minor": 2
}
