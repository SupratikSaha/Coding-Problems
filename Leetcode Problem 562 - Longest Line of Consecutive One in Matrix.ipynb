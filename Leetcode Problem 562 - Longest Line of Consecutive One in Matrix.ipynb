{
 "cells": [
  {
   "cell_type": "markdown",
   "metadata": {},
   "source": [
    "Problem Statement. <br/>\n",
    "\n",
    "Given a 01 matrix M, find the longest line of consecutive one in the matrix. The line could be horizontal, vertical, diagonal or anti-diagonal. <br/>\n",
    "\n",
    "Example: <br/>\n",
    "Input: <br/>\n",
    "[ <br/>\n",
    "[0,1,1,0], <br/>\n",
    "[0,1,1,0], <br/>\n",
    "[0,0,0,1] <br/>\n",
    "] <br/>\n",
    "Output: 3"
   ]
  },
  {
   "cell_type": "markdown",
   "metadata": {},
   "source": [
    "# Bottom Up DP - O(M * N) runtime, O(M * N) space"
   ]
  },
  {
   "cell_type": "code",
   "execution_count": 1,
   "metadata": {},
   "outputs": [],
   "source": [
    "from typing import List\n",
    "\n",
    "class Solution:\n",
    "    def longestLine(self, M: List[List[int]]) -> int:\n",
    "        if not M or len(M) == 0:\n",
    "            return 0\n",
    "        \n",
    "        m, n = len(M), len(M[0])\n",
    "        dp = [[(0,0,0,0) for _ in range(n)] for _ in range(m)]\n",
    "        maxOnes = 0\n",
    "        \n",
    "        for r in range(m):\n",
    "            for c in range(n):\n",
    "                if M[r][c] == 0:\n",
    "                    continue\n",
    "                top = 1 + dp[r-1][c][0]  if r > 0 else 1\n",
    "                left = 1 + dp[r][c-1][1] if c > 0 else 1\n",
    "                diag = 1 + dp[r-1][c-1][2] if r > 0 and c > 0 else 1\n",
    "                antiDiag = 1 + dp[r-1][c+1][3] if r > 0 and c < n-1 else 1\n",
    "                dp[r][c] = (left, top, diag, antiDiag)\n",
    "                maxOnes = max(maxOnes, left, top, diag, antiDiag)\n",
    "                \n",
    "        return maxOnes"
   ]
  },
  {
   "cell_type": "markdown",
   "metadata": {},
   "source": [
    "# Space Optimized Bottom Up DP - O(M * N) runtime, O(N) space"
   ]
  },
  {
   "cell_type": "code",
   "execution_count": 2,
   "metadata": {},
   "outputs": [],
   "source": [
    "from typing import List\n",
    "\n",
    "class Solution:\n",
    "    def longestLine(self, M: List[List[int]]) -> int:\n",
    "        if not M or len(M) == 0:\n",
    "            return 0\n",
    "        \n",
    "        m, n = len(M), len(M[0])\n",
    "        dp = [(0,0,0,0) for _ in range(n)]\n",
    "        maxOnes = 0\n",
    "        \n",
    "        for r in range(m):\n",
    "            old = 0\n",
    "            for c in range(n):\n",
    "                if M[r][c] == 0:\n",
    "                    old = dp[c][2]\n",
    "                    dp[c] = (0,0,0,0)\n",
    "                    continue\n",
    "                \n",
    "                top = 1 + dp[c][0]  if r > 0 else 1\n",
    "                left = 1 + dp[c-1][1] if c > 0 else 1\n",
    "                prev = dp[c][2]\n",
    "                diag = 1 + old if r > 0 and c > 0 else 1\n",
    "                old = prev\n",
    "                antiDiag = 1 + dp[c+1][3] if r > 0 and c < n-1 else 1\n",
    "                dp[c] = (top, left, diag, antiDiag)\n",
    "                maxOnes = max(maxOnes, left, top, diag, antiDiag)\n",
    "                \n",
    "        return maxOnes"
   ]
  },
  {
   "cell_type": "code",
   "execution_count": 3,
   "metadata": {},
   "outputs": [
    {
     "data": {
      "text/plain": [
       "9"
      ]
     },
     "execution_count": 3,
     "metadata": {},
     "output_type": "execute_result"
    }
   ],
   "source": [
    "instance = Solution()\n",
    "instance.longestLine([[1,1,0,0,1,0,0,1,1,0],[1,0,0,1,0,1,1,1,1,1],[1,1,1,0,0,1,1,1,1,0],[0,1,1,1,0,1,1,1,1,1],[0,0,1,1,1,1,1,1,1,0],[1,1,1,1,1,1,0,1,1,1],[0,1,1,1,1,1,1,0,0,1],[1,1,1,1,1,0,0,1,1,1],[0,1,0,1,1,0,1,1,1,1],[1,1,1,0,1,0,1,1,1,1]])"
   ]
  }
 ],
 "metadata": {
  "kernelspec": {
   "display_name": "Python 3",
   "language": "python",
   "name": "python3"
  },
  "language_info": {
   "codemirror_mode": {
    "name": "ipython",
    "version": 3
   },
   "file_extension": ".py",
   "mimetype": "text/x-python",
   "name": "python",
   "nbconvert_exporter": "python",
   "pygments_lexer": "ipython3",
   "version": "3.7.3"
  }
 },
 "nbformat": 4,
 "nbformat_minor": 2
}
