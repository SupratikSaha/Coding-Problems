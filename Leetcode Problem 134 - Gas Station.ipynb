{
 "cells": [
  {
   "cell_type": "markdown",
   "metadata": {},
   "source": [
    "Problem Statement. <br/>\n",
    "\n",
    "There are n gas stations along a circular route, where the amount of gas at the ith station is gas[i]. <br/>\n",
    "You have a car with an unlimited gas tank and it costs cost[i] of gas to travel from the ith station to its next (i + 1)th station. You begin the journey with an empty tank at one of the gas stations. <br/>\n",
    "Given two integer arrays gas and cost, return the starting gas station's index if you can travel around the circuit once in the clockwise direction, otherwise return -1. If there exists a solution, it is guaranteed to be unique <br/>\n",
    "\n",
    "Example 1: <br/>\n",
    "Input: gas = [1,2,3,4,5], cost = [3,4,5,1,2] <br/>\n",
    "Output: 3 <br/>\n",
    "Explanation: <br/>\n",
    "Start at station 3 (index 3) and fill up with 4 unit of gas. Your tank = 0 + 4 = 4 <br/>\n",
    "Travel to station 4. Your tank = 4 - 1 + 5 = 8 <br/>\n",
    "Travel to station 0. Your tank = 8 - 2 + 1 = 7 <br/>\n",
    "Travel to station 1. Your tank = 7 - 3 + 2 = 6 <br/>\n",
    "Travel to station 2. Your tank = 6 - 4 + 3 = 5 <br/>\n",
    "Travel to station 3. The cost is 5. Your gas is just enough to travel back to station 3. <br/>\n",
    "Therefore, return 3 as the starting index. <br/>\n",
    "\n",
    "Example 2: <br/>\n",
    "Input: gas = [2,3,4], cost = [3,4,3] <br/>\n",
    "Output: -1 <br/>\n",
    "Explanation: <br/>\n",
    "You can't start at station 0 or 1, as there is not enough gas to travel to the next station. <br/>\n",
    "Let's start at station 2 and fill up with 4 unit of gas. Your tank = 0 + 4 = 4 <br/>\n",
    "Travel to station 0. Your tank = 4 - 3 + 2 = 3 <br/>\n",
    "Travel to station 1. Your tank = 3 - 3 + 3 = 3 <br/>\n",
    "You cannot travel back to station 2, as it requires 4 unit of gas but you only have 3. <br/>\n",
    "Therefore, you can't travel around the circuit once no matter where you start."
   ]
  },
  {
   "cell_type": "markdown",
   "metadata": {},
   "source": [
    "# Brute Force - O(N ^ 2) runtime, O(1) space"
   ]
  },
  {
   "cell_type": "code",
   "execution_count": 1,
   "metadata": {},
   "outputs": [],
   "source": [
    "from typing import List\n",
    "\n",
    "class Solution:\n",
    "    def canCompleteCircuit(self, gas: List[int], cost: List[int]) -> int:\n",
    "        if not gas or not cost:\n",
    "            return -1\n",
    "        \n",
    "        n = len(gas)\n",
    "        cost = [gas[i] - cost[i] for i in range(n)] \n",
    "        if sum(cost) < 0:\n",
    "            return -1\n",
    "        \n",
    "        for i in range(n):\n",
    "            if cost[i] >= 0:\n",
    "                start, currGas = i, 0\n",
    "                found_start = True\n",
    "                for _ in range(n):\n",
    "                    currGas += cost[start]\n",
    "                    if currGas < 0:\n",
    "                        found_start = False\n",
    "                        break\n",
    "                        \n",
    "                    if start + 1 == n:\n",
    "                        start = 0\n",
    "                    else:\n",
    "                        start += 1\n",
    "\n",
    "                if found_start:\n",
    "                    return start\n",
    "\n",
    "        return -1"
   ]
  },
  {
   "cell_type": "markdown",
   "metadata": {},
   "source": [
    "# One Pass - O(N) runtime, O(1) space"
   ]
  },
  {
   "cell_type": "code",
   "execution_count": 2,
   "metadata": {},
   "outputs": [],
   "source": [
    "from typing import List\n",
    "\n",
    "class Solution:\n",
    "    def canCompleteCircuit(self, gas: List[int], cost: List[int]) -> int:\n",
    "        if not gas or not cost:\n",
    "            return -1\n",
    "        \n",
    "        n = len(gas)\n",
    "        \n",
    "        total_tank, curr_tank = 0, 0\n",
    "        starting_station = 0\n",
    "        for i in range(n):\n",
    "            total_tank += gas[i] - cost[i]\n",
    "            curr_tank += gas[i] - cost[i]\n",
    "            # If one couldn't get here,\n",
    "            if curr_tank < 0:\n",
    "                # Pick up the next station as the starting one.\n",
    "                starting_station = i + 1\n",
    "                # Start with an empty tank.\n",
    "                curr_tank = 0\n",
    "        \n",
    "        return starting_station if total_tank >= 0 else -1"
   ]
  },
  {
   "cell_type": "code",
   "execution_count": 3,
   "metadata": {},
   "outputs": [
    {
     "data": {
      "text/plain": [
       "3"
      ]
     },
     "execution_count": 3,
     "metadata": {},
     "output_type": "execute_result"
    }
   ],
   "source": [
    "instance = Solution()\n",
    "instance.canCompleteCircuit( [1,2,3,4,5], [3,4,5,1,2])"
   ]
  }
 ],
 "metadata": {
  "kernelspec": {
   "display_name": "Python 3",
   "language": "python",
   "name": "python3"
  },
  "language_info": {
   "codemirror_mode": {
    "name": "ipython",
    "version": 3
   },
   "file_extension": ".py",
   "mimetype": "text/x-python",
   "name": "python",
   "nbconvert_exporter": "python",
   "pygments_lexer": "ipython3",
   "version": "3.7.3"
  }
 },
 "nbformat": 4,
 "nbformat_minor": 2
}
