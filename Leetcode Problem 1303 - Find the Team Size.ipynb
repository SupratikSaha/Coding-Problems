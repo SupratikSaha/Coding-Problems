{
 "cells": [
  {
   "cell_type": "markdown",
   "metadata": {},
   "source": [
    "    Problem Statement.\n",
    "\n",
    "    Table: Employee\n",
    "\n",
    "    +---------------+---------+\n",
    "    | Column Name   | Type    |\n",
    "    +---------------+---------+\n",
    "    | employee_id   | int     |\n",
    "    | team_id       | int     |\n",
    "    +---------------+---------+\n",
    "    employee_id is the primary key for this table.\n",
    "    Each row of this table contains the ID of each employee and their respective team.\n",
    "\n",
    "\n",
    "\n",
    "    Write an SQL query to find the team size of each of the employees.\n",
    "\n",
    "    Return result table in any order.\n",
    "\n",
    "    The query result format is in the following example.\n",
    "\n",
    "\n",
    "\n",
    "    Example 1:\n",
    "\n",
    "    Input: \n",
    "    Employee Table:\n",
    "    +-------------+------------+\n",
    "    | employee_id | team_id    |\n",
    "    +-------------+------------+\n",
    "    |     1       |     8      |\n",
    "    |     2       |     8      |\n",
    "    |     3       |     8      |\n",
    "    |     4       |     7      |\n",
    "    |     5       |     9      |\n",
    "    |     6       |     9      |\n",
    "    +-------------+------------+\n",
    "    Output: \n",
    "    +-------------+------------+\n",
    "    | employee_id | team_size  |\n",
    "    +-------------+------------+\n",
    "    |     1       |     3      |\n",
    "    |     2       |     3      |\n",
    "    |     3       |     3      |\n",
    "    |     4       |     1      |\n",
    "    |     5       |     2      |\n",
    "    |     6       |     2      |\n",
    "    +-------------+------------+\n",
    "    Explanation: \n",
    "    Employees with Id 1,2,3 are part of a team with team_id = 8.\n",
    "    Employee with Id 4 is part of a team with team_id = 7.\n",
    "    Employees with Id 5,6 are part of a team with team_id = 9."
   ]
  },
  {
   "cell_type": "markdown",
   "metadata": {},
   "source": [
    "# With"
   ]
  },
  {
   "cell_type": "code",
   "execution_count": null,
   "metadata": {},
   "outputs": [],
   "source": [
    "with Teams as\n",
    "(select team_id, count(*) as team_size\n",
    " from Employee\n",
    " group by 1\n",
    ")\n",
    "\n",
    "select employee_id, team_size\n",
    "from Employee join Teams using(team_id)"
   ]
  },
  {
   "cell_type": "markdown",
   "metadata": {},
   "source": [
    "# Window Function"
   ]
  },
  {
   "cell_type": "code",
   "execution_count": null,
   "metadata": {},
   "outputs": [],
   "source": [
    "select employee_id, count(*) over(partition by team_id) as team_size\n",
    "from employee"
   ]
  }
 ],
 "metadata": {
  "kernelspec": {
   "display_name": "Python 3",
   "language": "python",
   "name": "python3"
  },
  "language_info": {
   "codemirror_mode": {
    "name": "ipython",
    "version": 3
   },
   "file_extension": ".py",
   "mimetype": "text/x-python",
   "name": "python",
   "nbconvert_exporter": "python",
   "pygments_lexer": "ipython3",
   "version": "3.7.3"
  }
 },
 "nbformat": 4,
 "nbformat_minor": 2
}
