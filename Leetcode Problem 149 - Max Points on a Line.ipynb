{
 "cells": [
  {
   "cell_type": "markdown",
   "metadata": {},
   "source": [
    "Problem Description. <br/>\n",
    "\n",
    "Given n points on a 2D plane, find the maximum number of points that lie on the same straight line. <br/>\n",
    "Example 1: <br/>\n",
    "Input: [[1,1],[2,2],[3,3]] <br/>\n",
    "Output: 3 <br/>\n",
    "\n",
    "Example 2: <br/>\n",
    "Input: [[1,1],[3,2],[5,3],[4,1],[2,3],[1,4]] <br/>\n",
    "Output: 4"
   ]
  },
  {
   "cell_type": "markdown",
   "metadata": {},
   "source": [
    "# Enumeration - O(N ^ 2) runtime, O(N) space"
   ]
  },
  {
   "cell_type": "code",
   "execution_count": 4,
   "metadata": {},
   "outputs": [],
   "source": [
    "from typing import List\n",
    "from decimal import Decimal\n",
    "from collections import defaultdict\n",
    "\n",
    "class Solution:\n",
    "    def maxPoints(self, points: List[List[int]]) -> int:\n",
    "        n = len(points)\n",
    "        if n <= 1:\n",
    "            return n\n",
    "        maxPoints = 0\n",
    "        \n",
    "        for i in range(n - 1):\n",
    "            slopeDict = defaultdict(list)\n",
    "            x1 = points[i][0]\n",
    "            y1 = points[i][1]\n",
    "            selfAdder = 1    \n",
    "            for j in range(i+1, n):\n",
    "                if points[j] == points[i]:\n",
    "                    selfAdder += 1\n",
    "                else:\n",
    "                    denominator = (points[j][0] - x1)\n",
    "                    slope = Decimal(points[j][1] - y1) / Decimal(points[j][0] - x1) if denominator else float('inf')\n",
    "                    slopeDict[slope].append(j)\n",
    "            \n",
    "            longestSequenceOfPoints = max(slopeDict.items(), key=lambda x: len(x[1]))[1] if slopeDict else []\n",
    "            maxPoints = max(maxPoints, len(longestSequenceOfPoints) + selfAdder)\n",
    "            \n",
    "        return maxPoints"
   ]
  },
  {
   "cell_type": "markdown",
   "metadata": {},
   "source": [
    "# GCD - O(N ^ 2) runtime, O(N) space"
   ]
  },
  {
   "cell_type": "code",
   "execution_count": null,
   "metadata": {},
   "outputs": [],
   "source": [
    "from typing import List\n",
    "from decimal import Decimal\n",
    "from collections import defaultdict\n",
    "\n",
    "class Solution:\n",
    "    \n",
    "    def gcd(self, a: int, b: int) -> int:\n",
    "        while b:\n",
    "            a, b = b, a%b\n",
    "        return a\n",
    "\n",
    "    def maxPoints(self, points: List[List[int]]) -> int:\n",
    "        n = len(points)\n",
    "        if n <= 1:\n",
    "            return n\n",
    "        maxPoints = 0\n",
    "        \n",
    "        for i in range(n - 1):\n",
    "            slopeDict = defaultdict(list)\n",
    "            x1 = points[i][0]\n",
    "            y1 = points[i][1]\n",
    "            selfAdder = 1    \n",
    "            for j in range(i+1, n):\n",
    "                if points[j] == points[i]:\n",
    "                    selfAdder += 1\n",
    "                else:\n",
    "                    denominator = (points[j][0] - x1)\n",
    "                    if denominator == 0:\n",
    "                        slope = (sys.maxsize, sys.maxsize)\n",
    "                    else:\n",
    "                        numerator = (points[j][1] - y1)\n",
    "                        gcd = self.gcd(numerator, denominator)\n",
    "                        slope = (numerator / gcd, denominator / gcd)\n",
    "                    slopeDict[slope].append(j)\n",
    "            \n",
    "            longestSequenceOfPoints = max(slopeDict.items(), key=lambda x: len(x[1]))[1] if slopeDict else []\n",
    "            maxPoints = max(maxPoints, len(longestSequenceOfPoints) + selfAdder)\n",
    "            \n",
    "        return maxPoints"
   ]
  },
  {
   "cell_type": "code",
   "execution_count": 5,
   "metadata": {},
   "outputs": [
    {
     "data": {
      "text/plain": [
       "4"
      ]
     },
     "execution_count": 5,
     "metadata": {},
     "output_type": "execute_result"
    }
   ],
   "source": [
    "instance = Solution()\n",
    "instance.maxPoints([[1,1],[3,2],[5,3],[4,1],[2,3],[1,4]])"
   ]
  }
 ],
 "metadata": {
  "kernelspec": {
   "display_name": "Python 3",
   "language": "python",
   "name": "python3"
  },
  "language_info": {
   "codemirror_mode": {
    "name": "ipython",
    "version": 3
   },
   "file_extension": ".py",
   "mimetype": "text/x-python",
   "name": "python",
   "nbconvert_exporter": "python",
   "pygments_lexer": "ipython3",
   "version": "3.7.3"
  }
 },
 "nbformat": 4,
 "nbformat_minor": 2
}
