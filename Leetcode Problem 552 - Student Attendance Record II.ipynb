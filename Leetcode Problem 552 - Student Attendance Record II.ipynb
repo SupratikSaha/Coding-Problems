{
 "cells": [
  {
   "cell_type": "markdown",
   "metadata": {},
   "source": [
    "Problem Statement. <br/>\n",
    "\n",
    "Given a positive integer n, return the number of all possible attendance records with length n, which will be regarded as rewardable. The answer may be very large, return it after mod 109 + 7. <br/>\n",
    "A student attendance record is a string that only contains the following three characters: <br/>\n",
    "    'A' : Absent.\n",
    "    'L' : Late.\n",
    "    'P' : Present.\n",
    "A record is regarded as rewardable if it doesn't contain more than one 'A' (absent) or more than two continuous 'L' (late). <br/>\n",
    "\n",
    "Example 1: <br/>\n",
    "Input: n = 2 <br/>\n",
    "Output: 8 <br/>\n",
    "Explanation: <br/>\n",
    "There are 8 records with length 2 will be regarded as rewardable: <br/>\n",
    "\"PP\" , \"AP\", \"PA\", \"LP\", \"PL\", \"AL\", \"LA\", \"LL\" <br/>\n",
    "Only \"AA\" won't be regarded as rewardable owing to more than one absent times. "
   ]
  },
  {
   "cell_type": "markdown",
   "metadata": {},
   "source": [
    "# Math DP - O(N) runtime, O(N) space"
   ]
  },
  {
   "cell_type": "code",
   "execution_count": 1,
   "metadata": {},
   "outputs": [],
   "source": [
    "class Solution:\n",
    "    def checkRecord(self, n: int) -> int:\n",
    "        res=[1,0,0,1,1,0]\n",
    "        for i in range(1,n):\n",
    "            temp=[0,0,0,0,0,0]\n",
    "            temp[0]=sum(res)%(10**9+7)\n",
    "            temp[1]=res[0]%(10**9+7)\n",
    "            temp[2]=res[1]%(10**9+7)\n",
    "            temp[3]=(res[3]+res[4]+res[5])%(10**9+7)\n",
    "            temp[4]=res[3]%(10**9+7)\n",
    "            temp[5]=res[4]%(10**9+7)\n",
    "            res=temp\n",
    "        return sum(res)%(10**9+7)"
   ]
  },
  {
   "cell_type": "markdown",
   "metadata": {},
   "source": [
    "# Faster DP - O(N) runtime, O(N) space"
   ]
  },
  {
   "cell_type": "code",
   "execution_count": 4,
   "metadata": {},
   "outputs": [],
   "source": [
    "class Solution:\n",
    "    def checkRecord(self, n: int) -> int:\n",
    "        if n == 1:\n",
    "            return 3\n",
    "        if n == 0:\n",
    "            return 0\n",
    "        nums = [1, 1, 2]\n",
    "        i = 2\n",
    "        while i < n:\n",
    "            nums.append((nums[i] + nums[i-1] + nums[i-2])% 1000000007)\n",
    "            i += 1\n",
    "        result = (nums[n] + nums[n-1] + nums[n-2]) % 1000000007\n",
    "        for i in range(n):\n",
    "            result += nums[i+1] * nums[n-i] % 1000000007\n",
    "            result %= 1000000007\n",
    "        return result"
   ]
  },
  {
   "cell_type": "code",
   "execution_count": 5,
   "metadata": {},
   "outputs": [
    {
     "data": {
      "text/plain": [
       "8"
      ]
     },
     "execution_count": 5,
     "metadata": {},
     "output_type": "execute_result"
    }
   ],
   "source": [
    "instance = Solution()\n",
    "instance.checkRecord(2)"
   ]
  }
 ],
 "metadata": {
  "kernelspec": {
   "display_name": "Python 3",
   "language": "python",
   "name": "python3"
  },
  "language_info": {
   "codemirror_mode": {
    "name": "ipython",
    "version": 3
   },
   "file_extension": ".py",
   "mimetype": "text/x-python",
   "name": "python",
   "nbconvert_exporter": "python",
   "pygments_lexer": "ipython3",
   "version": "3.7.3"
  }
 },
 "nbformat": 4,
 "nbformat_minor": 2
}
