{
 "cells": [
  {
   "cell_type": "code",
   "execution_count": 2,
   "metadata": {},
   "outputs": [],
   "source": [
    "class Solution:\n",
    "    def reverse(self, x):\n",
    "        \n",
    "        if not isinstance(x, (int)):\n",
    "            return \"Not an Integer\"\n",
    "        \n",
    "        if x==0:\n",
    "            return 0\n",
    "             \n",
    "        if x<0:\n",
    "            abs_x = -x\n",
    "            neg=-1\n",
    "        else:\n",
    "            abs_x = x\n",
    "            neg=1\n",
    "        \n",
    "        exponent=1\n",
    "        \n",
    "        while abs_x>=10**exponent:\n",
    "            exponent +=1\n",
    "        \n",
    "      \n",
    "        ctr=1\n",
    "        rev=0\n",
    "        copy_x = abs_x\n",
    "        \n",
    "     \n",
    "        while ctr <= exponent:\n",
    "            num = copy_x%10\n",
    "            rev = rev + num*(10**(exponent-ctr))\n",
    "            copy_x = (copy_x - num)/10\n",
    "            ctr += 1\n",
    "        \n",
    "        rev_int =  int(rev*neg)\n",
    "    \n",
    "        if rev_int in range(pow(-2, 31), (pow(2, 31)-1)+1):\n",
    "            return rev_int\n",
    "        else:\n",
    "            return 0"
   ]
  },
  {
   "cell_type": "code",
   "execution_count": 3,
   "metadata": {},
   "outputs": [
    {
     "data": {
      "text/plain": [
       "123"
      ]
     },
     "execution_count": 3,
     "metadata": {},
     "output_type": "execute_result"
    }
   ],
   "source": [
    "Instance = Solution()\n",
    "Instance.reverse(321)"
   ]
  }
 ],
 "metadata": {
  "kernelspec": {
   "display_name": "Python 3",
   "language": "python",
   "name": "python3"
  },
  "language_info": {
   "codemirror_mode": {
    "name": "ipython",
    "version": 3
   },
   "file_extension": ".py",
   "mimetype": "text/x-python",
   "name": "python",
   "nbconvert_exporter": "python",
   "pygments_lexer": "ipython3",
   "version": "3.7.3"
  }
 },
 "nbformat": 4,
 "nbformat_minor": 2
}
