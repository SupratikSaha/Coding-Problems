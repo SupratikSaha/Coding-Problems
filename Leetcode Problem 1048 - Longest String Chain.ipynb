{
 "cells": [
  {
   "cell_type": "markdown",
   "metadata": {},
   "source": [
    "Problem Statement. <br/>\n",
    "\n",
    "Given a list of words, each word consists of English lowercase letters. <br/>\n",
    "Let's say word1 is a predecessor of word2 if and only if we can add exactly one letter anywhere in word1 to make it equal to word2.  For example, \"abc\" is a predecessor of \"abac\". <br/>\n",
    "A word chain is a sequence of words [word_1, word_2, ..., word_k] with k >= 1, where word_1 is a predecessor of word_2, word_2 is a predecessor of word_3, and so on. <br/>\n",
    "Return the longest possible length of a word chain with words chosen from the given list of words. <br/>\n",
    "\n",
    " \n",
    "Example 1: <br/>\n",
    "Input: words = [\"a\",\"b\",\"ba\",\"bca\",\"bda\",\"bdca\"] <br/>\n",
    "Output: 4 <br/>\n",
    "Explanation: One of the longest word chain is \"a\",\"ba\",\"bda\",\"bdca\". <br/>\n",
    "\n",
    "Example 2: <br/>\n",
    "Input: words = [\"xbc\",\"pcxbcf\",\"xb\",\"cxbc\",\"pcxbc\"] <br/>\n",
    "Output: 5"
   ]
  },
  {
   "cell_type": "markdown",
   "metadata": {},
   "source": [
    "# HashMap, Top Down DP - O(N * S ^ 2) runtime, O(N) space where N is the length of the wordlist and S is the length of the longest word"
   ]
  },
  {
   "cell_type": "code",
   "execution_count": 1,
   "metadata": {},
   "outputs": [],
   "source": [
    "from typing import List\n",
    "from collections import defaultdict\n",
    "\n",
    "class Solution:\n",
    "    def isPredecessor(self, word1: str, word2: str) -> bool:\n",
    "        n = len(word1)\n",
    "        if len(word2) != n + 1:\n",
    "            return False\n",
    "        \n",
    "        numDifferent = 0\n",
    "        i = j = 0\n",
    "        while i < n:\n",
    "            if word1[i] == word2[j]:\n",
    "                i += 1\n",
    "                j += 1\n",
    "                continue\n",
    "            elif numDifferent:\n",
    "                return False\n",
    "            else:\n",
    "                numDifferent = 1\n",
    "                j += 1\n",
    "            \n",
    "        return True\n",
    "    \n",
    "    def getChainLength(self, word1: str, currLen: int) -> int:\n",
    "        maxLen = self.chainLength.get(word1, 0)\n",
    "        if maxLen:\n",
    "            return maxLen\n",
    "        \n",
    "        if self.lengthDict.get(currLen + 1):\n",
    "            for word2 in self.lengthDict.get(currLen + 1):\n",
    "                if self.isPredecessor(word1, word2):\n",
    "                    length = 1 + self.getChainLength(word2, len(word2))\n",
    "                    maxLen = max(maxLen, length)\n",
    "        \n",
    "        self.chainLength[word1] = maxLen\n",
    "        return maxLen\n",
    "            \n",
    "    def longestStrChain(self, words: List[str]) -> int:\n",
    "        self.lengthDict = defaultdict(list)\n",
    "        self.chainLength = defaultdict(int)\n",
    "        for word in words:\n",
    "            self.lengthDict[len(word)].append(word)\n",
    "        \n",
    "        maxChain = 0\n",
    "        for word in words:\n",
    "            chainLength = self.getChainLength(word, len(word))\n",
    "            maxChain = max(maxChain, chainLength)\n",
    "            \n",
    "        return 1 + maxChain"
   ]
  },
  {
   "cell_type": "markdown",
   "metadata": {},
   "source": [
    "# HashMap, Bottom Up DP - O(N * S ^ 2) runtime, O(N) space where N is the length of the wordlist and S is the length of the longest word"
   ]
  },
  {
   "cell_type": "code",
   "execution_count": 3,
   "metadata": {},
   "outputs": [],
   "source": [
    "from typing import List\n",
    "\n",
    "class Solution:\n",
    "    def longestStrChain(self, words: List[str]) -> int:\n",
    "        dp = {}\n",
    "        for w in sorted(words, key=len):\n",
    "            dp[w] = max(dp.get(w[:i] + w[i + 1:], 0) + 1 for i in range(len(w)))\n",
    "        return max(dp.values())"
   ]
  },
  {
   "cell_type": "code",
   "execution_count": 4,
   "metadata": {},
   "outputs": [
    {
     "data": {
      "text/plain": [
       "4"
      ]
     },
     "execution_count": 4,
     "metadata": {},
     "output_type": "execute_result"
    }
   ],
   "source": [
    "instance = Solution()\n",
    "instance.longestStrChain([\"a\",\"b\",\"ba\",\"bca\",\"bda\",\"bdca\"])"
   ]
  }
 ],
 "metadata": {
  "kernelspec": {
   "display_name": "Python 3",
   "language": "python",
   "name": "python3"
  },
  "language_info": {
   "codemirror_mode": {
    "name": "ipython",
    "version": 3
   },
   "file_extension": ".py",
   "mimetype": "text/x-python",
   "name": "python",
   "nbconvert_exporter": "python",
   "pygments_lexer": "ipython3",
   "version": "3.7.3"
  }
 },
 "nbformat": 4,
 "nbformat_minor": 2
}
