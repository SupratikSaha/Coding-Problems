{
 "cells": [
  {
   "cell_type": "markdown",
   "metadata": {},
   "source": [
    "Problem Statement.\n",
    "\n",
    "Given the coordinates of four points in 2D space p1, p2, p3 and p4, return true if the four points construct a square.\n",
    "\n",
    "The coordinate of a point pi is represented as [xi, yi]. The input is not given in any order.\n",
    "\n",
    "A valid square has four equal sides with positive length and four equal angles (90-degree angles).\n",
    "\n",
    " \n",
    "\n",
    "Example 1:\n",
    "\n",
    "Input: p1 = [0,0], p2 = [1,1], p3 = [1,0], p4 = [0,1]\n",
    "Output: true\n",
    "\n",
    "Example 2:\n",
    "\n",
    "Input: p1 = [0,0], p2 = [1,1], p3 = [1,0], p4 = [0,12]\n",
    "Output: false\n",
    "\n",
    "Example 3:\n",
    "\n",
    "Input: p1 = [1,0], p2 = [-1,0], p3 = [0,1], p4 = [0,-1]\n",
    "Output: true\n",
    "\n",
    " \n",
    "\n",
    "Constraints:\n",
    "\n",
    "    p1.length == p2.length == p3.length == p4.length == 2\n",
    "    -10**4 <= xi, yi <= 10**4"
   ]
  },
  {
   "cell_type": "markdown",
   "metadata": {},
   "source": [
    "# Calculate Distances - O(1) runtime, O(1) space"
   ]
  },
  {
   "cell_type": "code",
   "execution_count": 3,
   "metadata": {},
   "outputs": [],
   "source": [
    "from typing import List\n",
    "from collections import defaultdict\n",
    "\n",
    "class Solution:\n",
    "    def validSquare(self, p1: List[int], p2: List[int], p3: List[int], p4: List[int]) -> bool:\n",
    "        lengthDict = defaultdict(int)\n",
    "        points = [p1, p2, p3, p4]\n",
    "        \n",
    "        for i in range(3):\n",
    "            for j in range(i+1, 4):\n",
    "                distance = (points[j][1] - points[i][1]) ** 2 + (points[j][0] - points[i][0]) ** 2\n",
    "                lengthDict[distance] += 1\n",
    "\n",
    "        if 0 in set(lengthDict.keys()) or len(lengthDict.keys()) != 2 or set(lengthDict.values()) != {2,4}: \n",
    "            return False\n",
    "        \n",
    "        return True"
   ]
  },
  {
   "cell_type": "code",
   "execution_count": 4,
   "metadata": {},
   "outputs": [
    {
     "data": {
      "text/plain": [
       "True"
      ]
     },
     "execution_count": 4,
     "metadata": {},
     "output_type": "execute_result"
    }
   ],
   "source": [
    "instance = Solution()\n",
    "instance.validSquare([0,0], [1,1], [1,0], [0,1])"
   ]
  }
 ],
 "metadata": {
  "kernelspec": {
   "display_name": "Python 3",
   "language": "python",
   "name": "python3"
  },
  "language_info": {
   "codemirror_mode": {
    "name": "ipython",
    "version": 3
   },
   "file_extension": ".py",
   "mimetype": "text/x-python",
   "name": "python",
   "nbconvert_exporter": "python",
   "pygments_lexer": "ipython3",
   "version": "3.7.3"
  }
 },
 "nbformat": 4,
 "nbformat_minor": 2
}
