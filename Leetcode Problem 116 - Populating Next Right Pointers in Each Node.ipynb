{
 "cells": [
  {
   "cell_type": "markdown",
   "metadata": {},
   "source": [
    "Problem Statement. <br/>\n",
    "\n",
    "You are given a perfect binary tree where all leaves are on the same level, and every parent has two children. The binary tree has the following definition: <br/>\n",
    "\n",
    "struct Node { <br/>\n",
    "  int val; <br/>\n",
    "  Node *left; <br/>\n",
    "  Node *right; <br/>\n",
    "  Node *next; <br/>\n",
    "} <br/>\n",
    "\n",
    "Populate each next pointer to point to its next right node. If there is no next right node, the next pointer should be set to NULL. <br/>\n",
    "Initially, all next pointers are set to NULL. <br/>\n",
    "\n",
    "Follow up: <br/>\n",
    "\n",
    "    You may only use constant extra space. <br/>\n",
    "    Recursive approach is fine, you may assume implicit stack space does not count as extra space for this problem. <br/>\n",
    "\n",
    "Example 1: <br/>\n",
    "Input: root = [1,2,3,4,5,6,7] <br/>\n",
    "Output: [1,#,2,3,#,4,5,6,7,#] <br/>\n",
    "Explanation: Given the above perfect binary tree (Figure A), your function should populate each next pointer to point to its next right node, just like in Figure B. The serialized output is in level order as connected by the next pointers, with '#' signifying the end of each level."
   ]
  },
  {
   "cell_type": "markdown",
   "metadata": {},
   "source": [
    "# BFS - O(N) runtime, O(N) space"
   ]
  },
  {
   "cell_type": "code",
   "execution_count": 1,
   "metadata": {},
   "outputs": [],
   "source": [
    "\"\"\"\n",
    "# Definition for a Node.\n",
    "class Node:\n",
    "    def __init__(self, val: int = 0, left: 'Node' = None, right: 'Node' = None, next: 'Node' = None):\n",
    "        self.val = val\n",
    "        self.left = left\n",
    "        self.right = right\n",
    "        self.next = next\n",
    "\"\"\"\n",
    "\n",
    "class Solution:\n",
    "    def connect(self, root: 'Node') -> 'Node':\n",
    "        \n",
    "        if not root:\n",
    "            return None\n",
    "        \n",
    "        queue = deque()\n",
    "        queue.append(root)\n",
    "        \n",
    "        while queue:\n",
    "            len_queue = len(queue)\n",
    "            for i in range(len_queue):\n",
    "                currNode = queue.popleft()\n",
    "                if i < len_queue - 1:\n",
    "                    currNode.next = queue[0]\n",
    "                    \n",
    "                if currNode.left:\n",
    "                    queue.append(currNode.left)\n",
    "\n",
    "                if currNode.right:\n",
    "                    queue.append(currNode.right)\n",
    "                \n",
    "        return root"
   ]
  },
  {
   "cell_type": "markdown",
   "metadata": {},
   "source": [
    "# Using Next Pointers - O(N) runtime, O(1) space"
   ]
  },
  {
   "cell_type": "code",
   "execution_count": 2,
   "metadata": {},
   "outputs": [],
   "source": [
    "\"\"\"\n",
    "# Definition for a Node.\n",
    "class Node:\n",
    "    def __init__(self, val: int = 0, left: 'Node' = None, right: 'Node' = None, next: 'Node' = None):\n",
    "        self.val = val\n",
    "        self.left = left\n",
    "        self.right = right\n",
    "        self.next = next\n",
    "\"\"\"\n",
    "\n",
    "class Solution:\n",
    "    def connect(self, root: 'Node') -> 'Node':\n",
    "        \n",
    "        if not root:\n",
    "            return root\n",
    "        \n",
    "        # Start with the root node. There are no next pointers\n",
    "        # that need to be set up on the first level\n",
    "        leftmost = root\n",
    "        \n",
    "        # Once we reach the final level, we are done\n",
    "        while leftmost.left:\n",
    "            \n",
    "            # Iterate the \"linked list\" starting from the head\n",
    "            # node and using the next pointers, establish the \n",
    "            # corresponding links for the next level\n",
    "            head = leftmost\n",
    "            while head:\n",
    "                \n",
    "                # CONNECTION 1\n",
    "                head.left.next = head.right\n",
    "                \n",
    "                # CONNECTION 2\n",
    "                if head.next:\n",
    "                    head.right.next = head.next.left\n",
    "                \n",
    "                # Progress along the list (nodes on the current level)\n",
    "                head = head.next\n",
    "            \n",
    "            # Move onto the next level\n",
    "            leftmost = leftmost.left\n",
    "        \n",
    "        return root "
   ]
  }
 ],
 "metadata": {
  "kernelspec": {
   "display_name": "Python 3",
   "language": "python",
   "name": "python3"
  },
  "language_info": {
   "codemirror_mode": {
    "name": "ipython",
    "version": 3
   },
   "file_extension": ".py",
   "mimetype": "text/x-python",
   "name": "python",
   "nbconvert_exporter": "python",
   "pygments_lexer": "ipython3",
   "version": "3.7.3"
  }
 },
 "nbformat": 4,
 "nbformat_minor": 2
}
