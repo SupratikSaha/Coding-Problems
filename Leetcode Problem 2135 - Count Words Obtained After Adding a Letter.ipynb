{
 "cells": [
  {
   "cell_type": "markdown",
   "metadata": {},
   "source": [
    "Problem Statement.\n",
    "\n",
    "You are given two 0-indexed arrays of strings startWords and targetWords. Each string consists of lowercase English letters only.\n",
    "\n",
    "For each string in targetWords, check if it is possible to choose a string from startWords and perform a conversion operation on it to be equal to that from targetWords.\n",
    "\n",
    "The conversion operation is described in the following two steps:\n",
    "\n",
    "    Append any lowercase letter that is not present in the string to its end.\n",
    "        For example, if the string is \"abc\", the letters 'd', 'e', or 'y' can be added to it, but not 'a'. If 'd' is added, the resulting string will be \"abcd\".\n",
    "    Rearrange the letters of the new string in any arbitrary order.\n",
    "        For example, \"abcd\" can be rearranged to \"acbd\", \"bacd\", \"cbda\", and so on. Note that it can also be rearranged to \"abcd\" itself.\n",
    "\n",
    "Return the number of strings in targetWords that can be obtained by performing the operations on any string of startWords.\n",
    "\n",
    "Note that you will only be verifying if the string in targetWords can be obtained from a string in startWords by performing the operations. The strings in startWords do not actually change during this process.\n",
    "\n",
    " \n",
    "\n",
    "Example 1:\n",
    "\n",
    "Input: startWords = [\"ant\",\"act\",\"tack\"], targetWords = [\"tack\",\"act\",\"acti\"]\n",
    "Output: 2\n",
    "Explanation:\n",
    "- In order to form targetWords[0] = \"tack\", we use startWords[1] = \"act\", append 'k' to it, and rearrange \"actk\" to \"tack\".\n",
    "- There is no string in startWords that can be used to obtain targetWords[1] = \"act\".\n",
    "  Note that \"act\" does exist in startWords, but we must append one letter to the string before rearranging it.\n",
    "- In order to form targetWords[2] = \"acti\", we use startWords[1] = \"act\", append 'i' to it, and rearrange \"acti\" to \"acti\" itself.\n",
    "\n",
    "Example 2:\n",
    "\n",
    "Input: startWords = [\"ab\",\"a\"], targetWords = [\"abc\",\"abcd\"]\n",
    "Output: 1\n",
    "Explanation:\n",
    "- In order to form targetWords[0] = \"abc\", we use startWords[0] = \"ab\", add 'c' to it, and rearrange it to \"abc\".\n",
    "- There is no string in startWords that can be used to obtain targetWords[1] = \"abcd\".\n",
    "\n",
    " \n",
    "\n",
    "Constraints:\n",
    "\n",
    "    1 <= startWords.length, targetWords.length <= 5 * 104\n",
    "    1 <= startWords[i].length, targetWords[j].length <= 26\n",
    "    Each string of startWords and targetWords consists of lowercase English letters only.\n",
    "    No letter occurs more than once in any string of startWords or targetWords."
   ]
  },
  {
   "cell_type": "markdown",
   "metadata": {},
   "source": [
    "# Bit Mask - O(S * M + T * N) runtime, O(S) space, where S & T are the number of source and target words, and M & N are the average length of source and target words"
   ]
  },
  {
   "cell_type": "code",
   "execution_count": 1,
   "metadata": {},
   "outputs": [],
   "source": [
    "from typing import List\n",
    "\n",
    "class Solution:\n",
    "    def wordCount(self, startWords: List[str], targetWords: List[str]) -> int:\n",
    "        seen = set()\n",
    "        ordA = ord('a')\n",
    "        for word in startWords: \n",
    "            m = 0\n",
    "            for ch in word: m ^= 1 << (ord(ch) - ordA)\n",
    "            seen.add(m)\n",
    "            \n",
    "        ans = 0 \n",
    "        for word in targetWords: \n",
    "            m = 0 \n",
    "            for ch in word: m ^= 1 << (ord(ch) - ordA)\n",
    "            for ch in word: \n",
    "                if m ^ (1 << (ord(ch) - ordA) ) in seen: \n",
    "                    ans += 1\n",
    "                    break \n",
    "        return ans "
   ]
  },
  {
   "cell_type": "code",
   "execution_count": 2,
   "metadata": {},
   "outputs": [
    {
     "data": {
      "text/plain": [
       "2"
      ]
     },
     "execution_count": 2,
     "metadata": {},
     "output_type": "execute_result"
    }
   ],
   "source": [
    "instance = Solution()\n",
    "instance.wordCount( [\"ant\",\"act\",\"tack\"], [\"tack\",\"act\",\"acti\"])"
   ]
  }
 ],
 "metadata": {
  "kernelspec": {
   "display_name": "Python 3",
   "language": "python",
   "name": "python3"
  },
  "language_info": {
   "codemirror_mode": {
    "name": "ipython",
    "version": 3
   },
   "file_extension": ".py",
   "mimetype": "text/x-python",
   "name": "python",
   "nbconvert_exporter": "python",
   "pygments_lexer": "ipython3",
   "version": "3.7.3"
  }
 },
 "nbformat": 4,
 "nbformat_minor": 2
}
