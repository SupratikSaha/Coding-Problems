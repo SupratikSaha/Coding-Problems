{
 "cells": [
  {
   "cell_type": "markdown",
   "metadata": {},
   "source": [
    "Problem Statement.\n",
    "\n",
    "There are n piles of stones arranged in a row. The ith pile has stones[i] stones.\n",
    "\n",
    "A move consists of merging exactly k consecutive piles into one pile, and the cost of this move is equal to the total number of stones in these k piles.\n",
    "\n",
    "Return the minimum cost to merge all piles of stones into one pile. If it is impossible, return -1.\n",
    "\n",
    " \n",
    "\n",
    "Example 1:\n",
    "\n",
    "Input: stones = [3,2,4,1], k = 2\n",
    "Output: 20\n",
    "Explanation: We start with [3, 2, 4, 1].\n",
    "We merge [3, 2] for a cost of 5, and we are left with [5, 4, 1].\n",
    "We merge [4, 1] for a cost of 5, and we are left with [5, 5].\n",
    "We merge [5, 5] for a cost of 10, and we are left with [10].\n",
    "The total cost was 20, and this is the minimum possible.\n",
    "\n",
    "Example 2:\n",
    "\n",
    "Input: stones = [3,2,4,1], k = 3\n",
    "Output: -1\n",
    "Explanation: After any merge operation, there are 2 piles left, and we can't merge anymore.  So the task is impossible.\n",
    "\n",
    "Example 3:\n",
    "\n",
    "Input: stones = [3,5,1,2,6], k = 3\n",
    "Output: 25\n",
    "Explanation: We start with [3, 5, 1, 2, 6].\n",
    "We merge [5, 1, 2] for a cost of 8, and we are left with [3, 8, 6].\n",
    "We merge [3, 8, 6] for a cost of 17, and we are left with [17].\n",
    "The total cost was 25, and this is the minimum possible.\n",
    "\n",
    " \n",
    "\n",
    "Constraints:\n",
    "\n",
    "    n == stones.length\n",
    "    1 <= n <= 30\n",
    "    1 <= stones[i] <= 100\n",
    "    2 <= k <= 30"
   ]
  },
  {
   "cell_type": "markdown",
   "metadata": {},
   "source": [
    "# DP - O(N^3/K) runtime, O(N^2) space"
   ]
  },
  {
   "cell_type": "code",
   "execution_count": 4,
   "metadata": {},
   "outputs": [],
   "source": [
    "from typing import List\n",
    "from functools import lru_cache\n",
    "\n",
    "class Solution:\n",
    "    def mergeStones(self, stones: List[int], k: int) -> int:\n",
    "        n = len(stones)\n",
    "        if (n - 1) % (k - 1): return -1\n",
    "        prefix = [0] * (n + 1)\n",
    "        for i in range(n):\n",
    "            prefix[i + 1] = prefix[i] + stones[i]\n",
    "\n",
    "        @lru_cache(maxsize=None)\n",
    "        def dp(i, j):\n",
    "            if j - i + 1 < k: return 0\n",
    "            res = min(dp(i, mid) + dp(mid + 1, j) for mid in range(i, j, k - 1))\n",
    "            if (j - i) % (k - 1) == 0:\n",
    "                res += prefix[j + 1] - prefix[i]\n",
    "            return res\n",
    "        \n",
    "        return dp(0, n - 1)"
   ]
  },
  {
   "cell_type": "code",
   "execution_count": 5,
   "metadata": {},
   "outputs": [
    {
     "data": {
      "text/plain": [
       "25"
      ]
     },
     "execution_count": 5,
     "metadata": {},
     "output_type": "execute_result"
    }
   ],
   "source": [
    "instance = Solution()\n",
    "instance.mergeStones([3,5,1,2,6], 3)"
   ]
  }
 ],
 "metadata": {
  "kernelspec": {
   "display_name": "Python 3",
   "language": "python",
   "name": "python3"
  },
  "language_info": {
   "codemirror_mode": {
    "name": "ipython",
    "version": 3
   },
   "file_extension": ".py",
   "mimetype": "text/x-python",
   "name": "python",
   "nbconvert_exporter": "python",
   "pygments_lexer": "ipython3",
   "version": "3.7.3"
  }
 },
 "nbformat": 4,
 "nbformat_minor": 2
}
