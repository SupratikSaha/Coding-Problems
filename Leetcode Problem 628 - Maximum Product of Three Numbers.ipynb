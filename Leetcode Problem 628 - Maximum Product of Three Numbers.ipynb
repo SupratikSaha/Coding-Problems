{
 "cells": [
  {
   "cell_type": "markdown",
   "metadata": {},
   "source": [
    "Problem Statement.\n",
    "\n",
    "Given an integer array nums, find three numbers whose product is maximum and return the maximum product.\n",
    "\n",
    " \n",
    "\n",
    "Example 1:\n",
    "\n",
    "Input: nums = [1,2,3]\n",
    "Output: 6\n",
    "\n",
    "Example 2:\n",
    "\n",
    "Input: nums = [1,2,3,4]\n",
    "Output: 24\n",
    "\n",
    "Example 3:\n",
    "\n",
    "Input: nums = [-1,-2,-3]\n",
    "Output: -6\n",
    "\n",
    " \n",
    "\n",
    "Constraints:\n",
    "\n",
    "    3 <= nums.length <= 10^4\n",
    "    -1000 <= nums[i] <= 1000"
   ]
  },
  {
   "cell_type": "markdown",
   "metadata": {},
   "source": [
    "# Sort - O(N * Log N) runtime, O(N) space"
   ]
  },
  {
   "cell_type": "code",
   "execution_count": 1,
   "metadata": {},
   "outputs": [],
   "source": [
    "from typing import List\n",
    "\n",
    "class Solution:\n",
    "    def maximumProduct(self, nums: List[int]) -> int:\n",
    "        nums.sort()\n",
    "            \n",
    "        return max(nums[0] * nums[1] * nums[-1], nums[-1] * nums[-2] * nums[-3])"
   ]
  },
  {
   "cell_type": "markdown",
   "metadata": {},
   "source": [
    "# One Pass - O(N) runtime, O(1) space"
   ]
  },
  {
   "cell_type": "code",
   "execution_count": 3,
   "metadata": {},
   "outputs": [],
   "source": [
    "from typing import List\n",
    "\n",
    "class Solution:\n",
    "    def maximumProduct(self, nums: List[int]) -> int:\n",
    "        n1, n2, p1, p2, p3 = float('inf'), float('inf'), float('-inf'), float('-inf'), float('-inf')\n",
    "        \n",
    "        for num in nums:\n",
    "            if num <= n1:\n",
    "                n1, n2 = num, n1\n",
    "            elif num <= n2:\n",
    "                n2 = num\n",
    "\n",
    "            if num >= p3:\n",
    "                p3, p2, p1 = num, p3, p2\n",
    "            elif num >= p2:\n",
    "                p2, p1 = num, p2\n",
    "            elif num >= p1:\n",
    "                p1 = num\n",
    "                    \n",
    "        return max(n1 * n2 * p3, p3 * p2 * p1)"
   ]
  },
  {
   "cell_type": "code",
   "execution_count": 5,
   "metadata": {},
   "outputs": [
    {
     "data": {
      "text/plain": [
       "-6"
      ]
     },
     "execution_count": 5,
     "metadata": {},
     "output_type": "execute_result"
    }
   ],
   "source": [
    "instance = Solution()\n",
    "instance.maximumProduct([-1,-2,-3])"
   ]
  }
 ],
 "metadata": {
  "kernelspec": {
   "display_name": "Python 3",
   "language": "python",
   "name": "python3"
  },
  "language_info": {
   "codemirror_mode": {
    "name": "ipython",
    "version": 3
   },
   "file_extension": ".py",
   "mimetype": "text/x-python",
   "name": "python",
   "nbconvert_exporter": "python",
   "pygments_lexer": "ipython3",
   "version": "3.7.3"
  }
 },
 "nbformat": 4,
 "nbformat_minor": 2
}
