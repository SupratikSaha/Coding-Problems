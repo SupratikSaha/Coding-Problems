{
 "cells": [
  {
   "cell_type": "markdown",
   "metadata": {},
   "source": [
    "Problem Statement.\n",
    "\n",
    "There is an integer array nums that consists of n unique elements, but you have forgotten it. However, you do remember every pair of adjacent elements in nums.\n",
    "\n",
    "You are given a 2D integer array adjacentPairs of size n - 1 where each adjacentPairs[i] = [ui, vi] indicates that the elements ui and vi are adjacent in nums.\n",
    "\n",
    "It is guaranteed that every adjacent pair of elements nums[i] and nums[i+1] will exist in adjacentPairs, either as [nums[i], nums[i+1]] or [nums[i+1], nums[i]]. The pairs can appear in any order.\n",
    "\n",
    "Return the original array nums. If there are multiple solutions, return any of them.\n",
    "\n",
    " \n",
    "\n",
    "Example 1:\n",
    "\n",
    "Input: adjacentPairs = [[2,1],[3,4],[3,2]]\n",
    "Output: [1,2,3,4]\n",
    "Explanation: This array has all its adjacent pairs in adjacentPairs.\n",
    "Notice that adjacentPairs[i] may not be in left-to-right order.\n",
    "\n",
    "Example 2:\n",
    "\n",
    "Input: adjacentPairs = [[4,-2],[1,4],[-3,1]]\n",
    "Output: [-2,4,1,-3]\n",
    "Explanation: There can be negative numbers.\n",
    "Another solution is [-3,1,4,-2], which would also be accepted.\n",
    "\n",
    "Example 3:\n",
    "\n",
    "Input: adjacentPairs = [[100000,-100000]]\n",
    "Output: [100000,-100000]\n",
    "\n",
    " \n",
    "\n",
    "Constraints:\n",
    "\n",
    "    nums.length == n\n",
    "    adjacentPairs.length == n - 1\n",
    "    adjacentPairs[i].length == 2\n",
    "    2 <= n <= 105\n",
    "    -105 <= nums[i], ui, vi <= 105\n",
    "    There exists some nums that has adjacentPairs as its pairs."
   ]
  },
  {
   "cell_type": "code",
   "execution_count": null,
   "metadata": {},
   "outputs": [],
   "source": []
  },
  {
   "cell_type": "code",
   "execution_count": 1,
   "metadata": {},
   "outputs": [],
   "source": [
    "from typing import List\n",
    "from collections import defaultdict\n",
    "\n",
    "class Solution:\n",
    "    def restoreArray(self, adjacentPairs: List[List[int]]) -> List[int]:\n",
    "        numDict = defaultdict(list)\n",
    "        \n",
    "        for a, b in adjacentPairs:\n",
    "            numDict[a].append(b)\n",
    "            numDict[b].append(a)\n",
    "            \n",
    "        numList = []\n",
    "        for num, nextList in numDict.items():\n",
    "            if len(nextList) == 1: \n",
    "                numList.append(num)\n",
    "                break\n",
    "        \n",
    "        for _ in range(len(adjacentPairs)):\n",
    "            curNum = numList[-1]\n",
    "            nextNum = numDict[curNum].pop() \n",
    "            numDict[nextNum].remove(curNum)\n",
    "            numList.append(nextNum)\n",
    "            \n",
    "        return numList"
   ]
  },
  {
   "cell_type": "code",
   "execution_count": 2,
   "metadata": {},
   "outputs": [
    {
     "data": {
      "text/plain": [
       "[-2, 4, 1, -3]"
      ]
     },
     "execution_count": 2,
     "metadata": {},
     "output_type": "execute_result"
    }
   ],
   "source": [
    "instance = Solution()\n",
    "instance.restoreArray([[4,-2],[1,4],[-3,1]])"
   ]
  }
 ],
 "metadata": {
  "kernelspec": {
   "display_name": "Python 3",
   "language": "python",
   "name": "python3"
  },
  "language_info": {
   "codemirror_mode": {
    "name": "ipython",
    "version": 3
   },
   "file_extension": ".py",
   "mimetype": "text/x-python",
   "name": "python",
   "nbconvert_exporter": "python",
   "pygments_lexer": "ipython3",
   "version": "3.7.3"
  }
 },
 "nbformat": 4,
 "nbformat_minor": 2
}
