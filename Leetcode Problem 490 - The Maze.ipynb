{
 "cells": [
  {
   "cell_type": "markdown",
   "metadata": {},
   "source": [
    "Problem Statement.\n",
    "\n",
    "There is a ball in a maze with empty spaces (represented as 0) and walls (represented as 1). The ball can go through the empty spaces by rolling up, down, left or right, but it won't stop rolling until hitting a wall. When the ball stops, it could choose the next direction.\n",
    "\n",
    "Given the m x n maze, the ball's start position and the destination, where start = [startrow, startcol] and destination = [destinationrow, destinationcol], return true if the ball can stop at the destination, otherwise return false.\n",
    "\n",
    "You may assume that the borders of the maze are all walls (see examples).\n",
    "\n",
    " \n",
    "\n",
    "Example 1:\n",
    "\n",
    "Input: maze = [[0,0,1,0,0],[0,0,0,0,0],[0,0,0,1,0],[1,1,0,1,1],[0,0,0,0,0]], start = [0,4], destination = [4,4]\n",
    "Output: true\n",
    "Explanation: One possible way is : left -> down -> left -> down -> right -> down -> right.\n",
    "\n",
    "Example 2:\n",
    "\n",
    "Input: maze = [[0,0,1,0,0],[0,0,0,0,0],[0,0,0,1,0],[1,1,0,1,1],[0,0,0,0,0]], start = [0,4], destination = [3,2]\n",
    "Output: false\n",
    "Explanation: There is no way for the ball to stop at the destination. Notice that you can pass through the destination but you cannot stop there.\n",
    "\n",
    "Example 3:\n",
    "\n",
    "Input: maze = [[0,0,0,0,0],[1,1,0,0,1],[0,0,0,0,0],[0,1,0,0,1],[0,1,0,0,0]], start = [4,3], destination = [0,1]\n",
    "Output: false\n",
    "\n",
    " \n",
    "\n",
    "Constraints:\n",
    "\n",
    "    m == maze.length\n",
    "    n == maze[i].length\n",
    "    1 <= m, n <= 100\n",
    "    maze[i][j] is 0 or 1.\n",
    "    start.length == 2\n",
    "    destination.length == 2\n",
    "    0 <= startrow, destinationrow <= m\n",
    "    0 <= startcol, destinationcol <= n\n",
    "    Both the ball and the destination exist in an empty space, and they will not be in the same position initially.\n",
    "    The maze contains at least 2 empty spaces."
   ]
  },
  {
   "cell_type": "markdown",
   "metadata": {},
   "source": [
    "# BFS - O(M * N) runtime, O(M * N) space"
   ]
  },
  {
   "cell_type": "code",
   "execution_count": 3,
   "metadata": {},
   "outputs": [],
   "source": [
    "from typing import List\n",
    "from collections import deque\n",
    "\n",
    "class Solution:\n",
    "    def hasPath(self, maze: List[List[int]], start: List[int], destination: List[int]) -> bool:\n",
    "        m, n = len(maze), len(maze[0])\n",
    "        directions = [[1,0], [-1,0], [0,1], [0,-1]]\n",
    "        \n",
    "        queue = deque([start])\n",
    "        seen = {tuple(start)}\n",
    "        while queue:\n",
    "            r, c = queue.popleft()\n",
    "            if [r, c] == destination: return True\n",
    "            for dr, dc in directions:\n",
    "                r1, c1 = r+dr, c+dc\n",
    "                while 0 <= r1 < m and 0<= c1 < n and maze[r1][c1] == 0:\n",
    "                    r1, c1 = r1+dr, c1+dc\n",
    "                nr, nc = r1-dr, c1-dc\n",
    "                if (nr, nc) not in seen:\n",
    "                    queue.append([nr, nc])\n",
    "                    seen.add((nr, nc))\n",
    "                    \n",
    "        return False"
   ]
  },
  {
   "cell_type": "code",
   "execution_count": 4,
   "metadata": {},
   "outputs": [
    {
     "data": {
      "text/plain": [
       "False"
      ]
     },
     "execution_count": 4,
     "metadata": {},
     "output_type": "execute_result"
    }
   ],
   "source": [
    "instance = Solution()\n",
    "instance.hasPath([[0,0,1,0,0],[0,0,0,0,0],[0,0,0,1,0],[1,1,0,1,1],[0,0,0,0,0]], [0,4], [3,2])"
   ]
  }
 ],
 "metadata": {
  "kernelspec": {
   "display_name": "Python 3",
   "language": "python",
   "name": "python3"
  },
  "language_info": {
   "codemirror_mode": {
    "name": "ipython",
    "version": 3
   },
   "file_extension": ".py",
   "mimetype": "text/x-python",
   "name": "python",
   "nbconvert_exporter": "python",
   "pygments_lexer": "ipython3",
   "version": "3.7.3"
  }
 },
 "nbformat": 4,
 "nbformat_minor": 2
}
