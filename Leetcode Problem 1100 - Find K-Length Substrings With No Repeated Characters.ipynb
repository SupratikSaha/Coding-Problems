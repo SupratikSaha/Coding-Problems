{
 "cells": [
  {
   "cell_type": "markdown",
   "metadata": {},
   "source": [
    "Problem Statement.\n",
    "\n",
    "Given a string s, return the number of substrings of length k with no repeated characters.\n",
    "\n",
    " \n",
    "\n",
    "Example 1:\n",
    "\n",
    "Input: s = \"havefunonleetcode\", k = 5\n",
    "Output: 6\n",
    "Explanation: \n",
    "There are 6 substrings they are : 'havef','avefu','vefun','efuno','etcod','tcode'.\n",
    "\n",
    "Example 2:\n",
    "\n",
    "Input: s = \"home\", k = 5\n",
    "Output: 0\n",
    "Explanation: \n",
    "Notice k can be larger than the length of s. In this case is not possible to find any substring.\n",
    "\n",
    " \n",
    "\n",
    "Note:\n",
    "\n",
    "    1 <= s.length <= 10^4\n",
    "    All characters of s are lowercase English letters.\n",
    "    1 <= k <= 10^4"
   ]
  },
  {
   "cell_type": "markdown",
   "metadata": {},
   "source": [
    "# Hash Table - O(N) runtime, O(N) space"
   ]
  },
  {
   "cell_type": "code",
   "execution_count": 2,
   "metadata": {},
   "outputs": [],
   "source": [
    "class Solution:\n",
    "    def numKLenSubstrNoRepeats(self, s: str, k: int) -> int:\n",
    "        if len(s) < k: return 0\n",
    "        \n",
    "        charPosDict = {}\n",
    "        start = 0\n",
    "        currLen = 0\n",
    "        result = 0\n",
    "        \n",
    "        for i, char in enumerate(s):\n",
    "            prev = charPosDict.get(char, -1)\n",
    "            if prev >= start: start = prev + 1\n",
    "                \n",
    "            charPosDict[char] = i\n",
    "            currLen = i - start + 1\n",
    "            if currLen >= k: result += 1\n",
    "                \n",
    "        \n",
    "        return result"
   ]
  },
  {
   "cell_type": "code",
   "execution_count": 3,
   "metadata": {},
   "outputs": [
    {
     "data": {
      "text/plain": [
       "6"
      ]
     },
     "execution_count": 3,
     "metadata": {},
     "output_type": "execute_result"
    }
   ],
   "source": [
    "instance = Solution()\n",
    "instance.numKLenSubstrNoRepeats(\"havefunonleetcode\", 5)"
   ]
  }
 ],
 "metadata": {
  "kernelspec": {
   "display_name": "Python 3",
   "language": "python",
   "name": "python3"
  },
  "language_info": {
   "codemirror_mode": {
    "name": "ipython",
    "version": 3
   },
   "file_extension": ".py",
   "mimetype": "text/x-python",
   "name": "python",
   "nbconvert_exporter": "python",
   "pygments_lexer": "ipython3",
   "version": "3.7.3"
  }
 },
 "nbformat": 4,
 "nbformat_minor": 2
}
