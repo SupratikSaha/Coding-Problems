{
 "cells": [
  {
   "cell_type": "markdown",
   "metadata": {},
   "source": [
    "Problem Statement.\n",
    "\n",
    "Given an integer n, your task is to count how many strings of length n can be formed under the following rules:\n",
    "\n",
    "    Each character is a lower case vowel ('a', 'e', 'i', 'o', 'u')\n",
    "    Each vowel 'a' may only be followed by an 'e'.\n",
    "    Each vowel 'e' may only be followed by an 'a' or an 'i'.\n",
    "    Each vowel 'i' may not be followed by another 'i'.\n",
    "    Each vowel 'o' may only be followed by an 'i' or a 'u'.\n",
    "    Each vowel 'u' may only be followed by an 'a'.\n",
    "\n",
    "Since the answer may be too large, return it modulo 10^9 + 7.\n",
    "\n",
    " \n",
    "\n",
    "Example 1:\n",
    "\n",
    "Input: n = 1\n",
    "Output: 5\n",
    "Explanation: All possible strings are: \"a\", \"e\", \"i\" , \"o\" and \"u\".\n",
    "\n",
    "Example 2:\n",
    "\n",
    "Input: n = 2\n",
    "Output: 10\n",
    "Explanation: All possible strings are: \"ae\", \"ea\", \"ei\", \"ia\", \"ie\", \"io\", \"iu\", \"oi\", \"ou\" and \"ua\".\n",
    "\n",
    "Example 3: \n",
    "\n",
    "Input: n = 5\n",
    "Output: 68\n",
    "\n",
    " \n",
    "\n",
    "Constraints:\n",
    "\n",
    "    1 <= n <= 2 * 10^4"
   ]
  },
  {
   "cell_type": "markdown",
   "metadata": {},
   "source": [
    "# Top Down DP - O(N) runtime, O(N) space"
   ]
  },
  {
   "cell_type": "code",
   "execution_count": 1,
   "metadata": {},
   "outputs": [],
   "source": [
    "from functools import lru_cache\n",
    "\n",
    "class Solution:\n",
    "    def countVowelPermutation(self, n: int) -> int:\n",
    "        allowedDict = {'a': 'e', 'e': 'ai', 'i': 'aeou', 'o': 'iu', 'u': 'a'}\n",
    "        \n",
    "        @lru_cache(maxsize=None)\n",
    "        def getStrings(index, curChar):\n",
    "            if index == n: return 1\n",
    "            \n",
    "            nextChars = 'aeiou' if index == 0 else allowedDict[curChar]\n",
    "            count = 0\n",
    "            for char in nextChars:\n",
    "                count += getStrings(index+1, char)\n",
    "                \n",
    "            return count % (10 ** 9 + 7)\n",
    "                \n",
    "        count = 0\n",
    "        return getStrings(0, None) % (10 ** 9 + 7)"
   ]
  },
  {
   "cell_type": "markdown",
   "metadata": {},
   "source": [
    "# Bottom Up DP - O(N) runtime, O(1) space"
   ]
  },
  {
   "cell_type": "code",
   "execution_count": 2,
   "metadata": {},
   "outputs": [],
   "source": [
    "class Solution:\n",
    "    def countVowelPermutation(self, n: int) -> int:\n",
    "        a, e, i, o, u = 1, 1, 1, 1, 1\n",
    "        \n",
    "        for _ in range(n - 1):\n",
    "            a, e, i, o, u = e + i + u, a + i, e + o, i, i + o\n",
    "            \n",
    "        return (a + e + i + o + u) % (10**9 + 7)"
   ]
  },
  {
   "cell_type": "code",
   "execution_count": 3,
   "metadata": {},
   "outputs": [
    {
     "data": {
      "text/plain": [
       "804774852"
      ]
     },
     "execution_count": 3,
     "metadata": {},
     "output_type": "execute_result"
    }
   ],
   "source": [
    "instance = Solution()\n",
    "instance.countVowelPermutation(68)"
   ]
  }
 ],
 "metadata": {
  "kernelspec": {
   "display_name": "Python 3",
   "language": "python",
   "name": "python3"
  },
  "language_info": {
   "codemirror_mode": {
    "name": "ipython",
    "version": 3
   },
   "file_extension": ".py",
   "mimetype": "text/x-python",
   "name": "python",
   "nbconvert_exporter": "python",
   "pygments_lexer": "ipython3",
   "version": "3.7.3"
  }
 },
 "nbformat": 4,
 "nbformat_minor": 2
}
