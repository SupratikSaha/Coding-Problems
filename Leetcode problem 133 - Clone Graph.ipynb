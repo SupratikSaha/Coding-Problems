{
 "cells": [
  {
   "cell_type": "markdown",
   "metadata": {},
   "source": [
    "# Depth First Search - O(n) run time, O(n) space"
   ]
  },
  {
   "cell_type": "code",
   "execution_count": null,
   "metadata": {},
   "outputs": [],
   "source": [
    "\"\"\"\n",
    "# Definition for a Node.\n",
    "class Node:\n",
    "    def __init__(self, val, neighbors):\n",
    "        self.val = val\n",
    "        self.neighbors = neighbors\n",
    "\"\"\"\n",
    "class Solution:\n",
    "    map_nodes = dict()\n",
    "    \n",
    "    def cloneGraph(self, node: 'Node') -> 'Node':\n",
    "        if node == None:\n",
    "            return None\n",
    "    \n",
    "        if node in self.map_nodes:\n",
    "            return self.map_nodes[node]\n",
    "        \n",
    "        graph_copy = Node(node.val,[])\n",
    "        self.map_nodes[node] = graph_copy\n",
    "        \n",
    "        for neighbor in node.neighbors:\n",
    "                graph_copy.neighbors.append(self.cloneGraph(neighbor))\n",
    "                                \n",
    "        return graph_copy"
   ]
  },
  {
   "cell_type": "markdown",
   "metadata": {},
   "source": [
    "# Breadth First Search - O(n) run time, O(n) space"
   ]
  },
  {
   "cell_type": "code",
   "execution_count": null,
   "metadata": {},
   "outputs": [],
   "source": [
    "\"\"\"\n",
    "# Definition for a Node.\n",
    "class Node:\n",
    "    def __init__(self, val, neighbors):\n",
    "        self.val = val\n",
    "        self.neighbors = neighbors\n",
    "\"\"\"\n",
    "class Solution:\n",
    "    \n",
    "    def cloneGraph(self, node: 'Node') -> 'Node':\n",
    "        if node == None:\n",
    "            return None\n",
    "        \n",
    "        map_nodes = dict()\n",
    "        queue = [node]\n",
    "        \n",
    "        graph_copy = Node(node.val,[])\n",
    "        map_nodes[node] = graph_copy\n",
    "        \n",
    "        while len(queue) > 0:\n",
    "            curr = queue.pop(0)\n",
    "            for neighbor in curr.neighbors:\n",
    "                if neighbor in map_nodes:\n",
    "                    map_nodes[curr].neighbors.append(map_nodes[neighbor])\n",
    "                else:\n",
    "                    neighbor_copy = Node(neighbor.val,[])      \n",
    "                    map_nodes[curr].neighbors.append(neighbor_copy)\n",
    "                    map_nodes[neighbor] = neighbor_copy\n",
    "                    queue.append(neighbor)\n",
    "        return graph_copy"
   ]
  }
 ],
 "metadata": {
  "kernelspec": {
   "display_name": "Python 3",
   "language": "python",
   "name": "python3"
  },
  "language_info": {
   "codemirror_mode": {
    "name": "ipython",
    "version": 3
   },
   "file_extension": ".py",
   "mimetype": "text/x-python",
   "name": "python",
   "nbconvert_exporter": "python",
   "pygments_lexer": "ipython3",
   "version": "3.7.3"
  }
 },
 "nbformat": 4,
 "nbformat_minor": 2
}
