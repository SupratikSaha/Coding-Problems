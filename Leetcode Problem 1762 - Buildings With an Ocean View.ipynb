{
 "cells": [
  {
   "cell_type": "markdown",
   "metadata": {},
   "source": [
    "    Problem Statement.\n",
    "\n",
    "    There are n buildings in a line. You are given an integer array heights of size n that represents the heights of the buildings in the line.\n",
    "\n",
    "    The ocean is to the right of the buildings. A building has an ocean view if the building can see the ocean without obstructions. Formally, a building has an ocean view if all the buildings to its right have a smaller height.\n",
    "\n",
    "    Return a list of indices (0-indexed) of buildings that have an ocean view, sorted in increasing order.\n",
    "\n",
    "\n",
    "\n",
    "    Example 1:\n",
    "\n",
    "    Input: heights = [4,2,3,1]\n",
    "    Output: [0,2,3]\n",
    "    Explanation: Building 1 (0-indexed) does not have an ocean view because building 2 is taller.\n",
    "\n",
    "    Example 2:\n",
    "\n",
    "    Input: heights = [4,3,2,1]\n",
    "    Output: [0,1,2,3]\n",
    "    Explanation: All the buildings have an ocean view.\n",
    "\n",
    "    Example 3:\n",
    "\n",
    "    Input: heights = [1,3,2,4]\n",
    "    Output: [3]\n",
    "    Explanation: Only building 3 has an ocean view.\n",
    "\n",
    "    Example 4:\n",
    "\n",
    "    Input: heights = [2,2,2,2]\n",
    "    Output: [3]\n",
    "    Explanation: Buildings cannot see the ocean if there are buildings of the same height to its right.\n",
    "\n",
    "\n",
    "\n",
    "    Constraints:\n",
    "\n",
    "        1 <= heights.length <= 105\n",
    "        1 <= heights[i] <= 109"
   ]
  },
  {
   "cell_type": "markdown",
   "metadata": {},
   "source": [
    "# Merge Sort - O(N * LogN) runtime, O(N) sppace"
   ]
  },
  {
   "cell_type": "code",
   "execution_count": 1,
   "metadata": {},
   "outputs": [],
   "source": [
    "from typing import List\n",
    "\n",
    "class Solution:\n",
    "    def findBuildings(self, heights: List[int]) -> List[int]:\n",
    "        def sort(enum: List[List[int]]) -> List[List[int]]:\n",
    "            half = len(enum) // 2\n",
    "            \n",
    "            if half:\n",
    "                left, right = sort(enum[:half]), sort(enum[half:])\n",
    "                \n",
    "                for i in reversed(range(len(enum))):\n",
    "                    if not right or (left and left[-1][1] > right[-1][1]):\n",
    "                        smaller[left[-1][0]] += len(right)\n",
    "                        enum[i] = left.pop()\n",
    "                    else:\n",
    "                        enum[i] = right.pop()\n",
    "                        \n",
    "            return enum\n",
    "            \n",
    "        n = len(heights)\n",
    "        smaller = [0] * n\n",
    "        sort(list(enumerate(heights)))\n",
    "\n",
    "        buildings = [i for i, count in enumerate(smaller) if smaller[i] == n-i-1]\n",
    "\n",
    "        return buildings"
   ]
  },
  {
   "cell_type": "markdown",
   "metadata": {},
   "source": [
    "# Linear Traversal - O(N) runtime, O(1) space"
   ]
  },
  {
   "cell_type": "code",
   "execution_count": 6,
   "metadata": {},
   "outputs": [],
   "source": [
    "from typing import List\n",
    "from collections import deque\n",
    "\n",
    "class Solution:\n",
    "    def findBuildings(self, heights: List[int]) -> List[int]:\n",
    "        maxHeight = 0\n",
    "        buildings = deque()\n",
    "        \n",
    "        for i in reversed(range(len(heights))):\n",
    "            if heights[i] > maxHeight:\n",
    "                maxHeight = heights[i]\n",
    "                buildings.appendleft(i)\n",
    "                \n",
    "        return buildings"
   ]
  },
  {
   "cell_type": "code",
   "execution_count": 7,
   "metadata": {},
   "outputs": [
    {
     "data": {
      "text/plain": [
       "deque([0, 2, 3])"
      ]
     },
     "execution_count": 7,
     "metadata": {},
     "output_type": "execute_result"
    }
   ],
   "source": [
    "instance = Solution()\n",
    "instance.findBuildings([4,2,3,1])"
   ]
  }
 ],
 "metadata": {
  "kernelspec": {
   "display_name": "Python 3",
   "language": "python",
   "name": "python3"
  },
  "language_info": {
   "codemirror_mode": {
    "name": "ipython",
    "version": 3
   },
   "file_extension": ".py",
   "mimetype": "text/x-python",
   "name": "python",
   "nbconvert_exporter": "python",
   "pygments_lexer": "ipython3",
   "version": "3.7.3"
  }
 },
 "nbformat": 4,
 "nbformat_minor": 2
}
