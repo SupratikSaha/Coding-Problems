{
 "cells": [
  {
   "cell_type": "markdown",
   "metadata": {},
   "source": [
    "Problem Statement.\n",
    "\n",
    "Given an m x n matrix mat where every row is sorted in strictly increasing order, return the smallest common element in all rows.\n",
    "\n",
    "If there is no common element, return -1.\n",
    "\n",
    " \n",
    "\n",
    "Example 1:\n",
    "\n",
    "Input: mat = [[1,2,3,4,5],[2,4,5,8,10],[3,5,7,9,11],[1,3,5,7,9]]\n",
    "Output: 5\n",
    "\n",
    "Example 2:\n",
    "\n",
    "Input: mat = [[1,2,3],[2,3,4],[2,3,5]]\n",
    "Output: 2\n",
    "\n",
    " \n",
    "\n",
    "Constraints:\n",
    "\n",
    "    m == mat.length\n",
    "    n == mat[i].length\n",
    "    1 <= m, n <= 500\n",
    "    1 <= mat[i][j] <= 104\n",
    "    mat[i] is sorted in strictly increasing order."
   ]
  },
  {
   "cell_type": "markdown",
   "metadata": {},
   "source": [
    "# Hash Table - O(M * N) runtime, O(M * N) space"
   ]
  },
  {
   "cell_type": "code",
   "execution_count": 4,
   "metadata": {},
   "outputs": [],
   "source": [
    "from typing import List\n",
    "from collections import defaultdict\n",
    "\n",
    "class Solution:\n",
    "    def smallestCommonElement(self, mat: List[List[int]]) -> int:\n",
    "        m, n = len(mat), len(mat[0])\n",
    "        numDict = defaultdict(int)\n",
    "        \n",
    "        for j in range(n):\n",
    "            for i in range(m):\n",
    "                numDict[mat[i][j]] += 1\n",
    "                if numDict[mat[i][j]] == m: return mat[i][j]\n",
    "                    \n",
    "        return -1"
   ]
  },
  {
   "cell_type": "markdown",
   "metadata": {},
   "source": [
    "# Row Positions - O(M * N) runtime, O(N) space"
   ]
  },
  {
   "cell_type": "code",
   "execution_count": 6,
   "metadata": {},
   "outputs": [],
   "source": [
    "from typing import List\n",
    "\n",
    "class Solution:\n",
    "    def smallestCommonElement(self, mat: List[List[int]]) -> int:\n",
    "        m, n = len(mat), len(mat[0])\n",
    "        pos = [0 for _ in range(m)]\n",
    "        cur_max, cnt = 0, 0\n",
    "        \n",
    "        while (True):\n",
    "            for i in range(m):\n",
    "                while pos[i] < m and mat[i][pos[i]] < cur_max:\n",
    "                    pos[i] += 1\n",
    "                    \n",
    "                if pos[i] >= n:\n",
    "                    return -1\n",
    "\n",
    "                if mat[i][pos[i]] != cur_max:\n",
    "                    cnt = 1\n",
    "                    cur_max = mat[i][pos[i]]\n",
    "                else:\n",
    "                    cnt += 1\n",
    "                    if cnt == n: return cur_max"
   ]
  },
  {
   "cell_type": "code",
   "execution_count": 7,
   "metadata": {},
   "outputs": [
    {
     "data": {
      "text/plain": [
       "5"
      ]
     },
     "execution_count": 7,
     "metadata": {},
     "output_type": "execute_result"
    }
   ],
   "source": [
    "instance = Solution()\n",
    "instance.smallestCommonElement([[1,2,3,4,5],[2,4,5,8,10],[3,5,7,9,11],[1,3,5,7,9]])"
   ]
  }
 ],
 "metadata": {
  "kernelspec": {
   "display_name": "Python 3",
   "language": "python",
   "name": "python3"
  },
  "language_info": {
   "codemirror_mode": {
    "name": "ipython",
    "version": 3
   },
   "file_extension": ".py",
   "mimetype": "text/x-python",
   "name": "python",
   "nbconvert_exporter": "python",
   "pygments_lexer": "ipython3",
   "version": "3.7.3"
  }
 },
 "nbformat": 4,
 "nbformat_minor": 2
}
