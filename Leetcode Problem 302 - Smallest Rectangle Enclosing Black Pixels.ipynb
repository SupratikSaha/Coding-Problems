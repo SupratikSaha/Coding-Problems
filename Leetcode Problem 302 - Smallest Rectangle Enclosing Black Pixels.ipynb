{
 "cells": [
  {
   "cell_type": "markdown",
   "metadata": {},
   "source": [
    "Problem Statement.\n",
    "\n",
    "You are given an image that is represented by a binary matrix with 0 as a white pixel and 1 as a black pixel.\n",
    "\n",
    "The black pixels are connected (i.e., there is only one black region). Pixels are connected horizontally and vertically.\n",
    "\n",
    "Given two integers x and y that represent the location of one of the black pixels, return the area of the smallest (axis-aligned) rectangle that encloses all black pixels.\n",
    "\n",
    " \n",
    "\n",
    "Example 1:\n",
    "\n",
    "Input: image = [[\"0\",\"0\",\"1\",\"0\"],[\"0\",\"1\",\"1\",\"0\"],[\"0\",\"1\",\"0\",\"0\"]], x = 0, y = 2\n",
    "Output: 6\n",
    "\n",
    "Example 2:\n",
    "\n",
    "Input: image = [[\"1\"]], x = 0, y = 0\n",
    "Output: 1\n",
    "\n",
    " \n",
    "\n",
    "Constraints:\n",
    "\n",
    "    m == image.length\n",
    "    n == image[i].length\n",
    "    1 <= m, n <= 100\n",
    "    image[i][j] is either '0' or '1'.\n",
    "    1 <= x < m\n",
    "    1 <= y < n\n",
    "    image[x][y] == '1'.\n",
    "    The black pixels in the image only form one component."
   ]
  },
  {
   "cell_type": "markdown",
   "metadata": {},
   "source": [
    "# BFS - O(M * N) runtime, O(M * N) space"
   ]
  },
  {
   "cell_type": "code",
   "execution_count": 5,
   "metadata": {},
   "outputs": [],
   "source": [
    "from typing import List\n",
    "from collections import deque\n",
    "\n",
    "class Solution:\n",
    "    def minArea(self, image: List[List[str]], x: int, y: int) -> int:\n",
    "        m, n = len(image), len(image[0])\n",
    "        top = bottom = y\n",
    "        left = right = x\n",
    "        \n",
    "        queue = deque([[x, y]])\n",
    "        visited = {(x,y)}\n",
    "        while queue:\n",
    "            r, c = queue.popleft()\n",
    "            top = min(top, c)\n",
    "            bottom = max(bottom, c)\n",
    "            left = min(left, r)\n",
    "            right = max(right, r)\n",
    "            \n",
    "            for r1, c1 in [[r+1, c], [r-1, c], [r, c+1], [r, c-1]]:\n",
    "                if 0 <= r1 < m and 0<= c1 < n and image[r1][c1] == '1' and (r1,c1) not in visited:\n",
    "                    queue.append([r1, c1])\n",
    "                    visited.add((r1,c1))\n",
    "                    \n",
    "                    \n",
    "        return (right - left + 1) * (bottom - top + 1)"
   ]
  },
  {
   "cell_type": "markdown",
   "metadata": {},
   "source": [
    "# Binary Search -  O(M * Log⁡ N + N * Log⁡ M) runtime, O(1) space"
   ]
  },
  {
   "cell_type": "code",
   "execution_count": 7,
   "metadata": {},
   "outputs": [],
   "source": [
    "from typing import List\n",
    "\n",
    "class Solution:\n",
    "    def minArea(self, image: List[List[str]], x: int, y: int) -> int:\n",
    "        if not image or not image[0]: return 0\n",
    "        \n",
    "        self.image = image\n",
    "        n_r, n_c = len(image), len(image[0])\n",
    "        \n",
    "        left = self.search(0, y, 0, n_r, True, True)\n",
    "        right = self.search(y+1, n_c, 0, n_r, False, True)\n",
    "        top = self.search(0, x, left, right, True, False)\n",
    "        bottom = self.search(x+1, n_r, left, right, False, False)\n",
    "        \n",
    "        return (right - left) * (bottom - top)\n",
    "    \n",
    "    \n",
    "    def search(self, lo, hi, start, end, isFindLow = True, isSearchCol = True):\n",
    "    \n",
    "        while lo < hi:\n",
    "            k = start\n",
    "            mid = lo + (hi-lo)//2\n",
    "            \n",
    "            if isSearchCol:\n",
    "                while k < end and self.image[k][mid] == '0':\n",
    "                    k += 1\n",
    "            else:\n",
    "                while k < end and self.image[mid][k] == '0':\n",
    "                    k += 1\n",
    "            \n",
    "            if (k < end) == isFindLow:\n",
    "                hi = mid\n",
    "            else:\n",
    "                lo = mid + 1\n",
    "                \n",
    "        return lo"
   ]
  },
  {
   "cell_type": "code",
   "execution_count": 8,
   "metadata": {},
   "outputs": [
    {
     "data": {
      "text/plain": [
       "6"
      ]
     },
     "execution_count": 8,
     "metadata": {},
     "output_type": "execute_result"
    }
   ],
   "source": [
    "instance = Solution()\n",
    "instance.minArea([[\"0\",\"0\",\"1\",\"0\"],[\"0\",\"1\",\"1\",\"0\"],[\"0\",\"1\",\"0\",\"0\"]], 0, 2)"
   ]
  }
 ],
 "metadata": {
  "kernelspec": {
   "display_name": "Python 3",
   "language": "python",
   "name": "python3"
  },
  "language_info": {
   "codemirror_mode": {
    "name": "ipython",
    "version": 3
   },
   "file_extension": ".py",
   "mimetype": "text/x-python",
   "name": "python",
   "nbconvert_exporter": "python",
   "pygments_lexer": "ipython3",
   "version": "3.7.3"
  }
 },
 "nbformat": 4,
 "nbformat_minor": 2
}
