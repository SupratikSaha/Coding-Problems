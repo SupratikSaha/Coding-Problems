{
 "cells": [
  {
   "cell_type": "markdown",
   "metadata": {},
   "source": [
    "Problem Statement.\n",
    "\n",
    "Given a Tic-Tac-Toe board as a string array board, return true if and only if it is possible to reach this board position during the course of a valid tic-tac-toe game.\n",
    "\n",
    "The board is a 3 x 3 array that consists of characters ' ', 'X', and 'O'. The ' ' character represents an empty square.\n",
    "\n",
    "Here are the rules of Tic-Tac-Toe:\n",
    "\n",
    "    Players take turns placing characters into empty squares ' '.\n",
    "    The first player always places 'X' characters, while the second player always places 'O' characters.\n",
    "    'X' and 'O' characters are always placed into empty squares, never filled ones.\n",
    "    The game ends when there are three of the same (non-empty) character filling any row, column, or diagonal.\n",
    "    The game also ends if all squares are non-empty.\n",
    "    No more moves can be played if the game is over.\n",
    "\n",
    " \n",
    "\n",
    "Example 1:\n",
    "\n",
    "Input: board = [\"O  \",\"   \",\"   \"]\n",
    "Output: false\n",
    "Explanation: The first player always plays \"X\".\n",
    "\n",
    "Example 2:\n",
    "\n",
    "Input: board = [\"XOX\",\" X \",\"   \"]\n",
    "Output: false\n",
    "Explanation: Players take turns making moves.\n",
    "\n",
    "Example 3:\n",
    "\n",
    "Input: board = [\"XOX\",\"O O\",\"XOX\"]\n",
    "Output: true\n",
    "\n",
    " \n",
    "\n",
    "Constraints:\n",
    "\n",
    "    board.length == 3\n",
    "    board[i].length == 3\n",
    "    board[i][j] is either 'X', 'O', or ' '."
   ]
  },
  {
   "cell_type": "markdown",
   "metadata": {},
   "source": [
    "# If Conditions - O(1) runtime, O(1) space"
   ]
  },
  {
   "cell_type": "code",
   "execution_count": 2,
   "metadata": {},
   "outputs": [],
   "source": [
    "from typing import List\n",
    "\n",
    "class Solution:\n",
    "    def validTicTacToe(self, board: List[str]) -> bool:\n",
    "        rows = [0] * 3\n",
    "        cols = [0] * 3\n",
    "        diag = antidiag = 0\n",
    "        oneRow = oneCol = False\n",
    "        balance = win = 0\n",
    "        \n",
    "        for i in range(3):\n",
    "            for j in range(3):\n",
    "                if board[i][j] != \" \":\n",
    "                    balance += 1 if board[i][j] == \"X\" else -1\n",
    "                    \n",
    "                    rows[i] += 1 if board[i][j] == \"X\" else -1\n",
    "                    if rows[i] in [-3, 3]:\n",
    "                        if oneRow: return False\n",
    "                        else: oneRow = True\n",
    "                        win = 1 if rows[i] == 3 else -1\n",
    "                    \n",
    "                    cols[j] += 1 if board[i][j] == \"X\" else -1\n",
    "                    if cols[j] in [-3, 3]:\n",
    "                        if oneCol: return False\n",
    "                        else: oneCol = True\n",
    "                        win = 1 if cols[j] == 3 else -1\n",
    "                         \n",
    "                    if i == j:\n",
    "                        diag += 1 if board[i][j] == \"X\" else -1\n",
    "                        if diag in [-3, 3]:  \n",
    "                            win = 1 if diag == 3 else -1\n",
    "                            \n",
    "                    if i + j == 2:\n",
    "                        antidiag += 1 if board[i][j] == \"X\" else -1\n",
    "                        if antidiag in [-3, 3]:  \n",
    "                            win = 1 if antidiag == 3 else -1\n",
    "                    \n",
    "        return (balance == 0 and win <= 0) or (balance == 1 and win >= 0)"
   ]
  },
  {
   "cell_type": "markdown",
   "metadata": {},
   "source": [
    "# Simpler and Modular - O(1) runtime, O(1) space"
   ]
  },
  {
   "cell_type": "code",
   "execution_count": 6,
   "metadata": {},
   "outputs": [],
   "source": [
    "from typing import List\n",
    "\n",
    "class Solution:\n",
    "    def validTicTacToe(self, board: List[str]) -> bool:\n",
    "        rows = [0] * 3\n",
    "        cols = [0] * 3\n",
    "        diag = antidiag = balance = 0\n",
    "        \n",
    "        def win(v):\n",
    "            if v in rows or v in cols or v in [diag, antidiag]: return True\n",
    "            return False\n",
    "        \n",
    "        for i in range(3):\n",
    "            for j in range(3):\n",
    "                if board[i][j] != \" \":\n",
    "                    balance += 1 if board[i][j] == \"X\" else -1\n",
    "                    rows[i] += 1 if board[i][j] == \"X\" else -1\n",
    "                    cols[j] += 1 if board[i][j] == \"X\" else -1\n",
    "                    if i == j: diag += 1 if board[i][j] == \"X\" else -1\n",
    "                    if i + j == 2: antidiag += 1 if board[i][j] == \"X\" else -1\n",
    "        \n",
    "        if not 0 <= balance <= 1: return False\n",
    "            \n",
    "        if balance == 0 and win(3): return False\n",
    "        if balance == 1 and win(-3): return False\n",
    "        \n",
    "        return True"
   ]
  },
  {
   "cell_type": "code",
   "execution_count": 7,
   "metadata": {},
   "outputs": [
    {
     "data": {
      "text/plain": [
       "True"
      ]
     },
     "execution_count": 7,
     "metadata": {},
     "output_type": "execute_result"
    }
   ],
   "source": [
    "instance = Solution()\n",
    "instance.validTicTacToe([\"XOX\",\"O O\",\"XOX\"])"
   ]
  }
 ],
 "metadata": {
  "kernelspec": {
   "display_name": "Python 3",
   "language": "python",
   "name": "python3"
  },
  "language_info": {
   "codemirror_mode": {
    "name": "ipython",
    "version": 3
   },
   "file_extension": ".py",
   "mimetype": "text/x-python",
   "name": "python",
   "nbconvert_exporter": "python",
   "pygments_lexer": "ipython3",
   "version": "3.7.3"
  }
 },
 "nbformat": 4,
 "nbformat_minor": 2
}
