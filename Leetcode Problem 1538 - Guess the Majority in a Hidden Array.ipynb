{
 "cells": [
  {
   "cell_type": "markdown",
   "metadata": {},
   "source": [
    "Problem Statement.\n",
    "\n",
    "We have an integer array nums, where all the integers in nums are 0 or 1. You will not be given direct access to the array, instead, you will have an API ArrayReader which have the following functions:\n",
    "\n",
    "    int query(int a, int b, int c, int d): where 0 <= a < b < c < d < ArrayReader.length(). The function returns the distribution of the value of the 4 elements and returns:\n",
    "        4 : if the values of the 4 elements are the same (0 or 1).\n",
    "        2 : if three elements have a value equal to 0 and one element has value equal to 1 or vice versa.\n",
    "        0 : if two element have a value equal to 0 and two elements have a value equal to 1.\n",
    "    int length(): Returns the size of the array.\n",
    "\n",
    "You are allowed to call query() 2 * n times at most where n is equal to ArrayReader.length().\n",
    "\n",
    "Return any index of the most frequent value in nums, in case of tie, return -1.\n",
    "\n",
    "Follow up: What is the minimum number of calls needed to find the majority element?\n",
    "\n",
    " \n",
    "\n",
    "Example 1:\n",
    "\n",
    "Input: nums = [0,0,1,0,1,1,1,1]\n",
    "Output: 5\n",
    "Explanation: The following calls to the API\n",
    "reader.length() // returns 8 because there are 8 elements in the hidden array.\n",
    "reader.query(0,1,2,3) // returns 2 this is a query that compares the elements nums[0], nums[1], nums[2], nums[3]\n",
    "// Three elements have a value equal to 0 and one element has value equal to 1 or viceversa.\n",
    "reader.query(4,5,6,7) // returns 4 because nums[4], nums[5], nums[6], nums[7] have the same value.\n",
    "we can infer that the most frequent value is found in the last 4 elements.\n",
    "Index 2, 4, 6, 7 is also a correct answer.\n",
    "\n",
    "Example 2:\n",
    "\n",
    "Input: nums = [0,0,1,1,0]\n",
    "Output: 0\n",
    "\n",
    "Example 3:\n",
    "\n",
    "Input: nums = [1,0,1,0,1,0,1,0]\n",
    "Output: -1\n",
    "\n",
    " \n",
    "\n",
    "Constraints:\n",
    "\n",
    "    5 <= nums.length <= 10^5\n",
    "    0 <= nums[i] <= 1"
   ]
  },
  {
   "cell_type": "markdown",
   "metadata": {},
   "source": [
    "# Compare with one element - O(N) runtime, O(1) space"
   ]
  },
  {
   "cell_type": "code",
   "execution_count": 1,
   "metadata": {},
   "outputs": [],
   "source": [
    "# \"\"\"\n",
    "# This is the ArrayReader's API interface.\n",
    "# You should not implement it, or speculate about its implementation\n",
    "# \"\"\"\n",
    "#class ArrayReader(object):\n",
    "#    # Compares 4 different elements in the array\n",
    "#    # return 4 if the values of the 4 elements are the same (0 or 1).\n",
    "#    # return 2 if three elements have a value equal to 0 and one element has value equal to 1 or vice versa.\n",
    "#    # return 0 : if two element have a value equal to 0 and two elements have a value equal to 1.\n",
    "#    def query(self, a: int, b: int, c: int, d: int) -> int:\n",
    "#\n",
    "#    # Returns the length of the array\n",
    "#    def length(self) -> int:\n",
    "#\n",
    "\n",
    "class Solution:\n",
    "    def guessMajority(self, reader: 'ArrayReader') -> int:\n",
    "        n,groupA,groupB,aIdx,bIdx=reader.length(),1,0,None,None\n",
    "        first,second=reader.query(0,1,2,3),reader.query(0,1,2,4)\n",
    "        for i in range(4,n):\n",
    "            if reader.query(0,1,2,i)==first:\n",
    "                groupA,aIdx=groupA+1,i\n",
    "            else:\n",
    "                groupB,bIdx=groupB+1,i\n",
    "        for i in range(3):\n",
    "            nxt=[v for v in [0,1,2,3,4] if v!=i]\n",
    "            if reader.query(*nxt)==second:\n",
    "                groupA,aIdx=groupA+1,i\n",
    "            else:\n",
    "                groupB,bIdx=groupB+1,i\n",
    "        return aIdx if groupA>groupB else bIdx if groupB>groupA else -1"
   ]
  }
 ],
 "metadata": {
  "kernelspec": {
   "display_name": "Python 3",
   "language": "python",
   "name": "python3"
  },
  "language_info": {
   "codemirror_mode": {
    "name": "ipython",
    "version": 3
   },
   "file_extension": ".py",
   "mimetype": "text/x-python",
   "name": "python",
   "nbconvert_exporter": "python",
   "pygments_lexer": "ipython3",
   "version": "3.7.3"
  }
 },
 "nbformat": 4,
 "nbformat_minor": 2
}
