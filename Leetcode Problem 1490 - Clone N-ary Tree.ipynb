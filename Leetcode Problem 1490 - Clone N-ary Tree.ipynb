{
 "cells": [
  {
   "cell_type": "markdown",
   "metadata": {},
   "source": [
    "Problem Statement.\n",
    "\n",
    "Given a root of an N-ary tree, return a deep copy (clone) of the tree.\n",
    "\n",
    "Each node in the n-ary tree contains a val (int) and a list (List[Node]) of its children.\n",
    "\n",
    "class Node {\n",
    "    public int val;\n",
    "    public List<Node> children;\n",
    "}\n",
    "\n",
    "Nary-Tree input serialization is represented in their level order traversal, each group of children is separated by the null value (See examples).\n",
    "\n",
    " \n",
    "\n",
    "Example 1:\n",
    "\n",
    "Input: root = [1,null,3,2,4,null,5,6]\n",
    "Output: [1,null,3,2,4,null,5,6]\n",
    "\n",
    "Example 2:\n",
    "\n",
    "Input: root = [1,null,2,3,4,5,null,null,6,7,null,8,null,9,10,null,null,11,null,12,null,13,null,null,14]\n",
    "Output: [1,null,2,3,4,5,null,null,6,7,null,8,null,9,10,null,null,11,null,12,null,13,null,null,14]\n",
    "\n",
    " \n",
    "\n",
    "Constraints:\n",
    "\n",
    "    The depth of the n-ary tree is less than or equal to 1000.\n",
    "    The total number of nodes is between [0, 104].\n",
    "\n",
    " \n",
    "Follow up: Can your solution work for the graph problem?"
   ]
  },
  {
   "cell_type": "code",
   "execution_count": null,
   "metadata": {},
   "outputs": [],
   "source": [
    "# DFS - O(N) runtiem, O(N) space"
   ]
  },
  {
   "cell_type": "code",
   "execution_count": 1,
   "metadata": {},
   "outputs": [],
   "source": [
    "\"\"\"\n",
    "# Definition for a Node.\n",
    "class Node:\n",
    "    def __init__(self, val=None, children=None):\n",
    "        self.val = val\n",
    "        self.children = children if children is not None else []\n",
    "\"\"\"\n",
    "\n",
    "class Solution:\n",
    "    def cloneTree(self, root: 'Node') -> 'Node':\n",
    "        if not root: return None\n",
    "        \n",
    "        newNode = Node(root.val)\n",
    "        \n",
    "        for child in root.children:\n",
    "            newNode.children.append(self.cloneTree(child))\n",
    "            \n",
    "        return newNode"
   ]
  },
  {
   "cell_type": "markdown",
   "metadata": {},
   "source": [
    "# Follow Up Question - DFS for Graph - O(N) runtime, O(N) space"
   ]
  },
  {
   "cell_type": "code",
   "execution_count": 2,
   "metadata": {},
   "outputs": [],
   "source": [
    "\"\"\"\n",
    "# Definition for a Node.\n",
    "class Node:\n",
    "    def __init__(self, val=None, children=None):\n",
    "        self.val = val\n",
    "        self.children = children if children is not None else []\n",
    "\"\"\"\n",
    "\n",
    "class Solution:\n",
    "    def cloneGraph(self, node: 'Node') -> 'Node':\n",
    "        def clone(node):\n",
    "            if not node:\n",
    "                return None\n",
    "            if node in d:\n",
    "                return d[node] \n",
    "            newNode = Node(node.val)\n",
    "            d[node] = newNode # it is important to put the cloned node before you call clone below to avoid infinite loop\n",
    "            for nei in node.neighbors:\n",
    "                newNode.neighbors.append(clone(nei))\n",
    "            return newNode\n",
    "            \n",
    "        d = {}\n",
    "        return clone(node)"
   ]
  }
 ],
 "metadata": {
  "kernelspec": {
   "display_name": "Python 3",
   "language": "python",
   "name": "python3"
  },
  "language_info": {
   "codemirror_mode": {
    "name": "ipython",
    "version": 3
   },
   "file_extension": ".py",
   "mimetype": "text/x-python",
   "name": "python",
   "nbconvert_exporter": "python",
   "pygments_lexer": "ipython3",
   "version": "3.7.3"
  }
 },
 "nbformat": 4,
 "nbformat_minor": 2
}
