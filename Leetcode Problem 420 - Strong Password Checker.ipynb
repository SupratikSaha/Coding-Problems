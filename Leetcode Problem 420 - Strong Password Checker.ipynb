{
 "cells": [
  {
   "cell_type": "markdown",
   "metadata": {},
   "source": [
    "Problem Statement.\n",
    "\n",
    "A password is considered strong if the below conditions are all met:\n",
    "\n",
    "    It has at least 6 characters and at most 20 characters.\n",
    "    It contains at least one lowercase letter, at least one uppercase letter, and at least one digit.\n",
    "    It does not contain three repeating characters in a row (i.e., \"...aaa...\" is weak, but \"...aa...a...\" is strong, assuming other conditions are met).\n",
    "\n",
    "Given a string password, return the minimum number of steps required to make password strong. if password is already strong, return 0.\n",
    "\n",
    "In one step, you can:\n",
    "\n",
    "    Insert one character to password,\n",
    "    Delete one character from password, or\n",
    "    Replace one character of password with another character.\n",
    "\n",
    " \n",
    "\n",
    "Example 1:\n",
    "\n",
    "Input: password = \"a\"\n",
    "Output: 5\n",
    "\n",
    "Example 2:\n",
    "\n",
    "Input: password = \"aA1\"\n",
    "Output: 3\n",
    "\n",
    "Example 3:\n",
    "\n",
    "Input: password = \"1337C0d3\"\n",
    "Output: 0\n",
    "\n",
    " \n",
    "\n",
    "Constraints:\n",
    "\n",
    "    1 <= password.length <= 50\n",
    "    password consists of letters, digits, dot '.' or exclamation mark '!'."
   ]
  },
  {
   "cell_type": "markdown",
   "metadata": {},
   "source": [
    "# String Traversal - O(N) runtime, O(1) space"
   ]
  },
  {
   "cell_type": "code",
   "execution_count": 2,
   "metadata": {},
   "outputs": [],
   "source": [
    "class Solution:\n",
    "    def strongPasswordChecker(self, s: str) -> int:\n",
    "        \n",
    "        noLower, noUpper, noDigit = True, True, True\n",
    "        for c in s:\n",
    "            if c.isdigit(): noDigit = False\n",
    "            elif c.islower(): noLower = False\n",
    "            elif c.isupper(): noUpper = False\n",
    "                \n",
    "        missing_type = noLower + noUpper + noDigit\n",
    "        \n",
    "        change = 0\n",
    "        one = two = 0\n",
    "        p = 2\n",
    "        while p < len(s):\n",
    "            if s[p] == s[p-1] == s[p-2]:\n",
    "                length = 2\n",
    "                while p < len(s) and s[p] == s[p-1]:\n",
    "                    length += 1\n",
    "                    p += 1\n",
    "                    \n",
    "                change += length // 3\n",
    "                if length % 3 == 0: one += 1\n",
    "                elif length % 3 == 1: two += 1\n",
    "            else:\n",
    "                p += 1\n",
    "        \n",
    "        if len(s) < 6:\n",
    "            return max(missing_type, 6 - len(s))\n",
    "        elif len(s) <= 20:\n",
    "            return max(missing_type, change)\n",
    "        else:\n",
    "            '''For any repeating sequences with len % 3 == 0, we can reduce one replacement by deleting one character. For any repeating sequences with len % 3 == 1, we can reduce one replacement by deleting two character. For the remaining sequences, we can reduce every replacement by deleting three character.'''\n",
    "            delete = len(s) - 20\n",
    "            \n",
    "            change -= min(delete, one)\n",
    "            change -= min(max(delete - one, 0), two * 2) // 2\n",
    "            change -= max(delete - one - 2 * two, 0) // 3\n",
    "                \n",
    "            return delete + max(missing_type, change)"
   ]
  },
  {
   "cell_type": "code",
   "execution_count": 3,
   "metadata": {},
   "outputs": [
    {
     "data": {
      "text/plain": [
       "8"
      ]
     },
     "execution_count": 3,
     "metadata": {},
     "output_type": "execute_result"
    }
   ],
   "source": [
    "instance = Solution()\n",
    "instance.strongPasswordChecker(\"bbaaaaaaaaaaaaaaacccccc\")"
   ]
  }
 ],
 "metadata": {
  "kernelspec": {
   "display_name": "Python 3",
   "language": "python",
   "name": "python3"
  },
  "language_info": {
   "codemirror_mode": {
    "name": "ipython",
    "version": 3
   },
   "file_extension": ".py",
   "mimetype": "text/x-python",
   "name": "python",
   "nbconvert_exporter": "python",
   "pygments_lexer": "ipython3",
   "version": "3.7.3"
  }
 },
 "nbformat": 4,
 "nbformat_minor": 2
}
