{
 "cells": [
  {
   "cell_type": "markdown",
   "metadata": {},
   "source": [
    "Problem Statement.\n",
    "\n",
    "You are given an m x n matrix maze (0-indexed) with empty cells (represented as '.') and walls (represented as '+'). You are also given the entrance of the maze, where entrance = [entrancerow, entrancecol] denotes the row and column of the cell you are initially standing at.\n",
    "\n",
    "In one step, you can move one cell up, down, left, or right. You cannot step into a cell with a wall, and you cannot step outside the maze. Your goal is to find the nearest exit from the entrance. An exit is defined as an empty cell that is at the border of the maze. The entrance does not count as an exit.\n",
    "\n",
    "Return the number of steps in the shortest path from the entrance to the nearest exit, or -1 if no such path exists.\n",
    "\n",
    " \n",
    "\n",
    "Example 1:\n",
    "\n",
    "Input: maze = [[\"+\",\"+\",\".\",\"+\"],[\".\",\".\",\".\",\"+\"],[\"+\",\"+\",\"+\",\".\"]], entrance = [1,2]\n",
    "Output: 1\n",
    "Explanation: There are 3 exits in this maze at [1,0], [0,2], and [2,3].\n",
    "Initially, you are at the entrance cell [1,2].\n",
    "- You can reach [1,0] by moving 2 steps left.\n",
    "- You can reach [0,2] by moving 1 step up.\n",
    "It is impossible to reach [2,3] from the entrance.\n",
    "Thus, the nearest exit is [0,2], which is 1 step away.\n",
    "\n",
    "Example 2:\n",
    "\n",
    "Input: maze = [[\"+\",\"+\",\"+\"],[\".\",\".\",\".\"],[\"+\",\"+\",\"+\"]], entrance = [1,0]\n",
    "Output: 2\n",
    "Explanation: There is 1 exit in this maze at [1,2].\n",
    "[1,0] does not count as an exit since it is the entrance cell.\n",
    "Initially, you are at the entrance cell [1,0].\n",
    "- You can reach [1,2] by moving 2 steps right.\n",
    "Thus, the nearest exit is [1,2], which is 2 steps away.\n",
    "\n",
    "Example 3:\n",
    "\n",
    "Input: maze = [[\".\",\"+\"]], entrance = [0,0]\n",
    "Output: -1\n",
    "Explanation: There are no exits in this maze.\n",
    "\n",
    " \n",
    "\n",
    "Constraints:\n",
    "\n",
    "    maze.length == m\n",
    "    maze[i].length == n\n",
    "    1 <= m, n <= 100\n",
    "    maze[i][j] is either '.' or '+'.\n",
    "    entrance.length == 2\n",
    "    0 <= entrancerow < m\n",
    "    0 <= entrancecol < n\n",
    "    entrance will always be an empty cell."
   ]
  },
  {
   "cell_type": "markdown",
   "metadata": {},
   "source": [
    "# BFS - O(M * N) runtime, O(M * N) space"
   ]
  },
  {
   "cell_type": "code",
   "execution_count": 3,
   "metadata": {},
   "outputs": [],
   "source": [
    "from typing import List\n",
    "from collections import deque\n",
    "\n",
    "class Solution:\n",
    "    def nearestExit(self, maze: List[List[str]], entrance: List[int]) -> int:\n",
    "        m, n = len(maze), len(maze[0])\n",
    "        queue = deque([(entrance[0], entrance[1], 0)])\n",
    "        visited = {(entrance[0], entrance[1])}       \n",
    "        \n",
    "        while queue:\n",
    "            r, c, dist = queue.popleft()\n",
    "            if dist > 0 and (r in [0, m-1] or c in [0, n-1]): return dist\n",
    "            \n",
    "            for r1, c1 in [(r, c-1), (r, c+1), (r-1, c), (r+1, c)]:\n",
    "                if 0 <= r1 < m and 0 <= c1 < n and maze[r1][c1] == '.' and (r1, c1) not in visited:\n",
    "                    queue.append((r1, c1, dist+1))\n",
    "                    visited.add((r1, c1))\n",
    "                    \n",
    "        return -1"
   ]
  },
  {
   "cell_type": "code",
   "execution_count": 4,
   "metadata": {},
   "outputs": [
    {
     "data": {
      "text/plain": [
       "2"
      ]
     },
     "execution_count": 4,
     "metadata": {},
     "output_type": "execute_result"
    }
   ],
   "source": [
    "instance = Solution()\n",
    "instance.nearestExit([[\"+\",\"+\",\"+\"],[\".\",\".\",\".\"],[\"+\",\"+\",\"+\"]], [1, 0])"
   ]
  }
 ],
 "metadata": {
  "kernelspec": {
   "display_name": "Python 3",
   "language": "python",
   "name": "python3"
  },
  "language_info": {
   "codemirror_mode": {
    "name": "ipython",
    "version": 3
   },
   "file_extension": ".py",
   "mimetype": "text/x-python",
   "name": "python",
   "nbconvert_exporter": "python",
   "pygments_lexer": "ipython3",
   "version": "3.7.3"
  }
 },
 "nbformat": 4,
 "nbformat_minor": 2
}
