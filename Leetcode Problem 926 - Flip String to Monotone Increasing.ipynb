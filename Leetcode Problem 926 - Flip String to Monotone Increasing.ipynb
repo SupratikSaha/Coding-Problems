{
 "cells": [
  {
   "cell_type": "markdown",
   "metadata": {},
   "source": [
    "Problem Statement.\n",
    "\n",
    "A binary string is monotone increasing if it consists of some number of 0's (possibly none), followed by some number of 1's (also possibly none).\n",
    "\n",
    "You are given a binary string s. You can flip s[i] changing it from 0 to 1 or from 1 to 0.\n",
    "\n",
    "Return the minimum number of flips to make s monotone increasing.\n",
    "\n",
    "Example 1:\n",
    "\n",
    "Input: s = \"00110\"\n",
    "Output: 1\n",
    "Explanation: We flip the last digit to get 00111.\n",
    "\n",
    "Example 2:\n",
    "\n",
    "Input: s = \"010110\"\n",
    "Output: 2\n",
    "Explanation: We flip to get 011111, or alternatively 000111.\n",
    "\n",
    "Example 3:\n",
    "\n",
    "Input: s = \"00011000\"\n",
    "Output: 2\n",
    "Explanation: We flip to get 00000000.\n",
    "\n",
    "Constraints:\n",
    "\n",
    "    1 <= s.length <= 10^5\n",
    "    s[i] is either '0' or '1'."
   ]
  },
  {
   "cell_type": "markdown",
   "metadata": {},
   "source": [
    "# Hash Table - O(N) runtime, O(1) space"
   ]
  },
  {
   "cell_type": "code",
   "execution_count": 3,
   "metadata": {},
   "outputs": [],
   "source": [
    "from collections import Counter\n",
    "\n",
    "class Solution:\n",
    "    def minFlipsMonoIncr(self, s: str) -> int:\n",
    "        rightDict = Counter(s)\n",
    "        if not rightDict['0'] or not rightDict['1']: return 0\n",
    "        \n",
    "        minVal = min(rightDict['0'], rightDict['1'])\n",
    "        leftDict = {'0': 0, '1': 0}\n",
    "        \n",
    "        for c in s:\n",
    "            leftDict[c] += 1\n",
    "            rightDict[c] -= 1\n",
    "            minVal = min(minVal, leftDict['1'] + rightDict['0'])\n",
    "            \n",
    "        return minVal"
   ]
  },
  {
   "cell_type": "markdown",
   "metadata": {},
   "source": [
    "# Simpler and Faster Count - O(N) runtime, O(1) space"
   ]
  },
  {
   "cell_type": "code",
   "execution_count": 5,
   "metadata": {},
   "outputs": [],
   "source": [
    "class Solution:\n",
    "    def minFlipsMonoIncr(self, s: str) -> int:\n",
    "        n = len(s)\n",
    "        cnt0 = s.count('0')\n",
    "        cnt1 = 0\n",
    "        res = min(cnt0, n - cnt0)\n",
    "        \n",
    "        for i in range(n):\n",
    "            if s[i] == '0': \n",
    "                cnt0 -= 1\n",
    "            elif s[i] == '1':\n",
    "                res = min(res, cnt1+cnt0)\n",
    "                cnt1 += 1\n",
    "                \n",
    "        return res"
   ]
  },
  {
   "cell_type": "code",
   "execution_count": 6,
   "metadata": {},
   "outputs": [
    {
     "data": {
      "text/plain": [
       "2"
      ]
     },
     "execution_count": 6,
     "metadata": {},
     "output_type": "execute_result"
    }
   ],
   "source": [
    "instance = Solution()\n",
    "instance.minFlipsMonoIncr(\"00011000\")"
   ]
  }
 ],
 "metadata": {
  "kernelspec": {
   "display_name": "Python 3",
   "language": "python",
   "name": "python3"
  },
  "language_info": {
   "codemirror_mode": {
    "name": "ipython",
    "version": 3
   },
   "file_extension": ".py",
   "mimetype": "text/x-python",
   "name": "python",
   "nbconvert_exporter": "python",
   "pygments_lexer": "ipython3",
   "version": "3.7.3"
  }
 },
 "nbformat": 4,
 "nbformat_minor": 2
}
