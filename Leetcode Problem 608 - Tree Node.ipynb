{
 "cells": [
  {
   "cell_type": "markdown",
   "metadata": {},
   "source": [
    "    Problem Statement.\n",
    "\n",
    "    Given a table tree, id is identifier of the tree node and p_id is its parent node's id.\n",
    "\n",
    "    +----+------+\n",
    "    | id | p_id |\n",
    "    +----+------+\n",
    "    | 1  | null |\n",
    "    | 2  | 1    |\n",
    "    | 3  | 1    |\n",
    "    | 4  | 2    |\n",
    "    | 5  | 2    |\n",
    "    +----+------+\n",
    "\n",
    "    Each node in the tree can be one of three types:\n",
    "\n",
    "        Leaf: if the node is a leaf node.\n",
    "        Root: if the node is the root of the tree.\n",
    "        Inner: If the node is neither a leaf node nor a root node.\n",
    "\n",
    "\n",
    "    Write a query to print the node id and the type of the node. Sort your output by the node id. The result for the above sample is:\n",
    "\n",
    "\n",
    "\n",
    "    +----+------+\n",
    "    | id | Type |\n",
    "    +----+------+\n",
    "    | 1  | Root |\n",
    "    | 2  | Inner|\n",
    "    | 3  | Leaf |\n",
    "    | 4  | Leaf |\n",
    "    | 5  | Leaf |\n",
    "    +----+------+\n",
    "\n",
    "\n",
    "\n",
    "    Explanation\n",
    "\n",
    "\n",
    "\n",
    "        Node '1' is root node, because its parent node is NULL and it has child node '2' and '3'.\n",
    "        Node '2' is inner node, because it has parent node '1' and child node '4' and '5'.\n",
    "        Node '3', '4' and '5' is Leaf node, because they have parent node and they don't have child node.\n",
    "\n",
    "        And here is the image of the sample tree as below:\n",
    "\n",
    "\n",
    "\n",
    "                     1\n",
    "                    /   \\\n",
    "                   2     3\n",
    "                       /   \\\n",
    "                      4     5\n",
    "\n",
    "        Note\n",
    "\n",
    "        If there is only one node on the tree, you only need to output its root attributes."
   ]
  },
  {
   "cell_type": "markdown",
   "metadata": {},
   "source": [
    "# Join"
   ]
  },
  {
   "cell_type": "code",
   "execution_count": null,
   "metadata": {},
   "outputs": [],
   "source": [
    "select a.id, \n",
    "case when a.p_id is null then 'Root'\n",
    "     when b.id is not null then 'Inner'\n",
    "     else 'Leaf'\n",
    "end as Type\n",
    "from tree a\n",
    "left join (select distinct t1.id from tree t1 join tree t2 on t1.id = t2.p_id) b\n",
    "on a.id = b.id"
   ]
  },
  {
   "cell_type": "markdown",
   "metadata": {},
   "source": [
    "# Slower but Simpler using IN"
   ]
  },
  {
   "cell_type": "code",
   "execution_count": null,
   "metadata": {},
   "outputs": [],
   "source": [
    "select id,\n",
    "    case when p_id is null then 'Root'\n",
    "         when id in (select p_id from tree) then 'Inner'\n",
    "         else 'Leaf'\n",
    "    end as Type\n",
    "from tree\n",
    "order by id"
   ]
  }
 ],
 "metadata": {
  "kernelspec": {
   "display_name": "Python 3",
   "language": "python",
   "name": "python3"
  },
  "language_info": {
   "codemirror_mode": {
    "name": "ipython",
    "version": 3
   },
   "file_extension": ".py",
   "mimetype": "text/x-python",
   "name": "python",
   "nbconvert_exporter": "python",
   "pygments_lexer": "ipython3",
   "version": "3.7.3"
  }
 },
 "nbformat": 4,
 "nbformat_minor": 2
}
