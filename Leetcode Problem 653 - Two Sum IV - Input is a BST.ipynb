{
 "cells": [
  {
   "cell_type": "markdown",
   "metadata": {},
   "source": [
    "Problem Statement.\n",
    "\n",
    "Given the root of a Binary Search Tree and a target number k, return true if there exist two elements in the BST such that their sum is equal to the given target.\n",
    "\n",
    " \n",
    "\n",
    "Example 1:\n",
    "\n",
    "Input: root = [5,3,6,2,4,null,7], k = 9\n",
    "Output: true\n",
    "\n",
    "Example 2:\n",
    "\n",
    "Input: root = [5,3,6,2,4,null,7], k = 28\n",
    "Output: false\n",
    "\n",
    " \n",
    "\n",
    "Constraints:\n",
    "\n",
    "    The number of nodes in the tree is in the range [1, 10^4].\n",
    "    -10^4 <= Node.val <= 10^4\n",
    "    root is guaranteed to be a valid binary search tree.\n",
    "    -10^5 <= k <= 10^5"
   ]
  },
  {
   "cell_type": "markdown",
   "metadata": {},
   "source": [
    "# In Order Traversal - O(N) runtime, O(N) space"
   ]
  },
  {
   "cell_type": "code",
   "execution_count": 1,
   "metadata": {},
   "outputs": [],
   "source": [
    "from typing import Optional\n",
    "# Definition for a binary tree node.\n",
    "# class TreeNode:\n",
    "#     def __init__(self, val=0, left=None, right=None):\n",
    "#         self.val = val\n",
    "#         self.left = left\n",
    "#         self.right = right\n",
    "\n",
    "class Solution:\n",
    "    def findTarget(self, root: Optional[TreeNode], k: int) -> bool:\n",
    "        \n",
    "        def dfs(node):\n",
    "            if not node: return []\n",
    "            \n",
    "            return dfs(node.left) + [node.val] + dfs(node.right)\n",
    "        \n",
    "        preOrder = dfs(root)\n",
    "        l, r = 0, len(preOrder) - 1\n",
    "        while l < r:\n",
    "            curSum = preOrder[l] + preOrder[r]\n",
    "            if curSum == k: return True\n",
    "            if curSum < k: l += 1\n",
    "            else: r -= 1\n",
    "                \n",
    "        return False"
   ]
  },
  {
   "cell_type": "markdown",
   "metadata": {},
   "source": [
    "# BFS and Hash Set - O(N) runtime, O(N) space"
   ]
  },
  {
   "cell_type": "code",
   "execution_count": null,
   "metadata": {},
   "outputs": [],
   "source": [
    "from typing import Optional\n",
    "# Definition for a binary tree node.\n",
    "# class TreeNode:\n",
    "#     def __init__(self, val=0, left=None, right=None):\n",
    "#         self.val = val\n",
    "#         self.left = left\n",
    "#         self.right = right\n",
    "\n",
    "class Solution:\n",
    "    def findTarget(self, root: Optional[TreeNode], k: int) -> bool:\n",
    "        if not root: return False\n",
    "        \n",
    "        bfs, s = [root], set()\n",
    "        for i in bfs:\n",
    "            if k - i.val in s: return True\n",
    "            s.add(i.val)\n",
    "            \n",
    "            if i.left: bfs.append(i.left)\n",
    "            if i.right: bfs.append(i.right)\n",
    "                \n",
    "        return False"
   ]
  },
  {
   "cell_type": "markdown",
   "metadata": {},
   "source": [
    "# Stack - O(N) runtime O(H) space"
   ]
  },
  {
   "cell_type": "code",
   "execution_count": null,
   "metadata": {},
   "outputs": [],
   "source": [
    "from typing import Optional\n",
    "# Definition for a binary tree node.\n",
    "# class TreeNode:\n",
    "#     def __init__(self, val=0, left=None, right=None):\n",
    "#         self.val = val\n",
    "#         self.left = left\n",
    "#         self.right = right\n",
    "\n",
    "class Solution:\n",
    "    def findTarget(self, root: Optional[TreeNode], k: int) -> bool:\n",
    "        def pushLeft(st, root):\n",
    "            while root:\n",
    "                st.append(root)\n",
    "                root = root.left\n",
    "\n",
    "        def pushRight(st, root):\n",
    "            while root:\n",
    "                st.append(root)\n",
    "                root = root.right\n",
    "\n",
    "        def nextLeft(st):\n",
    "            node = st.pop()\n",
    "            pushLeft(st, node.right)\n",
    "            return node.val\n",
    "\n",
    "        def nextRight(st):\n",
    "            node = st.pop()\n",
    "            pushRight(st, node.left)\n",
    "            return node.val\n",
    "\n",
    "        stLeft, stRight = [], []\n",
    "        pushLeft(stLeft, root)\n",
    "        pushRight(stRight, root)\n",
    "\n",
    "        left, right = nextLeft(stLeft), nextRight(stRight)\n",
    "        while left < right:\n",
    "            if left + right == k: return True\n",
    "            if left + right < k:\n",
    "                left = nextLeft(stLeft)\n",
    "            else:\n",
    "                right = nextRight(stRight)\n",
    "        return False"
   ]
  }
 ],
 "metadata": {
  "kernelspec": {
   "display_name": "Python 3",
   "language": "python",
   "name": "python3"
  },
  "language_info": {
   "codemirror_mode": {
    "name": "ipython",
    "version": 3
   },
   "file_extension": ".py",
   "mimetype": "text/x-python",
   "name": "python",
   "nbconvert_exporter": "python",
   "pygments_lexer": "ipython3",
   "version": "3.7.3"
  }
 },
 "nbformat": 4,
 "nbformat_minor": 2
}
