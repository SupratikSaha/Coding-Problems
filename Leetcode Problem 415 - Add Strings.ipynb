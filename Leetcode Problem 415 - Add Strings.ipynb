{
 "cells": [
  {
   "cell_type": "markdown",
   "metadata": {},
   "source": [
    "    Problem Statement.\n",
    "\n",
    "    Given two non-negative integers num1 and num2 represented as string, return the sum of num1 and num2.\n",
    "\n",
    "    Note:\n",
    "\n",
    "        The length of both num1 and num2 is < 5100.\n",
    "        Both num1 and num2 contains only digits 0-9.\n",
    "        Both num1 and num2 does not contain any leading zero.\n",
    "        You must not use any built-in BigInteger library or convert the inputs to integer directly."
   ]
  },
  {
   "cell_type": "markdown",
   "metadata": {},
   "source": [
    "# Iteraion - O(max(N1, N2)) runtime, O(max(N1, N2)) space"
   ]
  },
  {
   "cell_type": "code",
   "execution_count": 1,
   "metadata": {},
   "outputs": [],
   "source": [
    "class Solution:\n",
    "    def addStrings(self, num1: str, num2: str) -> str:\n",
    "        \n",
    "        num1 = list(num1)[::-1]\n",
    "        num2 = list(num2)[::-1]\n",
    "        \n",
    "        res, carry = [], 0\n",
    "         \n",
    "        if len(num2) > len(num1):\n",
    "            num1, num2 = num2, num1\n",
    "        \n",
    "        for i in range(len(num2)):\n",
    "            temp = int(num1[i]) + int(num2[i]) + carry\n",
    "            res.append(str(temp % 10))\n",
    "            carry = temp // 10\n",
    "            \n",
    "        for j in range(i+1, len(num1)):\n",
    "            temp = int(num1[j]) + carry\n",
    "            res.append(str(temp % 10))\n",
    "            carry = temp // 10\n",
    "            \n",
    "        if carry > 0: res.append(str(carry))\n",
    "            \n",
    "        return ''.join(res[::-1])"
   ]
  },
  {
   "cell_type": "markdown",
   "metadata": {},
   "source": [
    "# Simpler Iteraion - O(max(N1, N2)) runtime, O(max(N1, N2)) space"
   ]
  },
  {
   "cell_type": "code",
   "execution_count": 3,
   "metadata": {},
   "outputs": [],
   "source": [
    "class Solution:\n",
    "    def addStrings(self, num1: str, num2: str) -> str:\n",
    "        res = []\n",
    "\n",
    "        carry = 0\n",
    "        p1 = len(num1) - 1\n",
    "        p2 = len(num2) - 1\n",
    "        while p1 >= 0 or p2 >= 0:\n",
    "            x1 = ord(num1[p1]) - ord('0') if p1 >= 0 else 0\n",
    "            x2 = ord(num2[p2]) - ord('0') if p2 >= 0 else 0\n",
    "            value = (x1 + x2 + carry) % 10\n",
    "            carry = (x1 + x2 + carry) // 10\n",
    "            res.append(value)\n",
    "            p1 -= 1\n",
    "            p2 -= 1\n",
    "        \n",
    "        if carry:\n",
    "            res.append(carry)\n",
    "        \n",
    "        return ''.join(str(x) for x in res[::-1])"
   ]
  },
  {
   "cell_type": "code",
   "execution_count": 4,
   "metadata": {},
   "outputs": [
    {
     "data": {
      "text/plain": [
       "'19998'"
      ]
     },
     "execution_count": 4,
     "metadata": {},
     "output_type": "execute_result"
    }
   ],
   "source": [
    "instance = Solution()\n",
    "instance.addStrings('9999', '9999')"
   ]
  }
 ],
 "metadata": {
  "kernelspec": {
   "display_name": "Python 3",
   "language": "python",
   "name": "python3"
  },
  "language_info": {
   "codemirror_mode": {
    "name": "ipython",
    "version": 3
   },
   "file_extension": ".py",
   "mimetype": "text/x-python",
   "name": "python",
   "nbconvert_exporter": "python",
   "pygments_lexer": "ipython3",
   "version": "3.7.3"
  }
 },
 "nbformat": 4,
 "nbformat_minor": 2
}
