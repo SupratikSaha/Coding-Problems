{
 "cells": [
  {
   "cell_type": "markdown",
   "metadata": {},
   "source": [
    "Problem Statement. <br/>\n",
    "\n",
    "Given a singly linked list, determine if it is a palindrome. <br/>\n",
    "\n",
    "Example 1: <br/>\n",
    "Input: 1->2 <br/>\n",
    "Output: false <br/>\n",
    "\n",
    "Example 2: <br/>\n",
    "Input: 1->2->2->1 <br/>\n",
    "Output: true"
   ]
  },
  {
   "cell_type": "markdown",
   "metadata": {},
   "source": [
    "# List - O(N) runtime, O(N) space"
   ]
  },
  {
   "cell_type": "code",
   "execution_count": null,
   "metadata": {},
   "outputs": [],
   "source": [
    "class Solution:\n",
    "    def isPalindrome(self, head: ListNode) -> bool:\n",
    "        vals = []\n",
    "        current_node = head\n",
    "        while current_node is not None:\n",
    "            vals.append(current_node.val)\n",
    "            current_node = current_node.next\n",
    "        return vals == vals[::-1]"
   ]
  },
  {
   "cell_type": "markdown",
   "metadata": {},
   "source": [
    "# Recursive - O(N) runtime, O(N) space"
   ]
  },
  {
   "cell_type": "code",
   "execution_count": null,
   "metadata": {},
   "outputs": [],
   "source": [
    "class Solution:\n",
    "    def isPalindrome(self, head: ListNode) -> bool:\n",
    "\n",
    "        self.front_pointer = head\n",
    "\n",
    "        def recursively_check(current_node=head):\n",
    "            if current_node is not None:\n",
    "                if not recursively_check(current_node.next):\n",
    "                    return False\n",
    "                if self.front_pointer.val != current_node.val:\n",
    "                    return False\n",
    "                self.front_pointer = self.front_pointer.next\n",
    "            return True"
   ]
  },
  {
   "cell_type": "markdown",
   "metadata": {},
   "source": [
    "# Fast and Slow Pointers - O(N) runtime, O(1) space"
   ]
  },
  {
   "cell_type": "code",
   "execution_count": null,
   "metadata": {},
   "outputs": [],
   "source": [
    "class Solution:\n",
    "    def isPalindrome(self, head: ListNode) -> bool:\n",
    "        if head is None or head.next is None:\n",
    "            return True\n",
    "\n",
    "        # find middle of the LinkedList\n",
    "        slow, fast = head, head\n",
    "        while (fast is not None and fast.next is not None):\n",
    "            slow = slow.next\n",
    "            fast = fast.next.next\n",
    "\n",
    "        head_second_half = self.reverse(slow)  # reverse the second half\n",
    "        # store the head of reversed part to revert back later\n",
    "        copy_head_second_half = head_second_half\n",
    "\n",
    "        # compare the first and the second half\n",
    "        while (head is not None and head_second_half is not None):\n",
    "            if head.val != head_second_half.val:\n",
    "                break  # not a palindrome\n",
    "\n",
    "            head = head.next\n",
    "            head_second_half = head_second_half.next\n",
    "\n",
    "        self.reverse(copy_head_second_half)  # revert the reverse of the second half\n",
    "\n",
    "        if head is None or head_second_half is None:  # if both halves match\n",
    "            return True\n",
    "\n",
    "        return False\n",
    "    \n",
    "                \n",
    "    def reverse(self, head: ListNode) -> ListNode:\n",
    "        prev = None\n",
    "        while (head is not None):\n",
    "            next = head.next\n",
    "            head.next = prev\n",
    "            prev = head\n",
    "            head = next\n",
    "        return prev"
   ]
  }
 ],
 "metadata": {
  "kernelspec": {
   "display_name": "Python 3",
   "language": "python",
   "name": "python3"
  },
  "language_info": {
   "codemirror_mode": {
    "name": "ipython",
    "version": 3
   },
   "file_extension": ".py",
   "mimetype": "text/x-python",
   "name": "python",
   "nbconvert_exporter": "python",
   "pygments_lexer": "ipython3",
   "version": "3.7.3"
  }
 },
 "nbformat": 4,
 "nbformat_minor": 2
}
