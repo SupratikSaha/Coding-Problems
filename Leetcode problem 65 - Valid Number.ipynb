{
 "cells": [
  {
   "cell_type": "code",
   "execution_count": 1,
   "metadata": {},
   "outputs": [],
   "source": [
    "class Solution:\n",
    "    def isNumber(self, s: str) -> bool:\n",
    "        \n",
    "        ctr, length = 0, len(s)\n",
    "        \n",
    "        while(ctr < length and s[ctr] == ' '):\n",
    "            ctr += 1\n",
    "            \n",
    "        if(ctr < length and (s[ctr] == '+' or s[ctr] == '-')):\n",
    "            ctr += 1\n",
    "            \n",
    "        isNumeric = False\n",
    "        while(ctr < length and s[ctr].isdigit()):\n",
    "            ctr += 1\n",
    "            isNumeric = True\n",
    "            \n",
    "        if(ctr < length and s[ctr] == '.' ):\n",
    "            ctr += 1\n",
    "            while(ctr < length and s[ctr].isdigit()):\n",
    "                ctr += 1\n",
    "                isNumeric = True\n",
    "                \n",
    "        if(isNumeric and ctr < length and s[ctr] == 'e' ):\n",
    "            ctr += 1\n",
    "            isNumeric = False\n",
    "            if(ctr < length and (s[ctr] == '+' or s[ctr] == '-')):\n",
    "                ctr += 1\n",
    "            while(ctr < length and s[ctr].isdigit()):\n",
    "                ctr += 1\n",
    "                isNumeric = True\n",
    "        \n",
    "        while(ctr < length and s[ctr] == ' '):\n",
    "            ctr += 1\n",
    "            \n",
    "        return isNumeric and ctr==length"
   ]
  },
  {
   "cell_type": "code",
   "execution_count": 8,
   "metadata": {},
   "outputs": [
    {
     "data": {
      "text/plain": [
       "False"
      ]
     },
     "execution_count": 8,
     "metadata": {},
     "output_type": "execute_result"
    }
   ],
   "source": [
    "Instance = Solution()\n",
    "Instance.isNumber('   +53.5e  ')"
   ]
  }
 ],
 "metadata": {
  "kernelspec": {
   "display_name": "Python 3",
   "language": "python",
   "name": "python3"
  },
  "language_info": {
   "codemirror_mode": {
    "name": "ipython",
    "version": 3
   },
   "file_extension": ".py",
   "mimetype": "text/x-python",
   "name": "python",
   "nbconvert_exporter": "python",
   "pygments_lexer": "ipython3",
   "version": "3.7.3"
  }
 },
 "nbformat": 4,
 "nbformat_minor": 2
}
