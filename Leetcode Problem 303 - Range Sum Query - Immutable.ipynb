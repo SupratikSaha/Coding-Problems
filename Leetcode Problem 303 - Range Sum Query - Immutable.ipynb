{
 "cells": [
  {
   "cell_type": "markdown",
   "metadata": {},
   "source": [
    "Given an integer array nums, find the sum of the elements between indices i and j (i ≤ j), inclusive.\n",
    "\n",
    "Example:\n",
    "\n",
    "Given nums = [-2, 0, 3, -5, 2, -1]\n",
    "\n",
    "sumRange(0, 2) -> 1\n",
    "sumRange(2, 5) -> -1\n",
    "sumRange(0, 5) -> -3\n",
    "\n",
    "Note:\n",
    "\n",
    "    You may assume that the array does not change.\n",
    "    There are many calls to sumRange function."
   ]
  },
  {
   "cell_type": "markdown",
   "metadata": {},
   "source": [
    "# Dynamic Programming - O(n) runtime, O(1) space"
   ]
  },
  {
   "cell_type": "code",
   "execution_count": 1,
   "metadata": {},
   "outputs": [],
   "source": [
    "from typing import List\n",
    "\n",
    "class NumArray:\n",
    "\n",
    "    def __init__(self, nums: List[int]):\n",
    "        \n",
    "        self.nums = nums      \n",
    "        self.create_sumDict()\n",
    "        \n",
    "    def create_sumDict(self) -> None:\n",
    "        for i in range(0, len(self.nums)):\n",
    "            self.nums[i] = self.nums[i] + (self.nums[i - 1] if i > 0 else 0) \n",
    "        \n",
    "\n",
    "    def sumRange(self, i: int, j: int) -> int:\n",
    "        sum_range =  self.nums[j] - (self.nums[i - 1] if i > 0 else 0)\n",
    "        return sum_range\n",
    "        \n",
    "\n",
    "\n",
    "# Your NumArray object will be instantiated and called as such:\n",
    "# obj = NumArray(nums)\n",
    "# param_1 = obj.sumRange(i,j)"
   ]
  },
  {
   "cell_type": "code",
   "execution_count": 3,
   "metadata": {},
   "outputs": [
    {
     "data": {
      "text/plain": [
       "-1"
      ]
     },
     "execution_count": 3,
     "metadata": {},
     "output_type": "execute_result"
    }
   ],
   "source": [
    "obj = NumArray([-2, 0, 3, -5, 2, -1])\n",
    "param_1 = obj.sumRange(2, 5)\n",
    "param_1"
   ]
  }
 ],
 "metadata": {
  "kernelspec": {
   "display_name": "Python 3",
   "language": "python",
   "name": "python3"
  },
  "language_info": {
   "codemirror_mode": {
    "name": "ipython",
    "version": 3
   },
   "file_extension": ".py",
   "mimetype": "text/x-python",
   "name": "python",
   "nbconvert_exporter": "python",
   "pygments_lexer": "ipython3",
   "version": "3.7.3"
  }
 },
 "nbformat": 4,
 "nbformat_minor": 2
}
