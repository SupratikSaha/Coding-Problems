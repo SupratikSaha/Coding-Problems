{
 "cells": [
  {
   "cell_type": "markdown",
   "metadata": {},
   "source": [
    "    Problem Statement.\n",
    "\n",
    "    Table: SurveyLog\n",
    "\n",
    "    +-------------+------+\n",
    "    | Column Name | Type |\n",
    "    +-------------+------+\n",
    "    | id          | int  |\n",
    "    | action      | ENUM |\n",
    "    | question_id | int  |\n",
    "    | answer_id   | int  |\n",
    "    | q_num       | int  |\n",
    "    | timestamp   | int  |\n",
    "    +-------------+------+\n",
    "    There is no primary key for this table. It may contain duplicates.\n",
    "    action is an ENUM of the type: \"show\", \"answer\", or \"skip\".\n",
    "    Each row of this table indicates the user with ID = id has taken an action with the question question_id at time timestamp.\n",
    "    If the action taken by the user is \"answer\", answer_id will contain the id of that answer, otherwise, it will be null.\n",
    "    q_num is the numeral order of the question in the current session.\n",
    "\n",
    "\n",
    "\n",
    "    The answer rate for a question is the number of times a user answered the question by the number of times a user showed the question.\n",
    "\n",
    "    Write an SQL query to report the question that has the highest answer rate. If multiple questions have the same maximum answer rate, report the question with the smallest question_id.\n",
    "\n",
    "    The query result format is in the following example.\n",
    "\n",
    "\n",
    "\n",
    "    Example 1:\n",
    "\n",
    "    Input: \n",
    "    SurveyLog table:\n",
    "    +----+--------+-------------+-----------+-------+-----------+\n",
    "    | id | action | question_id | answer_id | q_num | timestamp |\n",
    "    +----+--------+-------------+-----------+-------+-----------+\n",
    "    | 5  | show   | 285         | null      | 1     | 123       |\n",
    "    | 5  | answer | 285         | 124124    | 1     | 124       |\n",
    "    | 5  | show   | 369         | null      | 2     | 125       |\n",
    "    | 5  | skip   | 369         | null      | 2     | 126       |\n",
    "    +----+--------+-------------+-----------+-------+-----------+\n",
    "    Output: \n",
    "    +------------+\n",
    "    | survey_log |\n",
    "    +------------+\n",
    "    | 285        |\n",
    "    +------------+\n",
    "    Explanation: \n",
    "    Question 285 was showed 1 time and answered 1 time. The answer rate of question 285 is 1.0\n",
    "    Question 369 was showed 1 time and was not answered. The answer rate of question 369 is 0.0\n",
    "    Question 285 has the highest answer rate."
   ]
  },
  {
   "cell_type": "markdown",
   "metadata": {},
   "source": [
    "# Group By"
   ]
  },
  {
   "cell_type": "code",
   "execution_count": null,
   "metadata": {},
   "outputs": [],
   "source": [
    "select question_id as survey_log from\n",
    "(select question_id,\n",
    "sum(case when action = \"answer\" then 1 else 0 end) as answer_count,\n",
    "sum(case when action = \"show\" then 1 else 0 end) as show_count\n",
    "from SurveyLog\n",
    "group by 1) tab\n",
    "order by answer_count/show_count desc, question_id\n",
    "limit 1"
   ]
  }
 ],
 "metadata": {
  "kernelspec": {
   "display_name": "Python 3",
   "language": "python",
   "name": "python3"
  },
  "language_info": {
   "codemirror_mode": {
    "name": "ipython",
    "version": 3
   },
   "file_extension": ".py",
   "mimetype": "text/x-python",
   "name": "python",
   "nbconvert_exporter": "python",
   "pygments_lexer": "ipython3",
   "version": "3.7.3"
  }
 },
 "nbformat": 4,
 "nbformat_minor": 2
}
