{
 "cells": [
  {
   "cell_type": "markdown",
   "metadata": {},
   "source": [
    "A strobogrammatic number is a number that looks the same when rotated 180 degrees (looked at upside down).\n",
    "\n",
    "Find all strobogrammatic numbers that are of length = n.\n",
    "\n",
    "Example:\n",
    "\n",
    "Input:  n = 2\n",
    "Output: [\"11\",\"69\",\"88\",\"96\"]"
   ]
  },
  {
   "cell_type": "markdown",
   "metadata": {},
   "source": [
    "# Brute Force Recursion O(n^4) runtime, O(n^4) space - TIMEOUT"
   ]
  },
  {
   "cell_type": "code",
   "execution_count": 11,
   "metadata": {},
   "outputs": [],
   "source": [
    "from typing import List\n",
    "\n",
    "class Solution:\n",
    "            \n",
    "    def findStrobogrammatic(self, n: int) -> List[str]:\n",
    "        \n",
    "        if n == 1:\n",
    "            return ['0', '1', '8']\n",
    "        else:\n",
    "            res = []\n",
    "            res.append(self.findStrobogrammaticAll(n, res, '1'))\n",
    "            res.append(self.findStrobogrammaticAll(n, res, '6'))\n",
    "            res.append(self.findStrobogrammaticAll(n, res, '8'))\n",
    "            res.append(self.findStrobogrammaticAll(n, res, '9'))\n",
    "            res = [x for x in res if x]\n",
    "            return res\n",
    "            \n",
    "    def findStrobogrammaticAll(self, n: int, res: List[str], curr: str) -> List[str]:\n",
    "        if len(curr) == n:\n",
    "            if curr == curr[::-1].replace('6', '-').replace('9', '6').replace('-','9'):\n",
    "                res.append(curr)\n",
    "            return\n",
    "        \n",
    "        self.findStrobogrammaticAll(n, res, curr + '0')\n",
    "        self.findStrobogrammaticAll(n, res, curr + '1')\n",
    "        self.findStrobogrammaticAll(n, res, curr + '6')\n",
    "        self.findStrobogrammaticAll(n, res, curr + '8')\n",
    "        self.findStrobogrammaticAll(n, res, curr + '9')"
   ]
  },
  {
   "cell_type": "markdown",
   "metadata": {},
   "source": [
    "# Intelligent Recursion - O(n) runtime, O(n) space"
   ]
  },
  {
   "cell_type": "code",
   "execution_count": 24,
   "metadata": {},
   "outputs": [],
   "source": [
    "from typing import List\n",
    "\n",
    "class Solution:\n",
    "    def findStrobogrammatic(self, n: int) -> List[str]:\n",
    "        evenMidCandidate = [\"11\",\"69\",\"88\",\"96\", \"00\"]\n",
    "        oddMidCandidate = [\"0\", \"1\", \"8\"]\n",
    "        \n",
    "        if n == 1:\n",
    "            return oddMidCandidate\n",
    "        \n",
    "        if n == 2:\n",
    "            return evenMidCandidate[:-1]\n",
    "        \n",
    "        if n % 2:\n",
    "            pre, midCandidate = self.findStrobogrammatic(n - 1), oddMidCandidate\n",
    "        else: \n",
    "            pre, midCandidate = self.findStrobogrammatic(n - 2), evenMidCandidate\n",
    "            \n",
    "        premid = premid = (n - 1) // 2\n",
    "        \n",
    "        return [p[:premid] + c + p[premid:] for c in midCandidate for p in pre]"
   ]
  },
  {
   "cell_type": "code",
   "execution_count": 25,
   "metadata": {},
   "outputs": [
    {
     "data": {
      "text/plain": [
       "['101',\n",
       " '609',\n",
       " '808',\n",
       " '906',\n",
       " '111',\n",
       " '619',\n",
       " '818',\n",
       " '916',\n",
       " '181',\n",
       " '689',\n",
       " '888',\n",
       " '986']"
      ]
     },
     "execution_count": 25,
     "metadata": {},
     "output_type": "execute_result"
    }
   ],
   "source": [
    "instance = Solution()\n",
    "instance.findStrobogrammatic(3)"
   ]
  },
  {
   "cell_type": "code",
   "execution_count": null,
   "metadata": {},
   "outputs": [],
   "source": []
  }
 ],
 "metadata": {
  "kernelspec": {
   "display_name": "Python 3",
   "language": "python",
   "name": "python3"
  },
  "language_info": {
   "codemirror_mode": {
    "name": "ipython",
    "version": 3
   },
   "file_extension": ".py",
   "mimetype": "text/x-python",
   "name": "python",
   "nbconvert_exporter": "python",
   "pygments_lexer": "ipython3",
   "version": "3.7.3"
  }
 },
 "nbformat": 4,
 "nbformat_minor": 2
}
