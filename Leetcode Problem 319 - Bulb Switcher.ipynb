{
 "cells": [
  {
   "cell_type": "markdown",
   "metadata": {},
   "source": [
    "Problem Statement.\n",
    "\n",
    "There are n bulbs that are initially off. You first turn on all the bulbs, then you turn off every second bulb.\n",
    "\n",
    "On the third round, you toggle every third bulb (turning on if it's off or turning off if it's on). For the ith round, you toggle every i bulb. For the nth round, you only toggle the last bulb.\n",
    "\n",
    "Return the number of bulbs that are on after n rounds.\n",
    "\n",
    " \n",
    "\n",
    "Example 1:\n",
    "\n",
    "Input: n = 3\n",
    "Output: 1\n",
    "Explanation: At first, the three bulbs are [off, off, off].\n",
    "After the first round, the three bulbs are [on, on, on].\n",
    "After the second round, the three bulbs are [on, off, on].\n",
    "After the third round, the three bulbs are [on, off, off]. \n",
    "So you should return 1 because there is only one bulb is on.\n",
    "\n",
    "Example 2:\n",
    "\n",
    "Input: n = 0\n",
    "Output: 0\n",
    "\n",
    "Example 3:\n",
    "\n",
    "Input: n = 1\n",
    "Output: 1\n",
    "\n",
    " \n",
    "\n",
    "Constraints:\n",
    "\n",
    "    0 <= n <= 10^9"
   ]
  },
  {
   "cell_type": "markdown",
   "metadata": {},
   "source": [
    "# Math - O(1) runtime, O(1) space"
   ]
  },
  {
   "cell_type": "code",
   "execution_count": 1,
   "metadata": {},
   "outputs": [],
   "source": [
    "# Only perferct squares have odd number of factors (bulb turned on). So find number of perfect squaeres <= n\n",
    "from math import floor, sqrt\n",
    "\n",
    "class Solution:\n",
    "    def bulbSwitch(self, n: int) -> int:\n",
    "        return floor(sqrt(n))"
   ]
  },
  {
   "cell_type": "markdown",
   "metadata": {},
   "source": [
    "# Binary Search - O(Log N) runtime, O(1) space"
   ]
  },
  {
   "cell_type": "code",
   "execution_count": 2,
   "metadata": {},
   "outputs": [],
   "source": [
    "# Find the smallest k^2 less than n. So find anything less than (k + 1) ^ 2 i.e. k^2 + 2*k\n",
    "class Solution:\n",
    "    def bulbSwitch(self, n: int) -> int:\n",
    "        l, r = 1, n\n",
    "        \n",
    "        while (l < r):\n",
    "            k = (l + r) // 2\n",
    "            \n",
    "            if k * k + 2 * k < n:\n",
    "                l = k + 1\n",
    "            else:\n",
    "                r = k\n",
    "\n",
    "        return r"
   ]
  },
  {
   "cell_type": "code",
   "execution_count": 3,
   "metadata": {},
   "outputs": [
    {
     "data": {
      "text/plain": [
       "2"
      ]
     },
     "execution_count": 3,
     "metadata": {},
     "output_type": "execute_result"
    }
   ],
   "source": [
    "instance = Solution()\n",
    "instance.bulbSwitch(7)"
   ]
  }
 ],
 "metadata": {
  "kernelspec": {
   "display_name": "Python 3",
   "language": "python",
   "name": "python3"
  },
  "language_info": {
   "codemirror_mode": {
    "name": "ipython",
    "version": 3
   },
   "file_extension": ".py",
   "mimetype": "text/x-python",
   "name": "python",
   "nbconvert_exporter": "python",
   "pygments_lexer": "ipython3",
   "version": "3.7.3"
  }
 },
 "nbformat": 4,
 "nbformat_minor": 2
}
