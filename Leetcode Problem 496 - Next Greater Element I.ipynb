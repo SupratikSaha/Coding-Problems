{
 "cells": [
  {
   "cell_type": "markdown",
   "metadata": {},
   "source": [
    "Problem Statement.\n",
    "\n",
    "The next greater element of some element x in an array is the first greater element that is to the right of x in the same array.\n",
    "\n",
    "You are given two distinct 0-indexed integer arrays nums1 and nums2, where nums1 is a subset of nums2.\n",
    "\n",
    "For each 0 <= i < nums1.length, find the index j such that nums1[i] == nums2[j] and determine the next greater element of nums2[j] in nums2. If there is no next greater element, then the answer for this query is -1.\n",
    "\n",
    "Return an array ans of length nums1.length such that ans[i] is the next greater element as described above.\n",
    "\n",
    " \n",
    "\n",
    "Example 1:\n",
    "\n",
    "Input: nums1 = [4,1,2], nums2 = [1,3,4,2]\n",
    "Output: [-1,3,-1]\n",
    "Explanation: The next greater element for each value of nums1 is as follows:\n",
    "- 4 is underlined in nums2 = [1,3,4,2]. There is no next greater element, so the answer is -1.\n",
    "- 1 is underlined in nums2 = [1,3,4,2]. The next greater element is 3.\n",
    "- 2 is underlined in nums2 = [1,3,4,2]. There is no next greater element, so the answer is -1.\n",
    "\n",
    "Example 2:\n",
    "\n",
    "Input: nums1 = [2,4], nums2 = [1,2,3,4]\n",
    "Output: [3,-1]\n",
    "Explanation: The next greater element for each value of nums1 is as follows:\n",
    "- 2 is underlined in nums2 = [1,2,3,4]. The next greater element is 3.\n",
    "- 4 is underlined in nums2 = [1,2,3,4]. There is no next greater element, so the answer is -1.\n",
    "\n",
    " \n",
    "\n",
    "Constraints:\n",
    "\n",
    "    1 <= nums1.length <= nums2.length <= 1000\n",
    "    0 <= nums1[i], nums2[i] <= 104\n",
    "    All integers in nums1 and nums2 are unique.\n",
    "    All the integers of nums1 also appear in nums2.\n",
    "\n",
    " \n",
    "Follow up: Could you find an O(nums1.length + nums2.length) solution?"
   ]
  },
  {
   "cell_type": "markdown",
   "metadata": {},
   "source": [
    "# Stack and Hash Map - O(M + N) runtime, O(N) space"
   ]
  },
  {
   "cell_type": "code",
   "execution_count": 1,
   "metadata": {},
   "outputs": [],
   "source": [
    "from typing import List\n",
    "\n",
    "class Solution:\n",
    "    def nextGreaterElement(self, nums1: List[int], nums2: List[int]) -> List[int]:\n",
    "        stack = []\n",
    "        numDict = {}\n",
    "        for num in nums2:\n",
    "            while stack and num > stack[-1]:\n",
    "                numDict[stack[-1]] = num\n",
    "                stack.pop()\n",
    "            stack.append(num)\n",
    "            \n",
    "        while stack:\n",
    "            numDict[stack[-1]] = -1\n",
    "            stack.pop()\n",
    "            \n",
    "        return [numDict[num] for num in nums1]"
   ]
  },
  {
   "cell_type": "markdown",
   "metadata": {},
   "source": [
    "# Optimized Stack and Hash Map - O(M + N) runtime, O(N) space"
   ]
  },
  {
   "cell_type": "code",
   "execution_count": null,
   "metadata": {},
   "outputs": [],
   "source": [
    "from typing import List\n",
    "\n",
    "class Solution:\n",
    "    def nextGreaterElement(self, nums1: List[int], nums2: List[int]) -> List[int]:\n",
    "        stack = []\n",
    "        numDict = {}\n",
    "        for num in nums2:\n",
    "            while stack and num > stack[-1]:\n",
    "                numDict[stack[-1]] = num\n",
    "                stack.pop()\n",
    "            stack.append(num)\n",
    "            \n",
    "        return [numDict.get(num, -1) for num in nums1]"
   ]
  },
  {
   "cell_type": "code",
   "execution_count": 2,
   "metadata": {},
   "outputs": [
    {
     "data": {
      "text/plain": [
       "[-1, 3, -1]"
      ]
     },
     "execution_count": 2,
     "metadata": {},
     "output_type": "execute_result"
    }
   ],
   "source": [
    "instance = Solution()\n",
    "instance.nextGreaterElement([4,1,2], [1,3,4,2])"
   ]
  }
 ],
 "metadata": {
  "kernelspec": {
   "display_name": "Python 3",
   "language": "python",
   "name": "python3"
  },
  "language_info": {
   "codemirror_mode": {
    "name": "ipython",
    "version": 3
   },
   "file_extension": ".py",
   "mimetype": "text/x-python",
   "name": "python",
   "nbconvert_exporter": "python",
   "pygments_lexer": "ipython3",
   "version": "3.7.3"
  }
 },
 "nbformat": 4,
 "nbformat_minor": 2
}
