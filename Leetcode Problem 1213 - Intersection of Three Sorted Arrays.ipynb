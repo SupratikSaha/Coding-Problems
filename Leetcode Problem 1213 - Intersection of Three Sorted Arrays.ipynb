{
 "cells": [
  {
   "cell_type": "markdown",
   "metadata": {},
   "source": [
    "Problem Statement.\n",
    "\n",
    "Given three integer arrays arr1, arr2 and arr3 sorted in strictly increasing order, return a sorted array of only the integers that appeared in all three arrays.\n",
    "\n",
    " \n",
    "\n",
    "Example 1:\n",
    "\n",
    "Input: arr1 = [1,2,3,4,5], arr2 = [1,2,5,7,9], arr3 = [1,3,4,5,8]\n",
    "Output: [1,5]\n",
    "Explanation: Only 1 and 5 appeared in the three arrays.\n",
    "\n",
    "Example 2:\n",
    "\n",
    "Input: arr1 = [197,418,523,876,1356], arr2 = [501,880,1593,1710,1870], arr3 = [521,682,1337,1395,1764]\n",
    "Output: []\n",
    "\n",
    " \n",
    "\n",
    "Constraints:\n",
    "\n",
    "    1 <= arr1.length, arr2.length, arr3.length <= 1000\n",
    "    1 <= arr1[i], arr2[i], arr3[i] <= 2000"
   ]
  },
  {
   "cell_type": "markdown",
   "metadata": {},
   "source": [
    "# Three pointers - O(min(M, N, O)) runtime, O(min(M, N, O)) space"
   ]
  },
  {
   "cell_type": "code",
   "execution_count": 1,
   "metadata": {},
   "outputs": [],
   "source": [
    "from typing import List\n",
    "\n",
    "class Solution:\n",
    "    def arraysIntersection(self, arr1: List[int], arr2: List[int], arr3: List[int]) -> List[int]:\n",
    "        m, n, o = len(arr1), len(arr2), len(arr3)\n",
    "        i, j, k = 0, 0, 0\n",
    "        result = []\n",
    "        \n",
    "        while i < m and j < n and k < o:\n",
    "            if arr1[i] == arr2[j] == arr3[k]:\n",
    "                result.append(arr1[i])\n",
    "                i += 1\n",
    "                j += 1\n",
    "                k += 1\n",
    "            else:\n",
    "                maxVal = max(arr1[i], arr2[j], arr3[k])\n",
    "                \n",
    "                while i < m and arr1[i] < maxVal: i += 1\n",
    "                while j < n and arr2[j] < maxVal: j += 1\n",
    "                while k < o and arr3[k] < maxVal: k += 1\n",
    "                    \n",
    "        return result"
   ]
  },
  {
   "cell_type": "code",
   "execution_count": 2,
   "metadata": {},
   "outputs": [
    {
     "data": {
      "text/plain": [
       "[1, 5]"
      ]
     },
     "execution_count": 2,
     "metadata": {},
     "output_type": "execute_result"
    }
   ],
   "source": [
    "instance = Solution()\n",
    "instance.arraysIntersection([1,2,3,4,5], [1,2,5,7,9], [1,3,4,5,8])"
   ]
  }
 ],
 "metadata": {
  "kernelspec": {
   "display_name": "Python 3",
   "language": "python",
   "name": "python3"
  },
  "language_info": {
   "codemirror_mode": {
    "name": "ipython",
    "version": 3
   },
   "file_extension": ".py",
   "mimetype": "text/x-python",
   "name": "python",
   "nbconvert_exporter": "python",
   "pygments_lexer": "ipython3",
   "version": "3.7.3"
  }
 },
 "nbformat": 4,
 "nbformat_minor": 2
}
