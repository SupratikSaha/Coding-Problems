{
 "cells": [
  {
   "cell_type": "markdown",
   "metadata": {},
   "source": [
    "Problem Statement. <br/>\n",
    "\n",
    "Given two strings S and T, return if they are equal when both are typed into empty text editors. # means a backspace character. <br/>\n",
    "Note that after backspacing an empty text, the text will continue empty. <br/>\n",
    "\n",
    "Example 1: <br/>\n",
    "Input: S = \"ab#c\", T = \"ad#c\" <br/>\n",
    "Output: true <br/>\n",
    "Explanation: Both S and T become \"ac\". <br/>\n",
    "\n",
    "Example 2: <br/>\n",
    "Input: S = \"ab##\", T = \"c#d#\" <br/>\n",
    "Output: true <br/>\n",
    "Explanation: Both S and T become \"\". <br/>\n",
    "\n",
    "Example 3: <br/>\n",
    "Input: S = \"a##c\", T = \"#a#c\" <br/>\n",
    "Output: true <br/>\n",
    "Explanation: Both S and T become \"c\". <br/>\n",
    "\n",
    "Example 4: <br/>\n",
    "Input: S = \"a#c\", T = \"b\" <br/>\n",
    "Output: false <br/>\n",
    "Explanation: S becomes \"c\" while T becomes \"b\"."
   ]
  },
  {
   "cell_type": "markdown",
   "metadata": {},
   "source": [
    "# List - O(S + T)) runtime, O(S + T)) space"
   ]
  },
  {
   "cell_type": "code",
   "execution_count": 1,
   "metadata": {},
   "outputs": [],
   "source": [
    "class Solution:\n",
    "    def backspaceCompare(self, S: str, T: str) -> bool:\n",
    "        \n",
    "        def getWord(string:str) -> str:\n",
    "            str_list = []\n",
    "            i = 0       \n",
    "            for c in string:\n",
    "                if c != '#':\n",
    "                    str_list.append(c)\n",
    "                elif str_list:\n",
    "                    str_list.pop()\n",
    "\n",
    "            return ''.join(str_list)\n",
    "        \n",
    "        return getWord(S) == getWord(T)"
   ]
  },
  {
   "cell_type": "markdown",
   "metadata": {},
   "source": [
    "# Iterator - O(S + T)) runtime, O(S + T)) space"
   ]
  },
  {
   "cell_type": "code",
   "execution_count": 2,
   "metadata": {},
   "outputs": [],
   "source": [
    "import itertools\n",
    "\n",
    "class Solution:\n",
    "    def backspaceCompare(self, S: str, T: str) -> bool:\n",
    "        def F(S):\n",
    "            skip = 0\n",
    "            for x in reversed(S):\n",
    "                if x == '#':\n",
    "                    skip += 1\n",
    "                elif skip:\n",
    "                    skip -= 1\n",
    "                else:\n",
    "                    yield x\n",
    "\n",
    "        return all(x == y for x, y in itertools.zip_longest(F(S), F(T)))"
   ]
  },
  {
   "cell_type": "code",
   "execution_count": 3,
   "metadata": {},
   "outputs": [],
   "source": [
    "instance = Solution()\n",
    "instance.backspaceCompare(\"ab##\", \"c#d#\")"
   ]
  }
 ],
 "metadata": {
  "kernelspec": {
   "display_name": "Python 3",
   "language": "python",
   "name": "python3"
  },
  "language_info": {
   "codemirror_mode": {
    "name": "ipython",
    "version": 3
   },
   "file_extension": ".py",
   "mimetype": "text/x-python",
   "name": "python",
   "nbconvert_exporter": "python",
   "pygments_lexer": "ipython3",
   "version": "3.7.3"
  }
 },
 "nbformat": 4,
 "nbformat_minor": 2
}
