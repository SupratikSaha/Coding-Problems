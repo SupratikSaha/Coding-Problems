{
 "cells": [
  {
   "cell_type": "markdown",
   "metadata": {},
   "source": [
    "    Problem Statement.\n",
    "\n",
    "    In an alien language, surprisingly they also use english lowercase letters, but possibly in a different order. The order of the alphabet is some permutation of lowercase letters.\n",
    "\n",
    "    Given a sequence of words written in the alien language, and the order of the alphabet, return true if and only if the given words are sorted lexicographicaly in this alien language.\n",
    "\n",
    "\n",
    "\n",
    "    Example 1:\n",
    "\n",
    "    Input: words = [\"hello\",\"leetcode\"], order = \"hlabcdefgijkmnopqrstuvwxyz\"\n",
    "    Output: true\n",
    "    Explanation: As 'h' comes before 'l' in this language, then the sequence is sorted.\n",
    "\n",
    "    Example 2:\n",
    "\n",
    "    Input: words = [\"word\",\"world\",\"row\"], order = \"worldabcefghijkmnpqstuvxyz\"\n",
    "    Output: false\n",
    "    Explanation: As 'd' comes after 'l' in this language, then words[0] > words[1], hence the sequence is unsorted.\n",
    "\n",
    "    Example 3:\n",
    "\n",
    "    Input: words = [\"apple\",\"app\"], order = \"abcdefghijklmnopqrstuvwxyz\"\n",
    "    Output: false\n",
    "    Explanation: The first three characters \"app\" match, and the second string is shorter (in size.) According to lexicographical rules \"apple\" > \"app\", because 'l' > '∅', where '∅' is defined as the blank character which is less than any other character (More info).\n",
    "\n",
    "\n",
    "\n",
    "    Constraints:\n",
    "\n",
    "        1 <= words.length <= 100\n",
    "        1 <= words[i].length <= 20\n",
    "        order.length == 26\n",
    "        All characters in words[i] and order are English lowercase letters."
   ]
  },
  {
   "cell_type": "markdown",
   "metadata": {},
   "source": [
    "# HashMap - O(C) runtime, O(1) space where C is the number of letters in words and L is the length of the longest word"
   ]
  },
  {
   "cell_type": "code",
   "execution_count": 1,
   "metadata": {},
   "outputs": [],
   "source": [
    "from typing import List\n",
    "\n",
    "class Solution:\n",
    "    def isAlienSorted(self, words: List[str], order: str) -> bool:\n",
    "        alienOrder = {}\n",
    "        for i, letter in enumerate(order):\n",
    "            alienOrder[letter] = i\n",
    "            \n",
    "        for i in range(len(words)-1):\n",
    "            curr, nextWord = words[i], words[i+1]\n",
    "            ordered = False\n",
    "            for j in range(min(len(curr), len(nextWord))):\n",
    "                if alienOrder[curr[j]] < alienOrder[nextWord[j]]:\n",
    "                    ordered = True\n",
    "                    break\n",
    "                if alienOrder[curr[j]] > alienOrder[nextWord[j]]:\n",
    "                    return False\n",
    "                \n",
    "            if not ordered and len(curr) > len(nextWord): return False\n",
    "                \n",
    "                \n",
    "        return True"
   ]
  },
  {
   "cell_type": "markdown",
   "metadata": {},
   "source": [
    "# More Elegant Version - O(C) runtime, O(1) space where C is the number of letters in words and L is the length of the longest word"
   ]
  },
  {
   "cell_type": "code",
   "execution_count": 3,
   "metadata": {},
   "outputs": [],
   "source": [
    "from typing import List\n",
    "\n",
    "class Solution:\n",
    "    def isAlienSorted(self, words: List[str], order: str) -> bool:\n",
    "        order_index = {c: i for i, c in enumerate(order)}\n",
    "\n",
    "        for i in range(len(words) - 1):\n",
    "            word1 = words[i]\n",
    "            word2 = words[i+1]\n",
    "\n",
    "            # Find the first difference word1[k] != word2[k].\n",
    "            for k in range(min(len(word1), len(word2))):\n",
    "                # If they compare badly, it's not sorted.\n",
    "                if word1[k] != word2[k]:\n",
    "                    if order_index[word1[k]] > order_index[word2[k]]:\n",
    "                        return False\n",
    "                    break\n",
    "            else:\n",
    "                # If we didn't find a first difference, the\n",
    "                # words are like (\"app\", \"apple\").\n",
    "                if len(word1) > len(word2):\n",
    "                    return False\n",
    "\n",
    "        return True"
   ]
  },
  {
   "cell_type": "code",
   "execution_count": 4,
   "metadata": {},
   "outputs": [
    {
     "data": {
      "text/plain": [
       "False"
      ]
     },
     "execution_count": 4,
     "metadata": {},
     "output_type": "execute_result"
    }
   ],
   "source": [
    "instance = Solution()\n",
    "instance.isAlienSorted([\"apple\",\"app\"], \"abcdefghijklmnopqrstuvwxyz\")"
   ]
  }
 ],
 "metadata": {
  "kernelspec": {
   "display_name": "Python 3",
   "language": "python",
   "name": "python3"
  },
  "language_info": {
   "codemirror_mode": {
    "name": "ipython",
    "version": 3
   },
   "file_extension": ".py",
   "mimetype": "text/x-python",
   "name": "python",
   "nbconvert_exporter": "python",
   "pygments_lexer": "ipython3",
   "version": "3.7.3"
  }
 },
 "nbformat": 4,
 "nbformat_minor": 2
}
