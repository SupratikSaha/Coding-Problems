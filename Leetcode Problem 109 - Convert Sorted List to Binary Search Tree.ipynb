{
 "cells": [
  {
   "cell_type": "markdown",
   "metadata": {},
   "source": [
    "# Brute Force Recursion, Top-down - O(n log n) run time, O(log n) stack space"
   ]
  },
  {
   "cell_type": "markdown",
   "metadata": {},
   "source": [
    "# Bottom-up Recursion - O(n) run time, O(log n) stack space "
   ]
  },
  {
   "cell_type": "code",
   "execution_count": null,
   "metadata": {},
   "outputs": [],
   "source": [
    "# Definition for singly-linked list.\n",
    "# class ListNode:\n",
    "#     def __init__(self, x):\n",
    "#         self.val = x\n",
    "#         self.next = None\n",
    "\n",
    "# Definition for a binary tree node.\n",
    "# class TreeNode:\n",
    "#     def __init__(self, x):\n",
    "#         self.val = x\n",
    "#         self.left = None\n",
    "#         self.right = None\n",
    "\n",
    "class Solution:\n",
    "    linkedList = ListNode(0)\n",
    "    \n",
    "    def sortedListToBST(self, head: ListNode) -> TreeNode:\n",
    "        n = 0\n",
    "        p =  head\n",
    "        \n",
    "        while (p != None):\n",
    "            p = p.next\n",
    "            n += 1\n",
    "            \n",
    "        Solution.linkedList = head\n",
    "        \n",
    "        return self.getSortedListToBST(0, n - 1)\n",
    "    \n",
    "    def getSortedListToBST(self, start, end):\n",
    "        if start > end:\n",
    "            return None\n",
    "        \n",
    "        mid = (start + end) // 2\n",
    "        \n",
    "        leftChild = self.getSortedListToBST(start, mid - 1)\n",
    "        parent = TreeNode(Solution.linkedList.val)\n",
    "        parent.left = leftChild\n",
    "        Solution.linkedList = Solution.linkedList.next\n",
    "        parent.right = self.getSortedListToBST(mid + 1, end)\n",
    "        return parent"
   ]
  }
 ],
 "metadata": {
  "kernelspec": {
   "display_name": "Python 3",
   "language": "python",
   "name": "python3"
  },
  "language_info": {
   "codemirror_mode": {
    "name": "ipython",
    "version": 3
   },
   "file_extension": ".py",
   "mimetype": "text/x-python",
   "name": "python",
   "nbconvert_exporter": "python",
   "pygments_lexer": "ipython3",
   "version": "3.7.3"
  }
 },
 "nbformat": 4,
 "nbformat_minor": 2
}
