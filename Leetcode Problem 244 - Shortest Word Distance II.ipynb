{
 "cells": [
  {
   "cell_type": "markdown",
   "metadata": {},
   "source": [
    "    Problem Statement.\n",
    "\n",
    "    Design a data structure that will be initialized with a string array, and then it should answer queries of the shortest distance between two different strings from the array.\n",
    "\n",
    "    Implement the WordDistance class:\n",
    "\n",
    "        WordDistance(String[] wordsDict) initializes the object with the strings array wordsDict.\n",
    "        int shortest(String word1, String word2) returns the shortest distance between word1 and word2 in the array wordsDict.\n",
    "\n",
    "\n",
    "\n",
    "    Example 1:\n",
    "\n",
    "    Input\n",
    "    [\"WordDistance\", \"shortest\", \"shortest\"]\n",
    "    [[[\"practice\", \"makes\", \"perfect\", \"coding\", \"makes\"]], [\"coding\", \"practice\"], [\"makes\", \"coding\"]]\n",
    "    Output\n",
    "    [null, 3, 1]\n",
    "\n",
    "    Explanation\n",
    "    WordDistance wordDistance = new WordDistance([\"practice\", \"makes\", \"perfect\", \"coding\", \"makes\"]);\n",
    "    wordDistance.shortest(\"coding\", \"practice\"); // return 3\n",
    "    wordDistance.shortest(\"makes\", \"coding\");    // return 1\n",
    "\n",
    "\n",
    "\n",
    "    Constraints:\n",
    "\n",
    "        1 <= wordsDict.length <= 3 * 104\n",
    "        1 <= wordsDict[i].length <= 10\n",
    "        wordsDict[i] consists of lowercase English letters.\n",
    "        word1 and word2 are in wordsDict.\n",
    "        word1 != word2\n",
    "        At most 5000 calls will be made to shortest."
   ]
  },
  {
   "cell_type": "markdown",
   "metadata": {},
   "source": [
    "# Hash Table - O(W) init, O(M * N) shortest runtime, O(W) space where W is the number of words in the list and M and N are the number of occureneces of word1 and word2 respectively"
   ]
  },
  {
   "cell_type": "code",
   "execution_count": 1,
   "metadata": {},
   "outputs": [],
   "source": [
    "from typing import List\n",
    "from collections import defaultdict\n",
    "\n",
    "class WordDistance:\n",
    "\n",
    "    def __init__(self, wordsDict: List[str]):\n",
    "        self.wordsDict = defaultdict(list)\n",
    "        for i, word in enumerate(wordsDict):\n",
    "            self.wordsDict[word].append(i)\n",
    "\n",
    "    def shortest(self, word1: str, word2: str) -> int:\n",
    "        minDistance = float('inf')\n",
    "        \n",
    "        for i in self.wordsDict[word1]:\n",
    "            for j in self.wordsDict[word2]:\n",
    "                minDistance = min(minDistance, abs(i-j))\n",
    "                \n",
    "        return minDistance"
   ]
  },
  {
   "cell_type": "markdown",
   "metadata": {},
   "source": [
    "# Linear Traversal - O(W) init, O(max(M, N)) ~ O(W) shortest runtime, O(W) space where W is the number of words in the list and M and N are the number of occureneces of word1 and word2 respectively"
   ]
  },
  {
   "cell_type": "code",
   "execution_count": 2,
   "metadata": {},
   "outputs": [],
   "source": [
    "from typing import List\n",
    "from collections import defaultdict\n",
    "\n",
    "class WordDistance:\n",
    "\n",
    "    def __init__(self, wordsDict: List[str]):\n",
    "        self.wordsDict = defaultdict(list)\n",
    "        for i, word in enumerate(wordsDict):\n",
    "            self.wordsDict[word].append(i)\n",
    "\n",
    "    def shortest(self, word1: str, word2: str) -> int:\n",
    "        minDistance = float('inf')\n",
    "        i, j = 0, 0\n",
    "        while i < len(self.wordsDict[word1]) and j < len(self.wordsDict[word2]):\n",
    "                minDistance = min(minDistance, abs(self.wordsDict[word1][i] - self.wordsDict[word2][j]))\n",
    "                if self.wordsDict[word1][i] < self.wordsDict[word2][j]: i += 1\n",
    "                else: j+= 1\n",
    "                \n",
    "        return minDistance\n",
    "\n",
    "\n",
    "# Your WordDistance object will be instantiated and called as such:\n",
    "# obj = WordDistance(wordsDict)\n",
    "# param_1 = obj.shortest(word1,word2)"
   ]
  },
  {
   "cell_type": "code",
   "execution_count": 3,
   "metadata": {},
   "outputs": [
    {
     "name": "stdout",
     "output_type": "stream",
     "text": [
      "3\n",
      "1\n"
     ]
    }
   ],
   "source": [
    "instance = WordDistance([\"practice\", \"makes\", \"perfect\", \"coding\", \"makes\"])\n",
    "print(instance.shortest(\"coding\", \"practice\"))\n",
    "print(instance.shortest(\"makes\", \"coding\"))"
   ]
  }
 ],
 "metadata": {
  "kernelspec": {
   "display_name": "Python 3",
   "language": "python",
   "name": "python3"
  },
  "language_info": {
   "codemirror_mode": {
    "name": "ipython",
    "version": 3
   },
   "file_extension": ".py",
   "mimetype": "text/x-python",
   "name": "python",
   "nbconvert_exporter": "python",
   "pygments_lexer": "ipython3",
   "version": "3.7.3"
  }
 },
 "nbformat": 4,
 "nbformat_minor": 2
}
