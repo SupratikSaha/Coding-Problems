{
 "cells": [
  {
   "cell_type": "markdown",
   "metadata": {},
   "source": [
    "Problem Statement. <br/>\n",
    "\n",
    "Given a list of non-negative integers nums, arrange them such that they form the largest number. <br/>\n",
    "Note: The result may be very large, so you need to return a string instead of an integer. <br/>\n",
    "\n",
    "Example 1: <br/>\n",
    "Input: nums = [10,2] <br/>\n",
    "Output: \"210\" <br/>\n",
    "\n",
    "Example 2: <br/>\n",
    "Input: nums = [3,30,34,5,9] <br/>\n",
    "Output: \"9534330\" <br/>\n",
    "\n",
    "Example 3: <br/>\n",
    "Input: nums = [1] <br/>\n",
    "Output: \"1\" <br/>\n",
    "\n",
    "Example 4: <br/>\n",
    "Input: nums = [10] <br/>\n",
    "Output: \"10\""
   ]
  },
  {
   "cell_type": "markdown",
   "metadata": {},
   "source": [
    "# Sorting via Custom Comparator - O(N * log N) runtime, O(N) space"
   ]
  },
  {
   "cell_type": "code",
   "execution_count": 1,
   "metadata": {},
   "outputs": [],
   "source": [
    "from typing import List\n",
    "\n",
    "class LargerNumKey(str):\n",
    "    def __lt__(x, y):\n",
    "        return x+y > y+x\n",
    "    \n",
    "class Solution:\n",
    "    def largestNumber(self, nums: List[int]) -> str:\n",
    "        largest_num = ''.join(sorted(map(str, nums), key=LargerNumKey))\n",
    "        return '0' if largest_num[0] == '0' else largest_num"
   ]
  },
  {
   "cell_type": "code",
   "execution_count": 3,
   "metadata": {},
   "outputs": [
    {
     "data": {
      "text/plain": [
       "'9534330'"
      ]
     },
     "execution_count": 3,
     "metadata": {},
     "output_type": "execute_result"
    }
   ],
   "source": [
    "instance = Solution()\n",
    "instance.largestNumber([3,30,34,5,9] )"
   ]
  }
 ],
 "metadata": {
  "kernelspec": {
   "display_name": "Python 3",
   "language": "python",
   "name": "python3"
  },
  "language_info": {
   "codemirror_mode": {
    "name": "ipython",
    "version": 3
   },
   "file_extension": ".py",
   "mimetype": "text/x-python",
   "name": "python",
   "nbconvert_exporter": "python",
   "pygments_lexer": "ipython3",
   "version": "3.7.3"
  }
 },
 "nbformat": 4,
 "nbformat_minor": 2
}
