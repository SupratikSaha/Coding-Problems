{
 "cells": [
  {
   "cell_type": "markdown",
   "metadata": {},
   "source": [
    "# Using another function to count bits - - O(nk) run time, O(n) space"
   ]
  },
  {
   "cell_type": "code",
   "execution_count": null,
   "metadata": {},
   "outputs": [],
   "source": [
    "class Solution:\n",
    "    def countBits(self, num: int) -> List[int]:\n",
    "        ans = [0] * (num + 1)\n",
    "        \n",
    "        for i in range(1, num + 1):\n",
    "            ans[i] = self.popcount(i)\n",
    "        \n",
    "        return ans\n",
    "    \n",
    "    def popcount(self, x: int) -> int:\n",
    "        bits = 0\n",
    "        while x != 0:\n",
    "            x &= (x - 1)\n",
    "            bits += 1\n",
    "        \n",
    "        return bits"
   ]
  },
  {
   "cell_type": "markdown",
   "metadata": {},
   "source": [
    "# Dynamic Programming + Least Significant Bit - O(n) run time, O(n) space"
   ]
  },
  {
   "cell_type": "code",
   "execution_count": null,
   "metadata": {},
   "outputs": [],
   "source": [
    "class Solution:\n",
    "    def countBits(self, num: int) -> List[int]:\n",
    "        ans = [0] * (num + 1)\n",
    "        i, b = 0, 1\n",
    "        \n",
    "        while b <= num:\n",
    "            while i < b and b + i <= num:\n",
    "                ans[b + i] = ans[i] + 1\n",
    "                i += 1\n",
    "            i = 0\n",
    "            b <<= 1\n",
    "        \n",
    "        return ans"
   ]
  },
  {
   "cell_type": "markdown",
   "metadata": {},
   "source": [
    "# Dynamic Programming + Least Significant Bit - O(n) run time, O(n) space"
   ]
  },
  {
   "cell_type": "code",
   "execution_count": null,
   "metadata": {},
   "outputs": [],
   "source": [
    "class Solution:\n",
    "    def countBits(self, num: int) -> List[int]:\n",
    "        ans = [0] * (num + 1)\n",
    "        \n",
    "        for i in range(1, num + 1):\n",
    "            ans[i] = ans[i >> 1] + (i & 1) # x / 2 is x >> 1 and x % 2 is x & 1\n",
    "        \n",
    "        return ans\n",
    "            "
   ]
  },
  {
   "cell_type": "markdown",
   "metadata": {},
   "source": [
    "# Dynamic Programming + Last Set Bit - O(n) run time, O(n) space"
   ]
  },
  {
   "cell_type": "code",
   "execution_count": null,
   "metadata": {},
   "outputs": [],
   "source": [
    "class Solution:\n",
    "    def countBits(self, num: int) -> List[int]:\n",
    "        ans = [0] * (num + 1)\n",
    "        \n",
    "        for i in range(1, num + 1):\n",
    "            ans[i] = ans[i & (i - 1)] + 1 \n",
    "        \n",
    "        return ans"
   ]
  }
 ],
 "metadata": {
  "kernelspec": {
   "display_name": "Python 3",
   "language": "python",
   "name": "python3"
  },
  "language_info": {
   "codemirror_mode": {
    "name": "ipython",
    "version": 3
   },
   "file_extension": ".py",
   "mimetype": "text/x-python",
   "name": "python",
   "nbconvert_exporter": "python",
   "pygments_lexer": "ipython3",
   "version": "3.7.3"
  }
 },
 "nbformat": 4,
 "nbformat_minor": 2
}
