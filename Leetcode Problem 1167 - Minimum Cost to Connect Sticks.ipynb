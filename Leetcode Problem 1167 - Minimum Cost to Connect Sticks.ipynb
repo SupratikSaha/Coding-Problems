{
 "cells": [
  {
   "cell_type": "markdown",
   "metadata": {},
   "source": [
    "    Problem Statement.\n",
    "\n",
    "    You have some number of sticks with positive integer lengths. These lengths are given as an array sticks, where sticks[i] is the length of the ith stick.\n",
    "\n",
    "    You can connect any two sticks of lengths x and y into one stick by paying a cost of x + y. You must connect all the sticks until there is only one stick remaining.\n",
    "\n",
    "    Return the minimum cost of connecting all the given sticks into one stick in this way.\n",
    "\n",
    "\n",
    "\n",
    "    Example 1:\n",
    "\n",
    "    Input: sticks = [2,4,3]\n",
    "    Output: 14\n",
    "    Explanation: You start with sticks = [2,4,3].\n",
    "    1. Combine sticks 2 and 3 for a cost of 2 + 3 = 5. Now you have sticks = [5,4].\n",
    "    2. Combine sticks 5 and 4 for a cost of 5 + 4 = 9. Now you have sticks = [9].\n",
    "    There is only one stick left, so you are done. The total cost is 5 + 9 = 14.\n",
    "\n",
    "    Example 2:\n",
    "\n",
    "    Input: sticks = [1,8,3,5]\n",
    "    Output: 30\n",
    "    Explanation: You start with sticks = [1,8,3,5].\n",
    "    1. Combine sticks 1 and 3 for a cost of 1 + 3 = 4. Now you have sticks = [4,8,5].\n",
    "    2. Combine sticks 4 and 5 for a cost of 4 + 5 = 9. Now you have sticks = [9,8].\n",
    "    3. Combine sticks 9 and 8 for a cost of 9 + 8 = 17. Now you have sticks = [17].\n",
    "    There is only one stick left, so you are done. The total cost is 4 + 9 + 17 = 30.\n",
    "\n",
    "    Example 3:\n",
    "\n",
    "    Input: sticks = [5]\n",
    "    Output: 0\n",
    "    Explanation: There is only one stick, so you don't need to do anything. The total cost is 0.\n",
    "\n",
    "    Constraints:\n",
    "\n",
    "        1 <= sticks.length <= 104\n",
    "        1 <= sticks[i] <= 104"
   ]
  },
  {
   "cell_type": "markdown",
   "metadata": {},
   "source": [
    "# Minheap - O(N logN) runtime, O(N) space"
   ]
  },
  {
   "cell_type": "code",
   "execution_count": 1,
   "metadata": {},
   "outputs": [],
   "source": [
    "from typing import List\n",
    "from heapq import heappush, heappop\n",
    "\n",
    "class Solution:\n",
    "    def connectSticks(self, sticks: List[int]) -> int:\n",
    "        minheap = []\n",
    "        for stick in sticks:\n",
    "            heappush(minheap, stick)\n",
    "        \n",
    "        res = 0\n",
    "        while len(minheap) > 1:\n",
    "            s1 = heappop(minheap)\n",
    "            s2 = heappop(minheap)\n",
    "            heappush(minheap, s1 + s2)\n",
    "            res += s1 + s2\n",
    "            \n",
    "        return res"
   ]
  },
  {
   "cell_type": "code",
   "execution_count": 2,
   "metadata": {},
   "outputs": [
    {
     "data": {
      "text/plain": [
       "30"
      ]
     },
     "execution_count": 2,
     "metadata": {},
     "output_type": "execute_result"
    }
   ],
   "source": [
    "instance = Solution()\n",
    "instance.connectSticks([1,8,3,5])"
   ]
  }
 ],
 "metadata": {
  "kernelspec": {
   "display_name": "Python 3",
   "language": "python",
   "name": "python3"
  },
  "language_info": {
   "codemirror_mode": {
    "name": "ipython",
    "version": 3
   },
   "file_extension": ".py",
   "mimetype": "text/x-python",
   "name": "python",
   "nbconvert_exporter": "python",
   "pygments_lexer": "ipython3",
   "version": "3.7.3"
  }
 },
 "nbformat": 4,
 "nbformat_minor": 2
}
