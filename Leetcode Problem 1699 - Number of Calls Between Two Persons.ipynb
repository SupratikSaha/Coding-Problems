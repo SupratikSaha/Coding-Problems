{
 "cells": [
  {
   "cell_type": "markdown",
   "metadata": {},
   "source": [
    "    Problem Statement.\n",
    "\n",
    "    Table: Calls\n",
    "\n",
    "    +-------------+---------+\n",
    "    | Column Name | Type    |\n",
    "    +-------------+---------+\n",
    "    | from_id     | int     |\n",
    "    | to_id       | int     |\n",
    "    | duration    | int     |\n",
    "    +-------------+---------+\n",
    "    This table does not have a primary key, it may contain duplicates.\n",
    "    This table contains the duration of a phone call between from_id and to_id.\n",
    "    from_id != to_id\n",
    "\n",
    "\n",
    "\n",
    "    Write an SQL query to report the number of calls and the total call duration between each pair of distinct persons (person1, person2) where person1 < person2.\n",
    "\n",
    "    Return the result table in any order.\n",
    "\n",
    "    The query result format is in the following example:\n",
    "\n",
    "\n",
    "\n",
    "    Calls table:\n",
    "    +---------+-------+----------+\n",
    "    | from_id | to_id | duration |\n",
    "    +---------+-------+----------+\n",
    "    | 1       | 2     | 59       |\n",
    "    | 2       | 1     | 11       |\n",
    "    | 1       | 3     | 20       |\n",
    "    | 3       | 4     | 100      |\n",
    "    | 3       | 4     | 200      |\n",
    "    | 3       | 4     | 200      |\n",
    "    | 4       | 3     | 499      |\n",
    "    +---------+-------+----------+\n",
    "\n",
    "    Result table:\n",
    "    +---------+---------+------------+----------------+\n",
    "    | person1 | person2 | call_count | total_duration |\n",
    "    +---------+---------+------------+----------------+\n",
    "    | 1       | 2       | 2          | 70             |\n",
    "    | 1       | 3       | 1          | 20             |\n",
    "    | 3       | 4       | 4          | 999            |\n",
    "    +---------+---------+------------+----------------+\n",
    "    Users 1 and 2 had 2 calls and the total duration is 70 (59 + 11).\n",
    "    Users 1 and 3 had 1 call and the total duration is 20.\n",
    "    Users 3 and 4 had 4 calls and the total duration is 999 (100 + 200 + 200 + 499)."
   ]
  },
  {
   "cell_type": "markdown",
   "metadata": {},
   "source": [
    "# With statement"
   ]
  },
  {
   "cell_type": "code",
   "execution_count": null,
   "metadata": {},
   "outputs": [],
   "source": [
    "with aggregates as\n",
    "(select from_id, to_id, sum(duration) as duration, count(*) as count_calls\n",
    " from Calls\n",
    " group by 1, 2\n",
    ")\n",
    "\n",
    "select distinct \n",
    "case when a.from_id < a.to_id then a.from_id\n",
    "     else a.to_id\n",
    "     end as person1, \n",
    "case when a.from_id < a.to_id then a.to_id\n",
    "     else a.from_id\n",
    "     end as person2,\n",
    "a.count_calls + coalesce(b.count_calls, 0) as call_count, \n",
    "a.duration + coalesce(b.duration, 0) as total_duration \n",
    "from aggregates a\n",
    "left join aggregates b on a.from_id = b.to_id and a.to_id = b.from_id"
   ]
  },
  {
   "cell_type": "markdown",
   "metadata": {},
   "source": [
    "# Simpler Solution"
   ]
  },
  {
   "cell_type": "code",
   "execution_count": null,
   "metadata": {},
   "outputs": [],
   "source": [
    "SELECT LEAST(from_id,to_id) as person1,\n",
    "GREATEST(from_id,to_id) as person2,\n",
    "COUNT(*) as call_count,\n",
    "SUM(duration) as total_duration\n",
    "FROM Calls\n",
    "GROUP BY person1,person2"
   ]
  }
 ],
 "metadata": {
  "kernelspec": {
   "display_name": "Python 3",
   "language": "python",
   "name": "python3"
  },
  "language_info": {
   "codemirror_mode": {
    "name": "ipython",
    "version": 3
   },
   "file_extension": ".py",
   "mimetype": "text/x-python",
   "name": "python",
   "nbconvert_exporter": "python",
   "pygments_lexer": "ipython3",
   "version": "3.7.3"
  }
 },
 "nbformat": 4,
 "nbformat_minor": 2
}
