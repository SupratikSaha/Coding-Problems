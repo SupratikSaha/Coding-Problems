{
 "cells": [
  {
   "cell_type": "markdown",
   "metadata": {},
   "source": [
    "    Problem Statement.\n",
    "\n",
    "    Table: Events\n",
    "\n",
    "    +---------------+---------+\n",
    "    | Column Name   | Type    |\n",
    "    +---------------+---------+\n",
    "    | business_id   | int     |\n",
    "    | event_type    | varchar |\n",
    "    | occurences    | int     | \n",
    "    +---------------+---------+\n",
    "    (business_id, event_type) is the primary key of this table.\n",
    "    Each row in the table logs the info that an event of some type occurred at some business for a number of times.\n",
    "\n",
    "\n",
    "\n",
    "    The average activity for a particular event_type is the average occurences across all companies that have this event.\n",
    "\n",
    "    An active business is a business that has more than one event_type such that their occurences is strictly greater than the average activity for that event.\n",
    "\n",
    "    Write an SQL query to find all active businesses.\n",
    "\n",
    "    Return the result table in any order.\n",
    "\n",
    "    The query result format is in the following example.\n",
    "\n",
    "\n",
    "\n",
    "    Example 1:\n",
    "\n",
    "    Input: \n",
    "    Events table:\n",
    "    +-------------+------------+------------+\n",
    "    | business_id | event_type | occurences |\n",
    "    +-------------+------------+------------+\n",
    "    | 1           | reviews    | 7          |\n",
    "    | 3           | reviews    | 3          |\n",
    "    | 1           | ads        | 11         |\n",
    "    | 2           | ads        | 7          |\n",
    "    | 3           | ads        | 6          |\n",
    "    | 1           | page views | 3          |\n",
    "    | 2           | page views | 12         |\n",
    "    +-------------+------------+------------+\n",
    "    Output: \n",
    "    +-------------+\n",
    "    | business_id |\n",
    "    +-------------+\n",
    "    | 1           |\n",
    "    +-------------+\n",
    "    Explanation:  \n",
    "    The average activity for each event can be calculated as follows:\n",
    "    - 'reviews': (7+3)/2 = 5\n",
    "    - 'ads': (11+7+6)/3 = 8\n",
    "    - 'page views': (3+12)/2 = 7.5\n",
    "    The business with id=1 has 7 'reviews' events (more than 5) and 11 'ads' events (more than 8), so it is an active business."
   ]
  },
  {
   "cell_type": "markdown",
   "metadata": {},
   "source": [
    "# Sub Queries"
   ]
  },
  {
   "cell_type": "code",
   "execution_count": null,
   "metadata": {},
   "outputs": [],
   "source": [
    "select business_id\n",
    "from\n",
    "(select event_type, avg(occurences) as ave_occurences\n",
    " from events as e1\n",
    " group by event_type\n",
    ") as temp1\n",
    "join events as e2 on temp1.event_type = e2.event_type\n",
    "where e2.occurences > temp1.ave_occurences\n",
    "group by business_id\n",
    "having count(distinct temp1.event_type) > 1"
   ]
  },
  {
   "cell_type": "markdown",
   "metadata": {},
   "source": [
    "# With and Group By"
   ]
  },
  {
   "cell_type": "code",
   "execution_count": null,
   "metadata": {},
   "outputs": [],
   "source": [
    "with count_average_activity as\n",
    "(select event_type, avg(occurences) as average_activity\n",
    " from Events\n",
    " group by 1\n",
    "),\n",
    "\n",
    "greater_than_average_activity as\n",
    "(select e.* \n",
    " from Events e\n",
    " join count_average_activity c using(event_type)\n",
    " where e.occurences > c.average_activity\n",
    ")\n",
    "\n",
    "select business_id\n",
    "from greater_than_average_activity\n",
    "group by 1\n",
    "having count(*) > 1"
   ]
  },
  {
   "cell_type": "markdown",
   "metadata": {},
   "source": [
    "# With and Window Function"
   ]
  },
  {
   "cell_type": "code",
   "execution_count": null,
   "metadata": {},
   "outputs": [],
   "source": [
    "WITH greater_than_average_activity AS(\n",
    "SELECT business_id,\n",
    "CASE WHEN occurences > AVG(occurences) OVER (PARTITION BY event_type) THEN 1 ELSE 0 END AS chosen\n",
    "FROM Events)\n",
    "\n",
    "SELECT business_id\n",
    "FROM greater_than_average_activity\n",
    "GROUP BY business_id\n",
    "HAVING SUM(chosen) >1"
   ]
  }
 ],
 "metadata": {
  "kernelspec": {
   "display_name": "Python 3",
   "language": "python",
   "name": "python3"
  },
  "language_info": {
   "codemirror_mode": {
    "name": "ipython",
    "version": 3
   },
   "file_extension": ".py",
   "mimetype": "text/x-python",
   "name": "python",
   "nbconvert_exporter": "python",
   "pygments_lexer": "ipython3",
   "version": "3.7.3"
  }
 },
 "nbformat": 4,
 "nbformat_minor": 2
}
