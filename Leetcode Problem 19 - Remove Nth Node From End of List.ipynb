{
 "cells": [
  {
   "cell_type": "markdown",
   "metadata": {},
   "source": [
    "# Two Pass Solution"
   ]
  },
  {
   "cell_type": "code",
   "execution_count": null,
   "metadata": {},
   "outputs": [],
   "source": [
    "class Solution:\n",
    "    def removeNthFromEnd(self, head, n: int):\n",
    "        \n",
    "        count_nodes = 0\n",
    "        current = head\n",
    "        \n",
    "        while(current != None):\n",
    "            current = current.next\n",
    "            count_nodes += 1\n",
    "\n",
    "            \n",
    "        node_to_delete = count_nodes - n + 1\n",
    "        count_nodes = 1\n",
    "        prev_node = None\n",
    "        next_node = None\n",
    "        current = head\n",
    "\n",
    "        while(count_nodes<node_to_delete):\n",
    "            prev_node = current\n",
    "            if current.next != None:\n",
    "                current = current.next\n",
    "                next_node = current.next\n",
    "            else:\n",
    "                current = current.next\n",
    "                next_node = None\n",
    "            \n",
    "            count_nodes += 1\n",
    "                \n",
    "\n",
    "        if prev_node == None:\n",
    "            return head.next\n",
    "        else:\n",
    "            prev_node.next=next_node\n",
    "            return head"
   ]
  },
  {
   "cell_type": "markdown",
   "metadata": {},
   "source": [
    "# One pass solution"
   ]
  },
  {
   "cell_type": "code",
   "execution_count": null,
   "metadata": {},
   "outputs": [],
   "source": [
    "def removeNthFromEnd(self, head, n):\n",
    "    size = 1\n",
    "    cur = p = head\n",
    "    while cur.next:\n",
    "        size += 1\n",
    "        cur = cur.next\n",
    "        if size > n + 1:\n",
    "            p = p.next\n",
    "    if size == n:\n",
    "        return head.next\n",
    "    else:\n",
    "        p.next = p.next.next\n",
    "        return head"
   ]
  },
  {
   "cell_type": "markdown",
   "metadata": {},
   "source": [
    "# Recursive Solution. My first solution is \"cheating\" a little. \n",
    "# Instead of really removing the nth node, I remove the nth value. \n",
    "# I recursively determine the indexes (counting from back), then shift the values for all indexes larger than n, \n",
    "# and then always drop the head."
   ]
  },
  {
   "cell_type": "code",
   "execution_count": null,
   "metadata": {},
   "outputs": [],
   "source": []
  },
  {
   "cell_type": "code",
   "execution_count": null,
   "metadata": {},
   "outputs": [],
   "source": [
    "class Solution:\n",
    "    def removeNthFromEnd(self, head, n):\n",
    "        def index(node):\n",
    "            if not node:\n",
    "                return 0\n",
    "            i = index(node.next) + 1\n",
    "            if i > n:\n",
    "                node.next.val = node.val\n",
    "            return i\n",
    "        index(head)\n",
    "        return head.next"
   ]
  }
 ],
 "metadata": {
  "kernelspec": {
   "display_name": "Python 3",
   "language": "python",
   "name": "python3"
  },
  "language_info": {
   "codemirror_mode": {
    "name": "ipython",
    "version": 3
   },
   "file_extension": ".py",
   "mimetype": "text/x-python",
   "name": "python",
   "nbconvert_exporter": "python",
   "pygments_lexer": "ipython3",
   "version": "3.7.3"
  }
 },
 "nbformat": 4,
 "nbformat_minor": 2
}
