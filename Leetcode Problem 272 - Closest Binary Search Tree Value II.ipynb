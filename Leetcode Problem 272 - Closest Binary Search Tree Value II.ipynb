{
 "cells": [
  {
   "cell_type": "markdown",
   "metadata": {},
   "source": [
    "Problem Statement.\n",
    "\n",
    "Given the root of a binary search tree, a target value, and an integer k, return the k values in the BST that are closest to the target. You may return the answer in any order.\n",
    "\n",
    "You are guaranteed to have only one unique set of k values in the BST that are closest to the target.\n",
    "\n",
    " \n",
    "\n",
    "Example 1:\n",
    "\n",
    "Input: root = [4,2,5,1,3], target = 3.714286, k = 2\n",
    "Output: [4,3]\n",
    "\n",
    "Example 2:\n",
    "\n",
    "Input: root = [1], target = 0.000000, k = 1\n",
    "Output: [1]\n",
    "\n",
    " \n",
    "\n",
    "Constraints:\n",
    "\n",
    "    The number of nodes in the tree is n.\n",
    "    1 <= k <= n <= 104.\n",
    "    0 <= Node.val <= 109\n",
    "    -109 <= target <= 109\n",
    "\n",
    " \n",
    "\n",
    "Follow up: Assume that the BST is balanced. Could you solve it in less than O(n) runtime (where n = total nodes)?"
   ]
  },
  {
   "cell_type": "markdown",
   "metadata": {},
   "source": [
    "# Heap - O(H Log K) average O(N Log N) worst runtime, O(k + H) space"
   ]
  },
  {
   "cell_type": "code",
   "execution_count": 2,
   "metadata": {},
   "outputs": [],
   "source": [
    "from typing import List\n",
    "from heapq import heappush, heappop\n",
    "\n",
    "# Definition for a binary tree node.\n",
    "# class TreeNode:\n",
    "#     def __init__(self, val=0, left=None, right=None):\n",
    "#         self.val = val\n",
    "#         self.left = left\n",
    "#         self.right = right\n",
    "\n",
    "class Solution:\n",
    "    def closestKValues(self, root: TreeNode, target: float, k: int) -> List[int]:\n",
    "        \n",
    "        def getClosestKValues(root):\n",
    "            nonlocal maxheap\n",
    "            if not root: return\n",
    "            \n",
    "            diff = abs(target - root.val)\n",
    "            heappush(maxheap, (-diff, root.val))\n",
    "            if len(maxheap) > k: heappop(maxheap)\n",
    "\n",
    "            if not(len(maxheap) == k and root.val < target and diff >= -maxheap[0][0]):\n",
    "                getClosestKValues(root.left)\n",
    "                \n",
    "            if not(len(maxheap) == k and root.val > target and diff >= -maxheap[0][0]):\n",
    "                getClosestKValues(root.right)\n",
    "        \n",
    "        maxheap = []\n",
    "        getClosestKValues(root)\n",
    "        \n",
    "        return [x[1] for x in maxheap]"
   ]
  },
  {
   "cell_type": "markdown",
   "metadata": {},
   "source": [
    "# Inorder Traversal, Two pointers - O(N) runtime, O(N) space"
   ]
  },
  {
   "cell_type": "code",
   "execution_count": 3,
   "metadata": {},
   "outputs": [],
   "source": [
    "from typing import List\n",
    "\n",
    "# Definition for a binary tree node.\n",
    "# class TreeNode:\n",
    "#     def __init__(self, val=0, left=None, right=None):\n",
    "#         self.val = val\n",
    "#         self.left = left\n",
    "#         self.right = right\n",
    "\n",
    "class Solution:\n",
    "    def closestKValues(self, root: TreeNode, target: float, k: int) -> List[int]:\n",
    "        def inOrder(node):\n",
    "            if not node: return []\n",
    "            return inOrder(node.left) + [node.val] + inOrder(node.right)\n",
    "\n",
    "        lst = inOrder(root)\n",
    "        \n",
    "        dist = lambda idx : abs(lst[idx] - target)\n",
    "        \n",
    "        closest = min((dist(i), i) for i in range(len(lst)))[1]\n",
    "        l = r = closest\n",
    "        while r-l+1 < k:\n",
    "            if 0 <= l-1 and r+1 < len(lst):\n",
    "                if dist(l-1) < dist(r+1):\n",
    "                    l -= 1\n",
    "                else:\n",
    "                    r += 1\n",
    "            elif 0 <= l-1:\n",
    "                l -= 1\n",
    "            else:\n",
    "                r += 1\n",
    "        return lst[l:r+1]"
   ]
  }
 ],
 "metadata": {
  "kernelspec": {
   "display_name": "Python 3",
   "language": "python",
   "name": "python3"
  },
  "language_info": {
   "codemirror_mode": {
    "name": "ipython",
    "version": 3
   },
   "file_extension": ".py",
   "mimetype": "text/x-python",
   "name": "python",
   "nbconvert_exporter": "python",
   "pygments_lexer": "ipython3",
   "version": "3.7.3"
  }
 },
 "nbformat": 4,
 "nbformat_minor": 2
}
