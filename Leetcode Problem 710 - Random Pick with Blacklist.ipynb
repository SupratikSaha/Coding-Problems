{
 "cells": [
  {
   "cell_type": "markdown",
   "metadata": {},
   "source": [
    "Problem Statement.\n",
    "\n",
    "Given a blacklist blacklist containing unique integers from [0, n), write a function to return a uniform random integer from [0, n) which is NOT in blacklist.\n",
    "\n",
    "Optimize it such that it minimizes the call to system’s Math.random().\n",
    "\n",
    "Note:\n",
    "\n",
    "    1 <= n <= 1000000000\n",
    "    0 <= blacklist.length < min(100000, n)\n",
    "    [0, n) does NOT include n. See interval notation.\n",
    "\n",
    "Example 1:\n",
    "\n",
    "Input: \n",
    "[\"Solution\",\"pick\",\"pick\",\"pick\"]\n",
    "[[1,[]],[],[],[]]\n",
    "Output: [null,0,0,0]\n",
    "\n",
    "Example 2:\n",
    "\n",
    "Input: \n",
    "[\"Solution\",\"pick\",\"pick\",\"pick\"]\n",
    "[[2,[]],[],[],[]]\n",
    "Output: [null,1,1,1]\n",
    "\n",
    "Example 3:\n",
    "\n",
    "Input: \n",
    "[\"Solution\",\"pick\",\"pick\",\"pick\"]\n",
    "[[3,[1]],[],[],[]]\n",
    "Output: [null,0,0,2]\n",
    "\n",
    "Example 4:\n",
    "\n",
    "Input: \n",
    "[\"Solution\",\"pick\",\"pick\",\"pick\"]\n",
    "[[4,[2]],[],[],[]]\n",
    "Output: [null,1,3,1]\n",
    "\n",
    "Explanation of Input Syntax:\n",
    "\n",
    "The input is two lists: the subroutines called and their arguments. Solution's constructor has two arguments, n and the blacklist blacklist. pick has no arguments. Arguments are always wrapped with a list, even if there aren't any."
   ]
  },
  {
   "cell_type": "markdown",
   "metadata": {},
   "source": [
    "# Hash Set - O(B) _init_ runtime, O(1) pick runtime, O(B) space"
   ]
  },
  {
   "cell_type": "code",
   "execution_count": 1,
   "metadata": {},
   "outputs": [],
   "source": [
    "from typing import List\n",
    "from random import randint\n",
    "from collections import defaultdict\n",
    "\n",
    "class Solution:\n",
    "\n",
    "    def __init__(self, n: int, blacklist: List[int]):\n",
    "        B = len(blacklist)\n",
    "        self.N = n - B\n",
    "        \n",
    "        black_cache = defaultdict(bool)\n",
    "        keys = []\n",
    "        \n",
    "        for black_val in blacklist:\n",
    "            black_cache[black_val] = True\n",
    "            if black_val < self.N:\n",
    "                keys.append(black_val)\n",
    "                \n",
    "        values = []\n",
    "        for val in range(self.N, n):\n",
    "            if val not in black_cache:\n",
    "                values.append(val)\n",
    "        \n",
    "        self.remap = dict(zip(keys, values))\n",
    "\n",
    "    def pick(self) -> int:\n",
    "        choice = randint(0, self.N-1)\n",
    "        return self.remap.get(choice, choice)"
   ]
  },
  {
   "cell_type": "code",
   "execution_count": 2,
   "metadata": {},
   "outputs": [
    {
     "data": {
      "text/plain": [
       "3"
      ]
     },
     "execution_count": 2,
     "metadata": {},
     "output_type": "execute_result"
    }
   ],
   "source": [
    "instance = Solution(4,[2])\n",
    "instance.pick()"
   ]
  }
 ],
 "metadata": {
  "kernelspec": {
   "display_name": "Python 3",
   "language": "python",
   "name": "python3"
  },
  "language_info": {
   "codemirror_mode": {
    "name": "ipython",
    "version": 3
   },
   "file_extension": ".py",
   "mimetype": "text/x-python",
   "name": "python",
   "nbconvert_exporter": "python",
   "pygments_lexer": "ipython3",
   "version": "3.7.3"
  }
 },
 "nbformat": 4,
 "nbformat_minor": 2
}
