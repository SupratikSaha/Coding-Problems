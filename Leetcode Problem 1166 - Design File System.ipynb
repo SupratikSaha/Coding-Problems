{
 "cells": [
  {
   "cell_type": "markdown",
   "metadata": {},
   "source": [
    "Problem Statement.\n",
    "\n",
    "You are asked to design a file system that allows you to create new paths and associate them with different values.\n",
    "\n",
    "The format of a path is one or more concatenated strings of the form: / followed by one or more lowercase English letters. For example, \"/leetcode\" and \"/leetcode/problems\" are valid paths while an empty string \"\" and \"/\" are not.\n",
    "\n",
    "Implement the FileSystem class:\n",
    "\n",
    "    bool createPath(string path, int value) Creates a new path and associates a value to it if possible and returns true. Returns false if the path already exists or its parent path doesn't exist.\n",
    "    int get(string path) Returns the value associated with path or returns -1 if the path doesn't exist.\n",
    "\n",
    " \n",
    "\n",
    "Example 1:\n",
    "\n",
    "Input: \n",
    "[\"FileSystem\",\"createPath\",\"get\"]\n",
    "[[],[\"/a\",1],[\"/a\"]]\n",
    "Output: \n",
    "[null,true,1]\n",
    "Explanation: \n",
    "FileSystem fileSystem = new FileSystem();\n",
    "\n",
    "fileSystem.createPath(\"/a\", 1); // return true\n",
    "fileSystem.get(\"/a\"); // return 1\n",
    "\n",
    "Example 2:\n",
    "\n",
    "Input: \n",
    "[\"FileSystem\",\"createPath\",\"createPath\",\"get\",\"createPath\",\"get\"]\n",
    "[[],[\"/leet\",1],[\"/leet/code\",2],[\"/leet/code\"],[\"/c/d\",1],[\"/c\"]]\n",
    "Output: \n",
    "[null,true,true,2,false,-1]\n",
    "Explanation: \n",
    "FileSystem fileSystem = new FileSystem();\n",
    "\n",
    "fileSystem.createPath(\"/leet\", 1); // return true\n",
    "fileSystem.createPath(\"/leet/code\", 2); // return true\n",
    "fileSystem.get(\"/leet/code\"); // return 2\n",
    "fileSystem.createPath(\"/c/d\", 1); // return false because the parent path \"/c\" doesn't exist.\n",
    "fileSystem.get(\"/c\"); // return -1 because this path doesn't exist.\n",
    "\n",
    " \n",
    "\n",
    "Constraints:\n",
    "\n",
    "    The number of calls to the two functions is less than or equal to 104 in total.\n",
    "    2 <= path.length <= 100\n",
    "    1 <= value <= 109"
   ]
  },
  {
   "cell_type": "markdown",
   "metadata": {},
   "source": [
    "# Hash Table - createPath, get - O(M) and O(1) runtime, O(K) space where, M is the length of path and K is the number of unique paths"
   ]
  },
  {
   "cell_type": "code",
   "execution_count": 1,
   "metadata": {},
   "outputs": [],
   "source": [
    "from collections import defaultdict\n",
    "\n",
    "class FileSystem:\n",
    "    \n",
    "    def __init__(self):\n",
    "        self.paths = defaultdict()\n",
    "\n",
    "    def createPath(self, path: str, value: int) -> bool:\n",
    "        \n",
    "        # Step-1: basic path validations\n",
    "        if path == \"/\" or len(path) == 0 or path in self.paths:\n",
    "            return False\n",
    "        \n",
    "        # Step-2: if the parent doesn't exist. Note that \"/\" is a valid parent.\n",
    "        parent = path[:path.rfind('/')]\n",
    "        if len(parent) > 1 and parent not in self.paths:\n",
    "            return False\n",
    "        \n",
    "        # Step-3: add this new path and return true.\n",
    "        self.paths[path] = value\n",
    "        return True\n",
    "\n",
    "    def get(self, path: str) -> int:\n",
    "        return self.paths.get(path, -1)"
   ]
  },
  {
   "cell_type": "markdown",
   "metadata": {},
   "source": [
    "# Trie - createPath, get - O(P) runtime, O(P) space, where P is the number of nodes in the path"
   ]
  },
  {
   "cell_type": "code",
   "execution_count": 2,
   "metadata": {},
   "outputs": [],
   "source": [
    "class FileSystem:\n",
    "\n",
    "    def __init__(self):\n",
    "        self.root = {}\n",
    "\n",
    "    def createPath(self, path: str, value: int) -> bool:\n",
    "        if not path or path == '/': return False\n",
    "        path = path.split('/')\n",
    "        \n",
    "        head = self.root\n",
    "        for i in range(1, len(path) - 1):\n",
    "            if path[i] not in head: return False\n",
    "            head = head[path[i]]\n",
    "        \n",
    "        if path[-1] in head: return False\n",
    "        head[path[-1]] = {}\n",
    "        head = head[path[-1]]\n",
    "        \n",
    "        head['$'] = value\n",
    "        return True\n",
    "        \n",
    "\n",
    "    def get(self, path: str) -> int:\n",
    "        if not path or path == '/': return False\n",
    "        path = path.split('/')\n",
    "        head = self.root\n",
    "        for i in range(1, len(path)):\n",
    "            if path[i] not in head: return -1\n",
    "            head = head[path[i]]\n",
    "\n",
    "        return head['$']"
   ]
  },
  {
   "cell_type": "code",
   "execution_count": 3,
   "metadata": {},
   "outputs": [
    {
     "name": "stdout",
     "output_type": "stream",
     "text": [
      "True\n",
      "1\n"
     ]
    }
   ],
   "source": [
    "obj = FileSystem()\n",
    "print(obj.createPath(\"/leet\", 1))\n",
    "print(obj.get(\"/leet\"))"
   ]
  }
 ],
 "metadata": {
  "kernelspec": {
   "display_name": "Python 3",
   "language": "python",
   "name": "python3"
  },
  "language_info": {
   "codemirror_mode": {
    "name": "ipython",
    "version": 3
   },
   "file_extension": ".py",
   "mimetype": "text/x-python",
   "name": "python",
   "nbconvert_exporter": "python",
   "pygments_lexer": "ipython3",
   "version": "3.7.3"
  }
 },
 "nbformat": 4,
 "nbformat_minor": 2
}
