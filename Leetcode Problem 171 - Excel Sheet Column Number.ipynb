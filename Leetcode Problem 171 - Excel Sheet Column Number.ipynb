{
 "cells": [
  {
   "cell_type": "markdown",
   "metadata": {},
   "source": [
    "Problem Statement. <br/>\n",
    "\n",
    "Given a column title as appear in an Excel sheet, return its corresponding column number. <br/>\n",
    "For example: <br/>\n",
    "\n",
    "    A -> 1 <br/>\n",
    "    B -> 2 <br/>\n",
    "    C -> 3 <br/>\n",
    "    ... <br/>\n",
    "    Z -> 26 <br/>\n",
    "    AA -> 27 <br/>\n",
    "    AB -> 28  <br/>\n",
    "    ... <br/>\n",
    "\n",
    "Example 1: <br/>\n",
    "Input: \"A\" <br/>\n",
    "Output: 1 <br/>\n",
    "\n",
    "Example 2: <br/>\n",
    "Input: \"AB\" <br/>\n",
    "Output: 28 <br/>\n",
    "\n",
    "Example 3: <br/>\n",
    "Input: \"ZY\" <br/>\n",
    "Output: 701"
   ]
  },
  {
   "cell_type": "markdown",
   "metadata": {},
   "source": [
    "# Right to Left - O(N) runtime, O(1) space"
   ]
  },
  {
   "cell_type": "code",
   "execution_count": 1,
   "metadata": {},
   "outputs": [],
   "source": [
    "class Solution:\n",
    "    def titleToNumber(self, s: str) -> int:\n",
    "        \n",
    "        n = len(s)\n",
    "        count = 0\n",
    "        \n",
    "        for i in range(n - 1, -1, -1):\n",
    "            count += (ord(s[i]) - ord('A') + 1) * (26 ** (n-i-1) )\n",
    "            \n",
    "        return count"
   ]
  },
  {
   "cell_type": "markdown",
   "metadata": {},
   "source": [
    "# Left to Right - O(N) runtime, O(1) space"
   ]
  },
  {
   "cell_type": "code",
   "execution_count": 3,
   "metadata": {},
   "outputs": [],
   "source": [
    "class Solution:\n",
    "    def titleToNumber(self, s: str) -> int:\n",
    "        \n",
    "        result = 0\n",
    "        n = len(s)\n",
    "        for i in range(n):\n",
    "            result = result * 26\n",
    "            result += (ord(s[i]) - ord('A') + 1)\n",
    "        return result"
   ]
  },
  {
   "cell_type": "code",
   "execution_count": 4,
   "metadata": {},
   "outputs": [
    {
     "data": {
      "text/plain": [
       "12320754"
      ]
     },
     "execution_count": 4,
     "metadata": {},
     "output_type": "execute_result"
    }
   ],
   "source": [
    "instance = Solution()\n",
    "instance.titleToNumber(\"ZXYYD\")"
   ]
  }
 ],
 "metadata": {
  "kernelspec": {
   "display_name": "Python 3",
   "language": "python",
   "name": "python3"
  },
  "language_info": {
   "codemirror_mode": {
    "name": "ipython",
    "version": 3
   },
   "file_extension": ".py",
   "mimetype": "text/x-python",
   "name": "python",
   "nbconvert_exporter": "python",
   "pygments_lexer": "ipython3",
   "version": "3.7.3"
  }
 },
 "nbformat": 4,
 "nbformat_minor": 2
}
