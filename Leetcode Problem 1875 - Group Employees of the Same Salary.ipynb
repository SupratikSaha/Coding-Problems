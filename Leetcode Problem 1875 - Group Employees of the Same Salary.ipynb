{
 "cells": [
  {
   "cell_type": "markdown",
   "metadata": {},
   "source": [
    "    Problem Statement.\n",
    "\n",
    "    Table: Employees\n",
    "\n",
    "    +-------------+---------+\n",
    "    | Column Name | Type    |\n",
    "    +-------------+---------+\n",
    "    | employee_id | int     |\n",
    "    | name        | varchar |\n",
    "    | salary      | int     |\n",
    "    +-------------+---------+\n",
    "    employee_id is the primary key for this table.\n",
    "    Each row of this table indicates the employee ID, employee name, and salary.\n",
    "\n",
    "\n",
    "\n",
    "    A company wants to divide the employees into teams such that all the members on each team have the same salary. The teams should follow these criteria:\n",
    "\n",
    "        Each team should consist of at least two employees.\n",
    "        All the employees on a team should have the same salary.\n",
    "        All the employees of the same salary should be assigned to the same team.\n",
    "        If the salary of an employee is unique, we do not assign this employee to any team.\n",
    "        A team's ID is assigned based on the rank of the team's salary relative to the other teams' salaries, where the team with the lowest salary has team_id = 1. Note that the salaries for employees not on a team are not included in this ranking.\n",
    "\n",
    "    Write an SQL query to get the team_id of each employee that is in a team.\n",
    "\n",
    "    Return the result table ordered by team_id in ascending order. In case of a tie, order it by employee_id in ascending order.\n",
    "\n",
    "    The query result format is in the following example.\n",
    "\n",
    "\n",
    "\n",
    "    Example 1:\n",
    "\n",
    "    Input: \n",
    "    Employees table:\n",
    "    +-------------+---------+--------+\n",
    "    | employee_id | name    | salary |\n",
    "    +-------------+---------+--------+\n",
    "    | 2           | Meir    | 3000   |\n",
    "    | 3           | Michael | 3000   |\n",
    "    | 7           | Addilyn | 7400   |\n",
    "    | 8           | Juan    | 6100   |\n",
    "    | 9           | Kannon  | 7400   |\n",
    "    +-------------+---------+--------+\n",
    "    Output: \n",
    "    +-------------+---------+--------+---------+\n",
    "    | employee_id | name    | salary | team_id |\n",
    "    +-------------+---------+--------+---------+\n",
    "    | 2           | Meir    | 3000   | 1       |\n",
    "    | 3           | Michael | 3000   | 1       |\n",
    "    | 7           | Addilyn | 7400   | 2       |\n",
    "    | 9           | Kannon  | 7400   | 2       |\n",
    "    +-------------+---------+--------+---------+\n",
    "    Explanation: \n",
    "    Meir (employee_id=2) and Michael (employee_id=3) are in the same team because they have the same salary of 3000.\n",
    "    Addilyn (employee_id=7) and Kannon (employee_id=9) are in the same team because they have the same salary of 7400.\n",
    "    Juan (employee_id=8) is not included in any team because their salary of 6100 is unique (i.e. no other employee has the same salary).\n",
    "    The team IDs are assigned as follows (based on salary ranking, lowest first):\n",
    "    - team_id=1: Meir and Michael, a salary of 3000\n",
    "    - team_id=2: Addilyn and Kannon, a salary of 7400\n",
    "    Juan's salary of 6100 is not included in the ranking because they are not on a team."
   ]
  },
  {
   "cell_type": "markdown",
   "metadata": {},
   "source": [
    "# Group By "
   ]
  },
  {
   "cell_type": "code",
   "execution_count": null,
   "metadata": {},
   "outputs": [],
   "source": [
    "select *,\n",
    "dense_rank() OVER (ORDER BY Salary) as team_id\n",
    "from Employees\n",
    "where salary in \n",
    "(select salary \n",
    "from Employees\n",
    "group by 1\n",
    "having count(*) >= 2)"
   ]
  }
 ],
 "metadata": {
  "kernelspec": {
   "display_name": "Python 3",
   "language": "python",
   "name": "python3"
  },
  "language_info": {
   "codemirror_mode": {
    "name": "ipython",
    "version": 3
   },
   "file_extension": ".py",
   "mimetype": "text/x-python",
   "name": "python",
   "nbconvert_exporter": "python",
   "pygments_lexer": "ipython3",
   "version": "3.7.3"
  }
 },
 "nbformat": 4,
 "nbformat_minor": 2
}
