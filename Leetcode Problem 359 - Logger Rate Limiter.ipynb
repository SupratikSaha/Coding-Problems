{
 "cells": [
  {
   "cell_type": "markdown",
   "metadata": {},
   "source": [
    "Problem Statement. <br/>\n",
    "\n",
    "Design a logger system that receives a stream of messages along with their timestamps. Each unique message should only be printed at most every 10 seconds (i.e. a message printed at timestamp t will prevent other identical messages from being printed until timestamp t + 10). <br/>\n",
    "All messages will come in chronological order. Several messages may arrive at the same timestamp. <br/>\n",
    "Implement the Logger class: <br/>\n",
    "    Logger() Initializes the logger object.\n",
    "    bool shouldPrintMessage(int timestamp, string message) Returns true if the message should be printed in the given timestamp, otherwise returns false.\n",
    "\n",
    "Example 1: <br/>\n",
    "Input: <br/>\n",
    "[\"Logger\", \"shouldPrintMessage\", \"shouldPrintMessage\", \"shouldPrintMessage\", \"shouldPrintMessage\", \"shouldPrintMessage\", \"shouldPrintMessage\"] <br/>\n",
    "[[], [1, \"foo\"], [2, \"bar\"], [3, \"foo\"], [8, \"bar\"], [10, \"foo\"], [11, \"foo\"]] <br/>\n",
    "Output: <br/>\n",
    "[null, true, true, false, false, false, true] <br/>\n",
    "\n",
    "Explanation: <br/>\n",
    "Logger logger = new Logger(); <br/>\n",
    "logger.shouldPrintMessage(1, \"foo\");  // return true, next allowed timestamp for \"foo\" is 1 + 10 = 11 <br/>\n",
    "logger.shouldPrintMessage(2, \"bar\");  // return true, next allowed timestamp for \"bar\" is 2 + 10 = 12 <br/>\n",
    "logger.shouldPrintMessage(3, \"foo\");  // 3 < 11, return false <br/>\n",
    "logger.shouldPrintMessage(8, \"bar\");  // 8 < 12, return false <br/>\n",
    "logger.shouldPrintMessage(10, \"foo\"); // 10 < 11, return false <br/>\n",
    "logger.shouldPrintMessage(11, \"foo\"); // 11 >= 11, return true, next allowed timestamp for \"foo\" is <br/>\n",
    "                                      // 11 + 10 = 21"
   ]
  },
  {
   "cell_type": "markdown",
   "metadata": {},
   "source": [
    "# Garbage Collection - Queue and Set - O(N) runtime, O(N) space where N is the size of the queue"
   ]
  },
  {
   "cell_type": "code",
   "execution_count": 1,
   "metadata": {},
   "outputs": [],
   "source": [
    "from collections import deque\n",
    "\n",
    "class Logger(object):\n",
    "\n",
    "    def __init__(self):\n",
    "        \"\"\"\n",
    "        Initialize your data structure here.\n",
    "        \"\"\"\n",
    "        self._msg_set = set()\n",
    "        self._msg_queue = deque()\n",
    "    \n",
    "    def shouldPrintMessage(self, timestamp, message):\n",
    "        \"\"\"\n",
    "        Returns true if the message should be printed in the given timestamp, otherwise returns false.\n",
    "        \"\"\"\n",
    "        while self._msg_queue:\n",
    "            msg, ts = self._msg_queue[0]\n",
    "            if timestamp - ts >= 10:\n",
    "                self._msg_queue.popleft()\n",
    "                self._msg_set.remove(msg)\n",
    "            else:\n",
    "                break\n",
    "        \n",
    "        if message not in self._msg_set:\n",
    "            self._msg_set.add(message)\n",
    "            self._msg_queue.append((message, timestamp))\n",
    "            return True\n",
    "        else:\n",
    "            return False"
   ]
  },
  {
   "cell_type": "markdown",
   "metadata": {},
   "source": [
    "# HashMap - O(1) runtime, O(M) space, where M is the size of all incoming messages"
   ]
  },
  {
   "cell_type": "code",
   "execution_count": 2,
   "metadata": {},
   "outputs": [],
   "source": [
    "class Logger:\n",
    "\n",
    "    def __init__(self):\n",
    "        \"\"\"\n",
    "        Initialize your data structure here.\n",
    "        \"\"\"\n",
    "        self.msgDict = {}    \n",
    "\n",
    "    def shouldPrintMessage(self, timestamp: int, message: str) -> bool:\n",
    "        \"\"\"\n",
    "        Returns true if the message should be printed in the given timestamp, otherwise returns false.\n",
    "        If this method returns false, the message will not be printed.\n",
    "        The timestamp is in seconds granularity.\n",
    "        \"\"\"\n",
    "        prevTimestamp = self.msgDict.get(message, -1)\n",
    "        if prevTimestamp == -1 or timestamp - prevTimestamp >= 10:\n",
    "            self.msgDict[message] = timestamp\n",
    "            return True\n",
    "        return False"
   ]
  },
  {
   "cell_type": "code",
   "execution_count": 3,
   "metadata": {},
   "outputs": [
    {
     "name": "stdout",
     "output_type": "stream",
     "text": [
      "True\n",
      "True\n",
      "False\n",
      "False\n",
      "False\n",
      "True\n"
     ]
    }
   ],
   "source": [
    "logger = Logger();\n",
    "print(logger.shouldPrintMessage(1, \"foo\")) # return true, next allowed timestamp for \"foo\" is 1 + 10 = 11\n",
    "print(logger.shouldPrintMessage(2, \"bar\")) # return true, next allowed timestamp for \"bar\" is 2 + 10 = 12\n",
    "print(logger.shouldPrintMessage(3, \"foo\")) # 3 < 11, return false\n",
    "print(logger.shouldPrintMessage(8, \"bar\")) # 8 < 12, return false\n",
    "print(logger.shouldPrintMessage(10, \"foo\")) # 10 < 11, return false\n",
    "print(logger.shouldPrintMessage(11, \"foo\")) # 11 >= 11, return true, next allowed timestamp for \"foo\" is "
   ]
  }
 ],
 "metadata": {
  "kernelspec": {
   "display_name": "Python 3",
   "language": "python",
   "name": "python3"
  },
  "language_info": {
   "codemirror_mode": {
    "name": "ipython",
    "version": 3
   },
   "file_extension": ".py",
   "mimetype": "text/x-python",
   "name": "python",
   "nbconvert_exporter": "python",
   "pygments_lexer": "ipython3",
   "version": "3.7.3"
  }
 },
 "nbformat": 4,
 "nbformat_minor": 2
}
