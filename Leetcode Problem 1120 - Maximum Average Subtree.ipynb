{
 "cells": [
  {
   "cell_type": "markdown",
   "metadata": {},
   "source": [
    "Problem Statement.\n",
    "\n",
    "Given the root of a binary tree, find the maximum average value of any subtree of that tree.\n",
    "\n",
    "(A subtree of a tree is any node of that tree plus all its descendants. The average value of a tree is the sum of its values, divided by the number of nodes.)\n",
    "\n",
    " \n",
    "\n",
    "Example 1:\n",
    "\n",
    "Input: [5,6,1]\n",
    "Output: 6.00000\n",
    "Explanation: \n",
    "For the node with value = 5 we have an average of (5 + 6 + 1) / 3 = 4.\n",
    "For the node with value = 6 we have an average of 6 / 1 = 6.\n",
    "For the node with value = 1 we have an average of 1 / 1 = 1.\n",
    "So the answer is 6 which is the maximum.\n",
    "\n",
    " \n",
    "\n",
    "Note:\n",
    "\n",
    "    The number of nodes in the tree is between 1 and 5000.\n",
    "    Each node will have a value between 0 and 100000.\n",
    "    Answers will be accepted as correct if they are within 10^-5 of the correct answer."
   ]
  },
  {
   "cell_type": "markdown",
   "metadata": {},
   "source": [
    "# DFS - O(N) runtime, O(N) space"
   ]
  },
  {
   "cell_type": "code",
   "execution_count": 2,
   "metadata": {},
   "outputs": [],
   "source": [
    "# Definition for a binary tree node.\n",
    "# class TreeNode:\n",
    "#     def __init__(self, val=0, left=None, right=None):\n",
    "#         self.val = val\n",
    "#         self.left = left\n",
    "#         self.right = right\n",
    "\n",
    "class Solution:\n",
    "    def maximumAverageSubtree(self, root: TreeNode) -> float:\n",
    "        \n",
    "        def getMaxAvgValue(root):    \n",
    "            nonlocal maxVal\n",
    "            \n",
    "            if not root:\n",
    "                return (0, 0)\n",
    "            \n",
    "            left = getMaxAvgValue(root.left)\n",
    "            right = getMaxAvgValue(root.right)\n",
    "            \n",
    "            sumVal = root.val + left[0] + right[0]\n",
    "            nodes = 1 + left[1] + right[1]\n",
    "            avg = sumVal / nodes\n",
    "            \n",
    "            maxVal = max(maxVal, avg)\n",
    "            \n",
    "            return (sumVal, nodes)\n",
    "        \n",
    "        maxVal = 0\n",
    "        getMaxAvgValue(root)\n",
    "        \n",
    "        return maxVal"
   ]
  }
 ],
 "metadata": {
  "kernelspec": {
   "display_name": "Python 3",
   "language": "python",
   "name": "python3"
  },
  "language_info": {
   "codemirror_mode": {
    "name": "ipython",
    "version": 3
   },
   "file_extension": ".py",
   "mimetype": "text/x-python",
   "name": "python",
   "nbconvert_exporter": "python",
   "pygments_lexer": "ipython3",
   "version": "3.7.3"
  }
 },
 "nbformat": 4,
 "nbformat_minor": 2
}
