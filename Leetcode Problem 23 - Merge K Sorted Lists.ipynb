{
 "cells": [
  {
   "cell_type": "markdown",
   "metadata": {},
   "source": [
    "# Brute force - Merge lists one by one - O(nk^2) runtime, O(1) space"
   ]
  },
  {
   "cell_type": "markdown",
   "metadata": {},
   "source": [
    "# Using a heap and priority queue -  O(nk) runtime, O(nk) space"
   ]
  },
  {
   "cell_type": "code",
   "execution_count": null,
   "metadata": {},
   "outputs": [],
   "source": [
    "class Solution(object):\n",
    "    def mergeKLists(self, lists):\n",
    "        # Priority queue\n",
    "        from Queue import PriorityQueue\n",
    "        queue = PriorityQueue()\n",
    "        for l in lists:\n",
    "            while l is not None:\n",
    "                queue.put((l.val, l))\n",
    "                l = l.next\n",
    "        p = dummyHead = ListNode(-1)\n",
    "        while queue.qsize() > 0:\n",
    "            p.next = queue.get()[1]\n",
    "            p = p.next\n",
    "        p.next = None\n",
    "        return dummyHead.next"
   ]
  },
  {
   "cell_type": "markdown",
   "metadata": {},
   "source": [
    "# Using hash maps - O(nk) runtime, O(nk) space"
   ]
  },
  {
   "cell_type": "code",
   "execution_count": null,
   "metadata": {},
   "outputs": [],
   "source": [
    "class Solution(object):    \n",
    "    def mergeKLists(self, lists):\n",
    "        \"\"\"\n",
    "        :type lists: List[ListNode]\n",
    "        :rtype: ListNode\n",
    "        \"\"\"\n",
    "        # sort\n",
    "        v_map = {}\n",
    "        # hash\n",
    "        for l in lists:\n",
    "            while l is not None:\n",
    "                try:\n",
    "                    v_map[l.val].append(l)\n",
    "                except KeyError:\n",
    "                    v_map[l.val] = [l]\n",
    "                l = l.next\n",
    "        head = last = ListNode(-1)\n",
    "        # sort and connect\n",
    "        for k in sorted(v_map.keys()):\n",
    "            for t in v_map[k]:\n",
    "                last.next = t\n",
    "                last = t\n",
    "        last.next = None\n",
    "        return head.next"
   ]
  },
  {
   "cell_type": "markdown",
   "metadata": {},
   "source": [
    "# Divide and conquer using two way merge - O(nk log k) runtime, O(1) space"
   ]
  },
  {
   "cell_type": "code",
   "execution_count": null,
   "metadata": {},
   "outputs": [],
   "source": [
    "# Definition for singly-linked list.\n",
    "# class ListNode:\n",
    "#     def __init__(self, x):\n",
    "#         self.val = x\n",
    "#         self.next = None\n",
    "\n",
    "class Solution:   \n",
    "    def mergeKLists(self, lists: List[ListNode]) -> ListNode:  \n",
    "        \n",
    "        def merge(lst1, lst2):\n",
    "            dummy = pt = ListNode(-1)\n",
    "            while lst1 and lst2:\n",
    "                if lst1.val < lst2.val:\n",
    "                    pt.next = lst1\n",
    "                    lst1 = lst1.next\n",
    "                else:\n",
    "                    pt.next = lst2\n",
    "                    lst2 = lst2.next\n",
    "                pt = pt.next\n",
    "            \n",
    "            pt.next = lst1 if not lst2 else lst2\n",
    "            return dummy.next\n",
    "        \n",
    "        if not lists:\n",
    "            return None\n",
    "\n",
    "        if len(lists) == 1:\n",
    "            return lists[0]\n",
    "        mid = len(lists)//2\n",
    "\n",
    "        left = self.mergeKLists(lists[:mid])\n",
    "        right = self.mergeKLists(lists[mid:])\n",
    "\n",
    "        \n",
    "        return merge(left, right)"
   ]
  }
 ],
 "metadata": {
  "kernelspec": {
   "display_name": "Python 3",
   "language": "python",
   "name": "python3"
  },
  "language_info": {
   "codemirror_mode": {
    "name": "ipython",
    "version": 3
   },
   "file_extension": ".py",
   "mimetype": "text/x-python",
   "name": "python",
   "nbconvert_exporter": "python",
   "pygments_lexer": "ipython3",
   "version": "3.7.3"
  }
 },
 "nbformat": 4,
 "nbformat_minor": 2
}
