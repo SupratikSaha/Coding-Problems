{
 "cells": [
  {
   "cell_type": "markdown",
   "metadata": {},
   "source": [
    "# Brute force - Merge lists one by one - O(nk^2) runtime, O(1) space"
   ]
  },
  {
   "cell_type": "markdown",
   "metadata": {},
   "source": [
    "# Using a heap and priority queue -  O(nk) runtime, O(nk) space"
   ]
  },
  {
   "cell_type": "code",
   "execution_count": 1,
   "metadata": {},
   "outputs": [],
   "source": [
    "class Solution(object):\n",
    "    def mergeKLists(self, lists):\n",
    "        # Priority queue\n",
    "        from Queue import PriorityQueue\n",
    "        queue = PriorityQueue()\n",
    "        for l in lists:\n",
    "            while l is not None:\n",
    "                queue.put((l.val, l))\n",
    "                l = l.next\n",
    "        p = dummyHead = ListNode(-1)\n",
    "        while queue.qsize() > 0:\n",
    "            p.next = queue.get()[1]\n",
    "            p = p.next\n",
    "        p.next = None\n",
    "        return dummyHead.next"
   ]
  },
  {
   "cell_type": "markdown",
   "metadata": {},
   "source": [
    "# Using hash maps - O(nk) runtime, O(nk) space"
   ]
  },
  {
   "cell_type": "code",
   "execution_count": 2,
   "metadata": {},
   "outputs": [],
   "source": [
    "class Solution(object):    \n",
    "    def mergeKLists(self, lists):\n",
    "        \"\"\"\n",
    "        :type lists: List[ListNode]\n",
    "        :rtype: ListNode\n",
    "        \"\"\"\n",
    "        # sort\n",
    "        v_map = {}\n",
    "        # hash\n",
    "        for l in lists:\n",
    "            while l is not None:\n",
    "                try:\n",
    "                    v_map[l.val].append(l)\n",
    "                except KeyError:\n",
    "                    v_map[l.val] = [l]\n",
    "                l = l.next\n",
    "        head = last = ListNode(-1)\n",
    "        # sort and connect\n",
    "        for k in sorted(v_map.keys()):\n",
    "            for t in v_map[k]:\n",
    "                last.next = t\n",
    "                last = t\n",
    "        last.next = None\n",
    "        return head.next"
   ]
  },
  {
   "cell_type": "markdown",
   "metadata": {},
   "source": [
    "# Heap - O(N logK) runtime, O(K) space, where ‘N’ is the total number of elements in all the ‘K’ input arrays "
   ]
  },
  {
   "cell_type": "code",
   "execution_count": 3,
   "metadata": {},
   "outputs": [],
   "source": [
    "from heapq import *\n",
    "\n",
    "class ListNode:\n",
    "    def __init__(self, value):\n",
    "        self.value = value\n",
    "        self.next = None\n",
    "\n",
    "    # used for the min-heap\n",
    "    def __lt__(self, other):\n",
    "        return self.value < other.value\n",
    "\n",
    "def merge_lists(lists):\n",
    "    minHeap = []\n",
    "\n",
    "    # put the root of each list in the min heap\n",
    "    for root in lists:\n",
    "        if root is not None:\n",
    "            heappush(minHeap, root)\n",
    "\n",
    "    # take the smallest(top) element form the min-heap and add it to the result\n",
    "    # if the top element has a next element add it to the heap\n",
    "    resultHead, resultTail = None, None\n",
    "    while minHeap:\n",
    "        node = heappop(minHeap)\n",
    "        if resultHead is None:\n",
    "            resultHead = resultTail = node\n",
    "        else:\n",
    "            resultTail.next = node\n",
    "            resultTail = resultTail.next\n",
    "\n",
    "        if node.next is not None:\n",
    "            heappush(minHeap, node.next)\n",
    "\n",
    "    return resultHead"
   ]
  },
  {
   "cell_type": "markdown",
   "metadata": {},
   "source": [
    "# Heap without _lt_ - O(N logK) runtime, O(K) space, where ‘N’ is the total number of elements in all the ‘K’ input arrays"
   ]
  },
  {
   "cell_type": "code",
   "execution_count": 4,
   "metadata": {},
   "outputs": [],
   "source": [
    "from heapq import heappush, heappop\n",
    "from typing import List\n",
    "\n",
    "# Definition for singly-linked list.\n",
    "# class ListNode:\n",
    "#     def __init__(self, val=0, next=None):\n",
    "#         self.val = val\n",
    "#         self.next = next\n",
    "\n",
    "class Solution:\n",
    "    def mergeKLists(self, lists: List[ListNode]) -> ListNode:\n",
    "        if not lists or len(lists) == 0:\n",
    "            return None\n",
    "        \n",
    "        minHeap = []\n",
    "        \n",
    "        for list_index, headNode in enumerate(lists):\n",
    "            if headNode:\n",
    "                heappush(minHeap, (headNode.val, list_index))\n",
    "\n",
    "        dummyHead = ListNode(-1)\n",
    "        currNode = dummyHead\n",
    "                \n",
    "        while minHeap:\n",
    "            newNode_val, list_index = heappop(minHeap)\n",
    "            currNode.next = lists[list_index]\n",
    "            currNode = currNode.next\n",
    "            lists[list_index] = lists[list_index].next\n",
    "            \n",
    "            if lists[list_index]:\n",
    "                heappush(minHeap, (lists[list_index].val, list_index))\n",
    "            \n",
    "        return dummyHead.next   "
   ]
  },
  {
   "cell_type": "markdown",
   "metadata": {},
   "source": [
    "# Divide and conquer using two way merge - O(nk log k) runtime, O(1) space"
   ]
  },
  {
   "cell_type": "code",
   "execution_count": 5,
   "metadata": {},
   "outputs": [],
   "source": [
    "# Definition for singly-linked list.\n",
    "# class ListNode:\n",
    "#     def __init__(self, x):\n",
    "#         self.val = x\n",
    "#         self.next = None\n",
    "\n",
    "class Solution:   \n",
    "    def mergeKLists(self, lists: List[ListNode]) -> ListNode:  \n",
    "        \n",
    "        def merge(lst1, lst2):\n",
    "            dummy = pt = ListNode(-1)\n",
    "            while lst1 and lst2:\n",
    "                if lst1.val < lst2.val:\n",
    "                    pt.next = lst1\n",
    "                    lst1 = lst1.next\n",
    "                else:\n",
    "                    pt.next = lst2\n",
    "                    lst2 = lst2.next\n",
    "                pt = pt.next\n",
    "            \n",
    "            pt.next = lst1 if not lst2 else lst2\n",
    "            return dummy.next\n",
    "        \n",
    "        if not lists:\n",
    "            return None\n",
    "\n",
    "        if len(lists) == 1:\n",
    "            return lists[0]\n",
    "        mid = len(lists)//2\n",
    "\n",
    "        left = self.mergeKLists(lists[:mid])\n",
    "        right = self.mergeKLists(lists[mid:])\n",
    "\n",
    "        \n",
    "        return merge(left, right)"
   ]
  }
 ],
 "metadata": {
  "kernelspec": {
   "display_name": "Python 3",
   "language": "python",
   "name": "python3"
  },
  "language_info": {
   "codemirror_mode": {
    "name": "ipython",
    "version": 3
   },
   "file_extension": ".py",
   "mimetype": "text/x-python",
   "name": "python",
   "nbconvert_exporter": "python",
   "pygments_lexer": "ipython3",
   "version": "3.7.3"
  }
 },
 "nbformat": 4,
 "nbformat_minor": 2
}
