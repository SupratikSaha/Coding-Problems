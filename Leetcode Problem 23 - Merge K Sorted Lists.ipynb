{
 "cells": [
  {
   "cell_type": "markdown",
   "metadata": {},
   "source": [
    "# Merge K Sorted Lists"
   ]
  },
  {
   "cell_type": "code",
   "execution_count": null,
   "metadata": {},
   "outputs": [],
   "source": [
    "# Definition for singly-linked list.\n",
    "# class ListNode:\n",
    "#     def __init__(self, x):\n",
    "#         self.val = x\n",
    "#         self.next = None\n",
    "\n",
    "class Solution:   \n",
    "    def mergeKLists(self, lists: List[ListNode]) -> ListNode:  \n",
    "        \n",
    "        def merge(lst1, lst2):\n",
    "            dummy = pt = ListNode(-1)\n",
    "            while lst1 and lst2:\n",
    "                if lst1.val < lst2.val:\n",
    "                    pt.next = lst1\n",
    "                    lst1 = lst1.next\n",
    "                else:\n",
    "                    pt.next = lst2\n",
    "                    lst2 = lst2.next\n",
    "                pt = pt.next\n",
    "            \n",
    "            pt.next = lst1 if not lst2 else lst2\n",
    "            return dummy.next\n",
    "        \n",
    "        if not lists:\n",
    "            return None\n",
    "\n",
    "        if len(lists) == 1:\n",
    "            return lists[0]\n",
    "        mid = len(lists)//2\n",
    "\n",
    "        left = self.mergeKLists(lists[:mid])\n",
    "        right = self.mergeKLists(lists[mid:])\n",
    "\n",
    "        \n",
    "        return merge(left, right)"
   ]
  }
 ],
 "metadata": {
  "kernelspec": {
   "display_name": "Python 3",
   "language": "python",
   "name": "python3"
  },
  "language_info": {
   "codemirror_mode": {
    "name": "ipython",
    "version": 3
   },
   "file_extension": ".py",
   "mimetype": "text/x-python",
   "name": "python",
   "nbconvert_exporter": "python",
   "pygments_lexer": "ipython3",
   "version": "3.7.3"
  }
 },
 "nbformat": 4,
 "nbformat_minor": 2
}
