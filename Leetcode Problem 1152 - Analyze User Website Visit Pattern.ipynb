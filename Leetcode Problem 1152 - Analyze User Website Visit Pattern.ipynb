{
 "cells": [
  {
   "cell_type": "markdown",
   "metadata": {},
   "source": [
    "    Problem Statement.\n",
    "\n",
    "    We are given some website visits: the user with name username[i] visited the website website[i] at time timestamp[i].\n",
    "\n",
    "    A 3-sequence is a list of websites of length 3 sorted in ascending order by the time of their visits.  (The websites in a 3-sequence are not necessarily distinct.)\n",
    "\n",
    "    Find the 3-sequence visited by the largest number of users. If there is more than one solution, return the lexicographically smallest such 3-sequence.\n",
    "\n",
    "\n",
    "\n",
    "    Example 1:\n",
    "\n",
    "    Input: username = [\"joe\",\"joe\",\"joe\",\"james\",\"james\",\"james\",\"james\",\"mary\",\"mary\",\"mary\"], timestamp = [1,2,3,4,5,6,7,8,9,10], website = [\"home\",\"about\",\"career\",\"home\",\"cart\",\"maps\",\"home\",\"home\",\"about\",\"career\"]\n",
    "    Output: [\"home\",\"about\",\"career\"]\n",
    "    Explanation: \n",
    "    The tuples in this example are:\n",
    "    [\"joe\", 1, \"home\"]\n",
    "    [\"joe\", 2, \"about\"]\n",
    "    [\"joe\", 3, \"career\"]\n",
    "    [\"james\", 4, \"home\"]\n",
    "    [\"james\", 5, \"cart\"]\n",
    "    [\"james\", 6, \"maps\"]\n",
    "    [\"james\", 7, \"home\"]\n",
    "    [\"mary\", 8, \"home\"]\n",
    "    [\"mary\", 9, \"about\"]\n",
    "    [\"mary\", 10, \"career\"]\n",
    "    The 3-sequence (\"home\", \"about\", \"career\") was visited at least once by 2 users.\n",
    "    The 3-sequence (\"home\", \"cart\", \"maps\") was visited at least once by 1 user.\n",
    "    The 3-sequence (\"home\", \"cart\", \"home\") was visited at least once by 1 user.\n",
    "    The 3-sequence (\"home\", \"maps\", \"home\") was visited at least once by 1 user.\n",
    "    The 3-sequence (\"cart\", \"maps\", \"home\") was visited at least once by 1 user.\n",
    "\n",
    "\n",
    "\n",
    "    Note:\n",
    "\n",
    "        3 <= N = username.length = timestamp.length = website.length <= 50\n",
    "        1 <= username[i].length <= 10\n",
    "        0 <= timestamp[i] <= 10^9\n",
    "        1 <= website[i].length <= 10\n",
    "        Both username[i] and website[i] contain only lowercase characters.\n",
    "        It is guaranteed that there is at least one user who visited at least 3 websites.\n",
    "        No user visits two websites at the same time."
   ]
  },
  {
   "cell_type": "markdown",
   "metadata": {},
   "source": [
    "# Brute Force - O(N ^ 2) runtime, O(N) space"
   ]
  },
  {
   "cell_type": "code",
   "execution_count": 1,
   "metadata": {},
   "outputs": [],
   "source": [
    "from typing import List\n",
    "from collections import defaultdict\n",
    "\n",
    "class Solution:\n",
    "    def mostVisitedPattern(self, username: List[str], timestamp: List[int], website: List[str]) -> List[str]:\n",
    "        \n",
    "        graph = defaultdict(list)\n",
    "        for u, t, w in sorted(zip(username, timestamp, website)):\n",
    "            graph[u].append(w)\n",
    "        \n",
    "        counter = Counter()\n",
    "        for u, routes in graph.items():\n",
    "            for triple in set(itertools.combinations(routes, 3)):\n",
    "                counter[triple]+=1\n",
    "        \n",
    "        pattern, count = None, 0\n",
    "        for pat, c in counter.items():\n",
    "            if c > count:\n",
    "                pattern = pat\n",
    "                count = c\n",
    "            elif c == count and pattern > pat:\n",
    "                pattern = pat\n",
    "                \n",
    "        return pattern"
   ]
  },
  {
   "cell_type": "markdown",
   "metadata": {},
   "source": [
    "# Same solution with less code - O(N ^ 2) runtime, O(N) space"
   ]
  },
  {
   "cell_type": "code",
   "execution_count": 6,
   "metadata": {},
   "outputs": [],
   "source": [
    "from typing import List\n",
    "from collections import Counter, defaultdict\n",
    "from itertools import combinations\n",
    "\n",
    "class Solution:\n",
    "    def mostVisitedPattern(self, username: List[str], timestamp: List[int], website: List[str]) -> List[str]:\n",
    "        \n",
    "        dp = defaultdict(list)\n",
    "        for t, u, w in sorted(zip(timestamp, username, website)):\n",
    "            dp[u].append(w)\n",
    "        count = sum([Counter(set(combinations(dp[u], 3))) for u in dp], Counter())\n",
    "        return list(min(count, key=lambda k: (-count[k], k)))"
   ]
  },
  {
   "cell_type": "code",
   "execution_count": 7,
   "metadata": {},
   "outputs": [
    {
     "data": {
      "text/plain": [
       "['home', 'about', 'career']"
      ]
     },
     "execution_count": 7,
     "metadata": {},
     "output_type": "execute_result"
    }
   ],
   "source": [
    "instance = Solution()\n",
    "instance.mostVisitedPattern([\"joe\",\"joe\",\"joe\",\"james\",\"james\",\"james\",\"james\",\"mary\",\"mary\",\"mary\"], [1,2,3,4,5,6,7,8,9,10], [\"home\",\"about\",\"career\",\"home\",\"cart\",\"maps\",\"home\",\"home\",\"about\",\"career\"])"
   ]
  }
 ],
 "metadata": {
  "kernelspec": {
   "display_name": "Python 3",
   "language": "python",
   "name": "python3"
  },
  "language_info": {
   "codemirror_mode": {
    "name": "ipython",
    "version": 3
   },
   "file_extension": ".py",
   "mimetype": "text/x-python",
   "name": "python",
   "nbconvert_exporter": "python",
   "pygments_lexer": "ipython3",
   "version": "3.7.3"
  }
 },
 "nbformat": 4,
 "nbformat_minor": 2
}
