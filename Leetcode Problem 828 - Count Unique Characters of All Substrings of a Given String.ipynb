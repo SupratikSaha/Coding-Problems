{
 "cells": [
  {
   "cell_type": "markdown",
   "metadata": {},
   "source": [
    "Problem Statement.\n",
    "\n",
    "Let's define a function countUniqueChars(s) that returns the number of unique characters on s.\n",
    "\n",
    "    For example if s = \"LEETCODE\" then \"L\", \"T\", \"C\", \"O\", \"D\" are the unique characters since they appear only once in s, therefore countUniqueChars(s) = 5.\n",
    "\n",
    "Given a string s, return the sum of countUniqueChars(t) where t is a substring of s.\n",
    "\n",
    "Notice that some substrings can be repeated so in this case you have to count the repeated ones too.\n",
    "\n",
    " \n",
    "\n",
    "Example 1:\n",
    "\n",
    "Input: s = \"ABC\"\n",
    "Output: 10\n",
    "Explanation: All possible substrings are: \"A\",\"B\",\"C\",\"AB\",\"BC\" and \"ABC\".\n",
    "Evey substring is composed with only unique letters.\n",
    "Sum of lengths of all substring is 1 + 1 + 1 + 2 + 2 + 3 = 10\n",
    "\n",
    "Example 2:\n",
    "\n",
    "Input: s = \"ABA\"\n",
    "Output: 8\n",
    "Explanation: The same as example 1, except countUniqueChars(\"ABA\") = 1.\n",
    "\n",
    "Example 3:\n",
    "\n",
    "Input: s = \"LEETCODE\"\n",
    "Output: 92\n",
    "\n",
    " \n",
    "\n",
    "Constraints:\n",
    "\n",
    "    1 <= s.length <= 10^5\n",
    "    s consists of uppercase English letters only."
   ]
  },
  {
   "cell_type": "markdown",
   "metadata": {},
   "source": [
    "# Indexes - O(N) runtime, O(26) space"
   ]
  },
  {
   "cell_type": "code",
   "execution_count": 3,
   "metadata": {},
   "outputs": [],
   "source": [
    "class Solution:\n",
    "    def uniqueLetterString(self, s: str) -> int:\n",
    "        n = len(s)\n",
    "        index = {c: [-1, -1] for c in \"ABCDEFGHIJKLMNOPQRSTUVWXYZ\"}\n",
    "        res = 0\n",
    "        \n",
    "        for i, c in enumerate(s):\n",
    "            k, j = index[c]\n",
    "            res += (i - j) * (j - k)\n",
    "            index[c] = [j, i]\n",
    "            \n",
    "        for c in index:\n",
    "            k, j = index[c]\n",
    "            res += (n - j) * (j - k)\n",
    "            \n",
    "        return res"
   ]
  },
  {
   "cell_type": "code",
   "execution_count": 4,
   "metadata": {},
   "outputs": [
    {
     "data": {
      "text/plain": [
       "92"
      ]
     },
     "execution_count": 4,
     "metadata": {},
     "output_type": "execute_result"
    }
   ],
   "source": [
    "instance = Solution()\n",
    "instance.uniqueLetterString(\"LEETCODE\")"
   ]
  }
 ],
 "metadata": {
  "kernelspec": {
   "display_name": "Python 3",
   "language": "python",
   "name": "python3"
  },
  "language_info": {
   "codemirror_mode": {
    "name": "ipython",
    "version": 3
   },
   "file_extension": ".py",
   "mimetype": "text/x-python",
   "name": "python",
   "nbconvert_exporter": "python",
   "pygments_lexer": "ipython3",
   "version": "3.7.3"
  }
 },
 "nbformat": 4,
 "nbformat_minor": 2
}
