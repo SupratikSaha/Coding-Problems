{
 "cells": [
  {
   "cell_type": "markdown",
   "metadata": {},
   "source": [
    "Problem Statement.\n",
    "\n",
    "Given an integer array nums, reorder it such that nums[0] <= nums[1] >= nums[2] <= nums[3]....\n",
    "\n",
    "You may assume the input array always has a valid answer.\n",
    "\n",
    " \n",
    "\n",
    "Example 1:\n",
    "\n",
    "Input: nums = [3,5,2,1,6,4]\n",
    "Output: [3,5,1,6,2,4]\n",
    "Explanation: [1,6,2,5,3,4] is also accepted.\n",
    "\n",
    "Example 2:\n",
    "\n",
    "Input: nums = [6,6,5,6,3,8]\n",
    "Output: [6,6,5,6,3,8]\n",
    "\n",
    " \n",
    "\n",
    "Constraints:\n",
    "\n",
    "    1 <= nums.length <= 5 * 104\n",
    "    0 <= nums[i] <= 104\n",
    "    It is guaranteed that there will be an answer for the given input nums.\n",
    "\n",
    " \n",
    "Follow up: Could you do it without sorting the array?"
   ]
  },
  {
   "cell_type": "markdown",
   "metadata": {},
   "source": [
    "# Sort and temporary Array - O(N Log N) runtime O(N) space"
   ]
  },
  {
   "cell_type": "code",
   "execution_count": 1,
   "metadata": {},
   "outputs": [],
   "source": [
    "from typing import List\n",
    "from math import ceil\n",
    "\n",
    "class Solution:\n",
    "    def wiggleSort(self, nums: List[int]) -> None:\n",
    "        \"\"\"\n",
    "        Do not return anything, modify nums in-place instead.\n",
    "        \"\"\"\n",
    "        nums.sort()\n",
    "        \n",
    "        n = len(nums)\n",
    "        h = ceil(n / 2)\n",
    "        temp = nums[:]\n",
    "        \n",
    "        i, j = 0, h\n",
    "        idx = 0\n",
    "        while idx < n:\n",
    "            nums[idx] = temp[i]\n",
    "            i += 1\n",
    "            idx += 1\n",
    "            if idx < n: \n",
    "                nums[idx] = temp[h]\n",
    "                h += 1\n",
    "                idx += 1\n",
    "                \n",
    "        return nums"
   ]
  },
  {
   "cell_type": "markdown",
   "metadata": {},
   "source": [
    "# Sort and Swap - O(N Log N) runtime O(N) space"
   ]
  },
  {
   "cell_type": "code",
   "execution_count": 2,
   "metadata": {},
   "outputs": [],
   "source": [
    "from typing import List\n",
    "\n",
    "class Solution:\n",
    "    def wiggleSort(self, nums: List[int]) -> None:\n",
    "        \"\"\"\n",
    "        Do not return anything, modify nums in-place instead.\n",
    "        \"\"\"\n",
    "        nums.sort()\n",
    "        \n",
    "        n = len(nums)\n",
    "        for i in range(1, n-1, 2):\n",
    "            nums[i], nums[i+1] = nums[i+1], nums[i]\n",
    "            \n",
    "        return nums"
   ]
  },
  {
   "cell_type": "markdown",
   "metadata": {},
   "source": [
    "# One Pass Swap - O(N) runtime, O(1) space"
   ]
  },
  {
   "cell_type": "code",
   "execution_count": 3,
   "metadata": {},
   "outputs": [],
   "source": [
    "from typing import List\n",
    "\n",
    "class Solution:\n",
    "    def wiggleSort(self, nums: List[int]) -> None:\n",
    "        \"\"\"\n",
    "        Do not return anything, modify nums in-place instead.\n",
    "        \"\"\"\n",
    "        nums.sort()\n",
    "        \n",
    "        n = len(nums)\n",
    "        for i in range(n-1):\n",
    "            if ((i % 2 == 0) == (nums[i] > nums[i + 1])):\n",
    "                nums[i], nums[i+1] = nums[i+1], nums[i]\n",
    "                \n",
    "        return nums"
   ]
  },
  {
   "cell_type": "code",
   "execution_count": 4,
   "metadata": {},
   "outputs": [
    {
     "data": {
      "text/plain": [
       "[1, 3, 2, 5, 4, 6]"
      ]
     },
     "execution_count": 4,
     "metadata": {},
     "output_type": "execute_result"
    }
   ],
   "source": [
    "instance = Solution()\n",
    "instance.wiggleSort([3,5,2,1,6,4])"
   ]
  }
 ],
 "metadata": {
  "kernelspec": {
   "display_name": "Python 3",
   "language": "python",
   "name": "python3"
  },
  "language_info": {
   "codemirror_mode": {
    "name": "ipython",
    "version": 3
   },
   "file_extension": ".py",
   "mimetype": "text/x-python",
   "name": "python",
   "nbconvert_exporter": "python",
   "pygments_lexer": "ipython3",
   "version": "3.7.3"
  }
 },
 "nbformat": 4,
 "nbformat_minor": 2
}
