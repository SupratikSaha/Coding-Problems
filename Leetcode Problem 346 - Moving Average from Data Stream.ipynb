{
 "cells": [
  {
   "cell_type": "markdown",
   "metadata": {},
   "source": [
    "Problem Statement. <br/>\n",
    "\n",
    "Given a stream of integers and a window size, calculate the moving average of all integers in the sliding window. <br/>\n",
    "Implement the MovingAverage class: <br/>\n",
    "\n",
    "    MovingAverage(int size) Initializes the object with the size of the window size.\n",
    "    double next(int val) Returns the moving average of the last size values of the stream.\n",
    "\n",
    "Example 1: <br/>\n",
    "Input: <br/>\n",
    "[\"MovingAverage\", \"next\", \"next\", \"next\", \"next\"] <br/>\n",
    "[[3], [1], [10], [3], [5]] <br/>\n",
    "Output <br/>\n",
    "[null, 1.0, 5.5, 4.66667, 6.0] <br/>\n",
    "\n",
    "Explanation <br/>\n",
    "MovingAverage movingAverage = new MovingAverage(3); <br/>\n",
    "movingAverage.next(1); // return 1.0 = 1 / 1 <br/>\n",
    "movingAverage.next(10); // return 5.5 = (1 + 10) / 2 <br/>\n",
    "movingAverage.next(3); // return 4.66667 = (1 + 10 + 3) / 3 <br/>\n",
    "movingAverage.next(5); // return 6.0 = (10 + 3 + 5) / 3"
   ]
  },
  {
   "cell_type": "markdown",
   "metadata": {},
   "source": [
    "# Double Ended Queue - O(1) runtime, O(N) space"
   ]
  },
  {
   "cell_type": "code",
   "execution_count": 1,
   "metadata": {},
   "outputs": [],
   "source": [
    "from collections import deque\n",
    "\n",
    "class MovingAverage:\n",
    "\n",
    "    def __init__(self, size: int):\n",
    "        \"\"\"\n",
    "        Initialize your data structure here.\n",
    "        \"\"\"\n",
    "        self.size = size\n",
    "        self.queue = deque()\n",
    "        self.sum = 0\n",
    "        self.count = 0\n",
    "        \n",
    "\n",
    "    def next(self, val: int) -> float:\n",
    "        self.queue.append(val)\n",
    "        \n",
    "        if self.count < self.size:\n",
    "            self.sum += val\n",
    "            self.count += 1\n",
    "        else:\n",
    "            self.sum += val - self.queue.popleft()\n",
    "            \n",
    "        return self.sum/self.count"
   ]
  },
  {
   "cell_type": "markdown",
   "metadata": {},
   "source": [
    "# Circular Queue - O(1) runtime, O(N) space"
   ]
  },
  {
   "cell_type": "code",
   "execution_count": 2,
   "metadata": {},
   "outputs": [],
   "source": [
    "class MovingAverage:\n",
    "    def __init__(self, size: int):\n",
    "        self.size = size\n",
    "        self.queue = [0] * self.size\n",
    "        self.head = self.window_sum = 0\n",
    "        # number of elements seen so far\n",
    "        self.count = 0\n",
    "\n",
    "    def next(self, val: int) -> float:\n",
    "        self.count += 1\n",
    "        # calculate the new sum by shifting the window\n",
    "        self.head = (self.head + 1) % self.size\n",
    "        self.window_sum = self.window_sum - self.queue[self.head] + val\n",
    "        # move on to the next head\n",
    "        self.queue[self.head] = val\n",
    "        return self.window_sum / min(self.size, self.count)"
   ]
  },
  {
   "cell_type": "code",
   "execution_count": 3,
   "metadata": {},
   "outputs": [
    {
     "name": "stdout",
     "output_type": "stream",
     "text": [
      "1.0\n",
      "5.5\n",
      "4.666666666666667\n",
      "6.0\n"
     ]
    }
   ],
   "source": [
    "instance = MovingAverage(3)\n",
    "print(instance.next(1))\n",
    "print(instance.next(10))\n",
    "print(instance.next(3))\n",
    "print(instance.next(5))"
   ]
  }
 ],
 "metadata": {
  "kernelspec": {
   "display_name": "Python 3",
   "language": "python",
   "name": "python3"
  },
  "language_info": {
   "codemirror_mode": {
    "name": "ipython",
    "version": 3
   },
   "file_extension": ".py",
   "mimetype": "text/x-python",
   "name": "python",
   "nbconvert_exporter": "python",
   "pygments_lexer": "ipython3",
   "version": "3.7.3"
  }
 },
 "nbformat": 4,
 "nbformat_minor": 2
}
