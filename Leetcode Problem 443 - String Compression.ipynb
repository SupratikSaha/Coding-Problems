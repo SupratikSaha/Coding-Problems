{
 "cells": [
  {
   "cell_type": "markdown",
   "metadata": {},
   "source": [
    "    Problem Statement.\n",
    "\n",
    "    Given an array of characters chars, compress it using the following algorithm:\n",
    "\n",
    "    Begin with an empty string s. For each group of consecutive repeating characters in chars:\n",
    "\n",
    "        If the group's length is 1, append the character to s.\n",
    "        Otherwise, append the character followed by the group's length.\n",
    "\n",
    "    The compressed string s should not be returned separately, but instead be stored in the input character array chars. Note that group lengths that are 10 or longer will be split into multiple characters in chars.\n",
    "\n",
    "    After you are done modifying the input array, return the new length of the array.\n",
    "\n",
    "\n",
    "    Follow up:\n",
    "    Could you solve it using only O(1) extra space?\n",
    "\n",
    "\n",
    "\n",
    "    Example 1:\n",
    "\n",
    "    Input: chars = [\"a\",\"a\",\"b\",\"b\",\"c\",\"c\",\"c\"]\n",
    "    Output: Return 6, and the first 6 characters of the input array should be: [\"a\",\"2\",\"b\",\"2\",\"c\",\"3\"]\n",
    "    Explanation: The groups are \"aa\", \"bb\", and \"ccc\". This compresses to \"a2b2c3\".\n",
    "\n",
    "    Example 2:\n",
    "\n",
    "    Input: chars = [\"a\"]\n",
    "    Output: Return 1, and the first character of the input array should be: [\"a\"]\n",
    "    Explanation: The only group is \"a\", which remains uncompressed since it's a single character.\n",
    "\n",
    "    Example 3:\n",
    "\n",
    "    Input: chars = [\"a\",\"b\",\"b\",\"b\",\"b\",\"b\",\"b\",\"b\",\"b\",\"b\",\"b\",\"b\",\"b\"]\n",
    "    Output: Return 4, and the first 4 characters of the input array should be: [\"a\",\"b\",\"1\",\"2\"].\n",
    "    Explanation: The groups are \"a\" and \"bbbbbbbbbbbb\". This compresses to \"ab12\".\n",
    "\n",
    "    Example 4:\n",
    "\n",
    "    Input: chars = [\"a\",\"a\",\"a\",\"b\",\"b\",\"a\",\"a\"]\n",
    "    Output: Return 6, and the first 6 characters of the input array should be: [\"a\",\"3\",\"b\",\"2\",\"a\",\"2\"].\n",
    "    Explanation: The groups are \"aaa\", \"bb\", and \"aa\". This compresses to \"a3b2a2\". Note that each group is independent even if two groups have the same character.\n",
    "\n",
    "\n",
    "\n",
    "    Constraints:\n",
    "\n",
    "        1 <= chars.length <= 2000\n",
    "        chars[i] is a lower-case English letter, upper-case English letter, digit, or symbol."
   ]
  },
  {
   "cell_type": "markdown",
   "metadata": {},
   "source": [
    "# Two Pointers - O(N) runtime, O(1) space"
   ]
  },
  {
   "cell_type": "code",
   "execution_count": 1,
   "metadata": {},
   "outputs": [],
   "source": [
    "from typing import List\n",
    "\n",
    "class Solution:\n",
    "    def compress(self, chars: List[str]) -> int:\n",
    "        i, ptr = 0, 0 \n",
    "        while i < len(chars):\n",
    "            char = chars[i]\n",
    "            \n",
    "            count = 1\n",
    "            while i < len(chars) - 1 and chars[i+1] == char:\n",
    "                i += 1\n",
    "                count += 1\n",
    "            i += 1\n",
    "            \n",
    "            chars[ptr] = char\n",
    "            ptr += 1\n",
    "            \n",
    "            if count > 1:\n",
    "                for num in str(count):\n",
    "                    chars[ptr] = str(num)\n",
    "                    ptr += 1\n",
    "                    \n",
    "        chars[ptr:] = ''\n",
    "        return ptr+1"
   ]
  },
  {
   "cell_type": "markdown",
   "metadata": {},
   "source": [
    "# Simpler Two Pointers - O(N) runtime, O(1) space"
   ]
  },
  {
   "cell_type": "code",
   "execution_count": 3,
   "metadata": {},
   "outputs": [],
   "source": [
    "from typing import List\n",
    "\n",
    "class Solution:\n",
    "    def compress(self, chars: List[str]) -> int:\n",
    "        anchor = write = 0\n",
    "        for read, c in enumerate(chars):\n",
    "            if read + 1 == len(chars) or chars[read + 1] != c:\n",
    "                chars[write] = chars[anchor]\n",
    "                write += 1\n",
    "                if read > anchor:\n",
    "                    for digit in str(read - anchor + 1):\n",
    "                        chars[write] = digit\n",
    "                        write += 1\n",
    "                anchor = read + 1\n",
    "        return write"
   ]
  },
  {
   "cell_type": "code",
   "execution_count": 4,
   "metadata": {},
   "outputs": [
    {
     "data": {
      "text/plain": [
       "4"
      ]
     },
     "execution_count": 4,
     "metadata": {},
     "output_type": "execute_result"
    }
   ],
   "source": [
    "instance = Solution()\n",
    "instance.compress([\"a\",\"b\",\"b\",\"b\",\"b\",\"b\",\"b\",\"b\",\"b\",\"b\",\"b\",\"b\",\"b\"])"
   ]
  }
 ],
 "metadata": {
  "kernelspec": {
   "display_name": "Python 3",
   "language": "python",
   "name": "python3"
  },
  "language_info": {
   "codemirror_mode": {
    "name": "ipython",
    "version": 3
   },
   "file_extension": ".py",
   "mimetype": "text/x-python",
   "name": "python",
   "nbconvert_exporter": "python",
   "pygments_lexer": "ipython3",
   "version": "3.7.3"
  }
 },
 "nbformat": 4,
 "nbformat_minor": 2
}
