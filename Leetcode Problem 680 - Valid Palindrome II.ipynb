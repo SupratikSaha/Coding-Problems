{
 "cells": [
  {
   "cell_type": "markdown",
   "metadata": {},
   "source": [
    "    Problem Statement.\n",
    "\n",
    "    Given a non-empty string s, you may delete at most one character. Judge whether you can make it a palindrome.\n",
    "\n",
    "    Example 1:\n",
    "\n",
    "    Input: \"aba\"\n",
    "    Output: True\n",
    "\n",
    "    Example 2:\n",
    "\n",
    "    Input: \"abca\"\n",
    "    Output: True\n",
    "    Explanation: You could delete the character 'c'.\n",
    "\n",
    "    Note:\n",
    "\n",
    "        The string will only contain lowercase characters a-z. The maximum length of the string is 50000."
   ]
  },
  {
   "cell_type": "markdown",
   "metadata": {},
   "source": [
    "# Greedy - O(N) runtime, O(1)  space"
   ]
  },
  {
   "cell_type": "code",
   "execution_count": 2,
   "metadata": {},
   "outputs": [],
   "source": [
    "class Solution:\n",
    "    def validPalindrome(self, s: str) -> bool:\n",
    "        return self.validPalindromeRecursive(s, 0, len(s) - 1, False)\n",
    "    \n",
    "    def validPalindromeRecursive(self, s: str, l, r, oneCharRemoved: bool) -> bool:\n",
    "        \n",
    "        while l <= r:\n",
    "            if s[l] == s[r]:\n",
    "                l +=1\n",
    "                r -= 1\n",
    "                continue\n",
    "            \n",
    "            if oneCharRemoved: return False\n",
    "            \n",
    "            return self.validPalindromeRecursive(s, l+1, r, True) or self.validPalindromeRecursive(s, l, r-1, True)\n",
    "        \n",
    "        return True"
   ]
  },
  {
   "cell_type": "markdown",
   "metadata": {},
   "source": [
    "# Simpler Greedy - O(N) runtime, O(1) space"
   ]
  },
  {
   "cell_type": "code",
   "execution_count": 4,
   "metadata": {},
   "outputs": [],
   "source": [
    "class Solution:\n",
    "    def validPalindrome(self, s: str) -> bool:\n",
    "        def is_pali_range(i, j):\n",
    "            return all(s[k] == s[j-k+i] for k in range(i, j))\n",
    "\n",
    "        for i in range(len(s) // 2):\n",
    "            if s[i] != s[~i]:\n",
    "                j = len(s) - 1 - i\n",
    "                return is_pali_range(i+1, j) or is_pali_range(i, j-1)\n",
    "        return True"
   ]
  },
  {
   "cell_type": "code",
   "execution_count": 5,
   "metadata": {},
   "outputs": [
    {
     "data": {
      "text/plain": [
       "True"
      ]
     },
     "execution_count": 5,
     "metadata": {},
     "output_type": "execute_result"
    }
   ],
   "source": [
    "instance = Solution()\n",
    "instance.validPalindrome(\"abca\")"
   ]
  }
 ],
 "metadata": {
  "kernelspec": {
   "display_name": "Python 3",
   "language": "python",
   "name": "python3"
  },
  "language_info": {
   "codemirror_mode": {
    "name": "ipython",
    "version": 3
   },
   "file_extension": ".py",
   "mimetype": "text/x-python",
   "name": "python",
   "nbconvert_exporter": "python",
   "pygments_lexer": "ipython3",
   "version": "3.7.3"
  }
 },
 "nbformat": 4,
 "nbformat_minor": 2
}
