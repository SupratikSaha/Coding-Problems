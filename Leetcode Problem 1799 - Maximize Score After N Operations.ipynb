{
 "cells": [
  {
   "cell_type": "markdown",
   "metadata": {},
   "source": [
    "Problem Statement.\n",
    "\n",
    "You are given nums, an array of positive integers of size 2 * n. You must perform n operations on this array.\n",
    "\n",
    "In the ith operation (1-indexed), you will:\n",
    "\n",
    "    Choose two elements, x and y.\n",
    "    Receive a score of i * gcd(x, y).\n",
    "    Remove x and y from nums.\n",
    "\n",
    "Return the maximum score you can receive after performing n operations.\n",
    "\n",
    "The function gcd(x, y) is the greatest common divisor of x and y.\n",
    "\n",
    " \n",
    "\n",
    "Example 1:\n",
    "\n",
    "Input: nums = [1,2]\n",
    "Output: 1\n",
    "Explanation: The optimal choice of operations is:\n",
    "(1 * gcd(1, 2)) = 1\n",
    "\n",
    "Example 2:\n",
    "\n",
    "Input: nums = [3,4,6,8]\n",
    "Output: 11\n",
    "Explanation: The optimal choice of operations is:\n",
    "(1 * gcd(3, 6)) + (2 * gcd(4, 8)) = 3 + 8 = 11\n",
    "\n",
    "Example 3:\n",
    "\n",
    "Input: nums = [1,2,3,4,5,6]\n",
    "Output: 14\n",
    "Explanation: The optimal choice of operations is:\n",
    "(1 * gcd(1, 5)) + (2 * gcd(2, 4)) + (3 * gcd(3, 6)) = 1 + 4 + 9 = 14\n",
    "\n",
    " \n",
    "\n",
    "Constraints:\n",
    "\n",
    "    1 <= n <= 7\n",
    "    nums.length == 2 * n\n",
    "    1 <= nums[i] <= 106"
   ]
  },
  {
   "cell_type": "markdown",
   "metadata": {},
   "source": [
    "# DP with memo - O(N ^ 5) runtime, O(N ^ 3) space"
   ]
  },
  {
   "cell_type": "code",
   "execution_count": 5,
   "metadata": {},
   "outputs": [],
   "source": [
    "from typing import List\n",
    "from math import gcd\n",
    "\n",
    "class Solution:\n",
    "    def maxScore(self, nums: List[int]) -> int:\n",
    "        n = len(nums)\n",
    "        nums.sort()\n",
    "        memo = {}\n",
    "\n",
    "        def dp(t, i):\n",
    "            if i == n//2+1:\n",
    "                return 0\n",
    "            if (t, i) not in memo:\n",
    "                array, memo[t, i], size = list(t), 0, len(t)\n",
    "                for a in range(size-1):\n",
    "                    for b in range(a+1, size):\n",
    "                        new = array[:a] + array[a+1:b] + array[b+1:]\n",
    "                        res = (i+1) * gcd(array[a], array[b])\n",
    "                        memo[t, i] = max(memo[t, i],\n",
    "                                dp(tuple(new), i+1) + res)\n",
    "            return memo[t, i]\n",
    "\n",
    "        return dp(tuple(nums), 0)"
   ]
  },
  {
   "cell_type": "code",
   "execution_count": 6,
   "metadata": {},
   "outputs": [
    {
     "data": {
      "text/plain": [
       "14"
      ]
     },
     "execution_count": 6,
     "metadata": {},
     "output_type": "execute_result"
    }
   ],
   "source": [
    "instance = Solution()\n",
    "instance.maxScore([1,2,3,4,5,6])"
   ]
  }
 ],
 "metadata": {
  "kernelspec": {
   "display_name": "Python 3",
   "language": "python",
   "name": "python3"
  },
  "language_info": {
   "codemirror_mode": {
    "name": "ipython",
    "version": 3
   },
   "file_extension": ".py",
   "mimetype": "text/x-python",
   "name": "python",
   "nbconvert_exporter": "python",
   "pygments_lexer": "ipython3",
   "version": "3.7.3"
  }
 },
 "nbformat": 4,
 "nbformat_minor": 2
}
