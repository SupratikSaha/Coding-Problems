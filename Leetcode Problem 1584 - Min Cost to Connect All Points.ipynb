{
 "cells": [
  {
   "cell_type": "markdown",
   "metadata": {},
   "source": [
    "Problem Statement.\n",
    "\n",
    "You are given an array points representing integer coordinates of some points on a 2D-plane, where points[i] = [xi, yi].\n",
    "\n",
    "The cost of connecting two points [xi, yi] and [xj, yj] is the manhattan distance between them: |xi - xj| + |yi - yj|, where |val| denotes the absolute value of val.\n",
    "\n",
    "Return the minimum cost to make all points connected. All points are connected if there is exactly one simple path between any two points.\n",
    "\n",
    " \n",
    "\n",
    "Example 1:\n",
    "\n",
    "Input: points = [[0,0],[2,2],[3,10],[5,2],[7,0]]\n",
    "Output: 20\n",
    "Explanation:\n",
    "\n",
    "We can connect the points as shown above to get the minimum cost of 20.\n",
    "Notice that there is a unique path between every pair of points.\n",
    "\n",
    "Example 2:\n",
    "\n",
    "Input: points = [[3,12],[-2,5],[-4,1]]\n",
    "Output: 18\n",
    "\n",
    "Example 3:\n",
    "\n",
    "Input: points = [[0,0],[1,1],[1,0],[-1,1]]\n",
    "Output: 4\n",
    "\n",
    "Example 4:\n",
    "\n",
    "Input: points = [[-1000000,-1000000],[1000000,1000000]]\n",
    "Output: 4000000\n",
    "\n",
    "Example 5:\n",
    "\n",
    "Input: points = [[0,0]]\n",
    "Output: 0\n",
    "\n",
    " \n",
    "\n",
    "Constraints:\n",
    "\n",
    "    1 <= points.length <= 1000\n",
    "    -10^6 <= xi, yi <= 10^6\n",
    "    All pairs (xi, yi) are distinct."
   ]
  },
  {
   "cell_type": "markdown",
   "metadata": {},
   "source": [
    "# Union Find - O(E * Log E) runtime, O(E + V) space"
   ]
  },
  {
   "cell_type": "code",
   "execution_count": 1,
   "metadata": {},
   "outputs": [],
   "source": [
    "from typing import List\n",
    "\n",
    "class Solution:\n",
    "    def minCostConnectPoints(self, points: List[List[int]]) -> int:\n",
    "        n = len(points)\n",
    "        edges = []\n",
    "\n",
    "        for i in range(n):\n",
    "            for j in range(i+1, n):\n",
    "                d = abs(points[i][0] - points[j][0]) + abs(points[i][1] - points[j][1])\n",
    "                edges.append((d, i, j))\n",
    "        \n",
    "        edges.sort()\n",
    "        \n",
    "        roots = [i for i in range(n)]\n",
    "        \n",
    "        def find(v):\n",
    "            if roots[v] != v:\n",
    "                roots[v] = find(roots[v])\n",
    "            return roots[v]\n",
    "        \n",
    "        def union(u, v):\n",
    "            p1 = find(u); p2 = find(v)\n",
    "            if p1 != p2:\n",
    "                roots[p2] = roots[p1]\n",
    "                return True\n",
    "            return False\n",
    "        \n",
    "        res = 0\n",
    "        for d, u, v in edges:\n",
    "            if union(u, v):\n",
    "                res += d\n",
    "        return res"
   ]
  },
  {
   "cell_type": "markdown",
   "metadata": {},
   "source": [
    "# Faster Heap and Set - O(E * Log E) runtime, O(E + V) space"
   ]
  },
  {
   "cell_type": "code",
   "execution_count": 5,
   "metadata": {},
   "outputs": [],
   "source": [
    "from typing import List\n",
    "from heapq import heappush, heappop\n",
    "\n",
    "class Solution:\n",
    "    def minCostConnectPoints(self, points: List[List[int]]) -> int:\n",
    "        manhattan = lambda p1, p2: abs(p1[0]-p2[0]) + abs(p1[1]-p2[1])\n",
    "        \n",
    "        ans, n = 0, len(points)\n",
    "        seen = set()\n",
    "        vertices = [(0, (0, 0))]\n",
    "        \n",
    "        while len(seen) < n:\n",
    "            w, (u, v) = heappop(vertices)            \n",
    "            if v in seen: continue\n",
    "            ans += w\n",
    "            seen.add(v)\n",
    "            for j in range(n):\n",
    "                if j not in seen and j != v:\n",
    "                    heappush(vertices, (manhattan(points[j], points[v]), (v, j)))\n",
    "                    \n",
    "        return ans"
   ]
  },
  {
   "cell_type": "code",
   "execution_count": 6,
   "metadata": {},
   "outputs": [
    {
     "data": {
      "text/plain": [
       "4000000"
      ]
     },
     "execution_count": 6,
     "metadata": {},
     "output_type": "execute_result"
    }
   ],
   "source": [
    "instance = Solution()\n",
    "instance.minCostConnectPoints([[-1000000,-1000000],[1000000,1000000]])"
   ]
  }
 ],
 "metadata": {
  "kernelspec": {
   "display_name": "Python 3",
   "language": "python",
   "name": "python3"
  },
  "language_info": {
   "codemirror_mode": {
    "name": "ipython",
    "version": 3
   },
   "file_extension": ".py",
   "mimetype": "text/x-python",
   "name": "python",
   "nbconvert_exporter": "python",
   "pygments_lexer": "ipython3",
   "version": "3.7.3"
  }
 },
 "nbformat": 4,
 "nbformat_minor": 2
}
