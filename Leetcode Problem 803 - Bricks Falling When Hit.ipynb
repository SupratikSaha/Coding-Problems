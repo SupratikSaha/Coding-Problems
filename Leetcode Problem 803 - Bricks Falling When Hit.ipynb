{
 "cells": [
  {
   "cell_type": "markdown",
   "metadata": {},
   "source": [
    "Problem Statement.\n",
    "\n",
    "You are given an m x n binary grid, where each 1 represents a brick and 0 represents an empty space. A brick is stable if:\n",
    "\n",
    "    It is directly connected to the top of the grid, or\n",
    "    At least one other brick in its four adjacent cells is stable.\n",
    "\n",
    "You are also given an array hits, which is a sequence of erasures we want to apply. Each time we want to erase the brick at the location hits[i] = (rowi, coli). The brick on that location (if it exists) will disappear. Some other bricks may no longer be stable because of that erasure and will fall. Once a brick falls, it is immediately erased from the grid (i.e., it does not land on other stable bricks).\n",
    "\n",
    "Return an array result, where each result[i] is the number of bricks that will fall after the ith erasure is applied.\n",
    "\n",
    "Note that an erasure may refer to a location with no brick, and if it does, no bricks drop.\n",
    "\n",
    " \n",
    "\n",
    "Example 1:\n",
    "\n",
    "Input: grid = [[1,0,0,0],[1,1,1,0]], hits = [[1,0]]\n",
    "Output: [2]\n",
    "Explanation: Starting with the grid:\n",
    "[[1,0,0,0],\n",
    " [1,1,1,0]]\n",
    "We erase the underlined brick at (1,0), resulting in the grid:\n",
    "[[1,0,0,0],\n",
    " [0,1,1,0]]\n",
    "The two underlined bricks are no longer stable as they are no longer connected to the top nor adjacent to another stable brick, so they will fall. The resulting grid is:\n",
    "[[1,0,0,0],\n",
    " [0,0,0,0]]\n",
    "Hence the result is [2].\n",
    "\n",
    "Example 2:\n",
    "\n",
    "Input: grid = [[1,0,0,0],[1,1,0,0]], hits = [[1,1],[1,0]]\n",
    "Output: [0,0]\n",
    "Explanation: Starting with the grid:\n",
    "[[1,0,0,0],\n",
    " [1,1,0,0]]\n",
    "We erase the underlined brick at (1,1), resulting in the grid:\n",
    "[[1,0,0,0],\n",
    " [1,0,0,0]]\n",
    "All remaining bricks are still stable, so no bricks fall. The grid remains the same:\n",
    "[[1,0,0,0],\n",
    " [1,0,0,0]]\n",
    "Next, we erase the underlined brick at (1,0), resulting in the grid:\n",
    "[[1,0,0,0],\n",
    " [0,0,0,0]]\n",
    "Once again, all remaining bricks are still stable, so no bricks fall.\n",
    "Hence the result is [0,0].\n",
    "\n",
    " \n",
    "\n",
    "Constraints:\n",
    "\n",
    "    m == grid.length\n",
    "    n == grid[i].length\n",
    "    1 <= m, n <= 200\n",
    "    grid[i][j] is 0 or 1.\n",
    "    1 <= hits.length <= 4 * 104\n",
    "    hits[i].length == 2\n",
    "    0 <= xi <= m - 1\n",
    "    0 <= yi <= n - 1\n",
    "    All (xi, yi) are unique."
   ]
  },
  {
   "cell_type": "markdown",
   "metadata": {},
   "source": [
    "# Reverse Parse DFS - O(H + M*N) runtime, O(M * N) space"
   ]
  },
  {
   "cell_type": "code",
   "execution_count": 1,
   "metadata": {},
   "outputs": [],
   "source": [
    "from typing import List\n",
    "\n",
    "class Solution:\n",
    "    def hitBricks(self, grid: List[List[int]], hits: List[List[int]]) -> List[int]:\n",
    "        m, n = len(grid), len(grid[0])\n",
    "        \n",
    "        def dfs(i, j):\n",
    "            if not (0<=i<m and 0<=j<n) or grid[i][j]!=1:\n",
    "                return 0\n",
    "            ret = 1\n",
    "            grid[i][j] = 2\n",
    "            ret += sum(dfs(x, y) for x, y in [(i-1, j), (i+1, j), (i, j-1), (i, j+1)])\n",
    "            return ret\n",
    "        \n",
    "        # Check whether (i, j) is connected to Not Falling Bricks\n",
    "        def is_connected(i, j):\n",
    "            return i==0 or any([0<=x<m and 0<=y<n and grid[x][y]==2 for x, y in [(i-1, j), (i+1, j), (i, j-1), (i, j+1)]])\n",
    "        \n",
    "        # Mark whether there is a brick at the each hit\n",
    "        for i, j in hits:\n",
    "            grid[i][j] -= 1\n",
    "                \n",
    "        # Get grid after all hits\n",
    "        for i in range(n):\n",
    "            dfs(0, i)\n",
    "        \n",
    "        # Reversely add the block of each hits and get count of newly add bricks\n",
    "        ret = [0]*len(hits)\n",
    "        for k in reversed(range(len(hits))):\n",
    "            i, j = hits[k]\n",
    "            grid[i][j] += 1\n",
    "            if grid[i][j]==1 and is_connected(i, j):\n",
    "                ret[k] = dfs(i, j)-1\n",
    "            \n",
    "        return ret"
   ]
  },
  {
   "cell_type": "code",
   "execution_count": 2,
   "metadata": {},
   "outputs": [
    {
     "data": {
      "text/plain": [
       "[0, 0]"
      ]
     },
     "execution_count": 2,
     "metadata": {},
     "output_type": "execute_result"
    }
   ],
   "source": [
    "instance = Solution()\n",
    "instance.hitBricks([[1,0,0,0],[1,1,0,0]], [[1,1],[1,0]])"
   ]
  }
 ],
 "metadata": {
  "kernelspec": {
   "display_name": "Python 3",
   "language": "python",
   "name": "python3"
  },
  "language_info": {
   "codemirror_mode": {
    "name": "ipython",
    "version": 3
   },
   "file_extension": ".py",
   "mimetype": "text/x-python",
   "name": "python",
   "nbconvert_exporter": "python",
   "pygments_lexer": "ipython3",
   "version": "3.7.3"
  }
 },
 "nbformat": 4,
 "nbformat_minor": 2
}
