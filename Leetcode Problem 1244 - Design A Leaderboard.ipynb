{
 "cells": [
  {
   "cell_type": "markdown",
   "metadata": {},
   "source": [
    "Problem Statement.\n",
    "\n",
    "Design a Leaderboard class, which has 3 functions:\n",
    "\n",
    "    addScore(playerId, score): Update the leaderboard by adding score to the given player's score. If there is no player with such id in the leaderboard, add him to the leaderboard with the given score.\n",
    "    top(K): Return the score sum of the top K players.\n",
    "    reset(playerId): Reset the score of the player with the given id to 0 (in other words erase it from the leaderboard). It is guaranteed that the player was added to the leaderboard before calling this function.\n",
    "\n",
    "Initially, the leaderboard is empty.\n",
    "\n",
    " \n",
    "\n",
    "Example 1:\n",
    "\n",
    "Input: \n",
    "[\"Leaderboard\",\"addScore\",\"addScore\",\"addScore\",\"addScore\",\"addScore\",\"top\",\"reset\",\"reset\",\"addScore\",\"top\"]\n",
    "[[],[1,73],[2,56],[3,39],[4,51],[5,4],[1],[1],[2],[2,51],[3]]\n",
    "Output: \n",
    "[null,null,null,null,null,null,73,null,null,null,141]\n",
    "\n",
    "Explanation: \n",
    "Leaderboard leaderboard = new Leaderboard ();\n",
    "leaderboard.addScore(1,73);   // leaderboard = [[1,73]];\n",
    "leaderboard.addScore(2,56);   // leaderboard = [[1,73],[2,56]];\n",
    "leaderboard.addScore(3,39);   // leaderboard = [[1,73],[2,56],[3,39]];\n",
    "leaderboard.addScore(4,51);   // leaderboard = [[1,73],[2,56],[3,39],[4,51]];\n",
    "leaderboard.addScore(5,4);    // leaderboard = [[1,73],[2,56],[3,39],[4,51],[5,4]];\n",
    "leaderboard.top(1);           // returns 73;\n",
    "leaderboard.reset(1);         // leaderboard = [[2,56],[3,39],[4,51],[5,4]];\n",
    "leaderboard.reset(2);         // leaderboard = [[3,39],[4,51],[5,4]];\n",
    "leaderboard.addScore(2,51);   // leaderboard = [[2,51],[3,39],[4,51],[5,4]];\n",
    "leaderboard.top(3);           // returns 141 = 51 + 51 + 39;\n",
    "\n",
    " \n",
    "\n",
    "Constraints:\n",
    "\n",
    "    1 <= playerId, K <= 10000\n",
    "    It's guaranteed that K is less than or equal to the current number of players.\n",
    "    1 <= score <= 100\n",
    "    There will be at most 1000 function calls."
   ]
  },
  {
   "cell_type": "markdown",
   "metadata": {},
   "source": [
    "# Sort - O(N * Log N) top, O(1) addScore and reset runtime, O(N) space"
   ]
  },
  {
   "cell_type": "code",
   "execution_count": 1,
   "metadata": {},
   "outputs": [],
   "source": [
    "from collections import defaultdict\n",
    "\n",
    "class Leaderboard:\n",
    "\n",
    "    def __init__(self):\n",
    "        self.playerDict = defaultdict(int) \n",
    "\n",
    "    def addScore(self, playerId: int, score: int) -> None:\n",
    "        self.playerDict[playerId] += score\n",
    "\n",
    "    def top(self, K: int) -> int:\n",
    "        return sum(sorted(list(self.playerDict.values()), reverse=True)[:K])\n",
    "\n",
    "    def reset(self, playerId: int) -> None:\n",
    "        self.playerDict[playerId] = 0"
   ]
  },
  {
   "cell_type": "markdown",
   "metadata": {},
   "source": [
    "# Heap - O(K + N * Log K) top, O(1) addScore and reset runtime, O(N + K) space"
   ]
  },
  {
   "cell_type": "code",
   "execution_count": 2,
   "metadata": {},
   "outputs": [],
   "source": [
    "from collections import defaultdict\n",
    "from heapq import heappush, heappop\n",
    "\n",
    "class Leaderboard:\n",
    "\n",
    "    def __init__(self):\n",
    "        self.playerDict = defaultdict(int) \n",
    "\n",
    "    def addScore(self, playerId: int, score: int) -> None:\n",
    "        self.playerDict[playerId] += score\n",
    "\n",
    "    def top(self, K: int) -> int:\n",
    "        minheap = []\n",
    "        for x in self.playerDict.values():\n",
    "            heappush(minheap, x)\n",
    "            if len(minheap) > K: heappop(minheap)\n",
    "                \n",
    "        return sum(minheap)\n",
    "\n",
    "    def reset(self, playerId: int) -> None:\n",
    "        self.playerDict[playerId] = 0"
   ]
  },
  {
   "cell_type": "markdown",
   "metadata": {},
   "source": [
    "# TreeMap - O(K) top, O(Log N) addScore, O(Log N) reset runtime, O(N) space"
   ]
  },
  {
   "cell_type": "code",
   "execution_count": 3,
   "metadata": {},
   "outputs": [],
   "source": [
    "from collections import defaultdict\n",
    "from sortedcontainers import SortedDict\n",
    "\n",
    "class Leaderboard:\n",
    "\n",
    "    def __init__(self):\n",
    "        self.scores = {}\n",
    "        self.sortedScores = SortedDict()\n",
    "\n",
    "    def addScore(self, playerId: int, score: int) -> None:\n",
    "\n",
    "        # The scores dictionary simply contains the mapping from the\n",
    "        # playerId to their score. The sortedScores contain a BST with \n",
    "        # key as the score and value as the number of players that have\n",
    "        # that score.     \n",
    "        if playerId not in self.scores:\n",
    "            self.scores[playerId] = score\n",
    "            self.sortedScores[-score] = self.sortedScores.get(-score, 0) + 1\n",
    "        else:\n",
    "            preScore = self.scores[playerId]\n",
    "            val = self.sortedScores.get(-preScore)\n",
    "            if val == 1:\n",
    "                del self.sortedScores[-preScore]\n",
    "            else:\n",
    "                self.sortedScores[-preScore] = val - 1    \n",
    "            \n",
    "            newScore = preScore + score;\n",
    "            self.scores[playerId] = newScore\n",
    "            self.sortedScores[-newScore] = self.sortedScores.get(-newScore, 0) + 1\n",
    "        \n",
    "    def top(self, K: int) -> int:\n",
    "        count, total = 0, 0;\n",
    "\n",
    "        for key, value in self.sortedScores.items():\n",
    "            times = self.sortedScores.get(key)\n",
    "            for _ in range(times): \n",
    "                total += -key;\n",
    "                count += 1;\n",
    "                \n",
    "                # Found top-K scores, break.\n",
    "                if count == K:\n",
    "                    break;\n",
    "                \n",
    "            # Found top-K scores, break.\n",
    "            if count == K:\n",
    "                break;\n",
    "        \n",
    "        return total;\n",
    "\n",
    "    def reset(self, playerId: int) -> None:\n",
    "        preScore = self.scores[playerId]\n",
    "        if self.sortedScores[-preScore] == 1:\n",
    "            del self.sortedScores[-preScore]\n",
    "        else:\n",
    "            self.sortedScores[-preScore] -= 1\n",
    "        del self.scores[playerId]"
   ]
  }
 ],
 "metadata": {
  "kernelspec": {
   "display_name": "Python 3",
   "language": "python",
   "name": "python3"
  },
  "language_info": {
   "codemirror_mode": {
    "name": "ipython",
    "version": 3
   },
   "file_extension": ".py",
   "mimetype": "text/x-python",
   "name": "python",
   "nbconvert_exporter": "python",
   "pygments_lexer": "ipython3",
   "version": "3.7.3"
  }
 },
 "nbformat": 4,
 "nbformat_minor": 2
}
