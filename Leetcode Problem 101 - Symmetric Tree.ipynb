{
 "cells": [
  {
   "cell_type": "markdown",
   "metadata": {},
   "source": [
    "Problem Statement. <br/>\n",
    "\n",
    "Given a binary tree, check whether it is a mirror of itself (ie, symmetric around its center). <br/>\n",
    "\n",
    "For example, this binary tree [1,2,2,3,4,4,3] is symmetric: <br/>\n",
    "\n",
    "But the following [1,2,2,null,3,null,3] is not:"
   ]
  },
  {
   "cell_type": "markdown",
   "metadata": {},
   "source": [
    "# Recursive - O(N) runtime, O(N) space"
   ]
  },
  {
   "cell_type": "code",
   "execution_count": null,
   "metadata": {},
   "outputs": [],
   "source": [
    "class Solution:\n",
    "    def isSymmetric(self, root: TreeNode) -> bool:\n",
    "        return self.isMirror(root, root) \n",
    "     \n",
    "    def isMirror(self, t1: TreeNode,  t2: TreeNode) -> bool:\n",
    "\n",
    "        if not t1 and not t2:\n",
    "            return True\n",
    "        if not t1 or not t2:\n",
    "            return False\n",
    "        return t1.val == t2.val and self.isMirror(t1.left, t2.right) and self.isMirror(t1.right, t2.left)"
   ]
  },
  {
   "cell_type": "markdown",
   "metadata": {},
   "source": [
    "# Iteraive - O(N) runtime, O(N) space"
   ]
  },
  {
   "cell_type": "code",
   "execution_count": null,
   "metadata": {},
   "outputs": [],
   "source": [
    "class Solution:\n",
    "    def isSymmetric(self, root: TreeNode) -> bool:\n",
    "        if not root:\n",
    "            return True\n",
    "        queue = deque()\n",
    "        queue.append(root)\n",
    "        \n",
    "        while queue:\n",
    "            currValQueue = []\n",
    "            len_queue = len(queue)\n",
    "            for _ in range(len_queue):\n",
    "                currNode = queue.popleft()\n",
    "                if currNode:\n",
    "                    queue.append(currNode.left)\n",
    "                    leftVal = currNode.left.val if currNode.left else None\n",
    "                    currValQueue.append(leftVal)\n",
    "                    queue.append(currNode.right)\n",
    "                    rightVal = currNode.right.val if currNode.right else None\n",
    "                    currValQueue.append(rightVal)\n",
    "                    \n",
    "            if currValQueue != currValQueue[::-1]:\n",
    "                return False"
   ]
  }
 ],
 "metadata": {
  "kernelspec": {
   "display_name": "Python 3",
   "language": "python",
   "name": "python3"
  },
  "language_info": {
   "codemirror_mode": {
    "name": "ipython",
    "version": 3
   },
   "file_extension": ".py",
   "mimetype": "text/x-python",
   "name": "python",
   "nbconvert_exporter": "python",
   "pygments_lexer": "ipython3",
   "version": "3.7.3"
  }
 },
 "nbformat": 4,
 "nbformat_minor": 2
}
