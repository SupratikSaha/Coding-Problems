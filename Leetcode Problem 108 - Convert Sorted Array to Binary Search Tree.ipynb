{
 "cells": [
  {
   "cell_type": "markdown",
   "metadata": {},
   "source": [
    "# Divide and Conquer - O(n) run time, O(log n) stack space"
   ]
  },
  {
   "cell_type": "code",
   "execution_count": null,
   "metadata": {},
   "outputs": [],
   "source": [
    "# Definition for a binary tree node.\n",
    "# class TreeNode:\n",
    "#     def __init__(self, x):\n",
    "#         self.val = x\n",
    "#         self.left = None\n",
    "#         self.right = None\n",
    "\n",
    "class Solution:\n",
    "    def sortedArrayToBST(self, nums: List[int]) -> TreeNode:\n",
    "        return self.getSortedArrayToBST(nums, 0, len(nums) - 1)\n",
    "    \n",
    "    def getSortedArrayToBST(self, arr, start, end):\n",
    "        if (start > end):\n",
    "            return None\n",
    "        \n",
    "        mid = (start + end) // 2\n",
    "        \n",
    "        node = TreeNode(arr[mid])\n",
    "        node.left = self.getSortedArrayToBST(arr, start, mid-1)\n",
    "        node.right = self.getSortedArrayToBST(arr, mid+1, end)\n",
    "        \n",
    "        return node"
   ]
  }
 ],
 "metadata": {
  "kernelspec": {
   "display_name": "Python 3",
   "language": "python",
   "name": "python3"
  },
  "language_info": {
   "codemirror_mode": {
    "name": "ipython",
    "version": 3
   },
   "file_extension": ".py",
   "mimetype": "text/x-python",
   "name": "python",
   "nbconvert_exporter": "python",
   "pygments_lexer": "ipython3",
   "version": "3.7.3"
  }
 },
 "nbformat": 4,
 "nbformat_minor": 2
}
