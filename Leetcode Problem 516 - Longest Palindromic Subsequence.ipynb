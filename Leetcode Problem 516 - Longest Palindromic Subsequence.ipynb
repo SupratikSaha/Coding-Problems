{
 "cells": [
  {
   "cell_type": "markdown",
   "metadata": {},
   "source": [
    "Problem Statement.\n",
    "\n",
    "Given a string s, find the longest palindromic subsequence's length in s.\n",
    "\n",
    "A subsequence is a sequence that can be derived from another sequence by deleting some or no elements without changing the order of the remaining elements.\n",
    "\n",
    " \n",
    "\n",
    "Example 1:\n",
    "\n",
    "Input: s = \"bbbab\"\n",
    "Output: 4\n",
    "Explanation: One possible longest palindromic subsequence is \"bbbb\".\n",
    "\n",
    "Example 2:\n",
    "\n",
    "Input: s = \"cbbd\"\n",
    "Output: 2\n",
    "Explanation: One possible longest palindromic subsequence is \"bb\".\n",
    "\n",
    " \n",
    "\n",
    "Constraints:\n",
    "\n",
    "    1 <= s.length <= 1000\n",
    "    s consists only of lowercase English letters."
   ]
  },
  {
   "cell_type": "markdown",
   "metadata": {},
   "source": [
    "# BFS - Memory Limit Exceeded - O(N ^ 2) runtime, O(N ^ 2 * L) space"
   ]
  },
  {
   "cell_type": "code",
   "execution_count": 2,
   "metadata": {},
   "outputs": [],
   "source": [
    "from collections import deque\n",
    "\n",
    "class Solution:\n",
    "    def longestPalindromeSubseq(self, s: str) -> int:\n",
    "        \n",
    "        def isPalindrome(string):\n",
    "            left, right = 0, len(string)-1\n",
    "            while left < right:\n",
    "                if string[left] != string[right]: return False\n",
    "                left += 1\n",
    "                right -= 1\n",
    "            \n",
    "            return True\n",
    "        \n",
    "        queue = deque([s])\n",
    "        \n",
    "        while queue:\n",
    "            string = queue.popleft()\n",
    "            if isPalindrome(string): return len(string)\n",
    "            \n",
    "            for i in range(len(string)):\n",
    "                queue.append(string[:i] + string[i+1:])"
   ]
  },
  {
   "cell_type": "markdown",
   "metadata": {},
   "source": [
    "# DP with memo - O(N ^ 2) runtime, O(N) space"
   ]
  },
  {
   "cell_type": "code",
   "execution_count": 6,
   "metadata": {},
   "outputs": [],
   "source": [
    "class Solution:\n",
    "    def longestPalindromeSubseq(self, s: str) -> int:\n",
    "        n = len(s)\n",
    "        dp = [1] * n\n",
    "        \n",
    "        for j in range(1, len(s)):\n",
    "            pre = dp[j]\n",
    "            for i in reversed(range(0, j)):\n",
    "                tmp = dp[i]\n",
    "                if s[i] == s[j]:\n",
    "                    dp[i] = 2 + pre if i + 1 <= j - 1 else 2\n",
    "                else:\n",
    "                    dp[i] = max(dp[i + 1], dp[i])\n",
    "                pre = tmp\n",
    "                \n",
    "        return dp[0]"
   ]
  },
  {
   "cell_type": "code",
   "execution_count": 7,
   "metadata": {},
   "outputs": [
    {
     "data": {
      "text/plain": [
       "4"
      ]
     },
     "execution_count": 7,
     "metadata": {},
     "output_type": "execute_result"
    }
   ],
   "source": [
    "instance = Solution()\n",
    "instance.longestPalindromeSubseq(\"bbbab\")"
   ]
  }
 ],
 "metadata": {
  "kernelspec": {
   "display_name": "Python 3",
   "language": "python",
   "name": "python3"
  },
  "language_info": {
   "codemirror_mode": {
    "name": "ipython",
    "version": 3
   },
   "file_extension": ".py",
   "mimetype": "text/x-python",
   "name": "python",
   "nbconvert_exporter": "python",
   "pygments_lexer": "ipython3",
   "version": "3.7.3"
  }
 },
 "nbformat": 4,
 "nbformat_minor": 2
}
