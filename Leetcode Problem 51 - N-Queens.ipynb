{
 "cells": [
  {
   "cell_type": "markdown",
   "metadata": {},
   "source": [
    "Problem Statement.\n",
    "\n",
    "The n-queens puzzle is the problem of placing n queens on an n x n chessboard such that no two queens attack each other.\n",
    "\n",
    "Given an integer n, return all distinct solutions to the n-queens puzzle. You may return the answer in any order.\n",
    "\n",
    "Each solution contains a distinct board configuration of the n-queens' placement, where 'Q' and '.' both indicate a queen and an empty space, respectively.\n",
    "\n",
    "\n",
    "Example 1:\n",
    "\n",
    "Input: n = 4\n",
    "Output: [[\".Q..\",\"...Q\",\"Q...\",\"..Q.\"],[\"..Q.\",\"Q...\",\"...Q\",\".Q..\"]]\n",
    "Explanation: There exist two distinct solutions to the 4-queens puzzle as shown above\n",
    "\n",
    "Example 2:\n",
    "\n",
    "Input: n = 1\n",
    "Output: [[\"Q\"]]\n",
    "\n",
    " \n",
    "\n",
    "Constraints:\n",
    "\n",
    "    1 <= n <= 9"
   ]
  },
  {
   "cell_type": "markdown",
   "metadata": {},
   "source": [
    "# DFS with Bactracking - O(N!) runtime, O(N ^ 2) space"
   ]
  },
  {
   "cell_type": "code",
   "execution_count": 1,
   "metadata": {},
   "outputs": [],
   "source": [
    "from typing import List\n",
    "\n",
    "class Solution:\n",
    "    def solveNQueens(self, n: int) -> List[List[str]]:\n",
    "        \n",
    "        def getSolution(index):\n",
    "            if index == n:\n",
    "                result.append(list(board))\n",
    "                return\n",
    "            \n",
    "            for i in range(n):\n",
    "                if i not in colSet and (index+i) not in diagSet and (index-i) not in crossDiagSet:\n",
    "                    colSet.add(i)\n",
    "                    diagSet.add(index+i)\n",
    "                    crossDiagSet.add(index-i)\n",
    "                    board[index] = board[index][:i] + 'Q' + board[index][i+1:]\n",
    "                    \n",
    "                    getSolution(index+1)\n",
    "                    \n",
    "                    board[index] = '.' * n\n",
    "                    colSet.remove(i)\n",
    "                    diagSet.remove(index+i)\n",
    "                    crossDiagSet.remove(index-i)\n",
    "                    \n",
    "        \n",
    "        board = ['.' * n for _ in range(n)]\n",
    "        result = []\n",
    "        colSet, diagSet, crossDiagSet = set(), set(), set()\n",
    "        getSolution(0)\n",
    "        \n",
    "        return result"
   ]
  },
  {
   "cell_type": "markdown",
   "metadata": {},
   "source": [
    "# More efficient DFS with Bactracking - O(N!) runtime, O(N ^ 2) space"
   ]
  },
  {
   "cell_type": "code",
   "execution_count": 3,
   "metadata": {},
   "outputs": [],
   "source": [
    "from typing import List\n",
    "\n",
    "class Solution:\n",
    "    def solveNQueens(self, n: int) -> List[List[str]]:\n",
    "        # Making use of a helper function to get the\n",
    "        # solutions in the correct output format\n",
    "        def create_board(state):\n",
    "            board = []\n",
    "            for row in state:\n",
    "                board.append(\"\".join(row))\n",
    "            return board\n",
    "        \n",
    "        def backtrack(row):\n",
    "            # Base case - N queens have been placed\n",
    "            if row == n:\n",
    "                ans.append(create_board(state))\n",
    "                return\n",
    "\n",
    "            for col in range(n):\n",
    "                curr_diagonal = row - col\n",
    "                curr_anti_diagonal = row + col\n",
    "                # If the queen is not placeable\n",
    "                if (col in cols \n",
    "                      or curr_diagonal in diagonals \n",
    "                      or curr_anti_diagonal in anti_diagonals):\n",
    "                    continue\n",
    "\n",
    "                # \"Add\" the queen to the board\n",
    "                cols.add(col)\n",
    "                diagonals.add(curr_diagonal)\n",
    "                anti_diagonals.add(curr_anti_diagonal)\n",
    "                state[row][col] = \"Q\"\n",
    "\n",
    "                # Move on to the next row with the updated board state\n",
    "                backtrack(row + 1)\n",
    "\n",
    "                # \"Remove\" the queen from the board since we have already\n",
    "                # explored all valid paths using the above function call\n",
    "                cols.remove(col)\n",
    "                diagonals.remove(curr_diagonal)\n",
    "                anti_diagonals.remove(curr_anti_diagonal)\n",
    "                state[row][col] = \".\"\n",
    "\n",
    "        ans = []\n",
    "        state = [[\".\"] * n for _ in range(n)]\n",
    "        cols, diagonals, anti_diagonals =  set(), set(), set()\n",
    "        backtrack(0)\n",
    "        return ans"
   ]
  },
  {
   "cell_type": "code",
   "execution_count": 4,
   "metadata": {},
   "outputs": [
    {
     "data": {
      "text/plain": [
       "[['.Q..', '...Q', 'Q...', '..Q.'], ['..Q.', 'Q...', '...Q', '.Q..']]"
      ]
     },
     "execution_count": 4,
     "metadata": {},
     "output_type": "execute_result"
    }
   ],
   "source": [
    "instance = Solution()\n",
    "instance.solveNQueens(4)"
   ]
  }
 ],
 "metadata": {
  "kernelspec": {
   "display_name": "Python 3",
   "language": "python",
   "name": "python3"
  },
  "language_info": {
   "codemirror_mode": {
    "name": "ipython",
    "version": 3
   },
   "file_extension": ".py",
   "mimetype": "text/x-python",
   "name": "python",
   "nbconvert_exporter": "python",
   "pygments_lexer": "ipython3",
   "version": "3.7.3"
  }
 },
 "nbformat": 4,
 "nbformat_minor": 2
}
