{
 "cells": [
  {
   "cell_type": "markdown",
   "metadata": {},
   "source": [
    "Problem Statement.\n",
    "\n",
    "There is a row of m houses in a small city, each house must be painted with one of the n colors (labeled from 1 to n), some houses that have been painted last summer should not be painted again.\n",
    "\n",
    "A neighborhood is a maximal group of continuous houses that are painted with the same color.\n",
    "\n",
    "    For example: houses = [1,2,2,3,3,2,1,1] contains 5 neighborhoods [{1}, {2,2}, {3,3}, {2}, {1,1}].\n",
    "\n",
    "Given an array houses, an m x n matrix cost and an integer target where:\n",
    "\n",
    "    houses[i]: is the color of the house i, and 0 if the house is not painted yet.\n",
    "    cost[i][j]: is the cost of paint the house i with the color j + 1.\n",
    "\n",
    "Return the minimum cost of painting all the remaining houses in such a way that there are exactly target neighborhoods. If it is not possible, return -1.\n",
    "\n",
    " \n",
    "\n",
    "Example 1:\n",
    "\n",
    "Input: houses = [0,0,0,0,0], cost = [[1,10],[10,1],[10,1],[1,10],[5,1]], m = 5, n = 2, target = 3\n",
    "Output: 9\n",
    "Explanation: Paint houses of this way [1,2,2,1,1]\n",
    "This array contains target = 3 neighborhoods, [{1}, {2,2}, {1,1}].\n",
    "Cost of paint all houses (1 + 1 + 1 + 1 + 5) = 9.\n",
    "\n",
    "Example 2:\n",
    "\n",
    "Input: houses = [0,2,1,2,0], cost = [[1,10],[10,1],[10,1],[1,10],[5,1]], m = 5, n = 2, target = 3\n",
    "Output: 11\n",
    "Explanation: Some houses are already painted, Paint the houses of this way [2,2,1,2,2]\n",
    "This array contains target = 3 neighborhoods, [{2,2}, {1}, {2,2}]. \n",
    "Cost of paint the first and last house (10 + 1) = 11.\n",
    "\n",
    "Example 3:\n",
    "\n",
    "Input: houses = [3,1,2,3], cost = [[1,1,1],[1,1,1],[1,1,1],[1,1,1]], m = 4, n = 3, target = 3\n",
    "Output: -1\n",
    "Explanation: Houses are already painted with a total of 4 neighborhoods [{3},{1},{2},{3}] different of target = 3.\n",
    "\n",
    " \n",
    "\n",
    "Constraints:\n",
    "\n",
    "    m == houses.length == cost.length\n",
    "    n == cost[i].length\n",
    "    1 <= m <= 100\n",
    "    1 <= n <= 20\n",
    "    1 <= target <= m\n",
    "    0 <= houses[i] <= n\n",
    "    1 <= cost[i][j] <= 10^4"
   ]
  },
  {
   "cell_type": "markdown",
   "metadata": {},
   "source": [
    "# Top Down DP - O(M * N^2 * T) runtime, O(M * N * T) space"
   ]
  },
  {
   "cell_type": "code",
   "execution_count": 1,
   "metadata": {},
   "outputs": [],
   "source": [
    "from typing import List\n",
    "from functools import lru_cache\n",
    "\n",
    "class Solution:\n",
    "    def minCost(self, houses: List[int], cost: List[List[int]], m: int, n: int, target: int) -> int:\n",
    "        \n",
    "        @lru_cache(maxsize = None)\n",
    "        def getMinCost(index, prevColor, t):\n",
    "            if t < 0 or m - index < t: \n",
    "                return float('inf')\n",
    "            if index == m:\n",
    "                if t == 0: return 0\n",
    "                else: return float('inf')\n",
    "                \n",
    "            \n",
    "            if houses[index] > 0: \n",
    "                return getMinCost(index+1, houses[index], t - int(houses[index] != prevColor))\n",
    "            else:\n",
    "                minCost = float('inf')\n",
    "                for color, costVal in enumerate(cost[index]):\n",
    "                    minCost = min(minCost, costVal+ getMinCost(index+1, color+1, t - int(color+1 != prevColor)))\n",
    "                    \n",
    "                return minCost\n",
    "        \n",
    "        res = getMinCost(0, -1, target)\n",
    "        return res if res < float('inf') else -1"
   ]
  },
  {
   "cell_type": "code",
   "execution_count": 3,
   "metadata": {},
   "outputs": [
    {
     "data": {
      "text/plain": [
       "11"
      ]
     },
     "execution_count": 3,
     "metadata": {},
     "output_type": "execute_result"
    }
   ],
   "source": [
    "instance = Solution()\n",
    "instance.minCost([0,2,1,2,0], [[1,10],[10,1],[10,1],[1,10],[5,1]], 5, 2, 3)"
   ]
  }
 ],
 "metadata": {
  "kernelspec": {
   "display_name": "Python 3",
   "language": "python",
   "name": "python3"
  },
  "language_info": {
   "codemirror_mode": {
    "name": "ipython",
    "version": 3
   },
   "file_extension": ".py",
   "mimetype": "text/x-python",
   "name": "python",
   "nbconvert_exporter": "python",
   "pygments_lexer": "ipython3",
   "version": "3.7.3"
  }
 },
 "nbformat": 4,
 "nbformat_minor": 2
}
