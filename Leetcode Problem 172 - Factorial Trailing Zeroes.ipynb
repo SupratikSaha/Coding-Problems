{
 "cells": [
  {
   "cell_type": "markdown",
   "metadata": {},
   "source": [
    "Problem Statement. <br/>\n",
    "\n",
    "Given an integer n, return the number of trailing zeroes in n!. <br/>\n",
    "Follow up: Could you write a solution that works in logarithmic time complexity? <br/>\n",
    "\n",
    "Example 1: <br/>\n",
    "Input: n = 3 <br/>\n",
    "Output: 0 <br/>\n",
    "Explanation: 3! = 6, no trailing zero. <br/>\n",
    "\n",
    "Example 2: <br/>\n",
    "Input: n = 5 <br/>\n",
    "Output: 1 <br/>\n",
    "Explanation: 5! = 120, one trailing zero. <br/>\n",
    "\n",
    "Example 3: <br/>\n",
    "Input: n = 0 <br/>\n",
    "Output: 0"
   ]
  },
  {
   "cell_type": "markdown",
   "metadata": {},
   "source": [
    "# Counting Factors of 5 - least efficient - O(N) runtime, O(1) space"
   ]
  },
  {
   "cell_type": "code",
   "execution_count": 1,
   "metadata": {},
   "outputs": [],
   "source": [
    "class Solution:\n",
    "    def trailingZeroes(self, n: int) -> int:\n",
    "        zero_count = 0\n",
    "        for i in range(5, n + 1, 5):\n",
    "            current = i\n",
    "            while current % 5 == 0:\n",
    "                zero_count += 1\n",
    "                current //= 5\n",
    "\n",
    "        return zero_count"
   ]
  },
  {
   "cell_type": "markdown",
   "metadata": {},
   "source": [
    "# Counting Factors of 5 - more efficient - O(N) runtime, O(1) space"
   ]
  },
  {
   "cell_type": "code",
   "execution_count": 2,
   "metadata": {},
   "outputs": [],
   "source": [
    "class Solution:\n",
    "    def trailingZeroes(self, n: int) -> int:\n",
    "        zero_count = 0\n",
    "        for i in range(5, n + 1, 5):\n",
    "            power_of_5 = 5\n",
    "            while i % power_of_5 == 0:\n",
    "                zero_count += 1\n",
    "                power_of_5 *= 5\n",
    "\n",
    "        return zero_count"
   ]
  },
  {
   "cell_type": "markdown",
   "metadata": {},
   "source": [
    "# Counting Factors of 5 - most efficient - O(log N) runtime, O(1) space"
   ]
  },
  {
   "cell_type": "code",
   "execution_count": 3,
   "metadata": {},
   "outputs": [],
   "source": [
    "class Solution:\n",
    "    def trailingZeroes(self, n: int) -> int:\n",
    "        zero_count = 0\n",
    "        while n > 0:\n",
    "            n //= 5\n",
    "            zero_count += n\n",
    "        return zero_count"
   ]
  },
  {
   "cell_type": "code",
   "execution_count": 4,
   "metadata": {},
   "outputs": [
    {
     "data": {
      "text/plain": [
       "249"
      ]
     },
     "execution_count": 4,
     "metadata": {},
     "output_type": "execute_result"
    }
   ],
   "source": [
    "instance = Solution()\n",
    "instance.trailingZeroes(1000)"
   ]
  }
 ],
 "metadata": {
  "kernelspec": {
   "display_name": "Python 3",
   "language": "python",
   "name": "python3"
  },
  "language_info": {
   "codemirror_mode": {
    "name": "ipython",
    "version": 3
   },
   "file_extension": ".py",
   "mimetype": "text/x-python",
   "name": "python",
   "nbconvert_exporter": "python",
   "pygments_lexer": "ipython3",
   "version": "3.7.3"
  }
 },
 "nbformat": 4,
 "nbformat_minor": 2
}
