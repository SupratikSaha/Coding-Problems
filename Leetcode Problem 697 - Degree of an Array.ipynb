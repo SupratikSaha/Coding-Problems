{
 "cells": [
  {
   "cell_type": "markdown",
   "metadata": {},
   "source": [
    "Problem Statement.\n",
    "\n",
    "Given a non-empty array of non-negative integers nums, the degree of this array is defined as the maximum frequency of any one of its elements.\n",
    "\n",
    "Your task is to find the smallest possible length of a (contiguous) subarray of nums, that has the same degree as nums.\n",
    "\n",
    " \n",
    "\n",
    "Example 1:\n",
    "\n",
    "Input: nums = [1,2,2,3,1]\n",
    "Output: 2\n",
    "Explanation: \n",
    "The input array has a degree of 2 because both elements 1 and 2 appear twice.\n",
    "Of the subarrays that have the same degree:\n",
    "[1, 2, 2, 3, 1], [1, 2, 2, 3], [2, 2, 3, 1], [1, 2, 2], [2, 2, 3], [2, 2]\n",
    "The shortest length is 2. So return 2.\n",
    "\n",
    "Example 2:\n",
    "\n",
    "Input: nums = [1,2,2,3,1,4,2]\n",
    "Output: 6\n",
    "Explanation: \n",
    "The degree is 3 because the element 2 is repeated 3 times.\n",
    "So [2,2,3,1,4,2] is the shortest subarray, therefore returning 6.\n",
    "\n",
    " \n",
    "\n",
    "Constraints:\n",
    "\n",
    "    nums.length will be between 1 and 50,000.\n",
    "    nums[i] will be an integer between 0 and 49,999."
   ]
  },
  {
   "cell_type": "markdown",
   "metadata": {},
   "source": [
    "# Hash Table - O(N) runtime, O(N) space"
   ]
  },
  {
   "cell_type": "code",
   "execution_count": 1,
   "metadata": {},
   "outputs": [],
   "source": [
    "from typing import List\n",
    "\n",
    "class Solution:\n",
    "    def findShortestSubArray(self, nums: List[int]) -> int:\n",
    "        numDict = {}\n",
    "        degree, res = 0, 0\n",
    "        \n",
    "        for i, num in enumerate(nums):\n",
    "            if num not in numDict: numDict[num] = [1, i]\n",
    "            else: numDict[num][0] += 1\n",
    "            if numDict[num][0] > degree or (numDict[num][0] == degree and i - numDict[num][1] < res):\n",
    "                degree = numDict[num][0]\n",
    "                res = i - numDict[num][1]\n",
    "                \n",
    "        return res + 1"
   ]
  },
  {
   "cell_type": "code",
   "execution_count": 2,
   "metadata": {},
   "outputs": [
    {
     "data": {
      "text/plain": [
       "6"
      ]
     },
     "execution_count": 2,
     "metadata": {},
     "output_type": "execute_result"
    }
   ],
   "source": [
    "instance = Solution()\n",
    "instance.findShortestSubArray([1,2,2,3,1,4,2])"
   ]
  }
 ],
 "metadata": {
  "kernelspec": {
   "display_name": "Python 3",
   "language": "python",
   "name": "python3"
  },
  "language_info": {
   "codemirror_mode": {
    "name": "ipython",
    "version": 3
   },
   "file_extension": ".py",
   "mimetype": "text/x-python",
   "name": "python",
   "nbconvert_exporter": "python",
   "pygments_lexer": "ipython3",
   "version": "3.7.3"
  }
 },
 "nbformat": 4,
 "nbformat_minor": 2
}
