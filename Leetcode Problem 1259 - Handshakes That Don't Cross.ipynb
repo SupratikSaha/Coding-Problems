{
 "cells": [
  {
   "cell_type": "markdown",
   "metadata": {},
   "source": [
    "Problem Statement.\n",
    "\n",
    "You are given an even number of people num_people that stand around a circle and each person shakes hands with someone else, so that there are num_people / 2 handshakes total.\n",
    "\n",
    "Return the number of ways these handshakes could occur such that none of the handshakes cross.\n",
    "\n",
    "Since this number could be very big, return the answer mod 10^9 + 7\n",
    "\n",
    " \n",
    "\n",
    "Example 1:\n",
    "\n",
    "Input: num_people = 2\n",
    "Output: 1\n",
    "\n",
    "Example 2:\n",
    "\n",
    "Input: num_people = 4\n",
    "Output: 2\n",
    "Explanation: There are two ways to do it, the first way is [(1,2),(3,4)] and the second one is [(2,3),(4,1)].\n",
    "\n",
    "Example 3:\n",
    "\n",
    "Input: num_people = 6\n",
    "Output: 5\n",
    "\n",
    "Example 4:\n",
    "\n",
    "Input: num_people = 8\n",
    "Output: 14\n",
    "\n",
    " \n",
    "\n",
    "Constraints:\n",
    "\n",
    "    2 <= num_people <= 1000\n",
    "    num_people % 2 == 0\n"
   ]
  },
  {
   "cell_type": "markdown",
   "metadata": {},
   "source": [
    "# DP - O(N) runtime, O(N) space"
   ]
  },
  {
   "cell_type": "code",
   "execution_count": 3,
   "metadata": {},
   "outputs": [],
   "source": [
    "class Solution:\n",
    "    def numberOfWays(self, num_people: int) -> int:\n",
    "        \n",
    "        def dp(n):\n",
    "            if n not in memo:\n",
    "                memo[n] = sum([dp(i - 2) * dp(n-i) for i in range(2,n+1,2)]) % (10**9+7)\n",
    "            return memo[n]\n",
    "        \n",
    "        memo = {0:1}\n",
    "        return dp(num_people)"
   ]
  },
  {
   "cell_type": "markdown",
   "metadata": {},
   "source": [
    "# Catalan Numbers - O(N) runtime, O(1) space"
   ]
  },
  {
   "cell_type": "code",
   "execution_count": 1,
   "metadata": {},
   "outputs": [],
   "source": [
    "class Solution:\n",
    "    def numberOfWays(self, num_people: int) -> int:\n",
    "        res = 1\n",
    "        for i in range(1, num_people // 2 + 1):\n",
    "            res *= num_people - i + 1\n",
    "            res //= i\n",
    "        return res // (num_people // 2 + 1) % (10**9 + 7)"
   ]
  },
  {
   "cell_type": "code",
   "execution_count": 4,
   "metadata": {},
   "outputs": [
    {
     "data": {
      "text/plain": [
       "14"
      ]
     },
     "execution_count": 4,
     "metadata": {},
     "output_type": "execute_result"
    }
   ],
   "source": [
    "instance = Solution()\n",
    "instance.numberOfWays(8)"
   ]
  }
 ],
 "metadata": {
  "kernelspec": {
   "display_name": "Python 3",
   "language": "python",
   "name": "python3"
  },
  "language_info": {
   "codemirror_mode": {
    "name": "ipython",
    "version": 3
   },
   "file_extension": ".py",
   "mimetype": "text/x-python",
   "name": "python",
   "nbconvert_exporter": "python",
   "pygments_lexer": "ipython3",
   "version": "3.7.3"
  }
 },
 "nbformat": 4,
 "nbformat_minor": 2
}
