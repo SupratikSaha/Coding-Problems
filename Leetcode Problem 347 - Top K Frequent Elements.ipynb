{
 "cells": [
  {
   "cell_type": "markdown",
   "metadata": {},
   "source": [
    "Given a n-empty array of integers, return the k most frequent elements.\n",
    "\n",
    "Example 1:\n",
    "\n",
    "Input: nums = [1,1,1,2,2,3], k = 2\n",
    "Output: [1,2]\n",
    "\n",
    "Example 2:\n",
    "\n",
    "Input: nums = [1], k = 1\n",
    "Output: [1]\n",
    "\n",
    "Note:\n",
    "\n",
    "    You may assume k is always valid, 1 ≤ k ≤ number of unique elements.\n",
    "    Your algorithm's time complexity must be better than O(n log n), where n is the array's size.\n",
    "    It's guaranteed that the answer is unique, in other words the set of the top k frequent elements is unique.\n",
    "    You can return the answer in any order."
   ]
  },
  {
   "cell_type": "markdown",
   "metadata": {},
   "source": [
    "# Dictionary Approach - O(n) runtime, O(n) space"
   ]
  },
  {
   "cell_type": "code",
   "execution_count": 8,
   "metadata": {},
   "outputs": [],
   "source": [
    "from typing import List\n",
    "\n",
    "class Solution:\n",
    "    def topKFrequent(self, nums: List[int], k: int) -> List[int]:\n",
    "        \n",
    "        elems_dict = dict()\n",
    "        \n",
    "        for i in nums:\n",
    "            if i not in elems_dict:\n",
    "                elems_dict[i] = 0\n",
    "            elems_dict[i] += 1\n",
    "            \n",
    "        result = []\n",
    "            \n",
    "        for ctr in range(k):\n",
    "            max_key = max(elems_dict, key=lambda key: elems_dict[key])\n",
    "            result.append(max_key)\n",
    "            elems_dict.pop(max_key)\n",
    "            \n",
    "        return result"
   ]
  },
  {
   "cell_type": "markdown",
   "metadata": {},
   "source": [
    "# Heap - O(n * log k) runtime, O(n + k) space"
   ]
  },
  {
   "cell_type": "code",
   "execution_count": 2,
   "metadata": {},
   "outputs": [],
   "source": [
    "from collections import Counter\n",
    "import heapq\n",
    "from typing import List\n",
    "\n",
    "class Solution:\n",
    "    def topKFrequent(self, nums: List[int], k: int) -> List[int]:\n",
    "        \n",
    "        if k == len(nums):\n",
    "            return nums\n",
    "        \n",
    "        elemCounter = Counter(nums)\n",
    "        minHeap = []\n",
    "        i = 0\n",
    "        for key in elemCounter:\n",
    "            if i < k:            \n",
    "                heapq.heappush(minHeap, (elemCounter[key], key))\n",
    "            elif elemCounter[key] > minHeap[0][0]:\n",
    "                heapq.heappop(minHeap)\n",
    "                heapq.heappush(minHeap, (elemCounter[key], key))\n",
    "\n",
    "            i += 1\n",
    "        \n",
    "        result = []\n",
    "        for _ in range(k):\n",
    "            _, key = heapq.heappop(minHeap)\n",
    "            result.append(key)\n",
    "            \n",
    "        return result"
   ]
  },
  {
   "cell_type": "markdown",
   "metadata": {},
   "source": [
    "# Heap - O(n * log k) runtime, O(n + k) space"
   ]
  },
  {
   "cell_type": "code",
   "execution_count": 18,
   "metadata": {},
   "outputs": [],
   "source": [
    "from collections import Counter\n",
    "import heapq\n",
    "from typing import List\n",
    "\n",
    "class Solution:\n",
    "    def topKFrequent(self, nums: List[int], k: int) -> List[int]: \n",
    "        # O(1) time \n",
    "        if k == len(nums):\n",
    "            return nums\n",
    "        \n",
    "        # 1. build hash map : character and how often it appears\n",
    "        # O(N) time\n",
    "        count = Counter(nums)   \n",
    "        # 2-3. build heap of top k frequent elements and\n",
    "        # convert it into an output array\n",
    "        # O(N log k) time\n",
    "        return heapq.nlargest(k, count.keys(), key=count.get)"
   ]
  },
  {
   "cell_type": "markdown",
   "metadata": {},
   "source": [
    "# Quickselect -  O(n)in the average case, O(n^2)in the worst case runtime, O(n) space"
   ]
  },
  {
   "cell_type": "code",
   "execution_count": 12,
   "metadata": {},
   "outputs": [],
   "source": [
    "from collections import Counter\n",
    "from typing import List\n",
    "from random import randint\n",
    "\n",
    "class Solution:\n",
    "    def topKFrequent(self, nums: List[int], k: int) -> List[int]:\n",
    "        count = Counter(nums)\n",
    "        unique = list(count.keys())\n",
    "        \n",
    "        def partition(left, right, pivot_index) -> int:\n",
    "            pivot_frequency = count[unique[pivot_index]]\n",
    "            # 1. move pivot to end\n",
    "            unique[pivot_index], unique[right] = unique[right], unique[pivot_index]  \n",
    "            \n",
    "            # 2. move all less frequent elements to the left\n",
    "            store_index = left\n",
    "            for i in range(left, right):\n",
    "                if count[unique[i]] < pivot_frequency:\n",
    "                    unique[store_index], unique[i] = unique[i], unique[store_index]\n",
    "                    store_index += 1\n",
    "\n",
    "            # 3. move pivot to its final place\n",
    "            unique[right], unique[store_index] = unique[store_index], unique[right]  \n",
    "            \n",
    "            return store_index\n",
    "        \n",
    "        def quickselect(left, right, k_smallest) -> None:\n",
    "            \"\"\"\n",
    "            Sort a list within left..right till kth less frequent element\n",
    "            takes its place. \n",
    "            \"\"\"\n",
    "            # base case: the list contains only one element\n",
    "            if left == right: \n",
    "                return\n",
    "            \n",
    "            # select a random pivot_index\n",
    "            pivot_index = randint(left, right)     \n",
    "                            \n",
    "            # find the pivot position in a sorted list   \n",
    "            pivot_index = partition(left, right, pivot_index)\n",
    "            \n",
    "            # if the pivot is in its final sorted position\n",
    "            if k_smallest == pivot_index:\n",
    "                 return \n",
    "            # go left\n",
    "            elif k_smallest < pivot_index:\n",
    "                quickselect(left, pivot_index - 1, k_smallest)\n",
    "            # go right\n",
    "            else:\n",
    "                quickselect(pivot_index + 1, right, k_smallest)\n",
    "         \n",
    "        n = len(unique) \n",
    "        # kth top frequent element is (n - k)th less frequent.\n",
    "        # Do a partial sort: from less frequent to the most frequent, till\n",
    "        # (n - k)th less frequent element takes its place (n - k) in a sorted array. \n",
    "        # All element on the left are less frequent.\n",
    "        # All the elements on the right are more frequent.  \n",
    "        quickselect(0, n - 1, n - k)\n",
    "        # Return top k frequent elements\n",
    "        return unique[n - k:]"
   ]
  },
  {
   "cell_type": "code",
   "execution_count": 20,
   "metadata": {},
   "outputs": [
    {
     "data": {
      "text/plain": [
       "[1, 2]"
      ]
     },
     "execution_count": 20,
     "metadata": {},
     "output_type": "execute_result"
    }
   ],
   "source": [
    "instance = Solution()\n",
    "instance.topKFrequent([1,1,1,2,2,3], 2)"
   ]
  }
 ],
 "metadata": {
  "kernelspec": {
   "display_name": "Python 3",
   "language": "python",
   "name": "python3"
  },
  "language_info": {
   "codemirror_mode": {
    "name": "ipython",
    "version": 3
   },
   "file_extension": ".py",
   "mimetype": "text/x-python",
   "name": "python",
   "nbconvert_exporter": "python",
   "pygments_lexer": "ipython3",
   "version": "3.7.3"
  }
 },
 "nbformat": 4,
 "nbformat_minor": 2
}
