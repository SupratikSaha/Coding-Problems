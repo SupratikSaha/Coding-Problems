{
 "cells": [
  {
   "cell_type": "markdown",
   "metadata": {},
   "source": [
    "Problem Statement.\n",
    "\n",
    "A word's generalized abbreviation can be constructed by taking any number of non-overlapping substrings and replacing them with their respective lengths. For example, \"abcde\" can be abbreviated into \"a3e\" (\"bcd\" turned into \"3\"), \"1bcd1\" (\"a\" and \"e\" both turned into \"1\"), and \"23\" (\"ab\" turned into \"2\" and \"cde\" turned into \"3\").\n",
    "\n",
    "Given a string word, return a list of all the possible generalized abbreviations of word. Return the answer in any order.\n",
    "\n",
    " \n",
    "\n",
    "Example 1:\n",
    "\n",
    "Input: word = \"word\"\n",
    "Output: [\"4\",\"3d\",\"2r1\",\"2rd\",\"1o2\",\"1o1d\",\"1or1\",\"1ord\",\"w3\",\"w2d\",\"w1r1\",\"w1rd\",\"wo2\",\"wo1d\",\"wor1\",\"word\"]\n",
    "\n",
    "Example 2:\n",
    "\n",
    "Input: word = \"a\"\n",
    "Output: [\"1\",\"a\"]\n",
    "\n",
    " \n",
    "\n",
    "Constraints:\n",
    "\n",
    "    1 <= word.length <= 15\n",
    "    word consists of only lowercase English letters."
   ]
  },
  {
   "cell_type": "markdown",
   "metadata": {},
   "source": [
    "# Backtracking - Top Down - (2 ^ N) runtime, O(2 ^ N) space"
   ]
  },
  {
   "cell_type": "code",
   "execution_count": 1,
   "metadata": {},
   "outputs": [],
   "source": [
    "from typing import List\n",
    "\n",
    "class Solution:\n",
    "    def generateAbbreviations(self, word: str) -> List[str]:\n",
    "        \n",
    "        def fn(i, s=\"\", n=0):\n",
    "            \"\"\"Populate ans via backtracking.\"\"\"\n",
    "            if i == len(word): \n",
    "                return ans.append(s + (str(n) if n else \"\"))\n",
    "            fn(i+1, s, n+1)\n",
    "            fn(i+1, s + (str(n) if n else \"\") + word[i], 0)\n",
    "        \n",
    "        ans = []\n",
    "        fn(0)\n",
    "        return ans"
   ]
  },
  {
   "cell_type": "code",
   "execution_count": 2,
   "metadata": {},
   "outputs": [
    {
     "data": {
      "text/plain": [
       "['4',\n",
       " '3d',\n",
       " '2r1',\n",
       " '2rd',\n",
       " '1o2',\n",
       " '1o1d',\n",
       " '1or1',\n",
       " '1ord',\n",
       " 'w3',\n",
       " 'w2d',\n",
       " 'w1r1',\n",
       " 'w1rd',\n",
       " 'wo2',\n",
       " 'wo1d',\n",
       " 'wor1',\n",
       " 'word']"
      ]
     },
     "execution_count": 2,
     "metadata": {},
     "output_type": "execute_result"
    }
   ],
   "source": [
    "instance = Solution()\n",
    "instance.generateAbbreviations(\"word\")"
   ]
  }
 ],
 "metadata": {
  "kernelspec": {
   "display_name": "Python 3",
   "language": "python",
   "name": "python3"
  },
  "language_info": {
   "codemirror_mode": {
    "name": "ipython",
    "version": 3
   },
   "file_extension": ".py",
   "mimetype": "text/x-python",
   "name": "python",
   "nbconvert_exporter": "python",
   "pygments_lexer": "ipython3",
   "version": "3.7.3"
  }
 },
 "nbformat": 4,
 "nbformat_minor": 2
}
