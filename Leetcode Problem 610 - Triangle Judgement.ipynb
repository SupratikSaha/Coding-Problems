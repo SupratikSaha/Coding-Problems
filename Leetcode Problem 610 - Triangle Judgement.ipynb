{
 "cells": [
  {
   "cell_type": "markdown",
   "metadata": {},
   "source": [
    "Problem Statement.\n",
    "\n",
    "    A pupil Tim gets homework to identify whether three line segments could possibly form a triangle.\n",
    "\n",
    "\n",
    "    However, this assignment is very heavy because there are hundreds of records to calculate.\n",
    "\n",
    "\n",
    "    Could you help Tim by writing a query to judge whether these three sides can form a triangle, assuming table triangle holds the length of the three sides x, y and z.\n",
    "\n",
    "\n",
    "\n",
    "    | x  | y  | z  |\n",
    "    |----|----|----|\n",
    "    | 13 | 15 | 30 |\n",
    "    | 10 | 20 | 15 |\n",
    "\n",
    "    For the sample data above, your query should return the follow result:\n",
    "\n",
    "    | x  | y  | z  | triangle |\n",
    "    |----|----|----|----------|\n",
    "    | 13 | 15 | 30 | No       |\n",
    "    | 10 | 20 | 15 | Yes      |"
   ]
  },
  {
   "cell_type": "markdown",
   "metadata": {},
   "source": [
    "# Case Statement"
   ]
  },
  {
   "cell_type": "code",
   "execution_count": null,
   "metadata": {},
   "outputs": [],
   "source": [
    "select *, \n",
    "CASE WHEN x + y > z and x + z > y and y + z > x THEN 'Yes'\n",
    "     ELSE 'No'\n",
    "END as 'triangle'\n",
    "from triangle"
   ]
  }
 ],
 "metadata": {
  "kernelspec": {
   "display_name": "Python 3",
   "language": "python",
   "name": "python3"
  },
  "language_info": {
   "codemirror_mode": {
    "name": "ipython",
    "version": 3
   },
   "file_extension": ".py",
   "mimetype": "text/x-python",
   "name": "python",
   "nbconvert_exporter": "python",
   "pygments_lexer": "ipython3",
   "version": "3.7.3"
  }
 },
 "nbformat": 4,
 "nbformat_minor": 2
}
