{
 "cells": [
  {
   "cell_type": "markdown",
   "metadata": {},
   "source": [
    "    Problem Statement.\n",
    "\n",
    "    Table: Actions\n",
    "\n",
    "    +---------------+---------+\n",
    "    | Column Name   | Type    |\n",
    "    +---------------+---------+\n",
    "    | user_id       | int     |\n",
    "    | post_id       | int     |\n",
    "    | action_date   | date    | \n",
    "    | action        | enum    |\n",
    "    | extra         | varchar |\n",
    "    +---------------+---------+\n",
    "    There is no primary key for this table, it may have duplicate rows.\n",
    "    The action column is an ENUM type of ('view', 'like', 'reaction', 'comment', 'report', 'share').\n",
    "    The extra column has optional information about the action, such as a reason for the report or a type of reaction.\n",
    "\n",
    "\n",
    "\n",
    "    Write an SQL query that reports the number of posts reported yesterday for each report reason. Assume today is 2019-07-05.\n",
    "\n",
    "    Return the result table in any order.\n",
    "\n",
    "    The query result format is in the following example.\n",
    "\n",
    "\n",
    "\n",
    "    Example 1:\n",
    "\n",
    "    Input: \n",
    "    Actions table:\n",
    "    +---------+---------+-------------+--------+--------+\n",
    "    | user_id | post_id | action_date | action | extra  |\n",
    "    +---------+---------+-------------+--------+--------+\n",
    "    | 1       | 1       | 2019-07-01  | view   | null   |\n",
    "    | 1       | 1       | 2019-07-01  | like   | null   |\n",
    "    | 1       | 1       | 2019-07-01  | share  | null   |\n",
    "    | 2       | 4       | 2019-07-04  | view   | null   |\n",
    "    | 2       | 4       | 2019-07-04  | report | spam   |\n",
    "    | 3       | 4       | 2019-07-04  | view   | null   |\n",
    "    | 3       | 4       | 2019-07-04  | report | spam   |\n",
    "    | 4       | 3       | 2019-07-02  | view   | null   |\n",
    "    | 4       | 3       | 2019-07-02  | report | spam   |\n",
    "    | 5       | 2       | 2019-07-04  | view   | null   |\n",
    "    | 5       | 2       | 2019-07-04  | report | racism |\n",
    "    | 5       | 5       | 2019-07-04  | view   | null   |\n",
    "    | 5       | 5       | 2019-07-04  | report | racism |\n",
    "    +---------+---------+-------------+--------+--------+\n",
    "    Output: \n",
    "    +---------------+--------------+\n",
    "    | report_reason | report_count |\n",
    "    +---------------+--------------+\n",
    "    | spam          | 1            |\n",
    "    | racism        | 2            |\n",
    "    +---------------+--------------+\n",
    "    Explanation: Note that we only care about report reasons with non-zero number of reports."
   ]
  },
  {
   "cell_type": "markdown",
   "metadata": {},
   "source": [
    "# Count Distinct"
   ]
  },
  {
   "cell_type": "code",
   "execution_count": null,
   "metadata": {},
   "outputs": [],
   "source": [
    "select extra as report_reason, count(distinct post_id) as report_count\n",
    "from Actions\n",
    "where extra is not null and action = 'report' and action_date = '2019-07-04'\n",
    "group by 1"
   ]
  }
 ],
 "metadata": {
  "kernelspec": {
   "display_name": "Python 3",
   "language": "python",
   "name": "python3"
  },
  "language_info": {
   "codemirror_mode": {
    "name": "ipython",
    "version": 3
   },
   "file_extension": ".py",
   "mimetype": "text/x-python",
   "name": "python",
   "nbconvert_exporter": "python",
   "pygments_lexer": "ipython3",
   "version": "3.7.3"
  }
 },
 "nbformat": 4,
 "nbformat_minor": 2
}
