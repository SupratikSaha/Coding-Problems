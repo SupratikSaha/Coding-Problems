{
 "cells": [
  {
   "cell_type": "markdown",
   "metadata": {},
   "source": [
    "Problem Statement.\n",
    "\n",
    "Given two strings s and part, perform the following operation on s until all occurrences of the substring part are removed:\n",
    "\n",
    "    Find the leftmost occurrence of the substring part and remove it from s.\n",
    "\n",
    "Return s after removing all occurrences of part.\n",
    "\n",
    "A substring is a contiguous sequence of characters in a string.\n",
    "\n",
    " \n",
    "\n",
    "Example 1:\n",
    "\n",
    "Input: s = \"daabcbaabcbc\", part = \"abc\"\n",
    "Output: \"dab\"\n",
    "Explanation: The following operations are done:\n",
    "- s = \"daabcbaabcbc\", remove \"abc\" starting at index 2, so s = \"dabaabcbc\".\n",
    "- s = \"dabaabcbc\", remove \"abc\" starting at index 4, so s = \"dababc\".\n",
    "- s = \"dababc\", remove \"abc\" starting at index 3, so s = \"dab\".\n",
    "Now s has no occurrences of \"abc\".\n",
    "\n",
    "Example 2:\n",
    "\n",
    "Input: s = \"axxxxyyyyb\", part = \"xy\"\n",
    "Output: \"ab\"\n",
    "Explanation: The following operations are done:\n",
    "- s = \"axxxxyyyyb\", remove \"xy\" starting at index 4 so s = \"axxxyyyb\".\n",
    "- s = \"axxxyyyb\", remove \"xy\" starting at index 3 so s = \"axxyyb\".\n",
    "- s = \"axxyyb\", remove \"xy\" starting at index 2 so s = \"axyb\".\n",
    "- s = \"axyb\", remove \"xy\" starting at index 1 so s = \"ab\".\n",
    "Now s has no occurrences of \"xy\".\n",
    "\n",
    " \n",
    "\n",
    "Constraints:\n",
    "\n",
    "    1 <= s.length <= 1000\n",
    "    1 <= part.length <= 1000\n",
    "    s and part consists of lowercase English letters."
   ]
  },
  {
   "cell_type": "markdown",
   "metadata": {},
   "source": [
    "# Stack - O(N * P) runtime, O(N) space"
   ]
  },
  {
   "cell_type": "code",
   "execution_count": 1,
   "metadata": {},
   "outputs": [],
   "source": [
    "class Solution:\n",
    "    def removeOccurrences(self, s: str, part: str) -> str:\n",
    "        stack = []\n",
    "        p = len(part)\n",
    "        \n",
    "        for c in s:\n",
    "            stack.append(c)\n",
    "            n = len(stack)\n",
    "            if n >= p:\n",
    "                i, j = n-1, p-1\n",
    "                found = True\n",
    "                while j >= 0:\n",
    "                    if stack[i] != part[j]: \n",
    "                        found = False\n",
    "                        break\n",
    "                    i -= 1\n",
    "                    j -= 1\n",
    "                if found: stack = stack[:i+1]\n",
    "                    \n",
    "        return ''.join(stack)"
   ]
  },
  {
   "cell_type": "markdown",
   "metadata": {},
   "source": [
    "# Simpler Stack - O(N * P) runtime, O(N) space"
   ]
  },
  {
   "cell_type": "code",
   "execution_count": 3,
   "metadata": {},
   "outputs": [],
   "source": [
    "class Solution:\n",
    "    def removeOccurrences(self, s: str, part: str) -> str:\n",
    "        stack = []\n",
    "        p = len(part)\n",
    "        \n",
    "        for ch in s: \n",
    "            stack.append(ch)\n",
    "            if \"\".join(stack[-p:]) == part: \n",
    "                stack = stack[:-p]\n",
    "                \n",
    "        return \"\".join(stack)"
   ]
  },
  {
   "cell_type": "code",
   "execution_count": 4,
   "metadata": {},
   "outputs": [
    {
     "data": {
      "text/plain": [
       "'ab'"
      ]
     },
     "execution_count": 4,
     "metadata": {},
     "output_type": "execute_result"
    }
   ],
   "source": [
    "instance = Solution()\n",
    "instance.removeOccurrences(\"axxxxyyyyb\", \"xy\")"
   ]
  }
 ],
 "metadata": {
  "kernelspec": {
   "display_name": "Python 3",
   "language": "python",
   "name": "python3"
  },
  "language_info": {
   "codemirror_mode": {
    "name": "ipython",
    "version": 3
   },
   "file_extension": ".py",
   "mimetype": "text/x-python",
   "name": "python",
   "nbconvert_exporter": "python",
   "pygments_lexer": "ipython3",
   "version": "3.7.3"
  }
 },
 "nbformat": 4,
 "nbformat_minor": 2
}
