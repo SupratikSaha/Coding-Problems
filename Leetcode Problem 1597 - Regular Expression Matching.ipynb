{
 "cells": [
  {
   "cell_type": "markdown",
   "metadata": {},
   "source": [
    "    Problem Statement.\n",
    "\n",
    "    A binary expression tree is a kind of binary tree used to represent arithmetic expressions. Each node of a binary expression tree has either zero or two children. Leaf nodes (nodes with 0 children) correspond to operands (numbers), and internal nodes (nodes with 2 children) correspond to the operators '+' (addition), '-' (subtraction), '*' (multiplication), and '/' (division).\n",
    "\n",
    "    For each internal node with operator o, the infix expression that it represents is (A o B), where A is the expression the left subtree represents and B is the expression the right subtree represents.\n",
    "\n",
    "    You are given a string s, an infix expression containing operands, the operators described above, and parentheses '(' and ')'.\n",
    "\n",
    "    Return any valid binary expression tree, which its in-order traversal reproduces s after omitting the parenthesis from it (see examples below).\n",
    "\n",
    "    Please note that order of operations applies in s. That is, expressions in parentheses are evaluated first, and multiplication and division happen before addition and subtraction.\n",
    "\n",
    "    Operands must also appear in the same order in both s and the in-order traversal of the tree.\n",
    "\n",
    "\n",
    "\n",
    "    Example 1:\n",
    "\n",
    "    Input: s = \"3*4-2*5\"\n",
    "    Output: [-,*,*,3,4,2,5]\n",
    "    Explanation: The tree above is the only valid tree whose inorder traversal produces s.\n",
    "\n",
    "    Example 2:\n",
    "\n",
    "    Input: s = \"2-3/(5*2)+1\"\n",
    "    Output: [+,-,1,2,/,null,null,null,null,3,*,null,null,5,2]\n",
    "    Explanation: The inorder traversal of the tree above is 2-3/5*2+1 which is the same as s without the parenthesis. The tree also produces the correct result and its operands are in the same order as they appear in s.\n",
    "    The tree below is also a valid binary expression tree with the same inorder traversal as s, but it not a valid answer because it does not evaluate to the same value.\n",
    "\n",
    "    The third tree below is also not valid. Although it produces the same result and is equivalent to the above trees, its inorder traversal does not produce s and its operands are not in the same order as s.\n",
    "\n",
    "    Example 3:\n",
    "\n",
    "    Input: s = \"1+2+3+4+5\"\n",
    "    Output: [+,+,5,+,4,null,null,+,3,null,null,1,2]\n",
    "    Explanation: The tree [+,+,5,+,+,null,null,1,2,3,4] is also one of many other valid trees.\n",
    "\n",
    "\n",
    "\n",
    "    Constraints:\n",
    "\n",
    "        1 <= s.length <= 1000\n",
    "        s consists of digits and the characters '+', '-', '*', and '/'.\n",
    "        Operands in s are exactly 1 digit.\n",
    "        It is guaranteed that s is a valid expression."
   ]
  },
  {
   "cell_type": "markdown",
   "metadata": {},
   "source": [
    "# Two Stacks and One Pass - O(N) runtime, O(N) space"
   ]
  },
  {
   "cell_type": "code",
   "execution_count": 3,
   "metadata": {},
   "outputs": [],
   "source": [
    "# Definition for a binary tree node.\n",
    "# class Node(object):\n",
    "#     def __init__(self, val=\" \", left=None, right=None):\n",
    "#         self.val = val\n",
    "#         self.left = left\n",
    "#         self.right = right\n",
    "        \n",
    "class Solution:\n",
    "    def expTree(self, s: str) -> 'Node':\n",
    "        precedence = {'/':2, '*':2, '+':1, '-':1}\n",
    "        ops = {'/','*','+','-'}\n",
    "        operator = []\n",
    "        operand = [Node('0')]\n",
    "        \n",
    "        i = 0\n",
    "        while i<len(s):\n",
    "            ch = s[i]\n",
    "\n",
    "            if ch.isdigit():\n",
    "                # start = i\n",
    "                # while i<len(s) and s[i].isdigit():\n",
    "                #     i += 1\n",
    "                # num = s[start:i]\n",
    "                operand.append(Node(ch))\n",
    "                #i -= 1\n",
    "                \n",
    "            elif ch in ops:\n",
    "                while operator and operator[-1].val!='(' and precedence[operator[-1].val] >= precedence[ch]:\n",
    "                    self.process(operator, operand)\n",
    "                operator.append(Node(ch))\n",
    "\n",
    "            elif ch == '(': \n",
    "                operator.append(Node(ch)); \n",
    "                if s[i+1] == '-':\n",
    "                    operand.append(Node('0'))\n",
    "\n",
    "            elif ch == ')':\n",
    "                while operator[-1].val != '(':\n",
    "                    self.process(operator, operand)\n",
    "                operator.pop()\n",
    "            \n",
    "            i += 1\n",
    "\n",
    "        while operator:\n",
    "            self.process(operator,operand)\n",
    "        \n",
    "        return operand.pop()\n",
    "    \n",
    "    def process(self,operator_stack, operand_stack):\n",
    "        node2 = operand_stack.pop()\n",
    "        node1 = operand_stack.pop()\n",
    "        node = operator_stack.pop()\n",
    "\n",
    "        node.left = node1\n",
    "        node.right = node2\n",
    "\n",
    "        operand_stack.append(node)"
   ]
  },
  {
   "cell_type": "code",
   "execution_count": 4,
   "metadata": {},
   "outputs": [
    {
     "data": {
      "text/plain": [
       "<__main__.Node at 0x176fd14be80>"
      ]
     },
     "execution_count": 4,
     "metadata": {},
     "output_type": "execute_result"
    }
   ],
   "source": [
    "instance = Solution()\n",
    "instance.expTree(\"2-3/(5*2)+1\")"
   ]
  }
 ],
 "metadata": {
  "kernelspec": {
   "display_name": "Python 3",
   "language": "python",
   "name": "python3"
  },
  "language_info": {
   "codemirror_mode": {
    "name": "ipython",
    "version": 3
   },
   "file_extension": ".py",
   "mimetype": "text/x-python",
   "name": "python",
   "nbconvert_exporter": "python",
   "pygments_lexer": "ipython3",
   "version": "3.7.3"
  }
 },
 "nbformat": 4,
 "nbformat_minor": 2
}
