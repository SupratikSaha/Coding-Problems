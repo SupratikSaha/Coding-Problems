{
 "cells": [
  {
   "cell_type": "markdown",
   "metadata": {},
   "source": [
    "Problem Statement. <br/>\n",
    "\n",
    "Given a non-empty 2D array grid of 0's and 1's, an island is a group of 1's (representing land) connected 4-directionally (horizontal or vertical.) You may assume all four edges of the grid are surrounded by water. <br/>\n",
    "Find the maximum area of an island in the given 2D array. (If there is no island, the maximum area is 0.) <br/>\n",
    "\n",
    "Example 1: <br/>\n",
    "[[0,0,1,0,0,0,0,1,0,0,0,0,0], <br/>\n",
    " [0,0,0,0,0,0,0,1,1,1,0,0,0], <br/>\n",
    " [0,1,1,0,1,0,0,0,0,0,0,0,0], <br/>\n",
    " [0,1,0,0,1,1,0,0,1,0,1,0,0], <br/>\n",
    " [0,1,0,0,1,1,0,0,1,1,1,0,0], <br/>\n",
    " [0,0,0,0,0,0,0,0,0,0,1,0,0], <br/>\n",
    " [0,0,0,0,0,0,0,1,1,1,0,0,0], <br/>\n",
    " [0,0,0,0,0,0,0,1,1,0,0,0,0]] <br/>\n",
    "\n",
    "Given the above grid, return 6. Note the answer is not 11, because the island must be connected 4-directionally. <br/>\n",
    "\n",
    "Example 2: <br/>\n",
    "[[0,0,0,0,0,0,0,0]] <br/>\n",
    "\n",
    "Given the above grid, return 0. <br/>\n",
    "Note: The length of each dimension in the given grid does not exceed 50."
   ]
  },
  {
   "cell_type": "markdown",
   "metadata": {},
   "source": [
    "# DFS Iterative - extra space - O(M * N) runtime, O(M * N) space"
   ]
  },
  {
   "cell_type": "code",
   "execution_count": 4,
   "metadata": {},
   "outputs": [],
   "source": [
    "from typing import List\n",
    "\n",
    "class Solution:\n",
    "    def maxAreaOfIsland(self, grid: List[List[int]]) -> int:\n",
    "        seen = set()\n",
    "        ans = 0\n",
    "        for r0, row in enumerate(grid):\n",
    "            for c0, val in enumerate(row):\n",
    "                if val and (r0, c0) not in seen:\n",
    "                    shape = 0\n",
    "                    stack = [(r0, c0)]\n",
    "                    seen.add((r0, c0))\n",
    "                    while stack:\n",
    "                        r, c = stack.pop()\n",
    "                        shape += 1\n",
    "                        for nr, nc in ((r-1, c), (r+1, c), (r, c-1), (r, c+1)):\n",
    "                            if (0 <= nr < len(grid) and 0 <= nc < len(grid[0])\n",
    "                                    and grid[nr][nc] and (nr, nc) not in seen):\n",
    "                                stack.append((nr, nc))\n",
    "                                seen.add((nr, nc))\n",
    "                    ans = max(ans, shape)\n",
    "        return ans"
   ]
  },
  {
   "cell_type": "markdown",
   "metadata": {},
   "source": [
    "# DFS Recursive - O(M * N) runtime, O(M * N) space"
   ]
  },
  {
   "cell_type": "code",
   "execution_count": 1,
   "metadata": {},
   "outputs": [],
   "source": [
    "from typing import List\n",
    "\n",
    "class Solution:\n",
    "    def maxAreaOfIsland(self, grid: List[List[int]]) -> int:\n",
    "        \n",
    "        if not grid or len(grid) == 0:\n",
    "            return 0\n",
    "        \n",
    "        maxArea = 0\n",
    "        m, n = len(grid), len(grid[0])\n",
    "        directions = [(0, -1), (0, 1), (1, 0), (-1, 0)]\n",
    "        \n",
    "        def dfs(i: int, j: int) -> int:\n",
    "            if i < 0 or i >= m or j < 0 or j >= n or grid[i][j] != 1:\n",
    "                return 0\n",
    "            area = 1\n",
    "            grid[i][j] = -1\n",
    "            for x, y in directions:\n",
    "                newX, newY = x + i, y + j\n",
    "                area += dfs(newX, newY)\n",
    "            return area\n",
    "        \n",
    "        for i in range(m):\n",
    "            for j in range(n):\n",
    "                maxArea = max(maxArea, dfs(i, j))\n",
    "                \n",
    "        return maxArea"
   ]
  },
  {
   "cell_type": "code",
   "execution_count": 5,
   "metadata": {},
   "outputs": [
    {
     "data": {
      "text/plain": [
       "4"
      ]
     },
     "execution_count": 5,
     "metadata": {},
     "output_type": "execute_result"
    }
   ],
   "source": [
    "instance = Solution()\n",
    "instance.maxAreaOfIsland([[1,1,0,0,0],[1,1,0,0,0],[0,0,0,1,1],[0,0,0,1,1]])"
   ]
  }
 ],
 "metadata": {
  "kernelspec": {
   "display_name": "Python 3",
   "language": "python",
   "name": "python3"
  },
  "language_info": {
   "codemirror_mode": {
    "name": "ipython",
    "version": 3
   },
   "file_extension": ".py",
   "mimetype": "text/x-python",
   "name": "python",
   "nbconvert_exporter": "python",
   "pygments_lexer": "ipython3",
   "version": "3.7.3"
  }
 },
 "nbformat": 4,
 "nbformat_minor": 2
}
