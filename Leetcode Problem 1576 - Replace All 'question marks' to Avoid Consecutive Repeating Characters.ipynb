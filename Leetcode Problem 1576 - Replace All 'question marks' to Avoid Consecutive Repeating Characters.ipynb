{
 "cells": [
  {
   "cell_type": "markdown",
   "metadata": {},
   "source": [
    "    Problem Statement.\n",
    "\n",
    "    Given a string s containing only lower case English letters and the '?' character, convert all the '?' characters into lower case letters such that the final string does not contain any consecutive repeating characters. You cannot modify the non '?' characters.\n",
    "\n",
    "    It is guaranteed that there are no consecutive repeating characters in the given string except for '?'.\n",
    "\n",
    "    Return the final string after all the conversions (possibly zero) have been made. If there is more than one solution, return any of them. It can be shown that an answer is always possible with the given constraints.\n",
    "\n",
    "\n",
    "\n",
    "    Example 1:\n",
    "\n",
    "    Input: s = \"?zs\"\n",
    "    Output: \"azs\"\n",
    "    Explanation: There are 25 solutions for this problem. From \"azs\" to \"yzs\", all are valid. Only \"z\" is an invalid modification as the string will consist of consecutive repeating characters in \"zzs\".\n",
    "\n",
    "    Example 2:\n",
    "\n",
    "    Input: s = \"ubv?w\"\n",
    "    Output: \"ubvaw\"\n",
    "    Explanation: There are 24 solutions for this problem. Only \"v\" and \"w\" are invalid modifications as the strings will consist of consecutive repeating characters in \"ubvvw\" and \"ubvww\".\n",
    "\n",
    "    Example 3:\n",
    "\n",
    "    Input: s = \"j?qg??b\"\n",
    "    Output: \"jaqgacb\"\n",
    "\n",
    "    Example 4:\n",
    "\n",
    "    Input: s = \"??yw?ipkj?\"\n",
    "    Output: \"acywaipkja\"\n",
    "\n",
    "\n",
    "\n",
    "    Constraints:\n",
    "\n",
    "        1 <= s.length <= 100\n",
    "        s contains only lower case English letters and '?'."
   ]
  },
  {
   "cell_type": "markdown",
   "metadata": {},
   "source": [
    "# Linear Traversal - O(N) runtime, O(N) space"
   ]
  },
  {
   "cell_type": "code",
   "execution_count": 1,
   "metadata": {},
   "outputs": [],
   "source": [
    "class Solution:\n",
    "    def modifyString(self, s: str) -> str:\n",
    "        n = len(s)\n",
    "        s = list(s)\n",
    "        for i, char in enumerate(s):\n",
    "            if char == '?':\n",
    "                if i == 0:\n",
    "                    if i == n-1 or s[i+1] == '?': s[i] = 'a'\n",
    "                    elif i+1<n: s[i] = 'a' if s[i+1] != 'a' else 'b'\n",
    "                    continue\n",
    "                prev = ord(s[i-1]) if s[i-1] != 'z' else ord('a') - 1\n",
    "                if i+1<n and chr(prev + 1) == s[i+1]: \n",
    "                    s[i] = chr(prev + 2) if s[i-1] != 'y' else 'a'\n",
    "                else: s[i] = chr(prev + 1)\n",
    "                    \n",
    "        return ''.join(s)"
   ]
  },
  {
   "cell_type": "markdown",
   "metadata": {},
   "source": [
    "# Set - O(N) runtime, O(N) space"
   ]
  },
  {
   "cell_type": "code",
   "execution_count": 3,
   "metadata": {},
   "outputs": [],
   "source": [
    "class Solution:\n",
    "    def modifyString(self, s: str) -> str:\n",
    "        res, prev = [], '?'\n",
    "        for i, c in enumerate(s):\n",
    "            next = s[i + 1] if i + 1 < len(s) else '?'\n",
    "            prev = c if c != '?' else {'a', 'b', 'c'}.difference({prev, next}).pop()\n",
    "            res.append(prev)\n",
    "        return ''.join(res)"
   ]
  },
  {
   "cell_type": "code",
   "execution_count": 4,
   "metadata": {},
   "outputs": [
    {
     "data": {
      "text/plain": [
       "'baywbipkjb'"
      ]
     },
     "execution_count": 4,
     "metadata": {},
     "output_type": "execute_result"
    }
   ],
   "source": [
    "instance = Solution()\n",
    "instance.modifyString(\"??yw?ipkj?\")"
   ]
  }
 ],
 "metadata": {
  "kernelspec": {
   "display_name": "Python 3",
   "language": "python",
   "name": "python3"
  },
  "language_info": {
   "codemirror_mode": {
    "name": "ipython",
    "version": 3
   },
   "file_extension": ".py",
   "mimetype": "text/x-python",
   "name": "python",
   "nbconvert_exporter": "python",
   "pygments_lexer": "ipython3",
   "version": "3.7.3"
  }
 },
 "nbformat": 4,
 "nbformat_minor": 2
}
