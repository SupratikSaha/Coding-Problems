{
 "cells": [
  {
   "cell_type": "markdown",
   "metadata": {},
   "source": [
    "Problem Statement.\n",
    "\n",
    "You are given an integer n indicating the number of people in a network. Each person is labeled from 0 to n - 1.\n",
    "\n",
    "You are also given a 0-indexed 2D integer array restrictions, where restrictions[i] = [xi, yi] means that person xi and person yi cannot become friends, either directly or indirectly through other people.\n",
    "\n",
    "Initially, no one is friends with each other. You are given a list of friend requests as a 0-indexed 2D integer array requests, where requests[j] = [uj, vj] is a friend request between person uj and person vj.\n",
    "\n",
    "A friend request is successful if uj and vj can be friends. Each friend request is processed in the given order (i.e., requests[j] occurs before requests[j + 1]), and upon a successful request, uj and vj become direct friends for all future friend requests.\n",
    "\n",
    "Return a boolean array result, where each result[j] is true if the jth friend request is successful or false if it is not.\n",
    "\n",
    "Note: If uj and vj are already direct friends, the request is still successful.\n",
    "\n",
    " \n",
    "\n",
    "Example 1:\n",
    "\n",
    "Input: n = 3, restrictions = [[0,1]], requests = [[0,2],[2,1]]\n",
    "Output: [true,false]\n",
    "Explanation:\n",
    "Request 0: Person 0 and person 2 can be friends, so they become direct friends. \n",
    "Request 1: Person 2 and person 1 cannot be friends since person 0 and person 1 would be indirect friends (1--2--0).\n",
    "\n",
    "Example 2:\n",
    "\n",
    "Input: n = 3, restrictions = [[0,1]], requests = [[1,2],[0,2]]\n",
    "Output: [true,false]\n",
    "Explanation:\n",
    "Request 0: Person 1 and person 2 can be friends, so they become direct friends.\n",
    "Request 1: Person 0 and person 2 cannot be friends since person 0 and person 1 would be indirect friends (0--2--1).\n",
    "\n",
    "Example 3:\n",
    "\n",
    "Input: n = 5, restrictions = [[0,1],[1,2],[2,3]], requests = [[0,4],[1,2],[3,1],[3,4]]\n",
    "Output: [true,false,true,false]\n",
    "Explanation:\n",
    "Request 0: Person 0 and person 4 can be friends, so they become direct friends.\n",
    "Request 1: Person 1 and person 2 cannot be friends since they are directly restricted.\n",
    "Request 2: Person 3 and person 1 can be friends, so they become direct friends.\n",
    "Request 3: Person 3 and person 4 cannot be friends since person 0 and person 1 would be indirect friends (0--4--3--1).\n",
    "\n",
    "Constraints:\n",
    "\n",
    "    2 <= n <= 1000\n",
    "    0 <= restrictions.length <= 1000\n",
    "    restrictions[i].length == 2\n",
    "    0 <= xi, yi <= n - 1\n",
    "    xi != yi\n",
    "    1 <= requests.length <= 1000\n",
    "    requests[j].length == 2\n",
    "    0 <= uj, vj <= n - 1\n",
    "    uj != vj"
   ]
  },
  {
   "cell_type": "markdown",
   "metadata": {},
   "source": [
    "# Union Find - O(REQ * RES) runtime, O(N) space"
   ]
  },
  {
   "cell_type": "code",
   "execution_count": 2,
   "metadata": {},
   "outputs": [],
   "source": [
    "from typing import List\n",
    "\n",
    "class Solution:\n",
    "    def friendRequests(self, n: int, restrictions: List[List[int]], requests: List[List[int]]) -> List[bool]:\n",
    "        uf = {i: i for i in range(n)}\n",
    "        \n",
    "        def find(i):\n",
    "            if i != uf[i]:\n",
    "                uf[i] = find(uf[i])\n",
    "                \n",
    "            return uf[i]\n",
    "\n",
    "        res = []\n",
    "        for i, j in requests:\n",
    "            success = True\n",
    "            pi, pj = find(i), find(j)\n",
    "            if pi != pj:\n",
    "                for x, y in restrictions:\n",
    "                    px, py = find(x), find(y)\n",
    "                    if (px, py) == (pi, pj) or (px, py) == (pj, pi):\n",
    "                        success = False\n",
    "                        break\n",
    "                    \n",
    "            if success: uf[pj] = pi\n",
    "            res.append(success)\n",
    "            \n",
    "        return res"
   ]
  },
  {
   "cell_type": "markdown",
   "metadata": {},
   "source": [
    "# Optimized Union Find - O(REQ * RES) runtime, O(N) spac"
   ]
  },
  {
   "cell_type": "code",
   "execution_count": 5,
   "metadata": {},
   "outputs": [],
   "source": [
    "from typing import List\n",
    "from collections import defaultdict\n",
    "\n",
    "class Solution:\n",
    "    def friendRequests(self, n: int, restrictions: List[List[int]], requests: List[List[int]]) -> List[bool]:\n",
    "        parents = [i for i in range(n)]\n",
    "        ranks = [0] * n\n",
    "        forbidden = defaultdict(set)\n",
    "        for i, j in restrictions:\n",
    "            forbidden[i].add(j)\n",
    "            forbidden[j].add(i)\n",
    "        \n",
    "        def find(i):\n",
    "            if i != parents[i]:\n",
    "                parents[i] = find(parents[i])\n",
    "            return parents[i]\n",
    "        \n",
    "        def union(p1, p2):\n",
    "            if ranks[p1] > ranks[p2]:\n",
    "                parents[p2] = p1\n",
    "            elif ranks[p1] < ranks[p2]:\n",
    "                parents[p1] = p2\n",
    "                p1, p2 = p2, p1\n",
    "            else:\n",
    "                ranks[p1] += 1\n",
    "                parents[p2] = p1\n",
    "                \n",
    "            forbidden[p1] |= forbidden[p2]\n",
    "            for i in forbidden[p2]:\n",
    "                forbidden[i].remove(p2)\n",
    "                forbidden[i].add(p1)\n",
    "            del forbidden[p2]\n",
    "        \n",
    "        ans = []\n",
    "        for i, j in requests:\n",
    "            p1 = find(i)\n",
    "            p2 = find(j)\n",
    "            if p1 == p2:\n",
    "                ans.append(True)         \n",
    "            elif p2 in forbidden[p1]:\n",
    "                ans.append(False)\n",
    "            else:\n",
    "                union(p1, p2)\n",
    "                ans.append(True)\n",
    "\n",
    "        return ans"
   ]
  },
  {
   "cell_type": "code",
   "execution_count": 6,
   "metadata": {},
   "outputs": [
    {
     "data": {
      "text/plain": [
       "[True, False]"
      ]
     },
     "execution_count": 6,
     "metadata": {},
     "output_type": "execute_result"
    }
   ],
   "source": [
    "instance = Solution()\n",
    "instance.friendRequests(3, [[0,1]], [[0,2],[2,1]])"
   ]
  }
 ],
 "metadata": {
  "kernelspec": {
   "display_name": "Python 3",
   "language": "python",
   "name": "python3"
  },
  "language_info": {
   "codemirror_mode": {
    "name": "ipython",
    "version": 3
   },
   "file_extension": ".py",
   "mimetype": "text/x-python",
   "name": "python",
   "nbconvert_exporter": "python",
   "pygments_lexer": "ipython3",
   "version": "3.7.3"
  }
 },
 "nbformat": 4,
 "nbformat_minor": 2
}
