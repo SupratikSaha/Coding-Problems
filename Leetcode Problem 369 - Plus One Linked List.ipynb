{
 "cells": [
  {
   "cell_type": "markdown",
   "metadata": {},
   "source": [
    "Problem Statement.\n",
    "\n",
    "Given a non-negative integer represented as a linked list of digits, plus one to the integer.\n",
    "\n",
    "The digits are stored such that the most significant digit is at the head of the list.\n",
    "\n",
    " \n",
    "\n",
    "Example 1:\n",
    "\n",
    "Input: head = [1,2,3]\n",
    "Output: [1,2,4]\n",
    "\n",
    "Example 2:\n",
    "\n",
    "Input: head = [0]\n",
    "Output: [1]\n",
    "\n",
    " \n",
    "\n",
    "Constraints:\n",
    "\n",
    "    The number of nodes in the linked list is in the range [1, 100].\n",
    "    0 <= Node.val <= 9\n",
    "    The number represented by the linked list does not contain leading zeros except for the zero itself. "
   ]
  },
  {
   "cell_type": "markdown",
   "metadata": {},
   "source": [
    "# Reverse List Twice - O(N) runtime, O(1) space"
   ]
  },
  {
   "cell_type": "code",
   "execution_count": 1,
   "metadata": {},
   "outputs": [],
   "source": [
    "# Definition for singly-linked list.\n",
    "# class ListNode:\n",
    "#     def __init__(self, val=0, next=None):\n",
    "#         self.val = val\n",
    "#         self.next = next\n",
    "        \n",
    "class Solution:\n",
    "    def plusOne(self, head: ListNode) -> ListNode:\n",
    "        prev = None\n",
    "        while head:\n",
    "            nextNode = head.next\n",
    "            head.next = prev\n",
    "            prev, head = head, nextNode\n",
    "            \n",
    "        head, prev = prev, None\n",
    "        carry = 1\n",
    "        while head:\n",
    "            carry, head.val = divmod(head.val + carry, 10)\n",
    "            nextNode = head.next\n",
    "            head.next = prev\n",
    "            prev, head = head, nextNode\n",
    "            \n",
    "        head = prev\n",
    "        if carry == 1:\n",
    "            head = ListNode(1, head)\n",
    "        \n",
    "        return head"
   ]
  },
  {
   "cell_type": "markdown",
   "metadata": {},
   "source": [
    "# Using dummy Head - Less than 2 full passes - O(N) runtime, O(1) space"
   ]
  },
  {
   "cell_type": "code",
   "execution_count": 2,
   "metadata": {},
   "outputs": [],
   "source": [
    "# Definition for singly-linked list.\n",
    "# class ListNode:\n",
    "#     def __init__(self, val=0, next=None):\n",
    "#         self.val = val\n",
    "#         self.next = next\n",
    "\n",
    "class Solution:\n",
    "    def plusOne(self, head: ListNode) -> ListNode:\n",
    "        # sentinel head\n",
    "        sentinel = ListNode(0)\n",
    "        sentinel.next = head\n",
    "        not_nine = sentinel\n",
    "\n",
    "        # find the rightmost not-nine digit\n",
    "        while head:\n",
    "            if head.val != 9:\n",
    "                not_nine = head\n",
    "            head = head.next\n",
    "\n",
    "        # increase this rightmost not-nine digit by 1\n",
    "        not_nine.val += 1\n",
    "        not_nine = not_nine.next\n",
    "\n",
    "        # set all the following nines to zeros\n",
    "        while not_nine:\n",
    "            not_nine.val = 0\n",
    "            not_nine = not_nine.next\n",
    "\n",
    "        return sentinel if sentinel.val else sentinel.next"
   ]
  }
 ],
 "metadata": {
  "kernelspec": {
   "display_name": "Python 3",
   "language": "python",
   "name": "python3"
  },
  "language_info": {
   "codemirror_mode": {
    "name": "ipython",
    "version": 3
   },
   "file_extension": ".py",
   "mimetype": "text/x-python",
   "name": "python",
   "nbconvert_exporter": "python",
   "pygments_lexer": "ipython3",
   "version": "3.7.3"
  }
 },
 "nbformat": 4,
 "nbformat_minor": 2
}
