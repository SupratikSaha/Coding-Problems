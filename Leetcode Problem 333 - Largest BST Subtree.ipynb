{
 "cells": [
  {
   "cell_type": "markdown",
   "metadata": {},
   "source": [
    "Problem Statement.\n",
    "\n",
    "Given the root of a binary tree, find the largest subtree, which is also a Binary Search Tree (BST), where the largest means subtree has the largest number of nodes.\n",
    "\n",
    "A Binary Search Tree (BST) is a tree in which all the nodes follow the below-mentioned properties:\n",
    "\n",
    "    The left subtree values are less than the value of their parent (root) node's value.\n",
    "    The right subtree values are greater than the value of their parent (root) node's value.\n",
    "\n",
    "Note: A subtree must include all of its descendants.\n",
    "\n",
    "Follow up: Can you figure out ways to solve it with O(n) time complexity?\n",
    "\n",
    " \n",
    "\n",
    "Example 1:\n",
    "\n",
    "Input: root = [10,5,15,1,8,null,7]\n",
    "Output: 3\n",
    "Explanation: The Largest BST Subtree in this case is the highlighted one. The return value is the subtree's size, which is 3.\n",
    "\n",
    "Example 2:\n",
    "\n",
    "Input: root = [4,2,7,2,3,5,null,2,null,null,null,null,null,1]\n",
    "Output: 2\n",
    "\n",
    " \n",
    "\n",
    "Constraints:\n",
    "\n",
    "    The number of nodes in the tree is in the range [0, 104].\n",
    "    -10^4 <= Node.val <= 10^4"
   ]
  },
  {
   "cell_type": "markdown",
   "metadata": {},
   "source": [
    "# DFS - O(N) runtime, O(N) space "
   ]
  },
  {
   "cell_type": "code",
   "execution_count": 1,
   "metadata": {},
   "outputs": [],
   "source": [
    "# Definition for a binary tree node.\n",
    "# class TreeNode:\n",
    "#     def __init__(self, val=0, left=None, right=None):\n",
    "#         self.val = val\n",
    "#         self.left = left\n",
    "#         self.right = right\n",
    "\n",
    "class Solution:\n",
    "    def largestBSTSubtree(self, root: TreeNode) -> int:\n",
    "        def helper(root):\n",
    "            nonlocal result\n",
    "            if root is None:\n",
    "                return [True, float('inf'), float('-inf'), 0]\n",
    "            \n",
    "            isleftbst, leftmin, leftmax, leftsize = helper(root.left)\n",
    "            isrightbst, rightmin, rightmax, rightsize = helper(root.right)\n",
    "            \n",
    "            if isleftbst and isrightbst and root.val<rightmin and root.val > leftmax:\n",
    "                #subtree is bst\n",
    "                result = max(result, leftsize + rightsize +1) # leftsize + rightsize + node itself\n",
    "                leftmin = min(root.val, leftmin) #(lowest of subtree)\n",
    "                rightmax = max(root.val, rightmax) #(maxest of subtree)\n",
    "                return [True, leftmin, rightmax, leftsize + rightsize +1]\n",
    "            else:\n",
    "                #subtree is not a bst\n",
    "                return [False, float('inf'), float('-inf'), 0] \n",
    "        \n",
    "        result = 0\n",
    "        helper(root)\n",
    "        return result"
   ]
  }
 ],
 "metadata": {
  "kernelspec": {
   "display_name": "Python 3",
   "language": "python",
   "name": "python3"
  },
  "language_info": {
   "codemirror_mode": {
    "name": "ipython",
    "version": 3
   },
   "file_extension": ".py",
   "mimetype": "text/x-python",
   "name": "python",
   "nbconvert_exporter": "python",
   "pygments_lexer": "ipython3",
   "version": "3.7.3"
  }
 },
 "nbformat": 4,
 "nbformat_minor": 2
}
