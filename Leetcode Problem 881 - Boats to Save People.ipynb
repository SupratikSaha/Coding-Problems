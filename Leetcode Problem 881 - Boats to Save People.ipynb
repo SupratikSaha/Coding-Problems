{
 "cells": [
  {
   "cell_type": "markdown",
   "metadata": {},
   "source": [
    "Problem Statement.\n",
    "\n",
    "You are given an array people where people[i] is the weight of the ith person, and an infinite number of boats where each boat can carry a maximum weight of limit. Each boat carries at most two people at the same time, provided the sum of the weight of those people is at most limit.\n",
    "\n",
    "Return the minimum number of boats to carry every given person.\n",
    "\n",
    " \n",
    "\n",
    "Example 1:\n",
    "\n",
    "Input: people = [1,2], limit = 3\n",
    "Output: 1\n",
    "Explanation: 1 boat (1, 2)\n",
    "\n",
    "Example 2:\n",
    "\n",
    "Input: people = [3,2,2,1], limit = 3\n",
    "Output: 3\n",
    "Explanation: 3 boats (1, 2), (2) and (3)\n",
    "\n",
    "Example 3:\n",
    "\n",
    "Input: people = [3,5,3,4], limit = 5\n",
    "Output: 4\n",
    "Explanation: 4 boats (3), (3), (4), (5)\n",
    "\n",
    " \n",
    "\n",
    "Constraints:\n",
    "\n",
    "    1 <= people.length <= 5 * 10^4\n",
    "    1 <= people[i] <= limit <= 3 * 10^4"
   ]
  },
  {
   "cell_type": "markdown",
   "metadata": {},
   "source": [
    "# Double Loop - O(N + L ^ 2) runtime, O(L) space, where N is the length of people, L is limit"
   ]
  },
  {
   "cell_type": "code",
   "execution_count": 3,
   "metadata": {},
   "outputs": [],
   "source": [
    "from typing import List\n",
    "from collections import Counter\n",
    "\n",
    "class Solution:\n",
    "    def numRescueBoats(self, people: List[int], limit: int) -> int:\n",
    "        weightDict = Counter(people)\n",
    "        boats = 0\n",
    "        \n",
    "        for weight in reversed(range(1, limit+1)):\n",
    "            if weightDict[weight] > 0:\n",
    "                j = limit-weight\n",
    "                while weightDict[weight] > 0 and j:\n",
    "                    if weightDict[j] > 0:\n",
    "                        minVal = weightDict[weight] // 2 if j == weight else min(weightDict[weight], weightDict[j])\n",
    "                        boats += minVal\n",
    "                        weightDict[weight] -= minVal\n",
    "                        weightDict[j] -= minVal\n",
    "                    j -= 1\n",
    "                boats += weightDict[weight]\n",
    "                weightDict.pop(weight)\n",
    "                \n",
    "        return boats"
   ]
  },
  {
   "cell_type": "markdown",
   "metadata": {},
   "source": [
    "# Sort - O(N Log N) runtime, O(N) space"
   ]
  },
  {
   "cell_type": "code",
   "execution_count": 5,
   "metadata": {},
   "outputs": [],
   "source": [
    "from typing import List\n",
    "\n",
    "class Solution:\n",
    "    def numRescueBoats(self, people: List[int], limit: int) -> int:\n",
    "        people.sort()\n",
    "        \n",
    "        i, j = 0, len(people) - 1\n",
    "        ans = 0\n",
    "        \n",
    "        while i <= j:\n",
    "            ans += 1\n",
    "            if people[i] + people[j] <= limit:\n",
    "                i += 1\n",
    "            j -= 1\n",
    "            \n",
    "        return ans"
   ]
  },
  {
   "cell_type": "code",
   "execution_count": 6,
   "metadata": {},
   "outputs": [
    {
     "data": {
      "text/plain": [
       "3"
      ]
     },
     "execution_count": 6,
     "metadata": {},
     "output_type": "execute_result"
    }
   ],
   "source": [
    "instance = Solution()\n",
    "instance.numRescueBoats([3,2,2,1], 3)"
   ]
  }
 ],
 "metadata": {
  "kernelspec": {
   "display_name": "Python 3",
   "language": "python",
   "name": "python3"
  },
  "language_info": {
   "codemirror_mode": {
    "name": "ipython",
    "version": 3
   },
   "file_extension": ".py",
   "mimetype": "text/x-python",
   "name": "python",
   "nbconvert_exporter": "python",
   "pygments_lexer": "ipython3",
   "version": "3.7.3"
  }
 },
 "nbformat": 4,
 "nbformat_minor": 2
}
