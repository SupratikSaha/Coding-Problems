{
 "cells": [
  {
   "cell_type": "markdown",
   "metadata": {},
   "source": [
    "Problem Statement.\n",
    "\n",
    "In this problem, a rooted tree is a directed graph such that, there is exactly one node (the root) for which all other nodes are descendants of this node, plus every node has exactly one parent, except for the root node which has no parents.\n",
    "\n",
    "The given input is a directed graph that started as a rooted tree with n nodes (with distinct values from 1 to n), with one additional directed edge added. The added edge has two different vertices chosen from 1 to n, and was not an edge that already existed.\n",
    "\n",
    "The resulting graph is given as a 2D-array of edges. Each element of edges is a pair [ui, vi] that represents a directed edge connecting nodes ui and vi, where ui is a parent of child vi.\n",
    "\n",
    "Return an edge that can be removed so that the resulting graph is a rooted tree of n nodes. If there are multiple answers, return the answer that occurs last in the given 2D-array.\n",
    "\n",
    " \n",
    "\n",
    "Example 1:\n",
    "\n",
    "Input: edges = [[1,2],[1,3],[2,3]]\n",
    "Output: [2,3]\n",
    "\n",
    "Example 2:\n",
    "\n",
    "Input: edges = [[1,2],[2,3],[3,4],[4,1],[1,5]]\n",
    "Output: [4,1]\n",
    "\n",
    " \n",
    "\n",
    "Constraints:\n",
    "\n",
    "    n == edges.length\n",
    "    3 <= n <= 1000\n",
    "    edges[i].length == 2\n",
    "    1 <= ui, vi <= n\n",
    "    ui != vi"
   ]
  },
  {
   "cell_type": "markdown",
   "metadata": {},
   "source": [
    "# Union Find - O(N) runtime, O(N) space, where N is the number of edges"
   ]
  },
  {
   "cell_type": "markdown",
   "metadata": {},
   "source": [
    "## Why a simple union-find fails for some test case? Because mainly union-find deals with undirected graphs. For this problem, when all the nodes in the input have exactly one parent, we can use union-find to deal with it. Consider the example 2 in the description: [[1,2], [2,3], [3,4], [4,1], [1,5]].\n",
    "\n",
    "## However when some node has 2 parents, we know one of the edges from its parents to the node must be the result. To find out which one, we write a subroutine is_cycle to check if the edge is the result, otherwise returns the other edge."
   ]
  },
  {
   "cell_type": "code",
   "execution_count": 1,
   "metadata": {},
   "outputs": [],
   "source": [
    "from typing import List\n",
    "\n",
    "class Solution:\n",
    "    def findRedundantDirectedConnection(self, edges: List[List[int]]) -> List[int]:\n",
    "        \n",
    "        def is_cycle(edge):\n",
    "            \"\"\"return True if from edge=x, y can get back to x\"\"\"\n",
    "            x, y = edge\n",
    "            while x != y and x in parent:\n",
    "                x = parent[x]\n",
    "            return x == y\n",
    "            \n",
    "        parent = {}\n",
    "        candidates = []\n",
    "        for a, b in edges:\n",
    "            if b not in parent:\n",
    "                parent[b] = a\n",
    "            else:\n",
    "                candidates.append([parent[b], b])\n",
    "                candidates.append([a, b])\n",
    "                \n",
    "        if candidates:\n",
    "            if is_cycle(candidates[0]):\n",
    "                return candidates[0]\n",
    "            return candidates[1]\n",
    "        \n",
    "        parent = {i: i for i in range(1001)}\n",
    "        rank = {i: 0 for i in range(1001)}\n",
    "        \n",
    "        def find(x):\n",
    "            if x != parent[x]:\n",
    "                parent[x] = find(parent[x]) \n",
    "            return parent[x]\n",
    "        \n",
    "        def union(x, y):\n",
    "            x, y = find(x), find(y)\n",
    "            if x != y:\n",
    "                if rank[y] > rank[x]:\n",
    "                    x, y = y, x\n",
    "                parent[y] = x\n",
    "                rank[x] += rank[x] == rank[y]\n",
    "                return True\n",
    "            \n",
    "            return False\n",
    "        \n",
    "        for a, b in edges:\n",
    "            if not union(a, b): \n",
    "                return [a,b]\n",
    "            \n",
    "        return []"
   ]
  },
  {
   "cell_type": "code",
   "execution_count": 2,
   "metadata": {},
   "outputs": [
    {
     "data": {
      "text/plain": [
       "[2, 3]"
      ]
     },
     "execution_count": 2,
     "metadata": {},
     "output_type": "execute_result"
    }
   ],
   "source": [
    "instance = Solution()\n",
    "instance.findRedundantDirectedConnection([[1,2],[1,3],[2,3]])"
   ]
  }
 ],
 "metadata": {
  "kernelspec": {
   "display_name": "Python 3",
   "language": "python",
   "name": "python3"
  },
  "language_info": {
   "codemirror_mode": {
    "name": "ipython",
    "version": 3
   },
   "file_extension": ".py",
   "mimetype": "text/x-python",
   "name": "python",
   "nbconvert_exporter": "python",
   "pygments_lexer": "ipython3",
   "version": "3.7.3"
  }
 },
 "nbformat": 4,
 "nbformat_minor": 2
}
