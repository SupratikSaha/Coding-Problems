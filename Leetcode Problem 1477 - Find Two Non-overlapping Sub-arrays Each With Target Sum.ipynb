{
 "cells": [
  {
   "cell_type": "markdown",
   "metadata": {},
   "source": [
    "Problem Statement. <br/>\n",
    "\n",
    "Given an array of integers arr and an integer target. <br/>\n",
    "You have to find two non-overlapping sub-arrays of arr each with sum equal target. There can be multiple answers so you have to find an answer where the sum of the lengths of the two sub-arrays is minimum. <br/>\n",
    "Return the minimum sum of the lengths of the two required sub-arrays, or return -1 if you cannot find such two sub-arrays. <br/>\n",
    "\n",
    "Example 1: <br/>\n",
    "Input: arr = [3,2,2,4,3], target = 3 <br/>\n",
    "Output: 2 <br/>\n",
    "Explanation: Only two sub-arrays have sum = 3 ([3] and [3]). The sum of their lengths is 2. <br/>\n",
    "\n",
    "Example 2: <br/>\n",
    "Input: arr = [7,3,4,7], target = 7 <br/>\n",
    "Output: 2 <br/>\n",
    "Explanation: Although we have three non-overlapping sub-arrays of sum = 7 ([7], [3,4] and [7]), but we will choose the first and third sub-arrays as the sum of their lengths is 2. <br/>\n",
    "\n",
    "Example 3: <br/>\n",
    "Input: arr = [4,3,2,6,2,3,4], target = 6 <br/>\n",
    "Output: -1 <br/>\n",
    "Explanation: We have only one sub-array of sum = 6. <br/>\n",
    "\n",
    "Example 4: <br/>\n",
    "Input: arr = [5,5,4,4,5], target = 3 <br/>\n",
    "Output: -1 <br/>\n",
    "Explanation: We cannot find a sub-array of sum = 3. <br/>\n",
    "\n",
    "Example 5: <br/>\n",
    "Input: arr = [3,1,1,1,5,1,2,1], target = 3 <br/>\n",
    "Output: 3 <br/>\n",
    "Explanation: Note that sub-arrays [1,2] and [2,1] cannot be an answer because they overlap."
   ]
  },
  {
   "cell_type": "markdown",
   "metadata": {},
   "source": [
    "# Sliding Window and Two Loops - O(N ^ 2) runtime, O(N) space"
   ]
  },
  {
   "cell_type": "code",
   "execution_count": 1,
   "metadata": {},
   "outputs": [],
   "source": [
    "from typing import List\n",
    "\n",
    "class Solution:\n",
    "    def minSumOfLengths(self, arr: List[int], target: int) -> int:\n",
    "        targetList = []\n",
    "        start, currSum = 0, 0\n",
    "        \n",
    "        for end in range(len(arr)):\n",
    "            currSum += arr[end]\n",
    "            while start <= end and currSum > target:\n",
    "                currSum -= arr[start]\n",
    "                start += 1\n",
    "                \n",
    "            if currSum == target:\n",
    "                targetList.append((end - start + 1, [start, end]))\n",
    "        \n",
    "        minLen = float('inf')\n",
    "        n = len(targetList)\n",
    "        for i in range(n):\n",
    "            for j in range(i+1, n):\n",
    "                if (targetList[i][1][1] < targetList[j][1][0] or targetList[j][1][1] < targetList[i][1][0]):\n",
    "                    minLen = min(minLen, targetList[i][0] + targetList [j][0])\n",
    "        \n",
    "        return minLen if minLen < float('inf') else -1"
   ]
  },
  {
   "cell_type": "markdown",
   "metadata": {},
   "source": [
    "# Sliding Window and DP - O(N) runtime, O(N) space"
   ]
  },
  {
   "cell_type": "code",
   "execution_count": 4,
   "metadata": {},
   "outputs": [],
   "source": [
    "from typing import List\n",
    "\n",
    "class Solution:\n",
    "    def minSumOfLengths(self, arr: List[int], target: int) -> int:\n",
    "        i, window, result = 0, 0, float('inf')\n",
    "        premin = [float('inf')] * len(arr)\n",
    "        for j, num in enumerate(arr):\n",
    "            window += num\n",
    "            while window > target:\n",
    "                window -= arr[i]\n",
    "                i += 1\n",
    "            if window == target:\n",
    "                curr = j - i + 1\n",
    "                result = min(result, curr + premin[i - 1])\n",
    "                premin[j] = min(curr, premin[j - 1])\n",
    "            else:\n",
    "                premin[j] = premin[j - 1]\n",
    "        return result if result < float('inf') else -1"
   ]
  },
  {
   "cell_type": "code",
   "execution_count": 5,
   "metadata": {},
   "outputs": [
    {
     "data": {
      "text/plain": [
       "3"
      ]
     },
     "execution_count": 5,
     "metadata": {},
     "output_type": "execute_result"
    }
   ],
   "source": [
    "instance = Solution()\n",
    "instance.minSumOfLengths([3,1,1,1,5,1,2,1], 3)"
   ]
  }
 ],
 "metadata": {
  "kernelspec": {
   "display_name": "Python 3",
   "language": "python",
   "name": "python3"
  },
  "language_info": {
   "codemirror_mode": {
    "name": "ipython",
    "version": 3
   },
   "file_extension": ".py",
   "mimetype": "text/x-python",
   "name": "python",
   "nbconvert_exporter": "python",
   "pygments_lexer": "ipython3",
   "version": "3.7.3"
  }
 },
 "nbformat": 4,
 "nbformat_minor": 2
}
