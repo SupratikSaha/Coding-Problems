{
 "cells": [
  {
   "cell_type": "markdown",
   "metadata": {},
   "source": [
    "Problem Statement.\n",
    "\n",
    "Given an integer n, return a list of all possible full binary trees with n nodes. Each node of each tree in the answer must have Node.val == 0.\n",
    "\n",
    "Each element of the answer is the root node of one possible tree. You may return the final list of trees in any order.\n",
    "\n",
    "A full binary tree is a binary tree where each node has exactly 0 or 2 children.\n",
    "\n",
    " \n",
    "\n",
    "Example 1:\n",
    "\n",
    "Input: n = 7\n",
    "Output: [[0,0,0,null,null,0,0,null,null,0,0],[0,0,0,null,null,0,0,0,0],[0,0,0,0,0,0,0],[0,0,0,0,0,null,null,null,null,0,0],[0,0,0,0,0,null,null,0,0]]\n",
    "\n",
    "Example 2:\n",
    "\n",
    "Input: n = 3\n",
    "Output: [[0,0,0]]\n",
    "\n",
    " \n",
    "\n",
    "Constraints:\n",
    "\n",
    "    1 <= n <= 20"
   ]
  },
  {
   "cell_type": "markdown",
   "metadata": {},
   "source": [
    "# Recursion - O(2 ^ N) runtime, O(2 ^ N) space"
   ]
  },
  {
   "cell_type": "code",
   "execution_count": 2,
   "metadata": {},
   "outputs": [],
   "source": [
    "from typing import List\n",
    "# Definition for a binary tree node.\n",
    "# class TreeNode:\n",
    "#     def __init__(self, val=0, left=None, right=None):\n",
    "#         self.val = val\n",
    "#         self.left = left\n",
    "#         self.right = right\n",
    "        \n",
    "class Solution:\n",
    "    def allPossibleFBT(self, n: int) -> List[TreeNode]:\n",
    "        memo = {0: [], 1: [TreeNode(0)]}\n",
    "        \n",
    "        def allPossibleFBTRecursive(N):\n",
    "            if N not in memo:\n",
    "                ans = []\n",
    "                for x in range(N):\n",
    "                    y = N - 1 - x\n",
    "                    for left in allPossibleFBTRecursive(x):\n",
    "                        for right in allPossibleFBTRecursive(y):\n",
    "                            bns = TreeNode(0)\n",
    "                            bns.left = left\n",
    "                            bns.right = right\n",
    "                            ans.append(bns)\n",
    "                memo[N] = ans\n",
    "                \n",
    "            return memo[N]\n",
    "        \n",
    "        allPossibleFBTRecursive(n)\n",
    "\n",
    "        return memo[n]"
   ]
  }
 ],
 "metadata": {
  "kernelspec": {
   "display_name": "Python 3",
   "language": "python",
   "name": "python3"
  },
  "language_info": {
   "codemirror_mode": {
    "name": "ipython",
    "version": 3
   },
   "file_extension": ".py",
   "mimetype": "text/x-python",
   "name": "python",
   "nbconvert_exporter": "python",
   "pygments_lexer": "ipython3",
   "version": "3.7.3"
  }
 },
 "nbformat": 4,
 "nbformat_minor": 2
}
