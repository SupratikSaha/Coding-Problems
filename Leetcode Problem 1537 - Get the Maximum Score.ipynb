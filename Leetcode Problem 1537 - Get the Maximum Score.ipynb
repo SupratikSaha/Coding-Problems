{
 "cells": [
  {
   "cell_type": "markdown",
   "metadata": {},
   "source": [
    "Problem Statement.\n",
    "\n",
    "You are given two sorted arrays of distinct integers nums1 and nums2.\n",
    "\n",
    "A valid path is defined as follows:\n",
    "\n",
    "    Choose array nums1 or nums2 to traverse (from index-0).\n",
    "    Traverse the current array from left to right.\n",
    "    If you are reading any value that is present in nums1 and nums2 you are allowed to change your path to the other array. (Only one repeated value is considered in the valid path).\n",
    "\n",
    "Score is defined as the sum of uniques values in a valid path.\n",
    "\n",
    "Return the maximum score you can obtain of all possible valid paths.\n",
    "\n",
    "Since the answer may be too large, return it modulo 10^9 + 7.\n",
    "\n",
    " \n",
    "\n",
    "Example 1:\n",
    "\n",
    "Input: nums1 = [2,4,5,8,10], nums2 = [4,6,8,9]\n",
    "Output: 30\n",
    "Explanation: Valid paths:\n",
    "[2,4,5,8,10], [2,4,5,8,9], [2,4,6,8,9], [2,4,6,8,10],  (starting from nums1)\n",
    "[4,6,8,9], [4,5,8,10], [4,5,8,9], [4,6,8,10]    (starting from nums2)\n",
    "The maximum is obtained with the path in green [2,4,6,8,10].\n",
    "\n",
    "Example 2:\n",
    "\n",
    "Input: nums1 = [1,3,5,7,9], nums2 = [3,5,100]\n",
    "Output: 109\n",
    "Explanation: Maximum sum is obtained with the path [1,3,5,100].\n",
    "\n",
    "Example 3:\n",
    "\n",
    "Input: nums1 = [1,2,3,4,5], nums2 = [6,7,8,9,10]\n",
    "Output: 40\n",
    "Explanation: There are no common elements between nums1 and nums2.\n",
    "Maximum sum is obtained with the path [6,7,8,9,10].\n",
    "\n",
    "Example 4:\n",
    "\n",
    "Input: nums1 = [1,4,5,8,9,11,19], nums2 = [2,3,4,11,12]\n",
    "Output: 61\n",
    "\n",
    " \n",
    "\n",
    "Constraints:\n",
    "\n",
    "    1 <= nums1.length <= 10^5\n",
    "    1 <= nums2.length <= 10^5\n",
    "    1 <= nums1[i], nums2[i] <= 10^7\n",
    "    nums1 and nums2 are strictly increasing."
   ]
  },
  {
   "cell_type": "markdown",
   "metadata": {},
   "source": [
    "# Two Pointers - O(M + N) runtime, O(1) space"
   ]
  },
  {
   "cell_type": "code",
   "execution_count": 4,
   "metadata": {},
   "outputs": [],
   "source": [
    "from typing import List\n",
    "\n",
    "class Solution:\n",
    "    def maxSum(self, nums1: List[int], nums2: List[int]) -> int:\n",
    "        i, j, m , n = 0, 0, len(nums1), len(nums2)\n",
    "        curNums1Sum, curNums2Sum = 0, 0\n",
    "        \n",
    "        while i < m and j < n:\n",
    "            if nums1[i] < nums2[j]:\n",
    "                curNums1Sum += nums1[i]\n",
    "                i += 1\n",
    "            elif nums1[i] > nums2[j]:\n",
    "                curNums2Sum += nums2[j]\n",
    "                j += 1\n",
    "            else:\n",
    "                curNums1Sum =  curNums2Sum = max(curNums1Sum, curNums2Sum) + nums1[i]\n",
    "                i += 1\n",
    "                j += 1\n",
    "                \n",
    "        curNums1Sum += sum(nums1[i:])\n",
    "        curNums2Sum += sum(nums2[j:])\n",
    "            \n",
    "        return max(curNums1Sum, curNums2Sum) % (10**9 + 7)"
   ]
  },
  {
   "cell_type": "code",
   "execution_count": 5,
   "metadata": {},
   "outputs": [
    {
     "data": {
      "text/plain": [
       "61"
      ]
     },
     "execution_count": 5,
     "metadata": {},
     "output_type": "execute_result"
    }
   ],
   "source": [
    "instance = Solution()\n",
    "instance.maxSum([1,4,5,8,9,11,19], [2,3,4,11,12])"
   ]
  }
 ],
 "metadata": {
  "kernelspec": {
   "display_name": "Python 3",
   "language": "python",
   "name": "python3"
  },
  "language_info": {
   "codemirror_mode": {
    "name": "ipython",
    "version": 3
   },
   "file_extension": ".py",
   "mimetype": "text/x-python",
   "name": "python",
   "nbconvert_exporter": "python",
   "pygments_lexer": "ipython3",
   "version": "3.7.3"
  }
 },
 "nbformat": 4,
 "nbformat_minor": 2
}
