{
 "cells": [
  {
   "cell_type": "markdown",
   "metadata": {},
   "source": [
    "    Problem Statement.\n",
    "\n",
    "    Table: UserVisits\n",
    "\n",
    "    +-------------+------+\n",
    "    | Column Name | Type |\n",
    "    +-------------+------+\n",
    "    | user_id     | int  |\n",
    "    | visit_date  | date |\n",
    "    +-------------+------+\n",
    "    This table does not have a primary key.\n",
    "    This table contains logs of the dates that users vistied a certain retailer.\n",
    "\n",
    "\n",
    "\n",
    "    Assume today's date is '2021-1-1'.\n",
    "\n",
    "    Write an SQL query that will, for each user_id, find out the largest window of days between each visit and the one right after it (or today if you are considering the last visit).\n",
    "\n",
    "    Return the result table ordered by user_id.\n",
    "\n",
    "    The query result format is in the following example:\n",
    "\n",
    "\n",
    "\n",
    "    UserVisits table:\n",
    "    +---------+------------+\n",
    "    | user_id | visit_date |\n",
    "    +---------+------------+\n",
    "    | 1       | 2020-11-28 |\n",
    "    | 1       | 2020-10-20 |\n",
    "    | 1       | 2020-12-3  |\n",
    "    | 2       | 2020-10-5  |\n",
    "    | 2       | 2020-12-9  |\n",
    "    | 3       | 2020-11-11 |\n",
    "    +---------+------------+\n",
    "    Result table:\n",
    "    +---------+---------------+\n",
    "    | user_id | biggest_window|\n",
    "    +---------+---------------+\n",
    "    | 1       | 39            |\n",
    "    | 2       | 65            |\n",
    "    | 3       | 51            |\n",
    "    +---------+---------------+\n",
    "    For the first user, the windows in question are between dates:\n",
    "        - 2020-10-20 and 2020-11-28 with a total of 39 days. \n",
    "        - 2020-11-28 and 2020-12-3 with a total of 5 days. \n",
    "        - 2020-12-3 and 2021-1-1 with a total of 29 days.\n",
    "    Making the biggest window the one with 39 days.\n",
    "    For the second user, the windows in question are between dates:\n",
    "        - 2020-10-5 and 2020-12-9 with a total of 65 days.\n",
    "        - 2020-12-9 and 2021-1-1 with a total of 23 days.\n",
    "    Making the biggest window the one with 65 days.\n",
    "    For the third user, the only window in question is between dates 2020-11-11 and 2021-1-1 with a total of 51 days."
   ]
  },
  {
   "cell_type": "markdown",
   "metadata": {},
   "source": [
    "# Lag Window Function"
   ]
  },
  {
   "cell_type": "code",
   "execution_count": null,
   "metadata": {},
   "outputs": [],
   "source": [
    "select user_id, max(datediff(visit_date, prev_date)) as biggest_window\n",
    "from\n",
    "(select user_id, visit_date, \n",
    "LAG(visit_date, 1) OVER (PARTITION BY user_id ORDER BY visit_date) as prev_date\n",
    "from \n",
    "(SELECT * from UserVisits\n",
    "UNION\n",
    "select distinct(user_id) as user_id, '2021-01-01' as visit_date\n",
    "from UserVisits)a ) tab\n",
    "GROUP BY 1\n",
    "ORDER BY 1"
   ]
  },
  {
   "cell_type": "markdown",
   "metadata": {},
   "source": [
    "# Simpler LEAD function"
   ]
  },
  {
   "cell_type": "code",
   "execution_count": null,
   "metadata": {},
   "outputs": [],
   "source": [
    "select user_id, max(datediff(next_date, visit_date)) as biggest_window\n",
    "from\n",
    "(select user_id, visit_date, \n",
    "LEAD(visit_date, 1, '2021-01-01') OVER (PARTITION BY user_id ORDER BY visit_date) as next_date\n",
    "from UserVisits) tab\n",
    "GROUP BY 1\n",
    "ORDER BY 1"
   ]
  }
 ],
 "metadata": {
  "kernelspec": {
   "display_name": "Python 3",
   "language": "python",
   "name": "python3"
  },
  "language_info": {
   "codemirror_mode": {
    "name": "ipython",
    "version": 3
   },
   "file_extension": ".py",
   "mimetype": "text/x-python",
   "name": "python",
   "nbconvert_exporter": "python",
   "pygments_lexer": "ipython3",
   "version": "3.7.3"
  }
 },
 "nbformat": 4,
 "nbformat_minor": 2
}
