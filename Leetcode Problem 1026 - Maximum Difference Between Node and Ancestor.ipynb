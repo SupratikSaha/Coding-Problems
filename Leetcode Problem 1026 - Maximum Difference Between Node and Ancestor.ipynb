{
 "cells": [
  {
   "cell_type": "markdown",
   "metadata": {},
   "source": [
    "Problem Statement.\n",
    "\n",
    "Given the root of a binary tree, find the maximum value v for which there exist different nodes a and b where v = |a.val - b.val| and a is an ancestor of b.\n",
    "\n",
    "A node a is an ancestor of b if either: any child of a is equal to b or any child of a is an ancestor of b.\n",
    "\n",
    " \n",
    "\n",
    "Example 1:\n",
    "\n",
    "Input: root = [8,3,10,1,6,null,14,null,null,4,7,13]\n",
    "Output: 7\n",
    "Explanation: We have various ancestor-node differences, some of which are given below :\n",
    "|8 - 3| = 5\n",
    "|3 - 7| = 4\n",
    "|8 - 1| = 7\n",
    "|10 - 13| = 3\n",
    "Among all possible differences, the maximum value of 7 is obtained by |8 - 1| = 7.\n",
    "\n",
    "Example 2:\n",
    "\n",
    "Input: root = [1,null,2,null,0,3]\n",
    "Output: 3\n",
    "\n",
    "\n",
    "Constraints:\n",
    "\n",
    "    The number of nodes in the tree is in the range [2, 5000].\n",
    "    0 <= Node.val <= 10^5"
   ]
  },
  {
   "cell_type": "markdown",
   "metadata": {},
   "source": [
    "# DFS - O(N) runtime, O(N) space"
   ]
  },
  {
   "cell_type": "code",
   "execution_count": 2,
   "metadata": {},
   "outputs": [],
   "source": [
    "from typing import Optional\n",
    "\n",
    "# Definition for a binary tree node.\n",
    "# class TreeNode:\n",
    "#     def __init__(self, val=0, left=None, right=None):\n",
    "#         self.val = val\n",
    "#         self.left = left\n",
    "#         self.right = right\n",
    "\n",
    "class Solution:\n",
    "    def maxAncestorDiff(self, root: Optional[TreeNode]) -> int:\n",
    "        \n",
    "        def dfs(node):\n",
    "            nonlocal maxVal\n",
    "            if not node: return None, None\n",
    "            \n",
    "            lMin, lMax = dfs(node.left)\n",
    "            rMin, rMax = dfs(node.right)\n",
    "            \n",
    "            curMin, curMax = node.val, node.val\n",
    "            for comp in [lMin, lMax, rMin, rMax]:\n",
    "                if comp is not None:\n",
    "                    maxVal = max(maxVal, abs(comp - node.val))\n",
    "                    curMin = min(curMin, comp)\n",
    "                    curMax = max(curMax, comp)\n",
    "                    \n",
    "            return curMin, curMax\n",
    "        \n",
    "        maxVal = 0\n",
    "        dfs(root)\n",
    "        return maxVal"
   ]
  },
  {
   "cell_type": "markdown",
   "metadata": {},
   "source": [
    "# DFS - O(N) runtime, O(N) space"
   ]
  },
  {
   "cell_type": "code",
   "execution_count": 3,
   "metadata": {},
   "outputs": [],
   "source": [
    "from typing import Optional\n",
    "\n",
    "# Definition for a binary tree node.\n",
    "# class TreeNode:\n",
    "#     def __init__(self, val=0, left=None, right=None):\n",
    "#         self.val = val\n",
    "#         self.left = left\n",
    "#         self.right = right\n",
    "\n",
    "class Solution:\n",
    "    def maxAncestorDiff(self, root: Optional[TreeNode]) -> int:\n",
    "        \n",
    "        def dfs(node, cur_max, cur_min):\n",
    "            if not node: return cur_max - cur_min\n",
    "\n",
    "            cur_max = max(cur_max, node.val)\n",
    "            cur_min = min(cur_min, node.val)\n",
    "            \n",
    "            left = dfs(node.left, cur_max, cur_min)\n",
    "            right = dfs(node.right, cur_max, cur_min)\n",
    "            \n",
    "            return max(left, right)\n",
    "        \n",
    "        return dfs(root, root.val, root.val)"
   ]
  }
 ],
 "metadata": {
  "kernelspec": {
   "display_name": "Python 3",
   "language": "python",
   "name": "python3"
  },
  "language_info": {
   "codemirror_mode": {
    "name": "ipython",
    "version": 3
   },
   "file_extension": ".py",
   "mimetype": "text/x-python",
   "name": "python",
   "nbconvert_exporter": "python",
   "pygments_lexer": "ipython3",
   "version": "3.7.3"
  }
 },
 "nbformat": 4,
 "nbformat_minor": 2
}
