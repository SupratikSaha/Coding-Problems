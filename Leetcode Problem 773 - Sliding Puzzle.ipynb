{
 "cells": [
  {
   "cell_type": "markdown",
   "metadata": {},
   "source": [
    "Problem Statement.\n",
    "\n",
    "On an 2 x 3 board, there are five tiles labeled from 1 to 5, and an empty square represented by 0. A move consists of choosing 0 and a 4-directionally adjacent number and swapping it.\n",
    "\n",
    "The state of the board is solved if and only if the board is [[1,2,3],[4,5,0]].\n",
    "\n",
    "Given the puzzle board board, return the least number of moves required so that the state of the board is solved. If it is impossible for the state of the board to be solved, return -1.\n",
    "\n",
    " \n",
    "\n",
    "Example 1:\n",
    "\n",
    "Input: board = [[1,2,3],[4,0,5]]\n",
    "Output: 1\n",
    "Explanation: Swap the 0 and the 5 in one move.\n",
    "\n",
    "Example 2:\n",
    "\n",
    "Input: board = [[1,2,3],[5,4,0]]\n",
    "Output: -1\n",
    "Explanation: No number of moves will make the board solved.\n",
    "\n",
    "Example 3:\n",
    "\n",
    "Input: board = [[4,1,2],[5,0,3]]\n",
    "Output: 5\n",
    "Explanation: 5 is the smallest number of moves that solves the board.\n",
    "An example path:\n",
    "After move 0: [[4,1,2],[5,0,3]]\n",
    "After move 1: [[4,1,2],[0,5,3]]\n",
    "After move 2: [[0,1,2],[4,5,3]]\n",
    "After move 3: [[1,0,2],[4,5,3]]\n",
    "After move 4: [[1,2,0],[4,5,3]]\n",
    "After move 5: [[1,2,3],[4,5,0]]\n",
    "\n",
    "Example 4:\n",
    "\n",
    "Input: board = [[3,2,4],[1,5,0]]\n",
    "Output: 14\n",
    "\n",
    " \n",
    "\n",
    "Constraints:\n",
    "\n",
    "    board.length == 2\n",
    "    board[i].length == 3\n",
    "    0 <= board[i][j] <= 5\n",
    "    Each value board[i][j] is unique."
   ]
  },
  {
   "cell_type": "markdown",
   "metadata": {},
   "source": [
    "# Tuple, Queue and Heap - O(6 * 6!) runtime, O(6) space"
   ]
  },
  {
   "cell_type": "code",
   "execution_count": 1,
   "metadata": {},
   "outputs": [],
   "source": [
    "from typing import List\n",
    "from heapq import heappush, heappop\n",
    "\n",
    "class Solution:\n",
    "    def slidingPuzzle(self, board: List[List[int]]) -> int:\n",
    "        \n",
    "        target = ((1,2,3), (4,5,0))\n",
    "        curState = (tuple(board[0]), tuple(board[1]))\n",
    "        seen = {curState}\n",
    "        \n",
    "        x, y = None, None\n",
    "        for i in range(2):\n",
    "            for j in range(3):\n",
    "                if board[i][j] == 0: x, y = i, j\n",
    "            if x: break\n",
    "        \n",
    "        minheap = [(0, curState, x, y)]\n",
    "        \n",
    "        while minheap:\n",
    "            steps, curr, x, y = heappop(minheap)\n",
    "            if curr == target:\n",
    "                return steps\n",
    "            \n",
    "            newBoard = [list(curr[0]), list(curr[1])]\n",
    "            \n",
    "            for x1, y1 in [(x, y+1), (x, y-1), (x+1, y), (x-1, y)]:\n",
    "                if 0<= x1 < 2 and 0<= y1 < 3:\n",
    "                    newBoard[x][y], newBoard[x1][y1] = newBoard[x1][y1], newBoard[x][y]\n",
    "                    newState = (tuple(newBoard[0]), tuple(newBoard[1]))\n",
    "                    if (newState) not in seen:\n",
    "                        seen.add(newState)\n",
    "                        heappush(minheap, (steps+1, newState, x1, y1))\n",
    "                    newBoard[x][y], newBoard[x1][y1] = newBoard[x1][y1], newBoard[x][y]\n",
    "                        \n",
    "        return -1"
   ]
  },
  {
   "cell_type": "markdown",
   "metadata": {},
   "source": [
    "# String and Queue -  O(6 * 6!) runtime, O(6) space"
   ]
  },
  {
   "cell_type": "code",
   "execution_count": 3,
   "metadata": {},
   "outputs": [],
   "source": [
    "from typing import List\n",
    "\n",
    "class Solution:\n",
    "    def slidingPuzzle(self, board: List[List[int]]) -> int:\n",
    "        \n",
    "        moves, used, cnt = {0: {1, 3}, 1:{0, 2, 4}, 2:{1, 5}, 3:{0, 4}, 4:{1, 3, 5}, 5:{2, 4}}, set(), 0\n",
    "        s = \"\".join(str(c) for row in board for c in row)\n",
    "        q = [(s, s.index(\"0\"))]\n",
    "        while q:\n",
    "            new = set()\n",
    "            for s, i in q:\n",
    "                used.add(s)\n",
    "                if s == \"123450\":\n",
    "                    return cnt\n",
    "                arr = [c for c in s]\n",
    "                for move in moves[i]:\n",
    "                    new_arr = arr[:]\n",
    "                    new_arr[i], new_arr[move] = new_arr[move], new_arr[i]\n",
    "                    new_s = \"\".join(new_arr)\n",
    "                    if new_s not in used:\n",
    "                        new.add((new_s, move))\n",
    "            cnt += 1\n",
    "            q = new\n",
    "        return -1"
   ]
  },
  {
   "cell_type": "code",
   "execution_count": 4,
   "metadata": {},
   "outputs": [
    {
     "data": {
      "text/plain": [
       "-1"
      ]
     },
     "execution_count": 4,
     "metadata": {},
     "output_type": "execute_result"
    }
   ],
   "source": [
    "instance = Solution()\n",
    "instance.slidingPuzzle([[1,2,3],[5,4,0]])"
   ]
  }
 ],
 "metadata": {
  "kernelspec": {
   "display_name": "Python 3",
   "language": "python",
   "name": "python3"
  },
  "language_info": {
   "codemirror_mode": {
    "name": "ipython",
    "version": 3
   },
   "file_extension": ".py",
   "mimetype": "text/x-python",
   "name": "python",
   "nbconvert_exporter": "python",
   "pygments_lexer": "ipython3",
   "version": "3.7.3"
  }
 },
 "nbformat": 4,
 "nbformat_minor": 2
}
