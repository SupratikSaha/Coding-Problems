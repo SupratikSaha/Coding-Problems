{
 "cells": [
  {
   "cell_type": "markdown",
   "metadata": {},
   "source": [
    "    Given an array of strings words (without duplicates), return all the concatenated words in the given list of words.\n",
    "\n",
    "    A concatenated word is defined as a string that is comprised entirely of at least two shorter words in the given array.\n",
    "\n",
    "\n",
    "\n",
    "    Example 1:\n",
    "\n",
    "    Input: words = [\"cat\",\"cats\",\"catsdogcats\",\"dog\",\"dogcatsdog\",\"hippopotamuses\",\"rat\",\"ratcatdogcat\"]\n",
    "    Output: [\"catsdogcats\",\"dogcatsdog\",\"ratcatdogcat\"]\n",
    "    Explanation: \"catsdogcats\" can be concatenated by \"cats\", \"dog\" and \"cats\"; \n",
    "    \"dogcatsdog\" can be concatenated by \"dog\", \"cats\" and \"dog\"; \n",
    "    \"ratcatdogcat\" can be concatenated by \"rat\", \"cat\", \"dog\" and \"cat\".\n",
    "\n",
    "    Example 2:\n",
    "\n",
    "    Input: words = [\"cat\",\"dog\",\"catdog\"]\n",
    "    Output: [\"catdog\"]\n",
    "\n",
    "\n",
    "\n",
    "    Constraints:\n",
    "\n",
    "        1 <= words.length <= 104\n",
    "        0 <= words[i].length <= 1000\n",
    "        words[i] consists of only lowercase English letters.\n",
    "        0 <= sum(words[i].length) <= 6 * 105\n",
    "\n"
   ]
  },
  {
   "cell_type": "markdown",
   "metadata": {},
   "source": [
    "# Stack DFS - O(N * M ^ 2) runtime, O(N * M) space where N is the number of words and M is the length of the longest word"
   ]
  },
  {
   "cell_type": "code",
   "execution_count": 1,
   "metadata": {},
   "outputs": [],
   "source": [
    "from typing import List\n",
    "\n",
    "class Solution:\n",
    "    def findAllConcatenatedWordsInADict(self, words: List[str]) -> List[str]:\n",
    "        S = set(words)\n",
    "        ans = []\n",
    "        for word in words:\n",
    "            if not word: \n",
    "                continue\n",
    "            stack = [0]\n",
    "            seen = {0}\n",
    "            M = len(word)\n",
    "            while stack:\n",
    "                begin = stack.pop()\n",
    "                if begin == M:\n",
    "                    ans.append(word)\n",
    "                    break\n",
    "                for end in range(begin+1, M+1): # just start from begin+1\n",
    "                     if word[begin:end] in S and end not in seen \\\n",
    "                         and not (begin==0 and end==M): # that is, the word must be broken but not a complete one\n",
    "                        stack.append(end)\n",
    "                        seen.add(end)\n",
    "        return ans"
   ]
  },
  {
   "cell_type": "code",
   "execution_count": 2,
   "metadata": {},
   "outputs": [
    {
     "data": {
      "text/plain": [
       "['catsdogcats', 'dogcatsdog', 'ratcatdogcat']"
      ]
     },
     "execution_count": 2,
     "metadata": {},
     "output_type": "execute_result"
    }
   ],
   "source": [
    "instance = Solution()\n",
    "instance.findAllConcatenatedWordsInADict([\"cat\",\"cats\",\"catsdogcats\",\"dog\",\"dogcatsdog\",\"hippopotamuses\",\"rat\",\"ratcatdogcat\"])"
   ]
  }
 ],
 "metadata": {
  "kernelspec": {
   "display_name": "Python 3",
   "language": "python",
   "name": "python3"
  },
  "language_info": {
   "codemirror_mode": {
    "name": "ipython",
    "version": 3
   },
   "file_extension": ".py",
   "mimetype": "text/x-python",
   "name": "python",
   "nbconvert_exporter": "python",
   "pygments_lexer": "ipython3",
   "version": "3.7.3"
  }
 },
 "nbformat": 4,
 "nbformat_minor": 2
}
