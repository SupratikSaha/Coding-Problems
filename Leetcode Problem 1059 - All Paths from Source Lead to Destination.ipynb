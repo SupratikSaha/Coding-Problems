{
 "cells": [
  {
   "cell_type": "markdown",
   "metadata": {},
   "source": [
    "Problem Statement.\n",
    "\n",
    "Given the edges of a directed graph where edges[i] = [ai, bi] indicates there is an edge between nodes ai and bi, and two nodes source and destination of this graph, determine whether or not all paths starting from source eventually, end at destination, that is:\n",
    "\n",
    "    At least one path exists from the source node to the destination node\n",
    "    If a path exists from the source node to a node with no outgoing edges, then that node is equal to destination.\n",
    "    The number of possible paths from source to destination is a finite number.\n",
    "\n",
    "Return true if and only if all roads from source lead to destination.\n",
    "\n",
    " \n",
    "\n",
    "Example 1:\n",
    "\n",
    "Input: n = 3, edges = [[0,1],[0,2]], source = 0, destination = 2\n",
    "Output: false\n",
    "Explanation: It is possible to reach and get stuck on both node 1 and node 2.\n",
    "\n",
    "Example 2:\n",
    "\n",
    "Input: n = 4, edges = [[0,1],[0,3],[1,2],[2,1]], source = 0, destination = 3\n",
    "Output: false\n",
    "Explanation: We have two possibilities: to end at node 3, or to loop over node 1 and node 2 indefinitely.\n",
    "\n",
    "Example 3:\n",
    "\n",
    "Input: n = 4, edges = [[0,1],[0,2],[1,3],[2,3]], source = 0, destination = 3\n",
    "Output: true\n",
    "\n",
    "Example 4:\n",
    "\n",
    "Input: n = 3, edges = [[0,1],[1,1],[1,2]], source = 0, destination = 2\n",
    "Output: false\n",
    "Explanation: All paths from the source node end at the destination node, but there are an infinite number of paths, such as 0-1-2, 0-1-1-2, 0-1-1-1-2, 0-1-1-1-1-2, and so on.\n",
    "\n",
    "Example 5:\n",
    "\n",
    "Input: n = 2, edges = [[0,1],[1,1]], source = 0, destination = 1\n",
    "Output: false\n",
    "Explanation: There is infinite self-loop at destination node.\n",
    "\n",
    " \n",
    "\n",
    "Constraints:\n",
    "\n",
    "    1 <= n <= 104\n",
    "    0 <= edges.length <= 104\n",
    "    edges.length == 2\n",
    "    0 <= ai, bi <= n - 1\n",
    "    0 <= source <= n - 1\n",
    "    0 <= destination <= n - 1\n",
    "    The given graph may have self-loops and parallel edges."
   ]
  },
  {
   "cell_type": "markdown",
   "metadata": {},
   "source": [
    "# DFS with backtrack - O(V+ E) runtime, O(V+ E) space"
   ]
  },
  {
   "cell_type": "code",
   "execution_count": 1,
   "metadata": {},
   "outputs": [],
   "source": [
    "from typing import List\n",
    "from collections import defaultdict\n",
    "\n",
    "class Solution:\n",
    "    def leadsToDestination(self, n: int, edges: List[List[int]], source: int, destination: int) -> bool:\n",
    "        graph = defaultdict(set)\n",
    "        if len(edges) == 0 :\n",
    "            return n == 1\n",
    "\n",
    "        for [s, d] in edges:\n",
    "            graph[s].add(d)\n",
    "\n",
    "        if source not in graph:\n",
    "            return False\n",
    "\n",
    "        visited = set()\n",
    "        def modedfs(graph, node):\n",
    "            if node in visited:\n",
    "                return False\n",
    "\n",
    "            if len(graph[node]) == 0 and node != destination:\n",
    "                return False\n",
    "\n",
    "            visited.add(node)\n",
    "            for neighbs in graph[node]:\n",
    "                t = modedfs(graph, neighbs)\n",
    "                if not t:\n",
    "                    return False\n",
    "            visited.remove(node)\n",
    "            return True\n",
    "\n",
    "        return modedfs(graph, source)"
   ]
  },
  {
   "cell_type": "markdown",
   "metadata": {},
   "source": [
    "# DFS with Set - O(V+ E) runtime, O(V+ E) space"
   ]
  },
  {
   "cell_type": "code",
   "execution_count": 2,
   "metadata": {},
   "outputs": [],
   "source": [
    "from typing import List, Set\n",
    "from collections import defaultdict\n",
    "\n",
    "class Solution:\n",
    "    def leadsToDestination(self, n: int, edges: List[List[int]], source: int, destination: int) -> bool:\n",
    "        self.graph = defaultdict(set)\n",
    "        for start, end in edges:\n",
    "            if start == destination: return False\n",
    "            self.graph[start].add(end)\n",
    "            \n",
    "        return self.allPathsToDestination(source, destination, {source})\n",
    "    \n",
    "    def allPathsToDestination(self, source: int, destination: int, visited: Set[int]):\n",
    "        if source == destination: return True\n",
    "        \n",
    "        if not self.graph[source]: return False\n",
    "        for nextNode in self.graph[source]:\n",
    "            if nextNode == source or nextNode in visited: return False\n",
    "            if not self.allPathsToDestination(nextNode, destination, visited.union({nextNode})): return False\n",
    "            \n",
    "        return True"
   ]
  },
  {
   "cell_type": "code",
   "execution_count": 3,
   "metadata": {},
   "outputs": [
    {
     "data": {
      "text/plain": [
       "False"
      ]
     },
     "execution_count": 3,
     "metadata": {},
     "output_type": "execute_result"
    }
   ],
   "source": [
    "instance = Solution()\n",
    "instance.leadsToDestination(4, [[0,1],[0,3],[1,2],[2,1]], 0, 3)"
   ]
  }
 ],
 "metadata": {
  "kernelspec": {
   "display_name": "Python 3",
   "language": "python",
   "name": "python3"
  },
  "language_info": {
   "codemirror_mode": {
    "name": "ipython",
    "version": 3
   },
   "file_extension": ".py",
   "mimetype": "text/x-python",
   "name": "python",
   "nbconvert_exporter": "python",
   "pygments_lexer": "ipython3",
   "version": "3.7.3"
  }
 },
 "nbformat": 4,
 "nbformat_minor": 2
}
